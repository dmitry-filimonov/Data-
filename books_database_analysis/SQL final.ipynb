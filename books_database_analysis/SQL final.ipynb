{
 "cells": [
  {
   "cell_type": "markdown",
   "id": "600cd3b3",
   "metadata": {},
   "source": [
    "# Анализ базы данных сервиса для чтения книг"
   ]
  },
  {
   "cell_type": "markdown",
   "id": "36417072",
   "metadata": {},
   "source": [
    "**Цель исследования** - проанализировать базу данных для формулирования ценностного предложения для нового продукта.\n",
    "\n",
    "**Ход исследования**\n",
    "\n",
    "Данные для анализа находятся в базе данных, в которой содержится информация о книгах, издательствах, авторах, а также пользовательские обзоры книг. Будет проведён обзор таблиц из базы данных, после чего каждый ключевой параметр будет проанализирован - будут установлены актуальный ассортимент книг, количество обзоров и средняя оценку, наиболее крупные издательства и успешные авторы, а также будут выявлены наиболее активные пользователи самого сервиса. По результатам будет сформирован общий вывод.\n",
    "\n",
    "Таким образом, исследование пройдёт в следующих этапах:\n",
    "\n",
    "1. [**Обзор данных**](#1)\n",
    "2. [**Анализ базы данных**](#2)\n",
    "3. [**Общий вывод**](#3)\n",
    "\n",
    "В ходе исследования в качестве инструментов работы с данными будут использованы следующие библиотеки Python:\n",
    "\n",
    "- `Pandas` - для вывода и хранения данных\n",
    "\n",
    "- `SQLAlchemy` - для запросов к БД\n",
    "___\n",
    "<a id='DB'></a>\n",
    "**Схема базы данных**\n",
    "\n",
    "![DB structure](https://concrete-web-bad.notion.site/image/https%3A%2F%2Fs3-us-west-2.amazonaws.com%2Fsecure.notion-static.com%2F069818d1-0e5c-4d87-a461-0de584ab9c33%2FUntitled_(33).png?table=block&id=bd53c8db-b4fd-49eb-8cc9-572ebb3c9163&spaceId=9e4bd47b-c6e6-4ca3-bcee-279794b47315&width=1640&userId=&cache=v2)"
   ]
  },
  {
   "cell_type": "markdown",
   "id": "6840a5ef",
   "metadata": {},
   "source": [
    "<a id='1'></a>\n",
    "## Обзор данных\n",
    "Изучим каждую таблицу по отдельности"
   ]
  },
  {
   "cell_type": "code",
   "execution_count": 1,
   "id": "8c894c81",
   "metadata": {},
   "outputs": [],
   "source": [
    "# импортируем библиотеки для работы с данными\n",
    "\n",
    "import pandas as pd \n",
    "from sqlalchemy import create_engine "
   ]
  },
  {
   "cell_type": "code",
   "execution_count": 2,
   "id": "e75cec07",
   "metadata": {},
   "outputs": [],
   "source": [
    "# устанавливаем параметры подключения к БД\n",
    "\n",
    "db_config = {'user': 'praktikum_student', # имя пользователя\n",
    "'pwd': 'Sdf4$2;d-d30pp', # пароль\n",
    "'host': 'rc1b-wcoijxj3yxfsf3fs.mdb.yandexcloud.net', \n",
    "'port': 6432, # порт подключения\n",
    "'db': 'data-analyst-final-project-db'} # название базы данных\n",
    "connection_string = 'postgresql://{}:{}@{}:{}/{}'.format(db_config['user'], \n",
    " db_config['pwd'], \n",
    " db_config['host'], \n",
    " db_config['port'], \n",
    " db_config['db']) \n",
    "\n",
    "# сохраняем коннектор\n",
    "\n",
    "engine = create_engine(connection_string, connect_args={'sslmode':'require'}) "
   ]
  },
  {
   "cell_type": "code",
   "execution_count": 3,
   "id": "658b56c6",
   "metadata": {},
   "outputs": [],
   "source": [
    "# напишем функцию для обзора таблиц\n",
    "\n",
    "def overview(table):\n",
    "    \n",
    "    df = pd.io.sql.read_sql_table(table, con = engine)\n",
    "    \n",
    "    df.info()\n",
    "    display(df.sample(5, random_state=0), df.describe(include='object'))\n",
    "    print(f'duplicated rows - {df.duplicated().sum()}')"
   ]
  },
  {
   "cell_type": "markdown",
   "id": "5c67ee1e",
   "metadata": {},
   "source": [
    "### Таблица с данными о книгах"
   ]
  },
  {
   "cell_type": "code",
   "execution_count": 4,
   "id": "f3028844",
   "metadata": {
    "scrolled": false
   },
   "outputs": [
    {
     "name": "stdout",
     "output_type": "stream",
     "text": [
      "<class 'pandas.core.frame.DataFrame'>\n",
      "RangeIndex: 1000 entries, 0 to 999\n",
      "Data columns (total 6 columns):\n",
      " #   Column            Non-Null Count  Dtype         \n",
      "---  ------            --------------  -----         \n",
      " 0   book_id           1000 non-null   int64         \n",
      " 1   author_id         1000 non-null   int64         \n",
      " 2   title             1000 non-null   object        \n",
      " 3   num_pages         1000 non-null   int64         \n",
      " 4   publication_date  1000 non-null   datetime64[ns]\n",
      " 5   publisher_id      1000 non-null   int64         \n",
      "dtypes: datetime64[ns](1), int64(4), object(1)\n",
      "memory usage: 47.0+ KB\n"
     ]
    },
    {
     "data": {
      "text/html": [
       "<div>\n",
       "<style scoped>\n",
       "    .dataframe tbody tr th:only-of-type {\n",
       "        vertical-align: middle;\n",
       "    }\n",
       "\n",
       "    .dataframe tbody tr th {\n",
       "        vertical-align: top;\n",
       "    }\n",
       "\n",
       "    .dataframe thead th {\n",
       "        text-align: right;\n",
       "    }\n",
       "</style>\n",
       "<table border=\"1\" class=\"dataframe\">\n",
       "  <thead>\n",
       "    <tr style=\"text-align: right;\">\n",
       "      <th></th>\n",
       "      <th>book_id</th>\n",
       "      <th>author_id</th>\n",
       "      <th>title</th>\n",
       "      <th>num_pages</th>\n",
       "      <th>publication_date</th>\n",
       "      <th>publisher_id</th>\n",
       "    </tr>\n",
       "  </thead>\n",
       "  <tbody>\n",
       "    <tr>\n",
       "      <th>993</th>\n",
       "      <td>994</td>\n",
       "      <td>408</td>\n",
       "      <td>World War Z: An Oral History of the Zombie War</td>\n",
       "      <td>342</td>\n",
       "      <td>2006-09-12</td>\n",
       "      <td>68</td>\n",
       "    </tr>\n",
       "    <tr>\n",
       "      <th>859</th>\n",
       "      <td>860</td>\n",
       "      <td>425</td>\n",
       "      <td>The Scarlet Letter</td>\n",
       "      <td>279</td>\n",
       "      <td>2003-02-27</td>\n",
       "      <td>212</td>\n",
       "    </tr>\n",
       "    <tr>\n",
       "      <th>298</th>\n",
       "      <td>299</td>\n",
       "      <td>236</td>\n",
       "      <td>Harry Potter and the Chamber of Secrets (Harry...</td>\n",
       "      <td>341</td>\n",
       "      <td>1999-06-02</td>\n",
       "      <td>24</td>\n",
       "    </tr>\n",
       "    <tr>\n",
       "      <th>553</th>\n",
       "      <td>554</td>\n",
       "      <td>67</td>\n",
       "      <td>Scott Pilgrim  Volume 1: Scott Pilgrim's Preci...</td>\n",
       "      <td>168</td>\n",
       "      <td>2004-08-18</td>\n",
       "      <td>196</td>\n",
       "    </tr>\n",
       "    <tr>\n",
       "      <th>672</th>\n",
       "      <td>673</td>\n",
       "      <td>235</td>\n",
       "      <td>The Catcher in the Rye</td>\n",
       "      <td>277</td>\n",
       "      <td>2001-01-30</td>\n",
       "      <td>31</td>\n",
       "    </tr>\n",
       "  </tbody>\n",
       "</table>\n",
       "</div>"
      ],
      "text/plain": [
       "     book_id  author_id                                              title  \\\n",
       "993      994        408     World War Z: An Oral History of the Zombie War   \n",
       "859      860        425                                 The Scarlet Letter   \n",
       "298      299        236  Harry Potter and the Chamber of Secrets (Harry...   \n",
       "553      554         67  Scott Pilgrim  Volume 1: Scott Pilgrim's Preci...   \n",
       "672      673        235                             The Catcher in the Rye   \n",
       "\n",
       "     num_pages publication_date  publisher_id  \n",
       "993        342       2006-09-12            68  \n",
       "859        279       2003-02-27           212  \n",
       "298        341       1999-06-02            24  \n",
       "553        168       2004-08-18           196  \n",
       "672        277       2001-01-30            31  "
      ]
     },
     "metadata": {},
     "output_type": "display_data"
    },
    {
     "data": {
      "text/html": [
       "<div>\n",
       "<style scoped>\n",
       "    .dataframe tbody tr th:only-of-type {\n",
       "        vertical-align: middle;\n",
       "    }\n",
       "\n",
       "    .dataframe tbody tr th {\n",
       "        vertical-align: top;\n",
       "    }\n",
       "\n",
       "    .dataframe thead th {\n",
       "        text-align: right;\n",
       "    }\n",
       "</style>\n",
       "<table border=\"1\" class=\"dataframe\">\n",
       "  <thead>\n",
       "    <tr style=\"text-align: right;\">\n",
       "      <th></th>\n",
       "      <th>title</th>\n",
       "    </tr>\n",
       "  </thead>\n",
       "  <tbody>\n",
       "    <tr>\n",
       "      <th>count</th>\n",
       "      <td>1000</td>\n",
       "    </tr>\n",
       "    <tr>\n",
       "      <th>unique</th>\n",
       "      <td>999</td>\n",
       "    </tr>\n",
       "    <tr>\n",
       "      <th>top</th>\n",
       "      <td>Memoirs of a Geisha</td>\n",
       "    </tr>\n",
       "    <tr>\n",
       "      <th>freq</th>\n",
       "      <td>2</td>\n",
       "    </tr>\n",
       "  </tbody>\n",
       "</table>\n",
       "</div>"
      ],
      "text/plain": [
       "                      title\n",
       "count                  1000\n",
       "unique                  999\n",
       "top     Memoirs of a Geisha\n",
       "freq                      2"
      ]
     },
     "metadata": {},
     "output_type": "display_data"
    },
    {
     "name": "stdout",
     "output_type": "stream",
     "text": [
      "duplicated rows - 0\n"
     ]
    }
   ],
   "source": [
    "# выводим общую информацию и несколько случайных строк\n",
    "\n",
    "overview('books')"
   ]
  },
  {
   "cell_type": "markdown",
   "id": "dea57110",
   "metadata": {},
   "source": [
    "___\n",
    "**Таблица `books`** содержит 1000 строк и 6 столбцов. Согласно схеме БД, поле `book_id` является первичным ключём таблице, внешними ключами для связи с другими таблицами являются поля `author_id` и `publisher_id`. Явные пропуски отсутствуют, даты представлены в корректном формате, что может позволить делать часть запросов к БД без дополнительного преобразования. Полностью задублированные строки отсутствуют, но при этом одно из названий книг встречается в таблице дважды - возможно это переиздание или другая версия книги. В связи с этим в ходе исследования при группировке данных в ходе исследования необходимо использовать уникальный идентификатор вместо названия.\n",
    "___\n",
    "**Описание данных из документации**:\n",
    "\n",
    "- `book_id` — идентификатор книги;\n",
    "- `author_id` — идентификатор автора;\n",
    "- `title` — название книги;\n",
    "- `num_pages` — количество страниц;\n",
    "- `publication_date` — дата публикации книги;\n",
    "- `publisher_id` — идентификатор издателя.\n",
    "___"
   ]
  },
  {
   "cell_type": "markdown",
   "id": "5043b1b3",
   "metadata": {},
   "source": [
    "### Таблица с данными об авторах"
   ]
  },
  {
   "cell_type": "code",
   "execution_count": 5,
   "id": "a1324cb2",
   "metadata": {},
   "outputs": [
    {
     "name": "stdout",
     "output_type": "stream",
     "text": [
      "<class 'pandas.core.frame.DataFrame'>\n",
      "RangeIndex: 636 entries, 0 to 635\n",
      "Data columns (total 2 columns):\n",
      " #   Column     Non-Null Count  Dtype \n",
      "---  ------     --------------  ----- \n",
      " 0   author_id  636 non-null    int64 \n",
      " 1   author     636 non-null    object\n",
      "dtypes: int64(1), object(1)\n",
      "memory usage: 10.1+ KB\n"
     ]
    },
    {
     "data": {
      "text/html": [
       "<div>\n",
       "<style scoped>\n",
       "    .dataframe tbody tr th:only-of-type {\n",
       "        vertical-align: middle;\n",
       "    }\n",
       "\n",
       "    .dataframe tbody tr th {\n",
       "        vertical-align: top;\n",
       "    }\n",
       "\n",
       "    .dataframe thead th {\n",
       "        text-align: right;\n",
       "    }\n",
       "</style>\n",
       "<table border=\"1\" class=\"dataframe\">\n",
       "  <thead>\n",
       "    <tr style=\"text-align: right;\">\n",
       "      <th></th>\n",
       "      <th>author_id</th>\n",
       "      <th>author</th>\n",
       "    </tr>\n",
       "  </thead>\n",
       "  <tbody>\n",
       "    <tr>\n",
       "      <th>453</th>\n",
       "      <td>454</td>\n",
       "      <td>Orson Scott Card/Piotr W. Cholewa</td>\n",
       "    </tr>\n",
       "    <tr>\n",
       "      <th>482</th>\n",
       "      <td>483</td>\n",
       "      <td>Primo Levi/Stuart J. Woolf/Philip Roth</td>\n",
       "    </tr>\n",
       "    <tr>\n",
       "      <th>516</th>\n",
       "      <td>517</td>\n",
       "      <td>Rohinton Mistry</td>\n",
       "    </tr>\n",
       "    <tr>\n",
       "      <th>542</th>\n",
       "      <td>543</td>\n",
       "      <td>Stephen King/Bernie Wrightson</td>\n",
       "    </tr>\n",
       "    <tr>\n",
       "      <th>85</th>\n",
       "      <td>86</td>\n",
       "      <td>Charles Dickens/Nicola Bradbury/Hablot Knight ...</td>\n",
       "    </tr>\n",
       "  </tbody>\n",
       "</table>\n",
       "</div>"
      ],
      "text/plain": [
       "     author_id                                             author\n",
       "453        454                  Orson Scott Card/Piotr W. Cholewa\n",
       "482        483             Primo Levi/Stuart J. Woolf/Philip Roth\n",
       "516        517                                    Rohinton Mistry\n",
       "542        543                      Stephen King/Bernie Wrightson\n",
       "85          86  Charles Dickens/Nicola Bradbury/Hablot Knight ..."
      ]
     },
     "metadata": {},
     "output_type": "display_data"
    },
    {
     "data": {
      "text/html": [
       "<div>\n",
       "<style scoped>\n",
       "    .dataframe tbody tr th:only-of-type {\n",
       "        vertical-align: middle;\n",
       "    }\n",
       "\n",
       "    .dataframe tbody tr th {\n",
       "        vertical-align: top;\n",
       "    }\n",
       "\n",
       "    .dataframe thead th {\n",
       "        text-align: right;\n",
       "    }\n",
       "</style>\n",
       "<table border=\"1\" class=\"dataframe\">\n",
       "  <thead>\n",
       "    <tr style=\"text-align: right;\">\n",
       "      <th></th>\n",
       "      <th>author</th>\n",
       "    </tr>\n",
       "  </thead>\n",
       "  <tbody>\n",
       "    <tr>\n",
       "      <th>count</th>\n",
       "      <td>636</td>\n",
       "    </tr>\n",
       "    <tr>\n",
       "      <th>unique</th>\n",
       "      <td>636</td>\n",
       "    </tr>\n",
       "    <tr>\n",
       "      <th>top</th>\n",
       "      <td>A.S. Byatt</td>\n",
       "    </tr>\n",
       "    <tr>\n",
       "      <th>freq</th>\n",
       "      <td>1</td>\n",
       "    </tr>\n",
       "  </tbody>\n",
       "</table>\n",
       "</div>"
      ],
      "text/plain": [
       "            author\n",
       "count          636\n",
       "unique         636\n",
       "top     A.S. Byatt\n",
       "freq             1"
      ]
     },
     "metadata": {},
     "output_type": "display_data"
    },
    {
     "name": "stdout",
     "output_type": "stream",
     "text": [
      "duplicated rows - 0\n"
     ]
    }
   ],
   "source": [
    "# выводим общую информацию и несколько случайных строк\n",
    "\n",
    "overview('authors')"
   ]
  },
  {
   "cell_type": "markdown",
   "id": "941dc7bc",
   "metadata": {},
   "source": [
    "___\n",
    "**Таблица `authors`** содержит 636 строк и 2 столбца. Согласно [*схеме БД*](#DB), поле `author_id` является первичным ключём таблицы. Явных пропусков нет и полностью задублированных строк нет, но данные потенциально могут содержать неявные дубликаты - например, в поле с уникальным идентификатором автора `543` можно увидеть запись `Stephen King/Bernie Wrightson`, что может означать соавторство этих двух писателей. Но при этом [**Bernie Wrightson**](https://en.wikipedia.org/wiki/Bernie_Wrightson) не книжный писатель - он является художником и автором комиксов, известным в том числе благодоря созданию иллюстрации для книг авторста [**Stephen King**]( https://en.wikipedia.org/wiki/Stephen_King). В таком случае книга с таким `author_id` на самом деле должна относится к книгам Стивена Кинга, но она не будет учтена при группировке данных по уникальному имени или идентификатору автора.\n",
    "___\n",
    "**Описание данных из документации**:\n",
    "\n",
    "- `author_id` — идентификатор автора;\n",
    "- `author` — имя автора.\n",
    "\n",
    "___"
   ]
  },
  {
   "cell_type": "markdown",
   "id": "7f3513ad",
   "metadata": {},
   "source": [
    "### Таблица с данными об издательствах"
   ]
  },
  {
   "cell_type": "code",
   "execution_count": 6,
   "id": "da7f98f3",
   "metadata": {},
   "outputs": [
    {
     "name": "stdout",
     "output_type": "stream",
     "text": [
      "<class 'pandas.core.frame.DataFrame'>\n",
      "RangeIndex: 340 entries, 0 to 339\n",
      "Data columns (total 2 columns):\n",
      " #   Column        Non-Null Count  Dtype \n",
      "---  ------        --------------  ----- \n",
      " 0   publisher_id  340 non-null    int64 \n",
      " 1   publisher     340 non-null    object\n",
      "dtypes: int64(1), object(1)\n",
      "memory usage: 5.4+ KB\n"
     ]
    },
    {
     "data": {
      "text/html": [
       "<div>\n",
       "<style scoped>\n",
       "    .dataframe tbody tr th:only-of-type {\n",
       "        vertical-align: middle;\n",
       "    }\n",
       "\n",
       "    .dataframe tbody tr th {\n",
       "        vertical-align: top;\n",
       "    }\n",
       "\n",
       "    .dataframe thead th {\n",
       "        text-align: right;\n",
       "    }\n",
       "</style>\n",
       "<table border=\"1\" class=\"dataframe\">\n",
       "  <thead>\n",
       "    <tr style=\"text-align: right;\">\n",
       "      <th></th>\n",
       "      <th>publisher_id</th>\n",
       "      <th>publisher</th>\n",
       "    </tr>\n",
       "  </thead>\n",
       "  <tbody>\n",
       "    <tr>\n",
       "      <th>225</th>\n",
       "      <td>226</td>\n",
       "      <td>Plume</td>\n",
       "    </tr>\n",
       "    <tr>\n",
       "      <th>271</th>\n",
       "      <td>272</td>\n",
       "      <td>Simon &amp; Schuster Simon Pulse</td>\n",
       "    </tr>\n",
       "    <tr>\n",
       "      <th>204</th>\n",
       "      <td>205</td>\n",
       "      <td>Pan Childrens</td>\n",
       "    </tr>\n",
       "    <tr>\n",
       "      <th>274</th>\n",
       "      <td>275</td>\n",
       "      <td>Simon Schuster</td>\n",
       "    </tr>\n",
       "    <tr>\n",
       "      <th>299</th>\n",
       "      <td>300</td>\n",
       "      <td>Turtleback</td>\n",
       "    </tr>\n",
       "  </tbody>\n",
       "</table>\n",
       "</div>"
      ],
      "text/plain": [
       "     publisher_id                     publisher\n",
       "225           226                         Plume\n",
       "271           272  Simon & Schuster Simon Pulse\n",
       "204           205                 Pan Childrens\n",
       "274           275                Simon Schuster\n",
       "299           300                    Turtleback"
      ]
     },
     "metadata": {},
     "output_type": "display_data"
    },
    {
     "data": {
      "text/html": [
       "<div>\n",
       "<style scoped>\n",
       "    .dataframe tbody tr th:only-of-type {\n",
       "        vertical-align: middle;\n",
       "    }\n",
       "\n",
       "    .dataframe tbody tr th {\n",
       "        vertical-align: top;\n",
       "    }\n",
       "\n",
       "    .dataframe thead th {\n",
       "        text-align: right;\n",
       "    }\n",
       "</style>\n",
       "<table border=\"1\" class=\"dataframe\">\n",
       "  <thead>\n",
       "    <tr style=\"text-align: right;\">\n",
       "      <th></th>\n",
       "      <th>publisher</th>\n",
       "    </tr>\n",
       "  </thead>\n",
       "  <tbody>\n",
       "    <tr>\n",
       "      <th>count</th>\n",
       "      <td>340</td>\n",
       "    </tr>\n",
       "    <tr>\n",
       "      <th>unique</th>\n",
       "      <td>340</td>\n",
       "    </tr>\n",
       "    <tr>\n",
       "      <th>top</th>\n",
       "      <td>Ace</td>\n",
       "    </tr>\n",
       "    <tr>\n",
       "      <th>freq</th>\n",
       "      <td>1</td>\n",
       "    </tr>\n",
       "  </tbody>\n",
       "</table>\n",
       "</div>"
      ],
      "text/plain": [
       "       publisher\n",
       "count        340\n",
       "unique       340\n",
       "top          Ace\n",
       "freq           1"
      ]
     },
     "metadata": {},
     "output_type": "display_data"
    },
    {
     "name": "stdout",
     "output_type": "stream",
     "text": [
      "duplicated rows - 0\n"
     ]
    }
   ],
   "source": [
    "# выводим общую информацию и несколько случайных строк\n",
    "\n",
    "overview('publishers')"
   ]
  },
  {
   "cell_type": "markdown",
   "id": "c81e38cf",
   "metadata": {},
   "source": [
    "___\n",
    "**Таблица `publishers`** содержит 340 строк и 2 столбца. Согласно [*схеме БД*](#DB), поле `publisher_id` является первичным ключём таблицы.\n",
    "\n",
    "Описание данных из документации:\n",
    "\n",
    "- `publisher_id` — идентификатор издательства;\n",
    "- `publisher` — название издательства;\n",
    "___"
   ]
  },
  {
   "cell_type": "markdown",
   "id": "523dab0f",
   "metadata": {},
   "source": [
    "### Таблица с данными о пользовательских оценках"
   ]
  },
  {
   "cell_type": "code",
   "execution_count": 7,
   "id": "7517655b",
   "metadata": {},
   "outputs": [
    {
     "name": "stdout",
     "output_type": "stream",
     "text": [
      "<class 'pandas.core.frame.DataFrame'>\n",
      "RangeIndex: 6456 entries, 0 to 6455\n",
      "Data columns (total 4 columns):\n",
      " #   Column     Non-Null Count  Dtype \n",
      "---  ------     --------------  ----- \n",
      " 0   rating_id  6456 non-null   int64 \n",
      " 1   book_id    6456 non-null   int64 \n",
      " 2   username   6456 non-null   object\n",
      " 3   rating     6456 non-null   int64 \n",
      "dtypes: int64(3), object(1)\n",
      "memory usage: 201.9+ KB\n"
     ]
    },
    {
     "data": {
      "text/html": [
       "<div>\n",
       "<style scoped>\n",
       "    .dataframe tbody tr th:only-of-type {\n",
       "        vertical-align: middle;\n",
       "    }\n",
       "\n",
       "    .dataframe tbody tr th {\n",
       "        vertical-align: top;\n",
       "    }\n",
       "\n",
       "    .dataframe thead th {\n",
       "        text-align: right;\n",
       "    }\n",
       "</style>\n",
       "<table border=\"1\" class=\"dataframe\">\n",
       "  <thead>\n",
       "    <tr style=\"text-align: right;\">\n",
       "      <th></th>\n",
       "      <th>rating_id</th>\n",
       "      <th>book_id</th>\n",
       "      <th>username</th>\n",
       "      <th>rating</th>\n",
       "    </tr>\n",
       "  </thead>\n",
       "  <tbody>\n",
       "    <tr>\n",
       "      <th>5434</th>\n",
       "      <td>5435</td>\n",
       "      <td>838</td>\n",
       "      <td>debra43</td>\n",
       "      <td>4</td>\n",
       "    </tr>\n",
       "    <tr>\n",
       "      <th>4215</th>\n",
       "      <td>4216</td>\n",
       "      <td>677</td>\n",
       "      <td>edwardbrown</td>\n",
       "      <td>4</td>\n",
       "    </tr>\n",
       "    <tr>\n",
       "      <th>2232</th>\n",
       "      <td>2233</td>\n",
       "      <td>359</td>\n",
       "      <td>wknight</td>\n",
       "      <td>4</td>\n",
       "    </tr>\n",
       "    <tr>\n",
       "      <th>4583</th>\n",
       "      <td>4584</td>\n",
       "      <td>722</td>\n",
       "      <td>amymckenzie</td>\n",
       "      <td>4</td>\n",
       "    </tr>\n",
       "    <tr>\n",
       "      <th>4312</th>\n",
       "      <td>4313</td>\n",
       "      <td>692</td>\n",
       "      <td>jasongoodman</td>\n",
       "      <td>3</td>\n",
       "    </tr>\n",
       "  </tbody>\n",
       "</table>\n",
       "</div>"
      ],
      "text/plain": [
       "      rating_id  book_id      username  rating\n",
       "5434       5435      838       debra43       4\n",
       "4215       4216      677   edwardbrown       4\n",
       "2232       2233      359       wknight       4\n",
       "4583       4584      722   amymckenzie       4\n",
       "4312       4313      692  jasongoodman       3"
      ]
     },
     "metadata": {},
     "output_type": "display_data"
    },
    {
     "data": {
      "text/html": [
       "<div>\n",
       "<style scoped>\n",
       "    .dataframe tbody tr th:only-of-type {\n",
       "        vertical-align: middle;\n",
       "    }\n",
       "\n",
       "    .dataframe tbody tr th {\n",
       "        vertical-align: top;\n",
       "    }\n",
       "\n",
       "    .dataframe thead th {\n",
       "        text-align: right;\n",
       "    }\n",
       "</style>\n",
       "<table border=\"1\" class=\"dataframe\">\n",
       "  <thead>\n",
       "    <tr style=\"text-align: right;\">\n",
       "      <th></th>\n",
       "      <th>username</th>\n",
       "    </tr>\n",
       "  </thead>\n",
       "  <tbody>\n",
       "    <tr>\n",
       "      <th>count</th>\n",
       "      <td>6456</td>\n",
       "    </tr>\n",
       "    <tr>\n",
       "      <th>unique</th>\n",
       "      <td>160</td>\n",
       "    </tr>\n",
       "    <tr>\n",
       "      <th>top</th>\n",
       "      <td>martinadam</td>\n",
       "    </tr>\n",
       "    <tr>\n",
       "      <th>freq</th>\n",
       "      <td>56</td>\n",
       "    </tr>\n",
       "  </tbody>\n",
       "</table>\n",
       "</div>"
      ],
      "text/plain": [
       "          username\n",
       "count         6456\n",
       "unique         160\n",
       "top     martinadam\n",
       "freq            56"
      ]
     },
     "metadata": {},
     "output_type": "display_data"
    },
    {
     "name": "stdout",
     "output_type": "stream",
     "text": [
      "duplicated rows - 0\n"
     ]
    }
   ],
   "source": [
    "# выводим общую информацию и несколько случайных строк\n",
    "\n",
    "overview('ratings')"
   ]
  },
  {
   "cell_type": "markdown",
   "id": "5668a27b",
   "metadata": {},
   "source": [
    "___\n",
    "**Таблица `ratings`** содержит 6,456 строк и 4 столбца. При этом все оценки выставили всего 160 уникальных пользователей. Согласно [*схеме БД*](#DB), поле `rating_id` является первичным ключём таблице, внешним ключом для связи с другими таблицами является `book_id`. \n",
    "\n",
    "Описание данных из документации:\n",
    "\n",
    "- `rating_id` — идентификатор оценки;\n",
    "- `book_id` — идентификатор книги;\n",
    "- `username` — имя пользователя, оставившего оценку;\n",
    "- `rating` — оценка книги."
   ]
  },
  {
   "cell_type": "markdown",
   "id": "66f795bc",
   "metadata": {},
   "source": [
    "### Таблица с данными о пользовательских обзорах книг"
   ]
  },
  {
   "cell_type": "code",
   "execution_count": 8,
   "id": "76ccd555",
   "metadata": {},
   "outputs": [
    {
     "name": "stdout",
     "output_type": "stream",
     "text": [
      "<class 'pandas.core.frame.DataFrame'>\n",
      "RangeIndex: 2793 entries, 0 to 2792\n",
      "Data columns (total 4 columns):\n",
      " #   Column     Non-Null Count  Dtype \n",
      "---  ------     --------------  ----- \n",
      " 0   review_id  2793 non-null   int64 \n",
      " 1   book_id    2793 non-null   int64 \n",
      " 2   username   2793 non-null   object\n",
      " 3   text       2793 non-null   object\n",
      "dtypes: int64(2), object(2)\n",
      "memory usage: 87.4+ KB\n"
     ]
    },
    {
     "data": {
      "text/html": [
       "<div>\n",
       "<style scoped>\n",
       "    .dataframe tbody tr th:only-of-type {\n",
       "        vertical-align: middle;\n",
       "    }\n",
       "\n",
       "    .dataframe tbody tr th {\n",
       "        vertical-align: top;\n",
       "    }\n",
       "\n",
       "    .dataframe thead th {\n",
       "        text-align: right;\n",
       "    }\n",
       "</style>\n",
       "<table border=\"1\" class=\"dataframe\">\n",
       "  <thead>\n",
       "    <tr style=\"text-align: right;\">\n",
       "      <th></th>\n",
       "      <th>review_id</th>\n",
       "      <th>book_id</th>\n",
       "      <th>username</th>\n",
       "      <th>text</th>\n",
       "    </tr>\n",
       "  </thead>\n",
       "  <tbody>\n",
       "    <tr>\n",
       "      <th>1533</th>\n",
       "      <td>1532</td>\n",
       "      <td>556</td>\n",
       "      <td>roberto26</td>\n",
       "      <td>People floor assume like new knowledge yet. Re...</td>\n",
       "    </tr>\n",
       "    <tr>\n",
       "      <th>2392</th>\n",
       "      <td>2392</td>\n",
       "      <td>860</td>\n",
       "      <td>fharris</td>\n",
       "      <td>Walk would relate worker two because financial...</td>\n",
       "    </tr>\n",
       "    <tr>\n",
       "      <th>502</th>\n",
       "      <td>788</td>\n",
       "      <td>292</td>\n",
       "      <td>nicoleburns</td>\n",
       "      <td>Bag early hotel. Foot fly quality.</td>\n",
       "    </tr>\n",
       "    <tr>\n",
       "      <th>1515</th>\n",
       "      <td>1514</td>\n",
       "      <td>549</td>\n",
       "      <td>ryanfranco</td>\n",
       "      <td>Hit hotel meet through cause standard behind. ...</td>\n",
       "    </tr>\n",
       "    <tr>\n",
       "      <th>1858</th>\n",
       "      <td>1857</td>\n",
       "      <td>674</td>\n",
       "      <td>edwardbrown</td>\n",
       "      <td>Change forward during current. Writer ready po...</td>\n",
       "    </tr>\n",
       "  </tbody>\n",
       "</table>\n",
       "</div>"
      ],
      "text/plain": [
       "      review_id  book_id     username  \\\n",
       "1533       1532      556    roberto26   \n",
       "2392       2392      860      fharris   \n",
       "502         788      292  nicoleburns   \n",
       "1515       1514      549   ryanfranco   \n",
       "1858       1857      674  edwardbrown   \n",
       "\n",
       "                                                   text  \n",
       "1533  People floor assume like new knowledge yet. Re...  \n",
       "2392  Walk would relate worker two because financial...  \n",
       "502                  Bag early hotel. Foot fly quality.  \n",
       "1515  Hit hotel meet through cause standard behind. ...  \n",
       "1858  Change forward during current. Writer ready po...  "
      ]
     },
     "metadata": {},
     "output_type": "display_data"
    },
    {
     "data": {
      "text/html": [
       "<div>\n",
       "<style scoped>\n",
       "    .dataframe tbody tr th:only-of-type {\n",
       "        vertical-align: middle;\n",
       "    }\n",
       "\n",
       "    .dataframe tbody tr th {\n",
       "        vertical-align: top;\n",
       "    }\n",
       "\n",
       "    .dataframe thead th {\n",
       "        text-align: right;\n",
       "    }\n",
       "</style>\n",
       "<table border=\"1\" class=\"dataframe\">\n",
       "  <thead>\n",
       "    <tr style=\"text-align: right;\">\n",
       "      <th></th>\n",
       "      <th>username</th>\n",
       "      <th>text</th>\n",
       "    </tr>\n",
       "  </thead>\n",
       "  <tbody>\n",
       "    <tr>\n",
       "      <th>count</th>\n",
       "      <td>2793</td>\n",
       "      <td>2793</td>\n",
       "    </tr>\n",
       "    <tr>\n",
       "      <th>unique</th>\n",
       "      <td>160</td>\n",
       "      <td>2793</td>\n",
       "    </tr>\n",
       "    <tr>\n",
       "      <th>top</th>\n",
       "      <td>susan85</td>\n",
       "      <td>Mention society tell send professor analysis. ...</td>\n",
       "    </tr>\n",
       "    <tr>\n",
       "      <th>freq</th>\n",
       "      <td>29</td>\n",
       "      <td>1</td>\n",
       "    </tr>\n",
       "  </tbody>\n",
       "</table>\n",
       "</div>"
      ],
      "text/plain": [
       "       username                                               text\n",
       "count      2793                                               2793\n",
       "unique      160                                               2793\n",
       "top     susan85  Mention society tell send professor analysis. ...\n",
       "freq         29                                                  1"
      ]
     },
     "metadata": {},
     "output_type": "display_data"
    },
    {
     "name": "stdout",
     "output_type": "stream",
     "text": [
      "duplicated rows - 0\n"
     ]
    }
   ],
   "source": [
    "# выводим общую информацию и несколько случайных строк\n",
    "\n",
    "overview('reviews')"
   ]
  },
  {
   "cell_type": "markdown",
   "id": "3d903a59",
   "metadata": {},
   "source": [
    "___\n",
    "**Таблица `reviews`** содержит 2,793 строк и 4 столбца. Согласно [*схеме БД*](#DB), поле `review_id` является первичным ключём таблице, внешним ключом для связи с другими таблицами является `book_id`. Набор полей практически полностью совпадает с таблицей `ratings`, что ставит под вопрос целесообразность использования двух разных таблиц для хранения данных. Количество уникальных `username` также совпадает - вероятно что это одни и те же пользователи.\n",
    "___\n",
    "**Описание данных из документации**:\n",
    "\n",
    "- `review_id` — идентификатор обзора;\n",
    "- `book_id` — идентификатор книги;\n",
    "- `username` — имя пользователя, написавшего обзор;\n",
    "- `text` — текст обзора.\n",
    "\n",
    "___"
   ]
  },
  {
   "cell_type": "markdown",
   "id": "450fa88c",
   "metadata": {},
   "source": [
    "### Итоги"
   ]
  },
  {
   "cell_type": "markdown",
   "id": "83066898",
   "metadata": {},
   "source": [
    "В ходе обзора было настроено подлючение к БД, после чего каждая таблица была проанализирована на предмет наличия пропусков и корректности типа хранимых данных.\n",
    "___\n",
    "\n",
    "Краткое резюме обзора:\n",
    "\n",
    "- **Таблица `books`** содержит 1000 строк и 6 столбцов. Согласно схеме БД, поле `book_id` является первичным ключём таблице, внешними ключами для связи с другими таблицами являются поля `author_id` и `publisher_id`. Явные пропуски отсутствуют, даты представлены в корректном формате, что может позволить делать часть запросов к БД без дополнительного преобразования. Полностью задублированные строки отсутствуют, но при этом одно из названий книг встречается в таблице дважды - возможно это переиздание или другая версия книги. В связи с этим в ходе исследования при группировке данных в ходе исследования необходимо использовать уникальный идентификатор вместо названия.\n",
    "\n",
    "\n",
    "- **Таблица `authors`** содержит данные об авторах, состоит из 636 строк и 2 столбцов. Поле `author_id` является первичным ключём таблицы. Явных пропусков нет, но данные потенциально могут содержать неявные дубликаты - например, в поле с уникальным идентификатором автора `543` можно увидеть запись `Stephen King/Bernie Wrightson`, что может означать соавторство этих двух писателей. Но при этом [**Bernie Wrightson**](https://en.wikipedia.org/wiki/Bernie_Wrightson) не книжный писатель - он является художником и автором комиксов, известным в том числе благодоря созданию иллюстрации для книг авторста [**Stephen King**]( https://en.wikipedia.org/wiki/Stephen_King). В таком случае книга с таким `author_id` на самом деле должна относится к книгам Стивена Кинга, но она не будет учтена при группировке данных по уникальному имени или идентификатору автора.\n",
    "\n",
    "\n",
    "- **Таблица `publishers`** содержит данные об издательствах, состоит из 340 строк и 2 столбцов. Поле `publisher_id` является первичным ключём таблицы.\n",
    "\n",
    "\n",
    "- **Таблица `ratings`** содержит данные о пользовательских оценках книг, состоит из 6,456 строк и 4 столбцов. При этом все оценки выставили всего 160 уникальных пользователей. Поле `rating_id` является первичным ключём таблице, внешним ключом для связи с другими таблицами является `book_id`.\n",
    "\n",
    "\n",
    "- **Таблица `reviews`** содержит данные о пользовательских обзорах на книги, состоит из 2,793 строк и 4 столбцов. Поле `review_id` является первичным ключём таблице, внешним ключом для связи с другими таблицами является `book_id`. Набор полей практически полностью совпадает с таблицей `ratings`, что ставит под вопрос целесообразность использования двух разных таблиц для хранения данных. Количество уникальных `username` также совпадает - вероятно что это одни и те же пользователи.\n",
    "___"
   ]
  },
  {
   "cell_type": "markdown",
   "id": "82863f68",
   "metadata": {},
   "source": [
    "<a id='2'></a>\n",
    "## Анализ базы данных"
   ]
  },
  {
   "cell_type": "markdown",
   "id": "27e071a5",
   "metadata": {},
   "source": [
    "Исследование базы данных будет поделено на следующие этапы:\n",
    "\n",
    "- [**Установление размера актуального ассортимента книг**](#2.1)\n",
    "- [**Анализ количества обзоров и средней оценки книг**](#2.2)\n",
    "- [**Определение книжных издателей**](#2.3)\n",
    "- [**Выделение наиболее успешных авторов книг**](#2.4)\n",
    "- [**Анализ наиболее активных пользователей**](#2.5)"
   ]
  },
  {
   "cell_type": "markdown",
   "id": "f697db14",
   "metadata": {},
   "source": [
    "<a id='2.1'></a>\n",
    "### Установление размера актуального ассортимента книг\n",
    "\n",
    "Посчитаем, сколько книг вышло после 1 января 2000 года:"
   ]
  },
  {
   "cell_type": "code",
   "execution_count": 9,
   "id": "df6b0fce",
   "metadata": {},
   "outputs": [
    {
     "data": {
      "text/html": [
       "<div>\n",
       "<style scoped>\n",
       "    .dataframe tbody tr th:only-of-type {\n",
       "        vertical-align: middle;\n",
       "    }\n",
       "\n",
       "    .dataframe tbody tr th {\n",
       "        vertical-align: top;\n",
       "    }\n",
       "\n",
       "    .dataframe thead th {\n",
       "        text-align: right;\n",
       "    }\n",
       "</style>\n",
       "<table border=\"1\" class=\"dataframe\">\n",
       "  <thead>\n",
       "    <tr style=\"text-align: right;\">\n",
       "      <th></th>\n",
       "      <th>books_count</th>\n",
       "    </tr>\n",
       "  </thead>\n",
       "  <tbody>\n",
       "    <tr>\n",
       "      <th>0</th>\n",
       "      <td>819</td>\n",
       "    </tr>\n",
       "  </tbody>\n",
       "</table>\n",
       "</div>"
      ],
      "text/plain": [
       "   books_count\n",
       "0          819"
      ]
     },
     "execution_count": 9,
     "metadata": {},
     "output_type": "execute_result"
    }
   ],
   "source": [
    "# формируем запрос к БД\n",
    "# используем данные таблицы 'books'\n",
    "\n",
    "query = ('''\n",
    "\n",
    "SELECT COUNT(book_id) as books_count\n",
    "FROM books\n",
    "WHERE DATE_TRUNC('day', CAST(publication_date AS timestamp)) > '2000-01-01';\n",
    "\n",
    "''')\n",
    "\n",
    "# выводим результат\n",
    "\n",
    "pd.io.sql.read_sql(query, con = engine) "
   ]
  },
  {
   "cell_type": "markdown",
   "id": "46310244",
   "metadata": {},
   "source": [
    "- В таблице содержится 819 уникальных книг, выпущенных после 01.01.2001, что составляет более 80% всего ассортимента - это указывает на новизну и актульность большей части каталога."
   ]
  },
  {
   "cell_type": "markdown",
   "id": "f639e677",
   "metadata": {},
   "source": [
    "<a id='2.2'></a>\n",
    "### Анализ количества обзоров и средней оценки книг\n",
    "Для каждой книги посчитаем количество обзоров и среднюю оценку:\n"
   ]
  },
  {
   "cell_type": "code",
   "execution_count": 10,
   "id": "361a858a",
   "metadata": {},
   "outputs": [
    {
     "data": {
      "text/html": [
       "<div>\n",
       "<style scoped>\n",
       "    .dataframe tbody tr th:only-of-type {\n",
       "        vertical-align: middle;\n",
       "    }\n",
       "\n",
       "    .dataframe tbody tr th {\n",
       "        vertical-align: top;\n",
       "    }\n",
       "\n",
       "    .dataframe thead th {\n",
       "        text-align: right;\n",
       "    }\n",
       "</style>\n",
       "<table border=\"1\" class=\"dataframe\">\n",
       "  <thead>\n",
       "    <tr style=\"text-align: right;\">\n",
       "      <th></th>\n",
       "      <th>book_title</th>\n",
       "      <th>reviews_count</th>\n",
       "      <th>average_rating</th>\n",
       "    </tr>\n",
       "  </thead>\n",
       "  <tbody>\n",
       "    <tr>\n",
       "      <th>0</th>\n",
       "      <td>Twilight (Twilight  #1)</td>\n",
       "      <td>7</td>\n",
       "      <td>3.66</td>\n",
       "    </tr>\n",
       "    <tr>\n",
       "      <th>1</th>\n",
       "      <td>Water for Elephants</td>\n",
       "      <td>6</td>\n",
       "      <td>3.98</td>\n",
       "    </tr>\n",
       "    <tr>\n",
       "      <th>2</th>\n",
       "      <td>The Glass Castle</td>\n",
       "      <td>6</td>\n",
       "      <td>4.21</td>\n",
       "    </tr>\n",
       "    <tr>\n",
       "      <th>3</th>\n",
       "      <td>Harry Potter and the Prisoner of Azkaban (Harr...</td>\n",
       "      <td>6</td>\n",
       "      <td>4.41</td>\n",
       "    </tr>\n",
       "    <tr>\n",
       "      <th>4</th>\n",
       "      <td>The Curious Incident of the Dog in the Night-Time</td>\n",
       "      <td>6</td>\n",
       "      <td>4.08</td>\n",
       "    </tr>\n",
       "    <tr>\n",
       "      <th>...</th>\n",
       "      <td>...</td>\n",
       "      <td>...</td>\n",
       "      <td>...</td>\n",
       "    </tr>\n",
       "    <tr>\n",
       "      <th>995</th>\n",
       "      <td>Anne Rice's The Vampire Lestat: A Graphic Novel</td>\n",
       "      <td>0</td>\n",
       "      <td>3.67</td>\n",
       "    </tr>\n",
       "    <tr>\n",
       "      <th>996</th>\n",
       "      <td>The Natural Way to Draw</td>\n",
       "      <td>0</td>\n",
       "      <td>3.00</td>\n",
       "    </tr>\n",
       "    <tr>\n",
       "      <th>997</th>\n",
       "      <td>The Cat in the Hat and Other Dr. Seuss Favorites</td>\n",
       "      <td>0</td>\n",
       "      <td>5.00</td>\n",
       "    </tr>\n",
       "    <tr>\n",
       "      <th>998</th>\n",
       "      <td>Essential Tales and Poems</td>\n",
       "      <td>0</td>\n",
       "      <td>4.00</td>\n",
       "    </tr>\n",
       "    <tr>\n",
       "      <th>999</th>\n",
       "      <td>Disney's Beauty and the Beast (A Little Golden...</td>\n",
       "      <td>0</td>\n",
       "      <td>4.00</td>\n",
       "    </tr>\n",
       "  </tbody>\n",
       "</table>\n",
       "<p>1000 rows × 3 columns</p>\n",
       "</div>"
      ],
      "text/plain": [
       "                                            book_title  reviews_count  \\\n",
       "0                              Twilight (Twilight  #1)              7   \n",
       "1                                  Water for Elephants              6   \n",
       "2                                     The Glass Castle              6   \n",
       "3    Harry Potter and the Prisoner of Azkaban (Harr...              6   \n",
       "4    The Curious Incident of the Dog in the Night-Time              6   \n",
       "..                                                 ...            ...   \n",
       "995    Anne Rice's The Vampire Lestat: A Graphic Novel              0   \n",
       "996                            The Natural Way to Draw              0   \n",
       "997   The Cat in the Hat and Other Dr. Seuss Favorites              0   \n",
       "998                          Essential Tales and Poems              0   \n",
       "999  Disney's Beauty and the Beast (A Little Golden...              0   \n",
       "\n",
       "     average_rating  \n",
       "0              3.66  \n",
       "1              3.98  \n",
       "2              4.21  \n",
       "3              4.41  \n",
       "4              4.08  \n",
       "..              ...  \n",
       "995            3.67  \n",
       "996            3.00  \n",
       "997            5.00  \n",
       "998            4.00  \n",
       "999            4.00  \n",
       "\n",
       "[1000 rows x 3 columns]"
      ]
     },
     "execution_count": 10,
     "metadata": {},
     "output_type": "execute_result"
    }
   ],
   "source": [
    "# используем данные таблиц 'ratings' и 'reviews'\n",
    "# так названия книг дублируются, для группировки используем уникальный идентификатор\n",
    "\n",
    "query = ('''\n",
    "\n",
    "SELECT b.title AS book_title,\n",
    "       COUNT(DISTINCT review_id) AS reviews_count,\n",
    "       ROUND(AVG(rt.rating), 2) AS average_rating\n",
    "FROM books AS b\n",
    "LEFT JOIN reviews AS rv on b.book_id=rv.book_id\n",
    "LEFT JOIN ratings AS rt on b.book_id=rt.book_id\n",
    "GROUP BY b.book_id\n",
    "ORDER BY reviews_count DESC;\n",
    "\n",
    "''')\n",
    "\n",
    "# выводим результат\n",
    "\n",
    "pd.io.sql.read_sql(query, con = engine) "
   ]
  },
  {
   "cell_type": "markdown",
   "id": "ab54ee90",
   "metadata": {},
   "source": [
    "- В данных не просмотривается корреляция средней оценки и количества отзывов - большая популярность книги вовсе не означает высокий рейтинг и наоборот, не у всех высокооценённых книг есть отзывы от пользователей."
   ]
  },
  {
   "cell_type": "markdown",
   "id": "463f56b2",
   "metadata": {},
   "source": [
    "<a id='2.3'></a>\n",
    "### Определение книжных издателей\n",
    "Определим издательство, которое выпустило наибольшее число книг толще 50 страниц — так мы исключим из анализа брошюры:"
   ]
  },
  {
   "cell_type": "code",
   "execution_count": 11,
   "id": "1613cb8d",
   "metadata": {},
   "outputs": [
    {
     "data": {
      "text/html": [
       "<div>\n",
       "<style scoped>\n",
       "    .dataframe tbody tr th:only-of-type {\n",
       "        vertical-align: middle;\n",
       "    }\n",
       "\n",
       "    .dataframe tbody tr th {\n",
       "        vertical-align: top;\n",
       "    }\n",
       "\n",
       "    .dataframe thead th {\n",
       "        text-align: right;\n",
       "    }\n",
       "</style>\n",
       "<table border=\"1\" class=\"dataframe\">\n",
       "  <thead>\n",
       "    <tr style=\"text-align: right;\">\n",
       "      <th></th>\n",
       "      <th>publisher</th>\n",
       "      <th>books_count</th>\n",
       "    </tr>\n",
       "  </thead>\n",
       "  <tbody>\n",
       "    <tr>\n",
       "      <th>0</th>\n",
       "      <td>Penguin Books</td>\n",
       "      <td>42</td>\n",
       "    </tr>\n",
       "  </tbody>\n",
       "</table>\n",
       "</div>"
      ],
      "text/plain": [
       "       publisher  books_count\n",
       "0  Penguin Books           42"
      ]
     },
     "execution_count": 11,
     "metadata": {},
     "output_type": "execute_result"
    }
   ],
   "source": [
    "# используем таблицы 'books' и 'publisher'\n",
    "\n",
    "query = ('''\n",
    "\n",
    "SELECT p.publisher,\n",
    "       COUNT(b.book_id) AS books_count    \n",
    "FROM publishers as p\n",
    "JOIN books AS b ON p.publisher_id=b.publisher_id\n",
    "WHERE b.num_pages > 50\n",
    "GROUP BY p.publisher\n",
    "ORDER BY books_count DESC\n",
    "LIMIT 1\n",
    "''')\n",
    "\n",
    "# выводим результат\n",
    "\n",
    "pd.io.sql.read_sql(query, con = engine) "
   ]
  },
  {
   "cell_type": "markdown",
   "id": "a3374da9",
   "metadata": {},
   "source": [
    "- Компания `Penguin Books` является крупнейшим книжным издателем - они выпустили 42 книги, что составляет около 5% от всего каталога."
   ]
  },
  {
   "cell_type": "markdown",
   "id": "68b0c183",
   "metadata": {},
   "source": [
    "<a id='2.4'></a>\n",
    "### Выделение наиболее успешных авторов книг\n",
    "Определим автора с самой высокой средней оценкой книг — учтём только книги с 50 и более оценками:\n"
   ]
  },
  {
   "cell_type": "code",
   "execution_count": 12,
   "id": "9839b737",
   "metadata": {},
   "outputs": [
    {
     "data": {
      "text/html": [
       "<div>\n",
       "<style scoped>\n",
       "    .dataframe tbody tr th:only-of-type {\n",
       "        vertical-align: middle;\n",
       "    }\n",
       "\n",
       "    .dataframe tbody tr th {\n",
       "        vertical-align: top;\n",
       "    }\n",
       "\n",
       "    .dataframe thead th {\n",
       "        text-align: right;\n",
       "    }\n",
       "</style>\n",
       "<table border=\"1\" class=\"dataframe\">\n",
       "  <thead>\n",
       "    <tr style=\"text-align: right;\">\n",
       "      <th></th>\n",
       "      <th>author</th>\n",
       "      <th>avg_rating</th>\n",
       "    </tr>\n",
       "  </thead>\n",
       "  <tbody>\n",
       "    <tr>\n",
       "      <th>0</th>\n",
       "      <td>Diana Gabaldon</td>\n",
       "      <td>4.3</td>\n",
       "    </tr>\n",
       "  </tbody>\n",
       "</table>\n",
       "</div>"
      ],
      "text/plain": [
       "           author  avg_rating\n",
       "0  Diana Gabaldon         4.3"
      ]
     },
     "execution_count": 12,
     "metadata": {},
     "output_type": "execute_result"
    }
   ],
   "source": [
    "# используем временную таблицу для фильтрации данных\n",
    "\n",
    "query = ('''\n",
    "\n",
    "WITH\n",
    "top AS (SELECT b.author_id,\n",
    "               ROUND(AVG(rating), 2) AS avg_rating\n",
    "        FROM books AS b\n",
    "        LEFT JOIN ratings AS rt ON b.book_id=rt.book_id\n",
    "        GROUP BY b.author_id\n",
    "        HAVING COUNT(rt.rating_id) >= 50)\n",
    "\n",
    "SELECT a.author,\n",
    "       top.avg_rating\n",
    "FROM authors AS a\n",
    "RIGHT JOIN top on a.author_id=top.author_id\n",
    "ORDER BY top.avg_rating DESC\n",
    "LIMIT 1\n",
    "\n",
    "''')\n",
    "\n",
    "# выводим результат\n",
    "\n",
    "pd.io.sql.read_sql(query, con = engine) "
   ]
  },
  {
   "cell_type": "markdown",
   "id": "e67fc376",
   "metadata": {},
   "source": [
    "- Самым высоким средним рейтингом книг, оценённых более 50 раз, обладает писательница [**Diana Gabaldon**](https://en.wikipedia.org/wiki/Diana_Gabaldon)"
   ]
  },
  {
   "cell_type": "markdown",
   "id": "ea175ba5",
   "metadata": {},
   "source": [
    "<a id='2.5'></a>\n",
    "### Анализ наиболее активных пользователей\n",
    "Посчитаем среднее количество обзоров от пользователей, которые поставили больше 50 оценок:"
   ]
  },
  {
   "cell_type": "code",
   "execution_count": 13,
   "id": "cdc0f8a8",
   "metadata": {},
   "outputs": [
    {
     "data": {
      "text/html": [
       "<div>\n",
       "<style scoped>\n",
       "    .dataframe tbody tr th:only-of-type {\n",
       "        vertical-align: middle;\n",
       "    }\n",
       "\n",
       "    .dataframe tbody tr th {\n",
       "        vertical-align: top;\n",
       "    }\n",
       "\n",
       "    .dataframe thead th {\n",
       "        text-align: right;\n",
       "    }\n",
       "</style>\n",
       "<table border=\"1\" class=\"dataframe\">\n",
       "  <thead>\n",
       "    <tr style=\"text-align: right;\">\n",
       "      <th></th>\n",
       "      <th>avg_review_count</th>\n",
       "    </tr>\n",
       "  </thead>\n",
       "  <tbody>\n",
       "    <tr>\n",
       "      <th>0</th>\n",
       "      <td>24.33</td>\n",
       "    </tr>\n",
       "  </tbody>\n",
       "</table>\n",
       "</div>"
      ],
      "text/plain": [
       "   avg_review_count\n",
       "0             24.33"
      ]
     },
     "execution_count": 13,
     "metadata": {},
     "output_type": "execute_result"
    }
   ],
   "source": [
    "# формируем запрос к БД\n",
    "\n",
    "query = ('''\n",
    "\n",
    "WITH \n",
    "users AS (SELECT  username,\n",
    "                       COUNT(rating_id) AS ratings_count\n",
    "               FROM ratings\n",
    "               GROUP BY username\n",
    "               HAVING COUNT(rating_id) > 50),\n",
    "reviewers AS (SELECT username,\n",
    "                     COUNT(review_id) AS reviews\n",
    "                     FROM reviews\n",
    "                     GROUP BY username)\n",
    "\n",
    "SELECT ROUND(SUM(r.reviews)/COUNT(u.username), 2) AS avg_review_count\n",
    "FROM users AS u\n",
    "JOIN reviewers AS r ON u.username=r.username\n",
    "\n",
    "\n",
    "''')\n",
    "\n",
    "# выводим результат\n",
    "\n",
    "pd.io.sql.read_sql(query, con = engine) "
   ]
  },
  {
   "cell_type": "markdown",
   "id": "35a01d92",
   "metadata": {},
   "source": [
    "- Пользователи, оценившие более 50 фильмов, оставляют в среднем около 24 рецензий, другими словами - каждый второй оценённый фильм."
   ]
  },
  {
   "cell_type": "markdown",
   "id": "0cc2cc57",
   "metadata": {},
   "source": [
    "<a id='3'></a>\n",
    "## Общий вывод"
   ]
  },
  {
   "cell_type": "markdown",
   "id": "95d8006b",
   "metadata": {},
   "source": [
    "___\n",
    "**Рекомендации**\n",
    "\n",
    "-  При группировке данных по идентификатору или имени автора некоторые позиции могут не учитываться из-за выделения нескольких авторов(а иногда - иллюстраторов) в отдельный уникальный идпентификатор автора. В связи с этим необходимо исключить выделение соавторства нескольких писателей в отдельный идентификатор, для чего рекомендуется пересмотреть связь таблиц с информацией о книгах и авторах (например, реализовать связь вида \"*many-to-many*\") или произвести их объединение. Также данные людей, принимавашие участие в создании книги, но являвшихся писателями, следует хранить в отдельном поле.\n",
    "\n",
    "\n",
    "- Использование двух разных таблиц для хранения отзывов и оценок нецелесообразно, так как информация в них по большей части совпадает. Рекомендуется рассмотреть объединение этих таблиц для оптимизации последующих аналитических исследований."
   ]
  },
  {
   "cell_type": "markdown",
   "id": "1984f105",
   "metadata": {},
   "source": [
    "Целью исследования являлся анализ базы данных для формулирования ценностного предложения для нового продукта.\n",
    "\n",
    "Данные для анализа находились я в базе данных, в которой содержится информация о книгах, издательствах, авторах, а также пользовательские обзоры книг. Был проведён обзор таблиц из базы данных, после чего каждый ключевой параметр был проанализирован - был установлены актуальный ассортимент книг, количество обзоров и средняя оценку, наиболее крупные издательства и успешные авторы, а также будут выявлены наиболее активные пользователи самого сервиса.\n",
    "\n",
    "Таким образом, исследование прошло в следующих этапах:"
   ]
  },
  {
   "cell_type": "markdown",
   "id": "f8f81df8",
   "metadata": {},
   "source": [
    "1. [**Обзор данных**](#1)\n",
    "\n",
    "В ходе обзора было настроено подлючение к БД, после чего каждая таблица была проанализирована на предмет наличия пропусков и корректности типа хранимых данных.\n",
    "___\n",
    "\n",
    "Краткое резюме обзора:\n",
    "\n",
    "- **Таблица `books`** содержит 1000 строк и 6 столбцов. Согласно схеме БД, поле `book_id` является первичным ключём таблице, внешними ключами для связи с другими таблицами являются поля `author_id` и `publisher_id`. Явные пропуски отсутствуют, даты представлены в корректном формате, что может позволить делать часть запросов к БД без дополнительного преобразования. Полностью задублированные строки отсутствуют, но при этом одно из названий книг встречается в таблице дважды - возможно это переиздание или другая версия книги. В связи с этим в ходе исследования при группировке данных в ходе исследования необходимо использовать уникальный идентификатор вместо названия.\n",
    "\n",
    "\n",
    "- **Таблица `authors`** содержит данные об авторах, состоит из 636 строк и 2 столбцов. Поле `author_id` является первичным ключём таблицы. Явных пропусков нет, но данные потенциально могут содержать неявные дубликаты - например, в поле с уникальным идентификатором автора `543` можно увидеть запись `Stephen King/Bernie Wrightson`, что может означать соавторство этих двух писателей. Но при этом [**Bernie Wrightson**](https://en.wikipedia.org/wiki/Bernie_Wrightson) не книжный писатель - он является художником и автором комиксов, известным в том числе благодоря созданию иллюстрации для книг авторста [**Stephen King**]( https://en.wikipedia.org/wiki/Stephen_King). В таком случае книга с таким `author_id` на самом деле должна относится к книгам Стивена Кинга, но она не будет учтена при группировке данных по уникальному имени или идентификатору автора.\n",
    "\n",
    "\n",
    "- **Таблица `publishers`** содержит данные об издательствах, состоит из 340 строк и 2 столбцов. Поле `publisher_id` является первичным ключём таблицы.\n",
    "\n",
    "\n",
    "- **Таблица `ratings`** содержит данные о пользовательских оценках книг, состоит из 6,456 строк и 4 столбцов. При этом все оценки выставили всего 160 уникальных пользователей. Поле `rating_id` является первичным ключём таблице, внешним ключом для связи с другими таблицами является `book_id`.\n",
    "\n",
    "\n",
    "- **Таблица `reviews`** содержит данные о пользовательских обзорах на книги, состоит из 2,793 строк и 4 столбцов. Поле `review_id` является первичным ключём таблице, внешним ключом для связи с другими таблицами является `book_id`. Набор полей практически полностью совпадает с таблицей `ratings`, что ставит под вопрос целесообразность использования двух разных таблиц для хранения данных. Количество уникальных `username` также совпадает - вероятно что это одни и те же пользователи.\n",
    "___"
   ]
  },
  {
   "cell_type": "markdown",
   "id": "31d2c448",
   "metadata": {},
   "source": [
    "2. [**Анализ базы данных**](#2)\n",
    "\n",
    "Исследование базы данных было поделено на следующие этапы:\n",
    "\n",
    "- [**Установление размера актуального ассортимента книг**](#2.1)\n",
    "- [**Анализ количества обзоров и средней оценки книг**](#2.2)\n",
    "- [**Определение книжных издателей**](#2.3)\n",
    "- [**Выделение наиболее успешных авторов книг**](#2.4)\n",
    "- [**Анализ наиболее активных пользователей**](#2.5)\n",
    "___\n",
    "Выводы из анализа:\n",
    "\n",
    "- В таблице содержится 819 уникальных книг, выпущенных после 01.01.2001, что составляет более 80% всего ассортимента - это указывает на новизну и актульность большей части каталога.\n",
    "\n",
    "- В данных не просмотривается корреляция средней оценки и количества отзывов - большая популярность книги вовсе не означает высокий рейтинг и наоборот, не у всех высокооценённых книг есть отзывы от пользователей.\n",
    "\n",
    "- Компания `Penguin Books` является крупнейшим книжным издателем - они выпустили 42 книги, что составляет около 5% от всего каталога.\n",
    "\n",
    "- Самым высоким средним рейтингом книг, оценённых более 50 раз, обладает писательница [**Diana Gabaldon**](https://en.wikipedia.org/wiki/Diana_Gabaldon)\n",
    "\n",
    "- Пользователи, оценившие более 50 фильмов, оставляют в среднем около 24 рецензий, другими словами - каждый второй оценённый фильм.\n",
    "___"
   ]
  }
 ],
 "metadata": {
  "kernelspec": {
   "display_name": "Python 3 (ipykernel)",
   "language": "python",
   "name": "python3"
  },
  "language_info": {
   "codemirror_mode": {
    "name": "ipython",
    "version": 3
   },
   "file_extension": ".py",
   "mimetype": "text/x-python",
   "name": "python",
   "nbconvert_exporter": "python",
   "pygments_lexer": "ipython3",
   "version": "3.9.7"
  },
  "toc": {
   "base_numbering": 1,
   "nav_menu": {},
   "number_sections": true,
   "sideBar": true,
   "skip_h1_title": true,
   "title_cell": "Table of Contents",
   "title_sidebar": "Contents",
   "toc_cell": false,
   "toc_position": {},
   "toc_section_display": true,
   "toc_window_display": false
  }
 },
 "nbformat": 4,
 "nbformat_minor": 5
}
