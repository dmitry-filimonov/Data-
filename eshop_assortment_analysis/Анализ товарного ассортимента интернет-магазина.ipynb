{
 "cells": [
  {
   "cell_type": "markdown",
   "metadata": {},
   "source": [
    "# Анализ товарного ассортимента интернет-магазина"
   ]
  },
  {
   "cell_type": "markdown",
   "metadata": {},
   "source": [
    "[**Презентация**](https://drive.google.com/file/d/1vJPrW7-pQB0m3hinhiY1FGg4ctPdVbwB/view?usp=sharing)\n",
    "\n",
    "[**Дашборд**](https://public.tableau.com/views/2_16645710291430/Ordersdashboard?:language=en-US&publish=yes&:display_count=n&:origin=viz_share_link)"
   ]
  },
  {
   "cell_type": "markdown",
   "metadata": {},
   "source": [
    "Заказчик - менеджер проектов интернет-магазина товаров для дома и быта \"Пока все ещё тут\", отвечающий за актуальность ассортимента товаров. Необходимо исследовать товарный каталог магазина с целью оптимизации процесса закупок и повышения уровня продаж \"вспомогательных\" товаров .\n",
    "\n",
    "**Цель исследования** - провести сегментирование ассортимента товарного каталог интернет-магазина и изучить характерные особенности полученных товарных категорий.\n",
    "\n",
    "**Ход исследования**\n",
    "\n",
    "Данные предоставлены в файле `ecommerce_dataset.csv` - это срез истории транзакций в интернет-магазине, содержащий информацию о покупках клиентов. Данные будут предобработаны - проведётся проверка на наличие пропущенных значений и дубликатов, корректность типа хранимых данных, будет установлена необходимость в добавлении дополнительных столбцов. Затем будет проведён исследовательский анализ, целью которого станет поиск характерных признаков, которые позволят провести сегментацию товарного ассортимента. Сначала основные показатели будут проанализированы в разрезе заказов, а затем - по уникальным товарам. После этого товары будут разделены на \"основной ассортимент\" (товары, продающиеся сами по себе) и \"дополнительный ассортимент\" (которые чаще продаются в комплекте с другими продуктами). Полученные сегменты будут подробно проанализированы с точки зрения распределения данных и внутренних соотношений. После будут проверены следующие гипотезы:\n",
    "\n",
    "- *Средняя выручка заказа без дополнительных товаров отличается от средней выручки заказов с дополнительными товарами*\n",
    "- *Среднее количество товаров, проданных в будние дни, отличается от среднего количества проданных на выходных*\n",
    "\n",
    "Выводы по результатам исследования будут представлены в виде презентации и интерактивного дашюборда.\n",
    "\n",
    "Таким образом, исследование будет разбито на следующие этапы:\n",
    "\n",
    "1. [**Обзор данных**](#1)\n",
    "2. [**Предобработка данных**](#2)\n",
    "3. [**Исследовательский анализ данных**](#3)\n",
    "4. [**Сегментация товарного ассортимента**](#4)\n",
    "5. [**Проверка гипотез**](#5)\n",
    "6. [**Общий вывод**](#6)\n",
    "\n",
    "Для выполнения проекта будет использованы следующие инструменты:\n",
    "\n",
    "- **Предобработка/исследовательский анализ** - библиотеки для анализа и визуализации (pandas/numpy/matplotlib/seaborn)\n",
    "- **Сегментация** - в зависимости от результатов предобработки и EDA будут выбраны стандартные метода python/pandas или алгоритм кластеризации модели машинного обучения (scikit-learn)\n",
    "- **Проверка гипотез** - статистический пакет функций scipy\n",
    "- **Презентация/Дашборд** - программы Microsoft PowerPoint и Tableau Public"
   ]
  },
  {
   "cell_type": "markdown",
   "metadata": {},
   "source": [
    "<a id='1'></a>\n",
    "## Обзор данных"
   ]
  },
  {
   "cell_type": "code",
   "execution_count": null,
   "metadata": {},
   "outputs": [],
   "source": [
    "# импортируем библиотеки для работы с данными\n",
    "\n",
    "import pandas as pd\n",
    "import numpy as np\n",
    "import datetime as dt\n",
    "from scipy import stats as st\n",
    "import seaborn as sns\n",
    "from matplotlib import pyplot as plt\n",
    "\n",
    "# импортируем модули для машинного обучения\n",
    "\n",
    "from sklearn.cluster import KMeans\n",
    "from sklearn.preprocessing import StandardScaler\n",
    "\n",
    "# вспомогательные библиотеки\n",
    "\n",
    "import os\n",
    "import re\n",
    "import requests\n",
    "import itertools\n",
    "from pymystem3 import Mystem\n",
    "from bs4 import BeautifulSoup\n",
    "from nltk.corpus import stopwords\n",
    "from tqdm.auto import tqdm, trange\n",
    "tqdm.pandas()\n",
    "\n",
    "\n",
    "# настройки отображения\n",
    "\n",
    "pd.options.display.float_format = '{:,.2f}'.format\n",
    "pd.options.mode.chained_assignment = None\n",
    "sns.set_style('darkgrid')\n",
    "plt.rcParams.update({'axes.labelsize': 10,'axes.titlesize': 15})\n",
    "plt.rcParams['figure.figsize'] = [15, 5]\n",
    "os.chdir('C:\\\\Users\\\\dmitr\\\\GitHub\\\\Practicum-Data-Analysis\\\\datasets')"
   ]
  },
  {
   "cell_type": "code",
   "execution_count": 4,
   "metadata": {},
   "outputs": [
    {
     "name": "stdout",
     "output_type": "stream",
     "text": [
      "<class 'pandas.core.frame.DataFrame'>\n",
      "RangeIndex: 6737 entries, 0 to 6736\n",
      "Data columns (total 6 columns):\n",
      " #   Column       Non-Null Count  Dtype  \n",
      "---  ------       --------------  -----  \n",
      " 0   date         6737 non-null   int64  \n",
      " 1   customer_id  6737 non-null   object \n",
      " 2   order_id     6737 non-null   int64  \n",
      " 3   product      6737 non-null   object \n",
      " 4   quantity     6737 non-null   int64  \n",
      " 5   price        6737 non-null   float64\n",
      "dtypes: float64(1), int64(3), object(2)\n",
      "memory usage: 315.9+ KB\n"
     ]
    },
    {
     "data": {
      "text/html": [
       "<div>\n",
       "<style scoped>\n",
       "    .dataframe tbody tr th:only-of-type {\n",
       "        vertical-align: middle;\n",
       "    }\n",
       "\n",
       "    .dataframe tbody tr th {\n",
       "        vertical-align: top;\n",
       "    }\n",
       "\n",
       "    .dataframe thead th {\n",
       "        text-align: right;\n",
       "    }\n",
       "</style>\n",
       "<table border=\"1\" class=\"dataframe\">\n",
       "  <thead>\n",
       "    <tr style=\"text-align: right;\">\n",
       "      <th></th>\n",
       "      <th>date</th>\n",
       "      <th>customer_id</th>\n",
       "      <th>order_id</th>\n",
       "      <th>product</th>\n",
       "      <th>quantity</th>\n",
       "      <th>price</th>\n",
       "    </tr>\n",
       "  </thead>\n",
       "  <tbody>\n",
       "    <tr>\n",
       "      <th>3302</th>\n",
       "      <td>2019042913</td>\n",
       "      <td>603e92a4-fc7f-4203-9ca5-103da5b008ac</td>\n",
       "      <td>14705</td>\n",
       "      <td>Рассада Остеоспермум крупноцветковый Purple ма...</td>\n",
       "      <td>1</td>\n",
       "      <td>127.00</td>\n",
       "    </tr>\n",
       "    <tr>\n",
       "      <th>4315</th>\n",
       "      <td>2019060216</td>\n",
       "      <td>1d6c8c1f-a799-4418-9af2-1ded47d7a85c</td>\n",
       "      <td>14833</td>\n",
       "      <td>Рассада Кабачка сорт Аэронавт, кассета по 6шт</td>\n",
       "      <td>1</td>\n",
       "      <td>120.00</td>\n",
       "    </tr>\n",
       "    <tr>\n",
       "      <th>1580</th>\n",
       "      <td>2019012314</td>\n",
       "      <td>8fa1ee5d-7955-4ad6-8ce0-fd27033e991a</td>\n",
       "      <td>69944</td>\n",
       "      <td>Емкость для соуса с ложкой PASABAHCE 200 мл OT...</td>\n",
       "      <td>15</td>\n",
       "      <td>101.00</td>\n",
       "    </tr>\n",
       "    <tr>\n",
       "      <th>4086</th>\n",
       "      <td>2019052818</td>\n",
       "      <td>63d48b37-11ca-46ec-b858-26cc165f7629</td>\n",
       "      <td>14825</td>\n",
       "      <td>Петуния простая рассада однолетних цветов в ка...</td>\n",
       "      <td>2</td>\n",
       "      <td>128.00</td>\n",
       "    </tr>\n",
       "    <tr>\n",
       "      <th>3896</th>\n",
       "      <td>2019051718</td>\n",
       "      <td>b6095dc9-1580-4d1f-8ba3-a554a8dab3bd</td>\n",
       "      <td>14789</td>\n",
       "      <td>Рассада Дыни сорт Колхозница горшок 9х9 см P-9</td>\n",
       "      <td>4</td>\n",
       "      <td>38.00</td>\n",
       "    </tr>\n",
       "    <tr>\n",
       "      <th>6210</th>\n",
       "      <td>2019082812</td>\n",
       "      <td>399da134-5db6-4861-89fc-6595e7583e98</td>\n",
       "      <td>72439</td>\n",
       "      <td>Сумка-тележка 2-х колесная Gimi Argo синяя</td>\n",
       "      <td>1</td>\n",
       "      <td>1,087.00</td>\n",
       "    </tr>\n",
       "    <tr>\n",
       "      <th>2359</th>\n",
       "      <td>2019031718</td>\n",
       "      <td>ad935627-11d4-4a1c-9d69-cf0e33047aa8</td>\n",
       "      <td>14575</td>\n",
       "      <td>Рассада томата (помидор) сорт Золотое руно, ка...</td>\n",
       "      <td>1</td>\n",
       "      <td>116.00</td>\n",
       "    </tr>\n",
       "    <tr>\n",
       "      <th>6050</th>\n",
       "      <td>2019080511</td>\n",
       "      <td>76615b86-9e6a-47d9-a98d-989b3e15e6e7</td>\n",
       "      <td>72210</td>\n",
       "      <td>Щетка хозяйственная с резинкой из синтетическо...</td>\n",
       "      <td>1</td>\n",
       "      <td>734.00</td>\n",
       "    </tr>\n",
       "    <tr>\n",
       "      <th>5176</th>\n",
       "      <td>2019061218</td>\n",
       "      <td>aec93ab0-4469-4e88-80cb-08b479a493e5</td>\n",
       "      <td>71687</td>\n",
       "      <td>Гладильная доска Colombo Avantgard 120х40 см</td>\n",
       "      <td>1</td>\n",
       "      <td>6,614.00</td>\n",
       "    </tr>\n",
       "    <tr>\n",
       "      <th>4540</th>\n",
       "      <td>2019060419</td>\n",
       "      <td>db77c238-3c80-4032-9e3c-c30a43f4a650</td>\n",
       "      <td>14835</td>\n",
       "      <td>Вербена ампельная, диам. 12 см</td>\n",
       "      <td>1</td>\n",
       "      <td>142.00</td>\n",
       "    </tr>\n",
       "  </tbody>\n",
       "</table>\n",
       "</div>"
      ],
      "text/plain": [
       "            date                           customer_id  order_id  \\\n",
       "3302  2019042913  603e92a4-fc7f-4203-9ca5-103da5b008ac     14705   \n",
       "4315  2019060216  1d6c8c1f-a799-4418-9af2-1ded47d7a85c     14833   \n",
       "1580  2019012314  8fa1ee5d-7955-4ad6-8ce0-fd27033e991a     69944   \n",
       "4086  2019052818  63d48b37-11ca-46ec-b858-26cc165f7629     14825   \n",
       "3896  2019051718  b6095dc9-1580-4d1f-8ba3-a554a8dab3bd     14789   \n",
       "6210  2019082812  399da134-5db6-4861-89fc-6595e7583e98     72439   \n",
       "2359  2019031718  ad935627-11d4-4a1c-9d69-cf0e33047aa8     14575   \n",
       "6050  2019080511  76615b86-9e6a-47d9-a98d-989b3e15e6e7     72210   \n",
       "5176  2019061218  aec93ab0-4469-4e88-80cb-08b479a493e5     71687   \n",
       "4540  2019060419  db77c238-3c80-4032-9e3c-c30a43f4a650     14835   \n",
       "\n",
       "                                                product  quantity    price  \n",
       "3302  Рассада Остеоспермум крупноцветковый Purple ма...         1   127.00  \n",
       "4315      Рассада Кабачка сорт Аэронавт, кассета по 6шт         1   120.00  \n",
       "1580  Емкость для соуса с ложкой PASABAHCE 200 мл OT...        15   101.00  \n",
       "4086  Петуния простая рассада однолетних цветов в ка...         2   128.00  \n",
       "3896     Рассада Дыни сорт Колхозница горшок 9х9 см P-9         4    38.00  \n",
       "6210         Сумка-тележка 2-х колесная Gimi Argo синяя         1 1,087.00  \n",
       "2359  Рассада томата (помидор) сорт Золотое руно, ка...         1   116.00  \n",
       "6050  Щетка хозяйственная с резинкой из синтетическо...         1   734.00  \n",
       "5176       Гладильная доска Colombo Avantgard 120х40 см         1 6,614.00  \n",
       "4540                     Вербена ампельная, диам. 12 см         1   142.00  "
      ]
     },
     "execution_count": 4,
     "metadata": {},
     "output_type": "execute_result"
    }
   ],
   "source": [
    "# загружаем данные, выводим общую информацию и 10 случайных строк\n",
    "\n",
    "data = pd.read_csv('ecommerce_dataset.csv')\n",
    "\n",
    "data.info()\n",
    "data.sample(10, random_state=0)"
   ]
  },
  {
   "cell_type": "code",
   "execution_count": 5,
   "metadata": {},
   "outputs": [
    {
     "name": "stdout",
     "output_type": "stream",
     "text": [
      "Requirement already satisfied: pymystem3 in c:\\users\\dmitr\\anaconda3\\envs\\da_practicum_env\\lib\\site-packages (0.2.0)\n",
      "Requirement already satisfied: requests in c:\\users\\dmitr\\anaconda3\\envs\\da_practicum_env\\lib\\site-packages (from pymystem3) (2.28.1)\n",
      "Requirement already satisfied: idna<4,>=2.5 in c:\\users\\dmitr\\anaconda3\\envs\\da_practicum_env\\lib\\site-packages (from requests->pymystem3) (3.3)\n",
      "Requirement already satisfied: charset-normalizer<3,>=2 in c:\\users\\dmitr\\anaconda3\\envs\\da_practicum_env\\lib\\site-packages (from requests->pymystem3) (2.1.0)\n",
      "Requirement already satisfied: certifi>=2017.4.17 in c:\\users\\dmitr\\anaconda3\\envs\\da_practicum_env\\lib\\site-packages (from requests->pymystem3) (2022.6.15)\n",
      "Requirement already satisfied: urllib3<1.27,>=1.21.1 in c:\\users\\dmitr\\anaconda3\\envs\\da_practicum_env\\lib\\site-packages (from requests->pymystem3) (1.26.11)\n",
      "Note: you may need to restart the kernel to use updated packages.\n"
     ]
    }
   ],
   "source": [
    "pip install pymystem3"
   ]
  },
  {
   "cell_type": "markdown",
   "metadata": {},
   "source": [
    "Таблица содержит 6,737 строк и 6 столбцов.\n",
    "\n",
    "**Описание данных**\n",
    "\n",
    "- `date` — дата заказа;\n",
    "- `customer_id` — идентификатор покупателя;\n",
    "- `order_id` — идентификатор заказа;\n",
    "- `product` — наименование товара;\n",
    "- `quantity` — количество товара в заказе;\n",
    "- `price` — цена товара."
   ]
  },
  {
   "cell_type": "markdown",
   "metadata": {},
   "source": [
    "Моменты для учёта в предобработке:\n",
    "\n",
    "- Явные пропуски отсутствуют\n",
    "\n",
    "\n",
    "- Дата заказа представлена в виде целого числа, помимо даты также содержит час совершения заказа\n",
    "\n",
    "\n",
    "- Цена товара представлена дробным числом, но дробная часть отсутствует\n",
    "\n",
    "\n",
    "- Номера заказов не будут объектами математических операций, целесообразнее преобразовать в текст\n",
    "\n",
    "\n",
    "- Все остальные целочисленные типы можно сократить до `int16` для экономии ресурсов памяти"
   ]
  },
  {
   "cell_type": "markdown",
   "metadata": {},
   "source": [
    "<a id='2'></a>\n",
    "## Предобработка данных\n",
    "\n",
    "Для начала рассмотрим описательную статистику каждого столбца по отдельности:"
   ]
  },
  {
   "cell_type": "markdown",
   "metadata": {},
   "source": [
    "### Обзор данных в разрезе  столбцов"
   ]
  },
  {
   "cell_type": "code",
   "execution_count": 6,
   "metadata": {},
   "outputs": [
    {
     "data": {
      "text/plain": [
       "count                             6737\n",
       "mean     2019-04-11 20:19:20.100935168\n",
       "min                2018-10-01 00:00:00\n",
       "25%                2019-02-04 13:00:00\n",
       "50%                2019-05-02 16:00:00\n",
       "75%                2019-06-10 22:00:00\n",
       "max                2019-10-31 16:00:00\n",
       "Name: date, dtype: object"
      ]
     },
     "execution_count": 6,
     "metadata": {},
     "output_type": "execute_result"
    }
   ],
   "source": [
    "# на всякий случай сделаем переменную с сырым датасетом\n",
    "\n",
    "original = data.copy()\n",
    "\n",
    "# получим дату из первого столбца\n",
    "\n",
    "data['date'] = pd.to_datetime(data['date'], format = '%Y%m%d%H')\n",
    "data['date'].describe(datetime_is_numeric=True)"
   ]
  },
  {
   "cell_type": "markdown",
   "metadata": {},
   "source": [
    "- Данные содержат информацию о заказах, совершённых с 01.10.2018 по 31.10.2019, ровно 13 месяцев."
   ]
  },
  {
   "cell_type": "markdown",
   "metadata": {},
   "source": [
    "Так как для проверки одной из гипотез будет необходима информация о днях недели, получим эти данные из дат транзакций:"
   ]
  },
  {
   "cell_type": "code",
   "execution_count": 7,
   "metadata": {},
   "outputs": [
    {
     "data": {
      "application/vnd.jupyter.widget-view+json": {
       "model_id": "905b6e724e134e2cb6998e691cf25fc5",
       "version_major": 2,
       "version_minor": 0
      },
      "text/plain": [
       "  0%|          | 0/6737 [00:00<?, ?it/s]"
      ]
     },
     "metadata": {},
     "output_type": "display_data"
    },
    {
     "data": {
      "text/plain": [
       "будни       4275\n",
       "выходные    2462\n",
       "Name: weekday, dtype: Int64"
      ]
     },
     "execution_count": 7,
     "metadata": {},
     "output_type": "execute_result"
    }
   ],
   "source": [
    "# напишем функцию для определения будних и выходных дней\n",
    "\n",
    "def def_weekday(date):\n",
    "    \n",
    "    if date.weekday() in range (0,4):\n",
    "        return 'будни'\n",
    "    else:\n",
    "        return 'выходные'\n",
    "\n",
    "# применяем функцию к столбцу с датой\n",
    "\n",
    "data['weekday'] = (\n",
    "    data['date']\n",
    "    .progress_apply(def_weekday)\n",
    "    .astype('string')\n",
    ")\n",
    "\n",
    "data['weekday'].value_counts()"
   ]
  },
  {
   "cell_type": "code",
   "execution_count": 8,
   "metadata": {},
   "outputs": [
    {
     "data": {
      "text/plain": [
       "count                                     6737\n",
       "unique                                    2451\n",
       "top       1d6c8c1f-a799-4418-9af2-1ded47d7a85c\n",
       "freq                                       888\n",
       "Name: customer_id, dtype: object"
      ]
     },
     "execution_count": 8,
     "metadata": {},
     "output_type": "execute_result"
    }
   ],
   "source": [
    "# посмотрим на второй столбец\n",
    "\n",
    "data['customer_id'] = data['customer_id'].astype('string')\n",
    "\n",
    "data['customer_id'].describe()"
   ]
  },
  {
   "cell_type": "markdown",
   "metadata": {},
   "source": [
    "- Рассматриваемые 6,737 транзакций совершили 2,451 уникальных пользователей, причём 888 из них совершил один и тот же пользователь, что возможно характеризует его как оптового покупателя."
   ]
  },
  {
   "cell_type": "code",
   "execution_count": 9,
   "metadata": {},
   "outputs": [
    {
     "data": {
      "text/plain": [
       "count      6737\n",
       "unique     2784\n",
       "top       14833\n",
       "freq        888\n",
       "Name: order_id, dtype: object"
      ]
     },
     "execution_count": 9,
     "metadata": {},
     "output_type": "execute_result"
    }
   ],
   "source": [
    "# столбец с номерами заказов\n",
    "# сохраним данные в виде текста и выведем статистику\n",
    "\n",
    "data['order_id'] = data['order_id'].astype('string')\n",
    "data['order_id'].describe()"
   ]
  },
  {
   "cell_type": "markdown",
   "metadata": {},
   "source": [
    "- В данных содержится информация об 2,784 уникальных заказах, в самом крупном из которых - 888 товаров, что явно указывает на оптового покупателя, выделенного при рассмотрении предыдущего столбца."
   ]
  },
  {
   "cell_type": "code",
   "execution_count": 10,
   "metadata": {},
   "outputs": [
    {
     "data": {
      "text/plain": [
       "count                                           6737\n",
       "unique                                          2341\n",
       "top       рассада кабачка сорт зебра кассета 6 шт e6\n",
       "freq                                              79\n",
       "Name: product, dtype: object"
      ]
     },
     "execution_count": 10,
     "metadata": {},
     "output_type": "execute_result"
    }
   ],
   "source": [
    "# столбец с наименованием товара\n",
    "# приведём данные к нижнему регистру для корректного подсчёта\n",
    "# уникальных значений\n",
    "\n",
    "data['product'] = data['product'].str.lower()\n",
    "\n",
    "data['product'].describe()"
   ]
  },
  {
   "cell_type": "markdown",
   "metadata": {},
   "source": [
    "- В данных представлены 2,341 уникальный товар, самым популярным из которых является рассада кабачка определённого сорта. "
   ]
  },
  {
   "cell_type": "markdown",
   "metadata": {},
   "source": [
    "Попробуем подсчитать уникальные значения столбца ещё раз, сократив названия товаров до первых двух слов:"
   ]
  },
  {
   "cell_type": "code",
   "execution_count": 11,
   "metadata": {},
   "outputs": [
    {
     "data": {
      "application/vnd.jupyter.widget-view+json": {
       "model_id": "1e6a0578b9d4474085bfce12cfe0fe86",
       "version_major": 2,
       "version_minor": 0
      },
      "text/plain": [
       "  0%|          | 0/6737 [00:00<?, ?it/s]"
      ]
     },
     "metadata": {},
     "output_type": "display_data"
    },
    {
     "data": {
      "text/plain": [
       "count                6737\n",
       "unique                927\n",
       "top       рассада кабачка\n",
       "freq                  462\n",
       "Name: product, dtype: object"
      ]
     },
     "execution_count": 11,
     "metadata": {},
     "output_type": "execute_result"
    }
   ],
   "source": [
    "# напишем небольшую функцию для выделения первых двух слов из названий\n",
    "\n",
    "def name_cut(text):\n",
    "    name = ' '.join(text.split()[:2])\n",
    "    return name\n",
    "    \n",
    "(\n",
    "    data['product']\n",
    "    .progress_apply(name_cut)\n",
    "    .describe()\n",
    ")"
   ]
  },
  {
   "cell_type": "markdown",
   "metadata": {},
   "source": [
    "- При группировке по первым двум словам из названия получается 927 уникальных товара, 462 из которых являются вариантом рассады кабачка. "
   ]
  },
  {
   "cell_type": "markdown",
   "metadata": {},
   "source": [
    "Таким образом урезание названия до двух слов можно эффективно использовать в качестве одного из инструментов последующей категоризации товаров."
   ]
  },
  {
   "cell_type": "code",
   "execution_count": 12,
   "metadata": {},
   "outputs": [],
   "source": [
    "# меняем тип данных и переходим дальше\n",
    "\n",
    "data['product'] = data['product'].astype('string')"
   ]
  },
  {
   "cell_type": "code",
   "execution_count": 13,
   "metadata": {},
   "outputs": [
    {
     "data": {
      "text/plain": [
       "count   6,737.00\n",
       "mean        2.50\n",
       "std        15.27\n",
       "min         1.00\n",
       "25%         1.00\n",
       "50%         1.00\n",
       "75%         1.00\n",
       "max     1,000.00\n",
       "Name: quantity, dtype: float64"
      ]
     },
     "execution_count": 13,
     "metadata": {},
     "output_type": "execute_result"
    }
   ],
   "source": [
    "# столбец с количеством товаров\n",
    "\n",
    "data['quantity'].describe()"
   ]
  },
  {
   "cell_type": "markdown",
   "metadata": {},
   "source": [
    "- Большая часть товаров присутствует в заказах в единичном экземпляре. Максимальное значение столбца в 1,000 штук может быть как оптовой закупкой, так и выбросом, вызванным технической аномалией."
   ]
  },
  {
   "cell_type": "markdown",
   "metadata": {},
   "source": [
    "Так как большие выбросы могут усложнить применение автоматизированных методов категоризации товаров, ограничим данные 99-ым перцентелем:"
   ]
  },
  {
   "cell_type": "code",
   "execution_count": 14,
   "metadata": {},
   "outputs": [
    {
     "data": {
      "text/plain": [
       "count   6,669.00\n",
       "mean        1.70\n",
       "std         2.52\n",
       "min         1.00\n",
       "25%         1.00\n",
       "50%         1.00\n",
       "75%         1.00\n",
       "max        26.00\n",
       "Name: quantity, dtype: float64"
      ]
     },
     "execution_count": 14,
     "metadata": {},
     "output_type": "execute_result"
    }
   ],
   "source": [
    "# удаляем значения, превышающие 99%\n",
    "\n",
    "data = (\n",
    "    data[\n",
    "        data['quantity'] <= \n",
    "        np.percentile(data['quantity'], 99)\n",
    "    ]\n",
    ")\n",
    "\n",
    "# снова смотрим на статистику\n",
    "\n",
    "data['quantity'].describe()"
   ]
  },
  {
   "cell_type": "markdown",
   "metadata": {},
   "source": [
    "Стандартное отклонение уменьшилось более чем в 10 раз, что лишний раз указывает на целеесообразность удаления выбросов."
   ]
  },
  {
   "cell_type": "code",
   "execution_count": 15,
   "metadata": {},
   "outputs": [],
   "source": [
    "# изменим тип данных, поменяем название для удобства работы и перейдём дальше\n",
    "\n",
    "data['quantity'] = data['quantity'].astype('int16')\n",
    "data.rename(columns={'quantity':'items_sold'}, inplace=True)"
   ]
  },
  {
   "cell_type": "code",
   "execution_count": 16,
   "metadata": {},
   "outputs": [
    {
     "data": {
      "text/plain": [
       "count    6,669.00\n",
       "mean       465.65\n",
       "std        874.67\n",
       "min          9.00\n",
       "25%        105.00\n",
       "50%        135.00\n",
       "75%        412.00\n",
       "max     14,917.00\n",
       "Name: price, dtype: float64"
      ]
     },
     "execution_count": 16,
     "metadata": {},
     "output_type": "execute_result"
    }
   ],
   "source": [
    "# столбец с ценой за единицу товара\n",
    "\n",
    "data['price'].describe()"
   ]
  },
  {
   "cell_type": "markdown",
   "metadata": {},
   "source": [
    "- Средняя цена товара превышает значение 75% процентиля, что указывает на наличие аномальных выбросов."
   ]
  },
  {
   "cell_type": "code",
   "execution_count": 17,
   "metadata": {},
   "outputs": [
    {
     "data": {
      "image/png": "[encoded data removed]",
      "text/plain": [
       "<Figure size 720x360 with 1 Axes>"
      ]
     },
     "metadata": {},
     "output_type": "display_data"
    }
   ],
   "source": [
    "# посмотрим на распределение значений\n",
    "\n",
    "plt.figure(figsize=(10,5))\n",
    "\n",
    "sns.boxplot(data=data, x='price')\n",
    "\n",
    "plt.title('Распределение цены товаров')\n",
    "plt.show()"
   ]
  },
  {
   "cell_type": "markdown",
   "metadata": {},
   "source": [
    "Для уменьшения количества выбросов снова применим фильтрацию по 99%:"
   ]
  },
  {
   "cell_type": "code",
   "execution_count": 18,
   "metadata": {},
   "outputs": [
    {
     "data": {
      "text/plain": [
       "count   6,602.00\n",
       "mean      409.23\n",
       "std       657.67\n",
       "min         9.00\n",
       "25%       104.00\n",
       "50%       135.00\n",
       "75%       375.00\n",
       "max     4,274.00\n",
       "Name: price, dtype: float64"
      ]
     },
     "execution_count": 18,
     "metadata": {},
     "output_type": "execute_result"
    }
   ],
   "source": [
    "# удаляем значения, превышающие 99%\n",
    "\n",
    "data = (\n",
    "    data[\n",
    "        data['price'] <= \n",
    "        np.percentile(data['price'], 99)\n",
    "    ]\n",
    ")\n",
    "\n",
    "# снова смотрим на статистику\n",
    "\n",
    "data['price'].describe()"
   ]
  },
  {
   "cell_type": "markdown",
   "metadata": {},
   "source": [
    "В данных остаётся множество выбросов, но это скорее всего обусловлено нерепрезентативностью выборки, потому фильтрация по порогам значений нормального распределения в данном случае будет некорректна. \n",
    "\n",
    "Добавим в датасет столбец с общей стоимостью товара в рамках одного заказа, умножив количество единиц на цену:"
   ]
  },
  {
   "cell_type": "code",
   "execution_count": 19,
   "metadata": {},
   "outputs": [],
   "source": [
    "data['revenue'] = (data['items_sold'] * data['price']).astype('int16')    "
   ]
  },
  {
   "cell_type": "markdown",
   "metadata": {},
   "source": [
    "Несмотря на то, что большая часть товаров представлена в заказах в единственном экземпляре, этот столбец может понадобится для корректного расчёта полной стоимости заказов."
   ]
  },
  {
   "cell_type": "code",
   "execution_count": 20,
   "metadata": {},
   "outputs": [],
   "source": [
    "# изменим тип данных и перейдём дальше\n",
    "\n",
    "data['price'] = data['price'].astype('int16')"
   ]
  },
  {
   "cell_type": "markdown",
   "metadata": {},
   "source": [
    "### Проверка дубликатов"
   ]
  },
  {
   "cell_type": "markdown",
   "metadata": {},
   "source": [
    "Теперь, когда все столбца таблицы рассмотрены, проверим наличие дубликатов:"
   ]
  },
  {
   "cell_type": "code",
   "execution_count": 21,
   "metadata": {},
   "outputs": [
    {
     "name": "stdout",
     "output_type": "stream",
     "text": [
      "Количество полностью задублированных строк в таблице - 0.\n"
     ]
    }
   ],
   "source": [
    "# проверяем явные дубликаты\n",
    "\n",
    "print(f'Количество полностью задублированных строк в таблице - {len(data[data.duplicated()])}.')"
   ]
  },
  {
   "cell_type": "code",
   "execution_count": 22,
   "metadata": {
    "scrolled": false
   },
   "outputs": [
    {
     "data": {
      "text/html": [
       "<div>\n",
       "<style scoped>\n",
       "    .dataframe tbody tr th:only-of-type {\n",
       "        vertical-align: middle;\n",
       "    }\n",
       "\n",
       "    .dataframe tbody tr th {\n",
       "        vertical-align: top;\n",
       "    }\n",
       "\n",
       "    .dataframe thead th {\n",
       "        text-align: right;\n",
       "    }\n",
       "</style>\n",
       "<table border=\"1\" class=\"dataframe\">\n",
       "  <thead>\n",
       "    <tr style=\"text-align: right;\">\n",
       "      <th></th>\n",
       "      <th>date</th>\n",
       "      <th>customer_id</th>\n",
       "      <th>order_id</th>\n",
       "      <th>product</th>\n",
       "      <th>items_sold</th>\n",
       "      <th>price</th>\n",
       "      <th>weekday</th>\n",
       "      <th>revenue</th>\n",
       "    </tr>\n",
       "  </thead>\n",
       "  <tbody>\n",
       "    <tr>\n",
       "      <th>58</th>\n",
       "      <td>2018-10-02 18:00:00</td>\n",
       "      <td>b731df05-98fa-4610-8496-716ec530a02c</td>\n",
       "      <td>68474</td>\n",
       "      <td>доска гладильная eurogold professional 130х48 ...</td>\n",
       "      <td>1</td>\n",
       "      <td>3299</td>\n",
       "      <td>будни</td>\n",
       "      <td>3299</td>\n",
       "    </tr>\n",
       "    <tr>\n",
       "      <th>59</th>\n",
       "      <td>2018-10-02 19:00:00</td>\n",
       "      <td>b731df05-98fa-4610-8496-716ec530a02c</td>\n",
       "      <td>68474</td>\n",
       "      <td>доска гладильная eurogold professional 130х48 ...</td>\n",
       "      <td>1</td>\n",
       "      <td>3299</td>\n",
       "      <td>будни</td>\n",
       "      <td>3299</td>\n",
       "    </tr>\n",
       "    <tr>\n",
       "      <th>60</th>\n",
       "      <td>2018-10-02 20:00:00</td>\n",
       "      <td>b731df05-98fa-4610-8496-716ec530a02c</td>\n",
       "      <td>68474</td>\n",
       "      <td>доска гладильная eurogold professional 130х48 ...</td>\n",
       "      <td>1</td>\n",
       "      <td>3299</td>\n",
       "      <td>будни</td>\n",
       "      <td>3299</td>\n",
       "    </tr>\n",
       "    <tr>\n",
       "      <th>63</th>\n",
       "      <td>2018-10-03 04:00:00</td>\n",
       "      <td>b731df05-98fa-4610-8496-716ec530a02c</td>\n",
       "      <td>68474</td>\n",
       "      <td>доска гладильная eurogold professional 130х48 ...</td>\n",
       "      <td>1</td>\n",
       "      <td>3299</td>\n",
       "      <td>будни</td>\n",
       "      <td>3299</td>\n",
       "    </tr>\n",
       "    <tr>\n",
       "      <th>94</th>\n",
       "      <td>2018-10-04 13:00:00</td>\n",
       "      <td>32de7df8-8d4f-4c84-a7b9-c41d00dd83ba</td>\n",
       "      <td>68522</td>\n",
       "      <td>эвкалипт гунни d-17 см h-60 см</td>\n",
       "      <td>1</td>\n",
       "      <td>1409</td>\n",
       "      <td>будни</td>\n",
       "      <td>1409</td>\n",
       "    </tr>\n",
       "    <tr>\n",
       "      <th>...</th>\n",
       "      <td>...</td>\n",
       "      <td>...</td>\n",
       "      <td>...</td>\n",
       "      <td>...</td>\n",
       "      <td>...</td>\n",
       "      <td>...</td>\n",
       "      <td>...</td>\n",
       "      <td>...</td>\n",
       "    </tr>\n",
       "    <tr>\n",
       "      <th>6706</th>\n",
       "      <td>2019-10-28 10:00:00</td>\n",
       "      <td>57cc80a2-2610-4eef-9457-e7c3bf0c72f0</td>\n",
       "      <td>70960</td>\n",
       "      <td>сумка-тележка 2-х колесная gimi argo красная</td>\n",
       "      <td>1</td>\n",
       "      <td>1087</td>\n",
       "      <td>будни</td>\n",
       "      <td>1087</td>\n",
       "    </tr>\n",
       "    <tr>\n",
       "      <th>6711</th>\n",
       "      <td>2019-10-28 21:00:00</td>\n",
       "      <td>cb65d08a-dae7-4890-aef0-bb9f79055e02</td>\n",
       "      <td>73108</td>\n",
       "      <td>мирт d-9 см h-15 см</td>\n",
       "      <td>1</td>\n",
       "      <td>134</td>\n",
       "      <td>будни</td>\n",
       "      <td>134</td>\n",
       "    </tr>\n",
       "    <tr>\n",
       "      <th>6728</th>\n",
       "      <td>2019-10-31 00:00:00</td>\n",
       "      <td>ffaeab76-3a8d-49ee-860f-17273b2fc8a2</td>\n",
       "      <td>73136</td>\n",
       "      <td>таз пластмассовый со стиральной доской (иж), 1...</td>\n",
       "      <td>1</td>\n",
       "      <td>397</td>\n",
       "      <td>будни</td>\n",
       "      <td>397</td>\n",
       "    </tr>\n",
       "    <tr>\n",
       "      <th>6729</th>\n",
       "      <td>2019-10-31 02:00:00</td>\n",
       "      <td>ffaeab76-3a8d-49ee-860f-17273b2fc8a2</td>\n",
       "      <td>73136</td>\n",
       "      <td>таз пластмассовый со стиральной доской (иж), 1...</td>\n",
       "      <td>1</td>\n",
       "      <td>397</td>\n",
       "      <td>будни</td>\n",
       "      <td>397</td>\n",
       "    </tr>\n",
       "    <tr>\n",
       "      <th>6736</th>\n",
       "      <td>2019-10-31 16:00:00</td>\n",
       "      <td>344aa778-e436-419e-a9c6-9b8f37b7c1df</td>\n",
       "      <td>73137</td>\n",
       "      <td>сумка-тележка 2-х колесная gimi argo синяя</td>\n",
       "      <td>1</td>\n",
       "      <td>1087</td>\n",
       "      <td>будни</td>\n",
       "      <td>1087</td>\n",
       "    </tr>\n",
       "  </tbody>\n",
       "</table>\n",
       "<p>1630 rows × 8 columns</p>\n",
       "</div>"
      ],
      "text/plain": [
       "                    date                           customer_id order_id  \\\n",
       "58   2018-10-02 18:00:00  b731df05-98fa-4610-8496-716ec530a02c    68474   \n",
       "59   2018-10-02 19:00:00  b731df05-98fa-4610-8496-716ec530a02c    68474   \n",
       "60   2018-10-02 20:00:00  b731df05-98fa-4610-8496-716ec530a02c    68474   \n",
       "63   2018-10-03 04:00:00  b731df05-98fa-4610-8496-716ec530a02c    68474   \n",
       "94   2018-10-04 13:00:00  32de7df8-8d4f-4c84-a7b9-c41d00dd83ba    68522   \n",
       "...                  ...                                   ...      ...   \n",
       "6706 2019-10-28 10:00:00  57cc80a2-2610-4eef-9457-e7c3bf0c72f0    70960   \n",
       "6711 2019-10-28 21:00:00  cb65d08a-dae7-4890-aef0-bb9f79055e02    73108   \n",
       "6728 2019-10-31 00:00:00  ffaeab76-3a8d-49ee-860f-17273b2fc8a2    73136   \n",
       "6729 2019-10-31 02:00:00  ffaeab76-3a8d-49ee-860f-17273b2fc8a2    73136   \n",
       "6736 2019-10-31 16:00:00  344aa778-e436-419e-a9c6-9b8f37b7c1df    73137   \n",
       "\n",
       "                                                product  items_sold  price  \\\n",
       "58    доска гладильная eurogold professional 130х48 ...           1   3299   \n",
       "59    доска гладильная eurogold professional 130х48 ...           1   3299   \n",
       "60    доска гладильная eurogold professional 130х48 ...           1   3299   \n",
       "63    доска гладильная eurogold professional 130х48 ...           1   3299   \n",
       "94                       эвкалипт гунни d-17 см h-60 см           1   1409   \n",
       "...                                                 ...         ...    ...   \n",
       "6706       сумка-тележка 2-х колесная gimi argo красная           1   1087   \n",
       "6711                                мирт d-9 см h-15 см           1    134   \n",
       "6728  таз пластмассовый со стиральной доской (иж), 1...           1    397   \n",
       "6729  таз пластмассовый со стиральной доской (иж), 1...           1    397   \n",
       "6736         сумка-тележка 2-х колесная gimi argo синяя           1   1087   \n",
       "\n",
       "     weekday  revenue  \n",
       "58     будни     3299  \n",
       "59     будни     3299  \n",
       "60     будни     3299  \n",
       "63     будни     3299  \n",
       "94     будни     1409  \n",
       "...      ...      ...  \n",
       "6706   будни     1087  \n",
       "6711   будни      134  \n",
       "6728   будни      397  \n",
       "6729   будни      397  \n",
       "6736   будни     1087  \n",
       "\n",
       "[1630 rows x 8 columns]"
      ]
     },
     "execution_count": 22,
     "metadata": {},
     "output_type": "execute_result"
    }
   ],
   "source": [
    "# проверим дубликаты по всем столбцам, кроме даты\n",
    "\n",
    "cols = data.columns.to_list()[1:]\n",
    "\n",
    "data[data[cols].duplicated()]"
   ]
  },
  {
   "cell_type": "markdown",
   "metadata": {},
   "source": [
    "- Если не рассмотривать столбец с датой заказа - данные содержат 1,853 задублированные строки. Скорее всего это обусловлено тем, что у заказов меняется статуc (например, \"заказ принят\" или \"оплачено\"), и с каждым обновлением данные снова попадают в историю транзакции. В целях анализа ассортимента товаров эти данные не нужны, потому все задублированные строки будут удалены:"
   ]
  },
  {
   "cell_type": "code",
   "execution_count": 23,
   "metadata": {},
   "outputs": [],
   "source": [
    "# убираем задублированные заказы\n",
    "\n",
    "data = data[~data[cols].duplicated()]"
   ]
  },
  {
   "cell_type": "markdown",
   "metadata": {},
   "source": [
    "Теперь убедимся, что на каждый заказ приходится один уникальный пользователь:"
   ]
  },
  {
   "cell_type": "code",
   "execution_count": 24,
   "metadata": {},
   "outputs": [
    {
     "data": {
      "text/html": [
       "<div>\n",
       "<style scoped>\n",
       "    .dataframe tbody tr th:only-of-type {\n",
       "        vertical-align: middle;\n",
       "    }\n",
       "\n",
       "    .dataframe tbody tr th {\n",
       "        vertical-align: top;\n",
       "    }\n",
       "\n",
       "    .dataframe thead th {\n",
       "        text-align: right;\n",
       "    }\n",
       "</style>\n",
       "<table border=\"1\" class=\"dataframe\">\n",
       "  <thead>\n",
       "    <tr style=\"text-align: right;\">\n",
       "      <th></th>\n",
       "      <th>date</th>\n",
       "      <th>customer_id</th>\n",
       "      <th>order_id</th>\n",
       "      <th>product</th>\n",
       "      <th>items_sold</th>\n",
       "      <th>price</th>\n",
       "      <th>weekday</th>\n",
       "      <th>revenue</th>\n",
       "    </tr>\n",
       "  </thead>\n",
       "  <tbody>\n",
       "    <tr>\n",
       "      <th>512</th>\n",
       "      <td>2018-10-28 22:00:00</td>\n",
       "      <td>0b5ce2c7-acef-4a9a-b821-61a44ed05557</td>\n",
       "      <td>68785</td>\n",
       "      <td>сиденье в ванну раздвижное, белый, св5, ника</td>\n",
       "      <td>1</td>\n",
       "      <td>374</td>\n",
       "      <td>выходные</td>\n",
       "      <td>374</td>\n",
       "    </tr>\n",
       "    <tr>\n",
       "      <th>538</th>\n",
       "      <td>2018-10-30 21:00:00</td>\n",
       "      <td>c1dd5c0e-51db-4a5d-91a3-5374cb20043d</td>\n",
       "      <td>68785</td>\n",
       "      <td>сиденье в ванну раздвижное, белый, св5, ника</td>\n",
       "      <td>1</td>\n",
       "      <td>374</td>\n",
       "      <td>будни</td>\n",
       "      <td>374</td>\n",
       "    </tr>\n",
       "    <tr>\n",
       "      <th>1154</th>\n",
       "      <td>2018-12-10 12:00:00</td>\n",
       "      <td>2f955596-4b13-432e-93f3-6433395aafe6</td>\n",
       "      <td>69283</td>\n",
       "      <td>сушилка для белья на батарею ника сб6-65 двухъ...</td>\n",
       "      <td>1</td>\n",
       "      <td>164</td>\n",
       "      <td>будни</td>\n",
       "      <td>164</td>\n",
       "    </tr>\n",
       "    <tr>\n",
       "      <th>1160</th>\n",
       "      <td>2018-12-10 16:00:00</td>\n",
       "      <td>e3805ccd-2d64-4d0e-92dd-902293555c35</td>\n",
       "      <td>69283</td>\n",
       "      <td>сушилка для белья на батарею ника сб6-65 двухъ...</td>\n",
       "      <td>1</td>\n",
       "      <td>164</td>\n",
       "      <td>будни</td>\n",
       "      <td>164</td>\n",
       "    </tr>\n",
       "    <tr>\n",
       "      <th>1177</th>\n",
       "      <td>2018-12-11 21:00:00</td>\n",
       "      <td>954172a5-634c-4a50-941d-9db6d15a7377</td>\n",
       "      <td>69310</td>\n",
       "      <td>муляж груша желтый 9,5 см полиуретан</td>\n",
       "      <td>7</td>\n",
       "      <td>59</td>\n",
       "      <td>будни</td>\n",
       "      <td>413</td>\n",
       "    </tr>\n",
       "    <tr>\n",
       "      <th>...</th>\n",
       "      <td>...</td>\n",
       "      <td>...</td>\n",
       "      <td>...</td>\n",
       "      <td>...</td>\n",
       "      <td>...</td>\n",
       "      <td>...</td>\n",
       "      <td>...</td>\n",
       "      <td>...</td>\n",
       "    </tr>\n",
       "    <tr>\n",
       "      <th>6447</th>\n",
       "      <td>2019-09-28 10:00:00</td>\n",
       "      <td>a3d7fb5c-d3fb-40d6-b060-47a7061ca442</td>\n",
       "      <td>72790</td>\n",
       "      <td>сушилка для белья потолочно-настенная gimi lif...</td>\n",
       "      <td>1</td>\n",
       "      <td>1424</td>\n",
       "      <td>выходные</td>\n",
       "      <td>1424</td>\n",
       "    </tr>\n",
       "    <tr>\n",
       "      <th>6474</th>\n",
       "      <td>2019-09-30 09:00:00</td>\n",
       "      <td>07b63f16-aa4a-4acc-a7a5-af941fd4b0a9</td>\n",
       "      <td>72790</td>\n",
       "      <td>сушилка для белья потолочно-настенная gimi lif...</td>\n",
       "      <td>1</td>\n",
       "      <td>1424</td>\n",
       "      <td>будни</td>\n",
       "      <td>1424</td>\n",
       "    </tr>\n",
       "    <tr>\n",
       "      <th>6576</th>\n",
       "      <td>2019-10-10 22:00:00</td>\n",
       "      <td>31a39955-8a93-42f3-8839-04a9693632a7</td>\n",
       "      <td>72778</td>\n",
       "      <td>шеффлера голд капелла d-12 см h-25 см</td>\n",
       "      <td>1</td>\n",
       "      <td>149</td>\n",
       "      <td>будни</td>\n",
       "      <td>149</td>\n",
       "    </tr>\n",
       "    <tr>\n",
       "      <th>6601</th>\n",
       "      <td>2019-10-13 15:00:00</td>\n",
       "      <td>b1dbc7c4-3c84-40a7-80c9-46e2f79d24ad</td>\n",
       "      <td>72950</td>\n",
       "      <td>кастрюля эмалированная стэма с-1624 12 л цилин...</td>\n",
       "      <td>1</td>\n",
       "      <td>974</td>\n",
       "      <td>выходные</td>\n",
       "      <td>974</td>\n",
       "    </tr>\n",
       "    <tr>\n",
       "      <th>6606</th>\n",
       "      <td>2019-10-14 09:00:00</td>\n",
       "      <td>2f1671cc-47eb-49bb-a40b-808375f4218b</td>\n",
       "      <td>72950</td>\n",
       "      <td>кастрюля эмалированная стэма с-1624 12 л цилин...</td>\n",
       "      <td>1</td>\n",
       "      <td>974</td>\n",
       "      <td>будни</td>\n",
       "      <td>974</td>\n",
       "    </tr>\n",
       "  </tbody>\n",
       "</table>\n",
       "<p>64 rows × 8 columns</p>\n",
       "</div>"
      ],
      "text/plain": [
       "                    date                           customer_id order_id  \\\n",
       "512  2018-10-28 22:00:00  0b5ce2c7-acef-4a9a-b821-61a44ed05557    68785   \n",
       "538  2018-10-30 21:00:00  c1dd5c0e-51db-4a5d-91a3-5374cb20043d    68785   \n",
       "1154 2018-12-10 12:00:00  2f955596-4b13-432e-93f3-6433395aafe6    69283   \n",
       "1160 2018-12-10 16:00:00  e3805ccd-2d64-4d0e-92dd-902293555c35    69283   \n",
       "1177 2018-12-11 21:00:00  954172a5-634c-4a50-941d-9db6d15a7377    69310   \n",
       "...                  ...                                   ...      ...   \n",
       "6447 2019-09-28 10:00:00  a3d7fb5c-d3fb-40d6-b060-47a7061ca442    72790   \n",
       "6474 2019-09-30 09:00:00  07b63f16-aa4a-4acc-a7a5-af941fd4b0a9    72790   \n",
       "6576 2019-10-10 22:00:00  31a39955-8a93-42f3-8839-04a9693632a7    72778   \n",
       "6601 2019-10-13 15:00:00  b1dbc7c4-3c84-40a7-80c9-46e2f79d24ad    72950   \n",
       "6606 2019-10-14 09:00:00  2f1671cc-47eb-49bb-a40b-808375f4218b    72950   \n",
       "\n",
       "                                                product  items_sold  price  \\\n",
       "512        сиденье в ванну раздвижное, белый, св5, ника           1    374   \n",
       "538        сиденье в ванну раздвижное, белый, св5, ника           1    374   \n",
       "1154  сушилка для белья на батарею ника сб6-65 двухъ...           1    164   \n",
       "1160  сушилка для белья на батарею ника сб6-65 двухъ...           1    164   \n",
       "1177               муляж груша желтый 9,5 см полиуретан           7     59   \n",
       "...                                                 ...         ...    ...   \n",
       "6447  сушилка для белья потолочно-настенная gimi lif...           1   1424   \n",
       "6474  сушилка для белья потолочно-настенная gimi lif...           1   1424   \n",
       "6576              шеффлера голд капелла d-12 см h-25 см           1    149   \n",
       "6601  кастрюля эмалированная стэма с-1624 12 л цилин...           1    974   \n",
       "6606  кастрюля эмалированная стэма с-1624 12 л цилин...           1    974   \n",
       "\n",
       "       weekday  revenue  \n",
       "512   выходные      374  \n",
       "538      будни      374  \n",
       "1154     будни      164  \n",
       "1160     будни      164  \n",
       "1177     будни      413  \n",
       "...        ...      ...  \n",
       "6447  выходные     1424  \n",
       "6474     будни     1424  \n",
       "6576     будни      149  \n",
       "6601  выходные      974  \n",
       "6606     будни      974  \n",
       "\n",
       "[64 rows x 8 columns]"
      ]
     },
     "execution_count": 24,
     "metadata": {},
     "output_type": "execute_result"
    }
   ],
   "source": [
    "# сгруппирем данные по заказам\n",
    "# на каждый заказ должен быть один уникальный пользователь\n",
    "\n",
    "orders = (\n",
    "    data\n",
    "    .groupby('order_id')\n",
    "    .agg(dict(customer_id='nunique'))\n",
    ")\n",
    "\n",
    "# создадим список аномальных заказов\n",
    "\n",
    "abnormal_orders = (\n",
    "    orders[orders['customer_id'] > 1]\n",
    "    .index\n",
    "    .to_list()\n",
    ")\n",
    "\n",
    "# фильтруем данные по полученному списку\n",
    "\n",
    "data.query('order_id in @abnormal_orders')"
   ]
  },
  {
   "cell_type": "markdown",
   "metadata": {},
   "source": [
    "В получившейся таблице большая часть заказов является дубликатами, но помимо даты также отличается уникальным идентификатором пользователя - скорее всего это обусловлено технической ошибкой. Во избежание негативного влияния аномалий на результаты исследования эти заказы будут удалены из датасета:"
   ]
  },
  {
   "cell_type": "code",
   "execution_count": 25,
   "metadata": {},
   "outputs": [],
   "source": [
    "data = (\n",
    "    data\n",
    "    .query('order_id not in @abnormal_orders')\n",
    "    .reset_index(drop=True)\n",
    ")"
   ]
  },
  {
   "cell_type": "markdown",
   "metadata": {},
   "source": [
    "### Категоризация товаров"
   ]
  },
  {
   "cell_type": "markdown",
   "metadata": {},
   "source": [
    "Ещё одна серьёзная задача - определение категории товара. Для этого попробуем воспользоваться внешними источниками."
   ]
  },
  {
   "cell_type": "code",
   "execution_count": 26,
   "metadata": {},
   "outputs": [
    {
     "data": {
      "application/vnd.jupyter.widget-view+json": {
       "model_id": "68610298507b4f56bcf0b6ccd2e2736d",
       "version_major": 2,
       "version_minor": 0
      },
      "text/plain": [
       "  0%|          | 0/4908 [00:00<?, ?it/s]"
      ]
     },
     "metadata": {},
     "output_type": "display_data"
    },
    {
     "data": {
      "text/plain": [
       "пеларгония зональная         386\n",
       "сушилка для                  270\n",
       "пеларгония розебудная        248\n",
       "рассада зелени               229\n",
       "томата (помидор)             146\n",
       "                            ... \n",
       "кипятильник электрический      1\n",
       "сциндапсус в                   1\n",
       "простыня на                    1\n",
       "набор ковров                   1\n",
       "ведро овальное                 1\n",
       "Name: product, Length: 903, dtype: int64"
      ]
     },
     "execution_count": 26,
     "metadata": {},
     "output_type": "execute_result"
    }
   ],
   "source": [
    "# посмотрим на уникальные сочетания первых двух слов из названия продуктов\n",
    "\n",
    "(\n",
    "    data['product']\n",
    "    .progress_apply(name_cut)\n",
    "    .value_counts()\n",
    ")"
   ]
  },
  {
   "cell_type": "markdown",
   "metadata": {},
   "source": [
    "Среди продуктов интернет-магазина явной популярностью пользуются различные виды растений - используем данные сайта [**Растениевод**](https://rastenievod.com) для категоризации таких товаров. Используя парсинг представленного на сайте каталога домашних и садовых растений мы сможем сформировать списки, которые будут использованы как аргумент функции категоризации. Для автоматизации процесса категоризации напишем несколько функций:"
   ]
  },
  {
   "cell_type": "code",
   "execution_count": 27,
   "metadata": {},
   "outputs": [],
   "source": [
    "# функция для удаления дубликатов из списков\n",
    "\n",
    "def drop_d(l):\n",
    "    l = list(dict.fromkeys(l))\n",
    "    return l"
   ]
  },
  {
   "cell_type": "code",
   "execution_count": 28,
   "metadata": {},
   "outputs": [
    {
     "name": "stdout",
     "output_type": "stream",
     "text": [
      "['комнатный', 'растение', 'горшок', 'кофе', 'арабика']\n"
     ]
    }
   ],
   "source": [
    "# напишем функцию для лемматизации названий продуктов\n",
    "# аргументом функции будет текст, который будет\n",
    "# разбит на элементы, лемматезирован и сохранён в список\n",
    "\n",
    "m = Mystem()\n",
    "noise = stopwords.words('russian')\n",
    "\n",
    "def itemize(names):\n",
    "    \n",
    "    items = m.lemmatize(names)\n",
    "    items_list = []\n",
    "    \n",
    "    for i in range(len(items)):\n",
    "        if re.search(r'[А-я]+', items[i]) != None:\n",
    "            if items[i] not in noise:\n",
    "                items_list.append(items[i])\n",
    "    return drop_d(items_list)\n",
    "\n",
    "try:\n",
    "    print(itemize(data['product'][1]))\n",
    "except:\n",
    "    print('Не получилось')"
   ]
  },
  {
   "cell_type": "code",
   "execution_count": 29,
   "metadata": {},
   "outputs": [],
   "source": [
    "# пишем функцию для парсинга сайта, результат сохраняем в списки\n",
    "\n",
    "base_url = 'https://rastenievod.com/category/'\n",
    "noise = stopwords.words('russian')\n",
    "\n",
    "\n",
    "def get_plants(category, end_val): \n",
    "\n",
    "    '''На сайте три категории, внутри каждой от 10 до 20 страниц\n",
    "       Ссылки однотипные, потому можно использовать метод перебора'''\n",
    "    plants = []\n",
    "    \n",
    "    for i in trange (1, end_val): # диапазон = количество веб-страниц\n",
    "        req = requests.get(base_url + category + '/page' + str(i))\n",
    "        soup = BeautifulSoup(req.text, 'lxml')\n",
    "        \n",
    "        # ищем названия в загаловках\n",
    "        for name in soup.find_all('h2', attrs={'class':'entry-title'}): \n",
    "            plants.append(\n",
    "                name\n",
    "                .text\n",
    "                .lower()\n",
    "                .split()\n",
    "            )\n",
    "            \n",
    "    # в результате получился список списков\n",
    "    # разделим его на элементы и удалим дубликаты\n",
    "    \n",
    "    plants_cleaned = []\n",
    "\n",
    "    for sublists in plants:\n",
    "        for items in sublists:\n",
    "            if re.search(r'[А-яA-z]{2,}', items) != None:\n",
    "                if items not in noise:\n",
    "                    plants_cleaned.append(items)\n",
    "    \n",
    "    # избавимся от лишних символов\n",
    "    \n",
    "    for i in range(len(plants_cleaned)):\n",
    "        plants_cleaned[i] = (\n",
    "            plants_cleaned[i]\n",
    "            .replace('(','')\n",
    "            .replace(')','')\n",
    "        )\n",
    "    plants_cleaned.sort()\n",
    "    \n",
    "    # результат функции -\n",
    "    # отсортированный список лемматизированных уникальных значений\n",
    "    \n",
    "    result = itemize(', '.join(plants_cleaned))\n",
    "    \n",
    "    return drop_d(result)"
   ]
  },
  {
   "cell_type": "code",
   "execution_count": 30,
   "metadata": {},
   "outputs": [
    {
     "data": {
      "application/vnd.jupyter.widget-view+json": {
       "model_id": "7b50bb516046402e8a9c026f5d984040",
       "version_major": 2,
       "version_minor": 0
      },
      "text/plain": [
       "  0%|          | 0/20 [00:00<?, ?it/s]"
      ]
     },
     "metadata": {},
     "output_type": "display_data"
    },
    {
     "data": {
      "text/plain": [
       "['абелий',\n",
       " 'абутилон',\n",
       " 'авокадо',\n",
       " 'агава',\n",
       " 'аганизия',\n",
       " 'агапантус',\n",
       " 'аглаоморф',\n",
       " 'аглаонема',\n",
       " 'адениум',\n",
       " 'адиантум']"
      ]
     },
     "execution_count": 30,
     "metadata": {},
     "output_type": "execute_result"
    }
   ],
   "source": [
    "# попробуем получить список домашних растений \n",
    "\n",
    "houseplants = get_plants('komnatnye-rasteniya', 21)\n",
    "\n",
    "houseplants[:10]"
   ]
  },
  {
   "cell_type": "markdown",
   "metadata": {},
   "source": [
    "Получилось! Используем функцию для получения списков ещё для двух категорий, после чего попробуем категоризовать товары из датасета:"
   ]
  },
  {
   "cell_type": "code",
   "execution_count": 31,
   "metadata": {},
   "outputs": [
    {
     "data": {
      "application/vnd.jupyter.widget-view+json": {
       "model_id": "2961aacbe8914c61818e7089cd939300",
       "version_major": 2,
       "version_minor": 0
      },
      "text/plain": [
       "  0%|          | 0/10 [00:00<?, ?it/s]"
      ]
     },
     "metadata": {},
     "output_type": "display_data"
    }
   ],
   "source": [
    "# список садовых цветов\n",
    "\n",
    "garden_flowers = get_plants('cvety-v-sadu', 11)"
   ]
  },
  {
   "cell_type": "code",
   "execution_count": 32,
   "metadata": {
    "scrolled": true
   },
   "outputs": [
    {
     "data": {
      "application/vnd.jupyter.widget-view+json": {
       "model_id": "bad174b100be4d63be0015fa9ed091bf",
       "version_major": 2,
       "version_minor": 0
      },
      "text/plain": [
       "  0%|          | 0/12 [00:00<?, ?it/s]"
      ]
     },
     "metadata": {},
     "output_type": "display_data"
    }
   ],
   "source": [
    "# список других садовых растений (деревья, овощи и пр.)\n",
    "\n",
    "garden_other = get_plants('sad-i-ogorod', 13)"
   ]
  },
  {
   "cell_type": "code",
   "execution_count": 33,
   "metadata": {},
   "outputs": [],
   "source": [
    "# пишем функцию для проверки вхождения названия товаров в списки\n",
    "\n",
    "x_list = houseplants\n",
    "x_name = 'домашние растения'\n",
    "\n",
    "y_list = garden_flowers + garden_other\n",
    "y_name = 'садоводство'\n",
    "\n",
    "def get_category(product):\n",
    "\n",
    "    '''так как в названии продукта будет проверяться каждое слово,\n",
    "       введём бальную систему - создадим счётчик соответствия категории,\n",
    "       за каждое вхождение в список присваиваем балл,\n",
    "       чем больше баллов - тем более вероятно вхождение в категорию\n",
    "       если количество баллов равно - присваиваем категорию второго списка'''\n",
    "   \n",
    "    x_score = 0\n",
    "    y_score = 0\n",
    "\n",
    "    for item in itemize(product):\n",
    "        if item in x_list:\n",
    "            x_score += 1\n",
    "        elif item in y_list:\n",
    "            y_score += 1            \n",
    "    if x_score > y_score:  \n",
    "        return x_name\n",
    "    elif y_score > x_score:\n",
    "        return y_name\n",
    "    elif (y_score == x_score) and x_score != 0:\n",
    "        return y_name\n",
    "    else:\n",
    "        return 'TBD'"
   ]
  },
  {
   "cell_type": "code",
   "execution_count": null,
   "metadata": {
    "scrolled": true
   },
   "outputs": [
    {
     "data": {
      "application/vnd.jupyter.widget-view+json": {
       "model_id": "a176d3b676694ae19f4b4c102b35389a",
       "version_major": 2,
       "version_minor": 0
      },
      "text/plain": [
       "  0%|          | 0/4908 [00:00<?, ?it/s]"
      ]
     },
     "metadata": {},
     "output_type": "display_data"
    }
   ],
   "source": [
    "# создаём столбец с результатом работы функции\n",
    "\n",
    "data['category'] = (\n",
    "    data['product']\n",
    "    .progress_apply(get_category)\n",
    "    .astype('string')\n",
    ")"
   ]
  },
  {
   "cell_type": "code",
   "execution_count": null,
   "metadata": {},
   "outputs": [],
   "source": [
    "# посмотрим сколько товаров удалось категоризовать\n",
    "\n",
    "data['category'].value_counts()"
   ]
  },
  {
   "cell_type": "markdown",
   "metadata": {},
   "source": [
    "В результате удалось в автоматизированном режиме определить категорию больше половины товаров. Посмотрим на остальные продукты и постараемся отнести к какой-либо группе:"
   ]
  },
  {
   "cell_type": "code",
   "execution_count": null,
   "metadata": {
    "scrolled": true
   },
   "outputs": [],
   "source": [
    "# смотрим уникальные значения неопределённой категории товаров\n",
    "\n",
    "(\n",
    "    data\n",
    "    .query('category == \"TBD\"')['product']\n",
    "    .progress_apply(name_cut)\n",
    "    .value_counts()\n",
    ")"
   ]
  },
  {
   "cell_type": "markdown",
   "metadata": {},
   "source": [
    "В данных осталось 430 уникальных товарных позиций без категории - для их обработки используем прайс-листы каталога товаров хозяйственного магазина [**Дома просто**](https://doma-prosto.ru/):"
   ]
  },
  {
   "cell_type": "code",
   "execution_count": null,
   "metadata": {
    "scrolled": false
   },
   "outputs": [],
   "source": [
    "# скачиваем прайс-лист товаров для дома\n",
    "\n",
    "household = pd.read_excel('https://doma-prosto.ru/eprices/download/1/')\n",
    "\n",
    "# выводим первые 10 строк\n",
    "\n",
    "household.head(10)"
   ]
  },
  {
   "cell_type": "markdown",
   "metadata": {},
   "source": [
    "Из всей таблицы нам необходимы лишь наименования товара (пятый столбец) - из них можно будет сформировать список, по которому можно будет определять категорию продуктов из основного датасета. Посмотрим на таблицу второго сайта:"
   ]
  },
  {
   "cell_type": "markdown",
   "metadata": {},
   "source": [
    "Напишем функцию для обработки прайс-листа, которую можно будет применять и к другим данным этого сайта:"
   ]
  },
  {
   "cell_type": "code",
   "execution_count": null,
   "metadata": {},
   "outputs": [],
   "source": [
    "def transform_excel(link, header=6, column='Наименование'):\n",
    "    \n",
    "    '''Функция преобразует столбец с наименованиями \n",
    "       товаров файла формата xlsx в список лемметизированных \n",
    "       уникальных значений'''\n",
    "    \n",
    "    table = (\n",
    "        pd.read_excel(\n",
    "            link,\n",
    "            header=header)[column]    \n",
    "    )\n",
    "    result = list(table.str.lower())\n",
    "    \n",
    "    \n",
    "    # избавимся от лишних символов\n",
    "    \n",
    "    for i in range(len(result)):\n",
    "        result[i] = (\n",
    "            result[i]\n",
    "            .replace('(','')\n",
    "            .replace(')','')\n",
    "        )\n",
    "    \n",
    "    # результат функции -\n",
    "    # отсортированный список лемматизированных уникальных значений\n",
    "    \n",
    "    result = itemize(', '.join(result))\n",
    "    result_filtered = []\n",
    "    \n",
    "    for items in result:\n",
    "        if re.search(r'[А-я]{3,}', items) != None:\n",
    "            if items not in noise:\n",
    "                 result_filtered.append(items)\n",
    "    \n",
    "    return drop_d(result_filtered)\n",
    "    "
   ]
  },
  {
   "cell_type": "code",
   "execution_count": null,
   "metadata": {
    "scrolled": false
   },
   "outputs": [],
   "source": [
    "# получаем списки\n",
    "\n",
    "household = transform_excel('https://doma-prosto.ru/eprices/download/1/')\n",
    "kitchen = transform_excel('https://doma-prosto.ru/eprices/download/20/')"
   ]
  },
  {
   "cell_type": "markdown",
   "metadata": {},
   "source": [
    "Так как на сайте товары для кухни в основном представлены аксессуарами, дополним список `kitchen` каталогом посуды с сайта [**Posuda Super**](http://posuda-super.ru/):"
   ]
  },
  {
   "cell_type": "code",
   "execution_count": null,
   "metadata": {},
   "outputs": [],
   "source": [
    "tableware_url = 'http://posuda-super.ru/prajs-list.html'\n",
    "\n",
    "req = requests.get(tableware_url)\n",
    "soup = BeautifulSoup(req.text, 'lxml')"
   ]
  },
  {
   "cell_type": "code",
   "execution_count": null,
   "metadata": {},
   "outputs": [],
   "source": [
    "# парсим данные\n",
    "\n",
    "tableware = (\n",
    "    soup\n",
    "    .find('table', \n",
    "          attrs={'class':'price-list'})\n",
    "    .text\n",
    "    .lower()\n",
    "    .split()\n",
    ")\n",
    "\n",
    "# очищаем и сохраняем в список\n",
    "\n",
    "tableware = itemize(', '.join(tableware))\n",
    "tableware_filtered = []\n",
    "    \n",
    "for items in tableware:\n",
    "    if re.search(r'[А-я]{3,}', items) != None:\n",
    "        if items not in noise:\n",
    "            tableware_filtered.append(items)\n",
    "    \n",
    "tableware = (drop_d(tableware_filtered))"
   ]
  },
  {
   "cell_type": "code",
   "execution_count": null,
   "metadata": {},
   "outputs": [],
   "source": [
    "# запускаем функцию категоризации\n",
    "# результат сохраняем в отдельном столбце\n",
    "\n",
    "x_list = household\n",
    "x_name = 'товары для дома'\n",
    "\n",
    "y_list = kitchen + tableware\n",
    "y_name = 'товары для кухни'\n",
    "\n",
    "data['category_1'] = (\n",
    "    data['product']\n",
    "    .progress_apply(get_category)\n",
    ")\n",
    "\n",
    "# объединяем категории\n",
    "\n",
    "for i in range(len(data)):\n",
    "    if data['category'][i] == 'TBD':\n",
    "        data['category'][i] = data['category_1'][i]\n",
    "    else: continue\n",
    "\n",
    "data.drop('category_1', axis=1, inplace=True)\n",
    "\n",
    "\n",
    "# смотрим на результат\n",
    "\n",
    "data['category'].value_counts()"
   ]
  },
  {
   "cell_type": "code",
   "execution_count": null,
   "metadata": {},
   "outputs": [],
   "source": [
    "# смотрим уникальные значения неопределённой категории товаров\n",
    "\n",
    "(\n",
    "    data\n",
    "    .query('category == \"TBD\"')['product']\n",
    "    .progress_apply(name_cut)\n",
    "    .value_counts()\n",
    ")"
   ]
  },
  {
   "cell_type": "markdown",
   "metadata": {},
   "source": [
    "В данных осталось 158 некатегоризированных товаров. Так как это около 3% от датасета, целесообразнее будет удалить эти данные, чем категоризовать их вручную:"
   ]
  },
  {
   "cell_type": "code",
   "execution_count": null,
   "metadata": {},
   "outputs": [],
   "source": [
    "data = data.query('category != \"TBD\"')"
   ]
  },
  {
   "cell_type": "markdown",
   "metadata": {},
   "source": [
    "### Итоги"
   ]
  },
  {
   "cell_type": "markdown",
   "metadata": {},
   "source": [
    "При обработке данных были отмечены следующие моменты:\n",
    "\n",
    "- Данные содержат информацию о заказах, совершённых с 10.01.2018 по 31.10.2019\n",
    "\n",
    "\n",
    "\n",
    "- Рассматриваемые 6,737 транзакций совершили 2,451 уникальных пользователей, причём 888 из них совершил один и тот же пользователь, что возможно характеризует его как оптового покупателя.\n",
    "\n",
    "\n",
    "\n",
    "- В данных содержится информация об 2,784 уникальных заказах, в самом крупном из которых - 888 товаров, что явно указывает на оптового покупателя, выделенного при рассмотрении предыдущего столбца.\n",
    "\n",
    "\n",
    "\n",
    "- В данных представлены 2,341 уникальный товар, самым популярным из которых является рассада кабачка определённого сорта. \n",
    "\n",
    "\n",
    "\n",
    "- При группировке по первым двум словам из названия получается 927 уникальных товара, 462 из которых являются вариантом рассады кабачка. \n",
    "\n",
    "\n",
    "\n",
    "- Большая часть товаров присутствует в заказах в единичном экземпляре. Максимальное значение столбца в 1,000 штук может быть как оптовой закупкой, так и выбросом, вызванным технической аномалией.\n",
    "\n",
    "\n",
    "\n",
    "- Средняя цена товара превышает значение 75% процентиля, что указывает на наличие аномальных выбросов.\n",
    "\n",
    "\n",
    "\n",
    "- Если не рассмотривать столбец с датой заказа - данные содержат 1,853 задублированные строки. Скорее всего это обусловлено тем, что у заказов меняется статут (например, \"заказ принят\" или \"оплачено\"), и с каждым обновлением данные снова попадают в историю транзакции. В целях анализа ассортимента товаров эти данные не нужны, потому все задублированные строки будут удалены:"
   ]
  },
  {
   "cell_type": "markdown",
   "metadata": {},
   "source": [
    "В самом начале сырой датасет был сохранён в переменную `original` - попробуем сравнить его с обработанными данными:"
   ]
  },
  {
   "cell_type": "code",
   "execution_count": null,
   "metadata": {},
   "outputs": [],
   "source": [
    "# выводим общую информацию\n",
    "\n",
    "original.info()\n",
    "print('')\n",
    "data.info()\n",
    "\n",
    "# посчитаем разницу в количестве строк и используемых ресурсов памяти\n",
    "\n",
    "size_diff = (\n",
    "    round(\n",
    "        (len(data)/len(original)-1)*-100, 2)\n",
    ")\n",
    "\n",
    "memory_diff = round(\n",
    "    (data.memory_usage().sum()\n",
    "     /original.memory_usage().sum()-1)*-100, 2)\n",
    "\n",
    "print('')\n",
    "print(f'''В ходе предобработки данных было удалено {size_diff}% датасета, \n",
    "при этом удалось сократить использование памяти на {memory_diff}%.''')"
   ]
  },
  {
   "cell_type": "markdown",
   "metadata": {},
   "source": [
    "Обработанный датасет содержит 9 столбцов и 4,750 строк. За счёт изменения типов данных удалось сократить использование памяти, несмотря на добавление трёх дополнительных столбцов. Большая часть данных была удалена при обработке дубликатов, предположительно вызванных дублированием данных о заказах при изменении статуса. Вручную было удаленно не более 4% данных, потому распределение таких параметров, как цена и количество уникальных пользователей, осталось без изменений.\n",
    "\n",
    "Товары были категоризированы на четыре группы: `товары для дома`, `домашние растения`, `садоводство` и `товары для кухни`, также был добавлен столбцы `будни/выходные дни` и `выручка`."
   ]
  },
  {
   "cell_type": "markdown",
   "metadata": {},
   "source": [
    "<a id='3'></a>\n",
    "## Исследовательский анализ данных\n",
    "\n",
    "Исследование будет проведено в три этапа:\n",
    "1. [**Анализ заказов**](#3.1) - данные будут сгруппированы по идентификаторам, после чего будет визуализировано распределение значений\n",
    "2. [**Анализ товаров**](#3.2) - будет проведён аналогичный анализ данных, но уже сгруппированных по уникальным товарам\n",
    "3. [**ABC анализ**](#3.3) - будет проведён ABC-анализ товаров с учётом распределения всех основных параметров каждого товара."
   ]
  },
  {
   "cell_type": "markdown",
   "metadata": {},
   "source": [
    "<a id='3.1'></a>\n",
    "### Анализ заказов\n",
    "\n",
    "Приступим к анализу заказов - сгруппируем данные по уникальным идентификаторам и  изучим данные:"
   ]
  },
  {
   "cell_type": "code",
   "execution_count": null,
   "metadata": {},
   "outputs": [],
   "source": [
    "# сохраним копию датасета для eda\n",
    "\n",
    "eda = data.copy()\n",
    "\n",
    "# от даты оставим только год и месяц\n",
    "\n",
    "eda['month'] = (\n",
    "    pd.to_datetime(eda['date'])\n",
    "    .dt.to_period('M')\n",
    ")\n",
    "\n",
    "# группируем данные\n",
    "\n",
    "orders = (\n",
    "    eda\n",
    "    .pivot_table(\n",
    "        index=('month','order_id', 'category'),\n",
    "        values=('items_sold', 'revenue'),\n",
    "        aggfunc='sum'\n",
    "    )\n",
    "    .reset_index()\n",
    ")\n",
    "\n",
    "# выводим общую информацию\n",
    "\n",
    "orders.info()\n",
    "orders.describe()"
   ]
  },
  {
   "cell_type": "markdown",
   "metadata": {},
   "source": [
    "- В среднем заказе выручка составляет около 1,000 и количество товаров составляет около 3 шт. При этом больше половины заказов не достигают средних значений, что говорит о значительном смещении распределения значений вправо, что характеризует наличие выбросов. "
   ]
  },
  {
   "cell_type": "markdown",
   "metadata": {},
   "source": [
    "Начнём с поиска фактора сезонности - изучим распределение двух основных параметров `revenue` и `items_sold` по времени:"
   ]
  },
  {
   "cell_type": "code",
   "execution_count": null,
   "metadata": {},
   "outputs": [],
   "source": [
    "# группируем данные\n",
    "\n",
    "orders_by_month = (\n",
    "    orders\n",
    "    .groupby(['month', 'category'])\n",
    "    .agg('sum')\n",
    "    .reset_index()\n",
    ")\n",
    "\n",
    "# основные параметры\n",
    "\n",
    "params = ['items_sold', 'revenue']\n",
    "\n",
    "# функция для визуализации\n",
    "\n",
    "def time_dist(\n",
    "    param, color='skyblue', \n",
    "    df=(\n",
    "        orders_by_month\n",
    "        .groupby('month')\n",
    "        .agg('sum')\n",
    "        .reset_index()\n",
    "    ), hue=None):\n",
    "    \n",
    "    plot = sns.barplot(\n",
    "        data=df, y=param, \n",
    "        x='month', hue=hue, \n",
    "        color=color)\n",
    "    \n",
    "    return plot\n",
    "    "
   ]
  },
  {
   "cell_type": "code",
   "execution_count": null,
   "metadata": {
    "scrolled": false
   },
   "outputs": [],
   "source": [
    "# визуализируем данные о выручке и количестве проданных товаров\n",
    "\n",
    "for val in params:\n",
    "    \n",
    "    plt.figure(figsize=(15,5))\n",
    "\n",
    "    time_dist(val)\n",
    "\n",
    "    plt.title(val + ' per month')"
   ]
  },
  {
   "cell_type": "markdown",
   "metadata": {},
   "source": [
    "У количества проданных товаров и объёма продаж есть явные отличия по месяцам, но выявить какую-либо чёткую закономерность представляется затруднительным. Можно отметить следующие:\n",
    "\n",
    "- Пик по общей выручке приходится на октябрь 2018, а по количеству проданных товаров - на апрель и май.\n",
    "\n",
    "\n",
    "- При учёте обоих параметров самым слабым месяцем является январь. При этом октябрь 2019 показывает намного более низкие значения, чем показатели этого месяца в прошлом году.\n",
    "\n",
    "Попробуем визуализировать эти данные ещё раз, но уже в разрезе категорий:"
   ]
  },
  {
   "cell_type": "code",
   "execution_count": null,
   "metadata": {
    "scrolled": false
   },
   "outputs": [],
   "source": [
    "# визуализируем данные в разрезе категорий\n",
    "\n",
    "for val in params:\n",
    "    \n",
    "    plt.figure(figsize=(15,5))\n",
    "\n",
    "    time_dist(val, None, orders_by_month, 'category')\n",
    "    plt.title(val + ' per month')\n",
    "    plt.show()\n"
   ]
  },
  {
   "cell_type": "markdown",
   "metadata": {},
   "source": [
    "При категоризации товаров прослеживается явная подверженность сезонности для разных групп:\n",
    "\n",
    "- Категория **Домашние растения** имеет самое стабильное распределение по выручке, несмотря на перепады по количеству проданного товара - на протяжении всего года общая выручка держится на уровне 20,000. По обоим рассматриваемым параметрам эта категория никогда не занимает лидирующей позиции. Пик спроса приходится на апрель-май.\n",
    "\n",
    "\n",
    "- Товары категории **Садоводство** занимают лидерство по спросу и выручке на протяжении весенних месяцев, после чего происходит спад. Категория приносит стабильно выскокий доход на протяжении всего года, но по количеству проданных товаров апрель и май показывают аномально высокий спрос. Таким образом эту категорию можно охарактеризовать как наиболее подверженную фактору сезонности.\n",
    "\n",
    "\n",
    "- **Товары для дома** лидируют по выручке во все месяца, кроме апреля и мая, где для **Садоводства** начинается сезон. При этом же показатель количества проданных товаров является одним из самых низких - это явно указывает на высокую стоимость товаров\n",
    "\n",
    "\n",
    "- **Товары для кухни** имеют стабильный спрос осенне-зимние месяцы, после чего испытывают спад на протяжении следующего полугода, что отражается на обоих параметрах."
   ]
  },
  {
   "cell_type": "markdown",
   "metadata": {},
   "source": [
    "<a id='3.2'></a>\n",
    "### Анализ товаров\n",
    "Теперь проанализируем те же параметры в разрезе уникальных товаров:"
   ]
  },
  {
   "cell_type": "code",
   "execution_count": null,
   "metadata": {},
   "outputs": [],
   "source": [
    "# сгруппируем данные по уникальным товарам\n",
    "\n",
    "products = (\n",
    "    eda\n",
    "    .pivot_table(\n",
    "        index=('category', 'product'),\n",
    "        values=('items_sold', 'revenue'),\n",
    "        aggfunc='sum')\n",
    "    .reset_index()\n",
    "    .drop_duplicates()\n",
    ")\n",
    "\n",
    "# выводим общую информацию\n",
    "\n",
    "products.info()\n",
    "products.describe()"
   ]
  },
  {
   "cell_type": "markdown",
   "metadata": {},
   "source": [
    "- Всего 2,146  уникальных товаров. В среднем каждый товар за рассматриваемый период продаётся в количестве 4 шт. и приносит около 1,200 выручки."
   ]
  },
  {
   "cell_type": "markdown",
   "metadata": {},
   "source": [
    "Посмотрим на данные в разрезе категорий:"
   ]
  },
  {
   "cell_type": "code",
   "execution_count": null,
   "metadata": {},
   "outputs": [],
   "source": [
    "# общее количество проданных товаров и выручка по категориям\n",
    "\n",
    "fig, (ax1, ax2) = plt.subplots(1, 2, figsize=(15, 5), sharex=True)\n",
    "\n",
    "grouped = (\n",
    "    products\n",
    "    .groupby('category')\n",
    "    .agg('sum')\n",
    "    .reset_index()\n",
    ")\n",
    "\n",
    "sns.barplot(data=grouped, x='category', y='items_sold', ax=ax1)\n",
    "sns.barplot(data=grouped, x='category', y='revenue', ax=ax2)\n",
    "\n",
    "ax1.set_title('items sold within category')\n",
    "ax2.set_title('revenue within category')\n",
    "\n",
    "plt.show()"
   ]
  },
  {
   "cell_type": "markdown",
   "metadata": {},
   "source": [
    "- Категория **Садоводство** лидирует по количеству проданных товаров с большим отрывом - это указывает на низкую стоимость товара при большом спросе.\n",
    "\n",
    "- С категорией **Товары для дома** ситуация противоположная - самая высокая общая выручка и самое низкое количество проданного товара, что явно указывает на сравнительно высокую стоимость продуктов этой категории."
   ]
  },
  {
   "cell_type": "code",
   "execution_count": null,
   "metadata": {
    "scrolled": true
   },
   "outputs": [],
   "source": [
    "# посмотрим на категории в разрезе товаров\n",
    "\n",
    "fig, (ax1, ax2) = plt.subplots(1, 2, figsize=(15, 5), sharey=True)\n",
    "\n",
    "sns.stripplot(data=products, x='revenue', y='category', ax=ax1, hue='category')\n",
    "sns.stripplot(data=products, x='items_sold', y='category', ax=ax2, hue='category')\n",
    "    \n",
    "# ax1.set_title('revenue per product')\n",
    "# ax2.set_title('items sold per product')\n",
    "\n",
    "for axes in [ax1, ax2]:\n",
    "    axes.set_ylabel('')\n",
    "    \n",
    "plt.tight_layout()\n"
   ]
  },
  {
   "cell_type": "markdown",
   "metadata": {},
   "source": [
    "- Выводы из анализа куммулятивных значений подтверждаются - категория **Товары для дома** действительна характерна наличием особенно прибыльных товаров, ровно как и категория **Садоводство** - наличием особенно хорошо продающихся продуктов."
   ]
  },
  {
   "cell_type": "markdown",
   "metadata": {},
   "source": [
    "Посмотрим на распределение параметров:"
   ]
  },
  {
   "cell_type": "code",
   "execution_count": null,
   "metadata": {},
   "outputs": [],
   "source": [
    "# напишем функцию для визуализации распределения\n",
    "# в разрезе категорий и дней недели\n",
    "\n",
    "def kde_dist(par):\n",
    "\n",
    "    fig, (ax1, ax2) = plt.subplots(1, 2, figsize=(15,5), sharey=True)\n",
    "\n",
    "    sns.kdeplot(data=products, x=par, ax=ax1, fill=True)\n",
    "    sns.kdeplot(data=products, x=par, hue='category', ax=ax2)\n",
    "\n",
    "    \n",
    "    plt.suptitle(par + ' distribution', fontsize=18)\n",
    "    ax1.set_title('general')\n",
    "    ax2.set_title('within a category')\n",
    "\n",
    "    \n",
    "    plt.tight_layout()\n",
    "    plt.show()"
   ]
  },
  {
   "cell_type": "code",
   "execution_count": null,
   "metadata": {},
   "outputs": [],
   "source": [
    "# визуализируем распределение\n",
    "\n",
    "params = ['revenue', 'items_sold']\n",
    "\n",
    "for val in params:\n",
    "    kde_dist(val)"
   ]
  },
  {
   "cell_type": "markdown",
   "metadata": {},
   "source": [
    "- Все данные имеют вид нормального распределения с наличием выбросов в большую сторону. По большей части графики в своих разрезах отличаются лишь размером параметров, тогда как по форме распределения они схожи."
   ]
  },
  {
   "cell_type": "markdown",
   "metadata": {},
   "source": [
    "Для корректного анализа в дальнейшем ограничим данные, избавившись от больших выбросов. Поставим лимит на выручку - 5,000, а на количество проданных товаров - 10:"
   ]
  },
  {
   "cell_type": "code",
   "execution_count": null,
   "metadata": {},
   "outputs": [],
   "source": [
    "# удалим выбросы и перегруппируем данные\n",
    "\n",
    "products = products.query('revenue <= 5000 & items_sold <= 10')\n",
    "\n",
    "# обновим датафрейм\n",
    "\n",
    "eda = eda[eda['product'].isin(products['product'])]"
   ]
  },
  {
   "cell_type": "markdown",
   "metadata": {},
   "source": [
    "<a id='3.3'></a>\n",
    "### ABC анализ\n",
    "Распределение значений на прошлом графике показывает, что довольно малая часть товаров приносит сравнительно большую прибыль и объем продаж. Попробуем провести [**ABC анализ**](https://en.wikipedia.org/wiki/ABC_analysis) выручки для категоризации товаров с точки зрения их вклада в экономику интернет-магазина:"
   ]
  },
  {
   "cell_type": "code",
   "execution_count": null,
   "metadata": {},
   "outputs": [],
   "source": [
    "# добоваим количество заказов\n",
    "\n",
    "def product_group(df):\n",
    "    \n",
    "    result = (\n",
    "        df\n",
    "        .groupby(['category','product'])\n",
    "        .agg({'order_id':'nunique'})\n",
    "        .sort_values('order_id', ascending=False)\n",
    "        .rename(columns={'order_id':'orders_count'})\n",
    ")\n",
    "    return result\n",
    "\n",
    "products_abc = (\n",
    "    products\n",
    "    .merge(product_group(eda), how='outer', \n",
    "           on='product')\n",
    ")\n",
    "\n",
    "# смотрим на результат\n",
    "\n",
    "products_abc"
   ]
  },
  {
   "cell_type": "markdown",
   "metadata": {},
   "source": [
    "В полученной таблице мы видим общее количество проданных товаров, округлённую выручку и количество чеков для каждого продукта. Проведём ABC анализ с учётом каждого параметра, используя для оптимизации процесса алгоритм кластеризации. \n",
    "\n",
    "Так как одна из основных целей исследования - выделение основного ассортимента товаров, все параметры необходимо учитывать. Поэтому ABC анализ будет проведён на основе синтетического критерия, полученного из всех трёх параметров с применением коэффициента \"важности\":"
   ]
  },
  {
   "cell_type": "code",
   "execution_count": null,
   "metadata": {},
   "outputs": [],
   "source": [
    "# преобразуем данные - вместо нормализации значений \n",
    "# переведём их в формат '% от итога'\n",
    "\n",
    "def get_share(col):\n",
    "    new_col = col/col.sum()*100\n",
    "    return new_col\n",
    "\n",
    "for val in list(products_abc.columns[2:]):\n",
    "    products_abc[val+'%'] = get_share(products_abc[val])"
   ]
  },
  {
   "cell_type": "markdown",
   "metadata": {},
   "source": [
    "Теперь расчитаем синтетический критерий для ABC анализа. Cложим все три параметра, задав каждому свой \"вес\" - выделим выручку как основной параметр (коэффициент **0.6**), а показателям количества проданного товара и заказов  присвоим по **0.2**. После этого используем алгоритм кластеризации для проведения анализа:"
   ]
  },
  {
   "cell_type": "code",
   "execution_count": null,
   "metadata": {},
   "outputs": [],
   "source": [
    "# считаем синтетический критерий\n",
    "\n",
    "products_abc['abc_coeff'] = (\n",
    "    products_abc['orders_count%']*0.2\n",
    "    + products_abc['items_sold%']*0.2\n",
    "    + products_abc['revenue%']*0.6\n",
    ")\n",
    "\n",
    "# проводим ABC анализ\n",
    "\n",
    "km = KMeans(n_clusters=3, random_state=5)\n",
    "x = km.fit_transform(products_abc.set_index('product')['abc_coeff'].to_frame())\n",
    "\n",
    "products_abc['cluster'] = km.fit_predict(x)"
   ]
  },
  {
   "cell_type": "code",
   "execution_count": null,
   "metadata": {
    "scrolled": false
   },
   "outputs": [],
   "source": [
    "# выводим результаты ABC, предварительно сгруппировав данные\n",
    "\n",
    "agg_dict = {\n",
    "    'product':'count',\n",
    "    'items_sold%':'sum',\n",
    "    'revenue%':'sum',\n",
    "    'orders_count%':'sum'\n",
    "}\n",
    "\n",
    "abc_summury = (\n",
    "    products_abc\n",
    "    .groupby('cluster')\n",
    "    .agg(agg_dict)\n",
    "    .rename(columns={'product':'products%'})\n",
    ")\n",
    "\n",
    "abc_summury['products%'] = get_share(abc_summury['products%'])\n",
    "\n",
    "cluster = abc_summury.index\n",
    "products = round(abc_summury['products%'], 2)\n",
    "items = round(abc_summury['items_sold%'], 2)\n",
    "revenue = round(abc_summury['revenue%'], 2)\n",
    "orders = round(abc_summury['orders_count%'], 2)\n",
    "\n",
    "display(abc_summury)\n",
    "print('')\n",
    "\n",
    "\n",
    "for i in range(3):\n",
    "    \n",
    "    print(f'''Категория `{cluster[i]}` составляет {products[i]}% всех товаров, принося при этом {revenue[i]}% всей выручки.\n",
    "Товары категории встречаются в {orders[i]}% заказов и составляют {items[i]}% от всех проданных товаров в магазине.''')\n",
    "    print('')"
   ]
  },
  {
   "cell_type": "markdown",
   "metadata": {},
   "source": [
    "С учётом распределения значений в полученной таблице группой **А** можно считать кластер 2, группой **B** будет являтся кластер 1, а группой **С** - кластер 0.\n",
    "\n",
    "- Несмотря на свою немногочисленность, группа **A** является важным источником прибыли для магазина. Группа **B** также хорошо себя показывает, а вот многочисленный ассортимент группы **С** стоит пересмотреть - товары в ней не так популярны и приносят лишь 20% всей выручки. Именно из этой группы стоит выделять товары для возможных сокращений."
   ]
  },
  {
   "cell_type": "code",
   "execution_count": null,
   "metadata": {},
   "outputs": [],
   "source": [
    "# присваиваем категории\n",
    "\n",
    "abc_dict = {    \n",
    "    0: 'C',\n",
    "    1: 'B',\n",
    "    2: 'A'\n",
    "}\n",
    "\n",
    "products_abc['abc'] = (\n",
    "    products_abc['cluster']\n",
    "    .apply(lambda x: abc_dict[x])\n",
    ")\n",
    "\n",
    "\n",
    "# добавим категорию ABC в основной датафрейм\n",
    "\n",
    "eda = (\n",
    "    eda\n",
    "    .join(products_abc[['product', 'abc']]\n",
    "          .set_index('product'), \n",
    "          on='product', how='left')\n",
    ")"
   ]
  },
  {
   "cell_type": "markdown",
   "metadata": {},
   "source": [
    "### Итоги\n",
    "\n",
    "Исследовательский анализ был проведен в три этапа:"
   ]
  },
  {
   "cell_type": "markdown",
   "metadata": {},
   "source": [
    "1. [**Анализ заказов**](#3.1) - данные были сгруппированы по идентификаторам, после чего было визуализировано распределение значений\n",
    "\n",
    "\n",
    "- В среднем заказе выручка составляет около 1,000 и количество товаров составляет около 3 шт. При этом больше половины заказов не достигают средних значений, что говорит о значительном смещении распределения значений вправо, что характеризует наличие выбросов. \n",
    "\n",
    "У общего количества проданных товаров и объёма продаж есть явные отличия по месяцам, но выявить какую-либо чёткую закономерность представляется затруднительным. Можно отметить следующие:\n",
    "\n",
    "- Пик по общей выручке приходится на октябрь 2018, а по количеству проданных товаров - на апрель и май.\n",
    "\n",
    "\n",
    "- При учёте обоих параметров самым слабым месяцем является январь. При этом октябрь 2019 показывает намного более низкие значения, чем показатели этого месяца в прошлом году.\n",
    "\n",
    "\n",
    "При категоризации товаров прослеживается явная подверженность сезонности для разных групп:\n",
    "\n",
    "- Категория **Домашние растения** имеет самое стабильное распределение по выручке, несмотря на перепады по количеству проданного товара - на протяжении всего года общая выручка держится на уровне 20,000. По обоим рассматриваемым параметрам эта категория никогда не занимает лидирующей позиции. Пик спроса приходится на апрель-май.\n",
    "\n",
    "\n",
    "- Товары категории **Садоводство** занимают лидерство по спросу и выручке на протяжении весенних месяцев, после чего происходит спад. Категория приносит стабильно выскокий доход на протяжении всего года, но по количеству проданных товаров апрель и май показывают аномально высокий спрос. Таким образом эту категорию можно охарактеризовать как наиболее подверженную фактору сезонности.\n",
    "\n",
    "\n",
    "- **Товары для дома** лидируют по выручке во все месяца, кроме апреля и мая, где для **Садоводства** начинается сезон. При этом же показатель количества проданных товаров является одним из самых низких - это явно указывает на высокую стоимость товаров\n",
    "\n",
    "\n",
    "- **Товары для кухни** имеют стабильный спрос осенне-зимние месяцы, после чего испытывают спад на протяжении следующего полугода, что отражается на обоих параметрах."
   ]
  },
  {
   "cell_type": "markdown",
   "metadata": {},
   "source": [
    "2. [**Анализ товаров**](#3.2) - был проведён аналогичный анализ данных, но уже сгруппированных по уникальным товарам\n",
    "\n",
    "- Всего в данных 2,146  уникальных товаров. В среднем каждый товар за рассматриваемый период продаётся в количестве 4 шт. и приносит около 1,200 выручки.\n",
    "\n",
    "\n",
    "- Категория **Садоводство** лидирует по количеству проданных товаров с большим отрывом - это указывает на низкую стоимость товара при большом спросе.\n",
    "\n",
    "\n",
    "- С категорией **Товары для дома** ситуация противоположная - самая высокая общая выручка и самое низкое количество проданного товара, что явно указывает на сравнительно высокую стоимость продуктов этой категории.\n",
    "\n",
    "\n",
    "- Все данные имеют вид нормального распределения с наличием выбросов в большую сторону. По большей части графики в своих разрезах отличаются лишь размером параметров, тогда как по форме распределения они схожи."
   ]
  },
  {
   "cell_type": "markdown",
   "metadata": {},
   "source": [
    "3. [**ABC анализ**](#3.3) - был проведён ABC-анализ товаров с учётом распределения всех основных параметров каждого товара.\n",
    "\n",
    "Результаты:\n",
    "\n",
    "Категория **`A`** составляет 9.89% всех товаров, принося при этом 37.86% всей выручки.\n",
    "Товары категории встречаются в 18.04% заказов и составляют 16.43% от всех проданных товаров в магазине.\n",
    "\n",
    "Категория **`B`** составляет 28.46% всех товаров, принося при этом 40.84% всей выручки.\n",
    "Товары категории встречаются в 35.79% заказов и составляют 42.35% от всех проданных товаров в магазине.\n",
    "\n",
    "Категория **`C`** составляет 61.65% всех товаров, принося при этом 21.3% всей выручки.\n",
    "Товары категории встречаются в 46.17% заказов и составляют 41.22% от всех проданных товаров в магазине.\n",
    "\n",
    "\n",
    "- Несмотря на свою немногочисленность, группа **A** является важным источником прибыли для магазина. Группа **B** также хорошо себя показывает, а вот многочисленный ассортимент группы **С** стоит пересмотреть - товары в ней не так популярны и приносят лишь пятую часть всей выручки. Именно из этой группы стоит выделять товары для возможных сокращений."
   ]
  },
  {
   "cell_type": "markdown",
   "metadata": {},
   "source": [
    "<a id='4'></a>\n",
    "## Сегментация товарного ассортимента\n",
    "\n",
    "Используем алгоритм из ABC анализа для разделения товаров на основной и дополнительный ассортимент, после чего повторим исследовательский анализ в разрезе полученных категорий:"
   ]
  },
  {
   "cell_type": "markdown",
   "metadata": {},
   "source": [
    "<a id='4.1'></a>\n",
    "### Выделение основного и дополнительного ассортимента\n",
    "\n",
    "В качестве параметров для кластеризации будем использовать два значения - количество заказов, где товар покупается отдельно, и количество заказов, где помимо товара покупается что-то ещё:"
   ]
  },
  {
   "cell_type": "code",
   "execution_count": null,
   "metadata": {
    "scrolled": false
   },
   "outputs": [],
   "source": [
    "# считаем количество заказов через группировку данных\n",
    "\n",
    "def product_group(df):\n",
    "    \n",
    "    result = (\n",
    "        df\n",
    "        .groupby('product')\n",
    "        .agg({'order_id':'nunique'})\n",
    "        .sort_values('order_id', ascending=False)\n",
    "        .fillna(0)\n",
    ")\n",
    "    return result\n",
    "\n",
    "# показатель количества комбинированных чеков посчитаем с помощью дубликатов номеров заказов\n",
    "\n",
    "df2 = eda[eda['order_id'].duplicated()]\n",
    "\n",
    "products_orders = (\n",
    "    product_group(eda)\n",
    "    .merge(product_group(df2), how='outer', \n",
    "           left_index=True, \n",
    "           right_index=True)\n",
    "    .rename(columns={\n",
    "        'order_id_x':'order_count',\n",
    "        'order_id_y':'compound_orders'}\n",
    "           )\n",
    ")\n",
    "\n",
    "# заполняем пропуски, приводим к целым числам\n",
    "\n",
    "products_orders.fillna(0, inplace=True)\n",
    "products_orders['compound_orders'] = (\n",
    "    products_orders['compound_orders']\n",
    "    .astype('int16')\n",
    ")\n",
    "\n",
    "# считаем количество одиночных закупок\n",
    "\n",
    "products_orders['sole_item_orders'] = (\n",
    "    products_orders['order_count']-products_orders['compound_orders']\n",
    ")\n",
    "\n",
    "# смотрим на результат\n",
    "\n",
    "products_orders"
   ]
  },
  {
   "cell_type": "markdown",
   "metadata": {},
   "source": [
    "В полученной таблице на каждый уникальный товар мы видим общее количество заказов, а также количество комбинированных заказов и заказов, где товар является единственной покупкой. Используем последнее значение для алгоритма кластеризации: "
   ]
  },
  {
   "cell_type": "code",
   "execution_count": null,
   "metadata": {},
   "outputs": [],
   "source": [
    "# считаем долю заказов с одним товаром\n",
    "\n",
    "products_orders['sole_share'] = (\n",
    "    products_orders['sole_item_orders']/\n",
    "    products_orders['order_count']*100\n",
    ")\n",
    "\n",
    "# выделяем категории\n",
    "\n",
    "par = products_orders['sole_share'].to_frame()\n",
    "\n",
    "km = KMeans(n_clusters=2, random_state=0)\n",
    "x = km.fit_transform(par) \n",
    "\n",
    "products_orders['cluster'] = km.fit_predict(x)"
   ]
  },
  {
   "cell_type": "code",
   "execution_count": null,
   "metadata": {
    "scrolled": true
   },
   "outputs": [],
   "source": [
    "# считаем дополнительные столбцы, смотрим на результат\n",
    "\n",
    "assortment = (\n",
    "    products_orders\n",
    "    .reset_index()\n",
    "    .groupby('cluster')\n",
    "    .agg({\n",
    "        'product':'nunique',\n",
    "        'order_count':'sum',\n",
    "        'compound_orders':'sum',\n",
    "        'sole_item_orders':'sum'}\n",
    "    )\n",
    ")\n",
    "\n",
    "assortment['sole_share'] = (\n",
    "    assortment['sole_item_orders']/\n",
    "    assortment['order_count']*100\n",
    ")\n",
    "\n",
    "assortment['total_sole_share'] = (\n",
    "    get_share(assortment['sole_item_orders'])\n",
    ")\n",
    "\n",
    "cluster = assortment.index\n",
    "products = round(\n",
    "    assortment['product']/\n",
    "    assortment['product'].sum()*100, 2\n",
    ")\n",
    "sole = round(assortment['sole_share'], 2)\n",
    "sole_1 = round(assortment['total_sole_share'], 2)\n",
    "\n",
    "display(assortment)\n",
    "print('')\n",
    "\n",
    "\n",
    "for i in range(2):\n",
    "    \n",
    "    print(f'''Кластер `{cluster[i]}` составляет {products[i]}% всех товаров. \n",
    "В кластере {sole[i]}% заказов с единственным товаром. Это {sole_1[i]}% всех подобных заказов.''')\n",
    "    print('')"
   ]
  },
  {
   "cell_type": "markdown",
   "metadata": {},
   "source": [
    "- Кластер `1` можно смело выделить как основной ассортимент магазина - несмотря на значительно больший размер группы, товары этого кластера являются единственным поводом для заказа более чем в 96% случаев. Группу `0` же определим как дополнительный ассортимент, товары которой по большей части продаётся лишь в составе заказов с другими товарами."
   ]
  },
  {
   "cell_type": "markdown",
   "metadata": {},
   "source": [
    "Добавим категорию ассортимента в основной датафрейм:"
   ]
  },
  {
   "cell_type": "code",
   "execution_count": null,
   "metadata": {},
   "outputs": [],
   "source": [
    "# присваиваем категории\n",
    "\n",
    "ass_dict = {    \n",
    "    1: 'основной ассортимент',\n",
    "    0: 'дополнительный ассортимент',\n",
    "}\n",
    "\n",
    "products_orders['assortment'] = (\n",
    "    products_orders['cluster']\n",
    "    .apply(lambda x: ass_dict[x])\n",
    ")\n",
    "\n",
    "# добавим категорию ассортимента в основной датафрейм\n",
    "\n",
    "eda = (\n",
    "    eda\n",
    "    .join(products_orders['assortment']\n",
    "          .to_frame(), \n",
    "          on='product', how='left')\n",
    ")"
   ]
  },
  {
   "cell_type": "markdown",
   "metadata": {},
   "source": [
    "<a id='4.2'></a>\n",
    "### Анализ ассортимента\n",
    "\n",
    "Изучим подробнее распределение категорий ассортимента, объеденив всю категоризацию в сводную таблицу:"
   ]
  },
  {
   "cell_type": "code",
   "execution_count": null,
   "metadata": {
    "scrolled": false
   },
   "outputs": [],
   "source": [
    "# группируем данные\n",
    "\n",
    "categories = (\n",
    "    eda\n",
    "    .groupby(['assortment', 'category', 'abc'])\n",
    "    .agg({'product':'nunique', \n",
    "          'revenue':'sum',\n",
    "          'items_sold':'sum'})\n",
    "    .reset_index()\n",
    ")\n",
    "\n",
    "for val in list(categories.columns)[3:]:\n",
    "    categories[val+'%'] = get_share(categories[val])"
   ]
  },
  {
   "cell_type": "code",
   "execution_count": null,
   "metadata": {},
   "outputs": [],
   "source": [
    "# вспомогательная функция для визуализации, помогающая делать срезы данных\n",
    "\n",
    "def plot_query(query, par):\n",
    "    result = round(categories.query(query)[par+'%'].sum())\n",
    "    return result\n",
    "\n",
    "\n",
    "# функция для визуализации параметров\n",
    "\n",
    "def cat_info(par):\n",
    "    \n",
    "    # визуализируем данные\n",
    "\n",
    "        sns.catplot(\n",
    "            data=categories, \n",
    "            hue='category', \n",
    "            y=par, \n",
    "            col='abc', \n",
    "            x='assortment', \n",
    "            kind='bar')\n",
    "        \n",
    "        plt.suptitle(par + ' categories distribution', \n",
    "                     y=1.1, fontsize=18)  \n",
    "        plt.show()\n",
    "        \n",
    "    # описываем данные\n",
    "    \n",
    "        A = plot_query('abc == \"A\"', par)\n",
    "        B = plot_query('abc == \"B\"', par)\n",
    "        C = plot_query('abc == \"C\"', par)\n",
    "        main = plot_query('assortment == \"основной ассортимент\"', par)\n",
    "        add = plot_query('assortment == \"дополнительный ассортимент\"', par)\n",
    "        houseplants = plot_query('category == \"домашние растения\"', par)\n",
    "        gardening = plot_query('category == \"садоводство\"', par)\n",
    "        household = plot_query('category == \"товары для дома\"', par)\n",
    "        kitchen = plot_query('category == \"товары для кухни\"', par)\n",
    "\n",
    "    \n",
    "        print(\n",
    "            f'''\n",
    "            total of {par} - {categories[par].sum()}\n",
    "            \n",
    "            main assortment - {main}%, additional assortment- {add}%\n",
    "            houseplants - {houseplants}%, gardening - {gardening}%, household - {household}%, kitchen - {kitchen}%\n",
    "            A - {A}%, B - {B}%, C - {C}%            \n",
    "\n",
    "            ''')"
   ]
  },
  {
   "cell_type": "code",
   "execution_count": null,
   "metadata": {
    "scrolled": false
   },
   "outputs": [],
   "source": [
    "# изучим распределение параметров по всем категориям.\n",
    "\n",
    "for parameter in categories.columns[3:6]:\n",
    "\n",
    "    cat_info(parameter)"
   ]
  },
  {
   "cell_type": "markdown",
   "metadata": {},
   "source": [
    "- Самый лучший во всех отношениях сегмент товаров - **Товары для дома** группы `A` в основном ассортименте. Они являются самыми продаваемыми и самыми прибыльными, и при этом же самым многочисленным товаром в группе `A`. Эта категория также хорошо показывает себя в группе `B`, а вот товары для дома в группе `C` необходимо изучить для поиска отличий от остальных товаров."
   ]
  },
  {
   "cell_type": "markdown",
   "metadata": {},
   "source": [
    "- Категория **Садоводство** является крупнейшей категорией товаров, и большая их часть сосредоточена в сегменте `C` дополнительного ассортимента. Так как пренадлежность к этой категории означает, прежде всего, низкий показатель выручки, эти товары необходимо сократить для оптимизации издержек. В целом товары этой категории характерны реалезацией в качестве дополнительно ассортимента."
   ]
  },
  {
   "cell_type": "code",
   "execution_count": null,
   "metadata": {},
   "outputs": [],
   "source": [
    "# обновим основной датафрейм и сохраним датасеты для дашборда\n",
    "\n",
    "data = eda.drop(columns='month')\n",
    "\n",
    "data.to_csv(os.getcwd() + '/assortment_data.csv')\n",
    "data.groupby('order_id').agg('sum').to_csv(os.getcwd() + '/assortment_orders.csv')\n",
    "categories.to_csv(os.getcwd() + '/assortment_data_categories.csv')"
   ]
  },
  {
   "cell_type": "markdown",
   "metadata": {},
   "source": [
    "### Итоги"
   ]
  },
  {
   "cell_type": "markdown",
   "metadata": {},
   "source": [
    "Используя алгоритм из ABC анализа для разделения товаров на основной и дополнительный ассортимент, товары были проанализированы в разрезе всех представленных категорий.\n",
    "\n",
    "Результат кластеризации:\n",
    "\n",
    "Кластер `0` составляет 41.35% всех товаров. \n",
    "В кластере 9.72% заказов с единственным товаром. Это 7.96% всех подобных заказов.\n",
    "\n",
    "Кластер `1` составляет 58.65% всех товаров. \n",
    "В кластере 96.06% заказов с единственным товаром. Это 92.04% всех подобных заказов.\n",
    "\n",
    "- Кластер 1 был выделен как основной ассортимент магазина - несмотря на значительно больший размер группы, товары этого кластера являются единственным поводом для заказа более чем в 96% случаев. Группа 0 же была определена как дополнительный ассортимент, товары которой по большей части продаётся лишь в составе заказов с другими товарами.\n",
    "\n",
    "\n",
    "Ключевые выводы анализа категорий:\n",
    "\n",
    "- Самый лучший во всех отношениях сегмент товаров - **Товары для дома** группы `A` в основном ассортименте. Они являются самыми продаваемыми и самыми прибыльными, и при этом же самым многочисленным товаром в группе `A`. Эта категория также хорошо показывает себя в группе `B`, а вот товары для дома в группе `C` необходимо изучить для поиска отличий от остальных товаров.\n",
    "\n",
    "\n",
    "- Категория **Садоводство** является крупнейшей категорией товаров, и большая их часть сосредоточена в сегменте `C` дополнительного ассортимента. Так как пренадлежность к этой категории означает, прежде всего, низкий показатель выручки, эти товары необходимо сократить для оптимизации издержек. В целом товары этой категории характерны реалезацией в качестве дополнительно ассортимента."
   ]
  },
  {
   "cell_type": "markdown",
   "metadata": {},
   "source": [
    "<a id='5'></a>\n",
    "## Проверка гипотез\n",
    "\n",
    "На этапе декомпозиции задачи было выдвинуто две гипотезы:\n",
    "\n",
    "- *Средняя выручка заказа без дополнительных товаров отличается от средней выручки заказов с дополнительными товарами*\n",
    "- *Среднее количество товаров, проданных в будние дни, отличается от среднего количества проданных на выходных*\n",
    "\n",
    "Так как при исследовательском анализе были выявлены выбросы в распределении данных, для проверки гипотез будем использовать непараметрический тест Манна-Уитни."
   ]
  },
  {
   "cell_type": "markdown",
   "metadata": {},
   "source": [
    "### Сравнение выручки заказов из разных категорий ассортимента\n",
    "\n",
    "**H0** - cредняя выручка заказа без дополнительных товаров не отличается от средней выручки заказов с дополнительными товарами\n",
    "\n",
    "**H1** - cредняя выручка заказа без дополнительных товаров имеет отличие от средней выручки заказов с дополнительными товарами"
   ]
  },
  {
   "cell_type": "code",
   "execution_count": null,
   "metadata": {},
   "outputs": [],
   "source": [
    "# cгруппируем данные - выделим заказы только с основными товарами \n",
    "# и те, где есть обе категории\n",
    "\n",
    "data_h = (\n",
    "    data\n",
    "    .pivot_table(index=['order_id'], \n",
    "                 values='revenue', \n",
    "                 columns='assortment')\n",
    "    .rename(columns={'дополнительный ассортимент':'additional',\n",
    "                     'основной ассортимент':'main'})\n",
    ")\n",
    "\n",
    "main_only = (\n",
    "    data_h\n",
    "    .query('additional.isna()')\n",
    "    .dropna(axis=1)['main']\n",
    ")\n",
    "\n",
    "additional = (\n",
    "    data_h.\n",
    "    query('additional.notna() & main.notna()')\n",
    ")\n",
    "\n",
    "additional = (\n",
    "    additional['additional'] +\n",
    "    additional['main']\n",
    ")"
   ]
  },
  {
   "cell_type": "code",
   "execution_count": null,
   "metadata": {},
   "outputs": [],
   "source": [
    "alpha = 0.01\n",
    "\n",
    "results = st.mannwhitneyu(main_only, additional)\n",
    "difference = \"{0:.2f}\".format((main_only.mean()/additional.mean() - 1)*100)\n",
    "\n",
    "print('p-value: ', \"{0:.5f}\".format(results.pvalue))\n",
    "\n",
    "if results.pvalue < alpha:\n",
    "    print('Отвергаем нулевую гипотезу: разница статистически значима')\n",
    "else:\n",
    "    print(\n",
    "        'Не получилось отвергнуть нулевую гипотезу, вывод о различии сделать нельзя'\n",
    "    ) \n",
    "    \n",
    "print()   \n",
    "print(f'Среднее по выборке первого параметра - {round(main_only.mean(),2)}, второго - {round(additional.mean(),2)}')\n",
    "print(f'Относительное различие средних значений выборок: {difference}%')   "
   ]
  },
  {
   "cell_type": "markdown",
   "metadata": {},
   "source": [
    "- Средний чек явно зависит от наличия дополнительных товаров в заказе - это видно как и по выборке, так и по результатам статистического теста. Причём зависимость видимо обратна ожидаемой - средний чек в среднем больше у тех заказов, где в корзине присутствуют только основные товары."
   ]
  },
  {
   "cell_type": "markdown",
   "metadata": {},
   "source": [
    "### Сравнение количества проданных товаров по дням недели\n",
    "\n",
    "\n",
    "**H0** - среднее количество товаров, проданных в будние дни, не отличается от среднего количества проданных на выходных\n",
    "\n",
    "**H1** - среднее количество товаров, проданных в будние дни, имеет значимое отличие от среднего количества проданных на выходных"
   ]
  },
  {
   "cell_type": "code",
   "execution_count": null,
   "metadata": {},
   "outputs": [],
   "source": [
    "# группируем данные\n",
    "\n",
    "workday = data.query('weekday == \"будни\"')['items_sold']\n",
    "weekend = data.query('weekday == \"выходные\"')['items_sold']"
   ]
  },
  {
   "cell_type": "code",
   "execution_count": null,
   "metadata": {},
   "outputs": [],
   "source": [
    "# проверяем гипотезу\n",
    "\n",
    "alpha = 0.01\n",
    "\n",
    "results = st.mannwhitneyu(workday, weekend)\n",
    "difference = \"{0:.2f}\".format((workday.mean()/weekend.mean() - 1)*100)\n",
    "\n",
    "print('p-value: ', \"{0:.5f}\".format(results.pvalue))\n",
    "\n",
    "if results.pvalue < alpha:\n",
    "    print('Отвергаем нулевую гипотезу: разница статистически значима')\n",
    "else:\n",
    "    print(\n",
    "        'Не получилось отвергнуть нулевую гипотезу, вывод о различии сделать нельзя'\n",
    "    ) \n",
    "    \n",
    "print()   \n",
    "print(f'Среднее по выборке первого параметра - {round(workday.mean(),2)}, второго - {round(weekend.mean(),2)}')\n",
    "print(f'Относительное различие средних значений выборок: {difference}%')   "
   ]
  },
  {
   "cell_type": "markdown",
   "metadata": {},
   "source": [
    "- Тест не выявил статистически значимой разницы между средним количеством товаров по будням и выходным. Но так как количество таких дней предеставлено в соотношении 5/2, такие результаты явно указывают на больший спрос по выходным дням."
   ]
  },
  {
   "cell_type": "markdown",
   "metadata": {},
   "source": [
    "<a id='6'></a>\n",
    "## Общий вывод"
   ]
  },
  {
   "cell_type": "markdown",
   "metadata": {},
   "source": [
    "____\n",
    "**Ключевые выводы/рекомендации**\n",
    "\n",
    "- В среднем в будние дни продаётся столько же товаров, сколько и в выходные, что необходимо учитывать при оптимизации закупок товаров\n",
    "\n",
    "\n",
    "- Средний чек заказов без дополнительных товаров больше, чем чек заказов с их наличием\n",
    "\n",
    "\n",
    "- Самый лучший во всех отношениях сегмент товаров - **Товары для дома** группы `A` в основном ассортименте. Они являются самыми продаваемыми и самыми прибыльными, и при этом же самым многочисленным товаром в группе `A`. Эта категория также хорошо показывает себя в группе `B`, а вот товары для дома в группе `C` необходимо изучить для поиска отличий от остальных товаров.\n",
    "\n",
    "\n",
    "- Категория **Садоводство** является крупнейшей категорией товаров, и большая их часть сосредоточена в сегменте `C` дополнительного ассортимента. Так как принадлежность к этой категории означает, прежде всего, низкий показатель выручки, эти товары необходимо сократить для оптимизации издержек. В целом товары этой категории характерны реализацией в качестве дополнительно ассортимента.\n",
    "\n",
    "___"
   ]
  },
  {
   "cell_type": "markdown",
   "metadata": {},
   "source": [
    "Целью исследования являлось проведение сегментирования ассортимента товарного каталога интернет-магазина и изучить характерные особенности полученных товарных категорий.\n",
    "\n",
    "Данные были предоставлены в файле `ecommerce_dataset.csv` - это срез истории транзакций в интернет-магазине, содержащий информацию о покупках клиентов. Данные были предобработаны - была проведена проверка на наличие пропущенных значений и дубликатов, корректность типа хранимых данных, была установлена необходимость в добавлении дополнительных столбцов. Затем был проведён исследовательский анализ, целью которого стал поиск характерных признаков, которые позволили ли бы провести сегментацию товарного ассортимента. Сначала основные показатели были проанализированы в разрезе заказов, а затем - по уникальным товарам. После этого товары были разделены на \"основной ассортимент\" (товары, продающиеся сами по себе) и \"дополнительный ассортимент\" (которые чаще продаются в комплекте с другими продуктами). Полученные сегменты были подробно проанализированы с точки зрения распределения данных и внутренних соотношений. После были проверены следующие гипотезы:\n",
    "\n",
    "- *Средняя выручка заказа без дополнительных товаров отличается от средней выручки заказов с дополнительными товарами*\n",
    "- *Среднее количество товаров, проданных в будние дни, отличается от среднего количества проданных на выходных*\n",
    "\n",
    "Выводы по результатам исследования были представлены в виде презентации и интерактивного дашборда.\n",
    "\n",
    "Таким образом, исследование было разбито на следующие этапы:"
   ]
  },
  {
   "cell_type": "markdown",
   "metadata": {},
   "source": [
    "1. [**Обзор данных**](#1)\n",
    "\n",
    "**Описание данных**\n",
    "\n",
    "Таблица содержит 6,737 строк и 6 столбцов.\n",
    "\n",
    "- `date` — дата заказа;\n",
    "- `customer_id` — идентификатор покупателя;\n",
    "- `order_id` — идентификатор заказа;\n",
    "- `product` — наименование товара;\n",
    "- `quantity` — количество товара в заказе;\n",
    "- `price` — цена товара.\n",
    "\n",
    "Моменты для учёта в предобработке:\n",
    "\n",
    "- Явные пропуски отсутствуют\n",
    "\n",
    "\n",
    "- Дата заказа представлена в виде целого числа, помимо даты также содержит час совершения заказа\n",
    "\n",
    "\n",
    "- Цена товара представлена дробным числом, но дробная часть отсутствует\n",
    "\n",
    "\n",
    "- Номера заказов не будут объектами математических операций, целесообразнее преобразовать в текст\n",
    "\n",
    "\n",
    "- Все остальные целочисленные типы можно сократить до `int16` для экономии ресурсов памяти"
   ]
  },
  {
   "cell_type": "markdown",
   "metadata": {},
   "source": [
    "2. [**Предобработка данных**](#2)\n",
    "\n",
    "При обработке данных были отмечены следующие моменты:\n",
    "\n",
    "- Данные содержат информацию о заказах, совершённых с 10.01.2018 по 31.10.2019\n",
    "\n",
    "\n",
    "\n",
    "- Рассматриваемые 6,737 транзакций совершили 2,451 уникальных пользователей, причём 888 из них совершил один и тот же пользователь, что возможно характеризует его как оптового покупателя.\n",
    "\n",
    "\n",
    "\n",
    "- В данных содержится информация об 2,784 уникальных заказах, в самом крупном из которых - 888 товаров, что явно указывает на оптового покупателя, выделенного при рассмотрении предыдущего столбца.\n",
    "\n",
    "\n",
    "\n",
    "- В данных представлены 2,341 уникальный товар, самым популярным из которых является рассада кабачка определённого сорта. \n",
    "\n",
    "\n",
    "\n",
    "- При группировке по первым двум словам из названия получается 927 уникальных товара, 462 из которых являются вариантом рассады кабачка. \n",
    "\n",
    "\n",
    "\n",
    "- Большая часть товаров присутствует в заказах в единичном экземпляре. Максимальное значение столбца в 1,000 штук может быть как оптовой закупкой, так и выбросом, вызванным технической аномалией.\n",
    "\n",
    "\n",
    "\n",
    "- Средняя цена товара превышает значение 75% процентиля, что указывает на наличие аномальных выбросов.\n",
    "\n",
    "\n",
    "\n",
    "- Если не рассмотривать столбец с датой заказа - данные содержат 1,853 задублированные строки. Скорее всего это обусловлено тем, что у заказов меняется статут (например, \"заказ принят\" или \"оплачено\"), и с каждым обновлением данные снова попадают в историю транзакции. В целях анализа ассортимента товаров эти данные не нужны, потому все задублированные строки будут удалены:"
   ]
  },
  {
   "cell_type": "markdown",
   "metadata": {},
   "source": [
    "В ходе предобработки данных было удалено 29.49% датасета, \n",
    "при этом удалось сократить использование памяти на 8.97%. Обработанный датасет содержит 9 столбцов и 4,750 строк. За счёт изменения типов данных удалось сократить использование памяти, несмотря на добавление трёх дополнительных столбцов. Большая часть данных была удалена при обработке дубликатов, предположительно вызванных дублированием данных о заказах при изменении статуса. Вручную было удаленно не более 4% данных, потому распределение таких параметров, как цена и количество уникальных пользователей, осталось без изменений.\n",
    "\n",
    "Товары были категоризированы на четыре группы: `товары для дома`, `домашние растения`, `садоводство` и `товары для кухни`, также был добавлен столбцы `будни/выходные дни` и `выручка`."
   ]
  },
  {
   "cell_type": "markdown",
   "metadata": {},
   "source": [
    "3. [**Исследовательский анализ данных**](#3)\n",
    "\n",
    "Исследовательский анализ был проведен в три этапа:\n",
    "\n",
    "1. [**Анализ заказов**](#3.1) - данные были сгруппированы по идентификаторам, после чего было визуализировано распределение значений\n",
    "\n",
    "\n",
    "- В среднем заказе выручка составляет около 1,000 и количество товаров составляет около 3 шт. При этом больше половины заказов не достигают средних значений, что говорит о значительном смещении распределения значений вправо, что характеризует наличие выбросов. \n",
    "\n",
    "У общего количества проданных товаров и объёма продаж есть явные отличия по месяцам, но выявить какую-либо чёткую закономерность представляется затруднительным. Можно отметить следующие:\n",
    "\n",
    "- Пик по общей выручке приходится на октябрь 2018, а по количеству проданных товаров - на апрель и май.\n",
    "\n",
    "\n",
    "- При учёте обоих параметров самым слабым месяцем является январь. При этом октябрь 2019 показывает намного более низкие значения, чем показатели этого месяца в прошлом году.\n",
    "\n",
    "\n",
    "При категоризации товаров прослеживается явная подверженность сезонности для разных групп:\n",
    "\n",
    "- Категория **Домашние растения** имеет самое стабильное распределение по выручке, несмотря на перепады по количеству проданного товара - на протяжении всего года общая выручка держится на уровне 20,000. По обоим рассматриваемым параметрам эта категория никогда не занимает лидирующей позиции. Пик спроса приходится на апрель-май.\n",
    "\n",
    "\n",
    "- Товары категории **Садоводство** занимают лидерство по спросу и выручке на протяжении весенних месяцев, после чего происходит спад. Категория приносит стабильно выскокий доход на протяжении всего года, но по количеству проданных товаров апрель и май показывают аномально высокий спрос. Таким образом эту категорию можно охарактеризовать как наиболее подверженную фактору сезонности.\n",
    "\n",
    "\n",
    "- **Товары для дома** лидируют по выручке во все месяца, кроме апреля и мая, где для **Садоводства** начинается сезон. При этом же показатель количества проданных товаров является одним из самых низких - это явно указывает на высокую стоимость товаров\n",
    "\n",
    "\n",
    "- **Товары для кухни** имеют стабильный спрос осенне-зимние месяцы, после чего испытывают спад на протяжении следующего полугода, что отражается на обоих параметрах.\n",
    "\n",
    "2. [**Анализ товаров**](#3.2) - был проведён аналогичный анализ данных, но уже сгруппированных по уникальным товарам\n",
    "\n",
    "- Всего в данных 2,146  уникальных товаров. В среднем каждый товар за рассматриваемый период продаётся в количестве 4 шт. и приносит около 1,200 выручки.\n",
    "\n",
    "\n",
    "- Категория **Садоводство** лидирует по количеству проданных товаров с большим отрывом - это указывает на низкую стоимость товара при большом спросе.\n",
    "\n",
    "\n",
    "- С категорией **Товары для дома** ситуация противоположная - самая высокая общая выручка и самое низкое количество проданного товара, что явно указывает на сравнительно высокую стоимость продуктов этой категории.\n",
    "\n",
    "\n",
    "- Все данные имеют вид нормального распределения с наличием выбросов в большую сторону. По большей части графики в своих разрезах отличаются лишь размером параметров, тогда как по форме распределения они схожи.\n",
    "\n",
    "3. [**ABC анализ**](#3.3) - был проведён ABC-анализ товаров с учётом распределения всех основных параметров каждого товара.\n",
    "\n",
    "Результаты:\n",
    "\n",
    "Категория **`A`** составляет 9.89% всех товаров, принося при этом 37.86% всей выручки.\n",
    "Товары категории встречаются в 18.04% заказов и составляют 16.43% от всех проданных товаров в магазине.\n",
    "\n",
    "Категория **`B`** составляет 28.46% всех товаров, принося при этом 40.84% всей выручки.\n",
    "Товары категории встречаются в 35.79% заказов и составляют 42.35% от всех проданных товаров в магазине.\n",
    "\n",
    "Категория **`C`** составляет 61.65% всех товаров, принося при этом 21.3% всей выручки.\n",
    "Товары категории встречаются в 46.17% заказов и составляют 41.22% от всех проданных товаров в магазине.\n",
    "\n",
    "\n",
    "- Несмотря на свою немногочисленность, группа **A** является важным источником прибыли для магазина. Группа **B** также хорошо себя показывает, а вот многочисленный ассортимент группы **С** стоит пересмотреть - товары в ней не так популярны и приносят лишь пятую часть всей выручки. Именно из этой группы стоит выделять товары для возможных сокращений."
   ]
  },
  {
   "cell_type": "markdown",
   "metadata": {},
   "source": [
    "4. [**Сегментация товарного ассортимента**](#4)\n",
    "\n",
    "Используя алгоритм из ABC анализа для разделения товаров на основной и дополнительный ассортимент, товары были проанализированы в разрезе всех представленных категорий.\n",
    "\n",
    "Результат кластеризации:\n",
    "\n",
    "Кластер `0` составляет 41.35% всех товаров. \n",
    "В кластере 9.72% заказов с единственным товаром. Это 7.96% всех подобных заказов.\n",
    "\n",
    "Кластер `1` составляет 58.65% всех товаров. \n",
    "В кластере 96.06% заказов с единственным товаром. Это 92.04% всех подобных заказов.\n",
    "\n",
    "- Кластер 1 был выделен как основной ассортимент магазина - несмотря на значительно больший размер группы, товары этого кластера являются единственным поводом для заказа более чем в 96% случаев. Группа 0 же была определена как дополнительный ассортимент, товары которой по большей части продаётся лишь в составе заказов с другими товарами.\n",
    "\n",
    "\n",
    "Ключевые выводы анализа категорий:\n",
    "\n",
    "- Самый лучший во всех отношениях сегмент товаров - **Товары для дома** группы `A` в основном ассортименте. Они являются самыми продаваемыми и самыми прибыльными, и при этом же самым многочисленным товаром в группе `A`. Эта категория также хорошо показывает себя в группе `B`, а вот товары для дома в группе `C` необходимо изучить для поиска отличий от остальных товаров.\n",
    "\n",
    "\n",
    "- Категория **Садоводство** является крупнейшей категорией товаров, и большая их часть сосредоточена в сегменте `C` дополнительного ассортимента. Так как пренадлежность к этой категории означает, прежде всего, низкий показатель выручки, эти товары необходимо сократить для оптимизации издержек. В целом товары этой категории характерны реалезацией в качестве дополнительно ассортимента."
   ]
  },
  {
   "cell_type": "markdown",
   "metadata": {},
   "source": [
    "5. [**Проверка гипотез**](#5)\n",
    "\n",
    "На этапе декомпозиции задачи было выдвинуто две гипотезы:\n",
    "\n",
    "- *Средняя выручка заказа без дополнительных товаров отличается от средней выручки заказов с дополнительными товарами*\n",
    "- *Среднее количество товаров, проданных в будние дни, отличается от среднего количества проданных на выходных*\n",
    "\n",
    "Так как при исследовательском анализе были выявлены выбросы в распределении данных, для проверки гипотез был использован непараметрический тест Манна-Уитни.\n",
    "\n",
    "- По первой гипотезе удалось установить, что средний чек явно зависит от наличия дополнительных товаров в заказе - это видно как и по выборке, так и по результатам статистического теста. Причём зависимость видимо обратна ожидаемой - средний чек в среднем больше у тех заказов, где в корзине присутствуют только основные товары.\n",
    "\n",
    "- По второй гипотезе тест не выявил статистически значимой разницы между средним количеством товаров по будням и выходным. Но так как количество таких дней предеставлено в соотношении 5/2, такие результаты явно указывают на больший спрос по выходным дням."
   ]
  }
 ],
 "metadata": {
  "ExecuteTimeLog": [
   {
    "duration": 402,
    "start_time": "2022-09-15T00:18:11.089Z"
   },
   {
    "duration": 85,
    "start_time": "2022-09-15T00:18:47.184Z"
   },
   {
    "duration": 180,
    "start_time": "2022-09-15T00:19:06.536Z"
   },
   {
    "duration": 19,
    "start_time": "2022-09-15T00:19:09.419Z"
   },
   {
    "duration": 11,
    "start_time": "2022-09-15T00:19:19.304Z"
   },
   {
    "duration": 12,
    "start_time": "2022-09-15T00:19:26.014Z"
   },
   {
    "duration": 49,
    "start_time": "2022-09-15T00:21:38.284Z"
   },
   {
    "duration": 9,
    "start_time": "2022-09-15T00:21:41.028Z"
   },
   {
    "duration": 13,
    "start_time": "2022-09-15T00:22:17.273Z"
   },
   {
    "duration": 8,
    "start_time": "2022-09-15T00:22:25.967Z"
   },
   {
    "duration": 5,
    "start_time": "2022-09-15T00:23:14.971Z"
   },
   {
    "duration": 7,
    "start_time": "2022-09-15T00:23:25.910Z"
   },
   {
    "duration": 6,
    "start_time": "2022-09-15T00:23:32.274Z"
   },
   {
    "duration": 4,
    "start_time": "2022-09-15T00:23:37.093Z"
   },
   {
    "duration": 5,
    "start_time": "2022-09-15T00:24:04.336Z"
   },
   {
    "duration": 4,
    "start_time": "2022-09-15T00:24:08.396Z"
   },
   {
    "duration": 4,
    "start_time": "2022-09-15T00:24:21.484Z"
   },
   {
    "duration": 10,
    "start_time": "2022-09-15T00:26:45.914Z"
   },
   {
    "duration": 6,
    "start_time": "2022-09-15T00:27:05.543Z"
   },
   {
    "duration": 10,
    "start_time": "2022-09-15T00:33:58.764Z"
   },
   {
    "duration": 905,
    "start_time": "2022-09-15T00:34:09.268Z"
   },
   {
    "duration": 1021,
    "start_time": "2022-09-15T00:34:19.163Z"
   },
   {
    "duration": 10,
    "start_time": "2022-09-15T00:34:59.298Z"
   },
   {
    "duration": 9,
    "start_time": "2022-09-15T00:35:04.786Z"
   },
   {
    "duration": 10,
    "start_time": "2022-09-15T00:35:12.377Z"
   },
   {
    "duration": 14,
    "start_time": "2022-09-15T00:35:21.755Z"
   },
   {
    "duration": 12,
    "start_time": "2022-09-15T00:35:26.172Z"
   },
   {
    "duration": 10,
    "start_time": "2022-09-15T00:35:38.857Z"
   },
   {
    "duration": 10,
    "start_time": "2022-09-15T00:37:05.275Z"
   },
   {
    "duration": 12,
    "start_time": "2022-09-15T00:37:21.474Z"
   },
   {
    "duration": 7,
    "start_time": "2022-09-15T00:37:33.416Z"
   },
   {
    "duration": 5,
    "start_time": "2022-09-15T00:37:45.156Z"
   },
   {
    "duration": 6,
    "start_time": "2022-09-15T00:38:51.399Z"
   },
   {
    "duration": 1736,
    "start_time": "2022-09-15T20:14:10.006Z"
   },
   {
    "duration": 88,
    "start_time": "2022-09-15T20:14:14.476Z"
   },
   {
    "duration": 18,
    "start_time": "2022-09-15T20:28:15.607Z"
   },
   {
    "duration": 56,
    "start_time": "2022-09-15T21:23:25.083Z"
   },
   {
    "duration": 11,
    "start_time": "2022-09-15T21:43:12.178Z"
   },
   {
    "duration": 10,
    "start_time": "2022-09-15T21:44:10.843Z"
   },
   {
    "duration": 3,
    "start_time": "2022-09-15T21:55:55.937Z"
   },
   {
    "duration": 15,
    "start_time": "2022-09-15T21:56:02.078Z"
   },
   {
    "duration": 14,
    "start_time": "2022-09-15T21:56:05.340Z"
   },
   {
    "duration": 6,
    "start_time": "2022-09-15T21:57:19.792Z"
   },
   {
    "duration": 17,
    "start_time": "2022-09-15T21:57:33.586Z"
   },
   {
    "duration": 15,
    "start_time": "2022-09-15T21:57:49.447Z"
   },
   {
    "duration": 15,
    "start_time": "2022-09-15T21:58:36.101Z"
   },
   {
    "duration": 15,
    "start_time": "2022-09-15T21:58:38.904Z"
   },
   {
    "duration": 17,
    "start_time": "2022-09-15T21:58:46.451Z"
   },
   {
    "duration": 58,
    "start_time": "2022-09-15T21:59:07.539Z"
   },
   {
    "duration": 18,
    "start_time": "2022-09-15T21:59:09.510Z"
   },
   {
    "duration": 14,
    "start_time": "2022-09-15T22:01:20.755Z"
   },
   {
    "duration": 9,
    "start_time": "2022-09-15T22:02:15.293Z"
   },
   {
    "duration": 5,
    "start_time": "2022-09-15T22:17:23.166Z"
   },
   {
    "duration": 7,
    "start_time": "2022-09-15T22:17:30.614Z"
   },
   {
    "duration": 8,
    "start_time": "2022-09-15T22:17:56.834Z"
   },
   {
    "duration": 14,
    "start_time": "2022-09-15T22:40:14.883Z"
   },
   {
    "duration": 10,
    "start_time": "2022-09-15T22:41:11.575Z"
   },
   {
    "duration": 7,
    "start_time": "2022-09-15T22:42:07.555Z"
   },
   {
    "duration": 8,
    "start_time": "2022-09-15T22:42:11.670Z"
   },
   {
    "duration": 6,
    "start_time": "2022-09-15T22:43:59.573Z"
   },
   {
    "duration": 8,
    "start_time": "2022-09-15T22:44:05.053Z"
   },
   {
    "duration": 16,
    "start_time": "2022-09-15T22:47:40.419Z"
   },
   {
    "duration": 19,
    "start_time": "2022-09-15T22:51:36.017Z"
   },
   {
    "duration": 18,
    "start_time": "2022-09-15T22:51:43.454Z"
   },
   {
    "duration": 18,
    "start_time": "2022-09-15T22:51:46.634Z"
   },
   {
    "duration": 113,
    "start_time": "2022-09-15T22:56:51.413Z"
   },
   {
    "duration": 90,
    "start_time": "2022-09-15T22:57:17.202Z"
   },
   {
    "duration": 15,
    "start_time": "2022-09-15T22:57:32.869Z"
   },
   {
    "duration": 17,
    "start_time": "2022-09-15T22:57:54.942Z"
   },
   {
    "duration": 15,
    "start_time": "2022-09-15T22:58:03.143Z"
   },
   {
    "duration": 15,
    "start_time": "2022-09-15T22:58:10.661Z"
   },
   {
    "duration": 19,
    "start_time": "2022-09-15T22:58:13.232Z"
   },
   {
    "duration": 18,
    "start_time": "2022-09-15T22:58:28.379Z"
   },
   {
    "duration": 16,
    "start_time": "2022-09-15T22:58:33.587Z"
   },
   {
    "duration": 13,
    "start_time": "2022-09-15T23:01:37.543Z"
   },
   {
    "duration": 3,
    "start_time": "2022-09-15T23:02:52.313Z"
   },
   {
    "duration": 357,
    "start_time": "2022-09-15T23:03:10.476Z"
   },
   {
    "duration": 3,
    "start_time": "2022-09-15T23:03:19.129Z"
   },
   {
    "duration": 45,
    "start_time": "2022-09-15T23:03:20.659Z"
   },
   {
    "duration": 3,
    "start_time": "2022-09-15T23:03:58.682Z"
   },
   {
    "duration": 44,
    "start_time": "2022-09-15T23:03:59.018Z"
   },
   {
    "duration": 3,
    "start_time": "2022-09-15T23:04:39.442Z"
   },
   {
    "duration": 382,
    "start_time": "2022-09-15T23:04:40.347Z"
   },
   {
    "duration": 85,
    "start_time": "2022-09-15T23:04:56.976Z"
   },
   {
    "duration": 397,
    "start_time": "2022-09-15T23:05:00.273Z"
   },
   {
    "duration": 375,
    "start_time": "2022-09-15T23:05:10.776Z"
   },
   {
    "duration": 3,
    "start_time": "2022-09-15T23:05:19.194Z"
   },
   {
    "duration": 42,
    "start_time": "2022-09-15T23:05:19.418Z"
   },
   {
    "duration": 129,
    "start_time": "2022-09-15T23:05:45.883Z"
   },
   {
    "duration": 112,
    "start_time": "2022-09-15T23:07:12.146Z"
   },
   {
    "duration": 221,
    "start_time": "2022-09-15T23:08:08.977Z"
   },
   {
    "duration": 236,
    "start_time": "2022-09-15T23:08:16.700Z"
   },
   {
    "duration": 5,
    "start_time": "2022-09-15T23:12:04.715Z"
   },
   {
    "duration": 1500,
    "start_time": "2022-09-15T23:12:13.269Z"
   },
   {
    "duration": 77,
    "start_time": "2022-09-15T23:12:14.770Z"
   },
   {
    "duration": 18,
    "start_time": "2022-09-15T23:12:14.848Z"
   },
   {
    "duration": 9,
    "start_time": "2022-09-15T23:12:14.868Z"
   },
   {
    "duration": 30,
    "start_time": "2022-09-15T23:12:14.878Z"
   },
   {
    "duration": 15,
    "start_time": "2022-09-15T23:12:14.910Z"
   },
   {
    "duration": 160,
    "start_time": "2022-09-15T23:12:14.926Z"
   },
   {
    "duration": 8,
    "start_time": "2022-09-15T23:22:52.982Z"
   },
   {
    "duration": 10,
    "start_time": "2022-09-15T23:26:16.790Z"
   },
   {
    "duration": 16,
    "start_time": "2022-09-15T23:27:52.770Z"
   },
   {
    "duration": 11,
    "start_time": "2022-09-15T23:28:38.195Z"
   },
   {
    "duration": 2,
    "start_time": "2022-09-15T23:33:01.618Z"
   },
   {
    "duration": 9,
    "start_time": "2022-09-15T23:33:15.008Z"
   },
   {
    "duration": 114,
    "start_time": "2022-09-15T23:34:03.277Z"
   },
   {
    "duration": 3,
    "start_time": "2022-09-15T23:34:10.700Z"
   },
   {
    "duration": 8,
    "start_time": "2022-09-15T23:34:35.376Z"
   },
   {
    "duration": 13,
    "start_time": "2022-09-15T23:34:46.006Z"
   },
   {
    "duration": 1518,
    "start_time": "2022-09-17T04:55:49.628Z"
   },
   {
    "duration": 190,
    "start_time": "2022-09-17T04:55:51.148Z"
   },
   {
    "duration": 16,
    "start_time": "2022-09-17T04:55:51.340Z"
   },
   {
    "duration": 10,
    "start_time": "2022-09-17T04:55:51.358Z"
   },
   {
    "duration": 12,
    "start_time": "2022-09-17T04:55:51.370Z"
   },
   {
    "duration": 15,
    "start_time": "2022-09-17T04:55:51.384Z"
   },
   {
    "duration": 129,
    "start_time": "2022-09-17T04:55:51.400Z"
   },
   {
    "duration": 7,
    "start_time": "2022-09-17T04:55:51.530Z"
   },
   {
    "duration": 3,
    "start_time": "2022-09-17T04:55:51.539Z"
   },
   {
    "duration": 9,
    "start_time": "2022-09-17T04:55:51.544Z"
   },
   {
    "duration": 108,
    "start_time": "2022-09-17T04:55:51.577Z"
   },
   {
    "duration": 8,
    "start_time": "2022-09-17T04:56:57.235Z"
   },
   {
    "duration": 4,
    "start_time": "2022-09-17T04:56:58.346Z"
   },
   {
    "duration": 8,
    "start_time": "2022-09-17T04:56:59.150Z"
   },
   {
    "duration": 56,
    "start_time": "2022-09-17T04:58:34.015Z"
   },
   {
    "duration": 117,
    "start_time": "2022-09-17T04:59:33.167Z"
   },
   {
    "duration": 96,
    "start_time": "2022-09-17T04:59:41.545Z"
   },
   {
    "duration": 352,
    "start_time": "2022-09-17T05:00:09.998Z"
   },
   {
    "duration": 171,
    "start_time": "2022-09-17T05:00:39.583Z"
   },
   {
    "duration": 115,
    "start_time": "2022-09-17T05:01:27.122Z"
   },
   {
    "duration": 147,
    "start_time": "2022-09-17T05:02:08.242Z"
   },
   {
    "duration": 125,
    "start_time": "2022-09-17T05:02:13.485Z"
   },
   {
    "duration": 8,
    "start_time": "2022-09-17T05:02:55.216Z"
   },
   {
    "duration": 11,
    "start_time": "2022-09-17T05:03:03.200Z"
   },
   {
    "duration": 9,
    "start_time": "2022-09-17T05:03:31.215Z"
   },
   {
    "duration": 12,
    "start_time": "2022-09-17T05:03:39.556Z"
   },
   {
    "duration": 59,
    "start_time": "2022-09-17T05:04:24.609Z"
   },
   {
    "duration": 14,
    "start_time": "2022-09-17T05:04:28.726Z"
   },
   {
    "duration": 10,
    "start_time": "2022-09-17T05:04:37.398Z"
   },
   {
    "duration": 13,
    "start_time": "2022-09-17T05:04:43.280Z"
   },
   {
    "duration": 16,
    "start_time": "2022-09-17T05:06:55.030Z"
   },
   {
    "duration": 137,
    "start_time": "2022-09-17T05:07:18.701Z"
   },
   {
    "duration": 145,
    "start_time": "2022-09-17T05:07:24.177Z"
   },
   {
    "duration": 145,
    "start_time": "2022-09-17T05:07:26.372Z"
   },
   {
    "duration": 129,
    "start_time": "2022-09-17T05:08:09.256Z"
   },
   {
    "duration": 122,
    "start_time": "2022-09-17T05:08:19.454Z"
   },
   {
    "duration": 128,
    "start_time": "2022-09-17T05:08:25.236Z"
   },
   {
    "duration": 124,
    "start_time": "2022-09-17T05:08:38.265Z"
   },
   {
    "duration": 1411,
    "start_time": "2022-09-17T05:11:20.276Z"
   },
   {
    "duration": 21,
    "start_time": "2022-09-17T05:11:59.660Z"
   },
   {
    "duration": 22,
    "start_time": "2022-09-17T05:12:07.032Z"
   },
   {
    "duration": 19,
    "start_time": "2022-09-17T05:12:19.878Z"
   },
   {
    "duration": 21,
    "start_time": "2022-09-17T05:12:28.301Z"
   },
   {
    "duration": 12,
    "start_time": "2022-09-17T05:12:39.569Z"
   },
   {
    "duration": 14,
    "start_time": "2022-09-17T05:12:43.041Z"
   },
   {
    "duration": 70,
    "start_time": "2022-09-17T05:12:45.870Z"
   },
   {
    "duration": 12,
    "start_time": "2022-09-17T05:12:52.016Z"
   },
   {
    "duration": 12,
    "start_time": "2022-09-17T05:12:55.359Z"
   },
   {
    "duration": 77,
    "start_time": "2022-09-17T05:13:00.367Z"
   },
   {
    "duration": 12,
    "start_time": "2022-09-17T05:13:03.398Z"
   },
   {
    "duration": 13,
    "start_time": "2022-09-17T05:13:06.806Z"
   },
   {
    "duration": 46,
    "start_time": "2022-09-17T05:17:50.197Z"
   },
   {
    "duration": 11,
    "start_time": "2022-09-17T05:17:59.672Z"
   },
   {
    "duration": 23,
    "start_time": "2022-09-17T05:18:06.081Z"
   },
   {
    "duration": 18,
    "start_time": "2022-09-17T05:18:14.515Z"
   },
   {
    "duration": 14,
    "start_time": "2022-09-17T05:19:20.068Z"
   },
   {
    "duration": 13,
    "start_time": "2022-09-17T05:28:28.371Z"
   },
   {
    "duration": 13,
    "start_time": "2022-09-17T05:28:34.522Z"
   },
   {
    "duration": 12,
    "start_time": "2022-09-17T05:28:43.008Z"
   },
   {
    "duration": 7,
    "start_time": "2022-09-17T05:28:54.727Z"
   },
   {
    "duration": 71,
    "start_time": "2022-09-17T05:28:54.736Z"
   },
   {
    "duration": 16,
    "start_time": "2022-09-17T05:28:54.808Z"
   },
   {
    "duration": 14,
    "start_time": "2022-09-17T05:28:54.826Z"
   },
   {
    "duration": 22,
    "start_time": "2022-09-17T05:28:54.842Z"
   },
   {
    "duration": 15,
    "start_time": "2022-09-17T05:28:54.877Z"
   },
   {
    "duration": 157,
    "start_time": "2022-09-17T05:28:54.894Z"
   },
   {
    "duration": 7,
    "start_time": "2022-09-17T05:28:55.053Z"
   },
   {
    "duration": 7,
    "start_time": "2022-09-17T05:41:10.525Z"
   },
   {
    "duration": 11,
    "start_time": "2022-09-17T05:42:22.761Z"
   },
   {
    "duration": 87,
    "start_time": "2022-09-17T05:43:11.252Z"
   },
   {
    "duration": 114,
    "start_time": "2022-09-17T05:43:36.393Z"
   },
   {
    "duration": 222,
    "start_time": "2022-09-17T05:44:10.154Z"
   },
   {
    "duration": 120,
    "start_time": "2022-09-17T05:44:35.921Z"
   },
   {
    "duration": 14,
    "start_time": "2022-09-17T05:45:29.659Z"
   },
   {
    "duration": 12,
    "start_time": "2022-09-17T05:46:07.673Z"
   },
   {
    "duration": 15,
    "start_time": "2022-09-17T05:47:17.457Z"
   },
   {
    "duration": 8,
    "start_time": "2022-09-17T05:47:26.161Z"
   },
   {
    "duration": 82,
    "start_time": "2022-09-17T05:47:26.172Z"
   },
   {
    "duration": 21,
    "start_time": "2022-09-17T05:47:26.256Z"
   },
   {
    "duration": 13,
    "start_time": "2022-09-17T05:47:26.280Z"
   },
   {
    "duration": 16,
    "start_time": "2022-09-17T05:47:26.296Z"
   },
   {
    "duration": 17,
    "start_time": "2022-09-17T05:47:26.314Z"
   },
   {
    "duration": 184,
    "start_time": "2022-09-17T05:47:26.334Z"
   },
   {
    "duration": 9,
    "start_time": "2022-09-17T05:47:26.519Z"
   },
   {
    "duration": 15,
    "start_time": "2022-09-17T05:47:26.529Z"
   },
   {
    "duration": 4,
    "start_time": "2022-09-17T05:47:26.546Z"
   },
   {
    "duration": 10,
    "start_time": "2022-09-17T05:47:26.578Z"
   },
   {
    "duration": 167,
    "start_time": "2022-09-17T05:47:26.590Z"
   },
   {
    "duration": 11,
    "start_time": "2022-09-17T05:47:29.695Z"
   },
   {
    "duration": 11,
    "start_time": "2022-09-17T05:48:44.515Z"
   },
   {
    "duration": 6,
    "start_time": "2022-09-17T05:48:49.359Z"
   },
   {
    "duration": 62,
    "start_time": "2022-09-17T05:48:49.368Z"
   },
   {
    "duration": 21,
    "start_time": "2022-09-17T05:48:49.432Z"
   },
   {
    "duration": 9,
    "start_time": "2022-09-17T05:48:49.456Z"
   },
   {
    "duration": 15,
    "start_time": "2022-09-17T05:48:49.467Z"
   },
   {
    "duration": 19,
    "start_time": "2022-09-17T05:48:49.483Z"
   },
   {
    "duration": 150,
    "start_time": "2022-09-17T05:48:49.504Z"
   },
   {
    "duration": 21,
    "start_time": "2022-09-17T05:48:49.656Z"
   },
   {
    "duration": 10,
    "start_time": "2022-09-17T05:48:49.679Z"
   },
   {
    "duration": 4,
    "start_time": "2022-09-17T05:48:49.691Z"
   },
   {
    "duration": 14,
    "start_time": "2022-09-17T05:48:49.696Z"
   },
   {
    "duration": 153,
    "start_time": "2022-09-17T05:48:49.712Z"
   },
   {
    "duration": 17,
    "start_time": "2022-09-17T05:48:49.867Z"
   },
   {
    "duration": 10,
    "start_time": "2022-09-17T05:48:57.995Z"
   },
   {
    "duration": 12,
    "start_time": "2022-09-17T05:50:02.591Z"
   },
   {
    "duration": 7,
    "start_time": "2022-09-17T05:50:06.511Z"
   },
   {
    "duration": 67,
    "start_time": "2022-09-17T05:50:06.520Z"
   },
   {
    "duration": 17,
    "start_time": "2022-09-17T05:50:06.589Z"
   },
   {
    "duration": 10,
    "start_time": "2022-09-17T05:50:06.608Z"
   },
   {
    "duration": 14,
    "start_time": "2022-09-17T05:50:06.620Z"
   },
   {
    "duration": 46,
    "start_time": "2022-09-17T05:50:06.636Z"
   },
   {
    "duration": 133,
    "start_time": "2022-09-17T05:50:06.683Z"
   },
   {
    "duration": 8,
    "start_time": "2022-09-17T05:50:06.818Z"
   },
   {
    "duration": 10,
    "start_time": "2022-09-17T05:50:06.828Z"
   },
   {
    "duration": 19,
    "start_time": "2022-09-17T05:50:06.840Z"
   },
   {
    "duration": 19,
    "start_time": "2022-09-17T05:50:06.861Z"
   },
   {
    "duration": 186,
    "start_time": "2022-09-17T05:50:06.882Z"
   },
   {
    "duration": 14,
    "start_time": "2022-09-17T05:50:07.071Z"
   },
   {
    "duration": 123,
    "start_time": "2022-09-17T05:50:49.293Z"
   },
   {
    "duration": 333,
    "start_time": "2022-09-17T05:51:44.632Z"
   },
   {
    "duration": 119,
    "start_time": "2022-09-17T05:51:51.534Z"
   },
   {
    "duration": 11,
    "start_time": "2022-09-17T05:51:59.020Z"
   },
   {
    "duration": 12,
    "start_time": "2022-09-17T05:52:02.184Z"
   },
   {
    "duration": 7,
    "start_time": "2022-09-17T05:52:06.596Z"
   },
   {
    "duration": 84,
    "start_time": "2022-09-17T05:52:06.605Z"
   },
   {
    "duration": 22,
    "start_time": "2022-09-17T05:52:06.694Z"
   },
   {
    "duration": 18,
    "start_time": "2022-09-17T05:52:06.718Z"
   },
   {
    "duration": 18,
    "start_time": "2022-09-17T05:52:06.739Z"
   },
   {
    "duration": 32,
    "start_time": "2022-09-17T05:52:06.759Z"
   },
   {
    "duration": 175,
    "start_time": "2022-09-17T05:52:06.793Z"
   },
   {
    "duration": 10,
    "start_time": "2022-09-17T05:52:06.977Z"
   },
   {
    "duration": 14,
    "start_time": "2022-09-17T05:52:06.989Z"
   },
   {
    "duration": 28,
    "start_time": "2022-09-17T05:52:07.005Z"
   },
   {
    "duration": 32,
    "start_time": "2022-09-17T05:52:07.036Z"
   },
   {
    "duration": 186,
    "start_time": "2022-09-17T05:52:07.070Z"
   },
   {
    "duration": 19,
    "start_time": "2022-09-17T05:52:07.258Z"
   },
   {
    "duration": 14,
    "start_time": "2022-09-17T05:52:24.449Z"
   },
   {
    "duration": 3,
    "start_time": "2022-09-17T05:54:44.144Z"
   },
   {
    "duration": 13,
    "start_time": "2022-09-17T05:54:44.518Z"
   },
   {
    "duration": 53,
    "start_time": "2022-09-17T05:55:34.051Z"
   },
   {
    "duration": 13,
    "start_time": "2022-09-17T05:55:57.701Z"
   },
   {
    "duration": 13,
    "start_time": "2022-09-17T05:56:05.962Z"
   },
   {
    "duration": 14,
    "start_time": "2022-09-17T05:56:15.016Z"
   },
   {
    "duration": 6,
    "start_time": "2022-09-17T05:56:31.946Z"
   },
   {
    "duration": 15,
    "start_time": "2022-09-17T05:56:40.298Z"
   },
   {
    "duration": 5,
    "start_time": "2022-09-17T05:56:58.292Z"
   },
   {
    "duration": 18,
    "start_time": "2022-09-17T05:57:02.938Z"
   },
   {
    "duration": 7,
    "start_time": "2022-09-17T05:58:55.230Z"
   },
   {
    "duration": 11,
    "start_time": "2022-09-17T05:59:02.060Z"
   },
   {
    "duration": 33,
    "start_time": "2022-09-17T05:59:26.808Z"
   },
   {
    "duration": 23,
    "start_time": "2022-09-17T05:59:58.907Z"
   },
   {
    "duration": 30,
    "start_time": "2022-09-17T06:00:03.586Z"
   },
   {
    "duration": 22,
    "start_time": "2022-09-17T06:00:08.013Z"
   },
   {
    "duration": 20,
    "start_time": "2022-09-17T06:00:12.991Z"
   },
   {
    "duration": 14,
    "start_time": "2022-09-17T06:00:34.411Z"
   },
   {
    "duration": 81,
    "start_time": "2022-09-17T06:06:04.601Z"
   },
   {
    "duration": 60,
    "start_time": "2022-09-17T06:06:14.950Z"
   },
   {
    "duration": 10,
    "start_time": "2022-09-17T06:06:59.719Z"
   },
   {
    "duration": 13,
    "start_time": "2022-09-17T06:07:07.985Z"
   },
   {
    "duration": 17,
    "start_time": "2022-09-17T06:07:14.364Z"
   },
   {
    "duration": 11,
    "start_time": "2022-09-17T06:07:28.166Z"
   },
   {
    "duration": 66,
    "start_time": "2022-09-17T06:12:32.556Z"
   },
   {
    "duration": 9,
    "start_time": "2022-09-17T06:12:37.136Z"
   },
   {
    "duration": 8,
    "start_time": "2022-09-17T06:12:46.869Z"
   },
   {
    "duration": 12,
    "start_time": "2022-09-17T06:14:35.846Z"
   },
   {
    "duration": 20,
    "start_time": "2022-09-17T06:15:15.550Z"
   },
   {
    "duration": 9,
    "start_time": "2022-09-17T06:15:27.855Z"
   },
   {
    "duration": 11,
    "start_time": "2022-09-17T06:16:06.258Z"
   },
   {
    "duration": 16,
    "start_time": "2022-09-17T06:50:19.377Z"
   },
   {
    "duration": 7,
    "start_time": "2022-09-17T06:50:40.091Z"
   },
   {
    "duration": 62,
    "start_time": "2022-09-17T06:50:40.100Z"
   },
   {
    "duration": 23,
    "start_time": "2022-09-17T06:50:40.163Z"
   },
   {
    "duration": 13,
    "start_time": "2022-09-17T06:50:40.188Z"
   },
   {
    "duration": 14,
    "start_time": "2022-09-17T06:50:40.203Z"
   },
   {
    "duration": 15,
    "start_time": "2022-09-17T06:50:40.219Z"
   },
   {
    "duration": 170,
    "start_time": "2022-09-17T06:50:40.236Z"
   },
   {
    "duration": 8,
    "start_time": "2022-09-17T06:50:40.409Z"
   },
   {
    "duration": 14,
    "start_time": "2022-09-17T06:50:40.419Z"
   },
   {
    "duration": 3,
    "start_time": "2022-09-17T06:50:40.435Z"
   },
   {
    "duration": 8,
    "start_time": "2022-09-17T06:50:40.440Z"
   },
   {
    "duration": 207,
    "start_time": "2022-09-17T06:50:40.450Z"
   },
   {
    "duration": 23,
    "start_time": "2022-09-17T06:50:40.659Z"
   },
   {
    "duration": 11,
    "start_time": "2022-09-17T06:50:40.685Z"
   },
   {
    "duration": 12,
    "start_time": "2022-09-17T06:50:43.605Z"
   },
   {
    "duration": 11,
    "start_time": "2022-09-17T06:51:00.722Z"
   },
   {
    "duration": 10,
    "start_time": "2022-09-17T06:51:03.100Z"
   },
   {
    "duration": 10,
    "start_time": "2022-09-17T06:58:02.846Z"
   },
   {
    "duration": 9,
    "start_time": "2022-09-17T06:58:18.664Z"
   },
   {
    "duration": 15,
    "start_time": "2022-09-17T06:58:23.784Z"
   },
   {
    "duration": 9,
    "start_time": "2022-09-17T06:58:24.268Z"
   },
   {
    "duration": 15,
    "start_time": "2022-09-17T06:58:40.624Z"
   },
   {
    "duration": 13,
    "start_time": "2022-09-17T07:02:00.511Z"
   },
   {
    "duration": 21,
    "start_time": "2022-09-17T07:02:13.064Z"
   },
   {
    "duration": 20,
    "start_time": "2022-09-17T07:02:23.807Z"
   },
   {
    "duration": 11,
    "start_time": "2022-09-17T07:03:50.025Z"
   },
   {
    "duration": 3032,
    "start_time": "2022-09-17T07:03:50.601Z"
   },
   {
    "duration": 20,
    "start_time": "2022-09-17T07:04:07.107Z"
   },
   {
    "duration": 10,
    "start_time": "2022-09-17T07:04:13.269Z"
   },
   {
    "duration": 12,
    "start_time": "2022-09-17T07:04:35.136Z"
   },
   {
    "duration": 2,
    "start_time": "2022-09-17T07:07:44.004Z"
   },
   {
    "duration": 17,
    "start_time": "2022-09-17T07:45:56.259Z"
   },
   {
    "duration": 30,
    "start_time": "2022-09-17T07:46:05.667Z"
   },
   {
    "duration": 33,
    "start_time": "2022-09-17T07:46:26.909Z"
   },
   {
    "duration": 24,
    "start_time": "2022-09-17T07:47:04.353Z"
   },
   {
    "duration": 34,
    "start_time": "2022-09-17T07:52:12.167Z"
   },
   {
    "duration": 34,
    "start_time": "2022-09-17T07:52:15.573Z"
   },
   {
    "duration": 4,
    "start_time": "2022-09-17T08:02:49.505Z"
   },
   {
    "duration": 6,
    "start_time": "2022-09-17T08:02:55.262Z"
   },
   {
    "duration": 3,
    "start_time": "2022-09-17T08:03:14.436Z"
   },
   {
    "duration": 4,
    "start_time": "2022-09-17T08:03:17.405Z"
   },
   {
    "duration": 17,
    "start_time": "2022-09-17T08:04:12.820Z"
   },
   {
    "duration": 38,
    "start_time": "2022-09-17T08:04:33.268Z"
   },
   {
    "duration": 1558,
    "start_time": "2022-09-18T06:48:22.852Z"
   },
   {
    "duration": 188,
    "start_time": "2022-09-18T06:48:24.412Z"
   },
   {
    "duration": 16,
    "start_time": "2022-09-18T06:48:24.601Z"
   },
   {
    "duration": 14,
    "start_time": "2022-09-18T06:48:24.619Z"
   },
   {
    "duration": 26,
    "start_time": "2022-09-18T06:48:24.635Z"
   },
   {
    "duration": 22,
    "start_time": "2022-09-18T06:48:24.663Z"
   },
   {
    "duration": 135,
    "start_time": "2022-09-18T06:48:24.687Z"
   },
   {
    "duration": 8,
    "start_time": "2022-09-18T06:48:24.824Z"
   },
   {
    "duration": 21,
    "start_time": "2022-09-18T06:48:24.834Z"
   },
   {
    "duration": 12,
    "start_time": "2022-09-18T06:48:24.856Z"
   },
   {
    "duration": 12,
    "start_time": "2022-09-18T06:48:24.869Z"
   },
   {
    "duration": 143,
    "start_time": "2022-09-18T06:48:24.882Z"
   },
   {
    "duration": 10,
    "start_time": "2022-09-18T06:48:25.026Z"
   },
   {
    "duration": 16,
    "start_time": "2022-09-18T06:48:25.039Z"
   },
   {
    "duration": 52,
    "start_time": "2022-09-18T06:48:25.056Z"
   },
   {
    "duration": 19,
    "start_time": "2022-09-18T06:48:25.110Z"
   },
   {
    "duration": 34,
    "start_time": "2022-09-18T06:48:25.130Z"
   },
   {
    "duration": 17,
    "start_time": "2022-09-18T06:50:10.764Z"
   },
   {
    "duration": 21,
    "start_time": "2022-09-18T06:50:44.437Z"
   },
   {
    "duration": 20,
    "start_time": "2022-09-18T06:51:05.247Z"
   },
   {
    "duration": 19,
    "start_time": "2022-09-18T06:51:25.231Z"
   },
   {
    "duration": 19,
    "start_time": "2022-09-18T06:51:28.801Z"
   },
   {
    "duration": 20,
    "start_time": "2022-09-18T06:51:31.804Z"
   },
   {
    "duration": 19,
    "start_time": "2022-09-18T06:51:48.942Z"
   },
   {
    "duration": 12,
    "start_time": "2022-09-18T06:52:08.963Z"
   },
   {
    "duration": 20,
    "start_time": "2022-09-18T06:52:13.972Z"
   },
   {
    "duration": 17,
    "start_time": "2022-09-18T06:52:27.295Z"
   },
   {
    "duration": 9,
    "start_time": "2022-09-18T06:53:45.334Z"
   },
   {
    "duration": 10,
    "start_time": "2022-09-18T06:53:53.681Z"
   },
   {
    "duration": 96,
    "start_time": "2022-09-18T06:54:09.630Z"
   },
   {
    "duration": 10,
    "start_time": "2022-09-18T06:54:17.197Z"
   },
   {
    "duration": 9,
    "start_time": "2022-09-18T06:54:57.421Z"
   },
   {
    "duration": 17,
    "start_time": "2022-09-18T06:55:30.217Z"
   },
   {
    "duration": 17,
    "start_time": "2022-09-18T06:55:34.706Z"
   },
   {
    "duration": 37,
    "start_time": "2022-09-18T06:57:54.781Z"
   },
   {
    "duration": 18,
    "start_time": "2022-09-18T06:57:58.495Z"
   },
   {
    "duration": 18,
    "start_time": "2022-09-18T06:59:46.094Z"
   },
   {
    "duration": 14,
    "start_time": "2022-09-18T07:00:18.773Z"
   },
   {
    "duration": 13,
    "start_time": "2022-09-18T07:00:23.648Z"
   },
   {
    "duration": 9,
    "start_time": "2022-09-18T07:00:48.525Z"
   },
   {
    "duration": 9,
    "start_time": "2022-09-18T07:01:37.529Z"
   },
   {
    "duration": 8,
    "start_time": "2022-09-18T07:01:37.760Z"
   },
   {
    "duration": 7,
    "start_time": "2022-09-18T07:02:01.750Z"
   },
   {
    "duration": 12,
    "start_time": "2022-09-18T07:02:13.929Z"
   },
   {
    "duration": 11,
    "start_time": "2022-09-18T07:02:58.264Z"
   },
   {
    "duration": 10,
    "start_time": "2022-09-18T07:03:05.948Z"
   },
   {
    "duration": 9,
    "start_time": "2022-09-18T07:03:50.196Z"
   },
   {
    "duration": 56,
    "start_time": "2022-09-18T07:04:16.107Z"
   },
   {
    "duration": 23,
    "start_time": "2022-09-18T07:04:19.470Z"
   },
   {
    "duration": 62,
    "start_time": "2022-09-18T07:04:53.826Z"
   },
   {
    "duration": 33,
    "start_time": "2022-09-18T07:04:58.003Z"
   },
   {
    "duration": 25,
    "start_time": "2022-09-18T07:05:39.594Z"
   },
   {
    "duration": 23,
    "start_time": "2022-09-18T07:06:48.760Z"
   },
   {
    "duration": 21,
    "start_time": "2022-09-18T07:09:12.273Z"
   },
   {
    "duration": 23,
    "start_time": "2022-09-18T07:09:15.580Z"
   },
   {
    "duration": 7,
    "start_time": "2022-09-18T07:09:33.933Z"
   },
   {
    "duration": 11,
    "start_time": "2022-09-18T07:09:41.140Z"
   },
   {
    "duration": 122,
    "start_time": "2022-09-18T07:22:34.410Z"
   },
   {
    "duration": 158,
    "start_time": "2022-09-18T07:22:39.109Z"
   },
   {
    "duration": 73,
    "start_time": "2022-09-18T07:22:42.993Z"
   },
   {
    "duration": 5,
    "start_time": "2022-09-18T07:23:13.261Z"
   },
   {
    "duration": 123,
    "start_time": "2022-09-18T07:23:21.429Z"
   },
   {
    "duration": 9,
    "start_time": "2022-09-18T07:23:55.242Z"
   },
   {
    "duration": 5,
    "start_time": "2022-09-18T07:25:12.205Z"
   },
   {
    "duration": 5,
    "start_time": "2022-09-18T07:25:52.023Z"
   },
   {
    "duration": 7,
    "start_time": "2022-09-18T07:26:01.946Z"
   },
   {
    "duration": 11,
    "start_time": "2022-09-18T07:26:07.298Z"
   },
   {
    "duration": 4,
    "start_time": "2022-09-18T07:26:25.896Z"
   },
   {
    "duration": 6,
    "start_time": "2022-09-18T07:26:30.421Z"
   },
   {
    "duration": 41,
    "start_time": "2022-09-18T07:29:55.439Z"
   },
   {
    "duration": 7,
    "start_time": "2022-09-18T07:30:08.247Z"
   },
   {
    "duration": 7,
    "start_time": "2022-09-18T07:30:19.637Z"
   },
   {
    "duration": 55,
    "start_time": "2022-09-18T07:30:37.898Z"
   },
   {
    "duration": 107,
    "start_time": "2022-09-18T07:31:30.455Z"
   },
   {
    "duration": 43,
    "start_time": "2022-09-18T07:31:34.602Z"
   },
   {
    "duration": 86,
    "start_time": "2022-09-18T07:31:38.331Z"
   },
   {
    "duration": 45,
    "start_time": "2022-09-18T07:32:13.105Z"
   },
   {
    "duration": 43,
    "start_time": "2022-09-18T07:32:50.538Z"
   },
   {
    "duration": 57,
    "start_time": "2022-09-18T07:32:59.785Z"
   },
   {
    "duration": 3,
    "start_time": "2022-09-18T07:34:10.263Z"
   },
   {
    "duration": 12,
    "start_time": "2022-09-18T07:34:35.523Z"
   },
   {
    "duration": 45,
    "start_time": "2022-09-18T07:35:20.680Z"
   },
   {
    "duration": 96,
    "start_time": "2022-09-18T07:48:17.718Z"
   },
   {
    "duration": 52,
    "start_time": "2022-09-18T07:49:15.086Z"
   },
   {
    "duration": 102,
    "start_time": "2022-09-18T07:49:33.755Z"
   },
   {
    "duration": 58,
    "start_time": "2022-09-18T07:50:39.223Z"
   },
   {
    "duration": 139,
    "start_time": "2022-09-18T07:51:00.332Z"
   },
   {
    "duration": 67,
    "start_time": "2022-09-18T07:51:14.026Z"
   },
   {
    "duration": 87,
    "start_time": "2022-09-18T07:51:29.382Z"
   },
   {
    "duration": 120,
    "start_time": "2022-09-18T07:51:47.448Z"
   },
   {
    "duration": 5,
    "start_time": "2022-09-18T07:51:59.437Z"
   },
   {
    "duration": 271,
    "start_time": "2022-09-18T07:52:42.738Z"
   },
   {
    "duration": 18,
    "start_time": "2022-09-18T07:54:43.904Z"
   },
   {
    "duration": 51,
    "start_time": "2022-09-18T07:54:59.630Z"
   },
   {
    "duration": 16,
    "start_time": "2022-09-18T07:55:06.502Z"
   },
   {
    "duration": 4,
    "start_time": "2022-09-18T07:55:19.642Z"
   },
   {
    "duration": 4,
    "start_time": "2022-09-18T07:55:41.573Z"
   },
   {
    "duration": 22,
    "start_time": "2022-09-18T07:55:52.147Z"
   },
   {
    "duration": 10,
    "start_time": "2022-09-18T07:56:42.554Z"
   },
   {
    "duration": 36,
    "start_time": "2022-09-18T07:56:52.115Z"
   },
   {
    "duration": 188,
    "start_time": "2022-09-18T07:59:06.928Z"
   },
   {
    "duration": 10,
    "start_time": "2022-09-18T07:59:09.537Z"
   },
   {
    "duration": 19,
    "start_time": "2022-09-18T07:59:14.342Z"
   },
   {
    "duration": 4,
    "start_time": "2022-09-18T07:59:35.162Z"
   },
   {
    "duration": 17,
    "start_time": "2022-09-18T07:59:45.002Z"
   },
   {
    "duration": 20,
    "start_time": "2022-09-18T09:11:24.143Z"
   },
   {
    "duration": 2,
    "start_time": "2022-09-18T09:13:22.410Z"
   },
   {
    "duration": 96,
    "start_time": "2022-09-18T09:14:30.709Z"
   },
   {
    "duration": 5,
    "start_time": "2022-09-18T09:16:03.779Z"
   },
   {
    "duration": 206,
    "start_time": "2022-09-18T09:16:24.615Z"
   },
   {
    "duration": 3,
    "start_time": "2022-09-18T09:16:32.416Z"
   },
   {
    "duration": 283,
    "start_time": "2022-09-18T09:16:32.723Z"
   },
   {
    "duration": 406,
    "start_time": "2022-09-18T09:17:20.522Z"
   },
   {
    "duration": 10,
    "start_time": "2022-09-18T09:17:28.681Z"
   },
   {
    "duration": 3,
    "start_time": "2022-09-18T09:17:55.377Z"
   },
   {
    "duration": 201,
    "start_time": "2022-09-18T09:17:56.058Z"
   },
   {
    "duration": 8,
    "start_time": "2022-09-18T09:17:56.383Z"
   },
   {
    "duration": 4,
    "start_time": "2022-09-18T09:18:00.776Z"
   },
   {
    "duration": 182,
    "start_time": "2022-09-18T09:18:01.274Z"
   },
   {
    "duration": 7,
    "start_time": "2022-09-18T09:18:01.621Z"
   },
   {
    "duration": 3,
    "start_time": "2022-09-18T09:18:05.063Z"
   },
   {
    "duration": 181,
    "start_time": "2022-09-18T09:18:05.433Z"
   },
   {
    "duration": 6,
    "start_time": "2022-09-18T09:18:05.728Z"
   },
   {
    "duration": 4,
    "start_time": "2022-09-18T09:22:12.164Z"
   },
   {
    "duration": 253,
    "start_time": "2022-09-18T09:22:12.537Z"
   },
   {
    "duration": 7,
    "start_time": "2022-09-18T09:22:12.954Z"
   },
   {
    "duration": 99,
    "start_time": "2022-09-18T09:23:16.726Z"
   },
   {
    "duration": 3,
    "start_time": "2022-09-18T09:23:17.269Z"
   },
   {
    "duration": 3,
    "start_time": "2022-09-18T09:23:17.769Z"
   },
   {
    "duration": 210,
    "start_time": "2022-09-18T09:23:18.129Z"
   },
   {
    "duration": 11,
    "start_time": "2022-09-18T09:23:18.622Z"
   },
   {
    "duration": 556,
    "start_time": "2022-09-18T09:25:57.650Z"
   },
   {
    "duration": 21,
    "start_time": "2022-09-18T09:25:58.208Z"
   },
   {
    "duration": 214,
    "start_time": "2022-09-18T09:26:19.961Z"
   },
   {
    "duration": 18,
    "start_time": "2022-09-18T09:43:38.506Z"
   },
   {
    "duration": 537,
    "start_time": "2022-09-18T09:43:52.302Z"
   },
   {
    "duration": 6,
    "start_time": "2022-09-18T09:43:52.840Z"
   },
   {
    "duration": 5,
    "start_time": "2022-09-18T09:43:59.812Z"
   },
   {
    "duration": 107,
    "start_time": "2022-09-18T09:44:13.431Z"
   },
   {
    "duration": 12,
    "start_time": "2022-09-18T09:45:53.786Z"
   },
   {
    "duration": 12,
    "start_time": "2022-09-18T09:46:03.754Z"
   },
   {
    "duration": 21,
    "start_time": "2022-09-18T09:46:28.854Z"
   },
   {
    "duration": 9,
    "start_time": "2022-09-18T09:47:20.254Z"
   },
   {
    "duration": 514,
    "start_time": "2022-09-18T09:47:26.158Z"
   },
   {
    "duration": 9,
    "start_time": "2022-09-18T09:47:26.674Z"
   },
   {
    "duration": 47,
    "start_time": "2022-09-18T09:53:52.282Z"
   },
   {
    "duration": 60,
    "start_time": "2022-09-18T09:54:02.086Z"
   },
   {
    "duration": 67,
    "start_time": "2022-09-18T09:54:13.564Z"
   },
   {
    "duration": 5,
    "start_time": "2022-09-18T09:55:15.954Z"
   },
   {
    "duration": 9,
    "start_time": "2022-09-18T09:55:26.565Z"
   },
   {
    "duration": 48,
    "start_time": "2022-09-18T09:56:35.007Z"
   },
   {
    "duration": 3,
    "start_time": "2022-09-18T09:56:35.557Z"
   },
   {
    "duration": 3,
    "start_time": "2022-09-18T10:13:43.264Z"
   },
   {
    "duration": 4,
    "start_time": "2022-09-18T10:13:52.848Z"
   },
   {
    "duration": 31,
    "start_time": "2022-09-18T10:14:11.160Z"
   },
   {
    "duration": 31,
    "start_time": "2022-09-18T10:14:12.360Z"
   },
   {
    "duration": 3,
    "start_time": "2022-09-18T10:14:12.591Z"
   },
   {
    "duration": 3,
    "start_time": "2022-09-18T10:14:12.868Z"
   },
   {
    "duration": 185,
    "start_time": "2022-09-18T10:14:13.172Z"
   },
   {
    "duration": 4,
    "start_time": "2022-09-18T10:14:15.110Z"
   },
   {
    "duration": 3,
    "start_time": "2022-09-18T10:14:15.721Z"
   },
   {
    "duration": 4,
    "start_time": "2022-09-18T10:14:16.911Z"
   },
   {
    "duration": 4,
    "start_time": "2022-09-18T10:14:30.383Z"
   },
   {
    "duration": 4,
    "start_time": "2022-09-18T10:15:09.060Z"
   },
   {
    "duration": 4,
    "start_time": "2022-09-18T10:15:39.761Z"
   },
   {
    "duration": 3,
    "start_time": "2022-09-18T10:21:57.144Z"
   },
   {
    "duration": 288,
    "start_time": "2022-09-18T10:21:57.505Z"
   },
   {
    "duration": 8,
    "start_time": "2022-09-18T10:22:02.062Z"
   },
   {
    "duration": 54,
    "start_time": "2022-09-18T10:22:57.969Z"
   },
   {
    "duration": 3,
    "start_time": "2022-09-18T10:24:03.718Z"
   },
   {
    "duration": 184,
    "start_time": "2022-09-18T10:24:05.830Z"
   },
   {
    "duration": 5,
    "start_time": "2022-09-18T10:24:06.270Z"
   },
   {
    "duration": 4,
    "start_time": "2022-09-18T10:25:31.779Z"
   },
   {
    "duration": 11,
    "start_time": "2022-09-18T10:25:59.676Z"
   },
   {
    "duration": 106,
    "start_time": "2022-09-18T10:26:12.322Z"
   },
   {
    "duration": 16,
    "start_time": "2022-09-18T10:28:49.715Z"
   },
   {
    "duration": 4,
    "start_time": "2022-09-18T10:29:05.960Z"
   },
   {
    "duration": 266,
    "start_time": "2022-09-18T10:32:26.047Z"
   },
   {
    "duration": 7,
    "start_time": "2022-09-18T10:32:32.650Z"
   },
   {
    "duration": 93,
    "start_time": "2022-09-18T10:33:01.959Z"
   },
   {
    "duration": 32,
    "start_time": "2022-09-18T10:37:07.612Z"
   },
   {
    "duration": 6,
    "start_time": "2022-09-18T10:37:10.714Z"
   },
   {
    "duration": 30,
    "start_time": "2022-09-18T10:37:17.237Z"
   },
   {
    "duration": 5,
    "start_time": "2022-09-18T10:37:38.197Z"
   },
   {
    "duration": 6,
    "start_time": "2022-09-18T10:42:13.097Z"
   },
   {
    "duration": 45,
    "start_time": "2022-09-18T10:48:36.407Z"
   },
   {
    "duration": 7,
    "start_time": "2022-09-18T10:48:37.974Z"
   },
   {
    "duration": 203,
    "start_time": "2022-09-18T10:49:21.964Z"
   },
   {
    "duration": 7,
    "start_time": "2022-09-18T10:49:27.756Z"
   },
   {
    "duration": 3,
    "start_time": "2022-09-18T12:24:45.596Z"
   },
   {
    "duration": 394,
    "start_time": "2022-09-18T12:24:50.255Z"
   },
   {
    "duration": 6,
    "start_time": "2022-09-18T12:24:50.651Z"
   },
   {
    "duration": 13,
    "start_time": "2022-09-18T12:25:31.399Z"
   },
   {
    "duration": 7,
    "start_time": "2022-09-18T12:26:01.099Z"
   },
   {
    "duration": 4,
    "start_time": "2022-09-18T12:30:13.908Z"
   },
   {
    "duration": 5,
    "start_time": "2022-09-18T12:30:33.251Z"
   },
   {
    "duration": 4,
    "start_time": "2022-09-18T12:30:41.295Z"
   },
   {
    "duration": 20,
    "start_time": "2022-09-18T12:30:55.351Z"
   },
   {
    "duration": 5,
    "start_time": "2022-09-18T13:14:02.498Z"
   },
   {
    "duration": 4,
    "start_time": "2022-09-18T13:14:09.717Z"
   },
   {
    "duration": 176,
    "start_time": "2022-09-18T13:15:03.451Z"
   },
   {
    "duration": 9,
    "start_time": "2022-09-18T13:15:31.400Z"
   },
   {
    "duration": 4,
    "start_time": "2022-09-18T13:18:50.677Z"
   },
   {
    "duration": 4,
    "start_time": "2022-09-18T13:18:54.104Z"
   },
   {
    "duration": 8,
    "start_time": "2022-09-18T13:18:57.171Z"
   },
   {
    "duration": 7,
    "start_time": "2022-09-18T13:19:08.352Z"
   },
   {
    "duration": 9,
    "start_time": "2022-09-18T13:19:08.667Z"
   },
   {
    "duration": 3,
    "start_time": "2022-09-18T13:19:11.662Z"
   },
   {
    "duration": 54,
    "start_time": "2022-09-18T13:19:28.272Z"
   },
   {
    "duration": 5,
    "start_time": "2022-09-18T13:19:36.853Z"
   },
   {
    "duration": 11,
    "start_time": "2022-09-18T13:20:01.204Z"
   },
   {
    "duration": 4,
    "start_time": "2022-09-18T13:20:50.996Z"
   },
   {
    "duration": 11,
    "start_time": "2022-09-18T13:21:02.950Z"
   },
   {
    "duration": 4,
    "start_time": "2022-09-18T13:21:12.286Z"
   },
   {
    "duration": 5,
    "start_time": "2022-09-18T13:21:15.318Z"
   },
   {
    "duration": 4,
    "start_time": "2022-09-18T13:21:17.741Z"
   },
   {
    "duration": 11,
    "start_time": "2022-09-18T13:21:23.586Z"
   },
   {
    "duration": 11,
    "start_time": "2022-09-18T13:21:37.854Z"
   },
   {
    "duration": 12,
    "start_time": "2022-09-18T13:21:41.547Z"
   },
   {
    "duration": 11,
    "start_time": "2022-09-18T13:21:44.096Z"
   },
   {
    "duration": 6,
    "start_time": "2022-09-18T13:21:48.521Z"
   },
   {
    "duration": 4,
    "start_time": "2022-09-18T13:21:50.964Z"
   },
   {
    "duration": 4,
    "start_time": "2022-09-18T13:21:56.210Z"
   },
   {
    "duration": 13,
    "start_time": "2022-09-18T13:22:03.460Z"
   },
   {
    "duration": 11,
    "start_time": "2022-09-18T13:22:23.551Z"
   },
   {
    "duration": 4,
    "start_time": "2022-09-18T13:23:12.261Z"
   },
   {
    "duration": 12,
    "start_time": "2022-09-18T13:23:16.363Z"
   },
   {
    "duration": 13,
    "start_time": "2022-09-18T13:23:36.842Z"
   },
   {
    "duration": 11,
    "start_time": "2022-09-18T13:23:39.200Z"
   },
   {
    "duration": 41,
    "start_time": "2022-09-18T13:24:25.619Z"
   },
   {
    "duration": 72,
    "start_time": "2022-09-18T13:25:00.072Z"
   },
   {
    "duration": 12,
    "start_time": "2022-09-18T13:25:38.713Z"
   },
   {
    "duration": 12,
    "start_time": "2022-09-18T13:25:48.658Z"
   },
   {
    "duration": 11,
    "start_time": "2022-09-18T13:25:51.551Z"
   },
   {
    "duration": 11,
    "start_time": "2022-09-18T13:26:35.699Z"
   },
   {
    "duration": 6,
    "start_time": "2022-09-18T13:27:12.683Z"
   },
   {
    "duration": 6,
    "start_time": "2022-09-18T13:27:16.998Z"
   },
   {
    "duration": 12,
    "start_time": "2022-09-18T13:27:34.691Z"
   },
   {
    "duration": 12,
    "start_time": "2022-09-18T13:27:45.919Z"
   },
   {
    "duration": 5,
    "start_time": "2022-09-18T13:28:25.014Z"
   },
   {
    "duration": 12,
    "start_time": "2022-09-18T13:28:34.398Z"
   },
   {
    "duration": 10,
    "start_time": "2022-09-18T13:28:44.348Z"
   },
   {
    "duration": 11,
    "start_time": "2022-09-18T13:28:49.352Z"
   },
   {
    "duration": 11,
    "start_time": "2022-09-18T13:29:35.051Z"
   },
   {
    "duration": 15,
    "start_time": "2022-09-18T13:29:39.652Z"
   },
   {
    "duration": 20,
    "start_time": "2022-09-18T13:29:47.619Z"
   },
   {
    "duration": 11,
    "start_time": "2022-09-18T13:31:33.185Z"
   },
   {
    "duration": 12,
    "start_time": "2022-09-18T13:31:38.167Z"
   },
   {
    "duration": 15,
    "start_time": "2022-09-18T13:48:39.579Z"
   },
   {
    "duration": 4,
    "start_time": "2022-09-18T13:48:51.987Z"
   },
   {
    "duration": 4,
    "start_time": "2022-09-18T13:50:18.943Z"
   },
   {
    "duration": 3,
    "start_time": "2022-09-18T13:50:24.271Z"
   },
   {
    "duration": 29,
    "start_time": "2022-09-18T13:50:59.743Z"
   },
   {
    "duration": 31,
    "start_time": "2022-09-18T13:51:08.101Z"
   },
   {
    "duration": 30,
    "start_time": "2022-09-18T13:51:10.147Z"
   },
   {
    "duration": 47,
    "start_time": "2022-09-18T13:51:19.463Z"
   },
   {
    "duration": 4,
    "start_time": "2022-09-18T13:51:29.347Z"
   },
   {
    "duration": 11,
    "start_time": "2022-09-18T13:51:33.267Z"
   },
   {
    "duration": 4,
    "start_time": "2022-09-18T13:51:55.561Z"
   },
   {
    "duration": 10,
    "start_time": "2022-09-18T13:52:04.080Z"
   },
   {
    "duration": 5,
    "start_time": "2022-09-18T13:52:18.364Z"
   },
   {
    "duration": 3,
    "start_time": "2022-09-18T13:52:29.499Z"
   },
   {
    "duration": 305,
    "start_time": "2022-09-18T14:14:40.054Z"
   },
   {
    "duration": 253,
    "start_time": "2022-09-18T14:15:14.745Z"
   },
   {
    "duration": 223,
    "start_time": "2022-09-18T14:15:22.800Z"
   },
   {
    "duration": 4,
    "start_time": "2022-09-18T14:15:59.164Z"
   },
   {
    "duration": 4,
    "start_time": "2022-09-18T14:16:02.200Z"
   },
   {
    "duration": 244,
    "start_time": "2022-09-18T14:16:06.744Z"
   },
   {
    "duration": 234,
    "start_time": "2022-09-18T14:16:19.906Z"
   },
   {
    "duration": 268,
    "start_time": "2022-09-18T14:16:26.700Z"
   },
   {
    "duration": 346,
    "start_time": "2022-09-18T14:16:32.950Z"
   },
   {
    "duration": 237,
    "start_time": "2022-09-18T14:18:25.842Z"
   },
   {
    "duration": 222,
    "start_time": "2022-09-18T14:18:31.172Z"
   },
   {
    "duration": 228,
    "start_time": "2022-09-18T14:18:38.579Z"
   },
   {
    "duration": 252,
    "start_time": "2022-09-18T14:18:50.839Z"
   },
   {
    "duration": 236,
    "start_time": "2022-09-18T14:19:03.055Z"
   },
   {
    "duration": 222,
    "start_time": "2022-09-18T14:19:50.931Z"
   },
   {
    "duration": 229,
    "start_time": "2022-09-18T14:21:15.024Z"
   },
   {
    "duration": 19594,
    "start_time": "2022-09-18T14:21:43.454Z"
   },
   {
    "duration": 21737,
    "start_time": "2022-09-18T14:23:28.108Z"
   },
   {
    "duration": 33,
    "start_time": "2022-09-18T14:24:36.143Z"
   },
   {
    "duration": 35,
    "start_time": "2022-09-18T14:24:37.950Z"
   },
   {
    "duration": 4,
    "start_time": "2022-09-18T14:24:58.313Z"
   },
   {
    "duration": 4,
    "start_time": "2022-09-18T14:25:06.601Z"
   },
   {
    "duration": 4,
    "start_time": "2022-09-18T14:25:35.673Z"
   },
   {
    "duration": 4,
    "start_time": "2022-09-18T14:25:36.050Z"
   },
   {
    "duration": 5,
    "start_time": "2022-09-18T14:25:38.271Z"
   },
   {
    "duration": 3,
    "start_time": "2022-09-18T14:25:44.044Z"
   },
   {
    "duration": 5,
    "start_time": "2022-09-18T14:26:11.599Z"
   },
   {
    "duration": 4,
    "start_time": "2022-09-18T14:26:15.850Z"
   },
   {
    "duration": 4,
    "start_time": "2022-09-18T14:26:25.545Z"
   },
   {
    "duration": 4,
    "start_time": "2022-09-18T14:26:32.947Z"
   },
   {
    "duration": 4,
    "start_time": "2022-09-18T14:26:36.544Z"
   },
   {
    "duration": 144,
    "start_time": "2022-09-18T14:27:22.861Z"
   },
   {
    "duration": 8,
    "start_time": "2022-09-18T14:34:11.756Z"
   },
   {
    "duration": 5,
    "start_time": "2022-09-18T14:34:41.051Z"
   },
   {
    "duration": 8,
    "start_time": "2022-09-18T14:34:50.952Z"
   },
   {
    "duration": 408,
    "start_time": "2022-09-18T14:36:13.472Z"
   },
   {
    "duration": 44,
    "start_time": "2022-09-18T14:36:31.163Z"
   },
   {
    "duration": 445,
    "start_time": "2022-09-18T14:36:46.355Z"
   },
   {
    "duration": 37,
    "start_time": "2022-09-18T14:36:53.254Z"
   },
   {
    "duration": 221,
    "start_time": "2022-09-18T14:38:20.092Z"
   },
   {
    "duration": 110,
    "start_time": "2022-09-18T14:38:29.202Z"
   },
   {
    "duration": 42,
    "start_time": "2022-09-18T14:39:20.600Z"
   },
   {
    "duration": 111,
    "start_time": "2022-09-18T14:39:36.715Z"
   },
   {
    "duration": 3,
    "start_time": "2022-09-18T14:40:06.095Z"
   },
   {
    "duration": 4,
    "start_time": "2022-09-18T14:40:40.175Z"
   },
   {
    "duration": 3,
    "start_time": "2022-09-18T14:40:45.560Z"
   },
   {
    "duration": 37,
    "start_time": "2022-09-18T14:41:22.212Z"
   },
   {
    "duration": 1358,
    "start_time": "2022-09-18T14:41:38.905Z"
   },
   {
    "duration": 62,
    "start_time": "2022-09-18T14:41:40.264Z"
   },
   {
    "duration": 15,
    "start_time": "2022-09-18T14:41:40.327Z"
   },
   {
    "duration": 10,
    "start_time": "2022-09-18T14:41:40.345Z"
   },
   {
    "duration": 17,
    "start_time": "2022-09-18T14:41:40.357Z"
   },
   {
    "duration": 16,
    "start_time": "2022-09-18T14:41:40.375Z"
   },
   {
    "duration": 56,
    "start_time": "2022-09-18T14:41:40.392Z"
   },
   {
    "duration": 6,
    "start_time": "2022-09-18T14:41:40.449Z"
   },
   {
    "duration": 17,
    "start_time": "2022-09-18T14:41:40.456Z"
   },
   {
    "duration": 6,
    "start_time": "2022-09-18T14:41:40.475Z"
   },
   {
    "duration": 21,
    "start_time": "2022-09-18T14:41:40.482Z"
   },
   {
    "duration": 140,
    "start_time": "2022-09-18T14:41:40.505Z"
   },
   {
    "duration": 9,
    "start_time": "2022-09-18T14:41:40.647Z"
   },
   {
    "duration": 5,
    "start_time": "2022-09-18T14:41:40.657Z"
   },
   {
    "duration": 13,
    "start_time": "2022-09-18T14:41:40.663Z"
   },
   {
    "duration": 33,
    "start_time": "2022-09-18T14:41:40.677Z"
   },
   {
    "duration": 14,
    "start_time": "2022-09-18T14:41:40.712Z"
   },
   {
    "duration": 27,
    "start_time": "2022-09-18T14:41:40.728Z"
   },
   {
    "duration": 4,
    "start_time": "2022-09-18T14:41:40.757Z"
   },
   {
    "duration": 149,
    "start_time": "2022-09-18T14:41:40.763Z"
   },
   {
    "duration": 96,
    "start_time": "2022-09-18T14:41:40.914Z"
   },
   {
    "duration": 1206,
    "start_time": "2022-09-18T14:41:41.011Z"
   },
   {
    "duration": 0,
    "start_time": "2022-09-18T14:41:42.219Z"
   },
   {
    "duration": 0,
    "start_time": "2022-09-18T14:41:42.221Z"
   },
   {
    "duration": 0,
    "start_time": "2022-09-18T14:41:42.222Z"
   },
   {
    "duration": 0,
    "start_time": "2022-09-18T14:41:42.223Z"
   },
   {
    "duration": 0,
    "start_time": "2022-09-18T14:41:42.224Z"
   },
   {
    "duration": 0,
    "start_time": "2022-09-18T14:41:42.226Z"
   },
   {
    "duration": 41,
    "start_time": "2022-09-18T14:42:20.484Z"
   },
   {
    "duration": 9,
    "start_time": "2022-09-18T14:43:40.991Z"
   },
   {
    "duration": 19293,
    "start_time": "2022-09-18T14:44:01.655Z"
   },
   {
    "duration": 4,
    "start_time": "2022-09-18T14:44:45.848Z"
   },
   {
    "duration": 4,
    "start_time": "2022-09-18T14:44:51.359Z"
   },
   {
    "duration": 4,
    "start_time": "2022-09-18T14:45:03.806Z"
   },
   {
    "duration": 3,
    "start_time": "2022-09-18T14:45:11.800Z"
   },
   {
    "duration": 4,
    "start_time": "2022-09-18T14:45:20.790Z"
   },
   {
    "duration": 4,
    "start_time": "2022-09-18T14:45:22.983Z"
   },
   {
    "duration": 4,
    "start_time": "2022-09-18T14:45:28.047Z"
   },
   {
    "duration": 4,
    "start_time": "2022-09-18T14:45:30.647Z"
   },
   {
    "duration": 5,
    "start_time": "2022-09-18T14:45:36.384Z"
   },
   {
    "duration": 20084,
    "start_time": "2022-09-18T15:25:33.149Z"
   },
   {
    "duration": 3,
    "start_time": "2022-09-18T15:37:25.939Z"
   },
   {
    "duration": 5,
    "start_time": "2022-09-18T15:37:32.056Z"
   },
   {
    "duration": 61,
    "start_time": "2022-09-18T15:38:56.587Z"
   },
   {
    "duration": 3,
    "start_time": "2022-09-18T15:40:34.237Z"
   },
   {
    "duration": 21262,
    "start_time": "2022-09-18T15:41:33.489Z"
   },
   {
    "duration": 3,
    "start_time": "2022-09-18T15:42:28.768Z"
   },
   {
    "duration": 4,
    "start_time": "2022-09-18T15:43:01.853Z"
   },
   {
    "duration": 21189,
    "start_time": "2022-09-18T15:43:04.253Z"
   },
   {
    "duration": 8,
    "start_time": "2022-09-18T15:43:25.443Z"
   },
   {
    "duration": 3,
    "start_time": "2022-09-18T15:45:54.871Z"
   },
   {
    "duration": 22002,
    "start_time": "2022-09-18T15:46:08.568Z"
   },
   {
    "duration": 20724,
    "start_time": "2022-09-18T15:47:15.778Z"
   },
   {
    "duration": 10180,
    "start_time": "2022-09-18T15:47:36.503Z"
   },
   {
    "duration": 8,
    "start_time": "2022-09-18T15:50:01.367Z"
   },
   {
    "duration": 10,
    "start_time": "2022-09-18T15:52:00.463Z"
   },
   {
    "duration": 72,
    "start_time": "2022-09-18T15:52:13.954Z"
   },
   {
    "duration": 86,
    "start_time": "2022-09-18T15:52:20.509Z"
   },
   {
    "duration": 4,
    "start_time": "2022-09-18T15:57:13.273Z"
   },
   {
    "duration": 4,
    "start_time": "2022-09-18T15:57:17.769Z"
   },
   {
    "duration": 4,
    "start_time": "2022-09-18T15:57:25.932Z"
   },
   {
    "duration": 4,
    "start_time": "2022-09-18T15:58:28.907Z"
   },
   {
    "duration": 1383,
    "start_time": "2022-09-18T16:07:13.749Z"
   },
   {
    "duration": 2025,
    "start_time": "2022-09-18T16:07:36.813Z"
   },
   {
    "duration": 111,
    "start_time": "2022-09-18T16:07:56.880Z"
   },
   {
    "duration": 60,
    "start_time": "2022-09-18T16:08:12.586Z"
   },
   {
    "duration": 651,
    "start_time": "2022-09-18T16:08:24.110Z"
   },
   {
    "duration": 8,
    "start_time": "2022-09-18T16:09:22.475Z"
   },
   {
    "duration": 5,
    "start_time": "2022-09-18T16:09:25.807Z"
   },
   {
    "duration": 85,
    "start_time": "2022-09-18T16:11:31.949Z"
   },
   {
    "duration": 665,
    "start_time": "2022-09-18T16:12:08.081Z"
   },
   {
    "duration": 682,
    "start_time": "2022-09-18T16:12:30.276Z"
   },
   {
    "duration": 712,
    "start_time": "2022-09-18T16:12:41.992Z"
   },
   {
    "duration": 680,
    "start_time": "2022-09-18T16:12:51.790Z"
   },
   {
    "duration": 18,
    "start_time": "2022-09-18T16:13:14.426Z"
   },
   {
    "duration": 8,
    "start_time": "2022-09-18T16:13:17.048Z"
   },
   {
    "duration": 3,
    "start_time": "2022-09-18T16:13:36.196Z"
   },
   {
    "duration": 3,
    "start_time": "2022-09-18T16:13:40.695Z"
   },
   {
    "duration": 662,
    "start_time": "2022-09-18T16:13:46.876Z"
   },
   {
    "duration": 657,
    "start_time": "2022-09-18T16:14:00.908Z"
   },
   {
    "duration": 50,
    "start_time": "2022-09-18T16:15:26.843Z"
   },
   {
    "duration": 8,
    "start_time": "2022-09-18T16:15:47.050Z"
   },
   {
    "duration": 21,
    "start_time": "2022-09-18T16:16:01.588Z"
   },
   {
    "duration": 4,
    "start_time": "2022-09-18T16:16:11.034Z"
   },
   {
    "duration": 629,
    "start_time": "2022-09-18T16:18:39.734Z"
   },
   {
    "duration": 660,
    "start_time": "2022-09-18T16:19:08.810Z"
   },
   {
    "duration": 646,
    "start_time": "2022-09-18T16:19:18.180Z"
   },
   {
    "duration": 659,
    "start_time": "2022-09-18T16:19:30.608Z"
   },
   {
    "duration": 652,
    "start_time": "2022-09-18T16:19:44.049Z"
   },
   {
    "duration": 630,
    "start_time": "2022-09-18T16:21:49.650Z"
   },
   {
    "duration": 5,
    "start_time": "2022-09-18T16:27:11.151Z"
   },
   {
    "duration": 144330,
    "start_time": "2022-09-18T16:27:13.611Z"
   },
   {
    "duration": 0,
    "start_time": "2022-09-18T16:29:37.943Z"
   },
   {
    "duration": 0,
    "start_time": "2022-09-18T16:29:37.944Z"
   },
   {
    "duration": 49,
    "start_time": "2022-09-18T16:29:51.046Z"
   },
   {
    "duration": 48,
    "start_time": "2022-09-18T16:29:56.649Z"
   },
   {
    "duration": 43,
    "start_time": "2022-09-18T16:29:59.941Z"
   },
   {
    "duration": 5,
    "start_time": "2022-09-18T16:30:10.837Z"
   },
   {
    "duration": 4,
    "start_time": "2022-09-18T16:30:14.008Z"
   },
   {
    "duration": 12,
    "start_time": "2022-09-18T16:30:19.163Z"
   },
   {
    "duration": 7,
    "start_time": "2022-09-18T16:31:08.256Z"
   },
   {
    "duration": 4,
    "start_time": "2022-09-18T16:31:20.380Z"
   },
   {
    "duration": 296536,
    "start_time": "2022-09-18T16:31:22.614Z"
   },
   {
    "duration": 138886,
    "start_time": "2022-09-18T16:36:19.152Z"
   },
   {
    "duration": 173886,
    "start_time": "2022-09-18T16:38:38.040Z"
   },
   {
    "duration": 1742,
    "start_time": "2022-09-19T12:55:05.438Z"
   },
   {
    "duration": 119,
    "start_time": "2022-09-19T12:55:07.182Z"
   },
   {
    "duration": 0,
    "start_time": "2022-09-19T12:55:07.303Z"
   },
   {
    "duration": 0,
    "start_time": "2022-09-19T12:55:07.304Z"
   },
   {
    "duration": 0,
    "start_time": "2022-09-19T12:55:07.305Z"
   },
   {
    "duration": 0,
    "start_time": "2022-09-19T12:55:07.306Z"
   },
   {
    "duration": 0,
    "start_time": "2022-09-19T12:55:07.308Z"
   },
   {
    "duration": 0,
    "start_time": "2022-09-19T12:55:07.309Z"
   },
   {
    "duration": 0,
    "start_time": "2022-09-19T12:55:07.310Z"
   },
   {
    "duration": 0,
    "start_time": "2022-09-19T12:55:07.311Z"
   },
   {
    "duration": 0,
    "start_time": "2022-09-19T12:55:07.312Z"
   },
   {
    "duration": 0,
    "start_time": "2022-09-19T12:55:07.313Z"
   },
   {
    "duration": 0,
    "start_time": "2022-09-19T12:55:07.314Z"
   },
   {
    "duration": 0,
    "start_time": "2022-09-19T12:55:07.315Z"
   },
   {
    "duration": 0,
    "start_time": "2022-09-19T12:55:07.316Z"
   },
   {
    "duration": 0,
    "start_time": "2022-09-19T12:55:07.318Z"
   },
   {
    "duration": 0,
    "start_time": "2022-09-19T12:55:07.319Z"
   },
   {
    "duration": 0,
    "start_time": "2022-09-19T12:55:07.320Z"
   },
   {
    "duration": 0,
    "start_time": "2022-09-19T12:55:07.322Z"
   },
   {
    "duration": 0,
    "start_time": "2022-09-19T12:55:07.323Z"
   },
   {
    "duration": 0,
    "start_time": "2022-09-19T12:55:07.324Z"
   },
   {
    "duration": 0,
    "start_time": "2022-09-19T12:55:07.325Z"
   },
   {
    "duration": 0,
    "start_time": "2022-09-19T12:55:07.326Z"
   },
   {
    "duration": 0,
    "start_time": "2022-09-19T12:55:07.328Z"
   },
   {
    "duration": 0,
    "start_time": "2022-09-19T12:55:07.329Z"
   },
   {
    "duration": 0,
    "start_time": "2022-09-19T12:55:07.331Z"
   },
   {
    "duration": 97,
    "start_time": "2022-09-19T12:58:33.039Z"
   },
   {
    "duration": 66,
    "start_time": "2022-09-19T12:58:55.582Z"
   },
   {
    "duration": 18,
    "start_time": "2022-09-19T12:59:16.102Z"
   },
   {
    "duration": 11,
    "start_time": "2022-09-19T12:59:23.504Z"
   },
   {
    "duration": 15,
    "start_time": "2022-09-19T12:59:24.606Z"
   },
   {
    "duration": 18,
    "start_time": "2022-09-19T12:59:25.707Z"
   },
   {
    "duration": 45,
    "start_time": "2022-09-19T12:59:27.398Z"
   },
   {
    "duration": 8,
    "start_time": "2022-09-19T12:59:31.131Z"
   },
   {
    "duration": 11,
    "start_time": "2022-09-19T12:59:32.632Z"
   },
   {
    "duration": 3,
    "start_time": "2022-09-19T12:59:33.647Z"
   },
   {
    "duration": 8,
    "start_time": "2022-09-19T12:59:34.001Z"
   },
   {
    "duration": 245,
    "start_time": "2022-09-19T12:59:35.712Z"
   },
   {
    "duration": 10,
    "start_time": "2022-09-19T12:59:36.971Z"
   },
   {
    "duration": 5,
    "start_time": "2022-09-19T12:59:38.200Z"
   },
   {
    "duration": 13,
    "start_time": "2022-09-19T12:59:40.159Z"
   },
   {
    "duration": 22,
    "start_time": "2022-09-19T12:59:41.644Z"
   },
   {
    "duration": 21,
    "start_time": "2022-09-19T12:59:54.741Z"
   },
   {
    "duration": 11,
    "start_time": "2022-09-19T12:59:58.001Z"
   },
   {
    "duration": 27,
    "start_time": "2022-09-19T13:00:04.001Z"
   },
   {
    "duration": 6,
    "start_time": "2022-09-19T13:00:15.237Z"
   },
   {
    "duration": 46,
    "start_time": "2022-09-19T13:00:17.701Z"
   },
   {
    "duration": 36,
    "start_time": "2022-09-19T13:00:22.420Z"
   },
   {
    "duration": 4,
    "start_time": "2022-09-19T13:00:56.202Z"
   },
   {
    "duration": 5757,
    "start_time": "2022-09-19T13:01:13.586Z"
   },
   {
    "duration": 37105,
    "start_time": "2022-09-19T13:02:20.133Z"
   },
   {
    "duration": 0,
    "start_time": "2022-09-19T13:02:57.240Z"
   },
   {
    "duration": 0,
    "start_time": "2022-09-19T13:02:57.241Z"
   },
   {
    "duration": 341788,
    "start_time": "2022-09-19T13:03:02.016Z"
   },
   {
    "duration": 171258,
    "start_time": "2022-09-19T13:08:43.807Z"
   },
   {
    "duration": 193708,
    "start_time": "2022-09-19T13:11:35.067Z"
   },
   {
    "duration": 26,
    "start_time": "2022-09-19T13:14:48.777Z"
   },
   {
    "duration": 12,
    "start_time": "2022-09-19T13:28:44.164Z"
   },
   {
    "duration": 26,
    "start_time": "2022-09-19T13:30:21.681Z"
   },
   {
    "duration": 23,
    "start_time": "2022-09-19T13:31:27.914Z"
   },
   {
    "duration": 10,
    "start_time": "2022-09-19T13:32:57.121Z"
   },
   {
    "duration": 12,
    "start_time": "2022-09-19T13:33:12.571Z"
   },
   {
    "duration": 11,
    "start_time": "2022-09-19T13:33:17.588Z"
   },
   {
    "duration": 21,
    "start_time": "2022-09-19T13:33:57.854Z"
   },
   {
    "duration": 12,
    "start_time": "2022-09-19T13:34:52.502Z"
   },
   {
    "duration": 4,
    "start_time": "2022-09-19T13:35:14.250Z"
   },
   {
    "duration": 9,
    "start_time": "2022-09-19T13:36:14.646Z"
   },
   {
    "duration": 4,
    "start_time": "2022-09-19T13:36:17.766Z"
   },
   {
    "duration": 5,
    "start_time": "2022-09-19T13:36:41.330Z"
   },
   {
    "duration": 5,
    "start_time": "2022-09-19T13:36:46.338Z"
   },
   {
    "duration": 4,
    "start_time": "2022-09-19T13:36:56.080Z"
   },
   {
    "duration": 3,
    "start_time": "2022-09-19T13:38:21.087Z"
   },
   {
    "duration": 10,
    "start_time": "2022-09-19T13:40:20.183Z"
   },
   {
    "duration": 4,
    "start_time": "2022-09-19T13:40:37.694Z"
   },
   {
    "duration": 23,
    "start_time": "2022-09-19T13:40:49.822Z"
   },
   {
    "duration": 3,
    "start_time": "2022-09-19T13:41:54.584Z"
   },
   {
    "duration": 12,
    "start_time": "2022-09-19T13:42:16.491Z"
   },
   {
    "duration": 5,
    "start_time": "2022-09-19T13:42:37.807Z"
   },
   {
    "duration": 21,
    "start_time": "2022-09-19T13:42:43.118Z"
   },
   {
    "duration": 3,
    "start_time": "2022-09-19T13:43:10.501Z"
   },
   {
    "duration": 2,
    "start_time": "2022-09-19T13:43:40.407Z"
   },
   {
    "duration": 22,
    "start_time": "2022-09-19T13:43:46.167Z"
   },
   {
    "duration": 4,
    "start_time": "2022-09-19T13:44:30.401Z"
   },
   {
    "duration": 23,
    "start_time": "2022-09-19T13:44:52.288Z"
   },
   {
    "duration": 58,
    "start_time": "2022-09-19T13:45:06.557Z"
   },
   {
    "duration": 42,
    "start_time": "2022-09-19T13:45:10.404Z"
   },
   {
    "duration": 10,
    "start_time": "2022-09-19T13:45:54.051Z"
   },
   {
    "duration": 2,
    "start_time": "2022-09-19T13:46:07.245Z"
   },
   {
    "duration": 22,
    "start_time": "2022-09-19T13:46:20.336Z"
   },
   {
    "duration": 20,
    "start_time": "2022-09-19T13:46:57.572Z"
   },
   {
    "duration": 21,
    "start_time": "2022-09-19T13:46:59.632Z"
   },
   {
    "duration": 21,
    "start_time": "2022-09-19T13:46:59.908Z"
   },
   {
    "duration": 23,
    "start_time": "2022-09-19T13:47:00.133Z"
   },
   {
    "duration": 21,
    "start_time": "2022-09-19T13:47:00.319Z"
   },
   {
    "duration": 21,
    "start_time": "2022-09-19T13:47:00.496Z"
   },
   {
    "duration": 21,
    "start_time": "2022-09-19T13:47:00.686Z"
   },
   {
    "duration": 23,
    "start_time": "2022-09-19T13:47:01.500Z"
   },
   {
    "duration": 23,
    "start_time": "2022-09-19T13:47:01.737Z"
   },
   {
    "duration": 26,
    "start_time": "2022-09-19T13:47:01.980Z"
   },
   {
    "duration": 22,
    "start_time": "2022-09-19T13:47:02.195Z"
   },
   {
    "duration": 25,
    "start_time": "2022-09-19T13:47:02.388Z"
   },
   {
    "duration": 23,
    "start_time": "2022-09-19T13:47:02.584Z"
   },
   {
    "duration": 25,
    "start_time": "2022-09-19T13:47:05.352Z"
   },
   {
    "duration": 5,
    "start_time": "2022-09-19T13:47:14.846Z"
   },
   {
    "duration": 4,
    "start_time": "2022-09-19T13:47:22.763Z"
   },
   {
    "duration": 4,
    "start_time": "2022-09-19T13:47:27.495Z"
   },
   {
    "duration": 4,
    "start_time": "2022-09-19T13:47:33.586Z"
   },
   {
    "duration": 5,
    "start_time": "2022-09-19T13:47:37.036Z"
   },
   {
    "duration": 24,
    "start_time": "2022-09-19T13:48:35.110Z"
   },
   {
    "duration": 4,
    "start_time": "2022-09-19T13:49:38.343Z"
   },
   {
    "duration": 4,
    "start_time": "2022-09-19T13:49:42.094Z"
   },
   {
    "duration": 5,
    "start_time": "2022-09-19T13:49:46.298Z"
   },
   {
    "duration": 21,
    "start_time": "2022-09-19T13:50:25.907Z"
   },
   {
    "duration": 25,
    "start_time": "2022-09-19T13:50:26.508Z"
   },
   {
    "duration": 22,
    "start_time": "2022-09-19T13:50:27.107Z"
   },
   {
    "duration": 4,
    "start_time": "2022-09-19T13:50:30.085Z"
   },
   {
    "duration": 19150,
    "start_time": "2022-09-19T13:50:39.659Z"
   },
   {
    "duration": 16211,
    "start_time": "2022-09-19T13:51:02.854Z"
   },
   {
    "duration": 6,
    "start_time": "2022-09-19T13:51:25.280Z"
   },
   {
    "duration": 3,
    "start_time": "2022-09-19T13:51:44.394Z"
   },
   {
    "duration": 3,
    "start_time": "2022-09-19T13:52:31.606Z"
   },
   {
    "duration": 84,
    "start_time": "2022-09-19T13:52:41.133Z"
   },
   {
    "duration": 4,
    "start_time": "2022-09-19T13:52:49.889Z"
   },
   {
    "duration": 4,
    "start_time": "2022-09-19T13:52:52.799Z"
   },
   {
    "duration": 3,
    "start_time": "2022-09-19T13:52:58.187Z"
   },
   {
    "duration": 3,
    "start_time": "2022-09-19T13:52:58.953Z"
   },
   {
    "duration": 3,
    "start_time": "2022-09-19T13:52:59.281Z"
   },
   {
    "duration": 5,
    "start_time": "2022-09-19T13:52:59.661Z"
   },
   {
    "duration": 4,
    "start_time": "2022-09-19T13:53:04.584Z"
   },
   {
    "duration": 3,
    "start_time": "2022-09-19T13:57:43.577Z"
   },
   {
    "duration": 5,
    "start_time": "2022-09-19T13:58:02.022Z"
   },
   {
    "duration": 107,
    "start_time": "2022-09-19T13:58:12.887Z"
   },
   {
    "duration": 4,
    "start_time": "2022-09-19T13:58:14.861Z"
   },
   {
    "duration": 15,
    "start_time": "2022-09-19T13:58:31.237Z"
   },
   {
    "duration": 12,
    "start_time": "2022-09-19T13:58:51.888Z"
   },
   {
    "duration": 9,
    "start_time": "2022-09-19T13:59:01.313Z"
   },
   {
    "duration": 10,
    "start_time": "2022-09-19T13:59:10.127Z"
   },
   {
    "duration": 3,
    "start_time": "2022-09-19T13:59:14.990Z"
   },
   {
    "duration": 4,
    "start_time": "2022-09-19T13:59:23.677Z"
   },
   {
    "duration": 4,
    "start_time": "2022-09-19T13:59:26.847Z"
   },
   {
    "duration": 11,
    "start_time": "2022-09-19T13:59:56.724Z"
   },
   {
    "duration": 11,
    "start_time": "2022-09-19T14:00:08.267Z"
   },
   {
    "duration": 3,
    "start_time": "2022-09-19T14:00:17.012Z"
   },
   {
    "duration": 4,
    "start_time": "2022-09-19T14:00:19.961Z"
   },
   {
    "duration": 3,
    "start_time": "2022-09-19T14:00:25.985Z"
   },
   {
    "duration": 9,
    "start_time": "2022-09-19T14:00:38.820Z"
   },
   {
    "duration": 9,
    "start_time": "2022-09-19T14:00:44.233Z"
   },
   {
    "duration": 4,
    "start_time": "2022-09-19T14:01:04.633Z"
   },
   {
    "duration": 4,
    "start_time": "2022-09-19T14:01:08.270Z"
   },
   {
    "duration": 4,
    "start_time": "2022-09-19T14:01:14.596Z"
   },
   {
    "duration": 4,
    "start_time": "2022-09-19T14:01:34.524Z"
   },
   {
    "duration": 3,
    "start_time": "2022-09-19T14:01:41.763Z"
   },
   {
    "duration": 4,
    "start_time": "2022-09-19T14:01:45.346Z"
   },
   {
    "duration": 4,
    "start_time": "2022-09-19T14:01:53.007Z"
   },
   {
    "duration": 4,
    "start_time": "2022-09-19T14:01:55.780Z"
   },
   {
    "duration": 4,
    "start_time": "2022-09-19T14:02:14.786Z"
   },
   {
    "duration": 4,
    "start_time": "2022-09-19T14:02:23.301Z"
   },
   {
    "duration": 4,
    "start_time": "2022-09-19T14:02:27.612Z"
   },
   {
    "duration": 5,
    "start_time": "2022-09-19T14:04:07.160Z"
   },
   {
    "duration": 15,
    "start_time": "2022-09-19T14:05:05.183Z"
   },
   {
    "duration": 17,
    "start_time": "2022-09-19T14:05:11.794Z"
   },
   {
    "duration": 11,
    "start_time": "2022-09-19T14:05:18.745Z"
   },
   {
    "duration": 26,
    "start_time": "2022-09-19T14:06:00.970Z"
   },
   {
    "duration": 9,
    "start_time": "2022-09-19T14:06:26.466Z"
   },
   {
    "duration": 13,
    "start_time": "2022-09-19T14:10:51.295Z"
   },
   {
    "duration": 8,
    "start_time": "2022-09-19T14:11:09.401Z"
   },
   {
    "duration": 9,
    "start_time": "2022-09-19T14:11:14.865Z"
   },
   {
    "duration": 10,
    "start_time": "2022-09-19T14:11:24.474Z"
   },
   {
    "duration": 7,
    "start_time": "2022-09-19T14:11:30.538Z"
   },
   {
    "duration": 3,
    "start_time": "2022-09-19T14:11:35.605Z"
   },
   {
    "duration": 5,
    "start_time": "2022-09-19T14:13:42.757Z"
   },
   {
    "duration": 2,
    "start_time": "2022-09-19T14:13:54.032Z"
   },
   {
    "duration": 3,
    "start_time": "2022-09-19T14:13:59.670Z"
   },
   {
    "duration": 3,
    "start_time": "2022-09-19T14:14:04.460Z"
   },
   {
    "duration": 3,
    "start_time": "2022-09-19T14:14:06.129Z"
   },
   {
    "duration": 4,
    "start_time": "2022-09-19T14:14:13.896Z"
   },
   {
    "duration": 3,
    "start_time": "2022-09-19T14:14:21.717Z"
   },
   {
    "duration": 3,
    "start_time": "2022-09-19T14:14:28.827Z"
   },
   {
    "duration": 3,
    "start_time": "2022-09-19T14:14:31.057Z"
   },
   {
    "duration": 4,
    "start_time": "2022-09-19T14:14:34.602Z"
   },
   {
    "duration": 4,
    "start_time": "2022-09-19T14:14:39.178Z"
   },
   {
    "duration": 5,
    "start_time": "2022-09-19T14:14:42.504Z"
   },
   {
    "duration": 7,
    "start_time": "2022-09-19T14:15:11.814Z"
   },
   {
    "duration": 10,
    "start_time": "2022-09-19T14:20:39.664Z"
   },
   {
    "duration": 11,
    "start_time": "2022-09-19T14:21:26.347Z"
   },
   {
    "duration": 79,
    "start_time": "2022-09-19T14:22:08.937Z"
   },
   {
    "duration": 270,
    "start_time": "2022-09-19T14:22:15.837Z"
   },
   {
    "duration": 273,
    "start_time": "2022-09-19T14:22:32.083Z"
   },
   {
    "duration": 248,
    "start_time": "2022-09-19T14:22:49.177Z"
   },
   {
    "duration": 263,
    "start_time": "2022-09-19T14:22:51.790Z"
   },
   {
    "duration": 262,
    "start_time": "2022-09-19T14:23:04.476Z"
   },
   {
    "duration": 270,
    "start_time": "2022-09-19T14:23:37.164Z"
   },
   {
    "duration": 15303,
    "start_time": "2022-09-19T14:23:44.590Z"
   },
   {
    "duration": 14750,
    "start_time": "2022-09-19T14:24:34.765Z"
   },
   {
    "duration": 15062,
    "start_time": "2022-09-19T14:24:54.102Z"
   },
   {
    "duration": 270,
    "start_time": "2022-09-19T14:25:38.201Z"
   },
   {
    "duration": 232,
    "start_time": "2022-09-19T14:26:04.340Z"
   },
   {
    "duration": 237,
    "start_time": "2022-09-19T14:26:09.638Z"
   },
   {
    "duration": 8,
    "start_time": "2022-09-19T14:29:17.004Z"
   },
   {
    "duration": 5,
    "start_time": "2022-09-19T14:29:28.606Z"
   },
   {
    "duration": 4,
    "start_time": "2022-09-19T14:29:38.460Z"
   },
   {
    "duration": 4,
    "start_time": "2022-09-19T14:30:11.738Z"
   },
   {
    "duration": 5,
    "start_time": "2022-09-19T14:30:38.301Z"
   },
   {
    "duration": 6,
    "start_time": "2022-09-19T14:30:41.742Z"
   },
   {
    "duration": 4,
    "start_time": "2022-09-19T14:32:48.674Z"
   },
   {
    "duration": 3,
    "start_time": "2022-09-19T14:32:58.858Z"
   },
   {
    "duration": 4,
    "start_time": "2022-09-19T14:34:34.813Z"
   },
   {
    "duration": 3,
    "start_time": "2022-09-19T14:34:44.333Z"
   },
   {
    "duration": 6,
    "start_time": "2022-09-19T14:34:48.902Z"
   },
   {
    "duration": 3,
    "start_time": "2022-09-19T14:35:11.619Z"
   },
   {
    "duration": 14,
    "start_time": "2022-09-19T14:35:15.802Z"
   },
   {
    "duration": 6,
    "start_time": "2022-09-19T14:35:20.964Z"
   },
   {
    "duration": 13,
    "start_time": "2022-09-19T14:37:27.431Z"
   },
   {
    "duration": 9,
    "start_time": "2022-09-19T14:37:59.333Z"
   },
   {
    "duration": 4,
    "start_time": "2022-09-19T14:38:04.336Z"
   },
   {
    "duration": 4,
    "start_time": "2022-09-19T14:38:09.802Z"
   },
   {
    "duration": 4,
    "start_time": "2022-09-19T14:38:10.504Z"
   },
   {
    "duration": 5,
    "start_time": "2022-09-19T14:38:10.803Z"
   },
   {
    "duration": 5,
    "start_time": "2022-09-19T14:38:10.999Z"
   },
   {
    "duration": 4,
    "start_time": "2022-09-19T14:38:11.177Z"
   },
   {
    "duration": 33,
    "start_time": "2022-09-19T14:38:16.751Z"
   },
   {
    "duration": 6,
    "start_time": "2022-09-19T14:38:38.223Z"
   },
   {
    "duration": 96,
    "start_time": "2022-09-19T14:39:02.306Z"
   },
   {
    "duration": 5,
    "start_time": "2022-09-19T14:39:45.753Z"
   },
   {
    "duration": 5,
    "start_time": "2022-09-19T14:39:49.146Z"
   },
   {
    "duration": 3,
    "start_time": "2022-09-19T14:43:11.357Z"
   },
   {
    "duration": 6,
    "start_time": "2022-09-19T14:43:17.112Z"
   },
   {
    "duration": 401,
    "start_time": "2022-09-19T15:00:09.209Z"
   },
   {
    "duration": 265,
    "start_time": "2022-09-19T15:00:13.720Z"
   },
   {
    "duration": 3,
    "start_time": "2022-09-19T15:00:37.616Z"
   },
   {
    "duration": 4,
    "start_time": "2022-09-19T15:00:40.417Z"
   },
   {
    "duration": 4,
    "start_time": "2022-09-19T15:00:55.801Z"
   },
   {
    "duration": 4,
    "start_time": "2022-09-19T15:01:01.354Z"
   },
   {
    "duration": 4,
    "start_time": "2022-09-19T15:01:09.856Z"
   },
   {
    "duration": 4,
    "start_time": "2022-09-19T15:01:14.077Z"
   },
   {
    "duration": 15,
    "start_time": "2022-09-19T15:04:52.161Z"
   },
   {
    "duration": 4,
    "start_time": "2022-09-19T15:05:07.480Z"
   },
   {
    "duration": 5,
    "start_time": "2022-09-19T15:05:16.633Z"
   },
   {
    "duration": 9,
    "start_time": "2022-09-19T15:05:36.097Z"
   },
   {
    "duration": 12,
    "start_time": "2022-09-19T15:05:47.800Z"
   },
   {
    "duration": 10,
    "start_time": "2022-09-19T15:05:52.236Z"
   },
   {
    "duration": 3,
    "start_time": "2022-09-19T15:05:58.209Z"
   },
   {
    "duration": 3,
    "start_time": "2022-09-19T15:06:02.665Z"
   },
   {
    "duration": 4,
    "start_time": "2022-09-19T15:06:04.937Z"
   },
   {
    "duration": 5,
    "start_time": "2022-09-19T15:06:13.046Z"
   },
   {
    "duration": 3,
    "start_time": "2022-09-19T15:06:17.703Z"
   },
   {
    "duration": 4,
    "start_time": "2022-09-19T15:06:19.296Z"
   },
   {
    "duration": 10,
    "start_time": "2022-09-19T15:06:22.559Z"
   },
   {
    "duration": 3,
    "start_time": "2022-09-19T15:06:24.810Z"
   },
   {
    "duration": 3,
    "start_time": "2022-09-19T15:06:28.026Z"
   },
   {
    "duration": 5,
    "start_time": "2022-09-19T15:07:27.920Z"
   },
   {
    "duration": 5,
    "start_time": "2022-09-19T15:07:31.412Z"
   },
   {
    "duration": 5,
    "start_time": "2022-09-19T15:07:45.663Z"
   },
   {
    "duration": 209,
    "start_time": "2022-09-19T15:08:54.934Z"
   },
   {
    "duration": 12,
    "start_time": "2022-09-19T15:09:05.171Z"
   },
   {
    "duration": 11,
    "start_time": "2022-09-19T15:09:49.117Z"
   },
   {
    "duration": 16269,
    "start_time": "2022-09-19T15:10:43.056Z"
   },
   {
    "duration": 5,
    "start_time": "2022-09-19T15:12:13.559Z"
   },
   {
    "duration": 1019,
    "start_time": "2022-09-19T15:12:13.781Z"
   },
   {
    "duration": 749,
    "start_time": "2022-09-19T15:15:48.973Z"
   },
   {
    "duration": 781,
    "start_time": "2022-09-19T15:19:11.638Z"
   },
   {
    "duration": 754,
    "start_time": "2022-09-19T15:21:08.527Z"
   },
   {
    "duration": 24,
    "start_time": "2022-09-19T15:23:33.270Z"
   },
   {
    "duration": 5,
    "start_time": "2022-09-19T15:23:43.112Z"
   },
   {
    "duration": 15,
    "start_time": "2022-09-19T15:24:34.407Z"
   },
   {
    "duration": 53,
    "start_time": "2022-09-19T15:26:16.684Z"
   },
   {
    "duration": 42,
    "start_time": "2022-09-19T15:26:31.663Z"
   },
   {
    "duration": 22,
    "start_time": "2022-09-19T15:26:44.042Z"
   },
   {
    "duration": 25,
    "start_time": "2022-09-19T15:26:58.894Z"
   },
   {
    "duration": 35,
    "start_time": "2022-09-19T15:27:18.937Z"
   },
   {
    "duration": 4,
    "start_time": "2022-09-19T15:27:33.291Z"
   },
   {
    "duration": 12,
    "start_time": "2022-09-19T15:27:46.906Z"
   },
   {
    "duration": 13,
    "start_time": "2022-09-19T15:27:49.328Z"
   },
   {
    "duration": 26,
    "start_time": "2022-09-19T15:29:27.690Z"
   },
   {
    "duration": 40,
    "start_time": "2022-09-19T15:29:44.096Z"
   },
   {
    "duration": 34,
    "start_time": "2022-09-19T15:29:53.600Z"
   },
   {
    "duration": 24,
    "start_time": "2022-09-19T15:29:57.954Z"
   },
   {
    "duration": 27,
    "start_time": "2022-09-19T15:31:04.519Z"
   },
   {
    "duration": 25,
    "start_time": "2022-09-19T15:31:22.715Z"
   },
   {
    "duration": 27,
    "start_time": "2022-09-19T15:31:47.535Z"
   },
   {
    "duration": 5,
    "start_time": "2022-09-19T15:32:18.859Z"
   },
   {
    "duration": 16,
    "start_time": "2022-09-19T15:32:45.646Z"
   },
   {
    "duration": 32,
    "start_time": "2022-09-19T15:32:52.065Z"
   },
   {
    "duration": 4,
    "start_time": "2022-09-19T15:32:53.869Z"
   },
   {
    "duration": 10,
    "start_time": "2022-09-19T15:33:04.401Z"
   },
   {
    "duration": 12,
    "start_time": "2022-09-19T15:33:19.277Z"
   },
   {
    "duration": 36,
    "start_time": "2022-09-19T15:33:51.482Z"
   },
   {
    "duration": 39,
    "start_time": "2022-09-19T15:33:54.571Z"
   },
   {
    "duration": 25,
    "start_time": "2022-09-19T15:33:59.258Z"
   },
   {
    "duration": 4,
    "start_time": "2022-09-19T15:36:25.751Z"
   },
   {
    "duration": 14,
    "start_time": "2022-09-19T15:36:33.757Z"
   },
   {
    "duration": 14,
    "start_time": "2022-09-19T15:37:05.664Z"
   },
   {
    "duration": 4,
    "start_time": "2022-09-19T15:37:20.483Z"
   },
   {
    "duration": 11,
    "start_time": "2022-09-19T15:37:32.040Z"
   },
   {
    "duration": 5,
    "start_time": "2022-09-19T15:37:37.797Z"
   },
   {
    "duration": 3,
    "start_time": "2022-09-19T15:38:09.554Z"
   },
   {
    "duration": 16,
    "start_time": "2022-09-19T15:38:15.118Z"
   },
   {
    "duration": 14,
    "start_time": "2022-09-19T15:38:20.832Z"
   },
   {
    "duration": 20,
    "start_time": "2022-09-19T15:38:26.277Z"
   },
   {
    "duration": 1179,
    "start_time": "2022-09-19T15:38:46.595Z"
   },
   {
    "duration": 3,
    "start_time": "2022-09-19T15:39:02.253Z"
   },
   {
    "duration": 5,
    "start_time": "2022-09-19T15:39:07.169Z"
   },
   {
    "duration": 5,
    "start_time": "2022-09-19T15:39:33.453Z"
   },
   {
    "duration": 16,
    "start_time": "2022-09-19T15:39:45.488Z"
   },
   {
    "duration": 27,
    "start_time": "2022-09-19T15:40:57.542Z"
   },
   {
    "duration": 4,
    "start_time": "2022-09-19T15:42:41.312Z"
   },
   {
    "duration": 4,
    "start_time": "2022-09-19T15:42:42.580Z"
   },
   {
    "duration": 1906,
    "start_time": "2022-09-19T15:42:43.095Z"
   },
   {
    "duration": 5,
    "start_time": "2022-09-19T15:43:00.745Z"
   },
   {
    "duration": 1076,
    "start_time": "2022-09-19T15:43:01.009Z"
   },
   {
    "duration": 10,
    "start_time": "2022-09-19T15:43:43.647Z"
   },
   {
    "duration": 72,
    "start_time": "2022-09-19T15:43:52.890Z"
   },
   {
    "duration": 8,
    "start_time": "2022-09-19T15:43:58.709Z"
   },
   {
    "duration": 9,
    "start_time": "2022-09-19T15:44:10.197Z"
   },
   {
    "duration": 1075,
    "start_time": "2022-09-19T15:44:17.195Z"
   },
   {
    "duration": 9,
    "start_time": "2022-09-19T15:44:22.637Z"
   },
   {
    "duration": 3,
    "start_time": "2022-09-19T15:44:56.435Z"
   },
   {
    "duration": 5,
    "start_time": "2022-09-19T15:45:05.586Z"
   },
   {
    "duration": 3,
    "start_time": "2022-09-19T15:45:38.353Z"
   },
   {
    "duration": 4,
    "start_time": "2022-09-19T15:46:05.415Z"
   },
   {
    "duration": 5,
    "start_time": "2022-09-19T15:48:42.943Z"
   },
   {
    "duration": 4,
    "start_time": "2022-09-19T15:48:45.643Z"
   },
   {
    "duration": 5,
    "start_time": "2022-09-19T15:48:55.217Z"
   },
   {
    "duration": 15,
    "start_time": "2022-09-19T15:50:05.688Z"
   },
   {
    "duration": 6,
    "start_time": "2022-09-19T15:50:29.042Z"
   },
   {
    "duration": 4,
    "start_time": "2022-09-19T15:50:52.505Z"
   },
   {
    "duration": 6,
    "start_time": "2022-09-19T15:51:37.793Z"
   },
   {
    "duration": 7,
    "start_time": "2022-09-19T15:51:59.931Z"
   },
   {
    "duration": 5,
    "start_time": "2022-09-19T15:52:07.138Z"
   },
   {
    "duration": 3,
    "start_time": "2022-09-19T15:52:14.712Z"
   },
   {
    "duration": 10,
    "start_time": "2022-09-19T15:52:26.651Z"
   },
   {
    "duration": 10,
    "start_time": "2022-09-19T15:52:29.081Z"
   },
   {
    "duration": 14,
    "start_time": "2022-09-19T15:53:39.049Z"
   },
   {
    "duration": 25,
    "start_time": "2022-09-19T15:53:48.639Z"
   },
   {
    "duration": 23,
    "start_time": "2022-09-19T15:54:22.225Z"
   },
   {
    "duration": 23,
    "start_time": "2022-09-19T15:54:40.704Z"
   },
   {
    "duration": 54,
    "start_time": "2022-09-19T15:54:47.323Z"
   },
   {
    "duration": 3,
    "start_time": "2022-09-19T15:56:46.008Z"
   },
   {
    "duration": 5,
    "start_time": "2022-09-19T15:56:53.848Z"
   },
   {
    "duration": 6,
    "start_time": "2022-09-19T15:56:57.171Z"
   },
   {
    "duration": 15,
    "start_time": "2022-09-19T15:58:09.483Z"
   },
   {
    "duration": 7,
    "start_time": "2022-09-19T15:58:25.774Z"
   },
   {
    "duration": 147,
    "start_time": "2022-09-19T16:00:23.714Z"
   },
   {
    "duration": 4,
    "start_time": "2022-09-19T16:00:42.962Z"
   },
   {
    "duration": 11,
    "start_time": "2022-09-19T16:01:21.565Z"
   },
   {
    "duration": 167,
    "start_time": "2022-09-19T16:02:03.324Z"
   },
   {
    "duration": 928,
    "start_time": "2022-09-19T16:02:46.301Z"
   },
   {
    "duration": 779,
    "start_time": "2022-09-19T16:04:35.240Z"
   },
   {
    "duration": 800,
    "start_time": "2022-09-19T16:04:58.813Z"
   },
   {
    "duration": 11,
    "start_time": "2022-09-19T16:05:24.172Z"
   },
   {
    "duration": 8,
    "start_time": "2022-09-19T16:05:36.633Z"
   },
   {
    "duration": 858,
    "start_time": "2022-09-19T16:05:41.636Z"
   },
   {
    "duration": 5,
    "start_time": "2022-09-19T16:05:42.769Z"
   },
   {
    "duration": 4,
    "start_time": "2022-09-19T16:05:52.272Z"
   },
   {
    "duration": 7,
    "start_time": "2022-09-19T16:06:02.189Z"
   },
   {
    "duration": 803,
    "start_time": "2022-09-19T16:06:24.233Z"
   },
   {
    "duration": 52,
    "start_time": "2022-09-19T16:06:25.038Z"
   },
   {
    "duration": 5,
    "start_time": "2022-09-19T16:06:25.458Z"
   },
   {
    "duration": 5,
    "start_time": "2022-09-19T16:06:33.076Z"
   },
   {
    "duration": 1871,
    "start_time": "2022-09-19T18:11:44.203Z"
   },
   {
    "duration": 200,
    "start_time": "2022-09-19T18:11:46.076Z"
   },
   {
    "duration": 18,
    "start_time": "2022-09-19T18:11:46.278Z"
   },
   {
    "duration": 11,
    "start_time": "2022-09-19T18:11:46.298Z"
   },
   {
    "duration": 15,
    "start_time": "2022-09-19T18:11:46.311Z"
   },
   {
    "duration": 22,
    "start_time": "2022-09-19T18:11:46.328Z"
   },
   {
    "duration": 73,
    "start_time": "2022-09-19T18:11:46.352Z"
   },
   {
    "duration": 7,
    "start_time": "2022-09-19T18:11:46.427Z"
   },
   {
    "duration": 10,
    "start_time": "2022-09-19T18:11:46.436Z"
   },
   {
    "duration": 3,
    "start_time": "2022-09-19T18:11:46.449Z"
   },
   {
    "duration": 9,
    "start_time": "2022-09-19T18:11:46.453Z"
   },
   {
    "duration": 179,
    "start_time": "2022-09-19T18:11:46.464Z"
   },
   {
    "duration": 9,
    "start_time": "2022-09-19T18:11:46.645Z"
   },
   {
    "duration": 3,
    "start_time": "2022-09-19T18:11:46.655Z"
   },
   {
    "duration": 12,
    "start_time": "2022-09-19T18:11:46.659Z"
   },
   {
    "duration": 39,
    "start_time": "2022-09-19T18:11:46.673Z"
   },
   {
    "duration": 10,
    "start_time": "2022-09-19T18:11:46.713Z"
   },
   {
    "duration": 23,
    "start_time": "2022-09-19T18:11:46.724Z"
   },
   {
    "duration": 5,
    "start_time": "2022-09-19T18:11:46.748Z"
   },
   {
    "duration": 69,
    "start_time": "2022-09-19T18:11:46.754Z"
   },
   {
    "duration": 43,
    "start_time": "2022-09-19T18:11:46.824Z"
   },
   {
    "duration": 42,
    "start_time": "2022-09-19T18:11:46.868Z"
   },
   {
    "duration": 4,
    "start_time": "2022-09-19T18:11:46.912Z"
   },
   {
    "duration": 1101,
    "start_time": "2022-09-19T18:11:46.918Z"
   },
   {
    "duration": 137,
    "start_time": "2022-09-19T18:11:48.021Z"
   },
   {
    "duration": 0,
    "start_time": "2022-09-19T18:11:48.160Z"
   },
   {
    "duration": 0,
    "start_time": "2022-09-19T18:11:48.162Z"
   },
   {
    "duration": 0,
    "start_time": "2022-09-19T18:11:48.164Z"
   },
   {
    "duration": 0,
    "start_time": "2022-09-19T18:11:48.165Z"
   },
   {
    "duration": 0,
    "start_time": "2022-09-19T18:11:48.166Z"
   },
   {
    "duration": 0,
    "start_time": "2022-09-19T18:11:48.168Z"
   },
   {
    "duration": 0,
    "start_time": "2022-09-19T18:11:48.169Z"
   },
   {
    "duration": 0,
    "start_time": "2022-09-19T18:11:48.171Z"
   },
   {
    "duration": 0,
    "start_time": "2022-09-19T18:11:48.172Z"
   },
   {
    "duration": 3,
    "start_time": "2022-09-19T18:12:49.370Z"
   },
   {
    "duration": 15,
    "start_time": "2022-09-19T18:12:50.411Z"
   },
   {
    "duration": 813,
    "start_time": "2022-09-19T18:13:12.256Z"
   },
   {
    "duration": 4,
    "start_time": "2022-09-19T18:13:14.904Z"
   },
   {
    "duration": 1036,
    "start_time": "2022-09-19T18:13:15.813Z"
   },
   {
    "duration": 846,
    "start_time": "2022-09-19T18:13:17.866Z"
   },
   {
    "duration": 4,
    "start_time": "2022-09-19T18:13:18.801Z"
   },
   {
    "duration": 5,
    "start_time": "2022-09-19T18:13:19.322Z"
   },
   {
    "duration": 649,
    "start_time": "2022-09-19T18:13:19.525Z"
   },
   {
    "duration": 33,
    "start_time": "2022-09-19T18:13:20.176Z"
   },
   {
    "duration": 2,
    "start_time": "2022-09-19T18:13:20.211Z"
   },
   {
    "duration": 7,
    "start_time": "2022-09-19T18:13:20.215Z"
   },
   {
    "duration": 983,
    "start_time": "2022-09-19T18:13:20.544Z"
   },
   {
    "duration": 968,
    "start_time": "2022-09-19T18:13:21.529Z"
   },
   {
    "duration": 8,
    "start_time": "2022-09-19T18:16:24.774Z"
   },
   {
    "duration": 8,
    "start_time": "2022-09-19T18:16:39.546Z"
   },
   {
    "duration": 7,
    "start_time": "2022-09-19T18:16:41.848Z"
   },
   {
    "duration": 4,
    "start_time": "2022-09-19T18:16:46.750Z"
   },
   {
    "duration": 4,
    "start_time": "2022-09-19T18:16:50.321Z"
   },
   {
    "duration": 1055,
    "start_time": "2022-09-19T18:16:59.930Z"
   },
   {
    "duration": 1042,
    "start_time": "2022-09-19T18:17:11.860Z"
   },
   {
    "duration": 1010,
    "start_time": "2022-09-19T18:17:21.190Z"
   },
   {
    "duration": 1086,
    "start_time": "2022-09-19T18:17:32.451Z"
   },
   {
    "duration": 5,
    "start_time": "2022-09-19T18:17:54.083Z"
   },
   {
    "duration": 1056,
    "start_time": "2022-09-19T18:17:54.935Z"
   },
   {
    "duration": 6,
    "start_time": "2022-09-19T18:18:03.027Z"
   },
   {
    "duration": 5,
    "start_time": "2022-09-19T18:24:48.712Z"
   },
   {
    "duration": 141,
    "start_time": "2022-09-19T18:24:55.341Z"
   },
   {
    "duration": 5,
    "start_time": "2022-09-19T18:28:38.509Z"
   },
   {
    "duration": 71,
    "start_time": "2022-09-19T18:31:30.649Z"
   },
   {
    "duration": 681,
    "start_time": "2022-09-19T18:31:48.343Z"
   },
   {
    "duration": 680,
    "start_time": "2022-09-19T18:32:27.768Z"
   },
   {
    "duration": 4,
    "start_time": "2022-09-19T18:34:11.673Z"
   },
   {
    "duration": 5,
    "start_time": "2022-09-19T18:34:30.250Z"
   },
   {
    "duration": 5,
    "start_time": "2022-09-19T18:34:37.997Z"
   },
   {
    "duration": 3,
    "start_time": "2022-09-19T18:34:52.427Z"
   },
   {
    "duration": 7,
    "start_time": "2022-09-19T18:34:53.126Z"
   },
   {
    "duration": 5,
    "start_time": "2022-09-19T18:36:58.645Z"
   },
   {
    "duration": 5,
    "start_time": "2022-09-19T18:37:07.912Z"
   },
   {
    "duration": 5,
    "start_time": "2022-09-19T18:37:22.248Z"
   },
   {
    "duration": 3,
    "start_time": "2022-09-19T18:37:25.787Z"
   },
   {
    "duration": 4,
    "start_time": "2022-09-19T18:37:31.984Z"
   },
   {
    "duration": 4,
    "start_time": "2022-09-19T18:37:55.561Z"
   },
   {
    "duration": 4,
    "start_time": "2022-09-19T18:38:14.721Z"
   },
   {
    "duration": 3,
    "start_time": "2022-09-19T18:38:15.629Z"
   },
   {
    "duration": 4,
    "start_time": "2022-09-19T18:38:15.944Z"
   },
   {
    "duration": 4,
    "start_time": "2022-09-19T18:38:23.057Z"
   },
   {
    "duration": 3,
    "start_time": "2022-09-19T18:38:24.027Z"
   },
   {
    "duration": 3,
    "start_time": "2022-09-19T18:38:24.758Z"
   },
   {
    "duration": 4,
    "start_time": "2022-09-19T18:38:48.556Z"
   },
   {
    "duration": 5,
    "start_time": "2022-09-19T18:39:12.707Z"
   },
   {
    "duration": 4,
    "start_time": "2022-09-19T18:39:18.096Z"
   },
   {
    "duration": 4,
    "start_time": "2022-09-19T18:39:23.366Z"
   },
   {
    "duration": 1229,
    "start_time": "2022-09-19T18:40:47.463Z"
   },
   {
    "duration": 5,
    "start_time": "2022-09-19T18:46:28.586Z"
   },
   {
    "duration": 1116,
    "start_time": "2022-09-19T18:46:32.289Z"
   },
   {
    "duration": 5,
    "start_time": "2022-09-19T18:48:11.599Z"
   },
   {
    "duration": 5,
    "start_time": "2022-09-19T18:48:13.104Z"
   },
   {
    "duration": 1049,
    "start_time": "2022-09-19T18:48:13.331Z"
   },
   {
    "duration": 5,
    "start_time": "2022-09-19T18:48:26.045Z"
   },
   {
    "duration": 1017,
    "start_time": "2022-09-19T18:48:26.610Z"
   },
   {
    "duration": 5,
    "start_time": "2022-09-19T18:48:32.365Z"
   },
   {
    "duration": 975,
    "start_time": "2022-09-19T18:48:32.820Z"
   },
   {
    "duration": 4,
    "start_time": "2022-09-19T18:48:51.943Z"
   },
   {
    "duration": 643,
    "start_time": "2022-09-19T18:48:55.578Z"
   },
   {
    "duration": 5,
    "start_time": "2022-09-19T18:48:56.223Z"
   },
   {
    "duration": 1325,
    "start_time": "2022-09-19T18:48:56.762Z"
   },
   {
    "duration": 5,
    "start_time": "2022-09-19T18:49:15.335Z"
   },
   {
    "duration": 5,
    "start_time": "2022-09-19T18:49:16.082Z"
   },
   {
    "duration": 1278,
    "start_time": "2022-09-19T18:49:16.514Z"
   },
   {
    "duration": 18,
    "start_time": "2022-09-19T18:49:17.794Z"
   },
   {
    "duration": 5,
    "start_time": "2022-09-19T18:49:31.010Z"
   },
   {
    "duration": 1033,
    "start_time": "2022-09-19T18:49:31.497Z"
   },
   {
    "duration": 7,
    "start_time": "2022-09-19T18:50:20.344Z"
   },
   {
    "duration": 1019,
    "start_time": "2022-09-19T18:50:21.729Z"
   },
   {
    "duration": 5,
    "start_time": "2022-09-19T18:50:42.051Z"
   },
   {
    "duration": 1213,
    "start_time": "2022-09-19T18:50:42.529Z"
   },
   {
    "duration": 5,
    "start_time": "2022-09-19T18:51:53.671Z"
   },
   {
    "duration": 5,
    "start_time": "2022-09-19T18:52:26.050Z"
   },
   {
    "duration": 1194,
    "start_time": "2022-09-19T18:52:26.689Z"
   },
   {
    "duration": 5,
    "start_time": "2022-09-19T18:52:56.881Z"
   },
   {
    "duration": 1046,
    "start_time": "2022-09-19T18:52:57.745Z"
   },
   {
    "duration": 6,
    "start_time": "2022-09-19T18:53:14.848Z"
   },
   {
    "duration": 1021,
    "start_time": "2022-09-19T18:53:15.440Z"
   },
   {
    "duration": 8,
    "start_time": "2022-09-19T18:54:05.477Z"
   },
   {
    "duration": 16,
    "start_time": "2022-09-19T18:54:12.590Z"
   },
   {
    "duration": 108,
    "start_time": "2022-09-19T18:54:28.041Z"
   },
   {
    "duration": 4,
    "start_time": "2022-09-19T18:54:42.396Z"
   },
   {
    "duration": 5,
    "start_time": "2022-09-19T18:54:45.456Z"
   },
   {
    "duration": 5,
    "start_time": "2022-09-19T18:55:00.638Z"
   },
   {
    "duration": 6,
    "start_time": "2022-09-19T18:56:42.501Z"
   },
   {
    "duration": 1081,
    "start_time": "2022-09-19T18:56:43.118Z"
   },
   {
    "duration": 5,
    "start_time": "2022-09-19T19:01:18.397Z"
   },
   {
    "duration": 1094,
    "start_time": "2022-09-19T19:01:19.435Z"
   },
   {
    "duration": 4,
    "start_time": "2022-09-19T19:01:38.744Z"
   },
   {
    "duration": 1055,
    "start_time": "2022-09-19T19:01:39.212Z"
   },
   {
    "duration": 5,
    "start_time": "2022-09-19T19:01:56.462Z"
   },
   {
    "duration": 1039,
    "start_time": "2022-09-19T19:01:56.923Z"
   },
   {
    "duration": 4,
    "start_time": "2022-09-19T19:02:01.103Z"
   },
   {
    "duration": 1017,
    "start_time": "2022-09-19T19:02:01.604Z"
   },
   {
    "duration": 7,
    "start_time": "2022-09-19T19:02:42.458Z"
   },
   {
    "duration": 1107,
    "start_time": "2022-09-19T19:02:42.955Z"
   },
   {
    "duration": 7,
    "start_time": "2022-09-19T19:03:03.094Z"
   },
   {
    "duration": 1041,
    "start_time": "2022-09-19T19:03:03.864Z"
   },
   {
    "duration": 1969,
    "start_time": "2022-09-20T07:22:03.171Z"
   },
   {
    "duration": 107,
    "start_time": "2022-09-20T07:22:05.142Z"
   },
   {
    "duration": 18,
    "start_time": "2022-09-20T07:22:05.250Z"
   },
   {
    "duration": 38,
    "start_time": "2022-09-20T07:22:05.270Z"
   },
   {
    "duration": 35,
    "start_time": "2022-09-20T07:22:05.310Z"
   },
   {
    "duration": 58,
    "start_time": "2022-09-20T07:22:05.347Z"
   },
   {
    "duration": 120,
    "start_time": "2022-09-20T07:22:05.406Z"
   },
   {
    "duration": 9,
    "start_time": "2022-09-20T07:22:05.528Z"
   },
   {
    "duration": 24,
    "start_time": "2022-09-20T07:22:05.539Z"
   },
   {
    "duration": 51,
    "start_time": "2022-09-20T07:22:05.566Z"
   },
   {
    "duration": 39,
    "start_time": "2022-09-20T07:22:05.619Z"
   },
   {
    "duration": 181,
    "start_time": "2022-09-20T07:22:05.660Z"
   },
   {
    "duration": 10,
    "start_time": "2022-09-20T07:22:05.843Z"
   },
   {
    "duration": 14,
    "start_time": "2022-09-20T07:22:05.855Z"
   },
   {
    "duration": 20,
    "start_time": "2022-09-20T07:22:05.871Z"
   },
   {
    "duration": 32,
    "start_time": "2022-09-20T07:22:05.894Z"
   },
   {
    "duration": 12,
    "start_time": "2022-09-20T07:22:05.928Z"
   },
   {
    "duration": 28,
    "start_time": "2022-09-20T07:22:05.942Z"
   },
   {
    "duration": 24,
    "start_time": "2022-09-20T07:22:05.971Z"
   },
   {
    "duration": 49,
    "start_time": "2022-09-20T07:22:05.997Z"
   },
   {
    "duration": 74,
    "start_time": "2022-09-20T07:22:06.048Z"
   },
   {
    "duration": 2,
    "start_time": "2022-09-20T07:22:06.124Z"
   },
   {
    "duration": 963,
    "start_time": "2022-09-20T07:22:06.128Z"
   },
   {
    "duration": 4,
    "start_time": "2022-09-20T07:22:07.093Z"
   },
   {
    "duration": 16,
    "start_time": "2022-09-20T07:22:07.099Z"
   },
   {
    "duration": 1189,
    "start_time": "2022-09-20T07:22:07.118Z"
   },
   {
    "duration": 5,
    "start_time": "2022-09-20T07:22:08.308Z"
   },
   {
    "duration": 16,
    "start_time": "2022-09-20T07:22:08.316Z"
   },
   {
    "duration": 721,
    "start_time": "2022-09-20T07:22:08.333Z"
   },
   {
    "duration": 57,
    "start_time": "2022-09-20T07:22:09.056Z"
   },
   {
    "duration": 3,
    "start_time": "2022-09-20T07:22:09.115Z"
   },
   {
    "duration": 10,
    "start_time": "2022-09-20T07:22:09.119Z"
   },
   {
    "duration": 1062,
    "start_time": "2022-09-20T07:22:09.131Z"
   },
   {
    "duration": 1018,
    "start_time": "2022-09-20T07:22:10.195Z"
   },
   {
    "duration": 690,
    "start_time": "2022-09-20T07:22:47.129Z"
   },
   {
    "duration": 7,
    "start_time": "2022-09-20T07:24:02.805Z"
   },
   {
    "duration": 1076,
    "start_time": "2022-09-20T07:24:03.333Z"
   },
   {
    "duration": 21827,
    "start_time": "2022-09-20T07:24:11.104Z"
   },
   {
    "duration": 9,
    "start_time": "2022-09-20T07:25:22.192Z"
   },
   {
    "duration": 125,
    "start_time": "2022-09-20T07:26:14.360Z"
   },
   {
    "duration": 9,
    "start_time": "2022-09-20T07:26:53.615Z"
   },
   {
    "duration": 11,
    "start_time": "2022-09-20T07:27:18.825Z"
   },
   {
    "duration": 4,
    "start_time": "2022-09-20T07:27:40.823Z"
   },
   {
    "duration": 3,
    "start_time": "2022-09-20T07:27:53.684Z"
   },
   {
    "duration": 10,
    "start_time": "2022-09-20T07:27:59.687Z"
   },
   {
    "duration": 4,
    "start_time": "2022-09-20T07:28:41.115Z"
   },
   {
    "duration": 4,
    "start_time": "2022-09-20T07:28:56.168Z"
   },
   {
    "duration": 10,
    "start_time": "2022-09-20T07:29:07.406Z"
   },
   {
    "duration": 11,
    "start_time": "2022-09-20T07:29:39.409Z"
   },
   {
    "duration": 31,
    "start_time": "2022-09-20T07:30:27.915Z"
   },
   {
    "duration": 29,
    "start_time": "2022-09-20T07:31:59.569Z"
   },
   {
    "duration": 5,
    "start_time": "2022-09-20T07:34:05.398Z"
   },
   {
    "duration": 0,
    "start_time": "2022-09-20T07:34:45.712Z"
   },
   {
    "duration": 0,
    "start_time": "2022-09-20T07:34:45.713Z"
   },
   {
    "duration": 6,
    "start_time": "2022-09-20T07:34:49.400Z"
   },
   {
    "duration": 20944,
    "start_time": "2022-09-20T07:34:54.053Z"
   },
   {
    "duration": 6,
    "start_time": "2022-09-20T07:35:49.495Z"
   },
   {
    "duration": 21415,
    "start_time": "2022-09-20T07:35:52.857Z"
   },
   {
    "duration": 11,
    "start_time": "2022-09-20T07:36:38.034Z"
   },
   {
    "duration": 21475,
    "start_time": "2022-09-20T07:36:39.653Z"
   },
   {
    "duration": 6,
    "start_time": "2022-09-20T07:37:41.926Z"
   },
   {
    "duration": 21585,
    "start_time": "2022-09-20T07:37:42.655Z"
   },
   {
    "duration": 6,
    "start_time": "2022-09-20T07:38:48.981Z"
   },
   {
    "duration": 22135,
    "start_time": "2022-09-20T07:39:06.545Z"
   },
   {
    "duration": 22316,
    "start_time": "2022-09-20T07:39:46.523Z"
   },
   {
    "duration": 11070,
    "start_time": "2022-09-20T07:40:08.841Z"
   },
   {
    "duration": 12787,
    "start_time": "2022-09-20T07:40:19.913Z"
   },
   {
    "duration": 754,
    "start_time": "2022-09-20T07:40:48.411Z"
   },
   {
    "duration": 6,
    "start_time": "2022-09-20T07:41:26.830Z"
   },
   {
    "duration": 5,
    "start_time": "2022-09-20T07:41:39.728Z"
   },
   {
    "duration": 5,
    "start_time": "2022-09-20T07:41:45.465Z"
   },
   {
    "duration": 756,
    "start_time": "2022-09-20T07:44:17.947Z"
   },
   {
    "duration": 712,
    "start_time": "2022-09-20T07:44:27.086Z"
   },
   {
    "duration": 720,
    "start_time": "2022-09-20T07:44:30.776Z"
   },
   {
    "duration": 4,
    "start_time": "2022-09-20T07:45:28.335Z"
   },
   {
    "duration": 5,
    "start_time": "2022-09-20T07:45:43.538Z"
   },
   {
    "duration": 4,
    "start_time": "2022-09-20T07:45:51.680Z"
   },
   {
    "duration": 4,
    "start_time": "2022-09-20T07:45:58.985Z"
   },
   {
    "duration": 9,
    "start_time": "2022-09-20T07:46:01.918Z"
   },
   {
    "duration": 9,
    "start_time": "2022-09-20T07:46:11.639Z"
   },
   {
    "duration": 4,
    "start_time": "2022-09-20T07:46:23.195Z"
   },
   {
    "duration": 4,
    "start_time": "2022-09-20T07:46:32.031Z"
   },
   {
    "duration": 4,
    "start_time": "2022-09-20T07:46:58.473Z"
   },
   {
    "duration": 5,
    "start_time": "2022-09-20T07:47:01.229Z"
   },
   {
    "duration": 5,
    "start_time": "2022-09-20T07:47:04.237Z"
   },
   {
    "duration": 5,
    "start_time": "2022-09-20T07:47:12.559Z"
   },
   {
    "duration": 80,
    "start_time": "2022-09-20T07:47:46.210Z"
   },
   {
    "duration": 4,
    "start_time": "2022-09-20T07:47:48.573Z"
   },
   {
    "duration": 6,
    "start_time": "2022-09-20T07:47:57.410Z"
   },
   {
    "duration": 4,
    "start_time": "2022-09-20T07:48:02.148Z"
   },
   {
    "duration": 4,
    "start_time": "2022-09-20T07:48:04.845Z"
   },
   {
    "duration": 5,
    "start_time": "2022-09-20T07:48:06.539Z"
   },
   {
    "duration": 4,
    "start_time": "2022-09-20T07:48:08.168Z"
   },
   {
    "duration": 7,
    "start_time": "2022-09-20T07:48:09.789Z"
   },
   {
    "duration": 7,
    "start_time": "2022-09-20T07:48:11.411Z"
   },
   {
    "duration": 5,
    "start_time": "2022-09-20T07:48:14.165Z"
   },
   {
    "duration": 10,
    "start_time": "2022-09-20T07:48:16.494Z"
   },
   {
    "duration": 4,
    "start_time": "2022-09-20T07:48:18.227Z"
   },
   {
    "duration": 4,
    "start_time": "2022-09-20T07:48:28.529Z"
   },
   {
    "duration": 4,
    "start_time": "2022-09-20T07:48:36.184Z"
   },
   {
    "duration": 4,
    "start_time": "2022-09-20T07:48:38.340Z"
   },
   {
    "duration": 752,
    "start_time": "2022-09-20T07:50:27.129Z"
   },
   {
    "duration": 95,
    "start_time": "2022-09-20T07:50:35.055Z"
   },
   {
    "duration": 804,
    "start_time": "2022-09-20T07:51:13.027Z"
   },
   {
    "duration": 774,
    "start_time": "2022-09-20T07:51:17.870Z"
   },
   {
    "duration": 910,
    "start_time": "2022-09-20T07:51:28.139Z"
   },
   {
    "duration": 94,
    "start_time": "2022-09-20T07:52:01.473Z"
   },
   {
    "duration": 8,
    "start_time": "2022-09-20T07:52:11.555Z"
   },
   {
    "duration": 5,
    "start_time": "2022-09-20T07:52:18.511Z"
   },
   {
    "duration": 5,
    "start_time": "2022-09-20T07:52:25.934Z"
   },
   {
    "duration": 5,
    "start_time": "2022-09-20T07:52:31.045Z"
   },
   {
    "duration": 26,
    "start_time": "2022-09-20T07:52:34.996Z"
   },
   {
    "duration": 22,
    "start_time": "2022-09-20T07:52:46.300Z"
   },
   {
    "duration": 4,
    "start_time": "2022-09-20T07:52:51.163Z"
   },
   {
    "duration": 5,
    "start_time": "2022-09-20T07:52:58.483Z"
   },
   {
    "duration": 4,
    "start_time": "2022-09-20T07:53:05.569Z"
   },
   {
    "duration": 6,
    "start_time": "2022-09-20T07:53:46.780Z"
   },
   {
    "duration": 5,
    "start_time": "2022-09-20T07:53:55.639Z"
   },
   {
    "duration": 963,
    "start_time": "2022-09-20T07:54:06.496Z"
   },
   {
    "duration": 10,
    "start_time": "2022-09-20T07:54:56.370Z"
   },
   {
    "duration": 24,
    "start_time": "2022-09-20T07:55:20.714Z"
   },
   {
    "duration": 13,
    "start_time": "2022-09-20T07:55:25.060Z"
   },
   {
    "duration": 248,
    "start_time": "2022-09-20T07:56:09.986Z"
   },
   {
    "duration": 58,
    "start_time": "2022-09-20T07:56:15.136Z"
   },
   {
    "duration": 10,
    "start_time": "2022-09-20T07:56:46.300Z"
   },
   {
    "duration": 21419,
    "start_time": "2022-09-20T07:56:46.714Z"
   },
   {
    "duration": 10858,
    "start_time": "2022-09-20T07:57:08.135Z"
   },
   {
    "duration": 12712,
    "start_time": "2022-09-20T07:57:18.995Z"
   },
   {
    "duration": 5,
    "start_time": "2022-09-20T07:57:31.710Z"
   },
   {
    "duration": 16,
    "start_time": "2022-09-20T07:57:31.716Z"
   },
   {
    "duration": 14,
    "start_time": "2022-09-20T07:57:31.734Z"
   },
   {
    "duration": 75,
    "start_time": "2022-09-20T07:57:31.750Z"
   },
   {
    "duration": 61,
    "start_time": "2022-09-20T07:58:37.941Z"
   },
   {
    "duration": 84,
    "start_time": "2022-09-20T07:58:58.335Z"
   },
   {
    "duration": 18,
    "start_time": "2022-09-20T07:59:17.662Z"
   },
   {
    "duration": 12,
    "start_time": "2022-09-20T07:59:37.520Z"
   },
   {
    "duration": 20,
    "start_time": "2022-09-20T08:00:09.442Z"
   },
   {
    "duration": 20542,
    "start_time": "2022-09-20T08:00:13.711Z"
   },
   {
    "duration": 9,
    "start_time": "2022-09-20T08:00:36.131Z"
   },
   {
    "duration": 16,
    "start_time": "2022-09-20T08:00:46.319Z"
   },
   {
    "duration": 4,
    "start_time": "2022-09-20T08:01:10.135Z"
   },
   {
    "duration": 65,
    "start_time": "2022-09-20T08:01:21.144Z"
   },
   {
    "duration": 5,
    "start_time": "2022-09-20T08:02:04.291Z"
   },
   {
    "duration": 10,
    "start_time": "2022-09-20T08:02:14.624Z"
   },
   {
    "duration": 4,
    "start_time": "2022-09-20T08:02:25.823Z"
   },
   {
    "duration": 57,
    "start_time": "2022-09-20T08:02:40.508Z"
   },
   {
    "duration": 10,
    "start_time": "2022-09-20T08:04:07.135Z"
   },
   {
    "duration": 73,
    "start_time": "2022-09-20T08:05:06.579Z"
   },
   {
    "duration": 5,
    "start_time": "2022-09-20T08:06:54.584Z"
   },
   {
    "duration": 5,
    "start_time": "2022-09-20T08:06:55.225Z"
   },
   {
    "duration": 4,
    "start_time": "2022-09-20T08:06:55.645Z"
   },
   {
    "duration": 728,
    "start_time": "2022-09-20T08:08:54.833Z"
   },
   {
    "duration": 70,
    "start_time": "2022-09-20T08:09:34.087Z"
   },
   {
    "duration": 7,
    "start_time": "2022-09-20T08:12:36.322Z"
   },
   {
    "duration": 21699,
    "start_time": "2022-09-20T08:12:36.534Z"
   },
   {
    "duration": 8,
    "start_time": "2022-09-20T08:12:58.235Z"
   },
   {
    "duration": 21263,
    "start_time": "2022-09-20T08:14:04.626Z"
   },
   {
    "duration": 11,
    "start_time": "2022-09-20T08:14:29.414Z"
   },
   {
    "duration": 732,
    "start_time": "2022-09-20T08:14:42.284Z"
   },
   {
    "duration": 12,
    "start_time": "2022-09-20T08:14:43.018Z"
   },
   {
    "duration": 21165,
    "start_time": "2022-09-20T08:14:43.379Z"
   },
   {
    "duration": 5,
    "start_time": "2022-09-20T08:15:05.984Z"
   },
   {
    "duration": 10338,
    "start_time": "2022-09-20T08:16:23.929Z"
   },
   {
    "duration": 12697,
    "start_time": "2022-09-20T08:16:34.269Z"
   },
   {
    "duration": 3,
    "start_time": "2022-09-20T08:18:08.358Z"
   },
   {
    "duration": 507,
    "start_time": "2022-09-20T08:18:36.782Z"
   },
   {
    "duration": 6,
    "start_time": "2022-09-20T08:19:02.646Z"
   },
   {
    "duration": 417,
    "start_time": "2022-09-20T08:19:02.869Z"
   },
   {
    "duration": 3,
    "start_time": "2022-09-20T08:19:10.663Z"
   },
   {
    "duration": 196,
    "start_time": "2022-09-20T08:19:11.217Z"
   },
   {
    "duration": 7,
    "start_time": "2022-09-20T08:19:17.025Z"
   },
   {
    "duration": 6,
    "start_time": "2022-09-20T08:19:25.460Z"
   },
   {
    "duration": 6,
    "start_time": "2022-09-20T08:20:25.821Z"
   },
   {
    "duration": 3,
    "start_time": "2022-09-20T08:20:40.935Z"
   },
   {
    "duration": 117,
    "start_time": "2022-09-20T08:20:41.541Z"
   },
   {
    "duration": 8,
    "start_time": "2022-09-20T08:20:42.093Z"
   },
   {
    "duration": 3,
    "start_time": "2022-09-20T08:20:49.627Z"
   },
   {
    "duration": 130,
    "start_time": "2022-09-20T08:20:50.214Z"
   },
   {
    "duration": 6,
    "start_time": "2022-09-20T08:20:50.747Z"
   },
   {
    "duration": 118,
    "start_time": "2022-09-20T08:20:56.943Z"
   },
   {
    "duration": 6,
    "start_time": "2022-09-20T08:20:57.448Z"
   },
   {
    "duration": 3,
    "start_time": "2022-09-20T08:21:26.983Z"
   },
   {
    "duration": 3,
    "start_time": "2022-09-20T08:21:27.922Z"
   },
   {
    "duration": 215,
    "start_time": "2022-09-20T08:21:28.139Z"
   },
   {
    "duration": 6,
    "start_time": "2022-09-20T08:21:28.362Z"
   },
   {
    "duration": 8,
    "start_time": "2022-09-20T08:21:41.556Z"
   },
   {
    "duration": 141,
    "start_time": "2022-09-20T08:26:19.577Z"
   },
   {
    "duration": 6,
    "start_time": "2022-09-20T08:26:31.292Z"
   },
   {
    "duration": 2110,
    "start_time": "2022-09-20T08:26:33.630Z"
   },
   {
    "duration": 9,
    "start_time": "2022-09-20T08:26:37.724Z"
   },
   {
    "duration": 7,
    "start_time": "2022-09-20T08:26:43.302Z"
   },
   {
    "duration": 13,
    "start_time": "2022-09-20T08:26:44.016Z"
   },
   {
    "duration": 5,
    "start_time": "2022-09-20T08:26:54.729Z"
   },
   {
    "duration": 18,
    "start_time": "2022-09-20T08:27:10.163Z"
   },
   {
    "duration": 90,
    "start_time": "2022-09-20T08:27:34.129Z"
   },
   {
    "duration": 104,
    "start_time": "2022-09-20T08:27:45.788Z"
   },
   {
    "duration": 20,
    "start_time": "2022-09-20T08:27:50.345Z"
   },
   {
    "duration": 9,
    "start_time": "2022-09-20T08:28:53.348Z"
   },
   {
    "duration": 411,
    "start_time": "2022-09-20T08:32:35.521Z"
   },
   {
    "duration": 10,
    "start_time": "2022-09-20T08:32:52.384Z"
   },
   {
    "duration": 4,
    "start_time": "2022-09-20T08:33:17.681Z"
   },
   {
    "duration": 37,
    "start_time": "2022-09-20T08:33:29.489Z"
   },
   {
    "duration": 14,
    "start_time": "2022-09-20T08:33:54.890Z"
   },
   {
    "duration": 14,
    "start_time": "2022-09-20T08:34:05.340Z"
   },
   {
    "duration": 10,
    "start_time": "2022-09-20T08:34:08.456Z"
   },
   {
    "duration": 4,
    "start_time": "2022-09-20T08:34:38.225Z"
   },
   {
    "duration": 5,
    "start_time": "2022-09-20T08:35:16.791Z"
   },
   {
    "duration": 766,
    "start_time": "2022-09-20T08:35:54.191Z"
   },
   {
    "duration": 774,
    "start_time": "2022-09-20T08:36:05.825Z"
   },
   {
    "duration": 4,
    "start_time": "2022-09-20T08:36:27.120Z"
   },
   {
    "duration": 4,
    "start_time": "2022-09-20T08:36:31.685Z"
   },
   {
    "duration": 3,
    "start_time": "2022-09-20T08:37:04.657Z"
   },
   {
    "duration": 3,
    "start_time": "2022-09-20T08:37:07.360Z"
   },
   {
    "duration": 111,
    "start_time": "2022-09-20T08:38:17.448Z"
   },
   {
    "duration": 762,
    "start_time": "2022-09-20T08:38:21.538Z"
   },
   {
    "duration": 7,
    "start_time": "2022-09-20T08:38:33.827Z"
   },
   {
    "duration": 21655,
    "start_time": "2022-09-20T08:38:35.347Z"
   },
   {
    "duration": 5,
    "start_time": "2022-09-20T08:39:06.720Z"
   },
   {
    "duration": 2512,
    "start_time": "2022-09-20T08:39:06.947Z"
   },
   {
    "duration": 24,
    "start_time": "2022-09-20T08:39:10.541Z"
   },
   {
    "duration": 22,
    "start_time": "2022-09-20T08:39:22.732Z"
   },
   {
    "duration": 2158,
    "start_time": "2022-09-20T11:23:54.016Z"
   },
   {
    "duration": 208,
    "start_time": "2022-09-20T11:23:56.176Z"
   },
   {
    "duration": 17,
    "start_time": "2022-09-20T11:23:56.386Z"
   },
   {
    "duration": 11,
    "start_time": "2022-09-20T11:23:56.404Z"
   },
   {
    "duration": 14,
    "start_time": "2022-09-20T11:23:56.417Z"
   },
   {
    "duration": 16,
    "start_time": "2022-09-20T11:23:56.432Z"
   },
   {
    "duration": 89,
    "start_time": "2022-09-20T11:23:56.450Z"
   },
   {
    "duration": 8,
    "start_time": "2022-09-20T11:23:56.541Z"
   },
   {
    "duration": 10,
    "start_time": "2022-09-20T11:23:56.551Z"
   },
   {
    "duration": 4,
    "start_time": "2022-09-20T11:23:56.563Z"
   },
   {
    "duration": 9,
    "start_time": "2022-09-20T11:23:56.569Z"
   },
   {
    "duration": 211,
    "start_time": "2022-09-20T11:23:56.580Z"
   },
   {
    "duration": 10,
    "start_time": "2022-09-20T11:23:56.794Z"
   },
   {
    "duration": 4,
    "start_time": "2022-09-20T11:23:56.820Z"
   },
   {
    "duration": 15,
    "start_time": "2022-09-20T11:23:56.826Z"
   },
   {
    "duration": 21,
    "start_time": "2022-09-20T11:23:56.843Z"
   },
   {
    "duration": 11,
    "start_time": "2022-09-20T11:23:56.866Z"
   },
   {
    "duration": 54,
    "start_time": "2022-09-20T11:23:56.878Z"
   },
   {
    "duration": 6,
    "start_time": "2022-09-20T11:23:56.934Z"
   },
   {
    "duration": 87,
    "start_time": "2022-09-20T11:23:56.943Z"
   },
   {
    "duration": 48,
    "start_time": "2022-09-20T11:23:57.032Z"
   },
   {
    "duration": 3,
    "start_time": "2022-09-20T11:23:57.120Z"
   },
   {
    "duration": 145,
    "start_time": "2022-09-20T11:23:57.126Z"
   },
   {
    "duration": 0,
    "start_time": "2022-09-20T11:23:57.273Z"
   },
   {
    "duration": 0,
    "start_time": "2022-09-20T11:23:57.276Z"
   },
   {
    "duration": 0,
    "start_time": "2022-09-20T11:23:57.277Z"
   },
   {
    "duration": 0,
    "start_time": "2022-09-20T11:23:57.279Z"
   },
   {
    "duration": 0,
    "start_time": "2022-09-20T11:23:57.280Z"
   },
   {
    "duration": 0,
    "start_time": "2022-09-20T11:23:57.282Z"
   },
   {
    "duration": 0,
    "start_time": "2022-09-20T11:23:57.283Z"
   },
   {
    "duration": 0,
    "start_time": "2022-09-20T11:23:57.285Z"
   },
   {
    "duration": 0,
    "start_time": "2022-09-20T11:23:57.287Z"
   },
   {
    "duration": 1885,
    "start_time": "2022-09-20T11:24:56.548Z"
   },
   {
    "duration": 64,
    "start_time": "2022-09-20T11:24:58.435Z"
   },
   {
    "duration": 21,
    "start_time": "2022-09-20T11:24:58.501Z"
   },
   {
    "duration": 11,
    "start_time": "2022-09-20T11:24:58.525Z"
   },
   {
    "duration": 22,
    "start_time": "2022-09-20T11:24:58.538Z"
   },
   {
    "duration": 15,
    "start_time": "2022-09-20T11:24:58.562Z"
   },
   {
    "duration": 66,
    "start_time": "2022-09-20T11:24:58.579Z"
   },
   {
    "duration": 8,
    "start_time": "2022-09-20T11:24:58.646Z"
   },
   {
    "duration": 11,
    "start_time": "2022-09-20T11:24:58.656Z"
   },
   {
    "duration": 5,
    "start_time": "2022-09-20T11:24:58.669Z"
   },
   {
    "duration": 51,
    "start_time": "2022-09-20T11:24:58.675Z"
   },
   {
    "duration": 194,
    "start_time": "2022-09-20T11:24:58.728Z"
   },
   {
    "duration": 16,
    "start_time": "2022-09-20T11:24:58.925Z"
   },
   {
    "duration": 17,
    "start_time": "2022-09-20T11:24:58.944Z"
   },
   {
    "duration": 23,
    "start_time": "2022-09-20T11:24:58.964Z"
   },
   {
    "duration": 37,
    "start_time": "2022-09-20T11:24:58.989Z"
   },
   {
    "duration": 13,
    "start_time": "2022-09-20T11:24:59.028Z"
   },
   {
    "duration": 37,
    "start_time": "2022-09-20T11:24:59.044Z"
   },
   {
    "duration": 9,
    "start_time": "2022-09-20T11:24:59.083Z"
   },
   {
    "duration": 100,
    "start_time": "2022-09-20T11:24:59.121Z"
   },
   {
    "duration": 42,
    "start_time": "2022-09-20T11:24:59.223Z"
   },
   {
    "duration": 3,
    "start_time": "2022-09-20T11:24:59.266Z"
   },
   {
    "duration": 179,
    "start_time": "2022-09-20T11:24:59.270Z"
   },
   {
    "duration": 0,
    "start_time": "2022-09-20T11:24:59.451Z"
   },
   {
    "duration": 0,
    "start_time": "2022-09-20T11:24:59.454Z"
   },
   {
    "duration": 0,
    "start_time": "2022-09-20T11:24:59.455Z"
   },
   {
    "duration": 0,
    "start_time": "2022-09-20T11:24:59.457Z"
   },
   {
    "duration": 0,
    "start_time": "2022-09-20T11:24:59.459Z"
   },
   {
    "duration": 0,
    "start_time": "2022-09-20T11:24:59.460Z"
   },
   {
    "duration": 0,
    "start_time": "2022-09-20T11:24:59.462Z"
   },
   {
    "duration": 0,
    "start_time": "2022-09-20T11:24:59.463Z"
   },
   {
    "duration": 0,
    "start_time": "2022-09-20T11:24:59.464Z"
   },
   {
    "duration": 14,
    "start_time": "2022-09-20T11:25:22.175Z"
   },
   {
    "duration": 245,
    "start_time": "2022-09-20T11:26:08.006Z"
   },
   {
    "duration": 1903,
    "start_time": "2022-09-20T11:26:16.275Z"
   },
   {
    "duration": 75,
    "start_time": "2022-09-20T11:26:18.180Z"
   },
   {
    "duration": 17,
    "start_time": "2022-09-20T11:26:18.257Z"
   },
   {
    "duration": 10,
    "start_time": "2022-09-20T11:26:18.276Z"
   },
   {
    "duration": 41,
    "start_time": "2022-09-20T11:26:18.288Z"
   },
   {
    "duration": 17,
    "start_time": "2022-09-20T11:26:18.335Z"
   },
   {
    "duration": 76,
    "start_time": "2022-09-20T11:26:18.354Z"
   },
   {
    "duration": 9,
    "start_time": "2022-09-20T11:26:18.432Z"
   },
   {
    "duration": 12,
    "start_time": "2022-09-20T11:26:18.442Z"
   },
   {
    "duration": 3,
    "start_time": "2022-09-20T11:26:18.457Z"
   },
   {
    "duration": 11,
    "start_time": "2022-09-20T11:26:18.461Z"
   },
   {
    "duration": 225,
    "start_time": "2022-09-20T11:26:18.474Z"
   },
   {
    "duration": 24,
    "start_time": "2022-09-20T11:26:18.701Z"
   },
   {
    "duration": 6,
    "start_time": "2022-09-20T11:26:18.728Z"
   },
   {
    "duration": 18,
    "start_time": "2022-09-20T11:26:18.735Z"
   },
   {
    "duration": 21,
    "start_time": "2022-09-20T11:26:18.754Z"
   },
   {
    "duration": 10,
    "start_time": "2022-09-20T11:26:18.777Z"
   },
   {
    "duration": 65,
    "start_time": "2022-09-20T11:26:18.789Z"
   },
   {
    "duration": 9,
    "start_time": "2022-09-20T11:26:18.856Z"
   },
   {
    "duration": 86,
    "start_time": "2022-09-20T11:26:18.867Z"
   },
   {
    "duration": 84,
    "start_time": "2022-09-20T11:26:18.955Z"
   },
   {
    "duration": 3,
    "start_time": "2022-09-20T11:26:19.041Z"
   },
   {
    "duration": 796,
    "start_time": "2022-09-20T11:26:19.046Z"
   },
   {
    "duration": 10,
    "start_time": "2022-09-20T11:26:19.844Z"
   },
   {
    "duration": 20878,
    "start_time": "2022-09-20T11:26:19.856Z"
   },
   {
    "duration": 14288,
    "start_time": "2022-09-20T11:26:40.737Z"
   },
   {
    "duration": 12314,
    "start_time": "2022-09-20T11:26:55.030Z"
   },
   {
    "duration": 4,
    "start_time": "2022-09-20T11:27:07.347Z"
   },
   {
    "duration": 2204,
    "start_time": "2022-09-20T11:27:07.352Z"
   },
   {
    "duration": 19,
    "start_time": "2022-09-20T11:27:09.558Z"
   },
   {
    "duration": 8,
    "start_time": "2022-09-20T11:27:09.578Z"
   },
   {
    "duration": 34,
    "start_time": "2022-09-20T11:27:09.588Z"
   },
   {
    "duration": 4,
    "start_time": "2022-09-20T11:31:41.688Z"
   },
   {
    "duration": 1902,
    "start_time": "2022-09-20T11:32:27.788Z"
   },
   {
    "duration": 8,
    "start_time": "2022-09-20T11:32:43.720Z"
   },
   {
    "duration": 6,
    "start_time": "2022-09-20T11:32:51.027Z"
   },
   {
    "duration": 4,
    "start_time": "2022-09-20T11:33:54.082Z"
   },
   {
    "duration": 1864,
    "start_time": "2022-09-20T11:33:54.280Z"
   },
   {
    "duration": 6,
    "start_time": "2022-09-20T11:33:56.147Z"
   },
   {
    "duration": 41,
    "start_time": "2022-09-20T11:39:53.846Z"
   },
   {
    "duration": 2017,
    "start_time": "2022-09-20T11:40:23.592Z"
   },
   {
    "duration": 20,
    "start_time": "2022-09-20T11:41:00.379Z"
   },
   {
    "duration": 31,
    "start_time": "2022-09-20T11:41:09.622Z"
   },
   {
    "duration": 38,
    "start_time": "2022-09-20T11:41:23.610Z"
   },
   {
    "duration": 20,
    "start_time": "2022-09-20T11:42:14.454Z"
   },
   {
    "duration": 26,
    "start_time": "2022-09-20T11:42:21.124Z"
   },
   {
    "duration": 12,
    "start_time": "2022-09-20T11:42:33.132Z"
   },
   {
    "duration": 4,
    "start_time": "2022-09-20T11:43:29.424Z"
   },
   {
    "duration": 11,
    "start_time": "2022-09-20T11:43:43.188Z"
   },
   {
    "duration": 4,
    "start_time": "2022-09-20T11:43:50.300Z"
   },
   {
    "duration": 4,
    "start_time": "2022-09-20T11:43:54.350Z"
   },
   {
    "duration": 4,
    "start_time": "2022-09-20T11:44:27.431Z"
   },
   {
    "duration": 12,
    "start_time": "2022-09-20T11:44:39.554Z"
   },
   {
    "duration": 4,
    "start_time": "2022-09-20T11:44:44.785Z"
   },
   {
    "duration": 6,
    "start_time": "2022-09-20T11:44:49.218Z"
   },
   {
    "duration": 5,
    "start_time": "2022-09-20T11:44:53.411Z"
   },
   {
    "duration": 5,
    "start_time": "2022-09-20T11:45:14.382Z"
   },
   {
    "duration": 74,
    "start_time": "2022-09-20T11:45:22.062Z"
   },
   {
    "duration": 4,
    "start_time": "2022-09-20T11:45:29.234Z"
   },
   {
    "duration": 4,
    "start_time": "2022-09-20T11:46:29.716Z"
   },
   {
    "duration": 1895,
    "start_time": "2022-09-20T11:46:30.005Z"
   },
   {
    "duration": 26,
    "start_time": "2022-09-20T11:46:31.902Z"
   },
   {
    "duration": 4,
    "start_time": "2022-09-20T11:47:14.583Z"
   },
   {
    "duration": 2018,
    "start_time": "2022-09-20T11:47:14.884Z"
   },
   {
    "duration": 27,
    "start_time": "2022-09-20T11:47:16.904Z"
   },
   {
    "duration": 5,
    "start_time": "2022-09-20T11:47:37.892Z"
   },
   {
    "duration": 53,
    "start_time": "2022-09-20T11:50:08.937Z"
   },
   {
    "duration": 5,
    "start_time": "2022-09-20T11:51:27.288Z"
   },
   {
    "duration": 5,
    "start_time": "2022-09-20T11:52:14.911Z"
   },
   {
    "duration": 5,
    "start_time": "2022-09-20T11:52:58.683Z"
   },
   {
    "duration": 5,
    "start_time": "2022-09-20T11:53:05.236Z"
   },
   {
    "duration": 4,
    "start_time": "2022-09-20T11:53:50.735Z"
   },
   {
    "duration": 4,
    "start_time": "2022-09-20T11:54:00.358Z"
   },
   {
    "duration": 4,
    "start_time": "2022-09-20T11:56:30.962Z"
   },
   {
    "duration": 5,
    "start_time": "2022-09-20T11:56:47.002Z"
   },
   {
    "duration": 5,
    "start_time": "2022-09-20T11:56:59.547Z"
   },
   {
    "duration": 53,
    "start_time": "2022-09-20T11:57:41.551Z"
   },
   {
    "duration": 60,
    "start_time": "2022-09-20T11:57:48.900Z"
   },
   {
    "duration": 69,
    "start_time": "2022-09-20T11:57:58.702Z"
   },
   {
    "duration": 46,
    "start_time": "2022-09-20T11:58:01.503Z"
   },
   {
    "duration": 4,
    "start_time": "2022-09-20T11:58:09.748Z"
   },
   {
    "duration": 54,
    "start_time": "2022-09-20T11:58:43.745Z"
   },
   {
    "duration": 61,
    "start_time": "2022-09-20T11:58:56.696Z"
   },
   {
    "duration": 50,
    "start_time": "2022-09-20T11:59:28.654Z"
   },
   {
    "duration": 5,
    "start_time": "2022-09-20T12:00:21.197Z"
   },
   {
    "duration": 4,
    "start_time": "2022-09-20T12:00:27.277Z"
   },
   {
    "duration": 3,
    "start_time": "2022-09-20T12:00:46.845Z"
   },
   {
    "duration": 1918,
    "start_time": "2022-09-20T12:00:47.316Z"
   },
   {
    "duration": 6,
    "start_time": "2022-09-20T12:00:50.253Z"
   },
   {
    "duration": 126,
    "start_time": "2022-09-20T12:01:22.814Z"
   },
   {
    "duration": 1728,
    "start_time": "2022-09-20T12:01:23.052Z"
   },
   {
    "duration": 4,
    "start_time": "2022-09-20T12:01:28.191Z"
   },
   {
    "duration": 1789,
    "start_time": "2022-09-20T12:01:28.977Z"
   },
   {
    "duration": 6,
    "start_time": "2022-09-20T12:01:31.587Z"
   },
   {
    "duration": 3,
    "start_time": "2022-09-20T12:02:14.783Z"
   },
   {
    "duration": 2366,
    "start_time": "2022-09-20T12:02:15.564Z"
   },
   {
    "duration": 6,
    "start_time": "2022-09-20T12:02:17.932Z"
   },
   {
    "duration": 3,
    "start_time": "2022-09-20T12:05:46.180Z"
   },
   {
    "duration": 1929,
    "start_time": "2022-09-20T12:05:46.647Z"
   },
   {
    "duration": 6,
    "start_time": "2022-09-20T12:05:50.363Z"
   },
   {
    "duration": 85,
    "start_time": "2022-09-20T12:06:07.342Z"
   },
   {
    "duration": 3,
    "start_time": "2022-09-20T12:06:13.011Z"
   },
   {
    "duration": 5,
    "start_time": "2022-09-20T12:08:44.593Z"
   },
   {
    "duration": 5,
    "start_time": "2022-09-20T12:08:59.879Z"
   },
   {
    "duration": 3,
    "start_time": "2022-09-20T12:11:06.019Z"
   },
   {
    "duration": 1719,
    "start_time": "2022-09-20T12:11:07.101Z"
   },
   {
    "duration": 6,
    "start_time": "2022-09-20T12:11:09.706Z"
   },
   {
    "duration": 3,
    "start_time": "2022-09-20T12:11:22.306Z"
   },
   {
    "duration": 5,
    "start_time": "2022-09-20T12:36:44.980Z"
   },
   {
    "duration": 5,
    "start_time": "2022-09-20T12:37:27.109Z"
   },
   {
    "duration": 5,
    "start_time": "2022-09-20T12:41:23.034Z"
   },
   {
    "duration": 5,
    "start_time": "2022-09-20T12:41:51.534Z"
   },
   {
    "duration": 5,
    "start_time": "2022-09-20T12:42:27.436Z"
   },
   {
    "duration": 6,
    "start_time": "2022-09-20T12:43:03.536Z"
   },
   {
    "duration": 93,
    "start_time": "2022-09-20T12:48:11.399Z"
   },
   {
    "duration": 4,
    "start_time": "2022-09-20T12:48:23.802Z"
   },
   {
    "duration": 4,
    "start_time": "2022-09-20T12:48:30.550Z"
   },
   {
    "duration": 5,
    "start_time": "2022-09-20T12:49:42.314Z"
   },
   {
    "duration": 3,
    "start_time": "2022-09-20T12:49:42.680Z"
   },
   {
    "duration": 2196,
    "start_time": "2022-09-20T12:49:43.099Z"
   },
   {
    "duration": 6,
    "start_time": "2022-09-20T12:49:47.588Z"
   },
   {
    "duration": 39,
    "start_time": "2022-09-20T12:49:55.851Z"
   },
   {
    "duration": 12,
    "start_time": "2022-09-20T12:50:54.776Z"
   },
   {
    "duration": 5,
    "start_time": "2022-09-20T12:52:44.348Z"
   },
   {
    "duration": 2,
    "start_time": "2022-09-20T12:52:44.814Z"
   },
   {
    "duration": 2248,
    "start_time": "2022-09-20T12:52:45.573Z"
   },
   {
    "duration": 5,
    "start_time": "2022-09-20T12:52:49.454Z"
   },
   {
    "duration": 8,
    "start_time": "2022-09-20T12:53:28.135Z"
   },
   {
    "duration": 4,
    "start_time": "2022-09-20T12:54:52.402Z"
   },
   {
    "duration": 2,
    "start_time": "2022-09-20T12:54:52.777Z"
   },
   {
    "duration": 536,
    "start_time": "2022-09-20T12:54:53.081Z"
   },
   {
    "duration": 5,
    "start_time": "2022-09-20T12:55:12.052Z"
   },
   {
    "duration": 3,
    "start_time": "2022-09-20T12:55:12.588Z"
   },
   {
    "duration": 2180,
    "start_time": "2022-09-20T12:55:12.808Z"
   },
   {
    "duration": 6,
    "start_time": "2022-09-20T12:55:14.990Z"
   },
   {
    "duration": 5,
    "start_time": "2022-09-20T12:55:46.415Z"
   },
   {
    "duration": 2,
    "start_time": "2022-09-20T12:55:46.674Z"
   },
   {
    "duration": 2233,
    "start_time": "2022-09-20T12:55:47.434Z"
   },
   {
    "duration": 7,
    "start_time": "2022-09-20T12:55:49.668Z"
   },
   {
    "duration": 4,
    "start_time": "2022-09-20T12:56:26.882Z"
   },
   {
    "duration": 2,
    "start_time": "2022-09-20T12:56:27.157Z"
   },
   {
    "duration": 2168,
    "start_time": "2022-09-20T12:56:27.441Z"
   },
   {
    "duration": 6,
    "start_time": "2022-09-20T12:56:29.621Z"
   },
   {
    "duration": 4,
    "start_time": "2022-09-20T12:56:46.026Z"
   },
   {
    "duration": 4,
    "start_time": "2022-09-20T12:56:50.490Z"
   },
   {
    "duration": 4,
    "start_time": "2022-09-20T12:56:55.909Z"
   },
   {
    "duration": 5,
    "start_time": "2022-09-20T12:57:19.047Z"
   },
   {
    "duration": 11,
    "start_time": "2022-09-20T12:57:25.184Z"
   },
   {
    "duration": 4,
    "start_time": "2022-09-20T12:57:28.807Z"
   },
   {
    "duration": 12,
    "start_time": "2022-09-20T12:58:40.315Z"
   },
   {
    "duration": 568,
    "start_time": "2022-09-20T12:58:51.480Z"
   },
   {
    "duration": 41,
    "start_time": "2022-09-20T12:58:59.634Z"
   },
   {
    "duration": 4,
    "start_time": "2022-09-20T13:00:13.086Z"
   },
   {
    "duration": 3,
    "start_time": "2022-09-20T13:00:14.269Z"
   },
   {
    "duration": 825,
    "start_time": "2022-09-20T13:00:14.625Z"
   },
   {
    "duration": 4,
    "start_time": "2022-09-20T13:00:24.927Z"
   },
   {
    "duration": 3,
    "start_time": "2022-09-20T13:00:26.274Z"
   },
   {
    "duration": 2323,
    "start_time": "2022-09-20T13:00:26.520Z"
   },
   {
    "duration": 6,
    "start_time": "2022-09-20T13:00:33.815Z"
   },
   {
    "duration": 38,
    "start_time": "2022-09-20T13:00:34.843Z"
   },
   {
    "duration": 12,
    "start_time": "2022-09-20T13:00:39.872Z"
   },
   {
    "duration": 5,
    "start_time": "2022-09-20T13:00:40.204Z"
   },
   {
    "duration": 6,
    "start_time": "2022-09-20T13:00:53.446Z"
   },
   {
    "duration": 4,
    "start_time": "2022-09-20T13:01:47.934Z"
   },
   {
    "duration": 21,
    "start_time": "2022-09-20T13:01:47.940Z"
   },
   {
    "duration": 3619,
    "start_time": "2022-09-20T13:01:47.963Z"
   },
   {
    "duration": 7,
    "start_time": "2022-09-20T13:01:51.584Z"
   },
   {
    "duration": 38,
    "start_time": "2022-09-20T13:01:51.621Z"
   },
   {
    "duration": 9,
    "start_time": "2022-09-20T13:01:51.662Z"
   },
   {
    "duration": 11,
    "start_time": "2022-09-20T13:01:51.673Z"
   },
   {
    "duration": 6,
    "start_time": "2022-09-20T13:01:51.722Z"
   },
   {
    "duration": 5,
    "start_time": "2022-09-20T13:02:07.187Z"
   },
   {
    "duration": 3,
    "start_time": "2022-09-20T13:02:07.596Z"
   },
   {
    "duration": 3677,
    "start_time": "2022-09-20T13:02:08.479Z"
   },
   {
    "duration": 6,
    "start_time": "2022-09-20T13:02:12.158Z"
   },
   {
    "duration": 76,
    "start_time": "2022-09-20T13:02:12.166Z"
   },
   {
    "duration": 11,
    "start_time": "2022-09-20T13:02:12.244Z"
   },
   {
    "duration": 7,
    "start_time": "2022-09-20T13:02:12.257Z"
   },
   {
    "duration": 9,
    "start_time": "2022-09-20T13:02:12.266Z"
   },
   {
    "duration": 6,
    "start_time": "2022-09-20T13:03:05.139Z"
   },
   {
    "duration": 3,
    "start_time": "2022-09-20T13:03:05.458Z"
   },
   {
    "duration": 2670,
    "start_time": "2022-09-20T13:03:06.038Z"
   },
   {
    "duration": 7,
    "start_time": "2022-09-20T13:03:08.720Z"
   },
   {
    "duration": 31,
    "start_time": "2022-09-20T13:03:08.729Z"
   },
   {
    "duration": 10,
    "start_time": "2022-09-20T13:03:08.762Z"
   },
   {
    "duration": 50,
    "start_time": "2022-09-20T13:03:08.774Z"
   },
   {
    "duration": 10,
    "start_time": "2022-09-20T13:03:08.826Z"
   },
   {
    "duration": 4,
    "start_time": "2022-09-20T13:03:45.541Z"
   },
   {
    "duration": 3,
    "start_time": "2022-09-20T13:03:47.940Z"
   },
   {
    "duration": 2505,
    "start_time": "2022-09-20T13:03:47.946Z"
   },
   {
    "duration": 6,
    "start_time": "2022-09-20T13:03:50.453Z"
   },
   {
    "duration": 4,
    "start_time": "2022-09-20T13:04:38.146Z"
   },
   {
    "duration": 2089,
    "start_time": "2022-09-20T13:04:48.869Z"
   },
   {
    "duration": 8,
    "start_time": "2022-09-20T13:04:51.527Z"
   },
   {
    "duration": 4,
    "start_time": "2022-09-20T13:05:30.973Z"
   },
   {
    "duration": 5,
    "start_time": "2022-09-20T13:07:43.572Z"
   },
   {
    "duration": 3,
    "start_time": "2022-09-20T13:07:43.842Z"
   },
   {
    "duration": 3,
    "start_time": "2022-09-20T13:07:48.214Z"
   },
   {
    "duration": 2412,
    "start_time": "2022-09-20T13:07:48.538Z"
   },
   {
    "duration": 6,
    "start_time": "2022-09-20T13:07:50.952Z"
   },
   {
    "duration": 36,
    "start_time": "2022-09-20T13:08:01.116Z"
   },
   {
    "duration": 10,
    "start_time": "2022-09-20T13:08:06.645Z"
   },
   {
    "duration": 60,
    "start_time": "2022-09-20T13:08:18.307Z"
   },
   {
    "duration": 52,
    "start_time": "2022-09-20T13:08:22.373Z"
   },
   {
    "duration": 4,
    "start_time": "2022-09-20T13:09:39.525Z"
   },
   {
    "duration": 3,
    "start_time": "2022-09-20T13:09:39.792Z"
   },
   {
    "duration": 3,
    "start_time": "2022-09-20T13:09:40.020Z"
   },
   {
    "duration": 2257,
    "start_time": "2022-09-20T13:09:40.241Z"
   },
   {
    "duration": 21,
    "start_time": "2022-09-20T13:09:42.500Z"
   },
   {
    "duration": 52,
    "start_time": "2022-09-20T13:10:06.809Z"
   },
   {
    "duration": 11,
    "start_time": "2022-09-20T13:10:14.114Z"
   },
   {
    "duration": 2153,
    "start_time": "2022-09-20T13:10:58.022Z"
   },
   {
    "duration": 70,
    "start_time": "2022-09-20T13:11:00.177Z"
   },
   {
    "duration": 18,
    "start_time": "2022-09-20T13:11:00.250Z"
   },
   {
    "duration": 23,
    "start_time": "2022-09-20T13:11:00.270Z"
   },
   {
    "duration": 23,
    "start_time": "2022-09-20T13:11:00.295Z"
   },
   {
    "duration": 32,
    "start_time": "2022-09-20T13:11:00.321Z"
   },
   {
    "duration": 66,
    "start_time": "2022-09-20T13:11:00.355Z"
   },
   {
    "duration": 9,
    "start_time": "2022-09-20T13:11:00.423Z"
   },
   {
    "duration": 27,
    "start_time": "2022-09-20T13:11:00.434Z"
   },
   {
    "duration": 5,
    "start_time": "2022-09-20T13:11:00.464Z"
   },
   {
    "duration": 15,
    "start_time": "2022-09-20T13:11:00.471Z"
   },
   {
    "duration": 208,
    "start_time": "2022-09-20T13:11:00.488Z"
   },
   {
    "duration": 24,
    "start_time": "2022-09-20T13:11:00.698Z"
   },
   {
    "duration": 24,
    "start_time": "2022-09-20T13:11:00.724Z"
   },
   {
    "duration": 44,
    "start_time": "2022-09-20T13:11:00.751Z"
   },
   {
    "duration": 37,
    "start_time": "2022-09-20T13:11:00.797Z"
   },
   {
    "duration": 21,
    "start_time": "2022-09-20T13:11:00.836Z"
   },
   {
    "duration": 51,
    "start_time": "2022-09-20T13:11:00.859Z"
   },
   {
    "duration": 14,
    "start_time": "2022-09-20T13:11:00.913Z"
   },
   {
    "duration": 94,
    "start_time": "2022-09-20T13:11:00.929Z"
   },
   {
    "duration": 41,
    "start_time": "2022-09-20T13:11:01.025Z"
   },
   {
    "duration": 22,
    "start_time": "2022-09-20T13:11:01.069Z"
   },
   {
    "duration": 742,
    "start_time": "2022-09-20T13:11:01.094Z"
   },
   {
    "duration": 10,
    "start_time": "2022-09-20T13:11:01.839Z"
   },
   {
    "duration": 21072,
    "start_time": "2022-09-20T13:11:01.851Z"
   },
   {
    "duration": 10355,
    "start_time": "2022-09-20T13:11:22.924Z"
   },
   {
    "duration": 12646,
    "start_time": "2022-09-20T13:11:33.281Z"
   },
   {
    "duration": 4,
    "start_time": "2022-09-20T13:11:45.931Z"
   },
   {
    "duration": 28,
    "start_time": "2022-09-20T13:11:45.937Z"
   },
   {
    "duration": 23,
    "start_time": "2022-09-20T13:11:45.967Z"
   },
   {
    "duration": 2448,
    "start_time": "2022-09-20T13:11:45.992Z"
   },
   {
    "duration": 8,
    "start_time": "2022-09-20T13:11:48.443Z"
   },
   {
    "duration": 80,
    "start_time": "2022-09-20T13:11:48.453Z"
   },
   {
    "duration": 776,
    "start_time": "2022-09-20T13:14:05.922Z"
   },
   {
    "duration": 1928,
    "start_time": "2022-09-20T18:28:00.494Z"
   },
   {
    "duration": 197,
    "start_time": "2022-09-20T18:28:02.424Z"
   },
   {
    "duration": 15,
    "start_time": "2022-09-20T18:28:02.623Z"
   },
   {
    "duration": 9,
    "start_time": "2022-09-20T18:28:02.640Z"
   },
   {
    "duration": 12,
    "start_time": "2022-09-20T18:28:02.651Z"
   },
   {
    "duration": 16,
    "start_time": "2022-09-20T18:28:02.665Z"
   },
   {
    "duration": 71,
    "start_time": "2022-09-20T18:28:02.682Z"
   },
   {
    "duration": 7,
    "start_time": "2022-09-20T18:28:02.755Z"
   },
   {
    "duration": 12,
    "start_time": "2022-09-20T18:28:02.763Z"
   },
   {
    "duration": 3,
    "start_time": "2022-09-20T18:28:02.776Z"
   },
   {
    "duration": 44,
    "start_time": "2022-09-20T18:28:02.781Z"
   },
   {
    "duration": 150,
    "start_time": "2022-09-20T18:28:02.826Z"
   },
   {
    "duration": 10,
    "start_time": "2022-09-20T18:28:02.977Z"
   },
   {
    "duration": 3,
    "start_time": "2022-09-20T18:28:02.990Z"
   },
   {
    "duration": 28,
    "start_time": "2022-09-20T18:28:02.994Z"
   },
   {
    "duration": 20,
    "start_time": "2022-09-20T18:28:03.024Z"
   },
   {
    "duration": 11,
    "start_time": "2022-09-20T18:28:03.046Z"
   },
   {
    "duration": 28,
    "start_time": "2022-09-20T18:28:03.059Z"
   },
   {
    "duration": 33,
    "start_time": "2022-09-20T18:28:03.089Z"
   },
   {
    "duration": 44,
    "start_time": "2022-09-20T18:28:03.124Z"
   },
   {
    "duration": 66,
    "start_time": "2022-09-20T18:28:03.169Z"
   },
   {
    "duration": 2,
    "start_time": "2022-09-20T18:28:03.237Z"
   },
   {
    "duration": 655,
    "start_time": "2022-09-20T18:28:03.241Z"
   },
   {
    "duration": 10,
    "start_time": "2022-09-20T18:28:03.898Z"
   },
   {
    "duration": 20188,
    "start_time": "2022-09-20T18:28:03.909Z"
   },
   {
    "duration": 9961,
    "start_time": "2022-09-20T18:28:24.099Z"
   },
   {
    "duration": 12446,
    "start_time": "2022-09-20T18:28:34.061Z"
   },
   {
    "duration": 4,
    "start_time": "2022-09-20T18:28:46.508Z"
   },
   {
    "duration": 2031,
    "start_time": "2022-09-20T18:28:46.514Z"
   },
   {
    "duration": 5,
    "start_time": "2022-09-20T18:28:48.547Z"
   },
   {
    "duration": 34,
    "start_time": "2022-09-20T18:28:48.554Z"
   },
   {
    "duration": 16,
    "start_time": "2022-09-20T18:42:47.930Z"
   },
   {
    "duration": 5,
    "start_time": "2022-09-20T18:43:29.109Z"
   },
   {
    "duration": 4,
    "start_time": "2022-09-20T18:43:35.663Z"
   },
   {
    "duration": 3,
    "start_time": "2022-09-20T18:43:42.647Z"
   },
   {
    "duration": 5,
    "start_time": "2022-09-20T18:43:47.899Z"
   },
   {
    "duration": 34,
    "start_time": "2022-09-20T18:44:11.027Z"
   },
   {
    "duration": 1108,
    "start_time": "2022-09-20T18:49:42.499Z"
   },
   {
    "duration": 9,
    "start_time": "2022-09-20T18:50:47.579Z"
   },
   {
    "duration": 10,
    "start_time": "2022-09-20T18:50:52.588Z"
   },
   {
    "duration": 120,
    "start_time": "2022-09-20T18:50:54.707Z"
   },
   {
    "duration": 217,
    "start_time": "2022-09-20T18:51:19.459Z"
   },
   {
    "duration": 4,
    "start_time": "2022-09-20T18:51:51.318Z"
   },
   {
    "duration": 633,
    "start_time": "2022-09-20T18:51:57.273Z"
   },
   {
    "duration": 121,
    "start_time": "2022-09-20T18:52:15.404Z"
   },
   {
    "duration": 1064,
    "start_time": "2022-09-20T18:53:40.344Z"
   },
   {
    "duration": 16,
    "start_time": "2022-09-20T18:54:01.002Z"
   },
   {
    "duration": 11,
    "start_time": "2022-09-20T18:55:54.590Z"
   },
   {
    "duration": 10,
    "start_time": "2022-09-20T18:55:57.841Z"
   },
   {
    "duration": 1094,
    "start_time": "2022-09-20T18:56:11.344Z"
   },
   {
    "duration": 809,
    "start_time": "2022-09-20T18:58:32.738Z"
   },
   {
    "duration": 1174,
    "start_time": "2022-09-20T19:12:00.190Z"
   },
   {
    "duration": 20,
    "start_time": "2022-09-20T19:12:08.833Z"
   },
   {
    "duration": 1098,
    "start_time": "2022-09-20T19:13:40.647Z"
   },
   {
    "duration": 12,
    "start_time": "2022-09-20T19:13:49.873Z"
   },
   {
    "duration": 1103,
    "start_time": "2022-09-20T19:14:43.439Z"
   },
   {
    "duration": 12,
    "start_time": "2022-09-20T19:14:44.544Z"
   },
   {
    "duration": 3330,
    "start_time": "2022-09-20T19:14:52.963Z"
   },
   {
    "duration": 11,
    "start_time": "2022-09-20T19:14:56.295Z"
   },
   {
    "duration": 2001,
    "start_time": "2022-09-20T19:15:12.539Z"
   },
   {
    "duration": 4,
    "start_time": "2022-09-20T19:15:14.542Z"
   },
   {
    "duration": 1441,
    "start_time": "2022-09-20T19:15:52.644Z"
   },
   {
    "duration": 671,
    "start_time": "2022-09-20T19:16:33.769Z"
   },
   {
    "duration": 655,
    "start_time": "2022-09-20T19:16:48.270Z"
   },
   {
    "duration": 939,
    "start_time": "2022-09-20T19:16:55.056Z"
   },
   {
    "duration": 1330,
    "start_time": "2022-09-20T19:19:51.373Z"
   },
   {
    "duration": 8,
    "start_time": "2022-09-20T19:20:02.269Z"
   },
   {
    "duration": 14,
    "start_time": "2022-09-20T19:20:18.253Z"
   },
   {
    "duration": 9,
    "start_time": "2022-09-20T19:20:29.636Z"
   },
   {
    "duration": 4,
    "start_time": "2022-09-20T19:22:42.869Z"
   },
   {
    "duration": 535,
    "start_time": "2022-09-20T19:23:08.752Z"
   },
   {
    "duration": 3,
    "start_time": "2022-09-20T19:23:16.079Z"
   },
   {
    "duration": 4,
    "start_time": "2022-09-20T19:23:20.203Z"
   },
   {
    "duration": 3,
    "start_time": "2022-09-20T19:23:20.900Z"
   },
   {
    "duration": 746,
    "start_time": "2022-09-20T19:23:21.470Z"
   },
   {
    "duration": 4,
    "start_time": "2022-09-20T19:24:29.529Z"
   },
   {
    "duration": 9,
    "start_time": "2022-09-20T19:24:33.583Z"
   },
   {
    "duration": 17,
    "start_time": "2022-09-20T19:24:47.063Z"
   },
   {
    "duration": 3,
    "start_time": "2022-09-20T19:25:54.464Z"
   },
   {
    "duration": 7,
    "start_time": "2022-09-20T19:25:58.565Z"
   },
   {
    "duration": 4,
    "start_time": "2022-09-20T19:26:09.346Z"
   },
   {
    "duration": 5,
    "start_time": "2022-09-20T19:29:41.652Z"
   },
   {
    "duration": 1481,
    "start_time": "2022-09-20T19:29:44.142Z"
   },
   {
    "duration": 5,
    "start_time": "2022-09-20T19:30:00.291Z"
   },
   {
    "duration": 1706,
    "start_time": "2022-09-20T19:30:00.791Z"
   },
   {
    "duration": 4,
    "start_time": "2022-09-20T19:30:15.264Z"
   },
   {
    "duration": 1868,
    "start_time": "2022-09-20T19:30:15.745Z"
   },
   {
    "duration": 6,
    "start_time": "2022-09-20T19:31:06.353Z"
   },
   {
    "duration": 1151,
    "start_time": "2022-09-20T19:31:06.953Z"
   },
   {
    "duration": 5,
    "start_time": "2022-09-20T19:32:07.349Z"
   },
   {
    "duration": 686,
    "start_time": "2022-09-20T19:32:07.641Z"
   },
   {
    "duration": 5,
    "start_time": "2022-09-20T19:32:23.541Z"
   },
   {
    "duration": 4,
    "start_time": "2022-09-20T19:32:28.273Z"
   },
   {
    "duration": 1031,
    "start_time": "2022-09-20T19:32:28.749Z"
   },
   {
    "duration": 3,
    "start_time": "2022-09-20T19:32:29.782Z"
   },
   {
    "duration": 10,
    "start_time": "2022-09-20T19:32:29.786Z"
   },
   {
    "duration": 6,
    "start_time": "2022-09-20T19:32:31.042Z"
   },
   {
    "duration": 1761,
    "start_time": "2022-09-21T07:05:58.631Z"
   },
   {
    "duration": 201,
    "start_time": "2022-09-21T07:06:00.394Z"
   },
   {
    "duration": 15,
    "start_time": "2022-09-21T07:06:00.596Z"
   },
   {
    "duration": 20,
    "start_time": "2022-09-21T07:06:00.612Z"
   },
   {
    "duration": 39,
    "start_time": "2022-09-21T07:06:00.634Z"
   },
   {
    "duration": 51,
    "start_time": "2022-09-21T07:06:00.674Z"
   },
   {
    "duration": 48,
    "start_time": "2022-09-21T07:06:00.726Z"
   },
   {
    "duration": 7,
    "start_time": "2022-09-21T07:06:00.775Z"
   },
   {
    "duration": 23,
    "start_time": "2022-09-21T07:06:00.783Z"
   },
   {
    "duration": 3,
    "start_time": "2022-09-21T07:06:00.807Z"
   },
   {
    "duration": 13,
    "start_time": "2022-09-21T07:06:00.811Z"
   },
   {
    "duration": 138,
    "start_time": "2022-09-21T07:06:00.825Z"
   },
   {
    "duration": 10,
    "start_time": "2022-09-21T07:06:00.965Z"
   },
   {
    "duration": 7,
    "start_time": "2022-09-21T07:06:00.978Z"
   },
   {
    "duration": 24,
    "start_time": "2022-09-21T07:06:00.986Z"
   },
   {
    "duration": 31,
    "start_time": "2022-09-21T07:06:01.012Z"
   },
   {
    "duration": 9,
    "start_time": "2022-09-21T07:06:01.045Z"
   },
   {
    "duration": 25,
    "start_time": "2022-09-21T07:06:01.056Z"
   },
   {
    "duration": 19,
    "start_time": "2022-09-21T07:06:01.083Z"
   },
   {
    "duration": 47,
    "start_time": "2022-09-21T07:06:01.103Z"
   },
   {
    "duration": 79,
    "start_time": "2022-09-21T07:06:01.152Z"
   },
   {
    "duration": 3,
    "start_time": "2022-09-21T07:06:01.233Z"
   },
   {
    "duration": 716,
    "start_time": "2022-09-21T07:06:01.238Z"
   },
   {
    "duration": 7,
    "start_time": "2022-09-21T07:06:01.956Z"
   },
   {
    "duration": 20562,
    "start_time": "2022-09-21T07:06:01.964Z"
   },
   {
    "duration": 10095,
    "start_time": "2022-09-21T07:06:22.527Z"
   },
   {
    "duration": 12187,
    "start_time": "2022-09-21T07:06:32.623Z"
   },
   {
    "duration": 4,
    "start_time": "2022-09-21T07:06:44.812Z"
   },
   {
    "duration": 1773,
    "start_time": "2022-09-21T07:06:44.818Z"
   },
   {
    "duration": 6,
    "start_time": "2022-09-21T07:06:46.600Z"
   },
   {
    "duration": 55,
    "start_time": "2022-09-21T07:06:46.607Z"
   },
   {
    "duration": 3428,
    "start_time": "2022-09-21T07:06:46.663Z"
   },
   {
    "duration": 4,
    "start_time": "2022-09-21T07:06:50.092Z"
   },
   {
    "duration": 396,
    "start_time": "2022-09-21T07:06:50.098Z"
   },
   {
    "duration": 4,
    "start_time": "2022-09-21T07:06:50.496Z"
   },
   {
    "duration": 13,
    "start_time": "2022-09-21T07:06:50.502Z"
   },
   {
    "duration": 11,
    "start_time": "2022-09-21T07:06:50.516Z"
   },
   {
    "duration": 4,
    "start_time": "2022-09-21T07:07:49.152Z"
   },
   {
    "duration": 453,
    "start_time": "2022-09-21T07:07:49.721Z"
   },
   {
    "duration": 7,
    "start_time": "2022-09-21T07:09:07.504Z"
   },
   {
    "duration": 6,
    "start_time": "2022-09-21T07:09:20.181Z"
   },
   {
    "duration": 5,
    "start_time": "2022-09-21T07:09:29.286Z"
   },
   {
    "duration": 521,
    "start_time": "2022-09-21T07:09:29.647Z"
   },
   {
    "duration": 4,
    "start_time": "2022-09-21T07:10:12.806Z"
   },
   {
    "duration": 510,
    "start_time": "2022-09-21T07:10:13.311Z"
   },
   {
    "duration": 4,
    "start_time": "2022-09-21T07:10:28.126Z"
   },
   {
    "duration": 475,
    "start_time": "2022-09-21T07:10:29.328Z"
   },
   {
    "duration": 4,
    "start_time": "2022-09-21T07:10:40.780Z"
   },
   {
    "duration": 484,
    "start_time": "2022-09-21T07:10:41.308Z"
   },
   {
    "duration": 5,
    "start_time": "2022-09-21T07:11:00.446Z"
   },
   {
    "duration": 507,
    "start_time": "2022-09-21T07:11:00.860Z"
   },
   {
    "duration": 4,
    "start_time": "2022-09-21T07:11:15.001Z"
   },
   {
    "duration": 476,
    "start_time": "2022-09-21T07:11:15.426Z"
   },
   {
    "duration": 4009,
    "start_time": "2022-09-21T07:13:57.025Z"
   },
   {
    "duration": 4,
    "start_time": "2022-09-21T07:17:40.283Z"
   },
   {
    "duration": 1852,
    "start_time": "2022-09-21T07:17:43.125Z"
   },
   {
    "duration": 6,
    "start_time": "2022-09-21T07:17:46.011Z"
   },
   {
    "duration": 5,
    "start_time": "2022-09-21T07:18:44.333Z"
   },
   {
    "duration": 1419,
    "start_time": "2022-09-21T07:20:34.909Z"
   },
   {
    "duration": 4,
    "start_time": "2022-09-21T07:20:38.552Z"
   },
   {
    "duration": 1519,
    "start_time": "2022-09-21T07:20:44.868Z"
   },
   {
    "duration": 13,
    "start_time": "2022-09-21T07:20:46.389Z"
   },
   {
    "duration": 4,
    "start_time": "2022-09-21T07:27:23.309Z"
   },
   {
    "duration": 1812,
    "start_time": "2022-09-21T07:27:25.253Z"
   },
   {
    "duration": 5,
    "start_time": "2022-09-21T07:27:28.040Z"
   },
   {
    "duration": 30,
    "start_time": "2022-09-21T07:27:43.957Z"
   },
   {
    "duration": 512,
    "start_time": "2022-09-21T07:27:58.326Z"
   },
   {
    "duration": 5,
    "start_time": "2022-09-21T07:31:45.863Z"
   },
   {
    "duration": 1698,
    "start_time": "2022-09-21T07:31:46.719Z"
   },
   {
    "duration": 5,
    "start_time": "2022-09-21T07:31:49.411Z"
   },
   {
    "duration": 31,
    "start_time": "2022-09-21T07:31:52.284Z"
   },
   {
    "duration": 961,
    "start_time": "2022-09-21T07:33:35.059Z"
   },
   {
    "duration": 16,
    "start_time": "2022-09-21T07:33:53.515Z"
   },
   {
    "duration": 103,
    "start_time": "2022-09-21T07:34:44.058Z"
   },
   {
    "duration": 127,
    "start_time": "2022-09-21T07:34:58.411Z"
   },
   {
    "duration": 87,
    "start_time": "2022-09-21T07:35:11.230Z"
   },
   {
    "duration": 6,
    "start_time": "2022-09-21T07:35:55.745Z"
   },
   {
    "duration": 58,
    "start_time": "2022-09-21T07:35:55.753Z"
   },
   {
    "duration": 14,
    "start_time": "2022-09-21T07:35:55.812Z"
   },
   {
    "duration": 9,
    "start_time": "2022-09-21T07:35:55.827Z"
   },
   {
    "duration": 12,
    "start_time": "2022-09-21T07:35:55.837Z"
   },
   {
    "duration": 12,
    "start_time": "2022-09-21T07:35:55.850Z"
   },
   {
    "duration": 71,
    "start_time": "2022-09-21T07:35:55.863Z"
   },
   {
    "duration": 6,
    "start_time": "2022-09-21T07:35:55.936Z"
   },
   {
    "duration": 18,
    "start_time": "2022-09-21T07:35:55.944Z"
   },
   {
    "duration": 3,
    "start_time": "2022-09-21T07:35:55.963Z"
   },
   {
    "duration": 37,
    "start_time": "2022-09-21T07:35:55.967Z"
   },
   {
    "duration": 135,
    "start_time": "2022-09-21T07:35:56.005Z"
   },
   {
    "duration": 10,
    "start_time": "2022-09-21T07:35:56.142Z"
   },
   {
    "duration": 3,
    "start_time": "2022-09-21T07:35:56.153Z"
   },
   {
    "duration": 12,
    "start_time": "2022-09-21T07:35:56.158Z"
   },
   {
    "duration": 35,
    "start_time": "2022-09-21T07:35:56.171Z"
   },
   {
    "duration": 9,
    "start_time": "2022-09-21T07:35:56.207Z"
   },
   {
    "duration": 20,
    "start_time": "2022-09-21T07:35:56.218Z"
   },
   {
    "duration": 5,
    "start_time": "2022-09-21T07:35:56.239Z"
   },
   {
    "duration": 69,
    "start_time": "2022-09-21T07:35:56.246Z"
   },
   {
    "duration": 33,
    "start_time": "2022-09-21T07:35:56.317Z"
   },
   {
    "duration": 3,
    "start_time": "2022-09-21T07:35:56.351Z"
   },
   {
    "duration": 639,
    "start_time": "2022-09-21T07:35:56.355Z"
   },
   {
    "duration": 7,
    "start_time": "2022-09-21T07:35:56.999Z"
   },
   {
    "duration": 20296,
    "start_time": "2022-09-21T07:35:57.007Z"
   },
   {
    "duration": 9998,
    "start_time": "2022-09-21T07:36:17.304Z"
   },
   {
    "duration": 11948,
    "start_time": "2022-09-21T07:36:27.304Z"
   },
   {
    "duration": 4,
    "start_time": "2022-09-21T07:36:39.254Z"
   },
   {
    "duration": 1878,
    "start_time": "2022-09-21T07:36:39.260Z"
   },
   {
    "duration": 6,
    "start_time": "2022-09-21T07:36:41.140Z"
   },
   {
    "duration": 65,
    "start_time": "2022-09-21T07:36:41.147Z"
   },
   {
    "duration": 542,
    "start_time": "2022-09-21T07:36:41.214Z"
   },
   {
    "duration": 4,
    "start_time": "2022-09-21T07:36:41.757Z"
   },
   {
    "duration": 1166,
    "start_time": "2022-09-21T07:36:41.763Z"
   },
   {
    "duration": 2095,
    "start_time": "2022-09-21T09:45:04.220Z"
   },
   {
    "duration": 112,
    "start_time": "2022-09-21T09:45:06.318Z"
   },
   {
    "duration": 17,
    "start_time": "2022-09-21T09:45:06.432Z"
   },
   {
    "duration": 11,
    "start_time": "2022-09-21T09:45:06.451Z"
   },
   {
    "duration": 14,
    "start_time": "2022-09-21T09:45:06.463Z"
   },
   {
    "duration": 26,
    "start_time": "2022-09-21T09:45:06.479Z"
   },
   {
    "duration": 47,
    "start_time": "2022-09-21T09:45:06.507Z"
   },
   {
    "duration": 9,
    "start_time": "2022-09-21T09:45:06.599Z"
   },
   {
    "duration": 11,
    "start_time": "2022-09-21T09:45:06.610Z"
   },
   {
    "duration": 3,
    "start_time": "2022-09-21T09:45:06.623Z"
   },
   {
    "duration": 10,
    "start_time": "2022-09-21T09:45:06.628Z"
   },
   {
    "duration": 181,
    "start_time": "2022-09-21T09:45:06.640Z"
   },
   {
    "duration": 13,
    "start_time": "2022-09-21T09:45:06.824Z"
   },
   {
    "duration": 4,
    "start_time": "2022-09-21T09:45:06.838Z"
   },
   {
    "duration": 17,
    "start_time": "2022-09-21T09:45:06.844Z"
   },
   {
    "duration": 42,
    "start_time": "2022-09-21T09:45:06.863Z"
   },
   {
    "duration": 13,
    "start_time": "2022-09-21T09:45:06.907Z"
   },
   {
    "duration": 29,
    "start_time": "2022-09-21T09:45:06.922Z"
   },
   {
    "duration": 42,
    "start_time": "2022-09-21T09:45:06.953Z"
   },
   {
    "duration": 59,
    "start_time": "2022-09-21T09:45:06.997Z"
   },
   {
    "duration": 78,
    "start_time": "2022-09-21T09:45:07.058Z"
   },
   {
    "duration": 3,
    "start_time": "2022-09-21T09:45:07.138Z"
   },
   {
    "duration": 781,
    "start_time": "2022-09-21T09:45:07.143Z"
   },
   {
    "duration": 8,
    "start_time": "2022-09-21T09:45:07.926Z"
   },
   {
    "duration": 21086,
    "start_time": "2022-09-21T09:45:07.935Z"
   },
   {
    "duration": 10256,
    "start_time": "2022-09-21T09:45:29.023Z"
   },
   {
    "duration": 12396,
    "start_time": "2022-09-21T09:45:39.281Z"
   },
   {
    "duration": 5,
    "start_time": "2022-09-21T09:45:51.680Z"
   },
   {
    "duration": 2338,
    "start_time": "2022-09-21T09:45:51.686Z"
   },
   {
    "duration": 6,
    "start_time": "2022-09-21T09:45:54.026Z"
   },
   {
    "duration": 71,
    "start_time": "2022-09-21T09:45:54.033Z"
   },
   {
    "duration": 1640,
    "start_time": "2022-09-21T09:45:54.105Z"
   },
   {
    "duration": 5,
    "start_time": "2022-09-21T09:45:55.747Z"
   },
   {
    "duration": 2359,
    "start_time": "2022-09-21T09:45:55.755Z"
   },
   {
    "duration": 150,
    "start_time": "2022-09-21T09:45:58.116Z"
   },
   {
    "duration": 721,
    "start_time": "2022-09-21T10:07:13.418Z"
   },
   {
    "duration": 6,
    "start_time": "2022-09-21T10:08:09.545Z"
   },
   {
    "duration": 6,
    "start_time": "2022-09-21T10:08:22.511Z"
   },
   {
    "duration": 4,
    "start_time": "2022-09-21T10:08:36.743Z"
   },
   {
    "duration": 6,
    "start_time": "2022-09-21T10:09:01.009Z"
   },
   {
    "duration": 644,
    "start_time": "2022-09-21T10:09:32.317Z"
   },
   {
    "duration": 2399,
    "start_time": "2022-09-21T10:10:00.208Z"
   },
   {
    "duration": 76,
    "start_time": "2022-09-21T10:11:26.004Z"
   },
   {
    "duration": 611,
    "start_time": "2022-09-21T10:11:33.020Z"
   },
   {
    "duration": 5,
    "start_time": "2022-09-21T10:11:41.549Z"
   },
   {
    "duration": 2490,
    "start_time": "2022-09-21T10:11:47.267Z"
   },
   {
    "duration": 7,
    "start_time": "2022-09-21T10:11:50.614Z"
   },
   {
    "duration": 52,
    "start_time": "2022-09-21T10:11:51.806Z"
   },
   {
    "duration": 4155,
    "start_time": "2022-09-21T10:11:53.044Z"
   },
   {
    "duration": 7,
    "start_time": "2022-09-21T10:11:57.207Z"
   },
   {
    "duration": 4662,
    "start_time": "2022-09-21T10:11:57.216Z"
   },
   {
    "duration": 896,
    "start_time": "2022-09-21T10:12:01.881Z"
   },
   {
    "duration": 28,
    "start_time": "2022-09-21T10:12:02.779Z"
   },
   {
    "duration": 15,
    "start_time": "2022-09-21T10:12:02.808Z"
   },
   {
    "duration": 767,
    "start_time": "2022-09-21T10:28:03.012Z"
   },
   {
    "duration": 2602,
    "start_time": "2022-09-21T10:28:08.641Z"
   },
   {
    "duration": 931,
    "start_time": "2022-09-21T10:30:01.576Z"
   },
   {
    "duration": 20,
    "start_time": "2022-09-21T10:35:00.745Z"
   },
   {
    "duration": 5,
    "start_time": "2022-09-21T10:35:33.711Z"
   },
   {
    "duration": 6,
    "start_time": "2022-09-21T10:35:39.638Z"
   },
   {
    "duration": 4,
    "start_time": "2022-09-21T10:35:45.157Z"
   },
   {
    "duration": 18,
    "start_time": "2022-09-21T10:35:51.505Z"
   },
   {
    "duration": 4,
    "start_time": "2022-09-21T10:36:27.404Z"
   },
   {
    "duration": 2192,
    "start_time": "2022-09-21T10:36:27.769Z"
   },
   {
    "duration": 6,
    "start_time": "2022-09-21T10:36:29.963Z"
   },
   {
    "duration": 40,
    "start_time": "2022-09-21T10:36:35.466Z"
   },
   {
    "duration": 26,
    "start_time": "2022-09-21T10:36:45.657Z"
   },
   {
    "duration": 36,
    "start_time": "2022-09-21T10:36:50.775Z"
   },
   {
    "duration": 37,
    "start_time": "2022-09-21T10:37:03.213Z"
   },
   {
    "duration": 831,
    "start_time": "2022-09-21T10:39:33.080Z"
   },
   {
    "duration": 4,
    "start_time": "2022-09-21T10:39:47.846Z"
   },
   {
    "duration": 1636,
    "start_time": "2022-09-21T10:39:48.473Z"
   },
   {
    "duration": 822,
    "start_time": "2022-09-21T10:40:44.508Z"
   },
   {
    "duration": 23,
    "start_time": "2022-09-21T10:40:58.517Z"
   },
   {
    "duration": 1709,
    "start_time": "2022-09-21T10:43:39.216Z"
   },
   {
    "duration": 1404,
    "start_time": "2022-09-21T10:43:47.239Z"
   },
   {
    "duration": 1488,
    "start_time": "2022-09-21T10:44:40.525Z"
   },
   {
    "duration": 9,
    "start_time": "2022-09-21T10:44:49.141Z"
   },
   {
    "duration": 9,
    "start_time": "2022-09-21T10:45:36.162Z"
   },
   {
    "duration": 8,
    "start_time": "2022-09-21T10:45:47.352Z"
   },
   {
    "duration": 19,
    "start_time": "2022-09-21T10:45:53.376Z"
   },
   {
    "duration": 15,
    "start_time": "2022-09-21T10:46:01.107Z"
   },
   {
    "duration": 11,
    "start_time": "2022-09-21T10:46:59.127Z"
   },
   {
    "duration": 17,
    "start_time": "2022-09-21T10:47:09.214Z"
   },
   {
    "duration": 129,
    "start_time": "2022-09-21T10:48:17.241Z"
   },
   {
    "duration": 8,
    "start_time": "2022-09-21T10:48:22.761Z"
   },
   {
    "duration": 3,
    "start_time": "2022-09-21T10:48:30.614Z"
   },
   {
    "duration": 7,
    "start_time": "2022-09-21T10:48:35.864Z"
   },
   {
    "duration": 1939,
    "start_time": "2022-09-21T10:49:04.089Z"
   },
   {
    "duration": 74,
    "start_time": "2022-09-21T10:49:06.030Z"
   },
   {
    "duration": 17,
    "start_time": "2022-09-21T10:49:06.106Z"
   },
   {
    "duration": 14,
    "start_time": "2022-09-21T10:49:06.126Z"
   },
   {
    "duration": 25,
    "start_time": "2022-09-21T10:49:06.141Z"
   },
   {
    "duration": 42,
    "start_time": "2022-09-21T10:49:06.168Z"
   },
   {
    "duration": 92,
    "start_time": "2022-09-21T10:49:06.212Z"
   },
   {
    "duration": 11,
    "start_time": "2022-09-21T10:49:06.306Z"
   },
   {
    "duration": 21,
    "start_time": "2022-09-21T10:49:06.319Z"
   },
   {
    "duration": 8,
    "start_time": "2022-09-21T10:49:06.342Z"
   },
   {
    "duration": 24,
    "start_time": "2022-09-21T10:49:06.352Z"
   },
   {
    "duration": 193,
    "start_time": "2022-09-21T10:49:06.378Z"
   },
   {
    "duration": 30,
    "start_time": "2022-09-21T10:49:06.574Z"
   },
   {
    "duration": 4,
    "start_time": "2022-09-21T10:49:06.607Z"
   },
   {
    "duration": 21,
    "start_time": "2022-09-21T10:49:06.614Z"
   },
   {
    "duration": 22,
    "start_time": "2022-09-21T10:49:06.637Z"
   },
   {
    "duration": 11,
    "start_time": "2022-09-21T10:49:06.660Z"
   },
   {
    "duration": 45,
    "start_time": "2022-09-21T10:49:06.673Z"
   },
   {
    "duration": 6,
    "start_time": "2022-09-21T10:49:06.720Z"
   },
   {
    "duration": 86,
    "start_time": "2022-09-21T10:49:06.727Z"
   },
   {
    "duration": 86,
    "start_time": "2022-09-21T10:49:06.815Z"
   },
   {
    "duration": 4,
    "start_time": "2022-09-21T10:49:06.904Z"
   },
   {
    "duration": 782,
    "start_time": "2022-09-21T10:49:06.909Z"
   },
   {
    "duration": 11,
    "start_time": "2022-09-21T10:49:07.695Z"
   },
   {
    "duration": 20853,
    "start_time": "2022-09-21T10:49:07.708Z"
   },
   {
    "duration": 10717,
    "start_time": "2022-09-21T10:49:28.563Z"
   },
   {
    "duration": 13306,
    "start_time": "2022-09-21T10:49:39.281Z"
   },
   {
    "duration": 7,
    "start_time": "2022-09-21T10:49:52.595Z"
   },
   {
    "duration": 2374,
    "start_time": "2022-09-21T10:49:52.604Z"
   },
   {
    "duration": 16,
    "start_time": "2022-09-21T10:49:54.979Z"
   },
   {
    "duration": 54,
    "start_time": "2022-09-21T10:49:54.998Z"
   },
   {
    "duration": 4016,
    "start_time": "2022-09-21T10:49:55.054Z"
   },
   {
    "duration": 5,
    "start_time": "2022-09-21T10:49:59.072Z"
   },
   {
    "duration": 4710,
    "start_time": "2022-09-21T10:49:59.078Z"
   },
   {
    "duration": 704,
    "start_time": "2022-09-21T10:50:03.790Z"
   },
   {
    "duration": 17,
    "start_time": "2022-09-21T10:50:04.500Z"
   },
   {
    "duration": 7,
    "start_time": "2022-09-21T10:50:04.518Z"
   },
   {
    "duration": 15,
    "start_time": "2022-09-21T10:50:04.527Z"
   },
   {
    "duration": 1479,
    "start_time": "2022-09-21T10:50:04.544Z"
   },
   {
    "duration": 0,
    "start_time": "2022-09-21T10:50:06.025Z"
   },
   {
    "duration": 847,
    "start_time": "2022-09-21T10:51:47.500Z"
   },
   {
    "duration": 28,
    "start_time": "2022-09-21T10:51:51.347Z"
   },
   {
    "duration": 8,
    "start_time": "2022-09-21T10:51:59.323Z"
   },
   {
    "duration": 33,
    "start_time": "2022-09-21T10:52:00.947Z"
   },
   {
    "duration": 10,
    "start_time": "2022-09-21T10:52:04.375Z"
   },
   {
    "duration": 15,
    "start_time": "2022-09-21T10:52:27.159Z"
   },
   {
    "duration": 1213,
    "start_time": "2022-09-21T10:54:18.972Z"
   },
   {
    "duration": 1200,
    "start_time": "2022-09-21T10:54:43.282Z"
   },
   {
    "duration": 1339,
    "start_time": "2022-09-21T10:55:08.624Z"
   },
   {
    "duration": 16,
    "start_time": "2022-09-21T10:55:24.817Z"
   },
   {
    "duration": 5,
    "start_time": "2022-09-21T10:56:46.382Z"
   },
   {
    "duration": 6,
    "start_time": "2022-09-21T10:56:58.842Z"
   },
   {
    "duration": 7,
    "start_time": "2022-09-21T10:57:01.417Z"
   },
   {
    "duration": 12,
    "start_time": "2022-09-21T10:58:16.546Z"
   },
   {
    "duration": 1750,
    "start_time": "2022-09-21T10:58:28.015Z"
   },
   {
    "duration": 2881,
    "start_time": "2022-09-21T11:00:12.569Z"
   },
   {
    "duration": 19,
    "start_time": "2022-09-21T11:00:16.955Z"
   },
   {
    "duration": 7,
    "start_time": "2022-09-21T11:00:17.814Z"
   },
   {
    "duration": 47,
    "start_time": "2022-09-21T11:00:18.479Z"
   },
   {
    "duration": 20,
    "start_time": "2022-09-21T11:00:18.986Z"
   },
   {
    "duration": 5,
    "start_time": "2022-09-21T11:00:19.649Z"
   },
   {
    "duration": 2142,
    "start_time": "2022-09-21T11:00:20.257Z"
   },
   {
    "duration": 12,
    "start_time": "2022-09-21T11:00:58.055Z"
   },
   {
    "duration": 1886,
    "start_time": "2022-09-21T11:01:06.125Z"
   },
   {
    "duration": 19,
    "start_time": "2022-09-21T11:03:24.451Z"
   },
   {
    "duration": 15,
    "start_time": "2022-09-21T11:03:37.163Z"
   },
   {
    "duration": 22,
    "start_time": "2022-09-21T11:03:40.416Z"
   },
   {
    "duration": 1721,
    "start_time": "2022-09-21T11:05:41.623Z"
   },
   {
    "duration": 2246,
    "start_time": "2022-09-21T11:08:49.160Z"
   },
   {
    "duration": 809,
    "start_time": "2022-09-21T11:09:40.056Z"
   },
   {
    "duration": 749,
    "start_time": "2022-09-21T11:10:21.610Z"
   },
   {
    "duration": 24,
    "start_time": "2022-09-21T11:10:24.767Z"
   },
   {
    "duration": 8,
    "start_time": "2022-09-21T11:10:43.603Z"
   },
   {
    "duration": 74,
    "start_time": "2022-09-21T11:10:43.614Z"
   },
   {
    "duration": 23,
    "start_time": "2022-09-21T11:10:43.700Z"
   },
   {
    "duration": 16,
    "start_time": "2022-09-21T11:10:43.725Z"
   },
   {
    "duration": 22,
    "start_time": "2022-09-21T11:10:43.744Z"
   },
   {
    "duration": 33,
    "start_time": "2022-09-21T11:10:43.768Z"
   },
   {
    "duration": 94,
    "start_time": "2022-09-21T11:10:43.803Z"
   },
   {
    "duration": 14,
    "start_time": "2022-09-21T11:10:43.903Z"
   },
   {
    "duration": 10,
    "start_time": "2022-09-21T11:10:43.919Z"
   },
   {
    "duration": 3,
    "start_time": "2022-09-21T11:10:43.931Z"
   },
   {
    "duration": 11,
    "start_time": "2022-09-21T11:10:43.937Z"
   },
   {
    "duration": 210,
    "start_time": "2022-09-21T11:10:43.949Z"
   },
   {
    "duration": 11,
    "start_time": "2022-09-21T11:10:44.162Z"
   },
   {
    "duration": 22,
    "start_time": "2022-09-21T11:10:44.175Z"
   },
   {
    "duration": 23,
    "start_time": "2022-09-21T11:10:44.205Z"
   },
   {
    "duration": 136,
    "start_time": "2022-09-21T11:10:44.230Z"
   },
   {
    "duration": 13,
    "start_time": "2022-09-21T11:10:44.369Z"
   },
   {
    "duration": 53,
    "start_time": "2022-09-21T11:10:44.384Z"
   },
   {
    "duration": 8,
    "start_time": "2022-09-21T11:10:44.439Z"
   },
   {
    "duration": 68,
    "start_time": "2022-09-21T11:10:44.449Z"
   },
   {
    "duration": 84,
    "start_time": "2022-09-21T11:10:44.519Z"
   },
   {
    "duration": 2,
    "start_time": "2022-09-21T11:10:44.605Z"
   },
   {
    "duration": 814,
    "start_time": "2022-09-21T11:10:44.617Z"
   },
   {
    "duration": 11,
    "start_time": "2022-09-21T11:10:45.434Z"
   },
   {
    "duration": 21827,
    "start_time": "2022-09-21T11:10:45.448Z"
   },
   {
    "duration": 11097,
    "start_time": "2022-09-21T11:11:07.278Z"
   },
   {
    "duration": 12662,
    "start_time": "2022-09-21T11:11:18.378Z"
   },
   {
    "duration": 6,
    "start_time": "2022-09-21T11:11:31.044Z"
   },
   {
    "duration": 3138,
    "start_time": "2022-09-21T11:11:31.053Z"
   },
   {
    "duration": 25,
    "start_time": "2022-09-21T11:11:34.198Z"
   },
   {
    "duration": 65,
    "start_time": "2022-09-21T11:11:34.226Z"
   },
   {
    "duration": 1581,
    "start_time": "2022-09-21T11:11:34.294Z"
   },
   {
    "duration": 6,
    "start_time": "2022-09-21T11:11:35.877Z"
   },
   {
    "duration": 2226,
    "start_time": "2022-09-21T11:11:35.886Z"
   },
   {
    "duration": 3001,
    "start_time": "2022-09-21T11:11:38.113Z"
   },
   {
    "duration": 20,
    "start_time": "2022-09-21T11:11:41.116Z"
   },
   {
    "duration": 15,
    "start_time": "2022-09-21T11:11:41.141Z"
   },
   {
    "duration": 52,
    "start_time": "2022-09-21T11:11:41.158Z"
   },
   {
    "duration": 23,
    "start_time": "2022-09-21T11:11:41.211Z"
   },
   {
    "duration": 793,
    "start_time": "2022-09-21T11:11:41.237Z"
   },
   {
    "duration": 25,
    "start_time": "2022-09-21T11:11:50.156Z"
   },
   {
    "duration": 17,
    "start_time": "2022-09-21T11:12:36.981Z"
   },
   {
    "duration": 2934,
    "start_time": "2022-09-21T11:12:52.492Z"
   },
   {
    "duration": 14,
    "start_time": "2022-09-21T11:12:55.441Z"
   },
   {
    "duration": 95,
    "start_time": "2022-09-21T11:12:59.540Z"
   },
   {
    "duration": 9,
    "start_time": "2022-09-21T11:13:27.987Z"
   },
   {
    "duration": 3314,
    "start_time": "2022-09-21T11:13:32.590Z"
   },
   {
    "duration": 8,
    "start_time": "2022-09-21T11:13:38.151Z"
   },
   {
    "duration": 59,
    "start_time": "2022-09-21T11:13:40.561Z"
   },
   {
    "duration": 967,
    "start_time": "2022-09-21T11:13:46.117Z"
   },
   {
    "duration": 7,
    "start_time": "2022-09-21T11:13:47.638Z"
   },
   {
    "duration": 2340,
    "start_time": "2022-09-21T11:13:48.207Z"
   },
   {
    "duration": 3350,
    "start_time": "2022-09-21T11:13:50.549Z"
   },
   {
    "duration": 31,
    "start_time": "2022-09-21T11:13:53.901Z"
   },
   {
    "duration": 9,
    "start_time": "2022-09-21T11:13:54.169Z"
   },
   {
    "duration": 23,
    "start_time": "2022-09-21T11:13:56.018Z"
   },
   {
    "duration": 8,
    "start_time": "2022-09-21T11:14:28.718Z"
   },
   {
    "duration": 14,
    "start_time": "2022-09-21T11:14:32.510Z"
   },
   {
    "duration": 4,
    "start_time": "2022-09-21T11:15:11.565Z"
   },
   {
    "duration": 28,
    "start_time": "2022-09-21T11:15:12.174Z"
   },
   {
    "duration": 6,
    "start_time": "2022-09-21T11:15:19.930Z"
   },
   {
    "duration": 10,
    "start_time": "2022-09-21T11:15:20.168Z"
   },
   {
    "duration": 31,
    "start_time": "2022-09-21T11:17:02.584Z"
   },
   {
    "duration": 10,
    "start_time": "2022-09-21T11:17:11.673Z"
   },
   {
    "duration": 12,
    "start_time": "2022-09-21T11:19:12.927Z"
   },
   {
    "duration": 3461,
    "start_time": "2022-09-21T11:19:13.213Z"
   },
   {
    "duration": 11,
    "start_time": "2022-09-21T11:19:16.688Z"
   },
   {
    "duration": 68,
    "start_time": "2022-09-21T11:19:18.838Z"
   },
   {
    "duration": 66,
    "start_time": "2022-09-21T11:19:26.655Z"
   },
   {
    "duration": 77,
    "start_time": "2022-09-21T11:19:45.918Z"
   },
   {
    "duration": 1962,
    "start_time": "2022-09-21T11:19:51.109Z"
   },
   {
    "duration": 6,
    "start_time": "2022-09-21T11:20:03.066Z"
   },
   {
    "duration": 9203,
    "start_time": "2022-09-21T11:20:03.558Z"
   },
   {
    "duration": 3017,
    "start_time": "2022-09-21T11:20:12.764Z"
   },
   {
    "duration": 28,
    "start_time": "2022-09-21T11:20:15.782Z"
   },
   {
    "duration": 15,
    "start_time": "2022-09-21T11:21:22.665Z"
   },
   {
    "duration": 1524,
    "start_time": "2022-09-21T11:21:35.358Z"
   },
   {
    "duration": 1724,
    "start_time": "2022-09-21T11:22:01.914Z"
   },
   {
    "duration": 15,
    "start_time": "2022-09-21T11:22:29.036Z"
   },
   {
    "duration": 146,
    "start_time": "2022-09-21T11:23:19.825Z"
   },
   {
    "duration": 18,
    "start_time": "2022-09-21T11:23:25.689Z"
   },
   {
    "duration": 52,
    "start_time": "2022-09-21T11:23:31.223Z"
   },
   {
    "duration": 63,
    "start_time": "2022-09-21T11:23:34.861Z"
   },
   {
    "duration": 3,
    "start_time": "2022-09-21T11:23:37.264Z"
   },
   {
    "duration": 817,
    "start_time": "2022-09-21T11:23:37.558Z"
   },
   {
    "duration": 17,
    "start_time": "2022-09-21T11:23:38.378Z"
   },
   {
    "duration": 22738,
    "start_time": "2022-09-21T11:23:38.464Z"
   },
   {
    "duration": 12192,
    "start_time": "2022-09-21T11:24:01.205Z"
   },
   {
    "duration": 13133,
    "start_time": "2022-09-21T11:24:13.400Z"
   },
   {
    "duration": 6,
    "start_time": "2022-09-21T11:24:26.535Z"
   },
   {
    "duration": 3183,
    "start_time": "2022-09-21T11:24:26.543Z"
   },
   {
    "duration": 7,
    "start_time": "2022-09-21T11:24:29.728Z"
   },
   {
    "duration": 94,
    "start_time": "2022-09-21T11:24:29.740Z"
   },
   {
    "duration": 1401,
    "start_time": "2022-09-21T11:24:29.836Z"
   },
   {
    "duration": 7,
    "start_time": "2022-09-21T11:24:31.240Z"
   },
   {
    "duration": 3333,
    "start_time": "2022-09-21T11:24:31.251Z"
   },
   {
    "duration": 2908,
    "start_time": "2022-09-21T11:24:34.586Z"
   },
   {
    "duration": 33,
    "start_time": "2022-09-21T11:24:37.496Z"
   },
   {
    "duration": 22,
    "start_time": "2022-09-21T11:24:37.531Z"
   },
   {
    "duration": 0,
    "start_time": "2022-09-21T11:24:37.556Z"
   },
   {
    "duration": 0,
    "start_time": "2022-09-21T11:24:37.558Z"
   },
   {
    "duration": 0,
    "start_time": "2022-09-21T11:24:37.560Z"
   },
   {
    "duration": 0,
    "start_time": "2022-09-21T11:24:37.561Z"
   },
   {
    "duration": 0,
    "start_time": "2022-09-21T11:24:37.563Z"
   },
   {
    "duration": 19,
    "start_time": "2022-09-21T11:46:37.609Z"
   },
   {
    "duration": 240,
    "start_time": "2022-09-21T11:46:45.086Z"
   },
   {
    "duration": 171,
    "start_time": "2022-09-21T12:04:39.756Z"
   },
   {
    "duration": 26,
    "start_time": "2022-09-21T12:07:22.241Z"
   },
   {
    "duration": 30,
    "start_time": "2022-09-21T12:07:48.266Z"
   },
   {
    "duration": 10,
    "start_time": "2022-09-21T12:08:02.597Z"
   },
   {
    "duration": 21,
    "start_time": "2022-09-21T12:08:05.297Z"
   },
   {
    "duration": 2926,
    "start_time": "2022-09-21T12:10:11.846Z"
   },
   {
    "duration": 2453,
    "start_time": "2022-09-21T12:10:27.516Z"
   },
   {
    "duration": 4,
    "start_time": "2022-09-21T12:10:48.242Z"
   },
   {
    "duration": 2668,
    "start_time": "2022-09-21T15:20:09.446Z"
   },
   {
    "duration": 223,
    "start_time": "2022-09-21T15:20:12.116Z"
   },
   {
    "duration": 21,
    "start_time": "2022-09-21T15:20:12.341Z"
   },
   {
    "duration": 11,
    "start_time": "2022-09-21T15:20:12.364Z"
   },
   {
    "duration": 14,
    "start_time": "2022-09-21T15:20:12.378Z"
   },
   {
    "duration": 55,
    "start_time": "2022-09-21T15:20:12.393Z"
   },
   {
    "duration": 44,
    "start_time": "2022-09-21T15:20:12.450Z"
   },
   {
    "duration": 7,
    "start_time": "2022-09-21T15:20:12.496Z"
   },
   {
    "duration": 45,
    "start_time": "2022-09-21T15:20:12.505Z"
   },
   {
    "duration": 7,
    "start_time": "2022-09-21T15:20:12.551Z"
   },
   {
    "duration": 10,
    "start_time": "2022-09-21T15:20:12.559Z"
   },
   {
    "duration": 180,
    "start_time": "2022-09-21T15:20:12.571Z"
   },
   {
    "duration": 11,
    "start_time": "2022-09-21T15:20:12.753Z"
   },
   {
    "duration": 3,
    "start_time": "2022-09-21T15:20:12.768Z"
   },
   {
    "duration": 15,
    "start_time": "2022-09-21T15:20:12.772Z"
   },
   {
    "duration": 20,
    "start_time": "2022-09-21T15:20:12.789Z"
   },
   {
    "duration": 34,
    "start_time": "2022-09-21T15:20:12.811Z"
   },
   {
    "duration": 27,
    "start_time": "2022-09-21T15:20:12.849Z"
   },
   {
    "duration": 7,
    "start_time": "2022-09-21T15:20:12.878Z"
   },
   {
    "duration": 77,
    "start_time": "2022-09-21T15:20:12.887Z"
   },
   {
    "duration": 39,
    "start_time": "2022-09-21T15:20:12.966Z"
   },
   {
    "duration": 35,
    "start_time": "2022-09-21T15:20:13.007Z"
   },
   {
    "duration": 1087,
    "start_time": "2022-09-21T15:20:13.043Z"
   },
   {
    "duration": 15,
    "start_time": "2022-09-21T15:20:14.132Z"
   },
   {
    "duration": 22916,
    "start_time": "2022-09-21T15:20:14.149Z"
   },
   {
    "duration": 10661,
    "start_time": "2022-09-21T15:20:37.067Z"
   },
   {
    "duration": 21805,
    "start_time": "2022-09-21T15:20:47.730Z"
   },
   {
    "duration": 7,
    "start_time": "2022-09-21T15:21:09.543Z"
   },
   {
    "duration": 2259,
    "start_time": "2022-09-21T15:21:09.551Z"
   },
   {
    "duration": 6,
    "start_time": "2022-09-21T15:21:11.812Z"
   },
   {
    "duration": 71,
    "start_time": "2022-09-21T15:21:11.820Z"
   },
   {
    "duration": 3715,
    "start_time": "2022-09-21T15:21:11.893Z"
   },
   {
    "duration": 6,
    "start_time": "2022-09-21T15:21:15.610Z"
   },
   {
    "duration": 3410,
    "start_time": "2022-09-21T15:21:15.619Z"
   },
   {
    "duration": 2207,
    "start_time": "2022-09-21T15:21:19.031Z"
   },
   {
    "duration": 29,
    "start_time": "2022-09-21T15:23:29.260Z"
   },
   {
    "duration": 4,
    "start_time": "2022-09-21T15:23:55.629Z"
   },
   {
    "duration": 6,
    "start_time": "2022-09-21T15:28:18.068Z"
   },
   {
    "duration": 20244,
    "start_time": "2022-09-21T15:28:39.158Z"
   },
   {
    "duration": 5,
    "start_time": "2022-09-21T15:29:20.799Z"
   },
   {
    "duration": 2305,
    "start_time": "2022-09-21T15:29:21.449Z"
   },
   {
    "duration": 6,
    "start_time": "2022-09-21T15:29:23.756Z"
   },
   {
    "duration": 34,
    "start_time": "2022-09-21T15:29:29.149Z"
   },
   {
    "duration": 6,
    "start_time": "2022-09-21T15:29:59.894Z"
   },
   {
    "duration": 611,
    "start_time": "2022-09-21T15:30:04.483Z"
   },
   {
    "duration": 0,
    "start_time": "2022-09-21T15:30:05.096Z"
   },
   {
    "duration": 5,
    "start_time": "2022-09-21T15:30:14.949Z"
   },
   {
    "duration": 1177,
    "start_time": "2022-09-21T15:30:16.354Z"
   },
   {
    "duration": 2120,
    "start_time": "2022-09-21T15:30:18.798Z"
   },
   {
    "duration": 5,
    "start_time": "2022-09-21T15:30:24.576Z"
   },
   {
    "duration": 575,
    "start_time": "2022-09-21T16:57:38.111Z"
   },
   {
    "duration": 13,
    "start_time": "2022-09-21T18:07:56.106Z"
   },
   {
    "duration": 7,
    "start_time": "2022-09-21T18:08:00.961Z"
   },
   {
    "duration": 7127,
    "start_time": "2022-09-21T18:08:01.408Z"
   },
   {
    "duration": 7,
    "start_time": "2022-09-21T18:10:01.181Z"
   },
   {
    "duration": 6207,
    "start_time": "2022-09-21T18:12:03.602Z"
   },
   {
    "duration": 17,
    "start_time": "2022-09-21T18:14:08.156Z"
   },
   {
    "duration": 4042,
    "start_time": "2022-09-21T18:14:33.996Z"
   },
   {
    "duration": 5081,
    "start_time": "2022-09-21T18:14:39.442Z"
   },
   {
    "duration": 5060,
    "start_time": "2022-09-21T18:14:59.282Z"
   },
   {
    "duration": 15,
    "start_time": "2022-09-21T18:17:08.181Z"
   },
   {
    "duration": 2091,
    "start_time": "2022-09-22T07:07:07.159Z"
   },
   {
    "duration": 199,
    "start_time": "2022-09-22T07:07:09.252Z"
   },
   {
    "duration": 17,
    "start_time": "2022-09-22T07:07:09.452Z"
   },
   {
    "duration": 9,
    "start_time": "2022-09-22T07:07:09.471Z"
   },
   {
    "duration": 18,
    "start_time": "2022-09-22T07:07:09.481Z"
   },
   {
    "duration": 46,
    "start_time": "2022-09-22T07:07:09.501Z"
   },
   {
    "duration": 47,
    "start_time": "2022-09-22T07:07:09.548Z"
   },
   {
    "duration": 13,
    "start_time": "2022-09-22T07:07:09.596Z"
   },
   {
    "duration": 8,
    "start_time": "2022-09-22T07:07:09.611Z"
   },
   {
    "duration": 2,
    "start_time": "2022-09-22T07:07:09.622Z"
   },
   {
    "duration": 8,
    "start_time": "2022-09-22T07:07:09.626Z"
   },
   {
    "duration": 161,
    "start_time": "2022-09-22T07:07:09.635Z"
   },
   {
    "duration": 18,
    "start_time": "2022-09-22T07:07:09.798Z"
   },
   {
    "duration": 3,
    "start_time": "2022-09-22T07:07:09.818Z"
   },
   {
    "duration": 15,
    "start_time": "2022-09-22T07:07:09.823Z"
   },
   {
    "duration": 18,
    "start_time": "2022-09-22T07:07:09.840Z"
   },
   {
    "duration": 9,
    "start_time": "2022-09-22T07:07:09.860Z"
   },
   {
    "duration": 49,
    "start_time": "2022-09-22T07:07:09.870Z"
   },
   {
    "duration": 6,
    "start_time": "2022-09-22T07:07:09.920Z"
   },
   {
    "duration": 46,
    "start_time": "2022-09-22T07:07:09.927Z"
   },
   {
    "duration": 65,
    "start_time": "2022-09-22T07:07:09.975Z"
   },
   {
    "duration": 3,
    "start_time": "2022-09-22T07:07:10.041Z"
   },
   {
    "duration": 883,
    "start_time": "2022-09-22T07:07:10.045Z"
   },
   {
    "duration": 8,
    "start_time": "2022-09-22T07:07:10.930Z"
   },
   {
    "duration": 20170,
    "start_time": "2022-09-22T07:07:10.940Z"
   },
   {
    "duration": 9783,
    "start_time": "2022-09-22T07:07:31.111Z"
   },
   {
    "duration": 13115,
    "start_time": "2022-09-22T07:07:40.895Z"
   },
   {
    "duration": 6,
    "start_time": "2022-09-22T07:07:54.014Z"
   },
   {
    "duration": 1944,
    "start_time": "2022-09-22T07:07:54.022Z"
   },
   {
    "duration": 6,
    "start_time": "2022-09-22T07:07:55.968Z"
   },
   {
    "duration": 61,
    "start_time": "2022-09-22T07:07:55.975Z"
   },
   {
    "duration": 3721,
    "start_time": "2022-09-22T07:07:56.038Z"
   },
   {
    "duration": 4,
    "start_time": "2022-09-22T07:07:59.762Z"
   },
   {
    "duration": 522,
    "start_time": "2022-09-22T07:07:59.768Z"
   },
   {
    "duration": 0,
    "start_time": "2022-09-22T07:08:00.292Z"
   },
   {
    "duration": 0,
    "start_time": "2022-09-22T07:08:00.294Z"
   },
   {
    "duration": 0,
    "start_time": "2022-09-22T07:08:00.295Z"
   },
   {
    "duration": 0,
    "start_time": "2022-09-22T07:08:00.296Z"
   },
   {
    "duration": 5,
    "start_time": "2022-09-22T07:08:45.910Z"
   },
   {
    "duration": 4,
    "start_time": "2022-09-22T07:09:18.929Z"
   },
   {
    "duration": 407,
    "start_time": "2022-09-22T07:09:19.211Z"
   },
   {
    "duration": 5,
    "start_time": "2022-09-22T07:09:45.262Z"
   },
   {
    "duration": 441,
    "start_time": "2022-09-22T07:09:45.734Z"
   },
   {
    "duration": 5,
    "start_time": "2022-09-22T07:09:55.427Z"
   },
   {
    "duration": 9183,
    "start_time": "2022-09-22T07:10:06.517Z"
   },
   {
    "duration": 912,
    "start_time": "2022-09-22T07:10:25.752Z"
   },
   {
    "duration": 2003,
    "start_time": "2022-09-22T07:10:28.209Z"
   },
   {
    "duration": 4,
    "start_time": "2022-09-22T07:10:30.377Z"
   },
   {
    "duration": 3456,
    "start_time": "2022-09-22T07:14:04.233Z"
   },
   {
    "duration": 46,
    "start_time": "2022-09-22T07:14:15.895Z"
   },
   {
    "duration": 22745,
    "start_time": "2022-09-22T07:14:33.293Z"
   },
   {
    "duration": 16,
    "start_time": "2022-09-22T07:15:36.606Z"
   },
   {
    "duration": 3,
    "start_time": "2022-09-22T07:15:48.322Z"
   },
   {
    "duration": 93,
    "start_time": "2022-09-22T07:15:50.937Z"
   },
   {
    "duration": 3,
    "start_time": "2022-09-22T07:15:58.120Z"
   },
   {
    "duration": 66,
    "start_time": "2022-09-22T07:16:00.020Z"
   },
   {
    "duration": 2984,
    "start_time": "2022-09-22T07:19:15.580Z"
   },
   {
    "duration": 33,
    "start_time": "2022-09-22T07:19:48.334Z"
   },
   {
    "duration": 18,
    "start_time": "2022-09-22T07:21:18.627Z"
   },
   {
    "duration": 3,
    "start_time": "2022-09-22T07:21:22.675Z"
   },
   {
    "duration": 2141,
    "start_time": "2022-09-22T07:21:45.753Z"
   },
   {
    "duration": 3,
    "start_time": "2022-09-22T07:21:53.111Z"
   },
   {
    "duration": 17,
    "start_time": "2022-09-22T07:21:54.167Z"
   },
   {
    "duration": 20,
    "start_time": "2022-09-22T07:22:06.320Z"
   },
   {
    "duration": 3,
    "start_time": "2022-09-22T07:22:15.137Z"
   },
   {
    "duration": 3,
    "start_time": "2022-09-22T07:22:17.229Z"
   },
   {
    "duration": 36,
    "start_time": "2022-09-22T07:22:17.713Z"
   },
   {
    "duration": 4827,
    "start_time": "2022-09-22T07:24:30.062Z"
   },
   {
    "duration": 99,
    "start_time": "2022-09-22T07:26:36.343Z"
   },
   {
    "duration": 47,
    "start_time": "2022-09-22T07:27:13.588Z"
   },
   {
    "duration": 589,
    "start_time": "2022-09-22T07:35:20.165Z"
   },
   {
    "duration": 3416,
    "start_time": "2022-09-22T07:35:52.444Z"
   },
   {
    "duration": 234,
    "start_time": "2022-09-22T07:36:09.084Z"
   },
   {
    "duration": 4,
    "start_time": "2022-09-22T07:37:40.851Z"
   },
   {
    "duration": 797,
    "start_time": "2022-09-22T07:38:02.982Z"
   },
   {
    "duration": 1904,
    "start_time": "2022-09-22T09:08:10.548Z"
   },
   {
    "duration": 75,
    "start_time": "2022-09-22T09:08:12.454Z"
   },
   {
    "duration": 25,
    "start_time": "2022-09-22T09:08:12.531Z"
   },
   {
    "duration": 11,
    "start_time": "2022-09-22T09:08:12.558Z"
   },
   {
    "duration": 18,
    "start_time": "2022-09-22T09:08:12.571Z"
   },
   {
    "duration": 41,
    "start_time": "2022-09-22T09:08:12.591Z"
   },
   {
    "duration": 80,
    "start_time": "2022-09-22T09:08:12.634Z"
   },
   {
    "duration": 8,
    "start_time": "2022-09-22T09:08:12.715Z"
   },
   {
    "duration": 35,
    "start_time": "2022-09-22T09:08:12.724Z"
   },
   {
    "duration": 3,
    "start_time": "2022-09-22T09:08:12.763Z"
   },
   {
    "duration": 15,
    "start_time": "2022-09-22T09:08:12.768Z"
   },
   {
    "duration": 203,
    "start_time": "2022-09-22T09:08:12.785Z"
   },
   {
    "duration": 11,
    "start_time": "2022-09-22T09:08:12.989Z"
   },
   {
    "duration": 12,
    "start_time": "2022-09-22T09:08:13.001Z"
   },
   {
    "duration": 30,
    "start_time": "2022-09-22T09:08:13.018Z"
   },
   {
    "duration": 19,
    "start_time": "2022-09-22T09:08:13.050Z"
   },
   {
    "duration": 9,
    "start_time": "2022-09-22T09:08:13.071Z"
   },
   {
    "duration": 47,
    "start_time": "2022-09-22T09:08:13.082Z"
   },
   {
    "duration": 9,
    "start_time": "2022-09-22T09:08:13.131Z"
   },
   {
    "duration": 69,
    "start_time": "2022-09-22T09:08:13.141Z"
   },
   {
    "duration": 46,
    "start_time": "2022-09-22T09:08:13.212Z"
   },
   {
    "duration": 2,
    "start_time": "2022-09-22T09:08:13.260Z"
   },
   {
    "duration": 796,
    "start_time": "2022-09-22T09:08:13.264Z"
   },
   {
    "duration": 7,
    "start_time": "2022-09-22T09:08:14.062Z"
   },
   {
    "duration": 21714,
    "start_time": "2022-09-22T09:08:14.070Z"
   },
   {
    "duration": 10260,
    "start_time": "2022-09-22T09:08:35.786Z"
   },
   {
    "duration": 12688,
    "start_time": "2022-09-22T09:08:46.048Z"
   },
   {
    "duration": 5,
    "start_time": "2022-09-22T09:08:58.741Z"
   },
   {
    "duration": 2295,
    "start_time": "2022-09-22T09:08:58.747Z"
   },
   {
    "duration": 8,
    "start_time": "2022-09-22T09:09:01.043Z"
   },
   {
    "duration": 51,
    "start_time": "2022-09-22T09:09:01.052Z"
   },
   {
    "duration": 3366,
    "start_time": "2022-09-22T09:09:01.105Z"
   },
   {
    "duration": 5,
    "start_time": "2022-09-22T09:09:04.472Z"
   },
   {
    "duration": 3492,
    "start_time": "2022-09-22T09:09:04.478Z"
   },
   {
    "duration": 2103,
    "start_time": "2022-09-22T09:09:07.971Z"
   },
   {
    "duration": 4,
    "start_time": "2022-09-22T09:09:10.075Z"
   },
   {
    "duration": 2343,
    "start_time": "2022-09-22T09:09:10.081Z"
   },
   {
    "duration": 237,
    "start_time": "2022-09-22T09:09:12.426Z"
   },
   {
    "duration": 0,
    "start_time": "2022-09-22T09:09:12.664Z"
   },
   {
    "duration": 0,
    "start_time": "2022-09-22T09:09:12.666Z"
   },
   {
    "duration": 0,
    "start_time": "2022-09-22T09:09:12.667Z"
   },
   {
    "duration": 0,
    "start_time": "2022-09-22T09:09:12.668Z"
   },
   {
    "duration": 0,
    "start_time": "2022-09-22T09:09:12.670Z"
   },
   {
    "duration": 0,
    "start_time": "2022-09-22T09:09:12.672Z"
   },
   {
    "duration": 0,
    "start_time": "2022-09-22T09:09:12.673Z"
   },
   {
    "duration": 3,
    "start_time": "2022-09-22T09:12:58.642Z"
   },
   {
    "duration": 42,
    "start_time": "2022-09-22T09:13:36.631Z"
   },
   {
    "duration": 3,
    "start_time": "2022-09-22T09:13:53.595Z"
   },
   {
    "duration": 31,
    "start_time": "2022-09-22T09:13:53.853Z"
   },
   {
    "duration": 201,
    "start_time": "2022-09-22T09:14:25.143Z"
   },
   {
    "duration": 201,
    "start_time": "2022-09-22T09:19:28.560Z"
   },
   {
    "duration": 84,
    "start_time": "2022-09-22T09:25:44.974Z"
   },
   {
    "duration": 93,
    "start_time": "2022-09-22T09:27:06.118Z"
   },
   {
    "duration": 78,
    "start_time": "2022-09-22T09:27:06.645Z"
   },
   {
    "duration": 75,
    "start_time": "2022-09-22T09:27:06.858Z"
   },
   {
    "duration": 79,
    "start_time": "2022-09-22T09:27:07.022Z"
   },
   {
    "duration": 924,
    "start_time": "2022-09-22T09:27:34.452Z"
   },
   {
    "duration": 71,
    "start_time": "2022-09-22T09:27:44.644Z"
   },
   {
    "duration": 1403,
    "start_time": "2022-09-22T09:28:38.862Z"
   },
   {
    "duration": 391,
    "start_time": "2022-09-22T09:28:50.323Z"
   },
   {
    "duration": 76,
    "start_time": "2022-09-22T09:29:06.815Z"
   },
   {
    "duration": 64,
    "start_time": "2022-09-22T09:29:49.519Z"
   },
   {
    "duration": 72,
    "start_time": "2022-09-22T09:29:51.693Z"
   },
   {
    "duration": 82,
    "start_time": "2022-09-22T09:29:56.410Z"
   },
   {
    "duration": 44,
    "start_time": "2022-09-22T09:38:25.657Z"
   },
   {
    "duration": 194,
    "start_time": "2022-09-22T09:38:41.602Z"
   },
   {
    "duration": 104,
    "start_time": "2022-09-22T09:40:42.243Z"
   },
   {
    "duration": 2116,
    "start_time": "2022-09-22T09:40:46.793Z"
   },
   {
    "duration": 2,
    "start_time": "2022-09-22T09:40:56.105Z"
   },
   {
    "duration": 181,
    "start_time": "2022-09-22T09:42:47.323Z"
   },
   {
    "duration": 963,
    "start_time": "2022-09-22T10:11:52.691Z"
   },
   {
    "duration": 14,
    "start_time": "2022-09-22T10:13:21.703Z"
   },
   {
    "duration": 241,
    "start_time": "2022-09-22T10:13:29.697Z"
   },
   {
    "duration": 187,
    "start_time": "2022-09-22T10:14:29.454Z"
   },
   {
    "duration": 1639,
    "start_time": "2022-09-22T10:20:51.684Z"
   },
   {
    "duration": 12,
    "start_time": "2022-09-22T10:21:37.120Z"
   },
   {
    "duration": 11,
    "start_time": "2022-09-22T10:23:37.597Z"
   },
   {
    "duration": 9779,
    "start_time": "2022-09-22T10:24:55.891Z"
   },
   {
    "duration": 16,
    "start_time": "2022-09-22T10:25:11.178Z"
   },
   {
    "duration": 2033,
    "start_time": "2022-09-22T10:25:23.048Z"
   },
   {
    "duration": 67,
    "start_time": "2022-09-22T10:25:25.083Z"
   },
   {
    "duration": 16,
    "start_time": "2022-09-22T10:25:25.151Z"
   },
   {
    "duration": 9,
    "start_time": "2022-09-22T10:25:25.168Z"
   },
   {
    "duration": 11,
    "start_time": "2022-09-22T10:25:25.179Z"
   },
   {
    "duration": 40,
    "start_time": "2022-09-22T10:25:25.190Z"
   },
   {
    "duration": 47,
    "start_time": "2022-09-22T10:25:25.232Z"
   },
   {
    "duration": 34,
    "start_time": "2022-09-22T10:25:25.280Z"
   },
   {
    "duration": 16,
    "start_time": "2022-09-22T10:25:25.315Z"
   },
   {
    "duration": 7,
    "start_time": "2022-09-22T10:25:25.332Z"
   },
   {
    "duration": 7,
    "start_time": "2022-09-22T10:25:25.341Z"
   },
   {
    "duration": 175,
    "start_time": "2022-09-22T10:25:25.350Z"
   },
   {
    "duration": 13,
    "start_time": "2022-09-22T10:25:25.527Z"
   },
   {
    "duration": 3,
    "start_time": "2022-09-22T10:25:25.543Z"
   },
   {
    "duration": 17,
    "start_time": "2022-09-22T10:25:25.547Z"
   },
   {
    "duration": 17,
    "start_time": "2022-09-22T10:25:25.566Z"
   },
   {
    "duration": 31,
    "start_time": "2022-09-22T10:25:25.585Z"
   },
   {
    "duration": 26,
    "start_time": "2022-09-22T10:25:25.618Z"
   },
   {
    "duration": 6,
    "start_time": "2022-09-22T10:25:25.645Z"
   },
   {
    "duration": 69,
    "start_time": "2022-09-22T10:25:25.652Z"
   },
   {
    "duration": 42,
    "start_time": "2022-09-22T10:25:25.722Z"
   },
   {
    "duration": 44,
    "start_time": "2022-09-22T10:25:25.765Z"
   },
   {
    "duration": 737,
    "start_time": "2022-09-22T10:25:25.811Z"
   },
   {
    "duration": 7,
    "start_time": "2022-09-22T10:25:26.551Z"
   },
   {
    "duration": 20237,
    "start_time": "2022-09-22T10:25:26.560Z"
   },
   {
    "duration": 10171,
    "start_time": "2022-09-22T10:25:46.798Z"
   },
   {
    "duration": 12237,
    "start_time": "2022-09-22T10:25:56.970Z"
   },
   {
    "duration": 5,
    "start_time": "2022-09-22T10:26:09.209Z"
   },
   {
    "duration": 1919,
    "start_time": "2022-09-22T10:26:09.216Z"
   },
   {
    "duration": 6,
    "start_time": "2022-09-22T10:26:11.137Z"
   },
   {
    "duration": 43,
    "start_time": "2022-09-22T10:26:11.144Z"
   },
   {
    "duration": 597,
    "start_time": "2022-09-22T10:26:11.210Z"
   },
   {
    "duration": 5,
    "start_time": "2022-09-22T10:26:11.808Z"
   },
   {
    "duration": 3957,
    "start_time": "2022-09-22T10:26:11.815Z"
   },
   {
    "duration": 1934,
    "start_time": "2022-09-22T10:26:15.774Z"
   },
   {
    "duration": 5,
    "start_time": "2022-09-22T10:26:17.710Z"
   },
   {
    "duration": 8,
    "start_time": "2022-09-22T10:26:17.717Z"
   },
   {
    "duration": 252,
    "start_time": "2022-09-22T10:26:17.727Z"
   },
   {
    "duration": 2,
    "start_time": "2022-09-22T10:26:17.981Z"
   },
   {
    "duration": 2667,
    "start_time": "2022-09-22T10:26:17.985Z"
   },
   {
    "duration": 32,
    "start_time": "2022-09-22T10:26:20.657Z"
   },
   {
    "duration": 501,
    "start_time": "2022-09-22T10:26:20.690Z"
   },
   {
    "duration": 241,
    "start_time": "2022-09-22T10:31:24.680Z"
   },
   {
    "duration": 117,
    "start_time": "2022-09-22T10:31:38.853Z"
   },
   {
    "duration": 244,
    "start_time": "2022-09-22T10:31:43.287Z"
   },
   {
    "duration": 1674,
    "start_time": "2022-09-22T14:17:58.581Z"
   },
   {
    "duration": 110,
    "start_time": "2022-09-22T14:18:00.256Z"
   },
   {
    "duration": 15,
    "start_time": "2022-09-22T14:18:00.367Z"
   },
   {
    "duration": 9,
    "start_time": "2022-09-22T14:18:00.383Z"
   },
   {
    "duration": 17,
    "start_time": "2022-09-22T14:18:00.394Z"
   },
   {
    "duration": 24,
    "start_time": "2022-09-22T14:18:00.412Z"
   },
   {
    "duration": 50,
    "start_time": "2022-09-22T14:18:00.438Z"
   },
   {
    "duration": 37,
    "start_time": "2022-09-22T14:18:00.489Z"
   },
   {
    "duration": 11,
    "start_time": "2022-09-22T14:18:00.528Z"
   },
   {
    "duration": 12,
    "start_time": "2022-09-22T14:18:00.541Z"
   },
   {
    "duration": 19,
    "start_time": "2022-09-22T14:18:00.554Z"
   },
   {
    "duration": 139,
    "start_time": "2022-09-22T14:18:00.575Z"
   },
   {
    "duration": 15,
    "start_time": "2022-09-22T14:18:00.715Z"
   },
   {
    "duration": 14,
    "start_time": "2022-09-22T14:18:00.732Z"
   },
   {
    "duration": 22,
    "start_time": "2022-09-22T14:18:00.748Z"
   },
   {
    "duration": 40,
    "start_time": "2022-09-22T14:18:00.772Z"
   },
   {
    "duration": 15,
    "start_time": "2022-09-22T14:18:00.813Z"
   },
   {
    "duration": 43,
    "start_time": "2022-09-22T14:18:00.830Z"
   },
   {
    "duration": 6,
    "start_time": "2022-09-22T14:18:00.875Z"
   },
   {
    "duration": 75,
    "start_time": "2022-09-22T14:18:00.882Z"
   },
   {
    "duration": 71,
    "start_time": "2022-09-22T14:18:00.958Z"
   },
   {
    "duration": 2,
    "start_time": "2022-09-22T14:18:01.031Z"
   },
   {
    "duration": 646,
    "start_time": "2022-09-22T14:18:01.035Z"
   },
   {
    "duration": 7,
    "start_time": "2022-09-22T14:18:01.683Z"
   },
   {
    "duration": 21038,
    "start_time": "2022-09-22T14:18:01.691Z"
   },
   {
    "duration": 11124,
    "start_time": "2022-09-22T14:18:22.731Z"
   },
   {
    "duration": 13495,
    "start_time": "2022-09-22T14:18:33.856Z"
   },
   {
    "duration": 5,
    "start_time": "2022-09-22T14:18:47.356Z"
   },
   {
    "duration": 1900,
    "start_time": "2022-09-22T14:18:47.362Z"
   },
   {
    "duration": 7,
    "start_time": "2022-09-22T14:18:49.264Z"
   },
   {
    "duration": 56,
    "start_time": "2022-09-22T14:18:49.273Z"
   },
   {
    "duration": 3764,
    "start_time": "2022-09-22T14:18:49.331Z"
   },
   {
    "duration": 5,
    "start_time": "2022-09-22T14:18:53.096Z"
   },
   {
    "duration": 4389,
    "start_time": "2022-09-22T14:18:53.102Z"
   },
   {
    "duration": 1770,
    "start_time": "2022-09-22T14:18:57.492Z"
   },
   {
    "duration": 14,
    "start_time": "2022-09-22T14:18:59.264Z"
   },
   {
    "duration": 8,
    "start_time": "2022-09-22T14:18:59.280Z"
   },
   {
    "duration": 150,
    "start_time": "2022-09-22T14:18:59.290Z"
   },
   {
    "duration": 0,
    "start_time": "2022-09-22T14:18:59.442Z"
   },
   {
    "duration": 0,
    "start_time": "2022-09-22T14:18:59.443Z"
   },
   {
    "duration": 0,
    "start_time": "2022-09-22T14:18:59.443Z"
   },
   {
    "duration": 0,
    "start_time": "2022-09-22T14:18:59.445Z"
   },
   {
    "duration": 10162,
    "start_time": "2022-09-22T14:20:17.842Z"
   },
   {
    "duration": 11,
    "start_time": "2022-09-22T14:22:58.288Z"
   },
   {
    "duration": 7161,
    "start_time": "2022-09-22T14:23:43.986Z"
   },
   {
    "duration": 20,
    "start_time": "2022-09-22T14:23:51.150Z"
   },
   {
    "duration": 15,
    "start_time": "2022-09-22T14:23:56.014Z"
   },
   {
    "duration": 1772,
    "start_time": "2022-09-22T14:24:03.567Z"
   },
   {
    "duration": 59,
    "start_time": "2022-09-22T14:24:05.340Z"
   },
   {
    "duration": 16,
    "start_time": "2022-09-22T14:24:05.400Z"
   },
   {
    "duration": 8,
    "start_time": "2022-09-22T14:24:05.418Z"
   },
   {
    "duration": 15,
    "start_time": "2022-09-22T14:24:05.428Z"
   },
   {
    "duration": 13,
    "start_time": "2022-09-22T14:24:05.445Z"
   },
   {
    "duration": 71,
    "start_time": "2022-09-22T14:24:05.460Z"
   },
   {
    "duration": 6,
    "start_time": "2022-09-22T14:24:05.533Z"
   },
   {
    "duration": 12,
    "start_time": "2022-09-22T14:24:05.540Z"
   },
   {
    "duration": 2,
    "start_time": "2022-09-22T14:24:05.554Z"
   },
   {
    "duration": 10,
    "start_time": "2022-09-22T14:24:05.558Z"
   },
   {
    "duration": 177,
    "start_time": "2022-09-22T14:24:05.569Z"
   },
   {
    "duration": 11,
    "start_time": "2022-09-22T14:24:05.747Z"
   },
   {
    "duration": 4,
    "start_time": "2022-09-22T14:24:05.759Z"
   },
   {
    "duration": 14,
    "start_time": "2022-09-22T14:24:05.765Z"
   },
   {
    "duration": 18,
    "start_time": "2022-09-22T14:24:05.780Z"
   },
   {
    "duration": 9,
    "start_time": "2022-09-22T14:24:05.821Z"
   },
   {
    "duration": 20,
    "start_time": "2022-09-22T14:24:05.832Z"
   },
   {
    "duration": 5,
    "start_time": "2022-09-22T14:24:05.854Z"
   },
   {
    "duration": 65,
    "start_time": "2022-09-22T14:24:05.860Z"
   },
   {
    "duration": 33,
    "start_time": "2022-09-22T14:24:05.926Z"
   },
   {
    "duration": 2,
    "start_time": "2022-09-22T14:24:05.961Z"
   },
   {
    "duration": 679,
    "start_time": "2022-09-22T14:24:05.964Z"
   },
   {
    "duration": 6,
    "start_time": "2022-09-22T14:24:06.645Z"
   },
   {
    "duration": 22725,
    "start_time": "2022-09-22T14:24:06.653Z"
   },
   {
    "duration": 11205,
    "start_time": "2022-09-22T14:24:29.380Z"
   },
   {
    "duration": 13979,
    "start_time": "2022-09-22T14:24:40.587Z"
   },
   {
    "duration": 5,
    "start_time": "2022-09-22T14:24:54.569Z"
   },
   {
    "duration": 1895,
    "start_time": "2022-09-22T14:24:54.575Z"
   },
   {
    "duration": 5,
    "start_time": "2022-09-22T14:24:56.471Z"
   },
   {
    "duration": 53,
    "start_time": "2022-09-22T14:24:56.477Z"
   },
   {
    "duration": 580,
    "start_time": "2022-09-22T14:24:56.532Z"
   },
   {
    "duration": 4,
    "start_time": "2022-09-22T14:24:57.114Z"
   },
   {
    "duration": 1458,
    "start_time": "2022-09-22T14:24:57.119Z"
   },
   {
    "duration": 1872,
    "start_time": "2022-09-22T14:24:58.578Z"
   },
   {
    "duration": 4,
    "start_time": "2022-09-22T14:25:00.452Z"
   },
   {
    "duration": 11,
    "start_time": "2022-09-22T14:25:00.457Z"
   },
   {
    "duration": 590,
    "start_time": "2022-09-22T14:25:00.469Z"
   },
   {
    "duration": 3,
    "start_time": "2022-09-22T14:25:01.060Z"
   },
   {
    "duration": 2408,
    "start_time": "2022-09-22T14:25:01.065Z"
   },
   {
    "duration": 29,
    "start_time": "2022-09-22T14:25:03.475Z"
   },
   {
    "duration": 2177,
    "start_time": "2022-09-22T14:25:03.506Z"
   },
   {
    "duration": 7314,
    "start_time": "2022-09-22T14:25:05.685Z"
   },
   {
    "duration": 1465,
    "start_time": "2022-09-22T14:25:22.409Z"
   },
   {
    "duration": 1520,
    "start_time": "2022-09-22T14:27:49.069Z"
   },
   {
    "duration": 484,
    "start_time": "2022-09-22T14:28:48.832Z"
   },
   {
    "duration": 207,
    "start_time": "2022-09-22T14:29:00.630Z"
   },
   {
    "duration": 1393,
    "start_time": "2022-09-22T14:29:56.796Z"
   },
   {
    "duration": 1318,
    "start_time": "2022-09-22T14:31:05.792Z"
   },
   {
    "duration": 307,
    "start_time": "2022-09-22T14:32:34.468Z"
   },
   {
    "duration": 314,
    "start_time": "2022-09-22T14:32:47.634Z"
   },
   {
    "duration": 263,
    "start_time": "2022-09-22T14:33:20.396Z"
   },
   {
    "duration": 4,
    "start_time": "2022-09-22T14:34:03.830Z"
   },
   {
    "duration": 46,
    "start_time": "2022-09-22T14:34:17.612Z"
   },
   {
    "duration": 13,
    "start_time": "2022-09-22T14:34:23.490Z"
   },
   {
    "duration": 261,
    "start_time": "2022-09-22T14:36:39.416Z"
   },
   {
    "duration": 24,
    "start_time": "2022-09-22T14:36:40.316Z"
   },
   {
    "duration": 281,
    "start_time": "2022-09-22T14:36:47.987Z"
   },
   {
    "duration": 283,
    "start_time": "2022-09-22T14:36:48.403Z"
   },
   {
    "duration": 20,
    "start_time": "2022-09-22T14:36:48.839Z"
   },
   {
    "duration": 52,
    "start_time": "2022-09-22T14:37:26.951Z"
   },
   {
    "duration": 5,
    "start_time": "2022-09-22T14:37:28.140Z"
   },
   {
    "duration": 6,
    "start_time": "2022-09-22T14:37:38.824Z"
   },
   {
    "duration": 52,
    "start_time": "2022-09-22T14:38:04.817Z"
   },
   {
    "duration": 13,
    "start_time": "2022-09-22T14:38:07.693Z"
   },
   {
    "duration": 8,
    "start_time": "2022-09-22T14:40:58.005Z"
   },
   {
    "duration": 76,
    "start_time": "2022-09-22T14:42:04.212Z"
   },
   {
    "duration": 7,
    "start_time": "2022-09-22T14:42:11.980Z"
   },
   {
    "duration": 4,
    "start_time": "2022-09-22T14:42:14.509Z"
   },
   {
    "duration": 7,
    "start_time": "2022-09-22T14:42:57.685Z"
   },
   {
    "duration": 4,
    "start_time": "2022-09-22T14:42:59.966Z"
   },
   {
    "duration": 7,
    "start_time": "2022-09-22T14:43:04.602Z"
   },
   {
    "duration": 4,
    "start_time": "2022-09-22T14:43:05.066Z"
   },
   {
    "duration": 4,
    "start_time": "2022-09-22T14:43:15.893Z"
   },
   {
    "duration": 4,
    "start_time": "2022-09-22T14:43:16.553Z"
   },
   {
    "duration": 6,
    "start_time": "2022-09-22T14:43:28.694Z"
   },
   {
    "duration": 4,
    "start_time": "2022-09-22T14:43:28.967Z"
   },
   {
    "duration": 6,
    "start_time": "2022-09-22T14:43:59.588Z"
   },
   {
    "duration": 5,
    "start_time": "2022-09-22T14:44:00.029Z"
   },
   {
    "duration": 6,
    "start_time": "2022-09-22T14:44:13.405Z"
   },
   {
    "duration": 4,
    "start_time": "2022-09-22T14:44:13.914Z"
   },
   {
    "duration": 6,
    "start_time": "2022-09-22T14:44:26.402Z"
   },
   {
    "duration": 6,
    "start_time": "2022-09-22T14:44:37.268Z"
   },
   {
    "duration": 3,
    "start_time": "2022-09-22T14:44:37.710Z"
   },
   {
    "duration": 7,
    "start_time": "2022-09-22T14:44:59.744Z"
   },
   {
    "duration": 4,
    "start_time": "2022-09-22T14:45:00.443Z"
   },
   {
    "duration": 9,
    "start_time": "2022-09-22T14:45:06.207Z"
   },
   {
    "duration": 4,
    "start_time": "2022-09-22T14:45:06.611Z"
   },
   {
    "duration": 4,
    "start_time": "2022-09-22T14:45:24.270Z"
   },
   {
    "duration": 6,
    "start_time": "2022-09-22T14:45:29.871Z"
   },
   {
    "duration": 3,
    "start_time": "2022-09-22T14:45:30.170Z"
   },
   {
    "duration": 12,
    "start_time": "2022-09-22T14:46:22.639Z"
   },
   {
    "duration": 4,
    "start_time": "2022-09-22T14:46:28.061Z"
   },
   {
    "duration": 21,
    "start_time": "2022-09-22T14:46:56.291Z"
   },
   {
    "duration": 4,
    "start_time": "2022-09-22T14:47:03.851Z"
   },
   {
    "duration": 6,
    "start_time": "2022-09-22T14:47:23.615Z"
   },
   {
    "duration": 4,
    "start_time": "2022-09-22T14:47:28.004Z"
   },
   {
    "duration": 7,
    "start_time": "2022-09-22T14:47:40.176Z"
   },
   {
    "duration": 2,
    "start_time": "2022-09-22T14:47:40.696Z"
   },
   {
    "duration": 2,
    "start_time": "2022-09-22T14:47:43.770Z"
   },
   {
    "duration": 3,
    "start_time": "2022-09-22T14:47:51.544Z"
   },
   {
    "duration": 8,
    "start_time": "2022-09-22T14:47:53.442Z"
   },
   {
    "duration": 4,
    "start_time": "2022-09-22T14:47:53.801Z"
   },
   {
    "duration": 2,
    "start_time": "2022-09-22T14:48:00.760Z"
   },
   {
    "duration": 3,
    "start_time": "2022-09-22T14:48:03.210Z"
   },
   {
    "duration": 2,
    "start_time": "2022-09-22T14:48:10.902Z"
   },
   {
    "duration": 3,
    "start_time": "2022-09-22T14:48:11.147Z"
   },
   {
    "duration": 6,
    "start_time": "2022-09-22T14:48:15.255Z"
   },
   {
    "duration": 2,
    "start_time": "2022-09-22T14:48:15.579Z"
   },
   {
    "duration": 6,
    "start_time": "2022-09-22T14:48:24.374Z"
   },
   {
    "duration": 2,
    "start_time": "2022-09-22T14:48:25.566Z"
   },
   {
    "duration": 3,
    "start_time": "2022-09-22T14:48:29.148Z"
   },
   {
    "duration": 3,
    "start_time": "2022-09-22T14:48:30.983Z"
   },
   {
    "duration": 6,
    "start_time": "2022-09-22T14:48:32.588Z"
   },
   {
    "duration": 4,
    "start_time": "2022-09-22T14:48:32.878Z"
   },
   {
    "duration": 1806,
    "start_time": "2022-09-22T14:49:09.516Z"
   },
   {
    "duration": 30,
    "start_time": "2022-09-22T14:49:17.954Z"
   },
   {
    "duration": 3,
    "start_time": "2022-09-22T14:54:41.042Z"
   },
   {
    "duration": 11,
    "start_time": "2022-09-22T14:55:41.521Z"
   },
   {
    "duration": 2,
    "start_time": "2022-09-22T14:55:44.715Z"
   },
   {
    "duration": 743,
    "start_time": "2022-09-22T14:55:44.902Z"
   },
   {
    "duration": 18,
    "start_time": "2022-09-22T14:55:54.798Z"
   },
   {
    "duration": 18,
    "start_time": "2022-09-22T14:56:00.402Z"
   },
   {
    "duration": 18,
    "start_time": "2022-09-22T14:56:02.883Z"
   },
   {
    "duration": 25,
    "start_time": "2022-09-22T14:56:07.527Z"
   },
   {
    "duration": 113,
    "start_time": "2022-09-22T14:57:28.608Z"
   },
   {
    "duration": 25,
    "start_time": "2022-09-22T14:57:58.530Z"
   },
   {
    "duration": 9,
    "start_time": "2022-09-22T14:58:02.337Z"
   },
   {
    "duration": 10,
    "start_time": "2022-09-22T14:58:21.193Z"
   },
   {
    "duration": 8,
    "start_time": "2022-09-22T14:58:24.864Z"
   },
   {
    "duration": 11,
    "start_time": "2022-09-22T14:58:31.085Z"
   },
   {
    "duration": 10,
    "start_time": "2022-09-22T14:58:34.052Z"
   },
   {
    "duration": 13,
    "start_time": "2022-09-22T14:58:42.805Z"
   },
   {
    "duration": 16,
    "start_time": "2022-09-22T14:59:40.921Z"
   },
   {
    "duration": 444,
    "start_time": "2022-09-22T14:59:56.392Z"
   },
   {
    "duration": 17,
    "start_time": "2022-09-22T15:00:04.477Z"
   },
   {
    "duration": 14,
    "start_time": "2022-09-22T15:00:06.838Z"
   },
   {
    "duration": 5,
    "start_time": "2022-09-22T15:01:07.717Z"
   },
   {
    "duration": 691,
    "start_time": "2022-09-22T15:06:02.103Z"
   },
   {
    "duration": 12,
    "start_time": "2022-09-22T15:06:05.636Z"
   },
   {
    "duration": 690,
    "start_time": "2022-09-22T15:06:51.768Z"
   },
   {
    "duration": 750,
    "start_time": "2022-09-22T15:07:06.816Z"
   },
   {
    "duration": 661,
    "start_time": "2022-09-22T15:07:37.795Z"
   },
   {
    "duration": 747,
    "start_time": "2022-09-22T15:07:53.837Z"
   },
   {
    "duration": 10,
    "start_time": "2022-09-22T15:07:54.585Z"
   },
   {
    "duration": 2066,
    "start_time": "2022-09-22T15:08:55.474Z"
   },
   {
    "duration": 1936,
    "start_time": "2022-09-22T15:09:03.986Z"
   },
   {
    "duration": 29,
    "start_time": "2022-09-22T15:09:22.413Z"
   },
   {
    "duration": 8074,
    "start_time": "2022-09-22T15:10:02.897Z"
   },
   {
    "duration": 3,
    "start_time": "2022-09-22T15:10:10.973Z"
   },
   {
    "duration": 734,
    "start_time": "2022-09-22T15:10:10.978Z"
   },
   {
    "duration": 682,
    "start_time": "2022-09-22T15:10:11.714Z"
   },
   {
    "duration": 817,
    "start_time": "2022-09-22T15:10:36.089Z"
   },
   {
    "duration": 717,
    "start_time": "2022-09-22T15:10:41.196Z"
   },
   {
    "duration": 2073,
    "start_time": "2022-09-22T15:10:45.305Z"
   },
   {
    "duration": 25,
    "start_time": "2022-09-22T15:10:59.944Z"
   },
   {
    "duration": 5,
    "start_time": "2022-09-22T15:11:41.152Z"
   },
   {
    "duration": 1931,
    "start_time": "2022-09-22T15:11:41.452Z"
   },
   {
    "duration": 6,
    "start_time": "2022-09-22T15:11:43.385Z"
   },
   {
    "duration": 55,
    "start_time": "2022-09-22T15:11:43.392Z"
   },
   {
    "duration": 937,
    "start_time": "2022-09-22T15:11:43.449Z"
   },
   {
    "duration": 5,
    "start_time": "2022-09-22T15:11:44.387Z"
   },
   {
    "duration": 1988,
    "start_time": "2022-09-22T15:11:44.393Z"
   },
   {
    "duration": 2158,
    "start_time": "2022-09-23T08:52:59.468Z"
   },
   {
    "duration": 195,
    "start_time": "2022-09-23T08:53:01.627Z"
   },
   {
    "duration": 16,
    "start_time": "2022-09-23T08:53:01.824Z"
   },
   {
    "duration": 28,
    "start_time": "2022-09-23T08:53:01.842Z"
   },
   {
    "duration": 40,
    "start_time": "2022-09-23T08:53:01.872Z"
   },
   {
    "duration": 19,
    "start_time": "2022-09-23T08:53:01.914Z"
   },
   {
    "duration": 70,
    "start_time": "2022-09-23T08:53:01.935Z"
   },
   {
    "duration": 7,
    "start_time": "2022-09-23T08:53:02.007Z"
   },
   {
    "duration": 40,
    "start_time": "2022-09-23T08:53:02.015Z"
   },
   {
    "duration": 46,
    "start_time": "2022-09-23T08:53:02.057Z"
   },
   {
    "duration": 27,
    "start_time": "2022-09-23T08:53:02.105Z"
   },
   {
    "duration": 149,
    "start_time": "2022-09-23T08:53:02.134Z"
   },
   {
    "duration": 10,
    "start_time": "2022-09-23T08:53:02.284Z"
   },
   {
    "duration": 5,
    "start_time": "2022-09-23T08:53:02.296Z"
   },
   {
    "duration": 13,
    "start_time": "2022-09-23T08:53:02.303Z"
   },
   {
    "duration": 23,
    "start_time": "2022-09-23T08:53:02.318Z"
   },
   {
    "duration": 9,
    "start_time": "2022-09-23T08:53:02.343Z"
   },
   {
    "duration": 53,
    "start_time": "2022-09-23T08:53:02.354Z"
   },
   {
    "duration": 6,
    "start_time": "2022-09-23T08:53:02.409Z"
   },
   {
    "duration": 85,
    "start_time": "2022-09-23T08:53:02.416Z"
   },
   {
    "duration": 33,
    "start_time": "2022-09-23T08:53:02.502Z"
   },
   {
    "duration": 2,
    "start_time": "2022-09-23T08:53:02.537Z"
   },
   {
    "duration": 704,
    "start_time": "2022-09-23T08:53:02.540Z"
   },
   {
    "duration": 7,
    "start_time": "2022-09-23T08:53:03.246Z"
   },
   {
    "duration": 20095,
    "start_time": "2022-09-23T08:53:03.255Z"
   },
   {
    "duration": 9812,
    "start_time": "2022-09-23T08:53:23.352Z"
   },
   {
    "duration": 12321,
    "start_time": "2022-09-23T08:53:33.166Z"
   },
   {
    "duration": 4,
    "start_time": "2022-09-23T08:53:45.490Z"
   },
   {
    "duration": 1943,
    "start_time": "2022-09-23T08:53:45.495Z"
   },
   {
    "duration": 7,
    "start_time": "2022-09-23T08:53:47.439Z"
   },
   {
    "duration": 59,
    "start_time": "2022-09-23T08:53:47.448Z"
   },
   {
    "duration": 3254,
    "start_time": "2022-09-23T08:53:47.508Z"
   },
   {
    "duration": 4,
    "start_time": "2022-09-23T08:53:50.764Z"
   },
   {
    "duration": 4312,
    "start_time": "2022-09-23T08:53:50.770Z"
   },
   {
    "duration": 3,
    "start_time": "2022-09-23T08:53:55.084Z"
   },
   {
    "duration": 658,
    "start_time": "2022-09-23T08:53:55.088Z"
   },
   {
    "duration": 837,
    "start_time": "2022-09-23T08:53:55.748Z"
   },
   {
    "duration": 2075,
    "start_time": "2022-09-23T08:53:56.587Z"
   },
   {
    "duration": 46,
    "start_time": "2022-09-23T08:53:58.663Z"
   },
   {
    "duration": 638,
    "start_time": "2022-09-23T08:55:21.581Z"
   },
   {
    "duration": 2119,
    "start_time": "2022-09-23T08:55:22.221Z"
   },
   {
    "duration": 9,
    "start_time": "2022-09-23T08:59:11.565Z"
   },
   {
    "duration": 27,
    "start_time": "2022-09-23T08:59:17.384Z"
   },
   {
    "duration": 665,
    "start_time": "2022-09-23T09:06:07.012Z"
   },
   {
    "duration": 661,
    "start_time": "2022-09-23T09:06:07.679Z"
   },
   {
    "duration": 2005,
    "start_time": "2022-09-23T09:06:11.012Z"
   },
   {
    "duration": 3,
    "start_time": "2022-09-23T09:07:43.810Z"
   },
   {
    "duration": 4,
    "start_time": "2022-09-23T09:07:51.302Z"
   },
   {
    "duration": 7,
    "start_time": "2022-09-23T09:09:38.855Z"
   },
   {
    "duration": 12,
    "start_time": "2022-09-23T09:11:45.926Z"
   },
   {
    "duration": 4,
    "start_time": "2022-09-23T09:11:58.933Z"
   },
   {
    "duration": 15,
    "start_time": "2022-09-23T09:12:48.824Z"
   },
   {
    "duration": 156,
    "start_time": "2022-09-23T09:12:55.109Z"
   },
   {
    "duration": 11,
    "start_time": "2022-09-23T09:13:04.244Z"
   },
   {
    "duration": 27,
    "start_time": "2022-09-23T09:13:35.995Z"
   },
   {
    "duration": 5,
    "start_time": "2022-09-23T09:13:40.291Z"
   },
   {
    "duration": 5,
    "start_time": "2022-09-23T09:13:47.932Z"
   },
   {
    "duration": 6,
    "start_time": "2022-09-23T09:14:11.148Z"
   },
   {
    "duration": 4,
    "start_time": "2022-09-23T09:15:03.859Z"
   },
   {
    "duration": 3,
    "start_time": "2022-09-23T09:15:12.417Z"
   },
   {
    "duration": 4,
    "start_time": "2022-09-23T09:15:24.218Z"
   },
   {
    "duration": 4,
    "start_time": "2022-09-23T09:15:36.212Z"
   },
   {
    "duration": 4,
    "start_time": "2022-09-23T09:15:40.310Z"
   },
   {
    "duration": 4,
    "start_time": "2022-09-23T09:17:25.576Z"
   },
   {
    "duration": 6,
    "start_time": "2022-09-23T09:18:12.309Z"
   },
   {
    "duration": 6,
    "start_time": "2022-09-23T09:18:25.721Z"
   },
   {
    "duration": 18,
    "start_time": "2022-09-23T09:19:18.449Z"
   },
   {
    "duration": 18,
    "start_time": "2022-09-23T09:19:29.937Z"
   },
   {
    "duration": 1960,
    "start_time": "2022-09-23T09:20:10.713Z"
   },
   {
    "duration": 6,
    "start_time": "2022-09-23T09:20:28.480Z"
   },
   {
    "duration": 78,
    "start_time": "2022-09-23T09:21:28.759Z"
   },
   {
    "duration": 168,
    "start_time": "2022-09-23T09:21:40.190Z"
   },
   {
    "duration": 7,
    "start_time": "2022-09-23T09:22:17.418Z"
   },
   {
    "duration": 63,
    "start_time": "2022-09-23T09:22:17.427Z"
   },
   {
    "duration": 15,
    "start_time": "2022-09-23T09:22:17.492Z"
   },
   {
    "duration": 8,
    "start_time": "2022-09-23T09:22:17.508Z"
   },
   {
    "duration": 12,
    "start_time": "2022-09-23T09:22:17.518Z"
   },
   {
    "duration": 13,
    "start_time": "2022-09-23T09:22:17.531Z"
   },
   {
    "duration": 72,
    "start_time": "2022-09-23T09:22:17.546Z"
   },
   {
    "duration": 8,
    "start_time": "2022-09-23T09:22:17.764Z"
   },
   {
    "duration": 10,
    "start_time": "2022-09-23T09:22:17.774Z"
   },
   {
    "duration": 3,
    "start_time": "2022-09-23T09:22:17.785Z"
   },
   {
    "duration": 12,
    "start_time": "2022-09-23T09:22:17.789Z"
   },
   {
    "duration": 131,
    "start_time": "2022-09-23T09:22:17.803Z"
   },
   {
    "duration": 10,
    "start_time": "2022-09-23T09:22:17.936Z"
   },
   {
    "duration": 2,
    "start_time": "2022-09-23T09:22:17.948Z"
   },
   {
    "duration": 14,
    "start_time": "2022-09-23T09:22:17.952Z"
   },
   {
    "duration": 42,
    "start_time": "2022-09-23T09:22:17.967Z"
   },
   {
    "duration": 11,
    "start_time": "2022-09-23T09:22:18.011Z"
   },
   {
    "duration": 23,
    "start_time": "2022-09-23T09:22:18.023Z"
   },
   {
    "duration": 6,
    "start_time": "2022-09-23T09:22:18.048Z"
   },
   {
    "duration": 53,
    "start_time": "2022-09-23T09:22:18.291Z"
   },
   {
    "duration": 68,
    "start_time": "2022-09-23T09:22:18.345Z"
   },
   {
    "duration": 2,
    "start_time": "2022-09-23T09:22:18.415Z"
   },
   {
    "duration": 651,
    "start_time": "2022-09-23T09:22:18.419Z"
   },
   {
    "duration": 7,
    "start_time": "2022-09-23T09:22:20.111Z"
   },
   {
    "duration": 20923,
    "start_time": "2022-09-23T09:22:20.120Z"
   },
   {
    "duration": 9955,
    "start_time": "2022-09-23T09:22:41.045Z"
   },
   {
    "duration": 12315,
    "start_time": "2022-09-23T09:22:51.002Z"
   },
   {
    "duration": 5,
    "start_time": "2022-09-23T09:23:03.319Z"
   },
   {
    "duration": 2023,
    "start_time": "2022-09-23T09:23:03.325Z"
   },
   {
    "duration": 7,
    "start_time": "2022-09-23T09:23:05.350Z"
   },
   {
    "duration": 57,
    "start_time": "2022-09-23T09:23:05.359Z"
   },
   {
    "duration": 460,
    "start_time": "2022-09-23T09:23:05.418Z"
   },
   {
    "duration": 5,
    "start_time": "2022-09-23T09:23:05.880Z"
   },
   {
    "duration": 916,
    "start_time": "2022-09-23T09:23:05.887Z"
   },
   {
    "duration": 720,
    "start_time": "2022-09-23T09:23:06.805Z"
   },
   {
    "duration": 777,
    "start_time": "2022-09-23T09:23:07.527Z"
   },
   {
    "duration": 2106,
    "start_time": "2022-09-23T09:23:08.307Z"
   },
   {
    "duration": 28,
    "start_time": "2022-09-23T09:23:10.414Z"
   },
   {
    "duration": 6,
    "start_time": "2022-09-23T09:23:10.443Z"
   },
   {
    "duration": 50,
    "start_time": "2022-09-23T09:23:10.450Z"
   },
   {
    "duration": 59,
    "start_time": "2022-09-23T10:01:38.399Z"
   },
   {
    "duration": 30,
    "start_time": "2022-09-23T10:01:53.957Z"
   },
   {
    "duration": 32,
    "start_time": "2022-09-23T10:06:47.770Z"
   },
   {
    "duration": 23,
    "start_time": "2022-09-23T10:06:57.395Z"
   },
   {
    "duration": 45,
    "start_time": "2022-09-23T10:09:35.444Z"
   },
   {
    "duration": 1696,
    "start_time": "2022-09-23T10:09:55.791Z"
   },
   {
    "duration": 65,
    "start_time": "2022-09-23T10:09:57.489Z"
   },
   {
    "duration": 15,
    "start_time": "2022-09-23T10:09:57.556Z"
   },
   {
    "duration": 50,
    "start_time": "2022-09-23T10:09:57.573Z"
   },
   {
    "duration": 9,
    "start_time": "2022-09-23T10:09:57.624Z"
   },
   {
    "duration": 11,
    "start_time": "2022-09-23T10:09:57.635Z"
   },
   {
    "duration": 14,
    "start_time": "2022-09-23T10:09:57.648Z"
   },
   {
    "duration": 73,
    "start_time": "2022-09-23T10:09:57.663Z"
   },
   {
    "duration": 7,
    "start_time": "2022-09-23T10:09:57.738Z"
   },
   {
    "duration": 11,
    "start_time": "2022-09-23T10:09:57.747Z"
   },
   {
    "duration": 3,
    "start_time": "2022-09-23T10:09:57.759Z"
   },
   {
    "duration": 8,
    "start_time": "2022-09-23T10:09:57.800Z"
   },
   {
    "duration": 152,
    "start_time": "2022-09-23T10:09:57.810Z"
   },
   {
    "duration": 11,
    "start_time": "2022-09-23T10:09:57.963Z"
   },
   {
    "duration": 3,
    "start_time": "2022-09-23T10:09:57.975Z"
   },
   {
    "duration": 30,
    "start_time": "2022-09-23T10:09:57.979Z"
   },
   {
    "duration": 21,
    "start_time": "2022-09-23T10:09:58.010Z"
   },
   {
    "duration": 10,
    "start_time": "2022-09-23T10:09:58.033Z"
   },
   {
    "duration": 22,
    "start_time": "2022-09-23T10:09:58.044Z"
   },
   {
    "duration": 34,
    "start_time": "2022-09-23T10:09:58.067Z"
   },
   {
    "duration": 40,
    "start_time": "2022-09-23T10:09:58.102Z"
   },
   {
    "duration": 3,
    "start_time": "2022-09-23T10:09:58.144Z"
   },
   {
    "duration": 659,
    "start_time": "2022-09-23T10:09:58.150Z"
   },
   {
    "duration": 6,
    "start_time": "2022-09-23T10:09:58.812Z"
   },
   {
    "duration": 20227,
    "start_time": "2022-09-23T10:09:58.820Z"
   },
   {
    "duration": 10052,
    "start_time": "2022-09-23T10:10:19.049Z"
   },
   {
    "duration": 11828,
    "start_time": "2022-09-23T10:10:29.103Z"
   },
   {
    "duration": 4,
    "start_time": "2022-09-23T10:10:40.934Z"
   },
   {
    "duration": 1939,
    "start_time": "2022-09-23T10:10:40.940Z"
   },
   {
    "duration": 22,
    "start_time": "2022-09-23T10:10:42.880Z"
   },
   {
    "duration": 36,
    "start_time": "2022-09-23T10:10:42.904Z"
   },
   {
    "duration": 3337,
    "start_time": "2022-09-23T10:10:42.942Z"
   },
   {
    "duration": 6,
    "start_time": "2022-09-23T10:10:46.281Z"
   },
   {
    "duration": 4225,
    "start_time": "2022-09-23T10:10:46.288Z"
   },
   {
    "duration": 701,
    "start_time": "2022-09-23T10:10:50.515Z"
   },
   {
    "duration": 833,
    "start_time": "2022-09-23T10:10:51.217Z"
   },
   {
    "duration": 2029,
    "start_time": "2022-09-23T10:10:52.052Z"
   },
   {
    "duration": 32,
    "start_time": "2022-09-23T10:10:54.100Z"
   },
   {
    "duration": 8,
    "start_time": "2022-09-23T10:10:54.133Z"
   },
   {
    "duration": 70,
    "start_time": "2022-09-23T10:10:54.143Z"
   },
   {
    "duration": 16,
    "start_time": "2022-09-23T10:13:30.528Z"
   },
   {
    "duration": 87,
    "start_time": "2022-09-23T10:20:09.831Z"
   },
   {
    "duration": 7,
    "start_time": "2022-09-23T10:24:47.086Z"
   },
   {
    "duration": 9,
    "start_time": "2022-09-23T10:56:24.502Z"
   },
   {
    "duration": 12,
    "start_time": "2022-09-23T10:56:57.357Z"
   },
   {
    "duration": 8,
    "start_time": "2022-09-23T10:56:58.071Z"
   },
   {
    "duration": 15,
    "start_time": "2022-09-23T10:57:37.055Z"
   },
   {
    "duration": 14,
    "start_time": "2022-09-23T10:57:38.756Z"
   },
   {
    "duration": 14,
    "start_time": "2022-09-23T10:57:38.999Z"
   },
   {
    "duration": 197,
    "start_time": "2022-09-23T10:57:51.879Z"
   },
   {
    "duration": 1015,
    "start_time": "2022-09-23T10:58:16.835Z"
   },
   {
    "duration": 5,
    "start_time": "2022-09-23T10:58:19.212Z"
   },
   {
    "duration": 4,
    "start_time": "2022-09-23T10:58:23.131Z"
   },
   {
    "duration": 11,
    "start_time": "2022-09-23T10:58:37.106Z"
   },
   {
    "duration": 10,
    "start_time": "2022-09-23T10:58:39.509Z"
   },
   {
    "duration": 11,
    "start_time": "2022-09-23T10:58:46.254Z"
   },
   {
    "duration": 3,
    "start_time": "2022-09-23T10:59:23.712Z"
   },
   {
    "duration": 3,
    "start_time": "2022-09-23T10:59:26.667Z"
   },
   {
    "duration": 10,
    "start_time": "2022-09-23T10:59:46.762Z"
   },
   {
    "duration": 13,
    "start_time": "2022-09-23T10:59:49.498Z"
   },
   {
    "duration": 3,
    "start_time": "2022-09-23T10:59:59.958Z"
   },
   {
    "duration": 4,
    "start_time": "2022-09-23T11:06:06.957Z"
   },
   {
    "duration": 4,
    "start_time": "2022-09-23T11:06:31.907Z"
   },
   {
    "duration": 3,
    "start_time": "2022-09-23T11:06:36.836Z"
   },
   {
    "duration": 11,
    "start_time": "2022-09-23T11:06:37.783Z"
   },
   {
    "duration": 14,
    "start_time": "2022-09-23T11:06:38.286Z"
   },
   {
    "duration": 7,
    "start_time": "2022-09-23T11:06:48.711Z"
   },
   {
    "duration": 61,
    "start_time": "2022-09-23T11:06:48.720Z"
   },
   {
    "duration": 14,
    "start_time": "2022-09-23T11:06:48.782Z"
   },
   {
    "duration": 51,
    "start_time": "2022-09-23T11:06:48.798Z"
   },
   {
    "duration": 10,
    "start_time": "2022-09-23T11:06:48.851Z"
   },
   {
    "duration": 45,
    "start_time": "2022-09-23T11:06:48.863Z"
   },
   {
    "duration": 14,
    "start_time": "2022-09-23T11:06:48.909Z"
   },
   {
    "duration": 42,
    "start_time": "2022-09-23T11:06:48.925Z"
   },
   {
    "duration": 8,
    "start_time": "2022-09-23T11:06:49.002Z"
   },
   {
    "duration": 11,
    "start_time": "2022-09-23T11:06:49.012Z"
   },
   {
    "duration": 4,
    "start_time": "2022-09-23T11:06:49.025Z"
   },
   {
    "duration": 11,
    "start_time": "2022-09-23T11:06:49.031Z"
   },
   {
    "duration": 165,
    "start_time": "2022-09-23T11:06:49.043Z"
   },
   {
    "duration": 10,
    "start_time": "2022-09-23T11:06:49.209Z"
   },
   {
    "duration": 4,
    "start_time": "2022-09-23T11:06:49.220Z"
   },
   {
    "duration": 7,
    "start_time": "2022-09-23T11:06:49.225Z"
   },
   {
    "duration": 15,
    "start_time": "2022-09-23T11:06:49.233Z"
   },
   {
    "duration": 21,
    "start_time": "2022-09-23T11:06:49.249Z"
   },
   {
    "duration": 22,
    "start_time": "2022-09-23T11:07:05.063Z"
   },
   {
    "duration": 3,
    "start_time": "2022-09-23T11:08:18.510Z"
   },
   {
    "duration": 12,
    "start_time": "2022-09-23T11:08:19.552Z"
   },
   {
    "duration": 22,
    "start_time": "2022-09-23T11:08:19.767Z"
   },
   {
    "duration": 12,
    "start_time": "2022-09-23T11:08:20.310Z"
   },
   {
    "duration": 21,
    "start_time": "2022-09-23T11:08:20.778Z"
   },
   {
    "duration": 7,
    "start_time": "2022-09-23T11:08:21.192Z"
   },
   {
    "duration": 33,
    "start_time": "2022-09-23T11:08:21.834Z"
   },
   {
    "duration": 2,
    "start_time": "2022-09-23T11:08:22.232Z"
   },
   {
    "duration": 699,
    "start_time": "2022-09-23T11:08:22.506Z"
   },
   {
    "duration": 7,
    "start_time": "2022-09-23T11:08:23.207Z"
   },
   {
    "duration": 20441,
    "start_time": "2022-09-23T11:08:23.343Z"
   },
   {
    "duration": 10193,
    "start_time": "2022-09-23T11:08:43.787Z"
   },
   {
    "duration": 12239,
    "start_time": "2022-09-23T11:08:53.982Z"
   },
   {
    "duration": 5,
    "start_time": "2022-09-23T11:09:06.223Z"
   },
   {
    "duration": 1833,
    "start_time": "2022-09-23T11:09:06.230Z"
   },
   {
    "duration": 6,
    "start_time": "2022-09-23T11:09:08.064Z"
   },
   {
    "duration": 65,
    "start_time": "2022-09-23T11:09:08.072Z"
   },
   {
    "duration": 3787,
    "start_time": "2022-09-23T11:09:08.139Z"
   },
   {
    "duration": 4,
    "start_time": "2022-09-23T11:09:11.928Z"
   },
   {
    "duration": 3562,
    "start_time": "2022-09-23T11:09:11.934Z"
   },
   {
    "duration": 714,
    "start_time": "2022-09-23T11:09:15.497Z"
   },
   {
    "duration": 725,
    "start_time": "2022-09-23T11:09:16.213Z"
   },
   {
    "duration": 2006,
    "start_time": "2022-09-23T11:09:16.940Z"
   },
   {
    "duration": 27,
    "start_time": "2022-09-23T11:09:18.948Z"
   },
   {
    "duration": 28,
    "start_time": "2022-09-23T11:09:18.976Z"
   },
   {
    "duration": 23,
    "start_time": "2022-09-23T11:09:19.006Z"
   },
   {
    "duration": 15,
    "start_time": "2022-09-23T11:09:19.031Z"
   },
   {
    "duration": 4,
    "start_time": "2022-09-23T11:11:20.317Z"
   },
   {
    "duration": 21,
    "start_time": "2022-09-23T11:11:35.372Z"
   },
   {
    "duration": 16,
    "start_time": "2022-09-23T11:11:50.808Z"
   },
   {
    "duration": 43,
    "start_time": "2022-09-23T11:14:16.908Z"
   },
   {
    "duration": 4,
    "start_time": "2022-09-23T11:14:19.025Z"
   },
   {
    "duration": 32,
    "start_time": "2022-09-23T11:14:22.402Z"
   },
   {
    "duration": 16,
    "start_time": "2022-09-23T11:14:40.569Z"
   },
   {
    "duration": 16,
    "start_time": "2022-09-23T11:14:41.716Z"
   },
   {
    "duration": 4,
    "start_time": "2022-09-23T11:14:41.938Z"
   },
   {
    "duration": 12,
    "start_time": "2022-09-23T11:14:42.291Z"
   },
   {
    "duration": 856,
    "start_time": "2022-09-23T11:15:29.270Z"
   },
   {
    "duration": 16,
    "start_time": "2022-09-23T11:15:44.024Z"
   },
   {
    "duration": 5,
    "start_time": "2022-09-23T11:15:44.236Z"
   },
   {
    "duration": 5,
    "start_time": "2022-09-23T11:15:44.599Z"
   },
   {
    "duration": 254,
    "start_time": "2022-09-23T11:16:07.762Z"
   },
   {
    "duration": 22,
    "start_time": "2022-09-23T11:16:44.906Z"
   },
   {
    "duration": 12,
    "start_time": "2022-09-23T11:16:57.380Z"
   },
   {
    "duration": 10289,
    "start_time": "2022-09-23T11:17:03.507Z"
   },
   {
    "duration": 169,
    "start_time": "2022-09-23T11:27:14.399Z"
   },
   {
    "duration": 267,
    "start_time": "2022-09-23T11:27:28.915Z"
   },
   {
    "duration": 112,
    "start_time": "2022-09-23T11:27:44.401Z"
   },
   {
    "duration": 709,
    "start_time": "2022-09-23T11:27:54.351Z"
   },
   {
    "duration": 5,
    "start_time": "2022-09-23T11:28:42.574Z"
   },
   {
    "duration": 4,
    "start_time": "2022-09-23T11:28:43.230Z"
   },
   {
    "duration": 12,
    "start_time": "2022-09-23T11:28:43.912Z"
   },
   {
    "duration": 1700,
    "start_time": "2022-09-23T11:28:50.319Z"
   },
   {
    "duration": 61,
    "start_time": "2022-09-23T11:28:52.021Z"
   },
   {
    "duration": 14,
    "start_time": "2022-09-23T11:28:52.084Z"
   },
   {
    "duration": 50,
    "start_time": "2022-09-23T11:28:52.100Z"
   },
   {
    "duration": 9,
    "start_time": "2022-09-23T11:28:52.152Z"
   },
   {
    "duration": 44,
    "start_time": "2022-09-23T11:28:52.162Z"
   },
   {
    "duration": 14,
    "start_time": "2022-09-23T11:28:52.208Z"
   },
   {
    "duration": 80,
    "start_time": "2022-09-23T11:28:52.224Z"
   },
   {
    "duration": 4,
    "start_time": "2022-09-23T11:28:52.306Z"
   },
   {
    "duration": 9,
    "start_time": "2022-09-23T11:28:52.311Z"
   },
   {
    "duration": 10,
    "start_time": "2022-09-23T11:28:52.322Z"
   },
   {
    "duration": 3,
    "start_time": "2022-09-23T11:28:52.334Z"
   },
   {
    "duration": 8,
    "start_time": "2022-09-23T11:28:52.339Z"
   },
   {
    "duration": 164,
    "start_time": "2022-09-23T11:28:52.350Z"
   },
   {
    "duration": 11,
    "start_time": "2022-09-23T11:28:52.516Z"
   },
   {
    "duration": 4,
    "start_time": "2022-09-23T11:28:52.528Z"
   },
   {
    "duration": 6,
    "start_time": "2022-09-23T11:28:52.534Z"
   },
   {
    "duration": 14,
    "start_time": "2022-09-23T11:28:52.541Z"
   },
   {
    "duration": 48,
    "start_time": "2022-09-23T11:28:52.557Z"
   },
   {
    "duration": 12,
    "start_time": "2022-09-23T11:28:52.607Z"
   },
   {
    "duration": 23,
    "start_time": "2022-09-23T11:28:52.621Z"
   },
   {
    "duration": 7,
    "start_time": "2022-09-23T11:28:52.646Z"
   },
   {
    "duration": 111,
    "start_time": "2022-09-23T11:28:52.654Z"
   },
   {
    "duration": 3,
    "start_time": "2022-09-23T11:28:52.767Z"
   },
   {
    "duration": 658,
    "start_time": "2022-09-23T11:28:52.772Z"
   },
   {
    "duration": 7,
    "start_time": "2022-09-23T11:28:53.433Z"
   },
   {
    "duration": 19816,
    "start_time": "2022-09-23T11:28:53.442Z"
   },
   {
    "duration": 9900,
    "start_time": "2022-09-23T11:29:13.260Z"
   },
   {
    "duration": 11718,
    "start_time": "2022-09-23T11:29:23.161Z"
   },
   {
    "duration": 4,
    "start_time": "2022-09-23T11:29:34.880Z"
   },
   {
    "duration": 1892,
    "start_time": "2022-09-23T11:29:34.886Z"
   },
   {
    "duration": 24,
    "start_time": "2022-09-23T11:29:36.780Z"
   },
   {
    "duration": 34,
    "start_time": "2022-09-23T11:29:36.805Z"
   },
   {
    "duration": 670,
    "start_time": "2022-09-23T11:29:36.841Z"
   },
   {
    "duration": 5,
    "start_time": "2022-09-23T11:29:37.513Z"
   },
   {
    "duration": 1192,
    "start_time": "2022-09-23T11:29:37.519Z"
   },
   {
    "duration": 579,
    "start_time": "2022-09-23T11:29:38.712Z"
   },
   {
    "duration": 834,
    "start_time": "2022-09-23T11:29:39.293Z"
   },
   {
    "duration": 2059,
    "start_time": "2022-09-23T11:29:40.128Z"
   },
   {
    "duration": 33,
    "start_time": "2022-09-23T11:29:42.188Z"
   },
   {
    "duration": 6,
    "start_time": "2022-09-23T11:29:42.224Z"
   },
   {
    "duration": 21,
    "start_time": "2022-09-23T11:29:42.231Z"
   },
   {
    "duration": 52,
    "start_time": "2022-09-23T11:29:42.253Z"
   },
   {
    "duration": 142,
    "start_time": "2022-09-23T11:29:42.307Z"
   },
   {
    "duration": 0,
    "start_time": "2022-09-23T11:29:42.450Z"
   },
   {
    "duration": 0,
    "start_time": "2022-09-23T11:29:42.451Z"
   },
   {
    "duration": 0,
    "start_time": "2022-09-23T11:29:42.452Z"
   },
   {
    "duration": 28,
    "start_time": "2022-09-23T12:32:33.452Z"
   },
   {
    "duration": 16,
    "start_time": "2022-09-23T12:32:46.190Z"
   },
   {
    "duration": 13,
    "start_time": "2022-09-23T12:32:48.553Z"
   },
   {
    "duration": 10313,
    "start_time": "2022-09-23T12:32:48.765Z"
   },
   {
    "duration": 719,
    "start_time": "2022-09-23T12:33:09.088Z"
   },
   {
    "duration": 740,
    "start_time": "2022-09-23T12:37:19.681Z"
   },
   {
    "duration": 636,
    "start_time": "2022-09-23T12:37:27.613Z"
   },
   {
    "duration": 10654,
    "start_time": "2022-09-23T12:42:58.735Z"
   },
   {
    "duration": 98245,
    "start_time": "2022-09-23T12:47:21.107Z"
   },
   {
    "duration": 0,
    "start_time": "2022-09-23T12:48:59.356Z"
   },
   {
    "duration": 0,
    "start_time": "2022-09-23T12:48:59.357Z"
   },
   {
    "duration": 1648,
    "start_time": "2022-09-23T12:49:48.000Z"
   },
   {
    "duration": 63,
    "start_time": "2022-09-23T12:49:49.650Z"
   },
   {
    "duration": 15,
    "start_time": "2022-09-23T12:49:49.715Z"
   },
   {
    "duration": 72,
    "start_time": "2022-09-23T12:49:49.732Z"
   },
   {
    "duration": 10,
    "start_time": "2022-09-23T12:49:49.806Z"
   },
   {
    "duration": 13,
    "start_time": "2022-09-23T12:49:49.818Z"
   },
   {
    "duration": 14,
    "start_time": "2022-09-23T12:49:49.833Z"
   },
   {
    "duration": 82,
    "start_time": "2022-09-23T12:49:49.849Z"
   },
   {
    "duration": 3,
    "start_time": "2022-09-23T12:49:49.933Z"
   },
   {
    "duration": 8,
    "start_time": "2022-09-23T12:49:49.938Z"
   },
   {
    "duration": 53,
    "start_time": "2022-09-23T12:49:49.948Z"
   },
   {
    "duration": 3,
    "start_time": "2022-09-23T12:49:50.003Z"
   },
   {
    "duration": 18,
    "start_time": "2022-09-23T12:49:50.007Z"
   },
   {
    "duration": 155,
    "start_time": "2022-09-23T12:49:50.026Z"
   },
   {
    "duration": 21,
    "start_time": "2022-09-23T12:49:50.182Z"
   },
   {
    "duration": 5,
    "start_time": "2022-09-23T12:49:50.204Z"
   },
   {
    "duration": 13,
    "start_time": "2022-09-23T12:49:50.210Z"
   },
   {
    "duration": 19,
    "start_time": "2022-09-23T12:49:50.224Z"
   },
   {
    "duration": 22,
    "start_time": "2022-09-23T12:49:50.245Z"
   },
   {
    "duration": 33,
    "start_time": "2022-09-23T12:49:50.269Z"
   },
   {
    "duration": 27,
    "start_time": "2022-09-23T12:49:50.304Z"
   },
   {
    "duration": 8,
    "start_time": "2022-09-23T12:49:50.332Z"
   },
   {
    "duration": 123,
    "start_time": "2022-09-23T12:49:50.341Z"
   },
   {
    "duration": 2,
    "start_time": "2022-09-23T12:49:50.466Z"
   },
   {
    "duration": 681,
    "start_time": "2022-09-23T12:49:50.469Z"
   },
   {
    "duration": 9,
    "start_time": "2022-09-23T12:49:51.152Z"
   },
   {
    "duration": 21489,
    "start_time": "2022-09-23T12:49:51.163Z"
   },
   {
    "duration": 10153,
    "start_time": "2022-09-23T12:50:12.656Z"
   },
   {
    "duration": 12139,
    "start_time": "2022-09-23T12:50:22.811Z"
   },
   {
    "duration": 4,
    "start_time": "2022-09-23T12:50:34.952Z"
   },
   {
    "duration": 2074,
    "start_time": "2022-09-23T12:50:34.957Z"
   },
   {
    "duration": 6,
    "start_time": "2022-09-23T12:50:37.033Z"
   },
   {
    "duration": 34,
    "start_time": "2022-09-23T12:50:37.040Z"
   },
   {
    "duration": 3565,
    "start_time": "2022-09-23T12:50:37.101Z"
   },
   {
    "duration": 4,
    "start_time": "2022-09-23T12:50:40.668Z"
   },
   {
    "duration": 4186,
    "start_time": "2022-09-23T12:50:40.673Z"
   },
   {
    "duration": 547,
    "start_time": "2022-09-23T12:50:44.861Z"
   },
   {
    "duration": 840,
    "start_time": "2022-09-23T12:50:45.410Z"
   },
   {
    "duration": 2173,
    "start_time": "2022-09-23T12:50:46.251Z"
   },
   {
    "duration": 28,
    "start_time": "2022-09-23T12:50:48.426Z"
   },
   {
    "duration": 7,
    "start_time": "2022-09-23T12:50:48.455Z"
   },
   {
    "duration": 55,
    "start_time": "2022-09-23T12:50:48.463Z"
   },
   {
    "duration": 17,
    "start_time": "2022-09-23T12:50:48.520Z"
   },
   {
    "duration": 16,
    "start_time": "2022-09-23T12:50:48.539Z"
   },
   {
    "duration": 10,
    "start_time": "2022-09-23T12:50:48.557Z"
   },
   {
    "duration": 11215,
    "start_time": "2022-09-23T12:50:48.569Z"
   },
   {
    "duration": 100337,
    "start_time": "2022-09-23T12:50:59.786Z"
   },
   {
    "duration": 921,
    "start_time": "2022-09-23T12:52:40.125Z"
   },
   {
    "duration": 32976,
    "start_time": "2022-09-23T13:36:26.800Z"
   },
   {
    "duration": 428,
    "start_time": "2022-09-23T13:37:16.404Z"
   },
   {
    "duration": 15,
    "start_time": "2022-09-23T13:38:47.923Z"
   },
   {
    "duration": 13,
    "start_time": "2022-09-23T13:38:55.685Z"
   },
   {
    "duration": 10,
    "start_time": "2022-09-23T13:40:00.302Z"
   },
   {
    "duration": 13,
    "start_time": "2022-09-23T13:40:27.617Z"
   },
   {
    "duration": 565,
    "start_time": "2022-09-23T13:42:10.591Z"
   },
   {
    "duration": 542,
    "start_time": "2022-09-23T13:42:30.479Z"
   },
   {
    "duration": 10,
    "start_time": "2022-09-23T13:52:11.227Z"
   },
   {
    "duration": 142,
    "start_time": "2022-09-23T13:55:03.494Z"
   },
   {
    "duration": 15,
    "start_time": "2022-09-23T13:55:13.756Z"
   },
   {
    "duration": 15,
    "start_time": "2022-09-23T13:55:25.633Z"
   },
   {
    "duration": 14,
    "start_time": "2022-09-23T13:55:33.540Z"
   },
   {
    "duration": 2554,
    "start_time": "2022-09-23T13:57:27.270Z"
   },
   {
    "duration": 627,
    "start_time": "2022-09-23T13:57:47.585Z"
   },
   {
    "duration": 2362,
    "start_time": "2022-09-23T13:58:20.547Z"
   },
   {
    "duration": 17,
    "start_time": "2022-09-23T13:58:37.499Z"
   },
   {
    "duration": 2944,
    "start_time": "2022-09-23T13:58:53.243Z"
   },
   {
    "duration": 2299,
    "start_time": "2022-09-23T13:59:01.902Z"
   },
   {
    "duration": 2787,
    "start_time": "2022-09-23T13:59:18.403Z"
   },
   {
    "duration": 2487,
    "start_time": "2022-09-23T13:59:34.286Z"
   },
   {
    "duration": 2703,
    "start_time": "2022-09-23T14:20:14.390Z"
   },
   {
    "duration": 3159,
    "start_time": "2022-09-23T14:20:25.129Z"
   },
   {
    "duration": 2376,
    "start_time": "2022-09-23T14:20:36.722Z"
   },
   {
    "duration": 3031,
    "start_time": "2022-09-23T14:20:53.899Z"
   },
   {
    "duration": 2421,
    "start_time": "2022-09-23T14:21:03.692Z"
   },
   {
    "duration": 2285,
    "start_time": "2022-09-23T14:22:49.375Z"
   },
   {
    "duration": 1746,
    "start_time": "2022-09-23T14:22:57.987Z"
   },
   {
    "duration": 2336,
    "start_time": "2022-09-23T14:23:11.284Z"
   },
   {
    "duration": 2251,
    "start_time": "2022-09-23T14:23:40.142Z"
   },
   {
    "duration": 2016,
    "start_time": "2022-09-23T14:24:43.892Z"
   },
   {
    "duration": 1412,
    "start_time": "2022-09-23T14:25:06.583Z"
   },
   {
    "duration": 258,
    "start_time": "2022-09-23T14:26:29.727Z"
   },
   {
    "duration": 1100,
    "start_time": "2022-09-23T14:26:32.821Z"
   },
   {
    "duration": 15,
    "start_time": "2022-09-23T14:26:59.094Z"
   },
   {
    "duration": 1089,
    "start_time": "2022-09-23T14:27:01.805Z"
   },
   {
    "duration": 1844,
    "start_time": "2022-09-23T14:27:16.345Z"
   },
   {
    "duration": 3469,
    "start_time": "2022-09-23T14:27:40.260Z"
   },
   {
    "duration": 3142,
    "start_time": "2022-09-23T14:28:54.121Z"
   },
   {
    "duration": 4072,
    "start_time": "2022-09-23T14:29:03.304Z"
   },
   {
    "duration": 3018,
    "start_time": "2022-09-23T14:29:19.562Z"
   },
   {
    "duration": 24,
    "start_time": "2022-09-23T14:30:14.082Z"
   },
   {
    "duration": 20,
    "start_time": "2022-09-23T14:33:04.166Z"
   },
   {
    "duration": 1272,
    "start_time": "2022-09-23T14:35:41.841Z"
   },
   {
    "duration": 1733,
    "start_time": "2022-09-23T14:41:01.211Z"
   },
   {
    "duration": 63,
    "start_time": "2022-09-23T14:41:02.946Z"
   },
   {
    "duration": 15,
    "start_time": "2022-09-23T14:41:03.011Z"
   },
   {
    "duration": 82,
    "start_time": "2022-09-23T14:41:03.028Z"
   },
   {
    "duration": 8,
    "start_time": "2022-09-23T14:41:03.112Z"
   },
   {
    "duration": 11,
    "start_time": "2022-09-23T14:41:03.122Z"
   },
   {
    "duration": 14,
    "start_time": "2022-09-23T14:41:03.134Z"
   },
   {
    "duration": 68,
    "start_time": "2022-09-23T14:41:03.149Z"
   },
   {
    "duration": 4,
    "start_time": "2022-09-23T14:41:03.218Z"
   },
   {
    "duration": 9,
    "start_time": "2022-09-23T14:41:03.224Z"
   },
   {
    "duration": 8,
    "start_time": "2022-09-23T14:41:03.234Z"
   },
   {
    "duration": 2,
    "start_time": "2022-09-23T14:41:03.244Z"
   },
   {
    "duration": 9,
    "start_time": "2022-09-23T14:41:03.247Z"
   },
   {
    "duration": 181,
    "start_time": "2022-09-23T14:41:03.258Z"
   },
   {
    "duration": 12,
    "start_time": "2022-09-23T14:41:03.441Z"
   },
   {
    "duration": 8,
    "start_time": "2022-09-23T14:41:03.454Z"
   },
   {
    "duration": 16,
    "start_time": "2022-09-23T14:41:03.463Z"
   },
   {
    "duration": 20,
    "start_time": "2022-09-23T14:41:03.480Z"
   },
   {
    "duration": 23,
    "start_time": "2022-09-23T14:41:03.502Z"
   },
   {
    "duration": 11,
    "start_time": "2022-09-23T14:41:03.527Z"
   },
   {
    "duration": 24,
    "start_time": "2022-09-23T14:41:03.540Z"
   },
   {
    "duration": 7,
    "start_time": "2022-09-23T14:41:03.565Z"
   },
   {
    "duration": 106,
    "start_time": "2022-09-23T14:41:03.600Z"
   },
   {
    "duration": 2,
    "start_time": "2022-09-23T14:41:03.708Z"
   },
   {
    "duration": 698,
    "start_time": "2022-09-23T14:41:03.711Z"
   },
   {
    "duration": 8,
    "start_time": "2022-09-23T14:41:04.411Z"
   },
   {
    "duration": 20372,
    "start_time": "2022-09-23T14:41:04.421Z"
   },
   {
    "duration": 9938,
    "start_time": "2022-09-23T14:41:24.796Z"
   },
   {
    "duration": 12902,
    "start_time": "2022-09-23T14:41:34.736Z"
   },
   {
    "duration": 5,
    "start_time": "2022-09-23T14:41:47.640Z"
   },
   {
    "duration": 1814,
    "start_time": "2022-09-23T14:41:47.647Z"
   },
   {
    "duration": 6,
    "start_time": "2022-09-23T14:41:49.463Z"
   },
   {
    "duration": 50,
    "start_time": "2022-09-23T14:41:49.470Z"
   },
   {
    "duration": 3509,
    "start_time": "2022-09-23T14:41:49.521Z"
   },
   {
    "duration": 5,
    "start_time": "2022-09-23T14:41:53.031Z"
   },
   {
    "duration": 4191,
    "start_time": "2022-09-23T14:41:53.037Z"
   },
   {
    "duration": 601,
    "start_time": "2022-09-23T14:41:57.229Z"
   },
   {
    "duration": 802,
    "start_time": "2022-09-23T14:41:57.831Z"
   },
   {
    "duration": 2039,
    "start_time": "2022-09-23T14:41:58.635Z"
   },
   {
    "duration": 41,
    "start_time": "2022-09-23T14:42:00.676Z"
   },
   {
    "duration": 28,
    "start_time": "2022-09-23T14:42:00.718Z"
   },
   {
    "duration": 32,
    "start_time": "2022-09-23T14:42:00.747Z"
   },
   {
    "duration": 37,
    "start_time": "2022-09-23T14:42:00.780Z"
   },
   {
    "duration": 923,
    "start_time": "2022-09-23T14:42:00.819Z"
   },
   {
    "duration": 16,
    "start_time": "2022-09-23T14:42:01.744Z"
   },
   {
    "duration": 12,
    "start_time": "2022-09-23T14:42:01.761Z"
   },
   {
    "duration": 11,
    "start_time": "2022-09-23T14:42:01.775Z"
   },
   {
    "duration": 10496,
    "start_time": "2022-09-23T14:42:01.787Z"
   },
   {
    "duration": 624,
    "start_time": "2022-09-23T14:42:12.285Z"
   },
   {
    "duration": 1825,
    "start_time": "2022-09-23T20:33:31.229Z"
   },
   {
    "duration": 107,
    "start_time": "2022-09-23T20:33:33.056Z"
   },
   {
    "duration": 14,
    "start_time": "2022-09-23T20:33:33.164Z"
   },
   {
    "duration": 59,
    "start_time": "2022-09-23T20:33:33.179Z"
   },
   {
    "duration": 9,
    "start_time": "2022-09-23T20:33:33.240Z"
   },
   {
    "duration": 13,
    "start_time": "2022-09-23T20:33:33.250Z"
   },
   {
    "duration": 16,
    "start_time": "2022-09-23T20:33:33.264Z"
   },
   {
    "duration": 67,
    "start_time": "2022-09-23T20:33:33.281Z"
   },
   {
    "duration": 4,
    "start_time": "2022-09-23T20:33:33.350Z"
   },
   {
    "duration": 15,
    "start_time": "2022-09-23T20:33:33.356Z"
   },
   {
    "duration": 13,
    "start_time": "2022-09-23T20:33:33.378Z"
   },
   {
    "duration": 29,
    "start_time": "2022-09-23T20:33:33.393Z"
   },
   {
    "duration": 8,
    "start_time": "2022-09-23T20:33:33.423Z"
   },
   {
    "duration": 142,
    "start_time": "2022-09-23T20:33:33.433Z"
   },
   {
    "duration": 10,
    "start_time": "2022-09-23T20:33:33.576Z"
   },
   {
    "duration": 5,
    "start_time": "2022-09-23T20:33:33.588Z"
   },
   {
    "duration": 5,
    "start_time": "2022-09-23T20:33:33.594Z"
   },
   {
    "duration": 28,
    "start_time": "2022-09-23T20:33:33.600Z"
   },
   {
    "duration": 21,
    "start_time": "2022-09-23T20:33:33.629Z"
   },
   {
    "duration": 11,
    "start_time": "2022-09-23T20:33:33.652Z"
   },
   {
    "duration": 22,
    "start_time": "2022-09-23T20:33:33.664Z"
   },
   {
    "duration": 34,
    "start_time": "2022-09-23T20:33:33.688Z"
   },
   {
    "duration": 75,
    "start_time": "2022-09-23T20:33:33.723Z"
   },
   {
    "duration": 23,
    "start_time": "2022-09-23T20:33:33.799Z"
   },
   {
    "duration": 626,
    "start_time": "2022-09-23T20:33:33.824Z"
   },
   {
    "duration": 7,
    "start_time": "2022-09-23T20:33:34.452Z"
   },
   {
    "duration": 21012,
    "start_time": "2022-09-23T20:33:34.460Z"
   },
   {
    "duration": 10131,
    "start_time": "2022-09-23T20:33:55.474Z"
   },
   {
    "duration": 12275,
    "start_time": "2022-09-23T20:34:05.607Z"
   },
   {
    "duration": 4,
    "start_time": "2022-09-23T20:34:17.884Z"
   },
   {
    "duration": 1748,
    "start_time": "2022-09-23T20:34:17.889Z"
   },
   {
    "duration": 9,
    "start_time": "2022-09-23T20:34:19.639Z"
   },
   {
    "duration": 32,
    "start_time": "2022-09-23T20:34:19.649Z"
   },
   {
    "duration": 3588,
    "start_time": "2022-09-23T20:34:19.683Z"
   },
   {
    "duration": 4,
    "start_time": "2022-09-23T20:34:23.273Z"
   },
   {
    "duration": 4587,
    "start_time": "2022-09-23T20:34:23.279Z"
   },
   {
    "duration": 611,
    "start_time": "2022-09-23T20:34:27.868Z"
   },
   {
    "duration": 881,
    "start_time": "2022-09-23T20:34:28.481Z"
   },
   {
    "duration": 2241,
    "start_time": "2022-09-23T20:34:29.364Z"
   },
   {
    "duration": 45,
    "start_time": "2022-09-23T20:34:31.606Z"
   },
   {
    "duration": 7,
    "start_time": "2022-09-23T20:34:31.654Z"
   },
   {
    "duration": 61,
    "start_time": "2022-09-23T20:34:31.663Z"
   },
   {
    "duration": 17,
    "start_time": "2022-09-23T20:34:31.726Z"
   },
   {
    "duration": 873,
    "start_time": "2022-09-23T20:34:31.744Z"
   },
   {
    "duration": 16,
    "start_time": "2022-09-23T20:34:32.618Z"
   },
   {
    "duration": 12,
    "start_time": "2022-09-23T20:34:32.636Z"
   },
   {
    "duration": 11,
    "start_time": "2022-09-23T20:34:32.649Z"
   },
   {
    "duration": 10011,
    "start_time": "2022-09-23T20:34:32.662Z"
   },
   {
    "duration": 659,
    "start_time": "2022-09-23T20:34:42.675Z"
   },
   {
    "duration": 21,
    "start_time": "2022-09-23T20:34:54.823Z"
   },
   {
    "duration": 24,
    "start_time": "2022-09-23T20:35:05.913Z"
   },
   {
    "duration": 20,
    "start_time": "2022-09-23T20:35:21.509Z"
   },
   {
    "duration": 16,
    "start_time": "2022-09-23T20:37:29.014Z"
   },
   {
    "duration": 14,
    "start_time": "2022-09-23T20:38:12.238Z"
   },
   {
    "duration": 11,
    "start_time": "2022-09-23T20:38:18.541Z"
   },
   {
    "duration": 10,
    "start_time": "2022-09-23T20:40:50.666Z"
   },
   {
    "duration": 128,
    "start_time": "2022-09-23T20:41:00.153Z"
   },
   {
    "duration": 13,
    "start_time": "2022-09-23T20:41:04.238Z"
   },
   {
    "duration": 14,
    "start_time": "2022-09-23T20:42:06.147Z"
   },
   {
    "duration": 74,
    "start_time": "2022-09-23T20:42:21.952Z"
   },
   {
    "duration": 15,
    "start_time": "2022-09-23T20:42:25.435Z"
   },
   {
    "duration": 22,
    "start_time": "2022-09-23T20:45:16.550Z"
   },
   {
    "duration": 15,
    "start_time": "2022-09-23T20:52:01.552Z"
   },
   {
    "duration": 24772,
    "start_time": "2022-09-23T20:52:08.931Z"
   },
   {
    "duration": 10,
    "start_time": "2022-09-23T20:53:58.888Z"
   },
   {
    "duration": 34254,
    "start_time": "2022-09-23T20:54:16.388Z"
   },
   {
    "duration": 14,
    "start_time": "2022-09-23T20:55:30.835Z"
   },
   {
    "duration": 15,
    "start_time": "2022-09-23T20:55:37.747Z"
   },
   {
    "duration": 70,
    "start_time": "2022-09-23T20:55:55.582Z"
   },
   {
    "duration": 367,
    "start_time": "2022-09-23T20:56:05.698Z"
   },
   {
    "duration": 9853,
    "start_time": "2022-09-23T20:56:17.593Z"
   },
   {
    "duration": 33391,
    "start_time": "2022-09-23T20:58:01.238Z"
   },
   {
    "duration": 1719,
    "start_time": "2022-09-24T10:16:56.750Z"
   },
   {
    "duration": 423,
    "start_time": "2022-09-24T10:16:58.471Z"
   },
   {
    "duration": 15,
    "start_time": "2022-09-24T10:16:58.895Z"
   },
   {
    "duration": 58,
    "start_time": "2022-09-24T10:16:58.912Z"
   },
   {
    "duration": 37,
    "start_time": "2022-09-24T10:16:58.971Z"
   },
   {
    "duration": 21,
    "start_time": "2022-09-24T10:16:59.010Z"
   },
   {
    "duration": 24,
    "start_time": "2022-09-24T10:16:59.033Z"
   },
   {
    "duration": 58,
    "start_time": "2022-09-24T10:16:59.059Z"
   },
   {
    "duration": 3,
    "start_time": "2022-09-24T10:16:59.119Z"
   },
   {
    "duration": 15,
    "start_time": "2022-09-24T10:16:59.124Z"
   },
   {
    "duration": 33,
    "start_time": "2022-09-24T10:16:59.141Z"
   },
   {
    "duration": 12,
    "start_time": "2022-09-24T10:16:59.176Z"
   },
   {
    "duration": 21,
    "start_time": "2022-09-24T10:16:59.189Z"
   },
   {
    "duration": 148,
    "start_time": "2022-09-24T10:16:59.212Z"
   },
   {
    "duration": 11,
    "start_time": "2022-09-24T10:16:59.362Z"
   },
   {
    "duration": 5,
    "start_time": "2022-09-24T10:16:59.375Z"
   },
   {
    "duration": 18,
    "start_time": "2022-09-24T10:16:59.382Z"
   },
   {
    "duration": 20,
    "start_time": "2022-09-24T10:16:59.402Z"
   },
   {
    "duration": 28,
    "start_time": "2022-09-24T10:16:59.423Z"
   },
   {
    "duration": 11,
    "start_time": "2022-09-24T10:16:59.452Z"
   },
   {
    "duration": 47,
    "start_time": "2022-09-24T10:16:59.467Z"
   },
   {
    "duration": 9,
    "start_time": "2022-09-24T10:16:59.515Z"
   },
   {
    "duration": 110,
    "start_time": "2022-09-24T10:16:59.525Z"
   },
   {
    "duration": 3,
    "start_time": "2022-09-24T10:16:59.637Z"
   },
   {
    "duration": 624,
    "start_time": "2022-09-24T10:16:59.642Z"
   },
   {
    "duration": 7,
    "start_time": "2022-09-24T10:17:00.269Z"
   },
   {
    "duration": 20854,
    "start_time": "2022-09-24T10:17:00.277Z"
   },
   {
    "duration": 11397,
    "start_time": "2022-09-24T10:17:21.135Z"
   },
   {
    "duration": 12003,
    "start_time": "2022-09-24T10:17:32.534Z"
   },
   {
    "duration": 5,
    "start_time": "2022-09-24T10:17:44.541Z"
   },
   {
    "duration": 2074,
    "start_time": "2022-09-24T10:17:44.548Z"
   },
   {
    "duration": 6,
    "start_time": "2022-09-24T10:17:46.624Z"
   },
   {
    "duration": 44,
    "start_time": "2022-09-24T10:17:46.632Z"
   },
   {
    "duration": 4101,
    "start_time": "2022-09-24T10:17:46.677Z"
   },
   {
    "duration": 4,
    "start_time": "2022-09-24T10:17:50.780Z"
   },
   {
    "duration": 4212,
    "start_time": "2022-09-24T10:17:50.785Z"
   },
   {
    "duration": 566,
    "start_time": "2022-09-24T10:17:54.998Z"
   },
   {
    "duration": 790,
    "start_time": "2022-09-24T10:17:55.565Z"
   },
   {
    "duration": 2218,
    "start_time": "2022-09-24T10:17:56.356Z"
   },
   {
    "duration": 47,
    "start_time": "2022-09-24T10:17:58.576Z"
   },
   {
    "duration": 8,
    "start_time": "2022-09-24T10:17:58.625Z"
   },
   {
    "duration": 23,
    "start_time": "2022-09-24T10:17:58.635Z"
   },
   {
    "duration": 56,
    "start_time": "2022-09-24T10:17:58.660Z"
   },
   {
    "duration": 15,
    "start_time": "2022-09-24T10:17:58.717Z"
   },
   {
    "duration": 23,
    "start_time": "2022-09-24T10:17:58.733Z"
   },
   {
    "duration": 35514,
    "start_time": "2022-09-24T10:17:58.757Z"
   },
   {
    "duration": 892,
    "start_time": "2022-09-24T10:18:34.273Z"
   },
   {
    "duration": 11,
    "start_time": "2022-09-24T10:18:35.167Z"
   },
   {
    "duration": 10609,
    "start_time": "2022-09-24T10:18:35.180Z"
   },
   {
    "duration": 527,
    "start_time": "2022-09-24T10:18:45.791Z"
   },
   {
    "duration": 1667,
    "start_time": "2022-09-24T10:37:46.026Z"
   },
   {
    "duration": 60,
    "start_time": "2022-09-24T10:37:47.695Z"
   },
   {
    "duration": 15,
    "start_time": "2022-09-24T10:37:47.756Z"
   },
   {
    "duration": 48,
    "start_time": "2022-09-24T10:37:47.773Z"
   },
   {
    "duration": 9,
    "start_time": "2022-09-24T10:37:47.823Z"
   },
   {
    "duration": 12,
    "start_time": "2022-09-24T10:37:47.833Z"
   },
   {
    "duration": 13,
    "start_time": "2022-09-24T10:37:47.846Z"
   },
   {
    "duration": 70,
    "start_time": "2022-09-24T10:37:47.860Z"
   },
   {
    "duration": 3,
    "start_time": "2022-09-24T10:37:47.932Z"
   },
   {
    "duration": 9,
    "start_time": "2022-09-24T10:37:47.937Z"
   },
   {
    "duration": 9,
    "start_time": "2022-09-24T10:37:47.947Z"
   },
   {
    "duration": 3,
    "start_time": "2022-09-24T10:37:47.957Z"
   },
   {
    "duration": 44,
    "start_time": "2022-09-24T10:37:47.961Z"
   },
   {
    "duration": 138,
    "start_time": "2022-09-24T10:37:48.006Z"
   },
   {
    "duration": 9,
    "start_time": "2022-09-24T10:37:48.145Z"
   },
   {
    "duration": 4,
    "start_time": "2022-09-24T10:37:48.156Z"
   },
   {
    "duration": 6,
    "start_time": "2022-09-24T10:37:48.161Z"
   },
   {
    "duration": 15,
    "start_time": "2022-09-24T10:37:48.168Z"
   },
   {
    "duration": 37,
    "start_time": "2022-09-24T10:37:48.185Z"
   },
   {
    "duration": 11,
    "start_time": "2022-09-24T10:37:48.223Z"
   },
   {
    "duration": 24,
    "start_time": "2022-09-24T10:37:48.235Z"
   },
   {
    "duration": 6,
    "start_time": "2022-09-24T10:37:48.261Z"
   },
   {
    "duration": 103,
    "start_time": "2022-09-24T10:37:48.269Z"
   },
   {
    "duration": 28,
    "start_time": "2022-09-24T10:37:48.373Z"
   },
   {
    "duration": 612,
    "start_time": "2022-09-24T10:37:48.402Z"
   },
   {
    "duration": 7,
    "start_time": "2022-09-24T10:37:49.016Z"
   },
   {
    "duration": 19862,
    "start_time": "2022-09-24T10:37:49.024Z"
   },
   {
    "duration": 9727,
    "start_time": "2022-09-24T10:38:08.889Z"
   },
   {
    "duration": 11734,
    "start_time": "2022-09-24T10:38:18.618Z"
   },
   {
    "duration": 5,
    "start_time": "2022-09-24T10:38:30.353Z"
   },
   {
    "duration": 1956,
    "start_time": "2022-09-24T10:38:30.360Z"
   },
   {
    "duration": 6,
    "start_time": "2022-09-24T10:38:32.317Z"
   },
   {
    "duration": 41,
    "start_time": "2022-09-24T10:38:32.325Z"
   },
   {
    "duration": 528,
    "start_time": "2022-09-24T10:38:32.368Z"
   },
   {
    "duration": 4,
    "start_time": "2022-09-24T10:38:32.897Z"
   },
   {
    "duration": 1019,
    "start_time": "2022-09-24T10:38:32.903Z"
   },
   {
    "duration": 633,
    "start_time": "2022-09-24T10:38:33.923Z"
   },
   {
    "duration": 872,
    "start_time": "2022-09-24T10:38:34.558Z"
   },
   {
    "duration": 1996,
    "start_time": "2022-09-24T10:38:35.432Z"
   },
   {
    "duration": 33,
    "start_time": "2022-09-24T10:38:37.429Z"
   },
   {
    "duration": 6,
    "start_time": "2022-09-24T10:38:37.464Z"
   },
   {
    "duration": 49,
    "start_time": "2022-09-24T10:38:37.472Z"
   },
   {
    "duration": 15,
    "start_time": "2022-09-24T10:38:37.523Z"
   },
   {
    "duration": 13,
    "start_time": "2022-09-24T10:38:37.540Z"
   },
   {
    "duration": 47,
    "start_time": "2022-09-24T10:38:37.554Z"
   },
   {
    "duration": 34757,
    "start_time": "2022-09-24T10:38:37.603Z"
   },
   {
    "duration": 840,
    "start_time": "2022-09-24T10:39:12.361Z"
   },
   {
    "duration": 12,
    "start_time": "2022-09-24T10:39:13.202Z"
   },
   {
    "duration": 10107,
    "start_time": "2022-09-24T10:39:13.215Z"
   },
   {
    "duration": 514,
    "start_time": "2022-09-24T10:39:23.324Z"
   },
   {
    "duration": 10250,
    "start_time": "2022-09-24T10:41:20.119Z"
   },
   {
    "duration": 136,
    "start_time": "2022-09-24T10:42:46.424Z"
   },
   {
    "duration": 507,
    "start_time": "2022-09-24T10:42:59.342Z"
   },
   {
    "duration": 351,
    "start_time": "2022-09-24T10:43:16.726Z"
   },
   {
    "duration": 13,
    "start_time": "2022-09-24T10:43:45.307Z"
   },
   {
    "duration": 10,
    "start_time": "2022-09-24T10:43:48.716Z"
   },
   {
    "duration": 163,
    "start_time": "2022-09-24T10:43:52.345Z"
   },
   {
    "duration": 150,
    "start_time": "2022-09-24T10:44:17.822Z"
   },
   {
    "duration": 21,
    "start_time": "2022-09-24T10:44:25.080Z"
   },
   {
    "duration": 18,
    "start_time": "2022-09-24T10:44:46.360Z"
   },
   {
    "duration": 192,
    "start_time": "2022-09-24T10:44:59.618Z"
   },
   {
    "duration": 217,
    "start_time": "2022-09-24T10:45:08.432Z"
   },
   {
    "duration": 251,
    "start_time": "2022-09-24T10:47:51.951Z"
   },
   {
    "duration": 517,
    "start_time": "2022-09-24T10:48:29.769Z"
   },
   {
    "duration": 476,
    "start_time": "2022-09-24T10:48:38.854Z"
   },
   {
    "duration": 653,
    "start_time": "2022-09-24T10:48:54.818Z"
   },
   {
    "duration": 588,
    "start_time": "2022-09-24T10:49:17.492Z"
   },
   {
    "duration": 625,
    "start_time": "2022-09-24T10:49:30.831Z"
   },
   {
    "duration": 655,
    "start_time": "2022-09-24T10:50:05.780Z"
   },
   {
    "duration": 628,
    "start_time": "2022-09-24T10:50:42.963Z"
   },
   {
    "duration": 44,
    "start_time": "2022-09-24T10:54:19.162Z"
   },
   {
    "duration": 4,
    "start_time": "2022-09-24T10:54:26.791Z"
   },
   {
    "duration": 709,
    "start_time": "2022-09-24T10:54:40.773Z"
   },
   {
    "duration": 4,
    "start_time": "2022-09-24T10:55:01.853Z"
   },
   {
    "duration": 658,
    "start_time": "2022-09-24T10:55:04.658Z"
   },
   {
    "duration": 4,
    "start_time": "2022-09-24T10:55:19.772Z"
   },
   {
    "duration": 4,
    "start_time": "2022-09-24T10:55:20.633Z"
   },
   {
    "duration": 891,
    "start_time": "2022-09-24T10:55:20.865Z"
   },
   {
    "duration": 4,
    "start_time": "2022-09-24T10:55:35.294Z"
   },
   {
    "duration": 6,
    "start_time": "2022-09-24T10:55:37.248Z"
   },
   {
    "duration": 6,
    "start_time": "2022-09-24T10:55:38.127Z"
   },
   {
    "duration": 676,
    "start_time": "2022-09-24T10:55:38.339Z"
   },
   {
    "duration": 4,
    "start_time": "2022-09-24T10:57:27.434Z"
   },
   {
    "duration": 6,
    "start_time": "2022-09-24T10:57:27.990Z"
   },
   {
    "duration": 698,
    "start_time": "2022-09-24T10:57:28.222Z"
   },
   {
    "duration": 4,
    "start_time": "2022-09-24T10:57:34.826Z"
   },
   {
    "duration": 4,
    "start_time": "2022-09-24T10:57:36.120Z"
   },
   {
    "duration": 5,
    "start_time": "2022-09-24T10:57:36.680Z"
   },
   {
    "duration": 670,
    "start_time": "2022-09-24T10:57:36.869Z"
   },
   {
    "duration": 4,
    "start_time": "2022-09-24T10:57:41.633Z"
   },
   {
    "duration": 4,
    "start_time": "2022-09-24T10:57:42.226Z"
   },
   {
    "duration": 707,
    "start_time": "2022-09-24T10:57:42.437Z"
   },
   {
    "duration": 4,
    "start_time": "2022-09-24T10:57:47.825Z"
   },
   {
    "duration": 689,
    "start_time": "2022-09-24T10:57:48.225Z"
   },
   {
    "duration": 4,
    "start_time": "2022-09-24T10:58:51.872Z"
   },
   {
    "duration": 682,
    "start_time": "2022-09-24T10:58:52.354Z"
   },
   {
    "duration": 4,
    "start_time": "2022-09-24T10:59:00.181Z"
   },
   {
    "duration": 670,
    "start_time": "2022-09-24T10:59:00.553Z"
   },
   {
    "duration": 6,
    "start_time": "2022-09-24T10:59:50.225Z"
   },
   {
    "duration": 663,
    "start_time": "2022-09-24T10:59:50.862Z"
   },
   {
    "duration": 25,
    "start_time": "2022-09-24T11:01:15.131Z"
   },
   {
    "duration": 2,
    "start_time": "2022-09-24T11:01:45.723Z"
   },
   {
    "duration": 13,
    "start_time": "2022-09-24T11:03:25.335Z"
   },
   {
    "duration": 20,
    "start_time": "2022-09-24T11:03:31.809Z"
   },
   {
    "duration": 20,
    "start_time": "2022-09-24T11:03:58.167Z"
   },
   {
    "duration": 5,
    "start_time": "2022-09-24T11:04:15.715Z"
   },
   {
    "duration": 318,
    "start_time": "2022-09-24T11:04:16.244Z"
   },
   {
    "duration": 25,
    "start_time": "2022-09-24T11:04:47.177Z"
   },
   {
    "duration": 5,
    "start_time": "2022-09-24T11:05:01.653Z"
   },
   {
    "duration": 457,
    "start_time": "2022-09-24T11:05:02.189Z"
   },
   {
    "duration": 4,
    "start_time": "2022-09-24T11:05:24.716Z"
   },
   {
    "duration": 682,
    "start_time": "2022-09-24T11:05:25.235Z"
   },
   {
    "duration": 5,
    "start_time": "2022-09-24T11:06:49.858Z"
   },
   {
    "duration": 4,
    "start_time": "2022-09-24T11:06:50.862Z"
   },
   {
    "duration": 687,
    "start_time": "2022-09-24T11:06:51.057Z"
   },
   {
    "duration": 6,
    "start_time": "2022-09-24T11:07:15.415Z"
   },
   {
    "duration": 749,
    "start_time": "2022-09-24T11:07:15.623Z"
   },
   {
    "duration": 4,
    "start_time": "2022-09-24T11:07:30.692Z"
   },
   {
    "duration": 5,
    "start_time": "2022-09-24T11:07:31.242Z"
   },
   {
    "duration": 937,
    "start_time": "2022-09-24T11:07:31.477Z"
   },
   {
    "duration": 4,
    "start_time": "2022-09-24T11:08:20.483Z"
   },
   {
    "duration": 733,
    "start_time": "2022-09-24T11:08:21.391Z"
   },
   {
    "duration": 113,
    "start_time": "2022-09-24T11:12:35.427Z"
   },
   {
    "duration": 68231,
    "start_time": "2022-09-24T11:13:32.170Z"
   },
   {
    "duration": 140,
    "start_time": "2022-09-24T11:15:27.566Z"
   },
   {
    "duration": 114,
    "start_time": "2022-09-24T11:15:40.719Z"
   },
   {
    "duration": 125,
    "start_time": "2022-09-24T11:15:48.456Z"
   },
   {
    "duration": 147,
    "start_time": "2022-09-24T11:15:56.143Z"
   },
   {
    "duration": 121,
    "start_time": "2022-09-24T11:16:04.715Z"
   },
   {
    "duration": 10,
    "start_time": "2022-09-24T11:16:59.323Z"
   },
   {
    "duration": 15,
    "start_time": "2022-09-24T11:17:04.329Z"
   },
   {
    "duration": 129,
    "start_time": "2022-09-24T11:17:21.126Z"
   },
   {
    "duration": 299,
    "start_time": "2022-09-24T11:18:07.838Z"
   },
   {
    "duration": 230,
    "start_time": "2022-09-24T11:18:13.233Z"
   },
   {
    "duration": 336,
    "start_time": "2022-09-24T11:18:21.670Z"
   },
   {
    "duration": 1814,
    "start_time": "2022-09-24T11:19:00.331Z"
   },
   {
    "duration": 1529,
    "start_time": "2022-09-24T11:19:07.084Z"
   },
   {
    "duration": 1448,
    "start_time": "2022-09-24T11:20:07.322Z"
   },
   {
    "duration": 269,
    "start_time": "2022-09-24T11:20:18.582Z"
   },
   {
    "duration": 584,
    "start_time": "2022-09-24T11:20:40.737Z"
   },
   {
    "duration": 531,
    "start_time": "2022-09-24T11:20:44.874Z"
   },
   {
    "duration": 335,
    "start_time": "2022-09-24T11:21:12.084Z"
   },
   {
    "duration": 341,
    "start_time": "2022-09-24T11:21:17.056Z"
   },
   {
    "duration": 311,
    "start_time": "2022-09-24T11:22:00.146Z"
   },
   {
    "duration": 364,
    "start_time": "2022-09-24T11:22:08.257Z"
   },
   {
    "duration": 395,
    "start_time": "2022-09-24T11:22:34.163Z"
   },
   {
    "duration": 346,
    "start_time": "2022-09-24T11:22:40.383Z"
   },
   {
    "duration": 584,
    "start_time": "2022-09-24T11:24:03.724Z"
   },
   {
    "duration": 274,
    "start_time": "2022-09-24T11:24:16.042Z"
   },
   {
    "duration": 409,
    "start_time": "2022-09-24T11:24:26.918Z"
   },
   {
    "duration": 441,
    "start_time": "2022-09-24T11:24:43.250Z"
   },
   {
    "duration": 421,
    "start_time": "2022-09-24T11:24:46.490Z"
   },
   {
    "duration": 439,
    "start_time": "2022-09-24T11:24:55.138Z"
   },
   {
    "duration": 396,
    "start_time": "2022-09-24T11:25:00.574Z"
   },
   {
    "duration": 450,
    "start_time": "2022-09-24T11:25:13.747Z"
   },
   {
    "duration": 2123,
    "start_time": "2022-09-24T15:13:29.391Z"
   },
   {
    "duration": 142,
    "start_time": "2022-09-24T15:13:31.516Z"
   },
   {
    "duration": 18,
    "start_time": "2022-09-24T15:13:31.660Z"
   },
   {
    "duration": 57,
    "start_time": "2022-09-24T15:13:31.681Z"
   },
   {
    "duration": 14,
    "start_time": "2022-09-24T15:13:31.740Z"
   },
   {
    "duration": 46,
    "start_time": "2022-09-24T15:13:31.756Z"
   },
   {
    "duration": 18,
    "start_time": "2022-09-24T15:13:31.804Z"
   },
   {
    "duration": 84,
    "start_time": "2022-09-24T15:13:31.824Z"
   },
   {
    "duration": 4,
    "start_time": "2022-09-24T15:13:31.909Z"
   },
   {
    "duration": 11,
    "start_time": "2022-09-24T15:13:31.916Z"
   },
   {
    "duration": 13,
    "start_time": "2022-09-24T15:13:31.928Z"
   },
   {
    "duration": 4,
    "start_time": "2022-09-24T15:13:31.942Z"
   },
   {
    "duration": 15,
    "start_time": "2022-09-24T15:13:31.948Z"
   },
   {
    "duration": 166,
    "start_time": "2022-09-24T15:13:31.995Z"
   },
   {
    "duration": 13,
    "start_time": "2022-09-24T15:13:32.163Z"
   },
   {
    "duration": 20,
    "start_time": "2022-09-24T15:13:32.178Z"
   },
   {
    "duration": 6,
    "start_time": "2022-09-24T15:13:32.200Z"
   },
   {
    "duration": 18,
    "start_time": "2022-09-24T15:13:32.208Z"
   },
   {
    "duration": 27,
    "start_time": "2022-09-24T15:13:32.228Z"
   },
   {
    "duration": 46,
    "start_time": "2022-09-24T15:13:32.257Z"
   },
   {
    "duration": 28,
    "start_time": "2022-09-24T15:13:32.305Z"
   },
   {
    "duration": 10,
    "start_time": "2022-09-24T15:13:32.336Z"
   },
   {
    "duration": 627,
    "start_time": "2022-09-24T15:13:32.349Z"
   },
   {
    "duration": 4,
    "start_time": "2022-09-24T15:13:32.978Z"
   },
   {
    "duration": 873,
    "start_time": "2022-09-24T15:13:32.984Z"
   },
   {
    "duration": 9,
    "start_time": "2022-09-24T15:13:33.859Z"
   },
   {
    "duration": 20946,
    "start_time": "2022-09-24T15:13:33.870Z"
   },
   {
    "duration": 10629,
    "start_time": "2022-09-24T15:13:54.821Z"
   },
   {
    "duration": 12456,
    "start_time": "2022-09-24T15:14:05.452Z"
   },
   {
    "duration": 5,
    "start_time": "2022-09-24T15:14:17.910Z"
   },
   {
    "duration": 2230,
    "start_time": "2022-09-24T15:14:17.917Z"
   },
   {
    "duration": 9,
    "start_time": "2022-09-24T15:14:20.149Z"
   },
   {
    "duration": 78,
    "start_time": "2022-09-24T15:14:20.160Z"
   },
   {
    "duration": 4371,
    "start_time": "2022-09-24T15:14:20.239Z"
   },
   {
    "duration": 5,
    "start_time": "2022-09-24T15:14:24.612Z"
   },
   {
    "duration": 4518,
    "start_time": "2022-09-24T15:14:24.619Z"
   },
   {
    "duration": 635,
    "start_time": "2022-09-24T15:14:29.139Z"
   },
   {
    "duration": 938,
    "start_time": "2022-09-24T15:14:29.776Z"
   },
   {
    "duration": 2489,
    "start_time": "2022-09-24T15:14:30.716Z"
   },
   {
    "duration": 36,
    "start_time": "2022-09-24T15:14:33.207Z"
   },
   {
    "duration": 49,
    "start_time": "2022-09-24T15:14:33.246Z"
   },
   {
    "duration": 34,
    "start_time": "2022-09-24T15:14:33.297Z"
   },
   {
    "duration": 22,
    "start_time": "2022-09-24T15:14:33.333Z"
   },
   {
    "duration": 38,
    "start_time": "2022-09-24T15:14:33.358Z"
   },
   {
    "duration": 29,
    "start_time": "2022-09-24T15:14:33.398Z"
   },
   {
    "duration": 12216,
    "start_time": "2022-09-24T15:14:33.429Z"
   },
   {
    "duration": 465,
    "start_time": "2022-09-24T15:14:45.647Z"
   },
   {
    "duration": 801,
    "start_time": "2022-09-24T15:14:46.113Z"
   },
   {
    "duration": 26,
    "start_time": "2022-09-24T15:14:46.917Z"
   },
   {
    "duration": 16,
    "start_time": "2022-09-24T15:14:46.945Z"
   },
   {
    "duration": 42,
    "start_time": "2022-09-24T15:14:46.964Z"
   },
   {
    "duration": 5,
    "start_time": "2022-09-24T15:14:47.007Z"
   },
   {
    "duration": 835,
    "start_time": "2022-09-24T15:14:47.014Z"
   },
   {
    "duration": 458,
    "start_time": "2022-09-24T15:14:47.850Z"
   },
   {
    "duration": 11,
    "start_time": "2022-09-24T15:14:48.309Z"
   },
   {
    "duration": 882,
    "start_time": "2022-09-24T15:14:48.322Z"
   },
   {
    "duration": 12311,
    "start_time": "2022-09-24T15:14:49.206Z"
   },
   {
    "duration": 586,
    "start_time": "2022-09-24T15:15:01.518Z"
   },
   {
    "duration": 905,
    "start_time": "2022-09-24T15:15:27.026Z"
   },
   {
    "duration": 480,
    "start_time": "2022-09-24T15:17:10.507Z"
   },
   {
    "duration": 476,
    "start_time": "2022-09-24T15:17:34.551Z"
   },
   {
    "duration": 454,
    "start_time": "2022-09-24T15:18:11.741Z"
   },
   {
    "duration": 505,
    "start_time": "2022-09-24T15:21:45.790Z"
   },
   {
    "duration": 478,
    "start_time": "2022-09-24T15:22:31.424Z"
   },
   {
    "duration": 269,
    "start_time": "2022-09-24T15:24:24.463Z"
   },
   {
    "duration": 299,
    "start_time": "2022-09-24T15:24:46.153Z"
   },
   {
    "duration": 297,
    "start_time": "2022-09-24T15:25:29.758Z"
   },
   {
    "duration": 425,
    "start_time": "2022-09-24T15:26:22.825Z"
   },
   {
    "duration": 3172,
    "start_time": "2022-09-24T15:26:52.061Z"
   },
   {
    "duration": 262,
    "start_time": "2022-09-24T15:27:03.810Z"
   },
   {
    "duration": 1779,
    "start_time": "2022-09-24T15:27:11.378Z"
   },
   {
    "duration": 66,
    "start_time": "2022-09-24T15:27:13.159Z"
   },
   {
    "duration": 17,
    "start_time": "2022-09-24T15:27:13.226Z"
   },
   {
    "duration": 74,
    "start_time": "2022-09-24T15:27:13.245Z"
   },
   {
    "duration": 13,
    "start_time": "2022-09-24T15:27:13.321Z"
   },
   {
    "duration": 16,
    "start_time": "2022-09-24T15:27:13.335Z"
   },
   {
    "duration": 49,
    "start_time": "2022-09-24T15:27:13.353Z"
   },
   {
    "duration": 44,
    "start_time": "2022-09-24T15:27:13.404Z"
   },
   {
    "duration": 4,
    "start_time": "2022-09-24T15:27:13.450Z"
   },
   {
    "duration": 9,
    "start_time": "2022-09-24T15:27:13.495Z"
   },
   {
    "duration": 15,
    "start_time": "2022-09-24T15:27:13.506Z"
   },
   {
    "duration": 4,
    "start_time": "2022-09-24T15:27:13.523Z"
   },
   {
    "duration": 10,
    "start_time": "2022-09-24T15:27:13.528Z"
   },
   {
    "duration": 185,
    "start_time": "2022-09-24T15:27:13.542Z"
   },
   {
    "duration": 11,
    "start_time": "2022-09-24T15:27:13.728Z"
   },
   {
    "duration": 4,
    "start_time": "2022-09-24T15:27:13.741Z"
   },
   {
    "duration": 7,
    "start_time": "2022-09-24T15:27:13.747Z"
   },
   {
    "duration": 17,
    "start_time": "2022-09-24T15:27:13.755Z"
   },
   {
    "duration": 46,
    "start_time": "2022-09-24T15:27:13.774Z"
   },
   {
    "duration": 14,
    "start_time": "2022-09-24T15:27:13.822Z"
   },
   {
    "duration": 27,
    "start_time": "2022-09-24T15:27:13.838Z"
   },
   {
    "duration": 31,
    "start_time": "2022-09-24T15:27:13.866Z"
   },
   {
    "duration": 116,
    "start_time": "2022-09-24T15:27:13.899Z"
   },
   {
    "duration": 2,
    "start_time": "2022-09-24T15:27:14.017Z"
   },
   {
    "duration": 662,
    "start_time": "2022-09-24T15:27:14.021Z"
   },
   {
    "duration": 12,
    "start_time": "2022-09-24T15:27:14.685Z"
   },
   {
    "duration": 20910,
    "start_time": "2022-09-24T15:27:14.698Z"
   },
   {
    "duration": 10119,
    "start_time": "2022-09-24T15:27:35.610Z"
   },
   {
    "duration": 12255,
    "start_time": "2022-09-24T15:27:45.731Z"
   },
   {
    "duration": 5,
    "start_time": "2022-09-24T15:27:57.988Z"
   },
   {
    "duration": 2256,
    "start_time": "2022-09-24T15:27:57.995Z"
   },
   {
    "duration": 7,
    "start_time": "2022-09-24T15:28:00.253Z"
   },
   {
    "duration": 61,
    "start_time": "2022-09-24T15:28:00.262Z"
   },
   {
    "duration": 770,
    "start_time": "2022-09-24T15:28:00.325Z"
   },
   {
    "duration": 5,
    "start_time": "2022-09-24T15:28:01.097Z"
   },
   {
    "duration": 1408,
    "start_time": "2022-09-24T15:28:01.104Z"
   },
   {
    "duration": 623,
    "start_time": "2022-09-24T15:28:02.514Z"
   },
   {
    "duration": 890,
    "start_time": "2022-09-24T15:28:03.139Z"
   },
   {
    "duration": 2472,
    "start_time": "2022-09-24T15:28:04.031Z"
   },
   {
    "duration": 44,
    "start_time": "2022-09-24T15:28:06.504Z"
   },
   {
    "duration": 44,
    "start_time": "2022-09-24T15:28:06.554Z"
   },
   {
    "duration": 33,
    "start_time": "2022-09-24T15:28:06.601Z"
   },
   {
    "duration": 49,
    "start_time": "2022-09-24T15:28:06.637Z"
   },
   {
    "duration": 57,
    "start_time": "2022-09-24T15:28:06.688Z"
   },
   {
    "duration": 34,
    "start_time": "2022-09-24T15:28:06.747Z"
   },
   {
    "duration": 13793,
    "start_time": "2022-09-24T15:28:06.783Z"
   },
   {
    "duration": 498,
    "start_time": "2022-09-24T15:28:20.577Z"
   },
   {
    "duration": 699,
    "start_time": "2022-09-24T15:28:21.077Z"
   },
   {
    "duration": 0,
    "start_time": "2022-09-24T15:28:21.778Z"
   },
   {
    "duration": 0,
    "start_time": "2022-09-24T15:28:21.779Z"
   },
   {
    "duration": 0,
    "start_time": "2022-09-24T15:28:21.781Z"
   },
   {
    "duration": 0,
    "start_time": "2022-09-24T15:28:21.782Z"
   },
   {
    "duration": 0,
    "start_time": "2022-09-24T15:28:21.794Z"
   },
   {
    "duration": 0,
    "start_time": "2022-09-24T15:28:21.796Z"
   },
   {
    "duration": 0,
    "start_time": "2022-09-24T15:28:21.797Z"
   },
   {
    "duration": 0,
    "start_time": "2022-09-24T15:28:21.798Z"
   },
   {
    "duration": 0,
    "start_time": "2022-09-24T15:28:21.799Z"
   },
   {
    "duration": 0,
    "start_time": "2022-09-24T15:28:21.800Z"
   },
   {
    "duration": 0,
    "start_time": "2022-09-24T15:28:21.801Z"
   },
   {
    "duration": 402,
    "start_time": "2022-09-24T15:29:45.833Z"
   },
   {
    "duration": 425,
    "start_time": "2022-09-24T15:30:43.934Z"
   },
   {
    "duration": 5,
    "start_time": "2022-09-24T15:31:00.547Z"
   },
   {
    "duration": 771,
    "start_time": "2022-09-24T15:31:03.875Z"
   },
   {
    "duration": 6,
    "start_time": "2022-09-24T15:31:27.494Z"
   },
   {
    "duration": 767,
    "start_time": "2022-09-24T15:31:28.106Z"
   },
   {
    "duration": 250,
    "start_time": "2022-09-24T15:31:33.616Z"
   },
   {
    "duration": 32,
    "start_time": "2022-09-24T15:31:38.050Z"
   },
   {
    "duration": 312,
    "start_time": "2022-09-24T15:31:40.644Z"
   },
   {
    "duration": 324,
    "start_time": "2022-09-24T15:31:55.294Z"
   },
   {
    "duration": 300,
    "start_time": "2022-09-24T15:31:59.776Z"
   },
   {
    "duration": 354,
    "start_time": "2022-09-24T15:32:45.641Z"
   },
   {
    "duration": 376,
    "start_time": "2022-09-24T15:32:54.006Z"
   },
   {
    "duration": 593,
    "start_time": "2022-09-24T15:34:24.173Z"
   },
   {
    "duration": 432,
    "start_time": "2022-09-24T15:34:33.490Z"
   },
   {
    "duration": 583,
    "start_time": "2022-09-24T15:34:44.432Z"
   },
   {
    "duration": 2314,
    "start_time": "2022-09-24T15:35:30.102Z"
   },
   {
    "duration": 69,
    "start_time": "2022-09-24T15:35:32.419Z"
   },
   {
    "duration": 19,
    "start_time": "2022-09-24T15:35:32.490Z"
   },
   {
    "duration": 63,
    "start_time": "2022-09-24T15:35:32.511Z"
   },
   {
    "duration": 28,
    "start_time": "2022-09-24T15:35:32.576Z"
   },
   {
    "duration": 14,
    "start_time": "2022-09-24T15:35:32.606Z"
   },
   {
    "duration": 19,
    "start_time": "2022-09-24T15:35:32.622Z"
   },
   {
    "duration": 92,
    "start_time": "2022-09-24T15:35:32.643Z"
   },
   {
    "duration": 6,
    "start_time": "2022-09-24T15:35:32.737Z"
   },
   {
    "duration": 51,
    "start_time": "2022-09-24T15:35:32.746Z"
   },
   {
    "duration": 13,
    "start_time": "2022-09-24T15:35:32.799Z"
   },
   {
    "duration": 9,
    "start_time": "2022-09-24T15:35:32.814Z"
   },
   {
    "duration": 16,
    "start_time": "2022-09-24T15:35:32.824Z"
   },
   {
    "duration": 193,
    "start_time": "2022-09-24T15:35:32.842Z"
   },
   {
    "duration": 13,
    "start_time": "2022-09-24T15:35:33.037Z"
   },
   {
    "duration": 5,
    "start_time": "2022-09-24T15:35:33.052Z"
   },
   {
    "duration": 8,
    "start_time": "2022-09-24T15:35:33.060Z"
   },
   {
    "duration": 33,
    "start_time": "2022-09-24T15:35:33.070Z"
   },
   {
    "duration": 26,
    "start_time": "2022-09-24T15:35:33.105Z"
   },
   {
    "duration": 13,
    "start_time": "2022-09-24T15:35:33.133Z"
   },
   {
    "duration": 52,
    "start_time": "2022-09-24T15:35:33.148Z"
   },
   {
    "duration": 8,
    "start_time": "2022-09-24T15:35:33.201Z"
   },
   {
    "duration": 118,
    "start_time": "2022-09-24T15:35:33.211Z"
   },
   {
    "duration": 3,
    "start_time": "2022-09-24T15:35:33.331Z"
   },
   {
    "duration": 706,
    "start_time": "2022-09-24T15:35:33.335Z"
   },
   {
    "duration": 9,
    "start_time": "2022-09-24T15:35:34.044Z"
   },
   {
    "duration": 20651,
    "start_time": "2022-09-24T15:35:34.054Z"
   },
   {
    "duration": 10506,
    "start_time": "2022-09-24T15:35:54.709Z"
   },
   {
    "duration": 12489,
    "start_time": "2022-09-24T15:36:05.217Z"
   },
   {
    "duration": 5,
    "start_time": "2022-09-24T15:36:17.708Z"
   },
   {
    "duration": 2166,
    "start_time": "2022-09-24T15:36:17.714Z"
   },
   {
    "duration": 21,
    "start_time": "2022-09-24T15:36:19.882Z"
   },
   {
    "duration": 45,
    "start_time": "2022-09-24T15:36:19.904Z"
   },
   {
    "duration": 989,
    "start_time": "2022-09-24T15:36:19.950Z"
   },
   {
    "duration": 5,
    "start_time": "2022-09-24T15:36:20.941Z"
   },
   {
    "duration": 1700,
    "start_time": "2022-09-24T15:36:20.949Z"
   },
   {
    "duration": 664,
    "start_time": "2022-09-24T15:36:22.650Z"
   },
   {
    "duration": 874,
    "start_time": "2022-09-24T15:36:23.316Z"
   },
   {
    "duration": 2290,
    "start_time": "2022-09-24T15:36:24.192Z"
   },
   {
    "duration": 56,
    "start_time": "2022-09-24T15:36:26.483Z"
   },
   {
    "duration": 10,
    "start_time": "2022-09-24T15:36:26.541Z"
   },
   {
    "duration": 69,
    "start_time": "2022-09-24T15:36:26.553Z"
   },
   {
    "duration": 25,
    "start_time": "2022-09-24T15:36:26.625Z"
   },
   {
    "duration": 42,
    "start_time": "2022-09-24T15:36:26.653Z"
   },
   {
    "duration": 35,
    "start_time": "2022-09-24T15:36:26.697Z"
   },
   {
    "duration": 13895,
    "start_time": "2022-09-24T15:36:26.734Z"
   },
   {
    "duration": 474,
    "start_time": "2022-09-24T15:36:40.631Z"
   },
   {
    "duration": 541,
    "start_time": "2022-09-24T15:36:41.107Z"
   },
   {
    "duration": 0,
    "start_time": "2022-09-24T15:36:41.650Z"
   },
   {
    "duration": 0,
    "start_time": "2022-09-24T15:36:41.651Z"
   },
   {
    "duration": 0,
    "start_time": "2022-09-24T15:36:41.653Z"
   },
   {
    "duration": 0,
    "start_time": "2022-09-24T15:36:41.654Z"
   },
   {
    "duration": 0,
    "start_time": "2022-09-24T15:36:41.655Z"
   },
   {
    "duration": 0,
    "start_time": "2022-09-24T15:36:41.656Z"
   },
   {
    "duration": 0,
    "start_time": "2022-09-24T15:36:41.657Z"
   },
   {
    "duration": 0,
    "start_time": "2022-09-24T15:36:41.658Z"
   },
   {
    "duration": 0,
    "start_time": "2022-09-24T15:36:41.660Z"
   },
   {
    "duration": 0,
    "start_time": "2022-09-24T15:36:41.661Z"
   },
   {
    "duration": 947,
    "start_time": "2022-09-24T15:49:33.605Z"
   },
   {
    "duration": 747,
    "start_time": "2022-09-24T15:49:45.534Z"
   },
   {
    "duration": 34,
    "start_time": "2022-09-24T15:49:46.284Z"
   },
   {
    "duration": 3,
    "start_time": "2022-09-24T15:49:46.321Z"
   },
   {
    "duration": 27,
    "start_time": "2022-09-24T15:49:46.541Z"
   },
   {
    "duration": 532,
    "start_time": "2022-09-24T15:49:46.768Z"
   },
   {
    "duration": 6,
    "start_time": "2022-09-24T15:49:47.498Z"
   },
   {
    "duration": 807,
    "start_time": "2022-09-24T15:49:48.558Z"
   },
   {
    "duration": 574,
    "start_time": "2022-09-24T15:49:49.368Z"
   },
   {
    "duration": 1647,
    "start_time": "2022-09-24T15:50:13.018Z"
   },
   {
    "duration": 243,
    "start_time": "2022-09-24T15:52:52.374Z"
   },
   {
    "duration": 540,
    "start_time": "2022-09-24T15:53:03.192Z"
   },
   {
    "duration": 712,
    "start_time": "2022-09-24T15:53:37.013Z"
   },
   {
    "duration": 1013,
    "start_time": "2022-09-24T15:53:46.904Z"
   },
   {
    "duration": 1706,
    "start_time": "2022-09-24T15:55:57.258Z"
   },
   {
    "duration": 343,
    "start_time": "2022-09-24T15:56:40.145Z"
   },
   {
    "duration": 556,
    "start_time": "2022-09-24T15:56:46.370Z"
   },
   {
    "duration": 3,
    "start_time": "2022-09-24T15:57:49.315Z"
   },
   {
    "duration": 31,
    "start_time": "2022-09-24T15:57:49.752Z"
   },
   {
    "duration": 12,
    "start_time": "2022-09-24T16:11:59.687Z"
   },
   {
    "duration": 8810,
    "start_time": "2022-09-24T16:12:37.928Z"
   },
   {
    "duration": 12,
    "start_time": "2022-09-24T16:14:10.636Z"
   },
   {
    "duration": 9662,
    "start_time": "2022-09-24T16:14:14.568Z"
   },
   {
    "duration": 1705,
    "start_time": "2022-09-24T16:15:00.920Z"
   },
   {
    "duration": 12,
    "start_time": "2022-09-24T16:17:42.531Z"
   },
   {
    "duration": 16,
    "start_time": "2022-09-24T16:18:08.395Z"
   },
   {
    "duration": 4,
    "start_time": "2022-09-24T16:18:15.379Z"
   },
   {
    "duration": 12,
    "start_time": "2022-09-24T16:18:25.937Z"
   },
   {
    "duration": 343,
    "start_time": "2022-09-24T16:20:32.149Z"
   },
   {
    "duration": 1158,
    "start_time": "2022-09-24T16:23:31.304Z"
   },
   {
    "duration": 82,
    "start_time": "2022-09-24T16:23:41.123Z"
   },
   {
    "duration": 12,
    "start_time": "2022-09-24T16:23:43.080Z"
   },
   {
    "duration": 4,
    "start_time": "2022-09-24T16:23:46.882Z"
   },
   {
    "duration": 5,
    "start_time": "2022-09-24T16:23:57.128Z"
   },
   {
    "duration": 14,
    "start_time": "2022-09-24T16:24:22.377Z"
   },
   {
    "duration": 17,
    "start_time": "2022-09-24T16:25:44.122Z"
   },
   {
    "duration": 30,
    "start_time": "2022-09-24T16:25:50.809Z"
   },
   {
    "duration": 12,
    "start_time": "2022-09-24T16:26:04.153Z"
   },
   {
    "duration": 20,
    "start_time": "2022-09-24T16:26:35.060Z"
   },
   {
    "duration": 12,
    "start_time": "2022-09-24T16:26:46.116Z"
   },
   {
    "duration": 14,
    "start_time": "2022-09-24T16:26:49.315Z"
   },
   {
    "duration": 101,
    "start_time": "2022-09-24T16:27:08.139Z"
   },
   {
    "duration": 19,
    "start_time": "2022-09-24T16:27:16.191Z"
   },
   {
    "duration": 20,
    "start_time": "2022-09-24T16:27:37.662Z"
   },
   {
    "duration": 20,
    "start_time": "2022-09-24T16:28:06.689Z"
   },
   {
    "duration": 11,
    "start_time": "2022-09-24T16:28:15.952Z"
   },
   {
    "duration": 6,
    "start_time": "2022-09-24T16:28:16.196Z"
   },
   {
    "duration": 28395,
    "start_time": "2022-09-24T16:28:16.431Z"
   },
   {
    "duration": 16,
    "start_time": "2022-09-24T16:29:10.310Z"
   },
   {
    "duration": 4,
    "start_time": "2022-09-24T16:29:23.609Z"
   },
   {
    "duration": 17,
    "start_time": "2022-09-24T16:29:28.585Z"
   },
   {
    "duration": 12,
    "start_time": "2022-09-24T16:29:53.062Z"
   },
   {
    "duration": 23,
    "start_time": "2022-09-24T16:30:06.518Z"
   },
   {
    "duration": 16,
    "start_time": "2022-09-24T16:30:23.829Z"
   },
   {
    "duration": 23,
    "start_time": "2022-09-24T16:30:31.924Z"
   },
   {
    "duration": 11,
    "start_time": "2022-09-24T16:31:04.510Z"
   },
   {
    "duration": 11,
    "start_time": "2022-09-24T16:31:42.049Z"
   },
   {
    "duration": 210,
    "start_time": "2022-09-24T16:33:49.654Z"
   },
   {
    "duration": 211,
    "start_time": "2022-09-24T16:33:59.773Z"
   },
   {
    "duration": 269,
    "start_time": "2022-09-24T16:34:16.483Z"
   },
   {
    "duration": 204,
    "start_time": "2022-09-24T16:34:27.500Z"
   },
   {
    "duration": 209,
    "start_time": "2022-09-24T16:34:30.517Z"
   },
   {
    "duration": 17,
    "start_time": "2022-09-24T16:38:50.440Z"
   },
   {
    "duration": 88,
    "start_time": "2022-09-24T16:42:38.331Z"
   },
   {
    "duration": 94,
    "start_time": "2022-09-24T16:42:45.719Z"
   },
   {
    "duration": 89,
    "start_time": "2022-09-24T16:42:59.237Z"
   },
   {
    "duration": 87,
    "start_time": "2022-09-24T16:43:07.448Z"
   },
   {
    "duration": 109,
    "start_time": "2022-09-24T16:44:02.760Z"
   },
   {
    "duration": 98,
    "start_time": "2022-09-24T16:44:08.846Z"
   },
   {
    "duration": 94,
    "start_time": "2022-09-24T16:44:28.161Z"
   },
   {
    "duration": 119,
    "start_time": "2022-09-24T16:44:34.186Z"
   },
   {
    "duration": 109,
    "start_time": "2022-09-24T16:44:37.350Z"
   },
   {
    "duration": 107,
    "start_time": "2022-09-24T16:44:55.051Z"
   },
   {
    "duration": 531,
    "start_time": "2022-09-24T16:45:55.483Z"
   },
   {
    "duration": 404,
    "start_time": "2022-09-24T16:46:52.785Z"
   },
   {
    "duration": 79,
    "start_time": "2022-09-24T16:54:02.244Z"
   },
   {
    "duration": 248,
    "start_time": "2022-09-24T16:54:05.680Z"
   },
   {
    "duration": 234,
    "start_time": "2022-09-24T16:54:21.978Z"
   },
   {
    "duration": 5,
    "start_time": "2022-09-24T16:55:31.029Z"
   },
   {
    "duration": 16,
    "start_time": "2022-09-24T16:55:31.282Z"
   },
   {
    "duration": 260,
    "start_time": "2022-09-24T16:56:54.613Z"
   },
   {
    "duration": 256,
    "start_time": "2022-09-24T16:57:00.965Z"
   },
   {
    "duration": 357,
    "start_time": "2022-09-24T16:57:28.638Z"
   },
   {
    "duration": 302,
    "start_time": "2022-09-24T16:57:33.534Z"
   },
   {
    "duration": 9,
    "start_time": "2022-09-24T16:59:05.026Z"
   },
   {
    "duration": 1904,
    "start_time": "2022-09-24T16:59:13.199Z"
   },
   {
    "duration": 13,
    "start_time": "2022-09-24T16:59:59.220Z"
   },
   {
    "duration": 19,
    "start_time": "2022-09-24T17:00:16.847Z"
   },
   {
    "duration": 13,
    "start_time": "2022-09-24T17:00:42.554Z"
   },
   {
    "duration": 11,
    "start_time": "2022-09-24T17:00:55.719Z"
   },
   {
    "duration": 6,
    "start_time": "2022-09-24T17:01:20.309Z"
   },
   {
    "duration": 15,
    "start_time": "2022-09-24T17:01:24.213Z"
   },
   {
    "duration": 15,
    "start_time": "2022-09-24T17:02:45.316Z"
   },
   {
    "duration": 21,
    "start_time": "2022-09-24T17:02:55.780Z"
   },
   {
    "duration": 7,
    "start_time": "2022-09-24T17:03:10.933Z"
   },
   {
    "duration": 13,
    "start_time": "2022-09-24T17:03:12.984Z"
   },
   {
    "duration": 6,
    "start_time": "2022-09-24T17:03:36.533Z"
   },
   {
    "duration": 17,
    "start_time": "2022-09-24T17:03:45.591Z"
   },
   {
    "duration": 22,
    "start_time": "2022-09-24T17:04:36.698Z"
   },
   {
    "duration": 22,
    "start_time": "2022-09-24T17:04:55.974Z"
   },
   {
    "duration": 33,
    "start_time": "2022-09-24T17:05:55.136Z"
   },
   {
    "duration": 39,
    "start_time": "2022-09-24T17:06:06.004Z"
   },
   {
    "duration": 39,
    "start_time": "2022-09-24T17:06:32.431Z"
   },
   {
    "duration": 10,
    "start_time": "2022-09-24T17:06:38.499Z"
   },
   {
    "duration": 68,
    "start_time": "2022-09-24T17:06:38.517Z"
   },
   {
    "duration": 24,
    "start_time": "2022-09-24T17:06:38.587Z"
   },
   {
    "duration": 84,
    "start_time": "2022-09-24T17:06:38.613Z"
   },
   {
    "duration": 16,
    "start_time": "2022-09-24T17:06:38.699Z"
   },
   {
    "duration": 21,
    "start_time": "2022-09-24T17:06:38.718Z"
   },
   {
    "duration": 15,
    "start_time": "2022-09-24T17:06:38.741Z"
   },
   {
    "duration": 84,
    "start_time": "2022-09-24T17:06:38.758Z"
   },
   {
    "duration": 4,
    "start_time": "2022-09-24T17:06:38.844Z"
   },
   {
    "duration": 53,
    "start_time": "2022-09-24T17:06:38.850Z"
   },
   {
    "duration": 16,
    "start_time": "2022-09-24T17:06:38.905Z"
   },
   {
    "duration": 5,
    "start_time": "2022-09-24T17:06:38.923Z"
   },
   {
    "duration": 16,
    "start_time": "2022-09-24T17:06:38.930Z"
   },
   {
    "duration": 199,
    "start_time": "2022-09-24T17:06:38.949Z"
   },
   {
    "duration": 13,
    "start_time": "2022-09-24T17:06:39.151Z"
   },
   {
    "duration": 5,
    "start_time": "2022-09-24T17:06:39.166Z"
   },
   {
    "duration": 22,
    "start_time": "2022-09-24T17:06:39.173Z"
   },
   {
    "duration": 18,
    "start_time": "2022-09-24T17:06:39.197Z"
   },
   {
    "duration": 30,
    "start_time": "2022-09-24T17:06:39.217Z"
   },
   {
    "duration": 7,
    "start_time": "2022-09-24T17:07:02.007Z"
   },
   {
    "duration": 86,
    "start_time": "2022-09-24T17:07:02.017Z"
   },
   {
    "duration": 25,
    "start_time": "2022-09-24T17:07:02.106Z"
   },
   {
    "duration": 103,
    "start_time": "2022-09-24T17:07:02.133Z"
   },
   {
    "duration": 14,
    "start_time": "2022-09-24T17:07:02.238Z"
   },
   {
    "duration": 42,
    "start_time": "2022-09-24T17:07:02.254Z"
   },
   {
    "duration": 18,
    "start_time": "2022-09-24T17:07:02.298Z"
   },
   {
    "duration": 87,
    "start_time": "2022-09-24T17:07:02.318Z"
   },
   {
    "duration": 5,
    "start_time": "2022-09-24T17:07:02.408Z"
   },
   {
    "duration": 18,
    "start_time": "2022-09-24T17:07:02.415Z"
   },
   {
    "duration": 16,
    "start_time": "2022-09-24T17:07:02.437Z"
   },
   {
    "duration": 4,
    "start_time": "2022-09-24T17:07:02.455Z"
   },
   {
    "duration": 10,
    "start_time": "2022-09-24T17:07:02.496Z"
   },
   {
    "duration": 181,
    "start_time": "2022-09-24T17:07:02.509Z"
   },
   {
    "duration": 17,
    "start_time": "2022-09-24T17:07:02.696Z"
   },
   {
    "duration": 5,
    "start_time": "2022-09-24T17:07:02.715Z"
   },
   {
    "duration": 7,
    "start_time": "2022-09-24T17:07:02.722Z"
   },
   {
    "duration": 19,
    "start_time": "2022-09-24T17:07:02.731Z"
   },
   {
    "duration": 14,
    "start_time": "2022-09-24T17:07:04.589Z"
   },
   {
    "duration": 32,
    "start_time": "2022-09-24T17:07:04.834Z"
   },
   {
    "duration": 26,
    "start_time": "2022-09-24T17:08:23.690Z"
   },
   {
    "duration": 17,
    "start_time": "2022-09-24T17:09:01.572Z"
   },
   {
    "duration": 10,
    "start_time": "2022-09-24T17:09:02.883Z"
   },
   {
    "duration": 2159,
    "start_time": "2022-09-24T17:09:03.911Z"
   },
   {
    "duration": 20,
    "start_time": "2022-09-24T17:09:25.144Z"
   },
   {
    "duration": 0,
    "start_time": "2022-09-24T17:09:25.166Z"
   },
   {
    "duration": 23,
    "start_time": "2022-09-24T17:13:25.008Z"
   },
   {
    "duration": 21,
    "start_time": "2022-09-24T17:13:26.263Z"
   },
   {
    "duration": 16,
    "start_time": "2022-09-24T17:13:48.574Z"
   },
   {
    "duration": 26,
    "start_time": "2022-09-24T17:13:48.978Z"
   },
   {
    "duration": 7,
    "start_time": "2022-09-24T17:13:56.902Z"
   },
   {
    "duration": 9,
    "start_time": "2022-09-24T17:14:15.102Z"
   },
   {
    "duration": 282,
    "start_time": "2022-09-24T17:14:15.870Z"
   },
   {
    "duration": 8,
    "start_time": "2022-09-24T17:14:43.144Z"
   },
   {
    "duration": 364,
    "start_time": "2022-09-24T17:14:43.674Z"
   },
   {
    "duration": 57,
    "start_time": "2022-09-24T17:15:23.237Z"
   },
   {
    "duration": 10,
    "start_time": "2022-09-24T17:15:43.074Z"
   },
   {
    "duration": 14,
    "start_time": "2022-09-24T17:15:43.315Z"
   },
   {
    "duration": 9,
    "start_time": "2022-09-24T17:15:53.690Z"
   },
   {
    "duration": 242,
    "start_time": "2022-09-24T17:15:54.040Z"
   },
   {
    "duration": 9,
    "start_time": "2022-09-24T17:17:46.776Z"
   },
   {
    "duration": 6,
    "start_time": "2022-09-24T17:19:26.798Z"
   },
   {
    "duration": 1765,
    "start_time": "2022-09-24T17:19:33.724Z"
   },
   {
    "duration": 69,
    "start_time": "2022-09-24T17:19:35.491Z"
   },
   {
    "duration": 15,
    "start_time": "2022-09-24T17:19:35.561Z"
   },
   {
    "duration": 52,
    "start_time": "2022-09-24T17:19:35.577Z"
   },
   {
    "duration": 10,
    "start_time": "2022-09-24T17:19:35.631Z"
   },
   {
    "duration": 14,
    "start_time": "2022-09-24T17:19:35.642Z"
   },
   {
    "duration": 49,
    "start_time": "2022-09-24T17:19:35.657Z"
   },
   {
    "duration": 43,
    "start_time": "2022-09-24T17:19:35.708Z"
   },
   {
    "duration": 42,
    "start_time": "2022-09-24T17:19:35.753Z"
   },
   {
    "duration": 10,
    "start_time": "2022-09-24T17:19:35.797Z"
   },
   {
    "duration": 10,
    "start_time": "2022-09-24T17:19:35.809Z"
   },
   {
    "duration": 3,
    "start_time": "2022-09-24T17:19:35.820Z"
   },
   {
    "duration": 10,
    "start_time": "2022-09-24T17:19:35.825Z"
   },
   {
    "duration": 171,
    "start_time": "2022-09-24T17:19:35.839Z"
   },
   {
    "duration": 12,
    "start_time": "2022-09-24T17:19:36.012Z"
   },
   {
    "duration": 4,
    "start_time": "2022-09-24T17:19:36.026Z"
   },
   {
    "duration": 8,
    "start_time": "2022-09-24T17:19:36.031Z"
   },
   {
    "duration": 17,
    "start_time": "2022-09-24T17:19:36.040Z"
   },
   {
    "duration": 47,
    "start_time": "2022-09-24T17:19:36.059Z"
   },
   {
    "duration": 13,
    "start_time": "2022-09-24T17:19:36.108Z"
   },
   {
    "duration": 26,
    "start_time": "2022-09-24T17:19:36.122Z"
   },
   {
    "duration": 7,
    "start_time": "2022-09-24T17:19:36.150Z"
   },
   {
    "duration": 108,
    "start_time": "2022-09-24T17:19:36.158Z"
   },
   {
    "duration": 3,
    "start_time": "2022-09-24T17:19:36.294Z"
   },
   {
    "duration": 729,
    "start_time": "2022-09-24T17:19:36.299Z"
   },
   {
    "duration": 9,
    "start_time": "2022-09-24T17:19:37.030Z"
   },
   {
    "duration": 20726,
    "start_time": "2022-09-24T17:19:37.041Z"
   },
   {
    "duration": 10277,
    "start_time": "2022-09-24T17:19:57.769Z"
   },
   {
    "duration": 12444,
    "start_time": "2022-09-24T17:20:08.048Z"
   },
   {
    "duration": 5,
    "start_time": "2022-09-24T17:20:20.494Z"
   },
   {
    "duration": 2180,
    "start_time": "2022-09-24T17:20:20.501Z"
   },
   {
    "duration": 19,
    "start_time": "2022-09-24T17:20:22.683Z"
   },
   {
    "duration": 39,
    "start_time": "2022-09-24T17:20:22.703Z"
   },
   {
    "duration": 3610,
    "start_time": "2022-09-24T17:20:22.743Z"
   },
   {
    "duration": 5,
    "start_time": "2022-09-24T17:20:26.354Z"
   },
   {
    "duration": 3813,
    "start_time": "2022-09-24T17:20:26.361Z"
   },
   {
    "duration": 628,
    "start_time": "2022-09-24T17:20:30.176Z"
   },
   {
    "duration": 956,
    "start_time": "2022-09-24T17:20:30.806Z"
   },
   {
    "duration": 2405,
    "start_time": "2022-09-24T17:20:31.764Z"
   },
   {
    "duration": 52,
    "start_time": "2022-09-24T17:20:34.171Z"
   },
   {
    "duration": 9,
    "start_time": "2022-09-24T17:20:34.229Z"
   },
   {
    "duration": 69,
    "start_time": "2022-09-24T17:20:34.240Z"
   },
   {
    "duration": 22,
    "start_time": "2022-09-24T17:20:34.312Z"
   },
   {
    "duration": 19,
    "start_time": "2022-09-24T17:20:34.336Z"
   },
   {
    "duration": 51,
    "start_time": "2022-09-24T17:20:34.357Z"
   },
   {
    "duration": 8,
    "start_time": "2022-09-24T17:20:34.410Z"
   },
   {
    "duration": 25,
    "start_time": "2022-09-24T17:20:34.420Z"
   },
   {
    "duration": 185,
    "start_time": "2022-09-24T17:20:34.447Z"
   },
   {
    "duration": 0,
    "start_time": "2022-09-24T17:20:34.634Z"
   },
   {
    "duration": 0,
    "start_time": "2022-09-24T17:20:34.636Z"
   },
   {
    "duration": 0,
    "start_time": "2022-09-24T17:20:34.638Z"
   },
   {
    "duration": 0,
    "start_time": "2022-09-24T17:20:34.639Z"
   },
   {
    "duration": 0,
    "start_time": "2022-09-24T17:20:34.641Z"
   },
   {
    "duration": 0,
    "start_time": "2022-09-24T17:20:34.643Z"
   },
   {
    "duration": 0,
    "start_time": "2022-09-24T17:20:34.644Z"
   },
   {
    "duration": 0,
    "start_time": "2022-09-24T17:20:34.645Z"
   },
   {
    "duration": 0,
    "start_time": "2022-09-24T17:20:34.647Z"
   },
   {
    "duration": 0,
    "start_time": "2022-09-24T17:20:34.649Z"
   },
   {
    "duration": 0,
    "start_time": "2022-09-24T17:20:34.651Z"
   },
   {
    "duration": 0,
    "start_time": "2022-09-24T17:20:34.652Z"
   },
   {
    "duration": 0,
    "start_time": "2022-09-24T17:20:34.653Z"
   },
   {
    "duration": 15,
    "start_time": "2022-09-24T17:49:53.261Z"
   },
   {
    "duration": 8,
    "start_time": "2022-09-24T17:50:01.739Z"
   },
   {
    "duration": 224,
    "start_time": "2022-09-24T17:50:02.025Z"
   },
   {
    "duration": 242,
    "start_time": "2022-09-24T17:50:14.922Z"
   },
   {
    "duration": 248,
    "start_time": "2022-09-24T17:50:18.424Z"
   },
   {
    "duration": 16,
    "start_time": "2022-09-24T17:51:14.098Z"
   },
   {
    "duration": 24,
    "start_time": "2022-09-24T17:51:58.374Z"
   },
   {
    "duration": 21,
    "start_time": "2022-09-24T17:51:59.925Z"
   },
   {
    "duration": 8,
    "start_time": "2022-09-24T17:54:23.566Z"
   },
   {
    "duration": 232,
    "start_time": "2022-09-24T17:54:24.128Z"
   },
   {
    "duration": 463,
    "start_time": "2022-09-24T17:56:01.890Z"
   },
   {
    "duration": 451,
    "start_time": "2022-09-24T17:56:07.032Z"
   },
   {
    "duration": 5,
    "start_time": "2022-09-24T17:57:50.590Z"
   },
   {
    "duration": 1682,
    "start_time": "2022-09-24T17:57:50.852Z"
   },
   {
    "duration": 25,
    "start_time": "2022-09-24T17:58:38.135Z"
   },
   {
    "duration": 264,
    "start_time": "2022-09-24T17:58:51.873Z"
   },
   {
    "duration": 433,
    "start_time": "2022-09-24T17:59:30.238Z"
   },
   {
    "duration": 5,
    "start_time": "2022-09-24T18:00:27.651Z"
   },
   {
    "duration": 1132,
    "start_time": "2022-09-24T18:00:28.232Z"
   },
   {
    "duration": 5,
    "start_time": "2022-09-24T18:01:00.695Z"
   },
   {
    "duration": 1135,
    "start_time": "2022-09-24T18:01:01.070Z"
   },
   {
    "duration": 6,
    "start_time": "2022-09-24T18:03:01.699Z"
   },
   {
    "duration": 1693,
    "start_time": "2022-09-24T18:03:09.139Z"
   },
   {
    "duration": 71,
    "start_time": "2022-09-24T18:03:10.834Z"
   },
   {
    "duration": 18,
    "start_time": "2022-09-24T18:03:10.907Z"
   },
   {
    "duration": 79,
    "start_time": "2022-09-24T18:03:10.927Z"
   },
   {
    "duration": 9,
    "start_time": "2022-09-24T18:03:11.007Z"
   },
   {
    "duration": 12,
    "start_time": "2022-09-24T18:03:11.018Z"
   },
   {
    "duration": 14,
    "start_time": "2022-09-24T18:03:11.032Z"
   },
   {
    "duration": 72,
    "start_time": "2022-09-24T18:03:11.047Z"
   },
   {
    "duration": 4,
    "start_time": "2022-09-24T18:03:11.120Z"
   },
   {
    "duration": 9,
    "start_time": "2022-09-24T18:03:11.126Z"
   },
   {
    "duration": 9,
    "start_time": "2022-09-24T18:03:11.137Z"
   },
   {
    "duration": 4,
    "start_time": "2022-09-24T18:03:11.147Z"
   },
   {
    "duration": 48,
    "start_time": "2022-09-24T18:03:11.152Z"
   },
   {
    "duration": 155,
    "start_time": "2022-09-24T18:03:11.201Z"
   },
   {
    "duration": 10,
    "start_time": "2022-09-24T18:03:11.358Z"
   },
   {
    "duration": 1982,
    "start_time": "2022-09-24T18:03:11.370Z"
   },
   {
    "duration": 0,
    "start_time": "2022-09-24T18:03:13.355Z"
   },
   {
    "duration": 0,
    "start_time": "2022-09-24T18:03:13.357Z"
   },
   {
    "duration": 0,
    "start_time": "2022-09-24T18:03:13.358Z"
   },
   {
    "duration": 0,
    "start_time": "2022-09-24T18:03:13.359Z"
   },
   {
    "duration": 0,
    "start_time": "2022-09-24T18:03:13.360Z"
   },
   {
    "duration": 0,
    "start_time": "2022-09-24T18:03:13.361Z"
   },
   {
    "duration": 0,
    "start_time": "2022-09-24T18:03:13.362Z"
   },
   {
    "duration": 0,
    "start_time": "2022-09-24T18:03:13.364Z"
   },
   {
    "duration": 0,
    "start_time": "2022-09-24T18:03:13.365Z"
   },
   {
    "duration": 0,
    "start_time": "2022-09-24T18:03:13.366Z"
   },
   {
    "duration": 0,
    "start_time": "2022-09-24T18:03:13.367Z"
   },
   {
    "duration": 0,
    "start_time": "2022-09-24T18:03:13.368Z"
   },
   {
    "duration": 0,
    "start_time": "2022-09-24T18:03:13.369Z"
   },
   {
    "duration": 0,
    "start_time": "2022-09-24T18:03:13.371Z"
   },
   {
    "duration": 0,
    "start_time": "2022-09-24T18:03:13.371Z"
   },
   {
    "duration": 0,
    "start_time": "2022-09-24T18:03:13.373Z"
   },
   {
    "duration": 0,
    "start_time": "2022-09-24T18:03:13.374Z"
   },
   {
    "duration": 0,
    "start_time": "2022-09-24T18:03:13.375Z"
   },
   {
    "duration": 0,
    "start_time": "2022-09-24T18:03:13.376Z"
   },
   {
    "duration": 0,
    "start_time": "2022-09-24T18:03:13.378Z"
   },
   {
    "duration": 0,
    "start_time": "2022-09-24T18:03:13.378Z"
   },
   {
    "duration": 0,
    "start_time": "2022-09-24T18:03:13.379Z"
   },
   {
    "duration": 0,
    "start_time": "2022-09-24T18:03:13.381Z"
   },
   {
    "duration": 0,
    "start_time": "2022-09-24T18:03:13.382Z"
   },
   {
    "duration": 0,
    "start_time": "2022-09-24T18:03:13.383Z"
   },
   {
    "duration": 0,
    "start_time": "2022-09-24T18:03:13.384Z"
   },
   {
    "duration": 0,
    "start_time": "2022-09-24T18:03:13.385Z"
   },
   {
    "duration": 0,
    "start_time": "2022-09-24T18:03:13.386Z"
   },
   {
    "duration": 0,
    "start_time": "2022-09-24T18:03:13.387Z"
   },
   {
    "duration": 0,
    "start_time": "2022-09-24T18:03:13.388Z"
   },
   {
    "duration": 0,
    "start_time": "2022-09-24T18:03:13.389Z"
   },
   {
    "duration": 0,
    "start_time": "2022-09-24T18:03:13.390Z"
   },
   {
    "duration": 0,
    "start_time": "2022-09-24T18:03:13.391Z"
   },
   {
    "duration": 0,
    "start_time": "2022-09-24T18:03:13.392Z"
   },
   {
    "duration": 0,
    "start_time": "2022-09-24T18:03:13.392Z"
   },
   {
    "duration": 0,
    "start_time": "2022-09-24T18:03:13.393Z"
   },
   {
    "duration": 0,
    "start_time": "2022-09-24T18:03:13.395Z"
   },
   {
    "duration": 0,
    "start_time": "2022-09-24T18:03:13.396Z"
   },
   {
    "duration": 0,
    "start_time": "2022-09-24T18:03:13.396Z"
   },
   {
    "duration": 0,
    "start_time": "2022-09-24T18:03:13.397Z"
   },
   {
    "duration": 0,
    "start_time": "2022-09-24T18:03:13.398Z"
   },
   {
    "duration": 0,
    "start_time": "2022-09-24T18:03:13.399Z"
   },
   {
    "duration": 0,
    "start_time": "2022-09-24T18:03:13.400Z"
   },
   {
    "duration": 0,
    "start_time": "2022-09-24T18:03:13.401Z"
   },
   {
    "duration": 21,
    "start_time": "2022-09-24T18:03:37.860Z"
   },
   {
    "duration": 21,
    "start_time": "2022-09-24T18:03:46.151Z"
   },
   {
    "duration": 4,
    "start_time": "2022-09-24T18:04:03.698Z"
   },
   {
    "duration": 4,
    "start_time": "2022-09-24T18:04:05.767Z"
   },
   {
    "duration": 18,
    "start_time": "2022-09-24T18:04:06.535Z"
   },
   {
    "duration": 25,
    "start_time": "2022-09-24T18:04:06.937Z"
   },
   {
    "duration": 13,
    "start_time": "2022-09-24T18:04:07.610Z"
   },
   {
    "duration": 26,
    "start_time": "2022-09-24T18:04:08.050Z"
   },
   {
    "duration": 8,
    "start_time": "2022-09-24T18:04:08.668Z"
   },
   {
    "duration": 116,
    "start_time": "2022-09-24T18:04:09.300Z"
   },
   {
    "duration": 3,
    "start_time": "2022-09-24T18:04:09.733Z"
   },
   {
    "duration": 740,
    "start_time": "2022-09-24T18:04:09.946Z"
   },
   {
    "duration": 9,
    "start_time": "2022-09-24T18:04:10.696Z"
   },
   {
    "duration": 20843,
    "start_time": "2022-09-24T18:04:10.707Z"
   },
   {
    "duration": 10362,
    "start_time": "2022-09-24T18:04:31.553Z"
   },
   {
    "duration": 13211,
    "start_time": "2022-09-24T18:04:41.917Z"
   },
   {
    "duration": 4,
    "start_time": "2022-09-24T18:04:55.130Z"
   },
   {
    "duration": 2180,
    "start_time": "2022-09-24T18:04:55.136Z"
   },
   {
    "duration": 9,
    "start_time": "2022-09-24T18:04:57.318Z"
   },
   {
    "duration": 36,
    "start_time": "2022-09-24T18:04:57.328Z"
   },
   {
    "duration": 4023,
    "start_time": "2022-09-24T18:04:57.396Z"
   },
   {
    "duration": 5,
    "start_time": "2022-09-24T18:05:01.421Z"
   },
   {
    "duration": 3862,
    "start_time": "2022-09-24T18:05:01.428Z"
   },
   {
    "duration": 629,
    "start_time": "2022-09-24T18:05:05.292Z"
   },
   {
    "duration": 975,
    "start_time": "2022-09-24T18:05:05.923Z"
   },
   {
    "duration": 2367,
    "start_time": "2022-09-24T18:05:06.900Z"
   },
   {
    "duration": 30,
    "start_time": "2022-09-24T18:05:34.907Z"
   },
   {
    "duration": 8,
    "start_time": "2022-09-24T18:05:40.634Z"
   },
   {
    "duration": 27,
    "start_time": "2022-09-24T18:05:44.822Z"
   },
   {
    "duration": 22,
    "start_time": "2022-09-24T18:05:46.260Z"
   },
   {
    "duration": 25,
    "start_time": "2022-09-24T18:05:49.185Z"
   },
   {
    "duration": 24,
    "start_time": "2022-09-24T18:05:54.279Z"
   },
   {
    "duration": 23,
    "start_time": "2022-09-24T18:06:02.044Z"
   },
   {
    "duration": 9,
    "start_time": "2022-09-24T18:06:07.747Z"
   },
   {
    "duration": 445,
    "start_time": "2022-09-24T18:06:11.789Z"
   },
   {
    "duration": 4,
    "start_time": "2022-09-24T18:06:46.185Z"
   },
   {
    "duration": 6,
    "start_time": "2022-09-24T18:06:53.286Z"
   },
   {
    "duration": 24,
    "start_time": "2022-09-24T18:06:55.738Z"
   },
   {
    "duration": 3,
    "start_time": "2022-09-24T18:07:01.861Z"
   },
   {
    "duration": 25,
    "start_time": "2022-09-24T18:08:03.342Z"
   },
   {
    "duration": 22,
    "start_time": "2022-09-24T18:08:04.279Z"
   },
   {
    "duration": 8,
    "start_time": "2022-09-24T18:08:12.548Z"
   },
   {
    "duration": 459,
    "start_time": "2022-09-24T18:08:13.408Z"
   },
   {
    "duration": 7,
    "start_time": "2022-09-24T18:08:31.502Z"
   },
   {
    "duration": 22,
    "start_time": "2022-09-24T18:08:31.872Z"
   },
   {
    "duration": 23,
    "start_time": "2022-09-24T18:08:55.936Z"
   },
   {
    "duration": 22,
    "start_time": "2022-09-24T18:08:56.382Z"
   },
   {
    "duration": 8,
    "start_time": "2022-09-24T18:09:01.392Z"
   },
   {
    "duration": 28,
    "start_time": "2022-09-24T18:09:01.917Z"
   },
   {
    "duration": 24,
    "start_time": "2022-09-24T18:09:07.914Z"
   },
   {
    "duration": 23,
    "start_time": "2022-09-24T18:09:08.785Z"
   },
   {
    "duration": 12,
    "start_time": "2022-09-24T18:09:20.241Z"
   },
   {
    "duration": 21,
    "start_time": "2022-09-24T18:10:07.428Z"
   },
   {
    "duration": 11,
    "start_time": "2022-09-24T18:10:12.838Z"
   },
   {
    "duration": 489,
    "start_time": "2022-09-24T18:10:13.106Z"
   },
   {
    "duration": 9,
    "start_time": "2022-09-24T18:10:23.769Z"
   },
   {
    "duration": 21,
    "start_time": "2022-09-24T18:10:24.607Z"
   },
   {
    "duration": 8,
    "start_time": "2022-09-24T18:10:28.917Z"
   },
   {
    "duration": 614,
    "start_time": "2022-09-24T18:10:29.176Z"
   },
   {
    "duration": 8,
    "start_time": "2022-09-24T18:10:36.288Z"
   },
   {
    "duration": 38,
    "start_time": "2022-09-24T18:10:36.536Z"
   },
   {
    "duration": 8,
    "start_time": "2022-09-24T18:10:49.921Z"
   },
   {
    "duration": 489,
    "start_time": "2022-09-24T18:10:50.184Z"
   },
   {
    "duration": 9,
    "start_time": "2022-09-24T18:10:53.717Z"
   },
   {
    "duration": 31,
    "start_time": "2022-09-24T18:10:53.956Z"
   },
   {
    "duration": 9,
    "start_time": "2022-09-24T18:11:59.933Z"
   },
   {
    "duration": 21,
    "start_time": "2022-09-24T18:12:00.383Z"
   },
   {
    "duration": 8,
    "start_time": "2022-09-24T18:12:29.861Z"
   },
   {
    "duration": 31,
    "start_time": "2022-09-24T18:12:30.738Z"
   },
   {
    "duration": 8,
    "start_time": "2022-09-24T18:12:50.129Z"
   },
   {
    "duration": 455,
    "start_time": "2022-09-24T18:12:50.598Z"
   },
   {
    "duration": 21,
    "start_time": "2022-09-24T18:40:38.983Z"
   },
   {
    "duration": 12,
    "start_time": "2022-09-24T18:40:55.064Z"
   },
   {
    "duration": 12,
    "start_time": "2022-09-24T18:41:11.992Z"
   },
   {
    "duration": 21,
    "start_time": "2022-09-24T18:42:49.281Z"
   },
   {
    "duration": 15,
    "start_time": "2022-09-24T18:43:34.089Z"
   },
   {
    "duration": 20,
    "start_time": "2022-09-24T18:44:23.916Z"
   },
   {
    "duration": 21,
    "start_time": "2022-09-24T18:44:42.704Z"
   },
   {
    "duration": 15,
    "start_time": "2022-09-24T18:45:23.305Z"
   },
   {
    "duration": 15,
    "start_time": "2022-09-24T18:45:28.487Z"
   },
   {
    "duration": 4,
    "start_time": "2022-09-24T18:51:58.877Z"
   },
   {
    "duration": 5,
    "start_time": "2022-09-24T18:52:08.964Z"
   },
   {
    "duration": 4,
    "start_time": "2022-09-24T18:53:04.509Z"
   },
   {
    "duration": 4,
    "start_time": "2022-09-24T18:54:02.320Z"
   },
   {
    "duration": 4,
    "start_time": "2022-09-24T18:54:15.897Z"
   },
   {
    "duration": 4,
    "start_time": "2022-09-24T18:54:27.375Z"
   },
   {
    "duration": 4,
    "start_time": "2022-09-24T18:54:50.911Z"
   },
   {
    "duration": 5,
    "start_time": "2022-09-24T18:54:56.614Z"
   },
   {
    "duration": 11,
    "start_time": "2022-09-24T18:56:25.289Z"
   },
   {
    "duration": 10,
    "start_time": "2022-09-24T18:56:27.528Z"
   },
   {
    "duration": 266,
    "start_time": "2022-09-24T18:56:34.853Z"
   },
   {
    "duration": 0,
    "start_time": "2022-09-24T18:56:35.121Z"
   },
   {
    "duration": 13,
    "start_time": "2022-09-24T18:56:35.317Z"
   },
   {
    "duration": 23,
    "start_time": "2022-09-24T18:56:36.945Z"
   },
   {
    "duration": 3,
    "start_time": "2022-09-24T18:56:38.310Z"
   },
   {
    "duration": 13,
    "start_time": "2022-09-24T18:56:38.786Z"
   },
   {
    "duration": 33,
    "start_time": "2022-09-24T18:56:47.527Z"
   },
   {
    "duration": 11,
    "start_time": "2022-09-24T18:56:57.764Z"
   },
   {
    "duration": 13,
    "start_time": "2022-09-24T18:58:05.683Z"
   },
   {
    "duration": 13,
    "start_time": "2022-09-24T18:58:07.893Z"
   },
   {
    "duration": 7,
    "start_time": "2022-09-24T18:59:44.925Z"
   },
   {
    "duration": 4,
    "start_time": "2022-09-24T18:59:49.322Z"
   },
   {
    "duration": 8,
    "start_time": "2022-09-24T19:01:09.793Z"
   },
   {
    "duration": 10,
    "start_time": "2022-09-24T19:01:10.217Z"
   },
   {
    "duration": 14,
    "start_time": "2022-09-24T19:04:14.474Z"
   },
   {
    "duration": 76,
    "start_time": "2022-09-24T19:05:00.541Z"
   },
   {
    "duration": 14,
    "start_time": "2022-09-24T19:05:06.276Z"
   },
   {
    "duration": 18,
    "start_time": "2022-09-24T19:05:52.037Z"
   },
   {
    "duration": 15,
    "start_time": "2022-09-24T19:06:00.227Z"
   },
   {
    "duration": 17,
    "start_time": "2022-09-24T19:06:04.874Z"
   },
   {
    "duration": 11,
    "start_time": "2022-09-24T19:08:32.118Z"
   },
   {
    "duration": 19,
    "start_time": "2022-09-24T19:08:48.812Z"
   },
   {
    "duration": 1886,
    "start_time": "2022-09-24T21:01:15.334Z"
   },
   {
    "duration": 203,
    "start_time": "2022-09-24T21:01:17.221Z"
   },
   {
    "duration": 17,
    "start_time": "2022-09-24T21:01:17.425Z"
   },
   {
    "duration": 72,
    "start_time": "2022-09-24T21:01:17.444Z"
   },
   {
    "duration": 10,
    "start_time": "2022-09-24T21:01:17.517Z"
   },
   {
    "duration": 12,
    "start_time": "2022-09-24T21:01:17.528Z"
   },
   {
    "duration": 15,
    "start_time": "2022-09-24T21:01:17.541Z"
   },
   {
    "duration": 76,
    "start_time": "2022-09-24T21:01:17.557Z"
   },
   {
    "duration": 3,
    "start_time": "2022-09-24T21:01:17.635Z"
   },
   {
    "duration": 10,
    "start_time": "2022-09-24T21:01:17.640Z"
   },
   {
    "duration": 11,
    "start_time": "2022-09-24T21:01:17.651Z"
   },
   {
    "duration": 4,
    "start_time": "2022-09-24T21:01:17.663Z"
   },
   {
    "duration": 9,
    "start_time": "2022-09-24T21:01:17.668Z"
   },
   {
    "duration": 165,
    "start_time": "2022-09-24T21:01:17.678Z"
   },
   {
    "duration": 10,
    "start_time": "2022-09-24T21:01:17.844Z"
   },
   {
    "duration": 4,
    "start_time": "2022-09-24T21:01:17.855Z"
   },
   {
    "duration": 13,
    "start_time": "2022-09-24T21:01:17.860Z"
   },
   {
    "duration": 14,
    "start_time": "2022-09-24T21:01:17.875Z"
   },
   {
    "duration": 31,
    "start_time": "2022-09-24T21:01:17.891Z"
   },
   {
    "duration": 12,
    "start_time": "2022-09-24T21:01:17.923Z"
   },
   {
    "duration": 23,
    "start_time": "2022-09-24T21:01:17.937Z"
   },
   {
    "duration": 6,
    "start_time": "2022-09-24T21:01:17.961Z"
   },
   {
    "duration": 110,
    "start_time": "2022-09-24T21:01:17.969Z"
   },
   {
    "duration": 5,
    "start_time": "2022-09-24T21:01:18.081Z"
   },
   {
    "duration": 739,
    "start_time": "2022-09-24T21:01:18.087Z"
   },
   {
    "duration": 7,
    "start_time": "2022-09-24T21:01:18.828Z"
   },
   {
    "duration": 19871,
    "start_time": "2022-09-24T21:01:18.836Z"
   },
   {
    "duration": 10334,
    "start_time": "2022-09-24T21:01:38.710Z"
   },
   {
    "duration": 11782,
    "start_time": "2022-09-24T21:01:49.045Z"
   },
   {
    "duration": 4,
    "start_time": "2022-09-24T21:02:00.829Z"
   },
   {
    "duration": 1743,
    "start_time": "2022-09-24T21:02:00.834Z"
   },
   {
    "duration": 6,
    "start_time": "2022-09-24T21:02:02.579Z"
   },
   {
    "duration": 47,
    "start_time": "2022-09-24T21:02:02.587Z"
   },
   {
    "duration": 3760,
    "start_time": "2022-09-24T21:02:02.636Z"
   },
   {
    "duration": 4,
    "start_time": "2022-09-24T21:02:06.398Z"
   },
   {
    "duration": 3780,
    "start_time": "2022-09-24T21:02:06.404Z"
   },
   {
    "duration": 619,
    "start_time": "2022-09-24T21:02:10.186Z"
   },
   {
    "duration": 771,
    "start_time": "2022-09-24T21:02:10.806Z"
   },
   {
    "duration": 2075,
    "start_time": "2022-09-24T21:02:11.580Z"
   },
   {
    "duration": 26,
    "start_time": "2022-09-24T21:02:13.657Z"
   },
   {
    "duration": 8,
    "start_time": "2022-09-24T21:02:13.715Z"
   },
   {
    "duration": 40,
    "start_time": "2022-09-24T21:02:13.725Z"
   },
   {
    "duration": 17,
    "start_time": "2022-09-24T21:02:13.766Z"
   },
   {
    "duration": 25,
    "start_time": "2022-09-24T21:02:13.784Z"
   },
   {
    "duration": 22,
    "start_time": "2022-09-24T21:02:13.810Z"
   },
   {
    "duration": 6,
    "start_time": "2022-09-24T21:02:13.833Z"
   },
   {
    "duration": 437,
    "start_time": "2022-09-24T21:02:13.841Z"
   },
   {
    "duration": 456,
    "start_time": "2022-09-24T21:02:14.280Z"
   },
   {
    "duration": 0,
    "start_time": "2022-09-24T21:02:14.738Z"
   },
   {
    "duration": 0,
    "start_time": "2022-09-24T21:02:14.739Z"
   },
   {
    "duration": 0,
    "start_time": "2022-09-24T21:02:14.741Z"
   },
   {
    "duration": 0,
    "start_time": "2022-09-24T21:02:14.741Z"
   },
   {
    "duration": 0,
    "start_time": "2022-09-24T21:02:14.742Z"
   },
   {
    "duration": 0,
    "start_time": "2022-09-24T21:02:14.743Z"
   },
   {
    "duration": 0,
    "start_time": "2022-09-24T21:02:14.744Z"
   },
   {
    "duration": 0,
    "start_time": "2022-09-24T21:02:14.745Z"
   },
   {
    "duration": 0,
    "start_time": "2022-09-24T21:02:14.746Z"
   },
   {
    "duration": 0,
    "start_time": "2022-09-24T21:02:14.747Z"
   },
   {
    "duration": 0,
    "start_time": "2022-09-24T21:02:14.748Z"
   },
   {
    "duration": 0,
    "start_time": "2022-09-24T21:02:14.749Z"
   },
   {
    "duration": 0,
    "start_time": "2022-09-24T21:02:14.750Z"
   },
   {
    "duration": 0,
    "start_time": "2022-09-24T21:02:14.751Z"
   },
   {
    "duration": 0,
    "start_time": "2022-09-24T21:02:14.752Z"
   },
   {
    "duration": 0,
    "start_time": "2022-09-24T21:02:14.753Z"
   },
   {
    "duration": 0,
    "start_time": "2022-09-24T21:02:14.754Z"
   },
   {
    "duration": 0,
    "start_time": "2022-09-24T21:02:14.756Z"
   },
   {
    "duration": 0,
    "start_time": "2022-09-24T21:02:14.757Z"
   },
   {
    "duration": 0,
    "start_time": "2022-09-24T21:02:14.758Z"
   },
   {
    "duration": 14,
    "start_time": "2022-09-24T21:07:38.129Z"
   },
   {
    "duration": 17,
    "start_time": "2022-09-24T21:08:03.314Z"
   },
   {
    "duration": 14,
    "start_time": "2022-09-24T21:08:14.361Z"
   },
   {
    "duration": 11,
    "start_time": "2022-09-24T21:08:45.276Z"
   },
   {
    "duration": 8,
    "start_time": "2022-09-24T21:08:53.541Z"
   },
   {
    "duration": 10,
    "start_time": "2022-09-24T21:09:16.712Z"
   },
   {
    "duration": 11,
    "start_time": "2022-09-24T21:10:16.234Z"
   },
   {
    "duration": 10,
    "start_time": "2022-09-24T21:10:29.079Z"
   },
   {
    "duration": 12,
    "start_time": "2022-09-24T21:13:18.837Z"
   },
   {
    "duration": 8,
    "start_time": "2022-09-24T21:15:54.948Z"
   },
   {
    "duration": 2078,
    "start_time": "2022-09-24T21:15:55.645Z"
   },
   {
    "duration": 7,
    "start_time": "2022-09-24T21:18:34.962Z"
   },
   {
    "duration": 391,
    "start_time": "2022-09-24T21:18:35.591Z"
   },
   {
    "duration": 8,
    "start_time": "2022-09-24T21:19:21.291Z"
   },
   {
    "duration": 389,
    "start_time": "2022-09-24T21:19:21.572Z"
   },
   {
    "duration": 15,
    "start_time": "2022-09-24T21:20:22.720Z"
   },
   {
    "duration": 12,
    "start_time": "2022-09-24T21:20:37.436Z"
   },
   {
    "duration": 12,
    "start_time": "2022-09-24T21:20:47.303Z"
   },
   {
    "duration": 3,
    "start_time": "2022-09-24T21:21:01.705Z"
   },
   {
    "duration": 12,
    "start_time": "2022-09-24T21:21:05.088Z"
   },
   {
    "duration": 15,
    "start_time": "2022-09-24T21:21:21.253Z"
   },
   {
    "duration": 10,
    "start_time": "2022-09-24T21:21:27.021Z"
   },
   {
    "duration": 8,
    "start_time": "2022-09-24T21:21:29.459Z"
   },
   {
    "duration": 4,
    "start_time": "2022-09-24T21:22:00.413Z"
   },
   {
    "duration": 12,
    "start_time": "2022-09-24T21:26:46.440Z"
   },
   {
    "duration": 12,
    "start_time": "2022-09-24T21:26:52.524Z"
   },
   {
    "duration": 14,
    "start_time": "2022-09-24T21:27:15.038Z"
   },
   {
    "duration": 61,
    "start_time": "2022-09-24T21:27:24.362Z"
   },
   {
    "duration": 23,
    "start_time": "2022-09-24T21:27:31.583Z"
   },
   {
    "duration": 156,
    "start_time": "2022-09-24T21:27:39.459Z"
   },
   {
    "duration": 4,
    "start_time": "2022-09-24T21:28:03.151Z"
   },
   {
    "duration": 11,
    "start_time": "2022-09-24T21:28:13.056Z"
   },
   {
    "duration": 32,
    "start_time": "2022-09-24T21:28:27.336Z"
   },
   {
    "duration": 21,
    "start_time": "2022-09-24T21:32:51.917Z"
   },
   {
    "duration": 18,
    "start_time": "2022-09-24T21:34:00.570Z"
   },
   {
    "duration": 16,
    "start_time": "2022-09-24T21:34:06.627Z"
   },
   {
    "duration": 10,
    "start_time": "2022-09-24T21:34:18.043Z"
   },
   {
    "duration": 12,
    "start_time": "2022-09-24T21:34:23.079Z"
   },
   {
    "duration": 8,
    "start_time": "2022-09-24T21:34:35.957Z"
   },
   {
    "duration": 4,
    "start_time": "2022-09-24T21:34:55.989Z"
   },
   {
    "duration": 10,
    "start_time": "2022-09-24T21:34:59.292Z"
   },
   {
    "duration": 8,
    "start_time": "2022-09-24T21:35:01.680Z"
   },
   {
    "duration": 6,
    "start_time": "2022-09-24T21:35:31.553Z"
   },
   {
    "duration": 3,
    "start_time": "2022-09-24T21:37:16.867Z"
   },
   {
    "duration": 23,
    "start_time": "2022-09-24T21:39:29.101Z"
   },
   {
    "duration": 16,
    "start_time": "2022-09-24T21:39:44.999Z"
   },
   {
    "duration": 8,
    "start_time": "2022-09-24T21:39:53.578Z"
   },
   {
    "duration": 18,
    "start_time": "2022-09-24T21:40:16.869Z"
   },
   {
    "duration": 10,
    "start_time": "2022-09-24T21:40:17.429Z"
   },
   {
    "duration": 10,
    "start_time": "2022-09-24T21:40:17.735Z"
   },
   {
    "duration": 7,
    "start_time": "2022-09-24T21:40:18.202Z"
   },
   {
    "duration": 8,
    "start_time": "2022-09-24T21:40:22.609Z"
   },
   {
    "duration": 14,
    "start_time": "2022-09-24T21:40:43.937Z"
   },
   {
    "duration": 14,
    "start_time": "2022-09-24T21:40:48.550Z"
   },
   {
    "duration": 14,
    "start_time": "2022-09-24T21:41:00.592Z"
   },
   {
    "duration": 16,
    "start_time": "2022-09-24T21:41:13.441Z"
   },
   {
    "duration": 9,
    "start_time": "2022-09-24T21:41:22.945Z"
   },
   {
    "duration": 7,
    "start_time": "2022-09-24T21:41:27.013Z"
   },
   {
    "duration": 3,
    "start_time": "2022-09-24T21:41:40.623Z"
   },
   {
    "duration": 18,
    "start_time": "2022-09-24T21:41:41.991Z"
   },
   {
    "duration": 15,
    "start_time": "2022-09-24T21:41:42.261Z"
   },
   {
    "duration": 13,
    "start_time": "2022-09-24T21:41:42.520Z"
   },
   {
    "duration": 13,
    "start_time": "2022-09-24T21:41:48.612Z"
   },
   {
    "duration": 7,
    "start_time": "2022-09-24T21:41:57.345Z"
   },
   {
    "duration": 18,
    "start_time": "2022-09-24T21:42:10.195Z"
   },
   {
    "duration": 9,
    "start_time": "2022-09-24T21:42:13.287Z"
   },
   {
    "duration": 9,
    "start_time": "2022-09-24T21:43:23.363Z"
   },
   {
    "duration": 6,
    "start_time": "2022-09-24T21:59:16.238Z"
   },
   {
    "duration": 1354,
    "start_time": "2022-09-24T21:59:17.842Z"
   },
   {
    "duration": 209,
    "start_time": "2022-09-24T21:59:19.290Z"
   },
   {
    "duration": 25,
    "start_time": "2022-09-24T21:59:37.672Z"
   },
   {
    "duration": 387,
    "start_time": "2022-09-24T21:59:37.991Z"
   },
   {
    "duration": 8,
    "start_time": "2022-09-24T22:01:36.476Z"
   },
   {
    "duration": 21,
    "start_time": "2022-09-24T22:01:36.921Z"
   },
   {
    "duration": 8,
    "start_time": "2022-09-24T22:02:09.956Z"
   },
   {
    "duration": 21,
    "start_time": "2022-09-24T22:02:10.655Z"
   },
   {
    "duration": 7,
    "start_time": "2022-09-24T22:03:50.847Z"
   },
   {
    "duration": 28,
    "start_time": "2022-09-24T22:03:55.414Z"
   },
   {
    "duration": 12,
    "start_time": "2022-09-24T22:04:03.499Z"
   },
   {
    "duration": 6,
    "start_time": "2022-09-24T22:04:10.816Z"
   },
   {
    "duration": 7,
    "start_time": "2022-09-24T22:04:46.212Z"
   },
   {
    "duration": 398,
    "start_time": "2022-09-24T22:04:46.583Z"
   },
   {
    "duration": 17,
    "start_time": "2022-09-24T22:06:08.225Z"
   },
   {
    "duration": 411,
    "start_time": "2022-09-24T22:06:09.132Z"
   },
   {
    "duration": 8,
    "start_time": "2022-09-24T22:06:31.514Z"
   },
   {
    "duration": 862,
    "start_time": "2022-09-24T22:06:34.019Z"
   },
   {
    "duration": 11,
    "start_time": "2022-09-24T22:07:03.099Z"
   },
   {
    "duration": 7,
    "start_time": "2022-09-24T22:07:29.554Z"
   },
   {
    "duration": 8,
    "start_time": "2022-09-24T22:07:30.228Z"
   },
   {
    "duration": 521,
    "start_time": "2022-09-24T22:07:30.621Z"
   },
   {
    "duration": 7,
    "start_time": "2022-09-24T22:07:31.161Z"
   },
   {
    "duration": 7,
    "start_time": "2022-09-24T22:08:29.749Z"
   },
   {
    "duration": 12,
    "start_time": "2022-09-24T22:08:34.580Z"
   },
   {
    "duration": 9,
    "start_time": "2022-09-24T22:09:10.990Z"
   },
   {
    "duration": 12,
    "start_time": "2022-09-24T22:09:11.482Z"
   },
   {
    "duration": 805,
    "start_time": "2022-09-24T22:09:12.238Z"
   },
   {
    "duration": 10,
    "start_time": "2022-09-24T22:09:28.806Z"
   },
   {
    "duration": 715,
    "start_time": "2022-09-24T22:09:29.104Z"
   },
   {
    "duration": 8,
    "start_time": "2022-09-24T22:10:25.040Z"
   },
   {
    "duration": 708,
    "start_time": "2022-09-24T22:10:25.425Z"
   },
   {
    "duration": 9,
    "start_time": "2022-09-24T22:11:00.146Z"
   },
   {
    "duration": 318,
    "start_time": "2022-09-24T22:11:00.609Z"
   },
   {
    "duration": 9,
    "start_time": "2022-09-24T22:11:09.659Z"
   },
   {
    "duration": 765,
    "start_time": "2022-09-24T22:11:09.957Z"
   },
   {
    "duration": 7,
    "start_time": "2022-09-24T22:12:09.062Z"
   },
   {
    "duration": 12,
    "start_time": "2022-09-24T22:12:35.133Z"
   },
   {
    "duration": 7,
    "start_time": "2022-09-24T22:12:40.760Z"
   },
   {
    "duration": 12,
    "start_time": "2022-09-24T22:12:56.802Z"
   },
   {
    "duration": 3,
    "start_time": "2022-09-24T22:15:04.946Z"
   },
   {
    "duration": 3,
    "start_time": "2022-09-24T22:15:28.176Z"
   },
   {
    "duration": 4,
    "start_time": "2022-09-24T22:15:30.327Z"
   },
   {
    "duration": 4,
    "start_time": "2022-09-24T22:15:38.095Z"
   },
   {
    "duration": 5,
    "start_time": "2022-09-24T22:15:38.340Z"
   },
   {
    "duration": 10,
    "start_time": "2022-09-24T22:15:52.401Z"
   },
   {
    "duration": 35,
    "start_time": "2022-09-24T22:16:06.923Z"
   },
   {
    "duration": 13,
    "start_time": "2022-09-24T22:16:30.047Z"
   },
   {
    "duration": 18,
    "start_time": "2022-09-24T22:16:52.865Z"
   },
   {
    "duration": 3,
    "start_time": "2022-09-24T22:17:02.455Z"
   },
   {
    "duration": 3,
    "start_time": "2022-09-24T22:17:02.888Z"
   },
   {
    "duration": 17,
    "start_time": "2022-09-24T22:17:03.513Z"
   },
   {
    "duration": 11,
    "start_time": "2022-09-24T22:17:07.794Z"
   },
   {
    "duration": 3,
    "start_time": "2022-09-24T22:17:12.250Z"
   },
   {
    "duration": 3,
    "start_time": "2022-09-24T22:17:12.556Z"
   },
   {
    "duration": 17,
    "start_time": "2022-09-24T22:17:12.881Z"
   },
   {
    "duration": 22,
    "start_time": "2022-09-24T22:17:19.226Z"
   },
   {
    "duration": 16,
    "start_time": "2022-09-24T22:19:50.909Z"
   },
   {
    "duration": 743,
    "start_time": "2022-09-24T22:19:51.503Z"
   },
   {
    "duration": 10,
    "start_time": "2022-09-24T22:20:14.634Z"
   },
   {
    "duration": 882,
    "start_time": "2022-09-24T22:20:15.138Z"
   },
   {
    "duration": 48,
    "start_time": "2022-09-24T22:21:05.434Z"
   },
   {
    "duration": 787,
    "start_time": "2022-09-24T22:21:06.284Z"
   },
   {
    "duration": 62,
    "start_time": "2022-09-24T22:21:17.721Z"
   },
   {
    "duration": 63,
    "start_time": "2022-09-24T22:21:18.767Z"
   },
   {
    "duration": 55,
    "start_time": "2022-09-24T22:21:22.987Z"
   },
   {
    "duration": 8,
    "start_time": "2022-09-24T22:22:55.580Z"
   },
   {
    "duration": 10,
    "start_time": "2022-09-24T22:24:18.526Z"
   },
   {
    "duration": 743,
    "start_time": "2022-09-24T22:24:21.168Z"
   },
   {
    "duration": 9,
    "start_time": "2022-09-24T22:25:26.707Z"
   },
   {
    "duration": 960,
    "start_time": "2022-09-24T22:25:27.204Z"
   },
   {
    "duration": 11,
    "start_time": "2022-09-24T22:25:58.386Z"
   },
   {
    "duration": 6,
    "start_time": "2022-09-24T22:26:39.109Z"
   },
   {
    "duration": 9,
    "start_time": "2022-09-24T22:26:46.878Z"
   },
   {
    "duration": 13,
    "start_time": "2022-09-24T22:27:38.229Z"
   },
   {
    "duration": 10,
    "start_time": "2022-09-24T22:27:38.940Z"
   },
   {
    "duration": 22,
    "start_time": "2022-09-24T22:27:43.669Z"
   },
   {
    "duration": 10,
    "start_time": "2022-09-24T22:28:40.714Z"
   },
   {
    "duration": 416,
    "start_time": "2022-09-24T22:28:41.187Z"
   },
   {
    "duration": 11,
    "start_time": "2022-09-24T22:33:13.930Z"
   },
   {
    "duration": 453,
    "start_time": "2022-09-24T22:33:14.427Z"
   },
   {
    "duration": 12,
    "start_time": "2022-09-24T22:33:38.355Z"
   },
   {
    "duration": 400,
    "start_time": "2022-09-24T22:33:38.834Z"
   },
   {
    "duration": 402,
    "start_time": "2022-09-24T22:33:55.446Z"
   },
   {
    "duration": 394,
    "start_time": "2022-09-24T22:34:02.198Z"
   },
   {
    "duration": 11,
    "start_time": "2022-09-24T22:34:34.030Z"
   },
   {
    "duration": 414,
    "start_time": "2022-09-24T22:34:34.748Z"
   },
   {
    "duration": 855,
    "start_time": "2022-09-24T22:35:47.762Z"
   },
   {
    "duration": 1689,
    "start_time": "2022-09-24T22:51:12.804Z"
   },
   {
    "duration": 80,
    "start_time": "2022-09-24T22:51:14.495Z"
   },
   {
    "duration": 17,
    "start_time": "2022-09-24T22:51:14.577Z"
   },
   {
    "duration": 64,
    "start_time": "2022-09-24T22:51:14.596Z"
   },
   {
    "duration": 12,
    "start_time": "2022-09-24T22:51:14.662Z"
   },
   {
    "duration": 12,
    "start_time": "2022-09-24T22:51:14.709Z"
   },
   {
    "duration": 16,
    "start_time": "2022-09-24T22:51:14.723Z"
   },
   {
    "duration": 73,
    "start_time": "2022-09-24T22:51:14.740Z"
   },
   {
    "duration": 4,
    "start_time": "2022-09-24T22:51:14.814Z"
   },
   {
    "duration": 14,
    "start_time": "2022-09-24T22:51:14.820Z"
   },
   {
    "duration": 8,
    "start_time": "2022-09-24T22:51:14.836Z"
   },
   {
    "duration": 3,
    "start_time": "2022-09-24T22:51:14.846Z"
   },
   {
    "duration": 14,
    "start_time": "2022-09-24T22:51:14.850Z"
   },
   {
    "duration": 156,
    "start_time": "2022-09-24T22:51:14.866Z"
   },
   {
    "duration": 10,
    "start_time": "2022-09-24T22:51:15.024Z"
   },
   {
    "duration": 11,
    "start_time": "2022-09-24T22:51:15.035Z"
   },
   {
    "duration": 8,
    "start_time": "2022-09-24T22:51:15.048Z"
   },
   {
    "duration": 21,
    "start_time": "2022-09-24T22:51:15.058Z"
   },
   {
    "duration": 36,
    "start_time": "2022-09-24T22:51:15.080Z"
   },
   {
    "duration": 11,
    "start_time": "2022-09-24T22:51:15.117Z"
   },
   {
    "duration": 23,
    "start_time": "2022-09-24T22:51:15.129Z"
   },
   {
    "duration": 6,
    "start_time": "2022-09-24T22:51:15.154Z"
   },
   {
    "duration": 117,
    "start_time": "2022-09-24T22:51:15.162Z"
   },
   {
    "duration": 2,
    "start_time": "2022-09-24T22:51:15.310Z"
   },
   {
    "duration": 684,
    "start_time": "2022-09-24T22:51:15.314Z"
   },
   {
    "duration": 10,
    "start_time": "2022-09-24T22:51:16.000Z"
   },
   {
    "duration": 19841,
    "start_time": "2022-09-24T22:51:16.012Z"
   },
   {
    "duration": 9700,
    "start_time": "2022-09-24T22:51:35.858Z"
   },
   {
    "duration": 11525,
    "start_time": "2022-09-24T22:51:45.559Z"
   },
   {
    "duration": 4,
    "start_time": "2022-09-24T22:51:57.086Z"
   },
   {
    "duration": 1803,
    "start_time": "2022-09-24T22:51:57.091Z"
   },
   {
    "duration": 6,
    "start_time": "2022-09-24T22:51:58.909Z"
   },
   {
    "duration": 46,
    "start_time": "2022-09-24T22:51:58.916Z"
   },
   {
    "duration": 3447,
    "start_time": "2022-09-24T22:51:58.963Z"
   },
   {
    "duration": 4,
    "start_time": "2022-09-24T22:52:02.412Z"
   },
   {
    "duration": 3673,
    "start_time": "2022-09-24T22:52:02.417Z"
   },
   {
    "duration": 599,
    "start_time": "2022-09-24T22:52:06.092Z"
   },
   {
    "duration": 748,
    "start_time": "2022-09-24T22:52:06.693Z"
   },
   {
    "duration": 1827,
    "start_time": "2022-09-24T22:52:07.442Z"
   },
   {
    "duration": 43,
    "start_time": "2022-09-24T22:52:09.271Z"
   },
   {
    "duration": 6,
    "start_time": "2022-09-24T22:52:09.315Z"
   },
   {
    "duration": 25,
    "start_time": "2022-09-24T22:52:09.323Z"
   },
   {
    "duration": 17,
    "start_time": "2022-09-24T22:52:09.349Z"
   },
   {
    "duration": 51,
    "start_time": "2022-09-24T22:52:09.367Z"
   },
   {
    "duration": 29,
    "start_time": "2022-09-24T22:52:09.419Z"
   },
   {
    "duration": 13,
    "start_time": "2022-09-24T22:52:09.450Z"
   },
   {
    "duration": 411,
    "start_time": "2022-09-24T22:52:09.465Z"
   },
   {
    "duration": 737,
    "start_time": "2022-09-24T22:52:09.878Z"
   },
   {
    "duration": 7,
    "start_time": "2022-09-24T22:52:10.617Z"
   },
   {
    "duration": 13,
    "start_time": "2022-09-24T22:52:10.625Z"
   },
   {
    "duration": 169,
    "start_time": "2022-09-24T22:52:10.640Z"
   },
   {
    "duration": 0,
    "start_time": "2022-09-24T22:52:10.810Z"
   },
   {
    "duration": 0,
    "start_time": "2022-09-24T22:52:10.811Z"
   },
   {
    "duration": 0,
    "start_time": "2022-09-24T22:52:10.812Z"
   },
   {
    "duration": 0,
    "start_time": "2022-09-24T22:52:10.813Z"
   },
   {
    "duration": 0,
    "start_time": "2022-09-24T22:52:10.814Z"
   },
   {
    "duration": 0,
    "start_time": "2022-09-24T22:52:10.814Z"
   },
   {
    "duration": 0,
    "start_time": "2022-09-24T22:52:10.815Z"
   },
   {
    "duration": 0,
    "start_time": "2022-09-24T22:52:10.816Z"
   },
   {
    "duration": 0,
    "start_time": "2022-09-24T22:52:10.816Z"
   },
   {
    "duration": 0,
    "start_time": "2022-09-24T22:52:10.817Z"
   },
   {
    "duration": 0,
    "start_time": "2022-09-24T22:52:10.818Z"
   },
   {
    "duration": 0,
    "start_time": "2022-09-24T22:52:10.819Z"
   },
   {
    "duration": 0,
    "start_time": "2022-09-24T22:52:10.819Z"
   },
   {
    "duration": 0,
    "start_time": "2022-09-24T22:52:10.820Z"
   },
   {
    "duration": 0,
    "start_time": "2022-09-24T22:52:10.821Z"
   },
   {
    "duration": 0,
    "start_time": "2022-09-24T22:52:10.822Z"
   },
   {
    "duration": 0,
    "start_time": "2022-09-24T22:52:10.823Z"
   },
   {
    "duration": 0,
    "start_time": "2022-09-24T22:52:10.823Z"
   },
   {
    "duration": 0,
    "start_time": "2022-09-24T22:52:10.824Z"
   },
   {
    "duration": 0,
    "start_time": "2022-09-24T22:52:10.825Z"
   },
   {
    "duration": 0,
    "start_time": "2022-09-24T22:52:10.826Z"
   },
   {
    "duration": 1,
    "start_time": "2022-09-24T22:52:10.961Z"
   },
   {
    "duration": 0,
    "start_time": "2022-09-24T22:52:10.963Z"
   },
   {
    "duration": 0,
    "start_time": "2022-09-24T22:52:10.964Z"
   },
   {
    "duration": 0,
    "start_time": "2022-09-24T22:52:10.964Z"
   },
   {
    "duration": 0,
    "start_time": "2022-09-24T22:52:10.965Z"
   },
   {
    "duration": 0,
    "start_time": "2022-09-24T22:52:10.966Z"
   },
   {
    "duration": 0,
    "start_time": "2022-09-24T22:52:10.967Z"
   },
   {
    "duration": 0,
    "start_time": "2022-09-24T22:52:10.968Z"
   },
   {
    "duration": 0,
    "start_time": "2022-09-24T22:52:10.969Z"
   },
   {
    "duration": 12,
    "start_time": "2022-09-24T22:57:31.614Z"
   },
   {
    "duration": 236,
    "start_time": "2022-09-24T22:57:31.627Z"
   },
   {
    "duration": 0,
    "start_time": "2022-09-24T22:57:31.865Z"
   },
   {
    "duration": 0,
    "start_time": "2022-09-24T22:57:31.866Z"
   },
   {
    "duration": 0,
    "start_time": "2022-09-24T22:57:31.867Z"
   },
   {
    "duration": 0,
    "start_time": "2022-09-24T22:57:31.867Z"
   },
   {
    "duration": 0,
    "start_time": "2022-09-24T22:57:31.868Z"
   },
   {
    "duration": 0,
    "start_time": "2022-09-24T22:57:31.869Z"
   },
   {
    "duration": 0,
    "start_time": "2022-09-24T22:57:31.869Z"
   },
   {
    "duration": 0,
    "start_time": "2022-09-24T22:57:31.870Z"
   },
   {
    "duration": 0,
    "start_time": "2022-09-24T22:57:31.871Z"
   },
   {
    "duration": 0,
    "start_time": "2022-09-24T22:57:31.871Z"
   },
   {
    "duration": 0,
    "start_time": "2022-09-24T22:57:31.872Z"
   },
   {
    "duration": 0,
    "start_time": "2022-09-24T22:57:31.873Z"
   },
   {
    "duration": 0,
    "start_time": "2022-09-24T22:57:31.873Z"
   },
   {
    "duration": 0,
    "start_time": "2022-09-24T22:57:31.874Z"
   },
   {
    "duration": 0,
    "start_time": "2022-09-24T22:57:31.875Z"
   },
   {
    "duration": 0,
    "start_time": "2022-09-24T22:57:31.875Z"
   },
   {
    "duration": 0,
    "start_time": "2022-09-24T22:57:31.876Z"
   },
   {
    "duration": 0,
    "start_time": "2022-09-24T22:57:31.877Z"
   },
   {
    "duration": 0,
    "start_time": "2022-09-24T22:57:31.878Z"
   },
   {
    "duration": 0,
    "start_time": "2022-09-24T22:57:31.879Z"
   },
   {
    "duration": 0,
    "start_time": "2022-09-24T22:57:31.879Z"
   },
   {
    "duration": 0,
    "start_time": "2022-09-24T22:57:31.880Z"
   },
   {
    "duration": 0,
    "start_time": "2022-09-24T22:57:31.881Z"
   },
   {
    "duration": 0,
    "start_time": "2022-09-24T22:57:31.882Z"
   },
   {
    "duration": 1,
    "start_time": "2022-09-24T22:57:31.908Z"
   },
   {
    "duration": 0,
    "start_time": "2022-09-24T22:57:31.909Z"
   },
   {
    "duration": 0,
    "start_time": "2022-09-24T22:57:31.910Z"
   },
   {
    "duration": 0,
    "start_time": "2022-09-24T22:57:31.911Z"
   },
   {
    "duration": 14,
    "start_time": "2022-09-24T22:57:54.296Z"
   },
   {
    "duration": 10,
    "start_time": "2022-09-24T22:57:55.911Z"
   },
   {
    "duration": 9,
    "start_time": "2022-09-24T22:58:23.425Z"
   },
   {
    "duration": 3,
    "start_time": "2022-09-24T22:59:08.236Z"
   },
   {
    "duration": 24,
    "start_time": "2022-09-24T22:59:08.647Z"
   },
   {
    "duration": 375,
    "start_time": "2022-09-24T22:59:19.997Z"
   },
   {
    "duration": 389,
    "start_time": "2022-09-24T22:59:52.984Z"
   },
   {
    "duration": 4,
    "start_time": "2022-09-24T22:59:55.574Z"
   },
   {
    "duration": 1405,
    "start_time": "2022-09-24T22:59:58.587Z"
   },
   {
    "duration": 426,
    "start_time": "2022-09-24T22:59:59.993Z"
   },
   {
    "duration": 817,
    "start_time": "2022-09-24T23:00:17.385Z"
   },
   {
    "duration": 11,
    "start_time": "2022-09-24T23:00:47.849Z"
   },
   {
    "duration": 10070,
    "start_time": "2022-09-24T23:00:48.042Z"
   },
   {
    "duration": 15,
    "start_time": "2022-09-24T23:00:58.114Z"
   },
   {
    "duration": 15,
    "start_time": "2022-09-24T23:00:58.130Z"
   },
   {
    "duration": 14,
    "start_time": "2022-09-24T23:00:58.147Z"
   },
   {
    "duration": 46,
    "start_time": "2022-09-24T23:00:58.163Z"
   },
   {
    "duration": 4,
    "start_time": "2022-09-24T23:00:58.211Z"
   },
   {
    "duration": 12,
    "start_time": "2022-09-24T23:00:58.216Z"
   },
   {
    "duration": 13,
    "start_time": "2022-09-24T23:00:58.229Z"
   },
   {
    "duration": 14,
    "start_time": "2022-09-24T23:00:58.243Z"
   },
   {
    "duration": 13,
    "start_time": "2022-09-24T23:00:58.260Z"
   },
   {
    "duration": 2,
    "start_time": "2022-09-24T23:00:58.275Z"
   },
   {
    "duration": 40,
    "start_time": "2022-09-24T23:00:58.279Z"
   },
   {
    "duration": 10,
    "start_time": "2022-09-24T23:00:58.320Z"
   },
   {
    "duration": 13,
    "start_time": "2022-09-24T23:00:58.331Z"
   },
   {
    "duration": 6,
    "start_time": "2022-09-24T23:00:58.345Z"
   },
   {
    "duration": 16,
    "start_time": "2022-09-24T23:00:58.352Z"
   },
   {
    "duration": 11,
    "start_time": "2022-09-24T23:00:58.369Z"
   },
   {
    "duration": 31,
    "start_time": "2022-09-24T23:00:58.381Z"
   },
   {
    "duration": 814,
    "start_time": "2022-09-24T23:02:51.880Z"
   },
   {
    "duration": 593,
    "start_time": "2022-09-24T23:03:09.204Z"
   },
   {
    "duration": 712,
    "start_time": "2022-09-24T23:03:51.331Z"
   },
   {
    "duration": 772,
    "start_time": "2022-09-24T23:04:34.906Z"
   },
   {
    "duration": 13,
    "start_time": "2022-09-24T23:10:23.208Z"
   },
   {
    "duration": 16,
    "start_time": "2022-09-24T23:10:26.811Z"
   },
   {
    "duration": 1699,
    "start_time": "2022-09-24T23:10:36.703Z"
   },
   {
    "duration": 65,
    "start_time": "2022-09-24T23:10:38.404Z"
   },
   {
    "duration": 16,
    "start_time": "2022-09-24T23:10:38.470Z"
   },
   {
    "duration": 53,
    "start_time": "2022-09-24T23:10:38.488Z"
   },
   {
    "duration": 9,
    "start_time": "2022-09-24T23:10:38.542Z"
   },
   {
    "duration": 13,
    "start_time": "2022-09-24T23:10:38.553Z"
   },
   {
    "duration": 45,
    "start_time": "2022-09-24T23:10:38.568Z"
   },
   {
    "duration": 50,
    "start_time": "2022-09-24T23:10:38.615Z"
   },
   {
    "duration": 5,
    "start_time": "2022-09-24T23:10:38.666Z"
   },
   {
    "duration": 8,
    "start_time": "2022-09-24T23:10:38.711Z"
   },
   {
    "duration": 10,
    "start_time": "2022-09-24T23:10:38.721Z"
   },
   {
    "duration": 4,
    "start_time": "2022-09-24T23:10:38.733Z"
   },
   {
    "duration": 11,
    "start_time": "2022-09-24T23:10:38.738Z"
   },
   {
    "duration": 167,
    "start_time": "2022-09-24T23:10:38.750Z"
   },
   {
    "duration": 11,
    "start_time": "2022-09-24T23:10:38.919Z"
   },
   {
    "duration": 4,
    "start_time": "2022-09-24T23:10:38.931Z"
   },
   {
    "duration": 8,
    "start_time": "2022-09-24T23:10:38.936Z"
   },
   {
    "duration": 16,
    "start_time": "2022-09-24T23:10:38.945Z"
   },
   {
    "duration": 21,
    "start_time": "2022-09-24T23:10:38.963Z"
   },
   {
    "duration": 32,
    "start_time": "2022-09-24T23:10:38.986Z"
   },
   {
    "duration": 23,
    "start_time": "2022-09-24T23:10:39.020Z"
   },
   {
    "duration": 6,
    "start_time": "2022-09-24T23:10:39.045Z"
   },
   {
    "duration": 105,
    "start_time": "2022-09-24T23:10:39.052Z"
   },
   {
    "duration": 3,
    "start_time": "2022-09-24T23:10:39.159Z"
   },
   {
    "duration": 650,
    "start_time": "2022-09-24T23:10:39.163Z"
   },
   {
    "duration": 8,
    "start_time": "2022-09-24T23:10:39.815Z"
   },
   {
    "duration": 19597,
    "start_time": "2022-09-24T23:10:39.824Z"
   },
   {
    "duration": 9560,
    "start_time": "2022-09-24T23:10:59.425Z"
   },
   {
    "duration": 11569,
    "start_time": "2022-09-24T23:11:08.987Z"
   },
   {
    "duration": 4,
    "start_time": "2022-09-24T23:11:20.558Z"
   },
   {
    "duration": 1669,
    "start_time": "2022-09-24T23:11:20.563Z"
   },
   {
    "duration": 7,
    "start_time": "2022-09-24T23:11:22.233Z"
   },
   {
    "duration": 34,
    "start_time": "2022-09-24T23:11:22.241Z"
   },
   {
    "duration": 594,
    "start_time": "2022-09-24T23:11:22.277Z"
   },
   {
    "duration": 5,
    "start_time": "2022-09-24T23:11:22.872Z"
   },
   {
    "duration": 1016,
    "start_time": "2022-09-24T23:11:22.878Z"
   },
   {
    "duration": 616,
    "start_time": "2022-09-24T23:11:23.896Z"
   },
   {
    "duration": 749,
    "start_time": "2022-09-24T23:11:24.514Z"
   },
   {
    "duration": 1975,
    "start_time": "2022-09-24T23:11:25.265Z"
   },
   {
    "duration": 32,
    "start_time": "2022-09-24T23:11:27.241Z"
   },
   {
    "duration": 39,
    "start_time": "2022-09-24T23:11:27.274Z"
   },
   {
    "duration": 21,
    "start_time": "2022-09-24T23:11:27.314Z"
   },
   {
    "duration": 17,
    "start_time": "2022-09-24T23:11:27.336Z"
   },
   {
    "duration": 21,
    "start_time": "2022-09-24T23:11:27.355Z"
   },
   {
    "duration": 44,
    "start_time": "2022-09-24T23:11:27.377Z"
   },
   {
    "duration": 9,
    "start_time": "2022-09-24T23:11:27.422Z"
   },
   {
    "duration": 396,
    "start_time": "2022-09-24T23:11:27.433Z"
   },
   {
    "duration": 715,
    "start_time": "2022-09-24T23:11:27.831Z"
   },
   {
    "duration": 3,
    "start_time": "2022-09-24T23:11:28.548Z"
   },
   {
    "duration": 26,
    "start_time": "2022-09-24T23:11:28.552Z"
   },
   {
    "duration": 482,
    "start_time": "2022-09-24T23:11:28.580Z"
   },
   {
    "duration": 6,
    "start_time": "2022-09-24T23:11:29.063Z"
   },
   {
    "duration": 1407,
    "start_time": "2022-09-24T23:11:29.070Z"
   },
   {
    "duration": 818,
    "start_time": "2022-09-24T23:11:30.478Z"
   },
   {
    "duration": 16,
    "start_time": "2022-09-24T23:11:31.297Z"
   },
   {
    "duration": 10018,
    "start_time": "2022-09-24T23:11:31.315Z"
   },
   {
    "duration": 15,
    "start_time": "2022-09-24T23:11:41.334Z"
   },
   {
    "duration": 16,
    "start_time": "2022-09-24T23:11:41.351Z"
   },
   {
    "duration": 17,
    "start_time": "2022-09-24T23:11:41.368Z"
   },
   {
    "duration": 37,
    "start_time": "2022-09-24T23:11:41.386Z"
   },
   {
    "duration": 4,
    "start_time": "2022-09-24T23:11:41.424Z"
   },
   {
    "duration": 11,
    "start_time": "2022-09-24T23:11:41.429Z"
   },
   {
    "duration": 9,
    "start_time": "2022-09-24T23:11:41.442Z"
   },
   {
    "duration": 11,
    "start_time": "2022-09-24T23:11:41.452Z"
   },
   {
    "duration": 14,
    "start_time": "2022-09-24T23:11:41.464Z"
   },
   {
    "duration": 29,
    "start_time": "2022-09-24T23:11:41.480Z"
   },
   {
    "duration": 21,
    "start_time": "2022-09-24T23:11:41.510Z"
   },
   {
    "duration": 10,
    "start_time": "2022-09-24T23:11:41.532Z"
   },
   {
    "duration": 15,
    "start_time": "2022-09-24T23:11:41.543Z"
   },
   {
    "duration": 7,
    "start_time": "2022-09-24T23:11:41.560Z"
   },
   {
    "duration": 46,
    "start_time": "2022-09-24T23:11:41.569Z"
   },
   {
    "duration": 8,
    "start_time": "2022-09-24T23:11:41.616Z"
   },
   {
    "duration": 12,
    "start_time": "2022-09-24T23:11:41.626Z"
   },
   {
    "duration": 26,
    "start_time": "2022-09-24T23:14:32.600Z"
   },
   {
    "duration": 1292,
    "start_time": "2022-09-24T23:14:58.917Z"
   },
   {
    "duration": 4,
    "start_time": "2022-09-24T23:15:15.766Z"
   },
   {
    "duration": 1424,
    "start_time": "2022-09-24T23:15:16.244Z"
   },
   {
    "duration": 5,
    "start_time": "2022-09-24T23:15:28.433Z"
   },
   {
    "duration": 1292,
    "start_time": "2022-09-24T23:15:31.023Z"
   },
   {
    "duration": 385,
    "start_time": "2022-09-24T23:15:59.138Z"
   },
   {
    "duration": 266,
    "start_time": "2022-09-24T23:17:30.693Z"
   },
   {
    "duration": 198,
    "start_time": "2022-09-24T23:18:02.655Z"
   },
   {
    "duration": 226,
    "start_time": "2022-09-24T23:18:15.761Z"
   },
   {
    "duration": 265,
    "start_time": "2022-09-24T23:18:53.086Z"
   },
   {
    "duration": 201,
    "start_time": "2022-09-24T23:19:10.326Z"
   },
   {
    "duration": 369,
    "start_time": "2022-09-24T23:19:14.930Z"
   },
   {
    "duration": 2031,
    "start_time": "2022-09-25T11:16:28.922Z"
   },
   {
    "duration": 120,
    "start_time": "2022-09-25T11:16:30.955Z"
   },
   {
    "duration": 20,
    "start_time": "2022-09-25T11:16:31.076Z"
   },
   {
    "duration": 57,
    "start_time": "2022-09-25T11:16:31.098Z"
   },
   {
    "duration": 40,
    "start_time": "2022-09-25T11:16:31.156Z"
   },
   {
    "duration": 20,
    "start_time": "2022-09-25T11:16:31.198Z"
   },
   {
    "duration": 17,
    "start_time": "2022-09-25T11:16:31.220Z"
   },
   {
    "duration": 76,
    "start_time": "2022-09-25T11:16:31.238Z"
   },
   {
    "duration": 3,
    "start_time": "2022-09-25T11:16:31.316Z"
   },
   {
    "duration": 14,
    "start_time": "2022-09-25T11:16:31.322Z"
   },
   {
    "duration": 11,
    "start_time": "2022-09-25T11:16:31.337Z"
   },
   {
    "duration": 45,
    "start_time": "2022-09-25T11:16:31.350Z"
   },
   {
    "duration": 9,
    "start_time": "2022-09-25T11:16:31.397Z"
   },
   {
    "duration": 176,
    "start_time": "2022-09-25T11:16:31.408Z"
   },
   {
    "duration": 18,
    "start_time": "2022-09-25T11:16:31.586Z"
   },
   {
    "duration": 5,
    "start_time": "2022-09-25T11:16:31.605Z"
   },
   {
    "duration": 17,
    "start_time": "2022-09-25T11:16:31.612Z"
   },
   {
    "duration": 30,
    "start_time": "2022-09-25T11:16:31.631Z"
   },
   {
    "duration": 32,
    "start_time": "2022-09-25T11:16:31.663Z"
   },
   {
    "duration": 14,
    "start_time": "2022-09-25T11:16:31.698Z"
   },
   {
    "duration": 26,
    "start_time": "2022-09-25T11:16:31.714Z"
   },
   {
    "duration": 7,
    "start_time": "2022-09-25T11:16:31.743Z"
   },
   {
    "duration": 118,
    "start_time": "2022-09-25T11:16:31.752Z"
   },
   {
    "duration": 24,
    "start_time": "2022-09-25T11:16:31.872Z"
   },
   {
    "duration": 700,
    "start_time": "2022-09-25T11:16:31.898Z"
   },
   {
    "duration": 11,
    "start_time": "2022-09-25T11:16:32.601Z"
   },
   {
    "duration": 21652,
    "start_time": "2022-09-25T11:16:32.613Z"
   },
   {
    "duration": 10754,
    "start_time": "2022-09-25T11:16:54.269Z"
   },
   {
    "duration": 13130,
    "start_time": "2022-09-25T11:17:05.025Z"
   },
   {
    "duration": 5,
    "start_time": "2022-09-25T11:17:18.156Z"
   },
   {
    "duration": 2250,
    "start_time": "2022-09-25T11:17:18.163Z"
   },
   {
    "duration": 7,
    "start_time": "2022-09-25T11:17:20.415Z"
   },
   {
    "duration": 72,
    "start_time": "2022-09-25T11:17:20.424Z"
   },
   {
    "duration": 4106,
    "start_time": "2022-09-25T11:17:20.498Z"
   },
   {
    "duration": 5,
    "start_time": "2022-09-25T11:17:24.606Z"
   },
   {
    "duration": 4492,
    "start_time": "2022-09-25T11:17:24.612Z"
   },
   {
    "duration": 634,
    "start_time": "2022-09-25T11:17:29.106Z"
   },
   {
    "duration": 858,
    "start_time": "2022-09-25T11:17:29.742Z"
   },
   {
    "duration": 2461,
    "start_time": "2022-09-25T11:17:30.602Z"
   },
   {
    "duration": 44,
    "start_time": "2022-09-25T11:17:33.065Z"
   },
   {
    "duration": 7,
    "start_time": "2022-09-25T11:17:33.111Z"
   },
   {
    "duration": 24,
    "start_time": "2022-09-25T11:17:33.119Z"
   },
   {
    "duration": 67,
    "start_time": "2022-09-25T11:17:33.145Z"
   },
   {
    "duration": 25,
    "start_time": "2022-09-25T11:17:33.213Z"
   },
   {
    "duration": 21,
    "start_time": "2022-09-25T11:17:33.240Z"
   },
   {
    "duration": 33,
    "start_time": "2022-09-25T11:17:33.262Z"
   },
   {
    "duration": 491,
    "start_time": "2022-09-25T11:17:33.297Z"
   },
   {
    "duration": 891,
    "start_time": "2022-09-25T11:17:33.790Z"
   },
   {
    "duration": 2,
    "start_time": "2022-09-25T11:17:34.683Z"
   },
   {
    "duration": 28,
    "start_time": "2022-09-25T11:17:34.694Z"
   },
   {
    "duration": 408,
    "start_time": "2022-09-25T11:17:34.724Z"
   },
   {
    "duration": 5,
    "start_time": "2022-09-25T11:17:35.134Z"
   },
   {
    "duration": 1622,
    "start_time": "2022-09-25T11:17:35.140Z"
   },
   {
    "duration": 1078,
    "start_time": "2022-09-25T11:17:36.765Z"
   },
   {
    "duration": 16,
    "start_time": "2022-09-25T11:17:37.845Z"
   },
   {
    "duration": 12633,
    "start_time": "2022-09-25T11:17:37.862Z"
   },
   {
    "duration": 18,
    "start_time": "2022-09-25T11:17:50.497Z"
   },
   {
    "duration": 19,
    "start_time": "2022-09-25T11:17:50.517Z"
   },
   {
    "duration": 16,
    "start_time": "2022-09-25T11:17:50.537Z"
   },
   {
    "duration": 50,
    "start_time": "2022-09-25T11:17:50.554Z"
   },
   {
    "duration": 5,
    "start_time": "2022-09-25T11:17:50.607Z"
   },
   {
    "duration": 12,
    "start_time": "2022-09-25T11:17:50.614Z"
   },
   {
    "duration": 11,
    "start_time": "2022-09-25T11:17:50.627Z"
   },
   {
    "duration": 12,
    "start_time": "2022-09-25T11:17:50.640Z"
   },
   {
    "duration": 15,
    "start_time": "2022-09-25T11:17:50.653Z"
   },
   {
    "duration": 3,
    "start_time": "2022-09-25T11:17:50.696Z"
   },
   {
    "duration": 21,
    "start_time": "2022-09-25T11:17:50.700Z"
   },
   {
    "duration": 9,
    "start_time": "2022-09-25T11:17:50.723Z"
   },
   {
    "duration": 16,
    "start_time": "2022-09-25T11:17:50.734Z"
   },
   {
    "duration": 8,
    "start_time": "2022-09-25T11:17:50.751Z"
   },
   {
    "duration": 41,
    "start_time": "2022-09-25T11:17:50.760Z"
   },
   {
    "duration": 7,
    "start_time": "2022-09-25T11:17:50.803Z"
   },
   {
    "duration": 8,
    "start_time": "2022-09-25T11:17:50.813Z"
   },
   {
    "duration": 39,
    "start_time": "2022-09-25T11:32:44.401Z"
   },
   {
    "duration": 7,
    "start_time": "2022-09-25T11:32:51.888Z"
   },
   {
    "duration": 60,
    "start_time": "2022-09-25T11:32:51.896Z"
   },
   {
    "duration": 16,
    "start_time": "2022-09-25T11:32:51.958Z"
   },
   {
    "duration": 57,
    "start_time": "2022-09-25T11:32:51.976Z"
   },
   {
    "duration": 10,
    "start_time": "2022-09-25T11:32:52.035Z"
   },
   {
    "duration": 13,
    "start_time": "2022-09-25T11:32:52.047Z"
   },
   {
    "duration": 47,
    "start_time": "2022-09-25T11:32:52.062Z"
   },
   {
    "duration": 44,
    "start_time": "2022-09-25T11:32:57.363Z"
   },
   {
    "duration": 41,
    "start_time": "2022-09-25T11:33:03.977Z"
   },
   {
    "duration": 42,
    "start_time": "2022-09-25T11:33:13.867Z"
   },
   {
    "duration": 47,
    "start_time": "2022-09-25T11:33:17.541Z"
   },
   {
    "duration": 159,
    "start_time": "2022-09-25T11:34:32.707Z"
   },
   {
    "duration": 82,
    "start_time": "2022-09-25T11:34:38.632Z"
   },
   {
    "duration": 81,
    "start_time": "2022-09-25T11:34:56.766Z"
   },
   {
    "duration": 47,
    "start_time": "2022-09-25T11:35:02.918Z"
   },
   {
    "duration": 42,
    "start_time": "2022-09-25T11:36:00.585Z"
   },
   {
    "duration": 20,
    "start_time": "2022-09-25T11:37:39.360Z"
   },
   {
    "duration": 10,
    "start_time": "2022-09-25T11:37:43.585Z"
   },
   {
    "duration": 27,
    "start_time": "2022-09-25T11:39:02.016Z"
   },
   {
    "duration": 21,
    "start_time": "2022-09-25T11:39:07.854Z"
   },
   {
    "duration": 12,
    "start_time": "2022-09-25T11:39:30.019Z"
   },
   {
    "duration": 23,
    "start_time": "2022-09-25T11:40:05.333Z"
   },
   {
    "duration": 11,
    "start_time": "2022-09-25T11:40:05.789Z"
   },
   {
    "duration": 5,
    "start_time": "2022-09-25T11:40:29.307Z"
   },
   {
    "duration": 13,
    "start_time": "2022-09-25T11:40:34.974Z"
   },
   {
    "duration": 5,
    "start_time": "2022-09-25T11:41:18.662Z"
   },
   {
    "duration": 14,
    "start_time": "2022-09-25T11:41:23.309Z"
   },
   {
    "duration": 11,
    "start_time": "2022-09-25T11:41:44.162Z"
   },
   {
    "duration": 10,
    "start_time": "2022-09-25T11:42:01.996Z"
   },
   {
    "duration": 11,
    "start_time": "2022-09-25T11:42:29.370Z"
   },
   {
    "duration": 13,
    "start_time": "2022-09-25T11:42:58.353Z"
   },
   {
    "duration": 17,
    "start_time": "2022-09-25T12:07:51.522Z"
   },
   {
    "duration": 14,
    "start_time": "2022-09-25T12:08:25.525Z"
   },
   {
    "duration": 2293,
    "start_time": "2022-09-25T15:49:32.578Z"
   },
   {
    "duration": 184,
    "start_time": "2022-09-25T15:49:34.873Z"
   },
   {
    "duration": 18,
    "start_time": "2022-09-25T15:49:35.059Z"
   },
   {
    "duration": 76,
    "start_time": "2022-09-25T15:49:35.079Z"
   },
   {
    "duration": 10,
    "start_time": "2022-09-25T15:49:35.156Z"
   },
   {
    "duration": 49,
    "start_time": "2022-09-25T15:49:35.167Z"
   },
   {
    "duration": 25,
    "start_time": "2022-09-25T15:49:35.220Z"
   },
   {
    "duration": 63,
    "start_time": "2022-09-25T15:49:35.246Z"
   },
   {
    "duration": 4,
    "start_time": "2022-09-25T15:49:35.312Z"
   },
   {
    "duration": 12,
    "start_time": "2022-09-25T15:49:35.319Z"
   },
   {
    "duration": 30,
    "start_time": "2022-09-25T15:49:35.333Z"
   },
   {
    "duration": 11,
    "start_time": "2022-09-25T15:49:35.364Z"
   },
   {
    "duration": 27,
    "start_time": "2022-09-25T15:49:35.376Z"
   },
   {
    "duration": 160,
    "start_time": "2022-09-25T15:49:35.404Z"
   },
   {
    "duration": 9,
    "start_time": "2022-09-25T15:49:35.566Z"
   },
   {
    "duration": 3,
    "start_time": "2022-09-25T15:49:35.577Z"
   },
   {
    "duration": 10,
    "start_time": "2022-09-25T15:49:35.582Z"
   },
   {
    "duration": 26,
    "start_time": "2022-09-25T15:49:35.593Z"
   },
   {
    "duration": 29,
    "start_time": "2022-09-25T15:49:35.621Z"
   },
   {
    "duration": 13,
    "start_time": "2022-09-25T15:49:35.652Z"
   },
   {
    "duration": 38,
    "start_time": "2022-09-25T15:49:35.667Z"
   },
   {
    "duration": 9,
    "start_time": "2022-09-25T15:49:35.707Z"
   },
   {
    "duration": 290,
    "start_time": "2022-09-25T15:49:35.719Z"
   },
   {
    "duration": 4,
    "start_time": "2022-09-25T15:49:36.011Z"
   },
   {
    "duration": 671,
    "start_time": "2022-09-25T15:49:36.017Z"
   },
   {
    "duration": 7,
    "start_time": "2022-09-25T15:49:36.690Z"
   },
   {
    "duration": 20033,
    "start_time": "2022-09-25T15:49:36.698Z"
   },
   {
    "duration": 9903,
    "start_time": "2022-09-25T15:49:56.735Z"
   },
   {
    "duration": 12618,
    "start_time": "2022-09-25T15:50:06.639Z"
   },
   {
    "duration": 4,
    "start_time": "2022-09-25T15:50:19.259Z"
   },
   {
    "duration": 2009,
    "start_time": "2022-09-25T15:50:19.264Z"
   },
   {
    "duration": 7,
    "start_time": "2022-09-25T15:50:21.274Z"
   },
   {
    "duration": 62,
    "start_time": "2022-09-25T15:50:21.282Z"
   },
   {
    "duration": 3927,
    "start_time": "2022-09-25T15:50:21.346Z"
   },
   {
    "duration": 5,
    "start_time": "2022-09-25T15:50:25.274Z"
   },
   {
    "duration": 3834,
    "start_time": "2022-09-25T15:50:25.281Z"
   },
   {
    "duration": 550,
    "start_time": "2022-09-25T15:50:29.117Z"
   },
   {
    "duration": 768,
    "start_time": "2022-09-25T15:50:29.669Z"
   },
   {
    "duration": 2143,
    "start_time": "2022-09-25T15:50:30.439Z"
   },
   {
    "duration": 42,
    "start_time": "2022-09-25T15:50:32.584Z"
   },
   {
    "duration": 10,
    "start_time": "2022-09-25T15:50:32.628Z"
   },
   {
    "duration": 36,
    "start_time": "2022-09-25T15:50:32.640Z"
   },
   {
    "duration": 46,
    "start_time": "2022-09-25T15:50:32.678Z"
   },
   {
    "duration": 49,
    "start_time": "2022-09-25T15:50:32.726Z"
   },
   {
    "duration": 37,
    "start_time": "2022-09-25T15:50:32.777Z"
   },
   {
    "duration": 25,
    "start_time": "2022-09-25T15:50:32.816Z"
   },
   {
    "duration": 498,
    "start_time": "2022-09-25T15:50:32.843Z"
   },
   {
    "duration": 2,
    "start_time": "2022-09-25T15:50:33.343Z"
   },
   {
    "duration": 231,
    "start_time": "2022-09-25T15:50:33.347Z"
   },
   {
    "duration": 0,
    "start_time": "2022-09-25T15:50:33.579Z"
   },
   {
    "duration": 1,
    "start_time": "2022-09-25T15:50:33.580Z"
   },
   {
    "duration": 0,
    "start_time": "2022-09-25T15:50:33.581Z"
   },
   {
    "duration": 0,
    "start_time": "2022-09-25T15:50:33.582Z"
   },
   {
    "duration": 0,
    "start_time": "2022-09-25T15:50:33.583Z"
   },
   {
    "duration": 0,
    "start_time": "2022-09-25T15:50:33.584Z"
   },
   {
    "duration": 0,
    "start_time": "2022-09-25T15:50:33.585Z"
   },
   {
    "duration": 0,
    "start_time": "2022-09-25T15:50:33.586Z"
   },
   {
    "duration": 0,
    "start_time": "2022-09-25T15:50:33.587Z"
   },
   {
    "duration": 0,
    "start_time": "2022-09-25T15:50:33.588Z"
   },
   {
    "duration": 0,
    "start_time": "2022-09-25T15:50:33.588Z"
   },
   {
    "duration": 0,
    "start_time": "2022-09-25T15:50:33.608Z"
   },
   {
    "duration": 0,
    "start_time": "2022-09-25T15:50:33.610Z"
   },
   {
    "duration": 0,
    "start_time": "2022-09-25T15:50:33.611Z"
   },
   {
    "duration": 0,
    "start_time": "2022-09-25T15:50:33.613Z"
   },
   {
    "duration": 0,
    "start_time": "2022-09-25T15:50:33.614Z"
   },
   {
    "duration": 0,
    "start_time": "2022-09-25T15:50:33.615Z"
   },
   {
    "duration": 0,
    "start_time": "2022-09-25T15:50:33.617Z"
   },
   {
    "duration": 0,
    "start_time": "2022-09-25T15:50:33.618Z"
   },
   {
    "duration": 0,
    "start_time": "2022-09-25T15:50:33.619Z"
   },
   {
    "duration": 0,
    "start_time": "2022-09-25T15:50:33.621Z"
   },
   {
    "duration": 0,
    "start_time": "2022-09-25T15:50:33.622Z"
   },
   {
    "duration": 0,
    "start_time": "2022-09-25T15:50:33.623Z"
   },
   {
    "duration": 0,
    "start_time": "2022-09-25T15:50:33.624Z"
   },
   {
    "duration": 33,
    "start_time": "2022-09-25T15:59:19.870Z"
   },
   {
    "duration": 251,
    "start_time": "2022-09-25T15:59:42.349Z"
   },
   {
    "duration": 14,
    "start_time": "2022-09-25T15:59:42.603Z"
   },
   {
    "duration": 1427,
    "start_time": "2022-09-25T15:59:42.619Z"
   },
   {
    "duration": 903,
    "start_time": "2022-09-25T15:59:44.047Z"
   },
   {
    "duration": 12,
    "start_time": "2022-09-25T15:59:44.951Z"
   },
   {
    "duration": 10810,
    "start_time": "2022-09-25T15:59:44.965Z"
   },
   {
    "duration": 16,
    "start_time": "2022-09-25T15:59:55.777Z"
   },
   {
    "duration": 27,
    "start_time": "2022-09-25T15:59:55.794Z"
   },
   {
    "duration": 20,
    "start_time": "2022-09-25T15:59:55.823Z"
   },
   {
    "duration": 32,
    "start_time": "2022-09-25T15:59:55.845Z"
   },
   {
    "duration": 37,
    "start_time": "2022-09-25T15:59:55.879Z"
   },
   {
    "duration": 27,
    "start_time": "2022-09-25T15:59:55.917Z"
   },
   {
    "duration": 39,
    "start_time": "2022-09-25T15:59:55.945Z"
   },
   {
    "duration": 36,
    "start_time": "2022-09-25T15:59:55.985Z"
   },
   {
    "duration": 3,
    "start_time": "2022-09-25T15:59:56.022Z"
   },
   {
    "duration": 16,
    "start_time": "2022-09-25T15:59:56.026Z"
   },
   {
    "duration": 40,
    "start_time": "2022-09-25T15:59:56.043Z"
   },
   {
    "duration": 14,
    "start_time": "2022-09-25T15:59:56.085Z"
   },
   {
    "duration": 8,
    "start_time": "2022-09-25T15:59:56.101Z"
   },
   {
    "duration": 15,
    "start_time": "2022-09-25T15:59:56.110Z"
   },
   {
    "duration": 8,
    "start_time": "2022-09-25T15:59:56.126Z"
   },
   {
    "duration": 10,
    "start_time": "2022-09-25T15:59:56.136Z"
   },
   {
    "duration": 67,
    "start_time": "2022-09-25T15:59:56.147Z"
   },
   {
    "duration": 42,
    "start_time": "2022-09-25T15:59:56.216Z"
   },
   {
    "duration": 12,
    "start_time": "2022-09-25T16:05:43.829Z"
   },
   {
    "duration": 10,
    "start_time": "2022-09-25T16:05:49.772Z"
   },
   {
    "duration": 48,
    "start_time": "2022-09-25T16:05:58.287Z"
   },
   {
    "duration": 1788,
    "start_time": "2022-09-25T17:12:15.578Z"
   },
   {
    "duration": 81,
    "start_time": "2022-09-25T17:12:17.368Z"
   },
   {
    "duration": 19,
    "start_time": "2022-09-25T17:12:17.450Z"
   },
   {
    "duration": 86,
    "start_time": "2022-09-25T17:12:17.471Z"
   },
   {
    "duration": 10,
    "start_time": "2022-09-25T17:12:17.558Z"
   },
   {
    "duration": 44,
    "start_time": "2022-09-25T17:12:17.570Z"
   },
   {
    "duration": 15,
    "start_time": "2022-09-25T17:12:17.616Z"
   },
   {
    "duration": 45,
    "start_time": "2022-09-25T17:12:17.632Z"
   },
   {
    "duration": 32,
    "start_time": "2022-09-25T17:12:17.679Z"
   },
   {
    "duration": 10,
    "start_time": "2022-09-25T17:12:17.714Z"
   },
   {
    "duration": 10,
    "start_time": "2022-09-25T17:12:17.726Z"
   },
   {
    "duration": 4,
    "start_time": "2022-09-25T17:12:17.738Z"
   },
   {
    "duration": 10,
    "start_time": "2022-09-25T17:12:17.744Z"
   },
   {
    "duration": 185,
    "start_time": "2022-09-25T17:12:17.755Z"
   },
   {
    "duration": 12,
    "start_time": "2022-09-25T17:12:17.941Z"
   },
   {
    "duration": 5,
    "start_time": "2022-09-25T17:12:17.955Z"
   },
   {
    "duration": 10,
    "start_time": "2022-09-25T17:12:17.961Z"
   },
   {
    "duration": 21,
    "start_time": "2022-09-25T17:12:17.972Z"
   },
   {
    "duration": 34,
    "start_time": "2022-09-25T17:12:17.995Z"
   },
   {
    "duration": 13,
    "start_time": "2022-09-25T17:12:18.031Z"
   },
   {
    "duration": 24,
    "start_time": "2022-09-25T17:12:18.046Z"
   },
   {
    "duration": 6,
    "start_time": "2022-09-25T17:12:18.071Z"
   },
   {
    "duration": 134,
    "start_time": "2022-09-25T17:12:18.079Z"
   },
   {
    "duration": 3,
    "start_time": "2022-09-25T17:12:18.214Z"
   },
   {
    "duration": 702,
    "start_time": "2022-09-25T17:12:18.218Z"
   },
   {
    "duration": 8,
    "start_time": "2022-09-25T17:12:18.922Z"
   },
   {
    "duration": 21243,
    "start_time": "2022-09-25T17:12:18.931Z"
   },
   {
    "duration": 10263,
    "start_time": "2022-09-25T17:12:40.178Z"
   },
   {
    "duration": 13499,
    "start_time": "2022-09-25T17:12:50.443Z"
   },
   {
    "duration": 4,
    "start_time": "2022-09-25T17:13:03.944Z"
   },
   {
    "duration": 1862,
    "start_time": "2022-09-25T17:13:03.949Z"
   },
   {
    "duration": 7,
    "start_time": "2022-09-25T17:13:05.813Z"
   },
   {
    "duration": 42,
    "start_time": "2022-09-25T17:13:05.821Z"
   },
   {
    "duration": 4120,
    "start_time": "2022-09-25T17:13:05.865Z"
   },
   {
    "duration": 5,
    "start_time": "2022-09-25T17:13:09.986Z"
   },
   {
    "duration": 4052,
    "start_time": "2022-09-25T17:13:09.993Z"
   },
   {
    "duration": 875,
    "start_time": "2022-09-25T17:13:14.047Z"
   },
   {
    "duration": 993,
    "start_time": "2022-09-25T17:13:14.924Z"
   },
   {
    "duration": 2635,
    "start_time": "2022-09-25T17:13:15.918Z"
   },
   {
    "duration": 28,
    "start_time": "2022-09-25T17:13:18.555Z"
   },
   {
    "duration": 7,
    "start_time": "2022-09-25T17:13:18.610Z"
   },
   {
    "duration": 22,
    "start_time": "2022-09-25T17:13:18.618Z"
   },
   {
    "duration": 17,
    "start_time": "2022-09-25T17:13:18.642Z"
   },
   {
    "duration": 52,
    "start_time": "2022-09-25T17:13:18.661Z"
   },
   {
    "duration": 21,
    "start_time": "2022-09-25T17:13:18.715Z"
   },
   {
    "duration": 12,
    "start_time": "2022-09-25T17:13:18.737Z"
   },
   {
    "duration": 462,
    "start_time": "2022-09-25T17:13:18.751Z"
   },
   {
    "duration": 3,
    "start_time": "2022-09-25T17:13:19.215Z"
   },
   {
    "duration": 38,
    "start_time": "2022-09-25T17:13:19.219Z"
   },
   {
    "duration": 282,
    "start_time": "2022-09-25T17:13:19.259Z"
   },
   {
    "duration": 5,
    "start_time": "2022-09-25T17:13:19.542Z"
   },
   {
    "duration": 1485,
    "start_time": "2022-09-25T17:13:19.548Z"
   },
   {
    "duration": 884,
    "start_time": "2022-09-25T17:13:21.035Z"
   },
   {
    "duration": 11,
    "start_time": "2022-09-25T17:13:21.921Z"
   },
   {
    "duration": 11055,
    "start_time": "2022-09-25T17:13:21.934Z"
   },
   {
    "duration": 24,
    "start_time": "2022-09-25T17:13:32.990Z"
   },
   {
    "duration": 25,
    "start_time": "2022-09-25T17:13:33.015Z"
   },
   {
    "duration": 15,
    "start_time": "2022-09-25T17:13:33.042Z"
   },
   {
    "duration": 16,
    "start_time": "2022-09-25T17:13:33.059Z"
   },
   {
    "duration": 4,
    "start_time": "2022-09-25T17:13:33.077Z"
   },
   {
    "duration": 35,
    "start_time": "2022-09-25T17:13:33.082Z"
   },
   {
    "duration": 9,
    "start_time": "2022-09-25T17:13:33.118Z"
   },
   {
    "duration": 16,
    "start_time": "2022-09-25T17:13:33.129Z"
   },
   {
    "duration": 3,
    "start_time": "2022-09-25T17:13:33.147Z"
   },
   {
    "duration": 4,
    "start_time": "2022-09-25T17:13:33.152Z"
   },
   {
    "duration": 21,
    "start_time": "2022-09-25T17:13:33.157Z"
   },
   {
    "duration": 34,
    "start_time": "2022-09-25T17:13:33.179Z"
   },
   {
    "duration": 8,
    "start_time": "2022-09-25T17:13:33.214Z"
   },
   {
    "duration": 15,
    "start_time": "2022-09-25T17:13:33.223Z"
   },
   {
    "duration": 11,
    "start_time": "2022-09-25T17:13:33.240Z"
   },
   {
    "duration": 15,
    "start_time": "2022-09-25T17:13:33.253Z"
   },
   {
    "duration": 9,
    "start_time": "2022-09-25T17:13:33.269Z"
   },
   {
    "duration": 207,
    "start_time": "2022-09-25T17:13:33.279Z"
   },
   {
    "duration": 1726,
    "start_time": "2022-09-25T18:26:52.972Z"
   },
   {
    "duration": 66,
    "start_time": "2022-09-25T18:26:54.700Z"
   },
   {
    "duration": 16,
    "start_time": "2022-09-25T18:26:54.768Z"
   },
   {
    "duration": 58,
    "start_time": "2022-09-25T18:26:54.786Z"
   },
   {
    "duration": 10,
    "start_time": "2022-09-25T18:26:54.845Z"
   },
   {
    "duration": 18,
    "start_time": "2022-09-25T18:26:54.856Z"
   },
   {
    "duration": 45,
    "start_time": "2022-09-25T18:26:54.876Z"
   },
   {
    "duration": 86,
    "start_time": "2022-09-25T18:26:54.923Z"
   },
   {
    "duration": 5,
    "start_time": "2022-09-25T18:26:55.011Z"
   },
   {
    "duration": 8,
    "start_time": "2022-09-25T18:26:55.019Z"
   },
   {
    "duration": 10,
    "start_time": "2022-09-25T18:26:55.029Z"
   },
   {
    "duration": 8,
    "start_time": "2022-09-25T18:26:55.041Z"
   },
   {
    "duration": 12,
    "start_time": "2022-09-25T18:26:55.050Z"
   },
   {
    "duration": 186,
    "start_time": "2022-09-25T18:26:55.064Z"
   },
   {
    "duration": 9,
    "start_time": "2022-09-25T18:26:55.252Z"
   },
   {
    "duration": 5,
    "start_time": "2022-09-25T18:26:55.262Z"
   },
   {
    "duration": 5,
    "start_time": "2022-09-25T18:26:55.269Z"
   },
   {
    "duration": 34,
    "start_time": "2022-09-25T18:26:55.275Z"
   },
   {
    "duration": 25,
    "start_time": "2022-09-25T18:26:55.310Z"
   },
   {
    "duration": 11,
    "start_time": "2022-09-25T18:26:55.337Z"
   },
   {
    "duration": 22,
    "start_time": "2022-09-25T18:26:55.350Z"
   },
   {
    "duration": 6,
    "start_time": "2022-09-25T18:26:55.373Z"
   },
   {
    "duration": 129,
    "start_time": "2022-09-25T18:26:55.381Z"
   },
   {
    "duration": 3,
    "start_time": "2022-09-25T18:26:55.512Z"
   },
   {
    "duration": 672,
    "start_time": "2022-09-25T18:26:55.517Z"
   },
   {
    "duration": 7,
    "start_time": "2022-09-25T18:26:56.191Z"
   },
   {
    "duration": 20885,
    "start_time": "2022-09-25T18:26:56.200Z"
   },
   {
    "duration": 10521,
    "start_time": "2022-09-25T18:27:17.089Z"
   },
   {
    "duration": 12562,
    "start_time": "2022-09-25T18:27:27.611Z"
   },
   {
    "duration": 5,
    "start_time": "2022-09-25T18:27:40.174Z"
   },
   {
    "duration": 1884,
    "start_time": "2022-09-25T18:27:40.181Z"
   },
   {
    "duration": 8,
    "start_time": "2022-09-25T18:27:42.067Z"
   },
   {
    "duration": 49,
    "start_time": "2022-09-25T18:27:42.076Z"
   },
   {
    "duration": 3632,
    "start_time": "2022-09-25T18:27:42.126Z"
   },
   {
    "duration": 4,
    "start_time": "2022-09-25T18:27:45.760Z"
   },
   {
    "duration": 3843,
    "start_time": "2022-09-25T18:27:45.765Z"
   },
   {
    "duration": 553,
    "start_time": "2022-09-25T18:27:49.609Z"
   },
   {
    "duration": 780,
    "start_time": "2022-09-25T18:27:50.163Z"
   },
   {
    "duration": 2124,
    "start_time": "2022-09-25T18:27:50.945Z"
   },
   {
    "duration": 45,
    "start_time": "2022-09-25T18:27:53.071Z"
   },
   {
    "duration": 7,
    "start_time": "2022-09-25T18:27:53.117Z"
   },
   {
    "duration": 44,
    "start_time": "2022-09-25T18:27:53.125Z"
   },
   {
    "duration": 44,
    "start_time": "2022-09-25T18:27:53.171Z"
   },
   {
    "duration": 42,
    "start_time": "2022-09-25T18:27:53.217Z"
   },
   {
    "duration": 19,
    "start_time": "2022-09-25T18:27:53.261Z"
   },
   {
    "duration": 21,
    "start_time": "2022-09-25T18:27:53.282Z"
   },
   {
    "duration": 442,
    "start_time": "2022-09-25T18:27:53.304Z"
   },
   {
    "duration": 2,
    "start_time": "2022-09-25T18:27:53.749Z"
   },
   {
    "duration": 76,
    "start_time": "2022-09-25T18:27:53.753Z"
   },
   {
    "duration": 261,
    "start_time": "2022-09-25T18:27:53.831Z"
   },
   {
    "duration": 7,
    "start_time": "2022-09-25T18:27:54.094Z"
   },
   {
    "duration": 1437,
    "start_time": "2022-09-25T18:27:54.108Z"
   },
   {
    "duration": 884,
    "start_time": "2022-09-25T18:27:55.546Z"
   },
   {
    "duration": 11,
    "start_time": "2022-09-25T18:27:56.431Z"
   },
   {
    "duration": 10994,
    "start_time": "2022-09-25T18:27:56.443Z"
   },
   {
    "duration": 16,
    "start_time": "2022-09-25T18:28:07.439Z"
   },
   {
    "duration": 20,
    "start_time": "2022-09-25T18:28:07.456Z"
   },
   {
    "duration": 33,
    "start_time": "2022-09-25T18:28:07.477Z"
   },
   {
    "duration": 16,
    "start_time": "2022-09-25T18:28:07.511Z"
   },
   {
    "duration": 7,
    "start_time": "2022-09-25T18:28:07.528Z"
   },
   {
    "duration": 11,
    "start_time": "2022-09-25T18:28:07.536Z"
   },
   {
    "duration": 10,
    "start_time": "2022-09-25T18:28:07.548Z"
   },
   {
    "duration": 15,
    "start_time": "2022-09-25T18:28:07.559Z"
   },
   {
    "duration": 3,
    "start_time": "2022-09-25T18:28:07.575Z"
   },
   {
    "duration": 29,
    "start_time": "2022-09-25T18:28:07.579Z"
   },
   {
    "duration": 19,
    "start_time": "2022-09-25T18:28:07.610Z"
   },
   {
    "duration": 8,
    "start_time": "2022-09-25T18:28:07.631Z"
   },
   {
    "duration": 6,
    "start_time": "2022-09-25T18:28:07.641Z"
   },
   {
    "duration": 17,
    "start_time": "2022-09-25T18:28:07.648Z"
   },
   {
    "duration": 8,
    "start_time": "2022-09-25T18:28:07.666Z"
   },
   {
    "duration": 39,
    "start_time": "2022-09-25T18:28:07.676Z"
   },
   {
    "duration": 8,
    "start_time": "2022-09-25T18:28:07.716Z"
   },
   {
    "duration": 194,
    "start_time": "2022-09-25T18:28:07.725Z"
   },
   {
    "duration": 752,
    "start_time": "2022-09-25T18:37:21.488Z"
   },
   {
    "duration": 12,
    "start_time": "2022-09-25T19:44:37.988Z"
   },
   {
    "duration": 14,
    "start_time": "2022-09-25T19:45:55.019Z"
   },
   {
    "duration": 25,
    "start_time": "2022-09-25T19:46:06.041Z"
   },
   {
    "duration": 8,
    "start_time": "2022-09-25T19:52:58.691Z"
   },
   {
    "duration": 8,
    "start_time": "2022-09-25T19:57:45.135Z"
   },
   {
    "duration": 67,
    "start_time": "2022-09-25T20:20:52.612Z"
   },
   {
    "duration": 9,
    "start_time": "2022-09-25T20:20:59.130Z"
   },
   {
    "duration": 9,
    "start_time": "2022-09-25T20:21:12.664Z"
   },
   {
    "duration": 10,
    "start_time": "2022-09-25T20:21:41.604Z"
   },
   {
    "duration": 9,
    "start_time": "2022-09-25T20:21:42.524Z"
   },
   {
    "duration": 141,
    "start_time": "2022-09-25T20:46:37.082Z"
   },
   {
    "duration": 144,
    "start_time": "2022-09-25T20:46:49.803Z"
   },
   {
    "duration": 132,
    "start_time": "2022-09-25T20:46:54.705Z"
   },
   {
    "duration": 15,
    "start_time": "2022-09-25T20:47:09.535Z"
   },
   {
    "duration": 896,
    "start_time": "2022-09-25T20:47:22.559Z"
   },
   {
    "duration": 153,
    "start_time": "2022-09-25T20:47:47.746Z"
   },
   {
    "duration": 159,
    "start_time": "2022-09-25T20:48:12.581Z"
   },
   {
    "duration": 118,
    "start_time": "2022-09-25T20:48:19.228Z"
   },
   {
    "duration": 5,
    "start_time": "2022-09-25T20:49:49.615Z"
   },
   {
    "duration": 5,
    "start_time": "2022-09-25T20:49:55.901Z"
   },
   {
    "duration": 5,
    "start_time": "2022-09-25T20:50:04.627Z"
   },
   {
    "duration": 193,
    "start_time": "2022-09-25T20:50:32.701Z"
   },
   {
    "duration": 371,
    "start_time": "2022-09-25T20:50:42.172Z"
   },
   {
    "duration": 8,
    "start_time": "2022-09-25T20:51:53.967Z"
   },
   {
    "duration": 7,
    "start_time": "2022-09-25T20:51:54.323Z"
   },
   {
    "duration": 20,
    "start_time": "2022-09-25T20:52:14.839Z"
   },
   {
    "duration": 9,
    "start_time": "2022-09-25T20:52:27.968Z"
   },
   {
    "duration": 8,
    "start_time": "2022-09-25T20:52:30.165Z"
   },
   {
    "duration": 470,
    "start_time": "2022-09-25T20:52:58.659Z"
   },
   {
    "duration": 33,
    "start_time": "2022-09-25T21:38:54.771Z"
   },
   {
    "duration": 237,
    "start_time": "2022-09-25T21:39:00.477Z"
   },
   {
    "duration": 248,
    "start_time": "2022-09-25T21:41:07.938Z"
   },
   {
    "duration": 1717,
    "start_time": "2022-09-25T21:41:40.506Z"
   },
   {
    "duration": 68,
    "start_time": "2022-09-25T21:41:42.225Z"
   },
   {
    "duration": 17,
    "start_time": "2022-09-25T21:41:42.294Z"
   },
   {
    "duration": 65,
    "start_time": "2022-09-25T21:41:42.313Z"
   },
   {
    "duration": 11,
    "start_time": "2022-09-25T21:41:42.409Z"
   },
   {
    "duration": 14,
    "start_time": "2022-09-25T21:41:42.422Z"
   },
   {
    "duration": 15,
    "start_time": "2022-09-25T21:41:42.438Z"
   },
   {
    "duration": 77,
    "start_time": "2022-09-25T21:41:42.454Z"
   },
   {
    "duration": 4,
    "start_time": "2022-09-25T21:41:42.532Z"
   },
   {
    "duration": 10,
    "start_time": "2022-09-25T21:41:42.539Z"
   },
   {
    "duration": 15,
    "start_time": "2022-09-25T21:41:42.552Z"
   },
   {
    "duration": 40,
    "start_time": "2022-09-25T21:41:42.569Z"
   },
   {
    "duration": 13,
    "start_time": "2022-09-25T21:41:42.612Z"
   },
   {
    "duration": 174,
    "start_time": "2022-09-25T21:41:42.627Z"
   },
   {
    "duration": 14,
    "start_time": "2022-09-25T21:41:42.802Z"
   },
   {
    "duration": 4,
    "start_time": "2022-09-25T21:41:42.818Z"
   },
   {
    "duration": 7,
    "start_time": "2022-09-25T21:41:42.824Z"
   },
   {
    "duration": 17,
    "start_time": "2022-09-25T21:41:42.833Z"
   },
   {
    "duration": 24,
    "start_time": "2022-09-25T21:41:42.852Z"
   },
   {
    "duration": 32,
    "start_time": "2022-09-25T21:41:42.877Z"
   },
   {
    "duration": 23,
    "start_time": "2022-09-25T21:41:42.911Z"
   },
   {
    "duration": 6,
    "start_time": "2022-09-25T21:41:42.936Z"
   },
   {
    "duration": 112,
    "start_time": "2022-09-25T21:41:42.943Z"
   },
   {
    "duration": 3,
    "start_time": "2022-09-25T21:41:43.056Z"
   },
   {
    "duration": 957,
    "start_time": "2022-09-25T21:41:43.060Z"
   },
   {
    "duration": 7,
    "start_time": "2022-09-25T21:41:44.019Z"
   },
   {
    "duration": 19827,
    "start_time": "2022-09-25T21:41:44.028Z"
   },
   {
    "duration": 9839,
    "start_time": "2022-09-25T21:42:03.859Z"
   },
   {
    "duration": 11791,
    "start_time": "2022-09-25T21:42:13.700Z"
   },
   {
    "duration": 4,
    "start_time": "2022-09-25T21:42:25.493Z"
   },
   {
    "duration": 1764,
    "start_time": "2022-09-25T21:42:25.498Z"
   },
   {
    "duration": 7,
    "start_time": "2022-09-25T21:42:27.264Z"
   },
   {
    "duration": 51,
    "start_time": "2022-09-25T21:42:27.272Z"
   },
   {
    "duration": 3922,
    "start_time": "2022-09-25T21:42:27.324Z"
   },
   {
    "duration": 4,
    "start_time": "2022-09-25T21:42:31.248Z"
   },
   {
    "duration": 4323,
    "start_time": "2022-09-25T21:42:31.253Z"
   },
   {
    "duration": 627,
    "start_time": "2022-09-25T21:42:35.577Z"
   },
   {
    "duration": 759,
    "start_time": "2022-09-25T21:42:36.205Z"
   },
   {
    "duration": 1926,
    "start_time": "2022-09-25T21:42:36.965Z"
   },
   {
    "duration": 29,
    "start_time": "2022-09-25T21:42:38.908Z"
   },
   {
    "duration": 6,
    "start_time": "2022-09-25T21:42:38.938Z"
   },
   {
    "duration": 21,
    "start_time": "2022-09-25T21:42:38.945Z"
   },
   {
    "duration": 51,
    "start_time": "2022-09-25T21:42:38.967Z"
   },
   {
    "duration": 23,
    "start_time": "2022-09-25T21:42:39.019Z"
   },
   {
    "duration": 19,
    "start_time": "2022-09-25T21:42:39.044Z"
   },
   {
    "duration": 10,
    "start_time": "2022-09-25T21:42:39.064Z"
   },
   {
    "duration": 459,
    "start_time": "2022-09-25T21:42:39.076Z"
   },
   {
    "duration": 874,
    "start_time": "2022-09-25T21:42:39.537Z"
   },
   {
    "duration": 33,
    "start_time": "2022-09-25T21:42:40.412Z"
   },
   {
    "duration": 264,
    "start_time": "2022-09-25T21:42:40.447Z"
   },
   {
    "duration": 5,
    "start_time": "2022-09-25T21:42:40.712Z"
   },
   {
    "duration": 1422,
    "start_time": "2022-09-25T21:42:40.718Z"
   },
   {
    "duration": 909,
    "start_time": "2022-09-25T21:42:42.142Z"
   },
   {
    "duration": 11,
    "start_time": "2022-09-25T21:42:43.053Z"
   },
   {
    "duration": 10682,
    "start_time": "2022-09-25T21:42:43.065Z"
   },
   {
    "duration": 16,
    "start_time": "2022-09-25T21:42:53.748Z"
   },
   {
    "duration": 30,
    "start_time": "2022-09-25T21:42:53.765Z"
   },
   {
    "duration": 21,
    "start_time": "2022-09-25T21:42:53.797Z"
   },
   {
    "duration": 27,
    "start_time": "2022-09-25T21:42:53.820Z"
   },
   {
    "duration": 11,
    "start_time": "2022-09-25T21:42:53.849Z"
   },
   {
    "duration": 23,
    "start_time": "2022-09-25T21:42:53.861Z"
   },
   {
    "duration": 13,
    "start_time": "2022-09-25T21:42:53.885Z"
   },
   {
    "duration": 17,
    "start_time": "2022-09-25T21:42:53.900Z"
   },
   {
    "duration": 3,
    "start_time": "2022-09-25T21:42:53.918Z"
   },
   {
    "duration": 31,
    "start_time": "2022-09-25T21:42:53.922Z"
   },
   {
    "duration": 23,
    "start_time": "2022-09-25T21:42:53.955Z"
   },
   {
    "duration": 26,
    "start_time": "2022-09-25T21:42:53.979Z"
   },
   {
    "duration": 26,
    "start_time": "2022-09-25T21:42:54.007Z"
   },
   {
    "duration": 26,
    "start_time": "2022-09-25T21:42:54.035Z"
   },
   {
    "duration": 31,
    "start_time": "2022-09-25T21:42:54.063Z"
   },
   {
    "duration": 25,
    "start_time": "2022-09-25T21:42:54.096Z"
   },
   {
    "duration": 26,
    "start_time": "2022-09-25T21:42:54.123Z"
   },
   {
    "duration": 200,
    "start_time": "2022-09-25T21:42:54.151Z"
   },
   {
    "duration": 0,
    "start_time": "2022-09-25T21:42:54.353Z"
   },
   {
    "duration": 0,
    "start_time": "2022-09-25T21:42:54.354Z"
   },
   {
    "duration": 28,
    "start_time": "2022-09-25T21:45:22.834Z"
   },
   {
    "duration": 8,
    "start_time": "2022-09-25T21:45:36.172Z"
   },
   {
    "duration": 65,
    "start_time": "2022-09-25T21:45:36.181Z"
   },
   {
    "duration": 16,
    "start_time": "2022-09-25T21:45:36.247Z"
   },
   {
    "duration": 76,
    "start_time": "2022-09-25T21:45:36.264Z"
   },
   {
    "duration": 9,
    "start_time": "2022-09-25T21:45:36.342Z"
   },
   {
    "duration": 28,
    "start_time": "2022-09-25T21:45:36.352Z"
   },
   {
    "duration": 29,
    "start_time": "2022-09-25T21:45:36.382Z"
   },
   {
    "duration": 47,
    "start_time": "2022-09-25T21:45:36.412Z"
   },
   {
    "duration": 4,
    "start_time": "2022-09-25T21:45:36.460Z"
   },
   {
    "duration": 19,
    "start_time": "2022-09-25T21:45:36.465Z"
   },
   {
    "duration": 30,
    "start_time": "2022-09-25T21:45:36.486Z"
   },
   {
    "duration": 10,
    "start_time": "2022-09-25T21:45:36.518Z"
   },
   {
    "duration": 34,
    "start_time": "2022-09-25T21:45:36.530Z"
   },
   {
    "duration": 149,
    "start_time": "2022-09-25T21:45:36.566Z"
   },
   {
    "duration": 11,
    "start_time": "2022-09-25T21:45:36.717Z"
   },
   {
    "duration": 9,
    "start_time": "2022-09-25T21:45:36.730Z"
   },
   {
    "duration": 23,
    "start_time": "2022-09-25T21:45:36.741Z"
   },
   {
    "duration": 20,
    "start_time": "2022-09-25T21:45:36.766Z"
   },
   {
    "duration": 31,
    "start_time": "2022-09-25T21:45:36.788Z"
   },
   {
    "duration": 16,
    "start_time": "2022-09-25T21:45:36.821Z"
   },
   {
    "duration": 26,
    "start_time": "2022-09-25T21:45:36.839Z"
   },
   {
    "duration": 14,
    "start_time": "2022-09-25T21:45:36.866Z"
   },
   {
    "duration": 57,
    "start_time": "2022-09-25T21:45:36.882Z"
   },
   {
    "duration": 2,
    "start_time": "2022-09-25T21:45:36.941Z"
   },
   {
    "duration": 683,
    "start_time": "2022-09-25T21:45:36.945Z"
   },
   {
    "duration": 7,
    "start_time": "2022-09-25T21:45:37.630Z"
   },
   {
    "duration": 19979,
    "start_time": "2022-09-25T21:45:37.639Z"
   },
   {
    "duration": 10008,
    "start_time": "2022-09-25T21:45:57.620Z"
   },
   {
    "duration": 11822,
    "start_time": "2022-09-25T21:46:07.631Z"
   },
   {
    "duration": 4,
    "start_time": "2022-09-25T21:46:19.455Z"
   },
   {
    "duration": 1772,
    "start_time": "2022-09-25T21:46:19.460Z"
   },
   {
    "duration": 7,
    "start_time": "2022-09-25T21:46:21.234Z"
   },
   {
    "duration": 68,
    "start_time": "2022-09-25T21:46:21.242Z"
   },
   {
    "duration": 464,
    "start_time": "2022-09-25T21:46:21.311Z"
   },
   {
    "duration": 5,
    "start_time": "2022-09-25T21:46:21.776Z"
   },
   {
    "duration": 1004,
    "start_time": "2022-09-25T21:46:21.782Z"
   },
   {
    "duration": 793,
    "start_time": "2022-09-25T21:46:22.788Z"
   },
   {
    "duration": 832,
    "start_time": "2022-09-25T21:46:23.582Z"
   },
   {
    "duration": 1855,
    "start_time": "2022-09-25T21:46:26.294Z"
   },
   {
    "duration": 28,
    "start_time": "2022-09-25T21:46:28.151Z"
   },
   {
    "duration": 40,
    "start_time": "2022-09-25T21:47:16.295Z"
   },
   {
    "duration": 1683,
    "start_time": "2022-09-25T21:47:46.098Z"
   },
   {
    "duration": 67,
    "start_time": "2022-09-25T21:47:47.783Z"
   },
   {
    "duration": 16,
    "start_time": "2022-09-25T21:47:47.852Z"
   },
   {
    "duration": 73,
    "start_time": "2022-09-25T21:47:47.870Z"
   },
   {
    "duration": 13,
    "start_time": "2022-09-25T21:47:47.945Z"
   },
   {
    "duration": 14,
    "start_time": "2022-09-25T21:47:47.959Z"
   },
   {
    "duration": 47,
    "start_time": "2022-09-25T21:47:47.975Z"
   },
   {
    "duration": 86,
    "start_time": "2022-09-25T21:47:48.024Z"
   },
   {
    "duration": 4,
    "start_time": "2022-09-25T21:47:48.112Z"
   },
   {
    "duration": 8,
    "start_time": "2022-09-25T21:47:48.119Z"
   },
   {
    "duration": 11,
    "start_time": "2022-09-25T21:47:48.128Z"
   },
   {
    "duration": 4,
    "start_time": "2022-09-25T21:47:48.141Z"
   },
   {
    "duration": 21,
    "start_time": "2022-09-25T21:47:48.146Z"
   },
   {
    "duration": 159,
    "start_time": "2022-09-25T21:47:48.168Z"
   },
   {
    "duration": 10,
    "start_time": "2022-09-25T21:47:48.329Z"
   },
   {
    "duration": 3,
    "start_time": "2022-09-25T21:47:48.340Z"
   },
   {
    "duration": 7,
    "start_time": "2022-09-25T21:47:48.345Z"
   },
   {
    "duration": 22,
    "start_time": "2022-09-25T21:47:48.353Z"
   },
   {
    "duration": 39,
    "start_time": "2022-09-25T21:47:48.376Z"
   },
   {
    "duration": 11,
    "start_time": "2022-09-25T21:47:48.416Z"
   },
   {
    "duration": 22,
    "start_time": "2022-09-25T21:47:48.429Z"
   },
   {
    "duration": 6,
    "start_time": "2022-09-25T21:47:48.452Z"
   },
   {
    "duration": 114,
    "start_time": "2022-09-25T21:47:48.459Z"
   },
   {
    "duration": 2,
    "start_time": "2022-09-25T21:47:48.574Z"
   },
   {
    "duration": 701,
    "start_time": "2022-09-25T21:47:48.577Z"
   },
   {
    "duration": 8,
    "start_time": "2022-09-25T21:47:49.280Z"
   },
   {
    "duration": 19444,
    "start_time": "2022-09-25T21:47:49.289Z"
   },
   {
    "duration": 9737,
    "start_time": "2022-09-25T21:48:08.736Z"
   },
   {
    "duration": 11691,
    "start_time": "2022-09-25T21:48:18.474Z"
   },
   {
    "duration": 5,
    "start_time": "2022-09-25T21:48:30.166Z"
   },
   {
    "duration": 1716,
    "start_time": "2022-09-25T21:48:30.172Z"
   },
   {
    "duration": 21,
    "start_time": "2022-09-25T21:48:31.889Z"
   },
   {
    "duration": 63,
    "start_time": "2022-09-25T21:48:31.911Z"
   },
   {
    "duration": 665,
    "start_time": "2022-09-25T21:48:31.976Z"
   },
   {
    "duration": 6,
    "start_time": "2022-09-25T21:48:32.642Z"
   },
   {
    "duration": 1273,
    "start_time": "2022-09-25T21:48:32.650Z"
   },
   {
    "duration": 692,
    "start_time": "2022-09-25T21:48:33.925Z"
   },
   {
    "duration": 828,
    "start_time": "2022-09-25T21:48:34.619Z"
   },
   {
    "duration": 1974,
    "start_time": "2022-09-25T21:48:35.448Z"
   },
   {
    "duration": 27,
    "start_time": "2022-09-25T21:48:37.423Z"
   },
   {
    "duration": 6,
    "start_time": "2022-09-25T21:48:37.451Z"
   },
   {
    "duration": 53,
    "start_time": "2022-09-25T21:48:37.458Z"
   },
   {
    "duration": 37,
    "start_time": "2022-09-25T21:48:37.512Z"
   },
   {
    "duration": 9,
    "start_time": "2022-09-25T21:48:37.551Z"
   },
   {
    "duration": 522,
    "start_time": "2022-09-25T21:48:37.562Z"
   },
   {
    "duration": 767,
    "start_time": "2022-09-25T21:48:38.086Z"
   },
   {
    "duration": 33,
    "start_time": "2022-09-25T21:48:38.855Z"
   },
   {
    "duration": 270,
    "start_time": "2022-09-25T21:48:38.890Z"
   },
   {
    "duration": 5,
    "start_time": "2022-09-25T21:48:39.162Z"
   },
   {
    "duration": 1403,
    "start_time": "2022-09-25T21:48:39.169Z"
   },
   {
    "duration": 903,
    "start_time": "2022-09-25T21:48:40.574Z"
   },
   {
    "duration": 17,
    "start_time": "2022-09-25T21:48:41.479Z"
   },
   {
    "duration": 11286,
    "start_time": "2022-09-25T21:48:41.508Z"
   },
   {
    "duration": 20,
    "start_time": "2022-09-25T21:48:52.796Z"
   },
   {
    "duration": 19,
    "start_time": "2022-09-25T21:48:52.817Z"
   },
   {
    "duration": 17,
    "start_time": "2022-09-25T21:48:52.837Z"
   },
   {
    "duration": 16,
    "start_time": "2022-09-25T21:48:52.856Z"
   },
   {
    "duration": 4,
    "start_time": "2022-09-25T21:48:52.873Z"
   },
   {
    "duration": 11,
    "start_time": "2022-09-25T21:48:52.908Z"
   },
   {
    "duration": 8,
    "start_time": "2022-09-25T21:48:52.921Z"
   },
   {
    "duration": 16,
    "start_time": "2022-09-25T21:48:52.931Z"
   },
   {
    "duration": 3,
    "start_time": "2022-09-25T21:48:52.949Z"
   },
   {
    "duration": 3,
    "start_time": "2022-09-25T21:48:52.954Z"
   },
   {
    "duration": 50,
    "start_time": "2022-09-25T21:48:52.959Z"
   },
   {
    "duration": 10,
    "start_time": "2022-09-25T21:48:53.011Z"
   },
   {
    "duration": 18,
    "start_time": "2022-09-25T21:48:53.022Z"
   },
   {
    "duration": 22,
    "start_time": "2022-09-25T21:48:53.041Z"
   },
   {
    "duration": 23,
    "start_time": "2022-09-25T21:48:53.065Z"
   },
   {
    "duration": 34,
    "start_time": "2022-09-25T21:48:53.089Z"
   },
   {
    "duration": 20,
    "start_time": "2022-09-25T21:48:53.125Z"
   },
   {
    "duration": 224,
    "start_time": "2022-09-25T21:48:53.147Z"
   },
   {
    "duration": 0,
    "start_time": "2022-09-25T21:48:53.373Z"
   },
   {
    "duration": 0,
    "start_time": "2022-09-25T21:48:53.375Z"
   },
   {
    "duration": 5,
    "start_time": "2022-09-25T21:59:10.201Z"
   },
   {
    "duration": 877,
    "start_time": "2022-09-25T22:00:36.330Z"
   },
   {
    "duration": 5,
    "start_time": "2022-09-25T22:15:32.733Z"
   },
   {
    "duration": 1362,
    "start_time": "2022-09-25T22:15:33.341Z"
   },
   {
    "duration": 11,
    "start_time": "2022-09-25T22:21:14.959Z"
   },
   {
    "duration": 10,
    "start_time": "2022-09-25T22:21:55.275Z"
   },
   {
    "duration": 4,
    "start_time": "2022-09-25T22:22:09.163Z"
   },
   {
    "duration": 10,
    "start_time": "2022-09-25T22:22:18.222Z"
   },
   {
    "duration": 16,
    "start_time": "2022-09-25T22:23:21.250Z"
   },
   {
    "duration": 33,
    "start_time": "2022-09-25T22:23:32.128Z"
   },
   {
    "duration": 11,
    "start_time": "2022-09-25T22:23:39.562Z"
   },
   {
    "duration": 15,
    "start_time": "2022-09-25T22:24:04.095Z"
   },
   {
    "duration": 11,
    "start_time": "2022-09-25T22:24:23.052Z"
   },
   {
    "duration": 18,
    "start_time": "2022-09-25T22:26:42.986Z"
   },
   {
    "duration": 10,
    "start_time": "2022-09-25T22:26:43.304Z"
   },
   {
    "duration": 7,
    "start_time": "2022-09-25T22:30:06.382Z"
   },
   {
    "duration": 59,
    "start_time": "2022-09-25T22:30:06.390Z"
   },
   {
    "duration": 15,
    "start_time": "2022-09-25T22:30:06.451Z"
   },
   {
    "duration": 65,
    "start_time": "2022-09-25T22:30:06.468Z"
   },
   {
    "duration": 9,
    "start_time": "2022-09-25T22:30:06.535Z"
   },
   {
    "duration": 14,
    "start_time": "2022-09-25T22:30:06.545Z"
   },
   {
    "duration": 56,
    "start_time": "2022-09-25T22:30:06.561Z"
   },
   {
    "duration": 43,
    "start_time": "2022-09-25T22:30:06.619Z"
   },
   {
    "duration": 3,
    "start_time": "2022-09-25T22:30:06.664Z"
   },
   {
    "duration": 45,
    "start_time": "2022-09-25T22:30:06.668Z"
   },
   {
    "duration": 9,
    "start_time": "2022-09-25T22:30:06.716Z"
   },
   {
    "duration": 4,
    "start_time": "2022-09-25T22:30:06.727Z"
   },
   {
    "duration": 9,
    "start_time": "2022-09-25T22:30:06.732Z"
   },
   {
    "duration": 154,
    "start_time": "2022-09-25T22:30:06.742Z"
   },
   {
    "duration": 15,
    "start_time": "2022-09-25T22:30:06.898Z"
   },
   {
    "duration": 4,
    "start_time": "2022-09-25T22:30:06.914Z"
   },
   {
    "duration": 9,
    "start_time": "2022-09-25T22:30:06.919Z"
   },
   {
    "duration": 17,
    "start_time": "2022-09-25T22:30:06.929Z"
   },
   {
    "duration": 24,
    "start_time": "2022-09-25T22:30:06.947Z"
   },
   {
    "duration": 11,
    "start_time": "2022-09-25T22:30:06.972Z"
   },
   {
    "duration": 44,
    "start_time": "2022-09-25T22:30:06.984Z"
   },
   {
    "duration": 6,
    "start_time": "2022-09-25T22:30:07.030Z"
   },
   {
    "duration": 43,
    "start_time": "2022-09-25T22:30:07.037Z"
   },
   {
    "duration": 3,
    "start_time": "2022-09-25T22:30:07.109Z"
   },
   {
    "duration": 677,
    "start_time": "2022-09-25T22:30:07.113Z"
   },
   {
    "duration": 7,
    "start_time": "2022-09-25T22:30:07.792Z"
   },
   {
    "duration": 19938,
    "start_time": "2022-09-25T22:30:07.809Z"
   },
   {
    "duration": 10017,
    "start_time": "2022-09-25T22:30:27.749Z"
   },
   {
    "duration": 11789,
    "start_time": "2022-09-25T22:30:37.770Z"
   },
   {
    "duration": 4,
    "start_time": "2022-09-25T22:30:49.561Z"
   },
   {
    "duration": 1724,
    "start_time": "2022-09-25T22:30:49.567Z"
   },
   {
    "duration": 19,
    "start_time": "2022-09-25T22:30:51.293Z"
   },
   {
    "duration": 43,
    "start_time": "2022-09-25T22:30:51.313Z"
   },
   {
    "duration": 4131,
    "start_time": "2022-09-25T22:30:51.357Z"
   },
   {
    "duration": 5,
    "start_time": "2022-09-25T22:30:55.490Z"
   },
   {
    "duration": 3837,
    "start_time": "2022-09-25T22:30:55.496Z"
   },
   {
    "duration": 737,
    "start_time": "2022-09-25T22:30:59.334Z"
   },
   {
    "duration": 678,
    "start_time": "2022-09-25T22:31:00.073Z"
   },
   {
    "duration": 2065,
    "start_time": "2022-09-25T22:31:00.752Z"
   },
   {
    "duration": 30,
    "start_time": "2022-09-25T22:31:02.819Z"
   },
   {
    "duration": 6,
    "start_time": "2022-09-25T22:31:02.851Z"
   },
   {
    "duration": 54,
    "start_time": "2022-09-25T22:31:02.859Z"
   },
   {
    "duration": 39,
    "start_time": "2022-09-25T22:31:02.915Z"
   },
   {
    "duration": 11,
    "start_time": "2022-09-25T22:31:02.955Z"
   },
   {
    "duration": 563,
    "start_time": "2022-09-25T22:31:02.968Z"
   },
   {
    "duration": 790,
    "start_time": "2022-09-25T22:31:03.533Z"
   },
   {
    "duration": 33,
    "start_time": "2022-09-25T22:31:04.324Z"
   },
   {
    "duration": 266,
    "start_time": "2022-09-25T22:31:04.359Z"
   },
   {
    "duration": 947,
    "start_time": "2022-09-25T22:31:04.627Z"
   },
   {
    "duration": 4,
    "start_time": "2022-09-25T22:31:05.575Z"
   },
   {
    "duration": 1330,
    "start_time": "2022-09-25T22:31:05.581Z"
   },
   {
    "duration": 11,
    "start_time": "2022-09-25T22:31:06.912Z"
   },
   {
    "duration": 13,
    "start_time": "2022-09-25T22:31:20.722Z"
   },
   {
    "duration": 4,
    "start_time": "2022-09-25T22:35:10.103Z"
   },
   {
    "duration": 3,
    "start_time": "2022-09-25T22:35:15.706Z"
   },
   {
    "duration": 4,
    "start_time": "2022-09-25T22:35:24.035Z"
   },
   {
    "duration": 4,
    "start_time": "2022-09-25T22:35:30.358Z"
   },
   {
    "duration": 11,
    "start_time": "2022-09-25T23:14:35.628Z"
   },
   {
    "duration": 5,
    "start_time": "2022-09-25T23:15:23.410Z"
   },
   {
    "duration": 14,
    "start_time": "2022-09-25T23:15:32.563Z"
   },
   {
    "duration": 5,
    "start_time": "2022-09-25T23:15:54.260Z"
   },
   {
    "duration": 55,
    "start_time": "2022-09-25T23:19:30.523Z"
   },
   {
    "duration": 12,
    "start_time": "2022-09-25T23:19:40.309Z"
   },
   {
    "duration": 1932,
    "start_time": "2022-09-26T11:57:28.650Z"
   },
   {
    "duration": 211,
    "start_time": "2022-09-26T11:57:30.584Z"
   },
   {
    "duration": 15,
    "start_time": "2022-09-26T11:57:30.796Z"
   },
   {
    "duration": 52,
    "start_time": "2022-09-26T11:57:30.813Z"
   },
   {
    "duration": 43,
    "start_time": "2022-09-26T11:57:30.867Z"
   },
   {
    "duration": 97,
    "start_time": "2022-09-26T11:57:30.912Z"
   },
   {
    "duration": 16,
    "start_time": "2022-09-26T11:57:31.011Z"
   },
   {
    "duration": 72,
    "start_time": "2022-09-26T11:57:31.029Z"
   },
   {
    "duration": 4,
    "start_time": "2022-09-26T11:57:31.103Z"
   },
   {
    "duration": 15,
    "start_time": "2022-09-26T11:57:31.110Z"
   },
   {
    "duration": 11,
    "start_time": "2022-09-26T11:57:31.127Z"
   },
   {
    "duration": 6,
    "start_time": "2022-09-26T11:57:31.140Z"
   },
   {
    "duration": 18,
    "start_time": "2022-09-26T11:57:31.147Z"
   },
   {
    "duration": 163,
    "start_time": "2022-09-26T11:57:31.167Z"
   },
   {
    "duration": 12,
    "start_time": "2022-09-26T11:57:31.332Z"
   },
   {
    "duration": 10,
    "start_time": "2022-09-26T11:57:31.345Z"
   },
   {
    "duration": 19,
    "start_time": "2022-09-26T11:57:31.356Z"
   },
   {
    "duration": 19,
    "start_time": "2022-09-26T11:57:31.377Z"
   },
   {
    "duration": 22,
    "start_time": "2022-09-26T11:57:31.398Z"
   },
   {
    "duration": 42,
    "start_time": "2022-09-26T11:57:31.421Z"
   },
   {
    "duration": 27,
    "start_time": "2022-09-26T11:57:31.465Z"
   },
   {
    "duration": 7,
    "start_time": "2022-09-26T11:57:31.493Z"
   },
   {
    "duration": 106,
    "start_time": "2022-09-26T11:57:31.501Z"
   },
   {
    "duration": 4,
    "start_time": "2022-09-26T11:57:31.608Z"
   },
   {
    "duration": 627,
    "start_time": "2022-09-26T11:57:31.614Z"
   },
   {
    "duration": 7,
    "start_time": "2022-09-26T11:57:32.244Z"
   },
   {
    "duration": 20706,
    "start_time": "2022-09-26T11:57:32.253Z"
   },
   {
    "duration": 10385,
    "start_time": "2022-09-26T11:57:52.963Z"
   },
   {
    "duration": 12339,
    "start_time": "2022-09-26T11:58:03.350Z"
   },
   {
    "duration": 4,
    "start_time": "2022-09-26T11:58:15.690Z"
   },
   {
    "duration": 2104,
    "start_time": "2022-09-26T11:58:15.696Z"
   },
   {
    "duration": 9,
    "start_time": "2022-09-26T11:58:17.802Z"
   },
   {
    "duration": 45,
    "start_time": "2022-09-26T11:58:17.812Z"
   },
   {
    "duration": 4096,
    "start_time": "2022-09-26T11:58:17.858Z"
   },
   {
    "duration": 4,
    "start_time": "2022-09-26T11:58:21.956Z"
   },
   {
    "duration": 4213,
    "start_time": "2022-09-26T11:58:21.962Z"
   },
   {
    "duration": 634,
    "start_time": "2022-09-26T11:58:26.176Z"
   },
   {
    "duration": 859,
    "start_time": "2022-09-26T11:58:26.812Z"
   },
   {
    "duration": 2205,
    "start_time": "2022-09-26T11:58:27.673Z"
   },
   {
    "duration": 39,
    "start_time": "2022-09-26T11:58:29.879Z"
   },
   {
    "duration": 6,
    "start_time": "2022-09-26T11:58:29.920Z"
   },
   {
    "duration": 23,
    "start_time": "2022-09-26T11:58:29.928Z"
   },
   {
    "duration": 74,
    "start_time": "2022-09-26T11:58:29.952Z"
   },
   {
    "duration": 10,
    "start_time": "2022-09-26T11:58:30.028Z"
   },
   {
    "duration": 444,
    "start_time": "2022-09-26T11:58:30.039Z"
   },
   {
    "duration": 805,
    "start_time": "2022-09-26T11:58:30.486Z"
   },
   {
    "duration": 37,
    "start_time": "2022-09-26T11:58:31.293Z"
   },
   {
    "duration": 396,
    "start_time": "2022-09-26T11:58:31.332Z"
   },
   {
    "duration": 972,
    "start_time": "2022-09-26T11:58:31.729Z"
   },
   {
    "duration": 5,
    "start_time": "2022-09-26T11:58:32.702Z"
   },
   {
    "duration": 1342,
    "start_time": "2022-09-26T11:58:32.708Z"
   },
   {
    "duration": 10,
    "start_time": "2022-09-26T11:58:34.052Z"
   },
   {
    "duration": 56,
    "start_time": "2022-09-26T11:58:34.064Z"
   },
   {
    "duration": 0,
    "start_time": "2022-09-26T11:58:34.122Z"
   },
   {
    "duration": 0,
    "start_time": "2022-09-26T11:58:34.124Z"
   },
   {
    "duration": 0,
    "start_time": "2022-09-26T11:58:34.125Z"
   },
   {
    "duration": 0,
    "start_time": "2022-09-26T11:58:34.126Z"
   },
   {
    "duration": 0,
    "start_time": "2022-09-26T11:58:34.128Z"
   },
   {
    "duration": 0,
    "start_time": "2022-09-26T11:58:34.129Z"
   },
   {
    "duration": 0,
    "start_time": "2022-09-26T11:58:34.130Z"
   },
   {
    "duration": 0,
    "start_time": "2022-09-26T11:58:34.131Z"
   },
   {
    "duration": 0,
    "start_time": "2022-09-26T11:58:34.132Z"
   },
   {
    "duration": 0,
    "start_time": "2022-09-26T11:58:34.133Z"
   },
   {
    "duration": 0,
    "start_time": "2022-09-26T11:58:34.134Z"
   },
   {
    "duration": 0,
    "start_time": "2022-09-26T11:58:34.135Z"
   },
   {
    "duration": 0,
    "start_time": "2022-09-26T11:58:34.136Z"
   },
   {
    "duration": 0,
    "start_time": "2022-09-26T11:58:34.138Z"
   },
   {
    "duration": 0,
    "start_time": "2022-09-26T11:58:34.139Z"
   },
   {
    "duration": 0,
    "start_time": "2022-09-26T11:58:34.140Z"
   },
   {
    "duration": 5,
    "start_time": "2022-09-26T12:41:19.659Z"
   },
   {
    "duration": 136,
    "start_time": "2022-09-26T12:52:42.834Z"
   },
   {
    "duration": 5,
    "start_time": "2022-09-26T12:52:57.994Z"
   },
   {
    "duration": 8,
    "start_time": "2022-09-26T12:53:06.511Z"
   },
   {
    "duration": 21,
    "start_time": "2022-09-26T12:54:41.480Z"
   },
   {
    "duration": 13,
    "start_time": "2022-09-26T13:09:34.761Z"
   },
   {
    "duration": 9,
    "start_time": "2022-09-26T13:09:35.125Z"
   },
   {
    "duration": 1638,
    "start_time": "2022-09-26T13:09:42.323Z"
   },
   {
    "duration": 62,
    "start_time": "2022-09-26T13:09:43.962Z"
   },
   {
    "duration": 15,
    "start_time": "2022-09-26T13:09:44.025Z"
   },
   {
    "duration": 86,
    "start_time": "2022-09-26T13:09:44.042Z"
   },
   {
    "duration": 12,
    "start_time": "2022-09-26T13:09:44.129Z"
   },
   {
    "duration": 30,
    "start_time": "2022-09-26T13:09:44.142Z"
   },
   {
    "duration": 31,
    "start_time": "2022-09-26T13:09:44.175Z"
   },
   {
    "duration": 48,
    "start_time": "2022-09-26T13:09:44.208Z"
   },
   {
    "duration": 4,
    "start_time": "2022-09-26T13:09:44.258Z"
   },
   {
    "duration": 37,
    "start_time": "2022-09-26T13:09:44.264Z"
   },
   {
    "duration": 10,
    "start_time": "2022-09-26T13:09:44.302Z"
   },
   {
    "duration": 3,
    "start_time": "2022-09-26T13:09:44.313Z"
   },
   {
    "duration": 8,
    "start_time": "2022-09-26T13:09:44.318Z"
   },
   {
    "duration": 185,
    "start_time": "2022-09-26T13:09:44.328Z"
   },
   {
    "duration": 14,
    "start_time": "2022-09-26T13:09:44.514Z"
   },
   {
    "duration": 9,
    "start_time": "2022-09-26T13:09:44.529Z"
   },
   {
    "duration": 15,
    "start_time": "2022-09-26T13:09:44.540Z"
   },
   {
    "duration": 23,
    "start_time": "2022-09-26T13:09:44.557Z"
   },
   {
    "duration": 33,
    "start_time": "2022-09-26T13:09:44.581Z"
   },
   {
    "duration": 11,
    "start_time": "2022-09-26T13:09:44.615Z"
   },
   {
    "duration": 23,
    "start_time": "2022-09-26T13:09:44.627Z"
   },
   {
    "duration": 6,
    "start_time": "2022-09-26T13:09:44.652Z"
   },
   {
    "duration": 109,
    "start_time": "2022-09-26T13:09:44.659Z"
   },
   {
    "duration": 3,
    "start_time": "2022-09-26T13:09:44.770Z"
   },
   {
    "duration": 669,
    "start_time": "2022-09-26T13:09:44.774Z"
   },
   {
    "duration": 8,
    "start_time": "2022-09-26T13:09:45.445Z"
   },
   {
    "duration": 22740,
    "start_time": "2022-09-26T13:09:45.455Z"
   },
   {
    "duration": 11127,
    "start_time": "2022-09-26T13:10:08.198Z"
   },
   {
    "duration": 14113,
    "start_time": "2022-09-26T13:10:19.327Z"
   },
   {
    "duration": 4,
    "start_time": "2022-09-26T13:10:33.442Z"
   },
   {
    "duration": 1910,
    "start_time": "2022-09-26T13:10:33.448Z"
   },
   {
    "duration": 6,
    "start_time": "2022-09-26T13:10:35.360Z"
   },
   {
    "duration": 52,
    "start_time": "2022-09-26T13:10:35.368Z"
   },
   {
    "duration": 3970,
    "start_time": "2022-09-26T13:10:35.421Z"
   },
   {
    "duration": 5,
    "start_time": "2022-09-26T13:10:39.393Z"
   },
   {
    "duration": 3086,
    "start_time": "2022-09-26T13:10:39.399Z"
   },
   {
    "duration": 610,
    "start_time": "2022-09-26T13:10:42.486Z"
   },
   {
    "duration": 802,
    "start_time": "2022-09-26T13:10:43.098Z"
   },
   {
    "duration": 2085,
    "start_time": "2022-09-26T13:10:43.902Z"
   },
   {
    "duration": 34,
    "start_time": "2022-09-26T13:10:46.000Z"
   },
   {
    "duration": 13,
    "start_time": "2022-09-26T13:10:46.036Z"
   },
   {
    "duration": 56,
    "start_time": "2022-09-26T13:10:46.051Z"
   },
   {
    "duration": 39,
    "start_time": "2022-09-26T13:10:46.108Z"
   },
   {
    "duration": 11,
    "start_time": "2022-09-26T13:10:46.149Z"
   },
   {
    "duration": 443,
    "start_time": "2022-09-26T13:10:46.162Z"
   },
   {
    "duration": 780,
    "start_time": "2022-09-26T13:10:46.606Z"
   },
   {
    "duration": 34,
    "start_time": "2022-09-26T13:10:47.387Z"
   },
   {
    "duration": 389,
    "start_time": "2022-09-26T13:10:47.423Z"
   },
   {
    "duration": 987,
    "start_time": "2022-09-26T13:10:47.814Z"
   },
   {
    "duration": 5,
    "start_time": "2022-09-26T13:10:48.802Z"
   },
   {
    "duration": 1308,
    "start_time": "2022-09-26T13:10:48.808Z"
   },
   {
    "duration": 5,
    "start_time": "2022-09-26T13:10:50.118Z"
   },
   {
    "duration": 11,
    "start_time": "2022-09-26T13:10:50.124Z"
   },
   {
    "duration": 7,
    "start_time": "2022-09-26T13:10:50.136Z"
   },
   {
    "duration": 16,
    "start_time": "2022-09-26T13:10:50.144Z"
   },
   {
    "duration": 4,
    "start_time": "2022-09-26T13:10:50.161Z"
   },
   {
    "duration": 10,
    "start_time": "2022-09-26T13:10:50.166Z"
   },
   {
    "duration": 29,
    "start_time": "2022-09-26T13:10:50.178Z"
   },
   {
    "duration": 14,
    "start_time": "2022-09-26T13:10:50.209Z"
   },
   {
    "duration": 3,
    "start_time": "2022-09-26T13:10:50.224Z"
   },
   {
    "duration": 6,
    "start_time": "2022-09-26T13:10:50.228Z"
   },
   {
    "duration": 19,
    "start_time": "2022-09-26T13:10:50.235Z"
   },
   {
    "duration": 6,
    "start_time": "2022-09-26T13:10:50.255Z"
   },
   {
    "duration": 9,
    "start_time": "2022-09-26T13:10:50.262Z"
   },
   {
    "duration": 28,
    "start_time": "2022-09-26T13:10:50.273Z"
   },
   {
    "duration": 139,
    "start_time": "2022-09-26T13:10:50.302Z"
   },
   {
    "duration": 0,
    "start_time": "2022-09-26T13:10:50.443Z"
   },
   {
    "duration": 0,
    "start_time": "2022-09-26T13:10:50.444Z"
   },
   {
    "duration": 17,
    "start_time": "2022-09-26T13:24:17.068Z"
   },
   {
    "duration": 9,
    "start_time": "2022-09-26T13:24:18.490Z"
   },
   {
    "duration": 7,
    "start_time": "2022-09-26T13:24:58.288Z"
   },
   {
    "duration": 14,
    "start_time": "2022-09-26T13:25:47.785Z"
   },
   {
    "duration": 10,
    "start_time": "2022-09-26T13:27:04.018Z"
   },
   {
    "duration": 10,
    "start_time": "2022-09-26T13:27:21.756Z"
   },
   {
    "duration": 628,
    "start_time": "2022-09-26T13:27:24.048Z"
   },
   {
    "duration": 0,
    "start_time": "2022-09-26T13:27:24.677Z"
   },
   {
    "duration": 9,
    "start_time": "2022-09-26T13:27:28.885Z"
   },
   {
    "duration": 15,
    "start_time": "2022-09-26T13:27:34.869Z"
   },
   {
    "duration": 10,
    "start_time": "2022-09-26T13:27:35.187Z"
   },
   {
    "duration": 30,
    "start_time": "2022-09-26T13:29:06.884Z"
   },
   {
    "duration": 14,
    "start_time": "2022-09-26T13:30:05.132Z"
   },
   {
    "duration": 15,
    "start_time": "2022-09-26T13:30:41.245Z"
   },
   {
    "duration": 12,
    "start_time": "2022-09-26T13:30:43.448Z"
   },
   {
    "duration": 52,
    "start_time": "2022-09-26T13:31:32.114Z"
   },
   {
    "duration": 14,
    "start_time": "2022-09-26T13:31:36.347Z"
   },
   {
    "duration": 12,
    "start_time": "2022-09-26T13:31:36.813Z"
   },
   {
    "duration": 11,
    "start_time": "2022-09-26T13:31:41.665Z"
   },
   {
    "duration": 77,
    "start_time": "2022-09-26T13:32:46.365Z"
   },
   {
    "duration": 14,
    "start_time": "2022-09-26T13:32:50.000Z"
   },
   {
    "duration": 11,
    "start_time": "2022-09-26T13:32:51.785Z"
   },
   {
    "duration": 6,
    "start_time": "2022-09-26T13:32:58.725Z"
   },
   {
    "duration": 6,
    "start_time": "2022-09-26T13:33:04.384Z"
   },
   {
    "duration": 9,
    "start_time": "2022-09-26T13:33:05.141Z"
   },
   {
    "duration": 7,
    "start_time": "2022-09-26T13:33:06.415Z"
   },
   {
    "duration": 16,
    "start_time": "2022-09-26T13:33:06.938Z"
   },
   {
    "duration": 10,
    "start_time": "2022-09-26T13:33:07.430Z"
   },
   {
    "duration": 18,
    "start_time": "2022-09-26T13:34:23.297Z"
   },
   {
    "duration": 17,
    "start_time": "2022-09-26T13:34:41.459Z"
   },
   {
    "duration": 11,
    "start_time": "2022-09-26T13:34:42.842Z"
   },
   {
    "duration": 14,
    "start_time": "2022-09-26T13:34:49.098Z"
   },
   {
    "duration": 11,
    "start_time": "2022-09-26T13:34:49.451Z"
   },
   {
    "duration": 6,
    "start_time": "2022-09-26T13:34:54.434Z"
   },
   {
    "duration": 8,
    "start_time": "2022-09-26T13:34:54.814Z"
   },
   {
    "duration": 7,
    "start_time": "2022-09-26T13:34:56.693Z"
   },
   {
    "duration": 14,
    "start_time": "2022-09-26T13:34:57.049Z"
   },
   {
    "duration": 12,
    "start_time": "2022-09-26T13:34:57.432Z"
   },
   {
    "duration": 18,
    "start_time": "2022-09-26T13:36:02.017Z"
   },
   {
    "duration": 17,
    "start_time": "2022-09-26T13:36:02.539Z"
   },
   {
    "duration": 9,
    "start_time": "2022-09-26T13:36:03.060Z"
   },
   {
    "duration": 3,
    "start_time": "2022-09-26T13:36:44.928Z"
   },
   {
    "duration": 3,
    "start_time": "2022-09-26T13:36:45.305Z"
   },
   {
    "duration": 18,
    "start_time": "2022-09-26T13:36:45.603Z"
   },
   {
    "duration": 9,
    "start_time": "2022-09-26T13:36:45.996Z"
   },
   {
    "duration": 9,
    "start_time": "2022-09-26T13:36:48.691Z"
   },
   {
    "duration": 9,
    "start_time": "2022-09-26T13:36:57.302Z"
   },
   {
    "duration": 13,
    "start_time": "2022-09-26T13:40:10.289Z"
   },
   {
    "duration": 12,
    "start_time": "2022-09-26T13:40:11.167Z"
   },
   {
    "duration": 12,
    "start_time": "2022-09-26T13:40:11.378Z"
   },
   {
    "duration": 5,
    "start_time": "2022-09-26T13:40:16.464Z"
   },
   {
    "duration": 9,
    "start_time": "2022-09-26T13:40:16.879Z"
   },
   {
    "duration": 6,
    "start_time": "2022-09-26T13:40:17.576Z"
   },
   {
    "duration": 15,
    "start_time": "2022-09-26T13:40:18.071Z"
   },
   {
    "duration": 12,
    "start_time": "2022-09-26T13:40:18.534Z"
   },
   {
    "duration": 17,
    "start_time": "2022-09-26T13:41:44.220Z"
   },
   {
    "duration": 13,
    "start_time": "2022-09-26T13:41:44.667Z"
   },
   {
    "duration": 6,
    "start_time": "2022-09-26T13:41:46.074Z"
   },
   {
    "duration": 12,
    "start_time": "2022-09-26T13:41:46.779Z"
   },
   {
    "duration": 16,
    "start_time": "2022-09-26T13:41:47.311Z"
   },
   {
    "duration": 13,
    "start_time": "2022-09-26T13:42:41.099Z"
   },
   {
    "duration": 12,
    "start_time": "2022-09-26T13:42:41.601Z"
   },
   {
    "duration": 4,
    "start_time": "2022-09-26T13:42:48.240Z"
   },
   {
    "duration": 9,
    "start_time": "2022-09-26T13:42:48.501Z"
   },
   {
    "duration": 6,
    "start_time": "2022-09-26T13:42:48.969Z"
   },
   {
    "duration": 13,
    "start_time": "2022-09-26T13:42:49.423Z"
   },
   {
    "duration": 10,
    "start_time": "2022-09-26T13:42:49.816Z"
   },
   {
    "duration": 13,
    "start_time": "2022-09-26T13:43:12.587Z"
   },
   {
    "duration": 11,
    "start_time": "2022-09-26T13:43:13.204Z"
   },
   {
    "duration": 3,
    "start_time": "2022-09-26T13:43:26.621Z"
   },
   {
    "duration": 10,
    "start_time": "2022-09-26T13:43:27.021Z"
   },
   {
    "duration": 8,
    "start_time": "2022-09-26T13:43:27.546Z"
   },
   {
    "duration": 6,
    "start_time": "2022-09-26T13:43:39.364Z"
   },
   {
    "duration": 13,
    "start_time": "2022-09-26T13:43:44.053Z"
   },
   {
    "duration": 10,
    "start_time": "2022-09-26T13:43:44.651Z"
   },
   {
    "duration": 10,
    "start_time": "2022-09-26T13:43:57.048Z"
   },
   {
    "duration": 14,
    "start_time": "2022-09-26T13:44:08.186Z"
   },
   {
    "duration": 20,
    "start_time": "2022-09-26T13:45:33.182Z"
   },
   {
    "duration": 7,
    "start_time": "2022-09-26T13:45:39.743Z"
   },
   {
    "duration": 20,
    "start_time": "2022-09-26T13:45:40.090Z"
   },
   {
    "duration": 11,
    "start_time": "2022-09-26T14:00:41.783Z"
   },
   {
    "duration": 12,
    "start_time": "2022-09-26T14:00:52.044Z"
   },
   {
    "duration": 4,
    "start_time": "2022-09-26T14:00:55.967Z"
   },
   {
    "duration": 12,
    "start_time": "2022-09-26T14:01:00.939Z"
   },
   {
    "duration": 70,
    "start_time": "2022-09-26T14:01:08.826Z"
   },
   {
    "duration": 14,
    "start_time": "2022-09-26T14:05:17.145Z"
   },
   {
    "duration": 15,
    "start_time": "2022-09-26T14:05:34.023Z"
   },
   {
    "duration": 14,
    "start_time": "2022-09-26T14:10:31.955Z"
   },
   {
    "duration": 896,
    "start_time": "2022-09-26T14:11:58.586Z"
   },
   {
    "duration": 17,
    "start_time": "2022-09-26T14:12:08.590Z"
   },
   {
    "duration": 34,
    "start_time": "2022-09-26T14:12:26.676Z"
   },
   {
    "duration": 8,
    "start_time": "2022-09-26T14:12:46.852Z"
   },
   {
    "duration": 10,
    "start_time": "2022-09-26T14:12:55.733Z"
   },
   {
    "duration": 5,
    "start_time": "2022-09-26T14:13:55.533Z"
   },
   {
    "duration": 9,
    "start_time": "2022-09-26T14:14:07.967Z"
   },
   {
    "duration": 7,
    "start_time": "2022-09-26T14:14:20.909Z"
   },
   {
    "duration": 9,
    "start_time": "2022-09-26T14:14:26.760Z"
   },
   {
    "duration": 6,
    "start_time": "2022-09-26T14:24:09.628Z"
   },
   {
    "duration": 3,
    "start_time": "2022-09-26T14:27:44.208Z"
   },
   {
    "duration": 25,
    "start_time": "2022-09-26T14:36:52.957Z"
   },
   {
    "duration": 9,
    "start_time": "2022-09-26T14:37:02.300Z"
   },
   {
    "duration": 12,
    "start_time": "2022-09-26T14:37:10.876Z"
   },
   {
    "duration": 854,
    "start_time": "2022-09-26T14:37:20.430Z"
   },
   {
    "duration": 6,
    "start_time": "2022-09-26T14:37:23.737Z"
   },
   {
    "duration": 4,
    "start_time": "2022-09-26T14:39:03.824Z"
   },
   {
    "duration": 26,
    "start_time": "2022-09-26T14:39:04.445Z"
   },
   {
    "duration": 4,
    "start_time": "2022-09-26T14:39:10.623Z"
   },
   {
    "duration": 21,
    "start_time": "2022-09-26T14:39:11.473Z"
   },
   {
    "duration": 35,
    "start_time": "2022-09-26T14:39:23.396Z"
   },
   {
    "duration": 4,
    "start_time": "2022-09-26T14:39:58.440Z"
   },
   {
    "duration": 19,
    "start_time": "2022-09-26T14:39:59.002Z"
   },
   {
    "duration": 3,
    "start_time": "2022-09-26T14:40:04.210Z"
   },
   {
    "duration": 9,
    "start_time": "2022-09-26T14:40:05.300Z"
   },
   {
    "duration": 24,
    "start_time": "2022-09-26T14:40:08.573Z"
   },
   {
    "duration": 6,
    "start_time": "2022-09-26T14:40:09.598Z"
   },
   {
    "duration": 9,
    "start_time": "2022-09-26T14:40:50.066Z"
   },
   {
    "duration": 292,
    "start_time": "2022-09-26T14:40:54.916Z"
   },
   {
    "duration": 6,
    "start_time": "2022-09-26T14:40:55.411Z"
   },
   {
    "duration": 8,
    "start_time": "2022-09-26T14:41:30.219Z"
   },
   {
    "duration": 29,
    "start_time": "2022-09-26T14:41:32.461Z"
   },
   {
    "duration": 5,
    "start_time": "2022-09-26T14:41:33.206Z"
   },
   {
    "duration": 2,
    "start_time": "2022-09-26T14:41:39.575Z"
   },
   {
    "duration": 8,
    "start_time": "2022-09-26T14:41:40.446Z"
   },
   {
    "duration": 27,
    "start_time": "2022-09-26T14:41:41.077Z"
   },
   {
    "duration": 5,
    "start_time": "2022-09-26T14:41:41.783Z"
   },
   {
    "duration": 998,
    "start_time": "2022-09-26T14:42:13.674Z"
   },
   {
    "duration": 8,
    "start_time": "2022-09-26T14:42:17.785Z"
   },
   {
    "duration": 30,
    "start_time": "2022-09-26T14:42:18.038Z"
   },
   {
    "duration": 5,
    "start_time": "2022-09-26T14:42:18.259Z"
   },
   {
    "duration": 795,
    "start_time": "2022-09-26T14:42:39.535Z"
   },
   {
    "duration": 11,
    "start_time": "2022-09-26T14:42:50.202Z"
   },
   {
    "duration": 12,
    "start_time": "2022-09-26T14:43:11.924Z"
   },
   {
    "duration": 4,
    "start_time": "2022-09-26T14:45:32.597Z"
   },
   {
    "duration": 10,
    "start_time": "2022-09-26T14:45:38.255Z"
   },
   {
    "duration": 10,
    "start_time": "2022-09-26T14:45:56.997Z"
   },
   {
    "duration": 11,
    "start_time": "2022-09-26T14:46:07.040Z"
   },
   {
    "duration": 5,
    "start_time": "2022-09-26T14:48:29.907Z"
   },
   {
    "duration": 4,
    "start_time": "2022-09-26T14:48:47.870Z"
   },
   {
    "duration": 103,
    "start_time": "2022-09-26T14:51:33.659Z"
   },
   {
    "duration": 11,
    "start_time": "2022-09-26T14:51:44.281Z"
   },
   {
    "duration": 10,
    "start_time": "2022-09-26T14:51:49.335Z"
   },
   {
    "duration": 3,
    "start_time": "2022-09-26T14:52:43.577Z"
   },
   {
    "duration": 41,
    "start_time": "2022-09-26T14:52:45.277Z"
   },
   {
    "duration": 30,
    "start_time": "2022-09-26T14:52:45.508Z"
   },
   {
    "duration": 23,
    "start_time": "2022-09-26T14:54:41.330Z"
   },
   {
    "duration": 31,
    "start_time": "2022-09-26T14:55:04.459Z"
   },
   {
    "duration": 26,
    "start_time": "2022-09-26T14:55:19.583Z"
   },
   {
    "duration": 33,
    "start_time": "2022-09-26T14:56:59.683Z"
   },
   {
    "duration": 32,
    "start_time": "2022-09-26T14:57:19.136Z"
   },
   {
    "duration": 25,
    "start_time": "2022-09-26T14:57:25.162Z"
   },
   {
    "duration": 69,
    "start_time": "2022-09-26T14:58:16.470Z"
   },
   {
    "duration": 39,
    "start_time": "2022-09-26T14:58:54.539Z"
   },
   {
    "duration": 50,
    "start_time": "2022-09-26T14:59:19.853Z"
   },
   {
    "duration": 48,
    "start_time": "2022-09-26T14:59:26.635Z"
   },
   {
    "duration": 69,
    "start_time": "2022-09-26T14:59:52.605Z"
   },
   {
    "duration": 97,
    "start_time": "2022-09-26T15:00:08.009Z"
   },
   {
    "duration": 4,
    "start_time": "2022-09-26T15:02:12.918Z"
   },
   {
    "duration": 19,
    "start_time": "2022-09-26T15:02:36.990Z"
   },
   {
    "duration": 3,
    "start_time": "2022-09-26T15:02:42.500Z"
   },
   {
    "duration": 42,
    "start_time": "2022-09-26T15:02:45.301Z"
   },
   {
    "duration": 8,
    "start_time": "2022-09-26T15:03:26.543Z"
   },
   {
    "duration": 2424,
    "start_time": "2022-09-26T17:27:08.050Z"
   },
   {
    "duration": 209,
    "start_time": "2022-09-26T17:27:10.476Z"
   },
   {
    "duration": 22,
    "start_time": "2022-09-26T17:27:10.687Z"
   },
   {
    "duration": 120,
    "start_time": "2022-09-26T17:27:10.712Z"
   },
   {
    "duration": 14,
    "start_time": "2022-09-26T17:27:10.834Z"
   },
   {
    "duration": 41,
    "start_time": "2022-09-26T17:27:10.851Z"
   },
   {
    "duration": 42,
    "start_time": "2022-09-26T17:27:10.895Z"
   },
   {
    "duration": 92,
    "start_time": "2022-09-26T17:27:10.939Z"
   },
   {
    "duration": 4,
    "start_time": "2022-09-26T17:27:11.033Z"
   },
   {
    "duration": 34,
    "start_time": "2022-09-26T17:27:11.041Z"
   },
   {
    "duration": 16,
    "start_time": "2022-09-26T17:27:11.077Z"
   },
   {
    "duration": 5,
    "start_time": "2022-09-26T17:27:11.095Z"
   },
   {
    "duration": 12,
    "start_time": "2022-09-26T17:27:11.121Z"
   },
   {
    "duration": 254,
    "start_time": "2022-09-26T17:27:11.135Z"
   },
   {
    "duration": 14,
    "start_time": "2022-09-26T17:27:11.391Z"
   },
   {
    "duration": 6,
    "start_time": "2022-09-26T17:27:11.421Z"
   },
   {
    "duration": 8,
    "start_time": "2022-09-26T17:27:11.430Z"
   },
   {
    "duration": 28,
    "start_time": "2022-09-26T17:27:11.440Z"
   },
   {
    "duration": 31,
    "start_time": "2022-09-26T17:27:11.470Z"
   },
   {
    "duration": 18,
    "start_time": "2022-09-26T17:27:11.520Z"
   },
   {
    "duration": 53,
    "start_time": "2022-09-26T17:27:11.541Z"
   },
   {
    "duration": 26,
    "start_time": "2022-09-26T17:27:11.596Z"
   },
   {
    "duration": 236,
    "start_time": "2022-09-26T17:27:11.625Z"
   },
   {
    "duration": 6,
    "start_time": "2022-09-26T17:27:11.864Z"
   },
   {
    "duration": 792,
    "start_time": "2022-09-26T17:27:11.874Z"
   },
   {
    "duration": 13,
    "start_time": "2022-09-26T17:27:12.669Z"
   },
   {
    "duration": 81350,
    "start_time": "2022-09-26T17:27:12.684Z"
   },
   {
    "duration": 44994,
    "start_time": "2022-09-26T17:28:34.040Z"
   },
   {
    "duration": 53189,
    "start_time": "2022-09-26T17:29:19.037Z"
   },
   {
    "duration": 5,
    "start_time": "2022-09-26T17:30:12.228Z"
   },
   {
    "duration": 2342,
    "start_time": "2022-09-26T17:30:12.235Z"
   },
   {
    "duration": 8,
    "start_time": "2022-09-26T17:30:14.579Z"
   },
   {
    "duration": 62,
    "start_time": "2022-09-26T17:30:14.589Z"
   },
   {
    "duration": 3513,
    "start_time": "2022-09-26T17:30:14.653Z"
   },
   {
    "duration": 6,
    "start_time": "2022-09-26T17:30:18.168Z"
   },
   {
    "duration": 3732,
    "start_time": "2022-09-26T17:30:18.176Z"
   },
   {
    "duration": 633,
    "start_time": "2022-09-26T17:30:21.910Z"
   },
   {
    "duration": 887,
    "start_time": "2022-09-26T17:30:22.545Z"
   },
   {
    "duration": 2439,
    "start_time": "2022-09-26T17:30:23.434Z"
   },
   {
    "duration": 56,
    "start_time": "2022-09-26T17:30:25.875Z"
   },
   {
    "duration": 11,
    "start_time": "2022-09-26T17:30:25.933Z"
   },
   {
    "duration": 37,
    "start_time": "2022-09-26T17:30:25.946Z"
   },
   {
    "duration": 62,
    "start_time": "2022-09-26T17:30:25.985Z"
   },
   {
    "duration": 11,
    "start_time": "2022-09-26T17:30:26.049Z"
   },
   {
    "duration": 502,
    "start_time": "2022-09-26T17:30:26.061Z"
   },
   {
    "duration": 964,
    "start_time": "2022-09-26T17:30:26.565Z"
   },
   {
    "duration": 41,
    "start_time": "2022-09-26T17:30:27.531Z"
   },
   {
    "duration": 425,
    "start_time": "2022-09-26T17:30:27.574Z"
   },
   {
    "duration": 1169,
    "start_time": "2022-09-26T17:30:28.001Z"
   },
   {
    "duration": 5,
    "start_time": "2022-09-26T17:30:29.173Z"
   },
   {
    "duration": 1520,
    "start_time": "2022-09-26T17:30:29.181Z"
   },
   {
    "duration": 4,
    "start_time": "2022-09-26T17:30:30.703Z"
   },
   {
    "duration": 42,
    "start_time": "2022-09-26T17:30:30.709Z"
   },
   {
    "duration": 4,
    "start_time": "2022-09-26T17:30:30.753Z"
   },
   {
    "duration": 64,
    "start_time": "2022-09-26T17:30:30.759Z"
   },
   {
    "duration": 3,
    "start_time": "2022-09-26T17:30:30.825Z"
   },
   {
    "duration": 27,
    "start_time": "2022-09-26T17:30:30.829Z"
   },
   {
    "duration": 32,
    "start_time": "2022-09-26T17:30:30.858Z"
   },
   {
    "duration": 38,
    "start_time": "2022-09-26T17:30:30.891Z"
   },
   {
    "duration": 30,
    "start_time": "2022-09-26T17:30:30.931Z"
   },
   {
    "duration": 28,
    "start_time": "2022-09-26T17:30:30.963Z"
   },
   {
    "duration": 194,
    "start_time": "2022-09-26T17:30:30.993Z"
   },
   {
    "duration": 0,
    "start_time": "2022-09-26T17:30:31.188Z"
   },
   {
    "duration": 0,
    "start_time": "2022-09-26T17:30:31.190Z"
   },
   {
    "duration": 1928,
    "start_time": "2022-09-26T17:50:16.080Z"
   },
   {
    "duration": 77,
    "start_time": "2022-09-26T17:50:18.010Z"
   },
   {
    "duration": 19,
    "start_time": "2022-09-26T17:50:18.089Z"
   },
   {
    "duration": 72,
    "start_time": "2022-09-26T17:50:18.111Z"
   },
   {
    "duration": 46,
    "start_time": "2022-09-26T17:50:18.185Z"
   },
   {
    "duration": 17,
    "start_time": "2022-09-26T17:50:18.234Z"
   },
   {
    "duration": 19,
    "start_time": "2022-09-26T17:50:18.253Z"
   },
   {
    "duration": 82,
    "start_time": "2022-09-26T17:50:18.274Z"
   },
   {
    "duration": 5,
    "start_time": "2022-09-26T17:50:18.357Z"
   },
   {
    "duration": 14,
    "start_time": "2022-09-26T17:50:18.365Z"
   },
   {
    "duration": 46,
    "start_time": "2022-09-26T17:50:18.381Z"
   },
   {
    "duration": 6,
    "start_time": "2022-09-26T17:50:18.429Z"
   },
   {
    "duration": 12,
    "start_time": "2022-09-26T17:50:18.437Z"
   },
   {
    "duration": 218,
    "start_time": "2022-09-26T17:50:18.451Z"
   },
   {
    "duration": 14,
    "start_time": "2022-09-26T17:50:18.671Z"
   },
   {
    "duration": 6,
    "start_time": "2022-09-26T17:50:18.686Z"
   },
   {
    "duration": 27,
    "start_time": "2022-09-26T17:50:18.693Z"
   },
   {
    "duration": 21,
    "start_time": "2022-09-26T17:50:18.723Z"
   },
   {
    "duration": 37,
    "start_time": "2022-09-26T17:50:18.746Z"
   },
   {
    "duration": 14,
    "start_time": "2022-09-26T17:50:18.784Z"
   },
   {
    "duration": 67,
    "start_time": "2022-09-26T17:50:18.800Z"
   },
   {
    "duration": 11,
    "start_time": "2022-09-26T17:50:18.869Z"
   },
   {
    "duration": 181,
    "start_time": "2022-09-26T17:50:18.882Z"
   },
   {
    "duration": 4,
    "start_time": "2022-09-26T17:50:19.065Z"
   },
   {
    "duration": 755,
    "start_time": "2022-09-26T17:50:19.071Z"
   },
   {
    "duration": 10,
    "start_time": "2022-09-26T17:50:19.828Z"
   },
   {
    "duration": 79502,
    "start_time": "2022-09-26T17:50:19.841Z"
   },
   {
    "duration": 28751,
    "start_time": "2022-09-26T17:51:39.347Z"
   },
   {
    "duration": 46993,
    "start_time": "2022-09-26T17:52:08.100Z"
   },
   {
    "duration": 4,
    "start_time": "2022-09-26T17:52:55.095Z"
   },
   {
    "duration": 2266,
    "start_time": "2022-09-26T17:52:55.101Z"
   },
   {
    "duration": 9,
    "start_time": "2022-09-26T17:52:57.369Z"
   },
   {
    "duration": 63,
    "start_time": "2022-09-26T17:52:57.379Z"
   },
   {
    "duration": 1111,
    "start_time": "2022-09-26T17:52:57.444Z"
   },
   {
    "duration": 5,
    "start_time": "2022-09-26T17:52:58.557Z"
   },
   {
    "duration": 1224,
    "start_time": "2022-09-26T17:52:58.564Z"
   },
   {
    "duration": 627,
    "start_time": "2022-09-26T17:52:59.789Z"
   },
   {
    "duration": 967,
    "start_time": "2022-09-26T17:53:00.418Z"
   },
   {
    "duration": 2855,
    "start_time": "2022-09-26T17:53:01.386Z"
   },
   {
    "duration": 36,
    "start_time": "2022-09-26T17:53:04.243Z"
   },
   {
    "duration": 40,
    "start_time": "2022-09-26T17:53:04.281Z"
   },
   {
    "duration": 30,
    "start_time": "2022-09-26T17:53:04.323Z"
   },
   {
    "duration": 84,
    "start_time": "2022-09-26T17:53:04.355Z"
   },
   {
    "duration": 17,
    "start_time": "2022-09-26T17:53:04.446Z"
   },
   {
    "duration": 503,
    "start_time": "2022-09-26T17:53:04.465Z"
   },
   {
    "duration": 1045,
    "start_time": "2022-09-26T17:53:04.970Z"
   },
   {
    "duration": 37,
    "start_time": "2022-09-26T17:53:06.021Z"
   },
   {
    "duration": 295,
    "start_time": "2022-09-26T17:53:06.060Z"
   },
   {
    "duration": 981,
    "start_time": "2022-09-26T17:53:06.356Z"
   },
   {
    "duration": 5,
    "start_time": "2022-09-26T17:53:07.339Z"
   },
   {
    "duration": 1619,
    "start_time": "2022-09-26T17:53:07.347Z"
   },
   {
    "duration": 5,
    "start_time": "2022-09-26T17:53:08.968Z"
   },
   {
    "duration": 38,
    "start_time": "2022-09-26T17:53:08.975Z"
   },
   {
    "duration": 9,
    "start_time": "2022-09-26T17:53:09.015Z"
   },
   {
    "duration": 82,
    "start_time": "2022-09-26T17:53:09.026Z"
   },
   {
    "duration": 3,
    "start_time": "2022-09-26T17:53:09.110Z"
   },
   {
    "duration": 15,
    "start_time": "2022-09-26T17:53:09.115Z"
   },
   {
    "duration": 34,
    "start_time": "2022-09-26T17:53:09.132Z"
   },
   {
    "duration": 15,
    "start_time": "2022-09-26T17:53:09.169Z"
   },
   {
    "duration": 19,
    "start_time": "2022-09-26T17:53:09.186Z"
   },
   {
    "duration": 15,
    "start_time": "2022-09-26T17:53:09.207Z"
   },
   {
    "duration": 197,
    "start_time": "2022-09-26T17:53:09.224Z"
   },
   {
    "duration": 0,
    "start_time": "2022-09-26T17:53:09.423Z"
   },
   {
    "duration": 0,
    "start_time": "2022-09-26T17:53:09.424Z"
   },
   {
    "duration": 11,
    "start_time": "2022-09-26T21:18:56.955Z"
   },
   {
    "duration": 4,
    "start_time": "2022-09-26T21:19:50.349Z"
   },
   {
    "duration": 15,
    "start_time": "2022-09-26T21:19:56.292Z"
   },
   {
    "duration": 4,
    "start_time": "2022-09-26T21:31:14.584Z"
   },
   {
    "duration": 4,
    "start_time": "2022-09-26T21:31:23.440Z"
   },
   {
    "duration": 3,
    "start_time": "2022-09-26T21:31:28.261Z"
   },
   {
    "duration": 6,
    "start_time": "2022-09-26T21:31:35.596Z"
   },
   {
    "duration": 28,
    "start_time": "2022-09-26T21:31:58.737Z"
   },
   {
    "duration": 3,
    "start_time": "2022-09-26T21:32:53.119Z"
   },
   {
    "duration": 927,
    "start_time": "2022-09-26T21:33:00.791Z"
   },
   {
    "duration": 1390,
    "start_time": "2022-09-26T21:33:20.095Z"
   },
   {
    "duration": 5,
    "start_time": "2022-09-26T21:34:07.523Z"
   },
   {
    "duration": 4,
    "start_time": "2022-09-26T21:34:26.605Z"
   },
   {
    "duration": 5,
    "start_time": "2022-09-26T21:34:43.853Z"
   },
   {
    "duration": 5,
    "start_time": "2022-09-26T21:36:23.895Z"
   },
   {
    "duration": 4,
    "start_time": "2022-09-26T21:36:44.762Z"
   },
   {
    "duration": 4,
    "start_time": "2022-09-26T21:39:25.167Z"
   },
   {
    "duration": 3,
    "start_time": "2022-09-26T21:39:48.002Z"
   },
   {
    "duration": 1357,
    "start_time": "2022-09-26T21:40:01.373Z"
   },
   {
    "duration": 11,
    "start_time": "2022-09-26T21:40:12.332Z"
   },
   {
    "duration": 11,
    "start_time": "2022-09-26T21:40:21.775Z"
   },
   {
    "duration": 3,
    "start_time": "2022-09-26T21:40:49.920Z"
   },
   {
    "duration": 1367,
    "start_time": "2022-09-26T21:41:11.780Z"
   },
   {
    "duration": 11,
    "start_time": "2022-09-26T21:41:20.922Z"
   },
   {
    "duration": 4,
    "start_time": "2022-09-26T21:45:27.778Z"
   },
   {
    "duration": 22,
    "start_time": "2022-09-26T21:45:28.223Z"
   },
   {
    "duration": 4,
    "start_time": "2022-09-26T21:45:29.396Z"
   },
   {
    "duration": 17,
    "start_time": "2022-09-26T21:45:29.800Z"
   },
   {
    "duration": 12,
    "start_time": "2022-09-26T21:46:33.697Z"
   },
   {
    "duration": 5,
    "start_time": "2022-09-26T22:07:03.739Z"
   },
   {
    "duration": 14,
    "start_time": "2022-09-26T22:07:04.153Z"
   },
   {
    "duration": 5,
    "start_time": "2022-09-26T22:33:24.490Z"
   },
   {
    "duration": 11,
    "start_time": "2022-09-26T22:33:32.358Z"
   },
   {
    "duration": 4,
    "start_time": "2022-09-26T22:33:39.507Z"
   },
   {
    "duration": 12,
    "start_time": "2022-09-26T22:33:39.919Z"
   },
   {
    "duration": 3,
    "start_time": "2022-09-26T22:36:43.236Z"
   },
   {
    "duration": 5,
    "start_time": "2022-09-26T22:37:57.683Z"
   },
   {
    "duration": 5,
    "start_time": "2022-09-26T22:38:05.811Z"
   },
   {
    "duration": 4,
    "start_time": "2022-09-26T22:38:12.756Z"
   },
   {
    "duration": 12,
    "start_time": "2022-09-26T22:39:11.864Z"
   },
   {
    "duration": 9,
    "start_time": "2022-09-26T22:40:41.958Z"
   },
   {
    "duration": 14,
    "start_time": "2022-09-26T22:40:47.379Z"
   },
   {
    "duration": 24,
    "start_time": "2022-09-26T22:41:17.037Z"
   },
   {
    "duration": 7,
    "start_time": "2022-09-26T22:41:18.674Z"
   },
   {
    "duration": 13,
    "start_time": "2022-09-26T22:41:19.286Z"
   },
   {
    "duration": 14,
    "start_time": "2022-09-26T22:50:12.606Z"
   },
   {
    "duration": 5,
    "start_time": "2022-09-26T22:51:15.078Z"
   },
   {
    "duration": 15,
    "start_time": "2022-09-26T22:51:15.919Z"
   },
   {
    "duration": 5,
    "start_time": "2022-09-26T22:51:59.348Z"
   },
   {
    "duration": 8,
    "start_time": "2022-09-26T22:51:59.355Z"
   },
   {
    "duration": 53,
    "start_time": "2022-09-26T23:23:27.820Z"
   },
   {
    "duration": 24,
    "start_time": "2022-09-26T23:24:01.543Z"
   },
   {
    "duration": 8,
    "start_time": "2022-09-26T23:24:02.846Z"
   },
   {
    "duration": 5,
    "start_time": "2022-09-26T23:24:04.408Z"
   },
   {
    "duration": 51,
    "start_time": "2022-09-26T23:24:05.182Z"
   },
   {
    "duration": 14,
    "start_time": "2022-09-26T23:24:21.859Z"
   },
   {
    "duration": 52,
    "start_time": "2022-09-26T23:24:51.116Z"
   },
   {
    "duration": 83,
    "start_time": "2022-09-26T23:25:46.168Z"
   },
   {
    "duration": 14,
    "start_time": "2022-09-26T23:25:48.533Z"
   },
   {
    "duration": 15,
    "start_time": "2022-09-26T23:25:54.378Z"
   },
   {
    "duration": 6,
    "start_time": "2022-09-26T23:26:11.915Z"
   },
   {
    "duration": 14,
    "start_time": "2022-09-26T23:26:33.080Z"
   },
   {
    "duration": 5,
    "start_time": "2022-09-26T23:28:07.933Z"
   },
   {
    "duration": 7,
    "start_time": "2022-09-26T23:28:40.529Z"
   },
   {
    "duration": 4,
    "start_time": "2022-09-26T23:29:39.003Z"
   },
   {
    "duration": 84,
    "start_time": "2022-09-26T23:29:39.750Z"
   },
   {
    "duration": 13,
    "start_time": "2022-09-26T23:29:40.958Z"
   },
   {
    "duration": 13,
    "start_time": "2022-09-26T23:29:41.933Z"
   },
   {
    "duration": 7,
    "start_time": "2022-09-26T23:29:44.411Z"
   },
   {
    "duration": 6,
    "start_time": "2022-09-26T23:30:04.943Z"
   },
   {
    "duration": 72,
    "start_time": "2022-09-26T23:30:05.340Z"
   },
   {
    "duration": 14,
    "start_time": "2022-09-26T23:30:05.761Z"
   },
   {
    "duration": 14,
    "start_time": "2022-09-26T23:30:06.337Z"
   },
   {
    "duration": 7,
    "start_time": "2022-09-26T23:30:08.018Z"
   },
   {
    "duration": 4,
    "start_time": "2022-09-26T23:30:54.672Z"
   },
   {
    "duration": 78,
    "start_time": "2022-09-26T23:30:55.087Z"
   },
   {
    "duration": 13,
    "start_time": "2022-09-26T23:30:55.425Z"
   },
   {
    "duration": 13,
    "start_time": "2022-09-26T23:30:55.947Z"
   },
   {
    "duration": 8,
    "start_time": "2022-09-26T23:30:56.832Z"
   },
   {
    "duration": 7,
    "start_time": "2022-09-26T23:33:22.542Z"
   },
   {
    "duration": 13,
    "start_time": "2022-09-26T23:33:34.566Z"
   },
   {
    "duration": 5,
    "start_time": "2022-09-26T23:35:10.991Z"
   },
   {
    "duration": 8,
    "start_time": "2022-09-26T23:35:14.734Z"
   },
   {
    "duration": 4,
    "start_time": "2022-09-26T23:37:25.334Z"
   },
   {
    "duration": 5,
    "start_time": "2022-09-26T23:37:30.033Z"
   },
   {
    "duration": 6,
    "start_time": "2022-09-26T23:37:55.188Z"
   },
   {
    "duration": 7,
    "start_time": "2022-09-26T23:38:01.370Z"
   },
   {
    "duration": 8,
    "start_time": "2022-09-26T23:38:06.818Z"
   },
   {
    "duration": 44,
    "start_time": "2022-09-26T23:38:27.083Z"
   },
   {
    "duration": 5,
    "start_time": "2022-09-26T23:38:32.206Z"
   },
   {
    "duration": 7,
    "start_time": "2022-09-26T23:38:32.595Z"
   },
   {
    "duration": 2,
    "start_time": "2022-09-26T23:42:02.949Z"
   },
   {
    "duration": 4,
    "start_time": "2022-09-26T23:42:09.708Z"
   },
   {
    "duration": 50,
    "start_time": "2022-09-26T23:42:49.221Z"
   },
   {
    "duration": 41,
    "start_time": "2022-09-26T23:43:20.101Z"
   },
   {
    "duration": 4,
    "start_time": "2022-09-26T23:43:52.233Z"
   },
   {
    "duration": 12,
    "start_time": "2022-09-26T23:44:17.306Z"
   },
   {
    "duration": 9,
    "start_time": "2022-09-26T23:45:24.601Z"
   },
   {
    "duration": 12,
    "start_time": "2022-09-26T23:45:31.003Z"
   },
   {
    "duration": 15,
    "start_time": "2022-09-26T23:45:58.888Z"
   },
   {
    "duration": 15,
    "start_time": "2022-09-26T23:48:47.652Z"
   },
   {
    "duration": 16,
    "start_time": "2022-09-26T23:49:28.806Z"
   },
   {
    "duration": 77,
    "start_time": "2022-09-26T23:49:38.166Z"
   },
   {
    "duration": 5,
    "start_time": "2022-09-26T23:49:53.200Z"
   },
   {
    "duration": 77,
    "start_time": "2022-09-26T23:49:53.594Z"
   },
   {
    "duration": 15,
    "start_time": "2022-09-26T23:49:54.018Z"
   },
   {
    "duration": 14,
    "start_time": "2022-09-26T23:49:54.590Z"
   },
   {
    "duration": 47,
    "start_time": "2022-09-26T23:49:55.814Z"
   },
   {
    "duration": 5,
    "start_time": "2022-09-26T23:50:27.337Z"
   },
   {
    "duration": 78,
    "start_time": "2022-09-26T23:50:27.640Z"
   },
   {
    "duration": 15,
    "start_time": "2022-09-26T23:50:28.089Z"
   },
   {
    "duration": 15,
    "start_time": "2022-09-26T23:50:28.547Z"
   },
   {
    "duration": 71,
    "start_time": "2022-09-26T23:50:29.170Z"
   },
   {
    "duration": 27,
    "start_time": "2022-09-26T23:51:43.990Z"
   },
   {
    "duration": 23,
    "start_time": "2022-09-26T23:51:55.010Z"
   },
   {
    "duration": 12,
    "start_time": "2022-09-26T23:52:24.083Z"
   },
   {
    "duration": 10,
    "start_time": "2022-09-26T23:53:18.746Z"
   },
   {
    "duration": 23,
    "start_time": "2022-09-26T23:53:22.816Z"
   },
   {
    "duration": 8,
    "start_time": "2022-09-26T23:53:27.759Z"
   },
   {
    "duration": 4,
    "start_time": "2022-09-26T23:53:31.302Z"
   },
   {
    "duration": 28,
    "start_time": "2022-09-26T23:53:32.427Z"
   },
   {
    "duration": 18,
    "start_time": "2022-09-26T23:55:29.614Z"
   },
   {
    "duration": 24,
    "start_time": "2022-09-26T23:55:34.545Z"
   },
   {
    "duration": 8,
    "start_time": "2022-09-26T23:55:39.612Z"
   },
   {
    "duration": 5,
    "start_time": "2022-09-26T23:55:40.585Z"
   },
   {
    "duration": 93,
    "start_time": "2022-09-26T23:55:41.175Z"
   },
   {
    "duration": 18,
    "start_time": "2022-09-26T23:55:42.949Z"
   },
   {
    "duration": 19,
    "start_time": "2022-09-26T23:55:47.972Z"
   },
   {
    "duration": 5,
    "start_time": "2022-09-26T23:56:32.810Z"
   },
   {
    "duration": 77,
    "start_time": "2022-09-26T23:56:33.136Z"
   },
   {
    "duration": 16,
    "start_time": "2022-09-26T23:56:33.586Z"
   },
   {
    "duration": 19,
    "start_time": "2022-09-26T23:56:34.128Z"
   },
   {
    "duration": 4,
    "start_time": "2022-09-26T23:57:20.032Z"
   },
   {
    "duration": 83,
    "start_time": "2022-09-26T23:57:20.537Z"
   },
   {
    "duration": 16,
    "start_time": "2022-09-26T23:57:21.082Z"
   },
   {
    "duration": 14,
    "start_time": "2022-09-26T23:57:25.965Z"
   },
   {
    "duration": 1588,
    "start_time": "2022-09-26T23:57:47.979Z"
   },
   {
    "duration": 8,
    "start_time": "2022-09-26T23:57:59.870Z"
   },
   {
    "duration": 26,
    "start_time": "2022-09-26T23:58:01.659Z"
   },
   {
    "duration": 8,
    "start_time": "2022-09-26T23:58:02.131Z"
   },
   {
    "duration": 7,
    "start_time": "2022-09-26T23:58:02.652Z"
   },
   {
    "duration": 70,
    "start_time": "2022-09-26T23:58:03.091Z"
   },
   {
    "duration": 22,
    "start_time": "2022-09-26T23:58:03.578Z"
   },
   {
    "duration": 19,
    "start_time": "2022-09-26T23:58:04.177Z"
   },
   {
    "duration": 1467,
    "start_time": "2022-09-26T23:58:18.524Z"
   },
   {
    "duration": 24,
    "start_time": "2022-09-26T23:59:55.558Z"
   },
   {
    "duration": 1826,
    "start_time": "2022-09-27T00:00:11.562Z"
   },
   {
    "duration": 69,
    "start_time": "2022-09-27T00:00:13.390Z"
   },
   {
    "duration": 18,
    "start_time": "2022-09-27T00:00:13.461Z"
   },
   {
    "duration": 82,
    "start_time": "2022-09-27T00:00:13.482Z"
   },
   {
    "duration": 14,
    "start_time": "2022-09-27T00:00:13.566Z"
   },
   {
    "duration": 52,
    "start_time": "2022-09-27T00:00:13.582Z"
   },
   {
    "duration": 25,
    "start_time": "2022-09-27T00:00:13.636Z"
   },
   {
    "duration": 79,
    "start_time": "2022-09-27T00:00:13.663Z"
   },
   {
    "duration": 4,
    "start_time": "2022-09-27T00:00:13.744Z"
   },
   {
    "duration": 21,
    "start_time": "2022-09-27T00:00:13.751Z"
   },
   {
    "duration": 29,
    "start_time": "2022-09-27T00:00:13.774Z"
   },
   {
    "duration": 25,
    "start_time": "2022-09-27T00:00:13.805Z"
   },
   {
    "duration": 17,
    "start_time": "2022-09-27T00:00:13.832Z"
   },
   {
    "duration": 174,
    "start_time": "2022-09-27T00:00:13.851Z"
   },
   {
    "duration": 11,
    "start_time": "2022-09-27T00:00:14.027Z"
   },
   {
    "duration": 38,
    "start_time": "2022-09-27T00:00:14.040Z"
   },
   {
    "duration": 36,
    "start_time": "2022-09-27T00:00:14.079Z"
   },
   {
    "duration": 41,
    "start_time": "2022-09-27T00:00:14.117Z"
   },
   {
    "duration": 31,
    "start_time": "2022-09-27T00:00:14.160Z"
   },
   {
    "duration": 12,
    "start_time": "2022-09-27T00:00:14.193Z"
   },
   {
    "duration": 39,
    "start_time": "2022-09-27T00:00:14.207Z"
   },
   {
    "duration": 8,
    "start_time": "2022-09-27T00:00:14.248Z"
   },
   {
    "duration": 117,
    "start_time": "2022-09-27T00:00:14.257Z"
   },
   {
    "duration": 4,
    "start_time": "2022-09-27T00:00:14.375Z"
   },
   {
    "duration": 742,
    "start_time": "2022-09-27T00:00:14.381Z"
   },
   {
    "duration": 7,
    "start_time": "2022-09-27T00:00:15.126Z"
   },
   {
    "duration": 19925,
    "start_time": "2022-09-27T00:00:15.135Z"
   },
   {
    "duration": 9732,
    "start_time": "2022-09-27T00:00:35.065Z"
   },
   {
    "duration": 17163,
    "start_time": "2022-09-27T00:00:44.799Z"
   },
   {
    "duration": 5,
    "start_time": "2022-09-27T00:01:01.964Z"
   },
   {
    "duration": 2556,
    "start_time": "2022-09-27T00:01:01.970Z"
   },
   {
    "duration": 8,
    "start_time": "2022-09-27T00:01:04.528Z"
   },
   {
    "duration": 84,
    "start_time": "2022-09-27T00:01:04.538Z"
   },
   {
    "duration": 3589,
    "start_time": "2022-09-27T00:01:04.624Z"
   },
   {
    "duration": 5,
    "start_time": "2022-09-27T00:01:08.215Z"
   },
   {
    "duration": 4166,
    "start_time": "2022-09-27T00:01:08.222Z"
   },
   {
    "duration": 574,
    "start_time": "2022-09-27T00:01:12.390Z"
   },
   {
    "duration": 928,
    "start_time": "2022-09-27T00:01:12.966Z"
   },
   {
    "duration": 2498,
    "start_time": "2022-09-27T00:01:13.896Z"
   },
   {
    "duration": 43,
    "start_time": "2022-09-27T00:01:16.396Z"
   },
   {
    "duration": 6,
    "start_time": "2022-09-27T00:01:16.441Z"
   },
   {
    "duration": 27,
    "start_time": "2022-09-27T00:01:16.449Z"
   },
   {
    "duration": 46,
    "start_time": "2022-09-27T00:01:16.521Z"
   },
   {
    "duration": 13,
    "start_time": "2022-09-27T00:01:16.568Z"
   },
   {
    "duration": 512,
    "start_time": "2022-09-27T00:01:16.583Z"
   },
   {
    "duration": 904,
    "start_time": "2022-09-27T00:01:17.097Z"
   },
   {
    "duration": 45,
    "start_time": "2022-09-27T00:01:18.003Z"
   },
   {
    "duration": 417,
    "start_time": "2022-09-27T00:01:18.050Z"
   },
   {
    "duration": 1042,
    "start_time": "2022-09-27T00:01:18.469Z"
   },
   {
    "duration": 5,
    "start_time": "2022-09-27T00:01:19.512Z"
   },
   {
    "duration": 1503,
    "start_time": "2022-09-27T00:01:19.521Z"
   },
   {
    "duration": 24,
    "start_time": "2022-09-27T00:01:21.026Z"
   },
   {
    "duration": 8,
    "start_time": "2022-09-27T00:01:21.052Z"
   },
   {
    "duration": 31,
    "start_time": "2022-09-27T00:01:21.062Z"
   },
   {
    "duration": 85,
    "start_time": "2022-09-27T00:01:21.095Z"
   },
   {
    "duration": 15,
    "start_time": "2022-09-27T00:01:21.182Z"
   },
   {
    "duration": 30,
    "start_time": "2022-09-27T00:01:21.198Z"
   },
   {
    "duration": 3,
    "start_time": "2022-09-27T00:01:21.230Z"
   },
   {
    "duration": 9,
    "start_time": "2022-09-27T00:01:21.234Z"
   },
   {
    "duration": 22,
    "start_time": "2022-09-27T00:01:21.245Z"
   },
   {
    "duration": 11,
    "start_time": "2022-09-27T00:01:21.268Z"
   },
   {
    "duration": 25,
    "start_time": "2022-09-27T00:01:21.280Z"
   },
   {
    "duration": 17,
    "start_time": "2022-09-27T00:01:21.307Z"
   },
   {
    "duration": 185,
    "start_time": "2022-09-27T00:01:21.325Z"
   },
   {
    "duration": 0,
    "start_time": "2022-09-27T00:01:21.512Z"
   },
   {
    "duration": 0,
    "start_time": "2022-09-27T00:01:21.514Z"
   },
   {
    "duration": 6,
    "start_time": "2022-09-27T00:28:27.779Z"
   },
   {
    "duration": 75,
    "start_time": "2022-09-27T00:28:29.632Z"
   },
   {
    "duration": 14,
    "start_time": "2022-09-27T00:28:30.698Z"
   },
   {
    "duration": 15,
    "start_time": "2022-09-27T00:28:35.375Z"
   },
   {
    "duration": 4,
    "start_time": "2022-09-27T00:28:43.125Z"
   },
   {
    "duration": 77,
    "start_time": "2022-09-27T00:28:43.819Z"
   },
   {
    "duration": 14,
    "start_time": "2022-09-27T00:28:44.347Z"
   },
   {
    "duration": 14,
    "start_time": "2022-09-27T00:28:45.244Z"
   },
   {
    "duration": 5,
    "start_time": "2022-09-27T00:28:59.652Z"
   },
   {
    "duration": 81,
    "start_time": "2022-09-27T00:28:59.915Z"
   },
   {
    "duration": 15,
    "start_time": "2022-09-27T00:29:00.135Z"
   },
   {
    "duration": 15,
    "start_time": "2022-09-27T00:29:00.353Z"
   },
   {
    "duration": 66,
    "start_time": "2022-09-27T00:29:34.671Z"
   },
   {
    "duration": 15,
    "start_time": "2022-09-27T00:29:35.085Z"
   },
   {
    "duration": 14,
    "start_time": "2022-09-27T00:29:35.859Z"
   },
   {
    "duration": 6,
    "start_time": "2022-09-27T00:30:13.777Z"
   },
   {
    "duration": 82,
    "start_time": "2022-09-27T00:30:14.033Z"
   },
   {
    "duration": 15,
    "start_time": "2022-09-27T00:30:14.231Z"
   },
   {
    "duration": 15,
    "start_time": "2022-09-27T00:30:14.438Z"
   },
   {
    "duration": 4,
    "start_time": "2022-09-27T00:30:30.454Z"
   },
   {
    "duration": 78,
    "start_time": "2022-09-27T00:30:30.990Z"
   },
   {
    "duration": 14,
    "start_time": "2022-09-27T00:30:31.252Z"
   },
   {
    "duration": 14,
    "start_time": "2022-09-27T00:30:31.399Z"
   },
   {
    "duration": 22,
    "start_time": "2022-09-27T00:30:45.557Z"
   },
   {
    "duration": 7,
    "start_time": "2022-09-27T00:30:46.122Z"
   },
   {
    "duration": 5,
    "start_time": "2022-09-27T00:30:46.641Z"
   },
   {
    "duration": 82,
    "start_time": "2022-09-27T00:30:47.119Z"
   },
   {
    "duration": 14,
    "start_time": "2022-09-27T00:30:47.582Z"
   },
   {
    "duration": 15,
    "start_time": "2022-09-27T00:30:48.058Z"
   },
   {
    "duration": 5,
    "start_time": "2022-09-27T00:30:56.437Z"
   },
   {
    "duration": 82,
    "start_time": "2022-09-27T00:30:56.812Z"
   },
   {
    "duration": 14,
    "start_time": "2022-09-27T00:30:57.347Z"
   },
   {
    "duration": 14,
    "start_time": "2022-09-27T00:30:57.777Z"
   },
   {
    "duration": 4,
    "start_time": "2022-09-27T00:31:42.886Z"
   },
   {
    "duration": 82,
    "start_time": "2022-09-27T00:31:43.157Z"
   },
   {
    "duration": 15,
    "start_time": "2022-09-27T00:31:43.392Z"
   },
   {
    "duration": 14,
    "start_time": "2022-09-27T00:31:43.946Z"
   },
   {
    "duration": 5,
    "start_time": "2022-09-27T00:32:13.552Z"
   },
   {
    "duration": 74,
    "start_time": "2022-09-27T00:32:14.021Z"
   },
   {
    "duration": 15,
    "start_time": "2022-09-27T00:32:14.507Z"
   },
   {
    "duration": 14,
    "start_time": "2022-09-27T00:32:15.285Z"
   },
   {
    "duration": 15,
    "start_time": "2022-09-27T00:32:19.292Z"
   },
   {
    "duration": 5,
    "start_time": "2022-09-27T00:32:37.541Z"
   },
   {
    "duration": 53,
    "start_time": "2022-09-27T00:32:37.996Z"
   },
   {
    "duration": 14,
    "start_time": "2022-09-27T00:32:38.289Z"
   },
   {
    "duration": 14,
    "start_time": "2022-09-27T00:32:38.824Z"
   },
   {
    "duration": 5,
    "start_time": "2022-09-27T00:34:02.103Z"
   },
   {
    "duration": 92,
    "start_time": "2022-09-27T00:34:02.437Z"
   },
   {
    "duration": 15,
    "start_time": "2022-09-27T00:34:03.028Z"
   },
   {
    "duration": 14,
    "start_time": "2022-09-27T00:34:03.941Z"
   },
   {
    "duration": 5,
    "start_time": "2022-09-27T00:34:16.982Z"
   },
   {
    "duration": 73,
    "start_time": "2022-09-27T00:34:17.344Z"
   },
   {
    "duration": 16,
    "start_time": "2022-09-27T00:34:17.825Z"
   },
   {
    "duration": 14,
    "start_time": "2022-09-27T00:34:18.560Z"
   },
   {
    "duration": 13,
    "start_time": "2022-09-27T00:38:06.583Z"
   },
   {
    "duration": 4,
    "start_time": "2022-09-27T00:38:07.514Z"
   },
   {
    "duration": 73,
    "start_time": "2022-09-27T00:38:08.044Z"
   },
   {
    "duration": 24,
    "start_time": "2022-09-27T00:38:08.913Z"
   },
   {
    "duration": 14,
    "start_time": "2022-09-27T00:38:18.485Z"
   },
   {
    "duration": 19,
    "start_time": "2022-09-27T00:40:49.003Z"
   },
   {
    "duration": 11,
    "start_time": "2022-09-27T00:41:04.034Z"
   },
   {
    "duration": 27,
    "start_time": "2022-09-27T00:41:31.332Z"
   },
   {
    "duration": 12,
    "start_time": "2022-09-27T00:42:18.108Z"
   },
   {
    "duration": 27,
    "start_time": "2022-09-27T00:42:33.057Z"
   },
   {
    "duration": 29,
    "start_time": "2022-09-27T00:42:36.857Z"
   },
   {
    "duration": 27,
    "start_time": "2022-09-27T00:42:41.245Z"
   },
   {
    "duration": 39,
    "start_time": "2022-09-27T00:43:01.991Z"
   },
   {
    "duration": 36,
    "start_time": "2022-09-27T00:43:18.129Z"
   },
   {
    "duration": 17,
    "start_time": "2022-09-27T00:43:45.060Z"
   },
   {
    "duration": 37,
    "start_time": "2022-09-27T00:45:00.685Z"
   },
   {
    "duration": 21,
    "start_time": "2022-09-27T00:48:43.250Z"
   },
   {
    "duration": 21,
    "start_time": "2022-09-27T00:49:11.448Z"
   },
   {
    "duration": 29,
    "start_time": "2022-09-27T00:50:43.803Z"
   },
   {
    "duration": 37,
    "start_time": "2022-09-27T00:52:21.495Z"
   },
   {
    "duration": 11,
    "start_time": "2022-09-27T00:53:01.500Z"
   },
   {
    "duration": 37,
    "start_time": "2022-09-27T00:54:13.750Z"
   },
   {
    "duration": 9,
    "start_time": "2022-09-27T00:54:55.297Z"
   },
   {
    "duration": 12,
    "start_time": "2022-09-27T00:55:00.910Z"
   },
   {
    "duration": 6,
    "start_time": "2022-09-27T00:55:06.286Z"
   },
   {
    "duration": 16,
    "start_time": "2022-09-27T00:55:19.682Z"
   },
   {
    "duration": 36,
    "start_time": "2022-09-27T00:55:54.401Z"
   },
   {
    "duration": 35,
    "start_time": "2022-09-27T00:56:52.372Z"
   },
   {
    "duration": 33,
    "start_time": "2022-09-27T00:56:59.013Z"
   },
   {
    "duration": 41,
    "start_time": "2022-09-27T00:57:26.842Z"
   },
   {
    "duration": 11,
    "start_time": "2022-09-27T00:57:40.648Z"
   },
   {
    "duration": 11,
    "start_time": "2022-09-27T00:57:43.241Z"
   },
   {
    "duration": 11,
    "start_time": "2022-09-27T00:57:45.975Z"
   },
   {
    "duration": 7,
    "start_time": "2022-09-27T00:58:03.405Z"
   },
   {
    "duration": 12,
    "start_time": "2022-09-27T00:58:14.380Z"
   },
   {
    "duration": 39,
    "start_time": "2022-09-27T01:02:49.783Z"
   },
   {
    "duration": 40,
    "start_time": "2022-09-27T01:02:53.871Z"
   },
   {
    "duration": 44,
    "start_time": "2022-09-27T01:04:06.916Z"
   },
   {
    "duration": 41,
    "start_time": "2022-09-27T01:04:56.871Z"
   },
   {
    "duration": 40,
    "start_time": "2022-09-27T01:05:04.643Z"
   },
   {
    "duration": 39,
    "start_time": "2022-09-27T01:05:16.934Z"
   },
   {
    "duration": 41,
    "start_time": "2022-09-27T01:05:31.230Z"
   },
   {
    "duration": 42,
    "start_time": "2022-09-27T01:06:02.471Z"
   },
   {
    "duration": 8,
    "start_time": "2022-09-27T01:06:05.299Z"
   },
   {
    "duration": 283,
    "start_time": "2022-09-27T01:06:39.683Z"
   },
   {
    "duration": 920,
    "start_time": "2022-09-27T01:06:50.462Z"
   },
   {
    "duration": 5,
    "start_time": "2022-09-27T01:09:53.965Z"
   },
   {
    "duration": 462,
    "start_time": "2022-09-27T01:09:54.644Z"
   },
   {
    "duration": 5,
    "start_time": "2022-09-27T01:10:47.153Z"
   },
   {
    "duration": 1041,
    "start_time": "2022-09-27T01:10:48.649Z"
   },
   {
    "duration": 5,
    "start_time": "2022-09-27T01:11:20.673Z"
   },
   {
    "duration": 462,
    "start_time": "2022-09-27T01:11:21.067Z"
   },
   {
    "duration": 4,
    "start_time": "2022-09-27T01:11:27.176Z"
   },
   {
    "duration": 1065,
    "start_time": "2022-09-27T01:11:27.679Z"
   },
   {
    "duration": 4,
    "start_time": "2022-09-27T01:11:59.021Z"
   },
   {
    "duration": 1155,
    "start_time": "2022-09-27T01:12:00.824Z"
   },
   {
    "duration": 4,
    "start_time": "2022-09-27T01:12:17.700Z"
   },
   {
    "duration": 1053,
    "start_time": "2022-09-27T01:12:18.156Z"
   },
   {
    "duration": 18,
    "start_time": "2022-09-27T01:12:39.159Z"
   },
   {
    "duration": 23,
    "start_time": "2022-09-27T01:12:48.652Z"
   },
   {
    "duration": 7,
    "start_time": "2022-09-27T01:13:16.314Z"
   },
   {
    "duration": 5,
    "start_time": "2022-09-27T01:13:17.258Z"
   },
   {
    "duration": 85,
    "start_time": "2022-09-27T01:13:17.681Z"
   },
   {
    "duration": 16,
    "start_time": "2022-09-27T01:13:18.290Z"
   },
   {
    "duration": 15,
    "start_time": "2022-09-27T01:13:21.984Z"
   },
   {
    "duration": 34,
    "start_time": "2022-09-27T01:13:44.885Z"
   },
   {
    "duration": 27,
    "start_time": "2022-09-27T01:13:54.690Z"
   },
   {
    "duration": 25,
    "start_time": "2022-09-27T01:14:01.856Z"
   },
   {
    "duration": 10,
    "start_time": "2022-09-27T01:14:35.172Z"
   },
   {
    "duration": 10,
    "start_time": "2022-09-27T01:15:01.777Z"
   },
   {
    "duration": 6,
    "start_time": "2022-09-27T01:15:04.324Z"
   },
   {
    "duration": 28,
    "start_time": "2022-09-27T01:17:40.704Z"
   },
   {
    "duration": 23,
    "start_time": "2022-09-27T01:20:37.017Z"
   },
   {
    "duration": 23,
    "start_time": "2022-09-27T01:20:58.682Z"
   },
   {
    "duration": 866,
    "start_time": "2022-09-27T01:26:16.610Z"
   },
   {
    "duration": 18,
    "start_time": "2022-09-27T01:26:17.577Z"
   },
   {
    "duration": 705,
    "start_time": "2022-09-27T01:26:25.913Z"
   },
   {
    "duration": 0,
    "start_time": "2022-09-27T01:26:26.620Z"
   },
   {
    "duration": 12,
    "start_time": "2022-09-27T01:27:10.360Z"
   },
   {
    "duration": 1142,
    "start_time": "2022-09-27T01:27:44.037Z"
   },
   {
    "duration": 1786,
    "start_time": "2022-09-27T01:27:50.891Z"
   },
   {
    "duration": 70,
    "start_time": "2022-09-27T01:27:52.680Z"
   },
   {
    "duration": 17,
    "start_time": "2022-09-27T01:27:52.752Z"
   },
   {
    "duration": 78,
    "start_time": "2022-09-27T01:27:52.771Z"
   },
   {
    "duration": 10,
    "start_time": "2022-09-27T01:27:52.851Z"
   },
   {
    "duration": 17,
    "start_time": "2022-09-27T01:27:52.863Z"
   },
   {
    "duration": 42,
    "start_time": "2022-09-27T01:27:52.882Z"
   },
   {
    "duration": 46,
    "start_time": "2022-09-27T01:27:52.926Z"
   },
   {
    "duration": 4,
    "start_time": "2022-09-27T01:27:52.974Z"
   },
   {
    "duration": 46,
    "start_time": "2022-09-27T01:27:52.979Z"
   },
   {
    "duration": 10,
    "start_time": "2022-09-27T01:27:53.027Z"
   },
   {
    "duration": 10,
    "start_time": "2022-09-27T01:27:53.039Z"
   },
   {
    "duration": 11,
    "start_time": "2022-09-27T01:27:53.051Z"
   },
   {
    "duration": 176,
    "start_time": "2022-09-27T01:27:53.066Z"
   },
   {
    "duration": 11,
    "start_time": "2022-09-27T01:27:53.244Z"
   },
   {
    "duration": 5,
    "start_time": "2022-09-27T01:27:53.257Z"
   },
   {
    "duration": 18,
    "start_time": "2022-09-27T01:27:53.263Z"
   },
   {
    "duration": 17,
    "start_time": "2022-09-27T01:27:53.283Z"
   },
   {
    "duration": 36,
    "start_time": "2022-09-27T01:27:53.302Z"
   },
   {
    "duration": 12,
    "start_time": "2022-09-27T01:27:53.340Z"
   },
   {
    "duration": 26,
    "start_time": "2022-09-27T01:27:53.353Z"
   },
   {
    "duration": 8,
    "start_time": "2022-09-27T01:27:53.381Z"
   },
   {
    "duration": 136,
    "start_time": "2022-09-27T01:27:53.390Z"
   },
   {
    "duration": 3,
    "start_time": "2022-09-27T01:27:53.528Z"
   },
   {
    "duration": 718,
    "start_time": "2022-09-27T01:27:53.533Z"
   },
   {
    "duration": 7,
    "start_time": "2022-09-27T01:27:54.254Z"
   },
   {
    "duration": 19839,
    "start_time": "2022-09-27T01:27:54.263Z"
   },
   {
    "duration": 9717,
    "start_time": "2022-09-27T01:28:14.104Z"
   },
   {
    "duration": 11785,
    "start_time": "2022-09-27T01:28:23.823Z"
   },
   {
    "duration": 5,
    "start_time": "2022-09-27T01:28:35.610Z"
   },
   {
    "duration": 2173,
    "start_time": "2022-09-27T01:28:35.617Z"
   },
   {
    "duration": 7,
    "start_time": "2022-09-27T01:28:37.792Z"
   },
   {
    "duration": 52,
    "start_time": "2022-09-27T01:28:37.801Z"
   },
   {
    "duration": 3914,
    "start_time": "2022-09-27T01:28:37.855Z"
   },
   {
    "duration": 5,
    "start_time": "2022-09-27T01:28:41.771Z"
   },
   {
    "duration": 3768,
    "start_time": "2022-09-27T01:28:41.778Z"
   },
   {
    "duration": 623,
    "start_time": "2022-09-27T01:28:45.548Z"
   },
   {
    "duration": 917,
    "start_time": "2022-09-27T01:28:46.173Z"
   },
   {
    "duration": 2459,
    "start_time": "2022-09-27T01:28:47.092Z"
   },
   {
    "duration": 31,
    "start_time": "2022-09-27T01:28:49.553Z"
   },
   {
    "duration": 7,
    "start_time": "2022-09-27T01:28:49.620Z"
   },
   {
    "duration": 33,
    "start_time": "2022-09-27T01:28:49.629Z"
   },
   {
    "duration": 55,
    "start_time": "2022-09-27T01:28:49.664Z"
   },
   {
    "duration": 11,
    "start_time": "2022-09-27T01:28:49.721Z"
   },
   {
    "duration": 482,
    "start_time": "2022-09-27T01:28:49.733Z"
   },
   {
    "duration": 861,
    "start_time": "2022-09-27T01:28:50.221Z"
   },
   {
    "duration": 51,
    "start_time": "2022-09-27T01:28:51.084Z"
   },
   {
    "duration": 404,
    "start_time": "2022-09-27T01:28:51.137Z"
   },
   {
    "duration": 992,
    "start_time": "2022-09-27T01:28:51.542Z"
   },
   {
    "duration": 5,
    "start_time": "2022-09-27T01:28:52.535Z"
   },
   {
    "duration": 1115,
    "start_time": "2022-09-27T01:28:52.542Z"
   },
   {
    "duration": 23,
    "start_time": "2022-09-27T01:28:53.659Z"
   },
   {
    "duration": 16,
    "start_time": "2022-09-27T01:28:53.684Z"
   },
   {
    "duration": 25,
    "start_time": "2022-09-27T01:28:53.701Z"
   },
   {
    "duration": 111,
    "start_time": "2022-09-27T01:28:53.728Z"
   },
   {
    "duration": 28,
    "start_time": "2022-09-27T01:28:53.841Z"
   },
   {
    "duration": 13,
    "start_time": "2022-09-27T01:28:53.871Z"
   },
   {
    "duration": 17,
    "start_time": "2022-09-27T01:28:53.885Z"
   },
   {
    "duration": 39,
    "start_time": "2022-09-27T01:28:53.904Z"
   },
   {
    "duration": 21,
    "start_time": "2022-09-27T01:28:53.945Z"
   },
   {
    "duration": 23,
    "start_time": "2022-09-27T01:28:53.968Z"
   },
   {
    "duration": 48,
    "start_time": "2022-09-27T01:28:53.993Z"
   },
   {
    "duration": 16,
    "start_time": "2022-09-27T01:28:54.043Z"
   },
   {
    "duration": 40,
    "start_time": "2022-09-27T01:28:54.060Z"
   },
   {
    "duration": 26,
    "start_time": "2022-09-27T01:28:54.102Z"
   },
   {
    "duration": 28,
    "start_time": "2022-09-27T01:28:54.129Z"
   },
   {
    "duration": 30,
    "start_time": "2022-09-27T01:28:54.158Z"
   },
   {
    "duration": 1737,
    "start_time": "2022-09-27T01:35:47.116Z"
   },
   {
    "duration": 78,
    "start_time": "2022-09-27T01:35:48.856Z"
   },
   {
    "duration": 22,
    "start_time": "2022-09-27T01:35:48.936Z"
   },
   {
    "duration": 79,
    "start_time": "2022-09-27T01:35:48.960Z"
   },
   {
    "duration": 13,
    "start_time": "2022-09-27T01:35:49.040Z"
   },
   {
    "duration": 22,
    "start_time": "2022-09-27T01:35:49.055Z"
   },
   {
    "duration": 45,
    "start_time": "2022-09-27T01:35:49.079Z"
   },
   {
    "duration": 53,
    "start_time": "2022-09-27T01:35:49.126Z"
   },
   {
    "duration": 41,
    "start_time": "2022-09-27T01:35:49.181Z"
   },
   {
    "duration": 13,
    "start_time": "2022-09-27T01:35:49.226Z"
   },
   {
    "duration": 12,
    "start_time": "2022-09-27T01:35:49.241Z"
   },
   {
    "duration": 5,
    "start_time": "2022-09-27T01:35:49.255Z"
   },
   {
    "duration": 10,
    "start_time": "2022-09-27T01:35:49.262Z"
   },
   {
    "duration": 185,
    "start_time": "2022-09-27T01:35:49.274Z"
   },
   {
    "duration": 12,
    "start_time": "2022-09-27T01:35:49.462Z"
   },
   {
    "duration": 7,
    "start_time": "2022-09-27T01:35:49.476Z"
   },
   {
    "duration": 6,
    "start_time": "2022-09-27T01:35:49.484Z"
   },
   {
    "duration": 34,
    "start_time": "2022-09-27T01:35:49.491Z"
   },
   {
    "duration": 25,
    "start_time": "2022-09-27T01:35:49.527Z"
   },
   {
    "duration": 13,
    "start_time": "2022-09-27T01:35:49.554Z"
   },
   {
    "duration": 52,
    "start_time": "2022-09-27T01:35:49.569Z"
   },
   {
    "duration": 8,
    "start_time": "2022-09-27T01:35:49.623Z"
   },
   {
    "duration": 126,
    "start_time": "2022-09-27T01:35:49.633Z"
   },
   {
    "duration": 3,
    "start_time": "2022-09-27T01:35:49.761Z"
   },
   {
    "duration": 709,
    "start_time": "2022-09-27T01:35:49.766Z"
   },
   {
    "duration": 9,
    "start_time": "2022-09-27T01:35:50.478Z"
   },
   {
    "duration": 19775,
    "start_time": "2022-09-27T01:35:50.488Z"
   },
   {
    "duration": 9712,
    "start_time": "2022-09-27T01:36:10.267Z"
   },
   {
    "duration": 11785,
    "start_time": "2022-09-27T01:36:19.980Z"
   },
   {
    "duration": 4,
    "start_time": "2022-09-27T01:36:31.767Z"
   },
   {
    "duration": 2084,
    "start_time": "2022-09-27T01:36:31.772Z"
   },
   {
    "duration": 8,
    "start_time": "2022-09-27T01:36:33.858Z"
   },
   {
    "duration": 57,
    "start_time": "2022-09-27T01:36:33.868Z"
   },
   {
    "duration": 596,
    "start_time": "2022-09-27T01:36:33.927Z"
   },
   {
    "duration": 5,
    "start_time": "2022-09-27T01:36:34.525Z"
   },
   {
    "duration": 1181,
    "start_time": "2022-09-27T01:36:34.531Z"
   },
   {
    "duration": 607,
    "start_time": "2022-09-27T01:36:35.713Z"
   },
   {
    "duration": 908,
    "start_time": "2022-09-27T01:36:36.322Z"
   },
   {
    "duration": 2220,
    "start_time": "2022-09-27T01:36:37.232Z"
   },
   {
    "duration": 31,
    "start_time": "2022-09-27T01:36:39.454Z"
   },
   {
    "duration": 40,
    "start_time": "2022-09-27T01:36:39.486Z"
   },
   {
    "duration": 40,
    "start_time": "2022-09-27T01:36:39.528Z"
   },
   {
    "duration": 48,
    "start_time": "2022-09-27T01:36:39.569Z"
   },
   {
    "duration": 10,
    "start_time": "2022-09-27T01:36:39.621Z"
   },
   {
    "duration": 479,
    "start_time": "2022-09-27T01:36:39.633Z"
   },
   {
    "duration": 831,
    "start_time": "2022-09-27T01:36:40.121Z"
   },
   {
    "duration": 41,
    "start_time": "2022-09-27T01:36:40.954Z"
   },
   {
    "duration": 415,
    "start_time": "2022-09-27T01:36:40.997Z"
   },
   {
    "duration": 1017,
    "start_time": "2022-09-27T01:36:41.414Z"
   },
   {
    "duration": 5,
    "start_time": "2022-09-27T01:36:42.433Z"
   },
   {
    "duration": 1027,
    "start_time": "2022-09-27T01:36:42.440Z"
   },
   {
    "duration": 23,
    "start_time": "2022-09-27T01:36:43.470Z"
   },
   {
    "duration": 26,
    "start_time": "2022-09-27T01:36:43.495Z"
   },
   {
    "duration": 22,
    "start_time": "2022-09-27T01:36:43.522Z"
   },
   {
    "duration": 93,
    "start_time": "2022-09-27T01:36:43.545Z"
   },
   {
    "duration": 29,
    "start_time": "2022-09-27T01:36:43.639Z"
   },
   {
    "duration": 13,
    "start_time": "2022-09-27T01:36:43.670Z"
   },
   {
    "duration": 20,
    "start_time": "2022-09-27T01:36:43.685Z"
   },
   {
    "duration": 24,
    "start_time": "2022-09-27T01:36:43.707Z"
   },
   {
    "duration": 16,
    "start_time": "2022-09-27T01:36:43.732Z"
   },
   {
    "duration": 13,
    "start_time": "2022-09-27T01:36:43.750Z"
   },
   {
    "duration": 50,
    "start_time": "2022-09-27T01:36:43.764Z"
   },
   {
    "duration": 12,
    "start_time": "2022-09-27T01:36:43.816Z"
   },
   {
    "duration": 24,
    "start_time": "2022-09-27T01:36:43.829Z"
   },
   {
    "duration": 25,
    "start_time": "2022-09-27T01:36:43.855Z"
   },
   {
    "duration": 15,
    "start_time": "2022-09-27T01:36:43.882Z"
   },
   {
    "duration": 17,
    "start_time": "2022-09-27T01:36:43.899Z"
   },
   {
    "duration": 3,
    "start_time": "2022-09-27T02:12:26.937Z"
   },
   {
    "duration": 3,
    "start_time": "2022-09-27T02:12:29.987Z"
   },
   {
    "duration": 3,
    "start_time": "2022-09-27T02:12:36.586Z"
   },
   {
    "duration": 21,
    "start_time": "2022-09-27T02:12:36.866Z"
   },
   {
    "duration": 10,
    "start_time": "2022-09-27T02:12:43.336Z"
   },
   {
    "duration": 11,
    "start_time": "2022-09-27T02:13:05.745Z"
   },
   {
    "duration": 3,
    "start_time": "2022-09-27T02:13:47.399Z"
   },
   {
    "duration": 10,
    "start_time": "2022-09-27T02:14:10.198Z"
   },
   {
    "duration": 21,
    "start_time": "2022-09-27T02:15:55.299Z"
   },
   {
    "duration": 3,
    "start_time": "2022-09-27T02:15:57.900Z"
   },
   {
    "duration": 10,
    "start_time": "2022-09-27T02:15:58.180Z"
   },
   {
    "duration": 7,
    "start_time": "2022-09-27T02:16:31.160Z"
   },
   {
    "duration": 5,
    "start_time": "2022-09-27T02:16:55.011Z"
   },
   {
    "duration": 10,
    "start_time": "2022-09-27T02:16:56.570Z"
   },
   {
    "duration": 4,
    "start_time": "2022-09-27T02:17:57.823Z"
   },
   {
    "duration": 13,
    "start_time": "2022-09-27T02:18:01.799Z"
   },
   {
    "duration": 4,
    "start_time": "2022-09-27T02:18:33.463Z"
   },
   {
    "duration": 24,
    "start_time": "2022-09-27T02:19:21.558Z"
   },
   {
    "duration": 4,
    "start_time": "2022-09-27T02:19:22.022Z"
   },
   {
    "duration": 4,
    "start_time": "2022-09-27T02:19:22.322Z"
   },
   {
    "duration": 13,
    "start_time": "2022-09-27T02:19:22.633Z"
   },
   {
    "duration": 55,
    "start_time": "2022-09-27T02:20:42.822Z"
   },
   {
    "duration": 12,
    "start_time": "2022-09-27T02:20:49.199Z"
   },
   {
    "duration": 11,
    "start_time": "2022-09-27T02:21:34.379Z"
   },
   {
    "duration": 48,
    "start_time": "2022-09-27T02:22:21.971Z"
   },
   {
    "duration": 12,
    "start_time": "2022-09-27T02:22:22.376Z"
   },
   {
    "duration": 56,
    "start_time": "2022-09-27T02:22:29.316Z"
   },
   {
    "duration": 12,
    "start_time": "2022-09-27T02:22:29.644Z"
   },
   {
    "duration": 49,
    "start_time": "2022-09-27T02:22:35.919Z"
   },
   {
    "duration": 11,
    "start_time": "2022-09-27T02:22:36.861Z"
   },
   {
    "duration": 1897,
    "start_time": "2022-09-27T10:27:36.787Z"
   },
   {
    "duration": 211,
    "start_time": "2022-09-27T10:27:38.686Z"
   },
   {
    "duration": 20,
    "start_time": "2022-09-27T10:27:38.899Z"
   },
   {
    "duration": 53,
    "start_time": "2022-09-27T10:27:38.921Z"
   },
   {
    "duration": 35,
    "start_time": "2022-09-27T10:27:38.975Z"
   },
   {
    "duration": 27,
    "start_time": "2022-09-27T10:27:39.011Z"
   },
   {
    "duration": 15,
    "start_time": "2022-09-27T10:27:39.039Z"
   },
   {
    "duration": 65,
    "start_time": "2022-09-27T10:27:39.055Z"
   },
   {
    "duration": 3,
    "start_time": "2022-09-27T10:27:39.121Z"
   },
   {
    "duration": 11,
    "start_time": "2022-09-27T10:27:39.127Z"
   },
   {
    "duration": 10,
    "start_time": "2022-09-27T10:27:39.140Z"
   },
   {
    "duration": 4,
    "start_time": "2022-09-27T10:27:39.151Z"
   },
   {
    "duration": 11,
    "start_time": "2022-09-27T10:27:39.156Z"
   },
   {
    "duration": 184,
    "start_time": "2022-09-27T10:27:39.168Z"
   },
   {
    "duration": 9,
    "start_time": "2022-09-27T10:27:39.354Z"
   },
   {
    "duration": 8,
    "start_time": "2022-09-27T10:27:39.364Z"
   },
   {
    "duration": 5,
    "start_time": "2022-09-27T10:27:39.373Z"
   },
   {
    "duration": 33,
    "start_time": "2022-09-27T10:27:39.380Z"
   },
   {
    "duration": 25,
    "start_time": "2022-09-27T10:27:39.414Z"
   },
   {
    "duration": 15,
    "start_time": "2022-09-27T10:27:39.441Z"
   },
   {
    "duration": 56,
    "start_time": "2022-09-27T10:27:39.463Z"
   },
   {
    "duration": 10,
    "start_time": "2022-09-27T10:27:39.522Z"
   },
   {
    "duration": 133,
    "start_time": "2022-09-27T10:27:39.534Z"
   },
   {
    "duration": 4,
    "start_time": "2022-09-27T10:27:39.669Z"
   },
   {
    "duration": 643,
    "start_time": "2022-09-27T10:27:39.700Z"
   },
   {
    "duration": 8,
    "start_time": "2022-09-27T10:27:40.345Z"
   },
   {
    "duration": 34871,
    "start_time": "2022-09-27T10:27:40.355Z"
   },
   {
    "duration": 15695,
    "start_time": "2022-09-27T10:28:15.231Z"
   },
   {
    "duration": 19011,
    "start_time": "2022-09-27T10:28:30.927Z"
   },
   {
    "duration": 4,
    "start_time": "2022-09-27T10:28:49.940Z"
   },
   {
    "duration": 2194,
    "start_time": "2022-09-27T10:28:49.945Z"
   },
   {
    "duration": 7,
    "start_time": "2022-09-27T10:28:52.140Z"
   },
   {
    "duration": 58,
    "start_time": "2022-09-27T10:28:52.148Z"
   },
   {
    "duration": 3660,
    "start_time": "2022-09-27T10:28:52.208Z"
   },
   {
    "duration": 5,
    "start_time": "2022-09-27T10:28:55.870Z"
   },
   {
    "duration": 4481,
    "start_time": "2022-09-27T10:28:55.877Z"
   },
   {
    "duration": 616,
    "start_time": "2022-09-27T10:29:00.360Z"
   },
   {
    "duration": 868,
    "start_time": "2022-09-27T10:29:00.978Z"
   },
   {
    "duration": 2568,
    "start_time": "2022-09-27T10:29:01.848Z"
   },
   {
    "duration": 38,
    "start_time": "2022-09-27T10:29:04.418Z"
   },
   {
    "duration": 41,
    "start_time": "2022-09-27T10:29:04.459Z"
   },
   {
    "duration": 39,
    "start_time": "2022-09-27T10:29:04.502Z"
   },
   {
    "duration": 47,
    "start_time": "2022-09-27T10:29:04.543Z"
   },
   {
    "duration": 19,
    "start_time": "2022-09-27T10:29:04.602Z"
   },
   {
    "duration": 501,
    "start_time": "2022-09-27T10:29:04.623Z"
   },
   {
    "duration": 905,
    "start_time": "2022-09-27T10:29:05.126Z"
   },
   {
    "duration": 39,
    "start_time": "2022-09-27T10:29:06.033Z"
   },
   {
    "duration": 424,
    "start_time": "2022-09-27T10:29:06.074Z"
   },
   {
    "duration": 1026,
    "start_time": "2022-09-27T10:29:06.504Z"
   },
   {
    "duration": 4,
    "start_time": "2022-09-27T10:29:07.531Z"
   },
   {
    "duration": 1206,
    "start_time": "2022-09-27T10:29:07.537Z"
   },
   {
    "duration": 24,
    "start_time": "2022-09-27T10:29:08.744Z"
   },
   {
    "duration": 7,
    "start_time": "2022-09-27T10:29:08.770Z"
   },
   {
    "duration": 23,
    "start_time": "2022-09-27T10:29:08.778Z"
   },
   {
    "duration": 90,
    "start_time": "2022-09-27T10:29:08.803Z"
   },
   {
    "duration": 29,
    "start_time": "2022-09-27T10:29:08.894Z"
   },
   {
    "duration": 14,
    "start_time": "2022-09-27T10:29:08.926Z"
   },
   {
    "duration": 16,
    "start_time": "2022-09-27T10:29:08.941Z"
   },
   {
    "duration": 16,
    "start_time": "2022-09-27T10:29:08.958Z"
   },
   {
    "duration": 5,
    "start_time": "2022-09-27T10:29:08.975Z"
   },
   {
    "duration": 12,
    "start_time": "2022-09-27T10:29:08.981Z"
   },
   {
    "duration": 35,
    "start_time": "2022-09-27T10:29:08.995Z"
   },
   {
    "duration": 3,
    "start_time": "2022-09-27T10:29:09.032Z"
   },
   {
    "duration": 7,
    "start_time": "2022-09-27T10:29:09.037Z"
   },
   {
    "duration": 15,
    "start_time": "2022-09-27T10:29:09.046Z"
   },
   {
    "duration": 56,
    "start_time": "2022-09-27T10:29:09.062Z"
   },
   {
    "duration": 10,
    "start_time": "2022-09-27T10:29:09.120Z"
   },
   {
    "duration": 13,
    "start_time": "2022-09-27T10:29:09.133Z"
   },
   {
    "duration": 20,
    "start_time": "2022-09-27T10:29:09.147Z"
   },
   {
    "duration": 4,
    "start_time": "2022-09-27T10:29:42.189Z"
   },
   {
    "duration": 1024,
    "start_time": "2022-09-27T10:29:42.893Z"
   },
   {
    "duration": 13,
    "start_time": "2022-09-27T10:31:21.484Z"
   },
   {
    "duration": 3,
    "start_time": "2022-09-27T10:35:19.936Z"
   },
   {
    "duration": 65,
    "start_time": "2022-09-27T10:35:26.600Z"
   },
   {
    "duration": 4,
    "start_time": "2022-09-27T10:35:33.986Z"
   },
   {
    "duration": 1101,
    "start_time": "2022-09-27T10:37:04.578Z"
   },
   {
    "duration": 4,
    "start_time": "2022-09-27T10:37:13.729Z"
   },
   {
    "duration": 86,
    "start_time": "2022-09-27T10:38:25.333Z"
   },
   {
    "duration": 5,
    "start_time": "2022-09-27T10:38:47.577Z"
   },
   {
    "duration": 4,
    "start_time": "2022-09-27T10:38:58.661Z"
   },
   {
    "duration": 5,
    "start_time": "2022-09-27T10:39:08.628Z"
   },
   {
    "duration": 4,
    "start_time": "2022-09-27T10:39:17.294Z"
   },
   {
    "duration": 4,
    "start_time": "2022-09-27T10:39:21.335Z"
   },
   {
    "duration": 3,
    "start_time": "2022-09-27T10:39:40.273Z"
   },
   {
    "duration": 4,
    "start_time": "2022-09-27T10:39:47.390Z"
   },
   {
    "duration": 4,
    "start_time": "2022-09-27T10:39:56.094Z"
   },
   {
    "duration": 4,
    "start_time": "2022-09-27T10:39:58.918Z"
   },
   {
    "duration": 4,
    "start_time": "2022-09-27T10:40:01.571Z"
   },
   {
    "duration": 4,
    "start_time": "2022-09-27T10:40:29.863Z"
   },
   {
    "duration": 6,
    "start_time": "2022-09-27T10:40:58.988Z"
   },
   {
    "duration": 5,
    "start_time": "2022-09-27T10:41:14.318Z"
   },
   {
    "duration": 4,
    "start_time": "2022-09-27T10:41:27.413Z"
   },
   {
    "duration": 6,
    "start_time": "2022-09-27T10:42:35.316Z"
   },
   {
    "duration": 1067,
    "start_time": "2022-09-27T10:44:04.444Z"
   },
   {
    "duration": 1332,
    "start_time": "2022-09-27T10:44:11.699Z"
   },
   {
    "duration": 993,
    "start_time": "2022-09-27T10:44:22.767Z"
   },
   {
    "duration": 5,
    "start_time": "2022-09-27T10:44:33.221Z"
   },
   {
    "duration": 5,
    "start_time": "2022-09-27T10:44:46.745Z"
   },
   {
    "duration": 4,
    "start_time": "2022-09-27T10:44:54.717Z"
   },
   {
    "duration": 272,
    "start_time": "2022-09-27T10:45:25.225Z"
   },
   {
    "duration": 5,
    "start_time": "2022-09-27T10:45:34.738Z"
   },
   {
    "duration": 6,
    "start_time": "2022-09-27T10:45:59.552Z"
   },
   {
    "duration": 5,
    "start_time": "2022-09-27T10:46:05.932Z"
   },
   {
    "duration": 10,
    "start_time": "2022-09-27T10:47:02.165Z"
   },
   {
    "duration": 7,
    "start_time": "2022-09-27T10:47:13.192Z"
   },
   {
    "duration": 10,
    "start_time": "2022-09-27T10:47:21.316Z"
   },
   {
    "duration": 10,
    "start_time": "2022-09-27T10:47:46.713Z"
   },
   {
    "duration": 15,
    "start_time": "2022-09-27T10:47:54.998Z"
   },
   {
    "duration": 11,
    "start_time": "2022-09-27T10:48:00.714Z"
   },
   {
    "duration": 51,
    "start_time": "2022-09-27T11:01:03.814Z"
   },
   {
    "duration": 20,
    "start_time": "2022-09-27T11:01:13.735Z"
   },
   {
    "duration": 2444,
    "start_time": "2022-09-27T11:01:29.014Z"
   },
   {
    "duration": 72,
    "start_time": "2022-09-27T11:01:31.460Z"
   },
   {
    "duration": 18,
    "start_time": "2022-09-27T11:01:31.534Z"
   },
   {
    "duration": 66,
    "start_time": "2022-09-27T11:01:31.554Z"
   },
   {
    "duration": 15,
    "start_time": "2022-09-27T11:01:31.621Z"
   },
   {
    "duration": 20,
    "start_time": "2022-09-27T11:01:31.638Z"
   },
   {
    "duration": 64,
    "start_time": "2022-09-27T11:01:31.660Z"
   },
   {
    "duration": 100,
    "start_time": "2022-09-27T11:01:31.726Z"
   },
   {
    "duration": 4,
    "start_time": "2022-09-27T11:01:31.827Z"
   },
   {
    "duration": 13,
    "start_time": "2022-09-27T11:01:31.834Z"
   },
   {
    "duration": 19,
    "start_time": "2022-09-27T11:01:31.902Z"
   },
   {
    "duration": 8,
    "start_time": "2022-09-27T11:01:31.924Z"
   },
   {
    "duration": 14,
    "start_time": "2022-09-27T11:01:31.933Z"
   },
   {
    "duration": 242,
    "start_time": "2022-09-27T11:01:31.949Z"
   },
   {
    "duration": 22,
    "start_time": "2022-09-27T11:01:32.193Z"
   },
   {
    "duration": 6,
    "start_time": "2022-09-27T11:01:32.216Z"
   },
   {
    "duration": 6,
    "start_time": "2022-09-27T11:01:32.224Z"
   },
   {
    "duration": 15,
    "start_time": "2022-09-27T11:01:32.231Z"
   },
   {
    "duration": 24,
    "start_time": "2022-09-27T11:01:32.248Z"
   },
   {
    "duration": 11,
    "start_time": "2022-09-27T11:01:32.274Z"
   },
   {
    "duration": 30,
    "start_time": "2022-09-27T11:01:32.287Z"
   },
   {
    "duration": 7,
    "start_time": "2022-09-27T11:01:32.318Z"
   },
   {
    "duration": 92,
    "start_time": "2022-09-27T11:01:32.326Z"
   },
   {
    "duration": 3,
    "start_time": "2022-09-27T11:01:32.419Z"
   },
   {
    "duration": 825,
    "start_time": "2022-09-27T11:01:32.423Z"
   },
   {
    "duration": 6,
    "start_time": "2022-09-27T11:01:33.251Z"
   },
   {
    "duration": 38086,
    "start_time": "2022-09-27T11:01:33.259Z"
   },
   {
    "duration": 20022,
    "start_time": "2022-09-27T11:02:11.348Z"
   },
   {
    "duration": 22650,
    "start_time": "2022-09-27T11:02:31.372Z"
   },
   {
    "duration": 4,
    "start_time": "2022-09-27T11:02:54.023Z"
   },
   {
    "duration": 2057,
    "start_time": "2022-09-27T11:02:54.029Z"
   },
   {
    "duration": 7,
    "start_time": "2022-09-27T11:02:56.088Z"
   },
   {
    "duration": 34,
    "start_time": "2022-09-27T11:02:56.104Z"
   },
   {
    "duration": 3703,
    "start_time": "2022-09-27T11:02:56.139Z"
   },
   {
    "duration": 5,
    "start_time": "2022-09-27T11:02:59.844Z"
   },
   {
    "duration": 4172,
    "start_time": "2022-09-27T11:02:59.850Z"
   },
   {
    "duration": 657,
    "start_time": "2022-09-27T11:03:04.024Z"
   },
   {
    "duration": 882,
    "start_time": "2022-09-27T11:03:04.683Z"
   },
   {
    "duration": 2252,
    "start_time": "2022-09-27T11:03:05.566Z"
   },
   {
    "duration": 28,
    "start_time": "2022-09-27T11:03:07.820Z"
   },
   {
    "duration": 7,
    "start_time": "2022-09-27T11:03:07.849Z"
   },
   {
    "duration": 62,
    "start_time": "2022-09-27T11:03:07.857Z"
   },
   {
    "duration": 42,
    "start_time": "2022-09-27T11:03:07.921Z"
   },
   {
    "duration": 9,
    "start_time": "2022-09-27T11:03:07.965Z"
   },
   {
    "duration": 490,
    "start_time": "2022-09-27T11:03:07.975Z"
   },
   {
    "duration": 862,
    "start_time": "2022-09-27T11:03:08.467Z"
   },
   {
    "duration": 36,
    "start_time": "2022-09-27T11:03:09.334Z"
   },
   {
    "duration": 380,
    "start_time": "2022-09-27T11:03:09.372Z"
   },
   {
    "duration": 938,
    "start_time": "2022-09-27T11:03:09.754Z"
   },
   {
    "duration": 11,
    "start_time": "2022-09-27T11:03:10.694Z"
   },
   {
    "duration": 1046,
    "start_time": "2022-09-27T11:03:10.711Z"
   },
   {
    "duration": 21,
    "start_time": "2022-09-27T11:03:11.759Z"
   },
   {
    "duration": 23,
    "start_time": "2022-09-27T11:03:11.782Z"
   },
   {
    "duration": 79,
    "start_time": "2022-09-27T11:03:11.807Z"
   },
   {
    "duration": 8,
    "start_time": "2022-09-27T11:03:11.887Z"
   },
   {
    "duration": 24,
    "start_time": "2022-09-27T11:03:11.897Z"
   },
   {
    "duration": 23,
    "start_time": "2022-09-27T11:03:11.923Z"
   },
   {
    "duration": 2,
    "start_time": "2022-09-27T11:03:11.948Z"
   },
   {
    "duration": 6,
    "start_time": "2022-09-27T11:03:11.952Z"
   },
   {
    "duration": 23,
    "start_time": "2022-09-27T11:03:11.959Z"
   },
   {
    "duration": 4,
    "start_time": "2022-09-27T11:03:11.983Z"
   },
   {
    "duration": 6,
    "start_time": "2022-09-27T11:03:11.988Z"
   },
   {
    "duration": 26,
    "start_time": "2022-09-27T11:03:11.996Z"
   },
   {
    "duration": 49,
    "start_time": "2022-09-27T11:03:12.024Z"
   },
   {
    "duration": 9,
    "start_time": "2022-09-27T11:03:12.075Z"
   },
   {
    "duration": 9,
    "start_time": "2022-09-27T11:03:12.085Z"
   },
   {
    "duration": 16,
    "start_time": "2022-09-27T11:03:12.096Z"
   },
   {
    "duration": 15,
    "start_time": "2022-09-27T13:58:55.499Z"
   },
   {
    "duration": 2,
    "start_time": "2022-09-27T14:59:32.497Z"
   },
   {
    "duration": 2,
    "start_time": "2022-09-27T15:02:21.182Z"
   },
   {
    "duration": 19,
    "start_time": "2022-09-27T15:15:05.623Z"
   },
   {
    "duration": 5,
    "start_time": "2022-09-27T15:15:06.741Z"
   },
   {
    "duration": 4,
    "start_time": "2022-09-27T15:15:07.373Z"
   },
   {
    "duration": 4,
    "start_time": "2022-09-27T15:15:47.666Z"
   },
   {
    "duration": 18,
    "start_time": "2022-09-27T15:16:28.192Z"
   },
   {
    "duration": 22,
    "start_time": "2022-09-27T15:16:53.243Z"
   },
   {
    "duration": 28,
    "start_time": "2022-09-27T15:17:10.919Z"
   },
   {
    "duration": 137,
    "start_time": "2022-09-27T15:20:48.950Z"
   },
   {
    "duration": 52,
    "start_time": "2022-09-27T15:21:00.435Z"
   },
   {
    "duration": 13,
    "start_time": "2022-09-27T15:21:00.723Z"
   },
   {
    "duration": 13,
    "start_time": "2022-09-27T15:21:13.901Z"
   },
   {
    "duration": 4,
    "start_time": "2022-09-27T15:22:08.270Z"
   },
   {
    "duration": 4,
    "start_time": "2022-09-27T15:22:45.397Z"
   },
   {
    "duration": 10,
    "start_time": "2022-09-27T15:23:20.162Z"
   },
   {
    "duration": 12,
    "start_time": "2022-09-27T15:23:28.876Z"
   },
   {
    "duration": 10,
    "start_time": "2022-09-27T15:23:45.516Z"
   },
   {
    "duration": 11,
    "start_time": "2022-09-27T15:24:45.228Z"
   },
   {
    "duration": 11,
    "start_time": "2022-09-27T15:26:02.025Z"
   },
   {
    "duration": 11,
    "start_time": "2022-09-27T15:26:06.414Z"
   },
   {
    "duration": 12,
    "start_time": "2022-09-27T15:26:15.376Z"
   },
   {
    "duration": 14,
    "start_time": "2022-09-27T15:26:30.970Z"
   },
   {
    "duration": 13,
    "start_time": "2022-09-27T15:31:27.802Z"
   },
   {
    "duration": 13,
    "start_time": "2022-09-27T15:31:47.944Z"
   },
   {
    "duration": 1587,
    "start_time": "2022-09-27T15:49:50.772Z"
   },
   {
    "duration": 15,
    "start_time": "2022-09-27T15:50:11.546Z"
   },
   {
    "duration": 13,
    "start_time": "2022-09-27T15:50:20.689Z"
   },
   {
    "duration": 19,
    "start_time": "2022-09-27T15:50:21.566Z"
   },
   {
    "duration": 19,
    "start_time": "2022-09-27T15:53:02.945Z"
   },
   {
    "duration": 22,
    "start_time": "2022-09-27T15:53:37.425Z"
   },
   {
    "duration": 18,
    "start_time": "2022-09-27T15:53:53.705Z"
   },
   {
    "duration": 20,
    "start_time": "2022-09-27T15:54:52.235Z"
   },
   {
    "duration": 19,
    "start_time": "2022-09-27T15:55:10.801Z"
   },
   {
    "duration": 18,
    "start_time": "2022-09-27T15:55:43.891Z"
   },
   {
    "duration": 24,
    "start_time": "2022-09-27T15:55:49.435Z"
   },
   {
    "duration": 19,
    "start_time": "2022-09-27T15:55:58.855Z"
   },
   {
    "duration": 11,
    "start_time": "2022-09-27T15:56:23.368Z"
   },
   {
    "duration": 10,
    "start_time": "2022-09-27T15:57:26.358Z"
   },
   {
    "duration": 51,
    "start_time": "2022-09-27T16:02:13.892Z"
   },
   {
    "duration": 3,
    "start_time": "2022-09-27T16:03:29.901Z"
   },
   {
    "duration": 18,
    "start_time": "2022-09-27T16:07:40.695Z"
   },
   {
    "duration": 911,
    "start_time": "2022-09-27T16:15:33.879Z"
   },
   {
    "duration": 17,
    "start_time": "2022-09-27T16:16:27.889Z"
   },
   {
    "duration": 11,
    "start_time": "2022-09-27T16:16:51.369Z"
   },
   {
    "duration": 67,
    "start_time": "2022-09-27T16:18:27.119Z"
   },
   {
    "duration": 14,
    "start_time": "2022-09-27T16:18:36.488Z"
   },
   {
    "duration": 44,
    "start_time": "2022-09-27T16:18:52.605Z"
   },
   {
    "duration": 13,
    "start_time": "2022-09-27T16:18:53.083Z"
   },
   {
    "duration": 10,
    "start_time": "2022-09-27T16:18:53.864Z"
   },
   {
    "duration": 15,
    "start_time": "2022-09-27T16:18:55.382Z"
   },
   {
    "duration": 15,
    "start_time": "2022-09-27T16:22:06.274Z"
   },
   {
    "duration": 11,
    "start_time": "2022-09-27T16:22:19.985Z"
   },
   {
    "duration": 6,
    "start_time": "2022-09-27T16:23:31.661Z"
   },
   {
    "duration": 9,
    "start_time": "2022-09-27T16:23:38.741Z"
   },
   {
    "duration": 8,
    "start_time": "2022-09-27T16:24:01.404Z"
   },
   {
    "duration": 18,
    "start_time": "2022-09-27T16:24:03.798Z"
   },
   {
    "duration": 18,
    "start_time": "2022-09-27T17:25:20.165Z"
   },
   {
    "duration": 1611,
    "start_time": "2022-09-27T17:25:35.220Z"
   },
   {
    "duration": 61,
    "start_time": "2022-09-27T17:25:36.833Z"
   },
   {
    "duration": 15,
    "start_time": "2022-09-27T17:25:36.895Z"
   },
   {
    "duration": 49,
    "start_time": "2022-09-27T17:25:36.911Z"
   },
   {
    "duration": 38,
    "start_time": "2022-09-27T17:25:36.962Z"
   },
   {
    "duration": 13,
    "start_time": "2022-09-27T17:25:37.002Z"
   },
   {
    "duration": 13,
    "start_time": "2022-09-27T17:25:37.017Z"
   },
   {
    "duration": 68,
    "start_time": "2022-09-27T17:25:37.032Z"
   },
   {
    "duration": 3,
    "start_time": "2022-09-27T17:25:37.102Z"
   },
   {
    "duration": 24,
    "start_time": "2022-09-27T17:25:37.107Z"
   },
   {
    "duration": 9,
    "start_time": "2022-09-27T17:25:37.132Z"
   },
   {
    "duration": 3,
    "start_time": "2022-09-27T17:25:37.143Z"
   },
   {
    "duration": 9,
    "start_time": "2022-09-27T17:25:37.147Z"
   },
   {
    "duration": 147,
    "start_time": "2022-09-27T17:25:37.157Z"
   },
   {
    "duration": 10,
    "start_time": "2022-09-27T17:25:37.305Z"
   },
   {
    "duration": 3,
    "start_time": "2022-09-27T17:25:37.317Z"
   },
   {
    "duration": 6,
    "start_time": "2022-09-27T17:25:37.322Z"
   },
   {
    "duration": 14,
    "start_time": "2022-09-27T17:25:37.329Z"
   },
   {
    "duration": 22,
    "start_time": "2022-09-27T17:25:37.344Z"
   },
   {
    "duration": 37,
    "start_time": "2022-09-27T17:25:37.367Z"
   },
   {
    "duration": 24,
    "start_time": "2022-09-27T17:25:37.405Z"
   },
   {
    "duration": 6,
    "start_time": "2022-09-27T17:25:37.431Z"
   },
   {
    "duration": 107,
    "start_time": "2022-09-27T17:25:37.439Z"
   },
   {
    "duration": 2,
    "start_time": "2022-09-27T17:25:37.548Z"
   },
   {
    "duration": 646,
    "start_time": "2022-09-27T17:25:37.552Z"
   },
   {
    "duration": 7,
    "start_time": "2022-09-27T17:25:38.200Z"
   },
   {
    "duration": 20350,
    "start_time": "2022-09-27T17:25:38.209Z"
   },
   {
    "duration": 10469,
    "start_time": "2022-09-27T17:25:58.562Z"
   },
   {
    "duration": 63893,
    "start_time": "2022-09-27T17:26:09.032Z"
   },
   {
    "duration": 3,
    "start_time": "2022-09-27T17:27:12.927Z"
   },
   {
    "duration": 1986,
    "start_time": "2022-09-27T17:27:12.932Z"
   },
   {
    "duration": 8,
    "start_time": "2022-09-27T17:27:14.920Z"
   },
   {
    "duration": 76,
    "start_time": "2022-09-27T17:27:14.929Z"
   },
   {
    "duration": 4762,
    "start_time": "2022-09-27T17:27:15.007Z"
   },
   {
    "duration": 4,
    "start_time": "2022-09-27T17:27:19.771Z"
   },
   {
    "duration": 3863,
    "start_time": "2022-09-27T17:27:19.777Z"
   },
   {
    "duration": 612,
    "start_time": "2022-09-27T17:27:23.642Z"
   },
   {
    "duration": 840,
    "start_time": "2022-09-27T17:27:24.255Z"
   },
   {
    "duration": 2073,
    "start_time": "2022-09-27T17:27:25.099Z"
   },
   {
    "duration": 41,
    "start_time": "2022-09-27T17:27:27.174Z"
   },
   {
    "duration": 7,
    "start_time": "2022-09-27T17:27:27.216Z"
   },
   {
    "duration": 25,
    "start_time": "2022-09-27T17:27:27.224Z"
   },
   {
    "duration": 64,
    "start_time": "2022-09-27T17:27:27.251Z"
   },
   {
    "duration": 11,
    "start_time": "2022-09-27T17:27:27.317Z"
   },
   {
    "duration": 419,
    "start_time": "2022-09-27T17:27:27.329Z"
   },
   {
    "duration": 757,
    "start_time": "2022-09-27T17:27:27.750Z"
   },
   {
    "duration": 36,
    "start_time": "2022-09-27T17:27:28.509Z"
   },
   {
    "duration": 378,
    "start_time": "2022-09-27T17:27:28.546Z"
   },
   {
    "duration": 912,
    "start_time": "2022-09-27T17:27:28.926Z"
   },
   {
    "duration": 4,
    "start_time": "2022-09-27T17:27:29.839Z"
   },
   {
    "duration": 956,
    "start_time": "2022-09-27T17:27:29.844Z"
   },
   {
    "duration": 20,
    "start_time": "2022-09-27T17:27:30.801Z"
   },
   {
    "duration": 6,
    "start_time": "2022-09-27T17:27:30.823Z"
   },
   {
    "duration": 106,
    "start_time": "2022-09-27T17:27:30.830Z"
   },
   {
    "duration": 16,
    "start_time": "2022-09-27T17:27:30.938Z"
   },
   {
    "duration": 11,
    "start_time": "2022-09-27T17:27:30.956Z"
   },
   {
    "duration": 18,
    "start_time": "2022-09-27T17:27:30.968Z"
   },
   {
    "duration": 41,
    "start_time": "2022-09-27T17:27:30.988Z"
   },
   {
    "duration": 48,
    "start_time": "2022-09-27T17:27:31.030Z"
   },
   {
    "duration": 12,
    "start_time": "2022-09-27T17:27:31.080Z"
   },
   {
    "duration": 12,
    "start_time": "2022-09-27T17:27:31.100Z"
   },
   {
    "duration": 13,
    "start_time": "2022-09-27T17:27:31.113Z"
   },
   {
    "duration": 30,
    "start_time": "2022-09-27T17:27:31.127Z"
   },
   {
    "duration": 7,
    "start_time": "2022-09-27T17:27:31.159Z"
   },
   {
    "duration": 25,
    "start_time": "2022-09-27T17:27:31.167Z"
   },
   {
    "duration": 168,
    "start_time": "2022-09-27T17:27:31.196Z"
   },
   {
    "duration": 4,
    "start_time": "2022-09-27T17:27:32.493Z"
   },
   {
    "duration": 12,
    "start_time": "2022-09-27T17:30:06.695Z"
   },
   {
    "duration": 3,
    "start_time": "2022-09-27T17:30:18.363Z"
   },
   {
    "duration": 4,
    "start_time": "2022-09-27T17:30:24.049Z"
   },
   {
    "duration": 10,
    "start_time": "2022-09-27T17:30:32.903Z"
   },
   {
    "duration": 20,
    "start_time": "2022-09-27T17:31:56.701Z"
   },
   {
    "duration": 10,
    "start_time": "2022-09-27T17:34:08.388Z"
   },
   {
    "duration": 54,
    "start_time": "2022-09-27T17:34:29.077Z"
   },
   {
    "duration": 26,
    "start_time": "2022-09-27T17:35:24.172Z"
   },
   {
    "duration": 14,
    "start_time": "2022-09-27T17:39:55.754Z"
   },
   {
    "duration": 48,
    "start_time": "2022-09-27T17:40:07.479Z"
   },
   {
    "duration": 62,
    "start_time": "2022-09-27T17:40:11.929Z"
   },
   {
    "duration": 159,
    "start_time": "2022-09-27T17:40:18.072Z"
   },
   {
    "duration": 2,
    "start_time": "2022-09-27T17:40:37.951Z"
   },
   {
    "duration": 42,
    "start_time": "2022-09-27T17:41:09.278Z"
   },
   {
    "duration": 47,
    "start_time": "2022-09-27T17:41:11.583Z"
   },
   {
    "duration": 15,
    "start_time": "2022-09-27T17:41:12.171Z"
   },
   {
    "duration": 14,
    "start_time": "2022-09-27T17:41:12.885Z"
   },
   {
    "duration": 10,
    "start_time": "2022-09-27T17:41:17.118Z"
   },
   {
    "duration": 19,
    "start_time": "2022-09-27T17:41:18.711Z"
   },
   {
    "duration": 244,
    "start_time": "2022-09-27T17:43:57.233Z"
   },
   {
    "duration": 5,
    "start_time": "2022-09-27T17:46:50.962Z"
   },
   {
    "duration": 12,
    "start_time": "2022-09-27T17:47:27.659Z"
   },
   {
    "duration": 18,
    "start_time": "2022-09-27T17:50:33.536Z"
   },
   {
    "duration": 12,
    "start_time": "2022-09-27T17:50:35.456Z"
   },
   {
    "duration": 801,
    "start_time": "2022-09-27T17:50:59.116Z"
   },
   {
    "duration": 51,
    "start_time": "2022-09-27T17:51:20.453Z"
   },
   {
    "duration": 18,
    "start_time": "2022-09-27T17:51:23.963Z"
   },
   {
    "duration": 10,
    "start_time": "2022-09-27T17:52:05.807Z"
   },
   {
    "duration": 18,
    "start_time": "2022-09-27T17:52:19.917Z"
   },
   {
    "duration": 18,
    "start_time": "2022-09-27T17:52:20.388Z"
   },
   {
    "duration": 6,
    "start_time": "2022-09-27T17:52:31.299Z"
   },
   {
    "duration": 73,
    "start_time": "2022-09-27T17:52:31.307Z"
   },
   {
    "duration": 14,
    "start_time": "2022-09-27T17:52:31.382Z"
   },
   {
    "duration": 77,
    "start_time": "2022-09-27T17:52:31.397Z"
   },
   {
    "duration": 9,
    "start_time": "2022-09-27T17:52:31.476Z"
   },
   {
    "duration": 22,
    "start_time": "2022-09-27T17:52:31.486Z"
   },
   {
    "duration": 25,
    "start_time": "2022-09-27T17:52:31.510Z"
   },
   {
    "duration": 46,
    "start_time": "2022-09-27T17:52:31.536Z"
   },
   {
    "duration": 18,
    "start_time": "2022-09-27T17:52:31.583Z"
   },
   {
    "duration": 27,
    "start_time": "2022-09-27T17:52:31.603Z"
   },
   {
    "duration": 28,
    "start_time": "2022-09-27T17:52:31.633Z"
   },
   {
    "duration": 8,
    "start_time": "2022-09-27T17:52:31.662Z"
   },
   {
    "duration": 19,
    "start_time": "2022-09-27T17:52:31.671Z"
   },
   {
    "duration": 140,
    "start_time": "2022-09-27T17:52:31.691Z"
   },
   {
    "duration": 11,
    "start_time": "2022-09-27T17:52:31.833Z"
   },
   {
    "duration": 7,
    "start_time": "2022-09-27T17:52:31.846Z"
   },
   {
    "duration": 16,
    "start_time": "2022-09-27T17:52:31.855Z"
   },
   {
    "duration": 23,
    "start_time": "2022-09-27T17:52:31.873Z"
   },
   {
    "duration": 23,
    "start_time": "2022-09-27T17:52:31.898Z"
   },
   {
    "duration": 11,
    "start_time": "2022-09-27T17:52:31.923Z"
   },
   {
    "duration": 23,
    "start_time": "2022-09-27T17:52:31.936Z"
   },
   {
    "duration": 8,
    "start_time": "2022-09-27T17:52:31.961Z"
   },
   {
    "duration": 75,
    "start_time": "2022-09-27T17:52:31.970Z"
   },
   {
    "duration": 3,
    "start_time": "2022-09-27T17:52:32.047Z"
   },
   {
    "duration": 689,
    "start_time": "2022-09-27T17:52:32.052Z"
   },
   {
    "duration": 7,
    "start_time": "2022-09-27T17:52:32.743Z"
   },
   {
    "duration": 21685,
    "start_time": "2022-09-27T17:52:32.751Z"
   },
   {
    "duration": 10283,
    "start_time": "2022-09-27T17:52:54.438Z"
   },
   {
    "duration": 13484,
    "start_time": "2022-09-27T17:53:04.724Z"
   },
   {
    "duration": 4,
    "start_time": "2022-09-27T17:53:18.210Z"
   },
   {
    "duration": 1824,
    "start_time": "2022-09-27T17:53:18.216Z"
   },
   {
    "duration": 6,
    "start_time": "2022-09-27T17:53:20.042Z"
   },
   {
    "duration": 59,
    "start_time": "2022-09-27T17:53:20.050Z"
   },
   {
    "duration": 638,
    "start_time": "2022-09-27T17:53:20.111Z"
   },
   {
    "duration": 4,
    "start_time": "2022-09-27T17:53:20.751Z"
   },
   {
    "duration": 1442,
    "start_time": "2022-09-27T17:53:20.757Z"
   },
   {
    "duration": 653,
    "start_time": "2022-09-27T17:53:22.200Z"
   },
   {
    "duration": 863,
    "start_time": "2022-09-27T17:53:22.855Z"
   },
   {
    "duration": 2112,
    "start_time": "2022-09-27T17:53:23.719Z"
   },
   {
    "duration": 28,
    "start_time": "2022-09-27T17:53:25.833Z"
   },
   {
    "duration": 6,
    "start_time": "2022-09-27T17:53:25.862Z"
   },
   {
    "duration": 49,
    "start_time": "2022-09-27T17:53:25.869Z"
   },
   {
    "duration": 37,
    "start_time": "2022-09-27T17:53:25.919Z"
   },
   {
    "duration": 10,
    "start_time": "2022-09-27T17:53:25.958Z"
   },
   {
    "duration": 427,
    "start_time": "2022-09-27T17:53:25.970Z"
   },
   {
    "duration": 743,
    "start_time": "2022-09-27T17:53:26.399Z"
   },
   {
    "duration": 38,
    "start_time": "2022-09-27T17:53:27.144Z"
   },
   {
    "duration": 255,
    "start_time": "2022-09-27T17:53:27.184Z"
   },
   {
    "duration": 875,
    "start_time": "2022-09-27T17:53:27.440Z"
   },
   {
    "duration": 3,
    "start_time": "2022-09-27T17:53:28.317Z"
   },
   {
    "duration": 989,
    "start_time": "2022-09-27T17:53:28.321Z"
   },
   {
    "duration": 19,
    "start_time": "2022-09-27T17:53:29.312Z"
   },
   {
    "duration": 7,
    "start_time": "2022-09-27T17:53:29.332Z"
   },
   {
    "duration": 99,
    "start_time": "2022-09-27T17:53:29.340Z"
   },
   {
    "duration": 20,
    "start_time": "2022-09-27T17:53:29.441Z"
   },
   {
    "duration": 19,
    "start_time": "2022-09-27T17:53:29.463Z"
   },
   {
    "duration": 2,
    "start_time": "2022-09-27T17:53:29.483Z"
   },
   {
    "duration": 29,
    "start_time": "2022-09-27T17:53:29.501Z"
   },
   {
    "duration": 47,
    "start_time": "2022-09-27T17:53:49.696Z"
   },
   {
    "duration": 42,
    "start_time": "2022-09-27T17:54:46.015Z"
   },
   {
    "duration": 16,
    "start_time": "2022-09-27T17:54:46.610Z"
   },
   {
    "duration": 70,
    "start_time": "2022-09-27T17:55:21.301Z"
   },
   {
    "duration": 34,
    "start_time": "2022-09-27T17:55:36.334Z"
   },
   {
    "duration": 31,
    "start_time": "2022-09-27T17:55:37.201Z"
   },
   {
    "duration": 17,
    "start_time": "2022-09-27T17:55:38.156Z"
   },
   {
    "duration": 57,
    "start_time": "2022-09-27T17:56:02.161Z"
   },
   {
    "duration": 59,
    "start_time": "2022-09-27T17:56:15.101Z"
   },
   {
    "duration": 42,
    "start_time": "2022-09-27T17:56:16.056Z"
   },
   {
    "duration": 17,
    "start_time": "2022-09-27T17:56:17.675Z"
   },
   {
    "duration": 16,
    "start_time": "2022-09-27T18:00:59.434Z"
   },
   {
    "duration": 17,
    "start_time": "2022-09-27T18:01:13.758Z"
   },
   {
    "duration": 11,
    "start_time": "2022-09-27T18:01:24.770Z"
   },
   {
    "duration": 10,
    "start_time": "2022-09-27T18:01:26.423Z"
   },
   {
    "duration": 20,
    "start_time": "2022-09-27T18:01:27.448Z"
   },
   {
    "duration": 12,
    "start_time": "2022-09-27T18:01:28.147Z"
   },
   {
    "duration": 935,
    "start_time": "2022-09-27T18:02:46.247Z"
   },
   {
    "duration": 15,
    "start_time": "2022-09-27T18:02:56.743Z"
   },
   {
    "duration": 16,
    "start_time": "2022-09-27T18:15:29.452Z"
   },
   {
    "duration": 23,
    "start_time": "2022-09-27T18:16:04.132Z"
   },
   {
    "duration": 10,
    "start_time": "2022-09-27T18:20:18.416Z"
   },
   {
    "duration": 16,
    "start_time": "2022-09-27T18:38:31.647Z"
   },
   {
    "duration": 34,
    "start_time": "2022-09-27T18:38:56.300Z"
   },
   {
    "duration": 73,
    "start_time": "2022-09-27T18:40:16.032Z"
   },
   {
    "duration": 5,
    "start_time": "2022-09-27T18:40:43.328Z"
   },
   {
    "duration": 65,
    "start_time": "2022-09-27T18:40:58.727Z"
   },
   {
    "duration": 4,
    "start_time": "2022-09-27T18:41:48.968Z"
   },
   {
    "duration": 74,
    "start_time": "2022-09-27T18:42:01.142Z"
   },
   {
    "duration": 6,
    "start_time": "2022-09-27T18:42:41.370Z"
   },
   {
    "duration": 7,
    "start_time": "2022-09-27T18:42:46.190Z"
   },
   {
    "duration": 3,
    "start_time": "2022-09-27T18:42:57.611Z"
   },
   {
    "duration": 33,
    "start_time": "2022-09-27T18:42:59.594Z"
   },
   {
    "duration": 4,
    "start_time": "2022-09-27T18:43:13.059Z"
   },
   {
    "duration": 6,
    "start_time": "2022-09-27T18:43:25.072Z"
   },
   {
    "duration": 61,
    "start_time": "2022-09-27T18:43:25.080Z"
   },
   {
    "duration": 17,
    "start_time": "2022-09-27T18:43:25.143Z"
   },
   {
    "duration": 70,
    "start_time": "2022-09-27T18:43:25.162Z"
   },
   {
    "duration": 10,
    "start_time": "2022-09-27T18:43:25.234Z"
   },
   {
    "duration": 18,
    "start_time": "2022-09-27T18:43:25.246Z"
   },
   {
    "duration": 47,
    "start_time": "2022-09-27T18:43:25.266Z"
   },
   {
    "duration": 47,
    "start_time": "2022-09-27T18:43:25.314Z"
   },
   {
    "duration": 38,
    "start_time": "2022-09-27T18:43:25.362Z"
   },
   {
    "duration": 8,
    "start_time": "2022-09-27T18:43:25.402Z"
   },
   {
    "duration": 23,
    "start_time": "2022-09-27T18:43:25.413Z"
   },
   {
    "duration": 10,
    "start_time": "2022-09-27T18:43:25.438Z"
   },
   {
    "duration": 13,
    "start_time": "2022-09-27T18:43:25.450Z"
   },
   {
    "duration": 161,
    "start_time": "2022-09-27T18:43:25.465Z"
   },
   {
    "duration": 10,
    "start_time": "2022-09-27T18:43:25.627Z"
   },
   {
    "duration": 4,
    "start_time": "2022-09-27T18:43:25.639Z"
   },
   {
    "duration": 6,
    "start_time": "2022-09-27T18:43:25.644Z"
   },
   {
    "duration": 15,
    "start_time": "2022-09-27T18:43:25.652Z"
   },
   {
    "duration": 49,
    "start_time": "2022-09-27T18:43:25.669Z"
   },
   {
    "duration": 12,
    "start_time": "2022-09-27T18:43:25.720Z"
   },
   {
    "duration": 24,
    "start_time": "2022-09-27T18:43:25.733Z"
   },
   {
    "duration": 7,
    "start_time": "2022-09-27T18:43:25.758Z"
   },
   {
    "duration": 66,
    "start_time": "2022-09-27T18:43:25.766Z"
   },
   {
    "duration": 4,
    "start_time": "2022-09-27T18:43:25.833Z"
   },
   {
    "duration": 726,
    "start_time": "2022-09-27T18:43:25.838Z"
   },
   {
    "duration": 10,
    "start_time": "2022-09-27T18:43:26.566Z"
   },
   {
    "duration": 22490,
    "start_time": "2022-09-27T18:43:26.578Z"
   },
   {
    "duration": 10575,
    "start_time": "2022-09-27T18:43:49.070Z"
   },
   {
    "duration": 12522,
    "start_time": "2022-09-27T18:43:59.648Z"
   },
   {
    "duration": 5,
    "start_time": "2022-09-27T18:44:12.172Z"
   },
   {
    "duration": 2370,
    "start_time": "2022-09-27T18:44:12.178Z"
   },
   {
    "duration": 7,
    "start_time": "2022-09-27T18:44:14.550Z"
   },
   {
    "duration": 70,
    "start_time": "2022-09-27T18:44:14.559Z"
   },
   {
    "duration": 3606,
    "start_time": "2022-09-27T18:44:14.630Z"
   },
   {
    "duration": 5,
    "start_time": "2022-09-27T18:44:18.237Z"
   },
   {
    "duration": 3931,
    "start_time": "2022-09-27T18:44:18.243Z"
   },
   {
    "duration": 580,
    "start_time": "2022-09-27T18:44:22.176Z"
   },
   {
    "duration": 866,
    "start_time": "2022-09-27T18:44:22.758Z"
   },
   {
    "duration": 2758,
    "start_time": "2022-09-27T18:44:23.626Z"
   },
   {
    "duration": 39,
    "start_time": "2022-09-27T18:44:26.386Z"
   },
   {
    "duration": 9,
    "start_time": "2022-09-27T18:44:26.428Z"
   },
   {
    "duration": 61,
    "start_time": "2022-09-27T18:44:26.439Z"
   },
   {
    "duration": 50,
    "start_time": "2022-09-27T18:44:26.503Z"
   },
   {
    "duration": 11,
    "start_time": "2022-09-27T18:44:26.555Z"
   },
   {
    "duration": 447,
    "start_time": "2022-09-27T18:44:26.568Z"
   },
   {
    "duration": 808,
    "start_time": "2022-09-27T18:44:27.017Z"
   },
   {
    "duration": 37,
    "start_time": "2022-09-27T18:44:27.826Z"
   },
   {
    "duration": 402,
    "start_time": "2022-09-27T18:44:27.865Z"
   },
   {
    "duration": 910,
    "start_time": "2022-09-27T18:44:28.269Z"
   },
   {
    "duration": 5,
    "start_time": "2022-09-27T18:44:29.180Z"
   },
   {
    "duration": 1026,
    "start_time": "2022-09-27T18:44:29.186Z"
   },
   {
    "duration": 24,
    "start_time": "2022-09-27T18:44:30.214Z"
   },
   {
    "duration": 17,
    "start_time": "2022-09-27T18:44:30.240Z"
   },
   {
    "duration": 0,
    "start_time": "2022-09-27T18:44:30.260Z"
   },
   {
    "duration": 3,
    "start_time": "2022-09-27T18:44:51.230Z"
   },
   {
    "duration": 5,
    "start_time": "2022-09-27T18:44:53.061Z"
   },
   {
    "duration": 7,
    "start_time": "2022-09-27T18:44:56.375Z"
   },
   {
    "duration": 85,
    "start_time": "2022-09-27T18:45:03.044Z"
   },
   {
    "duration": 21,
    "start_time": "2022-09-27T18:45:04.714Z"
   },
   {
    "duration": 18,
    "start_time": "2022-09-27T18:50:42.857Z"
   },
   {
    "duration": 16,
    "start_time": "2022-09-27T18:51:51.569Z"
   },
   {
    "duration": 10,
    "start_time": "2022-09-27T18:52:08.773Z"
   },
   {
    "duration": 14,
    "start_time": "2022-09-27T18:52:48.203Z"
   },
   {
    "duration": 11,
    "start_time": "2022-09-27T18:52:59.621Z"
   },
   {
    "duration": 12,
    "start_time": "2022-09-27T18:53:01.669Z"
   },
   {
    "duration": 21,
    "start_time": "2022-09-27T18:53:03.136Z"
   },
   {
    "duration": 14,
    "start_time": "2022-09-27T18:53:03.789Z"
   },
   {
    "duration": 1650,
    "start_time": "2022-09-27T18:53:17.162Z"
   },
   {
    "duration": 60,
    "start_time": "2022-09-27T18:53:18.814Z"
   },
   {
    "duration": 14,
    "start_time": "2022-09-27T18:53:18.876Z"
   },
   {
    "duration": 51,
    "start_time": "2022-09-27T18:53:18.891Z"
   },
   {
    "duration": 9,
    "start_time": "2022-09-27T18:53:18.943Z"
   },
   {
    "duration": 12,
    "start_time": "2022-09-27T18:53:18.953Z"
   },
   {
    "duration": 44,
    "start_time": "2022-09-27T18:53:18.967Z"
   },
   {
    "duration": 38,
    "start_time": "2022-09-27T18:53:19.013Z"
   },
   {
    "duration": 3,
    "start_time": "2022-09-27T18:53:19.052Z"
   },
   {
    "duration": 43,
    "start_time": "2022-09-27T18:53:19.058Z"
   },
   {
    "duration": 10,
    "start_time": "2022-09-27T18:53:19.102Z"
   },
   {
    "duration": 3,
    "start_time": "2022-09-27T18:53:19.113Z"
   },
   {
    "duration": 16,
    "start_time": "2022-09-27T18:53:19.118Z"
   },
   {
    "duration": 144,
    "start_time": "2022-09-27T18:53:19.135Z"
   },
   {
    "duration": 10,
    "start_time": "2022-09-27T18:53:19.280Z"
   },
   {
    "duration": 4,
    "start_time": "2022-09-27T18:53:19.300Z"
   },
   {
    "duration": 7,
    "start_time": "2022-09-27T18:53:19.305Z"
   },
   {
    "duration": 14,
    "start_time": "2022-09-27T18:53:19.313Z"
   },
   {
    "duration": 26,
    "start_time": "2022-09-27T18:53:19.328Z"
   },
   {
    "duration": 13,
    "start_time": "2022-09-27T18:53:19.355Z"
   },
   {
    "duration": 41,
    "start_time": "2022-09-27T18:53:19.370Z"
   },
   {
    "duration": 6,
    "start_time": "2022-09-27T18:53:19.413Z"
   },
   {
    "duration": 105,
    "start_time": "2022-09-27T18:53:19.420Z"
   },
   {
    "duration": 3,
    "start_time": "2022-09-27T18:53:19.526Z"
   },
   {
    "duration": 625,
    "start_time": "2022-09-27T18:53:19.530Z"
   },
   {
    "duration": 8,
    "start_time": "2022-09-27T18:53:20.157Z"
   },
   {
    "duration": 19781,
    "start_time": "2022-09-27T18:53:20.166Z"
   },
   {
    "duration": 10104,
    "start_time": "2022-09-27T18:53:39.950Z"
   },
   {
    "duration": 11883,
    "start_time": "2022-09-27T18:53:50.056Z"
   },
   {
    "duration": 4,
    "start_time": "2022-09-27T18:54:01.941Z"
   },
   {
    "duration": 1942,
    "start_time": "2022-09-27T18:54:01.946Z"
   },
   {
    "duration": 12,
    "start_time": "2022-09-27T18:54:03.889Z"
   },
   {
    "duration": 30,
    "start_time": "2022-09-27T18:54:03.902Z"
   },
   {
    "duration": 886,
    "start_time": "2022-09-27T18:54:03.933Z"
   },
   {
    "duration": 5,
    "start_time": "2022-09-27T18:54:04.821Z"
   },
   {
    "duration": 1837,
    "start_time": "2022-09-27T18:54:04.827Z"
   },
   {
    "duration": 570,
    "start_time": "2022-09-27T18:54:06.666Z"
   },
   {
    "duration": 831,
    "start_time": "2022-09-27T18:54:07.238Z"
   },
   {
    "duration": 2115,
    "start_time": "2022-09-27T18:54:08.070Z"
   },
   {
    "duration": 34,
    "start_time": "2022-09-27T18:54:10.186Z"
   },
   {
    "duration": 6,
    "start_time": "2022-09-27T18:54:10.222Z"
   },
   {
    "duration": 52,
    "start_time": "2022-09-27T18:54:10.230Z"
   },
   {
    "duration": 52,
    "start_time": "2022-09-27T18:54:10.284Z"
   },
   {
    "duration": 10,
    "start_time": "2022-09-27T18:54:10.338Z"
   },
   {
    "duration": 421,
    "start_time": "2022-09-27T18:54:10.350Z"
   },
   {
    "duration": 778,
    "start_time": "2022-09-27T18:54:10.773Z"
   },
   {
    "duration": 37,
    "start_time": "2022-09-27T18:54:11.553Z"
   },
   {
    "duration": 378,
    "start_time": "2022-09-27T18:54:11.602Z"
   },
   {
    "duration": 870,
    "start_time": "2022-09-27T18:54:11.982Z"
   },
   {
    "duration": 3,
    "start_time": "2022-09-27T18:54:12.854Z"
   },
   {
    "duration": 1020,
    "start_time": "2022-09-27T18:54:12.859Z"
   },
   {
    "duration": 31,
    "start_time": "2022-09-27T18:54:13.881Z"
   },
   {
    "duration": 7,
    "start_time": "2022-09-27T18:54:13.914Z"
   },
   {
    "duration": 89,
    "start_time": "2022-09-27T18:54:13.923Z"
   },
   {
    "duration": 17,
    "start_time": "2022-09-27T18:54:14.013Z"
   },
   {
    "duration": 12,
    "start_time": "2022-09-27T18:54:14.032Z"
   },
   {
    "duration": 3,
    "start_time": "2022-09-27T18:54:14.045Z"
   },
   {
    "duration": 53,
    "start_time": "2022-09-27T18:54:14.049Z"
   },
   {
    "duration": 54,
    "start_time": "2022-09-27T18:54:14.104Z"
   },
   {
    "duration": 22,
    "start_time": "2022-09-27T18:54:14.160Z"
   },
   {
    "duration": 14,
    "start_time": "2022-09-27T18:54:14.201Z"
   },
   {
    "duration": 18,
    "start_time": "2022-09-27T18:54:14.217Z"
   },
   {
    "duration": 23,
    "start_time": "2022-09-27T18:54:14.236Z"
   },
   {
    "duration": 961,
    "start_time": "2022-09-27T18:54:14.262Z"
   },
   {
    "duration": 0,
    "start_time": "2022-09-27T18:54:15.224Z"
   },
   {
    "duration": 0,
    "start_time": "2022-09-27T18:54:15.226Z"
   },
   {
    "duration": 0,
    "start_time": "2022-09-27T18:54:15.227Z"
   },
   {
    "duration": 17,
    "start_time": "2022-09-27T18:55:39.497Z"
   },
   {
    "duration": 19,
    "start_time": "2022-09-27T18:55:54.345Z"
   },
   {
    "duration": 34,
    "start_time": "2022-09-27T18:58:55.825Z"
   },
   {
    "duration": 4,
    "start_time": "2022-09-27T18:59:16.800Z"
   },
   {
    "duration": 9,
    "start_time": "2022-09-27T18:59:25.444Z"
   },
   {
    "duration": 4,
    "start_time": "2022-09-27T18:59:30.419Z"
   },
   {
    "duration": 21,
    "start_time": "2022-09-27T18:59:35.797Z"
   },
   {
    "duration": 12,
    "start_time": "2022-09-27T19:00:50.082Z"
   },
   {
    "duration": 353,
    "start_time": "2022-09-27T19:01:00.523Z"
   },
   {
    "duration": 659,
    "start_time": "2022-09-27T19:01:23.821Z"
   },
   {
    "duration": 311,
    "start_time": "2022-09-27T19:01:37.891Z"
   },
   {
    "duration": 309,
    "start_time": "2022-09-27T19:01:47.171Z"
   },
   {
    "duration": 925,
    "start_time": "2022-09-27T19:01:56.352Z"
   },
   {
    "duration": 1319,
    "start_time": "2022-09-27T19:02:08.463Z"
   },
   {
    "duration": 1095,
    "start_time": "2022-09-27T19:02:20.657Z"
   },
   {
    "duration": 919,
    "start_time": "2022-09-27T19:02:43.309Z"
   },
   {
    "duration": 955,
    "start_time": "2022-09-27T19:03:16.834Z"
   },
   {
    "duration": 3663,
    "start_time": "2022-09-27T19:03:29.563Z"
   },
   {
    "duration": 30,
    "start_time": "2022-09-27T19:04:31.823Z"
   },
   {
    "duration": 37,
    "start_time": "2022-09-27T19:04:39.677Z"
   },
   {
    "duration": 231,
    "start_time": "2022-09-27T19:05:56.360Z"
   },
   {
    "duration": 23,
    "start_time": "2022-09-27T19:06:00.137Z"
   },
   {
    "duration": 29,
    "start_time": "2022-09-27T19:09:39.222Z"
   },
   {
    "duration": 30,
    "start_time": "2022-09-27T19:09:53.700Z"
   },
   {
    "duration": 32,
    "start_time": "2022-09-27T19:10:33.119Z"
   },
   {
    "duration": 31,
    "start_time": "2022-09-27T19:11:16.571Z"
   },
   {
    "duration": 25,
    "start_time": "2022-09-27T19:11:26.807Z"
   },
   {
    "duration": 23,
    "start_time": "2022-09-27T19:11:47.963Z"
   },
   {
    "duration": 42,
    "start_time": "2022-09-27T19:17:48.787Z"
   },
   {
    "duration": 48,
    "start_time": "2022-09-27T19:17:59.431Z"
   },
   {
    "duration": 18,
    "start_time": "2022-09-27T19:18:00.272Z"
   },
   {
    "duration": 11,
    "start_time": "2022-09-27T19:18:15.540Z"
   },
   {
    "duration": 35,
    "start_time": "2022-09-27T19:21:02.877Z"
   },
   {
    "duration": 33,
    "start_time": "2022-09-27T19:21:07.854Z"
   },
   {
    "duration": 39,
    "start_time": "2022-09-27T19:21:17.041Z"
   },
   {
    "duration": 41,
    "start_time": "2022-09-27T19:21:28.935Z"
   },
   {
    "duration": 44,
    "start_time": "2022-09-27T19:22:45.142Z"
   },
   {
    "duration": 12,
    "start_time": "2022-09-27T19:23:12.226Z"
   },
   {
    "duration": 29,
    "start_time": "2022-09-27T19:24:49.871Z"
   },
   {
    "duration": 15,
    "start_time": "2022-09-27T19:25:05.553Z"
   },
   {
    "duration": 15,
    "start_time": "2022-09-27T19:25:19.804Z"
   },
   {
    "duration": 48,
    "start_time": "2022-09-27T19:25:26.612Z"
   },
   {
    "duration": 14,
    "start_time": "2022-09-27T19:25:27.080Z"
   },
   {
    "duration": 11,
    "start_time": "2022-09-27T19:25:28.588Z"
   },
   {
    "duration": 24,
    "start_time": "2022-09-27T19:25:41.397Z"
   },
   {
    "duration": 18,
    "start_time": "2022-09-27T19:25:48.605Z"
   },
   {
    "duration": 24,
    "start_time": "2022-09-27T19:26:45.338Z"
   },
   {
    "duration": 18,
    "start_time": "2022-09-27T19:27:32.657Z"
   },
   {
    "duration": 24,
    "start_time": "2022-09-27T19:27:33.919Z"
   },
   {
    "duration": 24,
    "start_time": "2022-09-27T19:28:05.931Z"
   },
   {
    "duration": 33,
    "start_time": "2022-09-27T19:30:14.090Z"
   },
   {
    "duration": 43,
    "start_time": "2022-09-27T19:31:51.436Z"
   },
   {
    "duration": 3785,
    "start_time": "2022-09-27T19:33:19.116Z"
   },
   {
    "duration": 3652,
    "start_time": "2022-09-27T19:33:56.582Z"
   },
   {
    "duration": 25,
    "start_time": "2022-09-27T19:34:46.971Z"
   },
   {
    "duration": 52,
    "start_time": "2022-09-27T19:38:24.780Z"
   },
   {
    "duration": 16,
    "start_time": "2022-09-27T20:37:17.820Z"
   },
   {
    "duration": 49,
    "start_time": "2022-09-27T20:38:53.387Z"
   },
   {
    "duration": 237,
    "start_time": "2022-09-27T20:38:58.354Z"
   },
   {
    "duration": 869,
    "start_time": "2022-09-27T20:38:59.537Z"
   },
   {
    "duration": 4,
    "start_time": "2022-09-27T20:39:01.831Z"
   },
   {
    "duration": 979,
    "start_time": "2022-09-27T20:39:02.539Z"
   },
   {
    "duration": 22,
    "start_time": "2022-09-27T20:39:05.940Z"
   },
   {
    "duration": 22,
    "start_time": "2022-09-27T20:39:35.468Z"
   },
   {
    "duration": 1631,
    "start_time": "2022-09-27T20:40:12.316Z"
   },
   {
    "duration": 60,
    "start_time": "2022-09-27T20:40:13.949Z"
   },
   {
    "duration": 15,
    "start_time": "2022-09-27T20:40:14.011Z"
   },
   {
    "duration": 79,
    "start_time": "2022-09-27T20:40:14.027Z"
   },
   {
    "duration": 10,
    "start_time": "2022-09-27T20:40:14.108Z"
   },
   {
    "duration": 12,
    "start_time": "2022-09-27T20:40:14.120Z"
   },
   {
    "duration": 19,
    "start_time": "2022-09-27T20:40:14.133Z"
   },
   {
    "duration": 69,
    "start_time": "2022-09-27T20:40:14.153Z"
   },
   {
    "duration": 3,
    "start_time": "2022-09-27T20:40:14.224Z"
   },
   {
    "duration": 9,
    "start_time": "2022-09-27T20:40:14.229Z"
   },
   {
    "duration": 10,
    "start_time": "2022-09-27T20:40:14.239Z"
   },
   {
    "duration": 4,
    "start_time": "2022-09-27T20:40:14.250Z"
   },
   {
    "duration": 47,
    "start_time": "2022-09-27T20:40:14.255Z"
   },
   {
    "duration": 158,
    "start_time": "2022-09-27T20:40:14.303Z"
   },
   {
    "duration": 13,
    "start_time": "2022-09-27T20:40:14.464Z"
   },
   {
    "duration": 8,
    "start_time": "2022-09-27T20:40:14.479Z"
   },
   {
    "duration": 7,
    "start_time": "2022-09-27T20:40:14.499Z"
   },
   {
    "duration": 21,
    "start_time": "2022-09-27T20:40:14.509Z"
   },
   {
    "duration": 26,
    "start_time": "2022-09-27T20:40:14.532Z"
   },
   {
    "duration": 13,
    "start_time": "2022-09-27T20:40:14.560Z"
   },
   {
    "duration": 42,
    "start_time": "2022-09-27T20:40:14.575Z"
   },
   {
    "duration": 5,
    "start_time": "2022-09-27T20:40:14.619Z"
   },
   {
    "duration": 108,
    "start_time": "2022-09-27T20:40:14.626Z"
   },
   {
    "duration": 3,
    "start_time": "2022-09-27T20:40:14.735Z"
   },
   {
    "duration": 625,
    "start_time": "2022-09-27T20:40:14.739Z"
   },
   {
    "duration": 6,
    "start_time": "2022-09-27T20:40:15.367Z"
   },
   {
    "duration": 19671,
    "start_time": "2022-09-27T20:40:15.375Z"
   },
   {
    "duration": 9691,
    "start_time": "2022-09-27T20:40:35.049Z"
   },
   {
    "duration": 11840,
    "start_time": "2022-09-27T20:40:44.742Z"
   },
   {
    "duration": 4,
    "start_time": "2022-09-27T20:40:56.584Z"
   },
   {
    "duration": 1902,
    "start_time": "2022-09-27T20:40:56.590Z"
   },
   {
    "duration": 8,
    "start_time": "2022-09-27T20:40:58.500Z"
   },
   {
    "duration": 32,
    "start_time": "2022-09-27T20:40:58.509Z"
   },
   {
    "duration": 3789,
    "start_time": "2022-09-27T20:40:58.543Z"
   },
   {
    "duration": 4,
    "start_time": "2022-09-27T20:41:02.334Z"
   },
   {
    "duration": 3369,
    "start_time": "2022-09-27T20:41:02.340Z"
   },
   {
    "duration": 592,
    "start_time": "2022-09-27T20:41:05.711Z"
   },
   {
    "duration": 816,
    "start_time": "2022-09-27T20:41:06.305Z"
   },
   {
    "duration": 1978,
    "start_time": "2022-09-27T20:41:07.123Z"
   },
   {
    "duration": 26,
    "start_time": "2022-09-27T20:41:09.102Z"
   },
   {
    "duration": 6,
    "start_time": "2022-09-27T20:41:09.130Z"
   },
   {
    "duration": 20,
    "start_time": "2022-09-27T20:41:09.137Z"
   },
   {
    "duration": 75,
    "start_time": "2022-09-27T20:41:09.158Z"
   },
   {
    "duration": 10,
    "start_time": "2022-09-27T20:41:09.234Z"
   },
   {
    "duration": 426,
    "start_time": "2022-09-27T20:41:09.245Z"
   },
   {
    "duration": 785,
    "start_time": "2022-09-27T20:41:09.673Z"
   },
   {
    "duration": 41,
    "start_time": "2022-09-27T20:41:10.460Z"
   },
   {
    "duration": 361,
    "start_time": "2022-09-27T20:41:10.502Z"
   },
   {
    "duration": 877,
    "start_time": "2022-09-27T20:41:10.865Z"
   },
   {
    "duration": 4,
    "start_time": "2022-09-27T20:41:11.744Z"
   },
   {
    "duration": 955,
    "start_time": "2022-09-27T20:41:11.749Z"
   },
   {
    "duration": 140,
    "start_time": "2022-09-27T20:41:12.706Z"
   },
   {
    "duration": 0,
    "start_time": "2022-09-27T20:41:12.848Z"
   },
   {
    "duration": 0,
    "start_time": "2022-09-27T20:41:12.849Z"
   },
   {
    "duration": 0,
    "start_time": "2022-09-27T20:41:12.851Z"
   },
   {
    "duration": 0,
    "start_time": "2022-09-27T20:41:12.852Z"
   },
   {
    "duration": 0,
    "start_time": "2022-09-27T20:41:12.853Z"
   },
   {
    "duration": 0,
    "start_time": "2022-09-27T20:41:12.855Z"
   },
   {
    "duration": 0,
    "start_time": "2022-09-27T20:41:12.856Z"
   },
   {
    "duration": 0,
    "start_time": "2022-09-27T20:41:12.857Z"
   },
   {
    "duration": 0,
    "start_time": "2022-09-27T20:41:12.859Z"
   },
   {
    "duration": 0,
    "start_time": "2022-09-27T20:41:12.860Z"
   },
   {
    "duration": 0,
    "start_time": "2022-09-27T20:41:12.861Z"
   },
   {
    "duration": 0,
    "start_time": "2022-09-27T20:41:12.862Z"
   },
   {
    "duration": 0,
    "start_time": "2022-09-27T20:41:12.864Z"
   },
   {
    "duration": 0,
    "start_time": "2022-09-27T20:41:12.865Z"
   },
   {
    "duration": 0,
    "start_time": "2022-09-27T20:41:12.866Z"
   },
   {
    "duration": 0,
    "start_time": "2022-09-27T20:41:12.900Z"
   },
   {
    "duration": 26,
    "start_time": "2022-09-27T20:41:34.982Z"
   },
   {
    "duration": 25,
    "start_time": "2022-09-27T20:42:11.116Z"
   },
   {
    "duration": 23,
    "start_time": "2022-09-27T20:42:15.077Z"
   },
   {
    "duration": 37,
    "start_time": "2022-09-27T20:42:19.402Z"
   },
   {
    "duration": 7,
    "start_time": "2022-09-27T20:42:25.801Z"
   },
   {
    "duration": 9,
    "start_time": "2022-09-27T20:42:28.218Z"
   },
   {
    "duration": 74,
    "start_time": "2022-09-27T20:42:29.199Z"
   },
   {
    "duration": 17,
    "start_time": "2022-09-27T20:42:34.834Z"
   },
   {
    "duration": 37,
    "start_time": "2022-09-27T20:43:24.122Z"
   },
   {
    "duration": 75,
    "start_time": "2022-09-27T20:43:41.197Z"
   },
   {
    "duration": 18,
    "start_time": "2022-09-27T20:44:06.220Z"
   },
   {
    "duration": 13,
    "start_time": "2022-09-27T20:44:18.968Z"
   },
   {
    "duration": 34,
    "start_time": "2022-09-27T20:44:28.362Z"
   },
   {
    "duration": 241,
    "start_time": "2022-09-27T20:44:29.693Z"
   },
   {
    "duration": 893,
    "start_time": "2022-09-27T20:44:30.252Z"
   },
   {
    "duration": 4,
    "start_time": "2022-09-27T20:44:31.181Z"
   },
   {
    "duration": 948,
    "start_time": "2022-09-27T20:44:31.765Z"
   },
   {
    "duration": 28,
    "start_time": "2022-09-27T20:44:34.142Z"
   },
   {
    "duration": 7,
    "start_time": "2022-09-27T20:44:41.403Z"
   },
   {
    "duration": 14,
    "start_time": "2022-09-27T20:44:43.367Z"
   },
   {
    "duration": 79,
    "start_time": "2022-09-27T20:44:49.851Z"
   },
   {
    "duration": 16,
    "start_time": "2022-09-27T20:45:11.292Z"
   },
   {
    "duration": 77,
    "start_time": "2022-09-27T20:46:09.820Z"
   },
   {
    "duration": 75,
    "start_time": "2022-09-27T20:46:31.255Z"
   },
   {
    "duration": 91,
    "start_time": "2022-09-27T20:46:49.171Z"
   },
   {
    "duration": 17,
    "start_time": "2022-09-27T20:46:52.390Z"
   },
   {
    "duration": 9,
    "start_time": "2022-09-27T20:47:03.008Z"
   },
   {
    "duration": 10,
    "start_time": "2022-09-27T20:47:05.527Z"
   },
   {
    "duration": 74,
    "start_time": "2022-09-27T20:47:05.848Z"
   },
   {
    "duration": 18,
    "start_time": "2022-09-27T20:47:06.290Z"
   },
   {
    "duration": 5,
    "start_time": "2022-09-27T20:47:20.846Z"
   },
   {
    "duration": 20,
    "start_time": "2022-09-27T20:47:21.239Z"
   },
   {
    "duration": 47,
    "start_time": "2022-09-27T20:47:36.945Z"
   },
   {
    "duration": 290,
    "start_time": "2022-09-27T20:47:37.836Z"
   },
   {
    "duration": 923,
    "start_time": "2022-09-27T20:47:38.255Z"
   },
   {
    "duration": 4,
    "start_time": "2022-09-27T20:47:39.181Z"
   },
   {
    "duration": 1273,
    "start_time": "2022-09-27T20:47:39.188Z"
   },
   {
    "duration": 39,
    "start_time": "2022-09-27T20:47:40.463Z"
   },
   {
    "duration": 9,
    "start_time": "2022-09-27T20:47:40.594Z"
   },
   {
    "duration": 8,
    "start_time": "2022-09-27T20:47:41.768Z"
   },
   {
    "duration": 55,
    "start_time": "2022-09-27T20:47:42.337Z"
   },
   {
    "duration": 16,
    "start_time": "2022-09-27T20:47:43.702Z"
   },
   {
    "duration": 1880,
    "start_time": "2022-09-27T20:48:58.338Z"
   },
   {
    "duration": 75,
    "start_time": "2022-09-27T20:49:00.220Z"
   },
   {
    "duration": 21,
    "start_time": "2022-09-27T20:49:00.297Z"
   },
   {
    "duration": 88,
    "start_time": "2022-09-27T20:49:00.321Z"
   },
   {
    "duration": 14,
    "start_time": "2022-09-27T20:49:00.412Z"
   },
   {
    "duration": 34,
    "start_time": "2022-09-27T20:49:00.429Z"
   },
   {
    "duration": 36,
    "start_time": "2022-09-27T20:49:00.465Z"
   },
   {
    "duration": 50,
    "start_time": "2022-09-27T20:49:00.503Z"
   },
   {
    "duration": 5,
    "start_time": "2022-09-27T20:49:00.555Z"
   },
   {
    "duration": 19,
    "start_time": "2022-09-27T20:49:00.601Z"
   },
   {
    "duration": 22,
    "start_time": "2022-09-27T20:49:00.621Z"
   },
   {
    "duration": 5,
    "start_time": "2022-09-27T20:49:00.646Z"
   },
   {
    "duration": 27,
    "start_time": "2022-09-27T20:49:00.653Z"
   },
   {
    "duration": 161,
    "start_time": "2022-09-27T20:49:00.684Z"
   },
   {
    "duration": 13,
    "start_time": "2022-09-27T20:49:00.847Z"
   },
   {
    "duration": 9,
    "start_time": "2022-09-27T20:49:00.862Z"
   },
   {
    "duration": 29,
    "start_time": "2022-09-27T20:49:00.873Z"
   },
   {
    "duration": 31,
    "start_time": "2022-09-27T20:49:00.904Z"
   },
   {
    "duration": 26,
    "start_time": "2022-09-27T20:49:00.936Z"
   },
   {
    "duration": 42,
    "start_time": "2022-09-27T20:49:00.965Z"
   },
   {
    "duration": 30,
    "start_time": "2022-09-27T20:49:01.009Z"
   },
   {
    "duration": 9,
    "start_time": "2022-09-27T20:49:01.042Z"
   },
   {
    "duration": 122,
    "start_time": "2022-09-27T20:49:01.053Z"
   },
   {
    "duration": 24,
    "start_time": "2022-09-27T20:49:01.176Z"
   },
   {
    "duration": 730,
    "start_time": "2022-09-27T20:49:01.202Z"
   },
   {
    "duration": 9,
    "start_time": "2022-09-27T20:49:01.934Z"
   },
   {
    "duration": 20074,
    "start_time": "2022-09-27T20:49:01.945Z"
   },
   {
    "duration": 9720,
    "start_time": "2022-09-27T20:49:22.020Z"
   },
   {
    "duration": 11980,
    "start_time": "2022-09-27T20:49:31.741Z"
   },
   {
    "duration": 4,
    "start_time": "2022-09-27T20:49:43.724Z"
   },
   {
    "duration": 2533,
    "start_time": "2022-09-27T20:49:43.729Z"
   },
   {
    "duration": 9,
    "start_time": "2022-09-27T20:49:46.264Z"
   },
   {
    "duration": 51,
    "start_time": "2022-09-27T20:49:46.274Z"
   },
   {
    "duration": 564,
    "start_time": "2022-09-27T20:49:46.327Z"
   },
   {
    "duration": 4,
    "start_time": "2022-09-27T20:49:46.892Z"
   },
   {
    "duration": 1363,
    "start_time": "2022-09-27T20:49:46.898Z"
   },
   {
    "duration": 627,
    "start_time": "2022-09-27T20:49:48.264Z"
   },
   {
    "duration": 1022,
    "start_time": "2022-09-27T20:49:48.893Z"
   },
   {
    "duration": 2866,
    "start_time": "2022-09-27T20:49:49.917Z"
   },
   {
    "duration": 59,
    "start_time": "2022-09-27T20:49:52.785Z"
   },
   {
    "duration": 8,
    "start_time": "2022-09-27T20:49:52.848Z"
   },
   {
    "duration": 75,
    "start_time": "2022-09-27T20:49:52.858Z"
   },
   {
    "duration": 49,
    "start_time": "2022-09-27T20:49:52.935Z"
   },
   {
    "duration": 25,
    "start_time": "2022-09-27T20:49:52.985Z"
   },
   {
    "duration": 569,
    "start_time": "2022-09-27T20:49:53.011Z"
   },
   {
    "duration": 1213,
    "start_time": "2022-09-27T20:49:53.582Z"
   },
   {
    "duration": 51,
    "start_time": "2022-09-27T20:49:54.800Z"
   },
   {
    "duration": 335,
    "start_time": "2022-09-27T20:49:54.853Z"
   },
   {
    "duration": 1075,
    "start_time": "2022-09-27T20:49:55.190Z"
   },
   {
    "duration": 5,
    "start_time": "2022-09-27T20:49:56.267Z"
   },
   {
    "duration": 1200,
    "start_time": "2022-09-27T20:49:56.273Z"
   },
   {
    "duration": 37,
    "start_time": "2022-09-27T20:49:57.476Z"
   },
   {
    "duration": 8,
    "start_time": "2022-09-27T20:49:57.514Z"
   },
   {
    "duration": 111,
    "start_time": "2022-09-27T20:49:57.523Z"
   },
   {
    "duration": 23,
    "start_time": "2022-09-27T20:49:57.636Z"
   },
   {
    "duration": 13,
    "start_time": "2022-09-27T20:49:57.661Z"
   },
   {
    "duration": 2,
    "start_time": "2022-09-27T20:49:57.676Z"
   },
   {
    "duration": 46,
    "start_time": "2022-09-27T20:49:57.680Z"
   },
   {
    "duration": 53,
    "start_time": "2022-09-27T20:49:57.728Z"
   },
   {
    "duration": 35,
    "start_time": "2022-09-27T20:49:57.783Z"
   },
   {
    "duration": 9,
    "start_time": "2022-09-27T20:49:57.820Z"
   },
   {
    "duration": 17,
    "start_time": "2022-09-27T20:49:57.830Z"
   },
   {
    "duration": 56,
    "start_time": "2022-09-27T20:49:57.848Z"
   },
   {
    "duration": 4318,
    "start_time": "2022-09-27T20:49:57.906Z"
   },
   {
    "duration": 159,
    "start_time": "2022-09-27T20:50:02.226Z"
   },
   {
    "duration": 0,
    "start_time": "2022-09-27T20:50:02.387Z"
   },
   {
    "duration": 0,
    "start_time": "2022-09-27T20:50:02.388Z"
   },
   {
    "duration": 0,
    "start_time": "2022-09-27T20:50:02.389Z"
   },
   {
    "duration": 52,
    "start_time": "2022-09-27T20:51:32.407Z"
   },
   {
    "duration": 9,
    "start_time": "2022-09-27T20:54:42.938Z"
   },
   {
    "duration": 15,
    "start_time": "2022-09-27T20:54:46.399Z"
   },
   {
    "duration": 46,
    "start_time": "2022-09-27T20:55:06.168Z"
   },
   {
    "duration": 15,
    "start_time": "2022-09-27T20:55:38.030Z"
   },
   {
    "duration": 33,
    "start_time": "2022-09-27T20:55:38.955Z"
   },
   {
    "duration": 16,
    "start_time": "2022-09-27T20:55:41.890Z"
   },
   {
    "duration": 29,
    "start_time": "2022-09-27T20:56:05.987Z"
   },
   {
    "duration": 41,
    "start_time": "2022-09-27T20:56:11.957Z"
   },
   {
    "duration": 17,
    "start_time": "2022-09-27T20:56:12.852Z"
   },
   {
    "duration": 33,
    "start_time": "2022-09-27T20:56:13.920Z"
   },
   {
    "duration": 20,
    "start_time": "2022-09-27T20:56:14.720Z"
   },
   {
    "duration": 11,
    "start_time": "2022-09-27T20:56:35.587Z"
   },
   {
    "duration": 44,
    "start_time": "2022-09-27T20:56:39.419Z"
   },
   {
    "duration": 15,
    "start_time": "2022-09-27T20:56:40.660Z"
   },
   {
    "duration": 46,
    "start_time": "2022-09-27T20:56:41.299Z"
   },
   {
    "duration": 17,
    "start_time": "2022-09-27T20:56:41.801Z"
   },
   {
    "duration": 41,
    "start_time": "2022-09-27T20:56:55.498Z"
   },
   {
    "duration": 15,
    "start_time": "2022-09-27T20:57:00.845Z"
   },
   {
    "duration": 45,
    "start_time": "2022-09-27T20:57:06.023Z"
   },
   {
    "duration": 15,
    "start_time": "2022-09-27T20:57:06.789Z"
   },
   {
    "duration": 48,
    "start_time": "2022-09-27T20:57:34.581Z"
   },
   {
    "duration": 42,
    "start_time": "2022-09-27T20:57:37.974Z"
   },
   {
    "duration": 44,
    "start_time": "2022-09-27T20:57:47.650Z"
   },
   {
    "duration": 40,
    "start_time": "2022-09-27T20:57:48.559Z"
   },
   {
    "duration": 19,
    "start_time": "2022-09-27T20:57:48.980Z"
   },
   {
    "duration": 12,
    "start_time": "2022-09-27T20:58:22.783Z"
   },
   {
    "duration": 28,
    "start_time": "2022-09-27T20:58:36.274Z"
   },
   {
    "duration": 49,
    "start_time": "2022-09-27T20:58:37.318Z"
   },
   {
    "duration": 20,
    "start_time": "2022-09-27T20:58:37.692Z"
   },
   {
    "duration": 11,
    "start_time": "2022-09-27T20:58:39.205Z"
   },
   {
    "duration": 10,
    "start_time": "2022-09-27T21:00:26.445Z"
   },
   {
    "duration": 2,
    "start_time": "2022-09-27T21:00:30.368Z"
   },
   {
    "duration": 2,
    "start_time": "2022-09-27T21:00:31.130Z"
   },
   {
    "duration": 13,
    "start_time": "2022-09-27T21:00:31.425Z"
   },
   {
    "duration": 3,
    "start_time": "2022-09-27T21:01:05.085Z"
   },
   {
    "duration": 3,
    "start_time": "2022-09-27T21:01:11.135Z"
   },
   {
    "duration": 24,
    "start_time": "2022-09-27T21:01:11.459Z"
   },
   {
    "duration": 19,
    "start_time": "2022-09-27T21:01:16.150Z"
   },
   {
    "duration": 32,
    "start_time": "2022-09-27T21:01:53.164Z"
   },
   {
    "duration": 19,
    "start_time": "2022-09-27T21:02:13.729Z"
   },
   {
    "duration": 18,
    "start_time": "2022-09-27T21:02:23.302Z"
   },
   {
    "duration": 3,
    "start_time": "2022-09-27T21:03:07.655Z"
   },
   {
    "duration": 18,
    "start_time": "2022-09-27T21:03:27.257Z"
   },
   {
    "duration": 17,
    "start_time": "2022-09-27T21:03:32.833Z"
   },
   {
    "duration": 4,
    "start_time": "2022-09-27T21:03:41.218Z"
   },
   {
    "duration": 4,
    "start_time": "2022-09-27T21:03:42.450Z"
   },
   {
    "duration": 392,
    "start_time": "2022-09-27T21:03:43.009Z"
   },
   {
    "duration": 20,
    "start_time": "2022-09-27T21:03:45.226Z"
   },
   {
    "duration": 271,
    "start_time": "2022-09-27T21:04:07.736Z"
   },
   {
    "duration": 5,
    "start_time": "2022-09-27T21:04:25.222Z"
   },
   {
    "duration": 36,
    "start_time": "2022-09-27T21:04:53.405Z"
   },
   {
    "duration": 41,
    "start_time": "2022-09-27T21:04:59.888Z"
   },
   {
    "duration": 48,
    "start_time": "2022-09-27T21:05:01.312Z"
   },
   {
    "duration": 20,
    "start_time": "2022-09-27T21:05:01.552Z"
   },
   {
    "duration": 8,
    "start_time": "2022-09-27T22:24:46.710Z"
   },
   {
    "duration": 7,
    "start_time": "2022-09-27T22:24:47.765Z"
   },
   {
    "duration": 7,
    "start_time": "2022-09-27T22:25:28.872Z"
   },
   {
    "duration": 8,
    "start_time": "2022-09-27T22:25:30.362Z"
   },
   {
    "duration": 8,
    "start_time": "2022-09-27T22:25:30.576Z"
   },
   {
    "duration": 3,
    "start_time": "2022-09-27T22:31:47.791Z"
   },
   {
    "duration": 26,
    "start_time": "2022-09-27T22:31:55.431Z"
   },
   {
    "duration": 17,
    "start_time": "2022-09-27T22:33:25.817Z"
   },
   {
    "duration": 19,
    "start_time": "2022-09-27T22:34:26.642Z"
   },
   {
    "duration": 25,
    "start_time": "2022-09-27T23:12:24.613Z"
   },
   {
    "duration": 17,
    "start_time": "2022-09-27T23:12:44.968Z"
   },
   {
    "duration": 21,
    "start_time": "2022-09-27T23:12:58.927Z"
   },
   {
    "duration": 15,
    "start_time": "2022-09-27T23:13:10.350Z"
   },
   {
    "duration": 23,
    "start_time": "2022-09-27T23:13:56.937Z"
   },
   {
    "duration": 29,
    "start_time": "2022-09-27T23:14:36.634Z"
   },
   {
    "duration": 25,
    "start_time": "2022-09-27T23:14:39.900Z"
   },
   {
    "duration": 72,
    "start_time": "2022-09-27T23:14:50.941Z"
   },
   {
    "duration": 24,
    "start_time": "2022-09-27T23:14:53.738Z"
   },
   {
    "duration": 28,
    "start_time": "2022-09-27T23:15:14.377Z"
   },
   {
    "duration": 54,
    "start_time": "2022-09-27T23:16:10.615Z"
   },
   {
    "duration": 16,
    "start_time": "2022-09-27T23:16:21.688Z"
   },
   {
    "duration": 9,
    "start_time": "2022-09-27T23:16:27.098Z"
   },
   {
    "duration": 12,
    "start_time": "2022-09-27T23:16:41.783Z"
   },
   {
    "duration": 14,
    "start_time": "2022-09-27T23:17:06.846Z"
   },
   {
    "duration": 14,
    "start_time": "2022-09-27T23:17:13.905Z"
   },
   {
    "duration": 13,
    "start_time": "2022-09-27T23:17:16.073Z"
   },
   {
    "duration": 9,
    "start_time": "2022-09-27T23:17:41.242Z"
   },
   {
    "duration": 11,
    "start_time": "2022-09-27T23:17:59.047Z"
   },
   {
    "duration": 12,
    "start_time": "2022-09-27T23:18:06.994Z"
   },
   {
    "duration": 15,
    "start_time": "2022-09-27T23:18:14.357Z"
   },
   {
    "duration": 21,
    "start_time": "2022-09-27T23:18:32.495Z"
   },
   {
    "duration": 26,
    "start_time": "2022-09-27T23:18:40.380Z"
   },
   {
    "duration": 14,
    "start_time": "2022-09-27T23:18:46.526Z"
   },
   {
    "duration": 15,
    "start_time": "2022-09-27T23:18:55.436Z"
   },
   {
    "duration": 10,
    "start_time": "2022-09-27T23:48:51.108Z"
   },
   {
    "duration": 13,
    "start_time": "2022-09-27T23:48:54.731Z"
   },
   {
    "duration": 12,
    "start_time": "2022-09-27T23:49:03.999Z"
   },
   {
    "duration": 8,
    "start_time": "2022-09-27T23:49:08.112Z"
   },
   {
    "duration": 6,
    "start_time": "2022-09-27T23:49:30.450Z"
   },
   {
    "duration": 24,
    "start_time": "2022-09-27T23:49:47.387Z"
   },
   {
    "duration": 56,
    "start_time": "2022-09-27T23:50:55.093Z"
   },
   {
    "duration": 49,
    "start_time": "2022-09-27T23:51:10.263Z"
   },
   {
    "duration": 41,
    "start_time": "2022-09-27T23:51:27.458Z"
   },
   {
    "duration": 36,
    "start_time": "2022-09-27T23:51:33.779Z"
   },
   {
    "duration": 32,
    "start_time": "2022-09-27T23:51:50.871Z"
   },
   {
    "duration": 37,
    "start_time": "2022-09-27T23:52:03.602Z"
   },
   {
    "duration": 39,
    "start_time": "2022-09-27T23:52:49.540Z"
   },
   {
    "duration": 22,
    "start_time": "2022-09-27T23:52:58.191Z"
   },
   {
    "duration": 20,
    "start_time": "2022-09-27T23:53:35.016Z"
   },
   {
    "duration": 24,
    "start_time": "2022-09-27T23:53:55.258Z"
   },
   {
    "duration": 25,
    "start_time": "2022-09-27T23:54:04.063Z"
   },
   {
    "duration": 21,
    "start_time": "2022-09-27T23:54:11.416Z"
   },
   {
    "duration": 25,
    "start_time": "2022-09-27T23:54:17.805Z"
   },
   {
    "duration": 23,
    "start_time": "2022-09-27T23:54:24.923Z"
   },
   {
    "duration": 29,
    "start_time": "2022-09-27T23:55:03.896Z"
   },
   {
    "duration": 29,
    "start_time": "2022-09-27T23:55:08.296Z"
   },
   {
    "duration": 32,
    "start_time": "2022-09-27T23:55:25.025Z"
   },
   {
    "duration": 31,
    "start_time": "2022-09-27T23:55:35.189Z"
   },
   {
    "duration": 52,
    "start_time": "2022-09-27T23:57:37.175Z"
   },
   {
    "duration": 15,
    "start_time": "2022-09-27T23:57:44.708Z"
   },
   {
    "duration": 287,
    "start_time": "2022-09-27T23:57:56.612Z"
   },
   {
    "duration": 262,
    "start_time": "2022-09-27T23:58:03.540Z"
   },
   {
    "duration": 143,
    "start_time": "2022-09-27T23:58:14.164Z"
   },
   {
    "duration": 5,
    "start_time": "2022-09-28T00:00:01.154Z"
   },
   {
    "duration": 83,
    "start_time": "2022-09-28T00:00:01.161Z"
   },
   {
    "duration": 14,
    "start_time": "2022-09-28T00:00:01.245Z"
   },
   {
    "duration": 63,
    "start_time": "2022-09-28T00:00:01.261Z"
   },
   {
    "duration": 9,
    "start_time": "2022-09-28T00:00:01.325Z"
   },
   {
    "duration": 75,
    "start_time": "2022-09-28T00:00:01.336Z"
   },
   {
    "duration": 136,
    "start_time": "2022-09-28T00:00:01.412Z"
   },
   {
    "duration": 58,
    "start_time": "2022-09-28T00:00:01.549Z"
   },
   {
    "duration": 3,
    "start_time": "2022-09-28T00:00:01.609Z"
   },
   {
    "duration": 56,
    "start_time": "2022-09-28T00:00:01.614Z"
   },
   {
    "duration": 14,
    "start_time": "2022-09-28T00:00:01.672Z"
   },
   {
    "duration": 5,
    "start_time": "2022-09-28T00:00:01.688Z"
   },
   {
    "duration": 19,
    "start_time": "2022-09-28T00:00:01.695Z"
   },
   {
    "duration": 148,
    "start_time": "2022-09-28T00:00:01.715Z"
   },
   {
    "duration": 9,
    "start_time": "2022-09-28T00:00:01.865Z"
   },
   {
    "duration": 113,
    "start_time": "2022-09-28T00:00:01.876Z"
   },
   {
    "duration": 26,
    "start_time": "2022-09-28T00:00:01.990Z"
   },
   {
    "duration": 74,
    "start_time": "2022-09-28T00:00:02.018Z"
   },
   {
    "duration": 53,
    "start_time": "2022-09-28T00:00:02.093Z"
   },
   {
    "duration": 28,
    "start_time": "2022-09-28T00:00:02.148Z"
   },
   {
    "duration": 140,
    "start_time": "2022-09-28T00:00:02.178Z"
   },
   {
    "duration": 32,
    "start_time": "2022-09-28T00:00:02.319Z"
   },
   {
    "duration": 68,
    "start_time": "2022-09-28T00:00:02.353Z"
   },
   {
    "duration": 36,
    "start_time": "2022-09-28T00:00:02.424Z"
   },
   {
    "duration": 677,
    "start_time": "2022-09-28T00:00:02.462Z"
   },
   {
    "duration": 6,
    "start_time": "2022-09-28T00:00:03.141Z"
   },
   {
    "duration": 20064,
    "start_time": "2022-09-28T00:00:03.149Z"
   },
   {
    "duration": 9996,
    "start_time": "2022-09-28T00:00:23.215Z"
   },
   {
    "duration": 11737,
    "start_time": "2022-09-28T00:00:33.213Z"
   },
   {
    "duration": 5,
    "start_time": "2022-09-28T00:00:44.952Z"
   },
   {
    "duration": 1824,
    "start_time": "2022-09-28T00:00:44.958Z"
   },
   {
    "duration": 17,
    "start_time": "2022-09-28T00:00:46.784Z"
   },
   {
    "duration": 34,
    "start_time": "2022-09-28T00:00:46.803Z"
   },
   {
    "duration": 4270,
    "start_time": "2022-09-28T00:00:46.839Z"
   },
   {
    "duration": 6,
    "start_time": "2022-09-28T00:00:51.111Z"
   },
   {
    "duration": 4381,
    "start_time": "2022-09-28T00:00:51.118Z"
   },
   {
    "duration": 717,
    "start_time": "2022-09-28T00:00:55.500Z"
   },
   {
    "duration": 721,
    "start_time": "2022-09-28T00:00:56.219Z"
   },
   {
    "duration": 2043,
    "start_time": "2022-09-28T00:00:56.942Z"
   },
   {
    "duration": 39,
    "start_time": "2022-09-28T00:00:58.986Z"
   },
   {
    "duration": 5,
    "start_time": "2022-09-28T00:00:59.027Z"
   },
   {
    "duration": 19,
    "start_time": "2022-09-28T00:00:59.034Z"
   },
   {
    "duration": 70,
    "start_time": "2022-09-28T00:00:59.055Z"
   },
   {
    "duration": 10,
    "start_time": "2022-09-28T00:00:59.127Z"
   },
   {
    "duration": 548,
    "start_time": "2022-09-28T00:00:59.139Z"
   },
   {
    "duration": 762,
    "start_time": "2022-09-28T00:00:59.689Z"
   },
   {
    "duration": 48,
    "start_time": "2022-09-28T00:01:00.453Z"
   },
   {
    "duration": 239,
    "start_time": "2022-09-28T00:01:00.503Z"
   },
   {
    "duration": 894,
    "start_time": "2022-09-28T00:01:00.744Z"
   },
   {
    "duration": 3,
    "start_time": "2022-09-28T00:01:01.640Z"
   },
   {
    "duration": 958,
    "start_time": "2022-09-28T00:01:01.645Z"
   },
   {
    "duration": 26,
    "start_time": "2022-09-28T00:36:38.255Z"
   },
   {
    "duration": 793,
    "start_time": "2022-09-28T00:36:43.490Z"
   },
   {
    "duration": 994,
    "start_time": "2022-09-28T00:37:00.187Z"
   },
   {
    "duration": 24,
    "start_time": "2022-09-28T00:37:21.476Z"
   },
   {
    "duration": 4,
    "start_time": "2022-09-28T00:37:28.328Z"
   },
   {
    "duration": 990,
    "start_time": "2022-09-28T00:37:28.806Z"
   },
   {
    "duration": 17,
    "start_time": "2022-09-28T00:37:42.078Z"
   },
   {
    "duration": 11,
    "start_time": "2022-09-28T00:37:53.991Z"
   },
   {
    "duration": 15,
    "start_time": "2022-09-28T00:37:58.574Z"
   },
   {
    "duration": 11,
    "start_time": "2022-09-28T00:39:07.338Z"
   },
   {
    "duration": 17,
    "start_time": "2022-09-28T00:39:15.943Z"
   },
   {
    "duration": 22,
    "start_time": "2022-09-28T00:39:33.082Z"
   },
   {
    "duration": 1117,
    "start_time": "2022-09-28T00:39:37.371Z"
   },
   {
    "duration": 37,
    "start_time": "2022-09-28T00:39:52.096Z"
   },
   {
    "duration": 222,
    "start_time": "2022-09-28T00:39:56.143Z"
   },
   {
    "duration": 827,
    "start_time": "2022-09-28T00:39:59.359Z"
   },
   {
    "duration": 4,
    "start_time": "2022-09-28T00:40:12.605Z"
   },
   {
    "duration": 1007,
    "start_time": "2022-09-28T00:40:13.188Z"
   },
   {
    "duration": 24,
    "start_time": "2022-09-28T00:40:33.491Z"
   },
   {
    "duration": 21,
    "start_time": "2022-09-28T00:40:34.249Z"
   },
   {
    "duration": 18,
    "start_time": "2022-09-28T00:40:40.930Z"
   },
   {
    "duration": 22,
    "start_time": "2022-09-28T00:40:42.730Z"
   },
   {
    "duration": 6,
    "start_time": "2022-09-28T00:42:20.308Z"
   },
   {
    "duration": 878,
    "start_time": "2022-09-28T00:42:23.717Z"
   },
   {
    "duration": 5,
    "start_time": "2022-09-28T00:42:32.067Z"
   },
   {
    "duration": 977,
    "start_time": "2022-09-28T00:42:32.285Z"
   },
   {
    "duration": 6,
    "start_time": "2022-09-28T00:42:55.626Z"
   },
   {
    "duration": 4,
    "start_time": "2022-09-28T00:42:58.582Z"
   },
   {
    "duration": 1024,
    "start_time": "2022-09-28T00:42:59.092Z"
   },
   {
    "duration": 891,
    "start_time": "2022-09-28T00:43:07.080Z"
   },
   {
    "duration": 22,
    "start_time": "2022-09-28T00:43:38.026Z"
   },
   {
    "duration": 25,
    "start_time": "2022-09-28T00:43:50.928Z"
   },
   {
    "duration": 12,
    "start_time": "2022-09-28T00:44:37.523Z"
   },
   {
    "duration": 1305,
    "start_time": "2022-09-28T00:45:22.642Z"
   },
   {
    "duration": 4,
    "start_time": "2022-09-28T00:45:30.083Z"
   },
   {
    "duration": 1066,
    "start_time": "2022-09-28T00:45:32.512Z"
   },
   {
    "duration": 1904,
    "start_time": "2022-09-28T00:45:43.436Z"
   },
   {
    "duration": 15,
    "start_time": "2022-09-28T00:46:04.299Z"
   },
   {
    "duration": 19,
    "start_time": "2022-09-28T00:46:15.519Z"
   },
   {
    "duration": 16,
    "start_time": "2022-09-28T00:46:29.159Z"
   },
   {
    "duration": 14,
    "start_time": "2022-09-28T00:46:34.295Z"
   },
   {
    "duration": 6,
    "start_time": "2022-09-28T00:47:16.935Z"
   },
   {
    "duration": 23,
    "start_time": "2022-09-28T00:47:18.999Z"
   },
   {
    "duration": 7,
    "start_time": "2022-09-28T00:47:22.392Z"
   },
   {
    "duration": 20,
    "start_time": "2022-09-28T00:47:23.730Z"
   },
   {
    "duration": 15,
    "start_time": "2022-09-28T00:47:25.027Z"
   },
   {
    "duration": 9,
    "start_time": "2022-09-28T00:49:12.405Z"
   },
   {
    "duration": 8,
    "start_time": "2022-09-28T00:49:31.315Z"
   },
   {
    "duration": 21,
    "start_time": "2022-09-28T00:49:33.787Z"
   },
   {
    "duration": 7,
    "start_time": "2022-09-28T00:49:37.163Z"
   },
   {
    "duration": 69,
    "start_time": "2022-09-28T00:49:40.685Z"
   },
   {
    "duration": 1600,
    "start_time": "2022-09-28T00:50:31.534Z"
   },
   {
    "duration": 62,
    "start_time": "2022-09-28T00:50:33.136Z"
   },
   {
    "duration": 15,
    "start_time": "2022-09-28T00:50:33.200Z"
   },
   {
    "duration": 53,
    "start_time": "2022-09-28T00:50:33.216Z"
   },
   {
    "duration": 38,
    "start_time": "2022-09-28T00:50:33.270Z"
   },
   {
    "duration": 11,
    "start_time": "2022-09-28T00:50:33.309Z"
   },
   {
    "duration": 13,
    "start_time": "2022-09-28T00:50:33.322Z"
   },
   {
    "duration": 79,
    "start_time": "2022-09-28T00:50:33.336Z"
   },
   {
    "duration": 4,
    "start_time": "2022-09-28T00:50:33.417Z"
   },
   {
    "duration": 9,
    "start_time": "2022-09-28T00:50:33.423Z"
   },
   {
    "duration": 9,
    "start_time": "2022-09-28T00:50:33.434Z"
   },
   {
    "duration": 3,
    "start_time": "2022-09-28T00:50:33.446Z"
   },
   {
    "duration": 9,
    "start_time": "2022-09-28T00:50:33.450Z"
   },
   {
    "duration": 173,
    "start_time": "2022-09-28T00:50:33.460Z"
   },
   {
    "duration": 10,
    "start_time": "2022-09-28T00:50:33.634Z"
   },
   {
    "duration": 4,
    "start_time": "2022-09-28T00:50:33.645Z"
   },
   {
    "duration": 5,
    "start_time": "2022-09-28T00:50:33.650Z"
   },
   {
    "duration": 15,
    "start_time": "2022-09-28T00:50:33.657Z"
   },
   {
    "duration": 45,
    "start_time": "2022-09-28T00:50:33.673Z"
   },
   {
    "duration": 13,
    "start_time": "2022-09-28T00:50:33.719Z"
   },
   {
    "duration": 24,
    "start_time": "2022-09-28T00:50:33.733Z"
   },
   {
    "duration": 7,
    "start_time": "2022-09-28T00:50:33.759Z"
   },
   {
    "duration": 112,
    "start_time": "2022-09-28T00:50:33.767Z"
   },
   {
    "duration": 3,
    "start_time": "2022-09-28T00:50:33.901Z"
   },
   {
    "duration": 671,
    "start_time": "2022-09-28T00:50:33.906Z"
   },
   {
    "duration": 6,
    "start_time": "2022-09-28T00:50:34.579Z"
   },
   {
    "duration": 19665,
    "start_time": "2022-09-28T00:50:34.587Z"
   },
   {
    "duration": 9708,
    "start_time": "2022-09-28T00:50:54.257Z"
   },
   {
    "duration": 11883,
    "start_time": "2022-09-28T00:51:03.967Z"
   },
   {
    "duration": 4,
    "start_time": "2022-09-28T00:51:15.852Z"
   },
   {
    "duration": 1793,
    "start_time": "2022-09-28T00:51:15.857Z"
   },
   {
    "duration": 8,
    "start_time": "2022-09-28T00:51:17.651Z"
   },
   {
    "duration": 48,
    "start_time": "2022-09-28T00:51:17.660Z"
   },
   {
    "duration": 3945,
    "start_time": "2022-09-28T00:51:17.709Z"
   },
   {
    "duration": 4,
    "start_time": "2022-09-28T00:51:21.655Z"
   },
   {
    "duration": 4347,
    "start_time": "2022-09-28T00:51:21.661Z"
   },
   {
    "duration": 546,
    "start_time": "2022-09-28T00:51:26.010Z"
   },
   {
    "duration": 870,
    "start_time": "2022-09-28T00:51:26.557Z"
   },
   {
    "duration": 2001,
    "start_time": "2022-09-28T00:51:27.429Z"
   },
   {
    "duration": 31,
    "start_time": "2022-09-28T00:51:29.431Z"
   },
   {
    "duration": 6,
    "start_time": "2022-09-28T00:51:29.464Z"
   },
   {
    "duration": 21,
    "start_time": "2022-09-28T00:51:29.500Z"
   },
   {
    "duration": 35,
    "start_time": "2022-09-28T00:51:29.523Z"
   },
   {
    "duration": 9,
    "start_time": "2022-09-28T00:51:29.560Z"
   },
   {
    "duration": 417,
    "start_time": "2022-09-28T00:51:29.571Z"
   },
   {
    "duration": 884,
    "start_time": "2022-09-28T00:51:29.989Z"
   },
   {
    "duration": 40,
    "start_time": "2022-09-28T00:51:30.874Z"
   },
   {
    "duration": 241,
    "start_time": "2022-09-28T00:51:30.915Z"
   },
   {
    "duration": 873,
    "start_time": "2022-09-28T00:51:31.157Z"
   },
   {
    "duration": 4,
    "start_time": "2022-09-28T00:51:32.031Z"
   },
   {
    "duration": 971,
    "start_time": "2022-09-28T00:51:32.036Z"
   },
   {
    "duration": 9,
    "start_time": "2022-09-28T00:51:33.008Z"
   },
   {
    "duration": 21,
    "start_time": "2022-09-28T00:51:33.019Z"
   },
   {
    "duration": 7,
    "start_time": "2022-09-28T00:51:33.042Z"
   },
   {
    "duration": 85,
    "start_time": "2022-09-28T00:51:33.050Z"
   },
   {
    "duration": 17,
    "start_time": "2022-09-28T00:51:33.137Z"
   },
   {
    "duration": 12,
    "start_time": "2022-09-28T00:51:33.155Z"
   },
   {
    "duration": 4,
    "start_time": "2022-09-28T00:51:33.169Z"
   },
   {
    "duration": 46,
    "start_time": "2022-09-28T00:51:33.175Z"
   },
   {
    "duration": 4,
    "start_time": "2022-09-28T00:51:33.223Z"
   },
   {
    "duration": 5,
    "start_time": "2022-09-28T00:51:33.228Z"
   },
   {
    "duration": 34,
    "start_time": "2022-09-28T00:51:33.234Z"
   },
   {
    "duration": 153,
    "start_time": "2022-09-28T00:51:33.270Z"
   },
   {
    "duration": 0,
    "start_time": "2022-09-28T00:51:33.425Z"
   },
   {
    "duration": 0,
    "start_time": "2022-09-28T00:51:33.427Z"
   },
   {
    "duration": 0,
    "start_time": "2022-09-28T00:51:33.429Z"
   },
   {
    "duration": 1,
    "start_time": "2022-09-28T00:51:33.430Z"
   },
   {
    "duration": 0,
    "start_time": "2022-09-28T00:51:33.432Z"
   },
   {
    "duration": 0,
    "start_time": "2022-09-28T00:51:33.433Z"
   },
   {
    "duration": 0,
    "start_time": "2022-09-28T00:51:33.435Z"
   },
   {
    "duration": 0,
    "start_time": "2022-09-28T00:51:33.436Z"
   },
   {
    "duration": 0,
    "start_time": "2022-09-28T00:51:33.437Z"
   },
   {
    "duration": 38,
    "start_time": "2022-09-28T01:30:19.914Z"
   },
   {
    "duration": 19,
    "start_time": "2022-09-28T01:30:20.814Z"
   },
   {
    "duration": 9,
    "start_time": "2022-09-28T01:30:52.798Z"
   },
   {
    "duration": 20,
    "start_time": "2022-09-28T01:30:54.326Z"
   },
   {
    "duration": 26,
    "start_time": "2022-09-28T01:30:57.053Z"
   },
   {
    "duration": 29,
    "start_time": "2022-09-28T01:32:14.326Z"
   },
   {
    "duration": 19,
    "start_time": "2022-09-28T01:32:14.897Z"
   },
   {
    "duration": 31,
    "start_time": "2022-09-28T01:32:30.734Z"
   },
   {
    "duration": 20,
    "start_time": "2022-09-28T01:32:31.224Z"
   },
   {
    "duration": 30,
    "start_time": "2022-09-28T01:33:06.169Z"
   },
   {
    "duration": 19,
    "start_time": "2022-09-28T01:33:06.835Z"
   },
   {
    "duration": 17,
    "start_time": "2022-09-28T01:33:38.787Z"
   },
   {
    "duration": 63,
    "start_time": "2022-09-28T01:34:03.807Z"
   },
   {
    "duration": 17,
    "start_time": "2022-09-28T01:34:04.273Z"
   },
   {
    "duration": 58,
    "start_time": "2022-09-28T01:34:21.650Z"
   },
   {
    "duration": 18,
    "start_time": "2022-09-28T01:34:22.118Z"
   },
   {
    "duration": 66,
    "start_time": "2022-09-28T01:34:28.118Z"
   },
   {
    "duration": 17,
    "start_time": "2022-09-28T01:34:28.739Z"
   },
   {
    "duration": 67,
    "start_time": "2022-09-28T01:34:40.142Z"
   },
   {
    "duration": 17,
    "start_time": "2022-09-28T01:34:40.586Z"
   },
   {
    "duration": 62,
    "start_time": "2022-09-28T01:34:47.286Z"
   },
   {
    "duration": 16,
    "start_time": "2022-09-28T01:34:47.861Z"
   },
   {
    "duration": 217,
    "start_time": "2022-09-28T01:35:16.416Z"
   },
   {
    "duration": 224,
    "start_time": "2022-09-28T01:35:25.650Z"
   },
   {
    "duration": 31,
    "start_time": "2022-09-28T01:35:28.642Z"
   },
   {
    "duration": 221,
    "start_time": "2022-09-28T01:35:31.676Z"
   },
   {
    "duration": 1036,
    "start_time": "2022-09-28T01:35:33.978Z"
   },
   {
    "duration": 4,
    "start_time": "2022-09-28T01:35:40.524Z"
   },
   {
    "duration": 952,
    "start_time": "2022-09-28T01:35:41.240Z"
   },
   {
    "duration": 9,
    "start_time": "2022-09-28T01:36:02.088Z"
   },
   {
    "duration": 2601,
    "start_time": "2022-09-28T15:02:44.846Z"
   },
   {
    "duration": 187,
    "start_time": "2022-09-28T15:02:47.450Z"
   },
   {
    "duration": 15,
    "start_time": "2022-09-28T15:02:47.638Z"
   },
   {
    "duration": 94,
    "start_time": "2022-09-28T15:02:47.655Z"
   },
   {
    "duration": 12,
    "start_time": "2022-09-28T15:02:47.752Z"
   },
   {
    "duration": 31,
    "start_time": "2022-09-28T15:02:47.766Z"
   },
   {
    "duration": 21,
    "start_time": "2022-09-28T15:02:47.799Z"
   },
   {
    "duration": 60,
    "start_time": "2022-09-28T15:02:47.822Z"
   },
   {
    "duration": 5,
    "start_time": "2022-09-28T15:02:47.884Z"
   },
   {
    "duration": 12,
    "start_time": "2022-09-28T15:02:47.892Z"
   },
   {
    "duration": 35,
    "start_time": "2022-09-28T15:02:47.905Z"
   },
   {
    "duration": 6,
    "start_time": "2022-09-28T15:02:47.942Z"
   },
   {
    "duration": 14,
    "start_time": "2022-09-28T15:02:47.950Z"
   },
   {
    "duration": 176,
    "start_time": "2022-09-28T15:02:47.966Z"
   },
   {
    "duration": 14,
    "start_time": "2022-09-28T15:02:48.144Z"
   },
   {
    "duration": 23,
    "start_time": "2022-09-28T15:02:48.160Z"
   },
   {
    "duration": 9,
    "start_time": "2022-09-28T15:02:48.185Z"
   },
   {
    "duration": 32,
    "start_time": "2022-09-28T15:02:48.196Z"
   },
   {
    "duration": 23,
    "start_time": "2022-09-28T15:02:48.230Z"
   },
   {
    "duration": 12,
    "start_time": "2022-09-28T15:02:48.255Z"
   },
   {
    "duration": 24,
    "start_time": "2022-09-28T15:02:48.268Z"
   },
   {
    "duration": 8,
    "start_time": "2022-09-28T15:02:48.294Z"
   },
   {
    "duration": 197,
    "start_time": "2022-09-28T15:02:48.303Z"
   },
   {
    "duration": 4,
    "start_time": "2022-09-28T15:02:48.502Z"
   },
   {
    "duration": 896,
    "start_time": "2022-09-28T15:02:48.508Z"
   },
   {
    "duration": 7,
    "start_time": "2022-09-28T15:02:49.406Z"
   },
   {
    "duration": 20619,
    "start_time": "2022-09-28T15:02:49.415Z"
   },
   {
    "duration": 10171,
    "start_time": "2022-09-28T15:03:10.038Z"
   },
   {
    "duration": 11967,
    "start_time": "2022-09-28T15:03:20.211Z"
   },
   {
    "duration": 5,
    "start_time": "2022-09-28T15:03:32.180Z"
   },
   {
    "duration": 2171,
    "start_time": "2022-09-28T15:03:32.187Z"
   },
   {
    "duration": 7,
    "start_time": "2022-09-28T15:03:34.360Z"
   },
   {
    "duration": 66,
    "start_time": "2022-09-28T15:03:34.368Z"
   },
   {
    "duration": 4533,
    "start_time": "2022-09-28T15:03:34.436Z"
   },
   {
    "duration": 5,
    "start_time": "2022-09-28T15:03:38.970Z"
   },
   {
    "duration": 3678,
    "start_time": "2022-09-28T15:03:38.977Z"
   },
   {
    "duration": 562,
    "start_time": "2022-09-28T15:03:42.657Z"
   },
   {
    "duration": 857,
    "start_time": "2022-09-28T15:03:43.220Z"
   },
   {
    "duration": 2433,
    "start_time": "2022-09-28T15:03:44.079Z"
   },
   {
    "duration": 48,
    "start_time": "2022-09-28T15:03:46.513Z"
   },
   {
    "duration": 8,
    "start_time": "2022-09-28T15:03:46.563Z"
   },
   {
    "duration": 25,
    "start_time": "2022-09-28T15:03:46.572Z"
   },
   {
    "duration": 40,
    "start_time": "2022-09-28T15:03:46.634Z"
   },
   {
    "duration": 13,
    "start_time": "2022-09-28T15:03:46.676Z"
   },
   {
    "duration": 466,
    "start_time": "2022-09-28T15:03:46.690Z"
   },
   {
    "duration": 801,
    "start_time": "2022-09-28T15:03:47.158Z"
   },
   {
    "duration": 38,
    "start_time": "2022-09-28T15:03:47.961Z"
   },
   {
    "duration": 401,
    "start_time": "2022-09-28T15:03:48.001Z"
   },
   {
    "duration": 995,
    "start_time": "2022-09-28T15:03:48.404Z"
   },
   {
    "duration": 5,
    "start_time": "2022-09-28T15:03:49.400Z"
   },
   {
    "duration": 1074,
    "start_time": "2022-09-28T15:03:49.406Z"
   },
   {
    "duration": 10,
    "start_time": "2022-09-28T15:03:50.482Z"
   },
   {
    "duration": 41,
    "start_time": "2022-09-28T15:03:50.494Z"
   },
   {
    "duration": 7,
    "start_time": "2022-09-28T15:03:50.537Z"
   },
   {
    "duration": 94,
    "start_time": "2022-09-28T15:03:50.546Z"
   },
   {
    "duration": 23,
    "start_time": "2022-09-28T15:03:50.642Z"
   },
   {
    "duration": 11,
    "start_time": "2022-09-28T15:03:50.667Z"
   },
   {
    "duration": 9,
    "start_time": "2022-09-28T15:03:50.680Z"
   },
   {
    "duration": 49,
    "start_time": "2022-09-28T15:03:50.691Z"
   },
   {
    "duration": 4,
    "start_time": "2022-09-28T15:03:50.741Z"
   },
   {
    "duration": 42,
    "start_time": "2022-09-28T15:03:50.746Z"
   },
   {
    "duration": 20,
    "start_time": "2022-09-28T15:03:50.790Z"
   },
   {
    "duration": 24,
    "start_time": "2022-09-28T15:03:50.812Z"
   },
   {
    "duration": 21,
    "start_time": "2022-09-28T15:03:50.838Z"
   },
   {
    "duration": 29,
    "start_time": "2022-09-28T15:03:50.860Z"
   },
   {
    "duration": 157,
    "start_time": "2022-09-28T15:03:50.890Z"
   },
   {
    "duration": 0,
    "start_time": "2022-09-28T15:03:51.048Z"
   },
   {
    "duration": 0,
    "start_time": "2022-09-28T15:03:51.050Z"
   },
   {
    "duration": 0,
    "start_time": "2022-09-28T15:03:51.050Z"
   },
   {
    "duration": 0,
    "start_time": "2022-09-28T15:03:51.052Z"
   },
   {
    "duration": 0,
    "start_time": "2022-09-28T15:03:51.053Z"
   },
   {
    "duration": 32,
    "start_time": "2022-09-28T15:07:34.095Z"
   },
   {
    "duration": 23,
    "start_time": "2022-09-28T15:08:07.422Z"
   },
   {
    "duration": 21,
    "start_time": "2022-09-28T15:08:08.092Z"
   },
   {
    "duration": 29,
    "start_time": "2022-09-28T15:08:51.950Z"
   },
   {
    "duration": 4,
    "start_time": "2022-09-28T15:08:52.766Z"
   },
   {
    "duration": 43,
    "start_time": "2022-09-28T15:08:53.593Z"
   },
   {
    "duration": 19,
    "start_time": "2022-09-28T15:08:55.800Z"
   },
   {
    "duration": 18,
    "start_time": "2022-09-28T15:09:49.005Z"
   },
   {
    "duration": 34,
    "start_time": "2022-09-28T15:09:52.384Z"
   },
   {
    "duration": 5,
    "start_time": "2022-09-28T15:09:53.012Z"
   },
   {
    "duration": 21,
    "start_time": "2022-09-28T15:09:53.633Z"
   },
   {
    "duration": 19,
    "start_time": "2022-09-28T15:09:54.158Z"
   },
   {
    "duration": 34,
    "start_time": "2022-09-28T15:10:08.117Z"
   },
   {
    "duration": 4,
    "start_time": "2022-09-28T15:10:11.850Z"
   },
   {
    "duration": 12,
    "start_time": "2022-09-28T15:10:19.896Z"
   },
   {
    "duration": 48,
    "start_time": "2022-09-28T15:10:24.338Z"
   },
   {
    "duration": 43,
    "start_time": "2022-09-28T15:10:25.431Z"
   },
   {
    "duration": 19,
    "start_time": "2022-09-28T15:10:25.831Z"
   },
   {
    "duration": 31,
    "start_time": "2022-09-28T15:11:24.203Z"
   },
   {
    "duration": 61,
    "start_time": "2022-09-28T15:11:47.462Z"
   },
   {
    "duration": 24,
    "start_time": "2022-09-28T15:11:57.395Z"
   },
   {
    "duration": 25,
    "start_time": "2022-09-28T15:12:21.925Z"
   },
   {
    "duration": 26,
    "start_time": "2022-09-28T15:12:31.468Z"
   },
   {
    "duration": 27,
    "start_time": "2022-09-28T15:12:45.188Z"
   },
   {
    "duration": 29,
    "start_time": "2022-09-28T15:13:11.812Z"
   },
   {
    "duration": 29,
    "start_time": "2022-09-28T15:13:25.094Z"
   },
   {
    "duration": 28,
    "start_time": "2022-09-28T15:13:31.453Z"
   },
   {
    "duration": 976,
    "start_time": "2022-09-28T15:14:03.297Z"
   },
   {
    "duration": 1206,
    "start_time": "2022-09-28T15:14:29.923Z"
   },
   {
    "duration": 28,
    "start_time": "2022-09-28T15:14:33.837Z"
   },
   {
    "duration": 5,
    "start_time": "2022-09-28T15:15:47.274Z"
   },
   {
    "duration": 40,
    "start_time": "2022-09-28T15:16:02.908Z"
   },
   {
    "duration": 8,
    "start_time": "2022-09-28T15:16:06.363Z"
   },
   {
    "duration": 32,
    "start_time": "2022-09-28T15:16:07.197Z"
   },
   {
    "duration": 20,
    "start_time": "2022-09-28T15:16:07.862Z"
   },
   {
    "duration": 4,
    "start_time": "2022-09-28T15:44:06.401Z"
   },
   {
    "duration": 15,
    "start_time": "2022-09-28T15:44:30.735Z"
   },
   {
    "duration": 14,
    "start_time": "2022-09-28T15:44:42.056Z"
   },
   {
    "duration": 10,
    "start_time": "2022-09-28T15:44:58.048Z"
   },
   {
    "duration": 20,
    "start_time": "2022-09-28T15:44:59.064Z"
   },
   {
    "duration": 28,
    "start_time": "2022-09-28T15:44:59.835Z"
   },
   {
    "duration": 27,
    "start_time": "2022-09-28T15:45:25.813Z"
   },
   {
    "duration": 32,
    "start_time": "2022-09-28T15:48:46.154Z"
   },
   {
    "duration": 38,
    "start_time": "2022-09-28T15:48:51.169Z"
   },
   {
    "duration": 27,
    "start_time": "2022-09-28T15:49:39.077Z"
   },
   {
    "duration": 39,
    "start_time": "2022-09-28T15:52:09.721Z"
   },
   {
    "duration": 21,
    "start_time": "2022-09-28T15:52:10.447Z"
   },
   {
    "duration": 162,
    "start_time": "2022-09-28T16:01:23.875Z"
   },
   {
    "duration": 18,
    "start_time": "2022-09-28T16:03:51.186Z"
   },
   {
    "duration": 130,
    "start_time": "2022-09-28T16:04:01.631Z"
   },
   {
    "duration": 135,
    "start_time": "2022-09-28T16:04:05.139Z"
   },
   {
    "duration": 363,
    "start_time": "2022-09-28T16:07:08.384Z"
   },
   {
    "duration": 610,
    "start_time": "2022-09-28T16:07:35.539Z"
   },
   {
    "duration": 967,
    "start_time": "2022-09-28T16:07:44.890Z"
   },
   {
    "duration": 823,
    "start_time": "2022-09-28T16:07:56.473Z"
   },
   {
    "duration": 19,
    "start_time": "2022-09-28T16:08:25.795Z"
   },
   {
    "duration": 24,
    "start_time": "2022-09-28T16:08:32.382Z"
   },
   {
    "duration": 24,
    "start_time": "2022-09-28T16:08:33.506Z"
   },
   {
    "duration": 43,
    "start_time": "2022-09-28T16:08:34.283Z"
   },
   {
    "duration": 1031,
    "start_time": "2022-09-28T16:08:34.660Z"
   },
   {
    "duration": 28,
    "start_time": "2022-09-28T16:08:52.812Z"
   },
   {
    "duration": 35,
    "start_time": "2022-09-28T16:08:53.379Z"
   },
   {
    "duration": 22,
    "start_time": "2022-09-28T16:08:53.569Z"
   },
   {
    "duration": 19,
    "start_time": "2022-09-28T16:08:54.231Z"
   },
   {
    "duration": 36,
    "start_time": "2022-09-28T16:08:54.683Z"
   },
   {
    "duration": 773,
    "start_time": "2022-09-28T16:08:54.931Z"
   },
   {
    "duration": 138,
    "start_time": "2022-09-28T16:08:55.706Z"
   },
   {
    "duration": 1705,
    "start_time": "2022-09-28T16:10:07.270Z"
   },
   {
    "duration": 64,
    "start_time": "2022-09-28T16:10:08.977Z"
   },
   {
    "duration": 16,
    "start_time": "2022-09-28T16:10:09.043Z"
   },
   {
    "duration": 90,
    "start_time": "2022-09-28T16:10:09.060Z"
   },
   {
    "duration": 13,
    "start_time": "2022-09-28T16:10:09.152Z"
   },
   {
    "duration": 17,
    "start_time": "2022-09-28T16:10:09.166Z"
   },
   {
    "duration": 36,
    "start_time": "2022-09-28T16:10:09.184Z"
   },
   {
    "duration": 51,
    "start_time": "2022-09-28T16:10:09.232Z"
   },
   {
    "duration": 4,
    "start_time": "2022-09-28T16:10:09.285Z"
   },
   {
    "duration": 47,
    "start_time": "2022-09-28T16:10:09.292Z"
   },
   {
    "duration": 11,
    "start_time": "2022-09-28T16:10:09.342Z"
   },
   {
    "duration": 5,
    "start_time": "2022-09-28T16:10:09.354Z"
   },
   {
    "duration": 26,
    "start_time": "2022-09-28T16:10:09.361Z"
   },
   {
    "duration": 157,
    "start_time": "2022-09-28T16:10:09.389Z"
   },
   {
    "duration": 13,
    "start_time": "2022-09-28T16:10:09.548Z"
   },
   {
    "duration": 26,
    "start_time": "2022-09-28T16:10:09.562Z"
   },
   {
    "duration": 27,
    "start_time": "2022-09-28T16:10:09.590Z"
   },
   {
    "duration": 32,
    "start_time": "2022-09-28T16:10:09.619Z"
   },
   {
    "duration": 36,
    "start_time": "2022-09-28T16:10:09.653Z"
   },
   {
    "duration": 18,
    "start_time": "2022-09-28T16:10:09.691Z"
   },
   {
    "duration": 52,
    "start_time": "2022-09-28T16:10:09.711Z"
   },
   {
    "duration": 9,
    "start_time": "2022-09-28T16:10:09.765Z"
   },
   {
    "duration": 106,
    "start_time": "2022-09-28T16:10:09.776Z"
   },
   {
    "duration": 3,
    "start_time": "2022-09-28T16:10:09.884Z"
   },
   {
    "duration": 717,
    "start_time": "2022-09-28T16:10:09.888Z"
   },
   {
    "duration": 7,
    "start_time": "2022-09-28T16:10:10.607Z"
   },
   {
    "duration": 22036,
    "start_time": "2022-09-28T16:10:10.615Z"
   },
   {
    "duration": 10717,
    "start_time": "2022-09-28T16:10:32.655Z"
   },
   {
    "duration": 13275,
    "start_time": "2022-09-28T16:10:43.374Z"
   },
   {
    "duration": 5,
    "start_time": "2022-09-28T16:10:56.651Z"
   },
   {
    "duration": 2485,
    "start_time": "2022-09-28T16:10:56.657Z"
   },
   {
    "duration": 9,
    "start_time": "2022-09-28T16:10:59.144Z"
   },
   {
    "duration": 43,
    "start_time": "2022-09-28T16:10:59.155Z"
   },
   {
    "duration": 3993,
    "start_time": "2022-09-28T16:10:59.200Z"
   },
   {
    "duration": 5,
    "start_time": "2022-09-28T16:11:03.194Z"
   },
   {
    "duration": 3829,
    "start_time": "2022-09-28T16:11:03.201Z"
   },
   {
    "duration": 557,
    "start_time": "2022-09-28T16:11:07.033Z"
   },
   {
    "duration": 905,
    "start_time": "2022-09-28T16:11:07.591Z"
   },
   {
    "duration": 2460,
    "start_time": "2022-09-28T16:11:08.497Z"
   },
   {
    "duration": 29,
    "start_time": "2022-09-28T16:11:10.958Z"
   },
   {
    "duration": 7,
    "start_time": "2022-09-28T16:11:10.988Z"
   },
   {
    "duration": 24,
    "start_time": "2022-09-28T16:11:11.033Z"
   },
   {
    "duration": 39,
    "start_time": "2022-09-28T16:11:11.059Z"
   },
   {
    "duration": 36,
    "start_time": "2022-09-28T16:11:11.100Z"
   },
   {
    "duration": 441,
    "start_time": "2022-09-28T16:11:11.138Z"
   },
   {
    "duration": 847,
    "start_time": "2022-09-28T16:11:11.582Z"
   },
   {
    "duration": 39,
    "start_time": "2022-09-28T16:11:12.430Z"
   },
   {
    "duration": 395,
    "start_time": "2022-09-28T16:11:12.470Z"
   },
   {
    "duration": 947,
    "start_time": "2022-09-28T16:11:12.866Z"
   },
   {
    "duration": 4,
    "start_time": "2022-09-28T16:11:13.815Z"
   },
   {
    "duration": 1056,
    "start_time": "2022-09-28T16:11:13.821Z"
   },
   {
    "duration": 10,
    "start_time": "2022-09-28T16:11:14.879Z"
   },
   {
    "duration": 28,
    "start_time": "2022-09-28T16:11:14.891Z"
   },
   {
    "duration": 16,
    "start_time": "2022-09-28T16:11:14.921Z"
   },
   {
    "duration": 75,
    "start_time": "2022-09-28T16:11:14.939Z"
   },
   {
    "duration": 23,
    "start_time": "2022-09-28T16:11:15.015Z"
   },
   {
    "duration": 12,
    "start_time": "2022-09-28T16:11:15.039Z"
   },
   {
    "duration": 27,
    "start_time": "2022-09-28T16:11:15.052Z"
   },
   {
    "duration": 53,
    "start_time": "2022-09-28T16:11:15.081Z"
   },
   {
    "duration": 21,
    "start_time": "2022-09-28T16:11:15.136Z"
   },
   {
    "duration": 13,
    "start_time": "2022-09-28T16:11:15.158Z"
   },
   {
    "duration": 32,
    "start_time": "2022-09-28T16:11:15.173Z"
   },
   {
    "duration": 840,
    "start_time": "2022-09-28T16:11:15.207Z"
   },
   {
    "duration": 3,
    "start_time": "2022-09-28T16:11:16.049Z"
   },
   {
    "duration": 14,
    "start_time": "2022-09-28T16:11:16.053Z"
   },
   {
    "duration": 47,
    "start_time": "2022-09-28T16:11:16.069Z"
   },
   {
    "duration": 172,
    "start_time": "2022-09-28T16:11:16.118Z"
   },
   {
    "duration": 0,
    "start_time": "2022-09-28T16:11:16.293Z"
   },
   {
    "duration": 0,
    "start_time": "2022-09-28T16:11:16.295Z"
   },
   {
    "duration": 756,
    "start_time": "2022-09-28T16:22:47.404Z"
   },
   {
    "duration": 24,
    "start_time": "2022-09-28T16:26:57.540Z"
   },
   {
    "duration": 598,
    "start_time": "2022-09-28T16:32:09.393Z"
   },
   {
    "duration": 788,
    "start_time": "2022-09-28T16:32:21.233Z"
   },
   {
    "duration": 4,
    "start_time": "2022-09-28T16:33:36.372Z"
   },
   {
    "duration": 877,
    "start_time": "2022-09-28T16:34:01.897Z"
   },
   {
    "duration": 775,
    "start_time": "2022-09-28T16:35:01.899Z"
   },
   {
    "duration": 4,
    "start_time": "2022-09-28T16:35:42.339Z"
   },
   {
    "duration": 4,
    "start_time": "2022-09-28T16:36:01.273Z"
   },
   {
    "duration": 4,
    "start_time": "2022-09-28T16:36:08.934Z"
   },
   {
    "duration": 2352,
    "start_time": "2022-09-28T16:36:24.929Z"
   },
   {
    "duration": 1721,
    "start_time": "2022-09-28T17:11:52.700Z"
   },
   {
    "duration": 64,
    "start_time": "2022-09-28T17:11:54.423Z"
   },
   {
    "duration": 15,
    "start_time": "2022-09-28T17:11:54.489Z"
   },
   {
    "duration": 56,
    "start_time": "2022-09-28T17:11:54.505Z"
   },
   {
    "duration": 10,
    "start_time": "2022-09-28T17:11:54.563Z"
   },
   {
    "duration": 14,
    "start_time": "2022-09-28T17:11:54.575Z"
   },
   {
    "duration": 42,
    "start_time": "2022-09-28T17:11:54.591Z"
   },
   {
    "duration": 44,
    "start_time": "2022-09-28T17:11:54.635Z"
   },
   {
    "duration": 4,
    "start_time": "2022-09-28T17:11:54.681Z"
   },
   {
    "duration": 47,
    "start_time": "2022-09-28T17:11:54.687Z"
   },
   {
    "duration": 12,
    "start_time": "2022-09-28T17:11:54.736Z"
   },
   {
    "duration": 3,
    "start_time": "2022-09-28T17:11:54.749Z"
   },
   {
    "duration": 14,
    "start_time": "2022-09-28T17:11:54.753Z"
   },
   {
    "duration": 155,
    "start_time": "2022-09-28T17:11:54.770Z"
   },
   {
    "duration": 13,
    "start_time": "2022-09-28T17:11:54.926Z"
   },
   {
    "duration": 5,
    "start_time": "2022-09-28T17:11:54.940Z"
   },
   {
    "duration": 6,
    "start_time": "2022-09-28T17:11:54.946Z"
   },
   {
    "duration": 15,
    "start_time": "2022-09-28T17:11:54.953Z"
   },
   {
    "duration": 22,
    "start_time": "2022-09-28T17:11:54.970Z"
   },
   {
    "duration": 12,
    "start_time": "2022-09-28T17:11:54.993Z"
   },
   {
    "duration": 27,
    "start_time": "2022-09-28T17:11:55.034Z"
   },
   {
    "duration": 8,
    "start_time": "2022-09-28T17:11:55.063Z"
   },
   {
    "duration": 118,
    "start_time": "2022-09-28T17:11:55.073Z"
   },
   {
    "duration": 3,
    "start_time": "2022-09-28T17:11:55.192Z"
   },
   {
    "duration": 677,
    "start_time": "2022-09-28T17:11:55.197Z"
   },
   {
    "duration": 8,
    "start_time": "2022-09-28T17:11:55.876Z"
   },
   {
    "duration": 21242,
    "start_time": "2022-09-28T17:11:55.885Z"
   },
   {
    "duration": 10406,
    "start_time": "2022-09-28T17:12:17.128Z"
   },
   {
    "duration": 12311,
    "start_time": "2022-09-28T17:12:27.536Z"
   },
   {
    "duration": 4,
    "start_time": "2022-09-28T17:12:39.849Z"
   },
   {
    "duration": 2040,
    "start_time": "2022-09-28T17:12:39.855Z"
   },
   {
    "duration": 9,
    "start_time": "2022-09-28T17:12:41.897Z"
   },
   {
    "duration": 63,
    "start_time": "2022-09-28T17:12:41.907Z"
   },
   {
    "duration": 3303,
    "start_time": "2022-09-28T17:12:41.972Z"
   },
   {
    "duration": 5,
    "start_time": "2022-09-28T17:12:45.277Z"
   },
   {
    "duration": 4295,
    "start_time": "2022-09-28T17:12:45.283Z"
   },
   {
    "duration": 587,
    "start_time": "2022-09-28T17:12:49.579Z"
   },
   {
    "duration": 868,
    "start_time": "2022-09-28T17:12:50.168Z"
   },
   {
    "duration": 2203,
    "start_time": "2022-09-28T17:12:51.038Z"
   },
   {
    "duration": 28,
    "start_time": "2022-09-28T17:12:53.242Z"
   },
   {
    "duration": 7,
    "start_time": "2022-09-28T17:12:53.274Z"
   },
   {
    "duration": 60,
    "start_time": "2022-09-28T17:12:53.282Z"
   },
   {
    "duration": 42,
    "start_time": "2022-09-28T17:12:53.344Z"
   },
   {
    "duration": 11,
    "start_time": "2022-09-28T17:12:53.388Z"
   },
   {
    "duration": 447,
    "start_time": "2022-09-28T17:12:53.401Z"
   },
   {
    "duration": 828,
    "start_time": "2022-09-28T17:12:53.850Z"
   },
   {
    "duration": 36,
    "start_time": "2022-09-28T17:12:54.680Z"
   },
   {
    "duration": 383,
    "start_time": "2022-09-28T17:12:54.718Z"
   },
   {
    "duration": 903,
    "start_time": "2022-09-28T17:12:55.102Z"
   },
   {
    "duration": 3,
    "start_time": "2022-09-28T17:12:56.007Z"
   },
   {
    "duration": 1056,
    "start_time": "2022-09-28T17:12:56.012Z"
   },
   {
    "duration": 7,
    "start_time": "2022-09-28T17:12:57.070Z"
   },
   {
    "duration": 33,
    "start_time": "2022-09-28T17:12:57.079Z"
   },
   {
    "duration": 8,
    "start_time": "2022-09-28T17:12:57.115Z"
   },
   {
    "duration": 81,
    "start_time": "2022-09-28T17:12:57.125Z"
   },
   {
    "duration": 27,
    "start_time": "2022-09-28T17:12:57.207Z"
   },
   {
    "duration": 10,
    "start_time": "2022-09-28T17:12:57.235Z"
   },
   {
    "duration": 31,
    "start_time": "2022-09-28T17:12:57.247Z"
   },
   {
    "duration": 32,
    "start_time": "2022-09-28T17:12:57.280Z"
   },
   {
    "duration": 37,
    "start_time": "2022-09-28T17:12:57.313Z"
   },
   {
    "duration": 9,
    "start_time": "2022-09-28T17:12:57.351Z"
   },
   {
    "duration": 36,
    "start_time": "2022-09-28T17:12:57.362Z"
   },
   {
    "duration": 3,
    "start_time": "2022-09-28T17:12:57.400Z"
   },
   {
    "duration": 171,
    "start_time": "2022-09-28T17:12:57.404Z"
   },
   {
    "duration": 0,
    "start_time": "2022-09-28T17:12:57.576Z"
   },
   {
    "duration": 0,
    "start_time": "2022-09-28T17:12:57.577Z"
   },
   {
    "duration": 0,
    "start_time": "2022-09-28T17:12:57.578Z"
   },
   {
    "duration": 0,
    "start_time": "2022-09-28T17:12:57.579Z"
   },
   {
    "duration": 0,
    "start_time": "2022-09-28T17:12:57.581Z"
   },
   {
    "duration": 0,
    "start_time": "2022-09-28T17:12:57.582Z"
   },
   {
    "duration": 0,
    "start_time": "2022-09-28T17:12:57.583Z"
   },
   {
    "duration": 25,
    "start_time": "2022-09-28T17:49:24.642Z"
   },
   {
    "duration": 5,
    "start_time": "2022-09-28T17:49:30.600Z"
   },
   {
    "duration": 21,
    "start_time": "2022-09-28T17:49:47.442Z"
   },
   {
    "duration": 23,
    "start_time": "2022-09-28T17:50:32.429Z"
   },
   {
    "duration": 27,
    "start_time": "2022-09-28T17:50:59.166Z"
   },
   {
    "duration": 4,
    "start_time": "2022-09-28T17:51:03.846Z"
   },
   {
    "duration": 5,
    "start_time": "2022-09-28T17:51:05.747Z"
   },
   {
    "duration": 19,
    "start_time": "2022-09-28T17:51:06.481Z"
   },
   {
    "duration": 4,
    "start_time": "2022-09-28T17:52:01.489Z"
   },
   {
    "duration": 783,
    "start_time": "2022-09-28T17:52:02.026Z"
   },
   {
    "duration": 2579,
    "start_time": "2022-09-28T17:52:12.209Z"
   },
   {
    "duration": 2516,
    "start_time": "2022-09-28T17:52:17.227Z"
   },
   {
    "duration": 21,
    "start_time": "2022-09-28T17:53:51.583Z"
   },
   {
    "duration": 4,
    "start_time": "2022-09-28T17:54:11.029Z"
   },
   {
    "duration": 4,
    "start_time": "2022-09-28T17:55:08.887Z"
   },
   {
    "duration": 3,
    "start_time": "2022-09-28T18:52:02.890Z"
   },
   {
    "duration": 786,
    "start_time": "2022-09-28T18:53:03.092Z"
   },
   {
    "duration": 815,
    "start_time": "2022-09-28T18:53:09.715Z"
   },
   {
    "duration": 984,
    "start_time": "2022-09-28T18:53:14.297Z"
   },
   {
    "duration": 858,
    "start_time": "2022-09-28T18:53:20.484Z"
   },
   {
    "duration": 779,
    "start_time": "2022-09-28T18:53:40.796Z"
   },
   {
    "duration": 819,
    "start_time": "2022-09-28T18:53:53.160Z"
   },
   {
    "duration": 806,
    "start_time": "2022-09-28T18:53:57.580Z"
   },
   {
    "duration": 4,
    "start_time": "2022-09-28T18:54:19.645Z"
   },
   {
    "duration": 820,
    "start_time": "2022-09-28T18:54:20.257Z"
   },
   {
    "duration": 954,
    "start_time": "2022-09-28T18:54:23.611Z"
   },
   {
    "duration": 773,
    "start_time": "2022-09-28T18:54:27.049Z"
   },
   {
    "duration": 818,
    "start_time": "2022-09-28T18:54:47.369Z"
   },
   {
    "duration": 806,
    "start_time": "2022-09-28T18:55:18.894Z"
   },
   {
    "duration": 866,
    "start_time": "2022-09-28T18:55:42.873Z"
   },
   {
    "duration": 809,
    "start_time": "2022-09-28T18:56:01.509Z"
   },
   {
    "duration": 18,
    "start_time": "2022-09-28T18:56:39.438Z"
   },
   {
    "duration": 273,
    "start_time": "2022-09-28T18:56:48.803Z"
   },
   {
    "duration": 3,
    "start_time": "2022-09-28T18:58:14.713Z"
   },
   {
    "duration": 5,
    "start_time": "2022-09-28T18:58:18.758Z"
   },
   {
    "duration": 3,
    "start_time": "2022-09-28T18:58:24.446Z"
   },
   {
    "duration": 4,
    "start_time": "2022-09-28T18:58:27.128Z"
   },
   {
    "duration": 5,
    "start_time": "2022-09-28T18:58:37.515Z"
   },
   {
    "duration": 4,
    "start_time": "2022-09-28T18:58:44.531Z"
   },
   {
    "duration": 4,
    "start_time": "2022-09-28T19:00:00.421Z"
   },
   {
    "duration": 899,
    "start_time": "2022-09-28T19:00:00.733Z"
   },
   {
    "duration": 11,
    "start_time": "2022-09-28T19:01:07.989Z"
   },
   {
    "duration": 3,
    "start_time": "2022-09-28T19:01:19.088Z"
   },
   {
    "duration": 965,
    "start_time": "2022-09-28T19:01:19.395Z"
   },
   {
    "duration": 801,
    "start_time": "2022-09-28T19:01:30.835Z"
   },
   {
    "duration": 3,
    "start_time": "2022-09-28T20:18:31.258Z"
   },
   {
    "duration": 776,
    "start_time": "2022-09-28T20:18:32.486Z"
   },
   {
    "duration": 4,
    "start_time": "2022-09-28T20:18:42.585Z"
   },
   {
    "duration": 4,
    "start_time": "2022-09-28T20:18:43.677Z"
   },
   {
    "duration": 783,
    "start_time": "2022-09-28T20:18:43.944Z"
   },
   {
    "duration": 3,
    "start_time": "2022-09-28T20:19:04.073Z"
   },
   {
    "duration": 3,
    "start_time": "2022-09-28T20:19:04.244Z"
   },
   {
    "duration": 936,
    "start_time": "2022-09-28T20:19:04.462Z"
   },
   {
    "duration": 4,
    "start_time": "2022-09-28T20:20:03.206Z"
   },
   {
    "duration": 3,
    "start_time": "2022-09-28T20:20:04.888Z"
   },
   {
    "duration": 787,
    "start_time": "2022-09-28T20:20:05.129Z"
   },
   {
    "duration": 3,
    "start_time": "2022-09-28T20:20:37.262Z"
   },
   {
    "duration": 5,
    "start_time": "2022-09-28T20:20:37.875Z"
   },
   {
    "duration": 958,
    "start_time": "2022-09-28T20:20:38.100Z"
   },
   {
    "duration": 3,
    "start_time": "2022-09-28T20:20:45.055Z"
   },
   {
    "duration": 4,
    "start_time": "2022-09-28T20:20:46.425Z"
   },
   {
    "duration": 784,
    "start_time": "2022-09-28T20:20:46.657Z"
   },
   {
    "duration": 4,
    "start_time": "2022-09-28T20:20:57.415Z"
   },
   {
    "duration": 779,
    "start_time": "2022-09-28T20:20:57.642Z"
   },
   {
    "duration": 4,
    "start_time": "2022-09-28T20:21:10.065Z"
   },
   {
    "duration": 827,
    "start_time": "2022-09-28T20:21:10.287Z"
   },
   {
    "duration": 4,
    "start_time": "2022-09-28T20:21:21.356Z"
   },
   {
    "duration": 790,
    "start_time": "2022-09-28T20:21:21.629Z"
   },
   {
    "duration": 12,
    "start_time": "2022-09-28T20:23:14.304Z"
   },
   {
    "duration": 781,
    "start_time": "2022-09-28T20:33:20.741Z"
   },
   {
    "duration": 4,
    "start_time": "2022-09-28T20:33:48.190Z"
   },
   {
    "duration": 858,
    "start_time": "2022-09-28T20:33:48.490Z"
   },
   {
    "duration": 26,
    "start_time": "2022-09-28T20:34:13.236Z"
   },
   {
    "duration": 23,
    "start_time": "2022-09-28T20:35:24.421Z"
   },
   {
    "duration": 22,
    "start_time": "2022-09-28T20:35:51.472Z"
   },
   {
    "duration": 24,
    "start_time": "2022-09-28T20:36:00.896Z"
   },
   {
    "duration": 1002,
    "start_time": "2022-09-28T20:36:37.667Z"
   },
   {
    "duration": 3,
    "start_time": "2022-09-28T20:36:50.576Z"
   },
   {
    "duration": 4,
    "start_time": "2022-09-28T20:37:32.130Z"
   },
   {
    "duration": 779,
    "start_time": "2022-09-28T20:37:33.391Z"
   },
   {
    "duration": 4,
    "start_time": "2022-09-28T20:37:44.003Z"
   },
   {
    "duration": 736,
    "start_time": "2022-09-28T20:37:44.345Z"
   },
   {
    "duration": 5,
    "start_time": "2022-09-28T20:38:01.701Z"
   },
   {
    "duration": 753,
    "start_time": "2022-09-28T20:38:02.621Z"
   },
   {
    "duration": 3,
    "start_time": "2022-09-28T20:38:10.982Z"
   },
   {
    "duration": 783,
    "start_time": "2022-09-28T20:38:11.402Z"
   },
   {
    "duration": 829,
    "start_time": "2022-09-28T20:38:56.571Z"
   },
   {
    "duration": 774,
    "start_time": "2022-09-28T20:39:08.718Z"
   },
   {
    "duration": 3,
    "start_time": "2022-09-28T20:39:27.769Z"
   },
   {
    "duration": 970,
    "start_time": "2022-09-28T20:39:28.180Z"
   },
   {
    "duration": 3,
    "start_time": "2022-09-28T20:39:32.530Z"
   },
   {
    "duration": 786,
    "start_time": "2022-09-28T20:39:33.009Z"
   },
   {
    "duration": 14,
    "start_time": "2022-09-28T20:41:33.134Z"
   },
   {
    "duration": 4,
    "start_time": "2022-09-28T20:43:31.968Z"
   },
   {
    "duration": 796,
    "start_time": "2022-09-28T20:43:33.781Z"
   },
   {
    "duration": 4,
    "start_time": "2022-09-28T20:45:12.143Z"
   },
   {
    "duration": 825,
    "start_time": "2022-09-28T20:45:13.093Z"
   },
   {
    "duration": 4,
    "start_time": "2022-09-28T20:45:23.443Z"
   },
   {
    "duration": 797,
    "start_time": "2022-09-28T20:45:23.841Z"
   },
   {
    "duration": 4,
    "start_time": "2022-09-28T20:45:52.602Z"
   },
   {
    "duration": 817,
    "start_time": "2022-09-28T20:45:53.059Z"
   },
   {
    "duration": 4,
    "start_time": "2022-09-28T20:46:08.090Z"
   },
   {
    "duration": 829,
    "start_time": "2022-09-28T20:46:08.405Z"
   },
   {
    "duration": 3,
    "start_time": "2022-09-28T20:46:27.973Z"
   },
   {
    "duration": 965,
    "start_time": "2022-09-28T20:46:28.470Z"
   },
   {
    "duration": 4,
    "start_time": "2022-09-28T20:46:58.691Z"
   },
   {
    "duration": 803,
    "start_time": "2022-09-28T20:46:59.207Z"
   },
   {
    "duration": 1988,
    "start_time": "2022-09-28T23:56:49.444Z"
   },
   {
    "duration": 208,
    "start_time": "2022-09-28T23:56:51.435Z"
   },
   {
    "duration": 18,
    "start_time": "2022-09-28T23:56:51.645Z"
   },
   {
    "duration": 64,
    "start_time": "2022-09-28T23:56:51.665Z"
   },
   {
    "duration": 13,
    "start_time": "2022-09-28T23:56:51.755Z"
   },
   {
    "duration": 33,
    "start_time": "2022-09-28T23:56:51.770Z"
   },
   {
    "duration": 32,
    "start_time": "2022-09-28T23:56:51.805Z"
   },
   {
    "duration": 50,
    "start_time": "2022-09-28T23:56:51.839Z"
   },
   {
    "duration": 4,
    "start_time": "2022-09-28T23:56:51.891Z"
   },
   {
    "duration": 25,
    "start_time": "2022-09-28T23:56:51.898Z"
   },
   {
    "duration": 33,
    "start_time": "2022-09-28T23:56:51.925Z"
   },
   {
    "duration": 14,
    "start_time": "2022-09-28T23:56:51.960Z"
   },
   {
    "duration": 15,
    "start_time": "2022-09-28T23:56:51.976Z"
   },
   {
    "duration": 162,
    "start_time": "2022-09-28T23:56:51.993Z"
   },
   {
    "duration": 12,
    "start_time": "2022-09-28T23:56:52.157Z"
   },
   {
    "duration": 6,
    "start_time": "2022-09-28T23:56:52.170Z"
   },
   {
    "duration": 5,
    "start_time": "2022-09-28T23:56:52.178Z"
   },
   {
    "duration": 16,
    "start_time": "2022-09-28T23:56:52.185Z"
   },
   {
    "duration": 25,
    "start_time": "2022-09-28T23:56:52.203Z"
   },
   {
    "duration": 36,
    "start_time": "2022-09-28T23:56:52.229Z"
   },
   {
    "duration": 41,
    "start_time": "2022-09-28T23:56:52.266Z"
   },
   {
    "duration": 7,
    "start_time": "2022-09-28T23:56:52.309Z"
   },
   {
    "duration": 111,
    "start_time": "2022-09-28T23:56:52.318Z"
   },
   {
    "duration": 3,
    "start_time": "2022-09-28T23:56:52.430Z"
   },
   {
    "duration": 731,
    "start_time": "2022-09-28T23:56:52.434Z"
   },
   {
    "duration": 8,
    "start_time": "2022-09-28T23:56:53.168Z"
   },
   {
    "duration": 19893,
    "start_time": "2022-09-28T23:56:53.177Z"
   },
   {
    "duration": 9879,
    "start_time": "2022-09-28T23:57:13.074Z"
   },
   {
    "duration": 11876,
    "start_time": "2022-09-28T23:57:22.955Z"
   },
   {
    "duration": 5,
    "start_time": "2022-09-28T23:57:34.832Z"
   },
   {
    "duration": 2293,
    "start_time": "2022-09-28T23:57:34.839Z"
   },
   {
    "duration": 25,
    "start_time": "2022-09-28T23:57:37.134Z"
   },
   {
    "duration": 62,
    "start_time": "2022-09-28T23:57:37.161Z"
   },
   {
    "duration": 4237,
    "start_time": "2022-09-28T23:57:37.224Z"
   },
   {
    "duration": 9,
    "start_time": "2022-09-28T23:57:41.464Z"
   },
   {
    "duration": 4443,
    "start_time": "2022-09-28T23:57:41.475Z"
   },
   {
    "duration": 605,
    "start_time": "2022-09-28T23:57:45.919Z"
   },
   {
    "duration": 1038,
    "start_time": "2022-09-28T23:57:46.526Z"
   },
   {
    "duration": 2399,
    "start_time": "2022-09-28T23:57:47.566Z"
   },
   {
    "duration": 30,
    "start_time": "2022-09-28T23:57:49.967Z"
   },
   {
    "duration": 7,
    "start_time": "2022-09-28T23:57:49.999Z"
   },
   {
    "duration": 61,
    "start_time": "2022-09-28T23:57:50.007Z"
   },
   {
    "duration": 41,
    "start_time": "2022-09-28T23:57:50.070Z"
   },
   {
    "duration": 11,
    "start_time": "2022-09-28T23:57:50.113Z"
   },
   {
    "duration": 460,
    "start_time": "2022-09-28T23:57:50.126Z"
   },
   {
    "duration": 1038,
    "start_time": "2022-09-28T23:57:50.588Z"
   },
   {
    "duration": 51,
    "start_time": "2022-09-28T23:57:51.628Z"
   },
   {
    "duration": 285,
    "start_time": "2022-09-28T23:57:51.681Z"
   },
   {
    "duration": 986,
    "start_time": "2022-09-28T23:57:51.969Z"
   },
   {
    "duration": 5,
    "start_time": "2022-09-28T23:57:52.956Z"
   },
   {
    "duration": 1055,
    "start_time": "2022-09-28T23:57:52.963Z"
   },
   {
    "duration": 10,
    "start_time": "2022-09-28T23:57:54.020Z"
   },
   {
    "duration": 38,
    "start_time": "2022-09-28T23:57:54.032Z"
   },
   {
    "duration": 7,
    "start_time": "2022-09-28T23:57:54.072Z"
   },
   {
    "duration": 87,
    "start_time": "2022-09-28T23:57:54.080Z"
   },
   {
    "duration": 20,
    "start_time": "2022-09-28T23:57:54.169Z"
   },
   {
    "duration": 15,
    "start_time": "2022-09-28T23:57:54.190Z"
   },
   {
    "duration": 49,
    "start_time": "2022-09-28T23:57:54.207Z"
   },
   {
    "duration": 34,
    "start_time": "2022-09-28T23:57:54.257Z"
   },
   {
    "duration": 20,
    "start_time": "2022-09-28T23:57:54.293Z"
   },
   {
    "duration": 8,
    "start_time": "2022-09-28T23:57:54.315Z"
   },
   {
    "duration": 41,
    "start_time": "2022-09-28T23:57:54.325Z"
   },
   {
    "duration": 4,
    "start_time": "2022-09-28T23:57:54.368Z"
   },
   {
    "duration": 906,
    "start_time": "2022-09-28T23:57:54.373Z"
   },
   {
    "duration": 3,
    "start_time": "2022-09-28T23:57:55.281Z"
   },
   {
    "duration": 13,
    "start_time": "2022-09-28T23:57:55.286Z"
   },
   {
    "duration": 40,
    "start_time": "2022-09-28T23:57:55.300Z"
   },
   {
    "duration": 166,
    "start_time": "2022-09-28T23:57:55.342Z"
   },
   {
    "duration": 0,
    "start_time": "2022-09-28T23:57:55.510Z"
   },
   {
    "duration": 0,
    "start_time": "2022-09-28T23:57:55.512Z"
   },
   {
    "duration": 32,
    "start_time": "2022-09-29T00:05:05.810Z"
   },
   {
    "duration": 31,
    "start_time": "2022-09-29T00:05:13.559Z"
   },
   {
    "duration": 26,
    "start_time": "2022-09-29T00:06:15.237Z"
   },
   {
    "duration": 33,
    "start_time": "2022-09-29T00:07:01.601Z"
   },
   {
    "duration": 180,
    "start_time": "2022-09-29T00:07:05.680Z"
   },
   {
    "duration": 62,
    "start_time": "2022-09-29T00:08:40.314Z"
   },
   {
    "duration": 9,
    "start_time": "2022-09-29T00:09:48.801Z"
   },
   {
    "duration": 815,
    "start_time": "2022-09-29T00:10:41.733Z"
   },
   {
    "duration": 32,
    "start_time": "2022-09-29T00:11:11.257Z"
   },
   {
    "duration": 31,
    "start_time": "2022-09-29T00:11:20.122Z"
   },
   {
    "duration": 30,
    "start_time": "2022-09-29T00:11:49.950Z"
   },
   {
    "duration": 30,
    "start_time": "2022-09-29T00:11:57.866Z"
   },
   {
    "duration": 32,
    "start_time": "2022-09-29T00:12:06.755Z"
   },
   {
    "duration": 19,
    "start_time": "2022-09-29T00:12:46.495Z"
   },
   {
    "duration": 30,
    "start_time": "2022-09-29T00:13:00.085Z"
   },
   {
    "duration": 11,
    "start_time": "2022-09-29T00:13:00.566Z"
   },
   {
    "duration": 20,
    "start_time": "2022-09-29T00:13:02.092Z"
   },
   {
    "duration": 30,
    "start_time": "2022-09-29T00:14:08.789Z"
   },
   {
    "duration": 30,
    "start_time": "2022-09-29T00:14:27.222Z"
   },
   {
    "duration": 9,
    "start_time": "2022-09-29T00:14:29.154Z"
   },
   {
    "duration": 8,
    "start_time": "2022-09-29T00:14:29.972Z"
   },
   {
    "duration": 8,
    "start_time": "2022-09-29T00:14:44.587Z"
   },
   {
    "duration": 8,
    "start_time": "2022-09-29T00:14:48.478Z"
   },
   {
    "duration": 18,
    "start_time": "2022-09-29T00:18:49.013Z"
   },
   {
    "duration": 9,
    "start_time": "2022-09-29T00:18:56.724Z"
   },
   {
    "duration": 9,
    "start_time": "2022-09-29T00:19:07.324Z"
   },
   {
    "duration": 9,
    "start_time": "2022-09-29T00:19:13.477Z"
   },
   {
    "duration": 6,
    "start_time": "2022-09-29T00:19:53.463Z"
   },
   {
    "duration": 28,
    "start_time": "2022-09-29T00:20:12.028Z"
   },
   {
    "duration": 9,
    "start_time": "2022-09-29T00:20:13.473Z"
   },
   {
    "duration": 4,
    "start_time": "2022-09-29T00:21:28.813Z"
   },
   {
    "duration": 4,
    "start_time": "2022-09-29T00:22:41.995Z"
   },
   {
    "duration": 5,
    "start_time": "2022-09-29T00:22:44.464Z"
   },
   {
    "duration": 67,
    "start_time": "2022-09-29T00:22:53.289Z"
   },
   {
    "duration": 5,
    "start_time": "2022-09-29T00:22:57.374Z"
   },
   {
    "duration": 6,
    "start_time": "2022-09-29T00:23:01.505Z"
   },
   {
    "duration": 5,
    "start_time": "2022-09-29T00:23:06.788Z"
   },
   {
    "duration": 65,
    "start_time": "2022-09-29T00:24:23.516Z"
   },
   {
    "duration": 12,
    "start_time": "2022-09-29T00:24:31.907Z"
   },
   {
    "duration": 10,
    "start_time": "2022-09-29T00:24:46.107Z"
   },
   {
    "duration": 10,
    "start_time": "2022-09-29T00:25:17.300Z"
   },
   {
    "duration": 6,
    "start_time": "2022-09-29T00:25:35.411Z"
   },
   {
    "duration": 27,
    "start_time": "2022-09-29T00:26:13.413Z"
   },
   {
    "duration": 9,
    "start_time": "2022-09-29T00:26:14.515Z"
   },
   {
    "duration": 8,
    "start_time": "2022-09-29T00:26:21.992Z"
   },
   {
    "duration": 27,
    "start_time": "2022-09-29T00:26:51.927Z"
   },
   {
    "duration": 9,
    "start_time": "2022-09-29T00:26:52.687Z"
   },
   {
    "duration": 27,
    "start_time": "2022-09-29T00:27:05.309Z"
   },
   {
    "duration": 11,
    "start_time": "2022-09-29T00:27:22.844Z"
   },
   {
    "duration": 9,
    "start_time": "2022-09-29T00:27:55.160Z"
   },
   {
    "duration": 8,
    "start_time": "2022-09-29T00:28:06.305Z"
   },
   {
    "duration": 7,
    "start_time": "2022-09-29T00:28:07.195Z"
   },
   {
    "duration": 53,
    "start_time": "2022-09-29T00:29:37.697Z"
   },
   {
    "duration": 7,
    "start_time": "2022-09-29T00:29:49.110Z"
   },
   {
    "duration": 24,
    "start_time": "2022-09-29T00:29:56.053Z"
   },
   {
    "duration": 10,
    "start_time": "2022-09-29T00:30:45.683Z"
   },
   {
    "duration": 9,
    "start_time": "2022-09-29T00:32:13.207Z"
   },
   {
    "duration": 10,
    "start_time": "2022-09-29T00:32:14.274Z"
   },
   {
    "duration": 10,
    "start_time": "2022-09-29T00:32:27.273Z"
   },
   {
    "duration": 10,
    "start_time": "2022-09-29T00:32:58.323Z"
   },
   {
    "duration": 9,
    "start_time": "2022-09-29T00:33:22.775Z"
   },
   {
    "duration": 9,
    "start_time": "2022-09-29T00:33:24.856Z"
   },
   {
    "duration": 11,
    "start_time": "2022-09-29T00:33:28.078Z"
   },
   {
    "duration": 13,
    "start_time": "2022-09-29T00:37:34.347Z"
   },
   {
    "duration": 13,
    "start_time": "2022-09-29T00:37:42.292Z"
   },
   {
    "duration": 12,
    "start_time": "2022-09-29T00:37:42.842Z"
   },
   {
    "duration": 715,
    "start_time": "2022-09-29T00:38:02.707Z"
   },
   {
    "duration": 11,
    "start_time": "2022-09-29T00:38:14.769Z"
   },
   {
    "duration": 6,
    "start_time": "2022-09-29T00:38:33.624Z"
   },
   {
    "duration": 4,
    "start_time": "2022-09-29T00:38:42.424Z"
   },
   {
    "duration": 16,
    "start_time": "2022-09-29T00:38:50.042Z"
   },
   {
    "duration": 4,
    "start_time": "2022-09-29T00:38:52.785Z"
   },
   {
    "duration": 1900,
    "start_time": "2022-09-29T02:06:21.204Z"
   },
   {
    "duration": 70,
    "start_time": "2022-09-29T02:06:23.106Z"
   },
   {
    "duration": 17,
    "start_time": "2022-09-29T02:06:23.178Z"
   },
   {
    "duration": 101,
    "start_time": "2022-09-29T02:06:23.197Z"
   },
   {
    "duration": 11,
    "start_time": "2022-09-29T02:06:23.300Z"
   },
   {
    "duration": 42,
    "start_time": "2022-09-29T02:06:23.313Z"
   },
   {
    "duration": 19,
    "start_time": "2022-09-29T02:06:23.357Z"
   },
   {
    "duration": 93,
    "start_time": "2022-09-29T02:06:23.378Z"
   },
   {
    "duration": 5,
    "start_time": "2022-09-29T02:06:23.473Z"
   },
   {
    "duration": 11,
    "start_time": "2022-09-29T02:06:23.482Z"
   },
   {
    "duration": 14,
    "start_time": "2022-09-29T02:06:23.494Z"
   },
   {
    "duration": 4,
    "start_time": "2022-09-29T02:06:23.510Z"
   },
   {
    "duration": 43,
    "start_time": "2022-09-29T02:06:23.516Z"
   },
   {
    "duration": 163,
    "start_time": "2022-09-29T02:06:23.561Z"
   },
   {
    "duration": 12,
    "start_time": "2022-09-29T02:06:23.726Z"
   },
   {
    "duration": 5,
    "start_time": "2022-09-29T02:06:23.753Z"
   },
   {
    "duration": 9,
    "start_time": "2022-09-29T02:06:23.759Z"
   },
   {
    "duration": 17,
    "start_time": "2022-09-29T02:06:23.769Z"
   },
   {
    "duration": 23,
    "start_time": "2022-09-29T02:06:23.787Z"
   },
   {
    "duration": 12,
    "start_time": "2022-09-29T02:06:23.812Z"
   },
   {
    "duration": 46,
    "start_time": "2022-09-29T02:06:23.825Z"
   },
   {
    "duration": 7,
    "start_time": "2022-09-29T02:06:23.873Z"
   },
   {
    "duration": 118,
    "start_time": "2022-09-29T02:06:23.881Z"
   },
   {
    "duration": 3,
    "start_time": "2022-09-29T02:06:24.001Z"
   },
   {
    "duration": 717,
    "start_time": "2022-09-29T02:06:24.005Z"
   },
   {
    "duration": 8,
    "start_time": "2022-09-29T02:06:24.725Z"
   },
   {
    "duration": 19902,
    "start_time": "2022-09-29T02:06:24.735Z"
   },
   {
    "duration": 9895,
    "start_time": "2022-09-29T02:06:44.641Z"
   },
   {
    "duration": 11839,
    "start_time": "2022-09-29T02:06:54.537Z"
   },
   {
    "duration": 7,
    "start_time": "2022-09-29T02:07:06.379Z"
   },
   {
    "duration": 2504,
    "start_time": "2022-09-29T02:07:06.389Z"
   },
   {
    "duration": 8,
    "start_time": "2022-09-29T02:07:08.896Z"
   },
   {
    "duration": 65,
    "start_time": "2022-09-29T02:07:08.906Z"
   },
   {
    "duration": 3940,
    "start_time": "2022-09-29T02:07:08.972Z"
   },
   {
    "duration": 5,
    "start_time": "2022-09-29T02:07:12.913Z"
   },
   {
    "duration": 4044,
    "start_time": "2022-09-29T02:07:12.920Z"
   },
   {
    "duration": 622,
    "start_time": "2022-09-29T02:07:16.965Z"
   },
   {
    "duration": 907,
    "start_time": "2022-09-29T02:07:17.589Z"
   },
   {
    "duration": 2335,
    "start_time": "2022-09-29T02:07:18.498Z"
   },
   {
    "duration": 46,
    "start_time": "2022-09-29T02:07:20.835Z"
   },
   {
    "duration": 7,
    "start_time": "2022-09-29T02:07:20.882Z"
   },
   {
    "duration": 66,
    "start_time": "2022-09-29T02:07:20.891Z"
   },
   {
    "duration": 44,
    "start_time": "2022-09-29T02:07:20.960Z"
   },
   {
    "duration": 12,
    "start_time": "2022-09-29T02:07:21.006Z"
   },
   {
    "duration": 538,
    "start_time": "2022-09-29T02:07:21.020Z"
   },
   {
    "duration": 921,
    "start_time": "2022-09-29T02:07:21.560Z"
   },
   {
    "duration": 41,
    "start_time": "2022-09-29T02:07:22.483Z"
   },
   {
    "duration": 314,
    "start_time": "2022-09-29T02:07:22.526Z"
   },
   {
    "duration": 1261,
    "start_time": "2022-09-29T02:07:22.841Z"
   },
   {
    "duration": 7,
    "start_time": "2022-09-29T02:07:24.104Z"
   },
   {
    "duration": 1155,
    "start_time": "2022-09-29T02:07:24.113Z"
   },
   {
    "duration": 11,
    "start_time": "2022-09-29T02:07:25.270Z"
   },
   {
    "duration": 32,
    "start_time": "2022-09-29T02:07:25.283Z"
   },
   {
    "duration": 9,
    "start_time": "2022-09-29T02:07:25.317Z"
   },
   {
    "duration": 102,
    "start_time": "2022-09-29T02:07:25.328Z"
   },
   {
    "duration": 29,
    "start_time": "2022-09-29T02:07:25.432Z"
   },
   {
    "duration": 13,
    "start_time": "2022-09-29T02:07:25.462Z"
   },
   {
    "duration": 38,
    "start_time": "2022-09-29T02:07:25.476Z"
   },
   {
    "duration": 57,
    "start_time": "2022-09-29T02:07:25.517Z"
   },
   {
    "duration": 25,
    "start_time": "2022-09-29T02:07:25.576Z"
   },
   {
    "duration": 31,
    "start_time": "2022-09-29T02:07:25.603Z"
   },
   {
    "duration": 28,
    "start_time": "2022-09-29T02:07:25.636Z"
   },
   {
    "duration": 5,
    "start_time": "2022-09-29T02:07:25.666Z"
   },
   {
    "duration": 987,
    "start_time": "2022-09-29T02:07:25.673Z"
   },
   {
    "duration": 4,
    "start_time": "2022-09-29T02:07:26.663Z"
   },
   {
    "duration": 43,
    "start_time": "2022-09-29T02:07:26.669Z"
   },
   {
    "duration": 9,
    "start_time": "2022-09-29T02:07:26.714Z"
   },
   {
    "duration": 35,
    "start_time": "2022-09-29T02:07:26.725Z"
   },
   {
    "duration": 15,
    "start_time": "2022-09-29T02:07:26.762Z"
   },
   {
    "duration": 4,
    "start_time": "2022-09-29T02:13:18.068Z"
   },
   {
    "duration": 896,
    "start_time": "2022-09-29T02:13:22.015Z"
   },
   {
    "duration": 1751,
    "start_time": "2022-09-29T02:14:19.736Z"
   },
   {
    "duration": 5,
    "start_time": "2022-09-29T02:16:16.486Z"
   },
   {
    "duration": 176,
    "start_time": "2022-09-29T02:16:48.222Z"
   },
   {
    "duration": 6,
    "start_time": "2022-09-29T02:17:05.206Z"
   },
   {
    "duration": 1674,
    "start_time": "2022-09-29T02:17:05.975Z"
   },
   {
    "duration": 5,
    "start_time": "2022-09-29T02:17:32.350Z"
   },
   {
    "duration": 1620,
    "start_time": "2022-09-29T02:17:32.842Z"
   },
   {
    "duration": 4,
    "start_time": "2022-09-29T02:18:23.153Z"
   },
   {
    "duration": 1989,
    "start_time": "2022-09-29T02:18:23.841Z"
   },
   {
    "duration": 4,
    "start_time": "2022-09-29T02:18:38.799Z"
   },
   {
    "duration": 1697,
    "start_time": "2022-09-29T02:18:39.309Z"
   },
   {
    "duration": 4,
    "start_time": "2022-09-29T02:19:02.390Z"
   },
   {
    "duration": 1680,
    "start_time": "2022-09-29T02:19:02.961Z"
   },
   {
    "duration": 5,
    "start_time": "2022-09-29T02:19:50.368Z"
   },
   {
    "duration": 2032,
    "start_time": "2022-09-29T02:19:51.133Z"
   },
   {
    "duration": 7,
    "start_time": "2022-09-29T02:20:11.630Z"
   },
   {
    "duration": 1739,
    "start_time": "2022-09-29T02:20:12.195Z"
   },
   {
    "duration": 5,
    "start_time": "2022-09-29T02:20:26.915Z"
   },
   {
    "duration": 1784,
    "start_time": "2022-09-29T02:20:27.966Z"
   },
   {
    "duration": 13,
    "start_time": "2022-09-29T02:21:42.729Z"
   },
   {
    "duration": 5,
    "start_time": "2022-09-29T02:27:09.670Z"
   },
   {
    "duration": 1979,
    "start_time": "2022-09-29T02:27:11.235Z"
   },
   {
    "duration": 4,
    "start_time": "2022-09-29T02:28:34.224Z"
   },
   {
    "duration": 1765,
    "start_time": "2022-09-29T02:28:34.686Z"
   },
   {
    "duration": 6,
    "start_time": "2022-09-29T02:34:23.742Z"
   },
   {
    "duration": 1732,
    "start_time": "2022-09-29T02:34:27.275Z"
   },
   {
    "duration": 155,
    "start_time": "2022-09-29T02:35:01.870Z"
   },
   {
    "duration": 6,
    "start_time": "2022-09-29T02:36:12.706Z"
   },
   {
    "duration": 1958,
    "start_time": "2022-09-29T02:36:16.183Z"
   },
   {
    "duration": 5,
    "start_time": "2022-09-29T02:36:41.248Z"
   },
   {
    "duration": 1735,
    "start_time": "2022-09-29T02:36:41.652Z"
   },
   {
    "duration": 6,
    "start_time": "2022-09-29T02:37:37.445Z"
   },
   {
    "duration": 876,
    "start_time": "2022-09-29T02:37:37.949Z"
   },
   {
    "duration": 7,
    "start_time": "2022-09-29T02:38:18.144Z"
   },
   {
    "duration": 900,
    "start_time": "2022-09-29T02:38:18.828Z"
   },
   {
    "duration": 6,
    "start_time": "2022-09-29T02:38:45.115Z"
   },
   {
    "duration": 883,
    "start_time": "2022-09-29T02:38:45.434Z"
   },
   {
    "duration": 6,
    "start_time": "2022-09-29T02:39:01.862Z"
   },
   {
    "duration": 5,
    "start_time": "2022-09-29T02:39:02.759Z"
   },
   {
    "duration": 1886,
    "start_time": "2022-09-29T02:39:03.002Z"
   },
   {
    "duration": 50,
    "start_time": "2022-09-29T02:40:32.768Z"
   },
   {
    "duration": 6,
    "start_time": "2022-09-29T02:40:42.546Z"
   },
   {
    "duration": 1786,
    "start_time": "2022-09-29T02:40:43.074Z"
   },
   {
    "duration": 888,
    "start_time": "2022-09-29T02:41:27.972Z"
   },
   {
    "duration": 55,
    "start_time": "2022-09-29T02:47:12.422Z"
   },
   {
    "duration": 59,
    "start_time": "2022-09-29T02:50:35.805Z"
   },
   {
    "duration": 11,
    "start_time": "2022-09-29T02:52:57.915Z"
   },
   {
    "duration": 2552,
    "start_time": "2022-09-29T11:07:29.789Z"
   },
   {
    "duration": 192,
    "start_time": "2022-09-29T11:07:32.343Z"
   },
   {
    "duration": 19,
    "start_time": "2022-09-29T11:07:32.537Z"
   },
   {
    "duration": 97,
    "start_time": "2022-09-29T11:07:32.557Z"
   },
   {
    "duration": 12,
    "start_time": "2022-09-29T11:07:32.658Z"
   },
   {
    "duration": 54,
    "start_time": "2022-09-29T11:07:32.672Z"
   },
   {
    "duration": 63,
    "start_time": "2022-09-29T11:07:32.728Z"
   },
   {
    "duration": 74,
    "start_time": "2022-09-29T11:07:32.793Z"
   },
   {
    "duration": 4,
    "start_time": "2022-09-29T11:07:32.868Z"
   },
   {
    "duration": 35,
    "start_time": "2022-09-29T11:07:32.874Z"
   },
   {
    "duration": 34,
    "start_time": "2022-09-29T11:07:32.911Z"
   },
   {
    "duration": 29,
    "start_time": "2022-09-29T11:07:32.947Z"
   },
   {
    "duration": 34,
    "start_time": "2022-09-29T11:07:32.980Z"
   },
   {
    "duration": 192,
    "start_time": "2022-09-29T11:07:33.018Z"
   },
   {
    "duration": 13,
    "start_time": "2022-09-29T11:07:33.213Z"
   },
   {
    "duration": 62,
    "start_time": "2022-09-29T11:07:33.228Z"
   },
   {
    "duration": 21,
    "start_time": "2022-09-29T11:07:33.292Z"
   },
   {
    "duration": 37,
    "start_time": "2022-09-29T11:07:33.315Z"
   },
   {
    "duration": 30,
    "start_time": "2022-09-29T11:07:33.354Z"
   },
   {
    "duration": 12,
    "start_time": "2022-09-29T11:07:33.385Z"
   },
   {
    "duration": 42,
    "start_time": "2022-09-29T11:07:33.399Z"
   },
   {
    "duration": 9,
    "start_time": "2022-09-29T11:07:33.442Z"
   },
   {
    "duration": 599,
    "start_time": "2022-09-29T11:07:33.453Z"
   },
   {
    "duration": 3,
    "start_time": "2022-09-29T11:07:34.053Z"
   },
   {
    "duration": 1132,
    "start_time": "2022-09-29T11:07:34.058Z"
   },
   {
    "duration": 9,
    "start_time": "2022-09-29T11:07:35.192Z"
   },
   {
    "duration": 20322,
    "start_time": "2022-09-29T11:07:35.203Z"
   },
   {
    "duration": 10430,
    "start_time": "2022-09-29T11:07:55.526Z"
   },
   {
    "duration": 12071,
    "start_time": "2022-09-29T11:08:05.958Z"
   },
   {
    "duration": 5,
    "start_time": "2022-09-29T11:08:18.031Z"
   },
   {
    "duration": 2310,
    "start_time": "2022-09-29T11:08:18.038Z"
   },
   {
    "duration": 7,
    "start_time": "2022-09-29T11:08:20.350Z"
   },
   {
    "duration": 66,
    "start_time": "2022-09-29T11:08:20.359Z"
   },
   {
    "duration": 4308,
    "start_time": "2022-09-29T11:08:20.427Z"
   },
   {
    "duration": 5,
    "start_time": "2022-09-29T11:08:24.736Z"
   },
   {
    "duration": 4054,
    "start_time": "2022-09-29T11:08:24.743Z"
   },
   {
    "duration": 634,
    "start_time": "2022-09-29T11:08:28.799Z"
   },
   {
    "duration": 1102,
    "start_time": "2022-09-29T11:08:29.435Z"
   },
   {
    "duration": 2382,
    "start_time": "2022-09-29T11:08:30.539Z"
   },
   {
    "duration": 31,
    "start_time": "2022-09-29T11:08:32.923Z"
   },
   {
    "duration": 7,
    "start_time": "2022-09-29T11:08:32.958Z"
   },
   {
    "duration": 64,
    "start_time": "2022-09-29T11:08:32.967Z"
   },
   {
    "duration": 44,
    "start_time": "2022-09-29T11:08:33.033Z"
   },
   {
    "duration": 12,
    "start_time": "2022-09-29T11:08:33.079Z"
   },
   {
    "duration": 496,
    "start_time": "2022-09-29T11:08:33.093Z"
   },
   {
    "duration": 1040,
    "start_time": "2022-09-29T11:08:33.591Z"
   },
   {
    "duration": 42,
    "start_time": "2022-09-29T11:08:34.633Z"
   },
   {
    "duration": 304,
    "start_time": "2022-09-29T11:08:34.677Z"
   },
   {
    "duration": 1068,
    "start_time": "2022-09-29T11:08:34.983Z"
   },
   {
    "duration": 4,
    "start_time": "2022-09-29T11:08:36.052Z"
   },
   {
    "duration": 1159,
    "start_time": "2022-09-29T11:08:36.058Z"
   },
   {
    "duration": 10,
    "start_time": "2022-09-29T11:08:37.220Z"
   },
   {
    "duration": 33,
    "start_time": "2022-09-29T11:08:37.231Z"
   },
   {
    "duration": 7,
    "start_time": "2022-09-29T11:08:37.266Z"
   },
   {
    "duration": 93,
    "start_time": "2022-09-29T11:08:37.275Z"
   },
   {
    "duration": 18,
    "start_time": "2022-09-29T11:08:37.370Z"
   },
   {
    "duration": 14,
    "start_time": "2022-09-29T11:08:37.390Z"
   },
   {
    "duration": 30,
    "start_time": "2022-09-29T11:08:37.420Z"
   },
   {
    "duration": 35,
    "start_time": "2022-09-29T11:08:37.452Z"
   },
   {
    "duration": 41,
    "start_time": "2022-09-29T11:08:37.489Z"
   },
   {
    "duration": 10,
    "start_time": "2022-09-29T11:08:37.532Z"
   },
   {
    "duration": 25,
    "start_time": "2022-09-29T11:08:37.544Z"
   },
   {
    "duration": 6,
    "start_time": "2022-09-29T11:08:37.570Z"
   },
   {
    "duration": 889,
    "start_time": "2022-09-29T11:08:37.577Z"
   },
   {
    "duration": 1078,
    "start_time": "2022-09-29T11:08:38.468Z"
   },
   {
    "duration": 879,
    "start_time": "2022-09-29T11:08:39.548Z"
   },
   {
    "duration": 3,
    "start_time": "2022-09-29T11:08:40.430Z"
   },
   {
    "duration": 36,
    "start_time": "2022-09-29T11:08:40.435Z"
   },
   {
    "duration": 9,
    "start_time": "2022-09-29T11:08:40.472Z"
   },
   {
    "duration": 12,
    "start_time": "2022-09-29T11:08:40.482Z"
   },
   {
    "duration": 28,
    "start_time": "2022-09-29T11:08:40.496Z"
   },
   {
    "duration": 894,
    "start_time": "2022-09-29T11:18:32.385Z"
   },
   {
    "duration": 14,
    "start_time": "2022-09-29T11:31:46.044Z"
   },
   {
    "duration": 4,
    "start_time": "2022-09-29T11:31:55.719Z"
   },
   {
    "duration": 2727,
    "start_time": "2022-09-29T11:32:34.250Z"
   },
   {
    "duration": 5,
    "start_time": "2022-09-29T11:32:55.700Z"
   },
   {
    "duration": 2955,
    "start_time": "2022-09-29T11:32:56.480Z"
   },
   {
    "duration": 5,
    "start_time": "2022-09-29T11:33:12.666Z"
   },
   {
    "duration": 2651,
    "start_time": "2022-09-29T11:33:12.983Z"
   },
   {
    "duration": 2710,
    "start_time": "2022-09-29T11:33:44.095Z"
   },
   {
    "duration": 2989,
    "start_time": "2022-09-29T11:34:10.814Z"
   },
   {
    "duration": 59,
    "start_time": "2022-09-29T11:34:19.266Z"
   },
   {
    "duration": 5,
    "start_time": "2022-09-29T12:01:23.126Z"
   },
   {
    "duration": 79,
    "start_time": "2022-09-29T12:01:29.451Z"
   },
   {
    "duration": 5,
    "start_time": "2022-09-29T12:01:36.793Z"
   },
   {
    "duration": 1065,
    "start_time": "2022-09-29T12:01:37.378Z"
   },
   {
    "duration": 5,
    "start_time": "2022-09-29T12:01:45.386Z"
   },
   {
    "duration": 2803,
    "start_time": "2022-09-29T12:01:45.908Z"
   },
   {
    "duration": 6,
    "start_time": "2022-09-29T12:02:45.419Z"
   },
   {
    "duration": 2998,
    "start_time": "2022-09-29T12:02:46.024Z"
   },
   {
    "duration": 6,
    "start_time": "2022-09-29T12:03:07.345Z"
   },
   {
    "duration": 2792,
    "start_time": "2022-09-29T12:03:08.359Z"
   },
   {
    "duration": 6,
    "start_time": "2022-09-29T12:04:11.342Z"
   },
   {
    "duration": 2715,
    "start_time": "2022-09-29T12:04:11.727Z"
   },
   {
    "duration": 6,
    "start_time": "2022-09-29T12:04:24.577Z"
   },
   {
    "duration": 2887,
    "start_time": "2022-09-29T12:04:25.305Z"
   },
   {
    "duration": 6,
    "start_time": "2022-09-29T12:04:35.035Z"
   },
   {
    "duration": 2709,
    "start_time": "2022-09-29T12:04:35.576Z"
   },
   {
    "duration": 107,
    "start_time": "2022-09-29T12:06:32.622Z"
   },
   {
    "duration": 2817,
    "start_time": "2022-09-29T12:06:33.468Z"
   },
   {
    "duration": 6,
    "start_time": "2022-09-29T12:06:57.358Z"
   },
   {
    "duration": 7,
    "start_time": "2022-09-29T12:07:00.428Z"
   },
   {
    "duration": 2784,
    "start_time": "2022-09-29T12:07:00.641Z"
   },
   {
    "duration": 6,
    "start_time": "2022-09-29T12:07:57.252Z"
   },
   {
    "duration": 5,
    "start_time": "2022-09-29T12:07:58.442Z"
   },
   {
    "duration": 2756,
    "start_time": "2022-09-29T12:07:58.790Z"
   },
   {
    "duration": 7,
    "start_time": "2022-09-29T12:08:25.854Z"
   },
   {
    "duration": 6,
    "start_time": "2022-09-29T12:08:26.763Z"
   },
   {
    "duration": 3021,
    "start_time": "2022-09-29T12:08:28.066Z"
   },
   {
    "duration": 6,
    "start_time": "2022-09-29T12:08:42.219Z"
   },
   {
    "duration": 2963,
    "start_time": "2022-09-29T12:08:42.496Z"
   },
   {
    "duration": 6,
    "start_time": "2022-09-29T12:22:53.081Z"
   },
   {
    "duration": 2968,
    "start_time": "2022-09-29T12:22:53.517Z"
   },
   {
    "duration": 13,
    "start_time": "2022-09-29T13:10:05.163Z"
   },
   {
    "duration": 5,
    "start_time": "2022-09-29T13:10:20.652Z"
   },
   {
    "duration": 6,
    "start_time": "2022-09-29T13:10:30.436Z"
   },
   {
    "duration": 26,
    "start_time": "2022-09-29T13:12:38.432Z"
   },
   {
    "duration": 1891,
    "start_time": "2022-09-29T13:18:06.252Z"
   },
   {
    "duration": 69,
    "start_time": "2022-09-29T13:18:08.145Z"
   },
   {
    "duration": 18,
    "start_time": "2022-09-29T13:18:08.216Z"
   },
   {
    "duration": 86,
    "start_time": "2022-09-29T13:18:08.236Z"
   },
   {
    "duration": 12,
    "start_time": "2022-09-29T13:18:08.324Z"
   },
   {
    "duration": 43,
    "start_time": "2022-09-29T13:18:08.338Z"
   },
   {
    "duration": 28,
    "start_time": "2022-09-29T13:18:08.383Z"
   },
   {
    "duration": 69,
    "start_time": "2022-09-29T13:18:08.413Z"
   },
   {
    "duration": 5,
    "start_time": "2022-09-29T13:18:08.484Z"
   },
   {
    "duration": 41,
    "start_time": "2022-09-29T13:18:08.491Z"
   },
   {
    "duration": 28,
    "start_time": "2022-09-29T13:18:08.534Z"
   },
   {
    "duration": 13,
    "start_time": "2022-09-29T13:18:08.564Z"
   },
   {
    "duration": 28,
    "start_time": "2022-09-29T13:18:08.579Z"
   },
   {
    "duration": 172,
    "start_time": "2022-09-29T13:18:08.612Z"
   },
   {
    "duration": 12,
    "start_time": "2022-09-29T13:18:08.786Z"
   },
   {
    "duration": 31,
    "start_time": "2022-09-29T13:18:08.800Z"
   },
   {
    "duration": 32,
    "start_time": "2022-09-29T13:18:08.833Z"
   },
   {
    "duration": 64,
    "start_time": "2022-09-29T13:18:08.868Z"
   },
   {
    "duration": 52,
    "start_time": "2022-09-29T13:18:08.934Z"
   },
   {
    "duration": 16,
    "start_time": "2022-09-29T13:18:08.990Z"
   },
   {
    "duration": 57,
    "start_time": "2022-09-29T13:18:09.008Z"
   },
   {
    "duration": 38,
    "start_time": "2022-09-29T13:18:09.067Z"
   },
   {
    "duration": 138,
    "start_time": "2022-09-29T13:18:09.108Z"
   },
   {
    "duration": 3,
    "start_time": "2022-09-29T13:18:09.248Z"
   },
   {
    "duration": 773,
    "start_time": "2022-09-29T13:18:09.252Z"
   },
   {
    "duration": 9,
    "start_time": "2022-09-29T13:18:10.028Z"
   },
   {
    "duration": 23421,
    "start_time": "2022-09-29T13:18:10.038Z"
   },
   {
    "duration": 10677,
    "start_time": "2022-09-29T13:18:33.461Z"
   },
   {
    "duration": 13450,
    "start_time": "2022-09-29T13:18:44.141Z"
   },
   {
    "duration": 6,
    "start_time": "2022-09-29T13:18:57.593Z"
   },
   {
    "duration": 2757,
    "start_time": "2022-09-29T13:18:57.601Z"
   },
   {
    "duration": 12,
    "start_time": "2022-09-29T13:19:00.361Z"
   },
   {
    "duration": 77,
    "start_time": "2022-09-29T13:19:00.375Z"
   },
   {
    "duration": 3842,
    "start_time": "2022-09-29T13:19:00.454Z"
   },
   {
    "duration": 6,
    "start_time": "2022-09-29T13:19:04.298Z"
   },
   {
    "duration": 4072,
    "start_time": "2022-09-29T13:19:04.320Z"
   },
   {
    "duration": 614,
    "start_time": "2022-09-29T13:19:08.394Z"
   },
   {
    "duration": 947,
    "start_time": "2022-09-29T13:19:09.010Z"
   },
   {
    "duration": 2940,
    "start_time": "2022-09-29T13:19:09.959Z"
   },
   {
    "duration": 44,
    "start_time": "2022-09-29T13:19:12.901Z"
   },
   {
    "duration": 8,
    "start_time": "2022-09-29T13:19:12.950Z"
   },
   {
    "duration": 67,
    "start_time": "2022-09-29T13:19:12.960Z"
   },
   {
    "duration": 56,
    "start_time": "2022-09-29T13:19:13.030Z"
   },
   {
    "duration": 37,
    "start_time": "2022-09-29T13:19:13.088Z"
   },
   {
    "duration": 516,
    "start_time": "2022-09-29T13:19:13.127Z"
   },
   {
    "duration": 957,
    "start_time": "2022-09-29T13:19:13.646Z"
   },
   {
    "duration": 49,
    "start_time": "2022-09-29T13:19:14.605Z"
   },
   {
    "duration": 444,
    "start_time": "2022-09-29T13:19:14.656Z"
   },
   {
    "duration": 1172,
    "start_time": "2022-09-29T13:19:15.102Z"
   },
   {
    "duration": 6,
    "start_time": "2022-09-29T13:19:16.277Z"
   },
   {
    "duration": 1210,
    "start_time": "2022-09-29T13:19:16.285Z"
   },
   {
    "duration": 11,
    "start_time": "2022-09-29T13:19:17.497Z"
   },
   {
    "duration": 34,
    "start_time": "2022-09-29T13:19:17.521Z"
   },
   {
    "duration": 7,
    "start_time": "2022-09-29T13:19:17.557Z"
   },
   {
    "duration": 90,
    "start_time": "2022-09-29T13:19:17.566Z"
   },
   {
    "duration": 26,
    "start_time": "2022-09-29T13:19:17.658Z"
   },
   {
    "duration": 34,
    "start_time": "2022-09-29T13:19:17.687Z"
   },
   {
    "duration": 47,
    "start_time": "2022-09-29T13:19:17.723Z"
   },
   {
    "duration": 65,
    "start_time": "2022-09-29T13:19:17.771Z"
   },
   {
    "duration": 26,
    "start_time": "2022-09-29T13:19:17.839Z"
   },
   {
    "duration": 12,
    "start_time": "2022-09-29T13:19:17.867Z"
   },
   {
    "duration": 45,
    "start_time": "2022-09-29T13:19:17.881Z"
   },
   {
    "duration": 6,
    "start_time": "2022-09-29T13:19:17.928Z"
   },
   {
    "duration": 2892,
    "start_time": "2022-09-29T13:19:17.937Z"
   },
   {
    "duration": 66,
    "start_time": "2022-09-29T13:19:20.837Z"
   },
   {
    "duration": 11,
    "start_time": "2022-09-29T13:19:20.905Z"
   },
   {
    "duration": 16,
    "start_time": "2022-09-29T13:19:20.918Z"
   },
   {
    "duration": 11,
    "start_time": "2022-09-29T13:19:20.936Z"
   },
   {
    "duration": 232,
    "start_time": "2022-09-29T13:19:20.949Z"
   },
   {
    "duration": 1032,
    "start_time": "2022-09-29T13:38:21.183Z"
   },
   {
    "duration": 922,
    "start_time": "2022-09-29T13:39:39.413Z"
   },
   {
    "duration": 920,
    "start_time": "2022-09-29T13:49:20.977Z"
   },
   {
    "duration": 1054,
    "start_time": "2022-09-29T13:49:54.761Z"
   },
   {
    "duration": 950,
    "start_time": "2022-09-29T13:51:12.220Z"
   },
   {
    "duration": 1065,
    "start_time": "2022-09-29T13:52:01.316Z"
   },
   {
    "duration": 943,
    "start_time": "2022-09-29T13:52:10.280Z"
   },
   {
    "duration": 921,
    "start_time": "2022-09-29T13:58:41.923Z"
   },
   {
    "duration": 416,
    "start_time": "2022-09-29T14:00:06.538Z"
   },
   {
    "duration": 8,
    "start_time": "2022-09-29T14:00:19.126Z"
   },
   {
    "duration": 85,
    "start_time": "2022-09-29T14:00:19.137Z"
   },
   {
    "duration": 17,
    "start_time": "2022-09-29T14:00:19.224Z"
   },
   {
    "duration": 91,
    "start_time": "2022-09-29T14:00:19.243Z"
   },
   {
    "duration": 11,
    "start_time": "2022-09-29T14:00:19.336Z"
   },
   {
    "duration": 33,
    "start_time": "2022-09-29T14:00:19.349Z"
   },
   {
    "duration": 20,
    "start_time": "2022-09-29T14:00:19.384Z"
   },
   {
    "duration": 61,
    "start_time": "2022-09-29T14:00:19.420Z"
   },
   {
    "duration": 4,
    "start_time": "2022-09-29T14:00:19.483Z"
   },
   {
    "duration": 39,
    "start_time": "2022-09-29T14:00:19.488Z"
   },
   {
    "duration": 16,
    "start_time": "2022-09-29T14:00:19.530Z"
   },
   {
    "duration": 14,
    "start_time": "2022-09-29T14:00:19.548Z"
   },
   {
    "duration": 39,
    "start_time": "2022-09-29T14:00:19.564Z"
   },
   {
    "duration": 162,
    "start_time": "2022-09-29T14:00:19.605Z"
   },
   {
    "duration": 13,
    "start_time": "2022-09-29T14:00:19.769Z"
   },
   {
    "duration": 5,
    "start_time": "2022-09-29T14:00:19.784Z"
   },
   {
    "duration": 29,
    "start_time": "2022-09-29T14:00:19.791Z"
   },
   {
    "duration": 28,
    "start_time": "2022-09-29T14:00:19.823Z"
   },
   {
    "duration": 29,
    "start_time": "2022-09-29T14:00:19.854Z"
   },
   {
    "duration": 13,
    "start_time": "2022-09-29T14:00:19.885Z"
   },
   {
    "duration": 47,
    "start_time": "2022-09-29T14:00:19.900Z"
   },
   {
    "duration": 10,
    "start_time": "2022-09-29T14:00:19.949Z"
   },
   {
    "duration": 69,
    "start_time": "2022-09-29T14:00:19.961Z"
   },
   {
    "duration": 2,
    "start_time": "2022-09-29T14:00:20.032Z"
   },
   {
    "duration": 738,
    "start_time": "2022-09-29T14:00:20.036Z"
   },
   {
    "duration": 8,
    "start_time": "2022-09-29T14:00:20.777Z"
   },
   {
    "duration": 20908,
    "start_time": "2022-09-29T14:00:20.787Z"
   },
   {
    "duration": 10197,
    "start_time": "2022-09-29T14:00:41.697Z"
   },
   {
    "duration": 11997,
    "start_time": "2022-09-29T14:00:51.899Z"
   },
   {
    "duration": 5,
    "start_time": "2022-09-29T14:01:03.898Z"
   },
   {
    "duration": 2275,
    "start_time": "2022-09-29T14:01:03.905Z"
   },
   {
    "duration": 8,
    "start_time": "2022-09-29T14:01:06.182Z"
   },
   {
    "duration": 58,
    "start_time": "2022-09-29T14:01:06.192Z"
   },
   {
    "duration": 3725,
    "start_time": "2022-09-29T14:01:06.252Z"
   },
   {
    "duration": 5,
    "start_time": "2022-09-29T14:01:09.979Z"
   },
   {
    "duration": 4131,
    "start_time": "2022-09-29T14:01:09.986Z"
   },
   {
    "duration": 578,
    "start_time": "2022-09-29T14:01:14.120Z"
   },
   {
    "duration": 923,
    "start_time": "2022-09-29T14:01:14.700Z"
   },
   {
    "duration": 2380,
    "start_time": "2022-09-29T14:01:15.625Z"
   },
   {
    "duration": 43,
    "start_time": "2022-09-29T14:01:18.006Z"
   },
   {
    "duration": 8,
    "start_time": "2022-09-29T14:01:18.051Z"
   },
   {
    "duration": 62,
    "start_time": "2022-09-29T14:01:18.060Z"
   },
   {
    "duration": 45,
    "start_time": "2022-09-29T14:01:18.124Z"
   },
   {
    "duration": 14,
    "start_time": "2022-09-29T14:01:18.171Z"
   },
   {
    "duration": 512,
    "start_time": "2022-09-29T14:01:18.187Z"
   },
   {
    "duration": 989,
    "start_time": "2022-09-29T14:01:18.701Z"
   },
   {
    "duration": 48,
    "start_time": "2022-09-29T14:01:19.692Z"
   },
   {
    "duration": 517,
    "start_time": "2022-09-29T14:03:08.794Z"
   },
   {
    "duration": 299,
    "start_time": "2022-09-29T14:03:22.660Z"
   },
   {
    "duration": 976,
    "start_time": "2022-09-29T14:04:20.524Z"
   },
   {
    "duration": 291,
    "start_time": "2022-09-29T14:10:15.621Z"
   },
   {
    "duration": 2334,
    "start_time": "2022-09-29T14:46:42.116Z"
   },
   {
    "duration": 86,
    "start_time": "2022-09-29T14:46:44.453Z"
   },
   {
    "duration": 21,
    "start_time": "2022-09-29T14:46:44.542Z"
   },
   {
    "duration": 86,
    "start_time": "2022-09-29T14:46:44.566Z"
   },
   {
    "duration": 20,
    "start_time": "2022-09-29T14:46:44.654Z"
   },
   {
    "duration": 18,
    "start_time": "2022-09-29T14:46:44.676Z"
   },
   {
    "duration": 17,
    "start_time": "2022-09-29T14:46:44.696Z"
   },
   {
    "duration": 124,
    "start_time": "2022-09-29T14:46:44.715Z"
   },
   {
    "duration": 7,
    "start_time": "2022-09-29T14:46:44.841Z"
   },
   {
    "duration": 70,
    "start_time": "2022-09-29T14:46:44.856Z"
   },
   {
    "duration": 16,
    "start_time": "2022-09-29T14:46:44.928Z"
   },
   {
    "duration": 17,
    "start_time": "2022-09-29T14:46:44.946Z"
   },
   {
    "duration": 61,
    "start_time": "2022-09-29T14:46:44.966Z"
   },
   {
    "duration": 433,
    "start_time": "2022-09-29T14:46:45.029Z"
   },
   {
    "duration": 74,
    "start_time": "2022-09-29T14:46:45.465Z"
   },
   {
    "duration": 19,
    "start_time": "2022-09-29T14:46:45.542Z"
   },
   {
    "duration": 24,
    "start_time": "2022-09-29T14:46:45.563Z"
   },
   {
    "duration": 18,
    "start_time": "2022-09-29T14:46:45.589Z"
   },
   {
    "duration": 35,
    "start_time": "2022-09-29T14:46:45.608Z"
   },
   {
    "duration": 18,
    "start_time": "2022-09-29T14:46:45.646Z"
   },
   {
    "duration": 31,
    "start_time": "2022-09-29T14:46:45.666Z"
   },
   {
    "duration": 27,
    "start_time": "2022-09-29T14:46:45.700Z"
   },
   {
    "duration": 146,
    "start_time": "2022-09-29T14:46:45.730Z"
   },
   {
    "duration": 3,
    "start_time": "2022-09-29T14:46:45.878Z"
   },
   {
    "duration": 809,
    "start_time": "2022-09-29T14:46:45.882Z"
   },
   {
    "duration": 8,
    "start_time": "2022-09-29T14:46:46.693Z"
   },
   {
    "duration": 21262,
    "start_time": "2022-09-29T14:46:46.703Z"
   },
   {
    "duration": 10122,
    "start_time": "2022-09-29T14:47:07.969Z"
   },
   {
    "duration": 12279,
    "start_time": "2022-09-29T14:47:18.093Z"
   },
   {
    "duration": 5,
    "start_time": "2022-09-29T14:47:30.374Z"
   },
   {
    "duration": 2615,
    "start_time": "2022-09-29T14:47:30.381Z"
   },
   {
    "duration": 7,
    "start_time": "2022-09-29T14:47:32.997Z"
   },
   {
    "duration": 49,
    "start_time": "2022-09-29T14:47:33.023Z"
   },
   {
    "duration": 4241,
    "start_time": "2022-09-29T14:47:33.073Z"
   },
   {
    "duration": 10,
    "start_time": "2022-09-29T14:47:37.316Z"
   },
   {
    "duration": 4241,
    "start_time": "2022-09-29T14:47:37.327Z"
   },
   {
    "duration": 716,
    "start_time": "2022-09-29T14:47:41.570Z"
   },
   {
    "duration": 995,
    "start_time": "2022-09-29T14:47:42.288Z"
   },
   {
    "duration": 2692,
    "start_time": "2022-09-29T14:47:43.285Z"
   },
   {
    "duration": 53,
    "start_time": "2022-09-29T14:47:45.979Z"
   },
   {
    "duration": 9,
    "start_time": "2022-09-29T14:47:46.034Z"
   },
   {
    "duration": 38,
    "start_time": "2022-09-29T14:47:46.045Z"
   },
   {
    "duration": 83,
    "start_time": "2022-09-29T14:47:46.086Z"
   },
   {
    "duration": 12,
    "start_time": "2022-09-29T14:47:46.171Z"
   },
   {
    "duration": 527,
    "start_time": "2022-09-29T14:47:46.184Z"
   },
   {
    "duration": 943,
    "start_time": "2022-09-29T14:47:46.713Z"
   },
   {
    "duration": 40,
    "start_time": "2022-09-29T14:47:47.659Z"
   },
   {
    "duration": 453,
    "start_time": "2022-09-29T14:47:47.701Z"
   },
   {
    "duration": 1037,
    "start_time": "2022-09-29T14:47:48.157Z"
   },
   {
    "duration": 4,
    "start_time": "2022-09-29T14:47:49.198Z"
   },
   {
    "duration": 1192,
    "start_time": "2022-09-29T14:47:49.204Z"
   },
   {
    "duration": 10,
    "start_time": "2022-09-29T14:47:50.398Z"
   },
   {
    "duration": 37,
    "start_time": "2022-09-29T14:47:50.420Z"
   },
   {
    "duration": 8,
    "start_time": "2022-09-29T14:47:50.459Z"
   },
   {
    "duration": 83,
    "start_time": "2022-09-29T14:47:50.468Z"
   },
   {
    "duration": 18,
    "start_time": "2022-09-29T14:47:50.553Z"
   },
   {
    "duration": 12,
    "start_time": "2022-09-29T14:47:50.573Z"
   },
   {
    "duration": 60,
    "start_time": "2022-09-29T14:47:50.587Z"
   },
   {
    "duration": 38,
    "start_time": "2022-09-29T14:47:50.648Z"
   },
   {
    "duration": 48,
    "start_time": "2022-09-29T14:47:50.688Z"
   },
   {
    "duration": 27,
    "start_time": "2022-09-29T14:47:50.738Z"
   },
   {
    "duration": 40,
    "start_time": "2022-09-29T14:47:50.767Z"
   },
   {
    "duration": 6,
    "start_time": "2022-09-29T14:47:50.809Z"
   },
   {
    "duration": 2821,
    "start_time": "2022-09-29T14:47:50.818Z"
   },
   {
    "duration": 177,
    "start_time": "2022-09-29T14:47:53.641Z"
   },
   {
    "duration": 39,
    "start_time": "2022-09-29T14:47:53.821Z"
   },
   {
    "duration": 21,
    "start_time": "2022-09-29T14:47:53.862Z"
   },
   {
    "duration": 17,
    "start_time": "2022-09-29T14:47:53.885Z"
   },
   {
    "duration": 9,
    "start_time": "2022-09-29T14:47:53.904Z"
   },
   {
    "duration": 113,
    "start_time": "2022-09-30T15:29:19.443Z"
   },
   {
    "duration": 48,
    "start_time": "2022-09-30T17:56:02.979Z"
   },
   {
    "duration": 2138,
    "start_time": "2022-09-30T17:56:07.384Z"
   },
   {
    "duration": 116,
    "start_time": "2022-09-30T17:56:09.524Z"
   },
   {
    "duration": 18,
    "start_time": "2022-09-30T17:56:09.641Z"
   },
   {
    "duration": 56,
    "start_time": "2022-09-30T17:56:09.662Z"
   },
   {
    "duration": 10,
    "start_time": "2022-09-30T17:56:09.720Z"
   },
   {
    "duration": 14,
    "start_time": "2022-09-30T17:56:09.732Z"
   },
   {
    "duration": 55,
    "start_time": "2022-09-30T17:56:09.748Z"
   },
   {
    "duration": 46,
    "start_time": "2022-09-30T17:56:09.804Z"
   },
   {
    "duration": 38,
    "start_time": "2022-09-30T17:56:09.851Z"
   },
   {
    "duration": 7,
    "start_time": "2022-09-30T17:56:09.892Z"
   },
   {
    "duration": 14,
    "start_time": "2022-09-30T17:56:09.901Z"
   },
   {
    "duration": 4,
    "start_time": "2022-09-30T17:56:09.916Z"
   },
   {
    "duration": 12,
    "start_time": "2022-09-30T17:56:09.921Z"
   },
   {
    "duration": 180,
    "start_time": "2022-09-30T17:56:09.934Z"
   },
   {
    "duration": 11,
    "start_time": "2022-09-30T17:56:10.116Z"
   },
   {
    "duration": 4,
    "start_time": "2022-09-30T17:56:10.129Z"
   },
   {
    "duration": 6,
    "start_time": "2022-09-30T17:56:10.135Z"
   },
   {
    "duration": 18,
    "start_time": "2022-09-30T17:56:10.142Z"
   },
   {
    "duration": 51,
    "start_time": "2022-09-30T17:56:10.162Z"
   },
   {
    "duration": 13,
    "start_time": "2022-09-30T17:56:10.215Z"
   },
   {
    "duration": 27,
    "start_time": "2022-09-30T17:56:10.229Z"
   },
   {
    "duration": 34,
    "start_time": "2022-09-30T17:56:10.257Z"
   },
   {
    "duration": 114,
    "start_time": "2022-09-30T17:56:10.293Z"
   },
   {
    "duration": 3,
    "start_time": "2022-09-30T17:56:10.408Z"
   },
   {
    "duration": 998,
    "start_time": "2022-09-30T17:56:10.413Z"
   },
   {
    "duration": 8,
    "start_time": "2022-09-30T17:56:11.413Z"
   },
   {
    "duration": 21361,
    "start_time": "2022-09-30T17:56:11.423Z"
   },
   {
    "duration": 10487,
    "start_time": "2022-09-30T17:56:32.787Z"
   },
   {
    "duration": 13272,
    "start_time": "2022-09-30T17:56:43.275Z"
   },
   {
    "duration": 4,
    "start_time": "2022-09-30T17:56:56.549Z"
   },
   {
    "duration": 2239,
    "start_time": "2022-09-30T17:56:56.554Z"
   },
   {
    "duration": 7,
    "start_time": "2022-09-30T17:56:58.795Z"
   },
   {
    "duration": 40,
    "start_time": "2022-09-30T17:56:58.803Z"
   },
   {
    "duration": 4357,
    "start_time": "2022-09-30T17:56:58.845Z"
   },
   {
    "duration": 5,
    "start_time": "2022-09-30T17:57:03.204Z"
   },
   {
    "duration": 4650,
    "start_time": "2022-09-30T17:57:03.210Z"
   },
   {
    "duration": 641,
    "start_time": "2022-09-30T17:57:07.862Z"
   },
   {
    "duration": 859,
    "start_time": "2022-09-30T17:57:08.505Z"
   },
   {
    "duration": 2398,
    "start_time": "2022-09-30T17:57:09.366Z"
   },
   {
    "duration": 48,
    "start_time": "2022-09-30T17:57:11.765Z"
   },
   {
    "duration": 11,
    "start_time": "2022-09-30T17:57:11.815Z"
   },
   {
    "duration": 65,
    "start_time": "2022-09-30T17:57:11.829Z"
   },
   {
    "duration": 59,
    "start_time": "2022-09-30T17:57:11.896Z"
   },
   {
    "duration": 41,
    "start_time": "2022-09-30T17:57:33.610Z"
   },
   {
    "duration": 166,
    "start_time": "2022-09-30T17:57:41.884Z"
   },
   {
    "duration": 17,
    "start_time": "2022-09-30T17:57:52.603Z"
   },
   {
    "duration": 14,
    "start_time": "2022-09-30T17:58:00.367Z"
   },
   {
    "duration": 24,
    "start_time": "2022-09-30T17:58:04.314Z"
   },
   {
    "duration": 12,
    "start_time": "2022-09-30T17:58:27.602Z"
   },
   {
    "duration": 14,
    "start_time": "2022-09-30T17:58:28.548Z"
   },
   {
    "duration": 455,
    "start_time": "2022-09-30T17:58:28.780Z"
   },
   {
    "duration": 837,
    "start_time": "2022-09-30T17:58:32.626Z"
   },
   {
    "duration": 43,
    "start_time": "2022-09-30T17:58:42.193Z"
   },
   {
    "duration": 389,
    "start_time": "2022-09-30T17:58:44.834Z"
   },
   {
    "duration": 903,
    "start_time": "2022-09-30T17:58:47.150Z"
   },
   {
    "duration": 4,
    "start_time": "2022-09-30T17:58:52.052Z"
   },
   {
    "duration": 1054,
    "start_time": "2022-09-30T17:58:52.863Z"
   },
   {
    "duration": 1776,
    "start_time": "2022-09-30T17:59:15.568Z"
   },
   {
    "duration": 69,
    "start_time": "2022-09-30T17:59:17.345Z"
   },
   {
    "duration": 17,
    "start_time": "2022-09-30T17:59:17.415Z"
   },
   {
    "duration": 79,
    "start_time": "2022-09-30T17:59:17.434Z"
   },
   {
    "duration": 12,
    "start_time": "2022-09-30T17:59:17.515Z"
   },
   {
    "duration": 15,
    "start_time": "2022-09-30T17:59:17.529Z"
   },
   {
    "duration": 47,
    "start_time": "2022-09-30T17:59:17.546Z"
   },
   {
    "duration": 52,
    "start_time": "2022-09-30T17:59:17.595Z"
   },
   {
    "duration": 3,
    "start_time": "2022-09-30T17:59:17.690Z"
   },
   {
    "duration": 11,
    "start_time": "2022-09-30T17:59:17.696Z"
   },
   {
    "duration": 11,
    "start_time": "2022-09-30T17:59:17.708Z"
   },
   {
    "duration": 4,
    "start_time": "2022-09-30T17:59:17.720Z"
   },
   {
    "duration": 11,
    "start_time": "2022-09-30T17:59:17.725Z"
   },
   {
    "duration": 165,
    "start_time": "2022-09-30T17:59:17.737Z"
   },
   {
    "duration": 11,
    "start_time": "2022-09-30T17:59:17.904Z"
   },
   {
    "duration": 7,
    "start_time": "2022-09-30T17:59:17.917Z"
   },
   {
    "duration": 10,
    "start_time": "2022-09-30T17:59:17.925Z"
   },
   {
    "duration": 17,
    "start_time": "2022-09-30T17:59:17.937Z"
   },
   {
    "duration": 40,
    "start_time": "2022-09-30T17:59:17.956Z"
   },
   {
    "duration": 12,
    "start_time": "2022-09-30T17:59:17.998Z"
   },
   {
    "duration": 25,
    "start_time": "2022-09-30T17:59:18.012Z"
   },
   {
    "duration": 8,
    "start_time": "2022-09-30T17:59:18.038Z"
   },
   {
    "duration": 112,
    "start_time": "2022-09-30T17:59:18.047Z"
   },
   {
    "duration": 3,
    "start_time": "2022-09-30T17:59:18.160Z"
   },
   {
    "duration": 703,
    "start_time": "2022-09-30T17:59:18.190Z"
   },
   {
    "duration": 7,
    "start_time": "2022-09-30T17:59:18.896Z"
   },
   {
    "duration": 20621,
    "start_time": "2022-09-30T17:59:18.905Z"
   },
   {
    "duration": 10604,
    "start_time": "2022-09-30T17:59:39.530Z"
   },
   {
    "duration": 12768,
    "start_time": "2022-09-30T17:59:50.136Z"
   },
   {
    "duration": 4,
    "start_time": "2022-09-30T18:00:02.907Z"
   },
   {
    "duration": 2523,
    "start_time": "2022-09-30T18:00:02.913Z"
   },
   {
    "duration": 10,
    "start_time": "2022-09-30T18:00:05.438Z"
   },
   {
    "duration": 60,
    "start_time": "2022-09-30T18:00:05.450Z"
   },
   {
    "duration": 841,
    "start_time": "2022-09-30T18:00:05.512Z"
   },
   {
    "duration": 4,
    "start_time": "2022-09-30T18:00:06.355Z"
   },
   {
    "duration": 1257,
    "start_time": "2022-09-30T18:00:06.361Z"
   },
   {
    "duration": 635,
    "start_time": "2022-09-30T18:00:07.620Z"
   },
   {
    "duration": 991,
    "start_time": "2022-09-30T18:00:08.257Z"
   },
   {
    "duration": 4016,
    "start_time": "2022-09-30T18:00:09.250Z"
   },
   {
    "duration": 50,
    "start_time": "2022-09-30T18:00:13.268Z"
   },
   {
    "duration": 7,
    "start_time": "2022-09-30T18:00:13.319Z"
   },
   {
    "duration": 70,
    "start_time": "2022-09-30T18:00:13.328Z"
   },
   {
    "duration": 46,
    "start_time": "2022-09-30T18:00:13.400Z"
   },
   {
    "duration": 12,
    "start_time": "2022-09-30T18:00:13.448Z"
   },
   {
    "duration": 549,
    "start_time": "2022-09-30T18:00:13.462Z"
   },
   {
    "duration": 1077,
    "start_time": "2022-09-30T18:00:14.013Z"
   },
   {
    "duration": 48,
    "start_time": "2022-09-30T18:00:15.093Z"
   },
   {
    "duration": 361,
    "start_time": "2022-09-30T18:00:15.143Z"
   },
   {
    "duration": 981,
    "start_time": "2022-09-30T18:00:15.506Z"
   },
   {
    "duration": 5,
    "start_time": "2022-09-30T18:00:16.489Z"
   },
   {
    "duration": 1123,
    "start_time": "2022-09-30T18:00:16.495Z"
   },
   {
    "duration": 9,
    "start_time": "2022-09-30T18:00:17.619Z"
   },
   {
    "duration": 24,
    "start_time": "2022-09-30T18:00:17.630Z"
   },
   {
    "duration": 8,
    "start_time": "2022-09-30T18:00:17.656Z"
   },
   {
    "duration": 95,
    "start_time": "2022-09-30T18:00:17.666Z"
   },
   {
    "duration": 33,
    "start_time": "2022-09-30T18:00:17.763Z"
   },
   {
    "duration": 12,
    "start_time": "2022-09-30T18:00:17.798Z"
   },
   {
    "duration": 30,
    "start_time": "2022-09-30T18:00:17.812Z"
   },
   {
    "duration": 62,
    "start_time": "2022-09-30T18:00:17.844Z"
   },
   {
    "duration": 22,
    "start_time": "2022-09-30T18:00:17.908Z"
   },
   {
    "duration": 11,
    "start_time": "2022-09-30T18:00:17.932Z"
   },
   {
    "duration": 20,
    "start_time": "2022-09-30T18:00:17.945Z"
   },
   {
    "duration": 7,
    "start_time": "2022-09-30T18:00:17.988Z"
   },
   {
    "duration": 2781,
    "start_time": "2022-09-30T18:00:17.997Z"
   },
   {
    "duration": 254,
    "start_time": "2022-09-30T18:00:20.780Z"
   },
   {
    "duration": 35,
    "start_time": "2022-09-30T18:00:21.036Z"
   },
   {
    "duration": 10,
    "start_time": "2022-09-30T18:00:21.073Z"
   },
   {
    "duration": 11,
    "start_time": "2022-09-30T18:00:21.085Z"
   },
   {
    "duration": 11,
    "start_time": "2022-09-30T18:00:21.097Z"
   },
   {
    "duration": 251,
    "start_time": "2022-09-30T18:01:21.266Z"
   },
   {
    "duration": 1782,
    "start_time": "2022-09-30T18:01:32.564Z"
   },
   {
    "duration": 66,
    "start_time": "2022-09-30T18:01:34.347Z"
   },
   {
    "duration": 16,
    "start_time": "2022-09-30T18:01:34.414Z"
   },
   {
    "duration": 80,
    "start_time": "2022-09-30T18:01:34.432Z"
   },
   {
    "duration": 10,
    "start_time": "2022-09-30T18:01:34.513Z"
   },
   {
    "duration": 14,
    "start_time": "2022-09-30T18:01:34.524Z"
   },
   {
    "duration": 15,
    "start_time": "2022-09-30T18:01:34.540Z"
   },
   {
    "duration": 77,
    "start_time": "2022-09-30T18:01:34.557Z"
   },
   {
    "duration": 5,
    "start_time": "2022-09-30T18:01:34.636Z"
   },
   {
    "duration": 49,
    "start_time": "2022-09-30T18:01:34.644Z"
   },
   {
    "duration": 11,
    "start_time": "2022-09-30T18:01:34.695Z"
   },
   {
    "duration": 10,
    "start_time": "2022-09-30T18:01:34.708Z"
   },
   {
    "duration": 15,
    "start_time": "2022-09-30T18:01:34.719Z"
   },
   {
    "duration": 158,
    "start_time": "2022-09-30T18:01:34.735Z"
   },
   {
    "duration": 12,
    "start_time": "2022-09-30T18:01:34.895Z"
   },
   {
    "duration": 9,
    "start_time": "2022-09-30T18:01:34.909Z"
   },
   {
    "duration": 20,
    "start_time": "2022-09-30T18:01:34.919Z"
   },
   {
    "duration": 18,
    "start_time": "2022-09-30T18:01:34.941Z"
   },
   {
    "duration": 35,
    "start_time": "2022-09-30T18:01:34.961Z"
   },
   {
    "duration": 13,
    "start_time": "2022-09-30T18:01:34.998Z"
   },
   {
    "duration": 32,
    "start_time": "2022-09-30T18:01:35.013Z"
   },
   {
    "duration": 9,
    "start_time": "2022-09-30T18:01:35.047Z"
   },
   {
    "duration": 132,
    "start_time": "2022-09-30T18:01:35.057Z"
   },
   {
    "duration": 3,
    "start_time": "2022-09-30T18:01:35.191Z"
   },
   {
    "duration": 699,
    "start_time": "2022-09-30T18:01:35.196Z"
   },
   {
    "duration": 8,
    "start_time": "2022-09-30T18:01:35.897Z"
   },
   {
    "duration": 21021,
    "start_time": "2022-09-30T18:01:35.907Z"
   },
   {
    "duration": 10123,
    "start_time": "2022-09-30T18:01:56.932Z"
   },
   {
    "duration": 12434,
    "start_time": "2022-09-30T18:02:07.057Z"
   },
   {
    "duration": 9,
    "start_time": "2022-09-30T18:02:19.495Z"
   },
   {
    "duration": 2869,
    "start_time": "2022-09-30T18:02:19.506Z"
   },
   {
    "duration": 30,
    "start_time": "2022-09-30T18:02:22.377Z"
   },
   {
    "duration": 82,
    "start_time": "2022-09-30T18:02:22.409Z"
   },
   {
    "duration": 1384,
    "start_time": "2022-09-30T18:02:22.496Z"
   },
   {
    "duration": 4,
    "start_time": "2022-09-30T18:02:23.882Z"
   },
   {
    "duration": 1838,
    "start_time": "2022-09-30T18:02:23.888Z"
   },
   {
    "duration": 624,
    "start_time": "2022-09-30T18:02:25.728Z"
   },
   {
    "duration": 955,
    "start_time": "2022-09-30T18:02:26.354Z"
   },
   {
    "duration": 2557,
    "start_time": "2022-09-30T18:02:27.311Z"
   },
   {
    "duration": 48,
    "start_time": "2022-09-30T18:02:29.869Z"
   },
   {
    "duration": 7,
    "start_time": "2022-09-30T18:02:29.919Z"
   },
   {
    "duration": 24,
    "start_time": "2022-09-30T18:02:29.927Z"
   },
   {
    "duration": 52,
    "start_time": "2022-09-30T18:02:29.991Z"
   },
   {
    "duration": 13,
    "start_time": "2022-09-30T18:02:30.045Z"
   },
   {
    "duration": 523,
    "start_time": "2022-09-30T18:02:30.060Z"
   },
   {
    "duration": 981,
    "start_time": "2022-09-30T18:02:30.588Z"
   },
   {
    "duration": 52,
    "start_time": "2022-09-30T18:02:31.570Z"
   },
   {
    "duration": 325,
    "start_time": "2022-09-30T18:02:31.624Z"
   },
   {
    "duration": 1146,
    "start_time": "2022-09-30T18:02:31.951Z"
   },
   {
    "duration": 5,
    "start_time": "2022-09-30T18:02:33.098Z"
   },
   {
    "duration": 1027,
    "start_time": "2022-09-30T18:02:33.104Z"
   },
   {
    "duration": 9,
    "start_time": "2022-09-30T18:02:34.132Z"
   },
   {
    "duration": 29,
    "start_time": "2022-09-30T18:02:34.143Z"
   },
   {
    "duration": 19,
    "start_time": "2022-09-30T18:02:34.173Z"
   },
   {
    "duration": 73,
    "start_time": "2022-09-30T18:02:34.193Z"
   },
   {
    "duration": 26,
    "start_time": "2022-09-30T18:02:34.268Z"
   },
   {
    "duration": 11,
    "start_time": "2022-09-30T18:02:34.296Z"
   },
   {
    "duration": 27,
    "start_time": "2022-09-30T18:02:34.309Z"
   },
   {
    "duration": 55,
    "start_time": "2022-09-30T18:02:34.338Z"
   },
   {
    "duration": 20,
    "start_time": "2022-09-30T18:02:34.394Z"
   },
   {
    "duration": 9,
    "start_time": "2022-09-30T18:02:34.416Z"
   },
   {
    "duration": 15,
    "start_time": "2022-09-30T18:02:34.427Z"
   },
   {
    "duration": 6,
    "start_time": "2022-09-30T18:02:34.444Z"
   },
   {
    "duration": 2508,
    "start_time": "2022-09-30T18:02:34.451Z"
   },
   {
    "duration": 197,
    "start_time": "2022-09-30T18:02:36.961Z"
   },
   {
    "duration": 26,
    "start_time": "2022-09-30T18:02:37.161Z"
   },
   {
    "duration": 9,
    "start_time": "2022-09-30T18:02:37.189Z"
   },
   {
    "duration": 15,
    "start_time": "2022-09-30T18:02:37.199Z"
   },
   {
    "duration": 19,
    "start_time": "2022-09-30T18:02:37.215Z"
   },
   {
    "duration": 348,
    "start_time": "2022-09-30T18:37:47.004Z"
   }
  ],
  "kernelspec": {
   "display_name": "Python 3 (ipykernel)",
   "language": "python",
   "name": "python3"
  },
  "language_info": {
   "codemirror_mode": {
    "name": "ipython",
    "version": 3
   },
   "file_extension": ".py",
   "mimetype": "text/x-python",
   "name": "python",
   "nbconvert_exporter": "python",
   "pygments_lexer": "ipython3",
   "version": "3.9.13"
  },
  "toc": {
   "base_numbering": 1,
   "nav_menu": {},
   "number_sections": true,
   "sideBar": true,
   "skip_h1_title": true,
   "title_cell": "Table of Contents",
   "title_sidebar": "Contents",
   "toc_cell": false,
   "toc_position": {},
   "toc_section_display": true,
   "toc_window_display": false
  }
 },
 "nbformat": 4,
 "nbformat_minor": 2
}
