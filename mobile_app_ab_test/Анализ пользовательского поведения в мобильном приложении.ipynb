{
 "cells": [
  {
   "cell_type": "markdown",
   "metadata": {},
   "source": [
    "# Исследование поведения пользователей мобильного приложения\n",
    "\n",
    "Заказчик - компания-стартап, продающая продукты питания. Команда дизайна хочет поменять внести изменения в пользовательский интерфейс мобильного приложения (смена шрифтов), ну руководство сомневается в положительном отклике пользователей.\n",
    "\n",
    "**Цель исследования** - проанализировать данные A/A/B-эксперимента по внедрению новых шрифтов и сформулировать общие выводы/рекомендации.\n",
    "\n",
    "**Ход исследования**\n",
    "\n",
    "Данные для исследования представлены в файле `logs_exp.csv` - это таблица с логами пользователей. Необходимо провести обзор и предобработку данных - обработать возможные дубликаты и пропуски, при необходимости поменять тип данных и создать дополнительные столбцы. Затем будет проведён общий исследовательский анализ, главная цель которого - установление актуального периода исследования. По результатам будет сформирована и проанализирована воронка событий, а финальным этапом станет непосредственный анализ результатов эксперемента. По итогам исследования будут сформированы общие выводы и рекомендации.\n",
    "\n",
    "Таким образом, исследование будет разделено на следующие этапы:\n",
    "\n",
    "1. [**Обзор и предобработка данных**](#1)\n",
    "3. [**Исследовательский анализ данных**](#2)\n",
    "4. [**Анализ воронки событий**](#3)\n",
    "5. [**Изучение результатов эксперемента**](#4)\n",
    "6. [**Общий вывод**](#5)"
   ]
  },
  {
   "cell_type": "markdown",
   "metadata": {},
   "source": [
    "<a id='1'></a>"
   ]
  },
  {
   "cell_type": "markdown",
   "metadata": {},
   "source": [
    "## Обзор и предобработка данных\n",
    "\n",
    "**Описание данных**\n",
    "\n",
    "Каждая запись в логе — это действие пользователя, или событие.\n",
    "\n",
    "- `EventName` — название события; \t\t\n",
    "- `DeviceIDHash` — уникальный идентификатор пользователя; \t\t\n",
    "- `EventTimestamp` — время события;\n",
    "- `ExpId` — номер эксперимента: 246 и 247 — контрольные группы, а 248 — экспериментальная."
   ]
  },
  {
   "cell_type": "code",
   "execution_count": 1,
   "metadata": {},
   "outputs": [],
   "source": [
    "# импортируем библиотеки для работы с данными\n",
    "\n",
    "import os\n",
    "import pandas as pd\n",
    "import numpy as np\n",
    "from scipy import stats as st\n",
    "import math as mth\n",
    "from datetime import datetime, timedelta\n",
    "import seaborn as sns\n",
    "from matplotlib import pyplot as plt\n",
    "from plotly import graph_objects as go\n",
    "\n",
    "import plotly.express as px\n",
    "\n",
    "pd.options.display.float_format = '{:,.2f}'.format\n",
    "pd.options.mode.chained_assignment = None\n",
    "sns.set_style('darkgrid')\n",
    "sns.set(font_scale = 2)\n",
    "plt.rcParams.update({'axes.labelsize': 15,'axes.titlesize': 25})\n",
    "os.chdir('C:\\\\Users\\\\dmitr\\\\GitHub\\\\Practicum-Data-Analysis\\\\datasets')"
   ]
  },
  {
   "cell_type": "code",
   "execution_count": 2,
   "metadata": {},
   "outputs": [],
   "source": [
    "import plotly.io as pio\n",
    "\n",
    "pio.renderers.default = \"svg\""
   ]
  },
  {
   "cell_type": "code",
   "execution_count": 3,
   "metadata": {},
   "outputs": [
    {
     "name": "stdout",
     "output_type": "stream",
     "text": [
      "<class 'pandas.core.frame.DataFrame'>\n",
      "RangeIndex: 244126 entries, 0 to 244125\n",
      "Data columns (total 4 columns):\n",
      " #   Column      Non-Null Count   Dtype \n",
      "---  ------      --------------   ----- \n",
      " 0   event_type  244126 non-null  object\n",
      " 1   user_id     244126 non-null  int64 \n",
      " 2   event_time  244126 non-null  int64 \n",
      " 3   test_group  244126 non-null  int64 \n",
      "dtypes: int64(3), object(1)\n",
      "memory usage: 7.5+ MB\n"
     ]
    },
    {
     "data": {
      "text/html": [
       "<div>\n",
       "<style scoped>\n",
       "    .dataframe tbody tr th:only-of-type {\n",
       "        vertical-align: middle;\n",
       "    }\n",
       "\n",
       "    .dataframe tbody tr th {\n",
       "        vertical-align: top;\n",
       "    }\n",
       "\n",
       "    .dataframe thead th {\n",
       "        text-align: right;\n",
       "    }\n",
       "</style>\n",
       "<table border=\"1\" class=\"dataframe\">\n",
       "  <thead>\n",
       "    <tr style=\"text-align: right;\">\n",
       "      <th></th>\n",
       "      <th>event_type</th>\n",
       "      <th>user_id</th>\n",
       "      <th>event_time</th>\n",
       "      <th>test_group</th>\n",
       "    </tr>\n",
       "  </thead>\n",
       "  <tbody>\n",
       "    <tr>\n",
       "      <th>120873</th>\n",
       "      <td>MainScreenAppear</td>\n",
       "      <td>9096061512161785646</td>\n",
       "      <td>1564917596</td>\n",
       "      <td>248</td>\n",
       "    </tr>\n",
       "    <tr>\n",
       "      <th>4103</th>\n",
       "      <td>OffersScreenAppear</td>\n",
       "      <td>1074933668878523996</td>\n",
       "      <td>1564631437</td>\n",
       "      <td>247</td>\n",
       "    </tr>\n",
       "    <tr>\n",
       "      <th>92724</th>\n",
       "      <td>OffersScreenAppear</td>\n",
       "      <td>8115340604306569112</td>\n",
       "      <td>1564838447</td>\n",
       "      <td>246</td>\n",
       "    </tr>\n",
       "    <tr>\n",
       "      <th>128891</th>\n",
       "      <td>CartScreenAppear</td>\n",
       "      <td>3163109716415429772</td>\n",
       "      <td>1564930563</td>\n",
       "      <td>246</td>\n",
       "    </tr>\n",
       "    <tr>\n",
       "      <th>186942</th>\n",
       "      <td>OffersScreenAppear</td>\n",
       "      <td>2405626918155135838</td>\n",
       "      <td>1565082344</td>\n",
       "      <td>247</td>\n",
       "    </tr>\n",
       "    <tr>\n",
       "      <th>100277</th>\n",
       "      <td>PaymentScreenSuccessful</td>\n",
       "      <td>261817378841141406</td>\n",
       "      <td>1564850327</td>\n",
       "      <td>248</td>\n",
       "    </tr>\n",
       "    <tr>\n",
       "      <th>43950</th>\n",
       "      <td>CartScreenAppear</td>\n",
       "      <td>8407622027339743528</td>\n",
       "      <td>1564725755</td>\n",
       "      <td>248</td>\n",
       "    </tr>\n",
       "    <tr>\n",
       "      <th>28710</th>\n",
       "      <td>PaymentScreenSuccessful</td>\n",
       "      <td>6932456362538839381</td>\n",
       "      <td>1564676322</td>\n",
       "      <td>247</td>\n",
       "    </tr>\n",
       "    <tr>\n",
       "      <th>4837</th>\n",
       "      <td>OffersScreenAppear</td>\n",
       "      <td>6540987493924323038</td>\n",
       "      <td>1564634815</td>\n",
       "      <td>246</td>\n",
       "    </tr>\n",
       "    <tr>\n",
       "      <th>135461</th>\n",
       "      <td>PaymentScreenSuccessful</td>\n",
       "      <td>3198863056321683492</td>\n",
       "      <td>1564940990</td>\n",
       "      <td>248</td>\n",
       "    </tr>\n",
       "  </tbody>\n",
       "</table>\n",
       "</div>"
      ],
      "text/plain": [
       "                     event_type              user_id  event_time  test_group\n",
       "120873         MainScreenAppear  9096061512161785646  1564917596         248\n",
       "4103         OffersScreenAppear  1074933668878523996  1564631437         247\n",
       "92724        OffersScreenAppear  8115340604306569112  1564838447         246\n",
       "128891         CartScreenAppear  3163109716415429772  1564930563         246\n",
       "186942       OffersScreenAppear  2405626918155135838  1565082344         247\n",
       "100277  PaymentScreenSuccessful   261817378841141406  1564850327         248\n",
       "43950          CartScreenAppear  8407622027339743528  1564725755         248\n",
       "28710   PaymentScreenSuccessful  6932456362538839381  1564676322         247\n",
       "4837         OffersScreenAppear  6540987493924323038  1564634815         246\n",
       "135461  PaymentScreenSuccessful  3198863056321683492  1564940990         248"
      ]
     },
     "execution_count": 3,
     "metadata": {},
     "output_type": "execute_result"
    }
   ],
   "source": [
    "# загружаем данные о заказах, сразу переименуем колонки\n",
    "\n",
    "data = (\n",
    "    pd\n",
    "    .read_csv('logs_exp.csv', sep='\\t')\n",
    "    .rename(columns={'EventName':'event_type', \n",
    "                     'DeviceIDHash':'user_id', \n",
    "                     'EventTimestamp':'event_time', \n",
    "                     'ExpId':'test_group'})\n",
    ")\n",
    "\n",
    "# выводим таблицу и основную информацию по ней\n",
    "\n",
    "data.info()\n",
    "data.sample(10, random_state=1)"
   ]
  },
  {
   "cell_type": "markdown",
   "metadata": {},
   "source": [
    "Сразу бросается в глаза числовой формат даты в `event_time`, который должен содержать время события. Похоже на формат `unix`, попробуем преобразовать:"
   ]
  },
  {
   "cell_type": "code",
   "execution_count": 4,
   "metadata": {},
   "outputs": [],
   "source": [
    "# перед предобработкой на всякий случай сохраним сырой датасет\n",
    "\n",
    "original = data.copy()\n",
    "\n",
    "# преобразуем дату\n",
    "\n",
    "data['event_time'] = pd.to_datetime(data['event_time'], unit='s')"
   ]
  },
  {
   "cell_type": "markdown",
   "metadata": {},
   "source": [
    "В ходе исследования возможно понадобится провести когортный анализ - для этого выделим отдельный столбец с датой события. Затем посмотрим разброс дат в данных:"
   ]
  },
  {
   "cell_type": "code",
   "execution_count": 5,
   "metadata": {},
   "outputs": [
    {
     "data": {
      "text/plain": [
       "count                           244126\n",
       "mean     2019-08-03 21:33:08.209367296\n",
       "min                2019-07-25 00:00:00\n",
       "25%                2019-08-02 00:00:00\n",
       "50%                2019-08-04 00:00:00\n",
       "75%                2019-08-06 00:00:00\n",
       "max                2019-08-07 00:00:00\n",
       "Name: event_date, dtype: object"
      ]
     },
     "execution_count": 5,
     "metadata": {},
     "output_type": "execute_result"
    }
   ],
   "source": [
    "# выделяем дату в отдельный столбец\n",
    "\n",
    "data['event_date'] = (\n",
    "    data['event_time']\n",
    "    .dt.date\n",
    "    .astype('datetime64[ns]')\n",
    ")\n",
    "\n",
    "# выведем описательную статистику\n",
    "\n",
    "data['event_date'].describe(datetime_is_numeric=True)"
   ]
  },
  {
   "cell_type": "markdown",
   "metadata": {},
   "source": [
    "- Данные содержат события с 25.07.2019 по 07.08.2019 - ровно две недели.\n",
    "\n",
    "Теперь рассмотрим остальные столбцы по отдельности:"
   ]
  },
  {
   "cell_type": "code",
   "execution_count": 6,
   "metadata": {},
   "outputs": [
    {
     "data": {
      "text/plain": [
       "MainScreenAppear           119205\n",
       "OffersScreenAppear          46825\n",
       "CartScreenAppear            42731\n",
       "PaymentScreenSuccessful     34313\n",
       "Tutorial                     1052\n",
       "Name: event_type, dtype: int64"
      ]
     },
     "execution_count": 6,
     "metadata": {},
     "output_type": "execute_result"
    }
   ],
   "source": [
    "# столбец с событиями \n",
    "# выведем описательную статистику и посчитаем уникальные события\n",
    "\n",
    "data['event_type'].describe()\n",
    "data['event_type'].value_counts()"
   ]
  },
  {
   "cell_type": "markdown",
   "metadata": {},
   "source": [
    "- Всего в данных содержится пять уникальных пользовательских событий:\n",
    "\n",
    "    - `MainScreenAppear` - отображение главного экрана\n",
    "    - `OffersScreenAppear` - отображение экрана с предложением\n",
    "    - `CartScreenAppear` - отображение экрана с корзиной товаров\n",
    "    - `PaymentScreenSuccessful` - экран с сообщением об успешной оплате\n",
    "    - `Tutorial` - обучение"
   ]
  },
  {
   "cell_type": "markdown",
   "metadata": {},
   "source": [
    "Заменим значения более понятные:"
   ]
  },
  {
   "cell_type": "code",
   "execution_count": 7,
   "metadata": {},
   "outputs": [],
   "source": [
    "# создаём словарь значений\n",
    "\n",
    "correct_values = dict(\n",
    "    MainScreenAppear = 'главный экран',\n",
    "    OffersScreenAppear = 'экран с предложением',\n",
    "    CartScreenAppear = 'экран с корзиной товаров',\n",
    "    PaymentScreenSuccessful = 'сообщение об успешной оплате',\n",
    "    Tutorial = 'обучение')\n",
    "\n",
    "# производим замену\n",
    "\n",
    "data['event_type'] = (\n",
    "    data['event_type']\n",
    "    .replace(correct_values)\n",
    ")"
   ]
  },
  {
   "cell_type": "markdown",
   "metadata": {},
   "source": [
    "Для экономии памяти преобразуем данные в категорию и перейдём к следующему столбцу:"
   ]
  },
  {
   "cell_type": "code",
   "execution_count": 8,
   "metadata": {},
   "outputs": [
    {
     "name": "stdout",
     "output_type": "stream",
     "text": [
      "Таблица содержит данные 7551 уникальных пользователей, на каждого в среднем приходится 32 события, в том числе 5 покупок.\n"
     ]
    }
   ],
   "source": [
    "data['event_type'] = data['event_type'].astype('category')\n",
    "\n",
    "# столбец с уникальным идентификатором пользователя\n",
    "# посчитаем количество уникальных значений столбца пользователей\n",
    "# заодно используем предыдущий столбец для подсчёта среднего количества событий и покупок\n",
    "\n",
    "unique_users = data['user_id'].unique().size\n",
    "mean_events = round(data['event_type'].count()/unique_users)\n",
    "mean_purhases = round(\n",
    "    data[\n",
    "        data['event_type'] == 'сообщение об успешной оплате'\n",
    "    ]['event_type']\n",
    "    .count()/unique_users)\n",
    "\n",
    "print(f'Таблица содержит данные {unique_users} уникальных пользователей, ' \n",
    "      f'на каждого в среднем приходится {mean_events} события, в том числе {mean_purhases} покупок.')"
   ]
  },
  {
   "cell_type": "markdown",
   "metadata": {},
   "source": [
    "Переходим дальше:"
   ]
  },
  {
   "cell_type": "code",
   "execution_count": 9,
   "metadata": {},
   "outputs": [
    {
     "data": {
      "text/plain": [
       "248    85747\n",
       "246    80304\n",
       "247    78075\n",
       "Name: test_group, dtype: int64"
      ]
     },
     "execution_count": 9,
     "metadata": {},
     "output_type": "execute_result"
    }
   ],
   "source": [
    "# столбец с номером группы в A/A/B тестировании\n",
    "# согласно документации в данных должно быть только три группы\n",
    "\n",
    "data['test_group'].value_counts()"
   ]
  },
  {
   "cell_type": "markdown",
   "metadata": {},
   "source": [
    "Столбец содержит три уникальных значения, как и должно быть. Для удобства переименуем значения и преобразуем тип данных в категорию:"
   ]
  },
  {
   "cell_type": "code",
   "execution_count": 10,
   "metadata": {},
   "outputs": [
    {
     "data": {
      "text/plain": [
       "B      85747\n",
       "A_1    80304\n",
       "A_2    78075\n",
       "Name: test_group, dtype: int64"
      ]
     },
     "execution_count": 10,
     "metadata": {},
     "output_type": "execute_result"
    }
   ],
   "source": [
    "# контрольные группы назовём 'A_1' и 'A_2'\n",
    "# а эксперементальную -'B'\n",
    "\n",
    "data['test_group'] = (\n",
    "    data['test_group']\n",
    "    .replace({246:'A_1', 247:'A_2', 248:'B'})\n",
    "    .astype('category')\n",
    ")\n",
    "data['test_group'].value_counts()"
   ]
  },
  {
   "cell_type": "markdown",
   "metadata": {},
   "source": [
    "На всякий случай проверим, что никто из пользователей не попал в две эксперементальные группы одновременно:"
   ]
  },
  {
   "cell_type": "code",
   "execution_count": 11,
   "metadata": {},
   "outputs": [
    {
     "name": "stdout",
     "output_type": "stream",
     "text": [
      " Уникальных пользователей, попавших в две группы одновременно - 0\n"
     ]
    }
   ],
   "source": [
    "# напишем функцию для проверки совпадений \n",
    "# идентификаторов пользователей разных групп\n",
    "\n",
    "def inter_check(group_1, group_2):\n",
    "    \n",
    "    inter = np.intersect1d(\n",
    "        data[data['test_group'] == group_1]['user_id'].unique(),\n",
    "        data[data['test_group'] == group_2]['user_id'].unique()\n",
    "    )\n",
    "    return inter.size\n",
    "\n",
    "inter = sum(\n",
    "    [inter_check('A_1', 'A_2'),\n",
    "     inter_check('A_1', 'B'),\n",
    "     inter_check('A_2', 'B')]\n",
    ")\n",
    "            \n",
    "print(f' Уникальных пользователей, попавших в две группы одновременно - {inter}')"
   ]
  },
  {
   "cell_type": "markdown",
   "metadata": {},
   "source": [
    "Теперь проверим данные на явные дубликаты:"
   ]
  },
  {
   "cell_type": "code",
   "execution_count": 12,
   "metadata": {},
   "outputs": [
    {
     "name": "stdout",
     "output_type": "stream",
     "text": [
      "Данные содержат 413 задублированных строк, их доля составляет 0.0017.\n"
     ]
    }
   ],
   "source": [
    "dup_sum = data.duplicated().sum()\n",
    "dup_share = round(dup_sum/len(data), 4)\n",
    "\n",
    "print(f'Данные содержат {dup_sum} задублированных строк, их доля составляет {dup_share}.')"
   ]
  },
  {
   "cell_type": "markdown",
   "metadata": {},
   "source": [
    "Так как доля дубликатов составляет менее 1%, их можно оставить как есть без последствий для исследования."
   ]
  },
  {
   "cell_type": "markdown",
   "metadata": {},
   "source": [
    "### Итоги\n",
    "В ходе предобработки были рассмотрены данные каждого столбца, была произведена проверка на дубликаты и частично изменены типы данных.\n",
    "\n",
    "Сравним обработанный и сырой датасеты:"
   ]
  },
  {
   "cell_type": "code",
   "execution_count": 13,
   "metadata": {},
   "outputs": [
    {
     "name": "stdout",
     "output_type": "stream",
     "text": [
      "В ходе предобработки данных удалось сократить использование памяти на 23.07%.\n",
      "\n",
      "<class 'pandas.core.frame.DataFrame'>\n",
      "RangeIndex: 244126 entries, 0 to 244125\n",
      "Data columns (total 5 columns):\n",
      " #   Column      Non-Null Count   Dtype         \n",
      "---  ------      --------------   -----         \n",
      " 0   event_type  244126 non-null  category      \n",
      " 1   user_id     244126 non-null  int64         \n",
      " 2   event_time  244126 non-null  datetime64[ns]\n",
      " 3   test_group  244126 non-null  category      \n",
      " 4   event_date  244126 non-null  datetime64[ns]\n",
      "dtypes: category(2), datetime64[ns](2), int64(1)\n",
      "memory usage: 6.1 MB\n"
     ]
    },
    {
     "data": {
      "text/html": [
       "<div>\n",
       "<style scoped>\n",
       "    .dataframe tbody tr th:only-of-type {\n",
       "        vertical-align: middle;\n",
       "    }\n",
       "\n",
       "    .dataframe tbody tr th {\n",
       "        vertical-align: top;\n",
       "    }\n",
       "\n",
       "    .dataframe thead th {\n",
       "        text-align: right;\n",
       "    }\n",
       "</style>\n",
       "<table border=\"1\" class=\"dataframe\">\n",
       "  <thead>\n",
       "    <tr style=\"text-align: right;\">\n",
       "      <th></th>\n",
       "      <th>event_type</th>\n",
       "      <th>user_id</th>\n",
       "      <th>event_time</th>\n",
       "      <th>test_group</th>\n",
       "      <th>event_date</th>\n",
       "    </tr>\n",
       "  </thead>\n",
       "  <tbody>\n",
       "    <tr>\n",
       "      <th>120873</th>\n",
       "      <td>главный экран</td>\n",
       "      <td>9096061512161785646</td>\n",
       "      <td>2019-08-04 11:19:56</td>\n",
       "      <td>B</td>\n",
       "      <td>2019-08-04</td>\n",
       "    </tr>\n",
       "    <tr>\n",
       "      <th>4103</th>\n",
       "      <td>экран с предложением</td>\n",
       "      <td>1074933668878523996</td>\n",
       "      <td>2019-08-01 03:50:37</td>\n",
       "      <td>A_2</td>\n",
       "      <td>2019-08-01</td>\n",
       "    </tr>\n",
       "    <tr>\n",
       "      <th>92724</th>\n",
       "      <td>экран с предложением</td>\n",
       "      <td>8115340604306569112</td>\n",
       "      <td>2019-08-03 13:20:47</td>\n",
       "      <td>A_1</td>\n",
       "      <td>2019-08-03</td>\n",
       "    </tr>\n",
       "    <tr>\n",
       "      <th>128891</th>\n",
       "      <td>экран с корзиной товаров</td>\n",
       "      <td>3163109716415429772</td>\n",
       "      <td>2019-08-04 14:56:03</td>\n",
       "      <td>A_1</td>\n",
       "      <td>2019-08-04</td>\n",
       "    </tr>\n",
       "    <tr>\n",
       "      <th>186942</th>\n",
       "      <td>экран с предложением</td>\n",
       "      <td>2405626918155135838</td>\n",
       "      <td>2019-08-06 09:05:44</td>\n",
       "      <td>A_2</td>\n",
       "      <td>2019-08-06</td>\n",
       "    </tr>\n",
       "    <tr>\n",
       "      <th>100277</th>\n",
       "      <td>сообщение об успешной оплате</td>\n",
       "      <td>261817378841141406</td>\n",
       "      <td>2019-08-03 16:38:47</td>\n",
       "      <td>B</td>\n",
       "      <td>2019-08-03</td>\n",
       "    </tr>\n",
       "    <tr>\n",
       "      <th>43950</th>\n",
       "      <td>экран с корзиной товаров</td>\n",
       "      <td>8407622027339743528</td>\n",
       "      <td>2019-08-02 06:02:35</td>\n",
       "      <td>B</td>\n",
       "      <td>2019-08-02</td>\n",
       "    </tr>\n",
       "    <tr>\n",
       "      <th>28710</th>\n",
       "      <td>сообщение об успешной оплате</td>\n",
       "      <td>6932456362538839381</td>\n",
       "      <td>2019-08-01 16:18:42</td>\n",
       "      <td>A_2</td>\n",
       "      <td>2019-08-01</td>\n",
       "    </tr>\n",
       "    <tr>\n",
       "      <th>4837</th>\n",
       "      <td>экран с предложением</td>\n",
       "      <td>6540987493924323038</td>\n",
       "      <td>2019-08-01 04:46:55</td>\n",
       "      <td>A_1</td>\n",
       "      <td>2019-08-01</td>\n",
       "    </tr>\n",
       "    <tr>\n",
       "      <th>135461</th>\n",
       "      <td>сообщение об успешной оплате</td>\n",
       "      <td>3198863056321683492</td>\n",
       "      <td>2019-08-04 17:49:50</td>\n",
       "      <td>B</td>\n",
       "      <td>2019-08-04</td>\n",
       "    </tr>\n",
       "  </tbody>\n",
       "</table>\n",
       "</div>"
      ],
      "text/plain": [
       "                          event_type              user_id          event_time  \\\n",
       "120873                 главный экран  9096061512161785646 2019-08-04 11:19:56   \n",
       "4103            экран с предложением  1074933668878523996 2019-08-01 03:50:37   \n",
       "92724           экран с предложением  8115340604306569112 2019-08-03 13:20:47   \n",
       "128891      экран с корзиной товаров  3163109716415429772 2019-08-04 14:56:03   \n",
       "186942          экран с предложением  2405626918155135838 2019-08-06 09:05:44   \n",
       "100277  сообщение об успешной оплате   261817378841141406 2019-08-03 16:38:47   \n",
       "43950       экран с корзиной товаров  8407622027339743528 2019-08-02 06:02:35   \n",
       "28710   сообщение об успешной оплате  6932456362538839381 2019-08-01 16:18:42   \n",
       "4837            экран с предложением  6540987493924323038 2019-08-01 04:46:55   \n",
       "135461  сообщение об успешной оплате  3198863056321683492 2019-08-04 17:49:50   \n",
       "\n",
       "       test_group event_date  \n",
       "120873          B 2019-08-04  \n",
       "4103          A_2 2019-08-01  \n",
       "92724         A_1 2019-08-03  \n",
       "128891        A_1 2019-08-04  \n",
       "186942        A_2 2019-08-06  \n",
       "100277          B 2019-08-03  \n",
       "43950           B 2019-08-02  \n",
       "28710         A_2 2019-08-01  \n",
       "4837          A_1 2019-08-01  \n",
       "135461          B 2019-08-04  "
      ]
     },
     "execution_count": 13,
     "metadata": {},
     "output_type": "execute_result"
    }
   ],
   "source": [
    "# разница в объёме используемой памяти\n",
    "\n",
    "memory_diff = (\n",
    "    round((original.memory_usage().sum()\n",
    "           /data.memory_usage().sum()-1)*100, 2)\n",
    ")\n",
    "\n",
    "print(f'В ходе предобработки данных удалось сократить использование памяти на {memory_diff}%.')\n",
    "print()\n",
    "\n",
    "# выводим обработанную таблицу\n",
    "\n",
    "data.info()\n",
    "data.sample(10, random_state=1)"
   ]
  },
  {
   "cell_type": "markdown",
   "metadata": {},
   "source": [
    "Изменение типа данных позволило значительно сократить объёмы используемой памяти, даже несмотря на создание отдельного столбца с датами.\n",
    "____\n",
    "**Что было отмечено при работе с данными**:\n",
    "\n",
    "- Данные содержат события с 25.07.2019 по 07.08.2019 - ровно две недели.\n",
    "\n",
    "\n",
    "- В данных содержится пять уникальных пользовательских событий:\n",
    "\n",
    "    - `MainScreenAppear` - отображение главного экрана\n",
    "    - `OffersScreenAppear` - отображение экрана с предложением\n",
    "    - `CartScreenAppear` - отображение экрана с корзиной товаров\n",
    "    - `PaymentScreenSuccessful` - экран с сообщением об успешной оплате\n",
    "    - `Tutorial` - обучение\n",
    "    \n",
    "    \n",
    "- Таблица содержит данные 7551 уникальных пользователей, на каждого в среднем приходится 32 события."
   ]
  },
  {
   "cell_type": "markdown",
   "metadata": {},
   "source": [
    "<a id='2'></a>"
   ]
  },
  {
   "cell_type": "markdown",
   "metadata": {},
   "source": [
    "## Исследовательский анализ данных\n",
    "\n",
    "Основная цель этого этапа - установление актуального периода исследования. Необходимо изучить датасет на предмет наличия полных данных за весь период, во избежание влияние аномалий на результаты исследования.\n",
    "\n",
    "Для начала посчитаем количество уникальных пользователей за каждый день (метрика `DAU`) и количество событий:"
   ]
  },
  {
   "cell_type": "code",
   "execution_count": 14,
   "metadata": {},
   "outputs": [
    {
     "data": {
      "image/png": "[encoded data removed]",
      "text/plain": [
       "<Figure size 1440x720 with 2 Axes>"
      ]
     },
     "metadata": {},
     "output_type": "display_data"
    }
   ],
   "source": [
    "# сделаем копию датасета для eda\n",
    "\n",
    "eda = data.copy()\n",
    "\n",
    "# считаем dau и количество событий\n",
    "\n",
    "dau_events = (\n",
    "    eda\n",
    "    .pivot_table(index='event_date', \n",
    "                 values=('user_id', 'event_type'),\n",
    "                 aggfunc={'user_id':'nunique', 'event_type':'count'}\n",
    "                )\n",
    "    .reset_index()\n",
    "    .rename(columns={'event_date':'date',\n",
    "                     'event_type':'events',\n",
    "                     'user_id':'unique_users'\n",
    "                    })\n",
    ")\n",
    "\n",
    "# визуализируем результат\n",
    "\n",
    "dates = (\n",
    "    dau_events['date']\n",
    "    .dt.strftime('%d-%m')\n",
    ")\n",
    "\n",
    "def barp(par, ax):\n",
    "    \n",
    "    sns.barplot(data=dau_events,\n",
    "                x=par, y='date', \n",
    "                ax=ax, palette='flare_r')\n",
    "\n",
    "    \n",
    "fig, (ax1, ax2) = plt.subplots(1, 2, figsize= (20, 10), sharey=True)\n",
    "\n",
    "barp('unique_users', ax1)\n",
    "barp('events', ax2)\n",
    "\n",
    "\n",
    "ax1.set_yticklabels(dates)\n",
    "ax1.set_ylabel(None)\n",
    "ax1.set_xlabel('Количество уникальных пользователей', fontsize=20)\n",
    "\n",
    "ax2.set_ylabel(None)\n",
    "ax2.set_xlabel('Количество событий', fontsize=20)\n",
    "\n",
    "\n",
    "plt.suptitle('Количество уникальных пользователей и событий', fontsize=25)\n",
    "plt.tight_layout()\n",
    "\n",
    "plt.show()"
   ]
  },
  {
   "cell_type": "markdown",
   "metadata": {},
   "source": [
    "До 31.07 в приложении как-будто практически ничего не происходит. Попробуем визулизировать количество событий по точному времени, чтобы определить момент начала полноценной активности пользователей:"
   ]
  },
  {
   "cell_type": "code",
   "execution_count": 15,
   "metadata": {},
   "outputs": [
    {
     "data": {
      "image/svg+xml": [
       "<svg class=\"main-svg\" xmlns=\"http://www.w3.org/2000/svg\" xmlns:xlink=\"http://www.w3.org/1999/xlink\" width=\"700\" height=\"500\" style=\"\" viewBox=\"0 0 700 500\"><rect x=\"0\" y=\"0\" width=\"700\" height=\"500\" style=\"fill: rgb(255, 255, 255); fill-opacity: 1;\"/><defs id=\"defs-d92348\"><g class=\"clips\"><clipPath id=\"clipd92348xyplot\" class=\"plotclip\"><rect width=\"355\" height=\"360\"/></clipPath><clipPath class=\"axesclip\" id=\"clipd92348x\"><rect x=\"80\" y=\"0\" width=\"355\" height=\"500\"/></clipPath><clipPath class=\"axesclip\" id=\"clipd92348y\"><rect x=\"0\" y=\"60\" width=\"700\" height=\"360\"/></clipPath><clipPath class=\"axesclip\" id=\"clipd92348xy\"><rect x=\"80\" y=\"60\" width=\"355\" height=\"360\"/></clipPath></g><g class=\"gradients\"/><g class=\"patterns\"/></defs><g class=\"bglayer\"><rect class=\"bg\" x=\"80\" y=\"60\" width=\"355\" height=\"360\" style=\"fill: rgb(229, 236, 246); fill-opacity: 1; stroke-width: 0;\"/></g><g class=\"layer-below\"><g class=\"imagelayer\"/><g class=\"shapelayer\"/></g><g class=\"cartesianlayer\"><g class=\"subplot xy\"><g class=\"layer-subplot\"><g class=\"shapelayer\"/><g class=\"imagelayer\"/></g><g class=\"minor-gridlayer\"><g class=\"x\"/><g class=\"y\"/></g><g class=\"gridlayer\"><g class=\"x\"/><g class=\"y\"><path class=\"ygrid crisp\" transform=\"translate(0,369.56)\" d=\"M80,0h355\" style=\"stroke: rgb(255, 255, 255); stroke-opacity: 1; stroke-width: 1px;\"/><path class=\"ygrid crisp\" transform=\"translate(0,319.12)\" d=\"M80,0h355\" style=\"stroke: rgb(255, 255, 255); stroke-opacity: 1; stroke-width: 1px;\"/><path class=\"ygrid crisp\" transform=\"translate(0,268.66999999999996)\" d=\"M80,0h355\" style=\"stroke: rgb(255, 255, 255); stroke-opacity: 1; stroke-width: 1px;\"/><path class=\"ygrid crisp\" transform=\"translate(0,218.23)\" d=\"M80,0h355\" style=\"stroke: rgb(255, 255, 255); stroke-opacity: 1; stroke-width: 1px;\"/><path class=\"ygrid crisp\" transform=\"translate(0,167.79000000000002)\" d=\"M80,0h355\" style=\"stroke: rgb(255, 255, 255); stroke-opacity: 1; stroke-width: 1px;\"/><path class=\"ygrid crisp\" transform=\"translate(0,117.35)\" d=\"M80,0h355\" style=\"stroke: rgb(255, 255, 255); stroke-opacity: 1; stroke-width: 1px;\"/><path class=\"ygrid crisp\" transform=\"translate(0,66.9)\" d=\"M80,0h355\" style=\"stroke: rgb(255, 255, 255); stroke-opacity: 1; stroke-width: 1px;\"/></g></g><g class=\"zerolinelayer\"><path class=\"yzl zl crisp\" transform=\"translate(0,420)\" d=\"M80,0h355\" style=\"stroke: rgb(255, 255, 255); stroke-opacity: 1; stroke-width: 2px;\"/></g><path class=\"xlines-below\"/><path class=\"ylines-below\"/><g class=\"overlines-below\"/><g class=\"xaxislayer-below\"/><g class=\"yaxislayer-below\"/><g class=\"overaxes-below\"/><g class=\"plot\" transform=\"translate(80,60)\" clip-path=\"url(#clipd92348xyplot)\"><g class=\"barlayer mlayer\"><g class=\"trace bars\" style=\"opacity: 1;\"><g class=\"points\"><g class=\"point\"><path d=\"M0.19,360V358.99H0.49V360Z\" style=\"vector-effect: non-scaling-stroke; opacity: 1; stroke-width: 0px; fill: rgb(99, 110, 250); fill-opacity: 1;\"/></g><g class=\"point\"><path d=\"M0,0Z\" style=\"vector-effect: non-scaling-stroke; opacity: 1; stroke-width: 0px; fill: rgb(99, 110, 250); fill-opacity: 1;\"/></g><g class=\"point\"><path d=\"M0,0Z\" style=\"vector-effect: non-scaling-stroke; opacity: 1; stroke-width: 0px; fill: rgb(99, 110, 250); fill-opacity: 1;\"/></g><g class=\"point\"><path d=\"M0,0Z\" style=\"vector-effect: non-scaling-stroke; opacity: 1; stroke-width: 0px; fill: rgb(99, 110, 250); fill-opacity: 1;\"/></g><g class=\"point\"><path d=\"M7.74,360V358.99H8.04V360Z\" style=\"vector-effect: non-scaling-stroke; opacity: 1; stroke-width: 0px; fill: rgb(99, 110, 250); fill-opacity: 1;\"/></g><g class=\"point\"><path d=\"M9.63,360V358.99H9.93V360Z\" style=\"vector-effect: non-scaling-stroke; opacity: 1; stroke-width: 0px; fill: rgb(99, 110, 250); fill-opacity: 1;\"/></g><g class=\"point\"><path d=\"M0,0Z\" style=\"vector-effect: non-scaling-stroke; opacity: 1; stroke-width: 0px; fill: rgb(99, 110, 250); fill-opacity: 1;\"/></g><g class=\"point\"><path d=\"M13.41,360V358.99H13.71V360Z\" style=\"vector-effect: non-scaling-stroke; opacity: 1; stroke-width: 0px; fill: rgb(99, 110, 250); fill-opacity: 1;\"/></g><g class=\"point\"><path d=\"M15.3,360V357.98H15.6V360Z\" style=\"vector-effect: non-scaling-stroke; opacity: 1; stroke-width: 0px; fill: rgb(99, 110, 250); fill-opacity: 1;\"/></g><g class=\"point\"><path d=\"M17.18,360V357.98H17.49V360Z\" style=\"vector-effect: non-scaling-stroke; opacity: 1; stroke-width: 0px; fill: rgb(99, 110, 250); fill-opacity: 1;\"/></g><g class=\"point\"><path d=\"M19.07,360V356.97H19.37V360Z\" style=\"vector-effect: non-scaling-stroke; opacity: 1; stroke-width: 0px; fill: rgb(99, 110, 250); fill-opacity: 1;\"/></g><g class=\"point\"><path d=\"M20.96,360V356.97H21.26V360Z\" style=\"vector-effect: non-scaling-stroke; opacity: 1; stroke-width: 0px; fill: rgb(99, 110, 250); fill-opacity: 1;\"/></g><g class=\"point\"><path d=\"M22.85,360V355.96H23.15V360Z\" style=\"vector-effect: non-scaling-stroke; opacity: 1; stroke-width: 0px; fill: rgb(99, 110, 250); fill-opacity: 1;\"/></g><g class=\"point\"><path d=\"M24.74,360V353.95H25.04V360Z\" style=\"vector-effect: non-scaling-stroke; opacity: 1; stroke-width: 0px; fill: rgb(99, 110, 250); fill-opacity: 1;\"/></g><g class=\"point\"><path d=\"M26.63,360V354.96H26.93V360Z\" style=\"vector-effect: non-scaling-stroke; opacity: 1; stroke-width: 0px; fill: rgb(99, 110, 250); fill-opacity: 1;\"/></g><g class=\"point\"><path d=\"M0,0Z\" style=\"vector-effect: non-scaling-stroke; opacity: 1; stroke-width: 0px; fill: rgb(99, 110, 250); fill-opacity: 1;\"/></g><g class=\"point\"><path d=\"M30.4,360V357.98H30.7V360Z\" style=\"vector-effect: non-scaling-stroke; opacity: 1; stroke-width: 0px; fill: rgb(99, 110, 250); fill-opacity: 1;\"/></g><g class=\"point\"><path d=\"M32.29,360V346.88H32.59V360Z\" style=\"vector-effect: non-scaling-stroke; opacity: 1; stroke-width: 0px; fill: rgb(99, 110, 250); fill-opacity: 1;\"/></g><g class=\"point\"><path d=\"M34.18,360V358.99H34.48V360Z\" style=\"vector-effect: non-scaling-stroke; opacity: 1; stroke-width: 0px; fill: rgb(99, 110, 250); fill-opacity: 1;\"/></g><g class=\"point\"><path d=\"M36.07,360V355.96H36.37V360Z\" style=\"vector-effect: non-scaling-stroke; opacity: 1; stroke-width: 0px; fill: rgb(99, 110, 250); fill-opacity: 1;\"/></g><g class=\"point\"><path d=\"M37.95,360V352.94H38.26V360Z\" style=\"vector-effect: non-scaling-stroke; opacity: 1; stroke-width: 0px; fill: rgb(99, 110, 250); fill-opacity: 1;\"/></g><g class=\"point\"><path d=\"M39.84,360V354.96H40.15V360Z\" style=\"vector-effect: non-scaling-stroke; opacity: 1; stroke-width: 0px; fill: rgb(99, 110, 250); fill-opacity: 1;\"/></g><g class=\"point\"><path d=\"M41.73,360V355.96H42.03V360Z\" style=\"vector-effect: non-scaling-stroke; opacity: 1; stroke-width: 0px; fill: rgb(99, 110, 250); fill-opacity: 1;\"/></g><g class=\"point\"><path d=\"M43.62,360V345.88H43.92V360Z\" style=\"vector-effect: non-scaling-stroke; opacity: 1; stroke-width: 0px; fill: rgb(99, 110, 250); fill-opacity: 1;\"/></g><g class=\"point\"><path d=\"M45.51,360V353.95H45.81V360Z\" style=\"vector-effect: non-scaling-stroke; opacity: 1; stroke-width: 0px; fill: rgb(99, 110, 250); fill-opacity: 1;\"/></g><g class=\"point\"><path d=\"M47.4,360V346.88H47.7V360Z\" style=\"vector-effect: non-scaling-stroke; opacity: 1; stroke-width: 0px; fill: rgb(99, 110, 250); fill-opacity: 1;\"/></g><g class=\"point\"><path d=\"M49.28,360V352.94H49.59V360Z\" style=\"vector-effect: non-scaling-stroke; opacity: 1; stroke-width: 0px; fill: rgb(99, 110, 250); fill-opacity: 1;\"/></g><g class=\"point\"><path d=\"M51.17,360V355.96H51.48V360Z\" style=\"vector-effect: non-scaling-stroke; opacity: 1; stroke-width: 0px; fill: rgb(99, 110, 250); fill-opacity: 1;\"/></g><g class=\"point\"><path d=\"M53.06,360V355.96H53.36V360Z\" style=\"vector-effect: non-scaling-stroke; opacity: 1; stroke-width: 0px; fill: rgb(99, 110, 250); fill-opacity: 1;\"/></g><g class=\"point\"><path d=\"M54.95,360V349.91H55.25V360Z\" style=\"vector-effect: non-scaling-stroke; opacity: 1; stroke-width: 0px; fill: rgb(99, 110, 250); fill-opacity: 1;\"/></g><g class=\"point\"><path d=\"M56.84,360V354.96H57.14V360Z\" style=\"vector-effect: non-scaling-stroke; opacity: 1; stroke-width: 0px; fill: rgb(99, 110, 250); fill-opacity: 1;\"/></g><g class=\"point\"><path d=\"M58.73,360V354.96H59.03V360Z\" style=\"vector-effect: non-scaling-stroke; opacity: 1; stroke-width: 0px; fill: rgb(99, 110, 250); fill-opacity: 1;\"/></g><g class=\"point\"><path d=\"M60.61,360V355.96H60.92V360Z\" style=\"vector-effect: non-scaling-stroke; opacity: 1; stroke-width: 0px; fill: rgb(99, 110, 250); fill-opacity: 1;\"/></g><g class=\"point\"><path d=\"M62.5,360V352.94H62.8V360Z\" style=\"vector-effect: non-scaling-stroke; opacity: 1; stroke-width: 0px; fill: rgb(99, 110, 250); fill-opacity: 1;\"/></g><g class=\"point\"><path d=\"M64.39,360V353.95H64.69V360Z\" style=\"vector-effect: non-scaling-stroke; opacity: 1; stroke-width: 0px; fill: rgb(99, 110, 250); fill-opacity: 1;\"/></g><g class=\"point\"><path d=\"M66.28,360V350.92H66.58V360Z\" style=\"vector-effect: non-scaling-stroke; opacity: 1; stroke-width: 0px; fill: rgb(99, 110, 250); fill-opacity: 1;\"/></g><g class=\"point\"><path d=\"M68.17,360V329.73H68.47V360Z\" style=\"vector-effect: non-scaling-stroke; opacity: 1; stroke-width: 0px; fill: rgb(99, 110, 250); fill-opacity: 1;\"/></g><g class=\"point\"><path d=\"M70.06,360V342.85H70.36V360Z\" style=\"vector-effect: non-scaling-stroke; opacity: 1; stroke-width: 0px; fill: rgb(99, 110, 250); fill-opacity: 1;\"/></g><g class=\"point\"><path d=\"M71.94,360V343.86H72.25V360Z\" style=\"vector-effect: non-scaling-stroke; opacity: 1; stroke-width: 0px; fill: rgb(99, 110, 250); fill-opacity: 1;\"/></g><g class=\"point\"><path d=\"M73.83,360V349.91H74.13V360Z\" style=\"vector-effect: non-scaling-stroke; opacity: 1; stroke-width: 0px; fill: rgb(99, 110, 250); fill-opacity: 1;\"/></g><g class=\"point\"><path d=\"M75.72,360V352.94H76.02V360Z\" style=\"vector-effect: non-scaling-stroke; opacity: 1; stroke-width: 0px; fill: rgb(99, 110, 250); fill-opacity: 1;\"/></g><g class=\"point\"><path d=\"M77.61,360V348.9H77.91V360Z\" style=\"vector-effect: non-scaling-stroke; opacity: 1; stroke-width: 0px; fill: rgb(99, 110, 250); fill-opacity: 1;\"/></g><g class=\"point\"><path d=\"M79.5,360V354.96H79.8V360Z\" style=\"vector-effect: non-scaling-stroke; opacity: 1; stroke-width: 0px; fill: rgb(99, 110, 250); fill-opacity: 1;\"/></g><g class=\"point\"><path d=\"M81.39,360V352.94H81.69V360Z\" style=\"vector-effect: non-scaling-stroke; opacity: 1; stroke-width: 0px; fill: rgb(99, 110, 250); fill-opacity: 1;\"/></g><g class=\"point\"><path d=\"M83.27,360V344.87H83.58V360Z\" style=\"vector-effect: non-scaling-stroke; opacity: 1; stroke-width: 0px; fill: rgb(99, 110, 250); fill-opacity: 1;\"/></g><g class=\"point\"><path d=\"M85.16,360V346.88H85.46V360Z\" style=\"vector-effect: non-scaling-stroke; opacity: 1; stroke-width: 0px; fill: rgb(99, 110, 250); fill-opacity: 1;\"/></g><g class=\"point\"><path d=\"M87.05,360V347.89H87.35V360Z\" style=\"vector-effect: non-scaling-stroke; opacity: 1; stroke-width: 0px; fill: rgb(99, 110, 250); fill-opacity: 1;\"/></g><g class=\"point\"><path d=\"M88.94,360V350.92H89.24V360Z\" style=\"vector-effect: non-scaling-stroke; opacity: 1; stroke-width: 0px; fill: rgb(99, 110, 250); fill-opacity: 1;\"/></g><g class=\"point\"><path d=\"M90.83,360V350.92H91.13V360Z\" style=\"vector-effect: non-scaling-stroke; opacity: 1; stroke-width: 0px; fill: rgb(99, 110, 250); fill-opacity: 1;\"/></g><g class=\"point\"><path d=\"M92.72,360V347.89H93.02V360Z\" style=\"vector-effect: non-scaling-stroke; opacity: 1; stroke-width: 0px; fill: rgb(99, 110, 250); fill-opacity: 1;\"/></g><g class=\"point\"><path d=\"M94.6,360V343.86H94.91V360Z\" style=\"vector-effect: non-scaling-stroke; opacity: 1; stroke-width: 0px; fill: rgb(99, 110, 250); fill-opacity: 1;\"/></g><g class=\"point\"><path d=\"M96.49,360V348.9H96.79V360Z\" style=\"vector-effect: non-scaling-stroke; opacity: 1; stroke-width: 0px; fill: rgb(99, 110, 250); fill-opacity: 1;\"/></g><g class=\"point\"><path d=\"M98.38,360V343.86H98.68V360Z\" style=\"vector-effect: non-scaling-stroke; opacity: 1; stroke-width: 0px; fill: rgb(99, 110, 250); fill-opacity: 1;\"/></g><g class=\"point\"><path d=\"M100.27,360V341.84H100.57V360Z\" style=\"vector-effect: non-scaling-stroke; opacity: 1; stroke-width: 0px; fill: rgb(99, 110, 250); fill-opacity: 1;\"/></g><g class=\"point\"><path d=\"M102.16,360V349.91H102.46V360Z\" style=\"vector-effect: non-scaling-stroke; opacity: 1; stroke-width: 0px; fill: rgb(99, 110, 250); fill-opacity: 1;\"/></g><g class=\"point\"><path d=\"M104.05,360V350.92H104.35V360Z\" style=\"vector-effect: non-scaling-stroke; opacity: 1; stroke-width: 0px; fill: rgb(99, 110, 250); fill-opacity: 1;\"/></g><g class=\"point\"><path d=\"M105.93,360V347.89H106.24V360Z\" style=\"vector-effect: non-scaling-stroke; opacity: 1; stroke-width: 0px; fill: rgb(99, 110, 250); fill-opacity: 1;\"/></g><g class=\"point\"><path d=\"M107.82,360V345.88H108.12V360Z\" style=\"vector-effect: non-scaling-stroke; opacity: 1; stroke-width: 0px; fill: rgb(99, 110, 250); fill-opacity: 1;\"/></g><g class=\"point\"><path d=\"M109.71,360V342.85H110.01V360Z\" style=\"vector-effect: non-scaling-stroke; opacity: 1; stroke-width: 0px; fill: rgb(99, 110, 250); fill-opacity: 1;\"/></g><g class=\"point\"><path d=\"M111.6,360V351.93H111.9V360Z\" style=\"vector-effect: non-scaling-stroke; opacity: 1; stroke-width: 0px; fill: rgb(99, 110, 250); fill-opacity: 1;\"/></g><g class=\"point\"><path d=\"M113.49,360V344.87H113.79V360Z\" style=\"vector-effect: non-scaling-stroke; opacity: 1; stroke-width: 0px; fill: rgb(99, 110, 250); fill-opacity: 1;\"/></g><g class=\"point\"><path d=\"M115.38,360V342.85H115.68V360Z\" style=\"vector-effect: non-scaling-stroke; opacity: 1; stroke-width: 0px; fill: rgb(99, 110, 250); fill-opacity: 1;\"/></g><g class=\"point\"><path d=\"M117.26,360V349.91H117.57V360Z\" style=\"vector-effect: non-scaling-stroke; opacity: 1; stroke-width: 0px; fill: rgb(99, 110, 250); fill-opacity: 1;\"/></g><g class=\"point\"><path d=\"M119.15,360V342.85H119.45V360Z\" style=\"vector-effect: non-scaling-stroke; opacity: 1; stroke-width: 0px; fill: rgb(99, 110, 250); fill-opacity: 1;\"/></g><g class=\"point\"><path d=\"M121.04,360V345.88H121.34V360Z\" style=\"vector-effect: non-scaling-stroke; opacity: 1; stroke-width: 0px; fill: rgb(99, 110, 250); fill-opacity: 1;\"/></g><g class=\"point\"><path d=\"M122.93,360V337.81H123.23V360Z\" style=\"vector-effect: non-scaling-stroke; opacity: 1; stroke-width: 0px; fill: rgb(99, 110, 250); fill-opacity: 1;\"/></g><g class=\"point\"><path d=\"M124.82,360V346.88H125.12V360Z\" style=\"vector-effect: non-scaling-stroke; opacity: 1; stroke-width: 0px; fill: rgb(99, 110, 250); fill-opacity: 1;\"/></g><g class=\"point\"><path d=\"M126.7,360V349.91H127.01V360Z\" style=\"vector-effect: non-scaling-stroke; opacity: 1; stroke-width: 0px; fill: rgb(99, 110, 250); fill-opacity: 1;\"/></g><g class=\"point\"><path d=\"M128.59,360V345.88H128.9V360Z\" style=\"vector-effect: non-scaling-stroke; opacity: 1; stroke-width: 0px; fill: rgb(99, 110, 250); fill-opacity: 1;\"/></g><g class=\"point\"><path d=\"M130.48,360V348.9H130.78V360Z\" style=\"vector-effect: non-scaling-stroke; opacity: 1; stroke-width: 0px; fill: rgb(99, 110, 250); fill-opacity: 1;\"/></g><g class=\"point\"><path d=\"M132.37,360V350.92H132.67V360Z\" style=\"vector-effect: non-scaling-stroke; opacity: 1; stroke-width: 0px; fill: rgb(99, 110, 250); fill-opacity: 1;\"/></g><g class=\"point\"><path d=\"M134.26,360V346.88H134.56V360Z\" style=\"vector-effect: non-scaling-stroke; opacity: 1; stroke-width: 0px; fill: rgb(99, 110, 250); fill-opacity: 1;\"/></g><g class=\"point\"><path d=\"M136.15,360V351.93H136.45V360Z\" style=\"vector-effect: non-scaling-stroke; opacity: 1; stroke-width: 0px; fill: rgb(99, 110, 250); fill-opacity: 1;\"/></g><g class=\"point\"><path d=\"M138.03,360V351.93H138.34V360Z\" style=\"vector-effect: non-scaling-stroke; opacity: 1; stroke-width: 0px; fill: rgb(99, 110, 250); fill-opacity: 1;\"/></g><g class=\"point\"><path d=\"M139.92,360V348.9H140.23V360Z\" style=\"vector-effect: non-scaling-stroke; opacity: 1; stroke-width: 0px; fill: rgb(99, 110, 250); fill-opacity: 1;\"/></g><g class=\"point\"><path d=\"M141.81,360V350.92H142.11V360Z\" style=\"vector-effect: non-scaling-stroke; opacity: 1; stroke-width: 0px; fill: rgb(99, 110, 250); fill-opacity: 1;\"/></g><g class=\"point\"><path d=\"M143.7,360V348.9H144V360Z\" style=\"vector-effect: non-scaling-stroke; opacity: 1; stroke-width: 0px; fill: rgb(99, 110, 250); fill-opacity: 1;\"/></g><g class=\"point\"><path d=\"M145.59,360V352.94H145.89V360Z\" style=\"vector-effect: non-scaling-stroke; opacity: 1; stroke-width: 0px; fill: rgb(99, 110, 250); fill-opacity: 1;\"/></g><g class=\"point\"><path d=\"M147.48,360V355.96H147.78V360Z\" style=\"vector-effect: non-scaling-stroke; opacity: 1; stroke-width: 0px; fill: rgb(99, 110, 250); fill-opacity: 1;\"/></g><g class=\"point\"><path d=\"M149.36,360V351.93H149.67V360Z\" style=\"vector-effect: non-scaling-stroke; opacity: 1; stroke-width: 0px; fill: rgb(99, 110, 250); fill-opacity: 1;\"/></g><g class=\"point\"><path d=\"M151.25,360V264.16H151.55V360Z\" style=\"vector-effect: non-scaling-stroke; opacity: 1; stroke-width: 0px; fill: rgb(99, 110, 250); fill-opacity: 1;\"/></g><g class=\"point\"><path d=\"M153.14,360V285.35H153.44V360Z\" style=\"vector-effect: non-scaling-stroke; opacity: 1; stroke-width: 0px; fill: rgb(99, 110, 250); fill-opacity: 1;\"/></g><g class=\"point\"><path d=\"M155.03,360V311.58H155.33V360Z\" style=\"vector-effect: non-scaling-stroke; opacity: 1; stroke-width: 0px; fill: rgb(99, 110, 250); fill-opacity: 1;\"/></g><g class=\"point\"><path d=\"M156.92,360V278.28H157.22V360Z\" style=\"vector-effect: non-scaling-stroke; opacity: 1; stroke-width: 0px; fill: rgb(99, 110, 250); fill-opacity: 1;\"/></g><g class=\"point\"><path d=\"M158.81,360V294.42H159.11V360Z\" style=\"vector-effect: non-scaling-stroke; opacity: 1; stroke-width: 0px; fill: rgb(99, 110, 250); fill-opacity: 1;\"/></g><g class=\"point\"><path d=\"M160.69,360V285.35H161V360Z\" style=\"vector-effect: non-scaling-stroke; opacity: 1; stroke-width: 0px; fill: rgb(99, 110, 250); fill-opacity: 1;\"/></g><g class=\"point\"><path d=\"M162.58,360V332.76H162.88V360Z\" style=\"vector-effect: non-scaling-stroke; opacity: 1; stroke-width: 0px; fill: rgb(99, 110, 250); fill-opacity: 1;\"/></g><g class=\"point\"><path d=\"M164.47,360V321.66H164.77V360Z\" style=\"vector-effect: non-scaling-stroke; opacity: 1; stroke-width: 0px; fill: rgb(99, 110, 250); fill-opacity: 1;\"/></g><g class=\"point\"><path d=\"M166.36,360V336.8H166.66V360Z\" style=\"vector-effect: non-scaling-stroke; opacity: 1; stroke-width: 0px; fill: rgb(99, 110, 250); fill-opacity: 1;\"/></g><g class=\"point\"><path d=\"M168.25,360V348.9H168.55V360Z\" style=\"vector-effect: non-scaling-stroke; opacity: 1; stroke-width: 0px; fill: rgb(99, 110, 250); fill-opacity: 1;\"/></g><g class=\"point\"><path d=\"M170.14,360V344.87H170.44V360Z\" style=\"vector-effect: non-scaling-stroke; opacity: 1; stroke-width: 0px; fill: rgb(99, 110, 250); fill-opacity: 1;\"/></g><g class=\"point\"><path d=\"M172.02,360V354.96H172.33V360Z\" style=\"vector-effect: non-scaling-stroke; opacity: 1; stroke-width: 0px; fill: rgb(99, 110, 250); fill-opacity: 1;\"/></g><g class=\"point\"><path d=\"M173.91,360V336.8H174.21V360Z\" style=\"vector-effect: non-scaling-stroke; opacity: 1; stroke-width: 0px; fill: rgb(99, 110, 250); fill-opacity: 1;\"/></g><g class=\"point\"><path d=\"M175.8,360V328.73H176.1V360Z\" style=\"vector-effect: non-scaling-stroke; opacity: 1; stroke-width: 0px; fill: rgb(99, 110, 250); fill-opacity: 1;\"/></g><g class=\"point\"><path d=\"M177.69,360V314.6H177.99V360Z\" style=\"vector-effect: non-scaling-stroke; opacity: 1; stroke-width: 0px; fill: rgb(99, 110, 250); fill-opacity: 1;\"/></g><g class=\"point\"><path d=\"M179.58,360V317.63H179.88V360Z\" style=\"vector-effect: non-scaling-stroke; opacity: 1; stroke-width: 0px; fill: rgb(99, 110, 250); fill-opacity: 1;\"/></g><g class=\"point\"><path d=\"M181.47,360V331.75H181.77V360Z\" style=\"vector-effect: non-scaling-stroke; opacity: 1; stroke-width: 0px; fill: rgb(99, 110, 250); fill-opacity: 1;\"/></g><g class=\"point\"><path d=\"M183.35,360V322.67H183.66V360Z\" style=\"vector-effect: non-scaling-stroke; opacity: 1; stroke-width: 0px; fill: rgb(99, 110, 250); fill-opacity: 1;\"/></g><g class=\"point\"><path d=\"M185.24,360V317.63H185.54V360Z\" style=\"vector-effect: non-scaling-stroke; opacity: 1; stroke-width: 0px; fill: rgb(99, 110, 250); fill-opacity: 1;\"/></g><g class=\"point\"><path d=\"M187.13,360V318.64H187.43V360Z\" style=\"vector-effect: non-scaling-stroke; opacity: 1; stroke-width: 0px; fill: rgb(99, 110, 250); fill-opacity: 1;\"/></g><g class=\"point\"><path d=\"M189.02,360V302.5H189.32V360Z\" style=\"vector-effect: non-scaling-stroke; opacity: 1; stroke-width: 0px; fill: rgb(99, 110, 250); fill-opacity: 1;\"/></g><g class=\"point\"><path d=\"M190.91,360V313.59H191.21V360Z\" style=\"vector-effect: non-scaling-stroke; opacity: 1; stroke-width: 0px; fill: rgb(99, 110, 250); fill-opacity: 1;\"/></g><g class=\"point\"><path d=\"M192.8,360V310.57H193.1V360Z\" style=\"vector-effect: non-scaling-stroke; opacity: 1; stroke-width: 0px; fill: rgb(99, 110, 250); fill-opacity: 1;\"/></g><g class=\"point\"><path d=\"M194.68,360V274.25H194.99V360Z\" style=\"vector-effect: non-scaling-stroke; opacity: 1; stroke-width: 0px; fill: rgb(99, 110, 250); fill-opacity: 1;\"/></g><g class=\"point\"><path d=\"M196.57,360V296.44H196.87V360Z\" style=\"vector-effect: non-scaling-stroke; opacity: 1; stroke-width: 0px; fill: rgb(99, 110, 250); fill-opacity: 1;\"/></g><g class=\"point\"><path d=\"M198.46,360V284.34H198.76V360Z\" style=\"vector-effect: non-scaling-stroke; opacity: 1; stroke-width: 0px; fill: rgb(99, 110, 250); fill-opacity: 1;\"/></g><g class=\"point\"><path d=\"M200.35,360V219.77H200.65V360Z\" style=\"vector-effect: non-scaling-stroke; opacity: 1; stroke-width: 0px; fill: rgb(99, 110, 250); fill-opacity: 1;\"/></g><g class=\"point\"><path d=\"M202.24,360V228.85H202.54V360Z\" style=\"vector-effect: non-scaling-stroke; opacity: 1; stroke-width: 0px; fill: rgb(99, 110, 250); fill-opacity: 1;\"/></g><g class=\"point\"><path d=\"M204.13,360V251.04H204.43V360Z\" style=\"vector-effect: non-scaling-stroke; opacity: 1; stroke-width: 0px; fill: rgb(99, 110, 250); fill-opacity: 1;\"/></g><g class=\"point\"><path d=\"M206.01,360V204.64H206.32V360Z\" style=\"vector-effect: non-scaling-stroke; opacity: 1; stroke-width: 0px; fill: rgb(99, 110, 250); fill-opacity: 1;\"/></g><g class=\"point\"><path d=\"M207.9,360V201.61H208.2V360Z\" style=\"vector-effect: non-scaling-stroke; opacity: 1; stroke-width: 0px; fill: rgb(99, 110, 250); fill-opacity: 1;\"/></g><g class=\"point\"><path d=\"M209.79,360V205.65H210.09V360Z\" style=\"vector-effect: non-scaling-stroke; opacity: 1; stroke-width: 0px; fill: rgb(99, 110, 250); fill-opacity: 1;\"/></g><g class=\"point\"><path d=\"M211.68,360V196.57H211.98V360Z\" style=\"vector-effect: non-scaling-stroke; opacity: 1; stroke-width: 0px; fill: rgb(99, 110, 250); fill-opacity: 1;\"/></g><g class=\"point\"><path d=\"M213.57,360V199.59H213.87V360Z\" style=\"vector-effect: non-scaling-stroke; opacity: 1; stroke-width: 0px; fill: rgb(99, 110, 250); fill-opacity: 1;\"/></g><g class=\"point\"><path d=\"M215.45,360V172.35H215.76V360Z\" style=\"vector-effect: non-scaling-stroke; opacity: 1; stroke-width: 0px; fill: rgb(99, 110, 250); fill-opacity: 1;\"/></g><g class=\"point\"><path d=\"M217.34,360V74.5H217.65V360Z\" style=\"vector-effect: non-scaling-stroke; opacity: 1; stroke-width: 0px; fill: rgb(99, 110, 250); fill-opacity: 1;\"/></g><g class=\"point\"><path d=\"M219.23,360V129.98H219.53V360Z\" style=\"vector-effect: non-scaling-stroke; opacity: 1; stroke-width: 0px; fill: rgb(99, 110, 250); fill-opacity: 1;\"/></g><g class=\"point\"><path d=\"M221.12,360V85.59H221.42V360Z\" style=\"vector-effect: non-scaling-stroke; opacity: 1; stroke-width: 0px; fill: rgb(99, 110, 250); fill-opacity: 1;\"/></g><g class=\"point\"><path d=\"M223.01,360V130.99H223.31V360Z\" style=\"vector-effect: non-scaling-stroke; opacity: 1; stroke-width: 0px; fill: rgb(99, 110, 250); fill-opacity: 1;\"/></g><g class=\"point\"><path d=\"M224.9,360V92.65H225.2V360Z\" style=\"vector-effect: non-scaling-stroke; opacity: 1; stroke-width: 0px; fill: rgb(99, 110, 250); fill-opacity: 1;\"/></g><g class=\"point\"><path d=\"M226.78,360V134.02H227.09V360Z\" style=\"vector-effect: non-scaling-stroke; opacity: 1; stroke-width: 0px; fill: rgb(99, 110, 250); fill-opacity: 1;\"/></g><g class=\"point\"><path d=\"M228.67,360V115.86H228.98V360Z\" style=\"vector-effect: non-scaling-stroke; opacity: 1; stroke-width: 0px; fill: rgb(99, 110, 250); fill-opacity: 1;\"/></g><g class=\"point\"><path d=\"M230.56,360V93.66H230.86V360Z\" style=\"vector-effect: non-scaling-stroke; opacity: 1; stroke-width: 0px; fill: rgb(99, 110, 250); fill-opacity: 1;\"/></g><g class=\"point\"><path d=\"M232.45,360V59.36H232.75V360Z\" style=\"vector-effect: non-scaling-stroke; opacity: 1; stroke-width: 0px; fill: rgb(99, 110, 250); fill-opacity: 1;\"/></g><g class=\"point\"><path d=\"M234.34,360V106.78H234.64V360Z\" style=\"vector-effect: non-scaling-stroke; opacity: 1; stroke-width: 0px; fill: rgb(99, 110, 250); fill-opacity: 1;\"/></g><g class=\"point\"><path d=\"M236.23,360V58.35H236.53V360Z\" style=\"vector-effect: non-scaling-stroke; opacity: 1; stroke-width: 0px; fill: rgb(99, 110, 250); fill-opacity: 1;\"/></g><g class=\"point\"><path d=\"M238.11,360V89.63H238.42V360Z\" style=\"vector-effect: non-scaling-stroke; opacity: 1; stroke-width: 0px; fill: rgb(99, 110, 250); fill-opacity: 1;\"/></g><g class=\"point\"><path d=\"M240,360V96.69H240.3V360Z\" style=\"vector-effect: non-scaling-stroke; opacity: 1; stroke-width: 0px; fill: rgb(99, 110, 250); fill-opacity: 1;\"/></g><g class=\"point\"><path d=\"M241.89,360V76.51H242.19V360Z\" style=\"vector-effect: non-scaling-stroke; opacity: 1; stroke-width: 0px; fill: rgb(99, 110, 250); fill-opacity: 1;\"/></g><g class=\"point\"><path d=\"M243.78,360V146.12H244.08V360Z\" style=\"vector-effect: non-scaling-stroke; opacity: 1; stroke-width: 0px; fill: rgb(99, 110, 250); fill-opacity: 1;\"/></g><g class=\"point\"><path d=\"M245.67,360V90.64H245.97V360Z\" style=\"vector-effect: non-scaling-stroke; opacity: 1; stroke-width: 0px; fill: rgb(99, 110, 250); fill-opacity: 1;\"/></g><g class=\"point\"><path d=\"M247.56,360V27.08H247.86V360Z\" style=\"vector-effect: non-scaling-stroke; opacity: 1; stroke-width: 0px; fill: rgb(99, 110, 250); fill-opacity: 1;\"/></g><g class=\"point\"><path d=\"M249.44,360V58.35H249.75V360Z\" style=\"vector-effect: non-scaling-stroke; opacity: 1; stroke-width: 0px; fill: rgb(99, 110, 250); fill-opacity: 1;\"/></g><g class=\"point\"><path d=\"M251.33,360V77.52H251.63V360Z\" style=\"vector-effect: non-scaling-stroke; opacity: 1; stroke-width: 0px; fill: rgb(99, 110, 250); fill-opacity: 1;\"/></g><g class=\"point\"><path d=\"M253.22,360V95.68H253.52V360Z\" style=\"vector-effect: non-scaling-stroke; opacity: 1; stroke-width: 0px; fill: rgb(99, 110, 250); fill-opacity: 1;\"/></g><g class=\"point\"><path d=\"M255.11,360V51.29H255.41V360Z\" style=\"vector-effect: non-scaling-stroke; opacity: 1; stroke-width: 0px; fill: rgb(99, 110, 250); fill-opacity: 1;\"/></g><g class=\"point\"><path d=\"M257,360V74.5H257.3V360Z\" style=\"vector-effect: non-scaling-stroke; opacity: 1; stroke-width: 0px; fill: rgb(99, 110, 250); fill-opacity: 1;\"/></g><g class=\"point\"><path d=\"M258.89,360V104.76H259.19V360Z\" style=\"vector-effect: non-scaling-stroke; opacity: 1; stroke-width: 0px; fill: rgb(99, 110, 250); fill-opacity: 1;\"/></g><g class=\"point\"><path d=\"M260.77,360V87.61H261.08V360Z\" style=\"vector-effect: non-scaling-stroke; opacity: 1; stroke-width: 0px; fill: rgb(99, 110, 250); fill-opacity: 1;\"/></g><g class=\"point\"><path d=\"M262.66,360V90.64H262.96V360Z\" style=\"vector-effect: non-scaling-stroke; opacity: 1; stroke-width: 0px; fill: rgb(99, 110, 250); fill-opacity: 1;\"/></g><g class=\"point\"><path d=\"M264.55,360V157.22H264.85V360Z\" style=\"vector-effect: non-scaling-stroke; opacity: 1; stroke-width: 0px; fill: rgb(99, 110, 250); fill-opacity: 1;\"/></g><g class=\"point\"><path d=\"M266.44,360V104.76H266.74V360Z\" style=\"vector-effect: non-scaling-stroke; opacity: 1; stroke-width: 0px; fill: rgb(99, 110, 250); fill-opacity: 1;\"/></g><g class=\"point\"><path d=\"M268.33,360V41.2H268.63V360Z\" style=\"vector-effect: non-scaling-stroke; opacity: 1; stroke-width: 0px; fill: rgb(99, 110, 250); fill-opacity: 1;\"/></g><g class=\"point\"><path d=\"M270.22,360V103.75H270.52V360Z\" style=\"vector-effect: non-scaling-stroke; opacity: 1; stroke-width: 0px; fill: rgb(99, 110, 250); fill-opacity: 1;\"/></g><g class=\"point\"><path d=\"M272.1,360V111.82H272.41V360Z\" style=\"vector-effect: non-scaling-stroke; opacity: 1; stroke-width: 0px; fill: rgb(99, 110, 250); fill-opacity: 1;\"/></g><g class=\"point\"><path d=\"M273.99,360V79.54H274.29V360Z\" style=\"vector-effect: non-scaling-stroke; opacity: 1; stroke-width: 0px; fill: rgb(99, 110, 250); fill-opacity: 1;\"/></g><g class=\"point\"><path d=\"M275.88,360V62.39H276.18V360Z\" style=\"vector-effect: non-scaling-stroke; opacity: 1; stroke-width: 0px; fill: rgb(99, 110, 250); fill-opacity: 1;\"/></g><g class=\"point\"><path d=\"M277.77,360V82.57H278.07V360Z\" style=\"vector-effect: non-scaling-stroke; opacity: 1; stroke-width: 0px; fill: rgb(99, 110, 250); fill-opacity: 1;\"/></g><g class=\"point\"><path d=\"M279.66,360V18H279.96V360Z\" style=\"vector-effect: non-scaling-stroke; opacity: 1; stroke-width: 0px; fill: rgb(99, 110, 250); fill-opacity: 1;\"/></g><g class=\"point\"><path d=\"M281.55,360V42.21H281.85V360Z\" style=\"vector-effect: non-scaling-stroke; opacity: 1; stroke-width: 0px; fill: rgb(99, 110, 250); fill-opacity: 1;\"/></g><g class=\"point\"><path d=\"M283.43,360V34.14H283.74V360Z\" style=\"vector-effect: non-scaling-stroke; opacity: 1; stroke-width: 0px; fill: rgb(99, 110, 250); fill-opacity: 1;\"/></g><g class=\"point\"><path d=\"M285.32,360V95.68H285.62V360Z\" style=\"vector-effect: non-scaling-stroke; opacity: 1; stroke-width: 0px; fill: rgb(99, 110, 250); fill-opacity: 1;\"/></g><g class=\"point\"><path d=\"M287.21,360V36.16H287.51V360Z\" style=\"vector-effect: non-scaling-stroke; opacity: 1; stroke-width: 0px; fill: rgb(99, 110, 250); fill-opacity: 1;\"/></g><g class=\"point\"><path d=\"M289.1,360V73.49H289.4V360Z\" style=\"vector-effect: non-scaling-stroke; opacity: 1; stroke-width: 0px; fill: rgb(99, 110, 250); fill-opacity: 1;\"/></g><g class=\"point\"><path d=\"M290.99,360V27.08H291.29V360Z\" style=\"vector-effect: non-scaling-stroke; opacity: 1; stroke-width: 0px; fill: rgb(99, 110, 250); fill-opacity: 1;\"/></g><g class=\"point\"><path d=\"M292.88,360V37.17H293.18V360Z\" style=\"vector-effect: non-scaling-stroke; opacity: 1; stroke-width: 0px; fill: rgb(99, 110, 250); fill-opacity: 1;\"/></g><g class=\"point\"><path d=\"M294.76,360V72.48H295.07V360Z\" style=\"vector-effect: non-scaling-stroke; opacity: 1; stroke-width: 0px; fill: rgb(99, 110, 250); fill-opacity: 1;\"/></g><g class=\"point\"><path d=\"M296.65,360V78.53H296.95V360Z\" style=\"vector-effect: non-scaling-stroke; opacity: 1; stroke-width: 0px; fill: rgb(99, 110, 250); fill-opacity: 1;\"/></g><g class=\"point\"><path d=\"M298.54,360V98.71H298.84V360Z\" style=\"vector-effect: non-scaling-stroke; opacity: 1; stroke-width: 0px; fill: rgb(99, 110, 250); fill-opacity: 1;\"/></g><g class=\"point\"><path d=\"M300.43,360V72.48H300.73V360Z\" style=\"vector-effect: non-scaling-stroke; opacity: 1; stroke-width: 0px; fill: rgb(99, 110, 250); fill-opacity: 1;\"/></g><g class=\"point\"><path d=\"M302.32,360V118.88H302.62V360Z\" style=\"vector-effect: non-scaling-stroke; opacity: 1; stroke-width: 0px; fill: rgb(99, 110, 250); fill-opacity: 1;\"/></g><g class=\"point\"><path d=\"M304.2,360V125.95H304.51V360Z\" style=\"vector-effect: non-scaling-stroke; opacity: 1; stroke-width: 0px; fill: rgb(99, 110, 250); fill-opacity: 1;\"/></g><g class=\"point\"><path d=\"M306.09,360V82.57H306.4V360Z\" style=\"vector-effect: non-scaling-stroke; opacity: 1; stroke-width: 0px; fill: rgb(99, 110, 250); fill-opacity: 1;\"/></g><g class=\"point\"><path d=\"M307.98,360V90.64H308.28V360Z\" style=\"vector-effect: non-scaling-stroke; opacity: 1; stroke-width: 0px; fill: rgb(99, 110, 250); fill-opacity: 1;\"/></g><g class=\"point\"><path d=\"M309.87,360V130.99H310.17V360Z\" style=\"vector-effect: non-scaling-stroke; opacity: 1; stroke-width: 0px; fill: rgb(99, 110, 250); fill-opacity: 1;\"/></g><g class=\"point\"><path d=\"M311.76,360V141.08H312.06V360Z\" style=\"vector-effect: non-scaling-stroke; opacity: 1; stroke-width: 0px; fill: rgb(99, 110, 250); fill-opacity: 1;\"/></g><g class=\"point\"><path d=\"M313.65,360V162.27H313.95V360Z\" style=\"vector-effect: non-scaling-stroke; opacity: 1; stroke-width: 0px; fill: rgb(99, 110, 250); fill-opacity: 1;\"/></g><g class=\"point\"><path d=\"M315.53,360V175.38H315.84V360Z\" style=\"vector-effect: non-scaling-stroke; opacity: 1; stroke-width: 0px; fill: rgb(99, 110, 250); fill-opacity: 1;\"/></g><g class=\"point\"><path d=\"M317.42,360V90.64H317.73V360Z\" style=\"vector-effect: non-scaling-stroke; opacity: 1; stroke-width: 0px; fill: rgb(99, 110, 250); fill-opacity: 1;\"/></g><g class=\"point\"><path d=\"M319.31,360V169.33H319.61V360Z\" style=\"vector-effect: non-scaling-stroke; opacity: 1; stroke-width: 0px; fill: rgb(99, 110, 250); fill-opacity: 1;\"/></g><g class=\"point\"><path d=\"M321.2,360V158.23H321.5V360Z\" style=\"vector-effect: non-scaling-stroke; opacity: 1; stroke-width: 0px; fill: rgb(99, 110, 250); fill-opacity: 1;\"/></g><g class=\"point\"><path d=\"M323.09,360V200.6H323.39V360Z\" style=\"vector-effect: non-scaling-stroke; opacity: 1; stroke-width: 0px; fill: rgb(99, 110, 250); fill-opacity: 1;\"/></g><g class=\"point\"><path d=\"M324.98,360V199.59H325.28V360Z\" style=\"vector-effect: non-scaling-stroke; opacity: 1; stroke-width: 0px; fill: rgb(99, 110, 250); fill-opacity: 1;\"/></g><g class=\"point\"><path d=\"M326.86,360V258.11H327.17V360Z\" style=\"vector-effect: non-scaling-stroke; opacity: 1; stroke-width: 0px; fill: rgb(99, 110, 250); fill-opacity: 1;\"/></g><g class=\"point\"><path d=\"M328.75,360V291.4H329.05V360Z\" style=\"vector-effect: non-scaling-stroke; opacity: 1; stroke-width: 0px; fill: rgb(99, 110, 250); fill-opacity: 1;\"/></g><g class=\"point\"><path d=\"M330.64,360V277.27H330.94V360Z\" style=\"vector-effect: non-scaling-stroke; opacity: 1; stroke-width: 0px; fill: rgb(99, 110, 250); fill-opacity: 1;\"/></g><g class=\"point\"><path d=\"M332.53,360V264.16H332.83V360Z\" style=\"vector-effect: non-scaling-stroke; opacity: 1; stroke-width: 0px; fill: rgb(99, 110, 250); fill-opacity: 1;\"/></g><g class=\"point\"><path d=\"M334.42,360V290.39H334.72V360Z\" style=\"vector-effect: non-scaling-stroke; opacity: 1; stroke-width: 0px; fill: rgb(99, 110, 250); fill-opacity: 1;\"/></g><g class=\"point\"><path d=\"M336.31,360V329.73H336.61V360Z\" style=\"vector-effect: non-scaling-stroke; opacity: 1; stroke-width: 0px; fill: rgb(99, 110, 250); fill-opacity: 1;\"/></g><g class=\"point\"><path d=\"M338.19,360V332.76H338.5V360Z\" style=\"vector-effect: non-scaling-stroke; opacity: 1; stroke-width: 0px; fill: rgb(99, 110, 250); fill-opacity: 1;\"/></g><g class=\"point\"><path d=\"M340.08,360V312.58H340.38V360Z\" style=\"vector-effect: non-scaling-stroke; opacity: 1; stroke-width: 0px; fill: rgb(99, 110, 250); fill-opacity: 1;\"/></g><g class=\"point\"><path d=\"M341.97,360V323.68H342.27V360Z\" style=\"vector-effect: non-scaling-stroke; opacity: 1; stroke-width: 0px; fill: rgb(99, 110, 250); fill-opacity: 1;\"/></g><g class=\"point\"><path d=\"M343.86,360V322.67H344.16V360Z\" style=\"vector-effect: non-scaling-stroke; opacity: 1; stroke-width: 0px; fill: rgb(99, 110, 250); fill-opacity: 1;\"/></g><g class=\"point\"><path d=\"M345.75,360V334.78H346.05V360Z\" style=\"vector-effect: non-scaling-stroke; opacity: 1; stroke-width: 0px; fill: rgb(99, 110, 250); fill-opacity: 1;\"/></g><g class=\"point\"><path d=\"M347.64,360V314.6H347.94V360Z\" style=\"vector-effect: non-scaling-stroke; opacity: 1; stroke-width: 0px; fill: rgb(99, 110, 250); fill-opacity: 1;\"/></g><g class=\"point\"><path d=\"M349.52,360V312.58H349.83V360Z\" style=\"vector-effect: non-scaling-stroke; opacity: 1; stroke-width: 0px; fill: rgb(99, 110, 250); fill-opacity: 1;\"/></g><g class=\"point\"><path d=\"M351.41,360V347.89H351.71V360Z\" style=\"vector-effect: non-scaling-stroke; opacity: 1; stroke-width: 0px; fill: rgb(99, 110, 250); fill-opacity: 1;\"/></g><g class=\"point\"><path d=\"M353.3,360V356.97H353.6V360Z\" style=\"vector-effect: non-scaling-stroke; opacity: 1; stroke-width: 0px; fill: rgb(99, 110, 250); fill-opacity: 1;\"/></g></g></g><g class=\"trace bars\" style=\"opacity: 1;\"><g class=\"points\"><g class=\"point\"><path d=\"M0.49,360V358.99H0.79V360Z\" style=\"vector-effect: non-scaling-stroke; opacity: 1; stroke-width: 0px; fill: rgb(239, 85, 59); fill-opacity: 1;\"/></g><g class=\"point\"><path d=\"M0,0Z\" style=\"vector-effect: non-scaling-stroke; opacity: 1; stroke-width: 0px; fill: rgb(239, 85, 59); fill-opacity: 1;\"/></g><g class=\"point\"><path d=\"M0,0Z\" style=\"vector-effect: non-scaling-stroke; opacity: 1; stroke-width: 0px; fill: rgb(239, 85, 59); fill-opacity: 1;\"/></g><g class=\"point\"><path d=\"M0,0Z\" style=\"vector-effect: non-scaling-stroke; opacity: 1; stroke-width: 0px; fill: rgb(239, 85, 59); fill-opacity: 1;\"/></g><g class=\"point\"><path d=\"M0,0Z\" style=\"vector-effect: non-scaling-stroke; opacity: 1; stroke-width: 0px; fill: rgb(239, 85, 59); fill-opacity: 1;\"/></g><g class=\"point\"><path d=\"M0,0Z\" style=\"vector-effect: non-scaling-stroke; opacity: 1; stroke-width: 0px; fill: rgb(239, 85, 59); fill-opacity: 1;\"/></g><g class=\"point\"><path d=\"M0,0Z\" style=\"vector-effect: non-scaling-stroke; opacity: 1; stroke-width: 0px; fill: rgb(239, 85, 59); fill-opacity: 1;\"/></g><g class=\"point\"><path d=\"M0,0Z\" style=\"vector-effect: non-scaling-stroke; opacity: 1; stroke-width: 0px; fill: rgb(239, 85, 59); fill-opacity: 1;\"/></g><g class=\"point\"><path d=\"M15.6,360V358.99H15.9V360Z\" style=\"vector-effect: non-scaling-stroke; opacity: 1; stroke-width: 0px; fill: rgb(239, 85, 59); fill-opacity: 1;\"/></g><g class=\"point\"><path d=\"M17.49,360V358.99H17.79V360Z\" style=\"vector-effect: non-scaling-stroke; opacity: 1; stroke-width: 0px; fill: rgb(239, 85, 59); fill-opacity: 1;\"/></g><g class=\"point\"><path d=\"M19.37,360V358.99H19.68V360Z\" style=\"vector-effect: non-scaling-stroke; opacity: 1; stroke-width: 0px; fill: rgb(239, 85, 59); fill-opacity: 1;\"/></g><g class=\"point\"><path d=\"M0,0Z\" style=\"vector-effect: non-scaling-stroke; opacity: 1; stroke-width: 0px; fill: rgb(239, 85, 59); fill-opacity: 1;\"/></g><g class=\"point\"><path d=\"M23.15,360V358.99H23.45V360Z\" style=\"vector-effect: non-scaling-stroke; opacity: 1; stroke-width: 0px; fill: rgb(239, 85, 59); fill-opacity: 1;\"/></g><g class=\"point\"><path d=\"M0,0Z\" style=\"vector-effect: non-scaling-stroke; opacity: 1; stroke-width: 0px; fill: rgb(239, 85, 59); fill-opacity: 1;\"/></g><g class=\"point\"><path d=\"M0,0Z\" style=\"vector-effect: non-scaling-stroke; opacity: 1; stroke-width: 0px; fill: rgb(239, 85, 59); fill-opacity: 1;\"/></g><g class=\"point\"><path d=\"M0,0Z\" style=\"vector-effect: non-scaling-stroke; opacity: 1; stroke-width: 0px; fill: rgb(239, 85, 59); fill-opacity: 1;\"/></g><g class=\"point\"><path d=\"M0,0Z\" style=\"vector-effect: non-scaling-stroke; opacity: 1; stroke-width: 0px; fill: rgb(239, 85, 59); fill-opacity: 1;\"/></g><g class=\"point\"><path d=\"M32.59,360V358.99H32.89V360Z\" style=\"vector-effect: non-scaling-stroke; opacity: 1; stroke-width: 0px; fill: rgb(239, 85, 59); fill-opacity: 1;\"/></g><g class=\"point\"><path d=\"M0,0Z\" style=\"vector-effect: non-scaling-stroke; opacity: 1; stroke-width: 0px; fill: rgb(239, 85, 59); fill-opacity: 1;\"/></g><g class=\"point\"><path d=\"M0,0Z\" style=\"vector-effect: non-scaling-stroke; opacity: 1; stroke-width: 0px; fill: rgb(239, 85, 59); fill-opacity: 1;\"/></g><g class=\"point\"><path d=\"M38.26,360V357.98H38.56V360Z\" style=\"vector-effect: non-scaling-stroke; opacity: 1; stroke-width: 0px; fill: rgb(239, 85, 59); fill-opacity: 1;\"/></g><g class=\"point\"><path d=\"M40.15,360V357.98H40.45V360Z\" style=\"vector-effect: non-scaling-stroke; opacity: 1; stroke-width: 0px; fill: rgb(239, 85, 59); fill-opacity: 1;\"/></g><g class=\"point\"><path d=\"M42.03,360V358.99H42.34V360Z\" style=\"vector-effect: non-scaling-stroke; opacity: 1; stroke-width: 0px; fill: rgb(239, 85, 59); fill-opacity: 1;\"/></g><g class=\"point\"><path d=\"M0,0Z\" style=\"vector-effect: non-scaling-stroke; opacity: 1; stroke-width: 0px; fill: rgb(239, 85, 59); fill-opacity: 1;\"/></g><g class=\"point\"><path d=\"M0,0Z\" style=\"vector-effect: non-scaling-stroke; opacity: 1; stroke-width: 0px; fill: rgb(239, 85, 59); fill-opacity: 1;\"/></g><g class=\"point\"><path d=\"M0,0Z\" style=\"vector-effect: non-scaling-stroke; opacity: 1; stroke-width: 0px; fill: rgb(239, 85, 59); fill-opacity: 1;\"/></g><g class=\"point\"><path d=\"M49.59,360V358.99H49.89V360Z\" style=\"vector-effect: non-scaling-stroke; opacity: 1; stroke-width: 0px; fill: rgb(239, 85, 59); fill-opacity: 1;\"/></g><g class=\"point\"><path d=\"M0,0Z\" style=\"vector-effect: non-scaling-stroke; opacity: 1; stroke-width: 0px; fill: rgb(239, 85, 59); fill-opacity: 1;\"/></g><g class=\"point\"><path d=\"M53.36,360V356.97H53.67V360Z\" style=\"vector-effect: non-scaling-stroke; opacity: 1; stroke-width: 0px; fill: rgb(239, 85, 59); fill-opacity: 1;\"/></g><g class=\"point\"><path d=\"M0,0Z\" style=\"vector-effect: non-scaling-stroke; opacity: 1; stroke-width: 0px; fill: rgb(239, 85, 59); fill-opacity: 1;\"/></g><g class=\"point\"><path d=\"M0,0Z\" style=\"vector-effect: non-scaling-stroke; opacity: 1; stroke-width: 0px; fill: rgb(239, 85, 59); fill-opacity: 1;\"/></g><g class=\"point\"><path d=\"M59.03,360V357.98H59.33V360Z\" style=\"vector-effect: non-scaling-stroke; opacity: 1; stroke-width: 0px; fill: rgb(239, 85, 59); fill-opacity: 1;\"/></g><g class=\"point\"><path d=\"M60.92,360V356.97H61.22V360Z\" style=\"vector-effect: non-scaling-stroke; opacity: 1; stroke-width: 0px; fill: rgb(239, 85, 59); fill-opacity: 1;\"/></g><g class=\"point\"><path d=\"M62.8,360V357.98H63.11V360Z\" style=\"vector-effect: non-scaling-stroke; opacity: 1; stroke-width: 0px; fill: rgb(239, 85, 59); fill-opacity: 1;\"/></g><g class=\"point\"><path d=\"M64.69,360V356.97H65V360Z\" style=\"vector-effect: non-scaling-stroke; opacity: 1; stroke-width: 0px; fill: rgb(239, 85, 59); fill-opacity: 1;\"/></g><g class=\"point\"><path d=\"M66.58,360V357.98H66.88V360Z\" style=\"vector-effect: non-scaling-stroke; opacity: 1; stroke-width: 0px; fill: rgb(239, 85, 59); fill-opacity: 1;\"/></g><g class=\"point\"><path d=\"M68.47,360V357.98H68.77V360Z\" style=\"vector-effect: non-scaling-stroke; opacity: 1; stroke-width: 0px; fill: rgb(239, 85, 59); fill-opacity: 1;\"/></g><g class=\"point\"><path d=\"M0,0Z\" style=\"vector-effect: non-scaling-stroke; opacity: 1; stroke-width: 0px; fill: rgb(239, 85, 59); fill-opacity: 1;\"/></g><g class=\"point\"><path d=\"M72.25,360V357.98H72.55V360Z\" style=\"vector-effect: non-scaling-stroke; opacity: 1; stroke-width: 0px; fill: rgb(239, 85, 59); fill-opacity: 1;\"/></g><g class=\"point\"><path d=\"M0,0Z\" style=\"vector-effect: non-scaling-stroke; opacity: 1; stroke-width: 0px; fill: rgb(239, 85, 59); fill-opacity: 1;\"/></g><g class=\"point\"><path d=\"M76.02,360V356.97H76.32V360Z\" style=\"vector-effect: non-scaling-stroke; opacity: 1; stroke-width: 0px; fill: rgb(239, 85, 59); fill-opacity: 1;\"/></g><g class=\"point\"><path d=\"M77.91,360V354.96H78.21V360Z\" style=\"vector-effect: non-scaling-stroke; opacity: 1; stroke-width: 0px; fill: rgb(239, 85, 59); fill-opacity: 1;\"/></g><g class=\"point\"><path d=\"M0,0Z\" style=\"vector-effect: non-scaling-stroke; opacity: 1; stroke-width: 0px; fill: rgb(239, 85, 59); fill-opacity: 1;\"/></g><g class=\"point\"><path d=\"M81.69,360V358.99H81.99V360Z\" style=\"vector-effect: non-scaling-stroke; opacity: 1; stroke-width: 0px; fill: rgb(239, 85, 59); fill-opacity: 1;\"/></g><g class=\"point\"><path d=\"M83.58,360V356.97H83.88V360Z\" style=\"vector-effect: non-scaling-stroke; opacity: 1; stroke-width: 0px; fill: rgb(239, 85, 59); fill-opacity: 1;\"/></g><g class=\"point\"><path d=\"M85.46,360V358.99H85.77V360Z\" style=\"vector-effect: non-scaling-stroke; opacity: 1; stroke-width: 0px; fill: rgb(239, 85, 59); fill-opacity: 1;\"/></g><g class=\"point\"><path d=\"M87.35,360V358.99H87.65V360Z\" style=\"vector-effect: non-scaling-stroke; opacity: 1; stroke-width: 0px; fill: rgb(239, 85, 59); fill-opacity: 1;\"/></g><g class=\"point\"><path d=\"M89.24,360V357.98H89.54V360Z\" style=\"vector-effect: non-scaling-stroke; opacity: 1; stroke-width: 0px; fill: rgb(239, 85, 59); fill-opacity: 1;\"/></g><g class=\"point\"><path d=\"M91.13,360V351.93H91.43V360Z\" style=\"vector-effect: non-scaling-stroke; opacity: 1; stroke-width: 0px; fill: rgb(239, 85, 59); fill-opacity: 1;\"/></g><g class=\"point\"><path d=\"M93.02,360V354.96H93.32V360Z\" style=\"vector-effect: non-scaling-stroke; opacity: 1; stroke-width: 0px; fill: rgb(239, 85, 59); fill-opacity: 1;\"/></g><g class=\"point\"><path d=\"M94.91,360V356.97H95.21V360Z\" style=\"vector-effect: non-scaling-stroke; opacity: 1; stroke-width: 0px; fill: rgb(239, 85, 59); fill-opacity: 1;\"/></g><g class=\"point\"><path d=\"M96.79,360V358.99H97.1V360Z\" style=\"vector-effect: non-scaling-stroke; opacity: 1; stroke-width: 0px; fill: rgb(239, 85, 59); fill-opacity: 1;\"/></g><g class=\"point\"><path d=\"M98.68,360V355.96H98.98V360Z\" style=\"vector-effect: non-scaling-stroke; opacity: 1; stroke-width: 0px; fill: rgb(239, 85, 59); fill-opacity: 1;\"/></g><g class=\"point\"><path d=\"M100.57,360V355.96H100.87V360Z\" style=\"vector-effect: non-scaling-stroke; opacity: 1; stroke-width: 0px; fill: rgb(239, 85, 59); fill-opacity: 1;\"/></g><g class=\"point\"><path d=\"M102.46,360V355.96H102.76V360Z\" style=\"vector-effect: non-scaling-stroke; opacity: 1; stroke-width: 0px; fill: rgb(239, 85, 59); fill-opacity: 1;\"/></g><g class=\"point\"><path d=\"M104.35,360V352.94H104.65V360Z\" style=\"vector-effect: non-scaling-stroke; opacity: 1; stroke-width: 0px; fill: rgb(239, 85, 59); fill-opacity: 1;\"/></g><g class=\"point\"><path d=\"M106.24,360V352.94H106.54V360Z\" style=\"vector-effect: non-scaling-stroke; opacity: 1; stroke-width: 0px; fill: rgb(239, 85, 59); fill-opacity: 1;\"/></g><g class=\"point\"><path d=\"M108.12,360V352.94H108.43V360Z\" style=\"vector-effect: non-scaling-stroke; opacity: 1; stroke-width: 0px; fill: rgb(239, 85, 59); fill-opacity: 1;\"/></g><g class=\"point\"><path d=\"M110.01,360V357.98H110.31V360Z\" style=\"vector-effect: non-scaling-stroke; opacity: 1; stroke-width: 0px; fill: rgb(239, 85, 59); fill-opacity: 1;\"/></g><g class=\"point\"><path d=\"M111.9,360V355.96H112.2V360Z\" style=\"vector-effect: non-scaling-stroke; opacity: 1; stroke-width: 0px; fill: rgb(239, 85, 59); fill-opacity: 1;\"/></g><g class=\"point\"><path d=\"M113.79,360V353.95H114.09V360Z\" style=\"vector-effect: non-scaling-stroke; opacity: 1; stroke-width: 0px; fill: rgb(239, 85, 59); fill-opacity: 1;\"/></g><g class=\"point\"><path d=\"M115.68,360V355.96H115.98V360Z\" style=\"vector-effect: non-scaling-stroke; opacity: 1; stroke-width: 0px; fill: rgb(239, 85, 59); fill-opacity: 1;\"/></g><g class=\"point\"><path d=\"M117.57,360V358.99H117.87V360Z\" style=\"vector-effect: non-scaling-stroke; opacity: 1; stroke-width: 0px; fill: rgb(239, 85, 59); fill-opacity: 1;\"/></g><g class=\"point\"><path d=\"M119.45,360V354.96H119.76V360Z\" style=\"vector-effect: non-scaling-stroke; opacity: 1; stroke-width: 0px; fill: rgb(239, 85, 59); fill-opacity: 1;\"/></g><g class=\"point\"><path d=\"M121.34,360V351.93H121.64V360Z\" style=\"vector-effect: non-scaling-stroke; opacity: 1; stroke-width: 0px; fill: rgb(239, 85, 59); fill-opacity: 1;\"/></g><g class=\"point\"><path d=\"M123.23,360V357.98H123.53V360Z\" style=\"vector-effect: non-scaling-stroke; opacity: 1; stroke-width: 0px; fill: rgb(239, 85, 59); fill-opacity: 1;\"/></g><g class=\"point\"><path d=\"M125.12,360V358.99H125.42V360Z\" style=\"vector-effect: non-scaling-stroke; opacity: 1; stroke-width: 0px; fill: rgb(239, 85, 59); fill-opacity: 1;\"/></g><g class=\"point\"><path d=\"M127.01,360V354.96H127.31V360Z\" style=\"vector-effect: non-scaling-stroke; opacity: 1; stroke-width: 0px; fill: rgb(239, 85, 59); fill-opacity: 1;\"/></g><g class=\"point\"><path d=\"M128.9,360V356.97H129.2V360Z\" style=\"vector-effect: non-scaling-stroke; opacity: 1; stroke-width: 0px; fill: rgb(239, 85, 59); fill-opacity: 1;\"/></g><g class=\"point\"><path d=\"M130.78,360V356.97H131.09V360Z\" style=\"vector-effect: non-scaling-stroke; opacity: 1; stroke-width: 0px; fill: rgb(239, 85, 59); fill-opacity: 1;\"/></g><g class=\"point\"><path d=\"M132.67,360V355.96H132.97V360Z\" style=\"vector-effect: non-scaling-stroke; opacity: 1; stroke-width: 0px; fill: rgb(239, 85, 59); fill-opacity: 1;\"/></g><g class=\"point\"><path d=\"M134.56,360V355.96H134.86V360Z\" style=\"vector-effect: non-scaling-stroke; opacity: 1; stroke-width: 0px; fill: rgb(239, 85, 59); fill-opacity: 1;\"/></g><g class=\"point\"><path d=\"M136.45,360V354.96H136.75V360Z\" style=\"vector-effect: non-scaling-stroke; opacity: 1; stroke-width: 0px; fill: rgb(239, 85, 59); fill-opacity: 1;\"/></g><g class=\"point\"><path d=\"M138.34,360V354.96H138.64V360Z\" style=\"vector-effect: non-scaling-stroke; opacity: 1; stroke-width: 0px; fill: rgb(239, 85, 59); fill-opacity: 1;\"/></g><g class=\"point\"><path d=\"M140.23,360V357.98H140.53V360Z\" style=\"vector-effect: non-scaling-stroke; opacity: 1; stroke-width: 0px; fill: rgb(239, 85, 59); fill-opacity: 1;\"/></g><g class=\"point\"><path d=\"M142.11,360V356.97H142.42V360Z\" style=\"vector-effect: non-scaling-stroke; opacity: 1; stroke-width: 0px; fill: rgb(239, 85, 59); fill-opacity: 1;\"/></g><g class=\"point\"><path d=\"M144,360V354.96H144.3V360Z\" style=\"vector-effect: non-scaling-stroke; opacity: 1; stroke-width: 0px; fill: rgb(239, 85, 59); fill-opacity: 1;\"/></g><g class=\"point\"><path d=\"M145.89,360V353.95H146.19V360Z\" style=\"vector-effect: non-scaling-stroke; opacity: 1; stroke-width: 0px; fill: rgb(239, 85, 59); fill-opacity: 1;\"/></g><g class=\"point\"><path d=\"M147.78,360V358.99H148.08V360Z\" style=\"vector-effect: non-scaling-stroke; opacity: 1; stroke-width: 0px; fill: rgb(239, 85, 59); fill-opacity: 1;\"/></g><g class=\"point\"><path d=\"M149.67,360V355.96H149.97V360Z\" style=\"vector-effect: non-scaling-stroke; opacity: 1; stroke-width: 0px; fill: rgb(239, 85, 59); fill-opacity: 1;\"/></g><g class=\"point\"><path d=\"M151.55,360V319.65H151.86V360Z\" style=\"vector-effect: non-scaling-stroke; opacity: 1; stroke-width: 0px; fill: rgb(239, 85, 59); fill-opacity: 1;\"/></g><g class=\"point\"><path d=\"M153.44,360V326.71H153.75V360Z\" style=\"vector-effect: non-scaling-stroke; opacity: 1; stroke-width: 0px; fill: rgb(239, 85, 59); fill-opacity: 1;\"/></g><g class=\"point\"><path d=\"M155.33,360V333.77H155.63V360Z\" style=\"vector-effect: non-scaling-stroke; opacity: 1; stroke-width: 0px; fill: rgb(239, 85, 59); fill-opacity: 1;\"/></g><g class=\"point\"><path d=\"M157.22,360V340.83H157.52V360Z\" style=\"vector-effect: non-scaling-stroke; opacity: 1; stroke-width: 0px; fill: rgb(239, 85, 59); fill-opacity: 1;\"/></g><g class=\"point\"><path d=\"M159.11,360V343.86H159.41V360Z\" style=\"vector-effect: non-scaling-stroke; opacity: 1; stroke-width: 0px; fill: rgb(239, 85, 59); fill-opacity: 1;\"/></g><g class=\"point\"><path d=\"M161,360V340.83H161.3V360Z\" style=\"vector-effect: non-scaling-stroke; opacity: 1; stroke-width: 0px; fill: rgb(239, 85, 59); fill-opacity: 1;\"/></g><g class=\"point\"><path d=\"M162.88,360V340.83H163.19V360Z\" style=\"vector-effect: non-scaling-stroke; opacity: 1; stroke-width: 0px; fill: rgb(239, 85, 59); fill-opacity: 1;\"/></g><g class=\"point\"><path d=\"M164.77,360V355.96H165.07V360Z\" style=\"vector-effect: non-scaling-stroke; opacity: 1; stroke-width: 0px; fill: rgb(239, 85, 59); fill-opacity: 1;\"/></g><g class=\"point\"><path d=\"M166.66,360V352.94H166.96V360Z\" style=\"vector-effect: non-scaling-stroke; opacity: 1; stroke-width: 0px; fill: rgb(239, 85, 59); fill-opacity: 1;\"/></g><g class=\"point\"><path d=\"M168.55,360V352.94H168.85V360Z\" style=\"vector-effect: non-scaling-stroke; opacity: 1; stroke-width: 0px; fill: rgb(239, 85, 59); fill-opacity: 1;\"/></g><g class=\"point\"><path d=\"M170.44,360V356.97H170.74V360Z\" style=\"vector-effect: non-scaling-stroke; opacity: 1; stroke-width: 0px; fill: rgb(239, 85, 59); fill-opacity: 1;\"/></g><g class=\"point\"><path d=\"M172.33,360V358.99H172.63V360Z\" style=\"vector-effect: non-scaling-stroke; opacity: 1; stroke-width: 0px; fill: rgb(239, 85, 59); fill-opacity: 1;\"/></g><g class=\"point\"><path d=\"M174.21,360V352.94H174.52V360Z\" style=\"vector-effect: non-scaling-stroke; opacity: 1; stroke-width: 0px; fill: rgb(239, 85, 59); fill-opacity: 1;\"/></g><g class=\"point\"><path d=\"M176.1,360V353.95H176.4V360Z\" style=\"vector-effect: non-scaling-stroke; opacity: 1; stroke-width: 0px; fill: rgb(239, 85, 59); fill-opacity: 1;\"/></g><g class=\"point\"><path d=\"M177.99,360V353.95H178.29V360Z\" style=\"vector-effect: non-scaling-stroke; opacity: 1; stroke-width: 0px; fill: rgb(239, 85, 59); fill-opacity: 1;\"/></g><g class=\"point\"><path d=\"M179.88,360V351.93H180.18V360Z\" style=\"vector-effect: non-scaling-stroke; opacity: 1; stroke-width: 0px; fill: rgb(239, 85, 59); fill-opacity: 1;\"/></g><g class=\"point\"><path d=\"M181.77,360V348.9H182.07V360Z\" style=\"vector-effect: non-scaling-stroke; opacity: 1; stroke-width: 0px; fill: rgb(239, 85, 59); fill-opacity: 1;\"/></g><g class=\"point\"><path d=\"M183.66,360V342.85H183.96V360Z\" style=\"vector-effect: non-scaling-stroke; opacity: 1; stroke-width: 0px; fill: rgb(239, 85, 59); fill-opacity: 1;\"/></g><g class=\"point\"><path d=\"M185.54,360V353.95H185.85V360Z\" style=\"vector-effect: non-scaling-stroke; opacity: 1; stroke-width: 0px; fill: rgb(239, 85, 59); fill-opacity: 1;\"/></g><g class=\"point\"><path d=\"M187.43,360V348.9H187.73V360Z\" style=\"vector-effect: non-scaling-stroke; opacity: 1; stroke-width: 0px; fill: rgb(239, 85, 59); fill-opacity: 1;\"/></g><g class=\"point\"><path d=\"M189.32,360V330.74H189.62V360Z\" style=\"vector-effect: non-scaling-stroke; opacity: 1; stroke-width: 0px; fill: rgb(239, 85, 59); fill-opacity: 1;\"/></g><g class=\"point\"><path d=\"M191.21,360V339.82H191.51V360Z\" style=\"vector-effect: non-scaling-stroke; opacity: 1; stroke-width: 0px; fill: rgb(239, 85, 59); fill-opacity: 1;\"/></g><g class=\"point\"><path d=\"M193.1,360V336.8H193.4V360Z\" style=\"vector-effect: non-scaling-stroke; opacity: 1; stroke-width: 0px; fill: rgb(239, 85, 59); fill-opacity: 1;\"/></g><g class=\"point\"><path d=\"M194.99,360V326.71H195.29V360Z\" style=\"vector-effect: non-scaling-stroke; opacity: 1; stroke-width: 0px; fill: rgb(239, 85, 59); fill-opacity: 1;\"/></g><g class=\"point\"><path d=\"M196.87,360V329.73H197.18V360Z\" style=\"vector-effect: non-scaling-stroke; opacity: 1; stroke-width: 0px; fill: rgb(239, 85, 59); fill-opacity: 1;\"/></g><g class=\"point\"><path d=\"M198.76,360V324.69H199.06V360Z\" style=\"vector-effect: non-scaling-stroke; opacity: 1; stroke-width: 0px; fill: rgb(239, 85, 59); fill-opacity: 1;\"/></g><g class=\"point\"><path d=\"M200.65,360V301.49H200.95V360Z\" style=\"vector-effect: non-scaling-stroke; opacity: 1; stroke-width: 0px; fill: rgb(239, 85, 59); fill-opacity: 1;\"/></g><g class=\"point\"><path d=\"M202.54,360V326.71H202.84V360Z\" style=\"vector-effect: non-scaling-stroke; opacity: 1; stroke-width: 0px; fill: rgb(239, 85, 59); fill-opacity: 1;\"/></g><g class=\"point\"><path d=\"M204.43,360V315.61H204.73V360Z\" style=\"vector-effect: non-scaling-stroke; opacity: 1; stroke-width: 0px; fill: rgb(239, 85, 59); fill-opacity: 1;\"/></g><g class=\"point\"><path d=\"M206.32,360V312.58H206.62V360Z\" style=\"vector-effect: non-scaling-stroke; opacity: 1; stroke-width: 0px; fill: rgb(239, 85, 59); fill-opacity: 1;\"/></g><g class=\"point\"><path d=\"M208.2,360V299.47H208.51V360Z\" style=\"vector-effect: non-scaling-stroke; opacity: 1; stroke-width: 0px; fill: rgb(239, 85, 59); fill-opacity: 1;\"/></g><g class=\"point\"><path d=\"M210.09,360V299.47H210.39V360Z\" style=\"vector-effect: non-scaling-stroke; opacity: 1; stroke-width: 0px; fill: rgb(239, 85, 59); fill-opacity: 1;\"/></g><g class=\"point\"><path d=\"M211.98,360V314.6H212.28V360Z\" style=\"vector-effect: non-scaling-stroke; opacity: 1; stroke-width: 0px; fill: rgb(239, 85, 59); fill-opacity: 1;\"/></g><g class=\"point\"><path d=\"M213.87,360V316.62H214.17V360Z\" style=\"vector-effect: non-scaling-stroke; opacity: 1; stroke-width: 0px; fill: rgb(239, 85, 59); fill-opacity: 1;\"/></g><g class=\"point\"><path d=\"M215.76,360V291.4H216.06V360Z\" style=\"vector-effect: non-scaling-stroke; opacity: 1; stroke-width: 0px; fill: rgb(239, 85, 59); fill-opacity: 1;\"/></g><g class=\"point\"><path d=\"M217.65,360V297.45H217.95V360Z\" style=\"vector-effect: non-scaling-stroke; opacity: 1; stroke-width: 0px; fill: rgb(239, 85, 59); fill-opacity: 1;\"/></g><g class=\"point\"><path d=\"M219.53,360V302.5H219.84V360Z\" style=\"vector-effect: non-scaling-stroke; opacity: 1; stroke-width: 0px; fill: rgb(239, 85, 59); fill-opacity: 1;\"/></g><g class=\"point\"><path d=\"M221.42,360V296.44H221.72V360Z\" style=\"vector-effect: non-scaling-stroke; opacity: 1; stroke-width: 0px; fill: rgb(239, 85, 59); fill-opacity: 1;\"/></g><g class=\"point\"><path d=\"M223.31,360V303.5H223.61V360Z\" style=\"vector-effect: non-scaling-stroke; opacity: 1; stroke-width: 0px; fill: rgb(239, 85, 59); fill-opacity: 1;\"/></g><g class=\"point\"><path d=\"M225.2,360V290.39H225.5V360Z\" style=\"vector-effect: non-scaling-stroke; opacity: 1; stroke-width: 0px; fill: rgb(239, 85, 59); fill-opacity: 1;\"/></g><g class=\"point\"><path d=\"M227.09,360V307.54H227.39V360Z\" style=\"vector-effect: non-scaling-stroke; opacity: 1; stroke-width: 0px; fill: rgb(239, 85, 59); fill-opacity: 1;\"/></g><g class=\"point\"><path d=\"M228.98,360V277.27H229.28V360Z\" style=\"vector-effect: non-scaling-stroke; opacity: 1; stroke-width: 0px; fill: rgb(239, 85, 59); fill-opacity: 1;\"/></g><g class=\"point\"><path d=\"M230.86,360V248.02H231.17V360Z\" style=\"vector-effect: non-scaling-stroke; opacity: 1; stroke-width: 0px; fill: rgb(239, 85, 59); fill-opacity: 1;\"/></g><g class=\"point\"><path d=\"M232.75,360V247.01H233.05V360Z\" style=\"vector-effect: non-scaling-stroke; opacity: 1; stroke-width: 0px; fill: rgb(239, 85, 59); fill-opacity: 1;\"/></g><g class=\"point\"><path d=\"M234.64,360V287.36H234.94V360Z\" style=\"vector-effect: non-scaling-stroke; opacity: 1; stroke-width: 0px; fill: rgb(239, 85, 59); fill-opacity: 1;\"/></g><g class=\"point\"><path d=\"M236.53,360V268.19H236.83V360Z\" style=\"vector-effect: non-scaling-stroke; opacity: 1; stroke-width: 0px; fill: rgb(239, 85, 59); fill-opacity: 1;\"/></g><g class=\"point\"><path d=\"M238.42,360V285.35H238.72V360Z\" style=\"vector-effect: non-scaling-stroke; opacity: 1; stroke-width: 0px; fill: rgb(239, 85, 59); fill-opacity: 1;\"/></g><g class=\"point\"><path d=\"M240.3,360V278.28H240.61V360Z\" style=\"vector-effect: non-scaling-stroke; opacity: 1; stroke-width: 0px; fill: rgb(239, 85, 59); fill-opacity: 1;\"/></g><g class=\"point\"><path d=\"M242.19,360V231.88H242.5V360Z\" style=\"vector-effect: non-scaling-stroke; opacity: 1; stroke-width: 0px; fill: rgb(239, 85, 59); fill-opacity: 1;\"/></g><g class=\"point\"><path d=\"M244.08,360V278.28H244.38V360Z\" style=\"vector-effect: non-scaling-stroke; opacity: 1; stroke-width: 0px; fill: rgb(239, 85, 59); fill-opacity: 1;\"/></g><g class=\"point\"><path d=\"M245.97,360V262.14H246.27V360Z\" style=\"vector-effect: non-scaling-stroke; opacity: 1; stroke-width: 0px; fill: rgb(239, 85, 59); fill-opacity: 1;\"/></g><g class=\"point\"><path d=\"M247.86,360V243.98H248.16V360Z\" style=\"vector-effect: non-scaling-stroke; opacity: 1; stroke-width: 0px; fill: rgb(239, 85, 59); fill-opacity: 1;\"/></g><g class=\"point\"><path d=\"M249.75,360V246H250.05V360Z\" style=\"vector-effect: non-scaling-stroke; opacity: 1; stroke-width: 0px; fill: rgb(239, 85, 59); fill-opacity: 1;\"/></g><g class=\"point\"><path d=\"M251.63,360V257.1H251.94V360Z\" style=\"vector-effect: non-scaling-stroke; opacity: 1; stroke-width: 0px; fill: rgb(239, 85, 59); fill-opacity: 1;\"/></g><g class=\"point\"><path d=\"M253.52,360V276.27H253.82V360Z\" style=\"vector-effect: non-scaling-stroke; opacity: 1; stroke-width: 0px; fill: rgb(239, 85, 59); fill-opacity: 1;\"/></g><g class=\"point\"><path d=\"M255.41,360V251.04H255.71V360Z\" style=\"vector-effect: non-scaling-stroke; opacity: 1; stroke-width: 0px; fill: rgb(239, 85, 59); fill-opacity: 1;\"/></g><g class=\"point\"><path d=\"M257.3,360V249.03H257.6V360Z\" style=\"vector-effect: non-scaling-stroke; opacity: 1; stroke-width: 0px; fill: rgb(239, 85, 59); fill-opacity: 1;\"/></g><g class=\"point\"><path d=\"M259.19,360V237.93H259.49V360Z\" style=\"vector-effect: non-scaling-stroke; opacity: 1; stroke-width: 0px; fill: rgb(239, 85, 59); fill-opacity: 1;\"/></g><g class=\"point\"><path d=\"M261.08,360V243.98H261.38V360Z\" style=\"vector-effect: non-scaling-stroke; opacity: 1; stroke-width: 0px; fill: rgb(239, 85, 59); fill-opacity: 1;\"/></g><g class=\"point\"><path d=\"M262.96,360V257.1H263.27V360Z\" style=\"vector-effect: non-scaling-stroke; opacity: 1; stroke-width: 0px; fill: rgb(239, 85, 59); fill-opacity: 1;\"/></g><g class=\"point\"><path d=\"M264.85,360V247.01H265.15V360Z\" style=\"vector-effect: non-scaling-stroke; opacity: 1; stroke-width: 0px; fill: rgb(239, 85, 59); fill-opacity: 1;\"/></g><g class=\"point\"><path d=\"M266.74,360V225.82H267.04V360Z\" style=\"vector-effect: non-scaling-stroke; opacity: 1; stroke-width: 0px; fill: rgb(239, 85, 59); fill-opacity: 1;\"/></g><g class=\"point\"><path d=\"M268.63,360V249.03H268.93V360Z\" style=\"vector-effect: non-scaling-stroke; opacity: 1; stroke-width: 0px; fill: rgb(239, 85, 59); fill-opacity: 1;\"/></g><g class=\"point\"><path d=\"M270.52,360V257.1H270.82V360Z\" style=\"vector-effect: non-scaling-stroke; opacity: 1; stroke-width: 0px; fill: rgb(239, 85, 59); fill-opacity: 1;\"/></g><g class=\"point\"><path d=\"M272.41,360V269.2H272.71V360Z\" style=\"vector-effect: non-scaling-stroke; opacity: 1; stroke-width: 0px; fill: rgb(239, 85, 59); fill-opacity: 1;\"/></g><g class=\"point\"><path d=\"M274.29,360V220.78H274.6V360Z\" style=\"vector-effect: non-scaling-stroke; opacity: 1; stroke-width: 0px; fill: rgb(239, 85, 59); fill-opacity: 1;\"/></g><g class=\"point\"><path d=\"M276.18,360V234.9H276.48V360Z\" style=\"vector-effect: non-scaling-stroke; opacity: 1; stroke-width: 0px; fill: rgb(239, 85, 59); fill-opacity: 1;\"/></g><g class=\"point\"><path d=\"M278.07,360V238.94H278.37V360Z\" style=\"vector-effect: non-scaling-stroke; opacity: 1; stroke-width: 0px; fill: rgb(239, 85, 59); fill-opacity: 1;\"/></g><g class=\"point\"><path d=\"M279.96,360V219.77H280.26V360Z\" style=\"vector-effect: non-scaling-stroke; opacity: 1; stroke-width: 0px; fill: rgb(239, 85, 59); fill-opacity: 1;\"/></g><g class=\"point\"><path d=\"M281.85,360V229.86H282.15V360Z\" style=\"vector-effect: non-scaling-stroke; opacity: 1; stroke-width: 0px; fill: rgb(239, 85, 59); fill-opacity: 1;\"/></g><g class=\"point\"><path d=\"M283.74,360V240.96H284.04V360Z\" style=\"vector-effect: non-scaling-stroke; opacity: 1; stroke-width: 0px; fill: rgb(239, 85, 59); fill-opacity: 1;\"/></g><g class=\"point\"><path d=\"M285.62,360V247.01H285.93V360Z\" style=\"vector-effect: non-scaling-stroke; opacity: 1; stroke-width: 0px; fill: rgb(239, 85, 59); fill-opacity: 1;\"/></g><g class=\"point\"><path d=\"M287.51,360V249.03H287.81V360Z\" style=\"vector-effect: non-scaling-stroke; opacity: 1; stroke-width: 0px; fill: rgb(239, 85, 59); fill-opacity: 1;\"/></g><g class=\"point\"><path d=\"M289.4,360V292.41H289.7V360Z\" style=\"vector-effect: non-scaling-stroke; opacity: 1; stroke-width: 0px; fill: rgb(239, 85, 59); fill-opacity: 1;\"/></g><g class=\"point\"><path d=\"M291.29,360V256.09H291.59V360Z\" style=\"vector-effect: non-scaling-stroke; opacity: 1; stroke-width: 0px; fill: rgb(239, 85, 59); fill-opacity: 1;\"/></g><g class=\"point\"><path d=\"M293.18,360V226.83H293.48V360Z\" style=\"vector-effect: non-scaling-stroke; opacity: 1; stroke-width: 0px; fill: rgb(239, 85, 59); fill-opacity: 1;\"/></g><g class=\"point\"><path d=\"M295.07,360V208.67H295.37V360Z\" style=\"vector-effect: non-scaling-stroke; opacity: 1; stroke-width: 0px; fill: rgb(239, 85, 59); fill-opacity: 1;\"/></g><g class=\"point\"><path d=\"M296.95,360V205.65H297.26V360Z\" style=\"vector-effect: non-scaling-stroke; opacity: 1; stroke-width: 0px; fill: rgb(239, 85, 59); fill-opacity: 1;\"/></g><g class=\"point\"><path d=\"M298.84,360V246H299.14V360Z\" style=\"vector-effect: non-scaling-stroke; opacity: 1; stroke-width: 0px; fill: rgb(239, 85, 59); fill-opacity: 1;\"/></g><g class=\"point\"><path d=\"M300.73,360V249.03H301.03V360Z\" style=\"vector-effect: non-scaling-stroke; opacity: 1; stroke-width: 0px; fill: rgb(239, 85, 59); fill-opacity: 1;\"/></g><g class=\"point\"><path d=\"M302.62,360V224.81H302.92V360Z\" style=\"vector-effect: non-scaling-stroke; opacity: 1; stroke-width: 0px; fill: rgb(239, 85, 59); fill-opacity: 1;\"/></g><g class=\"point\"><path d=\"M304.51,360V232.88H304.81V360Z\" style=\"vector-effect: non-scaling-stroke; opacity: 1; stroke-width: 0px; fill: rgb(239, 85, 59); fill-opacity: 1;\"/></g><g class=\"point\"><path d=\"M306.4,360V221.79H306.7V360Z\" style=\"vector-effect: non-scaling-stroke; opacity: 1; stroke-width: 0px; fill: rgb(239, 85, 59); fill-opacity: 1;\"/></g><g class=\"point\"><path d=\"M308.28,360V233.89H308.59V360Z\" style=\"vector-effect: non-scaling-stroke; opacity: 1; stroke-width: 0px; fill: rgb(239, 85, 59); fill-opacity: 1;\"/></g><g class=\"point\"><path d=\"M310.17,360V232.88H310.47V360Z\" style=\"vector-effect: non-scaling-stroke; opacity: 1; stroke-width: 0px; fill: rgb(239, 85, 59); fill-opacity: 1;\"/></g><g class=\"point\"><path d=\"M312.06,360V247.01H312.36V360Z\" style=\"vector-effect: non-scaling-stroke; opacity: 1; stroke-width: 0px; fill: rgb(239, 85, 59); fill-opacity: 1;\"/></g><g class=\"point\"><path d=\"M313.95,360V263.15H314.25V360Z\" style=\"vector-effect: non-scaling-stroke; opacity: 1; stroke-width: 0px; fill: rgb(239, 85, 59); fill-opacity: 1;\"/></g><g class=\"point\"><path d=\"M315.84,360V232.88H316.14V360Z\" style=\"vector-effect: non-scaling-stroke; opacity: 1; stroke-width: 0px; fill: rgb(239, 85, 59); fill-opacity: 1;\"/></g><g class=\"point\"><path d=\"M317.73,360V233.89H318.03V360Z\" style=\"vector-effect: non-scaling-stroke; opacity: 1; stroke-width: 0px; fill: rgb(239, 85, 59); fill-opacity: 1;\"/></g><g class=\"point\"><path d=\"M319.61,360V290.39H319.92V360Z\" style=\"vector-effect: non-scaling-stroke; opacity: 1; stroke-width: 0px; fill: rgb(239, 85, 59); fill-opacity: 1;\"/></g><g class=\"point\"><path d=\"M321.5,360V296.44H321.8V360Z\" style=\"vector-effect: non-scaling-stroke; opacity: 1; stroke-width: 0px; fill: rgb(239, 85, 59); fill-opacity: 1;\"/></g><g class=\"point\"><path d=\"M323.39,360V307.54H323.69V360Z\" style=\"vector-effect: non-scaling-stroke; opacity: 1; stroke-width: 0px; fill: rgb(239, 85, 59); fill-opacity: 1;\"/></g><g class=\"point\"><path d=\"M325.28,360V281.31H325.58V360Z\" style=\"vector-effect: non-scaling-stroke; opacity: 1; stroke-width: 0px; fill: rgb(239, 85, 59); fill-opacity: 1;\"/></g><g class=\"point\"><path d=\"M327.17,360V322.67H327.47V360Z\" style=\"vector-effect: non-scaling-stroke; opacity: 1; stroke-width: 0px; fill: rgb(239, 85, 59); fill-opacity: 1;\"/></g><g class=\"point\"><path d=\"M329.05,360V323.68H329.36V360Z\" style=\"vector-effect: non-scaling-stroke; opacity: 1; stroke-width: 0px; fill: rgb(239, 85, 59); fill-opacity: 1;\"/></g><g class=\"point\"><path d=\"M330.94,360V313.59H331.25V360Z\" style=\"vector-effect: non-scaling-stroke; opacity: 1; stroke-width: 0px; fill: rgb(239, 85, 59); fill-opacity: 1;\"/></g><g class=\"point\"><path d=\"M332.83,360V324.69H333.13V360Z\" style=\"vector-effect: non-scaling-stroke; opacity: 1; stroke-width: 0px; fill: rgb(239, 85, 59); fill-opacity: 1;\"/></g><g class=\"point\"><path d=\"M334.72,360V331.75H335.02V360Z\" style=\"vector-effect: non-scaling-stroke; opacity: 1; stroke-width: 0px; fill: rgb(239, 85, 59); fill-opacity: 1;\"/></g><g class=\"point\"><path d=\"M336.61,360V335.79H336.91V360Z\" style=\"vector-effect: non-scaling-stroke; opacity: 1; stroke-width: 0px; fill: rgb(239, 85, 59); fill-opacity: 1;\"/></g><g class=\"point\"><path d=\"M338.5,360V337.81H338.8V360Z\" style=\"vector-effect: non-scaling-stroke; opacity: 1; stroke-width: 0px; fill: rgb(239, 85, 59); fill-opacity: 1;\"/></g><g class=\"point\"><path d=\"M340.38,360V343.86H340.69V360Z\" style=\"vector-effect: non-scaling-stroke; opacity: 1; stroke-width: 0px; fill: rgb(239, 85, 59); fill-opacity: 1;\"/></g><g class=\"point\"><path d=\"M342.27,360V356.97H342.57V360Z\" style=\"vector-effect: non-scaling-stroke; opacity: 1; stroke-width: 0px; fill: rgb(239, 85, 59); fill-opacity: 1;\"/></g><g class=\"point\"><path d=\"M344.16,360V355.96H344.46V360Z\" style=\"vector-effect: non-scaling-stroke; opacity: 1; stroke-width: 0px; fill: rgb(239, 85, 59); fill-opacity: 1;\"/></g><g class=\"point\"><path d=\"M346.05,360V350.92H346.35V360Z\" style=\"vector-effect: non-scaling-stroke; opacity: 1; stroke-width: 0px; fill: rgb(239, 85, 59); fill-opacity: 1;\"/></g><g class=\"point\"><path d=\"M347.94,360V343.86H348.24V360Z\" style=\"vector-effect: non-scaling-stroke; opacity: 1; stroke-width: 0px; fill: rgb(239, 85, 59); fill-opacity: 1;\"/></g><g class=\"point\"><path d=\"M349.83,360V349.91H350.13V360Z\" style=\"vector-effect: non-scaling-stroke; opacity: 1; stroke-width: 0px; fill: rgb(239, 85, 59); fill-opacity: 1;\"/></g><g class=\"point\"><path d=\"M351.71,360V354.96H352.02V360Z\" style=\"vector-effect: non-scaling-stroke; opacity: 1; stroke-width: 0px; fill: rgb(239, 85, 59); fill-opacity: 1;\"/></g><g class=\"point\"><path d=\"M353.6,360V349.91H353.9V360Z\" style=\"vector-effect: non-scaling-stroke; opacity: 1; stroke-width: 0px; fill: rgb(239, 85, 59); fill-opacity: 1;\"/></g></g></g><g class=\"trace bars\" style=\"opacity: 1;\"><g class=\"points\"><g class=\"point\"><path d=\"M2.68,360V358.99H2.98V360Z\" style=\"vector-effect: non-scaling-stroke; opacity: 1; stroke-width: 0px; fill: rgb(0, 204, 150); fill-opacity: 1;\"/></g><g class=\"point\"><path d=\"M0,0Z\" style=\"vector-effect: non-scaling-stroke; opacity: 1; stroke-width: 0px; fill: rgb(0, 204, 150); fill-opacity: 1;\"/></g><g class=\"point\"><path d=\"M0,0Z\" style=\"vector-effect: non-scaling-stroke; opacity: 1; stroke-width: 0px; fill: rgb(0, 204, 150); fill-opacity: 1;\"/></g><g class=\"point\"><path d=\"M0,0Z\" style=\"vector-effect: non-scaling-stroke; opacity: 1; stroke-width: 0px; fill: rgb(0, 204, 150); fill-opacity: 1;\"/></g><g class=\"point\"><path d=\"M0,0Z\" style=\"vector-effect: non-scaling-stroke; opacity: 1; stroke-width: 0px; fill: rgb(0, 204, 150); fill-opacity: 1;\"/></g><g class=\"point\"><path d=\"M0,0Z\" style=\"vector-effect: non-scaling-stroke; opacity: 1; stroke-width: 0px; fill: rgb(0, 204, 150); fill-opacity: 1;\"/></g><g class=\"point\"><path d=\"M0,0Z\" style=\"vector-effect: non-scaling-stroke; opacity: 1; stroke-width: 0px; fill: rgb(0, 204, 150); fill-opacity: 1;\"/></g><g class=\"point\"><path d=\"M0,0Z\" style=\"vector-effect: non-scaling-stroke; opacity: 1; stroke-width: 0px; fill: rgb(0, 204, 150); fill-opacity: 1;\"/></g><g class=\"point\"><path d=\"M0,0Z\" style=\"vector-effect: non-scaling-stroke; opacity: 1; stroke-width: 0px; fill: rgb(0, 204, 150); fill-opacity: 1;\"/></g><g class=\"point\"><path d=\"M0,0Z\" style=\"vector-effect: non-scaling-stroke; opacity: 1; stroke-width: 0px; fill: rgb(0, 204, 150); fill-opacity: 1;\"/></g><g class=\"point\"><path d=\"M0,0Z\" style=\"vector-effect: non-scaling-stroke; opacity: 1; stroke-width: 0px; fill: rgb(0, 204, 150); fill-opacity: 1;\"/></g><g class=\"point\"><path d=\"M0,0Z\" style=\"vector-effect: non-scaling-stroke; opacity: 1; stroke-width: 0px; fill: rgb(0, 204, 150); fill-opacity: 1;\"/></g><g class=\"point\"><path d=\"M0,0Z\" style=\"vector-effect: non-scaling-stroke; opacity: 1; stroke-width: 0px; fill: rgb(0, 204, 150); fill-opacity: 1;\"/></g><g class=\"point\"><path d=\"M0,0Z\" style=\"vector-effect: non-scaling-stroke; opacity: 1; stroke-width: 0px; fill: rgb(0, 204, 150); fill-opacity: 1;\"/></g><g class=\"point\"><path d=\"M0,0Z\" style=\"vector-effect: non-scaling-stroke; opacity: 1; stroke-width: 0px; fill: rgb(0, 204, 150); fill-opacity: 1;\"/></g><g class=\"point\"><path d=\"M0,0Z\" style=\"vector-effect: non-scaling-stroke; opacity: 1; stroke-width: 0px; fill: rgb(0, 204, 150); fill-opacity: 1;\"/></g><g class=\"point\"><path d=\"M0,0Z\" style=\"vector-effect: non-scaling-stroke; opacity: 1; stroke-width: 0px; fill: rgb(0, 204, 150); fill-opacity: 1;\"/></g><g class=\"point\"><path d=\"M0,0Z\" style=\"vector-effect: non-scaling-stroke; opacity: 1; stroke-width: 0px; fill: rgb(0, 204, 150); fill-opacity: 1;\"/></g><g class=\"point\"><path d=\"M0,0Z\" style=\"vector-effect: non-scaling-stroke; opacity: 1; stroke-width: 0px; fill: rgb(0, 204, 150); fill-opacity: 1;\"/></g><g class=\"point\"><path d=\"M0,0Z\" style=\"vector-effect: non-scaling-stroke; opacity: 1; stroke-width: 0px; fill: rgb(0, 204, 150); fill-opacity: 1;\"/></g><g class=\"point\"><path d=\"M0,0Z\" style=\"vector-effect: non-scaling-stroke; opacity: 1; stroke-width: 0px; fill: rgb(0, 204, 150); fill-opacity: 1;\"/></g><g class=\"point\"><path d=\"M0,0Z\" style=\"vector-effect: non-scaling-stroke; opacity: 1; stroke-width: 0px; fill: rgb(0, 204, 150); fill-opacity: 1;\"/></g><g class=\"point\"><path d=\"M0,0Z\" style=\"vector-effect: non-scaling-stroke; opacity: 1; stroke-width: 0px; fill: rgb(0, 204, 150); fill-opacity: 1;\"/></g><g class=\"point\"><path d=\"M0,0Z\" style=\"vector-effect: non-scaling-stroke; opacity: 1; stroke-width: 0px; fill: rgb(0, 204, 150); fill-opacity: 1;\"/></g><g class=\"point\"><path d=\"M0,0Z\" style=\"vector-effect: non-scaling-stroke; opacity: 1; stroke-width: 0px; fill: rgb(0, 204, 150); fill-opacity: 1;\"/></g><g class=\"point\"><path d=\"M0,0Z\" style=\"vector-effect: non-scaling-stroke; opacity: 1; stroke-width: 0px; fill: rgb(0, 204, 150); fill-opacity: 1;\"/></g><g class=\"point\"><path d=\"M0,0Z\" style=\"vector-effect: non-scaling-stroke; opacity: 1; stroke-width: 0px; fill: rgb(0, 204, 150); fill-opacity: 1;\"/></g><g class=\"point\"><path d=\"M0,0Z\" style=\"vector-effect: non-scaling-stroke; opacity: 1; stroke-width: 0px; fill: rgb(0, 204, 150); fill-opacity: 1;\"/></g><g class=\"point\"><path d=\"M0,0Z\" style=\"vector-effect: non-scaling-stroke; opacity: 1; stroke-width: 0px; fill: rgb(0, 204, 150); fill-opacity: 1;\"/></g><g class=\"point\"><path d=\"M0,0Z\" style=\"vector-effect: non-scaling-stroke; opacity: 1; stroke-width: 0px; fill: rgb(0, 204, 150); fill-opacity: 1;\"/></g><g class=\"point\"><path d=\"M0,0Z\" style=\"vector-effect: non-scaling-stroke; opacity: 1; stroke-width: 0px; fill: rgb(0, 204, 150); fill-opacity: 1;\"/></g><g class=\"point\"><path d=\"M0,0Z\" style=\"vector-effect: non-scaling-stroke; opacity: 1; stroke-width: 0px; fill: rgb(0, 204, 150); fill-opacity: 1;\"/></g><g class=\"point\"><path d=\"M0,0Z\" style=\"vector-effect: non-scaling-stroke; opacity: 1; stroke-width: 0px; fill: rgb(0, 204, 150); fill-opacity: 1;\"/></g><g class=\"point\"><path d=\"M0,0Z\" style=\"vector-effect: non-scaling-stroke; opacity: 1; stroke-width: 0px; fill: rgb(0, 204, 150); fill-opacity: 1;\"/></g><g class=\"point\"><path d=\"M0,0Z\" style=\"vector-effect: non-scaling-stroke; opacity: 1; stroke-width: 0px; fill: rgb(0, 204, 150); fill-opacity: 1;\"/></g><g class=\"point\"><path d=\"M0,0Z\" style=\"vector-effect: non-scaling-stroke; opacity: 1; stroke-width: 0px; fill: rgb(0, 204, 150); fill-opacity: 1;\"/></g><g class=\"point\"><path d=\"M0,0Z\" style=\"vector-effect: non-scaling-stroke; opacity: 1; stroke-width: 0px; fill: rgb(0, 204, 150); fill-opacity: 1;\"/></g><g class=\"point\"><path d=\"M0,0Z\" style=\"vector-effect: non-scaling-stroke; opacity: 1; stroke-width: 0px; fill: rgb(0, 204, 150); fill-opacity: 1;\"/></g><g class=\"point\"><path d=\"M0,0Z\" style=\"vector-effect: non-scaling-stroke; opacity: 1; stroke-width: 0px; fill: rgb(0, 204, 150); fill-opacity: 1;\"/></g><g class=\"point\"><path d=\"M0,0Z\" style=\"vector-effect: non-scaling-stroke; opacity: 1; stroke-width: 0px; fill: rgb(0, 204, 150); fill-opacity: 1;\"/></g><g class=\"point\"><path d=\"M0,0Z\" style=\"vector-effect: non-scaling-stroke; opacity: 1; stroke-width: 0px; fill: rgb(0, 204, 150); fill-opacity: 1;\"/></g><g class=\"point\"><path d=\"M0,0Z\" style=\"vector-effect: non-scaling-stroke; opacity: 1; stroke-width: 0px; fill: rgb(0, 204, 150); fill-opacity: 1;\"/></g><g class=\"point\"><path d=\"M0,0Z\" style=\"vector-effect: non-scaling-stroke; opacity: 1; stroke-width: 0px; fill: rgb(0, 204, 150); fill-opacity: 1;\"/></g><g class=\"point\"><path d=\"M0,0Z\" style=\"vector-effect: non-scaling-stroke; opacity: 1; stroke-width: 0px; fill: rgb(0, 204, 150); fill-opacity: 1;\"/></g><g class=\"point\"><path d=\"M0,0Z\" style=\"vector-effect: non-scaling-stroke; opacity: 1; stroke-width: 0px; fill: rgb(0, 204, 150); fill-opacity: 1;\"/></g><g class=\"point\"><path d=\"M0,0Z\" style=\"vector-effect: non-scaling-stroke; opacity: 1; stroke-width: 0px; fill: rgb(0, 204, 150); fill-opacity: 1;\"/></g><g class=\"point\"><path d=\"M0,0Z\" style=\"vector-effect: non-scaling-stroke; opacity: 1; stroke-width: 0px; fill: rgb(0, 204, 150); fill-opacity: 1;\"/></g><g class=\"point\"><path d=\"M0,0Z\" style=\"vector-effect: non-scaling-stroke; opacity: 1; stroke-width: 0px; fill: rgb(0, 204, 150); fill-opacity: 1;\"/></g><g class=\"point\"><path d=\"M93.32,360V358.99H93.62V360Z\" style=\"vector-effect: non-scaling-stroke; opacity: 1; stroke-width: 0px; fill: rgb(0, 204, 150); fill-opacity: 1;\"/></g><g class=\"point\"><path d=\"M95.21,360V358.99H95.51V360Z\" style=\"vector-effect: non-scaling-stroke; opacity: 1; stroke-width: 0px; fill: rgb(0, 204, 150); fill-opacity: 1;\"/></g><g class=\"point\"><path d=\"M97.1,360V358.99H97.4V360Z\" style=\"vector-effect: non-scaling-stroke; opacity: 1; stroke-width: 0px; fill: rgb(0, 204, 150); fill-opacity: 1;\"/></g><g class=\"point\"><path d=\"M0,0Z\" style=\"vector-effect: non-scaling-stroke; opacity: 1; stroke-width: 0px; fill: rgb(0, 204, 150); fill-opacity: 1;\"/></g><g class=\"point\"><path d=\"M0,0Z\" style=\"vector-effect: non-scaling-stroke; opacity: 1; stroke-width: 0px; fill: rgb(0, 204, 150); fill-opacity: 1;\"/></g><g class=\"point\"><path d=\"M0,0Z\" style=\"vector-effect: non-scaling-stroke; opacity: 1; stroke-width: 0px; fill: rgb(0, 204, 150); fill-opacity: 1;\"/></g><g class=\"point\"><path d=\"M0,0Z\" style=\"vector-effect: non-scaling-stroke; opacity: 1; stroke-width: 0px; fill: rgb(0, 204, 150); fill-opacity: 1;\"/></g><g class=\"point\"><path d=\"M0,0Z\" style=\"vector-effect: non-scaling-stroke; opacity: 1; stroke-width: 0px; fill: rgb(0, 204, 150); fill-opacity: 1;\"/></g><g class=\"point\"><path d=\"M0,0Z\" style=\"vector-effect: non-scaling-stroke; opacity: 1; stroke-width: 0px; fill: rgb(0, 204, 150); fill-opacity: 1;\"/></g><g class=\"point\"><path d=\"M0,0Z\" style=\"vector-effect: non-scaling-stroke; opacity: 1; stroke-width: 0px; fill: rgb(0, 204, 150); fill-opacity: 1;\"/></g><g class=\"point\"><path d=\"M0,0Z\" style=\"vector-effect: non-scaling-stroke; opacity: 1; stroke-width: 0px; fill: rgb(0, 204, 150); fill-opacity: 1;\"/></g><g class=\"point\"><path d=\"M0,0Z\" style=\"vector-effect: non-scaling-stroke; opacity: 1; stroke-width: 0px; fill: rgb(0, 204, 150); fill-opacity: 1;\"/></g><g class=\"point\"><path d=\"M0,0Z\" style=\"vector-effect: non-scaling-stroke; opacity: 1; stroke-width: 0px; fill: rgb(0, 204, 150); fill-opacity: 1;\"/></g><g class=\"point\"><path d=\"M0,0Z\" style=\"vector-effect: non-scaling-stroke; opacity: 1; stroke-width: 0px; fill: rgb(0, 204, 150); fill-opacity: 1;\"/></g><g class=\"point\"><path d=\"M0,0Z\" style=\"vector-effect: non-scaling-stroke; opacity: 1; stroke-width: 0px; fill: rgb(0, 204, 150); fill-opacity: 1;\"/></g><g class=\"point\"><path d=\"M0,0Z\" style=\"vector-effect: non-scaling-stroke; opacity: 1; stroke-width: 0px; fill: rgb(0, 204, 150); fill-opacity: 1;\"/></g><g class=\"point\"><path d=\"M0,0Z\" style=\"vector-effect: non-scaling-stroke; opacity: 1; stroke-width: 0px; fill: rgb(0, 204, 150); fill-opacity: 1;\"/></g><g class=\"point\"><path d=\"M0,0Z\" style=\"vector-effect: non-scaling-stroke; opacity: 1; stroke-width: 0px; fill: rgb(0, 204, 150); fill-opacity: 1;\"/></g><g class=\"point\"><path d=\"M0,0Z\" style=\"vector-effect: non-scaling-stroke; opacity: 1; stroke-width: 0px; fill: rgb(0, 204, 150); fill-opacity: 1;\"/></g><g class=\"point\"><path d=\"M0,0Z\" style=\"vector-effect: non-scaling-stroke; opacity: 1; stroke-width: 0px; fill: rgb(0, 204, 150); fill-opacity: 1;\"/></g><g class=\"point\"><path d=\"M0,0Z\" style=\"vector-effect: non-scaling-stroke; opacity: 1; stroke-width: 0px; fill: rgb(0, 204, 150); fill-opacity: 1;\"/></g><g class=\"point\"><path d=\"M0,0Z\" style=\"vector-effect: non-scaling-stroke; opacity: 1; stroke-width: 0px; fill: rgb(0, 204, 150); fill-opacity: 1;\"/></g><g class=\"point\"><path d=\"M0,0Z\" style=\"vector-effect: non-scaling-stroke; opacity: 1; stroke-width: 0px; fill: rgb(0, 204, 150); fill-opacity: 1;\"/></g><g class=\"point\"><path d=\"M0,0Z\" style=\"vector-effect: non-scaling-stroke; opacity: 1; stroke-width: 0px; fill: rgb(0, 204, 150); fill-opacity: 1;\"/></g><g class=\"point\"><path d=\"M0,0Z\" style=\"vector-effect: non-scaling-stroke; opacity: 1; stroke-width: 0px; fill: rgb(0, 204, 150); fill-opacity: 1;\"/></g><g class=\"point\"><path d=\"M0,0Z\" style=\"vector-effect: non-scaling-stroke; opacity: 1; stroke-width: 0px; fill: rgb(0, 204, 150); fill-opacity: 1;\"/></g><g class=\"point\"><path d=\"M0,0Z\" style=\"vector-effect: non-scaling-stroke; opacity: 1; stroke-width: 0px; fill: rgb(0, 204, 150); fill-opacity: 1;\"/></g><g class=\"point\"><path d=\"M0,0Z\" style=\"vector-effect: non-scaling-stroke; opacity: 1; stroke-width: 0px; fill: rgb(0, 204, 150); fill-opacity: 1;\"/></g><g class=\"point\"><path d=\"M0,0Z\" style=\"vector-effect: non-scaling-stroke; opacity: 1; stroke-width: 0px; fill: rgb(0, 204, 150); fill-opacity: 1;\"/></g><g class=\"point\"><path d=\"M0,0Z\" style=\"vector-effect: non-scaling-stroke; opacity: 1; stroke-width: 0px; fill: rgb(0, 204, 150); fill-opacity: 1;\"/></g><g class=\"point\"><path d=\"M0,0Z\" style=\"vector-effect: non-scaling-stroke; opacity: 1; stroke-width: 0px; fill: rgb(0, 204, 150); fill-opacity: 1;\"/></g><g class=\"point\"><path d=\"M151.86,360V357.98H152.16V360Z\" style=\"vector-effect: non-scaling-stroke; opacity: 1; stroke-width: 0px; fill: rgb(0, 204, 150); fill-opacity: 1;\"/></g><g class=\"point\"><path d=\"M0,0Z\" style=\"vector-effect: non-scaling-stroke; opacity: 1; stroke-width: 0px; fill: rgb(0, 204, 150); fill-opacity: 1;\"/></g><g class=\"point\"><path d=\"M155.63,360V358.99H155.94V360Z\" style=\"vector-effect: non-scaling-stroke; opacity: 1; stroke-width: 0px; fill: rgb(0, 204, 150); fill-opacity: 1;\"/></g><g class=\"point\"><path d=\"M157.52,360V358.99H157.82V360Z\" style=\"vector-effect: non-scaling-stroke; opacity: 1; stroke-width: 0px; fill: rgb(0, 204, 150); fill-opacity: 1;\"/></g><g class=\"point\"><path d=\"M0,0Z\" style=\"vector-effect: non-scaling-stroke; opacity: 1; stroke-width: 0px; fill: rgb(0, 204, 150); fill-opacity: 1;\"/></g><g class=\"point\"><path d=\"M0,0Z\" style=\"vector-effect: non-scaling-stroke; opacity: 1; stroke-width: 0px; fill: rgb(0, 204, 150); fill-opacity: 1;\"/></g><g class=\"point\"><path d=\"M0,0Z\" style=\"vector-effect: non-scaling-stroke; opacity: 1; stroke-width: 0px; fill: rgb(0, 204, 150); fill-opacity: 1;\"/></g><g class=\"point\"><path d=\"M0,0Z\" style=\"vector-effect: non-scaling-stroke; opacity: 1; stroke-width: 0px; fill: rgb(0, 204, 150); fill-opacity: 1;\"/></g><g class=\"point\"><path d=\"M0,0Z\" style=\"vector-effect: non-scaling-stroke; opacity: 1; stroke-width: 0px; fill: rgb(0, 204, 150); fill-opacity: 1;\"/></g><g class=\"point\"><path d=\"M168.85,360V358.99H169.15V360Z\" style=\"vector-effect: non-scaling-stroke; opacity: 1; stroke-width: 0px; fill: rgb(0, 204, 150); fill-opacity: 1;\"/></g><g class=\"point\"><path d=\"M0,0Z\" style=\"vector-effect: non-scaling-stroke; opacity: 1; stroke-width: 0px; fill: rgb(0, 204, 150); fill-opacity: 1;\"/></g><g class=\"point\"><path d=\"M172.63,360V358.99H172.93V360Z\" style=\"vector-effect: non-scaling-stroke; opacity: 1; stroke-width: 0px; fill: rgb(0, 204, 150); fill-opacity: 1;\"/></g><g class=\"point\"><path d=\"M174.52,360V358.99H174.82V360Z\" style=\"vector-effect: non-scaling-stroke; opacity: 1; stroke-width: 0px; fill: rgb(0, 204, 150); fill-opacity: 1;\"/></g><g class=\"point\"><path d=\"M0,0Z\" style=\"vector-effect: non-scaling-stroke; opacity: 1; stroke-width: 0px; fill: rgb(0, 204, 150); fill-opacity: 1;\"/></g><g class=\"point\"><path d=\"M0,0Z\" style=\"vector-effect: non-scaling-stroke; opacity: 1; stroke-width: 0px; fill: rgb(0, 204, 150); fill-opacity: 1;\"/></g><g class=\"point\"><path d=\"M0,0Z\" style=\"vector-effect: non-scaling-stroke; opacity: 1; stroke-width: 0px; fill: rgb(0, 204, 150); fill-opacity: 1;\"/></g><g class=\"point\"><path d=\"M0,0Z\" style=\"vector-effect: non-scaling-stroke; opacity: 1; stroke-width: 0px; fill: rgb(0, 204, 150); fill-opacity: 1;\"/></g><g class=\"point\"><path d=\"M0,0Z\" style=\"vector-effect: non-scaling-stroke; opacity: 1; stroke-width: 0px; fill: rgb(0, 204, 150); fill-opacity: 1;\"/></g><g class=\"point\"><path d=\"M0,0Z\" style=\"vector-effect: non-scaling-stroke; opacity: 1; stroke-width: 0px; fill: rgb(0, 204, 150); fill-opacity: 1;\"/></g><g class=\"point\"><path d=\"M0,0Z\" style=\"vector-effect: non-scaling-stroke; opacity: 1; stroke-width: 0px; fill: rgb(0, 204, 150); fill-opacity: 1;\"/></g><g class=\"point\"><path d=\"M189.62,360V358.99H189.92V360Z\" style=\"vector-effect: non-scaling-stroke; opacity: 1; stroke-width: 0px; fill: rgb(0, 204, 150); fill-opacity: 1;\"/></g><g class=\"point\"><path d=\"M191.51,360V358.99H191.81V360Z\" style=\"vector-effect: non-scaling-stroke; opacity: 1; stroke-width: 0px; fill: rgb(0, 204, 150); fill-opacity: 1;\"/></g><g class=\"point\"><path d=\"M0,0Z\" style=\"vector-effect: non-scaling-stroke; opacity: 1; stroke-width: 0px; fill: rgb(0, 204, 150); fill-opacity: 1;\"/></g><g class=\"point\"><path d=\"M195.29,360V357.98H195.59V360Z\" style=\"vector-effect: non-scaling-stroke; opacity: 1; stroke-width: 0px; fill: rgb(0, 204, 150); fill-opacity: 1;\"/></g><g class=\"point\"><path d=\"M0,0Z\" style=\"vector-effect: non-scaling-stroke; opacity: 1; stroke-width: 0px; fill: rgb(0, 204, 150); fill-opacity: 1;\"/></g><g class=\"point\"><path d=\"M199.06,360V358.99H199.37V360Z\" style=\"vector-effect: non-scaling-stroke; opacity: 1; stroke-width: 0px; fill: rgb(0, 204, 150); fill-opacity: 1;\"/></g><g class=\"point\"><path d=\"M0,0Z\" style=\"vector-effect: non-scaling-stroke; opacity: 1; stroke-width: 0px; fill: rgb(0, 204, 150); fill-opacity: 1;\"/></g><g class=\"point\"><path d=\"M202.84,360V358.99H203.14V360Z\" style=\"vector-effect: non-scaling-stroke; opacity: 1; stroke-width: 0px; fill: rgb(0, 204, 150); fill-opacity: 1;\"/></g><g class=\"point\"><path d=\"M0,0Z\" style=\"vector-effect: non-scaling-stroke; opacity: 1; stroke-width: 0px; fill: rgb(0, 204, 150); fill-opacity: 1;\"/></g><g class=\"point\"><path d=\"M206.62,360V358.99H206.92V360Z\" style=\"vector-effect: non-scaling-stroke; opacity: 1; stroke-width: 0px; fill: rgb(0, 204, 150); fill-opacity: 1;\"/></g><g class=\"point\"><path d=\"M208.51,360V358.99H208.81V360Z\" style=\"vector-effect: non-scaling-stroke; opacity: 1; stroke-width: 0px; fill: rgb(0, 204, 150); fill-opacity: 1;\"/></g><g class=\"point\"><path d=\"M210.39,360V358.99H210.7V360Z\" style=\"vector-effect: non-scaling-stroke; opacity: 1; stroke-width: 0px; fill: rgb(0, 204, 150); fill-opacity: 1;\"/></g><g class=\"point\"><path d=\"M212.28,360V357.98H212.58V360Z\" style=\"vector-effect: non-scaling-stroke; opacity: 1; stroke-width: 0px; fill: rgb(0, 204, 150); fill-opacity: 1;\"/></g><g class=\"point\"><path d=\"M214.17,360V358.99H214.47V360Z\" style=\"vector-effect: non-scaling-stroke; opacity: 1; stroke-width: 0px; fill: rgb(0, 204, 150); fill-opacity: 1;\"/></g><g class=\"point\"><path d=\"M216.06,360V358.99H216.36V360Z\" style=\"vector-effect: non-scaling-stroke; opacity: 1; stroke-width: 0px; fill: rgb(0, 204, 150); fill-opacity: 1;\"/></g><g class=\"point\"><path d=\"M217.95,360V358.99H218.25V360Z\" style=\"vector-effect: non-scaling-stroke; opacity: 1; stroke-width: 0px; fill: rgb(0, 204, 150); fill-opacity: 1;\"/></g><g class=\"point\"><path d=\"M219.84,360V358.99H220.14V360Z\" style=\"vector-effect: non-scaling-stroke; opacity: 1; stroke-width: 0px; fill: rgb(0, 204, 150); fill-opacity: 1;\"/></g><g class=\"point\"><path d=\"M221.72,360V358.99H222.03V360Z\" style=\"vector-effect: non-scaling-stroke; opacity: 1; stroke-width: 0px; fill: rgb(0, 204, 150); fill-opacity: 1;\"/></g><g class=\"point\"><path d=\"M223.61,360V358.99H223.91V360Z\" style=\"vector-effect: non-scaling-stroke; opacity: 1; stroke-width: 0px; fill: rgb(0, 204, 150); fill-opacity: 1;\"/></g><g class=\"point\"><path d=\"M225.5,360V358.99H225.8V360Z\" style=\"vector-effect: non-scaling-stroke; opacity: 1; stroke-width: 0px; fill: rgb(0, 204, 150); fill-opacity: 1;\"/></g><g class=\"point\"><path d=\"M227.39,360V358.99H227.69V360Z\" style=\"vector-effect: non-scaling-stroke; opacity: 1; stroke-width: 0px; fill: rgb(0, 204, 150); fill-opacity: 1;\"/></g><g class=\"point\"><path d=\"M229.28,360V349.91H229.58V360Z\" style=\"vector-effect: non-scaling-stroke; opacity: 1; stroke-width: 0px; fill: rgb(0, 204, 150); fill-opacity: 1;\"/></g><g class=\"point\"><path d=\"M231.17,360V357.98H231.47V360Z\" style=\"vector-effect: non-scaling-stroke; opacity: 1; stroke-width: 0px; fill: rgb(0, 204, 150); fill-opacity: 1;\"/></g><g class=\"point\"><path d=\"M233.05,360V357.98H233.36V360Z\" style=\"vector-effect: non-scaling-stroke; opacity: 1; stroke-width: 0px; fill: rgb(0, 204, 150); fill-opacity: 1;\"/></g><g class=\"point\"><path d=\"M234.94,360V356.97H235.24V360Z\" style=\"vector-effect: non-scaling-stroke; opacity: 1; stroke-width: 0px; fill: rgb(0, 204, 150); fill-opacity: 1;\"/></g><g class=\"point\"><path d=\"M236.83,360V356.97H237.13V360Z\" style=\"vector-effect: non-scaling-stroke; opacity: 1; stroke-width: 0px; fill: rgb(0, 204, 150); fill-opacity: 1;\"/></g><g class=\"point\"><path d=\"M238.72,360V358.99H239.02V360Z\" style=\"vector-effect: non-scaling-stroke; opacity: 1; stroke-width: 0px; fill: rgb(0, 204, 150); fill-opacity: 1;\"/></g><g class=\"point\"><path d=\"M240.61,360V358.99H240.91V360Z\" style=\"vector-effect: non-scaling-stroke; opacity: 1; stroke-width: 0px; fill: rgb(0, 204, 150); fill-opacity: 1;\"/></g><g class=\"point\"><path d=\"M242.5,360V356.97H242.8V360Z\" style=\"vector-effect: non-scaling-stroke; opacity: 1; stroke-width: 0px; fill: rgb(0, 204, 150); fill-opacity: 1;\"/></g><g class=\"point\"><path d=\"M244.38,360V358.99H244.69V360Z\" style=\"vector-effect: non-scaling-stroke; opacity: 1; stroke-width: 0px; fill: rgb(0, 204, 150); fill-opacity: 1;\"/></g><g class=\"point\"><path d=\"M246.27,360V357.98H246.57V360Z\" style=\"vector-effect: non-scaling-stroke; opacity: 1; stroke-width: 0px; fill: rgb(0, 204, 150); fill-opacity: 1;\"/></g><g class=\"point\"><path d=\"M248.16,360V354.96H248.46V360Z\" style=\"vector-effect: non-scaling-stroke; opacity: 1; stroke-width: 0px; fill: rgb(0, 204, 150); fill-opacity: 1;\"/></g><g class=\"point\"><path d=\"M250.05,360V357.98H250.35V360Z\" style=\"vector-effect: non-scaling-stroke; opacity: 1; stroke-width: 0px; fill: rgb(0, 204, 150); fill-opacity: 1;\"/></g><g class=\"point\"><path d=\"M251.94,360V358.99H252.24V360Z\" style=\"vector-effect: non-scaling-stroke; opacity: 1; stroke-width: 0px; fill: rgb(0, 204, 150); fill-opacity: 1;\"/></g><g class=\"point\"><path d=\"M253.82,360V355.96H254.13V360Z\" style=\"vector-effect: non-scaling-stroke; opacity: 1; stroke-width: 0px; fill: rgb(0, 204, 150); fill-opacity: 1;\"/></g><g class=\"point\"><path d=\"M0,0Z\" style=\"vector-effect: non-scaling-stroke; opacity: 1; stroke-width: 0px; fill: rgb(0, 204, 150); fill-opacity: 1;\"/></g><g class=\"point\"><path d=\"M257.6,360V355.96H257.9V360Z\" style=\"vector-effect: non-scaling-stroke; opacity: 1; stroke-width: 0px; fill: rgb(0, 204, 150); fill-opacity: 1;\"/></g><g class=\"point\"><path d=\"M259.49,360V356.97H259.79V360Z\" style=\"vector-effect: non-scaling-stroke; opacity: 1; stroke-width: 0px; fill: rgb(0, 204, 150); fill-opacity: 1;\"/></g><g class=\"point\"><path d=\"M261.38,360V358.99H261.68V360Z\" style=\"vector-effect: non-scaling-stroke; opacity: 1; stroke-width: 0px; fill: rgb(0, 204, 150); fill-opacity: 1;\"/></g><g class=\"point\"><path d=\"M263.27,360V356.97H263.57V360Z\" style=\"vector-effect: non-scaling-stroke; opacity: 1; stroke-width: 0px; fill: rgb(0, 204, 150); fill-opacity: 1;\"/></g><g class=\"point\"><path d=\"M265.15,360V357.98H265.46V360Z\" style=\"vector-effect: non-scaling-stroke; opacity: 1; stroke-width: 0px; fill: rgb(0, 204, 150); fill-opacity: 1;\"/></g><g class=\"point\"><path d=\"M267.04,360V358.99H267.35V360Z\" style=\"vector-effect: non-scaling-stroke; opacity: 1; stroke-width: 0px; fill: rgb(0, 204, 150); fill-opacity: 1;\"/></g><g class=\"point\"><path d=\"M268.93,360V354.96H269.23V360Z\" style=\"vector-effect: non-scaling-stroke; opacity: 1; stroke-width: 0px; fill: rgb(0, 204, 150); fill-opacity: 1;\"/></g><g class=\"point\"><path d=\"M270.82,360V358.99H271.12V360Z\" style=\"vector-effect: non-scaling-stroke; opacity: 1; stroke-width: 0px; fill: rgb(0, 204, 150); fill-opacity: 1;\"/></g><g class=\"point\"><path d=\"M272.71,360V358.99H273.01V360Z\" style=\"vector-effect: non-scaling-stroke; opacity: 1; stroke-width: 0px; fill: rgb(0, 204, 150); fill-opacity: 1;\"/></g><g class=\"point\"><path d=\"M274.6,360V354.96H274.9V360Z\" style=\"vector-effect: non-scaling-stroke; opacity: 1; stroke-width: 0px; fill: rgb(0, 204, 150); fill-opacity: 1;\"/></g><g class=\"point\"><path d=\"M276.48,360V356.97H276.79V360Z\" style=\"vector-effect: non-scaling-stroke; opacity: 1; stroke-width: 0px; fill: rgb(0, 204, 150); fill-opacity: 1;\"/></g><g class=\"point\"><path d=\"M278.37,360V356.97H278.67V360Z\" style=\"vector-effect: non-scaling-stroke; opacity: 1; stroke-width: 0px; fill: rgb(0, 204, 150); fill-opacity: 1;\"/></g><g class=\"point\"><path d=\"M0,0Z\" style=\"vector-effect: non-scaling-stroke; opacity: 1; stroke-width: 0px; fill: rgb(0, 204, 150); fill-opacity: 1;\"/></g><g class=\"point\"><path d=\"M282.15,360V356.97H282.45V360Z\" style=\"vector-effect: non-scaling-stroke; opacity: 1; stroke-width: 0px; fill: rgb(0, 204, 150); fill-opacity: 1;\"/></g><g class=\"point\"><path d=\"M284.04,360V356.97H284.34V360Z\" style=\"vector-effect: non-scaling-stroke; opacity: 1; stroke-width: 0px; fill: rgb(0, 204, 150); fill-opacity: 1;\"/></g><g class=\"point\"><path d=\"M285.93,360V356.97H286.23V360Z\" style=\"vector-effect: non-scaling-stroke; opacity: 1; stroke-width: 0px; fill: rgb(0, 204, 150); fill-opacity: 1;\"/></g><g class=\"point\"><path d=\"M287.81,360V356.97H288.12V360Z\" style=\"vector-effect: non-scaling-stroke; opacity: 1; stroke-width: 0px; fill: rgb(0, 204, 150); fill-opacity: 1;\"/></g><g class=\"point\"><path d=\"M289.7,360V349.91H290V360Z\" style=\"vector-effect: non-scaling-stroke; opacity: 1; stroke-width: 0px; fill: rgb(0, 204, 150); fill-opacity: 1;\"/></g><g class=\"point\"><path d=\"M291.59,360V357.98H291.89V360Z\" style=\"vector-effect: non-scaling-stroke; opacity: 1; stroke-width: 0px; fill: rgb(0, 204, 150); fill-opacity: 1;\"/></g><g class=\"point\"><path d=\"M293.48,360V357.98H293.78V360Z\" style=\"vector-effect: non-scaling-stroke; opacity: 1; stroke-width: 0px; fill: rgb(0, 204, 150); fill-opacity: 1;\"/></g><g class=\"point\"><path d=\"M295.37,360V357.98H295.67V360Z\" style=\"vector-effect: non-scaling-stroke; opacity: 1; stroke-width: 0px; fill: rgb(0, 204, 150); fill-opacity: 1;\"/></g><g class=\"point\"><path d=\"M297.26,360V357.98H297.56V360Z\" style=\"vector-effect: non-scaling-stroke; opacity: 1; stroke-width: 0px; fill: rgb(0, 204, 150); fill-opacity: 1;\"/></g><g class=\"point\"><path d=\"M299.14,360V356.97H299.45V360Z\" style=\"vector-effect: non-scaling-stroke; opacity: 1; stroke-width: 0px; fill: rgb(0, 204, 150); fill-opacity: 1;\"/></g><g class=\"point\"><path d=\"M301.03,360V357.98H301.33V360Z\" style=\"vector-effect: non-scaling-stroke; opacity: 1; stroke-width: 0px; fill: rgb(0, 204, 150); fill-opacity: 1;\"/></g><g class=\"point\"><path d=\"M302.92,360V354.96H303.22V360Z\" style=\"vector-effect: non-scaling-stroke; opacity: 1; stroke-width: 0px; fill: rgb(0, 204, 150); fill-opacity: 1;\"/></g><g class=\"point\"><path d=\"M304.81,360V355.96H305.11V360Z\" style=\"vector-effect: non-scaling-stroke; opacity: 1; stroke-width: 0px; fill: rgb(0, 204, 150); fill-opacity: 1;\"/></g><g class=\"point\"><path d=\"M306.7,360V358.99H307V360Z\" style=\"vector-effect: non-scaling-stroke; opacity: 1; stroke-width: 0px; fill: rgb(0, 204, 150); fill-opacity: 1;\"/></g><g class=\"point\"><path d=\"M308.59,360V356.97H308.89V360Z\" style=\"vector-effect: non-scaling-stroke; opacity: 1; stroke-width: 0px; fill: rgb(0, 204, 150); fill-opacity: 1;\"/></g><g class=\"point\"><path d=\"M310.47,360V334.78H310.78V360Z\" style=\"vector-effect: non-scaling-stroke; opacity: 1; stroke-width: 0px; fill: rgb(0, 204, 150); fill-opacity: 1;\"/></g><g class=\"point\"><path d=\"M312.36,360V356.97H312.66V360Z\" style=\"vector-effect: non-scaling-stroke; opacity: 1; stroke-width: 0px; fill: rgb(0, 204, 150); fill-opacity: 1;\"/></g><g class=\"point\"><path d=\"M314.25,360V356.97H314.55V360Z\" style=\"vector-effect: non-scaling-stroke; opacity: 1; stroke-width: 0px; fill: rgb(0, 204, 150); fill-opacity: 1;\"/></g><g class=\"point\"><path d=\"M316.14,360V357.98H316.44V360Z\" style=\"vector-effect: non-scaling-stroke; opacity: 1; stroke-width: 0px; fill: rgb(0, 204, 150); fill-opacity: 1;\"/></g><g class=\"point\"><path d=\"M318.03,360V353.95H318.33V360Z\" style=\"vector-effect: non-scaling-stroke; opacity: 1; stroke-width: 0px; fill: rgb(0, 204, 150); fill-opacity: 1;\"/></g><g class=\"point\"><path d=\"M319.92,360V356.97H320.22V360Z\" style=\"vector-effect: non-scaling-stroke; opacity: 1; stroke-width: 0px; fill: rgb(0, 204, 150); fill-opacity: 1;\"/></g><g class=\"point\"><path d=\"M321.8,360V355.96H322.11V360Z\" style=\"vector-effect: non-scaling-stroke; opacity: 1; stroke-width: 0px; fill: rgb(0, 204, 150); fill-opacity: 1;\"/></g><g class=\"point\"><path d=\"M0,0Z\" style=\"vector-effect: non-scaling-stroke; opacity: 1; stroke-width: 0px; fill: rgb(0, 204, 150); fill-opacity: 1;\"/></g><g class=\"point\"><path d=\"M325.58,360V358.99H325.88V360Z\" style=\"vector-effect: non-scaling-stroke; opacity: 1; stroke-width: 0px; fill: rgb(0, 204, 150); fill-opacity: 1;\"/></g><g class=\"point\"><path d=\"M327.47,360V356.97H327.77V360Z\" style=\"vector-effect: non-scaling-stroke; opacity: 1; stroke-width: 0px; fill: rgb(0, 204, 150); fill-opacity: 1;\"/></g><g class=\"point\"><path d=\"M329.36,360V358.99H329.66V360Z\" style=\"vector-effect: non-scaling-stroke; opacity: 1; stroke-width: 0px; fill: rgb(0, 204, 150); fill-opacity: 1;\"/></g><g class=\"point\"><path d=\"M331.25,360V357.98H331.55V360Z\" style=\"vector-effect: non-scaling-stroke; opacity: 1; stroke-width: 0px; fill: rgb(0, 204, 150); fill-opacity: 1;\"/></g><g class=\"point\"><path d=\"M0,0Z\" style=\"vector-effect: non-scaling-stroke; opacity: 1; stroke-width: 0px; fill: rgb(0, 204, 150); fill-opacity: 1;\"/></g><g class=\"point\"><path d=\"M335.02,360V358.99H335.32V360Z\" style=\"vector-effect: non-scaling-stroke; opacity: 1; stroke-width: 0px; fill: rgb(0, 204, 150); fill-opacity: 1;\"/></g><g class=\"point\"><path d=\"M336.91,360V358.99H337.21V360Z\" style=\"vector-effect: non-scaling-stroke; opacity: 1; stroke-width: 0px; fill: rgb(0, 204, 150); fill-opacity: 1;\"/></g><g class=\"point\"><path d=\"M0,0Z\" style=\"vector-effect: non-scaling-stroke; opacity: 1; stroke-width: 0px; fill: rgb(0, 204, 150); fill-opacity: 1;\"/></g><g class=\"point\"><path d=\"M340.69,360V310.57H340.99V360Z\" style=\"vector-effect: non-scaling-stroke; opacity: 1; stroke-width: 0px; fill: rgb(0, 204, 150); fill-opacity: 1;\"/></g><g class=\"point\"><path d=\"M342.57,360V358.99H342.88V360Z\" style=\"vector-effect: non-scaling-stroke; opacity: 1; stroke-width: 0px; fill: rgb(0, 204, 150); fill-opacity: 1;\"/></g><g class=\"point\"><path d=\"M344.46,360V358.99H344.77V360Z\" style=\"vector-effect: non-scaling-stroke; opacity: 1; stroke-width: 0px; fill: rgb(0, 204, 150); fill-opacity: 1;\"/></g><g class=\"point\"><path d=\"M346.35,360V358.99H346.65V360Z\" style=\"vector-effect: non-scaling-stroke; opacity: 1; stroke-width: 0px; fill: rgb(0, 204, 150); fill-opacity: 1;\"/></g></g></g><g class=\"trace bars\" style=\"opacity: 1;\"><g class=\"points\"><g class=\"point\"><path d=\"M25.64,360V357.98H25.95V360Z\" style=\"vector-effect: non-scaling-stroke; opacity: 1; stroke-width: 0px; fill: rgb(171, 99, 250); fill-opacity: 1;\"/></g><g class=\"point\"><path d=\"M0,0Z\" style=\"vector-effect: non-scaling-stroke; opacity: 1; stroke-width: 0px; fill: rgb(171, 99, 250); fill-opacity: 1;\"/></g><g class=\"point\"><path d=\"M0,0Z\" style=\"vector-effect: non-scaling-stroke; opacity: 1; stroke-width: 0px; fill: rgb(171, 99, 250); fill-opacity: 1;\"/></g><g class=\"point\"><path d=\"M31.31,360V357.98H31.61V360Z\" style=\"vector-effect: non-scaling-stroke; opacity: 1; stroke-width: 0px; fill: rgb(171, 99, 250); fill-opacity: 1;\"/></g><g class=\"point\"><path d=\"M0,0Z\" style=\"vector-effect: non-scaling-stroke; opacity: 1; stroke-width: 0px; fill: rgb(171, 99, 250); fill-opacity: 1;\"/></g><g class=\"point\"><path d=\"M0,0Z\" style=\"vector-effect: non-scaling-stroke; opacity: 1; stroke-width: 0px; fill: rgb(171, 99, 250); fill-opacity: 1;\"/></g><g class=\"point\"><path d=\"M36.97,360V358.99H37.27V360Z\" style=\"vector-effect: non-scaling-stroke; opacity: 1; stroke-width: 0px; fill: rgb(171, 99, 250); fill-opacity: 1;\"/></g><g class=\"point\"><path d=\"M0,0Z\" style=\"vector-effect: non-scaling-stroke; opacity: 1; stroke-width: 0px; fill: rgb(171, 99, 250); fill-opacity: 1;\"/></g><g class=\"point\"><path d=\"M40.75,360V357.98H41.05V360Z\" style=\"vector-effect: non-scaling-stroke; opacity: 1; stroke-width: 0px; fill: rgb(171, 99, 250); fill-opacity: 1;\"/></g><g class=\"point\"><path d=\"M0,0Z\" style=\"vector-effect: non-scaling-stroke; opacity: 1; stroke-width: 0px; fill: rgb(171, 99, 250); fill-opacity: 1;\"/></g><g class=\"point\"><path d=\"M0,0Z\" style=\"vector-effect: non-scaling-stroke; opacity: 1; stroke-width: 0px; fill: rgb(171, 99, 250); fill-opacity: 1;\"/></g><g class=\"point\"><path d=\"M0,0Z\" style=\"vector-effect: non-scaling-stroke; opacity: 1; stroke-width: 0px; fill: rgb(171, 99, 250); fill-opacity: 1;\"/></g><g class=\"point\"><path d=\"M0,0Z\" style=\"vector-effect: non-scaling-stroke; opacity: 1; stroke-width: 0px; fill: rgb(171, 99, 250); fill-opacity: 1;\"/></g><g class=\"point\"><path d=\"M50.19,360V357.98H50.49V360Z\" style=\"vector-effect: non-scaling-stroke; opacity: 1; stroke-width: 0px; fill: rgb(171, 99, 250); fill-opacity: 1;\"/></g><g class=\"point\"><path d=\"M0,0Z\" style=\"vector-effect: non-scaling-stroke; opacity: 1; stroke-width: 0px; fill: rgb(171, 99, 250); fill-opacity: 1;\"/></g><g class=\"point\"><path d=\"M0,0Z\" style=\"vector-effect: non-scaling-stroke; opacity: 1; stroke-width: 0px; fill: rgb(171, 99, 250); fill-opacity: 1;\"/></g><g class=\"point\"><path d=\"M0,0Z\" style=\"vector-effect: non-scaling-stroke; opacity: 1; stroke-width: 0px; fill: rgb(171, 99, 250); fill-opacity: 1;\"/></g><g class=\"point\"><path d=\"M57.74,360V358.99H58.05V360Z\" style=\"vector-effect: non-scaling-stroke; opacity: 1; stroke-width: 0px; fill: rgb(171, 99, 250); fill-opacity: 1;\"/></g><g class=\"point\"><path d=\"M59.63,360V357.98H59.93V360Z\" style=\"vector-effect: non-scaling-stroke; opacity: 1; stroke-width: 0px; fill: rgb(171, 99, 250); fill-opacity: 1;\"/></g><g class=\"point\"><path d=\"M61.52,360V358.99H61.82V360Z\" style=\"vector-effect: non-scaling-stroke; opacity: 1; stroke-width: 0px; fill: rgb(171, 99, 250); fill-opacity: 1;\"/></g><g class=\"point\"><path d=\"M0,0Z\" style=\"vector-effect: non-scaling-stroke; opacity: 1; stroke-width: 0px; fill: rgb(171, 99, 250); fill-opacity: 1;\"/></g><g class=\"point\"><path d=\"M65.3,360V358.99H65.6V360Z\" style=\"vector-effect: non-scaling-stroke; opacity: 1; stroke-width: 0px; fill: rgb(171, 99, 250); fill-opacity: 1;\"/></g><g class=\"point\"><path d=\"M0,0Z\" style=\"vector-effect: non-scaling-stroke; opacity: 1; stroke-width: 0px; fill: rgb(171, 99, 250); fill-opacity: 1;\"/></g><g class=\"point\"><path d=\"M69.07,360V357.98H69.38V360Z\" style=\"vector-effect: non-scaling-stroke; opacity: 1; stroke-width: 0px; fill: rgb(171, 99, 250); fill-opacity: 1;\"/></g><g class=\"point\"><path d=\"M70.96,360V357.98H71.26V360Z\" style=\"vector-effect: non-scaling-stroke; opacity: 1; stroke-width: 0px; fill: rgb(171, 99, 250); fill-opacity: 1;\"/></g><g class=\"point\"><path d=\"M72.85,360V358.99H73.15V360Z\" style=\"vector-effect: non-scaling-stroke; opacity: 1; stroke-width: 0px; fill: rgb(171, 99, 250); fill-opacity: 1;\"/></g><g class=\"point\"><path d=\"M0,0Z\" style=\"vector-effect: non-scaling-stroke; opacity: 1; stroke-width: 0px; fill: rgb(171, 99, 250); fill-opacity: 1;\"/></g><g class=\"point\"><path d=\"M76.63,360V358.99H76.93V360Z\" style=\"vector-effect: non-scaling-stroke; opacity: 1; stroke-width: 0px; fill: rgb(171, 99, 250); fill-opacity: 1;\"/></g><g class=\"point\"><path d=\"M78.52,360V358.99H78.82V360Z\" style=\"vector-effect: non-scaling-stroke; opacity: 1; stroke-width: 0px; fill: rgb(171, 99, 250); fill-opacity: 1;\"/></g><g class=\"point\"><path d=\"M0,0Z\" style=\"vector-effect: non-scaling-stroke; opacity: 1; stroke-width: 0px; fill: rgb(171, 99, 250); fill-opacity: 1;\"/></g><g class=\"point\"><path d=\"M82.29,360V358.99H82.59V360Z\" style=\"vector-effect: non-scaling-stroke; opacity: 1; stroke-width: 0px; fill: rgb(171, 99, 250); fill-opacity: 1;\"/></g><g class=\"point\"><path d=\"M84.18,360V355.96H84.48V360Z\" style=\"vector-effect: non-scaling-stroke; opacity: 1; stroke-width: 0px; fill: rgb(171, 99, 250); fill-opacity: 1;\"/></g><g class=\"point\"><path d=\"M86.07,360V357.98H86.37V360Z\" style=\"vector-effect: non-scaling-stroke; opacity: 1; stroke-width: 0px; fill: rgb(171, 99, 250); fill-opacity: 1;\"/></g><g class=\"point\"><path d=\"M87.96,360V356.97H88.26V360Z\" style=\"vector-effect: non-scaling-stroke; opacity: 1; stroke-width: 0px; fill: rgb(171, 99, 250); fill-opacity: 1;\"/></g><g class=\"point\"><path d=\"M89.85,360V357.98H90.15V360Z\" style=\"vector-effect: non-scaling-stroke; opacity: 1; stroke-width: 0px; fill: rgb(171, 99, 250); fill-opacity: 1;\"/></g><g class=\"point\"><path d=\"M91.73,360V357.98H92.04V360Z\" style=\"vector-effect: non-scaling-stroke; opacity: 1; stroke-width: 0px; fill: rgb(171, 99, 250); fill-opacity: 1;\"/></g><g class=\"point\"><path d=\"M93.62,360V356.97H93.92V360Z\" style=\"vector-effect: non-scaling-stroke; opacity: 1; stroke-width: 0px; fill: rgb(171, 99, 250); fill-opacity: 1;\"/></g><g class=\"point\"><path d=\"M0,0Z\" style=\"vector-effect: non-scaling-stroke; opacity: 1; stroke-width: 0px; fill: rgb(171, 99, 250); fill-opacity: 1;\"/></g><g class=\"point\"><path d=\"M97.4,360V358.99H97.7V360Z\" style=\"vector-effect: non-scaling-stroke; opacity: 1; stroke-width: 0px; fill: rgb(171, 99, 250); fill-opacity: 1;\"/></g><g class=\"point\"><path d=\"M99.29,360V357.98H99.59V360Z\" style=\"vector-effect: non-scaling-stroke; opacity: 1; stroke-width: 0px; fill: rgb(171, 99, 250); fill-opacity: 1;\"/></g><g class=\"point\"><path d=\"M101.17,360V358.99H101.48V360Z\" style=\"vector-effect: non-scaling-stroke; opacity: 1; stroke-width: 0px; fill: rgb(171, 99, 250); fill-opacity: 1;\"/></g><g class=\"point\"><path d=\"M103.06,360V356.97H103.37V360Z\" style=\"vector-effect: non-scaling-stroke; opacity: 1; stroke-width: 0px; fill: rgb(171, 99, 250); fill-opacity: 1;\"/></g><g class=\"point\"><path d=\"M104.95,360V358.99H105.25V360Z\" style=\"vector-effect: non-scaling-stroke; opacity: 1; stroke-width: 0px; fill: rgb(171, 99, 250); fill-opacity: 1;\"/></g><g class=\"point\"><path d=\"M106.84,360V355.96H107.14V360Z\" style=\"vector-effect: non-scaling-stroke; opacity: 1; stroke-width: 0px; fill: rgb(171, 99, 250); fill-opacity: 1;\"/></g><g class=\"point\"><path d=\"M108.73,360V356.97H109.03V360Z\" style=\"vector-effect: non-scaling-stroke; opacity: 1; stroke-width: 0px; fill: rgb(171, 99, 250); fill-opacity: 1;\"/></g><g class=\"point\"><path d=\"M110.62,360V355.96H110.92V360Z\" style=\"vector-effect: non-scaling-stroke; opacity: 1; stroke-width: 0px; fill: rgb(171, 99, 250); fill-opacity: 1;\"/></g><g class=\"point\"><path d=\"M112.5,360V356.97H112.81V360Z\" style=\"vector-effect: non-scaling-stroke; opacity: 1; stroke-width: 0px; fill: rgb(171, 99, 250); fill-opacity: 1;\"/></g><g class=\"point\"><path d=\"M114.39,360V357.98H114.7V360Z\" style=\"vector-effect: non-scaling-stroke; opacity: 1; stroke-width: 0px; fill: rgb(171, 99, 250); fill-opacity: 1;\"/></g><g class=\"point\"><path d=\"M116.28,360V356.97H116.58V360Z\" style=\"vector-effect: non-scaling-stroke; opacity: 1; stroke-width: 0px; fill: rgb(171, 99, 250); fill-opacity: 1;\"/></g><g class=\"point\"><path d=\"M118.17,360V357.98H118.47V360Z\" style=\"vector-effect: non-scaling-stroke; opacity: 1; stroke-width: 0px; fill: rgb(171, 99, 250); fill-opacity: 1;\"/></g><g class=\"point\"><path d=\"M120.06,360V358.99H120.36V360Z\" style=\"vector-effect: non-scaling-stroke; opacity: 1; stroke-width: 0px; fill: rgb(171, 99, 250); fill-opacity: 1;\"/></g><g class=\"point\"><path d=\"M121.95,360V351.93H122.25V360Z\" style=\"vector-effect: non-scaling-stroke; opacity: 1; stroke-width: 0px; fill: rgb(171, 99, 250); fill-opacity: 1;\"/></g><g class=\"point\"><path d=\"M123.83,360V356.97H124.14V360Z\" style=\"vector-effect: non-scaling-stroke; opacity: 1; stroke-width: 0px; fill: rgb(171, 99, 250); fill-opacity: 1;\"/></g><g class=\"point\"><path d=\"M125.72,360V356.97H126.02V360Z\" style=\"vector-effect: non-scaling-stroke; opacity: 1; stroke-width: 0px; fill: rgb(171, 99, 250); fill-opacity: 1;\"/></g><g class=\"point\"><path d=\"M127.61,360V355.96H127.91V360Z\" style=\"vector-effect: non-scaling-stroke; opacity: 1; stroke-width: 0px; fill: rgb(171, 99, 250); fill-opacity: 1;\"/></g><g class=\"point\"><path d=\"M129.5,360V358.99H129.8V360Z\" style=\"vector-effect: non-scaling-stroke; opacity: 1; stroke-width: 0px; fill: rgb(171, 99, 250); fill-opacity: 1;\"/></g><g class=\"point\"><path d=\"M131.39,360V355.96H131.69V360Z\" style=\"vector-effect: non-scaling-stroke; opacity: 1; stroke-width: 0px; fill: rgb(171, 99, 250); fill-opacity: 1;\"/></g><g class=\"point\"><path d=\"M133.28,360V354.96H133.58V360Z\" style=\"vector-effect: non-scaling-stroke; opacity: 1; stroke-width: 0px; fill: rgb(171, 99, 250); fill-opacity: 1;\"/></g><g class=\"point\"><path d=\"M135.16,360V356.97H135.47V360Z\" style=\"vector-effect: non-scaling-stroke; opacity: 1; stroke-width: 0px; fill: rgb(171, 99, 250); fill-opacity: 1;\"/></g><g class=\"point\"><path d=\"M137.05,360V355.96H137.35V360Z\" style=\"vector-effect: non-scaling-stroke; opacity: 1; stroke-width: 0px; fill: rgb(171, 99, 250); fill-opacity: 1;\"/></g><g class=\"point\"><path d=\"M138.94,360V358.99H139.24V360Z\" style=\"vector-effect: non-scaling-stroke; opacity: 1; stroke-width: 0px; fill: rgb(171, 99, 250); fill-opacity: 1;\"/></g><g class=\"point\"><path d=\"M0,0Z\" style=\"vector-effect: non-scaling-stroke; opacity: 1; stroke-width: 0px; fill: rgb(171, 99, 250); fill-opacity: 1;\"/></g><g class=\"point\"><path d=\"M0,0Z\" style=\"vector-effect: non-scaling-stroke; opacity: 1; stroke-width: 0px; fill: rgb(171, 99, 250); fill-opacity: 1;\"/></g><g class=\"point\"><path d=\"M144.61,360V357.98H144.91V360Z\" style=\"vector-effect: non-scaling-stroke; opacity: 1; stroke-width: 0px; fill: rgb(171, 99, 250); fill-opacity: 1;\"/></g><g class=\"point\"><path d=\"M0,0Z\" style=\"vector-effect: non-scaling-stroke; opacity: 1; stroke-width: 0px; fill: rgb(171, 99, 250); fill-opacity: 1;\"/></g><g class=\"point\"><path d=\"M0,0Z\" style=\"vector-effect: non-scaling-stroke; opacity: 1; stroke-width: 0px; fill: rgb(171, 99, 250); fill-opacity: 1;\"/></g><g class=\"point\"><path d=\"M150.27,360V358.99H150.57V360Z\" style=\"vector-effect: non-scaling-stroke; opacity: 1; stroke-width: 0px; fill: rgb(171, 99, 250); fill-opacity: 1;\"/></g><g class=\"point\"><path d=\"M152.16,360V349.91H152.46V360Z\" style=\"vector-effect: non-scaling-stroke; opacity: 1; stroke-width: 0px; fill: rgb(171, 99, 250); fill-opacity: 1;\"/></g><g class=\"point\"><path d=\"M154.05,360V355.96H154.35V360Z\" style=\"vector-effect: non-scaling-stroke; opacity: 1; stroke-width: 0px; fill: rgb(171, 99, 250); fill-opacity: 1;\"/></g><g class=\"point\"><path d=\"M155.94,360V358.99H156.24V360Z\" style=\"vector-effect: non-scaling-stroke; opacity: 1; stroke-width: 0px; fill: rgb(171, 99, 250); fill-opacity: 1;\"/></g><g class=\"point\"><path d=\"M157.82,360V349.91H158.13V360Z\" style=\"vector-effect: non-scaling-stroke; opacity: 1; stroke-width: 0px; fill: rgb(171, 99, 250); fill-opacity: 1;\"/></g><g class=\"point\"><path d=\"M159.71,360V353.95H160.01V360Z\" style=\"vector-effect: non-scaling-stroke; opacity: 1; stroke-width: 0px; fill: rgb(171, 99, 250); fill-opacity: 1;\"/></g><g class=\"point\"><path d=\"M0,0Z\" style=\"vector-effect: non-scaling-stroke; opacity: 1; stroke-width: 0px; fill: rgb(171, 99, 250); fill-opacity: 1;\"/></g><g class=\"point\"><path d=\"M0,0Z\" style=\"vector-effect: non-scaling-stroke; opacity: 1; stroke-width: 0px; fill: rgb(171, 99, 250); fill-opacity: 1;\"/></g><g class=\"point\"><path d=\"M165.38,360V358.99H165.68V360Z\" style=\"vector-effect: non-scaling-stroke; opacity: 1; stroke-width: 0px; fill: rgb(171, 99, 250); fill-opacity: 1;\"/></g><g class=\"point\"><path d=\"M0,0Z\" style=\"vector-effect: non-scaling-stroke; opacity: 1; stroke-width: 0px; fill: rgb(171, 99, 250); fill-opacity: 1;\"/></g><g class=\"point\"><path d=\"M0,0Z\" style=\"vector-effect: non-scaling-stroke; opacity: 1; stroke-width: 0px; fill: rgb(171, 99, 250); fill-opacity: 1;\"/></g><g class=\"point\"><path d=\"M171.04,360V358.99H171.34V360Z\" style=\"vector-effect: non-scaling-stroke; opacity: 1; stroke-width: 0px; fill: rgb(171, 99, 250); fill-opacity: 1;\"/></g><g class=\"point\"><path d=\"M0,0Z\" style=\"vector-effect: non-scaling-stroke; opacity: 1; stroke-width: 0px; fill: rgb(171, 99, 250); fill-opacity: 1;\"/></g><g class=\"point\"><path d=\"M174.82,360V358.99H175.12V360Z\" style=\"vector-effect: non-scaling-stroke; opacity: 1; stroke-width: 0px; fill: rgb(171, 99, 250); fill-opacity: 1;\"/></g><g class=\"point\"><path d=\"M176.71,360V339.82H177.01V360Z\" style=\"vector-effect: non-scaling-stroke; opacity: 1; stroke-width: 0px; fill: rgb(171, 99, 250); fill-opacity: 1;\"/></g><g class=\"point\"><path d=\"M0,0Z\" style=\"vector-effect: non-scaling-stroke; opacity: 1; stroke-width: 0px; fill: rgb(171, 99, 250); fill-opacity: 1;\"/></g><g class=\"point\"><path d=\"M180.48,360V355.96H180.79V360Z\" style=\"vector-effect: non-scaling-stroke; opacity: 1; stroke-width: 0px; fill: rgb(171, 99, 250); fill-opacity: 1;\"/></g><g class=\"point\"><path d=\"M182.37,360V355.96H182.67V360Z\" style=\"vector-effect: non-scaling-stroke; opacity: 1; stroke-width: 0px; fill: rgb(171, 99, 250); fill-opacity: 1;\"/></g><g class=\"point\"><path d=\"M184.26,360V355.96H184.56V360Z\" style=\"vector-effect: non-scaling-stroke; opacity: 1; stroke-width: 0px; fill: rgb(171, 99, 250); fill-opacity: 1;\"/></g><g class=\"point\"><path d=\"M0,0Z\" style=\"vector-effect: non-scaling-stroke; opacity: 1; stroke-width: 0px; fill: rgb(171, 99, 250); fill-opacity: 1;\"/></g><g class=\"point\"><path d=\"M188.04,360V351.93H188.34V360Z\" style=\"vector-effect: non-scaling-stroke; opacity: 1; stroke-width: 0px; fill: rgb(171, 99, 250); fill-opacity: 1;\"/></g><g class=\"point\"><path d=\"M189.92,360V355.96H190.23V360Z\" style=\"vector-effect: non-scaling-stroke; opacity: 1; stroke-width: 0px; fill: rgb(171, 99, 250); fill-opacity: 1;\"/></g><g class=\"point\"><path d=\"M191.81,360V353.95H192.12V360Z\" style=\"vector-effect: non-scaling-stroke; opacity: 1; stroke-width: 0px; fill: rgb(171, 99, 250); fill-opacity: 1;\"/></g><g class=\"point\"><path d=\"M193.7,360V358.99H194V360Z\" style=\"vector-effect: non-scaling-stroke; opacity: 1; stroke-width: 0px; fill: rgb(171, 99, 250); fill-opacity: 1;\"/></g><g class=\"point\"><path d=\"M195.59,360V355.96H195.89V360Z\" style=\"vector-effect: non-scaling-stroke; opacity: 1; stroke-width: 0px; fill: rgb(171, 99, 250); fill-opacity: 1;\"/></g><g class=\"point\"><path d=\"M0,0Z\" style=\"vector-effect: non-scaling-stroke; opacity: 1; stroke-width: 0px; fill: rgb(171, 99, 250); fill-opacity: 1;\"/></g><g class=\"point\"><path d=\"M199.37,360V350.92H199.67V360Z\" style=\"vector-effect: non-scaling-stroke; opacity: 1; stroke-width: 0px; fill: rgb(171, 99, 250); fill-opacity: 1;\"/></g><g class=\"point\"><path d=\"M201.25,360V341.84H201.56V360Z\" style=\"vector-effect: non-scaling-stroke; opacity: 1; stroke-width: 0px; fill: rgb(171, 99, 250); fill-opacity: 1;\"/></g><g class=\"point\"><path d=\"M203.14,360V354.96H203.45V360Z\" style=\"vector-effect: non-scaling-stroke; opacity: 1; stroke-width: 0px; fill: rgb(171, 99, 250); fill-opacity: 1;\"/></g><g class=\"point\"><path d=\"M205.03,360V356.97H205.33V360Z\" style=\"vector-effect: non-scaling-stroke; opacity: 1; stroke-width: 0px; fill: rgb(171, 99, 250); fill-opacity: 1;\"/></g><g class=\"point\"><path d=\"M206.92,360V342.85H207.22V360Z\" style=\"vector-effect: non-scaling-stroke; opacity: 1; stroke-width: 0px; fill: rgb(171, 99, 250); fill-opacity: 1;\"/></g><g class=\"point\"><path d=\"M208.81,360V344.87H209.11V360Z\" style=\"vector-effect: non-scaling-stroke; opacity: 1; stroke-width: 0px; fill: rgb(171, 99, 250); fill-opacity: 1;\"/></g><g class=\"point\"><path d=\"M210.7,360V343.86H211V360Z\" style=\"vector-effect: non-scaling-stroke; opacity: 1; stroke-width: 0px; fill: rgb(171, 99, 250); fill-opacity: 1;\"/></g><g class=\"point\"><path d=\"M212.58,360V347.89H212.89V360Z\" style=\"vector-effect: non-scaling-stroke; opacity: 1; stroke-width: 0px; fill: rgb(171, 99, 250); fill-opacity: 1;\"/></g><g class=\"point\"><path d=\"M214.47,360V341.84H214.77V360Z\" style=\"vector-effect: non-scaling-stroke; opacity: 1; stroke-width: 0px; fill: rgb(171, 99, 250); fill-opacity: 1;\"/></g><g class=\"point\"><path d=\"M216.36,360V339.82H216.66V360Z\" style=\"vector-effect: non-scaling-stroke; opacity: 1; stroke-width: 0px; fill: rgb(171, 99, 250); fill-opacity: 1;\"/></g><g class=\"point\"><path d=\"M218.25,360V337.81H218.55V360Z\" style=\"vector-effect: non-scaling-stroke; opacity: 1; stroke-width: 0px; fill: rgb(171, 99, 250); fill-opacity: 1;\"/></g><g class=\"point\"><path d=\"M220.14,360V337.81H220.44V360Z\" style=\"vector-effect: non-scaling-stroke; opacity: 1; stroke-width: 0px; fill: rgb(171, 99, 250); fill-opacity: 1;\"/></g><g class=\"point\"><path d=\"M222.03,360V334.78H222.33V360Z\" style=\"vector-effect: non-scaling-stroke; opacity: 1; stroke-width: 0px; fill: rgb(171, 99, 250); fill-opacity: 1;\"/></g><g class=\"point\"><path d=\"M223.91,360V344.87H224.22V360Z\" style=\"vector-effect: non-scaling-stroke; opacity: 1; stroke-width: 0px; fill: rgb(171, 99, 250); fill-opacity: 1;\"/></g><g class=\"point\"><path d=\"M225.8,360V329.73H226.1V360Z\" style=\"vector-effect: non-scaling-stroke; opacity: 1; stroke-width: 0px; fill: rgb(171, 99, 250); fill-opacity: 1;\"/></g><g class=\"point\"><path d=\"M227.69,360V333.77H227.99V360Z\" style=\"vector-effect: non-scaling-stroke; opacity: 1; stroke-width: 0px; fill: rgb(171, 99, 250); fill-opacity: 1;\"/></g><g class=\"point\"><path d=\"M229.58,360V328.73H229.88V360Z\" style=\"vector-effect: non-scaling-stroke; opacity: 1; stroke-width: 0px; fill: rgb(171, 99, 250); fill-opacity: 1;\"/></g><g class=\"point\"><path d=\"M231.47,360V321.66H231.77V360Z\" style=\"vector-effect: non-scaling-stroke; opacity: 1; stroke-width: 0px; fill: rgb(171, 99, 250); fill-opacity: 1;\"/></g><g class=\"point\"><path d=\"M233.36,360V301.49H233.66V360Z\" style=\"vector-effect: non-scaling-stroke; opacity: 1; stroke-width: 0px; fill: rgb(171, 99, 250); fill-opacity: 1;\"/></g><g class=\"point\"><path d=\"M235.24,360V304.51H235.55V360Z\" style=\"vector-effect: non-scaling-stroke; opacity: 1; stroke-width: 0px; fill: rgb(171, 99, 250); fill-opacity: 1;\"/></g><g class=\"point\"><path d=\"M237.13,360V279.29H237.43V360Z\" style=\"vector-effect: non-scaling-stroke; opacity: 1; stroke-width: 0px; fill: rgb(171, 99, 250); fill-opacity: 1;\"/></g><g class=\"point\"><path d=\"M239.02,360V326.71H239.32V360Z\" style=\"vector-effect: non-scaling-stroke; opacity: 1; stroke-width: 0px; fill: rgb(171, 99, 250); fill-opacity: 1;\"/></g><g class=\"point\"><path d=\"M240.91,360V321.66H241.21V360Z\" style=\"vector-effect: non-scaling-stroke; opacity: 1; stroke-width: 0px; fill: rgb(171, 99, 250); fill-opacity: 1;\"/></g><g class=\"point\"><path d=\"M242.8,360V286.35H243.1V360Z\" style=\"vector-effect: non-scaling-stroke; opacity: 1; stroke-width: 0px; fill: rgb(171, 99, 250); fill-opacity: 1;\"/></g><g class=\"point\"><path d=\"M244.69,360V277.27H244.99V360Z\" style=\"vector-effect: non-scaling-stroke; opacity: 1; stroke-width: 0px; fill: rgb(171, 99, 250); fill-opacity: 1;\"/></g><g class=\"point\"><path d=\"M246.57,360V296.44H246.88V360Z\" style=\"vector-effect: non-scaling-stroke; opacity: 1; stroke-width: 0px; fill: rgb(171, 99, 250); fill-opacity: 1;\"/></g><g class=\"point\"><path d=\"M248.46,360V305.52H248.76V360Z\" style=\"vector-effect: non-scaling-stroke; opacity: 1; stroke-width: 0px; fill: rgb(171, 99, 250); fill-opacity: 1;\"/></g><g class=\"point\"><path d=\"M250.35,360V319.65H250.65V360Z\" style=\"vector-effect: non-scaling-stroke; opacity: 1; stroke-width: 0px; fill: rgb(171, 99, 250); fill-opacity: 1;\"/></g><g class=\"point\"><path d=\"M252.24,360V310.57H252.54V360Z\" style=\"vector-effect: non-scaling-stroke; opacity: 1; stroke-width: 0px; fill: rgb(171, 99, 250); fill-opacity: 1;\"/></g><g class=\"point\"><path d=\"M254.13,360V325.7H254.43V360Z\" style=\"vector-effect: non-scaling-stroke; opacity: 1; stroke-width: 0px; fill: rgb(171, 99, 250); fill-opacity: 1;\"/></g><g class=\"point\"><path d=\"M256.02,360V318.64H256.32V360Z\" style=\"vector-effect: non-scaling-stroke; opacity: 1; stroke-width: 0px; fill: rgb(171, 99, 250); fill-opacity: 1;\"/></g><g class=\"point\"><path d=\"M257.9,360V254.07H258.21V360Z\" style=\"vector-effect: non-scaling-stroke; opacity: 1; stroke-width: 0px; fill: rgb(171, 99, 250); fill-opacity: 1;\"/></g><g class=\"point\"><path d=\"M259.79,360V169.33H260.09V360Z\" style=\"vector-effect: non-scaling-stroke; opacity: 1; stroke-width: 0px; fill: rgb(171, 99, 250); fill-opacity: 1;\"/></g><g class=\"point\"><path d=\"M261.68,360V262.14H261.98V360Z\" style=\"vector-effect: non-scaling-stroke; opacity: 1; stroke-width: 0px; fill: rgb(171, 99, 250); fill-opacity: 1;\"/></g><g class=\"point\"><path d=\"M263.57,360V271.22H263.87V360Z\" style=\"vector-effect: non-scaling-stroke; opacity: 1; stroke-width: 0px; fill: rgb(171, 99, 250); fill-opacity: 1;\"/></g><g class=\"point\"><path d=\"M265.46,360V256.09H265.76V360Z\" style=\"vector-effect: non-scaling-stroke; opacity: 1; stroke-width: 0px; fill: rgb(171, 99, 250); fill-opacity: 1;\"/></g><g class=\"point\"><path d=\"M267.35,360V181.43H267.65V360Z\" style=\"vector-effect: non-scaling-stroke; opacity: 1; stroke-width: 0px; fill: rgb(171, 99, 250); fill-opacity: 1;\"/></g><g class=\"point\"><path d=\"M269.23,360V256.09H269.54V360Z\" style=\"vector-effect: non-scaling-stroke; opacity: 1; stroke-width: 0px; fill: rgb(171, 99, 250); fill-opacity: 1;\"/></g><g class=\"point\"><path d=\"M271.12,360V283.33H271.42V360Z\" style=\"vector-effect: non-scaling-stroke; opacity: 1; stroke-width: 0px; fill: rgb(171, 99, 250); fill-opacity: 1;\"/></g><g class=\"point\"><path d=\"M273.01,360V290.39H273.31V360Z\" style=\"vector-effect: non-scaling-stroke; opacity: 1; stroke-width: 0px; fill: rgb(171, 99, 250); fill-opacity: 1;\"/></g><g class=\"point\"><path d=\"M274.9,360V288.37H275.2V360Z\" style=\"vector-effect: non-scaling-stroke; opacity: 1; stroke-width: 0px; fill: rgb(171, 99, 250); fill-opacity: 1;\"/></g><g class=\"point\"><path d=\"M276.79,360V256.09H277.09V360Z\" style=\"vector-effect: non-scaling-stroke; opacity: 1; stroke-width: 0px; fill: rgb(171, 99, 250); fill-opacity: 1;\"/></g><g class=\"point\"><path d=\"M278.67,360V264.16H278.98V360Z\" style=\"vector-effect: non-scaling-stroke; opacity: 1; stroke-width: 0px; fill: rgb(171, 99, 250); fill-opacity: 1;\"/></g><g class=\"point\"><path d=\"M280.56,360V211.7H280.87V360Z\" style=\"vector-effect: non-scaling-stroke; opacity: 1; stroke-width: 0px; fill: rgb(171, 99, 250); fill-opacity: 1;\"/></g><g class=\"point\"><path d=\"M282.45,360V264.16H282.75V360Z\" style=\"vector-effect: non-scaling-stroke; opacity: 1; stroke-width: 0px; fill: rgb(171, 99, 250); fill-opacity: 1;\"/></g><g class=\"point\"><path d=\"M284.34,360V256.09H284.64V360Z\" style=\"vector-effect: non-scaling-stroke; opacity: 1; stroke-width: 0px; fill: rgb(171, 99, 250); fill-opacity: 1;\"/></g><g class=\"point\"><path d=\"M286.23,360V244.99H286.53V360Z\" style=\"vector-effect: non-scaling-stroke; opacity: 1; stroke-width: 0px; fill: rgb(171, 99, 250); fill-opacity: 1;\"/></g><g class=\"point\"><path d=\"M288.12,360V334.78H288.42V360Z\" style=\"vector-effect: non-scaling-stroke; opacity: 1; stroke-width: 0px; fill: rgb(171, 99, 250); fill-opacity: 1;\"/></g><g class=\"point\"><path d=\"M290,360V352.94H290.31V360Z\" style=\"vector-effect: non-scaling-stroke; opacity: 1; stroke-width: 0px; fill: rgb(171, 99, 250); fill-opacity: 1;\"/></g><g class=\"point\"><path d=\"M291.89,360V294.42H292.2V360Z\" style=\"vector-effect: non-scaling-stroke; opacity: 1; stroke-width: 0px; fill: rgb(171, 99, 250); fill-opacity: 1;\"/></g><g class=\"point\"><path d=\"M293.78,360V244.99H294.08V360Z\" style=\"vector-effect: non-scaling-stroke; opacity: 1; stroke-width: 0px; fill: rgb(171, 99, 250); fill-opacity: 1;\"/></g><g class=\"point\"><path d=\"M295.67,360V214.73H295.97V360Z\" style=\"vector-effect: non-scaling-stroke; opacity: 1; stroke-width: 0px; fill: rgb(171, 99, 250); fill-opacity: 1;\"/></g><g class=\"point\"><path d=\"M297.56,360V254.07H297.86V360Z\" style=\"vector-effect: non-scaling-stroke; opacity: 1; stroke-width: 0px; fill: rgb(171, 99, 250); fill-opacity: 1;\"/></g><g class=\"point\"><path d=\"M299.45,360V292.41H299.75V360Z\" style=\"vector-effect: non-scaling-stroke; opacity: 1; stroke-width: 0px; fill: rgb(171, 99, 250); fill-opacity: 1;\"/></g><g class=\"point\"><path d=\"M301.33,360V243.98H301.64V360Z\" style=\"vector-effect: non-scaling-stroke; opacity: 1; stroke-width: 0px; fill: rgb(171, 99, 250); fill-opacity: 1;\"/></g><g class=\"point\"><path d=\"M303.22,360V282.32H303.52V360Z\" style=\"vector-effect: non-scaling-stroke; opacity: 1; stroke-width: 0px; fill: rgb(171, 99, 250); fill-opacity: 1;\"/></g><g class=\"point\"><path d=\"M305.11,360V259.12H305.41V360Z\" style=\"vector-effect: non-scaling-stroke; opacity: 1; stroke-width: 0px; fill: rgb(171, 99, 250); fill-opacity: 1;\"/></g><g class=\"point\"><path d=\"M307,360V242.97H307.3V360Z\" style=\"vector-effect: non-scaling-stroke; opacity: 1; stroke-width: 0px; fill: rgb(171, 99, 250); fill-opacity: 1;\"/></g><g class=\"point\"><path d=\"M308.89,360V300.48H309.19V360Z\" style=\"vector-effect: non-scaling-stroke; opacity: 1; stroke-width: 0px; fill: rgb(171, 99, 250); fill-opacity: 1;\"/></g><g class=\"point\"><path d=\"M310.78,360V274.25H311.08V360Z\" style=\"vector-effect: non-scaling-stroke; opacity: 1; stroke-width: 0px; fill: rgb(171, 99, 250); fill-opacity: 1;\"/></g><g class=\"point\"><path d=\"M312.66,360V253.06H312.97V360Z\" style=\"vector-effect: non-scaling-stroke; opacity: 1; stroke-width: 0px; fill: rgb(171, 99, 250); fill-opacity: 1;\"/></g><g class=\"point\"><path d=\"M314.55,360V279.29H314.85V360Z\" style=\"vector-effect: non-scaling-stroke; opacity: 1; stroke-width: 0px; fill: rgb(171, 99, 250); fill-opacity: 1;\"/></g><g class=\"point\"><path d=\"M316.44,360V273.24H316.74V360Z\" style=\"vector-effect: non-scaling-stroke; opacity: 1; stroke-width: 0px; fill: rgb(171, 99, 250); fill-opacity: 1;\"/></g><g class=\"point\"><path d=\"M318.33,360V290.39H318.63V360Z\" style=\"vector-effect: non-scaling-stroke; opacity: 1; stroke-width: 0px; fill: rgb(171, 99, 250); fill-opacity: 1;\"/></g><g class=\"point\"><path d=\"M320.22,360V264.16H320.52V360Z\" style=\"vector-effect: non-scaling-stroke; opacity: 1; stroke-width: 0px; fill: rgb(171, 99, 250); fill-opacity: 1;\"/></g><g class=\"point\"><path d=\"M322.11,360V330.74H322.41V360Z\" style=\"vector-effect: non-scaling-stroke; opacity: 1; stroke-width: 0px; fill: rgb(171, 99, 250); fill-opacity: 1;\"/></g><g class=\"point\"><path d=\"M323.99,360V301.49H324.3V360Z\" style=\"vector-effect: non-scaling-stroke; opacity: 1; stroke-width: 0px; fill: rgb(171, 99, 250); fill-opacity: 1;\"/></g><g class=\"point\"><path d=\"M325.88,360V287.36H326.18V360Z\" style=\"vector-effect: non-scaling-stroke; opacity: 1; stroke-width: 0px; fill: rgb(171, 99, 250); fill-opacity: 1;\"/></g><g class=\"point\"><path d=\"M327.77,360V303.5H328.07V360Z\" style=\"vector-effect: non-scaling-stroke; opacity: 1; stroke-width: 0px; fill: rgb(171, 99, 250); fill-opacity: 1;\"/></g><g class=\"point\"><path d=\"M329.66,360V340.83H329.96V360Z\" style=\"vector-effect: non-scaling-stroke; opacity: 1; stroke-width: 0px; fill: rgb(171, 99, 250); fill-opacity: 1;\"/></g><g class=\"point\"><path d=\"M331.55,360V319.65H331.85V360Z\" style=\"vector-effect: non-scaling-stroke; opacity: 1; stroke-width: 0px; fill: rgb(171, 99, 250); fill-opacity: 1;\"/></g><g class=\"point\"><path d=\"M333.44,360V282.32H333.74V360Z\" style=\"vector-effect: non-scaling-stroke; opacity: 1; stroke-width: 0px; fill: rgb(171, 99, 250); fill-opacity: 1;\"/></g><g class=\"point\"><path d=\"M335.32,360V349.91H335.63V360Z\" style=\"vector-effect: non-scaling-stroke; opacity: 1; stroke-width: 0px; fill: rgb(171, 99, 250); fill-opacity: 1;\"/></g><g class=\"point\"><path d=\"M337.21,360V349.91H337.51V360Z\" style=\"vector-effect: non-scaling-stroke; opacity: 1; stroke-width: 0px; fill: rgb(171, 99, 250); fill-opacity: 1;\"/></g><g class=\"point\"><path d=\"M339.1,360V350.92H339.4V360Z\" style=\"vector-effect: non-scaling-stroke; opacity: 1; stroke-width: 0px; fill: rgb(171, 99, 250); fill-opacity: 1;\"/></g><g class=\"point\"><path d=\"M340.99,360V351.93H341.29V360Z\" style=\"vector-effect: non-scaling-stroke; opacity: 1; stroke-width: 0px; fill: rgb(171, 99, 250); fill-opacity: 1;\"/></g><g class=\"point\"><path d=\"M342.88,360V348.9H343.18V360Z\" style=\"vector-effect: non-scaling-stroke; opacity: 1; stroke-width: 0px; fill: rgb(171, 99, 250); fill-opacity: 1;\"/></g><g class=\"point\"><path d=\"M344.77,360V346.88H345.07V360Z\" style=\"vector-effect: non-scaling-stroke; opacity: 1; stroke-width: 0px; fill: rgb(171, 99, 250); fill-opacity: 1;\"/></g><g class=\"point\"><path d=\"M346.65,360V343.86H346.96V360Z\" style=\"vector-effect: non-scaling-stroke; opacity: 1; stroke-width: 0px; fill: rgb(171, 99, 250); fill-opacity: 1;\"/></g><g class=\"point\"><path d=\"M348.54,360V354.96H348.84V360Z\" style=\"vector-effect: non-scaling-stroke; opacity: 1; stroke-width: 0px; fill: rgb(171, 99, 250); fill-opacity: 1;\"/></g><g class=\"point\"><path d=\"M0,0Z\" style=\"vector-effect: non-scaling-stroke; opacity: 1; stroke-width: 0px; fill: rgb(171, 99, 250); fill-opacity: 1;\"/></g><g class=\"point\"><path d=\"M352.32,360V351.93H352.62V360Z\" style=\"vector-effect: non-scaling-stroke; opacity: 1; stroke-width: 0px; fill: rgb(171, 99, 250); fill-opacity: 1;\"/></g><g class=\"point\"><path d=\"M354.21,360V346.88H354.51V360Z\" style=\"vector-effect: non-scaling-stroke; opacity: 1; stroke-width: 0px; fill: rgb(171, 99, 250); fill-opacity: 1;\"/></g></g></g><g class=\"trace bars\" style=\"opacity: 1;\"><g class=\"points\"><g class=\"point\"><path d=\"M25.95,360V357.98H26.25V360Z\" style=\"vector-effect: non-scaling-stroke; opacity: 1; stroke-width: 0px; fill: rgb(255, 161, 90); fill-opacity: 1;\"/></g><g class=\"point\"><path d=\"M0,0Z\" style=\"vector-effect: non-scaling-stroke; opacity: 1; stroke-width: 0px; fill: rgb(255, 161, 90); fill-opacity: 1;\"/></g><g class=\"point\"><path d=\"M0,0Z\" style=\"vector-effect: non-scaling-stroke; opacity: 1; stroke-width: 0px; fill: rgb(255, 161, 90); fill-opacity: 1;\"/></g><g class=\"point\"><path d=\"M31.61,360V357.98H31.91V360Z\" style=\"vector-effect: non-scaling-stroke; opacity: 1; stroke-width: 0px; fill: rgb(255, 161, 90); fill-opacity: 1;\"/></g><g class=\"point\"><path d=\"M33.5,360V358.99H33.8V360Z\" style=\"vector-effect: non-scaling-stroke; opacity: 1; stroke-width: 0px; fill: rgb(255, 161, 90); fill-opacity: 1;\"/></g><g class=\"point\"><path d=\"M35.39,360V358.99H35.69V360Z\" style=\"vector-effect: non-scaling-stroke; opacity: 1; stroke-width: 0px; fill: rgb(255, 161, 90); fill-opacity: 1;\"/></g><g class=\"point\"><path d=\"M37.27,360V358.99H37.58V360Z\" style=\"vector-effect: non-scaling-stroke; opacity: 1; stroke-width: 0px; fill: rgb(255, 161, 90); fill-opacity: 1;\"/></g><g class=\"point\"><path d=\"M0,0Z\" style=\"vector-effect: non-scaling-stroke; opacity: 1; stroke-width: 0px; fill: rgb(255, 161, 90); fill-opacity: 1;\"/></g><g class=\"point\"><path d=\"M41.05,360V357.98H41.35V360Z\" style=\"vector-effect: non-scaling-stroke; opacity: 1; stroke-width: 0px; fill: rgb(255, 161, 90); fill-opacity: 1;\"/></g><g class=\"point\"><path d=\"M0,0Z\" style=\"vector-effect: non-scaling-stroke; opacity: 1; stroke-width: 0px; fill: rgb(255, 161, 90); fill-opacity: 1;\"/></g><g class=\"point\"><path d=\"M0,0Z\" style=\"vector-effect: non-scaling-stroke; opacity: 1; stroke-width: 0px; fill: rgb(255, 161, 90); fill-opacity: 1;\"/></g><g class=\"point\"><path d=\"M0,0Z\" style=\"vector-effect: non-scaling-stroke; opacity: 1; stroke-width: 0px; fill: rgb(255, 161, 90); fill-opacity: 1;\"/></g><g class=\"point\"><path d=\"M0,0Z\" style=\"vector-effect: non-scaling-stroke; opacity: 1; stroke-width: 0px; fill: rgb(255, 161, 90); fill-opacity: 1;\"/></g><g class=\"point\"><path d=\"M50.49,360V356.97H50.8V360Z\" style=\"vector-effect: non-scaling-stroke; opacity: 1; stroke-width: 0px; fill: rgb(255, 161, 90); fill-opacity: 1;\"/></g><g class=\"point\"><path d=\"M0,0Z\" style=\"vector-effect: non-scaling-stroke; opacity: 1; stroke-width: 0px; fill: rgb(255, 161, 90); fill-opacity: 1;\"/></g><g class=\"point\"><path d=\"M0,0Z\" style=\"vector-effect: non-scaling-stroke; opacity: 1; stroke-width: 0px; fill: rgb(255, 161, 90); fill-opacity: 1;\"/></g><g class=\"point\"><path d=\"M56.16,360V358.99H56.46V360Z\" style=\"vector-effect: non-scaling-stroke; opacity: 1; stroke-width: 0px; fill: rgb(255, 161, 90); fill-opacity: 1;\"/></g><g class=\"point\"><path d=\"M58.05,360V356.97H58.35V360Z\" style=\"vector-effect: non-scaling-stroke; opacity: 1; stroke-width: 0px; fill: rgb(255, 161, 90); fill-opacity: 1;\"/></g><g class=\"point\"><path d=\"M59.93,360V357.98H60.24V360Z\" style=\"vector-effect: non-scaling-stroke; opacity: 1; stroke-width: 0px; fill: rgb(255, 161, 90); fill-opacity: 1;\"/></g><g class=\"point\"><path d=\"M61.82,360V357.98H62.13V360Z\" style=\"vector-effect: non-scaling-stroke; opacity: 1; stroke-width: 0px; fill: rgb(255, 161, 90); fill-opacity: 1;\"/></g><g class=\"point\"><path d=\"M63.71,360V358.99H64.01V360Z\" style=\"vector-effect: non-scaling-stroke; opacity: 1; stroke-width: 0px; fill: rgb(255, 161, 90); fill-opacity: 1;\"/></g><g class=\"point\"><path d=\"M65.6,360V358.99H65.9V360Z\" style=\"vector-effect: non-scaling-stroke; opacity: 1; stroke-width: 0px; fill: rgb(255, 161, 90); fill-opacity: 1;\"/></g><g class=\"point\"><path d=\"M67.49,360V358.99H67.79V360Z\" style=\"vector-effect: non-scaling-stroke; opacity: 1; stroke-width: 0px; fill: rgb(255, 161, 90); fill-opacity: 1;\"/></g><g class=\"point\"><path d=\"M69.38,360V355.96H69.68V360Z\" style=\"vector-effect: non-scaling-stroke; opacity: 1; stroke-width: 0px; fill: rgb(255, 161, 90); fill-opacity: 1;\"/></g><g class=\"point\"><path d=\"M71.26,360V357.98H71.57V360Z\" style=\"vector-effect: non-scaling-stroke; opacity: 1; stroke-width: 0px; fill: rgb(255, 161, 90); fill-opacity: 1;\"/></g><g class=\"point\"><path d=\"M73.15,360V355.96H73.45V360Z\" style=\"vector-effect: non-scaling-stroke; opacity: 1; stroke-width: 0px; fill: rgb(255, 161, 90); fill-opacity: 1;\"/></g><g class=\"point\"><path d=\"M75.04,360V357.98H75.34V360Z\" style=\"vector-effect: non-scaling-stroke; opacity: 1; stroke-width: 0px; fill: rgb(255, 161, 90); fill-opacity: 1;\"/></g><g class=\"point\"><path d=\"M76.93,360V358.99H77.23V360Z\" style=\"vector-effect: non-scaling-stroke; opacity: 1; stroke-width: 0px; fill: rgb(255, 161, 90); fill-opacity: 1;\"/></g><g class=\"point\"><path d=\"M78.82,360V355.96H79.12V360Z\" style=\"vector-effect: non-scaling-stroke; opacity: 1; stroke-width: 0px; fill: rgb(255, 161, 90); fill-opacity: 1;\"/></g><g class=\"point\"><path d=\"M0,0Z\" style=\"vector-effect: non-scaling-stroke; opacity: 1; stroke-width: 0px; fill: rgb(255, 161, 90); fill-opacity: 1;\"/></g><g class=\"point\"><path d=\"M82.59,360V356.97H82.9V360Z\" style=\"vector-effect: non-scaling-stroke; opacity: 1; stroke-width: 0px; fill: rgb(255, 161, 90); fill-opacity: 1;\"/></g><g class=\"point\"><path d=\"M84.48,360V350.92H84.78V360Z\" style=\"vector-effect: non-scaling-stroke; opacity: 1; stroke-width: 0px; fill: rgb(255, 161, 90); fill-opacity: 1;\"/></g><g class=\"point\"><path d=\"M86.37,360V357.98H86.67V360Z\" style=\"vector-effect: non-scaling-stroke; opacity: 1; stroke-width: 0px; fill: rgb(255, 161, 90); fill-opacity: 1;\"/></g><g class=\"point\"><path d=\"M88.26,360V355.96H88.56V360Z\" style=\"vector-effect: non-scaling-stroke; opacity: 1; stroke-width: 0px; fill: rgb(255, 161, 90); fill-opacity: 1;\"/></g><g class=\"point\"><path d=\"M90.15,360V354.96H90.45V360Z\" style=\"vector-effect: non-scaling-stroke; opacity: 1; stroke-width: 0px; fill: rgb(255, 161, 90); fill-opacity: 1;\"/></g><g class=\"point\"><path d=\"M92.04,360V357.98H92.34V360Z\" style=\"vector-effect: non-scaling-stroke; opacity: 1; stroke-width: 0px; fill: rgb(255, 161, 90); fill-opacity: 1;\"/></g><g class=\"point\"><path d=\"M93.92,360V353.95H94.23V360Z\" style=\"vector-effect: non-scaling-stroke; opacity: 1; stroke-width: 0px; fill: rgb(255, 161, 90); fill-opacity: 1;\"/></g><g class=\"point\"><path d=\"M95.81,360V354.96H96.11V360Z\" style=\"vector-effect: non-scaling-stroke; opacity: 1; stroke-width: 0px; fill: rgb(255, 161, 90); fill-opacity: 1;\"/></g><g class=\"point\"><path d=\"M97.7,360V357.98H98V360Z\" style=\"vector-effect: non-scaling-stroke; opacity: 1; stroke-width: 0px; fill: rgb(255, 161, 90); fill-opacity: 1;\"/></g><g class=\"point\"><path d=\"M99.59,360V353.95H99.89V360Z\" style=\"vector-effect: non-scaling-stroke; opacity: 1; stroke-width: 0px; fill: rgb(255, 161, 90); fill-opacity: 1;\"/></g><g class=\"point\"><path d=\"M101.48,360V352.94H101.78V360Z\" style=\"vector-effect: non-scaling-stroke; opacity: 1; stroke-width: 0px; fill: rgb(255, 161, 90); fill-opacity: 1;\"/></g><g class=\"point\"><path d=\"M103.37,360V355.96H103.67V360Z\" style=\"vector-effect: non-scaling-stroke; opacity: 1; stroke-width: 0px; fill: rgb(255, 161, 90); fill-opacity: 1;\"/></g><g class=\"point\"><path d=\"M105.25,360V352.94H105.56V360Z\" style=\"vector-effect: non-scaling-stroke; opacity: 1; stroke-width: 0px; fill: rgb(255, 161, 90); fill-opacity: 1;\"/></g><g class=\"point\"><path d=\"M107.14,360V353.95H107.44V360Z\" style=\"vector-effect: non-scaling-stroke; opacity: 1; stroke-width: 0px; fill: rgb(255, 161, 90); fill-opacity: 1;\"/></g><g class=\"point\"><path d=\"M109.03,360V347.89H109.33V360Z\" style=\"vector-effect: non-scaling-stroke; opacity: 1; stroke-width: 0px; fill: rgb(255, 161, 90); fill-opacity: 1;\"/></g><g class=\"point\"><path d=\"M110.92,360V355.96H111.22V360Z\" style=\"vector-effect: non-scaling-stroke; opacity: 1; stroke-width: 0px; fill: rgb(255, 161, 90); fill-opacity: 1;\"/></g><g class=\"point\"><path d=\"M112.81,360V352.94H113.11V360Z\" style=\"vector-effect: non-scaling-stroke; opacity: 1; stroke-width: 0px; fill: rgb(255, 161, 90); fill-opacity: 1;\"/></g><g class=\"point\"><path d=\"M114.7,360V353.95H115V360Z\" style=\"vector-effect: non-scaling-stroke; opacity: 1; stroke-width: 0px; fill: rgb(255, 161, 90); fill-opacity: 1;\"/></g><g class=\"point\"><path d=\"M116.58,360V353.95H116.89V360Z\" style=\"vector-effect: non-scaling-stroke; opacity: 1; stroke-width: 0px; fill: rgb(255, 161, 90); fill-opacity: 1;\"/></g><g class=\"point\"><path d=\"M118.47,360V353.95H118.77V360Z\" style=\"vector-effect: non-scaling-stroke; opacity: 1; stroke-width: 0px; fill: rgb(255, 161, 90); fill-opacity: 1;\"/></g><g class=\"point\"><path d=\"M120.36,360V355.96H120.66V360Z\" style=\"vector-effect: non-scaling-stroke; opacity: 1; stroke-width: 0px; fill: rgb(255, 161, 90); fill-opacity: 1;\"/></g><g class=\"point\"><path d=\"M122.25,360V350.92H122.55V360Z\" style=\"vector-effect: non-scaling-stroke; opacity: 1; stroke-width: 0px; fill: rgb(255, 161, 90); fill-opacity: 1;\"/></g><g class=\"point\"><path d=\"M124.14,360V353.95H124.44V360Z\" style=\"vector-effect: non-scaling-stroke; opacity: 1; stroke-width: 0px; fill: rgb(255, 161, 90); fill-opacity: 1;\"/></g><g class=\"point\"><path d=\"M126.02,360V352.94H126.33V360Z\" style=\"vector-effect: non-scaling-stroke; opacity: 1; stroke-width: 0px; fill: rgb(255, 161, 90); fill-opacity: 1;\"/></g><g class=\"point\"><path d=\"M127.91,360V354.96H128.22V360Z\" style=\"vector-effect: non-scaling-stroke; opacity: 1; stroke-width: 0px; fill: rgb(255, 161, 90); fill-opacity: 1;\"/></g><g class=\"point\"><path d=\"M129.8,360V354.96H130.1V360Z\" style=\"vector-effect: non-scaling-stroke; opacity: 1; stroke-width: 0px; fill: rgb(255, 161, 90); fill-opacity: 1;\"/></g><g class=\"point\"><path d=\"M131.69,360V355.96H131.99V360Z\" style=\"vector-effect: non-scaling-stroke; opacity: 1; stroke-width: 0px; fill: rgb(255, 161, 90); fill-opacity: 1;\"/></g><g class=\"point\"><path d=\"M133.58,360V352.94H133.88V360Z\" style=\"vector-effect: non-scaling-stroke; opacity: 1; stroke-width: 0px; fill: rgb(255, 161, 90); fill-opacity: 1;\"/></g><g class=\"point\"><path d=\"M135.47,360V354.96H135.77V360Z\" style=\"vector-effect: non-scaling-stroke; opacity: 1; stroke-width: 0px; fill: rgb(255, 161, 90); fill-opacity: 1;\"/></g><g class=\"point\"><path d=\"M137.35,360V352.94H137.66V360Z\" style=\"vector-effect: non-scaling-stroke; opacity: 1; stroke-width: 0px; fill: rgb(255, 161, 90); fill-opacity: 1;\"/></g><g class=\"point\"><path d=\"M139.24,360V358.99H139.55V360Z\" style=\"vector-effect: non-scaling-stroke; opacity: 1; stroke-width: 0px; fill: rgb(255, 161, 90); fill-opacity: 1;\"/></g><g class=\"point\"><path d=\"M0,0Z\" style=\"vector-effect: non-scaling-stroke; opacity: 1; stroke-width: 0px; fill: rgb(255, 161, 90); fill-opacity: 1;\"/></g><g class=\"point\"><path d=\"M0,0Z\" style=\"vector-effect: non-scaling-stroke; opacity: 1; stroke-width: 0px; fill: rgb(255, 161, 90); fill-opacity: 1;\"/></g><g class=\"point\"><path d=\"M144.91,360V356.97H145.21V360Z\" style=\"vector-effect: non-scaling-stroke; opacity: 1; stroke-width: 0px; fill: rgb(255, 161, 90); fill-opacity: 1;\"/></g><g class=\"point\"><path d=\"M146.8,360V357.98H147.1V360Z\" style=\"vector-effect: non-scaling-stroke; opacity: 1; stroke-width: 0px; fill: rgb(255, 161, 90); fill-opacity: 1;\"/></g><g class=\"point\"><path d=\"M148.68,360V357.98H148.99V360Z\" style=\"vector-effect: non-scaling-stroke; opacity: 1; stroke-width: 0px; fill: rgb(255, 161, 90); fill-opacity: 1;\"/></g><g class=\"point\"><path d=\"M150.57,360V358.99H150.88V360Z\" style=\"vector-effect: non-scaling-stroke; opacity: 1; stroke-width: 0px; fill: rgb(255, 161, 90); fill-opacity: 1;\"/></g><g class=\"point\"><path d=\"M152.46,360V346.88H152.76V360Z\" style=\"vector-effect: non-scaling-stroke; opacity: 1; stroke-width: 0px; fill: rgb(255, 161, 90); fill-opacity: 1;\"/></g><g class=\"point\"><path d=\"M154.35,360V354.96H154.65V360Z\" style=\"vector-effect: non-scaling-stroke; opacity: 1; stroke-width: 0px; fill: rgb(255, 161, 90); fill-opacity: 1;\"/></g><g class=\"point\"><path d=\"M156.24,360V356.97H156.54V360Z\" style=\"vector-effect: non-scaling-stroke; opacity: 1; stroke-width: 0px; fill: rgb(255, 161, 90); fill-opacity: 1;\"/></g><g class=\"point\"><path d=\"M158.13,360V349.91H158.43V360Z\" style=\"vector-effect: non-scaling-stroke; opacity: 1; stroke-width: 0px; fill: rgb(255, 161, 90); fill-opacity: 1;\"/></g><g class=\"point\"><path d=\"M160.01,360V353.95H160.32V360Z\" style=\"vector-effect: non-scaling-stroke; opacity: 1; stroke-width: 0px; fill: rgb(255, 161, 90); fill-opacity: 1;\"/></g><g class=\"point\"><path d=\"M0,0Z\" style=\"vector-effect: non-scaling-stroke; opacity: 1; stroke-width: 0px; fill: rgb(255, 161, 90); fill-opacity: 1;\"/></g><g class=\"point\"><path d=\"M0,0Z\" style=\"vector-effect: non-scaling-stroke; opacity: 1; stroke-width: 0px; fill: rgb(255, 161, 90); fill-opacity: 1;\"/></g><g class=\"point\"><path d=\"M165.68,360V358.99H165.98V360Z\" style=\"vector-effect: non-scaling-stroke; opacity: 1; stroke-width: 0px; fill: rgb(255, 161, 90); fill-opacity: 1;\"/></g><g class=\"point\"><path d=\"M167.57,360V357.98H167.87V360Z\" style=\"vector-effect: non-scaling-stroke; opacity: 1; stroke-width: 0px; fill: rgb(255, 161, 90); fill-opacity: 1;\"/></g><g class=\"point\"><path d=\"M0,0Z\" style=\"vector-effect: non-scaling-stroke; opacity: 1; stroke-width: 0px; fill: rgb(255, 161, 90); fill-opacity: 1;\"/></g><g class=\"point\"><path d=\"M171.34,360V358.99H171.65V360Z\" style=\"vector-effect: non-scaling-stroke; opacity: 1; stroke-width: 0px; fill: rgb(255, 161, 90); fill-opacity: 1;\"/></g><g class=\"point\"><path d=\"M0,0Z\" style=\"vector-effect: non-scaling-stroke; opacity: 1; stroke-width: 0px; fill: rgb(255, 161, 90); fill-opacity: 1;\"/></g><g class=\"point\"><path d=\"M175.12,360V358.99H175.42V360Z\" style=\"vector-effect: non-scaling-stroke; opacity: 1; stroke-width: 0px; fill: rgb(255, 161, 90); fill-opacity: 1;\"/></g><g class=\"point\"><path d=\"M177.01,360V339.82H177.31V360Z\" style=\"vector-effect: non-scaling-stroke; opacity: 1; stroke-width: 0px; fill: rgb(255, 161, 90); fill-opacity: 1;\"/></g><g class=\"point\"><path d=\"M0,0Z\" style=\"vector-effect: non-scaling-stroke; opacity: 1; stroke-width: 0px; fill: rgb(255, 161, 90); fill-opacity: 1;\"/></g><g class=\"point\"><path d=\"M180.79,360V355.96H181.09V360Z\" style=\"vector-effect: non-scaling-stroke; opacity: 1; stroke-width: 0px; fill: rgb(255, 161, 90); fill-opacity: 1;\"/></g><g class=\"point\"><path d=\"M182.67,360V352.94H182.98V360Z\" style=\"vector-effect: non-scaling-stroke; opacity: 1; stroke-width: 0px; fill: rgb(255, 161, 90); fill-opacity: 1;\"/></g><g class=\"point\"><path d=\"M184.56,360V355.96H184.86V360Z\" style=\"vector-effect: non-scaling-stroke; opacity: 1; stroke-width: 0px; fill: rgb(255, 161, 90); fill-opacity: 1;\"/></g><g class=\"point\"><path d=\"M186.45,360V358.99H186.75V360Z\" style=\"vector-effect: non-scaling-stroke; opacity: 1; stroke-width: 0px; fill: rgb(255, 161, 90); fill-opacity: 1;\"/></g><g class=\"point\"><path d=\"M188.34,360V351.93H188.64V360Z\" style=\"vector-effect: non-scaling-stroke; opacity: 1; stroke-width: 0px; fill: rgb(255, 161, 90); fill-opacity: 1;\"/></g><g class=\"point\"><path d=\"M190.23,360V355.96H190.53V360Z\" style=\"vector-effect: non-scaling-stroke; opacity: 1; stroke-width: 0px; fill: rgb(255, 161, 90); fill-opacity: 1;\"/></g><g class=\"point\"><path d=\"M192.12,360V353.95H192.42V360Z\" style=\"vector-effect: non-scaling-stroke; opacity: 1; stroke-width: 0px; fill: rgb(255, 161, 90); fill-opacity: 1;\"/></g><g class=\"point\"><path d=\"M194,360V357.98H194.31V360Z\" style=\"vector-effect: non-scaling-stroke; opacity: 1; stroke-width: 0px; fill: rgb(255, 161, 90); fill-opacity: 1;\"/></g><g class=\"point\"><path d=\"M195.89,360V353.95H196.19V360Z\" style=\"vector-effect: non-scaling-stroke; opacity: 1; stroke-width: 0px; fill: rgb(255, 161, 90); fill-opacity: 1;\"/></g><g class=\"point\"><path d=\"M197.78,360V356.97H198.08V360Z\" style=\"vector-effect: non-scaling-stroke; opacity: 1; stroke-width: 0px; fill: rgb(255, 161, 90); fill-opacity: 1;\"/></g><g class=\"point\"><path d=\"M199.67,360V345.88H199.97V360Z\" style=\"vector-effect: non-scaling-stroke; opacity: 1; stroke-width: 0px; fill: rgb(255, 161, 90); fill-opacity: 1;\"/></g><g class=\"point\"><path d=\"M201.56,360V340.83H201.86V360Z\" style=\"vector-effect: non-scaling-stroke; opacity: 1; stroke-width: 0px; fill: rgb(255, 161, 90); fill-opacity: 1;\"/></g><g class=\"point\"><path d=\"M203.45,360V353.95H203.75V360Z\" style=\"vector-effect: non-scaling-stroke; opacity: 1; stroke-width: 0px; fill: rgb(255, 161, 90); fill-opacity: 1;\"/></g><g class=\"point\"><path d=\"M205.33,360V354.96H205.64V360Z\" style=\"vector-effect: non-scaling-stroke; opacity: 1; stroke-width: 0px; fill: rgb(255, 161, 90); fill-opacity: 1;\"/></g><g class=\"point\"><path d=\"M207.22,360V340.83H207.52V360Z\" style=\"vector-effect: non-scaling-stroke; opacity: 1; stroke-width: 0px; fill: rgb(255, 161, 90); fill-opacity: 1;\"/></g><g class=\"point\"><path d=\"M209.11,360V340.83H209.41V360Z\" style=\"vector-effect: non-scaling-stroke; opacity: 1; stroke-width: 0px; fill: rgb(255, 161, 90); fill-opacity: 1;\"/></g><g class=\"point\"><path d=\"M211,360V339.82H211.3V360Z\" style=\"vector-effect: non-scaling-stroke; opacity: 1; stroke-width: 0px; fill: rgb(255, 161, 90); fill-opacity: 1;\"/></g><g class=\"point\"><path d=\"M212.89,360V345.88H213.19V360Z\" style=\"vector-effect: non-scaling-stroke; opacity: 1; stroke-width: 0px; fill: rgb(255, 161, 90); fill-opacity: 1;\"/></g><g class=\"point\"><path d=\"M214.77,360V335.79H215.08V360Z\" style=\"vector-effect: non-scaling-stroke; opacity: 1; stroke-width: 0px; fill: rgb(255, 161, 90); fill-opacity: 1;\"/></g><g class=\"point\"><path d=\"M216.66,360V334.78H216.97V360Z\" style=\"vector-effect: non-scaling-stroke; opacity: 1; stroke-width: 0px; fill: rgb(255, 161, 90); fill-opacity: 1;\"/></g><g class=\"point\"><path d=\"M218.55,360V326.71H218.85V360Z\" style=\"vector-effect: non-scaling-stroke; opacity: 1; stroke-width: 0px; fill: rgb(255, 161, 90); fill-opacity: 1;\"/></g><g class=\"point\"><path d=\"M220.44,360V332.76H220.74V360Z\" style=\"vector-effect: non-scaling-stroke; opacity: 1; stroke-width: 0px; fill: rgb(255, 161, 90); fill-opacity: 1;\"/></g><g class=\"point\"><path d=\"M222.33,360V328.73H222.63V360Z\" style=\"vector-effect: non-scaling-stroke; opacity: 1; stroke-width: 0px; fill: rgb(255, 161, 90); fill-opacity: 1;\"/></g><g class=\"point\"><path d=\"M224.22,360V336.8H224.52V360Z\" style=\"vector-effect: non-scaling-stroke; opacity: 1; stroke-width: 0px; fill: rgb(255, 161, 90); fill-opacity: 1;\"/></g><g class=\"point\"><path d=\"M226.1,360V314.6H226.41V360Z\" style=\"vector-effect: non-scaling-stroke; opacity: 1; stroke-width: 0px; fill: rgb(255, 161, 90); fill-opacity: 1;\"/></g><g class=\"point\"><path d=\"M227.99,360V320.65H228.3V360Z\" style=\"vector-effect: non-scaling-stroke; opacity: 1; stroke-width: 0px; fill: rgb(255, 161, 90); fill-opacity: 1;\"/></g><g class=\"point\"><path d=\"M229.88,360V304.51H230.18V360Z\" style=\"vector-effect: non-scaling-stroke; opacity: 1; stroke-width: 0px; fill: rgb(255, 161, 90); fill-opacity: 1;\"/></g><g class=\"point\"><path d=\"M231.77,360V300.48H232.07V360Z\" style=\"vector-effect: non-scaling-stroke; opacity: 1; stroke-width: 0px; fill: rgb(255, 161, 90); fill-opacity: 1;\"/></g><g class=\"point\"><path d=\"M233.66,360V285.35H233.96V360Z\" style=\"vector-effect: non-scaling-stroke; opacity: 1; stroke-width: 0px; fill: rgb(255, 161, 90); fill-opacity: 1;\"/></g><g class=\"point\"><path d=\"M235.55,360V304.51H235.85V360Z\" style=\"vector-effect: non-scaling-stroke; opacity: 1; stroke-width: 0px; fill: rgb(255, 161, 90); fill-opacity: 1;\"/></g><g class=\"point\"><path d=\"M237.43,360V268.19H237.74V360Z\" style=\"vector-effect: non-scaling-stroke; opacity: 1; stroke-width: 0px; fill: rgb(255, 161, 90); fill-opacity: 1;\"/></g><g class=\"point\"><path d=\"M239.32,360V315.61H239.63V360Z\" style=\"vector-effect: non-scaling-stroke; opacity: 1; stroke-width: 0px; fill: rgb(255, 161, 90); fill-opacity: 1;\"/></g><g class=\"point\"><path d=\"M241.21,360V310.57H241.51V360Z\" style=\"vector-effect: non-scaling-stroke; opacity: 1; stroke-width: 0px; fill: rgb(255, 161, 90); fill-opacity: 1;\"/></g><g class=\"point\"><path d=\"M243.1,360V266.18H243.4V360Z\" style=\"vector-effect: non-scaling-stroke; opacity: 1; stroke-width: 0px; fill: rgb(255, 161, 90); fill-opacity: 1;\"/></g><g class=\"point\"><path d=\"M244.99,360V267.19H245.29V360Z\" style=\"vector-effect: non-scaling-stroke; opacity: 1; stroke-width: 0px; fill: rgb(255, 161, 90); fill-opacity: 1;\"/></g><g class=\"point\"><path d=\"M246.88,360V284.34H247.18V360Z\" style=\"vector-effect: non-scaling-stroke; opacity: 1; stroke-width: 0px; fill: rgb(255, 161, 90); fill-opacity: 1;\"/></g><g class=\"point\"><path d=\"M248.76,360V290.39H249.07V360Z\" style=\"vector-effect: non-scaling-stroke; opacity: 1; stroke-width: 0px; fill: rgb(255, 161, 90); fill-opacity: 1;\"/></g><g class=\"point\"><path d=\"M250.65,360V305.52H250.95V360Z\" style=\"vector-effect: non-scaling-stroke; opacity: 1; stroke-width: 0px; fill: rgb(255, 161, 90); fill-opacity: 1;\"/></g><g class=\"point\"><path d=\"M252.54,360V289.38H252.84V360Z\" style=\"vector-effect: non-scaling-stroke; opacity: 1; stroke-width: 0px; fill: rgb(255, 161, 90); fill-opacity: 1;\"/></g><g class=\"point\"><path d=\"M254.43,360V315.61H254.73V360Z\" style=\"vector-effect: non-scaling-stroke; opacity: 1; stroke-width: 0px; fill: rgb(255, 161, 90); fill-opacity: 1;\"/></g><g class=\"point\"><path d=\"M256.32,360V305.52H256.62V360Z\" style=\"vector-effect: non-scaling-stroke; opacity: 1; stroke-width: 0px; fill: rgb(255, 161, 90); fill-opacity: 1;\"/></g><g class=\"point\"><path d=\"M258.21,360V248.02H258.51V360Z\" style=\"vector-effect: non-scaling-stroke; opacity: 1; stroke-width: 0px; fill: rgb(255, 161, 90); fill-opacity: 1;\"/></g><g class=\"point\"><path d=\"M260.09,360V149.15H260.4V360Z\" style=\"vector-effect: non-scaling-stroke; opacity: 1; stroke-width: 0px; fill: rgb(255, 161, 90); fill-opacity: 1;\"/></g><g class=\"point\"><path d=\"M261.98,360V238.94H262.28V360Z\" style=\"vector-effect: non-scaling-stroke; opacity: 1; stroke-width: 0px; fill: rgb(255, 161, 90); fill-opacity: 1;\"/></g><g class=\"point\"><path d=\"M263.87,360V249.03H264.17V360Z\" style=\"vector-effect: non-scaling-stroke; opacity: 1; stroke-width: 0px; fill: rgb(255, 161, 90); fill-opacity: 1;\"/></g><g class=\"point\"><path d=\"M265.76,360V232.88H266.06V360Z\" style=\"vector-effect: non-scaling-stroke; opacity: 1; stroke-width: 0px; fill: rgb(255, 161, 90); fill-opacity: 1;\"/></g><g class=\"point\"><path d=\"M267.65,360V144.11H267.95V360Z\" style=\"vector-effect: non-scaling-stroke; opacity: 1; stroke-width: 0px; fill: rgb(255, 161, 90); fill-opacity: 1;\"/></g><g class=\"point\"><path d=\"M269.54,360V231.88H269.84V360Z\" style=\"vector-effect: non-scaling-stroke; opacity: 1; stroke-width: 0px; fill: rgb(255, 161, 90); fill-opacity: 1;\"/></g><g class=\"point\"><path d=\"M271.42,360V250.04H271.73V360Z\" style=\"vector-effect: non-scaling-stroke; opacity: 1; stroke-width: 0px; fill: rgb(255, 161, 90); fill-opacity: 1;\"/></g><g class=\"point\"><path d=\"M273.31,360V285.35H273.61V360Z\" style=\"vector-effect: non-scaling-stroke; opacity: 1; stroke-width: 0px; fill: rgb(255, 161, 90); fill-opacity: 1;\"/></g><g class=\"point\"><path d=\"M275.2,360V261.13H275.5V360Z\" style=\"vector-effect: non-scaling-stroke; opacity: 1; stroke-width: 0px; fill: rgb(255, 161, 90); fill-opacity: 1;\"/></g><g class=\"point\"><path d=\"M277.09,360V228.85H277.39V360Z\" style=\"vector-effect: non-scaling-stroke; opacity: 1; stroke-width: 0px; fill: rgb(255, 161, 90); fill-opacity: 1;\"/></g><g class=\"point\"><path d=\"M278.98,360V246H279.28V360Z\" style=\"vector-effect: non-scaling-stroke; opacity: 1; stroke-width: 0px; fill: rgb(255, 161, 90); fill-opacity: 1;\"/></g><g class=\"point\"><path d=\"M280.87,360V164.28H281.17V360Z\" style=\"vector-effect: non-scaling-stroke; opacity: 1; stroke-width: 0px; fill: rgb(255, 161, 90); fill-opacity: 1;\"/></g><g class=\"point\"><path d=\"M282.75,360V234.9H283.06V360Z\" style=\"vector-effect: non-scaling-stroke; opacity: 1; stroke-width: 0px; fill: rgb(255, 161, 90); fill-opacity: 1;\"/></g><g class=\"point\"><path d=\"M284.64,360V234.9H284.94V360Z\" style=\"vector-effect: non-scaling-stroke; opacity: 1; stroke-width: 0px; fill: rgb(255, 161, 90); fill-opacity: 1;\"/></g><g class=\"point\"><path d=\"M286.53,360V207.66H286.83V360Z\" style=\"vector-effect: non-scaling-stroke; opacity: 1; stroke-width: 0px; fill: rgb(255, 161, 90); fill-opacity: 1;\"/></g><g class=\"point\"><path d=\"M288.42,360V247.01H288.72V360Z\" style=\"vector-effect: non-scaling-stroke; opacity: 1; stroke-width: 0px; fill: rgb(255, 161, 90); fill-opacity: 1;\"/></g><g class=\"point\"><path d=\"M290.31,360V261.13H290.61V360Z\" style=\"vector-effect: non-scaling-stroke; opacity: 1; stroke-width: 0px; fill: rgb(255, 161, 90); fill-opacity: 1;\"/></g><g class=\"point\"><path d=\"M292.2,360V241.96H292.5V360Z\" style=\"vector-effect: non-scaling-stroke; opacity: 1; stroke-width: 0px; fill: rgb(255, 161, 90); fill-opacity: 1;\"/></g><g class=\"point\"><path d=\"M294.08,360V187.49H294.39V360Z\" style=\"vector-effect: non-scaling-stroke; opacity: 1; stroke-width: 0px; fill: rgb(255, 161, 90); fill-opacity: 1;\"/></g><g class=\"point\"><path d=\"M295.97,360V156.21H296.27V360Z\" style=\"vector-effect: non-scaling-stroke; opacity: 1; stroke-width: 0px; fill: rgb(255, 161, 90); fill-opacity: 1;\"/></g><g class=\"point\"><path d=\"M297.86,360V227.84H298.16V360Z\" style=\"vector-effect: non-scaling-stroke; opacity: 1; stroke-width: 0px; fill: rgb(255, 161, 90); fill-opacity: 1;\"/></g><g class=\"point\"><path d=\"M299.75,360V260.12H300.05V360Z\" style=\"vector-effect: non-scaling-stroke; opacity: 1; stroke-width: 0px; fill: rgb(255, 161, 90); fill-opacity: 1;\"/></g><g class=\"point\"><path d=\"M301.64,360V219.77H301.94V360Z\" style=\"vector-effect: non-scaling-stroke; opacity: 1; stroke-width: 0px; fill: rgb(255, 161, 90); fill-opacity: 1;\"/></g><g class=\"point\"><path d=\"M303.52,360V246H303.83V360Z\" style=\"vector-effect: non-scaling-stroke; opacity: 1; stroke-width: 0px; fill: rgb(255, 161, 90); fill-opacity: 1;\"/></g><g class=\"point\"><path d=\"M305.41,360V228.85H305.72V360Z\" style=\"vector-effect: non-scaling-stroke; opacity: 1; stroke-width: 0px; fill: rgb(255, 161, 90); fill-opacity: 1;\"/></g><g class=\"point\"><path d=\"M307.3,360V234.9H307.6V360Z\" style=\"vector-effect: non-scaling-stroke; opacity: 1; stroke-width: 0px; fill: rgb(255, 161, 90); fill-opacity: 1;\"/></g><g class=\"point\"><path d=\"M309.19,360V266.18H309.49V360Z\" style=\"vector-effect: non-scaling-stroke; opacity: 1; stroke-width: 0px; fill: rgb(255, 161, 90); fill-opacity: 1;\"/></g><g class=\"point\"><path d=\"M311.08,360V259.12H311.38V360Z\" style=\"vector-effect: non-scaling-stroke; opacity: 1; stroke-width: 0px; fill: rgb(255, 161, 90); fill-opacity: 1;\"/></g><g class=\"point\"><path d=\"M312.97,360V228.85H313.27V360Z\" style=\"vector-effect: non-scaling-stroke; opacity: 1; stroke-width: 0px; fill: rgb(255, 161, 90); fill-opacity: 1;\"/></g><g class=\"point\"><path d=\"M314.85,360V252.05H315.16V360Z\" style=\"vector-effect: non-scaling-stroke; opacity: 1; stroke-width: 0px; fill: rgb(255, 161, 90); fill-opacity: 1;\"/></g><g class=\"point\"><path d=\"M316.74,360V259.12H317.05V360Z\" style=\"vector-effect: non-scaling-stroke; opacity: 1; stroke-width: 0px; fill: rgb(255, 161, 90); fill-opacity: 1;\"/></g><g class=\"point\"><path d=\"M318.63,360V268.19H318.93V360Z\" style=\"vector-effect: non-scaling-stroke; opacity: 1; stroke-width: 0px; fill: rgb(255, 161, 90); fill-opacity: 1;\"/></g><g class=\"point\"><path d=\"M320.52,360V253.06H320.82V360Z\" style=\"vector-effect: non-scaling-stroke; opacity: 1; stroke-width: 0px; fill: rgb(255, 161, 90); fill-opacity: 1;\"/></g><g class=\"point\"><path d=\"M322.41,360V314.6H322.71V360Z\" style=\"vector-effect: non-scaling-stroke; opacity: 1; stroke-width: 0px; fill: rgb(255, 161, 90); fill-opacity: 1;\"/></g><g class=\"point\"><path d=\"M324.3,360V297.45H324.6V360Z\" style=\"vector-effect: non-scaling-stroke; opacity: 1; stroke-width: 0px; fill: rgb(255, 161, 90); fill-opacity: 1;\"/></g><g class=\"point\"><path d=\"M326.18,360V278.28H326.49V360Z\" style=\"vector-effect: non-scaling-stroke; opacity: 1; stroke-width: 0px; fill: rgb(255, 161, 90); fill-opacity: 1;\"/></g><g class=\"point\"><path d=\"M328.07,360V297.45H328.38V360Z\" style=\"vector-effect: non-scaling-stroke; opacity: 1; stroke-width: 0px; fill: rgb(255, 161, 90); fill-opacity: 1;\"/></g><g class=\"point\"><path d=\"M329.96,360V335.79H330.26V360Z\" style=\"vector-effect: non-scaling-stroke; opacity: 1; stroke-width: 0px; fill: rgb(255, 161, 90); fill-opacity: 1;\"/></g><g class=\"point\"><path d=\"M331.85,360V315.61H332.15V360Z\" style=\"vector-effect: non-scaling-stroke; opacity: 1; stroke-width: 0px; fill: rgb(255, 161, 90); fill-opacity: 1;\"/></g><g class=\"point\"><path d=\"M333.74,360V270.21H334.04V360Z\" style=\"vector-effect: non-scaling-stroke; opacity: 1; stroke-width: 0px; fill: rgb(255, 161, 90); fill-opacity: 1;\"/></g><g class=\"point\"><path d=\"M335.63,360V348.9H335.93V360Z\" style=\"vector-effect: non-scaling-stroke; opacity: 1; stroke-width: 0px; fill: rgb(255, 161, 90); fill-opacity: 1;\"/></g><g class=\"point\"><path d=\"M337.51,360V349.91H337.82V360Z\" style=\"vector-effect: non-scaling-stroke; opacity: 1; stroke-width: 0px; fill: rgb(255, 161, 90); fill-opacity: 1;\"/></g><g class=\"point\"><path d=\"M339.4,360V346.88H339.7V360Z\" style=\"vector-effect: non-scaling-stroke; opacity: 1; stroke-width: 0px; fill: rgb(255, 161, 90); fill-opacity: 1;\"/></g><g class=\"point\"><path d=\"M341.29,360V348.9H341.59V360Z\" style=\"vector-effect: non-scaling-stroke; opacity: 1; stroke-width: 0px; fill: rgb(255, 161, 90); fill-opacity: 1;\"/></g><g class=\"point\"><path d=\"M343.18,360V348.9H343.48V360Z\" style=\"vector-effect: non-scaling-stroke; opacity: 1; stroke-width: 0px; fill: rgb(255, 161, 90); fill-opacity: 1;\"/></g><g class=\"point\"><path d=\"M345.07,360V345.88H345.37V360Z\" style=\"vector-effect: non-scaling-stroke; opacity: 1; stroke-width: 0px; fill: rgb(255, 161, 90); fill-opacity: 1;\"/></g><g class=\"point\"><path d=\"M346.96,360V339.82H347.26V360Z\" style=\"vector-effect: non-scaling-stroke; opacity: 1; stroke-width: 0px; fill: rgb(255, 161, 90); fill-opacity: 1;\"/></g><g class=\"point\"><path d=\"M348.84,360V351.93H349.15V360Z\" style=\"vector-effect: non-scaling-stroke; opacity: 1; stroke-width: 0px; fill: rgb(255, 161, 90); fill-opacity: 1;\"/></g><g class=\"point\"><path d=\"M350.73,360V358.99H351.03V360Z\" style=\"vector-effect: non-scaling-stroke; opacity: 1; stroke-width: 0px; fill: rgb(255, 161, 90); fill-opacity: 1;\"/></g><g class=\"point\"><path d=\"M352.62,360V351.93H352.92V360Z\" style=\"vector-effect: non-scaling-stroke; opacity: 1; stroke-width: 0px; fill: rgb(255, 161, 90); fill-opacity: 1;\"/></g><g class=\"point\"><path d=\"M354.51,360V346.88H354.81V360Z\" style=\"vector-effect: non-scaling-stroke; opacity: 1; stroke-width: 0px; fill: rgb(255, 161, 90); fill-opacity: 1;\"/></g></g></g></g></g><g class=\"overplot\"/><path class=\"xlines-above crisp\" d=\"M0,0\" style=\"fill: none;\"/><path class=\"ylines-above crisp\" d=\"M0,0\" style=\"fill: none;\"/><g class=\"overlines-above\"/><g class=\"xaxislayer-above\"><g class=\"xtick\"><text text-anchor=\"middle\" x=\"0\" y=\"433\" transform=\"translate(162.14,0)\" style=\"font-family: 'Open Sans', verdana, arial, sans-serif; font-size: 12px; fill: rgb(42, 63, 95); fill-opacity: 1; white-space: pre; opacity: 1;\"><tspan class=\"line\" dy=\"0em\" x=\"0\" y=\"433\">12:00</tspan><tspan class=\"line\" dy=\"1.3em\" x=\"0\" y=\"433\">Jul 31, 2019</tspan></text></g><g class=\"xtick\"><text text-anchor=\"middle\" x=\"0\" y=\"433\" style=\"font-family: 'Open Sans', verdana, arial, sans-serif; font-size: 12px; fill: rgb(42, 63, 95); fill-opacity: 1; white-space: pre; opacity: 1;\" transform=\"translate(252.78,0)\"><tspan class=\"line\" dy=\"0em\" x=\"0\" y=\"433\">00:00</tspan><tspan class=\"line\" dy=\"1.3em\" x=\"0\" y=\"433\">Aug 1, 2019</tspan></text></g><g class=\"xtick\"><text text-anchor=\"middle\" x=\"0\" y=\"433\" style=\"font-family: 'Open Sans', verdana, arial, sans-serif; font-size: 12px; fill: rgb(42, 63, 95); fill-opacity: 1; white-space: pre; opacity: 1;\" transform=\"translate(343.42,0)\">12:00</text></g><g class=\"xtick\"><text text-anchor=\"middle\" x=\"0\" y=\"433\" style=\"font-family: 'Open Sans', verdana, arial, sans-serif; font-size: 12px; fill: rgb(42, 63, 95); fill-opacity: 1; white-space: pre; opacity: 1;\" transform=\"translate(434.06,0)\"><tspan class=\"line\" dy=\"0em\" x=\"0\" y=\"433\">00:00</tspan><tspan class=\"line\" dy=\"1.3em\" x=\"0\" y=\"433\">Aug 2, 2019</tspan></text></g></g><g class=\"yaxislayer-above\"><g class=\"ytick\"><text text-anchor=\"end\" x=\"79\" y=\"4.199999999999999\" transform=\"translate(0,420)\" style=\"font-family: 'Open Sans', verdana, arial, sans-serif; font-size: 12px; fill: rgb(42, 63, 95); fill-opacity: 1; white-space: pre; opacity: 1;\">0</text></g><g class=\"ytick\"><text text-anchor=\"end\" x=\"79\" y=\"4.199999999999999\" style=\"font-family: 'Open Sans', verdana, arial, sans-serif; font-size: 12px; fill: rgb(42, 63, 95); fill-opacity: 1; white-space: pre; opacity: 1;\" transform=\"translate(0,369.56)\">50</text></g><g class=\"ytick\"><text text-anchor=\"end\" x=\"79\" y=\"4.199999999999999\" style=\"font-family: 'Open Sans', verdana, arial, sans-serif; font-size: 12px; fill: rgb(42, 63, 95); fill-opacity: 1; white-space: pre; opacity: 1;\" transform=\"translate(0,319.12)\">100</text></g><g class=\"ytick\"><text text-anchor=\"end\" x=\"79\" y=\"4.199999999999999\" style=\"font-family: 'Open Sans', verdana, arial, sans-serif; font-size: 12px; fill: rgb(42, 63, 95); fill-opacity: 1; white-space: pre; opacity: 1;\" transform=\"translate(0,268.66999999999996)\">150</text></g><g class=\"ytick\"><text text-anchor=\"end\" x=\"79\" y=\"4.199999999999999\" style=\"font-family: 'Open Sans', verdana, arial, sans-serif; font-size: 12px; fill: rgb(42, 63, 95); fill-opacity: 1; white-space: pre; opacity: 1;\" transform=\"translate(0,218.23)\">200</text></g><g class=\"ytick\"><text text-anchor=\"end\" x=\"79\" y=\"4.199999999999999\" style=\"font-family: 'Open Sans', verdana, arial, sans-serif; font-size: 12px; fill: rgb(42, 63, 95); fill-opacity: 1; white-space: pre; opacity: 1;\" transform=\"translate(0,167.79000000000002)\">250</text></g><g class=\"ytick\"><text text-anchor=\"end\" x=\"79\" y=\"4.199999999999999\" style=\"font-family: 'Open Sans', verdana, arial, sans-serif; font-size: 12px; fill: rgb(42, 63, 95); fill-opacity: 1; white-space: pre; opacity: 1;\" transform=\"translate(0,117.35)\">300</text></g><g class=\"ytick\"><text text-anchor=\"end\" x=\"79\" y=\"4.199999999999999\" style=\"font-family: 'Open Sans', verdana, arial, sans-serif; font-size: 12px; fill: rgb(42, 63, 95); fill-opacity: 1; white-space: pre; opacity: 1;\" transform=\"translate(0,66.9)\">350</text></g></g><g class=\"overaxes-above\"/></g></g><g class=\"polarlayer\"/><g class=\"smithlayer\"/><g class=\"ternarylayer\"/><g class=\"geolayer\"/><g class=\"funnelarealayer\"/><g class=\"pielayer\"/><g class=\"iciclelayer\"/><g class=\"treemaplayer\"/><g class=\"sunburstlayer\"/><g class=\"glimages\"/><defs id=\"topdefs-d92348\"><g class=\"clips\"/><clipPath id=\"legendd92348\"><rect width=\"246\" height=\"124\" x=\"0\" y=\"0\"/></clipPath></defs><g class=\"layer-above\"><g class=\"imagelayer\"/><g class=\"shapelayer\"/></g><g class=\"infolayer\"><g class=\"legend\" pointer-events=\"all\" transform=\"translate(442.1,60)\"><rect class=\"bg\" shape-rendering=\"crispEdges\" style=\"stroke: rgb(68, 68, 68); stroke-opacity: 1; fill: rgb(255, 255, 255); fill-opacity: 1; stroke-width: 0px;\" width=\"246\" height=\"124\" x=\"0\" y=\"0\"/><g class=\"scrollbox\" transform=\"\" clip-path=\"url(#legendd92348)\"><text class=\"legendtitletext\" text-anchor=\"start\" x=\"2\" y=\"18.2\" style=\"font-family: 'Open Sans', verdana, arial, sans-serif; font-size: 14px; fill: rgb(42, 63, 95); fill-opacity: 1; white-space: pre;\">Событие</text><g class=\"groups\" transform=\"\"><g class=\"traces\" transform=\"translate(0,32.7)\" style=\"opacity: 1;\"><text class=\"legendtext\" text-anchor=\"start\" x=\"40\" y=\"4.680000000000001\" style=\"font-family: 'Open Sans', verdana, arial, sans-serif; font-size: 12px; fill: rgb(42, 63, 95); fill-opacity: 1; white-space: pre;\">главный экран</text><g class=\"layers\" style=\"opacity: 1;\"><g class=\"legendfill\"/><g class=\"legendlines\"/><g class=\"legendsymbols\"><g class=\"legendpoints\"><path class=\"legendundefined\" d=\"M6,6H-6V-6H6Z\" transform=\"translate(20,0)\" style=\"stroke-width: 0px; fill: rgb(99, 110, 250); fill-opacity: 1;\"/></g></g></g><rect class=\"legendtoggle\" x=\"0\" y=\"-9.5\" width=\"240.0625\" height=\"19\" style=\"fill: rgb(0, 0, 0); fill-opacity: 0;\"/></g></g><g class=\"groups\" transform=\"\"><g class=\"traces\" transform=\"translate(0,51.7)\" style=\"opacity: 1;\"><text class=\"legendtext\" text-anchor=\"start\" x=\"40\" y=\"4.680000000000001\" style=\"font-family: 'Open Sans', verdana, arial, sans-serif; font-size: 12px; fill: rgb(42, 63, 95); fill-opacity: 1; white-space: pre;\">экран с предложением</text><g class=\"layers\" style=\"opacity: 1;\"><g class=\"legendfill\"/><g class=\"legendlines\"/><g class=\"legendsymbols\"><g class=\"legendpoints\"><path class=\"legendundefined\" d=\"M6,6H-6V-6H6Z\" transform=\"translate(20,0)\" style=\"stroke-width: 0px; fill: rgb(239, 85, 59); fill-opacity: 1;\"/></g></g></g><rect class=\"legendtoggle\" x=\"0\" y=\"-9.5\" width=\"240.0625\" height=\"19\" style=\"fill: rgb(0, 0, 0); fill-opacity: 0;\"/></g></g><g class=\"groups\" transform=\"\"><g class=\"traces\" transform=\"translate(0,70.7)\" style=\"opacity: 1;\"><text class=\"legendtext\" text-anchor=\"start\" x=\"40\" y=\"4.680000000000001\" style=\"font-family: 'Open Sans', verdana, arial, sans-serif; font-size: 12px; fill: rgb(42, 63, 95); fill-opacity: 1; white-space: pre;\">обучение</text><g class=\"layers\" style=\"opacity: 1;\"><g class=\"legendfill\"/><g class=\"legendlines\"/><g class=\"legendsymbols\"><g class=\"legendpoints\"><path class=\"legendundefined\" d=\"M6,6H-6V-6H6Z\" transform=\"translate(20,0)\" style=\"stroke-width: 0px; fill: rgb(0, 204, 150); fill-opacity: 1;\"/></g></g></g><rect class=\"legendtoggle\" x=\"0\" y=\"-9.5\" width=\"240.0625\" height=\"19\" style=\"fill: rgb(0, 0, 0); fill-opacity: 0;\"/></g></g><g class=\"groups\" transform=\"\"><g class=\"traces\" transform=\"translate(0,89.7)\" style=\"opacity: 1;\"><text class=\"legendtext\" text-anchor=\"start\" x=\"40\" y=\"4.680000000000001\" style=\"font-family: 'Open Sans', verdana, arial, sans-serif; font-size: 12px; fill: rgb(42, 63, 95); fill-opacity: 1; white-space: pre;\">сообщение об успешной оплате</text><g class=\"layers\" style=\"opacity: 1;\"><g class=\"legendfill\"/><g class=\"legendlines\"/><g class=\"legendsymbols\"><g class=\"legendpoints\"><path class=\"legendundefined\" d=\"M6,6H-6V-6H6Z\" transform=\"translate(20,0)\" style=\"stroke-width: 0px; fill: rgb(171, 99, 250); fill-opacity: 1;\"/></g></g></g><rect class=\"legendtoggle\" x=\"0\" y=\"-9.5\" width=\"240.0625\" height=\"19\" style=\"fill: rgb(0, 0, 0); fill-opacity: 0;\"/></g></g><g class=\"groups\" transform=\"\"><g class=\"traces\" transform=\"translate(0,108.7)\" style=\"opacity: 1;\"><text class=\"legendtext\" text-anchor=\"start\" x=\"40\" y=\"4.680000000000001\" style=\"font-family: 'Open Sans', verdana, arial, sans-serif; font-size: 12px; fill: rgb(42, 63, 95); fill-opacity: 1; white-space: pre;\">экран с корзиной товаров</text><g class=\"layers\" style=\"opacity: 1;\"><g class=\"legendfill\"/><g class=\"legendlines\"/><g class=\"legendsymbols\"><g class=\"legendpoints\"><path class=\"legendundefined\" d=\"M6,6H-6V-6H6Z\" transform=\"translate(20,0)\" style=\"stroke-width: 0px; fill: rgb(255, 161, 90); fill-opacity: 1;\"/></g></g></g><rect class=\"legendtoggle\" x=\"0\" y=\"-9.5\" width=\"240.0625\" height=\"19\" style=\"fill: rgb(0, 0, 0); fill-opacity: 0;\"/></g></g></g><rect class=\"scrollbar\" rx=\"20\" ry=\"3\" width=\"0\" height=\"0\" style=\"fill: rgb(128, 139, 164); fill-opacity: 1;\" x=\"0\" y=\"0\"/></g><g class=\"g-gtitle\"><text class=\"gtitle\" x=\"196.00000000000003\" y=\"30\" text-anchor=\"start\" dy=\"0em\" style=\"font-family: 'Open Sans', verdana, arial, sans-serif; font-size: 17px; fill: rgb(42, 63, 95); opacity: 1; font-weight: normal; white-space: pre;\">События с с 31-07 по 01-08</text></g><g class=\"g-xtitle\"><text class=\"xtitle\" x=\"257.5\" y=\"476.409375\" text-anchor=\"middle\" style=\"font-family: 'Open Sans', verdana, arial, sans-serif; font-size: 14px; fill: rgb(42, 63, 95); opacity: 1; font-weight: normal; white-space: pre;\">Время события</text></g><g class=\"g-ytitle\"><text class=\"ytitle\" transform=\"rotate(-90,31.309375000000003,240)\" x=\"31.309375000000003\" y=\"240\" text-anchor=\"middle\" style=\"font-family: 'Open Sans', verdana, arial, sans-serif; font-size: 14px; fill: rgb(42, 63, 95); opacity: 1; font-weight: normal; white-space: pre;\">Количество событий</text></g></g></svg>"
      ]
     },
     "metadata": {},
     "output_type": "display_data"
    }
   ],
   "source": [
    "# возьмём данные с 31-07 по 01-08\n",
    "# и визуализируем количество событий\n",
    "\n",
    "events = eda.query('20190730 < event_date < 20190802')\n",
    "\n",
    "labels = dict(\n",
    "    event_time = 'Время события',\n",
    "    event_type = 'Событие',\n",
    "    count = 'Количество событий'\n",
    ")\n",
    "\n",
    "fig = (\n",
    "    px.histogram(events,x='event_time', \n",
    "                 color='event_type', \n",
    "                 barmode='group',\n",
    "                 labels=labels)\n",
    ")\n",
    "\n",
    "fig.update_yaxes(title='Количество событий')\n",
    "fig.update_layout(title = 'События с с 31-07 по 01-08', title_x= .28)\n",
    "\n",
    "fig.show()"
   ]
  },
  {
   "cell_type": "markdown",
   "metadata": {},
   "source": [
    "На графике отчётливо виден рост активности 31-07, начиная примерно с 21:00 - это и станет точкой начала актуального периода исследования:"
   ]
  },
  {
   "cell_type": "code",
   "execution_count": 16,
   "metadata": {},
   "outputs": [],
   "source": [
    "# фильтруем данные\n",
    "\n",
    "eda = eda.query('20190731210000 <= event_time')"
   ]
  },
  {
   "cell_type": "markdown",
   "metadata": {},
   "source": [
    "Теперь заново расчитаем основные параметры - количество уникальных событий и пользователей, среднее количество событий, распределение пользователей по группа эксперемента:"
   ]
  },
  {
   "cell_type": "code",
   "execution_count": 17,
   "metadata": {},
   "outputs": [
    {
     "name": "stdout",
     "output_type": "stream",
     "text": [
      "Обработанная таблица содержит данные 7538 уникальных пользователей, на каждого в среднем приходится 32 события, \n",
      "в том числе 5 покупок. Было удалено 0.99% оригинального датасета.\n",
      "Разница в количестве уникальных пользователей составляет 13.\n"
     ]
    }
   ],
   "source": [
    "eda_unique_users = eda['user_id'].unique().size\n",
    "eda_mean_events = round(eda['event_type'].count()/unique_users)\n",
    "eda_mean_purhases = round(\n",
    "    eda[\n",
    "        eda['event_type'] == 'сообщение об успешной оплате'\n",
    "    ]['event_type']\n",
    "    .count()/unique_users)\n",
    "\n",
    "print(f'Обработанная таблица содержит данные {eda_unique_users} уникальных пользователей, ' \n",
    "      f'на каждого в среднем приходится {eda_mean_events} события, \\n' \n",
    "      f'в том числе {eda_mean_purhases} покупок. Было удалено {round(len(eda)/len(data), 2)}% оригинального датасета.\\n'\n",
    "      f'Разница в количестве уникальных пользователей составляет {unique_users-eda_unique_users}.'\n",
    "     )"
   ]
  },
  {
   "cell_type": "markdown",
   "metadata": {},
   "source": [
    "Сократив исследуемый период вдвое, мы потеряли лишь 1% данных. 13 уникальных пользователей было потеряно, но среднее число событий и покупок осталось без изменений. \n",
    "Последний шаг - проверим соотношение распределения пользователей по эксперементальным группам:"
   ]
  },
  {
   "cell_type": "code",
   "execution_count": 18,
   "metadata": {},
   "outputs": [
    {
     "data": {
      "text/html": [
       "<div>\n",
       "<style scoped>\n",
       "    .dataframe tbody tr th:only-of-type {\n",
       "        vertical-align: middle;\n",
       "    }\n",
       "\n",
       "    .dataframe tbody tr th {\n",
       "        vertical-align: top;\n",
       "    }\n",
       "\n",
       "    .dataframe thead th {\n",
       "        text-align: right;\n",
       "    }\n",
       "</style>\n",
       "<table border=\"1\" class=\"dataframe\">\n",
       "  <thead>\n",
       "    <tr style=\"text-align: right;\">\n",
       "      <th></th>\n",
       "      <th>original_users</th>\n",
       "      <th>actual_users</th>\n",
       "      <th>original_ratio</th>\n",
       "      <th>actual_ratio</th>\n",
       "    </tr>\n",
       "    <tr>\n",
       "      <th>group</th>\n",
       "      <th></th>\n",
       "      <th></th>\n",
       "      <th></th>\n",
       "      <th></th>\n",
       "    </tr>\n",
       "  </thead>\n",
       "  <tbody>\n",
       "    <tr>\n",
       "      <th>B</th>\n",
       "      <td>85747</td>\n",
       "      <td>85039</td>\n",
       "      <td>0.35</td>\n",
       "      <td>0.35</td>\n",
       "    </tr>\n",
       "    <tr>\n",
       "      <th>A_1</th>\n",
       "      <td>80304</td>\n",
       "      <td>79679</td>\n",
       "      <td>0.33</td>\n",
       "      <td>0.33</td>\n",
       "    </tr>\n",
       "    <tr>\n",
       "      <th>A_2</th>\n",
       "      <td>78075</td>\n",
       "      <td>77418</td>\n",
       "      <td>0.32</td>\n",
       "      <td>0.32</td>\n",
       "    </tr>\n",
       "  </tbody>\n",
       "</table>\n",
       "</div>"
      ],
      "text/plain": [
       "       original_users  actual_users  original_ratio  actual_ratio\n",
       "group                                                            \n",
       "B               85747         85039            0.35          0.35\n",
       "A_1             80304         79679            0.33          0.33\n",
       "A_2             78075         77418            0.32          0.32"
      ]
     },
     "execution_count": 18,
     "metadata": {},
     "output_type": "execute_result"
    }
   ],
   "source": [
    "# посчитаем уникальных пользователей оригинального датафрейма\n",
    "# и добавим данные обработанной таблицы\n",
    "\n",
    "test_groups = (\n",
    "    data['test_group']\n",
    "    .value_counts()\n",
    "    .reset_index()\n",
    "    .rename(columns={\n",
    "        'index':'group',\n",
    "        'test_group':'original_users'})\n",
    "    .merge(eda['test_group']\n",
    "           .value_counts()\n",
    "           .reset_index(), \n",
    "           right_on='index',\n",
    "           left_on='group')\n",
    "    .drop('index', axis=1)\n",
    "    .rename(columns={'test_group':'actual_users'})\n",
    "    .set_index('group')\n",
    ")\n",
    "\n",
    "# посчитаем оригинальное соотношение\n",
    "\n",
    "test_groups['original_ratio'] = round(\n",
    "    test_groups['original_users']/\n",
    "    test_groups['original_users'].sum(), 2\n",
    ")\n",
    "\n",
    "# соотношение обработанной таблицы\n",
    "\n",
    "test_groups['actual_ratio'] = round(\n",
    "    test_groups['actual_users']/\n",
    "    test_groups['actual_users'].sum(), 2\n",
    ")\n",
    "\n",
    "test_groups"
   ]
  },
  {
   "cell_type": "markdown",
   "metadata": {},
   "source": [
    "Соотношение распределения пользователей по эксперементальным группам также не изменилось, что лишний раз подтверждает корректность установленного актуального периода исследования."
   ]
  },
  {
   "cell_type": "code",
   "execution_count": 19,
   "metadata": {},
   "outputs": [
    {
     "data": {
      "text/plain": [
       "Timestamp('2019-07-31 21:00:57')"
      ]
     },
     "metadata": {},
     "output_type": "display_data"
    },
    {
     "data": {
      "text/plain": [
       "Timestamp('2019-08-07 21:15:17')"
      ]
     },
     "execution_count": 19,
     "metadata": {},
     "output_type": "execute_result"
    }
   ],
   "source": [
    "# обновляем датафрейм\n",
    "\n",
    "data = eda\n",
    "\n",
    "# смотрим минимальное и максимальное время в обновлённых данных\n",
    "\n",
    "display(data['event_time'].min())\n",
    "data['event_time'].max()"
   ]
  },
  {
   "cell_type": "markdown",
   "metadata": {},
   "source": [
    "____\n",
    "Таким образом, актуальный период исследования - с **2019-07-31 21:00:00** по **2019-08-07 21:15:00**."
   ]
  },
  {
   "cell_type": "markdown",
   "metadata": {},
   "source": [
    "<a id='3'></a>"
   ]
  },
  {
   "cell_type": "markdown",
   "metadata": {},
   "source": [
    "## Анализ воронки событий\n",
    "Перейдём к анализу самих событий - посчитаем количество событий и пользователей, которые их совершают, а затем построим воронку:"
   ]
  },
  {
   "cell_type": "code",
   "execution_count": 20,
   "metadata": {},
   "outputs": [],
   "source": [
    "# группируем данные\n",
    "\n",
    "events = (\n",
    "    data\n",
    "    .pivot_table(index=('event_date','event_type'), \n",
    "                 values='user_id',\n",
    "                 aggfunc=('count','nunique')\n",
    "                )\n",
    "    .reset_index()\n",
    "    .rename(columns=dict(\n",
    "        count = 'events',\n",
    "        nunique='unique_users'))\n",
    "    .sort_values('events', ascending=False)\n",
    ")"
   ]
  },
  {
   "cell_type": "code",
   "execution_count": 21,
   "metadata": {},
   "outputs": [
    {
     "data": {
      "image/svg+xml": [
       "<svg class=\"main-svg\" xmlns=\"http://www.w3.org/2000/svg\" xmlns:xlink=\"http://www.w3.org/1999/xlink\" width=\"700\" height=\"500\" style=\"\" viewBox=\"0 0 700 500\"><rect x=\"0\" y=\"0\" width=\"700\" height=\"500\" style=\"fill: rgb(255, 255, 255); fill-opacity: 1;\"/><defs id=\"defs-a88d5f\"><g class=\"clips\"><clipPath id=\"clipa88d5fxyplot\" class=\"plotclip\"><rect width=\"355\" height=\"360\"/></clipPath><clipPath class=\"axesclip\" id=\"clipa88d5fx\"><rect x=\"80\" y=\"0\" width=\"355\" height=\"500\"/></clipPath><clipPath class=\"axesclip\" id=\"clipa88d5fy\"><rect x=\"0\" y=\"60\" width=\"700\" height=\"360\"/></clipPath><clipPath class=\"axesclip\" id=\"clipa88d5fxy\"><rect x=\"80\" y=\"60\" width=\"355\" height=\"360\"/></clipPath></g><g class=\"gradients\"/><g class=\"patterns\"/></defs><g class=\"bglayer\"><rect class=\"bg\" x=\"80\" y=\"60\" width=\"355\" height=\"360\" style=\"fill: rgb(229, 236, 246); fill-opacity: 1; stroke-width: 0;\"/></g><g class=\"layer-below\"><g class=\"imagelayer\"/><g class=\"shapelayer\"/></g><g class=\"cartesianlayer\"><g class=\"subplot xy\"><g class=\"layer-subplot\"><g class=\"shapelayer\"/><g class=\"imagelayer\"/></g><g class=\"minor-gridlayer\"><g class=\"x\"/><g class=\"y\"/></g><g class=\"gridlayer\"><g class=\"x\"/><g class=\"y\"><path class=\"ygrid crisp\" transform=\"translate(0,383.56)\" d=\"M80,0h355\" style=\"stroke: rgb(255, 255, 255); stroke-opacity: 1; stroke-width: 1px;\"/><path class=\"ygrid crisp\" transform=\"translate(0,347.12)\" d=\"M80,0h355\" style=\"stroke: rgb(255, 255, 255); stroke-opacity: 1; stroke-width: 1px;\"/><path class=\"ygrid crisp\" transform=\"translate(0,310.68)\" d=\"M80,0h355\" style=\"stroke: rgb(255, 255, 255); stroke-opacity: 1; stroke-width: 1px;\"/><path class=\"ygrid crisp\" transform=\"translate(0,274.24)\" d=\"M80,0h355\" style=\"stroke: rgb(255, 255, 255); stroke-opacity: 1; stroke-width: 1px;\"/><path class=\"ygrid crisp\" transform=\"translate(0,237.8)\" d=\"M80,0h355\" style=\"stroke: rgb(255, 255, 255); stroke-opacity: 1; stroke-width: 1px;\"/><path class=\"ygrid crisp\" transform=\"translate(0,201.36)\" d=\"M80,0h355\" style=\"stroke: rgb(255, 255, 255); stroke-opacity: 1; stroke-width: 1px;\"/><path class=\"ygrid crisp\" transform=\"translate(0,164.93)\" d=\"M80,0h355\" style=\"stroke: rgb(255, 255, 255); stroke-opacity: 1; stroke-width: 1px;\"/><path class=\"ygrid crisp\" transform=\"translate(0,128.49)\" d=\"M80,0h355\" style=\"stroke: rgb(255, 255, 255); stroke-opacity: 1; stroke-width: 1px;\"/><path class=\"ygrid crisp\" transform=\"translate(0,92.05)\" d=\"M80,0h355\" style=\"stroke: rgb(255, 255, 255); stroke-opacity: 1; stroke-width: 1px;\"/></g></g><g class=\"zerolinelayer\"><path class=\"yzl zl crisp\" transform=\"translate(0,420)\" d=\"M80,0h355\" style=\"stroke: rgb(255, 255, 255); stroke-opacity: 1; stroke-width: 2px;\"/></g><path class=\"xlines-below\"/><path class=\"ylines-below\"/><g class=\"overlines-below\"/><g class=\"xaxislayer-below\"/><g class=\"yaxislayer-below\"/><g class=\"overaxes-below\"/><g class=\"plot\" transform=\"translate(80,60)\" clip-path=\"url(#clipa88d5fxyplot)\"><g class=\"barlayer mlayer\"><g class=\"trace bars\" style=\"opacity: 1;\"><g class=\"points\"><g class=\"point\"><path d=\"M270.69,360V18H277.79V360Z\" style=\"vector-effect: non-scaling-stroke; opacity: 1; stroke-width: 0.5px; fill: rgb(99, 110, 250); fill-opacity: 1; stroke: rgb(229, 236, 246); stroke-opacity: 1;\"/></g><g class=\"point\"><path d=\"M226.31,360V31.68H233.41V360Z\" style=\"vector-effect: non-scaling-stroke; opacity: 1; stroke-width: 0.5px; fill: rgb(99, 110, 250); fill-opacity: 1; stroke: rgb(229, 236, 246); stroke-opacity: 1;\"/></g><g class=\"point\"><path d=\"M48.81,360V32.83H55.91V360Z\" style=\"vector-effect: non-scaling-stroke; opacity: 1; stroke-width: 0.5px; fill: rgb(99, 110, 250); fill-opacity: 1; stroke: rgb(229, 236, 246); stroke-opacity: 1;\"/></g><g class=\"point\"><path d=\"M93.19,360V53.69H100.29V360Z\" style=\"vector-effect: non-scaling-stroke; opacity: 1; stroke-width: 0.5px; fill: rgb(99, 110, 250); fill-opacity: 1; stroke: rgb(229, 236, 246); stroke-opacity: 1;\"/></g><g class=\"point\"><path d=\"M315.06,360V71.95H322.16V360Z\" style=\"vector-effect: non-scaling-stroke; opacity: 1; stroke-width: 0.5px; fill: rgb(99, 110, 250); fill-opacity: 1; stroke: rgb(229, 236, 246); stroke-opacity: 1;\"/></g><g class=\"point\"><path d=\"M181.94,360V82.77H189.04V360Z\" style=\"vector-effect: non-scaling-stroke; opacity: 1; stroke-width: 0.5px; fill: rgb(99, 110, 250); fill-opacity: 1; stroke: rgb(229, 236, 246); stroke-opacity: 1;\"/></g><g class=\"point\"><path d=\"M137.56,360V89.53H144.66V360Z\" style=\"vector-effect: non-scaling-stroke; opacity: 1; stroke-width: 0.5px; fill: rgb(99, 110, 250); fill-opacity: 1; stroke: rgb(229, 236, 246); stroke-opacity: 1;\"/></g><g class=\"point\"><path d=\"M4.44,360V349.78H11.54V360Z\" style=\"vector-effect: non-scaling-stroke; opacity: 1; stroke-width: 0.5px; fill: rgb(99, 110, 250); fill-opacity: 1; stroke: rgb(229, 236, 246); stroke-opacity: 1;\"/></g></g></g><g class=\"trace bars\" style=\"opacity: 1;\"><g class=\"points\"><g class=\"point\"><path d=\"M55.91,360V232.63H63.01V360Z\" style=\"vector-effect: non-scaling-stroke; opacity: 1; stroke-width: 0.5px; fill: rgb(239, 85, 59); fill-opacity: 1; stroke: rgb(229, 236, 246); stroke-opacity: 1;\"/></g><g class=\"point\"><path d=\"M100.29,360V233.81H107.39V360Z\" style=\"vector-effect: non-scaling-stroke; opacity: 1; stroke-width: 0.5px; fill: rgb(239, 85, 59); fill-opacity: 1; stroke: rgb(229, 236, 246); stroke-opacity: 1;\"/></g><g class=\"point\"><path d=\"M144.66,360V236.16H151.76V360Z\" style=\"vector-effect: non-scaling-stroke; opacity: 1; stroke-width: 0.5px; fill: rgb(239, 85, 59); fill-opacity: 1; stroke: rgb(229, 236, 246); stroke-opacity: 1;\"/></g><g class=\"point\"><path d=\"M233.41,360V238.44H240.51V360Z\" style=\"vector-effect: non-scaling-stroke; opacity: 1; stroke-width: 0.5px; fill: rgb(239, 85, 59); fill-opacity: 1; stroke: rgb(229, 236, 246); stroke-opacity: 1;\"/></g><g class=\"point\"><path d=\"M277.79,360V240.97H284.89V360Z\" style=\"vector-effect: non-scaling-stroke; opacity: 1; stroke-width: 0.5px; fill: rgb(239, 85, 59); fill-opacity: 1; stroke: rgb(229, 236, 246); stroke-opacity: 1;\"/></g><g class=\"point\"><path d=\"M189.04,360V241.75H196.14V360Z\" style=\"vector-effect: non-scaling-stroke; opacity: 1; stroke-width: 0.5px; fill: rgb(239, 85, 59); fill-opacity: 1; stroke: rgb(229, 236, 246); stroke-opacity: 1;\"/></g><g class=\"point\"><path d=\"M322.16,360V251.76H329.26V360Z\" style=\"vector-effect: non-scaling-stroke; opacity: 1; stroke-width: 0.5px; fill: rgb(239, 85, 59); fill-opacity: 1; stroke: rgb(229, 236, 246); stroke-opacity: 1;\"/></g><g class=\"point\"><path d=\"M11.54,360V356.39H18.64V360Z\" style=\"vector-effect: non-scaling-stroke; opacity: 1; stroke-width: 0.5px; fill: rgb(239, 85, 59); fill-opacity: 1; stroke: rgb(229, 236, 246); stroke-opacity: 1;\"/></g></g></g><g class=\"trace bars\" style=\"opacity: 1;\"><g class=\"points\"><g class=\"point\"><path d=\"M107.39,360V241.04H114.49V360Z\" style=\"vector-effect: non-scaling-stroke; opacity: 1; stroke-width: 0.5px; fill: rgb(0, 204, 150); fill-opacity: 1; stroke: rgb(229, 236, 246); stroke-opacity: 1;\"/></g><g class=\"point\"><path d=\"M151.76,360V243.74H158.86V360Z\" style=\"vector-effect: non-scaling-stroke; opacity: 1; stroke-width: 0.5px; fill: rgb(0, 204, 150); fill-opacity: 1; stroke: rgb(229, 236, 246); stroke-opacity: 1;\"/></g><g class=\"point\"><path d=\"M240.51,360V246H247.61V360Z\" style=\"vector-effect: non-scaling-stroke; opacity: 1; stroke-width: 0.5px; fill: rgb(0, 204, 150); fill-opacity: 1; stroke: rgb(229, 236, 246); stroke-opacity: 1;\"/></g><g class=\"point\"><path d=\"M63.01,360V246.47H70.11V360Z\" style=\"vector-effect: non-scaling-stroke; opacity: 1; stroke-width: 0.5px; fill: rgb(0, 204, 150); fill-opacity: 1; stroke: rgb(229, 236, 246); stroke-opacity: 1;\"/></g><g class=\"point\"><path d=\"M196.14,360V247.73H203.24V360Z\" style=\"vector-effect: non-scaling-stroke; opacity: 1; stroke-width: 0.5px; fill: rgb(0, 204, 150); fill-opacity: 1; stroke: rgb(229, 236, 246); stroke-opacity: 1;\"/></g><g class=\"point\"><path d=\"M284.89,360V255.35H291.99V360Z\" style=\"vector-effect: non-scaling-stroke; opacity: 1; stroke-width: 0.5px; fill: rgb(0, 204, 150); fill-opacity: 1; stroke: rgb(229, 236, 246); stroke-opacity: 1;\"/></g><g class=\"point\"><path d=\"M329.26,360V267.79H336.36V360Z\" style=\"vector-effect: non-scaling-stroke; opacity: 1; stroke-width: 0.5px; fill: rgb(0, 204, 150); fill-opacity: 1; stroke: rgb(229, 236, 246); stroke-opacity: 1;\"/></g><g class=\"point\"><path d=\"M18.64,360V359.25H25.74V360Z\" style=\"vector-effect: non-scaling-stroke; opacity: 1; stroke-width: 0.5px; fill: rgb(0, 204, 150); fill-opacity: 1; stroke: rgb(229, 236, 246); stroke-opacity: 1;\"/></g></g></g><g class=\"trace bars\" style=\"opacity: 1;\"><g class=\"points\"><g class=\"point\"><path d=\"M114.49,360V265.79H121.59V360Z\" style=\"vector-effect: non-scaling-stroke; opacity: 1; stroke-width: 0.5px; fill: rgb(171, 99, 250); fill-opacity: 1; stroke: rgb(229, 236, 246); stroke-opacity: 1;\"/></g><g class=\"point\"><path d=\"M158.86,360V265.88H165.96V360Z\" style=\"vector-effect: non-scaling-stroke; opacity: 1; stroke-width: 0.5px; fill: rgb(171, 99, 250); fill-opacity: 1; stroke: rgb(229, 236, 246); stroke-opacity: 1;\"/></g><g class=\"point\"><path d=\"M247.61,360V268.12H254.71V360Z\" style=\"vector-effect: non-scaling-stroke; opacity: 1; stroke-width: 0.5px; fill: rgb(171, 99, 250); fill-opacity: 1; stroke: rgb(229, 236, 246); stroke-opacity: 1;\"/></g><g class=\"point\"><path d=\"M203.24,360V268.45H210.34V360Z\" style=\"vector-effect: non-scaling-stroke; opacity: 1; stroke-width: 0.5px; fill: rgb(171, 99, 250); fill-opacity: 1; stroke: rgb(229, 236, 246); stroke-opacity: 1;\"/></g><g class=\"point\"><path d=\"M70.11,360V272.51H77.21V360Z\" style=\"vector-effect: non-scaling-stroke; opacity: 1; stroke-width: 0.5px; fill: rgb(171, 99, 250); fill-opacity: 1; stroke: rgb(229, 236, 246); stroke-opacity: 1;\"/></g><g class=\"point\"><path d=\"M291.99,360V275.39H299.09V360Z\" style=\"vector-effect: non-scaling-stroke; opacity: 1; stroke-width: 0.5px; fill: rgb(171, 99, 250); fill-opacity: 1; stroke: rgb(229, 236, 246); stroke-opacity: 1;\"/></g><g class=\"point\"><path d=\"M336.36,360V282.35H343.46V360Z\" style=\"vector-effect: non-scaling-stroke; opacity: 1; stroke-width: 0.5px; fill: rgb(171, 99, 250); fill-opacity: 1; stroke: rgb(229, 236, 246); stroke-opacity: 1;\"/></g><g class=\"point\"><path d=\"M25.74,360V359.4H32.84V360Z\" style=\"vector-effect: non-scaling-stroke; opacity: 1; stroke-width: 0.5px; fill: rgb(171, 99, 250); fill-opacity: 1; stroke: rgb(229, 236, 246); stroke-opacity: 1;\"/></g></g></g><g class=\"trace bars\" style=\"opacity: 1;\"><g class=\"points\"><g class=\"point\"><path d=\"M77.21,360V355.48H84.31V360Z\" style=\"vector-effect: non-scaling-stroke; opacity: 1; stroke-width: 0.5px; fill: rgb(255, 161, 90); fill-opacity: 1; stroke: rgb(229, 236, 246); stroke-opacity: 1;\"/></g><g class=\"point\"><path d=\"M121.59,360V356.94H128.69V360Z\" style=\"vector-effect: non-scaling-stroke; opacity: 1; stroke-width: 0.5px; fill: rgb(255, 161, 90); fill-opacity: 1; stroke: rgb(229, 236, 246); stroke-opacity: 1;\"/></g><g class=\"point\"><path d=\"M165.96,360V357.05H173.06V360Z\" style=\"vector-effect: non-scaling-stroke; opacity: 1; stroke-width: 0.5px; fill: rgb(255, 161, 90); fill-opacity: 1; stroke: rgb(229, 236, 246); stroke-opacity: 1;\"/></g><g class=\"point\"><path d=\"M210.34,360V357.45H217.44V360Z\" style=\"vector-effect: non-scaling-stroke; opacity: 1; stroke-width: 0.5px; fill: rgb(255, 161, 90); fill-opacity: 1; stroke: rgb(229, 236, 246); stroke-opacity: 1;\"/></g><g class=\"point\"><path d=\"M299.09,360V357.63H306.19V360Z\" style=\"vector-effect: non-scaling-stroke; opacity: 1; stroke-width: 0.5px; fill: rgb(255, 161, 90); fill-opacity: 1; stroke: rgb(229, 236, 246); stroke-opacity: 1;\"/></g><g class=\"point\"><path d=\"M254.71,360V357.8H261.81V360Z\" style=\"vector-effect: non-scaling-stroke; opacity: 1; stroke-width: 0.5px; fill: rgb(255, 161, 90); fill-opacity: 1; stroke: rgb(229, 236, 246); stroke-opacity: 1;\"/></g><g class=\"point\"><path d=\"M343.46,360V358.72H350.56V360Z\" style=\"vector-effect: non-scaling-stroke; opacity: 1; stroke-width: 0.5px; fill: rgb(255, 161, 90); fill-opacity: 1; stroke: rgb(229, 236, 246); stroke-opacity: 1;\"/></g><g class=\"point\"><path d=\"M32.84,360V359.91H39.94V360Z\" style=\"vector-effect: non-scaling-stroke; opacity: 1; stroke-width: 0.5px; fill: rgb(255, 161, 90); fill-opacity: 1; stroke: rgb(229, 236, 246); stroke-opacity: 1;\"/></g></g></g></g></g><g class=\"overplot\"/><path class=\"xlines-above crisp\" d=\"M0,0\" style=\"fill: none;\"/><path class=\"ylines-above crisp\" d=\"M0,0\" style=\"fill: none;\"/><g class=\"overlines-above\"/><g class=\"xaxislayer-above\"><g class=\"xtick\"><text text-anchor=\"middle\" x=\"0\" y=\"433\" transform=\"translate(102.19,0)\" style=\"font-family: 'Open Sans', verdana, arial, sans-serif; font-size: 12px; fill: rgb(42, 63, 95); fill-opacity: 1; white-space: pre; opacity: 1;\"><tspan class=\"line\" dy=\"0em\" x=\"0\" y=\"433\">Jul 31</tspan><tspan class=\"line\" dy=\"1.3em\" x=\"0\" y=\"433\">2019</tspan></text></g><g class=\"xtick\"><text text-anchor=\"middle\" x=\"0\" y=\"433\" style=\"font-family: 'Open Sans', verdana, arial, sans-serif; font-size: 12px; fill: rgb(42, 63, 95); fill-opacity: 1; white-space: pre; opacity: 1;\" transform=\"translate(190.94,0)\">Aug 2</text></g><g class=\"xtick\"><text text-anchor=\"middle\" x=\"0\" y=\"433\" style=\"font-family: 'Open Sans', verdana, arial, sans-serif; font-size: 12px; fill: rgb(42, 63, 95); fill-opacity: 1; white-space: pre; opacity: 1;\" transform=\"translate(279.69,0)\">Aug 4</text></g><g class=\"xtick\"><text text-anchor=\"middle\" x=\"0\" y=\"433\" style=\"font-family: 'Open Sans', verdana, arial, sans-serif; font-size: 12px; fill: rgb(42, 63, 95); fill-opacity: 1; white-space: pre; opacity: 1;\" transform=\"translate(368.44,0)\">Aug 6</text></g></g><g class=\"yaxislayer-above\"><g class=\"ytick\"><text text-anchor=\"end\" x=\"79\" y=\"4.199999999999999\" transform=\"translate(0,420)\" style=\"font-family: 'Open Sans', verdana, arial, sans-serif; font-size: 12px; fill: rgb(42, 63, 95); fill-opacity: 1; white-space: pre; opacity: 1;\">0</text></g><g class=\"ytick\"><text text-anchor=\"end\" x=\"79\" y=\"4.199999999999999\" style=\"font-family: 'Open Sans', verdana, arial, sans-serif; font-size: 12px; fill: rgb(42, 63, 95); fill-opacity: 1; white-space: pre; opacity: 1;\" transform=\"translate(0,383.56)\">2k</text></g><g class=\"ytick\"><text text-anchor=\"end\" x=\"79\" y=\"4.199999999999999\" style=\"font-family: 'Open Sans', verdana, arial, sans-serif; font-size: 12px; fill: rgb(42, 63, 95); fill-opacity: 1; white-space: pre; opacity: 1;\" transform=\"translate(0,347.12)\">4k</text></g><g class=\"ytick\"><text text-anchor=\"end\" x=\"79\" y=\"4.199999999999999\" style=\"font-family: 'Open Sans', verdana, arial, sans-serif; font-size: 12px; fill: rgb(42, 63, 95); fill-opacity: 1; white-space: pre; opacity: 1;\" transform=\"translate(0,310.68)\">6k</text></g><g class=\"ytick\"><text text-anchor=\"end\" x=\"79\" y=\"4.199999999999999\" style=\"font-family: 'Open Sans', verdana, arial, sans-serif; font-size: 12px; fill: rgb(42, 63, 95); fill-opacity: 1; white-space: pre; opacity: 1;\" transform=\"translate(0,274.24)\">8k</text></g><g class=\"ytick\"><text text-anchor=\"end\" x=\"79\" y=\"4.199999999999999\" style=\"font-family: 'Open Sans', verdana, arial, sans-serif; font-size: 12px; fill: rgb(42, 63, 95); fill-opacity: 1; white-space: pre; opacity: 1;\" transform=\"translate(0,237.8)\">10k</text></g><g class=\"ytick\"><text text-anchor=\"end\" x=\"79\" y=\"4.199999999999999\" style=\"font-family: 'Open Sans', verdana, arial, sans-serif; font-size: 12px; fill: rgb(42, 63, 95); fill-opacity: 1; white-space: pre; opacity: 1;\" transform=\"translate(0,201.36)\">12k</text></g><g class=\"ytick\"><text text-anchor=\"end\" x=\"79\" y=\"4.199999999999999\" style=\"font-family: 'Open Sans', verdana, arial, sans-serif; font-size: 12px; fill: rgb(42, 63, 95); fill-opacity: 1; white-space: pre; opacity: 1;\" transform=\"translate(0,164.93)\">14k</text></g><g class=\"ytick\"><text text-anchor=\"end\" x=\"79\" y=\"4.199999999999999\" style=\"font-family: 'Open Sans', verdana, arial, sans-serif; font-size: 12px; fill: rgb(42, 63, 95); fill-opacity: 1; white-space: pre; opacity: 1;\" transform=\"translate(0,128.49)\">16k</text></g><g class=\"ytick\"><text text-anchor=\"end\" x=\"79\" y=\"4.199999999999999\" style=\"font-family: 'Open Sans', verdana, arial, sans-serif; font-size: 12px; fill: rgb(42, 63, 95); fill-opacity: 1; white-space: pre; opacity: 1;\" transform=\"translate(0,92.05)\">18k</text></g></g><g class=\"overaxes-above\"/></g></g><g class=\"polarlayer\"/><g class=\"smithlayer\"/><g class=\"ternarylayer\"/><g class=\"geolayer\"/><g class=\"funnelarealayer\"/><g class=\"pielayer\"/><g class=\"iciclelayer\"/><g class=\"treemaplayer\"/><g class=\"sunburstlayer\"/><g class=\"glimages\"/><defs id=\"topdefs-a88d5f\"><g class=\"clips\"/><clipPath id=\"legenda88d5f\"><rect width=\"246\" height=\"124\" x=\"0\" y=\"0\"/></clipPath></defs><g class=\"layer-above\"><g class=\"imagelayer\"/><g class=\"shapelayer\"/></g><g class=\"infolayer\"><g class=\"legend\" pointer-events=\"all\" transform=\"translate(442.1,60)\"><rect class=\"bg\" shape-rendering=\"crispEdges\" width=\"246\" height=\"124\" x=\"0\" y=\"0\" style=\"stroke: rgb(68, 68, 68); stroke-opacity: 1; fill: rgb(255, 255, 255); fill-opacity: 1; stroke-width: 0px;\"/><g class=\"scrollbox\" transform=\"\" clip-path=\"url(#legenda88d5f)\"><text class=\"legendtitletext\" text-anchor=\"start\" x=\"2\" y=\"18.2\" style=\"font-family: 'Open Sans', verdana, arial, sans-serif; font-size: 14px; fill: rgb(42, 63, 95); fill-opacity: 1; white-space: pre;\">Событие</text><g class=\"groups\" transform=\"\"><g class=\"traces\" transform=\"translate(0,32.7)\" style=\"opacity: 1;\"><text class=\"legendtext\" text-anchor=\"start\" x=\"40\" y=\"4.680000000000001\" style=\"font-family: 'Open Sans', verdana, arial, sans-serif; font-size: 12px; fill: rgb(42, 63, 95); fill-opacity: 1; white-space: pre;\">главный экран</text><g class=\"layers\" style=\"opacity: 1;\"><g class=\"legendfill\"/><g class=\"legendlines\"/><g class=\"legendsymbols\"><g class=\"legendpoints\"><path class=\"legendundefined\" d=\"M6,6H-6V-6H6Z\" transform=\"translate(20,0)\" style=\"stroke-width: 0.5px; fill: rgb(99, 110, 250); fill-opacity: 1; stroke: rgb(229, 236, 246); stroke-opacity: 1;\"/></g></g></g><rect class=\"legendtoggle\" x=\"0\" y=\"-9.5\" width=\"240.0625\" height=\"19\" style=\"fill: rgb(0, 0, 0); fill-opacity: 0;\"/></g></g><g class=\"groups\" transform=\"\"><g class=\"traces\" transform=\"translate(0,51.7)\" style=\"opacity: 1;\"><text class=\"legendtext\" text-anchor=\"start\" x=\"40\" y=\"4.680000000000001\" style=\"font-family: 'Open Sans', verdana, arial, sans-serif; font-size: 12px; fill: rgb(42, 63, 95); fill-opacity: 1; white-space: pre;\">экран с предложением</text><g class=\"layers\" style=\"opacity: 1;\"><g class=\"legendfill\"/><g class=\"legendlines\"/><g class=\"legendsymbols\"><g class=\"legendpoints\"><path class=\"legendundefined\" d=\"M6,6H-6V-6H6Z\" transform=\"translate(20,0)\" style=\"stroke-width: 0.5px; fill: rgb(239, 85, 59); fill-opacity: 1; stroke: rgb(229, 236, 246); stroke-opacity: 1;\"/></g></g></g><rect class=\"legendtoggle\" x=\"0\" y=\"-9.5\" width=\"240.0625\" height=\"19\" style=\"fill: rgb(0, 0, 0); fill-opacity: 0;\"/></g></g><g class=\"groups\" transform=\"\"><g class=\"traces\" transform=\"translate(0,70.7)\" style=\"opacity: 1;\"><text class=\"legendtext\" text-anchor=\"start\" x=\"40\" y=\"4.680000000000001\" style=\"font-family: 'Open Sans', verdana, arial, sans-serif; font-size: 12px; fill: rgb(42, 63, 95); fill-opacity: 1; white-space: pre;\">экран с корзиной товаров</text><g class=\"layers\" style=\"opacity: 1;\"><g class=\"legendfill\"/><g class=\"legendlines\"/><g class=\"legendsymbols\"><g class=\"legendpoints\"><path class=\"legendundefined\" d=\"M6,6H-6V-6H6Z\" transform=\"translate(20,0)\" style=\"stroke-width: 0.5px; fill: rgb(0, 204, 150); fill-opacity: 1; stroke: rgb(229, 236, 246); stroke-opacity: 1;\"/></g></g></g><rect class=\"legendtoggle\" x=\"0\" y=\"-9.5\" width=\"240.0625\" height=\"19\" style=\"fill: rgb(0, 0, 0); fill-opacity: 0;\"/></g></g><g class=\"groups\" transform=\"\"><g class=\"traces\" transform=\"translate(0,89.7)\" style=\"opacity: 1;\"><text class=\"legendtext\" text-anchor=\"start\" x=\"40\" y=\"4.680000000000001\" style=\"font-family: 'Open Sans', verdana, arial, sans-serif; font-size: 12px; fill: rgb(42, 63, 95); fill-opacity: 1; white-space: pre;\">сообщение об успешной оплате</text><g class=\"layers\" style=\"opacity: 1;\"><g class=\"legendfill\"/><g class=\"legendlines\"/><g class=\"legendsymbols\"><g class=\"legendpoints\"><path class=\"legendundefined\" d=\"M6,6H-6V-6H6Z\" transform=\"translate(20,0)\" style=\"stroke-width: 0.5px; fill: rgb(171, 99, 250); fill-opacity: 1; stroke: rgb(229, 236, 246); stroke-opacity: 1;\"/></g></g></g><rect class=\"legendtoggle\" x=\"0\" y=\"-9.5\" width=\"240.0625\" height=\"19\" style=\"fill: rgb(0, 0, 0); fill-opacity: 0;\"/></g></g><g class=\"groups\" transform=\"\"><g class=\"traces\" transform=\"translate(0,108.7)\" style=\"opacity: 1;\"><text class=\"legendtext\" text-anchor=\"start\" x=\"40\" y=\"4.680000000000001\" style=\"font-family: 'Open Sans', verdana, arial, sans-serif; font-size: 12px; fill: rgb(42, 63, 95); fill-opacity: 1; white-space: pre;\">обучение</text><g class=\"layers\" style=\"opacity: 1;\"><g class=\"legendfill\"/><g class=\"legendlines\"/><g class=\"legendsymbols\"><g class=\"legendpoints\"><path class=\"legendundefined\" d=\"M6,6H-6V-6H6Z\" transform=\"translate(20,0)\" style=\"stroke-width: 0.5px; fill: rgb(255, 161, 90); fill-opacity: 1; stroke: rgb(229, 236, 246); stroke-opacity: 1;\"/></g></g></g><rect class=\"legendtoggle\" x=\"0\" y=\"-9.5\" width=\"240.0625\" height=\"19\" style=\"fill: rgb(0, 0, 0); fill-opacity: 0;\"/></g></g></g><rect class=\"scrollbar\" rx=\"20\" ry=\"3\" width=\"0\" height=\"0\" x=\"0\" y=\"0\" style=\"fill: rgb(128, 139, 164); fill-opacity: 1;\"/></g><g class=\"g-gtitle\"><text class=\"gtitle\" x=\"140\" y=\"30\" text-anchor=\"start\" dy=\"0em\" style=\"font-family: 'Open Sans', verdana, arial, sans-serif; font-size: 17px; fill: rgb(42, 63, 95); opacity: 1; font-weight: normal; white-space: pre;\">Количество событий на каждый день исследуемого периода</text></g><g class=\"g-xtitle\"><text class=\"xtitle\" x=\"257.5\" y=\"476.409375\" text-anchor=\"middle\" style=\"font-family: 'Open Sans', verdana, arial, sans-serif; font-size: 14px; fill: rgb(42, 63, 95); opacity: 1; font-weight: normal; white-space: pre;\">День</text></g><g class=\"g-ytitle\"><text class=\"ytitle\" transform=\"rotate(-90,31.840625000000003,240)\" x=\"31.840625000000003\" y=\"240\" text-anchor=\"middle\" style=\"font-family: 'Open Sans', verdana, arial, sans-serif; font-size: 14px; fill: rgb(42, 63, 95); opacity: 1; font-weight: normal; white-space: pre;\">Количество событий</text></g></g></svg>"
      ]
     },
     "metadata": {},
     "output_type": "display_data"
    }
   ],
   "source": [
    "# визуализируем количество событий по типам\n",
    "\n",
    "labels = dict(\n",
    "    event_date = 'День',\n",
    "    event_type = 'Событие',\n",
    "    events = 'Количество событий'\n",
    ")\n",
    "\n",
    "fig = px.bar(\n",
    "    events, x='event_date', \n",
    "    y='events', color='event_type', \n",
    "    barmode='group', labels=labels\n",
    ")\n",
    "\n",
    "fig.update_layout(title = 'Количество событий на каждый день исследуемого периода', title_x= .2)\n",
    "fig.show()"
   ]
  },
  {
   "cell_type": "markdown",
   "metadata": {},
   "source": [
    "- Каждый день событие `обучение` происходит значительно реже остальных - видимо это не обязательный модуль приложения, который пользователи могут включать по желанию. В таком случае включать его в воронку событий будет нецелесообразно. Количество других событий же может говорить об их прямой последовательности, несмотря на то, `экран с предложением` скорее всего является необязательным для совершения покупки.\n",
    "\n",
    "Построим воронку событий по пользователям:"
   ]
  },
  {
   "cell_type": "code",
   "execution_count": 22,
   "metadata": {},
   "outputs": [],
   "source": [
    "# сгруппируем данные, уберём экран обучения из воронки\n",
    "\n",
    "events = (\n",
    "    data\n",
    "    .groupby('event_type')\n",
    "    .agg(dict(user_id='nunique'))\n",
    "    .drop(labels='обучение', axis=0)\n",
    "    .reset_index()\n",
    "    .append(\n",
    "        dict(event_type='всего пользователей',\n",
    "             user_id=eda_unique_users), ignore_index=True)\n",
    "    .sort_values('user_id', ascending=False)\n",
    "    .reset_index(drop=True)\n",
    "    .rename(columns=dict(\n",
    "        count = 'events',\n",
    "        user_id='unique_users'))\n",
    ")\n"
   ]
  },
  {
   "cell_type": "code",
   "execution_count": 23,
   "metadata": {},
   "outputs": [
    {
     "data": {
      "image/svg+xml": [
       "<svg class=\"main-svg\" xmlns=\"http://www.w3.org/2000/svg\" xmlns:xlink=\"http://www.w3.org/1999/xlink\" width=\"700\" height=\"500\" style=\"\" viewBox=\"0 0 700 500\"><rect x=\"0\" y=\"0\" width=\"700\" height=\"500\" style=\"fill: rgb(255, 255, 255); fill-opacity: 1;\"/><defs id=\"defs-2092de\"><g class=\"clips\"><clipPath id=\"clip2092dexyplot\" class=\"plotclip\"><rect width=\"407\" height=\"320\"/></clipPath><clipPath class=\"axesclip\" id=\"clip2092dex\"><rect x=\"213\" y=\"0\" width=\"407\" height=\"500\"/></clipPath><clipPath class=\"axesclip\" id=\"clip2092dey\"><rect x=\"0\" y=\"100\" width=\"700\" height=\"320\"/></clipPath><clipPath class=\"axesclip\" id=\"clip2092dexy\"><rect x=\"213\" y=\"100\" width=\"407\" height=\"320\"/></clipPath></g><g class=\"gradients\"/><g class=\"patterns\"/></defs><g class=\"bglayer\"><rect class=\"bg\" x=\"213\" y=\"100\" width=\"407\" height=\"320\" style=\"fill: rgb(229, 236, 246); fill-opacity: 1; stroke-width: 0;\"/></g><g class=\"layer-below\"><g class=\"imagelayer\"/><g class=\"shapelayer\"/></g><g class=\"cartesianlayer\"><g class=\"subplot xy\"><g class=\"layer-subplot\"><g class=\"shapelayer\"/><g class=\"imagelayer\"/></g><g class=\"minor-gridlayer\"><g class=\"x\"/><g class=\"y\"/></g><g class=\"gridlayer\"><g class=\"x\"/><g class=\"y\"/></g><g class=\"zerolinelayer\"/><path class=\"xlines-below\"/><path class=\"ylines-below\"/><g class=\"overlines-below\"/><g class=\"xaxislayer-below\"/><g class=\"yaxislayer-below\"/><g class=\"overaxes-below\"/><g class=\"plot\" transform=\"translate(213,100)\" clip-path=\"url(#clip2092dexyplot)\"><g class=\"funnellayer mlayer\"><g class=\"trace bars\" style=\"opacity: 0.6;\"><g class=\"regions\"><g class=\"region\"><path d=\"M20.35,57.6L23.14,70.4H383.86L386.65,57.6Z\" style=\"stroke-width: 0; fill: rgb(99, 110, 250); fill-opacity: 0.5;\"/></g><g class=\"region\"><path d=\"M23.14,121.6L91.81,134.4H315.19L383.86,121.6Z\" style=\"stroke-width: 0; fill: rgb(99, 110, 250); fill-opacity: 0.5;\"/></g><g class=\"region\"><path d=\"M91.81,185.6L112.73,198.4H294.27L315.19,185.6Z\" style=\"stroke-width: 0; fill: rgb(99, 110, 250); fill-opacity: 0.5;\"/></g><g class=\"region\"><path d=\"M112.73,249.6L117.49,262.4H289.51L294.27,249.6Z\" style=\"stroke-width: 0; fill: rgb(99, 110, 250); fill-opacity: 0.5;\"/></g><g class=\"region\"><path d=\"M0,0Z\" style=\"stroke-width: 0; fill: rgb(99, 110, 250); fill-opacity: 0.5;\"/></g></g><g class=\"lines\"><g class=\"line\"><path d=\"M20.35,57.6L23.14,70.4M386.65,57.6L383.86,70.4\" style=\"fill: none; stroke: rgb(65, 105, 225); stroke-opacity: 1; stroke-dasharray: 6px, 6px; stroke-width: 6px;\"/></g><g class=\"line\"><path d=\"M23.14,121.6L91.81,134.4M383.86,121.6L315.19,134.4\" style=\"fill: none; stroke: rgb(65, 105, 225); stroke-opacity: 1; stroke-dasharray: 6px, 6px; stroke-width: 6px;\"/></g><g class=\"line\"><path d=\"M91.81,185.6L112.73,198.4M315.19,185.6L294.27,198.4\" style=\"fill: none; stroke: rgb(65, 105, 225); stroke-opacity: 1; stroke-dasharray: 6px, 6px; stroke-width: 6px;\"/></g><g class=\"line\"><path d=\"M112.73,249.6L117.49,262.4M294.27,249.6L289.51,262.4\" style=\"fill: none; stroke: rgb(65, 105, 225); stroke-opacity: 1; stroke-dasharray: 6px, 6px; stroke-width: 6px;\"/></g><g class=\"line\"><path d=\"M0,0Z\" style=\"fill: none; stroke: rgb(65, 105, 225); stroke-opacity: 1; stroke-dasharray: 6px, 6px; stroke-width: 6px;\"/></g></g><g class=\"points\"><g class=\"point\"><path d=\"M20.35,6.4V57.6H386.65V6.4Z\" style=\"vector-effect: non-scaling-stroke; fill: rgb(99, 110, 250); fill-opacity: 1; stroke: rgb(68, 68, 68); stroke-opacity: 1; stroke-width: 0px; opacity: 1;\"/><text class=\"bartext bartext-inside\" text-anchor=\"middle\" data-notex=\"1\" x=\"0\" y=\"0\" style=\"font-family: 'Open Sans', verdana, arial, sans-serif; font-size: 12px; fill: rgb(255, 255, 255); fill-opacity: 1; white-space: pre;\" transform=\"translate(203.453125,28.6953125)\"><tspan class=\"line\" dy=\"0em\" x=\"0\" y=\"0\">7538</tspan><tspan class=\"line\" dy=\"1.3em\" x=\"0\" y=\"0\">100%</tspan></text></g><g class=\"point\"><path d=\"M23.14,70.4V121.6H383.86V70.4Z\" style=\"vector-effect: non-scaling-stroke; fill: rgb(99, 110, 250); fill-opacity: 1; stroke: rgb(68, 68, 68); stroke-opacity: 1; stroke-width: 0px; opacity: 1;\"/><text class=\"bartext bartext-inside\" text-anchor=\"middle\" data-notex=\"1\" x=\"0\" y=\"0\" style=\"font-family: 'Open Sans', verdana, arial, sans-serif; font-size: 12px; fill: rgb(255, 255, 255); fill-opacity: 1; white-space: pre;\" transform=\"translate(203.5,92.6953125)\"><tspan class=\"line\" dy=\"0em\" x=\"0\" y=\"0\">7423</tspan><tspan class=\"line\" dy=\"1.3em\" x=\"0\" y=\"0\">98%</tspan></text></g><g class=\"point\"><path d=\"M91.81,134.4V185.6H315.19V134.4Z\" style=\"vector-effect: non-scaling-stroke; fill: rgb(99, 110, 250); fill-opacity: 1; stroke: rgb(68, 68, 68); stroke-opacity: 1; stroke-width: 0px; opacity: 1;\"/><text class=\"bartext bartext-inside\" text-anchor=\"middle\" data-notex=\"1\" x=\"0\" y=\"0\" style=\"font-family: 'Open Sans', verdana, arial, sans-serif; font-size: 12px; fill: rgb(255, 255, 255); fill-opacity: 1; white-space: pre;\" transform=\"translate(203.3125,156.6953125)\"><tspan class=\"line\" dy=\"0em\" x=\"0\" y=\"0\">4597</tspan><tspan class=\"line\" dy=\"1.3em\" x=\"0\" y=\"0\">61%</tspan></text></g><g class=\"point\"><path d=\"M112.73,198.4V249.6H294.27V198.4Z\" style=\"vector-effect: non-scaling-stroke; fill: rgb(99, 110, 250); fill-opacity: 1; stroke: rgb(68, 68, 68); stroke-opacity: 1; stroke-width: 0px; opacity: 1;\"/><text class=\"bartext bartext-inside\" text-anchor=\"middle\" data-notex=\"1\" x=\"0\" y=\"0\" style=\"font-family: 'Open Sans', verdana, arial, sans-serif; font-size: 12px; fill: rgb(255, 255, 255); fill-opacity: 1; white-space: pre;\" transform=\"translate(203.3125,220.6953125)\"><tspan class=\"line\" dy=\"0em\" x=\"0\" y=\"0\">3736</tspan><tspan class=\"line\" dy=\"1.3em\" x=\"0\" y=\"0\">50%</tspan></text></g><g class=\"point\"><path d=\"M117.49,262.4V313.6H289.51V262.4Z\" style=\"vector-effect: non-scaling-stroke; fill: rgb(99, 110, 250); fill-opacity: 1; stroke: rgb(68, 68, 68); stroke-opacity: 1; stroke-width: 0px; opacity: 1;\"/><text class=\"bartext bartext-inside\" text-anchor=\"middle\" data-notex=\"1\" x=\"0\" y=\"0\" style=\"font-family: 'Open Sans', verdana, arial, sans-serif; font-size: 12px; fill: rgb(255, 255, 255); fill-opacity: 1; white-space: pre;\" transform=\"translate(203.3125,284.6953125)\"><tspan class=\"line\" dy=\"0em\" x=\"0\" y=\"0\">3540</tspan><tspan class=\"line\" dy=\"1.3em\" x=\"0\" y=\"0\">47%</tspan></text></g></g></g></g></g><g class=\"overplot\"/><path class=\"xlines-above crisp\" d=\"M0,0\" style=\"fill: none;\"/><path class=\"ylines-above crisp\" d=\"M0,0\" style=\"fill: none;\"/><g class=\"overlines-above\"/><g class=\"xaxislayer-above\"/><g class=\"yaxislayer-above\"><g class=\"ytick\"><text text-anchor=\"end\" x=\"212\" y=\"4.199999999999999\" transform=\"translate(0,388)\" style=\"font-family: 'Open Sans', verdana, arial, sans-serif; font-size: 12px; fill: rgb(42, 63, 95); fill-opacity: 1; white-space: pre; opacity: 1;\">сообщение об успешной оплате</text></g><g class=\"ytick\"><text text-anchor=\"end\" x=\"212\" y=\"4.199999999999999\" transform=\"translate(0,324)\" style=\"font-family: 'Open Sans', verdana, arial, sans-serif; font-size: 12px; fill: rgb(42, 63, 95); fill-opacity: 1; white-space: pre; opacity: 1;\">экран с корзиной товаров</text></g><g class=\"ytick\"><text text-anchor=\"end\" x=\"212\" y=\"4.199999999999999\" transform=\"translate(0,260)\" style=\"font-family: 'Open Sans', verdana, arial, sans-serif; font-size: 12px; fill: rgb(42, 63, 95); fill-opacity: 1; white-space: pre; opacity: 1;\">экран с предложением</text></g><g class=\"ytick\"><text text-anchor=\"end\" x=\"212\" y=\"4.199999999999999\" transform=\"translate(0,196)\" style=\"font-family: 'Open Sans', verdana, arial, sans-serif; font-size: 12px; fill: rgb(42, 63, 95); fill-opacity: 1; white-space: pre; opacity: 1;\">главный экран</text></g><g class=\"ytick\"><text text-anchor=\"end\" x=\"212\" y=\"4.199999999999999\" transform=\"translate(0,132)\" style=\"font-family: 'Open Sans', verdana, arial, sans-serif; font-size: 12px; fill: rgb(42, 63, 95); fill-opacity: 1; white-space: pre; opacity: 1;\">всего пользователей</text></g></g><g class=\"overaxes-above\"/></g></g><g class=\"polarlayer\"/><g class=\"smithlayer\"/><g class=\"ternarylayer\"/><g class=\"geolayer\"/><g class=\"funnelarealayer\"/><g class=\"pielayer\"/><g class=\"iciclelayer\"/><g class=\"treemaplayer\"/><g class=\"sunburstlayer\"/><g class=\"glimages\"/><defs id=\"topdefs-2092de\"><g class=\"clips\"/></defs><g class=\"layer-above\"><g class=\"imagelayer\"/><g class=\"shapelayer\"/></g><g class=\"infolayer\"><g class=\"g-gtitle\"><text class=\"gtitle\" x=\"210\" y=\"50\" text-anchor=\"start\" dy=\"0em\" style=\"font-family: 'Open Sans', verdana, arial, sans-serif; font-size: 17px; fill: rgb(42, 63, 95); opacity: 1; font-weight: normal; white-space: pre;\">Воронка событий по количеству уникальных пользователей</text></g><g class=\"g-ytitle\"/></g></svg>"
      ]
     },
     "metadata": {},
     "output_type": "display_data"
    }
   ],
   "source": [
    "# строим воронку\n",
    "\n",
    "fig = go.Figure(go.Funnel(\n",
    "    y = events['event_type'],\n",
    "    x = events['unique_users'],\n",
    "    textposition = \"inside\",\n",
    "    textinfo = \"value+percent initial\",\n",
    "    opacity = 0.6,\n",
    "    connector = {\"line\": {\"color\": \"royalblue\", \"dash\": \"dot\", \"width\": 6}})\n",
    "    )\n",
    "\n",
    "\n",
    "fig.update_layout(title = 'Воронка событий по количеству уникальных пользователей', title_x= .3)\n",
    "fig.show()"
   ]
  },
  {
   "cell_type": "markdown",
   "metadata": {},
   "source": [
    "- В целом у магазина очень хорошая конверсия - около 47% всех пользователейувиди в итоге совершают покупку. Самая низкая конверсия в шаг наблюдается у экрана с предложением - она составляет около 60%, тогда как конверсия остальных шагов составляет более 80%.\n",
    "\n",
    "- Так как даже `Главный экран` видят не все пользователи (98%), последовательность событий для отдельных пользователей может отличаться."
   ]
  },
  {
   "cell_type": "markdown",
   "metadata": {},
   "source": [
    "<a id='4'></a>"
   ]
  },
  {
   "cell_type": "markdown",
   "metadata": {},
   "source": [
    "## Изучение результатов эксперемента\n",
    "Для начала повторим воронку событий из предыдущего шага, но уже в разрезе групп эксперемента:"
   ]
  },
  {
   "cell_type": "code",
   "execution_count": 24,
   "metadata": {},
   "outputs": [],
   "source": [
    "# посчитаем общий размер групп и количество событий\n",
    "\n",
    "def uniq_gr(group):\n",
    "    unq = (\n",
    "        data[data['test_group'] == group]['user_id']\n",
    "        .unique()\n",
    "        .size\n",
    "    )\n",
    "    return pd.Series(\n",
    "        ['всего пользователей', group, unq],\n",
    "        index=['event_type', 'test_group', 'unique_users']\n",
    "    )\n",
    "\n",
    "groups = [uniq_gr('A_1'), uniq_gr('A_2'), uniq_gr('B')]\n",
    "\n",
    "# группируем данные, добавим итоги в таблицу\n",
    "\n",
    "events_grouped = (\n",
    "    data\n",
    "    .pivot_table(index=('event_type','test_group'), \n",
    "                 values='user_id',\n",
    "                 aggfunc='nunique',\n",
    "                )\n",
    "    .rename(columns=dict(\n",
    "        user_id='unique_users'))\n",
    "    .reset_index()\n",
    "    .append(groups, ignore_index=True)\n",
    "    .sort_values('unique_users', ascending=False)\n",
    "    .reset_index(drop=True)\n",
    "\n",
    ")"
   ]
  },
  {
   "cell_type": "markdown",
   "metadata": {},
   "source": [
    "<a id='funnel'></a>"
   ]
  },
  {
   "cell_type": "code",
   "execution_count": 25,
   "metadata": {},
   "outputs": [
    {
     "data": {
      "image/svg+xml": [
       "<svg class=\"main-svg\" xmlns=\"http://www.w3.org/2000/svg\" xmlns:xlink=\"http://www.w3.org/1999/xlink\" width=\"700\" height=\"500\" style=\"\" viewBox=\"0 0 700 500\"><rect x=\"0\" y=\"0\" width=\"700\" height=\"500\" style=\"fill: rgb(255, 255, 255); fill-opacity: 1;\"/><defs id=\"defs-0cb76d\"><g class=\"clips\"><clipPath id=\"clip0cb76dxyplot\" class=\"plotclip\"><rect width=\"351\" height=\"320\"/></clipPath><clipPath class=\"axesclip\" id=\"clip0cb76dx\"><rect x=\"213\" y=\"0\" width=\"351\" height=\"500\"/></clipPath><clipPath class=\"axesclip\" id=\"clip0cb76dy\"><rect x=\"0\" y=\"100\" width=\"700\" height=\"320\"/></clipPath><clipPath class=\"axesclip\" id=\"clip0cb76dxy\"><rect x=\"213\" y=\"100\" width=\"351\" height=\"320\"/></clipPath></g><g class=\"gradients\"/><g class=\"patterns\"/></defs><g class=\"bglayer\"><rect class=\"bg\" x=\"213\" y=\"100\" width=\"351\" height=\"320\" style=\"fill: rgb(229, 236, 246); fill-opacity: 1; stroke-width: 0;\"/></g><g class=\"layer-below\"><g class=\"imagelayer\"/><g class=\"shapelayer\"/></g><g class=\"cartesianlayer\"><g class=\"subplot xy\"><g class=\"layer-subplot\"><g class=\"shapelayer\"/><g class=\"imagelayer\"/></g><g class=\"minor-gridlayer\"><g class=\"x\"/><g class=\"y\"/></g><g class=\"gridlayer\"><g class=\"x\"/><g class=\"y\"/></g><g class=\"zerolinelayer\"/><path class=\"xlines-below\"/><path class=\"ylines-below\"/><g class=\"overlines-below\"/><g class=\"xaxislayer-below\"/><g class=\"yaxislayer-below\"/><g class=\"overaxes-below\"/><g class=\"plot\" transform=\"translate(213,100)\" clip-path=\"url(#clip0cb76dxyplot)\"><g class=\"funnellayer mlayer\"><g class=\"trace bars\" style=\"opacity: 1;\"><g class=\"regions\"><g class=\"region\"><path d=\"M17.55,57.6L19.96,70.4H122.63L121.65,57.6Z\" style=\"stroke-width: 0; fill: rgb(99, 110, 250); fill-opacity: 0.5;\"/></g><g class=\"region\"><path d=\"M19.96,121.6L79.18,134.4H143.8L122.63,121.6Z\" style=\"stroke-width: 0; fill: rgb(99, 110, 250); fill-opacity: 0.5;\"/></g><g class=\"region\"><path d=\"M79.18,185.6L97.22,198.4H150.27L143.8,185.6Z\" style=\"stroke-width: 0; fill: rgb(99, 110, 250); fill-opacity: 0.5;\"/></g><g class=\"region\"><path d=\"M97.22,249.6L101.32,262.4H151.61L150.27,249.6Z\" style=\"stroke-width: 0; fill: rgb(99, 110, 250); fill-opacity: 0.5;\"/></g><g class=\"region\"><path d=\"M0,0Z\" style=\"stroke-width: 0; fill: rgb(99, 110, 250); fill-opacity: 0.5;\"/></g></g><g class=\"points\"><g class=\"point\"><path d=\"M17.55,6.4V57.6H121.65V6.4Z\" style=\"vector-effect: non-scaling-stroke; fill: rgb(99, 110, 250); fill-opacity: 1; stroke: rgb(68, 68, 68); stroke-opacity: 1; stroke-width: 0px; opacity: 1;\"/><text class=\"bartext bartext-inside\" text-anchor=\"middle\" data-notex=\"1\" x=\"0\" y=\"0\" style=\"font-family: 'Open Sans', verdana, arial, sans-serif; font-size: 12px; fill: rgb(255, 255, 255); fill-opacity: 1; white-space: pre;\" transform=\"translate(69.55312500000001,28.6953125)\"><tspan class=\"line\" dy=\"0em\" x=\"0\" y=\"0\">2484</tspan><tspan class=\"line\" dy=\"1.3em\" x=\"0\" y=\"0\">100%</tspan></text></g><g class=\"point\"><path d=\"M19.96,70.4V121.6H122.63V70.4Z\" style=\"vector-effect: non-scaling-stroke; fill: rgb(99, 110, 250); fill-opacity: 1; stroke: rgb(68, 68, 68); stroke-opacity: 1; stroke-width: 0px; opacity: 1;\"/><text class=\"bartext bartext-inside\" text-anchor=\"middle\" data-notex=\"1\" x=\"0\" y=\"0\" style=\"font-family: 'Open Sans', verdana, arial, sans-serif; font-size: 12px; fill: rgb(255, 255, 255); fill-opacity: 1; white-space: pre;\" transform=\"translate(71.1075,92.6953125)\"><tspan class=\"line\" dy=\"0em\" x=\"0\" y=\"0\">2450</tspan><tspan class=\"line\" dy=\"1.3em\" x=\"0\" y=\"0\">99%</tspan></text></g><g class=\"point\"><path d=\"M79.18,134.4V185.6H143.8V134.4Z\" style=\"vector-effect: non-scaling-stroke; fill: rgb(99, 110, 250); fill-opacity: 1; stroke: rgb(68, 68, 68); stroke-opacity: 1; stroke-width: 0px; opacity: 1;\"/><text class=\"bartext bartext-inside\" text-anchor=\"middle\" data-notex=\"1\" x=\"0\" y=\"0\" style=\"font-family: 'Open Sans', verdana, arial, sans-serif; font-size: 12px; fill: rgb(255, 255, 255); fill-opacity: 1; white-space: pre;\" transform=\"translate(111.30250000000001,156.6953125)\"><tspan class=\"line\" dy=\"0em\" x=\"0\" y=\"0\">1542</tspan><tspan class=\"line\" dy=\"1.3em\" x=\"0\" y=\"0\">62%</tspan></text></g><g class=\"point\"><path d=\"M97.22,198.4V249.6H150.27V198.4Z\" style=\"vector-effect: non-scaling-stroke; fill: rgb(99, 110, 250); fill-opacity: 1; stroke: rgb(68, 68, 68); stroke-opacity: 1; stroke-width: 0px; opacity: 1;\"/><text class=\"bartext bartext-inside\" text-anchor=\"middle\" data-notex=\"1\" x=\"0\" y=\"0\" style=\"font-family: 'Open Sans', verdana, arial, sans-serif; font-size: 12px; fill: rgb(255, 255, 255); fill-opacity: 1; white-space: pre;\" transform=\"translate(123.5575,220.6953125)\"><tspan class=\"line\" dy=\"0em\" x=\"0\" y=\"0\">1266</tspan><tspan class=\"line\" dy=\"1.3em\" x=\"0\" y=\"0\">51%</tspan></text></g><g class=\"point\"><path d=\"M101.32,262.4V313.6H151.61V262.4Z\" style=\"vector-effect: non-scaling-stroke; fill: rgb(99, 110, 250); fill-opacity: 1; stroke: rgb(68, 68, 68); stroke-opacity: 1; stroke-width: 0px; opacity: 1;\"/><text class=\"bartext bartext-inside\" text-anchor=\"middle\" data-notex=\"1\" x=\"0\" y=\"0\" style=\"font-family: 'Open Sans', verdana, arial, sans-serif; font-size: 12px; fill: rgb(255, 255, 255); fill-opacity: 1; white-space: pre;\" transform=\"translate(126.2775,284.6953125)\"><tspan class=\"line\" dy=\"0em\" x=\"0\" y=\"0\">1200</tspan><tspan class=\"line\" dy=\"1.3em\" x=\"0\" y=\"0\">48%</tspan></text></g></g></g><g class=\"trace bars\" style=\"opacity: 1;\"><g class=\"regions\"><g class=\"region\"><path d=\"M121.65,57.6L122.63,70.4H226.52L227.13,57.6Z\" style=\"stroke-width: 0; fill: rgb(239, 85, 59); fill-opacity: 0.5;\"/></g><g class=\"region\"><path d=\"M122.63,121.6L143.8,134.4H207.66L226.52,121.6Z\" style=\"stroke-width: 0; fill: rgb(239, 85, 59); fill-opacity: 0.5;\"/></g><g class=\"region\"><path d=\"M143.8,185.6L150.27,198.4H202.2L207.66,185.6Z\" style=\"stroke-width: 0; fill: rgb(239, 85, 59); fill-opacity: 0.5;\"/></g><g class=\"region\"><path d=\"M150.27,249.6L151.61,262.4H200.14L202.2,249.6Z\" style=\"stroke-width: 0; fill: rgb(239, 85, 59); fill-opacity: 0.5;\"/></g><g class=\"region\"><path d=\"M0,0Z\" style=\"stroke-width: 0; fill: rgb(239, 85, 59); fill-opacity: 0.5;\"/></g></g><g class=\"points\"><g class=\"point\"><path d=\"M121.65,6.4V57.6H227.13V6.4Z\" style=\"vector-effect: non-scaling-stroke; fill: rgb(239, 85, 59); fill-opacity: 1; stroke: rgb(68, 68, 68); stroke-opacity: 1; stroke-width: 0px; opacity: 1;\"/><text class=\"bartext bartext-inside\" text-anchor=\"middle\" data-notex=\"1\" x=\"0\" y=\"0\" style=\"font-family: 'Open Sans', verdana, arial, sans-serif; font-size: 12px; fill: rgb(68, 68, 68); fill-opacity: 1; white-space: pre;\" transform=\"translate(174.343125,28.6953125)\"><tspan class=\"line\" dy=\"0em\" x=\"0\" y=\"0\">2517</tspan><tspan class=\"line\" dy=\"1.3em\" x=\"0\" y=\"0\">100%</tspan></text></g><g class=\"point\"><path d=\"M122.63,70.4V121.6H226.52V70.4Z\" style=\"vector-effect: non-scaling-stroke; fill: rgb(239, 85, 59); fill-opacity: 1; stroke: rgb(68, 68, 68); stroke-opacity: 1; stroke-width: 0px; opacity: 1;\"/><text class=\"bartext bartext-inside\" text-anchor=\"middle\" data-notex=\"1\" x=\"0\" y=\"0\" style=\"font-family: 'Open Sans', verdana, arial, sans-serif; font-size: 12px; fill: rgb(68, 68, 68); fill-opacity: 1; white-space: pre;\" transform=\"translate(174.3875,92.6953125)\"><tspan class=\"line\" dy=\"0em\" x=\"0\" y=\"0\">2479</tspan><tspan class=\"line\" dy=\"1.3em\" x=\"0\" y=\"0\">98%</tspan></text></g><g class=\"point\"><path d=\"M143.8,134.4V185.6H207.66V134.4Z\" style=\"vector-effect: non-scaling-stroke; fill: rgb(239, 85, 59); fill-opacity: 1; stroke: rgb(68, 68, 68); stroke-opacity: 1; stroke-width: 0px; opacity: 1;\"/><text class=\"bartext bartext-inside\" text-anchor=\"middle\" data-notex=\"1\" x=\"0\" y=\"0\" style=\"font-family: 'Open Sans', verdana, arial, sans-serif; font-size: 12px; fill: rgb(68, 68, 68); fill-opacity: 1; white-space: pre;\" transform=\"translate(175.54250000000002,156.6953125)\"><tspan class=\"line\" dy=\"0em\" x=\"0\" y=\"0\">1524</tspan><tspan class=\"line\" dy=\"1.3em\" x=\"0\" y=\"0\">61%</tspan></text></g><g class=\"point\"><path d=\"M150.27,198.4V249.6H202.2V198.4Z\" style=\"vector-effect: non-scaling-stroke; fill: rgb(239, 85, 59); fill-opacity: 1; stroke: rgb(68, 68, 68); stroke-opacity: 1; stroke-width: 0px; opacity: 1;\"/><text class=\"bartext bartext-inside\" text-anchor=\"middle\" data-notex=\"1\" x=\"0\" y=\"0\" style=\"font-family: 'Open Sans', verdana, arial, sans-serif; font-size: 12px; fill: rgb(68, 68, 68); fill-opacity: 1; white-space: pre;\" transform=\"translate(176.0475,220.6953125)\"><tspan class=\"line\" dy=\"0em\" x=\"0\" y=\"0\">1239</tspan><tspan class=\"line\" dy=\"1.3em\" x=\"0\" y=\"0\">49%</tspan></text></g><g class=\"point\"><path d=\"M151.61,262.4V313.6H200.14V262.4Z\" style=\"vector-effect: non-scaling-stroke; fill: rgb(239, 85, 59); fill-opacity: 1; stroke: rgb(68, 68, 68); stroke-opacity: 1; stroke-width: 0px; opacity: 1;\"/><text class=\"bartext bartext-inside\" text-anchor=\"middle\" data-notex=\"1\" x=\"0\" y=\"0\" style=\"font-family: 'Open Sans', verdana, arial, sans-serif; font-size: 12px; fill: rgb(68, 68, 68); fill-opacity: 1; white-space: pre;\" transform=\"translate(175.6875,284.6953125)\"><tspan class=\"line\" dy=\"0em\" x=\"0\" y=\"0\">1158</tspan><tspan class=\"line\" dy=\"1.3em\" x=\"0\" y=\"0\">46%</tspan></text></g></g></g><g class=\"trace bars\" style=\"opacity: 1;\"><g class=\"regions\"><g class=\"region\"><path d=\"M227.13,57.6L226.52,70.4H331.04L333.45,57.6Z\" style=\"stroke-width: 0; fill: rgb(0, 204, 150); fill-opacity: 0.5;\"/></g><g class=\"region\"><path d=\"M226.52,121.6L207.66,134.4H271.82L331.04,121.6Z\" style=\"stroke-width: 0; fill: rgb(0, 204, 150); fill-opacity: 0.5;\"/></g><g class=\"region\"><path d=\"M207.66,185.6L202.2,198.4H253.78L271.82,185.6Z\" style=\"stroke-width: 0; fill: rgb(0, 204, 150); fill-opacity: 0.5;\"/></g><g class=\"region\"><path d=\"M202.2,249.6L200.14,262.4H249.68L253.78,249.6Z\" style=\"stroke-width: 0; fill: rgb(0, 204, 150); fill-opacity: 0.5;\"/></g><g class=\"region\"><path d=\"M0,0Z\" style=\"stroke-width: 0; fill: rgb(0, 204, 150); fill-opacity: 0.5;\"/></g></g><g class=\"points\"><g class=\"point\"><path d=\"M227.13,6.4V57.6H333.45V6.4Z\" style=\"vector-effect: non-scaling-stroke; fill: rgb(0, 204, 150); fill-opacity: 1; stroke: rgb(68, 68, 68); stroke-opacity: 1; stroke-width: 0px; opacity: 1;\"/><text class=\"bartext bartext-inside\" text-anchor=\"middle\" data-notex=\"1\" x=\"0\" y=\"0\" style=\"font-family: 'Open Sans', verdana, arial, sans-serif; font-size: 12px; fill: rgb(68, 68, 68); fill-opacity: 1; white-space: pre;\" transform=\"translate(280.24312499999996,28.6953125)\"><tspan class=\"line\" dy=\"0em\" x=\"0\" y=\"0\">2537</tspan><tspan class=\"line\" dy=\"1.3em\" x=\"0\" y=\"0\">100%</tspan></text></g><g class=\"point\"><path d=\"M226.52,70.4V121.6H331.04V70.4Z\" style=\"vector-effect: non-scaling-stroke; fill: rgb(0, 204, 150); fill-opacity: 1; stroke: rgb(68, 68, 68); stroke-opacity: 1; stroke-width: 0px; opacity: 1;\"/><text class=\"bartext bartext-inside\" text-anchor=\"middle\" data-notex=\"1\" x=\"0\" y=\"0\" style=\"font-family: 'Open Sans', verdana, arial, sans-serif; font-size: 12px; fill: rgb(68, 68, 68); fill-opacity: 1; white-space: pre;\" transform=\"translate(278.59250000000003,92.6953125)\"><tspan class=\"line\" dy=\"0em\" x=\"0\" y=\"0\">2494</tspan><tspan class=\"line\" dy=\"1.3em\" x=\"0\" y=\"0\">98%</tspan></text></g><g class=\"point\"><path d=\"M207.66,134.4V185.6H271.82V134.4Z\" style=\"vector-effect: non-scaling-stroke; fill: rgb(0, 204, 150); fill-opacity: 1; stroke: rgb(68, 68, 68); stroke-opacity: 1; stroke-width: 0px; opacity: 1;\"/><text class=\"bartext bartext-inside\" text-anchor=\"middle\" data-notex=\"1\" x=\"0\" y=\"0\" style=\"font-family: 'Open Sans', verdana, arial, sans-serif; font-size: 12px; fill: rgb(68, 68, 68); fill-opacity: 1; white-space: pre;\" transform=\"translate(239.74,156.6953125)\"><tspan class=\"line\" dy=\"0em\" x=\"0\" y=\"0\">1531</tspan><tspan class=\"line\" dy=\"1.3em\" x=\"0\" y=\"0\">60%</tspan></text></g><g class=\"point\"><path d=\"M202.2,198.4V249.6H253.78V198.4Z\" style=\"vector-effect: non-scaling-stroke; fill: rgb(0, 204, 150); fill-opacity: 1; stroke: rgb(68, 68, 68); stroke-opacity: 1; stroke-width: 0px; opacity: 1;\"/><text class=\"bartext bartext-inside\" text-anchor=\"middle\" data-notex=\"1\" x=\"0\" y=\"0\" style=\"font-family: 'Open Sans', verdana, arial, sans-serif; font-size: 12px; fill: rgb(68, 68, 68); fill-opacity: 1; white-space: pre;\" transform=\"translate(227.99,220.6953125)\"><tspan class=\"line\" dy=\"0em\" x=\"0\" y=\"0\">1231</tspan><tspan class=\"line\" dy=\"1.3em\" x=\"0\" y=\"0\">49%</tspan></text></g><g class=\"point\"><path d=\"M200.14,262.4V313.6H249.68V262.4Z\" style=\"vector-effect: non-scaling-stroke; fill: rgb(0, 204, 150); fill-opacity: 1; stroke: rgb(68, 68, 68); stroke-opacity: 1; stroke-width: 0px; opacity: 1;\"/><text class=\"bartext bartext-inside\" text-anchor=\"middle\" data-notex=\"1\" x=\"0\" y=\"0\" style=\"font-family: 'Open Sans', verdana, arial, sans-serif; font-size: 12px; fill: rgb(68, 68, 68); fill-opacity: 1; white-space: pre;\" transform=\"translate(224.7225,284.6953125)\"><tspan class=\"line\" dy=\"0em\" x=\"0\" y=\"0\">1182</tspan><tspan class=\"line\" dy=\"1.3em\" x=\"0\" y=\"0\">47%</tspan></text></g></g></g></g></g><g class=\"overplot\"/><path class=\"xlines-above crisp\" d=\"M0,0\" style=\"fill: none;\"/><path class=\"ylines-above crisp\" d=\"M0,0\" style=\"fill: none;\"/><g class=\"overlines-above\"/><g class=\"xaxislayer-above\"/><g class=\"yaxislayer-above\"><g class=\"ytick\"><text text-anchor=\"end\" x=\"212\" y=\"4.199999999999999\" transform=\"translate(0,388)\" style=\"font-family: 'Open Sans', verdana, arial, sans-serif; font-size: 12px; fill: rgb(42, 63, 95); fill-opacity: 1; white-space: pre; opacity: 1;\">сообщение об успешной оплате</text></g><g class=\"ytick\"><text text-anchor=\"end\" x=\"212\" y=\"4.199999999999999\" transform=\"translate(0,324)\" style=\"font-family: 'Open Sans', verdana, arial, sans-serif; font-size: 12px; fill: rgb(42, 63, 95); fill-opacity: 1; white-space: pre; opacity: 1;\">экран с корзиной товаров</text></g><g class=\"ytick\"><text text-anchor=\"end\" x=\"212\" y=\"4.199999999999999\" transform=\"translate(0,260)\" style=\"font-family: 'Open Sans', verdana, arial, sans-serif; font-size: 12px; fill: rgb(42, 63, 95); fill-opacity: 1; white-space: pre; opacity: 1;\">экран с предложением</text></g><g class=\"ytick\"><text text-anchor=\"end\" x=\"212\" y=\"4.199999999999999\" transform=\"translate(0,196)\" style=\"font-family: 'Open Sans', verdana, arial, sans-serif; font-size: 12px; fill: rgb(42, 63, 95); fill-opacity: 1; white-space: pre; opacity: 1;\">главный экран</text></g><g class=\"ytick\"><text text-anchor=\"end\" x=\"212\" y=\"4.199999999999999\" transform=\"translate(0,132)\" style=\"font-family: 'Open Sans', verdana, arial, sans-serif; font-size: 12px; fill: rgb(42, 63, 95); fill-opacity: 1; white-space: pre; opacity: 1;\">всего пользователей</text></g></g><g class=\"overaxes-above\"/></g></g><g class=\"polarlayer\"/><g class=\"smithlayer\"/><g class=\"ternarylayer\"/><g class=\"geolayer\"/><g class=\"funnelarealayer\"/><g class=\"pielayer\"/><g class=\"iciclelayer\"/><g class=\"treemaplayer\"/><g class=\"sunburstlayer\"/><g class=\"glimages\"/><defs id=\"topdefs-0cb76d\"><g class=\"clips\"/><clipPath id=\"legend0cb76d\"><rect width=\"117\" height=\"67\" x=\"0\" y=\"0\"/></clipPath></defs><g class=\"layer-above\"><g class=\"imagelayer\"/><g class=\"shapelayer\"/></g><g class=\"infolayer\"><g class=\"legend\" pointer-events=\"all\" transform=\"translate(571.02,100)\"><rect class=\"bg\" shape-rendering=\"crispEdges\" style=\"stroke: rgb(68, 68, 68); stroke-opacity: 1; fill: rgb(255, 255, 255); fill-opacity: 1; stroke-width: 0px;\" width=\"117\" height=\"67\" x=\"0\" y=\"0\"/><g class=\"scrollbox\" transform=\"\" clip-path=\"url(#legend0cb76d)\"><g class=\"groups\"><g class=\"traces\" transform=\"translate(0,14.5)\" style=\"opacity: 1;\"><text class=\"legendtext\" text-anchor=\"start\" x=\"40\" y=\"4.680000000000001\" style=\"font-family: 'Open Sans', verdana, arial, sans-serif; font-size: 12px; fill: rgb(42, 63, 95); fill-opacity: 1; white-space: pre;\">Группа A_1</text><g class=\"layers\" style=\"opacity: 1;\"><g class=\"legendfill\"/><g class=\"legendlines\"/><g class=\"legendsymbols\"><g class=\"legendpoints\"><path class=\"legendfunnel\" d=\"M6,6H-6V-6H6Z\" transform=\"translate(20,0)\" style=\"stroke-width: 0px; fill: rgb(99, 110, 250); fill-opacity: 1;\"/></g></g></g><rect class=\"legendtoggle\" x=\"0\" y=\"-9.5\" width=\"111.9375\" height=\"19\" style=\"fill: rgb(0, 0, 0); fill-opacity: 0;\"/></g><g class=\"traces\" transform=\"translate(0,33.5)\" style=\"opacity: 1;\"><text class=\"legendtext\" text-anchor=\"start\" x=\"40\" y=\"4.680000000000001\" style=\"font-family: 'Open Sans', verdana, arial, sans-serif; font-size: 12px; fill: rgb(42, 63, 95); fill-opacity: 1; white-space: pre;\">Группа A_2</text><g class=\"layers\" style=\"opacity: 1;\"><g class=\"legendfill\"/><g class=\"legendlines\"/><g class=\"legendsymbols\"><g class=\"legendpoints\"><path class=\"legendfunnel\" d=\"M6,6H-6V-6H6Z\" transform=\"translate(20,0)\" style=\"stroke-width: 0px; fill: rgb(239, 85, 59); fill-opacity: 1;\"/></g></g></g><rect class=\"legendtoggle\" x=\"0\" y=\"-9.5\" width=\"111.9375\" height=\"19\" style=\"fill: rgb(0, 0, 0); fill-opacity: 0;\"/></g><g class=\"traces\" transform=\"translate(0,52.5)\" style=\"opacity: 1;\"><text class=\"legendtext\" text-anchor=\"start\" x=\"40\" y=\"4.680000000000001\" style=\"font-family: 'Open Sans', verdana, arial, sans-serif; font-size: 12px; fill: rgb(42, 63, 95); fill-opacity: 1; white-space: pre;\">Группа B</text><g class=\"layers\" style=\"opacity: 1;\"><g class=\"legendfill\"/><g class=\"legendlines\"/><g class=\"legendsymbols\"><g class=\"legendpoints\"><path class=\"legendfunnel\" d=\"M6,6H-6V-6H6Z\" transform=\"translate(20,0)\" style=\"stroke-width: 0px; fill: rgb(0, 204, 150); fill-opacity: 1;\"/></g></g></g><rect class=\"legendtoggle\" x=\"0\" y=\"-9.5\" width=\"111.9375\" height=\"19\" style=\"fill: rgb(0, 0, 0); fill-opacity: 0;\"/></g></g></g><rect class=\"scrollbar\" rx=\"20\" ry=\"3\" width=\"0\" height=\"0\" style=\"fill: rgb(128, 139, 164); fill-opacity: 1;\" x=\"0\" y=\"0\"/></g><g class=\"g-gtitle\"><text class=\"gtitle\" x=\"210\" y=\"50\" text-anchor=\"start\" dy=\"0em\" style=\"font-family: 'Open Sans', verdana, arial, sans-serif; font-size: 17px; fill: rgb(42, 63, 95); opacity: 1; font-weight: normal; white-space: pre;\">Воронка событий по количеству уникальных пользователей</text></g><g class=\"g-ytitle\"/></g></svg>"
      ]
     },
     "metadata": {},
     "output_type": "display_data"
    }
   ],
   "source": [
    "# строим воронку\n",
    "\n",
    "funn_df = events_grouped.query('event_type != \"обучение\"')\n",
    "\n",
    "def funn(group):\n",
    "\n",
    "    fig.add_trace(go.Funnel(\n",
    "        name = 'Группа ' + group,\n",
    "        y = funn_df[funn_df['test_group'] == group]['event_type'],\n",
    "        x = funn_df[funn_df['test_group'] == group]['unique_users'],\n",
    "        textinfo = \"value+percent initial\"))\n",
    "\n",
    "fig = go.Figure()\n",
    "   \n",
    "for groups in ['A_1', 'A_2', 'B']:\n",
    "    funn(groups) \n",
    "\n",
    "fig.update_layout(title = 'Воронка событий по количеству уникальных пользователей', title_x= .3)\n",
    "fig.show()"
   ]
  },
  {
   "cell_type": "markdown",
   "metadata": {},
   "source": [
    "В целом доля конверсии в шаг не отличается от общей воронки. А вот различие показателей контрольных групп на некоторых шагах составляет более 1%, что может быть плохим знаком. Потому при анализе результатов эксперементальной группы необходимо в том числе расчитать статистическую значимость различий конверсий контрольных групп.\n",
    "\n",
    "Общие гипотезы для всех групп:\n",
    "\n",
    "1. **Нулевая гипотеза** - конверсии события от общего числа пользователей имеет статистически значимой разницы\n",
    "2. **Альтернативная гипотеза** - есть основания полагать, что конверсии отличаются.\n",
    "\n",
    "Так как данные для расчёта статистической значимости являются долями, оптимальным инструментом станет <a href=\"https://en.wikipedia.org/wiki/Z-test\">**Z-критерий Фишера**</a>:"
   ]
  },
  {
   "cell_type": "code",
   "execution_count": 26,
   "metadata": {},
   "outputs": [],
   "source": [
    "# напишем функцию для проверки гипотез\n",
    "\n",
    "def stat_check(successes_1, successes_2, trials_1, trials_2, alpha=.05):\n",
    "    \n",
    "    p1 = successes_1/trials_1\n",
    "    p2 = successes_2/trials_2\n",
    "    p_combined = (successes_1 + successes_2) / (trials_1 + trials_2)\n",
    "\n",
    "    difference = p1 - p2\n",
    "    z_value = (\n",
    "        difference / mth.sqrt(\n",
    "            p_combined * (1 - p_combined) * (\n",
    "                1/trials_1 + 1/trials_2))\n",
    "    )\n",
    "\n",
    "    distr = st.norm(0, 1) \n",
    "    alpha = alpha\n",
    "\n",
    "    p_value = (1 - distr.cdf(abs(z_value))) * 2\n",
    "\n",
    "    print('p-значение: ', p_value)\n",
    "\n",
    "    if (p_value < alpha):\n",
    "        print(\"Отвергаем нулевую гипотезу, есть основания полагать, что данные отличаются\")\n",
    "    else:\n",
    "        print(\"Не получилось отвергнуть нулевую гипотезу, данные выборки не имеют статистически значимой разницы \")  "
   ]
  },
  {
   "cell_type": "code",
   "execution_count": 34,
   "metadata": {},
   "outputs": [
    {
     "data": {
      "text/html": [
       "<div>\n",
       "<style scoped>\n",
       "    .dataframe tbody tr th:only-of-type {\n",
       "        vertical-align: middle;\n",
       "    }\n",
       "\n",
       "    .dataframe tbody tr th {\n",
       "        vertical-align: top;\n",
       "    }\n",
       "\n",
       "    .dataframe thead th {\n",
       "        text-align: right;\n",
       "    }\n",
       "</style>\n",
       "<table border=\"1\" class=\"dataframe\">\n",
       "  <thead>\n",
       "    <tr style=\"text-align: right;\">\n",
       "      <th></th>\n",
       "      <th>event_type</th>\n",
       "      <th>test_group</th>\n",
       "      <th>unique_users</th>\n",
       "    </tr>\n",
       "  </thead>\n",
       "  <tbody>\n",
       "    <tr>\n",
       "      <th>0</th>\n",
       "      <td>всего пользователей</td>\n",
       "      <td>B</td>\n",
       "      <td>2537</td>\n",
       "    </tr>\n",
       "    <tr>\n",
       "      <th>1</th>\n",
       "      <td>всего пользователей</td>\n",
       "      <td>A_2</td>\n",
       "      <td>2517</td>\n",
       "    </tr>\n",
       "    <tr>\n",
       "      <th>2</th>\n",
       "      <td>главный экран</td>\n",
       "      <td>B</td>\n",
       "      <td>2494</td>\n",
       "    </tr>\n",
       "    <tr>\n",
       "      <th>3</th>\n",
       "      <td>всего пользователей</td>\n",
       "      <td>A_1</td>\n",
       "      <td>2484</td>\n",
       "    </tr>\n",
       "    <tr>\n",
       "      <th>4</th>\n",
       "      <td>главный экран</td>\n",
       "      <td>A_2</td>\n",
       "      <td>2479</td>\n",
       "    </tr>\n",
       "    <tr>\n",
       "      <th>5</th>\n",
       "      <td>главный экран</td>\n",
       "      <td>A_1</td>\n",
       "      <td>2450</td>\n",
       "    </tr>\n",
       "    <tr>\n",
       "      <th>6</th>\n",
       "      <td>экран с предложением</td>\n",
       "      <td>A_1</td>\n",
       "      <td>1542</td>\n",
       "    </tr>\n",
       "    <tr>\n",
       "      <th>7</th>\n",
       "      <td>экран с предложением</td>\n",
       "      <td>B</td>\n",
       "      <td>1531</td>\n",
       "    </tr>\n",
       "    <tr>\n",
       "      <th>8</th>\n",
       "      <td>экран с предложением</td>\n",
       "      <td>A_2</td>\n",
       "      <td>1524</td>\n",
       "    </tr>\n",
       "    <tr>\n",
       "      <th>9</th>\n",
       "      <td>экран с корзиной товаров</td>\n",
       "      <td>A_1</td>\n",
       "      <td>1266</td>\n",
       "    </tr>\n",
       "    <tr>\n",
       "      <th>10</th>\n",
       "      <td>экран с корзиной товаров</td>\n",
       "      <td>A_2</td>\n",
       "      <td>1239</td>\n",
       "    </tr>\n",
       "    <tr>\n",
       "      <th>11</th>\n",
       "      <td>экран с корзиной товаров</td>\n",
       "      <td>B</td>\n",
       "      <td>1231</td>\n",
       "    </tr>\n",
       "    <tr>\n",
       "      <th>12</th>\n",
       "      <td>сообщение об успешной оплате</td>\n",
       "      <td>A_1</td>\n",
       "      <td>1200</td>\n",
       "    </tr>\n",
       "    <tr>\n",
       "      <th>13</th>\n",
       "      <td>сообщение об успешной оплате</td>\n",
       "      <td>B</td>\n",
       "      <td>1182</td>\n",
       "    </tr>\n",
       "    <tr>\n",
       "      <th>14</th>\n",
       "      <td>сообщение об успешной оплате</td>\n",
       "      <td>A_2</td>\n",
       "      <td>1158</td>\n",
       "    </tr>\n",
       "    <tr>\n",
       "      <th>15</th>\n",
       "      <td>обучение</td>\n",
       "      <td>A_2</td>\n",
       "      <td>284</td>\n",
       "    </tr>\n",
       "    <tr>\n",
       "      <th>16</th>\n",
       "      <td>обучение</td>\n",
       "      <td>B</td>\n",
       "      <td>281</td>\n",
       "    </tr>\n",
       "    <tr>\n",
       "      <th>17</th>\n",
       "      <td>обучение</td>\n",
       "      <td>A_1</td>\n",
       "      <td>278</td>\n",
       "    </tr>\n",
       "  </tbody>\n",
       "</table>\n",
       "</div>"
      ],
      "text/plain": [
       "                      event_type test_group  unique_users\n",
       "0            всего пользователей          B          2537\n",
       "1            всего пользователей        A_2          2517\n",
       "2                  главный экран          B          2494\n",
       "3            всего пользователей        A_1          2484\n",
       "4                  главный экран        A_2          2479\n",
       "5                  главный экран        A_1          2450\n",
       "6           экран с предложением        A_1          1542\n",
       "7           экран с предложением          B          1531\n",
       "8           экран с предложением        A_2          1524\n",
       "9       экран с корзиной товаров        A_1          1266\n",
       "10      экран с корзиной товаров        A_2          1239\n",
       "11      экран с корзиной товаров          B          1231\n",
       "12  сообщение об успешной оплате        A_1          1200\n",
       "13  сообщение об успешной оплате          B          1182\n",
       "14  сообщение об успешной оплате        A_2          1158\n",
       "15                      обучение        A_2           284\n",
       "16                      обучение          B           281\n",
       "17                      обучение        A_1           278"
      ]
     },
     "execution_count": 34,
     "metadata": {},
     "output_type": "execute_result"
    }
   ],
   "source": [
    "# создадим необходимые для проверки переменные\n",
    "\n",
    "# количество пользователей каждой группы\n",
    "\n",
    "total = (\n",
    "    events_grouped\n",
    "    .query('event_type == \"всего пользователей\"')\n",
    "    .sort_values('test_group')\n",
    "    .reset_index(drop=True)\n",
    ")\n",
    "\n",
    "a_1_total = total.loc[0]['unique_users']\n",
    "a_2_total = total.loc[1]['unique_users']\n",
    "b_total = total.loc[2]['unique_users']\n",
    "\n",
    "# список событий\n",
    "\n",
    "events_list = (\n",
    "    events_grouped['event_type']\n",
    "    .unique()\n",
    "    .tolist()\n",
    ")\n",
    "del events_list[0]\n",
    "\n",
    "events_grouped"
   ]
  },
  {
   "cell_type": "code",
   "execution_count": 29,
   "metadata": {},
   "outputs": [
    {
     "name": "stdout",
     "output_type": "stream",
     "text": [
      "Проверка групп A_1 и A_2 в событии \"главный экран\"\n",
      "\n",
      "p-значение:  0.6756217702005545\n",
      "Не получилось отвергнуть нулевую гипотезу, данные выборки не имеют статистически значимой разницы \n",
      "\n",
      "Проверка групп A_1 и A_2 в событии \"экран с предложением\"\n",
      "\n",
      "p-значение:  0.26698769175859516\n",
      "Не получилось отвергнуть нулевую гипотезу, данные выборки не имеют статистически значимой разницы \n",
      "\n",
      "Проверка групп A_1 и A_2 в событии \"экран с корзиной товаров\"\n",
      "\n",
      "p-значение:  0.2182812140633792\n",
      "Не получилось отвергнуть нулевую гипотезу, данные выборки не имеют статистически значимой разницы \n",
      "\n",
      "Проверка групп A_1 и A_2 в событии \"сообщение об успешной оплате\"\n",
      "\n",
      "p-значение:  0.10298394982948822\n",
      "Не получилось отвергнуть нулевую гипотезу, данные выборки не имеют статистически значимой разницы \n",
      "\n",
      "Проверка групп A_1 и A_2 в событии \"обучение\"\n",
      "\n",
      "p-значение:  0.9182790262812368\n",
      "Не получилось отвергнуть нулевую гипотезу, данные выборки не имеют статистически значимой разницы \n",
      "\n"
     ]
    },
    {
     "data": {
      "text/plain": [
       "278"
      ]
     },
     "execution_count": 29,
     "metadata": {},
     "output_type": "execute_result"
    }
   ],
   "source": [
    "# функция для получения значения группы для события\n",
    "\n",
    "def get_val(group):\n",
    "    val = int(\n",
    "        events_grouped.query(\n",
    "            'event_type == @event and test_group == @group')\n",
    "        ['unique_users'])\n",
    "    return val\n",
    "\n",
    "# запускаем цикл проверки всех событий контрольных групп\n",
    "\n",
    "run_count = 0 # счётчик количества проверок\n",
    "\n",
    "for event in events_list:\n",
    "    \n",
    "    a_1 = get_val('A_1')\n",
    "    a_2 = get_val('A_2')\n",
    "    \n",
    "    print(f'Проверка групп A_1 и A_2 в событии \"{event}\"')\n",
    "    print()\n",
    "    stat_check(a_1, a_2, a_1_total, a_2_total)\n",
    "    run_count += 1\n",
    "    print()"
   ]
  },
  {
   "cell_type": "markdown",
   "metadata": {},
   "source": [
    "Несмотря на разницу в абсолютных значений, которую показала [воронка событий](#funnel) - статистическая значимость разницы конверсий контрольных групп не наблюдается.\n",
    "\n",
    "Теперь сравним результаты эксперементальной группы по очереди с каждой из контрольных:"
   ]
  },
  {
   "cell_type": "code",
   "execution_count": 29,
   "metadata": {},
   "outputs": [
    {
     "name": "stdout",
     "output_type": "stream",
     "text": [
      "Сравниваем первую контрольную группу с эксперементальной\n",
      "\n",
      "\n",
      "Проверка групп A_1 и B в событии \"главный экран\"\n",
      "\n",
      "p-значение:  0.34705881021236484\n",
      "Не получилось отвергнуть нулевую гипотезу, данные выборки не имеют статистически значимой разницы \n",
      "\n",
      "Проверка групп A_1 и B в событии \"экран с предложением\"\n",
      "\n",
      "p-значение:  0.20836205402738917\n",
      "Не получилось отвергнуть нулевую гипотезу, данные выборки не имеют статистически значимой разницы \n",
      "\n",
      "Проверка групп A_1 и B в событии \"экран с корзиной товаров\"\n",
      "\n",
      "p-значение:  0.08328412977507749\n",
      "Не получилось отвергнуть нулевую гипотезу, данные выборки не имеют статистически значимой разницы \n",
      "\n",
      "Проверка групп A_1 и B в событии \"сообщение об успешной оплате\"\n",
      "\n",
      "p-значение:  0.22269358994682742\n",
      "Не получилось отвергнуть нулевую гипотезу, данные выборки не имеют статистически значимой разницы \n",
      "\n",
      "Проверка групп A_1 и B в событии \"обучение\"\n",
      "\n",
      "p-значение:  0.8964489622133207\n",
      "Не получилось отвергнуть нулевую гипотезу, данные выборки не имеют статистически значимой разницы \n",
      "\n",
      "\n",
      "\n",
      "Сравниваем вторую контрольную группу с эксперементальной\n",
      "\n",
      "\n",
      "Проверка групп A_2 и B в событии \"главный экран\"\n",
      "\n",
      "p-значение:  0.6001661582453706\n",
      "Не получилось отвергнуть нулевую гипотезу, данные выборки не имеют статистически значимой разницы \n",
      "\n",
      "Проверка групп A_2 и B в событии \"экран с предложением\"\n",
      "\n",
      "p-значение:  0.8835956656016957\n",
      "Не получилось отвергнуть нулевую гипотезу, данные выборки не имеют статистически значимой разницы \n",
      "\n",
      "Проверка групп A_2 и B в событии \"экран с корзиной товаров\"\n",
      "\n",
      "p-значение:  0.6169517476996997\n",
      "Не получилось отвергнуть нулевую гипотезу, данные выборки не имеют статистически значимой разницы \n",
      "\n",
      "Проверка групп A_2 и B в событии \"сообщение об успешной оплате\"\n",
      "\n",
      "p-значение:  0.6775413642906454\n",
      "Не получилось отвергнуть нулевую гипотезу, данные выборки не имеют статистически значимой разницы \n",
      "\n",
      "Проверка групп A_2 и B в событии \"обучение\"\n",
      "\n",
      "p-значение:  0.8151967015119994\n",
      "Не получилось отвергнуть нулевую гипотезу, данные выборки не имеют статистически значимой разницы \n",
      "\n"
     ]
    }
   ],
   "source": [
    "# запускаем цикл проверки событий для эксперементальной и первой контрольной группы\n",
    "\n",
    "print('Сравниваем первую контрольную группу с эксперементальной')\n",
    "print('\\n')\n",
    "\n",
    "for event in events_list:\n",
    "    \n",
    "    a_1 = get_val('A_1')\n",
    "    b = get_val('B')\n",
    "    \n",
    "    print(f'Проверка групп A_1 и B в событии \"{event}\"')\n",
    "    print()\n",
    "    stat_check(a_1, b, a_1_total, b_total)\n",
    "    run_count += 1\n",
    "\n",
    "    print()\n",
    "\n",
    "print('\\n')\n",
    "print('Сравниваем вторую контрольную группу с эксперементальной')\n",
    "print('\\n')\n",
    "    \n",
    "# запускаем цикл проверки событий для эксперементальной и второй контрольной группы\n",
    "\n",
    "for event in events_list:\n",
    "    \n",
    "    a_2 = get_val('A_2')\n",
    "    b = get_val('B')\n",
    "    \n",
    "    print(f'Проверка групп A_2 и B в событии \"{event}\"')\n",
    "    print()\n",
    "    stat_check(a_2, b, a_2_total, b_total)\n",
    "    run_count += 1\n",
    "\n",
    "    print()"
   ]
  },
  {
   "cell_type": "markdown",
   "metadata": {},
   "source": [
    "Ни одна из проверок не показывает статистически значимой разницы конверсии в событие.\n",
    "\n",
    "Попробуем объединить контрольные группы и провести ещё одну проверку:"
   ]
  },
  {
   "cell_type": "code",
   "execution_count": 30,
   "metadata": {},
   "outputs": [
    {
     "name": "stdout",
     "output_type": "stream",
     "text": [
      "Сравниваем обе контрольные группы с эксперементальной\n",
      "\n",
      "\n",
      "Проверка групп A_1 и B в событии \"главный экран\"\n",
      "\n",
      "p-значение:  0.39298914928006035\n",
      "Не получилось отвергнуть нулевую гипотезу, данные выборки не имеют статистически значимой разницы \n",
      "\n",
      "Проверка групп A_1 и B в событии \"экран с предложением\"\n",
      "\n",
      "p-значение:  0.418998284007599\n",
      "Не получилось отвергнуть нулевую гипотезу, данные выборки не имеют статистически значимой разницы \n",
      "\n",
      "Проверка групп A_1 и B в событии \"экран с корзиной товаров\"\n",
      "\n",
      "p-значение:  0.19819340844527744\n",
      "Не получилось отвергнуть нулевую гипотезу, данные выборки не имеют статистически значимой разницы \n",
      "\n",
      "Проверка групп A_1 и B в событии \"сообщение об успешной оплате\"\n",
      "\n",
      "p-значение:  0.6452057673098244\n",
      "Не получилось отвергнуть нулевую гипотезу, данные выборки не имеют статистически значимой разницы \n",
      "\n",
      "Проверка групп A_1 и B в событии \"обучение\"\n",
      "\n",
      "p-значение:  0.8333049080125807\n",
      "Не получилось отвергнуть нулевую гипотезу, данные выборки не имеют статистически значимой разницы \n",
      "\n"
     ]
    }
   ],
   "source": [
    "# запускаем цикл проверки событий для эксперементальной и обеих контрольных групп\n",
    "\n",
    "print('Сравниваем обе контрольные группы с эксперементальной')\n",
    "print('\\n')\n",
    "\n",
    "for event in events_list:\n",
    "    \n",
    "    a = get_val('A_1') + get_val('A_2')\n",
    "    b = get_val('B')\n",
    "    \n",
    "    print(f'Проверка групп A_1 и B в событии \"{event}\"')\n",
    "    print()\n",
    "    stat_check(a, b, a_1_total + a_2_total, b_total)\n",
    "    run_count += 1\n",
    "\n",
    "    print()\n"
   ]
  },
  {
   "cell_type": "markdown",
   "metadata": {},
   "source": [
    "На данный момент результаты всех проверок не указывают на наличии статистической значимости групп в конверсии пользовательских событий."
   ]
  },
  {
   "cell_type": "markdown",
   "metadata": {},
   "source": [
    "<a id='5'></a>"
   ]
  },
  {
   "cell_type": "markdown",
   "metadata": {},
   "source": [
    "## Общий вывод"
   ]
  },
  {
   "cell_type": "markdown",
   "metadata": {},
   "source": [
    "____\n",
    "**Рекомендации**\n",
    "\n",
    "- Сделать экран с обучением обязательным для пользователей - возможно конверсия в каждый шаг воронки событий падает именно из-за того, что пользователи не до конца понимают функционал приложения.\n",
    "\n",
    "\n",
    "- Принять меры для более тщательного отбора пользователей для формирования контрольных групп - несмотря на отсутствие статистически значимой разницы с поправкой на множественное сравнение, абсолютные значения конверсии групп в большинстве событий имеет разницу, превышающую 1%. Без коррекции порога значимости включение данных первой контрольной группы гарантирует наличие статистически значимых различий, что в данном контексте негативно характеризует её репрезентативность.\n",
    "\n",
    "\n",
    "- Результаты анализа теста не показывают статистически значимых изменений метрик. Если цель эксперемента была в том, чтобы убедится, что новведения не ухудшат показетели - его можно считать успешным. Но если целью новведения было улучшение показателей - проведение подобного эксперемента, учитывая потенциальные трудовые и материальные затраты, было нецелесообразно. В таком случае необходима более тщательная работа по приоритезации гипотез для проверки A/B тестом.\n",
    "____\n",
    "\n"
   ]
  },
  {
   "cell_type": "markdown",
   "metadata": {},
   "source": [
    "Целью исследования являлось анализ данных A/A/B-эксперимента по внедрению новых шрифтов и формулирования рекомендаций.\n",
    "\n",
    "Данные для исследования были представлены в файле `logs_exp.csv` - это таблица с логами пользователей. Необходимо было провести обзор и предобработку данных - обработать возможные дубликаты и пропуски, при необходимости поменять тип данных и создать дополнительные столбцы. Затем был проведён общий исследовательский анализ, главная цель которого - установление актуального периода исследования. По результатам былы сформирована и проанализирована воронка событий, а финальным этапом стал непосредственный анализ результатов эксперемента.\n",
    "\n",
    "Таким образом, исследование было разделено на следующие этапы:\n",
    "\n",
    "1. [**Обзор и предобработка данных**](#1)\n",
    "3. [**Исследовательский анализ данных**](#2)\n",
    "4. [**Анализ воронки событий**](#3)\n",
    "5. [**Изучение результатов эксперемента**](#4)\n",
    "6. [**Общий вывод**](#5)"
   ]
  },
  {
   "cell_type": "markdown",
   "metadata": {},
   "source": [
    "В ходе предобработки были рассмотрены данные каждого столбца, была произведена проверка на дубликаты и частично изменены типы данных.\n",
    "\n",
    "Изменение типа данных позволило значительно сократить объёмы используемой памяти, даже несмотря на создание отдельного столбца с датами.\n",
    "\n",
    "\n",
    "**Что было отмечено при работе с данными**:\n",
    "\n",
    "- Данные содержат события с 25.07.2019 по 07.08.2019 - ровно две недели.\n",
    "\n",
    "\n",
    "- В данных содержится пять уникальных пользовательских событий:\n",
    "\n",
    "    - `MainScreenAppear` - отображение главного экрана\n",
    "    - `OffersScreenAppear` - отображение экрана с предложением\n",
    "    - `CartScreenAppear` - отображение экрана с корзиной товаров\n",
    "    - `PaymentScreenSuccessful` - экран с сообщением об успешной оплате\n",
    "    - `Tutorial` - обучение\n",
    "    \n",
    "    \n",
    "- Таблица содержит данные 7551 уникальных пользователей, на каждого в среднем приходится 32 события, в том числе 5 покупок."
   ]
  },
  {
   "cell_type": "markdown",
   "metadata": {},
   "source": [
    "Основная целью исследовательского анализа было установление актуального периода исследования. Необходимо было изучить датасет на предмет наличия полных данных за весь период, во избежание влияние аномалий на результаты исследования.\n",
    "\n",
    "На графиках был отчётливо виден рост активности 31-07, начиная примерно с 21:00 - это и стало точкой начала актуального периода исследования.\n",
    "\n",
    "Сократив исследуемый период вдвое, мы потеряли лишь 1% данных. 13 уникальных пользователей было потеряно, но среднее число событий осталось без изменений. \n",
    "\n",
    "Соотношение распределения пользователей по эксперементальным группам также не изменилось, что лишний раз подтверждает корректность установленного актуального периода исследования.\n",
    "\n",
    "Таким образом, актуальный период исследования - с **2019-07-31 21:00:00** по **2019-08-07 21:15:00**.\n",
    "\n",
    "Анализ количества событий и уникальных пользователей показал, что каждый день событие `обучение` происходит значительно реже остальных - видимо это не обязательный модуль приложения, который пользователи могут включать по желанию. В таком случае включать его в воронку событий было нецелесообразно. Количество других событий же может говорить об их прямой последовательности, несмотря на то, `экран с предложением` скорее всего является необязательным для совершения покупки.\n",
    "\n",
    "Воронка событий продемонстрировала в целом очень хорошую конверсия - около 47% всех пользователей в итоге совершают покупку. Самая низкая конверсия в шаг наблюдается у экрана с предложением - она составляет около 60%, тогда как конверсия остальных шагов составляет более 80%. Но так как даже `Главный экран` видят не все пользователи (98%), последовательность событий для отдельных пользователей может отличаться."
   ]
  },
  {
   "cell_type": "markdown",
   "metadata": {},
   "source": [
    "В варианте воронки событий в разрезе групп эксперимента в целом доля конверсии в шаг не отличается от общей воронки. А вот различие показателей контрольных групп на некоторых шагах составляет более 1%, что может быть плохим знаком. Потому при анализе результатов эксперементальной группы необходимо в том числе расчитать статистическую значимость различий конверсий контрольных групп.\n",
    "\n",
    "Общие гипотезы для всех групп:\n",
    "\n",
    "1. **Нулевая гипотеза** - конверсии события от общего числа пользователей имеет статистически значимой разницы\n",
    "2. **Альтернативная гипотеза** - есть основания полагать, что конверсии отличаются."
   ]
  },
  {
   "cell_type": "markdown",
   "metadata": {},
   "source": [
    "На данный момент результаты всех проверок не указывают на наличии статистической значимости групп в конверсии пользовательских событий.\n",
    "\n",
    "При сравнении результатов контрольных и эксперементальных групп статистической значимости результатов также не было выявлено."
   ]
  },
  {
   "cell_type": "markdown",
   "metadata": {},
   "source": [
    "<a id='5'></a>"
   ]
  }
 ],
 "metadata": {
  "ExecuteTimeLog": [
   {
    "duration": 1403,
    "start_time": "2022-08-06T14:17:52.511Z"
   },
   {
    "duration": 50,
    "start_time": "2022-08-06T14:27:51.236Z"
   },
   {
    "duration": 10,
    "start_time": "2022-08-06T14:28:14.986Z"
   },
   {
    "duration": 5,
    "start_time": "2022-08-06T14:32:01.246Z"
   },
   {
    "duration": 24,
    "start_time": "2022-08-06T14:32:09.440Z"
   },
   {
    "duration": 33,
    "start_time": "2022-08-06T14:32:11.014Z"
   },
   {
    "duration": 18,
    "start_time": "2022-08-06T14:32:11.565Z"
   },
   {
    "duration": 24,
    "start_time": "2022-08-06T14:32:23.410Z"
   },
   {
    "duration": 51,
    "start_time": "2022-08-06T14:38:05.073Z"
   },
   {
    "duration": 538,
    "start_time": "2022-08-06T14:38:05.608Z"
   },
   {
    "duration": 1166,
    "start_time": "2022-08-06T14:43:06.884Z"
   },
   {
    "duration": 26,
    "start_time": "2022-08-06T14:43:08.052Z"
   },
   {
    "duration": 184,
    "start_time": "2022-08-06T14:43:08.080Z"
   },
   {
    "duration": 5,
    "start_time": "2022-08-06T14:43:08.266Z"
   },
   {
    "duration": 14,
    "start_time": "2022-08-06T14:43:08.273Z"
   },
   {
    "duration": 119,
    "start_time": "2022-08-06T14:43:08.288Z"
   },
   {
    "duration": 40,
    "start_time": "2022-08-06T14:43:08.408Z"
   },
   {
    "duration": 55,
    "start_time": "2022-08-06T14:43:08.449Z"
   },
   {
    "duration": 24,
    "start_time": "2022-08-06T14:43:08.505Z"
   },
   {
    "duration": 6,
    "start_time": "2022-08-06T14:43:08.531Z"
   },
   {
    "duration": 9,
    "start_time": "2022-08-06T14:43:08.538Z"
   },
   {
    "duration": 32,
    "start_time": "2022-08-06T14:43:08.549Z"
   },
   {
    "duration": 46,
    "start_time": "2022-08-06T14:43:08.582Z"
   },
   {
    "duration": 46,
    "start_time": "2022-08-06T14:43:08.629Z"
   },
   {
    "duration": 46,
    "start_time": "2022-08-06T14:43:08.677Z"
   },
   {
    "duration": 4,
    "start_time": "2022-08-06T14:43:08.724Z"
   },
   {
    "duration": 49,
    "start_time": "2022-08-06T14:43:08.729Z"
   },
   {
    "duration": 603,
    "start_time": "2022-08-06T14:43:08.779Z"
   },
   {
    "duration": 1508,
    "start_time": "2022-08-06T14:43:09.384Z"
   },
   {
    "duration": 18,
    "start_time": "2022-08-06T14:43:10.899Z"
   },
   {
    "duration": 4,
    "start_time": "2022-08-06T14:43:10.919Z"
   },
   {
    "duration": 20,
    "start_time": "2022-08-06T14:43:10.925Z"
   },
   {
    "duration": 53,
    "start_time": "2022-08-06T14:43:10.947Z"
   },
   {
    "duration": 26,
    "start_time": "2022-08-06T14:43:11.002Z"
   },
   {
    "duration": 8,
    "start_time": "2022-08-06T14:43:11.030Z"
   },
   {
    "duration": 74,
    "start_time": "2022-08-06T14:43:11.040Z"
   },
   {
    "duration": 8,
    "start_time": "2022-08-06T14:45:01.478Z"
   },
   {
    "duration": 5,
    "start_time": "2022-08-06T14:45:08.231Z"
   },
   {
    "duration": 61,
    "start_time": "2022-08-06T14:45:08.238Z"
   },
   {
    "duration": 169,
    "start_time": "2022-08-06T14:45:08.301Z"
   },
   {
    "duration": 5,
    "start_time": "2022-08-06T14:45:08.471Z"
   },
   {
    "duration": 23,
    "start_time": "2022-08-06T14:45:08.477Z"
   },
   {
    "duration": 129,
    "start_time": "2022-08-06T14:45:08.502Z"
   },
   {
    "duration": 39,
    "start_time": "2022-08-06T14:45:08.633Z"
   },
   {
    "duration": 49,
    "start_time": "2022-08-06T14:45:08.673Z"
   },
   {
    "duration": 22,
    "start_time": "2022-08-06T14:45:08.723Z"
   },
   {
    "duration": 9,
    "start_time": "2022-08-06T14:45:08.746Z"
   },
   {
    "duration": 18,
    "start_time": "2022-08-06T14:45:08.756Z"
   },
   {
    "duration": 48,
    "start_time": "2022-08-06T14:45:08.775Z"
   },
   {
    "duration": 30,
    "start_time": "2022-08-06T14:45:08.824Z"
   },
   {
    "duration": 55,
    "start_time": "2022-08-06T14:45:08.856Z"
   },
   {
    "duration": 29,
    "start_time": "2022-08-06T14:45:08.913Z"
   },
   {
    "duration": 4,
    "start_time": "2022-08-06T14:45:08.943Z"
   },
   {
    "duration": 59,
    "start_time": "2022-08-06T14:45:08.948Z"
   },
   {
    "duration": 563,
    "start_time": "2022-08-06T14:45:09.009Z"
   },
   {
    "duration": 908,
    "start_time": "2022-08-06T14:45:09.574Z"
   },
   {
    "duration": 21,
    "start_time": "2022-08-06T14:45:10.484Z"
   },
   {
    "duration": 7,
    "start_time": "2022-08-06T14:45:19.992Z"
   },
   {
    "duration": 19,
    "start_time": "2022-08-06T14:45:35.930Z"
   },
   {
    "duration": 8,
    "start_time": "2022-08-06T14:45:39.961Z"
   },
   {
    "duration": 41,
    "start_time": "2022-08-06T14:46:01.183Z"
   },
   {
    "duration": 3700,
    "start_time": "2022-08-06T16:11:58.711Z"
   },
   {
    "duration": 1338,
    "start_time": "2022-08-06T16:13:27.542Z"
   },
   {
    "duration": 32,
    "start_time": "2022-08-06T16:13:28.882Z"
   },
   {
    "duration": 2274,
    "start_time": "2022-08-06T16:13:28.916Z"
   },
   {
    "duration": 536,
    "start_time": "2022-08-06T16:13:31.194Z"
   },
   {
    "duration": 6,
    "start_time": "2022-08-06T16:13:31.732Z"
   },
   {
    "duration": 17,
    "start_time": "2022-08-06T16:13:31.739Z"
   },
   {
    "duration": 119,
    "start_time": "2022-08-06T16:13:31.757Z"
   },
   {
    "duration": 61,
    "start_time": "2022-08-06T16:13:31.878Z"
   },
   {
    "duration": 48,
    "start_time": "2022-08-06T16:13:31.941Z"
   },
   {
    "duration": 26,
    "start_time": "2022-08-06T16:13:31.992Z"
   },
   {
    "duration": 23,
    "start_time": "2022-08-06T16:13:32.020Z"
   },
   {
    "duration": 17,
    "start_time": "2022-08-06T16:13:32.045Z"
   },
   {
    "duration": 38,
    "start_time": "2022-08-06T16:13:32.064Z"
   },
   {
    "duration": 38,
    "start_time": "2022-08-06T16:13:32.104Z"
   },
   {
    "duration": 48,
    "start_time": "2022-08-06T16:13:32.144Z"
   },
   {
    "duration": 48,
    "start_time": "2022-08-06T16:13:32.194Z"
   },
   {
    "duration": 4,
    "start_time": "2022-08-06T16:13:32.244Z"
   },
   {
    "duration": 48,
    "start_time": "2022-08-06T16:13:32.250Z"
   },
   {
    "duration": 689,
    "start_time": "2022-08-06T16:13:32.300Z"
   },
   {
    "duration": 1321,
    "start_time": "2022-08-06T16:13:32.991Z"
   },
   {
    "duration": 24,
    "start_time": "2022-08-06T16:13:34.314Z"
   },
   {
    "duration": 9,
    "start_time": "2022-08-06T16:13:34.340Z"
   },
   {
    "duration": 33,
    "start_time": "2022-08-06T16:13:34.351Z"
   },
   {
    "duration": 56,
    "start_time": "2022-08-06T16:13:34.386Z"
   },
   {
    "duration": 41,
    "start_time": "2022-08-06T16:13:34.444Z"
   },
   {
    "duration": 143,
    "start_time": "2022-08-06T16:14:27.031Z"
   },
   {
    "duration": 855,
    "start_time": "2022-08-06T16:14:42.319Z"
   },
   {
    "duration": 2206,
    "start_time": "2022-08-06T16:16:47.790Z"
   },
   {
    "duration": 1107,
    "start_time": "2022-08-06T16:16:56.295Z"
   },
   {
    "duration": 35,
    "start_time": "2022-08-06T16:16:57.404Z"
   },
   {
    "duration": 2273,
    "start_time": "2022-08-06T16:16:57.441Z"
   },
   {
    "duration": 197,
    "start_time": "2022-08-06T16:16:59.717Z"
   },
   {
    "duration": 6,
    "start_time": "2022-08-06T16:16:59.916Z"
   },
   {
    "duration": 21,
    "start_time": "2022-08-06T16:16:59.924Z"
   },
   {
    "duration": 128,
    "start_time": "2022-08-06T16:16:59.947Z"
   },
   {
    "duration": 74,
    "start_time": "2022-08-06T16:17:00.077Z"
   },
   {
    "duration": 50,
    "start_time": "2022-08-06T16:17:00.152Z"
   },
   {
    "duration": 41,
    "start_time": "2022-08-06T16:17:00.205Z"
   },
   {
    "duration": 6,
    "start_time": "2022-08-06T16:17:00.248Z"
   },
   {
    "duration": 18,
    "start_time": "2022-08-06T16:17:00.255Z"
   },
   {
    "duration": 34,
    "start_time": "2022-08-06T16:17:00.275Z"
   },
   {
    "duration": 49,
    "start_time": "2022-08-06T16:17:00.311Z"
   },
   {
    "duration": 48,
    "start_time": "2022-08-06T16:17:00.362Z"
   },
   {
    "duration": 48,
    "start_time": "2022-08-06T16:17:00.412Z"
   },
   {
    "duration": 4,
    "start_time": "2022-08-06T16:17:00.461Z"
   },
   {
    "duration": 52,
    "start_time": "2022-08-06T16:17:00.467Z"
   },
   {
    "duration": 700,
    "start_time": "2022-08-06T16:17:00.521Z"
   },
   {
    "duration": 1322,
    "start_time": "2022-08-06T16:17:01.223Z"
   },
   {
    "duration": 13,
    "start_time": "2022-08-06T16:17:02.547Z"
   },
   {
    "duration": 6,
    "start_time": "2022-08-06T16:17:02.562Z"
   },
   {
    "duration": 68,
    "start_time": "2022-08-06T16:17:02.570Z"
   },
   {
    "duration": 8,
    "start_time": "2022-08-06T16:17:02.640Z"
   },
   {
    "duration": 44,
    "start_time": "2022-08-06T16:17:02.650Z"
   },
   {
    "duration": 47,
    "start_time": "2022-08-06T16:18:03.651Z"
   },
   {
    "duration": 11817,
    "start_time": "2022-08-06T16:18:08.193Z"
   },
   {
    "duration": 1488,
    "start_time": "2022-08-06T16:23:51.051Z"
   },
   {
    "duration": 2163,
    "start_time": "2022-08-06T16:23:52.542Z"
   },
   {
    "duration": 2503,
    "start_time": "2022-08-06T16:23:54.707Z"
   },
   {
    "duration": 27,
    "start_time": "2022-08-06T16:23:57.212Z"
   },
   {
    "duration": 202,
    "start_time": "2022-08-06T16:23:57.240Z"
   },
   {
    "duration": 8,
    "start_time": "2022-08-06T16:23:57.443Z"
   },
   {
    "duration": 12,
    "start_time": "2022-08-06T16:23:57.453Z"
   },
   {
    "duration": 136,
    "start_time": "2022-08-06T16:23:57.466Z"
   },
   {
    "duration": 63,
    "start_time": "2022-08-06T16:23:57.604Z"
   },
   {
    "duration": 55,
    "start_time": "2022-08-06T16:23:57.669Z"
   },
   {
    "duration": 38,
    "start_time": "2022-08-06T16:23:57.726Z"
   },
   {
    "duration": 6,
    "start_time": "2022-08-06T16:23:57.766Z"
   },
   {
    "duration": 10,
    "start_time": "2022-08-06T16:23:57.774Z"
   },
   {
    "duration": 56,
    "start_time": "2022-08-06T16:23:57.785Z"
   },
   {
    "duration": 35,
    "start_time": "2022-08-06T16:23:57.843Z"
   },
   {
    "duration": 64,
    "start_time": "2022-08-06T16:23:57.880Z"
   },
   {
    "duration": 28,
    "start_time": "2022-08-06T16:23:57.945Z"
   },
   {
    "duration": 4,
    "start_time": "2022-08-06T16:23:57.974Z"
   },
   {
    "duration": 68,
    "start_time": "2022-08-06T16:23:57.980Z"
   },
   {
    "duration": 785,
    "start_time": "2022-08-06T16:23:58.050Z"
   },
   {
    "duration": 1411,
    "start_time": "2022-08-06T16:23:58.837Z"
   },
   {
    "duration": 13,
    "start_time": "2022-08-06T16:24:00.250Z"
   },
   {
    "duration": 7,
    "start_time": "2022-08-06T16:24:00.265Z"
   },
   {
    "duration": 74,
    "start_time": "2022-08-06T16:24:00.275Z"
   },
   {
    "duration": 6,
    "start_time": "2022-08-06T16:24:00.351Z"
   },
   {
    "duration": 79,
    "start_time": "2022-08-06T16:24:00.359Z"
   },
   {
    "duration": 49,
    "start_time": "2022-08-06T16:28:57.728Z"
   },
   {
    "duration": 52,
    "start_time": "2022-08-06T16:29:21.071Z"
   },
   {
    "duration": 3,
    "start_time": "2022-08-06T16:29:28.833Z"
   },
   {
    "duration": 74,
    "start_time": "2022-08-06T16:29:43.200Z"
   },
   {
    "duration": 4998,
    "start_time": "2022-08-06T16:30:56.202Z"
   },
   {
    "duration": 6237,
    "start_time": "2022-08-06T16:31:15.646Z"
   },
   {
    "duration": 1575,
    "start_time": "2022-08-06T16:31:37.902Z"
   },
   {
    "duration": 2452,
    "start_time": "2022-08-06T16:31:39.480Z"
   },
   {
    "duration": 2368,
    "start_time": "2022-08-06T16:31:41.934Z"
   },
   {
    "duration": 2493,
    "start_time": "2022-08-06T16:31:44.305Z"
   },
   {
    "duration": 2580,
    "start_time": "2022-08-06T16:31:46.801Z"
   },
   {
    "duration": 24,
    "start_time": "2022-08-06T16:31:49.383Z"
   },
   {
    "duration": 203,
    "start_time": "2022-08-06T16:31:49.409Z"
   },
   {
    "duration": 6,
    "start_time": "2022-08-06T16:31:49.614Z"
   },
   {
    "duration": 24,
    "start_time": "2022-08-06T16:31:49.622Z"
   },
   {
    "duration": 137,
    "start_time": "2022-08-06T16:31:49.650Z"
   },
   {
    "duration": 66,
    "start_time": "2022-08-06T16:31:49.789Z"
   },
   {
    "duration": 49,
    "start_time": "2022-08-06T16:31:49.857Z"
   },
   {
    "duration": 43,
    "start_time": "2022-08-06T16:31:49.909Z"
   },
   {
    "duration": 8,
    "start_time": "2022-08-06T16:31:49.954Z"
   },
   {
    "duration": 7,
    "start_time": "2022-08-06T16:31:49.964Z"
   },
   {
    "duration": 34,
    "start_time": "2022-08-06T16:31:49.973Z"
   },
   {
    "duration": 60,
    "start_time": "2022-08-06T16:31:50.009Z"
   },
   {
    "duration": 47,
    "start_time": "2022-08-06T16:31:50.070Z"
   },
   {
    "duration": 43,
    "start_time": "2022-08-06T16:31:50.119Z"
   },
   {
    "duration": 3,
    "start_time": "2022-08-06T16:31:50.164Z"
   },
   {
    "duration": 47,
    "start_time": "2022-08-06T16:31:50.169Z"
   },
   {
    "duration": 820,
    "start_time": "2022-08-06T16:31:50.217Z"
   },
   {
    "duration": 1299,
    "start_time": "2022-08-06T16:31:51.039Z"
   },
   {
    "duration": 13,
    "start_time": "2022-08-06T16:31:52.340Z"
   },
   {
    "duration": 6,
    "start_time": "2022-08-06T16:31:52.355Z"
   },
   {
    "duration": 23,
    "start_time": "2022-08-06T16:31:52.362Z"
   },
   {
    "duration": 7,
    "start_time": "2022-08-06T16:31:52.439Z"
   },
   {
    "duration": 40,
    "start_time": "2022-08-06T16:31:52.450Z"
   },
   {
    "duration": 4,
    "start_time": "2022-08-06T16:38:35.898Z"
   },
   {
    "duration": 4,
    "start_time": "2022-08-06T16:41:10.893Z"
   },
   {
    "duration": 3,
    "start_time": "2022-08-06T16:41:21.599Z"
   },
   {
    "duration": 4,
    "start_time": "2022-08-06T16:41:32.257Z"
   },
   {
    "duration": 4,
    "start_time": "2022-08-06T16:41:35.276Z"
   },
   {
    "duration": 4,
    "start_time": "2022-08-06T16:41:36.000Z"
   },
   {
    "duration": 3,
    "start_time": "2022-08-06T16:42:03.057Z"
   },
   {
    "duration": 4,
    "start_time": "2022-08-06T16:42:05.000Z"
   },
   {
    "duration": 1488,
    "start_time": "2022-08-06T16:42:21.567Z"
   },
   {
    "duration": 32,
    "start_time": "2022-08-06T16:42:23.058Z"
   },
   {
    "duration": 215,
    "start_time": "2022-08-06T16:42:23.092Z"
   },
   {
    "duration": 7,
    "start_time": "2022-08-06T16:42:23.310Z"
   },
   {
    "duration": 30,
    "start_time": "2022-08-06T16:42:23.318Z"
   },
   {
    "duration": 135,
    "start_time": "2022-08-06T16:42:23.350Z"
   },
   {
    "duration": 63,
    "start_time": "2022-08-06T16:42:23.487Z"
   },
   {
    "duration": 51,
    "start_time": "2022-08-06T16:42:23.552Z"
   },
   {
    "duration": 42,
    "start_time": "2022-08-06T16:42:23.605Z"
   },
   {
    "duration": 8,
    "start_time": "2022-08-06T16:42:23.650Z"
   },
   {
    "duration": 10,
    "start_time": "2022-08-06T16:42:23.659Z"
   },
   {
    "duration": 36,
    "start_time": "2022-08-06T16:42:23.671Z"
   },
   {
    "duration": 61,
    "start_time": "2022-08-06T16:42:23.710Z"
   },
   {
    "duration": 66,
    "start_time": "2022-08-06T16:42:23.773Z"
   },
   {
    "duration": 30,
    "start_time": "2022-08-06T16:42:23.841Z"
   },
   {
    "duration": 4,
    "start_time": "2022-08-06T16:42:23.873Z"
   },
   {
    "duration": 70,
    "start_time": "2022-08-06T16:42:23.879Z"
   },
   {
    "duration": 693,
    "start_time": "2022-08-06T16:42:23.951Z"
   },
   {
    "duration": 1296,
    "start_time": "2022-08-06T16:42:24.646Z"
   },
   {
    "duration": 14,
    "start_time": "2022-08-06T16:42:25.944Z"
   },
   {
    "duration": 7,
    "start_time": "2022-08-06T16:42:25.960Z"
   },
   {
    "duration": 75,
    "start_time": "2022-08-06T16:42:25.969Z"
   },
   {
    "duration": 8,
    "start_time": "2022-08-06T16:42:26.046Z"
   },
   {
    "duration": 47,
    "start_time": "2022-08-06T16:42:26.056Z"
   },
   {
    "duration": 55,
    "start_time": "2022-08-06T16:47:26.866Z"
   },
   {
    "duration": 62,
    "start_time": "2022-08-06T16:47:47.020Z"
   },
   {
    "duration": 1539,
    "start_time": "2022-08-06T16:53:35.626Z"
   },
   {
    "duration": 212,
    "start_time": "2022-08-06T16:53:38.475Z"
   },
   {
    "duration": 1493,
    "start_time": "2022-08-06T17:02:19.468Z"
   },
   {
    "duration": 198,
    "start_time": "2022-08-06T17:02:20.964Z"
   },
   {
    "duration": 16,
    "start_time": "2022-08-06T17:02:21.166Z"
   },
   {
    "duration": 133,
    "start_time": "2022-08-06T17:02:21.184Z"
   },
   {
    "duration": 53,
    "start_time": "2022-08-06T17:02:21.318Z"
   },
   {
    "duration": 0,
    "start_time": "2022-08-06T17:02:21.373Z"
   },
   {
    "duration": 0,
    "start_time": "2022-08-06T17:02:21.374Z"
   },
   {
    "duration": 0,
    "start_time": "2022-08-06T17:02:21.375Z"
   },
   {
    "duration": 0,
    "start_time": "2022-08-06T17:02:21.376Z"
   },
   {
    "duration": 0,
    "start_time": "2022-08-06T17:02:21.377Z"
   },
   {
    "duration": 0,
    "start_time": "2022-08-06T17:02:21.379Z"
   },
   {
    "duration": 0,
    "start_time": "2022-08-06T17:02:21.380Z"
   },
   {
    "duration": 0,
    "start_time": "2022-08-06T17:02:21.381Z"
   },
   {
    "duration": 0,
    "start_time": "2022-08-06T17:02:21.382Z"
   },
   {
    "duration": 0,
    "start_time": "2022-08-06T17:02:21.383Z"
   },
   {
    "duration": 0,
    "start_time": "2022-08-06T17:02:21.384Z"
   },
   {
    "duration": 0,
    "start_time": "2022-08-06T17:02:21.386Z"
   },
   {
    "duration": 0,
    "start_time": "2022-08-06T17:02:21.387Z"
   },
   {
    "duration": 0,
    "start_time": "2022-08-06T17:02:21.389Z"
   },
   {
    "duration": 0,
    "start_time": "2022-08-06T17:02:21.389Z"
   },
   {
    "duration": 0,
    "start_time": "2022-08-06T17:02:21.390Z"
   },
   {
    "duration": 0,
    "start_time": "2022-08-06T17:02:21.391Z"
   },
   {
    "duration": 0,
    "start_time": "2022-08-06T17:02:21.392Z"
   },
   {
    "duration": 0,
    "start_time": "2022-08-06T17:02:21.393Z"
   },
   {
    "duration": 0,
    "start_time": "2022-08-06T17:02:21.393Z"
   },
   {
    "duration": 0,
    "start_time": "2022-08-06T17:02:21.394Z"
   },
   {
    "duration": 0,
    "start_time": "2022-08-06T17:02:21.395Z"
   },
   {
    "duration": 0,
    "start_time": "2022-08-06T17:02:21.396Z"
   },
   {
    "duration": 0,
    "start_time": "2022-08-06T17:02:21.397Z"
   },
   {
    "duration": 0,
    "start_time": "2022-08-06T17:02:21.398Z"
   },
   {
    "duration": 0,
    "start_time": "2022-08-06T17:02:21.399Z"
   },
   {
    "duration": 0,
    "start_time": "2022-08-06T17:02:21.400Z"
   },
   {
    "duration": 0,
    "start_time": "2022-08-06T17:02:21.401Z"
   },
   {
    "duration": 152,
    "start_time": "2022-08-06T17:02:52.998Z"
   },
   {
    "duration": 54,
    "start_time": "2022-08-06T17:02:56.554Z"
   },
   {
    "duration": 47,
    "start_time": "2022-08-06T17:03:01.999Z"
   },
   {
    "duration": 66,
    "start_time": "2022-08-06T17:03:04.439Z"
   },
   {
    "duration": 33,
    "start_time": "2022-08-06T17:03:09.226Z"
   },
   {
    "duration": 52,
    "start_time": "2022-08-06T17:03:11.467Z"
   },
   {
    "duration": 8,
    "start_time": "2022-08-06T17:04:39.077Z"
   },
   {
    "duration": 35,
    "start_time": "2022-08-06T17:04:44.688Z"
   },
   {
    "duration": 34,
    "start_time": "2022-08-06T17:04:47.807Z"
   },
   {
    "duration": 48,
    "start_time": "2022-08-06T17:04:51.055Z"
   },
   {
    "duration": 29,
    "start_time": "2022-08-06T17:04:55.662Z"
   },
   {
    "duration": 108,
    "start_time": "2022-08-06T17:04:56.770Z"
   },
   {
    "duration": 91,
    "start_time": "2022-08-06T17:05:03.177Z"
   },
   {
    "duration": 56,
    "start_time": "2022-08-06T17:05:08.320Z"
   },
   {
    "duration": 699,
    "start_time": "2022-08-06T17:05:12.439Z"
   },
   {
    "duration": 1306,
    "start_time": "2022-08-06T17:05:23.010Z"
   },
   {
    "duration": 14,
    "start_time": "2022-08-06T17:05:26.044Z"
   },
   {
    "duration": 7,
    "start_time": "2022-08-06T17:05:28.164Z"
   },
   {
    "duration": 21,
    "start_time": "2022-08-06T17:05:48.653Z"
   },
   {
    "duration": 8,
    "start_time": "2022-08-06T17:05:52.598Z"
   },
   {
    "duration": 1495,
    "start_time": "2022-08-06T17:06:02.372Z"
   },
   {
    "duration": 198,
    "start_time": "2022-08-06T17:06:03.869Z"
   },
   {
    "duration": 17,
    "start_time": "2022-08-06T17:06:04.069Z"
   },
   {
    "duration": 126,
    "start_time": "2022-08-06T17:06:04.089Z"
   },
   {
    "duration": 61,
    "start_time": "2022-08-06T17:06:04.217Z"
   },
   {
    "duration": 62,
    "start_time": "2022-08-06T17:06:04.280Z"
   },
   {
    "duration": 33,
    "start_time": "2022-08-06T17:06:04.344Z"
   },
   {
    "duration": 7,
    "start_time": "2022-08-06T17:06:04.379Z"
   },
   {
    "duration": 59,
    "start_time": "2022-08-06T17:06:04.388Z"
   },
   {
    "duration": 32,
    "start_time": "2022-08-06T17:06:04.450Z"
   },
   {
    "duration": 69,
    "start_time": "2022-08-06T17:06:04.484Z"
   },
   {
    "duration": 27,
    "start_time": "2022-08-06T17:06:04.555Z"
   },
   {
    "duration": 748,
    "start_time": "2022-08-06T17:06:04.584Z"
   },
   {
    "duration": 1334,
    "start_time": "2022-08-06T17:06:05.334Z"
   },
   {
    "duration": 13,
    "start_time": "2022-08-06T17:06:06.670Z"
   },
   {
    "duration": 6,
    "start_time": "2022-08-06T17:06:06.685Z"
   },
   {
    "duration": 58,
    "start_time": "2022-08-06T17:06:06.693Z"
   },
   {
    "duration": 7,
    "start_time": "2022-08-06T17:06:06.753Z"
   },
   {
    "duration": 80,
    "start_time": "2022-08-06T17:06:06.761Z"
   },
   {
    "duration": 43,
    "start_time": "2022-08-06T17:09:14.371Z"
   },
   {
    "duration": 44,
    "start_time": "2022-08-06T17:13:06.689Z"
   },
   {
    "duration": 43,
    "start_time": "2022-08-06T17:13:09.640Z"
   },
   {
    "duration": 60,
    "start_time": "2022-08-06T17:14:32.433Z"
   },
   {
    "duration": 44,
    "start_time": "2022-08-06T17:14:52.738Z"
   },
   {
    "duration": 48,
    "start_time": "2022-08-06T17:17:10.783Z"
   },
   {
    "duration": 613,
    "start_time": "2022-08-06T17:19:01.808Z"
   },
   {
    "duration": 653,
    "start_time": "2022-08-06T17:20:37.370Z"
   },
   {
    "duration": 576,
    "start_time": "2022-08-06T17:20:43.647Z"
   },
   {
    "duration": 27,
    "start_time": "2022-08-06T17:20:50.093Z"
   },
   {
    "duration": 184,
    "start_time": "2022-08-06T17:20:50.122Z"
   },
   {
    "duration": 10,
    "start_time": "2022-08-06T17:20:50.308Z"
   },
   {
    "duration": 129,
    "start_time": "2022-08-06T17:20:50.320Z"
   },
   {
    "duration": 50,
    "start_time": "2022-08-06T17:20:50.450Z"
   },
   {
    "duration": 62,
    "start_time": "2022-08-06T17:20:50.502Z"
   },
   {
    "duration": 28,
    "start_time": "2022-08-06T17:20:50.566Z"
   },
   {
    "duration": 6,
    "start_time": "2022-08-06T17:20:50.596Z"
   },
   {
    "duration": 50,
    "start_time": "2022-08-06T17:20:50.603Z"
   },
   {
    "duration": 33,
    "start_time": "2022-08-06T17:20:50.656Z"
   },
   {
    "duration": 57,
    "start_time": "2022-08-06T17:20:50.691Z"
   },
   {
    "duration": 27,
    "start_time": "2022-08-06T17:20:50.750Z"
   },
   {
    "duration": 786,
    "start_time": "2022-08-06T17:20:58.819Z"
   },
   {
    "duration": 438,
    "start_time": "2022-08-06T17:22:32.859Z"
   },
   {
    "duration": 473,
    "start_time": "2022-08-06T17:22:51.688Z"
   },
   {
    "duration": 506,
    "start_time": "2022-08-06T17:23:53.681Z"
   },
   {
    "duration": 545,
    "start_time": "2022-08-06T17:24:00.726Z"
   },
   {
    "duration": 555,
    "start_time": "2022-08-06T17:24:35.542Z"
   },
   {
    "duration": 533,
    "start_time": "2022-08-06T17:25:02.823Z"
   },
   {
    "duration": 601,
    "start_time": "2022-08-06T17:26:11.221Z"
   },
   {
    "duration": 381,
    "start_time": "2022-08-06T17:26:52.040Z"
   },
   {
    "duration": 533,
    "start_time": "2022-08-06T17:27:06.429Z"
   },
   {
    "duration": 426,
    "start_time": "2022-08-06T17:27:26.154Z"
   },
   {
    "duration": 544,
    "start_time": "2022-08-06T17:27:35.083Z"
   },
   {
    "duration": 466,
    "start_time": "2022-08-06T17:28:08.959Z"
   },
   {
    "duration": 491,
    "start_time": "2022-08-06T17:28:19.069Z"
   },
   {
    "duration": 443,
    "start_time": "2022-08-06T17:28:49.987Z"
   },
   {
    "duration": 970,
    "start_time": "2022-08-06T17:31:00.560Z"
   },
   {
    "duration": 968,
    "start_time": "2022-08-06T17:31:13.900Z"
   },
   {
    "duration": 956,
    "start_time": "2022-08-06T17:32:33.776Z"
   },
   {
    "duration": 441,
    "start_time": "2022-08-06T17:36:38.057Z"
   },
   {
    "duration": 446,
    "start_time": "2022-08-06T17:36:55.494Z"
   },
   {
    "duration": 455,
    "start_time": "2022-08-06T17:37:20.957Z"
   },
   {
    "duration": 46,
    "start_time": "2022-08-06T17:37:46.483Z"
   },
   {
    "duration": 690,
    "start_time": "2022-08-06T17:38:27.228Z"
   },
   {
    "duration": 492,
    "start_time": "2022-08-06T17:39:04.554Z"
   },
   {
    "duration": 505,
    "start_time": "2022-08-06T17:39:14.336Z"
   },
   {
    "duration": 436,
    "start_time": "2022-08-06T17:39:36.154Z"
   },
   {
    "duration": 82,
    "start_time": "2022-08-06T17:40:32.488Z"
   },
   {
    "duration": 28,
    "start_time": "2022-08-06T17:40:41.758Z"
   },
   {
    "duration": 183,
    "start_time": "2022-08-06T17:40:41.788Z"
   },
   {
    "duration": 9,
    "start_time": "2022-08-06T17:40:41.973Z"
   },
   {
    "duration": 130,
    "start_time": "2022-08-06T17:40:41.984Z"
   },
   {
    "duration": 57,
    "start_time": "2022-08-06T17:40:42.116Z"
   },
   {
    "duration": 47,
    "start_time": "2022-08-06T17:40:42.175Z"
   },
   {
    "duration": 29,
    "start_time": "2022-08-06T17:40:42.238Z"
   },
   {
    "duration": 6,
    "start_time": "2022-08-06T17:40:42.269Z"
   },
   {
    "duration": 31,
    "start_time": "2022-08-06T17:40:42.277Z"
   },
   {
    "duration": 56,
    "start_time": "2022-08-06T17:40:42.311Z"
   },
   {
    "duration": 41,
    "start_time": "2022-08-06T17:40:42.369Z"
   },
   {
    "duration": 46,
    "start_time": "2022-08-06T17:40:42.412Z"
   },
   {
    "duration": 689,
    "start_time": "2022-08-06T17:40:42.460Z"
   },
   {
    "duration": 976,
    "start_time": "2022-08-06T17:40:43.151Z"
   },
   {
    "duration": 17,
    "start_time": "2022-08-06T17:40:44.128Z"
   },
   {
    "duration": 7,
    "start_time": "2022-08-06T17:40:44.146Z"
   },
   {
    "duration": 25,
    "start_time": "2022-08-06T17:40:44.154Z"
   },
   {
    "duration": 6,
    "start_time": "2022-08-06T17:40:44.181Z"
   },
   {
    "duration": 68,
    "start_time": "2022-08-06T17:40:51.358Z"
   },
   {
    "duration": 496,
    "start_time": "2022-08-06T17:41:45.771Z"
   },
   {
    "duration": 858,
    "start_time": "2022-08-06T17:43:00.320Z"
   },
   {
    "duration": 62,
    "start_time": "2022-08-06T17:43:33.985Z"
   },
   {
    "duration": 19,
    "start_time": "2022-08-06T17:43:34.376Z"
   },
   {
    "duration": 497,
    "start_time": "2022-08-06T17:43:41.162Z"
   },
   {
    "duration": 464,
    "start_time": "2022-08-06T17:44:01.594Z"
   },
   {
    "duration": 462,
    "start_time": "2022-08-06T17:44:06.613Z"
   },
   {
    "duration": 499,
    "start_time": "2022-08-06T17:44:31.965Z"
   },
   {
    "duration": 483,
    "start_time": "2022-08-06T17:44:53.985Z"
   },
   {
    "duration": 482,
    "start_time": "2022-08-06T17:45:11.895Z"
   },
   {
    "duration": 62,
    "start_time": "2022-08-06T17:47:04.206Z"
   },
   {
    "duration": 62,
    "start_time": "2022-08-06T17:47:09.267Z"
   },
   {
    "duration": 17,
    "start_time": "2022-08-06T17:47:20.437Z"
   },
   {
    "duration": 75,
    "start_time": "2022-08-06T17:48:29.641Z"
   },
   {
    "duration": 154,
    "start_time": "2022-08-06T17:48:57.109Z"
   },
   {
    "duration": 60,
    "start_time": "2022-08-06T17:49:22.348Z"
   },
   {
    "duration": 59,
    "start_time": "2022-08-06T17:51:39.765Z"
   },
   {
    "duration": 66,
    "start_time": "2022-08-06T17:51:50.305Z"
   },
   {
    "duration": 63,
    "start_time": "2022-08-06T17:53:05.001Z"
   },
   {
    "duration": 62,
    "start_time": "2022-08-06T17:53:11.763Z"
   },
   {
    "duration": 61,
    "start_time": "2022-08-06T17:53:31.738Z"
   },
   {
    "duration": 61,
    "start_time": "2022-08-06T17:53:34.980Z"
   },
   {
    "duration": 60,
    "start_time": "2022-08-06T17:53:35.379Z"
   },
   {
    "duration": 58,
    "start_time": "2022-08-06T17:57:11.154Z"
   },
   {
    "duration": 56,
    "start_time": "2022-08-06T17:57:13.000Z"
   },
   {
    "duration": 59,
    "start_time": "2022-08-06T17:57:13.228Z"
   },
   {
    "duration": 99,
    "start_time": "2022-08-06T17:58:00.312Z"
   },
   {
    "duration": 93,
    "start_time": "2022-08-06T17:58:08.896Z"
   },
   {
    "duration": 60,
    "start_time": "2022-08-06T17:58:34.559Z"
   },
   {
    "duration": 93,
    "start_time": "2022-08-06T17:58:36.124Z"
   },
   {
    "duration": 19,
    "start_time": "2022-08-06T17:58:36.388Z"
   },
   {
    "duration": 71,
    "start_time": "2022-08-06T17:58:47.591Z"
   },
   {
    "duration": 56,
    "start_time": "2022-08-06T17:59:07.777Z"
   },
   {
    "duration": 61,
    "start_time": "2022-08-06T17:59:08.207Z"
   },
   {
    "duration": 6,
    "start_time": "2022-08-06T17:59:53.386Z"
   },
   {
    "duration": 112,
    "start_time": "2022-08-06T17:59:59.999Z"
   },
   {
    "duration": 66,
    "start_time": "2022-08-06T18:04:02.368Z"
   },
   {
    "duration": 61,
    "start_time": "2022-08-06T18:05:13.295Z"
   },
   {
    "duration": 1638,
    "start_time": "2022-08-06T19:14:07.352Z"
   },
   {
    "duration": 246,
    "start_time": "2022-08-06T19:14:08.993Z"
   },
   {
    "duration": 15,
    "start_time": "2022-08-06T19:14:09.240Z"
   },
   {
    "duration": 143,
    "start_time": "2022-08-06T19:14:09.257Z"
   },
   {
    "duration": 57,
    "start_time": "2022-08-06T19:14:09.402Z"
   },
   {
    "duration": 51,
    "start_time": "2022-08-06T19:14:09.460Z"
   },
   {
    "duration": 45,
    "start_time": "2022-08-06T19:14:09.513Z"
   },
   {
    "duration": 6,
    "start_time": "2022-08-06T19:14:09.560Z"
   },
   {
    "duration": 38,
    "start_time": "2022-08-06T19:14:09.568Z"
   },
   {
    "duration": 55,
    "start_time": "2022-08-06T19:14:09.609Z"
   },
   {
    "duration": 54,
    "start_time": "2022-08-06T19:14:09.667Z"
   },
   {
    "duration": 42,
    "start_time": "2022-08-06T19:14:09.723Z"
   },
   {
    "duration": 755,
    "start_time": "2022-08-06T19:14:09.767Z"
   },
   {
    "duration": 1422,
    "start_time": "2022-08-06T19:14:10.524Z"
   },
   {
    "duration": 17,
    "start_time": "2022-08-06T19:14:11.948Z"
   },
   {
    "duration": 9,
    "start_time": "2022-08-06T19:14:11.968Z"
   },
   {
    "duration": 67,
    "start_time": "2022-08-06T19:14:11.979Z"
   },
   {
    "duration": 9,
    "start_time": "2022-08-06T19:14:12.048Z"
   },
   {
    "duration": 134,
    "start_time": "2022-08-06T19:14:12.059Z"
   },
   {
    "duration": 79,
    "start_time": "2022-08-06T19:14:12.194Z"
   },
   {
    "duration": 57,
    "start_time": "2022-08-06T19:14:44.310Z"
   },
   {
    "duration": 18,
    "start_time": "2022-08-06T19:14:55.311Z"
   },
   {
    "duration": 176,
    "start_time": "2022-08-06T19:19:03.352Z"
   },
   {
    "duration": 12,
    "start_time": "2022-08-06T19:19:11.966Z"
   },
   {
    "duration": 8,
    "start_time": "2022-08-06T19:19:39.050Z"
   },
   {
    "duration": 12,
    "start_time": "2022-08-06T19:19:56.231Z"
   },
   {
    "duration": 12,
    "start_time": "2022-08-06T19:20:37.601Z"
   },
   {
    "duration": 10,
    "start_time": "2022-08-06T19:21:26.853Z"
   },
   {
    "duration": 11,
    "start_time": "2022-08-06T19:21:33.036Z"
   },
   {
    "duration": 7,
    "start_time": "2022-08-06T19:23:06.455Z"
   },
   {
    "duration": 20,
    "start_time": "2022-08-06T19:23:09.258Z"
   },
   {
    "duration": 56,
    "start_time": "2022-08-06T19:23:35.578Z"
   },
   {
    "duration": 186,
    "start_time": "2022-08-06T19:23:35.636Z"
   },
   {
    "duration": 21,
    "start_time": "2022-08-06T19:23:35.823Z"
   },
   {
    "duration": 135,
    "start_time": "2022-08-06T19:23:35.846Z"
   },
   {
    "duration": 59,
    "start_time": "2022-08-06T19:23:35.982Z"
   },
   {
    "duration": 62,
    "start_time": "2022-08-06T19:23:36.044Z"
   },
   {
    "duration": 51,
    "start_time": "2022-08-06T19:23:36.109Z"
   },
   {
    "duration": 9,
    "start_time": "2022-08-06T19:23:36.163Z"
   },
   {
    "duration": 50,
    "start_time": "2022-08-06T19:23:36.174Z"
   },
   {
    "duration": 43,
    "start_time": "2022-08-06T19:23:36.226Z"
   },
   {
    "duration": 51,
    "start_time": "2022-08-06T19:23:36.271Z"
   },
   {
    "duration": 33,
    "start_time": "2022-08-06T19:23:36.338Z"
   },
   {
    "duration": 893,
    "start_time": "2022-08-06T19:23:36.374Z"
   },
   {
    "duration": 926,
    "start_time": "2022-08-06T19:23:37.269Z"
   },
   {
    "duration": 14,
    "start_time": "2022-08-06T19:23:38.197Z"
   },
   {
    "duration": 17,
    "start_time": "2022-08-06T19:23:38.238Z"
   },
   {
    "duration": 36,
    "start_time": "2022-08-06T19:23:38.257Z"
   },
   {
    "duration": 7,
    "start_time": "2022-08-06T19:23:38.295Z"
   },
   {
    "duration": 70,
    "start_time": "2022-08-06T19:23:38.339Z"
   },
   {
    "duration": 77,
    "start_time": "2022-08-06T19:23:38.411Z"
   },
   {
    "duration": 2,
    "start_time": "2022-08-06T19:23:38.490Z"
   },
   {
    "duration": 47,
    "start_time": "2022-08-06T19:23:38.494Z"
   },
   {
    "duration": 23,
    "start_time": "2022-08-06T19:23:43.056Z"
   },
   {
    "duration": 15,
    "start_time": "2022-08-06T19:23:43.571Z"
   },
   {
    "duration": 15,
    "start_time": "2022-08-06T19:24:06.052Z"
   },
   {
    "duration": 9,
    "start_time": "2022-08-06T19:24:23.164Z"
   },
   {
    "duration": 16,
    "start_time": "2022-08-06T19:24:23.568Z"
   },
   {
    "duration": 29,
    "start_time": "2022-08-06T19:24:29.163Z"
   },
   {
    "duration": 212,
    "start_time": "2022-08-06T19:24:29.194Z"
   },
   {
    "duration": 9,
    "start_time": "2022-08-06T19:24:29.408Z"
   },
   {
    "duration": 145,
    "start_time": "2022-08-06T19:24:29.421Z"
   },
   {
    "duration": 92,
    "start_time": "2022-08-06T19:24:29.569Z"
   },
   {
    "duration": 98,
    "start_time": "2022-08-06T19:24:29.663Z"
   },
   {
    "duration": 45,
    "start_time": "2022-08-06T19:24:29.763Z"
   },
   {
    "duration": 6,
    "start_time": "2022-08-06T19:24:29.809Z"
   },
   {
    "duration": 36,
    "start_time": "2022-08-06T19:24:29.839Z"
   },
   {
    "duration": 32,
    "start_time": "2022-08-06T19:24:29.877Z"
   },
   {
    "duration": 53,
    "start_time": "2022-08-06T19:24:29.911Z"
   },
   {
    "duration": 30,
    "start_time": "2022-08-06T19:24:29.966Z"
   },
   {
    "duration": 942,
    "start_time": "2022-08-06T19:24:29.997Z"
   },
   {
    "duration": 890,
    "start_time": "2022-08-06T19:24:30.941Z"
   },
   {
    "duration": 15,
    "start_time": "2022-08-06T19:24:31.838Z"
   },
   {
    "duration": 10,
    "start_time": "2022-08-06T19:24:31.855Z"
   },
   {
    "duration": 81,
    "start_time": "2022-08-06T19:24:31.868Z"
   },
   {
    "duration": 10,
    "start_time": "2022-08-06T19:24:31.951Z"
   },
   {
    "duration": 116,
    "start_time": "2022-08-06T19:24:31.963Z"
   },
   {
    "duration": 91,
    "start_time": "2022-08-06T19:24:32.081Z"
   },
   {
    "duration": 11,
    "start_time": "2022-08-06T19:24:32.174Z"
   },
   {
    "duration": 28,
    "start_time": "2022-08-06T19:24:32.187Z"
   },
   {
    "duration": 9,
    "start_time": "2022-08-06T19:24:43.989Z"
   },
   {
    "duration": 8,
    "start_time": "2022-08-06T19:25:01.212Z"
   },
   {
    "duration": 5,
    "start_time": "2022-08-06T19:25:21.139Z"
   },
   {
    "duration": 11,
    "start_time": "2022-08-06T19:25:29.457Z"
   },
   {
    "duration": 11,
    "start_time": "2022-08-06T19:25:39.474Z"
   },
   {
    "duration": 3,
    "start_time": "2022-08-06T19:25:53.052Z"
   },
   {
    "duration": 3,
    "start_time": "2022-08-06T19:26:01.639Z"
   },
   {
    "duration": 11,
    "start_time": "2022-08-06T19:26:09.058Z"
   },
   {
    "duration": 5,
    "start_time": "2022-08-06T19:26:39.110Z"
   },
   {
    "duration": 9,
    "start_time": "2022-08-06T19:26:41.918Z"
   },
   {
    "duration": 28,
    "start_time": "2022-08-06T19:26:55.634Z"
   },
   {
    "duration": 180,
    "start_time": "2022-08-06T19:26:55.665Z"
   },
   {
    "duration": 9,
    "start_time": "2022-08-06T19:26:55.847Z"
   },
   {
    "duration": 127,
    "start_time": "2022-08-06T19:26:55.858Z"
   },
   {
    "duration": 63,
    "start_time": "2022-08-06T19:26:55.987Z"
   },
   {
    "duration": 54,
    "start_time": "2022-08-06T19:26:56.051Z"
   },
   {
    "duration": 46,
    "start_time": "2022-08-06T19:26:56.108Z"
   },
   {
    "duration": 9,
    "start_time": "2022-08-06T19:26:56.156Z"
   },
   {
    "duration": 34,
    "start_time": "2022-08-06T19:26:56.166Z"
   },
   {
    "duration": 57,
    "start_time": "2022-08-06T19:26:56.203Z"
   },
   {
    "duration": 42,
    "start_time": "2022-08-06T19:26:56.262Z"
   },
   {
    "duration": 45,
    "start_time": "2022-08-06T19:26:56.306Z"
   },
   {
    "duration": 684,
    "start_time": "2022-08-06T19:26:56.353Z"
   },
   {
    "duration": 961,
    "start_time": "2022-08-06T19:26:57.039Z"
   },
   {
    "duration": 11,
    "start_time": "2022-08-06T19:26:58.002Z"
   },
   {
    "duration": 28,
    "start_time": "2022-08-06T19:26:58.015Z"
   },
   {
    "duration": 21,
    "start_time": "2022-08-06T19:26:58.045Z"
   },
   {
    "duration": 7,
    "start_time": "2022-08-06T19:26:58.068Z"
   },
   {
    "duration": 121,
    "start_time": "2022-08-06T19:26:58.077Z"
   },
   {
    "duration": 78,
    "start_time": "2022-08-06T19:26:58.199Z"
   },
   {
    "duration": 3,
    "start_time": "2022-08-06T19:26:58.278Z"
   },
   {
    "duration": 8,
    "start_time": "2022-08-06T19:26:58.282Z"
   },
   {
    "duration": 17,
    "start_time": "2022-08-06T19:27:02.584Z"
   },
   {
    "duration": 27,
    "start_time": "2022-08-06T19:27:23.620Z"
   },
   {
    "duration": 200,
    "start_time": "2022-08-06T19:27:23.650Z"
   },
   {
    "duration": 9,
    "start_time": "2022-08-06T19:27:23.852Z"
   },
   {
    "duration": 145,
    "start_time": "2022-08-06T19:27:23.864Z"
   },
   {
    "duration": 70,
    "start_time": "2022-08-06T19:27:24.011Z"
   },
   {
    "duration": 58,
    "start_time": "2022-08-06T19:27:24.082Z"
   },
   {
    "duration": 46,
    "start_time": "2022-08-06T19:27:24.143Z"
   },
   {
    "duration": 10,
    "start_time": "2022-08-06T19:27:24.192Z"
   },
   {
    "duration": 69,
    "start_time": "2022-08-06T19:27:24.204Z"
   },
   {
    "duration": 39,
    "start_time": "2022-08-06T19:27:24.282Z"
   },
   {
    "duration": 76,
    "start_time": "2022-08-06T19:27:24.322Z"
   },
   {
    "duration": 44,
    "start_time": "2022-08-06T19:27:24.401Z"
   },
   {
    "duration": 723,
    "start_time": "2022-08-06T19:27:24.447Z"
   },
   {
    "duration": 1089,
    "start_time": "2022-08-06T19:27:25.172Z"
   },
   {
    "duration": 12,
    "start_time": "2022-08-06T19:27:26.263Z"
   },
   {
    "duration": 13,
    "start_time": "2022-08-06T19:27:26.277Z"
   },
   {
    "duration": 65,
    "start_time": "2022-08-06T19:27:26.292Z"
   },
   {
    "duration": 9,
    "start_time": "2022-08-06T19:27:26.359Z"
   },
   {
    "duration": 132,
    "start_time": "2022-08-06T19:27:26.370Z"
   },
   {
    "duration": 92,
    "start_time": "2022-08-06T19:27:26.504Z"
   },
   {
    "duration": 3,
    "start_time": "2022-08-06T19:27:26.598Z"
   },
   {
    "duration": 13,
    "start_time": "2022-08-06T19:27:26.603Z"
   },
   {
    "duration": 10,
    "start_time": "2022-08-06T19:27:37.083Z"
   },
   {
    "duration": 10,
    "start_time": "2022-08-06T19:27:49.156Z"
   },
   {
    "duration": 13,
    "start_time": "2022-08-06T19:27:49.459Z"
   },
   {
    "duration": 10,
    "start_time": "2022-08-06T19:28:44.545Z"
   },
   {
    "duration": 9,
    "start_time": "2022-08-06T19:29:45.853Z"
   },
   {
    "duration": 10,
    "start_time": "2022-08-06T19:29:48.385Z"
   },
   {
    "duration": 63,
    "start_time": "2022-08-06T19:29:55.175Z"
   },
   {
    "duration": 177,
    "start_time": "2022-08-06T19:29:55.241Z"
   },
   {
    "duration": 9,
    "start_time": "2022-08-06T19:29:55.420Z"
   },
   {
    "duration": 125,
    "start_time": "2022-08-06T19:29:55.439Z"
   },
   {
    "duration": 51,
    "start_time": "2022-08-06T19:29:55.566Z"
   },
   {
    "duration": 62,
    "start_time": "2022-08-06T19:29:55.619Z"
   },
   {
    "duration": 35,
    "start_time": "2022-08-06T19:29:55.683Z"
   },
   {
    "duration": 22,
    "start_time": "2022-08-06T19:29:55.720Z"
   },
   {
    "duration": 33,
    "start_time": "2022-08-06T19:29:55.744Z"
   },
   {
    "duration": 30,
    "start_time": "2022-08-06T19:29:55.779Z"
   },
   {
    "duration": 62,
    "start_time": "2022-08-06T19:29:55.811Z"
   },
   {
    "duration": 28,
    "start_time": "2022-08-06T19:29:55.875Z"
   },
   {
    "duration": 737,
    "start_time": "2022-08-06T19:29:55.904Z"
   },
   {
    "duration": 969,
    "start_time": "2022-08-06T19:29:56.643Z"
   },
   {
    "duration": 26,
    "start_time": "2022-08-06T19:29:57.613Z"
   },
   {
    "duration": 6,
    "start_time": "2022-08-06T19:29:57.641Z"
   },
   {
    "duration": 31,
    "start_time": "2022-08-06T19:29:57.650Z"
   },
   {
    "duration": 63,
    "start_time": "2022-08-06T19:29:57.684Z"
   },
   {
    "duration": 92,
    "start_time": "2022-08-06T19:29:57.749Z"
   },
   {
    "duration": 63,
    "start_time": "2022-08-06T19:29:57.843Z"
   },
   {
    "duration": 3,
    "start_time": "2022-08-06T19:29:57.907Z"
   },
   {
    "duration": 32,
    "start_time": "2022-08-06T19:29:57.913Z"
   },
   {
    "duration": 20,
    "start_time": "2022-08-06T19:30:00.162Z"
   },
   {
    "duration": 10,
    "start_time": "2022-08-06T19:30:00.392Z"
   },
   {
    "duration": 5,
    "start_time": "2022-08-06T19:30:13.121Z"
   },
   {
    "duration": 10,
    "start_time": "2022-08-06T19:30:14.105Z"
   },
   {
    "duration": 10,
    "start_time": "2022-08-06T19:31:04.940Z"
   },
   {
    "duration": 6,
    "start_time": "2022-08-06T19:31:17.303Z"
   },
   {
    "duration": 10,
    "start_time": "2022-08-06T19:31:17.653Z"
   },
   {
    "duration": 3,
    "start_time": "2022-08-06T19:31:40.030Z"
   },
   {
    "duration": 9,
    "start_time": "2022-08-06T19:31:44.720Z"
   },
   {
    "duration": 44,
    "start_time": "2022-08-06T19:32:25.717Z"
   },
   {
    "duration": 11,
    "start_time": "2022-08-06T19:32:26.103Z"
   },
   {
    "duration": 45,
    "start_time": "2022-08-06T19:34:05.114Z"
   },
   {
    "duration": 55,
    "start_time": "2022-08-06T19:34:09.998Z"
   },
   {
    "duration": 4,
    "start_time": "2022-08-06T19:34:15.550Z"
   },
   {
    "duration": 8,
    "start_time": "2022-08-06T19:34:16.825Z"
   },
   {
    "duration": 4,
    "start_time": "2022-08-06T19:34:23.058Z"
   },
   {
    "duration": 4,
    "start_time": "2022-08-06T19:34:24.187Z"
   },
   {
    "duration": 8,
    "start_time": "2022-08-06T19:34:25.930Z"
   },
   {
    "duration": 27,
    "start_time": "2022-08-06T19:35:27.740Z"
   },
   {
    "duration": 181,
    "start_time": "2022-08-06T19:35:27.769Z"
   },
   {
    "duration": 9,
    "start_time": "2022-08-06T19:35:27.952Z"
   },
   {
    "duration": 132,
    "start_time": "2022-08-06T19:35:27.963Z"
   },
   {
    "duration": 63,
    "start_time": "2022-08-06T19:35:28.097Z"
   },
   {
    "duration": 48,
    "start_time": "2022-08-06T19:35:28.162Z"
   },
   {
    "duration": 44,
    "start_time": "2022-08-06T19:35:28.212Z"
   },
   {
    "duration": 7,
    "start_time": "2022-08-06T19:35:28.259Z"
   },
   {
    "duration": 32,
    "start_time": "2022-08-06T19:35:28.268Z"
   },
   {
    "duration": 61,
    "start_time": "2022-08-06T19:35:28.302Z"
   },
   {
    "duration": 49,
    "start_time": "2022-08-06T19:35:28.365Z"
   },
   {
    "duration": 44,
    "start_time": "2022-08-06T19:35:28.416Z"
   },
   {
    "duration": 779,
    "start_time": "2022-08-06T19:35:28.462Z"
   },
   {
    "duration": 973,
    "start_time": "2022-08-06T19:35:29.243Z"
   },
   {
    "duration": 22,
    "start_time": "2022-08-06T19:35:30.218Z"
   },
   {
    "duration": 7,
    "start_time": "2022-08-06T19:35:30.242Z"
   },
   {
    "duration": 24,
    "start_time": "2022-08-06T19:35:30.251Z"
   },
   {
    "duration": 63,
    "start_time": "2022-08-06T19:35:30.277Z"
   },
   {
    "duration": 80,
    "start_time": "2022-08-06T19:35:30.342Z"
   },
   {
    "duration": 73,
    "start_time": "2022-08-06T19:35:30.424Z"
   },
   {
    "duration": 3,
    "start_time": "2022-08-06T19:35:30.499Z"
   },
   {
    "duration": 2,
    "start_time": "2022-08-06T19:35:45.316Z"
   },
   {
    "duration": 3,
    "start_time": "2022-08-06T19:35:45.755Z"
   },
   {
    "duration": 15,
    "start_time": "2022-08-06T19:35:46.173Z"
   },
   {
    "duration": 7,
    "start_time": "2022-08-06T19:36:46.931Z"
   },
   {
    "duration": 18,
    "start_time": "2022-08-06T19:36:53.429Z"
   },
   {
    "duration": 17,
    "start_time": "2022-08-06T19:37:04.424Z"
   },
   {
    "duration": 80,
    "start_time": "2022-08-06T19:37:15.719Z"
   },
   {
    "duration": 179,
    "start_time": "2022-08-06T19:37:15.801Z"
   },
   {
    "duration": 9,
    "start_time": "2022-08-06T19:37:15.982Z"
   },
   {
    "duration": 137,
    "start_time": "2022-08-06T19:37:15.993Z"
   },
   {
    "duration": 67,
    "start_time": "2022-08-06T19:37:16.138Z"
   },
   {
    "duration": 68,
    "start_time": "2022-08-06T19:37:16.206Z"
   },
   {
    "duration": 32,
    "start_time": "2022-08-06T19:37:16.276Z"
   },
   {
    "duration": 6,
    "start_time": "2022-08-06T19:37:16.310Z"
   },
   {
    "duration": 50,
    "start_time": "2022-08-06T19:37:16.318Z"
   },
   {
    "duration": 32,
    "start_time": "2022-08-06T19:37:16.371Z"
   },
   {
    "duration": 67,
    "start_time": "2022-08-06T19:37:16.405Z"
   },
   {
    "duration": 29,
    "start_time": "2022-08-06T19:37:16.474Z"
   },
   {
    "duration": 736,
    "start_time": "2022-08-06T19:37:16.505Z"
   },
   {
    "duration": 983,
    "start_time": "2022-08-06T19:37:17.243Z"
   },
   {
    "duration": 19,
    "start_time": "2022-08-06T19:37:18.228Z"
   },
   {
    "duration": 6,
    "start_time": "2022-08-06T19:37:18.249Z"
   },
   {
    "duration": 21,
    "start_time": "2022-08-06T19:37:18.257Z"
   },
   {
    "duration": 59,
    "start_time": "2022-08-06T19:37:18.280Z"
   },
   {
    "duration": 106,
    "start_time": "2022-08-06T19:37:18.341Z"
   },
   {
    "duration": 61,
    "start_time": "2022-08-06T19:37:18.449Z"
   },
   {
    "duration": 2,
    "start_time": "2022-08-06T19:37:18.512Z"
   },
   {
    "duration": 23,
    "start_time": "2022-08-06T19:37:18.515Z"
   },
   {
    "duration": 10,
    "start_time": "2022-08-06T19:37:18.540Z"
   },
   {
    "duration": 7,
    "start_time": "2022-08-06T19:37:21.737Z"
   },
   {
    "duration": 972,
    "start_time": "2022-08-06T19:38:14.417Z"
   },
   {
    "duration": 17,
    "start_time": "2022-08-06T19:38:33.540Z"
   },
   {
    "duration": 29,
    "start_time": "2022-08-06T19:38:44.214Z"
   },
   {
    "duration": 201,
    "start_time": "2022-08-06T19:38:44.245Z"
   },
   {
    "duration": 10,
    "start_time": "2022-08-06T19:38:44.447Z"
   },
   {
    "duration": 142,
    "start_time": "2022-08-06T19:38:44.460Z"
   },
   {
    "duration": 64,
    "start_time": "2022-08-06T19:38:44.603Z"
   },
   {
    "duration": 50,
    "start_time": "2022-08-06T19:38:44.669Z"
   },
   {
    "duration": 47,
    "start_time": "2022-08-06T19:38:44.721Z"
   },
   {
    "duration": 9,
    "start_time": "2022-08-06T19:38:44.771Z"
   },
   {
    "duration": 61,
    "start_time": "2022-08-06T19:38:44.782Z"
   },
   {
    "duration": 36,
    "start_time": "2022-08-06T19:38:44.846Z"
   },
   {
    "duration": 69,
    "start_time": "2022-08-06T19:38:44.886Z"
   },
   {
    "duration": 35,
    "start_time": "2022-08-06T19:38:44.957Z"
   },
   {
    "duration": 739,
    "start_time": "2022-08-06T19:38:44.994Z"
   },
   {
    "duration": 999,
    "start_time": "2022-08-06T19:38:45.734Z"
   },
   {
    "duration": 11,
    "start_time": "2022-08-06T19:38:46.739Z"
   },
   {
    "duration": 9,
    "start_time": "2022-08-06T19:38:46.753Z"
   },
   {
    "duration": 76,
    "start_time": "2022-08-06T19:38:46.764Z"
   },
   {
    "duration": 8,
    "start_time": "2022-08-06T19:38:46.842Z"
   },
   {
    "duration": 120,
    "start_time": "2022-08-06T19:38:46.852Z"
   },
   {
    "duration": 71,
    "start_time": "2022-08-06T19:38:46.973Z"
   },
   {
    "duration": 3,
    "start_time": "2022-08-06T19:38:47.047Z"
   },
   {
    "duration": 9,
    "start_time": "2022-08-06T19:38:47.052Z"
   },
   {
    "duration": 12,
    "start_time": "2022-08-06T19:38:47.062Z"
   },
   {
    "duration": 7,
    "start_time": "2022-08-06T19:38:55.939Z"
   },
   {
    "duration": 12,
    "start_time": "2022-08-06T19:38:57.532Z"
   },
   {
    "duration": 47,
    "start_time": "2022-08-06T19:45:30.571Z"
   },
   {
    "duration": 202,
    "start_time": "2022-08-06T19:45:30.620Z"
   },
   {
    "duration": 14,
    "start_time": "2022-08-06T19:45:30.824Z"
   },
   {
    "duration": 148,
    "start_time": "2022-08-06T19:45:30.841Z"
   },
   {
    "duration": 58,
    "start_time": "2022-08-06T19:45:30.991Z"
   },
   {
    "duration": 52,
    "start_time": "2022-08-06T19:45:31.051Z"
   },
   {
    "duration": 44,
    "start_time": "2022-08-06T19:45:31.105Z"
   },
   {
    "duration": 8,
    "start_time": "2022-08-06T19:45:31.151Z"
   },
   {
    "duration": 40,
    "start_time": "2022-08-06T19:45:31.161Z"
   },
   {
    "duration": 51,
    "start_time": "2022-08-06T19:45:31.204Z"
   },
   {
    "duration": 41,
    "start_time": "2022-08-06T19:45:31.257Z"
   },
   {
    "duration": 48,
    "start_time": "2022-08-06T19:45:31.301Z"
   },
   {
    "duration": 692,
    "start_time": "2022-08-06T19:45:31.351Z"
   },
   {
    "duration": 1006,
    "start_time": "2022-08-06T19:45:32.044Z"
   },
   {
    "duration": 10,
    "start_time": "2022-08-06T19:45:33.053Z"
   },
   {
    "duration": 30,
    "start_time": "2022-08-06T19:45:33.065Z"
   },
   {
    "duration": 65,
    "start_time": "2022-08-06T19:45:33.097Z"
   },
   {
    "duration": 10,
    "start_time": "2022-08-06T19:45:33.163Z"
   },
   {
    "duration": 94,
    "start_time": "2022-08-06T19:45:33.175Z"
   },
   {
    "duration": 68,
    "start_time": "2022-08-06T19:45:33.271Z"
   },
   {
    "duration": 2,
    "start_time": "2022-08-06T19:45:33.341Z"
   },
   {
    "duration": 17,
    "start_time": "2022-08-06T19:45:33.345Z"
   },
   {
    "duration": 13,
    "start_time": "2022-08-06T19:45:39.081Z"
   },
   {
    "duration": 12,
    "start_time": "2022-08-06T19:45:39.648Z"
   },
   {
    "duration": 8,
    "start_time": "2022-08-06T19:45:47.178Z"
   },
   {
    "duration": 13,
    "start_time": "2022-08-06T19:46:00.921Z"
   },
   {
    "duration": 10,
    "start_time": "2022-08-06T19:46:04.092Z"
   },
   {
    "duration": 6,
    "start_time": "2022-08-06T19:46:14.087Z"
   },
   {
    "duration": 11,
    "start_time": "2022-08-06T19:46:14.774Z"
   },
   {
    "duration": 13,
    "start_time": "2022-08-06T19:46:32.136Z"
   },
   {
    "duration": 14,
    "start_time": "2022-08-06T19:46:36.632Z"
   },
   {
    "duration": 12,
    "start_time": "2022-08-06T19:46:49.550Z"
   },
   {
    "duration": 61,
    "start_time": "2022-08-06T19:47:19.333Z"
   },
   {
    "duration": 15,
    "start_time": "2022-08-06T19:47:23.375Z"
   },
   {
    "duration": 16,
    "start_time": "2022-08-06T19:50:10.554Z"
   },
   {
    "duration": 28,
    "start_time": "2022-08-06T19:50:24.582Z"
   },
   {
    "duration": 175,
    "start_time": "2022-08-06T19:50:24.612Z"
   },
   {
    "duration": 9,
    "start_time": "2022-08-06T19:50:24.788Z"
   },
   {
    "duration": 127,
    "start_time": "2022-08-06T19:50:24.799Z"
   },
   {
    "duration": 56,
    "start_time": "2022-08-06T19:50:24.928Z"
   },
   {
    "duration": 57,
    "start_time": "2022-08-06T19:50:24.986Z"
   },
   {
    "duration": 29,
    "start_time": "2022-08-06T19:50:25.045Z"
   },
   {
    "duration": 6,
    "start_time": "2022-08-06T19:50:25.076Z"
   },
   {
    "duration": 30,
    "start_time": "2022-08-06T19:50:25.083Z"
   },
   {
    "duration": 51,
    "start_time": "2022-08-06T19:50:25.115Z"
   },
   {
    "duration": 47,
    "start_time": "2022-08-06T19:50:25.168Z"
   },
   {
    "duration": 42,
    "start_time": "2022-08-06T19:50:25.217Z"
   },
   {
    "duration": 777,
    "start_time": "2022-08-06T19:50:25.261Z"
   },
   {
    "duration": 976,
    "start_time": "2022-08-06T19:50:26.039Z"
   },
   {
    "duration": 25,
    "start_time": "2022-08-06T19:50:27.017Z"
   },
   {
    "duration": 6,
    "start_time": "2022-08-06T19:50:27.044Z"
   },
   {
    "duration": 23,
    "start_time": "2022-08-06T19:50:27.052Z"
   },
   {
    "duration": 7,
    "start_time": "2022-08-06T19:50:27.077Z"
   },
   {
    "duration": 125,
    "start_time": "2022-08-06T19:50:27.086Z"
   },
   {
    "duration": 63,
    "start_time": "2022-08-06T19:50:33.185Z"
   },
   {
    "duration": 515,
    "start_time": "2022-08-06T19:50:33.753Z"
   },
   {
    "duration": 583,
    "start_time": "2022-08-06T19:53:18.924Z"
   },
   {
    "duration": 522,
    "start_time": "2022-08-06T19:53:29.128Z"
   },
   {
    "duration": 1514,
    "start_time": "2022-08-06T19:53:51.057Z"
   },
   {
    "duration": 201,
    "start_time": "2022-08-06T19:53:52.574Z"
   },
   {
    "duration": 15,
    "start_time": "2022-08-06T19:53:52.776Z"
   },
   {
    "duration": 130,
    "start_time": "2022-08-06T19:53:52.793Z"
   },
   {
    "duration": 58,
    "start_time": "2022-08-06T19:53:52.925Z"
   },
   {
    "duration": 64,
    "start_time": "2022-08-06T19:53:52.985Z"
   },
   {
    "duration": 32,
    "start_time": "2022-08-06T19:53:53.051Z"
   },
   {
    "duration": 7,
    "start_time": "2022-08-06T19:53:53.085Z"
   },
   {
    "duration": 57,
    "start_time": "2022-08-06T19:53:53.094Z"
   },
   {
    "duration": 33,
    "start_time": "2022-08-06T19:53:53.153Z"
   },
   {
    "duration": 61,
    "start_time": "2022-08-06T19:53:53.188Z"
   },
   {
    "duration": 27,
    "start_time": "2022-08-06T19:53:53.251Z"
   },
   {
    "duration": 756,
    "start_time": "2022-08-06T19:53:53.280Z"
   },
   {
    "duration": 1300,
    "start_time": "2022-08-06T19:53:54.039Z"
   },
   {
    "duration": 13,
    "start_time": "2022-08-06T19:53:55.341Z"
   },
   {
    "duration": 7,
    "start_time": "2022-08-06T19:53:55.356Z"
   },
   {
    "duration": 75,
    "start_time": "2022-08-06T19:53:55.364Z"
   },
   {
    "duration": 7,
    "start_time": "2022-08-06T19:53:55.442Z"
   },
   {
    "duration": 103,
    "start_time": "2022-08-06T19:53:55.450Z"
   },
   {
    "duration": 550,
    "start_time": "2022-08-06T19:53:55.555Z"
   },
   {
    "duration": 4,
    "start_time": "2022-08-06T19:53:56.107Z"
   },
   {
    "duration": 8,
    "start_time": "2022-08-06T19:53:56.113Z"
   },
   {
    "duration": 20,
    "start_time": "2022-08-06T19:53:56.138Z"
   },
   {
    "duration": 14,
    "start_time": "2022-08-06T19:53:56.161Z"
   },
   {
    "duration": 17,
    "start_time": "2022-08-06T19:53:56.177Z"
   },
   {
    "duration": 15,
    "start_time": "2022-08-06T19:53:56.239Z"
   },
   {
    "duration": 149,
    "start_time": "2022-08-06T19:55:01.816Z"
   },
   {
    "duration": 25,
    "start_time": "2022-08-06T19:55:20.301Z"
   },
   {
    "duration": 185,
    "start_time": "2022-08-06T19:55:20.328Z"
   },
   {
    "duration": 10,
    "start_time": "2022-08-06T19:55:20.514Z"
   },
   {
    "duration": 130,
    "start_time": "2022-08-06T19:55:20.526Z"
   },
   {
    "duration": 49,
    "start_time": "2022-08-06T19:55:20.658Z"
   },
   {
    "duration": 63,
    "start_time": "2022-08-06T19:55:20.709Z"
   },
   {
    "duration": 29,
    "start_time": "2022-08-06T19:55:20.774Z"
   },
   {
    "duration": 7,
    "start_time": "2022-08-06T19:55:20.806Z"
   },
   {
    "duration": 31,
    "start_time": "2022-08-06T19:55:20.838Z"
   },
   {
    "duration": 30,
    "start_time": "2022-08-06T19:55:20.871Z"
   },
   {
    "duration": 61,
    "start_time": "2022-08-06T19:55:20.903Z"
   },
   {
    "duration": 39,
    "start_time": "2022-08-06T19:55:20.966Z"
   },
   {
    "duration": 860,
    "start_time": "2022-08-06T19:55:21.007Z"
   },
   {
    "duration": 866,
    "start_time": "2022-08-06T19:55:21.869Z"
   },
   {
    "duration": 11,
    "start_time": "2022-08-06T19:55:22.738Z"
   },
   {
    "duration": 7,
    "start_time": "2022-08-06T19:55:22.751Z"
   },
   {
    "duration": 21,
    "start_time": "2022-08-06T19:55:22.759Z"
   },
   {
    "duration": 63,
    "start_time": "2022-08-06T19:55:22.782Z"
   },
   {
    "duration": 92,
    "start_time": "2022-08-06T19:55:22.847Z"
   },
   {
    "duration": 67,
    "start_time": "2022-08-06T19:55:27.162Z"
   },
   {
    "duration": 65,
    "start_time": "2022-08-06T19:55:27.385Z"
   },
   {
    "duration": 59,
    "start_time": "2022-08-06T19:55:35.484Z"
   },
   {
    "duration": 75,
    "start_time": "2022-08-06T20:03:40.701Z"
   },
   {
    "duration": 59,
    "start_time": "2022-08-06T20:03:54.420Z"
   },
   {
    "duration": 59,
    "start_time": "2022-08-06T20:05:20.438Z"
   },
   {
    "duration": 55,
    "start_time": "2022-08-06T20:05:33.982Z"
   },
   {
    "duration": 60,
    "start_time": "2022-08-06T20:05:53.587Z"
   },
   {
    "duration": 37,
    "start_time": "2022-08-06T20:06:10.085Z"
   },
   {
    "duration": 197,
    "start_time": "2022-08-06T20:06:10.124Z"
   },
   {
    "duration": 15,
    "start_time": "2022-08-06T20:06:10.323Z"
   },
   {
    "duration": 128,
    "start_time": "2022-08-06T20:06:10.340Z"
   },
   {
    "duration": 50,
    "start_time": "2022-08-06T20:06:10.470Z"
   },
   {
    "duration": 58,
    "start_time": "2022-08-06T20:06:10.522Z"
   },
   {
    "duration": 29,
    "start_time": "2022-08-06T20:06:10.582Z"
   },
   {
    "duration": 28,
    "start_time": "2022-08-06T20:06:10.613Z"
   },
   {
    "duration": 31,
    "start_time": "2022-08-06T20:06:10.643Z"
   },
   {
    "duration": 31,
    "start_time": "2022-08-06T20:06:10.676Z"
   },
   {
    "duration": 67,
    "start_time": "2022-08-06T20:06:10.709Z"
   },
   {
    "duration": 27,
    "start_time": "2022-08-06T20:06:10.778Z"
   },
   {
    "duration": 833,
    "start_time": "2022-08-06T20:06:10.807Z"
   },
   {
    "duration": 894,
    "start_time": "2022-08-06T20:06:11.641Z"
   },
   {
    "duration": 11,
    "start_time": "2022-08-06T20:06:12.538Z"
   },
   {
    "duration": 6,
    "start_time": "2022-08-06T20:06:12.551Z"
   },
   {
    "duration": 24,
    "start_time": "2022-08-06T20:06:12.559Z"
   },
   {
    "duration": 9,
    "start_time": "2022-08-06T20:06:12.639Z"
   },
   {
    "duration": 102,
    "start_time": "2022-08-06T20:06:12.650Z"
   },
   {
    "duration": 55,
    "start_time": "2022-08-06T20:06:20.680Z"
   },
   {
    "duration": 62,
    "start_time": "2022-08-06T20:06:43.075Z"
   },
   {
    "duration": 53,
    "start_time": "2022-08-06T20:06:45.311Z"
   },
   {
    "duration": 62,
    "start_time": "2022-08-06T20:07:15.698Z"
   },
   {
    "duration": 60,
    "start_time": "2022-08-06T20:07:30.089Z"
   },
   {
    "duration": 66,
    "start_time": "2022-08-06T20:08:45.643Z"
   },
   {
    "duration": 20,
    "start_time": "2022-08-06T20:13:00.174Z"
   },
   {
    "duration": 13,
    "start_time": "2022-08-06T20:13:15.552Z"
   },
   {
    "duration": 20,
    "start_time": "2022-08-06T20:13:16.008Z"
   },
   {
    "duration": 12,
    "start_time": "2022-08-06T20:13:25.257Z"
   },
   {
    "duration": 11,
    "start_time": "2022-08-06T20:13:37.067Z"
   },
   {
    "duration": 12,
    "start_time": "2022-08-06T20:14:00.852Z"
   },
   {
    "duration": 32,
    "start_time": "2022-08-06T20:47:26.684Z"
   },
   {
    "duration": 15,
    "start_time": "2022-08-06T20:47:39.980Z"
   },
   {
    "duration": 15,
    "start_time": "2022-08-06T20:47:44.718Z"
   },
   {
    "duration": 15,
    "start_time": "2022-08-06T20:47:48.691Z"
   },
   {
    "duration": 15,
    "start_time": "2022-08-06T20:47:56.821Z"
   },
   {
    "duration": 15,
    "start_time": "2022-08-06T20:48:40.232Z"
   },
   {
    "duration": 20,
    "start_time": "2022-08-06T20:48:52.300Z"
   },
   {
    "duration": 26,
    "start_time": "2022-08-06T20:48:56.062Z"
   },
   {
    "duration": 14,
    "start_time": "2022-08-06T20:49:04.270Z"
   },
   {
    "duration": 11,
    "start_time": "2022-08-06T20:49:27.574Z"
   },
   {
    "duration": 74,
    "start_time": "2022-08-06T20:49:36.358Z"
   },
   {
    "duration": 24,
    "start_time": "2022-08-06T20:49:47.823Z"
   },
   {
    "duration": 25,
    "start_time": "2022-08-06T20:50:11.153Z"
   },
   {
    "duration": 28,
    "start_time": "2022-08-06T20:50:16.177Z"
   },
   {
    "duration": 61,
    "start_time": "2022-08-06T20:53:38.884Z"
   },
   {
    "duration": 51,
    "start_time": "2022-08-06T20:53:51.225Z"
   },
   {
    "duration": 14,
    "start_time": "2022-08-06T20:54:01.767Z"
   },
   {
    "duration": 28,
    "start_time": "2022-08-06T20:54:12.150Z"
   },
   {
    "duration": 204,
    "start_time": "2022-08-06T20:54:12.180Z"
   },
   {
    "duration": 9,
    "start_time": "2022-08-06T20:54:12.386Z"
   },
   {
    "duration": 134,
    "start_time": "2022-08-06T20:54:12.397Z"
   },
   {
    "duration": 59,
    "start_time": "2022-08-06T20:54:12.533Z"
   },
   {
    "duration": 69,
    "start_time": "2022-08-06T20:54:12.593Z"
   },
   {
    "duration": 32,
    "start_time": "2022-08-06T20:54:12.663Z"
   },
   {
    "duration": 6,
    "start_time": "2022-08-06T20:54:12.696Z"
   },
   {
    "duration": 61,
    "start_time": "2022-08-06T20:54:12.704Z"
   },
   {
    "duration": 36,
    "start_time": "2022-08-06T20:54:12.767Z"
   },
   {
    "duration": 59,
    "start_time": "2022-08-06T20:54:12.805Z"
   },
   {
    "duration": 27,
    "start_time": "2022-08-06T20:54:12.866Z"
   },
   {
    "duration": 742,
    "start_time": "2022-08-06T20:54:12.895Z"
   },
   {
    "duration": 1029,
    "start_time": "2022-08-06T20:54:13.641Z"
   },
   {
    "duration": 14,
    "start_time": "2022-08-06T20:54:14.673Z"
   },
   {
    "duration": 12,
    "start_time": "2022-08-06T20:54:14.689Z"
   },
   {
    "duration": 38,
    "start_time": "2022-08-06T20:54:14.739Z"
   },
   {
    "duration": 6,
    "start_time": "2022-08-06T20:54:14.779Z"
   },
   {
    "duration": 94,
    "start_time": "2022-08-06T20:54:14.787Z"
   },
   {
    "duration": 68,
    "start_time": "2022-08-06T20:54:14.883Z"
   },
   {
    "duration": 2,
    "start_time": "2022-08-06T20:54:14.953Z"
   },
   {
    "duration": 2,
    "start_time": "2022-08-06T20:54:18.127Z"
   },
   {
    "duration": 19,
    "start_time": "2022-08-06T20:54:18.854Z"
   },
   {
    "duration": 44,
    "start_time": "2022-08-06T20:54:25.965Z"
   },
   {
    "duration": 15,
    "start_time": "2022-08-06T20:54:49.636Z"
   },
   {
    "duration": 54,
    "start_time": "2022-08-06T20:55:11.801Z"
   },
   {
    "duration": 15,
    "start_time": "2022-08-06T20:55:21.649Z"
   },
   {
    "duration": 42,
    "start_time": "2022-08-06T20:55:31.390Z"
   },
   {
    "duration": 46,
    "start_time": "2022-08-06T20:58:12.051Z"
   },
   {
    "duration": 47,
    "start_time": "2022-08-06T20:58:26.849Z"
   },
   {
    "duration": 64,
    "start_time": "2022-08-06T21:00:16.528Z"
   },
   {
    "duration": 39,
    "start_time": "2022-08-06T21:00:42.805Z"
   },
   {
    "duration": 7,
    "start_time": "2022-08-06T21:00:51.096Z"
   },
   {
    "duration": 3,
    "start_time": "2022-08-06T21:01:07.236Z"
   },
   {
    "duration": 73,
    "start_time": "2022-08-06T21:01:43.064Z"
   },
   {
    "duration": 38,
    "start_time": "2022-08-06T21:01:57.285Z"
   },
   {
    "duration": 7,
    "start_time": "2022-08-06T21:02:00.923Z"
   },
   {
    "duration": 43,
    "start_time": "2022-08-06T21:02:26.537Z"
   },
   {
    "duration": 9,
    "start_time": "2022-08-06T21:02:28.953Z"
   },
   {
    "duration": 43,
    "start_time": "2022-08-06T21:03:10.277Z"
   },
   {
    "duration": 7,
    "start_time": "2022-08-06T21:03:12.596Z"
   },
   {
    "duration": 40,
    "start_time": "2022-08-06T21:03:19.705Z"
   },
   {
    "duration": 39,
    "start_time": "2022-08-06T21:03:35.075Z"
   },
   {
    "duration": 10,
    "start_time": "2022-08-06T21:03:47.266Z"
   },
   {
    "duration": 56,
    "start_time": "2022-08-06T21:04:48.236Z"
   },
   {
    "duration": 61,
    "start_time": "2022-08-06T21:04:50.789Z"
   },
   {
    "duration": 50,
    "start_time": "2022-08-06T21:06:07.299Z"
   },
   {
    "duration": 371,
    "start_time": "2022-08-06T21:07:23.431Z"
   },
   {
    "duration": 106,
    "start_time": "2022-08-06T21:07:43.570Z"
   },
   {
    "duration": 134,
    "start_time": "2022-08-06T21:07:50.894Z"
   },
   {
    "duration": 64,
    "start_time": "2022-08-06T21:08:01.396Z"
   },
   {
    "duration": 307,
    "start_time": "2022-08-06T21:08:20.978Z"
   },
   {
    "duration": 321,
    "start_time": "2022-08-06T21:08:51.816Z"
   },
   {
    "duration": 54,
    "start_time": "2022-08-06T21:09:05.961Z"
   },
   {
    "duration": 385,
    "start_time": "2022-08-06T21:09:13.160Z"
   },
   {
    "duration": 5,
    "start_time": "2022-08-06T21:10:50.960Z"
   },
   {
    "duration": 86,
    "start_time": "2022-08-06T21:10:59.204Z"
   },
   {
    "duration": 16,
    "start_time": "2022-08-06T21:11:17.646Z"
   },
   {
    "duration": 74,
    "start_time": "2022-08-06T21:11:39.540Z"
   },
   {
    "duration": 9,
    "start_time": "2022-08-06T21:11:44.161Z"
   },
   {
    "duration": 4,
    "start_time": "2022-08-06T21:13:04.611Z"
   },
   {
    "duration": 53,
    "start_time": "2022-08-06T21:13:27.959Z"
   },
   {
    "duration": 10,
    "start_time": "2022-08-06T21:13:37.674Z"
   },
   {
    "duration": 21,
    "start_time": "2022-08-06T21:14:16.987Z"
   },
   {
    "duration": 52,
    "start_time": "2022-08-06T21:14:28.441Z"
   },
   {
    "duration": 7,
    "start_time": "2022-08-06T21:14:31.870Z"
   },
   {
    "duration": 949,
    "start_time": "2022-08-06T21:19:44.890Z"
   },
   {
    "duration": 50,
    "start_time": "2022-08-06T21:20:04.522Z"
   },
   {
    "duration": 52,
    "start_time": "2022-08-06T21:20:05.398Z"
   },
   {
    "duration": 8,
    "start_time": "2022-08-06T21:20:05.727Z"
   },
   {
    "duration": 12,
    "start_time": "2022-08-06T21:20:14.914Z"
   },
   {
    "duration": 39,
    "start_time": "2022-08-06T21:21:52.195Z"
   },
   {
    "duration": 32,
    "start_time": "2022-08-06T21:22:14.350Z"
   },
   {
    "duration": 53,
    "start_time": "2022-08-06T21:22:26.925Z"
   },
   {
    "duration": 62,
    "start_time": "2022-08-06T21:22:31.124Z"
   },
   {
    "duration": 769,
    "start_time": "2022-08-06T21:22:31.984Z"
   },
   {
    "duration": 59,
    "start_time": "2022-08-06T21:22:56.405Z"
   },
   {
    "duration": 60,
    "start_time": "2022-08-06T21:22:57.173Z"
   },
   {
    "duration": 958,
    "start_time": "2022-08-06T21:22:57.528Z"
   },
   {
    "duration": 10,
    "start_time": "2022-08-06T21:23:05.538Z"
   },
   {
    "duration": 44,
    "start_time": "2022-08-06T21:23:55.580Z"
   },
   {
    "duration": 39,
    "start_time": "2022-08-06T21:24:06.530Z"
   },
   {
    "duration": 8,
    "start_time": "2022-08-06T21:24:08.659Z"
   },
   {
    "duration": 50,
    "start_time": "2022-08-06T21:24:32.875Z"
   },
   {
    "duration": 39,
    "start_time": "2022-08-06T21:24:42.370Z"
   },
   {
    "duration": 7,
    "start_time": "2022-08-06T21:24:44.551Z"
   },
   {
    "duration": 7,
    "start_time": "2022-08-06T21:24:49.597Z"
   },
   {
    "duration": 830,
    "start_time": "2022-08-06T21:25:28.257Z"
   },
   {
    "duration": 14,
    "start_time": "2022-08-06T21:25:39.034Z"
   },
   {
    "duration": 50,
    "start_time": "2022-08-06T21:26:52.518Z"
   },
   {
    "duration": 47,
    "start_time": "2022-08-06T21:26:57.110Z"
   },
   {
    "duration": 764,
    "start_time": "2022-08-06T21:26:57.497Z"
   },
   {
    "duration": 40,
    "start_time": "2022-08-06T21:27:03.913Z"
   },
   {
    "duration": 12,
    "start_time": "2022-08-06T21:27:08.031Z"
   },
   {
    "duration": 11,
    "start_time": "2022-08-06T21:28:46.804Z"
   },
   {
    "duration": 60,
    "start_time": "2022-08-06T21:29:45.445Z"
   },
   {
    "duration": 56,
    "start_time": "2022-08-06T21:29:46.725Z"
   },
   {
    "duration": 14,
    "start_time": "2022-08-06T21:29:47.204Z"
   },
   {
    "duration": 25,
    "start_time": "2022-08-06T21:37:06.443Z"
   },
   {
    "duration": 75,
    "start_time": "2022-08-06T21:41:23.156Z"
   },
   {
    "duration": 65,
    "start_time": "2022-08-06T21:41:37.061Z"
   },
   {
    "duration": 4,
    "start_time": "2022-08-06T21:48:42.153Z"
   },
   {
    "duration": 12,
    "start_time": "2022-08-06T21:49:12.558Z"
   },
   {
    "duration": 78,
    "start_time": "2022-08-06T21:50:00.420Z"
   },
   {
    "duration": 61,
    "start_time": "2022-08-06T21:51:43.343Z"
   },
   {
    "duration": 17,
    "start_time": "2022-08-06T21:51:51.312Z"
   },
   {
    "duration": 4,
    "start_time": "2022-08-06T21:51:57.475Z"
   },
   {
    "duration": 23,
    "start_time": "2022-08-06T21:52:09.709Z"
   },
   {
    "duration": 5,
    "start_time": "2022-08-06T21:52:10.281Z"
   },
   {
    "duration": 14,
    "start_time": "2022-08-06T21:53:26.529Z"
   },
   {
    "duration": 14,
    "start_time": "2022-08-06T21:53:33.420Z"
   },
   {
    "duration": 12,
    "start_time": "2022-08-06T21:53:37.066Z"
   },
   {
    "duration": 4,
    "start_time": "2022-08-06T21:53:41.655Z"
   },
   {
    "duration": 12,
    "start_time": "2022-08-06T21:59:00.629Z"
   },
   {
    "duration": 15,
    "start_time": "2022-08-06T21:59:03.459Z"
   },
   {
    "duration": 4,
    "start_time": "2022-08-06T21:59:21.960Z"
   },
   {
    "duration": 4,
    "start_time": "2022-08-06T21:59:22.905Z"
   },
   {
    "duration": 7,
    "start_time": "2022-08-06T21:59:23.241Z"
   },
   {
    "duration": 5,
    "start_time": "2022-08-06T22:02:57.020Z"
   },
   {
    "duration": 16,
    "start_time": "2022-08-06T22:03:34.264Z"
   },
   {
    "duration": 16,
    "start_time": "2022-08-06T22:03:38.015Z"
   },
   {
    "duration": 15,
    "start_time": "2022-08-06T22:03:42.500Z"
   },
   {
    "duration": 4,
    "start_time": "2022-08-06T22:05:04.817Z"
   },
   {
    "duration": 19,
    "start_time": "2022-08-06T22:05:08.650Z"
   },
   {
    "duration": 5,
    "start_time": "2022-08-06T22:06:18.798Z"
   },
   {
    "duration": 6,
    "start_time": "2022-08-06T22:06:19.967Z"
   },
   {
    "duration": 18,
    "start_time": "2022-08-06T22:06:20.647Z"
   },
   {
    "duration": 28,
    "start_time": "2022-08-06T22:07:07.979Z"
   },
   {
    "duration": 7,
    "start_time": "2022-08-06T22:07:20.491Z"
   },
   {
    "duration": 94,
    "start_time": "2022-08-06T22:12:39.579Z"
   },
   {
    "duration": 60,
    "start_time": "2022-08-06T22:13:02.840Z"
   },
   {
    "duration": 32,
    "start_time": "2022-08-06T22:13:05.287Z"
   },
   {
    "duration": 30,
    "start_time": "2022-08-06T22:13:10.100Z"
   },
   {
    "duration": 30,
    "start_time": "2022-08-06T22:13:21.714Z"
   },
   {
    "duration": 189,
    "start_time": "2022-08-06T22:13:21.746Z"
   },
   {
    "duration": 9,
    "start_time": "2022-08-06T22:13:21.937Z"
   },
   {
    "duration": 129,
    "start_time": "2022-08-06T22:13:21.949Z"
   },
   {
    "duration": 90,
    "start_time": "2022-08-06T22:13:22.080Z"
   },
   {
    "duration": 53,
    "start_time": "2022-08-06T22:13:22.172Z"
   },
   {
    "duration": 36,
    "start_time": "2022-08-06T22:13:22.227Z"
   },
   {
    "duration": 9,
    "start_time": "2022-08-06T22:13:22.265Z"
   },
   {
    "duration": 62,
    "start_time": "2022-08-06T22:13:22.276Z"
   },
   {
    "duration": 44,
    "start_time": "2022-08-06T22:13:22.342Z"
   },
   {
    "duration": 65,
    "start_time": "2022-08-06T22:13:22.388Z"
   },
   {
    "duration": 33,
    "start_time": "2022-08-06T22:13:22.455Z"
   },
   {
    "duration": 918,
    "start_time": "2022-08-06T22:13:22.490Z"
   },
   {
    "duration": 1049,
    "start_time": "2022-08-06T22:13:23.410Z"
   },
   {
    "duration": 12,
    "start_time": "2022-08-06T22:13:24.460Z"
   },
   {
    "duration": 7,
    "start_time": "2022-08-06T22:13:24.474Z"
   },
   {
    "duration": 67,
    "start_time": "2022-08-06T22:13:24.483Z"
   },
   {
    "duration": 9,
    "start_time": "2022-08-06T22:13:24.553Z"
   },
   {
    "duration": 122,
    "start_time": "2022-08-06T22:13:24.564Z"
   },
   {
    "duration": 95,
    "start_time": "2022-08-06T22:13:24.688Z"
   },
   {
    "duration": 73,
    "start_time": "2022-08-06T22:13:24.785Z"
   },
   {
    "duration": 16,
    "start_time": "2022-08-06T22:13:24.861Z"
   },
   {
    "duration": 18,
    "start_time": "2022-08-06T22:13:24.878Z"
   },
   {
    "duration": 75,
    "start_time": "2022-08-06T22:13:24.898Z"
   },
   {
    "duration": 56,
    "start_time": "2022-08-06T22:13:27.364Z"
   },
   {
    "duration": 32,
    "start_time": "2022-08-06T22:13:27.777Z"
   },
   {
    "duration": 54,
    "start_time": "2022-08-06T22:13:54.094Z"
   },
   {
    "duration": 74,
    "start_time": "2022-08-06T22:13:57.582Z"
   },
   {
    "duration": 37,
    "start_time": "2022-08-06T22:13:57.894Z"
   },
   {
    "duration": 38,
    "start_time": "2022-08-06T22:14:02.749Z"
   },
   {
    "duration": 60,
    "start_time": "2022-08-06T22:14:21.130Z"
   },
   {
    "duration": 37,
    "start_time": "2022-08-06T22:14:52.155Z"
   },
   {
    "duration": 59,
    "start_time": "2022-08-06T22:14:58.288Z"
   },
   {
    "duration": 36,
    "start_time": "2022-08-06T22:14:59.903Z"
   },
   {
    "duration": 31,
    "start_time": "2022-08-06T22:15:13.523Z"
   },
   {
    "duration": 39,
    "start_time": "2022-08-06T22:15:41.764Z"
   },
   {
    "duration": 59,
    "start_time": "2022-08-06T22:16:12.192Z"
   },
   {
    "duration": 38,
    "start_time": "2022-08-06T22:16:34.943Z"
   },
   {
    "duration": 58,
    "start_time": "2022-08-06T22:16:44.550Z"
   },
   {
    "duration": 38,
    "start_time": "2022-08-06T22:16:49.581Z"
   },
   {
    "duration": 30,
    "start_time": "2022-08-06T22:18:20.164Z"
   },
   {
    "duration": 36,
    "start_time": "2022-08-06T22:18:29.224Z"
   },
   {
    "duration": 60,
    "start_time": "2022-08-06T22:18:42.597Z"
   },
   {
    "duration": 65,
    "start_time": "2022-08-06T22:18:50.551Z"
   },
   {
    "duration": 58,
    "start_time": "2022-08-06T22:18:57.042Z"
   },
   {
    "duration": 36,
    "start_time": "2022-08-06T22:18:57.647Z"
   },
   {
    "duration": 35,
    "start_time": "2022-08-06T22:19:09.318Z"
   },
   {
    "duration": 63,
    "start_time": "2022-08-06T22:19:21.855Z"
   },
   {
    "duration": 61,
    "start_time": "2022-08-06T22:19:35.415Z"
   },
   {
    "duration": 58,
    "start_time": "2022-08-06T22:19:51.273Z"
   },
   {
    "duration": 59,
    "start_time": "2022-08-06T22:20:05.055Z"
   },
   {
    "duration": 30,
    "start_time": "2022-08-06T22:21:05.023Z"
   },
   {
    "duration": 51,
    "start_time": "2022-08-06T22:21:42.122Z"
   },
   {
    "duration": 41,
    "start_time": "2022-08-06T22:21:51.467Z"
   },
   {
    "duration": 36,
    "start_time": "2022-08-06T22:22:21.249Z"
   },
   {
    "duration": 40,
    "start_time": "2022-08-06T22:22:37.899Z"
   },
   {
    "duration": 39,
    "start_time": "2022-08-06T22:22:46.960Z"
   },
   {
    "duration": 32,
    "start_time": "2022-08-06T22:22:57.967Z"
   },
   {
    "duration": 41,
    "start_time": "2022-08-06T22:23:07.174Z"
   },
   {
    "duration": 39,
    "start_time": "2022-08-06T22:23:16.432Z"
   },
   {
    "duration": 70,
    "start_time": "2022-08-06T22:24:37.949Z"
   },
   {
    "duration": 62,
    "start_time": "2022-08-06T22:24:41.737Z"
   },
   {
    "duration": 63,
    "start_time": "2022-08-06T22:25:11.240Z"
   },
   {
    "duration": 95,
    "start_time": "2022-08-06T22:26:29.549Z"
   },
   {
    "duration": 92,
    "start_time": "2022-08-06T22:26:46.722Z"
   },
   {
    "duration": 1501,
    "start_time": "2022-08-06T22:26:56.688Z"
   },
   {
    "duration": 208,
    "start_time": "2022-08-06T22:26:58.192Z"
   },
   {
    "duration": 18,
    "start_time": "2022-08-06T22:26:58.402Z"
   },
   {
    "duration": 136,
    "start_time": "2022-08-06T22:26:58.422Z"
   },
   {
    "duration": 51,
    "start_time": "2022-08-06T22:26:58.560Z"
   },
   {
    "duration": 60,
    "start_time": "2022-08-06T22:26:58.612Z"
   },
   {
    "duration": 30,
    "start_time": "2022-08-06T22:26:58.673Z"
   },
   {
    "duration": 6,
    "start_time": "2022-08-06T22:26:58.704Z"
   },
   {
    "duration": 59,
    "start_time": "2022-08-06T22:26:58.712Z"
   },
   {
    "duration": 34,
    "start_time": "2022-08-06T22:26:58.774Z"
   },
   {
    "duration": 92,
    "start_time": "2022-08-06T22:26:58.809Z"
   },
   {
    "duration": 40,
    "start_time": "2022-08-06T22:26:58.904Z"
   },
   {
    "duration": 836,
    "start_time": "2022-08-06T22:26:58.947Z"
   },
   {
    "duration": 1330,
    "start_time": "2022-08-06T22:26:59.785Z"
   },
   {
    "duration": 23,
    "start_time": "2022-08-06T22:27:01.117Z"
   },
   {
    "duration": 7,
    "start_time": "2022-08-06T22:27:01.142Z"
   },
   {
    "duration": 40,
    "start_time": "2022-08-06T22:27:01.150Z"
   },
   {
    "duration": 28,
    "start_time": "2022-08-06T22:27:01.192Z"
   },
   {
    "duration": 77,
    "start_time": "2022-08-06T22:27:01.239Z"
   },
   {
    "duration": 92,
    "start_time": "2022-08-06T22:27:01.318Z"
   },
   {
    "duration": 63,
    "start_time": "2022-08-06T22:27:01.412Z"
   },
   {
    "duration": 19,
    "start_time": "2022-08-06T22:27:01.477Z"
   },
   {
    "duration": 46,
    "start_time": "2022-08-06T22:27:01.499Z"
   },
   {
    "duration": 135,
    "start_time": "2022-08-06T22:27:01.547Z"
   },
   {
    "duration": 37,
    "start_time": "2022-08-06T22:27:01.684Z"
   },
   {
    "duration": 101,
    "start_time": "2022-08-06T22:27:01.723Z"
   },
   {
    "duration": 66,
    "start_time": "2022-08-06T22:27:01.826Z"
   },
   {
    "duration": 11,
    "start_time": "2022-08-06T22:27:01.895Z"
   },
   {
    "duration": 89,
    "start_time": "2022-08-06T22:31:28.454Z"
   },
   {
    "duration": 64,
    "start_time": "2022-08-06T22:32:02.597Z"
   },
   {
    "duration": 154,
    "start_time": "2022-08-06T22:32:11.684Z"
   },
   {
    "duration": 29,
    "start_time": "2022-08-06T22:32:27.891Z"
   },
   {
    "duration": 206,
    "start_time": "2022-08-06T22:32:27.923Z"
   },
   {
    "duration": 14,
    "start_time": "2022-08-06T22:32:28.131Z"
   },
   {
    "duration": 133,
    "start_time": "2022-08-06T22:32:28.148Z"
   },
   {
    "duration": 88,
    "start_time": "2022-08-06T22:32:28.283Z"
   },
   {
    "duration": 50,
    "start_time": "2022-08-06T22:32:28.373Z"
   },
   {
    "duration": 46,
    "start_time": "2022-08-06T22:32:28.425Z"
   },
   {
    "duration": 6,
    "start_time": "2022-08-06T22:32:28.473Z"
   },
   {
    "duration": 35,
    "start_time": "2022-08-06T22:32:28.481Z"
   },
   {
    "duration": 39,
    "start_time": "2022-08-06T22:32:28.541Z"
   },
   {
    "duration": 69,
    "start_time": "2022-08-06T22:32:28.582Z"
   },
   {
    "duration": 37,
    "start_time": "2022-08-06T22:32:28.654Z"
   },
   {
    "duration": 919,
    "start_time": "2022-08-06T22:32:28.692Z"
   },
   {
    "duration": 1012,
    "start_time": "2022-08-06T22:32:29.613Z"
   },
   {
    "duration": 17,
    "start_time": "2022-08-06T22:32:30.628Z"
   },
   {
    "duration": 33,
    "start_time": "2022-08-06T22:32:30.648Z"
   },
   {
    "duration": 33,
    "start_time": "2022-08-06T22:32:30.683Z"
   },
   {
    "duration": 9,
    "start_time": "2022-08-06T22:32:30.739Z"
   },
   {
    "duration": 92,
    "start_time": "2022-08-06T22:32:30.750Z"
   },
   {
    "duration": 69,
    "start_time": "2022-08-06T22:32:30.844Z"
   },
   {
    "duration": 72,
    "start_time": "2022-08-06T22:32:30.916Z"
   },
   {
    "duration": 12,
    "start_time": "2022-08-06T22:32:30.991Z"
   },
   {
    "duration": 134,
    "start_time": "2022-08-06T22:32:31.005Z"
   },
   {
    "duration": 15,
    "start_time": "2022-08-06T22:32:31.141Z"
   },
   {
    "duration": 14,
    "start_time": "2022-08-06T22:32:34.422Z"
   },
   {
    "duration": 15,
    "start_time": "2022-08-06T22:32:44.011Z"
   },
   {
    "duration": 16,
    "start_time": "2022-08-06T22:32:44.942Z"
   },
   {
    "duration": 18,
    "start_time": "2022-08-06T22:33:06.080Z"
   },
   {
    "duration": 34,
    "start_time": "2022-08-06T22:33:19.300Z"
   },
   {
    "duration": 182,
    "start_time": "2022-08-06T22:33:19.336Z"
   },
   {
    "duration": 20,
    "start_time": "2022-08-06T22:33:19.520Z"
   },
   {
    "duration": 119,
    "start_time": "2022-08-06T22:33:19.542Z"
   },
   {
    "duration": 59,
    "start_time": "2022-08-06T22:33:19.663Z"
   },
   {
    "duration": 48,
    "start_time": "2022-08-06T22:33:19.738Z"
   },
   {
    "duration": 29,
    "start_time": "2022-08-06T22:33:19.788Z"
   },
   {
    "duration": 21,
    "start_time": "2022-08-06T22:33:19.818Z"
   },
   {
    "duration": 32,
    "start_time": "2022-08-06T22:33:19.841Z"
   },
   {
    "duration": 32,
    "start_time": "2022-08-06T22:33:19.877Z"
   },
   {
    "duration": 62,
    "start_time": "2022-08-06T22:33:19.911Z"
   },
   {
    "duration": 30,
    "start_time": "2022-08-06T22:33:19.975Z"
   },
   {
    "duration": 856,
    "start_time": "2022-08-06T22:33:20.007Z"
   },
   {
    "duration": 865,
    "start_time": "2022-08-06T22:33:20.864Z"
   },
   {
    "duration": 16,
    "start_time": "2022-08-06T22:33:21.731Z"
   },
   {
    "duration": 8,
    "start_time": "2022-08-06T22:33:21.749Z"
   },
   {
    "duration": 83,
    "start_time": "2022-08-06T22:33:21.759Z"
   },
   {
    "duration": 8,
    "start_time": "2022-08-06T22:33:21.845Z"
   },
   {
    "duration": 88,
    "start_time": "2022-08-06T22:33:21.855Z"
   },
   {
    "duration": 60,
    "start_time": "2022-08-06T22:33:21.945Z"
   },
   {
    "duration": 55,
    "start_time": "2022-08-06T22:33:22.007Z"
   },
   {
    "duration": 14,
    "start_time": "2022-08-06T22:33:22.064Z"
   },
   {
    "duration": 100,
    "start_time": "2022-08-06T22:33:22.080Z"
   },
   {
    "duration": 15,
    "start_time": "2022-08-06T22:33:28.432Z"
   },
   {
    "duration": 14,
    "start_time": "2022-08-06T22:35:03.641Z"
   },
   {
    "duration": 1549,
    "start_time": "2022-08-06T22:35:11.919Z"
   },
   {
    "duration": 214,
    "start_time": "2022-08-06T22:35:13.471Z"
   },
   {
    "duration": 16,
    "start_time": "2022-08-06T22:35:13.686Z"
   },
   {
    "duration": 138,
    "start_time": "2022-08-06T22:35:13.704Z"
   },
   {
    "duration": 77,
    "start_time": "2022-08-06T22:35:13.844Z"
   },
   {
    "duration": 55,
    "start_time": "2022-08-06T22:35:13.922Z"
   },
   {
    "duration": 29,
    "start_time": "2022-08-06T22:35:13.979Z"
   },
   {
    "duration": 30,
    "start_time": "2022-08-06T22:35:14.010Z"
   },
   {
    "duration": 38,
    "start_time": "2022-08-06T22:35:14.041Z"
   },
   {
    "duration": 32,
    "start_time": "2022-08-06T22:35:14.082Z"
   },
   {
    "duration": 67,
    "start_time": "2022-08-06T22:35:14.116Z"
   },
   {
    "duration": 28,
    "start_time": "2022-08-06T22:35:14.185Z"
   },
   {
    "duration": 738,
    "start_time": "2022-08-06T22:35:14.215Z"
   },
   {
    "duration": 1418,
    "start_time": "2022-08-06T22:35:14.955Z"
   },
   {
    "duration": 17,
    "start_time": "2022-08-06T22:35:16.376Z"
   },
   {
    "duration": 44,
    "start_time": "2022-08-06T22:35:16.395Z"
   },
   {
    "duration": 54,
    "start_time": "2022-08-06T22:35:16.441Z"
   },
   {
    "duration": 8,
    "start_time": "2022-08-06T22:35:16.497Z"
   },
   {
    "duration": 88,
    "start_time": "2022-08-06T22:35:16.539Z"
   },
   {
    "duration": 77,
    "start_time": "2022-08-06T22:35:16.629Z"
   },
   {
    "duration": 60,
    "start_time": "2022-08-06T22:35:16.708Z"
   },
   {
    "duration": 16,
    "start_time": "2022-08-06T22:35:16.770Z"
   },
   {
    "duration": 118,
    "start_time": "2022-08-06T22:35:16.789Z"
   },
   {
    "duration": 174,
    "start_time": "2022-08-06T22:35:16.908Z"
   },
   {
    "duration": 0,
    "start_time": "2022-08-06T22:35:17.084Z"
   },
   {
    "duration": 0,
    "start_time": "2022-08-06T22:35:17.085Z"
   },
   {
    "duration": 10,
    "start_time": "2022-08-06T22:36:02.124Z"
   },
   {
    "duration": 18,
    "start_time": "2022-08-06T22:36:13.459Z"
   },
   {
    "duration": 13,
    "start_time": "2022-08-06T22:36:22.784Z"
   },
   {
    "duration": 11,
    "start_time": "2022-08-06T22:36:29.509Z"
   },
   {
    "duration": 5,
    "start_time": "2022-08-06T22:40:03.173Z"
   },
   {
    "duration": 12,
    "start_time": "2022-08-06T22:40:07.110Z"
   },
   {
    "duration": 16,
    "start_time": "2022-08-06T22:40:32.099Z"
   },
   {
    "duration": 11,
    "start_time": "2022-08-06T22:41:27.777Z"
   },
   {
    "duration": 15,
    "start_time": "2022-08-06T22:41:57.474Z"
   },
   {
    "duration": 19,
    "start_time": "2022-08-06T22:43:00.455Z"
   },
   {
    "duration": 14,
    "start_time": "2022-08-06T22:44:26.299Z"
   },
   {
    "duration": 27,
    "start_time": "2022-08-06T22:45:05.573Z"
   },
   {
    "duration": 19,
    "start_time": "2022-08-06T22:47:14.863Z"
   },
   {
    "duration": 23,
    "start_time": "2022-08-06T22:47:16.179Z"
   },
   {
    "duration": 21,
    "start_time": "2022-08-06T22:49:03.061Z"
   },
   {
    "duration": 20,
    "start_time": "2022-08-06T22:49:12.121Z"
   },
   {
    "duration": 18,
    "start_time": "2022-08-06T22:50:15.943Z"
   },
   {
    "duration": 18,
    "start_time": "2022-08-06T22:50:28.542Z"
   },
   {
    "duration": 14,
    "start_time": "2022-08-06T22:50:52.345Z"
   },
   {
    "duration": 13,
    "start_time": "2022-08-06T22:51:02.440Z"
   },
   {
    "duration": 91,
    "start_time": "2022-08-06T22:52:24.740Z"
   },
   {
    "duration": 13,
    "start_time": "2022-08-06T22:52:36.712Z"
   },
   {
    "duration": 17,
    "start_time": "2022-08-06T22:53:04.951Z"
   },
   {
    "duration": 17,
    "start_time": "2022-08-06T22:54:37.833Z"
   },
   {
    "duration": 18,
    "start_time": "2022-08-06T22:55:01.820Z"
   },
   {
    "duration": 16,
    "start_time": "2022-08-06T22:55:07.224Z"
   },
   {
    "duration": 1520,
    "start_time": "2022-08-06T22:55:55.755Z"
   },
   {
    "duration": 203,
    "start_time": "2022-08-06T22:55:57.277Z"
   },
   {
    "duration": 16,
    "start_time": "2022-08-06T22:55:57.482Z"
   },
   {
    "duration": 140,
    "start_time": "2022-08-06T22:55:57.501Z"
   },
   {
    "duration": 53,
    "start_time": "2022-08-06T22:55:57.643Z"
   },
   {
    "duration": 67,
    "start_time": "2022-08-06T22:55:57.698Z"
   },
   {
    "duration": 30,
    "start_time": "2022-08-06T22:55:57.766Z"
   },
   {
    "duration": 6,
    "start_time": "2022-08-06T22:55:57.797Z"
   },
   {
    "duration": 56,
    "start_time": "2022-08-06T22:55:57.804Z"
   },
   {
    "duration": 33,
    "start_time": "2022-08-06T22:55:57.863Z"
   },
   {
    "duration": 68,
    "start_time": "2022-08-06T22:55:57.898Z"
   },
   {
    "duration": 29,
    "start_time": "2022-08-06T22:55:57.968Z"
   },
   {
    "duration": 775,
    "start_time": "2022-08-06T22:55:57.999Z"
   },
   {
    "duration": 1384,
    "start_time": "2022-08-06T22:55:58.776Z"
   },
   {
    "duration": 13,
    "start_time": "2022-08-06T22:56:00.162Z"
   },
   {
    "duration": 14,
    "start_time": "2022-08-06T22:56:00.178Z"
   },
   {
    "duration": 60,
    "start_time": "2022-08-06T22:56:00.194Z"
   },
   {
    "duration": 38,
    "start_time": "2022-08-06T22:56:00.256Z"
   },
   {
    "duration": 93,
    "start_time": "2022-08-06T22:56:00.296Z"
   },
   {
    "duration": 70,
    "start_time": "2022-08-06T22:56:00.391Z"
   },
   {
    "duration": 41,
    "start_time": "2022-08-06T22:56:00.463Z"
   },
   {
    "duration": 32,
    "start_time": "2022-08-06T22:56:00.506Z"
   },
   {
    "duration": 86,
    "start_time": "2022-08-06T22:56:00.540Z"
   },
   {
    "duration": 17,
    "start_time": "2022-08-06T22:56:00.639Z"
   },
   {
    "duration": 1597,
    "start_time": "2022-08-06T23:05:01.392Z"
   },
   {
    "duration": 201,
    "start_time": "2022-08-06T23:05:02.991Z"
   },
   {
    "duration": 16,
    "start_time": "2022-08-06T23:05:03.194Z"
   },
   {
    "duration": 143,
    "start_time": "2022-08-06T23:05:03.212Z"
   },
   {
    "duration": 55,
    "start_time": "2022-08-06T23:05:03.356Z"
   },
   {
    "duration": 66,
    "start_time": "2022-08-06T23:05:03.413Z"
   },
   {
    "duration": 31,
    "start_time": "2022-08-06T23:05:03.481Z"
   },
   {
    "duration": 25,
    "start_time": "2022-08-06T23:05:03.514Z"
   },
   {
    "duration": 36,
    "start_time": "2022-08-06T23:05:03.541Z"
   },
   {
    "duration": 35,
    "start_time": "2022-08-06T23:05:03.579Z"
   },
   {
    "duration": 70,
    "start_time": "2022-08-06T23:05:03.616Z"
   },
   {
    "duration": 50,
    "start_time": "2022-08-06T23:05:03.688Z"
   },
   {
    "duration": 761,
    "start_time": "2022-08-06T23:05:03.741Z"
   },
   {
    "duration": 1437,
    "start_time": "2022-08-06T23:05:04.504Z"
   },
   {
    "duration": 18,
    "start_time": "2022-08-06T23:05:05.944Z"
   },
   {
    "duration": 9,
    "start_time": "2022-08-06T23:05:05.964Z"
   },
   {
    "duration": 80,
    "start_time": "2022-08-06T23:05:05.975Z"
   },
   {
    "duration": 9,
    "start_time": "2022-08-06T23:05:06.057Z"
   },
   {
    "duration": 132,
    "start_time": "2022-08-06T23:05:06.069Z"
   },
   {
    "duration": 76,
    "start_time": "2022-08-06T23:05:06.204Z"
   },
   {
    "duration": 46,
    "start_time": "2022-08-06T23:05:06.282Z"
   },
   {
    "duration": 23,
    "start_time": "2022-08-06T23:05:06.339Z"
   },
   {
    "duration": 106,
    "start_time": "2022-08-06T23:05:06.365Z"
   },
   {
    "duration": 16,
    "start_time": "2022-08-06T23:05:06.473Z"
   },
   {
    "duration": 143,
    "start_time": "2022-08-06T23:35:31.156Z"
   },
   {
    "duration": 8,
    "start_time": "2022-08-06T23:35:37.070Z"
   },
   {
    "duration": 8,
    "start_time": "2022-08-06T23:36:17.738Z"
   },
   {
    "duration": 9,
    "start_time": "2022-08-06T23:37:07.194Z"
   },
   {
    "duration": 67,
    "start_time": "2022-08-06T23:40:48.332Z"
   },
   {
    "duration": 67,
    "start_time": "2022-08-06T23:41:37.011Z"
   },
   {
    "duration": 68,
    "start_time": "2022-08-06T23:42:21.607Z"
   },
   {
    "duration": 71,
    "start_time": "2022-08-06T23:42:47.974Z"
   },
   {
    "duration": 17,
    "start_time": "2022-08-06T23:42:48.395Z"
   },
   {
    "duration": 73,
    "start_time": "2022-08-06T23:43:34.250Z"
   },
   {
    "duration": 63,
    "start_time": "2022-08-06T23:43:51.703Z"
   },
   {
    "duration": 17,
    "start_time": "2022-08-06T23:43:52.625Z"
   },
   {
    "duration": 91,
    "start_time": "2022-08-06T23:43:56.578Z"
   },
   {
    "duration": 9,
    "start_time": "2022-08-06T23:43:59.889Z"
   },
   {
    "duration": 10,
    "start_time": "2022-08-06T23:46:25.791Z"
   },
   {
    "duration": 10,
    "start_time": "2022-08-06T23:46:35.647Z"
   },
   {
    "duration": 9,
    "start_time": "2022-08-06T23:46:44.138Z"
   },
   {
    "duration": 742,
    "start_time": "2022-08-06T23:47:18.773Z"
   },
   {
    "duration": 8,
    "start_time": "2022-08-06T23:47:31.489Z"
   },
   {
    "duration": 7,
    "start_time": "2022-08-06T23:47:49.103Z"
   },
   {
    "duration": 7,
    "start_time": "2022-08-06T23:49:44.642Z"
   },
   {
    "duration": 11,
    "start_time": "2022-08-06T23:50:01.425Z"
   },
   {
    "duration": 10,
    "start_time": "2022-08-06T23:50:11.216Z"
   },
   {
    "duration": 8,
    "start_time": "2022-08-06T23:50:16.581Z"
   },
   {
    "duration": 10,
    "start_time": "2022-08-06T23:52:31.408Z"
   },
   {
    "duration": 10,
    "start_time": "2022-08-06T23:52:40.442Z"
   },
   {
    "duration": 10,
    "start_time": "2022-08-06T23:53:44.304Z"
   },
   {
    "duration": 52,
    "start_time": "2022-08-07T00:08:35.979Z"
   },
   {
    "duration": 67,
    "start_time": "2022-08-07T00:08:55.924Z"
   },
   {
    "duration": 50,
    "start_time": "2022-08-07T00:09:05.301Z"
   },
   {
    "duration": 61,
    "start_time": "2022-08-07T00:09:25.745Z"
   },
   {
    "duration": 56,
    "start_time": "2022-08-07T00:09:54.931Z"
   },
   {
    "duration": 65,
    "start_time": "2022-08-07T00:10:07.794Z"
   },
   {
    "duration": 53,
    "start_time": "2022-08-07T00:10:22.858Z"
   },
   {
    "duration": 5,
    "start_time": "2022-08-07T00:10:28.427Z"
   },
   {
    "duration": 5,
    "start_time": "2022-08-07T00:11:04.328Z"
   },
   {
    "duration": 5,
    "start_time": "2022-08-07T00:11:29.538Z"
   },
   {
    "duration": 5,
    "start_time": "2022-08-07T00:14:07.194Z"
   },
   {
    "duration": 4,
    "start_time": "2022-08-07T00:21:21.277Z"
   },
   {
    "duration": 60,
    "start_time": "2022-08-07T00:35:48.705Z"
   },
   {
    "duration": 4,
    "start_time": "2022-08-07T00:36:01.138Z"
   },
   {
    "duration": 5,
    "start_time": "2022-08-07T00:36:31.609Z"
   },
   {
    "duration": 4,
    "start_time": "2022-08-07T00:36:40.939Z"
   },
   {
    "duration": 8,
    "start_time": "2022-08-07T00:37:27.032Z"
   },
   {
    "duration": 14,
    "start_time": "2022-08-07T00:38:11.184Z"
   },
   {
    "duration": 27,
    "start_time": "2022-08-07T00:38:16.306Z"
   },
   {
    "duration": 7,
    "start_time": "2022-08-07T00:39:23.816Z"
   },
   {
    "duration": 10,
    "start_time": "2022-08-07T00:44:35.455Z"
   },
   {
    "duration": 11,
    "start_time": "2022-08-07T00:44:47.595Z"
   },
   {
    "duration": 3,
    "start_time": "2022-08-07T00:44:59.757Z"
   },
   {
    "duration": 4,
    "start_time": "2022-08-07T00:45:20.395Z"
   },
   {
    "duration": 4,
    "start_time": "2022-08-07T00:45:42.925Z"
   },
   {
    "duration": 4,
    "start_time": "2022-08-07T00:45:52.142Z"
   },
   {
    "duration": 7,
    "start_time": "2022-08-07T00:46:15.238Z"
   },
   {
    "duration": 7,
    "start_time": "2022-08-07T00:46:17.748Z"
   },
   {
    "duration": 7,
    "start_time": "2022-08-07T00:46:19.194Z"
   },
   {
    "duration": 7,
    "start_time": "2022-08-07T00:46:56.253Z"
   },
   {
    "duration": 8,
    "start_time": "2022-08-07T00:47:00.256Z"
   },
   {
    "duration": 7,
    "start_time": "2022-08-07T00:47:16.240Z"
   },
   {
    "duration": 8,
    "start_time": "2022-08-07T00:47:16.935Z"
   },
   {
    "duration": 894,
    "start_time": "2022-08-07T00:49:46.354Z"
   },
   {
    "duration": 9,
    "start_time": "2022-08-07T00:50:06.212Z"
   },
   {
    "duration": 7,
    "start_time": "2022-08-07T00:50:18.030Z"
   },
   {
    "duration": 14,
    "start_time": "2022-08-07T00:50:32.822Z"
   },
   {
    "duration": 13,
    "start_time": "2022-08-07T00:50:35.054Z"
   },
   {
    "duration": 8,
    "start_time": "2022-08-07T00:50:47.267Z"
   },
   {
    "duration": 8,
    "start_time": "2022-08-07T00:50:54.003Z"
   },
   {
    "duration": 7,
    "start_time": "2022-08-07T00:50:56.932Z"
   },
   {
    "duration": 6,
    "start_time": "2022-08-07T00:51:34.872Z"
   },
   {
    "duration": 7,
    "start_time": "2022-08-07T00:52:15.868Z"
   },
   {
    "duration": 8,
    "start_time": "2022-08-07T00:52:19.425Z"
   },
   {
    "duration": 6,
    "start_time": "2022-08-07T00:52:24.633Z"
   },
   {
    "duration": 15,
    "start_time": "2022-08-07T00:52:35.492Z"
   },
   {
    "duration": 16,
    "start_time": "2022-08-07T00:52:48.240Z"
   },
   {
    "duration": 8,
    "start_time": "2022-08-07T00:53:15.856Z"
   },
   {
    "duration": 7,
    "start_time": "2022-08-07T00:53:21.090Z"
   },
   {
    "duration": 17,
    "start_time": "2022-08-07T00:53:47.894Z"
   },
   {
    "duration": 5,
    "start_time": "2022-08-07T00:55:15.341Z"
   },
   {
    "duration": 5,
    "start_time": "2022-08-07T00:55:19.820Z"
   },
   {
    "duration": 6,
    "start_time": "2022-08-07T00:56:41.936Z"
   },
   {
    "duration": 6,
    "start_time": "2022-08-07T00:56:44.468Z"
   },
   {
    "duration": 18,
    "start_time": "2022-08-07T00:56:46.552Z"
   },
   {
    "duration": 7,
    "start_time": "2022-08-07T00:56:49.847Z"
   },
   {
    "duration": 6,
    "start_time": "2022-08-07T00:57:23.773Z"
   },
   {
    "duration": 15,
    "start_time": "2022-08-07T00:58:22.990Z"
   },
   {
    "duration": 24,
    "start_time": "2022-08-07T00:58:54.532Z"
   },
   {
    "duration": 27,
    "start_time": "2022-08-07T00:59:02.194Z"
   },
   {
    "duration": 26,
    "start_time": "2022-08-07T01:00:04.174Z"
   },
   {
    "duration": 22,
    "start_time": "2022-08-07T01:01:24.569Z"
   },
   {
    "duration": 1471,
    "start_time": "2022-08-07T01:01:35.581Z"
   },
   {
    "duration": 196,
    "start_time": "2022-08-07T01:01:37.055Z"
   },
   {
    "duration": 16,
    "start_time": "2022-08-07T01:01:37.252Z"
   },
   {
    "duration": 128,
    "start_time": "2022-08-07T01:01:37.270Z"
   },
   {
    "duration": 60,
    "start_time": "2022-08-07T01:01:37.400Z"
   },
   {
    "duration": 49,
    "start_time": "2022-08-07T01:01:37.461Z"
   },
   {
    "duration": 39,
    "start_time": "2022-08-07T01:01:37.511Z"
   },
   {
    "duration": 5,
    "start_time": "2022-08-07T01:01:37.551Z"
   },
   {
    "duration": 34,
    "start_time": "2022-08-07T01:01:37.558Z"
   },
   {
    "duration": 50,
    "start_time": "2022-08-07T01:01:37.594Z"
   },
   {
    "duration": 49,
    "start_time": "2022-08-07T01:01:37.645Z"
   },
   {
    "duration": 47,
    "start_time": "2022-08-07T01:01:37.696Z"
   },
   {
    "duration": 688,
    "start_time": "2022-08-07T01:01:37.746Z"
   },
   {
    "duration": 1293,
    "start_time": "2022-08-07T01:01:38.436Z"
   },
   {
    "duration": 15,
    "start_time": "2022-08-07T01:01:39.731Z"
   },
   {
    "duration": 6,
    "start_time": "2022-08-07T01:01:39.748Z"
   },
   {
    "duration": 23,
    "start_time": "2022-08-07T01:01:39.756Z"
   },
   {
    "duration": 58,
    "start_time": "2022-08-07T01:01:39.781Z"
   },
   {
    "duration": 67,
    "start_time": "2022-08-07T01:01:39.841Z"
   },
   {
    "duration": 84,
    "start_time": "2022-08-07T01:01:39.910Z"
   },
   {
    "duration": 49,
    "start_time": "2022-08-07T01:01:39.996Z"
   },
   {
    "duration": 14,
    "start_time": "2022-08-07T01:01:40.047Z"
   },
   {
    "duration": 81,
    "start_time": "2022-08-07T01:01:40.062Z"
   },
   {
    "duration": 20,
    "start_time": "2022-08-07T01:01:40.145Z"
   },
   {
    "duration": 17,
    "start_time": "2022-08-07T01:01:40.166Z"
   },
   {
    "duration": 30,
    "start_time": "2022-08-07T01:01:40.185Z"
   },
   {
    "duration": 164,
    "start_time": "2022-08-07T01:01:40.217Z"
   },
   {
    "duration": 0,
    "start_time": "2022-08-07T01:01:40.382Z"
   },
   {
    "duration": 4,
    "start_time": "2022-08-07T01:15:56.419Z"
   },
   {
    "duration": 4,
    "start_time": "2022-08-07T01:15:57.719Z"
   },
   {
    "duration": 8,
    "start_time": "2022-08-07T01:15:58.112Z"
   },
   {
    "duration": 19,
    "start_time": "2022-08-07T01:15:58.420Z"
   },
   {
    "duration": 7,
    "start_time": "2022-08-07T01:15:58.664Z"
   },
   {
    "duration": 4,
    "start_time": "2022-08-07T01:16:40.748Z"
   },
   {
    "duration": 11,
    "start_time": "2022-08-07T01:16:41.212Z"
   },
   {
    "duration": 27,
    "start_time": "2022-08-07T01:16:42.075Z"
   },
   {
    "duration": 5,
    "start_time": "2022-08-07T01:17:04.236Z"
   },
   {
    "duration": 5,
    "start_time": "2022-08-07T01:17:04.850Z"
   },
   {
    "duration": 8,
    "start_time": "2022-08-07T01:17:05.182Z"
   },
   {
    "duration": 34,
    "start_time": "2022-08-07T01:17:05.794Z"
   },
   {
    "duration": 14,
    "start_time": "2022-08-07T01:17:32.634Z"
   },
   {
    "duration": 14,
    "start_time": "2022-08-07T01:17:36.179Z"
   },
   {
    "duration": 9,
    "start_time": "2022-08-07T01:17:39.467Z"
   },
   {
    "duration": 14,
    "start_time": "2022-08-07T01:18:01.409Z"
   },
   {
    "duration": 14,
    "start_time": "2022-08-07T01:18:19.063Z"
   },
   {
    "duration": 14,
    "start_time": "2022-08-07T01:18:24.433Z"
   },
   {
    "duration": 8,
    "start_time": "2022-08-07T01:19:09.998Z"
   },
   {
    "duration": 8,
    "start_time": "2022-08-07T01:19:15.980Z"
   },
   {
    "duration": 8,
    "start_time": "2022-08-07T01:19:20.071Z"
   },
   {
    "duration": 8,
    "start_time": "2022-08-07T01:19:21.366Z"
   },
   {
    "duration": 8,
    "start_time": "2022-08-07T01:19:22.375Z"
   },
   {
    "duration": 7,
    "start_time": "2022-08-07T01:19:38.237Z"
   },
   {
    "duration": 4,
    "start_time": "2022-08-07T01:19:40.043Z"
   },
   {
    "duration": 9,
    "start_time": "2022-08-07T01:19:49.891Z"
   },
   {
    "duration": 8,
    "start_time": "2022-08-07T01:19:54.904Z"
   },
   {
    "duration": 15,
    "start_time": "2022-08-07T01:19:59.386Z"
   },
   {
    "duration": 8,
    "start_time": "2022-08-07T01:20:04.778Z"
   },
   {
    "duration": 8,
    "start_time": "2022-08-07T01:20:07.566Z"
   },
   {
    "duration": 9,
    "start_time": "2022-08-07T01:20:40.178Z"
   },
   {
    "duration": 8,
    "start_time": "2022-08-07T01:20:44.269Z"
   },
   {
    "duration": 8,
    "start_time": "2022-08-07T01:20:47.785Z"
   },
   {
    "duration": 8,
    "start_time": "2022-08-07T01:20:49.432Z"
   },
   {
    "duration": 9,
    "start_time": "2022-08-07T01:20:50.260Z"
   },
   {
    "duration": 8,
    "start_time": "2022-08-07T01:20:50.523Z"
   },
   {
    "duration": 8,
    "start_time": "2022-08-07T01:20:50.729Z"
   },
   {
    "duration": 8,
    "start_time": "2022-08-07T01:20:50.916Z"
   },
   {
    "duration": 8,
    "start_time": "2022-08-07T01:21:03.582Z"
   },
   {
    "duration": 8,
    "start_time": "2022-08-07T01:21:11.162Z"
   },
   {
    "duration": 8,
    "start_time": "2022-08-07T01:21:20.251Z"
   },
   {
    "duration": 8,
    "start_time": "2022-08-07T01:21:39.186Z"
   },
   {
    "duration": 7,
    "start_time": "2022-08-07T01:21:46.631Z"
   },
   {
    "duration": 3,
    "start_time": "2022-08-07T01:21:48.410Z"
   },
   {
    "duration": 4,
    "start_time": "2022-08-07T01:21:49.179Z"
   },
   {
    "duration": 3,
    "start_time": "2022-08-07T01:21:49.471Z"
   },
   {
    "duration": 4,
    "start_time": "2022-08-07T01:21:49.677Z"
   },
   {
    "duration": 3,
    "start_time": "2022-08-07T01:21:49.860Z"
   },
   {
    "duration": 7,
    "start_time": "2022-08-07T01:22:22.897Z"
   },
   {
    "duration": 14,
    "start_time": "2022-08-07T01:22:31.417Z"
   },
   {
    "duration": 8,
    "start_time": "2022-08-07T01:22:34.227Z"
   },
   {
    "duration": 9,
    "start_time": "2022-08-07T01:22:38.082Z"
   },
   {
    "duration": 9,
    "start_time": "2022-08-07T01:22:41.873Z"
   },
   {
    "duration": 9,
    "start_time": "2022-08-07T01:22:59.307Z"
   },
   {
    "duration": 7,
    "start_time": "2022-08-07T01:23:13.439Z"
   },
   {
    "duration": 7,
    "start_time": "2022-08-07T01:23:18.333Z"
   },
   {
    "duration": 8,
    "start_time": "2022-08-07T01:23:20.773Z"
   },
   {
    "duration": 8,
    "start_time": "2022-08-07T01:23:27.780Z"
   },
   {
    "duration": 1501,
    "start_time": "2022-08-07T01:23:40.773Z"
   },
   {
    "duration": 199,
    "start_time": "2022-08-07T01:23:42.276Z"
   },
   {
    "duration": 15,
    "start_time": "2022-08-07T01:23:42.477Z"
   },
   {
    "duration": 131,
    "start_time": "2022-08-07T01:23:42.494Z"
   },
   {
    "duration": 57,
    "start_time": "2022-08-07T01:23:42.627Z"
   },
   {
    "duration": 63,
    "start_time": "2022-08-07T01:23:42.686Z"
   },
   {
    "duration": 29,
    "start_time": "2022-08-07T01:23:42.751Z"
   },
   {
    "duration": 6,
    "start_time": "2022-08-07T01:23:42.782Z"
   },
   {
    "duration": 53,
    "start_time": "2022-08-07T01:23:42.789Z"
   },
   {
    "duration": 31,
    "start_time": "2022-08-07T01:23:42.845Z"
   },
   {
    "duration": 46,
    "start_time": "2022-08-07T01:23:42.877Z"
   },
   {
    "duration": 28,
    "start_time": "2022-08-07T01:23:42.938Z"
   },
   {
    "duration": 684,
    "start_time": "2022-08-07T01:23:42.967Z"
   },
   {
    "duration": 1255,
    "start_time": "2022-08-07T01:23:43.652Z"
   },
   {
    "duration": 29,
    "start_time": "2022-08-07T01:23:44.909Z"
   },
   {
    "duration": 5,
    "start_time": "2022-08-07T01:23:44.941Z"
   },
   {
    "duration": 22,
    "start_time": "2022-08-07T01:23:44.948Z"
   },
   {
    "duration": 6,
    "start_time": "2022-08-07T01:23:44.971Z"
   },
   {
    "duration": 119,
    "start_time": "2022-08-07T01:23:44.979Z"
   },
   {
    "duration": 71,
    "start_time": "2022-08-07T01:23:45.099Z"
   },
   {
    "duration": 38,
    "start_time": "2022-08-07T01:23:45.172Z"
   },
   {
    "duration": 33,
    "start_time": "2022-08-07T01:23:45.212Z"
   },
   {
    "duration": 60,
    "start_time": "2022-08-07T01:23:45.247Z"
   },
   {
    "duration": 31,
    "start_time": "2022-08-07T01:23:45.309Z"
   },
   {
    "duration": 5,
    "start_time": "2022-08-07T01:23:45.342Z"
   },
   {
    "duration": 11,
    "start_time": "2022-08-07T01:23:45.348Z"
   },
   {
    "duration": 150,
    "start_time": "2022-08-07T01:23:45.360Z"
   },
   {
    "duration": 0,
    "start_time": "2022-08-07T01:23:45.511Z"
   },
   {
    "duration": 16,
    "start_time": "2022-08-07T01:24:59.847Z"
   },
   {
    "duration": 7,
    "start_time": "2022-08-07T01:25:09.985Z"
   },
   {
    "duration": 10,
    "start_time": "2022-08-07T01:25:16.061Z"
   },
   {
    "duration": 7,
    "start_time": "2022-08-07T01:25:37.541Z"
   },
   {
    "duration": 8,
    "start_time": "2022-08-07T01:25:38.247Z"
   },
   {
    "duration": 30,
    "start_time": "2022-08-07T01:25:39.130Z"
   },
   {
    "duration": 32,
    "start_time": "2022-08-07T01:26:45.060Z"
   },
   {
    "duration": 5,
    "start_time": "2022-08-07T01:40:53.603Z"
   },
   {
    "duration": 61,
    "start_time": "2022-08-07T01:43:41.517Z"
   },
   {
    "duration": 57,
    "start_time": "2022-08-07T01:43:48.064Z"
   },
   {
    "duration": 55,
    "start_time": "2022-08-07T01:43:58.696Z"
   },
   {
    "duration": 58,
    "start_time": "2022-08-07T01:52:21.191Z"
   },
   {
    "duration": 60,
    "start_time": "2022-08-07T01:53:04.171Z"
   },
   {
    "duration": 59,
    "start_time": "2022-08-07T01:53:16.960Z"
   },
   {
    "duration": 54,
    "start_time": "2022-08-07T01:53:21.813Z"
   },
   {
    "duration": 143,
    "start_time": "2022-08-07T01:53:45.209Z"
   },
   {
    "duration": 55,
    "start_time": "2022-08-07T01:53:51.446Z"
   },
   {
    "duration": 54,
    "start_time": "2022-08-07T01:53:57.118Z"
   },
   {
    "duration": 57,
    "start_time": "2022-08-07T01:54:00.792Z"
   },
   {
    "duration": 55,
    "start_time": "2022-08-07T01:54:35.693Z"
   },
   {
    "duration": 58,
    "start_time": "2022-08-07T01:54:43.338Z"
   },
   {
    "duration": 55,
    "start_time": "2022-08-07T01:55:07.453Z"
   },
   {
    "duration": 65,
    "start_time": "2022-08-07T01:55:18.897Z"
   },
   {
    "duration": 5,
    "start_time": "2022-08-07T01:55:35.788Z"
   },
   {
    "duration": 3,
    "start_time": "2022-08-07T01:56:58.011Z"
   },
   {
    "duration": 17,
    "start_time": "2022-08-07T01:57:17.466Z"
   },
   {
    "duration": 16,
    "start_time": "2022-08-07T01:57:29.474Z"
   },
   {
    "duration": 6,
    "start_time": "2022-08-07T01:57:40.934Z"
   },
   {
    "duration": 6,
    "start_time": "2022-08-07T01:57:49.537Z"
   },
   {
    "duration": 6,
    "start_time": "2022-08-07T01:58:08.866Z"
   },
   {
    "duration": 55,
    "start_time": "2022-08-07T01:59:47.725Z"
   },
   {
    "duration": 5,
    "start_time": "2022-08-07T02:00:50.223Z"
   },
   {
    "duration": 5,
    "start_time": "2022-08-07T02:01:06.596Z"
   },
   {
    "duration": 4,
    "start_time": "2022-08-07T02:01:10.982Z"
   },
   {
    "duration": 9,
    "start_time": "2022-08-07T02:01:44.148Z"
   },
   {
    "duration": 9,
    "start_time": "2022-08-07T02:01:49.779Z"
   },
   {
    "duration": 9,
    "start_time": "2022-08-07T02:02:20.840Z"
   },
   {
    "duration": 10,
    "start_time": "2022-08-07T02:03:34.349Z"
   },
   {
    "duration": 9,
    "start_time": "2022-08-07T02:03:40.106Z"
   },
   {
    "duration": 10,
    "start_time": "2022-08-07T02:03:51.110Z"
   },
   {
    "duration": 10,
    "start_time": "2022-08-07T02:11:42.739Z"
   },
   {
    "duration": 4,
    "start_time": "2022-08-07T02:11:45.778Z"
   },
   {
    "duration": 39,
    "start_time": "2022-08-07T02:12:12.949Z"
   },
   {
    "duration": 37,
    "start_time": "2022-08-07T02:12:26.581Z"
   },
   {
    "duration": 37,
    "start_time": "2022-08-07T02:12:51.190Z"
   },
   {
    "duration": 31,
    "start_time": "2022-08-07T02:26:26.641Z"
   },
   {
    "duration": 4,
    "start_time": "2022-08-07T02:26:35.343Z"
   },
   {
    "duration": 4,
    "start_time": "2022-08-07T02:27:55.996Z"
   },
   {
    "duration": 1476,
    "start_time": "2022-08-07T02:28:03.462Z"
   },
   {
    "duration": 196,
    "start_time": "2022-08-07T02:28:04.940Z"
   },
   {
    "duration": 16,
    "start_time": "2022-08-07T02:28:05.137Z"
   },
   {
    "duration": 129,
    "start_time": "2022-08-07T02:28:05.155Z"
   },
   {
    "duration": 56,
    "start_time": "2022-08-07T02:28:05.285Z"
   },
   {
    "duration": 47,
    "start_time": "2022-08-07T02:28:05.343Z"
   },
   {
    "duration": 28,
    "start_time": "2022-08-07T02:28:05.392Z"
   },
   {
    "duration": 6,
    "start_time": "2022-08-07T02:28:05.438Z"
   },
   {
    "duration": 34,
    "start_time": "2022-08-07T02:28:05.445Z"
   },
   {
    "duration": 32,
    "start_time": "2022-08-07T02:28:05.481Z"
   },
   {
    "duration": 66,
    "start_time": "2022-08-07T02:28:05.515Z"
   },
   {
    "duration": 26,
    "start_time": "2022-08-07T02:28:05.582Z"
   },
   {
    "duration": 742,
    "start_time": "2022-08-07T02:28:05.610Z"
   },
   {
    "duration": 1261,
    "start_time": "2022-08-07T02:28:06.354Z"
   },
   {
    "duration": 28,
    "start_time": "2022-08-07T02:28:07.617Z"
   },
   {
    "duration": 7,
    "start_time": "2022-08-07T02:28:07.647Z"
   },
   {
    "duration": 24,
    "start_time": "2022-08-07T02:28:07.656Z"
   },
   {
    "duration": 62,
    "start_time": "2022-08-07T02:28:07.682Z"
   },
   {
    "duration": 69,
    "start_time": "2022-08-07T02:28:07.746Z"
   },
   {
    "duration": 76,
    "start_time": "2022-08-07T02:28:07.817Z"
   },
   {
    "duration": 54,
    "start_time": "2022-08-07T02:28:07.895Z"
   },
   {
    "duration": 13,
    "start_time": "2022-08-07T02:28:07.951Z"
   },
   {
    "duration": 73,
    "start_time": "2022-08-07T02:28:07.965Z"
   },
   {
    "duration": 17,
    "start_time": "2022-08-07T02:28:08.040Z"
   },
   {
    "duration": 5,
    "start_time": "2022-08-07T02:28:08.058Z"
   },
   {
    "duration": 16,
    "start_time": "2022-08-07T02:28:08.064Z"
   },
   {
    "duration": 39,
    "start_time": "2022-08-07T02:28:08.082Z"
   },
   {
    "duration": 62,
    "start_time": "2022-08-07T02:28:08.124Z"
   },
   {
    "duration": 55,
    "start_time": "2022-08-07T02:28:08.188Z"
   },
   {
    "duration": 4,
    "start_time": "2022-08-07T02:28:08.245Z"
   },
   {
    "duration": 3,
    "start_time": "2022-08-07T02:29:27.445Z"
   },
   {
    "duration": 32,
    "start_time": "2022-08-07T02:30:28.646Z"
   },
   {
    "duration": 217,
    "start_time": "2022-08-07T02:36:02.341Z"
   },
   {
    "duration": 114,
    "start_time": "2022-08-07T02:36:35.910Z"
   },
   {
    "duration": 1479,
    "start_time": "2022-08-07T02:43:26.146Z"
   },
   {
    "duration": 205,
    "start_time": "2022-08-07T02:43:27.627Z"
   },
   {
    "duration": 19,
    "start_time": "2022-08-07T02:43:27.833Z"
   },
   {
    "duration": 126,
    "start_time": "2022-08-07T02:43:27.854Z"
   },
   {
    "duration": 63,
    "start_time": "2022-08-07T02:43:27.982Z"
   },
   {
    "duration": 46,
    "start_time": "2022-08-07T02:43:28.047Z"
   },
   {
    "duration": 46,
    "start_time": "2022-08-07T02:43:28.094Z"
   },
   {
    "duration": 6,
    "start_time": "2022-08-07T02:43:28.141Z"
   },
   {
    "duration": 53,
    "start_time": "2022-08-07T02:43:28.149Z"
   },
   {
    "duration": 35,
    "start_time": "2022-08-07T02:43:28.204Z"
   },
   {
    "duration": 46,
    "start_time": "2022-08-07T02:43:28.241Z"
   },
   {
    "duration": 26,
    "start_time": "2022-08-07T02:43:28.289Z"
   },
   {
    "duration": 732,
    "start_time": "2022-08-07T02:43:28.339Z"
   },
   {
    "duration": 1251,
    "start_time": "2022-08-07T02:43:29.072Z"
   },
   {
    "duration": 20,
    "start_time": "2022-08-07T02:43:30.325Z"
   },
   {
    "duration": 12,
    "start_time": "2022-08-07T02:43:30.347Z"
   },
   {
    "duration": 34,
    "start_time": "2022-08-07T02:43:30.361Z"
   },
   {
    "duration": 47,
    "start_time": "2022-08-07T02:43:30.397Z"
   },
   {
    "duration": 83,
    "start_time": "2022-08-07T02:43:30.445Z"
   },
   {
    "duration": 70,
    "start_time": "2022-08-07T02:43:30.530Z"
   },
   {
    "duration": 55,
    "start_time": "2022-08-07T02:43:30.602Z"
   },
   {
    "duration": 18,
    "start_time": "2022-08-07T02:43:30.659Z"
   },
   {
    "duration": 82,
    "start_time": "2022-08-07T02:43:30.679Z"
   },
   {
    "duration": 17,
    "start_time": "2022-08-07T02:43:30.763Z"
   },
   {
    "duration": 7,
    "start_time": "2022-08-07T02:43:30.783Z"
   },
   {
    "duration": 26,
    "start_time": "2022-08-07T02:43:30.792Z"
   },
   {
    "duration": 51,
    "start_time": "2022-08-07T02:43:30.820Z"
   },
   {
    "duration": 74,
    "start_time": "2022-08-07T02:43:30.875Z"
   },
   {
    "duration": 39,
    "start_time": "2022-08-07T02:43:30.951Z"
   },
   {
    "duration": 146,
    "start_time": "2022-08-07T02:43:30.992Z"
   },
   {
    "duration": 1538,
    "start_time": "2022-08-07T03:06:49.648Z"
   },
   {
    "duration": 194,
    "start_time": "2022-08-07T03:06:51.188Z"
   },
   {
    "duration": 16,
    "start_time": "2022-08-07T03:06:51.384Z"
   },
   {
    "duration": 126,
    "start_time": "2022-08-07T03:06:51.402Z"
   },
   {
    "duration": 54,
    "start_time": "2022-08-07T03:06:51.529Z"
   },
   {
    "duration": 57,
    "start_time": "2022-08-07T03:06:51.585Z"
   },
   {
    "duration": 28,
    "start_time": "2022-08-07T03:06:51.644Z"
   },
   {
    "duration": 6,
    "start_time": "2022-08-07T03:06:51.674Z"
   },
   {
    "duration": 37,
    "start_time": "2022-08-07T03:06:51.681Z"
   },
   {
    "duration": 33,
    "start_time": "2022-08-07T03:06:51.740Z"
   },
   {
    "duration": 63,
    "start_time": "2022-08-07T03:06:51.775Z"
   },
   {
    "duration": 28,
    "start_time": "2022-08-07T03:06:51.840Z"
   },
   {
    "duration": 684,
    "start_time": "2022-08-07T03:06:51.869Z"
   },
   {
    "duration": 1250,
    "start_time": "2022-08-07T03:06:52.554Z"
   },
   {
    "duration": 35,
    "start_time": "2022-08-07T03:06:53.806Z"
   },
   {
    "duration": 6,
    "start_time": "2022-08-07T03:06:53.843Z"
   },
   {
    "duration": 22,
    "start_time": "2022-08-07T03:06:53.851Z"
   },
   {
    "duration": 7,
    "start_time": "2022-08-07T03:06:53.874Z"
   },
   {
    "duration": 119,
    "start_time": "2022-08-07T03:06:53.882Z"
   },
   {
    "duration": 72,
    "start_time": "2022-08-07T03:06:54.003Z"
   },
   {
    "duration": 40,
    "start_time": "2022-08-07T03:06:54.076Z"
   },
   {
    "duration": 29,
    "start_time": "2022-08-07T03:06:54.117Z"
   },
   {
    "duration": 62,
    "start_time": "2022-08-07T03:06:54.147Z"
   },
   {
    "duration": 32,
    "start_time": "2022-08-07T03:06:54.210Z"
   },
   {
    "duration": 5,
    "start_time": "2022-08-07T03:06:54.243Z"
   },
   {
    "duration": 8,
    "start_time": "2022-08-07T03:06:54.250Z"
   },
   {
    "duration": 38,
    "start_time": "2022-08-07T03:06:54.260Z"
   },
   {
    "duration": 80,
    "start_time": "2022-08-07T03:06:54.300Z"
   },
   {
    "duration": 37,
    "start_time": "2022-08-07T03:06:54.381Z"
   },
   {
    "duration": 130,
    "start_time": "2022-08-07T03:06:54.438Z"
   },
   {
    "duration": 1534,
    "start_time": "2022-08-07T03:07:34.624Z"
   },
   {
    "duration": 203,
    "start_time": "2022-08-07T03:07:36.161Z"
   },
   {
    "duration": 16,
    "start_time": "2022-08-07T03:07:36.366Z"
   },
   {
    "duration": 137,
    "start_time": "2022-08-07T03:07:36.384Z"
   },
   {
    "duration": 56,
    "start_time": "2022-08-07T03:07:36.522Z"
   },
   {
    "duration": 58,
    "start_time": "2022-08-07T03:07:36.580Z"
   },
   {
    "duration": 29,
    "start_time": "2022-08-07T03:07:36.640Z"
   },
   {
    "duration": 6,
    "start_time": "2022-08-07T03:07:36.670Z"
   },
   {
    "duration": 34,
    "start_time": "2022-08-07T03:07:36.678Z"
   },
   {
    "duration": 38,
    "start_time": "2022-08-07T03:07:36.738Z"
   },
   {
    "duration": 64,
    "start_time": "2022-08-07T03:07:36.778Z"
   },
   {
    "duration": 28,
    "start_time": "2022-08-07T03:07:36.844Z"
   },
   {
    "duration": 678,
    "start_time": "2022-08-07T03:07:36.874Z"
   },
   {
    "duration": 1323,
    "start_time": "2022-08-07T03:07:37.554Z"
   },
   {
    "duration": 19,
    "start_time": "2022-08-07T03:07:38.879Z"
   },
   {
    "duration": 40,
    "start_time": "2022-08-07T03:07:38.900Z"
   },
   {
    "duration": 22,
    "start_time": "2022-08-07T03:07:38.943Z"
   },
   {
    "duration": 6,
    "start_time": "2022-08-07T03:07:38.967Z"
   },
   {
    "duration": 122,
    "start_time": "2022-08-07T03:07:38.974Z"
   },
   {
    "duration": 66,
    "start_time": "2022-08-07T03:07:39.098Z"
   },
   {
    "duration": 39,
    "start_time": "2022-08-07T03:07:39.166Z"
   },
   {
    "duration": 33,
    "start_time": "2022-08-07T03:07:39.207Z"
   },
   {
    "duration": 60,
    "start_time": "2022-08-07T03:07:39.242Z"
   },
   {
    "duration": 16,
    "start_time": "2022-08-07T03:07:39.304Z"
   },
   {
    "duration": 4,
    "start_time": "2022-08-07T03:07:39.338Z"
   },
   {
    "duration": 10,
    "start_time": "2022-08-07T03:07:39.343Z"
   },
   {
    "duration": 31,
    "start_time": "2022-08-07T03:07:39.354Z"
   },
   {
    "duration": 71,
    "start_time": "2022-08-07T03:07:39.388Z"
   },
   {
    "duration": 43,
    "start_time": "2022-08-07T03:07:39.461Z"
   },
   {
    "duration": 143,
    "start_time": "2022-08-07T03:07:39.506Z"
   },
   {
    "duration": 1384,
    "start_time": "2022-08-07T05:06:41.532Z"
   },
   {
    "duration": 543,
    "start_time": "2022-08-07T05:06:42.918Z"
   },
   {
    "duration": 17,
    "start_time": "2022-08-07T05:06:43.463Z"
   },
   {
    "duration": 120,
    "start_time": "2022-08-07T05:06:43.482Z"
   },
   {
    "duration": 50,
    "start_time": "2022-08-07T05:06:43.603Z"
   },
   {
    "duration": 64,
    "start_time": "2022-08-07T05:06:43.654Z"
   },
   {
    "duration": 31,
    "start_time": "2022-08-07T05:06:43.720Z"
   },
   {
    "duration": 8,
    "start_time": "2022-08-07T05:06:43.753Z"
   },
   {
    "duration": 57,
    "start_time": "2022-08-07T05:06:43.762Z"
   },
   {
    "duration": 32,
    "start_time": "2022-08-07T05:06:43.821Z"
   },
   {
    "duration": 65,
    "start_time": "2022-08-07T05:06:43.855Z"
   },
   {
    "duration": 27,
    "start_time": "2022-08-07T05:06:43.922Z"
   },
   {
    "duration": 696,
    "start_time": "2022-08-07T05:06:43.950Z"
   },
   {
    "duration": 1405,
    "start_time": "2022-08-07T05:06:44.648Z"
   },
   {
    "duration": 13,
    "start_time": "2022-08-07T05:06:46.055Z"
   },
   {
    "duration": 6,
    "start_time": "2022-08-07T05:06:46.070Z"
   },
   {
    "duration": 50,
    "start_time": "2022-08-07T05:06:46.078Z"
   },
   {
    "duration": 7,
    "start_time": "2022-08-07T05:06:46.129Z"
   },
   {
    "duration": 118,
    "start_time": "2022-08-07T05:06:46.137Z"
   },
   {
    "duration": 68,
    "start_time": "2022-08-07T05:06:46.256Z"
   },
   {
    "duration": 38,
    "start_time": "2022-08-07T05:06:46.326Z"
   },
   {
    "duration": 26,
    "start_time": "2022-08-07T05:06:46.366Z"
   },
   {
    "duration": 68,
    "start_time": "2022-08-07T05:06:46.393Z"
   },
   {
    "duration": 16,
    "start_time": "2022-08-07T05:06:46.463Z"
   },
   {
    "duration": 5,
    "start_time": "2022-08-07T05:06:46.480Z"
   },
   {
    "duration": 27,
    "start_time": "2022-08-07T05:06:46.486Z"
   },
   {
    "duration": 33,
    "start_time": "2022-08-07T05:06:46.515Z"
   },
   {
    "duration": 71,
    "start_time": "2022-08-07T05:06:46.551Z"
   },
   {
    "duration": 40,
    "start_time": "2022-08-07T05:06:46.624Z"
   },
   {
    "duration": 149,
    "start_time": "2022-08-07T05:06:46.665Z"
   },
   {
    "duration": 4,
    "start_time": "2022-08-07T05:12:48.117Z"
   },
   {
    "duration": 54,
    "start_time": "2022-08-07T12:47:16.533Z"
   },
   {
    "duration": 41,
    "start_time": "2022-08-07T12:52:07.346Z"
   },
   {
    "duration": 1390,
    "start_time": "2022-08-07T12:52:10.814Z"
   },
   {
    "duration": 677,
    "start_time": "2022-08-07T12:52:12.206Z"
   },
   {
    "duration": 15,
    "start_time": "2022-08-07T12:52:12.885Z"
   },
   {
    "duration": 116,
    "start_time": "2022-08-07T12:52:12.902Z"
   },
   {
    "duration": 56,
    "start_time": "2022-08-07T12:52:13.019Z"
   },
   {
    "duration": 48,
    "start_time": "2022-08-07T12:52:13.077Z"
   },
   {
    "duration": 38,
    "start_time": "2022-08-07T12:52:13.127Z"
   },
   {
    "duration": 6,
    "start_time": "2022-08-07T12:52:13.166Z"
   },
   {
    "duration": 34,
    "start_time": "2022-08-07T12:52:13.173Z"
   },
   {
    "duration": 55,
    "start_time": "2022-08-07T12:52:13.209Z"
   },
   {
    "duration": 43,
    "start_time": "2022-08-07T12:52:13.265Z"
   },
   {
    "duration": 41,
    "start_time": "2022-08-07T12:52:13.310Z"
   },
   {
    "duration": 725,
    "start_time": "2022-08-07T12:52:13.352Z"
   },
   {
    "duration": 1862,
    "start_time": "2022-08-07T12:52:14.079Z"
   },
   {
    "duration": 13,
    "start_time": "2022-08-07T12:52:15.942Z"
   },
   {
    "duration": 7,
    "start_time": "2022-08-07T12:52:20.810Z"
   },
   {
    "duration": 7,
    "start_time": "2022-08-07T12:54:31.905Z"
   },
   {
    "duration": 6,
    "start_time": "2022-08-07T12:54:44.978Z"
   },
   {
    "duration": 7,
    "start_time": "2022-08-07T12:54:55.370Z"
   },
   {
    "duration": 7,
    "start_time": "2022-08-07T12:54:59.893Z"
   },
   {
    "duration": 1139,
    "start_time": "2022-08-07T12:55:55.071Z"
   },
   {
    "duration": 218,
    "start_time": "2022-08-07T12:55:56.212Z"
   },
   {
    "duration": 16,
    "start_time": "2022-08-07T12:55:56.431Z"
   },
   {
    "duration": 119,
    "start_time": "2022-08-07T12:55:56.449Z"
   },
   {
    "duration": 49,
    "start_time": "2022-08-07T12:55:56.570Z"
   },
   {
    "duration": 62,
    "start_time": "2022-08-07T12:55:56.620Z"
   },
   {
    "duration": 30,
    "start_time": "2022-08-07T12:55:56.683Z"
   },
   {
    "duration": 23,
    "start_time": "2022-08-07T12:55:56.715Z"
   },
   {
    "duration": 34,
    "start_time": "2022-08-07T12:55:56.740Z"
   },
   {
    "duration": 32,
    "start_time": "2022-08-07T12:55:56.777Z"
   },
   {
    "duration": 65,
    "start_time": "2022-08-07T12:55:56.810Z"
   },
   {
    "duration": 28,
    "start_time": "2022-08-07T12:55:56.876Z"
   },
   {
    "duration": 691,
    "start_time": "2022-08-07T12:55:56.906Z"
   },
   {
    "duration": 1234,
    "start_time": "2022-08-07T12:55:57.599Z"
   },
   {
    "duration": 16,
    "start_time": "2022-08-07T12:55:58.835Z"
   },
   {
    "duration": 9,
    "start_time": "2022-08-07T12:55:58.853Z"
   },
   {
    "duration": 81,
    "start_time": "2022-08-07T12:55:58.864Z"
   },
   {
    "duration": 9,
    "start_time": "2022-08-07T12:55:58.947Z"
   },
   {
    "duration": 110,
    "start_time": "2022-08-07T12:55:58.958Z"
   },
   {
    "duration": 82,
    "start_time": "2022-08-07T12:55:59.070Z"
   },
   {
    "duration": 49,
    "start_time": "2022-08-07T12:55:59.153Z"
   },
   {
    "duration": 35,
    "start_time": "2022-08-07T12:55:59.203Z"
   },
   {
    "duration": 61,
    "start_time": "2022-08-07T12:55:59.239Z"
   },
   {
    "duration": 18,
    "start_time": "2022-08-07T12:55:59.302Z"
   },
   {
    "duration": 19,
    "start_time": "2022-08-07T12:55:59.321Z"
   },
   {
    "duration": 12,
    "start_time": "2022-08-07T12:55:59.341Z"
   },
   {
    "duration": 32,
    "start_time": "2022-08-07T12:55:59.354Z"
   },
   {
    "duration": 72,
    "start_time": "2022-08-07T12:55:59.389Z"
   },
   {
    "duration": 37,
    "start_time": "2022-08-07T12:55:59.463Z"
   },
   {
    "duration": 149,
    "start_time": "2022-08-07T12:55:59.501Z"
   },
   {
    "duration": 38,
    "start_time": "2022-08-07T12:57:35.885Z"
   },
   {
    "duration": 10,
    "start_time": "2022-08-07T12:57:36.373Z"
   },
   {
    "duration": 4,
    "start_time": "2022-08-07T13:08:41.471Z"
   },
   {
    "duration": 7,
    "start_time": "2022-08-07T13:08:42.962Z"
   },
   {
    "duration": 35,
    "start_time": "2022-08-07T13:08:43.622Z"
   },
   {
    "duration": 64,
    "start_time": "2022-08-07T13:12:10.000Z"
   },
   {
    "duration": 38,
    "start_time": "2022-08-07T13:12:23.763Z"
   },
   {
    "duration": 158,
    "start_time": "2022-08-07T13:12:28.896Z"
   },
   {
    "duration": 155,
    "start_time": "2022-08-07T13:14:07.802Z"
   },
   {
    "duration": 5,
    "start_time": "2022-08-07T13:15:50.524Z"
   },
   {
    "duration": 9,
    "start_time": "2022-08-07T13:15:52.009Z"
   },
   {
    "duration": 31,
    "start_time": "2022-08-07T13:15:52.701Z"
   },
   {
    "duration": 150,
    "start_time": "2022-08-07T13:15:58.323Z"
   },
   {
    "duration": 43,
    "start_time": "2022-08-07T13:16:03.774Z"
   },
   {
    "duration": 157,
    "start_time": "2022-08-07T13:16:06.763Z"
   },
   {
    "duration": 6,
    "start_time": "2022-08-07T13:16:30.456Z"
   },
   {
    "duration": 7,
    "start_time": "2022-08-07T13:16:31.626Z"
   },
   {
    "duration": 37,
    "start_time": "2022-08-07T13:16:31.826Z"
   },
   {
    "duration": 57,
    "start_time": "2022-08-07T13:16:32.751Z"
   },
   {
    "duration": 39,
    "start_time": "2022-08-07T13:16:42.799Z"
   },
   {
    "duration": 120,
    "start_time": "2022-08-07T13:16:45.265Z"
   },
   {
    "duration": 1300,
    "start_time": "2022-08-07T13:21:10.534Z"
   },
   {
    "duration": 262,
    "start_time": "2022-08-07T13:21:11.836Z"
   },
   {
    "duration": 15,
    "start_time": "2022-08-07T13:21:12.100Z"
   },
   {
    "duration": 161,
    "start_time": "2022-08-07T13:21:12.117Z"
   },
   {
    "duration": 61,
    "start_time": "2022-08-07T13:21:12.279Z"
   },
   {
    "duration": 58,
    "start_time": "2022-08-07T13:21:12.343Z"
   },
   {
    "duration": 52,
    "start_time": "2022-08-07T13:21:12.403Z"
   },
   {
    "duration": 6,
    "start_time": "2022-08-07T13:21:12.457Z"
   },
   {
    "duration": 52,
    "start_time": "2022-08-07T13:21:12.465Z"
   },
   {
    "duration": 44,
    "start_time": "2022-08-07T13:21:12.519Z"
   },
   {
    "duration": 59,
    "start_time": "2022-08-07T13:21:12.565Z"
   },
   {
    "duration": 40,
    "start_time": "2022-08-07T13:21:12.626Z"
   },
   {
    "duration": 781,
    "start_time": "2022-08-07T13:21:12.668Z"
   },
   {
    "duration": 1481,
    "start_time": "2022-08-07T13:21:13.452Z"
   },
   {
    "duration": 22,
    "start_time": "2022-08-07T13:21:14.935Z"
   },
   {
    "duration": 10,
    "start_time": "2022-08-07T13:21:14.960Z"
   },
   {
    "duration": 76,
    "start_time": "2022-08-07T13:21:14.972Z"
   },
   {
    "duration": 14,
    "start_time": "2022-08-07T13:21:15.050Z"
   },
   {
    "duration": 112,
    "start_time": "2022-08-07T13:21:15.066Z"
   },
   {
    "duration": 84,
    "start_time": "2022-08-07T13:21:15.179Z"
   },
   {
    "duration": 40,
    "start_time": "2022-08-07T13:21:15.264Z"
   },
   {
    "duration": 15,
    "start_time": "2022-08-07T13:21:15.305Z"
   },
   {
    "duration": 83,
    "start_time": "2022-08-07T13:21:15.322Z"
   },
   {
    "duration": 32,
    "start_time": "2022-08-07T13:21:15.407Z"
   },
   {
    "duration": 16,
    "start_time": "2022-08-07T13:21:15.441Z"
   },
   {
    "duration": 17,
    "start_time": "2022-08-07T13:21:15.458Z"
   },
   {
    "duration": 38,
    "start_time": "2022-08-07T13:21:15.477Z"
   },
   {
    "duration": 66,
    "start_time": "2022-08-07T13:21:15.518Z"
   },
   {
    "duration": 61,
    "start_time": "2022-08-07T13:21:15.586Z"
   },
   {
    "duration": 154,
    "start_time": "2022-08-07T13:21:15.650Z"
   },
   {
    "duration": 1231,
    "start_time": "2022-08-07T13:23:19.790Z"
   },
   {
    "duration": 246,
    "start_time": "2022-08-07T13:23:21.023Z"
   },
   {
    "duration": 15,
    "start_time": "2022-08-07T13:23:21.271Z"
   },
   {
    "duration": 139,
    "start_time": "2022-08-07T13:23:21.288Z"
   },
   {
    "duration": 73,
    "start_time": "2022-08-07T13:23:21.429Z"
   },
   {
    "duration": 69,
    "start_time": "2022-08-07T13:23:21.504Z"
   },
   {
    "duration": 30,
    "start_time": "2022-08-07T13:23:21.575Z"
   },
   {
    "duration": 7,
    "start_time": "2022-08-07T13:23:21.607Z"
   },
   {
    "duration": 62,
    "start_time": "2022-08-07T13:23:21.616Z"
   },
   {
    "duration": 36,
    "start_time": "2022-08-07T13:23:21.681Z"
   },
   {
    "duration": 75,
    "start_time": "2022-08-07T13:23:21.719Z"
   },
   {
    "duration": 54,
    "start_time": "2022-08-07T13:23:21.795Z"
   },
   {
    "duration": 778,
    "start_time": "2022-08-07T13:23:21.851Z"
   },
   {
    "duration": 1467,
    "start_time": "2022-08-07T13:23:22.631Z"
   },
   {
    "duration": 14,
    "start_time": "2022-08-07T13:23:24.101Z"
   },
   {
    "duration": 10,
    "start_time": "2022-08-07T13:23:24.140Z"
   },
   {
    "duration": 42,
    "start_time": "2022-08-07T13:23:24.152Z"
   },
   {
    "duration": 10,
    "start_time": "2022-08-07T13:23:24.239Z"
   },
   {
    "duration": 109,
    "start_time": "2022-08-07T13:23:24.251Z"
   },
   {
    "duration": 67,
    "start_time": "2022-08-07T13:23:24.364Z"
   },
   {
    "duration": 52,
    "start_time": "2022-08-07T13:23:24.433Z"
   },
   {
    "duration": 16,
    "start_time": "2022-08-07T13:23:24.487Z"
   },
   {
    "duration": 106,
    "start_time": "2022-08-07T13:23:24.505Z"
   },
   {
    "duration": 26,
    "start_time": "2022-08-07T13:23:24.613Z"
   },
   {
    "duration": 6,
    "start_time": "2022-08-07T13:23:24.642Z"
   },
   {
    "duration": 24,
    "start_time": "2022-08-07T13:23:24.650Z"
   },
   {
    "duration": 35,
    "start_time": "2022-08-07T13:23:24.675Z"
   },
   {
    "duration": 83,
    "start_time": "2022-08-07T13:23:24.714Z"
   },
   {
    "duration": 60,
    "start_time": "2022-08-07T13:23:24.799Z"
   },
   {
    "duration": 159,
    "start_time": "2022-08-07T13:23:24.861Z"
   }
  ],
  "kernelspec": {
   "display_name": "Python 3 (ipykernel)",
   "language": "python",
   "name": "python3"
  },
  "language_info": {
   "codemirror_mode": {
    "name": "ipython",
    "version": 3
   },
   "file_extension": ".py",
   "mimetype": "text/x-python",
   "name": "python",
   "nbconvert_exporter": "python",
   "pygments_lexer": "ipython3",
   "version": "3.9.7"
  },
  "toc": {
   "base_numbering": 1,
   "nav_menu": {},
   "number_sections": true,
   "sideBar": true,
   "skip_h1_title": true,
   "title_cell": "Table of Contents",
   "title_sidebar": "Contents",
   "toc_cell": false,
   "toc_position": {},
   "toc_section_display": true,
   "toc_window_display": false
  }
 },
 "nbformat": 4,
 "nbformat_minor": 2
}
