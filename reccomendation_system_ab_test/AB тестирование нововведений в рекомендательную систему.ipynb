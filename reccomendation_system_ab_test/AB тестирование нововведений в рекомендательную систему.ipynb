{
 "cells": [
  {
   "cell_type": "markdown",
   "id": "423034cb",
   "metadata": {},
   "source": [
    "# A/B-тестирование нововведений в рекомендательную систему"
   ]
  },
  {
   "cell_type": "markdown",
   "id": "837f387f",
   "metadata": {},
   "source": [
    "**Цель исследования** — провести оценку результатов A/B-теста и корректность его проведения в соответствии с техническим заданием.\n",
    "\n",
    "**Ход исследования**\n",
    "\n",
    "Данные представлены в виде нескольких таблиц, содержащих список новых пользователей и информацию об их действиях, а также вспомогательную информацию - список участников всех тестов и календарь маркетинговых событий. Необходимо провести обзор и предобработку данных - обработать возможные дубликаты и пропуски, при необходимости поменять тип данных и создать дополнительные столбцы. Затем будет проведена оценка коррекности проведения теста - данные будут сверены с требованиями технического задания и календарём маркетинговых активностей. После будет проведён исследовательский анализ данных, в ходе которого будет изучено распределение данных и конверсия воронки событий, а последним этапом станет анализ результатов проведённого теста. По результатам исследования будет сформирован общий вывод.\n",
    "\n",
    "Таким образом, исследование будет разделено на следующие этапы:\n",
    "\n",
    "1. [**Обзор и предобработка данных**](#1)\n",
    "2. [**Иследовательский анализ данных**](#2)\n",
    "3. [**Анализ результатов тестирования**](#3)\n",
    "4. [**Общий вывод**](#4)\n",
    "___\n",
    "\n",
    "**Техническое задание**\n",
    "\n",
    "- Название теста: `recommender_system_test`;\n",
    "- группы: А — контрольная, B — новая платёжная воронка;\n",
    "- дата запуска: 2020-12-07;\n",
    "- дата остановки набора новых пользователей: 2020-12-21;\n",
    "- дата остановки: 2021-01-04;\n",
    "- аудитория: 15% новых пользователей из региона EU;\n",
    "- назначение теста: тестирование изменений, связанных с внедрением улучшенной рекомендательной системы;\n",
    "- ожидаемое количество участников теста: 6000.\n",
    "- ожидаемый эффект: за 14 дней с момента регистрации пользователи покажут улучшение каждой метрики не менее, чем на 10%:\n",
    "    - конверсии в просмотр карточек товаров — событие `product_page`,\n",
    "    - просмотры корзины — `product_cart`,\n",
    "    - покупки — `purchase`."
   ]
  },
  {
   "cell_type": "markdown",
   "id": "318c56d0",
   "metadata": {},
   "source": [
    "<a id='1'></a>\n",
    "## Обзор и предобработка данных\n",
    "Сначали импортируем все необходимые таблицы с данными и рассмотрим каждую по отдельности."
   ]
  },
  {
   "cell_type": "code",
   "execution_count": 1,
   "id": "ab91ce93",
   "metadata": {},
   "outputs": [],
   "source": [
    "# импортируем библиотеки для работы с данными\n",
    "\n",
    "import os\n",
    "import pandas as pd\n",
    "import numpy as np\n",
    "from scipy import stats as st\n",
    "import math as mth\n",
    "import seaborn as sns\n",
    "import plotly.express as px\n",
    "from matplotlib import pyplot as plt\n",
    "from plotly import graph_objects as go\n",
    "\n",
    "# настройки отображения и рабочей среды\n",
    "\n",
    "pd.options.display.float_format = '{:,.2f}'.format\n",
    "pd.options.mode.chained_assignment = None\n",
    "sns.set_style('darkgrid')\n",
    "sns.set(font_scale = 2)\n",
    "plt.rcParams.update({'axes.labelsize': 15,'axes.titlesize': 25})\n",
    "os.chdir('C:\\\\Users\\\\dmitr\\\\GitHub\\\\Practicum-Data-Analysis\\\\datasets')"
   ]
  },
  {
   "cell_type": "code",
   "execution_count": 2,
   "id": "1e00565e",
   "metadata": {},
   "outputs": [],
   "source": [
    "# загружаем данные\n",
    "\n",
    "users = pd.read_csv('final_ab_new_users.csv') # новые пользователи\n",
    "user_events = pd.read_csv('final_ab_events.csv') # действия новых пользователей\n",
    "test_participants = pd.read_csv('final_ab_participants.csv') # список участников разных AB тестов\n",
    "marketing_events = pd.read_csv('ab_project_marketing_events.csv') # календарь маркетинговых событий"
   ]
  },
  {
   "cell_type": "markdown",
   "id": "f31e3273",
   "metadata": {},
   "source": [
    "___\n",
    "В ходе предобработки и обзора данных будет паралельно проводится"
   ]
  },
  {
   "cell_type": "markdown",
   "id": "b6218c5f",
   "metadata": {},
   "source": [
    "### Новые пользователи"
   ]
  },
  {
   "cell_type": "code",
   "execution_count": 3,
   "id": "55f9f508",
   "metadata": {},
   "outputs": [
    {
     "name": "stdout",
     "output_type": "stream",
     "text": [
      "<class 'pandas.core.frame.DataFrame'>\n",
      "RangeIndex: 61733 entries, 0 to 61732\n",
      "Data columns (total 4 columns):\n",
      " #   Column      Non-Null Count  Dtype \n",
      "---  ------      --------------  ----- \n",
      " 0   user_id     61733 non-null  object\n",
      " 1   first_date  61733 non-null  object\n",
      " 2   region      61733 non-null  object\n",
      " 3   device      61733 non-null  object\n",
      "dtypes: object(4)\n",
      "memory usage: 1.9+ MB\n"
     ]
    },
    {
     "data": {
      "text/html": [
       "<div>\n",
       "<style scoped>\n",
       "    .dataframe tbody tr th:only-of-type {\n",
       "        vertical-align: middle;\n",
       "    }\n",
       "\n",
       "    .dataframe tbody tr th {\n",
       "        vertical-align: top;\n",
       "    }\n",
       "\n",
       "    .dataframe thead th {\n",
       "        text-align: right;\n",
       "    }\n",
       "</style>\n",
       "<table border=\"1\" class=\"dataframe\">\n",
       "  <thead>\n",
       "    <tr style=\"text-align: right;\">\n",
       "      <th></th>\n",
       "      <th>user_id</th>\n",
       "      <th>first_date</th>\n",
       "      <th>region</th>\n",
       "      <th>device</th>\n",
       "    </tr>\n",
       "  </thead>\n",
       "  <tbody>\n",
       "    <tr>\n",
       "      <th>count</th>\n",
       "      <td>61733</td>\n",
       "      <td>61733</td>\n",
       "      <td>61733</td>\n",
       "      <td>61733</td>\n",
       "    </tr>\n",
       "    <tr>\n",
       "      <th>unique</th>\n",
       "      <td>61733</td>\n",
       "      <td>17</td>\n",
       "      <td>4</td>\n",
       "      <td>4</td>\n",
       "    </tr>\n",
       "    <tr>\n",
       "      <th>top</th>\n",
       "      <td>D72A72121175D8BE</td>\n",
       "      <td>2020-12-21</td>\n",
       "      <td>EU</td>\n",
       "      <td>Android</td>\n",
       "    </tr>\n",
       "    <tr>\n",
       "      <th>freq</th>\n",
       "      <td>1</td>\n",
       "      <td>6290</td>\n",
       "      <td>46270</td>\n",
       "      <td>27520</td>\n",
       "    </tr>\n",
       "  </tbody>\n",
       "</table>\n",
       "</div>"
      ],
      "text/plain": [
       "                 user_id  first_date region   device\n",
       "count              61733       61733  61733    61733\n",
       "unique             61733          17      4        4\n",
       "top     D72A72121175D8BE  2020-12-21     EU  Android\n",
       "freq                   1        6290  46270    27520"
      ]
     },
     "metadata": {},
     "output_type": "display_data"
    },
    {
     "data": {
      "text/html": [
       "<div>\n",
       "<style scoped>\n",
       "    .dataframe tbody tr th:only-of-type {\n",
       "        vertical-align: middle;\n",
       "    }\n",
       "\n",
       "    .dataframe tbody tr th {\n",
       "        vertical-align: top;\n",
       "    }\n",
       "\n",
       "    .dataframe thead th {\n",
       "        text-align: right;\n",
       "    }\n",
       "</style>\n",
       "<table border=\"1\" class=\"dataframe\">\n",
       "  <thead>\n",
       "    <tr style=\"text-align: right;\">\n",
       "      <th></th>\n",
       "      <th>user_id</th>\n",
       "      <th>first_date</th>\n",
       "      <th>region</th>\n",
       "      <th>device</th>\n",
       "    </tr>\n",
       "  </thead>\n",
       "  <tbody>\n",
       "    <tr>\n",
       "      <th>9145</th>\n",
       "      <td>8C07103A3DCCA5CB</td>\n",
       "      <td>2020-12-14</td>\n",
       "      <td>EU</td>\n",
       "      <td>Android</td>\n",
       "    </tr>\n",
       "    <tr>\n",
       "      <th>33709</th>\n",
       "      <td>9A7EB0465E2DC590</td>\n",
       "      <td>2020-12-10</td>\n",
       "      <td>CIS</td>\n",
       "      <td>Android</td>\n",
       "    </tr>\n",
       "    <tr>\n",
       "      <th>7768</th>\n",
       "      <td>1D400F27F375EDDC</td>\n",
       "      <td>2020-12-14</td>\n",
       "      <td>CIS</td>\n",
       "      <td>PC</td>\n",
       "    </tr>\n",
       "    <tr>\n",
       "      <th>54387</th>\n",
       "      <td>006E3D14743030D4</td>\n",
       "      <td>2020-12-13</td>\n",
       "      <td>EU</td>\n",
       "      <td>Android</td>\n",
       "    </tr>\n",
       "    <tr>\n",
       "      <th>10017</th>\n",
       "      <td>9A79AAC8B0EA52AE</td>\n",
       "      <td>2020-12-14</td>\n",
       "      <td>EU</td>\n",
       "      <td>Mac</td>\n",
       "    </tr>\n",
       "  </tbody>\n",
       "</table>\n",
       "</div>"
      ],
      "text/plain": [
       "                user_id  first_date region   device\n",
       "9145   8C07103A3DCCA5CB  2020-12-14     EU  Android\n",
       "33709  9A7EB0465E2DC590  2020-12-10    CIS  Android\n",
       "7768   1D400F27F375EDDC  2020-12-14    CIS       PC\n",
       "54387  006E3D14743030D4  2020-12-13     EU  Android\n",
       "10017  9A79AAC8B0EA52AE  2020-12-14     EU      Mac"
      ]
     },
     "metadata": {},
     "output_type": "display_data"
    }
   ],
   "source": [
    "def overview(df):\n",
    "    \n",
    "    '''функция для вывода общей информации, \n",
    "       описательной статистики и нескольких случайных строк'''\n",
    "    \n",
    "    df.info()\n",
    "    display(\n",
    "        df.describe(include='all'), \n",
    "        df.sample(5, random_state=0)\n",
    "    )\n",
    "\n",
    "# таблица с пользователями    \n",
    "    \n",
    "overview(users)"
   ]
  },
  {
   "cell_type": "markdown",
   "id": "5c8951d6",
   "metadata": {},
   "source": [
    "___\n",
    "Таблица содержит 61,733 строку и 4 столбца, явные пропуски отсутствуют.\n",
    "\n",
    "Описание данных из документации:\n",
    "\n",
    "`final_ab_new_users.csv` — пользователи, зарегистрировавшиеся с 7 по 21 декабря 2020 года.\n",
    "\n",
    "Структура таблицы:\n",
    "\n",
    "- `user_id` — идентификатор пользователя;\n",
    "- `first_date` — дата регистрации;\n",
    "- `region` — регион пользователя;\n",
    "- `device` — устройство, с которого происходила регистрация.\n",
    "___"
   ]
  },
  {
   "cell_type": "markdown",
   "id": "fa52ee37",
   "metadata": {},
   "source": [
    "Дата регистрации представлены в виде текста, для корректных расчётов необходимо преобразование:"
   ]
  },
  {
   "cell_type": "code",
   "execution_count": 4,
   "id": "148418b5",
   "metadata": {},
   "outputs": [],
   "source": [
    "# меняем тип данных\n",
    "\n",
    "users['first_date'] = pd.to_datetime(users['first_date'])"
   ]
  },
  {
   "cell_type": "markdown",
   "id": "968d883f",
   "metadata": {},
   "source": [
    "Из описательной статистики таблицы видно, что все пользователи уникальны. Посмотрим на значения остальных столцов:"
   ]
  },
  {
   "cell_type": "code",
   "execution_count": 5,
   "id": "f47cbae9",
   "metadata": {},
   "outputs": [
    {
     "data": {
      "text/plain": [
       "2020-12-21    6290\n",
       "2020-12-14    5654\n",
       "2020-12-07    5595\n",
       "2020-12-13    4691\n",
       "2020-12-20    4288\n",
       "2020-12-12    3963\n",
       "2020-12-19    3617\n",
       "2020-12-18    3365\n",
       "2020-12-08    3239\n",
       "2020-12-22    3083\n",
       "2020-12-10    3076\n",
       "2020-12-17    3048\n",
       "2020-12-15    3043\n",
       "2020-12-11    2390\n",
       "2020-12-23    2180\n",
       "2020-12-16    2110\n",
       "2020-12-09    2101\n",
       "Name: first_date, dtype: int64"
      ]
     },
     "execution_count": 5,
     "metadata": {},
     "output_type": "execute_result"
    }
   ],
   "source": [
    "# посмотрим на даты регистрации\n",
    "\n",
    "users['first_date'].value_counts()"
   ]
  },
  {
   "cell_type": "markdown",
   "id": "52aa2719",
   "metadata": {},
   "source": [
    "- Абсолютное большинство пользователей зарегестрировались в последний день рассматриваемого периода."
   ]
  },
  {
   "cell_type": "code",
   "execution_count": 6,
   "id": "94e7752c",
   "metadata": {},
   "outputs": [
    {
     "data": {
      "text/plain": [
       "EU           46270\n",
       "N.America     9155\n",
       "CIS           3155\n",
       "APAC          3153\n",
       "Name: region, dtype: int64"
      ]
     },
     "execution_count": 6,
     "metadata": {},
     "output_type": "execute_result"
    }
   ],
   "source": [
    "# посмотрим на регионы\n",
    "\n",
    "users['region'].value_counts()"
   ]
  },
  {
   "cell_type": "markdown",
   "id": "56d38b3a",
   "metadata": {},
   "source": [
    "- В данных присутствуют пользователи из четырёх регионов, большая часть представляет регион `EU`"
   ]
  },
  {
   "cell_type": "code",
   "execution_count": 7,
   "id": "f1beca82",
   "metadata": {},
   "outputs": [
    {
     "data": {
      "text/plain": [
       "Android    27520\n",
       "PC         15599\n",
       "iPhone     12530\n",
       "Mac         6084\n",
       "Name: device, dtype: int64"
      ]
     },
     "execution_count": 7,
     "metadata": {},
     "output_type": "execute_result"
    }
   ],
   "source": [
    "# посмотрим на пользовательские устройства\n",
    "\n",
    "users['device'].value_counts()"
   ]
  },
  {
   "cell_type": "markdown",
   "id": "fe51124a",
   "metadata": {},
   "source": [
    "- Подавляющее больщинство пользователей используют устройство на базе `Android`"
   ]
  },
  {
   "cell_type": "markdown",
   "id": "776b527f",
   "metadata": {},
   "source": [
    "### Действия новых пользователей"
   ]
  },
  {
   "cell_type": "code",
   "execution_count": 8,
   "id": "a2a86e61",
   "metadata": {},
   "outputs": [
    {
     "name": "stdout",
     "output_type": "stream",
     "text": [
      "<class 'pandas.core.frame.DataFrame'>\n",
      "RangeIndex: 440317 entries, 0 to 440316\n",
      "Data columns (total 4 columns):\n",
      " #   Column      Non-Null Count   Dtype  \n",
      "---  ------      --------------   -----  \n",
      " 0   user_id     440317 non-null  object \n",
      " 1   event_dt    440317 non-null  object \n",
      " 2   event_name  440317 non-null  object \n",
      " 3   details     62740 non-null   float64\n",
      "dtypes: float64(1), object(3)\n",
      "memory usage: 13.4+ MB\n"
     ]
    },
    {
     "data": {
      "text/html": [
       "<div>\n",
       "<style scoped>\n",
       "    .dataframe tbody tr th:only-of-type {\n",
       "        vertical-align: middle;\n",
       "    }\n",
       "\n",
       "    .dataframe tbody tr th {\n",
       "        vertical-align: top;\n",
       "    }\n",
       "\n",
       "    .dataframe thead th {\n",
       "        text-align: right;\n",
       "    }\n",
       "</style>\n",
       "<table border=\"1\" class=\"dataframe\">\n",
       "  <thead>\n",
       "    <tr style=\"text-align: right;\">\n",
       "      <th></th>\n",
       "      <th>user_id</th>\n",
       "      <th>event_dt</th>\n",
       "      <th>event_name</th>\n",
       "      <th>details</th>\n",
       "    </tr>\n",
       "  </thead>\n",
       "  <tbody>\n",
       "    <tr>\n",
       "      <th>count</th>\n",
       "      <td>440317</td>\n",
       "      <td>440317</td>\n",
       "      <td>440317</td>\n",
       "      <td>62,740.00</td>\n",
       "    </tr>\n",
       "    <tr>\n",
       "      <th>unique</th>\n",
       "      <td>58703</td>\n",
       "      <td>267268</td>\n",
       "      <td>4</td>\n",
       "      <td>NaN</td>\n",
       "    </tr>\n",
       "    <tr>\n",
       "      <th>top</th>\n",
       "      <td>A3917F81482141F2</td>\n",
       "      <td>2020-12-23 02:37:24</td>\n",
       "      <td>login</td>\n",
       "      <td>NaN</td>\n",
       "    </tr>\n",
       "    <tr>\n",
       "      <th>freq</th>\n",
       "      <td>36</td>\n",
       "      <td>10</td>\n",
       "      <td>189552</td>\n",
       "      <td>NaN</td>\n",
       "    </tr>\n",
       "    <tr>\n",
       "      <th>mean</th>\n",
       "      <td>NaN</td>\n",
       "      <td>NaN</td>\n",
       "      <td>NaN</td>\n",
       "      <td>23.88</td>\n",
       "    </tr>\n",
       "    <tr>\n",
       "      <th>std</th>\n",
       "      <td>NaN</td>\n",
       "      <td>NaN</td>\n",
       "      <td>NaN</td>\n",
       "      <td>72.18</td>\n",
       "    </tr>\n",
       "    <tr>\n",
       "      <th>min</th>\n",
       "      <td>NaN</td>\n",
       "      <td>NaN</td>\n",
       "      <td>NaN</td>\n",
       "      <td>4.99</td>\n",
       "    </tr>\n",
       "    <tr>\n",
       "      <th>25%</th>\n",
       "      <td>NaN</td>\n",
       "      <td>NaN</td>\n",
       "      <td>NaN</td>\n",
       "      <td>4.99</td>\n",
       "    </tr>\n",
       "    <tr>\n",
       "      <th>50%</th>\n",
       "      <td>NaN</td>\n",
       "      <td>NaN</td>\n",
       "      <td>NaN</td>\n",
       "      <td>4.99</td>\n",
       "    </tr>\n",
       "    <tr>\n",
       "      <th>75%</th>\n",
       "      <td>NaN</td>\n",
       "      <td>NaN</td>\n",
       "      <td>NaN</td>\n",
       "      <td>9.99</td>\n",
       "    </tr>\n",
       "    <tr>\n",
       "      <th>max</th>\n",
       "      <td>NaN</td>\n",
       "      <td>NaN</td>\n",
       "      <td>NaN</td>\n",
       "      <td>499.99</td>\n",
       "    </tr>\n",
       "  </tbody>\n",
       "</table>\n",
       "</div>"
      ],
      "text/plain": [
       "                 user_id             event_dt event_name   details\n",
       "count             440317               440317     440317 62,740.00\n",
       "unique             58703               267268          4       NaN\n",
       "top     A3917F81482141F2  2020-12-23 02:37:24      login       NaN\n",
       "freq                  36                   10     189552       NaN\n",
       "mean                 NaN                  NaN        NaN     23.88\n",
       "std                  NaN                  NaN        NaN     72.18\n",
       "min                  NaN                  NaN        NaN      4.99\n",
       "25%                  NaN                  NaN        NaN      4.99\n",
       "50%                  NaN                  NaN        NaN      4.99\n",
       "75%                  NaN                  NaN        NaN      9.99\n",
       "max                  NaN                  NaN        NaN    499.99"
      ]
     },
     "metadata": {},
     "output_type": "display_data"
    },
    {
     "data": {
      "text/html": [
       "<div>\n",
       "<style scoped>\n",
       "    .dataframe tbody tr th:only-of-type {\n",
       "        vertical-align: middle;\n",
       "    }\n",
       "\n",
       "    .dataframe tbody tr th {\n",
       "        vertical-align: top;\n",
       "    }\n",
       "\n",
       "    .dataframe thead th {\n",
       "        text-align: right;\n",
       "    }\n",
       "</style>\n",
       "<table border=\"1\" class=\"dataframe\">\n",
       "  <thead>\n",
       "    <tr style=\"text-align: right;\">\n",
       "      <th></th>\n",
       "      <th>user_id</th>\n",
       "      <th>event_dt</th>\n",
       "      <th>event_name</th>\n",
       "      <th>details</th>\n",
       "    </tr>\n",
       "  </thead>\n",
       "  <tbody>\n",
       "    <tr>\n",
       "      <th>390825</th>\n",
       "      <td>355E781F2D95012A</td>\n",
       "      <td>2020-12-22 16:15:15</td>\n",
       "      <td>login</td>\n",
       "      <td>NaN</td>\n",
       "    </tr>\n",
       "    <tr>\n",
       "      <th>82196</th>\n",
       "      <td>25CDE8C43F052564</td>\n",
       "      <td>2020-12-15 16:12:06</td>\n",
       "      <td>product_cart</td>\n",
       "      <td>NaN</td>\n",
       "    </tr>\n",
       "    <tr>\n",
       "      <th>211107</th>\n",
       "      <td>8857321F4D97B089</td>\n",
       "      <td>2020-12-22 15:56:32</td>\n",
       "      <td>product_page</td>\n",
       "      <td>NaN</td>\n",
       "    </tr>\n",
       "    <tr>\n",
       "      <th>182271</th>\n",
       "      <td>6F28139FA1E8EF98</td>\n",
       "      <td>2020-12-18 10:11:55</td>\n",
       "      <td>product_page</td>\n",
       "      <td>NaN</td>\n",
       "    </tr>\n",
       "    <tr>\n",
       "      <th>380348</th>\n",
       "      <td>CD104B18BF9D39BE</td>\n",
       "      <td>2020-12-21 21:02:39</td>\n",
       "      <td>login</td>\n",
       "      <td>NaN</td>\n",
       "    </tr>\n",
       "  </tbody>\n",
       "</table>\n",
       "</div>"
      ],
      "text/plain": [
       "                 user_id             event_dt    event_name  details\n",
       "390825  355E781F2D95012A  2020-12-22 16:15:15         login      NaN\n",
       "82196   25CDE8C43F052564  2020-12-15 16:12:06  product_cart      NaN\n",
       "211107  8857321F4D97B089  2020-12-22 15:56:32  product_page      NaN\n",
       "182271  6F28139FA1E8EF98  2020-12-18 10:11:55  product_page      NaN\n",
       "380348  CD104B18BF9D39BE  2020-12-21 21:02:39         login      NaN"
      ]
     },
     "metadata": {},
     "output_type": "display_data"
    }
   ],
   "source": [
    "# таблица с логами пользовательских событий\n",
    "\n",
    "overview(user_events)"
   ]
  },
  {
   "cell_type": "markdown",
   "id": "d2e940c1",
   "metadata": {},
   "source": [
    "___\n",
    "Таблица содержит 440,317 строк и 4 столбца. Явные пропуски наблюдаются только в столбце `details`.\n",
    "\n",
    "Описание данных согласно документации:\n",
    "\n",
    "`final_ab_events.csv` — действия новых пользователей в период с 7 декабря 2020 по 4 января 2021 года.\n",
    "\n",
    "Структура таблицы:\n",
    "\n",
    "- `user_id` — идентификатор пользователя;\n",
    "- `event_dt` — дата и время покупки;\n",
    "- `event_name` — тип события;\n",
    "- `details` — дополнительные данные о событии. Например, для покупок, `purchase,` в этом поле хранится стоимость покупки в долларах.\n",
    "____"
   ]
  },
  {
   "cell_type": "markdown",
   "id": "dc1f8468",
   "metadata": {},
   "source": [
    "- Количество уникальных пользователей таблицы с пользовательскими событиями (*58,703*) не совпадает с количеством из таблицы со всеми новыми пользователями (*61,733*) - это указывает на то, что часть пользователей не совершали никаких активностей, что должно быть учтено при анализе результатов теста."
   ]
  },
  {
   "cell_type": "markdown",
   "id": "a72a22fa",
   "metadata": {},
   "source": [
    "Даты в этой таблице также представлены в виде текста, сделаем преобразование:"
   ]
  },
  {
   "cell_type": "code",
   "execution_count": 9,
   "id": "8503d8e7",
   "metadata": {},
   "outputs": [],
   "source": [
    "# меняем тип данных\n",
    "\n",
    "user_events['event_dt'] = pd.to_datetime(user_events['event_dt'])"
   ]
  },
  {
   "cell_type": "markdown",
   "id": "708d2fc2",
   "metadata": {},
   "source": [
    "Изучим уникальные типы событий:"
   ]
  },
  {
   "cell_type": "code",
   "execution_count": 10,
   "id": "11d4ebd7",
   "metadata": {},
   "outputs": [
    {
     "data": {
      "text/plain": [
       "login           189552\n",
       "product_page    125563\n",
       "purchase         62740\n",
       "product_cart     62462\n",
       "Name: event_name, dtype: int64"
      ]
     },
     "execution_count": 10,
     "metadata": {},
     "output_type": "execute_result"
    }
   ],
   "source": [
    "# смотрим уникальные значения\n",
    "\n",
    "user_events['event_name'].value_counts()"
   ]
  },
  {
   "cell_type": "markdown",
   "id": "302d1aff",
   "metadata": {},
   "source": [
    "- Логи пользовательских событий содержат четыре уникальных значения - `login` (*вход в учётную запись*), `product_page` (*просмотр страницы с товаром*), `product_cart` (*просмотр страницы с корзиной товаров*) и `purchase` (*успешная покупка*). Причём количество событий с покупкой больше, чем количество просмотров корзины, что может сигнализировать об использовании модулей вроде `покупка в один клик`."
   ]
  },
  {
   "cell_type": "markdown",
   "id": "f23cc34e",
   "metadata": {},
   "source": [
    "На этапе исследовательского анализа данных этот момент будет изучен подробнее с помощью воронки конверсии. \n",
    "\n",
    "Дальше попробуем найти закономерность в пропущенных значениях - в документации приведён пример с указанием суммы покупки в столбце `details` для события `purchase`. Проверим, какие ещё могут быть варианты:"
   ]
  },
  {
   "cell_type": "code",
   "execution_count": 11,
   "id": "6b280118",
   "metadata": {},
   "outputs": [
    {
     "data": {
      "text/html": [
       "<div>\n",
       "<style scoped>\n",
       "    .dataframe tbody tr th:only-of-type {\n",
       "        vertical-align: middle;\n",
       "    }\n",
       "\n",
       "    .dataframe tbody tr th {\n",
       "        vertical-align: top;\n",
       "    }\n",
       "\n",
       "    .dataframe thead th {\n",
       "        text-align: right;\n",
       "    }\n",
       "</style>\n",
       "<table border=\"1\" class=\"dataframe\">\n",
       "  <thead>\n",
       "    <tr style=\"text-align: right;\">\n",
       "      <th></th>\n",
       "      <th>user_id</th>\n",
       "      <th>event_dt</th>\n",
       "      <th>event_name</th>\n",
       "      <th>details</th>\n",
       "    </tr>\n",
       "  </thead>\n",
       "  <tbody>\n",
       "  </tbody>\n",
       "</table>\n",
       "</div>"
      ],
      "text/plain": [
       "Empty DataFrame\n",
       "Columns: [user_id, event_dt, event_name, details]\n",
       "Index: []"
      ]
     },
     "execution_count": 11,
     "metadata": {},
     "output_type": "execute_result"
    }
   ],
   "source": [
    "# посмотрим на значения `details` (кроме примера из документации)\n",
    "\n",
    "(\n",
    "    user_events[user_events['details'].notna()]\n",
    "    .query('event_name != \"purchase\"')\n",
    ")"
   ]
  },
  {
   "cell_type": "markdown",
   "id": "d0eb0bb9",
   "metadata": {},
   "source": [
    "Учитывая результаты проверки и числовой формат столбца можем сделать вывод, что столбец `details` используются исключительно для указания суммы покупки. Так как суммы выручки не является одной из целевых метрик для A/B-теста, вместо обработки пропусков мы можем удалить столбец целиком:"
   ]
  },
  {
   "cell_type": "code",
   "execution_count": 12,
   "id": "235ed271",
   "metadata": {},
   "outputs": [],
   "source": [
    "user_events.dropna(axis=1, inplace=True)"
   ]
  },
  {
   "cell_type": "markdown",
   "id": "902cb202",
   "metadata": {},
   "source": [
    "### Список участников разных A/B-тестов"
   ]
  },
  {
   "cell_type": "code",
   "execution_count": 13,
   "id": "9d1cd04e",
   "metadata": {},
   "outputs": [
    {
     "name": "stdout",
     "output_type": "stream",
     "text": [
      "<class 'pandas.core.frame.DataFrame'>\n",
      "RangeIndex: 18268 entries, 0 to 18267\n",
      "Data columns (total 3 columns):\n",
      " #   Column   Non-Null Count  Dtype \n",
      "---  ------   --------------  ----- \n",
      " 0   user_id  18268 non-null  object\n",
      " 1   group    18268 non-null  object\n",
      " 2   ab_test  18268 non-null  object\n",
      "dtypes: object(3)\n",
      "memory usage: 428.3+ KB\n"
     ]
    },
    {
     "data": {
      "text/html": [
       "<div>\n",
       "<style scoped>\n",
       "    .dataframe tbody tr th:only-of-type {\n",
       "        vertical-align: middle;\n",
       "    }\n",
       "\n",
       "    .dataframe tbody tr th {\n",
       "        vertical-align: top;\n",
       "    }\n",
       "\n",
       "    .dataframe thead th {\n",
       "        text-align: right;\n",
       "    }\n",
       "</style>\n",
       "<table border=\"1\" class=\"dataframe\">\n",
       "  <thead>\n",
       "    <tr style=\"text-align: right;\">\n",
       "      <th></th>\n",
       "      <th>user_id</th>\n",
       "      <th>group</th>\n",
       "      <th>ab_test</th>\n",
       "    </tr>\n",
       "  </thead>\n",
       "  <tbody>\n",
       "    <tr>\n",
       "      <th>count</th>\n",
       "      <td>18268</td>\n",
       "      <td>18268</td>\n",
       "      <td>18268</td>\n",
       "    </tr>\n",
       "    <tr>\n",
       "      <th>unique</th>\n",
       "      <td>16666</td>\n",
       "      <td>2</td>\n",
       "      <td>2</td>\n",
       "    </tr>\n",
       "    <tr>\n",
       "      <th>top</th>\n",
       "      <td>0FDFDA0B2DEC2D91</td>\n",
       "      <td>A</td>\n",
       "      <td>interface_eu_test</td>\n",
       "    </tr>\n",
       "    <tr>\n",
       "      <th>freq</th>\n",
       "      <td>2</td>\n",
       "      <td>9655</td>\n",
       "      <td>11567</td>\n",
       "    </tr>\n",
       "  </tbody>\n",
       "</table>\n",
       "</div>"
      ],
      "text/plain": [
       "                 user_id  group            ab_test\n",
       "count              18268  18268              18268\n",
       "unique             16666      2                  2\n",
       "top     0FDFDA0B2DEC2D91      A  interface_eu_test\n",
       "freq                   2   9655              11567"
      ]
     },
     "metadata": {},
     "output_type": "display_data"
    },
    {
     "data": {
      "text/html": [
       "<div>\n",
       "<style scoped>\n",
       "    .dataframe tbody tr th:only-of-type {\n",
       "        vertical-align: middle;\n",
       "    }\n",
       "\n",
       "    .dataframe tbody tr th {\n",
       "        vertical-align: top;\n",
       "    }\n",
       "\n",
       "    .dataframe thead th {\n",
       "        text-align: right;\n",
       "    }\n",
       "</style>\n",
       "<table border=\"1\" class=\"dataframe\">\n",
       "  <thead>\n",
       "    <tr style=\"text-align: right;\">\n",
       "      <th></th>\n",
       "      <th>user_id</th>\n",
       "      <th>group</th>\n",
       "      <th>ab_test</th>\n",
       "    </tr>\n",
       "  </thead>\n",
       "  <tbody>\n",
       "    <tr>\n",
       "      <th>4890</th>\n",
       "      <td>9708BA96BC78EE9F</td>\n",
       "      <td>A</td>\n",
       "      <td>recommender_system_test</td>\n",
       "    </tr>\n",
       "    <tr>\n",
       "      <th>9825</th>\n",
       "      <td>6D05D44AB00C84D2</td>\n",
       "      <td>B</td>\n",
       "      <td>interface_eu_test</td>\n",
       "    </tr>\n",
       "    <tr>\n",
       "      <th>6727</th>\n",
       "      <td>97248D21983C5DBC</td>\n",
       "      <td>B</td>\n",
       "      <td>interface_eu_test</td>\n",
       "    </tr>\n",
       "    <tr>\n",
       "      <th>624</th>\n",
       "      <td>92F843D598252571</td>\n",
       "      <td>A</td>\n",
       "      <td>recommender_system_test</td>\n",
       "    </tr>\n",
       "    <tr>\n",
       "      <th>15137</th>\n",
       "      <td>CDB54E138640B8EF</td>\n",
       "      <td>A</td>\n",
       "      <td>interface_eu_test</td>\n",
       "    </tr>\n",
       "  </tbody>\n",
       "</table>\n",
       "</div>"
      ],
      "text/plain": [
       "                user_id group                  ab_test\n",
       "4890   9708BA96BC78EE9F     A  recommender_system_test\n",
       "9825   6D05D44AB00C84D2     B        interface_eu_test\n",
       "6727   97248D21983C5DBC     B        interface_eu_test\n",
       "624    92F843D598252571     A  recommender_system_test\n",
       "15137  CDB54E138640B8EF     A        interface_eu_test"
      ]
     },
     "metadata": {},
     "output_type": "display_data"
    }
   ],
   "source": [
    "# список пользователей - участников A/B-тестирования\n",
    "\n",
    "overview(test_participants)"
   ]
  },
  {
   "cell_type": "markdown",
   "id": "30712953",
   "metadata": {},
   "source": [
    "___\n",
    "Таблица содержит 18,268 строк и 3 столбца. Явные пропуски отсутствуют. \n",
    "\n",
    "Описание данных согласно документации:\n",
    "\n",
    "`final_ab_participants.csv` — таблица участников тестов.\n",
    "\n",
    "Структура таблицы:\n",
    "\n",
    "- `user_id` — идентификатор пользователя;\n",
    "- `ab_test` — название теста;\n",
    "- `group` — группа пользователя.\n",
    "___"
   ]
  },
  {
   "cell_type": "markdown",
   "id": "a7bcb737",
   "metadata": {},
   "source": [
    "В таблице можно увидеть данные пользователей двух разных тестирований - `recommender_system_test` и `interface_eu_test`. Целью исследования является анализ результатов только первого теста, но сначала необходимо проверить данные на отсутствие пересечений - количество уникальных идентификаторов пользователей не совпадает с числом строк, что указывает на наличие дубликатов."
   ]
  },
  {
   "cell_type": "code",
   "execution_count": 14,
   "id": "74146523",
   "metadata": {},
   "outputs": [
    {
     "name": "stdout",
     "output_type": "stream",
     "text": [
      " Задублированных строк - 0\n",
      " Уникальных пользователей, попавших в оба теста - 1602\n"
     ]
    }
   ],
   "source": [
    "# проверим на явные дубликаты\n",
    "\n",
    "print(f' Задублированных строк - {test_participants.duplicated().sum()}')\n",
    "\n",
    "# проверим, что нет пользователей, попавших в оба теста\n",
    "\n",
    "inter = np.intersect1d(\n",
    "    test_participants.query('ab_test == \"recommender_system_test\"')['user_id'].unique(),\n",
    "    test_participants.query('ab_test == \"interface_eu_test\"')['user_id'].unique()\n",
    ")\n",
    "print(f' Уникальных пользователей, попавших в оба теста - {inter.size}')"
   ]
  },
  {
   "cell_type": "markdown",
   "id": "c82d269c",
   "metadata": {},
   "source": [
    "Явных дубликатов не выявлено, а вот пересечений довольно много - 1,602 уникальных пользователей являлись участниками двух разных тестирований. В таком случае анализировать влияние новвоведений на пользовательское поведение будет неккоректно, так как группы будет невозможно отличить. Необходимо очистить данные от этих пользователей:"
   ]
  },
  {
   "cell_type": "code",
   "execution_count": 15,
   "id": "b1cf2c97",
   "metadata": {},
   "outputs": [],
   "source": [
    "# убираем ошибочные данные\n",
    "\n",
    "test_participants = (\n",
    "    test_participants[\n",
    "        ~test_participants['user_id']\n",
    "        .isin(inter)]\n",
    ")\n",
    "\n",
    "# оставляем только данные целевого теста\n",
    "\n",
    "test_participants = (\n",
    "    test_participants\n",
    "    .query('ab_test == \"recommender_system_test\"')\n",
    ")"
   ]
  },
  {
   "cell_type": "markdown",
   "id": "03ae8f23",
   "metadata": {},
   "source": [
    "Теперь таким же образом проверим, что одни и те же пользователи не попадают в разные группы тестирования:"
   ]
  },
  {
   "cell_type": "code",
   "execution_count": 16,
   "id": "2b4a2676",
   "metadata": {},
   "outputs": [
    {
     "name": "stdout",
     "output_type": "stream",
     "text": [
      " Уникальных пользователей, попавших в обе группы - 0\n"
     ]
    }
   ],
   "source": [
    "# проверим, что нет пользователей, попавших в обе группы\n",
    "\n",
    "inter = np.intersect1d(\n",
    "    test_participants.query('group == \"A\"')['user_id'].unique(),\n",
    "    test_participants.query('group == \"B\"')['user_id'].unique()\n",
    ")\n",
    "print(f' Уникальных пользователей, попавших в обе группы - {inter.size}')"
   ]
  },
  {
   "cell_type": "markdown",
   "id": "b028bc9a",
   "metadata": {},
   "source": [
    "Посмотрим на данные ещё раз:"
   ]
  },
  {
   "cell_type": "code",
   "execution_count": 17,
   "id": "4db8ff9f",
   "metadata": {},
   "outputs": [
    {
     "name": "stdout",
     "output_type": "stream",
     "text": [
      "<class 'pandas.core.frame.DataFrame'>\n",
      "Int64Index: 5099 entries, 0 to 6700\n",
      "Data columns (total 3 columns):\n",
      " #   Column   Non-Null Count  Dtype \n",
      "---  ------   --------------  ----- \n",
      " 0   user_id  5099 non-null   object\n",
      " 1   group    5099 non-null   object\n",
      " 2   ab_test  5099 non-null   object\n",
      "dtypes: object(3)\n",
      "memory usage: 159.3+ KB\n"
     ]
    },
    {
     "data": {
      "text/html": [
       "<div>\n",
       "<style scoped>\n",
       "    .dataframe tbody tr th:only-of-type {\n",
       "        vertical-align: middle;\n",
       "    }\n",
       "\n",
       "    .dataframe tbody tr th {\n",
       "        vertical-align: top;\n",
       "    }\n",
       "\n",
       "    .dataframe thead th {\n",
       "        text-align: right;\n",
       "    }\n",
       "</style>\n",
       "<table border=\"1\" class=\"dataframe\">\n",
       "  <thead>\n",
       "    <tr style=\"text-align: right;\">\n",
       "      <th></th>\n",
       "      <th>user_id</th>\n",
       "      <th>group</th>\n",
       "      <th>ab_test</th>\n",
       "    </tr>\n",
       "  </thead>\n",
       "  <tbody>\n",
       "    <tr>\n",
       "      <th>count</th>\n",
       "      <td>5099</td>\n",
       "      <td>5099</td>\n",
       "      <td>5099</td>\n",
       "    </tr>\n",
       "    <tr>\n",
       "      <th>unique</th>\n",
       "      <td>5099</td>\n",
       "      <td>2</td>\n",
       "      <td>1</td>\n",
       "    </tr>\n",
       "    <tr>\n",
       "      <th>top</th>\n",
       "      <td>D1ABA3E2887B6A73</td>\n",
       "      <td>A</td>\n",
       "      <td>recommender_system_test</td>\n",
       "    </tr>\n",
       "    <tr>\n",
       "      <th>freq</th>\n",
       "      <td>1</td>\n",
       "      <td>2903</td>\n",
       "      <td>5099</td>\n",
       "    </tr>\n",
       "  </tbody>\n",
       "</table>\n",
       "</div>"
      ],
      "text/plain": [
       "                 user_id group                  ab_test\n",
       "count               5099  5099                     5099\n",
       "unique              5099     2                        1\n",
       "top     D1ABA3E2887B6A73     A  recommender_system_test\n",
       "freq                   1  2903                     5099"
      ]
     },
     "metadata": {},
     "output_type": "display_data"
    },
    {
     "data": {
      "text/html": [
       "<div>\n",
       "<style scoped>\n",
       "    .dataframe tbody tr th:only-of-type {\n",
       "        vertical-align: middle;\n",
       "    }\n",
       "\n",
       "    .dataframe tbody tr th {\n",
       "        vertical-align: top;\n",
       "    }\n",
       "\n",
       "    .dataframe thead th {\n",
       "        text-align: right;\n",
       "    }\n",
       "</style>\n",
       "<table border=\"1\" class=\"dataframe\">\n",
       "  <thead>\n",
       "    <tr style=\"text-align: right;\">\n",
       "      <th></th>\n",
       "      <th>user_id</th>\n",
       "      <th>group</th>\n",
       "      <th>ab_test</th>\n",
       "    </tr>\n",
       "  </thead>\n",
       "  <tbody>\n",
       "    <tr>\n",
       "      <th>5339</th>\n",
       "      <td>D2AB21C40985B8BB</td>\n",
       "      <td>A</td>\n",
       "      <td>recommender_system_test</td>\n",
       "    </tr>\n",
       "    <tr>\n",
       "      <th>412</th>\n",
       "      <td>F9DC5907335EF6FE</td>\n",
       "      <td>A</td>\n",
       "      <td>recommender_system_test</td>\n",
       "    </tr>\n",
       "    <tr>\n",
       "      <th>4848</th>\n",
       "      <td>14995C7DF64B4C31</td>\n",
       "      <td>B</td>\n",
       "      <td>recommender_system_test</td>\n",
       "    </tr>\n",
       "    <tr>\n",
       "      <th>1623</th>\n",
       "      <td>F9B6AD71F73676ED</td>\n",
       "      <td>B</td>\n",
       "      <td>recommender_system_test</td>\n",
       "    </tr>\n",
       "    <tr>\n",
       "      <th>2843</th>\n",
       "      <td>8728D15493619DA4</td>\n",
       "      <td>B</td>\n",
       "      <td>recommender_system_test</td>\n",
       "    </tr>\n",
       "  </tbody>\n",
       "</table>\n",
       "</div>"
      ],
      "text/plain": [
       "               user_id group                  ab_test\n",
       "5339  D2AB21C40985B8BB     A  recommender_system_test\n",
       "412   F9DC5907335EF6FE     A  recommender_system_test\n",
       "4848  14995C7DF64B4C31     B  recommender_system_test\n",
       "1623  F9B6AD71F73676ED     B  recommender_system_test\n",
       "2843  8728D15493619DA4     B  recommender_system_test"
      ]
     },
     "metadata": {},
     "output_type": "display_data"
    }
   ],
   "source": [
    "overview(test_participants)"
   ]
  },
  {
   "cell_type": "markdown",
   "id": "25a67b94",
   "metadata": {},
   "source": [
    "- Пользователи неравномерно распределены по группам - из 5,099 уникальных пользователей 2,903 находятся в группе `A`, что составляет примерно 57%.\n",
    "\n",
    "\n",
    "- Целевой показатель количества участников в 6,000 формально был достигнут, но из-за пересечений с другим тестом часть данных не подлежит анализу, что может негативно отразиться на выводах из анализа итоговых результатов. "
   ]
  },
  {
   "cell_type": "markdown",
   "id": "8c43d881",
   "metadata": {},
   "source": [
    "Согласно техническому задания, целевая аудитория теста - 15% новых пользователей из региона `EU`. Проверим данные таблицы на соответствие этому требованию:"
   ]
  },
  {
   "cell_type": "code",
   "execution_count": 43,
   "id": "49157413",
   "metadata": {},
   "outputs": [],
   "source": [
    "# посмотрим на распределение пользователей по регионам\n",
    "\n",
    "test_users = list(test_participants[\"user_id\"])\n",
    "\n",
    "region_distribution = (\n",
    "    users\n",
    "    .query('user_id in @test_users')['region']\n",
    "    .value_counts()\n",
    "    .to_frame()\n",
    "    .merge(\n",
    "        users['region']\n",
    "        .value_counts()\n",
    "        .to_frame(),\n",
    "        left_index=True,\n",
    "        right_index=True)\n",
    "    .rename(columns={'region_x':'test',\n",
    "                     'region_y':'total'})\n",
    "    .reindex(columns=['total', 'test'])\n",
    ")\n",
    "\n",
    "region_distribution['test'] = (\n",
    "    round(\n",
    "        region_distribution['test']/\n",
    "        region_distribution['total']*100, 2)\n",
    "    .astype(str) + '%'\n",
    ")"
   ]
  },
  {
   "cell_type": "code",
   "execution_count": 45,
   "id": "c6b3c40b",
   "metadata": {},
   "outputs": [
    {
     "data": {
      "text/html": [
       "<div>\n",
       "<style scoped>\n",
       "    .dataframe tbody tr th:only-of-type {\n",
       "        vertical-align: middle;\n",
       "    }\n",
       "\n",
       "    .dataframe tbody tr th {\n",
       "        vertical-align: top;\n",
       "    }\n",
       "\n",
       "    .dataframe thead th {\n",
       "        text-align: right;\n",
       "    }\n",
       "</style>\n",
       "<table border=\"1\" class=\"dataframe\">\n",
       "  <thead>\n",
       "    <tr style=\"text-align: right;\">\n",
       "      <th></th>\n",
       "      <th>total</th>\n",
       "      <th>test</th>\n",
       "    </tr>\n",
       "  </thead>\n",
       "  <tbody>\n",
       "    <tr>\n",
       "      <th>EU</th>\n",
       "      <td>46270</td>\n",
       "      <td>10.26%</td>\n",
       "    </tr>\n",
       "    <tr>\n",
       "      <th>N.America</th>\n",
       "      <td>9155</td>\n",
       "      <td>2.44%</td>\n",
       "    </tr>\n",
       "    <tr>\n",
       "      <th>APAC</th>\n",
       "      <td>3153</td>\n",
       "      <td>2.28%</td>\n",
       "    </tr>\n",
       "    <tr>\n",
       "      <th>CIS</th>\n",
       "      <td>3155</td>\n",
       "      <td>1.74%</td>\n",
       "    </tr>\n",
       "  </tbody>\n",
       "</table>\n",
       "</div>"
      ],
      "text/plain": [
       "           total    test\n",
       "EU         46270  10.26%\n",
       "N.America   9155   2.44%\n",
       "APAC        3153   2.28%\n",
       "CIS         3155   1.74%"
      ]
     },
     "execution_count": 45,
     "metadata": {},
     "output_type": "execute_result"
    }
   ],
   "source": [
    "region_distribution"
   ]
  },
  {
   "cell_type": "markdown",
   "id": "a44d496a",
   "metadata": {},
   "source": [
    "- Требование технического задания в формировании целовой аудитории теста из 15% пользователей из региона `EU` не соблюдено - участники теста действительно суммарно составляют около 15% пользователей, но лишь чуть больше 10% из них являются пользователями из `EU`, тогда как остальные распределены по другим регионам."
   ]
  },
  {
   "cell_type": "markdown",
   "id": "fc148b83",
   "metadata": {},
   "source": [
    "### Календарь маркетинговых событий"
   ]
  },
  {
   "cell_type": "code",
   "execution_count": 20,
   "id": "759cdff1",
   "metadata": {},
   "outputs": [
    {
     "name": "stdout",
     "output_type": "stream",
     "text": [
      "<class 'pandas.core.frame.DataFrame'>\n",
      "RangeIndex: 14 entries, 0 to 13\n",
      "Data columns (total 4 columns):\n",
      " #   Column     Non-Null Count  Dtype \n",
      "---  ------     --------------  ----- \n",
      " 0   name       14 non-null     object\n",
      " 1   regions    14 non-null     object\n",
      " 2   start_dt   14 non-null     object\n",
      " 3   finish_dt  14 non-null     object\n",
      "dtypes: object(4)\n",
      "memory usage: 576.0+ bytes\n"
     ]
    },
    {
     "data": {
      "text/html": [
       "<div>\n",
       "<style scoped>\n",
       "    .dataframe tbody tr th:only-of-type {\n",
       "        vertical-align: middle;\n",
       "    }\n",
       "\n",
       "    .dataframe tbody tr th {\n",
       "        vertical-align: top;\n",
       "    }\n",
       "\n",
       "    .dataframe thead th {\n",
       "        text-align: right;\n",
       "    }\n",
       "</style>\n",
       "<table border=\"1\" class=\"dataframe\">\n",
       "  <thead>\n",
       "    <tr style=\"text-align: right;\">\n",
       "      <th></th>\n",
       "      <th>name</th>\n",
       "      <th>regions</th>\n",
       "      <th>start_dt</th>\n",
       "      <th>finish_dt</th>\n",
       "    </tr>\n",
       "  </thead>\n",
       "  <tbody>\n",
       "    <tr>\n",
       "      <th>count</th>\n",
       "      <td>14</td>\n",
       "      <td>14</td>\n",
       "      <td>14</td>\n",
       "      <td>14</td>\n",
       "    </tr>\n",
       "    <tr>\n",
       "      <th>unique</th>\n",
       "      <td>14</td>\n",
       "      <td>6</td>\n",
       "      <td>14</td>\n",
       "      <td>14</td>\n",
       "    </tr>\n",
       "    <tr>\n",
       "      <th>top</th>\n",
       "      <td>Christmas&amp;New Year Promo</td>\n",
       "      <td>APAC</td>\n",
       "      <td>2020-12-25</td>\n",
       "      <td>2021-01-03</td>\n",
       "    </tr>\n",
       "    <tr>\n",
       "      <th>freq</th>\n",
       "      <td>1</td>\n",
       "      <td>4</td>\n",
       "      <td>1</td>\n",
       "      <td>1</td>\n",
       "    </tr>\n",
       "  </tbody>\n",
       "</table>\n",
       "</div>"
      ],
      "text/plain": [
       "                            name regions    start_dt   finish_dt\n",
       "count                         14      14          14          14\n",
       "unique                        14       6          14          14\n",
       "top     Christmas&New Year Promo    APAC  2020-12-25  2021-01-03\n",
       "freq                           1       4           1           1"
      ]
     },
     "metadata": {},
     "output_type": "display_data"
    },
    {
     "data": {
      "text/html": [
       "<div>\n",
       "<style scoped>\n",
       "    .dataframe tbody tr th:only-of-type {\n",
       "        vertical-align: middle;\n",
       "    }\n",
       "\n",
       "    .dataframe tbody tr th {\n",
       "        vertical-align: top;\n",
       "    }\n",
       "\n",
       "    .dataframe thead th {\n",
       "        text-align: right;\n",
       "    }\n",
       "</style>\n",
       "<table border=\"1\" class=\"dataframe\">\n",
       "  <thead>\n",
       "    <tr style=\"text-align: right;\">\n",
       "      <th></th>\n",
       "      <th>name</th>\n",
       "      <th>regions</th>\n",
       "      <th>start_dt</th>\n",
       "      <th>finish_dt</th>\n",
       "    </tr>\n",
       "  </thead>\n",
       "  <tbody>\n",
       "    <tr>\n",
       "      <th>8</th>\n",
       "      <td>International Women's Day Promo</td>\n",
       "      <td>EU, CIS, APAC</td>\n",
       "      <td>2020-03-08</td>\n",
       "      <td>2020-03-10</td>\n",
       "    </tr>\n",
       "    <tr>\n",
       "      <th>6</th>\n",
       "      <td>Chinese New Year Promo</td>\n",
       "      <td>APAC</td>\n",
       "      <td>2020-01-25</td>\n",
       "      <td>2020-02-07</td>\n",
       "    </tr>\n",
       "    <tr>\n",
       "      <th>4</th>\n",
       "      <td>4th of July Promo</td>\n",
       "      <td>N.America</td>\n",
       "      <td>2020-07-04</td>\n",
       "      <td>2020-07-11</td>\n",
       "    </tr>\n",
       "    <tr>\n",
       "      <th>11</th>\n",
       "      <td>Dragon Boat Festival Giveaway</td>\n",
       "      <td>APAC</td>\n",
       "      <td>2020-06-25</td>\n",
       "      <td>2020-07-01</td>\n",
       "    </tr>\n",
       "    <tr>\n",
       "      <th>2</th>\n",
       "      <td>St. Patric's Day Promo</td>\n",
       "      <td>EU, N.America</td>\n",
       "      <td>2020-03-17</td>\n",
       "      <td>2020-03-19</td>\n",
       "    </tr>\n",
       "  </tbody>\n",
       "</table>\n",
       "</div>"
      ],
      "text/plain": [
       "                               name        regions    start_dt   finish_dt\n",
       "8   International Women's Day Promo  EU, CIS, APAC  2020-03-08  2020-03-10\n",
       "6            Chinese New Year Promo           APAC  2020-01-25  2020-02-07\n",
       "4                 4th of July Promo      N.America  2020-07-04  2020-07-11\n",
       "11    Dragon Boat Festival Giveaway           APAC  2020-06-25  2020-07-01\n",
       "2            St. Patric's Day Promo  EU, N.America  2020-03-17  2020-03-19"
      ]
     },
     "metadata": {},
     "output_type": "display_data"
    }
   ],
   "source": [
    "# таблица с маркетинговыми активностями\n",
    "\n",
    "overview(marketing_events)"
   ]
  },
  {
   "cell_type": "markdown",
   "id": "da7efcb9",
   "metadata": {},
   "source": [
    "___\n",
    "Таблица содержит 14 строк и 4 столбца. Явные пропуски отсутствуют.\n",
    "\n",
    "Описание данных согласно документации:\n",
    "\n",
    "`ab_project_marketing_events.csv` — календарь маркетинговых событий на 2020 год.\n",
    "\n",
    "Структура таблицы:\n",
    "\n",
    "- `name` — название маркетингового события;\n",
    "- `regions` — регионы, в которых будет проводиться рекламная кампания;\n",
    "- `start_dt` — дата начала кампании;\n",
    "- `finish_dt` — дата завершения кампании.\n",
    "___"
   ]
  },
  {
   "cell_type": "markdown",
   "id": "d37fc38f",
   "metadata": {},
   "source": [
    "Преобразуем данные и проверим, имеются ли в наличии компании, пересекающиеся с регистрацией новых пользователей:"
   ]
  },
  {
   "cell_type": "code",
   "execution_count": 21,
   "id": "1e5b98fa",
   "metadata": {},
   "outputs": [
    {
     "data": {
      "text/html": [
       "<div>\n",
       "<style scoped>\n",
       "    .dataframe tbody tr th:only-of-type {\n",
       "        vertical-align: middle;\n",
       "    }\n",
       "\n",
       "    .dataframe tbody tr th {\n",
       "        vertical-align: top;\n",
       "    }\n",
       "\n",
       "    .dataframe thead th {\n",
       "        text-align: right;\n",
       "    }\n",
       "</style>\n",
       "<table border=\"1\" class=\"dataframe\">\n",
       "  <thead>\n",
       "    <tr style=\"text-align: right;\">\n",
       "      <th></th>\n",
       "      <th>name</th>\n",
       "      <th>regions</th>\n",
       "      <th>start_dt</th>\n",
       "      <th>finish_dt</th>\n",
       "    </tr>\n",
       "  </thead>\n",
       "  <tbody>\n",
       "    <tr>\n",
       "      <th>0</th>\n",
       "      <td>Christmas&amp;New Year Promo</td>\n",
       "      <td>EU, N.America</td>\n",
       "      <td>2021-01-03</td>\n",
       "      <td>2021-01-03</td>\n",
       "    </tr>\n",
       "    <tr>\n",
       "      <th>5</th>\n",
       "      <td>Black Friday Ads Campaign</td>\n",
       "      <td>EU, CIS, APAC, N.America</td>\n",
       "      <td>2020-12-01</td>\n",
       "      <td>2020-12-01</td>\n",
       "    </tr>\n",
       "    <tr>\n",
       "      <th>10</th>\n",
       "      <td>CIS New Year Gift Lottery</td>\n",
       "      <td>CIS</td>\n",
       "      <td>2021-01-07</td>\n",
       "      <td>2021-01-07</td>\n",
       "    </tr>\n",
       "  </tbody>\n",
       "</table>\n",
       "</div>"
      ],
      "text/plain": [
       "                         name                   regions   start_dt  finish_dt\n",
       "0    Christmas&New Year Promo             EU, N.America 2021-01-03 2021-01-03\n",
       "5   Black Friday Ads Campaign  EU, CIS, APAC, N.America 2020-12-01 2020-12-01\n",
       "10  CIS New Year Gift Lottery                       CIS 2021-01-07 2021-01-07"
      ]
     },
     "execution_count": 21,
     "metadata": {},
     "output_type": "execute_result"
    }
   ],
   "source": [
    "# преобразовываем даты\n",
    "\n",
    "marketing_events['start_dt'] = (\n",
    "    pd.to_datetime(marketing_events['finish_dt'])\n",
    ")\n",
    "marketing_events['finish_dt'] = (\n",
    "    pd.to_datetime(marketing_events['finish_dt'])\n",
    ")\n",
    "\n",
    "# посмотрим компании декабря и января\n",
    "\n",
    "interscecting_marketing = marketing_events[\n",
    "    (marketing_events['start_dt'].dt.month.isin([1, 12]))|\n",
    "    (marketing_events['finish_dt'].dt.month.isin([1, 12]))\n",
    "]\n",
    "\n",
    "interscecting_marketing"
   ]
  },
  {
   "cell_type": "markdown",
   "id": "d31e54f9",
   "metadata": {},
   "source": [
    "- Маркетинговая компании `Christmas&New Year Promo` пересекается с датами проведения A/B-тестирования, что может повлиять на пользовательское поведение и исказить вывода анализа результатов теста."
   ]
  },
  {
   "cell_type": "markdown",
   "id": "1dcd1f41",
   "metadata": {},
   "source": [
    "Остальные компании либо не совпадают по датам, либо не имеют отношение к региону `EU`."
   ]
  },
  {
   "cell_type": "markdown",
   "id": "47d78351",
   "metadata": {},
   "source": [
    "### Выводы"
   ]
  },
  {
   "cell_type": "code",
   "execution_count": null,
   "id": "a19bb8f9",
   "metadata": {},
   "outputs": [],
   "source": []
  },
  {
   "cell_type": "markdown",
   "id": "bbd1a028",
   "metadata": {},
   "source": [
    "**Техническое задание**\n",
    "\n",
    "- Название теста: `recommender_system_test`; \n",
    "- группы: А — контрольная, B — новая платёжная воронка;\n",
    "- дата запуска: 2020-12-07;\n",
    "- дата остановки набора новых пользователей: 2020-12-21;\n",
    "- дата остановки: 2021-01-04;\n",
    "- аудитория: 15% новых пользователей из региона EU;\n",
    "- назначение теста: тестирование изменений, связанных с внедрением улучшенной рекомендательной системы;\n",
    "- ожидаемое количество участников теста: 6000.\n",
    "- ожидаемый эффект: за 14 дней с момента регистрации пользователи покажут улучшение каждой метрики не менее, чем на 10%:\n",
    "    - конверсии в просмотр карточек товаров — событие `product_page`,\n",
    "    - просмотры корзины — `product_cart`,\n",
    "    - покупки — `purchase`."
   ]
  },
  {
   "cell_type": "markdown",
   "id": "f9abdfd5",
   "metadata": {},
   "source": []
  },
  {
   "cell_type": "code",
   "execution_count": null,
   "id": "777d3c04",
   "metadata": {},
   "outputs": [],
   "source": []
  },
  {
   "cell_type": "code",
   "execution_count": null,
   "id": "15313bc2",
   "metadata": {},
   "outputs": [],
   "source": []
  },
  {
   "cell_type": "code",
   "execution_count": null,
   "id": "437da5c8",
   "metadata": {},
   "outputs": [],
   "source": []
  },
  {
   "cell_type": "code",
   "execution_count": null,
   "id": "de38f7c2",
   "metadata": {},
   "outputs": [],
   "source": []
  },
  {
   "cell_type": "markdown",
   "id": "33852b16",
   "metadata": {},
   "source": [
    "<a id='2'></a>\n",
    "## Исследовательский анализ данных\n",
    "- Проведите исследовательский анализ данных:\n",
    "    - Количество событий на пользователя одинаково распределены в выборках?\n",
    "    - Как число событий в выборках распределено по дням?\n",
    "    - Как меняется конверсия в воронке в выборках на разных этапах?\n",
    "    - Какие особенности данных нужно учесть, прежде чем приступать к A/B-тестированию?"
   ]
  },
  {
   "cell_type": "code",
   "execution_count": null,
   "id": "8b4e59bd",
   "metadata": {},
   "outputs": [],
   "source": []
  },
  {
   "cell_type": "code",
   "execution_count": null,
   "id": "046cadc1",
   "metadata": {},
   "outputs": [],
   "source": []
  },
  {
   "cell_type": "code",
   "execution_count": null,
   "id": "aa443918",
   "metadata": {},
   "outputs": [],
   "source": []
  },
  {
   "cell_type": "code",
   "execution_count": null,
   "id": "a9239b09",
   "metadata": {},
   "outputs": [],
   "source": []
  },
  {
   "cell_type": "markdown",
   "id": "7aee875e",
   "metadata": {},
   "source": [
    "<a id='3'></a>\n",
    "## Оценка результатов A/B-тестирования\n",
    "\n",
    "- Оцените результаты A/B-тестирования\n",
    "    - Что можно сказать про результаты A/В-тестирования?\n",
    "    - Проверьте статистическую разницу долей z-критерием.\n",
    "- Опишите выводы по этапу исследовательского анализа данных и по проведённой оценке результатов A/B-тестирования. Сделайте общее заключение о корректности проведения теста."
   ]
  },
  {
   "cell_type": "code",
   "execution_count": null,
   "id": "c9c2a3cf",
   "metadata": {},
   "outputs": [],
   "source": []
  },
  {
   "cell_type": "code",
   "execution_count": null,
   "id": "d0a02128",
   "metadata": {},
   "outputs": [],
   "source": []
  },
  {
   "cell_type": "code",
   "execution_count": null,
   "id": "377e0308",
   "metadata": {},
   "outputs": [],
   "source": []
  },
  {
   "cell_type": "code",
   "execution_count": null,
   "id": "8b04347d",
   "metadata": {},
   "outputs": [],
   "source": []
  },
  {
   "cell_type": "markdown",
   "id": "cac7c80c",
   "metadata": {},
   "source": [
    "<a id='5'></a>\n",
    "##  Общий вывод"
   ]
  },
  {
   "cell_type": "code",
   "execution_count": null,
   "id": "01a6e281",
   "metadata": {},
   "outputs": [],
   "source": []
  },
  {
   "cell_type": "code",
   "execution_count": null,
   "id": "eae570c7",
   "metadata": {},
   "outputs": [],
   "source": []
  },
  {
   "cell_type": "code",
   "execution_count": null,
   "id": "53b50bcb",
   "metadata": {},
   "outputs": [],
   "source": []
  },
  {
   "cell_type": "code",
   "execution_count": null,
   "id": "5334b70e",
   "metadata": {},
   "outputs": [],
   "source": []
  },
  {
   "cell_type": "code",
   "execution_count": null,
   "id": "65bd6331",
   "metadata": {},
   "outputs": [],
   "source": []
  },
  {
   "cell_type": "code",
   "execution_count": null,
   "id": "5e2d13c0",
   "metadata": {},
   "outputs": [],
   "source": []
  }
 ],
 "metadata": {
  "kernelspec": {
   "display_name": "Python 3 (ipykernel)",
   "language": "python",
   "name": "python3"
  },
  "language_info": {
   "codemirror_mode": {
    "name": "ipython",
    "version": 3
   },
   "file_extension": ".py",
   "mimetype": "text/x-python",
   "name": "python",
   "nbconvert_exporter": "python",
   "pygments_lexer": "ipython3",
   "version": "3.9.7"
  },
  "toc": {
   "base_numbering": 1,
   "nav_menu": {},
   "number_sections": true,
   "sideBar": true,
   "skip_h1_title": true,
   "title_cell": "Table of Contents",
   "title_sidebar": "Contents",
   "toc_cell": false,
   "toc_position": {},
   "toc_section_display": true,
   "toc_window_display": false
  }
 },
 "nbformat": 4,
 "nbformat_minor": 5
}
