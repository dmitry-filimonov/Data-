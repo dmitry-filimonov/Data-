{
 "cells": [
  {
   "cell_type": "markdown",
   "metadata": {},
   "source": [
    "# A/B-тестирование нововведений в рекомендательную систему"
   ]
  },
  {
   "cell_type": "markdown",
   "metadata": {},
   "source": [
    "**Цель исследования** — провести оценку результатов A/B-теста и корректность его проведения в соответствии с техническим заданием.\n",
    "\n",
    "**Ход исследования**\n",
    "\n",
    "Данные представлены в виде нескольких таблиц, содержащих список новых пользователей и информацию об их действиях, а также вспомогательную информацию - список участников всех тестов и календарь маркетинговых событий. Необходимо провести обзор и предобработку данных - обработать возможные дубликаты и пропуски, при необходимости поменять тип данных и создать дополнительные столбцы. Затем будет проведена оценка коррекности проведения теста - данные будут сверены с требованиями технического задания и календарём маркетинговых активностей. После будет проведён исследовательский анализ данных, в ходе которого будет изучено распределение данных и конверсия воронки событий, а последним этапом станет анализ результатов проведённого теста. По результатам исследования будет сформирован общий вывод.\n",
    "\n",
    "Таким образом, исследование будет разделено на следующие этапы:\n",
    "\n",
    "1. [**Обзор и предобработка данных**](#1)\n",
    "2. [**Иследовательский анализ данных**](#2)\n",
    "3. [**Анализ результатов тестирования**](#3)\n",
    "4. [**Общий вывод**](#4)\n",
    "___\n",
    "\n",
    "**Техническое задание**\n",
    "\n",
    "- Название теста: `recommender_system_test`;\n",
    "- группы: А — контрольная, B — новая платёжная воронка;\n",
    "- дата запуска: 2020-12-07;\n",
    "- дата остановки набора новых пользователей: 2020-12-21;\n",
    "- дата остановки: 2021-01-04;\n",
    "- аудитория: 15% новых пользователей из региона EU;\n",
    "- назначение теста: тестирование изменений, связанных с внедрением улучшенной рекомендательной системы;\n",
    "- ожидаемое количество участников теста: 6000.\n",
    "- ожидаемый эффект: за 14 дней с момента регистрации пользователи покажут улучшение каждой метрики не менее, чем на 10%:\n",
    "    - конверсии в просмотр карточек товаров — событие `product_page`,\n",
    "    - просмотры корзины — `product_cart`,\n",
    "    - покупки — `purchase`."
   ]
  },
  {
   "cell_type": "markdown",
   "metadata": {},
   "source": [
    "<a id='1'></a>\n",
    "## Обзор и предобработка данных\n",
    "Сначали импортируем все необходимые таблицы с данными и рассмотрим каждую по отдельности."
   ]
  },
  {
   "cell_type": "code",
   "execution_count": 1,
   "metadata": {},
   "outputs": [],
   "source": [
    "# импортируем библиотеки для работы с данными\n",
    "\n",
    "import os\n",
    "import pandas as pd\n",
    "import numpy as np\n",
    "from scipy import stats as st\n",
    "import math as mth\n",
    "import seaborn as sns\n",
    "import plotly.express as px\n",
    "from matplotlib import pyplot as plt\n",
    "from plotly import graph_objects as go\n",
    "import plotly.io as pio\n",
    "\n",
    "# настройки отображения и рабочей среды\n",
    "\n",
    "pd.options.display.float_format = '{:,.2f}'.format\n",
    "pd.options.mode.chained_assignment = None\n",
    "sns.set_style('darkgrid')\n",
    "sns.set(font_scale = 2)\n",
    "pio.renderers.default = \"svg\"\n",
    "plt.rcParams.update({'axes.labelsize': 15,'axes.titlesize': 25})\n",
    "os.chdir('C:\\\\Users\\\\dmitr\\\\GitHub\\\\Practicum-Data-Analysis\\\\datasets')"
   ]
  },
  {
   "cell_type": "code",
   "execution_count": 2,
   "metadata": {},
   "outputs": [],
   "source": [
    "# загружаем данные\n",
    "\n",
    "users = pd.read_csv('final_ab_new_users.csv') # новые пользователи\n",
    "user_events = pd.read_csv('final_ab_events.csv') # действия новых пользователей\n",
    "test_participants = pd.read_csv('final_ab_participants.csv') # список участников разных AB тестов\n",
    "marketing_events = pd.read_csv('ab_project_marketing_events.csv') # календарь маркетинговых событий"
   ]
  },
  {
   "cell_type": "markdown",
   "metadata": {},
   "source": [
    "### Новые пользователи"
   ]
  },
  {
   "cell_type": "code",
   "execution_count": 3,
   "metadata": {},
   "outputs": [
    {
     "name": "stdout",
     "output_type": "stream",
     "text": [
      "<class 'pandas.core.frame.DataFrame'>\n",
      "RangeIndex: 61733 entries, 0 to 61732\n",
      "Data columns (total 4 columns):\n",
      " #   Column      Non-Null Count  Dtype \n",
      "---  ------      --------------  ----- \n",
      " 0   user_id     61733 non-null  object\n",
      " 1   first_date  61733 non-null  object\n",
      " 2   region      61733 non-null  object\n",
      " 3   device      61733 non-null  object\n",
      "dtypes: object(4)\n",
      "memory usage: 1.9+ MB\n"
     ]
    },
    {
     "data": {
      "text/html": [
       "<div>\n",
       "<style scoped>\n",
       "    .dataframe tbody tr th:only-of-type {\n",
       "        vertical-align: middle;\n",
       "    }\n",
       "\n",
       "    .dataframe tbody tr th {\n",
       "        vertical-align: top;\n",
       "    }\n",
       "\n",
       "    .dataframe thead th {\n",
       "        text-align: right;\n",
       "    }\n",
       "</style>\n",
       "<table border=\"1\" class=\"dataframe\">\n",
       "  <thead>\n",
       "    <tr style=\"text-align: right;\">\n",
       "      <th></th>\n",
       "      <th>user_id</th>\n",
       "      <th>first_date</th>\n",
       "      <th>region</th>\n",
       "      <th>device</th>\n",
       "    </tr>\n",
       "  </thead>\n",
       "  <tbody>\n",
       "    <tr>\n",
       "      <th>count</th>\n",
       "      <td>61733</td>\n",
       "      <td>61733</td>\n",
       "      <td>61733</td>\n",
       "      <td>61733</td>\n",
       "    </tr>\n",
       "    <tr>\n",
       "      <th>unique</th>\n",
       "      <td>61733</td>\n",
       "      <td>17</td>\n",
       "      <td>4</td>\n",
       "      <td>4</td>\n",
       "    </tr>\n",
       "    <tr>\n",
       "      <th>top</th>\n",
       "      <td>D72A72121175D8BE</td>\n",
       "      <td>2020-12-21</td>\n",
       "      <td>EU</td>\n",
       "      <td>Android</td>\n",
       "    </tr>\n",
       "    <tr>\n",
       "      <th>freq</th>\n",
       "      <td>1</td>\n",
       "      <td>6290</td>\n",
       "      <td>46270</td>\n",
       "      <td>27520</td>\n",
       "    </tr>\n",
       "  </tbody>\n",
       "</table>\n",
       "</div>"
      ],
      "text/plain": [
       "                 user_id  first_date region   device\n",
       "count              61733       61733  61733    61733\n",
       "unique             61733          17      4        4\n",
       "top     D72A72121175D8BE  2020-12-21     EU  Android\n",
       "freq                   1        6290  46270    27520"
      ]
     },
     "metadata": {},
     "output_type": "display_data"
    },
    {
     "data": {
      "text/html": [
       "<div>\n",
       "<style scoped>\n",
       "    .dataframe tbody tr th:only-of-type {\n",
       "        vertical-align: middle;\n",
       "    }\n",
       "\n",
       "    .dataframe tbody tr th {\n",
       "        vertical-align: top;\n",
       "    }\n",
       "\n",
       "    .dataframe thead th {\n",
       "        text-align: right;\n",
       "    }\n",
       "</style>\n",
       "<table border=\"1\" class=\"dataframe\">\n",
       "  <thead>\n",
       "    <tr style=\"text-align: right;\">\n",
       "      <th></th>\n",
       "      <th>user_id</th>\n",
       "      <th>first_date</th>\n",
       "      <th>region</th>\n",
       "      <th>device</th>\n",
       "    </tr>\n",
       "  </thead>\n",
       "  <tbody>\n",
       "    <tr>\n",
       "      <th>9145</th>\n",
       "      <td>8C07103A3DCCA5CB</td>\n",
       "      <td>2020-12-14</td>\n",
       "      <td>EU</td>\n",
       "      <td>Android</td>\n",
       "    </tr>\n",
       "    <tr>\n",
       "      <th>33709</th>\n",
       "      <td>9A7EB0465E2DC590</td>\n",
       "      <td>2020-12-10</td>\n",
       "      <td>CIS</td>\n",
       "      <td>Android</td>\n",
       "    </tr>\n",
       "    <tr>\n",
       "      <th>7768</th>\n",
       "      <td>1D400F27F375EDDC</td>\n",
       "      <td>2020-12-14</td>\n",
       "      <td>CIS</td>\n",
       "      <td>PC</td>\n",
       "    </tr>\n",
       "    <tr>\n",
       "      <th>54387</th>\n",
       "      <td>006E3D14743030D4</td>\n",
       "      <td>2020-12-13</td>\n",
       "      <td>EU</td>\n",
       "      <td>Android</td>\n",
       "    </tr>\n",
       "    <tr>\n",
       "      <th>10017</th>\n",
       "      <td>9A79AAC8B0EA52AE</td>\n",
       "      <td>2020-12-14</td>\n",
       "      <td>EU</td>\n",
       "      <td>Mac</td>\n",
       "    </tr>\n",
       "  </tbody>\n",
       "</table>\n",
       "</div>"
      ],
      "text/plain": [
       "                user_id  first_date region   device\n",
       "9145   8C07103A3DCCA5CB  2020-12-14     EU  Android\n",
       "33709  9A7EB0465E2DC590  2020-12-10    CIS  Android\n",
       "7768   1D400F27F375EDDC  2020-12-14    CIS       PC\n",
       "54387  006E3D14743030D4  2020-12-13     EU  Android\n",
       "10017  9A79AAC8B0EA52AE  2020-12-14     EU      Mac"
      ]
     },
     "metadata": {},
     "output_type": "display_data"
    }
   ],
   "source": [
    "def overview(df):\n",
    "    \n",
    "    '''функция для вывода общей информации, \n",
    "       описательной статистики и нескольких случайных строк'''\n",
    "    \n",
    "    df.info()\n",
    "    display(\n",
    "        df.describe(include='all', datetime_is_numeric=True), \n",
    "        df.sample(5, random_state=0)\n",
    "    )\n",
    "    if df.isna().sum().sum() > 0:\n",
    "        print('missing values count')\n",
    "        print('')\n",
    "        print(df.isna().sum())\n",
    "\n",
    "# таблица с пользователями    \n",
    "    \n",
    "overview(users)"
   ]
  },
  {
   "cell_type": "markdown",
   "metadata": {},
   "source": [
    "___\n",
    "Таблица содержит 61,733 строку и 4 столбца, явные пропуски отсутствуют.\n",
    "\n",
    "Описание данных из документации:\n",
    "\n",
    "`final_ab_new_users.csv` — пользователи, зарегистрировавшиеся с 7 по 21 декабря 2020 года.\n",
    "\n",
    "Структура таблицы:\n",
    "\n",
    "- `user_id` — идентификатор пользователя;\n",
    "- `first_date` — дата регистрации;\n",
    "- `region` — регион пользователя;\n",
    "- `device` — устройство, с которого происходила регистрация.\n",
    "___"
   ]
  },
  {
   "cell_type": "markdown",
   "metadata": {},
   "source": [
    "Дата регистрации представлены в виде текста, для корректных расчётов необходимо преобразование:"
   ]
  },
  {
   "cell_type": "code",
   "execution_count": 4,
   "metadata": {},
   "outputs": [],
   "source": [
    "# меняем тип данных\n",
    "\n",
    "users['first_date'] = pd.to_datetime(users['first_date'])"
   ]
  },
  {
   "cell_type": "markdown",
   "metadata": {},
   "source": [
    "Из описательной статистики таблицы видно, что все пользователи уникальны. Посмотрим на значения остальных столцов:\n",
    "<a id='dates'></a>"
   ]
  },
  {
   "cell_type": "code",
   "execution_count": 5,
   "metadata": {},
   "outputs": [
    {
     "data": {
      "text/plain": [
       "2020-12-21    6290\n",
       "2020-12-14    5654\n",
       "2020-12-07    5595\n",
       "2020-12-13    4691\n",
       "2020-12-20    4288\n",
       "2020-12-12    3963\n",
       "2020-12-19    3617\n",
       "2020-12-18    3365\n",
       "2020-12-08    3239\n",
       "2020-12-22    3083\n",
       "2020-12-10    3076\n",
       "2020-12-17    3048\n",
       "2020-12-15    3043\n",
       "2020-12-11    2390\n",
       "2020-12-23    2180\n",
       "2020-12-16    2110\n",
       "2020-12-09    2101\n",
       "Name: first_date, dtype: int64"
      ]
     },
     "execution_count": 5,
     "metadata": {},
     "output_type": "execute_result"
    }
   ],
   "source": [
    "# посмотрим на даты регистрации\n",
    "\n",
    "users['first_date'].value_counts()"
   ]
  },
  {
   "cell_type": "markdown",
   "metadata": {},
   "source": [
    "- Абсолютное большинство пользователей зарегестрировались в последний день рассматриваемого периода."
   ]
  },
  {
   "cell_type": "markdown",
   "metadata": {},
   "source": [
    "Согласно техническому заданию, набор пользователей для теста был закончен 21 декабря - ограничим данные этой датой:"
   ]
  },
  {
   "cell_type": "code",
   "execution_count": 6,
   "metadata": {},
   "outputs": [],
   "source": [
    "users = users.query('first_date <= \"2020-12-21\"')"
   ]
  },
  {
   "cell_type": "code",
   "execution_count": 7,
   "metadata": {},
   "outputs": [
    {
     "data": {
      "text/plain": [
       "EU           42340\n",
       "N.America     8347\n",
       "CIS           2900\n",
       "APAC          2883\n",
       "Name: region, dtype: int64"
      ]
     },
     "execution_count": 7,
     "metadata": {},
     "output_type": "execute_result"
    }
   ],
   "source": [
    "# посмотрим на регионы\n",
    "\n",
    "users['region'].value_counts()"
   ]
  },
  {
   "cell_type": "markdown",
   "metadata": {},
   "source": [
    "- В данных присутствуют пользователи из четырёх регионов, большая часть представляет регион `EU`"
   ]
  },
  {
   "cell_type": "code",
   "execution_count": 8,
   "metadata": {},
   "outputs": [
    {
     "data": {
      "text/plain": [
       "Android    25161\n",
       "PC         14310\n",
       "iPhone     11477\n",
       "Mac         5522\n",
       "Name: device, dtype: int64"
      ]
     },
     "execution_count": 8,
     "metadata": {},
     "output_type": "execute_result"
    }
   ],
   "source": [
    "# посмотрим на пользовательские устройства\n",
    "\n",
    "users['device'].value_counts()"
   ]
  },
  {
   "cell_type": "markdown",
   "metadata": {},
   "source": [
    "- Подавляющее больщинство пользователей используют устройство на базе `Android`"
   ]
  },
  {
   "cell_type": "markdown",
   "metadata": {},
   "source": [
    "### Действия новых пользователей"
   ]
  },
  {
   "cell_type": "code",
   "execution_count": 9,
   "metadata": {},
   "outputs": [
    {
     "name": "stdout",
     "output_type": "stream",
     "text": [
      "<class 'pandas.core.frame.DataFrame'>\n",
      "RangeIndex: 440317 entries, 0 to 440316\n",
      "Data columns (total 4 columns):\n",
      " #   Column      Non-Null Count   Dtype  \n",
      "---  ------      --------------   -----  \n",
      " 0   user_id     440317 non-null  object \n",
      " 1   event_dt    440317 non-null  object \n",
      " 2   event_name  440317 non-null  object \n",
      " 3   details     62740 non-null   float64\n",
      "dtypes: float64(1), object(3)\n",
      "memory usage: 13.4+ MB\n"
     ]
    },
    {
     "data": {
      "text/html": [
       "<div>\n",
       "<style scoped>\n",
       "    .dataframe tbody tr th:only-of-type {\n",
       "        vertical-align: middle;\n",
       "    }\n",
       "\n",
       "    .dataframe tbody tr th {\n",
       "        vertical-align: top;\n",
       "    }\n",
       "\n",
       "    .dataframe thead th {\n",
       "        text-align: right;\n",
       "    }\n",
       "</style>\n",
       "<table border=\"1\" class=\"dataframe\">\n",
       "  <thead>\n",
       "    <tr style=\"text-align: right;\">\n",
       "      <th></th>\n",
       "      <th>user_id</th>\n",
       "      <th>event_dt</th>\n",
       "      <th>event_name</th>\n",
       "      <th>details</th>\n",
       "    </tr>\n",
       "  </thead>\n",
       "  <tbody>\n",
       "    <tr>\n",
       "      <th>count</th>\n",
       "      <td>440317</td>\n",
       "      <td>440317</td>\n",
       "      <td>440317</td>\n",
       "      <td>62,740.00</td>\n",
       "    </tr>\n",
       "    <tr>\n",
       "      <th>unique</th>\n",
       "      <td>58703</td>\n",
       "      <td>267268</td>\n",
       "      <td>4</td>\n",
       "      <td>NaN</td>\n",
       "    </tr>\n",
       "    <tr>\n",
       "      <th>top</th>\n",
       "      <td>A3917F81482141F2</td>\n",
       "      <td>2020-12-23 02:37:24</td>\n",
       "      <td>login</td>\n",
       "      <td>NaN</td>\n",
       "    </tr>\n",
       "    <tr>\n",
       "      <th>freq</th>\n",
       "      <td>36</td>\n",
       "      <td>10</td>\n",
       "      <td>189552</td>\n",
       "      <td>NaN</td>\n",
       "    </tr>\n",
       "    <tr>\n",
       "      <th>mean</th>\n",
       "      <td>NaN</td>\n",
       "      <td>NaN</td>\n",
       "      <td>NaN</td>\n",
       "      <td>23.88</td>\n",
       "    </tr>\n",
       "    <tr>\n",
       "      <th>std</th>\n",
       "      <td>NaN</td>\n",
       "      <td>NaN</td>\n",
       "      <td>NaN</td>\n",
       "      <td>72.18</td>\n",
       "    </tr>\n",
       "    <tr>\n",
       "      <th>min</th>\n",
       "      <td>NaN</td>\n",
       "      <td>NaN</td>\n",
       "      <td>NaN</td>\n",
       "      <td>4.99</td>\n",
       "    </tr>\n",
       "    <tr>\n",
       "      <th>25%</th>\n",
       "      <td>NaN</td>\n",
       "      <td>NaN</td>\n",
       "      <td>NaN</td>\n",
       "      <td>4.99</td>\n",
       "    </tr>\n",
       "    <tr>\n",
       "      <th>50%</th>\n",
       "      <td>NaN</td>\n",
       "      <td>NaN</td>\n",
       "      <td>NaN</td>\n",
       "      <td>4.99</td>\n",
       "    </tr>\n",
       "    <tr>\n",
       "      <th>75%</th>\n",
       "      <td>NaN</td>\n",
       "      <td>NaN</td>\n",
       "      <td>NaN</td>\n",
       "      <td>9.99</td>\n",
       "    </tr>\n",
       "    <tr>\n",
       "      <th>max</th>\n",
       "      <td>NaN</td>\n",
       "      <td>NaN</td>\n",
       "      <td>NaN</td>\n",
       "      <td>499.99</td>\n",
       "    </tr>\n",
       "  </tbody>\n",
       "</table>\n",
       "</div>"
      ],
      "text/plain": [
       "                 user_id             event_dt event_name   details\n",
       "count             440317               440317     440317 62,740.00\n",
       "unique             58703               267268          4       NaN\n",
       "top     A3917F81482141F2  2020-12-23 02:37:24      login       NaN\n",
       "freq                  36                   10     189552       NaN\n",
       "mean                 NaN                  NaN        NaN     23.88\n",
       "std                  NaN                  NaN        NaN     72.18\n",
       "min                  NaN                  NaN        NaN      4.99\n",
       "25%                  NaN                  NaN        NaN      4.99\n",
       "50%                  NaN                  NaN        NaN      4.99\n",
       "75%                  NaN                  NaN        NaN      9.99\n",
       "max                  NaN                  NaN        NaN    499.99"
      ]
     },
     "metadata": {},
     "output_type": "display_data"
    },
    {
     "data": {
      "text/html": [
       "<div>\n",
       "<style scoped>\n",
       "    .dataframe tbody tr th:only-of-type {\n",
       "        vertical-align: middle;\n",
       "    }\n",
       "\n",
       "    .dataframe tbody tr th {\n",
       "        vertical-align: top;\n",
       "    }\n",
       "\n",
       "    .dataframe thead th {\n",
       "        text-align: right;\n",
       "    }\n",
       "</style>\n",
       "<table border=\"1\" class=\"dataframe\">\n",
       "  <thead>\n",
       "    <tr style=\"text-align: right;\">\n",
       "      <th></th>\n",
       "      <th>user_id</th>\n",
       "      <th>event_dt</th>\n",
       "      <th>event_name</th>\n",
       "      <th>details</th>\n",
       "    </tr>\n",
       "  </thead>\n",
       "  <tbody>\n",
       "    <tr>\n",
       "      <th>390825</th>\n",
       "      <td>355E781F2D95012A</td>\n",
       "      <td>2020-12-22 16:15:15</td>\n",
       "      <td>login</td>\n",
       "      <td>NaN</td>\n",
       "    </tr>\n",
       "    <tr>\n",
       "      <th>82196</th>\n",
       "      <td>25CDE8C43F052564</td>\n",
       "      <td>2020-12-15 16:12:06</td>\n",
       "      <td>product_cart</td>\n",
       "      <td>NaN</td>\n",
       "    </tr>\n",
       "    <tr>\n",
       "      <th>211107</th>\n",
       "      <td>8857321F4D97B089</td>\n",
       "      <td>2020-12-22 15:56:32</td>\n",
       "      <td>product_page</td>\n",
       "      <td>NaN</td>\n",
       "    </tr>\n",
       "    <tr>\n",
       "      <th>182271</th>\n",
       "      <td>6F28139FA1E8EF98</td>\n",
       "      <td>2020-12-18 10:11:55</td>\n",
       "      <td>product_page</td>\n",
       "      <td>NaN</td>\n",
       "    </tr>\n",
       "    <tr>\n",
       "      <th>380348</th>\n",
       "      <td>CD104B18BF9D39BE</td>\n",
       "      <td>2020-12-21 21:02:39</td>\n",
       "      <td>login</td>\n",
       "      <td>NaN</td>\n",
       "    </tr>\n",
       "  </tbody>\n",
       "</table>\n",
       "</div>"
      ],
      "text/plain": [
       "                 user_id             event_dt    event_name  details\n",
       "390825  355E781F2D95012A  2020-12-22 16:15:15         login      NaN\n",
       "82196   25CDE8C43F052564  2020-12-15 16:12:06  product_cart      NaN\n",
       "211107  8857321F4D97B089  2020-12-22 15:56:32  product_page      NaN\n",
       "182271  6F28139FA1E8EF98  2020-12-18 10:11:55  product_page      NaN\n",
       "380348  CD104B18BF9D39BE  2020-12-21 21:02:39         login      NaN"
      ]
     },
     "metadata": {},
     "output_type": "display_data"
    },
    {
     "name": "stdout",
     "output_type": "stream",
     "text": [
      "missing values count\n",
      "\n",
      "user_id            0\n",
      "event_dt           0\n",
      "event_name         0\n",
      "details       377577\n",
      "dtype: int64\n"
     ]
    }
   ],
   "source": [
    "# таблица с логами пользовательских событий\n",
    "\n",
    "overview(user_events)"
   ]
  },
  {
   "cell_type": "markdown",
   "metadata": {},
   "source": [
    "___\n",
    "Таблица содержит 440,317 строк и 4 столбца. Явные пропуски наблюдаются только в столбце `details`.\n",
    "\n",
    "Описание данных согласно документации:\n",
    "\n",
    "`final_ab_events.csv` — действия новых пользователей в период с 7 декабря 2020 по 4 января 2021 года.\n",
    "\n",
    "Структура таблицы:\n",
    "\n",
    "- `user_id` — идентификатор пользователя;\n",
    "- `event_dt` — дата и время покупки;\n",
    "- `event_name` — тип события;\n",
    "- `details` — дополнительные данные о событии. Например, для покупок, `purchase,` в этом поле хранится стоимость покупки в долларах.\n",
    "____"
   ]
  },
  {
   "cell_type": "markdown",
   "metadata": {},
   "source": [
    "- Количество уникальных пользователей таблицы с пользовательскими событиями (*58,703*) не совпадает с количеством из таблицы со всеми новыми пользователями (*61,733*) - это указывает на то, что часть пользователей не совершали никаких активностей, что должно быть учтено при анализе результатов теста."
   ]
  },
  {
   "cell_type": "markdown",
   "metadata": {},
   "source": [
    "Даты в этой таблице также представлены в виде текста, сделаем преобразование:"
   ]
  },
  {
   "cell_type": "code",
   "execution_count": 10,
   "metadata": {},
   "outputs": [],
   "source": [
    "# меняем тип данных\n",
    "\n",
    "user_events['event_dt'] = pd.to_datetime(user_events['event_dt'])"
   ]
  },
  {
   "cell_type": "markdown",
   "metadata": {},
   "source": [
    "Изучим уникальные типы событий:"
   ]
  },
  {
   "cell_type": "code",
   "execution_count": 11,
   "metadata": {},
   "outputs": [
    {
     "data": {
      "text/plain": [
       "login           189552\n",
       "product_page    125563\n",
       "purchase         62740\n",
       "product_cart     62462\n",
       "Name: event_name, dtype: int64"
      ]
     },
     "execution_count": 11,
     "metadata": {},
     "output_type": "execute_result"
    }
   ],
   "source": [
    "# смотрим уникальные значения\n",
    "\n",
    "user_events['event_name'].value_counts()"
   ]
  },
  {
   "cell_type": "markdown",
   "metadata": {},
   "source": [
    "- Логи пользовательских событий содержат четыре уникальных значения - `login` (*вход в учётную запись*), `product_page` (*просмотр страницы с товаром*), `product_cart` (*просмотр страницы с корзиной товаров*) и `purchase` (*успешная покупка*). Причём количество событий с покупкой больше, чем количество просмотров корзины, что может сигнализировать об использовании модулей вроде `покупка в один клик`."
   ]
  },
  {
   "cell_type": "markdown",
   "metadata": {},
   "source": [
    "На этапе исследовательского анализа данных этот момент будет изучен подробнее с помощью воронки конверсии. \n",
    "\n",
    "Дальше попробуем найти закономерность в пропущенных значениях - в документации приведён пример с указанием суммы покупки в столбце `details` для события `purchase`. Проверим, какие ещё могут быть варианты:"
   ]
  },
  {
   "cell_type": "code",
   "execution_count": 12,
   "metadata": {},
   "outputs": [
    {
     "data": {
      "text/html": [
       "<div>\n",
       "<style scoped>\n",
       "    .dataframe tbody tr th:only-of-type {\n",
       "        vertical-align: middle;\n",
       "    }\n",
       "\n",
       "    .dataframe tbody tr th {\n",
       "        vertical-align: top;\n",
       "    }\n",
       "\n",
       "    .dataframe thead th {\n",
       "        text-align: right;\n",
       "    }\n",
       "</style>\n",
       "<table border=\"1\" class=\"dataframe\">\n",
       "  <thead>\n",
       "    <tr style=\"text-align: right;\">\n",
       "      <th></th>\n",
       "      <th>user_id</th>\n",
       "      <th>event_dt</th>\n",
       "      <th>event_name</th>\n",
       "      <th>details</th>\n",
       "    </tr>\n",
       "  </thead>\n",
       "  <tbody>\n",
       "  </tbody>\n",
       "</table>\n",
       "</div>"
      ],
      "text/plain": [
       "Empty DataFrame\n",
       "Columns: [user_id, event_dt, event_name, details]\n",
       "Index: []"
      ]
     },
     "execution_count": 12,
     "metadata": {},
     "output_type": "execute_result"
    }
   ],
   "source": [
    "# посмотрим на значения `details` (кроме примера из документации)\n",
    "\n",
    "(\n",
    "    user_events[user_events['details'].notna()]\n",
    "    .query('event_name != \"purchase\"')\n",
    ")"
   ]
  },
  {
   "cell_type": "markdown",
   "metadata": {},
   "source": [
    "Учитывая результаты проверки и числовой формат столбца можем сделать вывод, что столбец `details` используются исключительно для указания суммы покупки. Так как суммы выручки не является одной из целевых метрик для A/B-теста, вместо обработки пропусков мы можем удалить столбец целиком:"
   ]
  },
  {
   "cell_type": "code",
   "execution_count": 13,
   "metadata": {},
   "outputs": [],
   "source": [
    "user_events.dropna(axis=1, inplace=True)"
   ]
  },
  {
   "cell_type": "markdown",
   "metadata": {},
   "source": [
    "### Список участников разных A/B-тестов"
   ]
  },
  {
   "cell_type": "code",
   "execution_count": 14,
   "metadata": {},
   "outputs": [
    {
     "name": "stdout",
     "output_type": "stream",
     "text": [
      "<class 'pandas.core.frame.DataFrame'>\n",
      "RangeIndex: 18268 entries, 0 to 18267\n",
      "Data columns (total 3 columns):\n",
      " #   Column   Non-Null Count  Dtype \n",
      "---  ------   --------------  ----- \n",
      " 0   user_id  18268 non-null  object\n",
      " 1   group    18268 non-null  object\n",
      " 2   ab_test  18268 non-null  object\n",
      "dtypes: object(3)\n",
      "memory usage: 428.3+ KB\n"
     ]
    },
    {
     "data": {
      "text/html": [
       "<div>\n",
       "<style scoped>\n",
       "    .dataframe tbody tr th:only-of-type {\n",
       "        vertical-align: middle;\n",
       "    }\n",
       "\n",
       "    .dataframe tbody tr th {\n",
       "        vertical-align: top;\n",
       "    }\n",
       "\n",
       "    .dataframe thead th {\n",
       "        text-align: right;\n",
       "    }\n",
       "</style>\n",
       "<table border=\"1\" class=\"dataframe\">\n",
       "  <thead>\n",
       "    <tr style=\"text-align: right;\">\n",
       "      <th></th>\n",
       "      <th>user_id</th>\n",
       "      <th>group</th>\n",
       "      <th>ab_test</th>\n",
       "    </tr>\n",
       "  </thead>\n",
       "  <tbody>\n",
       "    <tr>\n",
       "      <th>count</th>\n",
       "      <td>18268</td>\n",
       "      <td>18268</td>\n",
       "      <td>18268</td>\n",
       "    </tr>\n",
       "    <tr>\n",
       "      <th>unique</th>\n",
       "      <td>16666</td>\n",
       "      <td>2</td>\n",
       "      <td>2</td>\n",
       "    </tr>\n",
       "    <tr>\n",
       "      <th>top</th>\n",
       "      <td>0FDFDA0B2DEC2D91</td>\n",
       "      <td>A</td>\n",
       "      <td>interface_eu_test</td>\n",
       "    </tr>\n",
       "    <tr>\n",
       "      <th>freq</th>\n",
       "      <td>2</td>\n",
       "      <td>9655</td>\n",
       "      <td>11567</td>\n",
       "    </tr>\n",
       "  </tbody>\n",
       "</table>\n",
       "</div>"
      ],
      "text/plain": [
       "                 user_id  group            ab_test\n",
       "count              18268  18268              18268\n",
       "unique             16666      2                  2\n",
       "top     0FDFDA0B2DEC2D91      A  interface_eu_test\n",
       "freq                   2   9655              11567"
      ]
     },
     "metadata": {},
     "output_type": "display_data"
    },
    {
     "data": {
      "text/html": [
       "<div>\n",
       "<style scoped>\n",
       "    .dataframe tbody tr th:only-of-type {\n",
       "        vertical-align: middle;\n",
       "    }\n",
       "\n",
       "    .dataframe tbody tr th {\n",
       "        vertical-align: top;\n",
       "    }\n",
       "\n",
       "    .dataframe thead th {\n",
       "        text-align: right;\n",
       "    }\n",
       "</style>\n",
       "<table border=\"1\" class=\"dataframe\">\n",
       "  <thead>\n",
       "    <tr style=\"text-align: right;\">\n",
       "      <th></th>\n",
       "      <th>user_id</th>\n",
       "      <th>group</th>\n",
       "      <th>ab_test</th>\n",
       "    </tr>\n",
       "  </thead>\n",
       "  <tbody>\n",
       "    <tr>\n",
       "      <th>4890</th>\n",
       "      <td>9708BA96BC78EE9F</td>\n",
       "      <td>A</td>\n",
       "      <td>recommender_system_test</td>\n",
       "    </tr>\n",
       "    <tr>\n",
       "      <th>9825</th>\n",
       "      <td>6D05D44AB00C84D2</td>\n",
       "      <td>B</td>\n",
       "      <td>interface_eu_test</td>\n",
       "    </tr>\n",
       "    <tr>\n",
       "      <th>6727</th>\n",
       "      <td>97248D21983C5DBC</td>\n",
       "      <td>B</td>\n",
       "      <td>interface_eu_test</td>\n",
       "    </tr>\n",
       "    <tr>\n",
       "      <th>624</th>\n",
       "      <td>92F843D598252571</td>\n",
       "      <td>A</td>\n",
       "      <td>recommender_system_test</td>\n",
       "    </tr>\n",
       "    <tr>\n",
       "      <th>15137</th>\n",
       "      <td>CDB54E138640B8EF</td>\n",
       "      <td>A</td>\n",
       "      <td>interface_eu_test</td>\n",
       "    </tr>\n",
       "  </tbody>\n",
       "</table>\n",
       "</div>"
      ],
      "text/plain": [
       "                user_id group                  ab_test\n",
       "4890   9708BA96BC78EE9F     A  recommender_system_test\n",
       "9825   6D05D44AB00C84D2     B        interface_eu_test\n",
       "6727   97248D21983C5DBC     B        interface_eu_test\n",
       "624    92F843D598252571     A  recommender_system_test\n",
       "15137  CDB54E138640B8EF     A        interface_eu_test"
      ]
     },
     "metadata": {},
     "output_type": "display_data"
    }
   ],
   "source": [
    "# список пользователей - участников A/B-тестирования\n",
    "\n",
    "overview(test_participants)"
   ]
  },
  {
   "cell_type": "markdown",
   "metadata": {},
   "source": [
    "___\n",
    "Таблица содержит 18,268 строк и 3 столбца. Явные пропуски отсутствуют. \n",
    "\n",
    "Описание данных согласно документации:\n",
    "\n",
    "`final_ab_participants.csv` — таблица участников тестов.\n",
    "\n",
    "Структура таблицы:\n",
    "\n",
    "- `user_id` — идентификатор пользователя;\n",
    "- `ab_test` — название теста;\n",
    "- `group` — группа пользователя.\n",
    "___"
   ]
  },
  {
   "cell_type": "markdown",
   "metadata": {},
   "source": [
    "Согласно техническому задания, целевая аудитория теста - 15% новых пользователей из региона `EU`. Проверим данные таблицы на соответствие этому требованию:"
   ]
  },
  {
   "cell_type": "code",
   "execution_count": 15,
   "metadata": {
    "scrolled": true
   },
   "outputs": [
    {
     "data": {
      "text/html": [
       "<div>\n",
       "<style scoped>\n",
       "    .dataframe tbody tr th:only-of-type {\n",
       "        vertical-align: middle;\n",
       "    }\n",
       "\n",
       "    .dataframe tbody tr th {\n",
       "        vertical-align: top;\n",
       "    }\n",
       "\n",
       "    .dataframe thead th {\n",
       "        text-align: right;\n",
       "    }\n",
       "</style>\n",
       "<table border=\"1\" class=\"dataframe\">\n",
       "  <thead>\n",
       "    <tr style=\"text-align: right;\">\n",
       "      <th></th>\n",
       "      <th>total</th>\n",
       "      <th>test</th>\n",
       "    </tr>\n",
       "  </thead>\n",
       "  <tbody>\n",
       "    <tr>\n",
       "      <th>EU</th>\n",
       "      <td>42340</td>\n",
       "      <td>15.0%</td>\n",
       "    </tr>\n",
       "    <tr>\n",
       "      <th>N.America</th>\n",
       "      <td>8347</td>\n",
       "      <td>2.67%</td>\n",
       "    </tr>\n",
       "    <tr>\n",
       "      <th>APAC</th>\n",
       "      <td>2883</td>\n",
       "      <td>2.5%</td>\n",
       "    </tr>\n",
       "    <tr>\n",
       "      <th>CIS</th>\n",
       "      <td>2900</td>\n",
       "      <td>1.9%</td>\n",
       "    </tr>\n",
       "  </tbody>\n",
       "</table>\n",
       "</div>"
      ],
      "text/plain": [
       "           total   test\n",
       "EU         42340  15.0%\n",
       "N.America   8347  2.67%\n",
       "APAC        2883   2.5%\n",
       "CIS         2900   1.9%"
      ]
     },
     "execution_count": 15,
     "metadata": {},
     "output_type": "execute_result"
    }
   ],
   "source": [
    "# посмотрим на распределение пользователей по регионам\n",
    "\n",
    "test_users = list(\n",
    "    test_participants\n",
    "    .query('ab_test == \"recommender_system_test\"')[\"user_id\"]\n",
    ")\n",
    "\n",
    "\n",
    "region_distribution = (\n",
    "    users\n",
    "    .query('user_id in @test_users')['region']\n",
    "    .value_counts()\n",
    "    .to_frame()\n",
    "    .merge(\n",
    "        users['region']\n",
    "        .value_counts()\n",
    "        .to_frame(),\n",
    "        left_index=True,\n",
    "        right_index=True)\n",
    "    .rename(columns={'region_x':'test',\n",
    "                     'region_y':'total'})\n",
    "    .reindex(columns=['total', 'test'])\n",
    ")\n",
    "\n",
    "region_distribution['test'] = (\n",
    "    round(\n",
    "        region_distribution['test']/\n",
    "        region_distribution['total']*100, 2)\n",
    "    .astype(str) + '%'\n",
    ")\n",
    "\n",
    "region_distribution"
   ]
  },
  {
   "cell_type": "markdown",
   "metadata": {},
   "source": [
    "- Требование технического задания в формировании целовой аудитории теста из 15% пользователей из региона `EU` соблюдено"
   ]
  },
  {
   "cell_type": "markdown",
   "metadata": {},
   "source": [
    "В тест также попала часть пользователей из других регионов - удалим их для корректной оценки результатов теста:"
   ]
  },
  {
   "cell_type": "code",
   "execution_count": 16,
   "metadata": {},
   "outputs": [],
   "source": [
    "users = users.query('region == \"EU\"')"
   ]
  },
  {
   "cell_type": "markdown",
   "metadata": {},
   "source": [
    "В таблице можно увидеть данные пользователей двух разных тестирований - `recommender_system_test` и `interface_eu_test`. Целью исследования является анализ результатов только первого теста, но сначала необходимо проверить данные на отсутствие пересечений - количество уникальных идентификаторов пользователей не совпадает с числом строк, что указывает на наличие дубликатов."
   ]
  },
  {
   "cell_type": "code",
   "execution_count": 17,
   "metadata": {},
   "outputs": [
    {
     "name": "stdout",
     "output_type": "stream",
     "text": [
      " Задублированных строк - 0\n",
      " Уникальных пользователей, попавших в оба теста - 1602\n"
     ]
    }
   ],
   "source": [
    "# проверим на явные дубликаты\n",
    "\n",
    "print(f' Задублированных строк - {test_participants.duplicated().sum()}')\n",
    "\n",
    "# проверим, что нет пользователей, попавших в оба теста\n",
    "\n",
    "inter = np.intersect1d(\n",
    "    test_participants.query('ab_test == \"recommender_system_test\"')['user_id'].unique(),\n",
    "    test_participants.query('ab_test == \"interface_eu_test\"')['user_id'].unique()\n",
    ")\n",
    "print(f' Уникальных пользователей, попавших в оба теста - {inter.size}')"
   ]
  },
  {
   "cell_type": "markdown",
   "metadata": {},
   "source": [
    "Явных дубликатов не выявлено, а вот пересечений довольно много - 1,602 уникальных пользователей являлись участниками двух разных тестирований. В таком случае анализировать влияние новвоведений на пользовательское поведение будет неккоректно, так как группы будет невозможно отличить. Очистим данные от пользователей, попавших в группу `B` конкурирующего теста:"
   ]
  },
  {
   "cell_type": "code",
   "execution_count": 18,
   "metadata": {},
   "outputs": [
    {
     "name": "stdout",
     "output_type": "stream",
     "text": [
      " Уникальных пользователей, попавших в эксперементальную группу другого теста - 783\n"
     ]
    }
   ],
   "source": [
    "# проверим пересечение с группой B конкурирующего теста\n",
    "\n",
    "inter = np.intersect1d(\n",
    "    test_participants.query('ab_test == \"recommender_system_test\"')['user_id'].unique(),\n",
    "    test_participants.query('ab_test == \"interface_eu_test\" & group == \"B\"')['user_id'].unique()\n",
    ")\n",
    "print(f' Уникальных пользователей, попавших в эксперементальную группу другого теста - {inter.size}')"
   ]
  },
  {
   "cell_type": "code",
   "execution_count": 19,
   "metadata": {},
   "outputs": [],
   "source": [
    "# убираем ошибочные данные\n",
    "\n",
    "test_participants = (\n",
    "    test_participants[\n",
    "        ~test_participants['user_id']\n",
    "        .isin(inter)]\n",
    ")\n",
    "\n",
    "# оставляем только данные целевого теста\n",
    "\n",
    "test_participants = (\n",
    "    test_participants\n",
    "    .query('ab_test == \"recommender_system_test\"')\n",
    ")"
   ]
  },
  {
   "cell_type": "markdown",
   "metadata": {},
   "source": [
    "Теперь таким же образом проверим, что одни и те же пользователи не попадают в разные группы тестирования:"
   ]
  },
  {
   "cell_type": "code",
   "execution_count": 20,
   "metadata": {},
   "outputs": [
    {
     "name": "stdout",
     "output_type": "stream",
     "text": [
      " Уникальных пользователей, попавших в обе группы - 0\n"
     ]
    }
   ],
   "source": [
    "# проверим, что нет пользователей, попавших в обе группы\n",
    "\n",
    "inter = np.intersect1d(\n",
    "    test_participants.query('group == \"A\"')['user_id'].unique(),\n",
    "    test_participants.query('group == \"B\"')['user_id'].unique()\n",
    ")\n",
    "print(f' Уникальных пользователей, попавших в обе группы - {inter.size}')"
   ]
  },
  {
   "cell_type": "markdown",
   "metadata": {},
   "source": [
    "Посмотрим на данные ещё раз:"
   ]
  },
  {
   "cell_type": "code",
   "execution_count": 21,
   "metadata": {},
   "outputs": [
    {
     "name": "stdout",
     "output_type": "stream",
     "text": [
      "<class 'pandas.core.frame.DataFrame'>\n",
      "Int64Index: 5918 entries, 0 to 6700\n",
      "Data columns (total 3 columns):\n",
      " #   Column   Non-Null Count  Dtype \n",
      "---  ------   --------------  ----- \n",
      " 0   user_id  5918 non-null   object\n",
      " 1   group    5918 non-null   object\n",
      " 2   ab_test  5918 non-null   object\n",
      "dtypes: object(3)\n",
      "memory usage: 184.9+ KB\n"
     ]
    },
    {
     "data": {
      "text/html": [
       "<div>\n",
       "<style scoped>\n",
       "    .dataframe tbody tr th:only-of-type {\n",
       "        vertical-align: middle;\n",
       "    }\n",
       "\n",
       "    .dataframe tbody tr th {\n",
       "        vertical-align: top;\n",
       "    }\n",
       "\n",
       "    .dataframe thead th {\n",
       "        text-align: right;\n",
       "    }\n",
       "</style>\n",
       "<table border=\"1\" class=\"dataframe\">\n",
       "  <thead>\n",
       "    <tr style=\"text-align: right;\">\n",
       "      <th></th>\n",
       "      <th>user_id</th>\n",
       "      <th>group</th>\n",
       "      <th>ab_test</th>\n",
       "    </tr>\n",
       "  </thead>\n",
       "  <tbody>\n",
       "    <tr>\n",
       "      <th>count</th>\n",
       "      <td>5918</td>\n",
       "      <td>5918</td>\n",
       "      <td>5918</td>\n",
       "    </tr>\n",
       "    <tr>\n",
       "      <th>unique</th>\n",
       "      <td>5918</td>\n",
       "      <td>2</td>\n",
       "      <td>1</td>\n",
       "    </tr>\n",
       "    <tr>\n",
       "      <th>top</th>\n",
       "      <td>D1ABA3E2887B6A73</td>\n",
       "      <td>A</td>\n",
       "      <td>recommender_system_test</td>\n",
       "    </tr>\n",
       "    <tr>\n",
       "      <th>freq</th>\n",
       "      <td>1</td>\n",
       "      <td>3385</td>\n",
       "      <td>5918</td>\n",
       "    </tr>\n",
       "  </tbody>\n",
       "</table>\n",
       "</div>"
      ],
      "text/plain": [
       "                 user_id group                  ab_test\n",
       "count               5918  5918                     5918\n",
       "unique              5918     2                        1\n",
       "top     D1ABA3E2887B6A73     A  recommender_system_test\n",
       "freq                   1  3385                     5918"
      ]
     },
     "metadata": {},
     "output_type": "display_data"
    },
    {
     "data": {
      "text/html": [
       "<div>\n",
       "<style scoped>\n",
       "    .dataframe tbody tr th:only-of-type {\n",
       "        vertical-align: middle;\n",
       "    }\n",
       "\n",
       "    .dataframe tbody tr th {\n",
       "        vertical-align: top;\n",
       "    }\n",
       "\n",
       "    .dataframe thead th {\n",
       "        text-align: right;\n",
       "    }\n",
       "</style>\n",
       "<table border=\"1\" class=\"dataframe\">\n",
       "  <thead>\n",
       "    <tr style=\"text-align: right;\">\n",
       "      <th></th>\n",
       "      <th>user_id</th>\n",
       "      <th>group</th>\n",
       "      <th>ab_test</th>\n",
       "    </tr>\n",
       "  </thead>\n",
       "  <tbody>\n",
       "    <tr>\n",
       "      <th>1601</th>\n",
       "      <td>AF2E9FDAF45DB4F2</td>\n",
       "      <td>A</td>\n",
       "      <td>recommender_system_test</td>\n",
       "    </tr>\n",
       "    <tr>\n",
       "      <th>6294</th>\n",
       "      <td>D6605910D68C12E0</td>\n",
       "      <td>B</td>\n",
       "      <td>recommender_system_test</td>\n",
       "    </tr>\n",
       "    <tr>\n",
       "      <th>3128</th>\n",
       "      <td>1644E1D5507A64A6</td>\n",
       "      <td>A</td>\n",
       "      <td>recommender_system_test</td>\n",
       "    </tr>\n",
       "    <tr>\n",
       "      <th>2106</th>\n",
       "      <td>5FF8B6AB257B404F</td>\n",
       "      <td>B</td>\n",
       "      <td>recommender_system_test</td>\n",
       "    </tr>\n",
       "    <tr>\n",
       "      <th>847</th>\n",
       "      <td>B255F022EA9889B7</td>\n",
       "      <td>B</td>\n",
       "      <td>recommender_system_test</td>\n",
       "    </tr>\n",
       "  </tbody>\n",
       "</table>\n",
       "</div>"
      ],
      "text/plain": [
       "               user_id group                  ab_test\n",
       "1601  AF2E9FDAF45DB4F2     A  recommender_system_test\n",
       "6294  D6605910D68C12E0     B  recommender_system_test\n",
       "3128  1644E1D5507A64A6     A  recommender_system_test\n",
       "2106  5FF8B6AB257B404F     B  recommender_system_test\n",
       "847   B255F022EA9889B7     B  recommender_system_test"
      ]
     },
     "metadata": {},
     "output_type": "display_data"
    }
   ],
   "source": [
    "overview(test_participants)"
   ]
  },
  {
   "cell_type": "markdown",
   "metadata": {},
   "source": [
    "- Пользователи неравномерно распределены по группам - из 5,918 уникальных пользователей 3,385 находятся в группе `A`, что составляет примерно 57%.\n",
    "\n",
    "\n",
    "- Целевой показатель количества участников в 6,000 формально был достигнут, но из-за пересечений с другим тестом часть данных не подлежит анализу, а их вынужденное удаление может негативно отразиться на выводах из анализа итоговых результатов. "
   ]
  },
  {
   "cell_type": "markdown",
   "metadata": {},
   "source": [
    "### Календарь маркетинговых событий"
   ]
  },
  {
   "cell_type": "code",
   "execution_count": 22,
   "metadata": {},
   "outputs": [
    {
     "name": "stdout",
     "output_type": "stream",
     "text": [
      "<class 'pandas.core.frame.DataFrame'>\n",
      "RangeIndex: 14 entries, 0 to 13\n",
      "Data columns (total 4 columns):\n",
      " #   Column     Non-Null Count  Dtype \n",
      "---  ------     --------------  ----- \n",
      " 0   name       14 non-null     object\n",
      " 1   regions    14 non-null     object\n",
      " 2   start_dt   14 non-null     object\n",
      " 3   finish_dt  14 non-null     object\n",
      "dtypes: object(4)\n",
      "memory usage: 576.0+ bytes\n"
     ]
    },
    {
     "data": {
      "text/html": [
       "<div>\n",
       "<style scoped>\n",
       "    .dataframe tbody tr th:only-of-type {\n",
       "        vertical-align: middle;\n",
       "    }\n",
       "\n",
       "    .dataframe tbody tr th {\n",
       "        vertical-align: top;\n",
       "    }\n",
       "\n",
       "    .dataframe thead th {\n",
       "        text-align: right;\n",
       "    }\n",
       "</style>\n",
       "<table border=\"1\" class=\"dataframe\">\n",
       "  <thead>\n",
       "    <tr style=\"text-align: right;\">\n",
       "      <th></th>\n",
       "      <th>name</th>\n",
       "      <th>regions</th>\n",
       "      <th>start_dt</th>\n",
       "      <th>finish_dt</th>\n",
       "    </tr>\n",
       "  </thead>\n",
       "  <tbody>\n",
       "    <tr>\n",
       "      <th>count</th>\n",
       "      <td>14</td>\n",
       "      <td>14</td>\n",
       "      <td>14</td>\n",
       "      <td>14</td>\n",
       "    </tr>\n",
       "    <tr>\n",
       "      <th>unique</th>\n",
       "      <td>14</td>\n",
       "      <td>6</td>\n",
       "      <td>14</td>\n",
       "      <td>14</td>\n",
       "    </tr>\n",
       "    <tr>\n",
       "      <th>top</th>\n",
       "      <td>Christmas&amp;New Year Promo</td>\n",
       "      <td>APAC</td>\n",
       "      <td>2020-12-25</td>\n",
       "      <td>2021-01-03</td>\n",
       "    </tr>\n",
       "    <tr>\n",
       "      <th>freq</th>\n",
       "      <td>1</td>\n",
       "      <td>4</td>\n",
       "      <td>1</td>\n",
       "      <td>1</td>\n",
       "    </tr>\n",
       "  </tbody>\n",
       "</table>\n",
       "</div>"
      ],
      "text/plain": [
       "                            name regions    start_dt   finish_dt\n",
       "count                         14      14          14          14\n",
       "unique                        14       6          14          14\n",
       "top     Christmas&New Year Promo    APAC  2020-12-25  2021-01-03\n",
       "freq                           1       4           1           1"
      ]
     },
     "metadata": {},
     "output_type": "display_data"
    },
    {
     "data": {
      "text/html": [
       "<div>\n",
       "<style scoped>\n",
       "    .dataframe tbody tr th:only-of-type {\n",
       "        vertical-align: middle;\n",
       "    }\n",
       "\n",
       "    .dataframe tbody tr th {\n",
       "        vertical-align: top;\n",
       "    }\n",
       "\n",
       "    .dataframe thead th {\n",
       "        text-align: right;\n",
       "    }\n",
       "</style>\n",
       "<table border=\"1\" class=\"dataframe\">\n",
       "  <thead>\n",
       "    <tr style=\"text-align: right;\">\n",
       "      <th></th>\n",
       "      <th>name</th>\n",
       "      <th>regions</th>\n",
       "      <th>start_dt</th>\n",
       "      <th>finish_dt</th>\n",
       "    </tr>\n",
       "  </thead>\n",
       "  <tbody>\n",
       "    <tr>\n",
       "      <th>8</th>\n",
       "      <td>International Women's Day Promo</td>\n",
       "      <td>EU, CIS, APAC</td>\n",
       "      <td>2020-03-08</td>\n",
       "      <td>2020-03-10</td>\n",
       "    </tr>\n",
       "    <tr>\n",
       "      <th>6</th>\n",
       "      <td>Chinese New Year Promo</td>\n",
       "      <td>APAC</td>\n",
       "      <td>2020-01-25</td>\n",
       "      <td>2020-02-07</td>\n",
       "    </tr>\n",
       "    <tr>\n",
       "      <th>4</th>\n",
       "      <td>4th of July Promo</td>\n",
       "      <td>N.America</td>\n",
       "      <td>2020-07-04</td>\n",
       "      <td>2020-07-11</td>\n",
       "    </tr>\n",
       "    <tr>\n",
       "      <th>11</th>\n",
       "      <td>Dragon Boat Festival Giveaway</td>\n",
       "      <td>APAC</td>\n",
       "      <td>2020-06-25</td>\n",
       "      <td>2020-07-01</td>\n",
       "    </tr>\n",
       "    <tr>\n",
       "      <th>2</th>\n",
       "      <td>St. Patric's Day Promo</td>\n",
       "      <td>EU, N.America</td>\n",
       "      <td>2020-03-17</td>\n",
       "      <td>2020-03-19</td>\n",
       "    </tr>\n",
       "  </tbody>\n",
       "</table>\n",
       "</div>"
      ],
      "text/plain": [
       "                               name        regions    start_dt   finish_dt\n",
       "8   International Women's Day Promo  EU, CIS, APAC  2020-03-08  2020-03-10\n",
       "6            Chinese New Year Promo           APAC  2020-01-25  2020-02-07\n",
       "4                 4th of July Promo      N.America  2020-07-04  2020-07-11\n",
       "11    Dragon Boat Festival Giveaway           APAC  2020-06-25  2020-07-01\n",
       "2            St. Patric's Day Promo  EU, N.America  2020-03-17  2020-03-19"
      ]
     },
     "metadata": {},
     "output_type": "display_data"
    }
   ],
   "source": [
    "# таблица с маркетинговыми активностями\n",
    "\n",
    "overview(marketing_events)"
   ]
  },
  {
   "cell_type": "markdown",
   "metadata": {},
   "source": [
    "___\n",
    "Таблица содержит 14 строк и 4 столбца. Явные пропуски отсутствуют.\n",
    "\n",
    "Описание данных согласно документации:\n",
    "\n",
    "`ab_project_marketing_events.csv` — календарь маркетинговых событий на 2020 год.\n",
    "\n",
    "Структура таблицы:\n",
    "\n",
    "- `name` — название маркетингового события;\n",
    "- `regions` — регионы, в которых будет проводиться рекламная кампания;\n",
    "- `start_dt` — дата начала кампании;\n",
    "- `finish_dt` — дата завершения кампании.\n",
    "___"
   ]
  },
  {
   "cell_type": "markdown",
   "metadata": {},
   "source": [
    "Преобразуем данные и проверим, имеются ли в наличии компании, пересекающиеся с регистрацией новых пользователей:"
   ]
  },
  {
   "cell_type": "code",
   "execution_count": 23,
   "metadata": {},
   "outputs": [
    {
     "data": {
      "text/html": [
       "<div>\n",
       "<style scoped>\n",
       "    .dataframe tbody tr th:only-of-type {\n",
       "        vertical-align: middle;\n",
       "    }\n",
       "\n",
       "    .dataframe tbody tr th {\n",
       "        vertical-align: top;\n",
       "    }\n",
       "\n",
       "    .dataframe thead th {\n",
       "        text-align: right;\n",
       "    }\n",
       "</style>\n",
       "<table border=\"1\" class=\"dataframe\">\n",
       "  <thead>\n",
       "    <tr style=\"text-align: right;\">\n",
       "      <th></th>\n",
       "      <th>name</th>\n",
       "      <th>regions</th>\n",
       "      <th>start_dt</th>\n",
       "      <th>finish_dt</th>\n",
       "    </tr>\n",
       "  </thead>\n",
       "  <tbody>\n",
       "    <tr>\n",
       "      <th>0</th>\n",
       "      <td>Christmas&amp;New Year Promo</td>\n",
       "      <td>EU, N.America</td>\n",
       "      <td>2021-01-03</td>\n",
       "      <td>2021-01-03</td>\n",
       "    </tr>\n",
       "    <tr>\n",
       "      <th>5</th>\n",
       "      <td>Black Friday Ads Campaign</td>\n",
       "      <td>EU, CIS, APAC, N.America</td>\n",
       "      <td>2020-12-01</td>\n",
       "      <td>2020-12-01</td>\n",
       "    </tr>\n",
       "    <tr>\n",
       "      <th>10</th>\n",
       "      <td>CIS New Year Gift Lottery</td>\n",
       "      <td>CIS</td>\n",
       "      <td>2021-01-07</td>\n",
       "      <td>2021-01-07</td>\n",
       "    </tr>\n",
       "  </tbody>\n",
       "</table>\n",
       "</div>"
      ],
      "text/plain": [
       "                         name                   regions   start_dt  finish_dt\n",
       "0    Christmas&New Year Promo             EU, N.America 2021-01-03 2021-01-03\n",
       "5   Black Friday Ads Campaign  EU, CIS, APAC, N.America 2020-12-01 2020-12-01\n",
       "10  CIS New Year Gift Lottery                       CIS 2021-01-07 2021-01-07"
      ]
     },
     "execution_count": 23,
     "metadata": {},
     "output_type": "execute_result"
    }
   ],
   "source": [
    "# преобразовываем даты\n",
    "\n",
    "marketing_events['start_dt'] = (\n",
    "    pd.to_datetime(marketing_events['finish_dt'])\n",
    ")\n",
    "marketing_events['finish_dt'] = (\n",
    "    pd.to_datetime(marketing_events['finish_dt'])\n",
    ")\n",
    "\n",
    "# посмотрим компании декабря и января\n",
    "\n",
    "interscecting_marketing = marketing_events[\n",
    "    (marketing_events['start_dt'].dt.month.isin([1, 12]))|\n",
    "    (marketing_events['finish_dt'].dt.month.isin([1, 12]))\n",
    "]\n",
    "\n",
    "interscecting_marketing"
   ]
  },
  {
   "cell_type": "markdown",
   "metadata": {},
   "source": [
    "- Маркетинговая компании `Christmas&New Year Promo` пересекается с датами проведения A/B-тестирования, что может повлиять на пользовательское поведение и исказить вывода анализа результатов теста."
   ]
  },
  {
   "cell_type": "markdown",
   "metadata": {},
   "source": [
    "Остальные компании либо не совпадают по датам, либо не имеют отношение к региону `EU`."
   ]
  },
  {
   "cell_type": "markdown",
   "metadata": {},
   "source": [
    "### Выводы"
   ]
  },
  {
   "cell_type": "markdown",
   "metadata": {},
   "source": [
    "Данные всех четырёх таблиц были предобработаны - преобразованы даты, обработаны пропущенные значения. Было проверено соответствие данных техническому заданию A/B-тестирования.\n",
    "\n",
    "При работе с данными были сделаны следующие выводы:\n",
    "\n",
    "- Абсолютное большинство пользователей зарегестрировались в последний день рассматриваемого периода.\n",
    "\n",
    "\n",
    "- В данных присутствуют пользователи из четырёх регионов, большая часть представляет регион `EU`\n",
    "\n",
    "\n",
    "- Подавляющее больщинство пользователей используют устройство на базе `Android`\n",
    "\n",
    "\n",
    "- Количество уникальных пользователей таблицы с пользовательскими событиями (*58,703*) не совпадает с количеством из таблицы со всеми новыми пользователями (*61,733*) - это указывает на то, что часть пользователей не совершали никаких активностей, что должно быть учтено при анализе результатов теста.\n",
    "\n",
    "\n",
    "- Логи пользовательских событий содержат четыре уникальных значения - `login` (*вход в учётную запись*), `product_page` (*просмотр страницы с товаром*), `product_cart` (*просмотр страницы с корзиной товаров*) и `purchase` (*успешная покупка*). Причём количество событий с покупкой больше, чем количество просмотров корзины, что может сигнализировать об использовании модулей вроде `покупка в один клик`.\n",
    "\n",
    "\n",
    "- Пользователи неравномерно распределены по группам - из 5,918 уникальных пользователей 3,385 находятся в группе `A`, что составляет примерно 57%.\n",
    "\n",
    "\n",
    "- Целевой показатель количества участников в 6,000 формально был достигнут, но из-за пересечений с другим тестом часть данных не подлежит анализу, а их вынужденное удаление может негативно отразиться на выводах из анализа итоговых результатов. \n",
    "\n",
    "\n",
    "- Требование технического задания в формировании целовой аудитории теста из 15% пользователей из региона `EU` соблюдено, но в тест также попала часть пользователей из других регионов.\n",
    "\n",
    "\n",
    "- Маркетинговая компании `Christmas&New Year Promo` пересекается с датами проведения A/B-тестирования, что может повлиять на пользовательское поведение и исказить вывода анализа результатов теста."
   ]
  },
  {
   "cell_type": "markdown",
   "metadata": {},
   "source": [
    "<a id='2'></a>\n",
    "## Исследовательский анализ данных\n",
    "\n",
    "Исследовательский анализ разделён на два шага:\n",
    "- [**Анализ распределения данных**](#2.1)\n",
    "- [**Воронка пользовательских событий**](#2.2)"
   ]
  },
  {
   "cell_type": "markdown",
   "metadata": {},
   "source": [
    "<a id='2.1'></a>\n",
    "### Анализ распределения данных\n",
    "Начнём с группировки необходимых данных из таблиц:"
   ]
  },
  {
   "cell_type": "code",
   "execution_count": 24,
   "metadata": {},
   "outputs": [
    {
     "name": "stdout",
     "output_type": "stream",
     "text": [
      "<class 'pandas.core.frame.DataFrame'>\n",
      "Int64Index: 5918 entries, 0 to 6700\n",
      "Data columns (total 3 columns):\n",
      " #   Column   Non-Null Count  Dtype \n",
      "---  ------   --------------  ----- \n",
      " 0   user_id  5918 non-null   object\n",
      " 1   group    5918 non-null   object\n",
      " 2   ab_test  5918 non-null   object\n",
      "dtypes: object(3)\n",
      "memory usage: 184.9+ KB\n",
      "<class 'pandas.core.frame.DataFrame'>\n",
      "RangeIndex: 440317 entries, 0 to 440316\n",
      "Data columns (total 3 columns):\n",
      " #   Column      Non-Null Count   Dtype         \n",
      "---  ------      --------------   -----         \n",
      " 0   user_id     440317 non-null  object        \n",
      " 1   event_dt    440317 non-null  datetime64[ns]\n",
      " 2   event_name  440317 non-null  object        \n",
      "dtypes: datetime64[ns](1), object(2)\n",
      "memory usage: 10.1+ MB\n"
     ]
    }
   ],
   "source": [
    "test_participants.info()\n",
    "user_events.info()"
   ]
  },
  {
   "cell_type": "code",
   "execution_count": 25,
   "metadata": {},
   "outputs": [
    {
     "name": "stdout",
     "output_type": "stream",
     "text": [
      "<class 'pandas.core.frame.DataFrame'>\n",
      "Int64Index: 24516 entries, 0 to 24515\n",
      "Data columns (total 6 columns):\n",
      " #   Column        Non-Null Count  Dtype         \n",
      "---  ------        --------------  -----         \n",
      " 0   user_id       24516 non-null  object        \n",
      " 1   group         24516 non-null  object        \n",
      " 2   registration  23082 non-null  datetime64[ns]\n",
      " 3   region        23082 non-null  object        \n",
      " 4   event_dt      21842 non-null  datetime64[ns]\n",
      " 5   event_name    21842 non-null  object        \n",
      "dtypes: datetime64[ns](2), object(4)\n",
      "memory usage: 1.3+ MB\n"
     ]
    },
    {
     "data": {
      "text/html": [
       "<div>\n",
       "<style scoped>\n",
       "    .dataframe tbody tr th:only-of-type {\n",
       "        vertical-align: middle;\n",
       "    }\n",
       "\n",
       "    .dataframe tbody tr th {\n",
       "        vertical-align: top;\n",
       "    }\n",
       "\n",
       "    .dataframe thead th {\n",
       "        text-align: right;\n",
       "    }\n",
       "</style>\n",
       "<table border=\"1\" class=\"dataframe\">\n",
       "  <thead>\n",
       "    <tr style=\"text-align: right;\">\n",
       "      <th></th>\n",
       "      <th>user_id</th>\n",
       "      <th>group</th>\n",
       "      <th>registration</th>\n",
       "      <th>region</th>\n",
       "      <th>event_dt</th>\n",
       "      <th>event_name</th>\n",
       "    </tr>\n",
       "  </thead>\n",
       "  <tbody>\n",
       "    <tr>\n",
       "      <th>count</th>\n",
       "      <td>24516</td>\n",
       "      <td>24516</td>\n",
       "      <td>23082</td>\n",
       "      <td>23082</td>\n",
       "      <td>21842</td>\n",
       "      <td>21842</td>\n",
       "    </tr>\n",
       "    <tr>\n",
       "      <th>unique</th>\n",
       "      <td>5918</td>\n",
       "      <td>2</td>\n",
       "      <td>NaN</td>\n",
       "      <td>1</td>\n",
       "      <td>NaN</td>\n",
       "      <td>4</td>\n",
       "    </tr>\n",
       "    <tr>\n",
       "      <th>top</th>\n",
       "      <td>1198061F6AF34B7B</td>\n",
       "      <td>A</td>\n",
       "      <td>NaN</td>\n",
       "      <td>EU</td>\n",
       "      <td>NaN</td>\n",
       "      <td>login</td>\n",
       "    </tr>\n",
       "    <tr>\n",
       "      <th>freq</th>\n",
       "      <td>28</td>\n",
       "      <td>18112</td>\n",
       "      <td>NaN</td>\n",
       "      <td>23082</td>\n",
       "      <td>NaN</td>\n",
       "      <td>9901</td>\n",
       "    </tr>\n",
       "    <tr>\n",
       "      <th>mean</th>\n",
       "      <td>NaN</td>\n",
       "      <td>NaN</td>\n",
       "      <td>2020-12-14 23:29:22.100337920</td>\n",
       "      <td>NaN</td>\n",
       "      <td>2020-12-18 23:44:45.625904128</td>\n",
       "      <td>NaN</td>\n",
       "    </tr>\n",
       "    <tr>\n",
       "      <th>min</th>\n",
       "      <td>NaN</td>\n",
       "      <td>NaN</td>\n",
       "      <td>2020-12-07 00:00:00</td>\n",
       "      <td>NaN</td>\n",
       "      <td>2020-12-07 00:05:57</td>\n",
       "      <td>NaN</td>\n",
       "    </tr>\n",
       "    <tr>\n",
       "      <th>25%</th>\n",
       "      <td>NaN</td>\n",
       "      <td>NaN</td>\n",
       "      <td>2020-12-12 00:00:00</td>\n",
       "      <td>NaN</td>\n",
       "      <td>2020-12-15 11:05:27.249999872</td>\n",
       "      <td>NaN</td>\n",
       "    </tr>\n",
       "    <tr>\n",
       "      <th>50%</th>\n",
       "      <td>NaN</td>\n",
       "      <td>NaN</td>\n",
       "      <td>2020-12-15 00:00:00</td>\n",
       "      <td>NaN</td>\n",
       "      <td>2020-12-19 11:52:24.500000</td>\n",
       "      <td>NaN</td>\n",
       "    </tr>\n",
       "    <tr>\n",
       "      <th>75%</th>\n",
       "      <td>NaN</td>\n",
       "      <td>NaN</td>\n",
       "      <td>2020-12-19 00:00:00</td>\n",
       "      <td>NaN</td>\n",
       "      <td>2020-12-22 15:11:55</td>\n",
       "      <td>NaN</td>\n",
       "    </tr>\n",
       "    <tr>\n",
       "      <th>max</th>\n",
       "      <td>NaN</td>\n",
       "      <td>NaN</td>\n",
       "      <td>2020-12-21 00:00:00</td>\n",
       "      <td>NaN</td>\n",
       "      <td>2020-12-30 12:42:57</td>\n",
       "      <td>NaN</td>\n",
       "    </tr>\n",
       "  </tbody>\n",
       "</table>\n",
       "</div>"
      ],
      "text/plain": [
       "                 user_id  group                   registration region  \\\n",
       "count              24516  24516                          23082  23082   \n",
       "unique              5918      2                            NaN      1   \n",
       "top     1198061F6AF34B7B      A                            NaN     EU   \n",
       "freq                  28  18112                            NaN  23082   \n",
       "mean                 NaN    NaN  2020-12-14 23:29:22.100337920    NaN   \n",
       "min                  NaN    NaN            2020-12-07 00:00:00    NaN   \n",
       "25%                  NaN    NaN            2020-12-12 00:00:00    NaN   \n",
       "50%                  NaN    NaN            2020-12-15 00:00:00    NaN   \n",
       "75%                  NaN    NaN            2020-12-19 00:00:00    NaN   \n",
       "max                  NaN    NaN            2020-12-21 00:00:00    NaN   \n",
       "\n",
       "                             event_dt event_name  \n",
       "count                           21842      21842  \n",
       "unique                            NaN          4  \n",
       "top                               NaN      login  \n",
       "freq                              NaN       9901  \n",
       "mean    2020-12-18 23:44:45.625904128        NaN  \n",
       "min               2020-12-07 00:05:57        NaN  \n",
       "25%     2020-12-15 11:05:27.249999872        NaN  \n",
       "50%        2020-12-19 11:52:24.500000        NaN  \n",
       "75%               2020-12-22 15:11:55        NaN  \n",
       "max               2020-12-30 12:42:57        NaN  "
      ]
     },
     "metadata": {},
     "output_type": "display_data"
    },
    {
     "data": {
      "text/html": [
       "<div>\n",
       "<style scoped>\n",
       "    .dataframe tbody tr th:only-of-type {\n",
       "        vertical-align: middle;\n",
       "    }\n",
       "\n",
       "    .dataframe tbody tr th {\n",
       "        vertical-align: top;\n",
       "    }\n",
       "\n",
       "    .dataframe thead th {\n",
       "        text-align: right;\n",
       "    }\n",
       "</style>\n",
       "<table border=\"1\" class=\"dataframe\">\n",
       "  <thead>\n",
       "    <tr style=\"text-align: right;\">\n",
       "      <th></th>\n",
       "      <th>user_id</th>\n",
       "      <th>group</th>\n",
       "      <th>registration</th>\n",
       "      <th>region</th>\n",
       "      <th>event_dt</th>\n",
       "      <th>event_name</th>\n",
       "    </tr>\n",
       "  </thead>\n",
       "  <tbody>\n",
       "    <tr>\n",
       "      <th>14690</th>\n",
       "      <td>E123EF1A9A7332A4</td>\n",
       "      <td>A</td>\n",
       "      <td>2020-12-09</td>\n",
       "      <td>EU</td>\n",
       "      <td>2020-12-10 02:11:09</td>\n",
       "      <td>login</td>\n",
       "    </tr>\n",
       "    <tr>\n",
       "      <th>10819</th>\n",
       "      <td>EBA69AB145E565D7</td>\n",
       "      <td>B</td>\n",
       "      <td>2020-12-15</td>\n",
       "      <td>EU</td>\n",
       "      <td>2020-12-16 00:12:10</td>\n",
       "      <td>purchase</td>\n",
       "    </tr>\n",
       "    <tr>\n",
       "      <th>3739</th>\n",
       "      <td>F7BAFF2E0A04F11B</td>\n",
       "      <td>A</td>\n",
       "      <td>2020-12-21</td>\n",
       "      <td>EU</td>\n",
       "      <td>2020-12-22 12:02:11</td>\n",
       "      <td>login</td>\n",
       "    </tr>\n",
       "    <tr>\n",
       "      <th>20409</th>\n",
       "      <td>35795D0E78C18AE4</td>\n",
       "      <td>A</td>\n",
       "      <td>2020-12-12</td>\n",
       "      <td>EU</td>\n",
       "      <td>2020-12-12 23:56:30</td>\n",
       "      <td>login</td>\n",
       "    </tr>\n",
       "    <tr>\n",
       "      <th>2291</th>\n",
       "      <td>831887FE7F2D6CBA</td>\n",
       "      <td>A</td>\n",
       "      <td>2020-12-07</td>\n",
       "      <td>EU</td>\n",
       "      <td>2020-12-09 02:19:17</td>\n",
       "      <td>purchase</td>\n",
       "    </tr>\n",
       "  </tbody>\n",
       "</table>\n",
       "</div>"
      ],
      "text/plain": [
       "                user_id group registration region            event_dt  \\\n",
       "14690  E123EF1A9A7332A4     A   2020-12-09     EU 2020-12-10 02:11:09   \n",
       "10819  EBA69AB145E565D7     B   2020-12-15     EU 2020-12-16 00:12:10   \n",
       "3739   F7BAFF2E0A04F11B     A   2020-12-21     EU 2020-12-22 12:02:11   \n",
       "20409  35795D0E78C18AE4     A   2020-12-12     EU 2020-12-12 23:56:30   \n",
       "2291   831887FE7F2D6CBA     A   2020-12-07     EU 2020-12-09 02:19:17   \n",
       "\n",
       "      event_name  \n",
       "14690      login  \n",
       "10819   purchase  \n",
       "3739       login  \n",
       "20409      login  \n",
       "2291    purchase  "
      ]
     },
     "metadata": {},
     "output_type": "display_data"
    },
    {
     "name": "stdout",
     "output_type": "stream",
     "text": [
      "missing values count\n",
      "\n",
      "user_id            0\n",
      "group              0\n",
      "registration    1434\n",
      "region          1434\n",
      "event_dt        2674\n",
      "event_name      2674\n",
      "dtype: int64\n"
     ]
    }
   ],
   "source": [
    "# объединяем данные\n",
    "\n",
    "data = (\n",
    "    test_participants\n",
    "    .merge(\n",
    "        users, left_on='user_id',\n",
    "        right_on='user_id',\n",
    "        how='left')\n",
    "    .merge(\n",
    "        user_events, left_on='user_id',\n",
    "        right_on='user_id',\n",
    "        how='left')\n",
    "    .drop(columns=['ab_test', 'device'])\n",
    "    .rename(columns={'first_date':'registration'})\n",
    ")\n",
    "\n",
    "# выводим результат\n",
    "\n",
    "overview(data)"
   ]
  },
  {
   "cell_type": "markdown",
   "metadata": {},
   "source": [
    "В полученной таблице содержиться 24,516 записей и 6 столбцов.\n",
    "___\n",
    "Описательная статистика показывает несколько важных моментов:\n",
    "\n",
    "- Пользовательские события распределены неравномерно - на группу `A` приходится 18,112 событий, что составляет около **74%**.\n",
    "\n",
    "\n",
    "- Самое позднее событие приходится на 30-12-2020, за несколько дней до официального завершения теста - возможна серьёзная ошибка в формировании лога пользовательских событий. На временной период в текущей выборке не влияет ни одна из маркетинговых кампаний.\n",
    "\n",
    "\n",
    "- Столбцы с датой и названием события содержат пропуски - это коррелируют с выводом об отсутствии активности у части пользователей, сделанным во время обзора сырых данных\n"
   ]
  },
  {
   "cell_type": "markdown",
   "metadata": {},
   "source": [
    "Изучим распределение данных - посчитаем количество уникальных пользователей за каждый день (метрика DAU) и количество событий:"
   ]
  },
  {
   "cell_type": "code",
   "execution_count": 26,
   "metadata": {},
   "outputs": [],
   "source": [
    "# сделаем копию датасета для eda\n",
    "\n",
    "eda = data.copy()\n",
    "eda['event_day'] = eda['event_dt'].dt.date\n",
    "\n",
    "# считаем dau и количество событий\n",
    "\n",
    "dau_events = (\n",
    "    eda\n",
    "    .pivot_table(index='event_day', \n",
    "                 values=('user_id', 'event_name'),\n",
    "                 aggfunc={'user_id':'nunique', 'event_name':'count'}\n",
    "                )\n",
    "    .reset_index()\n",
    "    .rename(columns={'event_day':'date',\n",
    "                     'event_name':'events',\n",
    "                     'user_id':'unique_users'}\n",
    "           )\n",
    ")"
   ]
  },
  {
   "cell_type": "code",
   "execution_count": 27,
   "metadata": {},
   "outputs": [
    {
     "data": {
      "image/png": "[encoded data removed]",
      "text/plain": [
       "<Figure size 1440x720 with 2 Axes>"
      ]
     },
     "metadata": {
      "needs_background": "light"
     },
     "output_type": "display_data"
    }
   ],
   "source": [
    "# визуализируем результат\n",
    "\n",
    "def barp(par, ax):\n",
    "    \n",
    "    sns.barplot(data=dau_events,\n",
    "                x=par, y='date', \n",
    "                ax=ax, palette='flare_r')\n",
    "\n",
    "    \n",
    "fig, (ax1, ax2) = plt.subplots(1, 2, figsize= (20, 10), sharey=True)\n",
    "\n",
    "barp('unique_users', ax1)\n",
    "barp('events', ax2)\n",
    "\n",
    "\n",
    "ax1.set_yticklabels(dau_events['date'])\n",
    "ax1.set_ylabel(None)\n",
    "ax1.set_xlabel('Количество уникальных пользователей', fontsize=20)\n",
    "\n",
    "ax2.set_ylabel(None)\n",
    "ax2.set_xlabel('Количество событий', fontsize=20)\n",
    "\n",
    "\n",
    "plt.suptitle('Количество уникальных пользователей и событий', fontsize=25)\n",
    "plt.tight_layout()\n",
    "\n",
    "plt.show()"
   ]
  },
  {
   "cell_type": "markdown",
   "metadata": {},
   "source": [
    "- Распределение количества уникальных пользователей и событий ненормированно - 14-го декабря происходит аномальный скачок параметров, который достигает пика 21-го декабря, после чего происходит резкий спад. Фактической датой окончания теста можно считать 30-ое декабря - до официального прекращения проведения теста 4-го января в данных больше не наблюдается каких либо пользовательских событий."
   ]
  },
  {
   "cell_type": "markdown",
   "metadata": {},
   "source": [
    "Попробуем изучить подробнее аномальный скачок 14-го декабря:"
   ]
  },
  {
   "cell_type": "code",
   "execution_count": 28,
   "metadata": {},
   "outputs": [
    {
     "data": {
      "image/svg+xml": [
       "<svg class=\"main-svg\" xmlns=\"http://www.w3.org/2000/svg\" xmlns:xlink=\"http://www.w3.org/1999/xlink\" width=\"700\" height=\"500\" style=\"\" viewBox=\"0 0 700 500\"><rect x=\"0\" y=\"0\" width=\"700\" height=\"500\" style=\"fill: rgb(255, 255, 255); fill-opacity: 1;\"/><defs id=\"defs-17dfd6\"><g class=\"clips\"><clipPath id=\"clip17dfd6xyplot\" class=\"plotclip\"><rect width=\"499\" height=\"360\"/></clipPath><clipPath class=\"axesclip\" id=\"clip17dfd6x\"><rect x=\"80\" y=\"0\" width=\"499\" height=\"500\"/></clipPath><clipPath class=\"axesclip\" id=\"clip17dfd6y\"><rect x=\"0\" y=\"60\" width=\"700\" height=\"360\"/></clipPath><clipPath class=\"axesclip\" id=\"clip17dfd6xy\"><rect x=\"80\" y=\"60\" width=\"499\" height=\"360\"/></clipPath></g><g class=\"gradients\"/><g class=\"patterns\"/></defs><g class=\"bglayer\"><rect class=\"bg\" x=\"80\" y=\"60\" width=\"499\" height=\"360\" style=\"fill: rgb(229, 236, 246); fill-opacity: 1; stroke-width: 0;\"/></g><g class=\"layer-below\"><g class=\"imagelayer\"/><g class=\"shapelayer\"/></g><g class=\"cartesianlayer\"><g class=\"subplot xy\"><g class=\"layer-subplot\"><g class=\"shapelayer\"/><g class=\"imagelayer\"/></g><g class=\"minor-gridlayer\"><g class=\"x\"/><g class=\"y\"/></g><g class=\"gridlayer\"><g class=\"x\"/><g class=\"y\"><path class=\"ygrid crisp\" transform=\"translate(0,357.25)\" d=\"M80,0h499\" style=\"stroke: rgb(255, 255, 255); stroke-opacity: 1; stroke-width: 1px;\"/><path class=\"ygrid crisp\" transform=\"translate(0,294.5)\" d=\"M80,0h499\" style=\"stroke: rgb(255, 255, 255); stroke-opacity: 1; stroke-width: 1px;\"/><path class=\"ygrid crisp\" transform=\"translate(0,231.74)\" d=\"M80,0h499\" style=\"stroke: rgb(255, 255, 255); stroke-opacity: 1; stroke-width: 1px;\"/><path class=\"ygrid crisp\" transform=\"translate(0,168.99)\" d=\"M80,0h499\" style=\"stroke: rgb(255, 255, 255); stroke-opacity: 1; stroke-width: 1px;\"/><path class=\"ygrid crisp\" transform=\"translate(0,106.24000000000001)\" d=\"M80,0h499\" style=\"stroke: rgb(255, 255, 255); stroke-opacity: 1; stroke-width: 1px;\"/></g></g><g class=\"zerolinelayer\"><path class=\"yzl zl crisp\" transform=\"translate(0,420)\" d=\"M80,0h499\" style=\"stroke: rgb(255, 255, 255); stroke-opacity: 1; stroke-width: 2px;\"/></g><path class=\"xlines-below\"/><path class=\"ylines-below\"/><g class=\"overlines-below\"/><g class=\"xaxislayer-below\"/><g class=\"yaxislayer-below\"/><g class=\"overaxes-below\"/><g class=\"plot\" transform=\"translate(80,60)\" clip-path=\"url(#clip17dfd6xyplot)\"><g class=\"barlayer mlayer\"><g class=\"trace bars\" style=\"opacity: 1;\"><g class=\"points\"><g class=\"point\"><path d=\"M1.35,360V341.17H6.74V360Z\" style=\"vector-effect: non-scaling-stroke; opacity: 1; stroke-width: 0px; fill: rgb(99, 110, 250); fill-opacity: 1;\"/></g><g class=\"point\"><path d=\"M14.84,360V272.15H20.23V360Z\" style=\"vector-effect: non-scaling-stroke; opacity: 1; stroke-width: 0px; fill: rgb(99, 110, 250); fill-opacity: 1;\"/></g><g class=\"point\"><path d=\"M28.32,360V312.94H33.72V360Z\" style=\"vector-effect: non-scaling-stroke; opacity: 1; stroke-width: 0px; fill: rgb(99, 110, 250); fill-opacity: 1;\"/></g><g class=\"point\"><path d=\"M41.81,360V253.32H47.2V360Z\" style=\"vector-effect: non-scaling-stroke; opacity: 1; stroke-width: 0px; fill: rgb(99, 110, 250); fill-opacity: 1;\"/></g><g class=\"point\"><path d=\"M55.29,360V218.81H60.69V360Z\" style=\"vector-effect: non-scaling-stroke; opacity: 1; stroke-width: 0px; fill: rgb(99, 110, 250); fill-opacity: 1;\"/></g><g class=\"point\"><path d=\"M68.78,360V247.05H74.18V360Z\" style=\"vector-effect: non-scaling-stroke; opacity: 1; stroke-width: 0px; fill: rgb(99, 110, 250); fill-opacity: 1;\"/></g><g class=\"point\"><path d=\"M82.27,360V309.8H87.66V360Z\" style=\"vector-effect: non-scaling-stroke; opacity: 1; stroke-width: 0px; fill: rgb(99, 110, 250); fill-opacity: 1;\"/></g><g class=\"point\"><path d=\"M95.75,360V256.46H101.15V360Z\" style=\"vector-effect: non-scaling-stroke; opacity: 1; stroke-width: 0px; fill: rgb(99, 110, 250); fill-opacity: 1;\"/></g><g class=\"point\"><path d=\"M109.24,360V322.35H114.64V360Z\" style=\"vector-effect: non-scaling-stroke; opacity: 1; stroke-width: 0px; fill: rgb(99, 110, 250); fill-opacity: 1;\"/></g><g class=\"point\"><path d=\"M122.73,360V278.42H128.12V360Z\" style=\"vector-effect: non-scaling-stroke; opacity: 1; stroke-width: 0px; fill: rgb(99, 110, 250); fill-opacity: 1;\"/></g><g class=\"point\"><path d=\"M136.21,360V272.15H141.61V360Z\" style=\"vector-effect: non-scaling-stroke; opacity: 1; stroke-width: 0px; fill: rgb(99, 110, 250); fill-opacity: 1;\"/></g><g class=\"point\"><path d=\"M149.7,360V228.22H155.09V360Z\" style=\"vector-effect: non-scaling-stroke; opacity: 1; stroke-width: 0px; fill: rgb(99, 110, 250); fill-opacity: 1;\"/></g><g class=\"point\"><path d=\"M163.19,360V287.83H168.58V360Z\" style=\"vector-effect: non-scaling-stroke; opacity: 1; stroke-width: 0px; fill: rgb(99, 110, 250); fill-opacity: 1;\"/></g><g class=\"point\"><path d=\"M176.67,360V231.36H182.07V360Z\" style=\"vector-effect: non-scaling-stroke; opacity: 1; stroke-width: 0px; fill: rgb(99, 110, 250); fill-opacity: 1;\"/></g><g class=\"point\"><path d=\"M190.16,360V303.52H195.55V360Z\" style=\"vector-effect: non-scaling-stroke; opacity: 1; stroke-width: 0px; fill: rgb(99, 110, 250); fill-opacity: 1;\"/></g><g class=\"point\"><path d=\"M203.65,360V290.97H209.04V360Z\" style=\"vector-effect: non-scaling-stroke; opacity: 1; stroke-width: 0px; fill: rgb(99, 110, 250); fill-opacity: 1;\"/></g><g class=\"point\"><path d=\"M217.13,360V253.32H222.53V360Z\" style=\"vector-effect: non-scaling-stroke; opacity: 1; stroke-width: 0px; fill: rgb(99, 110, 250); fill-opacity: 1;\"/></g><g class=\"point\"><path d=\"M230.62,360V284.7H236.01V360Z\" style=\"vector-effect: non-scaling-stroke; opacity: 1; stroke-width: 0px; fill: rgb(99, 110, 250); fill-opacity: 1;\"/></g><g class=\"point\"><path d=\"M244.11,360V294.11H249.5V360Z\" style=\"vector-effect: non-scaling-stroke; opacity: 1; stroke-width: 0px; fill: rgb(99, 110, 250); fill-opacity: 1;\"/></g><g class=\"point\"><path d=\"M257.59,360V306.66H262.99V360Z\" style=\"vector-effect: non-scaling-stroke; opacity: 1; stroke-width: 0px; fill: rgb(99, 110, 250); fill-opacity: 1;\"/></g><g class=\"point\"><path d=\"M271.08,360V290.97H276.47V360Z\" style=\"vector-effect: non-scaling-stroke; opacity: 1; stroke-width: 0px; fill: rgb(99, 110, 250); fill-opacity: 1;\"/></g><g class=\"point\"><path d=\"M284.56,360V281.56H289.96V360Z\" style=\"vector-effect: non-scaling-stroke; opacity: 1; stroke-width: 0px; fill: rgb(99, 110, 250); fill-opacity: 1;\"/></g><g class=\"point\"><path d=\"M298.05,360V294.11H303.45V360Z\" style=\"vector-effect: non-scaling-stroke; opacity: 1; stroke-width: 0px; fill: rgb(99, 110, 250); fill-opacity: 1;\"/></g><g class=\"point\"><path d=\"M311.54,360V303.52H316.93V360Z\" style=\"vector-effect: non-scaling-stroke; opacity: 1; stroke-width: 0px; fill: rgb(99, 110, 250); fill-opacity: 1;\"/></g><g class=\"point\"><path d=\"M325.02,360V243.91H330.42V360Z\" style=\"vector-effect: non-scaling-stroke; opacity: 1; stroke-width: 0px; fill: rgb(99, 110, 250); fill-opacity: 1;\"/></g><g class=\"point\"><path d=\"M338.51,360V124.68H343.91V360Z\" style=\"vector-effect: non-scaling-stroke; opacity: 1; stroke-width: 0px; fill: rgb(99, 110, 250); fill-opacity: 1;\"/></g><g class=\"point\"><path d=\"M352,360V18H357.39V360Z\" style=\"vector-effect: non-scaling-stroke; opacity: 1; stroke-width: 0px; fill: rgb(99, 110, 250); fill-opacity: 1;\"/></g><g class=\"point\"><path d=\"M365.48,360V105.85H370.88V360Z\" style=\"vector-effect: non-scaling-stroke; opacity: 1; stroke-width: 0px; fill: rgb(99, 110, 250); fill-opacity: 1;\"/></g><g class=\"point\"><path d=\"M378.97,360V137.23H384.36V360Z\" style=\"vector-effect: non-scaling-stroke; opacity: 1; stroke-width: 0px; fill: rgb(99, 110, 250); fill-opacity: 1;\"/></g><g class=\"point\"><path d=\"M392.46,360V61.93H397.85V360Z\" style=\"vector-effect: non-scaling-stroke; opacity: 1; stroke-width: 0px; fill: rgb(99, 110, 250); fill-opacity: 1;\"/></g><g class=\"point\"><path d=\"M405.94,360V61.93H411.34V360Z\" style=\"vector-effect: non-scaling-stroke; opacity: 1; stroke-width: 0px; fill: rgb(99, 110, 250); fill-opacity: 1;\"/></g><g class=\"point\"><path d=\"M419.43,360V159.19H424.82V360Z\" style=\"vector-effect: non-scaling-stroke; opacity: 1; stroke-width: 0px; fill: rgb(99, 110, 250); fill-opacity: 1;\"/></g><g class=\"point\"><path d=\"M432.92,360V130.95H438.31V360Z\" style=\"vector-effect: non-scaling-stroke; opacity: 1; stroke-width: 0px; fill: rgb(99, 110, 250); fill-opacity: 1;\"/></g><g class=\"point\"><path d=\"M446.4,360V124.68H451.8V360Z\" style=\"vector-effect: non-scaling-stroke; opacity: 1; stroke-width: 0px; fill: rgb(99, 110, 250); fill-opacity: 1;\"/></g><g class=\"point\"><path d=\"M459.89,360V127.82H465.28V360Z\" style=\"vector-effect: non-scaling-stroke; opacity: 1; stroke-width: 0px; fill: rgb(99, 110, 250); fill-opacity: 1;\"/></g><g class=\"point\"><path d=\"M473.38,360V102.72H478.77V360Z\" style=\"vector-effect: non-scaling-stroke; opacity: 1; stroke-width: 0px; fill: rgb(99, 110, 250); fill-opacity: 1;\"/></g><g class=\"point\"><path d=\"M486.86,360V262.73H492.26V360Z\" style=\"vector-effect: non-scaling-stroke; opacity: 1; stroke-width: 0px; fill: rgb(99, 110, 250); fill-opacity: 1;\"/></g></g></g><g class=\"trace bars\" style=\"opacity: 1;\"><g class=\"points\"><g class=\"point\"><path d=\"M6.74,360V341.17H12.14V360Z\" style=\"vector-effect: non-scaling-stroke; opacity: 1; stroke-width: 0px; fill: rgb(239, 85, 59); fill-opacity: 1;\"/></g><g class=\"point\"><path d=\"M20.23,360V325.49H25.62V360Z\" style=\"vector-effect: non-scaling-stroke; opacity: 1; stroke-width: 0px; fill: rgb(239, 85, 59); fill-opacity: 1;\"/></g><g class=\"point\"><path d=\"M33.72,360V247.05H39.11V360Z\" style=\"vector-effect: non-scaling-stroke; opacity: 1; stroke-width: 0px; fill: rgb(239, 85, 59); fill-opacity: 1;\"/></g><g class=\"point\"><path d=\"M47.2,360V309.8H52.6V360Z\" style=\"vector-effect: non-scaling-stroke; opacity: 1; stroke-width: 0px; fill: rgb(239, 85, 59); fill-opacity: 1;\"/></g><g class=\"point\"><path d=\"M60.69,360V334.9H66.08V360Z\" style=\"vector-effect: non-scaling-stroke; opacity: 1; stroke-width: 0px; fill: rgb(239, 85, 59); fill-opacity: 1;\"/></g><g class=\"point\"><path d=\"M74.18,360V344.31H79.57V360Z\" style=\"vector-effect: non-scaling-stroke; opacity: 1; stroke-width: 0px; fill: rgb(239, 85, 59); fill-opacity: 1;\"/></g><g class=\"point\"><path d=\"M87.66,360V334.9H93.06V360Z\" style=\"vector-effect: non-scaling-stroke; opacity: 1; stroke-width: 0px; fill: rgb(239, 85, 59); fill-opacity: 1;\"/></g><g class=\"point\"><path d=\"M101.15,360V322.35H106.54V360Z\" style=\"vector-effect: non-scaling-stroke; opacity: 1; stroke-width: 0px; fill: rgb(239, 85, 59); fill-opacity: 1;\"/></g><g class=\"point\"><path d=\"M114.64,360V328.62H120.03V360Z\" style=\"vector-effect: non-scaling-stroke; opacity: 1; stroke-width: 0px; fill: rgb(239, 85, 59); fill-opacity: 1;\"/></g><g class=\"point\"><path d=\"M128.12,360V312.94H133.52V360Z\" style=\"vector-effect: non-scaling-stroke; opacity: 1; stroke-width: 0px; fill: rgb(239, 85, 59); fill-opacity: 1;\"/></g><g class=\"point\"><path d=\"M141.61,360V303.52H147V360Z\" style=\"vector-effect: non-scaling-stroke; opacity: 1; stroke-width: 0px; fill: rgb(239, 85, 59); fill-opacity: 1;\"/></g><g class=\"point\"><path d=\"M155.09,360V294.11H160.49V360Z\" style=\"vector-effect: non-scaling-stroke; opacity: 1; stroke-width: 0px; fill: rgb(239, 85, 59); fill-opacity: 1;\"/></g><g class=\"point\"><path d=\"M168.58,360V331.76H173.98V360Z\" style=\"vector-effect: non-scaling-stroke; opacity: 1; stroke-width: 0px; fill: rgb(239, 85, 59); fill-opacity: 1;\"/></g><g class=\"point\"><path d=\"M182.07,360V316.07H187.46V360Z\" style=\"vector-effect: non-scaling-stroke; opacity: 1; stroke-width: 0px; fill: rgb(239, 85, 59); fill-opacity: 1;\"/></g><g class=\"point\"><path d=\"M195.55,360V312.94H200.95V360Z\" style=\"vector-effect: non-scaling-stroke; opacity: 1; stroke-width: 0px; fill: rgb(239, 85, 59); fill-opacity: 1;\"/></g><g class=\"point\"><path d=\"M209.04,360V328.62H214.44V360Z\" style=\"vector-effect: non-scaling-stroke; opacity: 1; stroke-width: 0px; fill: rgb(239, 85, 59); fill-opacity: 1;\"/></g><g class=\"point\"><path d=\"M222.53,360V322.35H227.92V360Z\" style=\"vector-effect: non-scaling-stroke; opacity: 1; stroke-width: 0px; fill: rgb(239, 85, 59); fill-opacity: 1;\"/></g><g class=\"point\"><path d=\"M236.01,360V334.9H241.41V360Z\" style=\"vector-effect: non-scaling-stroke; opacity: 1; stroke-width: 0px; fill: rgb(239, 85, 59); fill-opacity: 1;\"/></g><g class=\"point\"><path d=\"M249.5,360V328.62H254.89V360Z\" style=\"vector-effect: non-scaling-stroke; opacity: 1; stroke-width: 0px; fill: rgb(239, 85, 59); fill-opacity: 1;\"/></g><g class=\"point\"><path d=\"M262.99,360V334.9H268.38V360Z\" style=\"vector-effect: non-scaling-stroke; opacity: 1; stroke-width: 0px; fill: rgb(239, 85, 59); fill-opacity: 1;\"/></g><g class=\"point\"><path d=\"M276.47,360V328.62H281.87V360Z\" style=\"vector-effect: non-scaling-stroke; opacity: 1; stroke-width: 0px; fill: rgb(239, 85, 59); fill-opacity: 1;\"/></g><g class=\"point\"><path d=\"M289.96,360V341.17H295.35V360Z\" style=\"vector-effect: non-scaling-stroke; opacity: 1; stroke-width: 0px; fill: rgb(239, 85, 59); fill-opacity: 1;\"/></g><g class=\"point\"><path d=\"M303.45,360V294.11H308.84V360Z\" style=\"vector-effect: non-scaling-stroke; opacity: 1; stroke-width: 0px; fill: rgb(239, 85, 59); fill-opacity: 1;\"/></g><g class=\"point\"><path d=\"M316.93,360V325.49H322.33V360Z\" style=\"vector-effect: non-scaling-stroke; opacity: 1; stroke-width: 0px; fill: rgb(239, 85, 59); fill-opacity: 1;\"/></g><g class=\"point\"><path d=\"M330.42,360V319.21H335.81V360Z\" style=\"vector-effect: non-scaling-stroke; opacity: 1; stroke-width: 0px; fill: rgb(239, 85, 59); fill-opacity: 1;\"/></g><g class=\"point\"><path d=\"M343.91,360V290.97H349.3V360Z\" style=\"vector-effect: non-scaling-stroke; opacity: 1; stroke-width: 0px; fill: rgb(239, 85, 59); fill-opacity: 1;\"/></g><g class=\"point\"><path d=\"M357.39,360V269.01H362.79V360Z\" style=\"vector-effect: non-scaling-stroke; opacity: 1; stroke-width: 0px; fill: rgb(239, 85, 59); fill-opacity: 1;\"/></g><g class=\"point\"><path d=\"M370.88,360V278.42H376.27V360Z\" style=\"vector-effect: non-scaling-stroke; opacity: 1; stroke-width: 0px; fill: rgb(239, 85, 59); fill-opacity: 1;\"/></g><g class=\"point\"><path d=\"M384.36,360V325.49H389.76V360Z\" style=\"vector-effect: non-scaling-stroke; opacity: 1; stroke-width: 0px; fill: rgb(239, 85, 59); fill-opacity: 1;\"/></g><g class=\"point\"><path d=\"M397.85,360V269.01H403.25V360Z\" style=\"vector-effect: non-scaling-stroke; opacity: 1; stroke-width: 0px; fill: rgb(239, 85, 59); fill-opacity: 1;\"/></g><g class=\"point\"><path d=\"M411.34,360V328.62H416.73V360Z\" style=\"vector-effect: non-scaling-stroke; opacity: 1; stroke-width: 0px; fill: rgb(239, 85, 59); fill-opacity: 1;\"/></g><g class=\"point\"><path d=\"M424.82,360V300.39H430.22V360Z\" style=\"vector-effect: non-scaling-stroke; opacity: 1; stroke-width: 0px; fill: rgb(239, 85, 59); fill-opacity: 1;\"/></g><g class=\"point\"><path d=\"M438.31,360V322.35H443.71V360Z\" style=\"vector-effect: non-scaling-stroke; opacity: 1; stroke-width: 0px; fill: rgb(239, 85, 59); fill-opacity: 1;\"/></g><g class=\"point\"><path d=\"M451.8,360V278.42H457.19V360Z\" style=\"vector-effect: non-scaling-stroke; opacity: 1; stroke-width: 0px; fill: rgb(239, 85, 59); fill-opacity: 1;\"/></g><g class=\"point\"><path d=\"M465.28,360V262.73H470.68V360Z\" style=\"vector-effect: non-scaling-stroke; opacity: 1; stroke-width: 0px; fill: rgb(239, 85, 59); fill-opacity: 1;\"/></g><g class=\"point\"><path d=\"M478.77,360V319.21H484.16V360Z\" style=\"vector-effect: non-scaling-stroke; opacity: 1; stroke-width: 0px; fill: rgb(239, 85, 59); fill-opacity: 1;\"/></g><g class=\"point\"><path d=\"M492.26,360V306.66H497.65V360Z\" style=\"vector-effect: non-scaling-stroke; opacity: 1; stroke-width: 0px; fill: rgb(239, 85, 59); fill-opacity: 1;\"/></g></g></g></g></g><g class=\"overplot\"/><path class=\"xlines-above crisp\" d=\"M0,0\" style=\"fill: none;\"/><path class=\"ylines-above crisp\" d=\"M0,0\" style=\"fill: none;\"/><g class=\"overlines-above\"/><g class=\"xaxislayer-above\"><g class=\"xtick\"><text text-anchor=\"middle\" x=\"0\" y=\"433\" transform=\"translate(86.74,0)\" style=\"font-family: 'Open Sans', verdana, arial, sans-serif; font-size: 12px; fill: rgb(42, 63, 95); fill-opacity: 1; white-space: pre; opacity: 1;\"><tspan class=\"line\" dy=\"0em\" x=\"0\" y=\"433\">00:00</tspan><tspan class=\"line\" dy=\"1.3em\" x=\"0\" y=\"433\">Dec 12, 2020</tspan></text></g><g class=\"xtick\"><text text-anchor=\"middle\" x=\"0\" y=\"433\" style=\"font-family: 'Open Sans', verdana, arial, sans-serif; font-size: 12px; fill: rgb(42, 63, 95); fill-opacity: 1; white-space: pre; opacity: 1;\" transform=\"translate(167.66,0)\">12:00</text></g><g class=\"xtick\"><text text-anchor=\"middle\" x=\"0\" y=\"433\" style=\"font-family: 'Open Sans', verdana, arial, sans-serif; font-size: 12px; fill: rgb(42, 63, 95); fill-opacity: 1; white-space: pre; opacity: 1;\" transform=\"translate(248.58,0)\"><tspan class=\"line\" dy=\"0em\" x=\"0\" y=\"433\">00:00</tspan><tspan class=\"line\" dy=\"1.3em\" x=\"0\" y=\"433\">Dec 13, 2020</tspan></text></g><g class=\"xtick\"><text text-anchor=\"middle\" x=\"0\" y=\"433\" style=\"font-family: 'Open Sans', verdana, arial, sans-serif; font-size: 12px; fill: rgb(42, 63, 95); fill-opacity: 1; white-space: pre; opacity: 1;\" transform=\"translate(329.5,0)\">12:00</text></g><g class=\"xtick\"><text text-anchor=\"middle\" x=\"0\" y=\"433\" style=\"font-family: 'Open Sans', verdana, arial, sans-serif; font-size: 12px; fill: rgb(42, 63, 95); fill-opacity: 1; white-space: pre; opacity: 1;\" transform=\"translate(410.42,0)\"><tspan class=\"line\" dy=\"0em\" x=\"0\" y=\"433\">00:00</tspan><tspan class=\"line\" dy=\"1.3em\" x=\"0\" y=\"433\">Dec 14, 2020</tspan></text></g><g class=\"xtick\"><text text-anchor=\"middle\" x=\"0\" y=\"433\" style=\"font-family: 'Open Sans', verdana, arial, sans-serif; font-size: 12px; fill: rgb(42, 63, 95); fill-opacity: 1; white-space: pre; opacity: 1;\" transform=\"translate(491.34,0)\">12:00</text></g><g class=\"xtick\"><text text-anchor=\"middle\" x=\"0\" y=\"433\" style=\"font-family: 'Open Sans', verdana, arial, sans-serif; font-size: 12px; fill: rgb(42, 63, 95); fill-opacity: 1; white-space: pre; opacity: 1;\" transform=\"translate(572.26,0)\"><tspan class=\"line\" dy=\"0em\" x=\"0\" y=\"433\">00:00</tspan><tspan class=\"line\" dy=\"1.3em\" x=\"0\" y=\"433\">Dec 15, 2020</tspan></text></g></g><g class=\"yaxislayer-above\"><g class=\"ytick\"><text text-anchor=\"end\" x=\"79\" y=\"4.199999999999999\" transform=\"translate(0,420)\" style=\"font-family: 'Open Sans', verdana, arial, sans-serif; font-size: 12px; fill: rgb(42, 63, 95); fill-opacity: 1; white-space: pre; opacity: 1;\">0</text></g><g class=\"ytick\"><text text-anchor=\"end\" x=\"79\" y=\"4.199999999999999\" style=\"font-family: 'Open Sans', verdana, arial, sans-serif; font-size: 12px; fill: rgb(42, 63, 95); fill-opacity: 1; white-space: pre; opacity: 1;\" transform=\"translate(0,357.25)\">20</text></g><g class=\"ytick\"><text text-anchor=\"end\" x=\"79\" y=\"4.199999999999999\" style=\"font-family: 'Open Sans', verdana, arial, sans-serif; font-size: 12px; fill: rgb(42, 63, 95); fill-opacity: 1; white-space: pre; opacity: 1;\" transform=\"translate(0,294.5)\">40</text></g><g class=\"ytick\"><text text-anchor=\"end\" x=\"79\" y=\"4.199999999999999\" style=\"font-family: 'Open Sans', verdana, arial, sans-serif; font-size: 12px; fill: rgb(42, 63, 95); fill-opacity: 1; white-space: pre; opacity: 1;\" transform=\"translate(0,231.74)\">60</text></g><g class=\"ytick\"><text text-anchor=\"end\" x=\"79\" y=\"4.199999999999999\" style=\"font-family: 'Open Sans', verdana, arial, sans-serif; font-size: 12px; fill: rgb(42, 63, 95); fill-opacity: 1; white-space: pre; opacity: 1;\" transform=\"translate(0,168.99)\">80</text></g><g class=\"ytick\"><text text-anchor=\"end\" x=\"79\" y=\"4.199999999999999\" style=\"font-family: 'Open Sans', verdana, arial, sans-serif; font-size: 12px; fill: rgb(42, 63, 95); fill-opacity: 1; white-space: pre; opacity: 1;\" transform=\"translate(0,106.24000000000001)\">100</text></g></g><g class=\"overaxes-above\"/></g></g><g class=\"polarlayer\"/><g class=\"smithlayer\"/><g class=\"ternarylayer\"/><g class=\"geolayer\"/><g class=\"funnelarealayer\"/><g class=\"pielayer\"/><g class=\"iciclelayer\"/><g class=\"treemaplayer\"/><g class=\"sunburstlayer\"/><g class=\"glimages\"/><defs id=\"topdefs-17dfd6\"><g class=\"clips\"/><clipPath id=\"legend17dfd6\"><rect width=\"99\" height=\"67\" x=\"0\" y=\"0\"/></clipPath></defs><g class=\"layer-above\"><g class=\"imagelayer\"/><g class=\"shapelayer\"/></g><g class=\"infolayer\"><g class=\"legend\" pointer-events=\"all\" transform=\"translate(588.98,60)\"><rect class=\"bg\" shape-rendering=\"crispEdges\" style=\"stroke: rgb(68, 68, 68); stroke-opacity: 1; fill: rgb(255, 255, 255); fill-opacity: 1; stroke-width: 0px;\" width=\"99\" height=\"67\" x=\"0\" y=\"0\"/><g class=\"scrollbox\" transform=\"\" clip-path=\"url(#legend17dfd6)\"><text class=\"legendtitletext\" text-anchor=\"start\" x=\"2\" y=\"18.2\" style=\"font-family: 'Open Sans', verdana, arial, sans-serif; font-size: 14px; fill: rgb(42, 63, 95); fill-opacity: 1; white-space: pre;\">Группа теста</text><g class=\"groups\" transform=\"\"><g class=\"traces\" transform=\"translate(0,32.7)\" style=\"opacity: 1;\"><text class=\"legendtext\" text-anchor=\"start\" x=\"40\" y=\"4.680000000000001\" style=\"font-family: 'Open Sans', verdana, arial, sans-serif; font-size: 12px; fill: rgb(42, 63, 95); fill-opacity: 1; white-space: pre;\">A</text><g class=\"layers\" style=\"opacity: 1;\"><g class=\"legendfill\"/><g class=\"legendlines\"/><g class=\"legendsymbols\"><g class=\"legendpoints\"><path class=\"legendundefined\" d=\"M6,6H-6V-6H6Z\" transform=\"translate(20,0)\" style=\"stroke-width: 0px; fill: rgb(99, 110, 250); fill-opacity: 1;\"/></g></g></g><rect class=\"legendtoggle\" x=\"0\" y=\"-9.5\" width=\"50\" height=\"19\" style=\"fill: rgb(0, 0, 0); fill-opacity: 0;\"/></g></g><g class=\"groups\" transform=\"\"><g class=\"traces\" transform=\"translate(0,51.7)\" style=\"opacity: 1;\"><text class=\"legendtext\" text-anchor=\"start\" x=\"40\" y=\"4.680000000000001\" style=\"font-family: 'Open Sans', verdana, arial, sans-serif; font-size: 12px; fill: rgb(42, 63, 95); fill-opacity: 1; white-space: pre;\">B</text><g class=\"layers\" style=\"opacity: 1;\"><g class=\"legendfill\"/><g class=\"legendlines\"/><g class=\"legendsymbols\"><g class=\"legendpoints\"><path class=\"legendundefined\" d=\"M6,6H-6V-6H6Z\" transform=\"translate(20,0)\" style=\"stroke-width: 0px; fill: rgb(239, 85, 59); fill-opacity: 1;\"/></g></g></g><rect class=\"legendtoggle\" x=\"0\" y=\"-9.5\" width=\"50\" height=\"19\" style=\"fill: rgb(0, 0, 0); fill-opacity: 0;\"/></g></g></g><rect class=\"scrollbar\" rx=\"20\" ry=\"3\" width=\"0\" height=\"0\" style=\"fill: rgb(128, 139, 164); fill-opacity: 1;\" x=\"0\" y=\"0\"/></g><g class=\"g-gtitle\"><text class=\"gtitle\" x=\"336\" y=\"30\" text-anchor=\"middle\" dy=\"0em\" style=\"font-family: 'Open Sans', verdana, arial, sans-serif; font-size: 17px; fill: rgb(42, 63, 95); opacity: 1; font-weight: normal; white-space: pre;\">События с 12-12 по 15-12</text></g><g class=\"g-xtitle\"><text class=\"xtitle\" x=\"329.5\" y=\"476.409375\" text-anchor=\"middle\" style=\"font-family: 'Open Sans', verdana, arial, sans-serif; font-size: 14px; fill: rgb(42, 63, 95); opacity: 1; font-weight: normal; white-space: pre;\">Время события</text></g><g class=\"g-ytitle\"><text class=\"ytitle\" transform=\"rotate(-90,31.309375000000003,240)\" x=\"31.309375000000003\" y=\"240\" text-anchor=\"middle\" style=\"font-family: 'Open Sans', verdana, arial, sans-serif; font-size: 14px; fill: rgb(42, 63, 95); opacity: 1; font-weight: normal; white-space: pre;\">Количество событий</text></g></g></svg>"
      ]
     },
     "metadata": {},
     "output_type": "display_data"
    }
   ],
   "source": [
    "# визуализируем количество событий в разрезе групп теста\n",
    "\n",
    "events = eda.query('20201212 <= event_dt <= 20201215')\n",
    "\n",
    "labels = dict(\n",
    "    event_dt = 'Время события',\n",
    "    group = 'Группа теста',\n",
    "    count = 'Количество событий'\n",
    ")\n",
    "\n",
    "fig = (\n",
    "    px.histogram(events,x='event_dt', \n",
    "                 color='group', \n",
    "                 barmode='group',\n",
    "                 labels=labels)\n",
    ")\n",
    "\n",
    "fig.update_yaxes(title='Количество событий')\n",
    "fig.update_layout(title = 'События с 12-12 по 15-12', title_x= .48)\n",
    "\n",
    "fig.show()"
   ]
  },
  {
   "cell_type": "markdown",
   "metadata": {},
   "source": [
    "Аномальный скачок происходит в 01:30 14.12.2020, и касается только пользователей контрольной группы теста. В имеющихся данных отсутствуют рациональное объяснение для этого - в этот период не проводится никаких маркетинговых компаний, а даже если бы они были - влияние на пользователей было бы равным. Возможно ответ кроется в конверсии в событие, которая будет изучена на следующем этапе."
   ]
  },
  {
   "cell_type": "markdown",
   "metadata": {},
   "source": [
    "<a id='2.2'></a>\n",
    "### Воронка пользовательских событий"
   ]
  },
  {
   "cell_type": "markdown",
   "metadata": {},
   "source": [
    "Перейдём к анализу самих событий - посчитаем количество событий и пользователей, которые их совершают, а затем построим воронку"
   ]
  },
  {
   "cell_type": "code",
   "execution_count": 29,
   "metadata": {},
   "outputs": [],
   "source": [
    "# группируем данные\n",
    "\n",
    "events = (\n",
    "    eda\n",
    "    .pivot_table(index=('event_day','event_name'), \n",
    "                 values='user_id',\n",
    "                 aggfunc=('count','nunique')\n",
    "                )\n",
    "    .reset_index()\n",
    "    .rename(columns=dict(\n",
    "        count = 'events',\n",
    "        nunique='unique_users'))\n",
    "    .sort_values('events', ascending=False)\n",
    ")"
   ]
  },
  {
   "cell_type": "code",
   "execution_count": 30,
   "metadata": {},
   "outputs": [
    {
     "data": {
      "image/svg+xml": [
       "<svg class=\"main-svg\" xmlns=\"http://www.w3.org/2000/svg\" xmlns:xlink=\"http://www.w3.org/1999/xlink\" width=\"700\" height=\"500\" style=\"\" viewBox=\"0 0 700 500\"><rect x=\"0\" y=\"0\" width=\"700\" height=\"500\" style=\"fill: rgb(255, 255, 255); fill-opacity: 1;\"/><defs id=\"defs-a8bff2\"><g class=\"clips\"><clipPath id=\"clipa8bff2xyplot\" class=\"plotclip\"><rect width=\"471\" height=\"360\"/></clipPath><clipPath class=\"axesclip\" id=\"clipa8bff2x\"><rect x=\"80\" y=\"0\" width=\"471\" height=\"500\"/></clipPath><clipPath class=\"axesclip\" id=\"clipa8bff2y\"><rect x=\"0\" y=\"60\" width=\"700\" height=\"360\"/></clipPath><clipPath class=\"axesclip\" id=\"clipa8bff2xy\"><rect x=\"80\" y=\"60\" width=\"471\" height=\"360\"/></clipPath></g><g class=\"gradients\"/><g class=\"patterns\"/></defs><g class=\"bglayer\"><rect class=\"bg\" x=\"80\" y=\"60\" width=\"471\" height=\"360\" style=\"fill: rgb(229, 236, 246); fill-opacity: 1; stroke-width: 0;\"/></g><g class=\"layer-below\"><g class=\"imagelayer\"/><g class=\"shapelayer\"/></g><g class=\"cartesianlayer\"><g class=\"subplot xy\"><g class=\"layer-subplot\"><g class=\"shapelayer\"/><g class=\"imagelayer\"/></g><g class=\"minor-gridlayer\"><g class=\"x\"/><g class=\"y\"/></g><g class=\"gridlayer\"><g class=\"x\"/><g class=\"y\"><path class=\"ygrid crisp\" transform=\"translate(0,349.99)\" d=\"M80,0h471\" style=\"stroke: rgb(255, 255, 255); stroke-opacity: 1; stroke-width: 1px;\"/><path class=\"ygrid crisp\" transform=\"translate(0,279.98)\" d=\"M80,0h471\" style=\"stroke: rgb(255, 255, 255); stroke-opacity: 1; stroke-width: 1px;\"/><path class=\"ygrid crisp\" transform=\"translate(0,209.97)\" d=\"M80,0h471\" style=\"stroke: rgb(255, 255, 255); stroke-opacity: 1; stroke-width: 1px;\"/><path class=\"ygrid crisp\" transform=\"translate(0,139.95999999999998)\" d=\"M80,0h471\" style=\"stroke: rgb(255, 255, 255); stroke-opacity: 1; stroke-width: 1px;\"/><path class=\"ygrid crisp\" transform=\"translate(0,69.95)\" d=\"M80,0h471\" style=\"stroke: rgb(255, 255, 255); stroke-opacity: 1; stroke-width: 1px;\"/></g></g><g class=\"zerolinelayer\"><path class=\"yzl zl crisp\" transform=\"translate(0,420)\" d=\"M80,0h471\" style=\"stroke: rgb(255, 255, 255); stroke-opacity: 1; stroke-width: 2px;\"/></g><path class=\"xlines-below\"/><path class=\"ylines-below\"/><g class=\"overlines-below\"/><g class=\"xaxislayer-below\"/><g class=\"yaxislayer-below\"/><g class=\"overaxes-below\"/><g class=\"plot\" transform=\"translate(80,60)\" clip-path=\"url(#clipa8bff2xyplot)\"><g class=\"barlayer mlayer\"><g class=\"trace bars\" style=\"opacity: 1;\"><g class=\"points\"><g class=\"point\"><path d=\"M276.71,360V18H280.64V360Z\" style=\"vector-effect: non-scaling-stroke; opacity: 1; stroke-width: 0.5px; fill: rgb(99, 110, 250); fill-opacity: 1; stroke: rgb(229, 236, 246); stroke-opacity: 1;\"/></g><g class=\"point\"><path d=\"M257.09,360V97.46H261.01V360Z\" style=\"vector-effect: non-scaling-stroke; opacity: 1; stroke-width: 0.5px; fill: rgb(99, 110, 250); fill-opacity: 1; stroke: rgb(229, 236, 246); stroke-opacity: 1;\"/></g><g class=\"point\"><path d=\"M237.46,360V114.96H241.39V360Z\" style=\"vector-effect: non-scaling-stroke; opacity: 1; stroke-width: 0.5px; fill: rgb(99, 110, 250); fill-opacity: 1; stroke: rgb(229, 236, 246); stroke-opacity: 1;\"/></g><g class=\"point\"><path d=\"M217.84,360V141.92H221.76V360Z\" style=\"vector-effect: non-scaling-stroke; opacity: 1; stroke-width: 0.5px; fill: rgb(99, 110, 250); fill-opacity: 1; stroke: rgb(229, 236, 246); stroke-opacity: 1;\"/></g><g class=\"point\"><path d=\"M296.34,360V143.67H300.26V360Z\" style=\"vector-effect: non-scaling-stroke; opacity: 1; stroke-width: 0.5px; fill: rgb(99, 110, 250); fill-opacity: 1; stroke: rgb(229, 236, 246); stroke-opacity: 1;\"/></g><g class=\"point\"><path d=\"M198.21,360V153.47H202.14V360Z\" style=\"vector-effect: non-scaling-stroke; opacity: 1; stroke-width: 0.5px; fill: rgb(99, 110, 250); fill-opacity: 1; stroke: rgb(229, 236, 246); stroke-opacity: 1;\"/></g><g class=\"point\"><path d=\"M178.59,360V162.22H182.51V360Z\" style=\"vector-effect: non-scaling-stroke; opacity: 1; stroke-width: 0.5px; fill: rgb(99, 110, 250); fill-opacity: 1; stroke: rgb(229, 236, 246); stroke-opacity: 1;\"/></g><g class=\"point\"><path d=\"M139.34,360V168.87H143.26V360Z\" style=\"vector-effect: non-scaling-stroke; opacity: 1; stroke-width: 0.5px; fill: rgb(99, 110, 250); fill-opacity: 1; stroke: rgb(229, 236, 246); stroke-opacity: 1;\"/></g><g class=\"point\"><path d=\"M158.96,360V177.97H162.89V360Z\" style=\"vector-effect: non-scaling-stroke; opacity: 1; stroke-width: 0.5px; fill: rgb(99, 110, 250); fill-opacity: 1; stroke: rgb(229, 236, 246); stroke-opacity: 1;\"/></g><g class=\"point\"><path d=\"M315.96,360V188.12H319.89V360Z\" style=\"vector-effect: non-scaling-stroke; opacity: 1; stroke-width: 0.5px; fill: rgb(99, 110, 250); fill-opacity: 1; stroke: rgb(229, 236, 246); stroke-opacity: 1;\"/></g><g class=\"point\"><path d=\"M335.59,360V218.93H339.51V360Z\" style=\"vector-effect: non-scaling-stroke; opacity: 1; stroke-width: 0.5px; fill: rgb(99, 110, 250); fill-opacity: 1; stroke: rgb(229, 236, 246); stroke-opacity: 1;\"/></g><g class=\"point\"><path d=\"M355.21,360V249.03H359.14V360Z\" style=\"vector-effect: non-scaling-stroke; opacity: 1; stroke-width: 0.5px; fill: rgb(99, 110, 250); fill-opacity: 1; stroke: rgb(229, 236, 246); stroke-opacity: 1;\"/></g><g class=\"point\"><path d=\"M41.21,360V252.88H45.14V360Z\" style=\"vector-effect: non-scaling-stroke; opacity: 1; stroke-width: 0.5px; fill: rgb(99, 110, 250); fill-opacity: 1; stroke: rgb(229, 236, 246); stroke-opacity: 1;\"/></g><g class=\"point\"><path d=\"M374.84,360V260.94H378.76V360Z\" style=\"vector-effect: non-scaling-stroke; opacity: 1; stroke-width: 0.5px; fill: rgb(99, 110, 250); fill-opacity: 1; stroke: rgb(229, 236, 246); stroke-opacity: 1;\"/></g><g class=\"point\"><path d=\"M394.46,360V263.39H398.39V360Z\" style=\"vector-effect: non-scaling-stroke; opacity: 1; stroke-width: 0.5px; fill: rgb(99, 110, 250); fill-opacity: 1; stroke: rgb(229, 236, 246); stroke-opacity: 1;\"/></g><g class=\"point\"><path d=\"M1.96,360V264.09H5.89V360Z\" style=\"vector-effect: non-scaling-stroke; opacity: 1; stroke-width: 0.5px; fill: rgb(99, 110, 250); fill-opacity: 1; stroke: rgb(229, 236, 246); stroke-opacity: 1;\"/></g><g class=\"point\"><path d=\"M60.84,360V268.64H64.76V360Z\" style=\"vector-effect: non-scaling-stroke; opacity: 1; stroke-width: 0.5px; fill: rgb(99, 110, 250); fill-opacity: 1; stroke: rgb(229, 236, 246); stroke-opacity: 1;\"/></g><g class=\"point\"><path d=\"M21.59,360V272.84H25.51V360Z\" style=\"vector-effect: non-scaling-stroke; opacity: 1; stroke-width: 0.5px; fill: rgb(99, 110, 250); fill-opacity: 1; stroke: rgb(229, 236, 246); stroke-opacity: 1;\"/></g><g class=\"point\"><path d=\"M100.09,360V273.19H104.01V360Z\" style=\"vector-effect: non-scaling-stroke; opacity: 1; stroke-width: 0.5px; fill: rgb(99, 110, 250); fill-opacity: 1; stroke: rgb(229, 236, 246); stroke-opacity: 1;\"/></g><g class=\"point\"><path d=\"M80.46,360V277.04H84.39V360Z\" style=\"vector-effect: non-scaling-stroke; opacity: 1; stroke-width: 0.5px; fill: rgb(99, 110, 250); fill-opacity: 1; stroke: rgb(229, 236, 246); stroke-opacity: 1;\"/></g><g class=\"point\"><path d=\"M414.09,360V277.04H418.01V360Z\" style=\"vector-effect: non-scaling-stroke; opacity: 1; stroke-width: 0.5px; fill: rgb(99, 110, 250); fill-opacity: 1; stroke: rgb(229, 236, 246); stroke-opacity: 1;\"/></g><g class=\"point\"><path d=\"M119.71,360V284.39H123.64V360Z\" style=\"vector-effect: non-scaling-stroke; opacity: 1; stroke-width: 0.5px; fill: rgb(99, 110, 250); fill-opacity: 1; stroke: rgb(229, 236, 246); stroke-opacity: 1;\"/></g><g class=\"point\"><path d=\"M433.71,360V285.79H437.64V360Z\" style=\"vector-effect: non-scaling-stroke; opacity: 1; stroke-width: 0.5px; fill: rgb(99, 110, 250); fill-opacity: 1; stroke: rgb(229, 236, 246); stroke-opacity: 1;\"/></g><g class=\"point\"><path d=\"M453.34,360V359.3H457.26V360Z\" style=\"vector-effect: non-scaling-stroke; opacity: 1; stroke-width: 0.5px; fill: rgb(99, 110, 250); fill-opacity: 1; stroke: rgb(229, 236, 246); stroke-opacity: 1;\"/></g></g></g><g class=\"trace bars\" style=\"opacity: 1;\"><g class=\"points\"><g class=\"point\"><path d=\"M280.64,360V141.92H284.56V360Z\" style=\"vector-effect: non-scaling-stroke; opacity: 1; stroke-width: 0.5px; fill: rgb(239, 85, 59); fill-opacity: 1; stroke: rgb(229, 236, 246); stroke-opacity: 1;\"/></g><g class=\"point\"><path d=\"M261.01,360V197.58H264.94V360Z\" style=\"vector-effect: non-scaling-stroke; opacity: 1; stroke-width: 0.5px; fill: rgb(239, 85, 59); fill-opacity: 1; stroke: rgb(229, 236, 246); stroke-opacity: 1;\"/></g><g class=\"point\"><path d=\"M241.39,360V203.53H245.31V360Z\" style=\"vector-effect: non-scaling-stroke; opacity: 1; stroke-width: 0.5px; fill: rgb(239, 85, 59); fill-opacity: 1; stroke: rgb(229, 236, 246); stroke-opacity: 1;\"/></g><g class=\"point\"><path d=\"M221.76,360V220.68H225.69V360Z\" style=\"vector-effect: non-scaling-stroke; opacity: 1; stroke-width: 0.5px; fill: rgb(239, 85, 59); fill-opacity: 1; stroke: rgb(229, 236, 246); stroke-opacity: 1;\"/></g><g class=\"point\"><path d=\"M300.26,360V225.93H304.19V360Z\" style=\"vector-effect: non-scaling-stroke; opacity: 1; stroke-width: 0.5px; fill: rgb(239, 85, 59); fill-opacity: 1; stroke: rgb(229, 236, 246); stroke-opacity: 1;\"/></g><g class=\"point\"><path d=\"M202.14,360V230.48H206.06V360Z\" style=\"vector-effect: non-scaling-stroke; opacity: 1; stroke-width: 0.5px; fill: rgb(239, 85, 59); fill-opacity: 1; stroke: rgb(229, 236, 246); stroke-opacity: 1;\"/></g><g class=\"point\"><path d=\"M182.51,360V237.83H186.44V360Z\" style=\"vector-effect: non-scaling-stroke; opacity: 1; stroke-width: 0.5px; fill: rgb(239, 85, 59); fill-opacity: 1; stroke: rgb(229, 236, 246); stroke-opacity: 1;\"/></g><g class=\"point\"><path d=\"M143.26,360V244.13H147.19V360Z\" style=\"vector-effect: non-scaling-stroke; opacity: 1; stroke-width: 0.5px; fill: rgb(239, 85, 59); fill-opacity: 1; stroke: rgb(229, 236, 246); stroke-opacity: 1;\"/></g><g class=\"point\"><path d=\"M162.89,360V249.38H166.81V360Z\" style=\"vector-effect: non-scaling-stroke; opacity: 1; stroke-width: 0.5px; fill: rgb(239, 85, 59); fill-opacity: 1; stroke: rgb(229, 236, 246); stroke-opacity: 1;\"/></g><g class=\"point\"><path d=\"M319.89,360V256.03H323.81V360Z\" style=\"vector-effect: non-scaling-stroke; opacity: 1; stroke-width: 0.5px; fill: rgb(239, 85, 59); fill-opacity: 1; stroke: rgb(229, 236, 246); stroke-opacity: 1;\"/></g><g class=\"point\"><path d=\"M339.51,360V269.34H343.44V360Z\" style=\"vector-effect: non-scaling-stroke; opacity: 1; stroke-width: 0.5px; fill: rgb(239, 85, 59); fill-opacity: 1; stroke: rgb(229, 236, 246); stroke-opacity: 1;\"/></g><g class=\"point\"><path d=\"M359.14,360V288.24H363.06V360Z\" style=\"vector-effect: non-scaling-stroke; opacity: 1; stroke-width: 0.5px; fill: rgb(239, 85, 59); fill-opacity: 1; stroke: rgb(229, 236, 246); stroke-opacity: 1;\"/></g><g class=\"point\"><path d=\"M45.14,360V294.89H49.06V360Z\" style=\"vector-effect: non-scaling-stroke; opacity: 1; stroke-width: 0.5px; fill: rgb(239, 85, 59); fill-opacity: 1; stroke: rgb(229, 236, 246); stroke-opacity: 1;\"/></g><g class=\"point\"><path d=\"M378.76,360V295.94H382.69V360Z\" style=\"vector-effect: non-scaling-stroke; opacity: 1; stroke-width: 0.5px; fill: rgb(239, 85, 59); fill-opacity: 1; stroke: rgb(229, 236, 246); stroke-opacity: 1;\"/></g><g class=\"point\"><path d=\"M5.89,360V298.39H9.81V360Z\" style=\"vector-effect: non-scaling-stroke; opacity: 1; stroke-width: 0.5px; fill: rgb(239, 85, 59); fill-opacity: 1; stroke: rgb(229, 236, 246); stroke-opacity: 1;\"/></g><g class=\"point\"><path d=\"M398.39,360V300.84H402.31V360Z\" style=\"vector-effect: non-scaling-stroke; opacity: 1; stroke-width: 0.5px; fill: rgb(239, 85, 59); fill-opacity: 1; stroke: rgb(229, 236, 246); stroke-opacity: 1;\"/></g><g class=\"point\"><path d=\"M25.51,360V306.09H29.44V360Z\" style=\"vector-effect: non-scaling-stroke; opacity: 1; stroke-width: 0.5px; fill: rgb(239, 85, 59); fill-opacity: 1; stroke: rgb(229, 236, 246); stroke-opacity: 1;\"/></g><g class=\"point\"><path d=\"M418.01,360V307.84H421.94V360Z\" style=\"vector-effect: non-scaling-stroke; opacity: 1; stroke-width: 0.5px; fill: rgb(239, 85, 59); fill-opacity: 1; stroke: rgb(229, 236, 246); stroke-opacity: 1;\"/></g><g class=\"point\"><path d=\"M64.76,360V308.54H68.69V360Z\" style=\"vector-effect: non-scaling-stroke; opacity: 1; stroke-width: 0.5px; fill: rgb(239, 85, 59); fill-opacity: 1; stroke: rgb(229, 236, 246); stroke-opacity: 1;\"/></g><g class=\"point\"><path d=\"M437.64,360V312.74H441.56V360Z\" style=\"vector-effect: non-scaling-stroke; opacity: 1; stroke-width: 0.5px; fill: rgb(239, 85, 59); fill-opacity: 1; stroke: rgb(229, 236, 246); stroke-opacity: 1;\"/></g><g class=\"point\"><path d=\"M104.01,360V313.44H107.94V360Z\" style=\"vector-effect: non-scaling-stroke; opacity: 1; stroke-width: 0.5px; fill: rgb(239, 85, 59); fill-opacity: 1; stroke: rgb(229, 236, 246); stroke-opacity: 1;\"/></g><g class=\"point\"><path d=\"M84.39,360V315.89H88.31V360Z\" style=\"vector-effect: non-scaling-stroke; opacity: 1; stroke-width: 0.5px; fill: rgb(239, 85, 59); fill-opacity: 1; stroke: rgb(229, 236, 246); stroke-opacity: 1;\"/></g><g class=\"point\"><path d=\"M123.64,360V319.74H127.56V360Z\" style=\"vector-effect: non-scaling-stroke; opacity: 1; stroke-width: 0.5px; fill: rgb(239, 85, 59); fill-opacity: 1; stroke: rgb(229, 236, 246); stroke-opacity: 1;\"/></g><g class=\"point\"><path d=\"M457.26,360V359.65H461.19V360Z\" style=\"vector-effect: non-scaling-stroke; opacity: 1; stroke-width: 0.5px; fill: rgb(239, 85, 59); fill-opacity: 1; stroke: rgb(229, 236, 246); stroke-opacity: 1;\"/></g></g></g><g class=\"trace bars\" style=\"opacity: 1;\"><g class=\"points\"><g class=\"point\"><path d=\"M284.56,360V249.73H288.49V360Z\" style=\"vector-effect: non-scaling-stroke; opacity: 1; stroke-width: 0.5px; fill: rgb(0, 204, 150); fill-opacity: 1; stroke: rgb(229, 236, 246); stroke-opacity: 1;\"/></g><g class=\"point\"><path d=\"M264.94,360V276.69H268.86V360Z\" style=\"vector-effect: non-scaling-stroke; opacity: 1; stroke-width: 0.5px; fill: rgb(0, 204, 150); fill-opacity: 1; stroke: rgb(229, 236, 246); stroke-opacity: 1;\"/></g><g class=\"point\"><path d=\"M245.31,360V284.39H249.24V360Z\" style=\"vector-effect: non-scaling-stroke; opacity: 1; stroke-width: 0.5px; fill: rgb(0, 204, 150); fill-opacity: 1; stroke: rgb(229, 236, 246); stroke-opacity: 1;\"/></g><g class=\"point\"><path d=\"M304.19,360V294.89H308.11V360Z\" style=\"vector-effect: non-scaling-stroke; opacity: 1; stroke-width: 0.5px; fill: rgb(0, 204, 150); fill-opacity: 1; stroke: rgb(229, 236, 246); stroke-opacity: 1;\"/></g><g class=\"point\"><path d=\"M206.06,360V297.34H209.99V360Z\" style=\"vector-effect: non-scaling-stroke; opacity: 1; stroke-width: 0.5px; fill: rgb(0, 204, 150); fill-opacity: 1; stroke: rgb(229, 236, 246); stroke-opacity: 1;\"/></g><g class=\"point\"><path d=\"M225.69,360V297.69H229.61V360Z\" style=\"vector-effect: non-scaling-stroke; opacity: 1; stroke-width: 0.5px; fill: rgb(0, 204, 150); fill-opacity: 1; stroke: rgb(229, 236, 246); stroke-opacity: 1;\"/></g><g class=\"point\"><path d=\"M186.44,360V298.04H190.36V360Z\" style=\"vector-effect: non-scaling-stroke; opacity: 1; stroke-width: 0.5px; fill: rgb(0, 204, 150); fill-opacity: 1; stroke: rgb(229, 236, 246); stroke-opacity: 1;\"/></g><g class=\"point\"><path d=\"M147.19,360V305.39H151.11V360Z\" style=\"vector-effect: non-scaling-stroke; opacity: 1; stroke-width: 0.5px; fill: rgb(0, 204, 150); fill-opacity: 1; stroke: rgb(229, 236, 246); stroke-opacity: 1;\"/></g><g class=\"point\"><path d=\"M166.81,360V305.74H170.74V360Z\" style=\"vector-effect: non-scaling-stroke; opacity: 1; stroke-width: 0.5px; fill: rgb(0, 204, 150); fill-opacity: 1; stroke: rgb(229, 236, 246); stroke-opacity: 1;\"/></g><g class=\"point\"><path d=\"M323.81,360V311.69H327.74V360Z\" style=\"vector-effect: non-scaling-stroke; opacity: 1; stroke-width: 0.5px; fill: rgb(0, 204, 150); fill-opacity: 1; stroke: rgb(229, 236, 246); stroke-opacity: 1;\"/></g><g class=\"point\"><path d=\"M343.44,360V314.14H347.36V360Z\" style=\"vector-effect: non-scaling-stroke; opacity: 1; stroke-width: 0.5px; fill: rgb(0, 204, 150); fill-opacity: 1; stroke: rgb(229, 236, 246); stroke-opacity: 1;\"/></g><g class=\"point\"><path d=\"M363.06,360V322.89H366.99V360Z\" style=\"vector-effect: non-scaling-stroke; opacity: 1; stroke-width: 0.5px; fill: rgb(0, 204, 150); fill-opacity: 1; stroke: rgb(229, 236, 246); stroke-opacity: 1;\"/></g><g class=\"point\"><path d=\"M402.31,360V327.1H406.24V360Z\" style=\"vector-effect: non-scaling-stroke; opacity: 1; stroke-width: 0.5px; fill: rgb(0, 204, 150); fill-opacity: 1; stroke: rgb(229, 236, 246); stroke-opacity: 1;\"/></g><g class=\"point\"><path d=\"M382.69,360V327.45H386.61V360Z\" style=\"vector-effect: non-scaling-stroke; opacity: 1; stroke-width: 0.5px; fill: rgb(0, 204, 150); fill-opacity: 1; stroke: rgb(229, 236, 246); stroke-opacity: 1;\"/></g><g class=\"point\"><path d=\"M9.81,360V328.15H13.74V360Z\" style=\"vector-effect: non-scaling-stroke; opacity: 1; stroke-width: 0.5px; fill: rgb(0, 204, 150); fill-opacity: 1; stroke: rgb(229, 236, 246); stroke-opacity: 1;\"/></g><g class=\"point\"><path d=\"M49.06,360V332H52.99V360Z\" style=\"vector-effect: non-scaling-stroke; opacity: 1; stroke-width: 0.5px; fill: rgb(0, 204, 150); fill-opacity: 1; stroke: rgb(229, 236, 246); stroke-opacity: 1;\"/></g><g class=\"point\"><path d=\"M421.94,360V336.2H425.86V360Z\" style=\"vector-effect: non-scaling-stroke; opacity: 1; stroke-width: 0.5px; fill: rgb(0, 204, 150); fill-opacity: 1; stroke: rgb(229, 236, 246); stroke-opacity: 1;\"/></g><g class=\"point\"><path d=\"M68.69,360V337.6H72.61V360Z\" style=\"vector-effect: non-scaling-stroke; opacity: 1; stroke-width: 0.5px; fill: rgb(0, 204, 150); fill-opacity: 1; stroke: rgb(229, 236, 246); stroke-opacity: 1;\"/></g><g class=\"point\"><path d=\"M29.44,360V337.95H33.36V360Z\" style=\"vector-effect: non-scaling-stroke; opacity: 1; stroke-width: 0.5px; fill: rgb(0, 204, 150); fill-opacity: 1; stroke: rgb(229, 236, 246); stroke-opacity: 1;\"/></g><g class=\"point\"><path d=\"M107.94,360V339.35H111.86V360Z\" style=\"vector-effect: non-scaling-stroke; opacity: 1; stroke-width: 0.5px; fill: rgb(0, 204, 150); fill-opacity: 1; stroke: rgb(229, 236, 246); stroke-opacity: 1;\"/></g><g class=\"point\"><path d=\"M441.56,360V341.8H445.49V360Z\" style=\"vector-effect: non-scaling-stroke; opacity: 1; stroke-width: 0.5px; fill: rgb(0, 204, 150); fill-opacity: 1; stroke: rgb(229, 236, 246); stroke-opacity: 1;\"/></g><g class=\"point\"><path d=\"M88.31,360V342.5H92.24V360Z\" style=\"vector-effect: non-scaling-stroke; opacity: 1; stroke-width: 0.5px; fill: rgb(0, 204, 150); fill-opacity: 1; stroke: rgb(229, 236, 246); stroke-opacity: 1;\"/></g><g class=\"point\"><path d=\"M127.56,360V342.5H131.49V360Z\" style=\"vector-effect: non-scaling-stroke; opacity: 1; stroke-width: 0.5px; fill: rgb(0, 204, 150); fill-opacity: 1; stroke: rgb(229, 236, 246); stroke-opacity: 1;\"/></g></g></g><g class=\"trace bars\" style=\"opacity: 1;\"><g class=\"points\"><g class=\"point\"><path d=\"M288.49,360V265.49H292.41V360Z\" style=\"vector-effect: non-scaling-stroke; opacity: 1; stroke-width: 0.5px; fill: rgb(171, 99, 250); fill-opacity: 1; stroke: rgb(229, 236, 246); stroke-opacity: 1;\"/></g><g class=\"point\"><path d=\"M249.24,360V280.89H253.16V360Z\" style=\"vector-effect: non-scaling-stroke; opacity: 1; stroke-width: 0.5px; fill: rgb(171, 99, 250); fill-opacity: 1; stroke: rgb(229, 236, 246); stroke-opacity: 1;\"/></g><g class=\"point\"><path d=\"M268.86,360V281.59H272.79V360Z\" style=\"vector-effect: non-scaling-stroke; opacity: 1; stroke-width: 0.5px; fill: rgb(171, 99, 250); fill-opacity: 1; stroke: rgb(229, 236, 246); stroke-opacity: 1;\"/></g><g class=\"point\"><path d=\"M209.99,360V288.59H213.91V360Z\" style=\"vector-effect: non-scaling-stroke; opacity: 1; stroke-width: 0.5px; fill: rgb(171, 99, 250); fill-opacity: 1; stroke: rgb(229, 236, 246); stroke-opacity: 1;\"/></g><g class=\"point\"><path d=\"M229.61,360V293.14H233.54V360Z\" style=\"vector-effect: non-scaling-stroke; opacity: 1; stroke-width: 0.5px; fill: rgb(171, 99, 250); fill-opacity: 1; stroke: rgb(229, 236, 246); stroke-opacity: 1;\"/></g><g class=\"point\"><path d=\"M190.36,360V297.34H194.29V360Z\" style=\"vector-effect: non-scaling-stroke; opacity: 1; stroke-width: 0.5px; fill: rgb(171, 99, 250); fill-opacity: 1; stroke: rgb(229, 236, 246); stroke-opacity: 1;\"/></g><g class=\"point\"><path d=\"M170.74,360V298.74H174.66V360Z\" style=\"vector-effect: non-scaling-stroke; opacity: 1; stroke-width: 0.5px; fill: rgb(171, 99, 250); fill-opacity: 1; stroke: rgb(229, 236, 246); stroke-opacity: 1;\"/></g><g class=\"point\"><path d=\"M308.11,360V300.49H312.04V360Z\" style=\"vector-effect: non-scaling-stroke; opacity: 1; stroke-width: 0.5px; fill: rgb(171, 99, 250); fill-opacity: 1; stroke: rgb(229, 236, 246); stroke-opacity: 1;\"/></g><g class=\"point\"><path d=\"M151.11,360V301.89H155.04V360Z\" style=\"vector-effect: non-scaling-stroke; opacity: 1; stroke-width: 0.5px; fill: rgb(171, 99, 250); fill-opacity: 1; stroke: rgb(229, 236, 246); stroke-opacity: 1;\"/></g><g class=\"point\"><path d=\"M327.74,360V314.14H331.66V360Z\" style=\"vector-effect: non-scaling-stroke; opacity: 1; stroke-width: 0.5px; fill: rgb(171, 99, 250); fill-opacity: 1; stroke: rgb(229, 236, 246); stroke-opacity: 1;\"/></g><g class=\"point\"><path d=\"M347.36,360V315.19H351.29V360Z\" style=\"vector-effect: non-scaling-stroke; opacity: 1; stroke-width: 0.5px; fill: rgb(171, 99, 250); fill-opacity: 1; stroke: rgb(229, 236, 246); stroke-opacity: 1;\"/></g><g class=\"point\"><path d=\"M52.99,360V330.25H56.91V360Z\" style=\"vector-effect: non-scaling-stroke; opacity: 1; stroke-width: 0.5px; fill: rgb(171, 99, 250); fill-opacity: 1; stroke: rgb(229, 236, 246); stroke-opacity: 1;\"/></g><g class=\"point\"><path d=\"M406.24,360V332H410.16V360Z\" style=\"vector-effect: non-scaling-stroke; opacity: 1; stroke-width: 0.5px; fill: rgb(171, 99, 250); fill-opacity: 1; stroke: rgb(229, 236, 246); stroke-opacity: 1;\"/></g><g class=\"point\"><path d=\"M386.61,360V332.7H390.54V360Z\" style=\"vector-effect: non-scaling-stroke; opacity: 1; stroke-width: 0.5px; fill: rgb(171, 99, 250); fill-opacity: 1; stroke: rgb(229, 236, 246); stroke-opacity: 1;\"/></g><g class=\"point\"><path d=\"M366.99,360V333.05H370.91V360Z\" style=\"vector-effect: non-scaling-stroke; opacity: 1; stroke-width: 0.5px; fill: rgb(171, 99, 250); fill-opacity: 1; stroke: rgb(229, 236, 246); stroke-opacity: 1;\"/></g><g class=\"point\"><path d=\"M72.61,360V334.45H76.54V360Z\" style=\"vector-effect: non-scaling-stroke; opacity: 1; stroke-width: 0.5px; fill: rgb(171, 99, 250); fill-opacity: 1; stroke: rgb(229, 236, 246); stroke-opacity: 1;\"/></g><g class=\"point\"><path d=\"M13.74,360V334.8H17.66V360Z\" style=\"vector-effect: non-scaling-stroke; opacity: 1; stroke-width: 0.5px; fill: rgb(171, 99, 250); fill-opacity: 1; stroke: rgb(229, 236, 246); stroke-opacity: 1;\"/></g><g class=\"point\"><path d=\"M425.86,360V335.5H429.79V360Z\" style=\"vector-effect: non-scaling-stroke; opacity: 1; stroke-width: 0.5px; fill: rgb(171, 99, 250); fill-opacity: 1; stroke: rgb(229, 236, 246); stroke-opacity: 1;\"/></g><g class=\"point\"><path d=\"M33.36,360V336.9H37.29V360Z\" style=\"vector-effect: non-scaling-stroke; opacity: 1; stroke-width: 0.5px; fill: rgb(171, 99, 250); fill-opacity: 1; stroke: rgb(229, 236, 246); stroke-opacity: 1;\"/></g><g class=\"point\"><path d=\"M111.86,360V338.65H115.79V360Z\" style=\"vector-effect: non-scaling-stroke; opacity: 1; stroke-width: 0.5px; fill: rgb(171, 99, 250); fill-opacity: 1; stroke: rgb(229, 236, 246); stroke-opacity: 1;\"/></g><g class=\"point\"><path d=\"M92.24,360V339.7H96.16V360Z\" style=\"vector-effect: non-scaling-stroke; opacity: 1; stroke-width: 0.5px; fill: rgb(171, 99, 250); fill-opacity: 1; stroke: rgb(229, 236, 246); stroke-opacity: 1;\"/></g><g class=\"point\"><path d=\"M445.49,360V340.75H449.41V360Z\" style=\"vector-effect: non-scaling-stroke; opacity: 1; stroke-width: 0.5px; fill: rgb(171, 99, 250); fill-opacity: 1; stroke: rgb(229, 236, 246); stroke-opacity: 1;\"/></g><g class=\"point\"><path d=\"M131.49,360V343.9H135.41V360Z\" style=\"vector-effect: non-scaling-stroke; opacity: 1; stroke-width: 0.5px; fill: rgb(171, 99, 250); fill-opacity: 1; stroke: rgb(229, 236, 246); stroke-opacity: 1;\"/></g><g class=\"point\"><path d=\"M465.11,360V359.65H469.04V360Z\" style=\"vector-effect: non-scaling-stroke; opacity: 1; stroke-width: 0.5px; fill: rgb(171, 99, 250); fill-opacity: 1; stroke: rgb(229, 236, 246); stroke-opacity: 1;\"/></g></g></g></g></g><g class=\"overplot\"/><path class=\"xlines-above crisp\" d=\"M0,0\" style=\"fill: none;\"/><path class=\"ylines-above crisp\" d=\"M0,0\" style=\"fill: none;\"/><g class=\"overlines-above\"/><g class=\"xaxislayer-above\"><g class=\"xtick\"><text text-anchor=\"middle\" x=\"0\" y=\"433\" transform=\"translate(207.56,0)\" style=\"font-family: 'Open Sans', verdana, arial, sans-serif; font-size: 12px; fill: rgb(42, 63, 95); fill-opacity: 1; white-space: pre; opacity: 1;\"><tspan class=\"line\" dy=\"0em\" x=\"0\" y=\"433\">Dec 13</tspan><tspan class=\"line\" dy=\"1.3em\" x=\"0\" y=\"433\">2020</tspan></text></g><g class=\"xtick\"><text text-anchor=\"middle\" x=\"0\" y=\"433\" style=\"font-family: 'Open Sans', verdana, arial, sans-serif; font-size: 12px; fill: rgb(42, 63, 95); fill-opacity: 1; white-space: pre; opacity: 1;\" transform=\"translate(344.94,0)\">Dec 20</text></g><g class=\"xtick\"><text text-anchor=\"middle\" x=\"0\" y=\"433\" style=\"font-family: 'Open Sans', verdana, arial, sans-serif; font-size: 12px; fill: rgb(42, 63, 95); fill-opacity: 1; white-space: pre; opacity: 1;\" transform=\"translate(482.31,0)\">Dec 27</text></g></g><g class=\"yaxislayer-above\"><g class=\"ytick\"><text text-anchor=\"end\" x=\"79\" y=\"4.199999999999999\" transform=\"translate(0,420)\" style=\"font-family: 'Open Sans', verdana, arial, sans-serif; font-size: 12px; fill: rgb(42, 63, 95); fill-opacity: 1; white-space: pre; opacity: 1;\">0</text></g><g class=\"ytick\"><text text-anchor=\"end\" x=\"79\" y=\"4.199999999999999\" style=\"font-family: 'Open Sans', verdana, arial, sans-serif; font-size: 12px; fill: rgb(42, 63, 95); fill-opacity: 1; white-space: pre; opacity: 1;\" transform=\"translate(0,349.99)\">200</text></g><g class=\"ytick\"><text text-anchor=\"end\" x=\"79\" y=\"4.199999999999999\" style=\"font-family: 'Open Sans', verdana, arial, sans-serif; font-size: 12px; fill: rgb(42, 63, 95); fill-opacity: 1; white-space: pre; opacity: 1;\" transform=\"translate(0,279.98)\">400</text></g><g class=\"ytick\"><text text-anchor=\"end\" x=\"79\" y=\"4.199999999999999\" style=\"font-family: 'Open Sans', verdana, arial, sans-serif; font-size: 12px; fill: rgb(42, 63, 95); fill-opacity: 1; white-space: pre; opacity: 1;\" transform=\"translate(0,209.97)\">600</text></g><g class=\"ytick\"><text text-anchor=\"end\" x=\"79\" y=\"4.199999999999999\" style=\"font-family: 'Open Sans', verdana, arial, sans-serif; font-size: 12px; fill: rgb(42, 63, 95); fill-opacity: 1; white-space: pre; opacity: 1;\" transform=\"translate(0,139.95999999999998)\">800</text></g><g class=\"ytick\"><text text-anchor=\"end\" x=\"79\" y=\"4.199999999999999\" style=\"font-family: 'Open Sans', verdana, arial, sans-serif; font-size: 12px; fill: rgb(42, 63, 95); fill-opacity: 1; white-space: pre; opacity: 1;\" transform=\"translate(0,69.95)\">1000</text></g></g><g class=\"overaxes-above\"/></g></g><g class=\"polarlayer\"/><g class=\"smithlayer\"/><g class=\"ternarylayer\"/><g class=\"geolayer\"/><g class=\"funnelarealayer\"/><g class=\"pielayer\"/><g class=\"iciclelayer\"/><g class=\"treemaplayer\"/><g class=\"sunburstlayer\"/><g class=\"glimages\"/><defs id=\"topdefs-a8bff2\"><g class=\"clips\"/><clipPath id=\"legenda8bff2\"><rect width=\"128\" height=\"105\" x=\"0\" y=\"0\"/></clipPath></defs><g class=\"layer-above\"><g class=\"imagelayer\"/><g class=\"shapelayer\"/></g><g class=\"infolayer\"><g class=\"legend\" pointer-events=\"all\" transform=\"translate(560.4200000000001,60)\"><rect class=\"bg\" shape-rendering=\"crispEdges\" style=\"stroke: rgb(68, 68, 68); stroke-opacity: 1; fill: rgb(255, 255, 255); fill-opacity: 1; stroke-width: 0px;\" width=\"128\" height=\"105\" x=\"0\" y=\"0\"/><g class=\"scrollbox\" transform=\"\" clip-path=\"url(#legenda8bff2)\"><text class=\"legendtitletext\" text-anchor=\"start\" x=\"2\" y=\"18.2\" style=\"font-family: 'Open Sans', verdana, arial, sans-serif; font-size: 14px; fill: rgb(42, 63, 95); fill-opacity: 1; white-space: pre;\">Событие</text><g class=\"groups\" transform=\"\"><g class=\"traces\" transform=\"translate(0,32.7)\" style=\"opacity: 1;\"><text class=\"legendtext\" text-anchor=\"start\" x=\"40\" y=\"4.680000000000001\" style=\"font-family: 'Open Sans', verdana, arial, sans-serif; font-size: 12px; fill: rgb(42, 63, 95); fill-opacity: 1; white-space: pre;\">login</text><g class=\"layers\" style=\"opacity: 1;\"><g class=\"legendfill\"/><g class=\"legendlines\"/><g class=\"legendsymbols\"><g class=\"legendpoints\"><path class=\"legendundefined\" d=\"M6,6H-6V-6H6Z\" transform=\"translate(20,0)\" style=\"stroke-width: 0.5px; fill: rgb(99, 110, 250); fill-opacity: 1; stroke: rgb(229, 236, 246); stroke-opacity: 1;\"/></g></g></g><rect class=\"legendtoggle\" x=\"0\" y=\"-9.5\" width=\"122.875\" height=\"19\" style=\"fill: rgb(0, 0, 0); fill-opacity: 0;\"/></g></g><g class=\"groups\" transform=\"\"><g class=\"traces\" transform=\"translate(0,51.7)\" style=\"opacity: 1;\"><text class=\"legendtext\" text-anchor=\"start\" x=\"40\" y=\"4.680000000000001\" style=\"font-family: 'Open Sans', verdana, arial, sans-serif; font-size: 12px; fill: rgb(42, 63, 95); fill-opacity: 1; white-space: pre;\">product_page</text><g class=\"layers\" style=\"opacity: 1;\"><g class=\"legendfill\"/><g class=\"legendlines\"/><g class=\"legendsymbols\"><g class=\"legendpoints\"><path class=\"legendundefined\" d=\"M6,6H-6V-6H6Z\" transform=\"translate(20,0)\" style=\"stroke-width: 0.5px; fill: rgb(239, 85, 59); fill-opacity: 1; stroke: rgb(229, 236, 246); stroke-opacity: 1;\"/></g></g></g><rect class=\"legendtoggle\" x=\"0\" y=\"-9.5\" width=\"122.875\" height=\"19\" style=\"fill: rgb(0, 0, 0); fill-opacity: 0;\"/></g></g><g class=\"groups\" transform=\"\"><g class=\"traces\" transform=\"translate(0,70.7)\" style=\"opacity: 1;\"><text class=\"legendtext\" text-anchor=\"start\" x=\"40\" y=\"4.680000000000001\" style=\"font-family: 'Open Sans', verdana, arial, sans-serif; font-size: 12px; fill: rgb(42, 63, 95); fill-opacity: 1; white-space: pre;\">purchase</text><g class=\"layers\" style=\"opacity: 1;\"><g class=\"legendfill\"/><g class=\"legendlines\"/><g class=\"legendsymbols\"><g class=\"legendpoints\"><path class=\"legendundefined\" d=\"M6,6H-6V-6H6Z\" transform=\"translate(20,0)\" style=\"stroke-width: 0.5px; fill: rgb(0, 204, 150); fill-opacity: 1; stroke: rgb(229, 236, 246); stroke-opacity: 1;\"/></g></g></g><rect class=\"legendtoggle\" x=\"0\" y=\"-9.5\" width=\"122.875\" height=\"19\" style=\"fill: rgb(0, 0, 0); fill-opacity: 0;\"/></g></g><g class=\"groups\" transform=\"\"><g class=\"traces\" transform=\"translate(0,89.7)\" style=\"opacity: 1;\"><text class=\"legendtext\" text-anchor=\"start\" x=\"40\" y=\"4.680000000000001\" style=\"font-family: 'Open Sans', verdana, arial, sans-serif; font-size: 12px; fill: rgb(42, 63, 95); fill-opacity: 1; white-space: pre;\">product_cart</text><g class=\"layers\" style=\"opacity: 1;\"><g class=\"legendfill\"/><g class=\"legendlines\"/><g class=\"legendsymbols\"><g class=\"legendpoints\"><path class=\"legendundefined\" d=\"M6,6H-6V-6H6Z\" transform=\"translate(20,0)\" style=\"stroke-width: 0.5px; fill: rgb(171, 99, 250); fill-opacity: 1; stroke: rgb(229, 236, 246); stroke-opacity: 1;\"/></g></g></g><rect class=\"legendtoggle\" x=\"0\" y=\"-9.5\" width=\"122.875\" height=\"19\" style=\"fill: rgb(0, 0, 0); fill-opacity: 0;\"/></g></g></g><rect class=\"scrollbar\" rx=\"20\" ry=\"3\" width=\"0\" height=\"0\" style=\"fill: rgb(128, 139, 164); fill-opacity: 1;\" x=\"0\" y=\"0\"/></g><g class=\"g-gtitle\"><text class=\"gtitle\" x=\"140\" y=\"30\" text-anchor=\"start\" dy=\"0em\" style=\"font-family: 'Open Sans', verdana, arial, sans-serif; font-size: 17px; fill: rgb(42, 63, 95); opacity: 1; font-weight: normal; white-space: pre;\">Количество событий на каждый день исследуемого периода</text></g><g class=\"g-xtitle\"><text class=\"xtitle\" x=\"315.5\" y=\"476.409375\" text-anchor=\"middle\" style=\"font-family: 'Open Sans', verdana, arial, sans-serif; font-size: 14px; fill: rgb(42, 63, 95); opacity: 1; font-weight: normal; white-space: pre;\">День</text></g><g class=\"g-ytitle\"><text class=\"ytitle\" transform=\"rotate(-90,23.684375000000003,240)\" x=\"23.684375000000003\" y=\"240\" text-anchor=\"middle\" style=\"font-family: 'Open Sans', verdana, arial, sans-serif; font-size: 14px; fill: rgb(42, 63, 95); opacity: 1; font-weight: normal; white-space: pre;\">Количество событий</text></g></g></svg>"
      ]
     },
     "metadata": {},
     "output_type": "display_data"
    }
   ],
   "source": [
    "# визуализируем количество событий по типам\n",
    "\n",
    "labels = dict(\n",
    "    event_day = 'День',\n",
    "    event_name = 'Событие',\n",
    "    events = 'Количество событий'\n",
    ")\n",
    "\n",
    "fig = px.bar(\n",
    "    events, x='event_day', \n",
    "    y='events', color='event_name', \n",
    "    barmode='group', labels=labels\n",
    ")\n",
    "\n",
    "fig.update_layout(title = 'Количество событий на каждый день исследуемого периода', title_x= .2)\n",
    "fig.show()"
   ]
  },
  {
   "cell_type": "markdown",
   "metadata": {},
   "source": [
    "В целом последовательность событий упорядочена в схожем соотношении - `login` происходит чаще всего, `product_page` - примерно в два раза реже, и ещё в два раза реже остальные два события. Причём `purchase` часто равен или даже превышает `product_cart`, что лишний раз указывает на наличии и популярность опции по типу \"покупка в один клик\"."
   ]
  },
  {
   "cell_type": "markdown",
   "metadata": {},
   "source": [
    "Построим воронку по уникальным пользователям:"
   ]
  },
  {
   "cell_type": "code",
   "execution_count": 31,
   "metadata": {},
   "outputs": [],
   "source": [
    "# перегруппируем данные\n",
    "\n",
    "events = (\n",
    "    eda\n",
    "    .groupby('event_name')\n",
    "    .agg(dict(user_id='nunique'))\n",
    "    .reset_index()\n",
    "    .append(\n",
    "        dict(event_name='total_users',\n",
    "             user_id=eda['user_id'].unique().size), ignore_index=True)\n",
    "    .sort_values('user_id', ascending=False)\n",
    "    .reset_index(drop=True)\n",
    "    .rename(columns=dict(\n",
    "        count = 'events',\n",
    "        user_id='unique_users'))\n",
    ")"
   ]
  },
  {
   "cell_type": "code",
   "execution_count": 32,
   "metadata": {},
   "outputs": [
    {
     "data": {
      "image/svg+xml": [
       "<svg class=\"main-svg\" xmlns=\"http://www.w3.org/2000/svg\" xmlns:xlink=\"http://www.w3.org/1999/xlink\" width=\"700\" height=\"500\" style=\"\" viewBox=\"0 0 700 500\"><rect x=\"0\" y=\"0\" width=\"700\" height=\"500\" style=\"fill: rgb(255, 255, 255); fill-opacity: 1;\"/><defs id=\"defs-6801ba\"><g class=\"clips\"><clipPath id=\"clip6801baxyplot\" class=\"plotclip\"><rect width=\"524\" height=\"320\"/></clipPath><clipPath class=\"axesclip\" id=\"clip6801bax\"><rect x=\"96\" y=\"0\" width=\"524\" height=\"500\"/></clipPath><clipPath class=\"axesclip\" id=\"clip6801bay\"><rect x=\"0\" y=\"100\" width=\"700\" height=\"320\"/></clipPath><clipPath class=\"axesclip\" id=\"clip6801baxy\"><rect x=\"96\" y=\"100\" width=\"524\" height=\"320\"/></clipPath></g><g class=\"gradients\"/><g class=\"patterns\"/></defs><g class=\"bglayer\"><rect class=\"bg\" x=\"96\" y=\"100\" width=\"524\" height=\"320\" style=\"fill: rgb(229, 236, 246); fill-opacity: 1; stroke-width: 0;\"/></g><g class=\"layer-below\"><g class=\"imagelayer\"/><g class=\"shapelayer\"/></g><g class=\"cartesianlayer\"><g class=\"subplot xy\"><g class=\"layer-subplot\"><g class=\"shapelayer\"/><g class=\"imagelayer\"/></g><g class=\"minor-gridlayer\"><g class=\"x\"/><g class=\"y\"/></g><g class=\"gridlayer\"><g class=\"x\"/><g class=\"y\"/></g><g class=\"zerolinelayer\"/><path class=\"xlines-below\"/><path class=\"ylines-below\"/><g class=\"overlines-below\"/><g class=\"xaxislayer-below\"/><g class=\"yaxislayer-below\"/><g class=\"overaxes-below\"/><g class=\"plot\" transform=\"translate(96,100)\" clip-path=\"url(#clip6801baxyplot)\"><g class=\"funnellayer mlayer\"><g class=\"trace bars\" style=\"opacity: 0.6;\"><g class=\"regions\"><g class=\"region\"><path d=\"M26.2,57.6L132.74,70.4H391.26L497.8,57.6Z\" style=\"stroke-width: 0; fill: rgb(99, 110, 250); fill-opacity: 0.5;\"/></g><g class=\"region\"><path d=\"M132.74,121.6L181.12,134.4H342.88L391.26,121.6Z\" style=\"stroke-width: 0; fill: rgb(99, 110, 250); fill-opacity: 0.5;\"/></g><g class=\"region\"><path d=\"M181.12,185.6L224.03,198.4H299.97L342.88,185.6Z\" style=\"stroke-width: 0; fill: rgb(99, 110, 250); fill-opacity: 0.5;\"/></g><g class=\"region\"><path d=\"M224.03,249.6L222.2,262.4H301.8L299.97,249.6Z\" style=\"stroke-width: 0; fill: rgb(99, 110, 250); fill-opacity: 0.5;\"/></g><g class=\"region\"><path d=\"M0,0Z\" style=\"stroke-width: 0; fill: rgb(99, 110, 250); fill-opacity: 0.5;\"/></g></g><g class=\"lines\"><g class=\"line\"><path d=\"M26.2,57.6L132.74,70.4M497.8,57.6L391.26,70.4\" style=\"fill: none; stroke: rgb(65, 105, 225); stroke-opacity: 1; stroke-dasharray: 6px, 6px; stroke-width: 6px;\"/></g><g class=\"line\"><path d=\"M132.74,121.6L181.12,134.4M391.26,121.6L342.88,134.4\" style=\"fill: none; stroke: rgb(65, 105, 225); stroke-opacity: 1; stroke-dasharray: 6px, 6px; stroke-width: 6px;\"/></g><g class=\"line\"><path d=\"M181.12,185.6L224.03,198.4M342.88,185.6L299.97,198.4\" style=\"fill: none; stroke: rgb(65, 105, 225); stroke-opacity: 1; stroke-dasharray: 6px, 6px; stroke-width: 6px;\"/></g><g class=\"line\"><path d=\"M224.03,249.6L222.2,262.4M299.97,249.6L301.8,262.4\" style=\"fill: none; stroke: rgb(65, 105, 225); stroke-opacity: 1; stroke-dasharray: 6px, 6px; stroke-width: 6px;\"/></g><g class=\"line\"><path d=\"M0,0Z\" style=\"fill: none; stroke: rgb(65, 105, 225); stroke-opacity: 1; stroke-dasharray: 6px, 6px; stroke-width: 6px;\"/></g></g><g class=\"points\"><g class=\"point\"><path d=\"M26.2,6.4V57.6H497.8V6.4Z\" style=\"vector-effect: non-scaling-stroke; fill: rgb(99, 110, 250); fill-opacity: 1; stroke: rgb(68, 68, 68); stroke-opacity: 1; stroke-width: 0px; opacity: 1;\"/><text class=\"bartext bartext-inside\" text-anchor=\"middle\" data-notex=\"1\" x=\"0\" y=\"0\" style=\"font-family: 'Open Sans', verdana, arial, sans-serif; font-size: 12px; fill: rgb(255, 255, 255); fill-opacity: 1; white-space: pre;\" transform=\"translate(261.953125,28.6953125)\"><tspan class=\"line\" dy=\"0em\" x=\"0\" y=\"0\">5918</tspan><tspan class=\"line\" dy=\"1.3em\" x=\"0\" y=\"0\">100%</tspan></text></g><g class=\"point\"><path d=\"M132.74,70.4V121.6H391.26V70.4Z\" style=\"vector-effect: non-scaling-stroke; fill: rgb(99, 110, 250); fill-opacity: 1; stroke: rgb(68, 68, 68); stroke-opacity: 1; stroke-width: 0px; opacity: 1;\"/><text class=\"bartext bartext-inside\" text-anchor=\"middle\" data-notex=\"1\" x=\"0\" y=\"0\" style=\"font-family: 'Open Sans', verdana, arial, sans-serif; font-size: 12px; fill: rgb(255, 255, 255); fill-opacity: 1; white-space: pre;\" transform=\"translate(261.8125,92.6953125)\"><tspan class=\"line\" dy=\"0em\" x=\"0\" y=\"0\">3244</tspan><tspan class=\"line\" dy=\"1.3em\" x=\"0\" y=\"0\">55%</tspan></text></g><g class=\"point\"><path d=\"M181.12,134.4V185.6H342.88V134.4Z\" style=\"vector-effect: non-scaling-stroke; fill: rgb(99, 110, 250); fill-opacity: 1; stroke: rgb(68, 68, 68); stroke-opacity: 1; stroke-width: 0px; opacity: 1;\"/><text class=\"bartext bartext-inside\" text-anchor=\"middle\" data-notex=\"1\" x=\"0\" y=\"0\" style=\"font-family: 'Open Sans', verdana, arial, sans-serif; font-size: 12px; fill: rgb(255, 255, 255); fill-opacity: 1; white-space: pre;\" transform=\"translate(261.8125,156.6953125)\"><tspan class=\"line\" dy=\"0em\" x=\"0\" y=\"0\">2030</tspan><tspan class=\"line\" dy=\"1.3em\" x=\"0\" y=\"0\">34%</tspan></text></g><g class=\"point\"><path d=\"M224.03,198.4V249.6H299.97V198.4Z\" style=\"vector-effect: non-scaling-stroke; fill: rgb(99, 110, 250); fill-opacity: 1; stroke: rgb(68, 68, 68); stroke-opacity: 1; stroke-width: 0px; opacity: 1;\"/><text class=\"bartext bartext-inside\" text-anchor=\"middle\" data-notex=\"1\" x=\"0\" y=\"0\" style=\"font-family: 'Open Sans', verdana, arial, sans-serif; font-size: 12px; fill: rgb(255, 255, 255); fill-opacity: 1; white-space: pre;\" transform=\"translate(261.9609375,220.6953125)\"><tspan class=\"line\" dy=\"0em\" x=\"0\" y=\"0\">953</tspan><tspan class=\"line\" dy=\"1.3em\" x=\"0\" y=\"0\">16%</tspan></text></g><g class=\"point\"><path d=\"M222.2,262.4V313.6H301.8V262.4Z\" style=\"vector-effect: non-scaling-stroke; fill: rgb(99, 110, 250); fill-opacity: 1; stroke: rgb(68, 68, 68); stroke-opacity: 1; stroke-width: 0px; opacity: 1;\"/><text class=\"bartext bartext-inside\" text-anchor=\"middle\" data-notex=\"1\" x=\"0\" y=\"0\" style=\"font-family: 'Open Sans', verdana, arial, sans-serif; font-size: 12px; fill: rgb(255, 255, 255); fill-opacity: 1; white-space: pre;\" transform=\"translate(261.9609375,284.6953125)\"><tspan class=\"line\" dy=\"0em\" x=\"0\" y=\"0\">999</tspan><tspan class=\"line\" dy=\"1.3em\" x=\"0\" y=\"0\">17%</tspan></text></g></g></g></g></g><g class=\"overplot\"/><path class=\"xlines-above crisp\" d=\"M0,0\" style=\"fill: none;\"/><path class=\"ylines-above crisp\" d=\"M0,0\" style=\"fill: none;\"/><g class=\"overlines-above\"/><g class=\"xaxislayer-above\"/><g class=\"yaxislayer-above\"><g class=\"ytick\"><text text-anchor=\"end\" x=\"95\" y=\"4.199999999999999\" transform=\"translate(0,388)\" style=\"font-family: 'Open Sans', verdana, arial, sans-serif; font-size: 12px; fill: rgb(42, 63, 95); fill-opacity: 1; white-space: pre; opacity: 1;\">purchase</text></g><g class=\"ytick\"><text text-anchor=\"end\" x=\"95\" y=\"4.199999999999999\" transform=\"translate(0,324)\" style=\"font-family: 'Open Sans', verdana, arial, sans-serif; font-size: 12px; fill: rgb(42, 63, 95); fill-opacity: 1; white-space: pre; opacity: 1;\">product_cart</text></g><g class=\"ytick\"><text text-anchor=\"end\" x=\"95\" y=\"4.199999999999999\" transform=\"translate(0,260)\" style=\"font-family: 'Open Sans', verdana, arial, sans-serif; font-size: 12px; fill: rgb(42, 63, 95); fill-opacity: 1; white-space: pre; opacity: 1;\">product_page</text></g><g class=\"ytick\"><text text-anchor=\"end\" x=\"95\" y=\"4.199999999999999\" transform=\"translate(0,196)\" style=\"font-family: 'Open Sans', verdana, arial, sans-serif; font-size: 12px; fill: rgb(42, 63, 95); fill-opacity: 1; white-space: pre; opacity: 1;\">login</text></g><g class=\"ytick\"><text text-anchor=\"end\" x=\"95\" y=\"4.199999999999999\" transform=\"translate(0,132)\" style=\"font-family: 'Open Sans', verdana, arial, sans-serif; font-size: 12px; fill: rgb(42, 63, 95); fill-opacity: 1; white-space: pre; opacity: 1;\">total_users</text></g></g><g class=\"overaxes-above\"/></g></g><g class=\"polarlayer\"/><g class=\"smithlayer\"/><g class=\"ternarylayer\"/><g class=\"geolayer\"/><g class=\"funnelarealayer\"/><g class=\"pielayer\"/><g class=\"iciclelayer\"/><g class=\"treemaplayer\"/><g class=\"sunburstlayer\"/><g class=\"glimages\"/><defs id=\"topdefs-6801ba\"><g class=\"clips\"/></defs><g class=\"layer-above\"><g class=\"imagelayer\"/><g class=\"shapelayer\"/></g><g class=\"infolayer\"><g class=\"g-gtitle\"><text class=\"gtitle\" x=\"164.5\" y=\"50\" text-anchor=\"start\" dy=\"0em\" style=\"font-family: 'Open Sans', verdana, arial, sans-serif; font-size: 17px; fill: rgb(42, 63, 95); opacity: 1; font-weight: normal; white-space: pre;\">Воронка событий по количеству уникальных пользователей</text></g><g class=\"g-ytitle\"/></g></svg>"
      ]
     },
     "metadata": {},
     "output_type": "display_data"
    }
   ],
   "source": [
    "# строим воронку\n",
    "\n",
    "labels = list(events['event_name'])\n",
    "values = list(events['unique_users'])\n",
    "order = [0, 1, 2, 4, 3]\n",
    "\n",
    "fig = go.Figure(go.Funnel(\n",
    "    y = [labels[i] for i in order],\n",
    "    x = [values[i] for i in order],\n",
    "    textposition = \"inside\",\n",
    "    textinfo = \"value+percent initial\",\n",
    "    opacity = 0.6,\n",
    "    connector = {\"line\": {\"color\": \"royalblue\", \"dash\": \"dot\", \"width\": 6}})\n",
    "    )\n",
    "\n",
    "\n",
    "fig.update_layout(title = 'Воронка событий по количеству уникальных пользователей', title_x= .235)\n",
    "fig.show()"
   ]
  },
  {
   "cell_type": "markdown",
   "metadata": {},
   "source": [
    "- Воронка событий показывает всего **55%** конверсии в первое целевое событие от общего числа пользователей. При таком результате сложно быть уверенным в данных - такой результат может указывать на серьёзные технические проблемы при формировании лога пользовательских событий. В таком случае порядок действий может кардинально отличаться от пользователя к пользователю."
   ]
  },
  {
   "cell_type": "markdown",
   "metadata": {},
   "source": [
    "### Итоги\n",
    "\n",
    "Исследовательский анализ был разделён на два шага:\n",
    "\n",
    "- [**Анализ распределения данных**](#2.1)\n",
    "\n",
    "- [**Воронка пользовательских событий**](#2.2)\n",
    "\n",
    "В начале данные были собраны в единый датафрейм. При обзоре полученной таблицы были сделаны следующие выводы:\n",
    "\n",
    "- Пользовательские события распределены неравномерно - на группу `A` приходится 15,558 событий, что составляет около **74%**.\n",
    "\n",
    "\n",
    "- Самое позднее событие приходится на 30-12-2020, за несколько дней до официального завершения теста - возможна серьёзная ошибка в формировании лога пользовательских событий\n",
    "\n",
    "\n",
    "- Столбцы с датой и названием события содержат пропуски - это коррелируют с выводом об отсутствии активности у части пользователей, сделанным во время обзора сырых данных\n",
    "\n",
    "Вывод из анализа распределения данных:\n",
    "\n",
    "- Распределение количества уникальных пользователей и событий ненормированно - 14-го декабря происходит аномальный скачок параметров, который достигает пика 21-го декабря, после чего происходит резкий спад. Фактической датой окончания теста можно считать 30-ое декабря - до официального прекращения проведения теста 4-го января в данных больше не наблюдается каких либо пользовательских событий. Аномальный скачок происходит в 01:30 14.12.2020, и касается только пользователей контрольной группы теста. В имеющихся данных отсутствуют рациональное объяснение для этого - в этот период не проводится никаких маркетинговых компаний, а даже если бы они были - влияние на пользователей было бы равным, но аномальному росту подвержены только пользователи группы `A`.\n",
    "\n",
    "Вывод из анализа воронки событий:\n",
    "    \n",
    "- В целом последовательность событий упорядочена в схожем соотношении - `login` происходит чаще всего, `product_page` - примерно в два раза реже, и ещё в два раза реже остальные два события. Причём `purchase` часто равен или даже превышает `product_cart`, что лишний раз указывает на наличии и популярность опции по типу \"покупка в один клик\".\n",
    "\n",
    "\n",
    "- Воронка событий показывает всего **55%** конверсии в первое целевое событие от общего числа пользователей. При таком результате сложно быть уверенным в данных - такой результат может указывать на серьёзные технические проблемы при формировании лога пользовательских событий. В таком случае порядок действий может кардинально отличаться от пользователя к пользователю."
   ]
  },
  {
   "cell_type": "markdown",
   "metadata": {},
   "source": [
    "<a id='3'></a>\n",
    "## Оценка результатов A/B-тестирования\n",
    "\n",
    "Для начала повторим воронку событий из предыдущего шага, но уже в разрезе групп эксперемента:"
   ]
  },
  {
   "cell_type": "code",
   "execution_count": 33,
   "metadata": {},
   "outputs": [],
   "source": [
    "# посчитаем общий размер групп и количество событий\n",
    "\n",
    "def uniq_gr(group):\n",
    "    unq = (\n",
    "        data[data['group'] == group]['user_id']\n",
    "        .unique()\n",
    "        .size\n",
    "    )\n",
    "    return pd.Series(\n",
    "        ['total_users', group, unq],\n",
    "        index=['event_name', 'group', 'unique_users']\n",
    "    )\n",
    "\n",
    "groups = [uniq_gr('A'), uniq_gr('B')]\n",
    "\n",
    "# группируем данные, добавим итоги в таблицу\n",
    "\n",
    "funn_df = (\n",
    "    data\n",
    "    .pivot_table(index=('event_name','group'), \n",
    "                 values='user_id',\n",
    "                 aggfunc='nunique',\n",
    "                )\n",
    "    .rename(columns=dict(\n",
    "        user_id='unique_users'))\n",
    "    .reset_index()\n",
    "    .append(groups, ignore_index=True)\n",
    "    .sort_values('unique_users', ascending=False)\n",
    "    .reset_index(drop=True)\n",
    "\n",
    ")"
   ]
  },
  {
   "cell_type": "code",
   "execution_count": 34,
   "metadata": {},
   "outputs": [
    {
     "data": {
      "image/svg+xml": [
       "<svg class=\"main-svg\" xmlns=\"http://www.w3.org/2000/svg\" xmlns:xlink=\"http://www.w3.org/1999/xlink\" width=\"700\" height=\"500\" style=\"\" viewBox=\"0 0 700 500\"><rect x=\"0\" y=\"0\" width=\"700\" height=\"500\" style=\"fill: rgb(255, 255, 255); fill-opacity: 1;\"/><defs id=\"defs-0c3e1b\"><g class=\"clips\"><clipPath id=\"clip0c3e1bxyplot\" class=\"plotclip\"><rect width=\"479\" height=\"320\"/></clipPath><clipPath class=\"axesclip\" id=\"clip0c3e1bx\"><rect x=\"96\" y=\"0\" width=\"479\" height=\"500\"/></clipPath><clipPath class=\"axesclip\" id=\"clip0c3e1by\"><rect x=\"0\" y=\"100\" width=\"700\" height=\"320\"/></clipPath><clipPath class=\"axesclip\" id=\"clip0c3e1bxy\"><rect x=\"96\" y=\"100\" width=\"479\" height=\"320\"/></clipPath></g><g class=\"gradients\"/><g class=\"patterns\"/></defs><g class=\"bglayer\"><rect class=\"bg\" x=\"96\" y=\"100\" width=\"479\" height=\"320\" style=\"fill: rgb(229, 236, 246); fill-opacity: 1; stroke-width: 0;\"/></g><g class=\"layer-below\"><g class=\"imagelayer\"/><g class=\"shapelayer\"/></g><g class=\"cartesianlayer\"><g class=\"subplot xy\"><g class=\"layer-subplot\"><g class=\"shapelayer\"/><g class=\"imagelayer\"/></g><g class=\"minor-gridlayer\"><g class=\"x\"/><g class=\"y\"/></g><g class=\"gridlayer\"><g class=\"x\"/><g class=\"y\"/></g><g class=\"zerolinelayer\"/><path class=\"xlines-below\"/><path class=\"ylines-below\"/><g class=\"overlines-below\"/><g class=\"xaxislayer-below\"/><g class=\"yaxislayer-below\"/><g class=\"overaxes-below\"/><g class=\"plot\" transform=\"translate(96,100)\" clip-path=\"url(#clip0c3e1bxyplot)\"><g class=\"funnellayer mlayer\"><g class=\"trace bars\" style=\"opacity: 1;\"><g class=\"regions\"><g class=\"region\"><path d=\"M23.95,57.6L121.34,70.4H297.78L270.53,57.6Z\" style=\"stroke-width: 0; fill: rgb(99, 110, 250); fill-opacity: 0.5;\"/></g><g class=\"region\"><path d=\"M121.34,121.6L165.56,134.4H280L297.78,121.6Z\" style=\"stroke-width: 0; fill: rgb(99, 110, 250); fill-opacity: 0.5;\"/></g><g class=\"region\"><path d=\"M165.56,185.6L204.79,198.4H257.82L280,185.6Z\" style=\"stroke-width: 0; fill: rgb(99, 110, 250); fill-opacity: 0.5;\"/></g><g class=\"region\"><path d=\"M204.79,249.6L203.11,262.4H259.42L257.82,249.6Z\" style=\"stroke-width: 0; fill: rgb(99, 110, 250); fill-opacity: 0.5;\"/></g><g class=\"region\"><path d=\"M0,0Z\" style=\"stroke-width: 0; fill: rgb(99, 110, 250); fill-opacity: 0.5;\"/></g></g><g class=\"points\"><g class=\"point\"><path d=\"M23.95,6.4V57.6H270.53V6.4Z\" style=\"vector-effect: non-scaling-stroke; fill: rgb(99, 110, 250); fill-opacity: 1; stroke: rgb(68, 68, 68); stroke-opacity: 1; stroke-width: 0px; opacity: 1;\"/><text class=\"bartext bartext-inside\" text-anchor=\"middle\" data-notex=\"1\" x=\"0\" y=\"0\" style=\"font-family: 'Open Sans', verdana, arial, sans-serif; font-size: 12px; fill: rgb(255, 255, 255); fill-opacity: 1; white-space: pre;\" transform=\"translate(147.19312499999998,28.6953125)\"><tspan class=\"line\" dy=\"0em\" x=\"0\" y=\"0\">3385</tspan><tspan class=\"line\" dy=\"1.3em\" x=\"0\" y=\"0\">100%</tspan></text></g><g class=\"point\"><path d=\"M121.34,70.4V121.6H297.78V70.4Z\" style=\"vector-effect: non-scaling-stroke; fill: rgb(99, 110, 250); fill-opacity: 1; stroke: rgb(68, 68, 68); stroke-opacity: 1; stroke-width: 0px; opacity: 1;\"/><text class=\"bartext bartext-inside\" text-anchor=\"middle\" data-notex=\"1\" x=\"0\" y=\"0\" style=\"font-family: 'Open Sans', verdana, arial, sans-serif; font-size: 12px; fill: rgb(255, 255, 255); fill-opacity: 1; white-space: pre;\" transform=\"translate(209.3725,92.6953125)\"><tspan class=\"line\" dy=\"0em\" x=\"0\" y=\"0\">2422</tspan><tspan class=\"line\" dy=\"1.3em\" x=\"0\" y=\"0\">72%</tspan></text></g><g class=\"point\"><path d=\"M165.56,134.4V185.6H280V134.4Z\" style=\"vector-effect: non-scaling-stroke; fill: rgb(99, 110, 250); fill-opacity: 1; stroke: rgb(68, 68, 68); stroke-opacity: 1; stroke-width: 0px; opacity: 1;\"/><text class=\"bartext bartext-inside\" text-anchor=\"middle\" data-notex=\"1\" x=\"0\" y=\"0\" style=\"font-family: 'Open Sans', verdana, arial, sans-serif; font-size: 12px; fill: rgb(255, 255, 255); fill-opacity: 1; white-space: pre;\" transform=\"translate(222.78,156.6953125)\"><tspan class=\"line\" dy=\"0em\" x=\"0\" y=\"0\">1571</tspan><tspan class=\"line\" dy=\"1.3em\" x=\"0\" y=\"0\">46%</tspan></text></g><g class=\"point\"><path d=\"M204.79,198.4V249.6H257.82V198.4Z\" style=\"vector-effect: non-scaling-stroke; fill: rgb(99, 110, 250); fill-opacity: 1; stroke: rgb(68, 68, 68); stroke-opacity: 1; stroke-width: 0px; opacity: 1;\"/><text class=\"bartext bartext-inside\" text-anchor=\"middle\" data-notex=\"1\" x=\"0\" y=\"0\" style=\"font-family: 'Open Sans', verdana, arial, sans-serif; font-size: 12px; fill: rgb(255, 255, 255); fill-opacity: 1; white-space: pre;\" transform=\"translate(231.2659375,220.6953125)\"><tspan class=\"line\" dy=\"0em\" x=\"0\" y=\"0\">728</tspan><tspan class=\"line\" dy=\"1.3em\" x=\"0\" y=\"0\">22%</tspan></text></g><g class=\"point\"><path d=\"M203.11,262.4V313.6H259.42V262.4Z\" style=\"vector-effect: non-scaling-stroke; fill: rgb(99, 110, 250); fill-opacity: 1; stroke: rgb(68, 68, 68); stroke-opacity: 1; stroke-width: 0px; opacity: 1;\"/><text class=\"bartext bartext-inside\" text-anchor=\"middle\" data-notex=\"1\" x=\"0\" y=\"0\" style=\"font-family: 'Open Sans', verdana, arial, sans-serif; font-size: 12px; fill: rgb(255, 255, 255); fill-opacity: 1; white-space: pre;\" transform=\"translate(231.22593750000001,284.6953125)\"><tspan class=\"line\" dy=\"0em\" x=\"0\" y=\"0\">773</tspan><tspan class=\"line\" dy=\"1.3em\" x=\"0\" y=\"0\">23%</tspan></text></g></g></g><g class=\"trace bars\" style=\"opacity: 1;\"><g class=\"regions\"><g class=\"region\"><path d=\"M270.53,57.6L297.78,70.4H357.66L455.05,57.6Z\" style=\"stroke-width: 0; fill: rgb(239, 85, 59); fill-opacity: 0.5;\"/></g><g class=\"region\"><path d=\"M297.78,121.6L280,134.4H313.44L357.66,121.6Z\" style=\"stroke-width: 0; fill: rgb(239, 85, 59); fill-opacity: 0.5;\"/></g><g class=\"region\"><path d=\"M280,185.6L257.82,198.4H274.21L313.44,185.6Z\" style=\"stroke-width: 0; fill: rgb(239, 85, 59); fill-opacity: 0.5;\"/></g><g class=\"region\"><path d=\"M257.82,249.6L259.42,262.4H275.89L274.21,249.6Z\" style=\"stroke-width: 0; fill: rgb(239, 85, 59); fill-opacity: 0.5;\"/></g><g class=\"region\"><path d=\"M0,0Z\" style=\"stroke-width: 0; fill: rgb(239, 85, 59); fill-opacity: 0.5;\"/></g></g><g class=\"points\"><g class=\"point\"><path d=\"M270.53,6.4V57.6H455.05V6.4Z\" style=\"vector-effect: non-scaling-stroke; fill: rgb(239, 85, 59); fill-opacity: 1; stroke: rgb(68, 68, 68); stroke-opacity: 1; stroke-width: 0px; opacity: 1;\"/><text class=\"bartext bartext-inside\" text-anchor=\"middle\" data-notex=\"1\" x=\"0\" y=\"0\" style=\"font-family: 'Open Sans', verdana, arial, sans-serif; font-size: 12px; fill: rgb(68, 68, 68); fill-opacity: 1; white-space: pre;\" transform=\"translate(362.74312499999996,28.6953125)\"><tspan class=\"line\" dy=\"0em\" x=\"0\" y=\"0\">2533</tspan><tspan class=\"line\" dy=\"1.3em\" x=\"0\" y=\"0\">100%</tspan></text></g><g class=\"point\"><path d=\"M297.78,70.4V121.6H357.66V70.4Z\" style=\"vector-effect: non-scaling-stroke; fill: rgb(239, 85, 59); fill-opacity: 1; stroke: rgb(68, 68, 68); stroke-opacity: 1; stroke-width: 0px; opacity: 1;\"/><text class=\"bartext bartext-inside\" text-anchor=\"middle\" data-notex=\"1\" x=\"0\" y=\"0\" style=\"font-family: 'Open Sans', verdana, arial, sans-serif; font-size: 12px; fill: rgb(68, 68, 68); fill-opacity: 1; white-space: pre;\" transform=\"translate(327.6809375,92.6953125)\"><tspan class=\"line\" dy=\"0em\" x=\"0\" y=\"0\">822</tspan><tspan class=\"line\" dy=\"1.3em\" x=\"0\" y=\"0\">32%</tspan></text></g><g class=\"point\"><path d=\"M280,134.4V185.6H313.44V134.4Z\" style=\"vector-effect: non-scaling-stroke; fill: rgb(239, 85, 59); fill-opacity: 1; stroke: rgb(68, 68, 68); stroke-opacity: 1; stroke-width: 0px; opacity: 1;\"/><text class=\"bartext bartext-outside\" text-anchor=\"middle\" data-notex=\"1\" x=\"0\" y=\"0\" style=\"font-family: 'Open Sans', verdana, arial, sans-serif; font-size: 12px; fill: rgb(42, 63, 95); fill-opacity: 1; white-space: pre;\" transform=\"translate(330.53375,156.6953125)\"><tspan class=\"line\" dy=\"0em\" x=\"0\" y=\"0\">459</tspan><tspan class=\"line\" dy=\"1.3em\" x=\"0\" y=\"0\">18%</tspan></text></g><g class=\"point\"><path d=\"M257.82,198.4V249.6H274.21V198.4Z\" style=\"vector-effect: non-scaling-stroke; fill: rgb(239, 85, 59); fill-opacity: 1; stroke: rgb(68, 68, 68); stroke-opacity: 1; stroke-width: 0px; opacity: 1;\"/><text class=\"bartext bartext-outside\" text-anchor=\"middle\" data-notex=\"1\" x=\"0\" y=\"0\" style=\"font-family: 'Open Sans', verdana, arial, sans-serif; font-size: 12px; fill: rgb(42, 63, 95); fill-opacity: 1; white-space: pre;\" transform=\"translate(288.663125,220.6953125)\"><tspan class=\"line\" dy=\"0em\" x=\"0\" y=\"0\">225</tspan><tspan class=\"line\" dy=\"1.3em\" x=\"0\" y=\"0\">9%</tspan></text></g><g class=\"point\"><path d=\"M259.42,262.4V313.6H275.89V262.4Z\" style=\"vector-effect: non-scaling-stroke; fill: rgb(239, 85, 59); fill-opacity: 1; stroke: rgb(68, 68, 68); stroke-opacity: 1; stroke-width: 0px; opacity: 1;\"/><text class=\"bartext bartext-outside\" text-anchor=\"middle\" data-notex=\"1\" x=\"0\" y=\"0\" style=\"font-family: 'Open Sans', verdana, arial, sans-serif; font-size: 12px; fill: rgb(42, 63, 95); fill-opacity: 1; white-space: pre;\" transform=\"translate(290.343125,284.6953125)\"><tspan class=\"line\" dy=\"0em\" x=\"0\" y=\"0\">226</tspan><tspan class=\"line\" dy=\"1.3em\" x=\"0\" y=\"0\">9%</tspan></text></g></g></g></g></g><g class=\"overplot\"/><path class=\"xlines-above crisp\" d=\"M0,0\" style=\"fill: none;\"/><path class=\"ylines-above crisp\" d=\"M0,0\" style=\"fill: none;\"/><g class=\"overlines-above\"/><g class=\"xaxislayer-above\"/><g class=\"yaxislayer-above\"><g class=\"ytick\"><text text-anchor=\"end\" x=\"95\" y=\"4.199999999999999\" transform=\"translate(0,388)\" style=\"font-family: 'Open Sans', verdana, arial, sans-serif; font-size: 12px; fill: rgb(42, 63, 95); fill-opacity: 1; white-space: pre; opacity: 1;\">purchase</text></g><g class=\"ytick\"><text text-anchor=\"end\" x=\"95\" y=\"4.199999999999999\" transform=\"translate(0,324)\" style=\"font-family: 'Open Sans', verdana, arial, sans-serif; font-size: 12px; fill: rgb(42, 63, 95); fill-opacity: 1; white-space: pre; opacity: 1;\">product_cart</text></g><g class=\"ytick\"><text text-anchor=\"end\" x=\"95\" y=\"4.199999999999999\" transform=\"translate(0,260)\" style=\"font-family: 'Open Sans', verdana, arial, sans-serif; font-size: 12px; fill: rgb(42, 63, 95); fill-opacity: 1; white-space: pre; opacity: 1;\">product_page</text></g><g class=\"ytick\"><text text-anchor=\"end\" x=\"95\" y=\"4.199999999999999\" transform=\"translate(0,196)\" style=\"font-family: 'Open Sans', verdana, arial, sans-serif; font-size: 12px; fill: rgb(42, 63, 95); fill-opacity: 1; white-space: pre; opacity: 1;\">login</text></g><g class=\"ytick\"><text text-anchor=\"end\" x=\"95\" y=\"4.199999999999999\" transform=\"translate(0,132)\" style=\"font-family: 'Open Sans', verdana, arial, sans-serif; font-size: 12px; fill: rgb(42, 63, 95); fill-opacity: 1; white-space: pre; opacity: 1;\">total_users</text></g></g><g class=\"overaxes-above\"/></g></g><g class=\"polarlayer\"/><g class=\"smithlayer\"/><g class=\"ternarylayer\"/><g class=\"geolayer\"/><g class=\"funnelarealayer\"/><g class=\"pielayer\"/><g class=\"iciclelayer\"/><g class=\"treemaplayer\"/><g class=\"sunburstlayer\"/><g class=\"glimages\"/><defs id=\"topdefs-0c3e1b\"><g class=\"clips\"/><clipPath id=\"legend0c3e1b\"><rect width=\"103\" height=\"48\" x=\"0\" y=\"0\"/></clipPath></defs><g class=\"layer-above\"><g class=\"imagelayer\"/><g class=\"shapelayer\"/></g><g class=\"infolayer\"><g class=\"legend\" pointer-events=\"all\" transform=\"translate(584.5799999999999,100)\"><rect class=\"bg\" shape-rendering=\"crispEdges\" style=\"stroke: rgb(68, 68, 68); stroke-opacity: 1; fill: rgb(255, 255, 255); fill-opacity: 1; stroke-width: 0px;\" width=\"103\" height=\"48\" x=\"0\" y=\"0\"/><g class=\"scrollbox\" transform=\"\" clip-path=\"url(#legend0c3e1b)\"><g class=\"groups\"><g class=\"traces\" transform=\"translate(0,14.5)\" style=\"opacity: 1;\"><text class=\"legendtext\" text-anchor=\"start\" x=\"40\" y=\"4.680000000000001\" style=\"font-family: 'Open Sans', verdana, arial, sans-serif; font-size: 12px; fill: rgb(42, 63, 95); fill-opacity: 1; white-space: pre;\">Группа A</text><g class=\"layers\" style=\"opacity: 1;\"><g class=\"legendfill\"/><g class=\"legendlines\"/><g class=\"legendsymbols\"><g class=\"legendpoints\"><path class=\"legendfunnel\" d=\"M6,6H-6V-6H6Z\" transform=\"translate(20,0)\" style=\"stroke-width: 0px; fill: rgb(99, 110, 250); fill-opacity: 1;\"/></g></g></g><rect class=\"legendtoggle\" x=\"0\" y=\"-9.5\" width=\"97.09375\" height=\"19\" style=\"fill: rgb(0, 0, 0); fill-opacity: 0;\"/></g><g class=\"traces\" transform=\"translate(0,33.5)\" style=\"opacity: 1;\"><text class=\"legendtext\" text-anchor=\"start\" x=\"40\" y=\"4.680000000000001\" style=\"font-family: 'Open Sans', verdana, arial, sans-serif; font-size: 12px; fill: rgb(42, 63, 95); fill-opacity: 1; white-space: pre;\">Группа B</text><g class=\"layers\" style=\"opacity: 1;\"><g class=\"legendfill\"/><g class=\"legendlines\"/><g class=\"legendsymbols\"><g class=\"legendpoints\"><path class=\"legendfunnel\" d=\"M6,6H-6V-6H6Z\" transform=\"translate(20,0)\" style=\"stroke-width: 0px; fill: rgb(239, 85, 59); fill-opacity: 1;\"/></g></g></g><rect class=\"legendtoggle\" x=\"0\" y=\"-9.5\" width=\"97.09375\" height=\"19\" style=\"fill: rgb(0, 0, 0); fill-opacity: 0;\"/></g></g></g><rect class=\"scrollbar\" rx=\"20\" ry=\"3\" width=\"0\" height=\"0\" style=\"fill: rgb(128, 139, 164); fill-opacity: 1;\" x=\"0\" y=\"0\"/></g><g class=\"g-gtitle\"><text class=\"gtitle\" x=\"164.5\" y=\"50\" text-anchor=\"start\" dy=\"0em\" style=\"font-family: 'Open Sans', verdana, arial, sans-serif; font-size: 17px; fill: rgb(42, 63, 95); opacity: 1; font-weight: normal; white-space: pre;\">Воронка событий по количеству уникальных пользователей</text></g><g class=\"g-ytitle\"/></g></svg>"
      ]
     },
     "metadata": {},
     "output_type": "display_data"
    }
   ],
   "source": [
    "# строим воронку\n",
    "\n",
    "def funn(group):\n",
    "    \n",
    "    labels = list(funn_df[funn_df['group'] == group]['event_name'])\n",
    "    values = list(funn_df[funn_df['group'] == group]['unique_users'])\n",
    "    order = [0, 1, 2, 4, 3]\n",
    "    \n",
    "    fig.add_trace(go.Funnel(\n",
    "        name = 'Группа ' + group,\n",
    "        y = [labels[i] for i in order],\n",
    "        x = [values[i] for i in order],\n",
    "        textinfo = \"value+percent initial\"))\n",
    "\n",
    "fig = go.Figure()\n",
    "   \n",
    "for groups in ['A', 'B']:\n",
    "    funn(groups) \n",
    "\n",
    "fig.update_layout(title = 'Воронка событий по количеству уникальных пользователей', title_x= .235)\n",
    "fig.show()"
   ]
  },
  {
   "cell_type": "markdown",
   "metadata": {},
   "source": [
    "- В воронке событий в разрезе групп теста отчётливо видно источник аномальных значений в данных - конверсия пользователей группы `B` в первое целевое действие составляет **32%**. В связи с этим распределение количества пользователей по событиям становиться несопоставивыми, что делает анализ результатов влияния новведений на пользовтельское поведение невозможным."
   ]
  },
  {
   "cell_type": "markdown",
   "metadata": {},
   "source": [
    "Несмотря на очевидную разницу распределения абсолютных значений в выборках теста, попробуем провести оценку статистической значимости различий.\n",
    "\n",
    "Общие гипотезы для каждого шага:\n",
    "\n",
    "**Нулевая гипотеза** - конверсии события от общего числа пользователей не имеют статистически значимую разницу\n",
    "\n",
    "**Альтернативная гипотеза** - есть основания полагать, что конверсии отличаются.\n",
    "\n",
    "Так как данные для расчёта статистической значимости являются долями, оптимальным инструментом станет **Z-критерий Фишера**:"
   ]
  },
  {
   "cell_type": "code",
   "execution_count": 35,
   "metadata": {},
   "outputs": [],
   "source": [
    "# напишем функцию для проверки гипотез\n",
    "\n",
    "def stat_check(successes_1, successes_2, trials_1, trials_2, alpha=.001): # поставим минимальный порог\n",
    "    \n",
    "    p1 = successes_1/trials_1\n",
    "    p2 = successes_2/trials_2\n",
    "    p_combined = (successes_1 + successes_2) / (trials_1 + trials_2)\n",
    "\n",
    "    difference = p1 - p2\n",
    "    z_value = (\n",
    "        difference / mth.sqrt(\n",
    "            p_combined * (1 - p_combined) * (\n",
    "                1/trials_1 + 1/trials_2))\n",
    "    )\n",
    "\n",
    "    distr = st.norm(0, 1) \n",
    "    p_value = (1 - distr.cdf(abs(z_value))) * 2\n",
    "\n",
    "    print('p-значение: ', p_value)\n",
    "\n",
    "    if (p_value < alpha):\n",
    "        print(\"Отвергаем нулевую гипотезу, есть основания полагать, что данные отличаются\")\n",
    "    else:\n",
    "        print(\"Не получилось отвергнуть нулевую гипотезу, данные выборки не имеют статистически значимой разницы \")  "
   ]
  },
  {
   "cell_type": "code",
   "execution_count": 36,
   "metadata": {},
   "outputs": [],
   "source": [
    "# создадим необходимые для проверки переменные\n",
    "\n",
    "# количество пользователей каждой группы\n",
    "\n",
    "total = (\n",
    "    funn_df\n",
    "    .query('event_name == \"total_users\"')\n",
    "    .sort_values('group')\n",
    "    .reset_index(drop=True)\n",
    ")\n",
    "\n",
    "a_total = total.loc[0]['unique_users']\n",
    "b_total = total.loc[1]['unique_users']\n",
    "\n",
    "# список событий\n",
    "\n",
    "events_list = (\n",
    "    funn_df['event_name']\n",
    "    .unique()\n",
    "    .tolist()\n",
    ")\n",
    "del events_list[0]\n",
    "\n",
    "# функция для получения значения группы для события\n",
    "\n",
    "def get_val(group):\n",
    "    val = int(\n",
    "        funn_df.query(\n",
    "            'event_name == @event and group == @group')\n",
    "        ['unique_users'])\n",
    "    return val"
   ]
  },
  {
   "cell_type": "code",
   "execution_count": 37,
   "metadata": {},
   "outputs": [
    {
     "name": "stdout",
     "output_type": "stream",
     "text": [
      "Проверка групп A и B в событии \"login\"\n",
      "\n",
      "p-значение:  0.0\n",
      "Отвергаем нулевую гипотезу, есть основания полагать, что данные отличаются\n",
      "\n",
      "Проверка групп A и B в событии \"product_page\"\n",
      "\n",
      "p-значение:  0.0\n",
      "Отвергаем нулевую гипотезу, есть основания полагать, что данные отличаются\n",
      "\n",
      "Проверка групп A и B в событии \"purchase\"\n",
      "\n",
      "p-значение:  0.0\n",
      "Отвергаем нулевую гипотезу, есть основания полагать, что данные отличаются\n",
      "\n",
      "Проверка групп A и B в событии \"product_cart\"\n",
      "\n",
      "p-значение:  0.0\n",
      "Отвергаем нулевую гипотезу, есть основания полагать, что данные отличаются\n",
      "\n"
     ]
    }
   ],
   "source": [
    "# запускаем цикл проверки для всех событий\n",
    "\n",
    "for event in events_list:\n",
    "    \n",
    "    a = get_val('A')\n",
    "    b = get_val('B')\n",
    "    \n",
    "    print(f'Проверка групп A и B в событии \"{event}\"')\n",
    "    print()\n",
    "    stat_check(a, b, a_total, b_total)\n",
    "    print()"
   ]
  },
  {
   "cell_type": "markdown",
   "metadata": {},
   "source": [
    "- Статистическая проверка равенства долей конверсии каждого события показала нулевую вероятность, что подтверждает выводы из анализа воронки событий в разрезе групп теста."
   ]
  },
  {
   "cell_type": "markdown",
   "metadata": {},
   "source": [
    "<a id='4'></a>\n",
    "##  Общий вывод"
   ]
  },
  {
   "cell_type": "markdown",
   "metadata": {},
   "source": [
    "___\n",
    "**Рекомендации**\n",
    "\n",
    "- На всех этапах работы с данными прослеживаются технические проблемы - крупная часть пользователей попала в два разных A/B-теста, группы теста распределены неравномерно, треть пользователей не относиться к целевому региону. И даже в случае отсутствия всех вышеописанных моментов - одна из маркетинговых компаний должна была начаться за день до конца одного тестирования. Всё это указывает на серьезные нарушения при формировании групп тестирования, которые в итоге привели к невозможности оценки влияния новведений на пользовательское поведение, несмотря на тщательную предобработку - необходимо принять всевозможные меры по устранению этих недочётов на этапе дизайна теста.\n",
    "\n",
    "\n",
    "- При проведении тестирования необходимо организовать промежуточную оценку результатов - графики показывают явные аномальные значения начиная с 14-го декабря, всего через неделю после начала теста. При должном промежуточном контроле тест можно было вовремя остановить и проанализировать возможные причины подобных проблем.\n",
    "\n",
    "\n",
    "- В случае наличия критичных для конверсии пользовательских инструментов (например, \"покупка в один клик\") - эта информация должна быть указана в документации к тесте для корректного анализа результатов.\n",
    "\n",
    "___"
   ]
  },
  {
   "cell_type": "markdown",
   "metadata": {},
   "source": [
    "Целью исследования являлось проведение оценки результатов A/B-теста и корректности его проведения в соответствии с техническим заданием.\n",
    "\n",
    "Данные были представлены в виде нескольких таблиц, содержащих список новых пользователей и информацию об их действиях, а также вспомогательную информацию - список участников всех тестов и календарь маркетинговых событий. Был проведён обзор и предобработка данных - обработаны дубликаты и пропуски, изменены типы данных. Также была проведена оценка коррекности проведения теста - данные были сверены с требованиями технического задания и календарём маркетинговых активностей. После был проведён исследовательский анализ данных, в ходе которого были изучены распределения данных и конверсия воронки событий, а последним этапом стал анализ результатов проведённого теста. По результатам исследования был сформирован общий вывод и рекомендации.\n",
    "\n",
    "Таким образом, исследование было разделено на следующие этапы:"
   ]
  },
  {
   "cell_type": "markdown",
   "metadata": {},
   "source": [
    "### [Обзор и предобработка данных](#1)\n",
    "\n",
    "Данные всех четырёх таблиц были предобработаны - преобразованы даты, обработаны пропущенные значения. Было проверено соответствие данных техническому заданию A/B-тестирования.\n",
    "\n",
    "При работе с данными были сделаны следующие выводы:\n",
    "\n",
    "- Абсолютное большинство пользователей зарегестрировались в последний день рассматриваемого периода.\n",
    "\n",
    "\n",
    "- В данных присутствуют пользователи из четырёх регионов, большая часть представляет регион `EU`\n",
    "\n",
    "\n",
    "- Подавляющее больщинство пользователей используют устройство на базе `Android`\n",
    "\n",
    "\n",
    "- Количество уникальных пользователей таблицы с пользовательскими событиями (*58,703*) не совпадает с количеством из таблицы со всеми новыми пользователями (*61,733*) - это указывает на то, что часть пользователей не совершали никаких активностей, что должно быть учтено при анализе результатов теста.\n",
    "\n",
    "\n",
    "- Логи пользовательских событий содержат четыре уникальных значения - `login` (*вход в учётную запись*), `product_page` (*просмотр страницы с товаром*), `product_cart` (*просмотр страницы с корзиной товаров*) и `purchase` (*успешная покупка*). Причём количество событий с покупкой больше, чем количество просмотров корзины, что может сигнализировать об использовании модулей вроде `покупка в один клик`.\n",
    "\n",
    "\n",
    "- Пользователи неравномерно распределены по группам - из 5,918 уникальных пользователей 3,385 находятся в группе `A`, что составляет примерно 57%.\n",
    "\n",
    "\n",
    "- Целевой показатель количества участников в 6,000 формально был достигнут, но из-за пересечений с другим тестом часть данных не подлежит анализу, а их вынужденное удаление может негативно отразиться на выводах из анализа итоговых результатов. \n",
    "\n",
    "\n",
    "- Требование технического задания в формировании целовой аудитории теста из 15% пользователей из региона `EU` соблюдено, но в тест также попала часть пользователей из других регионов.\n",
    "\n",
    "\n",
    "- Маркетинговая компании `Christmas&New Year Promo` пересекается с датами проведения A/B-тестирования, что может повлиять на пользовательское поведение и исказить вывода анализа результатов теста."
   ]
  },
  {
   "cell_type": "markdown",
   "metadata": {},
   "source": [
    "### [Иследовательский анализ данных](#2)\n",
    "\n",
    "Исследовательский анализ был разделён на два шага:\n",
    "\n",
    "- [**Анализ распределения данных**](#2.1)\n",
    "\n",
    "- [**Воронка пользовательских событий**](#2.2)\n",
    "\n",
    "В начале данные были собраны в единый датафрейм. При обзоре полученной таблицы были сделаны следующие выводы:\n",
    "\n",
    "- Пользовательские события распределены неравномерно - на группу `A` приходится 15,558 событий, что составляет около **74%**.\n",
    "\n",
    "\n",
    "- Самое позднее событие приходится на 30-12-2020, за несколько дней до официального завершения теста - возможна серьёзная ошибка в формировании лога пользовательских событий\n",
    "\n",
    "\n",
    "- Столбцы с датой и названием события содержат пропуски - это коррелируют с выводом об отсутствии активности у части пользователей, сделанным во время обзора сырых данных\n",
    "\n",
    "Вывод из анализа распределения данных:\n",
    "\n",
    "- Распределение количества уникальных пользователей и событий ненормированно - 14-го декабря происходит аномальный скачок параметров, который достигает пика 21-го декабря, после чего происходит резкий спад. Фактической датой окончания теста можно считать 30-ое декабря - до официального прекращения проведения теста 4-го января в данных больше не наблюдается каких либо пользовательских событий. Аномальный скачок происходит в 01:30 14.12.2020, и касается только пользователей контрольной группы теста. В имеющихся данных отсутствуют рациональное объяснение для этого - в этот период не проводится никаких маркетинговых компаний, а даже если бы они были - влияние на пользователей было бы равным, но аномальному росту подвержены только пользователи группы `A`.\n",
    "\n",
    "Вывод из анализа воронки событий:\n",
    "    \n",
    "- В целом последовательность событий упорядочена в схожем соотношении - `login` происходит чаще всего, `product_page` - примерно в два раза реже, и ещё в два раза реже остальные два события. Причём `purchase` часто равен или даже превышает `product_cart`, что лишний раз указывает на наличии и популярность опции по типу \"покупка в один клик\".\n",
    "\n",
    "\n",
    "- Воронка событий показывает всего **55%** конверсии в первое целевое событие от общего числа пользователей. При таком результате сложно быть уверенным в данных - такой результат может указывать на серьёзные технические проблемы при формировании лога пользовательских событий. В таком случае порядок действий может кардинально отличаться от пользователя к пользователю."
   ]
  },
  {
   "cell_type": "markdown",
   "metadata": {},
   "source": [
    "### [Анализ результатов тестирования](#3)"
   ]
  },
  {
   "cell_type": "markdown",
   "metadata": {},
   "source": [
    "- В воронке событий в разрезе групп теста отчётливо видно источник аномальных значений в данных - конверсия пользователей группы `B` в первое целевое действие составляет **32%**. В связи с этим распределение количества пользователей по событиям становиться несопоставивыми, что делает анализ результатов влияния новведений на пользовтельское поведение невозможным.\n",
    "\n",
    "Несмотря на очевидную разницу распределения абсолютных значений в выборках теста, было принято решение провести оценку статистической значимости различий. Так как данные для расчёта статистической значимости являются долями, оптимальным инструментом стал **Z-критерий Фишера**.\n",
    "\n",
    "- Статистическая проверка равенства долей конверсии каждого события показала нулевую вероятность, что подтверждает выводы из анализа воронки событий в разрезе групп теста."
   ]
  },
  {
   "cell_type": "code",
   "execution_count": null,
   "metadata": {},
   "outputs": [],
   "source": []
  }
 ],
 "metadata": {
  "ExecuteTimeLog": [
   {
    "duration": 1455,
    "start_time": "2022-10-01T00:54:36.215Z"
   },
   {
    "duration": 0,
    "start_time": "2022-10-01T00:54:37.672Z"
   },
   {
    "duration": 4,
    "start_time": "2022-10-01T00:54:50.885Z"
   },
   {
    "duration": 3,
    "start_time": "2022-10-01T00:55:44.096Z"
   },
   {
    "duration": 179,
    "start_time": "2022-10-01T00:56:46.211Z"
   },
   {
    "duration": 68,
    "start_time": "2022-10-01T01:01:55.697Z"
   },
   {
    "duration": 0,
    "start_time": "2022-10-01T01:01:55.767Z"
   },
   {
    "duration": 0,
    "start_time": "2022-10-01T01:01:55.768Z"
   },
   {
    "duration": 0,
    "start_time": "2022-10-01T01:01:55.768Z"
   },
   {
    "duration": 0,
    "start_time": "2022-10-01T01:01:55.769Z"
   },
   {
    "duration": 0,
    "start_time": "2022-10-01T01:01:55.770Z"
   },
   {
    "duration": 0,
    "start_time": "2022-10-01T01:01:55.771Z"
   },
   {
    "duration": 0,
    "start_time": "2022-10-01T01:01:55.772Z"
   },
   {
    "duration": 0,
    "start_time": "2022-10-01T01:01:55.773Z"
   },
   {
    "duration": 0,
    "start_time": "2022-10-01T01:01:55.773Z"
   },
   {
    "duration": 0,
    "start_time": "2022-10-01T01:01:55.775Z"
   },
   {
    "duration": 0,
    "start_time": "2022-10-01T01:01:55.776Z"
   },
   {
    "duration": 0,
    "start_time": "2022-10-01T01:01:55.777Z"
   },
   {
    "duration": 0,
    "start_time": "2022-10-01T01:01:55.777Z"
   },
   {
    "duration": 0,
    "start_time": "2022-10-01T01:01:55.778Z"
   },
   {
    "duration": 0,
    "start_time": "2022-10-01T01:01:55.779Z"
   },
   {
    "duration": 0,
    "start_time": "2022-10-01T01:01:55.780Z"
   },
   {
    "duration": 0,
    "start_time": "2022-10-01T01:01:55.781Z"
   },
   {
    "duration": 0,
    "start_time": "2022-10-01T01:01:55.782Z"
   },
   {
    "duration": 0,
    "start_time": "2022-10-01T01:01:55.783Z"
   },
   {
    "duration": 0,
    "start_time": "2022-10-01T01:01:55.784Z"
   },
   {
    "duration": 64,
    "start_time": "2022-10-01T01:01:55.786Z"
   },
   {
    "duration": 0,
    "start_time": "2022-10-01T01:01:55.852Z"
   },
   {
    "duration": 0,
    "start_time": "2022-10-01T01:01:55.853Z"
   },
   {
    "duration": 1,
    "start_time": "2022-10-01T01:01:55.853Z"
   },
   {
    "duration": 0,
    "start_time": "2022-10-01T01:01:55.855Z"
   },
   {
    "duration": 0,
    "start_time": "2022-10-01T01:01:55.856Z"
   },
   {
    "duration": 0,
    "start_time": "2022-10-01T01:01:55.857Z"
   },
   {
    "duration": 1,
    "start_time": "2022-10-01T01:01:55.857Z"
   },
   {
    "duration": 0,
    "start_time": "2022-10-01T01:01:55.859Z"
   },
   {
    "duration": 0,
    "start_time": "2022-10-01T01:01:55.859Z"
   },
   {
    "duration": 0,
    "start_time": "2022-10-01T01:01:55.860Z"
   },
   {
    "duration": 0,
    "start_time": "2022-10-01T01:01:55.861Z"
   },
   {
    "duration": 0,
    "start_time": "2022-10-01T01:01:55.862Z"
   },
   {
    "duration": 0,
    "start_time": "2022-10-01T01:01:55.863Z"
   },
   {
    "duration": 0,
    "start_time": "2022-10-01T01:01:55.864Z"
   },
   {
    "duration": 0,
    "start_time": "2022-10-01T01:01:55.865Z"
   },
   {
    "duration": 0,
    "start_time": "2022-10-01T01:01:55.866Z"
   },
   {
    "duration": 0,
    "start_time": "2022-10-01T01:01:55.867Z"
   },
   {
    "duration": 0,
    "start_time": "2022-10-01T01:01:55.868Z"
   },
   {
    "duration": 0,
    "start_time": "2022-10-01T01:01:55.869Z"
   },
   {
    "duration": 0,
    "start_time": "2022-10-01T01:01:55.870Z"
   },
   {
    "duration": 0,
    "start_time": "2022-10-01T01:01:55.871Z"
   },
   {
    "duration": 0,
    "start_time": "2022-10-01T01:01:55.872Z"
   },
   {
    "duration": 0,
    "start_time": "2022-10-01T01:01:55.872Z"
   },
   {
    "duration": 0,
    "start_time": "2022-10-01T01:01:55.873Z"
   },
   {
    "duration": 0,
    "start_time": "2022-10-01T01:01:55.874Z"
   },
   {
    "duration": 0,
    "start_time": "2022-10-01T01:01:55.875Z"
   },
   {
    "duration": 0,
    "start_time": "2022-10-01T01:01:55.876Z"
   },
   {
    "duration": 0,
    "start_time": "2022-10-01T01:01:55.877Z"
   },
   {
    "duration": 39,
    "start_time": "2022-10-01T01:03:50.502Z"
   },
   {
    "duration": 5,
    "start_time": "2022-10-01T01:04:27.447Z"
   },
   {
    "duration": 48,
    "start_time": "2022-10-01T01:04:28.785Z"
   },
   {
    "duration": 1285,
    "start_time": "2022-10-01T01:04:48.893Z"
   },
   {
    "duration": 0,
    "start_time": "2022-10-01T01:04:50.180Z"
   },
   {
    "duration": 0,
    "start_time": "2022-10-01T01:04:50.181Z"
   },
   {
    "duration": 0,
    "start_time": "2022-10-01T01:04:50.182Z"
   },
   {
    "duration": 0,
    "start_time": "2022-10-01T01:04:50.183Z"
   },
   {
    "duration": 0,
    "start_time": "2022-10-01T01:04:50.184Z"
   },
   {
    "duration": 0,
    "start_time": "2022-10-01T01:04:50.185Z"
   },
   {
    "duration": 0,
    "start_time": "2022-10-01T01:04:50.186Z"
   },
   {
    "duration": 0,
    "start_time": "2022-10-01T01:04:50.187Z"
   },
   {
    "duration": 0,
    "start_time": "2022-10-01T01:04:50.187Z"
   },
   {
    "duration": 0,
    "start_time": "2022-10-01T01:04:50.189Z"
   },
   {
    "duration": 0,
    "start_time": "2022-10-01T01:04:50.189Z"
   },
   {
    "duration": 0,
    "start_time": "2022-10-01T01:04:50.191Z"
   },
   {
    "duration": 0,
    "start_time": "2022-10-01T01:04:50.192Z"
   },
   {
    "duration": 0,
    "start_time": "2022-10-01T01:04:50.192Z"
   },
   {
    "duration": 0,
    "start_time": "2022-10-01T01:04:50.193Z"
   },
   {
    "duration": 0,
    "start_time": "2022-10-01T01:04:50.194Z"
   },
   {
    "duration": 0,
    "start_time": "2022-10-01T01:04:50.195Z"
   },
   {
    "duration": 0,
    "start_time": "2022-10-01T01:04:50.196Z"
   },
   {
    "duration": 0,
    "start_time": "2022-10-01T01:04:50.197Z"
   },
   {
    "duration": 0,
    "start_time": "2022-10-01T01:04:50.198Z"
   },
   {
    "duration": 5,
    "start_time": "2022-10-01T01:06:00.190Z"
   },
   {
    "duration": 36,
    "start_time": "2022-10-01T01:06:02.648Z"
   },
   {
    "duration": 217,
    "start_time": "2022-10-01T01:06:13.050Z"
   },
   {
    "duration": 778,
    "start_time": "2022-10-01T01:06:24.992Z"
   },
   {
    "duration": 81,
    "start_time": "2022-10-01T01:06:27.799Z"
   },
   {
    "duration": 1150,
    "start_time": "2022-10-01T01:06:34.355Z"
   },
   {
    "duration": 549,
    "start_time": "2022-10-01T01:06:35.507Z"
   },
   {
    "duration": 82,
    "start_time": "2022-10-01T01:06:36.058Z"
   },
   {
    "duration": 11,
    "start_time": "2022-10-01T01:06:36.142Z"
   },
   {
    "duration": 10,
    "start_time": "2022-10-01T01:06:36.155Z"
   },
   {
    "duration": 12,
    "start_time": "2022-10-01T01:06:36.167Z"
   },
   {
    "duration": 30,
    "start_time": "2022-10-01T01:06:36.182Z"
   },
   {
    "duration": 583,
    "start_time": "2022-10-01T01:06:36.214Z"
   },
   {
    "duration": 85,
    "start_time": "2022-10-01T01:06:36.798Z"
   },
   {
    "duration": 36,
    "start_time": "2022-10-01T01:06:36.885Z"
   },
   {
    "duration": 14,
    "start_time": "2022-10-01T01:06:36.932Z"
   },
   {
    "duration": 52,
    "start_time": "2022-10-01T01:06:36.947Z"
   },
   {
    "duration": 51,
    "start_time": "2022-10-01T01:06:37.001Z"
   },
   {
    "duration": 47,
    "start_time": "2022-10-01T01:06:37.053Z"
   },
   {
    "duration": 0,
    "start_time": "2022-10-01T01:06:37.102Z"
   },
   {
    "duration": 0,
    "start_time": "2022-10-01T01:06:37.103Z"
   },
   {
    "duration": 0,
    "start_time": "2022-10-01T01:06:37.104Z"
   },
   {
    "duration": 0,
    "start_time": "2022-10-01T01:06:37.105Z"
   },
   {
    "duration": 0,
    "start_time": "2022-10-01T01:06:37.106Z"
   },
   {
    "duration": 0,
    "start_time": "2022-10-01T01:06:37.107Z"
   },
   {
    "duration": 0,
    "start_time": "2022-10-01T01:06:37.108Z"
   },
   {
    "duration": 36,
    "start_time": "2022-10-01T01:08:15.762Z"
   },
   {
    "duration": 8,
    "start_time": "2022-10-01T01:08:19.207Z"
   },
   {
    "duration": 13,
    "start_time": "2022-10-01T01:08:21.036Z"
   },
   {
    "duration": 25,
    "start_time": "2022-10-01T01:08:22.641Z"
   },
   {
    "duration": 25,
    "start_time": "2022-10-01T01:09:05.933Z"
   },
   {
    "duration": 27,
    "start_time": "2022-10-01T01:10:00.579Z"
   },
   {
    "duration": 12,
    "start_time": "2022-10-01T01:10:02.861Z"
   },
   {
    "duration": 45,
    "start_time": "2022-10-01T01:19:33.413Z"
   },
   {
    "duration": 10,
    "start_time": "2022-10-01T01:34:58.056Z"
   },
   {
    "duration": 23,
    "start_time": "2022-10-01T01:35:09.466Z"
   },
   {
    "duration": 48,
    "start_time": "2022-10-01T01:35:37.793Z"
   },
   {
    "duration": 101,
    "start_time": "2022-10-01T01:38:03.091Z"
   },
   {
    "duration": 25,
    "start_time": "2022-10-01T01:38:22.270Z"
   },
   {
    "duration": 14,
    "start_time": "2022-10-01T01:38:25.142Z"
   },
   {
    "duration": 72,
    "start_time": "2022-10-01T01:38:59.545Z"
   },
   {
    "duration": 50,
    "start_time": "2022-10-01T01:39:13.058Z"
   },
   {
    "duration": 24,
    "start_time": "2022-10-01T01:39:33.991Z"
   },
   {
    "duration": 12,
    "start_time": "2022-10-01T01:39:35.338Z"
   },
   {
    "duration": 127,
    "start_time": "2022-10-01T01:40:27.779Z"
   },
   {
    "duration": 16,
    "start_time": "2022-10-01T01:40:29.160Z"
   },
   {
    "duration": 131,
    "start_time": "2022-10-01T01:40:48.933Z"
   },
   {
    "duration": 18,
    "start_time": "2022-10-01T01:40:52.723Z"
   },
   {
    "duration": 16,
    "start_time": "2022-10-01T01:41:12.386Z"
   },
   {
    "duration": 16,
    "start_time": "2022-10-01T01:41:24.832Z"
   },
   {
    "duration": 13,
    "start_time": "2022-10-01T01:41:34.709Z"
   },
   {
    "duration": 180,
    "start_time": "2022-10-01T01:42:40.798Z"
   },
   {
    "duration": 55,
    "start_time": "2022-10-01T01:43:19.361Z"
   },
   {
    "duration": 76,
    "start_time": "2022-10-01T01:43:26.331Z"
   },
   {
    "duration": 1141,
    "start_time": "2022-10-01T01:43:34.788Z"
   },
   {
    "duration": 588,
    "start_time": "2022-10-01T01:43:35.931Z"
   },
   {
    "duration": 81,
    "start_time": "2022-10-01T01:43:36.521Z"
   },
   {
    "duration": 13,
    "start_time": "2022-10-01T01:43:36.605Z"
   },
   {
    "duration": 16,
    "start_time": "2022-10-01T01:43:36.619Z"
   },
   {
    "duration": 9,
    "start_time": "2022-10-01T01:43:36.637Z"
   },
   {
    "duration": 11,
    "start_time": "2022-10-01T01:43:36.647Z"
   },
   {
    "duration": 552,
    "start_time": "2022-10-01T01:43:36.659Z"
   },
   {
    "duration": 100,
    "start_time": "2022-10-01T01:43:37.213Z"
   },
   {
    "duration": 37,
    "start_time": "2022-10-01T01:43:37.315Z"
   },
   {
    "duration": 17,
    "start_time": "2022-10-01T01:43:37.353Z"
   },
   {
    "duration": 64,
    "start_time": "2022-10-01T01:43:37.372Z"
   },
   {
    "duration": 34,
    "start_time": "2022-10-01T01:43:37.438Z"
   },
   {
    "duration": 32,
    "start_time": "2022-10-01T01:43:37.474Z"
   },
   {
    "duration": 26,
    "start_time": "2022-10-01T01:43:37.508Z"
   },
   {
    "duration": 12,
    "start_time": "2022-10-01T01:43:37.536Z"
   },
   {
    "duration": 23,
    "start_time": "2022-10-01T01:43:37.549Z"
   },
   {
    "duration": 23,
    "start_time": "2022-10-01T01:43:37.574Z"
   },
   {
    "duration": 46,
    "start_time": "2022-10-01T01:43:37.598Z"
   },
   {
    "duration": 12,
    "start_time": "2022-10-01T01:43:37.646Z"
   },
   {
    "duration": 49,
    "start_time": "2022-10-01T01:43:37.660Z"
   },
   {
    "duration": 178,
    "start_time": "2022-10-01T01:43:37.733Z"
   },
   {
    "duration": 22,
    "start_time": "2022-10-01T01:43:37.913Z"
   },
   {
    "duration": 100,
    "start_time": "2022-10-01T01:51:20.440Z"
   },
   {
    "duration": 178,
    "start_time": "2022-10-01T01:51:39.835Z"
   },
   {
    "duration": 176,
    "start_time": "2022-10-01T01:51:42.444Z"
   },
   {
    "duration": 169,
    "start_time": "2022-10-01T01:52:13.876Z"
   },
   {
    "duration": 4,
    "start_time": "2022-10-01T01:54:39.949Z"
   },
   {
    "duration": 5,
    "start_time": "2022-10-01T01:57:15.651Z"
   },
   {
    "duration": 16,
    "start_time": "2022-10-01T01:57:16.282Z"
   },
   {
    "duration": 26,
    "start_time": "2022-10-01T01:57:16.714Z"
   },
   {
    "duration": 26,
    "start_time": "2022-10-01T01:57:17.356Z"
   },
   {
    "duration": 28,
    "start_time": "2022-10-01T01:57:18.181Z"
   },
   {
    "duration": 12,
    "start_time": "2022-10-01T01:57:19.492Z"
   },
   {
    "duration": 47,
    "start_time": "2022-10-01T01:57:22.728Z"
   },
   {
    "duration": 169,
    "start_time": "2022-10-01T01:57:23.803Z"
   },
   {
    "duration": 1090,
    "start_time": "2022-10-01T01:57:50.097Z"
   },
   {
    "duration": 551,
    "start_time": "2022-10-01T01:57:51.188Z"
   },
   {
    "duration": 83,
    "start_time": "2022-10-01T01:57:51.741Z"
   },
   {
    "duration": 18,
    "start_time": "2022-10-01T01:57:51.825Z"
   },
   {
    "duration": 7,
    "start_time": "2022-10-01T01:57:51.844Z"
   },
   {
    "duration": 14,
    "start_time": "2022-10-01T01:57:51.852Z"
   },
   {
    "duration": 12,
    "start_time": "2022-10-01T01:57:51.867Z"
   },
   {
    "duration": 560,
    "start_time": "2022-10-01T01:57:51.880Z"
   },
   {
    "duration": 81,
    "start_time": "2022-10-01T01:57:52.441Z"
   },
   {
    "duration": 44,
    "start_time": "2022-10-01T01:57:52.524Z"
   },
   {
    "duration": 15,
    "start_time": "2022-10-01T01:57:52.570Z"
   },
   {
    "duration": 72,
    "start_time": "2022-10-01T01:57:52.586Z"
   },
   {
    "duration": 34,
    "start_time": "2022-10-01T01:57:52.659Z"
   },
   {
    "duration": 50,
    "start_time": "2022-10-01T01:57:52.694Z"
   },
   {
    "duration": 5,
    "start_time": "2022-10-01T01:57:52.745Z"
   },
   {
    "duration": 33,
    "start_time": "2022-10-01T01:57:52.751Z"
   },
   {
    "duration": 24,
    "start_time": "2022-10-01T01:57:52.786Z"
   },
   {
    "duration": 27,
    "start_time": "2022-10-01T01:57:52.811Z"
   },
   {
    "duration": 21,
    "start_time": "2022-10-01T01:57:52.840Z"
   },
   {
    "duration": 11,
    "start_time": "2022-10-01T01:57:52.862Z"
   },
   {
    "duration": 70,
    "start_time": "2022-10-01T01:57:52.874Z"
   },
   {
    "duration": 173,
    "start_time": "2022-10-01T01:57:52.946Z"
   },
   {
    "duration": 7,
    "start_time": "2022-10-01T02:01:52.059Z"
   },
   {
    "duration": 1216,
    "start_time": "2022-10-01T02:01:58.500Z"
   },
   {
    "duration": 575,
    "start_time": "2022-10-01T02:01:59.718Z"
   },
   {
    "duration": 85,
    "start_time": "2022-10-01T02:02:00.295Z"
   },
   {
    "duration": 11,
    "start_time": "2022-10-01T02:02:00.382Z"
   },
   {
    "duration": 21,
    "start_time": "2022-10-01T02:02:00.395Z"
   },
   {
    "duration": 48,
    "start_time": "2022-10-01T02:02:00.417Z"
   },
   {
    "duration": 35,
    "start_time": "2022-10-01T02:02:00.466Z"
   },
   {
    "duration": 613,
    "start_time": "2022-10-01T02:02:00.503Z"
   },
   {
    "duration": 90,
    "start_time": "2022-10-01T02:02:01.117Z"
   },
   {
    "duration": 45,
    "start_time": "2022-10-01T02:02:01.209Z"
   },
   {
    "duration": 51,
    "start_time": "2022-10-01T02:02:01.256Z"
   },
   {
    "duration": 61,
    "start_time": "2022-10-01T02:02:01.309Z"
   },
   {
    "duration": 34,
    "start_time": "2022-10-01T02:02:01.371Z"
   },
   {
    "duration": 46,
    "start_time": "2022-10-01T02:02:01.407Z"
   },
   {
    "duration": 8,
    "start_time": "2022-10-01T02:02:01.454Z"
   },
   {
    "duration": 31,
    "start_time": "2022-10-01T02:02:01.463Z"
   },
   {
    "duration": 55,
    "start_time": "2022-10-01T02:02:01.496Z"
   },
   {
    "duration": 37,
    "start_time": "2022-10-01T02:02:01.552Z"
   },
   {
    "duration": 22,
    "start_time": "2022-10-01T02:02:01.591Z"
   },
   {
    "duration": 18,
    "start_time": "2022-10-01T02:02:01.615Z"
   },
   {
    "duration": 56,
    "start_time": "2022-10-01T02:02:01.634Z"
   },
   {
    "duration": 184,
    "start_time": "2022-10-01T02:02:01.691Z"
   },
   {
    "duration": 49,
    "start_time": "2022-10-01T02:04:46.155Z"
   },
   {
    "duration": 54,
    "start_time": "2022-10-01T02:04:53.687Z"
   },
   {
    "duration": 177,
    "start_time": "2022-10-01T02:05:02.353Z"
   },
   {
    "duration": 79,
    "start_time": "2022-10-01T02:05:32.058Z"
   },
   {
    "duration": 13,
    "start_time": "2022-10-01T02:05:37.423Z"
   },
   {
    "duration": 6,
    "start_time": "2022-10-01T02:05:38.213Z"
   },
   {
    "duration": 9,
    "start_time": "2022-10-01T02:05:38.915Z"
   },
   {
    "duration": 9,
    "start_time": "2022-10-01T02:05:39.336Z"
   },
   {
    "duration": 260,
    "start_time": "2022-10-01T02:05:39.952Z"
   },
   {
    "duration": 12,
    "start_time": "2022-10-01T02:05:44.713Z"
   },
   {
    "duration": 36,
    "start_time": "2022-10-01T02:05:45.154Z"
   },
   {
    "duration": 1252,
    "start_time": "2022-10-01T02:05:46.206Z"
   },
   {
    "duration": 0,
    "start_time": "2022-10-01T02:05:47.460Z"
   },
   {
    "duration": 0,
    "start_time": "2022-10-01T02:05:47.461Z"
   },
   {
    "duration": 15,
    "start_time": "2022-10-01T02:05:50.150Z"
   },
   {
    "duration": 7,
    "start_time": "2022-10-01T02:05:52.959Z"
   },
   {
    "duration": 13,
    "start_time": "2022-10-01T02:05:53.923Z"
   },
   {
    "duration": 25,
    "start_time": "2022-10-01T02:05:54.867Z"
   },
   {
    "duration": 1233,
    "start_time": "2022-10-01T02:06:07.604Z"
   },
   {
    "duration": 569,
    "start_time": "2022-10-01T02:06:08.839Z"
   },
   {
    "duration": 96,
    "start_time": "2022-10-01T02:06:09.409Z"
   },
   {
    "duration": 11,
    "start_time": "2022-10-01T02:06:09.507Z"
   },
   {
    "duration": 17,
    "start_time": "2022-10-01T02:06:09.519Z"
   },
   {
    "duration": 12,
    "start_time": "2022-10-01T02:06:09.537Z"
   },
   {
    "duration": 13,
    "start_time": "2022-10-01T02:06:09.550Z"
   },
   {
    "duration": 682,
    "start_time": "2022-10-01T02:06:09.564Z"
   },
   {
    "duration": 90,
    "start_time": "2022-10-01T02:06:10.247Z"
   },
   {
    "duration": 35,
    "start_time": "2022-10-01T02:06:10.340Z"
   },
   {
    "duration": 19,
    "start_time": "2022-10-01T02:06:10.377Z"
   },
   {
    "duration": 62,
    "start_time": "2022-10-01T02:06:10.397Z"
   },
   {
    "duration": 41,
    "start_time": "2022-10-01T02:06:10.461Z"
   },
   {
    "duration": 56,
    "start_time": "2022-10-01T02:06:10.504Z"
   },
   {
    "duration": 7,
    "start_time": "2022-10-01T02:06:10.562Z"
   },
   {
    "duration": 15,
    "start_time": "2022-10-01T02:06:10.570Z"
   },
   {
    "duration": 47,
    "start_time": "2022-10-01T02:06:10.586Z"
   },
   {
    "duration": 23,
    "start_time": "2022-10-01T02:06:10.635Z"
   },
   {
    "duration": 24,
    "start_time": "2022-10-01T02:06:10.660Z"
   },
   {
    "duration": 11,
    "start_time": "2022-10-01T02:06:10.686Z"
   },
   {
    "duration": 79,
    "start_time": "2022-10-01T02:06:10.698Z"
   },
   {
    "duration": 208,
    "start_time": "2022-10-01T02:06:10.779Z"
   },
   {
    "duration": 79,
    "start_time": "2022-10-01T02:07:13.173Z"
   },
   {
    "duration": 552,
    "start_time": "2022-10-01T02:07:18.387Z"
   },
   {
    "duration": 92,
    "start_time": "2022-10-01T02:07:19.157Z"
   },
   {
    "duration": 12,
    "start_time": "2022-10-01T02:07:20.860Z"
   },
   {
    "duration": 6,
    "start_time": "2022-10-01T02:07:21.737Z"
   },
   {
    "duration": 9,
    "start_time": "2022-10-01T02:07:22.655Z"
   },
   {
    "duration": 9,
    "start_time": "2022-10-01T02:07:23.414Z"
   },
   {
    "duration": 605,
    "start_time": "2022-10-01T02:07:24.795Z"
   },
   {
    "duration": 72,
    "start_time": "2022-10-01T02:07:46.350Z"
   },
   {
    "duration": 36,
    "start_time": "2022-10-01T02:07:46.821Z"
   },
   {
    "duration": 14,
    "start_time": "2022-10-01T02:07:47.804Z"
   },
   {
    "duration": 53,
    "start_time": "2022-10-01T02:07:48.430Z"
   },
   {
    "duration": 39,
    "start_time": "2022-10-01T02:07:48.961Z"
   },
   {
    "duration": 40,
    "start_time": "2022-10-01T02:07:50.181Z"
   },
   {
    "duration": 8,
    "start_time": "2022-10-01T02:07:51.189Z"
   },
   {
    "duration": 12,
    "start_time": "2022-10-01T02:07:51.786Z"
   },
   {
    "duration": 25,
    "start_time": "2022-10-01T02:07:52.250Z"
   },
   {
    "duration": 25,
    "start_time": "2022-10-01T02:07:52.909Z"
   },
   {
    "duration": 26,
    "start_time": "2022-10-01T02:07:53.754Z"
   },
   {
    "duration": 13,
    "start_time": "2022-10-01T02:07:54.808Z"
   },
   {
    "duration": 48,
    "start_time": "2022-10-01T02:07:57.423Z"
   },
   {
    "duration": 169,
    "start_time": "2022-10-01T02:07:57.700Z"
   },
   {
    "duration": 86,
    "start_time": "2022-10-01T02:15:14.098Z"
   },
   {
    "duration": 98,
    "start_time": "2022-10-01T02:15:19.537Z"
   },
   {
    "duration": 20,
    "start_time": "2022-10-01T02:16:08.254Z"
   },
   {
    "duration": 18,
    "start_time": "2022-10-01T02:16:21.608Z"
   },
   {
    "duration": 1685,
    "start_time": "2022-10-01T02:16:36.675Z"
   },
   {
    "duration": 84844,
    "start_time": "2022-10-01T02:17:07.105Z"
   },
   {
    "duration": 19,
    "start_time": "2022-10-01T02:18:40.692Z"
   },
   {
    "duration": 37800,
    "start_time": "2022-10-01T02:18:52.415Z"
   },
   {
    "duration": 0,
    "start_time": "2022-10-01T02:19:30.217Z"
   },
   {
    "duration": 26,
    "start_time": "2022-10-01T02:19:42.425Z"
   },
   {
    "duration": 70,
    "start_time": "2022-10-01T02:22:31.099Z"
   },
   {
    "duration": 21,
    "start_time": "2022-10-01T02:25:35.507Z"
   },
   {
    "duration": 23,
    "start_time": "2022-10-01T02:25:43.260Z"
   },
   {
    "duration": 25,
    "start_time": "2022-10-01T02:26:03.166Z"
   },
   {
    "duration": 30,
    "start_time": "2022-10-01T02:26:12.326Z"
   },
   {
    "duration": 27,
    "start_time": "2022-10-01T02:26:17.268Z"
   },
   {
    "duration": 22,
    "start_time": "2022-10-01T02:26:23.249Z"
   },
   {
    "duration": 12,
    "start_time": "2022-10-01T02:26:23.902Z"
   },
   {
    "duration": 18,
    "start_time": "2022-10-01T02:27:05.731Z"
   },
   {
    "duration": 22,
    "start_time": "2022-10-01T02:28:38.224Z"
   },
   {
    "duration": 26,
    "start_time": "2022-10-01T02:28:45.565Z"
   },
   {
    "duration": 25,
    "start_time": "2022-10-01T02:29:27.714Z"
   },
   {
    "duration": 29,
    "start_time": "2022-10-01T02:29:48.249Z"
   },
   {
    "duration": 27,
    "start_time": "2022-10-01T02:30:22.087Z"
   },
   {
    "duration": 27,
    "start_time": "2022-10-01T02:30:23.517Z"
   },
   {
    "duration": 64,
    "start_time": "2022-10-01T02:32:16.349Z"
   },
   {
    "duration": 1371,
    "start_time": "2022-10-01T02:32:51.300Z"
   },
   {
    "duration": 72,
    "start_time": "2022-10-01T02:33:45.726Z"
   },
   {
    "duration": 32,
    "start_time": "2022-10-01T02:35:40.233Z"
   },
   {
    "duration": 34,
    "start_time": "2022-10-01T02:35:49.741Z"
   },
   {
    "duration": 25,
    "start_time": "2022-10-01T02:36:17.325Z"
   },
   {
    "duration": 735,
    "start_time": "2022-10-01T02:36:17.958Z"
   },
   {
    "duration": 23,
    "start_time": "2022-10-01T02:42:33.240Z"
   },
   {
    "duration": 690,
    "start_time": "2022-10-01T02:42:34.239Z"
   },
   {
    "duration": 30,
    "start_time": "2022-10-01T02:55:53.455Z"
   },
   {
    "duration": 194,
    "start_time": "2022-10-01T02:56:06.777Z"
   },
   {
    "duration": 202,
    "start_time": "2022-10-01T02:56:34.551Z"
   },
   {
    "duration": 28,
    "start_time": "2022-10-01T02:56:45.255Z"
   },
   {
    "duration": 17,
    "start_time": "2022-10-01T02:56:56.480Z"
   },
   {
    "duration": 16,
    "start_time": "2022-10-01T02:57:24.064Z"
   },
   {
    "duration": 457,
    "start_time": "2022-10-01T02:57:44.877Z"
   },
   {
    "duration": 136,
    "start_time": "2022-10-01T02:59:53.266Z"
   },
   {
    "duration": 91,
    "start_time": "2022-10-01T03:00:07.102Z"
   },
   {
    "duration": 236,
    "start_time": "2022-10-01T03:00:14.709Z"
   },
   {
    "duration": 118,
    "start_time": "2022-10-01T03:00:38.701Z"
   },
   {
    "duration": 90,
    "start_time": "2022-10-01T03:01:47.540Z"
   },
   {
    "duration": 101,
    "start_time": "2022-10-01T03:02:33.917Z"
   },
   {
    "duration": 106,
    "start_time": "2022-10-01T03:02:39.633Z"
   },
   {
    "duration": 10,
    "start_time": "2022-10-01T03:03:10.964Z"
   },
   {
    "duration": 87,
    "start_time": "2022-10-01T03:03:33.832Z"
   },
   {
    "duration": 90,
    "start_time": "2022-10-01T03:03:37.098Z"
   },
   {
    "duration": 94,
    "start_time": "2022-10-01T03:03:41.746Z"
   },
   {
    "duration": 101,
    "start_time": "2022-10-01T03:03:45.526Z"
   },
   {
    "duration": 86,
    "start_time": "2022-10-01T03:03:50.684Z"
   },
   {
    "duration": 92,
    "start_time": "2022-10-01T03:05:20.416Z"
   },
   {
    "duration": 82,
    "start_time": "2022-10-01T03:06:36.863Z"
   },
   {
    "duration": 83,
    "start_time": "2022-10-01T03:07:37.367Z"
   },
   {
    "duration": 82,
    "start_time": "2022-10-01T03:08:22.601Z"
   },
   {
    "duration": 83,
    "start_time": "2022-10-01T03:08:34.225Z"
   },
   {
    "duration": 58,
    "start_time": "2022-10-01T03:24:09.793Z"
   },
   {
    "duration": 17,
    "start_time": "2022-10-01T03:24:38.134Z"
   },
   {
    "duration": 34,
    "start_time": "2022-10-01T03:25:02.118Z"
   },
   {
    "duration": 33,
    "start_time": "2022-10-01T03:25:07.675Z"
   },
   {
    "duration": 17,
    "start_time": "2022-10-01T03:25:07.895Z"
   },
   {
    "duration": 15,
    "start_time": "2022-10-01T03:25:25.568Z"
   },
   {
    "duration": 19,
    "start_time": "2022-10-01T03:25:58.962Z"
   },
   {
    "duration": 29,
    "start_time": "2022-10-01T03:26:10.962Z"
   },
   {
    "duration": 17,
    "start_time": "2022-10-01T03:26:11.392Z"
   },
   {
    "duration": 458,
    "start_time": "2022-10-01T03:26:18.964Z"
   },
   {
    "duration": 16,
    "start_time": "2022-10-01T03:27:12.082Z"
   },
   {
    "duration": 16,
    "start_time": "2022-10-01T03:27:14.438Z"
   },
   {
    "duration": 15,
    "start_time": "2022-10-01T03:27:14.874Z"
   },
   {
    "duration": 22,
    "start_time": "2022-10-01T03:27:36.495Z"
   },
   {
    "duration": 52,
    "start_time": "2022-10-01T03:27:38.588Z"
   },
   {
    "duration": 55,
    "start_time": "2022-10-01T03:28:13.388Z"
   },
   {
    "duration": 15,
    "start_time": "2022-10-01T03:37:31.522Z"
   },
   {
    "duration": 7,
    "start_time": "2022-10-01T03:37:39.475Z"
   },
   {
    "duration": 14,
    "start_time": "2022-10-01T03:37:52.322Z"
   },
   {
    "duration": 7,
    "start_time": "2022-10-01T03:37:53.213Z"
   },
   {
    "duration": 14,
    "start_time": "2022-10-01T03:38:18.995Z"
   },
   {
    "duration": 6,
    "start_time": "2022-10-01T03:38:19.889Z"
   },
   {
    "duration": 743,
    "start_time": "2022-10-01T03:38:29.061Z"
   },
   {
    "duration": 37,
    "start_time": "2022-10-01T03:38:45.010Z"
   },
   {
    "duration": 13,
    "start_time": "2022-10-01T03:39:06.203Z"
   },
   {
    "duration": 11,
    "start_time": "2022-10-01T03:39:09.350Z"
   },
   {
    "duration": 11,
    "start_time": "2022-10-01T03:39:12.308Z"
   },
   {
    "duration": 10,
    "start_time": "2022-10-01T03:39:16.424Z"
   },
   {
    "duration": 755,
    "start_time": "2022-10-01T03:57:19.649Z"
   },
   {
    "duration": 26,
    "start_time": "2022-10-01T03:57:29.157Z"
   },
   {
    "duration": 25,
    "start_time": "2022-10-01T03:57:33.597Z"
   },
   {
    "duration": 7,
    "start_time": "2022-10-01T03:57:39.773Z"
   },
   {
    "duration": 26,
    "start_time": "2022-10-01T03:58:23.544Z"
   },
   {
    "duration": 13,
    "start_time": "2022-10-01T03:58:53.421Z"
   },
   {
    "duration": 14,
    "start_time": "2022-10-01T03:59:31.493Z"
   },
   {
    "duration": 13,
    "start_time": "2022-10-01T03:59:35.212Z"
   },
   {
    "duration": 4,
    "start_time": "2022-10-01T04:15:25.463Z"
   },
   {
    "duration": 33,
    "start_time": "2022-10-01T04:15:39.800Z"
   },
   {
    "duration": 18,
    "start_time": "2022-10-01T04:16:13.609Z"
   },
   {
    "duration": 18,
    "start_time": "2022-10-01T04:16:18.258Z"
   },
   {
    "duration": 19,
    "start_time": "2022-10-01T04:16:38.359Z"
   },
   {
    "duration": 11,
    "start_time": "2022-10-01T04:16:51.024Z"
   },
   {
    "duration": 16,
    "start_time": "2022-10-01T04:17:16.104Z"
   },
   {
    "duration": 6,
    "start_time": "2022-10-01T04:17:22.588Z"
   },
   {
    "duration": 8,
    "start_time": "2022-10-01T04:17:28.184Z"
   },
   {
    "duration": 10,
    "start_time": "2022-10-01T04:17:35.796Z"
   },
   {
    "duration": 30,
    "start_time": "2022-10-01T04:17:56.618Z"
   },
   {
    "duration": 13,
    "start_time": "2022-10-01T04:17:57.485Z"
   },
   {
    "duration": 5,
    "start_time": "2022-10-01T04:18:00.047Z"
   },
   {
    "duration": 14,
    "start_time": "2022-10-01T04:18:01.046Z"
   },
   {
    "duration": 11,
    "start_time": "2022-10-01T04:18:08.793Z"
   },
   {
    "duration": 12,
    "start_time": "2022-10-01T04:18:15.831Z"
   },
   {
    "duration": 5,
    "start_time": "2022-10-01T04:18:16.579Z"
   },
   {
    "duration": 7,
    "start_time": "2022-10-01T04:18:54.522Z"
   },
   {
    "duration": 8,
    "start_time": "2022-10-01T04:19:11.074Z"
   },
   {
    "duration": 8,
    "start_time": "2022-10-01T04:19:17.583Z"
   },
   {
    "duration": 21,
    "start_time": "2022-10-01T04:19:18.231Z"
   },
   {
    "duration": 16,
    "start_time": "2022-10-01T04:20:21.882Z"
   },
   {
    "duration": 27,
    "start_time": "2022-10-01T04:20:41.812Z"
   },
   {
    "duration": 25,
    "start_time": "2022-10-01T04:20:51.164Z"
   },
   {
    "duration": 27,
    "start_time": "2022-10-01T04:21:48.151Z"
   },
   {
    "duration": 5,
    "start_time": "2022-10-01T04:23:13.855Z"
   },
   {
    "duration": 7,
    "start_time": "2022-10-01T04:23:14.412Z"
   },
   {
    "duration": 25,
    "start_time": "2022-10-01T04:23:15.193Z"
   },
   {
    "duration": 5,
    "start_time": "2022-10-01T04:23:30.943Z"
   },
   {
    "duration": 7,
    "start_time": "2022-10-01T04:23:31.414Z"
   },
   {
    "duration": 25,
    "start_time": "2022-10-01T04:23:31.912Z"
   },
   {
    "duration": 4,
    "start_time": "2022-10-01T04:23:38.087Z"
   },
   {
    "duration": 7,
    "start_time": "2022-10-01T04:23:38.427Z"
   },
   {
    "duration": 26,
    "start_time": "2022-10-01T04:23:38.943Z"
   },
   {
    "duration": 5,
    "start_time": "2022-10-01T04:23:46.296Z"
   },
   {
    "duration": 7,
    "start_time": "2022-10-01T04:23:46.580Z"
   },
   {
    "duration": 25,
    "start_time": "2022-10-01T04:23:46.820Z"
   },
   {
    "duration": 8,
    "start_time": "2022-10-01T04:24:24.981Z"
   },
   {
    "duration": 8,
    "start_time": "2022-10-01T04:24:30.226Z"
   },
   {
    "duration": 5,
    "start_time": "2022-10-01T04:24:39.123Z"
   },
   {
    "duration": 5,
    "start_time": "2022-10-01T04:24:42.051Z"
   },
   {
    "duration": 5,
    "start_time": "2022-10-01T04:25:56.195Z"
   },
   {
    "duration": 7,
    "start_time": "2022-10-01T04:25:56.638Z"
   },
   {
    "duration": 24,
    "start_time": "2022-10-01T04:25:57.128Z"
   },
   {
    "duration": 4,
    "start_time": "2022-10-01T04:26:03.082Z"
   },
   {
    "duration": 7,
    "start_time": "2022-10-01T04:26:03.591Z"
   },
   {
    "duration": 27,
    "start_time": "2022-10-01T04:26:04.113Z"
   },
   {
    "duration": 5,
    "start_time": "2022-10-01T04:26:29.287Z"
   },
   {
    "duration": 7,
    "start_time": "2022-10-01T04:26:30.193Z"
   },
   {
    "duration": 26,
    "start_time": "2022-10-01T04:26:32.142Z"
   },
   {
    "duration": 24,
    "start_time": "2022-10-01T04:27:18.312Z"
   },
   {
    "duration": 26,
    "start_time": "2022-10-01T04:27:59.520Z"
   },
   {
    "duration": 18,
    "start_time": "2022-10-01T04:28:49.071Z"
   },
   {
    "duration": 19,
    "start_time": "2022-10-01T04:28:58.860Z"
   },
   {
    "duration": 21,
    "start_time": "2022-10-01T04:29:26.913Z"
   },
   {
    "duration": 1246,
    "start_time": "2022-10-01T04:45:07.284Z"
   },
   {
    "duration": 586,
    "start_time": "2022-10-01T04:45:08.531Z"
   },
   {
    "duration": 117,
    "start_time": "2022-10-01T04:45:09.119Z"
   },
   {
    "duration": 16,
    "start_time": "2022-10-01T04:45:09.239Z"
   },
   {
    "duration": 7,
    "start_time": "2022-10-01T04:45:09.257Z"
   },
   {
    "duration": 13,
    "start_time": "2022-10-01T04:45:09.266Z"
   },
   {
    "duration": 12,
    "start_time": "2022-10-01T04:45:09.281Z"
   },
   {
    "duration": 746,
    "start_time": "2022-10-01T04:45:09.294Z"
   },
   {
    "duration": 82,
    "start_time": "2022-10-01T04:45:10.041Z"
   },
   {
    "duration": 42,
    "start_time": "2022-10-01T04:45:10.135Z"
   },
   {
    "duration": 29,
    "start_time": "2022-10-01T04:45:10.179Z"
   },
   {
    "duration": 66,
    "start_time": "2022-10-01T04:45:10.209Z"
   },
   {
    "duration": 56,
    "start_time": "2022-10-01T04:45:10.277Z"
   },
   {
    "duration": 41,
    "start_time": "2022-10-01T04:45:10.335Z"
   },
   {
    "duration": 9,
    "start_time": "2022-10-01T04:45:10.378Z"
   },
   {
    "duration": 14,
    "start_time": "2022-10-01T04:45:10.389Z"
   },
   {
    "duration": 51,
    "start_time": "2022-10-01T04:45:10.405Z"
   },
   {
    "duration": 25,
    "start_time": "2022-10-01T04:45:10.458Z"
   },
   {
    "duration": 52,
    "start_time": "2022-10-01T04:45:10.485Z"
   },
   {
    "duration": 12,
    "start_time": "2022-10-01T04:45:10.539Z"
   },
   {
    "duration": 86,
    "start_time": "2022-10-01T04:45:10.553Z"
   },
   {
    "duration": 212,
    "start_time": "2022-10-01T04:45:10.641Z"
   },
   {
    "duration": 25,
    "start_time": "2022-10-01T04:45:10.854Z"
   },
   {
    "duration": 773,
    "start_time": "2022-10-01T04:45:10.880Z"
   },
   {
    "duration": 439,
    "start_time": "2022-10-01T04:45:11.655Z"
   },
   {
    "duration": 51,
    "start_time": "2022-10-01T04:45:12.096Z"
   },
   {
    "duration": 118,
    "start_time": "2022-10-01T04:45:12.149Z"
   },
   {
    "duration": 14,
    "start_time": "2022-10-01T04:45:12.270Z"
   },
   {
    "duration": 60,
    "start_time": "2022-10-01T04:45:12.285Z"
   },
   {
    "duration": 26,
    "start_time": "2022-10-01T04:45:12.347Z"
   },
   {
    "duration": 14,
    "start_time": "2022-10-01T04:45:12.375Z"
   },
   {
    "duration": 5,
    "start_time": "2022-10-01T04:45:12.390Z"
   },
   {
    "duration": 37,
    "start_time": "2022-10-01T04:45:12.397Z"
   },
   {
    "duration": 30,
    "start_time": "2022-10-01T04:45:12.435Z"
   },
   {
    "duration": 24,
    "start_time": "2022-10-01T04:46:53.603Z"
   },
   {
    "duration": 1486,
    "start_time": "2022-10-02T00:07:39.923Z"
   },
   {
    "duration": 981,
    "start_time": "2022-10-02T00:07:41.412Z"
   },
   {
    "duration": 98,
    "start_time": "2022-10-02T00:07:43.814Z"
   },
   {
    "duration": 14,
    "start_time": "2022-10-02T00:07:47.960Z"
   },
   {
    "duration": 7,
    "start_time": "2022-10-02T00:07:49.729Z"
   },
   {
    "duration": 10,
    "start_time": "2022-10-02T00:08:11.885Z"
   },
   {
    "duration": 9,
    "start_time": "2022-10-02T00:08:13.608Z"
   },
   {
    "duration": 738,
    "start_time": "2022-10-02T00:08:15.260Z"
   },
   {
    "duration": 89,
    "start_time": "2022-10-02T00:08:22.352Z"
   },
   {
    "duration": 35,
    "start_time": "2022-10-02T00:08:23.925Z"
   },
   {
    "duration": 15,
    "start_time": "2022-10-02T00:08:27.019Z"
   },
   {
    "duration": 57,
    "start_time": "2022-10-02T00:08:30.543Z"
   },
   {
    "duration": 38,
    "start_time": "2022-10-02T00:09:54.785Z"
   },
   {
    "duration": 29,
    "start_time": "2022-10-02T00:10:09.376Z"
   },
   {
    "duration": 32,
    "start_time": "2022-10-02T00:10:16.017Z"
   },
   {
    "duration": 33,
    "start_time": "2022-10-02T00:10:27.464Z"
   },
   {
    "duration": 9,
    "start_time": "2022-10-02T00:10:32.788Z"
   },
   {
    "duration": 17,
    "start_time": "2022-10-02T00:10:34.874Z"
   },
   {
    "duration": 31,
    "start_time": "2022-10-02T00:10:45.717Z"
   },
   {
    "duration": 28,
    "start_time": "2022-10-02T00:10:50.533Z"
   },
   {
    "duration": 28,
    "start_time": "2022-10-02T00:11:58.819Z"
   },
   {
    "duration": 30,
    "start_time": "2022-10-02T00:12:00.187Z"
   },
   {
    "duration": 16,
    "start_time": "2022-10-02T00:12:00.836Z"
   },
   {
    "duration": 52,
    "start_time": "2022-10-02T00:12:03.042Z"
   },
   {
    "duration": 219,
    "start_time": "2022-10-02T00:12:03.324Z"
   },
   {
    "duration": 31,
    "start_time": "2022-10-02T00:12:05.668Z"
   },
   {
    "duration": 859,
    "start_time": "2022-10-02T00:12:06.206Z"
   },
   {
    "duration": 577,
    "start_time": "2022-10-02T00:12:11.084Z"
   },
   {
    "duration": 33,
    "start_time": "2022-10-02T00:12:21.458Z"
   },
   {
    "duration": 75,
    "start_time": "2022-10-02T00:12:21.703Z"
   },
   {
    "duration": 16,
    "start_time": "2022-10-02T00:12:24.190Z"
   },
   {
    "duration": 19,
    "start_time": "2022-10-02T00:12:24.401Z"
   },
   {
    "duration": 31,
    "start_time": "2022-10-02T00:12:32.921Z"
   },
   {
    "duration": 16,
    "start_time": "2022-10-02T00:12:33.469Z"
   },
   {
    "duration": 25,
    "start_time": "2022-10-02T00:20:44.076Z"
   },
   {
    "duration": 5,
    "start_time": "2022-10-02T00:20:49.809Z"
   },
   {
    "duration": 589,
    "start_time": "2022-10-02T00:20:49.816Z"
   },
   {
    "duration": 91,
    "start_time": "2022-10-02T00:20:50.407Z"
   },
   {
    "duration": 12,
    "start_time": "2022-10-02T00:20:50.500Z"
   },
   {
    "duration": 6,
    "start_time": "2022-10-02T00:20:50.514Z"
   },
   {
    "duration": 10,
    "start_time": "2022-10-02T00:20:50.522Z"
   },
   {
    "duration": 28,
    "start_time": "2022-10-02T00:20:50.534Z"
   },
   {
    "duration": 721,
    "start_time": "2022-10-02T00:20:50.564Z"
   },
   {
    "duration": 92,
    "start_time": "2022-10-02T00:20:51.287Z"
   },
   {
    "duration": 34,
    "start_time": "2022-10-02T00:20:51.381Z"
   },
   {
    "duration": 38,
    "start_time": "2022-10-02T00:20:51.416Z"
   },
   {
    "duration": 83,
    "start_time": "2022-10-02T00:20:51.456Z"
   },
   {
    "duration": 51,
    "start_time": "2022-10-02T00:20:51.542Z"
   },
   {
    "duration": 34,
    "start_time": "2022-10-02T00:20:53.454Z"
   },
   {
    "duration": 34,
    "start_time": "2022-10-02T00:21:12.148Z"
   },
   {
    "duration": 14,
    "start_time": "2022-10-02T00:21:43.064Z"
   },
   {
    "duration": 16,
    "start_time": "2022-10-02T00:21:46.356Z"
   },
   {
    "duration": 14,
    "start_time": "2022-10-02T00:21:47.696Z"
   },
   {
    "duration": 8,
    "start_time": "2022-10-02T00:21:48.967Z"
   },
   {
    "duration": 15,
    "start_time": "2022-10-02T00:21:52.124Z"
   },
   {
    "duration": 29,
    "start_time": "2022-10-02T00:21:54.737Z"
   },
   {
    "duration": 5,
    "start_time": "2022-10-02T00:23:01.405Z"
   },
   {
    "duration": 678,
    "start_time": "2022-10-02T00:23:01.412Z"
   },
   {
    "duration": 95,
    "start_time": "2022-10-02T00:23:02.093Z"
   },
   {
    "duration": 14,
    "start_time": "2022-10-02T00:23:02.190Z"
   },
   {
    "duration": 6,
    "start_time": "2022-10-02T00:23:02.207Z"
   },
   {
    "duration": 16,
    "start_time": "2022-10-02T00:23:02.215Z"
   },
   {
    "duration": 11,
    "start_time": "2022-10-02T00:23:02.254Z"
   },
   {
    "duration": 737,
    "start_time": "2022-10-02T00:23:02.267Z"
   },
   {
    "duration": 97,
    "start_time": "2022-10-02T00:23:03.007Z"
   },
   {
    "duration": 48,
    "start_time": "2022-10-02T00:23:03.107Z"
   },
   {
    "duration": 15,
    "start_time": "2022-10-02T00:23:03.157Z"
   },
   {
    "duration": 52,
    "start_time": "2022-10-02T00:23:03.173Z"
   },
   {
    "duration": 60,
    "start_time": "2022-10-02T00:23:03.227Z"
   },
   {
    "duration": 34,
    "start_time": "2022-10-02T00:23:05.378Z"
   },
   {
    "duration": 5,
    "start_time": "2022-10-02T00:26:06.289Z"
   },
   {
    "duration": 34,
    "start_time": "2022-10-02T00:26:21.676Z"
   },
   {
    "duration": 35,
    "start_time": "2022-10-02T00:34:02.753Z"
   },
   {
    "duration": 26,
    "start_time": "2022-10-02T00:34:08.631Z"
   },
   {
    "duration": 10,
    "start_time": "2022-10-02T00:34:09.843Z"
   },
   {
    "duration": 15,
    "start_time": "2022-10-02T00:34:11.771Z"
   },
   {
    "duration": 30,
    "start_time": "2022-10-02T00:34:13.505Z"
   },
   {
    "duration": 203,
    "start_time": "2022-10-02T00:37:43.656Z"
   },
   {
    "duration": 90,
    "start_time": "2022-10-02T00:37:55.377Z"
   },
   {
    "duration": 12,
    "start_time": "2022-10-02T00:37:56.257Z"
   },
   {
    "duration": 6,
    "start_time": "2022-10-02T00:37:56.676Z"
   },
   {
    "duration": 9,
    "start_time": "2022-10-02T00:37:57.203Z"
   },
   {
    "duration": 9,
    "start_time": "2022-10-02T00:37:57.711Z"
   },
   {
    "duration": 280,
    "start_time": "2022-10-02T00:37:58.603Z"
   },
   {
    "duration": 13,
    "start_time": "2022-10-02T00:38:00.051Z"
   },
   {
    "duration": 33,
    "start_time": "2022-10-02T00:38:01.124Z"
   },
   {
    "duration": 748,
    "start_time": "2022-10-02T00:38:02.239Z"
   },
   {
    "duration": 1199,
    "start_time": "2022-10-02T00:38:13.789Z"
   },
   {
    "duration": 590,
    "start_time": "2022-10-02T00:38:14.990Z"
   },
   {
    "duration": 116,
    "start_time": "2022-10-02T00:38:15.583Z"
   },
   {
    "duration": 14,
    "start_time": "2022-10-02T00:38:15.701Z"
   },
   {
    "duration": 28,
    "start_time": "2022-10-02T00:38:15.716Z"
   },
   {
    "duration": 11,
    "start_time": "2022-10-02T00:38:15.746Z"
   },
   {
    "duration": 16,
    "start_time": "2022-10-02T00:38:15.758Z"
   },
   {
    "duration": 699,
    "start_time": "2022-10-02T00:38:15.775Z"
   },
   {
    "duration": 90,
    "start_time": "2022-10-02T00:38:16.475Z"
   },
   {
    "duration": 34,
    "start_time": "2022-10-02T00:38:16.567Z"
   },
   {
    "duration": 22,
    "start_time": "2022-10-02T00:38:16.603Z"
   },
   {
    "duration": 71,
    "start_time": "2022-10-02T00:38:16.627Z"
   },
   {
    "duration": 39,
    "start_time": "2022-10-02T00:38:16.700Z"
   },
   {
    "duration": 147,
    "start_time": "2022-10-02T00:38:16.753Z"
   },
   {
    "duration": 35,
    "start_time": "2022-10-02T00:38:16.902Z"
   },
   {
    "duration": 37,
    "start_time": "2022-10-02T00:38:16.939Z"
   },
   {
    "duration": 9,
    "start_time": "2022-10-02T00:38:16.978Z"
   },
   {
    "duration": 21,
    "start_time": "2022-10-02T00:38:16.989Z"
   },
   {
    "duration": 50,
    "start_time": "2022-10-02T00:38:17.013Z"
   },
   {
    "duration": 29,
    "start_time": "2022-10-02T00:38:17.065Z"
   },
   {
    "duration": 18,
    "start_time": "2022-10-02T00:38:17.096Z"
   },
   {
    "duration": 82,
    "start_time": "2022-10-02T00:38:17.116Z"
   },
   {
    "duration": 236,
    "start_time": "2022-10-02T00:38:17.200Z"
   },
   {
    "duration": 42,
    "start_time": "2022-10-02T00:38:17.438Z"
   },
   {
    "duration": 751,
    "start_time": "2022-10-02T00:38:17.482Z"
   },
   {
    "duration": 474,
    "start_time": "2022-10-02T00:38:18.235Z"
   },
   {
    "duration": 60,
    "start_time": "2022-10-02T00:38:18.710Z"
   },
   {
    "duration": 115,
    "start_time": "2022-10-02T00:38:18.773Z"
   },
   {
    "duration": 15,
    "start_time": "2022-10-02T00:38:18.890Z"
   },
   {
    "duration": 15,
    "start_time": "2022-10-02T00:38:18.907Z"
   },
   {
    "duration": 53,
    "start_time": "2022-10-02T00:38:18.923Z"
   },
   {
    "duration": 15,
    "start_time": "2022-10-02T00:38:18.978Z"
   },
   {
    "duration": 6,
    "start_time": "2022-10-02T00:38:18.995Z"
   },
   {
    "duration": 17,
    "start_time": "2022-10-02T00:38:19.003Z"
   },
   {
    "duration": 50,
    "start_time": "2022-10-02T00:38:19.022Z"
   },
   {
    "duration": 5,
    "start_time": "2022-10-02T00:38:50.737Z"
   },
   {
    "duration": 664,
    "start_time": "2022-10-02T00:38:51.060Z"
   },
   {
    "duration": 99,
    "start_time": "2022-10-02T00:38:54.280Z"
   },
   {
    "duration": 14,
    "start_time": "2022-10-02T00:38:57.270Z"
   },
   {
    "duration": 6,
    "start_time": "2022-10-02T00:38:58.680Z"
   },
   {
    "duration": 11,
    "start_time": "2022-10-02T00:38:59.775Z"
   },
   {
    "duration": 10,
    "start_time": "2022-10-02T00:39:02.122Z"
   },
   {
    "duration": 776,
    "start_time": "2022-10-02T00:39:07.950Z"
   },
   {
    "duration": 80,
    "start_time": "2022-10-02T00:39:10.156Z"
   },
   {
    "duration": 37,
    "start_time": "2022-10-02T00:39:11.099Z"
   },
   {
    "duration": 17,
    "start_time": "2022-10-02T00:39:13.427Z"
   },
   {
    "duration": 55,
    "start_time": "2022-10-02T00:39:15.561Z"
   },
   {
    "duration": 12,
    "start_time": "2022-10-02T00:40:01.842Z"
   },
   {
    "duration": 107,
    "start_time": "2022-10-02T00:40:19.303Z"
   },
   {
    "duration": 29,
    "start_time": "2022-10-02T00:40:28.963Z"
   },
   {
    "duration": 5,
    "start_time": "2022-10-02T00:40:36.676Z"
   },
   {
    "duration": 587,
    "start_time": "2022-10-02T00:40:36.684Z"
   },
   {
    "duration": 98,
    "start_time": "2022-10-02T00:40:37.272Z"
   },
   {
    "duration": 13,
    "start_time": "2022-10-02T00:40:37.372Z"
   },
   {
    "duration": 7,
    "start_time": "2022-10-02T00:40:37.387Z"
   },
   {
    "duration": 11,
    "start_time": "2022-10-02T00:40:37.395Z"
   },
   {
    "duration": 11,
    "start_time": "2022-10-02T00:40:37.408Z"
   },
   {
    "duration": 725,
    "start_time": "2022-10-02T00:40:37.421Z"
   },
   {
    "duration": 83,
    "start_time": "2022-10-02T00:40:38.154Z"
   },
   {
    "duration": 41,
    "start_time": "2022-10-02T00:40:38.239Z"
   },
   {
    "duration": 18,
    "start_time": "2022-10-02T00:40:38.282Z"
   },
   {
    "duration": 65,
    "start_time": "2022-10-02T00:40:38.302Z"
   },
   {
    "duration": 40,
    "start_time": "2022-10-02T00:40:38.369Z"
   },
   {
    "duration": 49,
    "start_time": "2022-10-02T00:40:38.411Z"
   },
   {
    "duration": 32,
    "start_time": "2022-10-02T00:41:39.281Z"
   },
   {
    "duration": 13,
    "start_time": "2022-10-02T00:46:25.250Z"
   },
   {
    "duration": 16,
    "start_time": "2022-10-02T00:46:34.650Z"
   },
   {
    "duration": 9,
    "start_time": "2022-10-02T00:47:12.033Z"
   },
   {
    "duration": 28,
    "start_time": "2022-10-02T00:47:15.557Z"
   },
   {
    "duration": 6,
    "start_time": "2022-10-02T00:47:24.333Z"
   },
   {
    "duration": 21,
    "start_time": "2022-10-02T00:47:26.243Z"
   },
   {
    "duration": 6,
    "start_time": "2022-10-02T00:47:30.492Z"
   },
   {
    "duration": 673,
    "start_time": "2022-10-02T00:47:30.500Z"
   },
   {
    "duration": 94,
    "start_time": "2022-10-02T00:47:31.176Z"
   },
   {
    "duration": 15,
    "start_time": "2022-10-02T00:47:31.272Z"
   },
   {
    "duration": 12,
    "start_time": "2022-10-02T00:47:31.290Z"
   },
   {
    "duration": 33,
    "start_time": "2022-10-02T00:47:31.304Z"
   },
   {
    "duration": 15,
    "start_time": "2022-10-02T00:47:31.340Z"
   },
   {
    "duration": 850,
    "start_time": "2022-10-02T00:47:31.356Z"
   },
   {
    "duration": 92,
    "start_time": "2022-10-02T00:47:32.208Z"
   },
   {
    "duration": 53,
    "start_time": "2022-10-02T00:47:32.302Z"
   },
   {
    "duration": 16,
    "start_time": "2022-10-02T00:47:32.358Z"
   },
   {
    "duration": 52,
    "start_time": "2022-10-02T00:47:32.375Z"
   },
   {
    "duration": 57,
    "start_time": "2022-10-02T00:47:32.429Z"
   },
   {
    "duration": 28,
    "start_time": "2022-10-02T00:47:32.488Z"
   },
   {
    "duration": 31,
    "start_time": "2022-10-02T00:47:34.347Z"
   },
   {
    "duration": 32,
    "start_time": "2022-10-02T00:47:37.241Z"
   },
   {
    "duration": 11,
    "start_time": "2022-10-02T00:47:40.123Z"
   },
   {
    "duration": 28,
    "start_time": "2022-10-02T00:47:42.258Z"
   },
   {
    "duration": 10,
    "start_time": "2022-10-02T00:47:46.476Z"
   },
   {
    "duration": 37,
    "start_time": "2022-10-02T00:47:49.862Z"
   },
   {
    "duration": 25,
    "start_time": "2022-10-02T00:47:56.681Z"
   },
   {
    "duration": 9,
    "start_time": "2022-10-02T00:47:58.328Z"
   },
   {
    "duration": 15,
    "start_time": "2022-10-02T00:47:59.890Z"
   },
   {
    "duration": 31,
    "start_time": "2022-10-02T00:48:05.774Z"
   },
   {
    "duration": 4,
    "start_time": "2022-10-02T00:48:42.437Z"
   },
   {
    "duration": 29,
    "start_time": "2022-10-02T00:48:56.607Z"
   },
   {
    "duration": 15,
    "start_time": "2022-10-02T00:48:58.544Z"
   },
   {
    "duration": 55,
    "start_time": "2022-10-02T00:49:27.819Z"
   },
   {
    "duration": 192,
    "start_time": "2022-10-02T00:49:33.775Z"
   },
   {
    "duration": 53,
    "start_time": "2022-10-02T00:49:57.936Z"
   },
   {
    "duration": 27,
    "start_time": "2022-10-02T00:51:28.513Z"
   },
   {
    "duration": 734,
    "start_time": "2022-10-02T00:51:29.534Z"
   },
   {
    "duration": 118,
    "start_time": "2022-10-02T00:51:35.804Z"
   },
   {
    "duration": 25,
    "start_time": "2022-10-02T00:51:43.154Z"
   },
   {
    "duration": 63,
    "start_time": "2022-10-02T00:51:43.964Z"
   },
   {
    "duration": 17,
    "start_time": "2022-10-02T00:51:53.783Z"
   },
   {
    "duration": 13,
    "start_time": "2022-10-02T00:51:54.776Z"
   },
   {
    "duration": 21,
    "start_time": "2022-10-02T00:54:01.475Z"
   },
   {
    "duration": 20,
    "start_time": "2022-10-02T00:54:15.435Z"
   },
   {
    "duration": 20,
    "start_time": "2022-10-02T00:54:45.719Z"
   },
   {
    "duration": 4,
    "start_time": "2022-10-02T00:56:04.569Z"
   },
   {
    "duration": 5,
    "start_time": "2022-10-02T00:56:14.099Z"
   },
   {
    "duration": 14,
    "start_time": "2022-10-02T00:58:05.218Z"
   },
   {
    "duration": 12,
    "start_time": "2022-10-02T00:58:16.996Z"
   },
   {
    "duration": 15,
    "start_time": "2022-10-02T00:58:57.552Z"
   },
   {
    "duration": 17,
    "start_time": "2022-10-02T00:59:41.261Z"
   },
   {
    "duration": 17,
    "start_time": "2022-10-02T01:01:24.131Z"
   },
   {
    "duration": 1278,
    "start_time": "2022-10-02T01:03:44.820Z"
   },
   {
    "duration": 630,
    "start_time": "2022-10-02T01:03:46.100Z"
   },
   {
    "duration": 105,
    "start_time": "2022-10-02T01:03:46.732Z"
   },
   {
    "duration": 23,
    "start_time": "2022-10-02T01:03:46.840Z"
   },
   {
    "duration": 8,
    "start_time": "2022-10-02T01:03:46.865Z"
   },
   {
    "duration": 14,
    "start_time": "2022-10-02T01:03:46.875Z"
   },
   {
    "duration": 23,
    "start_time": "2022-10-02T01:03:46.892Z"
   },
   {
    "duration": 780,
    "start_time": "2022-10-02T01:03:46.917Z"
   },
   {
    "duration": 99,
    "start_time": "2022-10-02T01:03:47.699Z"
   },
   {
    "duration": 34,
    "start_time": "2022-10-02T01:03:47.802Z"
   },
   {
    "duration": 35,
    "start_time": "2022-10-02T01:03:47.838Z"
   },
   {
    "duration": 58,
    "start_time": "2022-10-02T01:03:47.876Z"
   },
   {
    "duration": 56,
    "start_time": "2022-10-02T01:03:47.936Z"
   },
   {
    "duration": 28,
    "start_time": "2022-10-02T01:03:47.994Z"
   },
   {
    "duration": 32,
    "start_time": "2022-10-02T01:03:48.024Z"
   },
   {
    "duration": 35,
    "start_time": "2022-10-02T01:03:48.058Z"
   },
   {
    "duration": 25,
    "start_time": "2022-10-02T01:03:48.094Z"
   },
   {
    "duration": 35,
    "start_time": "2022-10-02T01:03:48.120Z"
   },
   {
    "duration": 15,
    "start_time": "2022-10-02T01:03:48.157Z"
   },
   {
    "duration": 32,
    "start_time": "2022-10-02T01:03:48.174Z"
   },
   {
    "duration": 51,
    "start_time": "2022-10-02T01:03:48.207Z"
   },
   {
    "duration": 14,
    "start_time": "2022-10-02T01:03:48.259Z"
   },
   {
    "duration": 52,
    "start_time": "2022-10-02T01:03:48.275Z"
   },
   {
    "duration": 252,
    "start_time": "2022-10-02T01:03:48.329Z"
   },
   {
    "duration": 28,
    "start_time": "2022-10-02T01:03:48.582Z"
   },
   {
    "duration": 791,
    "start_time": "2022-10-02T01:03:48.614Z"
   },
   {
    "duration": 480,
    "start_time": "2022-10-02T01:03:49.406Z"
   },
   {
    "duration": 78,
    "start_time": "2022-10-02T01:03:49.889Z"
   },
   {
    "duration": 110,
    "start_time": "2022-10-02T01:03:49.969Z"
   },
   {
    "duration": 17,
    "start_time": "2022-10-02T01:03:50.080Z"
   },
   {
    "duration": 16,
    "start_time": "2022-10-02T01:03:50.099Z"
   },
   {
    "duration": 58,
    "start_time": "2022-10-02T01:03:50.117Z"
   },
   {
    "duration": 17,
    "start_time": "2022-10-02T01:03:50.176Z"
   },
   {
    "duration": 17,
    "start_time": "2022-10-02T01:03:50.194Z"
   },
   {
    "duration": 16,
    "start_time": "2022-10-02T01:03:50.213Z"
   },
   {
    "duration": 34,
    "start_time": "2022-10-02T01:03:50.230Z"
   },
   {
    "duration": 1596,
    "start_time": "2022-10-03T00:03:47.020Z"
   },
   {
    "duration": 1015,
    "start_time": "2022-10-03T00:03:48.618Z"
   },
   {
    "duration": 140,
    "start_time": "2022-10-03T00:03:49.635Z"
   },
   {
    "duration": 19,
    "start_time": "2022-10-03T00:03:49.778Z"
   },
   {
    "duration": 7,
    "start_time": "2022-10-03T00:03:49.799Z"
   },
   {
    "duration": 31,
    "start_time": "2022-10-03T00:04:23.240Z"
   },
   {
    "duration": 27,
    "start_time": "2022-10-03T00:04:32.448Z"
   },
   {
    "duration": 13,
    "start_time": "2022-10-03T00:04:38.347Z"
   },
   {
    "duration": 7,
    "start_time": "2022-10-03T00:04:42.021Z"
   },
   {
    "duration": 12,
    "start_time": "2022-10-03T00:04:51.059Z"
   },
   {
    "duration": 10,
    "start_time": "2022-10-03T00:04:51.393Z"
   },
   {
    "duration": 15,
    "start_time": "2022-10-03T00:04:52.626Z"
   },
   {
    "duration": 839,
    "start_time": "2022-10-03T00:04:55.256Z"
   },
   {
    "duration": 119,
    "start_time": "2022-10-03T00:05:07.302Z"
   },
   {
    "duration": 35,
    "start_time": "2022-10-03T00:05:08.779Z"
   },
   {
    "duration": 17,
    "start_time": "2022-10-03T00:05:10.541Z"
   },
   {
    "duration": 99,
    "start_time": "2022-10-03T00:05:11.804Z"
   },
   {
    "duration": 57,
    "start_time": "2022-10-03T00:05:15.712Z"
   },
   {
    "duration": 44,
    "start_time": "2022-10-03T00:05:22.961Z"
   },
   {
    "duration": 11,
    "start_time": "2022-10-03T00:08:05.187Z"
   },
   {
    "duration": 39,
    "start_time": "2022-10-03T00:08:08.084Z"
   },
   {
    "duration": 27,
    "start_time": "2022-10-03T00:08:11.280Z"
   },
   {
    "duration": 1390,
    "start_time": "2022-10-03T00:09:29.184Z"
   },
   {
    "duration": 672,
    "start_time": "2022-10-03T00:09:30.576Z"
   },
   {
    "duration": 117,
    "start_time": "2022-10-03T00:09:31.249Z"
   },
   {
    "duration": 21,
    "start_time": "2022-10-03T00:09:31.369Z"
   },
   {
    "duration": 8,
    "start_time": "2022-10-03T00:09:31.393Z"
   },
   {
    "duration": 19,
    "start_time": "2022-10-03T00:09:31.403Z"
   },
   {
    "duration": 34,
    "start_time": "2022-10-03T00:09:31.424Z"
   },
   {
    "duration": 31,
    "start_time": "2022-10-03T00:09:31.460Z"
   },
   {
    "duration": 901,
    "start_time": "2022-10-03T00:09:31.493Z"
   },
   {
    "duration": 92,
    "start_time": "2022-10-03T00:09:32.397Z"
   },
   {
    "duration": 35,
    "start_time": "2022-10-03T00:09:32.491Z"
   },
   {
    "duration": 37,
    "start_time": "2022-10-03T00:09:32.528Z"
   },
   {
    "duration": 55,
    "start_time": "2022-10-03T00:09:32.567Z"
   },
   {
    "duration": 57,
    "start_time": "2022-10-03T00:09:32.624Z"
   },
   {
    "duration": 30,
    "start_time": "2022-10-03T00:09:32.683Z"
   },
   {
    "duration": 10,
    "start_time": "2022-10-03T00:09:32.715Z"
   },
   {
    "duration": 39,
    "start_time": "2022-10-03T00:09:32.754Z"
   },
   {
    "duration": 27,
    "start_time": "2022-10-03T00:09:32.794Z"
   },
   {
    "duration": 37,
    "start_time": "2022-10-03T00:09:32.823Z"
   },
   {
    "duration": 14,
    "start_time": "2022-10-03T00:09:32.863Z"
   },
   {
    "duration": 33,
    "start_time": "2022-10-03T00:09:32.879Z"
   },
   {
    "duration": 64,
    "start_time": "2022-10-03T00:09:32.913Z"
   },
   {
    "duration": 16,
    "start_time": "2022-10-03T00:09:32.979Z"
   },
   {
    "duration": 74,
    "start_time": "2022-10-03T00:09:32.997Z"
   },
   {
    "duration": 234,
    "start_time": "2022-10-03T00:09:33.073Z"
   },
   {
    "duration": 49,
    "start_time": "2022-10-03T00:09:33.309Z"
   },
   {
    "duration": 832,
    "start_time": "2022-10-03T00:09:33.361Z"
   },
   {
    "duration": 581,
    "start_time": "2022-10-03T00:09:34.196Z"
   },
   {
    "duration": 87,
    "start_time": "2022-10-03T00:09:34.780Z"
   },
   {
    "duration": 107,
    "start_time": "2022-10-03T00:09:34.870Z"
   },
   {
    "duration": 24,
    "start_time": "2022-10-03T00:09:34.979Z"
   },
   {
    "duration": 25,
    "start_time": "2022-10-03T00:09:35.005Z"
   },
   {
    "duration": 41,
    "start_time": "2022-10-03T00:09:35.055Z"
   },
   {
    "duration": 16,
    "start_time": "2022-10-03T00:09:35.098Z"
   },
   {
    "duration": 5,
    "start_time": "2022-10-03T00:09:35.116Z"
   },
   {
    "duration": 33,
    "start_time": "2022-10-03T00:09:35.123Z"
   },
   {
    "duration": 41,
    "start_time": "2022-10-03T00:09:35.158Z"
   }
  ],
  "kernelspec": {
   "display_name": "Python 3 (ipykernel)",
   "language": "python",
   "name": "python3"
  },
  "language_info": {
   "codemirror_mode": {
    "name": "ipython",
    "version": 3
   },
   "file_extension": ".py",
   "mimetype": "text/x-python",
   "name": "python",
   "nbconvert_exporter": "python",
   "pygments_lexer": "ipython3",
   "version": "3.9.7"
  },
  "toc": {
   "base_numbering": 1,
   "nav_menu": {},
   "number_sections": true,
   "sideBar": true,
   "skip_h1_title": true,
   "title_cell": "Table of Contents",
   "title_sidebar": "Contents",
   "toc_cell": false,
   "toc_position": {},
   "toc_section_display": true,
   "toc_window_display": false
  }
 },
 "nbformat": 4,
 "nbformat_minor": 2
}
