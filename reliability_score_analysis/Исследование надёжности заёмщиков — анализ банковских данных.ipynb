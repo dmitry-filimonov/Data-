{
 "cells": [
  {
   "cell_type": "markdown",
   "id": "d9c1c54b",
   "metadata": {},
   "source": [
    "# Исследование надежности заемщиков."
   ]
  },
  {
   "cell_type": "markdown",
   "id": "7a2eba32",
   "metadata": {},
   "source": [
    "Заказчик — кредитный отдел банка. Необходимо установить, влияет ли семейное положение и количество детей клиента на факт погашения кредита в срок. Входные данные от банка — статистика о платёжеспособности клиентов.\n",
    "Результаты исследования будут учтены при построении модели кредитного скоринга — специальной системы, которая оценивает способность потенциального заёмщика вернуть кредит банку.\n",
    "\n",
    "**Цель исследования** — сделать обзор и предобработку данных с целью ответа на вопросы заказчика, с последовательным формированием общего вывода:\n",
    "\n",
    "* Есть ли зависимость между количеством детей и возвратом кредита в срок?\n",
    "* Есть ли зависимость между семейным положением и возвратом кредита в срок?\n",
    "* Есть ли зависимость между уровнем дохода и возвратом кредита в срок?\n",
    "* Как разные цели кредита влияют на его возврат в срок?\n",
    "\n",
    "\n",
    "**Ход исследования**\n",
    "\n",
    "Данные для выполнения задачи будут получены из файла `data.csv`. При обзоре данных будет совершена проверка на возможные ошибки, которые могут помещать исследованию. После будет совершена предобработка данных с целью исправления ошибок, а также необзодимы группировка и сортировка данных для наглядности формируемых выводов исследования. Затем обработанные данные будут проанализированы с целью поиска ответов на вопросы, а на их основе будет сформирован общий вывод.\n",
    " \n",
    "Таким образом, исследование пройдёт в четыре этапа:\n",
    " 1. [**Обзор данных**](#1)\n",
    " 2. [**Предобработка данных**](#2)\n",
    " 3. [**Ответы на вопросы**](#3)\n",
    " 4. [**Вывод**](#4)\n",
    "\n",
    "\n",
    "\n"
   ]
  },
  {
   "cell_type": "markdown",
   "id": "9b09772c",
   "metadata": {},
   "source": [
    "<a id='1'></a>"
   ]
  },
  {
   "cell_type": "markdown",
   "id": "a386affa",
   "metadata": {},
   "source": [
    "## Обзор данных"
   ]
  },
  {
   "cell_type": "code",
   "execution_count": 1,
   "id": "ad7dce1c",
   "metadata": {},
   "outputs": [],
   "source": [
    "# импортируем библиотеки для работы с данными\n",
    "\n",
    "import os\n",
    "import pandas as pd \n",
    "\n",
    "pd.options.display.float_format = '{:,.2f}'.format\n",
    "pd.options.mode.chained_assignment = None\n",
    "os.chdir('C:\\\\Users\\\\dmitr\\\\GitHub\\\\Practicum-Data-Analysis\\\\datasets')"
   ]
  },
  {
   "cell_type": "code",
   "execution_count": 2,
   "id": "f96301cd",
   "metadata": {
    "scrolled": true
   },
   "outputs": [
    {
     "name": "stdout",
     "output_type": "stream",
     "text": [
      "<class 'pandas.core.frame.DataFrame'>\n",
      "RangeIndex: 21525 entries, 0 to 21524\n",
      "Data columns (total 12 columns):\n",
      " #   Column            Non-Null Count  Dtype  \n",
      "---  ------            --------------  -----  \n",
      " 0   children          21525 non-null  int64  \n",
      " 1   days_employed     19351 non-null  float64\n",
      " 2   dob_years         21525 non-null  int64  \n",
      " 3   education         21525 non-null  object \n",
      " 4   education_id      21525 non-null  int64  \n",
      " 5   family_status     21525 non-null  object \n",
      " 6   family_status_id  21525 non-null  int64  \n",
      " 7   gender            21525 non-null  object \n",
      " 8   income_type       21525 non-null  object \n",
      " 9   debt              21525 non-null  int64  \n",
      " 10  total_income      19351 non-null  float64\n",
      " 11  purpose           21525 non-null  object \n",
      "dtypes: float64(2), int64(5), object(5)\n",
      "memory usage: 2.0+ MB\n"
     ]
    }
   ],
   "source": [
    "# импортируем файл с данными и выводим общую информацию о таблице\n",
    "\n",
    "df = pd.read_csv('data.csv')\n",
    "df.info() "
   ]
  },
  {
   "cell_type": "markdown",
   "id": "6d65994d",
   "metadata": {},
   "source": [
    "Таблица содержит 12 столбцов, содержащих 3 типа данных — `object`, `int` и `float`.\n",
    "\n",
    "Описание данных согласно документации:\n",
    "    \n",
    "* `children` — количество детей в семье\n",
    "* `days_employed` — общий трудовой стаж в днях\n",
    "* `dob_years` — возраст клиента в годах\n",
    "* `education` — уровень образования клиента\n",
    "* `education_id` — идентификатор уровня образования\n",
    "* `family_status` — семейное положение\n",
    "* `family_status_id` — идентификатор семейного положения\n",
    "* `gender` — пол клиента\n",
    "* `income_type` — тип занятости\n",
    "* `debt` — имел ли задолженность по возврату кредитов\n",
    "* `total_income` — ежемесячный доход\n",
    "* `purpose` — цель получения кредита\n",
    "\n",
    "total_images — число фотографий квартиры в объявлении\n",
    "\n",
    "Столбцы `days_employed` и `total_income` имеют меньше данных, чем все остальные, что указывает на наличие пропущенных значений, причём количество пропусков идентично, что может указывать на общую причину отсутствия данных. Столбцы `education` и `family` имеют соответствующие столбцы с идентификаторами, что позже позволит вынести значения столбцов в отдельные таблицы и оставить в основном датафрейме лишь идентификаторы, тем самым упростив чтение данных."
   ]
  },
  {
   "cell_type": "code",
   "execution_count": 3,
   "id": "8e8ecf49",
   "metadata": {
    "scrolled": false
   },
   "outputs": [
    {
     "data": {
      "text/html": [
       "<div>\n",
       "<style scoped>\n",
       "    .dataframe tbody tr th:only-of-type {\n",
       "        vertical-align: middle;\n",
       "    }\n",
       "\n",
       "    .dataframe tbody tr th {\n",
       "        vertical-align: top;\n",
       "    }\n",
       "\n",
       "    .dataframe thead th {\n",
       "        text-align: right;\n",
       "    }\n",
       "</style>\n",
       "<table border=\"1\" class=\"dataframe\">\n",
       "  <thead>\n",
       "    <tr style=\"text-align: right;\">\n",
       "      <th></th>\n",
       "      <th>children</th>\n",
       "      <th>days_employed</th>\n",
       "      <th>dob_years</th>\n",
       "      <th>education</th>\n",
       "      <th>education_id</th>\n",
       "      <th>family_status</th>\n",
       "      <th>family_status_id</th>\n",
       "      <th>gender</th>\n",
       "      <th>income_type</th>\n",
       "      <th>debt</th>\n",
       "      <th>total_income</th>\n",
       "      <th>purpose</th>\n",
       "    </tr>\n",
       "  </thead>\n",
       "  <tbody>\n",
       "    <tr>\n",
       "      <th>0</th>\n",
       "      <td>1</td>\n",
       "      <td>-8,437.67</td>\n",
       "      <td>42</td>\n",
       "      <td>высшее</td>\n",
       "      <td>0</td>\n",
       "      <td>женат / замужем</td>\n",
       "      <td>0</td>\n",
       "      <td>F</td>\n",
       "      <td>сотрудник</td>\n",
       "      <td>0</td>\n",
       "      <td>253,875.64</td>\n",
       "      <td>покупка жилья</td>\n",
       "    </tr>\n",
       "    <tr>\n",
       "      <th>1</th>\n",
       "      <td>1</td>\n",
       "      <td>-4,024.80</td>\n",
       "      <td>36</td>\n",
       "      <td>среднее</td>\n",
       "      <td>1</td>\n",
       "      <td>женат / замужем</td>\n",
       "      <td>0</td>\n",
       "      <td>F</td>\n",
       "      <td>сотрудник</td>\n",
       "      <td>0</td>\n",
       "      <td>112,080.01</td>\n",
       "      <td>приобретение автомобиля</td>\n",
       "    </tr>\n",
       "    <tr>\n",
       "      <th>2</th>\n",
       "      <td>0</td>\n",
       "      <td>-5,623.42</td>\n",
       "      <td>33</td>\n",
       "      <td>Среднее</td>\n",
       "      <td>1</td>\n",
       "      <td>женат / замужем</td>\n",
       "      <td>0</td>\n",
       "      <td>M</td>\n",
       "      <td>сотрудник</td>\n",
       "      <td>0</td>\n",
       "      <td>145,885.95</td>\n",
       "      <td>покупка жилья</td>\n",
       "    </tr>\n",
       "    <tr>\n",
       "      <th>3</th>\n",
       "      <td>3</td>\n",
       "      <td>-4,124.75</td>\n",
       "      <td>32</td>\n",
       "      <td>среднее</td>\n",
       "      <td>1</td>\n",
       "      <td>женат / замужем</td>\n",
       "      <td>0</td>\n",
       "      <td>M</td>\n",
       "      <td>сотрудник</td>\n",
       "      <td>0</td>\n",
       "      <td>267,628.55</td>\n",
       "      <td>дополнительное образование</td>\n",
       "    </tr>\n",
       "    <tr>\n",
       "      <th>4</th>\n",
       "      <td>0</td>\n",
       "      <td>340,266.07</td>\n",
       "      <td>53</td>\n",
       "      <td>среднее</td>\n",
       "      <td>1</td>\n",
       "      <td>гражданский брак</td>\n",
       "      <td>1</td>\n",
       "      <td>F</td>\n",
       "      <td>пенсионер</td>\n",
       "      <td>0</td>\n",
       "      <td>158,616.08</td>\n",
       "      <td>сыграть свадьбу</td>\n",
       "    </tr>\n",
       "    <tr>\n",
       "      <th>5</th>\n",
       "      <td>0</td>\n",
       "      <td>-926.19</td>\n",
       "      <td>27</td>\n",
       "      <td>высшее</td>\n",
       "      <td>0</td>\n",
       "      <td>гражданский брак</td>\n",
       "      <td>1</td>\n",
       "      <td>M</td>\n",
       "      <td>компаньон</td>\n",
       "      <td>0</td>\n",
       "      <td>255,763.57</td>\n",
       "      <td>покупка жилья</td>\n",
       "    </tr>\n",
       "    <tr>\n",
       "      <th>6</th>\n",
       "      <td>0</td>\n",
       "      <td>-2,879.20</td>\n",
       "      <td>43</td>\n",
       "      <td>высшее</td>\n",
       "      <td>0</td>\n",
       "      <td>женат / замужем</td>\n",
       "      <td>0</td>\n",
       "      <td>F</td>\n",
       "      <td>компаньон</td>\n",
       "      <td>0</td>\n",
       "      <td>240,525.97</td>\n",
       "      <td>операции с жильем</td>\n",
       "    </tr>\n",
       "    <tr>\n",
       "      <th>7</th>\n",
       "      <td>0</td>\n",
       "      <td>-152.78</td>\n",
       "      <td>50</td>\n",
       "      <td>СРЕДНЕЕ</td>\n",
       "      <td>1</td>\n",
       "      <td>женат / замужем</td>\n",
       "      <td>0</td>\n",
       "      <td>M</td>\n",
       "      <td>сотрудник</td>\n",
       "      <td>0</td>\n",
       "      <td>135,823.93</td>\n",
       "      <td>образование</td>\n",
       "    </tr>\n",
       "    <tr>\n",
       "      <th>8</th>\n",
       "      <td>2</td>\n",
       "      <td>-6,929.87</td>\n",
       "      <td>35</td>\n",
       "      <td>ВЫСШЕЕ</td>\n",
       "      <td>0</td>\n",
       "      <td>гражданский брак</td>\n",
       "      <td>1</td>\n",
       "      <td>F</td>\n",
       "      <td>сотрудник</td>\n",
       "      <td>0</td>\n",
       "      <td>95,856.83</td>\n",
       "      <td>на проведение свадьбы</td>\n",
       "    </tr>\n",
       "    <tr>\n",
       "      <th>9</th>\n",
       "      <td>0</td>\n",
       "      <td>-2,188.76</td>\n",
       "      <td>41</td>\n",
       "      <td>среднее</td>\n",
       "      <td>1</td>\n",
       "      <td>женат / замужем</td>\n",
       "      <td>0</td>\n",
       "      <td>M</td>\n",
       "      <td>сотрудник</td>\n",
       "      <td>0</td>\n",
       "      <td>144,425.94</td>\n",
       "      <td>покупка жилья для семьи</td>\n",
       "    </tr>\n",
       "  </tbody>\n",
       "</table>\n",
       "</div>"
      ],
      "text/plain": [
       "   children  days_employed  dob_years education  education_id  \\\n",
       "0         1      -8,437.67         42    высшее             0   \n",
       "1         1      -4,024.80         36   среднее             1   \n",
       "2         0      -5,623.42         33   Среднее             1   \n",
       "3         3      -4,124.75         32   среднее             1   \n",
       "4         0     340,266.07         53   среднее             1   \n",
       "5         0        -926.19         27    высшее             0   \n",
       "6         0      -2,879.20         43    высшее             0   \n",
       "7         0        -152.78         50   СРЕДНЕЕ             1   \n",
       "8         2      -6,929.87         35    ВЫСШЕЕ             0   \n",
       "9         0      -2,188.76         41   среднее             1   \n",
       "\n",
       "      family_status  family_status_id gender income_type  debt  total_income  \\\n",
       "0   женат / замужем                 0      F   сотрудник     0    253,875.64   \n",
       "1   женат / замужем                 0      F   сотрудник     0    112,080.01   \n",
       "2   женат / замужем                 0      M   сотрудник     0    145,885.95   \n",
       "3   женат / замужем                 0      M   сотрудник     0    267,628.55   \n",
       "4  гражданский брак                 1      F   пенсионер     0    158,616.08   \n",
       "5  гражданский брак                 1      M   компаньон     0    255,763.57   \n",
       "6   женат / замужем                 0      F   компаньон     0    240,525.97   \n",
       "7   женат / замужем                 0      M   сотрудник     0    135,823.93   \n",
       "8  гражданский брак                 1      F   сотрудник     0     95,856.83   \n",
       "9   женат / замужем                 0      M   сотрудник     0    144,425.94   \n",
       "\n",
       "                      purpose  \n",
       "0               покупка жилья  \n",
       "1     приобретение автомобиля  \n",
       "2               покупка жилья  \n",
       "3  дополнительное образование  \n",
       "4             сыграть свадьбу  \n",
       "5               покупка жилья  \n",
       "6           операции с жильем  \n",
       "7                 образование  \n",
       "8       на проведение свадьбы  \n",
       "9     покупка жилья для семьи  "
      ]
     },
     "execution_count": 3,
     "metadata": {},
     "output_type": "execute_result"
    }
   ],
   "source": [
    "# выводим первые 10 строк датафрейма для обзора данных\n",
    "\n",
    "df.head(10) "
   ]
  },
  {
   "cell_type": "markdown",
   "id": "b413993d",
   "metadata": {},
   "source": [
    "Вывод первых 10 строк датафрейма позволил выявить следующее:\n",
    "\n",
    "1. Столбец `days_employed` помимо пропусков содержит аномальные данные - большинство данных имеют отрицательные значение, а значение в строке с индексом `4` подразумевает, что клиент имеет рабочий стаж около 932 лет (340266 дней стажа / 365 дней в году). Возможна ошибка при выгрузке или неверный формат данных - необходимо выяснить природу аномалий на этапе предобработки данных.\n",
    "<br>\n",
    "<br>\n",
    "2. В столбце `education` содержатся дубликаты - одинаковые значения в разных регистрах.\n",
    "<br>\n",
    "<br>\n",
    "3. Данные из `total_income` представлены в формате `float`, что потенциально не имеет необходимости и лишь затрудняет чтение таблицы из-за количества знаков после запятой. Пропуск в строке с индексом `12` может быть связан с отсутствием дохода у клиента, так как в этой же строке пропущено значение в столбце `days_employed`(трудовой стаж) - если эта гипотеза подтвердится, то пропуски можно будет заменить нулевыми значениями."
   ]
  },
  {
   "cell_type": "markdown",
   "id": "be9931fb",
   "metadata": {},
   "source": [
    "<a id='2'></a>"
   ]
  },
  {
   "cell_type": "markdown",
   "id": "ffc72b17",
   "metadata": {},
   "source": [
    "## Предобработка данных"
   ]
  },
  {
   "cell_type": "markdown",
   "id": "6d2be0c9",
   "metadata": {},
   "source": [
    "### Заполнение пропусков"
   ]
  },
  {
   "cell_type": "markdown",
   "id": "e4a3472f",
   "metadata": {},
   "source": [
    "Первым этапом предобработки данных станет заполнение пропущенных значений. В столбце `total_income` при первичном обзоре не было выявлено аномальных значений, потому следует начать с него."
   ]
  },
  {
   "cell_type": "code",
   "execution_count": 4,
   "id": "cac5f59a",
   "metadata": {
    "scrolled": false
   },
   "outputs": [
    {
     "data": {
      "text/html": [
       "<div>\n",
       "<style scoped>\n",
       "    .dataframe tbody tr th:only-of-type {\n",
       "        vertical-align: middle;\n",
       "    }\n",
       "\n",
       "    .dataframe tbody tr th {\n",
       "        vertical-align: top;\n",
       "    }\n",
       "\n",
       "    .dataframe thead th {\n",
       "        text-align: right;\n",
       "    }\n",
       "</style>\n",
       "<table border=\"1\" class=\"dataframe\">\n",
       "  <thead>\n",
       "    <tr style=\"text-align: right;\">\n",
       "      <th></th>\n",
       "      <th>children</th>\n",
       "      <th>days_employed</th>\n",
       "      <th>dob_years</th>\n",
       "      <th>education</th>\n",
       "      <th>education_id</th>\n",
       "      <th>family_status</th>\n",
       "      <th>family_status_id</th>\n",
       "      <th>gender</th>\n",
       "      <th>income_type</th>\n",
       "      <th>debt</th>\n",
       "      <th>total_income</th>\n",
       "      <th>purpose</th>\n",
       "    </tr>\n",
       "  </thead>\n",
       "  <tbody>\n",
       "    <tr>\n",
       "      <th>12</th>\n",
       "      <td>0</td>\n",
       "      <td>NaN</td>\n",
       "      <td>65</td>\n",
       "      <td>среднее</td>\n",
       "      <td>1</td>\n",
       "      <td>гражданский брак</td>\n",
       "      <td>1</td>\n",
       "      <td>M</td>\n",
       "      <td>пенсионер</td>\n",
       "      <td>0</td>\n",
       "      <td>NaN</td>\n",
       "      <td>сыграть свадьбу</td>\n",
       "    </tr>\n",
       "    <tr>\n",
       "      <th>26</th>\n",
       "      <td>0</td>\n",
       "      <td>NaN</td>\n",
       "      <td>41</td>\n",
       "      <td>среднее</td>\n",
       "      <td>1</td>\n",
       "      <td>женат / замужем</td>\n",
       "      <td>0</td>\n",
       "      <td>M</td>\n",
       "      <td>госслужащий</td>\n",
       "      <td>0</td>\n",
       "      <td>NaN</td>\n",
       "      <td>образование</td>\n",
       "    </tr>\n",
       "    <tr>\n",
       "      <th>29</th>\n",
       "      <td>0</td>\n",
       "      <td>NaN</td>\n",
       "      <td>63</td>\n",
       "      <td>среднее</td>\n",
       "      <td>1</td>\n",
       "      <td>Не женат / не замужем</td>\n",
       "      <td>4</td>\n",
       "      <td>F</td>\n",
       "      <td>пенсионер</td>\n",
       "      <td>0</td>\n",
       "      <td>NaN</td>\n",
       "      <td>строительство жилой недвижимости</td>\n",
       "    </tr>\n",
       "    <tr>\n",
       "      <th>41</th>\n",
       "      <td>0</td>\n",
       "      <td>NaN</td>\n",
       "      <td>50</td>\n",
       "      <td>среднее</td>\n",
       "      <td>1</td>\n",
       "      <td>женат / замужем</td>\n",
       "      <td>0</td>\n",
       "      <td>F</td>\n",
       "      <td>госслужащий</td>\n",
       "      <td>0</td>\n",
       "      <td>NaN</td>\n",
       "      <td>сделка с подержанным автомобилем</td>\n",
       "    </tr>\n",
       "    <tr>\n",
       "      <th>55</th>\n",
       "      <td>0</td>\n",
       "      <td>NaN</td>\n",
       "      <td>54</td>\n",
       "      <td>среднее</td>\n",
       "      <td>1</td>\n",
       "      <td>гражданский брак</td>\n",
       "      <td>1</td>\n",
       "      <td>F</td>\n",
       "      <td>пенсионер</td>\n",
       "      <td>1</td>\n",
       "      <td>NaN</td>\n",
       "      <td>сыграть свадьбу</td>\n",
       "    </tr>\n",
       "    <tr>\n",
       "      <th>65</th>\n",
       "      <td>0</td>\n",
       "      <td>NaN</td>\n",
       "      <td>21</td>\n",
       "      <td>среднее</td>\n",
       "      <td>1</td>\n",
       "      <td>Не женат / не замужем</td>\n",
       "      <td>4</td>\n",
       "      <td>M</td>\n",
       "      <td>компаньон</td>\n",
       "      <td>0</td>\n",
       "      <td>NaN</td>\n",
       "      <td>операции с коммерческой недвижимостью</td>\n",
       "    </tr>\n",
       "    <tr>\n",
       "      <th>67</th>\n",
       "      <td>0</td>\n",
       "      <td>NaN</td>\n",
       "      <td>52</td>\n",
       "      <td>высшее</td>\n",
       "      <td>0</td>\n",
       "      <td>женат / замужем</td>\n",
       "      <td>0</td>\n",
       "      <td>F</td>\n",
       "      <td>пенсионер</td>\n",
       "      <td>0</td>\n",
       "      <td>NaN</td>\n",
       "      <td>покупка жилья для семьи</td>\n",
       "    </tr>\n",
       "    <tr>\n",
       "      <th>72</th>\n",
       "      <td>1</td>\n",
       "      <td>NaN</td>\n",
       "      <td>32</td>\n",
       "      <td>высшее</td>\n",
       "      <td>0</td>\n",
       "      <td>женат / замужем</td>\n",
       "      <td>0</td>\n",
       "      <td>M</td>\n",
       "      <td>госслужащий</td>\n",
       "      <td>0</td>\n",
       "      <td>NaN</td>\n",
       "      <td>операции с коммерческой недвижимостью</td>\n",
       "    </tr>\n",
       "    <tr>\n",
       "      <th>82</th>\n",
       "      <td>2</td>\n",
       "      <td>NaN</td>\n",
       "      <td>50</td>\n",
       "      <td>высшее</td>\n",
       "      <td>0</td>\n",
       "      <td>женат / замужем</td>\n",
       "      <td>0</td>\n",
       "      <td>F</td>\n",
       "      <td>сотрудник</td>\n",
       "      <td>0</td>\n",
       "      <td>NaN</td>\n",
       "      <td>жилье</td>\n",
       "    </tr>\n",
       "    <tr>\n",
       "      <th>83</th>\n",
       "      <td>0</td>\n",
       "      <td>NaN</td>\n",
       "      <td>52</td>\n",
       "      <td>среднее</td>\n",
       "      <td>1</td>\n",
       "      <td>женат / замужем</td>\n",
       "      <td>0</td>\n",
       "      <td>M</td>\n",
       "      <td>сотрудник</td>\n",
       "      <td>0</td>\n",
       "      <td>NaN</td>\n",
       "      <td>жилье</td>\n",
       "    </tr>\n",
       "  </tbody>\n",
       "</table>\n",
       "</div>"
      ],
      "text/plain": [
       "    children  days_employed  dob_years education  education_id  \\\n",
       "12         0            NaN         65   среднее             1   \n",
       "26         0            NaN         41   среднее             1   \n",
       "29         0            NaN         63   среднее             1   \n",
       "41         0            NaN         50   среднее             1   \n",
       "55         0            NaN         54   среднее             1   \n",
       "65         0            NaN         21   среднее             1   \n",
       "67         0            NaN         52    высшее             0   \n",
       "72         1            NaN         32    высшее             0   \n",
       "82         2            NaN         50    высшее             0   \n",
       "83         0            NaN         52   среднее             1   \n",
       "\n",
       "            family_status  family_status_id gender  income_type  debt  \\\n",
       "12       гражданский брак                 1      M    пенсионер     0   \n",
       "26        женат / замужем                 0      M  госслужащий     0   \n",
       "29  Не женат / не замужем                 4      F    пенсионер     0   \n",
       "41        женат / замужем                 0      F  госслужащий     0   \n",
       "55       гражданский брак                 1      F    пенсионер     1   \n",
       "65  Не женат / не замужем                 4      M    компаньон     0   \n",
       "67        женат / замужем                 0      F    пенсионер     0   \n",
       "72        женат / замужем                 0      M  госслужащий     0   \n",
       "82        женат / замужем                 0      F    сотрудник     0   \n",
       "83        женат / замужем                 0      M    сотрудник     0   \n",
       "\n",
       "    total_income                                purpose  \n",
       "12           NaN                        сыграть свадьбу  \n",
       "26           NaN                            образование  \n",
       "29           NaN       строительство жилой недвижимости  \n",
       "41           NaN       сделка с подержанным автомобилем  \n",
       "55           NaN                        сыграть свадьбу  \n",
       "65           NaN  операции с коммерческой недвижимостью  \n",
       "67           NaN                покупка жилья для семьи  \n",
       "72           NaN  операции с коммерческой недвижимостью  \n",
       "82           NaN                                  жилье  \n",
       "83           NaN                                  жилье  "
      ]
     },
     "execution_count": 4,
     "metadata": {},
     "output_type": "execute_result"
    }
   ],
   "source": [
    "# вывод первых 10 строк с пропущенными значениями в столбце\n",
    "\n",
    "df[df['total_income'].isna()].head(10) "
   ]
  },
  {
   "cell_type": "markdown",
   "id": "a5e9daf2",
   "metadata": {},
   "source": [
    "При обзоре данных было видвинуто предположение, что отсутствие дохода может быть связано с отсутствием трудового стажа у клиента, и как видно из таблицы - все строки с пропусками в столбце `total_income` действительно также содержат пропуски в столбце `days_employed`. Но при этом нет пропусков в столбце `income_type`(занятость клиента), а наличие в нём данных подразумевает минимальный трудовой стаж или доход. Проанализируем уникальные значения столбца `income_type`, другими словами - узнаем, какие есть типы занятости в таблице:"
   ]
  },
  {
   "cell_type": "code",
   "execution_count": 5,
   "id": "3f607879",
   "metadata": {},
   "outputs": [
    {
     "data": {
      "text/plain": [
       "array(['сотрудник', 'пенсионер', 'компаньон', 'госслужащий',\n",
       "       'безработный', 'предприниматель', 'студент', 'в декрете'],\n",
       "      dtype=object)"
      ]
     },
     "execution_count": 5,
     "metadata": {},
     "output_type": "execute_result"
    }
   ],
   "source": [
    "# выводим уникальные значения занятости клиентов\n",
    "\n",
    "df['income_type'].unique() "
   ]
  },
  {
   "cell_type": "markdown",
   "id": "eca12026",
   "metadata": {},
   "source": [
    "В полученном множестве можно увидеть несколько категорий, обычно не подразумевающих наличие дохода: `безработный`, `студент` и `в декрете`. Выведем строки с этими данными в столбце `income_type`, чтобы проверить это предположение:"
   ]
  },
  {
   "cell_type": "code",
   "execution_count": 6,
   "id": "0522bee0",
   "metadata": {
    "scrolled": true
   },
   "outputs": [
    {
     "data": {
      "text/html": [
       "<div>\n",
       "<style scoped>\n",
       "    .dataframe tbody tr th:only-of-type {\n",
       "        vertical-align: middle;\n",
       "    }\n",
       "\n",
       "    .dataframe tbody tr th {\n",
       "        vertical-align: top;\n",
       "    }\n",
       "\n",
       "    .dataframe thead th {\n",
       "        text-align: right;\n",
       "    }\n",
       "</style>\n",
       "<table border=\"1\" class=\"dataframe\">\n",
       "  <thead>\n",
       "    <tr style=\"text-align: right;\">\n",
       "      <th></th>\n",
       "      <th>children</th>\n",
       "      <th>days_employed</th>\n",
       "      <th>dob_years</th>\n",
       "      <th>education</th>\n",
       "      <th>education_id</th>\n",
       "      <th>family_status</th>\n",
       "      <th>family_status_id</th>\n",
       "      <th>gender</th>\n",
       "      <th>income_type</th>\n",
       "      <th>debt</th>\n",
       "      <th>total_income</th>\n",
       "      <th>purpose</th>\n",
       "    </tr>\n",
       "  </thead>\n",
       "  <tbody>\n",
       "    <tr>\n",
       "      <th>9410</th>\n",
       "      <td>0</td>\n",
       "      <td>-578.75</td>\n",
       "      <td>22</td>\n",
       "      <td>высшее</td>\n",
       "      <td>0</td>\n",
       "      <td>Не женат / не замужем</td>\n",
       "      <td>4</td>\n",
       "      <td>M</td>\n",
       "      <td>студент</td>\n",
       "      <td>0</td>\n",
       "      <td>98,201.63</td>\n",
       "      <td>строительство собственной недвижимости</td>\n",
       "    </tr>\n",
       "  </tbody>\n",
       "</table>\n",
       "</div>"
      ],
      "text/plain": [
       "      children  days_employed  dob_years education  education_id  \\\n",
       "9410         0        -578.75         22    высшее             0   \n",
       "\n",
       "              family_status  family_status_id gender income_type  debt  \\\n",
       "9410  Не женат / не замужем                 4      M     студент     0   \n",
       "\n",
       "      total_income                                 purpose  \n",
       "9410     98,201.63  строительство собственной недвижимости  "
      ]
     },
     "metadata": {},
     "output_type": "display_data"
    },
    {
     "data": {
      "text/html": [
       "<div>\n",
       "<style scoped>\n",
       "    .dataframe tbody tr th:only-of-type {\n",
       "        vertical-align: middle;\n",
       "    }\n",
       "\n",
       "    .dataframe tbody tr th {\n",
       "        vertical-align: top;\n",
       "    }\n",
       "\n",
       "    .dataframe thead th {\n",
       "        text-align: right;\n",
       "    }\n",
       "</style>\n",
       "<table border=\"1\" class=\"dataframe\">\n",
       "  <thead>\n",
       "    <tr style=\"text-align: right;\">\n",
       "      <th></th>\n",
       "      <th>children</th>\n",
       "      <th>days_employed</th>\n",
       "      <th>dob_years</th>\n",
       "      <th>education</th>\n",
       "      <th>education_id</th>\n",
       "      <th>family_status</th>\n",
       "      <th>family_status_id</th>\n",
       "      <th>gender</th>\n",
       "      <th>income_type</th>\n",
       "      <th>debt</th>\n",
       "      <th>total_income</th>\n",
       "      <th>purpose</th>\n",
       "    </tr>\n",
       "  </thead>\n",
       "  <tbody>\n",
       "    <tr>\n",
       "      <th>3133</th>\n",
       "      <td>1</td>\n",
       "      <td>337,524.47</td>\n",
       "      <td>31</td>\n",
       "      <td>среднее</td>\n",
       "      <td>1</td>\n",
       "      <td>женат / замужем</td>\n",
       "      <td>0</td>\n",
       "      <td>M</td>\n",
       "      <td>безработный</td>\n",
       "      <td>1</td>\n",
       "      <td>59,956.99</td>\n",
       "      <td>покупка жилья для сдачи</td>\n",
       "    </tr>\n",
       "    <tr>\n",
       "      <th>14798</th>\n",
       "      <td>0</td>\n",
       "      <td>395,302.84</td>\n",
       "      <td>45</td>\n",
       "      <td>Высшее</td>\n",
       "      <td>0</td>\n",
       "      <td>гражданский брак</td>\n",
       "      <td>1</td>\n",
       "      <td>F</td>\n",
       "      <td>безработный</td>\n",
       "      <td>0</td>\n",
       "      <td>202,722.51</td>\n",
       "      <td>ремонт жилью</td>\n",
       "    </tr>\n",
       "  </tbody>\n",
       "</table>\n",
       "</div>"
      ],
      "text/plain": [
       "       children  days_employed  dob_years education  education_id  \\\n",
       "3133          1     337,524.47         31   среднее             1   \n",
       "14798         0     395,302.84         45    Высшее             0   \n",
       "\n",
       "          family_status  family_status_id gender  income_type  debt  \\\n",
       "3133    женат / замужем                 0      M  безработный     1   \n",
       "14798  гражданский брак                 1      F  безработный     0   \n",
       "\n",
       "       total_income                  purpose  \n",
       "3133      59,956.99  покупка жилья для сдачи  \n",
       "14798    202,722.51             ремонт жилью  "
      ]
     },
     "metadata": {},
     "output_type": "display_data"
    },
    {
     "data": {
      "text/html": [
       "<div>\n",
       "<style scoped>\n",
       "    .dataframe tbody tr th:only-of-type {\n",
       "        vertical-align: middle;\n",
       "    }\n",
       "\n",
       "    .dataframe tbody tr th {\n",
       "        vertical-align: top;\n",
       "    }\n",
       "\n",
       "    .dataframe thead th {\n",
       "        text-align: right;\n",
       "    }\n",
       "</style>\n",
       "<table border=\"1\" class=\"dataframe\">\n",
       "  <thead>\n",
       "    <tr style=\"text-align: right;\">\n",
       "      <th></th>\n",
       "      <th>children</th>\n",
       "      <th>days_employed</th>\n",
       "      <th>dob_years</th>\n",
       "      <th>education</th>\n",
       "      <th>education_id</th>\n",
       "      <th>family_status</th>\n",
       "      <th>family_status_id</th>\n",
       "      <th>gender</th>\n",
       "      <th>income_type</th>\n",
       "      <th>debt</th>\n",
       "      <th>total_income</th>\n",
       "      <th>purpose</th>\n",
       "    </tr>\n",
       "  </thead>\n",
       "  <tbody>\n",
       "    <tr>\n",
       "      <th>20845</th>\n",
       "      <td>2</td>\n",
       "      <td>-3,296.76</td>\n",
       "      <td>39</td>\n",
       "      <td>СРЕДНЕЕ</td>\n",
       "      <td>1</td>\n",
       "      <td>женат / замужем</td>\n",
       "      <td>0</td>\n",
       "      <td>F</td>\n",
       "      <td>в декрете</td>\n",
       "      <td>1</td>\n",
       "      <td>53,829.13</td>\n",
       "      <td>автомобиль</td>\n",
       "    </tr>\n",
       "  </tbody>\n",
       "</table>\n",
       "</div>"
      ],
      "text/plain": [
       "       children  days_employed  dob_years education  education_id  \\\n",
       "20845         2      -3,296.76         39   СРЕДНЕЕ             1   \n",
       "\n",
       "         family_status  family_status_id gender income_type  debt  \\\n",
       "20845  женат / замужем                 0      F   в декрете     1   \n",
       "\n",
       "       total_income     purpose  \n",
       "20845     53,829.13  автомобиль  "
      ]
     },
     "metadata": {},
     "output_type": "display_data"
    }
   ],
   "source": [
    "# выводим строки с типами занятости \"безработный\", \"студент\" и \"в декрете\"\n",
    "\n",
    "display(\n",
    "    df[df['income_type'] == 'студент'], \n",
    "    df[df['income_type'] == 'безработный'], \n",
    "    df[df['income_type'] == 'в декрете']\n",
    ")"
   ]
  },
  {
   "cell_type": "markdown",
   "id": "01af111e",
   "metadata": {},
   "source": [
    "Предположение не оправдалось - клиенты всех трёх категорий имеют как и доход, так и трудовой стаж. Связи с типом занятости и наличием пропусков в столбцах с доходом обнаружить не удалось. Так как все остальные категории занятости подразумевают наличие дохода и стажа работы, мы не можем использовать нулевые значения для заполнения пропусков. Расчитаем долю пропущенных данных в столбце с доходом:"
   ]
  },
  {
   "cell_type": "code",
   "execution_count": 7,
   "id": "12620a9f",
   "metadata": {},
   "outputs": [
    {
     "name": "stdout",
     "output_type": "stream",
     "text": [
      "Процент пропусков составляет около 10%.\n"
     ]
    }
   ],
   "source": [
    "# разделяем количество ячеек с пропусками на общее количество ячеек в столбце\n",
    "# и умножаем на 100 для нахождения процента пропущенных значений.\n",
    "\n",
    "na_share = df['total_income'].isna().sum()/len(df['total_income']) * 100\n",
    "print(f'Процент пропусков составляет около {int(na_share)}%.')"
   ]
  },
  {
   "cell_type": "markdown",
   "id": "bc61c1c7",
   "metadata": {},
   "source": [
    "Для заполнения попробуем использовать среднее или медианое значение."
   ]
  },
  {
   "cell_type": "code",
   "execution_count": 8,
   "id": "b96d33b7",
   "metadata": {},
   "outputs": [
    {
     "name": "stdout",
     "output_type": "stream",
     "text": [
      "Значения в столбце:\n",
      "\n",
      "максимальное - 2265604 \n",
      "минимальное - 20667\n",
      "среднее - 167422\n",
      "медианое - 145018\n"
     ]
    }
   ],
   "source": [
    "print(f'''Значения в столбце:\n",
    "\n",
    "максимальное - {round(df['total_income'].max())} \n",
    "минимальное - {round(df['total_income'].min())}\n",
    "среднее - {round(df['total_income'].mean())}\n",
    "медианое - {round(df['total_income'].median())}''')"
   ]
  },
  {
   "cell_type": "markdown",
   "id": "b6d2c88b",
   "metadata": {},
   "source": [
    "Так как мы видим большую разницу между минимальным и максимальным значением столбца, среднее может отображать неверное представление о доходах клиентов. Потому для заполения пропусков используем медианое значение."
   ]
  },
  {
   "cell_type": "code",
   "execution_count": 9,
   "id": "e17c3d24",
   "metadata": {
    "scrolled": true
   },
   "outputs": [
    {
     "data": {
      "text/plain": [
       "children               0\n",
       "days_employed       2174\n",
       "dob_years              0\n",
       "education              0\n",
       "education_id           0\n",
       "family_status          0\n",
       "family_status_id       0\n",
       "gender                 0\n",
       "income_type            0\n",
       "debt                   0\n",
       "total_income           0\n",
       "purpose                0\n",
       "dtype: int64"
      ]
     },
     "execution_count": 9,
     "metadata": {},
     "output_type": "execute_result"
    }
   ],
   "source": [
    " # заполняем пропуски медианым значением\n",
    "    \n",
    "df['total_income'] = (\n",
    "    df['total_income']\n",
    "    .fillna(df['total_income'].median())\n",
    ")\n",
    "\n",
    "df.isna().sum() # выводим информацию о пропущенных значениях в таблице"
   ]
  },
  {
   "cell_type": "markdown",
   "id": "38c293bf",
   "metadata": {},
   "source": [
    "---\n",
    "**Вывод**\n",
    "\n",
    "В столбце `total_income` было пропущенно около 10% значений, которые были заменены на медианые значения (так как есть большая разница между максимальными и минимальными значениями, среднее арифметическое могло быть не показательным). Причину пропусков установить не удалось."
   ]
  },
  {
   "cell_type": "markdown",
   "id": "54e19acb",
   "metadata": {},
   "source": [
    "### Проверка данных на аномалии и исправления\n",
    "\n",
    "В столбце `days_employed` мы обнаружили аномальные данные - отрицательные или слишком большие значения. Попробуем разобраться!"
   ]
  },
  {
   "cell_type": "markdown",
   "id": "8d398179",
   "metadata": {},
   "source": [
    "В таблице трудовой стаж клиентов представлен в виде количества дней, несмотря на то, что общепринято считать стаж в годах. Попробуем реализовать это в датафрейме:\n",
    "\n",
    "1. Предположим, что отрицательные данные корректны, но записаны с неправильным знаком - приведём их к абсолютным значениям.\n",
    "2. Разделим количество дней стажа на 365, тем самым получив рабочий стаж в количестве лет.\n",
    "3. Переименуем столбец."
   ]
  },
  {
   "cell_type": "code",
   "execution_count": 10,
   "id": "c7c2b541",
   "metadata": {},
   "outputs": [
    {
     "data": {
      "text/html": [
       "<div>\n",
       "<style scoped>\n",
       "    .dataframe tbody tr th:only-of-type {\n",
       "        vertical-align: middle;\n",
       "    }\n",
       "\n",
       "    .dataframe tbody tr th {\n",
       "        vertical-align: top;\n",
       "    }\n",
       "\n",
       "    .dataframe thead th {\n",
       "        text-align: right;\n",
       "    }\n",
       "</style>\n",
       "<table border=\"1\" class=\"dataframe\">\n",
       "  <thead>\n",
       "    <tr style=\"text-align: right;\">\n",
       "      <th></th>\n",
       "      <th>children</th>\n",
       "      <th>years_employed</th>\n",
       "      <th>dob_years</th>\n",
       "      <th>education</th>\n",
       "      <th>education_id</th>\n",
       "      <th>family_status</th>\n",
       "      <th>family_status_id</th>\n",
       "      <th>gender</th>\n",
       "      <th>income_type</th>\n",
       "      <th>debt</th>\n",
       "      <th>total_income</th>\n",
       "      <th>purpose</th>\n",
       "    </tr>\n",
       "  </thead>\n",
       "  <tbody>\n",
       "    <tr>\n",
       "      <th>0</th>\n",
       "      <td>1</td>\n",
       "      <td>23.12</td>\n",
       "      <td>42</td>\n",
       "      <td>высшее</td>\n",
       "      <td>0</td>\n",
       "      <td>женат / замужем</td>\n",
       "      <td>0</td>\n",
       "      <td>F</td>\n",
       "      <td>сотрудник</td>\n",
       "      <td>0</td>\n",
       "      <td>253,875.64</td>\n",
       "      <td>покупка жилья</td>\n",
       "    </tr>\n",
       "    <tr>\n",
       "      <th>1</th>\n",
       "      <td>1</td>\n",
       "      <td>11.03</td>\n",
       "      <td>36</td>\n",
       "      <td>среднее</td>\n",
       "      <td>1</td>\n",
       "      <td>женат / замужем</td>\n",
       "      <td>0</td>\n",
       "      <td>F</td>\n",
       "      <td>сотрудник</td>\n",
       "      <td>0</td>\n",
       "      <td>112,080.01</td>\n",
       "      <td>приобретение автомобиля</td>\n",
       "    </tr>\n",
       "    <tr>\n",
       "      <th>2</th>\n",
       "      <td>0</td>\n",
       "      <td>15.41</td>\n",
       "      <td>33</td>\n",
       "      <td>Среднее</td>\n",
       "      <td>1</td>\n",
       "      <td>женат / замужем</td>\n",
       "      <td>0</td>\n",
       "      <td>M</td>\n",
       "      <td>сотрудник</td>\n",
       "      <td>0</td>\n",
       "      <td>145,885.95</td>\n",
       "      <td>покупка жилья</td>\n",
       "    </tr>\n",
       "    <tr>\n",
       "      <th>3</th>\n",
       "      <td>3</td>\n",
       "      <td>11.30</td>\n",
       "      <td>32</td>\n",
       "      <td>среднее</td>\n",
       "      <td>1</td>\n",
       "      <td>женат / замужем</td>\n",
       "      <td>0</td>\n",
       "      <td>M</td>\n",
       "      <td>сотрудник</td>\n",
       "      <td>0</td>\n",
       "      <td>267,628.55</td>\n",
       "      <td>дополнительное образование</td>\n",
       "    </tr>\n",
       "    <tr>\n",
       "      <th>4</th>\n",
       "      <td>0</td>\n",
       "      <td>932.24</td>\n",
       "      <td>53</td>\n",
       "      <td>среднее</td>\n",
       "      <td>1</td>\n",
       "      <td>гражданский брак</td>\n",
       "      <td>1</td>\n",
       "      <td>F</td>\n",
       "      <td>пенсионер</td>\n",
       "      <td>0</td>\n",
       "      <td>158,616.08</td>\n",
       "      <td>сыграть свадьбу</td>\n",
       "    </tr>\n",
       "    <tr>\n",
       "      <th>5</th>\n",
       "      <td>0</td>\n",
       "      <td>2.54</td>\n",
       "      <td>27</td>\n",
       "      <td>высшее</td>\n",
       "      <td>0</td>\n",
       "      <td>гражданский брак</td>\n",
       "      <td>1</td>\n",
       "      <td>M</td>\n",
       "      <td>компаньон</td>\n",
       "      <td>0</td>\n",
       "      <td>255,763.57</td>\n",
       "      <td>покупка жилья</td>\n",
       "    </tr>\n",
       "    <tr>\n",
       "      <th>6</th>\n",
       "      <td>0</td>\n",
       "      <td>7.89</td>\n",
       "      <td>43</td>\n",
       "      <td>высшее</td>\n",
       "      <td>0</td>\n",
       "      <td>женат / замужем</td>\n",
       "      <td>0</td>\n",
       "      <td>F</td>\n",
       "      <td>компаньон</td>\n",
       "      <td>0</td>\n",
       "      <td>240,525.97</td>\n",
       "      <td>операции с жильем</td>\n",
       "    </tr>\n",
       "    <tr>\n",
       "      <th>7</th>\n",
       "      <td>0</td>\n",
       "      <td>0.42</td>\n",
       "      <td>50</td>\n",
       "      <td>СРЕДНЕЕ</td>\n",
       "      <td>1</td>\n",
       "      <td>женат / замужем</td>\n",
       "      <td>0</td>\n",
       "      <td>M</td>\n",
       "      <td>сотрудник</td>\n",
       "      <td>0</td>\n",
       "      <td>135,823.93</td>\n",
       "      <td>образование</td>\n",
       "    </tr>\n",
       "    <tr>\n",
       "      <th>8</th>\n",
       "      <td>2</td>\n",
       "      <td>18.99</td>\n",
       "      <td>35</td>\n",
       "      <td>ВЫСШЕЕ</td>\n",
       "      <td>0</td>\n",
       "      <td>гражданский брак</td>\n",
       "      <td>1</td>\n",
       "      <td>F</td>\n",
       "      <td>сотрудник</td>\n",
       "      <td>0</td>\n",
       "      <td>95,856.83</td>\n",
       "      <td>на проведение свадьбы</td>\n",
       "    </tr>\n",
       "    <tr>\n",
       "      <th>9</th>\n",
       "      <td>0</td>\n",
       "      <td>6.00</td>\n",
       "      <td>41</td>\n",
       "      <td>среднее</td>\n",
       "      <td>1</td>\n",
       "      <td>женат / замужем</td>\n",
       "      <td>0</td>\n",
       "      <td>M</td>\n",
       "      <td>сотрудник</td>\n",
       "      <td>0</td>\n",
       "      <td>144,425.94</td>\n",
       "      <td>покупка жилья для семьи</td>\n",
       "    </tr>\n",
       "  </tbody>\n",
       "</table>\n",
       "</div>"
      ],
      "text/plain": [
       "   children  years_employed  dob_years education  education_id  \\\n",
       "0         1           23.12         42    высшее             0   \n",
       "1         1           11.03         36   среднее             1   \n",
       "2         0           15.41         33   Среднее             1   \n",
       "3         3           11.30         32   среднее             1   \n",
       "4         0          932.24         53   среднее             1   \n",
       "5         0            2.54         27    высшее             0   \n",
       "6         0            7.89         43    высшее             0   \n",
       "7         0            0.42         50   СРЕДНЕЕ             1   \n",
       "8         2           18.99         35    ВЫСШЕЕ             0   \n",
       "9         0            6.00         41   среднее             1   \n",
       "\n",
       "      family_status  family_status_id gender income_type  debt  total_income  \\\n",
       "0   женат / замужем                 0      F   сотрудник     0    253,875.64   \n",
       "1   женат / замужем                 0      F   сотрудник     0    112,080.01   \n",
       "2   женат / замужем                 0      M   сотрудник     0    145,885.95   \n",
       "3   женат / замужем                 0      M   сотрудник     0    267,628.55   \n",
       "4  гражданский брак                 1      F   пенсионер     0    158,616.08   \n",
       "5  гражданский брак                 1      M   компаньон     0    255,763.57   \n",
       "6   женат / замужем                 0      F   компаньон     0    240,525.97   \n",
       "7   женат / замужем                 0      M   сотрудник     0    135,823.93   \n",
       "8  гражданский брак                 1      F   сотрудник     0     95,856.83   \n",
       "9   женат / замужем                 0      M   сотрудник     0    144,425.94   \n",
       "\n",
       "                      purpose  \n",
       "0               покупка жилья  \n",
       "1     приобретение автомобиля  \n",
       "2               покупка жилья  \n",
       "3  дополнительное образование  \n",
       "4             сыграть свадьбу  \n",
       "5               покупка жилья  \n",
       "6           операции с жильем  \n",
       "7                 образование  \n",
       "8       на проведение свадьбы  \n",
       "9     покупка жилья для семьи  "
      ]
     },
     "execution_count": 10,
     "metadata": {},
     "output_type": "execute_result"
    }
   ],
   "source": [
    "df['days_employed'] = df['days_employed'].abs() / 365 # получаем количество лет стажа\n",
    "df = df.rename(columns={'days_employed' : 'years_employed'}) # меняем название столбца\n",
    "df.head(10) # смотрим что получилось"
   ]
  },
  {
   "cell_type": "markdown",
   "id": "073ab493",
   "metadata": {},
   "source": [
    "А получилось следующее - теперь во втором столбце у нас указано количество лет стажа. Из-за наличия пропусков мы пока не можем привести данные к целому числу, но сначала нужно разобраться с аномально большими значениями. Для их поиска предположим, что все клиента банка начали трудовой стаж не раньше достижения 14 лет (минимальный возраст для начала ограниченной трудовой деятельности согласно ТК РФ). Значит при вычитании стажа из возраста результат должен быть не меньше `14` - представим это предположение в виде условия для логической индексации:"
   ]
  },
  {
   "cell_type": "code",
   "execution_count": 11,
   "id": "70dbea4c",
   "metadata": {
    "scrolled": false
   },
   "outputs": [
    {
     "name": "stdout",
     "output_type": "stream",
     "text": [
      "Количество строк с аномальными значениями - 3535\n",
      "Доля значений составляет 16.42 %\n"
     ]
    },
    {
     "data": {
      "text/html": [
       "<div>\n",
       "<style scoped>\n",
       "    .dataframe tbody tr th:only-of-type {\n",
       "        vertical-align: middle;\n",
       "    }\n",
       "\n",
       "    .dataframe tbody tr th {\n",
       "        vertical-align: top;\n",
       "    }\n",
       "\n",
       "    .dataframe thead th {\n",
       "        text-align: right;\n",
       "    }\n",
       "</style>\n",
       "<table border=\"1\" class=\"dataframe\">\n",
       "  <thead>\n",
       "    <tr style=\"text-align: right;\">\n",
       "      <th></th>\n",
       "      <th>children</th>\n",
       "      <th>years_employed</th>\n",
       "      <th>dob_years</th>\n",
       "      <th>education</th>\n",
       "      <th>education_id</th>\n",
       "      <th>family_status</th>\n",
       "      <th>family_status_id</th>\n",
       "      <th>gender</th>\n",
       "      <th>income_type</th>\n",
       "      <th>debt</th>\n",
       "      <th>total_income</th>\n",
       "      <th>purpose</th>\n",
       "    </tr>\n",
       "  </thead>\n",
       "  <tbody>\n",
       "    <tr>\n",
       "      <th>4</th>\n",
       "      <td>0</td>\n",
       "      <td>932.24</td>\n",
       "      <td>53</td>\n",
       "      <td>среднее</td>\n",
       "      <td>1</td>\n",
       "      <td>гражданский брак</td>\n",
       "      <td>1</td>\n",
       "      <td>F</td>\n",
       "      <td>пенсионер</td>\n",
       "      <td>0</td>\n",
       "      <td>158,616.08</td>\n",
       "      <td>сыграть свадьбу</td>\n",
       "    </tr>\n",
       "    <tr>\n",
       "      <th>18</th>\n",
       "      <td>0</td>\n",
       "      <td>1,096.66</td>\n",
       "      <td>53</td>\n",
       "      <td>среднее</td>\n",
       "      <td>1</td>\n",
       "      <td>вдовец / вдова</td>\n",
       "      <td>2</td>\n",
       "      <td>F</td>\n",
       "      <td>пенсионер</td>\n",
       "      <td>0</td>\n",
       "      <td>56,823.78</td>\n",
       "      <td>на покупку подержанного автомобиля</td>\n",
       "    </tr>\n",
       "    <tr>\n",
       "      <th>24</th>\n",
       "      <td>1</td>\n",
       "      <td>927.54</td>\n",
       "      <td>57</td>\n",
       "      <td>среднее</td>\n",
       "      <td>1</td>\n",
       "      <td>Не женат / не замужем</td>\n",
       "      <td>4</td>\n",
       "      <td>F</td>\n",
       "      <td>пенсионер</td>\n",
       "      <td>0</td>\n",
       "      <td>290,547.24</td>\n",
       "      <td>операции с коммерческой недвижимостью</td>\n",
       "    </tr>\n",
       "    <tr>\n",
       "      <th>25</th>\n",
       "      <td>0</td>\n",
       "      <td>996.02</td>\n",
       "      <td>67</td>\n",
       "      <td>среднее</td>\n",
       "      <td>1</td>\n",
       "      <td>женат / замужем</td>\n",
       "      <td>0</td>\n",
       "      <td>M</td>\n",
       "      <td>пенсионер</td>\n",
       "      <td>0</td>\n",
       "      <td>55,112.76</td>\n",
       "      <td>покупка недвижимости</td>\n",
       "    </tr>\n",
       "    <tr>\n",
       "      <th>30</th>\n",
       "      <td>1</td>\n",
       "      <td>919.40</td>\n",
       "      <td>62</td>\n",
       "      <td>среднее</td>\n",
       "      <td>1</td>\n",
       "      <td>женат / замужем</td>\n",
       "      <td>0</td>\n",
       "      <td>F</td>\n",
       "      <td>пенсионер</td>\n",
       "      <td>0</td>\n",
       "      <td>171,456.07</td>\n",
       "      <td>операции с коммерческой недвижимостью</td>\n",
       "    </tr>\n",
       "    <tr>\n",
       "      <th>35</th>\n",
       "      <td>0</td>\n",
       "      <td>1,079.51</td>\n",
       "      <td>68</td>\n",
       "      <td>среднее</td>\n",
       "      <td>1</td>\n",
       "      <td>гражданский брак</td>\n",
       "      <td>1</td>\n",
       "      <td>M</td>\n",
       "      <td>пенсионер</td>\n",
       "      <td>0</td>\n",
       "      <td>77,805.68</td>\n",
       "      <td>на проведение свадьбы</td>\n",
       "    </tr>\n",
       "    <tr>\n",
       "      <th>50</th>\n",
       "      <td>0</td>\n",
       "      <td>969.13</td>\n",
       "      <td>63</td>\n",
       "      <td>среднее</td>\n",
       "      <td>1</td>\n",
       "      <td>женат / замужем</td>\n",
       "      <td>0</td>\n",
       "      <td>F</td>\n",
       "      <td>пенсионер</td>\n",
       "      <td>0</td>\n",
       "      <td>92,342.73</td>\n",
       "      <td>автомобили</td>\n",
       "    </tr>\n",
       "    <tr>\n",
       "      <th>56</th>\n",
       "      <td>0</td>\n",
       "      <td>1,014.10</td>\n",
       "      <td>64</td>\n",
       "      <td>среднее</td>\n",
       "      <td>1</td>\n",
       "      <td>вдовец / вдова</td>\n",
       "      <td>2</td>\n",
       "      <td>F</td>\n",
       "      <td>пенсионер</td>\n",
       "      <td>0</td>\n",
       "      <td>149,141.04</td>\n",
       "      <td>образование</td>\n",
       "    </tr>\n",
       "    <tr>\n",
       "      <th>71</th>\n",
       "      <td>0</td>\n",
       "      <td>926.34</td>\n",
       "      <td>62</td>\n",
       "      <td>среднее</td>\n",
       "      <td>1</td>\n",
       "      <td>женат / замужем</td>\n",
       "      <td>0</td>\n",
       "      <td>F</td>\n",
       "      <td>пенсионер</td>\n",
       "      <td>0</td>\n",
       "      <td>43,929.70</td>\n",
       "      <td>автомобили</td>\n",
       "    </tr>\n",
       "    <tr>\n",
       "      <th>78</th>\n",
       "      <td>0</td>\n",
       "      <td>985.54</td>\n",
       "      <td>61</td>\n",
       "      <td>высшее</td>\n",
       "      <td>0</td>\n",
       "      <td>женат / замужем</td>\n",
       "      <td>0</td>\n",
       "      <td>M</td>\n",
       "      <td>пенсионер</td>\n",
       "      <td>0</td>\n",
       "      <td>175,127.65</td>\n",
       "      <td>сделка с автомобилем</td>\n",
       "    </tr>\n",
       "  </tbody>\n",
       "</table>\n",
       "</div>"
      ],
      "text/plain": [
       "    children  years_employed  dob_years education  education_id  \\\n",
       "4          0          932.24         53   среднее             1   \n",
       "18         0        1,096.66         53   среднее             1   \n",
       "24         1          927.54         57   среднее             1   \n",
       "25         0          996.02         67   среднее             1   \n",
       "30         1          919.40         62   среднее             1   \n",
       "35         0        1,079.51         68   среднее             1   \n",
       "50         0          969.13         63   среднее             1   \n",
       "56         0        1,014.10         64   среднее             1   \n",
       "71         0          926.34         62   среднее             1   \n",
       "78         0          985.54         61    высшее             0   \n",
       "\n",
       "            family_status  family_status_id gender income_type  debt  \\\n",
       "4        гражданский брак                 1      F   пенсионер     0   \n",
       "18         вдовец / вдова                 2      F   пенсионер     0   \n",
       "24  Не женат / не замужем                 4      F   пенсионер     0   \n",
       "25        женат / замужем                 0      M   пенсионер     0   \n",
       "30        женат / замужем                 0      F   пенсионер     0   \n",
       "35       гражданский брак                 1      M   пенсионер     0   \n",
       "50        женат / замужем                 0      F   пенсионер     0   \n",
       "56         вдовец / вдова                 2      F   пенсионер     0   \n",
       "71        женат / замужем                 0      F   пенсионер     0   \n",
       "78        женат / замужем                 0      M   пенсионер     0   \n",
       "\n",
       "    total_income                                purpose  \n",
       "4     158,616.08                        сыграть свадьбу  \n",
       "18     56,823.78     на покупку подержанного автомобиля  \n",
       "24    290,547.24  операции с коммерческой недвижимостью  \n",
       "25     55,112.76                   покупка недвижимости  \n",
       "30    171,456.07  операции с коммерческой недвижимостью  \n",
       "35     77,805.68                  на проведение свадьбы  \n",
       "50     92,342.73                             автомобили  \n",
       "56    149,141.04                            образование  \n",
       "71     43,929.70                             автомобили  \n",
       "78    175,127.65                   сделка с автомобилем  "
      ]
     },
     "execution_count": 11,
     "metadata": {},
     "output_type": "execute_result"
    }
   ],
   "source": [
    "# сохраним датафрейм с строками, которые не соответствуют условию нашего предположения, в переменную `employed_anomaly`,\n",
    "# с её помощью расчитаем долю этих данных в столбце в %, затем выведем результат на экран.\n",
    "\n",
    "employed_anomaly = df.loc[(df['dob_years'] - df['years_employed']) < 14] \n",
    "employed_anomaly_share = round(\n",
    "    len(employed_anomaly) / len(df['years_employed']) * 100, 2\n",
    ")\n",
    "\n",
    "print(f'''Количество строк с аномальными значениями - {len(employed_anomaly)}\n",
    "Доля значений составляет {employed_anomaly_share} %''')\n",
    "employed_anomaly.head(10)"
   ]
  },
  {
   "cell_type": "markdown",
   "id": "f5ce8be7",
   "metadata": {},
   "source": [
    "Получилось около 16% процента аномалий. Можно попробовать ещё лучше - поскольку для расчётов используется столбец `dob_years`, на всякий случай нужно проверить его значения:"
   ]
  },
  {
   "cell_type": "code",
   "execution_count": 12,
   "id": "5a385a4d",
   "metadata": {
    "scrolled": false
   },
   "outputs": [
    {
     "data": {
      "text/plain": [
       "35    617\n",
       "40    609\n",
       "41    607\n",
       "34    603\n",
       "38    598\n",
       "42    597\n",
       "33    581\n",
       "39    573\n",
       "31    560\n",
       "36    555\n",
       "44    547\n",
       "29    545\n",
       "30    540\n",
       "48    538\n",
       "37    537\n",
       "50    514\n",
       "43    513\n",
       "32    510\n",
       "49    508\n",
       "28    503\n",
       "45    497\n",
       "27    493\n",
       "56    487\n",
       "52    484\n",
       "47    480\n",
       "54    479\n",
       "46    475\n",
       "58    461\n",
       "57    460\n",
       "53    459\n",
       "51    448\n",
       "59    444\n",
       "55    443\n",
       "26    408\n",
       "60    377\n",
       "25    357\n",
       "61    355\n",
       "62    352\n",
       "63    269\n",
       "64    265\n",
       "24    264\n",
       "23    254\n",
       "65    194\n",
       "22    183\n",
       "66    183\n",
       "67    167\n",
       "21    111\n",
       "0     101\n",
       "68     99\n",
       "69     85\n",
       "70     65\n",
       "71     58\n",
       "20     51\n",
       "72     33\n",
       "19     14\n",
       "73      8\n",
       "74      6\n",
       "75      1\n",
       "Name: dob_years, dtype: int64"
      ]
     },
     "execution_count": 12,
     "metadata": {},
     "output_type": "execute_result"
    }
   ],
   "source": [
    "df['dob_years'].value_counts()"
   ]
  },
  {
   "cell_type": "markdown",
   "id": "572b95bb",
   "metadata": {},
   "source": [
    "Получается, что у 101 клиента вместо возраста указан `0`, что влияет на расчёт аномального стажа. Изучим столбец чуть подробнее - посчитаем среднее и медиану, выберем из них значение для замены нулевых данных."
   ]
  },
  {
   "cell_type": "code",
   "execution_count": 13,
   "id": "daf70a22",
   "metadata": {
    "scrolled": true
   },
   "outputs": [
    {
     "data": {
      "text/plain": [
       "42.0"
      ]
     },
     "metadata": {},
     "output_type": "display_data"
    },
    {
     "data": {
      "text/plain": [
       "43.29337979094077"
      ]
     },
     "metadata": {},
     "output_type": "display_data"
    }
   ],
   "source": [
    "display(df['dob_years'].median()) # медиана\n",
    "display(df['dob_years'].mean()) # среднее"
   ]
  },
  {
   "cell_type": "markdown",
   "id": "07e62043",
   "metadata": {},
   "source": [
    "Значения не сильно отличаются, но лучше использовать медиану - среднее значение явно тянет в большую сторону из-за преобладания более взрослых клиентов."
   ]
  },
  {
   "cell_type": "code",
   "execution_count": 14,
   "id": "e9a7e10f",
   "metadata": {},
   "outputs": [
    {
     "name": "stdout",
     "output_type": "stream",
     "text": [
      "Количество строк с аномальными значениями - 3463\n",
      "Доля значений составляет 16.09 %\n"
     ]
    },
    {
     "data": {
      "text/html": [
       "<div>\n",
       "<style scoped>\n",
       "    .dataframe tbody tr th:only-of-type {\n",
       "        vertical-align: middle;\n",
       "    }\n",
       "\n",
       "    .dataframe tbody tr th {\n",
       "        vertical-align: top;\n",
       "    }\n",
       "\n",
       "    .dataframe thead th {\n",
       "        text-align: right;\n",
       "    }\n",
       "</style>\n",
       "<table border=\"1\" class=\"dataframe\">\n",
       "  <thead>\n",
       "    <tr style=\"text-align: right;\">\n",
       "      <th></th>\n",
       "      <th>children</th>\n",
       "      <th>years_employed</th>\n",
       "      <th>dob_years</th>\n",
       "      <th>education</th>\n",
       "      <th>education_id</th>\n",
       "      <th>family_status</th>\n",
       "      <th>family_status_id</th>\n",
       "      <th>gender</th>\n",
       "      <th>income_type</th>\n",
       "      <th>debt</th>\n",
       "      <th>total_income</th>\n",
       "      <th>purpose</th>\n",
       "    </tr>\n",
       "  </thead>\n",
       "  <tbody>\n",
       "    <tr>\n",
       "      <th>4</th>\n",
       "      <td>0</td>\n",
       "      <td>932.24</td>\n",
       "      <td>53</td>\n",
       "      <td>среднее</td>\n",
       "      <td>1</td>\n",
       "      <td>гражданский брак</td>\n",
       "      <td>1</td>\n",
       "      <td>F</td>\n",
       "      <td>пенсионер</td>\n",
       "      <td>0</td>\n",
       "      <td>158,616.08</td>\n",
       "      <td>сыграть свадьбу</td>\n",
       "    </tr>\n",
       "    <tr>\n",
       "      <th>18</th>\n",
       "      <td>0</td>\n",
       "      <td>1,096.66</td>\n",
       "      <td>53</td>\n",
       "      <td>среднее</td>\n",
       "      <td>1</td>\n",
       "      <td>вдовец / вдова</td>\n",
       "      <td>2</td>\n",
       "      <td>F</td>\n",
       "      <td>пенсионер</td>\n",
       "      <td>0</td>\n",
       "      <td>56,823.78</td>\n",
       "      <td>на покупку подержанного автомобиля</td>\n",
       "    </tr>\n",
       "    <tr>\n",
       "      <th>24</th>\n",
       "      <td>1</td>\n",
       "      <td>927.54</td>\n",
       "      <td>57</td>\n",
       "      <td>среднее</td>\n",
       "      <td>1</td>\n",
       "      <td>Не женат / не замужем</td>\n",
       "      <td>4</td>\n",
       "      <td>F</td>\n",
       "      <td>пенсионер</td>\n",
       "      <td>0</td>\n",
       "      <td>290,547.24</td>\n",
       "      <td>операции с коммерческой недвижимостью</td>\n",
       "    </tr>\n",
       "    <tr>\n",
       "      <th>25</th>\n",
       "      <td>0</td>\n",
       "      <td>996.02</td>\n",
       "      <td>67</td>\n",
       "      <td>среднее</td>\n",
       "      <td>1</td>\n",
       "      <td>женат / замужем</td>\n",
       "      <td>0</td>\n",
       "      <td>M</td>\n",
       "      <td>пенсионер</td>\n",
       "      <td>0</td>\n",
       "      <td>55,112.76</td>\n",
       "      <td>покупка недвижимости</td>\n",
       "    </tr>\n",
       "    <tr>\n",
       "      <th>30</th>\n",
       "      <td>1</td>\n",
       "      <td>919.40</td>\n",
       "      <td>62</td>\n",
       "      <td>среднее</td>\n",
       "      <td>1</td>\n",
       "      <td>женат / замужем</td>\n",
       "      <td>0</td>\n",
       "      <td>F</td>\n",
       "      <td>пенсионер</td>\n",
       "      <td>0</td>\n",
       "      <td>171,456.07</td>\n",
       "      <td>операции с коммерческой недвижимостью</td>\n",
       "    </tr>\n",
       "    <tr>\n",
       "      <th>35</th>\n",
       "      <td>0</td>\n",
       "      <td>1,079.51</td>\n",
       "      <td>68</td>\n",
       "      <td>среднее</td>\n",
       "      <td>1</td>\n",
       "      <td>гражданский брак</td>\n",
       "      <td>1</td>\n",
       "      <td>M</td>\n",
       "      <td>пенсионер</td>\n",
       "      <td>0</td>\n",
       "      <td>77,805.68</td>\n",
       "      <td>на проведение свадьбы</td>\n",
       "    </tr>\n",
       "    <tr>\n",
       "      <th>50</th>\n",
       "      <td>0</td>\n",
       "      <td>969.13</td>\n",
       "      <td>63</td>\n",
       "      <td>среднее</td>\n",
       "      <td>1</td>\n",
       "      <td>женат / замужем</td>\n",
       "      <td>0</td>\n",
       "      <td>F</td>\n",
       "      <td>пенсионер</td>\n",
       "      <td>0</td>\n",
       "      <td>92,342.73</td>\n",
       "      <td>автомобили</td>\n",
       "    </tr>\n",
       "    <tr>\n",
       "      <th>56</th>\n",
       "      <td>0</td>\n",
       "      <td>1,014.10</td>\n",
       "      <td>64</td>\n",
       "      <td>среднее</td>\n",
       "      <td>1</td>\n",
       "      <td>вдовец / вдова</td>\n",
       "      <td>2</td>\n",
       "      <td>F</td>\n",
       "      <td>пенсионер</td>\n",
       "      <td>0</td>\n",
       "      <td>149,141.04</td>\n",
       "      <td>образование</td>\n",
       "    </tr>\n",
       "    <tr>\n",
       "      <th>71</th>\n",
       "      <td>0</td>\n",
       "      <td>926.34</td>\n",
       "      <td>62</td>\n",
       "      <td>среднее</td>\n",
       "      <td>1</td>\n",
       "      <td>женат / замужем</td>\n",
       "      <td>0</td>\n",
       "      <td>F</td>\n",
       "      <td>пенсионер</td>\n",
       "      <td>0</td>\n",
       "      <td>43,929.70</td>\n",
       "      <td>автомобили</td>\n",
       "    </tr>\n",
       "    <tr>\n",
       "      <th>78</th>\n",
       "      <td>0</td>\n",
       "      <td>985.54</td>\n",
       "      <td>61</td>\n",
       "      <td>высшее</td>\n",
       "      <td>0</td>\n",
       "      <td>женат / замужем</td>\n",
       "      <td>0</td>\n",
       "      <td>M</td>\n",
       "      <td>пенсионер</td>\n",
       "      <td>0</td>\n",
       "      <td>175,127.65</td>\n",
       "      <td>сделка с автомобилем</td>\n",
       "    </tr>\n",
       "  </tbody>\n",
       "</table>\n",
       "</div>"
      ],
      "text/plain": [
       "    children  years_employed  dob_years education  education_id  \\\n",
       "4          0          932.24         53   среднее             1   \n",
       "18         0        1,096.66         53   среднее             1   \n",
       "24         1          927.54         57   среднее             1   \n",
       "25         0          996.02         67   среднее             1   \n",
       "30         1          919.40         62   среднее             1   \n",
       "35         0        1,079.51         68   среднее             1   \n",
       "50         0          969.13         63   среднее             1   \n",
       "56         0        1,014.10         64   среднее             1   \n",
       "71         0          926.34         62   среднее             1   \n",
       "78         0          985.54         61    высшее             0   \n",
       "\n",
       "            family_status  family_status_id gender income_type  debt  \\\n",
       "4        гражданский брак                 1      F   пенсионер     0   \n",
       "18         вдовец / вдова                 2      F   пенсионер     0   \n",
       "24  Не женат / не замужем                 4      F   пенсионер     0   \n",
       "25        женат / замужем                 0      M   пенсионер     0   \n",
       "30        женат / замужем                 0      F   пенсионер     0   \n",
       "35       гражданский брак                 1      M   пенсионер     0   \n",
       "50        женат / замужем                 0      F   пенсионер     0   \n",
       "56         вдовец / вдова                 2      F   пенсионер     0   \n",
       "71        женат / замужем                 0      F   пенсионер     0   \n",
       "78        женат / замужем                 0      M   пенсионер     0   \n",
       "\n",
       "    total_income                                purpose  \n",
       "4     158,616.08                        сыграть свадьбу  \n",
       "18     56,823.78     на покупку подержанного автомобиля  \n",
       "24    290,547.24  операции с коммерческой недвижимостью  \n",
       "25     55,112.76                   покупка недвижимости  \n",
       "30    171,456.07  операции с коммерческой недвижимостью  \n",
       "35     77,805.68                  на проведение свадьбы  \n",
       "50     92,342.73                             автомобили  \n",
       "56    149,141.04                            образование  \n",
       "71     43,929.70                             автомобили  \n",
       "78    175,127.65                   сделка с автомобилем  "
      ]
     },
     "execution_count": 14,
     "metadata": {},
     "output_type": "execute_result"
    }
   ],
   "source": [
    "# заполним нулевые значения столбца с возрастом медианой и ещё раз проверим аномалии столбца со стажем работы,\n",
    "# предварительно заново сохранив необхоидимые переменные\n",
    "\n",
    "df.loc[df['dob_years'] == 0, 'dob_years'] = df['dob_years'].median() \n",
    "\n",
    "employed_anomaly = df.loc[(df['dob_years'] - df['years_employed']) < 14] \n",
    "employed_anomaly_share = round(len(employed_anomaly) / len(df['years_employed']) * 100, 2)\n",
    "print(f'''Количество строк с аномальными значениями - {len(employed_anomaly)}\n",
    "Доля значений составляет {employed_anomaly_share} %''')\n",
    "employed_anomaly.head(10)"
   ]
  },
  {
   "cell_type": "markdown",
   "id": "36b68dd2",
   "metadata": {},
   "source": [
    "Всего в столбце со стажем осталось 16.09% аномальных значений - возможно клиенты ошиблись при предоставлении данных или произошла ошибка при выгрузке. Эти аномальные значения, как и пропущенные, заполним медианой."
   ]
  },
  {
   "cell_type": "code",
   "execution_count": 15,
   "id": "87845a4c",
   "metadata": {
    "scrolled": false
   },
   "outputs": [
    {
     "data": {
      "text/plain": [
       "children            21525\n",
       "years_employed      21525\n",
       "dob_years           21525\n",
       "education           21525\n",
       "education_id        21525\n",
       "family_status       21525\n",
       "family_status_id    21525\n",
       "gender              21525\n",
       "income_type         21525\n",
       "debt                21525\n",
       "total_income        21525\n",
       "purpose             21525\n",
       "dtype: int64"
      ]
     },
     "execution_count": 15,
     "metadata": {},
     "output_type": "execute_result"
    }
   ],
   "source": [
    "df.loc[(\n",
    "    (df['dob_years'] - df['years_employed']) < 14, 'years_employed'\n",
    ")] = df['years_employed'].median() # заменяем аномалии медианой\n",
    "\n",
    "df['years_employed'] = (\n",
    "    df['years_employed']\n",
    "    .fillna(\n",
    "        df['years_employed']\n",
    "        .median())\n",
    ") # заполняем пропуски медианой\n",
    "\n",
    "df.isna().count() # проверяем количество значений в таблице"
   ]
  },
  {
   "cell_type": "markdown",
   "id": "548e7ff8",
   "metadata": {},
   "source": [
    "В рамках этого исследования предстоит выяснить связь между наличием детей и возвратом кредита в срок, потому столбец `children` является одним из важнейших источников данных. Подсчитаем значения столбца, чтобы убедиться, что всё в порядке:"
   ]
  },
  {
   "cell_type": "code",
   "execution_count": 16,
   "id": "66eccec0",
   "metadata": {
    "scrolled": false
   },
   "outputs": [
    {
     "data": {
      "text/plain": [
       " 0     14149\n",
       " 1      4818\n",
       " 2      2055\n",
       " 3       330\n",
       " 20       76\n",
       "-1        47\n",
       " 4        41\n",
       " 5         9\n",
       "Name: children, dtype: int64"
      ]
     },
     "execution_count": 16,
     "metadata": {},
     "output_type": "execute_result"
    }
   ],
   "source": [
    "df['children'].value_counts()"
   ]
  },
  {
   "cell_type": "markdown",
   "id": "bcf0335d",
   "metadata": {},
   "source": [
    "Потенциально аномальные значения - 20 (многовато) и -1 (маловато). Выведем часть этих строк на экран, а также расчитаем долю этих значений от общих данных:"
   ]
  },
  {
   "cell_type": "code",
   "execution_count": 17,
   "id": "70b691cf",
   "metadata": {},
   "outputs": [
    {
     "name": "stdout",
     "output_type": "stream",
     "text": [
      "Количество строк с аномальными значениями - 76\n",
      "Доля значений составляет 0.35 %\n"
     ]
    },
    {
     "data": {
      "text/html": [
       "<div>\n",
       "<style scoped>\n",
       "    .dataframe tbody tr th:only-of-type {\n",
       "        vertical-align: middle;\n",
       "    }\n",
       "\n",
       "    .dataframe tbody tr th {\n",
       "        vertical-align: top;\n",
       "    }\n",
       "\n",
       "    .dataframe thead th {\n",
       "        text-align: right;\n",
       "    }\n",
       "</style>\n",
       "<table border=\"1\" class=\"dataframe\">\n",
       "  <thead>\n",
       "    <tr style=\"text-align: right;\">\n",
       "      <th></th>\n",
       "      <th>children</th>\n",
       "      <th>years_employed</th>\n",
       "      <th>dob_years</th>\n",
       "      <th>education</th>\n",
       "      <th>education_id</th>\n",
       "      <th>family_status</th>\n",
       "      <th>family_status_id</th>\n",
       "      <th>gender</th>\n",
       "      <th>income_type</th>\n",
       "      <th>debt</th>\n",
       "      <th>total_income</th>\n",
       "      <th>purpose</th>\n",
       "    </tr>\n",
       "  </thead>\n",
       "  <tbody>\n",
       "    <tr>\n",
       "      <th>606</th>\n",
       "      <td>20</td>\n",
       "      <td>2.41</td>\n",
       "      <td>21</td>\n",
       "      <td>среднее</td>\n",
       "      <td>1</td>\n",
       "      <td>женат / замужем</td>\n",
       "      <td>0</td>\n",
       "      <td>M</td>\n",
       "      <td>компаньон</td>\n",
       "      <td>0</td>\n",
       "      <td>145,334.87</td>\n",
       "      <td>покупка жилья</td>\n",
       "    </tr>\n",
       "    <tr>\n",
       "      <th>720</th>\n",
       "      <td>20</td>\n",
       "      <td>2.34</td>\n",
       "      <td>44</td>\n",
       "      <td>среднее</td>\n",
       "      <td>1</td>\n",
       "      <td>женат / замужем</td>\n",
       "      <td>0</td>\n",
       "      <td>F</td>\n",
       "      <td>компаньон</td>\n",
       "      <td>0</td>\n",
       "      <td>112,998.74</td>\n",
       "      <td>покупка недвижимости</td>\n",
       "    </tr>\n",
       "    <tr>\n",
       "      <th>1074</th>\n",
       "      <td>20</td>\n",
       "      <td>9.07</td>\n",
       "      <td>56</td>\n",
       "      <td>среднее</td>\n",
       "      <td>1</td>\n",
       "      <td>женат / замужем</td>\n",
       "      <td>0</td>\n",
       "      <td>F</td>\n",
       "      <td>сотрудник</td>\n",
       "      <td>1</td>\n",
       "      <td>229,518.54</td>\n",
       "      <td>получение образования</td>\n",
       "    </tr>\n",
       "    <tr>\n",
       "      <th>2510</th>\n",
       "      <td>20</td>\n",
       "      <td>7.44</td>\n",
       "      <td>59</td>\n",
       "      <td>высшее</td>\n",
       "      <td>0</td>\n",
       "      <td>вдовец / вдова</td>\n",
       "      <td>2</td>\n",
       "      <td>F</td>\n",
       "      <td>сотрудник</td>\n",
       "      <td>0</td>\n",
       "      <td>264,474.84</td>\n",
       "      <td>операции с коммерческой недвижимостью</td>\n",
       "    </tr>\n",
       "    <tr>\n",
       "      <th>2941</th>\n",
       "      <td>20</td>\n",
       "      <td>5.92</td>\n",
       "      <td>42</td>\n",
       "      <td>среднее</td>\n",
       "      <td>1</td>\n",
       "      <td>женат / замужем</td>\n",
       "      <td>0</td>\n",
       "      <td>F</td>\n",
       "      <td>сотрудник</td>\n",
       "      <td>0</td>\n",
       "      <td>199,739.94</td>\n",
       "      <td>на покупку автомобиля</td>\n",
       "    </tr>\n",
       "  </tbody>\n",
       "</table>\n",
       "</div>"
      ],
      "text/plain": [
       "      children  years_employed  dob_years education  education_id  \\\n",
       "606         20            2.41         21   среднее             1   \n",
       "720         20            2.34         44   среднее             1   \n",
       "1074        20            9.07         56   среднее             1   \n",
       "2510        20            7.44         59    высшее             0   \n",
       "2941        20            5.92         42   среднее             1   \n",
       "\n",
       "        family_status  family_status_id gender income_type  debt  \\\n",
       "606   женат / замужем                 0      M   компаньон     0   \n",
       "720   женат / замужем                 0      F   компаньон     0   \n",
       "1074  женат / замужем                 0      F   сотрудник     1   \n",
       "2510   вдовец / вдова                 2      F   сотрудник     0   \n",
       "2941  женат / замужем                 0      F   сотрудник     0   \n",
       "\n",
       "      total_income                                purpose  \n",
       "606     145,334.87                          покупка жилья  \n",
       "720     112,998.74                   покупка недвижимости  \n",
       "1074    229,518.54                  получение образования  \n",
       "2510    264,474.84  операции с коммерческой недвижимостью  \n",
       "2941    199,739.94                  на покупку автомобиля  "
      ]
     },
     "execution_count": 17,
     "metadata": {},
     "output_type": "execute_result"
    }
   ],
   "source": [
    "# сохраним датафрейм со строками с аномально большими значениями в переменную `children_anomaly`,\n",
    "# с её помощью расчитаем долю этих данных в столбце в %, затем выведем результат на экран.\n",
    "\n",
    "children_anomaly = df[df['children'] == 20] \n",
    "children_anomaly_share = round(len(children_anomaly) / len(df['children']) * 100, 2)\n",
    "\n",
    "print(f'''Количество строк с аномальными значениями - {len(children_anomaly)}\n",
    "Доля значений составляет {children_anomaly_share} %''')\n",
    "children_anomaly.head()"
   ]
  },
  {
   "cell_type": "code",
   "execution_count": 18,
   "id": "35447877",
   "metadata": {
    "scrolled": true
   },
   "outputs": [
    {
     "name": "stdout",
     "output_type": "stream",
     "text": [
      "Количество строк с аномальными значениями - 47\n",
      "Доля значений составляет 0.22 %\n"
     ]
    },
    {
     "data": {
      "text/html": [
       "<div>\n",
       "<style scoped>\n",
       "    .dataframe tbody tr th:only-of-type {\n",
       "        vertical-align: middle;\n",
       "    }\n",
       "\n",
       "    .dataframe tbody tr th {\n",
       "        vertical-align: top;\n",
       "    }\n",
       "\n",
       "    .dataframe thead th {\n",
       "        text-align: right;\n",
       "    }\n",
       "</style>\n",
       "<table border=\"1\" class=\"dataframe\">\n",
       "  <thead>\n",
       "    <tr style=\"text-align: right;\">\n",
       "      <th></th>\n",
       "      <th>children</th>\n",
       "      <th>years_employed</th>\n",
       "      <th>dob_years</th>\n",
       "      <th>education</th>\n",
       "      <th>education_id</th>\n",
       "      <th>family_status</th>\n",
       "      <th>family_status_id</th>\n",
       "      <th>gender</th>\n",
       "      <th>income_type</th>\n",
       "      <th>debt</th>\n",
       "      <th>total_income</th>\n",
       "      <th>purpose</th>\n",
       "    </tr>\n",
       "  </thead>\n",
       "  <tbody>\n",
       "    <tr>\n",
       "      <th>291</th>\n",
       "      <td>-1</td>\n",
       "      <td>12.10</td>\n",
       "      <td>46</td>\n",
       "      <td>среднее</td>\n",
       "      <td>1</td>\n",
       "      <td>гражданский брак</td>\n",
       "      <td>1</td>\n",
       "      <td>F</td>\n",
       "      <td>сотрудник</td>\n",
       "      <td>0</td>\n",
       "      <td>102,816.35</td>\n",
       "      <td>профильное образование</td>\n",
       "    </tr>\n",
       "    <tr>\n",
       "      <th>705</th>\n",
       "      <td>-1</td>\n",
       "      <td>2.47</td>\n",
       "      <td>50</td>\n",
       "      <td>среднее</td>\n",
       "      <td>1</td>\n",
       "      <td>женат / замужем</td>\n",
       "      <td>0</td>\n",
       "      <td>F</td>\n",
       "      <td>госслужащий</td>\n",
       "      <td>0</td>\n",
       "      <td>137,882.90</td>\n",
       "      <td>приобретение автомобиля</td>\n",
       "    </tr>\n",
       "    <tr>\n",
       "      <th>742</th>\n",
       "      <td>-1</td>\n",
       "      <td>8.70</td>\n",
       "      <td>57</td>\n",
       "      <td>среднее</td>\n",
       "      <td>1</td>\n",
       "      <td>женат / замужем</td>\n",
       "      <td>0</td>\n",
       "      <td>F</td>\n",
       "      <td>сотрудник</td>\n",
       "      <td>0</td>\n",
       "      <td>64,268.04</td>\n",
       "      <td>дополнительное образование</td>\n",
       "    </tr>\n",
       "    <tr>\n",
       "      <th>800</th>\n",
       "      <td>-1</td>\n",
       "      <td>6.01</td>\n",
       "      <td>54</td>\n",
       "      <td>среднее</td>\n",
       "      <td>1</td>\n",
       "      <td>Не женат / не замужем</td>\n",
       "      <td>4</td>\n",
       "      <td>F</td>\n",
       "      <td>пенсионер</td>\n",
       "      <td>0</td>\n",
       "      <td>86,293.72</td>\n",
       "      <td>дополнительное образование</td>\n",
       "    </tr>\n",
       "    <tr>\n",
       "      <th>941</th>\n",
       "      <td>-1</td>\n",
       "      <td>6.01</td>\n",
       "      <td>57</td>\n",
       "      <td>Среднее</td>\n",
       "      <td>1</td>\n",
       "      <td>женат / замужем</td>\n",
       "      <td>0</td>\n",
       "      <td>F</td>\n",
       "      <td>пенсионер</td>\n",
       "      <td>0</td>\n",
       "      <td>145,017.94</td>\n",
       "      <td>на покупку своего автомобиля</td>\n",
       "    </tr>\n",
       "  </tbody>\n",
       "</table>\n",
       "</div>"
      ],
      "text/plain": [
       "     children  years_employed  dob_years education  education_id  \\\n",
       "291        -1           12.10         46   среднее             1   \n",
       "705        -1            2.47         50   среднее             1   \n",
       "742        -1            8.70         57   среднее             1   \n",
       "800        -1            6.01         54   среднее             1   \n",
       "941        -1            6.01         57   Среднее             1   \n",
       "\n",
       "             family_status  family_status_id gender  income_type  debt  \\\n",
       "291       гражданский брак                 1      F    сотрудник     0   \n",
       "705        женат / замужем                 0      F  госслужащий     0   \n",
       "742        женат / замужем                 0      F    сотрудник     0   \n",
       "800  Не женат / не замужем                 4      F    пенсионер     0   \n",
       "941        женат / замужем                 0      F    пенсионер     0   \n",
       "\n",
       "     total_income                       purpose  \n",
       "291    102,816.35        профильное образование  \n",
       "705    137,882.90       приобретение автомобиля  \n",
       "742     64,268.04    дополнительное образование  \n",
       "800     86,293.72    дополнительное образование  \n",
       "941    145,017.94  на покупку своего автомобиля  "
      ]
     },
     "execution_count": 18,
     "metadata": {},
     "output_type": "execute_result"
    }
   ],
   "source": [
    "# сделаем тоже самое для отрицательных значений в столбце.\n",
    "\n",
    "children_anomaly = df[df['children'] < 0] \n",
    "children_anomaly_share = round(len(children_anomaly) / len(df['children']) * 100, 2)\n",
    "\n",
    "print(f'''Количество строк с аномальными значениями - {len(children_anomaly)}\n",
    "Доля значений составляет {children_anomaly_share} %''')\n",
    "children_anomaly.head()\n",
    "\n"
   ]
  },
  {
   "cell_type": "markdown",
   "id": "63f7c8b6",
   "metadata": {},
   "source": [
    "Суммарная доля аномальных значений составляет меньше 1%. В таком случае данные не повлияют на результаты исследования, потому можно их удалить:"
   ]
  },
  {
   "cell_type": "code",
   "execution_count": 19,
   "id": "39fa4799",
   "metadata": {},
   "outputs": [
    {
     "data": {
      "text/plain": [
       "0    14149\n",
       "1     4818\n",
       "2     2055\n",
       "3      330\n",
       "4       41\n",
       "5        9\n",
       "Name: children, dtype: int64"
      ]
     },
     "execution_count": 19,
     "metadata": {},
     "output_type": "execute_result"
    }
   ],
   "source": [
    "df = df[(df['children'] >= 0) & (df['children'] <= 5)] # оставляем только строки с количеством детей от 0 до 5\n",
    "df['children'].value_counts() # снова считаем значения столбца\n"
   ]
  },
  {
   "cell_type": "markdown",
   "id": "e5937ffa",
   "metadata": {},
   "source": [
    "---\n",
    "**Вывод**\n",
    "\n",
    "В столбце `days_employed` помимо пропусков были обнаружены аномальные значение (слишком большие или отрицательные значения). Они были обработаны следующим образом:\n",
    "\n",
    "1. Сделано предположение, что отрицательные данные корректны, но записаны с неправильным знаком - значения были умножены на (-1).\n",
    "2. Данные в столбце выразили в годах стажа вместо дней. Столбцец переименован, данные разделены на 365.\n",
    "3. Аномально большие значние были выявлены вычитанием стажа работа из возраста клиента с условием, что клиента предположительно начали работать не раньше 14 лет - таким образом доля аномальных значение составила 0.76%. Но при выполнении шага также были обнаружены нулевые значения в данных с возрастом клиентов - после их заполнения медианым значением итоговая доля аномальных значений составила **16.09%**. Возможно клиенты ошиблись при предоставлении данных или произошла ошибка при выгрузке. Аномальные и пропущенные значения заполены медианой.\n",
    "\n",
    "Также аномальные значения были обнаружены в столбце `children` - `20` и `-1`. Суммарная доля этих значений составила меньше 1% от данных столбца, поэтому они не могут повлиять на результаты исследования и были удалены.\n",
    "\n",
    "В таблице больше не осталось пропущенных значений, потому можно приступать к следующему шагу предобработки данных.\n"
   ]
  },
  {
   "cell_type": "markdown",
   "id": "6a9b4cc5",
   "metadata": {},
   "source": [
    "### Изменение типов данных"
   ]
  },
  {
   "cell_type": "markdown",
   "id": "b446c9a0",
   "metadata": {},
   "source": [
    "Взглянем ещё раз на общую информацию о таблице."
   ]
  },
  {
   "cell_type": "code",
   "execution_count": 20,
   "id": "49a58c9a",
   "metadata": {},
   "outputs": [
    {
     "name": "stdout",
     "output_type": "stream",
     "text": [
      "<class 'pandas.core.frame.DataFrame'>\n",
      "Int64Index: 21402 entries, 0 to 21524\n",
      "Data columns (total 12 columns):\n",
      " #   Column            Non-Null Count  Dtype  \n",
      "---  ------            --------------  -----  \n",
      " 0   children          21402 non-null  int64  \n",
      " 1   years_employed    21402 non-null  float64\n",
      " 2   dob_years         21402 non-null  int64  \n",
      " 3   education         21402 non-null  object \n",
      " 4   education_id      21402 non-null  int64  \n",
      " 5   family_status     21402 non-null  object \n",
      " 6   family_status_id  21402 non-null  int64  \n",
      " 7   gender            21402 non-null  object \n",
      " 8   income_type       21402 non-null  object \n",
      " 9   debt              21402 non-null  int64  \n",
      " 10  total_income      21402 non-null  float64\n",
      " 11  purpose           21402 non-null  object \n",
      "dtypes: float64(2), int64(5), object(5)\n",
      "memory usage: 2.1+ MB\n"
     ]
    }
   ],
   "source": [
    "df.info()"
   ]
  },
  {
   "cell_type": "markdown",
   "id": "f09951c2",
   "metadata": {},
   "source": [
    "Для целей исследования у нас нет необходимости в данных типа `float`, скорее даже наоборот - знаки после запятой лишь усложняют восприятие информации. Изначально в датасете было два столбца с такими данными, `years_employed` *(бывший `days_employed`)* и `total_income`. Поскольку мы использовали медианое значение для заполнения пропусков, в столбце `dob_years` данные также стали относиться к типу `float`. Привёдем данные из всех трёх столбцов к целым числам."
   ]
  },
  {
   "cell_type": "code",
   "execution_count": 21,
   "id": "6583487b",
   "metadata": {},
   "outputs": [
    {
     "data": {
      "text/html": [
       "<div>\n",
       "<style scoped>\n",
       "    .dataframe tbody tr th:only-of-type {\n",
       "        vertical-align: middle;\n",
       "    }\n",
       "\n",
       "    .dataframe tbody tr th {\n",
       "        vertical-align: top;\n",
       "    }\n",
       "\n",
       "    .dataframe thead th {\n",
       "        text-align: right;\n",
       "    }\n",
       "</style>\n",
       "<table border=\"1\" class=\"dataframe\">\n",
       "  <thead>\n",
       "    <tr style=\"text-align: right;\">\n",
       "      <th></th>\n",
       "      <th>years_employed</th>\n",
       "      <th>dob_years</th>\n",
       "      <th>total_income</th>\n",
       "    </tr>\n",
       "  </thead>\n",
       "  <tbody>\n",
       "    <tr>\n",
       "      <th>0</th>\n",
       "      <td>23</td>\n",
       "      <td>42</td>\n",
       "      <td>253875</td>\n",
       "    </tr>\n",
       "    <tr>\n",
       "      <th>1</th>\n",
       "      <td>11</td>\n",
       "      <td>36</td>\n",
       "      <td>112080</td>\n",
       "    </tr>\n",
       "    <tr>\n",
       "      <th>2</th>\n",
       "      <td>15</td>\n",
       "      <td>33</td>\n",
       "      <td>145885</td>\n",
       "    </tr>\n",
       "    <tr>\n",
       "      <th>3</th>\n",
       "      <td>11</td>\n",
       "      <td>32</td>\n",
       "      <td>267628</td>\n",
       "    </tr>\n",
       "    <tr>\n",
       "      <th>4</th>\n",
       "      <td>6</td>\n",
       "      <td>53</td>\n",
       "      <td>158616</td>\n",
       "    </tr>\n",
       "    <tr>\n",
       "      <th>...</th>\n",
       "      <td>...</td>\n",
       "      <td>...</td>\n",
       "      <td>...</td>\n",
       "    </tr>\n",
       "    <tr>\n",
       "      <th>21520</th>\n",
       "      <td>12</td>\n",
       "      <td>43</td>\n",
       "      <td>224791</td>\n",
       "    </tr>\n",
       "    <tr>\n",
       "      <th>21521</th>\n",
       "      <td>6</td>\n",
       "      <td>67</td>\n",
       "      <td>155999</td>\n",
       "    </tr>\n",
       "    <tr>\n",
       "      <th>21522</th>\n",
       "      <td>5</td>\n",
       "      <td>38</td>\n",
       "      <td>89672</td>\n",
       "    </tr>\n",
       "    <tr>\n",
       "      <th>21523</th>\n",
       "      <td>8</td>\n",
       "      <td>38</td>\n",
       "      <td>244093</td>\n",
       "    </tr>\n",
       "    <tr>\n",
       "      <th>21524</th>\n",
       "      <td>5</td>\n",
       "      <td>40</td>\n",
       "      <td>82047</td>\n",
       "    </tr>\n",
       "  </tbody>\n",
       "</table>\n",
       "<p>21402 rows × 3 columns</p>\n",
       "</div>"
      ],
      "text/plain": [
       "       years_employed  dob_years  total_income\n",
       "0                  23         42        253875\n",
       "1                  11         36        112080\n",
       "2                  15         33        145885\n",
       "3                  11         32        267628\n",
       "4                   6         53        158616\n",
       "...               ...        ...           ...\n",
       "21520              12         43        224791\n",
       "21521               6         67        155999\n",
       "21522               5         38         89672\n",
       "21523               8         38        244093\n",
       "21524               5         40         82047\n",
       "\n",
       "[21402 rows x 3 columns]"
      ]
     },
     "execution_count": 21,
     "metadata": {},
     "output_type": "execute_result"
    }
   ],
   "source": [
    "# меняем тип столбцов и смотрим, что получилось\n",
    "\n",
    "df[['years_employed', 'dob_years', 'total_income']] = (\n",
    "    df[['years_employed', 'dob_years', 'total_income']]\n",
    "    .astype(int)\n",
    ")\n",
    "\n",
    "df[['years_employed', 'dob_years', 'total_income']]"
   ]
  },
  {
   "cell_type": "code",
   "execution_count": 22,
   "id": "bc716498",
   "metadata": {
    "scrolled": true
   },
   "outputs": [
    {
     "name": "stdout",
     "output_type": "stream",
     "text": [
      "<class 'pandas.core.frame.DataFrame'>\n",
      "Int64Index: 21402 entries, 0 to 21524\n",
      "Data columns (total 12 columns):\n",
      " #   Column            Non-Null Count  Dtype \n",
      "---  ------            --------------  ----- \n",
      " 0   children          21402 non-null  int64 \n",
      " 1   years_employed    21402 non-null  int32 \n",
      " 2   dob_years         21402 non-null  int32 \n",
      " 3   education         21402 non-null  object\n",
      " 4   education_id      21402 non-null  int64 \n",
      " 5   family_status     21402 non-null  object\n",
      " 6   family_status_id  21402 non-null  int64 \n",
      " 7   gender            21402 non-null  object\n",
      " 8   income_type       21402 non-null  object\n",
      " 9   debt              21402 non-null  int64 \n",
      " 10  total_income      21402 non-null  int32 \n",
      " 11  purpose           21402 non-null  object\n",
      "dtypes: int32(3), int64(4), object(5)\n",
      "memory usage: 1.9+ MB\n"
     ]
    }
   ],
   "source": [
    "df.info() # проверяем типы данных"
   ]
  },
  {
   "cell_type": "markdown",
   "id": "45e68ae1",
   "metadata": {},
   "source": [
    "---\n",
    "**Вывод**\n",
    "\n",
    "Для целей исследования нет необходимости в данных типа `float`, которые содержались в столбцах `years_employed`, `dob_years` и `total_income`. Для упрощения восприятия информации в таблице, все данные этих столбцов были приведены к формату `int`."
   ]
  },
  {
   "cell_type": "markdown",
   "id": "afa03338",
   "metadata": {},
   "source": [
    "### Удаление дубликатов"
   ]
  },
  {
   "cell_type": "markdown",
   "id": "54632d43",
   "metadata": {},
   "source": [
    "Дальше займёмся неявными дубликатами - подробно изучим каждый столбец с типом `object`. При обзоре данных в глаза сразу бросилось наличие в столбце `education` одинаковых данных, записанных в разном регистре. Нужно изучить данные столбца поподробнее."
   ]
  },
  {
   "cell_type": "code",
   "execution_count": 23,
   "id": "f0722180",
   "metadata": {},
   "outputs": [
    {
     "data": {
      "text/plain": [
       "array(['высшее', 'среднее', 'Среднее', 'СРЕДНЕЕ', 'ВЫСШЕЕ',\n",
       "       'неоконченное высшее', 'начальное', 'Высшее',\n",
       "       'НЕОКОНЧЕННОЕ ВЫСШЕЕ', 'Неоконченное высшее', 'НАЧАЛЬНОЕ',\n",
       "       'Начальное', 'Ученая степень', 'УЧЕНАЯ СТЕПЕНЬ', 'ученая степень'],\n",
       "      dtype=object)"
      ]
     },
     "execution_count": 23,
     "metadata": {},
     "output_type": "execute_result"
    }
   ],
   "source": [
    "df['education'].unique() # список уникальных значений столбца"
   ]
  },
  {
   "cell_type": "markdown",
   "id": "e959a54d",
   "metadata": {},
   "source": [
    "Грамматических ошибок не обнаружено, потому данные перестанут дублироваться, если привести их к единому регистру."
   ]
  },
  {
   "cell_type": "code",
   "execution_count": 24,
   "id": "4e392cf4",
   "metadata": {},
   "outputs": [
    {
     "name": "stdout",
     "output_type": "stream",
     "text": [
      "['высшее' 'среднее' 'неоконченное высшее' 'начальное' 'ученая степень']\n"
     ]
    },
    {
     "data": {
      "text/plain": [
       "True"
      ]
     },
     "execution_count": 24,
     "metadata": {},
     "output_type": "execute_result"
    }
   ],
   "source": [
    "df['education'] = df['education'].str.lower() # приведём данные столбца к нижнему регистру\n",
    "print(df['education'].unique()) # посмотрим на новый список уникальных значений\n",
    "\n",
    "len(df['education'].unique()) == len(df['education_id'].unique())\n",
    "# сравним количество уникальных значений `education` и `education_id`, \n",
    "# для дальнейшего исследования важно, чтобы они были равны "
   ]
  },
  {
   "cell_type": "markdown",
   "id": "d52e2332",
   "metadata": {},
   "source": [
    "Дальше попробуем также сравнить столбцы `family_status` и `family_status_id` - если дубликатов нет, то они также должны быть равны."
   ]
  },
  {
   "cell_type": "code",
   "execution_count": 25,
   "id": "a226e3a7",
   "metadata": {},
   "outputs": [
    {
     "data": {
      "text/plain": [
       "True"
      ]
     },
     "execution_count": 25,
     "metadata": {},
     "output_type": "execute_result"
    }
   ],
   "source": [
    "len(df['family_status'].unique()) == len(df['family_status_id'].unique()) # если получится True - дубликатов нет"
   ]
  },
  {
   "cell_type": "markdown",
   "id": "d44c9cf1",
   "metadata": {},
   "source": [
    "Посмотрим значения столбца `gender`:"
   ]
  },
  {
   "cell_type": "code",
   "execution_count": 26,
   "id": "e2890143",
   "metadata": {},
   "outputs": [
    {
     "data": {
      "text/plain": [
       "array(['F', 'M', 'XNA'], dtype=object)"
      ]
     },
     "execution_count": 26,
     "metadata": {},
     "output_type": "execute_result"
    }
   ],
   "source": [
    "df['gender'].unique()"
   ]
  },
  {
   "cell_type": "markdown",
   "id": "e27b1c09",
   "metadata": {},
   "source": [
    "Искали дубликаты, а нашли больше пропущенных значений! Выведем строки с значением `XNA`.  "
   ]
  },
  {
   "cell_type": "code",
   "execution_count": 27,
   "id": "2b6eedfd",
   "metadata": {
    "scrolled": true
   },
   "outputs": [
    {
     "data": {
      "text/html": [
       "<div>\n",
       "<style scoped>\n",
       "    .dataframe tbody tr th:only-of-type {\n",
       "        vertical-align: middle;\n",
       "    }\n",
       "\n",
       "    .dataframe tbody tr th {\n",
       "        vertical-align: top;\n",
       "    }\n",
       "\n",
       "    .dataframe thead th {\n",
       "        text-align: right;\n",
       "    }\n",
       "</style>\n",
       "<table border=\"1\" class=\"dataframe\">\n",
       "  <thead>\n",
       "    <tr style=\"text-align: right;\">\n",
       "      <th></th>\n",
       "      <th>children</th>\n",
       "      <th>years_employed</th>\n",
       "      <th>dob_years</th>\n",
       "      <th>education</th>\n",
       "      <th>education_id</th>\n",
       "      <th>family_status</th>\n",
       "      <th>family_status_id</th>\n",
       "      <th>gender</th>\n",
       "      <th>income_type</th>\n",
       "      <th>debt</th>\n",
       "      <th>total_income</th>\n",
       "      <th>purpose</th>\n",
       "    </tr>\n",
       "  </thead>\n",
       "  <tbody>\n",
       "    <tr>\n",
       "      <th>10701</th>\n",
       "      <td>0</td>\n",
       "      <td>6</td>\n",
       "      <td>24</td>\n",
       "      <td>неоконченное высшее</td>\n",
       "      <td>2</td>\n",
       "      <td>гражданский брак</td>\n",
       "      <td>1</td>\n",
       "      <td>XNA</td>\n",
       "      <td>компаньон</td>\n",
       "      <td>0</td>\n",
       "      <td>203905</td>\n",
       "      <td>покупка недвижимости</td>\n",
       "    </tr>\n",
       "  </tbody>\n",
       "</table>\n",
       "</div>"
      ],
      "text/plain": [
       "       children  years_employed  dob_years            education  education_id  \\\n",
       "10701         0               6         24  неоконченное высшее             2   \n",
       "\n",
       "          family_status  family_status_id gender income_type  debt  \\\n",
       "10701  гражданский брак                 1    XNA   компаньон     0   \n",
       "\n",
       "       total_income               purpose  \n",
       "10701        203905  покупка недвижимости  "
      ]
     },
     "execution_count": 27,
     "metadata": {},
     "output_type": "execute_result"
    }
   ],
   "source": [
    "df[df['gender'] == 'XNA']"
   ]
  },
  {
   "cell_type": "markdown",
   "id": "3f2298ec",
   "metadata": {},
   "source": [
    "В датасете всего одна строка с таким значением - возможна ошибка при выгрузке, или же от клиента не было информации в этой категории. Пол клиента невозможно определить по другим данным из датасета, но для задач исследования эти данные не будут использованны, потому оставим этот столбец в первоначальном виде. Дальше перейдём к `income_type`."
   ]
  },
  {
   "cell_type": "code",
   "execution_count": 28,
   "id": "ad7bbb6f",
   "metadata": {},
   "outputs": [
    {
     "data": {
      "text/plain": [
       "array(['сотрудник', 'пенсионер', 'компаньон', 'госслужащий',\n",
       "       'безработный', 'предприниматель', 'студент', 'в декрете'],\n",
       "      dtype=object)"
      ]
     },
     "execution_count": 28,
     "metadata": {},
     "output_type": "execute_result"
    }
   ],
   "source": [
    "df['income_type'].unique() # посмотрим уникальные значения столбца"
   ]
  },
  {
   "cell_type": "markdown",
   "id": "9ff26ad1",
   "metadata": {},
   "source": [
    "С этим столбцом всё в порядке, переходим к последнему - `purpose`"
   ]
  },
  {
   "cell_type": "code",
   "execution_count": 29,
   "id": "626bec29",
   "metadata": {},
   "outputs": [
    {
     "data": {
      "text/plain": [
       "array(['покупка жилья', 'приобретение автомобиля',\n",
       "       'дополнительное образование', 'сыграть свадьбу',\n",
       "       'операции с жильем', 'образование', 'на проведение свадьбы',\n",
       "       'покупка жилья для семьи', 'покупка недвижимости',\n",
       "       'покупка коммерческой недвижимости', 'покупка жилой недвижимости',\n",
       "       'строительство собственной недвижимости', 'недвижимость',\n",
       "       'строительство недвижимости', 'на покупку подержанного автомобиля',\n",
       "       'на покупку своего автомобиля',\n",
       "       'операции с коммерческой недвижимостью',\n",
       "       'строительство жилой недвижимости', 'жилье',\n",
       "       'операции со своей недвижимостью', 'автомобили',\n",
       "       'заняться образованием', 'сделка с подержанным автомобилем',\n",
       "       'получение образования', 'автомобиль', 'свадьба',\n",
       "       'получение дополнительного образования', 'покупка своего жилья',\n",
       "       'операции с недвижимостью', 'получение высшего образования',\n",
       "       'свой автомобиль', 'сделка с автомобилем',\n",
       "       'профильное образование', 'высшее образование',\n",
       "       'покупка жилья для сдачи', 'на покупку автомобиля', 'ремонт жилью',\n",
       "       'заняться высшим образованием'], dtype=object)"
      ]
     },
     "execution_count": 29,
     "metadata": {},
     "output_type": "execute_result"
    }
   ],
   "source": [
    "df['purpose'].unique() # посмотрим уникальные значения столбца"
   ]
  },
  {
   "cell_type": "markdown",
   "id": "127c2856",
   "metadata": {},
   "source": [
    "Вот тут и собрались все дубликаты. Посмотрим на столбец используя метод подсчёта значений:"
   ]
  },
  {
   "cell_type": "code",
   "execution_count": 30,
   "id": "9c1ede40",
   "metadata": {},
   "outputs": [
    {
     "data": {
      "text/plain": [
       "свадьба                                   796\n",
       "на проведение свадьбы                     772\n",
       "сыграть свадьбу                           769\n",
       "операции с недвижимостью                  673\n",
       "покупка коммерческой недвижимости         661\n",
       "покупка жилья для сдачи                   651\n",
       "операции с жильем                         648\n",
       "операции с коммерческой недвижимостью     646\n",
       "жилье                                     642\n",
       "покупка жилья                             641\n",
       "покупка жилья для семьи                   640\n",
       "недвижимость                              632\n",
       "строительство собственной недвижимости    628\n",
       "операции со своей недвижимостью           626\n",
       "строительство жилой недвижимости          622\n",
       "строительство недвижимости                620\n",
       "покупка своего жилья                      619\n",
       "покупка недвижимости                      619\n",
       "ремонт жилью                              609\n",
       "покупка жилой недвижимости                603\n",
       "на покупку своего автомобиля              504\n",
       "заняться высшим образованием              496\n",
       "автомобиль                                492\n",
       "сделка с подержанным автомобилем          484\n",
       "автомобили                                476\n",
       "свой автомобиль                           475\n",
       "на покупку подержанного автомобиля        472\n",
       "на покупку автомобиля                     470\n",
       "приобретение автомобиля                   460\n",
       "дополнительное образование                457\n",
       "сделка с автомобилем                      455\n",
       "высшее образование                        447\n",
       "получение дополнительного образования     445\n",
       "образование                               442\n",
       "получение образования                     441\n",
       "профильное образование                    432\n",
       "получение высшего образования             425\n",
       "заняться образованием                     412\n",
       "Name: purpose, dtype: int64"
      ]
     },
     "execution_count": 30,
     "metadata": {},
     "output_type": "execute_result"
    }
   ],
   "source": [
    "df['purpose'].value_counts()"
   ]
  },
  {
   "cell_type": "markdown",
   "id": "8cbaa567",
   "metadata": {},
   "source": [
    "Данные из столбца можно разделить на четыре типа: `Образование`, `Недвижимость`, `Автомобиль` и `Свадьба`. Несмотря на явно схожие значения, всё же некорректно считать их за дубликаты - кто-то хочет высшее образование, кто-то дополнительное, кто-то хочет новый автомобиль, а не поддержанный - такие детали могут быть важны при необходимости рассмотреть заявки на кредит в индивидуальном порядке. Будет лучше оставить данные в первоначальном виде, а затем применить к ним категоризацию по четырём типам, описанными выше."
   ]
  },
  {
   "cell_type": "markdown",
   "id": "057271e1",
   "metadata": {},
   "source": [
    "В конце проверяем наличие явных дубликатов стандартными методами библиотеки `pandas`:"
   ]
  },
  {
   "cell_type": "code",
   "execution_count": 31,
   "id": "e01f64fc",
   "metadata": {},
   "outputs": [
    {
     "data": {
      "text/plain": [
       "72"
      ]
     },
     "metadata": {},
     "output_type": "display_data"
    },
    {
     "data": {
      "text/plain": [
       "0.34"
      ]
     },
     "execution_count": 31,
     "metadata": {},
     "output_type": "execute_result"
    }
   ],
   "source": [
    "display(df.duplicated().sum()) # выводим количество дубликатов\n",
    "round(df.duplicated().sum()/len(df) * 100, 2) # считаем долю в процентах"
   ]
  },
  {
   "cell_type": "markdown",
   "id": "16762299",
   "metadata": {},
   "source": [
    "Задублированных строк получилось меньше половины процента, можно смело удалять."
   ]
  },
  {
   "cell_type": "code",
   "execution_count": 32,
   "id": "cc548780",
   "metadata": {
    "scrolled": true
   },
   "outputs": [
    {
     "data": {
      "text/plain": [
       "0"
      ]
     },
     "execution_count": 32,
     "metadata": {},
     "output_type": "execute_result"
    }
   ],
   "source": [
    "df = df.drop_duplicates().reset_index(drop=True) # удаляем дубликаты и обновляем индекс строк\n",
    "df.duplicated().sum() # проверяем"
   ]
  },
  {
   "cell_type": "markdown",
   "id": "02131695",
   "metadata": {},
   "source": [
    "---\n",
    "**Вывод**\n",
    "\n",
    "Проведена проверка на наличие дубликатов всех столбцов с данными типа `object`. В столбце `education` были исправлены дубликаты, возникшие в связи с записью в разных регистрах. В столбце `purpose` оказалось много схожих данных, по сути не являющихся дубликатами - корректнее будет позднее применить к ним категоризацию, данные оставлены в изначальном виде в информационных целях. В конце была совершена проверка на явные дубликаты, в ходе которой было выявлено 72 задублированные строки (около 0.34% от общих данных), после чего они были удалены."
   ]
  },
  {
   "cell_type": "markdown",
   "id": "dce904fd",
   "metadata": {},
   "source": [
    "### Формирование дополнительных датафреймов словарей, декомпозиция исходного датафрейма"
   ]
  },
  {
   "cell_type": "markdown",
   "id": "729e520e",
   "metadata": {},
   "source": [
    "Вернёмся к столбцам `education` и `family_status`. Они уже имеют соответствующие столбцы с идентификаторами, что позволяет нам вынести значения столбцов в отдельные таблицы и оставить в основном датафрейме лишь идентификаторы, тем самым упростив чтение данных, а при необходимости уточнить значение идентификатора - всегда можно будет обратиться к этим таблицам - \"словарям\"."
   ]
  },
  {
   "cell_type": "code",
   "execution_count": 33,
   "id": "0e298cc9",
   "metadata": {
    "scrolled": false
   },
   "outputs": [
    {
     "data": {
      "text/html": [
       "<div>\n",
       "<style scoped>\n",
       "    .dataframe tbody tr th:only-of-type {\n",
       "        vertical-align: middle;\n",
       "    }\n",
       "\n",
       "    .dataframe tbody tr th {\n",
       "        vertical-align: top;\n",
       "    }\n",
       "\n",
       "    .dataframe thead th {\n",
       "        text-align: right;\n",
       "    }\n",
       "</style>\n",
       "<table border=\"1\" class=\"dataframe\">\n",
       "  <thead>\n",
       "    <tr style=\"text-align: right;\">\n",
       "      <th></th>\n",
       "      <th>education</th>\n",
       "      <th>education_id</th>\n",
       "    </tr>\n",
       "  </thead>\n",
       "  <tbody>\n",
       "    <tr>\n",
       "      <th>0</th>\n",
       "      <td>высшее</td>\n",
       "      <td>0</td>\n",
       "    </tr>\n",
       "    <tr>\n",
       "      <th>1</th>\n",
       "      <td>среднее</td>\n",
       "      <td>1</td>\n",
       "    </tr>\n",
       "    <tr>\n",
       "      <th>2</th>\n",
       "      <td>неоконченное высшее</td>\n",
       "      <td>2</td>\n",
       "    </tr>\n",
       "    <tr>\n",
       "      <th>3</th>\n",
       "      <td>начальное</td>\n",
       "      <td>3</td>\n",
       "    </tr>\n",
       "    <tr>\n",
       "      <th>4</th>\n",
       "      <td>ученая степень</td>\n",
       "      <td>4</td>\n",
       "    </tr>\n",
       "  </tbody>\n",
       "</table>\n",
       "</div>"
      ],
      "text/plain": [
       "             education  education_id\n",
       "0               высшее             0\n",
       "1              среднее             1\n",
       "2  неоконченное высшее             2\n",
       "3            начальное             3\n",
       "4       ученая степень             4"
      ]
     },
     "metadata": {},
     "output_type": "display_data"
    },
    {
     "data": {
      "text/html": [
       "<div>\n",
       "<style scoped>\n",
       "    .dataframe tbody tr th:only-of-type {\n",
       "        vertical-align: middle;\n",
       "    }\n",
       "\n",
       "    .dataframe tbody tr th {\n",
       "        vertical-align: top;\n",
       "    }\n",
       "\n",
       "    .dataframe thead th {\n",
       "        text-align: right;\n",
       "    }\n",
       "</style>\n",
       "<table border=\"1\" class=\"dataframe\">\n",
       "  <thead>\n",
       "    <tr style=\"text-align: right;\">\n",
       "      <th></th>\n",
       "      <th>family_status</th>\n",
       "      <th>family_status_id</th>\n",
       "    </tr>\n",
       "  </thead>\n",
       "  <tbody>\n",
       "    <tr>\n",
       "      <th>0</th>\n",
       "      <td>женат / замужем</td>\n",
       "      <td>0</td>\n",
       "    </tr>\n",
       "    <tr>\n",
       "      <th>1</th>\n",
       "      <td>гражданский брак</td>\n",
       "      <td>1</td>\n",
       "    </tr>\n",
       "    <tr>\n",
       "      <th>2</th>\n",
       "      <td>вдовец / вдова</td>\n",
       "      <td>2</td>\n",
       "    </tr>\n",
       "    <tr>\n",
       "      <th>3</th>\n",
       "      <td>в разводе</td>\n",
       "      <td>3</td>\n",
       "    </tr>\n",
       "    <tr>\n",
       "      <th>4</th>\n",
       "      <td>Не женат / не замужем</td>\n",
       "      <td>4</td>\n",
       "    </tr>\n",
       "  </tbody>\n",
       "</table>\n",
       "</div>"
      ],
      "text/plain": [
       "           family_status  family_status_id\n",
       "0        женат / замужем                 0\n",
       "1       гражданский брак                 1\n",
       "2         вдовец / вдова                 2\n",
       "3              в разводе                 3\n",
       "4  Не женат / не замужем                 4"
      ]
     },
     "metadata": {},
     "output_type": "display_data"
    },
    {
     "name": "stdout",
     "output_type": "stream",
     "text": [
      "<class 'pandas.core.frame.DataFrame'>\n",
      "RangeIndex: 21330 entries, 0 to 21329\n",
      "Data columns (total 10 columns):\n",
      " #   Column            Non-Null Count  Dtype \n",
      "---  ------            --------------  ----- \n",
      " 0   children          21330 non-null  int64 \n",
      " 1   years_employed    21330 non-null  int32 \n",
      " 2   dob_years         21330 non-null  int32 \n",
      " 3   education_id      21330 non-null  int64 \n",
      " 4   family_status_id  21330 non-null  int64 \n",
      " 5   gender            21330 non-null  object\n",
      " 6   income_type       21330 non-null  object\n",
      " 7   debt              21330 non-null  int64 \n",
      " 8   total_income      21330 non-null  int32 \n",
      " 9   purpose           21330 non-null  object\n",
      "dtypes: int32(3), int64(4), object(3)\n",
      "memory usage: 1.4+ MB\n"
     ]
    }
   ],
   "source": [
    "# создаём две новые таблицы с данными по образованию и семейному статусу клиентов, содержащие соответствующий идентификатор,\n",
    "# затем удаляем лишние столюцы из изначального датафрейма и смотрим, что получилось. \n",
    "\n",
    "education_df = (\n",
    "    df[['education','education_id']]\n",
    "    .drop_duplicates()\n",
    "    .reset_index(drop=True)\n",
    ") \n",
    "\n",
    "family_status_df = (\n",
    "    df[['family_status','family_status_id']]\n",
    "    .drop_duplicates()\n",
    "    .reset_index(drop=True)\n",
    ")\n",
    "\n",
    "df = df.drop(columns=['education', 'family_status'])\n",
    "\n",
    "display(education_df)\n",
    "display(family_status_df)\n",
    "df.info()"
   ]
  },
  {
   "cell_type": "markdown",
   "id": "ee693198",
   "metadata": {},
   "source": [
    "---\n",
    "**Вывод**\n",
    "\n",
    "Для упрощения работы с таблицой для данных по уровню образования и семейным статусом клиентов были созданы отдельные датафреймы (\"словари\"), в изначальной таблице оставлены только идентификаторы. \n",
    "\n",
    "Названия датафреймов для последующих обращений:\n",
    "\n",
    "`education_df` - сведения об уровнях образования\n",
    "<br>\n",
    "`family_status_df` - сведения о семейном статусе"
   ]
  },
  {
   "cell_type": "markdown",
   "id": "4a03424d",
   "metadata": {},
   "source": [
    "### Категоризация дохода"
   ]
  },
  {
   "cell_type": "markdown",
   "id": "7881d6c2",
   "metadata": {},
   "source": [
    "Для целей исследования необходимо категоризовать доходы клиентов. Добавим в датафрейм дополнительный столбец `total_income_category` со следующими категориями:\n",
    "\n",
    "* Доход от 0 до 30000 — категория `E`;\n",
    "* Доход от 30001 до 50000 — категория `D`;\n",
    "* Доход от 50001 до 200000 — категория `C`;\n",
    "* Доход от 200001 до 1000000 — категория `B`;\n",
    "* Доход от 1000001 и выше — категория `A`"
   ]
  },
  {
   "cell_type": "code",
   "execution_count": 34,
   "id": "52980105",
   "metadata": {},
   "outputs": [
    {
     "data": {
      "text/plain": [
       "'Доход составляет 60000, относится к категории C'"
      ]
     },
     "metadata": {},
     "output_type": "display_data"
    },
    {
     "data": {
      "text/plain": [
       "'Доход составляет 1000000000, относится к категории A'"
      ]
     },
     "metadata": {},
     "output_type": "display_data"
    },
    {
     "data": {
      "text/plain": [
       "'Доход составляет 9800, относится к категории E'"
      ]
     },
     "metadata": {},
     "output_type": "display_data"
    }
   ],
   "source": [
    "def income_category(income): #напишем функцию для присвоения категории в соответствии с уровнем дохода\n",
    "    \n",
    "    if 0 < income <= 30000:\n",
    "        return 'E'\n",
    "    if 30001 < income <= 50000:\n",
    "        return 'D'\n",
    "    if 50001 < income <= 200000:\n",
    "        return 'C'\n",
    "    if 200001 < income <= 1000000:\n",
    "        return 'B'\n",
    "    if 1000000 < income:\n",
    "        return 'A'\n",
    "    \n",
    "    # проверим работу функции на случайных числах\n",
    "    \n",
    "try: \n",
    "    income_test_values = [60000, 1000000000, 9800]\n",
    "    \n",
    "    for value in income_test_values:\n",
    "        display(f'Доход составляет {value}, относится к категории {income_category(value)}')    \n",
    "        \n",
    "except:\n",
    "    display('Автор исследования пока что плохо пишет функции :Р')"
   ]
  },
  {
   "cell_type": "code",
   "execution_count": 35,
   "id": "6675b313",
   "metadata": {},
   "outputs": [
    {
     "data": {
      "text/plain": [
       "'Доход составляет 92342, относится к категории C'"
      ]
     },
     "metadata": {},
     "output_type": "display_data"
    },
    {
     "data": {
      "text/plain": [
       "'Доход составляет 203199, относится к категории B'"
      ]
     },
     "metadata": {},
     "output_type": "display_data"
    },
    {
     "data": {
      "text/plain": [
       "'Доход составляет 52746, относится к категории C'"
      ]
     },
     "metadata": {},
     "output_type": "display_data"
    }
   ],
   "source": [
    "# проверим работу функции на небольшом срезе столбца 'total_income'\n",
    "\n",
    "try:\n",
    "    df_test_values = df['total_income'][50:53]  \n",
    "    \n",
    "    for value in df_test_values:\n",
    "        display(f'Доход составляет {value}, относится к категории {income_category(value)}')    \n",
    "        \n",
    "except:\n",
    "    display('Автор исследования функции вроде пишет, но с индексацией слабовато :(')"
   ]
  },
  {
   "cell_type": "markdown",
   "id": "931240b2",
   "metadata": {},
   "source": [
    "Функция работает! Применим её к столбцу `total_income` и создадим дополнительный столбец с результатами."
   ]
  },
  {
   "cell_type": "code",
   "execution_count": 36,
   "id": "d2e45ced",
   "metadata": {
    "scrolled": true
   },
   "outputs": [
    {
     "data": {
      "text/html": [
       "<div>\n",
       "<style scoped>\n",
       "    .dataframe tbody tr th:only-of-type {\n",
       "        vertical-align: middle;\n",
       "    }\n",
       "\n",
       "    .dataframe tbody tr th {\n",
       "        vertical-align: top;\n",
       "    }\n",
       "\n",
       "    .dataframe thead th {\n",
       "        text-align: right;\n",
       "    }\n",
       "</style>\n",
       "<table border=\"1\" class=\"dataframe\">\n",
       "  <thead>\n",
       "    <tr style=\"text-align: right;\">\n",
       "      <th></th>\n",
       "      <th>children</th>\n",
       "      <th>years_employed</th>\n",
       "      <th>dob_years</th>\n",
       "      <th>education_id</th>\n",
       "      <th>family_status_id</th>\n",
       "      <th>gender</th>\n",
       "      <th>income_type</th>\n",
       "      <th>debt</th>\n",
       "      <th>total_income</th>\n",
       "      <th>purpose</th>\n",
       "      <th>income_category</th>\n",
       "    </tr>\n",
       "  </thead>\n",
       "  <tbody>\n",
       "    <tr>\n",
       "      <th>0</th>\n",
       "      <td>1</td>\n",
       "      <td>23</td>\n",
       "      <td>42</td>\n",
       "      <td>0</td>\n",
       "      <td>0</td>\n",
       "      <td>F</td>\n",
       "      <td>сотрудник</td>\n",
       "      <td>0</td>\n",
       "      <td>253875</td>\n",
       "      <td>покупка жилья</td>\n",
       "      <td>B</td>\n",
       "    </tr>\n",
       "    <tr>\n",
       "      <th>1</th>\n",
       "      <td>1</td>\n",
       "      <td>11</td>\n",
       "      <td>36</td>\n",
       "      <td>1</td>\n",
       "      <td>0</td>\n",
       "      <td>F</td>\n",
       "      <td>сотрудник</td>\n",
       "      <td>0</td>\n",
       "      <td>112080</td>\n",
       "      <td>приобретение автомобиля</td>\n",
       "      <td>C</td>\n",
       "    </tr>\n",
       "    <tr>\n",
       "      <th>2</th>\n",
       "      <td>0</td>\n",
       "      <td>15</td>\n",
       "      <td>33</td>\n",
       "      <td>1</td>\n",
       "      <td>0</td>\n",
       "      <td>M</td>\n",
       "      <td>сотрудник</td>\n",
       "      <td>0</td>\n",
       "      <td>145885</td>\n",
       "      <td>покупка жилья</td>\n",
       "      <td>C</td>\n",
       "    </tr>\n",
       "    <tr>\n",
       "      <th>3</th>\n",
       "      <td>3</td>\n",
       "      <td>11</td>\n",
       "      <td>32</td>\n",
       "      <td>1</td>\n",
       "      <td>0</td>\n",
       "      <td>M</td>\n",
       "      <td>сотрудник</td>\n",
       "      <td>0</td>\n",
       "      <td>267628</td>\n",
       "      <td>дополнительное образование</td>\n",
       "      <td>B</td>\n",
       "    </tr>\n",
       "    <tr>\n",
       "      <th>4</th>\n",
       "      <td>0</td>\n",
       "      <td>6</td>\n",
       "      <td>53</td>\n",
       "      <td>1</td>\n",
       "      <td>1</td>\n",
       "      <td>F</td>\n",
       "      <td>пенсионер</td>\n",
       "      <td>0</td>\n",
       "      <td>158616</td>\n",
       "      <td>сыграть свадьбу</td>\n",
       "      <td>C</td>\n",
       "    </tr>\n",
       "    <tr>\n",
       "      <th>5</th>\n",
       "      <td>0</td>\n",
       "      <td>2</td>\n",
       "      <td>27</td>\n",
       "      <td>0</td>\n",
       "      <td>1</td>\n",
       "      <td>M</td>\n",
       "      <td>компаньон</td>\n",
       "      <td>0</td>\n",
       "      <td>255763</td>\n",
       "      <td>покупка жилья</td>\n",
       "      <td>B</td>\n",
       "    </tr>\n",
       "    <tr>\n",
       "      <th>6</th>\n",
       "      <td>0</td>\n",
       "      <td>7</td>\n",
       "      <td>43</td>\n",
       "      <td>0</td>\n",
       "      <td>0</td>\n",
       "      <td>F</td>\n",
       "      <td>компаньон</td>\n",
       "      <td>0</td>\n",
       "      <td>240525</td>\n",
       "      <td>операции с жильем</td>\n",
       "      <td>B</td>\n",
       "    </tr>\n",
       "    <tr>\n",
       "      <th>7</th>\n",
       "      <td>0</td>\n",
       "      <td>0</td>\n",
       "      <td>50</td>\n",
       "      <td>1</td>\n",
       "      <td>0</td>\n",
       "      <td>M</td>\n",
       "      <td>сотрудник</td>\n",
       "      <td>0</td>\n",
       "      <td>135823</td>\n",
       "      <td>образование</td>\n",
       "      <td>C</td>\n",
       "    </tr>\n",
       "    <tr>\n",
       "      <th>8</th>\n",
       "      <td>2</td>\n",
       "      <td>18</td>\n",
       "      <td>35</td>\n",
       "      <td>0</td>\n",
       "      <td>1</td>\n",
       "      <td>F</td>\n",
       "      <td>сотрудник</td>\n",
       "      <td>0</td>\n",
       "      <td>95856</td>\n",
       "      <td>на проведение свадьбы</td>\n",
       "      <td>C</td>\n",
       "    </tr>\n",
       "    <tr>\n",
       "      <th>9</th>\n",
       "      <td>0</td>\n",
       "      <td>5</td>\n",
       "      <td>41</td>\n",
       "      <td>1</td>\n",
       "      <td>0</td>\n",
       "      <td>M</td>\n",
       "      <td>сотрудник</td>\n",
       "      <td>0</td>\n",
       "      <td>144425</td>\n",
       "      <td>покупка жилья для семьи</td>\n",
       "      <td>C</td>\n",
       "    </tr>\n",
       "  </tbody>\n",
       "</table>\n",
       "</div>"
      ],
      "text/plain": [
       "   children  years_employed  dob_years  education_id  family_status_id gender  \\\n",
       "0         1              23         42             0                 0      F   \n",
       "1         1              11         36             1                 0      F   \n",
       "2         0              15         33             1                 0      M   \n",
       "3         3              11         32             1                 0      M   \n",
       "4         0               6         53             1                 1      F   \n",
       "5         0               2         27             0                 1      M   \n",
       "6         0               7         43             0                 0      F   \n",
       "7         0               0         50             1                 0      M   \n",
       "8         2              18         35             0                 1      F   \n",
       "9         0               5         41             1                 0      M   \n",
       "\n",
       "  income_type  debt  total_income                     purpose income_category  \n",
       "0   сотрудник     0        253875               покупка жилья               B  \n",
       "1   сотрудник     0        112080     приобретение автомобиля               C  \n",
       "2   сотрудник     0        145885               покупка жилья               C  \n",
       "3   сотрудник     0        267628  дополнительное образование               B  \n",
       "4   пенсионер     0        158616             сыграть свадьбу               C  \n",
       "5   компаньон     0        255763               покупка жилья               B  \n",
       "6   компаньон     0        240525           операции с жильем               B  \n",
       "7   сотрудник     0        135823                 образование               C  \n",
       "8   сотрудник     0         95856       на проведение свадьбы               C  \n",
       "9   сотрудник     0        144425     покупка жилья для семьи               C  "
      ]
     },
     "execution_count": 36,
     "metadata": {},
     "output_type": "execute_result"
    }
   ],
   "source": [
    "# применяем функцию и сохраняем результат в отдельном столбце\n",
    "\n",
    "df['income_category'] = df['total_income'].apply(income_category)\n",
    "df.head(10) # смотрим на обновлённый датафрейм"
   ]
  },
  {
   "cell_type": "markdown",
   "id": "895d46ef",
   "metadata": {},
   "source": [
    "---\n",
    "**Вывод**\n",
    "\n",
    "Для выполения целей исследования была написана функция для присваивания категории в зависимости от уровня дохода клиента, которая сохраняет результат в новый столбец `income_category`. "
   ]
  },
  {
   "cell_type": "markdown",
   "id": "6691e67f",
   "metadata": {},
   "source": [
    "### Категоризация целей кредита"
   ]
  },
  {
   "cell_type": "markdown",
   "id": "eda90b3b",
   "metadata": {},
   "source": [
    "Вернёмся к столбцу `purpose`:"
   ]
  },
  {
   "cell_type": "code",
   "execution_count": 37,
   "id": "92d5f691",
   "metadata": {},
   "outputs": [
    {
     "data": {
      "text/plain": [
       "свадьба                                   790\n",
       "на проведение свадьбы                     762\n",
       "сыграть свадьбу                           760\n",
       "операции с недвижимостью                  672\n",
       "покупка коммерческой недвижимости         658\n",
       "покупка жилья для сдачи                   649\n",
       "операции с жильем                         647\n",
       "операции с коммерческой недвижимостью     645\n",
       "жилье                                     641\n",
       "покупка жилья                             640\n",
       "покупка жилья для семьи                   637\n",
       "недвижимость                              631\n",
       "строительство собственной недвижимости    628\n",
       "операции со своей недвижимостью           623\n",
       "строительство жилой недвижимости          620\n",
       "строительство недвижимости                619\n",
       "покупка своего жилья                      619\n",
       "покупка недвижимости                      616\n",
       "ремонт жилью                              604\n",
       "покупка жилой недвижимости                602\n",
       "на покупку своего автомобиля              504\n",
       "заняться высшим образованием              496\n",
       "автомобиль                                491\n",
       "сделка с подержанным автомобилем          481\n",
       "автомобили                                476\n",
       "свой автомобиль                           473\n",
       "на покупку подержанного автомобиля        471\n",
       "на покупку автомобиля                     469\n",
       "приобретение автомобиля                   459\n",
       "сделка с автомобилем                      455\n",
       "дополнительное образование                455\n",
       "высшее образование                        446\n",
       "получение дополнительного образования     444\n",
       "образование                               442\n",
       "получение образования                     440\n",
       "профильное образование                    432\n",
       "получение высшего образования             425\n",
       "заняться образованием                     408\n",
       "Name: purpose, dtype: int64"
      ]
     },
     "execution_count": 37,
     "metadata": {},
     "output_type": "execute_result"
    }
   ],
   "source": [
    "df['purpose'].value_counts()"
   ]
  },
  {
   "cell_type": "markdown",
   "id": "a42e0f7f",
   "metadata": {},
   "source": [
    "Создадим ещё одну функцию, которая на основании данных из столбца `purpose` сформирует новый столбец `purpose_category`, в который войдут следующие категории:\n",
    "\n",
    "* `операции с автомобилем`\n",
    "* `операции с недвижимостью`\n",
    "* `проведение свадьбы`\n",
    "* `получение образования`\n",
    "\n",
    "Но для начала нужно придумать, как будет осуществлена проверка того, что все данные попали в категории выше. Уникальных значений много, потому довольно легко что-то упустить. Если функция назначения категории будет работать на основе поиска частичных совпадений в строке (например, для категории `операция с автомобилем` будем искать данные, содержащие `'авто'`), то можно будет просто сравнить сумму количества значение во всех категориях c количеством значений в столбце."
   ]
  },
  {
   "cell_type": "code",
   "execution_count": 38,
   "id": "8c368e04",
   "metadata": {},
   "outputs": [
    {
     "name": "stdout",
     "output_type": "stream",
     "text": [
      "Всего в столбце 21330 значений.\n",
      "Сумма категорий составляет 21330 значений.\n"
     ]
    }
   ],
   "source": [
    "category_sum = 0 # создадим счётчик для суммы значений в категориях\n",
    "\n",
    "category_sum += df['purpose'].str.contains('авто').sum() # ищем данные для категории 'операции с автомобилем'\n",
    "category_sum += df['purpose'].str.contains('недвижим|жил').sum() # ищем данные для категории 'операции с недвижимостью'\n",
    "category_sum += df['purpose'].str.contains('свадьб').sum() # ищем данные для категории 'проведение свадьбы'\n",
    "category_sum += df['purpose'].str.contains('образован').sum() # ищем данные для категории 'получение образования'\n",
    "\n",
    "print(f\"Всего в столбце {df['purpose'].count().sum()} значений.\") # вспоминаем, сколько всего данных должно быть в столбце\n",
    "print(f\"Сумма категорий составляет {category_sum} значений.\") # выводим сумму категорий"
   ]
  },
  {
   "cell_type": "markdown",
   "id": "0916a11b",
   "metadata": {},
   "source": [
    "Метод работает, все данные успешно распределяются по категориям. Напишем функцию по аналогии с той, которой мы присваивали категорию дохода:"
   ]
  },
  {
   "cell_type": "code",
   "execution_count": 39,
   "id": "a6060aed",
   "metadata": {},
   "outputs": [
    {
     "data": {
      "text/plain": [
       "'Клиента указал \"хочу автомобиль\", категория - операции с автомобилем'"
      ]
     },
     "metadata": {},
     "output_type": "display_data"
    },
    {
     "data": {
      "text/plain": [
       "'Клиента указал \"дайте денег на свадьбу!\", категория - проведение свадьбы'"
      ]
     },
     "metadata": {},
     "output_type": "display_data"
    },
    {
     "data": {
      "text/plain": [
       "'Клиента указал \"жилья нет никакого :(\", категория - операции с недвижимостью'"
      ]
     },
     "metadata": {},
     "output_type": "display_data"
    }
   ],
   "source": [
    "def purpose_category(purpose): #напишем функцию для присвоения категории в соответствии с целью получения кредита\n",
    "    \n",
    "    if 'авто' in purpose:\n",
    "            return 'операции с автомобилем'\n",
    "    if 'недвижим' in purpose or 'жил' in purpose:\n",
    "            return 'операции с недвижимостью'\n",
    "    if 'свадьб' in purpose:\n",
    "            return 'проведение свадьбы'\n",
    "    if 'образован' in purpose:\n",
    "            return 'получение образования'\n",
    "    \n",
    "    \n",
    "    # проверим работу функции на случайных значениях\n",
    "    \n",
    "try: \n",
    "    purpose_test_values = ['хочу автомобиль', 'дайте денег на свадьбу!', 'жилья нет никакого :(']\n",
    "    \n",
    "    for value in purpose_test_values:\n",
    "        display(f'Клиента указал \"{value}\", категория - {purpose_category(value)}')    \n",
    "        \n",
    "except:\n",
    "    display('Автор исследования всё ещё плохо пишет функции :Р')"
   ]
  },
  {
   "cell_type": "code",
   "execution_count": 40,
   "id": "4587038d",
   "metadata": {},
   "outputs": [
    {
     "data": {
      "text/plain": [
       "'Клиента указал \"на покупку автомобиля\", категория - операции с автомобилем'"
      ]
     },
     "metadata": {},
     "output_type": "display_data"
    },
    {
     "data": {
      "text/plain": [
       "'Клиента указал \"на проведение свадьбы\", категория - проведение свадьбы'"
      ]
     },
     "metadata": {},
     "output_type": "display_data"
    },
    {
     "data": {
      "text/plain": [
       "'Клиента указал \"покупка коммерческой недвижимости\", категория - операции с недвижимостью'"
      ]
     },
     "metadata": {},
     "output_type": "display_data"
    }
   ],
   "source": [
    "# проверим работу функции на небольшом срезе столбца 'total_income'\n",
    "\n",
    "try:\n",
    "    df_test_values = df['purpose'][117:120]  \n",
    "    \n",
    "    for value in df_test_values:\n",
    "        display(f'Клиента указал \"{value}\", категория - {purpose_category(value)}')            \n",
    "        \n",
    "except:\n",
    "    display('Автор исследования функции вроде пишет, но с индексацией слабовато :(')"
   ]
  },
  {
   "cell_type": "markdown",
   "id": "d274e878",
   "metadata": {},
   "source": [
    "Функция работает исправно, можем использовать её в работе:"
   ]
  },
  {
   "cell_type": "code",
   "execution_count": 41,
   "id": "49340494",
   "metadata": {
    "scrolled": false
   },
   "outputs": [
    {
     "data": {
      "text/html": [
       "<div>\n",
       "<style scoped>\n",
       "    .dataframe tbody tr th:only-of-type {\n",
       "        vertical-align: middle;\n",
       "    }\n",
       "\n",
       "    .dataframe tbody tr th {\n",
       "        vertical-align: top;\n",
       "    }\n",
       "\n",
       "    .dataframe thead th {\n",
       "        text-align: right;\n",
       "    }\n",
       "</style>\n",
       "<table border=\"1\" class=\"dataframe\">\n",
       "  <thead>\n",
       "    <tr style=\"text-align: right;\">\n",
       "      <th></th>\n",
       "      <th>children</th>\n",
       "      <th>years_employed</th>\n",
       "      <th>dob_years</th>\n",
       "      <th>education_id</th>\n",
       "      <th>family_status_id</th>\n",
       "      <th>gender</th>\n",
       "      <th>income_type</th>\n",
       "      <th>debt</th>\n",
       "      <th>total_income</th>\n",
       "      <th>purpose</th>\n",
       "      <th>income_category</th>\n",
       "      <th>purpose_category</th>\n",
       "    </tr>\n",
       "  </thead>\n",
       "  <tbody>\n",
       "    <tr>\n",
       "      <th>0</th>\n",
       "      <td>1</td>\n",
       "      <td>23</td>\n",
       "      <td>42</td>\n",
       "      <td>0</td>\n",
       "      <td>0</td>\n",
       "      <td>F</td>\n",
       "      <td>сотрудник</td>\n",
       "      <td>0</td>\n",
       "      <td>253875</td>\n",
       "      <td>покупка жилья</td>\n",
       "      <td>B</td>\n",
       "      <td>операции с недвижимостью</td>\n",
       "    </tr>\n",
       "    <tr>\n",
       "      <th>1</th>\n",
       "      <td>1</td>\n",
       "      <td>11</td>\n",
       "      <td>36</td>\n",
       "      <td>1</td>\n",
       "      <td>0</td>\n",
       "      <td>F</td>\n",
       "      <td>сотрудник</td>\n",
       "      <td>0</td>\n",
       "      <td>112080</td>\n",
       "      <td>приобретение автомобиля</td>\n",
       "      <td>C</td>\n",
       "      <td>операции с автомобилем</td>\n",
       "    </tr>\n",
       "    <tr>\n",
       "      <th>2</th>\n",
       "      <td>0</td>\n",
       "      <td>15</td>\n",
       "      <td>33</td>\n",
       "      <td>1</td>\n",
       "      <td>0</td>\n",
       "      <td>M</td>\n",
       "      <td>сотрудник</td>\n",
       "      <td>0</td>\n",
       "      <td>145885</td>\n",
       "      <td>покупка жилья</td>\n",
       "      <td>C</td>\n",
       "      <td>операции с недвижимостью</td>\n",
       "    </tr>\n",
       "    <tr>\n",
       "      <th>3</th>\n",
       "      <td>3</td>\n",
       "      <td>11</td>\n",
       "      <td>32</td>\n",
       "      <td>1</td>\n",
       "      <td>0</td>\n",
       "      <td>M</td>\n",
       "      <td>сотрудник</td>\n",
       "      <td>0</td>\n",
       "      <td>267628</td>\n",
       "      <td>дополнительное образование</td>\n",
       "      <td>B</td>\n",
       "      <td>получение образования</td>\n",
       "    </tr>\n",
       "    <tr>\n",
       "      <th>4</th>\n",
       "      <td>0</td>\n",
       "      <td>6</td>\n",
       "      <td>53</td>\n",
       "      <td>1</td>\n",
       "      <td>1</td>\n",
       "      <td>F</td>\n",
       "      <td>пенсионер</td>\n",
       "      <td>0</td>\n",
       "      <td>158616</td>\n",
       "      <td>сыграть свадьбу</td>\n",
       "      <td>C</td>\n",
       "      <td>проведение свадьбы</td>\n",
       "    </tr>\n",
       "    <tr>\n",
       "      <th>5</th>\n",
       "      <td>0</td>\n",
       "      <td>2</td>\n",
       "      <td>27</td>\n",
       "      <td>0</td>\n",
       "      <td>1</td>\n",
       "      <td>M</td>\n",
       "      <td>компаньон</td>\n",
       "      <td>0</td>\n",
       "      <td>255763</td>\n",
       "      <td>покупка жилья</td>\n",
       "      <td>B</td>\n",
       "      <td>операции с недвижимостью</td>\n",
       "    </tr>\n",
       "    <tr>\n",
       "      <th>6</th>\n",
       "      <td>0</td>\n",
       "      <td>7</td>\n",
       "      <td>43</td>\n",
       "      <td>0</td>\n",
       "      <td>0</td>\n",
       "      <td>F</td>\n",
       "      <td>компаньон</td>\n",
       "      <td>0</td>\n",
       "      <td>240525</td>\n",
       "      <td>операции с жильем</td>\n",
       "      <td>B</td>\n",
       "      <td>операции с недвижимостью</td>\n",
       "    </tr>\n",
       "    <tr>\n",
       "      <th>7</th>\n",
       "      <td>0</td>\n",
       "      <td>0</td>\n",
       "      <td>50</td>\n",
       "      <td>1</td>\n",
       "      <td>0</td>\n",
       "      <td>M</td>\n",
       "      <td>сотрудник</td>\n",
       "      <td>0</td>\n",
       "      <td>135823</td>\n",
       "      <td>образование</td>\n",
       "      <td>C</td>\n",
       "      <td>получение образования</td>\n",
       "    </tr>\n",
       "    <tr>\n",
       "      <th>8</th>\n",
       "      <td>2</td>\n",
       "      <td>18</td>\n",
       "      <td>35</td>\n",
       "      <td>0</td>\n",
       "      <td>1</td>\n",
       "      <td>F</td>\n",
       "      <td>сотрудник</td>\n",
       "      <td>0</td>\n",
       "      <td>95856</td>\n",
       "      <td>на проведение свадьбы</td>\n",
       "      <td>C</td>\n",
       "      <td>проведение свадьбы</td>\n",
       "    </tr>\n",
       "    <tr>\n",
       "      <th>9</th>\n",
       "      <td>0</td>\n",
       "      <td>5</td>\n",
       "      <td>41</td>\n",
       "      <td>1</td>\n",
       "      <td>0</td>\n",
       "      <td>M</td>\n",
       "      <td>сотрудник</td>\n",
       "      <td>0</td>\n",
       "      <td>144425</td>\n",
       "      <td>покупка жилья для семьи</td>\n",
       "      <td>C</td>\n",
       "      <td>операции с недвижимостью</td>\n",
       "    </tr>\n",
       "  </tbody>\n",
       "</table>\n",
       "</div>"
      ],
      "text/plain": [
       "   children  years_employed  dob_years  education_id  family_status_id gender  \\\n",
       "0         1              23         42             0                 0      F   \n",
       "1         1              11         36             1                 0      F   \n",
       "2         0              15         33             1                 0      M   \n",
       "3         3              11         32             1                 0      M   \n",
       "4         0               6         53             1                 1      F   \n",
       "5         0               2         27             0                 1      M   \n",
       "6         0               7         43             0                 0      F   \n",
       "7         0               0         50             1                 0      M   \n",
       "8         2              18         35             0                 1      F   \n",
       "9         0               5         41             1                 0      M   \n",
       "\n",
       "  income_type  debt  total_income                     purpose income_category  \\\n",
       "0   сотрудник     0        253875               покупка жилья               B   \n",
       "1   сотрудник     0        112080     приобретение автомобиля               C   \n",
       "2   сотрудник     0        145885               покупка жилья               C   \n",
       "3   сотрудник     0        267628  дополнительное образование               B   \n",
       "4   пенсионер     0        158616             сыграть свадьбу               C   \n",
       "5   компаньон     0        255763               покупка жилья               B   \n",
       "6   компаньон     0        240525           операции с жильем               B   \n",
       "7   сотрудник     0        135823                 образование               C   \n",
       "8   сотрудник     0         95856       на проведение свадьбы               C   \n",
       "9   сотрудник     0        144425     покупка жилья для семьи               C   \n",
       "\n",
       "           purpose_category  \n",
       "0  операции с недвижимостью  \n",
       "1    операции с автомобилем  \n",
       "2  операции с недвижимостью  \n",
       "3     получение образования  \n",
       "4        проведение свадьбы  \n",
       "5  операции с недвижимостью  \n",
       "6  операции с недвижимостью  \n",
       "7     получение образования  \n",
       "8        проведение свадьбы  \n",
       "9  операции с недвижимостью  "
      ]
     },
     "execution_count": 41,
     "metadata": {},
     "output_type": "execute_result"
    }
   ],
   "source": [
    "df['purpose_category'] = df['purpose'].apply(purpose_category) # применяем функцию и сохраняем результат в отдельном столбце\n",
    "df.head(10) # смотрим на обновлённый датафрейм"
   ]
  },
  {
   "cell_type": "markdown",
   "id": "b944552f",
   "metadata": {},
   "source": [
    "Всё получилось! Последний шаг - переорганизуем столбцы в датафрейме так, чтобы категория дохода была по соседству с уровнем заработка, а категория цели кредита была рядом с самой целью."
   ]
  },
  {
   "cell_type": "code",
   "execution_count": 42,
   "id": "91ec9445",
   "metadata": {},
   "outputs": [
    {
     "data": {
      "text/plain": [
       "Index(['children', 'years_employed', 'dob_years', 'education_id',\n",
       "       'family_status_id', 'gender', 'income_type', 'debt', 'total_income',\n",
       "       'purpose', 'income_category', 'purpose_category'],\n",
       "      dtype='object')"
      ]
     },
     "execution_count": 42,
     "metadata": {},
     "output_type": "execute_result"
    }
   ],
   "source": [
    "df.columns # выведем список колонок"
   ]
  },
  {
   "cell_type": "code",
   "execution_count": 43,
   "id": "3b0dedc9",
   "metadata": {
    "scrolled": false
   },
   "outputs": [
    {
     "data": {
      "text/html": [
       "<div>\n",
       "<style scoped>\n",
       "    .dataframe tbody tr th:only-of-type {\n",
       "        vertical-align: middle;\n",
       "    }\n",
       "\n",
       "    .dataframe tbody tr th {\n",
       "        vertical-align: top;\n",
       "    }\n",
       "\n",
       "    .dataframe thead th {\n",
       "        text-align: right;\n",
       "    }\n",
       "</style>\n",
       "<table border=\"1\" class=\"dataframe\">\n",
       "  <thead>\n",
       "    <tr style=\"text-align: right;\">\n",
       "      <th></th>\n",
       "      <th>children</th>\n",
       "      <th>years_employed</th>\n",
       "      <th>dob_years</th>\n",
       "      <th>education_id</th>\n",
       "      <th>family_status_id</th>\n",
       "      <th>gender</th>\n",
       "      <th>income_type</th>\n",
       "      <th>debt</th>\n",
       "      <th>total_income</th>\n",
       "      <th>income_category</th>\n",
       "      <th>purpose</th>\n",
       "      <th>purpose_category</th>\n",
       "    </tr>\n",
       "  </thead>\n",
       "  <tbody>\n",
       "    <tr>\n",
       "      <th>0</th>\n",
       "      <td>1</td>\n",
       "      <td>23</td>\n",
       "      <td>42</td>\n",
       "      <td>0</td>\n",
       "      <td>0</td>\n",
       "      <td>F</td>\n",
       "      <td>сотрудник</td>\n",
       "      <td>0</td>\n",
       "      <td>253875</td>\n",
       "      <td>B</td>\n",
       "      <td>покупка жилья</td>\n",
       "      <td>операции с недвижимостью</td>\n",
       "    </tr>\n",
       "    <tr>\n",
       "      <th>1</th>\n",
       "      <td>1</td>\n",
       "      <td>11</td>\n",
       "      <td>36</td>\n",
       "      <td>1</td>\n",
       "      <td>0</td>\n",
       "      <td>F</td>\n",
       "      <td>сотрудник</td>\n",
       "      <td>0</td>\n",
       "      <td>112080</td>\n",
       "      <td>C</td>\n",
       "      <td>приобретение автомобиля</td>\n",
       "      <td>операции с автомобилем</td>\n",
       "    </tr>\n",
       "    <tr>\n",
       "      <th>2</th>\n",
       "      <td>0</td>\n",
       "      <td>15</td>\n",
       "      <td>33</td>\n",
       "      <td>1</td>\n",
       "      <td>0</td>\n",
       "      <td>M</td>\n",
       "      <td>сотрудник</td>\n",
       "      <td>0</td>\n",
       "      <td>145885</td>\n",
       "      <td>C</td>\n",
       "      <td>покупка жилья</td>\n",
       "      <td>операции с недвижимостью</td>\n",
       "    </tr>\n",
       "    <tr>\n",
       "      <th>3</th>\n",
       "      <td>3</td>\n",
       "      <td>11</td>\n",
       "      <td>32</td>\n",
       "      <td>1</td>\n",
       "      <td>0</td>\n",
       "      <td>M</td>\n",
       "      <td>сотрудник</td>\n",
       "      <td>0</td>\n",
       "      <td>267628</td>\n",
       "      <td>B</td>\n",
       "      <td>дополнительное образование</td>\n",
       "      <td>получение образования</td>\n",
       "    </tr>\n",
       "    <tr>\n",
       "      <th>4</th>\n",
       "      <td>0</td>\n",
       "      <td>6</td>\n",
       "      <td>53</td>\n",
       "      <td>1</td>\n",
       "      <td>1</td>\n",
       "      <td>F</td>\n",
       "      <td>пенсионер</td>\n",
       "      <td>0</td>\n",
       "      <td>158616</td>\n",
       "      <td>C</td>\n",
       "      <td>сыграть свадьбу</td>\n",
       "      <td>проведение свадьбы</td>\n",
       "    </tr>\n",
       "    <tr>\n",
       "      <th>5</th>\n",
       "      <td>0</td>\n",
       "      <td>2</td>\n",
       "      <td>27</td>\n",
       "      <td>0</td>\n",
       "      <td>1</td>\n",
       "      <td>M</td>\n",
       "      <td>компаньон</td>\n",
       "      <td>0</td>\n",
       "      <td>255763</td>\n",
       "      <td>B</td>\n",
       "      <td>покупка жилья</td>\n",
       "      <td>операции с недвижимостью</td>\n",
       "    </tr>\n",
       "    <tr>\n",
       "      <th>6</th>\n",
       "      <td>0</td>\n",
       "      <td>7</td>\n",
       "      <td>43</td>\n",
       "      <td>0</td>\n",
       "      <td>0</td>\n",
       "      <td>F</td>\n",
       "      <td>компаньон</td>\n",
       "      <td>0</td>\n",
       "      <td>240525</td>\n",
       "      <td>B</td>\n",
       "      <td>операции с жильем</td>\n",
       "      <td>операции с недвижимостью</td>\n",
       "    </tr>\n",
       "    <tr>\n",
       "      <th>7</th>\n",
       "      <td>0</td>\n",
       "      <td>0</td>\n",
       "      <td>50</td>\n",
       "      <td>1</td>\n",
       "      <td>0</td>\n",
       "      <td>M</td>\n",
       "      <td>сотрудник</td>\n",
       "      <td>0</td>\n",
       "      <td>135823</td>\n",
       "      <td>C</td>\n",
       "      <td>образование</td>\n",
       "      <td>получение образования</td>\n",
       "    </tr>\n",
       "    <tr>\n",
       "      <th>8</th>\n",
       "      <td>2</td>\n",
       "      <td>18</td>\n",
       "      <td>35</td>\n",
       "      <td>0</td>\n",
       "      <td>1</td>\n",
       "      <td>F</td>\n",
       "      <td>сотрудник</td>\n",
       "      <td>0</td>\n",
       "      <td>95856</td>\n",
       "      <td>C</td>\n",
       "      <td>на проведение свадьбы</td>\n",
       "      <td>проведение свадьбы</td>\n",
       "    </tr>\n",
       "    <tr>\n",
       "      <th>9</th>\n",
       "      <td>0</td>\n",
       "      <td>5</td>\n",
       "      <td>41</td>\n",
       "      <td>1</td>\n",
       "      <td>0</td>\n",
       "      <td>M</td>\n",
       "      <td>сотрудник</td>\n",
       "      <td>0</td>\n",
       "      <td>144425</td>\n",
       "      <td>C</td>\n",
       "      <td>покупка жилья для семьи</td>\n",
       "      <td>операции с недвижимостью</td>\n",
       "    </tr>\n",
       "  </tbody>\n",
       "</table>\n",
       "</div>"
      ],
      "text/plain": [
       "   children  years_employed  dob_years  education_id  family_status_id gender  \\\n",
       "0         1              23         42             0                 0      F   \n",
       "1         1              11         36             1                 0      F   \n",
       "2         0              15         33             1                 0      M   \n",
       "3         3              11         32             1                 0      M   \n",
       "4         0               6         53             1                 1      F   \n",
       "5         0               2         27             0                 1      M   \n",
       "6         0               7         43             0                 0      F   \n",
       "7         0               0         50             1                 0      M   \n",
       "8         2              18         35             0                 1      F   \n",
       "9         0               5         41             1                 0      M   \n",
       "\n",
       "  income_type  debt  total_income income_category                     purpose  \\\n",
       "0   сотрудник     0        253875               B               покупка жилья   \n",
       "1   сотрудник     0        112080               C     приобретение автомобиля   \n",
       "2   сотрудник     0        145885               C               покупка жилья   \n",
       "3   сотрудник     0        267628               B  дополнительное образование   \n",
       "4   пенсионер     0        158616               C             сыграть свадьбу   \n",
       "5   компаньон     0        255763               B               покупка жилья   \n",
       "6   компаньон     0        240525               B           операции с жильем   \n",
       "7   сотрудник     0        135823               C                 образование   \n",
       "8   сотрудник     0         95856               C       на проведение свадьбы   \n",
       "9   сотрудник     0        144425               C     покупка жилья для семьи   \n",
       "\n",
       "           purpose_category  \n",
       "0  операции с недвижимостью  \n",
       "1    операции с автомобилем  \n",
       "2  операции с недвижимостью  \n",
       "3     получение образования  \n",
       "4        проведение свадьбы  \n",
       "5  операции с недвижимостью  \n",
       "6  операции с недвижимостью  \n",
       "7     получение образования  \n",
       "8        проведение свадьбы  \n",
       "9  операции с недвижимостью  "
      ]
     },
     "execution_count": 43,
     "metadata": {},
     "output_type": "execute_result"
    }
   ],
   "source": [
    "df = df.reindex(columns = ['children', 'years_employed', 'dob_years', 'education_id',\n",
    "       'family_status_id', 'gender', 'income_type', 'debt', 'total_income','income_category',\n",
    "       'purpose', 'purpose_category']) # получаем датафрейм с новым порядком столбцов\n",
    "df.head(10)"
   ]
  },
  {
   "cell_type": "markdown",
   "id": "6d1ab79f",
   "metadata": {},
   "source": [
    "---\n",
    "**Вывод**\n",
    "\n",
    "Для выполения целей исследования была написана функция для присваивания категории в зависимости от целей получения кредита клиентом, которая сохраняет результат в новый столбец `purpose_category`.\n",
    "\n",
    "Также столбцы таблицы были переорганизованы таким образом, чтобы уровень и категория дохода, а также цель получения кредита и её категория находились по соседству.\n",
    "\n",
    "На этом предобработка данных завершена."
   ]
  },
  {
   "cell_type": "markdown",
   "id": "bbf9e53c",
   "metadata": {},
   "source": [
    "<a id='3'></a>"
   ]
  },
  {
   "cell_type": "markdown",
   "id": "04a92cdc",
   "metadata": {},
   "source": [
    "## Ответы на вопросы\n",
    "\n",
    "Все вопросы заказчика связаны с факторами, влияющими на возврат кредита в срок. Согласно документации, показателем для этого может являться данные из столбца `debt` - наличие у клиента задолженностей в прошлом."
   ]
  },
  {
   "cell_type": "markdown",
   "id": "3aa7bc52",
   "metadata": {},
   "source": [
    "### Есть ли зависимость между количеством детей и возвратом кредита в срок?"
   ]
  },
  {
   "cell_type": "markdown",
   "id": "cd7ba8cc",
   "metadata": {},
   "source": [
    "Количество детей в таблице отображено в столбце `children`, а наличие в прошлом долга по кредиту - в столбце `debt`. Создадим на их основе сводную таблицу."
   ]
  },
  {
   "cell_type": "code",
   "execution_count": 44,
   "id": "74f18427",
   "metadata": {
    "scrolled": true
   },
   "outputs": [
    {
     "data": {
      "text/html": [
       "<div>\n",
       "<style scoped>\n",
       "    .dataframe tbody tr th:only-of-type {\n",
       "        vertical-align: middle;\n",
       "    }\n",
       "\n",
       "    .dataframe tbody tr th {\n",
       "        vertical-align: top;\n",
       "    }\n",
       "\n",
       "    .dataframe thead th {\n",
       "        text-align: right;\n",
       "    }\n",
       "</style>\n",
       "<table border=\"1\" class=\"dataframe\">\n",
       "  <thead>\n",
       "    <tr style=\"text-align: right;\">\n",
       "      <th>debt</th>\n",
       "      <th>0</th>\n",
       "      <th>1</th>\n",
       "      <th>debt_share</th>\n",
       "      <th>total_debt_share</th>\n",
       "    </tr>\n",
       "    <tr>\n",
       "      <th>children</th>\n",
       "      <th></th>\n",
       "      <th></th>\n",
       "      <th></th>\n",
       "      <th></th>\n",
       "    </tr>\n",
       "  </thead>\n",
       "  <tbody>\n",
       "    <tr>\n",
       "      <th>4</th>\n",
       "      <td>37</td>\n",
       "      <td>4</td>\n",
       "      <td>10.81</td>\n",
       "      <td>0.23</td>\n",
       "    </tr>\n",
       "    <tr>\n",
       "      <th>2</th>\n",
       "      <td>1858</td>\n",
       "      <td>194</td>\n",
       "      <td>10.44</td>\n",
       "      <td>11.20</td>\n",
       "    </tr>\n",
       "    <tr>\n",
       "      <th>1</th>\n",
       "      <td>4364</td>\n",
       "      <td>444</td>\n",
       "      <td>10.17</td>\n",
       "      <td>25.64</td>\n",
       "    </tr>\n",
       "    <tr>\n",
       "      <th>3</th>\n",
       "      <td>303</td>\n",
       "      <td>27</td>\n",
       "      <td>8.91</td>\n",
       "      <td>1.56</td>\n",
       "    </tr>\n",
       "    <tr>\n",
       "      <th>0</th>\n",
       "      <td>13027</td>\n",
       "      <td>1063</td>\n",
       "      <td>8.16</td>\n",
       "      <td>61.37</td>\n",
       "    </tr>\n",
       "    <tr>\n",
       "      <th>5</th>\n",
       "      <td>9</td>\n",
       "      <td>0</td>\n",
       "      <td>0.00</td>\n",
       "      <td>0.00</td>\n",
       "    </tr>\n",
       "  </tbody>\n",
       "</table>\n",
       "</div>"
      ],
      "text/plain": [
       "debt          0     1  debt_share  total_debt_share\n",
       "children                                           \n",
       "4            37     4       10.81              0.23\n",
       "2          1858   194       10.44             11.20\n",
       "1          4364   444       10.17             25.64\n",
       "3           303    27        8.91              1.56\n",
       "0         13027  1063        8.16             61.37\n",
       "5             9     0        0.00              0.00"
      ]
     },
     "execution_count": 44,
     "metadata": {},
     "output_type": "execute_result"
    }
   ],
   "source": [
    "# создаём сводную таблицу, где названия строк соответствуют количеству детей, в столбце '0' - количество клиентов без долга,\n",
    "# в столбце '1' - количество клиентов с долгом. Также создаём два дополнительных столбца - с процентной долей должников в строке\n",
    "# от общего числа должников в 'total_debt share' и процентной долей отношения должников к клиентам без задолженностей\n",
    "# 'debt_share'. Для удобства ограниваем количество знаков после запятой до двух и выводим таблицу на экран, отсортировав \n",
    "# по значению столбца 'debt_share'. \n",
    "\n",
    "children_debt_pivot = (\n",
    "    df.pivot_table(index ='children',\n",
    "                   columns='debt', \n",
    "                   values='years_employed', \n",
    "                   aggfunc='count', \n",
    "                   fill_value=0)\n",
    ")\n",
    "\n",
    "children_debt_pivot['debt_share'] = round(\n",
    "    children_debt_pivot[1] / children_debt_pivot[0] * 100, 2\n",
    ")\n",
    "\n",
    "children_debt_pivot['total_debt_share'] = round(\n",
    "    children_debt_pivot[1] / children_debt_pivot[1].sum() * 100, 2\n",
    ")\n",
    "\n",
    "children_debt_pivot.sort_values('debt_share', ascending=False)"
   ]
  },
  {
   "cell_type": "markdown",
   "id": "51dce75b",
   "metadata": {},
   "source": [
    "---\n",
    "**Вывод**\n",
    "\n",
    "По имеющимся данным сложно объективно оценить зависимость количества детей и возвратом кредита в срок - имеется очень большая разница в количестве заявок по категорим. Процентная доля должников по количеству детей в отношении общего числа должников (столбец `total_debt_share`) растёт пропорционально общему количеству заявок. А вот отношение должников к клиентам без задолженностей (столбец `debt_share`) более показательно - несмотря на значительное меньшее количество заявок, доля должников у клиентов с детьми выше, чем у клиентов без детей. Если не учитывать клиентов с четырьмя детьми (всего 41 заявка), то самая большая доля должников находится среди клиентов с двумя детьми - `10.49%` против `8.13%` у клиентов без детей. Можно сделать вывод, что наличие детей у клиентов увеличивает вероятность появления задолженности по кредиту."
   ]
  },
  {
   "cell_type": "markdown",
   "id": "4e853c5a",
   "metadata": {},
   "source": [
    "### Есть ли зависимость между семейным положением и возвратом кредита в срок?"
   ]
  },
  {
   "cell_type": "markdown",
   "id": "d413e1d0",
   "metadata": {},
   "source": [
    "Создадим такую же сводную таблицу для данных из столбцов `debt` и `family_status_id`. Для наглядности добавим расшифровку идентификатора семейного статуса из ранее созданного датафрейма `family_status_df`."
   ]
  },
  {
   "cell_type": "code",
   "execution_count": 45,
   "id": "ea383eac",
   "metadata": {},
   "outputs": [
    {
     "data": {
      "text/html": [
       "<div>\n",
       "<style scoped>\n",
       "    .dataframe tbody tr th:only-of-type {\n",
       "        vertical-align: middle;\n",
       "    }\n",
       "\n",
       "    .dataframe tbody tr th {\n",
       "        vertical-align: top;\n",
       "    }\n",
       "\n",
       "    .dataframe thead th {\n",
       "        text-align: right;\n",
       "    }\n",
       "</style>\n",
       "<table border=\"1\" class=\"dataframe\">\n",
       "  <thead>\n",
       "    <tr style=\"text-align: right;\">\n",
       "      <th></th>\n",
       "      <th>family_status</th>\n",
       "      <th>family_status_id</th>\n",
       "      <th>0</th>\n",
       "      <th>1</th>\n",
       "      <th>debt_share</th>\n",
       "      <th>total_debt_share</th>\n",
       "    </tr>\n",
       "  </thead>\n",
       "  <tbody>\n",
       "    <tr>\n",
       "      <th>4</th>\n",
       "      <td>Не женат / не замужем</td>\n",
       "      <td>4</td>\n",
       "      <td>2523</td>\n",
       "      <td>273</td>\n",
       "      <td>10.82</td>\n",
       "      <td>15.76</td>\n",
       "    </tr>\n",
       "    <tr>\n",
       "      <th>1</th>\n",
       "      <td>гражданский брак</td>\n",
       "      <td>1</td>\n",
       "      <td>3748</td>\n",
       "      <td>385</td>\n",
       "      <td>10.27</td>\n",
       "      <td>22.23</td>\n",
       "    </tr>\n",
       "    <tr>\n",
       "      <th>0</th>\n",
       "      <td>женат / замужем</td>\n",
       "      <td>0</td>\n",
       "      <td>11334</td>\n",
       "      <td>927</td>\n",
       "      <td>8.18</td>\n",
       "      <td>53.52</td>\n",
       "    </tr>\n",
       "    <tr>\n",
       "      <th>3</th>\n",
       "      <td>в разводе</td>\n",
       "      <td>3</td>\n",
       "      <td>1105</td>\n",
       "      <td>84</td>\n",
       "      <td>7.60</td>\n",
       "      <td>4.85</td>\n",
       "    </tr>\n",
       "    <tr>\n",
       "      <th>2</th>\n",
       "      <td>вдовец / вдова</td>\n",
       "      <td>2</td>\n",
       "      <td>888</td>\n",
       "      <td>63</td>\n",
       "      <td>7.09</td>\n",
       "      <td>3.64</td>\n",
       "    </tr>\n",
       "  </tbody>\n",
       "</table>\n",
       "</div>"
      ],
      "text/plain": [
       "           family_status  family_status_id      0    1  debt_share  \\\n",
       "4  Не женат / не замужем                 4   2523  273       10.82   \n",
       "1       гражданский брак                 1   3748  385       10.27   \n",
       "0        женат / замужем                 0  11334  927        8.18   \n",
       "3              в разводе                 3   1105   84        7.60   \n",
       "2         вдовец / вдова                 2    888   63        7.09   \n",
       "\n",
       "   total_debt_share  \n",
       "4             15.76  \n",
       "1             22.23  \n",
       "0             53.52  \n",
       "3              4.85  \n",
       "2              3.64  "
      ]
     },
     "execution_count": 45,
     "metadata": {},
     "output_type": "execute_result"
    }
   ],
   "source": [
    "# создаём сводную таблицу, где названия строк соответствуют семейному положению и соответствующему идентификатору, \n",
    "# в столбце '0' - количество клиентов без долга, в столбце '1' - количество клиентов с долгом. Также создаём два дополнительных столбца - с процентной долей должников в строке\n",
    "# от общего числа должников в 'total_debt share' и процентной долей отношения должников к клиентам без задолженностей\n",
    "#'debt_share'. Для удобства ограниваем количество знаков после запятой до двух и выводим таблицу на экран, отсортировав \n",
    "# по значению столбца 'debt_share'. \n",
    "\n",
    "family_debt_pivot = (\n",
    "    df.pivot_table(index = ['family_status_id'], \n",
    "                   columns='debt', values='years_employed', \n",
    "                   aggfunc='count')\n",
    ")\n",
    "\n",
    "family_debt_pivot = (\n",
    "    family_status_df\n",
    "    .merge(family_debt_pivot, \n",
    "           on='family_status_id', \n",
    "           how = 'left')\n",
    ")\n",
    "\n",
    "family_debt_pivot['debt_share'] = round(\n",
    "    family_debt_pivot[1]/family_debt_pivot[0] * 100, 2\n",
    ")\n",
    "\n",
    "family_debt_pivot['total_debt_share'] = round(\n",
    "    family_debt_pivot[1] / family_debt_pivot[1].sum() * 100, 2\n",
    ")\n",
    "\n",
    "family_debt_pivot.sort_values('debt_share', ascending=False)"
   ]
  },
  {
   "cell_type": "markdown",
   "id": "4aa3d72d",
   "metadata": {},
   "source": [
    "---\n",
    "**Вывод**\n",
    "\n",
    "По данным из таблицы можно сделать вывод, что клиенты, никогда не состоявшие в браке (в том числе клиенты в гражданском браке) имеют значительно большую долю должников по сравнению с теми, кто состоит в браке на данный момент или в прошлом (развод/овдовение). "
   ]
  },
  {
   "cell_type": "markdown",
   "id": "797d45e8",
   "metadata": {},
   "source": [
    "### Есть ли зависимость между уровнем дохода и возвратом кредита в срок?"
   ]
  },
  {
   "cell_type": "markdown",
   "id": "4dbbd329",
   "metadata": {},
   "source": [
    "Сделаем ещё одну сводную таблицу с данными из столбцов `debt` и `income_category`. Принцип разделения на категории дохода:\n",
    "\n",
    "* Доход от 0 до 30000 — категория `E`;\n",
    "* Доход от 30001 до 50000 — категория `D`;\n",
    "* Доход от 50001 до 200000 — категория `C`;\n",
    "* Доход от 200001 до 1000000 — категория `B`;\n",
    "* Доход от 1000001 и выше — категория `A`"
   ]
  },
  {
   "cell_type": "code",
   "execution_count": 46,
   "id": "ce7f6a47",
   "metadata": {},
   "outputs": [
    {
     "data": {
      "text/html": [
       "<div>\n",
       "<style scoped>\n",
       "    .dataframe tbody tr th:only-of-type {\n",
       "        vertical-align: middle;\n",
       "    }\n",
       "\n",
       "    .dataframe tbody tr th {\n",
       "        vertical-align: top;\n",
       "    }\n",
       "\n",
       "    .dataframe thead th {\n",
       "        text-align: right;\n",
       "    }\n",
       "</style>\n",
       "<table border=\"1\" class=\"dataframe\">\n",
       "  <thead>\n",
       "    <tr style=\"text-align: right;\">\n",
       "      <th>debt</th>\n",
       "      <th>0</th>\n",
       "      <th>1</th>\n",
       "      <th>debt_share</th>\n",
       "      <th>total_debt_share</th>\n",
       "    </tr>\n",
       "    <tr>\n",
       "      <th>income_category</th>\n",
       "      <th></th>\n",
       "      <th></th>\n",
       "      <th></th>\n",
       "      <th></th>\n",
       "    </tr>\n",
       "  </thead>\n",
       "  <tbody>\n",
       "    <tr>\n",
       "      <th>E</th>\n",
       "      <td>20</td>\n",
       "      <td>2</td>\n",
       "      <td>10.00</td>\n",
       "      <td>0.12</td>\n",
       "    </tr>\n",
       "    <tr>\n",
       "      <th>C</th>\n",
       "      <td>14568</td>\n",
       "      <td>1353</td>\n",
       "      <td>9.29</td>\n",
       "      <td>78.12</td>\n",
       "    </tr>\n",
       "    <tr>\n",
       "      <th>A</th>\n",
       "      <td>23</td>\n",
       "      <td>2</td>\n",
       "      <td>8.70</td>\n",
       "      <td>0.12</td>\n",
       "    </tr>\n",
       "    <tr>\n",
       "      <th>B</th>\n",
       "      <td>4658</td>\n",
       "      <td>354</td>\n",
       "      <td>7.60</td>\n",
       "      <td>20.44</td>\n",
       "    </tr>\n",
       "    <tr>\n",
       "      <th>D</th>\n",
       "      <td>328</td>\n",
       "      <td>21</td>\n",
       "      <td>6.40</td>\n",
       "      <td>1.21</td>\n",
       "    </tr>\n",
       "  </tbody>\n",
       "</table>\n",
       "</div>"
      ],
      "text/plain": [
       "debt                 0     1  debt_share  total_debt_share\n",
       "income_category                                           \n",
       "E                   20     2       10.00              0.12\n",
       "C                14568  1353        9.29             78.12\n",
       "A                   23     2        8.70              0.12\n",
       "B                 4658   354        7.60             20.44\n",
       "D                  328    21        6.40              1.21"
      ]
     },
     "execution_count": 46,
     "metadata": {},
     "output_type": "execute_result"
    }
   ],
   "source": [
    "# создаём сводную таблицу, где названия строк соответствуют категории уровня дохода, в столбце '0' - количество клиентов \n",
    "# без долга, в столбце '1' - количество клиентов с долгом. Также создаём два дополнительных столбца - с процентной долей должников в строке\n",
    "# от общего числа должников в 'total_debt share' и процентной долей отношения должников к клиентам без задолженностей \n",
    "#'debt_share'. Для удобства ограниваем количество знаков после запятой до двух и выводим таблицу на экран, отсортировав \n",
    "# по значению столбца 'debt_share'. \n",
    "\n",
    "income_debt_pivot = df.pivot_table(index='income_category', \n",
    "                                   columns='debt', values='years_employed', \n",
    "                                   aggfunc='count', fill_value=0)\n",
    "\n",
    "income_debt_pivot['debt_share'] = round(\n",
    "    income_debt_pivot[1] / income_debt_pivot[0] * 100, 2\n",
    ")\n",
    "\n",
    "income_debt_pivot['total_debt_share'] = round(\n",
    "    income_debt_pivot[1] / income_debt_pivot[1].sum() * 100, 2\n",
    ")\n",
    "\n",
    "income_debt_pivot.sort_values('debt_share', ascending=False)"
   ]
  },
  {
   "cell_type": "markdown",
   "id": "8b708ae0",
   "metadata": {},
   "source": [
    "---\n",
    "**Вывод**\n",
    "\n",
    "Практически все должники находятся в категориях `C` и `B` - условные \"средний доход\" и \"доход выше среднего\". Самая большая доля должников представлена в категории `E`, из чего можно сделать вывод, что клиенты с доходом от 0 до 30000 являются самой рискованной группой заёмщиков из рассмотренных. Но при том, что заявок в этой категории относительно мало, к самой рискованной группе лучше отнести категорию `С` (доход от 50001 до 200000) в виду следующей по величине доле должников по отношению к остальным клиентом в категории и самой большой (78%) долей должников от общего количества клиентов с долгом."
   ]
  },
  {
   "cell_type": "markdown",
   "id": "ebb667f1",
   "metadata": {},
   "source": [
    "### Как разные цели кредита влияют на его возврат в срок?"
   ]
  },
  {
   "cell_type": "markdown",
   "id": "6cb4d362",
   "metadata": {},
   "source": [
    "Последняя сводная таблица будет состоять из данных столбцов `debt` и `purpose_category`."
   ]
  },
  {
   "cell_type": "code",
   "execution_count": 47,
   "id": "3df7a913",
   "metadata": {},
   "outputs": [
    {
     "data": {
      "text/html": [
       "<div>\n",
       "<style scoped>\n",
       "    .dataframe tbody tr th:only-of-type {\n",
       "        vertical-align: middle;\n",
       "    }\n",
       "\n",
       "    .dataframe tbody tr th {\n",
       "        vertical-align: top;\n",
       "    }\n",
       "\n",
       "    .dataframe thead th {\n",
       "        text-align: right;\n",
       "    }\n",
       "</style>\n",
       "<table border=\"1\" class=\"dataframe\">\n",
       "  <thead>\n",
       "    <tr style=\"text-align: right;\">\n",
       "      <th>debt</th>\n",
       "      <th>0</th>\n",
       "      <th>1</th>\n",
       "      <th>debt_share</th>\n",
       "      <th>total_debt_share</th>\n",
       "    </tr>\n",
       "    <tr>\n",
       "      <th>purpose_category</th>\n",
       "      <th></th>\n",
       "      <th></th>\n",
       "      <th></th>\n",
       "      <th></th>\n",
       "    </tr>\n",
       "  </thead>\n",
       "  <tbody>\n",
       "    <tr>\n",
       "      <th>операции с автомобилем</th>\n",
       "      <td>3879</td>\n",
       "      <td>400</td>\n",
       "      <td>10.31</td>\n",
       "      <td>23.09</td>\n",
       "    </tr>\n",
       "    <tr>\n",
       "      <th>получение образования</th>\n",
       "      <td>3619</td>\n",
       "      <td>369</td>\n",
       "      <td>10.20</td>\n",
       "      <td>21.30</td>\n",
       "    </tr>\n",
       "    <tr>\n",
       "      <th>проведение свадьбы</th>\n",
       "      <td>2129</td>\n",
       "      <td>183</td>\n",
       "      <td>8.60</td>\n",
       "      <td>10.57</td>\n",
       "    </tr>\n",
       "    <tr>\n",
       "      <th>операции с недвижимостью</th>\n",
       "      <td>9971</td>\n",
       "      <td>780</td>\n",
       "      <td>7.82</td>\n",
       "      <td>45.03</td>\n",
       "    </tr>\n",
       "  </tbody>\n",
       "</table>\n",
       "</div>"
      ],
      "text/plain": [
       "debt                         0    1  debt_share  total_debt_share\n",
       "purpose_category                                                 \n",
       "операции с автомобилем    3879  400       10.31             23.09\n",
       "получение образования     3619  369       10.20             21.30\n",
       "проведение свадьбы        2129  183        8.60             10.57\n",
       "операции с недвижимостью  9971  780        7.82             45.03"
      ]
     },
     "execution_count": 47,
     "metadata": {},
     "output_type": "execute_result"
    }
   ],
   "source": [
    "# создаём сводную таблицу, где названия строк соответствуют категории уровня дохода, в столбце '0' - количество клиентов \n",
    "# без долга, в столбце '1' - количество клиентов с долгом. Также создаём два дополнительных столбца - с процентной долей должников в строке\n",
    "# от общего числа должников в 'total_debt share' и процентной долей отношения должников к клиентам без задолженностей \n",
    "#'debt_share'. Для удобства ограниваем количество знаков после запятой до двух и выводим таблицу на экран, отсортировав \n",
    "# по значению столбца 'debt_share'. \n",
    "\n",
    "purpose_debt_pivot = df.pivot_table(index='purpose_category', \n",
    "                                    columns='debt', \n",
    "                                    values='years_employed', \n",
    "                                    aggfunc='count')\n",
    "\n",
    "purpose_debt_pivot['debt_share'] = round(\n",
    "    purpose_debt_pivot[1] / purpose_debt_pivot[0] * 100, 2\n",
    ")\n",
    "\n",
    "purpose_debt_pivot['total_debt_share'] = round(\n",
    "    purpose_debt_pivot[1] / purpose_debt_pivot[1].sum() * 100, 2\n",
    ")\n",
    "\n",
    "purpose_debt_pivot.sort_values('debt_share', ascending=False)"
   ]
  },
  {
   "cell_type": "markdown",
   "id": "6be48aec",
   "metadata": {},
   "source": [
    "---\n",
    "**Вывод**\n",
    "\n",
    "Большинство должников представлены в категории `операции с недвижимостью`, но при этом категория `операции с автомобилем` содержит большую долю должников по сравнению с клиентами без долга внутри категории, что указывает на  потенциально больший риск для банка при работе с этой категорией клиентов. Но в целом можно сказать, что цель получения кредита не сильно влияет на его возврат в срок, сохраняется большой разброс по количеству заявок. Например, процент должников в первых двух категориях сопоставим, что говорит о большом влиянии количества заявок на отражаемые доли клиентов с долгом."
   ]
  },
  {
   "cell_type": "markdown",
   "id": "05efc7f3",
   "metadata": {},
   "source": [
    "<a id='4'></a>"
   ]
  },
  {
   "cell_type": "markdown",
   "id": "a0f35afe",
   "metadata": {},
   "source": [
    "## Общий вывод:"
   ]
  },
  {
   "cell_type": "markdown",
   "id": "2044b9fe",
   "metadata": {},
   "source": [
    "Целью исследование являлось обзор и предобработка предоставленных заказчиком данных для нахождения ответов на следующие вопросы:\n",
    "\n",
    "* Есть ли зависимость между количеством детей и возвратом кредита в срок?\n",
    "* Есть ли зависимость между семейным положением и возвратом кредита в срок?\n",
    "* Есть ли зависимость между уровнем дохода и возвратом кредита в срок?\n",
    "* Как разные цели кредита влияют на его возврат в срок?\n",
    "\n",
    "В ходе исследования была проведена большая работа по предобработке данных - обработаны пропущенные и аномальные значения, дробные данные были приведены к целым числам для облегчения восприятия информации, удалены или обработаны явные и неявные дубликаты, часть данных была вынесена в отдельные таблицы с возмонжостью последующего обращения, а к части данных были применены методы категоризации."
   ]
  },
  {
   "cell_type": "markdown",
   "id": "b78e58b4",
   "metadata": {},
   "source": [
    "Результатом исследования стали следующие выводы:\n",
    "\n",
    "* Несмотря на значительное меньшее количество заявок, доля должников у клиентов с детьми выше, чем у клиентов без детей. Если не учитывать клиентов с четырьмя детьми (всего 41 заявка), то самая большая доля должников находится среди клиентов с двумя детьми - 10.49% против 8.13% у клиентов без детей. Можно сделать вывод, что наличие детей у клиентов увеличивает вероятность появления задолженности по кредиту."
   ]
  },
  {
   "cell_type": "code",
   "execution_count": 48,
   "id": "2ec59bae",
   "metadata": {},
   "outputs": [
    {
     "data": {
      "text/html": [
       "<div>\n",
       "<style scoped>\n",
       "    .dataframe tbody tr th:only-of-type {\n",
       "        vertical-align: middle;\n",
       "    }\n",
       "\n",
       "    .dataframe tbody tr th {\n",
       "        vertical-align: top;\n",
       "    }\n",
       "\n",
       "    .dataframe thead th {\n",
       "        text-align: right;\n",
       "    }\n",
       "</style>\n",
       "<table border=\"1\" class=\"dataframe\">\n",
       "  <thead>\n",
       "    <tr style=\"text-align: right;\">\n",
       "      <th>debt</th>\n",
       "      <th>0</th>\n",
       "      <th>1</th>\n",
       "      <th>debt_share</th>\n",
       "      <th>total_debt_share</th>\n",
       "    </tr>\n",
       "    <tr>\n",
       "      <th>children</th>\n",
       "      <th></th>\n",
       "      <th></th>\n",
       "      <th></th>\n",
       "      <th></th>\n",
       "    </tr>\n",
       "  </thead>\n",
       "  <tbody>\n",
       "    <tr>\n",
       "      <th>4</th>\n",
       "      <td>37</td>\n",
       "      <td>4</td>\n",
       "      <td>10.81</td>\n",
       "      <td>0.23</td>\n",
       "    </tr>\n",
       "    <tr>\n",
       "      <th>2</th>\n",
       "      <td>1858</td>\n",
       "      <td>194</td>\n",
       "      <td>10.44</td>\n",
       "      <td>11.20</td>\n",
       "    </tr>\n",
       "    <tr>\n",
       "      <th>1</th>\n",
       "      <td>4364</td>\n",
       "      <td>444</td>\n",
       "      <td>10.17</td>\n",
       "      <td>25.64</td>\n",
       "    </tr>\n",
       "    <tr>\n",
       "      <th>3</th>\n",
       "      <td>303</td>\n",
       "      <td>27</td>\n",
       "      <td>8.91</td>\n",
       "      <td>1.56</td>\n",
       "    </tr>\n",
       "    <tr>\n",
       "      <th>0</th>\n",
       "      <td>13027</td>\n",
       "      <td>1063</td>\n",
       "      <td>8.16</td>\n",
       "      <td>61.37</td>\n",
       "    </tr>\n",
       "    <tr>\n",
       "      <th>5</th>\n",
       "      <td>9</td>\n",
       "      <td>0</td>\n",
       "      <td>0.00</td>\n",
       "      <td>0.00</td>\n",
       "    </tr>\n",
       "  </tbody>\n",
       "</table>\n",
       "</div>"
      ],
      "text/plain": [
       "debt          0     1  debt_share  total_debt_share\n",
       "children                                           \n",
       "4            37     4       10.81              0.23\n",
       "2          1858   194       10.44             11.20\n",
       "1          4364   444       10.17             25.64\n",
       "3           303    27        8.91              1.56\n",
       "0         13027  1063        8.16             61.37\n",
       "5             9     0        0.00              0.00"
      ]
     },
     "execution_count": 48,
     "metadata": {},
     "output_type": "execute_result"
    }
   ],
   "source": [
    "children_debt_pivot.sort_values('debt_share', ascending=False)"
   ]
  },
  {
   "cell_type": "markdown",
   "id": "117c455b",
   "metadata": {},
   "source": [
    "* Клиенты, никогда не состоявшие в браке (в том числе клиенты в гражданском браке) имеют значительно большую долю должников по сравнению с теми, кто состоит в браке на данный момент или состоял в прошлом (развод/овдовение)."
   ]
  },
  {
   "cell_type": "code",
   "execution_count": 49,
   "id": "b84615d9",
   "metadata": {},
   "outputs": [
    {
     "data": {
      "text/html": [
       "<div>\n",
       "<style scoped>\n",
       "    .dataframe tbody tr th:only-of-type {\n",
       "        vertical-align: middle;\n",
       "    }\n",
       "\n",
       "    .dataframe tbody tr th {\n",
       "        vertical-align: top;\n",
       "    }\n",
       "\n",
       "    .dataframe thead th {\n",
       "        text-align: right;\n",
       "    }\n",
       "</style>\n",
       "<table border=\"1\" class=\"dataframe\">\n",
       "  <thead>\n",
       "    <tr style=\"text-align: right;\">\n",
       "      <th></th>\n",
       "      <th>family_status</th>\n",
       "      <th>family_status_id</th>\n",
       "      <th>0</th>\n",
       "      <th>1</th>\n",
       "      <th>debt_share</th>\n",
       "      <th>total_debt_share</th>\n",
       "    </tr>\n",
       "  </thead>\n",
       "  <tbody>\n",
       "    <tr>\n",
       "      <th>4</th>\n",
       "      <td>Не женат / не замужем</td>\n",
       "      <td>4</td>\n",
       "      <td>2523</td>\n",
       "      <td>273</td>\n",
       "      <td>10.82</td>\n",
       "      <td>15.76</td>\n",
       "    </tr>\n",
       "    <tr>\n",
       "      <th>1</th>\n",
       "      <td>гражданский брак</td>\n",
       "      <td>1</td>\n",
       "      <td>3748</td>\n",
       "      <td>385</td>\n",
       "      <td>10.27</td>\n",
       "      <td>22.23</td>\n",
       "    </tr>\n",
       "    <tr>\n",
       "      <th>0</th>\n",
       "      <td>женат / замужем</td>\n",
       "      <td>0</td>\n",
       "      <td>11334</td>\n",
       "      <td>927</td>\n",
       "      <td>8.18</td>\n",
       "      <td>53.52</td>\n",
       "    </tr>\n",
       "    <tr>\n",
       "      <th>3</th>\n",
       "      <td>в разводе</td>\n",
       "      <td>3</td>\n",
       "      <td>1105</td>\n",
       "      <td>84</td>\n",
       "      <td>7.60</td>\n",
       "      <td>4.85</td>\n",
       "    </tr>\n",
       "    <tr>\n",
       "      <th>2</th>\n",
       "      <td>вдовец / вдова</td>\n",
       "      <td>2</td>\n",
       "      <td>888</td>\n",
       "      <td>63</td>\n",
       "      <td>7.09</td>\n",
       "      <td>3.64</td>\n",
       "    </tr>\n",
       "  </tbody>\n",
       "</table>\n",
       "</div>"
      ],
      "text/plain": [
       "           family_status  family_status_id      0    1  debt_share  \\\n",
       "4  Не женат / не замужем                 4   2523  273       10.82   \n",
       "1       гражданский брак                 1   3748  385       10.27   \n",
       "0        женат / замужем                 0  11334  927        8.18   \n",
       "3              в разводе                 3   1105   84        7.60   \n",
       "2         вдовец / вдова                 2    888   63        7.09   \n",
       "\n",
       "   total_debt_share  \n",
       "4             15.76  \n",
       "1             22.23  \n",
       "0             53.52  \n",
       "3              4.85  \n",
       "2              3.64  "
      ]
     },
     "execution_count": 49,
     "metadata": {},
     "output_type": "execute_result"
    }
   ],
   "source": [
    "family_debt_pivot.sort_values('debt_share', ascending=False)"
   ]
  },
  {
   "cell_type": "markdown",
   "id": "d96d285f",
   "metadata": {},
   "source": [
    "* Большая часть должников (около 78%) находятся в условной категории \"средний доход\" (доход от 50001 до 200000), и имеет самый высокий процент должников по отношению к остальным клиентам (без учёта категории `E` в виду относительно малого количества заявок)."
   ]
  },
  {
   "cell_type": "code",
   "execution_count": 50,
   "id": "57738312",
   "metadata": {},
   "outputs": [
    {
     "data": {
      "text/html": [
       "<div>\n",
       "<style scoped>\n",
       "    .dataframe tbody tr th:only-of-type {\n",
       "        vertical-align: middle;\n",
       "    }\n",
       "\n",
       "    .dataframe tbody tr th {\n",
       "        vertical-align: top;\n",
       "    }\n",
       "\n",
       "    .dataframe thead th {\n",
       "        text-align: right;\n",
       "    }\n",
       "</style>\n",
       "<table border=\"1\" class=\"dataframe\">\n",
       "  <thead>\n",
       "    <tr style=\"text-align: right;\">\n",
       "      <th>debt</th>\n",
       "      <th>0</th>\n",
       "      <th>1</th>\n",
       "      <th>debt_share</th>\n",
       "      <th>total_debt_share</th>\n",
       "    </tr>\n",
       "    <tr>\n",
       "      <th>income_category</th>\n",
       "      <th></th>\n",
       "      <th></th>\n",
       "      <th></th>\n",
       "      <th></th>\n",
       "    </tr>\n",
       "  </thead>\n",
       "  <tbody>\n",
       "    <tr>\n",
       "      <th>E</th>\n",
       "      <td>20</td>\n",
       "      <td>2</td>\n",
       "      <td>10.00</td>\n",
       "      <td>0.12</td>\n",
       "    </tr>\n",
       "    <tr>\n",
       "      <th>C</th>\n",
       "      <td>14568</td>\n",
       "      <td>1353</td>\n",
       "      <td>9.29</td>\n",
       "      <td>78.12</td>\n",
       "    </tr>\n",
       "    <tr>\n",
       "      <th>A</th>\n",
       "      <td>23</td>\n",
       "      <td>2</td>\n",
       "      <td>8.70</td>\n",
       "      <td>0.12</td>\n",
       "    </tr>\n",
       "    <tr>\n",
       "      <th>B</th>\n",
       "      <td>4658</td>\n",
       "      <td>354</td>\n",
       "      <td>7.60</td>\n",
       "      <td>20.44</td>\n",
       "    </tr>\n",
       "    <tr>\n",
       "      <th>D</th>\n",
       "      <td>328</td>\n",
       "      <td>21</td>\n",
       "      <td>6.40</td>\n",
       "      <td>1.21</td>\n",
       "    </tr>\n",
       "  </tbody>\n",
       "</table>\n",
       "</div>"
      ],
      "text/plain": [
       "debt                 0     1  debt_share  total_debt_share\n",
       "income_category                                           \n",
       "E                   20     2       10.00              0.12\n",
       "C                14568  1353        9.29             78.12\n",
       "A                   23     2        8.70              0.12\n",
       "B                 4658   354        7.60             20.44\n",
       "D                  328    21        6.40              1.21"
      ]
     },
     "execution_count": 50,
     "metadata": {},
     "output_type": "execute_result"
    }
   ],
   "source": [
    "income_debt_pivot.sort_values('debt_share', ascending=False)"
   ]
  },
  {
   "cell_type": "markdown",
   "id": "0483fff1",
   "metadata": {},
   "source": [
    "* Цель получения кредита не сильно влияет на его возврат в срок, так как клиенты разных категорий со схожим количеством заявок имеет сопоставимые доли должников по отношению к остальным клиентам."
   ]
  },
  {
   "cell_type": "code",
   "execution_count": 51,
   "id": "db1f0842",
   "metadata": {},
   "outputs": [
    {
     "data": {
      "text/html": [
       "<div>\n",
       "<style scoped>\n",
       "    .dataframe tbody tr th:only-of-type {\n",
       "        vertical-align: middle;\n",
       "    }\n",
       "\n",
       "    .dataframe tbody tr th {\n",
       "        vertical-align: top;\n",
       "    }\n",
       "\n",
       "    .dataframe thead th {\n",
       "        text-align: right;\n",
       "    }\n",
       "</style>\n",
       "<table border=\"1\" class=\"dataframe\">\n",
       "  <thead>\n",
       "    <tr style=\"text-align: right;\">\n",
       "      <th>debt</th>\n",
       "      <th>0</th>\n",
       "      <th>1</th>\n",
       "      <th>debt_share</th>\n",
       "      <th>total_debt_share</th>\n",
       "    </tr>\n",
       "    <tr>\n",
       "      <th>purpose_category</th>\n",
       "      <th></th>\n",
       "      <th></th>\n",
       "      <th></th>\n",
       "      <th></th>\n",
       "    </tr>\n",
       "  </thead>\n",
       "  <tbody>\n",
       "    <tr>\n",
       "      <th>операции с автомобилем</th>\n",
       "      <td>3879</td>\n",
       "      <td>400</td>\n",
       "      <td>10.31</td>\n",
       "      <td>23.09</td>\n",
       "    </tr>\n",
       "    <tr>\n",
       "      <th>получение образования</th>\n",
       "      <td>3619</td>\n",
       "      <td>369</td>\n",
       "      <td>10.20</td>\n",
       "      <td>21.30</td>\n",
       "    </tr>\n",
       "    <tr>\n",
       "      <th>проведение свадьбы</th>\n",
       "      <td>2129</td>\n",
       "      <td>183</td>\n",
       "      <td>8.60</td>\n",
       "      <td>10.57</td>\n",
       "    </tr>\n",
       "    <tr>\n",
       "      <th>операции с недвижимостью</th>\n",
       "      <td>9971</td>\n",
       "      <td>780</td>\n",
       "      <td>7.82</td>\n",
       "      <td>45.03</td>\n",
       "    </tr>\n",
       "  </tbody>\n",
       "</table>\n",
       "</div>"
      ],
      "text/plain": [
       "debt                         0    1  debt_share  total_debt_share\n",
       "purpose_category                                                 \n",
       "операции с автомобилем    3879  400       10.31             23.09\n",
       "получение образования     3619  369       10.20             21.30\n",
       "проведение свадьбы        2129  183        8.60             10.57\n",
       "операции с недвижимостью  9971  780        7.82             45.03"
      ]
     },
     "execution_count": 51,
     "metadata": {},
     "output_type": "execute_result"
    }
   ],
   "source": [
    "purpose_debt_pivot.sort_values('debt_share', ascending=False)"
   ]
  },
  {
   "cell_type": "markdown",
   "id": "045e0854",
   "metadata": {},
   "source": [
    "Для повышения эффективности подобных исследований заказчику даются следующие рекомендации по сбору данных:\n",
    "\n",
    "* В данных трудовой стаж клиентов представлен в виде количества дней, несмотря на то, что общепринято считать стаж в годах. При сборе информации в таком виде возможны ошибки ввода или подсчёта, а также усложняется процесс предобработки данных. Рекомендуется трудовой стаж клиентов сразу исчислять в годах.\n",
    "\n",
    "\n",
    "* При получении данных посредством анкетирования или других подобных способов необходимо сделать все поля обязательными для заполнения, для исключения случаев пропущенных значений. При их обработки аналитики вынуждены делать предположения, использовать средние и медианые значения - всё это может повлиять на точность результатов исследования.\n",
    "\n",
    "\n",
    "* Текстовые данные необходимо принимать и хранить в одном регистре, для избежания появления дубликатов.\n",
    "\n",
    "\n",
    "* Необходимо настроить условие для ввода, исключающие введение нулевых или отрицательных значений в таких данных как \"возраст клиента\".\n",
    "\n",
    "\n",
    "* Для целей заявки на кредит и уровня дохода можно реализовать категоризацию ещё на этапе получения данных от клиента, избежав необходимости в лишней обработке"
   ]
  },
  {
   "cell_type": "code",
   "execution_count": null,
   "id": "ac1c3e98",
   "metadata": {},
   "outputs": [],
   "source": []
  }
 ],
 "metadata": {
  "ExecuteTimeLog": [
   {
    "duration": 12,
    "start_time": "2022-04-13T18:34:29.848Z"
   },
   {
    "duration": 97,
    "start_time": "2022-04-13T20:02:39.378Z"
   },
   {
    "duration": 172,
    "start_time": "2022-04-13T20:04:04.284Z"
   },
   {
    "duration": 99,
    "start_time": "2022-04-13T20:04:16.554Z"
   },
   {
    "duration": 89,
    "start_time": "2022-04-13T20:05:05.352Z"
   },
   {
    "duration": 108,
    "start_time": "2022-04-13T20:05:20.761Z"
   },
   {
    "duration": 702,
    "start_time": "2022-04-13T20:05:30.541Z"
   },
   {
    "duration": 67,
    "start_time": "2022-04-13T20:05:37.672Z"
   },
   {
    "duration": 81,
    "start_time": "2022-04-13T20:05:48.674Z"
   },
   {
    "duration": 94,
    "start_time": "2022-04-13T20:15:51.468Z"
   },
   {
    "duration": 102,
    "start_time": "2022-04-13T21:02:58.866Z"
   },
   {
    "duration": 82,
    "start_time": "2022-04-13T21:03:43.358Z"
   },
   {
    "duration": 19,
    "start_time": "2022-04-13T21:18:51.569Z"
   },
   {
    "duration": 19,
    "start_time": "2022-04-13T21:20:13.043Z"
   },
   {
    "duration": 10,
    "start_time": "2022-04-13T21:21:00.175Z"
   },
   {
    "duration": 11,
    "start_time": "2022-04-13T21:21:06.667Z"
   },
   {
    "duration": 31,
    "start_time": "2022-04-13T21:21:18.803Z"
   },
   {
    "duration": 22,
    "start_time": "2022-04-13T21:23:29.434Z"
   },
   {
    "duration": 21,
    "start_time": "2022-04-13T21:26:48.195Z"
   },
   {
    "duration": 81,
    "start_time": "2022-04-13T21:44:33.410Z"
   },
   {
    "duration": 3,
    "start_time": "2022-04-13T21:47:41.852Z"
   },
   {
    "duration": 30,
    "start_time": "2022-04-13T22:01:24.343Z"
   },
   {
    "duration": 17,
    "start_time": "2022-04-13T22:01:58.416Z"
   },
   {
    "duration": 23,
    "start_time": "2022-04-13T22:02:19.079Z"
   },
   {
    "duration": 19,
    "start_time": "2022-04-13T22:02:33.627Z"
   },
   {
    "duration": 22,
    "start_time": "2022-04-13T22:02:43.487Z"
   },
   {
    "duration": 4,
    "start_time": "2022-04-13T22:03:26.013Z"
   },
   {
    "duration": 23,
    "start_time": "2022-04-13T22:03:30.774Z"
   },
   {
    "duration": 8,
    "start_time": "2022-04-13T22:03:53.476Z"
   },
   {
    "duration": 7,
    "start_time": "2022-04-13T22:04:55.938Z"
   },
   {
    "duration": 1015,
    "start_time": "2022-04-13T22:06:00.036Z"
   },
   {
    "duration": 99,
    "start_time": "2022-04-13T22:06:15.674Z"
   },
   {
    "duration": 1568,
    "start_time": "2022-04-13T22:06:26.950Z"
   },
   {
    "duration": 19,
    "start_time": "2022-04-13T22:06:36.952Z"
   },
   {
    "duration": 18,
    "start_time": "2022-04-13T22:06:49.925Z"
   },
   {
    "duration": 6,
    "start_time": "2022-04-13T22:10:32.467Z"
   },
   {
    "duration": 15,
    "start_time": "2022-04-13T22:11:06.525Z"
   },
   {
    "duration": 21,
    "start_time": "2022-04-13T22:11:29.353Z"
   },
   {
    "duration": 23,
    "start_time": "2022-04-13T22:11:34.559Z"
   },
   {
    "duration": 34,
    "start_time": "2022-04-13T22:11:56.625Z"
   },
   {
    "duration": 21,
    "start_time": "2022-04-13T22:12:25.216Z"
   },
   {
    "duration": 41,
    "start_time": "2022-04-13T22:12:34.098Z"
   },
   {
    "duration": 24,
    "start_time": "2022-04-13T23:12:22.292Z"
   },
   {
    "duration": 24,
    "start_time": "2022-04-13T23:12:58.102Z"
   },
   {
    "duration": 25,
    "start_time": "2022-04-13T23:13:45.850Z"
   },
   {
    "duration": 21,
    "start_time": "2022-04-13T23:15:25.585Z"
   },
   {
    "duration": 21,
    "start_time": "2022-04-13T23:15:29.479Z"
   },
   {
    "duration": 20,
    "start_time": "2022-04-13T23:15:55.099Z"
   },
   {
    "duration": 20,
    "start_time": "2022-04-13T23:16:02.720Z"
   },
   {
    "duration": 86,
    "start_time": "2022-04-13T23:18:56.364Z"
   },
   {
    "duration": 18,
    "start_time": "2022-04-13T23:21:27.941Z"
   },
   {
    "duration": 21,
    "start_time": "2022-04-13T23:22:29.428Z"
   },
   {
    "duration": 21,
    "start_time": "2022-04-13T23:24:49.826Z"
   },
   {
    "duration": 21,
    "start_time": "2022-04-13T23:36:23.474Z"
   },
   {
    "duration": 80,
    "start_time": "2022-04-13T23:51:44.355Z"
   },
   {
    "duration": 19,
    "start_time": "2022-04-13T23:51:59.742Z"
   },
   {
    "duration": 22,
    "start_time": "2022-04-13T23:52:03.286Z"
   },
   {
    "duration": 27,
    "start_time": "2022-04-13T23:52:07.673Z"
   },
   {
    "duration": 10,
    "start_time": "2022-04-13T23:57:00.282Z"
   },
   {
    "duration": 49,
    "start_time": "2022-04-14T00:01:19.848Z"
   },
   {
    "duration": 50,
    "start_time": "2022-04-14T00:01:32.612Z"
   },
   {
    "duration": 50,
    "start_time": "2022-04-14T00:11:52.879Z"
   },
   {
    "duration": 51,
    "start_time": "2022-04-14T00:12:10.620Z"
   },
   {
    "duration": 46,
    "start_time": "2022-04-14T00:12:30.039Z"
   },
   {
    "duration": 90,
    "start_time": "2022-04-14T00:16:31.625Z"
   },
   {
    "duration": 114,
    "start_time": "2022-04-14T00:21:56.442Z"
   },
   {
    "duration": 29,
    "start_time": "2022-04-14T00:22:01.536Z"
   },
   {
    "duration": 46,
    "start_time": "2022-04-14T00:22:16.435Z"
   },
   {
    "duration": 45,
    "start_time": "2022-04-14T00:22:27.201Z"
   },
   {
    "duration": 29,
    "start_time": "2022-04-14T00:23:29.704Z"
   },
   {
    "duration": 14,
    "start_time": "2022-04-14T00:23:47.969Z"
   },
   {
    "duration": 7,
    "start_time": "2022-04-14T00:24:14.527Z"
   },
   {
    "duration": 6,
    "start_time": "2022-04-14T00:24:20.117Z"
   },
   {
    "duration": 6,
    "start_time": "2022-04-14T00:24:39.096Z"
   },
   {
    "duration": 7,
    "start_time": "2022-04-14T00:24:46.392Z"
   },
   {
    "duration": 93,
    "start_time": "2022-04-14T00:25:40.071Z"
   },
   {
    "duration": 5,
    "start_time": "2022-04-14T00:25:51.368Z"
   },
   {
    "duration": 8,
    "start_time": "2022-04-14T00:36:25.660Z"
   },
   {
    "duration": 46,
    "start_time": "2022-04-14T00:36:28.282Z"
   },
   {
    "duration": 7,
    "start_time": "2022-04-14T00:37:40.013Z"
   },
   {
    "duration": 4,
    "start_time": "2022-04-14T00:38:05.678Z"
   },
   {
    "duration": 23,
    "start_time": "2022-04-14T00:38:10.466Z"
   },
   {
    "duration": 19,
    "start_time": "2022-04-14T00:38:22.641Z"
   },
   {
    "duration": 3,
    "start_time": "2022-04-14T00:38:33.647Z"
   },
   {
    "duration": 6,
    "start_time": "2022-04-14T00:38:38.989Z"
   },
   {
    "duration": 11,
    "start_time": "2022-04-14T00:39:28.740Z"
   },
   {
    "duration": 12,
    "start_time": "2022-04-14T00:39:36.012Z"
   },
   {
    "duration": 11,
    "start_time": "2022-04-14T00:39:42.058Z"
   },
   {
    "duration": 11,
    "start_time": "2022-04-14T00:39:51.414Z"
   },
   {
    "duration": 23,
    "start_time": "2022-04-14T00:40:01.423Z"
   },
   {
    "duration": 10,
    "start_time": "2022-04-14T00:40:15.203Z"
   },
   {
    "duration": 6,
    "start_time": "2022-04-14T00:40:20.893Z"
   },
   {
    "duration": 6,
    "start_time": "2022-04-14T00:40:30.651Z"
   },
   {
    "duration": 6,
    "start_time": "2022-04-14T00:40:35.861Z"
   },
   {
    "duration": 7,
    "start_time": "2022-04-14T00:40:45.935Z"
   },
   {
    "duration": 7,
    "start_time": "2022-04-14T00:40:49.925Z"
   },
   {
    "duration": 6,
    "start_time": "2022-04-14T00:43:08.865Z"
   },
   {
    "duration": 7,
    "start_time": "2022-04-14T00:43:13.598Z"
   },
   {
    "duration": 8,
    "start_time": "2022-04-14T00:43:28.183Z"
   },
   {
    "duration": 7,
    "start_time": "2022-04-14T00:43:34.759Z"
   },
   {
    "duration": 8,
    "start_time": "2022-04-14T00:43:40.525Z"
   },
   {
    "duration": 6,
    "start_time": "2022-04-14T00:49:25.829Z"
   },
   {
    "duration": 6,
    "start_time": "2022-04-14T00:49:38.357Z"
   },
   {
    "duration": 7,
    "start_time": "2022-04-14T00:49:53.052Z"
   },
   {
    "duration": 8,
    "start_time": "2022-04-14T00:50:05.016Z"
   },
   {
    "duration": 7,
    "start_time": "2022-04-14T00:51:51.355Z"
   },
   {
    "duration": 7,
    "start_time": "2022-04-14T00:51:56.005Z"
   },
   {
    "duration": 124,
    "start_time": "2022-04-14T11:08:37.955Z"
   },
   {
    "duration": 597,
    "start_time": "2022-04-14T11:08:45.811Z"
   },
   {
    "duration": 30,
    "start_time": "2022-04-14T11:08:46.411Z"
   },
   {
    "duration": 23,
    "start_time": "2022-04-14T11:08:46.443Z"
   },
   {
    "duration": 7,
    "start_time": "2022-04-14T11:08:46.494Z"
   },
   {
    "duration": 49,
    "start_time": "2022-04-14T11:08:46.503Z"
   },
   {
    "duration": 39,
    "start_time": "2022-04-14T11:08:46.555Z"
   },
   {
    "duration": 45,
    "start_time": "2022-04-14T11:08:46.596Z"
   },
   {
    "duration": 9,
    "start_time": "2022-04-14T11:09:01.471Z"
   },
   {
    "duration": 7,
    "start_time": "2022-04-14T11:09:11.361Z"
   },
   {
    "duration": 7,
    "start_time": "2022-04-14T11:09:19.879Z"
   },
   {
    "duration": 6,
    "start_time": "2022-04-14T11:09:29.684Z"
   },
   {
    "duration": 7,
    "start_time": "2022-04-14T11:09:42.750Z"
   },
   {
    "duration": 8,
    "start_time": "2022-04-14T11:11:16.973Z"
   },
   {
    "duration": 14,
    "start_time": "2022-04-14T11:11:36.995Z"
   },
   {
    "duration": 14,
    "start_time": "2022-04-14T11:12:51.777Z"
   },
   {
    "duration": 0,
    "start_time": "2022-04-14T11:22:22.047Z"
   },
   {
    "duration": 3188,
    "start_time": "2022-04-14T11:22:25.951Z"
   },
   {
    "duration": 9,
    "start_time": "2022-04-14T11:22:48.279Z"
   },
   {
    "duration": 20,
    "start_time": "2022-04-14T11:24:02.372Z"
   },
   {
    "duration": 14,
    "start_time": "2022-04-14T11:24:17.914Z"
   },
   {
    "duration": 9,
    "start_time": "2022-04-14T11:24:57.629Z"
   },
   {
    "duration": 19,
    "start_time": "2022-04-14T11:29:14.155Z"
   },
   {
    "duration": 14,
    "start_time": "2022-04-14T11:29:42.052Z"
   },
   {
    "duration": 17,
    "start_time": "2022-04-14T11:29:48.977Z"
   },
   {
    "duration": 13,
    "start_time": "2022-04-14T11:30:01.577Z"
   },
   {
    "duration": 17,
    "start_time": "2022-04-14T11:30:28.331Z"
   },
   {
    "duration": 16,
    "start_time": "2022-04-14T11:30:34.003Z"
   },
   {
    "duration": 26,
    "start_time": "2022-04-14T11:30:48.417Z"
   },
   {
    "duration": 7,
    "start_time": "2022-04-14T11:31:05.356Z"
   },
   {
    "duration": 20,
    "start_time": "2022-04-14T11:31:13.210Z"
   },
   {
    "duration": 90,
    "start_time": "2022-04-14T11:31:18.868Z"
   },
   {
    "duration": 18,
    "start_time": "2022-04-14T11:31:18.960Z"
   },
   {
    "duration": 22,
    "start_time": "2022-04-14T11:31:18.992Z"
   },
   {
    "duration": 7,
    "start_time": "2022-04-14T11:31:19.019Z"
   },
   {
    "duration": 83,
    "start_time": "2022-04-14T11:31:19.028Z"
   },
   {
    "duration": 6,
    "start_time": "2022-04-14T11:31:19.114Z"
   },
   {
    "duration": 20,
    "start_time": "2022-04-14T11:31:19.122Z"
   },
   {
    "duration": 23,
    "start_time": "2022-04-14T11:31:20.668Z"
   },
   {
    "duration": 7,
    "start_time": "2022-04-14T11:31:38.916Z"
   },
   {
    "duration": 17,
    "start_time": "2022-04-14T11:31:49.339Z"
   },
   {
    "duration": 85,
    "start_time": "2022-04-14T11:31:56.249Z"
   },
   {
    "duration": 91,
    "start_time": "2022-04-14T11:32:10.410Z"
   },
   {
    "duration": 615,
    "start_time": "2022-04-14T11:32:28.154Z"
   },
   {
    "duration": 36,
    "start_time": "2022-04-14T11:32:28.772Z"
   },
   {
    "duration": 22,
    "start_time": "2022-04-14T11:32:28.810Z"
   },
   {
    "duration": 8,
    "start_time": "2022-04-14T11:32:28.835Z"
   },
   {
    "duration": 79,
    "start_time": "2022-04-14T11:32:28.845Z"
   },
   {
    "duration": 7,
    "start_time": "2022-04-14T11:32:28.926Z"
   },
   {
    "duration": 17,
    "start_time": "2022-04-14T11:32:28.935Z"
   },
   {
    "duration": 42,
    "start_time": "2022-04-14T11:32:28.954Z"
   },
   {
    "duration": 24,
    "start_time": "2022-04-14T11:32:28.998Z"
   },
   {
    "duration": 3,
    "start_time": "2022-04-14T11:32:40.062Z"
   },
   {
    "duration": 17,
    "start_time": "2022-04-14T11:32:42.886Z"
   },
   {
    "duration": 563,
    "start_time": "2022-04-14T11:33:37.516Z"
   },
   {
    "duration": 34,
    "start_time": "2022-04-14T11:33:43.641Z"
   },
   {
    "duration": 20,
    "start_time": "2022-04-14T11:33:55.592Z"
   },
   {
    "duration": 89,
    "start_time": "2022-04-14T11:34:05.261Z"
   },
   {
    "duration": 20,
    "start_time": "2022-04-14T11:34:05.353Z"
   },
   {
    "duration": 22,
    "start_time": "2022-04-14T11:34:05.393Z"
   },
   {
    "duration": 7,
    "start_time": "2022-04-14T11:34:05.417Z"
   },
   {
    "duration": 83,
    "start_time": "2022-04-14T11:34:05.429Z"
   },
   {
    "duration": 7,
    "start_time": "2022-04-14T11:34:05.515Z"
   },
   {
    "duration": 19,
    "start_time": "2022-04-14T11:34:05.524Z"
   },
   {
    "duration": 8,
    "start_time": "2022-04-14T11:34:10.058Z"
   },
   {
    "duration": 22,
    "start_time": "2022-04-14T11:34:11.274Z"
   },
   {
    "duration": 6,
    "start_time": "2022-04-14T11:34:33.701Z"
   },
   {
    "duration": 25,
    "start_time": "2022-04-14T11:35:07.619Z"
   },
   {
    "duration": 25,
    "start_time": "2022-04-14T11:35:11.431Z"
   },
   {
    "duration": 24,
    "start_time": "2022-04-14T11:35:18.066Z"
   },
   {
    "duration": 88,
    "start_time": "2022-04-14T20:13:23.685Z"
   },
   {
    "duration": 482,
    "start_time": "2022-04-14T20:13:30.978Z"
   },
   {
    "duration": 28,
    "start_time": "2022-04-14T20:13:31.462Z"
   },
   {
    "duration": 36,
    "start_time": "2022-04-14T20:13:31.492Z"
   },
   {
    "duration": 18,
    "start_time": "2022-04-14T20:13:31.531Z"
   },
   {
    "duration": 47,
    "start_time": "2022-04-14T20:13:31.552Z"
   },
   {
    "duration": 5,
    "start_time": "2022-04-14T20:13:31.600Z"
   },
   {
    "duration": 21,
    "start_time": "2022-04-14T20:13:31.630Z"
   },
   {
    "duration": 17,
    "start_time": "2022-04-14T20:13:31.653Z"
   },
   {
    "duration": 19,
    "start_time": "2022-04-14T20:52:38.203Z"
   },
   {
    "duration": 8,
    "start_time": "2022-04-14T20:53:18.083Z"
   },
   {
    "duration": 16,
    "start_time": "2022-04-14T20:53:29.122Z"
   },
   {
    "duration": 5,
    "start_time": "2022-04-14T20:54:05.962Z"
   },
   {
    "duration": 5,
    "start_time": "2022-04-14T20:54:13.498Z"
   },
   {
    "duration": 198,
    "start_time": "2022-04-14T20:54:28.018Z"
   },
   {
    "duration": 9,
    "start_time": "2022-04-14T20:54:33.747Z"
   },
   {
    "duration": 29,
    "start_time": "2022-04-14T20:55:15.171Z"
   },
   {
    "duration": 186,
    "start_time": "2022-04-14T21:00:46.062Z"
   },
   {
    "duration": 3,
    "start_time": "2022-04-14T21:00:58.190Z"
   },
   {
    "duration": 9,
    "start_time": "2022-04-14T21:01:20.734Z"
   },
   {
    "duration": 18,
    "start_time": "2022-04-14T21:01:26.638Z"
   },
   {
    "duration": 3,
    "start_time": "2022-04-14T21:01:44.687Z"
   },
   {
    "duration": 5,
    "start_time": "2022-04-14T21:01:49.254Z"
   },
   {
    "duration": 5,
    "start_time": "2022-04-14T21:02:07.935Z"
   },
   {
    "duration": 195,
    "start_time": "2022-04-14T21:02:14.082Z"
   },
   {
    "duration": 177,
    "start_time": "2022-04-14T21:02:24.175Z"
   },
   {
    "duration": 6,
    "start_time": "2022-04-14T21:02:31.454Z"
   },
   {
    "duration": 187,
    "start_time": "2022-04-14T21:03:44.456Z"
   },
   {
    "duration": 19,
    "start_time": "2022-04-14T21:03:49.192Z"
   },
   {
    "duration": 23,
    "start_time": "2022-04-14T21:16:27.148Z"
   },
   {
    "duration": 29,
    "start_time": "2022-04-14T21:16:36.329Z"
   },
   {
    "duration": 17,
    "start_time": "2022-04-14T21:16:49.025Z"
   },
   {
    "duration": 26,
    "start_time": "2022-04-14T21:17:03.497Z"
   },
   {
    "duration": 19,
    "start_time": "2022-04-14T21:20:14.236Z"
   },
   {
    "duration": 18,
    "start_time": "2022-04-14T21:21:12.303Z"
   },
   {
    "duration": 19,
    "start_time": "2022-04-14T21:21:19.916Z"
   },
   {
    "duration": 4,
    "start_time": "2022-04-14T21:23:00.326Z"
   },
   {
    "duration": 15,
    "start_time": "2022-04-14T21:23:23.557Z"
   },
   {
    "duration": 4,
    "start_time": "2022-04-14T21:23:28.230Z"
   },
   {
    "duration": 74,
    "start_time": "2022-04-14T21:24:32.589Z"
   },
   {
    "duration": 11,
    "start_time": "2022-04-14T21:24:32.666Z"
   },
   {
    "duration": 14,
    "start_time": "2022-04-14T21:24:32.679Z"
   },
   {
    "duration": 5,
    "start_time": "2022-04-14T21:24:32.695Z"
   },
   {
    "duration": 45,
    "start_time": "2022-04-14T21:24:32.701Z"
   },
   {
    "duration": 4,
    "start_time": "2022-04-14T21:24:32.748Z"
   },
   {
    "duration": 20,
    "start_time": "2022-04-14T21:24:32.754Z"
   },
   {
    "duration": 15,
    "start_time": "2022-04-14T21:24:32.775Z"
   },
   {
    "duration": 6,
    "start_time": "2022-04-14T21:24:37.815Z"
   },
   {
    "duration": 27,
    "start_time": "2022-04-14T21:24:52.919Z"
   },
   {
    "duration": 18,
    "start_time": "2022-04-14T21:24:59.454Z"
   },
   {
    "duration": 220,
    "start_time": "2022-04-14T21:32:03.875Z"
   },
   {
    "duration": 2,
    "start_time": "2022-04-14T21:32:19.092Z"
   },
   {
    "duration": 17,
    "start_time": "2022-04-14T21:34:00.637Z"
   },
   {
    "duration": 17,
    "start_time": "2022-04-14T21:34:14.965Z"
   },
   {
    "duration": 4712,
    "start_time": "2022-04-14T21:35:41.966Z"
   },
   {
    "duration": 0,
    "start_time": "2022-04-14T21:35:53.550Z"
   },
   {
    "duration": 0,
    "start_time": "2022-04-14T21:36:11.141Z"
   },
   {
    "duration": 79,
    "start_time": "2022-04-14T21:36:23.007Z"
   },
   {
    "duration": 14,
    "start_time": "2022-04-14T21:36:23.088Z"
   },
   {
    "duration": 32,
    "start_time": "2022-04-14T21:36:23.104Z"
   },
   {
    "duration": 5,
    "start_time": "2022-04-14T21:36:23.139Z"
   },
   {
    "duration": 32,
    "start_time": "2022-04-14T21:36:23.147Z"
   },
   {
    "duration": 6,
    "start_time": "2022-04-14T21:36:23.181Z"
   },
   {
    "duration": 13,
    "start_time": "2022-04-14T21:36:23.222Z"
   },
   {
    "duration": 22,
    "start_time": "2022-04-14T21:36:23.236Z"
   },
   {
    "duration": 18,
    "start_time": "2022-04-14T21:36:23.260Z"
   },
   {
    "duration": 2,
    "start_time": "2022-04-14T21:36:23.281Z"
   },
   {
    "duration": 3458,
    "start_time": "2022-04-14T21:36:36.206Z"
   },
   {
    "duration": 106,
    "start_time": "2022-04-14T21:37:22.654Z"
   },
   {
    "duration": 17,
    "start_time": "2022-04-14T21:37:22.763Z"
   },
   {
    "duration": 14,
    "start_time": "2022-04-14T21:37:22.782Z"
   },
   {
    "duration": 24,
    "start_time": "2022-04-14T21:37:22.799Z"
   },
   {
    "duration": 32,
    "start_time": "2022-04-14T21:37:22.825Z"
   },
   {
    "duration": 5,
    "start_time": "2022-04-14T21:37:22.859Z"
   },
   {
    "duration": 11,
    "start_time": "2022-04-14T21:37:22.865Z"
   },
   {
    "duration": 51,
    "start_time": "2022-04-14T21:37:22.878Z"
   },
   {
    "duration": 17,
    "start_time": "2022-04-14T21:37:27.143Z"
   },
   {
    "duration": 3483,
    "start_time": "2022-04-14T21:43:06.892Z"
   },
   {
    "duration": 113,
    "start_time": "2022-04-14T21:43:27.770Z"
   },
   {
    "duration": 17,
    "start_time": "2022-04-14T21:43:27.885Z"
   },
   {
    "duration": 30,
    "start_time": "2022-04-14T21:43:27.904Z"
   },
   {
    "duration": 7,
    "start_time": "2022-04-14T21:43:27.936Z"
   },
   {
    "duration": 41,
    "start_time": "2022-04-14T21:43:27.945Z"
   },
   {
    "duration": 6,
    "start_time": "2022-04-14T21:43:27.988Z"
   },
   {
    "duration": 12,
    "start_time": "2022-04-14T21:43:28.023Z"
   },
   {
    "duration": 20,
    "start_time": "2022-04-14T21:43:28.037Z"
   },
   {
    "duration": 27,
    "start_time": "2022-04-14T21:43:28.059Z"
   },
   {
    "duration": 2,
    "start_time": "2022-04-14T21:43:28.089Z"
   },
   {
    "duration": 75,
    "start_time": "2022-04-14T21:43:30.506Z"
   },
   {
    "duration": 17,
    "start_time": "2022-04-14T21:43:30.583Z"
   },
   {
    "duration": 37,
    "start_time": "2022-04-14T21:43:30.603Z"
   },
   {
    "duration": 18,
    "start_time": "2022-04-14T21:43:30.642Z"
   },
   {
    "duration": 53,
    "start_time": "2022-04-14T21:43:30.662Z"
   },
   {
    "duration": 5,
    "start_time": "2022-04-14T21:43:30.718Z"
   },
   {
    "duration": 34,
    "start_time": "2022-04-14T21:43:30.725Z"
   },
   {
    "duration": 41,
    "start_time": "2022-04-14T21:43:30.761Z"
   },
   {
    "duration": 36,
    "start_time": "2022-04-14T21:43:30.804Z"
   },
   {
    "duration": 13,
    "start_time": "2022-04-14T21:43:30.843Z"
   },
   {
    "duration": 12,
    "start_time": "2022-04-14T21:44:16.355Z"
   },
   {
    "duration": 11,
    "start_time": "2022-04-14T21:44:25.283Z"
   },
   {
    "duration": 4,
    "start_time": "2022-04-14T21:44:39.588Z"
   },
   {
    "duration": 11,
    "start_time": "2022-04-14T21:44:56.076Z"
   },
   {
    "duration": 70,
    "start_time": "2022-04-14T21:45:01.435Z"
   },
   {
    "duration": 13,
    "start_time": "2022-04-14T21:45:01.507Z"
   },
   {
    "duration": 20,
    "start_time": "2022-04-14T21:45:01.522Z"
   },
   {
    "duration": 14,
    "start_time": "2022-04-14T21:45:01.544Z"
   },
   {
    "duration": 49,
    "start_time": "2022-04-14T21:45:01.559Z"
   },
   {
    "duration": 10,
    "start_time": "2022-04-14T21:45:01.610Z"
   },
   {
    "duration": 14,
    "start_time": "2022-04-14T21:45:01.623Z"
   },
   {
    "duration": 15,
    "start_time": "2022-04-14T21:45:01.639Z"
   },
   {
    "duration": 33,
    "start_time": "2022-04-14T21:45:01.656Z"
   },
   {
    "duration": 16,
    "start_time": "2022-04-14T21:45:20.261Z"
   },
   {
    "duration": 19,
    "start_time": "2022-04-14T21:45:41.333Z"
   },
   {
    "duration": 1504,
    "start_time": "2022-04-14T21:48:43.728Z"
   },
   {
    "duration": 111,
    "start_time": "2022-04-14T21:49:04.334Z"
   },
   {
    "duration": 16,
    "start_time": "2022-04-14T21:49:04.447Z"
   },
   {
    "duration": 18,
    "start_time": "2022-04-14T21:49:04.464Z"
   },
   {
    "duration": 6,
    "start_time": "2022-04-14T21:49:04.484Z"
   },
   {
    "duration": 66,
    "start_time": "2022-04-14T21:49:04.492Z"
   },
   {
    "duration": 5,
    "start_time": "2022-04-14T21:49:04.560Z"
   },
   {
    "duration": 11,
    "start_time": "2022-04-14T21:49:04.566Z"
   },
   {
    "duration": 44,
    "start_time": "2022-04-14T21:49:04.579Z"
   },
   {
    "duration": 2062,
    "start_time": "2022-04-14T21:49:07.168Z"
   },
   {
    "duration": 1601,
    "start_time": "2022-04-14T21:49:39.255Z"
   },
   {
    "duration": 1503,
    "start_time": "2022-04-14T21:53:11.786Z"
   },
   {
    "duration": 23,
    "start_time": "2022-04-14T21:53:28.771Z"
   },
   {
    "duration": 6,
    "start_time": "2022-04-14T21:54:05.315Z"
   },
   {
    "duration": 2276,
    "start_time": "2022-04-14T21:54:12.682Z"
   },
   {
    "duration": 4,
    "start_time": "2022-04-14T21:54:35.202Z"
   },
   {
    "duration": 3,
    "start_time": "2022-04-14T21:54:56.027Z"
   },
   {
    "duration": 2243,
    "start_time": "2022-04-14T21:55:14.370Z"
   },
   {
    "duration": 191,
    "start_time": "2022-04-14T21:55:22.707Z"
   },
   {
    "duration": 2228,
    "start_time": "2022-04-14T21:55:37.203Z"
   },
   {
    "duration": 2276,
    "start_time": "2022-04-14T21:56:26.700Z"
   },
   {
    "duration": 2246,
    "start_time": "2022-04-14T21:56:40.116Z"
   },
   {
    "duration": 181,
    "start_time": "2022-04-14T21:56:56.452Z"
   },
   {
    "duration": 2420,
    "start_time": "2022-04-14T21:57:01.611Z"
   },
   {
    "duration": 2957,
    "start_time": "2022-04-14T21:57:20.901Z"
   },
   {
    "duration": 2272,
    "start_time": "2022-04-14T21:57:39.357Z"
   },
   {
    "duration": 72,
    "start_time": "2022-04-14T21:57:53.459Z"
   },
   {
    "duration": 12,
    "start_time": "2022-04-14T21:57:53.532Z"
   },
   {
    "duration": 16,
    "start_time": "2022-04-14T21:57:53.546Z"
   },
   {
    "duration": 4,
    "start_time": "2022-04-14T21:57:53.565Z"
   },
   {
    "duration": 29,
    "start_time": "2022-04-14T21:57:53.570Z"
   },
   {
    "duration": 4,
    "start_time": "2022-04-14T21:57:53.623Z"
   },
   {
    "duration": 11,
    "start_time": "2022-04-14T21:57:53.629Z"
   },
   {
    "duration": 14,
    "start_time": "2022-04-14T21:57:53.641Z"
   },
   {
    "duration": 21,
    "start_time": "2022-04-14T21:57:56.436Z"
   },
   {
    "duration": 18,
    "start_time": "2022-04-14T21:58:03.701Z"
   },
   {
    "duration": 18,
    "start_time": "2022-04-14T22:03:49.081Z"
   },
   {
    "duration": 190,
    "start_time": "2022-04-14T22:04:22.770Z"
   },
   {
    "duration": 7,
    "start_time": "2022-04-14T22:04:25.816Z"
   },
   {
    "duration": 20,
    "start_time": "2022-04-14T22:04:35.352Z"
   },
   {
    "duration": 1531,
    "start_time": "2022-04-14T22:06:39.819Z"
   },
   {
    "duration": 1588,
    "start_time": "2022-04-14T22:07:05.275Z"
   },
   {
    "duration": 1549,
    "start_time": "2022-04-14T22:07:16.322Z"
   },
   {
    "duration": 240,
    "start_time": "2022-04-14T22:07:46.283Z"
   },
   {
    "duration": 1550,
    "start_time": "2022-04-14T22:07:59.363Z"
   },
   {
    "duration": 11,
    "start_time": "2022-04-14T22:08:29.147Z"
   },
   {
    "duration": 5,
    "start_time": "2022-04-14T22:09:14.124Z"
   },
   {
    "duration": 2281,
    "start_time": "2022-04-14T22:09:25.043Z"
   },
   {
    "duration": 2289,
    "start_time": "2022-04-14T22:09:45.028Z"
   },
   {
    "duration": 2430,
    "start_time": "2022-04-14T22:09:52.389Z"
   },
   {
    "duration": 2279,
    "start_time": "2022-04-14T22:10:36.061Z"
   },
   {
    "duration": 2270,
    "start_time": "2022-04-14T22:10:56.373Z"
   },
   {
    "duration": 193,
    "start_time": "2022-04-14T22:11:06.661Z"
   },
   {
    "duration": 2346,
    "start_time": "2022-04-14T22:11:10.341Z"
   },
   {
    "duration": 2274,
    "start_time": "2022-04-14T22:11:26.149Z"
   },
   {
    "duration": 7,
    "start_time": "2022-04-14T22:11:45.653Z"
   },
   {
    "duration": 73,
    "start_time": "2022-04-14T22:11:54.325Z"
   },
   {
    "duration": 12,
    "start_time": "2022-04-14T22:11:54.399Z"
   },
   {
    "duration": 22,
    "start_time": "2022-04-14T22:11:54.413Z"
   },
   {
    "duration": 5,
    "start_time": "2022-04-14T22:11:54.438Z"
   },
   {
    "duration": 44,
    "start_time": "2022-04-14T22:11:54.444Z"
   },
   {
    "duration": 4,
    "start_time": "2022-04-14T22:11:54.490Z"
   },
   {
    "duration": 32,
    "start_time": "2022-04-14T22:11:54.496Z"
   },
   {
    "duration": 14,
    "start_time": "2022-04-14T22:11:54.529Z"
   },
   {
    "duration": 23,
    "start_time": "2022-04-14T22:12:05.022Z"
   },
   {
    "duration": 20,
    "start_time": "2022-04-14T22:12:10.853Z"
   },
   {
    "duration": 1863,
    "start_time": "2022-04-14T22:12:41.774Z"
   },
   {
    "duration": 8,
    "start_time": "2022-04-14T22:16:37.889Z"
   },
   {
    "duration": 6,
    "start_time": "2022-04-14T22:17:04.393Z"
   },
   {
    "duration": 2360,
    "start_time": "2022-04-14T22:17:12.961Z"
   },
   {
    "duration": 2326,
    "start_time": "2022-04-14T22:17:29.810Z"
   },
   {
    "duration": 2947,
    "start_time": "2022-04-14T22:19:49.908Z"
   },
   {
    "duration": 2294,
    "start_time": "2022-04-14T22:19:57.651Z"
   },
   {
    "duration": 731,
    "start_time": "2022-04-14T22:20:08.394Z"
   },
   {
    "duration": 12,
    "start_time": "2022-04-14T22:20:09.127Z"
   },
   {
    "duration": 23,
    "start_time": "2022-04-14T22:20:09.141Z"
   },
   {
    "duration": 5,
    "start_time": "2022-04-14T22:20:09.166Z"
   },
   {
    "duration": 50,
    "start_time": "2022-04-14T22:20:09.172Z"
   },
   {
    "duration": 6,
    "start_time": "2022-04-14T22:20:09.224Z"
   },
   {
    "duration": 12,
    "start_time": "2022-04-14T22:20:09.232Z"
   },
   {
    "duration": 15,
    "start_time": "2022-04-14T22:20:09.246Z"
   },
   {
    "duration": 11,
    "start_time": "2022-04-14T22:20:11.299Z"
   },
   {
    "duration": 8,
    "start_time": "2022-04-14T22:21:09.033Z"
   },
   {
    "duration": 8,
    "start_time": "2022-04-14T22:21:17.316Z"
   },
   {
    "duration": 7,
    "start_time": "2022-04-14T22:21:38.013Z"
   },
   {
    "duration": 12,
    "start_time": "2022-04-14T22:21:44.725Z"
   },
   {
    "duration": 68,
    "start_time": "2022-04-14T22:22:18.581Z"
   },
   {
    "duration": 12,
    "start_time": "2022-04-14T22:22:18.651Z"
   },
   {
    "duration": 14,
    "start_time": "2022-04-14T22:22:18.664Z"
   },
   {
    "duration": 5,
    "start_time": "2022-04-14T22:22:18.680Z"
   },
   {
    "duration": 48,
    "start_time": "2022-04-14T22:22:18.687Z"
   },
   {
    "duration": 5,
    "start_time": "2022-04-14T22:22:18.737Z"
   },
   {
    "duration": 13,
    "start_time": "2022-04-14T22:22:18.744Z"
   },
   {
    "duration": 15,
    "start_time": "2022-04-14T22:22:18.759Z"
   },
   {
    "duration": 9,
    "start_time": "2022-04-14T22:22:36.870Z"
   },
   {
    "duration": 7,
    "start_time": "2022-04-14T22:28:14.441Z"
   },
   {
    "duration": 6,
    "start_time": "2022-04-14T22:28:24.065Z"
   },
   {
    "duration": 8,
    "start_time": "2022-04-14T22:28:31.473Z"
   },
   {
    "duration": 8,
    "start_time": "2022-04-14T22:28:43.793Z"
   },
   {
    "duration": 7,
    "start_time": "2022-04-14T22:28:53.929Z"
   },
   {
    "duration": 6,
    "start_time": "2022-04-14T22:29:20.250Z"
   },
   {
    "duration": 7,
    "start_time": "2022-04-14T22:29:48.666Z"
   },
   {
    "duration": 9,
    "start_time": "2022-04-14T22:30:01.754Z"
   },
   {
    "duration": 8,
    "start_time": "2022-04-14T22:30:34.355Z"
   },
   {
    "duration": 7,
    "start_time": "2022-04-14T22:31:10.267Z"
   },
   {
    "duration": 18,
    "start_time": "2022-04-14T22:31:18.066Z"
   },
   {
    "duration": 24,
    "start_time": "2022-04-14T22:31:29.724Z"
   },
   {
    "duration": 18,
    "start_time": "2022-04-14T22:31:42.076Z"
   },
   {
    "duration": 20,
    "start_time": "2022-04-14T22:49:25.961Z"
   },
   {
    "duration": 72,
    "start_time": "2022-04-14T22:49:33.495Z"
   },
   {
    "duration": 13,
    "start_time": "2022-04-14T22:49:33.569Z"
   },
   {
    "duration": 14,
    "start_time": "2022-04-14T22:49:33.583Z"
   },
   {
    "duration": 24,
    "start_time": "2022-04-14T22:49:33.599Z"
   },
   {
    "duration": 34,
    "start_time": "2022-04-14T22:49:33.625Z"
   },
   {
    "duration": 5,
    "start_time": "2022-04-14T22:49:33.660Z"
   },
   {
    "duration": 9,
    "start_time": "2022-04-14T22:49:33.667Z"
   },
   {
    "duration": 53,
    "start_time": "2022-04-14T22:49:33.677Z"
   },
   {
    "duration": 21,
    "start_time": "2022-04-14T22:49:35.680Z"
   },
   {
    "duration": 521,
    "start_time": "2022-04-14T22:50:34.816Z"
   },
   {
    "duration": 18,
    "start_time": "2022-04-14T22:50:35.339Z"
   },
   {
    "duration": 14,
    "start_time": "2022-04-14T22:50:35.358Z"
   },
   {
    "duration": 5,
    "start_time": "2022-04-14T22:50:35.374Z"
   },
   {
    "duration": 53,
    "start_time": "2022-04-14T22:50:35.380Z"
   },
   {
    "duration": 5,
    "start_time": "2022-04-14T22:50:35.435Z"
   },
   {
    "duration": 11,
    "start_time": "2022-04-14T22:50:35.442Z"
   },
   {
    "duration": 15,
    "start_time": "2022-04-14T22:50:35.454Z"
   },
   {
    "duration": 61,
    "start_time": "2022-04-14T22:50:35.471Z"
   },
   {
    "duration": 2,
    "start_time": "2022-04-14T22:50:35.534Z"
   },
   {
    "duration": 13,
    "start_time": "2022-04-14T22:53:07.135Z"
   },
   {
    "duration": 71,
    "start_time": "2022-04-14T22:53:11.388Z"
   },
   {
    "duration": 12,
    "start_time": "2022-04-14T22:53:11.461Z"
   },
   {
    "duration": 13,
    "start_time": "2022-04-14T22:53:11.475Z"
   },
   {
    "duration": 5,
    "start_time": "2022-04-14T22:53:11.490Z"
   },
   {
    "duration": 48,
    "start_time": "2022-04-14T22:53:11.497Z"
   },
   {
    "duration": 5,
    "start_time": "2022-04-14T22:53:11.546Z"
   },
   {
    "duration": 11,
    "start_time": "2022-04-14T22:53:11.552Z"
   },
   {
    "duration": 14,
    "start_time": "2022-04-14T22:53:11.564Z"
   },
   {
    "duration": 46,
    "start_time": "2022-04-14T22:53:11.580Z"
   },
   {
    "duration": 17,
    "start_time": "2022-04-14T22:53:59.840Z"
   },
   {
    "duration": 72,
    "start_time": "2022-04-14T22:54:28.421Z"
   },
   {
    "duration": 12,
    "start_time": "2022-04-14T22:54:28.495Z"
   },
   {
    "duration": 16,
    "start_time": "2022-04-14T22:54:28.508Z"
   },
   {
    "duration": 5,
    "start_time": "2022-04-14T22:54:28.526Z"
   },
   {
    "duration": 30,
    "start_time": "2022-04-14T22:54:28.532Z"
   },
   {
    "duration": 4,
    "start_time": "2022-04-14T22:54:28.564Z"
   },
   {
    "duration": 11,
    "start_time": "2022-04-14T22:54:28.569Z"
   },
   {
    "duration": 47,
    "start_time": "2022-04-14T22:54:28.581Z"
   },
   {
    "duration": 13,
    "start_time": "2022-04-14T22:54:35.999Z"
   },
   {
    "duration": 13,
    "start_time": "2022-04-14T22:54:57.343Z"
   },
   {
    "duration": 21,
    "start_time": "2022-04-14T22:55:31.799Z"
   },
   {
    "duration": 70,
    "start_time": "2022-04-14T22:55:55.254Z"
   },
   {
    "duration": 12,
    "start_time": "2022-04-14T22:55:55.326Z"
   },
   {
    "duration": 19,
    "start_time": "2022-04-14T22:55:55.340Z"
   },
   {
    "duration": 6,
    "start_time": "2022-04-14T22:55:55.362Z"
   },
   {
    "duration": 36,
    "start_time": "2022-04-14T22:55:55.369Z"
   },
   {
    "duration": 20,
    "start_time": "2022-04-14T22:55:55.406Z"
   },
   {
    "duration": 17,
    "start_time": "2022-04-14T22:55:55.428Z"
   },
   {
    "duration": 14,
    "start_time": "2022-04-14T22:55:55.447Z"
   },
   {
    "duration": 13,
    "start_time": "2022-04-14T22:56:06.049Z"
   },
   {
    "duration": 3,
    "start_time": "2022-04-14T22:56:21.528Z"
   },
   {
    "duration": 14,
    "start_time": "2022-04-14T22:56:27.655Z"
   },
   {
    "duration": 3025,
    "start_time": "2022-04-14T22:56:56.768Z"
   },
   {
    "duration": 4,
    "start_time": "2022-04-14T22:57:37.489Z"
   },
   {
    "duration": 4,
    "start_time": "2022-04-14T22:57:40.752Z"
   },
   {
    "duration": 7,
    "start_time": "2022-04-14T22:57:47.792Z"
   },
   {
    "duration": 4,
    "start_time": "2022-04-14T22:58:24.505Z"
   },
   {
    "duration": 4,
    "start_time": "2022-04-14T22:58:31.153Z"
   },
   {
    "duration": 13,
    "start_time": "2022-04-14T23:04:33.029Z"
   },
   {
    "duration": 21,
    "start_time": "2022-04-14T23:05:00.614Z"
   },
   {
    "duration": 21,
    "start_time": "2022-04-15T03:41:15.707Z"
   },
   {
    "duration": 87,
    "start_time": "2022-04-15T03:41:21.261Z"
   },
   {
    "duration": 19,
    "start_time": "2022-04-15T03:41:21.349Z"
   },
   {
    "duration": 72,
    "start_time": "2022-04-15T03:41:47.460Z"
   },
   {
    "duration": 21,
    "start_time": "2022-04-15T03:41:47.533Z"
   },
   {
    "duration": 17,
    "start_time": "2022-04-15T03:41:47.556Z"
   },
   {
    "duration": 5,
    "start_time": "2022-04-15T03:41:47.575Z"
   },
   {
    "duration": 53,
    "start_time": "2022-04-15T03:41:47.581Z"
   },
   {
    "duration": 4,
    "start_time": "2022-04-15T03:41:47.636Z"
   },
   {
    "duration": 12,
    "start_time": "2022-04-15T03:41:47.642Z"
   },
   {
    "duration": 16,
    "start_time": "2022-04-15T03:41:47.655Z"
   },
   {
    "duration": 58,
    "start_time": "2022-04-15T03:41:47.673Z"
   },
   {
    "duration": 18,
    "start_time": "2022-04-15T03:42:00.040Z"
   },
   {
    "duration": 691,
    "start_time": "2022-04-15T18:10:31.756Z"
   },
   {
    "duration": 29,
    "start_time": "2022-04-15T18:10:32.450Z"
   },
   {
    "duration": 20,
    "start_time": "2022-04-15T18:10:32.482Z"
   },
   {
    "duration": 7,
    "start_time": "2022-04-15T18:10:32.505Z"
   },
   {
    "duration": 78,
    "start_time": "2022-04-15T18:10:32.515Z"
   },
   {
    "duration": 6,
    "start_time": "2022-04-15T18:10:32.595Z"
   },
   {
    "duration": 54,
    "start_time": "2022-04-15T18:10:32.603Z"
   },
   {
    "duration": 29,
    "start_time": "2022-04-15T18:10:32.659Z"
   },
   {
    "duration": 67,
    "start_time": "2022-04-15T18:10:32.691Z"
   },
   {
    "duration": 112,
    "start_time": "2022-04-15T19:47:32.529Z"
   },
   {
    "duration": 13,
    "start_time": "2022-04-15T19:48:01.506Z"
   },
   {
    "duration": 581,
    "start_time": "2022-04-15T19:49:42.472Z"
   },
   {
    "duration": 30,
    "start_time": "2022-04-15T19:49:43.056Z"
   },
   {
    "duration": 24,
    "start_time": "2022-04-15T19:49:43.088Z"
   },
   {
    "duration": 37,
    "start_time": "2022-04-15T19:49:43.116Z"
   },
   {
    "duration": 55,
    "start_time": "2022-04-15T19:49:43.155Z"
   },
   {
    "duration": 38,
    "start_time": "2022-04-15T19:49:43.213Z"
   },
   {
    "duration": 16,
    "start_time": "2022-04-15T19:49:43.255Z"
   },
   {
    "duration": 105,
    "start_time": "2022-04-15T19:49:45.231Z"
   },
   {
    "duration": 17,
    "start_time": "2022-04-15T19:49:55.583Z"
   },
   {
    "duration": 17,
    "start_time": "2022-04-15T19:50:10.295Z"
   },
   {
    "duration": 23,
    "start_time": "2022-04-15T19:50:11.967Z"
   },
   {
    "duration": 15,
    "start_time": "2022-04-15T19:50:39.800Z"
   },
   {
    "duration": 6,
    "start_time": "2022-04-15T19:50:51.527Z"
   },
   {
    "duration": 12,
    "start_time": "2022-04-15T19:50:55.377Z"
   },
   {
    "duration": 8,
    "start_time": "2022-04-15T19:51:08.624Z"
   },
   {
    "duration": 6,
    "start_time": "2022-04-15T19:51:17.048Z"
   },
   {
    "duration": 100,
    "start_time": "2022-04-15T19:53:22.634Z"
   },
   {
    "duration": 12,
    "start_time": "2022-04-15T19:53:35.674Z"
   },
   {
    "duration": 11,
    "start_time": "2022-04-15T19:55:40.667Z"
   },
   {
    "duration": 12,
    "start_time": "2022-04-15T19:55:50.555Z"
   },
   {
    "duration": 147,
    "start_time": "2022-04-15T19:56:32.548Z"
   },
   {
    "duration": 92,
    "start_time": "2022-04-15T20:01:32.785Z"
   },
   {
    "duration": 91,
    "start_time": "2022-04-15T20:01:51.191Z"
   },
   {
    "duration": 13,
    "start_time": "2022-04-15T20:02:37.192Z"
   },
   {
    "duration": 8,
    "start_time": "2022-04-15T20:02:44.881Z"
   },
   {
    "duration": 8,
    "start_time": "2022-04-15T20:02:54.840Z"
   },
   {
    "duration": 10,
    "start_time": "2022-04-15T20:03:07.688Z"
   },
   {
    "duration": 8,
    "start_time": "2022-04-15T20:03:14.136Z"
   },
   {
    "duration": 16,
    "start_time": "2022-04-15T20:03:23.771Z"
   },
   {
    "duration": 36,
    "start_time": "2022-04-15T20:03:39.467Z"
   },
   {
    "duration": 1477,
    "start_time": "2022-04-15T20:04:34.097Z"
   },
   {
    "duration": 89,
    "start_time": "2022-04-15T20:04:45.258Z"
   },
   {
    "duration": 18,
    "start_time": "2022-04-15T20:04:45.352Z"
   },
   {
    "duration": 30,
    "start_time": "2022-04-15T20:04:45.373Z"
   },
   {
    "duration": 9,
    "start_time": "2022-04-15T20:04:45.407Z"
   },
   {
    "duration": 84,
    "start_time": "2022-04-15T20:04:45.419Z"
   },
   {
    "duration": 7,
    "start_time": "2022-04-15T20:04:45.505Z"
   },
   {
    "duration": 38,
    "start_time": "2022-04-15T20:04:45.514Z"
   },
   {
    "duration": 17,
    "start_time": "2022-04-15T20:04:45.554Z"
   },
   {
    "duration": 31,
    "start_time": "2022-04-15T20:04:47.434Z"
   },
   {
    "duration": 1631,
    "start_time": "2022-04-15T20:05:34.090Z"
   },
   {
    "duration": 91,
    "start_time": "2022-04-15T20:05:43.072Z"
   },
   {
    "duration": 20,
    "start_time": "2022-04-15T20:05:43.166Z"
   },
   {
    "duration": 35,
    "start_time": "2022-04-15T20:05:43.188Z"
   },
   {
    "duration": 11,
    "start_time": "2022-04-15T20:05:43.226Z"
   },
   {
    "duration": 67,
    "start_time": "2022-04-15T20:05:43.239Z"
   },
   {
    "duration": 8,
    "start_time": "2022-04-15T20:05:43.309Z"
   },
   {
    "duration": 38,
    "start_time": "2022-04-15T20:05:43.319Z"
   },
   {
    "duration": 21,
    "start_time": "2022-04-15T20:05:43.360Z"
   },
   {
    "duration": 28,
    "start_time": "2022-04-15T20:05:46.035Z"
   },
   {
    "duration": 4431,
    "start_time": "2022-04-15T20:09:32.645Z"
   },
   {
    "duration": 8,
    "start_time": "2022-04-15T21:43:49.053Z"
   },
   {
    "duration": 95,
    "start_time": "2022-04-15T21:45:45.025Z"
   },
   {
    "duration": 32,
    "start_time": "2022-04-15T21:45:45.123Z"
   },
   {
    "duration": 22,
    "start_time": "2022-04-15T21:45:45.158Z"
   },
   {
    "duration": 7,
    "start_time": "2022-04-15T21:45:45.183Z"
   },
   {
    "duration": 78,
    "start_time": "2022-04-15T21:45:45.192Z"
   },
   {
    "duration": 7,
    "start_time": "2022-04-15T21:45:45.272Z"
   },
   {
    "duration": 13,
    "start_time": "2022-04-15T21:45:45.281Z"
   },
   {
    "duration": 20,
    "start_time": "2022-04-15T21:45:45.296Z"
   },
   {
    "duration": 58,
    "start_time": "2022-04-15T21:45:45.319Z"
   },
   {
    "duration": 13,
    "start_time": "2022-04-15T21:47:00.870Z"
   },
   {
    "duration": 13,
    "start_time": "2022-04-15T21:55:05.139Z"
   },
   {
    "duration": 1503,
    "start_time": "2022-04-15T22:06:14.083Z"
   },
   {
    "duration": 90,
    "start_time": "2022-04-15T22:06:22.458Z"
   },
   {
    "duration": 19,
    "start_time": "2022-04-15T22:06:22.551Z"
   },
   {
    "duration": 23,
    "start_time": "2022-04-15T22:06:22.572Z"
   },
   {
    "duration": 7,
    "start_time": "2022-04-15T22:06:22.599Z"
   },
   {
    "duration": 84,
    "start_time": "2022-04-15T22:06:22.609Z"
   },
   {
    "duration": 7,
    "start_time": "2022-04-15T22:06:22.695Z"
   },
   {
    "duration": 47,
    "start_time": "2022-04-15T22:06:22.705Z"
   },
   {
    "duration": 16,
    "start_time": "2022-04-15T22:06:22.754Z"
   },
   {
    "duration": 33,
    "start_time": "2022-04-15T22:06:25.045Z"
   },
   {
    "duration": 30,
    "start_time": "2022-04-15T22:08:08.213Z"
   },
   {
    "duration": 34,
    "start_time": "2022-04-15T23:11:36.689Z"
   },
   {
    "duration": 33,
    "start_time": "2022-04-15T23:12:35.491Z"
   },
   {
    "duration": 33,
    "start_time": "2022-04-15T23:13:09.202Z"
   },
   {
    "duration": 31,
    "start_time": "2022-04-15T23:13:25.314Z"
   },
   {
    "duration": 32,
    "start_time": "2022-04-15T23:13:32.947Z"
   },
   {
    "duration": 21,
    "start_time": "2022-04-15T23:14:09.868Z"
   },
   {
    "duration": 34,
    "start_time": "2022-04-15T23:14:48.924Z"
   },
   {
    "duration": 33,
    "start_time": "2022-04-15T23:20:02.968Z"
   },
   {
    "duration": 34,
    "start_time": "2022-04-15T23:20:33.857Z"
   },
   {
    "duration": 33,
    "start_time": "2022-04-15T23:22:34.458Z"
   },
   {
    "duration": 31,
    "start_time": "2022-04-15T23:23:30.434Z"
   },
   {
    "duration": 6,
    "start_time": "2022-04-15T23:25:11.435Z"
   },
   {
    "duration": 1552,
    "start_time": "2022-04-15T23:29:08.069Z"
   },
   {
    "duration": 86,
    "start_time": "2022-04-15T23:29:20.157Z"
   },
   {
    "duration": 18,
    "start_time": "2022-04-15T23:29:20.251Z"
   },
   {
    "duration": 23,
    "start_time": "2022-04-15T23:29:20.271Z"
   },
   {
    "duration": 8,
    "start_time": "2022-04-15T23:29:20.297Z"
   },
   {
    "duration": 82,
    "start_time": "2022-04-15T23:29:20.308Z"
   },
   {
    "duration": 7,
    "start_time": "2022-04-15T23:29:20.393Z"
   },
   {
    "duration": 10,
    "start_time": "2022-04-15T23:29:20.403Z"
   },
   {
    "duration": 16,
    "start_time": "2022-04-15T23:29:20.453Z"
   },
   {
    "duration": 30,
    "start_time": "2022-04-15T23:29:20.472Z"
   },
   {
    "duration": 50,
    "start_time": "2022-04-15T23:29:20.507Z"
   },
   {
    "duration": 1440,
    "start_time": "2022-04-15T23:29:22.788Z"
   },
   {
    "duration": 1376,
    "start_time": "2022-04-15T23:29:40.245Z"
   },
   {
    "duration": 10,
    "start_time": "2022-04-15T23:30:04.030Z"
   },
   {
    "duration": 7,
    "start_time": "2022-04-15T23:30:13.525Z"
   },
   {
    "duration": 29,
    "start_time": "2022-04-15T23:30:36.197Z"
   },
   {
    "duration": 12,
    "start_time": "2022-04-15T23:30:47.767Z"
   },
   {
    "duration": 26,
    "start_time": "2022-04-15T23:30:54.806Z"
   },
   {
    "duration": 13,
    "start_time": "2022-04-15T23:31:12.382Z"
   },
   {
    "duration": 11,
    "start_time": "2022-04-15T23:31:19.335Z"
   },
   {
    "duration": 7,
    "start_time": "2022-04-15T23:31:43.951Z"
   },
   {
    "duration": 9,
    "start_time": "2022-04-15T23:32:30.999Z"
   },
   {
    "duration": 9,
    "start_time": "2022-04-15T23:32:59.911Z"
   },
   {
    "duration": 9,
    "start_time": "2022-04-15T23:33:08.969Z"
   },
   {
    "duration": 8,
    "start_time": "2022-04-15T23:33:49.536Z"
   },
   {
    "duration": 8,
    "start_time": "2022-04-15T23:34:18.576Z"
   },
   {
    "duration": 13,
    "start_time": "2022-04-15T23:38:19.275Z"
   },
   {
    "duration": 8,
    "start_time": "2022-04-15T23:38:27.146Z"
   },
   {
    "duration": 8,
    "start_time": "2022-04-15T23:38:36.578Z"
   },
   {
    "duration": 8,
    "start_time": "2022-04-15T23:44:24.814Z"
   },
   {
    "duration": 9,
    "start_time": "2022-04-15T23:44:56.062Z"
   },
   {
    "duration": 8,
    "start_time": "2022-04-15T23:45:03.870Z"
   },
   {
    "duration": 7,
    "start_time": "2022-04-15T23:47:55.513Z"
   },
   {
    "duration": 87,
    "start_time": "2022-04-15T23:48:04.473Z"
   },
   {
    "duration": 18,
    "start_time": "2022-04-15T23:48:04.563Z"
   },
   {
    "duration": 25,
    "start_time": "2022-04-15T23:48:04.583Z"
   },
   {
    "duration": 7,
    "start_time": "2022-04-15T23:48:04.611Z"
   },
   {
    "duration": 72,
    "start_time": "2022-04-15T23:48:04.620Z"
   },
   {
    "duration": 7,
    "start_time": "2022-04-15T23:48:07.392Z"
   },
   {
    "duration": 7,
    "start_time": "2022-04-15T23:48:45.074Z"
   },
   {
    "duration": 97,
    "start_time": "2022-04-15T23:49:52.938Z"
   },
   {
    "duration": 101,
    "start_time": "2022-04-15T23:50:08.105Z"
   },
   {
    "duration": 97,
    "start_time": "2022-04-15T23:50:24.722Z"
   },
   {
    "duration": 6,
    "start_time": "2022-04-15T23:51:13.371Z"
   },
   {
    "duration": 6,
    "start_time": "2022-04-15T23:51:21.531Z"
   },
   {
    "duration": 7,
    "start_time": "2022-04-15T23:51:28.498Z"
   },
   {
    "duration": 7,
    "start_time": "2022-04-15T23:51:32.579Z"
   },
   {
    "duration": 5,
    "start_time": "2022-04-15T23:52:50.748Z"
   },
   {
    "duration": 7,
    "start_time": "2022-04-15T23:52:55.052Z"
   },
   {
    "duration": 1426,
    "start_time": "2022-04-15T23:53:32.532Z"
   },
   {
    "duration": 88,
    "start_time": "2022-04-15T23:53:39.459Z"
   },
   {
    "duration": 20,
    "start_time": "2022-04-15T23:53:39.550Z"
   },
   {
    "duration": 31,
    "start_time": "2022-04-15T23:53:39.573Z"
   },
   {
    "duration": 7,
    "start_time": "2022-04-15T23:53:39.608Z"
   },
   {
    "duration": 72,
    "start_time": "2022-04-15T23:53:39.617Z"
   },
   {
    "duration": 11,
    "start_time": "2022-04-15T23:53:39.692Z"
   },
   {
    "duration": 16,
    "start_time": "2022-04-15T23:53:39.705Z"
   },
   {
    "duration": 33,
    "start_time": "2022-04-15T23:53:39.723Z"
   },
   {
    "duration": 32,
    "start_time": "2022-04-15T23:53:39.757Z"
   },
   {
    "duration": 13,
    "start_time": "2022-04-15T23:53:39.792Z"
   },
   {
    "duration": 15,
    "start_time": "2022-04-15T23:53:39.807Z"
   },
   {
    "duration": 35,
    "start_time": "2022-04-16T00:01:14.026Z"
   },
   {
    "duration": 42,
    "start_time": "2022-04-16T00:02:31.603Z"
   },
   {
    "duration": 33,
    "start_time": "2022-04-16T00:03:11.354Z"
   },
   {
    "duration": 34,
    "start_time": "2022-04-16T00:04:24.212Z"
   },
   {
    "duration": 7,
    "start_time": "2022-04-16T00:09:25.870Z"
   },
   {
    "duration": 117,
    "start_time": "2022-04-16T00:12:09.800Z"
   },
   {
    "duration": 91,
    "start_time": "2022-04-16T00:12:25.896Z"
   },
   {
    "duration": 6,
    "start_time": "2022-04-16T00:12:42.128Z"
   },
   {
    "duration": 7,
    "start_time": "2022-04-16T00:12:53.041Z"
   },
   {
    "duration": 7,
    "start_time": "2022-04-16T00:15:58.227Z"
   },
   {
    "duration": 9,
    "start_time": "2022-04-16T00:16:09.851Z"
   },
   {
    "duration": 9,
    "start_time": "2022-04-16T00:16:21.515Z"
   },
   {
    "duration": 10,
    "start_time": "2022-04-16T00:18:49.556Z"
   },
   {
    "duration": 32,
    "start_time": "2022-04-16T00:24:23.290Z"
   },
   {
    "duration": 9,
    "start_time": "2022-04-16T00:24:45.873Z"
   },
   {
    "duration": 8,
    "start_time": "2022-04-16T00:25:04.161Z"
   },
   {
    "duration": 8,
    "start_time": "2022-04-16T00:25:59.497Z"
   },
   {
    "duration": 32,
    "start_time": "2022-04-16T00:28:29.244Z"
   },
   {
    "duration": 11,
    "start_time": "2022-04-16T00:28:50.677Z"
   },
   {
    "duration": 10,
    "start_time": "2022-04-16T00:29:17.468Z"
   },
   {
    "duration": 85,
    "start_time": "2022-04-16T00:29:22.964Z"
   },
   {
    "duration": 19,
    "start_time": "2022-04-16T00:29:23.052Z"
   },
   {
    "duration": 27,
    "start_time": "2022-04-16T00:29:23.073Z"
   },
   {
    "duration": 7,
    "start_time": "2022-04-16T00:29:23.103Z"
   },
   {
    "duration": 74,
    "start_time": "2022-04-16T00:29:23.112Z"
   },
   {
    "duration": 7,
    "start_time": "2022-04-16T00:29:23.189Z"
   },
   {
    "duration": 10,
    "start_time": "2022-04-16T00:29:23.198Z"
   },
   {
    "duration": 49,
    "start_time": "2022-04-16T00:29:23.210Z"
   },
   {
    "duration": 28,
    "start_time": "2022-04-16T00:29:23.261Z"
   },
   {
    "duration": 12,
    "start_time": "2022-04-16T00:29:23.293Z"
   },
   {
    "duration": 66,
    "start_time": "2022-04-16T00:29:23.308Z"
   },
   {
    "duration": 9,
    "start_time": "2022-04-16T00:29:23.377Z"
   },
   {
    "duration": 11,
    "start_time": "2022-04-16T00:29:23.389Z"
   },
   {
    "duration": 7,
    "start_time": "2022-04-16T00:29:26.148Z"
   },
   {
    "duration": 35,
    "start_time": "2022-04-16T00:30:00.653Z"
   },
   {
    "duration": 35,
    "start_time": "2022-04-16T00:31:17.663Z"
   },
   {
    "duration": 8,
    "start_time": "2022-04-16T02:35:26.811Z"
   },
   {
    "duration": 6,
    "start_time": "2022-04-16T02:35:43.266Z"
   },
   {
    "duration": 8,
    "start_time": "2022-04-16T02:36:03.890Z"
   },
   {
    "duration": 29,
    "start_time": "2022-04-16T02:36:13.635Z"
   },
   {
    "duration": 9,
    "start_time": "2022-04-16T02:36:43.251Z"
   },
   {
    "duration": 5,
    "start_time": "2022-04-16T02:37:14.252Z"
   },
   {
    "duration": 29,
    "start_time": "2022-04-16T02:37:25.059Z"
   },
   {
    "duration": 30,
    "start_time": "2022-04-16T02:37:34.076Z"
   },
   {
    "duration": 17,
    "start_time": "2022-04-16T02:37:42.332Z"
   },
   {
    "duration": 20,
    "start_time": "2022-04-16T02:41:01.237Z"
   },
   {
    "duration": 1733,
    "start_time": "2022-04-16T02:51:59.046Z"
   },
   {
    "duration": 16,
    "start_time": "2022-04-16T02:53:08.366Z"
   },
   {
    "duration": 8,
    "start_time": "2022-04-16T02:53:46.583Z"
   },
   {
    "duration": 18,
    "start_time": "2022-04-16T02:53:50.430Z"
   },
   {
    "duration": 95,
    "start_time": "2022-04-16T02:55:34.209Z"
   },
   {
    "duration": 101,
    "start_time": "2022-04-16T02:55:44.936Z"
   },
   {
    "duration": 89,
    "start_time": "2022-04-16T02:55:56.568Z"
   },
   {
    "duration": 127,
    "start_time": "2022-04-16T02:56:44.481Z"
   },
   {
    "duration": 100,
    "start_time": "2022-04-16T02:56:50.720Z"
   },
   {
    "duration": 17,
    "start_time": "2022-04-16T02:58:37.530Z"
   },
   {
    "duration": 21,
    "start_time": "2022-04-16T02:59:06.610Z"
   },
   {
    "duration": 45,
    "start_time": "2022-04-16T03:06:26.039Z"
   },
   {
    "duration": 25,
    "start_time": "2022-04-16T03:07:38.015Z"
   },
   {
    "duration": 23,
    "start_time": "2022-04-16T03:07:47.719Z"
   },
   {
    "duration": 50,
    "start_time": "2022-04-16T03:08:17.432Z"
   },
   {
    "duration": 24,
    "start_time": "2022-04-16T04:03:56.277Z"
   },
   {
    "duration": 22,
    "start_time": "2022-04-16T04:04:03.325Z"
   },
   {
    "duration": 87,
    "start_time": "2022-04-16T04:04:14.805Z"
   },
   {
    "duration": 18,
    "start_time": "2022-04-16T04:04:14.895Z"
   },
   {
    "duration": 38,
    "start_time": "2022-04-16T04:04:14.915Z"
   },
   {
    "duration": 7,
    "start_time": "2022-04-16T04:04:14.956Z"
   },
   {
    "duration": 48,
    "start_time": "2022-04-16T04:04:14.964Z"
   },
   {
    "duration": 6,
    "start_time": "2022-04-16T04:04:15.014Z"
   },
   {
    "duration": 9,
    "start_time": "2022-04-16T04:04:15.053Z"
   },
   {
    "duration": 18,
    "start_time": "2022-04-16T04:04:15.065Z"
   },
   {
    "duration": 30,
    "start_time": "2022-04-16T04:04:15.085Z"
   },
   {
    "duration": 14,
    "start_time": "2022-04-16T04:04:15.154Z"
   },
   {
    "duration": 35,
    "start_time": "2022-04-16T04:04:15.171Z"
   },
   {
    "duration": 45,
    "start_time": "2022-04-16T04:04:15.209Z"
   },
   {
    "duration": 10,
    "start_time": "2022-04-16T04:04:15.257Z"
   },
   {
    "duration": 39,
    "start_time": "2022-04-16T04:04:15.270Z"
   },
   {
    "duration": 18,
    "start_time": "2022-04-16T04:04:15.351Z"
   },
   {
    "duration": 21,
    "start_time": "2022-04-16T04:04:15.371Z"
   },
   {
    "duration": 18,
    "start_time": "2022-04-16T04:04:15.395Z"
   },
   {
    "duration": 20,
    "start_time": "2022-04-16T04:04:15.452Z"
   },
   {
    "duration": 23,
    "start_time": "2022-04-16T04:04:18.156Z"
   },
   {
    "duration": 23,
    "start_time": "2022-04-16T04:04:54.765Z"
   },
   {
    "duration": 25,
    "start_time": "2022-04-16T04:05:42.205Z"
   },
   {
    "duration": 26,
    "start_time": "2022-04-16T04:07:26.993Z"
   },
   {
    "duration": 47,
    "start_time": "2022-04-16T04:07:40.279Z"
   },
   {
    "duration": 23,
    "start_time": "2022-04-16T04:07:52.607Z"
   },
   {
    "duration": 83,
    "start_time": "2022-04-16T04:07:57.287Z"
   },
   {
    "duration": 19,
    "start_time": "2022-04-16T04:07:57.372Z"
   },
   {
    "duration": 34,
    "start_time": "2022-04-16T04:07:57.393Z"
   },
   {
    "duration": 7,
    "start_time": "2022-04-16T04:07:57.429Z"
   },
   {
    "duration": 58,
    "start_time": "2022-04-16T04:07:57.438Z"
   },
   {
    "duration": 6,
    "start_time": "2022-04-16T04:07:57.498Z"
   },
   {
    "duration": 7,
    "start_time": "2022-04-16T04:07:57.506Z"
   },
   {
    "duration": 15,
    "start_time": "2022-04-16T04:07:57.552Z"
   },
   {
    "duration": 27,
    "start_time": "2022-04-16T04:07:57.569Z"
   },
   {
    "duration": 12,
    "start_time": "2022-04-16T04:07:57.600Z"
   },
   {
    "duration": 72,
    "start_time": "2022-04-16T04:07:57.614Z"
   },
   {
    "duration": 10,
    "start_time": "2022-04-16T04:07:57.689Z"
   },
   {
    "duration": 10,
    "start_time": "2022-04-16T04:07:57.701Z"
   },
   {
    "duration": 69,
    "start_time": "2022-04-16T04:07:57.713Z"
   },
   {
    "duration": 17,
    "start_time": "2022-04-16T04:07:57.784Z"
   },
   {
    "duration": 19,
    "start_time": "2022-04-16T04:07:57.803Z"
   },
   {
    "duration": 42,
    "start_time": "2022-04-16T04:07:57.825Z"
   },
   {
    "duration": 19,
    "start_time": "2022-04-16T04:07:57.869Z"
   },
   {
    "duration": 24,
    "start_time": "2022-04-16T04:07:57.890Z"
   },
   {
    "duration": 50,
    "start_time": "2022-04-16T04:08:01.991Z"
   },
   {
    "duration": 7,
    "start_time": "2022-04-16T04:11:07.993Z"
   },
   {
    "duration": 7,
    "start_time": "2022-04-16T04:11:58.898Z"
   },
   {
    "duration": 8,
    "start_time": "2022-04-16T04:12:08.305Z"
   },
   {
    "duration": 7,
    "start_time": "2022-04-16T04:13:10.931Z"
   },
   {
    "duration": 59,
    "start_time": "2022-04-16T04:16:47.581Z"
   },
   {
    "duration": 10,
    "start_time": "2022-04-16T04:17:10.693Z"
   },
   {
    "duration": 11,
    "start_time": "2022-04-16T04:18:00.674Z"
   },
   {
    "duration": 11,
    "start_time": "2022-04-16T04:18:36.118Z"
   },
   {
    "duration": 10,
    "start_time": "2022-04-16T04:19:11.791Z"
   },
   {
    "duration": 16,
    "start_time": "2022-04-16T04:19:34.976Z"
   },
   {
    "duration": 13,
    "start_time": "2022-04-16T04:19:42.134Z"
   },
   {
    "duration": 16,
    "start_time": "2022-04-16T04:19:50.463Z"
   },
   {
    "duration": 19,
    "start_time": "2022-04-16T04:19:54.151Z"
   },
   {
    "duration": 20,
    "start_time": "2022-04-16T04:20:32.287Z"
   },
   {
    "duration": 19,
    "start_time": "2022-04-16T04:20:38.879Z"
   },
   {
    "duration": 18,
    "start_time": "2022-04-16T04:21:59.544Z"
   },
   {
    "duration": 18,
    "start_time": "2022-04-16T04:22:05.264Z"
   },
   {
    "duration": 17,
    "start_time": "2022-04-16T04:22:35.289Z"
   },
   {
    "duration": 17,
    "start_time": "2022-04-16T04:22:48.496Z"
   },
   {
    "duration": 21,
    "start_time": "2022-04-16T04:24:00.978Z"
   },
   {
    "duration": 107,
    "start_time": "2022-04-16T04:24:50.868Z"
   },
   {
    "duration": 24,
    "start_time": "2022-04-16T04:24:56.394Z"
   },
   {
    "duration": 24,
    "start_time": "2022-04-16T04:26:53.731Z"
   },
   {
    "duration": 8,
    "start_time": "2022-04-16T04:30:17.252Z"
   },
   {
    "duration": 9,
    "start_time": "2022-04-16T04:39:11.394Z"
   },
   {
    "duration": 3,
    "start_time": "2022-04-16T04:40:05.972Z"
   },
   {
    "duration": 89,
    "start_time": "2022-04-16T04:41:22.660Z"
   },
   {
    "duration": 12,
    "start_time": "2022-04-16T04:42:04.773Z"
   },
   {
    "duration": 11,
    "start_time": "2022-04-16T04:42:07.788Z"
   },
   {
    "duration": 7,
    "start_time": "2022-04-16T04:42:23.709Z"
   },
   {
    "duration": 7,
    "start_time": "2022-04-16T04:42:36.797Z"
   },
   {
    "duration": 8,
    "start_time": "2022-04-16T04:42:40.397Z"
   },
   {
    "duration": 6,
    "start_time": "2022-04-16T04:42:49.702Z"
   },
   {
    "duration": 10,
    "start_time": "2022-04-16T04:48:49.042Z"
   },
   {
    "duration": 9,
    "start_time": "2022-04-16T04:48:56.410Z"
   },
   {
    "duration": 7,
    "start_time": "2022-04-16T04:50:07.523Z"
   },
   {
    "duration": 17,
    "start_time": "2022-04-16T04:53:45.365Z"
   },
   {
    "duration": 9,
    "start_time": "2022-04-16T05:03:00.428Z"
   },
   {
    "duration": 10,
    "start_time": "2022-04-16T05:03:57.214Z"
   },
   {
    "duration": 10,
    "start_time": "2022-04-16T05:05:02.133Z"
   },
   {
    "duration": 8,
    "start_time": "2022-04-16T05:16:47.950Z"
   },
   {
    "duration": 8,
    "start_time": "2022-04-16T05:16:57.734Z"
   },
   {
    "duration": 85,
    "start_time": "2022-04-16T08:00:02.190Z"
   },
   {
    "duration": 506,
    "start_time": "2022-04-16T08:00:12.130Z"
   },
   {
    "duration": 20,
    "start_time": "2022-04-16T08:00:12.638Z"
   },
   {
    "duration": 15,
    "start_time": "2022-04-16T08:00:12.660Z"
   },
   {
    "duration": 25,
    "start_time": "2022-04-16T08:00:12.677Z"
   },
   {
    "duration": 48,
    "start_time": "2022-04-16T08:00:12.710Z"
   },
   {
    "duration": 5,
    "start_time": "2022-04-16T08:00:12.760Z"
   },
   {
    "duration": 12,
    "start_time": "2022-04-16T08:00:12.766Z"
   },
   {
    "duration": 38,
    "start_time": "2022-04-16T08:00:12.779Z"
   },
   {
    "duration": 23,
    "start_time": "2022-04-16T08:00:12.819Z"
   },
   {
    "duration": 12,
    "start_time": "2022-04-16T08:00:12.844Z"
   },
   {
    "duration": 52,
    "start_time": "2022-04-16T08:00:12.858Z"
   },
   {
    "duration": 24,
    "start_time": "2022-04-16T08:00:12.912Z"
   },
   {
    "duration": 10,
    "start_time": "2022-04-16T08:00:12.938Z"
   },
   {
    "duration": 27,
    "start_time": "2022-04-16T08:00:12.952Z"
   },
   {
    "duration": 35,
    "start_time": "2022-04-16T08:00:12.981Z"
   },
   {
    "duration": 18,
    "start_time": "2022-04-16T08:00:13.018Z"
   },
   {
    "duration": 14,
    "start_time": "2022-04-16T08:00:13.037Z"
   },
   {
    "duration": 14,
    "start_time": "2022-04-16T08:00:13.053Z"
   },
   {
    "duration": 52,
    "start_time": "2022-04-16T08:00:13.069Z"
   },
   {
    "duration": 38,
    "start_time": "2022-04-16T08:00:13.123Z"
   },
   {
    "duration": 6,
    "start_time": "2022-04-16T08:00:13.163Z"
   },
   {
    "duration": 54,
    "start_time": "2022-04-16T08:00:13.171Z"
   },
   {
    "duration": 12,
    "start_time": "2022-04-16T08:00:13.228Z"
   },
   {
    "duration": 7,
    "start_time": "2022-04-16T08:00:13.243Z"
   },
   {
    "duration": 20,
    "start_time": "2022-04-16T08:00:13.252Z"
   },
   {
    "duration": 11,
    "start_time": "2022-04-16T08:00:13.297Z"
   },
   {
    "duration": 25,
    "start_time": "2022-04-16T08:00:13.310Z"
   },
   {
    "duration": 9,
    "start_time": "2022-04-16T08:00:15.954Z"
   },
   {
    "duration": 542,
    "start_time": "2022-04-17T11:36:55.707Z"
   },
   {
    "duration": 21,
    "start_time": "2022-04-17T11:36:56.251Z"
   },
   {
    "duration": 16,
    "start_time": "2022-04-17T11:36:56.273Z"
   },
   {
    "duration": 7,
    "start_time": "2022-04-17T11:36:56.291Z"
   },
   {
    "duration": 56,
    "start_time": "2022-04-17T11:36:56.300Z"
   },
   {
    "duration": 5,
    "start_time": "2022-04-17T11:36:56.358Z"
   },
   {
    "duration": 10,
    "start_time": "2022-04-17T11:36:56.364Z"
   },
   {
    "duration": 12,
    "start_time": "2022-04-17T11:36:56.376Z"
   },
   {
    "duration": 54,
    "start_time": "2022-04-17T11:36:56.390Z"
   },
   {
    "duration": 11,
    "start_time": "2022-04-17T11:36:56.447Z"
   },
   {
    "duration": 30,
    "start_time": "2022-04-17T11:36:56.459Z"
   },
   {
    "duration": 6,
    "start_time": "2022-04-17T11:36:56.491Z"
   },
   {
    "duration": 38,
    "start_time": "2022-04-17T11:36:56.498Z"
   },
   {
    "duration": 28,
    "start_time": "2022-04-17T11:36:56.538Z"
   },
   {
    "duration": 14,
    "start_time": "2022-04-17T11:36:56.568Z"
   },
   {
    "duration": 16,
    "start_time": "2022-04-17T11:36:56.583Z"
   },
   {
    "duration": 14,
    "start_time": "2022-04-17T11:36:56.634Z"
   },
   {
    "duration": 16,
    "start_time": "2022-04-17T11:36:56.649Z"
   },
   {
    "duration": 18,
    "start_time": "2022-04-17T11:36:56.666Z"
   },
   {
    "duration": 63,
    "start_time": "2022-04-17T11:36:56.686Z"
   },
   {
    "duration": 6,
    "start_time": "2022-04-17T11:36:56.750Z"
   },
   {
    "duration": 21,
    "start_time": "2022-04-17T11:36:56.757Z"
   },
   {
    "duration": 6,
    "start_time": "2022-04-17T11:36:56.780Z"
   },
   {
    "duration": 6,
    "start_time": "2022-04-17T11:36:56.787Z"
   },
   {
    "duration": 47,
    "start_time": "2022-04-17T11:36:56.794Z"
   },
   {
    "duration": 6,
    "start_time": "2022-04-17T11:36:56.843Z"
   },
   {
    "duration": 8,
    "start_time": "2022-04-17T11:36:56.850Z"
   },
   {
    "duration": 8,
    "start_time": "2022-04-17T11:36:56.861Z"
   },
   {
    "duration": 473,
    "start_time": "2022-04-17T11:47:42.369Z"
   },
   {
    "duration": 22,
    "start_time": "2022-04-17T11:47:42.845Z"
   },
   {
    "duration": 16,
    "start_time": "2022-04-17T11:47:42.869Z"
   },
   {
    "duration": 8,
    "start_time": "2022-04-17T11:47:42.887Z"
   },
   {
    "duration": 63,
    "start_time": "2022-04-17T11:47:42.897Z"
   },
   {
    "duration": 5,
    "start_time": "2022-04-17T11:47:42.963Z"
   },
   {
    "duration": 10,
    "start_time": "2022-04-17T11:47:42.970Z"
   },
   {
    "duration": 13,
    "start_time": "2022-04-17T11:47:42.982Z"
   },
   {
    "duration": 52,
    "start_time": "2022-04-17T11:47:42.997Z"
   },
   {
    "duration": 10,
    "start_time": "2022-04-17T11:47:43.052Z"
   },
   {
    "duration": 24,
    "start_time": "2022-04-17T11:47:43.064Z"
   },
   {
    "duration": 5,
    "start_time": "2022-04-17T11:47:43.090Z"
   },
   {
    "duration": 41,
    "start_time": "2022-04-17T11:47:43.096Z"
   },
   {
    "duration": 28,
    "start_time": "2022-04-17T11:47:43.138Z"
   },
   {
    "duration": 15,
    "start_time": "2022-04-17T11:47:43.167Z"
   },
   {
    "duration": 16,
    "start_time": "2022-04-17T11:47:43.183Z"
   },
   {
    "duration": 48,
    "start_time": "2022-04-17T11:47:43.201Z"
   },
   {
    "duration": 33,
    "start_time": "2022-04-17T11:47:43.251Z"
   },
   {
    "duration": 12,
    "start_time": "2022-04-17T11:47:43.286Z"
   },
   {
    "duration": 41,
    "start_time": "2022-04-17T11:47:43.300Z"
   },
   {
    "duration": 5,
    "start_time": "2022-04-17T11:47:43.342Z"
   },
   {
    "duration": 19,
    "start_time": "2022-04-17T11:47:43.349Z"
   },
   {
    "duration": 6,
    "start_time": "2022-04-17T11:47:43.370Z"
   },
   {
    "duration": 6,
    "start_time": "2022-04-17T11:47:43.378Z"
   },
   {
    "duration": 47,
    "start_time": "2022-04-17T11:47:43.386Z"
   },
   {
    "duration": 8,
    "start_time": "2022-04-17T11:47:43.435Z"
   },
   {
    "duration": 8,
    "start_time": "2022-04-17T11:47:43.444Z"
   },
   {
    "duration": 8,
    "start_time": "2022-04-17T11:47:43.455Z"
   },
   {
    "duration": 16,
    "start_time": "2022-04-17T11:49:45.302Z"
   },
   {
    "duration": 6,
    "start_time": "2022-04-17T11:50:52.742Z"
   },
   {
    "duration": 2903,
    "start_time": "2022-04-17T12:30:00.623Z"
   },
   {
    "duration": 170,
    "start_time": "2022-04-17T12:30:20.403Z"
   },
   {
    "duration": 2583,
    "start_time": "2022-04-17T12:30:24.076Z"
   },
   {
    "duration": 4,
    "start_time": "2022-04-17T12:31:02.861Z"
   },
   {
    "duration": 11,
    "start_time": "2022-04-17T12:31:09.543Z"
   },
   {
    "duration": 11,
    "start_time": "2022-04-17T12:31:40.304Z"
   },
   {
    "duration": 12,
    "start_time": "2022-04-17T12:31:56.742Z"
   },
   {
    "duration": 17,
    "start_time": "2022-04-17T12:37:03.741Z"
   },
   {
    "duration": 17,
    "start_time": "2022-04-17T12:37:16.309Z"
   },
   {
    "duration": 16,
    "start_time": "2022-04-17T12:37:25.259Z"
   },
   {
    "duration": 23,
    "start_time": "2022-04-17T12:37:46.897Z"
   },
   {
    "duration": 19,
    "start_time": "2022-04-17T12:37:52.550Z"
   },
   {
    "duration": 23,
    "start_time": "2022-04-17T12:41:58.276Z"
   },
   {
    "duration": 11,
    "start_time": "2022-04-17T12:42:07.222Z"
   },
   {
    "duration": 12,
    "start_time": "2022-04-17T12:42:47.406Z"
   },
   {
    "duration": 12,
    "start_time": "2022-04-17T12:43:07.917Z"
   },
   {
    "duration": 12,
    "start_time": "2022-04-17T12:44:55.108Z"
   },
   {
    "duration": 11,
    "start_time": "2022-04-17T12:45:09.560Z"
   },
   {
    "duration": 12,
    "start_time": "2022-04-17T12:45:49.338Z"
   },
   {
    "duration": 11,
    "start_time": "2022-04-17T12:45:59.519Z"
   },
   {
    "duration": 80,
    "start_time": "2022-04-17T12:46:25.917Z"
   },
   {
    "duration": 35,
    "start_time": "2022-04-17T12:46:25.999Z"
   },
   {
    "duration": 16,
    "start_time": "2022-04-17T12:46:26.036Z"
   },
   {
    "duration": 7,
    "start_time": "2022-04-17T12:46:26.054Z"
   },
   {
    "duration": 70,
    "start_time": "2022-04-17T12:46:26.063Z"
   },
   {
    "duration": 6,
    "start_time": "2022-04-17T12:46:26.135Z"
   },
   {
    "duration": 9,
    "start_time": "2022-04-17T12:46:26.143Z"
   },
   {
    "duration": 13,
    "start_time": "2022-04-17T12:46:26.154Z"
   },
   {
    "duration": 21,
    "start_time": "2022-04-17T12:46:26.169Z"
   },
   {
    "duration": 11,
    "start_time": "2022-04-17T12:46:26.233Z"
   },
   {
    "duration": 28,
    "start_time": "2022-04-17T12:46:26.246Z"
   },
   {
    "duration": 4,
    "start_time": "2022-04-17T12:46:26.276Z"
   },
   {
    "duration": 9,
    "start_time": "2022-04-17T12:46:26.282Z"
   },
   {
    "duration": 57,
    "start_time": "2022-04-17T12:46:26.293Z"
   },
   {
    "duration": 14,
    "start_time": "2022-04-17T12:46:26.352Z"
   },
   {
    "duration": 16,
    "start_time": "2022-04-17T12:46:26.367Z"
   },
   {
    "duration": 19,
    "start_time": "2022-04-17T12:46:26.385Z"
   },
   {
    "duration": 36,
    "start_time": "2022-04-17T12:46:26.434Z"
   },
   {
    "duration": 14,
    "start_time": "2022-04-17T12:46:26.472Z"
   },
   {
    "duration": 15,
    "start_time": "2022-04-17T12:46:26.487Z"
   },
   {
    "duration": 33,
    "start_time": "2022-04-17T12:46:26.504Z"
   },
   {
    "duration": 22,
    "start_time": "2022-04-17T12:46:26.539Z"
   },
   {
    "duration": 7,
    "start_time": "2022-04-17T12:46:26.563Z"
   },
   {
    "duration": 5,
    "start_time": "2022-04-17T12:46:26.572Z"
   },
   {
    "duration": 15,
    "start_time": "2022-04-17T12:46:26.579Z"
   },
   {
    "duration": 42,
    "start_time": "2022-04-17T12:46:26.596Z"
   },
   {
    "duration": 8,
    "start_time": "2022-04-17T12:46:26.640Z"
   },
   {
    "duration": 8,
    "start_time": "2022-04-17T12:46:26.651Z"
   },
   {
    "duration": 36,
    "start_time": "2022-04-17T12:46:27.673Z"
   },
   {
    "duration": 11,
    "start_time": "2022-04-17T12:47:08.395Z"
   },
   {
    "duration": 83,
    "start_time": "2022-04-17T12:47:20.150Z"
   },
   {
    "duration": 14,
    "start_time": "2022-04-17T12:47:20.235Z"
   },
   {
    "duration": 21,
    "start_time": "2022-04-17T12:47:20.250Z"
   },
   {
    "duration": 5,
    "start_time": "2022-04-17T12:47:20.274Z"
   },
   {
    "duration": 56,
    "start_time": "2022-04-17T12:47:20.281Z"
   },
   {
    "duration": 5,
    "start_time": "2022-04-17T12:47:20.339Z"
   },
   {
    "duration": 12,
    "start_time": "2022-04-17T12:47:20.346Z"
   },
   {
    "duration": 12,
    "start_time": "2022-04-17T12:47:20.360Z"
   },
   {
    "duration": 20,
    "start_time": "2022-04-17T12:47:20.374Z"
   },
   {
    "duration": 45,
    "start_time": "2022-04-17T12:47:20.397Z"
   },
   {
    "duration": 28,
    "start_time": "2022-04-17T12:47:20.443Z"
   },
   {
    "duration": 5,
    "start_time": "2022-04-17T12:47:20.473Z"
   },
   {
    "duration": 10,
    "start_time": "2022-04-17T12:47:20.480Z"
   },
   {
    "duration": 62,
    "start_time": "2022-04-17T12:47:20.493Z"
   },
   {
    "duration": 16,
    "start_time": "2022-04-17T12:47:20.557Z"
   },
   {
    "duration": 17,
    "start_time": "2022-04-17T12:47:20.575Z"
   },
   {
    "duration": 52,
    "start_time": "2022-04-17T12:47:20.594Z"
   },
   {
    "duration": 34,
    "start_time": "2022-04-17T12:47:20.648Z"
   },
   {
    "duration": 13,
    "start_time": "2022-04-17T12:47:20.684Z"
   },
   {
    "duration": 41,
    "start_time": "2022-04-17T12:47:20.698Z"
   },
   {
    "duration": 6,
    "start_time": "2022-04-17T12:47:20.741Z"
   },
   {
    "duration": 23,
    "start_time": "2022-04-17T12:47:20.749Z"
   },
   {
    "duration": 9,
    "start_time": "2022-04-17T12:47:20.774Z"
   },
   {
    "duration": 8,
    "start_time": "2022-04-17T12:47:20.785Z"
   },
   {
    "duration": 43,
    "start_time": "2022-04-17T12:47:20.795Z"
   },
   {
    "duration": 9,
    "start_time": "2022-04-17T12:47:20.840Z"
   },
   {
    "duration": 13,
    "start_time": "2022-04-17T12:47:20.851Z"
   },
   {
    "duration": 10,
    "start_time": "2022-04-17T12:47:20.867Z"
   },
   {
    "duration": 33,
    "start_time": "2022-04-17T12:47:21.888Z"
   },
   {
    "duration": 13,
    "start_time": "2022-04-17T12:50:28.912Z"
   },
   {
    "duration": 77,
    "start_time": "2022-04-17T12:50:33.805Z"
   },
   {
    "duration": 19,
    "start_time": "2022-04-17T12:50:33.884Z"
   },
   {
    "duration": 38,
    "start_time": "2022-04-17T12:50:33.904Z"
   },
   {
    "duration": 6,
    "start_time": "2022-04-17T12:50:33.945Z"
   },
   {
    "duration": 46,
    "start_time": "2022-04-17T12:50:33.953Z"
   },
   {
    "duration": 33,
    "start_time": "2022-04-17T12:50:34.002Z"
   },
   {
    "duration": 8,
    "start_time": "2022-04-17T12:50:34.037Z"
   },
   {
    "duration": 29,
    "start_time": "2022-04-17T12:50:34.048Z"
   },
   {
    "duration": 40,
    "start_time": "2022-04-17T12:50:34.079Z"
   },
   {
    "duration": 35,
    "start_time": "2022-04-17T12:50:34.122Z"
   },
   {
    "duration": 34,
    "start_time": "2022-04-17T12:50:34.162Z"
   },
   {
    "duration": 6,
    "start_time": "2022-04-17T12:50:34.198Z"
   },
   {
    "duration": 43,
    "start_time": "2022-04-17T12:50:34.205Z"
   },
   {
    "duration": 42,
    "start_time": "2022-04-17T12:50:34.250Z"
   },
   {
    "duration": 14,
    "start_time": "2022-04-17T12:50:34.294Z"
   },
   {
    "duration": 36,
    "start_time": "2022-04-17T12:50:34.310Z"
   },
   {
    "duration": 27,
    "start_time": "2022-04-17T12:50:34.349Z"
   },
   {
    "duration": 61,
    "start_time": "2022-04-17T12:50:34.379Z"
   },
   {
    "duration": 18,
    "start_time": "2022-04-17T12:50:34.443Z"
   },
   {
    "duration": 22,
    "start_time": "2022-04-17T12:50:34.464Z"
   },
   {
    "duration": 6,
    "start_time": "2022-04-17T12:50:34.489Z"
   },
   {
    "duration": 68,
    "start_time": "2022-04-17T12:50:34.499Z"
   },
   {
    "duration": 24,
    "start_time": "2022-04-17T12:50:34.569Z"
   },
   {
    "duration": 17,
    "start_time": "2022-04-17T12:50:34.595Z"
   },
   {
    "duration": 26,
    "start_time": "2022-04-17T12:50:34.614Z"
   },
   {
    "duration": 16,
    "start_time": "2022-04-17T12:50:34.643Z"
   },
   {
    "duration": 9,
    "start_time": "2022-04-17T12:50:34.662Z"
   },
   {
    "duration": 7,
    "start_time": "2022-04-17T12:50:34.675Z"
   },
   {
    "duration": 36,
    "start_time": "2022-04-17T12:50:35.354Z"
   },
   {
    "duration": 14,
    "start_time": "2022-04-17T12:51:52.014Z"
   },
   {
    "duration": 84,
    "start_time": "2022-04-17T12:51:59.867Z"
   },
   {
    "duration": 13,
    "start_time": "2022-04-17T12:51:59.953Z"
   },
   {
    "duration": 17,
    "start_time": "2022-04-17T12:51:59.968Z"
   },
   {
    "duration": 5,
    "start_time": "2022-04-17T12:51:59.987Z"
   },
   {
    "duration": 102,
    "start_time": "2022-04-17T12:51:59.994Z"
   },
   {
    "duration": 6,
    "start_time": "2022-04-17T12:52:00.098Z"
   },
   {
    "duration": 27,
    "start_time": "2022-04-17T12:52:00.106Z"
   },
   {
    "duration": 14,
    "start_time": "2022-04-17T12:52:00.135Z"
   },
   {
    "duration": 36,
    "start_time": "2022-04-17T12:52:00.151Z"
   },
   {
    "duration": 11,
    "start_time": "2022-04-17T12:52:00.190Z"
   },
   {
    "duration": 45,
    "start_time": "2022-04-17T12:52:00.202Z"
   },
   {
    "duration": 15,
    "start_time": "2022-04-17T12:52:00.248Z"
   },
   {
    "duration": 31,
    "start_time": "2022-04-17T12:52:00.265Z"
   },
   {
    "duration": 46,
    "start_time": "2022-04-17T12:52:00.298Z"
   },
   {
    "duration": 14,
    "start_time": "2022-04-17T12:52:00.345Z"
   },
   {
    "duration": 18,
    "start_time": "2022-04-17T12:52:00.361Z"
   },
   {
    "duration": 38,
    "start_time": "2022-04-17T12:52:00.381Z"
   },
   {
    "duration": 44,
    "start_time": "2022-04-17T12:52:00.420Z"
   },
   {
    "duration": 14,
    "start_time": "2022-04-17T12:52:00.466Z"
   },
   {
    "duration": 30,
    "start_time": "2022-04-17T12:52:00.482Z"
   },
   {
    "duration": 7,
    "start_time": "2022-04-17T12:52:00.514Z"
   },
   {
    "duration": 49,
    "start_time": "2022-04-17T12:52:00.523Z"
   },
   {
    "duration": 11,
    "start_time": "2022-04-17T12:52:00.573Z"
   },
   {
    "duration": 30,
    "start_time": "2022-04-17T12:52:00.585Z"
   },
   {
    "duration": 17,
    "start_time": "2022-04-17T12:52:00.616Z"
   },
   {
    "duration": 18,
    "start_time": "2022-04-17T12:52:00.634Z"
   },
   {
    "duration": 22,
    "start_time": "2022-04-17T12:52:00.654Z"
   },
   {
    "duration": 35,
    "start_time": "2022-04-17T12:52:00.680Z"
   },
   {
    "duration": 38,
    "start_time": "2022-04-17T12:52:01.847Z"
   },
   {
    "duration": 1166,
    "start_time": "2022-04-17T13:10:58.121Z"
   },
   {
    "duration": 165,
    "start_time": "2022-04-17T13:11:47.224Z"
   },
   {
    "duration": 166,
    "start_time": "2022-04-17T13:11:59.830Z"
   },
   {
    "duration": 167,
    "start_time": "2022-04-17T13:14:35.118Z"
   },
   {
    "duration": 3,
    "start_time": "2022-04-17T13:15:30.226Z"
   },
   {
    "duration": 175,
    "start_time": "2022-04-17T13:15:55.365Z"
   },
   {
    "duration": 4,
    "start_time": "2022-04-17T13:16:02.174Z"
   },
   {
    "duration": 4,
    "start_time": "2022-04-17T13:16:06.964Z"
   },
   {
    "duration": 4,
    "start_time": "2022-04-17T13:16:34.218Z"
   },
   {
    "duration": 3,
    "start_time": "2022-04-17T13:16:55.785Z"
   },
   {
    "duration": 4,
    "start_time": "2022-04-17T13:17:01.122Z"
   },
   {
    "duration": 4,
    "start_time": "2022-04-17T13:19:03.818Z"
   },
   {
    "duration": 4,
    "start_time": "2022-04-17T13:20:56.642Z"
   },
   {
    "duration": 2654,
    "start_time": "2022-04-17T13:22:17.080Z"
   },
   {
    "duration": 5,
    "start_time": "2022-04-17T13:22:48.309Z"
   },
   {
    "duration": 5,
    "start_time": "2022-04-17T13:22:55.033Z"
   },
   {
    "duration": 5,
    "start_time": "2022-04-17T13:23:24.730Z"
   },
   {
    "duration": 7,
    "start_time": "2022-04-17T13:25:28.008Z"
   },
   {
    "duration": 7,
    "start_time": "2022-04-17T13:26:13.696Z"
   },
   {
    "duration": 171,
    "start_time": "2022-04-17T13:30:27.757Z"
   },
   {
    "duration": 164,
    "start_time": "2022-04-17T13:30:46.479Z"
   },
   {
    "duration": 6,
    "start_time": "2022-04-17T13:30:52.180Z"
   },
   {
    "duration": 6,
    "start_time": "2022-04-17T13:31:34.450Z"
   },
   {
    "duration": 8,
    "start_time": "2022-04-17T13:32:57.489Z"
   },
   {
    "duration": 4,
    "start_time": "2022-04-17T13:33:07.908Z"
   },
   {
    "duration": 5,
    "start_time": "2022-04-17T13:33:27.239Z"
   },
   {
    "duration": 9,
    "start_time": "2022-04-17T13:33:31.969Z"
   },
   {
    "duration": 9,
    "start_time": "2022-04-17T13:35:44.868Z"
   },
   {
    "duration": 8,
    "start_time": "2022-04-17T13:37:01.121Z"
   },
   {
    "duration": 46160,
    "start_time": "2022-04-17T13:37:12.504Z"
   },
   {
    "duration": 7,
    "start_time": "2022-04-17T13:38:20.859Z"
   },
   {
    "duration": 7,
    "start_time": "2022-04-17T13:38:25.677Z"
   },
   {
    "duration": 6,
    "start_time": "2022-04-17T13:38:39.648Z"
   },
   {
    "duration": 7,
    "start_time": "2022-04-17T13:39:28.457Z"
   },
   {
    "duration": 8,
    "start_time": "2022-04-17T13:40:01.410Z"
   },
   {
    "duration": 261,
    "start_time": "2022-04-17T13:40:42.663Z"
   },
   {
    "duration": 177,
    "start_time": "2022-04-17T13:40:47.667Z"
   },
   {
    "duration": 197,
    "start_time": "2022-04-17T13:40:55.163Z"
   },
   {
    "duration": 4,
    "start_time": "2022-04-17T13:41:15.273Z"
   },
   {
    "duration": 4,
    "start_time": "2022-04-17T13:41:22.913Z"
   },
   {
    "duration": 4,
    "start_time": "2022-04-17T13:41:26.778Z"
   },
   {
    "duration": 4,
    "start_time": "2022-04-17T13:41:34.882Z"
   },
   {
    "duration": 168,
    "start_time": "2022-04-17T13:41:42.352Z"
   },
   {
    "duration": 9,
    "start_time": "2022-04-17T13:41:48.372Z"
   },
   {
    "duration": 8,
    "start_time": "2022-04-17T13:42:02.394Z"
   },
   {
    "duration": 168,
    "start_time": "2022-04-17T13:45:05.134Z"
   },
   {
    "duration": 11,
    "start_time": "2022-04-17T13:45:09.548Z"
   },
   {
    "duration": 660,
    "start_time": "2022-04-17T13:45:27.199Z"
   },
   {
    "duration": 702,
    "start_time": "2022-04-17T13:45:40.779Z"
   },
   {
    "duration": 72,
    "start_time": "2022-04-17T13:45:51.780Z"
   },
   {
    "duration": 15,
    "start_time": "2022-04-17T13:45:51.854Z"
   },
   {
    "duration": 19,
    "start_time": "2022-04-17T13:45:51.870Z"
   },
   {
    "duration": 5,
    "start_time": "2022-04-17T13:45:51.892Z"
   },
   {
    "duration": 65,
    "start_time": "2022-04-17T13:45:51.898Z"
   },
   {
    "duration": 5,
    "start_time": "2022-04-17T13:45:51.965Z"
   },
   {
    "duration": 10,
    "start_time": "2022-04-17T13:45:51.971Z"
   },
   {
    "duration": 16,
    "start_time": "2022-04-17T13:45:51.983Z"
   },
   {
    "duration": 46,
    "start_time": "2022-04-17T13:45:52.000Z"
   },
   {
    "duration": 11,
    "start_time": "2022-04-17T13:45:52.048Z"
   },
   {
    "duration": 25,
    "start_time": "2022-04-17T13:45:52.060Z"
   },
   {
    "duration": 5,
    "start_time": "2022-04-17T13:45:52.087Z"
   },
   {
    "duration": 9,
    "start_time": "2022-04-17T13:45:52.093Z"
   },
   {
    "duration": 58,
    "start_time": "2022-04-17T13:45:52.103Z"
   },
   {
    "duration": 13,
    "start_time": "2022-04-17T13:45:52.163Z"
   },
   {
    "duration": 16,
    "start_time": "2022-04-17T13:45:52.178Z"
   },
   {
    "duration": 48,
    "start_time": "2022-04-17T13:45:52.196Z"
   },
   {
    "duration": 37,
    "start_time": "2022-04-17T13:45:52.246Z"
   },
   {
    "duration": 14,
    "start_time": "2022-04-17T13:45:52.285Z"
   },
   {
    "duration": 42,
    "start_time": "2022-04-17T13:45:52.301Z"
   },
   {
    "duration": 6,
    "start_time": "2022-04-17T13:45:52.346Z"
   },
   {
    "duration": 27,
    "start_time": "2022-04-17T13:45:52.354Z"
   },
   {
    "duration": 8,
    "start_time": "2022-04-17T13:45:52.383Z"
   },
   {
    "duration": 42,
    "start_time": "2022-04-17T13:45:52.393Z"
   },
   {
    "duration": 14,
    "start_time": "2022-04-17T13:45:52.437Z"
   },
   {
    "duration": 7,
    "start_time": "2022-04-17T13:45:52.453Z"
   },
   {
    "duration": 8,
    "start_time": "2022-04-17T13:45:52.462Z"
   },
   {
    "duration": 7,
    "start_time": "2022-04-17T13:45:52.474Z"
   },
   {
    "duration": 67,
    "start_time": "2022-04-17T13:45:52.483Z"
   },
   {
    "duration": 6,
    "start_time": "2022-04-17T13:45:52.552Z"
   },
   {
    "duration": 9,
    "start_time": "2022-04-17T13:45:52.560Z"
   },
   {
    "duration": 688,
    "start_time": "2022-04-17T13:45:55.036Z"
   },
   {
    "duration": 11,
    "start_time": "2022-04-17T13:46:27.312Z"
   },
   {
    "duration": 79,
    "start_time": "2022-04-17T13:46:32.494Z"
   },
   {
    "duration": 14,
    "start_time": "2022-04-17T13:46:32.575Z"
   },
   {
    "duration": 19,
    "start_time": "2022-04-17T13:46:32.591Z"
   },
   {
    "duration": 6,
    "start_time": "2022-04-17T13:46:32.633Z"
   },
   {
    "duration": 39,
    "start_time": "2022-04-17T13:46:32.640Z"
   },
   {
    "duration": 4,
    "start_time": "2022-04-17T13:46:32.681Z"
   },
   {
    "duration": 8,
    "start_time": "2022-04-17T13:46:32.687Z"
   },
   {
    "duration": 41,
    "start_time": "2022-04-17T13:46:32.697Z"
   },
   {
    "duration": 20,
    "start_time": "2022-04-17T13:46:32.740Z"
   },
   {
    "duration": 11,
    "start_time": "2022-04-17T13:46:32.763Z"
   },
   {
    "duration": 25,
    "start_time": "2022-04-17T13:46:32.775Z"
   },
   {
    "duration": 5,
    "start_time": "2022-04-17T13:46:32.834Z"
   },
   {
    "duration": 9,
    "start_time": "2022-04-17T13:46:32.841Z"
   },
   {
    "duration": 32,
    "start_time": "2022-04-17T13:46:32.852Z"
   },
   {
    "duration": 16,
    "start_time": "2022-04-17T13:46:32.885Z"
   },
   {
    "duration": 46,
    "start_time": "2022-04-17T13:46:32.902Z"
   },
   {
    "duration": 20,
    "start_time": "2022-04-17T13:46:32.950Z"
   },
   {
    "duration": 35,
    "start_time": "2022-04-17T13:46:32.972Z"
   },
   {
    "duration": 14,
    "start_time": "2022-04-17T13:46:33.033Z"
   },
   {
    "duration": 19,
    "start_time": "2022-04-17T13:46:33.049Z"
   },
   {
    "duration": 8,
    "start_time": "2022-04-17T13:46:33.070Z"
   },
   {
    "duration": 22,
    "start_time": "2022-04-17T13:46:33.080Z"
   },
   {
    "duration": 34,
    "start_time": "2022-04-17T13:46:33.104Z"
   },
   {
    "duration": 20,
    "start_time": "2022-04-17T13:46:33.140Z"
   },
   {
    "duration": 21,
    "start_time": "2022-04-17T13:46:33.161Z"
   },
   {
    "duration": 9,
    "start_time": "2022-04-17T13:46:33.184Z"
   },
   {
    "duration": 7,
    "start_time": "2022-04-17T13:46:33.195Z"
   },
   {
    "duration": 7,
    "start_time": "2022-04-17T13:46:33.205Z"
   },
   {
    "duration": 49,
    "start_time": "2022-04-17T13:46:33.213Z"
   },
   {
    "duration": 7,
    "start_time": "2022-04-17T13:46:33.263Z"
   },
   {
    "duration": 10,
    "start_time": "2022-04-17T13:46:33.272Z"
   },
   {
    "duration": 11,
    "start_time": "2022-04-17T13:46:35.624Z"
   },
   {
    "duration": 19,
    "start_time": "2022-04-17T13:46:42.577Z"
   },
   {
    "duration": 21,
    "start_time": "2022-04-17T13:47:27.054Z"
   },
   {
    "duration": 74,
    "start_time": "2022-04-17T13:47:58.834Z"
   },
   {
    "duration": 27,
    "start_time": "2022-04-17T13:47:58.910Z"
   },
   {
    "duration": 22,
    "start_time": "2022-04-17T13:47:58.939Z"
   },
   {
    "duration": 6,
    "start_time": "2022-04-17T13:47:58.963Z"
   },
   {
    "duration": 65,
    "start_time": "2022-04-17T13:47:58.970Z"
   },
   {
    "duration": 5,
    "start_time": "2022-04-17T13:47:59.037Z"
   },
   {
    "duration": 9,
    "start_time": "2022-04-17T13:47:59.044Z"
   },
   {
    "duration": 12,
    "start_time": "2022-04-17T13:47:59.055Z"
   },
   {
    "duration": 19,
    "start_time": "2022-04-17T13:47:59.069Z"
   },
   {
    "duration": 43,
    "start_time": "2022-04-17T13:47:59.091Z"
   },
   {
    "duration": 25,
    "start_time": "2022-04-17T13:47:59.136Z"
   },
   {
    "duration": 9,
    "start_time": "2022-04-17T13:47:59.163Z"
   },
   {
    "duration": 10,
    "start_time": "2022-04-17T13:47:59.174Z"
   },
   {
    "duration": 50,
    "start_time": "2022-04-17T13:47:59.185Z"
   },
   {
    "duration": 14,
    "start_time": "2022-04-17T13:47:59.236Z"
   },
   {
    "duration": 15,
    "start_time": "2022-04-17T13:47:59.252Z"
   },
   {
    "duration": 20,
    "start_time": "2022-04-17T13:47:59.269Z"
   },
   {
    "duration": 72,
    "start_time": "2022-04-17T13:47:59.290Z"
   },
   {
    "duration": 12,
    "start_time": "2022-04-17T13:47:59.364Z"
   },
   {
    "duration": 15,
    "start_time": "2022-04-17T13:47:59.378Z"
   },
   {
    "duration": 6,
    "start_time": "2022-04-17T13:47:59.394Z"
   },
   {
    "duration": 46,
    "start_time": "2022-04-17T13:47:59.402Z"
   },
   {
    "duration": 7,
    "start_time": "2022-04-17T13:47:59.449Z"
   },
   {
    "duration": 8,
    "start_time": "2022-04-17T13:47:59.458Z"
   },
   {
    "duration": 12,
    "start_time": "2022-04-17T13:47:59.468Z"
   },
   {
    "duration": 9,
    "start_time": "2022-04-17T13:47:59.482Z"
   },
   {
    "duration": 8,
    "start_time": "2022-04-17T13:47:59.492Z"
   },
   {
    "duration": 8,
    "start_time": "2022-04-17T13:47:59.533Z"
   },
   {
    "duration": 35,
    "start_time": "2022-04-17T13:47:59.543Z"
   },
   {
    "duration": 8,
    "start_time": "2022-04-17T13:47:59.580Z"
   },
   {
    "duration": 13,
    "start_time": "2022-04-17T13:47:59.589Z"
   },
   {
    "duration": 22,
    "start_time": "2022-04-17T13:48:02.622Z"
   },
   {
    "duration": 12,
    "start_time": "2022-04-17T13:52:57.026Z"
   },
   {
    "duration": 156,
    "start_time": "2022-04-17T13:53:49.771Z"
   },
   {
    "duration": 26,
    "start_time": "2022-04-17T13:54:08.413Z"
   },
   {
    "duration": 19,
    "start_time": "2022-04-17T13:54:36.743Z"
   },
   {
    "duration": 19,
    "start_time": "2022-04-17T13:55:03.065Z"
   },
   {
    "duration": 83,
    "start_time": "2022-04-17T13:55:13.106Z"
   },
   {
    "duration": 14,
    "start_time": "2022-04-17T13:55:13.191Z"
   },
   {
    "duration": 41,
    "start_time": "2022-04-17T13:55:13.207Z"
   },
   {
    "duration": 6,
    "start_time": "2022-04-17T13:55:13.251Z"
   },
   {
    "duration": 35,
    "start_time": "2022-04-17T13:55:13.259Z"
   },
   {
    "duration": 5,
    "start_time": "2022-04-17T13:55:13.333Z"
   },
   {
    "duration": 22,
    "start_time": "2022-04-17T13:55:13.340Z"
   },
   {
    "duration": 14,
    "start_time": "2022-04-17T13:55:13.364Z"
   },
   {
    "duration": 21,
    "start_time": "2022-04-17T13:55:13.380Z"
   },
   {
    "duration": 30,
    "start_time": "2022-04-17T13:55:13.404Z"
   },
   {
    "duration": 28,
    "start_time": "2022-04-17T13:55:13.436Z"
   },
   {
    "duration": 5,
    "start_time": "2022-04-17T13:55:13.466Z"
   },
   {
    "duration": 10,
    "start_time": "2022-04-17T13:55:13.473Z"
   },
   {
    "duration": 56,
    "start_time": "2022-04-17T13:55:13.485Z"
   },
   {
    "duration": 14,
    "start_time": "2022-04-17T13:55:13.543Z"
   },
   {
    "duration": 16,
    "start_time": "2022-04-17T13:55:13.559Z"
   },
   {
    "duration": 20,
    "start_time": "2022-04-17T13:55:13.577Z"
   },
   {
    "duration": 68,
    "start_time": "2022-04-17T13:55:13.599Z"
   },
   {
    "duration": 12,
    "start_time": "2022-04-17T13:55:13.669Z"
   },
   {
    "duration": 15,
    "start_time": "2022-04-17T13:55:13.683Z"
   },
   {
    "duration": 5,
    "start_time": "2022-04-17T13:55:13.699Z"
   },
   {
    "duration": 18,
    "start_time": "2022-04-17T13:55:13.734Z"
   },
   {
    "duration": 6,
    "start_time": "2022-04-17T13:55:13.754Z"
   },
   {
    "duration": 9,
    "start_time": "2022-04-17T13:55:13.761Z"
   },
   {
    "duration": 14,
    "start_time": "2022-04-17T13:55:13.772Z"
   },
   {
    "duration": 7,
    "start_time": "2022-04-17T13:55:13.788Z"
   },
   {
    "duration": 41,
    "start_time": "2022-04-17T13:55:13.796Z"
   },
   {
    "duration": 10,
    "start_time": "2022-04-17T13:55:13.840Z"
   },
   {
    "duration": 37,
    "start_time": "2022-04-17T13:55:13.852Z"
   },
   {
    "duration": 44,
    "start_time": "2022-04-17T13:55:13.891Z"
   },
   {
    "duration": 8,
    "start_time": "2022-04-17T13:55:13.937Z"
   },
   {
    "duration": 29,
    "start_time": "2022-04-17T13:55:16.547Z"
   },
   {
    "duration": 20,
    "start_time": "2022-04-17T13:55:55.099Z"
   },
   {
    "duration": 9,
    "start_time": "2022-04-17T13:59:32.027Z"
   },
   {
    "duration": 168,
    "start_time": "2022-04-17T14:25:52.839Z"
   },
   {
    "duration": 175,
    "start_time": "2022-04-17T14:26:03.510Z"
   },
   {
    "duration": 165,
    "start_time": "2022-04-17T14:27:57.919Z"
   },
   {
    "duration": 11,
    "start_time": "2022-04-17T14:29:27.750Z"
   },
   {
    "duration": 8,
    "start_time": "2022-04-17T14:29:37.010Z"
   },
   {
    "duration": 14,
    "start_time": "2022-04-17T14:30:10.257Z"
   },
   {
    "duration": 16,
    "start_time": "2022-04-17T14:33:18.774Z"
   },
   {
    "duration": 13,
    "start_time": "2022-04-17T14:33:30.302Z"
   },
   {
    "duration": 13,
    "start_time": "2022-04-17T14:33:35.906Z"
   },
   {
    "duration": 40,
    "start_time": "2022-04-17T14:41:52.901Z"
   },
   {
    "duration": 42,
    "start_time": "2022-04-17T14:42:20.753Z"
   },
   {
    "duration": 40,
    "start_time": "2022-04-17T14:42:36.470Z"
   },
   {
    "duration": 43,
    "start_time": "2022-04-17T14:42:44.890Z"
   },
   {
    "duration": 17,
    "start_time": "2022-04-17T14:45:08.815Z"
   },
   {
    "duration": 36,
    "start_time": "2022-04-17T14:45:53.288Z"
   },
   {
    "duration": 486,
    "start_time": "2022-04-17T14:46:23.499Z"
   },
   {
    "duration": 526,
    "start_time": "2022-04-17T14:46:35.319Z"
   },
   {
    "duration": 41,
    "start_time": "2022-04-17T14:46:43.489Z"
   },
   {
    "duration": 39,
    "start_time": "2022-04-17T14:46:55.364Z"
   },
   {
    "duration": 74,
    "start_time": "2022-04-17T14:47:12.778Z"
   },
   {
    "duration": 40,
    "start_time": "2022-04-17T14:47:19.280Z"
   },
   {
    "duration": 39,
    "start_time": "2022-04-17T14:47:23.835Z"
   },
   {
    "duration": 41,
    "start_time": "2022-04-17T14:47:31.353Z"
   },
   {
    "duration": 56,
    "start_time": "2022-04-17T14:48:27.802Z"
   },
   {
    "duration": 40,
    "start_time": "2022-04-17T14:48:40.882Z"
   },
   {
    "duration": 75,
    "start_time": "2022-04-17T14:49:17.635Z"
   },
   {
    "duration": 82,
    "start_time": "2022-04-17T14:49:51.313Z"
   },
   {
    "duration": 84,
    "start_time": "2022-04-17T14:50:47.180Z"
   },
   {
    "duration": 127,
    "start_time": "2022-04-17T14:50:59.272Z"
   },
   {
    "duration": 78,
    "start_time": "2022-04-17T14:53:39.585Z"
   },
   {
    "duration": 79,
    "start_time": "2022-04-17T14:53:51.194Z"
   },
   {
    "duration": 78,
    "start_time": "2022-04-17T14:54:14.852Z"
   },
   {
    "duration": 80,
    "start_time": "2022-04-17T14:54:49.273Z"
   },
   {
    "duration": 82,
    "start_time": "2022-04-17T14:54:55.076Z"
   },
   {
    "duration": 77,
    "start_time": "2022-04-17T14:55:00.263Z"
   },
   {
    "duration": 14,
    "start_time": "2022-04-17T14:55:00.342Z"
   },
   {
    "duration": 19,
    "start_time": "2022-04-17T14:55:00.358Z"
   },
   {
    "duration": 5,
    "start_time": "2022-04-17T14:55:00.379Z"
   },
   {
    "duration": 57,
    "start_time": "2022-04-17T14:55:00.386Z"
   },
   {
    "duration": 4,
    "start_time": "2022-04-17T14:55:00.445Z"
   },
   {
    "duration": 26,
    "start_time": "2022-04-17T14:55:00.451Z"
   },
   {
    "duration": 18,
    "start_time": "2022-04-17T14:55:00.479Z"
   },
   {
    "duration": 20,
    "start_time": "2022-04-17T14:55:00.499Z"
   },
   {
    "duration": 12,
    "start_time": "2022-04-17T14:55:00.533Z"
   },
   {
    "duration": 34,
    "start_time": "2022-04-17T14:55:00.547Z"
   },
   {
    "duration": 7,
    "start_time": "2022-04-17T14:55:00.583Z"
   },
   {
    "duration": 11,
    "start_time": "2022-04-17T14:55:00.592Z"
   },
   {
    "duration": 54,
    "start_time": "2022-04-17T14:55:00.606Z"
   },
   {
    "duration": 16,
    "start_time": "2022-04-17T14:55:00.662Z"
   },
   {
    "duration": 17,
    "start_time": "2022-04-17T14:55:00.680Z"
   },
   {
    "duration": 49,
    "start_time": "2022-04-17T14:55:00.700Z"
   },
   {
    "duration": 37,
    "start_time": "2022-04-17T14:55:00.751Z"
   },
   {
    "duration": 44,
    "start_time": "2022-04-17T14:55:00.790Z"
   },
   {
    "duration": 17,
    "start_time": "2022-04-17T14:55:00.837Z"
   },
   {
    "duration": 6,
    "start_time": "2022-04-17T14:55:00.855Z"
   },
   {
    "duration": 21,
    "start_time": "2022-04-17T14:55:00.863Z"
   },
   {
    "duration": 7,
    "start_time": "2022-04-17T14:55:00.886Z"
   },
   {
    "duration": 40,
    "start_time": "2022-04-17T14:55:00.895Z"
   },
   {
    "duration": 14,
    "start_time": "2022-04-17T14:55:00.937Z"
   },
   {
    "duration": 16,
    "start_time": "2022-04-17T14:55:00.952Z"
   },
   {
    "duration": 16,
    "start_time": "2022-04-17T14:55:00.969Z"
   },
   {
    "duration": 11,
    "start_time": "2022-04-17T14:55:00.988Z"
   },
   {
    "duration": 55,
    "start_time": "2022-04-17T14:55:01.001Z"
   },
   {
    "duration": 8,
    "start_time": "2022-04-17T14:55:01.058Z"
   },
   {
    "duration": 14,
    "start_time": "2022-04-17T14:55:01.068Z"
   },
   {
    "duration": 49,
    "start_time": "2022-04-17T14:55:01.084Z"
   },
   {
    "duration": 14,
    "start_time": "2022-04-17T14:55:01.135Z"
   },
   {
    "duration": 105,
    "start_time": "2022-04-17T14:55:01.151Z"
   },
   {
    "duration": 95,
    "start_time": "2022-04-17T14:55:03.439Z"
   },
   {
    "duration": 90,
    "start_time": "2022-04-17T14:57:02.585Z"
   },
   {
    "duration": 45,
    "start_time": "2022-04-17T14:58:04.562Z"
   },
   {
    "duration": 170,
    "start_time": "2022-04-17T14:58:41.361Z"
   },
   {
    "duration": 169,
    "start_time": "2022-04-17T14:59:09.713Z"
   },
   {
    "duration": 46,
    "start_time": "2022-04-17T14:59:24.106Z"
   },
   {
    "duration": 176,
    "start_time": "2022-04-17T14:59:32.578Z"
   },
   {
    "duration": 47,
    "start_time": "2022-04-17T14:59:41.654Z"
   },
   {
    "duration": 42,
    "start_time": "2022-04-17T15:00:26.145Z"
   },
   {
    "duration": 44,
    "start_time": "2022-04-17T15:03:22.670Z"
   },
   {
    "duration": 8,
    "start_time": "2022-04-17T15:05:40.699Z"
   },
   {
    "duration": 167,
    "start_time": "2022-04-17T15:18:34.041Z"
   },
   {
    "duration": 161,
    "start_time": "2022-04-17T15:18:57.295Z"
   },
   {
    "duration": 6,
    "start_time": "2022-04-17T15:19:07.947Z"
   },
   {
    "duration": 8,
    "start_time": "2022-04-17T15:19:51.995Z"
   },
   {
    "duration": 9,
    "start_time": "2022-04-17T15:20:19.544Z"
   },
   {
    "duration": 8,
    "start_time": "2022-04-17T15:20:44.293Z"
   },
   {
    "duration": 7,
    "start_time": "2022-04-17T15:21:17.514Z"
   },
   {
    "duration": 8,
    "start_time": "2022-04-17T15:22:05.529Z"
   },
   {
    "duration": 8,
    "start_time": "2022-04-17T15:22:39.569Z"
   },
   {
    "duration": 8,
    "start_time": "2022-04-17T15:25:21.179Z"
   },
   {
    "duration": 7,
    "start_time": "2022-04-17T15:25:42.967Z"
   },
   {
    "duration": 19,
    "start_time": "2022-04-17T15:26:33.274Z"
   },
   {
    "duration": 5,
    "start_time": "2022-04-17T15:28:34.860Z"
   },
   {
    "duration": 4,
    "start_time": "2022-04-17T15:28:55.987Z"
   },
   {
    "duration": 20,
    "start_time": "2022-04-17T15:29:18.451Z"
   },
   {
    "duration": 21,
    "start_time": "2022-04-17T15:30:11.644Z"
   },
   {
    "duration": 495,
    "start_time": "2022-04-17T15:31:51.849Z"
   },
   {
    "duration": 22,
    "start_time": "2022-04-17T15:31:52.347Z"
   },
   {
    "duration": 16,
    "start_time": "2022-04-17T15:31:52.374Z"
   },
   {
    "duration": 7,
    "start_time": "2022-04-17T15:31:52.392Z"
   },
   {
    "duration": 60,
    "start_time": "2022-04-17T15:31:52.400Z"
   },
   {
    "duration": 6,
    "start_time": "2022-04-17T15:31:52.461Z"
   },
   {
    "duration": 9,
    "start_time": "2022-04-17T15:31:52.468Z"
   },
   {
    "duration": 14,
    "start_time": "2022-04-17T15:31:52.479Z"
   },
   {
    "duration": 56,
    "start_time": "2022-04-17T15:31:52.494Z"
   },
   {
    "duration": 11,
    "start_time": "2022-04-17T15:31:52.552Z"
   },
   {
    "duration": 25,
    "start_time": "2022-04-17T15:31:52.564Z"
   },
   {
    "duration": 6,
    "start_time": "2022-04-17T15:31:52.591Z"
   },
   {
    "duration": 38,
    "start_time": "2022-04-17T15:31:52.601Z"
   },
   {
    "duration": 29,
    "start_time": "2022-04-17T15:31:52.641Z"
   },
   {
    "duration": 15,
    "start_time": "2022-04-17T15:31:52.672Z"
   },
   {
    "duration": 54,
    "start_time": "2022-04-17T15:31:52.689Z"
   },
   {
    "duration": 21,
    "start_time": "2022-04-17T15:31:52.745Z"
   },
   {
    "duration": 37,
    "start_time": "2022-04-17T15:31:52.768Z"
   },
   {
    "duration": 14,
    "start_time": "2022-04-17T15:31:52.833Z"
   },
   {
    "duration": 17,
    "start_time": "2022-04-17T15:31:52.849Z"
   },
   {
    "duration": 5,
    "start_time": "2022-04-17T15:31:52.868Z"
   },
   {
    "duration": 26,
    "start_time": "2022-04-17T15:31:52.875Z"
   },
   {
    "duration": 36,
    "start_time": "2022-04-17T15:31:52.903Z"
   },
   {
    "duration": 9,
    "start_time": "2022-04-17T15:31:52.941Z"
   },
   {
    "duration": 15,
    "start_time": "2022-04-17T15:31:52.952Z"
   },
   {
    "duration": 9,
    "start_time": "2022-04-17T15:31:52.969Z"
   },
   {
    "duration": 10,
    "start_time": "2022-04-17T15:31:52.979Z"
   },
   {
    "duration": 8,
    "start_time": "2022-04-17T15:31:52.991Z"
   },
   {
    "duration": 65,
    "start_time": "2022-04-17T15:31:53.001Z"
   },
   {
    "duration": 8,
    "start_time": "2022-04-17T15:31:53.067Z"
   },
   {
    "duration": 9,
    "start_time": "2022-04-17T15:31:53.077Z"
   },
   {
    "duration": 54,
    "start_time": "2022-04-17T15:31:53.088Z"
   },
   {
    "duration": 8,
    "start_time": "2022-04-17T15:31:53.143Z"
   },
   {
    "duration": 45,
    "start_time": "2022-04-17T15:31:53.152Z"
   },
   {
    "duration": 7,
    "start_time": "2022-04-17T15:31:53.199Z"
   },
   {
    "duration": 32,
    "start_time": "2022-04-17T15:31:53.208Z"
   },
   {
    "duration": 19,
    "start_time": "2022-04-17T15:31:53.242Z"
   },
   {
    "duration": 5,
    "start_time": "2022-04-17T15:31:53.263Z"
   },
   {
    "duration": 21,
    "start_time": "2022-04-17T15:31:53.270Z"
   },
   {
    "duration": 9,
    "start_time": "2022-04-17T15:37:24.483Z"
   },
   {
    "duration": 198,
    "start_time": "2022-04-18T09:27:09.874Z"
   },
   {
    "duration": 90,
    "start_time": "2022-04-18T10:49:14.141Z"
   },
   {
    "duration": 464,
    "start_time": "2022-04-18T10:49:18.858Z"
   },
   {
    "duration": 19,
    "start_time": "2022-04-18T10:49:19.324Z"
   },
   {
    "duration": 13,
    "start_time": "2022-04-18T10:49:19.345Z"
   },
   {
    "duration": 5,
    "start_time": "2022-04-18T10:49:19.360Z"
   },
   {
    "duration": 57,
    "start_time": "2022-04-18T10:49:19.366Z"
   },
   {
    "duration": 6,
    "start_time": "2022-04-18T10:49:19.425Z"
   },
   {
    "duration": 10,
    "start_time": "2022-04-18T10:49:19.433Z"
   },
   {
    "duration": 15,
    "start_time": "2022-04-18T10:49:19.445Z"
   },
   {
    "duration": 22,
    "start_time": "2022-04-18T10:49:19.462Z"
   },
   {
    "duration": 19,
    "start_time": "2022-04-18T10:49:19.522Z"
   },
   {
    "duration": 22,
    "start_time": "2022-04-18T10:49:19.542Z"
   },
   {
    "duration": 5,
    "start_time": "2022-04-18T10:49:19.566Z"
   },
   {
    "duration": 7,
    "start_time": "2022-04-18T10:49:19.573Z"
   },
   {
    "duration": 69,
    "start_time": "2022-04-18T10:49:19.582Z"
   },
   {
    "duration": 12,
    "start_time": "2022-04-18T10:49:19.653Z"
   },
   {
    "duration": 455,
    "start_time": "2022-04-18T15:45:49.228Z"
   },
   {
    "duration": 27,
    "start_time": "2022-04-18T15:45:49.685Z"
   },
   {
    "duration": 23,
    "start_time": "2022-04-18T15:45:49.714Z"
   },
   {
    "duration": 6,
    "start_time": "2022-04-18T15:45:49.739Z"
   },
   {
    "duration": 29,
    "start_time": "2022-04-18T15:45:49.746Z"
   },
   {
    "duration": 4,
    "start_time": "2022-04-18T15:45:49.777Z"
   },
   {
    "duration": 41,
    "start_time": "2022-04-18T15:45:49.783Z"
   },
   {
    "duration": 11,
    "start_time": "2022-04-18T15:45:49.827Z"
   },
   {
    "duration": 22,
    "start_time": "2022-04-18T15:45:49.840Z"
   },
   {
    "duration": 8,
    "start_time": "2022-04-18T15:45:49.865Z"
   },
   {
    "duration": 55,
    "start_time": "2022-04-18T15:45:49.875Z"
   },
   {
    "duration": 6,
    "start_time": "2022-04-18T15:45:49.932Z"
   },
   {
    "duration": 8,
    "start_time": "2022-04-18T15:45:49.940Z"
   },
   {
    "duration": 25,
    "start_time": "2022-04-18T15:45:49.950Z"
   },
   {
    "duration": 48,
    "start_time": "2022-04-18T15:45:49.976Z"
   },
   {
    "duration": 15,
    "start_time": "2022-04-18T15:45:50.026Z"
   },
   {
    "duration": 19,
    "start_time": "2022-04-18T15:45:50.043Z"
   },
   {
    "duration": 66,
    "start_time": "2022-04-18T15:45:50.064Z"
   },
   {
    "duration": 18,
    "start_time": "2022-04-18T15:45:50.133Z"
   },
   {
    "duration": 15,
    "start_time": "2022-04-18T15:45:50.152Z"
   },
   {
    "duration": 6,
    "start_time": "2022-04-18T15:45:50.169Z"
   },
   {
    "duration": 49,
    "start_time": "2022-04-18T15:45:50.176Z"
   },
   {
    "duration": 6,
    "start_time": "2022-04-18T15:45:50.227Z"
   },
   {
    "duration": 6,
    "start_time": "2022-04-18T15:45:50.235Z"
   },
   {
    "duration": 14,
    "start_time": "2022-04-18T15:45:50.243Z"
   },
   {
    "duration": 10,
    "start_time": "2022-04-18T15:45:50.259Z"
   },
   {
    "duration": 11,
    "start_time": "2022-04-18T15:45:50.271Z"
   },
   {
    "duration": 43,
    "start_time": "2022-04-18T15:45:50.286Z"
   },
   {
    "duration": 42,
    "start_time": "2022-04-18T15:45:50.331Z"
   },
   {
    "duration": 7,
    "start_time": "2022-04-18T15:45:50.375Z"
   },
   {
    "duration": 14,
    "start_time": "2022-04-18T15:45:50.383Z"
   },
   {
    "duration": 42,
    "start_time": "2022-04-18T15:45:50.398Z"
   },
   {
    "duration": 10,
    "start_time": "2022-04-18T15:45:50.442Z"
   },
   {
    "duration": 40,
    "start_time": "2022-04-18T15:45:50.453Z"
   },
   {
    "duration": 39,
    "start_time": "2022-04-18T15:45:50.494Z"
   },
   {
    "duration": 7,
    "start_time": "2022-04-18T15:45:50.534Z"
   },
   {
    "duration": 19,
    "start_time": "2022-04-18T15:45:50.542Z"
   },
   {
    "duration": 7,
    "start_time": "2022-04-18T15:45:50.563Z"
   },
   {
    "duration": 54,
    "start_time": "2022-04-18T15:45:50.571Z"
   },
   {
    "duration": 67,
    "start_time": "2022-04-18T15:45:50.626Z"
   },
   {
    "duration": 140,
    "start_time": "2022-04-18T16:10:09.320Z"
   },
   {
    "duration": 7,
    "start_time": "2022-04-18T16:10:18.130Z"
   },
   {
    "duration": 12,
    "start_time": "2022-04-18T16:10:43.917Z"
   },
   {
    "duration": 15,
    "start_time": "2022-04-18T16:10:57.075Z"
   },
   {
    "duration": 23,
    "start_time": "2022-04-18T16:11:01.729Z"
   },
   {
    "duration": 22,
    "start_time": "2022-04-18T16:11:42.492Z"
   },
   {
    "duration": 5,
    "start_time": "2022-04-18T16:12:52.903Z"
   },
   {
    "duration": 3,
    "start_time": "2022-04-18T16:13:08.214Z"
   },
   {
    "duration": 4,
    "start_time": "2022-04-18T16:13:22.848Z"
   },
   {
    "duration": 144,
    "start_time": "2022-04-18T16:14:18.587Z"
   },
   {
    "duration": 5,
    "start_time": "2022-04-18T16:14:22.599Z"
   },
   {
    "duration": 17,
    "start_time": "2022-04-18T16:15:01.069Z"
   },
   {
    "duration": 12,
    "start_time": "2022-04-18T16:15:28.164Z"
   },
   {
    "duration": 13,
    "start_time": "2022-04-18T16:16:51.701Z"
   },
   {
    "duration": 7,
    "start_time": "2022-04-18T16:17:03.025Z"
   },
   {
    "duration": 53,
    "start_time": "2022-04-18T16:19:02.934Z"
   },
   {
    "duration": 4,
    "start_time": "2022-04-18T16:19:41.143Z"
   },
   {
    "duration": 8,
    "start_time": "2022-04-18T16:20:30.091Z"
   },
   {
    "duration": 9,
    "start_time": "2022-04-18T16:25:08.438Z"
   },
   {
    "duration": 7,
    "start_time": "2022-04-18T16:25:17.689Z"
   },
   {
    "duration": 5,
    "start_time": "2022-04-18T16:25:26.755Z"
   },
   {
    "duration": 2121,
    "start_time": "2022-04-18T16:25:37.925Z"
   },
   {
    "duration": 63,
    "start_time": "2022-04-18T16:25:54.491Z"
   },
   {
    "duration": 13,
    "start_time": "2022-04-18T16:25:54.556Z"
   },
   {
    "duration": 26,
    "start_time": "2022-04-18T16:25:54.571Z"
   },
   {
    "duration": 7,
    "start_time": "2022-04-18T16:25:54.626Z"
   },
   {
    "duration": 54,
    "start_time": "2022-04-18T16:25:54.636Z"
   },
   {
    "duration": 6,
    "start_time": "2022-04-18T16:25:54.692Z"
   },
   {
    "duration": 32,
    "start_time": "2022-04-18T16:25:54.699Z"
   },
   {
    "duration": 22,
    "start_time": "2022-04-18T16:25:54.733Z"
   },
   {
    "duration": 22,
    "start_time": "2022-04-18T16:25:54.756Z"
   },
   {
    "duration": 10,
    "start_time": "2022-04-18T16:25:54.780Z"
   },
   {
    "duration": 53,
    "start_time": "2022-04-18T16:25:54.792Z"
   },
   {
    "duration": 7,
    "start_time": "2022-04-18T16:25:54.847Z"
   },
   {
    "duration": 11,
    "start_time": "2022-04-18T16:25:54.856Z"
   },
   {
    "duration": 25,
    "start_time": "2022-04-18T16:25:54.868Z"
   },
   {
    "duration": 21,
    "start_time": "2022-04-18T16:25:54.924Z"
   },
   {
    "duration": 10,
    "start_time": "2022-04-18T16:25:57.602Z"
   },
   {
    "duration": 7,
    "start_time": "2022-04-18T16:26:12.538Z"
   },
   {
    "duration": 22,
    "start_time": "2022-04-18T16:26:59.410Z"
   },
   {
    "duration": 22,
    "start_time": "2022-04-18T16:27:23.515Z"
   },
   {
    "duration": 23,
    "start_time": "2022-04-18T16:27:42.662Z"
   },
   {
    "duration": 24,
    "start_time": "2022-04-18T16:28:22.351Z"
   },
   {
    "duration": 41,
    "start_time": "2022-04-18T16:28:33.274Z"
   },
   {
    "duration": 41,
    "start_time": "2022-04-18T16:29:35.533Z"
   },
   {
    "duration": 6,
    "start_time": "2022-04-18T16:47:07.751Z"
   },
   {
    "duration": 152,
    "start_time": "2022-04-18T16:50:18.152Z"
   },
   {
    "duration": 245,
    "start_time": "2022-04-18T16:50:27.552Z"
   },
   {
    "duration": 32,
    "start_time": "2022-04-18T16:50:40.822Z"
   },
   {
    "duration": 27,
    "start_time": "2022-04-18T16:50:58.699Z"
   },
   {
    "duration": 9,
    "start_time": "2022-04-18T17:26:11.062Z"
   },
   {
    "duration": 6,
    "start_time": "2022-04-18T17:26:22.770Z"
   },
   {
    "duration": 9,
    "start_time": "2022-04-18T17:26:42.794Z"
   },
   {
    "duration": 6,
    "start_time": "2022-04-18T17:26:43.149Z"
   },
   {
    "duration": 78,
    "start_time": "2022-04-18T17:26:48.248Z"
   },
   {
    "duration": 16,
    "start_time": "2022-04-18T17:26:48.331Z"
   },
   {
    "duration": 45,
    "start_time": "2022-04-18T17:26:48.349Z"
   },
   {
    "duration": 7,
    "start_time": "2022-04-18T17:26:48.395Z"
   },
   {
    "duration": 36,
    "start_time": "2022-04-18T17:26:48.405Z"
   },
   {
    "duration": 35,
    "start_time": "2022-04-18T17:26:48.443Z"
   },
   {
    "duration": 11,
    "start_time": "2022-04-18T17:26:48.480Z"
   },
   {
    "duration": 14,
    "start_time": "2022-04-18T17:26:48.492Z"
   },
   {
    "duration": 29,
    "start_time": "2022-04-18T17:26:48.507Z"
   },
   {
    "duration": 17,
    "start_time": "2022-04-18T17:26:48.538Z"
   },
   {
    "duration": 45,
    "start_time": "2022-04-18T17:26:48.557Z"
   },
   {
    "duration": 5,
    "start_time": "2022-04-18T17:26:48.603Z"
   },
   {
    "duration": 8,
    "start_time": "2022-04-18T17:26:48.610Z"
   },
   {
    "duration": 36,
    "start_time": "2022-04-18T17:26:48.621Z"
   },
   {
    "duration": 38,
    "start_time": "2022-04-18T17:26:48.659Z"
   },
   {
    "duration": 5,
    "start_time": "2022-04-18T17:26:48.698Z"
   },
   {
    "duration": 33,
    "start_time": "2022-04-18T17:26:48.705Z"
   },
   {
    "duration": 44,
    "start_time": "2022-04-18T17:26:48.740Z"
   },
   {
    "duration": 10,
    "start_time": "2022-04-18T17:26:50.582Z"
   },
   {
    "duration": 7,
    "start_time": "2022-04-18T17:26:50.962Z"
   },
   {
    "duration": 8,
    "start_time": "2022-04-18T17:27:07.568Z"
   },
   {
    "duration": 11,
    "start_time": "2022-04-18T17:27:08.140Z"
   },
   {
    "duration": 74,
    "start_time": "2022-04-18T17:27:12.400Z"
   },
   {
    "duration": 12,
    "start_time": "2022-04-18T17:27:12.476Z"
   },
   {
    "duration": 16,
    "start_time": "2022-04-18T17:27:12.490Z"
   },
   {
    "duration": 9,
    "start_time": "2022-04-18T17:27:12.525Z"
   },
   {
    "duration": 48,
    "start_time": "2022-04-18T17:27:12.537Z"
   },
   {
    "duration": 4,
    "start_time": "2022-04-18T17:27:12.587Z"
   },
   {
    "duration": 10,
    "start_time": "2022-04-18T17:27:12.593Z"
   },
   {
    "duration": 37,
    "start_time": "2022-04-18T17:27:12.605Z"
   },
   {
    "duration": 36,
    "start_time": "2022-04-18T17:27:12.644Z"
   },
   {
    "duration": 9,
    "start_time": "2022-04-18T17:27:12.682Z"
   },
   {
    "duration": 25,
    "start_time": "2022-04-18T17:27:12.693Z"
   },
   {
    "duration": 5,
    "start_time": "2022-04-18T17:27:12.720Z"
   },
   {
    "duration": 44,
    "start_time": "2022-04-18T17:27:12.727Z"
   },
   {
    "duration": 27,
    "start_time": "2022-04-18T17:27:12.773Z"
   },
   {
    "duration": 11,
    "start_time": "2022-04-18T17:27:12.801Z"
   },
   {
    "duration": 5,
    "start_time": "2022-04-18T17:27:12.814Z"
   },
   {
    "duration": 31,
    "start_time": "2022-04-18T17:27:12.829Z"
   },
   {
    "duration": 16,
    "start_time": "2022-04-18T17:27:12.862Z"
   },
   {
    "duration": 4,
    "start_time": "2022-04-18T17:27:12.880Z"
   },
   {
    "duration": 14,
    "start_time": "2022-04-18T17:29:31.052Z"
   },
   {
    "duration": 6,
    "start_time": "2022-04-18T17:29:32.092Z"
   },
   {
    "duration": 15970,
    "start_time": "2022-04-18T17:29:45.402Z"
   },
   {
    "duration": 0,
    "start_time": "2022-04-18T17:30:01.378Z"
   },
   {
    "duration": 0,
    "start_time": "2022-04-18T17:30:01.379Z"
   },
   {
    "duration": 0,
    "start_time": "2022-04-18T17:30:01.380Z"
   },
   {
    "duration": 0,
    "start_time": "2022-04-18T17:30:01.383Z"
   },
   {
    "duration": 0,
    "start_time": "2022-04-18T17:30:01.384Z"
   },
   {
    "duration": 0,
    "start_time": "2022-04-18T17:30:01.385Z"
   },
   {
    "duration": 0,
    "start_time": "2022-04-18T17:30:01.387Z"
   },
   {
    "duration": 0,
    "start_time": "2022-04-18T17:30:01.388Z"
   },
   {
    "duration": 1,
    "start_time": "2022-04-18T17:30:01.389Z"
   },
   {
    "duration": 0,
    "start_time": "2022-04-18T17:30:01.391Z"
   },
   {
    "duration": 0,
    "start_time": "2022-04-18T17:30:01.393Z"
   },
   {
    "duration": 0,
    "start_time": "2022-04-18T17:30:01.396Z"
   },
   {
    "duration": 0,
    "start_time": "2022-04-18T17:30:01.397Z"
   },
   {
    "duration": 0,
    "start_time": "2022-04-18T17:30:01.399Z"
   },
   {
    "duration": 0,
    "start_time": "2022-04-18T17:30:01.400Z"
   },
   {
    "duration": 0,
    "start_time": "2022-04-18T17:30:01.401Z"
   },
   {
    "duration": 0,
    "start_time": "2022-04-18T17:30:01.403Z"
   },
   {
    "duration": 81,
    "start_time": "2022-04-18T17:30:27.909Z"
   },
   {
    "duration": 13,
    "start_time": "2022-04-18T17:30:27.992Z"
   },
   {
    "duration": 29,
    "start_time": "2022-04-18T17:30:28.007Z"
   },
   {
    "duration": 8,
    "start_time": "2022-04-18T17:30:28.042Z"
   },
   {
    "duration": 38,
    "start_time": "2022-04-18T17:30:28.056Z"
   },
   {
    "duration": 5,
    "start_time": "2022-04-18T17:30:28.095Z"
   },
   {
    "duration": 10,
    "start_time": "2022-04-18T17:30:28.101Z"
   },
   {
    "duration": 24,
    "start_time": "2022-04-18T17:30:28.112Z"
   },
   {
    "duration": 29,
    "start_time": "2022-04-18T17:30:28.137Z"
   },
   {
    "duration": 30,
    "start_time": "2022-04-18T17:30:28.169Z"
   },
   {
    "duration": 29,
    "start_time": "2022-04-18T17:30:28.201Z"
   },
   {
    "duration": 5,
    "start_time": "2022-04-18T17:30:28.232Z"
   },
   {
    "duration": 39,
    "start_time": "2022-04-18T17:30:28.239Z"
   },
   {
    "duration": 24,
    "start_time": "2022-04-18T17:30:28.280Z"
   },
   {
    "duration": 12,
    "start_time": "2022-04-18T17:30:28.306Z"
   },
   {
    "duration": 13,
    "start_time": "2022-04-18T17:30:28.320Z"
   },
   {
    "duration": 59,
    "start_time": "2022-04-18T17:30:28.334Z"
   },
   {
    "duration": 20,
    "start_time": "2022-04-18T17:30:28.395Z"
   },
   {
    "duration": 596,
    "start_time": "2022-04-18T17:31:41.464Z"
   },
   {
    "duration": 28,
    "start_time": "2022-04-18T17:31:42.062Z"
   },
   {
    "duration": 15,
    "start_time": "2022-04-18T17:31:42.092Z"
   },
   {
    "duration": 30,
    "start_time": "2022-04-18T17:31:42.109Z"
   },
   {
    "duration": 62,
    "start_time": "2022-04-18T17:31:42.142Z"
   },
   {
    "duration": 5,
    "start_time": "2022-04-18T17:31:42.206Z"
   },
   {
    "duration": 21,
    "start_time": "2022-04-18T17:31:42.212Z"
   },
   {
    "duration": 44,
    "start_time": "2022-04-18T17:31:42.234Z"
   },
   {
    "duration": 23,
    "start_time": "2022-04-18T17:31:42.280Z"
   },
   {
    "duration": 12,
    "start_time": "2022-04-18T17:31:42.305Z"
   },
   {
    "duration": 43,
    "start_time": "2022-04-18T17:31:42.319Z"
   },
   {
    "duration": 17,
    "start_time": "2022-04-18T17:31:42.365Z"
   },
   {
    "duration": 10,
    "start_time": "2022-04-18T17:31:42.384Z"
   },
   {
    "duration": 36,
    "start_time": "2022-04-18T17:31:42.397Z"
   },
   {
    "duration": 16,
    "start_time": "2022-04-18T17:31:42.435Z"
   },
   {
    "duration": 26,
    "start_time": "2022-04-18T17:31:42.453Z"
   },
   {
    "duration": 47,
    "start_time": "2022-04-18T17:31:42.481Z"
   },
   {
    "duration": 14,
    "start_time": "2022-04-18T17:31:42.531Z"
   },
   {
    "duration": 7,
    "start_time": "2022-04-18T17:31:50.540Z"
   },
   {
    "duration": 82,
    "start_time": "2022-04-18T17:32:47.090Z"
   },
   {
    "duration": 18,
    "start_time": "2022-04-18T17:33:35.783Z"
   },
   {
    "duration": 26,
    "start_time": "2022-04-18T17:33:48.478Z"
   },
   {
    "duration": 17,
    "start_time": "2022-04-18T17:33:56.144Z"
   },
   {
    "duration": 8,
    "start_time": "2022-04-18T17:33:58.156Z"
   },
   {
    "duration": 68,
    "start_time": "2022-04-18T17:34:02.652Z"
   },
   {
    "duration": 16,
    "start_time": "2022-04-18T17:34:02.722Z"
   },
   {
    "duration": 39,
    "start_time": "2022-04-18T17:34:02.745Z"
   },
   {
    "duration": 5,
    "start_time": "2022-04-18T17:34:02.786Z"
   },
   {
    "duration": 57,
    "start_time": "2022-04-18T17:34:02.794Z"
   },
   {
    "duration": 8,
    "start_time": "2022-04-18T17:34:02.854Z"
   },
   {
    "duration": 14,
    "start_time": "2022-04-18T17:34:02.864Z"
   },
   {
    "duration": 13,
    "start_time": "2022-04-18T17:34:02.879Z"
   },
   {
    "duration": 18,
    "start_time": "2022-04-18T17:34:02.894Z"
   },
   {
    "duration": 24,
    "start_time": "2022-04-18T17:34:02.914Z"
   },
   {
    "duration": 31,
    "start_time": "2022-04-18T17:34:02.942Z"
   },
   {
    "duration": 5,
    "start_time": "2022-04-18T17:34:02.975Z"
   },
   {
    "duration": 14,
    "start_time": "2022-04-18T17:34:02.981Z"
   },
   {
    "duration": 30,
    "start_time": "2022-04-18T17:34:02.998Z"
   },
   {
    "duration": 22,
    "start_time": "2022-04-18T17:34:03.029Z"
   },
   {
    "duration": 12,
    "start_time": "2022-04-18T17:34:03.058Z"
   },
   {
    "duration": 28,
    "start_time": "2022-04-18T17:34:03.072Z"
   },
   {
    "duration": 38,
    "start_time": "2022-04-18T17:34:03.102Z"
   },
   {
    "duration": 13,
    "start_time": "2022-04-18T17:34:28.695Z"
   },
   {
    "duration": 67,
    "start_time": "2022-04-18T17:35:10.167Z"
   },
   {
    "duration": 21,
    "start_time": "2022-04-18T17:35:10.237Z"
   },
   {
    "duration": 25,
    "start_time": "2022-04-18T17:35:10.260Z"
   },
   {
    "duration": 6,
    "start_time": "2022-04-18T17:35:10.287Z"
   },
   {
    "duration": 56,
    "start_time": "2022-04-18T17:35:10.295Z"
   },
   {
    "duration": 12,
    "start_time": "2022-04-18T17:35:10.353Z"
   },
   {
    "duration": 8,
    "start_time": "2022-04-18T17:35:10.366Z"
   },
   {
    "duration": 12,
    "start_time": "2022-04-18T17:35:10.375Z"
   },
   {
    "duration": 18,
    "start_time": "2022-04-18T17:35:10.388Z"
   },
   {
    "duration": 19,
    "start_time": "2022-04-18T17:35:10.425Z"
   },
   {
    "duration": 41,
    "start_time": "2022-04-18T17:35:10.445Z"
   },
   {
    "duration": 7,
    "start_time": "2022-04-18T17:35:10.488Z"
   },
   {
    "duration": 11,
    "start_time": "2022-04-18T17:35:10.497Z"
   },
   {
    "duration": 40,
    "start_time": "2022-04-18T17:35:10.523Z"
   },
   {
    "duration": 13,
    "start_time": "2022-04-18T17:35:10.565Z"
   },
   {
    "duration": 5,
    "start_time": "2022-04-18T17:35:10.580Z"
   },
   {
    "duration": 56,
    "start_time": "2022-04-18T17:35:10.587Z"
   },
   {
    "duration": 9,
    "start_time": "2022-04-18T17:35:14.760Z"
   },
   {
    "duration": 6,
    "start_time": "2022-04-18T17:35:17.870Z"
   },
   {
    "duration": 30,
    "start_time": "2022-04-18T17:35:22.827Z"
   },
   {
    "duration": 27,
    "start_time": "2022-04-18T17:35:57.647Z"
   },
   {
    "duration": 2435,
    "start_time": "2022-04-18T17:36:23.059Z"
   },
   {
    "duration": 23,
    "start_time": "2022-04-18T17:36:35.419Z"
   },
   {
    "duration": 5,
    "start_time": "2022-04-18T17:37:13.121Z"
   },
   {
    "duration": 37,
    "start_time": "2022-04-18T17:37:16.404Z"
   },
   {
    "duration": 93,
    "start_time": "2022-04-18T17:37:24.500Z"
   },
   {
    "duration": 21,
    "start_time": "2022-04-18T17:37:24.596Z"
   },
   {
    "duration": 24,
    "start_time": "2022-04-18T17:37:24.619Z"
   },
   {
    "duration": 36,
    "start_time": "2022-04-18T17:37:24.646Z"
   },
   {
    "duration": 30,
    "start_time": "2022-04-18T17:37:24.684Z"
   },
   {
    "duration": 5,
    "start_time": "2022-04-18T17:37:24.717Z"
   },
   {
    "duration": 34,
    "start_time": "2022-04-18T17:37:24.740Z"
   },
   {
    "duration": 15,
    "start_time": "2022-04-18T17:37:24.776Z"
   },
   {
    "duration": 24,
    "start_time": "2022-04-18T17:37:24.793Z"
   },
   {
    "duration": 18,
    "start_time": "2022-04-18T17:37:24.820Z"
   },
   {
    "duration": 53,
    "start_time": "2022-04-18T17:37:24.840Z"
   },
   {
    "duration": 7,
    "start_time": "2022-04-18T17:37:24.896Z"
   },
   {
    "duration": 11,
    "start_time": "2022-04-18T17:37:24.904Z"
   },
   {
    "duration": 49,
    "start_time": "2022-04-18T17:37:24.917Z"
   },
   {
    "duration": 23,
    "start_time": "2022-04-18T17:37:24.972Z"
   },
   {
    "duration": 7,
    "start_time": "2022-04-18T17:37:24.998Z"
   },
   {
    "duration": 45,
    "start_time": "2022-04-18T17:37:25.007Z"
   },
   {
    "duration": 18,
    "start_time": "2022-04-18T17:37:25.054Z"
   },
   {
    "duration": 6,
    "start_time": "2022-04-18T17:39:38.703Z"
   },
   {
    "duration": 2,
    "start_time": "2022-04-18T17:39:52.158Z"
   },
   {
    "duration": 65,
    "start_time": "2022-04-18T17:40:04.667Z"
   },
   {
    "duration": 19,
    "start_time": "2022-04-18T17:40:04.734Z"
   },
   {
    "duration": 22,
    "start_time": "2022-04-18T17:40:04.755Z"
   },
   {
    "duration": 6,
    "start_time": "2022-04-18T17:40:04.780Z"
   },
   {
    "duration": 53,
    "start_time": "2022-04-18T17:40:04.787Z"
   },
   {
    "duration": 10,
    "start_time": "2022-04-18T17:40:04.841Z"
   },
   {
    "duration": 15,
    "start_time": "2022-04-18T17:40:04.853Z"
   },
   {
    "duration": 10,
    "start_time": "2022-04-18T17:40:04.869Z"
   },
   {
    "duration": 17,
    "start_time": "2022-04-18T17:40:04.881Z"
   },
   {
    "duration": 25,
    "start_time": "2022-04-18T17:40:04.901Z"
   },
   {
    "duration": 30,
    "start_time": "2022-04-18T17:40:04.929Z"
   },
   {
    "duration": 5,
    "start_time": "2022-04-18T17:40:04.961Z"
   },
   {
    "duration": 9,
    "start_time": "2022-04-18T17:40:04.967Z"
   },
   {
    "duration": 24,
    "start_time": "2022-04-18T17:40:04.977Z"
   },
   {
    "duration": 43,
    "start_time": "2022-04-18T17:40:05.002Z"
   },
   {
    "duration": 14,
    "start_time": "2022-04-18T17:40:05.050Z"
   },
   {
    "duration": 31,
    "start_time": "2022-04-18T17:40:05.066Z"
   },
   {
    "duration": 2396,
    "start_time": "2022-04-18T17:43:58.901Z"
   },
   {
    "duration": 57,
    "start_time": "2022-04-18T17:44:11.861Z"
   },
   {
    "duration": 15,
    "start_time": "2022-04-18T17:44:11.920Z"
   },
   {
    "duration": 35,
    "start_time": "2022-04-18T17:44:11.937Z"
   },
   {
    "duration": 4,
    "start_time": "2022-04-18T17:44:11.974Z"
   },
   {
    "duration": 28,
    "start_time": "2022-04-18T17:44:11.980Z"
   },
   {
    "duration": 4,
    "start_time": "2022-04-18T17:44:12.009Z"
   },
   {
    "duration": 11,
    "start_time": "2022-04-18T17:44:12.014Z"
   },
   {
    "duration": 13,
    "start_time": "2022-04-18T17:44:12.029Z"
   },
   {
    "duration": 19,
    "start_time": "2022-04-18T17:44:14.553Z"
   },
   {
    "duration": 17,
    "start_time": "2022-04-18T17:44:27.028Z"
   },
   {
    "duration": 2396,
    "start_time": "2022-04-18T17:45:22.465Z"
   },
   {
    "duration": 61,
    "start_time": "2022-04-18T17:45:31.949Z"
   },
   {
    "duration": 16,
    "start_time": "2022-04-18T17:45:32.012Z"
   },
   {
    "duration": 37,
    "start_time": "2022-04-18T17:45:32.030Z"
   },
   {
    "duration": 6,
    "start_time": "2022-04-18T17:45:32.069Z"
   },
   {
    "duration": 32,
    "start_time": "2022-04-18T17:45:32.077Z"
   },
   {
    "duration": 5,
    "start_time": "2022-04-18T17:45:32.111Z"
   },
   {
    "duration": 32,
    "start_time": "2022-04-18T17:45:32.117Z"
   },
   {
    "duration": 19,
    "start_time": "2022-04-18T17:45:32.152Z"
   },
   {
    "duration": 30,
    "start_time": "2022-04-18T17:45:36.748Z"
   },
   {
    "duration": 25,
    "start_time": "2022-04-18T17:46:25.842Z"
   },
   {
    "duration": 8,
    "start_time": "2022-04-18T17:46:30.002Z"
   },
   {
    "duration": 9,
    "start_time": "2022-04-18T17:46:31.896Z"
   },
   {
    "duration": 9,
    "start_time": "2022-04-18T17:47:09.348Z"
   },
   {
    "duration": 11,
    "start_time": "2022-04-18T17:47:46.423Z"
   },
   {
    "duration": 9,
    "start_time": "2022-04-18T17:47:51.286Z"
   },
   {
    "duration": 9,
    "start_time": "2022-04-18T17:48:04.556Z"
   },
   {
    "duration": 12,
    "start_time": "2022-04-18T17:48:10.154Z"
   },
   {
    "duration": 20,
    "start_time": "2022-04-18T17:48:17.942Z"
   },
   {
    "duration": 58,
    "start_time": "2022-04-18T17:48:23.948Z"
   },
   {
    "duration": 12,
    "start_time": "2022-04-18T17:48:24.008Z"
   },
   {
    "duration": 35,
    "start_time": "2022-04-18T17:48:24.022Z"
   },
   {
    "duration": 5,
    "start_time": "2022-04-18T17:48:24.059Z"
   },
   {
    "duration": 30,
    "start_time": "2022-04-18T17:48:24.066Z"
   },
   {
    "duration": 5,
    "start_time": "2022-04-18T17:48:24.097Z"
   },
   {
    "duration": 7,
    "start_time": "2022-04-18T17:48:24.103Z"
   },
   {
    "duration": 27,
    "start_time": "2022-04-18T17:48:24.112Z"
   },
   {
    "duration": 22,
    "start_time": "2022-04-18T17:48:24.141Z"
   },
   {
    "duration": 16,
    "start_time": "2022-04-18T17:48:24.164Z"
   },
   {
    "duration": 22,
    "start_time": "2022-04-18T17:48:24.181Z"
   },
   {
    "duration": 5,
    "start_time": "2022-04-18T17:48:24.204Z"
   },
   {
    "duration": 10,
    "start_time": "2022-04-18T17:48:24.226Z"
   },
   {
    "duration": 58,
    "start_time": "2022-04-18T17:48:24.240Z"
   },
   {
    "duration": 12,
    "start_time": "2022-04-18T17:48:24.299Z"
   },
   {
    "duration": 5,
    "start_time": "2022-04-18T17:48:24.313Z"
   },
   {
    "duration": 43,
    "start_time": "2022-04-18T17:48:24.331Z"
   },
   {
    "duration": 8,
    "start_time": "2022-04-18T17:48:24.376Z"
   },
   {
    "duration": 19,
    "start_time": "2022-04-18T17:48:27.276Z"
   },
   {
    "duration": 10,
    "start_time": "2022-04-18T17:49:19.177Z"
   },
   {
    "duration": 14,
    "start_time": "2022-04-18T17:49:25.641Z"
   },
   {
    "duration": 21,
    "start_time": "2022-04-18T17:49:30.679Z"
   },
   {
    "duration": 78,
    "start_time": "2022-04-18T17:49:37.929Z"
   },
   {
    "duration": 12,
    "start_time": "2022-04-18T17:49:38.009Z"
   },
   {
    "duration": 44,
    "start_time": "2022-04-18T17:49:38.023Z"
   },
   {
    "duration": 5,
    "start_time": "2022-04-18T17:49:38.069Z"
   },
   {
    "duration": 28,
    "start_time": "2022-04-18T17:49:38.076Z"
   },
   {
    "duration": 5,
    "start_time": "2022-04-18T17:49:38.105Z"
   },
   {
    "duration": 6,
    "start_time": "2022-04-18T17:49:38.111Z"
   },
   {
    "duration": 13,
    "start_time": "2022-04-18T17:49:38.138Z"
   },
   {
    "duration": 26,
    "start_time": "2022-04-18T17:49:38.153Z"
   },
   {
    "duration": 9,
    "start_time": "2022-04-18T17:49:38.182Z"
   },
   {
    "duration": 40,
    "start_time": "2022-04-18T17:49:38.193Z"
   },
   {
    "duration": 7,
    "start_time": "2022-04-18T17:49:38.236Z"
   },
   {
    "duration": 21,
    "start_time": "2022-04-18T17:49:38.245Z"
   },
   {
    "duration": 38,
    "start_time": "2022-04-18T17:49:38.268Z"
   },
   {
    "duration": 31,
    "start_time": "2022-04-18T17:49:38.308Z"
   },
   {
    "duration": 11,
    "start_time": "2022-04-18T17:49:38.341Z"
   },
   {
    "duration": 26,
    "start_time": "2022-04-18T17:49:38.355Z"
   },
   {
    "duration": 9,
    "start_time": "2022-04-18T17:49:38.383Z"
   },
   {
    "duration": 39,
    "start_time": "2022-04-18T17:49:38.393Z"
   },
   {
    "duration": 2029,
    "start_time": "2022-04-18T17:50:02.015Z"
   },
   {
    "duration": 1752,
    "start_time": "2022-04-18T17:57:26.661Z"
   },
   {
    "duration": 1928,
    "start_time": "2022-04-18T17:59:06.357Z"
   },
   {
    "duration": 1827,
    "start_time": "2022-04-18T18:08:56.957Z"
   },
   {
    "duration": 93,
    "start_time": "2022-04-18T18:09:09.180Z"
   },
   {
    "duration": 20,
    "start_time": "2022-04-18T18:09:09.276Z"
   },
   {
    "duration": 39,
    "start_time": "2022-04-18T18:09:09.299Z"
   },
   {
    "duration": 11,
    "start_time": "2022-04-18T18:09:09.343Z"
   },
   {
    "duration": 57,
    "start_time": "2022-04-18T18:09:09.356Z"
   },
   {
    "duration": 13,
    "start_time": "2022-04-18T18:09:09.414Z"
   },
   {
    "duration": 37,
    "start_time": "2022-04-18T18:09:09.428Z"
   },
   {
    "duration": 17,
    "start_time": "2022-04-18T18:09:09.467Z"
   },
   {
    "duration": 18,
    "start_time": "2022-04-18T18:09:09.485Z"
   },
   {
    "duration": 9,
    "start_time": "2022-04-18T18:09:09.506Z"
   },
   {
    "duration": 31,
    "start_time": "2022-04-18T18:09:09.517Z"
   },
   {
    "duration": 16,
    "start_time": "2022-04-18T18:09:09.552Z"
   },
   {
    "duration": 7,
    "start_time": "2022-04-18T18:09:09.569Z"
   },
   {
    "duration": 26,
    "start_time": "2022-04-18T18:09:09.578Z"
   },
   {
    "duration": 33,
    "start_time": "2022-04-18T18:09:09.606Z"
   },
   {
    "duration": 23,
    "start_time": "2022-04-18T18:09:09.643Z"
   },
   {
    "duration": 39,
    "start_time": "2022-04-18T18:09:09.668Z"
   },
   {
    "duration": 6,
    "start_time": "2022-04-18T18:09:13.839Z"
   },
   {
    "duration": 21,
    "start_time": "2022-04-18T18:09:19.992Z"
   },
   {
    "duration": 131,
    "start_time": "2022-04-18T18:10:31.552Z"
   },
   {
    "duration": 6,
    "start_time": "2022-04-18T18:10:37.056Z"
   },
   {
    "duration": 21,
    "start_time": "2022-04-18T18:10:39.894Z"
   },
   {
    "duration": 68,
    "start_time": "2022-04-18T18:10:45.572Z"
   },
   {
    "duration": 18,
    "start_time": "2022-04-18T18:10:45.644Z"
   },
   {
    "duration": 19,
    "start_time": "2022-04-18T18:10:45.665Z"
   },
   {
    "duration": 7,
    "start_time": "2022-04-18T18:10:45.686Z"
   },
   {
    "duration": 58,
    "start_time": "2022-04-18T18:10:45.695Z"
   },
   {
    "duration": 19,
    "start_time": "2022-04-18T18:10:45.755Z"
   },
   {
    "duration": 15,
    "start_time": "2022-04-18T18:10:45.776Z"
   },
   {
    "duration": 16,
    "start_time": "2022-04-18T18:10:45.793Z"
   },
   {
    "duration": 27,
    "start_time": "2022-04-18T18:10:45.810Z"
   },
   {
    "duration": 33,
    "start_time": "2022-04-18T18:10:45.840Z"
   },
   {
    "duration": 31,
    "start_time": "2022-04-18T18:10:45.875Z"
   },
   {
    "duration": 5,
    "start_time": "2022-04-18T18:10:45.908Z"
   },
   {
    "duration": 15,
    "start_time": "2022-04-18T18:10:45.914Z"
   },
   {
    "duration": 56,
    "start_time": "2022-04-18T18:10:45.931Z"
   },
   {
    "duration": 12,
    "start_time": "2022-04-18T18:10:45.988Z"
   },
   {
    "duration": 6,
    "start_time": "2022-04-18T18:10:46.002Z"
   },
   {
    "duration": 44,
    "start_time": "2022-04-18T18:10:46.010Z"
   },
   {
    "duration": 14,
    "start_time": "2022-04-18T18:10:46.062Z"
   },
   {
    "duration": 23,
    "start_time": "2022-04-18T18:10:53.469Z"
   },
   {
    "duration": 5,
    "start_time": "2022-04-18T18:11:06.359Z"
   },
   {
    "duration": 4,
    "start_time": "2022-04-18T18:11:09.460Z"
   },
   {
    "duration": 1834,
    "start_time": "2022-04-18T18:12:14.122Z"
   },
   {
    "duration": 97,
    "start_time": "2022-04-18T18:12:25.718Z"
   },
   {
    "duration": 23,
    "start_time": "2022-04-18T18:12:25.823Z"
   },
   {
    "duration": 32,
    "start_time": "2022-04-18T18:12:25.849Z"
   },
   {
    "duration": 7,
    "start_time": "2022-04-18T18:12:25.883Z"
   },
   {
    "duration": 74,
    "start_time": "2022-04-18T18:12:25.892Z"
   },
   {
    "duration": 5,
    "start_time": "2022-04-18T18:12:25.968Z"
   },
   {
    "duration": 10,
    "start_time": "2022-04-18T18:12:25.975Z"
   },
   {
    "duration": 11,
    "start_time": "2022-04-18T18:12:25.987Z"
   },
   {
    "duration": 62,
    "start_time": "2022-04-18T18:12:26.000Z"
   },
   {
    "duration": 15,
    "start_time": "2022-04-18T18:12:26.066Z"
   },
   {
    "duration": 57,
    "start_time": "2022-04-18T18:12:26.083Z"
   },
   {
    "duration": 8,
    "start_time": "2022-04-18T18:12:26.142Z"
   },
   {
    "duration": 20,
    "start_time": "2022-04-18T18:12:26.155Z"
   },
   {
    "duration": 24,
    "start_time": "2022-04-18T18:12:26.177Z"
   },
   {
    "duration": 52,
    "start_time": "2022-04-18T18:12:26.203Z"
   },
   {
    "duration": 7,
    "start_time": "2022-04-18T18:12:26.256Z"
   },
   {
    "duration": 38,
    "start_time": "2022-04-18T18:12:26.265Z"
   },
   {
    "duration": 7,
    "start_time": "2022-04-18T18:12:30.283Z"
   },
   {
    "duration": 34,
    "start_time": "2022-04-18T18:12:34.307Z"
   },
   {
    "duration": 2699,
    "start_time": "2022-04-18T18:13:40.061Z"
   },
   {
    "duration": 64,
    "start_time": "2022-04-18T18:13:53.058Z"
   },
   {
    "duration": 16,
    "start_time": "2022-04-18T18:13:53.132Z"
   },
   {
    "duration": 28,
    "start_time": "2022-04-18T18:13:53.151Z"
   },
   {
    "duration": 5,
    "start_time": "2022-04-18T18:13:53.181Z"
   },
   {
    "duration": 50,
    "start_time": "2022-04-18T18:13:53.188Z"
   },
   {
    "duration": 8,
    "start_time": "2022-04-18T18:13:53.240Z"
   },
   {
    "duration": 25,
    "start_time": "2022-04-18T18:13:53.250Z"
   },
   {
    "duration": 11,
    "start_time": "2022-04-18T18:13:53.277Z"
   },
   {
    "duration": 18,
    "start_time": "2022-04-18T18:13:55.657Z"
   },
   {
    "duration": 95,
    "start_time": "2022-04-18T18:14:13.747Z"
   },
   {
    "duration": 16,
    "start_time": "2022-04-18T18:14:13.844Z"
   },
   {
    "duration": 27,
    "start_time": "2022-04-18T18:14:13.863Z"
   },
   {
    "duration": 6,
    "start_time": "2022-04-18T18:14:13.892Z"
   },
   {
    "duration": 82,
    "start_time": "2022-04-18T18:14:13.899Z"
   },
   {
    "duration": 6,
    "start_time": "2022-04-18T18:14:13.983Z"
   },
   {
    "duration": 7,
    "start_time": "2022-04-18T18:14:13.990Z"
   },
   {
    "duration": 33,
    "start_time": "2022-04-18T18:14:13.999Z"
   },
   {
    "duration": 25,
    "start_time": "2022-04-18T18:14:14.034Z"
   },
   {
    "duration": 15,
    "start_time": "2022-04-18T18:14:14.062Z"
   },
   {
    "duration": 50,
    "start_time": "2022-04-18T18:14:14.079Z"
   },
   {
    "duration": 7,
    "start_time": "2022-04-18T18:14:24.055Z"
   },
   {
    "duration": 17,
    "start_time": "2022-04-18T18:14:30.319Z"
   },
   {
    "duration": 14,
    "start_time": "2022-04-18T18:14:36.631Z"
   },
   {
    "duration": 5,
    "start_time": "2022-04-18T18:14:44.910Z"
   },
   {
    "duration": 14,
    "start_time": "2022-04-18T18:16:09.770Z"
   },
   {
    "duration": 36,
    "start_time": "2022-04-18T18:16:13.838Z"
   },
   {
    "duration": 629,
    "start_time": "2022-04-18T18:17:49.473Z"
   },
   {
    "duration": 33,
    "start_time": "2022-04-18T18:17:53.399Z"
   },
   {
    "duration": 24,
    "start_time": "2022-04-18T18:17:57.605Z"
   },
   {
    "duration": 7,
    "start_time": "2022-04-18T18:18:00.975Z"
   },
   {
    "duration": 38,
    "start_time": "2022-04-18T18:18:03.349Z"
   },
   {
    "duration": 6,
    "start_time": "2022-04-18T18:18:05.410Z"
   },
   {
    "duration": 12,
    "start_time": "2022-04-18T18:18:07.564Z"
   },
   {
    "duration": 180,
    "start_time": "2022-04-18T18:19:25.848Z"
   },
   {
    "duration": 196,
    "start_time": "2022-04-18T18:19:36.905Z"
   },
   {
    "duration": 157,
    "start_time": "2022-04-18T18:19:58.857Z"
   },
   {
    "duration": 5,
    "start_time": "2022-04-18T18:20:04.763Z"
   },
   {
    "duration": 5,
    "start_time": "2022-04-18T18:20:11.915Z"
   },
   {
    "duration": 4,
    "start_time": "2022-04-18T18:20:17.301Z"
   },
   {
    "duration": 8,
    "start_time": "2022-04-18T18:20:40.188Z"
   },
   {
    "duration": 19,
    "start_time": "2022-04-18T18:20:43.437Z"
   },
   {
    "duration": 78,
    "start_time": "2022-04-18T18:20:52.081Z"
   },
   {
    "duration": 37,
    "start_time": "2022-04-18T18:22:24.352Z"
   },
   {
    "duration": 32,
    "start_time": "2022-04-18T18:23:48.765Z"
   },
   {
    "duration": 21,
    "start_time": "2022-04-18T18:28:15.768Z"
   },
   {
    "duration": 16,
    "start_time": "2022-04-18T18:30:22.184Z"
   },
   {
    "duration": 25,
    "start_time": "2022-04-18T18:30:27.551Z"
   },
   {
    "duration": 7,
    "start_time": "2022-04-18T18:31:54.889Z"
   },
   {
    "duration": 8,
    "start_time": "2022-04-18T18:32:18.496Z"
   },
   {
    "duration": 8,
    "start_time": "2022-04-18T18:32:24.648Z"
   },
   {
    "duration": 7,
    "start_time": "2022-04-18T18:32:49.377Z"
   },
   {
    "duration": 5,
    "start_time": "2022-04-18T18:33:13.488Z"
   },
   {
    "duration": 7,
    "start_time": "2022-04-18T18:33:19.548Z"
   },
   {
    "duration": 14,
    "start_time": "2022-04-18T18:34:50.455Z"
   },
   {
    "duration": 42,
    "start_time": "2022-04-18T18:34:56.114Z"
   },
   {
    "duration": 43,
    "start_time": "2022-04-18T18:36:18.505Z"
   },
   {
    "duration": 38,
    "start_time": "2022-04-18T18:36:26.053Z"
   },
   {
    "duration": 45,
    "start_time": "2022-04-18T18:36:38.121Z"
   },
   {
    "duration": 22,
    "start_time": "2022-04-18T18:37:55.664Z"
   },
   {
    "duration": 86,
    "start_time": "2022-04-18T18:38:15.994Z"
   },
   {
    "duration": 17,
    "start_time": "2022-04-18T18:38:16.083Z"
   },
   {
    "duration": 37,
    "start_time": "2022-04-18T18:38:16.101Z"
   },
   {
    "duration": 35,
    "start_time": "2022-04-18T18:38:16.140Z"
   },
   {
    "duration": 42,
    "start_time": "2022-04-18T18:38:16.176Z"
   },
   {
    "duration": 8,
    "start_time": "2022-04-18T18:38:16.222Z"
   },
   {
    "duration": 61,
    "start_time": "2022-04-18T18:38:16.232Z"
   },
   {
    "duration": 22,
    "start_time": "2022-04-18T18:38:16.295Z"
   },
   {
    "duration": 43,
    "start_time": "2022-04-18T18:38:16.319Z"
   },
   {
    "duration": 25,
    "start_time": "2022-04-18T18:38:16.364Z"
   },
   {
    "duration": 19,
    "start_time": "2022-04-18T18:38:16.392Z"
   },
   {
    "duration": 28,
    "start_time": "2022-04-18T18:38:16.412Z"
   },
   {
    "duration": 56,
    "start_time": "2022-04-18T18:38:16.442Z"
   },
   {
    "duration": 17,
    "start_time": "2022-04-18T18:56:41.977Z"
   },
   {
    "duration": 32,
    "start_time": "2022-04-18T19:03:00.935Z"
   },
   {
    "duration": 102,
    "start_time": "2022-04-18T19:03:09.534Z"
   },
   {
    "duration": 24,
    "start_time": "2022-04-18T19:03:09.640Z"
   },
   {
    "duration": 27,
    "start_time": "2022-04-18T19:03:09.666Z"
   },
   {
    "duration": 7,
    "start_time": "2022-04-18T19:03:09.695Z"
   },
   {
    "duration": 37,
    "start_time": "2022-04-18T19:03:09.704Z"
   },
   {
    "duration": 12,
    "start_time": "2022-04-18T19:03:09.745Z"
   },
   {
    "duration": 11,
    "start_time": "2022-04-18T19:03:09.759Z"
   },
   {
    "duration": 11,
    "start_time": "2022-04-18T19:03:09.772Z"
   },
   {
    "duration": 17,
    "start_time": "2022-04-18T19:03:09.784Z"
   },
   {
    "duration": 32,
    "start_time": "2022-04-18T19:03:09.831Z"
   },
   {
    "duration": 5,
    "start_time": "2022-04-18T19:03:09.865Z"
   },
   {
    "duration": 10,
    "start_time": "2022-04-18T19:03:09.872Z"
   },
   {
    "duration": 54,
    "start_time": "2022-04-18T19:03:09.884Z"
   },
   {
    "duration": 17,
    "start_time": "2022-04-18T19:03:09.940Z"
   },
   {
    "duration": 15,
    "start_time": "2022-04-18T19:17:43.055Z"
   },
   {
    "duration": 17,
    "start_time": "2022-04-18T19:18:11.356Z"
   },
   {
    "duration": 31,
    "start_time": "2022-04-18T19:18:19.713Z"
   },
   {
    "duration": 18,
    "start_time": "2022-04-18T19:19:00.801Z"
   },
   {
    "duration": 18,
    "start_time": "2022-04-18T19:19:05.403Z"
   },
   {
    "duration": 77,
    "start_time": "2022-04-18T19:19:16.633Z"
   },
   {
    "duration": 66,
    "start_time": "2022-04-18T19:19:23.576Z"
   },
   {
    "duration": 16,
    "start_time": "2022-04-18T19:19:23.649Z"
   },
   {
    "duration": 12,
    "start_time": "2022-04-18T19:19:23.666Z"
   },
   {
    "duration": 4,
    "start_time": "2022-04-18T19:19:23.680Z"
   },
   {
    "duration": 59,
    "start_time": "2022-04-18T19:19:23.686Z"
   },
   {
    "duration": 6,
    "start_time": "2022-04-18T19:19:23.748Z"
   },
   {
    "duration": 16,
    "start_time": "2022-04-18T19:19:23.756Z"
   },
   {
    "duration": 13,
    "start_time": "2022-04-18T19:19:23.774Z"
   },
   {
    "duration": 48,
    "start_time": "2022-04-18T19:19:23.789Z"
   },
   {
    "duration": 23,
    "start_time": "2022-04-18T19:19:23.841Z"
   },
   {
    "duration": 5,
    "start_time": "2022-04-18T19:19:23.865Z"
   },
   {
    "duration": 7,
    "start_time": "2022-04-18T19:19:23.872Z"
   },
   {
    "duration": 14,
    "start_time": "2022-04-18T19:19:26.188Z"
   },
   {
    "duration": 20,
    "start_time": "2022-04-18T19:19:31.352Z"
   },
   {
    "duration": 19,
    "start_time": "2022-04-18T19:19:44.402Z"
   },
   {
    "duration": 51,
    "start_time": "2022-04-18T19:19:55.399Z"
   },
   {
    "duration": 479,
    "start_time": "2022-04-18T19:21:08.083Z"
   },
   {
    "duration": 19,
    "start_time": "2022-04-18T19:21:08.564Z"
   },
   {
    "duration": 13,
    "start_time": "2022-04-18T19:21:08.585Z"
   },
   {
    "duration": 28,
    "start_time": "2022-04-18T19:21:08.600Z"
   },
   {
    "duration": 57,
    "start_time": "2022-04-18T19:21:08.630Z"
   },
   {
    "duration": 4,
    "start_time": "2022-04-18T19:21:08.689Z"
   },
   {
    "duration": 8,
    "start_time": "2022-04-18T19:21:08.695Z"
   },
   {
    "duration": 28,
    "start_time": "2022-04-18T19:21:08.705Z"
   },
   {
    "duration": 29,
    "start_time": "2022-04-18T19:21:08.735Z"
   },
   {
    "duration": 17,
    "start_time": "2022-04-18T19:21:08.767Z"
   },
   {
    "duration": 7,
    "start_time": "2022-04-18T19:21:08.785Z"
   },
   {
    "duration": 11,
    "start_time": "2022-04-18T19:21:08.794Z"
   },
   {
    "duration": 58,
    "start_time": "2022-04-18T19:21:08.806Z"
   },
   {
    "duration": 33,
    "start_time": "2022-04-18T19:21:08.867Z"
   },
   {
    "duration": 7,
    "start_time": "2022-04-18T19:21:08.902Z"
   },
   {
    "duration": 46,
    "start_time": "2022-04-18T19:21:08.929Z"
   },
   {
    "duration": 11,
    "start_time": "2022-04-18T19:21:08.977Z"
   },
   {
    "duration": 20,
    "start_time": "2022-04-18T19:21:08.989Z"
   },
   {
    "duration": 18,
    "start_time": "2022-04-18T19:21:09.024Z"
   },
   {
    "duration": 35,
    "start_time": "2022-04-18T19:21:09.044Z"
   },
   {
    "duration": 27,
    "start_time": "2022-04-18T19:21:09.081Z"
   },
   {
    "duration": 23,
    "start_time": "2022-04-18T19:21:09.110Z"
   },
   {
    "duration": 17,
    "start_time": "2022-04-18T19:21:09.134Z"
   },
   {
    "duration": 7,
    "start_time": "2022-04-18T19:21:09.153Z"
   },
   {
    "duration": 20,
    "start_time": "2022-04-18T19:21:09.162Z"
   },
   {
    "duration": 12,
    "start_time": "2022-04-18T19:21:09.184Z"
   },
   {
    "duration": 33,
    "start_time": "2022-04-18T19:21:09.197Z"
   },
   {
    "duration": 35,
    "start_time": "2022-04-18T19:21:09.243Z"
   },
   {
    "duration": 9,
    "start_time": "2022-04-18T19:21:09.280Z"
   },
   {
    "duration": 8,
    "start_time": "2022-04-18T19:21:09.290Z"
   },
   {
    "duration": 7,
    "start_time": "2022-04-18T19:21:09.300Z"
   },
   {
    "duration": 52,
    "start_time": "2022-04-18T19:21:09.309Z"
   },
   {
    "duration": 8,
    "start_time": "2022-04-18T19:21:09.364Z"
   },
   {
    "duration": 9,
    "start_time": "2022-04-18T19:21:09.374Z"
   },
   {
    "duration": 27,
    "start_time": "2022-04-18T19:21:09.385Z"
   },
   {
    "duration": 28,
    "start_time": "2022-04-18T19:21:09.414Z"
   },
   {
    "duration": 63,
    "start_time": "2022-04-18T19:21:09.444Z"
   },
   {
    "duration": 8,
    "start_time": "2022-04-18T19:21:09.509Z"
   },
   {
    "duration": 38,
    "start_time": "2022-04-18T19:21:09.519Z"
   },
   {
    "duration": 770,
    "start_time": "2022-04-18T19:21:09.559Z"
   },
   {
    "duration": 0,
    "start_time": "2022-04-18T19:21:10.330Z"
   },
   {
    "duration": 0,
    "start_time": "2022-04-18T19:21:10.331Z"
   },
   {
    "duration": 0,
    "start_time": "2022-04-18T19:21:10.333Z"
   },
   {
    "duration": 29,
    "start_time": "2022-04-18T19:23:29.960Z"
   },
   {
    "duration": 84,
    "start_time": "2022-04-18T19:23:34.626Z"
   },
   {
    "duration": 13,
    "start_time": "2022-04-18T19:23:34.712Z"
   },
   {
    "duration": 47,
    "start_time": "2022-04-18T19:23:34.727Z"
   },
   {
    "duration": 6,
    "start_time": "2022-04-18T19:23:34.777Z"
   },
   {
    "duration": 34,
    "start_time": "2022-04-18T19:23:34.785Z"
   },
   {
    "duration": 5,
    "start_time": "2022-04-18T19:23:34.820Z"
   },
   {
    "duration": 18,
    "start_time": "2022-04-18T19:23:34.826Z"
   },
   {
    "duration": 27,
    "start_time": "2022-04-18T19:23:34.848Z"
   },
   {
    "duration": 20,
    "start_time": "2022-04-18T19:23:34.876Z"
   },
   {
    "duration": 17,
    "start_time": "2022-04-18T19:23:34.899Z"
   },
   {
    "duration": 17,
    "start_time": "2022-04-18T19:23:34.918Z"
   },
   {
    "duration": 28,
    "start_time": "2022-04-18T19:23:34.937Z"
   },
   {
    "duration": 20,
    "start_time": "2022-04-18T19:23:34.967Z"
   },
   {
    "duration": 32,
    "start_time": "2022-04-18T19:23:36.852Z"
   },
   {
    "duration": 40,
    "start_time": "2022-04-18T19:24:11.723Z"
   },
   {
    "duration": 100,
    "start_time": "2022-04-18T19:24:18.197Z"
   },
   {
    "duration": 18,
    "start_time": "2022-04-18T19:24:18.300Z"
   },
   {
    "duration": 39,
    "start_time": "2022-04-18T19:24:18.320Z"
   },
   {
    "duration": 6,
    "start_time": "2022-04-18T19:24:18.362Z"
   },
   {
    "duration": 44,
    "start_time": "2022-04-18T19:24:18.369Z"
   },
   {
    "duration": 17,
    "start_time": "2022-04-18T19:24:18.415Z"
   },
   {
    "duration": 30,
    "start_time": "2022-04-18T19:24:18.434Z"
   },
   {
    "duration": 14,
    "start_time": "2022-04-18T19:24:18.466Z"
   },
   {
    "duration": 16,
    "start_time": "2022-04-18T19:24:18.482Z"
   },
   {
    "duration": 15,
    "start_time": "2022-04-18T19:24:18.500Z"
   },
   {
    "duration": 5,
    "start_time": "2022-04-18T19:24:18.517Z"
   },
   {
    "duration": 30,
    "start_time": "2022-04-18T19:24:18.527Z"
   },
   {
    "duration": 20,
    "start_time": "2022-04-18T19:24:18.559Z"
   },
   {
    "duration": 28,
    "start_time": "2022-04-18T19:24:20.868Z"
   },
   {
    "duration": 26,
    "start_time": "2022-04-18T19:24:38.159Z"
   },
   {
    "duration": 2583,
    "start_time": "2022-04-18T19:25:14.720Z"
   },
   {
    "duration": 11,
    "start_time": "2022-04-18T19:25:31.927Z"
   },
   {
    "duration": 26,
    "start_time": "2022-04-18T19:25:57.052Z"
   },
   {
    "duration": 15,
    "start_time": "2022-04-18T19:26:04.750Z"
   },
   {
    "duration": 5,
    "start_time": "2022-04-18T19:26:16.570Z"
   },
   {
    "duration": 26,
    "start_time": "2022-04-18T19:26:41.039Z"
   },
   {
    "duration": 32,
    "start_time": "2022-04-18T19:26:48.013Z"
   },
   {
    "duration": 13,
    "start_time": "2022-04-18T19:26:53.444Z"
   },
   {
    "duration": 24,
    "start_time": "2022-04-18T19:26:55.853Z"
   },
   {
    "duration": 13,
    "start_time": "2022-04-18T19:27:02.472Z"
   },
   {
    "duration": 456,
    "start_time": "2022-04-18T19:27:11.170Z"
   },
   {
    "duration": 24,
    "start_time": "2022-04-18T19:27:11.632Z"
   },
   {
    "duration": 15,
    "start_time": "2022-04-18T19:27:11.657Z"
   },
   {
    "duration": 5,
    "start_time": "2022-04-18T19:27:11.674Z"
   },
   {
    "duration": 58,
    "start_time": "2022-04-18T19:27:11.681Z"
   },
   {
    "duration": 5,
    "start_time": "2022-04-18T19:27:11.741Z"
   },
   {
    "duration": 15,
    "start_time": "2022-04-18T19:27:11.751Z"
   },
   {
    "duration": 13,
    "start_time": "2022-04-18T19:27:11.767Z"
   },
   {
    "duration": 17,
    "start_time": "2022-04-18T19:27:11.782Z"
   },
   {
    "duration": 32,
    "start_time": "2022-04-18T19:27:11.801Z"
   },
   {
    "duration": 13,
    "start_time": "2022-04-18T19:27:11.834Z"
   },
   {
    "duration": 13,
    "start_time": "2022-04-18T19:27:11.848Z"
   },
   {
    "duration": 21,
    "start_time": "2022-04-18T19:27:11.863Z"
   },
   {
    "duration": 14,
    "start_time": "2022-04-18T19:27:11.886Z"
   },
   {
    "duration": 36,
    "start_time": "2022-04-18T19:27:11.902Z"
   },
   {
    "duration": 44,
    "start_time": "2022-04-18T19:27:11.942Z"
   },
   {
    "duration": 10,
    "start_time": "2022-04-18T19:27:11.987Z"
   },
   {
    "duration": 20,
    "start_time": "2022-04-18T19:27:11.998Z"
   },
   {
    "duration": 25,
    "start_time": "2022-04-18T19:27:12.020Z"
   },
   {
    "duration": 29,
    "start_time": "2022-04-18T19:27:12.047Z"
   },
   {
    "duration": 34,
    "start_time": "2022-04-18T19:27:12.078Z"
   },
   {
    "duration": 32,
    "start_time": "2022-04-18T19:27:12.113Z"
   },
   {
    "duration": 23,
    "start_time": "2022-04-18T19:27:12.148Z"
   },
   {
    "duration": 6,
    "start_time": "2022-04-18T19:27:12.172Z"
   },
   {
    "duration": 20,
    "start_time": "2022-04-18T19:27:12.180Z"
   },
   {
    "duration": 6,
    "start_time": "2022-04-18T19:27:12.201Z"
   },
   {
    "duration": 22,
    "start_time": "2022-04-18T19:27:12.209Z"
   },
   {
    "duration": 16,
    "start_time": "2022-04-18T19:27:12.235Z"
   },
   {
    "duration": 11,
    "start_time": "2022-04-18T19:27:12.253Z"
   },
   {
    "duration": 9,
    "start_time": "2022-04-18T19:27:12.267Z"
   },
   {
    "duration": 9,
    "start_time": "2022-04-18T19:27:12.278Z"
   },
   {
    "duration": 58,
    "start_time": "2022-04-18T19:27:12.289Z"
   },
   {
    "duration": 9,
    "start_time": "2022-04-18T19:27:12.348Z"
   },
   {
    "duration": 10,
    "start_time": "2022-04-18T19:27:12.359Z"
   },
   {
    "duration": 21,
    "start_time": "2022-04-18T19:27:12.371Z"
   },
   {
    "duration": 8,
    "start_time": "2022-04-18T19:27:12.394Z"
   },
   {
    "duration": 56,
    "start_time": "2022-04-18T19:27:12.424Z"
   },
   {
    "duration": 9,
    "start_time": "2022-04-18T19:27:12.482Z"
   },
   {
    "duration": 32,
    "start_time": "2022-04-18T19:27:12.493Z"
   },
   {
    "duration": 25,
    "start_time": "2022-04-18T19:27:12.535Z"
   },
   {
    "duration": 5,
    "start_time": "2022-04-18T19:27:12.562Z"
   },
   {
    "duration": 18,
    "start_time": "2022-04-18T19:27:12.568Z"
   },
   {
    "duration": 5,
    "start_time": "2022-04-18T19:27:12.588Z"
   },
   {
    "duration": 10,
    "start_time": "2022-04-18T19:33:03.660Z"
   },
   {
    "duration": 22,
    "start_time": "2022-04-18T19:33:07.138Z"
   },
   {
    "duration": 13,
    "start_time": "2022-04-18T19:48:24.209Z"
   },
   {
    "duration": 17,
    "start_time": "2022-04-18T19:48:26.965Z"
   },
   {
    "duration": 62,
    "start_time": "2022-04-18T19:48:33.135Z"
   },
   {
    "duration": 27,
    "start_time": "2022-04-18T19:48:33.199Z"
   },
   {
    "duration": 18,
    "start_time": "2022-04-18T19:48:33.228Z"
   },
   {
    "duration": 9,
    "start_time": "2022-04-18T19:48:33.248Z"
   },
   {
    "duration": 41,
    "start_time": "2022-04-18T19:48:33.260Z"
   },
   {
    "duration": 10,
    "start_time": "2022-04-18T19:48:33.325Z"
   },
   {
    "duration": 23,
    "start_time": "2022-04-18T19:48:33.336Z"
   },
   {
    "duration": 14,
    "start_time": "2022-04-18T19:48:33.360Z"
   },
   {
    "duration": 18,
    "start_time": "2022-04-18T19:48:33.376Z"
   },
   {
    "duration": 39,
    "start_time": "2022-04-18T19:48:33.397Z"
   },
   {
    "duration": 9,
    "start_time": "2022-04-18T19:48:33.437Z"
   },
   {
    "duration": 10,
    "start_time": "2022-04-18T19:48:33.447Z"
   },
   {
    "duration": 20,
    "start_time": "2022-04-18T19:48:33.459Z"
   },
   {
    "duration": 51,
    "start_time": "2022-04-18T19:48:33.481Z"
   },
   {
    "duration": 9,
    "start_time": "2022-04-18T19:48:33.536Z"
   },
   {
    "duration": 40,
    "start_time": "2022-04-18T19:48:33.548Z"
   },
   {
    "duration": 12,
    "start_time": "2022-04-18T19:48:33.590Z"
   },
   {
    "duration": 39,
    "start_time": "2022-04-18T19:48:33.604Z"
   },
   {
    "duration": 25,
    "start_time": "2022-04-18T19:48:33.645Z"
   },
   {
    "duration": 22,
    "start_time": "2022-04-18T19:48:35.422Z"
   },
   {
    "duration": 43,
    "start_time": "2022-04-18T19:48:36.417Z"
   },
   {
    "duration": 12,
    "start_time": "2022-04-18T19:48:40.270Z"
   },
   {
    "duration": 18,
    "start_time": "2022-04-18T19:48:43.618Z"
   },
   {
    "duration": 7,
    "start_time": "2022-04-18T19:48:51.250Z"
   },
   {
    "duration": 25,
    "start_time": "2022-04-18T19:48:53.741Z"
   },
   {
    "duration": 6,
    "start_time": "2022-04-18T19:49:08.802Z"
   },
   {
    "duration": 7,
    "start_time": "2022-04-18T19:49:12.494Z"
   },
   {
    "duration": 12,
    "start_time": "2022-04-18T19:49:13.674Z"
   },
   {
    "duration": 7,
    "start_time": "2022-04-18T19:49:15.972Z"
   },
   {
    "duration": 8,
    "start_time": "2022-04-18T19:49:17.286Z"
   },
   {
    "duration": 10,
    "start_time": "2022-04-18T19:49:20.271Z"
   },
   {
    "duration": 64,
    "start_time": "2022-04-18T19:49:26.424Z"
   },
   {
    "duration": 11,
    "start_time": "2022-04-18T19:49:33.070Z"
   },
   {
    "duration": 10,
    "start_time": "2022-04-18T19:49:34.418Z"
   },
   {
    "duration": 31,
    "start_time": "2022-04-18T19:49:35.921Z"
   },
   {
    "duration": 10,
    "start_time": "2022-04-18T19:49:38.727Z"
   },
   {
    "duration": 58,
    "start_time": "2022-04-18T19:49:42.418Z"
   },
   {
    "duration": 7,
    "start_time": "2022-04-18T19:49:53.682Z"
   },
   {
    "duration": 7,
    "start_time": "2022-04-18T19:49:54.589Z"
   },
   {
    "duration": 18,
    "start_time": "2022-04-18T19:49:58.745Z"
   },
   {
    "duration": 5,
    "start_time": "2022-04-18T19:50:08.744Z"
   },
   {
    "duration": 26,
    "start_time": "2022-04-18T19:50:09.696Z"
   },
   {
    "duration": 16,
    "start_time": "2022-04-18T19:50:30.240Z"
   },
   {
    "duration": 11,
    "start_time": "2022-04-18T19:50:36.924Z"
   },
   {
    "duration": 11,
    "start_time": "2022-04-18T19:50:47.725Z"
   },
   {
    "duration": 78,
    "start_time": "2022-04-18T19:50:59.840Z"
   },
   {
    "duration": 8,
    "start_time": "2022-04-18T19:52:54.453Z"
   },
   {
    "duration": 12,
    "start_time": "2022-04-18T19:57:52.034Z"
   },
   {
    "duration": 125,
    "start_time": "2022-04-18T19:57:55.660Z"
   },
   {
    "duration": 149,
    "start_time": "2022-04-18T19:57:59.415Z"
   },
   {
    "duration": 142,
    "start_time": "2022-04-18T19:58:07.165Z"
   },
   {
    "duration": 13,
    "start_time": "2022-04-18T19:58:41.656Z"
   },
   {
    "duration": 18,
    "start_time": "2022-04-18T20:00:33.057Z"
   },
   {
    "duration": 12,
    "start_time": "2022-04-18T20:00:42.154Z"
   },
   {
    "duration": 9,
    "start_time": "2022-04-18T20:00:48.749Z"
   },
   {
    "duration": 10,
    "start_time": "2022-04-18T20:03:43.033Z"
   },
   {
    "duration": 13,
    "start_time": "2022-04-18T20:04:03.353Z"
   },
   {
    "duration": 20,
    "start_time": "2022-04-18T20:04:12.323Z"
   },
   {
    "duration": 11,
    "start_time": "2022-04-18T20:04:28.796Z"
   },
   {
    "duration": 10,
    "start_time": "2022-04-18T20:06:10.148Z"
   },
   {
    "duration": 13,
    "start_time": "2022-04-18T20:07:59.039Z"
   },
   {
    "duration": 14,
    "start_time": "2022-04-18T20:08:18.237Z"
   },
   {
    "duration": 13,
    "start_time": "2022-04-18T20:10:41.404Z"
   },
   {
    "duration": 31,
    "start_time": "2022-04-18T20:10:53.814Z"
   },
   {
    "duration": 64,
    "start_time": "2022-04-18T20:12:09.539Z"
   },
   {
    "duration": 50,
    "start_time": "2022-04-18T20:13:20.784Z"
   },
   {
    "duration": 140,
    "start_time": "2022-04-18T20:13:30.504Z"
   },
   {
    "duration": 41,
    "start_time": "2022-04-18T20:13:41.440Z"
   },
   {
    "duration": 49,
    "start_time": "2022-04-18T20:14:20.389Z"
   },
   {
    "duration": 15,
    "start_time": "2022-04-18T20:14:44.553Z"
   },
   {
    "duration": 18,
    "start_time": "2022-04-18T20:18:45.386Z"
   },
   {
    "duration": 24,
    "start_time": "2022-04-18T20:25:11.418Z"
   },
   {
    "duration": 27,
    "start_time": "2022-04-18T20:25:42.955Z"
   },
   {
    "duration": 124,
    "start_time": "2022-04-18T20:26:38.694Z"
   },
   {
    "duration": 143,
    "start_time": "2022-04-18T20:26:52.826Z"
   },
   {
    "duration": 133,
    "start_time": "2022-04-18T20:27:07.757Z"
   },
   {
    "duration": 69,
    "start_time": "2022-04-18T20:27:13.054Z"
   },
   {
    "duration": 132,
    "start_time": "2022-04-18T20:27:58.177Z"
   },
   {
    "duration": 131,
    "start_time": "2022-04-18T20:28:08.450Z"
   },
   {
    "duration": 15,
    "start_time": "2022-04-18T20:28:14.138Z"
   },
   {
    "duration": 353,
    "start_time": "2022-04-18T20:28:33.374Z"
   },
   {
    "duration": 119,
    "start_time": "2022-04-18T20:29:08.765Z"
   },
   {
    "duration": 16,
    "start_time": "2022-04-18T20:29:23.757Z"
   },
   {
    "duration": 14,
    "start_time": "2022-04-18T20:30:26.179Z"
   },
   {
    "duration": 117,
    "start_time": "2022-04-18T20:30:41.860Z"
   },
   {
    "duration": 123,
    "start_time": "2022-04-18T20:31:21.687Z"
   },
   {
    "duration": 17,
    "start_time": "2022-04-18T20:31:27.337Z"
   },
   {
    "duration": 25,
    "start_time": "2022-04-18T20:33:24.966Z"
   },
   {
    "duration": 200,
    "start_time": "2022-04-18T20:34:21.477Z"
   },
   {
    "duration": 13,
    "start_time": "2022-04-18T20:34:54.456Z"
   },
   {
    "duration": 18,
    "start_time": "2022-04-18T20:35:36.539Z"
   },
   {
    "duration": 20,
    "start_time": "2022-04-18T20:35:49.412Z"
   },
   {
    "duration": 9,
    "start_time": "2022-04-18T20:36:31.043Z"
   },
   {
    "duration": 13,
    "start_time": "2022-04-18T20:36:40.746Z"
   },
   {
    "duration": 14,
    "start_time": "2022-04-18T20:36:54.503Z"
   },
   {
    "duration": 18,
    "start_time": "2022-04-18T20:39:06.655Z"
   },
   {
    "duration": 15,
    "start_time": "2022-04-18T20:39:26.880Z"
   },
   {
    "duration": 16,
    "start_time": "2022-04-18T20:40:19.069Z"
   },
   {
    "duration": 29,
    "start_time": "2022-04-18T20:40:46.937Z"
   },
   {
    "duration": 14,
    "start_time": "2022-04-18T20:41:25.025Z"
   },
   {
    "duration": 13,
    "start_time": "2022-04-18T20:42:24.156Z"
   },
   {
    "duration": 17,
    "start_time": "2022-04-18T20:45:48.903Z"
   },
   {
    "duration": 128,
    "start_time": "2022-04-18T20:46:12.489Z"
   },
   {
    "duration": 7,
    "start_time": "2022-04-18T20:46:17.995Z"
   },
   {
    "duration": 14,
    "start_time": "2022-04-18T20:46:27.187Z"
   },
   {
    "duration": 14,
    "start_time": "2022-04-18T20:46:39.798Z"
   },
   {
    "duration": 17,
    "start_time": "2022-04-18T20:46:47.456Z"
   },
   {
    "duration": 19,
    "start_time": "2022-04-18T20:47:04.797Z"
   },
   {
    "duration": 11,
    "start_time": "2022-04-18T20:57:16.117Z"
   },
   {
    "duration": 19,
    "start_time": "2022-04-18T21:06:27.754Z"
   },
   {
    "duration": 24,
    "start_time": "2022-04-18T21:06:34.661Z"
   },
   {
    "duration": 21,
    "start_time": "2022-04-18T21:07:13.073Z"
   },
   {
    "duration": 11,
    "start_time": "2022-04-18T21:07:34.832Z"
   },
   {
    "duration": 56,
    "start_time": "2022-04-18T21:07:41.596Z"
   },
   {
    "duration": 54,
    "start_time": "2022-04-18T21:07:58.550Z"
   },
   {
    "duration": 12,
    "start_time": "2022-04-18T21:08:08.095Z"
   },
   {
    "duration": 12,
    "start_time": "2022-04-18T21:08:14.847Z"
   },
   {
    "duration": 19,
    "start_time": "2022-04-18T21:08:21.378Z"
   },
   {
    "duration": 15,
    "start_time": "2022-04-18T21:08:47.557Z"
   },
   {
    "duration": 1157,
    "start_time": "2022-04-18T21:08:53.091Z"
   },
   {
    "duration": 20,
    "start_time": "2022-04-18T21:09:06.291Z"
   },
   {
    "duration": 18,
    "start_time": "2022-04-18T21:09:35.452Z"
   },
   {
    "duration": 10,
    "start_time": "2022-04-18T21:13:02.246Z"
   },
   {
    "duration": 10,
    "start_time": "2022-04-18T21:13:08.729Z"
   },
   {
    "duration": 7,
    "start_time": "2022-04-18T21:13:36.408Z"
   },
   {
    "duration": 12,
    "start_time": "2022-04-18T21:13:46.014Z"
   },
   {
    "duration": 14,
    "start_time": "2022-04-18T21:14:12.372Z"
   },
   {
    "duration": 19,
    "start_time": "2022-04-18T21:14:29.438Z"
   },
   {
    "duration": 14,
    "start_time": "2022-04-18T21:14:33.191Z"
   },
   {
    "duration": 23,
    "start_time": "2022-04-18T21:14:37.788Z"
   },
   {
    "duration": 16,
    "start_time": "2022-04-18T21:14:38.906Z"
   },
   {
    "duration": 10,
    "start_time": "2022-04-18T21:14:44.942Z"
   },
   {
    "duration": 12,
    "start_time": "2022-04-18T21:14:51.043Z"
   },
   {
    "duration": 10,
    "start_time": "2022-04-18T21:15:01.931Z"
   },
   {
    "duration": 9,
    "start_time": "2022-04-18T21:15:10.344Z"
   },
   {
    "duration": 9,
    "start_time": "2022-04-18T21:15:53.415Z"
   },
   {
    "duration": 7,
    "start_time": "2022-04-18T21:16:01.732Z"
   },
   {
    "duration": 2075,
    "start_time": "2022-04-18T21:17:02.789Z"
   },
   {
    "duration": 6,
    "start_time": "2022-04-18T21:17:27.440Z"
   },
   {
    "duration": 10,
    "start_time": "2022-04-18T21:17:30.784Z"
   },
   {
    "duration": 63,
    "start_time": "2022-04-18T21:17:40.386Z"
   },
   {
    "duration": 13,
    "start_time": "2022-04-18T21:17:40.451Z"
   },
   {
    "duration": 19,
    "start_time": "2022-04-18T21:17:40.466Z"
   },
   {
    "duration": 9,
    "start_time": "2022-04-18T21:17:40.487Z"
   },
   {
    "duration": 31,
    "start_time": "2022-04-18T21:17:40.524Z"
   },
   {
    "duration": 18,
    "start_time": "2022-04-18T21:17:40.557Z"
   },
   {
    "duration": 24,
    "start_time": "2022-04-18T21:17:40.576Z"
   },
   {
    "duration": 28,
    "start_time": "2022-04-18T21:17:40.601Z"
   },
   {
    "duration": 26,
    "start_time": "2022-04-18T21:17:40.630Z"
   },
   {
    "duration": 19,
    "start_time": "2022-04-18T21:17:40.659Z"
   },
   {
    "duration": 19,
    "start_time": "2022-04-18T21:17:40.680Z"
   },
   {
    "duration": 23,
    "start_time": "2022-04-18T21:17:40.701Z"
   },
   {
    "duration": 25,
    "start_time": "2022-04-18T21:17:40.725Z"
   },
   {
    "duration": 13,
    "start_time": "2022-04-18T21:17:40.751Z"
   },
   {
    "duration": 6,
    "start_time": "2022-04-18T21:17:40.766Z"
   },
   {
    "duration": 51,
    "start_time": "2022-04-18T21:17:40.774Z"
   },
   {
    "duration": 11,
    "start_time": "2022-04-18T21:17:40.827Z"
   },
   {
    "duration": 14,
    "start_time": "2022-04-18T21:17:40.840Z"
   },
   {
    "duration": 19,
    "start_time": "2022-04-18T21:17:40.856Z"
   },
   {
    "duration": 61,
    "start_time": "2022-04-18T21:17:40.877Z"
   },
   {
    "duration": 15,
    "start_time": "2022-04-18T21:17:40.940Z"
   },
   {
    "duration": 18,
    "start_time": "2022-04-18T21:17:40.956Z"
   },
   {
    "duration": 7,
    "start_time": "2022-04-18T21:17:40.975Z"
   },
   {
    "duration": 62,
    "start_time": "2022-04-18T21:17:40.984Z"
   },
   {
    "duration": 7,
    "start_time": "2022-04-18T21:17:41.049Z"
   },
   {
    "duration": 13,
    "start_time": "2022-04-18T21:17:41.058Z"
   },
   {
    "duration": 13,
    "start_time": "2022-04-18T21:17:41.073Z"
   },
   {
    "duration": 7,
    "start_time": "2022-04-18T21:17:41.090Z"
   },
   {
    "duration": 29,
    "start_time": "2022-04-18T21:17:41.098Z"
   },
   {
    "duration": 12,
    "start_time": "2022-04-18T21:17:41.129Z"
   },
   {
    "duration": 40,
    "start_time": "2022-04-18T21:17:41.143Z"
   },
   {
    "duration": 40,
    "start_time": "2022-04-18T21:17:41.185Z"
   },
   {
    "duration": 9,
    "start_time": "2022-04-18T21:17:41.227Z"
   },
   {
    "duration": 21,
    "start_time": "2022-04-18T21:17:41.238Z"
   },
   {
    "duration": 8,
    "start_time": "2022-04-18T21:17:41.261Z"
   },
   {
    "duration": 74,
    "start_time": "2022-04-18T21:17:41.271Z"
   },
   {
    "duration": 9,
    "start_time": "2022-04-18T21:17:41.347Z"
   },
   {
    "duration": 10,
    "start_time": "2022-04-18T21:17:41.357Z"
   },
   {
    "duration": 19,
    "start_time": "2022-04-18T21:17:41.369Z"
   },
   {
    "duration": 35,
    "start_time": "2022-04-18T21:17:41.390Z"
   },
   {
    "duration": 18,
    "start_time": "2022-04-18T21:17:41.427Z"
   },
   {
    "duration": 12,
    "start_time": "2022-04-18T21:17:41.447Z"
   },
   {
    "duration": 17,
    "start_time": "2022-04-18T21:17:41.461Z"
   },
   {
    "duration": 12,
    "start_time": "2022-04-18T21:17:45.348Z"
   },
   {
    "duration": 13,
    "start_time": "2022-04-18T21:18:09.326Z"
   },
   {
    "duration": 62,
    "start_time": "2022-04-18T21:18:17.192Z"
   },
   {
    "duration": 14,
    "start_time": "2022-04-18T21:18:17.256Z"
   },
   {
    "duration": 17,
    "start_time": "2022-04-18T21:18:17.272Z"
   },
   {
    "duration": 39,
    "start_time": "2022-04-18T21:18:17.291Z"
   },
   {
    "duration": 31,
    "start_time": "2022-04-18T21:18:17.332Z"
   },
   {
    "duration": 4,
    "start_time": "2022-04-18T21:18:17.365Z"
   },
   {
    "duration": 11,
    "start_time": "2022-04-18T21:18:17.371Z"
   },
   {
    "duration": 13,
    "start_time": "2022-04-18T21:18:17.384Z"
   },
   {
    "duration": 16,
    "start_time": "2022-04-18T21:18:17.425Z"
   },
   {
    "duration": 16,
    "start_time": "2022-04-18T21:18:17.443Z"
   },
   {
    "duration": 5,
    "start_time": "2022-04-18T21:18:17.461Z"
   },
   {
    "duration": 11,
    "start_time": "2022-04-18T21:18:17.467Z"
   },
   {
    "duration": 52,
    "start_time": "2022-04-18T21:18:17.480Z"
   },
   {
    "duration": 13,
    "start_time": "2022-04-18T21:18:17.533Z"
   },
   {
    "duration": 5,
    "start_time": "2022-04-18T21:18:17.547Z"
   },
   {
    "duration": 29,
    "start_time": "2022-04-18T21:18:17.553Z"
   },
   {
    "duration": 47,
    "start_time": "2022-04-18T21:18:17.584Z"
   },
   {
    "duration": 19,
    "start_time": "2022-04-18T21:18:17.633Z"
   },
   {
    "duration": 23,
    "start_time": "2022-04-18T21:18:17.655Z"
   },
   {
    "duration": 64,
    "start_time": "2022-04-18T21:18:17.680Z"
   },
   {
    "duration": 11,
    "start_time": "2022-04-18T21:18:17.746Z"
   },
   {
    "duration": 14,
    "start_time": "2022-04-18T21:18:17.759Z"
   },
   {
    "duration": 5,
    "start_time": "2022-04-18T21:18:17.774Z"
   },
   {
    "duration": 45,
    "start_time": "2022-04-18T21:18:17.780Z"
   },
   {
    "duration": 6,
    "start_time": "2022-04-18T21:18:17.827Z"
   },
   {
    "duration": 10,
    "start_time": "2022-04-18T21:18:17.835Z"
   },
   {
    "duration": 19,
    "start_time": "2022-04-18T21:18:17.846Z"
   },
   {
    "duration": 6,
    "start_time": "2022-04-18T21:18:17.869Z"
   },
   {
    "duration": 8,
    "start_time": "2022-04-18T21:18:17.876Z"
   },
   {
    "duration": 39,
    "start_time": "2022-04-18T21:18:17.885Z"
   },
   {
    "duration": 31,
    "start_time": "2022-04-18T21:18:17.925Z"
   },
   {
    "duration": 8,
    "start_time": "2022-04-18T21:18:17.958Z"
   },
   {
    "duration": 8,
    "start_time": "2022-04-18T21:18:17.968Z"
   },
   {
    "duration": 51,
    "start_time": "2022-04-18T21:18:17.978Z"
   },
   {
    "duration": 7,
    "start_time": "2022-04-18T21:18:18.031Z"
   },
   {
    "duration": 40,
    "start_time": "2022-04-18T21:18:18.039Z"
   },
   {
    "duration": 8,
    "start_time": "2022-04-18T21:18:18.081Z"
   },
   {
    "duration": 33,
    "start_time": "2022-04-18T21:18:18.091Z"
   },
   {
    "duration": 18,
    "start_time": "2022-04-18T21:18:18.125Z"
   },
   {
    "duration": 8,
    "start_time": "2022-04-18T21:18:18.145Z"
   },
   {
    "duration": 16,
    "start_time": "2022-04-18T21:18:18.155Z"
   },
   {
    "duration": 11,
    "start_time": "2022-04-18T21:18:18.172Z"
   },
   {
    "duration": 48,
    "start_time": "2022-04-18T21:18:18.185Z"
   },
   {
    "duration": 17,
    "start_time": "2022-04-18T21:18:22.481Z"
   },
   {
    "duration": 11,
    "start_time": "2022-04-18T21:18:23.081Z"
   },
   {
    "duration": 15,
    "start_time": "2022-04-18T21:29:51.455Z"
   },
   {
    "duration": 11,
    "start_time": "2022-04-18T21:30:23.755Z"
   },
   {
    "duration": 13,
    "start_time": "2022-04-18T21:30:34.805Z"
   },
   {
    "duration": 1995,
    "start_time": "2022-04-18T21:30:42.405Z"
   },
   {
    "duration": 8,
    "start_time": "2022-04-18T21:31:56.885Z"
   },
   {
    "duration": 7,
    "start_time": "2022-04-18T21:32:20.324Z"
   },
   {
    "duration": 9,
    "start_time": "2022-04-18T21:32:28.305Z"
   },
   {
    "duration": 7,
    "start_time": "2022-04-18T21:32:33.995Z"
   },
   {
    "duration": 2086,
    "start_time": "2022-04-18T21:34:13.151Z"
   },
   {
    "duration": 8,
    "start_time": "2022-04-18T21:34:33.415Z"
   },
   {
    "duration": 60,
    "start_time": "2022-04-18T21:34:39.015Z"
   },
   {
    "duration": 11,
    "start_time": "2022-04-18T21:34:39.077Z"
   },
   {
    "duration": 34,
    "start_time": "2022-04-18T21:34:39.090Z"
   },
   {
    "duration": 4,
    "start_time": "2022-04-18T21:34:39.127Z"
   },
   {
    "duration": 30,
    "start_time": "2022-04-18T21:34:39.135Z"
   },
   {
    "duration": 4,
    "start_time": "2022-04-18T21:34:39.166Z"
   },
   {
    "duration": 9,
    "start_time": "2022-04-18T21:34:39.172Z"
   },
   {
    "duration": 46,
    "start_time": "2022-04-18T21:34:39.182Z"
   },
   {
    "duration": 16,
    "start_time": "2022-04-18T21:34:39.230Z"
   },
   {
    "duration": 15,
    "start_time": "2022-04-18T21:34:39.249Z"
   },
   {
    "duration": 8,
    "start_time": "2022-04-18T21:34:39.266Z"
   },
   {
    "duration": 6,
    "start_time": "2022-04-18T21:34:39.275Z"
   },
   {
    "duration": 52,
    "start_time": "2022-04-18T21:34:39.283Z"
   },
   {
    "duration": 13,
    "start_time": "2022-04-18T21:34:39.337Z"
   },
   {
    "duration": 4,
    "start_time": "2022-04-18T21:34:39.352Z"
   },
   {
    "duration": 28,
    "start_time": "2022-04-18T21:34:39.358Z"
   },
   {
    "duration": 44,
    "start_time": "2022-04-18T21:34:39.388Z"
   },
   {
    "duration": 19,
    "start_time": "2022-04-18T21:34:39.434Z"
   },
   {
    "duration": 24,
    "start_time": "2022-04-18T21:34:39.455Z"
   },
   {
    "duration": 71,
    "start_time": "2022-04-18T21:34:39.481Z"
   },
   {
    "duration": 15,
    "start_time": "2022-04-18T21:34:39.555Z"
   },
   {
    "duration": 14,
    "start_time": "2022-04-18T21:34:39.571Z"
   },
   {
    "duration": 4,
    "start_time": "2022-04-18T21:34:39.587Z"
   },
   {
    "duration": 40,
    "start_time": "2022-04-18T21:34:39.593Z"
   },
   {
    "duration": 6,
    "start_time": "2022-04-18T21:34:39.635Z"
   },
   {
    "duration": 9,
    "start_time": "2022-04-18T21:34:39.642Z"
   },
   {
    "duration": 13,
    "start_time": "2022-04-18T21:34:39.652Z"
   },
   {
    "duration": 7,
    "start_time": "2022-04-18T21:34:39.670Z"
   },
   {
    "duration": 7,
    "start_time": "2022-04-18T21:34:39.678Z"
   },
   {
    "duration": 39,
    "start_time": "2022-04-18T21:34:39.687Z"
   },
   {
    "duration": 28,
    "start_time": "2022-04-18T21:34:39.728Z"
   },
   {
    "duration": 6,
    "start_time": "2022-04-18T21:34:39.757Z"
   },
   {
    "duration": 6,
    "start_time": "2022-04-18T21:34:39.765Z"
   },
   {
    "duration": 20,
    "start_time": "2022-04-18T21:34:39.773Z"
   },
   {
    "duration": 36,
    "start_time": "2022-04-18T21:34:39.794Z"
   },
   {
    "duration": 37,
    "start_time": "2022-04-18T21:34:39.831Z"
   },
   {
    "duration": 7,
    "start_time": "2022-04-18T21:34:39.870Z"
   },
   {
    "duration": 10,
    "start_time": "2022-04-18T21:34:39.879Z"
   },
   {
    "duration": 47,
    "start_time": "2022-04-18T21:34:39.891Z"
   },
   {
    "duration": 4,
    "start_time": "2022-04-18T21:34:39.939Z"
   },
   {
    "duration": 19,
    "start_time": "2022-04-18T21:34:39.945Z"
   },
   {
    "duration": 11,
    "start_time": "2022-04-18T21:34:39.965Z"
   },
   {
    "duration": 19,
    "start_time": "2022-04-18T21:34:39.978Z"
   },
   {
    "duration": 28,
    "start_time": "2022-04-18T21:34:39.998Z"
   },
   {
    "duration": 10,
    "start_time": "2022-04-18T21:37:36.887Z"
   },
   {
    "duration": 19,
    "start_time": "2022-04-18T21:37:46.185Z"
   },
   {
    "duration": 16,
    "start_time": "2022-04-18T21:37:58.656Z"
   },
   {
    "duration": 1949,
    "start_time": "2022-04-18T21:38:05.826Z"
   },
   {
    "duration": 18,
    "start_time": "2022-04-18T21:38:19.264Z"
   },
   {
    "duration": 17,
    "start_time": "2022-04-18T21:38:46.214Z"
   },
   {
    "duration": 67,
    "start_time": "2022-04-18T21:38:52.122Z"
   },
   {
    "duration": 12,
    "start_time": "2022-04-18T21:38:52.192Z"
   },
   {
    "duration": 30,
    "start_time": "2022-04-18T21:38:52.205Z"
   },
   {
    "duration": 8,
    "start_time": "2022-04-18T21:38:52.237Z"
   },
   {
    "duration": 30,
    "start_time": "2022-04-18T21:38:52.247Z"
   },
   {
    "duration": 4,
    "start_time": "2022-04-18T21:38:52.278Z"
   },
   {
    "duration": 44,
    "start_time": "2022-04-18T21:38:52.284Z"
   },
   {
    "duration": 11,
    "start_time": "2022-04-18T21:38:52.329Z"
   },
   {
    "duration": 16,
    "start_time": "2022-04-18T21:38:52.341Z"
   },
   {
    "duration": 16,
    "start_time": "2022-04-18T21:38:52.360Z"
   },
   {
    "duration": 6,
    "start_time": "2022-04-18T21:38:52.377Z"
   },
   {
    "duration": 46,
    "start_time": "2022-04-18T21:38:52.384Z"
   },
   {
    "duration": 24,
    "start_time": "2022-04-18T21:38:52.431Z"
   },
   {
    "duration": 15,
    "start_time": "2022-04-18T21:38:52.458Z"
   },
   {
    "duration": 6,
    "start_time": "2022-04-18T21:38:52.475Z"
   },
   {
    "duration": 57,
    "start_time": "2022-04-18T21:38:52.483Z"
   },
   {
    "duration": 11,
    "start_time": "2022-04-18T21:38:52.543Z"
   },
   {
    "duration": 14,
    "start_time": "2022-04-18T21:38:52.556Z"
   },
   {
    "duration": 17,
    "start_time": "2022-04-18T21:38:52.573Z"
   },
   {
    "duration": 33,
    "start_time": "2022-04-18T21:38:52.623Z"
   },
   {
    "duration": 12,
    "start_time": "2022-04-18T21:38:52.658Z"
   },
   {
    "duration": 13,
    "start_time": "2022-04-18T21:38:52.672Z"
   },
   {
    "duration": 38,
    "start_time": "2022-04-18T21:38:52.687Z"
   },
   {
    "duration": 17,
    "start_time": "2022-04-18T21:38:52.727Z"
   },
   {
    "duration": 5,
    "start_time": "2022-04-18T21:38:52.746Z"
   },
   {
    "duration": 9,
    "start_time": "2022-04-18T21:38:52.753Z"
   },
   {
    "duration": 17,
    "start_time": "2022-04-18T21:38:52.764Z"
   },
   {
    "duration": 6,
    "start_time": "2022-04-18T21:38:52.786Z"
   },
   {
    "duration": 8,
    "start_time": "2022-04-18T21:38:52.823Z"
   },
   {
    "duration": 8,
    "start_time": "2022-04-18T21:38:52.832Z"
   },
   {
    "duration": 35,
    "start_time": "2022-04-18T21:38:52.841Z"
   },
   {
    "duration": 9,
    "start_time": "2022-04-18T21:38:52.878Z"
   },
   {
    "duration": 41,
    "start_time": "2022-04-18T21:38:52.889Z"
   },
   {
    "duration": 28,
    "start_time": "2022-04-18T21:38:52.932Z"
   },
   {
    "duration": 9,
    "start_time": "2022-04-18T21:38:52.962Z"
   },
   {
    "duration": 81,
    "start_time": "2022-04-18T21:38:52.973Z"
   },
   {
    "duration": 9,
    "start_time": "2022-04-18T21:38:53.056Z"
   },
   {
    "duration": 9,
    "start_time": "2022-04-18T21:38:53.067Z"
   },
   {
    "duration": 18,
    "start_time": "2022-04-18T21:38:53.077Z"
   },
   {
    "duration": 5,
    "start_time": "2022-04-18T21:38:53.123Z"
   },
   {
    "duration": 16,
    "start_time": "2022-04-18T21:38:53.130Z"
   },
   {
    "duration": 14,
    "start_time": "2022-04-18T21:38:53.148Z"
   },
   {
    "duration": 21,
    "start_time": "2022-04-18T21:38:53.164Z"
   },
   {
    "duration": 38,
    "start_time": "2022-04-18T21:38:53.187Z"
   },
   {
    "duration": 8,
    "start_time": "2022-04-18T21:38:54.903Z"
   },
   {
    "duration": 17,
    "start_time": "2022-04-18T21:38:55.699Z"
   },
   {
    "duration": 60,
    "start_time": "2022-04-18T21:39:05.361Z"
   },
   {
    "duration": 12,
    "start_time": "2022-04-18T21:39:05.423Z"
   },
   {
    "duration": 14,
    "start_time": "2022-04-18T21:39:05.437Z"
   },
   {
    "duration": 5,
    "start_time": "2022-04-18T21:39:05.453Z"
   },
   {
    "duration": 31,
    "start_time": "2022-04-18T21:39:05.459Z"
   },
   {
    "duration": 5,
    "start_time": "2022-04-18T21:39:05.525Z"
   },
   {
    "duration": 8,
    "start_time": "2022-04-18T21:39:05.532Z"
   },
   {
    "duration": 12,
    "start_time": "2022-04-18T21:39:05.542Z"
   },
   {
    "duration": 17,
    "start_time": "2022-04-18T21:39:05.556Z"
   },
   {
    "duration": 16,
    "start_time": "2022-04-18T21:39:05.576Z"
   },
   {
    "duration": 7,
    "start_time": "2022-04-18T21:39:05.624Z"
   },
   {
    "duration": 7,
    "start_time": "2022-04-18T21:39:05.633Z"
   },
   {
    "duration": 19,
    "start_time": "2022-04-18T21:39:05.642Z"
   },
   {
    "duration": 13,
    "start_time": "2022-04-18T21:39:05.663Z"
   },
   {
    "duration": 6,
    "start_time": "2022-04-18T21:39:05.677Z"
   },
   {
    "duration": 24,
    "start_time": "2022-04-18T21:39:05.724Z"
   },
   {
    "duration": 10,
    "start_time": "2022-04-18T21:39:05.749Z"
   },
   {
    "duration": 14,
    "start_time": "2022-04-18T21:39:05.761Z"
   },
   {
    "duration": 47,
    "start_time": "2022-04-18T21:39:05.777Z"
   },
   {
    "duration": 34,
    "start_time": "2022-04-18T21:39:05.826Z"
   },
   {
    "duration": 12,
    "start_time": "2022-04-18T21:39:05.862Z"
   },
   {
    "duration": 13,
    "start_time": "2022-04-18T21:39:05.876Z"
   },
   {
    "duration": 32,
    "start_time": "2022-04-18T21:39:05.891Z"
   },
   {
    "duration": 18,
    "start_time": "2022-04-18T21:39:05.926Z"
   },
   {
    "duration": 5,
    "start_time": "2022-04-18T21:39:05.946Z"
   },
   {
    "duration": 8,
    "start_time": "2022-04-18T21:39:05.953Z"
   },
   {
    "duration": 12,
    "start_time": "2022-04-18T21:39:05.963Z"
   },
   {
    "duration": 5,
    "start_time": "2022-04-18T21:39:05.979Z"
   },
   {
    "duration": 40,
    "start_time": "2022-04-18T21:39:05.985Z"
   },
   {
    "duration": 8,
    "start_time": "2022-04-18T21:39:06.028Z"
   },
   {
    "duration": 30,
    "start_time": "2022-04-18T21:39:06.038Z"
   },
   {
    "duration": 7,
    "start_time": "2022-04-18T21:39:06.070Z"
   },
   {
    "duration": 46,
    "start_time": "2022-04-18T21:39:06.078Z"
   },
   {
    "duration": 19,
    "start_time": "2022-04-18T21:39:06.125Z"
   },
   {
    "duration": 8,
    "start_time": "2022-04-18T21:39:06.146Z"
   },
   {
    "duration": 36,
    "start_time": "2022-04-18T21:39:06.156Z"
   },
   {
    "duration": 36,
    "start_time": "2022-04-18T21:39:06.194Z"
   },
   {
    "duration": 8,
    "start_time": "2022-04-18T21:39:06.233Z"
   },
   {
    "duration": 26,
    "start_time": "2022-04-18T21:39:06.243Z"
   },
   {
    "duration": 5,
    "start_time": "2022-04-18T21:39:06.271Z"
   },
   {
    "duration": 58,
    "start_time": "2022-04-18T21:39:06.278Z"
   },
   {
    "duration": 17,
    "start_time": "2022-04-18T21:39:06.338Z"
   },
   {
    "duration": 25,
    "start_time": "2022-04-18T21:39:06.358Z"
   },
   {
    "duration": 9,
    "start_time": "2022-04-18T21:39:06.385Z"
   },
   {
    "duration": 10,
    "start_time": "2022-04-18T21:39:12.981Z"
   },
   {
    "duration": 16,
    "start_time": "2022-04-18T21:39:13.553Z"
   },
   {
    "duration": 19,
    "start_time": "2022-04-18T21:39:19.263Z"
   },
   {
    "duration": 33,
    "start_time": "2022-04-18T21:42:46.104Z"
   },
   {
    "duration": 59,
    "start_time": "2022-04-18T21:43:02.603Z"
   },
   {
    "duration": 12,
    "start_time": "2022-04-18T21:43:02.664Z"
   },
   {
    "duration": 14,
    "start_time": "2022-04-18T21:43:02.677Z"
   },
   {
    "duration": 34,
    "start_time": "2022-04-18T21:43:02.693Z"
   },
   {
    "duration": 48,
    "start_time": "2022-04-18T21:43:02.730Z"
   },
   {
    "duration": 4,
    "start_time": "2022-04-18T21:43:02.781Z"
   },
   {
    "duration": 37,
    "start_time": "2022-04-18T21:43:02.787Z"
   },
   {
    "duration": 12,
    "start_time": "2022-04-18T21:43:02.826Z"
   },
   {
    "duration": 16,
    "start_time": "2022-04-18T21:43:02.840Z"
   },
   {
    "duration": 20,
    "start_time": "2022-04-18T21:43:02.860Z"
   },
   {
    "duration": 7,
    "start_time": "2022-04-18T21:43:02.881Z"
   },
   {
    "duration": 41,
    "start_time": "2022-04-18T21:43:02.890Z"
   },
   {
    "duration": 20,
    "start_time": "2022-04-18T21:43:02.934Z"
   },
   {
    "duration": 14,
    "start_time": "2022-04-18T21:43:02.955Z"
   },
   {
    "duration": 5,
    "start_time": "2022-04-18T21:43:02.970Z"
   },
   {
    "duration": 65,
    "start_time": "2022-04-18T21:43:02.976Z"
   },
   {
    "duration": 12,
    "start_time": "2022-04-18T21:43:03.042Z"
   },
   {
    "duration": 18,
    "start_time": "2022-04-18T21:43:03.056Z"
   },
   {
    "duration": 23,
    "start_time": "2022-04-18T21:43:03.076Z"
   },
   {
    "duration": 47,
    "start_time": "2022-04-18T21:43:03.125Z"
   },
   {
    "duration": 16,
    "start_time": "2022-04-18T21:43:03.174Z"
   },
   {
    "duration": 40,
    "start_time": "2022-04-18T21:43:03.192Z"
   },
   {
    "duration": 6,
    "start_time": "2022-04-18T21:43:03.235Z"
   },
   {
    "duration": 25,
    "start_time": "2022-04-18T21:43:03.243Z"
   },
   {
    "duration": 7,
    "start_time": "2022-04-18T21:43:03.270Z"
   },
   {
    "duration": 6,
    "start_time": "2022-04-18T21:43:03.278Z"
   },
   {
    "duration": 46,
    "start_time": "2022-04-18T21:43:03.285Z"
   },
   {
    "duration": 9,
    "start_time": "2022-04-18T21:43:03.336Z"
   },
   {
    "duration": 8,
    "start_time": "2022-04-18T21:43:03.347Z"
   },
   {
    "duration": 9,
    "start_time": "2022-04-18T21:43:03.357Z"
   },
   {
    "duration": 71,
    "start_time": "2022-04-18T21:43:03.368Z"
   },
   {
    "duration": 9,
    "start_time": "2022-04-18T21:43:03.441Z"
   },
   {
    "duration": 7,
    "start_time": "2022-04-18T21:43:03.452Z"
   },
   {
    "duration": 18,
    "start_time": "2022-04-18T21:43:03.461Z"
   },
   {
    "duration": 6,
    "start_time": "2022-04-18T21:43:03.481Z"
   },
   {
    "duration": 39,
    "start_time": "2022-04-18T21:43:03.524Z"
   },
   {
    "duration": 7,
    "start_time": "2022-04-18T21:43:03.565Z"
   },
   {
    "duration": 12,
    "start_time": "2022-04-18T21:43:03.574Z"
   },
   {
    "duration": 43,
    "start_time": "2022-04-18T21:43:03.587Z"
   },
   {
    "duration": 4,
    "start_time": "2022-04-18T21:43:03.632Z"
   },
   {
    "duration": 17,
    "start_time": "2022-04-18T21:43:03.638Z"
   },
   {
    "duration": 10,
    "start_time": "2022-04-18T21:43:03.657Z"
   },
   {
    "duration": 10,
    "start_time": "2022-04-18T21:43:05.035Z"
   },
   {
    "duration": 35,
    "start_time": "2022-04-18T21:43:06.334Z"
   },
   {
    "duration": 36,
    "start_time": "2022-04-18T21:44:01.903Z"
   },
   {
    "duration": 35,
    "start_time": "2022-04-18T21:44:14.392Z"
   },
   {
    "duration": 37,
    "start_time": "2022-04-18T21:44:20.460Z"
   },
   {
    "duration": 34,
    "start_time": "2022-04-18T21:44:25.828Z"
   },
   {
    "duration": 35,
    "start_time": "2022-04-18T21:44:50.348Z"
   },
   {
    "duration": 36,
    "start_time": "2022-04-18T21:45:39.924Z"
   },
   {
    "duration": 8,
    "start_time": "2022-04-18T21:46:03.248Z"
   },
   {
    "duration": 36,
    "start_time": "2022-04-18T21:46:09.438Z"
   },
   {
    "duration": 68,
    "start_time": "2022-04-18T21:49:13.756Z"
   },
   {
    "duration": 28,
    "start_time": "2022-04-18T21:49:44.684Z"
   },
   {
    "duration": 28,
    "start_time": "2022-04-18T21:50:04.138Z"
   },
   {
    "duration": 447,
    "start_time": "2022-04-19T02:10:23.621Z"
   },
   {
    "duration": 18,
    "start_time": "2022-04-19T02:10:24.069Z"
   },
   {
    "duration": 13,
    "start_time": "2022-04-19T02:10:24.088Z"
   },
   {
    "duration": 5,
    "start_time": "2022-04-19T02:10:24.102Z"
   },
   {
    "duration": 41,
    "start_time": "2022-04-19T02:10:24.108Z"
   },
   {
    "duration": 4,
    "start_time": "2022-04-19T02:10:24.150Z"
   },
   {
    "duration": 7,
    "start_time": "2022-04-19T02:10:24.155Z"
   },
   {
    "duration": 9,
    "start_time": "2022-04-19T02:10:24.163Z"
   },
   {
    "duration": 16,
    "start_time": "2022-04-19T02:10:24.174Z"
   },
   {
    "duration": 16,
    "start_time": "2022-04-19T02:10:24.225Z"
   },
   {
    "duration": 5,
    "start_time": "2022-04-19T02:10:24.242Z"
   },
   {
    "duration": 8,
    "start_time": "2022-04-19T02:10:24.248Z"
   },
   {
    "duration": 18,
    "start_time": "2022-04-19T02:10:24.257Z"
   },
   {
    "duration": 12,
    "start_time": "2022-04-19T02:10:24.277Z"
   },
   {
    "duration": 36,
    "start_time": "2022-04-19T02:10:24.290Z"
   },
   {
    "duration": 24,
    "start_time": "2022-04-19T02:10:24.328Z"
   },
   {
    "duration": 8,
    "start_time": "2022-04-19T02:10:24.354Z"
   },
   {
    "duration": 12,
    "start_time": "2022-04-19T02:10:24.363Z"
   },
   {
    "duration": 16,
    "start_time": "2022-04-19T02:10:24.377Z"
   },
   {
    "duration": 33,
    "start_time": "2022-04-19T02:10:24.424Z"
   },
   {
    "duration": 11,
    "start_time": "2022-04-19T02:10:24.458Z"
   },
   {
    "duration": 12,
    "start_time": "2022-04-19T02:10:24.470Z"
   },
   {
    "duration": 5,
    "start_time": "2022-04-19T02:10:24.483Z"
   },
   {
    "duration": 47,
    "start_time": "2022-04-19T02:10:24.489Z"
   },
   {
    "duration": 5,
    "start_time": "2022-04-19T02:10:24.537Z"
   },
   {
    "duration": 5,
    "start_time": "2022-04-19T02:10:24.544Z"
   },
   {
    "duration": 11,
    "start_time": "2022-04-19T02:10:24.551Z"
   },
   {
    "duration": 5,
    "start_time": "2022-04-19T02:10:24.565Z"
   },
   {
    "duration": 6,
    "start_time": "2022-04-19T02:10:24.571Z"
   },
   {
    "duration": 6,
    "start_time": "2022-04-19T02:10:24.578Z"
   },
   {
    "duration": 58,
    "start_time": "2022-04-19T02:10:24.585Z"
   },
   {
    "duration": 6,
    "start_time": "2022-04-19T02:10:24.645Z"
   },
   {
    "duration": 6,
    "start_time": "2022-04-19T02:10:24.653Z"
   },
   {
    "duration": 18,
    "start_time": "2022-04-19T02:10:24.660Z"
   },
   {
    "duration": 5,
    "start_time": "2022-04-19T02:10:24.680Z"
   },
   {
    "duration": 71,
    "start_time": "2022-04-19T02:10:24.686Z"
   },
   {
    "duration": 7,
    "start_time": "2022-04-19T02:10:24.758Z"
   },
   {
    "duration": 7,
    "start_time": "2022-04-19T02:10:24.766Z"
   },
   {
    "duration": 15,
    "start_time": "2022-04-19T02:10:24.775Z"
   },
   {
    "duration": 3,
    "start_time": "2022-04-19T02:10:24.792Z"
   },
   {
    "duration": 13,
    "start_time": "2022-04-19T02:10:24.823Z"
   },
   {
    "duration": 10,
    "start_time": "2022-04-19T02:10:24.837Z"
   },
   {
    "duration": 29,
    "start_time": "2022-04-19T02:10:24.849Z"
   },
   {
    "duration": 6,
    "start_time": "2022-04-19T02:10:24.880Z"
   },
   {
    "duration": 45,
    "start_time": "2022-04-19T02:10:24.887Z"
   },
   {
    "duration": 25,
    "start_time": "2022-04-19T02:15:48.040Z"
   },
   {
    "duration": 64,
    "start_time": "2022-04-19T02:18:24.704Z"
   },
   {
    "duration": 14,
    "start_time": "2022-04-19T02:20:00.546Z"
   },
   {
    "duration": 136,
    "start_time": "2022-04-19T02:20:31.749Z"
   },
   {
    "duration": 119,
    "start_time": "2022-04-19T02:20:37.487Z"
   },
   {
    "duration": 20,
    "start_time": "2022-04-19T02:21:07.682Z"
   },
   {
    "duration": 132,
    "start_time": "2022-04-19T02:23:00.381Z"
   },
   {
    "duration": 119,
    "start_time": "2022-04-19T02:23:07.427Z"
   },
   {
    "duration": 32,
    "start_time": "2022-04-19T02:23:10.397Z"
   },
   {
    "duration": 38,
    "start_time": "2022-04-19T02:23:24.248Z"
   },
   {
    "duration": 37,
    "start_time": "2022-04-19T02:23:31.936Z"
   },
   {
    "duration": 17,
    "start_time": "2022-04-19T02:23:51.060Z"
   },
   {
    "duration": 15,
    "start_time": "2022-04-19T02:24:24.451Z"
   },
   {
    "duration": 14,
    "start_time": "2022-04-19T02:24:48.566Z"
   },
   {
    "duration": 130,
    "start_time": "2022-04-19T02:25:00.096Z"
   },
   {
    "duration": 16,
    "start_time": "2022-04-19T02:25:13.968Z"
   },
   {
    "duration": 16,
    "start_time": "2022-04-19T02:25:24.222Z"
   },
   {
    "duration": 23,
    "start_time": "2022-04-19T02:28:19.674Z"
   },
   {
    "duration": 30,
    "start_time": "2022-04-19T02:31:07.506Z"
   },
   {
    "duration": 57,
    "start_time": "2022-04-19T02:31:21.603Z"
   },
   {
    "duration": 11,
    "start_time": "2022-04-19T02:31:21.662Z"
   },
   {
    "duration": 15,
    "start_time": "2022-04-19T02:31:21.674Z"
   },
   {
    "duration": 4,
    "start_time": "2022-04-19T02:31:21.690Z"
   },
   {
    "duration": 28,
    "start_time": "2022-04-19T02:31:21.723Z"
   },
   {
    "duration": 4,
    "start_time": "2022-04-19T02:31:21.752Z"
   },
   {
    "duration": 8,
    "start_time": "2022-04-19T02:31:21.757Z"
   },
   {
    "duration": 13,
    "start_time": "2022-04-19T02:31:21.766Z"
   },
   {
    "duration": 14,
    "start_time": "2022-04-19T02:31:21.780Z"
   },
   {
    "duration": 41,
    "start_time": "2022-04-19T02:31:21.795Z"
   },
   {
    "duration": 5,
    "start_time": "2022-04-19T02:31:21.837Z"
   },
   {
    "duration": 11,
    "start_time": "2022-04-19T02:31:21.844Z"
   },
   {
    "duration": 17,
    "start_time": "2022-04-19T02:31:21.856Z"
   },
   {
    "duration": 12,
    "start_time": "2022-04-19T02:31:21.876Z"
   },
   {
    "duration": 5,
    "start_time": "2022-04-19T02:31:21.889Z"
   },
   {
    "duration": 50,
    "start_time": "2022-04-19T02:31:21.895Z"
   },
   {
    "duration": 8,
    "start_time": "2022-04-19T02:31:21.946Z"
   },
   {
    "duration": 12,
    "start_time": "2022-04-19T02:31:21.955Z"
   },
   {
    "duration": 15,
    "start_time": "2022-04-19T02:31:21.968Z"
   },
   {
    "duration": 63,
    "start_time": "2022-04-19T02:31:21.984Z"
   },
   {
    "duration": 11,
    "start_time": "2022-04-19T02:31:22.049Z"
   },
   {
    "duration": 12,
    "start_time": "2022-04-19T02:31:22.061Z"
   },
   {
    "duration": 5,
    "start_time": "2022-04-19T02:31:22.074Z"
   },
   {
    "duration": 17,
    "start_time": "2022-04-19T02:31:22.080Z"
   },
   {
    "duration": 6,
    "start_time": "2022-04-19T02:31:22.123Z"
   },
   {
    "duration": 8,
    "start_time": "2022-04-19T02:31:22.131Z"
   },
   {
    "duration": 15,
    "start_time": "2022-04-19T02:31:22.141Z"
   },
   {
    "duration": 8,
    "start_time": "2022-04-19T02:31:22.158Z"
   },
   {
    "duration": 7,
    "start_time": "2022-04-19T02:31:22.167Z"
   },
   {
    "duration": 7,
    "start_time": "2022-04-19T02:31:22.175Z"
   },
   {
    "duration": 54,
    "start_time": "2022-04-19T02:31:22.183Z"
   },
   {
    "duration": 6,
    "start_time": "2022-04-19T02:31:22.239Z"
   },
   {
    "duration": 8,
    "start_time": "2022-04-19T02:31:22.247Z"
   },
   {
    "duration": 19,
    "start_time": "2022-04-19T02:31:22.257Z"
   },
   {
    "duration": 6,
    "start_time": "2022-04-19T02:31:22.277Z"
   },
   {
    "duration": 99,
    "start_time": "2022-04-19T02:31:22.284Z"
   },
   {
    "duration": 6,
    "start_time": "2022-04-19T02:31:22.385Z"
   },
   {
    "duration": 8,
    "start_time": "2022-04-19T02:31:22.392Z"
   },
   {
    "duration": 36,
    "start_time": "2022-04-19T02:31:22.402Z"
   },
   {
    "duration": 6,
    "start_time": "2022-04-19T02:31:22.439Z"
   },
   {
    "duration": 16,
    "start_time": "2022-04-19T02:31:22.449Z"
   },
   {
    "duration": 11,
    "start_time": "2022-04-19T02:31:22.466Z"
   },
   {
    "duration": 29,
    "start_time": "2022-04-19T02:31:25.289Z"
   },
   {
    "duration": 16,
    "start_time": "2022-04-19T02:31:37.797Z"
   },
   {
    "duration": 14,
    "start_time": "2022-04-19T02:31:46.051Z"
   },
   {
    "duration": 27,
    "start_time": "2022-04-19T02:32:25.375Z"
   },
   {
    "duration": 15,
    "start_time": "2022-04-19T02:32:40.872Z"
   },
   {
    "duration": 1516,
    "start_time": "2022-04-19T02:34:00.783Z"
   },
   {
    "duration": 12,
    "start_time": "2022-04-19T02:34:10.231Z"
   },
   {
    "duration": 6,
    "start_time": "2022-04-19T02:34:14.247Z"
   },
   {
    "duration": 13,
    "start_time": "2022-04-19T02:35:15.274Z"
   },
   {
    "duration": 7,
    "start_time": "2022-04-19T02:35:16.496Z"
   },
   {
    "duration": 14,
    "start_time": "2022-04-19T02:39:05.122Z"
   },
   {
    "duration": 18,
    "start_time": "2022-04-19T02:39:17.260Z"
   },
   {
    "duration": 16,
    "start_time": "2022-04-19T02:42:21.059Z"
   },
   {
    "duration": 16,
    "start_time": "2022-04-19T02:42:27.969Z"
   },
   {
    "duration": 19,
    "start_time": "2022-04-19T02:42:36.625Z"
   },
   {
    "duration": 17,
    "start_time": "2022-04-19T02:47:59.295Z"
   },
   {
    "duration": 18,
    "start_time": "2022-04-19T02:49:06.724Z"
   },
   {
    "duration": 19,
    "start_time": "2022-04-19T02:59:19.297Z"
   },
   {
    "duration": 19,
    "start_time": "2022-04-19T03:02:22.173Z"
   },
   {
    "duration": 21,
    "start_time": "2022-04-19T03:02:26.311Z"
   },
   {
    "duration": 18,
    "start_time": "2022-04-19T03:04:42.538Z"
   },
   {
    "duration": 18,
    "start_time": "2022-04-19T03:23:41.764Z"
   },
   {
    "duration": 19,
    "start_time": "2022-04-19T03:24:04.406Z"
   },
   {
    "duration": 19,
    "start_time": "2022-04-19T03:24:15.030Z"
   },
   {
    "duration": 56,
    "start_time": "2022-04-19T03:24:19.670Z"
   },
   {
    "duration": 10,
    "start_time": "2022-04-19T03:24:19.728Z"
   },
   {
    "duration": 14,
    "start_time": "2022-04-19T03:24:19.740Z"
   },
   {
    "duration": 8,
    "start_time": "2022-04-19T03:24:19.756Z"
   },
   {
    "duration": 27,
    "start_time": "2022-04-19T03:24:19.765Z"
   },
   {
    "duration": 33,
    "start_time": "2022-04-19T03:24:19.793Z"
   },
   {
    "duration": 6,
    "start_time": "2022-04-19T03:24:19.828Z"
   },
   {
    "duration": 11,
    "start_time": "2022-04-19T03:24:19.836Z"
   },
   {
    "duration": 15,
    "start_time": "2022-04-19T03:24:19.849Z"
   },
   {
    "duration": 15,
    "start_time": "2022-04-19T03:24:19.867Z"
   },
   {
    "duration": 42,
    "start_time": "2022-04-19T03:24:19.884Z"
   },
   {
    "duration": 7,
    "start_time": "2022-04-19T03:24:19.928Z"
   },
   {
    "duration": 19,
    "start_time": "2022-04-19T03:24:19.937Z"
   },
   {
    "duration": 13,
    "start_time": "2022-04-19T03:24:19.957Z"
   },
   {
    "duration": 5,
    "start_time": "2022-04-19T03:24:19.971Z"
   },
   {
    "duration": 61,
    "start_time": "2022-04-19T03:24:19.977Z"
   },
   {
    "duration": 9,
    "start_time": "2022-04-19T03:24:20.039Z"
   },
   {
    "duration": 12,
    "start_time": "2022-04-19T03:24:20.049Z"
   },
   {
    "duration": 16,
    "start_time": "2022-04-19T03:24:20.063Z"
   },
   {
    "duration": 58,
    "start_time": "2022-04-19T03:24:20.080Z"
   },
   {
    "duration": 11,
    "start_time": "2022-04-19T03:24:20.139Z"
   },
   {
    "duration": 12,
    "start_time": "2022-04-19T03:24:20.151Z"
   },
   {
    "duration": 4,
    "start_time": "2022-04-19T03:24:20.165Z"
   },
   {
    "duration": 18,
    "start_time": "2022-04-19T03:24:20.171Z"
   },
   {
    "duration": 5,
    "start_time": "2022-04-19T03:24:20.190Z"
   },
   {
    "duration": 5,
    "start_time": "2022-04-19T03:24:20.223Z"
   },
   {
    "duration": 13,
    "start_time": "2022-04-19T03:24:20.230Z"
   },
   {
    "duration": 4,
    "start_time": "2022-04-19T03:24:20.246Z"
   },
   {
    "duration": 7,
    "start_time": "2022-04-19T03:24:20.251Z"
   },
   {
    "duration": 6,
    "start_time": "2022-04-19T03:24:20.259Z"
   },
   {
    "duration": 58,
    "start_time": "2022-04-19T03:24:20.266Z"
   },
   {
    "duration": 7,
    "start_time": "2022-04-19T03:24:20.325Z"
   },
   {
    "duration": 6,
    "start_time": "2022-04-19T03:24:20.334Z"
   },
   {
    "duration": 20,
    "start_time": "2022-04-19T03:24:20.341Z"
   },
   {
    "duration": 10,
    "start_time": "2022-04-19T03:24:20.363Z"
   },
   {
    "duration": 62,
    "start_time": "2022-04-19T03:24:20.375Z"
   },
   {
    "duration": 7,
    "start_time": "2022-04-19T03:24:20.438Z"
   },
   {
    "duration": 9,
    "start_time": "2022-04-19T03:24:20.446Z"
   },
   {
    "duration": 16,
    "start_time": "2022-04-19T03:24:20.456Z"
   },
   {
    "duration": 6,
    "start_time": "2022-04-19T03:24:20.473Z"
   },
   {
    "duration": 45,
    "start_time": "2022-04-19T03:24:20.480Z"
   },
   {
    "duration": 20,
    "start_time": "2022-04-19T03:24:20.526Z"
   },
   {
    "duration": 19,
    "start_time": "2022-04-19T03:24:22.546Z"
   },
   {
    "duration": 19,
    "start_time": "2022-04-19T03:24:28.130Z"
   },
   {
    "duration": 18,
    "start_time": "2022-04-19T03:24:54.725Z"
   },
   {
    "duration": 19,
    "start_time": "2022-04-19T03:26:11.211Z"
   },
   {
    "duration": 18,
    "start_time": "2022-04-19T03:26:24.496Z"
   },
   {
    "duration": 18,
    "start_time": "2022-04-19T03:26:42.710Z"
   },
   {
    "duration": 17,
    "start_time": "2022-04-19T03:39:33.374Z"
   },
   {
    "duration": 18,
    "start_time": "2022-04-19T03:41:07.946Z"
   },
   {
    "duration": 20,
    "start_time": "2022-04-19T03:45:29.861Z"
   },
   {
    "duration": 20,
    "start_time": "2022-04-19T03:45:51.819Z"
   },
   {
    "duration": 21,
    "start_time": "2022-04-19T03:46:10.958Z"
   },
   {
    "duration": 19,
    "start_time": "2022-04-19T03:46:26.947Z"
   },
   {
    "duration": 19,
    "start_time": "2022-04-19T03:46:37.744Z"
   },
   {
    "duration": 20,
    "start_time": "2022-04-19T03:49:39.277Z"
   },
   {
    "duration": 19,
    "start_time": "2022-04-19T03:50:37.762Z"
   },
   {
    "duration": 13,
    "start_time": "2022-04-19T04:06:44.164Z"
   },
   {
    "duration": 18,
    "start_time": "2022-04-19T04:06:54.308Z"
   },
   {
    "duration": 19,
    "start_time": "2022-04-19T04:08:18.213Z"
   },
   {
    "duration": 19,
    "start_time": "2022-04-19T04:08:35.088Z"
   },
   {
    "duration": 19,
    "start_time": "2022-04-19T04:08:53.239Z"
   },
   {
    "duration": 19,
    "start_time": "2022-04-19T04:09:07.295Z"
   },
   {
    "duration": 19,
    "start_time": "2022-04-19T04:11:10.132Z"
   },
   {
    "duration": 20,
    "start_time": "2022-04-19T04:11:35.180Z"
   },
   {
    "duration": 21,
    "start_time": "2022-04-19T04:11:38.638Z"
   },
   {
    "duration": 19,
    "start_time": "2022-04-19T04:11:42.010Z"
   },
   {
    "duration": 18,
    "start_time": "2022-04-19T04:28:34.836Z"
   },
   {
    "duration": 20,
    "start_time": "2022-04-19T04:30:11.698Z"
   },
   {
    "duration": 17,
    "start_time": "2022-04-19T04:30:23.387Z"
   },
   {
    "duration": 21,
    "start_time": "2022-04-19T04:30:35.905Z"
   },
   {
    "duration": 21,
    "start_time": "2022-04-19T04:30:55.711Z"
   },
   {
    "duration": 13,
    "start_time": "2022-04-19T04:34:35.004Z"
   },
   {
    "duration": 16,
    "start_time": "2022-04-19T04:34:46.398Z"
   },
   {
    "duration": 20,
    "start_time": "2022-04-19T04:35:41.315Z"
   },
   {
    "duration": 20,
    "start_time": "2022-04-19T04:36:08.511Z"
   },
   {
    "duration": 22,
    "start_time": "2022-04-19T04:37:15.177Z"
   },
   {
    "duration": 22,
    "start_time": "2022-04-19T04:37:39.397Z"
   },
   {
    "duration": 21,
    "start_time": "2022-04-19T04:40:23.696Z"
   },
   {
    "duration": 23,
    "start_time": "2022-04-19T04:41:02.898Z"
   },
   {
    "duration": 24,
    "start_time": "2022-04-19T04:42:10.140Z"
   },
   {
    "duration": 22,
    "start_time": "2022-04-19T04:57:41.898Z"
   },
   {
    "duration": 24,
    "start_time": "2022-04-19T04:58:07.325Z"
   },
   {
    "duration": 21,
    "start_time": "2022-04-19T04:59:05.870Z"
   },
   {
    "duration": 21,
    "start_time": "2022-04-19T04:59:14.943Z"
   },
   {
    "duration": 23,
    "start_time": "2022-04-19T05:01:32.314Z"
   },
   {
    "duration": 22,
    "start_time": "2022-04-19T05:02:27.408Z"
   },
   {
    "duration": 22,
    "start_time": "2022-04-19T05:03:26.836Z"
   },
   {
    "duration": 23,
    "start_time": "2022-04-19T05:03:34.865Z"
   },
   {
    "duration": 21,
    "start_time": "2022-04-19T05:03:40.033Z"
   },
   {
    "duration": 22,
    "start_time": "2022-04-19T05:03:53.045Z"
   },
   {
    "duration": 20,
    "start_time": "2022-04-19T05:04:17.778Z"
   },
   {
    "duration": 486,
    "start_time": "2022-04-19T05:08:29.792Z"
   },
   {
    "duration": 19,
    "start_time": "2022-04-19T05:08:30.280Z"
   },
   {
    "duration": 22,
    "start_time": "2022-04-19T05:08:30.301Z"
   },
   {
    "duration": 6,
    "start_time": "2022-04-19T05:08:30.325Z"
   },
   {
    "duration": 32,
    "start_time": "2022-04-19T05:08:30.333Z"
   },
   {
    "duration": 5,
    "start_time": "2022-04-19T05:08:30.367Z"
   },
   {
    "duration": 12,
    "start_time": "2022-04-19T05:08:30.374Z"
   },
   {
    "duration": 39,
    "start_time": "2022-04-19T05:08:30.388Z"
   },
   {
    "duration": 18,
    "start_time": "2022-04-19T05:08:30.429Z"
   },
   {
    "duration": 16,
    "start_time": "2022-04-19T05:08:30.450Z"
   },
   {
    "duration": 5,
    "start_time": "2022-04-19T05:08:30.468Z"
   },
   {
    "duration": 14,
    "start_time": "2022-04-19T05:08:30.475Z"
   },
   {
    "duration": 51,
    "start_time": "2022-04-19T05:08:30.491Z"
   },
   {
    "duration": 13,
    "start_time": "2022-04-19T05:08:30.547Z"
   },
   {
    "duration": 6,
    "start_time": "2022-04-19T05:08:30.562Z"
   },
   {
    "duration": 32,
    "start_time": "2022-04-19T05:08:30.570Z"
   },
   {
    "duration": 28,
    "start_time": "2022-04-19T05:08:30.603Z"
   },
   {
    "duration": 19,
    "start_time": "2022-04-19T05:08:30.633Z"
   },
   {
    "duration": 16,
    "start_time": "2022-04-19T05:08:30.654Z"
   },
   {
    "duration": 55,
    "start_time": "2022-04-19T05:08:30.672Z"
   },
   {
    "duration": 13,
    "start_time": "2022-04-19T05:08:30.729Z"
   },
   {
    "duration": 39,
    "start_time": "2022-04-19T05:08:30.743Z"
   },
   {
    "duration": 15,
    "start_time": "2022-04-19T05:08:30.783Z"
   },
   {
    "duration": 29,
    "start_time": "2022-04-19T05:08:30.800Z"
   },
   {
    "duration": 10,
    "start_time": "2022-04-19T05:08:30.831Z"
   },
   {
    "duration": 14,
    "start_time": "2022-04-19T05:08:30.842Z"
   },
   {
    "duration": 18,
    "start_time": "2022-04-19T05:08:30.858Z"
   },
   {
    "duration": 14,
    "start_time": "2022-04-19T05:08:30.878Z"
   },
   {
    "duration": 14,
    "start_time": "2022-04-19T05:08:30.893Z"
   },
   {
    "duration": 13,
    "start_time": "2022-04-19T05:08:30.909Z"
   },
   {
    "duration": 32,
    "start_time": "2022-04-19T05:08:30.924Z"
   },
   {
    "duration": 7,
    "start_time": "2022-04-19T05:08:30.958Z"
   },
   {
    "duration": 9,
    "start_time": "2022-04-19T05:08:30.966Z"
   },
   {
    "duration": 26,
    "start_time": "2022-04-19T05:08:30.976Z"
   },
   {
    "duration": 26,
    "start_time": "2022-04-19T05:08:31.004Z"
   },
   {
    "duration": 40,
    "start_time": "2022-04-19T05:08:31.031Z"
   },
   {
    "duration": 7,
    "start_time": "2022-04-19T05:08:31.072Z"
   },
   {
    "duration": 23,
    "start_time": "2022-04-19T05:08:31.080Z"
   },
   {
    "duration": 18,
    "start_time": "2022-04-19T05:08:31.123Z"
   },
   {
    "duration": 25,
    "start_time": "2022-04-19T05:08:31.143Z"
   },
   {
    "duration": 29,
    "start_time": "2022-04-19T05:08:31.172Z"
   },
   {
    "duration": 23,
    "start_time": "2022-04-19T05:08:31.203Z"
   },
   {
    "duration": 28,
    "start_time": "2022-04-19T05:08:31.228Z"
   },
   {
    "duration": 18,
    "start_time": "2022-04-19T05:08:31.258Z"
   },
   {
    "duration": 21,
    "start_time": "2022-04-19T05:08:31.278Z"
   },
   {
    "duration": 9,
    "start_time": "2022-04-19T05:39:14.962Z"
   },
   {
    "duration": 8,
    "start_time": "2022-04-19T05:39:45.784Z"
   },
   {
    "duration": 9,
    "start_time": "2022-04-19T05:40:40.650Z"
   },
   {
    "duration": 9,
    "start_time": "2022-04-19T05:40:45.498Z"
   },
   {
    "duration": 11,
    "start_time": "2022-04-19T05:42:29.493Z"
   },
   {
    "duration": 8,
    "start_time": "2022-04-19T05:42:35.105Z"
   },
   {
    "duration": 398,
    "start_time": "2022-04-19T05:57:56.775Z"
   },
   {
    "duration": 17,
    "start_time": "2022-04-19T05:57:57.175Z"
   },
   {
    "duration": 13,
    "start_time": "2022-04-19T05:57:57.193Z"
   },
   {
    "duration": 4,
    "start_time": "2022-04-19T05:57:57.208Z"
   },
   {
    "duration": 29,
    "start_time": "2022-04-19T05:57:57.223Z"
   },
   {
    "duration": 4,
    "start_time": "2022-04-19T05:57:57.253Z"
   },
   {
    "duration": 7,
    "start_time": "2022-04-19T05:57:57.258Z"
   },
   {
    "duration": 8,
    "start_time": "2022-04-19T05:57:57.267Z"
   },
   {
    "duration": 47,
    "start_time": "2022-04-19T05:57:57.277Z"
   },
   {
    "duration": 14,
    "start_time": "2022-04-19T05:57:57.327Z"
   },
   {
    "duration": 4,
    "start_time": "2022-04-19T05:57:57.343Z"
   },
   {
    "duration": 7,
    "start_time": "2022-04-19T05:57:57.349Z"
   },
   {
    "duration": 17,
    "start_time": "2022-04-19T05:57:57.357Z"
   },
   {
    "duration": 11,
    "start_time": "2022-04-19T05:57:57.376Z"
   },
   {
    "duration": 37,
    "start_time": "2022-04-19T05:57:57.388Z"
   },
   {
    "duration": 23,
    "start_time": "2022-04-19T05:57:57.426Z"
   },
   {
    "duration": 10,
    "start_time": "2022-04-19T05:57:57.450Z"
   },
   {
    "duration": 11,
    "start_time": "2022-04-19T05:57:57.461Z"
   },
   {
    "duration": 15,
    "start_time": "2022-04-19T05:57:57.473Z"
   },
   {
    "duration": 61,
    "start_time": "2022-04-19T05:57:57.489Z"
   },
   {
    "duration": 11,
    "start_time": "2022-04-19T05:57:57.551Z"
   },
   {
    "duration": 11,
    "start_time": "2022-04-19T05:57:57.564Z"
   },
   {
    "duration": 5,
    "start_time": "2022-04-19T05:57:57.576Z"
   },
   {
    "duration": 17,
    "start_time": "2022-04-19T05:57:57.582Z"
   },
   {
    "duration": 25,
    "start_time": "2022-04-19T05:57:57.601Z"
   },
   {
    "duration": 10,
    "start_time": "2022-04-19T05:57:57.627Z"
   },
   {
    "duration": 21,
    "start_time": "2022-04-19T05:57:57.639Z"
   },
   {
    "duration": 19,
    "start_time": "2022-04-19T05:57:57.663Z"
   },
   {
    "duration": 8,
    "start_time": "2022-04-19T05:57:57.683Z"
   },
   {
    "duration": 8,
    "start_time": "2022-04-19T05:57:57.692Z"
   },
   {
    "duration": 32,
    "start_time": "2022-04-19T05:57:57.701Z"
   },
   {
    "duration": 7,
    "start_time": "2022-04-19T05:57:57.734Z"
   },
   {
    "duration": 7,
    "start_time": "2022-04-19T05:57:57.742Z"
   },
   {
    "duration": 18,
    "start_time": "2022-04-19T05:57:57.750Z"
   },
   {
    "duration": 8,
    "start_time": "2022-04-19T05:57:57.770Z"
   },
   {
    "duration": 65,
    "start_time": "2022-04-19T05:57:57.779Z"
   },
   {
    "duration": 7,
    "start_time": "2022-04-19T05:57:57.846Z"
   },
   {
    "duration": 11,
    "start_time": "2022-04-19T05:57:57.855Z"
   },
   {
    "duration": 17,
    "start_time": "2022-04-19T05:57:57.867Z"
   },
   {
    "duration": 5,
    "start_time": "2022-04-19T05:57:57.886Z"
   },
   {
    "duration": 14,
    "start_time": "2022-04-19T05:57:57.924Z"
   },
   {
    "duration": 20,
    "start_time": "2022-04-19T05:57:57.940Z"
   },
   {
    "duration": 21,
    "start_time": "2022-04-19T05:57:57.962Z"
   },
   {
    "duration": 48,
    "start_time": "2022-04-19T05:57:57.985Z"
   },
   {
    "duration": 21,
    "start_time": "2022-04-19T05:57:58.035Z"
   },
   {
    "duration": 8,
    "start_time": "2022-04-19T05:57:58.057Z"
   },
   {
    "duration": 9,
    "start_time": "2022-04-19T05:57:58.067Z"
   },
   {
    "duration": 8,
    "start_time": "2022-04-19T05:57:58.078Z"
   },
   {
    "duration": 38,
    "start_time": "2022-04-19T05:57:58.088Z"
   },
   {
    "duration": 150,
    "start_time": "2022-04-27T20:21:53.384Z"
   },
   {
    "duration": 137,
    "start_time": "2022-04-27T20:25:53.541Z"
   },
   {
    "duration": 64,
    "start_time": "2022-04-27T20:30:31.108Z"
   },
   {
    "duration": 496,
    "start_time": "2022-04-27T20:30:44.970Z"
   },
   {
    "duration": 20,
    "start_time": "2022-04-27T20:30:45.468Z"
   },
   {
    "duration": 23,
    "start_time": "2022-04-27T20:30:45.489Z"
   },
   {
    "duration": 14,
    "start_time": "2022-04-27T20:30:45.515Z"
   },
   {
    "duration": 61,
    "start_time": "2022-04-27T20:30:45.531Z"
   },
   {
    "duration": 4,
    "start_time": "2022-04-27T20:30:45.595Z"
   },
   {
    "duration": 12,
    "start_time": "2022-04-27T20:30:45.601Z"
   },
   {
    "duration": 25,
    "start_time": "2022-04-27T20:30:45.615Z"
   },
   {
    "duration": 2291,
    "start_time": "2022-04-27T20:30:53.736Z"
   },
   {
    "duration": 68,
    "start_time": "2022-04-27T20:31:06.202Z"
   },
   {
    "duration": 14,
    "start_time": "2022-04-27T20:31:06.272Z"
   },
   {
    "duration": 24,
    "start_time": "2022-04-27T20:31:06.288Z"
   },
   {
    "duration": 16,
    "start_time": "2022-04-27T20:31:06.315Z"
   },
   {
    "duration": 46,
    "start_time": "2022-04-27T20:31:06.332Z"
   },
   {
    "duration": 7,
    "start_time": "2022-04-27T20:31:06.380Z"
   },
   {
    "duration": 31,
    "start_time": "2022-04-27T20:31:06.389Z"
   },
   {
    "duration": 37,
    "start_time": "2022-04-27T20:31:06.421Z"
   },
   {
    "duration": 29,
    "start_time": "2022-04-27T20:31:06.460Z"
   },
   {
    "duration": 17,
    "start_time": "2022-04-27T20:31:06.491Z"
   },
   {
    "duration": 23,
    "start_time": "2022-04-27T20:31:06.510Z"
   },
   {
    "duration": 22,
    "start_time": "2022-04-27T20:31:06.535Z"
   },
   {
    "duration": 32,
    "start_time": "2022-04-27T20:31:06.559Z"
   },
   {
    "duration": 21,
    "start_time": "2022-04-27T20:31:06.593Z"
   },
   {
    "duration": 5,
    "start_time": "2022-04-27T20:31:06.616Z"
   },
   {
    "duration": 37,
    "start_time": "2022-04-27T20:31:06.622Z"
   },
   {
    "duration": 19,
    "start_time": "2022-04-27T20:31:06.661Z"
   },
   {
    "duration": 25,
    "start_time": "2022-04-27T20:31:06.681Z"
   },
   {
    "duration": 29,
    "start_time": "2022-04-27T20:31:06.708Z"
   },
   {
    "duration": 40,
    "start_time": "2022-04-27T20:31:06.739Z"
   },
   {
    "duration": 12,
    "start_time": "2022-04-27T20:31:06.781Z"
   },
   {
    "duration": 25,
    "start_time": "2022-04-27T20:31:06.795Z"
   },
   {
    "duration": 8,
    "start_time": "2022-04-27T20:31:06.823Z"
   },
   {
    "duration": 46,
    "start_time": "2022-04-27T20:31:06.833Z"
   },
   {
    "duration": 22,
    "start_time": "2022-04-27T20:31:06.882Z"
   },
   {
    "duration": 15,
    "start_time": "2022-04-27T20:31:06.906Z"
   },
   {
    "duration": 26,
    "start_time": "2022-04-27T20:31:06.923Z"
   },
   {
    "duration": 23,
    "start_time": "2022-04-27T20:31:06.954Z"
   },
   {
    "duration": 11,
    "start_time": "2022-04-27T20:31:06.979Z"
   },
   {
    "duration": 14,
    "start_time": "2022-04-27T20:31:06.991Z"
   },
   {
    "duration": 47,
    "start_time": "2022-04-27T20:31:07.006Z"
   },
   {
    "duration": 7,
    "start_time": "2022-04-27T20:31:07.055Z"
   },
   {
    "duration": 10,
    "start_time": "2022-04-27T20:31:07.064Z"
   },
   {
    "duration": 53,
    "start_time": "2022-04-27T20:31:07.076Z"
   },
   {
    "duration": 16,
    "start_time": "2022-04-27T20:31:07.131Z"
   },
   {
    "duration": 49,
    "start_time": "2022-04-27T20:31:07.149Z"
   },
   {
    "duration": 8,
    "start_time": "2022-04-27T20:31:07.201Z"
   },
   {
    "duration": 30,
    "start_time": "2022-04-27T20:31:07.211Z"
   },
   {
    "duration": 36,
    "start_time": "2022-04-27T20:31:07.243Z"
   },
   {
    "duration": 11,
    "start_time": "2022-04-27T20:31:07.281Z"
   },
   {
    "duration": 24,
    "start_time": "2022-04-27T20:31:07.294Z"
   },
   {
    "duration": 21,
    "start_time": "2022-04-27T20:31:07.320Z"
   },
   {
    "duration": 28,
    "start_time": "2022-04-27T20:31:07.342Z"
   },
   {
    "duration": 22,
    "start_time": "2022-04-27T20:31:07.371Z"
   },
   {
    "duration": 22,
    "start_time": "2022-04-27T20:31:07.395Z"
   },
   {
    "duration": 8,
    "start_time": "2022-04-27T20:31:07.419Z"
   },
   {
    "duration": 37,
    "start_time": "2022-04-27T20:31:07.429Z"
   },
   {
    "duration": 14,
    "start_time": "2022-04-27T20:31:07.468Z"
   },
   {
    "duration": 13,
    "start_time": "2022-04-27T20:31:07.484Z"
   },
   {
    "duration": 15,
    "start_time": "2022-04-27T20:46:25.106Z"
   },
   {
    "duration": 68,
    "start_time": "2022-04-27T20:46:34.297Z"
   },
   {
    "duration": 13,
    "start_time": "2022-04-27T20:46:34.367Z"
   },
   {
    "duration": 36,
    "start_time": "2022-04-27T20:46:34.382Z"
   },
   {
    "duration": 15,
    "start_time": "2022-04-27T20:46:34.420Z"
   },
   {
    "duration": 41,
    "start_time": "2022-04-27T20:46:34.437Z"
   },
   {
    "duration": 5,
    "start_time": "2022-04-27T20:46:34.480Z"
   },
   {
    "duration": 35,
    "start_time": "2022-04-27T20:46:34.486Z"
   },
   {
    "duration": 21,
    "start_time": "2022-04-27T20:46:34.523Z"
   },
   {
    "duration": 35,
    "start_time": "2022-04-27T20:46:34.545Z"
   },
   {
    "duration": 16,
    "start_time": "2022-04-27T20:46:34.582Z"
   },
   {
    "duration": 10,
    "start_time": "2022-04-27T20:46:34.599Z"
   },
   {
    "duration": 29,
    "start_time": "2022-04-27T20:46:34.611Z"
   },
   {
    "duration": 28,
    "start_time": "2022-04-27T20:46:34.643Z"
   },
   {
    "duration": 18,
    "start_time": "2022-04-27T20:46:37.583Z"
   },
   {
    "duration": 17,
    "start_time": "2022-04-27T20:46:40.998Z"
   },
   {
    "duration": 71,
    "start_time": "2022-04-27T20:46:50.454Z"
   },
   {
    "duration": 31,
    "start_time": "2022-04-27T20:46:50.528Z"
   },
   {
    "duration": 16,
    "start_time": "2022-04-27T20:46:50.561Z"
   },
   {
    "duration": 6,
    "start_time": "2022-04-27T20:46:50.579Z"
   },
   {
    "duration": 74,
    "start_time": "2022-04-27T20:46:50.587Z"
   },
   {
    "duration": 4,
    "start_time": "2022-04-27T20:46:50.663Z"
   },
   {
    "duration": 8,
    "start_time": "2022-04-27T20:46:50.669Z"
   },
   {
    "duration": 13,
    "start_time": "2022-04-27T20:46:50.679Z"
   },
   {
    "duration": 16,
    "start_time": "2022-04-27T20:46:50.693Z"
   },
   {
    "duration": 53,
    "start_time": "2022-04-27T20:46:50.712Z"
   },
   {
    "duration": 6,
    "start_time": "2022-04-27T20:46:50.766Z"
   },
   {
    "duration": 7,
    "start_time": "2022-04-27T20:46:50.774Z"
   },
   {
    "duration": 26,
    "start_time": "2022-04-27T20:46:50.783Z"
   },
   {
    "duration": 13,
    "start_time": "2022-04-27T20:46:50.811Z"
   },
   {
    "duration": 28,
    "start_time": "2022-04-27T20:46:50.826Z"
   },
   {
    "duration": 24,
    "start_time": "2022-04-27T20:46:50.856Z"
   },
   {
    "duration": 11,
    "start_time": "2022-04-27T20:46:50.881Z"
   },
   {
    "duration": 31,
    "start_time": "2022-04-27T20:46:50.894Z"
   },
   {
    "duration": 18,
    "start_time": "2022-04-27T20:46:50.927Z"
   },
   {
    "duration": 31,
    "start_time": "2022-04-27T20:46:50.954Z"
   },
   {
    "duration": 11,
    "start_time": "2022-04-27T20:46:50.986Z"
   },
   {
    "duration": 14,
    "start_time": "2022-04-27T20:46:50.999Z"
   },
   {
    "duration": 6,
    "start_time": "2022-04-27T20:46:51.014Z"
   },
   {
    "duration": 48,
    "start_time": "2022-04-27T20:46:51.021Z"
   },
   {
    "duration": 8,
    "start_time": "2022-04-27T20:46:51.071Z"
   },
   {
    "duration": 8,
    "start_time": "2022-04-27T20:46:51.081Z"
   },
   {
    "duration": 20,
    "start_time": "2022-04-27T20:46:51.090Z"
   },
   {
    "duration": 6,
    "start_time": "2022-04-27T20:46:51.114Z"
   },
   {
    "duration": 33,
    "start_time": "2022-04-27T20:46:51.122Z"
   },
   {
    "duration": 11,
    "start_time": "2022-04-27T20:46:51.157Z"
   },
   {
    "duration": 45,
    "start_time": "2022-04-27T20:46:51.170Z"
   },
   {
    "duration": 7,
    "start_time": "2022-04-27T20:46:51.217Z"
   },
   {
    "duration": 33,
    "start_time": "2022-04-27T20:46:51.226Z"
   },
   {
    "duration": 25,
    "start_time": "2022-04-27T20:46:51.261Z"
   },
   {
    "duration": 10,
    "start_time": "2022-04-27T20:46:51.288Z"
   },
   {
    "duration": 68,
    "start_time": "2022-04-27T20:46:51.299Z"
   },
   {
    "duration": 7,
    "start_time": "2022-04-27T20:46:51.369Z"
   },
   {
    "duration": 13,
    "start_time": "2022-04-27T20:46:51.378Z"
   },
   {
    "duration": 19,
    "start_time": "2022-04-27T20:46:51.393Z"
   },
   {
    "duration": 4,
    "start_time": "2022-04-27T20:46:51.413Z"
   },
   {
    "duration": 43,
    "start_time": "2022-04-27T20:46:51.418Z"
   },
   {
    "duration": 20,
    "start_time": "2022-04-27T20:46:51.463Z"
   },
   {
    "duration": 23,
    "start_time": "2022-04-27T20:46:51.484Z"
   },
   {
    "duration": 46,
    "start_time": "2022-04-27T20:46:51.509Z"
   },
   {
    "duration": 22,
    "start_time": "2022-04-27T20:46:51.557Z"
   },
   {
    "duration": 7,
    "start_time": "2022-04-27T20:46:51.581Z"
   },
   {
    "duration": 20,
    "start_time": "2022-04-27T20:46:51.590Z"
   },
   {
    "duration": 19,
    "start_time": "2022-04-27T20:46:51.611Z"
   },
   {
    "duration": 17,
    "start_time": "2022-04-27T20:46:51.632Z"
   },
   {
    "duration": 13,
    "start_time": "2022-04-27T21:06:02.909Z"
   },
   {
    "duration": 67,
    "start_time": "2022-04-27T21:06:23.661Z"
   },
   {
    "duration": 24,
    "start_time": "2022-04-27T21:06:23.730Z"
   },
   {
    "duration": 14,
    "start_time": "2022-04-27T21:06:23.756Z"
   },
   {
    "duration": 5,
    "start_time": "2022-04-27T21:06:23.772Z"
   },
   {
    "duration": 34,
    "start_time": "2022-04-27T21:06:23.778Z"
   },
   {
    "duration": 5,
    "start_time": "2022-04-27T21:06:23.814Z"
   },
   {
    "duration": 35,
    "start_time": "2022-04-27T21:06:23.820Z"
   },
   {
    "duration": 11,
    "start_time": "2022-04-27T21:06:23.857Z"
   },
   {
    "duration": 15,
    "start_time": "2022-04-27T21:06:23.870Z"
   },
   {
    "duration": 14,
    "start_time": "2022-04-27T21:06:23.888Z"
   },
   {
    "duration": 7,
    "start_time": "2022-04-27T21:06:23.904Z"
   },
   {
    "duration": 42,
    "start_time": "2022-04-27T21:06:23.913Z"
   },
   {
    "duration": 20,
    "start_time": "2022-04-27T21:06:23.957Z"
   },
   {
    "duration": 14,
    "start_time": "2022-04-27T21:06:23.978Z"
   },
   {
    "duration": 5,
    "start_time": "2022-04-27T21:06:23.994Z"
   },
   {
    "duration": 11,
    "start_time": "2022-04-27T21:06:28.079Z"
   },
   {
    "duration": 11,
    "start_time": "2022-04-27T21:07:40.909Z"
   },
   {
    "duration": 10,
    "start_time": "2022-04-27T21:08:15.959Z"
   },
   {
    "duration": 18,
    "start_time": "2022-04-27T21:09:02.308Z"
   },
   {
    "duration": 67,
    "start_time": "2022-04-27T21:09:10.303Z"
   },
   {
    "duration": 12,
    "start_time": "2022-04-27T21:09:10.373Z"
   },
   {
    "duration": 17,
    "start_time": "2022-04-27T21:09:10.387Z"
   },
   {
    "duration": 6,
    "start_time": "2022-04-27T21:09:10.406Z"
   },
   {
    "duration": 43,
    "start_time": "2022-04-27T21:09:10.414Z"
   },
   {
    "duration": 4,
    "start_time": "2022-04-27T21:09:10.459Z"
   },
   {
    "duration": 12,
    "start_time": "2022-04-27T21:09:10.464Z"
   },
   {
    "duration": 11,
    "start_time": "2022-04-27T21:09:10.478Z"
   },
   {
    "duration": 14,
    "start_time": "2022-04-27T21:09:10.491Z"
   },
   {
    "duration": 15,
    "start_time": "2022-04-27T21:09:10.508Z"
   },
   {
    "duration": 34,
    "start_time": "2022-04-27T21:09:10.525Z"
   },
   {
    "duration": 8,
    "start_time": "2022-04-27T21:09:10.561Z"
   },
   {
    "duration": 21,
    "start_time": "2022-04-27T21:09:12.543Z"
   },
   {
    "duration": 10,
    "start_time": "2022-04-27T21:09:31.522Z"
   },
   {
    "duration": 11,
    "start_time": "2022-04-27T21:09:58.860Z"
   },
   {
    "duration": 15,
    "start_time": "2022-04-27T21:10:21.833Z"
   },
   {
    "duration": 18,
    "start_time": "2022-04-27T21:10:35.873Z"
   },
   {
    "duration": 17,
    "start_time": "2022-04-27T21:11:45.445Z"
   },
   {
    "duration": 55,
    "start_time": "2022-04-27T21:11:58.801Z"
   },
   {
    "duration": 14,
    "start_time": "2022-04-27T21:13:03.261Z"
   },
   {
    "duration": 15,
    "start_time": "2022-04-27T21:13:17.174Z"
   },
   {
    "duration": 15,
    "start_time": "2022-04-27T21:15:11.260Z"
   },
   {
    "duration": 16,
    "start_time": "2022-04-27T21:15:20.582Z"
   },
   {
    "duration": 14,
    "start_time": "2022-04-27T21:15:30.719Z"
   },
   {
    "duration": 2,
    "start_time": "2022-04-27T21:15:36.914Z"
   },
   {
    "duration": 14,
    "start_time": "2022-04-27T21:16:16.494Z"
   },
   {
    "duration": 69,
    "start_time": "2022-04-27T21:20:09.273Z"
   },
   {
    "duration": 13,
    "start_time": "2022-04-27T21:20:09.344Z"
   },
   {
    "duration": 27,
    "start_time": "2022-04-27T21:20:09.359Z"
   },
   {
    "duration": 25,
    "start_time": "2022-04-27T21:20:09.389Z"
   },
   {
    "duration": 40,
    "start_time": "2022-04-27T21:20:09.416Z"
   },
   {
    "duration": 4,
    "start_time": "2022-04-27T21:20:09.458Z"
   },
   {
    "duration": 16,
    "start_time": "2022-04-27T21:20:09.464Z"
   },
   {
    "duration": 28,
    "start_time": "2022-04-27T21:20:09.482Z"
   },
   {
    "duration": 19,
    "start_time": "2022-04-27T21:20:09.511Z"
   },
   {
    "duration": 18,
    "start_time": "2022-04-27T21:20:09.532Z"
   },
   {
    "duration": 6,
    "start_time": "2022-04-27T21:20:09.555Z"
   },
   {
    "duration": 10,
    "start_time": "2022-04-27T21:20:09.563Z"
   },
   {
    "duration": 21,
    "start_time": "2022-04-27T21:20:09.575Z"
   },
   {
    "duration": 15,
    "start_time": "2022-04-27T21:20:09.598Z"
   },
   {
    "duration": 5,
    "start_time": "2022-04-27T21:20:09.615Z"
   },
   {
    "duration": 16,
    "start_time": "2022-04-27T21:20:09.655Z"
   },
   {
    "duration": 15,
    "start_time": "2022-04-27T21:20:11.794Z"
   },
   {
    "duration": 14,
    "start_time": "2022-04-27T21:20:18.953Z"
   },
   {
    "duration": 11,
    "start_time": "2022-04-27T21:47:54.982Z"
   },
   {
    "duration": 74,
    "start_time": "2022-04-27T21:48:04.067Z"
   },
   {
    "duration": 13,
    "start_time": "2022-04-27T21:48:04.144Z"
   },
   {
    "duration": 17,
    "start_time": "2022-04-27T21:48:04.159Z"
   },
   {
    "duration": 6,
    "start_time": "2022-04-27T21:48:04.178Z"
   },
   {
    "duration": 41,
    "start_time": "2022-04-27T21:48:04.186Z"
   },
   {
    "duration": 26,
    "start_time": "2022-04-27T21:48:04.229Z"
   },
   {
    "duration": 14,
    "start_time": "2022-04-27T21:48:04.257Z"
   },
   {
    "duration": 15,
    "start_time": "2022-04-27T21:48:04.273Z"
   },
   {
    "duration": 15,
    "start_time": "2022-04-27T21:48:04.290Z"
   },
   {
    "duration": 17,
    "start_time": "2022-04-27T21:48:04.307Z"
   },
   {
    "duration": 30,
    "start_time": "2022-04-27T21:48:04.326Z"
   },
   {
    "duration": 10,
    "start_time": "2022-04-27T21:48:04.357Z"
   },
   {
    "duration": 19,
    "start_time": "2022-04-27T21:48:04.369Z"
   },
   {
    "duration": 14,
    "start_time": "2022-04-27T21:48:04.390Z"
   },
   {
    "duration": 10,
    "start_time": "2022-04-27T21:48:04.406Z"
   },
   {
    "duration": 51,
    "start_time": "2022-04-27T21:48:04.417Z"
   },
   {
    "duration": 17,
    "start_time": "2022-04-27T21:48:04.469Z"
   },
   {
    "duration": 10,
    "start_time": "2022-04-27T21:48:08.946Z"
   },
   {
    "duration": 144,
    "start_time": "2022-04-27T21:49:15.662Z"
   },
   {
    "duration": 48,
    "start_time": "2022-04-27T21:54:21.905Z"
   },
   {
    "duration": 71,
    "start_time": "2022-04-27T21:54:37.515Z"
   },
   {
    "duration": 12,
    "start_time": "2022-04-27T21:54:37.588Z"
   },
   {
    "duration": 17,
    "start_time": "2022-04-27T21:54:37.602Z"
   },
   {
    "duration": 5,
    "start_time": "2022-04-27T21:54:37.622Z"
   },
   {
    "duration": 49,
    "start_time": "2022-04-27T21:54:37.629Z"
   },
   {
    "duration": 4,
    "start_time": "2022-04-27T21:54:37.680Z"
   },
   {
    "duration": 10,
    "start_time": "2022-04-27T21:54:37.686Z"
   },
   {
    "duration": 15,
    "start_time": "2022-04-27T21:54:37.698Z"
   },
   {
    "duration": 47,
    "start_time": "2022-04-27T21:54:37.715Z"
   },
   {
    "duration": 21,
    "start_time": "2022-04-27T21:54:37.765Z"
   },
   {
    "duration": 12,
    "start_time": "2022-04-27T21:54:37.788Z"
   },
   {
    "duration": 8,
    "start_time": "2022-04-27T21:54:37.802Z"
   },
   {
    "duration": 67,
    "start_time": "2022-04-27T21:54:37.812Z"
   },
   {
    "duration": 21,
    "start_time": "2022-04-27T21:54:37.881Z"
   },
   {
    "duration": 5,
    "start_time": "2022-04-27T21:54:37.904Z"
   },
   {
    "duration": 23,
    "start_time": "2022-04-27T21:54:37.911Z"
   },
   {
    "duration": 22,
    "start_time": "2022-04-27T21:54:37.936Z"
   },
   {
    "duration": 57,
    "start_time": "2022-04-27T21:54:41.798Z"
   },
   {
    "duration": 14,
    "start_time": "2022-04-27T21:55:00.868Z"
   },
   {
    "duration": 42,
    "start_time": "2022-04-27T21:55:23.242Z"
   },
   {
    "duration": 44,
    "start_time": "2022-04-27T21:55:41.871Z"
   },
   {
    "duration": 47,
    "start_time": "2022-04-27T21:55:55.747Z"
   },
   {
    "duration": 48,
    "start_time": "2022-04-27T21:56:02.643Z"
   },
   {
    "duration": 41,
    "start_time": "2022-04-27T21:56:20.551Z"
   },
   {
    "duration": 26,
    "start_time": "2022-04-27T21:58:44.020Z"
   },
   {
    "duration": 628,
    "start_time": "2022-04-27T21:59:07.363Z"
   },
   {
    "duration": 28,
    "start_time": "2022-04-27T22:00:11.616Z"
   },
   {
    "duration": 15,
    "start_time": "2022-04-27T22:00:37.627Z"
   },
   {
    "duration": 78,
    "start_time": "2022-04-27T22:00:43.331Z"
   },
   {
    "duration": 14,
    "start_time": "2022-04-27T22:00:43.412Z"
   },
   {
    "duration": 38,
    "start_time": "2022-04-27T22:00:43.428Z"
   },
   {
    "duration": 28,
    "start_time": "2022-04-27T22:00:43.468Z"
   },
   {
    "duration": 45,
    "start_time": "2022-04-27T22:00:43.498Z"
   },
   {
    "duration": 15,
    "start_time": "2022-04-27T22:00:43.545Z"
   },
   {
    "duration": 31,
    "start_time": "2022-04-27T22:00:43.562Z"
   },
   {
    "duration": 19,
    "start_time": "2022-04-27T22:00:43.595Z"
   },
   {
    "duration": 16,
    "start_time": "2022-04-27T22:00:43.616Z"
   },
   {
    "duration": 17,
    "start_time": "2022-04-27T22:00:43.635Z"
   },
   {
    "duration": 7,
    "start_time": "2022-04-27T22:00:43.654Z"
   },
   {
    "duration": 13,
    "start_time": "2022-04-27T22:00:43.662Z"
   },
   {
    "duration": 21,
    "start_time": "2022-04-27T22:00:43.678Z"
   },
   {
    "duration": 17,
    "start_time": "2022-04-27T22:00:43.701Z"
   },
   {
    "duration": 7,
    "start_time": "2022-04-27T22:00:43.754Z"
   },
   {
    "duration": 24,
    "start_time": "2022-04-27T22:00:43.764Z"
   },
   {
    "duration": 22,
    "start_time": "2022-04-27T22:00:43.790Z"
   },
   {
    "duration": 49,
    "start_time": "2022-04-27T22:00:43.814Z"
   },
   {
    "duration": 16,
    "start_time": "2022-04-27T22:00:43.865Z"
   },
   {
    "duration": 16,
    "start_time": "2022-04-27T22:00:46.273Z"
   },
   {
    "duration": 23,
    "start_time": "2022-04-27T22:00:56.572Z"
   },
   {
    "duration": 23,
    "start_time": "2022-04-27T22:01:18.676Z"
   },
   {
    "duration": 26,
    "start_time": "2022-04-27T22:01:38.553Z"
   },
   {
    "duration": 28,
    "start_time": "2022-04-27T22:01:47.450Z"
   },
   {
    "duration": 28,
    "start_time": "2022-04-27T22:01:52.317Z"
   },
   {
    "duration": 76,
    "start_time": "2022-04-27T22:01:56.207Z"
   },
   {
    "duration": 13,
    "start_time": "2022-04-27T22:01:56.285Z"
   },
   {
    "duration": 21,
    "start_time": "2022-04-27T22:01:56.299Z"
   },
   {
    "duration": 11,
    "start_time": "2022-04-27T22:01:56.323Z"
   },
   {
    "duration": 62,
    "start_time": "2022-04-27T22:01:56.335Z"
   },
   {
    "duration": 4,
    "start_time": "2022-04-27T22:01:56.398Z"
   },
   {
    "duration": 20,
    "start_time": "2022-04-27T22:01:56.404Z"
   },
   {
    "duration": 25,
    "start_time": "2022-04-27T22:01:56.426Z"
   },
   {
    "duration": 24,
    "start_time": "2022-04-27T22:01:56.452Z"
   },
   {
    "duration": 30,
    "start_time": "2022-04-27T22:01:56.480Z"
   },
   {
    "duration": 7,
    "start_time": "2022-04-27T22:01:56.513Z"
   },
   {
    "duration": 29,
    "start_time": "2022-04-27T22:01:56.522Z"
   },
   {
    "duration": 28,
    "start_time": "2022-04-27T22:01:56.553Z"
   },
   {
    "duration": 32,
    "start_time": "2022-04-27T22:01:56.583Z"
   },
   {
    "duration": 8,
    "start_time": "2022-04-27T22:01:56.617Z"
   },
   {
    "duration": 50,
    "start_time": "2022-04-27T22:01:56.627Z"
   },
   {
    "duration": 14,
    "start_time": "2022-04-27T22:01:56.679Z"
   },
   {
    "duration": 31,
    "start_time": "2022-04-27T22:01:56.696Z"
   },
   {
    "duration": 34,
    "start_time": "2022-04-27T22:02:00.025Z"
   },
   {
    "duration": 8,
    "start_time": "2022-04-27T22:02:20.931Z"
   },
   {
    "duration": 66,
    "start_time": "2022-04-27T22:02:25.809Z"
   },
   {
    "duration": 12,
    "start_time": "2022-04-27T22:02:25.877Z"
   },
   {
    "duration": 21,
    "start_time": "2022-04-27T22:02:25.891Z"
   },
   {
    "duration": 20,
    "start_time": "2022-04-27T22:02:25.914Z"
   },
   {
    "duration": 55,
    "start_time": "2022-04-27T22:02:25.936Z"
   },
   {
    "duration": 5,
    "start_time": "2022-04-27T22:02:25.993Z"
   },
   {
    "duration": 19,
    "start_time": "2022-04-27T22:02:26.000Z"
   },
   {
    "duration": 15,
    "start_time": "2022-04-27T22:02:26.020Z"
   },
   {
    "duration": 27,
    "start_time": "2022-04-27T22:02:26.037Z"
   },
   {
    "duration": 16,
    "start_time": "2022-04-27T22:02:26.066Z"
   },
   {
    "duration": 5,
    "start_time": "2022-04-27T22:02:26.084Z"
   },
   {
    "duration": 12,
    "start_time": "2022-04-27T22:02:26.090Z"
   },
   {
    "duration": 20,
    "start_time": "2022-04-27T22:02:26.103Z"
   },
   {
    "duration": 45,
    "start_time": "2022-04-27T22:02:26.124Z"
   },
   {
    "duration": 5,
    "start_time": "2022-04-27T22:02:26.170Z"
   },
   {
    "duration": 25,
    "start_time": "2022-04-27T22:02:42.986Z"
   },
   {
    "duration": 71,
    "start_time": "2022-04-27T22:02:47.104Z"
   },
   {
    "duration": 12,
    "start_time": "2022-04-27T22:02:47.177Z"
   },
   {
    "duration": 16,
    "start_time": "2022-04-27T22:02:47.191Z"
   },
   {
    "duration": 5,
    "start_time": "2022-04-27T22:02:47.209Z"
   },
   {
    "duration": 51,
    "start_time": "2022-04-27T22:02:47.216Z"
   },
   {
    "duration": 5,
    "start_time": "2022-04-27T22:02:47.270Z"
   },
   {
    "duration": 9,
    "start_time": "2022-04-27T22:02:47.277Z"
   },
   {
    "duration": 13,
    "start_time": "2022-04-27T22:02:47.288Z"
   },
   {
    "duration": 16,
    "start_time": "2022-04-27T22:02:47.303Z"
   },
   {
    "duration": 46,
    "start_time": "2022-04-27T22:02:47.321Z"
   },
   {
    "duration": 7,
    "start_time": "2022-04-27T22:02:47.368Z"
   },
   {
    "duration": 8,
    "start_time": "2022-04-27T22:02:47.376Z"
   },
   {
    "duration": 20,
    "start_time": "2022-04-27T22:02:47.386Z"
   },
   {
    "duration": 52,
    "start_time": "2022-04-27T22:02:47.407Z"
   },
   {
    "duration": 5,
    "start_time": "2022-04-27T22:02:47.460Z"
   },
   {
    "duration": 16,
    "start_time": "2022-04-27T22:02:47.467Z"
   },
   {
    "duration": 14,
    "start_time": "2022-04-27T22:02:47.484Z"
   },
   {
    "duration": 26,
    "start_time": "2022-04-27T22:02:47.499Z"
   },
   {
    "duration": 17,
    "start_time": "2022-04-27T22:02:54.337Z"
   },
   {
    "duration": 32,
    "start_time": "2022-04-27T22:02:59.300Z"
   },
   {
    "duration": 14,
    "start_time": "2022-04-27T22:03:31.404Z"
   },
   {
    "duration": 69,
    "start_time": "2022-04-27T22:03:41.195Z"
   },
   {
    "duration": 12,
    "start_time": "2022-04-27T22:03:41.266Z"
   },
   {
    "duration": 23,
    "start_time": "2022-04-27T22:03:41.280Z"
   },
   {
    "duration": 5,
    "start_time": "2022-04-27T22:03:41.305Z"
   },
   {
    "duration": 48,
    "start_time": "2022-04-27T22:03:41.311Z"
   },
   {
    "duration": 4,
    "start_time": "2022-04-27T22:03:41.361Z"
   },
   {
    "duration": 7,
    "start_time": "2022-04-27T22:03:41.367Z"
   },
   {
    "duration": 13,
    "start_time": "2022-04-27T22:03:41.376Z"
   },
   {
    "duration": 17,
    "start_time": "2022-04-27T22:03:41.391Z"
   },
   {
    "duration": 51,
    "start_time": "2022-04-27T22:03:41.411Z"
   },
   {
    "duration": 8,
    "start_time": "2022-04-27T22:03:41.464Z"
   },
   {
    "duration": 12,
    "start_time": "2022-04-27T22:03:41.473Z"
   },
   {
    "duration": 21,
    "start_time": "2022-04-27T22:03:41.486Z"
   },
   {
    "duration": 52,
    "start_time": "2022-04-27T22:03:41.509Z"
   },
   {
    "duration": 6,
    "start_time": "2022-04-27T22:03:41.562Z"
   },
   {
    "duration": 17,
    "start_time": "2022-04-27T22:03:41.569Z"
   },
   {
    "duration": 13,
    "start_time": "2022-04-27T22:03:41.588Z"
   },
   {
    "duration": 15,
    "start_time": "2022-04-27T22:03:41.602Z"
   },
   {
    "duration": 14,
    "start_time": "2022-04-27T22:03:43.209Z"
   },
   {
    "duration": 14,
    "start_time": "2022-04-27T22:03:50.086Z"
   },
   {
    "duration": 15,
    "start_time": "2022-04-27T22:03:59.547Z"
   },
   {
    "duration": 16,
    "start_time": "2022-04-27T22:04:58.982Z"
   },
   {
    "duration": 11,
    "start_time": "2022-04-27T22:06:02.737Z"
   },
   {
    "duration": 19,
    "start_time": "2022-04-27T22:06:08.979Z"
   },
   {
    "duration": 101,
    "start_time": "2022-04-27T22:06:17.462Z"
   },
   {
    "duration": 13,
    "start_time": "2022-04-27T22:06:17.565Z"
   },
   {
    "duration": 27,
    "start_time": "2022-04-27T22:06:17.580Z"
   },
   {
    "duration": 12,
    "start_time": "2022-04-27T22:06:17.609Z"
   },
   {
    "duration": 46,
    "start_time": "2022-04-27T22:06:17.623Z"
   },
   {
    "duration": 4,
    "start_time": "2022-04-27T22:06:17.671Z"
   },
   {
    "duration": 14,
    "start_time": "2022-04-27T22:06:17.677Z"
   },
   {
    "duration": 22,
    "start_time": "2022-04-27T22:06:17.693Z"
   },
   {
    "duration": 25,
    "start_time": "2022-04-27T22:06:17.716Z"
   },
   {
    "duration": 21,
    "start_time": "2022-04-27T22:06:17.743Z"
   },
   {
    "duration": 11,
    "start_time": "2022-04-27T22:06:17.766Z"
   },
   {
    "duration": 22,
    "start_time": "2022-04-27T22:06:17.778Z"
   },
   {
    "duration": 24,
    "start_time": "2022-04-27T22:06:17.801Z"
   },
   {
    "duration": 14,
    "start_time": "2022-04-27T22:06:17.827Z"
   },
   {
    "duration": 25,
    "start_time": "2022-04-27T22:06:17.842Z"
   },
   {
    "duration": 28,
    "start_time": "2022-04-27T22:06:17.868Z"
   },
   {
    "duration": 14,
    "start_time": "2022-04-27T22:06:17.897Z"
   },
   {
    "duration": 9,
    "start_time": "2022-04-27T22:06:20.457Z"
   },
   {
    "duration": 140,
    "start_time": "2022-04-27T22:07:50.223Z"
   },
   {
    "duration": 143,
    "start_time": "2022-04-27T22:08:33.934Z"
   },
   {
    "duration": 639,
    "start_time": "2022-04-28T06:31:37.575Z"
   },
   {
    "duration": 36,
    "start_time": "2022-04-28T06:31:38.216Z"
   },
   {
    "duration": 20,
    "start_time": "2022-04-28T06:31:38.255Z"
   },
   {
    "duration": 8,
    "start_time": "2022-04-28T06:31:38.278Z"
   },
   {
    "duration": 82,
    "start_time": "2022-04-28T06:31:38.289Z"
   },
   {
    "duration": 5,
    "start_time": "2022-04-28T06:31:38.373Z"
   },
   {
    "duration": 14,
    "start_time": "2022-04-28T06:31:38.380Z"
   },
   {
    "duration": 20,
    "start_time": "2022-04-28T06:31:38.426Z"
   },
   {
    "duration": 29,
    "start_time": "2022-04-28T06:31:38.449Z"
   },
   {
    "duration": 44,
    "start_time": "2022-04-28T06:31:38.483Z"
   },
   {
    "duration": 19,
    "start_time": "2022-04-28T06:31:38.530Z"
   },
   {
    "duration": 9,
    "start_time": "2022-04-28T06:31:38.552Z"
   },
   {
    "duration": 68,
    "start_time": "2022-04-28T06:31:38.563Z"
   },
   {
    "duration": 22,
    "start_time": "2022-04-28T06:31:38.634Z"
   },
   {
    "duration": 9,
    "start_time": "2022-04-28T06:31:38.658Z"
   },
   {
    "duration": 21,
    "start_time": "2022-04-28T06:31:38.670Z"
   },
   {
    "duration": 28,
    "start_time": "2022-04-28T06:31:38.725Z"
   },
   {
    "duration": 21,
    "start_time": "2022-04-28T06:31:38.755Z"
   },
   {
    "duration": 48,
    "start_time": "2022-04-28T06:31:38.778Z"
   },
   {
    "duration": 29,
    "start_time": "2022-04-28T06:31:38.829Z"
   },
   {
    "duration": 77,
    "start_time": "2022-04-28T06:31:38.860Z"
   },
   {
    "duration": 18,
    "start_time": "2022-04-28T06:31:38.940Z"
   },
   {
    "duration": 20,
    "start_time": "2022-04-28T06:31:38.960Z"
   },
   {
    "duration": 7,
    "start_time": "2022-04-28T06:31:38.982Z"
   },
   {
    "duration": 68,
    "start_time": "2022-04-28T06:31:38.991Z"
   },
   {
    "duration": 8,
    "start_time": "2022-04-28T06:31:39.061Z"
   },
   {
    "duration": 13,
    "start_time": "2022-04-28T06:31:39.071Z"
   },
   {
    "duration": 52,
    "start_time": "2022-04-28T06:31:39.089Z"
   },
   {
    "duration": 10,
    "start_time": "2022-04-28T06:31:39.143Z"
   },
   {
    "duration": 9,
    "start_time": "2022-04-28T06:31:39.155Z"
   },
   {
    "duration": 9,
    "start_time": "2022-04-28T06:31:39.166Z"
   },
   {
    "duration": 87,
    "start_time": "2022-04-28T06:31:39.177Z"
   },
   {
    "duration": 11,
    "start_time": "2022-04-28T06:31:39.266Z"
   },
   {
    "duration": 50,
    "start_time": "2022-04-28T06:31:39.280Z"
   },
   {
    "duration": 34,
    "start_time": "2022-04-28T06:31:39.333Z"
   },
   {
    "duration": 17,
    "start_time": "2022-04-28T06:31:39.369Z"
   },
   {
    "duration": 82,
    "start_time": "2022-04-28T06:31:39.389Z"
   },
   {
    "duration": 10,
    "start_time": "2022-04-28T06:31:39.473Z"
   },
   {
    "duration": 19,
    "start_time": "2022-04-28T06:31:39.485Z"
   },
   {
    "duration": 51,
    "start_time": "2022-04-28T06:31:39.505Z"
   },
   {
    "duration": 13,
    "start_time": "2022-04-28T06:31:39.558Z"
   },
   {
    "duration": 37,
    "start_time": "2022-04-28T06:31:39.573Z"
   },
   {
    "duration": 46,
    "start_time": "2022-04-28T06:31:39.612Z"
   },
   {
    "duration": 34,
    "start_time": "2022-04-28T06:31:39.660Z"
   },
   {
    "duration": 59,
    "start_time": "2022-04-28T06:31:39.696Z"
   },
   {
    "duration": 33,
    "start_time": "2022-04-28T06:31:39.757Z"
   },
   {
    "duration": 39,
    "start_time": "2022-04-28T06:31:39.792Z"
   },
   {
    "duration": 25,
    "start_time": "2022-04-28T06:31:39.833Z"
   },
   {
    "duration": 37,
    "start_time": "2022-04-28T06:31:39.861Z"
   },
   {
    "duration": 23,
    "start_time": "2022-04-28T06:31:39.900Z"
   },
   {
    "duration": 13,
    "start_time": "2022-04-28T06:36:00.200Z"
   },
   {
    "duration": 21,
    "start_time": "2022-04-28T06:42:16.429Z"
   },
   {
    "duration": 94,
    "start_time": "2022-04-28T06:42:25.956Z"
   },
   {
    "duration": 31,
    "start_time": "2022-04-28T06:42:26.054Z"
   },
   {
    "duration": 50,
    "start_time": "2022-04-28T06:42:26.088Z"
   },
   {
    "duration": 7,
    "start_time": "2022-04-28T06:42:26.141Z"
   },
   {
    "duration": 48,
    "start_time": "2022-04-28T06:42:26.150Z"
   },
   {
    "duration": 6,
    "start_time": "2022-04-28T06:42:26.225Z"
   },
   {
    "duration": 9,
    "start_time": "2022-04-28T06:42:26.233Z"
   },
   {
    "duration": 14,
    "start_time": "2022-04-28T06:42:26.244Z"
   },
   {
    "duration": 67,
    "start_time": "2022-04-28T06:42:26.261Z"
   },
   {
    "duration": 25,
    "start_time": "2022-04-28T06:42:26.331Z"
   },
   {
    "duration": 8,
    "start_time": "2022-04-28T06:42:26.358Z"
   },
   {
    "duration": 10,
    "start_time": "2022-04-28T06:42:26.368Z"
   },
   {
    "duration": 72,
    "start_time": "2022-04-28T06:42:26.381Z"
   },
   {
    "duration": 22,
    "start_time": "2022-04-28T06:42:26.455Z"
   },
   {
    "duration": 7,
    "start_time": "2022-04-28T06:42:26.480Z"
   },
   {
    "duration": 24,
    "start_time": "2022-04-28T06:42:26.525Z"
   },
   {
    "duration": 29,
    "start_time": "2022-04-28T06:42:26.551Z"
   },
   {
    "duration": 44,
    "start_time": "2022-04-28T06:42:26.582Z"
   },
   {
    "duration": 20,
    "start_time": "2022-04-28T06:42:28.629Z"
   },
   {
    "duration": 98,
    "start_time": "2022-04-28T06:42:42.939Z"
   },
   {
    "duration": 12,
    "start_time": "2022-04-28T06:44:29.858Z"
   },
   {
    "duration": 11,
    "start_time": "2022-04-28T06:44:40.808Z"
   },
   {
    "duration": 18,
    "start_time": "2022-04-28T06:44:48.186Z"
   },
   {
    "duration": 19,
    "start_time": "2022-04-28T06:44:52.661Z"
   },
   {
    "duration": 84,
    "start_time": "2022-04-28T06:44:58.611Z"
   },
   {
    "duration": 36,
    "start_time": "2022-04-28T06:44:58.698Z"
   },
   {
    "duration": 26,
    "start_time": "2022-04-28T06:44:58.736Z"
   },
   {
    "duration": 10,
    "start_time": "2022-04-28T06:44:58.767Z"
   },
   {
    "duration": 111,
    "start_time": "2022-04-28T06:44:58.780Z"
   },
   {
    "duration": 7,
    "start_time": "2022-04-28T06:44:58.893Z"
   },
   {
    "duration": 9,
    "start_time": "2022-04-28T06:44:58.924Z"
   },
   {
    "duration": 15,
    "start_time": "2022-04-28T06:44:58.935Z"
   },
   {
    "duration": 25,
    "start_time": "2022-04-28T06:44:58.952Z"
   },
   {
    "duration": 64,
    "start_time": "2022-04-28T06:44:58.980Z"
   },
   {
    "duration": 8,
    "start_time": "2022-04-28T06:44:59.047Z"
   },
   {
    "duration": 10,
    "start_time": "2022-04-28T06:44:59.058Z"
   },
   {
    "duration": 79,
    "start_time": "2022-04-28T06:44:59.070Z"
   },
   {
    "duration": 21,
    "start_time": "2022-04-28T06:44:59.152Z"
   },
   {
    "duration": 9,
    "start_time": "2022-04-28T06:44:59.175Z"
   },
   {
    "duration": 23,
    "start_time": "2022-04-28T06:44:59.225Z"
   },
   {
    "duration": 32,
    "start_time": "2022-04-28T06:44:59.251Z"
   },
   {
    "duration": 46,
    "start_time": "2022-04-28T06:44:59.286Z"
   },
   {
    "duration": 23,
    "start_time": "2022-04-28T06:44:59.335Z"
   },
   {
    "duration": 66,
    "start_time": "2022-04-28T06:44:59.360Z"
   },
   {
    "duration": 53,
    "start_time": "2022-04-28T06:44:59.429Z"
   },
   {
    "duration": 42,
    "start_time": "2022-04-28T06:44:59.484Z"
   },
   {
    "duration": 20,
    "start_time": "2022-04-28T06:44:59.528Z"
   },
   {
    "duration": 18,
    "start_time": "2022-04-28T06:49:25.135Z"
   },
   {
    "duration": 21,
    "start_time": "2022-04-28T06:49:28.559Z"
   },
   {
    "duration": 95,
    "start_time": "2022-04-28T06:49:33.243Z"
   },
   {
    "duration": 22,
    "start_time": "2022-04-28T06:49:33.341Z"
   },
   {
    "duration": 24,
    "start_time": "2022-04-28T06:49:33.366Z"
   },
   {
    "duration": 37,
    "start_time": "2022-04-28T06:49:33.393Z"
   },
   {
    "duration": 54,
    "start_time": "2022-04-28T06:49:33.433Z"
   },
   {
    "duration": 38,
    "start_time": "2022-04-28T06:49:33.489Z"
   },
   {
    "duration": 20,
    "start_time": "2022-04-28T06:49:33.530Z"
   },
   {
    "duration": 19,
    "start_time": "2022-04-28T06:49:33.552Z"
   },
   {
    "duration": 42,
    "start_time": "2022-04-28T06:49:33.573Z"
   },
   {
    "duration": 118,
    "start_time": "2022-04-28T06:49:33.624Z"
   },
   {
    "duration": 34,
    "start_time": "2022-04-28T06:49:33.745Z"
   },
   {
    "duration": 22,
    "start_time": "2022-04-28T06:49:33.781Z"
   },
   {
    "duration": 29,
    "start_time": "2022-04-28T06:49:33.805Z"
   },
   {
    "duration": 21,
    "start_time": "2022-04-28T06:49:33.836Z"
   },
   {
    "duration": 12,
    "start_time": "2022-04-28T06:49:33.860Z"
   },
   {
    "duration": 26,
    "start_time": "2022-04-28T06:49:33.874Z"
   },
   {
    "duration": 22,
    "start_time": "2022-04-28T06:49:33.925Z"
   },
   {
    "duration": 26,
    "start_time": "2022-04-28T06:49:33.949Z"
   },
   {
    "duration": 20,
    "start_time": "2022-04-28T06:49:33.977Z"
   },
   {
    "duration": 41,
    "start_time": "2022-04-28T06:49:33.999Z"
   },
   {
    "duration": 20,
    "start_time": "2022-04-28T06:49:34.042Z"
   },
   {
    "duration": 68,
    "start_time": "2022-04-28T06:50:53.089Z"
   },
   {
    "duration": 25,
    "start_time": "2022-04-28T06:51:05.630Z"
   },
   {
    "duration": 24,
    "start_time": "2022-04-28T06:51:10.211Z"
   },
   {
    "duration": 101,
    "start_time": "2022-04-28T06:51:16.728Z"
   },
   {
    "duration": 21,
    "start_time": "2022-04-28T06:51:16.832Z"
   },
   {
    "duration": 28,
    "start_time": "2022-04-28T06:51:16.856Z"
   },
   {
    "duration": 42,
    "start_time": "2022-04-28T06:51:16.887Z"
   },
   {
    "duration": 58,
    "start_time": "2022-04-28T06:51:16.931Z"
   },
   {
    "duration": 7,
    "start_time": "2022-04-28T06:51:16.991Z"
   },
   {
    "duration": 9,
    "start_time": "2022-04-28T06:51:17.024Z"
   },
   {
    "duration": 18,
    "start_time": "2022-04-28T06:51:17.035Z"
   },
   {
    "duration": 26,
    "start_time": "2022-04-28T06:51:17.055Z"
   },
   {
    "duration": 64,
    "start_time": "2022-04-28T06:51:17.085Z"
   },
   {
    "duration": 9,
    "start_time": "2022-04-28T06:51:17.152Z"
   },
   {
    "duration": 12,
    "start_time": "2022-04-28T06:51:17.164Z"
   },
   {
    "duration": 30,
    "start_time": "2022-04-28T06:51:17.224Z"
   },
   {
    "duration": 21,
    "start_time": "2022-04-28T06:51:17.256Z"
   },
   {
    "duration": 7,
    "start_time": "2022-04-28T06:51:17.279Z"
   },
   {
    "duration": 58,
    "start_time": "2022-04-28T06:51:17.288Z"
   },
   {
    "duration": 24,
    "start_time": "2022-04-28T06:51:17.348Z"
   },
   {
    "duration": 13,
    "start_time": "2022-04-28T06:51:17.374Z"
   },
   {
    "duration": 54,
    "start_time": "2022-04-28T06:51:17.389Z"
   },
   {
    "duration": 20,
    "start_time": "2022-04-28T06:51:17.445Z"
   },
   {
    "duration": 18,
    "start_time": "2022-04-28T06:51:17.467Z"
   },
   {
    "duration": 39,
    "start_time": "2022-04-28T06:51:17.487Z"
   },
   {
    "duration": 25,
    "start_time": "2022-04-28T06:51:17.528Z"
   },
   {
    "duration": 11,
    "start_time": "2022-04-28T06:51:17.555Z"
   },
   {
    "duration": 17,
    "start_time": "2022-04-28T06:51:17.569Z"
   },
   {
    "duration": 50,
    "start_time": "2022-04-28T06:51:17.588Z"
   },
   {
    "duration": 11,
    "start_time": "2022-04-28T06:51:17.640Z"
   },
   {
    "duration": 8,
    "start_time": "2022-04-28T06:51:17.655Z"
   },
   {
    "duration": 12,
    "start_time": "2022-04-28T06:51:17.665Z"
   },
   {
    "duration": 23,
    "start_time": "2022-04-28T06:51:19.174Z"
   },
   {
    "duration": 48,
    "start_time": "2022-04-28T06:59:28.127Z"
   },
   {
    "duration": 47,
    "start_time": "2022-04-28T06:59:54.272Z"
   },
   {
    "duration": 51,
    "start_time": "2022-04-28T07:00:01.594Z"
   },
   {
    "duration": 46,
    "start_time": "2022-04-28T07:00:30.502Z"
   },
   {
    "duration": 59,
    "start_time": "2022-04-28T07:01:01.320Z"
   },
   {
    "duration": 50,
    "start_time": "2022-04-28T07:01:29.695Z"
   },
   {
    "duration": 23,
    "start_time": "2022-04-28T07:04:21.903Z"
   },
   {
    "duration": 93,
    "start_time": "2022-04-28T07:04:37.666Z"
   },
   {
    "duration": 20,
    "start_time": "2022-04-28T07:04:37.761Z"
   },
   {
    "duration": 53,
    "start_time": "2022-04-28T07:04:37.783Z"
   },
   {
    "duration": 8,
    "start_time": "2022-04-28T07:04:37.839Z"
   },
   {
    "duration": 123,
    "start_time": "2022-04-28T07:04:37.850Z"
   },
   {
    "duration": 6,
    "start_time": "2022-04-28T07:04:37.975Z"
   },
   {
    "duration": 14,
    "start_time": "2022-04-28T07:04:37.983Z"
   },
   {
    "duration": 21,
    "start_time": "2022-04-28T07:04:38.025Z"
   },
   {
    "duration": 23,
    "start_time": "2022-04-28T07:04:38.049Z"
   },
   {
    "duration": 70,
    "start_time": "2022-04-28T07:04:38.076Z"
   },
   {
    "duration": 8,
    "start_time": "2022-04-28T07:04:38.148Z"
   },
   {
    "duration": 12,
    "start_time": "2022-04-28T07:04:38.158Z"
   },
   {
    "duration": 66,
    "start_time": "2022-04-28T07:04:38.172Z"
   },
   {
    "duration": 21,
    "start_time": "2022-04-28T07:04:38.241Z"
   },
   {
    "duration": 8,
    "start_time": "2022-04-28T07:04:38.264Z"
   },
   {
    "duration": 61,
    "start_time": "2022-04-28T07:04:38.275Z"
   },
   {
    "duration": 23,
    "start_time": "2022-04-28T07:04:38.339Z"
   },
   {
    "duration": 13,
    "start_time": "2022-04-28T07:04:38.365Z"
   },
   {
    "duration": 53,
    "start_time": "2022-04-28T07:04:38.381Z"
   },
   {
    "duration": 21,
    "start_time": "2022-04-28T07:04:38.436Z"
   },
   {
    "duration": 22,
    "start_time": "2022-04-28T07:04:38.459Z"
   },
   {
    "duration": 6,
    "start_time": "2022-04-28T07:04:38.483Z"
   },
   {
    "duration": 32,
    "start_time": "2022-04-28T07:04:38.524Z"
   },
   {
    "duration": 14,
    "start_time": "2022-04-28T07:04:38.558Z"
   },
   {
    "duration": 13,
    "start_time": "2022-04-28T07:04:38.574Z"
   },
   {
    "duration": 49,
    "start_time": "2022-04-28T07:04:38.589Z"
   },
   {
    "duration": 16,
    "start_time": "2022-04-28T07:04:38.641Z"
   },
   {
    "duration": 12,
    "start_time": "2022-04-28T07:04:38.663Z"
   },
   {
    "duration": 21,
    "start_time": "2022-04-28T07:04:38.677Z"
   },
   {
    "duration": 75,
    "start_time": "2022-04-28T07:04:38.701Z"
   },
   {
    "duration": 62,
    "start_time": "2022-04-28T07:04:38.778Z"
   },
   {
    "duration": 44,
    "start_time": "2022-04-28T07:04:38.843Z"
   },
   {
    "duration": 37,
    "start_time": "2022-04-28T07:04:38.889Z"
   },
   {
    "duration": 16,
    "start_time": "2022-04-28T07:04:38.929Z"
   },
   {
    "duration": 33,
    "start_time": "2022-04-28T07:04:38.948Z"
   },
   {
    "duration": 49,
    "start_time": "2022-04-28T07:04:38.984Z"
   },
   {
    "duration": 65,
    "start_time": "2022-04-28T07:04:39.036Z"
   },
   {
    "duration": 29,
    "start_time": "2022-04-28T07:04:39.103Z"
   },
   {
    "duration": 30,
    "start_time": "2022-04-28T07:04:39.134Z"
   },
   {
    "duration": 36,
    "start_time": "2022-04-28T07:04:39.166Z"
   },
   {
    "duration": 24,
    "start_time": "2022-04-28T07:04:39.205Z"
   },
   {
    "duration": 28,
    "start_time": "2022-04-28T07:04:39.232Z"
   },
   {
    "duration": 21,
    "start_time": "2022-04-28T07:04:39.263Z"
   },
   {
    "duration": 24,
    "start_time": "2022-04-28T07:04:40.537Z"
   },
   {
    "duration": 51,
    "start_time": "2022-04-28T07:05:05.406Z"
   },
   {
    "duration": 50,
    "start_time": "2022-04-28T07:05:25.604Z"
   },
   {
    "duration": 69,
    "start_time": "2022-04-28T07:06:08.446Z"
   },
   {
    "duration": 534,
    "start_time": "2022-04-28T14:43:57.860Z"
   },
   {
    "duration": 20,
    "start_time": "2022-04-28T14:43:58.395Z"
   },
   {
    "duration": 13,
    "start_time": "2022-04-28T14:43:58.417Z"
   },
   {
    "duration": 6,
    "start_time": "2022-04-28T14:43:58.432Z"
   },
   {
    "duration": 57,
    "start_time": "2022-04-28T14:43:58.439Z"
   },
   {
    "duration": 4,
    "start_time": "2022-04-28T14:43:58.498Z"
   },
   {
    "duration": 5,
    "start_time": "2022-04-28T14:43:58.504Z"
   },
   {
    "duration": 14,
    "start_time": "2022-04-28T14:43:58.511Z"
   },
   {
    "duration": 18,
    "start_time": "2022-04-28T14:43:58.527Z"
   },
   {
    "duration": 50,
    "start_time": "2022-04-28T14:43:58.548Z"
   },
   {
    "duration": 8,
    "start_time": "2022-04-28T14:43:58.599Z"
   },
   {
    "duration": 7,
    "start_time": "2022-04-28T14:43:58.608Z"
   },
   {
    "duration": 22,
    "start_time": "2022-04-28T14:43:58.616Z"
   },
   {
    "duration": 16,
    "start_time": "2022-04-28T14:43:58.640Z"
   },
   {
    "duration": 6,
    "start_time": "2022-04-28T14:43:58.692Z"
   },
   {
    "duration": 15,
    "start_time": "2022-04-28T14:43:58.699Z"
   },
   {
    "duration": 15,
    "start_time": "2022-04-28T14:43:58.715Z"
   },
   {
    "duration": 9,
    "start_time": "2022-04-28T14:43:58.731Z"
   },
   {
    "duration": 16,
    "start_time": "2022-04-28T14:43:58.741Z"
   },
   {
    "duration": 42,
    "start_time": "2022-04-28T14:43:58.759Z"
   },
   {
    "duration": 13,
    "start_time": "2022-04-28T14:43:58.803Z"
   },
   {
    "duration": 18,
    "start_time": "2022-04-28T14:43:58.817Z"
   },
   {
    "duration": 19,
    "start_time": "2022-04-28T14:43:58.836Z"
   },
   {
    "duration": 5,
    "start_time": "2022-04-28T14:43:58.856Z"
   },
   {
    "duration": 11,
    "start_time": "2022-04-28T14:43:58.862Z"
   },
   {
    "duration": 28,
    "start_time": "2022-04-28T14:43:58.874Z"
   },
   {
    "duration": 14,
    "start_time": "2022-04-28T14:43:58.903Z"
   },
   {
    "duration": 7,
    "start_time": "2022-04-28T14:43:58.920Z"
   },
   {
    "duration": 12,
    "start_time": "2022-04-28T14:43:58.929Z"
   },
   {
    "duration": 32,
    "start_time": "2022-04-28T14:43:58.943Z"
   },
   {
    "duration": 32,
    "start_time": "2022-04-28T14:43:58.992Z"
   },
   {
    "duration": 30,
    "start_time": "2022-04-28T14:43:59.026Z"
   },
   {
    "duration": 35,
    "start_time": "2022-04-28T14:43:59.058Z"
   },
   {
    "duration": 8,
    "start_time": "2022-04-28T14:43:59.095Z"
   },
   {
    "duration": 19,
    "start_time": "2022-04-28T14:43:59.104Z"
   },
   {
    "duration": 11,
    "start_time": "2022-04-28T14:43:59.124Z"
   },
   {
    "duration": 68,
    "start_time": "2022-04-28T14:43:59.136Z"
   },
   {
    "duration": 10,
    "start_time": "2022-04-28T14:43:59.206Z"
   },
   {
    "duration": 9,
    "start_time": "2022-04-28T14:43:59.218Z"
   },
   {
    "duration": 19,
    "start_time": "2022-04-28T14:43:59.228Z"
   },
   {
    "duration": 46,
    "start_time": "2022-04-28T14:43:59.249Z"
   },
   {
    "duration": 17,
    "start_time": "2022-04-28T14:43:59.297Z"
   },
   {
    "duration": 44,
    "start_time": "2022-04-28T14:43:59.316Z"
   },
   {
    "duration": 53,
    "start_time": "2022-04-28T14:43:59.363Z"
   },
   {
    "duration": 23,
    "start_time": "2022-04-28T14:43:59.418Z"
   },
   {
    "duration": 49,
    "start_time": "2022-04-28T14:43:59.443Z"
   },
   {
    "duration": 9,
    "start_time": "2022-04-28T14:43:59.494Z"
   },
   {
    "duration": 10,
    "start_time": "2022-04-28T14:43:59.505Z"
   },
   {
    "duration": 9,
    "start_time": "2022-04-28T14:43:59.517Z"
   },
   {
    "duration": 9,
    "start_time": "2022-04-28T14:43:59.528Z"
   },
   {
    "duration": 58,
    "start_time": "2022-04-28T14:45:09.400Z"
   },
   {
    "duration": 21,
    "start_time": "2022-04-28T14:51:06.835Z"
   },
   {
    "duration": 560,
    "start_time": "2022-04-28T14:54:25.564Z"
   },
   {
    "duration": 19,
    "start_time": "2022-04-28T14:54:26.126Z"
   },
   {
    "duration": 14,
    "start_time": "2022-04-28T14:54:26.147Z"
   },
   {
    "duration": 7,
    "start_time": "2022-04-28T14:54:26.163Z"
   },
   {
    "duration": 32,
    "start_time": "2022-04-28T14:54:26.192Z"
   },
   {
    "duration": 4,
    "start_time": "2022-04-28T14:54:26.225Z"
   },
   {
    "duration": 7,
    "start_time": "2022-04-28T14:54:26.231Z"
   },
   {
    "duration": 11,
    "start_time": "2022-04-28T14:54:26.239Z"
   },
   {
    "duration": 56,
    "start_time": "2022-04-28T14:54:26.252Z"
   },
   {
    "duration": 17,
    "start_time": "2022-04-28T14:54:26.311Z"
   },
   {
    "duration": 7,
    "start_time": "2022-04-28T14:54:26.330Z"
   },
   {
    "duration": 13,
    "start_time": "2022-04-28T14:54:26.339Z"
   },
   {
    "duration": 53,
    "start_time": "2022-04-28T14:54:26.354Z"
   },
   {
    "duration": 15,
    "start_time": "2022-04-28T14:54:26.409Z"
   },
   {
    "duration": 5,
    "start_time": "2022-04-28T14:54:26.425Z"
   },
   {
    "duration": 21,
    "start_time": "2022-04-28T14:54:26.432Z"
   },
   {
    "duration": 50,
    "start_time": "2022-04-28T14:54:26.456Z"
   },
   {
    "duration": 12,
    "start_time": "2022-04-28T14:54:26.508Z"
   },
   {
    "duration": 17,
    "start_time": "2022-04-28T14:54:26.522Z"
   },
   {
    "duration": 15,
    "start_time": "2022-04-28T14:54:26.541Z"
   },
   {
    "duration": 47,
    "start_time": "2022-04-28T14:54:26.557Z"
   },
   {
    "duration": 5,
    "start_time": "2022-04-28T14:54:26.606Z"
   },
   {
    "duration": 19,
    "start_time": "2022-04-28T14:54:26.613Z"
   },
   {
    "duration": 6,
    "start_time": "2022-04-28T14:54:26.633Z"
   },
   {
    "duration": 6,
    "start_time": "2022-04-28T14:54:26.641Z"
   },
   {
    "duration": 48,
    "start_time": "2022-04-28T14:54:26.649Z"
   },
   {
    "duration": 7,
    "start_time": "2022-04-28T14:54:26.699Z"
   },
   {
    "duration": 7,
    "start_time": "2022-04-28T14:54:26.710Z"
   },
   {
    "duration": 11,
    "start_time": "2022-04-28T14:54:26.719Z"
   },
   {
    "duration": 80,
    "start_time": "2022-04-28T14:54:26.732Z"
   },
   {
    "duration": 51,
    "start_time": "2022-04-28T14:54:26.814Z"
   },
   {
    "duration": 61,
    "start_time": "2022-04-28T14:54:26.867Z"
   },
   {
    "duration": 10,
    "start_time": "2022-04-28T14:54:26.930Z"
   },
   {
    "duration": 7,
    "start_time": "2022-04-28T14:54:26.942Z"
   },
   {
    "duration": 49,
    "start_time": "2022-04-28T14:54:26.951Z"
   },
   {
    "duration": 7,
    "start_time": "2022-04-28T14:54:27.002Z"
   },
   {
    "duration": 42,
    "start_time": "2022-04-28T14:54:27.011Z"
   },
   {
    "duration": 8,
    "start_time": "2022-04-28T14:54:27.055Z"
   },
   {
    "duration": 8,
    "start_time": "2022-04-28T14:54:27.092Z"
   },
   {
    "duration": 19,
    "start_time": "2022-04-28T14:54:27.102Z"
   },
   {
    "duration": 4,
    "start_time": "2022-04-28T14:54:27.123Z"
   },
   {
    "duration": 25,
    "start_time": "2022-04-28T14:54:27.128Z"
   },
   {
    "duration": 42,
    "start_time": "2022-04-28T14:54:27.155Z"
   },
   {
    "duration": 24,
    "start_time": "2022-04-28T14:54:27.199Z"
   },
   {
    "duration": 23,
    "start_time": "2022-04-28T14:54:27.224Z"
   },
   {
    "duration": 46,
    "start_time": "2022-04-28T14:54:27.248Z"
   },
   {
    "duration": 9,
    "start_time": "2022-04-28T14:54:27.295Z"
   },
   {
    "duration": 10,
    "start_time": "2022-04-28T14:54:27.305Z"
   },
   {
    "duration": 9,
    "start_time": "2022-04-28T14:54:27.316Z"
   },
   {
    "duration": 12,
    "start_time": "2022-04-28T14:54:27.327Z"
   },
   {
    "duration": 492,
    "start_time": "2022-04-28T14:54:43.852Z"
   },
   {
    "duration": 24,
    "start_time": "2022-04-28T14:54:44.347Z"
   },
   {
    "duration": 26,
    "start_time": "2022-04-28T14:54:44.373Z"
   },
   {
    "duration": 8,
    "start_time": "2022-04-28T14:54:44.401Z"
   },
   {
    "duration": 31,
    "start_time": "2022-04-28T14:54:44.410Z"
   },
   {
    "duration": 4,
    "start_time": "2022-04-28T14:54:44.443Z"
   },
   {
    "duration": 10,
    "start_time": "2022-04-28T14:54:44.448Z"
   },
   {
    "duration": 44,
    "start_time": "2022-04-28T14:54:44.459Z"
   },
   {
    "duration": 27,
    "start_time": "2022-04-28T14:54:44.505Z"
   },
   {
    "duration": 23,
    "start_time": "2022-04-28T14:54:44.536Z"
   },
   {
    "duration": 31,
    "start_time": "2022-04-28T14:54:44.561Z"
   },
   {
    "duration": 9,
    "start_time": "2022-04-28T14:54:44.594Z"
   },
   {
    "duration": 29,
    "start_time": "2022-04-28T14:54:44.605Z"
   },
   {
    "duration": 23,
    "start_time": "2022-04-28T14:54:44.636Z"
   },
   {
    "duration": 33,
    "start_time": "2022-04-28T14:54:44.661Z"
   },
   {
    "duration": 22,
    "start_time": "2022-04-28T14:54:44.695Z"
   },
   {
    "duration": 19,
    "start_time": "2022-04-28T14:54:44.719Z"
   },
   {
    "duration": 16,
    "start_time": "2022-04-28T14:54:44.740Z"
   },
   {
    "duration": 46,
    "start_time": "2022-04-28T14:54:44.757Z"
   },
   {
    "duration": 14,
    "start_time": "2022-04-28T14:54:44.805Z"
   },
   {
    "duration": 15,
    "start_time": "2022-04-28T14:54:44.821Z"
   },
   {
    "duration": 6,
    "start_time": "2022-04-28T14:54:44.837Z"
   },
   {
    "duration": 52,
    "start_time": "2022-04-28T14:54:44.844Z"
   },
   {
    "duration": 6,
    "start_time": "2022-04-28T14:54:44.897Z"
   },
   {
    "duration": 9,
    "start_time": "2022-04-28T14:54:44.904Z"
   },
   {
    "duration": 13,
    "start_time": "2022-04-28T14:54:44.914Z"
   },
   {
    "duration": 6,
    "start_time": "2022-04-28T14:54:44.929Z"
   },
   {
    "duration": 20,
    "start_time": "2022-04-28T14:54:44.939Z"
   },
   {
    "duration": 12,
    "start_time": "2022-04-28T14:54:44.960Z"
   },
   {
    "duration": 50,
    "start_time": "2022-04-28T14:54:44.973Z"
   },
   {
    "duration": 34,
    "start_time": "2022-04-28T14:54:45.025Z"
   },
   {
    "duration": 57,
    "start_time": "2022-04-28T14:54:45.060Z"
   },
   {
    "duration": 8,
    "start_time": "2022-04-28T14:54:45.119Z"
   },
   {
    "duration": 11,
    "start_time": "2022-04-28T14:54:45.129Z"
   },
   {
    "duration": 54,
    "start_time": "2022-04-28T14:54:45.143Z"
   },
   {
    "duration": 10,
    "start_time": "2022-04-28T14:54:45.200Z"
   },
   {
    "duration": 89,
    "start_time": "2022-04-28T14:54:45.212Z"
   },
   {
    "duration": 9,
    "start_time": "2022-04-28T14:54:45.304Z"
   },
   {
    "duration": 24,
    "start_time": "2022-04-28T14:54:45.315Z"
   },
   {
    "duration": 29,
    "start_time": "2022-04-28T14:54:45.341Z"
   },
   {
    "duration": 5,
    "start_time": "2022-04-28T14:54:45.372Z"
   },
   {
    "duration": 41,
    "start_time": "2022-04-28T14:54:45.379Z"
   },
   {
    "duration": 52,
    "start_time": "2022-04-28T14:54:45.422Z"
   },
   {
    "duration": 39,
    "start_time": "2022-04-28T14:54:45.476Z"
   },
   {
    "duration": 21,
    "start_time": "2022-04-28T14:54:45.517Z"
   },
   {
    "duration": 28,
    "start_time": "2022-04-28T14:54:45.540Z"
   },
   {
    "duration": 11,
    "start_time": "2022-04-28T14:54:45.570Z"
   },
   {
    "duration": 32,
    "start_time": "2022-04-28T14:54:45.583Z"
   },
   {
    "duration": 13,
    "start_time": "2022-04-28T14:54:45.616Z"
   },
   {
    "duration": 10,
    "start_time": "2022-04-28T14:54:45.630Z"
   },
   {
    "duration": 52,
    "start_time": "2022-05-15T19:06:31.762Z"
   },
   {
    "duration": 511,
    "start_time": "2022-05-15T19:06:37.415Z"
   },
   {
    "duration": 31,
    "start_time": "2022-05-15T19:06:37.928Z"
   },
   {
    "duration": 24,
    "start_time": "2022-05-15T19:06:37.963Z"
   },
   {
    "duration": 5,
    "start_time": "2022-05-15T19:06:37.990Z"
   },
   {
    "duration": 47,
    "start_time": "2022-05-15T19:06:37.997Z"
   },
   {
    "duration": 6,
    "start_time": "2022-05-15T19:06:38.048Z"
   },
   {
    "duration": 22,
    "start_time": "2022-05-15T19:06:38.056Z"
   },
   {
    "duration": 13,
    "start_time": "2022-05-15T19:06:38.080Z"
   },
   {
    "duration": 43,
    "start_time": "2022-05-15T19:06:38.094Z"
   },
   {
    "duration": 24,
    "start_time": "2022-05-15T19:06:38.141Z"
   },
   {
    "duration": 9,
    "start_time": "2022-05-15T19:06:38.167Z"
   },
   {
    "duration": 8,
    "start_time": "2022-05-15T19:06:38.178Z"
   },
   {
    "duration": 63,
    "start_time": "2022-05-15T19:06:38.188Z"
   },
   {
    "duration": 21,
    "start_time": "2022-05-15T19:06:38.252Z"
   },
   {
    "duration": 6,
    "start_time": "2022-05-15T19:06:38.275Z"
   },
   {
    "duration": 18,
    "start_time": "2022-05-15T19:06:38.283Z"
   },
   {
    "duration": 56,
    "start_time": "2022-05-15T19:06:38.303Z"
   },
   {
    "duration": 20,
    "start_time": "2022-05-15T19:06:38.360Z"
   },
   {
    "duration": 16,
    "start_time": "2022-05-15T19:06:38.382Z"
   },
   {
    "duration": 14,
    "start_time": "2022-05-15T19:06:38.400Z"
   },
   {
    "duration": 37,
    "start_time": "2022-05-15T19:06:38.416Z"
   },
   {
    "duration": 22,
    "start_time": "2022-05-15T19:06:38.454Z"
   },
   {
    "duration": 20,
    "start_time": "2022-05-15T19:06:38.478Z"
   },
   {
    "duration": 7,
    "start_time": "2022-05-15T19:06:38.499Z"
   },
   {
    "duration": 7,
    "start_time": "2022-05-15T19:06:38.507Z"
   },
   {
    "duration": 23,
    "start_time": "2022-05-15T19:06:38.537Z"
   },
   {
    "duration": 10,
    "start_time": "2022-05-15T19:06:38.562Z"
   },
   {
    "duration": 7,
    "start_time": "2022-05-15T19:06:38.577Z"
   },
   {
    "duration": 10,
    "start_time": "2022-05-15T19:06:38.586Z"
   },
   {
    "duration": 58,
    "start_time": "2022-05-15T19:06:38.599Z"
   },
   {
    "duration": 35,
    "start_time": "2022-05-15T19:06:38.659Z"
   },
   {
    "duration": 68,
    "start_time": "2022-05-15T19:06:38.696Z"
   },
   {
    "duration": 10,
    "start_time": "2022-05-15T19:06:38.766Z"
   },
   {
    "duration": 9,
    "start_time": "2022-05-15T19:06:38.778Z"
   },
   {
    "duration": 52,
    "start_time": "2022-05-15T19:06:38.789Z"
   },
   {
    "duration": 13,
    "start_time": "2022-05-15T19:06:38.848Z"
   },
   {
    "duration": 66,
    "start_time": "2022-05-15T19:06:38.863Z"
   },
   {
    "duration": 25,
    "start_time": "2022-05-15T19:06:38.935Z"
   },
   {
    "duration": 13,
    "start_time": "2022-05-15T19:06:38.962Z"
   },
   {
    "duration": 20,
    "start_time": "2022-05-15T19:06:38.977Z"
   },
   {
    "duration": 11,
    "start_time": "2022-05-15T19:06:38.999Z"
   },
   {
    "duration": 32,
    "start_time": "2022-05-15T19:06:39.012Z"
   },
   {
    "duration": 98,
    "start_time": "2022-05-15T19:06:51.026Z"
   },
   {
    "duration": 22,
    "start_time": "2022-05-15T19:06:51.126Z"
   },
   {
    "duration": 36,
    "start_time": "2022-05-15T19:06:51.150Z"
   },
   {
    "duration": 5,
    "start_time": "2022-05-15T19:06:51.189Z"
   },
   {
    "duration": 53,
    "start_time": "2022-05-15T19:06:51.195Z"
   },
   {
    "duration": 5,
    "start_time": "2022-05-15T19:06:51.252Z"
   },
   {
    "duration": 26,
    "start_time": "2022-05-15T19:06:51.258Z"
   },
   {
    "duration": 19,
    "start_time": "2022-05-15T19:06:51.286Z"
   },
   {
    "duration": 19,
    "start_time": "2022-05-15T19:06:51.307Z"
   },
   {
    "duration": 25,
    "start_time": "2022-05-15T19:06:51.329Z"
   },
   {
    "duration": 30,
    "start_time": "2022-05-15T19:06:51.356Z"
   },
   {
    "duration": 9,
    "start_time": "2022-05-15T19:06:51.388Z"
   },
   {
    "duration": 24,
    "start_time": "2022-05-15T19:06:51.399Z"
   },
   {
    "duration": 30,
    "start_time": "2022-05-15T19:06:51.433Z"
   },
   {
    "duration": 15,
    "start_time": "2022-05-15T19:06:51.465Z"
   },
   {
    "duration": 19,
    "start_time": "2022-05-15T19:06:51.482Z"
   },
   {
    "duration": 35,
    "start_time": "2022-05-15T19:06:51.503Z"
   },
   {
    "duration": 39,
    "start_time": "2022-05-15T19:06:51.542Z"
   },
   {
    "duration": 16,
    "start_time": "2022-05-15T19:06:51.583Z"
   },
   {
    "duration": 20,
    "start_time": "2022-05-15T19:06:51.601Z"
   },
   {
    "duration": 19,
    "start_time": "2022-05-15T19:06:51.622Z"
   },
   {
    "duration": 29,
    "start_time": "2022-05-15T19:06:51.643Z"
   },
   {
    "duration": 19,
    "start_time": "2022-05-15T19:06:51.674Z"
   },
   {
    "duration": 9,
    "start_time": "2022-05-15T19:06:51.695Z"
   },
   {
    "duration": 5,
    "start_time": "2022-05-15T19:06:51.706Z"
   },
   {
    "duration": 31,
    "start_time": "2022-05-15T19:06:51.713Z"
   },
   {
    "duration": 29,
    "start_time": "2022-05-15T19:06:51.745Z"
   },
   {
    "duration": 7,
    "start_time": "2022-05-15T19:06:51.778Z"
   },
   {
    "duration": 10,
    "start_time": "2022-05-15T19:06:51.787Z"
   },
   {
    "duration": 48,
    "start_time": "2022-05-15T19:06:51.799Z"
   },
   {
    "duration": 38,
    "start_time": "2022-05-15T19:06:51.851Z"
   },
   {
    "duration": 59,
    "start_time": "2022-05-15T19:06:51.892Z"
   },
   {
    "duration": 15,
    "start_time": "2022-05-15T19:06:51.953Z"
   },
   {
    "duration": 9,
    "start_time": "2022-05-15T19:06:51.970Z"
   },
   {
    "duration": 28,
    "start_time": "2022-05-15T19:06:51.980Z"
   },
   {
    "duration": 12,
    "start_time": "2022-05-15T19:06:52.010Z"
   },
   {
    "duration": 67,
    "start_time": "2022-05-15T19:06:52.023Z"
   },
   {
    "duration": 7,
    "start_time": "2022-05-15T19:06:52.092Z"
   },
   {
    "duration": 39,
    "start_time": "2022-05-15T19:06:52.101Z"
   },
   {
    "duration": 30,
    "start_time": "2022-05-15T19:06:52.144Z"
   },
   {
    "duration": 4,
    "start_time": "2022-05-15T19:06:52.176Z"
   },
   {
    "duration": 21,
    "start_time": "2022-05-15T19:06:52.181Z"
   },
   {
    "duration": 63,
    "start_time": "2022-05-15T19:06:52.203Z"
   },
   {
    "duration": 24,
    "start_time": "2022-05-15T19:06:52.268Z"
   },
   {
    "duration": 23,
    "start_time": "2022-05-15T19:06:52.294Z"
   },
   {
    "duration": 38,
    "start_time": "2022-05-15T19:06:52.334Z"
   },
   {
    "duration": 24,
    "start_time": "2022-05-15T19:06:52.374Z"
   },
   {
    "duration": 17,
    "start_time": "2022-05-15T19:06:52.400Z"
   },
   {
    "duration": 19,
    "start_time": "2022-05-15T19:06:52.419Z"
   },
   {
    "duration": 36,
    "start_time": "2022-05-15T19:06:52.440Z"
   }
  ],
  "kernelspec": {
   "display_name": "Python 3 (ipykernel)",
   "language": "python",
   "name": "python3"
  },
  "language_info": {
   "codemirror_mode": {
    "name": "ipython",
    "version": 3
   },
   "file_extension": ".py",
   "mimetype": "text/x-python",
   "name": "python",
   "nbconvert_exporter": "python",
   "pygments_lexer": "ipython3",
   "version": "3.9.7"
  },
  "toc": {
   "base_numbering": 1,
   "nav_menu": {},
   "number_sections": true,
   "sideBar": true,
   "skip_h1_title": true,
   "title_cell": "Table of Contents",
   "title_sidebar": "Contents",
   "toc_cell": false,
   "toc_position": {
    "height": "calc(100% - 180px)",
    "left": "10px",
    "top": "150px",
    "width": "366.388px"
   },
   "toc_section_display": true,
   "toc_window_display": false
  }
 },
 "nbformat": 4,
 "nbformat_minor": 5
}
