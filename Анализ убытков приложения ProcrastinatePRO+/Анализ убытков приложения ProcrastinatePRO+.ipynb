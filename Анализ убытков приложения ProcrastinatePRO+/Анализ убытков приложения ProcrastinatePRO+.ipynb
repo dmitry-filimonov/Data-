{
 "cells": [
  {
   "cell_type": "markdown",
   "metadata": {},
   "source": [
    "# Оценка окупаемости рекламы для привлечения пользователей"
   ]
  },
  {
   "cell_type": "markdown",
   "metadata": {},
   "source": [
    "**Цель исследования** - установить причины убыточности развлекательного приложения **Procrastinate Pro+** в последние месяцы. Несмотря на увеличение рекламных расходов, рост количества привлечённых клиентов отсутствует. Необходимо описать возможные причины обнаруженных проблем и сформировать рекомендации для рекламного отдела. \n",
    "\n",
    "**Ход исследования**\n",
    "\n",
    "У нас в распоряжении есть лог сервера с данными о посещениях приложения новыми пользователями, зарегистрировавшимися в период с 2019-05-01 по 2019-10-27, выгрузка их покупок за этот период, а также статистика рекламных расходов. Нам предстоит изучить, как люди пользуются продуктом, когда они начинают покупать, сколько денег приносит каждый клиент, когда он окупается и какие факторы отрицательно влияют на привлечение пользователей. Исследование будет разбито на следующие этапы:\n",
    "\n",
    "1. [**Обзор/предобработка данных**](#overview)\n",
    "\n",
    "Загрузка данных о визитах, заказах и расходах в переменные. Оптимизация данных для анализа. Проверка типов данных, пропусков и ошибок.\n",
    " \n",
    "2. [**Написание функций для расчёта бизнес-показателей**](#func)\n",
    "\n",
    "Формирование функций для расчета и анализа показателей **LTV**, **ROI**, **удержания** и **конверсии**, которые будут использованы для оценки качества клиентов.\n",
    "\n",
    "3. [**Исследовательский анализ данных**](#EDA)\n",
    "\n",
    "Построение профилей пользователей, в т.ч. определение минимальной и максимальной даты привлечения - это будет использовано для расчёта бизнес-показателей.\n",
    "\n",
    "Также будут даны ответы на вопросы:\n",
    "- Из каких стран приходят посетители? Какие страны дают больше всего платящих пользователей?\n",
    "- Какими устройствами они пользуются? С каких устройств чаще всего заходят платящие пользователи?\n",
    "- По каким рекламным каналам шло привлечение пользователей? Какие каналы приносят больше всего платящих пользователей?.\n",
    "\n",
    "4. [**Анализ маркетинговых действий**](#marketing)\n",
    "\n",
    "Находим ответы на вопросы, касающихся маркетинга приложения:\n",
    "\n",
    "- Сколько денег потратили? Всего / на каждый источник / по времени\n",
    "- Сколько в среднем стоило привлечение одного покупателя из каждого источника?\n",
    "\n",
    "5. [**Оценка окупаемости рекламы для привлечения пользователей**](#ad_roi)\n",
    "\n",
    "Оцениваем общую окупаемость, удержание и конверсию, а также в разрезе стран, устройств и каналов привлечения.\n",
    "\n",
    "На основании выводов будут даны ответы на вопросы:\n",
    "- Окупается ли реклама, направленная на привлечение пользователей в целом? \n",
    "- Какие устройства, страны и рекламные каналы могут оказывать негативное влияние на окупаемость рекламы?\n",
    "- Чем могут быть вызваны проблемы окупаемости?\n",
    "\n",
    "6. [**Общие выводы**](#conclusion)\n",
    "\n",
    "- Выделение причины неэффективности привлечения пользователей;\n",
    "- Формирование рекомендаций для отдела маркетинга для повышения эффективности."
   ]
  },
  {
   "cell_type": "markdown",
   "metadata": {},
   "source": [
    "**Описание данных**\n",
    "\n",
    "Таблица `visits_log_short` (лог сервера с информацией о посещениях сайта):\n",
    "\n",
    "- `User Id` — уникальный идентификатор пользователя\n",
    "- `Device` — категория устройства пользователя\n",
    "- `Session start` — дата и время начала сессии\n",
    "- `Session End` — дата и время окончания сессии\n",
    "- `Channel` — идентификатор рекламного источника, из которого пришел пользователь\n",
    "- `Region` - страна пользователя\n",
    "\n",
    "Таблица `orders_log_short` (информация о заказах):\n",
    "\n",
    "- `User Id` — уникальный id пользователя, который сделал заказ\n",
    "- `Event Dt` — дата и время покупки\n",
    "- `Revenue` — выручка\n",
    "\n",
    "Таблица `costs_short` (информация о затратах на маркетинг):\n",
    "\n",
    "- `Channel` — идентификатор рекламного источника\n",
    "- `dt` — дата\n",
    "- `Costs` — затраты на этот рекламный источник в этот день"
   ]
  },
  {
   "cell_type": "markdown",
   "metadata": {},
   "source": [
    "<a id='overview'></a>"
   ]
  },
  {
   "cell_type": "markdown",
   "metadata": {},
   "source": [
    "## Обзор и предобработка данных"
   ]
  },
  {
   "cell_type": "code",
   "execution_count": 1,
   "metadata": {},
   "outputs": [],
   "source": [
    "# импортируем библиотеки для работы с данными\n",
    "\n",
    "import os\n",
    "import pandas as pd\n",
    "import numpy as np\n",
    "import seaborn as sns\n",
    "from datetime import datetime, timedelta\n",
    "from matplotlib import pyplot as plt\n",
    "\n",
    "pd.options.display.float_format = '{:,.2f}'.format\n",
    "pd.options.mode.chained_assignment = None\n",
    "sns.set_style('dark')\n",
    "plt.rcParams.update({'axes.labelsize': 15,'axes.titlesize': 25})\n",
    "os.chdir('C:\\\\Users\\\\dmitr\\\\GitHub\\\\Practicum-Data-Analysis\\\\datasets')"
   ]
  },
  {
   "cell_type": "markdown",
   "metadata": {},
   "source": [
    "Из описания данных видно, что каждая таблица содержит данные в виде дат - преобразуем эти столбцы при выгрузке:"
   ]
  },
  {
   "cell_type": "code",
   "execution_count": 2,
   "metadata": {},
   "outputs": [],
   "source": [
    "# загружаем данные\n",
    "\n",
    "# лог сервера с информацией о посещениях сайта\n",
    "visits = pd.read_csv('visits_info_short.csv') \n",
    "\n",
    "# информация о заказах\n",
    "orders = pd.read_csv('orders_info_short.csv') \n",
    "\n",
    "# информация о затратах на маркетинг\n",
    "costs = pd.read_csv('costs_info_short.csv')"
   ]
  },
  {
   "cell_type": "markdown",
   "metadata": {},
   "source": [
    "Посмотрим на каждую таблицу по отдельности, начиная с информации о посещениях:"
   ]
  },
  {
   "cell_type": "code",
   "execution_count": 3,
   "metadata": {},
   "outputs": [
    {
     "name": "stdout",
     "output_type": "stream",
     "text": [
      "<class 'pandas.core.frame.DataFrame'>\n",
      "RangeIndex: 309901 entries, 0 to 309900\n",
      "Data columns (total 6 columns):\n",
      " #   Column         Non-Null Count   Dtype \n",
      "---  ------         --------------   ----- \n",
      " 0   User Id        309901 non-null  int64 \n",
      " 1   Region         309901 non-null  object\n",
      " 2   Device         309901 non-null  object\n",
      " 3   Channel        309901 non-null  object\n",
      " 4   Session Start  309901 non-null  object\n",
      " 5   Session End    309901 non-null  object\n",
      "dtypes: int64(1), object(5)\n",
      "memory usage: 14.2+ MB\n",
      " \n",
      "Дубликатов не обнаружено\n",
      " \n",
      "Пропусков не обнаружено\n"
     ]
    },
    {
     "data": {
      "text/html": [
       "<div>\n",
       "<style scoped>\n",
       "    .dataframe tbody tr th:only-of-type {\n",
       "        vertical-align: middle;\n",
       "    }\n",
       "\n",
       "    .dataframe tbody tr th {\n",
       "        vertical-align: top;\n",
       "    }\n",
       "\n",
       "    .dataframe thead th {\n",
       "        text-align: right;\n",
       "    }\n",
       "</style>\n",
       "<table border=\"1\" class=\"dataframe\">\n",
       "  <thead>\n",
       "    <tr style=\"text-align: right;\">\n",
       "      <th></th>\n",
       "      <th>User Id</th>\n",
       "      <th>Region</th>\n",
       "      <th>Device</th>\n",
       "      <th>Channel</th>\n",
       "      <th>Session Start</th>\n",
       "      <th>Session End</th>\n",
       "    </tr>\n",
       "  </thead>\n",
       "  <tbody>\n",
       "    <tr>\n",
       "      <th>48873</th>\n",
       "      <td>978030684177</td>\n",
       "      <td>United States</td>\n",
       "      <td>Mac</td>\n",
       "      <td>organic</td>\n",
       "      <td>2019-06-21 02:33:40</td>\n",
       "      <td>2019-06-21 02:34:49</td>\n",
       "    </tr>\n",
       "    <tr>\n",
       "      <th>22926</th>\n",
       "      <td>760192604842</td>\n",
       "      <td>United States</td>\n",
       "      <td>Mac</td>\n",
       "      <td>organic</td>\n",
       "      <td>2019-05-24 18:08:06</td>\n",
       "      <td>2019-05-24 18:36:54</td>\n",
       "    </tr>\n",
       "    <tr>\n",
       "      <th>292195</th>\n",
       "      <td>785034622473</td>\n",
       "      <td>Germany</td>\n",
       "      <td>Android</td>\n",
       "      <td>WahooNetBanner</td>\n",
       "      <td>2019-10-03 17:44:09</td>\n",
       "      <td>2019-10-03 18:20:23</td>\n",
       "    </tr>\n",
       "    <tr>\n",
       "      <th>288031</th>\n",
       "      <td>259762467250</td>\n",
       "      <td>Germany</td>\n",
       "      <td>PC</td>\n",
       "      <td>WahooNetBanner</td>\n",
       "      <td>2019-09-27 23:22:48</td>\n",
       "      <td>2019-09-28 00:14:49</td>\n",
       "    </tr>\n",
       "    <tr>\n",
       "      <th>216288</th>\n",
       "      <td>273479881322</td>\n",
       "      <td>France</td>\n",
       "      <td>Android</td>\n",
       "      <td>WahooNetBanner</td>\n",
       "      <td>2019-05-19 14:04:08</td>\n",
       "      <td>2019-05-19 14:16:53</td>\n",
       "    </tr>\n",
       "  </tbody>\n",
       "</table>\n",
       "</div>"
      ],
      "text/plain": [
       "             User Id         Region   Device         Channel  \\\n",
       "48873   978030684177  United States      Mac         organic   \n",
       "22926   760192604842  United States      Mac         organic   \n",
       "292195  785034622473        Germany  Android  WahooNetBanner   \n",
       "288031  259762467250        Germany       PC  WahooNetBanner   \n",
       "216288  273479881322         France  Android  WahooNetBanner   \n",
       "\n",
       "              Session Start          Session End  \n",
       "48873   2019-06-21 02:33:40  2019-06-21 02:34:49  \n",
       "22926   2019-05-24 18:08:06  2019-05-24 18:36:54  \n",
       "292195  2019-10-03 17:44:09  2019-10-03 18:20:23  \n",
       "288031  2019-09-27 23:22:48  2019-09-28 00:14:49  \n",
       "216288  2019-05-19 14:04:08  2019-05-19 14:16:53  "
      ]
     },
     "execution_count": 3,
     "metadata": {},
     "output_type": "execute_result"
    }
   ],
   "source": [
    "# напишем функцию для обзора таблиц\n",
    "\n",
    "def overview(df):\n",
    "    \n",
    "    df.info() # общая информация о таблице\n",
    "    print(' ')\n",
    "    \n",
    "    # проверка явных дубликатов\n",
    "    \n",
    "    if df.duplicated().sum() > 0: \n",
    "        print(f'В таблице содержатся дубликаты, {df.duplicated().sum()} строк.')\n",
    "    else:\n",
    "        print('Дубликатов не обнаружено')\n",
    "    print(' ')\n",
    "    \n",
    "    # проверка пропусков\n",
    "    \n",
    "    if df.isna().sum().sum() > 0: \n",
    "        print(f'В таблице содержатся пропуски, {df.duplicated().sum()} строк.')\n",
    "    else:\n",
    "        print('Пропусков не обнаружено')  \n",
    "        \n",
    "    return df.sample(5) # 5 случайных строк\n",
    "\n",
    "\n",
    "# проверим функцию на таблице с информацией о посещениях        \n",
    "        \n",
    "overview(visits)"
   ]
  },
  {
   "cell_type": "markdown",
   "metadata": {},
   "source": [
    "Данные выглядят хорошо, пропусков или дубликатов нет. Согласно описанию данных, последние два столбца содержат даты - необходимо поменять тип данных. Также для оптимизации работы с таблицей переименуем название колонок:"
   ]
  },
  {
   "cell_type": "code",
   "execution_count": 4,
   "metadata": {},
   "outputs": [],
   "source": [
    "# приводим к нижнему регистру\n",
    "visits.columns = visits.columns.str.lower() \n",
    "\n",
    "# используем snake_case\n",
    "visits = visits.rename(columns=dict([('user id', 'user_id'), \n",
    "                                     ('session start', 'session_start'), \n",
    "                                     ('session end', 'session_end')])\n",
    "                      )\n",
    "# меняем тип данных\n",
    "visits['session_start'] = pd.to_datetime(visits['session_start'])\n",
    "visits['session_end'] = pd.to_datetime(visits['session_end'])"
   ]
  },
  {
   "cell_type": "markdown",
   "metadata": {},
   "source": [
    "Посмотрим таблицу с информацией о заказах:"
   ]
  },
  {
   "cell_type": "code",
   "execution_count": 5,
   "metadata": {},
   "outputs": [
    {
     "name": "stdout",
     "output_type": "stream",
     "text": [
      "<class 'pandas.core.frame.DataFrame'>\n",
      "RangeIndex: 40212 entries, 0 to 40211\n",
      "Data columns (total 3 columns):\n",
      " #   Column    Non-Null Count  Dtype  \n",
      "---  ------    --------------  -----  \n",
      " 0   User Id   40212 non-null  int64  \n",
      " 1   Event Dt  40212 non-null  object \n",
      " 2   Revenue   40212 non-null  float64\n",
      "dtypes: float64(1), int64(1), object(1)\n",
      "memory usage: 942.6+ KB\n",
      " \n",
      "Дубликатов не обнаружено\n",
      " \n",
      "Пропусков не обнаружено\n"
     ]
    },
    {
     "data": {
      "text/html": [
       "<div>\n",
       "<style scoped>\n",
       "    .dataframe tbody tr th:only-of-type {\n",
       "        vertical-align: middle;\n",
       "    }\n",
       "\n",
       "    .dataframe tbody tr th {\n",
       "        vertical-align: top;\n",
       "    }\n",
       "\n",
       "    .dataframe thead th {\n",
       "        text-align: right;\n",
       "    }\n",
       "</style>\n",
       "<table border=\"1\" class=\"dataframe\">\n",
       "  <thead>\n",
       "    <tr style=\"text-align: right;\">\n",
       "      <th></th>\n",
       "      <th>User Id</th>\n",
       "      <th>Event Dt</th>\n",
       "      <th>Revenue</th>\n",
       "    </tr>\n",
       "  </thead>\n",
       "  <tbody>\n",
       "    <tr>\n",
       "      <th>35958</th>\n",
       "      <td>519727161831</td>\n",
       "      <td>2019-09-18 03:56:00</td>\n",
       "      <td>4.99</td>\n",
       "    </tr>\n",
       "    <tr>\n",
       "      <th>22853</th>\n",
       "      <td>618672723416</td>\n",
       "      <td>2019-10-08 08:54:24</td>\n",
       "      <td>4.99</td>\n",
       "    </tr>\n",
       "    <tr>\n",
       "      <th>8327</th>\n",
       "      <td>692808645513</td>\n",
       "      <td>2019-07-18 16:01:44</td>\n",
       "      <td>4.99</td>\n",
       "    </tr>\n",
       "    <tr>\n",
       "      <th>8546</th>\n",
       "      <td>880705062837</td>\n",
       "      <td>2019-07-20 20:08:08</td>\n",
       "      <td>4.99</td>\n",
       "    </tr>\n",
       "    <tr>\n",
       "      <th>15330</th>\n",
       "      <td>680522644022</td>\n",
       "      <td>2019-08-31 12:29:10</td>\n",
       "      <td>4.99</td>\n",
       "    </tr>\n",
       "  </tbody>\n",
       "</table>\n",
       "</div>"
      ],
      "text/plain": [
       "            User Id             Event Dt  Revenue\n",
       "35958  519727161831  2019-09-18 03:56:00     4.99\n",
       "22853  618672723416  2019-10-08 08:54:24     4.99\n",
       "8327   692808645513  2019-07-18 16:01:44     4.99\n",
       "8546   880705062837  2019-07-20 20:08:08     4.99\n",
       "15330  680522644022  2019-08-31 12:29:10     4.99"
      ]
     },
     "execution_count": 5,
     "metadata": {},
     "output_type": "execute_result"
    }
   ],
   "source": [
    "overview(orders)"
   ]
  },
  {
   "cell_type": "markdown",
   "metadata": {},
   "source": [
    "Тут также необходимо изменить названия колонок и поменять тип данных:"
   ]
  },
  {
   "cell_type": "code",
   "execution_count": 6,
   "metadata": {},
   "outputs": [],
   "source": [
    "# приводим к нижнему регистру\n",
    "orders.columns = orders.columns.str.lower() \n",
    "\n",
    "# используем snake_case\n",
    "orders = orders.rename(columns=dict([('user id', 'user_id'), \n",
    "                                     ('event dt', 'event_dt')])\n",
    "                      )\n",
    "# меняем тип данных\n",
    "orders['event_dt'] = pd.to_datetime(orders['event_dt'])"
   ]
  },
  {
   "cell_type": "markdown",
   "metadata": {},
   "source": [
    "Проверяем последнюю таблицу - информация о затратах на маркетинг:"
   ]
  },
  {
   "cell_type": "code",
   "execution_count": 7,
   "metadata": {},
   "outputs": [
    {
     "name": "stdout",
     "output_type": "stream",
     "text": [
      "<class 'pandas.core.frame.DataFrame'>\n",
      "RangeIndex: 1800 entries, 0 to 1799\n",
      "Data columns (total 3 columns):\n",
      " #   Column   Non-Null Count  Dtype  \n",
      "---  ------   --------------  -----  \n",
      " 0   dt       1800 non-null   object \n",
      " 1   Channel  1800 non-null   object \n",
      " 2   costs    1800 non-null   float64\n",
      "dtypes: float64(1), object(2)\n",
      "memory usage: 42.3+ KB\n",
      " \n",
      "Дубликатов не обнаружено\n",
      " \n",
      "Пропусков не обнаружено\n"
     ]
    },
    {
     "data": {
      "text/html": [
       "<div>\n",
       "<style scoped>\n",
       "    .dataframe tbody tr th:only-of-type {\n",
       "        vertical-align: middle;\n",
       "    }\n",
       "\n",
       "    .dataframe tbody tr th {\n",
       "        vertical-align: top;\n",
       "    }\n",
       "\n",
       "    .dataframe thead th {\n",
       "        text-align: right;\n",
       "    }\n",
       "</style>\n",
       "<table border=\"1\" class=\"dataframe\">\n",
       "  <thead>\n",
       "    <tr style=\"text-align: right;\">\n",
       "      <th></th>\n",
       "      <th>dt</th>\n",
       "      <th>Channel</th>\n",
       "      <th>costs</th>\n",
       "    </tr>\n",
       "  </thead>\n",
       "  <tbody>\n",
       "    <tr>\n",
       "      <th>1005</th>\n",
       "      <td>2019-08-14</td>\n",
       "      <td>AdNonSense</td>\n",
       "      <td>17.85</td>\n",
       "    </tr>\n",
       "    <tr>\n",
       "      <th>944</th>\n",
       "      <td>2019-06-14</td>\n",
       "      <td>AdNonSense</td>\n",
       "      <td>9.45</td>\n",
       "    </tr>\n",
       "    <tr>\n",
       "      <th>738</th>\n",
       "      <td>2019-05-19</td>\n",
       "      <td>YRabbit</td>\n",
       "      <td>12.30</td>\n",
       "    </tr>\n",
       "    <tr>\n",
       "      <th>1289</th>\n",
       "      <td>2019-05-30</td>\n",
       "      <td>OppleCreativeMedia</td>\n",
       "      <td>11.50</td>\n",
       "    </tr>\n",
       "    <tr>\n",
       "      <th>1670</th>\n",
       "      <td>2019-06-20</td>\n",
       "      <td>lambdaMediaAds</td>\n",
       "      <td>7.20</td>\n",
       "    </tr>\n",
       "  </tbody>\n",
       "</table>\n",
       "</div>"
      ],
      "text/plain": [
       "              dt             Channel  costs\n",
       "1005  2019-08-14          AdNonSense  17.85\n",
       "944   2019-06-14          AdNonSense   9.45\n",
       "738   2019-05-19             YRabbit  12.30\n",
       "1289  2019-05-30  OppleCreativeMedia  11.50\n",
       "1670  2019-06-20      lambdaMediaAds   7.20"
      ]
     },
     "execution_count": 7,
     "metadata": {},
     "output_type": "execute_result"
    }
   ],
   "source": [
    "overview(costs)"
   ]
  },
  {
   "cell_type": "code",
   "execution_count": 8,
   "metadata": {},
   "outputs": [],
   "source": [
    "# приводим к нижнему регистру названия колонок\n",
    "costs.columns = costs.columns.str.lower() \n",
    "\n",
    "# меняем тип данных\n",
    "costs['dt'] = pd.to_datetime(costs['dt']).dt.date"
   ]
  },
  {
   "cell_type": "markdown",
   "metadata": {},
   "source": [
    "---\n",
    "Данные проверены, дубликатов или пропусков нет, типы данных всех столбцов корректные - можно приступать к анализу."
   ]
  },
  {
   "cell_type": "markdown",
   "metadata": {},
   "source": [
    "<a id='func'></a>"
   ]
  },
  {
   "cell_type": "markdown",
   "metadata": {},
   "source": [
    "## Написание функций для расчёта бизнес-показателей\n",
    "\n",
    "Исследование в основном будет состоять из анализа бизнес метрик в разрезе различных когорт пользователей. Для оптимизации процесса расчёта и визуализации этих метрик, напишем соответствующие функции:"
   ]
  },
  {
   "cell_type": "markdown",
   "metadata": {},
   "source": [
    "<a id='profiles'></a>"
   ]
  },
  {
   "cell_type": "markdown",
   "metadata": {},
   "source": [
    "**Профили пользователей**"
   ]
  },
  {
   "cell_type": "code",
   "execution_count": 9,
   "metadata": {},
   "outputs": [],
   "source": [
    "# функция для создания пользовательских профилей\n",
    "\n",
    "def get_profiles(sessions, orders, ad_costs):\n",
    "\n",
    "    # находим параметры первых посещений\n",
    "    profiles = (\n",
    "        sessions.sort_values(by=['user_id', 'session_start'])\n",
    "        .groupby('user_id')\n",
    "        .agg(\n",
    "            {\n",
    "                'session_start': 'first',\n",
    "                'channel': 'first',\n",
    "                'device': 'first',\n",
    "                'region': 'first',\n",
    "            }\n",
    "        )\n",
    "        .rename(columns={'session_start': 'first_ts'})\n",
    "        .reset_index()\n",
    "    )\n",
    "\n",
    "    # для когортного анализа определяем дату первого посещения\n",
    "    # и первый день месяца, в который это посещение произошло\n",
    "    profiles['dt'] = profiles['first_ts'].dt.date\n",
    "    profiles['month'] = profiles['first_ts'].astype('datetime64[M]')\n",
    "\n",
    "    # добавляем признак платящих пользователей\n",
    "    profiles['payer'] = profiles['user_id'].isin(orders['user_id'].unique())\n",
    "\n",
    "    # считаем количество уникальных пользователей\n",
    "    # с одинаковыми источником и датой привлечения\n",
    "    new_users = (\n",
    "        profiles.groupby(['dt', 'channel'])\n",
    "        .agg({'user_id': 'nunique'})\n",
    "        .rename(columns={'user_id': 'unique_users'})\n",
    "        .reset_index()\n",
    "    )\n",
    "\n",
    "    # объединяем траты на рекламу и число привлечённых пользователей\n",
    "    ad_costs = ad_costs.merge(new_users, on=['dt', 'channel'], how='left')\n",
    "\n",
    "    # делим рекламные расходы на число привлечённых пользователей\n",
    "    ad_costs['acquisition_cost'] = ad_costs['costs'] / ad_costs['unique_users']\n",
    "\n",
    "    # добавляем стоимость привлечения в профили\n",
    "    profiles = profiles.merge(\n",
    "        ad_costs[['dt', 'channel', 'acquisition_cost']],\n",
    "        on=['dt', 'channel'],\n",
    "        how='left',\n",
    "    )\n",
    "\n",
    "    # стоимость привлечения органических пользователей равна нулю\n",
    "    profiles['acquisition_cost'] = profiles['acquisition_cost'].fillna(0)\n",
    "\n",
    "    return profiles\n"
   ]
  },
  {
   "cell_type": "markdown",
   "metadata": {},
   "source": [
    "<a id='retention'></a>"
   ]
  },
  {
   "cell_type": "markdown",
   "metadata": {},
   "source": [
    "**Удержание**"
   ]
  },
  {
   "cell_type": "code",
   "execution_count": 10,
   "metadata": {},
   "outputs": [],
   "source": [
    "# функция для расчёта удержания\n",
    "\n",
    "def get_retention(\n",
    "    profiles,\n",
    "    sessions,\n",
    "    observation_date,\n",
    "    horizon_days,\n",
    "    dimensions=[],\n",
    "    ignore_horizon=False,\n",
    "):\n",
    "\n",
    "    # добавляем столбец payer в передаваемый dimensions список\n",
    "    dimensions = ['payer'] + dimensions\n",
    "\n",
    "    # исключаем пользователей, не «доживших» до горизонта анализа\n",
    "    last_suitable_acquisition_date = observation_date\n",
    "    if not ignore_horizon:\n",
    "        last_suitable_acquisition_date = observation_date - timedelta(\n",
    "            days=horizon_days - 1\n",
    "        )\n",
    "    result_raw = profiles.query('dt <= @last_suitable_acquisition_date')\n",
    "\n",
    "    # собираем «сырые» данные для расчёта удержания\n",
    "    result_raw = result_raw.merge(\n",
    "        sessions[['user_id', 'session_start']], on='user_id', how='left'\n",
    "    )\n",
    "    result_raw['lifetime'] = (\n",
    "        result_raw['session_start'] - result_raw['first_ts']\n",
    "    ).dt.days\n",
    "\n",
    "    # функция для группировки таблицы по желаемым признакам\n",
    "    def group_by_dimensions(df, dims, horizon_days):\n",
    "        result = df.pivot_table(\n",
    "            index=dims, columns='lifetime', values='user_id', aggfunc='nunique'\n",
    "        )\n",
    "        cohort_sizes = (\n",
    "            df.groupby(dims)\n",
    "            .agg({'user_id': 'nunique'})\n",
    "            .rename(columns={'user_id': 'cohort_size'})\n",
    "        )\n",
    "        result = cohort_sizes.merge(result, on=dims, how='left').fillna(0)\n",
    "        result = result.div(result['cohort_size'], axis=0)\n",
    "        result = result[['cohort_size'] + list(range(horizon_days))]\n",
    "        result['cohort_size'] = cohort_sizes\n",
    "        return result\n",
    "\n",
    "    # получаем таблицу удержания\n",
    "    result_grouped = group_by_dimensions(result_raw, dimensions, horizon_days)\n",
    "\n",
    "    # получаем таблицу динамики удержания\n",
    "    result_in_time = group_by_dimensions(\n",
    "        result_raw, dimensions + ['dt'], horizon_days\n",
    "    )\n",
    "\n",
    "    # возвращаем обе таблицы и сырые данные\n",
    "    return result_raw, result_grouped, result_in_time"
   ]
  },
  {
   "cell_type": "code",
   "execution_count": 11,
   "metadata": {},
   "outputs": [],
   "source": [
    "# функция для визуализации удержания\n",
    "\n",
    "def plot_retention(retention, retention_history, horizon, window=7):\n",
    "\n",
    "    # задаём размер сетки для графиков\n",
    "    plt.figure(figsize=(15, 10))\n",
    "\n",
    "    # исключаем размеры когорт и удержание первого дня\n",
    "    retention = retention.drop(columns=['cohort_size', 0])\n",
    "    # в таблице динамики оставляем только нужный лайфтайм\n",
    "    retention_history = retention_history.drop(columns=['cohort_size'])[\n",
    "        [horizon - 1]\n",
    "    ]\n",
    "\n",
    "    # если в индексах таблицы удержания только payer,\n",
    "    # добавляем второй признак — cohort\n",
    "    if retention.index.nlevels == 1:\n",
    "        retention['cohort'] = 'All users'\n",
    "        retention = retention.reset_index().set_index(['cohort', 'payer'])\n",
    "\n",
    "    # в таблице графиков — два столбца и две строки, четыре ячейки\n",
    "    # в первой строим кривые удержания платящих пользователей\n",
    "    ax1 = plt.subplot(2, 2, 1)\n",
    "    retention.query('payer == True').droplevel('payer').T.plot(\n",
    "        grid=True, ax=ax1\n",
    "    )\n",
    "    plt.legend()\n",
    "    plt.xlabel('Лайфтайм')\n",
    "    plt.title('Удержание платящих пользователей')\n",
    "\n",
    "    # во второй ячейке строим кривые удержания неплатящих\n",
    "    # вертикальная ось — от графика из первой ячейки\n",
    "    ax2 = plt.subplot(2, 2, 2, sharey=ax1)\n",
    "    retention.query('payer == False').droplevel('payer').T.plot(\n",
    "        grid=True, ax=ax2\n",
    "    )\n",
    "    plt.legend()\n",
    "    plt.xlabel('Лайфтайм')\n",
    "    plt.title('Удержание неплатящих пользователей')\n",
    "\n",
    "    # в третьей ячейке — динамика удержания платящих\n",
    "    ax3 = plt.subplot(2, 2, 3)\n",
    "    # получаем названия столбцов для сводной таблицы\n",
    "    columns = [\n",
    "        name\n",
    "        for name in retention_history.index.names\n",
    "        if name not in ['dt', 'payer']\n",
    "    ]\n",
    "    # фильтруем данные и строим график\n",
    "    filtered_data = retention_history.query('payer == True').pivot_table(\n",
    "        index='dt', columns=columns, values=horizon - 1, aggfunc='mean'\n",
    "    )\n",
    "    filter_data(filtered_data, window).plot(grid=True, ax=ax3)\n",
    "    plt.xlabel('Дата привлечения')\n",
    "    plt.title(\n",
    "        'Динамика платящих на {}-й день'.format(\n",
    "            horizon\n",
    "        )\n",
    "    )\n",
    "\n",
    "    # в чётвертой ячейке — динамика удержания неплатящих\n",
    "    ax4 = plt.subplot(2, 2, 4, sharey=ax3)\n",
    "    # фильтруем данные и строим график\n",
    "    filtered_data = retention_history.query('payer == False').pivot_table(\n",
    "        index='dt', columns=columns, values=horizon - 1, aggfunc='mean'\n",
    "    )\n",
    "    filter_data(filtered_data, window).plot(grid=True, ax=ax4)\n",
    "    plt.xlabel('Дата привлечения')\n",
    "    plt.title(\n",
    "        'Динамика неплатящих на {}-й день'.format(\n",
    "            horizon\n",
    "        )\n",
    "    )\n",
    "    \n",
    "    plt.tight_layout()\n",
    "    plt.show()"
   ]
  },
  {
   "cell_type": "markdown",
   "metadata": {},
   "source": [
    "<a id='conversion'></a>"
   ]
  },
  {
   "cell_type": "markdown",
   "metadata": {},
   "source": [
    "**Конверсия**"
   ]
  },
  {
   "cell_type": "code",
   "execution_count": 12,
   "metadata": {},
   "outputs": [],
   "source": [
    "# функция для расчёта конверсии\n",
    "\n",
    "def get_conversion(\n",
    "    profiles,\n",
    "    purchases,\n",
    "    observation_date,\n",
    "    horizon_days,\n",
    "    dimensions=[],\n",
    "    ignore_horizon=False,\n",
    "):\n",
    "\n",
    "    # исключаем пользователей, не «доживших» до горизонта анализа\n",
    "    last_suitable_acquisition_date = observation_date\n",
    "    if not ignore_horizon:\n",
    "        last_suitable_acquisition_date = observation_date - timedelta(\n",
    "            days=horizon_days - 1\n",
    "        )\n",
    "    result_raw = profiles.query('dt <= @last_suitable_acquisition_date')\n",
    "\n",
    "    # определяем дату и время первой покупки для каждого пользователя\n",
    "    first_purchases = (\n",
    "        purchases.sort_values(by=['user_id', 'event_dt'])\n",
    "        .groupby('user_id')\n",
    "        .agg({'event_dt': 'first'})\n",
    "        .reset_index()\n",
    "    )\n",
    "\n",
    "    # добавляем данные о покупках в профили\n",
    "    result_raw = result_raw.merge(\n",
    "        first_purchases[['user_id', 'event_dt']], on='user_id', how='left'\n",
    "    )\n",
    "\n",
    "    # рассчитываем лайфтайм для каждой покупки\n",
    "    result_raw['lifetime'] = (\n",
    "        result_raw['event_dt'] - result_raw['first_ts']\n",
    "    ).dt.days\n",
    "\n",
    "    # группируем по cohort, если в dimensions ничего нет\n",
    "    if len(dimensions) == 0:\n",
    "        result_raw['cohort'] = 'All users' \n",
    "        dimensions = dimensions + ['cohort']\n",
    "\n",
    "    # функция для группировки таблицы по желаемым признакам\n",
    "    def group_by_dimensions(df, dims, horizon_days):\n",
    "        result = df.pivot_table(\n",
    "            index=dims, columns='lifetime', values='user_id', aggfunc='nunique'\n",
    "        )\n",
    "        result = result.fillna(0).cumsum(axis = 1)\n",
    "        cohort_sizes = (\n",
    "            df.groupby(dims)\n",
    "            .agg({'user_id': 'nunique'})\n",
    "            .rename(columns={'user_id': 'cohort_size'})\n",
    "        )\n",
    "        result = cohort_sizes.merge(result, on=dims, how='left').fillna(0)\n",
    "        # делим каждую «ячейку» в строке на размер когорты\n",
    "        # и получаем conversion rate\n",
    "        result = result.div(result['cohort_size'], axis=0)\n",
    "        result = result[['cohort_size'] + list(range(horizon_days))]\n",
    "        result['cohort_size'] = cohort_sizes\n",
    "        return result\n",
    "\n",
    "    # получаем таблицу конверсии\n",
    "    result_grouped = group_by_dimensions(result_raw, dimensions, horizon_days)\n",
    "\n",
    "    # для таблицы динамики конверсии убираем 'cohort' из dimensions\n",
    "    if 'cohort' in dimensions: \n",
    "        dimensions = []\n",
    "\n",
    "    # получаем таблицу динамики конверсии\n",
    "    result_in_time = group_by_dimensions(\n",
    "        result_raw, dimensions + ['dt'], horizon_days\n",
    "    )\n",
    "\n",
    "    # возвращаем обе таблицы и сырые данные\n",
    "    return result_raw, result_grouped, result_in_time"
   ]
  },
  {
   "cell_type": "code",
   "execution_count": 13,
   "metadata": {},
   "outputs": [],
   "source": [
    "# функция для визуализации конверсии\n",
    "\n",
    "def plot_conversion(conversion, conversion_history, horizon, window=7):\n",
    "\n",
    "    # задаём размер сетки для графиков\n",
    "    plt.figure(figsize=(15, 5))\n",
    "\n",
    "    # исключаем размеры когорт\n",
    "    conversion = conversion.drop(columns=['cohort_size'])\n",
    "    # в таблице динамики оставляем только нужный лайфтайм\n",
    "    conversion_history = conversion_history.drop(columns=['cohort_size'])[\n",
    "        [horizon - 1]\n",
    "    ]\n",
    "\n",
    "    # первый график — кривые конверсии\n",
    "    ax1 = plt.subplot(1, 2, 1)\n",
    "    conversion.T.plot(grid=True, ax=ax1)\n",
    "    plt.legend()\n",
    "    plt.xlabel('Лайфтайм')\n",
    "    plt.title('Конверсия пользователей')\n",
    "\n",
    "    # второй график — динамика конверсии\n",
    "    ax2 = plt.subplot(1, 2, 2, sharey=ax1)\n",
    "    columns = [\n",
    "        # столбцами сводной таблицы станут все столбцы индекса, кроме даты\n",
    "        name for name in conversion_history.index.names if name not in ['dt']\n",
    "    ]\n",
    "    filtered_data = conversion_history.pivot_table(\n",
    "        index='dt', columns=columns, values=horizon - 1, aggfunc='mean'\n",
    "    )\n",
    "    filter_data(filtered_data, window).plot(grid=True, ax=ax2)\n",
    "    plt.xlabel('Дата привлечения')\n",
    "    plt.title('Динамика конверсии на {}-й день'.format(horizon))\n",
    "\n",
    "    plt.tight_layout()\n",
    "    plt.show()"
   ]
  },
  {
   "cell_type": "markdown",
   "metadata": {},
   "source": [
    "<a id='funcs'></a>"
   ]
  },
  {
   "cell_type": "markdown",
   "metadata": {},
   "source": [
    "**LTV** (прибыль от одного клиента за весь период) и **ROI** (возврат инвестиций)"
   ]
  },
  {
   "cell_type": "code",
   "execution_count": 14,
   "metadata": {},
   "outputs": [],
   "source": [
    "# функция для расчёта LTV и ROI\n",
    "\n",
    "def get_ltv(\n",
    "    profiles,\n",
    "    purchases,\n",
    "    observation_date,\n",
    "    horizon_days,\n",
    "    dimensions=[],\n",
    "    ignore_horizon=False,\n",
    "):\n",
    "\n",
    "    # исключаем пользователей, не «доживших» до горизонта анализа\n",
    "    last_suitable_acquisition_date = observation_date\n",
    "    if not ignore_horizon:\n",
    "        last_suitable_acquisition_date = observation_date - timedelta(\n",
    "            days=horizon_days - 1\n",
    "        )\n",
    "    result_raw = profiles.query('dt <= @last_suitable_acquisition_date')\n",
    "    # добавляем данные о покупках в профили\n",
    "    result_raw = result_raw.merge(\n",
    "        purchases[['user_id', 'event_dt', 'revenue']], on='user_id', how='left'\n",
    "    )\n",
    "    # рассчитываем лайфтайм пользователя для каждой покупки\n",
    "    result_raw['lifetime'] = (\n",
    "        result_raw['event_dt'] - result_raw['first_ts']\n",
    "    ).dt.days\n",
    "    # группируем по cohort, если в dimensions ничего нет\n",
    "    if len(dimensions) == 0:\n",
    "        result_raw['cohort'] = 'All users'\n",
    "        dimensions = dimensions + ['cohort']\n",
    "\n",
    "    # функция группировки по желаемым признакам\n",
    "    def group_by_dimensions(df, dims, horizon_days):\n",
    "        # строим «треугольную» таблицу выручки\n",
    "        result = df.pivot_table(\n",
    "            index=dims, columns='lifetime', values='revenue', aggfunc='sum'\n",
    "        )\n",
    "        # находим сумму выручки с накоплением\n",
    "        result = result.fillna(0).cumsum(axis=1)\n",
    "        # вычисляем размеры когорт\n",
    "        cohort_sizes = (\n",
    "            df.groupby(dims)\n",
    "            .agg({'user_id': 'nunique'})\n",
    "            .rename(columns={'user_id': 'cohort_size'})\n",
    "        )\n",
    "        # объединяем размеры когорт и таблицу выручки\n",
    "        result = cohort_sizes.merge(result, on=dims, how='left').fillna(0)\n",
    "        # считаем LTV: делим каждую «ячейку» в строке на размер когорты\n",
    "        result = result.div(result['cohort_size'], axis=0)\n",
    "        # исключаем все лайфтаймы, превышающие горизонт анализа\n",
    "        result = result[['cohort_size'] + list(range(horizon_days))]\n",
    "        # восстанавливаем размеры когорт\n",
    "        result['cohort_size'] = cohort_sizes\n",
    "\n",
    "        # собираем датафрейм с данными пользователей и значениями CAC, \n",
    "        # добавляя параметры из dimensions\n",
    "        cac = df[['user_id', 'acquisition_cost'] + dims].drop_duplicates()\n",
    "\n",
    "        # считаем средний CAC по параметрам из dimensions\n",
    "        cac = (\n",
    "            cac.groupby(dims)\n",
    "            .agg({'acquisition_cost': 'mean'})\n",
    "            .rename(columns={'acquisition_cost': 'cac'})\n",
    "        )\n",
    "\n",
    "        # считаем ROI: делим LTV на CAC\n",
    "        roi = result.div(cac['cac'], axis=0)\n",
    "\n",
    "        # удаляем строки с бесконечным ROI\n",
    "        roi = roi[~roi['cohort_size'].isin([np.inf])]\n",
    "\n",
    "        # восстанавливаем размеры когорт в таблице ROI\n",
    "        roi['cohort_size'] = cohort_sizes\n",
    "\n",
    "        # добавляем CAC в таблицу ROI\n",
    "        roi['cac'] = cac['cac']\n",
    "\n",
    "        # в финальной таблице оставляем размеры когорт, CAC\n",
    "        # и ROI в лайфтаймы, не превышающие горизонт анализа\n",
    "        roi = roi[['cohort_size', 'cac'] + list(range(horizon_days))]\n",
    "\n",
    "        # возвращаем таблицы LTV и ROI\n",
    "        return result, roi\n",
    "\n",
    "    # получаем таблицы LTV и ROI\n",
    "    result_grouped, roi_grouped = group_by_dimensions(\n",
    "        result_raw, dimensions, horizon_days\n",
    "    )\n",
    "\n",
    "    # для таблиц динамики убираем 'cohort' из dimensions\n",
    "    if 'cohort' in dimensions:\n",
    "        dimensions = []\n",
    "\n",
    "    # получаем таблицы динамики LTV и ROI\n",
    "    result_in_time, roi_in_time = group_by_dimensions(\n",
    "        result_raw, dimensions + ['dt'], horizon_days\n",
    "    )\n",
    "\n",
    "    return (\n",
    "        result_raw,  # сырые данные\n",
    "        result_grouped,  # таблица LTV\n",
    "        result_in_time,  # таблица динамики LTV\n",
    "        roi_grouped,  # таблица ROI\n",
    "        roi_in_time,  # таблица динамики ROI\n",
    "    )"
   ]
  },
  {
   "cell_type": "code",
   "execution_count": 15,
   "metadata": {},
   "outputs": [],
   "source": [
    "# функция для визуализации LTV и ROI\n",
    "\n",
    "def plot_ltv_roi(ltv, ltv_history, roi, roi_history, horizon, window=7):\n",
    "\n",
    "    # задаём сетку отрисовки графиков\n",
    "    plt.figure(figsize=(20, 10))\n",
    "\n",
    "    # из таблицы ltv исключаем размеры когорт\n",
    "    ltv = ltv.drop(columns=['cohort_size'])\n",
    "    # в таблице динамики ltv оставляем только нужный лайфтайм\n",
    "    ltv_history = ltv_history.drop(columns=['cohort_size'])[[horizon - 1]]\n",
    "\n",
    "    # стоимость привлечения запишем в отдельный фрейм\n",
    "    cac_history = roi_history[['cac']]\n",
    "\n",
    "    # из таблицы roi исключаем размеры когорт и cac\n",
    "    roi = roi.drop(columns=['cohort_size', 'cac'])\n",
    "    # в таблице динамики roi оставляем только нужный лайфтайм\n",
    "    roi_history = roi_history.drop(columns=['cohort_size', 'cac'])[\n",
    "        [horizon - 1]\n",
    "    ]\n",
    "\n",
    "    # первый график — кривые ltv\n",
    "    ax1 = plt.subplot(2, 3, 1)\n",
    "    ltv.T.plot(grid=True, ax=ax1)\n",
    "    plt.legend()\n",
    "    plt.xlabel('Лайфтайм')\n",
    "    plt.title('LTV')\n",
    "\n",
    "    # второй график — динамика ltv\n",
    "    ax2 = plt.subplot(2, 3, 2, sharey=ax1)\n",
    "    # столбцами сводной таблицы станут все столбцы индекса, кроме даты\n",
    "    columns = [name for name in ltv_history.index.names if name not in ['dt']]\n",
    "    filtered_data = ltv_history.pivot_table(\n",
    "        index='dt', columns=columns, values=horizon - 1, aggfunc='mean'\n",
    "    )\n",
    "    filter_data(filtered_data, window).plot(grid=True, ax=ax2)\n",
    "    plt.xlabel('Дата привлечения')\n",
    "    plt.title('Динамика LTV на {}-й день'.format(horizon))\n",
    "\n",
    "    # третий график — динамика cac\n",
    "    ax3 = plt.subplot(2, 3, 3, sharey=ax1)\n",
    "    # столбцами сводной таблицы станут все столбцы индекса, кроме даты\n",
    "    columns = [name for name in cac_history.index.names if name not in ['dt']]\n",
    "    filtered_data = cac_history.pivot_table(\n",
    "        index='dt', columns=columns, values='cac', aggfunc='mean'\n",
    "    )\n",
    "    filter_data(filtered_data, window).plot(grid=True, ax=ax3)\n",
    "    plt.xlabel('Дата привлечения')\n",
    "    plt.title('Динамика стоимости привлечения')\n",
    "\n",
    "    # четвёртый график — кривые roi\n",
    "    ax4 = plt.subplot(2, 3, 4)\n",
    "    roi.T.plot(grid=True, ax=ax4)\n",
    "    plt.axhline(y=1, color='red', linestyle='--', label='Уровень окупаемости')\n",
    "    plt.legend()\n",
    "    plt.xlabel('Лайфтайм')\n",
    "    plt.title('ROI')\n",
    "\n",
    "    # пятый график — динамика roi\n",
    "    ax5 = plt.subplot(2, 3, 5, sharey=ax4)\n",
    "    # столбцами сводной таблицы станут все столбцы индекса, кроме даты\n",
    "    columns = [name for name in roi_history.index.names if name not in ['dt']]\n",
    "    filtered_data = roi_history.pivot_table(\n",
    "        index='dt', columns=columns, values=horizon - 1, aggfunc='mean'\n",
    "    )\n",
    "    filter_data(filtered_data, window).plot(grid=True, ax=ax5)\n",
    "    plt.axhline(y=1, color='red', linestyle='--', label='Уровень окупаемости')\n",
    "    plt.xlabel('Дата привлечения')\n",
    "    plt.title('Динамика ROI на {}-й день'.format(horizon))\n",
    "\n",
    "    plt.tight_layout()\n",
    "    plt.show()"
   ]
  },
  {
   "cell_type": "code",
   "execution_count": 16,
   "metadata": {},
   "outputs": [],
   "source": [
    "# функция для сглаживания фрейма\n",
    "\n",
    "def filter_data(df, window):\n",
    "    # для каждого столбца применяем скользящее среднее\n",
    "    for column in df.columns.values:\n",
    "        df[column] = df[column].rolling(window).mean() \n",
    "    return df"
   ]
  },
  {
   "cell_type": "markdown",
   "metadata": {},
   "source": [
    "<a id='EDA'></a>"
   ]
  },
  {
   "cell_type": "markdown",
   "metadata": {},
   "source": [
    "## Исследовательский анализ данных\n",
    "\n",
    "Сначала используем [функцию](#profiles) для построения профилей пользователей. Определим минимальную и максимальную дату привлечения пользователей для дальнейшего когортного анализа, а затем проанализируем данные по платящим пользователям в разрезе регионов, используемых устройств и каналов привлечения."
   ]
  },
  {
   "cell_type": "code",
   "execution_count": 17,
   "metadata": {},
   "outputs": [
    {
     "name": "stdout",
     "output_type": "stream",
     "text": [
      "<class 'pandas.core.frame.DataFrame'>\n",
      "Int64Index: 150008 entries, 0 to 150007\n",
      "Data columns (total 9 columns):\n",
      " #   Column            Non-Null Count   Dtype         \n",
      "---  ------            --------------   -----         \n",
      " 0   user_id           150008 non-null  int64         \n",
      " 1   first_ts          150008 non-null  datetime64[ns]\n",
      " 2   channel           150008 non-null  object        \n",
      " 3   device            150008 non-null  object        \n",
      " 4   region            150008 non-null  object        \n",
      " 5   dt                150008 non-null  object        \n",
      " 6   month             150008 non-null  datetime64[ns]\n",
      " 7   payer             150008 non-null  bool          \n",
      " 8   acquisition_cost  150008 non-null  float64       \n",
      "dtypes: bool(1), datetime64[ns](2), float64(1), int64(1), object(4)\n",
      "memory usage: 10.4+ MB\n",
      " \n",
      "Дубликатов не обнаружено\n",
      " \n",
      "Пропусков не обнаружено\n"
     ]
    },
    {
     "data": {
      "text/html": [
       "<div>\n",
       "<style scoped>\n",
       "    .dataframe tbody tr th:only-of-type {\n",
       "        vertical-align: middle;\n",
       "    }\n",
       "\n",
       "    .dataframe tbody tr th {\n",
       "        vertical-align: top;\n",
       "    }\n",
       "\n",
       "    .dataframe thead th {\n",
       "        text-align: right;\n",
       "    }\n",
       "</style>\n",
       "<table border=\"1\" class=\"dataframe\">\n",
       "  <thead>\n",
       "    <tr style=\"text-align: right;\">\n",
       "      <th></th>\n",
       "      <th>user_id</th>\n",
       "      <th>first_ts</th>\n",
       "      <th>channel</th>\n",
       "      <th>device</th>\n",
       "      <th>region</th>\n",
       "      <th>dt</th>\n",
       "      <th>month</th>\n",
       "      <th>payer</th>\n",
       "      <th>acquisition_cost</th>\n",
       "    </tr>\n",
       "  </thead>\n",
       "  <tbody>\n",
       "    <tr>\n",
       "      <th>121917</th>\n",
       "      <td>812843243532</td>\n",
       "      <td>2019-05-30 04:27:51</td>\n",
       "      <td>organic</td>\n",
       "      <td>Mac</td>\n",
       "      <td>United States</td>\n",
       "      <td>2019-05-30</td>\n",
       "      <td>2019-05-01</td>\n",
       "      <td>False</td>\n",
       "      <td>0.00</td>\n",
       "    </tr>\n",
       "    <tr>\n",
       "      <th>46978</th>\n",
       "      <td>311298813085</td>\n",
       "      <td>2019-07-05 11:38:01</td>\n",
       "      <td>TipTop</td>\n",
       "      <td>Mac</td>\n",
       "      <td>United States</td>\n",
       "      <td>2019-07-05</td>\n",
       "      <td>2019-07-01</td>\n",
       "      <td>False</td>\n",
       "      <td>2.60</td>\n",
       "    </tr>\n",
       "    <tr>\n",
       "      <th>130489</th>\n",
       "      <td>870257766415</td>\n",
       "      <td>2019-07-09 05:37:26</td>\n",
       "      <td>organic</td>\n",
       "      <td>Android</td>\n",
       "      <td>United States</td>\n",
       "      <td>2019-07-09</td>\n",
       "      <td>2019-07-01</td>\n",
       "      <td>False</td>\n",
       "      <td>0.00</td>\n",
       "    </tr>\n",
       "    <tr>\n",
       "      <th>5962</th>\n",
       "      <td>39790657620</td>\n",
       "      <td>2019-07-08 13:49:02</td>\n",
       "      <td>OppleCreativeMedia</td>\n",
       "      <td>PC</td>\n",
       "      <td>France</td>\n",
       "      <td>2019-07-08</td>\n",
       "      <td>2019-07-01</td>\n",
       "      <td>False</td>\n",
       "      <td>0.25</td>\n",
       "    </tr>\n",
       "    <tr>\n",
       "      <th>120533</th>\n",
       "      <td>803595771910</td>\n",
       "      <td>2019-06-20 17:17:28</td>\n",
       "      <td>lambdaMediaAds</td>\n",
       "      <td>Android</td>\n",
       "      <td>France</td>\n",
       "      <td>2019-06-20</td>\n",
       "      <td>2019-06-01</td>\n",
       "      <td>False</td>\n",
       "      <td>0.72</td>\n",
       "    </tr>\n",
       "  </tbody>\n",
       "</table>\n",
       "</div>"
      ],
      "text/plain": [
       "             user_id            first_ts             channel   device  \\\n",
       "121917  812843243532 2019-05-30 04:27:51             organic      Mac   \n",
       "46978   311298813085 2019-07-05 11:38:01              TipTop      Mac   \n",
       "130489  870257766415 2019-07-09 05:37:26             organic  Android   \n",
       "5962     39790657620 2019-07-08 13:49:02  OppleCreativeMedia       PC   \n",
       "120533  803595771910 2019-06-20 17:17:28      lambdaMediaAds  Android   \n",
       "\n",
       "               region          dt      month  payer  acquisition_cost  \n",
       "121917  United States  2019-05-30 2019-05-01  False              0.00  \n",
       "46978   United States  2019-07-05 2019-07-01  False              2.60  \n",
       "130489  United States  2019-07-09 2019-07-01  False              0.00  \n",
       "5962           France  2019-07-08 2019-07-01  False              0.25  \n",
       "120533         France  2019-06-20 2019-06-01  False              0.72  "
      ]
     },
     "execution_count": 17,
     "metadata": {},
     "output_type": "execute_result"
    }
   ],
   "source": [
    "# строим датафрейм с профилями покупателей с помощью функции предыдущего этапа\n",
    "profiles = get_profiles(visits, orders, costs)\n",
    "\n",
    "# используем функцию, написанную для обзора данных\n",
    "overview(profiles)"
   ]
  },
  {
   "cell_type": "markdown",
   "metadata": {},
   "source": [
    "Начнём с регионов:"
   ]
  },
  {
   "cell_type": "code",
   "execution_count": 18,
   "metadata": {},
   "outputs": [
    {
     "data": {
      "text/html": [
       "<div>\n",
       "<style scoped>\n",
       "    .dataframe tbody tr th:only-of-type {\n",
       "        vertical-align: middle;\n",
       "    }\n",
       "\n",
       "    .dataframe tbody tr th {\n",
       "        vertical-align: top;\n",
       "    }\n",
       "\n",
       "    .dataframe thead th {\n",
       "        text-align: right;\n",
       "    }\n",
       "</style>\n",
       "<table border=\"1\" class=\"dataframe\">\n",
       "  <thead>\n",
       "    <tr style=\"text-align: right;\">\n",
       "      <th></th>\n",
       "      <th>clients</th>\n",
       "      <th>payers</th>\n",
       "      <th>payers_share%</th>\n",
       "    </tr>\n",
       "    <tr>\n",
       "      <th>region</th>\n",
       "      <th></th>\n",
       "      <th></th>\n",
       "      <th></th>\n",
       "    </tr>\n",
       "  </thead>\n",
       "  <tbody>\n",
       "    <tr>\n",
       "      <th>United States</th>\n",
       "      <td>100002</td>\n",
       "      <td>6902</td>\n",
       "      <td>6.90</td>\n",
       "    </tr>\n",
       "    <tr>\n",
       "      <th>Germany</th>\n",
       "      <td>14981</td>\n",
       "      <td>616</td>\n",
       "      <td>4.11</td>\n",
       "    </tr>\n",
       "    <tr>\n",
       "      <th>UK</th>\n",
       "      <td>17575</td>\n",
       "      <td>700</td>\n",
       "      <td>3.98</td>\n",
       "    </tr>\n",
       "    <tr>\n",
       "      <th>France</th>\n",
       "      <td>17450</td>\n",
       "      <td>663</td>\n",
       "      <td>3.80</td>\n",
       "    </tr>\n",
       "  </tbody>\n",
       "</table>\n",
       "</div>"
      ],
      "text/plain": [
       "               clients  payers  payers_share%\n",
       "region                                       \n",
       "United States   100002    6902           6.90\n",
       "Germany          14981     616           4.11\n",
       "UK               17575     700           3.98\n",
       "France           17450     663           3.80"
      ]
     },
     "execution_count": 18,
     "metadata": {},
     "output_type": "execute_result"
    }
   ],
   "source": [
    "# функция для группировки данных\n",
    "\n",
    "def eda_df(parameter):\n",
    "    \n",
    "    df = (profiles\n",
    "          .pivot_table(index=parameter,\n",
    "                       values='payer',\n",
    "                       aggfunc=['count','sum'])\n",
    "          .droplevel(1,axis=1)\n",
    "          .rename(columns={'count':'clients', 'sum':'payers'})\n",
    "         )\n",
    "    df['payers_share%'] = df['payers']/df['clients']*100\n",
    "    \n",
    "    return df.sort_values('payers_share%', ascending=False)\n",
    "\n",
    "\n",
    "# пробуем функцию для группировки по регионам\n",
    "\n",
    "eda_df('region')"
   ]
  },
  {
   "cell_type": "code",
   "execution_count": 19,
   "metadata": {},
   "outputs": [
    {
     "data": {
      "text/plain": [
       "66.66"
      ]
     },
     "execution_count": 19,
     "metadata": {},
     "output_type": "execute_result"
    }
   ],
   "source": [
    "# США явно лидирует по количеству пользователей - посчитаем долю:\n",
    "\n",
    "round(100002/eda_df('region')['clients'].sum()*100,2)"
   ]
  },
  {
   "cell_type": "markdown",
   "metadata": {},
   "source": [
    "---\n",
    "- Данные содержат информацию о пользователях из четырёх регионов - США, Великобритания, Франция и Германия.\n",
    "\n",
    "\n",
    "- США является крупнейшим рынком пользователей приложения (~67%), а также показывает самую высокую долю платящих пользователей ~7%.\n",
    "\n",
    "\n",
    "- Данные Европейских регионов сопоставимы - в среднем доля покупателей составляет ~4%. Германия выделятся при этом наименьшим общим количеством клиентов, что делает её показатели наиболее выигрышными. "
   ]
  },
  {
   "cell_type": "code",
   "execution_count": 20,
   "metadata": {},
   "outputs": [
    {
     "data": {
      "text/html": [
       "<div>\n",
       "<style scoped>\n",
       "    .dataframe tbody tr th:only-of-type {\n",
       "        vertical-align: middle;\n",
       "    }\n",
       "\n",
       "    .dataframe tbody tr th {\n",
       "        vertical-align: top;\n",
       "    }\n",
       "\n",
       "    .dataframe thead th {\n",
       "        text-align: right;\n",
       "    }\n",
       "</style>\n",
       "<table border=\"1\" class=\"dataframe\">\n",
       "  <thead>\n",
       "    <tr style=\"text-align: right;\">\n",
       "      <th></th>\n",
       "      <th>clients</th>\n",
       "      <th>payers</th>\n",
       "      <th>payers_share%</th>\n",
       "    </tr>\n",
       "    <tr>\n",
       "      <th>device</th>\n",
       "      <th></th>\n",
       "      <th></th>\n",
       "      <th></th>\n",
       "    </tr>\n",
       "  </thead>\n",
       "  <tbody>\n",
       "    <tr>\n",
       "      <th>Mac</th>\n",
       "      <td>30042</td>\n",
       "      <td>1912</td>\n",
       "      <td>6.36</td>\n",
       "    </tr>\n",
       "    <tr>\n",
       "      <th>iPhone</th>\n",
       "      <td>54479</td>\n",
       "      <td>3382</td>\n",
       "      <td>6.21</td>\n",
       "    </tr>\n",
       "    <tr>\n",
       "      <th>Android</th>\n",
       "      <td>35032</td>\n",
       "      <td>2050</td>\n",
       "      <td>5.85</td>\n",
       "    </tr>\n",
       "    <tr>\n",
       "      <th>PC</th>\n",
       "      <td>30455</td>\n",
       "      <td>1537</td>\n",
       "      <td>5.05</td>\n",
       "    </tr>\n",
       "  </tbody>\n",
       "</table>\n",
       "</div>"
      ],
      "text/plain": [
       "         clients  payers  payers_share%\n",
       "device                                 \n",
       "Mac        30042    1912           6.36\n",
       "iPhone     54479    3382           6.21\n",
       "Android    35032    2050           5.85\n",
       "PC         30455    1537           5.05"
      ]
     },
     "execution_count": 20,
     "metadata": {},
     "output_type": "execute_result"
    }
   ],
   "source": [
    "# группируем данные по устройствам\n",
    "\n",
    "eda_df('device')"
   ]
  },
  {
   "cell_type": "markdown",
   "metadata": {},
   "source": [
    "----\n",
    "- Лидерами по доле покупателей являются устройства компании **Apple** - <a href=\"https://en.wikipedia.org/wiki/Macintosh\">**Mac**</a> и <a href=\"https://en.wikipedia.org/wiki/iPhone\">**iPhone**</a>, их доля превышеает 6.2%. Причём iPhone лидирует с большим отрывом как по количеству общих пользователей, так и по количеству покупателей.\n",
    "\n",
    "\n",
    "- В разрезе компьютеров <a href=\"https://en.wikipedia.org/wiki/PC_game\">**PC**</a> сильно уступает **Mac** - при практически одинаковом количестве пользователей доля покупателей **PC** сильно ниже."
   ]
  },
  {
   "cell_type": "code",
   "execution_count": 21,
   "metadata": {},
   "outputs": [
    {
     "data": {
      "text/html": [
       "<div>\n",
       "<style scoped>\n",
       "    .dataframe tbody tr th:only-of-type {\n",
       "        vertical-align: middle;\n",
       "    }\n",
       "\n",
       "    .dataframe tbody tr th {\n",
       "        vertical-align: top;\n",
       "    }\n",
       "\n",
       "    .dataframe thead th {\n",
       "        text-align: right;\n",
       "    }\n",
       "</style>\n",
       "<table border=\"1\" class=\"dataframe\">\n",
       "  <thead>\n",
       "    <tr style=\"text-align: right;\">\n",
       "      <th></th>\n",
       "      <th>clients</th>\n",
       "      <th>payers</th>\n",
       "      <th>payers_share%</th>\n",
       "    </tr>\n",
       "    <tr>\n",
       "      <th>channel</th>\n",
       "      <th></th>\n",
       "      <th></th>\n",
       "      <th></th>\n",
       "    </tr>\n",
       "  </thead>\n",
       "  <tbody>\n",
       "    <tr>\n",
       "      <th>FaceBoom</th>\n",
       "      <td>29144</td>\n",
       "      <td>3557</td>\n",
       "      <td>12.20</td>\n",
       "    </tr>\n",
       "    <tr>\n",
       "      <th>AdNonSense</th>\n",
       "      <td>3880</td>\n",
       "      <td>440</td>\n",
       "      <td>11.34</td>\n",
       "    </tr>\n",
       "    <tr>\n",
       "      <th>lambdaMediaAds</th>\n",
       "      <td>2149</td>\n",
       "      <td>225</td>\n",
       "      <td>10.47</td>\n",
       "    </tr>\n",
       "    <tr>\n",
       "      <th>TipTop</th>\n",
       "      <td>19561</td>\n",
       "      <td>1878</td>\n",
       "      <td>9.60</td>\n",
       "    </tr>\n",
       "    <tr>\n",
       "      <th>RocketSuperAds</th>\n",
       "      <td>4448</td>\n",
       "      <td>352</td>\n",
       "      <td>7.91</td>\n",
       "    </tr>\n",
       "    <tr>\n",
       "      <th>WahooNetBanner</th>\n",
       "      <td>8553</td>\n",
       "      <td>453</td>\n",
       "      <td>5.30</td>\n",
       "    </tr>\n",
       "    <tr>\n",
       "      <th>YRabbit</th>\n",
       "      <td>4312</td>\n",
       "      <td>165</td>\n",
       "      <td>3.83</td>\n",
       "    </tr>\n",
       "    <tr>\n",
       "      <th>MediaTornado</th>\n",
       "      <td>4364</td>\n",
       "      <td>156</td>\n",
       "      <td>3.57</td>\n",
       "    </tr>\n",
       "    <tr>\n",
       "      <th>LeapBob</th>\n",
       "      <td>8553</td>\n",
       "      <td>262</td>\n",
       "      <td>3.06</td>\n",
       "    </tr>\n",
       "    <tr>\n",
       "      <th>OppleCreativeMedia</th>\n",
       "      <td>8605</td>\n",
       "      <td>233</td>\n",
       "      <td>2.71</td>\n",
       "    </tr>\n",
       "    <tr>\n",
       "      <th>organic</th>\n",
       "      <td>56439</td>\n",
       "      <td>1160</td>\n",
       "      <td>2.06</td>\n",
       "    </tr>\n",
       "  </tbody>\n",
       "</table>\n",
       "</div>"
      ],
      "text/plain": [
       "                    clients  payers  payers_share%\n",
       "channel                                           \n",
       "FaceBoom              29144    3557          12.20\n",
       "AdNonSense             3880     440          11.34\n",
       "lambdaMediaAds         2149     225          10.47\n",
       "TipTop                19561    1878           9.60\n",
       "RocketSuperAds         4448     352           7.91\n",
       "WahooNetBanner         8553     453           5.30\n",
       "YRabbit                4312     165           3.83\n",
       "MediaTornado           4364     156           3.57\n",
       "LeapBob                8553     262           3.06\n",
       "OppleCreativeMedia     8605     233           2.71\n",
       "organic               56439    1160           2.06"
      ]
     },
     "execution_count": 21,
     "metadata": {},
     "output_type": "execute_result"
    }
   ],
   "source": [
    "# группируем данные по каналам привлечения\n",
    "\n",
    "eda_df('channel')"
   ]
  },
  {
   "cell_type": "markdown",
   "metadata": {},
   "source": [
    "----\n",
    "- Социальная сеть **FaceBoom** является абсолютным лидером по привлечению платящих пользователей - крупнейшая доля покупателей при самом большом количестве всех пользователей (за исключением органики)\n",
    "\n",
    "\n",
    "- Пользователи, не использующие рекламные ссылки (organic) реже всего становятся покупателями - их доля составляет всего ~2%, при том что таких пользователей больше, чем от любого рекламного источника."
   ]
  },
  {
   "cell_type": "markdown",
   "metadata": {},
   "source": [
    "<a id='marketing'></a>"
   ]
  },
  {
   "cell_type": "markdown",
   "metadata": {},
   "source": [
    "## Анализ маркетинговых действий\n",
    "\n",
    "Расходы на маркетинг отображены в таблице `costs`. Начнём с анализа затрат по рекламе в разрезе каналов привлечения:"
   ]
  },
  {
   "cell_type": "code",
   "execution_count": 22,
   "metadata": {
    "scrolled": false
   },
   "outputs": [
    {
     "data": {
      "image/png": "[encoded data removed]",
      "text/plain": [
       "<Figure size 1080x432 with 1 Axes>"
      ]
     },
     "metadata": {},
     "output_type": "display_data"
    }
   ],
   "source": [
    "# группируем данные по каналам\n",
    "\n",
    "channels = (costs\n",
    "            .pivot_table(index='channel', \n",
    "                         values='costs', \n",
    "                         aggfunc='sum')\n",
    "            .sort_values('costs', ascending=False)\n",
    "            .reset_index()\n",
    "           )\n",
    "\n",
    "\n",
    "# визуализируем результат\n",
    "\n",
    "plt.figure(figsize=(15,6))\n",
    "\n",
    "sns.barplot(x=channels['channel'], \n",
    "            y=channels['costs'])\n",
    "\n",
    "plt.title('costs per channel', fontsize=16)\n",
    "plt.xlabel('channel', fontsize=13)\n",
    "plt.xticks(rotation=45)\n",
    "plt.ylabel('costs', fontsize=13)\n",
    "plt.grid()\n",
    "plt.show()"
   ]
  },
  {
   "cell_type": "markdown",
   "metadata": {},
   "source": [
    "- За рассматриваемый период больше всего денег было потрачено на каналы \"TipTop\" и \"FaceBoom\". \n",
    "\n",
    "Посмотрим, как этот показатель менялся во времени:"
   ]
  },
  {
   "cell_type": "code",
   "execution_count": 23,
   "metadata": {},
   "outputs": [
    {
     "data": {
      "image/png": "[encoded data removed]",
      "text/plain": [
       "<Figure size 1080x432 with 1 Axes>"
      ]
     },
     "metadata": {},
     "output_type": "display_data"
    }
   ],
   "source": [
    "plt.figure(figsize=(15,6))\n",
    "\n",
    "sns.lineplot(x=costs['dt'], \n",
    "             y=costs['costs'], \n",
    "             hue=costs['channel'])\n",
    "\n",
    "plt.title('costs per channel', fontsize=16)\n",
    "plt.xlabel('months', fontsize=13)\n",
    "plt.xticks(rotation=45)\n",
    "plt.ylabel('costs', fontsize=13)\n",
    "plt.grid()\n",
    "plt.show()"
   ]
  },
  {
   "cell_type": "markdown",
   "metadata": {},
   "source": [
    "- Значительный рост затрат во времени показывает только канал \"TipTop\", все остальные находятся примерно на одном уровне на протяжении расматриваемого периода.\n",
    "\n",
    "Попробуем соединить эти данные с таблицей с информацией о пользователях из предыдущего этапа:"
   ]
  },
  {
   "cell_type": "code",
   "execution_count": 24,
   "metadata": {},
   "outputs": [
    {
     "ename": "KeyError",
     "evalue": "'client'",
     "output_type": "error",
     "traceback": [
      "\u001b[1;31m---------------------------------------------------------------------------\u001b[0m",
      "\u001b[1;31mKeyError\u001b[0m                                  Traceback (most recent call last)",
      "\u001b[1;32m~\\anaconda3\\lib\\site-packages\\pandas\\core\\indexes\\base.py\u001b[0m in \u001b[0;36mget_loc\u001b[1;34m(self, key, method, tolerance)\u001b[0m\n\u001b[0;32m   3360\u001b[0m             \u001b[1;32mtry\u001b[0m\u001b[1;33m:\u001b[0m\u001b[1;33m\u001b[0m\u001b[1;33m\u001b[0m\u001b[0m\n\u001b[1;32m-> 3361\u001b[1;33m                 \u001b[1;32mreturn\u001b[0m \u001b[0mself\u001b[0m\u001b[1;33m.\u001b[0m\u001b[0m_engine\u001b[0m\u001b[1;33m.\u001b[0m\u001b[0mget_loc\u001b[0m\u001b[1;33m(\u001b[0m\u001b[0mcasted_key\u001b[0m\u001b[1;33m)\u001b[0m\u001b[1;33m\u001b[0m\u001b[1;33m\u001b[0m\u001b[0m\n\u001b[0m\u001b[0;32m   3362\u001b[0m             \u001b[1;32mexcept\u001b[0m \u001b[0mKeyError\u001b[0m \u001b[1;32mas\u001b[0m \u001b[0merr\u001b[0m\u001b[1;33m:\u001b[0m\u001b[1;33m\u001b[0m\u001b[1;33m\u001b[0m\u001b[0m\n",
      "\u001b[1;32m~\\anaconda3\\lib\\site-packages\\pandas\\_libs\\index.pyx\u001b[0m in \u001b[0;36mpandas._libs.index.IndexEngine.get_loc\u001b[1;34m()\u001b[0m\n",
      "\u001b[1;32m~\\anaconda3\\lib\\site-packages\\pandas\\_libs\\index.pyx\u001b[0m in \u001b[0;36mpandas._libs.index.IndexEngine.get_loc\u001b[1;34m()\u001b[0m\n",
      "\u001b[1;32mpandas\\_libs\\hashtable_class_helper.pxi\u001b[0m in \u001b[0;36mpandas._libs.hashtable.PyObjectHashTable.get_item\u001b[1;34m()\u001b[0m\n",
      "\u001b[1;32mpandas\\_libs\\hashtable_class_helper.pxi\u001b[0m in \u001b[0;36mpandas._libs.hashtable.PyObjectHashTable.get_item\u001b[1;34m()\u001b[0m\n",
      "\u001b[1;31mKeyError\u001b[0m: 'client'",
      "\nThe above exception was the direct cause of the following exception:\n",
      "\u001b[1;31mKeyError\u001b[0m                                  Traceback (most recent call last)",
      "\u001b[1;32m~\\AppData\\Local\\Temp/ipykernel_17256/3167470197.py\u001b[0m in \u001b[0;36m<module>\u001b[1;34m\u001b[0m\n\u001b[0;32m     10\u001b[0m \u001b[1;31m# посчитаем стоимость привлечения одного клиента\u001b[0m\u001b[1;33m\u001b[0m\u001b[1;33m\u001b[0m\u001b[0m\n\u001b[0;32m     11\u001b[0m \u001b[1;33m\u001b[0m\u001b[0m\n\u001b[1;32m---> 12\u001b[1;33m \u001b[0mchannels\u001b[0m\u001b[1;33m[\u001b[0m\u001b[1;34m'cac'\u001b[0m\u001b[1;33m]\u001b[0m \u001b[1;33m=\u001b[0m \u001b[0mchannels\u001b[0m\u001b[1;33m[\u001b[0m\u001b[1;34m'costs'\u001b[0m\u001b[1;33m]\u001b[0m\u001b[1;33m/\u001b[0m\u001b[0mchannels\u001b[0m\u001b[1;33m[\u001b[0m\u001b[1;34m'client'\u001b[0m\u001b[1;33m]\u001b[0m\u001b[1;33m\u001b[0m\u001b[1;33m\u001b[0m\u001b[0m\n\u001b[0m",
      "\u001b[1;32m~\\anaconda3\\lib\\site-packages\\pandas\\core\\frame.py\u001b[0m in \u001b[0;36m__getitem__\u001b[1;34m(self, key)\u001b[0m\n\u001b[0;32m   3456\u001b[0m             \u001b[1;32mif\u001b[0m \u001b[0mself\u001b[0m\u001b[1;33m.\u001b[0m\u001b[0mcolumns\u001b[0m\u001b[1;33m.\u001b[0m\u001b[0mnlevels\u001b[0m \u001b[1;33m>\u001b[0m \u001b[1;36m1\u001b[0m\u001b[1;33m:\u001b[0m\u001b[1;33m\u001b[0m\u001b[1;33m\u001b[0m\u001b[0m\n\u001b[0;32m   3457\u001b[0m                 \u001b[1;32mreturn\u001b[0m \u001b[0mself\u001b[0m\u001b[1;33m.\u001b[0m\u001b[0m_getitem_multilevel\u001b[0m\u001b[1;33m(\u001b[0m\u001b[0mkey\u001b[0m\u001b[1;33m)\u001b[0m\u001b[1;33m\u001b[0m\u001b[1;33m\u001b[0m\u001b[0m\n\u001b[1;32m-> 3458\u001b[1;33m             \u001b[0mindexer\u001b[0m \u001b[1;33m=\u001b[0m \u001b[0mself\u001b[0m\u001b[1;33m.\u001b[0m\u001b[0mcolumns\u001b[0m\u001b[1;33m.\u001b[0m\u001b[0mget_loc\u001b[0m\u001b[1;33m(\u001b[0m\u001b[0mkey\u001b[0m\u001b[1;33m)\u001b[0m\u001b[1;33m\u001b[0m\u001b[1;33m\u001b[0m\u001b[0m\n\u001b[0m\u001b[0;32m   3459\u001b[0m             \u001b[1;32mif\u001b[0m \u001b[0mis_integer\u001b[0m\u001b[1;33m(\u001b[0m\u001b[0mindexer\u001b[0m\u001b[1;33m)\u001b[0m\u001b[1;33m:\u001b[0m\u001b[1;33m\u001b[0m\u001b[1;33m\u001b[0m\u001b[0m\n\u001b[0;32m   3460\u001b[0m                 \u001b[0mindexer\u001b[0m \u001b[1;33m=\u001b[0m \u001b[1;33m[\u001b[0m\u001b[0mindexer\u001b[0m\u001b[1;33m]\u001b[0m\u001b[1;33m\u001b[0m\u001b[1;33m\u001b[0m\u001b[0m\n",
      "\u001b[1;32m~\\anaconda3\\lib\\site-packages\\pandas\\core\\indexes\\base.py\u001b[0m in \u001b[0;36mget_loc\u001b[1;34m(self, key, method, tolerance)\u001b[0m\n\u001b[0;32m   3361\u001b[0m                 \u001b[1;32mreturn\u001b[0m \u001b[0mself\u001b[0m\u001b[1;33m.\u001b[0m\u001b[0m_engine\u001b[0m\u001b[1;33m.\u001b[0m\u001b[0mget_loc\u001b[0m\u001b[1;33m(\u001b[0m\u001b[0mcasted_key\u001b[0m\u001b[1;33m)\u001b[0m\u001b[1;33m\u001b[0m\u001b[1;33m\u001b[0m\u001b[0m\n\u001b[0;32m   3362\u001b[0m             \u001b[1;32mexcept\u001b[0m \u001b[0mKeyError\u001b[0m \u001b[1;32mas\u001b[0m \u001b[0merr\u001b[0m\u001b[1;33m:\u001b[0m\u001b[1;33m\u001b[0m\u001b[1;33m\u001b[0m\u001b[0m\n\u001b[1;32m-> 3363\u001b[1;33m                 \u001b[1;32mraise\u001b[0m \u001b[0mKeyError\u001b[0m\u001b[1;33m(\u001b[0m\u001b[0mkey\u001b[0m\u001b[1;33m)\u001b[0m \u001b[1;32mfrom\u001b[0m \u001b[0merr\u001b[0m\u001b[1;33m\u001b[0m\u001b[1;33m\u001b[0m\u001b[0m\n\u001b[0m\u001b[0;32m   3364\u001b[0m \u001b[1;33m\u001b[0m\u001b[0m\n\u001b[0;32m   3365\u001b[0m         \u001b[1;32mif\u001b[0m \u001b[0mis_scalar\u001b[0m\u001b[1;33m(\u001b[0m\u001b[0mkey\u001b[0m\u001b[1;33m)\u001b[0m \u001b[1;32mand\u001b[0m \u001b[0misna\u001b[0m\u001b[1;33m(\u001b[0m\u001b[0mkey\u001b[0m\u001b[1;33m)\u001b[0m \u001b[1;32mand\u001b[0m \u001b[1;32mnot\u001b[0m \u001b[0mself\u001b[0m\u001b[1;33m.\u001b[0m\u001b[0mhasnans\u001b[0m\u001b[1;33m:\u001b[0m\u001b[1;33m\u001b[0m\u001b[1;33m\u001b[0m\u001b[0m\n",
      "\u001b[1;31mKeyError\u001b[0m: 'client'"
     ]
    }
   ],
   "source": [
    "# соединяем сгруппированные данные о затратах на маркетинг и пользователях\n",
    "\n",
    "channels = (eda_df('channel')\n",
    "            .reset_index()\n",
    "            .merge(channels, on='channel')\n",
    "            .sort_values('clients', ascending=False)\n",
    "            .reset_index(drop=True)\n",
    "           )\n",
    "\n",
    "# посчитаем стоимость привлечения одного клиента\n",
    "\n",
    "channels['cac'] = channels['costs']/channels['client']"
   ]
  },
  {
   "cell_type": "code",
   "execution_count": null,
   "metadata": {},
   "outputs": [],
   "source": [
    "# выводим получившуюся таблицу\n",
    "\n",
    "display(channels)\n",
    "\n",
    "# посчитаем общую сумму затрат и среднюю стоимость привлечения\n",
    "\n",
    "print(f\"Средняя стоимость привлечения клиента составляет {round(channels['cac'].mean(), 2)}\")\n",
    "print(f\"Общая сумма затрат на продвижение составляет {round(channels['costs'].sum(), 2)}\")"
   ]
  },
  {
   "cell_type": "markdown",
   "metadata": {},
   "source": [
    "____\n",
    "- Уже сейчас можно сказать, что большие вложения в канал \"TipTop\" не являются целесообразными - стоимость привлечения клиентов более чем в три раза превышает среднее по всем каналам, а общие расходы составляют почти половину всех рекламных расходов, при том что по доле платящих клиентов канал занимает лишь четвёртое место.\n",
    "\n",
    "\n",
    "- Помимо \"Faceboom\", лидирующего по количеству привлечённых клиентов и доле совершающих платежи, стоит также обратить внимание на \"lambaMediaAds\" - среди каналов-лидеров по доле платящих пользователей этот источник имеют самую низкую стоимость привлечения."
   ]
  },
  {
   "cell_type": "markdown",
   "metadata": {},
   "source": [
    "<a id='ad_roi'></a>"
   ]
  },
  {
   "cell_type": "markdown",
   "metadata": {},
   "source": [
    "## Оценка окупаемости рекламы для привлечения пользователей\n",
    "\n",
    "На этом этапе мы изучим окупаемость с помощью показателей **LTV**, **ROI**, а также конверсию и удержание пользователей. Согласно вводным данным от заказчика, в корпоративном бизнес-плане затраты на привлечения пользователей должны окупаться в течении двух недель, что необходимо учесть при анализе. Так как цель исследования - оценка окупаемости рекламы, из анализа будут исключены органические пользователи."
   ]
  },
  {
   "cell_type": "code",
   "execution_count": null,
   "metadata": {},
   "outputs": [],
   "source": [
    "observation_date = datetime(2019, 11, 1).date()  # момент анализа\n",
    "\n",
    "horizon_days = 14  # горизонт анализа\n",
    "\n",
    "profiles = profiles[profiles['channel'] != 'organic']"
   ]
  },
  {
   "cell_type": "markdown",
   "metadata": {},
   "source": [
    "### Анализ окупаемости рекламы"
   ]
  },
  {
   "cell_type": "markdown",
   "metadata": {},
   "source": [
    "Используем [функцию](#funcs) для расчётов показателей и визуализации: "
   ]
  },
  {
   "cell_type": "code",
   "execution_count": null,
   "metadata": {},
   "outputs": [],
   "source": [
    "# считаем LTV и ROI\n",
    "\n",
    "ltv_raw, ltv_grouped, ltv_history, roi_grouped, roi_history = get_ltv(\n",
    "    profiles, orders, observation_date, horizon_days\n",
    ")\n",
    "\n",
    "# строим графики\n",
    "\n",
    "plot_ltv_roi(ltv_grouped, ltv_history, roi_grouped, roi_history, horizon_days) "
   ]
  },
  {
   "cell_type": "markdown",
   "metadata": {},
   "source": [
    "При анализе общих данных можно сделать следующие выводы:\n",
    "- Привлечение пользователей в целом не окупается за 14 дней.\n",
    "\n",
    "- Впервые показатель ROI опускается ниже уровня окупаемости в начале июня, в целом отображает стабильное падение.\n",
    "\n",
    "- С начала июня происходит резкий скачок стоимости привлечения пользователей и постепенно продолжает расти.\n",
    "\n",
    "- Показатель LTV на 14-ый день колеблется в районе 0.8-1.0 на протяжение всего периода."
   ]
  },
  {
   "cell_type": "markdown",
   "metadata": {},
   "source": [
    "Попробуем посмотреть на данные в разрезе регионов:"
   ]
  },
  {
   "cell_type": "code",
   "execution_count": null,
   "metadata": {},
   "outputs": [],
   "source": [
    "# считаем LTV и ROI\n",
    "\n",
    "ltv_raw, ltv_grouped, ltv_history, roi_grouped, roi_history = get_ltv(\n",
    "    profiles, orders, observation_date, horizon_days, dimensions=['region']\n",
    ")\n",
    "\n",
    "# строим графики\n",
    "\n",
    "plot_ltv_roi(ltv_grouped, ltv_history, roi_grouped, roi_history, horizon_days) "
   ]
  },
  {
   "cell_type": "markdown",
   "metadata": {},
   "source": [
    "- Линия США идентична графикам по общим данным - скорее всего это обусловлено тем, что в США находится большая часть пользователей приложения, что имеет решающее влияние на формирование трендов. В разрезе регионов видно, что на самом деле лишь пользователи из США показывают отсутсутствие достижения уровня оккупаемости за две недели и резкий рост стоимости привлечения с начала июня. Также именно они проваливаются по динамике ROI на 14-ый день, остальные регионы практически  всегда выше уровня оккупаемости."
   ]
  },
  {
   "cell_type": "markdown",
   "metadata": {},
   "source": [
    "Попробуем посмотреть на данные в разрезе используемых устройств:"
   ]
  },
  {
   "cell_type": "code",
   "execution_count": null,
   "metadata": {},
   "outputs": [],
   "source": [
    "# считаем LTV и ROI\n",
    "\n",
    "ltv_raw, ltv_grouped, ltv_history, roi_grouped, roi_history = get_ltv(\n",
    "    profiles, orders, observation_date, horizon_days, dimensions=['device']\n",
    ")\n",
    "\n",
    "# строим графики\n",
    "\n",
    "plot_ltv_roi(ltv_grouped, ltv_history, roi_grouped, roi_history, horizon_days) "
   ]
  },
  {
   "cell_type": "markdown",
   "metadata": {},
   "source": [
    "- Динамика iPhone и Mac практически идентична - несмотря на сравнительно высокий показатель LTV, пользователи этих устройств показывают значительный рост динамики привлечения, что коррелируется с низким ROI и его провалом в динамике на 14-ый день.\n",
    "\n",
    "- Только пользователи PC в целом достигают уровня окупаемости - возможно стоит пересмотреть функционал и интерфейс приложения на Mac и мобильных устройствах для поиска возможных точек роста."
   ]
  },
  {
   "cell_type": "markdown",
   "metadata": {},
   "source": [
    "Посмотрим на данные в разрезе каналов привлечения:"
   ]
  },
  {
   "cell_type": "code",
   "execution_count": null,
   "metadata": {},
   "outputs": [],
   "source": [
    "# считаем LTV и ROI\n",
    "\n",
    "ltv_raw, ltv_grouped, ltv_history, roi_grouped, roi_history = get_ltv(\n",
    "    profiles, orders, observation_date, horizon_days, dimensions=['channel']\n",
    ")\n",
    "\n",
    "# строим графики\n",
    "\n",
    "plot_ltv_roi(ltv_grouped, ltv_history, roi_grouped, roi_history, horizon_days) "
   ]
  },
  {
   "cell_type": "markdown",
   "metadata": {},
   "source": [
    "- В очередной раз выделяется канал \"lambdaMediaAds\" - он имеет самый высокий показатель LTV и самую активную динамику по этому показателю на 14-ый день. Уровень окупаемости достигается уже на второй день.\n",
    "\n",
    "\n",
    "- Все каналы показывают стабильную динамику стоимости привлечения, за исключением \"TipTop\" - это единственный канал, расходы которого растут во времени.\n",
    "\n",
    "\n",
    "- Два самых крупных канала по количеству привлечённых пользователей (\"TipTop\" и \"FaceBoom\") не достигают уровня оккупаемости."
   ]
  },
  {
   "cell_type": "markdown",
   "metadata": {},
   "source": [
    "### Анализ конверсии пользователей"
   ]
  },
  {
   "cell_type": "markdown",
   "metadata": {},
   "source": [
    "Используем [функцию](#conversion) для расчётов показателей и визуализации, начав с разбивки по регионам: "
   ]
  },
  {
   "cell_type": "code",
   "execution_count": null,
   "metadata": {},
   "outputs": [],
   "source": [
    "# смотрим конверсию с разбивкой по регионом\n",
    "\n",
    "conversion_raw, conversion_grouped, conversion_history = get_conversion(\n",
    "    profiles, orders, observation_date, horizon_days, dimensions=['region']\n",
    ")\n",
    "\n",
    "plot_conversion(conversion_grouped, conversion_history, horizon_days) \n"
   ]
  },
  {
   "cell_type": "markdown",
   "metadata": {},
   "source": [
    "- При слабых показателях оккупаемости, пользователи из США показывают стабильно хорошую конверсию, чем и может быть обусловлена высокая доля пользователей из этого региона."
   ]
  },
  {
   "cell_type": "code",
   "execution_count": null,
   "metadata": {},
   "outputs": [],
   "source": [
    "# смотрим конверсию с разбивкой по устройствам\n",
    "\n",
    "conversion_raw, conversion_grouped, conversion_history = get_conversion(\n",
    "    profiles, orders, observation_date, horizon_days, dimensions=['device']\n",
    ")\n",
    "\n",
    "plot_conversion(conversion_grouped, conversion_history, horizon_days) \n"
   ]
  },
  {
   "cell_type": "markdown",
   "metadata": {},
   "source": [
    "- Пользователи PC показывают самый низкий уровень конверсии - с учётом показателей окупаемости, необходимо поставить в приоритет увеличение этого показателя."
   ]
  },
  {
   "cell_type": "code",
   "execution_count": null,
   "metadata": {},
   "outputs": [],
   "source": [
    "# смотрим конверсию с разбивкой по каналам привлечения\n",
    "\n",
    "conversion_raw, conversion_grouped, conversion_history = get_conversion(\n",
    "    profiles, orders, observation_date, horizon_days, dimensions=['channel']\n",
    ")\n",
    "\n",
    "plot_conversion(conversion_grouped, conversion_history, horizon_days) \n"
   ]
  },
  {
   "cell_type": "markdown",
   "metadata": {},
   "source": [
    "- \"FaceBoom\" показывает самую стабильную и высокую конверсию, а вот показатели \"TipTop\" - одни из самых низких.\n",
    "\n",
    "\n",
    "- Динамика \"lambaMediaAds\" на 14-ый день очень активна, но в целом показывает стабильно высокий уровень."
   ]
  },
  {
   "cell_type": "markdown",
   "metadata": {},
   "source": [
    "### Анализ удержания пользователей"
   ]
  },
  {
   "cell_type": "markdown",
   "metadata": {},
   "source": [
    "Используем [функцию](#retention) для расчётов показателей и визуализации: "
   ]
  },
  {
   "cell_type": "code",
   "execution_count": null,
   "metadata": {},
   "outputs": [],
   "source": [
    "# смотрим удержание с разбивкой по регионам\n",
    "\n",
    "retention_raw, retention_grouped, retention_history = get_retention(\n",
    "    profiles, visits, observation_date, horizon_days, dimensions=['region']\n",
    ")\n",
    "\n",
    "plot_retention(retention_grouped, retention_history, horizon_days)"
   ]
  },
  {
   "cell_type": "markdown",
   "metadata": {},
   "source": [
    "- Показатели США стабильно низкие, и в виду большой доли пользователей из этого региона это задаёт общий негативный тренд."
   ]
  },
  {
   "cell_type": "code",
   "execution_count": null,
   "metadata": {},
   "outputs": [],
   "source": [
    "# смотрим удержание с разбивкой по устройствам\n",
    "\n",
    "retention_raw, retention_grouped, retention_history = get_retention(\n",
    "    profiles, visits, observation_date, horizon_days, dimensions=['device']\n",
    ")\n",
    "\n",
    "plot_retention(retention_grouped, retention_history, horizon_days) "
   ]
  },
  {
   "cell_type": "markdown",
   "metadata": {},
   "source": [
    "- Среди устройств по уровню удержания лидирует PC, но в целом все имеют сопоставимые показатели"
   ]
  },
  {
   "cell_type": "code",
   "execution_count": null,
   "metadata": {},
   "outputs": [],
   "source": [
    "# смотрим удержание с разбивкой по каналам привлечения\n",
    "\n",
    "retention_raw, retention_grouped, retention_history = get_retention(\n",
    "    profiles, visits, observation_date, horizon_days, dimensions=['channel']\n",
    ")\n",
    "\n",
    "plot_retention(retention_grouped, retention_history, horizon_days) "
   ]
  },
  {
   "cell_type": "markdown",
   "metadata": {},
   "source": [
    "- Крупнейших канал привлечения по количеству пользователей \"FaceBoom\" имеет стабильно самые низкий показатель удержания платящих пользователей - с учётом относительно высокой стоимости привлечения одного клиента, это может стать веским поводом для сокращения вложения в этот канал."
   ]
  },
  {
   "cell_type": "markdown",
   "metadata": {},
   "source": [
    "<a id='conclusion'></a>"
   ]
  },
  {
   "cell_type": "markdown",
   "metadata": {},
   "source": [
    "## Общие выводы"
   ]
  },
  {
   "cell_type": "markdown",
   "metadata": {},
   "source": [
    "----\n",
    "**Рекомендации**\n",
    "\n",
    "- От дальнейших вложений в \"TipTop\" стоит отказаться - суммарные затраты на этот канал привлечения составляет половину рекламного бюджета, но при этом пользователи не достигают уровня оккупаемости за две недели. Несмотря на большое количество пользователей, а также на удовлетворительные показатели конверсии и удержания, канал лишь на четвёртом месте по дол платящих гостей. С учётом текущей показателей, стоимость привлечения вероятно будет продолжать расти со временем, что повлечёт за собой рост убыточности.\n",
    "\n",
    "\n",
    "- Вложения в \"FaceBoom\", возможно, стоит сократить - несмотря на первое место по количеству привлёченных пользователей и долей совершающих покупки, этот канал показывает очень низкое удержание платящих пользователей, что при относительно высокой стоимости привлечения одного клиента может стать причиной убытков.\n",
    "\n",
    "\n",
    "- Одним из самых потенциально прибыльных каналов привлечения является \"lambaMediaAds\". Все показатели на высоком уровне - одна из самых высоких долей платящих гостей, сравнительно низкая стоимость привлечения, достижение уровня окупаемости уже на второй день, хорошие показатели конверсии и удержания.\n",
    "\n",
    "\n",
    "- Доля пользователей США на данный момент составляет ~67%, но при этом они имеют самые слабые показатели окупаемости и удержания платящих пользователей - возможно стоит пересмотреть глобальную стратегию продвижения продукта и повысить присутствие в других, более \"качественных\" регионах.\n",
    "\n",
    "\n",
    "- Только пользователи PC в целом достигают уровня окупаемости - возможно стоит пересмотреть функционал и интерфейс приложения на Mac и мобильных устройствах для поиска возможных точек роста. Также необходимо поставить приоритет на увеличение конверсии пользователей PC - сейчас в разрезе устройств у них самый низкий показатель.\n",
    "\n",
    "----"
   ]
  },
  {
   "cell_type": "markdown",
   "metadata": {},
   "source": [
    "Целью исследования являлось установление причины убыточности развлекательного приложения **Procrastinate Pro+** в последние месяцы. Несмотря на увеличение рекламных расходов, значительный рост количества привлечённых пользователей отсутствует. Необходимо было описать возможные причины обнаруженных проблем и сформировать рекомендации для рекламного отдела. \n",
    "\n",
    "**Ход исследования**\n",
    "\n",
    "Исследование проводилось с использованием лога сервера с данными о посещениях приложения новыми пользователями, зарегистрировавшимися в период с 2019-05-01 по 2019-10-27, выгрузки их покупок за этот период, а также статистики рекламных расходов.В ходе исследованием было изучено, как люди пользуются продуктом, когда они начинают покупать, сколько денег приносит каждый клиент, когда он окупается и какие факторы отрицательно влияют на привлечение пользователей. Исследование было разбито на следующие этапы:\n",
    "\n",
    "1. [**Обзор/предобработка данных**](#overview)\n",
    "\n",
    "Были загружены данные о визитах, заказах и расходах в переменные. Данные проверены, дубликатов или пропусков обнаружено не было, типы данных всех столбцов корректные - данные были оптимизированы для дальнейшего анализа.\n",
    " \n",
    "2. [**Написание функций для расчёта бизнес-показателей**](#func)\n",
    "\n",
    "Были сформированы функции для расчета и анализа показателей **LTV**, **ROI**, **удержания** и **конверсии**, которые были использованы для оценки качества клиентов в дальнейшем исследовании\n",
    "\n",
    "3. [**Исследовательский анализ данных**](#EDA)\n",
    "\n",
    " С помощью функции из предыдущего этапа были сформированы профили пользователей, после чего был проведён анализ в разрезе регионов, используемых устройств и каналов привлечения. Сделаны следующие выводы:\n",
    "\n",
    "- Данные содержат информацию о пользователях из четырёх регионов - США, Великобритания, Франция и Германия.\n",
    "\n",
    "\n",
    "- США является крупнейшим рынком пользователей приложения (~67%), а также показывает самую высокую долю платящих пользователей ~7%.\n",
    "\n",
    "\n",
    "- Данные Европейских регионов сопоставимы - в среднем доля покупателей составляет ~4%. Германия выделятся при этом наименьшим общим количеством клиентов, что делает её показатели наиболее выигрышными. \n",
    "\n",
    "\n",
    "- Лидерами по доле покупателей являются устройства компании **Apple** - <a href=\"https://en.wikipedia.org/wiki/Macintosh\">**Mac**</a> и <a href=\"https://en.wikipedia.org/wiki/iPhone\">**iPhone**</a>, их доля превышеает 6.2%. Причём iPhone лидирует с большим отрывом как по количеству общих пользователей, так и по количеству покупателей.\n",
    "\n",
    "\n",
    "- В разрезе компьютеров <a href=\"https://en.wikipedia.org/wiki/PC_game\">**PC**</a> сильно уступает **Mac** - при практически одинаковом количестве пользователей доля покупателей **PC** сильно ниже.\n",
    "\n",
    "\n",
    "- Социальная сеть **FaceBoom** является абсолютным лидером по привлечению платящих пользователей - крупнейшая доля покупателей при самом большом количестве всех пользователей (за исключением органики)\n",
    "\n",
    "\n",
    "- Пользователи, не использующие рекламные ссылки (organic) реже всего становятся покупателями - их доля составляет всего ~2%, при том что таких пользователей больше, чем от любого рекламного источника.\n",
    "\n",
    "4. [**Анализ маркетинговых действий**](#marketing)\n",
    "\n",
    "При анализе расходов на рекламу были сделаны следующие выводы:\n",
    "\n",
    "- Средняя стоимость привлечения клиента составляет 0.76\n",
    "\n",
    "\n",
    "- Общая сумма затрат на продвижение составляет 105497.3\n",
    "\n",
    "\n",
    "- За рассматриваемый период больше всего денег было потрачено на каналы \"TipTop\" и \"FaceBoom\". \n",
    "\n",
    "\n",
    "- Значительный рост затрат во времени показывает только канал \"TipTop\", все остальные находятся примерно на одном уровне на протяжении расматриваемого периода.\n",
    "\n",
    "\n",
    "- Уже на данном этапе можно сказать, что большие вложения в канал \"TipTop\" не являются целесообразными - стоимость привлечения клиентов более чем в три раза превышает среднее по всем каналам, а общие расходы составляют почти половину всех рекламных расходов, при том что по доле платящих клиентов канал занимает лишь четвёртое место.\n",
    "\n",
    "\n",
    "- Помимо \"Faceboom\", лидирующего по количеству привлечённых клиентов и доле совершающих платежи, стоит также обратить внимание на \"lambaMediaAds\" - среди каналов-лидеров по доле платящих пользователей этот источник имеют самую низкую стоимость привлечения.\n",
    "\n",
    "5. [**Оценка окупаемости рекламы для привлечения пользователей**](#ad_roi)\n",
    "\n",
    "На этом этапе была изучена окупаемость с помощью показателей **LTV**, **ROI**, а также конверсия и удержания пользователей. Согласно вводным данным от заказчика, в корпоративном бизнес-плане затраты на привлечение пользователей должны окупаться в течении двух недель, что было учтено при анализе. Так как цель исследования - оценка окупаемости рекламы, из анализа были исключены органические пользователи. Все показатели были изучены в разрезе регионов, используемых устройств и каналов привлечения.\n",
    "\n",
    "**Выводы по анализу окупаемости рекламы**\n",
    "\n",
    "Общие данные:\n",
    "\n",
    "- Привлечение пользователей в целом не окупается за 14 дней.\n",
    "\n",
    "\n",
    "- Впервые показатель ROI опускается ниже уровня окупаемости в начале июня, в целом отображает стабильное падение.\n",
    "\n",
    "\n",
    "- С начала июня происходит резкий скачок стоимости привлечения пользователей и постепенно продолжает расти.\n",
    "\n",
    "    \n",
    "- Показатель LTV на 14-ый день колеблется в районе 0.8-1.0 на протяжение всего периода.\n",
    "\n",
    "В разрезе регионов:\n",
    "\n",
    "- Линия США идентична общим графикам по всем регионам - скорее всего это обусловлено тем, что в США находится большая часть пользователей приложения, что имеет решающее влияние на формирование трендов. В разрезе регионов видно, что на самом деле лишь пользователи из США показывают отсутсутствие достижения уровня оккупаемости за две недели и резкий рост стоимости привлечения с начала июня. Также именно они проваливаются по динамике ROI на 14-ый день, остальные регионы практически  всегда выше уровня оккупаемости.\n",
    "\n",
    "В разрезе используемых устройств:\n",
    "\n",
    "- Динамика iPhone и Mac практически идентична - несмотря на сравнительно высокий показатель LTV, пользователи этих устройств показывают значительный рост динамики привлечения, что коррелируется с низким ROI и его провалом в динамике на 14-ый день.\n",
    "\n",
    "\n",
    "- Только пользователи PC в целом достигают уровня окупаемости - возможно стоит пересмотреть функционал и интерфейс приложения на Mac и мобильных устройствах для поиска возможных точек роста.\n",
    "\n",
    "В разрезе каналов привлечения:\n",
    "\n",
    "- В очередной раз выделяется канал \"lambdaMediaAds\" - он имеет самый высокий показатель LTV и самую активную динамику по этому показателю на 14-ый день. Уровень окупаемости достигается уже на второй день.\n",
    "\n",
    "\n",
    "- Все каналы показывают стабильную динамику стоимости привлечения, за исключением \"TipTop\" - это единственный канал, расходы которого растут во времени.\n",
    "\n",
    "\n",
    "- Два самых крупных канала по количеству привлечённых пользователей (\"TipTop\" и \"FaceBoom\") не достигают уровня оккупаемости.\n",
    "\n",
    "**Выводы по анализу конверсии пользователей**\n",
    "\n",
    "- При слабых показателях оккупаемости, пользователи из США показывают стабильно хорошую конверсию, чем и может быть обусловлена высокая доля пользователей из этого региона.\n",
    "\n",
    "\n",
    "- Пользователи PC показывают самый низкий уровень конверсии - с учётом показателей окупаемости, необходимо поставить в приоритет увеличение этого показателя.\n",
    "\n",
    "\n",
    "- \"FaceBoom\" показывает самую стабильную и высокую конверсию, а вот показатели \"TipTop\" - одни из самых низких.\n",
    "\n",
    "\n",
    "- Динамика \"lambaMediaAds\" на 14-ый день очень активна, но в целом показывает стабильно высокий уровень.\n",
    "\n",
    "**Выводы по анализу удержания пользователей**:\n",
    "\n",
    "- Показатели США стабильно низкие, и в виду большой доли пользователей из этого региона это задаёт общий негативный тренд.\n",
    "\n",
    "\n",
    "- Среди устройств по уровню удержания лидирует PC, но в целом все имеют сопоставимые показатели\n",
    "\n",
    "\n",
    "- Крупнейших канал привлечения по количеству пользователей \"FaceBoom\" имеет стабильно самые низкий показатель удержания платящих пользователей - с учётом относительно высокой стоимости привлечения одного клиента, это может стать веским поводом для сокращения вложения в этот канал."
   ]
  }
 ],
 "metadata": {
  "ExecuteTimeLog": [
   {
    "duration": 125,
    "start_time": "2022-06-22T19:12:33.742Z"
   },
   {
    "duration": 1368,
    "start_time": "2022-06-22T19:39:28.668Z"
   },
   {
    "duration": 809,
    "start_time": "2022-06-22T19:40:22.852Z"
   },
   {
    "duration": 596,
    "start_time": "2022-06-22T19:41:50.983Z"
   },
   {
    "duration": 625,
    "start_time": "2022-06-22T19:42:10.470Z"
   },
   {
    "duration": 615,
    "start_time": "2022-06-22T19:42:18.159Z"
   },
   {
    "duration": 674,
    "start_time": "2022-06-22T19:42:25.615Z"
   },
   {
    "duration": 703,
    "start_time": "2022-06-22T19:43:03.737Z"
   },
   {
    "duration": 686,
    "start_time": "2022-06-22T19:43:19.200Z"
   },
   {
    "duration": 988,
    "start_time": "2022-06-22T19:47:35.280Z"
   },
   {
    "duration": 707,
    "start_time": "2022-06-22T19:48:13.153Z"
   },
   {
    "duration": 743,
    "start_time": "2022-06-22T19:48:32.280Z"
   },
   {
    "duration": 74,
    "start_time": "2022-06-22T19:48:38.147Z"
   },
   {
    "duration": 73,
    "start_time": "2022-06-22T19:48:57.769Z"
   },
   {
    "duration": 75,
    "start_time": "2022-06-22T19:49:14.921Z"
   },
   {
    "duration": 78,
    "start_time": "2022-06-22T19:49:17.969Z"
   },
   {
    "duration": 778,
    "start_time": "2022-06-22T19:51:07.743Z"
   },
   {
    "duration": 974,
    "start_time": "2022-06-22T19:51:30.918Z"
   },
   {
    "duration": 17,
    "start_time": "2022-06-22T19:51:42.197Z"
   },
   {
    "duration": 44,
    "start_time": "2022-06-22T19:52:00.878Z"
   },
   {
    "duration": 51,
    "start_time": "2022-06-22T19:52:37.055Z"
   },
   {
    "duration": 62,
    "start_time": "2022-06-22T19:52:44.503Z"
   },
   {
    "duration": 55,
    "start_time": "2022-06-22T19:52:50.567Z"
   },
   {
    "duration": 55,
    "start_time": "2022-06-22T19:52:56.550Z"
   },
   {
    "duration": 68,
    "start_time": "2022-06-22T19:52:57.391Z"
   },
   {
    "duration": 55,
    "start_time": "2022-06-22T19:52:58.042Z"
   },
   {
    "duration": 59,
    "start_time": "2022-06-22T19:52:58.846Z"
   },
   {
    "duration": 72,
    "start_time": "2022-06-22T19:52:59.407Z"
   },
   {
    "duration": 57,
    "start_time": "2022-06-22T19:52:59.863Z"
   },
   {
    "duration": 81,
    "start_time": "2022-06-22T19:53:00.304Z"
   },
   {
    "duration": 79,
    "start_time": "2022-06-22T19:53:00.823Z"
   },
   {
    "duration": 63,
    "start_time": "2022-06-22T19:53:01.270Z"
   },
   {
    "duration": 69,
    "start_time": "2022-06-22T19:53:01.767Z"
   },
   {
    "duration": 87,
    "start_time": "2022-06-22T19:53:02.614Z"
   },
   {
    "duration": 61,
    "start_time": "2022-06-22T19:53:02.871Z"
   },
   {
    "duration": 72,
    "start_time": "2022-06-22T19:54:35.593Z"
   },
   {
    "duration": 16,
    "start_time": "2022-06-22T19:54:36.369Z"
   },
   {
    "duration": 30,
    "start_time": "2022-06-22T19:54:37.010Z"
   },
   {
    "duration": 4,
    "start_time": "2022-06-22T20:01:15.677Z"
   },
   {
    "duration": 11,
    "start_time": "2022-06-22T20:02:03.621Z"
   },
   {
    "duration": 6,
    "start_time": "2022-06-22T20:02:08.917Z"
   },
   {
    "duration": 13,
    "start_time": "2022-06-22T20:02:32.901Z"
   },
   {
    "duration": 2,
    "start_time": "2022-06-22T20:03:26.154Z"
   },
   {
    "duration": 19,
    "start_time": "2022-06-22T20:03:56.423Z"
   },
   {
    "duration": 8,
    "start_time": "2022-06-22T20:04:09.600Z"
   },
   {
    "duration": 7,
    "start_time": "2022-06-22T20:05:52.787Z"
   },
   {
    "duration": 9,
    "start_time": "2022-06-22T20:06:22.867Z"
   },
   {
    "duration": 4,
    "start_time": "2022-06-22T20:06:40.491Z"
   },
   {
    "duration": 14,
    "start_time": "2022-06-22T20:08:01.926Z"
   },
   {
    "duration": 19,
    "start_time": "2022-06-22T20:08:57.519Z"
   },
   {
    "duration": 9,
    "start_time": "2022-06-22T20:09:58.478Z"
   },
   {
    "duration": 28,
    "start_time": "2022-06-22T20:10:04.297Z"
   },
   {
    "duration": 8,
    "start_time": "2022-06-22T20:12:26.093Z"
   },
   {
    "duration": 5,
    "start_time": "2022-06-22T20:15:09.153Z"
   },
   {
    "duration": 16,
    "start_time": "2022-06-22T20:15:16.265Z"
   },
   {
    "duration": 9,
    "start_time": "2022-06-22T20:15:28.135Z"
   },
   {
    "duration": 4,
    "start_time": "2022-06-22T20:17:32.652Z"
   },
   {
    "duration": 9,
    "start_time": "2022-06-22T21:22:55.001Z"
   },
   {
    "duration": 145,
    "start_time": "2022-06-22T21:22:59.401Z"
   },
   {
    "duration": 135,
    "start_time": "2022-06-22T21:23:05.112Z"
   },
   {
    "duration": 143,
    "start_time": "2022-06-22T21:23:09.897Z"
   },
   {
    "duration": 12,
    "start_time": "2022-06-22T21:23:15.741Z"
   },
   {
    "duration": 17,
    "start_time": "2022-06-22T21:23:18.824Z"
   },
   {
    "duration": 7,
    "start_time": "2022-06-22T21:23:29.321Z"
   },
   {
    "duration": 258,
    "start_time": "2022-06-22T21:28:29.850Z"
   },
   {
    "duration": 52,
    "start_time": "2022-06-22T21:28:59.393Z"
   },
   {
    "duration": 39,
    "start_time": "2022-06-22T21:29:06.466Z"
   },
   {
    "duration": 81,
    "start_time": "2022-06-22T21:29:15.682Z"
   },
   {
    "duration": 222,
    "start_time": "2022-06-22T21:29:24.650Z"
   },
   {
    "duration": 226,
    "start_time": "2022-06-22T21:29:54.499Z"
   },
   {
    "duration": 230,
    "start_time": "2022-06-22T21:30:14.451Z"
   },
   {
    "duration": 233,
    "start_time": "2022-06-22T21:30:19.619Z"
   },
   {
    "duration": 267,
    "start_time": "2022-06-22T21:31:27.599Z"
   },
   {
    "duration": 48,
    "start_time": "2022-06-22T21:31:50.244Z"
   },
   {
    "duration": 281,
    "start_time": "2022-06-22T21:31:58.909Z"
   },
   {
    "duration": 240,
    "start_time": "2022-06-22T21:32:06.214Z"
   },
   {
    "duration": 306,
    "start_time": "2022-06-22T21:32:29.975Z"
   },
   {
    "duration": 252,
    "start_time": "2022-06-22T21:33:02.120Z"
   },
   {
    "duration": 263,
    "start_time": "2022-06-22T21:33:52.457Z"
   },
   {
    "duration": 241,
    "start_time": "2022-06-22T21:33:59.505Z"
   },
   {
    "duration": 8,
    "start_time": "2022-06-22T21:34:05.531Z"
   },
   {
    "duration": 821,
    "start_time": "2022-06-22T21:34:05.543Z"
   },
   {
    "duration": 212,
    "start_time": "2022-06-22T21:34:09.761Z"
   },
   {
    "duration": 9,
    "start_time": "2022-06-22T21:34:47.602Z"
   },
   {
    "duration": 22,
    "start_time": "2022-06-22T21:34:59.362Z"
   },
   {
    "duration": 28,
    "start_time": "2022-06-22T21:35:12.499Z"
   },
   {
    "duration": 4,
    "start_time": "2022-06-22T21:35:35.431Z"
   },
   {
    "duration": 781,
    "start_time": "2022-06-22T21:44:46.433Z"
   },
   {
    "duration": 10,
    "start_time": "2022-06-22T21:44:50.146Z"
   },
   {
    "duration": 7,
    "start_time": "2022-06-22T21:45:12.354Z"
   },
   {
    "duration": 11,
    "start_time": "2022-06-22T21:45:29.267Z"
   },
   {
    "duration": 23,
    "start_time": "2022-06-22T21:45:39.341Z"
   },
   {
    "duration": 4,
    "start_time": "2022-06-22T21:46:33.669Z"
   },
   {
    "duration": 5,
    "start_time": "2022-06-22T21:46:49.014Z"
   },
   {
    "duration": 11,
    "start_time": "2022-06-22T21:46:57.245Z"
   },
   {
    "duration": 7,
    "start_time": "2022-06-22T21:50:41.812Z"
   },
   {
    "duration": 7,
    "start_time": "2022-06-22T22:11:53.978Z"
   },
   {
    "duration": 15,
    "start_time": "2022-06-22T22:12:26.881Z"
   },
   {
    "duration": 4,
    "start_time": "2022-06-22T22:12:45.719Z"
   },
   {
    "duration": 790,
    "start_time": "2022-06-22T22:12:45.726Z"
   },
   {
    "duration": 225,
    "start_time": "2022-06-22T22:12:46.518Z"
   },
   {
    "duration": 11,
    "start_time": "2022-06-22T22:12:46.745Z"
   },
   {
    "duration": 27,
    "start_time": "2022-06-22T22:12:46.757Z"
   },
   {
    "duration": 4,
    "start_time": "2022-06-22T22:12:46.786Z"
   },
   {
    "duration": 41,
    "start_time": "2022-06-22T22:12:46.792Z"
   },
   {
    "duration": 4,
    "start_time": "2022-06-22T22:12:46.837Z"
   },
   {
    "duration": 18,
    "start_time": "2022-06-22T22:12:46.844Z"
   },
   {
    "duration": 24,
    "start_time": "2022-06-22T22:12:46.864Z"
   },
   {
    "duration": 44,
    "start_time": "2022-06-22T22:12:46.890Z"
   },
   {
    "duration": 48,
    "start_time": "2022-06-22T22:12:46.947Z"
   },
   {
    "duration": 32,
    "start_time": "2022-06-22T22:12:46.997Z"
   },
   {
    "duration": 47,
    "start_time": "2022-06-22T22:12:47.030Z"
   },
   {
    "duration": 24,
    "start_time": "2022-06-22T22:12:47.079Z"
   },
   {
    "duration": 39,
    "start_time": "2022-06-22T22:12:47.104Z"
   },
   {
    "duration": 400,
    "start_time": "2022-06-22T22:12:52.102Z"
   },
   {
    "duration": 719,
    "start_time": "2022-06-22T22:20:54.673Z"
   },
   {
    "duration": 679,
    "start_time": "2022-06-22T22:21:37.723Z"
   },
   {
    "duration": 658,
    "start_time": "2022-06-22T22:24:08.718Z"
   },
   {
    "duration": 672,
    "start_time": "2022-06-22T22:24:32.679Z"
   },
   {
    "duration": 621,
    "start_time": "2022-06-22T22:24:42.190Z"
   },
   {
    "duration": 343,
    "start_time": "2022-06-22T22:24:43.871Z"
   },
   {
    "duration": 95,
    "start_time": "2022-06-22T22:28:01.950Z"
   },
   {
    "duration": 283,
    "start_time": "2022-06-22T22:28:04.536Z"
   },
   {
    "duration": 90,
    "start_time": "2022-06-22T22:28:33.254Z"
   },
   {
    "duration": 27,
    "start_time": "2022-06-22T22:28:38.685Z"
   },
   {
    "duration": 33,
    "start_time": "2022-06-22T22:28:39.413Z"
   },
   {
    "duration": 14,
    "start_time": "2022-06-22T22:29:53.655Z"
   },
   {
    "duration": 5,
    "start_time": "2022-06-22T22:30:42.312Z"
   },
   {
    "duration": 19,
    "start_time": "2022-06-22T22:30:45.679Z"
   },
   {
    "duration": 5,
    "start_time": "2022-06-22T22:30:48.080Z"
   },
   {
    "duration": 1122,
    "start_time": "2022-06-22T22:30:53.257Z"
   },
   {
    "duration": 691,
    "start_time": "2022-06-22T22:30:54.381Z"
   },
   {
    "duration": 425,
    "start_time": "2022-06-22T22:30:55.074Z"
   },
   {
    "duration": 217,
    "start_time": "2022-06-22T22:30:55.501Z"
   },
   {
    "duration": 44,
    "start_time": "2022-06-22T22:30:55.720Z"
   },
   {
    "duration": 14,
    "start_time": "2022-06-22T22:30:55.765Z"
   },
   {
    "duration": 20,
    "start_time": "2022-06-22T22:30:55.780Z"
   },
   {
    "duration": 28,
    "start_time": "2022-06-22T22:30:55.801Z"
   },
   {
    "duration": 9,
    "start_time": "2022-06-22T22:30:55.834Z"
   },
   {
    "duration": 11,
    "start_time": "2022-06-22T22:30:55.846Z"
   },
   {
    "duration": 12,
    "start_time": "2022-06-22T22:30:55.859Z"
   },
   {
    "duration": 10,
    "start_time": "2022-06-22T22:30:55.874Z"
   },
   {
    "duration": 9,
    "start_time": "2022-06-22T22:30:55.886Z"
   },
   {
    "duration": 12,
    "start_time": "2022-06-22T22:30:55.897Z"
   },
   {
    "duration": 38,
    "start_time": "2022-06-22T22:30:55.910Z"
   },
   {
    "duration": 7,
    "start_time": "2022-06-22T22:30:55.950Z"
   },
   {
    "duration": 545,
    "start_time": "2022-06-22T22:30:55.959Z"
   },
   {
    "duration": 424,
    "start_time": "2022-06-22T22:31:04.994Z"
   },
   {
    "duration": 9,
    "start_time": "2022-06-22T22:31:36.154Z"
   },
   {
    "duration": 18,
    "start_time": "2022-06-22T22:31:38.185Z"
   },
   {
    "duration": 4,
    "start_time": "2022-06-22T22:31:46.889Z"
   },
   {
    "duration": 679,
    "start_time": "2022-06-22T22:31:46.895Z"
   },
   {
    "duration": 398,
    "start_time": "2022-06-22T22:31:47.576Z"
   },
   {
    "duration": 164,
    "start_time": "2022-06-22T22:31:47.976Z"
   },
   {
    "duration": 38,
    "start_time": "2022-06-22T22:31:48.143Z"
   },
   {
    "duration": 12,
    "start_time": "2022-06-22T22:31:48.183Z"
   },
   {
    "duration": 46,
    "start_time": "2022-06-22T22:31:48.196Z"
   },
   {
    "duration": 6,
    "start_time": "2022-06-22T22:31:48.244Z"
   },
   {
    "duration": 7,
    "start_time": "2022-06-22T22:31:48.252Z"
   },
   {
    "duration": 7,
    "start_time": "2022-06-22T22:31:48.261Z"
   },
   {
    "duration": 31,
    "start_time": "2022-06-22T22:31:48.269Z"
   },
   {
    "duration": 15,
    "start_time": "2022-06-22T22:31:48.302Z"
   },
   {
    "duration": 18,
    "start_time": "2022-06-22T22:31:48.319Z"
   },
   {
    "duration": 9,
    "start_time": "2022-06-22T22:31:48.340Z"
   },
   {
    "duration": 14,
    "start_time": "2022-06-22T22:31:48.351Z"
   },
   {
    "duration": 8,
    "start_time": "2022-06-22T22:31:48.366Z"
   },
   {
    "duration": 488,
    "start_time": "2022-06-22T22:31:48.375Z"
   },
   {
    "duration": 446,
    "start_time": "2022-06-22T22:32:16.115Z"
   },
   {
    "duration": 24,
    "start_time": "2022-06-22T22:32:31.811Z"
   },
   {
    "duration": 1796,
    "start_time": "2022-06-23T18:55:36.528Z"
   },
   {
    "duration": 4690,
    "start_time": "2022-06-23T18:55:38.326Z"
   },
   {
    "duration": 503,
    "start_time": "2022-06-23T18:55:43.018Z"
   },
   {
    "duration": 277,
    "start_time": "2022-06-23T18:55:43.525Z"
   },
   {
    "duration": 34,
    "start_time": "2022-06-23T18:55:43.805Z"
   },
   {
    "duration": 24,
    "start_time": "2022-06-23T18:55:43.841Z"
   },
   {
    "duration": 67,
    "start_time": "2022-06-23T18:55:43.873Z"
   },
   {
    "duration": 9,
    "start_time": "2022-06-23T18:55:43.945Z"
   },
   {
    "duration": 51,
    "start_time": "2022-06-23T18:55:43.956Z"
   },
   {
    "duration": 11,
    "start_time": "2022-06-23T18:55:44.012Z"
   },
   {
    "duration": 10,
    "start_time": "2022-06-23T18:55:44.025Z"
   },
   {
    "duration": 81,
    "start_time": "2022-06-23T18:55:44.037Z"
   },
   {
    "duration": 10,
    "start_time": "2022-06-23T18:55:44.119Z"
   },
   {
    "duration": 27,
    "start_time": "2022-06-23T18:55:44.131Z"
   },
   {
    "duration": 48,
    "start_time": "2022-06-23T18:55:44.166Z"
   },
   {
    "duration": 7,
    "start_time": "2022-06-23T18:55:44.216Z"
   },
   {
    "duration": 610,
    "start_time": "2022-06-23T18:55:44.227Z"
   },
   {
    "duration": 70,
    "start_time": "2022-06-23T18:55:44.838Z"
   },
   {
    "duration": 196,
    "start_time": "2022-06-23T19:04:03.258Z"
   },
   {
    "duration": 164,
    "start_time": "2022-06-23T19:04:21.571Z"
   },
   {
    "duration": 161,
    "start_time": "2022-06-23T19:04:38.498Z"
   },
   {
    "duration": 181,
    "start_time": "2022-06-23T19:04:43.718Z"
   },
   {
    "duration": 166,
    "start_time": "2022-06-23T19:05:36.196Z"
   },
   {
    "duration": 774,
    "start_time": "2022-06-23T19:08:54.128Z"
   },
   {
    "duration": 37,
    "start_time": "2022-06-23T19:13:11.680Z"
   },
   {
    "duration": 27,
    "start_time": "2022-06-23T19:15:35.908Z"
   },
   {
    "duration": 23,
    "start_time": "2022-06-23T19:15:48.913Z"
   },
   {
    "duration": 19,
    "start_time": "2022-06-23T19:15:53.461Z"
   },
   {
    "duration": 224,
    "start_time": "2022-06-23T19:16:02.069Z"
   },
   {
    "duration": 150,
    "start_time": "2022-06-23T19:16:25.428Z"
   },
   {
    "duration": 140,
    "start_time": "2022-06-23T19:16:31.111Z"
   },
   {
    "duration": 202,
    "start_time": "2022-06-23T19:16:43.486Z"
   },
   {
    "duration": 16,
    "start_time": "2022-06-23T19:19:32.164Z"
   },
   {
    "duration": 7,
    "start_time": "2022-06-23T19:19:35.281Z"
   },
   {
    "duration": 4,
    "start_time": "2022-06-23T19:19:36.098Z"
   },
   {
    "duration": 12,
    "start_time": "2022-06-23T19:19:36.417Z"
   },
   {
    "duration": 24,
    "start_time": "2022-06-23T19:19:44.209Z"
   },
   {
    "duration": 25,
    "start_time": "2022-06-23T19:19:54.977Z"
   },
   {
    "duration": 146,
    "start_time": "2022-06-23T19:19:55.707Z"
   },
   {
    "duration": 41,
    "start_time": "2022-06-23T19:20:15.566Z"
   },
   {
    "duration": 7,
    "start_time": "2022-06-23T19:20:17.964Z"
   },
   {
    "duration": 41,
    "start_time": "2022-06-23T19:20:18.559Z"
   },
   {
    "duration": 6,
    "start_time": "2022-06-23T19:21:10.073Z"
   },
   {
    "duration": 36,
    "start_time": "2022-06-23T19:21:10.323Z"
   },
   {
    "duration": 4,
    "start_time": "2022-06-23T19:21:25.610Z"
   },
   {
    "duration": 64,
    "start_time": "2022-06-23T19:21:25.616Z"
   },
   {
    "duration": 46,
    "start_time": "2022-06-23T19:21:37.082Z"
   },
   {
    "duration": 22,
    "start_time": "2022-06-23T19:25:00.867Z"
   },
   {
    "duration": 26,
    "start_time": "2022-06-23T19:25:04.606Z"
   },
   {
    "duration": 13,
    "start_time": "2022-06-23T19:25:07.373Z"
   },
   {
    "duration": 54,
    "start_time": "2022-06-23T19:25:07.851Z"
   },
   {
    "duration": 4,
    "start_time": "2022-06-23T19:42:48.006Z"
   },
   {
    "duration": 3,
    "start_time": "2022-06-23T19:42:48.811Z"
   },
   {
    "duration": 24,
    "start_time": "2022-06-23T19:42:49.269Z"
   },
   {
    "duration": 31,
    "start_time": "2022-06-23T19:43:07.974Z"
   },
   {
    "duration": 22,
    "start_time": "2022-06-23T19:43:11.410Z"
   },
   {
    "duration": 4,
    "start_time": "2022-06-23T19:43:31.067Z"
   },
   {
    "duration": 24,
    "start_time": "2022-06-23T19:43:31.483Z"
   },
   {
    "duration": 23,
    "start_time": "2022-06-23T19:43:46.168Z"
   },
   {
    "duration": 35,
    "start_time": "2022-06-23T19:44:10.979Z"
   },
   {
    "duration": 84,
    "start_time": "2022-06-23T19:44:46.963Z"
   },
   {
    "duration": 59,
    "start_time": "2022-06-23T19:45:22.411Z"
   },
   {
    "duration": 43,
    "start_time": "2022-06-23T19:45:38.411Z"
   },
   {
    "duration": 37,
    "start_time": "2022-06-23T19:46:18.067Z"
   },
   {
    "duration": 4,
    "start_time": "2022-06-23T19:46:28.239Z"
   },
   {
    "duration": 34,
    "start_time": "2022-06-23T19:46:29.766Z"
   },
   {
    "duration": 37,
    "start_time": "2022-06-23T19:46:47.265Z"
   },
   {
    "duration": 4,
    "start_time": "2022-06-23T19:47:03.587Z"
   },
   {
    "duration": 42,
    "start_time": "2022-06-23T19:47:04.107Z"
   },
   {
    "duration": 51,
    "start_time": "2022-06-23T19:47:30.981Z"
   },
   {
    "duration": 28,
    "start_time": "2022-06-23T19:47:47.395Z"
   },
   {
    "duration": 30,
    "start_time": "2022-06-23T19:51:30.157Z"
   },
   {
    "duration": 33,
    "start_time": "2022-06-23T19:52:33.997Z"
   },
   {
    "duration": 24,
    "start_time": "2022-06-23T19:52:43.269Z"
   },
   {
    "duration": 25,
    "start_time": "2022-06-23T19:53:43.277Z"
   },
   {
    "duration": 26,
    "start_time": "2022-06-23T19:53:49.006Z"
   },
   {
    "duration": 27,
    "start_time": "2022-06-23T19:53:54.663Z"
   },
   {
    "duration": 24,
    "start_time": "2022-06-23T19:53:55.405Z"
   },
   {
    "duration": 49,
    "start_time": "2022-06-23T19:53:55.967Z"
   },
   {
    "duration": 30,
    "start_time": "2022-06-23T19:54:50.917Z"
   },
   {
    "duration": 23,
    "start_time": "2022-06-23T19:54:57.981Z"
   },
   {
    "duration": 23,
    "start_time": "2022-06-23T19:54:59.111Z"
   },
   {
    "duration": 23,
    "start_time": "2022-06-23T19:54:59.865Z"
   },
   {
    "duration": 38,
    "start_time": "2022-06-23T19:55:06.141Z"
   },
   {
    "duration": 45,
    "start_time": "2022-06-23T19:55:12.340Z"
   },
   {
    "duration": 4,
    "start_time": "2022-06-23T19:55:22.782Z"
   },
   {
    "duration": 713,
    "start_time": "2022-06-23T19:55:22.790Z"
   },
   {
    "duration": 416,
    "start_time": "2022-06-23T19:55:23.507Z"
   },
   {
    "duration": 206,
    "start_time": "2022-06-23T19:55:23.925Z"
   },
   {
    "duration": 44,
    "start_time": "2022-06-23T19:55:24.134Z"
   },
   {
    "duration": 15,
    "start_time": "2022-06-23T19:55:24.181Z"
   },
   {
    "duration": 21,
    "start_time": "2022-06-23T19:55:24.198Z"
   },
   {
    "duration": 8,
    "start_time": "2022-06-23T19:55:24.247Z"
   },
   {
    "duration": 23,
    "start_time": "2022-06-23T19:55:24.257Z"
   },
   {
    "duration": 11,
    "start_time": "2022-06-23T19:55:24.282Z"
   },
   {
    "duration": 10,
    "start_time": "2022-06-23T19:55:24.294Z"
   },
   {
    "duration": 10,
    "start_time": "2022-06-23T19:55:24.306Z"
   },
   {
    "duration": 30,
    "start_time": "2022-06-23T19:55:24.318Z"
   },
   {
    "duration": 22,
    "start_time": "2022-06-23T19:55:24.349Z"
   },
   {
    "duration": 12,
    "start_time": "2022-06-23T19:55:24.375Z"
   },
   {
    "duration": 8,
    "start_time": "2022-06-23T19:55:24.389Z"
   },
   {
    "duration": 681,
    "start_time": "2022-06-23T19:55:24.399Z"
   },
   {
    "duration": 28,
    "start_time": "2022-06-23T19:55:29.475Z"
   },
   {
    "duration": 25,
    "start_time": "2022-06-23T19:55:37.965Z"
   },
   {
    "duration": 24,
    "start_time": "2022-06-23T19:56:10.573Z"
   },
   {
    "duration": 27,
    "start_time": "2022-06-23T19:56:14.909Z"
   },
   {
    "duration": 61,
    "start_time": "2022-06-23T19:56:27.964Z"
   },
   {
    "duration": 72,
    "start_time": "2022-06-23T19:56:40.209Z"
   },
   {
    "duration": 64,
    "start_time": "2022-06-23T19:57:01.061Z"
   },
   {
    "duration": 75,
    "start_time": "2022-06-23T19:57:21.013Z"
   },
   {
    "duration": 70,
    "start_time": "2022-06-23T19:57:34.420Z"
   },
   {
    "duration": 55,
    "start_time": "2022-06-23T19:57:45.609Z"
   },
   {
    "duration": 194,
    "start_time": "2022-06-23T19:58:39.367Z"
   },
   {
    "duration": 21429,
    "start_time": "2022-06-23T19:59:31.665Z"
   },
   {
    "duration": 23102,
    "start_time": "2022-06-23T19:59:59.732Z"
   },
   {
    "duration": 48546,
    "start_time": "2022-06-23T20:03:18.842Z"
   },
   {
    "duration": 7128,
    "start_time": "2022-06-23T20:04:59.686Z"
   },
   {
    "duration": 42,
    "start_time": "2022-06-23T20:05:28.095Z"
   },
   {
    "duration": 45,
    "start_time": "2022-06-23T20:05:30.457Z"
   },
   {
    "duration": 41,
    "start_time": "2022-06-23T20:05:40.040Z"
   },
   {
    "duration": 181,
    "start_time": "2022-06-23T20:06:08.774Z"
   },
   {
    "duration": 182,
    "start_time": "2022-06-23T20:06:47.970Z"
   },
   {
    "duration": 12,
    "start_time": "2022-06-23T20:09:03.367Z"
   },
   {
    "duration": 12,
    "start_time": "2022-06-23T20:09:13.270Z"
   },
   {
    "duration": 15,
    "start_time": "2022-06-23T20:09:20.239Z"
   },
   {
    "duration": 7,
    "start_time": "2022-06-23T20:09:30.939Z"
   },
   {
    "duration": 752,
    "start_time": "2022-06-23T20:09:37.136Z"
   },
   {
    "duration": 5,
    "start_time": "2022-06-23T20:10:25.199Z"
   },
   {
    "duration": 5,
    "start_time": "2022-06-23T20:10:26.570Z"
   },
   {
    "duration": 908,
    "start_time": "2022-06-23T20:10:26.839Z"
   },
   {
    "duration": 717,
    "start_time": "2022-06-23T20:12:53.881Z"
   },
   {
    "duration": 725,
    "start_time": "2022-06-23T20:13:14.261Z"
   },
   {
    "duration": 713,
    "start_time": "2022-06-23T20:13:38.066Z"
   },
   {
    "duration": 770,
    "start_time": "2022-06-23T20:13:49.681Z"
   },
   {
    "duration": 738,
    "start_time": "2022-06-23T20:13:53.345Z"
   },
   {
    "duration": 842,
    "start_time": "2022-06-23T20:14:09.170Z"
   },
   {
    "duration": 621,
    "start_time": "2022-06-23T20:14:25.401Z"
   },
   {
    "duration": 595,
    "start_time": "2022-06-23T20:14:31.341Z"
   },
   {
    "duration": 601,
    "start_time": "2022-06-23T20:14:58.912Z"
   },
   {
    "duration": 709,
    "start_time": "2022-06-23T20:15:21.969Z"
   },
   {
    "duration": 790,
    "start_time": "2022-06-23T20:15:30.036Z"
   },
   {
    "duration": 650,
    "start_time": "2022-06-23T20:15:34.785Z"
   },
   {
    "duration": 765,
    "start_time": "2022-06-23T20:15:46.396Z"
   },
   {
    "duration": 679,
    "start_time": "2022-06-23T20:16:05.512Z"
   },
   {
    "duration": 674,
    "start_time": "2022-06-23T20:16:10.625Z"
   },
   {
    "duration": 692,
    "start_time": "2022-06-23T20:16:17.866Z"
   },
   {
    "duration": 937,
    "start_time": "2022-06-23T20:18:00.043Z"
   },
   {
    "duration": 687,
    "start_time": "2022-06-23T20:18:08.617Z"
   },
   {
    "duration": 714,
    "start_time": "2022-06-23T20:18:12.712Z"
   },
   {
    "duration": 1098,
    "start_time": "2022-06-23T20:18:16.681Z"
   },
   {
    "duration": 1024,
    "start_time": "2022-06-23T20:19:17.756Z"
   },
   {
    "duration": 931,
    "start_time": "2022-06-23T20:19:27.841Z"
   },
   {
    "duration": 4,
    "start_time": "2022-06-23T20:19:47.281Z"
   },
   {
    "duration": 4,
    "start_time": "2022-06-23T20:19:48.610Z"
   },
   {
    "duration": 778,
    "start_time": "2022-06-23T20:19:48.810Z"
   },
   {
    "duration": 642,
    "start_time": "2022-06-23T20:20:00.569Z"
   },
   {
    "duration": 703,
    "start_time": "2022-06-23T20:23:08.769Z"
   },
   {
    "duration": 298,
    "start_time": "2022-06-23T20:23:18.369Z"
   },
   {
    "duration": 685,
    "start_time": "2022-06-23T20:23:27.462Z"
   },
   {
    "duration": 887,
    "start_time": "2022-06-23T20:23:49.414Z"
   },
   {
    "duration": 626,
    "start_time": "2022-06-23T20:24:01.665Z"
   },
   {
    "duration": 627,
    "start_time": "2022-06-23T20:25:05.474Z"
   },
   {
    "duration": 643,
    "start_time": "2022-06-23T20:25:16.342Z"
   },
   {
    "duration": 596,
    "start_time": "2022-06-23T20:25:28.913Z"
   },
   {
    "duration": 617,
    "start_time": "2022-06-23T20:25:40.739Z"
   },
   {
    "duration": 774,
    "start_time": "2022-06-23T20:25:47.573Z"
   },
   {
    "duration": 677,
    "start_time": "2022-06-23T20:25:51.617Z"
   },
   {
    "duration": 1020,
    "start_time": "2022-06-23T20:27:05.308Z"
   },
   {
    "duration": 982,
    "start_time": "2022-06-23T20:27:17.338Z"
   },
   {
    "duration": 5,
    "start_time": "2022-06-23T20:27:46.100Z"
   },
   {
    "duration": 6,
    "start_time": "2022-06-23T20:27:47.403Z"
   },
   {
    "duration": 1003,
    "start_time": "2022-06-23T20:27:47.615Z"
   },
   {
    "duration": 787,
    "start_time": "2022-06-23T20:28:12.748Z"
   },
   {
    "duration": 961,
    "start_time": "2022-06-23T20:28:22.267Z"
   },
   {
    "duration": 768,
    "start_time": "2022-06-23T20:45:06.346Z"
   },
   {
    "duration": 22,
    "start_time": "2022-06-23T20:45:45.591Z"
   },
   {
    "duration": 644,
    "start_time": "2022-06-23T20:45:55.094Z"
   },
   {
    "duration": 660,
    "start_time": "2022-06-23T20:46:05.271Z"
   },
   {
    "duration": 16,
    "start_time": "2022-06-23T20:46:21.339Z"
   },
   {
    "duration": 4,
    "start_time": "2022-06-23T20:46:23.803Z"
   },
   {
    "duration": 568,
    "start_time": "2022-06-23T20:46:24.462Z"
   },
   {
    "duration": 597,
    "start_time": "2022-06-23T20:46:54.937Z"
   },
   {
    "duration": 595,
    "start_time": "2022-06-23T20:47:39.703Z"
   },
   {
    "duration": 5,
    "start_time": "2022-06-23T20:47:51.468Z"
   },
   {
    "duration": 601,
    "start_time": "2022-06-23T20:47:51.693Z"
   },
   {
    "duration": 4,
    "start_time": "2022-06-23T20:48:01.393Z"
   },
   {
    "duration": 605,
    "start_time": "2022-06-23T20:48:01.960Z"
   },
   {
    "duration": 695,
    "start_time": "2022-06-23T20:48:05.759Z"
   },
   {
    "duration": 555,
    "start_time": "2022-06-23T20:48:12.629Z"
   },
   {
    "duration": 616,
    "start_time": "2022-06-23T20:48:17.681Z"
   },
   {
    "duration": 8,
    "start_time": "2022-06-23T20:49:02.041Z"
   },
   {
    "duration": 704,
    "start_time": "2022-06-23T20:49:02.054Z"
   },
   {
    "duration": 372,
    "start_time": "2022-06-23T20:49:02.759Z"
   },
   {
    "duration": 172,
    "start_time": "2022-06-23T20:49:03.144Z"
   },
   {
    "duration": 49,
    "start_time": "2022-06-23T20:49:03.319Z"
   },
   {
    "duration": 15,
    "start_time": "2022-06-23T20:49:03.370Z"
   },
   {
    "duration": 28,
    "start_time": "2022-06-23T20:49:03.387Z"
   },
   {
    "duration": 6,
    "start_time": "2022-06-23T20:49:03.416Z"
   },
   {
    "duration": 36,
    "start_time": "2022-06-23T20:49:03.424Z"
   },
   {
    "duration": 10,
    "start_time": "2022-06-23T20:49:03.462Z"
   },
   {
    "duration": 10,
    "start_time": "2022-06-23T20:49:03.474Z"
   },
   {
    "duration": 12,
    "start_time": "2022-06-23T20:49:03.486Z"
   },
   {
    "duration": 23,
    "start_time": "2022-06-23T20:49:03.499Z"
   },
   {
    "duration": 19,
    "start_time": "2022-06-23T20:49:03.524Z"
   },
   {
    "duration": 21,
    "start_time": "2022-06-23T20:49:03.545Z"
   },
   {
    "duration": 7,
    "start_time": "2022-06-23T20:49:03.568Z"
   },
   {
    "duration": 655,
    "start_time": "2022-06-23T20:49:03.577Z"
   },
   {
    "duration": 8,
    "start_time": "2022-06-23T20:49:04.245Z"
   },
   {
    "duration": 607,
    "start_time": "2022-06-23T20:49:04.256Z"
   },
   {
    "duration": 559,
    "start_time": "2022-06-23T20:49:18.160Z"
   },
   {
    "duration": 542,
    "start_time": "2022-06-23T20:49:25.327Z"
   },
   {
    "duration": 488,
    "start_time": "2022-06-23T20:49:39.120Z"
   },
   {
    "duration": 552,
    "start_time": "2022-06-23T20:49:46.538Z"
   },
   {
    "duration": 608,
    "start_time": "2022-06-23T20:49:51.733Z"
   },
   {
    "duration": 5,
    "start_time": "2022-06-23T20:51:06.397Z"
   },
   {
    "duration": 570,
    "start_time": "2022-06-23T20:51:07.034Z"
   },
   {
    "duration": 6,
    "start_time": "2022-06-23T20:51:17.250Z"
   },
   {
    "duration": 716,
    "start_time": "2022-06-23T20:51:17.663Z"
   },
   {
    "duration": 5,
    "start_time": "2022-06-23T20:51:46.208Z"
   },
   {
    "duration": 619,
    "start_time": "2022-06-23T20:51:46.467Z"
   },
   {
    "duration": 28,
    "start_time": "2022-06-23T21:12:11.163Z"
   },
   {
    "duration": 176,
    "start_time": "2022-06-23T21:19:09.549Z"
   },
   {
    "duration": 274,
    "start_time": "2022-06-23T21:19:27.462Z"
   },
   {
    "duration": 556,
    "start_time": "2022-06-23T21:19:57.071Z"
   },
   {
    "duration": 341,
    "start_time": "2022-06-23T21:20:14.664Z"
   },
   {
    "duration": 367,
    "start_time": "2022-06-23T21:20:28.041Z"
   },
   {
    "duration": 1907,
    "start_time": "2022-06-23T21:20:50.391Z"
   },
   {
    "duration": 442,
    "start_time": "2022-06-23T21:20:58.354Z"
   },
   {
    "duration": 494,
    "start_time": "2022-06-23T21:21:12.384Z"
   },
   {
    "duration": 426,
    "start_time": "2022-06-23T21:21:23.775Z"
   },
   {
    "duration": 401,
    "start_time": "2022-06-23T21:21:45.955Z"
   },
   {
    "duration": 400,
    "start_time": "2022-06-23T21:21:53.072Z"
   },
   {
    "duration": 1402,
    "start_time": "2022-06-23T21:25:44.391Z"
   },
   {
    "duration": 10,
    "start_time": "2022-06-23T21:26:17.591Z"
   },
   {
    "duration": 26,
    "start_time": "2022-06-23T21:26:23.188Z"
   },
   {
    "duration": 59,
    "start_time": "2022-06-23T21:26:45.257Z"
   },
   {
    "duration": 34,
    "start_time": "2022-06-23T21:27:16.051Z"
   },
   {
    "duration": 5,
    "start_time": "2022-06-23T21:27:20.364Z"
   },
   {
    "duration": 657,
    "start_time": "2022-06-23T21:27:20.371Z"
   },
   {
    "duration": 375,
    "start_time": "2022-06-23T21:27:21.030Z"
   },
   {
    "duration": 178,
    "start_time": "2022-06-23T21:27:21.407Z"
   },
   {
    "duration": 32,
    "start_time": "2022-06-23T21:27:21.587Z"
   },
   {
    "duration": 33,
    "start_time": "2022-06-23T21:27:21.621Z"
   },
   {
    "duration": 26,
    "start_time": "2022-06-23T21:27:21.656Z"
   },
   {
    "duration": 5,
    "start_time": "2022-06-23T21:27:21.684Z"
   },
   {
    "duration": 10,
    "start_time": "2022-06-23T21:27:21.691Z"
   },
   {
    "duration": 12,
    "start_time": "2022-06-23T21:27:21.703Z"
   },
   {
    "duration": 43,
    "start_time": "2022-06-23T21:27:21.717Z"
   },
   {
    "duration": 13,
    "start_time": "2022-06-23T21:27:21.762Z"
   },
   {
    "duration": 12,
    "start_time": "2022-06-23T21:27:21.777Z"
   },
   {
    "duration": 11,
    "start_time": "2022-06-23T21:27:21.791Z"
   },
   {
    "duration": 12,
    "start_time": "2022-06-23T21:27:21.804Z"
   },
   {
    "duration": 8,
    "start_time": "2022-06-23T21:27:21.818Z"
   },
   {
    "duration": 637,
    "start_time": "2022-06-23T21:27:21.827Z"
   },
   {
    "duration": 32,
    "start_time": "2022-06-23T21:27:24.757Z"
   },
   {
    "duration": 28,
    "start_time": "2022-06-23T21:27:32.059Z"
   },
   {
    "duration": 110,
    "start_time": "2022-06-23T21:27:42.287Z"
   },
   {
    "duration": 101,
    "start_time": "2022-06-23T21:27:52.105Z"
   },
   {
    "duration": 43,
    "start_time": "2022-06-23T21:27:58.824Z"
   },
   {
    "duration": 60,
    "start_time": "2022-06-23T21:28:40.042Z"
   },
   {
    "duration": 30,
    "start_time": "2022-06-23T21:29:02.994Z"
   },
   {
    "duration": 26,
    "start_time": "2022-06-23T21:29:11.055Z"
   },
   {
    "duration": 26,
    "start_time": "2022-06-23T21:29:39.192Z"
   },
   {
    "duration": 30,
    "start_time": "2022-06-23T21:30:00.425Z"
   },
   {
    "duration": 46,
    "start_time": "2022-06-23T21:30:10.817Z"
   },
   {
    "duration": 50,
    "start_time": "2022-06-23T21:39:24.704Z"
   },
   {
    "duration": 48,
    "start_time": "2022-06-23T21:39:43.682Z"
   },
   {
    "duration": 62,
    "start_time": "2022-06-23T21:39:46.707Z"
   },
   {
    "duration": 55,
    "start_time": "2022-06-23T21:39:50.261Z"
   },
   {
    "duration": 55,
    "start_time": "2022-06-23T21:39:59.899Z"
   },
   {
    "duration": 57,
    "start_time": "2022-06-23T21:49:26.786Z"
   },
   {
    "duration": 42,
    "start_time": "2022-06-23T21:49:38.963Z"
   },
   {
    "duration": 46,
    "start_time": "2022-06-23T21:49:54.085Z"
   },
   {
    "duration": 42,
    "start_time": "2022-06-23T21:53:13.740Z"
   },
   {
    "duration": 42,
    "start_time": "2022-06-23T21:53:23.829Z"
   },
   {
    "duration": 42,
    "start_time": "2022-06-23T21:54:28.973Z"
   },
   {
    "duration": 43,
    "start_time": "2022-06-23T21:54:30.396Z"
   },
   {
    "duration": 42,
    "start_time": "2022-06-23T21:54:33.612Z"
   },
   {
    "duration": 46,
    "start_time": "2022-06-23T21:54:43.165Z"
   },
   {
    "duration": 41,
    "start_time": "2022-06-23T21:55:04.505Z"
   },
   {
    "duration": 4,
    "start_time": "2022-06-23T21:55:05.184Z"
   },
   {
    "duration": 52,
    "start_time": "2022-06-23T21:55:46.718Z"
   },
   {
    "duration": 42,
    "start_time": "2022-06-23T21:55:56.987Z"
   },
   {
    "duration": 49,
    "start_time": "2022-06-23T21:56:25.088Z"
   },
   {
    "duration": 47,
    "start_time": "2022-06-23T21:56:43.709Z"
   },
   {
    "duration": 47,
    "start_time": "2022-06-23T21:58:15.978Z"
   },
   {
    "duration": 46,
    "start_time": "2022-06-23T21:58:25.020Z"
   },
   {
    "duration": 45,
    "start_time": "2022-06-23T22:00:05.533Z"
   },
   {
    "duration": 4,
    "start_time": "2022-06-23T22:00:28.847Z"
   },
   {
    "duration": 99,
    "start_time": "2022-06-23T22:00:43.593Z"
   },
   {
    "duration": 1685,
    "start_time": "2022-06-23T22:00:51.503Z"
   },
   {
    "duration": 1629,
    "start_time": "2022-06-23T22:01:27.903Z"
   },
   {
    "duration": 5,
    "start_time": "2022-06-23T22:01:48.133Z"
   },
   {
    "duration": 4,
    "start_time": "2022-06-23T22:01:51.802Z"
   },
   {
    "duration": 396,
    "start_time": "2022-06-23T22:01:52.008Z"
   },
   {
    "duration": 43,
    "start_time": "2022-06-23T22:04:37.014Z"
   },
   {
    "duration": 42,
    "start_time": "2022-06-23T22:04:51.991Z"
   },
   {
    "duration": 102,
    "start_time": "2022-06-23T22:05:01.542Z"
   },
   {
    "duration": 47,
    "start_time": "2022-06-23T22:05:03.812Z"
   },
   {
    "duration": 50,
    "start_time": "2022-06-23T22:08:29.068Z"
   },
   {
    "duration": 46,
    "start_time": "2022-06-23T22:09:41.727Z"
   },
   {
    "duration": 45,
    "start_time": "2022-06-23T22:09:53.744Z"
   },
   {
    "duration": 1787,
    "start_time": "2022-06-23T22:11:57.919Z"
   },
   {
    "duration": 1748,
    "start_time": "2022-06-23T22:12:18.990Z"
   },
   {
    "duration": 3,
    "start_time": "2022-06-23T22:12:21.068Z"
   },
   {
    "duration": 1744,
    "start_time": "2022-06-23T22:12:21.512Z"
   },
   {
    "duration": 271,
    "start_time": "2022-06-23T22:12:44.294Z"
   },
   {
    "duration": 3,
    "start_time": "2022-06-23T22:13:12.193Z"
   },
   {
    "duration": 3,
    "start_time": "2022-06-23T22:13:13.015Z"
   },
   {
    "duration": 421,
    "start_time": "2022-06-23T22:13:13.626Z"
   },
   {
    "duration": 291,
    "start_time": "2022-06-23T22:13:31.293Z"
   },
   {
    "duration": 284,
    "start_time": "2022-06-23T22:13:58.894Z"
   },
   {
    "duration": 1669,
    "start_time": "2022-06-23T22:14:07.892Z"
   },
   {
    "duration": 4,
    "start_time": "2022-06-23T22:14:18.991Z"
   },
   {
    "duration": 3,
    "start_time": "2022-06-23T22:14:20.408Z"
   },
   {
    "duration": 1739,
    "start_time": "2022-06-23T22:14:22.417Z"
   },
   {
    "duration": 1732,
    "start_time": "2022-06-23T22:14:43.536Z"
   },
   {
    "duration": 3,
    "start_time": "2022-06-23T22:15:25.102Z"
   },
   {
    "duration": 4,
    "start_time": "2022-06-23T22:15:26.215Z"
   },
   {
    "duration": 439,
    "start_time": "2022-06-23T22:15:26.520Z"
   },
   {
    "duration": 3,
    "start_time": "2022-06-23T22:15:40.705Z"
   },
   {
    "duration": 1738,
    "start_time": "2022-06-23T22:15:40.996Z"
   },
   {
    "duration": 45,
    "start_time": "2022-06-23T22:15:51.770Z"
   },
   {
    "duration": 47,
    "start_time": "2022-06-23T22:15:52.467Z"
   },
   {
    "duration": 4,
    "start_time": "2022-06-23T22:15:57.051Z"
   },
   {
    "duration": 906,
    "start_time": "2022-06-23T22:15:57.897Z"
   },
   {
    "duration": 61,
    "start_time": "2022-06-23T22:17:06.737Z"
   },
   {
    "duration": 4,
    "start_time": "2022-06-23T22:17:07.090Z"
   },
   {
    "duration": 424,
    "start_time": "2022-06-23T22:17:08.091Z"
   },
   {
    "duration": 50,
    "start_time": "2022-06-23T22:17:28.894Z"
   },
   {
    "duration": 3,
    "start_time": "2022-06-23T22:17:29.449Z"
   },
   {
    "duration": 1022,
    "start_time": "2022-06-23T22:17:29.990Z"
   },
   {
    "duration": 50,
    "start_time": "2022-06-23T22:18:23.201Z"
   },
   {
    "duration": 43,
    "start_time": "2022-06-23T22:19:03.425Z"
   },
   {
    "duration": 42,
    "start_time": "2022-06-23T22:25:56.139Z"
   },
   {
    "duration": 44,
    "start_time": "2022-06-23T22:28:35.867Z"
   },
   {
    "duration": 43,
    "start_time": "2022-06-23T22:28:42.138Z"
   },
   {
    "duration": 42,
    "start_time": "2022-06-23T22:28:44.516Z"
   },
   {
    "duration": 44,
    "start_time": "2022-06-23T22:38:52.774Z"
   },
   {
    "duration": 1224,
    "start_time": "2022-06-25T00:15:18.918Z"
   },
   {
    "duration": 935,
    "start_time": "2022-06-25T00:15:20.145Z"
   },
   {
    "duration": 372,
    "start_time": "2022-06-25T00:15:21.082Z"
   },
   {
    "duration": 186,
    "start_time": "2022-06-25T00:15:21.460Z"
   },
   {
    "duration": 42,
    "start_time": "2022-06-25T00:15:21.649Z"
   },
   {
    "duration": 13,
    "start_time": "2022-06-25T00:15:21.693Z"
   },
   {
    "duration": 20,
    "start_time": "2022-06-25T00:15:21.708Z"
   },
   {
    "duration": 5,
    "start_time": "2022-06-25T00:15:21.730Z"
   },
   {
    "duration": 31,
    "start_time": "2022-06-25T00:15:21.737Z"
   },
   {
    "duration": 10,
    "start_time": "2022-06-25T00:15:21.771Z"
   },
   {
    "duration": 10,
    "start_time": "2022-06-25T00:15:21.783Z"
   },
   {
    "duration": 10,
    "start_time": "2022-06-25T00:15:21.795Z"
   },
   {
    "duration": 10,
    "start_time": "2022-06-25T00:15:21.806Z"
   },
   {
    "duration": 16,
    "start_time": "2022-06-25T00:15:21.818Z"
   },
   {
    "duration": 27,
    "start_time": "2022-06-25T00:15:21.836Z"
   },
   {
    "duration": 22,
    "start_time": "2022-06-25T00:15:21.864Z"
   },
   {
    "duration": 562,
    "start_time": "2022-06-25T00:15:21.888Z"
   },
   {
    "duration": 40,
    "start_time": "2022-06-25T00:15:22.459Z"
   },
   {
    "duration": 36,
    "start_time": "2022-06-25T00:15:22.501Z"
   },
   {
    "duration": 56,
    "start_time": "2022-06-25T00:15:22.539Z"
   },
   {
    "duration": 1226,
    "start_time": "2022-06-25T16:54:33.409Z"
   },
   {
    "duration": 988,
    "start_time": "2022-06-25T16:54:34.636Z"
   },
   {
    "duration": 372,
    "start_time": "2022-06-25T16:54:35.626Z"
   },
   {
    "duration": 196,
    "start_time": "2022-06-25T16:54:36.000Z"
   },
   {
    "duration": 29,
    "start_time": "2022-06-25T16:54:36.198Z"
   },
   {
    "duration": 11,
    "start_time": "2022-06-25T16:54:36.229Z"
   },
   {
    "duration": 32,
    "start_time": "2022-06-25T16:54:36.242Z"
   },
   {
    "duration": 6,
    "start_time": "2022-06-25T16:54:36.275Z"
   },
   {
    "duration": 9,
    "start_time": "2022-06-25T16:54:36.282Z"
   },
   {
    "duration": 10,
    "start_time": "2022-06-25T16:54:36.294Z"
   },
   {
    "duration": 9,
    "start_time": "2022-06-25T16:54:36.306Z"
   },
   {
    "duration": 10,
    "start_time": "2022-06-25T16:54:36.316Z"
   },
   {
    "duration": 35,
    "start_time": "2022-06-25T16:54:36.327Z"
   },
   {
    "duration": 10,
    "start_time": "2022-06-25T16:54:36.364Z"
   },
   {
    "duration": 9,
    "start_time": "2022-06-25T16:54:36.376Z"
   },
   {
    "duration": 9,
    "start_time": "2022-06-25T16:54:36.387Z"
   },
   {
    "duration": 583,
    "start_time": "2022-06-25T16:54:36.398Z"
   },
   {
    "duration": 40,
    "start_time": "2022-06-25T16:54:36.982Z"
   },
   {
    "duration": 58,
    "start_time": "2022-06-25T16:54:37.024Z"
   },
   {
    "duration": 38,
    "start_time": "2022-06-25T16:54:37.083Z"
   },
   {
    "duration": 1443,
    "start_time": "2022-06-26T09:25:05.011Z"
   },
   {
    "duration": 1048,
    "start_time": "2022-06-26T09:25:06.456Z"
   },
   {
    "duration": 410,
    "start_time": "2022-06-26T09:25:07.507Z"
   },
   {
    "duration": 176,
    "start_time": "2022-06-26T09:25:07.920Z"
   },
   {
    "duration": 31,
    "start_time": "2022-06-26T09:25:08.098Z"
   },
   {
    "duration": 41,
    "start_time": "2022-06-26T09:25:08.131Z"
   },
   {
    "duration": 21,
    "start_time": "2022-06-26T09:25:08.174Z"
   },
   {
    "duration": 5,
    "start_time": "2022-06-26T09:25:08.197Z"
   },
   {
    "duration": 11,
    "start_time": "2022-06-26T09:25:08.204Z"
   },
   {
    "duration": 10,
    "start_time": "2022-06-26T09:25:08.218Z"
   },
   {
    "duration": 15,
    "start_time": "2022-06-26T09:25:08.251Z"
   },
   {
    "duration": 20,
    "start_time": "2022-06-26T09:25:08.268Z"
   },
   {
    "duration": 15,
    "start_time": "2022-06-26T09:25:08.290Z"
   },
   {
    "duration": 16,
    "start_time": "2022-06-26T09:25:08.308Z"
   },
   {
    "duration": 33,
    "start_time": "2022-06-26T09:25:08.326Z"
   },
   {
    "duration": 12,
    "start_time": "2022-06-26T09:25:08.361Z"
   },
   {
    "duration": 626,
    "start_time": "2022-06-26T09:25:08.375Z"
   },
   {
    "duration": 50,
    "start_time": "2022-06-26T09:25:09.003Z"
   },
   {
    "duration": 37,
    "start_time": "2022-06-26T09:25:09.055Z"
   },
   {
    "duration": 64,
    "start_time": "2022-06-26T09:25:09.093Z"
   },
   {
    "duration": 10,
    "start_time": "2022-06-26T09:35:59.585Z"
   },
   {
    "duration": 7,
    "start_time": "2022-06-26T09:36:39.184Z"
   },
   {
    "duration": 173,
    "start_time": "2022-06-26T09:36:59.879Z"
   },
   {
    "duration": 101,
    "start_time": "2022-06-26T09:38:01.898Z"
   },
   {
    "duration": 19,
    "start_time": "2022-06-26T09:38:13.014Z"
   },
   {
    "duration": 9693,
    "start_time": "2022-06-26T09:38:23.919Z"
   },
   {
    "duration": 15,
    "start_time": "2022-06-26T09:38:56.671Z"
   },
   {
    "duration": 11,
    "start_time": "2022-06-26T09:39:06.278Z"
   },
   {
    "duration": 4,
    "start_time": "2022-06-26T09:39:36.990Z"
   },
   {
    "duration": 12,
    "start_time": "2022-06-26T09:40:13.153Z"
   },
   {
    "duration": 14,
    "start_time": "2022-06-26T09:41:03.162Z"
   },
   {
    "duration": 12,
    "start_time": "2022-06-26T09:41:16.406Z"
   },
   {
    "duration": 18,
    "start_time": "2022-06-26T09:44:35.044Z"
   },
   {
    "duration": 19,
    "start_time": "2022-06-26T09:45:06.080Z"
   },
   {
    "duration": 320,
    "start_time": "2022-06-26T09:45:21.854Z"
   },
   {
    "duration": 192,
    "start_time": "2022-06-26T09:45:44.437Z"
   },
   {
    "duration": 279,
    "start_time": "2022-06-26T09:45:52.160Z"
   },
   {
    "duration": 419,
    "start_time": "2022-06-26T09:45:59.462Z"
   },
   {
    "duration": 350,
    "start_time": "2022-06-26T09:46:07.318Z"
   },
   {
    "duration": 167,
    "start_time": "2022-06-26T09:46:11.114Z"
   },
   {
    "duration": 191,
    "start_time": "2022-06-26T09:46:15.388Z"
   },
   {
    "duration": 258,
    "start_time": "2022-06-26T09:46:28.526Z"
   },
   {
    "duration": 141,
    "start_time": "2022-06-26T09:46:53.684Z"
   },
   {
    "duration": 10,
    "start_time": "2022-06-26T09:55:19.071Z"
   },
   {
    "duration": 102,
    "start_time": "2022-06-26T09:55:39.627Z"
   },
   {
    "duration": 9,
    "start_time": "2022-06-26T09:55:52.676Z"
   },
   {
    "duration": 105,
    "start_time": "2022-06-26T09:55:53.125Z"
   },
   {
    "duration": 7,
    "start_time": "2022-06-26T09:55:59.614Z"
   },
   {
    "duration": 51,
    "start_time": "2022-06-26T09:57:00.505Z"
   },
   {
    "duration": 329,
    "start_time": "2022-06-26T09:57:05.481Z"
   },
   {
    "duration": 470,
    "start_time": "2022-06-26T10:09:56.617Z"
   },
   {
    "duration": 382,
    "start_time": "2022-06-26T10:10:40.438Z"
   },
   {
    "duration": 9,
    "start_time": "2022-06-26T10:23:50.068Z"
   },
   {
    "duration": 391,
    "start_time": "2022-06-26T10:23:50.340Z"
   },
   {
    "duration": 9,
    "start_time": "2022-06-26T10:24:02.086Z"
   },
   {
    "duration": 410,
    "start_time": "2022-06-26T10:24:02.344Z"
   },
   {
    "duration": 10,
    "start_time": "2022-06-26T10:24:09.717Z"
   },
   {
    "duration": 399,
    "start_time": "2022-06-26T10:24:10.097Z"
   },
   {
    "duration": 10,
    "start_time": "2022-06-26T10:27:39.690Z"
   },
   {
    "duration": 10,
    "start_time": "2022-06-26T10:27:41.192Z"
   },
   {
    "duration": 416,
    "start_time": "2022-06-26T10:27:41.486Z"
   },
   {
    "duration": 11,
    "start_time": "2022-06-26T10:28:08.165Z"
   },
   {
    "duration": 14,
    "start_time": "2022-06-26T10:28:11.128Z"
   },
   {
    "duration": 442,
    "start_time": "2022-06-26T10:28:11.352Z"
   },
   {
    "duration": 684,
    "start_time": "2022-06-26T10:28:15.997Z"
   },
   {
    "duration": 223,
    "start_time": "2022-06-26T10:28:40.245Z"
   },
   {
    "duration": 14,
    "start_time": "2022-06-26T10:58:59.403Z"
   },
   {
    "duration": 207,
    "start_time": "2022-06-26T10:59:49.462Z"
   },
   {
    "duration": 42,
    "start_time": "2022-06-26T11:01:03.728Z"
   },
   {
    "duration": 49,
    "start_time": "2022-06-26T11:01:20.385Z"
   },
   {
    "duration": 44,
    "start_time": "2022-06-26T11:01:26.436Z"
   },
   {
    "duration": 68,
    "start_time": "2022-06-26T11:01:43.201Z"
   },
   {
    "duration": 43,
    "start_time": "2022-06-26T11:02:03.425Z"
   },
   {
    "duration": 44,
    "start_time": "2022-06-26T11:02:14.601Z"
   },
   {
    "duration": 40,
    "start_time": "2022-06-26T11:02:24.356Z"
   },
   {
    "duration": 7,
    "start_time": "2022-06-26T11:02:38.356Z"
   },
   {
    "duration": 7,
    "start_time": "2022-06-26T11:02:40.370Z"
   },
   {
    "duration": 43,
    "start_time": "2022-06-26T11:03:35.705Z"
   },
   {
    "duration": 1245,
    "start_time": "2022-06-26T19:19:38.249Z"
   },
   {
    "duration": 872,
    "start_time": "2022-06-26T19:19:39.496Z"
   },
   {
    "duration": 389,
    "start_time": "2022-06-26T19:19:40.370Z"
   },
   {
    "duration": 184,
    "start_time": "2022-06-26T19:19:40.761Z"
   },
   {
    "duration": 27,
    "start_time": "2022-06-26T19:19:40.947Z"
   },
   {
    "duration": 12,
    "start_time": "2022-06-26T19:19:40.976Z"
   },
   {
    "duration": 37,
    "start_time": "2022-06-26T19:19:40.990Z"
   },
   {
    "duration": 5,
    "start_time": "2022-06-26T19:19:41.028Z"
   },
   {
    "duration": 6,
    "start_time": "2022-06-26T19:19:41.035Z"
   },
   {
    "duration": 8,
    "start_time": "2022-06-26T19:19:41.044Z"
   },
   {
    "duration": 9,
    "start_time": "2022-06-26T19:19:41.053Z"
   },
   {
    "duration": 13,
    "start_time": "2022-06-26T19:19:41.063Z"
   },
   {
    "duration": 7,
    "start_time": "2022-06-26T19:19:41.078Z"
   },
   {
    "duration": 39,
    "start_time": "2022-06-26T19:19:41.087Z"
   },
   {
    "duration": 12,
    "start_time": "2022-06-26T19:19:41.128Z"
   },
   {
    "duration": 8,
    "start_time": "2022-06-26T19:19:41.141Z"
   },
   {
    "duration": 593,
    "start_time": "2022-06-26T19:19:41.151Z"
   },
   {
    "duration": 42,
    "start_time": "2022-06-26T19:19:41.746Z"
   },
   {
    "duration": 56,
    "start_time": "2022-06-26T19:19:41.790Z"
   },
   {
    "duration": 40,
    "start_time": "2022-06-26T19:19:41.848Z"
   },
   {
    "duration": 233,
    "start_time": "2022-06-26T19:19:41.890Z"
   },
   {
    "duration": 45,
    "start_time": "2022-06-26T19:19:42.126Z"
   },
   {
    "duration": 57,
    "start_time": "2022-06-26T19:19:42.173Z"
   },
   {
    "duration": 6,
    "start_time": "2022-06-26T19:19:42.231Z"
   },
   {
    "duration": 1287,
    "start_time": "2022-06-26T20:01:19.963Z"
   },
   {
    "duration": 858,
    "start_time": "2022-06-26T20:01:21.252Z"
   },
   {
    "duration": 366,
    "start_time": "2022-06-26T20:01:22.112Z"
   },
   {
    "duration": 197,
    "start_time": "2022-06-26T20:01:22.480Z"
   },
   {
    "duration": 29,
    "start_time": "2022-06-26T20:01:22.679Z"
   },
   {
    "duration": 13,
    "start_time": "2022-06-26T20:01:22.710Z"
   },
   {
    "duration": 41,
    "start_time": "2022-06-26T20:01:22.725Z"
   },
   {
    "duration": 5,
    "start_time": "2022-06-26T20:01:22.768Z"
   },
   {
    "duration": 14,
    "start_time": "2022-06-26T20:01:22.774Z"
   },
   {
    "duration": 11,
    "start_time": "2022-06-26T20:01:22.790Z"
   },
   {
    "duration": 21,
    "start_time": "2022-06-26T20:01:22.802Z"
   },
   {
    "duration": 32,
    "start_time": "2022-06-26T20:01:22.825Z"
   },
   {
    "duration": 27,
    "start_time": "2022-06-26T20:01:22.859Z"
   },
   {
    "duration": 11,
    "start_time": "2022-06-26T20:01:22.888Z"
   },
   {
    "duration": 15,
    "start_time": "2022-06-26T20:01:22.901Z"
   },
   {
    "duration": 13,
    "start_time": "2022-06-26T20:01:22.918Z"
   },
   {
    "duration": 573,
    "start_time": "2022-06-26T20:01:22.933Z"
   },
   {
    "duration": 51,
    "start_time": "2022-06-26T20:01:23.508Z"
   },
   {
    "duration": 46,
    "start_time": "2022-06-26T20:01:23.561Z"
   },
   {
    "duration": 55,
    "start_time": "2022-06-26T20:01:23.609Z"
   },
   {
    "duration": 264,
    "start_time": "2022-06-26T20:01:23.665Z"
   },
   {
    "duration": 61,
    "start_time": "2022-06-26T20:01:23.931Z"
   },
   {
    "duration": 59,
    "start_time": "2022-06-26T20:01:23.994Z"
   },
   {
    "duration": 8,
    "start_time": "2022-06-26T20:01:24.055Z"
   },
   {
    "duration": 1100,
    "start_time": "2022-06-26T20:01:48.135Z"
   },
   {
    "duration": 602,
    "start_time": "2022-06-26T20:01:49.237Z"
   },
   {
    "duration": 420,
    "start_time": "2022-06-26T20:01:49.841Z"
   },
   {
    "duration": 224,
    "start_time": "2022-06-26T20:01:50.267Z"
   },
   {
    "duration": 32,
    "start_time": "2022-06-26T20:01:50.492Z"
   },
   {
    "duration": 28,
    "start_time": "2022-06-26T20:01:50.526Z"
   },
   {
    "duration": 20,
    "start_time": "2022-06-26T20:01:50.556Z"
   },
   {
    "duration": 12,
    "start_time": "2022-06-26T20:01:50.578Z"
   },
   {
    "duration": 18,
    "start_time": "2022-06-26T20:01:50.593Z"
   },
   {
    "duration": 15,
    "start_time": "2022-06-26T20:01:50.617Z"
   },
   {
    "duration": 22,
    "start_time": "2022-06-26T20:01:50.654Z"
   },
   {
    "duration": 18,
    "start_time": "2022-06-26T20:01:50.680Z"
   },
   {
    "duration": 14,
    "start_time": "2022-06-26T20:01:50.700Z"
   },
   {
    "duration": 36,
    "start_time": "2022-06-26T20:01:50.717Z"
   },
   {
    "duration": 18,
    "start_time": "2022-06-26T20:01:50.756Z"
   },
   {
    "duration": 12,
    "start_time": "2022-06-26T20:01:50.777Z"
   },
   {
    "duration": 641,
    "start_time": "2022-06-26T20:01:50.793Z"
   },
   {
    "duration": 44,
    "start_time": "2022-06-26T20:01:51.436Z"
   },
   {
    "duration": 38,
    "start_time": "2022-06-26T20:01:51.482Z"
   },
   {
    "duration": 72,
    "start_time": "2022-06-26T20:01:51.522Z"
   },
   {
    "duration": 247,
    "start_time": "2022-06-26T20:01:51.596Z"
   },
   {
    "duration": 47,
    "start_time": "2022-06-26T20:01:51.845Z"
   },
   {
    "duration": 67,
    "start_time": "2022-06-26T20:01:51.894Z"
   },
   {
    "duration": 8,
    "start_time": "2022-06-26T20:01:51.963Z"
   },
   {
    "duration": 47,
    "start_time": "2022-06-26T20:09:18.507Z"
   },
   {
    "duration": 81,
    "start_time": "2022-06-26T20:09:25.132Z"
   },
   {
    "duration": 71,
    "start_time": "2022-06-26T20:09:32.083Z"
   },
   {
    "duration": 5,
    "start_time": "2022-06-26T20:09:49.400Z"
   },
   {
    "duration": 816,
    "start_time": "2022-06-26T20:09:49.408Z"
   },
   {
    "duration": 524,
    "start_time": "2022-06-26T20:09:50.226Z"
   },
   {
    "duration": 243,
    "start_time": "2022-06-26T20:09:50.753Z"
   },
   {
    "duration": 50,
    "start_time": "2022-06-26T20:09:50.998Z"
   },
   {
    "duration": 27,
    "start_time": "2022-06-26T20:09:51.050Z"
   },
   {
    "duration": 72,
    "start_time": "2022-06-26T20:09:51.081Z"
   },
   {
    "duration": 22,
    "start_time": "2022-06-26T20:09:51.162Z"
   },
   {
    "duration": 33,
    "start_time": "2022-06-26T20:09:51.193Z"
   },
   {
    "duration": 41,
    "start_time": "2022-06-26T20:09:51.233Z"
   },
   {
    "duration": 29,
    "start_time": "2022-06-26T20:09:51.283Z"
   },
   {
    "duration": 20,
    "start_time": "2022-06-26T20:09:51.318Z"
   },
   {
    "duration": 15,
    "start_time": "2022-06-26T20:09:51.340Z"
   },
   {
    "duration": 30,
    "start_time": "2022-06-26T20:09:51.357Z"
   },
   {
    "duration": 29,
    "start_time": "2022-06-26T20:09:51.393Z"
   },
   {
    "duration": 17,
    "start_time": "2022-06-26T20:09:51.425Z"
   },
   {
    "duration": 829,
    "start_time": "2022-06-26T20:09:51.444Z"
   },
   {
    "duration": 59,
    "start_time": "2022-06-26T20:09:52.275Z"
   },
   {
    "duration": 72,
    "start_time": "2022-06-26T20:09:52.335Z"
   },
   {
    "duration": 67,
    "start_time": "2022-06-26T20:09:52.409Z"
   },
   {
    "duration": 328,
    "start_time": "2022-06-26T20:09:52.478Z"
   },
   {
    "duration": 71,
    "start_time": "2022-06-26T20:09:53.674Z"
   },
   {
    "duration": 1075,
    "start_time": "2022-06-26T20:12:53.380Z"
   },
   {
    "duration": 60,
    "start_time": "2022-06-26T20:17:16.660Z"
   },
   {
    "duration": 11,
    "start_time": "2022-06-26T20:17:33.843Z"
   },
   {
    "duration": 4,
    "start_time": "2022-06-26T20:17:38.798Z"
   },
   {
    "duration": 750,
    "start_time": "2022-06-26T20:17:38.805Z"
   },
   {
    "duration": 469,
    "start_time": "2022-06-26T20:17:39.558Z"
   },
   {
    "duration": 228,
    "start_time": "2022-06-26T20:17:40.030Z"
   },
   {
    "duration": 61,
    "start_time": "2022-06-26T20:17:40.260Z"
   },
   {
    "duration": 27,
    "start_time": "2022-06-26T20:17:40.322Z"
   },
   {
    "duration": 24,
    "start_time": "2022-06-26T20:17:40.352Z"
   },
   {
    "duration": 7,
    "start_time": "2022-06-26T20:17:40.379Z"
   },
   {
    "duration": 17,
    "start_time": "2022-06-26T20:17:40.387Z"
   },
   {
    "duration": 18,
    "start_time": "2022-06-26T20:17:40.406Z"
   },
   {
    "duration": 33,
    "start_time": "2022-06-26T20:17:40.427Z"
   },
   {
    "duration": 22,
    "start_time": "2022-06-26T20:17:40.462Z"
   },
   {
    "duration": 14,
    "start_time": "2022-06-26T20:17:40.486Z"
   },
   {
    "duration": 20,
    "start_time": "2022-06-26T20:17:40.502Z"
   },
   {
    "duration": 14,
    "start_time": "2022-06-26T20:17:40.524Z"
   },
   {
    "duration": 4,
    "start_time": "2022-06-26T20:17:40.551Z"
   },
   {
    "duration": 768,
    "start_time": "2022-06-26T20:17:40.557Z"
   },
   {
    "duration": 68,
    "start_time": "2022-06-26T20:17:41.327Z"
   },
   {
    "duration": 65,
    "start_time": "2022-06-26T20:17:41.397Z"
   },
   {
    "duration": 64,
    "start_time": "2022-06-26T20:17:41.464Z"
   },
   {
    "duration": 371,
    "start_time": "2022-06-26T20:17:41.531Z"
   },
   {
    "duration": 66,
    "start_time": "2022-06-26T20:17:41.904Z"
   },
   {
    "duration": 862,
    "start_time": "2022-06-26T20:17:45.529Z"
   },
   {
    "duration": 0,
    "start_time": "2022-06-26T20:17:46.393Z"
   },
   {
    "duration": 6,
    "start_time": "2022-06-26T20:17:57.410Z"
   },
   {
    "duration": 644,
    "start_time": "2022-06-26T20:17:57.418Z"
   },
   {
    "duration": 330,
    "start_time": "2022-06-26T20:17:58.065Z"
   },
   {
    "duration": 193,
    "start_time": "2022-06-26T20:17:58.397Z"
   },
   {
    "duration": 40,
    "start_time": "2022-06-26T20:17:58.593Z"
   },
   {
    "duration": 19,
    "start_time": "2022-06-26T20:17:58.651Z"
   },
   {
    "duration": 24,
    "start_time": "2022-06-26T20:17:58.672Z"
   },
   {
    "duration": 7,
    "start_time": "2022-06-26T20:17:58.698Z"
   },
   {
    "duration": 16,
    "start_time": "2022-06-26T20:17:58.707Z"
   },
   {
    "duration": 29,
    "start_time": "2022-06-26T20:17:58.726Z"
   },
   {
    "duration": 12,
    "start_time": "2022-06-26T20:17:58.760Z"
   },
   {
    "duration": 10,
    "start_time": "2022-06-26T20:17:58.774Z"
   },
   {
    "duration": 11,
    "start_time": "2022-06-26T20:17:58.786Z"
   },
   {
    "duration": 15,
    "start_time": "2022-06-26T20:17:58.799Z"
   },
   {
    "duration": 35,
    "start_time": "2022-06-26T20:17:58.817Z"
   },
   {
    "duration": 7,
    "start_time": "2022-06-26T20:17:58.854Z"
   },
   {
    "duration": 602,
    "start_time": "2022-06-26T20:17:58.863Z"
   },
   {
    "duration": 62,
    "start_time": "2022-06-26T20:17:59.467Z"
   },
   {
    "duration": 60,
    "start_time": "2022-06-26T20:17:59.531Z"
   },
   {
    "duration": 65,
    "start_time": "2022-06-26T20:17:59.592Z"
   },
   {
    "duration": 253,
    "start_time": "2022-06-26T20:17:59.659Z"
   },
   {
    "duration": 55,
    "start_time": "2022-06-26T20:18:02.871Z"
   },
   {
    "duration": 14,
    "start_time": "2022-06-26T20:18:06.162Z"
   },
   {
    "duration": 1350,
    "start_time": "2022-06-26T21:07:31.313Z"
   },
   {
    "duration": 1001,
    "start_time": "2022-06-26T21:07:32.665Z"
   },
   {
    "duration": 443,
    "start_time": "2022-06-26T21:07:33.668Z"
   },
   {
    "duration": 298,
    "start_time": "2022-06-26T21:07:34.113Z"
   },
   {
    "duration": 51,
    "start_time": "2022-06-26T21:07:34.413Z"
   },
   {
    "duration": 21,
    "start_time": "2022-06-26T21:07:34.466Z"
   },
   {
    "duration": 23,
    "start_time": "2022-06-26T21:07:34.490Z"
   },
   {
    "duration": 38,
    "start_time": "2022-06-26T21:07:34.515Z"
   },
   {
    "duration": 10,
    "start_time": "2022-06-26T21:07:34.555Z"
   },
   {
    "duration": 11,
    "start_time": "2022-06-26T21:07:34.569Z"
   },
   {
    "duration": 15,
    "start_time": "2022-06-26T21:07:34.583Z"
   },
   {
    "duration": 21,
    "start_time": "2022-06-26T21:07:34.601Z"
   },
   {
    "duration": 34,
    "start_time": "2022-06-26T21:07:34.625Z"
   },
   {
    "duration": 23,
    "start_time": "2022-06-26T21:07:34.662Z"
   },
   {
    "duration": 13,
    "start_time": "2022-06-26T21:07:34.688Z"
   },
   {
    "duration": 9,
    "start_time": "2022-06-26T21:07:34.703Z"
   },
   {
    "duration": 765,
    "start_time": "2022-06-26T21:07:34.716Z"
   },
   {
    "duration": 72,
    "start_time": "2022-06-26T21:07:35.482Z"
   },
   {
    "duration": 60,
    "start_time": "2022-06-26T21:07:35.556Z"
   },
   {
    "duration": 69,
    "start_time": "2022-06-26T21:07:35.618Z"
   },
   {
    "duration": 256,
    "start_time": "2022-06-26T21:07:35.688Z"
   },
   {
    "duration": 64,
    "start_time": "2022-06-26T21:07:35.946Z"
   },
   {
    "duration": 12,
    "start_time": "2022-06-26T21:07:36.012Z"
   },
   {
    "duration": 32,
    "start_time": "2022-06-26T21:07:36.027Z"
   },
   {
    "duration": 1258,
    "start_time": "2022-06-26T21:08:43.881Z"
   },
   {
    "duration": 809,
    "start_time": "2022-06-26T21:08:45.141Z"
   },
   {
    "duration": 520,
    "start_time": "2022-06-26T21:08:45.963Z"
   },
   {
    "duration": 297,
    "start_time": "2022-06-26T21:08:46.486Z"
   },
   {
    "duration": 41,
    "start_time": "2022-06-26T21:08:46.785Z"
   },
   {
    "duration": 26,
    "start_time": "2022-06-26T21:08:46.829Z"
   },
   {
    "duration": 56,
    "start_time": "2022-06-26T21:08:46.862Z"
   },
   {
    "duration": 14,
    "start_time": "2022-06-26T21:08:46.923Z"
   },
   {
    "duration": 41,
    "start_time": "2022-06-26T21:08:46.940Z"
   },
   {
    "duration": 20,
    "start_time": "2022-06-26T21:08:46.984Z"
   },
   {
    "duration": 25,
    "start_time": "2022-06-26T21:08:47.007Z"
   },
   {
    "duration": 80,
    "start_time": "2022-06-26T21:08:47.034Z"
   },
   {
    "duration": 13,
    "start_time": "2022-06-26T21:08:47.118Z"
   },
   {
    "duration": 14,
    "start_time": "2022-06-26T21:08:47.133Z"
   },
   {
    "duration": 52,
    "start_time": "2022-06-26T21:08:47.149Z"
   },
   {
    "duration": 10,
    "start_time": "2022-06-26T21:08:47.203Z"
   },
   {
    "duration": 773,
    "start_time": "2022-06-26T21:08:47.216Z"
   },
   {
    "duration": 42,
    "start_time": "2022-06-26T21:08:47.990Z"
   },
   {
    "duration": 57,
    "start_time": "2022-06-26T21:08:48.034Z"
   },
   {
    "duration": 72,
    "start_time": "2022-06-26T21:08:48.093Z"
   },
   {
    "duration": 345,
    "start_time": "2022-06-26T21:08:48.168Z"
   },
   {
    "duration": 72,
    "start_time": "2022-06-26T21:08:48.515Z"
   },
   {
    "duration": 10,
    "start_time": "2022-06-26T21:08:48.589Z"
   },
   {
    "duration": 23,
    "start_time": "2022-06-26T21:08:48.601Z"
   },
   {
    "duration": 69,
    "start_time": "2022-06-26T21:12:36.819Z"
   },
   {
    "duration": 122,
    "start_time": "2022-06-26T21:13:07.050Z"
   },
   {
    "duration": 4,
    "start_time": "2022-06-26T21:13:17.722Z"
   },
   {
    "duration": 4,
    "start_time": "2022-06-26T21:13:31.627Z"
   },
   {
    "duration": 5,
    "start_time": "2022-06-26T21:13:46.377Z"
   },
   {
    "duration": 9,
    "start_time": "2022-06-26T21:14:33.052Z"
   },
   {
    "duration": 4,
    "start_time": "2022-06-26T21:15:11.890Z"
   },
   {
    "duration": 12,
    "start_time": "2022-06-26T21:15:53.392Z"
   },
   {
    "duration": 9908,
    "start_time": "2022-06-26T21:16:49.716Z"
   },
   {
    "duration": 3089,
    "start_time": "2022-06-26T21:17:07.167Z"
   },
   {
    "duration": 10,
    "start_time": "2022-06-26T21:18:21.319Z"
   },
   {
    "duration": 11,
    "start_time": "2022-06-26T21:19:15.048Z"
   },
   {
    "duration": 17,
    "start_time": "2022-06-26T21:19:19.167Z"
   },
   {
    "duration": 301,
    "start_time": "2022-06-26T21:19:36.160Z"
   },
   {
    "duration": 3151,
    "start_time": "2022-06-26T21:20:11.684Z"
   },
   {
    "duration": 610,
    "start_time": "2022-06-26T21:20:36.920Z"
   },
   {
    "duration": 257,
    "start_time": "2022-06-26T21:23:13.053Z"
   },
   {
    "duration": 503,
    "start_time": "2022-06-26T21:23:15.518Z"
   },
   {
    "duration": 8,
    "start_time": "2022-06-26T21:24:10.335Z"
   },
   {
    "duration": 789,
    "start_time": "2022-06-26T21:24:13.673Z"
   },
   {
    "duration": 45,
    "start_time": "2022-06-26T21:24:23.467Z"
   },
   {
    "duration": 9,
    "start_time": "2022-06-26T21:24:24.517Z"
   },
   {
    "duration": 4,
    "start_time": "2022-06-26T21:24:26.527Z"
   },
   {
    "duration": 5,
    "start_time": "2022-06-26T21:30:05.217Z"
   },
   {
    "duration": 12,
    "start_time": "2022-06-26T21:30:15.430Z"
   },
   {
    "duration": 1384,
    "start_time": "2022-06-26T23:31:16.213Z"
   },
   {
    "duration": 1910,
    "start_time": "2022-06-26T23:31:17.599Z"
   },
   {
    "duration": 339,
    "start_time": "2022-06-26T23:31:19.511Z"
   },
   {
    "duration": 181,
    "start_time": "2022-06-26T23:31:19.852Z"
   },
   {
    "duration": 29,
    "start_time": "2022-06-26T23:31:20.035Z"
   },
   {
    "duration": 12,
    "start_time": "2022-06-26T23:31:20.065Z"
   },
   {
    "duration": 20,
    "start_time": "2022-06-26T23:31:20.078Z"
   },
   {
    "duration": 29,
    "start_time": "2022-06-26T23:31:20.099Z"
   },
   {
    "duration": 8,
    "start_time": "2022-06-26T23:31:20.130Z"
   },
   {
    "duration": 10,
    "start_time": "2022-06-26T23:31:20.141Z"
   },
   {
    "duration": 23,
    "start_time": "2022-06-26T23:31:20.152Z"
   },
   {
    "duration": 9,
    "start_time": "2022-06-26T23:31:20.177Z"
   },
   {
    "duration": 8,
    "start_time": "2022-06-26T23:31:20.188Z"
   },
   {
    "duration": 14,
    "start_time": "2022-06-26T23:31:20.198Z"
   },
   {
    "duration": 17,
    "start_time": "2022-06-26T23:31:20.214Z"
   },
   {
    "duration": 7,
    "start_time": "2022-06-26T23:31:20.233Z"
   },
   {
    "duration": 572,
    "start_time": "2022-06-26T23:31:20.241Z"
   },
   {
    "duration": 43,
    "start_time": "2022-06-26T23:31:20.815Z"
   },
   {
    "duration": 39,
    "start_time": "2022-06-26T23:31:20.859Z"
   },
   {
    "duration": 54,
    "start_time": "2022-06-26T23:31:20.900Z"
   },
   {
    "duration": 239,
    "start_time": "2022-06-26T23:31:20.956Z"
   },
   {
    "duration": 578,
    "start_time": "2022-06-26T23:31:21.197Z"
   },
   {
    "duration": 40,
    "start_time": "2022-06-26T23:31:21.776Z"
   },
   {
    "duration": 10,
    "start_time": "2022-06-26T23:31:21.818Z"
   },
   {
    "duration": 4,
    "start_time": "2022-06-26T23:33:12.418Z"
   },
   {
    "duration": 516,
    "start_time": "2022-06-26T23:50:40.822Z"
   },
   {
    "duration": 3,
    "start_time": "2022-06-26T23:57:32.669Z"
   },
   {
    "duration": 4,
    "start_time": "2022-06-26T23:57:34.785Z"
   },
   {
    "duration": 3,
    "start_time": "2022-06-26T23:57:43.655Z"
   },
   {
    "duration": 3,
    "start_time": "2022-06-26T23:57:55.871Z"
   },
   {
    "duration": 82,
    "start_time": "2022-06-27T00:37:31.114Z"
   },
   {
    "duration": 111,
    "start_time": "2022-06-27T00:37:57.038Z"
   },
   {
    "duration": 99,
    "start_time": "2022-06-27T00:43:00.975Z"
   },
   {
    "duration": 3,
    "start_time": "2022-06-27T00:46:29.403Z"
   },
   {
    "duration": 2,
    "start_time": "2022-06-27T00:47:15.674Z"
   },
   {
    "duration": 100,
    "start_time": "2022-06-27T00:50:09.639Z"
   },
   {
    "duration": 111,
    "start_time": "2022-06-27T00:50:23.090Z"
   },
   {
    "duration": 1800,
    "start_time": "2022-06-27T00:50:30.702Z"
   },
   {
    "duration": 1767,
    "start_time": "2022-06-27T00:59:30.123Z"
   },
   {
    "duration": 9,
    "start_time": "2022-06-27T01:01:05.589Z"
   },
   {
    "duration": 4,
    "start_time": "2022-06-27T01:01:14.735Z"
   },
   {
    "duration": 609,
    "start_time": "2022-06-27T01:01:14.741Z"
   },
   {
    "duration": 307,
    "start_time": "2022-06-27T01:01:15.351Z"
   },
   {
    "duration": 157,
    "start_time": "2022-06-27T01:01:15.659Z"
   },
   {
    "duration": 29,
    "start_time": "2022-06-27T01:01:15.818Z"
   },
   {
    "duration": 12,
    "start_time": "2022-06-27T01:01:15.848Z"
   },
   {
    "duration": 23,
    "start_time": "2022-06-27T01:01:15.862Z"
   },
   {
    "duration": 5,
    "start_time": "2022-06-27T01:01:15.887Z"
   },
   {
    "duration": 10,
    "start_time": "2022-06-27T01:01:15.894Z"
   },
   {
    "duration": 21,
    "start_time": "2022-06-27T01:01:15.906Z"
   },
   {
    "duration": 8,
    "start_time": "2022-06-27T01:01:15.930Z"
   },
   {
    "duration": 8,
    "start_time": "2022-06-27T01:01:15.940Z"
   },
   {
    "duration": 7,
    "start_time": "2022-06-27T01:01:15.950Z"
   },
   {
    "duration": 9,
    "start_time": "2022-06-27T01:01:15.958Z"
   },
   {
    "duration": 10,
    "start_time": "2022-06-27T01:01:31.553Z"
   },
   {
    "duration": 10,
    "start_time": "2022-06-27T01:01:32.147Z"
   },
   {
    "duration": 3,
    "start_time": "2022-06-27T01:01:34.534Z"
   },
   {
    "duration": 4,
    "start_time": "2022-06-27T01:01:42.955Z"
   },
   {
    "duration": 593,
    "start_time": "2022-06-27T01:01:42.962Z"
   },
   {
    "duration": 328,
    "start_time": "2022-06-27T01:01:43.557Z"
   },
   {
    "duration": 175,
    "start_time": "2022-06-27T01:01:43.886Z"
   },
   {
    "duration": 27,
    "start_time": "2022-06-27T01:01:44.063Z"
   },
   {
    "duration": 13,
    "start_time": "2022-06-27T01:01:44.091Z"
   },
   {
    "duration": 34,
    "start_time": "2022-06-27T01:01:44.105Z"
   },
   {
    "duration": 5,
    "start_time": "2022-06-27T01:01:44.140Z"
   },
   {
    "duration": 7,
    "start_time": "2022-06-27T01:01:44.146Z"
   },
   {
    "duration": 7,
    "start_time": "2022-06-27T01:01:44.155Z"
   },
   {
    "duration": 8,
    "start_time": "2022-06-27T01:01:44.164Z"
   },
   {
    "duration": 8,
    "start_time": "2022-06-27T01:01:44.174Z"
   },
   {
    "duration": 8,
    "start_time": "2022-06-27T01:01:44.183Z"
   },
   {
    "duration": 36,
    "start_time": "2022-06-27T01:01:44.193Z"
   },
   {
    "duration": 11,
    "start_time": "2022-06-27T01:01:44.231Z"
   },
   {
    "duration": 13,
    "start_time": "2022-06-27T01:01:44.243Z"
   },
   {
    "duration": 528,
    "start_time": "2022-06-27T01:01:44.257Z"
   },
   {
    "duration": 48,
    "start_time": "2022-06-27T01:01:44.787Z"
   },
   {
    "duration": 39,
    "start_time": "2022-06-27T01:01:44.837Z"
   },
   {
    "duration": 61,
    "start_time": "2022-06-27T01:01:44.878Z"
   },
   {
    "duration": 241,
    "start_time": "2022-06-27T01:01:44.941Z"
   },
   {
    "duration": 507,
    "start_time": "2022-06-27T01:01:45.184Z"
   },
   {
    "duration": 55,
    "start_time": "2022-06-27T01:01:45.693Z"
   },
   {
    "duration": 11,
    "start_time": "2022-06-27T01:01:45.749Z"
   },
   {
    "duration": 3,
    "start_time": "2022-06-27T01:01:45.761Z"
   },
   {
    "duration": 1576,
    "start_time": "2022-06-27T01:01:48.757Z"
   },
   {
    "duration": 1626,
    "start_time": "2022-06-27T01:02:35.216Z"
   },
   {
    "duration": 89,
    "start_time": "2022-06-27T01:02:39.384Z"
   },
   {
    "duration": 1624,
    "start_time": "2022-06-27T01:02:40.322Z"
   },
   {
    "duration": 9,
    "start_time": "2022-06-27T01:02:57.487Z"
   },
   {
    "duration": 1768,
    "start_time": "2022-06-27T01:02:57.948Z"
   },
   {
    "duration": 9,
    "start_time": "2022-06-27T01:04:40.221Z"
   },
   {
    "duration": 1922,
    "start_time": "2022-06-27T01:04:40.722Z"
   },
   {
    "duration": 11,
    "start_time": "2022-06-27T01:05:04.163Z"
   },
   {
    "duration": 10,
    "start_time": "2022-06-27T01:05:05.872Z"
   },
   {
    "duration": 2171,
    "start_time": "2022-06-27T01:05:06.148Z"
   },
   {
    "duration": 10,
    "start_time": "2022-06-27T01:05:17.824Z"
   },
   {
    "duration": 1470,
    "start_time": "2022-06-27T01:05:18.182Z"
   },
   {
    "duration": 9,
    "start_time": "2022-06-27T01:05:28.990Z"
   },
   {
    "duration": 1671,
    "start_time": "2022-06-27T01:05:29.542Z"
   },
   {
    "duration": 10,
    "start_time": "2022-06-27T01:05:42.515Z"
   },
   {
    "duration": 1689,
    "start_time": "2022-06-27T01:05:43.546Z"
   },
   {
    "duration": 9,
    "start_time": "2022-06-27T01:07:03.443Z"
   },
   {
    "duration": 1739,
    "start_time": "2022-06-27T01:07:04.116Z"
   },
   {
    "duration": 11,
    "start_time": "2022-06-27T01:07:41.008Z"
   },
   {
    "duration": 1542,
    "start_time": "2022-06-27T01:07:41.489Z"
   },
   {
    "duration": 1691,
    "start_time": "2022-06-27T01:08:08.303Z"
   },
   {
    "duration": 117,
    "start_time": "2022-06-27T01:13:23.181Z"
   },
   {
    "duration": 2079,
    "start_time": "2022-06-27T01:14:04.571Z"
   },
   {
    "duration": 1893,
    "start_time": "2022-06-27T01:16:27.749Z"
   },
   {
    "duration": 2203,
    "start_time": "2022-06-27T01:16:56.285Z"
   },
   {
    "duration": 2411,
    "start_time": "2022-06-27T01:18:05.635Z"
   },
   {
    "duration": 1993,
    "start_time": "2022-06-27T01:19:06.658Z"
   },
   {
    "duration": 2006,
    "start_time": "2022-06-27T01:19:32.267Z"
   },
   {
    "duration": 10,
    "start_time": "2022-06-27T01:22:19.443Z"
   },
   {
    "duration": 694,
    "start_time": "2022-06-27T01:22:26.807Z"
   },
   {
    "duration": 917,
    "start_time": "2022-06-27T01:22:48.071Z"
   },
   {
    "duration": 18,
    "start_time": "2022-06-27T01:26:26.560Z"
   },
   {
    "duration": 15,
    "start_time": "2022-06-27T01:26:57.820Z"
   },
   {
    "duration": 13,
    "start_time": "2022-06-27T01:26:59.605Z"
   },
   {
    "duration": 17,
    "start_time": "2022-06-27T01:27:02.711Z"
   },
   {
    "duration": 1512,
    "start_time": "2022-06-27T01:27:08.196Z"
   },
   {
    "duration": 13,
    "start_time": "2022-06-27T01:28:28.310Z"
   },
   {
    "duration": 1447,
    "start_time": "2022-06-27T01:28:39.124Z"
   },
   {
    "duration": 1913,
    "start_time": "2022-06-27T01:29:13.401Z"
   },
   {
    "duration": 1899,
    "start_time": "2022-06-27T01:29:39.379Z"
   },
   {
    "duration": 2447,
    "start_time": "2022-06-27T01:30:22.009Z"
   },
   {
    "duration": 817,
    "start_time": "2022-06-27T01:31:42.270Z"
   },
   {
    "duration": 885,
    "start_time": "2022-06-27T01:32:48.227Z"
   },
   {
    "duration": 865,
    "start_time": "2022-06-27T01:32:57.331Z"
   },
   {
    "duration": 5,
    "start_time": "2022-06-27T01:33:15.140Z"
   },
   {
    "duration": 594,
    "start_time": "2022-06-27T01:33:15.147Z"
   },
   {
    "duration": 323,
    "start_time": "2022-06-27T01:33:15.743Z"
   },
   {
    "duration": 160,
    "start_time": "2022-06-27T01:33:16.068Z"
   },
   {
    "duration": 30,
    "start_time": "2022-06-27T01:33:16.230Z"
   },
   {
    "duration": 14,
    "start_time": "2022-06-27T01:33:16.262Z"
   },
   {
    "duration": 20,
    "start_time": "2022-06-27T01:33:16.277Z"
   },
   {
    "duration": 6,
    "start_time": "2022-06-27T01:33:16.326Z"
   },
   {
    "duration": 7,
    "start_time": "2022-06-27T01:33:16.334Z"
   },
   {
    "duration": 8,
    "start_time": "2022-06-27T01:33:16.343Z"
   },
   {
    "duration": 9,
    "start_time": "2022-06-27T01:33:16.353Z"
   },
   {
    "duration": 9,
    "start_time": "2022-06-27T01:33:16.363Z"
   },
   {
    "duration": 7,
    "start_time": "2022-06-27T01:33:16.374Z"
   },
   {
    "duration": 9,
    "start_time": "2022-06-27T01:33:16.383Z"
   },
   {
    "duration": 38,
    "start_time": "2022-06-27T01:33:16.393Z"
   },
   {
    "duration": 8,
    "start_time": "2022-06-27T01:33:16.433Z"
   },
   {
    "duration": 560,
    "start_time": "2022-06-27T01:33:16.442Z"
   },
   {
    "duration": 46,
    "start_time": "2022-06-27T01:33:17.004Z"
   },
   {
    "duration": 37,
    "start_time": "2022-06-27T01:33:17.052Z"
   },
   {
    "duration": 58,
    "start_time": "2022-06-27T01:33:17.091Z"
   },
   {
    "duration": 224,
    "start_time": "2022-06-27T01:33:17.150Z"
   },
   {
    "duration": 489,
    "start_time": "2022-06-27T01:33:17.376Z"
   },
   {
    "duration": 61,
    "start_time": "2022-06-27T01:33:17.867Z"
   },
   {
    "duration": 10,
    "start_time": "2022-06-27T01:33:17.930Z"
   },
   {
    "duration": 18,
    "start_time": "2022-06-27T01:33:17.942Z"
   },
   {
    "duration": 1706,
    "start_time": "2022-06-27T01:33:17.962Z"
   },
   {
    "duration": 2051,
    "start_time": "2022-06-27T01:33:19.671Z"
   },
   {
    "duration": 2077,
    "start_time": "2022-06-27T01:33:21.725Z"
   },
   {
    "duration": 2253,
    "start_time": "2022-06-27T01:33:23.806Z"
   },
   {
    "duration": 822,
    "start_time": "2022-06-27T01:33:26.061Z"
   },
   {
    "duration": 1472,
    "start_time": "2022-06-27T01:37:42.165Z"
   },
   {
    "duration": 1404,
    "start_time": "2022-06-27T01:37:43.638Z"
   },
   {
    "duration": 95,
    "start_time": "2022-06-27T01:37:45.044Z"
   },
   {
    "duration": 791,
    "start_time": "2022-06-27T01:39:42.476Z"
   },
   {
    "duration": 1033,
    "start_time": "2022-06-27T01:40:03.311Z"
   },
   {
    "duration": 1522,
    "start_time": "2022-06-27T01:40:37.863Z"
   },
   {
    "duration": 4,
    "start_time": "2022-06-27T01:40:43.653Z"
   },
   {
    "duration": 597,
    "start_time": "2022-06-27T01:40:43.658Z"
   },
   {
    "duration": 308,
    "start_time": "2022-06-27T01:40:44.257Z"
   },
   {
    "duration": 159,
    "start_time": "2022-06-27T01:40:44.567Z"
   },
   {
    "duration": 27,
    "start_time": "2022-06-27T01:40:44.729Z"
   },
   {
    "duration": 12,
    "start_time": "2022-06-27T01:40:44.757Z"
   },
   {
    "duration": 34,
    "start_time": "2022-06-27T01:40:44.771Z"
   },
   {
    "duration": 19,
    "start_time": "2022-06-27T01:40:44.806Z"
   },
   {
    "duration": 34,
    "start_time": "2022-06-27T01:40:44.827Z"
   },
   {
    "duration": 47,
    "start_time": "2022-06-27T01:40:44.862Z"
   },
   {
    "duration": 49,
    "start_time": "2022-06-27T01:40:44.911Z"
   },
   {
    "duration": 39,
    "start_time": "2022-06-27T01:40:44.961Z"
   },
   {
    "duration": 27,
    "start_time": "2022-06-27T01:40:45.001Z"
   },
   {
    "duration": 11,
    "start_time": "2022-06-27T01:40:45.030Z"
   },
   {
    "duration": 23,
    "start_time": "2022-06-27T01:40:45.043Z"
   },
   {
    "duration": 26,
    "start_time": "2022-06-27T01:40:45.068Z"
   },
   {
    "duration": 525,
    "start_time": "2022-06-27T01:40:45.096Z"
   },
   {
    "duration": 37,
    "start_time": "2022-06-27T01:40:45.626Z"
   },
   {
    "duration": 35,
    "start_time": "2022-06-27T01:40:45.664Z"
   },
   {
    "duration": 52,
    "start_time": "2022-06-27T01:40:45.700Z"
   },
   {
    "duration": 207,
    "start_time": "2022-06-27T01:40:45.753Z"
   },
   {
    "duration": 456,
    "start_time": "2022-06-27T01:40:45.962Z"
   },
   {
    "duration": 39,
    "start_time": "2022-06-27T01:40:46.419Z"
   },
   {
    "duration": 9,
    "start_time": "2022-06-27T01:40:46.460Z"
   },
   {
    "duration": 40,
    "start_time": "2022-06-27T01:40:46.470Z"
   },
   {
    "duration": 1455,
    "start_time": "2022-06-27T01:40:46.512Z"
   },
   {
    "duration": 2056,
    "start_time": "2022-06-27T01:40:47.969Z"
   },
   {
    "duration": 1874,
    "start_time": "2022-06-27T01:40:50.027Z"
   },
   {
    "duration": 2343,
    "start_time": "2022-06-27T01:40:51.904Z"
   },
   {
    "duration": 809,
    "start_time": "2022-06-27T01:40:54.249Z"
   },
   {
    "duration": 815,
    "start_time": "2022-06-27T01:40:55.060Z"
   },
   {
    "duration": 1062,
    "start_time": "2022-06-27T01:40:55.877Z"
   },
   {
    "duration": 1385,
    "start_time": "2022-06-27T01:40:56.941Z"
   },
   {
    "duration": 1750,
    "start_time": "2022-06-27T01:40:58.328Z"
   },
   {
    "duration": 1581,
    "start_time": "2022-06-27T01:42:11.777Z"
   },
   {
    "duration": 1401,
    "start_time": "2022-06-27T20:23:04.851Z"
   },
   {
    "duration": 975,
    "start_time": "2022-06-27T20:23:06.254Z"
   },
   {
    "duration": 416,
    "start_time": "2022-06-27T20:23:07.231Z"
   },
   {
    "duration": 192,
    "start_time": "2022-06-27T20:23:07.649Z"
   },
   {
    "duration": 30,
    "start_time": "2022-06-27T20:23:07.843Z"
   },
   {
    "duration": 13,
    "start_time": "2022-06-27T20:23:07.875Z"
   },
   {
    "duration": 40,
    "start_time": "2022-06-27T20:23:07.890Z"
   },
   {
    "duration": 5,
    "start_time": "2022-06-27T20:23:07.932Z"
   },
   {
    "duration": 8,
    "start_time": "2022-06-27T20:23:07.938Z"
   },
   {
    "duration": 9,
    "start_time": "2022-06-27T20:23:07.949Z"
   },
   {
    "duration": 10,
    "start_time": "2022-06-27T20:23:07.960Z"
   },
   {
    "duration": 14,
    "start_time": "2022-06-27T20:23:07.972Z"
   },
   {
    "duration": 11,
    "start_time": "2022-06-27T20:23:07.988Z"
   },
   {
    "duration": 29,
    "start_time": "2022-06-27T20:23:08.002Z"
   },
   {
    "duration": 16,
    "start_time": "2022-06-27T20:23:08.033Z"
   },
   {
    "duration": 13,
    "start_time": "2022-06-27T20:23:08.051Z"
   },
   {
    "duration": 616,
    "start_time": "2022-06-27T20:23:08.066Z"
   },
   {
    "duration": 49,
    "start_time": "2022-06-27T20:23:08.684Z"
   },
   {
    "duration": 39,
    "start_time": "2022-06-27T20:23:08.734Z"
   },
   {
    "duration": 59,
    "start_time": "2022-06-27T20:23:08.775Z"
   },
   {
    "duration": 261,
    "start_time": "2022-06-27T20:23:08.836Z"
   },
   {
    "duration": 617,
    "start_time": "2022-06-27T20:23:09.100Z"
   },
   {
    "duration": 43,
    "start_time": "2022-06-27T20:23:09.719Z"
   },
   {
    "duration": 11,
    "start_time": "2022-06-27T20:23:09.764Z"
   },
   {
    "duration": 22,
    "start_time": "2022-06-27T20:23:09.776Z"
   },
   {
    "duration": 1659,
    "start_time": "2022-06-27T20:23:09.799Z"
   },
   {
    "duration": 2137,
    "start_time": "2022-06-27T20:23:11.461Z"
   },
   {
    "duration": 2077,
    "start_time": "2022-06-27T20:23:13.602Z"
   },
   {
    "duration": 2572,
    "start_time": "2022-06-27T20:23:15.680Z"
   },
   {
    "duration": 848,
    "start_time": "2022-06-27T20:23:18.254Z"
   },
   {
    "duration": 885,
    "start_time": "2022-06-27T20:23:19.104Z"
   },
   {
    "duration": 1027,
    "start_time": "2022-06-27T20:23:19.990Z"
   },
   {
    "duration": 1623,
    "start_time": "2022-06-27T20:23:21.019Z"
   },
   {
    "duration": 1500,
    "start_time": "2022-06-27T20:23:22.644Z"
   },
   {
    "duration": 1924,
    "start_time": "2022-06-27T20:23:24.146Z"
   },
   {
    "duration": 889,
    "start_time": "2022-06-27T21:16:32.221Z"
   },
   {
    "duration": 35,
    "start_time": "2022-06-27T21:16:47.914Z"
   },
   {
    "duration": 31,
    "start_time": "2022-06-27T21:17:02.988Z"
   },
   {
    "duration": 28,
    "start_time": "2022-06-27T21:17:07.126Z"
   },
   {
    "duration": 30,
    "start_time": "2022-06-27T21:17:18.838Z"
   },
   {
    "duration": 36,
    "start_time": "2022-06-27T21:17:31.999Z"
   },
   {
    "duration": 4,
    "start_time": "2022-06-27T21:17:40.481Z"
   },
   {
    "duration": 653,
    "start_time": "2022-06-27T21:17:40.488Z"
   },
   {
    "duration": 408,
    "start_time": "2022-06-27T21:17:41.142Z"
   },
   {
    "duration": 167,
    "start_time": "2022-06-27T21:17:41.552Z"
   },
   {
    "duration": 33,
    "start_time": "2022-06-27T21:17:41.722Z"
   },
   {
    "duration": 23,
    "start_time": "2022-06-27T21:17:41.757Z"
   },
   {
    "duration": 46,
    "start_time": "2022-06-27T21:17:41.782Z"
   },
   {
    "duration": 8,
    "start_time": "2022-06-27T21:17:41.830Z"
   },
   {
    "duration": 7,
    "start_time": "2022-06-27T21:17:41.841Z"
   },
   {
    "duration": 10,
    "start_time": "2022-06-27T21:17:41.850Z"
   },
   {
    "duration": 12,
    "start_time": "2022-06-27T21:17:41.861Z"
   },
   {
    "duration": 14,
    "start_time": "2022-06-27T21:17:41.875Z"
   },
   {
    "duration": 41,
    "start_time": "2022-06-27T21:17:41.890Z"
   },
   {
    "duration": 10,
    "start_time": "2022-06-27T21:17:41.933Z"
   },
   {
    "duration": 10,
    "start_time": "2022-06-27T21:17:41.945Z"
   },
   {
    "duration": 10,
    "start_time": "2022-06-27T21:17:41.957Z"
   },
   {
    "duration": 610,
    "start_time": "2022-06-27T21:17:41.969Z"
   },
   {
    "duration": 39,
    "start_time": "2022-06-27T21:17:48.016Z"
   },
   {
    "duration": 38,
    "start_time": "2022-06-27T21:17:49.002Z"
   },
   {
    "duration": 61,
    "start_time": "2022-06-27T21:17:54.714Z"
   },
   {
    "duration": 38,
    "start_time": "2022-06-27T21:18:10.366Z"
   },
   {
    "duration": 79,
    "start_time": "2022-06-27T21:18:15.292Z"
   },
   {
    "duration": 35,
    "start_time": "2022-06-27T21:18:17.623Z"
   },
   {
    "duration": 49,
    "start_time": "2022-06-27T21:27:40.264Z"
   },
   {
    "duration": 1099,
    "start_time": "2022-06-27T22:38:53.589Z"
   },
   {
    "duration": 660,
    "start_time": "2022-06-27T22:38:54.689Z"
   },
   {
    "duration": 408,
    "start_time": "2022-06-27T22:38:55.351Z"
   },
   {
    "duration": 206,
    "start_time": "2022-06-27T22:38:55.760Z"
   },
   {
    "duration": 29,
    "start_time": "2022-06-27T22:38:55.968Z"
   },
   {
    "duration": 29,
    "start_time": "2022-06-27T22:38:55.999Z"
   },
   {
    "duration": 20,
    "start_time": "2022-06-27T22:38:56.030Z"
   },
   {
    "duration": 5,
    "start_time": "2022-06-27T22:38:56.052Z"
   },
   {
    "duration": 7,
    "start_time": "2022-06-27T22:38:56.059Z"
   },
   {
    "duration": 9,
    "start_time": "2022-06-27T22:38:56.068Z"
   },
   {
    "duration": 9,
    "start_time": "2022-06-27T22:38:56.078Z"
   },
   {
    "duration": 36,
    "start_time": "2022-06-27T22:38:56.090Z"
   },
   {
    "duration": 8,
    "start_time": "2022-06-27T22:38:56.128Z"
   },
   {
    "duration": 9,
    "start_time": "2022-06-27T22:38:56.138Z"
   },
   {
    "duration": 11,
    "start_time": "2022-06-27T22:38:56.148Z"
   },
   {
    "duration": 8,
    "start_time": "2022-06-27T22:38:56.160Z"
   },
   {
    "duration": 602,
    "start_time": "2022-06-27T22:38:56.169Z"
   },
   {
    "duration": 41,
    "start_time": "2022-06-27T22:38:56.773Z"
   },
   {
    "duration": 40,
    "start_time": "2022-06-27T22:38:56.825Z"
   },
   {
    "duration": 40,
    "start_time": "2022-06-27T22:38:56.866Z"
   },
   {
    "duration": 59,
    "start_time": "2022-06-27T22:38:56.907Z"
   },
   {
    "duration": 245,
    "start_time": "2022-06-27T22:38:56.967Z"
   },
   {
    "duration": 579,
    "start_time": "2022-06-27T22:38:57.214Z"
   },
   {
    "duration": 40,
    "start_time": "2022-06-27T22:38:57.795Z"
   },
   {
    "duration": 10,
    "start_time": "2022-06-27T22:38:57.837Z"
   },
   {
    "duration": 18,
    "start_time": "2022-06-27T22:38:57.849Z"
   },
   {
    "duration": 1541,
    "start_time": "2022-06-27T22:38:57.869Z"
   },
   {
    "duration": 2017,
    "start_time": "2022-06-27T22:38:59.413Z"
   },
   {
    "duration": 1961,
    "start_time": "2022-06-27T22:39:01.432Z"
   },
   {
    "duration": 2427,
    "start_time": "2022-06-27T22:39:03.395Z"
   },
   {
    "duration": 857,
    "start_time": "2022-06-27T22:39:05.826Z"
   },
   {
    "duration": 851,
    "start_time": "2022-06-27T22:39:06.685Z"
   },
   {
    "duration": 958,
    "start_time": "2022-06-27T22:39:07.537Z"
   },
   {
    "duration": 1577,
    "start_time": "2022-06-27T22:39:08.497Z"
   },
   {
    "duration": 1490,
    "start_time": "2022-06-27T22:39:10.076Z"
   },
   {
    "duration": 1901,
    "start_time": "2022-06-27T22:39:11.568Z"
   },
   {
    "duration": 1244,
    "start_time": "2022-06-28T06:37:03.560Z"
   },
   {
    "duration": 623,
    "start_time": "2022-06-28T06:37:04.806Z"
   },
   {
    "duration": 414,
    "start_time": "2022-06-28T06:37:05.431Z"
   },
   {
    "duration": 203,
    "start_time": "2022-06-28T06:37:05.850Z"
   },
   {
    "duration": 29,
    "start_time": "2022-06-28T06:37:06.055Z"
   },
   {
    "duration": 13,
    "start_time": "2022-06-28T06:37:06.086Z"
   },
   {
    "duration": 20,
    "start_time": "2022-06-28T06:37:06.100Z"
   },
   {
    "duration": 31,
    "start_time": "2022-06-28T06:37:06.122Z"
   },
   {
    "duration": 18,
    "start_time": "2022-06-28T06:37:06.155Z"
   },
   {
    "duration": 8,
    "start_time": "2022-06-28T06:37:06.176Z"
   },
   {
    "duration": 13,
    "start_time": "2022-06-28T06:37:06.186Z"
   },
   {
    "duration": 18,
    "start_time": "2022-06-28T06:37:06.200Z"
   },
   {
    "duration": 16,
    "start_time": "2022-06-28T06:37:06.219Z"
   },
   {
    "duration": 21,
    "start_time": "2022-06-28T06:37:06.236Z"
   },
   {
    "duration": 20,
    "start_time": "2022-06-28T06:37:06.258Z"
   },
   {
    "duration": 18,
    "start_time": "2022-06-28T06:37:06.279Z"
   },
   {
    "duration": 574,
    "start_time": "2022-06-28T06:37:06.299Z"
   },
   {
    "duration": 44,
    "start_time": "2022-06-28T06:37:06.875Z"
   },
   {
    "duration": 54,
    "start_time": "2022-06-28T06:37:06.920Z"
   },
   {
    "duration": 38,
    "start_time": "2022-06-28T06:37:06.976Z"
   },
   {
    "duration": 64,
    "start_time": "2022-06-28T06:37:07.016Z"
   },
   {
    "duration": 229,
    "start_time": "2022-06-28T06:37:07.082Z"
   },
   {
    "duration": 597,
    "start_time": "2022-06-28T06:37:07.312Z"
   },
   {
    "duration": 56,
    "start_time": "2022-06-28T06:37:07.911Z"
   },
   {
    "duration": 10,
    "start_time": "2022-06-28T06:37:07.969Z"
   },
   {
    "duration": 21,
    "start_time": "2022-06-28T06:37:07.980Z"
   },
   {
    "duration": 1557,
    "start_time": "2022-06-28T06:37:08.003Z"
   },
   {
    "duration": 1963,
    "start_time": "2022-06-28T06:37:09.563Z"
   },
   {
    "duration": 1925,
    "start_time": "2022-06-28T06:37:11.528Z"
   },
   {
    "duration": 2483,
    "start_time": "2022-06-28T06:37:13.454Z"
   },
   {
    "duration": 766,
    "start_time": "2022-06-28T06:37:15.939Z"
   },
   {
    "duration": 792,
    "start_time": "2022-06-28T06:37:16.706Z"
   },
   {
    "duration": 973,
    "start_time": "2022-06-28T06:37:17.500Z"
   },
   {
    "duration": 1611,
    "start_time": "2022-06-28T06:37:18.475Z"
   },
   {
    "duration": 1528,
    "start_time": "2022-06-28T06:37:20.088Z"
   },
   {
    "duration": 1921,
    "start_time": "2022-06-28T06:37:21.618Z"
   }
  ],
  "kernelspec": {
   "display_name": "Python 3 (ipykernel)",
   "language": "python",
   "name": "python3"
  },
  "language_info": {
   "codemirror_mode": {
    "name": "ipython",
    "version": 3
   },
   "file_extension": ".py",
   "mimetype": "text/x-python",
   "name": "python",
   "nbconvert_exporter": "python",
   "pygments_lexer": "ipython3",
   "version": "3.9.7"
  },
  "toc": {
   "base_numbering": 1,
   "nav_menu": {},
   "number_sections": true,
   "sideBar": true,
   "skip_h1_title": true,
   "title_cell": "Table of Contents",
   "title_sidebar": "Contents",
   "toc_cell": false,
   "toc_position": {},
   "toc_section_display": true,
   "toc_window_display": false
  }
 },
 "nbformat": 4,
 "nbformat_minor": 4
}
