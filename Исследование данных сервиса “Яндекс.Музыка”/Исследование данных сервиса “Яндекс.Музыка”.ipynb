{
 "cells": [
  {
   "cell_type": "markdown",
   "metadata": {},
   "source": [
    "<div class=\"alert alert-block alert-warning\">\n",
    "Кристина, привет! Спасибо большое за такую подробную обратную связь! Постараюсь всё сделать в лучшем виде.\n",
    "<br>\n",
    "    <br>\n",
    "P.S.: Очень долго гадал, как же мне тоже сделать цветные ячейки, надеюсь получилось то, что ты имела в виду. 🙈\n",
    "</div>"
   ]
  },
  {
   "cell_type": "markdown",
   "metadata": {},
   "source": [
    "<div class=\"alert alert-info\">\n",
    "<b>Комментарий ревьюера v2</b>    <br>\n",
    "Привет) Я очень рада, что у тебя получилось так хорошо доработать проект! Работу принимаю:) И отдельное спасибо за твои комментарии и соблюдение наших договоренностей о моих. Далее я буду отмечать новый комментарий так «Комментарий ревьюера v2», а в исправленных красных ошибках менять цвет на соответствующий и добавлять значок, от старого значения важности комментария останется только старый значок)    <br>\n",
    "Хорошего дня!)"
   ]
  },
  {
   "cell_type": "markdown",
   "metadata": {
    "id": "E0vqbgi9ay0H"
   },
   "source": [
    "# Яндекс.Музыка"
   ]
  },
  {
   "cell_type": "markdown",
   "metadata": {
    "id": "VUC88oWjTJw2"
   },
   "source": [
    "Сравнение Москвы и Петербурга окружено мифами. Например:\n",
    " * Москва — мегаполис, подчинённый жёсткому ритму рабочей недели;\n",
    " * Петербург — культурная столица, со своими вкусами.\n",
    "\n",
    "На данных Яндекс.Музыки вы сравните поведение пользователей двух столиц.\n",
    "\n",
    "**Цель исследования** — проверьте три гипотезы:\n",
    "1. Активность пользователей зависит от дня недели. Причём в Москве и Петербурге это проявляется по-разному.\n",
    "2. В понедельник утром в Москве преобладают одни жанры, а в Петербурге — другие. Так же и вечером пятницы преобладают разные жанры — в зависимости от города. \n",
    "3. Москва и Петербург предпочитают разные жанры музыки. В Москве чаще слушают поп-музыку, в Петербурге — русский рэп.\n",
    "\n",
    "**Ход исследования**\n",
    "\n",
    "Данные о поведении пользователей вы получите из файла `yandex_music_project.csv`. О качестве данных ничего не известно. Поэтому перед проверкой гипотез понадобится обзор данных. \n",
    "\n",
    "Вы проверите данные на ошибки и оцените их влияние на исследование. Затем, на этапе предобработки вы поищете возможность исправить самые критичные ошибки данных.\n",
    " \n",
    "Таким образом, исследование пройдёт в три этапа:\n",
    " 1. Обзор данных.\n",
    " 2. Предобработка данных.\n",
    " 3. Проверка гипотез.\n",
    "\n"
   ]
  },
  {
   "cell_type": "markdown",
   "metadata": {},
   "source": [
    "<div class=\"alert alert-success\">\n",
    "✔️ Хорошая практика начинать проект с контекста, описания задачи, возможного хода\\плана исследования, а также описания имеющихся данных. Очень надеюсь, что ты будешь уделять этому внимание и в последующих проектах!\n",
    "</div>"
   ]
  },
  {
   "cell_type": "markdown",
   "metadata": {
    "id": "Ml1hmfXC_Zcs"
   },
   "source": [
    "## Обзор данных\n",
    "\n",
    "Составьте первое представление о данных Яндекс.Музыки.\n",
    "\n",
    "\n"
   ]
  },
  {
   "cell_type": "markdown",
   "metadata": {
    "id": "57eAOGIz_Zcs"
   },
   "source": [
    "Основной инструмент аналитика — `pandas`. Импортируйте эту библиотеку."
   ]
  },
  {
   "cell_type": "code",
   "execution_count": 1,
   "metadata": {
    "id": "AXN7PHPN_Zcs"
   },
   "outputs": [],
   "source": [
    "import pandas as pd"
   ]
  },
  {
   "cell_type": "markdown",
   "metadata": {},
   "source": [
    "<div class=\"alert alert-success\">\n",
    "✔️ Очень здорово, что ты используешь сокращение pd для Pandas, это общепринятое сокращение для этой библиотеки для удобной дальнейшей работы. \n",
    "</div>"
   ]
  },
  {
   "cell_type": "markdown",
   "metadata": {
    "id": "SG23P8tt_Zcs"
   },
   "source": [
    "Прочитайте файл `yandex_music_project.csv` из папки `/datasets` и сохраните его в переменной `df`:"
   ]
  },
  {
   "cell_type": "code",
   "execution_count": 2,
   "metadata": {
    "id": "fFVu7vqh_Zct"
   },
   "outputs": [],
   "source": [
    "df = pd.read_csv('/datasets/yandex_music_project.csv')"
   ]
  },
  {
   "cell_type": "markdown",
   "metadata": {},
   "source": [
    "<div class=\"alert alert-success\">\n",
    "✔️❌ Тут была серьезная ошибка. Не была указана папка откуда брался датасет. Из-за этого, при перезапуске блокнота, не загружались данные. Твой код я закомментировала выше. Исправила сама в виде исключения, так как ты и так долго ждешь ревью. Но прошу далее быть внимательнее в этом месте"
   ]
  },
  {
   "cell_type": "markdown",
   "metadata": {},
   "source": [
    "<div class=\"alert alert-block alert-info\">\n",
    "Прошу прощения, не подумал наперёд - я работал локально, и файл с датасетом был у меня в папке с тетрадью, потому не указывал путь полностью. Не сообразил, что из-за этого могут быть проблемы. 🙈\n",
    "<br>\n",
    "    <br>\n",
    "Убрал свой оригинальный код, оставил исправленный вариант.\n",
    "</div>"
   ]
  },
  {
   "cell_type": "markdown",
   "metadata": {},
   "source": [
    "<div class=\"alert alert-success\">\n",
    "<b>Комментарий ревьюера v2</b>    <br>\n",
    "✔️ Бывает) Главное в дальнейшем не забывать. Можно даже использовать конструкцию try-except для путей файлов: try - пути на локальном компьютере, except - пути на сервере"
   ]
  },
  {
   "cell_type": "markdown",
   "metadata": {
    "id": "rDoOMd3uTqnZ"
   },
   "source": [
    "Выведите на экран первые десять строк таблицы:"
   ]
  },
  {
   "cell_type": "code",
   "execution_count": 3,
   "metadata": {
    "id": "oWTVX3gW_Zct"
   },
   "outputs": [
    {
     "data": {
      "text/html": [
       "<div>\n",
       "<style scoped>\n",
       "    .dataframe tbody tr th:only-of-type {\n",
       "        vertical-align: middle;\n",
       "    }\n",
       "\n",
       "    .dataframe tbody tr th {\n",
       "        vertical-align: top;\n",
       "    }\n",
       "\n",
       "    .dataframe thead th {\n",
       "        text-align: right;\n",
       "    }\n",
       "</style>\n",
       "<table border=\"1\" class=\"dataframe\">\n",
       "  <thead>\n",
       "    <tr style=\"text-align: right;\">\n",
       "      <th></th>\n",
       "      <th>userID</th>\n",
       "      <th>Track</th>\n",
       "      <th>artist</th>\n",
       "      <th>genre</th>\n",
       "      <th>City</th>\n",
       "      <th>time</th>\n",
       "      <th>Day</th>\n",
       "    </tr>\n",
       "  </thead>\n",
       "  <tbody>\n",
       "    <tr>\n",
       "      <th>0</th>\n",
       "      <td>FFB692EC</td>\n",
       "      <td>Kamigata To Boots</td>\n",
       "      <td>The Mass Missile</td>\n",
       "      <td>rock</td>\n",
       "      <td>Saint-Petersburg</td>\n",
       "      <td>20:28:33</td>\n",
       "      <td>Wednesday</td>\n",
       "    </tr>\n",
       "    <tr>\n",
       "      <th>1</th>\n",
       "      <td>55204538</td>\n",
       "      <td>Delayed Because of Accident</td>\n",
       "      <td>Andreas Rönnberg</td>\n",
       "      <td>rock</td>\n",
       "      <td>Moscow</td>\n",
       "      <td>14:07:09</td>\n",
       "      <td>Friday</td>\n",
       "    </tr>\n",
       "    <tr>\n",
       "      <th>2</th>\n",
       "      <td>20EC38</td>\n",
       "      <td>Funiculì funiculà</td>\n",
       "      <td>Mario Lanza</td>\n",
       "      <td>pop</td>\n",
       "      <td>Saint-Petersburg</td>\n",
       "      <td>20:58:07</td>\n",
       "      <td>Wednesday</td>\n",
       "    </tr>\n",
       "    <tr>\n",
       "      <th>3</th>\n",
       "      <td>A3DD03C9</td>\n",
       "      <td>Dragons in the Sunset</td>\n",
       "      <td>Fire + Ice</td>\n",
       "      <td>folk</td>\n",
       "      <td>Saint-Petersburg</td>\n",
       "      <td>08:37:09</td>\n",
       "      <td>Monday</td>\n",
       "    </tr>\n",
       "    <tr>\n",
       "      <th>4</th>\n",
       "      <td>E2DC1FAE</td>\n",
       "      <td>Soul People</td>\n",
       "      <td>Space Echo</td>\n",
       "      <td>dance</td>\n",
       "      <td>Moscow</td>\n",
       "      <td>08:34:34</td>\n",
       "      <td>Monday</td>\n",
       "    </tr>\n",
       "    <tr>\n",
       "      <th>5</th>\n",
       "      <td>842029A1</td>\n",
       "      <td>Преданная</td>\n",
       "      <td>IMPERVTOR</td>\n",
       "      <td>rusrap</td>\n",
       "      <td>Saint-Petersburg</td>\n",
       "      <td>13:09:41</td>\n",
       "      <td>Friday</td>\n",
       "    </tr>\n",
       "    <tr>\n",
       "      <th>6</th>\n",
       "      <td>4CB90AA5</td>\n",
       "      <td>True</td>\n",
       "      <td>Roman Messer</td>\n",
       "      <td>dance</td>\n",
       "      <td>Moscow</td>\n",
       "      <td>13:00:07</td>\n",
       "      <td>Wednesday</td>\n",
       "    </tr>\n",
       "    <tr>\n",
       "      <th>7</th>\n",
       "      <td>F03E1C1F</td>\n",
       "      <td>Feeling This Way</td>\n",
       "      <td>Polina Griffith</td>\n",
       "      <td>dance</td>\n",
       "      <td>Moscow</td>\n",
       "      <td>20:47:49</td>\n",
       "      <td>Wednesday</td>\n",
       "    </tr>\n",
       "    <tr>\n",
       "      <th>8</th>\n",
       "      <td>8FA1D3BE</td>\n",
       "      <td>И вновь продолжается бой</td>\n",
       "      <td>NaN</td>\n",
       "      <td>ruspop</td>\n",
       "      <td>Moscow</td>\n",
       "      <td>09:17:40</td>\n",
       "      <td>Friday</td>\n",
       "    </tr>\n",
       "    <tr>\n",
       "      <th>9</th>\n",
       "      <td>E772D5C0</td>\n",
       "      <td>Pessimist</td>\n",
       "      <td>NaN</td>\n",
       "      <td>dance</td>\n",
       "      <td>Saint-Petersburg</td>\n",
       "      <td>21:20:49</td>\n",
       "      <td>Wednesday</td>\n",
       "    </tr>\n",
       "  </tbody>\n",
       "</table>\n",
       "</div>"
      ],
      "text/plain": [
       "     userID                        Track            artist   genre  \\\n",
       "0  FFB692EC            Kamigata To Boots  The Mass Missile    rock   \n",
       "1  55204538  Delayed Because of Accident  Andreas Rönnberg    rock   \n",
       "2    20EC38            Funiculì funiculà       Mario Lanza     pop   \n",
       "3  A3DD03C9        Dragons in the Sunset        Fire + Ice    folk   \n",
       "4  E2DC1FAE                  Soul People        Space Echo   dance   \n",
       "5  842029A1                    Преданная         IMPERVTOR  rusrap   \n",
       "6  4CB90AA5                         True      Roman Messer   dance   \n",
       "7  F03E1C1F             Feeling This Way   Polina Griffith   dance   \n",
       "8  8FA1D3BE     И вновь продолжается бой               NaN  ruspop   \n",
       "9  E772D5C0                    Pessimist               NaN   dance   \n",
       "\n",
       "             City        time        Day  \n",
       "0  Saint-Petersburg  20:28:33  Wednesday  \n",
       "1            Moscow  14:07:09     Friday  \n",
       "2  Saint-Petersburg  20:58:07  Wednesday  \n",
       "3  Saint-Petersburg  08:37:09     Monday  \n",
       "4            Moscow  08:34:34     Monday  \n",
       "5  Saint-Petersburg  13:09:41     Friday  \n",
       "6            Moscow  13:00:07  Wednesday  \n",
       "7            Moscow  20:47:49  Wednesday  \n",
       "8            Moscow  09:17:40     Friday  \n",
       "9  Saint-Petersburg  21:20:49  Wednesday  "
      ]
     },
     "execution_count": 3,
     "metadata": {},
     "output_type": "execute_result"
    }
   ],
   "source": [
    "df.head(10)"
   ]
  },
  {
   "cell_type": "markdown",
   "metadata": {},
   "source": [
    "<div class=\"alert alert-success\">\n",
    "✔️ Отлично! Первые 10 строк выведены. Так же можно, если тебе понадобится, выводить последние n строк с помощью метода tail().\n",
    "</div>"
   ]
  },
  {
   "cell_type": "markdown",
   "metadata": {},
   "source": [
    "<div class=\"alert alert-warning\"> \n",
    "⚠️ А еще тут необязательно использовать функцию display или print. Так как это единственная строчка кода. И если это было бы последняя строчка кода, то тоже все вывелось бы на экран"
   ]
  },
  {
   "cell_type": "markdown",
   "metadata": {},
   "source": [
    "<div class=\"alert alert-info\">\n",
    "Спасибо! Никак не отвыкнуть от print после тренажёра. 😅\n",
    "<br>\n",
    "    Везде, где не нужно - уберу."
   ]
  },
  {
   "cell_type": "markdown",
   "metadata": {
    "id": "EO73Kwic_Zct"
   },
   "source": [
    "Одной командой получить общую информацию о таблице:"
   ]
  },
  {
   "cell_type": "code",
   "execution_count": 4,
   "metadata": {
    "id": "DSf2kIb-_Zct",
    "scrolled": true
   },
   "outputs": [
    {
     "name": "stdout",
     "output_type": "stream",
     "text": [
      "<class 'pandas.core.frame.DataFrame'>\n",
      "RangeIndex: 65079 entries, 0 to 65078\n",
      "Data columns (total 7 columns):\n",
      " #   Column    Non-Null Count  Dtype \n",
      "---  ------    --------------  ----- \n",
      " 0     userID  65079 non-null  object\n",
      " 1   Track     63848 non-null  object\n",
      " 2   artist    57876 non-null  object\n",
      " 3   genre     63881 non-null  object\n",
      " 4     City    65079 non-null  object\n",
      " 5   time      65079 non-null  object\n",
      " 6   Day       65079 non-null  object\n",
      "dtypes: object(7)\n",
      "memory usage: 3.5+ MB\n"
     ]
    }
   ],
   "source": [
    "df.info()"
   ]
  },
  {
   "cell_type": "markdown",
   "metadata": {},
   "source": [
    "<div class=\"alert alert-success\">\n",
    "✔️ Отличный выбор метода - info действительно показывает много информации о датафрейме. \n",
    "</div>"
   ]
  },
  {
   "cell_type": "markdown",
   "metadata": {
    "id": "TaQ2Iwbr_Zct"
   },
   "source": [
    "Итак, в таблице семь столбцов. Тип данных во всех столбцах — `object`.\n",
    "\n",
    "Согласно документации к данным:\n",
    "* `userID` — идентификатор пользователя;\n",
    "* `Track` — название трека;  \n",
    "* `artist` — имя исполнителя;\n",
    "* `genre` — название жанра;\n",
    "* `City` — город пользователя;\n",
    "* `time` — время начала прослушивания;\n",
    "* `Day` — день недели.\n",
    "\n",
    "В названиях колонок видны три нарушения стиля:\n",
    "1. Строчные буквы сочетаются с прописными.\n",
    "2. Встречаются пробелы.\n",
    "3. В названии одной из колонок не используется \"змеиный регистр\".\n",
    "\n",
    "\n",
    "\n",
    "Количество значений в столбцах различается. Значит, в данных есть пропущенные значения.\n"
   ]
  },
  {
   "cell_type": "markdown",
   "metadata": {},
   "source": [
    "<div class=\"alert alert-success\">\n",
    "✔️ Абсолютно правильный ответ на вопрос задания — не соблюден snake_case! \n",
    "</div>"
   ]
  },
  {
   "cell_type": "markdown",
   "metadata": {
    "id": "MCB6-dXG_Zct"
   },
   "source": [
    "**Выводы**\n",
    "\n",
    "В каждой строке таблицы — данные о прослушанном треке. Часть колонок описывает саму композицию: название, исполнителя и жанр. Остальные данные рассказывают о пользователе: из какого он города, когда он слушал музыку. \n",
    "\n",
    "Предварительно можно утверждать, что, данных достаточно для проверки гипотез. Но встречаются пропуски в данных, а в названиях колонок — расхождения с хорошим стилем.\n",
    "\n",
    "Чтобы двигаться дальше, нужно устранить проблемы в данных."
   ]
  },
  {
   "cell_type": "markdown",
   "metadata": {},
   "source": [
    "<div class=\"alert alert-success\">\n",
    "✔️ По шагу в целом могу сказать что код выполнен абсолютно верно.\n",
    "</div>"
   ]
  },
  {
   "cell_type": "markdown",
   "metadata": {
    "id": "SjYF6Ub9_Zct"
   },
   "source": [
    "## Предобработка данных\n",
    "Исправьте стиль в заголовках столбцов, исключите пропуски. Затем проверьте данные на дубликаты."
   ]
  },
  {
   "cell_type": "markdown",
   "metadata": {
    "id": "dIaKXr29_Zct"
   },
   "source": [
    "### Стиль заголовков\n",
    "Выведите на экран названия столбцов:"
   ]
  },
  {
   "cell_type": "code",
   "execution_count": 5,
   "metadata": {
    "id": "oKOTdF_Q_Zct"
   },
   "outputs": [
    {
     "data": {
      "text/plain": [
       "Index(['  userID', 'Track', 'artist', 'genre', '  City  ', 'time', 'Day'], dtype='object')"
      ]
     },
     "execution_count": 5,
     "metadata": {},
     "output_type": "execute_result"
    }
   ],
   "source": [
    "df.columns"
   ]
  },
  {
   "cell_type": "markdown",
   "metadata": {},
   "source": [
    "<div class=\"alert alert-warning\"> \n",
    "⚠️ Ну тут та же история с display() — необязателен"
   ]
  },
  {
   "cell_type": "markdown",
   "metadata": {
    "id": "FPZA3ki8xe7T"
   },
   "source": [
    "<div class=\"alert alert-info\"> \n",
    "    Удалил, спасибо!"
   ]
  },
  {
   "cell_type": "markdown",
   "metadata": {
    "id": "zj5534cv_Zct"
   },
   "source": [
    "Приведите названия в соответствие с хорошим стилем:\n",
    "* несколько слов в названии запишите в «змеином_регистре»,\n",
    "* все символы сделайте строчными,\n",
    "* устраните пробелы.\n",
    "\n",
    "Для этого переименуйте колонки так:\n",
    "* `'  userID'` → `'user_id'`;\n",
    "* `'Track'` → `'track'`;\n",
    "* `'  City  '` → `'city'`;\n",
    "* `'Day'` → `'day'`."
   ]
  },
  {
   "cell_type": "code",
   "execution_count": 6,
   "metadata": {
    "id": "ISlFqs5y_Zct"
   },
   "outputs": [],
   "source": [
    "df = df.rename(columns={\n",
    "'  userID' : 'user_id',\n",
    "'Track' : 'track',\n",
    "'  City  ' : 'city',\n",
    "'Day' : 'day'    \n",
    "}) "
   ]
  },
  {
   "cell_type": "markdown",
   "metadata": {},
   "source": [
    "<div class=\"alert alert-success\">\n",
    "✔️ Хороший выбор метода - rename сработает без ошибок, даже если изменится порядок столбцов.\n",
    "</div>"
   ]
  },
  {
   "cell_type": "markdown",
   "metadata": {
    "id": "1dqbh00J_Zct"
   },
   "source": [
    "Проверьте результат. Для этого ещё раз выведите на экран названия столбцов:"
   ]
  },
  {
   "cell_type": "code",
   "execution_count": 7,
   "metadata": {
    "id": "d4NOAmTW_Zct"
   },
   "outputs": [
    {
     "data": {
      "text/plain": [
       "Index(['user_id', 'track', 'artist', 'genre', 'city', 'time', 'day'], dtype='object')"
      ]
     },
     "execution_count": 7,
     "metadata": {},
     "output_type": "execute_result"
    }
   ],
   "source": [
    "df.columns"
   ]
  },
  {
   "cell_type": "markdown",
   "metadata": {},
   "source": [
    "<div class=\"alert alert-warning\"> \n",
    "⚠️ Тут тоже display(). Я буду писать каждый раз на всякий случай, что бы ты не потерялся и не запутался. Но буду писать коротко уже — display или print"
   ]
  },
  {
   "cell_type": "markdown",
   "metadata": {},
   "source": [
    "<div class=\"alert alert-info\"> \n",
    "    Удалил, спасибо!"
   ]
  },
  {
   "cell_type": "markdown",
   "metadata": {
    "id": "5ISfbcfY_Zct"
   },
   "source": [
    "### Пропуски значений\n",
    "Сначала посчитайте, сколько в таблице пропущенных значений. Для этого достаточно двух методов `pandas`:"
   ]
  },
  {
   "cell_type": "code",
   "execution_count": 8,
   "metadata": {
    "id": "RskX29qr_Zct"
   },
   "outputs": [
    {
     "data": {
      "text/plain": [
       "user_id       0\n",
       "track      1231\n",
       "artist     7203\n",
       "genre      1198\n",
       "city          0\n",
       "time          0\n",
       "day           0\n",
       "dtype: int64"
      ]
     },
     "execution_count": 8,
     "metadata": {},
     "output_type": "execute_result"
    }
   ],
   "source": [
    "df.isna().sum()"
   ]
  },
  {
   "cell_type": "markdown",
   "metadata": {},
   "source": [
    "<div class=\"alert alert-success\">\n",
    "✔️ Выбран метод isna() для нахождения пропущенных значений, это отлично! На самом деле, isnull() и isna() делают одно и то же, но использование isna() предпочтительнее.\n",
    "</div>"
   ]
  },
  {
   "cell_type": "markdown",
   "metadata": {
    "id": "qubhgnlO_Zct"
   },
   "source": [
    "Не все пропущенные значения влияют на исследование. Так в `track` и `artist` пропуски не важны для вашей работы. Достаточно заменить их явными обозначениями.\n",
    "\n",
    "Но пропуски в `genre` могут помешать сравнению музыкальных вкусов в Москве и Санкт-Петербурге. На практике было бы правильно установить причину пропусков и восстановить данные. Такой возможности нет в учебном проекте. Придётся:\n",
    "* заполнить и эти пропуски явными обозначениями,\n",
    "* оценить, насколько они повредят расчётам. "
   ]
  },
  {
   "cell_type": "markdown",
   "metadata": {
    "id": "fSv2laPA_Zct"
   },
   "source": [
    "Замените пропущенные значения в столбцах `track`, `artist` и `genre` на строку `'unknown'`. Для этого создайте список `columns_to_replace`, переберите его элементы циклом `for` и для каждого столбца выполните замену пропущенных значений:"
   ]
  },
  {
   "cell_type": "code",
   "execution_count": 9,
   "metadata": {
    "id": "KplB5qWs_Zct"
   },
   "outputs": [],
   "source": [
    "columns_to_replace = df.loc[:, 'track' : 'genre']\n",
    "\n",
    "for missing_data in columns_to_replace:\n",
    "     df[missing_data] = columns_to_replace[missing_data].fillna('unknown')"
   ]
  },
  {
   "cell_type": "markdown",
   "metadata": {},
   "source": [
    "<div class=\"alert alert-success\">\n",
    "✔️ Список `columns_to_replace` сформирован верно, цикл отработал без ошибок.\n",
    "</div>"
   ]
  },
  {
   "cell_type": "markdown",
   "metadata": {
    "id": "Ilsm-MZo_Zct"
   },
   "source": [
    "Убедитесь, что в таблице не осталось пропусков. Для этого ещё раз посчитайте пропущенные значения."
   ]
  },
  {
   "cell_type": "code",
   "execution_count": 10,
   "metadata": {
    "id": "Tq4nYRX4_Zct"
   },
   "outputs": [
    {
     "data": {
      "text/plain": [
       "user_id    0\n",
       "track      0\n",
       "artist     0\n",
       "genre      0\n",
       "city       0\n",
       "time       0\n",
       "day        0\n",
       "dtype: int64"
      ]
     },
     "execution_count": 10,
     "metadata": {},
     "output_type": "execute_result"
    }
   ],
   "source": [
    "df.isna().sum()"
   ]
  },
  {
   "cell_type": "markdown",
   "metadata": {
    "id": "BWKRtBJ3_Zct"
   },
   "source": [
    "### Дубликаты\n",
    "Посчитайте явные дубликаты в таблице одной командой:"
   ]
  },
  {
   "cell_type": "code",
   "execution_count": 11,
   "metadata": {
    "id": "36eES_S0_Zct"
   },
   "outputs": [
    {
     "data": {
      "text/plain": [
       "3826"
      ]
     },
     "execution_count": 11,
     "metadata": {},
     "output_type": "execute_result"
    }
   ],
   "source": [
    "df.duplicated().sum()"
   ]
  },
  {
   "cell_type": "markdown",
   "metadata": {},
   "source": [
    "<div class=\"alert alert-success\">\n",
    "✔️ Дубликаты верно найдены и посчитаны оптимальными методами.\n",
    "</div>"
   ]
  },
  {
   "cell_type": "markdown",
   "metadata": {
    "id": "Ot25h6XR_Zct"
   },
   "source": [
    "Вызовите специальный метод `pandas`, чтобы удалить явные дубликаты:"
   ]
  },
  {
   "cell_type": "code",
   "execution_count": 12,
   "metadata": {
    "id": "exFHq6tt_Zct"
   },
   "outputs": [],
   "source": [
    "df = df.drop_duplicates().reset_index(drop=True)"
   ]
  },
  {
   "cell_type": "markdown",
   "metadata": {},
   "source": [
    "<div class=\"alert alert-success\">\n",
    "✔️ Дубликаты удалены верными методами с верным параметром.\n",
    "</div>"
   ]
  },
  {
   "cell_type": "markdown",
   "metadata": {
    "id": "Im2YwBEG_Zct"
   },
   "source": [
    "Ещё раз посчитайте явные дубликаты в таблице — убедитесь, что полностью от них избавились:"
   ]
  },
  {
   "cell_type": "code",
   "execution_count": 13,
   "metadata": {
    "id": "-8PuNWQ0_Zct"
   },
   "outputs": [
    {
     "data": {
      "text/plain": [
       "0"
      ]
     },
     "execution_count": 13,
     "metadata": {},
     "output_type": "execute_result"
    }
   ],
   "source": [
    "df.duplicated().sum()"
   ]
  },
  {
   "cell_type": "markdown",
   "metadata": {
    "id": "QlFBsxAr_Zct"
   },
   "source": [
    "Теперь избавьтесь от неявных дубликатов в колонке `genre`. Например, название одного и того же жанра может быть записано немного по-разному. Такие ошибки тоже повлияют на результат исследования."
   ]
  },
  {
   "cell_type": "markdown",
   "metadata": {
    "id": "eSjWwsOh_Zct"
   },
   "source": [
    "Выведите на экран список уникальных названий жанров, отсортированный в алфавитном порядке. Для этого:\n",
    "* извлеките нужный столбец датафрейма, \n",
    "* примените к нему метод сортировки,\n",
    "* для отсортированного столбца вызовите метод, который вернёт уникальные значения из столбца."
   ]
  },
  {
   "cell_type": "code",
   "execution_count": 14,
   "metadata": {
    "id": "JIUcqzZN_Zct"
   },
   "outputs": [
    {
     "data": {
      "text/plain": [
       "array(['acid', 'acoustic', 'action', 'adult', 'africa', 'afrikaans',\n",
       "       'alternative', 'alternativepunk', 'ambient', 'americana',\n",
       "       'animated', 'anime', 'arabesk', 'arabic', 'arena',\n",
       "       'argentinetango', 'art', 'audiobook', 'author', 'avantgarde',\n",
       "       'axé', 'baile', 'balkan', 'beats', 'bigroom', 'black', 'bluegrass',\n",
       "       'blues', 'bollywood', 'bossa', 'brazilian', 'breakbeat', 'breaks',\n",
       "       'broadway', 'cantautori', 'cantopop', 'canzone', 'caribbean',\n",
       "       'caucasian', 'celtic', 'chamber', 'chanson', 'children', 'chill',\n",
       "       'chinese', 'choral', 'christian', 'christmas', 'classical',\n",
       "       'classicmetal', 'club', 'colombian', 'comedy', 'conjazz',\n",
       "       'contemporary', 'country', 'cuban', 'dance', 'dancehall',\n",
       "       'dancepop', 'dark', 'death', 'deep', 'deutschrock', 'deutschspr',\n",
       "       'dirty', 'disco', 'dnb', 'documentary', 'downbeat', 'downtempo',\n",
       "       'drum', 'dub', 'dubstep', 'eastern', 'easy', 'electronic',\n",
       "       'electropop', 'emo', 'entehno', 'epicmetal', 'estrada', 'ethnic',\n",
       "       'eurofolk', 'european', 'experimental', 'extrememetal', 'fado',\n",
       "       'fairytail', 'film', 'fitness', 'flamenco', 'folk', 'folklore',\n",
       "       'folkmetal', 'folkrock', 'folktronica', 'forró', 'frankreich',\n",
       "       'französisch', 'french', 'funk', 'future', 'gangsta', 'garage',\n",
       "       'german', 'ghazal', 'gitarre', 'glitch', 'gospel', 'gothic',\n",
       "       'grime', 'grunge', 'gypsy', 'handsup', \"hard'n'heavy\", 'hardcore',\n",
       "       'hardstyle', 'hardtechno', 'hip', 'hip-hop', 'hiphop',\n",
       "       'historisch', 'holiday', 'hop', 'horror', 'house', 'hymn', 'idm',\n",
       "       'independent', 'indian', 'indie', 'indipop', 'industrial',\n",
       "       'inspirational', 'instrumental', 'international', 'irish', 'jam',\n",
       "       'japanese', 'jazz', 'jewish', 'jpop', 'jungle', 'k-pop',\n",
       "       'karadeniz', 'karaoke', 'kayokyoku', 'korean', 'laiko', 'latin',\n",
       "       'latino', 'leftfield', 'local', 'lounge', 'loungeelectronic',\n",
       "       'lovers', 'malaysian', 'mandopop', 'marschmusik', 'meditative',\n",
       "       'mediterranean', 'melodic', 'metal', 'metalcore', 'mexican',\n",
       "       'middle', 'minimal', 'miscellaneous', 'modern', 'mood', 'mpb',\n",
       "       'muslim', 'native', 'neoklassik', 'neue', 'new', 'newage',\n",
       "       'newwave', 'nu', 'nujazz', 'numetal', 'oceania', 'old', 'opera',\n",
       "       'orchestral', 'other', 'piano', 'podcasts', 'pop', 'popdance',\n",
       "       'popelectronic', 'popeurodance', 'poprussian', 'post',\n",
       "       'posthardcore', 'postrock', 'power', 'progmetal', 'progressive',\n",
       "       'psychedelic', 'punjabi', 'punk', 'quebecois', 'ragga', 'ram',\n",
       "       'rancheras', 'rap', 'rave', 'reggae', 'reggaeton', 'regional',\n",
       "       'relax', 'religious', 'retro', 'rhythm', 'rnb', 'rnr', 'rock',\n",
       "       'rockabilly', 'rockalternative', 'rockindie', 'rockother',\n",
       "       'romance', 'roots', 'ruspop', 'rusrap', 'rusrock', 'russian',\n",
       "       'salsa', 'samba', 'scenic', 'schlager', 'self', 'sertanejo',\n",
       "       'shanson', 'shoegazing', 'showtunes', 'singer', 'ska', 'skarock',\n",
       "       'slow', 'smooth', 'soft', 'soul', 'soulful', 'sound', 'soundtrack',\n",
       "       'southern', 'specialty', 'speech', 'spiritual', 'sport',\n",
       "       'stonerrock', 'surf', 'swing', 'synthpop', 'synthrock',\n",
       "       'sängerportrait', 'tango', 'tanzorchester', 'taraftar', 'tatar',\n",
       "       'tech', 'techno', 'teen', 'thrash', 'top', 'traditional',\n",
       "       'tradjazz', 'trance', 'tribal', 'trip', 'triphop', 'tropical',\n",
       "       'türk', 'türkçe', 'ukrrock', 'unknown', 'urban', 'uzbek',\n",
       "       'variété', 'vi', 'videogame', 'vocal', 'western', 'world',\n",
       "       'worldbeat', 'ïîï', 'электроника'], dtype=object)"
      ]
     },
     "execution_count": 14,
     "metadata": {},
     "output_type": "execute_result"
    }
   ],
   "source": [
    "df['genre'].sort_values().unique()"
   ]
  },
  {
   "cell_type": "markdown",
   "metadata": {},
   "source": [
    "<div class=\"alert alert-warning\"> \n",
    "⚠️ 1. print();\n",
    "    <br>\n",
    "2. Список с названиями жанров отсортирован успешно. Но если нужно отсортировать датафрейм, то можно записать в одну строчку все: df['genre'].sort_values().unique()\n",
    "</div>"
   ]
  },
  {
   "cell_type": "markdown",
   "metadata": {},
   "source": [
    "<div class=\"alert alert-info\"> \n",
    "1. print() убрал, спасибо!\n",
    "    <br>\n",
    "    <br>\n",
    "2. Я так и сделал изначально, но меня почему-то смущало, что появляется слово \"array\" в начале, решил сделать списком. Сейчас поправил.\n",
    "</div>"
   ]
  },
  {
   "cell_type": "markdown",
   "metadata": {
    "id": "qej-Qmuo_Zct"
   },
   "source": [
    "Просмотрите список и найдите неявные дубликаты названия `hiphop`. Это могут быть названия с ошибками или альтернативные названия того же жанра.\n",
    "\n",
    "Вы увидите следующие неявные дубликаты:\n",
    "* *hip*,\n",
    "* *hop*,\n",
    "* *hip-hop*.\n",
    "\n",
    "Чтобы очистить от них таблицу, напишите функцию `replace_wrong_genres()` с двумя параметрами: \n",
    "* `wrong_genres` — список дубликатов,\n",
    "* `correct_genre` — строка с правильным значением.\n",
    "\n",
    "Функция должна исправить колонку `genre` в таблице `df`: заменить каждое значение из списка `wrong_genres` на значение из `correct_genre`."
   ]
  },
  {
   "cell_type": "code",
   "execution_count": 15,
   "metadata": {
    "id": "ErNDkmns_Zct"
   },
   "outputs": [],
   "source": [
    "def replace_wrong_genres(wrong_genres, correct_genre):\n",
    "    \n",
    "    for wrong_genres in wrong_genres:\n",
    "        df['genre'] = df['genre'].replace(wrong_genres, correct_genre)"
   ]
  },
  {
   "cell_type": "markdown",
   "metadata": {},
   "source": [
    "<div class=\"alert alert-success\">\n",
    "✔️  Функция написана верно!\n",
    "</div>"
   ]
  },
  {
   "cell_type": "markdown",
   "metadata": {
    "id": "aDoBJxbA_Zct"
   },
   "source": [
    "Вызовите `replace_wrong_genres()` и передайте ей такие аргументы, чтобы она устранила неявные дубликаты: вместо `hip`, `hop` и `hip-hop` в таблице должно быть значение `hiphop`:"
   ]
  },
  {
   "cell_type": "code",
   "execution_count": 16,
   "metadata": {
    "id": "YN5i2hpmSo09"
   },
   "outputs": [],
   "source": [
    "wrong = ['hip', 'hop', 'hip-hop']\n",
    "correct = 'hiphop'\n",
    "\n",
    "replace_wrong_genres(wrong, correct)"
   ]
  },
  {
   "cell_type": "markdown",
   "metadata": {
    "id": "zQKF16_RG15m"
   },
   "source": [
    "Проверьте, что заменили неправильные названия:\n",
    "\n",
    "*   hip\n",
    "*   hop\n",
    "*   hip-hop\n",
    "\n",
    "Выведите отсортированный список уникальных значений столбца `genre`:"
   ]
  },
  {
   "cell_type": "code",
   "execution_count": 17,
   "metadata": {
    "id": "wvixALnFG15m"
   },
   "outputs": [
    {
     "data": {
      "text/plain": [
       "array(['acid', 'acoustic', 'action', 'adult', 'africa', 'afrikaans',\n",
       "       'alternative', 'alternativepunk', 'ambient', 'americana',\n",
       "       'animated', 'anime', 'arabesk', 'arabic', 'arena',\n",
       "       'argentinetango', 'art', 'audiobook', 'author', 'avantgarde',\n",
       "       'axé', 'baile', 'balkan', 'beats', 'bigroom', 'black', 'bluegrass',\n",
       "       'blues', 'bollywood', 'bossa', 'brazilian', 'breakbeat', 'breaks',\n",
       "       'broadway', 'cantautori', 'cantopop', 'canzone', 'caribbean',\n",
       "       'caucasian', 'celtic', 'chamber', 'chanson', 'children', 'chill',\n",
       "       'chinese', 'choral', 'christian', 'christmas', 'classical',\n",
       "       'classicmetal', 'club', 'colombian', 'comedy', 'conjazz',\n",
       "       'contemporary', 'country', 'cuban', 'dance', 'dancehall',\n",
       "       'dancepop', 'dark', 'death', 'deep', 'deutschrock', 'deutschspr',\n",
       "       'dirty', 'disco', 'dnb', 'documentary', 'downbeat', 'downtempo',\n",
       "       'drum', 'dub', 'dubstep', 'eastern', 'easy', 'electronic',\n",
       "       'electropop', 'emo', 'entehno', 'epicmetal', 'estrada', 'ethnic',\n",
       "       'eurofolk', 'european', 'experimental', 'extrememetal', 'fado',\n",
       "       'fairytail', 'film', 'fitness', 'flamenco', 'folk', 'folklore',\n",
       "       'folkmetal', 'folkrock', 'folktronica', 'forró', 'frankreich',\n",
       "       'französisch', 'french', 'funk', 'future', 'gangsta', 'garage',\n",
       "       'german', 'ghazal', 'gitarre', 'glitch', 'gospel', 'gothic',\n",
       "       'grime', 'grunge', 'gypsy', 'handsup', \"hard'n'heavy\", 'hardcore',\n",
       "       'hardstyle', 'hardtechno', 'hiphop', 'historisch', 'holiday',\n",
       "       'horror', 'house', 'hymn', 'idm', 'independent', 'indian', 'indie',\n",
       "       'indipop', 'industrial', 'inspirational', 'instrumental',\n",
       "       'international', 'irish', 'jam', 'japanese', 'jazz', 'jewish',\n",
       "       'jpop', 'jungle', 'k-pop', 'karadeniz', 'karaoke', 'kayokyoku',\n",
       "       'korean', 'laiko', 'latin', 'latino', 'leftfield', 'local',\n",
       "       'lounge', 'loungeelectronic', 'lovers', 'malaysian', 'mandopop',\n",
       "       'marschmusik', 'meditative', 'mediterranean', 'melodic', 'metal',\n",
       "       'metalcore', 'mexican', 'middle', 'minimal', 'miscellaneous',\n",
       "       'modern', 'mood', 'mpb', 'muslim', 'native', 'neoklassik', 'neue',\n",
       "       'new', 'newage', 'newwave', 'nu', 'nujazz', 'numetal', 'oceania',\n",
       "       'old', 'opera', 'orchestral', 'other', 'piano', 'podcasts', 'pop',\n",
       "       'popdance', 'popelectronic', 'popeurodance', 'poprussian', 'post',\n",
       "       'posthardcore', 'postrock', 'power', 'progmetal', 'progressive',\n",
       "       'psychedelic', 'punjabi', 'punk', 'quebecois', 'ragga', 'ram',\n",
       "       'rancheras', 'rap', 'rave', 'reggae', 'reggaeton', 'regional',\n",
       "       'relax', 'religious', 'retro', 'rhythm', 'rnb', 'rnr', 'rock',\n",
       "       'rockabilly', 'rockalternative', 'rockindie', 'rockother',\n",
       "       'romance', 'roots', 'ruspop', 'rusrap', 'rusrock', 'russian',\n",
       "       'salsa', 'samba', 'scenic', 'schlager', 'self', 'sertanejo',\n",
       "       'shanson', 'shoegazing', 'showtunes', 'singer', 'ska', 'skarock',\n",
       "       'slow', 'smooth', 'soft', 'soul', 'soulful', 'sound', 'soundtrack',\n",
       "       'southern', 'specialty', 'speech', 'spiritual', 'sport',\n",
       "       'stonerrock', 'surf', 'swing', 'synthpop', 'synthrock',\n",
       "       'sängerportrait', 'tango', 'tanzorchester', 'taraftar', 'tatar',\n",
       "       'tech', 'techno', 'teen', 'thrash', 'top', 'traditional',\n",
       "       'tradjazz', 'trance', 'tribal', 'trip', 'triphop', 'tropical',\n",
       "       'türk', 'türkçe', 'ukrrock', 'unknown', 'urban', 'uzbek',\n",
       "       'variété', 'vi', 'videogame', 'vocal', 'western', 'world',\n",
       "       'worldbeat', 'ïîï', 'электроника'], dtype=object)"
      ]
     },
     "execution_count": 17,
     "metadata": {},
     "output_type": "execute_result"
    }
   ],
   "source": [
    "df['genre'].sort_values().unique()"
   ]
  },
  {
   "cell_type": "markdown",
   "metadata": {},
   "source": [
    "<div class=\"alert alert-warning\"> \n",
    "⚠️ То же самое:    <br>    <br>\n",
    "1. print();\n",
    "    <br>\n",
    "2. Список с названиями жанров отсортирован успешно. Но если нужно отсортировать датафрейм, то можно записать в одну строчку все: df['genre'].sort_values().unique()\n",
    "</div>"
   ]
  },
  {
   "cell_type": "markdown",
   "metadata": {},
   "source": [
    "<div class=\"alert alert-info\"> \n",
    "Также:\n",
    "    <br>\n",
    "    <br>\n",
    "1. print() убрал, спасибо!\n",
    "    <br>\n",
    "2. Поправил.\n",
    "</div>"
   ]
  },
  {
   "cell_type": "markdown",
   "metadata": {
    "id": "jz6a9-7HQUDd"
   },
   "source": [
    "**Выводы**\n",
    "\n",
    "Предобработка обнаружила три проблемы в данных:\n",
    "\n",
    "- нарушения в стиле заголовков,\n",
    "- пропущенные значения,\n",
    "- дубликаты — явные и неявные.\n",
    "\n",
    "Вы исправили заголовки, чтобы упростить работу с таблицей. Без дубликатов исследование станет более точным.\n",
    "\n",
    "Пропущенные значения вы заменили на `'unknown'`. Ещё предстоит увидеть, не повредят ли исследованию пропуски в колонке `genre`.\n",
    "\n",
    "Теперь можно перейти к проверке гипотез. "
   ]
  },
  {
   "cell_type": "markdown",
   "metadata": {},
   "source": [
    "<div class=\"alert alert-success\">\n",
    "✔️ По шагу в целом: вижу, что ты отлично владеешь методами и пишешь функции\n",
    "</div>"
   ]
  },
  {
   "cell_type": "markdown",
   "metadata": {
    "id": "WttZHXH0SqKk"
   },
   "source": [
    "## Проверка гипотез"
   ]
  },
  {
   "cell_type": "markdown",
   "metadata": {
    "id": "Im936VVi_Zcu"
   },
   "source": [
    "### Сравнение поведения пользователей двух столиц"
   ]
  },
  {
   "cell_type": "markdown",
   "metadata": {
    "id": "nwt_MuaL_Zcu"
   },
   "source": [
    "Первая гипотеза утверждает, что пользователи по-разному слушают музыку в Москве и Санкт-Петербурге. Проверьте это предположение по данным о трёх днях недели — понедельнике, среде и пятнице. Для этого:\n",
    "\n",
    "* Разделите пользователей Москвы и Санкт-Петербурга\n",
    "* Сравните, сколько треков послушала каждая группа пользователей в понедельник, среду и пятницу.\n"
   ]
  },
  {
   "cell_type": "markdown",
   "metadata": {
    "id": "8Dw_YMmT_Zcu"
   },
   "source": [
    "Для тренировки сначала выполните каждый из расчётов по отдельности. \n",
    "\n",
    "Оцените активность пользователей в каждом городе. Сгруппируйте данные по городу и посчитайте прослушивания в каждой группе.\n",
    "\n"
   ]
  },
  {
   "cell_type": "code",
   "execution_count": 18,
   "metadata": {
    "id": "0_Qs96oh_Zcu"
   },
   "outputs": [
    {
     "data": {
      "text/plain": [
       "city\n",
       "Moscow              42741\n",
       "Saint-Petersburg    18512\n",
       "Name: city, dtype: int64"
      ]
     },
     "execution_count": 18,
     "metadata": {},
     "output_type": "execute_result"
    }
   ],
   "source": [
    "# df_grouped = df.groupby('city').count()\n",
    "\n",
    "df_grouped = df.groupby('city')['city'].count()\n",
    "\n",
    "df_grouped"
   ]
  },
  {
   "cell_type": "markdown",
   "metadata": {},
   "source": [
    "<div class=\"alert alert-success\">\n",
    "✔️❌ Необходимо было сгруппировать данные по столбцу с городами city. То есть не хватает указания еще одного столбца, покоторому будет считать .count()"
   ]
  },
  {
   "cell_type": "markdown",
   "metadata": {},
   "source": [
    "<div class=\"alert alert-warning\"> \n",
    "⚠️ print() "
   ]
  },
  {
   "cell_type": "markdown",
   "metadata": {},
   "source": [
    "<div class=\"alert alert-info\"> \n",
    "1. Добавил индекс столбца, надеюсь я правильно понял замечание. На всякий случай оставил изначальную строчку кода закомментированной.\n",
    "    <br>\n",
    "    <br>\n",
    "2. print() убрал, спасибо!    "
   ]
  },
  {
   "cell_type": "markdown",
   "metadata": {},
   "source": [
    "<div class=\"alert alert-success\">\n",
    "<b>Комментарий ревьюера v2</b>    <br>\n",
    "✔️ Да, все верно)"
   ]
  },
  {
   "cell_type": "markdown",
   "metadata": {
    "id": "dzli3w8o_Zcu"
   },
   "source": [
    "В Москве прослушиваний больше, чем в Петербурге. Из этого не следует, что московские пользователи чаще слушают музыку. Просто самих пользователей в Москве больше.\n",
    "\n",
    "Теперь сгруппируйте данные по дню недели и подсчитайте прослушивания в понедельник, среду и пятницу. Учтите, что в данных есть информация о прослушиваниях только за эти дни.\n"
   ]
  },
  {
   "cell_type": "code",
   "execution_count": 19,
   "metadata": {
    "id": "uZMKjiJz_Zcu"
   },
   "outputs": [
    {
     "data": {
      "text/plain": [
       "day\n",
       "Friday       21840\n",
       "Monday       21354\n",
       "Wednesday    18059\n",
       "Name: day, dtype: int64"
      ]
     },
     "execution_count": 19,
     "metadata": {},
     "output_type": "execute_result"
    }
   ],
   "source": [
    "#df_grouped = df.groupby('day').count()\n",
    "\n",
    "df_grouped = df.groupby('day')['day'].count()\n",
    "\n",
    "df_grouped"
   ]
  },
  {
   "cell_type": "markdown",
   "metadata": {},
   "source": [
    "<div class=\"alert alert-success\">\n",
    "✔️❌ То же самое)"
   ]
  },
  {
   "cell_type": "markdown",
   "metadata": {},
   "source": [
    "<div class=\"alert alert-warning\"> \n",
    "⚠️ print() "
   ]
  },
  {
   "cell_type": "markdown",
   "metadata": {},
   "source": [
    "<div class=\"alert alert-info\">\n",
    "    Тут так же:\n",
    "    <br>\n",
    "    <br>\n",
    "1. Добавил индекс столбца, на всякий случай оставил изначальную строчку кода закомментированной.\n",
    "    <br>\n",
    "    <br>\n",
    "2. print() убрал, спасибо!  "
   ]
  },
  {
   "cell_type": "markdown",
   "metadata": {},
   "source": [
    "<div class=\"alert alert-success\">\n",
    "<b>Комментарий ревьюера v2</b>    <br>\n",
    "✔️ Исправлено"
   ]
  },
  {
   "cell_type": "markdown",
   "metadata": {
    "id": "cC2tNrlL_Zcu"
   },
   "source": [
    "В среднем пользователи из двух городов менее активны по средам. Но картина может измениться, если рассмотреть каждый город в отдельности."
   ]
  },
  {
   "cell_type": "markdown",
   "metadata": {
    "id": "POzs8bGa_Zcu"
   },
   "source": [
    "Вы видели, как работает группировка по городу и по дням недели. Теперь напишите функцию, которая объединит два эти расчёта.\n",
    "\n",
    "Создайте функцию `number_tracks()`, которая посчитает прослушивания для заданного дня и города. Ей понадобятся два параметра:\n",
    "* день недели,\n",
    "* название города.\n",
    "\n",
    "В функции сохраните в переменную строки исходной таблицы, у которых значение:\n",
    "  * в колонке `day` равно параметру `day`,\n",
    "  * в колонке `city` равно параметру `city`.\n",
    "\n",
    "Для этого примените последовательную фильтрацию с логической индексацией.\n",
    "\n",
    "Затем посчитайте значения в столбце `user_id` получившейся таблицы. Результат сохраните в новую переменную. Верните эту переменную из функции."
   ]
  },
  {
   "cell_type": "code",
   "execution_count": 20,
   "metadata": {
    "id": "Nz3GdQB1_Zcu"
   },
   "outputs": [],
   "source": [
    "def number_tracks(day, city):\n",
    "    \n",
    "    track_list =  df[df['day'] == day]\n",
    "    track_list = track_list[track_list['city'] == city]\n",
    "    track_list_count = track_list['user_id'].count()\n",
    "    \n",
    "    return track_list_count    \n",
    "\n",
    "\n",
    "# Функция для подсчёта прослушиваний для конкретного города и дня.\n",
    "# С помощью последовательной фильтрации с логической индексацией она \n",
    "# сначала получит из исходной таблицы строки с нужным днём,\n",
    "# затем из результата отфильтрует строки с нужным городом,\n",
    "# методом count() посчитает количество значений в колонке user_id. \n",
    "# Это количество функция вернёт в качестве результата"
   ]
  },
  {
   "cell_type": "markdown",
   "metadata": {},
   "source": [
    "<div class=\"alert alert-success\">\n",
    "✔️ Твоя функция полностью выполняет свои задачи\n",
    "</div>"
   ]
  },
  {
   "cell_type": "markdown",
   "metadata": {
    "id": "ytf7xFrFJQ2r"
   },
   "source": [
    "Вызовите `number_tracks()` шесть раз, меняя значение параметров — так, чтобы получить данные для каждого города в каждый из трёх дней."
   ]
  },
  {
   "cell_type": "code",
   "execution_count": 21,
   "metadata": {
    "id": "rJcRATNQ_Zcu"
   },
   "outputs": [
    {
     "data": {
      "text/plain": [
       "15740"
      ]
     },
     "execution_count": 21,
     "metadata": {},
     "output_type": "execute_result"
    }
   ],
   "source": [
    "number_tracks('Monday', 'Moscow') # количество прослушиваний в Москве по понедельникам"
   ]
  },
  {
   "cell_type": "code",
   "execution_count": 22,
   "metadata": {
    "id": "hq_ncZ5T_Zcu"
   },
   "outputs": [
    {
     "data": {
      "text/plain": [
       "5614"
      ]
     },
     "execution_count": 22,
     "metadata": {},
     "output_type": "execute_result"
    }
   ],
   "source": [
    "number_tracks('Monday', 'Saint-Petersburg') # количество прослушиваний в Санкт-Петербурге по понедельникам"
   ]
  },
  {
   "cell_type": "code",
   "execution_count": 23,
   "metadata": {
    "id": "_NTy2VPU_Zcu"
   },
   "outputs": [
    {
     "data": {
      "text/plain": [
       "11056"
      ]
     },
     "execution_count": 23,
     "metadata": {},
     "output_type": "execute_result"
    }
   ],
   "source": [
    "number_tracks('Wednesday', 'Moscow') # количество прослушиваний в Москве по средам"
   ]
  },
  {
   "cell_type": "code",
   "execution_count": 24,
   "metadata": {
    "id": "j2y3TAwo_Zcu"
   },
   "outputs": [
    {
     "data": {
      "text/plain": [
       "7003"
      ]
     },
     "execution_count": 24,
     "metadata": {},
     "output_type": "execute_result"
    }
   ],
   "source": [
    "number_tracks('Wednesday', 'Saint-Petersburg') # количество прослушиваний в Санкт-Петербурге по средам"
   ]
  },
  {
   "cell_type": "code",
   "execution_count": 25,
   "metadata": {
    "id": "vYDw5u_K_Zcu"
   },
   "outputs": [
    {
     "data": {
      "text/plain": [
       "15945"
      ]
     },
     "execution_count": 25,
     "metadata": {},
     "output_type": "execute_result"
    }
   ],
   "source": [
    "number_tracks('Friday', 'Moscow') # количество прослушиваний в Москве по пятницам"
   ]
  },
  {
   "cell_type": "code",
   "execution_count": 26,
   "metadata": {
    "id": "8_yzFtW3_Zcu"
   },
   "outputs": [
    {
     "data": {
      "text/plain": [
       "5895"
      ]
     },
     "execution_count": 26,
     "metadata": {},
     "output_type": "execute_result"
    }
   ],
   "source": [
    "number_tracks('Friday', 'Saint-Petersburg') # количество прослушиваний в Санкт-Петербурге по пятницам"
   ]
  },
  {
   "cell_type": "markdown",
   "metadata": {
    "id": "7QXffbO-_Zcu"
   },
   "source": [
    "Создайте c помощью конструктора `pd.DataFrame` таблицу, где\n",
    "* названия колонок — `['city', 'monday', 'wednesday', 'friday']`;\n",
    "* данные — результаты, которые вы получили с помощью `number_tracks`."
   ]
  },
  {
   "cell_type": "code",
   "execution_count": 27,
   "metadata": {
    "id": "APAcLpOr_Zcu"
   },
   "outputs": [
    {
     "data": {
      "text/html": [
       "<div>\n",
       "<style scoped>\n",
       "    .dataframe tbody tr th:only-of-type {\n",
       "        vertical-align: middle;\n",
       "    }\n",
       "\n",
       "    .dataframe tbody tr th {\n",
       "        vertical-align: top;\n",
       "    }\n",
       "\n",
       "    .dataframe thead th {\n",
       "        text-align: right;\n",
       "    }\n",
       "</style>\n",
       "<table border=\"1\" class=\"dataframe\">\n",
       "  <thead>\n",
       "    <tr style=\"text-align: right;\">\n",
       "      <th></th>\n",
       "      <th>city</th>\n",
       "      <th>monday</th>\n",
       "      <th>wednesday</th>\n",
       "      <th>friday</th>\n",
       "    </tr>\n",
       "  </thead>\n",
       "  <tbody>\n",
       "    <tr>\n",
       "      <th>0</th>\n",
       "      <td>Moscow</td>\n",
       "      <td>15740</td>\n",
       "      <td>11056</td>\n",
       "      <td>15954</td>\n",
       "    </tr>\n",
       "    <tr>\n",
       "      <th>1</th>\n",
       "      <td>Saint-Petersburg</td>\n",
       "      <td>5614</td>\n",
       "      <td>7003</td>\n",
       "      <td>5895</td>\n",
       "    </tr>\n",
       "  </tbody>\n",
       "</table>\n",
       "</div>"
      ],
      "text/plain": [
       "               city  monday  wednesday  friday\n",
       "0            Moscow   15740      11056   15954\n",
       "1  Saint-Petersburg    5614       7003    5895"
      ]
     },
     "execution_count": 27,
     "metadata": {},
     "output_type": "execute_result"
    }
   ],
   "source": [
    "data = ['Moscow', 15740, 11056, 15954], ['Saint-Petersburg', 5614, 7003, 5895]\n",
    "columns = ['city', 'monday', 'wednesday', 'friday']\n",
    "pd.DataFrame(data=data, columns=columns)"
   ]
  },
  {
   "cell_type": "markdown",
   "metadata": {},
   "source": [
    "<div class=\"alert alert-success\">\n",
    "✔️ Таблица создана верно\n",
    "</div>"
   ]
  },
  {
   "cell_type": "markdown",
   "metadata": {
    "id": "-EgPIHYu_Zcu"
   },
   "source": [
    "**Выводы**\n",
    "\n",
    "Данные показывают разницу поведения пользователей:\n",
    "\n",
    "- В Москве пик прослушиваний приходится на понедельник и пятницу, а в среду заметен спад.\n",
    "- В Петербурге, наоборот, больше слушают музыку по средам. Активность в понедельник и пятницу здесь почти в равной мере уступает среде.\n",
    "\n",
    "Значит, данные говорят в пользу первой гипотезы."
   ]
  },
  {
   "cell_type": "markdown",
   "metadata": {
    "id": "atZAxtq4_Zcu"
   },
   "source": [
    "### Музыка в начале и в конце недели"
   ]
  },
  {
   "cell_type": "markdown",
   "metadata": {
    "id": "eXrQqXFH_Zcu"
   },
   "source": [
    "Согласно второй гипотезе, утром в понедельник в Москве преобладают одни жанры, а в Петербурге — другие. Так же и вечером пятницы преобладают разные жанры — в зависимости от города."
   ]
  },
  {
   "cell_type": "markdown",
   "metadata": {
    "id": "S8UcW6Hw_Zcu"
   },
   "source": [
    "Сохраните таблицы с данными в две переменные:\n",
    "* по Москве — в `moscow_general`;\n",
    "* по Санкт-Петербургу — в `spb_general`."
   ]
  },
  {
   "cell_type": "code",
   "execution_count": 28,
   "metadata": {
    "id": "qeaFfM_P_Zcu"
   },
   "outputs": [],
   "source": [
    "moscow_general = df[df['city'] == 'Moscow'] "
   ]
  },
  {
   "cell_type": "code",
   "execution_count": 29,
   "metadata": {
    "id": "ORaVRKto_Zcu"
   },
   "outputs": [],
   "source": [
    "spb_general = df[df['city'] == 'Saint-Petersburg']"
   ]
  },
  {
   "cell_type": "markdown",
   "metadata": {
    "id": "MEJV-CX2_Zcu"
   },
   "source": [
    "Создайте функцию `genre_weekday()` с четырьмя параметрами:\n",
    "* таблица (датафрейм) с данными,\n",
    "* день недели,\n",
    "* начальная временная метка в формате 'hh:mm', \n",
    "* последняя временная метка в формате 'hh:mm'.\n",
    "\n",
    "Функция должна вернуть информацию о топ-10 жанров тех треков, которые прослушивали в указанный день, в промежутке между двумя отметками времени."
   ]
  },
  {
   "cell_type": "code",
   "execution_count": 30,
   "metadata": {
    "id": "laJT9BYl_Zcu"
   },
   "outputs": [],
   "source": [
    "def genre_weekday(table, day, time1, time2):\n",
    "    \n",
    "    genre_df = table[table['day'] == day]\n",
    "    genre_df = genre_df[genre_df['time'] > time1]\n",
    "    genre_df = genre_df[genre_df['time'] < time2]\n",
    "    genre_df_count = genre_df.groupby('genre')['genre'].count()\n",
    "    genre_df_sorted = genre_df_count.sort_values(ascending=False)\n",
    "    \n",
    "    return genre_df_sorted.head(10)"
   ]
  },
  {
   "cell_type": "markdown",
   "metadata": {},
   "source": [
    "<div class=\"alert alert-success\">\n",
    "✔️ Функция написана верно\n",
    "</div>"
   ]
  },
  {
   "cell_type": "markdown",
   "metadata": {
    "id": "la2s2_PF_Zcu"
   },
   "source": [
    "Cравните результаты функции `genre_weekday()` для Москвы и Санкт-Петербурга в понедельник утром (с 7:00 до 11:00) и в пятницу вечером (с 17:00 до 23:00):"
   ]
  },
  {
   "cell_type": "code",
   "execution_count": 31,
   "metadata": {
    "id": "yz7itPUQ_Zcu"
   },
   "outputs": [
    {
     "data": {
      "text/plain": [
       "genre\n",
       "pop            781\n",
       "dance          549\n",
       "electronic     480\n",
       "rock           474\n",
       "hiphop         286\n",
       "ruspop         186\n",
       "world          181\n",
       "rusrap         175\n",
       "alternative    164\n",
       "unknown        161\n",
       "Name: genre, dtype: int64"
      ]
     },
     "execution_count": 31,
     "metadata": {},
     "output_type": "execute_result"
    }
   ],
   "source": [
    "genre_weekday(moscow_general, 'Monday', '07:00', '11:00')"
   ]
  },
  {
   "cell_type": "code",
   "execution_count": 32,
   "metadata": {
    "id": "kwUcHPdy_Zcu"
   },
   "outputs": [
    {
     "data": {
      "text/plain": [
       "genre\n",
       "pop            218\n",
       "dance          182\n",
       "rock           162\n",
       "electronic     147\n",
       "hiphop          80\n",
       "ruspop          64\n",
       "alternative     58\n",
       "rusrap          55\n",
       "jazz            44\n",
       "classical       40\n",
       "Name: genre, dtype: int64"
      ]
     },
     "execution_count": 32,
     "metadata": {},
     "output_type": "execute_result"
    }
   ],
   "source": [
    "genre_weekday(spb_general, 'Monday', '07:00', '11:00')"
   ]
  },
  {
   "cell_type": "code",
   "execution_count": 33,
   "metadata": {
    "id": "EzXVRE1o_Zcu"
   },
   "outputs": [
    {
     "data": {
      "text/plain": [
       "genre\n",
       "pop            713\n",
       "rock           517\n",
       "dance          495\n",
       "electronic     482\n",
       "hiphop         273\n",
       "world          208\n",
       "ruspop         170\n",
       "alternative    163\n",
       "classical      163\n",
       "rusrap         142\n",
       "Name: genre, dtype: int64"
      ]
     },
     "execution_count": 33,
     "metadata": {},
     "output_type": "execute_result"
    }
   ],
   "source": [
    "genre_weekday(moscow_general, 'Friday', '17:00', '23:00')"
   ]
  },
  {
   "cell_type": "code",
   "execution_count": 34,
   "metadata": {
    "id": "JZaEKu5v_Zcu"
   },
   "outputs": [
    {
     "data": {
      "text/plain": [
       "genre\n",
       "pop            256\n",
       "electronic     216\n",
       "rock           216\n",
       "dance          210\n",
       "hiphop          97\n",
       "alternative     63\n",
       "jazz            61\n",
       "classical       60\n",
       "rusrap          59\n",
       "world           54\n",
       "Name: genre, dtype: int64"
      ]
     },
     "execution_count": 34,
     "metadata": {},
     "output_type": "execute_result"
    }
   ],
   "source": [
    "genre_weekday(spb_general, 'Friday', '17:00', '23:00')"
   ]
  },
  {
   "cell_type": "markdown",
   "metadata": {
    "id": "wrCe4MNX_Zcu"
   },
   "source": [
    "**Выводы**\n",
    "\n",
    "Если сравнить топ-10 жанров в понедельник утром, можно сделать такие выводы:\n",
    "\n",
    "1. В Москве и Петербурге слушают похожую музыку. Единственное отличие — в московский рейтинг вошёл жанр “world”, а в петербургский — джаз и классика.\n",
    "\n",
    "2. В Москве пропущенных значений оказалось так много, что значение `'unknown'` заняло десятое место среди самых популярных жанров. Значит, пропущенные значения занимают существенную долю в данных и угрожают достоверности исследования.\n",
    "\n",
    "Вечер пятницы не меняет эту картину. Некоторые жанры поднимаются немного выше, другие спускаются, но в целом топ-10 остаётся тем же самым.\n",
    "\n",
    "Таким образом, вторая гипотеза подтвердилась лишь частично:\n",
    "* Пользователи слушают похожую музыку в начале недели и в конце.\n",
    "* Разница между Москвой и Петербургом не слишком выражена. В Москве чаще слушают русскую популярную музыку, в Петербурге — джаз.\n",
    "\n",
    "Однако пропуски в данных ставят под сомнение этот результат. В Москве их так много, что рейтинг топ-10 мог бы выглядеть иначе, если бы не утерянные  данные о жанрах."
   ]
  },
  {
   "cell_type": "markdown",
   "metadata": {
    "id": "JolODAqr_Zcu"
   },
   "source": [
    "### Жанровые предпочтения в Москве и Петербурге\n",
    "\n",
    "Гипотеза: Петербург — столица рэпа, музыку этого жанра там слушают чаще, чем в Москве.  А Москва — город контрастов, в котором, тем не менее, преобладает поп-музыка."
   ]
  },
  {
   "cell_type": "markdown",
   "metadata": {
    "id": "DlegSvaT_Zcu"
   },
   "source": [
    "Сгруппируйте таблицу `moscow_general` по жанру и посчитайте прослушивания треков каждого жанра методом `count()`. Затем отсортируйте результат в порядке убывания и сохраните его в таблице `moscow_genres`."
   ]
  },
  {
   "cell_type": "code",
   "execution_count": 35,
   "metadata": {
    "id": "r19lIPke_Zcu"
   },
   "outputs": [],
   "source": [
    "moscow_genres = moscow_general.groupby('genre')['genre'].count().sort_values(ascending=False) "
   ]
  },
  {
   "cell_type": "markdown",
   "metadata": {
    "id": "6kMuomxTiIr8"
   },
   "source": [
    "Выведите на экран первые десять строк `moscow_genres`:"
   ]
  },
  {
   "cell_type": "code",
   "execution_count": 36,
   "metadata": {
    "id": "WhCSooF8_Zcv"
   },
   "outputs": [
    {
     "data": {
      "text/plain": [
       "genre\n",
       "pop            5892\n",
       "dance          4435\n",
       "rock           3965\n",
       "electronic     3786\n",
       "hiphop         2096\n",
       "classical      1616\n",
       "world          1432\n",
       "alternative    1379\n",
       "ruspop         1372\n",
       "rusrap         1161\n",
       "Name: genre, dtype: int64"
      ]
     },
     "execution_count": 36,
     "metadata": {},
     "output_type": "execute_result"
    }
   ],
   "source": [
    "moscow_genres.head(10)"
   ]
  },
  {
   "cell_type": "markdown",
   "metadata": {},
   "source": [
    "<div class=\"alert alert-success\">\n",
    "✔️ Данные по Москве получены\n",
    "</div>"
   ]
  },
  {
   "cell_type": "markdown",
   "metadata": {},
   "source": [
    "<div class=\"alert alert-warning\"> \n",
    "⚠️ display()"
   ]
  },
  {
   "cell_type": "markdown",
   "metadata": {},
   "source": [
    "<div class=\"alert alert-info\"> \n",
    "    dispay() убрал, спасибо!"
   ]
  },
  {
   "cell_type": "markdown",
   "metadata": {
    "id": "cnPG2vnN_Zcv"
   },
   "source": [
    "Теперь повторите то же и для Петербурга.\n",
    "\n",
    "Сгруппируйте таблицу `spb_general` по жанру. Посчитайте прослушивания треков каждого жанра. Результат отсортируйте в порядке убывания и сохраните в таблице `spb_genres`:\n"
   ]
  },
  {
   "cell_type": "code",
   "execution_count": 37,
   "metadata": {
    "id": "gluLIpE7_Zcv"
   },
   "outputs": [],
   "source": [
    "spb_genres = spb_general.groupby('genre')['genre'].count().sort_values(ascending=False)"
   ]
  },
  {
   "cell_type": "markdown",
   "metadata": {
    "id": "5Doha_ODgyQ8"
   },
   "source": [
    "Выведите на экран первые десять строк `spb_genres`:"
   ]
  },
  {
   "cell_type": "code",
   "execution_count": 38,
   "metadata": {
    "id": "uaGJHjVU_Zcv"
   },
   "outputs": [
    {
     "data": {
      "text/plain": [
       "genre\n",
       "pop            2431\n",
       "dance          1932\n",
       "rock           1879\n",
       "electronic     1736\n",
       "hiphop          960\n",
       "alternative     649\n",
       "classical       646\n",
       "rusrap          564\n",
       "ruspop          538\n",
       "world           515\n",
       "Name: genre, dtype: int64"
      ]
     },
     "execution_count": 38,
     "metadata": {},
     "output_type": "execute_result"
    }
   ],
   "source": [
    "spb_genres.head(10)"
   ]
  },
  {
   "cell_type": "markdown",
   "metadata": {},
   "source": [
    "<div class=\"alert alert-success\">\n",
    "✔️ Данные по Питеру у нас тоже есть.\n",
    "</div>"
   ]
  },
  {
   "cell_type": "markdown",
   "metadata": {},
   "source": [
    "<div class=\"alert alert-warning\"> \n",
    "⚠️ display()"
   ]
  },
  {
   "cell_type": "markdown",
   "metadata": {},
   "source": [
    "<div class=\"alert alert-info\"> \n",
    "    dispay() убрал, спасибо!"
   ]
  },
  {
   "cell_type": "markdown",
   "metadata": {
    "id": "RY51YJYu_Zcv"
   },
   "source": [
    "**Выводы**"
   ]
  },
  {
   "cell_type": "markdown",
   "metadata": {
    "id": "nVhnJEm__Zcv"
   },
   "source": [
    "Гипотеза частично подтвердилась:\n",
    "* Поп-музыка — самый популярный жанр в Москве, как и предполагала гипотеза. Более того, в топ-10 жанров встречается близкий жанр — русская популярная музыка.\n",
    "* Вопреки ожиданиям, рэп одинаково популярен в Москве и Петербурге. \n"
   ]
  },
  {
   "cell_type": "markdown",
   "metadata": {},
   "source": [
    "<div class=\"alert alert-success\">\n",
    "✔️ В целом шаг выполнен хорошо. Сделана большая работа! Прошу еще так же обратить внимание на выводы и опираться на такой пример в будущих проектах, так как хорошие выводы и промежуточные — очень важно и выделяют хорошую работу. \n",
    "</div>"
   ]
  },
  {
   "cell_type": "markdown",
   "metadata": {
    "id": "ykKQ0N65_Zcv"
   },
   "source": [
    "## Итоги исследования"
   ]
  },
  {
   "cell_type": "markdown",
   "metadata": {
    "id": "tjUwbHb3_Zcv"
   },
   "source": [
    "Вы проверили три гипотезы и установили:\n",
    "\n",
    "1. День недели по-разному влияет на активность пользователей в Москве и Петербурге. \n",
    "\n",
    "Первая гипотеза полностью подтвердилась.\n",
    "\n",
    "2. Музыкальные предпочтения не сильно меняются в течение недели — будь то Москва или Петербург. Небольшие различия заметны в начале недели, по понедельникам:\n",
    "* в Москве слушают музыку жанра “world”,\n",
    "* в Петербурге — джаз и классику.\n",
    "\n",
    "Таким образом, вторая гипотеза подтвердилась лишь отчасти. Этот результат мог оказаться иным, если бы не пропуски в данных.\n",
    "\n",
    "3. Во вкусах пользователей Москвы и Петербурга больше общего чем различий. Вопреки ожиданиям, предпочтения жанров в Петербурге напоминают московские.\n",
    "\n",
    "Третья гипотеза не подтвердилась. Если различия в предпочтениях и существуют, на основной массе пользователей они незаметны.\n",
    "\n",
    "**На практике исследования содержат проверки статистических гипотез.**\n",
    "Из данных одного сервиса не всегда можно сделать вывод о всех жителях города.\n",
    "Проверки статистических гипотез покажут, насколько они достоверны, исходя из имеющихся данных. \n",
    "С методами проверок гипотез вы ещё познакомитесь в следующих темах."
   ]
  },
  {
   "cell_type": "markdown",
   "metadata": {},
   "source": [
    "<div class=\"alert alert-success\">\n",
    "Выводы, как общий, так и промежуточные, является важным элементом проводимого анализа. В итоговом выводе мы описываем основные итоги работы. Поэтому не забывай уделять им особое внимание в последующих проектах. \n",
    "</div>"
   ]
  },
  {
   "cell_type": "markdown",
   "metadata": {},
   "source": [
    "<div class=\"alert alert-info\"> <p2>\n",
    "Работа хороша! Я вижу, что ты хорошо разбираешься в теме. Ты показываешь хорошее владение всем изучаемым в модуле материалом. Осталась одна небольшааая доработка:\n",
    "\n",
    "1. Указать еще столбец при группировке\n",
    "    \n",
    "Жду твоих исправлений :)\n",
    "</p2>\n",
    "</div>"
   ]
  },
  {
   "cell_type": "markdown",
   "metadata": {},
   "source": [
    "<div class=\"alert alert-warning\"> \n",
    "    Кристина, спасибо большое ещё раз! Надеюсь ничего не упустил. Буду очень рад снова сойтись на следующих проектах! (Если с этим, конечно, всё хорошо. 😅)"
   ]
  },
  {
   "cell_type": "markdown",
   "metadata": {},
   "source": [
    "<div class=\"alert alert-info\">\n",
    "<b>Комментарий ревьюера v2</b>    <br>\n",
    "Да, с этим все супер) Спасибо за такие внимательные исправления и совместную работу в целом, было приятно поработать! У тебя очень хорошо получилось справиться с проектом! Желаю тебе успехов в стараниях и уверена что у тебя все получится! Старт отличный:)\n",
    "</div>"
   ]
  },
  {
   "cell_type": "code",
   "execution_count": null,
   "metadata": {},
   "outputs": [],
   "source": []
  }
 ],
 "metadata": {
  "ExecuteTimeLog": [
   {
    "duration": 45,
    "start_time": "2022-03-30T10:41:28.743Z"
   },
   {
    "duration": 156,
    "start_time": "2022-03-30T10:41:38.695Z"
   },
   {
    "duration": 5,
    "start_time": "2022-03-30T10:41:56.344Z"
   },
   {
    "duration": 6,
    "start_time": "2022-03-30T10:42:13.132Z"
   },
   {
    "duration": 419,
    "start_time": "2022-03-30T10:43:05.433Z"
   },
   {
    "duration": 96,
    "start_time": "2022-03-30T10:43:08.158Z"
   },
   {
    "duration": 161,
    "start_time": "2022-03-30T10:43:32.751Z"
   },
   {
    "duration": 9,
    "start_time": "2022-03-30T10:43:38.434Z"
   },
   {
    "duration": 52,
    "start_time": "2022-03-30T10:43:58.063Z"
   },
   {
    "duration": 4,
    "start_time": "2022-03-30T10:54:13.372Z"
   },
   {
    "duration": 3,
    "start_time": "2022-03-30T10:59:00.181Z"
   },
   {
    "duration": 366,
    "start_time": "2022-04-10T18:12:29.507Z"
   },
   {
    "duration": 141,
    "start_time": "2022-04-10T18:12:29.875Z"
   },
   {
    "duration": 16,
    "start_time": "2022-04-10T18:12:30.018Z"
   },
   {
    "duration": 26,
    "start_time": "2022-04-10T18:12:30.036Z"
   },
   {
    "duration": 18,
    "start_time": "2022-04-10T18:12:30.063Z"
   },
   {
    "duration": 18,
    "start_time": "2022-04-10T18:12:30.082Z"
   },
   {
    "duration": 8,
    "start_time": "2022-04-10T18:12:30.102Z"
   },
   {
    "duration": 27,
    "start_time": "2022-04-10T18:12:30.111Z"
   },
   {
    "duration": 18,
    "start_time": "2022-04-10T18:12:30.139Z"
   },
   {
    "duration": 22,
    "start_time": "2022-04-10T18:12:30.159Z"
   },
   {
    "duration": 64,
    "start_time": "2022-04-10T18:12:30.182Z"
   },
   {
    "duration": 81,
    "start_time": "2022-04-10T18:12:30.247Z"
   },
   {
    "duration": 62,
    "start_time": "2022-04-10T18:12:30.330Z"
   },
   {
    "duration": 45,
    "start_time": "2022-04-10T18:12:30.394Z"
   },
   {
    "duration": 3,
    "start_time": "2022-04-10T18:12:30.441Z"
   },
   {
    "duration": 16,
    "start_time": "2022-04-10T18:12:30.446Z"
   },
   {
    "duration": 63,
    "start_time": "2022-04-10T18:12:30.463Z"
   },
   {
    "duration": 31,
    "start_time": "2022-04-10T18:12:30.528Z"
   },
   {
    "duration": 47,
    "start_time": "2022-04-10T18:12:30.560Z"
   },
   {
    "duration": 3,
    "start_time": "2022-04-10T18:12:30.609Z"
   },
   {
    "duration": 17,
    "start_time": "2022-04-10T18:12:30.614Z"
   },
   {
    "duration": 17,
    "start_time": "2022-04-10T18:12:30.632Z"
   },
   {
    "duration": 34,
    "start_time": "2022-04-10T18:12:30.651Z"
   },
   {
    "duration": 13,
    "start_time": "2022-04-10T18:12:30.687Z"
   },
   {
    "duration": 17,
    "start_time": "2022-04-10T18:12:30.702Z"
   },
   {
    "duration": 16,
    "start_time": "2022-04-10T18:12:30.721Z"
   },
   {
    "duration": 11,
    "start_time": "2022-04-10T18:12:30.738Z"
   },
   {
    "duration": 32,
    "start_time": "2022-04-10T18:12:30.752Z"
   },
   {
    "duration": 9,
    "start_time": "2022-04-10T18:12:30.785Z"
   },
   {
    "duration": 8,
    "start_time": "2022-04-10T18:12:30.795Z"
   },
   {
    "duration": 25,
    "start_time": "2022-04-10T18:12:30.805Z"
   },
   {
    "duration": 11,
    "start_time": "2022-04-10T18:12:30.832Z"
   },
   {
    "duration": 15,
    "start_time": "2022-04-10T18:12:30.845Z"
   },
   {
    "duration": 11,
    "start_time": "2022-04-10T18:12:30.880Z"
   },
   {
    "duration": 9,
    "start_time": "2022-04-10T18:12:30.893Z"
   },
   {
    "duration": 5,
    "start_time": "2022-04-10T18:12:30.903Z"
   },
   {
    "duration": 10,
    "start_time": "2022-04-10T18:12:30.909Z"
   },
   {
    "duration": 5,
    "start_time": "2022-04-10T18:12:30.920Z"
   },
   {
    "duration": 2,
    "start_time": "2022-04-10T18:12:52.733Z"
   },
   {
    "duration": 405,
    "start_time": "2022-04-10T18:20:01.658Z"
   },
   {
    "duration": 2,
    "start_time": "2022-04-10T18:20:02.065Z"
   },
   {
    "duration": 151,
    "start_time": "2022-04-10T18:20:02.068Z"
   },
   {
    "duration": 15,
    "start_time": "2022-04-10T18:20:02.221Z"
   },
   {
    "duration": 32,
    "start_time": "2022-04-10T18:20:02.237Z"
   },
   {
    "duration": 3,
    "start_time": "2022-04-10T18:20:02.271Z"
   },
   {
    "duration": 16,
    "start_time": "2022-04-10T18:20:02.275Z"
   },
   {
    "duration": 7,
    "start_time": "2022-04-10T18:20:02.293Z"
   },
   {
    "duration": 25,
    "start_time": "2022-04-10T18:20:02.301Z"
   },
   {
    "duration": 25,
    "start_time": "2022-04-10T18:20:02.328Z"
   },
   {
    "duration": 36,
    "start_time": "2022-04-10T18:20:02.354Z"
   },
   {
    "duration": 63,
    "start_time": "2022-04-10T18:20:02.391Z"
   },
   {
    "duration": 80,
    "start_time": "2022-04-10T18:20:02.456Z"
   },
   {
    "duration": 61,
    "start_time": "2022-04-10T18:20:02.537Z"
   },
   {
    "duration": 43,
    "start_time": "2022-04-10T18:20:02.599Z"
   },
   {
    "duration": 8,
    "start_time": "2022-04-10T18:20:02.643Z"
   },
   {
    "duration": 15,
    "start_time": "2022-04-10T18:20:02.652Z"
   },
   {
    "duration": 57,
    "start_time": "2022-04-10T18:20:02.669Z"
   },
   {
    "duration": 29,
    "start_time": "2022-04-10T18:20:02.727Z"
   },
   {
    "duration": 43,
    "start_time": "2022-04-10T18:20:02.757Z"
   },
   {
    "duration": 3,
    "start_time": "2022-04-10T18:20:02.802Z"
   },
   {
    "duration": 17,
    "start_time": "2022-04-10T18:20:02.806Z"
   },
   {
    "duration": 13,
    "start_time": "2022-04-10T18:20:02.825Z"
   },
   {
    "duration": 13,
    "start_time": "2022-04-10T18:20:02.839Z"
   },
   {
    "duration": 35,
    "start_time": "2022-04-10T18:20:02.853Z"
   },
   {
    "duration": 14,
    "start_time": "2022-04-10T18:20:02.890Z"
   },
   {
    "duration": 13,
    "start_time": "2022-04-10T18:20:02.905Z"
   },
   {
    "duration": 8,
    "start_time": "2022-04-10T18:20:02.921Z"
   },
   {
    "duration": 13,
    "start_time": "2022-04-10T18:20:02.930Z"
   },
   {
    "duration": 37,
    "start_time": "2022-04-10T18:20:02.944Z"
   },
   {
    "duration": 3,
    "start_time": "2022-04-10T18:20:02.982Z"
   },
   {
    "duration": 19,
    "start_time": "2022-04-10T18:20:02.987Z"
   },
   {
    "duration": 10,
    "start_time": "2022-04-10T18:20:03.008Z"
   },
   {
    "duration": 14,
    "start_time": "2022-04-10T18:20:03.019Z"
   },
   {
    "duration": 11,
    "start_time": "2022-04-10T18:20:03.035Z"
   },
   {
    "duration": 33,
    "start_time": "2022-04-10T18:20:03.048Z"
   },
   {
    "duration": 5,
    "start_time": "2022-04-10T18:20:03.082Z"
   },
   {
    "duration": 7,
    "start_time": "2022-04-10T18:20:03.088Z"
   },
   {
    "duration": 6,
    "start_time": "2022-04-10T18:20:03.096Z"
   },
   {
    "duration": 117,
    "start_time": "2022-04-10T21:46:44.911Z"
   },
   {
    "duration": 99,
    "start_time": "2022-04-10T21:46:56.322Z"
   },
   {
    "duration": 103,
    "start_time": "2022-04-10T21:48:14.468Z"
   },
   {
    "duration": 120,
    "start_time": "2022-04-10T21:48:38.908Z"
   },
   {
    "duration": 93,
    "start_time": "2022-04-10T21:49:04.452Z"
   },
   {
    "duration": 105,
    "start_time": "2022-04-10T21:49:19.035Z"
   },
   {
    "duration": 102,
    "start_time": "2022-04-10T21:50:58.732Z"
   },
   {
    "duration": 102,
    "start_time": "2022-04-10T21:51:15.100Z"
   },
   {
    "duration": 41,
    "start_time": "2022-04-10T22:10:19.587Z"
   },
   {
    "duration": 400,
    "start_time": "2022-04-10T22:10:24.086Z"
   },
   {
    "duration": 158,
    "start_time": "2022-04-10T22:10:26.629Z"
   },
   {
    "duration": 101,
    "start_time": "2022-04-10T22:15:00.641Z"
   },
   {
    "duration": 9,
    "start_time": "2022-04-10T22:17:12.627Z"
   },
   {
    "duration": 4,
    "start_time": "2022-04-10T22:19:00.858Z"
   },
   {
    "duration": 103,
    "start_time": "2022-04-10T22:19:11.626Z"
   },
   {
    "duration": 42,
    "start_time": "2022-04-10T22:37:13.395Z"
   },
   {
    "duration": 40,
    "start_time": "2022-04-10T22:38:32.654Z"
   },
   {
    "duration": 42,
    "start_time": "2022-04-10T22:38:45.651Z"
   },
   {
    "duration": 106,
    "start_time": "2022-04-10T22:40:52.462Z"
   },
   {
    "duration": 102,
    "start_time": "2022-04-10T22:42:14.071Z"
   },
   {
    "duration": 33,
    "start_time": "2022-04-10T22:43:47.039Z"
   },
   {
    "duration": 11,
    "start_time": "2022-04-10T22:44:37.784Z"
   },
   {
    "duration": 3,
    "start_time": "2022-04-10T22:44:48.916Z"
   },
   {
    "duration": 155,
    "start_time": "2022-04-10T22:44:48.925Z"
   },
   {
    "duration": 15,
    "start_time": "2022-04-10T22:44:49.083Z"
   },
   {
    "duration": 32,
    "start_time": "2022-04-10T22:44:49.100Z"
   },
   {
    "duration": 5,
    "start_time": "2022-04-10T22:44:49.134Z"
   },
   {
    "duration": 51,
    "start_time": "2022-04-10T22:44:49.141Z"
   },
   {
    "duration": 8,
    "start_time": "2022-04-10T22:44:49.195Z"
   },
   {
    "duration": 28,
    "start_time": "2022-04-10T22:44:49.205Z"
   },
   {
    "duration": 51,
    "start_time": "2022-04-10T22:44:49.236Z"
   },
   {
    "duration": 26,
    "start_time": "2022-04-10T22:44:49.289Z"
   },
   {
    "duration": 97,
    "start_time": "2022-04-10T22:44:49.317Z"
   },
   {
    "duration": 91,
    "start_time": "2022-04-10T22:44:49.416Z"
   },
   {
    "duration": 75,
    "start_time": "2022-04-10T22:44:49.509Z"
   },
   {
    "duration": 38,
    "start_time": "2022-04-10T22:44:49.585Z"
   },
   {
    "duration": 2,
    "start_time": "2022-04-10T22:44:49.626Z"
   },
   {
    "duration": 12,
    "start_time": "2022-04-10T22:44:49.630Z"
   },
   {
    "duration": 65,
    "start_time": "2022-04-10T22:44:49.643Z"
   },
   {
    "duration": 35,
    "start_time": "2022-04-10T22:44:49.709Z"
   },
   {
    "duration": 11,
    "start_time": "2022-04-10T22:45:23.262Z"
   },
   {
    "duration": 35,
    "start_time": "2022-04-10T22:45:58.295Z"
   },
   {
    "duration": 12,
    "start_time": "2022-04-10T22:46:19.208Z"
   },
   {
    "duration": 9,
    "start_time": "2022-04-10T22:46:43.679Z"
   },
   {
    "duration": 10,
    "start_time": "2022-04-10T23:50:31.327Z"
   },
   {
    "duration": 12,
    "start_time": "2022-04-10T23:51:52.724Z"
   },
   {
    "duration": 94,
    "start_time": "2022-04-10T23:52:19.300Z"
   },
   {
    "duration": 97,
    "start_time": "2022-04-10T23:54:26.471Z"
   },
   {
    "duration": 9,
    "start_time": "2022-04-10T23:57:11.637Z"
   },
   {
    "duration": 30,
    "start_time": "2022-04-10T23:57:30.815Z"
   },
   {
    "duration": 12,
    "start_time": "2022-04-10T23:58:19.648Z"
   },
   {
    "duration": 12,
    "start_time": "2022-04-10T23:58:26.640Z"
   },
   {
    "duration": 12,
    "start_time": "2022-04-10T23:58:32.120Z"
   },
   {
    "duration": 8,
    "start_time": "2022-04-10T23:59:42.440Z"
   },
   {
    "duration": 3,
    "start_time": "2022-04-10T23:59:50.260Z"
   },
   {
    "duration": 168,
    "start_time": "2022-04-10T23:59:50.265Z"
   },
   {
    "duration": 11,
    "start_time": "2022-04-10T23:59:50.435Z"
   },
   {
    "duration": 47,
    "start_time": "2022-04-10T23:59:50.447Z"
   },
   {
    "duration": 4,
    "start_time": "2022-04-10T23:59:50.496Z"
   },
   {
    "duration": 10,
    "start_time": "2022-04-10T23:59:50.501Z"
   },
   {
    "duration": 4,
    "start_time": "2022-04-10T23:59:50.512Z"
   },
   {
    "duration": 27,
    "start_time": "2022-04-10T23:59:50.517Z"
   },
   {
    "duration": 44,
    "start_time": "2022-04-10T23:59:50.546Z"
   },
   {
    "duration": 25,
    "start_time": "2022-04-10T23:59:50.592Z"
   },
   {
    "duration": 78,
    "start_time": "2022-04-10T23:59:50.620Z"
   },
   {
    "duration": 68,
    "start_time": "2022-04-10T23:59:50.700Z"
   },
   {
    "duration": 57,
    "start_time": "2022-04-10T23:59:50.778Z"
   },
   {
    "duration": 51,
    "start_time": "2022-04-10T23:59:50.837Z"
   },
   {
    "duration": 3,
    "start_time": "2022-04-10T23:59:50.889Z"
   },
   {
    "duration": 11,
    "start_time": "2022-04-10T23:59:50.894Z"
   },
   {
    "duration": 38,
    "start_time": "2022-04-10T23:59:50.907Z"
   },
   {
    "duration": 37,
    "start_time": "2022-04-10T23:59:50.946Z"
   },
   {
    "duration": 11,
    "start_time": "2022-04-10T23:59:50.984Z"
   },
   {
    "duration": 3,
    "start_time": "2022-04-10T23:59:50.996Z"
   },
   {
    "duration": 23,
    "start_time": "2022-04-10T23:59:51.001Z"
   },
   {
    "duration": 14,
    "start_time": "2022-04-10T23:59:51.026Z"
   },
   {
    "duration": 41,
    "start_time": "2022-04-10T23:59:51.042Z"
   },
   {
    "duration": 15,
    "start_time": "2022-04-10T23:59:51.084Z"
   },
   {
    "duration": 18,
    "start_time": "2022-04-10T23:59:51.100Z"
   },
   {
    "duration": 16,
    "start_time": "2022-04-10T23:59:51.119Z"
   },
   {
    "duration": 9,
    "start_time": "2022-04-10T23:59:51.136Z"
   },
   {
    "duration": 42,
    "start_time": "2022-04-10T23:59:51.146Z"
   },
   {
    "duration": 9,
    "start_time": "2022-04-10T23:59:51.191Z"
   },
   {
    "duration": 4,
    "start_time": "2022-04-10T23:59:51.201Z"
   },
   {
    "duration": 20,
    "start_time": "2022-04-10T23:59:51.207Z"
   },
   {
    "duration": 13,
    "start_time": "2022-04-10T23:59:51.228Z"
   },
   {
    "duration": 50,
    "start_time": "2022-04-10T23:59:51.242Z"
   },
   {
    "duration": 12,
    "start_time": "2022-04-10T23:59:51.293Z"
   },
   {
    "duration": 8,
    "start_time": "2022-04-10T23:59:51.306Z"
   },
   {
    "duration": 5,
    "start_time": "2022-04-10T23:59:53.263Z"
   },
   {
    "duration": 7,
    "start_time": "2022-04-11T00:00:42.720Z"
   },
   {
    "duration": 2,
    "start_time": "2022-04-11T00:00:48.397Z"
   },
   {
    "duration": 158,
    "start_time": "2022-04-11T00:00:48.401Z"
   },
   {
    "duration": 24,
    "start_time": "2022-04-11T00:00:48.561Z"
   },
   {
    "duration": 31,
    "start_time": "2022-04-11T00:00:48.586Z"
   },
   {
    "duration": 3,
    "start_time": "2022-04-11T00:00:48.620Z"
   },
   {
    "duration": 8,
    "start_time": "2022-04-11T00:00:48.625Z"
   },
   {
    "duration": 4,
    "start_time": "2022-04-11T00:00:48.634Z"
   },
   {
    "duration": 55,
    "start_time": "2022-04-11T00:00:48.639Z"
   },
   {
    "duration": 20,
    "start_time": "2022-04-11T00:00:48.696Z"
   },
   {
    "duration": 24,
    "start_time": "2022-04-11T00:00:48.718Z"
   },
   {
    "duration": 87,
    "start_time": "2022-04-11T00:00:48.745Z"
   },
   {
    "duration": 76,
    "start_time": "2022-04-11T00:00:48.834Z"
   },
   {
    "duration": 56,
    "start_time": "2022-04-11T00:00:48.912Z"
   },
   {
    "duration": 39,
    "start_time": "2022-04-11T00:00:48.978Z"
   },
   {
    "duration": 3,
    "start_time": "2022-04-11T00:00:49.018Z"
   },
   {
    "duration": 11,
    "start_time": "2022-04-11T00:00:49.022Z"
   },
   {
    "duration": 58,
    "start_time": "2022-04-11T00:00:49.035Z"
   },
   {
    "duration": 10,
    "start_time": "2022-04-11T00:00:49.095Z"
   },
   {
    "duration": 10,
    "start_time": "2022-04-11T00:00:49.107Z"
   },
   {
    "duration": 3,
    "start_time": "2022-04-11T00:00:49.119Z"
   },
   {
    "duration": 22,
    "start_time": "2022-04-11T00:00:49.123Z"
   },
   {
    "duration": 42,
    "start_time": "2022-04-11T00:00:49.147Z"
   },
   {
    "duration": 15,
    "start_time": "2022-04-11T00:00:49.191Z"
   },
   {
    "duration": 15,
    "start_time": "2022-04-11T00:00:49.208Z"
   },
   {
    "duration": 18,
    "start_time": "2022-04-11T00:00:49.224Z"
   },
   {
    "duration": 45,
    "start_time": "2022-04-11T00:00:49.244Z"
   },
   {
    "duration": 7,
    "start_time": "2022-04-11T00:00:49.291Z"
   },
   {
    "duration": 14,
    "start_time": "2022-04-11T00:00:49.300Z"
   },
   {
    "duration": 10,
    "start_time": "2022-04-11T00:00:49.317Z"
   },
   {
    "duration": 3,
    "start_time": "2022-04-11T00:00:49.329Z"
   },
   {
    "duration": 45,
    "start_time": "2022-04-11T00:00:49.334Z"
   },
   {
    "duration": 12,
    "start_time": "2022-04-11T00:00:49.381Z"
   },
   {
    "duration": 15,
    "start_time": "2022-04-11T00:00:49.395Z"
   },
   {
    "duration": 11,
    "start_time": "2022-04-11T00:00:49.412Z"
   },
   {
    "duration": 7,
    "start_time": "2022-04-11T00:00:49.424Z"
   },
   {
    "duration": 4,
    "start_time": "2022-04-11T00:00:49.433Z"
   },
   {
    "duration": 43,
    "start_time": "2022-04-11T00:00:49.439Z"
   },
   {
    "duration": 5,
    "start_time": "2022-04-11T00:00:49.484Z"
   },
   {
    "duration": 98,
    "start_time": "2022-04-11T00:01:36.152Z"
   },
   {
    "duration": 103,
    "start_time": "2022-04-11T00:01:42.153Z"
   },
   {
    "duration": 423,
    "start_time": "2022-04-11T00:03:57.058Z"
   },
   {
    "duration": 148,
    "start_time": "2022-04-11T00:03:57.483Z"
   },
   {
    "duration": 16,
    "start_time": "2022-04-11T00:03:57.633Z"
   },
   {
    "duration": 36,
    "start_time": "2022-04-11T00:03:57.651Z"
   },
   {
    "duration": 4,
    "start_time": "2022-04-11T00:03:57.689Z"
   },
   {
    "duration": 12,
    "start_time": "2022-04-11T00:03:57.695Z"
   },
   {
    "duration": 5,
    "start_time": "2022-04-11T00:03:57.709Z"
   },
   {
    "duration": 27,
    "start_time": "2022-04-11T00:03:57.715Z"
   },
   {
    "duration": 47,
    "start_time": "2022-04-11T00:03:57.743Z"
   },
   {
    "duration": 25,
    "start_time": "2022-04-11T00:03:57.792Z"
   },
   {
    "duration": 81,
    "start_time": "2022-04-11T00:03:57.818Z"
   },
   {
    "duration": 85,
    "start_time": "2022-04-11T00:03:57.901Z"
   },
   {
    "duration": 63,
    "start_time": "2022-04-11T00:03:57.988Z"
   },
   {
    "duration": 58,
    "start_time": "2022-04-11T00:03:58.056Z"
   },
   {
    "duration": 3,
    "start_time": "2022-04-11T00:03:58.116Z"
   },
   {
    "duration": 14,
    "start_time": "2022-04-11T00:03:58.121Z"
   },
   {
    "duration": 57,
    "start_time": "2022-04-11T00:03:58.137Z"
   },
   {
    "duration": 13,
    "start_time": "2022-04-11T00:03:58.196Z"
   },
   {
    "duration": 13,
    "start_time": "2022-04-11T00:03:58.212Z"
   },
   {
    "duration": 3,
    "start_time": "2022-04-11T00:03:58.226Z"
   },
   {
    "duration": 50,
    "start_time": "2022-04-11T00:03:58.231Z"
   },
   {
    "duration": 16,
    "start_time": "2022-04-11T00:03:58.283Z"
   },
   {
    "duration": 17,
    "start_time": "2022-04-11T00:03:58.300Z"
   },
   {
    "duration": 17,
    "start_time": "2022-04-11T00:03:58.318Z"
   },
   {
    "duration": 48,
    "start_time": "2022-04-11T00:03:58.336Z"
   },
   {
    "duration": 16,
    "start_time": "2022-04-11T00:03:58.386Z"
   },
   {
    "duration": 8,
    "start_time": "2022-04-11T00:03:58.404Z"
   },
   {
    "duration": 19,
    "start_time": "2022-04-11T00:03:58.414Z"
   },
   {
    "duration": 10,
    "start_time": "2022-04-11T00:03:58.435Z"
   },
   {
    "duration": 3,
    "start_time": "2022-04-11T00:03:58.447Z"
   },
   {
    "duration": 20,
    "start_time": "2022-04-11T00:03:58.480Z"
   },
   {
    "duration": 12,
    "start_time": "2022-04-11T00:03:58.502Z"
   },
   {
    "duration": 17,
    "start_time": "2022-04-11T00:03:58.516Z"
   },
   {
    "duration": 12,
    "start_time": "2022-04-11T00:03:58.535Z"
   },
   {
    "duration": 37,
    "start_time": "2022-04-11T00:03:58.549Z"
   },
   {
    "duration": 4,
    "start_time": "2022-04-11T00:03:58.588Z"
   },
   {
    "duration": 13,
    "start_time": "2022-04-11T00:03:58.594Z"
   },
   {
    "duration": 5,
    "start_time": "2022-04-11T00:03:58.609Z"
   },
   {
    "duration": 12,
    "start_time": "2022-04-11T00:06:24.807Z"
   },
   {
    "duration": 371,
    "start_time": "2022-04-11T00:06:36.231Z"
   },
   {
    "duration": 157,
    "start_time": "2022-04-11T00:06:36.604Z"
   },
   {
    "duration": 22,
    "start_time": "2022-04-11T00:06:36.763Z"
   },
   {
    "duration": 30,
    "start_time": "2022-04-11T00:06:36.787Z"
   },
   {
    "duration": 6,
    "start_time": "2022-04-11T00:06:36.819Z"
   },
   {
    "duration": 12,
    "start_time": "2022-04-11T00:06:36.827Z"
   },
   {
    "duration": 5,
    "start_time": "2022-04-11T00:06:36.841Z"
   },
   {
    "duration": 51,
    "start_time": "2022-04-11T00:06:36.848Z"
   },
   {
    "duration": 27,
    "start_time": "2022-04-11T00:06:36.901Z"
   },
   {
    "duration": 51,
    "start_time": "2022-04-11T00:06:36.930Z"
   },
   {
    "duration": 69,
    "start_time": "2022-04-11T00:06:36.982Z"
   },
   {
    "duration": 94,
    "start_time": "2022-04-11T00:06:37.053Z"
   },
   {
    "duration": 76,
    "start_time": "2022-04-11T00:06:37.149Z"
   },
   {
    "duration": 49,
    "start_time": "2022-04-11T00:06:37.230Z"
   },
   {
    "duration": 3,
    "start_time": "2022-04-11T00:06:37.282Z"
   },
   {
    "duration": 13,
    "start_time": "2022-04-11T00:06:37.287Z"
   },
   {
    "duration": 40,
    "start_time": "2022-04-11T00:06:37.302Z"
   },
   {
    "duration": 35,
    "start_time": "2022-04-11T00:06:37.344Z"
   },
   {
    "duration": 13,
    "start_time": "2022-04-11T00:06:37.381Z"
   },
   {
    "duration": 3,
    "start_time": "2022-04-11T00:06:37.396Z"
   },
   {
    "duration": 19,
    "start_time": "2022-04-11T00:06:37.401Z"
   },
   {
    "duration": 15,
    "start_time": "2022-04-11T00:06:37.422Z"
   },
   {
    "duration": 52,
    "start_time": "2022-04-11T00:06:37.439Z"
   },
   {
    "duration": 14,
    "start_time": "2022-04-11T00:06:37.492Z"
   },
   {
    "duration": 17,
    "start_time": "2022-04-11T00:06:37.508Z"
   },
   {
    "duration": 15,
    "start_time": "2022-04-11T00:06:37.527Z"
   },
   {
    "duration": 39,
    "start_time": "2022-04-11T00:06:37.544Z"
   },
   {
    "duration": 12,
    "start_time": "2022-04-11T00:06:37.585Z"
   },
   {
    "duration": 10,
    "start_time": "2022-04-11T00:06:37.599Z"
   },
   {
    "duration": 3,
    "start_time": "2022-04-11T00:06:37.611Z"
   },
   {
    "duration": 21,
    "start_time": "2022-04-11T00:06:37.616Z"
   },
   {
    "duration": 46,
    "start_time": "2022-04-11T00:06:37.639Z"
   },
   {
    "duration": 18,
    "start_time": "2022-04-11T00:06:37.687Z"
   },
   {
    "duration": 12,
    "start_time": "2022-04-11T00:06:37.706Z"
   },
   {
    "duration": 9,
    "start_time": "2022-04-11T00:06:37.720Z"
   },
   {
    "duration": 5,
    "start_time": "2022-04-11T00:06:37.730Z"
   },
   {
    "duration": 46,
    "start_time": "2022-04-11T00:06:37.737Z"
   },
   {
    "duration": 5,
    "start_time": "2022-04-11T00:06:37.785Z"
   }
  ],
  "colab": {
   "collapsed_sections": [
    "E0vqbgi9ay0H",
    "VUC88oWjTJw2"
   ],
   "name": "yandex_music_project.ipynb",
   "provenance": []
  },
  "kernelspec": {
   "display_name": "Python 3 (ipykernel)",
   "language": "python",
   "name": "python3"
  },
  "language_info": {
   "codemirror_mode": {
    "name": "ipython",
    "version": 3
   },
   "file_extension": ".py",
   "mimetype": "text/x-python",
   "name": "python",
   "nbconvert_exporter": "python",
   "pygments_lexer": "ipython3",
   "version": "3.9.13"
  },
  "toc": {
   "base_numbering": 1,
   "nav_menu": {},
   "number_sections": true,
   "sideBar": true,
   "skip_h1_title": true,
   "title_cell": "Table of Contents",
   "title_sidebar": "Contents",
   "toc_cell": false,
   "toc_position": {
    "height": "calc(100% - 180px)",
    "left": "10px",
    "top": "150px",
    "width": "165px"
   },
   "toc_section_display": true,
   "toc_window_display": true
  }
 },
 "nbformat": 4,
 "nbformat_minor": 1
}
