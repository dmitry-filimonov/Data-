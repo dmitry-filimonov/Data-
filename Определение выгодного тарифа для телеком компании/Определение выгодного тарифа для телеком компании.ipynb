{
 "cells": [
  {
   "cell_type": "markdown",
   "metadata": {},
   "source": [
    "<div style=\"border-radius: 15px; border: 3px solid black; padding: 15px;\">\n",
    "<b>Привет 👋</b>\n",
    "<p>Меня зовут Данила Тарасов, я - ревьюер твоего проекта. Перейдём сразу на «ты», если не против. </p>  \n",
    "<p>При проверке я буду использовать следующие виды комментариев 🚦:</p>\n",
    "<hr>    \n",
    "<div style=\"border-radius: 3px; border: 2px solid black; padding: 0px;\">    \n",
    "<div class=\"alert alert-danger\">\n",
    "<b>Комментарий ревьюера ❌:</b> Важные замечания, без отработки которых проект не будет принят </div>\n",
    "</div>\n",
    "<hr>   \n",
    "<div style=\"border-radius: 3px; border: 2px solid black; padding: 0px;\">      \n",
    "<div class=\"alert alert-warning\">\n",
    "<b>Комментарий ревьюера ⚠️:</b> Замечания и рекомендации, необязательные к отработке (если их не больше 3-х) </div>\n",
    "</div>\n",
    "<hr>  \n",
    "<div style=\"border-radius: 3px; border: 2px solid black; padding: 0px;\">     \n",
    "<div class=\"alert alert-success\">\n",
    "<b>Комментарий ревьюера ✔️:</b> Отличные решения и идеи, которые можно и нужно использовать в будущем </div>\n",
    "</div>\n",
    "    \n",
    "<hr> \n",
    "    \n",
    "Предлагаю работать над проектом в диалоге: **Комментарии, если ты что-то меняешь в проекте, хочешь задать вопрос или отвечаешь мне, прошу выделить каким-нибудь цветом, кроме тех, что я использовал выше.** Как вариант, можешь обозначить их так:\n",
    "    \n",
    "<hr>\n",
    "    \n",
    "<div style=\"border-radius: 3px; border: 2px solid black; padding: 0px;\"> \n",
    "<div class=\"alert alert-block alert-info\">\n",
    "<b>Комментарий студента 🎓:</b>\n",
    "    \n",
    "   \n",
    "</div> \n",
    "</div>\n",
    "    \n",
    "<hr> \n",
    "    \n",
    "Также я прошу тебя **не менять, не передвигать и не удалять мои комментарии**, чтобы при последующей проверке мне было проще ориентироваться.\n",
    "        \n",
    "<hr>\n",
    "    \n",
    "**По проекту:** Очень сильная работа! Видно, что вложено много труда, осознанность присутствует в каждой фразе и в каждом действии! Очень редко встречаются подобные проекты, которые хочется снова перечитать и ставить в пример остальным студентам! Надеюсь, что ты продолжишь использовать такой подход и после перенесёшь в работу, где, я уверен, у тебя всё получится! ⭐⭐⭐⭐⭐ \n",
    "    \n",
    "**P.s.** Такой комментарий я пишу крайне редко, если работа действительно произвела на меня впечатление. \n",
    "    \n",
    "**P.s.s.** Есть [моменты, которые нужно исправить](#result-1) - их я подробно отразил в своих комментариях. Если появятся вопросы, с радостью на них отвечу (также вопросы можно задавать преподавателю по проектам в слаке). Верю, что ты со всем справишься, и с нетерпением жду проект на повторную проверку! \n",
    "    \n",
    "**По проекту V.2:** Проект принят, поздравляю! Надеюсь, что смог помочь тебе сделать ещё один шаг на пути обучения, в котором желаю тебе удачи и больших успехов! P.s. Оставил ещё пару комментариев в работе и [полезные ссылки](#benefit) в конце 😎    \n",
    "    \n",
    "</div>"
   ]
  },
  {
   "cell_type": "markdown",
   "metadata": {},
   "source": [
    "<div style=\"border-radius: 3px; border: 2px solid black; padding: 0px;\">     \n",
    "<div class=\"alert alert-success\">\n",
    "<b>Комментарий ревьюера ✔️:</b> \n",
    "    \n",
    "Оформление моих комментариев немного искажено (отсутствуют рамки) из-за технических проблем на сервере. Рекомендую всегда сохранять проект перед отправкой. Надеюсь, что скоро ситуацию исправят, а пока давай смотреть проект 😎   \n",
    "\n",
    "</div>\n",
    "</div>"
   ]
  },
  {
   "cell_type": "markdown",
   "metadata": {},
   "source": [
    "<div class=\"alert alert-block alert-info\">\n",
    "<b>Комментарий студента 🎓: </b>\n",
    "    Данила, привет! Спасибо большое за обратную связь! Постараюсь всё исправить. 🙈"
   ]
  },
  {
   "cell_type": "markdown",
   "metadata": {},
   "source": [
    "<div style=\"border-radius: 3px; border: 2px solid black; padding: 0px;\">     \n",
    "<div class=\"alert alert-success\">\n",
    "<b>Комментарий ревьюера V.2 ✔️:</b> \n",
    "    \n",
    "Дмитрий, привет! Всегда пожалуйста, давай смотреть 😎    \n",
    "\n",
    "</div>\n",
    "</div>"
   ]
  },
  {
   "cell_type": "markdown",
   "metadata": {},
   "source": [
    "# Определение перспективного тарифа для телеком-компании\n",
    "\n",
    "Заказчик - коммерческий департамент федерального оператора сотовой связи. С целью коррекции рекламного бюджета необходимо сравнить доходность предлагаемых клиентам тарифных планов.\n",
    "\n",
    "**Цель исследования** - проанализировать поведение клиентов на основе выборки данных об активности 500 абонентов за 2018 год и определить наиболее доходный тариф.\n",
    "\n",
    "**Ход исследования**\n",
    "\n",
    "Данные представлены в виде пяти таблиц, содержащие данные о клиентах: кто они, откуда, каким тарифом пользуются, сколько звонков и сообщений каждый отправил за 2018 год. При обзоре данных будет совершена проверка на возможные ошибки, которые могут помещать исследованию. После будет совершена предобработка данных с целью исправления ошибок и обработки пропущенных значений, при необходимости буду изменены типы данных и расчитаны дополнительные параметры. Затем на основе обработанных данных будет проведён статистический анализ данных. После будет совершена проверка сформированных заказчиком гипотез:\n",
    "* Средняя выручка пользователей тарифов различаются.\n",
    "* Средняя выручка пользователей из Москвы отличается от выручки пользователей из других регионов.\n",
    "\n",
    "По результатам будет сформирован общий вывод. \n",
    "\n",
    "Таким образом, исследование пройдёт в пять этапов:\n",
    "\n",
    " 1. [**Обзор данных**](#overview)\n",
    " 2. [**Предобработка данных**](#pre-proc)\n",
    " 3. [**Анализ данных**](#analysis)\n",
    " 4. [**Проверка гипотез**](#hypothesis)\n",
    " 5. [**Общий вывод**](#conclusion)\n"
   ]
  },
  {
   "cell_type": "markdown",
   "metadata": {},
   "source": [
    "<div style=\"border-radius: 3px; border: 2px solid black; padding: 0px;\">      \n",
    "<div class=\"alert alert-warning\">\n",
    "<s>Комментарий ревьюера ⚠️:</b> \n",
    "\n",
    "Пункты-ссылки очень удобны, когда нужно переходить по разным частям проекта. Как это сделать, читай тут: <a href=\"https://sebastianraschka.com/Articles/2014_ipython_internal_links.html\">кликабельные разделы</a>\n",
    "\n",
    "</div>\n",
    "</div>"
   ]
  },
  {
   "cell_type": "markdown",
   "metadata": {},
   "source": [
    "<div class=\"alert alert-block alert-info\">\n",
    "<b>Комментарий студента 🎓: </b>\n",
    "    Очень здорово, спасибо большое! Вроде получилось. 🙈"
   ]
  },
  {
   "cell_type": "markdown",
   "metadata": {},
   "source": [
    "<div style=\"border-radius: 3px; border: 2px solid black; padding: 0px;\">     \n",
    "<div class=\"alert alert-success\">\n",
    "<b>Комментарий ревьюера V.2 ✔️:</b> \n",
    "    \n",
    "👏👏👏    \n",
    "\n",
    "</div>\n",
    "</div>"
   ]
  },
  {
   "cell_type": "markdown",
   "metadata": {},
   "source": [
    "<a id='overview'></a>"
   ]
  },
  {
   "cell_type": "markdown",
   "metadata": {},
   "source": [
    "## Обзор данных"
   ]
  },
  {
   "cell_type": "markdown",
   "metadata": {},
   "source": [
    "Сначали импортируем все необходимые таблицы с данными и рассмотрим каждую по отдельности."
   ]
  },
  {
   "cell_type": "code",
   "execution_count": 2,
   "metadata": {},
   "outputs": [],
   "source": [
    "import pandas as pd\n",
    "import numpy as np\n",
    "from scipy import stats as st\n",
    "import seaborn as sns\n",
    "import matplotlib.pyplot as plt\n",
    "\n",
    "pd.options.display.float_format = '{:,.2f}'.format\n",
    "sns.set_style('dark')\n",
    "\n",
    "users = pd.read_csv('/datasets/users.csv') # таблица с информацией о пользователях\n",
    "calls = pd.read_csv('/datasets/calls.csv') # таблица с информацией о звонках\n",
    "messages = pd.read_csv('/datasets/messages.csv') # таблица с информацией о сообщениях\n",
    "internet = pd.read_csv('/datasets/internet.csv') # таблица с информацией об интернет-сессиях\n",
    "tariffs = pd.read_csv('/datasets/tariffs.csv') # таблица с информацией о тарифах"
   ]
  },
  {
   "cell_type": "markdown",
   "metadata": {},
   "source": [
    "### Информация о пользователях"
   ]
  },
  {
   "cell_type": "code",
   "execution_count": 3,
   "metadata": {},
   "outputs": [
    {
     "name": "stdout",
     "output_type": "stream",
     "text": [
      "<class 'pandas.core.frame.DataFrame'>\n",
      "RangeIndex: 500 entries, 0 to 499\n",
      "Data columns (total 8 columns):\n",
      " #   Column      Non-Null Count  Dtype \n",
      "---  ------      --------------  ----- \n",
      " 0   user_id     500 non-null    int64 \n",
      " 1   age         500 non-null    int64 \n",
      " 2   churn_date  38 non-null     object\n",
      " 3   city        500 non-null    object\n",
      " 4   first_name  500 non-null    object\n",
      " 5   last_name   500 non-null    object\n",
      " 6   reg_date    500 non-null    object\n",
      " 7   tariff      500 non-null    object\n",
      "dtypes: int64(2), object(6)\n",
      "memory usage: 31.4+ KB\n"
     ]
    },
    {
     "data": {
      "text/html": [
       "<div>\n",
       "<style scoped>\n",
       "    .dataframe tbody tr th:only-of-type {\n",
       "        vertical-align: middle;\n",
       "    }\n",
       "\n",
       "    .dataframe tbody tr th {\n",
       "        vertical-align: top;\n",
       "    }\n",
       "\n",
       "    .dataframe thead th {\n",
       "        text-align: right;\n",
       "    }\n",
       "</style>\n",
       "<table border=\"1\" class=\"dataframe\">\n",
       "  <thead>\n",
       "    <tr style=\"text-align: right;\">\n",
       "      <th></th>\n",
       "      <th>user_id</th>\n",
       "      <th>age</th>\n",
       "      <th>churn_date</th>\n",
       "      <th>city</th>\n",
       "      <th>first_name</th>\n",
       "      <th>last_name</th>\n",
       "      <th>reg_date</th>\n",
       "      <th>tariff</th>\n",
       "    </tr>\n",
       "  </thead>\n",
       "  <tbody>\n",
       "    <tr>\n",
       "      <th>367</th>\n",
       "      <td>1367</td>\n",
       "      <td>43</td>\n",
       "      <td>2018-11-16</td>\n",
       "      <td>Москва</td>\n",
       "      <td>Всеволод</td>\n",
       "      <td>Антоненко</td>\n",
       "      <td>2018-09-14</td>\n",
       "      <td>ultra</td>\n",
       "    </tr>\n",
       "    <tr>\n",
       "      <th>98</th>\n",
       "      <td>1098</td>\n",
       "      <td>39</td>\n",
       "      <td>NaN</td>\n",
       "      <td>Челябинск</td>\n",
       "      <td>Элеонора</td>\n",
       "      <td>Озерова</td>\n",
       "      <td>2018-06-23</td>\n",
       "      <td>smart</td>\n",
       "    </tr>\n",
       "    <tr>\n",
       "      <th>469</th>\n",
       "      <td>1469</td>\n",
       "      <td>41</td>\n",
       "      <td>NaN</td>\n",
       "      <td>Сочи</td>\n",
       "      <td>Аксён</td>\n",
       "      <td>Абалкин</td>\n",
       "      <td>2018-07-06</td>\n",
       "      <td>ultra</td>\n",
       "    </tr>\n",
       "    <tr>\n",
       "      <th>158</th>\n",
       "      <td>1158</td>\n",
       "      <td>45</td>\n",
       "      <td>NaN</td>\n",
       "      <td>Новокузнецк</td>\n",
       "      <td>Игорь</td>\n",
       "      <td>Андрейчук</td>\n",
       "      <td>2018-02-03</td>\n",
       "      <td>smart</td>\n",
       "    </tr>\n",
       "    <tr>\n",
       "      <th>44</th>\n",
       "      <td>1044</td>\n",
       "      <td>51</td>\n",
       "      <td>NaN</td>\n",
       "      <td>Рязань</td>\n",
       "      <td>Иннокентий</td>\n",
       "      <td>Рябов</td>\n",
       "      <td>2018-05-09</td>\n",
       "      <td>smart</td>\n",
       "    </tr>\n",
       "  </tbody>\n",
       "</table>\n",
       "</div>"
      ],
      "text/plain": [
       "     user_id  age  churn_date         city  first_name  last_name    reg_date  \\\n",
       "367     1367   43  2018-11-16       Москва    Всеволод  Антоненко  2018-09-14   \n",
       "98      1098   39         NaN    Челябинск    Элеонора    Озерова  2018-06-23   \n",
       "469     1469   41         NaN         Сочи       Аксён    Абалкин  2018-07-06   \n",
       "158     1158   45         NaN  Новокузнецк       Игорь  Андрейчук  2018-02-03   \n",
       "44      1044   51         NaN       Рязань  Иннокентий      Рябов  2018-05-09   \n",
       "\n",
       "    tariff  \n",
       "367  ultra  \n",
       "98   smart  \n",
       "469  ultra  \n",
       "158  smart  \n",
       "44   smart  "
      ]
     },
     "execution_count": 3,
     "metadata": {},
     "output_type": "execute_result"
    }
   ],
   "source": [
    "users.info() # выводим общую информацию о таблице\n",
    "users.sample(5) # пять случайных строк таблицы"
   ]
  },
  {
   "cell_type": "markdown",
   "metadata": {},
   "source": [
    "Таблица содержит 8 столбцов, содержащих 2 типа данных — `int64` и`object`.\n",
    "\n",
    "Описание данных согласно документации:\n",
    "* `user_id` — уникальный идентификатор пользователя\n",
    "* `first_name` — имя пользователя\n",
    "* `last_name` — фамилия пользователя\n",
    "* `age` — возраст пользователя (годы)\n",
    "* `reg_date` — дата подключения тарифа (день, месяц, год)\n",
    "* `churn_date` — дата прекращения пользования тарифом (если значение пропущено, то тариф ещё действовал на момент выгрузки данных)\n",
    "* `city` — город проживания пользователя\n",
    "* `tariff` — название тарифного плана"
   ]
  },
  {
   "cell_type": "markdown",
   "metadata": {},
   "source": [
    "**Выводы**\n",
    "* Пропущенны значения в столбце `churn_date`, что в соответствии с документацией является нормой.\n",
    "* Столбцы `reg_date` и `churn_date` содержат даты событий, но тип данных при этом `object`. В `churn_date` из-за пропусков данные не удастся привести к другому виду, в `reg_date` препятствий для преобразования нет.\n",
    "* Для экономии ресурсов памяти можно привести данные типа `int64` к`int32`.\n",
    "* Столбцы с именами клиентов скорее всего не пригодятся в исследовании, достаточно использования `user_id`.\n",
    "* В `city` содержится город проживания абонента, в то время как одна из гипотез предпологает разделение на \"Москва - не Москва\" - этот столбец можно будет категоризовать для группировки данных."
   ]
  },
  {
   "cell_type": "markdown",
   "metadata": {},
   "source": [
    "### Информация о звонках"
   ]
  },
  {
   "cell_type": "code",
   "execution_count": 4,
   "metadata": {},
   "outputs": [
    {
     "name": "stdout",
     "output_type": "stream",
     "text": [
      "<class 'pandas.core.frame.DataFrame'>\n",
      "RangeIndex: 202607 entries, 0 to 202606\n",
      "Data columns (total 4 columns):\n",
      " #   Column     Non-Null Count   Dtype  \n",
      "---  ------     --------------   -----  \n",
      " 0   id         202607 non-null  object \n",
      " 1   call_date  202607 non-null  object \n",
      " 2   duration   202607 non-null  float64\n",
      " 3   user_id    202607 non-null  int64  \n",
      "dtypes: float64(1), int64(1), object(2)\n",
      "memory usage: 6.2+ MB\n"
     ]
    },
    {
     "data": {
      "text/html": [
       "<div>\n",
       "<style scoped>\n",
       "    .dataframe tbody tr th:only-of-type {\n",
       "        vertical-align: middle;\n",
       "    }\n",
       "\n",
       "    .dataframe tbody tr th {\n",
       "        vertical-align: top;\n",
       "    }\n",
       "\n",
       "    .dataframe thead th {\n",
       "        text-align: right;\n",
       "    }\n",
       "</style>\n",
       "<table border=\"1\" class=\"dataframe\">\n",
       "  <thead>\n",
       "    <tr style=\"text-align: right;\">\n",
       "      <th></th>\n",
       "      <th>id</th>\n",
       "      <th>call_date</th>\n",
       "      <th>duration</th>\n",
       "      <th>user_id</th>\n",
       "    </tr>\n",
       "  </thead>\n",
       "  <tbody>\n",
       "    <tr>\n",
       "      <th>105385</th>\n",
       "      <td>1271_113</td>\n",
       "      <td>2018-09-19</td>\n",
       "      <td>13.43</td>\n",
       "      <td>1271</td>\n",
       "    </tr>\n",
       "    <tr>\n",
       "      <th>141068</th>\n",
       "      <td>1359_27</td>\n",
       "      <td>2018-12-25</td>\n",
       "      <td>4.72</td>\n",
       "      <td>1359</td>\n",
       "    </tr>\n",
       "    <tr>\n",
       "      <th>47757</th>\n",
       "      <td>1119_146</td>\n",
       "      <td>2018-06-01</td>\n",
       "      <td>14.51</td>\n",
       "      <td>1119</td>\n",
       "    </tr>\n",
       "    <tr>\n",
       "      <th>126906</th>\n",
       "      <td>1325_287</td>\n",
       "      <td>2018-11-11</td>\n",
       "      <td>5.04</td>\n",
       "      <td>1325</td>\n",
       "    </tr>\n",
       "    <tr>\n",
       "      <th>45390</th>\n",
       "      <td>1113_806</td>\n",
       "      <td>2018-11-22</td>\n",
       "      <td>1.76</td>\n",
       "      <td>1113</td>\n",
       "    </tr>\n",
       "  </tbody>\n",
       "</table>\n",
       "</div>"
      ],
      "text/plain": [
       "              id   call_date  duration  user_id\n",
       "105385  1271_113  2018-09-19     13.43     1271\n",
       "141068   1359_27  2018-12-25      4.72     1359\n",
       "47757   1119_146  2018-06-01     14.51     1119\n",
       "126906  1325_287  2018-11-11      5.04     1325\n",
       "45390   1113_806  2018-11-22      1.76     1113"
      ]
     },
     "execution_count": 4,
     "metadata": {},
     "output_type": "execute_result"
    }
   ],
   "source": [
    "calls.info() # выводим общую информацию о таблице\n",
    "calls.sample(5) # пять случайных строк таблицы"
   ]
  },
  {
   "cell_type": "markdown",
   "metadata": {},
   "source": [
    "Таблица содержит 4 столбца, содержащих 3 типа данных — `float64`, `int64` и`object`.\n",
    "\n",
    "Описание данных согласно документации:\n",
    "* `id` — уникальный номер звонка\n",
    "* `call_date` — дата звонка\n",
    "* `duration` — длительность звонка в минутах (звонок с нулевой продолжительностью означает пропущенный вызов)\n",
    "* `user_id` — идентификатор пользователя, сделавшего звонок"
   ]
  },
  {
   "cell_type": "markdown",
   "metadata": {},
   "source": [
    "**Выводы**\n",
    "* Явные пропуски в таблицу отсутствуют. `0` в `duration` означает пропущенный звонок.\n",
    "* Столбец `call_date` содержат дату, но тип данных при этом `object`.\n",
    "* Для экономии ресурсов памяти можно привести данные типа `int64` к`int32`."
   ]
  },
  {
   "cell_type": "markdown",
   "metadata": {},
   "source": [
    "### Информация о сообщениях"
   ]
  },
  {
   "cell_type": "code",
   "execution_count": 5,
   "metadata": {
    "scrolled": false
   },
   "outputs": [
    {
     "name": "stdout",
     "output_type": "stream",
     "text": [
      "<class 'pandas.core.frame.DataFrame'>\n",
      "RangeIndex: 123036 entries, 0 to 123035\n",
      "Data columns (total 3 columns):\n",
      " #   Column        Non-Null Count   Dtype \n",
      "---  ------        --------------   ----- \n",
      " 0   id            123036 non-null  object\n",
      " 1   message_date  123036 non-null  object\n",
      " 2   user_id       123036 non-null  int64 \n",
      "dtypes: int64(1), object(2)\n",
      "memory usage: 2.8+ MB\n"
     ]
    },
    {
     "data": {
      "text/html": [
       "<div>\n",
       "<style scoped>\n",
       "    .dataframe tbody tr th:only-of-type {\n",
       "        vertical-align: middle;\n",
       "    }\n",
       "\n",
       "    .dataframe tbody tr th {\n",
       "        vertical-align: top;\n",
       "    }\n",
       "\n",
       "    .dataframe thead th {\n",
       "        text-align: right;\n",
       "    }\n",
       "</style>\n",
       "<table border=\"1\" class=\"dataframe\">\n",
       "  <thead>\n",
       "    <tr style=\"text-align: right;\">\n",
       "      <th></th>\n",
       "      <th>id</th>\n",
       "      <th>message_date</th>\n",
       "      <th>user_id</th>\n",
       "    </tr>\n",
       "  </thead>\n",
       "  <tbody>\n",
       "    <tr>\n",
       "      <th>105140</th>\n",
       "      <td>1425_384</td>\n",
       "      <td>2018-04-27</td>\n",
       "      <td>1425</td>\n",
       "    </tr>\n",
       "    <tr>\n",
       "      <th>89957</th>\n",
       "      <td>1374_405</td>\n",
       "      <td>2018-06-18</td>\n",
       "      <td>1374</td>\n",
       "    </tr>\n",
       "    <tr>\n",
       "      <th>90251</th>\n",
       "      <td>1375_51</td>\n",
       "      <td>2018-10-29</td>\n",
       "      <td>1375</td>\n",
       "    </tr>\n",
       "    <tr>\n",
       "      <th>21003</th>\n",
       "      <td>1089_1006</td>\n",
       "      <td>2018-03-07</td>\n",
       "      <td>1089</td>\n",
       "    </tr>\n",
       "    <tr>\n",
       "      <th>107374</th>\n",
       "      <td>1432_306</td>\n",
       "      <td>2018-11-07</td>\n",
       "      <td>1432</td>\n",
       "    </tr>\n",
       "  </tbody>\n",
       "</table>\n",
       "</div>"
      ],
      "text/plain": [
       "               id message_date  user_id\n",
       "105140   1425_384   2018-04-27     1425\n",
       "89957    1374_405   2018-06-18     1374\n",
       "90251     1375_51   2018-10-29     1375\n",
       "21003   1089_1006   2018-03-07     1089\n",
       "107374   1432_306   2018-11-07     1432"
      ]
     },
     "execution_count": 5,
     "metadata": {},
     "output_type": "execute_result"
    }
   ],
   "source": [
    "messages.info() # выводим общую информацию о таблице\n",
    "messages.sample(5) # пять случайных строк таблицы"
   ]
  },
  {
   "cell_type": "markdown",
   "metadata": {},
   "source": [
    "Таблица содержит 3 столбца, содержащих 2 типа данных — `int64` и`object`.\n",
    "\n",
    "Описание данных согласно документации:\n",
    "* `id` — уникальный номер сообщения\n",
    "* `message_date` — дата сообщения\n",
    "* `user_id` — идентификатор пользователя, отправившего сообщение"
   ]
  },
  {
   "cell_type": "markdown",
   "metadata": {},
   "source": [
    "**Выводы**\n",
    "* В таблице отсутствуют пропущенные значения.\n",
    "* Столбец `message_date` содержит дату, но тип данных при этом `object`.\n",
    "* Для экономии ресурсов памяти можно привести данные типа `int64` к`int32`."
   ]
  },
  {
   "cell_type": "markdown",
   "metadata": {},
   "source": [
    "### Информация об интернет-сессиях"
   ]
  },
  {
   "cell_type": "code",
   "execution_count": 6,
   "metadata": {},
   "outputs": [
    {
     "name": "stdout",
     "output_type": "stream",
     "text": [
      "<class 'pandas.core.frame.DataFrame'>\n",
      "RangeIndex: 149396 entries, 0 to 149395\n",
      "Data columns (total 5 columns):\n",
      " #   Column        Non-Null Count   Dtype  \n",
      "---  ------        --------------   -----  \n",
      " 0   Unnamed: 0    149396 non-null  int64  \n",
      " 1   id            149396 non-null  object \n",
      " 2   mb_used       149396 non-null  float64\n",
      " 3   session_date  149396 non-null  object \n",
      " 4   user_id       149396 non-null  int64  \n",
      "dtypes: float64(1), int64(2), object(2)\n",
      "memory usage: 5.7+ MB\n"
     ]
    },
    {
     "data": {
      "text/html": [
       "<div>\n",
       "<style scoped>\n",
       "    .dataframe tbody tr th:only-of-type {\n",
       "        vertical-align: middle;\n",
       "    }\n",
       "\n",
       "    .dataframe tbody tr th {\n",
       "        vertical-align: top;\n",
       "    }\n",
       "\n",
       "    .dataframe thead th {\n",
       "        text-align: right;\n",
       "    }\n",
       "</style>\n",
       "<table border=\"1\" class=\"dataframe\">\n",
       "  <thead>\n",
       "    <tr style=\"text-align: right;\">\n",
       "      <th></th>\n",
       "      <th>Unnamed: 0</th>\n",
       "      <th>id</th>\n",
       "      <th>mb_used</th>\n",
       "      <th>session_date</th>\n",
       "      <th>user_id</th>\n",
       "    </tr>\n",
       "  </thead>\n",
       "  <tbody>\n",
       "    <tr>\n",
       "      <th>36073</th>\n",
       "      <td>36073</td>\n",
       "      <td>1126_20</td>\n",
       "      <td>433.07</td>\n",
       "      <td>2018-03-17</td>\n",
       "      <td>1126</td>\n",
       "    </tr>\n",
       "    <tr>\n",
       "      <th>17197</th>\n",
       "      <td>17197</td>\n",
       "      <td>1059_203</td>\n",
       "      <td>0.00</td>\n",
       "      <td>2018-04-20</td>\n",
       "      <td>1059</td>\n",
       "    </tr>\n",
       "    <tr>\n",
       "      <th>140998</th>\n",
       "      <td>140998</td>\n",
       "      <td>1473_12</td>\n",
       "      <td>985.79</td>\n",
       "      <td>2018-08-31</td>\n",
       "      <td>1473</td>\n",
       "    </tr>\n",
       "    <tr>\n",
       "      <th>50215</th>\n",
       "      <td>50215</td>\n",
       "      <td>1172_497</td>\n",
       "      <td>150.51</td>\n",
       "      <td>2018-11-30</td>\n",
       "      <td>1172</td>\n",
       "    </tr>\n",
       "    <tr>\n",
       "      <th>103032</th>\n",
       "      <td>103032</td>\n",
       "      <td>1345_211</td>\n",
       "      <td>734.38</td>\n",
       "      <td>2018-09-20</td>\n",
       "      <td>1345</td>\n",
       "    </tr>\n",
       "  </tbody>\n",
       "</table>\n",
       "</div>"
      ],
      "text/plain": [
       "        Unnamed: 0        id  mb_used session_date  user_id\n",
       "36073        36073   1126_20   433.07   2018-03-17     1126\n",
       "17197        17197  1059_203     0.00   2018-04-20     1059\n",
       "140998      140998   1473_12   985.79   2018-08-31     1473\n",
       "50215        50215  1172_497   150.51   2018-11-30     1172\n",
       "103032      103032  1345_211   734.38   2018-09-20     1345"
      ]
     },
     "execution_count": 6,
     "metadata": {},
     "output_type": "execute_result"
    }
   ],
   "source": [
    "internet.info() # выводим общую информацию о таблице\n",
    "internet.sample(5) # пять случайных строк таблицы"
   ]
  },
  {
   "cell_type": "markdown",
   "metadata": {},
   "source": [
    "<div style=\"border-radius: 3px; border: 2px solid black; padding: 0px;\">      \n",
    "<div class=\"alert alert-warning\">\n",
    "<s>Комментарий ревьюера⚠️:</b> \n",
    "    \n",
    "Unnamed: 0 возникает, когда данные сохраняют с указанием индекса pd.DataFrame().to_csv(..., index=column). Если при чтении указать этот столбец pd.read_csv(..., index_col=0) - данные сразу прочитаются корректно\n",
    "    \n",
    "</div>\n",
    "</div>"
   ]
  },
  {
   "cell_type": "markdown",
   "metadata": {},
   "source": [
    "<div class=\"alert alert-block alert-info\">\n",
    "<b>Комментарий студента 🎓: </b>\n",
    "    Спасибо! Поправил."
   ]
  },
  {
   "cell_type": "markdown",
   "metadata": {},
   "source": [
    "<div style=\"border-radius: 3px; border: 2px solid black; padding: 0px;\">     \n",
    "<div class=\"alert alert-success\">\n",
    "<b>Комментарий ревьюера V.2 ✔️:</b> \n",
    "    \n",
    "🔥🔥🔥    \n",
    "\n",
    "</div>\n",
    "</div>"
   ]
  },
  {
   "cell_type": "markdown",
   "metadata": {},
   "source": [
    "В таблице сохранён столбец с индексами - укажем его при чтении файла."
   ]
  },
  {
   "cell_type": "code",
   "execution_count": 7,
   "metadata": {},
   "outputs": [
    {
     "name": "stdout",
     "output_type": "stream",
     "text": [
      "<class 'pandas.core.frame.DataFrame'>\n",
      "Int64Index: 149396 entries, 0 to 149395\n",
      "Data columns (total 4 columns):\n",
      " #   Column        Non-Null Count   Dtype  \n",
      "---  ------        --------------   -----  \n",
      " 0   id            149396 non-null  object \n",
      " 1   mb_used       149396 non-null  float64\n",
      " 2   session_date  149396 non-null  object \n",
      " 3   user_id       149396 non-null  int64  \n",
      "dtypes: float64(1), int64(1), object(2)\n",
      "memory usage: 5.7+ MB\n"
     ]
    },
    {
     "data": {
      "text/html": [
       "<div>\n",
       "<style scoped>\n",
       "    .dataframe tbody tr th:only-of-type {\n",
       "        vertical-align: middle;\n",
       "    }\n",
       "\n",
       "    .dataframe tbody tr th {\n",
       "        vertical-align: top;\n",
       "    }\n",
       "\n",
       "    .dataframe thead th {\n",
       "        text-align: right;\n",
       "    }\n",
       "</style>\n",
       "<table border=\"1\" class=\"dataframe\">\n",
       "  <thead>\n",
       "    <tr style=\"text-align: right;\">\n",
       "      <th></th>\n",
       "      <th>id</th>\n",
       "      <th>mb_used</th>\n",
       "      <th>session_date</th>\n",
       "      <th>user_id</th>\n",
       "    </tr>\n",
       "  </thead>\n",
       "  <tbody>\n",
       "    <tr>\n",
       "      <th>143811</th>\n",
       "      <td>1481_165</td>\n",
       "      <td>75.18</td>\n",
       "      <td>2018-06-27</td>\n",
       "      <td>1481</td>\n",
       "    </tr>\n",
       "    <tr>\n",
       "      <th>131318</th>\n",
       "      <td>1436_284</td>\n",
       "      <td>3.34</td>\n",
       "      <td>2018-10-01</td>\n",
       "      <td>1436</td>\n",
       "    </tr>\n",
       "    <tr>\n",
       "      <th>57735</th>\n",
       "      <td>1193_274</td>\n",
       "      <td>128.46</td>\n",
       "      <td>2018-09-08</td>\n",
       "      <td>1193</td>\n",
       "    </tr>\n",
       "    <tr>\n",
       "      <th>120386</th>\n",
       "      <td>1405_62</td>\n",
       "      <td>407.91</td>\n",
       "      <td>2018-12-31</td>\n",
       "      <td>1405</td>\n",
       "    </tr>\n",
       "    <tr>\n",
       "      <th>25903</th>\n",
       "      <td>1089_195</td>\n",
       "      <td>301.97</td>\n",
       "      <td>2018-04-21</td>\n",
       "      <td>1089</td>\n",
       "    </tr>\n",
       "  </tbody>\n",
       "</table>\n",
       "</div>"
      ],
      "text/plain": [
       "              id  mb_used session_date  user_id\n",
       "143811  1481_165    75.18   2018-06-27     1481\n",
       "131318  1436_284     3.34   2018-10-01     1436\n",
       "57735   1193_274   128.46   2018-09-08     1193\n",
       "120386   1405_62   407.91   2018-12-31     1405\n",
       "25903   1089_195   301.97   2018-04-21     1089"
      ]
     },
     "execution_count": 7,
     "metadata": {},
     "output_type": "execute_result"
    }
   ],
   "source": [
    "internet = pd.read_csv('/datasets/internet.csv', index_col=0) # пересохраним переменную с указанием столбца\n",
    "internet.info() # выводим общую информацию о таблице\n",
    "internet.sample(5) # пять случайных строк таблицы"
   ]
  },
  {
   "cell_type": "markdown",
   "metadata": {},
   "source": [
    "Таблица содержит 5 столбцов, содержащих 3 типа данных — `float64`,`int64` и`object`.\n",
    "\n",
    "Описание данных согласно документации:\n",
    "* `id` — уникальный номер сессии\n",
    "* `mb_used` — объём потраченного за сессию интернет-трафика (в мегабайтах)\n",
    "* `session_date` — дата интернет-сессии\n",
    "* `user_id` — идентификатор пользователя\n"
   ]
  },
  {
   "cell_type": "markdown",
   "metadata": {},
   "source": [
    "**Выводы**\n",
    "* Столбец `session_date` содержит дату, но тип данных при этом `object`.\n",
    "* Для экономии ресурсов памяти можно привести данные типа `int64` к`int32`, столбец `mb_used` также можно привести к `int`, так для исследования нам не нужны доли мегабайтов."
   ]
  },
  {
   "cell_type": "markdown",
   "metadata": {},
   "source": [
    "### Информация о тарифах"
   ]
  },
  {
   "cell_type": "code",
   "execution_count": 8,
   "metadata": {},
   "outputs": [
    {
     "name": "stdout",
     "output_type": "stream",
     "text": [
      "<class 'pandas.core.frame.DataFrame'>\n",
      "RangeIndex: 2 entries, 0 to 1\n",
      "Data columns (total 8 columns):\n",
      " #   Column                 Non-Null Count  Dtype \n",
      "---  ------                 --------------  ----- \n",
      " 0   messages_included      2 non-null      int64 \n",
      " 1   mb_per_month_included  2 non-null      int64 \n",
      " 2   minutes_included       2 non-null      int64 \n",
      " 3   rub_monthly_fee        2 non-null      int64 \n",
      " 4   rub_per_gb             2 non-null      int64 \n",
      " 5   rub_per_message        2 non-null      int64 \n",
      " 6   rub_per_minute         2 non-null      int64 \n",
      " 7   tariff_name            2 non-null      object\n",
      "dtypes: int64(7), object(1)\n",
      "memory usage: 256.0+ bytes\n"
     ]
    },
    {
     "data": {
      "text/html": [
       "<div>\n",
       "<style scoped>\n",
       "    .dataframe tbody tr th:only-of-type {\n",
       "        vertical-align: middle;\n",
       "    }\n",
       "\n",
       "    .dataframe tbody tr th {\n",
       "        vertical-align: top;\n",
       "    }\n",
       "\n",
       "    .dataframe thead th {\n",
       "        text-align: right;\n",
       "    }\n",
       "</style>\n",
       "<table border=\"1\" class=\"dataframe\">\n",
       "  <thead>\n",
       "    <tr style=\"text-align: right;\">\n",
       "      <th></th>\n",
       "      <th>messages_included</th>\n",
       "      <th>mb_per_month_included</th>\n",
       "      <th>minutes_included</th>\n",
       "      <th>rub_monthly_fee</th>\n",
       "      <th>rub_per_gb</th>\n",
       "      <th>rub_per_message</th>\n",
       "      <th>rub_per_minute</th>\n",
       "      <th>tariff_name</th>\n",
       "    </tr>\n",
       "  </thead>\n",
       "  <tbody>\n",
       "    <tr>\n",
       "      <th>0</th>\n",
       "      <td>50</td>\n",
       "      <td>15360</td>\n",
       "      <td>500</td>\n",
       "      <td>550</td>\n",
       "      <td>200</td>\n",
       "      <td>3</td>\n",
       "      <td>3</td>\n",
       "      <td>smart</td>\n",
       "    </tr>\n",
       "    <tr>\n",
       "      <th>1</th>\n",
       "      <td>1000</td>\n",
       "      <td>30720</td>\n",
       "      <td>3000</td>\n",
       "      <td>1950</td>\n",
       "      <td>150</td>\n",
       "      <td>1</td>\n",
       "      <td>1</td>\n",
       "      <td>ultra</td>\n",
       "    </tr>\n",
       "  </tbody>\n",
       "</table>\n",
       "</div>"
      ],
      "text/plain": [
       "   messages_included  mb_per_month_included  minutes_included  \\\n",
       "0                 50                  15360               500   \n",
       "1               1000                  30720              3000   \n",
       "\n",
       "   rub_monthly_fee  rub_per_gb  rub_per_message  rub_per_minute tariff_name  \n",
       "0              550         200                3               3       smart  \n",
       "1             1950         150                1               1       ultra  "
      ]
     },
     "execution_count": 8,
     "metadata": {},
     "output_type": "execute_result"
    }
   ],
   "source": [
    "tariffs.info() # выводим общую информацию о таблице\n",
    "tariffs # выводим таблицу"
   ]
  },
  {
   "cell_type": "markdown",
   "metadata": {},
   "source": [
    "Таблица содержит 2 столбца, содержащих 2 типа данных — `int64` и`object`.\n",
    "\n",
    "Описание данных согласно документации:\n",
    "* `tariff_name` — название тарифа\n",
    "* `rub_monthly_fee` — ежемесячная абонентская плата в рублях\n",
    "* `minutes_included` — количество минут разговора в месяц, включённых в абонентскую плату\n",
    "* `messages_included` — количество сообщений в месяц, включённых в абонентскую плату\n",
    "* `mb_per_month_included` — объём интернет-трафика, включённого в абонентскую плату (в мегабайтах)\n",
    "* `rub_per_minute` — стоимость минуты разговора сверх тарифного пакета\n",
    "* `rub_per_message` — стоимость отправки сообщения сверх тарифного пакета\n",
    "* `rub_per_gb` — стоимость дополнительного гигабайта интернет-трафика сверх тарифного пакета (1 гигабайт = 1024 мегабайта)\n",
    "\n",
    "Описание тарифов:\n",
    "\n",
    "**Тариф «Смарт»**\n",
    "\n",
    "1. Ежемесячная плата: 550 рублей\n",
    "2. Включено 500 минут разговора, 50 сообщений и 15 Гб интернет-трафика\n",
    "3. Стоимость услуг сверх тарифного пакета:\n",
    " * минута разговора: 3 рубля\n",
    " * сообщение: 3 рубля\n",
    " * 1 Гб интернет-трафика: 200 рублей\n",
    "\n",
    "**Тариф «Ультра»**\n",
    "\n",
    "1. Ежемесячная плата: 1950 рублей\n",
    "2. Включено 3000 минут разговора, 1000 сообщений и 30 Гб интернет-трафика\n",
    "3. Стоимость услуг сверх тарифного пакета:\n",
    " * минута разговора: 1 рубль\n",
    " * сообщение: 1 рубль\n",
    " * 1 Гб интернет-трафика: 150 рублей\n",
    "\n",
    "Согласно тарифным правилам, в звонках секунды округляются до минут, а мегабайты — до гигабайт. Каждый звонок округляется отдельно: даже если он длился всего 1 секунду, будет засчитан как 1 минута.\n",
    "Для веб-трафика отдельные сессии не считаются. Вместо этого общая сумма за месяц округляется в бо́льшую сторону. Если абонент использует 1025 мегабайт в этом месяце, с него возьмут плату за 2 гигабайта. Неиспользованные за предыдущий месяц звонки, смс, интернет на следующий месяц не переносятся."
   ]
  },
  {
   "cell_type": "markdown",
   "metadata": {},
   "source": [
    "**Выводы**\n",
    "* Данные о звонках и интернет сессиях округляются в большую сторону, что необходимо будет учесть при расчёте выручки от пользователей.\n",
    "* В тарифах плата установлена за гигабайт траффика, но при этом сами сессии считаются в мегабайтах, данные о включенном трафике также представлены в мегабайтах.\n",
    "* Для экономии ресурсов памяти можно привести данные типа `int64` к`int32`."
   ]
  },
  {
   "cell_type": "markdown",
   "metadata": {},
   "source": [
    "### Вывод"
   ]
  },
  {
   "cell_type": "markdown",
   "metadata": {},
   "source": [
    "В ходе обзора данных были сделаны следующие выводы:\n",
    "\n",
    "* Явных пропущенных значений в таблицах не обнаружено. Пропуски в `churn_date` таблицы `users` и  нулевые значения в таблице `call` оправданы (в соответствии с документацией).\n",
    "* Во всех таблицах данные с датами представлены типом `object`. Это оправдано только в `churn_date` - из-за пропусков данные не удастся привести к другому виду, в остальных случаях препятствий для преобразования нет. Для исследования даты нужны только для группировки данных абонентов по месяцам - потому при образовании этих данных необходимо сразу получать номер месяца.\n",
    "* Для экономии ресурсов памяти можно привести все данные типа `int64` к`int32`.\n",
    "* Столбцы с именами клиентов скорее всего не пригодятся в исследовании, достаточно использования `user_id`.\n",
    "* Данные о звонках и интернет сессиях округляются в большую сторону, что необходимо будет учесть при расчёте выручки от пользователей.\n",
    "* В тарифах плата установлена за гигабайт траффика, но при этом сами сессии считаются в мегабайтах, данные о включенном трафике также представлены в мегабайтах.\n"
   ]
  },
  {
   "cell_type": "markdown",
   "metadata": {},
   "source": [
    "<div style=\"border-radius: 3px; border: 2px solid black; padding: 0px;\">     \n",
    "<div class=\"alert alert-success\">\n",
    "<b>Комментарий ревьюера✔️:</b> \n",
    "    \n",
    "Есть контакт 😎    \n",
    "\n",
    "</div>\n",
    "</div>"
   ]
  },
  {
   "cell_type": "markdown",
   "metadata": {},
   "source": [
    "<a id='pre-proc'></a>"
   ]
  },
  {
   "cell_type": "markdown",
   "metadata": {},
   "source": [
    "## Предобработка данных\n",
    "\n",
    "Данные в таблицах будут предобработаны отдельно, после чего будут произведены необходимые для исследования расчёты параметров и объединения. Начнём с информации о пользователях. "
   ]
  },
  {
   "cell_type": "markdown",
   "metadata": {},
   "source": [
    "### Подготовка данных"
   ]
  },
  {
   "cell_type": "markdown",
   "metadata": {},
   "source": [
    "Начнём с информации об абонентах:"
   ]
  },
  {
   "cell_type": "code",
   "execution_count": 9,
   "metadata": {},
   "outputs": [
    {
     "name": "stdout",
     "output_type": "stream",
     "text": [
      "<class 'pandas.core.frame.DataFrame'>\n",
      "RangeIndex: 500 entries, 0 to 499\n",
      "Data columns (total 8 columns):\n",
      " #   Column      Non-Null Count  Dtype \n",
      "---  ------      --------------  ----- \n",
      " 0   user_id     500 non-null    int64 \n",
      " 1   age         500 non-null    int64 \n",
      " 2   churn_date  38 non-null     object\n",
      " 3   city        500 non-null    object\n",
      " 4   first_name  500 non-null    object\n",
      " 5   last_name   500 non-null    object\n",
      " 6   reg_date    500 non-null    object\n",
      " 7   tariff      500 non-null    object\n",
      "dtypes: int64(2), object(6)\n",
      "memory usage: 31.4+ KB\n"
     ]
    }
   ],
   "source": [
    "users.info() # ещё раз выведем общую информацию о таблице"
   ]
  },
  {
   "cell_type": "markdown",
   "metadata": {},
   "source": [
    "Данные `churn_date` и `reg_date` могли бы быть использованы в исследовании - например, для установления зависимости расторжения контрактов клиентов от тарифа (предположительно в связи с неудовлетворительными условими). Создадим новый столбец `time_active` с данными о сроке использования тарифа:"
   ]
  },
  {
   "cell_type": "code",
   "execution_count": 10,
   "metadata": {},
   "outputs": [
    {
     "name": "stdout",
     "output_type": "stream",
     "text": [
      "<class 'pandas.core.frame.DataFrame'>\n",
      "RangeIndex: 500 entries, 0 to 499\n",
      "Data columns (total 5 columns):\n",
      " #   Column       Non-Null Count  Dtype \n",
      "---  ------       --------------  ----- \n",
      " 0   user_id      500 non-null    int32 \n",
      " 1   age          500 non-null    int32 \n",
      " 2   city         500 non-null    object\n",
      " 3   tariff       500 non-null    object\n",
      " 4   days_active  38 non-null     Int32 \n",
      "dtypes: Int32(1), int32(2), object(2)\n",
      "memory usage: 14.3+ KB\n",
      "inactive client share is 7.6%.\n"
     ]
    },
    {
     "data": {
      "text/html": [
       "<div>\n",
       "<style scoped>\n",
       "    .dataframe tbody tr th:only-of-type {\n",
       "        vertical-align: middle;\n",
       "    }\n",
       "\n",
       "    .dataframe tbody tr th {\n",
       "        vertical-align: top;\n",
       "    }\n",
       "\n",
       "    .dataframe thead th {\n",
       "        text-align: right;\n",
       "    }\n",
       "</style>\n",
       "<table border=\"1\" class=\"dataframe\">\n",
       "  <thead>\n",
       "    <tr style=\"text-align: right;\">\n",
       "      <th></th>\n",
       "      <th>user_id</th>\n",
       "      <th>age</th>\n",
       "      <th>days_active</th>\n",
       "    </tr>\n",
       "  </thead>\n",
       "  <tbody>\n",
       "    <tr>\n",
       "      <th>count</th>\n",
       "      <td>500.00</td>\n",
       "      <td>500.00</td>\n",
       "      <td>38.00</td>\n",
       "    </tr>\n",
       "    <tr>\n",
       "      <th>mean</th>\n",
       "      <td>1,249.50</td>\n",
       "      <td>46.59</td>\n",
       "      <td>124.08</td>\n",
       "    </tr>\n",
       "    <tr>\n",
       "      <th>std</th>\n",
       "      <td>144.48</td>\n",
       "      <td>16.67</td>\n",
       "      <td>79.95</td>\n",
       "    </tr>\n",
       "    <tr>\n",
       "      <th>min</th>\n",
       "      <td>1,000.00</td>\n",
       "      <td>18.00</td>\n",
       "      <td>5.00</td>\n",
       "    </tr>\n",
       "    <tr>\n",
       "      <th>25%</th>\n",
       "      <td>1,124.75</td>\n",
       "      <td>32.00</td>\n",
       "      <td>58.50</td>\n",
       "    </tr>\n",
       "    <tr>\n",
       "      <th>50%</th>\n",
       "      <td>1,249.50</td>\n",
       "      <td>46.00</td>\n",
       "      <td>105.50</td>\n",
       "    </tr>\n",
       "    <tr>\n",
       "      <th>75%</th>\n",
       "      <td>1,374.25</td>\n",
       "      <td>62.00</td>\n",
       "      <td>192.25</td>\n",
       "    </tr>\n",
       "    <tr>\n",
       "      <th>max</th>\n",
       "      <td>1,499.00</td>\n",
       "      <td>75.00</td>\n",
       "      <td>284.00</td>\n",
       "    </tr>\n",
       "  </tbody>\n",
       "</table>\n",
       "</div>"
      ],
      "text/plain": [
       "       user_id    age  days_active\n",
       "count   500.00 500.00        38.00\n",
       "mean  1,249.50  46.59       124.08\n",
       "std     144.48  16.67        79.95\n",
       "min   1,000.00  18.00         5.00\n",
       "25%   1,124.75  32.00        58.50\n",
       "50%   1,249.50  46.00       105.50\n",
       "75%   1,374.25  62.00       192.25\n",
       "max   1,499.00  75.00       284.00"
      ]
     },
     "execution_count": 10,
     "metadata": {},
     "output_type": "execute_result"
    }
   ],
   "source": [
    "users['reg_date'] = pd.to_datetime(users['reg_date'])\n",
    "users['churn_date'] = pd.to_datetime(users['churn_date'])\n",
    "# преобразуем данные столбцов в даты \n",
    "\n",
    "users['days_active'] = (users['churn_date'] - users ['reg_date']).dt.days # количество дней использования тарифа\n",
    "\n",
    "users = users.drop(['first_name', 'last_name', 'reg_date','churn_date'], axis=1)\n",
    "# имена абонентов нам не нужны, даты также больше не понадобятся - удалим лишние данные\n",
    "\n",
    "users[['user_id', 'age']] = users[['user_id', 'age']].astype('int32') # поменяем тип данных\n",
    "users['days_active'] = users['days_active'].astype('Int32') # немного другой тип для столбца с пропусками\n",
    "\n",
    "users.info() # выведем информацию об обновлённой таблице\n",
    "print(f'inactive client share is {round(users[\"days_active\"].notna().sum()/len(users)*100, 2)}%.') # подсчитаем долю пропусков\n",
    "users.describe() # описательная статистика"
   ]
  },
  {
   "cell_type": "markdown",
   "metadata": {},
   "source": [
    "На основании получившейся таблицы уже можно сделать интересные выводы по выборке данных:\n",
    "* Средний возраст абонентов - 46 лет\n",
    "* 7.6% клиентов прекратили пользоваться выбранным тарифом в 2018 году.\n",
    "* Из тех, кто больше не использует тариф, среднее время использование услуг составляет около 4 месяцев.\n",
    "\n",
    "Напоследок попробуем визуализировать последний вывод в разрезе тарифов:"
   ]
  },
  {
   "cell_type": "code",
   "execution_count": 11,
   "metadata": {},
   "outputs": [
    {
     "data": {
      "text/plain": [
       "tariff\n",
       "smart    23\n",
       "ultra    15\n",
       "Name: days_active, dtype: int64"
      ]
     },
     "metadata": {},
     "output_type": "display_data"
    },
    {
     "data": {
      "image/png": "[encoded data removed]",
      "text/plain": [
       "<Figure size 1080x360 with 1 Axes>"
      ]
     },
     "metadata": {},
     "output_type": "display_data"
    }
   ],
   "source": [
    "# создадим список интервалов для гистограммы, равным одному месяцу\n",
    "interval = [0]\n",
    "val = 0\n",
    "\n",
    "for i in range(12):\n",
    "    val += 30\n",
    "    interval.append(val)\n",
    "    \n",
    "display(users.groupby('tariff')['days_active'].count()) # выведем распределение абонентов по тарифам\n",
    "\n",
    "# изучим поведение абонентов с разными тарифами на гистограмме за год \n",
    "(users\n",
    " .groupby('tariff')['days_active']\n",
    " .plot(kind='hist', legend = True, bins=interval, figsize=[15,5], grid=True, alpha=0.5, xticks=interval)\n",
    ")\n",
    "plt.xlabel('days', fontsize=13)\n",
    "plt.ylabel('frequency', fontsize=13)\n",
    "plt.title('days active', fontsize=15)\n",
    "plt.show()\n"
   ]
  },
  {
   "cell_type": "markdown",
   "metadata": {},
   "source": [
    "<div style=\"border-radius: 3px; border: 2px solid black; padding: 0px;\">      \n",
    "<div class=\"alert alert-warning\">\n",
    "<s>Комментарий ревьюера ⚠️:</b> \n",
    "    \n",
    "Рекомендую также оформить графики: подписать оси (функции plt.xlabel(), plt.ylabel()) и добавить названия (plt.title())\n",
    "    \n",
    "</div>\n",
    "</div>"
   ]
  },
  {
   "cell_type": "markdown",
   "metadata": {},
   "source": [
    "<div class=\"alert alert-block alert-info\">\n",
    "<b>Комментарий студента 🎓: </b>\n",
    "    Спасибо! Добавил дополнительных параметров."
   ]
  },
  {
   "cell_type": "markdown",
   "metadata": {},
   "source": [
    "С учётом неравного распределение по тарифам, данных для серьезных выводов недостаточно (всего 7.6% процентов выборки из 500 человек). Но при этом всё равно можно заметить, что абоненты разных тарифов ведут себя по разному:\n",
    "1. Большинство пользователи тарифа 'Смарт' отказываются от него в первые три месяца использования, пик приходится на второй месяц.\n",
    "2. Распределение отказов от тарифа среди пользователей 'Ультра' более равномерно, пик приходится на четвёртый месяц.\n",
    "\n",
    "Больше выводов из этих данных мы сделать не можем, а пропущенные значения могут помещать дальнейшим расчётам - удалим этот столбец и перейдём к следующей таблице:"
   ]
  },
  {
   "cell_type": "markdown",
   "metadata": {},
   "source": [
    "<div style=\"border-radius: 3px; border: 2px solid black; padding: 0px;\">     \n",
    "<div class=\"alert alert-success\">\n",
    "<b>Комментарий ревьюера✔️:</b> \n",
    "    \n",
    "👏👏👏    \n",
    "\n",
    "</div>\n",
    "</div>"
   ]
  },
  {
   "cell_type": "code",
   "execution_count": 12,
   "metadata": {},
   "outputs": [],
   "source": [
    "users = users.drop('days_active', axis=1)"
   ]
  },
  {
   "cell_type": "code",
   "execution_count": 13,
   "metadata": {},
   "outputs": [
    {
     "name": "stdout",
     "output_type": "stream",
     "text": [
      "<class 'pandas.core.frame.DataFrame'>\n",
      "RangeIndex: 202607 entries, 0 to 202606\n",
      "Data columns (total 4 columns):\n",
      " #   Column     Non-Null Count   Dtype  \n",
      "---  ------     --------------   -----  \n",
      " 0   id         202607 non-null  object \n",
      " 1   call_date  202607 non-null  object \n",
      " 2   duration   202607 non-null  float64\n",
      " 3   user_id    202607 non-null  int64  \n",
      "dtypes: float64(1), int64(1), object(2)\n",
      "memory usage: 6.2+ MB\n",
      "missed calls share is 19.55%.\n"
     ]
    }
   ],
   "source": [
    "calls.info() # информация о звонках\n",
    "calls.sample(10) # случайные 10 строк из таблицы\n",
    "\n",
    "print(f'missed calls share is {round(calls[calls[\"duration\"] == 0][\"duration\"].count()/len(calls)*100, 2)}%.')\n",
    "# посчитаем  долю пропущенных звонков"
   ]
  },
  {
   "cell_type": "markdown",
   "metadata": {},
   "source": [
    "Около 20% таблицы состявляют пропущенные звонки - в рамках исследования они могут понадобится для дополнительного характеризования поведение клиентов. Для исследования нам не нужны даты звонков - оставим только месяцы. Затем поменяем типы данных (данные о длительности звонков округлим в большую сторону, согласно документации)."
   ]
  },
  {
   "cell_type": "code",
   "execution_count": 14,
   "metadata": {},
   "outputs": [],
   "source": [
    "calls['call_date'] = pd.to_datetime(calls['call_date']).dt.month.astype('int32')  # получим номер месяца\n",
    "calls = calls.rename(columns={'call_date': 'month'}) # переименуем колонку\n",
    "\n",
    "calls['duration'] = np.ceil(calls['duration']).astype('int32') \n",
    "# согласно правилам тарифов, все звонки округляются до целых минут в большую сторону\n",
    "\n",
    "calls['user_id'] = calls['user_id'].astype('int32') # поменяем тип данных для экономии памяти"
   ]
  },
  {
   "cell_type": "code",
   "execution_count": 15,
   "metadata": {},
   "outputs": [
    {
     "data": {
      "text/html": [
       "<div>\n",
       "<style scoped>\n",
       "    .dataframe tbody tr th:only-of-type {\n",
       "        vertical-align: middle;\n",
       "    }\n",
       "\n",
       "    .dataframe tbody tr th {\n",
       "        vertical-align: top;\n",
       "    }\n",
       "\n",
       "    .dataframe thead th {\n",
       "        text-align: right;\n",
       "    }\n",
       "</style>\n",
       "<table border=\"1\" class=\"dataframe\">\n",
       "  <thead>\n",
       "    <tr style=\"text-align: right;\">\n",
       "      <th></th>\n",
       "      <th>id</th>\n",
       "      <th>month</th>\n",
       "      <th>duration</th>\n",
       "      <th>user_id</th>\n",
       "    </tr>\n",
       "  </thead>\n",
       "  <tbody>\n",
       "    <tr>\n",
       "      <th>184749</th>\n",
       "      <td>1458_41</td>\n",
       "      <td>11</td>\n",
       "      <td>6</td>\n",
       "      <td>1458</td>\n",
       "    </tr>\n",
       "    <tr>\n",
       "      <th>149371</th>\n",
       "      <td>1377_218</td>\n",
       "      <td>4</td>\n",
       "      <td>4</td>\n",
       "      <td>1377</td>\n",
       "    </tr>\n",
       "    <tr>\n",
       "      <th>184468</th>\n",
       "      <td>1457_440</td>\n",
       "      <td>4</td>\n",
       "      <td>1</td>\n",
       "      <td>1457</td>\n",
       "    </tr>\n",
       "    <tr>\n",
       "      <th>90135</th>\n",
       "      <td>1225_395</td>\n",
       "      <td>8</td>\n",
       "      <td>2</td>\n",
       "      <td>1225</td>\n",
       "    </tr>\n",
       "    <tr>\n",
       "      <th>94913</th>\n",
       "      <td>1240_441</td>\n",
       "      <td>7</td>\n",
       "      <td>10</td>\n",
       "      <td>1240</td>\n",
       "    </tr>\n",
       "    <tr>\n",
       "      <th>16283</th>\n",
       "      <td>1045_5</td>\n",
       "      <td>10</td>\n",
       "      <td>7</td>\n",
       "      <td>1045</td>\n",
       "    </tr>\n",
       "    <tr>\n",
       "      <th>141520</th>\n",
       "      <td>1359_479</td>\n",
       "      <td>9</td>\n",
       "      <td>18</td>\n",
       "      <td>1359</td>\n",
       "    </tr>\n",
       "    <tr>\n",
       "      <th>12156</th>\n",
       "      <td>1032_175</td>\n",
       "      <td>9</td>\n",
       "      <td>6</td>\n",
       "      <td>1032</td>\n",
       "    </tr>\n",
       "    <tr>\n",
       "      <th>73733</th>\n",
       "      <td>1185_527</td>\n",
       "      <td>9</td>\n",
       "      <td>8</td>\n",
       "      <td>1185</td>\n",
       "    </tr>\n",
       "    <tr>\n",
       "      <th>145891</th>\n",
       "      <td>1372_69</td>\n",
       "      <td>2</td>\n",
       "      <td>0</td>\n",
       "      <td>1372</td>\n",
       "    </tr>\n",
       "  </tbody>\n",
       "</table>\n",
       "</div>"
      ],
      "text/plain": [
       "              id  month  duration  user_id\n",
       "184749   1458_41     11         6     1458\n",
       "149371  1377_218      4         4     1377\n",
       "184468  1457_440      4         1     1457\n",
       "90135   1225_395      8         2     1225\n",
       "94913   1240_441      7        10     1240\n",
       "16283     1045_5     10         7     1045\n",
       "141520  1359_479      9        18     1359\n",
       "12156   1032_175      9         6     1032\n",
       "73733   1185_527      9         8     1185\n",
       "145891   1372_69      2         0     1372"
      ]
     },
     "execution_count": 15,
     "metadata": {},
     "output_type": "execute_result"
    }
   ],
   "source": [
    "calls.sample(10) # случайные 10 строк из таблицы"
   ]
  },
  {
   "cell_type": "code",
   "execution_count": 16,
   "metadata": {},
   "outputs": [
    {
     "name": "stdout",
     "output_type": "stream",
     "text": [
      "<class 'pandas.core.frame.DataFrame'>\n",
      "RangeIndex: 202607 entries, 0 to 202606\n",
      "Data columns (total 4 columns):\n",
      " #   Column    Non-Null Count   Dtype \n",
      "---  ------    --------------   ----- \n",
      " 0   id        202607 non-null  object\n",
      " 1   month     202607 non-null  int32 \n",
      " 2   duration  202607 non-null  int32 \n",
      " 3   user_id   202607 non-null  int32 \n",
      "dtypes: int32(3), object(1)\n",
      "memory usage: 3.9+ MB\n"
     ]
    },
    {
     "data": {
      "text/plain": [
       "count   202,607.00\n",
       "mean          7.16\n",
       "std           5.96\n",
       "min           0.00\n",
       "25%           2.00\n",
       "50%           6.00\n",
       "75%          11.00\n",
       "max          38.00\n",
       "Name: duration, dtype: float64"
      ]
     },
     "execution_count": 16,
     "metadata": {},
     "output_type": "execute_result"
    }
   ],
   "source": [
    "calls.info() # снова посмотрим на информацию по таблице\n",
    "calls['duration'].describe() # описательная статистика по столбцу с длительностью звонков"
   ]
  },
  {
   "cell_type": "code",
   "execution_count": 17,
   "metadata": {},
   "outputs": [
    {
     "data": {
      "text/plain": [
       "count      492.00\n",
       "mean     2,947.77\n",
       "std      2,091.00\n",
       "min         66.00\n",
       "25%      1,291.50\n",
       "50%      2,478.00\n",
       "75%      4,227.00\n",
       "max     12,973.00\n",
       "Name: duration, dtype: float64"
      ]
     },
     "execution_count": 17,
     "metadata": {},
     "output_type": "execute_result"
    }
   ],
   "source": [
    "calls.groupby('user_id')['duration'].sum().describe() # посмотрим сколько разговаривают абоненты"
   ]
  },
  {
   "cell_type": "markdown",
   "metadata": {},
   "source": [
    "* Средняя длительность звонков всех абонентов составляет около 9 минут \n",
    "* За период использования тарифа в среднем каждый абонент разговаривает ~2,950 минут.\n",
    "\n",
    "\n",
    "\n",
    "Переходим к следующему столбцу:"
   ]
  },
  {
   "cell_type": "code",
   "execution_count": 18,
   "metadata": {},
   "outputs": [
    {
     "name": "stdout",
     "output_type": "stream",
     "text": [
      "<class 'pandas.core.frame.DataFrame'>\n",
      "RangeIndex: 123036 entries, 0 to 123035\n",
      "Data columns (total 3 columns):\n",
      " #   Column        Non-Null Count   Dtype \n",
      "---  ------        --------------   ----- \n",
      " 0   id            123036 non-null  object\n",
      " 1   message_date  123036 non-null  object\n",
      " 2   user_id       123036 non-null  int64 \n",
      "dtypes: int64(1), object(2)\n",
      "memory usage: 2.8+ MB\n"
     ]
    }
   ],
   "source": [
    "messages.info() # данные о сообщениях"
   ]
  },
  {
   "cell_type": "markdown",
   "metadata": {},
   "source": [
    "Ситуация здесь похожа на таблицу с звонками. Изменим тип данных:"
   ]
  },
  {
   "cell_type": "code",
   "execution_count": 19,
   "metadata": {},
   "outputs": [
    {
     "name": "stdout",
     "output_type": "stream",
     "text": [
      "<class 'pandas.core.frame.DataFrame'>\n",
      "RangeIndex: 123036 entries, 0 to 123035\n",
      "Data columns (total 3 columns):\n",
      " #   Column   Non-Null Count   Dtype \n",
      "---  ------   --------------   ----- \n",
      " 0   id       123036 non-null  object\n",
      " 1   month    123036 non-null  int32 \n",
      " 2   user_id  123036 non-null  int32 \n",
      "dtypes: int32(2), object(1)\n",
      "memory usage: 1.9+ MB\n"
     ]
    }
   ],
   "source": [
    "messages['message_date'] = pd.to_datetime(messages['message_date']).dt.month.astype('int32')  # получим номер месяца\n",
    "messages = messages.rename(columns={'message_date': 'month'}) # переименуем колонку\n",
    "messages['user_id'] = messages['user_id'].astype('int32') # поменяем тип данных для экономии памяти\n",
    "\n",
    "messages.info() # снова выведем основную информацию"
   ]
  },
  {
   "cell_type": "code",
   "execution_count": 20,
   "metadata": {},
   "outputs": [
    {
     "name": "stdout",
     "output_type": "stream",
     "text": [
      "<class 'pandas.core.frame.DataFrame'>\n",
      "RangeIndex: 123036 entries, 0 to 123035\n",
      "Data columns (total 3 columns):\n",
      " #   Column   Non-Null Count   Dtype \n",
      "---  ------   --------------   ----- \n",
      " 0   id       123036 non-null  object\n",
      " 1   month    123036 non-null  int32 \n",
      " 2   user_id  123036 non-null  int32 \n",
      "dtypes: int32(2), object(1)\n",
      "memory usage: 1.9+ MB\n"
     ]
    },
    {
     "data": {
      "text/html": [
       "<div>\n",
       "<style scoped>\n",
       "    .dataframe tbody tr th:only-of-type {\n",
       "        vertical-align: middle;\n",
       "    }\n",
       "\n",
       "    .dataframe tbody tr th {\n",
       "        vertical-align: top;\n",
       "    }\n",
       "\n",
       "    .dataframe thead th {\n",
       "        text-align: right;\n",
       "    }\n",
       "</style>\n",
       "<table border=\"1\" class=\"dataframe\">\n",
       "  <thead>\n",
       "    <tr style=\"text-align: right;\">\n",
       "      <th></th>\n",
       "      <th>id</th>\n",
       "      <th>month</th>\n",
       "    </tr>\n",
       "  </thead>\n",
       "  <tbody>\n",
       "    <tr>\n",
       "      <th>count</th>\n",
       "      <td>426.00</td>\n",
       "      <td>426.00</td>\n",
       "    </tr>\n",
       "    <tr>\n",
       "      <th>mean</th>\n",
       "      <td>288.82</td>\n",
       "      <td>288.82</td>\n",
       "    </tr>\n",
       "    <tr>\n",
       "      <th>std</th>\n",
       "      <td>267.61</td>\n",
       "      <td>267.61</td>\n",
       "    </tr>\n",
       "    <tr>\n",
       "      <th>min</th>\n",
       "      <td>1.00</td>\n",
       "      <td>1.00</td>\n",
       "    </tr>\n",
       "    <tr>\n",
       "      <th>25%</th>\n",
       "      <td>85.75</td>\n",
       "      <td>85.75</td>\n",
       "    </tr>\n",
       "    <tr>\n",
       "      <th>50%</th>\n",
       "      <td>215.50</td>\n",
       "      <td>215.50</td>\n",
       "    </tr>\n",
       "    <tr>\n",
       "      <th>75%</th>\n",
       "      <td>414.00</td>\n",
       "      <td>414.00</td>\n",
       "    </tr>\n",
       "    <tr>\n",
       "      <th>max</th>\n",
       "      <td>1,463.00</td>\n",
       "      <td>1,463.00</td>\n",
       "    </tr>\n",
       "  </tbody>\n",
       "</table>\n",
       "</div>"
      ],
      "text/plain": [
       "            id    month\n",
       "count   426.00   426.00\n",
       "mean    288.82   288.82\n",
       "std     267.61   267.61\n",
       "min       1.00     1.00\n",
       "25%      85.75    85.75\n",
       "50%     215.50   215.50\n",
       "75%     414.00   414.00\n",
       "max   1,463.00 1,463.00"
      ]
     },
     "execution_count": 20,
     "metadata": {},
     "output_type": "execute_result"
    }
   ],
   "source": [
    "messages.info() # снова посмотрим на информацию по таблице\n",
    "messages.groupby('user_id').count().describe() # посмотрим сколько абоненты отправляют сообщений"
   ]
  },
  {
   "cell_type": "markdown",
   "metadata": {},
   "source": [
    "* В среднем каждый абонент отправляет ~290 сообщений за весь период использования тарифа\n",
    "\n",
    "Переходим дальше:"
   ]
  },
  {
   "cell_type": "code",
   "execution_count": 21,
   "metadata": {},
   "outputs": [
    {
     "name": "stdout",
     "output_type": "stream",
     "text": [
      "<class 'pandas.core.frame.DataFrame'>\n",
      "Int64Index: 149396 entries, 0 to 149395\n",
      "Data columns (total 4 columns):\n",
      " #   Column        Non-Null Count   Dtype  \n",
      "---  ------        --------------   -----  \n",
      " 0   id            149396 non-null  object \n",
      " 1   mb_used       149396 non-null  float64\n",
      " 2   session_date  149396 non-null  object \n",
      " 3   user_id       149396 non-null  int64  \n",
      "dtypes: float64(1), int64(1), object(2)\n",
      "memory usage: 5.7+ MB\n"
     ]
    },
    {
     "data": {
      "text/html": [
       "<div>\n",
       "<style scoped>\n",
       "    .dataframe tbody tr th:only-of-type {\n",
       "        vertical-align: middle;\n",
       "    }\n",
       "\n",
       "    .dataframe tbody tr th {\n",
       "        vertical-align: top;\n",
       "    }\n",
       "\n",
       "    .dataframe thead th {\n",
       "        text-align: right;\n",
       "    }\n",
       "</style>\n",
       "<table border=\"1\" class=\"dataframe\">\n",
       "  <thead>\n",
       "    <tr style=\"text-align: right;\">\n",
       "      <th></th>\n",
       "      <th>id</th>\n",
       "      <th>mb_used</th>\n",
       "      <th>session_date</th>\n",
       "      <th>user_id</th>\n",
       "    </tr>\n",
       "  </thead>\n",
       "  <tbody>\n",
       "    <tr>\n",
       "      <th>55302</th>\n",
       "      <td>1185_424</td>\n",
       "      <td>807.27</td>\n",
       "      <td>2018-09-04</td>\n",
       "      <td>1185</td>\n",
       "    </tr>\n",
       "    <tr>\n",
       "      <th>62214</th>\n",
       "      <td>1211_47</td>\n",
       "      <td>0.00</td>\n",
       "      <td>2018-09-16</td>\n",
       "      <td>1211</td>\n",
       "    </tr>\n",
       "    <tr>\n",
       "      <th>113387</th>\n",
       "      <td>1384_97</td>\n",
       "      <td>125.01</td>\n",
       "      <td>2018-09-04</td>\n",
       "      <td>1384</td>\n",
       "    </tr>\n",
       "    <tr>\n",
       "      <th>121961</th>\n",
       "      <td>1411_151</td>\n",
       "      <td>497.34</td>\n",
       "      <td>2018-12-04</td>\n",
       "      <td>1411</td>\n",
       "    </tr>\n",
       "    <tr>\n",
       "      <th>16831</th>\n",
       "      <td>1058_7</td>\n",
       "      <td>236.76</td>\n",
       "      <td>2018-10-29</td>\n",
       "      <td>1058</td>\n",
       "    </tr>\n",
       "    <tr>\n",
       "      <th>79966</th>\n",
       "      <td>1268_356</td>\n",
       "      <td>688.28</td>\n",
       "      <td>2018-06-28</td>\n",
       "      <td>1268</td>\n",
       "    </tr>\n",
       "    <tr>\n",
       "      <th>80263</th>\n",
       "      <td>1269_275</td>\n",
       "      <td>385.13</td>\n",
       "      <td>2018-12-12</td>\n",
       "      <td>1269</td>\n",
       "    </tr>\n",
       "    <tr>\n",
       "      <th>71797</th>\n",
       "      <td>1243_14</td>\n",
       "      <td>809.73</td>\n",
       "      <td>2018-11-28</td>\n",
       "      <td>1243</td>\n",
       "    </tr>\n",
       "    <tr>\n",
       "      <th>122974</th>\n",
       "      <td>1414_67</td>\n",
       "      <td>0.00</td>\n",
       "      <td>2018-10-15</td>\n",
       "      <td>1414</td>\n",
       "    </tr>\n",
       "    <tr>\n",
       "      <th>49022</th>\n",
       "      <td>1169_137</td>\n",
       "      <td>363.29</td>\n",
       "      <td>2018-11-06</td>\n",
       "      <td>1169</td>\n",
       "    </tr>\n",
       "  </tbody>\n",
       "</table>\n",
       "</div>"
      ],
      "text/plain": [
       "              id  mb_used session_date  user_id\n",
       "55302   1185_424   807.27   2018-09-04     1185\n",
       "62214    1211_47     0.00   2018-09-16     1211\n",
       "113387   1384_97   125.01   2018-09-04     1384\n",
       "121961  1411_151   497.34   2018-12-04     1411\n",
       "16831     1058_7   236.76   2018-10-29     1058\n",
       "79966   1268_356   688.28   2018-06-28     1268\n",
       "80263   1269_275   385.13   2018-12-12     1269\n",
       "71797    1243_14   809.73   2018-11-28     1243\n",
       "122974   1414_67     0.00   2018-10-15     1414\n",
       "49022   1169_137   363.29   2018-11-06     1169"
      ]
     },
     "execution_count": 21,
     "metadata": {},
     "output_type": "execute_result"
    }
   ],
   "source": [
    "internet.info() # информация об интернет сессиях\n",
    "internet.sample(10) # случайные 10 строк таблицы"
   ]
  },
  {
   "cell_type": "markdown",
   "metadata": {},
   "source": [
    "Количество использованного трафика округлим до гигабайт - именно они используются для расчётов в тарифах. Затем изменим тип данных последних двух столбцов:"
   ]
  },
  {
   "cell_type": "code",
   "execution_count": 22,
   "metadata": {},
   "outputs": [
    {
     "name": "stdout",
     "output_type": "stream",
     "text": [
      "<class 'pandas.core.frame.DataFrame'>\n",
      "Int64Index: 149396 entries, 0 to 149395\n",
      "Data columns (total 4 columns):\n",
      " #   Column   Non-Null Count   Dtype  \n",
      "---  ------   --------------   -----  \n",
      " 0   id       149396 non-null  object \n",
      " 1   gb_used  149396 non-null  float64\n",
      " 2   month    149396 non-null  int32  \n",
      " 3   user_id  149396 non-null  int32  \n",
      "dtypes: float64(1), int32(2), object(1)\n",
      "memory usage: 4.6+ MB\n"
     ]
    },
    {
     "data": {
      "text/html": [
       "<div>\n",
       "<style scoped>\n",
       "    .dataframe tbody tr th:only-of-type {\n",
       "        vertical-align: middle;\n",
       "    }\n",
       "\n",
       "    .dataframe tbody tr th {\n",
       "        vertical-align: top;\n",
       "    }\n",
       "\n",
       "    .dataframe thead th {\n",
       "        text-align: right;\n",
       "    }\n",
       "</style>\n",
       "<table border=\"1\" class=\"dataframe\">\n",
       "  <thead>\n",
       "    <tr style=\"text-align: right;\">\n",
       "      <th></th>\n",
       "      <th>gb_used</th>\n",
       "      <th>month</th>\n",
       "      <th>user_id</th>\n",
       "    </tr>\n",
       "  </thead>\n",
       "  <tbody>\n",
       "    <tr>\n",
       "      <th>count</th>\n",
       "      <td>149,396.00</td>\n",
       "      <td>149,396.00</td>\n",
       "      <td>149,396.00</td>\n",
       "    </tr>\n",
       "    <tr>\n",
       "      <th>mean</th>\n",
       "      <td>0.36</td>\n",
       "      <td>8.56</td>\n",
       "      <td>1,252.10</td>\n",
       "    </tr>\n",
       "    <tr>\n",
       "      <th>std</th>\n",
       "      <td>0.27</td>\n",
       "      <td>2.79</td>\n",
       "      <td>144.05</td>\n",
       "    </tr>\n",
       "    <tr>\n",
       "      <th>min</th>\n",
       "      <td>0.00</td>\n",
       "      <td>1.00</td>\n",
       "      <td>1,000.00</td>\n",
       "    </tr>\n",
       "    <tr>\n",
       "      <th>25%</th>\n",
       "      <td>0.13</td>\n",
       "      <td>7.00</td>\n",
       "      <td>1,130.00</td>\n",
       "    </tr>\n",
       "    <tr>\n",
       "      <th>50%</th>\n",
       "      <td>0.34</td>\n",
       "      <td>9.00</td>\n",
       "      <td>1,251.00</td>\n",
       "    </tr>\n",
       "    <tr>\n",
       "      <th>75%</th>\n",
       "      <td>0.55</td>\n",
       "      <td>11.00</td>\n",
       "      <td>1,380.00</td>\n",
       "    </tr>\n",
       "    <tr>\n",
       "      <th>max</th>\n",
       "      <td>1.68</td>\n",
       "      <td>12.00</td>\n",
       "      <td>1,499.00</td>\n",
       "    </tr>\n",
       "  </tbody>\n",
       "</table>\n",
       "</div>"
      ],
      "text/plain": [
       "         gb_used      month    user_id\n",
       "count 149,396.00 149,396.00 149,396.00\n",
       "mean        0.36       8.56   1,252.10\n",
       "std         0.27       2.79     144.05\n",
       "min         0.00       1.00   1,000.00\n",
       "25%         0.13       7.00   1,130.00\n",
       "50%         0.34       9.00   1,251.00\n",
       "75%         0.55      11.00   1,380.00\n",
       "max         1.68      12.00   1,499.00"
      ]
     },
     "execution_count": 22,
     "metadata": {},
     "output_type": "execute_result"
    }
   ],
   "source": [
    "internet['session_date'] = pd.to_datetime(internet['session_date']).dt.month.astype('int32')  # получим номер месяца\n",
    "internet['user_id'] = internet['user_id'].astype('int32') # поменяем тип данных для экономии памяти\n",
    "internet['mb_used'] = internet['mb_used']/1024 # округлим данные до гигабайт\n",
    "internet = internet.rename(columns={'mb_used': 'gb_used','session_date':'month'}) # переименуем колонки\n",
    "\n",
    "internet.info() # снова выведем основную информацию\n",
    "internet.describe() # описательная статистика по использованию трафика"
   ]
  },
  {
   "cell_type": "code",
   "execution_count": 23,
   "metadata": {},
   "outputs": [
    {
     "data": {
      "text/plain": [
       "count   497.00\n",
       "mean    108.67\n",
       "std      68.72\n",
       "min       4.50\n",
       "25%      53.18\n",
       "50%      98.77\n",
       "75%     149.89\n",
       "max     367.58\n",
       "Name: gb_used, dtype: float64"
      ]
     },
     "execution_count": 23,
     "metadata": {},
     "output_type": "execute_result"
    }
   ],
   "source": [
    "internet.groupby('user_id')['gb_used'].sum().describe() # статистика использования интернета по пользователям"
   ]
  },
  {
   "cell_type": "markdown",
   "metadata": {},
   "source": [
    "* Средний трафик сессия состявляет 0.36 гигабайт.\n",
    "* Абоненты в период использования тарифа тратят в среднем ~109 гигабайт.\n",
    "\n",
    "Трафик сессий, как и звонки, должен быть округлён в большую сторону, но это происходит в разрезе месяцев для каждого пользователя - оставим для трафика тип данных `float`, округлим при объединении данных.\n",
    "\n",
    "Переходим к последней таблице:"
   ]
  },
  {
   "cell_type": "code",
   "execution_count": 24,
   "metadata": {},
   "outputs": [
    {
     "name": "stdout",
     "output_type": "stream",
     "text": [
      "<class 'pandas.core.frame.DataFrame'>\n",
      "RangeIndex: 2 entries, 0 to 1\n",
      "Data columns (total 8 columns):\n",
      " #   Column                 Non-Null Count  Dtype \n",
      "---  ------                 --------------  ----- \n",
      " 0   messages_included      2 non-null      int64 \n",
      " 1   mb_per_month_included  2 non-null      int64 \n",
      " 2   minutes_included       2 non-null      int64 \n",
      " 3   rub_monthly_fee        2 non-null      int64 \n",
      " 4   rub_per_gb             2 non-null      int64 \n",
      " 5   rub_per_message        2 non-null      int64 \n",
      " 6   rub_per_minute         2 non-null      int64 \n",
      " 7   tariff_name            2 non-null      object\n",
      "dtypes: int64(7), object(1)\n",
      "memory usage: 256.0+ bytes\n"
     ]
    },
    {
     "data": {
      "text/html": [
       "<div>\n",
       "<style scoped>\n",
       "    .dataframe tbody tr th:only-of-type {\n",
       "        vertical-align: middle;\n",
       "    }\n",
       "\n",
       "    .dataframe tbody tr th {\n",
       "        vertical-align: top;\n",
       "    }\n",
       "\n",
       "    .dataframe thead th {\n",
       "        text-align: right;\n",
       "    }\n",
       "</style>\n",
       "<table border=\"1\" class=\"dataframe\">\n",
       "  <thead>\n",
       "    <tr style=\"text-align: right;\">\n",
       "      <th></th>\n",
       "      <th>messages_included</th>\n",
       "      <th>mb_per_month_included</th>\n",
       "      <th>minutes_included</th>\n",
       "      <th>rub_monthly_fee</th>\n",
       "      <th>rub_per_gb</th>\n",
       "      <th>rub_per_message</th>\n",
       "      <th>rub_per_minute</th>\n",
       "      <th>tariff_name</th>\n",
       "    </tr>\n",
       "  </thead>\n",
       "  <tbody>\n",
       "    <tr>\n",
       "      <th>0</th>\n",
       "      <td>50</td>\n",
       "      <td>15360</td>\n",
       "      <td>500</td>\n",
       "      <td>550</td>\n",
       "      <td>200</td>\n",
       "      <td>3</td>\n",
       "      <td>3</td>\n",
       "      <td>smart</td>\n",
       "    </tr>\n",
       "    <tr>\n",
       "      <th>1</th>\n",
       "      <td>1000</td>\n",
       "      <td>30720</td>\n",
       "      <td>3000</td>\n",
       "      <td>1950</td>\n",
       "      <td>150</td>\n",
       "      <td>1</td>\n",
       "      <td>1</td>\n",
       "      <td>ultra</td>\n",
       "    </tr>\n",
       "  </tbody>\n",
       "</table>\n",
       "</div>"
      ],
      "text/plain": [
       "   messages_included  mb_per_month_included  minutes_included  \\\n",
       "0                 50                  15360               500   \n",
       "1               1000                  30720              3000   \n",
       "\n",
       "   rub_monthly_fee  rub_per_gb  rub_per_message  rub_per_minute tariff_name  \n",
       "0              550         200                3               3       smart  \n",
       "1             1950         150                1               1       ultra  "
      ]
     },
     "execution_count": 24,
     "metadata": {},
     "output_type": "execute_result"
    }
   ],
   "source": [
    "tariffs.info() # информация о тарифах\n",
    "tariffs # сама таблица"
   ]
  },
  {
   "cell_type": "markdown",
   "metadata": {},
   "source": [
    "Таблица в порядке - нужно лишь округлить `mb_per_month_included` до гигабайт, чтобы все расчёты можно было проводить с использование единых мер исчисления, а также сократить название колонки `tariff_name` до `tariff` - так она будет совпадать с идентичной колонкой в `users`, что позволит их потом объединить:"
   ]
  },
  {
   "cell_type": "code",
   "execution_count": 25,
   "metadata": {},
   "outputs": [
    {
     "data": {
      "text/html": [
       "<div>\n",
       "<style scoped>\n",
       "    .dataframe tbody tr th:only-of-type {\n",
       "        vertical-align: middle;\n",
       "    }\n",
       "\n",
       "    .dataframe tbody tr th {\n",
       "        vertical-align: top;\n",
       "    }\n",
       "\n",
       "    .dataframe thead th {\n",
       "        text-align: right;\n",
       "    }\n",
       "</style>\n",
       "<table border=\"1\" class=\"dataframe\">\n",
       "  <thead>\n",
       "    <tr style=\"text-align: right;\">\n",
       "      <th></th>\n",
       "      <th>messages_included</th>\n",
       "      <th>gb_per_month_included</th>\n",
       "      <th>minutes_included</th>\n",
       "      <th>rub_monthly_fee</th>\n",
       "      <th>rub_per_gb</th>\n",
       "      <th>rub_per_message</th>\n",
       "      <th>rub_per_minute</th>\n",
       "      <th>tariff</th>\n",
       "    </tr>\n",
       "  </thead>\n",
       "  <tbody>\n",
       "    <tr>\n",
       "      <th>0</th>\n",
       "      <td>50</td>\n",
       "      <td>15</td>\n",
       "      <td>500</td>\n",
       "      <td>550</td>\n",
       "      <td>200</td>\n",
       "      <td>3</td>\n",
       "      <td>3</td>\n",
       "      <td>smart</td>\n",
       "    </tr>\n",
       "    <tr>\n",
       "      <th>1</th>\n",
       "      <td>1000</td>\n",
       "      <td>30</td>\n",
       "      <td>3000</td>\n",
       "      <td>1950</td>\n",
       "      <td>150</td>\n",
       "      <td>1</td>\n",
       "      <td>1</td>\n",
       "      <td>ultra</td>\n",
       "    </tr>\n",
       "  </tbody>\n",
       "</table>\n",
       "</div>"
      ],
      "text/plain": [
       "   messages_included  gb_per_month_included  minutes_included  \\\n",
       "0                 50                     15               500   \n",
       "1               1000                     30              3000   \n",
       "\n",
       "   rub_monthly_fee  rub_per_gb  rub_per_message  rub_per_minute tariff  \n",
       "0              550         200                3               3  smart  \n",
       "1             1950         150                1               1  ultra  "
      ]
     },
     "execution_count": 25,
     "metadata": {},
     "output_type": "execute_result"
    }
   ],
   "source": [
    "tariffs['mb_per_month_included'] = tariffs['mb_per_month_included']/1024 # округлим данные до гигабайт\n",
    "\n",
    "# переименуем колонки\n",
    "tariffs = (tariffs\n",
    "           .rename(columns={'mb_per_month_included': 'gb_per_month_included', 'tariff_name':'tariff'})\n",
    "          )\n",
    "                \n",
    "tariffs[['messages_included', 'gb_per_month_included', 'minutes_included', 'rub_monthly_fee','rub_per_gb', \n",
    "         'rub_per_message', 'rub_per_minute']]\\\n",
    "= tariffs[['messages_included', 'gb_per_month_included', 'minutes_included','rub_monthly_fee', \n",
    "                    'rub_per_gb', 'rub_per_message', 'rub_per_minute']].astype('int32') # поменяем тип данных\n",
    "\n",
    "tariffs # снова выводим таблицу"
   ]
  },
  {
   "cell_type": "markdown",
   "metadata": {},
   "source": [
    "Все данные обработаны, теперь их можно комбинировать между собой."
   ]
  },
  {
   "cell_type": "markdown",
   "metadata": {},
   "source": [
    "<div style=\"border-radius: 3px; border: 2px solid black; padding: 0px;\">     \n",
    "<div class=\"alert alert-success\">\n",
    "<b>Комментарий ревьюера✔️:</b> \n",
    "    \n",
    "Perfect!⭐    \n",
    "\n",
    "</div>\n",
    "</div>"
   ]
  },
  {
   "cell_type": "markdown",
   "metadata": {},
   "source": [
    "### Объединение данных"
   ]
  },
  {
   "cell_type": "markdown",
   "metadata": {},
   "source": [
    "Для оптимизации дальнейшего исследования данные всех таблиц будут объеденены в единый датафрейм. Сначала таблицы с данными о звонках, сообщениях и интернет сессиях будут сгруппированы по идентификатору пользователя и месяцу, после чего будут последовательно объединены с информацией об абонентах:"
   ]
  },
  {
   "cell_type": "code",
   "execution_count": 26,
   "metadata": {},
   "outputs": [
    {
     "data": {
      "text/html": [
       "<div>\n",
       "<style scoped>\n",
       "    .dataframe tbody tr th:only-of-type {\n",
       "        vertical-align: middle;\n",
       "    }\n",
       "\n",
       "    .dataframe tbody tr th {\n",
       "        vertical-align: top;\n",
       "    }\n",
       "\n",
       "    .dataframe thead th {\n",
       "        text-align: right;\n",
       "    }\n",
       "</style>\n",
       "<table border=\"1\" class=\"dataframe\">\n",
       "  <thead>\n",
       "    <tr style=\"text-align: right;\">\n",
       "      <th></th>\n",
       "      <th>user_id</th>\n",
       "      <th>age</th>\n",
       "      <th>city</th>\n",
       "      <th>tariff</th>\n",
       "      <th>month</th>\n",
       "      <th>calls</th>\n",
       "      <th>calls_duration</th>\n",
       "      <th>messages</th>\n",
       "      <th>gb_used</th>\n",
       "      <th>messages_included</th>\n",
       "      <th>gb_per_month_included</th>\n",
       "      <th>minutes_included</th>\n",
       "      <th>rub_monthly_fee</th>\n",
       "      <th>rub_per_gb</th>\n",
       "      <th>rub_per_message</th>\n",
       "      <th>rub_per_minute</th>\n",
       "    </tr>\n",
       "  </thead>\n",
       "  <tbody>\n",
       "    <tr>\n",
       "      <th>0</th>\n",
       "      <td>1000</td>\n",
       "      <td>52</td>\n",
       "      <td>Краснодар</td>\n",
       "      <td>ultra</td>\n",
       "      <td>5.00</td>\n",
       "      <td>22.00</td>\n",
       "      <td>159.00</td>\n",
       "      <td>22.00</td>\n",
       "      <td>2.20</td>\n",
       "      <td>1000</td>\n",
       "      <td>30</td>\n",
       "      <td>3000</td>\n",
       "      <td>1950</td>\n",
       "      <td>150</td>\n",
       "      <td>1</td>\n",
       "      <td>1</td>\n",
       "    </tr>\n",
       "    <tr>\n",
       "      <th>1</th>\n",
       "      <td>1000</td>\n",
       "      <td>52</td>\n",
       "      <td>Краснодар</td>\n",
       "      <td>ultra</td>\n",
       "      <td>6.00</td>\n",
       "      <td>43.00</td>\n",
       "      <td>172.00</td>\n",
       "      <td>60.00</td>\n",
       "      <td>22.69</td>\n",
       "      <td>1000</td>\n",
       "      <td>30</td>\n",
       "      <td>3000</td>\n",
       "      <td>1950</td>\n",
       "      <td>150</td>\n",
       "      <td>1</td>\n",
       "      <td>1</td>\n",
       "    </tr>\n",
       "    <tr>\n",
       "      <th>2</th>\n",
       "      <td>1000</td>\n",
       "      <td>52</td>\n",
       "      <td>Краснодар</td>\n",
       "      <td>ultra</td>\n",
       "      <td>7.00</td>\n",
       "      <td>47.00</td>\n",
       "      <td>340.00</td>\n",
       "      <td>75.00</td>\n",
       "      <td>13.68</td>\n",
       "      <td>1000</td>\n",
       "      <td>30</td>\n",
       "      <td>3000</td>\n",
       "      <td>1950</td>\n",
       "      <td>150</td>\n",
       "      <td>1</td>\n",
       "      <td>1</td>\n",
       "    </tr>\n",
       "    <tr>\n",
       "      <th>3</th>\n",
       "      <td>1000</td>\n",
       "      <td>52</td>\n",
       "      <td>Краснодар</td>\n",
       "      <td>ultra</td>\n",
       "      <td>8.00</td>\n",
       "      <td>52.00</td>\n",
       "      <td>408.00</td>\n",
       "      <td>81.00</td>\n",
       "      <td>13.73</td>\n",
       "      <td>1000</td>\n",
       "      <td>30</td>\n",
       "      <td>3000</td>\n",
       "      <td>1950</td>\n",
       "      <td>150</td>\n",
       "      <td>1</td>\n",
       "      <td>1</td>\n",
       "    </tr>\n",
       "    <tr>\n",
       "      <th>4</th>\n",
       "      <td>1000</td>\n",
       "      <td>52</td>\n",
       "      <td>Краснодар</td>\n",
       "      <td>ultra</td>\n",
       "      <td>9.00</td>\n",
       "      <td>58.00</td>\n",
       "      <td>466.00</td>\n",
       "      <td>57.00</td>\n",
       "      <td>14.23</td>\n",
       "      <td>1000</td>\n",
       "      <td>30</td>\n",
       "      <td>3000</td>\n",
       "      <td>1950</td>\n",
       "      <td>150</td>\n",
       "      <td>1</td>\n",
       "      <td>1</td>\n",
       "    </tr>\n",
       "    <tr>\n",
       "      <th>5</th>\n",
       "      <td>1000</td>\n",
       "      <td>52</td>\n",
       "      <td>Краснодар</td>\n",
       "      <td>ultra</td>\n",
       "      <td>10.00</td>\n",
       "      <td>57.00</td>\n",
       "      <td>350.00</td>\n",
       "      <td>73.00</td>\n",
       "      <td>14.36</td>\n",
       "      <td>1000</td>\n",
       "      <td>30</td>\n",
       "      <td>3000</td>\n",
       "      <td>1950</td>\n",
       "      <td>150</td>\n",
       "      <td>1</td>\n",
       "      <td>1</td>\n",
       "    </tr>\n",
       "    <tr>\n",
       "      <th>6</th>\n",
       "      <td>1000</td>\n",
       "      <td>52</td>\n",
       "      <td>Краснодар</td>\n",
       "      <td>ultra</td>\n",
       "      <td>11.00</td>\n",
       "      <td>43.00</td>\n",
       "      <td>338.00</td>\n",
       "      <td>58.00</td>\n",
       "      <td>14.41</td>\n",
       "      <td>1000</td>\n",
       "      <td>30</td>\n",
       "      <td>3000</td>\n",
       "      <td>1950</td>\n",
       "      <td>150</td>\n",
       "      <td>1</td>\n",
       "      <td>1</td>\n",
       "    </tr>\n",
       "    <tr>\n",
       "      <th>7</th>\n",
       "      <td>1000</td>\n",
       "      <td>52</td>\n",
       "      <td>Краснодар</td>\n",
       "      <td>ultra</td>\n",
       "      <td>12.00</td>\n",
       "      <td>46.00</td>\n",
       "      <td>333.00</td>\n",
       "      <td>70.00</td>\n",
       "      <td>9.59</td>\n",
       "      <td>1000</td>\n",
       "      <td>30</td>\n",
       "      <td>3000</td>\n",
       "      <td>1950</td>\n",
       "      <td>150</td>\n",
       "      <td>1</td>\n",
       "      <td>1</td>\n",
       "    </tr>\n",
       "    <tr>\n",
       "      <th>8</th>\n",
       "      <td>1001</td>\n",
       "      <td>41</td>\n",
       "      <td>Москва</td>\n",
       "      <td>smart</td>\n",
       "      <td>11.00</td>\n",
       "      <td>59.00</td>\n",
       "      <td>430.00</td>\n",
       "      <td>NaN</td>\n",
       "      <td>18.00</td>\n",
       "      <td>50</td>\n",
       "      <td>15</td>\n",
       "      <td>500</td>\n",
       "      <td>550</td>\n",
       "      <td>200</td>\n",
       "      <td>3</td>\n",
       "      <td>3</td>\n",
       "    </tr>\n",
       "    <tr>\n",
       "      <th>9</th>\n",
       "      <td>1001</td>\n",
       "      <td>41</td>\n",
       "      <td>Москва</td>\n",
       "      <td>smart</td>\n",
       "      <td>12.00</td>\n",
       "      <td>63.00</td>\n",
       "      <td>414.00</td>\n",
       "      <td>NaN</td>\n",
       "      <td>13.71</td>\n",
       "      <td>50</td>\n",
       "      <td>15</td>\n",
       "      <td>500</td>\n",
       "      <td>550</td>\n",
       "      <td>200</td>\n",
       "      <td>3</td>\n",
       "      <td>3</td>\n",
       "    </tr>\n",
       "    <tr>\n",
       "      <th>10</th>\n",
       "      <td>1002</td>\n",
       "      <td>59</td>\n",
       "      <td>Стерлитамак</td>\n",
       "      <td>smart</td>\n",
       "      <td>6.00</td>\n",
       "      <td>15.00</td>\n",
       "      <td>117.00</td>\n",
       "      <td>4.00</td>\n",
       "      <td>10.60</td>\n",
       "      <td>50</td>\n",
       "      <td>15</td>\n",
       "      <td>500</td>\n",
       "      <td>550</td>\n",
       "      <td>200</td>\n",
       "      <td>3</td>\n",
       "      <td>3</td>\n",
       "    </tr>\n",
       "    <tr>\n",
       "      <th>11</th>\n",
       "      <td>1002</td>\n",
       "      <td>59</td>\n",
       "      <td>Стерлитамак</td>\n",
       "      <td>smart</td>\n",
       "      <td>7.00</td>\n",
       "      <td>26.00</td>\n",
       "      <td>214.00</td>\n",
       "      <td>11.00</td>\n",
       "      <td>17.17</td>\n",
       "      <td>50</td>\n",
       "      <td>15</td>\n",
       "      <td>500</td>\n",
       "      <td>550</td>\n",
       "      <td>200</td>\n",
       "      <td>3</td>\n",
       "      <td>3</td>\n",
       "    </tr>\n",
       "    <tr>\n",
       "      <th>12</th>\n",
       "      <td>1002</td>\n",
       "      <td>59</td>\n",
       "      <td>Стерлитамак</td>\n",
       "      <td>smart</td>\n",
       "      <td>8.00</td>\n",
       "      <td>42.00</td>\n",
       "      <td>289.00</td>\n",
       "      <td>13.00</td>\n",
       "      <td>19.84</td>\n",
       "      <td>50</td>\n",
       "      <td>15</td>\n",
       "      <td>500</td>\n",
       "      <td>550</td>\n",
       "      <td>200</td>\n",
       "      <td>3</td>\n",
       "      <td>3</td>\n",
       "    </tr>\n",
       "    <tr>\n",
       "      <th>13</th>\n",
       "      <td>1002</td>\n",
       "      <td>59</td>\n",
       "      <td>Стерлитамак</td>\n",
       "      <td>smart</td>\n",
       "      <td>9.00</td>\n",
       "      <td>36.00</td>\n",
       "      <td>206.00</td>\n",
       "      <td>4.00</td>\n",
       "      <td>16.30</td>\n",
       "      <td>50</td>\n",
       "      <td>15</td>\n",
       "      <td>500</td>\n",
       "      <td>550</td>\n",
       "      <td>200</td>\n",
       "      <td>3</td>\n",
       "      <td>3</td>\n",
       "    </tr>\n",
       "    <tr>\n",
       "      <th>14</th>\n",
       "      <td>1002</td>\n",
       "      <td>59</td>\n",
       "      <td>Стерлитамак</td>\n",
       "      <td>smart</td>\n",
       "      <td>10.00</td>\n",
       "      <td>33.00</td>\n",
       "      <td>212.00</td>\n",
       "      <td>10.00</td>\n",
       "      <td>13.56</td>\n",
       "      <td>50</td>\n",
       "      <td>15</td>\n",
       "      <td>500</td>\n",
       "      <td>550</td>\n",
       "      <td>200</td>\n",
       "      <td>3</td>\n",
       "      <td>3</td>\n",
       "    </tr>\n",
       "  </tbody>\n",
       "</table>\n",
       "</div>"
      ],
      "text/plain": [
       "    user_id  age         city tariff  month  calls  calls_duration  messages  \\\n",
       "0      1000   52    Краснодар  ultra   5.00  22.00          159.00     22.00   \n",
       "1      1000   52    Краснодар  ultra   6.00  43.00          172.00     60.00   \n",
       "2      1000   52    Краснодар  ultra   7.00  47.00          340.00     75.00   \n",
       "3      1000   52    Краснодар  ultra   8.00  52.00          408.00     81.00   \n",
       "4      1000   52    Краснодар  ultra   9.00  58.00          466.00     57.00   \n",
       "5      1000   52    Краснодар  ultra  10.00  57.00          350.00     73.00   \n",
       "6      1000   52    Краснодар  ultra  11.00  43.00          338.00     58.00   \n",
       "7      1000   52    Краснодар  ultra  12.00  46.00          333.00     70.00   \n",
       "8      1001   41       Москва  smart  11.00  59.00          430.00       NaN   \n",
       "9      1001   41       Москва  smart  12.00  63.00          414.00       NaN   \n",
       "10     1002   59  Стерлитамак  smart   6.00  15.00          117.00      4.00   \n",
       "11     1002   59  Стерлитамак  smart   7.00  26.00          214.00     11.00   \n",
       "12     1002   59  Стерлитамак  smart   8.00  42.00          289.00     13.00   \n",
       "13     1002   59  Стерлитамак  smart   9.00  36.00          206.00      4.00   \n",
       "14     1002   59  Стерлитамак  smart  10.00  33.00          212.00     10.00   \n",
       "\n",
       "    gb_used  messages_included  gb_per_month_included  minutes_included  \\\n",
       "0      2.20               1000                     30              3000   \n",
       "1     22.69               1000                     30              3000   \n",
       "2     13.68               1000                     30              3000   \n",
       "3     13.73               1000                     30              3000   \n",
       "4     14.23               1000                     30              3000   \n",
       "5     14.36               1000                     30              3000   \n",
       "6     14.41               1000                     30              3000   \n",
       "7      9.59               1000                     30              3000   \n",
       "8     18.00                 50                     15               500   \n",
       "9     13.71                 50                     15               500   \n",
       "10    10.60                 50                     15               500   \n",
       "11    17.17                 50                     15               500   \n",
       "12    19.84                 50                     15               500   \n",
       "13    16.30                 50                     15               500   \n",
       "14    13.56                 50                     15               500   \n",
       "\n",
       "    rub_monthly_fee  rub_per_gb  rub_per_message  rub_per_minute  \n",
       "0              1950         150                1               1  \n",
       "1              1950         150                1               1  \n",
       "2              1950         150                1               1  \n",
       "3              1950         150                1               1  \n",
       "4              1950         150                1               1  \n",
       "5              1950         150                1               1  \n",
       "6              1950         150                1               1  \n",
       "7              1950         150                1               1  \n",
       "8               550         200                3               3  \n",
       "9               550         200                3               3  \n",
       "10              550         200                3               3  \n",
       "11              550         200                3               3  \n",
       "12              550         200                3               3  \n",
       "13              550         200                3               3  \n",
       "14              550         200                3               3  "
      ]
     },
     "metadata": {},
     "output_type": "display_data"
    },
    {
     "name": "stdout",
     "output_type": "stream",
     "text": [
      "user count is 500\n"
     ]
    },
    {
     "data": {
      "text/plain": [
       "user_id                    0\n",
       "age                        0\n",
       "city                       0\n",
       "tariff                     0\n",
       "month                      8\n",
       "calls                      8\n",
       "calls_duration             8\n",
       "messages                 504\n",
       "gb_used                   19\n",
       "messages_included          0\n",
       "gb_per_month_included      0\n",
       "minutes_included           0\n",
       "rub_monthly_fee            0\n",
       "rub_per_gb                 0\n",
       "rub_per_message            0\n",
       "rub_per_minute             0\n",
       "dtype: int64"
      ]
     },
     "execution_count": 26,
     "metadata": {},
     "output_type": "execute_result"
    }
   ],
   "source": [
    "#группируем данные о звонках\n",
    "\n",
    "calls_pivot = (calls\n",
    "               .pivot_table(index=['user_id', 'month'], values='duration', aggfunc=['count','sum'])\n",
    "               .droplevel(1,axis=1)\n",
    "               .rename(columns={'count':'calls','sum':'calls_duration'})\n",
    "               .reset_index()\n",
    "              )\n",
    "                                                                                                    \n",
    "# группируем данные о сообщениях\n",
    "\n",
    "msg_pivot = (messages\n",
    "                  .pivot_table(index=['user_id', 'month'], values='id', aggfunc='count')\n",
    "                  .rename(columns={'id':'messages'})\n",
    "                  .reset_index()\n",
    "            )\n",
    "\n",
    "# групируем данные о сообщениях\n",
    "\n",
    "int_pivot = (internet\n",
    "            .pivot_table(index=['user_id', 'month'], values='gb_used', aggfunc='sum')\n",
    "            .reset_index()\n",
    "            )\n",
    "\n",
    "# начинаем объединение\n",
    "\n",
    "\n",
    "data = users.merge(calls_pivot, on='user_id', how='left') # соединяем данные о пользователях и звонках\n",
    "data = data.merge(msg_pivot, on=['user_id', 'month'], how='left') # прибавляем сообщения\n",
    "data = data.merge(int_pivot, on=['user_id', 'month'], how='left') # интернет-сессии\n",
    "data = data.merge(tariffs, on=['tariff'], how='left') # информация о тарифах\n",
    "\n",
    "display(data.head(15)) # посмотрим на первые 15 строк\n",
    "print(f'user count is {data[\"user_id\"].value_counts().count()}') # убедимся, что все абоненты на месте\n",
    "data.isna().sum() # проверим пропуски"
   ]
  },
  {
   "cell_type": "markdown",
   "metadata": {},
   "source": [
    "Проверим каждый столбец:"
   ]
  },
  {
   "cell_type": "code",
   "execution_count": 27,
   "metadata": {},
   "outputs": [
    {
     "name": "stdout",
     "output_type": "stream",
     "text": [
      "na share is 0.25%\n"
     ]
    },
    {
     "data": {
      "text/html": [
       "<div>\n",
       "<style scoped>\n",
       "    .dataframe tbody tr th:only-of-type {\n",
       "        vertical-align: middle;\n",
       "    }\n",
       "\n",
       "    .dataframe tbody tr th {\n",
       "        vertical-align: top;\n",
       "    }\n",
       "\n",
       "    .dataframe thead th {\n",
       "        text-align: right;\n",
       "    }\n",
       "</style>\n",
       "<table border=\"1\" class=\"dataframe\">\n",
       "  <thead>\n",
       "    <tr style=\"text-align: right;\">\n",
       "      <th></th>\n",
       "      <th>user_id</th>\n",
       "      <th>age</th>\n",
       "      <th>city</th>\n",
       "      <th>tariff</th>\n",
       "      <th>month</th>\n",
       "      <th>calls</th>\n",
       "      <th>calls_duration</th>\n",
       "      <th>messages</th>\n",
       "      <th>gb_used</th>\n",
       "      <th>messages_included</th>\n",
       "      <th>gb_per_month_included</th>\n",
       "      <th>minutes_included</th>\n",
       "      <th>rub_monthly_fee</th>\n",
       "      <th>rub_per_gb</th>\n",
       "      <th>rub_per_message</th>\n",
       "      <th>rub_per_minute</th>\n",
       "    </tr>\n",
       "  </thead>\n",
       "  <tbody>\n",
       "    <tr>\n",
       "      <th>570</th>\n",
       "      <td>1091</td>\n",
       "      <td>36</td>\n",
       "      <td>Набережные Челны</td>\n",
       "      <td>ultra</td>\n",
       "      <td>NaN</td>\n",
       "      <td>NaN</td>\n",
       "      <td>NaN</td>\n",
       "      <td>NaN</td>\n",
       "      <td>NaN</td>\n",
       "      <td>1000</td>\n",
       "      <td>30</td>\n",
       "      <td>3000</td>\n",
       "      <td>1950</td>\n",
       "      <td>150</td>\n",
       "      <td>1</td>\n",
       "      <td>1</td>\n",
       "    </tr>\n",
       "    <tr>\n",
       "      <th>664</th>\n",
       "      <td>1106</td>\n",
       "      <td>67</td>\n",
       "      <td>Калуга</td>\n",
       "      <td>ultra</td>\n",
       "      <td>NaN</td>\n",
       "      <td>NaN</td>\n",
       "      <td>NaN</td>\n",
       "      <td>NaN</td>\n",
       "      <td>NaN</td>\n",
       "      <td>1000</td>\n",
       "      <td>30</td>\n",
       "      <td>3000</td>\n",
       "      <td>1950</td>\n",
       "      <td>150</td>\n",
       "      <td>1</td>\n",
       "      <td>1</td>\n",
       "    </tr>\n",
       "    <tr>\n",
       "      <th>812</th>\n",
       "      <td>1128</td>\n",
       "      <td>51</td>\n",
       "      <td>Волжский</td>\n",
       "      <td>ultra</td>\n",
       "      <td>NaN</td>\n",
       "      <td>NaN</td>\n",
       "      <td>NaN</td>\n",
       "      <td>NaN</td>\n",
       "      <td>NaN</td>\n",
       "      <td>1000</td>\n",
       "      <td>30</td>\n",
       "      <td>3000</td>\n",
       "      <td>1950</td>\n",
       "      <td>150</td>\n",
       "      <td>1</td>\n",
       "      <td>1</td>\n",
       "    </tr>\n",
       "    <tr>\n",
       "      <th>1460</th>\n",
       "      <td>1231</td>\n",
       "      <td>63</td>\n",
       "      <td>Чебоксары</td>\n",
       "      <td>ultra</td>\n",
       "      <td>NaN</td>\n",
       "      <td>NaN</td>\n",
       "      <td>NaN</td>\n",
       "      <td>NaN</td>\n",
       "      <td>NaN</td>\n",
       "      <td>1000</td>\n",
       "      <td>30</td>\n",
       "      <td>3000</td>\n",
       "      <td>1950</td>\n",
       "      <td>150</td>\n",
       "      <td>1</td>\n",
       "      <td>1</td>\n",
       "    </tr>\n",
       "    <tr>\n",
       "      <th>2061</th>\n",
       "      <td>1328</td>\n",
       "      <td>44</td>\n",
       "      <td>Мурманск</td>\n",
       "      <td>ultra</td>\n",
       "      <td>NaN</td>\n",
       "      <td>NaN</td>\n",
       "      <td>NaN</td>\n",
       "      <td>NaN</td>\n",
       "      <td>NaN</td>\n",
       "      <td>1000</td>\n",
       "      <td>30</td>\n",
       "      <td>3000</td>\n",
       "      <td>1950</td>\n",
       "      <td>150</td>\n",
       "      <td>1</td>\n",
       "      <td>1</td>\n",
       "    </tr>\n",
       "    <tr>\n",
       "      <th>2311</th>\n",
       "      <td>1371</td>\n",
       "      <td>50</td>\n",
       "      <td>Омск</td>\n",
       "      <td>smart</td>\n",
       "      <td>NaN</td>\n",
       "      <td>NaN</td>\n",
       "      <td>NaN</td>\n",
       "      <td>NaN</td>\n",
       "      <td>NaN</td>\n",
       "      <td>50</td>\n",
       "      <td>15</td>\n",
       "      <td>500</td>\n",
       "      <td>550</td>\n",
       "      <td>200</td>\n",
       "      <td>3</td>\n",
       "      <td>3</td>\n",
       "    </tr>\n",
       "    <tr>\n",
       "      <th>3022</th>\n",
       "      <td>1473</td>\n",
       "      <td>18</td>\n",
       "      <td>Красноярск</td>\n",
       "      <td>ultra</td>\n",
       "      <td>NaN</td>\n",
       "      <td>NaN</td>\n",
       "      <td>NaN</td>\n",
       "      <td>NaN</td>\n",
       "      <td>NaN</td>\n",
       "      <td>1000</td>\n",
       "      <td>30</td>\n",
       "      <td>3000</td>\n",
       "      <td>1950</td>\n",
       "      <td>150</td>\n",
       "      <td>1</td>\n",
       "      <td>1</td>\n",
       "    </tr>\n",
       "    <tr>\n",
       "      <th>3121</th>\n",
       "      <td>1489</td>\n",
       "      <td>35</td>\n",
       "      <td>Санкт-Петербург</td>\n",
       "      <td>smart</td>\n",
       "      <td>NaN</td>\n",
       "      <td>NaN</td>\n",
       "      <td>NaN</td>\n",
       "      <td>NaN</td>\n",
       "      <td>NaN</td>\n",
       "      <td>50</td>\n",
       "      <td>15</td>\n",
       "      <td>500</td>\n",
       "      <td>550</td>\n",
       "      <td>200</td>\n",
       "      <td>3</td>\n",
       "      <td>3</td>\n",
       "    </tr>\n",
       "  </tbody>\n",
       "</table>\n",
       "</div>"
      ],
      "text/plain": [
       "      user_id  age              city tariff  month  calls  calls_duration  \\\n",
       "570      1091   36  Набережные Челны  ultra    NaN    NaN             NaN   \n",
       "664      1106   67            Калуга  ultra    NaN    NaN             NaN   \n",
       "812      1128   51          Волжский  ultra    NaN    NaN             NaN   \n",
       "1460     1231   63         Чебоксары  ultra    NaN    NaN             NaN   \n",
       "2061     1328   44          Мурманск  ultra    NaN    NaN             NaN   \n",
       "2311     1371   50              Омск  smart    NaN    NaN             NaN   \n",
       "3022     1473   18        Красноярск  ultra    NaN    NaN             NaN   \n",
       "3121     1489   35   Санкт-Петербург  smart    NaN    NaN             NaN   \n",
       "\n",
       "      messages  gb_used  messages_included  gb_per_month_included  \\\n",
       "570        NaN      NaN               1000                     30   \n",
       "664        NaN      NaN               1000                     30   \n",
       "812        NaN      NaN               1000                     30   \n",
       "1460       NaN      NaN               1000                     30   \n",
       "2061       NaN      NaN               1000                     30   \n",
       "2311       NaN      NaN                 50                     15   \n",
       "3022       NaN      NaN               1000                     30   \n",
       "3121       NaN      NaN                 50                     15   \n",
       "\n",
       "      minutes_included  rub_monthly_fee  rub_per_gb  rub_per_message  \\\n",
       "570               3000             1950         150                1   \n",
       "664               3000             1950         150                1   \n",
       "812               3000             1950         150                1   \n",
       "1460              3000             1950         150                1   \n",
       "2061              3000             1950         150                1   \n",
       "2311               500              550         200                3   \n",
       "3022              3000             1950         150                1   \n",
       "3121               500              550         200                3   \n",
       "\n",
       "      rub_per_minute  \n",
       "570                1  \n",
       "664                1  \n",
       "812                1  \n",
       "1460               1  \n",
       "2061               1  \n",
       "2311               3  \n",
       "3022               1  \n",
       "3121               3  "
      ]
     },
     "execution_count": 27,
     "metadata": {},
     "output_type": "execute_result"
    }
   ],
   "source": [
    "print(f'na share is {round(len(data[data[\"month\"].isna()])/len(data)*100, 2)}%') # доля пропусков в месяцах\n",
    "data[data['month'].isna()] # посмотрим на пропуски в месяцах"
   ]
  },
  {
   "cell_type": "markdown",
   "metadata": {},
   "source": [
    "Всего восемь строк, в них кроме месяцев также пропущенны данные о звонках, сообщениях и интернет сессиях - эти абоненты как-будто просто не пользуются услугами, продолжая при этом платить за тариф. Все недостающие данные, можно было бы заполнить медианой по тарифам, за исключением месяца. Поскольку нам важна группировка по месяцам в таблице и принимая во внимание небольшую долю таких данных, целесообразнее будет от них избавиться: "
   ]
  },
  {
   "cell_type": "code",
   "execution_count": 28,
   "metadata": {},
   "outputs": [
    {
     "data": {
      "text/html": [
       "<div>\n",
       "<style scoped>\n",
       "    .dataframe tbody tr th:only-of-type {\n",
       "        vertical-align: middle;\n",
       "    }\n",
       "\n",
       "    .dataframe tbody tr th {\n",
       "        vertical-align: top;\n",
       "    }\n",
       "\n",
       "    .dataframe thead th {\n",
       "        text-align: right;\n",
       "    }\n",
       "</style>\n",
       "<table border=\"1\" class=\"dataframe\">\n",
       "  <thead>\n",
       "    <tr style=\"text-align: right;\">\n",
       "      <th></th>\n",
       "      <th>user_id</th>\n",
       "      <th>age</th>\n",
       "      <th>city</th>\n",
       "      <th>tariff</th>\n",
       "      <th>month</th>\n",
       "      <th>calls</th>\n",
       "      <th>calls_duration</th>\n",
       "      <th>messages</th>\n",
       "      <th>gb_used</th>\n",
       "      <th>messages_included</th>\n",
       "      <th>gb_per_month_included</th>\n",
       "      <th>minutes_included</th>\n",
       "      <th>rub_monthly_fee</th>\n",
       "      <th>rub_per_gb</th>\n",
       "      <th>rub_per_message</th>\n",
       "      <th>rub_per_minute</th>\n",
       "    </tr>\n",
       "  </thead>\n",
       "  <tbody>\n",
       "    <tr>\n",
       "      <th>8</th>\n",
       "      <td>1001</td>\n",
       "      <td>41</td>\n",
       "      <td>Москва</td>\n",
       "      <td>smart</td>\n",
       "      <td>11.00</td>\n",
       "      <td>59.00</td>\n",
       "      <td>430.00</td>\n",
       "      <td>NaN</td>\n",
       "      <td>18.00</td>\n",
       "      <td>50</td>\n",
       "      <td>15</td>\n",
       "      <td>500</td>\n",
       "      <td>550</td>\n",
       "      <td>200</td>\n",
       "      <td>3</td>\n",
       "      <td>3</td>\n",
       "    </tr>\n",
       "    <tr>\n",
       "      <th>9</th>\n",
       "      <td>1001</td>\n",
       "      <td>41</td>\n",
       "      <td>Москва</td>\n",
       "      <td>smart</td>\n",
       "      <td>12.00</td>\n",
       "      <td>63.00</td>\n",
       "      <td>414.00</td>\n",
       "      <td>NaN</td>\n",
       "      <td>13.71</td>\n",
       "      <td>50</td>\n",
       "      <td>15</td>\n",
       "      <td>500</td>\n",
       "      <td>550</td>\n",
       "      <td>200</td>\n",
       "      <td>3</td>\n",
       "      <td>3</td>\n",
       "    </tr>\n",
       "    <tr>\n",
       "      <th>42</th>\n",
       "      <td>1006</td>\n",
       "      <td>21</td>\n",
       "      <td>Ульяновск</td>\n",
       "      <td>smart</td>\n",
       "      <td>2.00</td>\n",
       "      <td>3.00</td>\n",
       "      <td>42.00</td>\n",
       "      <td>NaN</td>\n",
       "      <td>1.36</td>\n",
       "      <td>50</td>\n",
       "      <td>15</td>\n",
       "      <td>500</td>\n",
       "      <td>550</td>\n",
       "      <td>200</td>\n",
       "      <td>3</td>\n",
       "      <td>3</td>\n",
       "    </tr>\n",
       "    <tr>\n",
       "      <th>43</th>\n",
       "      <td>1006</td>\n",
       "      <td>21</td>\n",
       "      <td>Ульяновск</td>\n",
       "      <td>smart</td>\n",
       "      <td>3.00</td>\n",
       "      <td>46.00</td>\n",
       "      <td>286.00</td>\n",
       "      <td>NaN</td>\n",
       "      <td>16.88</td>\n",
       "      <td>50</td>\n",
       "      <td>15</td>\n",
       "      <td>500</td>\n",
       "      <td>550</td>\n",
       "      <td>200</td>\n",
       "      <td>3</td>\n",
       "      <td>3</td>\n",
       "    </tr>\n",
       "    <tr>\n",
       "      <th>44</th>\n",
       "      <td>1006</td>\n",
       "      <td>21</td>\n",
       "      <td>Ульяновск</td>\n",
       "      <td>smart</td>\n",
       "      <td>4.00</td>\n",
       "      <td>47.00</td>\n",
       "      <td>356.00</td>\n",
       "      <td>NaN</td>\n",
       "      <td>13.61</td>\n",
       "      <td>50</td>\n",
       "      <td>15</td>\n",
       "      <td>500</td>\n",
       "      <td>550</td>\n",
       "      <td>200</td>\n",
       "      <td>3</td>\n",
       "      <td>3</td>\n",
       "    </tr>\n",
       "    <tr>\n",
       "      <th>...</th>\n",
       "      <td>...</td>\n",
       "      <td>...</td>\n",
       "      <td>...</td>\n",
       "      <td>...</td>\n",
       "      <td>...</td>\n",
       "      <td>...</td>\n",
       "      <td>...</td>\n",
       "      <td>...</td>\n",
       "      <td>...</td>\n",
       "      <td>...</td>\n",
       "      <td>...</td>\n",
       "      <td>...</td>\n",
       "      <td>...</td>\n",
       "      <td>...</td>\n",
       "      <td>...</td>\n",
       "      <td>...</td>\n",
       "    </tr>\n",
       "    <tr>\n",
       "      <th>3149</th>\n",
       "      <td>1494</td>\n",
       "      <td>62</td>\n",
       "      <td>Омск</td>\n",
       "      <td>smart</td>\n",
       "      <td>8.00</td>\n",
       "      <td>32.00</td>\n",
       "      <td>262.00</td>\n",
       "      <td>NaN</td>\n",
       "      <td>6.44</td>\n",
       "      <td>50</td>\n",
       "      <td>15</td>\n",
       "      <td>500</td>\n",
       "      <td>550</td>\n",
       "      <td>200</td>\n",
       "      <td>3</td>\n",
       "      <td>3</td>\n",
       "    </tr>\n",
       "    <tr>\n",
       "      <th>3150</th>\n",
       "      <td>1494</td>\n",
       "      <td>62</td>\n",
       "      <td>Омск</td>\n",
       "      <td>smart</td>\n",
       "      <td>9.00</td>\n",
       "      <td>66.00</td>\n",
       "      <td>501.00</td>\n",
       "      <td>NaN</td>\n",
       "      <td>16.56</td>\n",
       "      <td>50</td>\n",
       "      <td>15</td>\n",
       "      <td>500</td>\n",
       "      <td>550</td>\n",
       "      <td>200</td>\n",
       "      <td>3</td>\n",
       "      <td>3</td>\n",
       "    </tr>\n",
       "    <tr>\n",
       "      <th>3151</th>\n",
       "      <td>1494</td>\n",
       "      <td>62</td>\n",
       "      <td>Омск</td>\n",
       "      <td>smart</td>\n",
       "      <td>10.00</td>\n",
       "      <td>52.00</td>\n",
       "      <td>354.00</td>\n",
       "      <td>NaN</td>\n",
       "      <td>17.35</td>\n",
       "      <td>50</td>\n",
       "      <td>15</td>\n",
       "      <td>500</td>\n",
       "      <td>550</td>\n",
       "      <td>200</td>\n",
       "      <td>3</td>\n",
       "      <td>3</td>\n",
       "    </tr>\n",
       "    <tr>\n",
       "      <th>3152</th>\n",
       "      <td>1494</td>\n",
       "      <td>62</td>\n",
       "      <td>Омск</td>\n",
       "      <td>smart</td>\n",
       "      <td>11.00</td>\n",
       "      <td>63.00</td>\n",
       "      <td>411.00</td>\n",
       "      <td>NaN</td>\n",
       "      <td>17.63</td>\n",
       "      <td>50</td>\n",
       "      <td>15</td>\n",
       "      <td>500</td>\n",
       "      <td>550</td>\n",
       "      <td>200</td>\n",
       "      <td>3</td>\n",
       "      <td>3</td>\n",
       "    </tr>\n",
       "    <tr>\n",
       "      <th>3153</th>\n",
       "      <td>1494</td>\n",
       "      <td>62</td>\n",
       "      <td>Омск</td>\n",
       "      <td>smart</td>\n",
       "      <td>12.00</td>\n",
       "      <td>62.00</td>\n",
       "      <td>418.00</td>\n",
       "      <td>NaN</td>\n",
       "      <td>17.21</td>\n",
       "      <td>50</td>\n",
       "      <td>15</td>\n",
       "      <td>500</td>\n",
       "      <td>550</td>\n",
       "      <td>200</td>\n",
       "      <td>3</td>\n",
       "      <td>3</td>\n",
       "    </tr>\n",
       "  </tbody>\n",
       "</table>\n",
       "<p>496 rows × 16 columns</p>\n",
       "</div>"
      ],
      "text/plain": [
       "      user_id  age       city tariff  month  calls  calls_duration  messages  \\\n",
       "8        1001   41     Москва  smart  11.00  59.00          430.00       NaN   \n",
       "9        1001   41     Москва  smart  12.00  63.00          414.00       NaN   \n",
       "42       1006   21  Ульяновск  smart   2.00   3.00           42.00       NaN   \n",
       "43       1006   21  Ульяновск  smart   3.00  46.00          286.00       NaN   \n",
       "44       1006   21  Ульяновск  smart   4.00  47.00          356.00       NaN   \n",
       "...       ...  ...        ...    ...    ...    ...             ...       ...   \n",
       "3149     1494   62       Омск  smart   8.00  32.00          262.00       NaN   \n",
       "3150     1494   62       Омск  smart   9.00  66.00          501.00       NaN   \n",
       "3151     1494   62       Омск  smart  10.00  52.00          354.00       NaN   \n",
       "3152     1494   62       Омск  smart  11.00  63.00          411.00       NaN   \n",
       "3153     1494   62       Омск  smart  12.00  62.00          418.00       NaN   \n",
       "\n",
       "      gb_used  messages_included  gb_per_month_included  minutes_included  \\\n",
       "8       18.00                 50                     15               500   \n",
       "9       13.71                 50                     15               500   \n",
       "42       1.36                 50                     15               500   \n",
       "43      16.88                 50                     15               500   \n",
       "44      13.61                 50                     15               500   \n",
       "...       ...                ...                    ...               ...   \n",
       "3149     6.44                 50                     15               500   \n",
       "3150    16.56                 50                     15               500   \n",
       "3151    17.35                 50                     15               500   \n",
       "3152    17.63                 50                     15               500   \n",
       "3153    17.21                 50                     15               500   \n",
       "\n",
       "      rub_monthly_fee  rub_per_gb  rub_per_message  rub_per_minute  \n",
       "8                 550         200                3               3  \n",
       "9                 550         200                3               3  \n",
       "42                550         200                3               3  \n",
       "43                550         200                3               3  \n",
       "44                550         200                3               3  \n",
       "...               ...         ...              ...             ...  \n",
       "3149              550         200                3               3  \n",
       "3150              550         200                3               3  \n",
       "3151              550         200                3               3  \n",
       "3152              550         200                3               3  \n",
       "3153              550         200                3               3  \n",
       "\n",
       "[496 rows x 16 columns]"
      ]
     },
     "execution_count": 28,
     "metadata": {},
     "output_type": "execute_result"
    }
   ],
   "source": [
    "data = data[data['month'].notna()] # удаляем данные с пропущенными месяцами\n",
    "\n",
    "data[data['messages'].isna()] # смотрим на пропуски в сообщениях"
   ]
  },
  {
   "cell_type": "markdown",
   "metadata": {},
   "source": [
    "Это явно активные пользователи, которые просто не использовали сообщения в определённые месяцы - с учётом распространения совсременных мессенджеров, работающих через интернет - такое вполне вероятно. Заполним пропуски нулевыми значениями:"
   ]
  },
  {
   "cell_type": "code",
   "execution_count": 29,
   "metadata": {},
   "outputs": [
    {
     "data": {
      "text/html": [
       "<div>\n",
       "<style scoped>\n",
       "    .dataframe tbody tr th:only-of-type {\n",
       "        vertical-align: middle;\n",
       "    }\n",
       "\n",
       "    .dataframe tbody tr th {\n",
       "        vertical-align: top;\n",
       "    }\n",
       "\n",
       "    .dataframe thead th {\n",
       "        text-align: right;\n",
       "    }\n",
       "</style>\n",
       "<table border=\"1\" class=\"dataframe\">\n",
       "  <thead>\n",
       "    <tr style=\"text-align: right;\">\n",
       "      <th></th>\n",
       "      <th>user_id</th>\n",
       "      <th>age</th>\n",
       "      <th>city</th>\n",
       "      <th>tariff</th>\n",
       "      <th>month</th>\n",
       "      <th>calls</th>\n",
       "      <th>calls_duration</th>\n",
       "      <th>messages</th>\n",
       "      <th>gb_used</th>\n",
       "      <th>messages_included</th>\n",
       "      <th>gb_per_month_included</th>\n",
       "      <th>minutes_included</th>\n",
       "      <th>rub_monthly_fee</th>\n",
       "      <th>rub_per_gb</th>\n",
       "      <th>rub_per_message</th>\n",
       "      <th>rub_per_minute</th>\n",
       "    </tr>\n",
       "  </thead>\n",
       "  <tbody>\n",
       "    <tr>\n",
       "      <th>1701</th>\n",
       "      <td>1273</td>\n",
       "      <td>46</td>\n",
       "      <td>Курган</td>\n",
       "      <td>ultra</td>\n",
       "      <td>5.00</td>\n",
       "      <td>24.00</td>\n",
       "      <td>220.00</td>\n",
       "      <td>21.00</td>\n",
       "      <td>NaN</td>\n",
       "      <td>1000</td>\n",
       "      <td>30</td>\n",
       "      <td>3000</td>\n",
       "      <td>1950</td>\n",
       "      <td>150</td>\n",
       "      <td>1</td>\n",
       "      <td>1</td>\n",
       "    </tr>\n",
       "    <tr>\n",
       "      <th>1702</th>\n",
       "      <td>1273</td>\n",
       "      <td>46</td>\n",
       "      <td>Курган</td>\n",
       "      <td>ultra</td>\n",
       "      <td>6.00</td>\n",
       "      <td>40.00</td>\n",
       "      <td>230.00</td>\n",
       "      <td>38.00</td>\n",
       "      <td>NaN</td>\n",
       "      <td>1000</td>\n",
       "      <td>30</td>\n",
       "      <td>3000</td>\n",
       "      <td>1950</td>\n",
       "      <td>150</td>\n",
       "      <td>1</td>\n",
       "      <td>1</td>\n",
       "    </tr>\n",
       "    <tr>\n",
       "      <th>1703</th>\n",
       "      <td>1273</td>\n",
       "      <td>46</td>\n",
       "      <td>Курган</td>\n",
       "      <td>ultra</td>\n",
       "      <td>7.00</td>\n",
       "      <td>44.00</td>\n",
       "      <td>253.00</td>\n",
       "      <td>37.00</td>\n",
       "      <td>NaN</td>\n",
       "      <td>1000</td>\n",
       "      <td>30</td>\n",
       "      <td>3000</td>\n",
       "      <td>1950</td>\n",
       "      <td>150</td>\n",
       "      <td>1</td>\n",
       "      <td>1</td>\n",
       "    </tr>\n",
       "    <tr>\n",
       "      <th>1704</th>\n",
       "      <td>1273</td>\n",
       "      <td>46</td>\n",
       "      <td>Курган</td>\n",
       "      <td>ultra</td>\n",
       "      <td>8.00</td>\n",
       "      <td>53.00</td>\n",
       "      <td>253.00</td>\n",
       "      <td>41.00</td>\n",
       "      <td>NaN</td>\n",
       "      <td>1000</td>\n",
       "      <td>30</td>\n",
       "      <td>3000</td>\n",
       "      <td>1950</td>\n",
       "      <td>150</td>\n",
       "      <td>1</td>\n",
       "      <td>1</td>\n",
       "    </tr>\n",
       "    <tr>\n",
       "      <th>1705</th>\n",
       "      <td>1273</td>\n",
       "      <td>46</td>\n",
       "      <td>Курган</td>\n",
       "      <td>ultra</td>\n",
       "      <td>9.00</td>\n",
       "      <td>33.00</td>\n",
       "      <td>223.00</td>\n",
       "      <td>32.00</td>\n",
       "      <td>NaN</td>\n",
       "      <td>1000</td>\n",
       "      <td>30</td>\n",
       "      <td>3000</td>\n",
       "      <td>1950</td>\n",
       "      <td>150</td>\n",
       "      <td>1</td>\n",
       "      <td>1</td>\n",
       "    </tr>\n",
       "    <tr>\n",
       "      <th>1706</th>\n",
       "      <td>1273</td>\n",
       "      <td>46</td>\n",
       "      <td>Курган</td>\n",
       "      <td>ultra</td>\n",
       "      <td>10.00</td>\n",
       "      <td>40.00</td>\n",
       "      <td>315.00</td>\n",
       "      <td>35.00</td>\n",
       "      <td>NaN</td>\n",
       "      <td>1000</td>\n",
       "      <td>30</td>\n",
       "      <td>3000</td>\n",
       "      <td>1950</td>\n",
       "      <td>150</td>\n",
       "      <td>1</td>\n",
       "      <td>1</td>\n",
       "    </tr>\n",
       "    <tr>\n",
       "      <th>1707</th>\n",
       "      <td>1273</td>\n",
       "      <td>46</td>\n",
       "      <td>Курган</td>\n",
       "      <td>ultra</td>\n",
       "      <td>11.00</td>\n",
       "      <td>45.00</td>\n",
       "      <td>272.00</td>\n",
       "      <td>29.00</td>\n",
       "      <td>NaN</td>\n",
       "      <td>1000</td>\n",
       "      <td>30</td>\n",
       "      <td>3000</td>\n",
       "      <td>1950</td>\n",
       "      <td>150</td>\n",
       "      <td>1</td>\n",
       "      <td>1</td>\n",
       "    </tr>\n",
       "    <tr>\n",
       "      <th>1708</th>\n",
       "      <td>1273</td>\n",
       "      <td>46</td>\n",
       "      <td>Курган</td>\n",
       "      <td>ultra</td>\n",
       "      <td>12.00</td>\n",
       "      <td>41.00</td>\n",
       "      <td>260.00</td>\n",
       "      <td>39.00</td>\n",
       "      <td>NaN</td>\n",
       "      <td>1000</td>\n",
       "      <td>30</td>\n",
       "      <td>3000</td>\n",
       "      <td>1950</td>\n",
       "      <td>150</td>\n",
       "      <td>1</td>\n",
       "      <td>1</td>\n",
       "    </tr>\n",
       "    <tr>\n",
       "      <th>2364</th>\n",
       "      <td>1377</td>\n",
       "      <td>59</td>\n",
       "      <td>Брянск</td>\n",
       "      <td>ultra</td>\n",
       "      <td>2.00</td>\n",
       "      <td>23.00</td>\n",
       "      <td>179.00</td>\n",
       "      <td>2.00</td>\n",
       "      <td>NaN</td>\n",
       "      <td>1000</td>\n",
       "      <td>30</td>\n",
       "      <td>3000</td>\n",
       "      <td>1950</td>\n",
       "      <td>150</td>\n",
       "      <td>1</td>\n",
       "      <td>1</td>\n",
       "    </tr>\n",
       "    <tr>\n",
       "      <th>2477</th>\n",
       "      <td>1392</td>\n",
       "      <td>54</td>\n",
       "      <td>Челябинск</td>\n",
       "      <td>ultra</td>\n",
       "      <td>2.00</td>\n",
       "      <td>2.00</td>\n",
       "      <td>13.00</td>\n",
       "      <td>3.00</td>\n",
       "      <td>NaN</td>\n",
       "      <td>1000</td>\n",
       "      <td>30</td>\n",
       "      <td>3000</td>\n",
       "      <td>1950</td>\n",
       "      <td>150</td>\n",
       "      <td>1</td>\n",
       "      <td>1</td>\n",
       "    </tr>\n",
       "    <tr>\n",
       "      <th>2835</th>\n",
       "      <td>1446</td>\n",
       "      <td>64</td>\n",
       "      <td>Липецк</td>\n",
       "      <td>smart</td>\n",
       "      <td>8.00</td>\n",
       "      <td>4.00</td>\n",
       "      <td>50.00</td>\n",
       "      <td>1.00</td>\n",
       "      <td>NaN</td>\n",
       "      <td>50</td>\n",
       "      <td>15</td>\n",
       "      <td>500</td>\n",
       "      <td>550</td>\n",
       "      <td>200</td>\n",
       "      <td>3</td>\n",
       "      <td>3</td>\n",
       "    </tr>\n",
       "  </tbody>\n",
       "</table>\n",
       "</div>"
      ],
      "text/plain": [
       "      user_id  age       city tariff  month  calls  calls_duration  messages  \\\n",
       "1701     1273   46     Курган  ultra   5.00  24.00          220.00     21.00   \n",
       "1702     1273   46     Курган  ultra   6.00  40.00          230.00     38.00   \n",
       "1703     1273   46     Курган  ultra   7.00  44.00          253.00     37.00   \n",
       "1704     1273   46     Курган  ultra   8.00  53.00          253.00     41.00   \n",
       "1705     1273   46     Курган  ultra   9.00  33.00          223.00     32.00   \n",
       "1706     1273   46     Курган  ultra  10.00  40.00          315.00     35.00   \n",
       "1707     1273   46     Курган  ultra  11.00  45.00          272.00     29.00   \n",
       "1708     1273   46     Курган  ultra  12.00  41.00          260.00     39.00   \n",
       "2364     1377   59     Брянск  ultra   2.00  23.00          179.00      2.00   \n",
       "2477     1392   54  Челябинск  ultra   2.00   2.00           13.00      3.00   \n",
       "2835     1446   64     Липецк  smart   8.00   4.00           50.00      1.00   \n",
       "\n",
       "      gb_used  messages_included  gb_per_month_included  minutes_included  \\\n",
       "1701      NaN               1000                     30              3000   \n",
       "1702      NaN               1000                     30              3000   \n",
       "1703      NaN               1000                     30              3000   \n",
       "1704      NaN               1000                     30              3000   \n",
       "1705      NaN               1000                     30              3000   \n",
       "1706      NaN               1000                     30              3000   \n",
       "1707      NaN               1000                     30              3000   \n",
       "1708      NaN               1000                     30              3000   \n",
       "2364      NaN               1000                     30              3000   \n",
       "2477      NaN               1000                     30              3000   \n",
       "2835      NaN                 50                     15               500   \n",
       "\n",
       "      rub_monthly_fee  rub_per_gb  rub_per_message  rub_per_minute  \n",
       "1701             1950         150                1               1  \n",
       "1702             1950         150                1               1  \n",
       "1703             1950         150                1               1  \n",
       "1704             1950         150                1               1  \n",
       "1705             1950         150                1               1  \n",
       "1706             1950         150                1               1  \n",
       "1707             1950         150                1               1  \n",
       "1708             1950         150                1               1  \n",
       "2364             1950         150                1               1  \n",
       "2477             1950         150                1               1  \n",
       "2835              550         200                3               3  "
      ]
     },
     "execution_count": 29,
     "metadata": {},
     "output_type": "execute_result"
    }
   ],
   "source": [
    "data['messages'] = data['messages'].fillna(0) # заполняем пропуски\n",
    "\n",
    "data[data['gb_used'].isna()] # смотрим пропуски в данных об интернет сессиях"
   ]
  },
  {
   "cell_type": "markdown",
   "metadata": {},
   "source": [
    "Тут тоже самое - пользователи активно пользуются услугами, но в какие-то месяцы не расходуют трафик - скорее всего пользуются для интернета другими устройствами. Причём большая часть пропусков у `user_id 1273` - он не пользуется интернетом несколько месяцев подряд. Судя по остальным данным - для него тариф \"Смарт\" был бы более оптимальным.\n",
    "\n",
    "Заполним пропуски нулевыми значениями:"
   ]
  },
  {
   "cell_type": "code",
   "execution_count": 30,
   "metadata": {},
   "outputs": [
    {
     "data": {
      "text/plain": [
       "user_id                  0\n",
       "age                      0\n",
       "city                     0\n",
       "tariff                   0\n",
       "month                    0\n",
       "calls                    0\n",
       "calls_duration           0\n",
       "messages                 0\n",
       "gb_used                  0\n",
       "messages_included        0\n",
       "gb_per_month_included    0\n",
       "minutes_included         0\n",
       "rub_monthly_fee          0\n",
       "rub_per_gb               0\n",
       "rub_per_message          0\n",
       "rub_per_minute           0\n",
       "dtype: int64"
      ]
     },
     "execution_count": 30,
     "metadata": {},
     "output_type": "execute_result"
    }
   ],
   "source": [
    "data['gb_used'] = data['gb_used'].fillna(0) # заполняем пропуски\n",
    "\n",
    "data.isna().sum() # снова проверяем пропуски по таблице"
   ]
  },
  {
   "cell_type": "markdown",
   "metadata": {},
   "source": [
    "Пропущенные значения обработаны. Теперь проверим типы данных:"
   ]
  },
  {
   "cell_type": "code",
   "execution_count": 31,
   "metadata": {},
   "outputs": [
    {
     "name": "stdout",
     "output_type": "stream",
     "text": [
      "<class 'pandas.core.frame.DataFrame'>\n",
      "Int64Index: 3174 entries, 0 to 3181\n",
      "Data columns (total 16 columns):\n",
      " #   Column                 Non-Null Count  Dtype  \n",
      "---  ------                 --------------  -----  \n",
      " 0   user_id                3174 non-null   int32  \n",
      " 1   age                    3174 non-null   int32  \n",
      " 2   city                   3174 non-null   object \n",
      " 3   tariff                 3174 non-null   object \n",
      " 4   month                  3174 non-null   float64\n",
      " 5   calls                  3174 non-null   float64\n",
      " 6   calls_duration         3174 non-null   float64\n",
      " 7   messages               3174 non-null   float64\n",
      " 8   gb_used                3174 non-null   float64\n",
      " 9   messages_included      3174 non-null   int32  \n",
      " 10  gb_per_month_included  3174 non-null   int32  \n",
      " 11  minutes_included       3174 non-null   int32  \n",
      " 12  rub_monthly_fee        3174 non-null   int32  \n",
      " 13  rub_per_gb             3174 non-null   int32  \n",
      " 14  rub_per_message        3174 non-null   int32  \n",
      " 15  rub_per_minute         3174 non-null   int32  \n",
      "dtypes: float64(5), int32(9), object(2)\n",
      "memory usage: 310.0+ KB\n"
     ]
    }
   ],
   "source": [
    "data.info()"
   ]
  },
  {
   "cell_type": "markdown",
   "metadata": {},
   "source": [
    "Из-за появившихся пропусков часть данных представлена как `float`. Так как пропуски уже обработаны, мы можем привести данные к целым числам:"
   ]
  },
  {
   "cell_type": "code",
   "execution_count": 32,
   "metadata": {},
   "outputs": [],
   "source": [
    "data[['month','calls', 'calls_duration', 'messages']] \\\n",
    "= data[['month','calls', 'calls_duration', 'messages']].astype('int32') # меняем тип данных\n",
    "\n",
    "data['gb_used'] = np.ceil(data['gb_used']).astype('int32')  # меняем тип данных"
   ]
  },
  {
   "cell_type": "markdown",
   "metadata": {},
   "source": [
    "Категоризуем столбец `city`, чтобы можно было группировать данные для проверки гипотез:"
   ]
  },
  {
   "cell_type": "code",
   "execution_count": 33,
   "metadata": {},
   "outputs": [],
   "source": [
    "def city_type(name): # напишем функцию для присвоения категории в соответствии с типом городом\n",
    "    \n",
    "    if 'Москва' in name:\n",
    "        return 'moscow' # категория для Москвы\n",
    "    else:\n",
    "        return 'other' # остальные города\n",
    "data['city_type'] = data['city'].apply(city_type)    "
   ]
  },
  {
   "cell_type": "markdown",
   "metadata": {},
   "source": [
    "Теперь добавим помесячную выручку на каждого пользователя:"
   ]
  },
  {
   "cell_type": "code",
   "execution_count": 34,
   "metadata": {},
   "outputs": [],
   "source": [
    "# добавим столбцы с перерасходом объёма услуг, включенных в тариф\n",
    "\n",
    "data['extra_minutes']  = data['calls_duration'] - data['minutes_included'] # минуты разговора сверх пакета\n",
    "data['extra_messages']  = data['messages'] - data['messages_included'] # сообщения сверх пакета\n",
    "data['extra_traffic']  = data['gb_used'] - data['gb_per_month_included'] # трафик сверх пакета\n",
    "\n",
    "# поставим 0 для тех, кто уложился в тарифный пакет\n",
    "\n",
    "data.loc[(data['extra_minutes'] < 0), 'extra_minutes'] = 0\n",
    "data.loc[(data['extra_messages'] < 0), 'extra_messages'] = 0\n",
    "data.loc[(data['extra_traffic'] < 0), 'extra_traffic'] = 0\n",
    "\n",
    "# считаем выручку за перерасход пакетов\n",
    "\n",
    "call_rev = data['extra_minutes'] * data['rub_per_minute'] # выручка за перерасход по звонкам\n",
    "msg_rev = data['extra_messages'] * data['rub_per_message'] # выручка за перерасход по сообщениям\n",
    "int_rev = data['extra_traffic'] * data['rub_per_gb'] # выручка за перерасход трафика\n",
    "\n",
    "#добавляем результаты в таблицу\n",
    "\n",
    "data['extra_revenue'] = (call_rev + msg_rev + int_rev) # добавим столбец с выручкой по перерасходу пакетов\n",
    "data['total_revenue'] = data['extra_revenue'] + data['rub_monthly_fee'] # общая выручка"
   ]
  },
  {
   "cell_type": "code",
   "execution_count": 35,
   "metadata": {},
   "outputs": [
    {
     "name": "stdout",
     "output_type": "stream",
     "text": [
      "<class 'pandas.core.frame.DataFrame'>\n",
      "MultiIndex: 3174 entries, (1000, 5) to (1499, 12)\n",
      "Data columns (total 20 columns):\n",
      " #   Column                 Non-Null Count  Dtype \n",
      "---  ------                 --------------  ----- \n",
      " 0   age                    3174 non-null   int32 \n",
      " 1   city                   3174 non-null   object\n",
      " 2   tariff                 3174 non-null   object\n",
      " 3   calls                  3174 non-null   int32 \n",
      " 4   calls_duration         3174 non-null   int32 \n",
      " 5   messages               3174 non-null   int32 \n",
      " 6   gb_used                3174 non-null   int32 \n",
      " 7   messages_included      3174 non-null   int32 \n",
      " 8   gb_per_month_included  3174 non-null   int32 \n",
      " 9   minutes_included       3174 non-null   int32 \n",
      " 10  rub_monthly_fee        3174 non-null   int32 \n",
      " 11  rub_per_gb             3174 non-null   int32 \n",
      " 12  rub_per_message        3174 non-null   int32 \n",
      " 13  rub_per_minute         3174 non-null   int32 \n",
      " 14  city_type              3174 non-null   object\n",
      " 15  extra_minutes          3174 non-null   int32 \n",
      " 16  extra_messages         3174 non-null   int32 \n",
      " 17  extra_traffic          3174 non-null   int32 \n",
      " 18  extra_revenue          3174 non-null   int32 \n",
      " 19  total_revenue          3174 non-null   int32 \n",
      "dtypes: int32(17), object(3)\n",
      "memory usage: 315.0+ KB\n"
     ]
    },
    {
     "data": {
      "text/html": [
       "<div>\n",
       "<style scoped>\n",
       "    .dataframe tbody tr th:only-of-type {\n",
       "        vertical-align: middle;\n",
       "    }\n",
       "\n",
       "    .dataframe tbody tr th {\n",
       "        vertical-align: top;\n",
       "    }\n",
       "\n",
       "    .dataframe thead th {\n",
       "        text-align: right;\n",
       "    }\n",
       "</style>\n",
       "<table border=\"1\" class=\"dataframe\">\n",
       "  <thead>\n",
       "    <tr style=\"text-align: right;\">\n",
       "      <th></th>\n",
       "      <th></th>\n",
       "      <th>age</th>\n",
       "      <th>city</th>\n",
       "      <th>tariff</th>\n",
       "      <th>calls</th>\n",
       "      <th>calls_duration</th>\n",
       "      <th>messages</th>\n",
       "      <th>gb_used</th>\n",
       "      <th>messages_included</th>\n",
       "      <th>gb_per_month_included</th>\n",
       "      <th>minutes_included</th>\n",
       "      <th>rub_monthly_fee</th>\n",
       "      <th>rub_per_gb</th>\n",
       "      <th>rub_per_message</th>\n",
       "      <th>rub_per_minute</th>\n",
       "      <th>city_type</th>\n",
       "      <th>extra_minutes</th>\n",
       "      <th>extra_messages</th>\n",
       "      <th>extra_traffic</th>\n",
       "      <th>extra_revenue</th>\n",
       "      <th>total_revenue</th>\n",
       "    </tr>\n",
       "    <tr>\n",
       "      <th>user_id</th>\n",
       "      <th>month</th>\n",
       "      <th></th>\n",
       "      <th></th>\n",
       "      <th></th>\n",
       "      <th></th>\n",
       "      <th></th>\n",
       "      <th></th>\n",
       "      <th></th>\n",
       "      <th></th>\n",
       "      <th></th>\n",
       "      <th></th>\n",
       "      <th></th>\n",
       "      <th></th>\n",
       "      <th></th>\n",
       "      <th></th>\n",
       "      <th></th>\n",
       "      <th></th>\n",
       "      <th></th>\n",
       "      <th></th>\n",
       "      <th></th>\n",
       "      <th></th>\n",
       "    </tr>\n",
       "  </thead>\n",
       "  <tbody>\n",
       "    <tr>\n",
       "      <th rowspan=\"8\" valign=\"top\">1000</th>\n",
       "      <th>5</th>\n",
       "      <td>52</td>\n",
       "      <td>Краснодар</td>\n",
       "      <td>ultra</td>\n",
       "      <td>22</td>\n",
       "      <td>159</td>\n",
       "      <td>22</td>\n",
       "      <td>3</td>\n",
       "      <td>1000</td>\n",
       "      <td>30</td>\n",
       "      <td>3000</td>\n",
       "      <td>1950</td>\n",
       "      <td>150</td>\n",
       "      <td>1</td>\n",
       "      <td>1</td>\n",
       "      <td>other</td>\n",
       "      <td>0</td>\n",
       "      <td>0</td>\n",
       "      <td>0</td>\n",
       "      <td>0</td>\n",
       "      <td>1950</td>\n",
       "    </tr>\n",
       "    <tr>\n",
       "      <th>6</th>\n",
       "      <td>52</td>\n",
       "      <td>Краснодар</td>\n",
       "      <td>ultra</td>\n",
       "      <td>43</td>\n",
       "      <td>172</td>\n",
       "      <td>60</td>\n",
       "      <td>23</td>\n",
       "      <td>1000</td>\n",
       "      <td>30</td>\n",
       "      <td>3000</td>\n",
       "      <td>1950</td>\n",
       "      <td>150</td>\n",
       "      <td>1</td>\n",
       "      <td>1</td>\n",
       "      <td>other</td>\n",
       "      <td>0</td>\n",
       "      <td>0</td>\n",
       "      <td>0</td>\n",
       "      <td>0</td>\n",
       "      <td>1950</td>\n",
       "    </tr>\n",
       "    <tr>\n",
       "      <th>7</th>\n",
       "      <td>52</td>\n",
       "      <td>Краснодар</td>\n",
       "      <td>ultra</td>\n",
       "      <td>47</td>\n",
       "      <td>340</td>\n",
       "      <td>75</td>\n",
       "      <td>14</td>\n",
       "      <td>1000</td>\n",
       "      <td>30</td>\n",
       "      <td>3000</td>\n",
       "      <td>1950</td>\n",
       "      <td>150</td>\n",
       "      <td>1</td>\n",
       "      <td>1</td>\n",
       "      <td>other</td>\n",
       "      <td>0</td>\n",
       "      <td>0</td>\n",
       "      <td>0</td>\n",
       "      <td>0</td>\n",
       "      <td>1950</td>\n",
       "    </tr>\n",
       "    <tr>\n",
       "      <th>8</th>\n",
       "      <td>52</td>\n",
       "      <td>Краснодар</td>\n",
       "      <td>ultra</td>\n",
       "      <td>52</td>\n",
       "      <td>408</td>\n",
       "      <td>81</td>\n",
       "      <td>14</td>\n",
       "      <td>1000</td>\n",
       "      <td>30</td>\n",
       "      <td>3000</td>\n",
       "      <td>1950</td>\n",
       "      <td>150</td>\n",
       "      <td>1</td>\n",
       "      <td>1</td>\n",
       "      <td>other</td>\n",
       "      <td>0</td>\n",
       "      <td>0</td>\n",
       "      <td>0</td>\n",
       "      <td>0</td>\n",
       "      <td>1950</td>\n",
       "    </tr>\n",
       "    <tr>\n",
       "      <th>9</th>\n",
       "      <td>52</td>\n",
       "      <td>Краснодар</td>\n",
       "      <td>ultra</td>\n",
       "      <td>58</td>\n",
       "      <td>466</td>\n",
       "      <td>57</td>\n",
       "      <td>15</td>\n",
       "      <td>1000</td>\n",
       "      <td>30</td>\n",
       "      <td>3000</td>\n",
       "      <td>1950</td>\n",
       "      <td>150</td>\n",
       "      <td>1</td>\n",
       "      <td>1</td>\n",
       "      <td>other</td>\n",
       "      <td>0</td>\n",
       "      <td>0</td>\n",
       "      <td>0</td>\n",
       "      <td>0</td>\n",
       "      <td>1950</td>\n",
       "    </tr>\n",
       "    <tr>\n",
       "      <th>10</th>\n",
       "      <td>52</td>\n",
       "      <td>Краснодар</td>\n",
       "      <td>ultra</td>\n",
       "      <td>57</td>\n",
       "      <td>350</td>\n",
       "      <td>73</td>\n",
       "      <td>15</td>\n",
       "      <td>1000</td>\n",
       "      <td>30</td>\n",
       "      <td>3000</td>\n",
       "      <td>1950</td>\n",
       "      <td>150</td>\n",
       "      <td>1</td>\n",
       "      <td>1</td>\n",
       "      <td>other</td>\n",
       "      <td>0</td>\n",
       "      <td>0</td>\n",
       "      <td>0</td>\n",
       "      <td>0</td>\n",
       "      <td>1950</td>\n",
       "    </tr>\n",
       "    <tr>\n",
       "      <th>11</th>\n",
       "      <td>52</td>\n",
       "      <td>Краснодар</td>\n",
       "      <td>ultra</td>\n",
       "      <td>43</td>\n",
       "      <td>338</td>\n",
       "      <td>58</td>\n",
       "      <td>15</td>\n",
       "      <td>1000</td>\n",
       "      <td>30</td>\n",
       "      <td>3000</td>\n",
       "      <td>1950</td>\n",
       "      <td>150</td>\n",
       "      <td>1</td>\n",
       "      <td>1</td>\n",
       "      <td>other</td>\n",
       "      <td>0</td>\n",
       "      <td>0</td>\n",
       "      <td>0</td>\n",
       "      <td>0</td>\n",
       "      <td>1950</td>\n",
       "    </tr>\n",
       "    <tr>\n",
       "      <th>12</th>\n",
       "      <td>52</td>\n",
       "      <td>Краснодар</td>\n",
       "      <td>ultra</td>\n",
       "      <td>46</td>\n",
       "      <td>333</td>\n",
       "      <td>70</td>\n",
       "      <td>10</td>\n",
       "      <td>1000</td>\n",
       "      <td>30</td>\n",
       "      <td>3000</td>\n",
       "      <td>1950</td>\n",
       "      <td>150</td>\n",
       "      <td>1</td>\n",
       "      <td>1</td>\n",
       "      <td>other</td>\n",
       "      <td>0</td>\n",
       "      <td>0</td>\n",
       "      <td>0</td>\n",
       "      <td>0</td>\n",
       "      <td>1950</td>\n",
       "    </tr>\n",
       "    <tr>\n",
       "      <th rowspan=\"2\" valign=\"top\">1001</th>\n",
       "      <th>11</th>\n",
       "      <td>41</td>\n",
       "      <td>Москва</td>\n",
       "      <td>smart</td>\n",
       "      <td>59</td>\n",
       "      <td>430</td>\n",
       "      <td>0</td>\n",
       "      <td>18</td>\n",
       "      <td>50</td>\n",
       "      <td>15</td>\n",
       "      <td>500</td>\n",
       "      <td>550</td>\n",
       "      <td>200</td>\n",
       "      <td>3</td>\n",
       "      <td>3</td>\n",
       "      <td>moscow</td>\n",
       "      <td>0</td>\n",
       "      <td>0</td>\n",
       "      <td>3</td>\n",
       "      <td>600</td>\n",
       "      <td>1150</td>\n",
       "    </tr>\n",
       "    <tr>\n",
       "      <th>12</th>\n",
       "      <td>41</td>\n",
       "      <td>Москва</td>\n",
       "      <td>smart</td>\n",
       "      <td>63</td>\n",
       "      <td>414</td>\n",
       "      <td>0</td>\n",
       "      <td>14</td>\n",
       "      <td>50</td>\n",
       "      <td>15</td>\n",
       "      <td>500</td>\n",
       "      <td>550</td>\n",
       "      <td>200</td>\n",
       "      <td>3</td>\n",
       "      <td>3</td>\n",
       "      <td>moscow</td>\n",
       "      <td>0</td>\n",
       "      <td>0</td>\n",
       "      <td>0</td>\n",
       "      <td>0</td>\n",
       "      <td>550</td>\n",
       "    </tr>\n",
       "    <tr>\n",
       "      <th rowspan=\"7\" valign=\"top\">1002</th>\n",
       "      <th>6</th>\n",
       "      <td>59</td>\n",
       "      <td>Стерлитамак</td>\n",
       "      <td>smart</td>\n",
       "      <td>15</td>\n",
       "      <td>117</td>\n",
       "      <td>4</td>\n",
       "      <td>11</td>\n",
       "      <td>50</td>\n",
       "      <td>15</td>\n",
       "      <td>500</td>\n",
       "      <td>550</td>\n",
       "      <td>200</td>\n",
       "      <td>3</td>\n",
       "      <td>3</td>\n",
       "      <td>other</td>\n",
       "      <td>0</td>\n",
       "      <td>0</td>\n",
       "      <td>0</td>\n",
       "      <td>0</td>\n",
       "      <td>550</td>\n",
       "    </tr>\n",
       "    <tr>\n",
       "      <th>7</th>\n",
       "      <td>59</td>\n",
       "      <td>Стерлитамак</td>\n",
       "      <td>smart</td>\n",
       "      <td>26</td>\n",
       "      <td>214</td>\n",
       "      <td>11</td>\n",
       "      <td>18</td>\n",
       "      <td>50</td>\n",
       "      <td>15</td>\n",
       "      <td>500</td>\n",
       "      <td>550</td>\n",
       "      <td>200</td>\n",
       "      <td>3</td>\n",
       "      <td>3</td>\n",
       "      <td>other</td>\n",
       "      <td>0</td>\n",
       "      <td>0</td>\n",
       "      <td>3</td>\n",
       "      <td>600</td>\n",
       "      <td>1150</td>\n",
       "    </tr>\n",
       "    <tr>\n",
       "      <th>8</th>\n",
       "      <td>59</td>\n",
       "      <td>Стерлитамак</td>\n",
       "      <td>smart</td>\n",
       "      <td>42</td>\n",
       "      <td>289</td>\n",
       "      <td>13</td>\n",
       "      <td>20</td>\n",
       "      <td>50</td>\n",
       "      <td>15</td>\n",
       "      <td>500</td>\n",
       "      <td>550</td>\n",
       "      <td>200</td>\n",
       "      <td>3</td>\n",
       "      <td>3</td>\n",
       "      <td>other</td>\n",
       "      <td>0</td>\n",
       "      <td>0</td>\n",
       "      <td>5</td>\n",
       "      <td>1000</td>\n",
       "      <td>1550</td>\n",
       "    </tr>\n",
       "    <tr>\n",
       "      <th>9</th>\n",
       "      <td>59</td>\n",
       "      <td>Стерлитамак</td>\n",
       "      <td>smart</td>\n",
       "      <td>36</td>\n",
       "      <td>206</td>\n",
       "      <td>4</td>\n",
       "      <td>17</td>\n",
       "      <td>50</td>\n",
       "      <td>15</td>\n",
       "      <td>500</td>\n",
       "      <td>550</td>\n",
       "      <td>200</td>\n",
       "      <td>3</td>\n",
       "      <td>3</td>\n",
       "      <td>other</td>\n",
       "      <td>0</td>\n",
       "      <td>0</td>\n",
       "      <td>2</td>\n",
       "      <td>400</td>\n",
       "      <td>950</td>\n",
       "    </tr>\n",
       "    <tr>\n",
       "      <th>10</th>\n",
       "      <td>59</td>\n",
       "      <td>Стерлитамак</td>\n",
       "      <td>smart</td>\n",
       "      <td>33</td>\n",
       "      <td>212</td>\n",
       "      <td>10</td>\n",
       "      <td>14</td>\n",
       "      <td>50</td>\n",
       "      <td>15</td>\n",
       "      <td>500</td>\n",
       "      <td>550</td>\n",
       "      <td>200</td>\n",
       "      <td>3</td>\n",
       "      <td>3</td>\n",
       "      <td>other</td>\n",
       "      <td>0</td>\n",
       "      <td>0</td>\n",
       "      <td>0</td>\n",
       "      <td>0</td>\n",
       "      <td>550</td>\n",
       "    </tr>\n",
       "    <tr>\n",
       "      <th>11</th>\n",
       "      <td>59</td>\n",
       "      <td>Стерлитамак</td>\n",
       "      <td>smart</td>\n",
       "      <td>32</td>\n",
       "      <td>243</td>\n",
       "      <td>16</td>\n",
       "      <td>19</td>\n",
       "      <td>50</td>\n",
       "      <td>15</td>\n",
       "      <td>500</td>\n",
       "      <td>550</td>\n",
       "      <td>200</td>\n",
       "      <td>3</td>\n",
       "      <td>3</td>\n",
       "      <td>other</td>\n",
       "      <td>0</td>\n",
       "      <td>0</td>\n",
       "      <td>4</td>\n",
       "      <td>800</td>\n",
       "      <td>1350</td>\n",
       "    </tr>\n",
       "    <tr>\n",
       "      <th>12</th>\n",
       "      <td>59</td>\n",
       "      <td>Стерлитамак</td>\n",
       "      <td>smart</td>\n",
       "      <td>33</td>\n",
       "      <td>236</td>\n",
       "      <td>12</td>\n",
       "      <td>18</td>\n",
       "      <td>50</td>\n",
       "      <td>15</td>\n",
       "      <td>500</td>\n",
       "      <td>550</td>\n",
       "      <td>200</td>\n",
       "      <td>3</td>\n",
       "      <td>3</td>\n",
       "      <td>other</td>\n",
       "      <td>0</td>\n",
       "      <td>0</td>\n",
       "      <td>3</td>\n",
       "      <td>600</td>\n",
       "      <td>1150</td>\n",
       "    </tr>\n",
       "    <tr>\n",
       "      <th rowspan=\"3\" valign=\"top\">1003</th>\n",
       "      <th>8</th>\n",
       "      <td>23</td>\n",
       "      <td>Москва</td>\n",
       "      <td>ultra</td>\n",
       "      <td>55</td>\n",
       "      <td>380</td>\n",
       "      <td>37</td>\n",
       "      <td>9</td>\n",
       "      <td>1000</td>\n",
       "      <td>30</td>\n",
       "      <td>3000</td>\n",
       "      <td>1950</td>\n",
       "      <td>150</td>\n",
       "      <td>1</td>\n",
       "      <td>1</td>\n",
       "      <td>moscow</td>\n",
       "      <td>0</td>\n",
       "      <td>0</td>\n",
       "      <td>0</td>\n",
       "      <td>0</td>\n",
       "      <td>1950</td>\n",
       "    </tr>\n",
       "    <tr>\n",
       "      <th>9</th>\n",
       "      <td>23</td>\n",
       "      <td>Москва</td>\n",
       "      <td>ultra</td>\n",
       "      <td>134</td>\n",
       "      <td>961</td>\n",
       "      <td>91</td>\n",
       "      <td>13</td>\n",
       "      <td>1000</td>\n",
       "      <td>30</td>\n",
       "      <td>3000</td>\n",
       "      <td>1950</td>\n",
       "      <td>150</td>\n",
       "      <td>1</td>\n",
       "      <td>1</td>\n",
       "      <td>moscow</td>\n",
       "      <td>0</td>\n",
       "      <td>0</td>\n",
       "      <td>0</td>\n",
       "      <td>0</td>\n",
       "      <td>1950</td>\n",
       "    </tr>\n",
       "    <tr>\n",
       "      <th>10</th>\n",
       "      <td>23</td>\n",
       "      <td>Москва</td>\n",
       "      <td>ultra</td>\n",
       "      <td>108</td>\n",
       "      <td>855</td>\n",
       "      <td>83</td>\n",
       "      <td>15</td>\n",
       "      <td>1000</td>\n",
       "      <td>30</td>\n",
       "      <td>3000</td>\n",
       "      <td>1950</td>\n",
       "      <td>150</td>\n",
       "      <td>1</td>\n",
       "      <td>1</td>\n",
       "      <td>moscow</td>\n",
       "      <td>0</td>\n",
       "      <td>0</td>\n",
       "      <td>0</td>\n",
       "      <td>0</td>\n",
       "      <td>1950</td>\n",
       "    </tr>\n",
       "  </tbody>\n",
       "</table>\n",
       "</div>"
      ],
      "text/plain": [
       "               age         city tariff  calls  calls_duration  messages  \\\n",
       "user_id month                                                             \n",
       "1000    5       52    Краснодар  ultra     22             159        22   \n",
       "        6       52    Краснодар  ultra     43             172        60   \n",
       "        7       52    Краснодар  ultra     47             340        75   \n",
       "        8       52    Краснодар  ultra     52             408        81   \n",
       "        9       52    Краснодар  ultra     58             466        57   \n",
       "        10      52    Краснодар  ultra     57             350        73   \n",
       "        11      52    Краснодар  ultra     43             338        58   \n",
       "        12      52    Краснодар  ultra     46             333        70   \n",
       "1001    11      41       Москва  smart     59             430         0   \n",
       "        12      41       Москва  smart     63             414         0   \n",
       "1002    6       59  Стерлитамак  smart     15             117         4   \n",
       "        7       59  Стерлитамак  smart     26             214        11   \n",
       "        8       59  Стерлитамак  smart     42             289        13   \n",
       "        9       59  Стерлитамак  smart     36             206         4   \n",
       "        10      59  Стерлитамак  smart     33             212        10   \n",
       "        11      59  Стерлитамак  smart     32             243        16   \n",
       "        12      59  Стерлитамак  smart     33             236        12   \n",
       "1003    8       23       Москва  ultra     55             380        37   \n",
       "        9       23       Москва  ultra    134             961        91   \n",
       "        10      23       Москва  ultra    108             855        83   \n",
       "\n",
       "               gb_used  messages_included  gb_per_month_included  \\\n",
       "user_id month                                                      \n",
       "1000    5            3               1000                     30   \n",
       "        6           23               1000                     30   \n",
       "        7           14               1000                     30   \n",
       "        8           14               1000                     30   \n",
       "        9           15               1000                     30   \n",
       "        10          15               1000                     30   \n",
       "        11          15               1000                     30   \n",
       "        12          10               1000                     30   \n",
       "1001    11          18                 50                     15   \n",
       "        12          14                 50                     15   \n",
       "1002    6           11                 50                     15   \n",
       "        7           18                 50                     15   \n",
       "        8           20                 50                     15   \n",
       "        9           17                 50                     15   \n",
       "        10          14                 50                     15   \n",
       "        11          19                 50                     15   \n",
       "        12          18                 50                     15   \n",
       "1003    8            9               1000                     30   \n",
       "        9           13               1000                     30   \n",
       "        10          15               1000                     30   \n",
       "\n",
       "               minutes_included  rub_monthly_fee  rub_per_gb  rub_per_message  \\\n",
       "user_id month                                                                   \n",
       "1000    5                  3000             1950         150                1   \n",
       "        6                  3000             1950         150                1   \n",
       "        7                  3000             1950         150                1   \n",
       "        8                  3000             1950         150                1   \n",
       "        9                  3000             1950         150                1   \n",
       "        10                 3000             1950         150                1   \n",
       "        11                 3000             1950         150                1   \n",
       "        12                 3000             1950         150                1   \n",
       "1001    11                  500              550         200                3   \n",
       "        12                  500              550         200                3   \n",
       "1002    6                   500              550         200                3   \n",
       "        7                   500              550         200                3   \n",
       "        8                   500              550         200                3   \n",
       "        9                   500              550         200                3   \n",
       "        10                  500              550         200                3   \n",
       "        11                  500              550         200                3   \n",
       "        12                  500              550         200                3   \n",
       "1003    8                  3000             1950         150                1   \n",
       "        9                  3000             1950         150                1   \n",
       "        10                 3000             1950         150                1   \n",
       "\n",
       "               rub_per_minute city_type  extra_minutes  extra_messages  \\\n",
       "user_id month                                                            \n",
       "1000    5                   1     other              0               0   \n",
       "        6                   1     other              0               0   \n",
       "        7                   1     other              0               0   \n",
       "        8                   1     other              0               0   \n",
       "        9                   1     other              0               0   \n",
       "        10                  1     other              0               0   \n",
       "        11                  1     other              0               0   \n",
       "        12                  1     other              0               0   \n",
       "1001    11                  3    moscow              0               0   \n",
       "        12                  3    moscow              0               0   \n",
       "1002    6                   3     other              0               0   \n",
       "        7                   3     other              0               0   \n",
       "        8                   3     other              0               0   \n",
       "        9                   3     other              0               0   \n",
       "        10                  3     other              0               0   \n",
       "        11                  3     other              0               0   \n",
       "        12                  3     other              0               0   \n",
       "1003    8                   1    moscow              0               0   \n",
       "        9                   1    moscow              0               0   \n",
       "        10                  1    moscow              0               0   \n",
       "\n",
       "               extra_traffic  extra_revenue  total_revenue  \n",
       "user_id month                                               \n",
       "1000    5                  0              0           1950  \n",
       "        6                  0              0           1950  \n",
       "        7                  0              0           1950  \n",
       "        8                  0              0           1950  \n",
       "        9                  0              0           1950  \n",
       "        10                 0              0           1950  \n",
       "        11                 0              0           1950  \n",
       "        12                 0              0           1950  \n",
       "1001    11                 3            600           1150  \n",
       "        12                 0              0            550  \n",
       "1002    6                  0              0            550  \n",
       "        7                  3            600           1150  \n",
       "        8                  5           1000           1550  \n",
       "        9                  2            400            950  \n",
       "        10                 0              0            550  \n",
       "        11                 4            800           1350  \n",
       "        12                 3            600           1150  \n",
       "1003    8                  0              0           1950  \n",
       "        9                  0              0           1950  \n",
       "        10                 0              0           1950  "
      ]
     },
     "execution_count": 35,
     "metadata": {},
     "output_type": "execute_result"
    }
   ],
   "source": [
    "data = data.set_index(['user_id', 'month']) # сгруппируем данные по абонентам и месяцам\n",
    "data.info() # общая информация\n",
    "data.head(20) # первые 20 строк финальной таблицы"
   ]
  },
  {
   "cell_type": "markdown",
   "metadata": {},
   "source": [
    "### Вывод"
   ]
  },
  {
   "cell_type": "markdown",
   "metadata": {},
   "source": [
    "Каждая таблица была подробно изучена, лишние для исследования данные были удалены, произведены необходимые изменения типов данных. В ходе предобработки были сделаны следующие выводы:\n",
    "\n",
    "* Средний возраст абонентов - 46 лет\n",
    "* 7.6% клиентов прекратили пользоваться выбранным тарифом в 2018 году.\n",
    "* Из тех, кто больше не использует тариф, среднее время использование услуг составляет около 4 месяцев.\n",
    "\n",
    "* Абоненты, в течении года отказавшиеся от услуг оператора,в зависимости от тарифа ведут себя по разному:\n",
    " 1. Большинство пользователи тарифа 'Смарт' отказываются от него в первые три месяца использования, пик приходится на второй месяц.\n",
    " 2. Распределение отказов от тарифа среди пользователей 'Ультра' более равномерно, пик приходится на четвёртый месяц.\n",
    "\n",
    "\n",
    "\n",
    "* Средняя длительность звонков всех абонентов составляет около 9 минут \n",
    "* За период использования тарифа в среднем каждый абонент разговаривает ~2,800 минут.\n",
    "\n",
    "* В среднем каждый абонент отправляет ~290 сообщений за весь период использования тарифа\n",
    "\n",
    "* Средний трафик сессии состявляет 0.36 гигабайт.\n",
    "* Абоненты в период использования тарифа тратят в среднем ~109 гигабайт.\n",
    "\n",
    "После данные были объединены в единую таблицу `data` и сгруппированы по идентификатору пользователя и месяцам, появившиеся в ходе объединения пропуски были обработаны. Затем были расчитаны дополнительные параметры с объёмом перерасхода тарифного пакета, выручкой по перерасходу и общей выручкой. Таким образом в нашем распоряжении есть данные, показывающие всю информацию в разрезе месяцев для каждого пользователя - именно эта таблица станет основой для дальнейшего исследования."
   ]
  },
  {
   "cell_type": "markdown",
   "metadata": {},
   "source": [
    "<div style=\"border-radius: 3px; border: 2px solid black; padding: 0px;\">     \n",
    "<div class=\"alert alert-success\">\n",
    "<b>Комментарий ревьюера✔️:</b> \n",
    "    \n",
    "👏👏👏    \n",
    "\n",
    "</div>\n",
    "</div>"
   ]
  },
  {
   "cell_type": "markdown",
   "metadata": {},
   "source": [
    "<a id='analysis'></a>"
   ]
  },
  {
   "cell_type": "markdown",
   "metadata": {},
   "source": [
    "## Анализ данных"
   ]
  },
  {
   "cell_type": "markdown",
   "metadata": {},
   "source": [
    "Анализ данных будет проходить в виде сравнения данных в разрезе тарифов. Сначала буду сопоставлена объёмы использования услуг операторов, затем буду построены графики распределения этих значений."
   ]
  },
  {
   "cell_type": "code",
   "execution_count": 36,
   "metadata": {},
   "outputs": [
    {
     "data": {
      "image/png": "[encoded data removed]",
      "text/plain": [
       "<Figure size 720x360 with 1 Axes>"
      ]
     },
     "metadata": {},
     "output_type": "display_data"
    }
   ],
   "source": [
    "# визуализируем долю тарифов в выборке\n",
    "\n",
    "data['tariff'].value_counts().plot(kind='pie', autopct='%1.1f %%', figsize=[10,5]) \n",
    "plt.show()"
   ]
  },
  {
   "cell_type": "markdown",
   "metadata": {},
   "source": [
    "<div style=\"border-radius: 3px; border: 2px solid black; padding: 0px;\">     \n",
    "<div class=\"alert alert-success\">\n",
    "<b>Комментарий ревьюера✔️:</b> \n",
    "    \n",
    "Согласен 💪 Здесь также можно указать параметр `autopct='%1.1f %%'` в функции plot, чтобы проценты вывелись на круговой диаграмме   \n",
    "\n",
    "</div>\n",
    "</div>"
   ]
  },
  {
   "cell_type": "markdown",
   "metadata": {},
   "source": [
    "<div class=\"alert alert-block alert-info\">\n",
    "<b>Комментарий студента 🎓: </b>\n",
    "    Спасибо большое! Пытался найти в документации способ это реализовать, но все примеры показались мне сложными. 🙈 Добавил параметр в plot(), ручные расчёты убираю."
   ]
  },
  {
   "cell_type": "markdown",
   "metadata": {},
   "source": [
    "<div style=\"border-radius: 3px; border: 2px solid black; padding: 0px;\">     \n",
    "<div class=\"alert alert-success\">\n",
    "<b>Комментарий ревьюера V.2 ✔️:</b> \n",
    "    \n",
    "Пожалуйста! Отработка зелёных комментариев - это топ-уровень! 😎    \n",
    "\n",
    "</div>\n",
    "</div>"
   ]
  },
  {
   "cell_type": "markdown",
   "metadata": {},
   "source": [
    "Поскольку распределение абонентов по тарифам в выборке неравное, сравнивать абсолютные значения выручки будет непоказательно. Основным источником данных для анализа будут среднемесячные данные об объёме использованных услуг."
   ]
  },
  {
   "cell_type": "markdown",
   "metadata": {},
   "source": [
    "### Сравнение объёмов использования услуг"
   ]
  },
  {
   "cell_type": "markdown",
   "metadata": {},
   "source": [
    "Сравним использование услуг в разрезе тарифов:"
   ]
  },
  {
   "cell_type": "code",
   "execution_count": 37,
   "metadata": {},
   "outputs": [
    {
     "data": {
      "image/png": "[encoded data removed]",
      "text/plain": [
       "<Figure size 1008x360 with 1 Axes>"
      ]
     },
     "metadata": {},
     "output_type": "display_data"
    },
    {
     "data": {
      "image/png": "[encoded data removed]",
      "text/plain": [
       "<Figure size 1008x360 with 1 Axes>"
      ]
     },
     "metadata": {},
     "output_type": "display_data"
    }
   ],
   "source": [
    "# отберём и сгруппируем необходимые данные из общей таблицы\n",
    "\n",
    "smart_pivot = (data[data['tariff'] == 'smart']\n",
    "                 .pivot_table\n",
    "                 (index=['month'], values=['calls_duration', 'messages', 'gb_used'])\n",
    "                )\n",
    "ultra_pivot = (data[data['tariff'] == 'ultra']\n",
    "                 .pivot_table\n",
    "                 (index=['month'], values=['calls_duration', 'messages', 'gb_used'])\n",
    "                )\n",
    "\n",
    "def compare(parameter): # напишем функцию для построения столбчатой диаграммы и графика разницы значений в %\n",
    "    \n",
    "    ax = (smart_pivot\n",
    "          .plot(y=parameter, kind='bar', label='smart', alpha=0.5, color ='c')\n",
    "         )\n",
    "    (ultra_pivot\n",
    "     .plot(y=parameter, kind='bar', label='ultra', figsize=(14, 5), ax=ax, grid=True, alpha=0.4, color = 'k', width=0.3)\n",
    "    )\n",
    "    plt.show()\n",
    "    \n",
    "    # график ниже покажет насколько абоненты тарифа \"Ультра\" больше или меньше пользуются услугами\n",
    "    \n",
    "    pivot_difference = (ultra_pivot[parameter]-smart_pivot[parameter])/smart_pivot[parameter]*100\n",
    "    pivot_difference.plot(style='o-', grid=True, figsize=(14,5), title='difference %')\n",
    "    plt.show()\n",
    "    \n",
    "compare('calls_duration') # сравним длительность звонков"
   ]
  },
  {
   "cell_type": "markdown",
   "metadata": {},
   "source": [
    "<div style=\"border-radius: 3px; border: 2px solid black; padding: 0px;\">      \n",
    "<div class=\"alert alert-warning\">\n",
    "<s>Комментарий ревьюера⚠️:</b> \n",
    "    \n",
    "Для сравнения рекомендую делать столбчатые графики не друг на друге, а рядом, так мы сможем ещё сравнить значения по месяцам друг с другом (конкретно для тарифа ultra)\n",
    "    \n",
    "</div>\n",
    "</div>"
   ]
  },
  {
   "cell_type": "markdown",
   "metadata": {},
   "source": [
    "<div class=\"alert alert-block alert-info\">\n",
    "<b>Комментарий студента 🎓: </b>\n",
    "    Долго мучался, но так и не смог по-человечески перестроить график. Я понимаю, что мне нужен \"unstacked barplot\", но никак не получается. Я очень хочу развиваться в визуализации данных, но всё что мне предлагает интернет на тему таких графиков на данный момент для меня слишком сложно. 😭 Как временное решение - сузил ширину столбцов по тарифу \"Ультра\" для наглядности, в принципе все выводы, которые я хотел сделать по этим графика, уже есть. \n",
    "    \n",
    "Буду очень благодарен за дополнительную обратную связь по этому моменту. 🙏🏻"
   ]
  },
  {
   "cell_type": "markdown",
   "metadata": {},
   "source": [
    "<div style=\"border-radius: 3px; border: 2px solid black; padding: 0px;\">     \n",
    "<div class=\"alert alert-success\">\n",
    "<b>Комментарий ревьюера V.2 ✔️:</b> \n",
    "    \n",
    "Не зря мучился, моё замечание отработано, к тому же ты использовал свой подход! 😎 Круто, что у тебя такое желание развиваться - это уже видно в твоем проекте (твоя визуализация на топ-уровне для текущего проекта) и оно обязательно приведёт тебя к успеху, верю в тебя! Понимаю, поэтому [полезные ссылки](#benefit) по визуализации указал в конце проекта, там ты найдёшь всё необходимое для роста, в том числе и для графика выше 😉  \n",
    "\n",
    "</div>\n",
    "</div>"
   ]
  },
  {
   "cell_type": "markdown",
   "metadata": {},
   "source": [
    "В целом абонента \"Ультра\", что ожидаемо, более активно пользуются сотовой связью. За исключением февраля, где средняя продолжительность звонков у обоих групп одинакова, среднемесячная продолжительность разговора абонентов \"Ультра\" выше. На втором графике видно, что показатель января в два раза выше тарифа \"Смарт\", по остальным месяцам разница составляет около 30% в пользу \"Ультра\". Пик обоих значений приходится на декабрь. Минимальные значения - 200 минут для абонентов \"Смарт\" (январь) и 300 минут для \"Ультра\" (февраль)."
   ]
  },
  {
   "cell_type": "code",
   "execution_count": 38,
   "metadata": {},
   "outputs": [
    {
     "data": {
      "image/png": "[encoded data removed]",
      "text/plain": [
       "<Figure size 1008x360 with 1 Axes>"
      ]
     },
     "metadata": {},
     "output_type": "display_data"
    },
    {
     "data": {
      "image/png": "[encoded data removed]",
      "text/plain": [
       "<Figure size 1008x360 with 1 Axes>"
      ]
     },
     "metadata": {},
     "output_type": "display_data"
    }
   ],
   "source": [
    "compare('messages') # сравним количество сообщенией"
   ]
  },
  {
   "cell_type": "markdown",
   "metadata": {},
   "source": [
    "Тариф \"Ультра\" преобладает и здесь. Ситуация в первые два месяца очень похоже на данные звонков - в январе количество сообщений от пользователей \"Ультра\" больше почти в два раза, тогда как в феврале объём сообщений сопоставим, что также является низшей точкой для обеих групп (примерно 20 сообщений).\n",
    "Дальше количество сообщений в тарифе \"Смарт\" находится примерно на одном уровне до конца года (~30), а вот объём сообщений тарифа \"Ультра\" с каждым месяцем вырастает, постепенно увеличивая разрыв с тарифом \"Смарт\". Пиком для обоих групп здесь также можно обозначить декабрь (хотя у тарифа \"Смарт\" идентичный показатель также находится в июне)."
   ]
  },
  {
   "cell_type": "code",
   "execution_count": 39,
   "metadata": {
    "scrolled": false
   },
   "outputs": [
    {
     "data": {
      "image/png": "[encoded data removed]",
      "text/plain": [
       "<Figure size 1008x360 with 1 Axes>"
      ]
     },
     "metadata": {},
     "output_type": "display_data"
    },
    {
     "data": {
      "image/png": "[encoded data removed]",
      "text/plain": [
       "<Figure size 1008x360 with 1 Axes>"
      ]
     },
     "metadata": {},
     "output_type": "display_data"
    }
   ],
   "source": [
    "compare('gb_used') # сравним трафик интернет-сессий"
   ]
  },
  {
   "cell_type": "markdown",
   "metadata": {},
   "source": [
    "Визуально оба графика идентичны картине по длительности звонков - большая разница в пользу \"Ультра\" в январе, провал в феврале, где оба показателя на одном уровне, затем относительно равномерное распределение по оставшимся месяцам, с разницей на уровне 20-30% в сторону \"Ультра\". Пиковым значением для обоих групп также является декабрь, минимальный размер трафика для \"Смарт\" - 7.5 гб (январь), для \"Ультра\" - примерно 11 гб (февраль)."
   ]
  },
  {
   "cell_type": "markdown",
   "metadata": {},
   "source": [
    "**Выводы**\n",
    "\n",
    "При сравнении среднемесячных данных о продолжительности звонков, количестве сообщений и объёма трафика в разрезе тарифов были сделаны следующие выводы:\n",
    "\n",
    "* несмотря на меньшую долю в выборке (30%), абоненты тарифа \"Ультра\" намного активнее пользуются услугами оператора.\n",
    "* пик объёма использованных услуг для обоих тарифов приходится на декабрь, минимальные значения - на январь-февраль\n",
    "* в январе объём услуг \"Ультра\" сильно превышает \"Смарт\" (для части данных - в два раза), в феврале происходит резкий спад, где объёмы услуг для обоих тарифов уравниваются.\n",
    "* минимальная продолжительность разговора - 200 минут для абонентов \"Смарт\" и 300 минут для \"Ультра\".\n",
    "* минимальное количество отправленных сообщений для обоих тарифов - около 20 сообщений.\n",
    "* минимальный размер интернет трафика для \"Смарт\" - 7.5 гб (январь), для \"Ультра\" - примерно 11 гб (февраль).\n",
    "\n",
    "Динамика распределения данных по месяцам для звонков и интернет-трафика: \n",
    " * Большая разница в пользу \"Ультра\" в январе, провал в феврале, где оба показателя на одном уровне, затем относительно равномерное распределение по оставшимся месяцам, с разницей на уровне 20-30% в сторону \"Ультра\". Пиковым значением для обоих групп является декабрь.\n",
    " \n",
    "Динамика по количеству сообщений:\n",
    "\n",
    " * В январе количество сообщений от пользователей \"Ультра\" больше почти в два раза, тогда как в феврале объём сообщений сопоставим, что также является низшей точкой для обеих групп. Дальше количество сообщений в тарифе \"Смарт\" находится примерно на одном уровне до конца года, а вот объём сообщений тарифа \"Ультра\" с каждым месяцем вырастает, постепенно увеличивая разрыв с тарифом \"Смарт\". Пиком для обоих групп здесь также можно обозначить декабрь (хотя у тарифа \"Смарт\" идентичный показатель также находится в июне)."
   ]
  },
  {
   "cell_type": "markdown",
   "metadata": {},
   "source": [
    "<div style=\"border-radius: 3px; border: 2px solid black; padding: 0px;\">     \n",
    "<div class=\"alert alert-success\">\n",
    "<b>Комментарий ревьюера✔️:</b> \n",
    "    \n",
    "🔥🔥🔥    \n",
    "\n",
    "</div>\n",
    "</div>"
   ]
  },
  {
   "cell_type": "markdown",
   "metadata": {},
   "source": [
    "### Распределение данных\n",
    "\n",
    "Расчитаем дополнительные показатели и визуализируем распределение по данным каждого тарифа:"
   ]
  },
  {
   "cell_type": "code",
   "execution_count": 40,
   "metadata": {},
   "outputs": [],
   "source": [
    "# отберём и сгруппируем необходимые данные из общей таблицы\n",
    "\n",
    "smart_pivot = (data[data['tariff'] == 'smart']\n",
    "                 .pivot_table\n",
    "                 (index=['user_id'], values=['calls_duration', 'messages', 'gb_used'])\n",
    "                )\n",
    "ultra_pivot = (data[data['tariff'] == 'ultra']\n",
    "                 .pivot_table\n",
    "                 (index=['user_id'], values=['calls_duration', 'messages', 'gb_used'])\n",
    "                )\n",
    "\n",
    "# расчитаем среднее, стандартное отклонение и дисперсию для каждой услуги\n",
    "\n",
    "calls_distr = (data\n",
    "               .pivot_table(index=['tariff'], values='calls_duration', aggfunc=['mean', 'std', 'var'])\n",
    "               .droplevel(1, axis=1)\n",
    "                )\n",
    "\n",
    "messages_distr = (data\n",
    "                 .pivot_table(index=['tariff'], values='messages', aggfunc=['mean', 'std', 'var'])\n",
    "                  .droplevel(1, axis=1)\n",
    "                )\n",
    "traffic_distr = (data\n",
    "                 .pivot_table(index=['tariff'], values='gb_used', aggfunc=['mean', 'std', 'var'])\n",
    "                 .droplevel(1, axis=1)\n",
    "                )"
   ]
  },
  {
   "cell_type": "code",
   "execution_count": 41,
   "metadata": {},
   "outputs": [
    {
     "data": {
      "image/png": "[encoded data removed]",
      "text/plain": [
       "<Figure size 1008x360 with 1 Axes>"
      ]
     },
     "metadata": {},
     "output_type": "display_data"
    },
    {
     "data": {
      "image/png": "[encoded data removed]",
      "text/plain": [
       "<Figure size 1008x360 with 1 Axes>"
      ]
     },
     "metadata": {},
     "output_type": "display_data"
    },
    {
     "data": {
      "text/html": [
       "<div>\n",
       "<style scoped>\n",
       "    .dataframe tbody tr th:only-of-type {\n",
       "        vertical-align: middle;\n",
       "    }\n",
       "\n",
       "    .dataframe tbody tr th {\n",
       "        vertical-align: top;\n",
       "    }\n",
       "\n",
       "    .dataframe thead th {\n",
       "        text-align: right;\n",
       "    }\n",
       "</style>\n",
       "<table border=\"1\" class=\"dataframe\">\n",
       "  <thead>\n",
       "    <tr style=\"text-align: right;\">\n",
       "      <th></th>\n",
       "      <th>mean</th>\n",
       "      <th>std</th>\n",
       "      <th>var</th>\n",
       "    </tr>\n",
       "    <tr>\n",
       "      <th>tariff</th>\n",
       "      <th></th>\n",
       "      <th></th>\n",
       "      <th></th>\n",
       "    </tr>\n",
       "  </thead>\n",
       "  <tbody>\n",
       "    <tr>\n",
       "      <th>smart</th>\n",
       "      <td>419.06</td>\n",
       "      <td>189.33</td>\n",
       "      <td>35,844.19</td>\n",
       "    </tr>\n",
       "    <tr>\n",
       "      <th>ultra</th>\n",
       "      <td>545.45</td>\n",
       "      <td>306.93</td>\n",
       "      <td>94,203.42</td>\n",
       "    </tr>\n",
       "  </tbody>\n",
       "</table>\n",
       "</div>"
      ],
      "text/plain": [
       "         mean    std       var\n",
       "tariff                        \n",
       "smart  419.06 189.33 35,844.19\n",
       "ultra  545.45 306.93 94,203.42"
      ]
     },
     "execution_count": 41,
     "metadata": {},
     "output_type": "execute_result"
    }
   ],
   "source": [
    "# напишем функцию для анализа распределения средних значений.\n",
    "\n",
    "def distribution(parameter):\n",
    "    \n",
    "    smart = smart_pivot[parameter]\n",
    "    ultra = ultra_pivot[parameter]\n",
    "    \n",
    "    \n",
    "    \n",
    "    # строим гистограмму\n",
    "    plt.figure(figsize=[14,5])\n",
    "    plt.grid()\n",
    "    sns.histplot(smart, alpha=0.4, legend=True, label='smart', bins=15, color='c', kde=True)\n",
    "    sns.histplot(ultra, alpha=0.6, legend=True, label='ultra', bins=15, color='k', kde=True)\n",
    "    plt.title(parameter + ' ' + 'histogram')\n",
    "    plt.legend()\n",
    "    plt.show()\n",
    "    plt.close()\n",
    "    \n",
    "    # строим диаграмму размаха\n",
    "    plt.figure(figsize=[14,5])\n",
    "    plt.boxplot([smart, ultra], labels=['smart', 'ultra'])\n",
    "    plt.title(parameter + ' ' + 'boxplot')\n",
    "    plt.grid()\n",
    "    plt.show()\n",
    "   \n",
    "    \n",
    "# посмотрим на данные о звонках\n",
    "    \n",
    "distribution('calls_duration')\n",
    "calls_distr "
   ]
  },
  {
   "cell_type": "markdown",
   "metadata": {},
   "source": [
    "Оба тарифа демонстируют нормальное распределение, но при этом они сильно отличаются по ширине. Это обусловлено высоким уровнем стандартного отклонения и дисперсии у тарифа \"Ультра\" - эти показатели почти в три раза превышают показатели \"Смарт\", при том что средние значения тарифов не имеют настолько значительной разницы. Диаграмма размаха демонстрирует выбросы по обе стороны квартилей для тарифа \"Смарт\", а значения тарифа \"Ультра\" целиком находятся в пределах нормального распределения. Это всё говорит о том, что поведение абонентов \"Ультра\" намного сложнее предсказать."
   ]
  },
  {
   "cell_type": "code",
   "execution_count": 42,
   "metadata": {},
   "outputs": [
    {
     "data": {
      "image/png": "[encoded data removed]",
      "text/plain": [
       "<Figure size 1008x360 with 1 Axes>"
      ]
     },
     "metadata": {},
     "output_type": "display_data"
    },
    {
     "data": {
      "image/png": "[encoded data removed]",
      "text/plain": [
       "<Figure size 1008x360 with 1 Axes>"
      ]
     },
     "metadata": {},
     "output_type": "display_data"
    },
    {
     "data": {
      "text/html": [
       "<div>\n",
       "<style scoped>\n",
       "    .dataframe tbody tr th:only-of-type {\n",
       "        vertical-align: middle;\n",
       "    }\n",
       "\n",
       "    .dataframe tbody tr th {\n",
       "        vertical-align: top;\n",
       "    }\n",
       "\n",
       "    .dataframe thead th {\n",
       "        text-align: right;\n",
       "    }\n",
       "</style>\n",
       "<table border=\"1\" class=\"dataframe\">\n",
       "  <thead>\n",
       "    <tr style=\"text-align: right;\">\n",
       "      <th></th>\n",
       "      <th>mean</th>\n",
       "      <th>std</th>\n",
       "      <th>var</th>\n",
       "    </tr>\n",
       "    <tr>\n",
       "      <th>tariff</th>\n",
       "      <th></th>\n",
       "      <th></th>\n",
       "      <th></th>\n",
       "    </tr>\n",
       "  </thead>\n",
       "  <tbody>\n",
       "    <tr>\n",
       "      <th>smart</th>\n",
       "      <td>33.40</td>\n",
       "      <td>28.26</td>\n",
       "      <td>798.60</td>\n",
       "    </tr>\n",
       "    <tr>\n",
       "      <th>ultra</th>\n",
       "      <td>49.03</td>\n",
       "      <td>46.89</td>\n",
       "      <td>2,198.73</td>\n",
       "    </tr>\n",
       "  </tbody>\n",
       "</table>\n",
       "</div>"
      ],
      "text/plain": [
       "        mean   std      var\n",
       "tariff                     \n",
       "smart  33.40 28.26   798.60\n",
       "ultra  49.03 46.89 2,198.73"
      ]
     },
     "execution_count": 42,
     "metadata": {},
     "output_type": "execute_result"
    }
   ],
   "source": [
    "# посмотрим на данные о сообщениях\n",
    "    \n",
    "distribution('messages')\n",
    "messages_distr "
   ]
  },
  {
   "cell_type": "markdown",
   "metadata": {},
   "source": [
    "Оба графика имеют сильную отрицательную скошенность. Визуально напоминают распределение Пуассона. Средние показатели практически равны стандартному отклонению, что говорит о сильной неравномерности распределения данных. Оба тарифа также имеются выбросы за пределами третьего квартиля, в значительно большем объёме для тарифа \"Смарт\"."
   ]
  },
  {
   "cell_type": "code",
   "execution_count": 43,
   "metadata": {
    "scrolled": false
   },
   "outputs": [
    {
     "data": {
      "image/png": "[encoded data removed]",
      "text/plain": [
       "<Figure size 1008x360 with 1 Axes>"
      ]
     },
     "metadata": {},
     "output_type": "display_data"
    },
    {
     "data": {
      "image/png": "[encoded data removed]",
      "text/plain": [
       "<Figure size 1008x360 with 1 Axes>"
      ]
     },
     "metadata": {},
     "output_type": "display_data"
    },
    {
     "data": {
      "text/html": [
       "<div>\n",
       "<style scoped>\n",
       "    .dataframe tbody tr th:only-of-type {\n",
       "        vertical-align: middle;\n",
       "    }\n",
       "\n",
       "    .dataframe tbody tr th {\n",
       "        vertical-align: top;\n",
       "    }\n",
       "\n",
       "    .dataframe thead th {\n",
       "        text-align: right;\n",
       "    }\n",
       "</style>\n",
       "<table border=\"1\" class=\"dataframe\">\n",
       "  <thead>\n",
       "    <tr style=\"text-align: right;\">\n",
       "      <th></th>\n",
       "      <th>mean</th>\n",
       "      <th>std</th>\n",
       "      <th>var</th>\n",
       "    </tr>\n",
       "    <tr>\n",
       "      <th>tariff</th>\n",
       "      <th></th>\n",
       "      <th></th>\n",
       "      <th></th>\n",
       "    </tr>\n",
       "  </thead>\n",
       "  <tbody>\n",
       "    <tr>\n",
       "      <th>smart</th>\n",
       "      <td>16.33</td>\n",
       "      <td>5.75</td>\n",
       "      <td>33.09</td>\n",
       "    </tr>\n",
       "    <tr>\n",
       "      <th>ultra</th>\n",
       "      <td>19.49</td>\n",
       "      <td>9.89</td>\n",
       "      <td>97.82</td>\n",
       "    </tr>\n",
       "  </tbody>\n",
       "</table>\n",
       "</div>"
      ],
      "text/plain": [
       "        mean  std   var\n",
       "tariff                 \n",
       "smart  16.33 5.75 33.09\n",
       "ultra  19.49 9.89 97.82"
      ]
     },
     "execution_count": 43,
     "metadata": {},
     "output_type": "execute_result"
    }
   ],
   "source": [
    "# посмотрим на данные об интернет-трафике\n",
    "    \n",
    "distribution('gb_used')\n",
    "traffic_distr "
   ]
  },
  {
   "cell_type": "markdown",
   "metadata": {},
   "source": [
    "Графики очень похожи на ситуацию с звонками - оба тарифа демонстируют нормальное распределение, распределение тарифа \"Ультра\" значительно шире за счёт высокого уровня стандартного отклонения, но средние значения тарифов также не имеют значительной разницы. Диаграмма размаха демонстрирует выбросы по обе стороны квартилей для тарифа \"Смарт\", а значения тарифа \"Ультра\" целиком находятся в пределах нормального распределения. По сравнению с данными о звонках, распределение тарифа \"Смарт\" более центрировано относительно распределения \"Ультра\", что обусловлена более схожим средним показателям."
   ]
  },
  {
   "cell_type": "markdown",
   "metadata": {},
   "source": [
    "### Вывод"
   ]
  },
  {
   "cell_type": "markdown",
   "metadata": {},
   "source": [
    "* Абонентами тарифа \"Смарт\" являются 70.0% выборки.\n",
    "* Абонентами тарифа \"Ультра\" являются 30.0% выборки.\n",
    "\n",
    "**При сравнении среднемесячных данных о продолжительности звонков, количестве сообщений и объёма трафика в разрезе тарифов были сделаны следующие выводы:**\n",
    "\n",
    "* несмотря на меньшую долю в выборке, абоненты тарифа \"Ультра\" намного активнее пользуются услугами оператора.\n",
    "* пик объёма использованных услуг для обоих тарифов приходится на декабрь, минимальные значения - на январь-февраль\n",
    "* в январе объём услуг \"Ультра\" сильно превышает \"Смарт\" (для части данных - в два раза), в феврале происходит резкий спад, где объёмы услуг для обоих тарифов уравниваются.\n",
    "* минимальная продолжительность разговора - 200 минут для абонентов \"Смарт\" и 300 минут для \"Ультра\".\n",
    "* минимальное количество отправленных сообщений для обоих тарифов - около 20 сообщений.\n",
    "* минимальный размер интернет трафика для \"Смарт\" - 7.5 гб (январь), для \"Ультра\" - примерно 11 гб (февраль).\n",
    "\n",
    "Динамика распределения данных по месяцам для звонков и интернет-трафика: \n",
    " * Большая разница в пользу \"Ультра\" в январе, провал в феврале, где оба показателя на одном уровне, затем относительно равномерное распределение по оставшимся месяцам, с разницей на уровне 20-30% в сторону \"Ультра\". Пиковым значением для обоих групп является декабрь.\n",
    " \n",
    "Динамика по количеству сообщений:\n",
    "\n",
    " * В январе количество сообщений от пользователей \"Ультра\" больше почти в два раза, тогда как в феврале объём сообщений сопоставим, что также является низшей точкой для обеих групп. Дальше количество сообщений в тарифе \"Смарт\" находится примерно на одном уровне до конца года, а вот объём сообщений тарифа \"Ультра\" с каждым месяцем вырастает, постепенно увеличивая разрыв с тарифом \"Смарт\". Пиком для обоих групп здесь также можно обозначить декабрь (хотя у тарифа \"Смарт\" идентичный показатель также находится в июне).\n",
    " \n",
    "**При сравнении распределения средних данных по абонентам двух тарифов были сделаны следующие выводы:**\n",
    "\n",
    "Продолжительность звонков и интернет-сессии:\n",
    "\n",
    " * Оба тарифа демонстируют нормальное распределение данных о звонках и интернет-сессиях, но при этом они сильно отличаются по ширине. Это обусловлено высоким уровнем стандартного отклонения и дисперсии у тарифа \"Ультра\", при том что средние значения тарифов не имеют настолько значительной разницы. \n",
    " * Тариф \"Смарт\" имеет выбросы по обе стороны границ нормальных значений, а значения тарифа \"Ультра\" целиком находятся в пределах нормального распределения. Это всё говорит о том, что поведение абонентов \"Ультра\" намного сложнее предсказать.\n",
    "\n",
    "Количество сообщений:\n",
    "\n",
    " * Оба распределения демонстрируют сильную отрицательную скошенность, визуально напоминают распределение Пуассона. \n",
    " * Средние показатели практически равны стандартному отклонению, что говорит о сильной неравномерности распределения данных. \n",
    " * Оба тарифа также имеются выбросы за пределами верхней границы нормальных значений, в значительно большем объёме для тарифа \"Смарт\"."
   ]
  },
  {
   "cell_type": "markdown",
   "metadata": {},
   "source": [
    "<div style=\"border-radius: 3px; border: 2px solid black; padding: 0px;\">     \n",
    "<div class=\"alert alert-success\">\n",
    "<b>Комментарий ревьюера✔️:</b> \n",
    "    \n",
    "Есть контакт 😎    \n",
    "\n",
    "</div>\n",
    "</div>"
   ]
  },
  {
   "cell_type": "markdown",
   "metadata": {},
   "source": [
    "<a id='hypothesis'></a>"
   ]
  },
  {
   "cell_type": "markdown",
   "metadata": {},
   "source": [
    "## Проверка гипотез\n",
    "\n",
    "Последним этапом исследование является проверка двух сформированных заказчиком гипотез:\n",
    "\n",
    "* Средняя выручка пользователей тарифов различаются.\n",
    "* Средняя выручка пользователей из Москвы отличается от выручки пользователей из других регионов."
   ]
  },
  {
   "cell_type": "markdown",
   "metadata": {},
   "source": [
    "### Различие средней выручки пользователей тарифов\n",
    "\n",
    "Начнём с анализа распределения общей ежемесячной выручки по пользователям:"
   ]
  },
  {
   "cell_type": "code",
   "execution_count": 44,
   "metadata": {},
   "outputs": [
    {
     "data": {
      "image/png": "[encoded data removed]",
      "text/plain": [
       "<Figure size 1008x360 with 1 Axes>"
      ]
     },
     "metadata": {},
     "output_type": "display_data"
    },
    {
     "data": {
      "image/png": "[encoded data removed]",
      "text/plain": [
       "<Figure size 1008x360 with 1 Axes>"
      ]
     },
     "metadata": {},
     "output_type": "display_data"
    },
    {
     "data": {
      "text/html": [
       "<div>\n",
       "<style scoped>\n",
       "    .dataframe tbody tr th:only-of-type {\n",
       "        vertical-align: middle;\n",
       "    }\n",
       "\n",
       "    .dataframe tbody tr th {\n",
       "        vertical-align: top;\n",
       "    }\n",
       "\n",
       "    .dataframe thead th {\n",
       "        text-align: right;\n",
       "    }\n",
       "</style>\n",
       "<table border=\"1\" class=\"dataframe\">\n",
       "  <thead>\n",
       "    <tr style=\"text-align: right;\">\n",
       "      <th></th>\n",
       "      <th>mean</th>\n",
       "      <th>std</th>\n",
       "      <th>var</th>\n",
       "    </tr>\n",
       "    <tr>\n",
       "      <th>tariff</th>\n",
       "      <th></th>\n",
       "      <th></th>\n",
       "      <th></th>\n",
       "    </tr>\n",
       "  </thead>\n",
       "  <tbody>\n",
       "    <tr>\n",
       "      <th>smart</th>\n",
       "      <td>1,290.89</td>\n",
       "      <td>819.12</td>\n",
       "      <td>670,957.33</td>\n",
       "    </tr>\n",
       "    <tr>\n",
       "      <th>ultra</th>\n",
       "      <td>2,070.98</td>\n",
       "      <td>379.42</td>\n",
       "      <td>143,962.10</td>\n",
       "    </tr>\n",
       "  </tbody>\n",
       "</table>\n",
       "</div>"
      ],
      "text/plain": [
       "           mean    std        var\n",
       "tariff                           \n",
       "smart  1,290.89 819.12 670,957.33\n",
       "ultra  2,070.98 379.42 143,962.10"
      ]
     },
     "execution_count": 44,
     "metadata": {},
     "output_type": "execute_result"
    }
   ],
   "source": [
    "# отберём и сгруппируем необходимые данные из общей таблицы\n",
    "\n",
    "smart_pivot = (data[data['tariff'] == 'smart']\n",
    "                 .pivot_table\n",
    "                 (index=['user_id','month'], values='total_revenue')\n",
    "                )\n",
    "ultra_pivot = (data[data['tariff'] == 'ultra']\n",
    "                 .pivot_table\n",
    "                 (index=['user_id','month'], values='total_revenue')\n",
    "                )\n",
    "\n",
    "revenue_distr = (data\n",
    "               .pivot_table(index=['tariff'], values='total_revenue', aggfunc=['mean','std', 'var'])\n",
    "               .droplevel(1, axis=1)\n",
    "                )\n",
    "\n",
    "# посмотрим на распределение \n",
    "\n",
    "distribution('total_revenue')\n",
    "revenue_distr"
   ]
  },
  {
   "cell_type": "markdown",
   "metadata": {},
   "source": [
    "Вспомним условия использования тарифов:\n",
    "\n",
    "- **Тариф «Смарт»**. Ежемесячная плата: 550 рублей\n",
    "- **Тариф «Ультра»**. Ежемесячная плата: 1950 рублей\n",
    "\n",
    "Распределение выручки показывает нам, что пользователи тарифа \"Смарт\" часто пользуются услугами сверх тарифного пакета - среднее значение более чем в два раза превышает ежемесячный платёж по тарифу. Данные при этом всё равно имеют отрицательную скошенность. \n",
    "С пользователями тарифа \"Ультра\" ситуация другая - абсолютное большинство средних значений как раз находится на уровне суммы ежемесячного платежа по тарифу. Можно сделать обратный вывод для этих пользователей - чаще всего им хватает включенного в пакет объёма услуг связи, выручка в основном не превышает сумму ежемесячного платежа. Представленный объём выбросов не сильно искажает эту картину.\n",
    "\n",
    "Проверим гипотезу о том, что в общей совокупности средний доход от абонентов обоих тарифов различается. С учётом объёма использования дополнительных услуг сверх пакетов такой исход можно предположить. Несмотря на то, что с точки зрения результатов анализа выборки мы ожидаем больший доход от тарифа \"Ультра\", в соответствии с ожиданием заказчика необходимо проверить гипотезу в обе стороны. Таким образом:\n",
    "\n",
    "**Нулевая гипотеза:** \n",
    " * Средняя выручка пользователей тарифов равна.\n",
    " \n",
    "**Альтернативная гипотеза**\n",
    " * Средняя выручка пользователей тарифов различаются.\n",
    " \n",
    "Используем инструмент Python для проверки гипотез о равенстве среднего двух независимых генеральных совокупностей по взятым из них выборкам (t-тест):"
   ]
  },
  {
   "cell_type": "code",
   "execution_count": 45,
   "metadata": {},
   "outputs": [
    {
     "name": "stdout",
     "output_type": "stream",
     "text": [
      "p-значение: [3.15517321e-245]\n",
      "Отвергаем нулевую гипотезу\n"
     ]
    }
   ],
   "source": [
    "alpha = .001 # уровень статистической значимости, поставим тысячную процента, чтобы убедится в точности результата\n",
    "\n",
    "results = st.ttest_ind(smart_pivot.values, ultra_pivot.values, equal_var=False) # у выборок разная дисперсия, уточняем\n",
    "\n",
    "print('p-значение:', results.pvalue)\n",
    "\n",
    "if results.pvalue < alpha:\n",
    "    print(\"Отвергаем нулевую гипотезу\")\n",
    "else:\n",
    "    print(\"Не получилось отвергнуть нулевую гипотезу\") "
   ]
  },
  {
   "cell_type": "markdown",
   "metadata": {},
   "source": [
    "------\n",
    "**Выводы**\n",
    "\n",
    "* Абоненты тарифа \"Смарт\" часто пользуются услугами сверх тарифного пакета - среднее значение более чем в два раза превышает ежемесячный платёж по тарифу. \n",
    "* У абонентов \"Ультра\" в абсолютном большинстве средние значеня находится на уровне суммы ежемесячного платежа по тарифу.\n",
    "* Проверка гипотезы показала, что вероятность равенства средней выручки общих совокупностей по тарифам составляет меньше 0.001%."
   ]
  },
  {
   "cell_type": "markdown",
   "metadata": {},
   "source": [
    "<div style=\"border-radius: 3px; border: 2px solid black; padding: 0px;\">    \n",
    "<div class=\"alert alert-danger\">\n",
    "<s>Комментарий ревьюера❌:</b> \n",
    "    \n",
    "В статистике гипотезы подтвердить невозможно, мы только можем сказать, что это слишком низкая/высокая вероятность для того, чтобы делать выводы о значимом равенстве/различии между метриками. Выводы здесь и ниже необходимо обновить\n",
    "\n",
    "</div>\n",
    "</div>"
   ]
  },
  {
   "cell_type": "markdown",
   "metadata": {},
   "source": [
    "<div class=\"alert alert-block alert-info\">\n",
    "<b>Комментарий студента 🎓: </b>\n",
    "    Спасибо! Я согласен, слишком смелые формулировки, поправил выводы после проверки гипотез и обновил общий вывод."
   ]
  },
  {
   "cell_type": "markdown",
   "metadata": {},
   "source": [
    "<div style=\"border-radius: 3px; border: 2px solid black; padding: 0px;\">     \n",
    "<div class=\"alert alert-success\">\n",
    "<b>Комментарий ревьюера V.2 ✔️:</b> \n",
    "    \n",
    "Есть контакт 😎    \n",
    "\n",
    "</div>\n",
    "</div>"
   ]
  },
  {
   "cell_type": "markdown",
   "metadata": {},
   "source": [
    "### Различие выручки пользователей из разных регионов\n",
    "\n",
    "Посчитаем доли абонентов в выборке и рассмотрим распределение выручки:"
   ]
  },
  {
   "cell_type": "code",
   "execution_count": 49,
   "metadata": {},
   "outputs": [
    {
     "data": {
      "image/png": "[encoded data removed]",
      "text/plain": [
       "<Figure size 720x360 with 1 Axes>"
      ]
     },
     "metadata": {},
     "output_type": "display_data"
    }
   ],
   "source": [
    "# расчитаём долю регионов в выборке\n",
    "\n",
    "data['city_type'].value_counts().plot(kind='pie', figsize=[10,5], autopct='%1.0f %%') # визуализируем доли\n",
    "plt.show()"
   ]
  },
  {
   "cell_type": "code",
   "execution_count": 46,
   "metadata": {},
   "outputs": [
    {
     "data": {
      "image/png": "[encoded data removed]",
      "text/plain": [
       "<Figure size 1008x360 with 1 Axes>"
      ]
     },
     "metadata": {},
     "output_type": "display_data"
    },
    {
     "data": {
      "image/png": "[encoded data removed]",
      "text/plain": [
       "<Figure size 1008x360 with 1 Axes>"
      ]
     },
     "metadata": {},
     "output_type": "display_data"
    },
    {
     "data": {
      "text/html": [
       "<div>\n",
       "<style scoped>\n",
       "    .dataframe tbody tr th:only-of-type {\n",
       "        vertical-align: middle;\n",
       "    }\n",
       "\n",
       "    .dataframe tbody tr th {\n",
       "        vertical-align: top;\n",
       "    }\n",
       "\n",
       "    .dataframe thead th {\n",
       "        text-align: right;\n",
       "    }\n",
       "</style>\n",
       "<table border=\"1\" class=\"dataframe\">\n",
       "  <thead>\n",
       "    <tr style=\"text-align: right;\">\n",
       "      <th></th>\n",
       "      <th>mean</th>\n",
       "      <th>std</th>\n",
       "      <th>var</th>\n",
       "    </tr>\n",
       "    <tr>\n",
       "      <th>city_type</th>\n",
       "      <th></th>\n",
       "      <th></th>\n",
       "      <th></th>\n",
       "    </tr>\n",
       "  </thead>\n",
       "  <tbody>\n",
       "    <tr>\n",
       "      <th>moscow</th>\n",
       "      <td>1,546.05</td>\n",
       "      <td>752.53</td>\n",
       "      <td>566,297.76</td>\n",
       "    </tr>\n",
       "    <tr>\n",
       "      <th>other</th>\n",
       "      <td>1,519.52</td>\n",
       "      <td>811.48</td>\n",
       "      <td>658,497.80</td>\n",
       "    </tr>\n",
       "  </tbody>\n",
       "</table>\n",
       "</div>"
      ],
      "text/plain": [
       "              mean    std        var\n",
       "city_type                           \n",
       "moscow    1,546.05 752.53 566,297.76\n",
       "other     1,519.52 811.48 658,497.80"
      ]
     },
     "execution_count": 46,
     "metadata": {},
     "output_type": "execute_result"
    }
   ],
   "source": [
    "# отберём и сгруппируем необходимые данные из общей таблицы\n",
    "\n",
    "moscow_pivot = (data[data['city_type'] == 'moscow']\n",
    "                 .pivot_table\n",
    "                 (index=['user_id','month'], values='total_revenue')\n",
    "                )\n",
    "other_pivot = (data[data['city_type'] == 'other']\n",
    "                 .pivot_table\n",
    "                 (index=['user_id','month'], values='total_revenue')\n",
    "                )\n",
    "revenue_distr = (data\n",
    "               .pivot_table(index=['city_type'], values='total_revenue', aggfunc=['mean','std', 'var'])\n",
    "               .droplevel(1, axis=1)\n",
    "                )\n",
    "\n",
    "# перезапишем функцию для анализа распределения средних значений.\n",
    "\n",
    "def distribution(parameter):\n",
    "    \n",
    "    moscow = moscow_pivot[parameter]\n",
    "    other = other_pivot[parameter]    \n",
    "    \n",
    "    # строим гистограмму\n",
    "    plt.figure(figsize=[14,5])\n",
    "    plt.grid()\n",
    "    sns.histplot(moscow, alpha=0.6, legend=True, label='moscow', bins=15, color='k', kde=True)\n",
    "    sns.histplot(other, alpha=0.4, legend=True, label='other', bins=15, color='c', kde=True)\n",
    "    plt.title(parameter + ' ' + 'histogram')\n",
    "    plt.legend()\n",
    "    plt.show()\n",
    "    plt.close()\n",
    "    \n",
    "    # строим диаграмму размаха\n",
    "    plt.figure(figsize=[14,5])\n",
    "    plt.boxplot([moscow, other], labels=['moscow', 'other'])\n",
    "    plt.title(parameter + ' ' + 'boxplot')\n",
    "    plt.grid()\n",
    "    plt.show()\n",
    "\n",
    "    \n",
    "# посмотрим на распределение \n",
    "\n",
    "distribution('total_revenue')\n",
    "revenue_distr"
   ]
  },
  {
   "cell_type": "markdown",
   "metadata": {},
   "source": [
    "Оба графика имеют отрицательную скошенность, распределение не похоже на нормальное, много выбросов за пределами третьего квартиля. При этом общая форма графиков очень схожа - это обусловлена формированием пиков на значениях, равным ежемесячному платежу по тарифам - `550` и `1950`. Среднее значение по регионам находятся примерно на одном уровне, как и медиана. \n",
    "\n",
    "Проверим гипотезу о том, что в общей совокупности средний доход от абонентов из Москвы отличается от показателей остальных регионов. С учётом того, что большая часть выручки формируется именно размером тарифного платежа, по результатам исследования гипотеза может не подтвердиться.  Таким образом:\n",
    "\n",
    "**Нулевая гипотеза:** \n",
    " * Средняя выручка пользователей из Москвы равна выручке пользователей из других регионов\n",
    " \n",
    "**Альтернативная гипотеза**\n",
    " * Средняя выручка пользователей из Москвы отличается от выручки пользователей из других регионов.\n",
    " \n",
    "Проверка будет осуществлена тем же способом:"
   ]
  },
  {
   "cell_type": "code",
   "execution_count": 47,
   "metadata": {},
   "outputs": [
    {
     "name": "stdout",
     "output_type": "stream",
     "text": [
      "p-значение: [0.44113706]\n",
      "Не получилось отвергнуть нулевую гипотезу\n"
     ]
    }
   ],
   "source": [
    "alpha = .05 # поставим стандартный уровень статистической значимости\n",
    "\n",
    "results = st.ttest_ind(moscow_pivot.values, other_pivot.values, equal_var=False) # у выборок разная дисперсия, уточняем\n",
    "\n",
    "print('p-значение:', results.pvalue)\n",
    "\n",
    "if results.pvalue < alpha:\n",
    "    print(\"Отвергаем нулевую гипотезу\")\n",
    "else:\n",
    "    print(\"Не получилось отвергнуть нулевую гипотезу\") "
   ]
  },
  {
   "cell_type": "markdown",
   "metadata": {},
   "source": [
    "------\n",
    "**Выводы**\n",
    "* Основное распределение значений обоих регионов происходит между ежемесячными платежами по тарифам - `550` и `1950`. \n",
    "* Среднее значение по регионам находятся примерно на одном уровне, как и медиана.  \n",
    "\n",
    "* Проверка гипотезы о равенстве среднего совокупностей выборок по регионам показала, что вероятность равенства составляет около 0.44%, что является выше стандартного уровня статистической значимости."
   ]
  },
  {
   "cell_type": "markdown",
   "metadata": {},
   "source": [
    "### Вывод"
   ]
  },
  {
   "cell_type": "markdown",
   "metadata": {},
   "source": [
    "Анализ распределения выручки между абонентами тарифов показал следующее:\n",
    "    \n",
    "* Абоненты тарифа \"Смарт\" часто пользуются услугами сверх тарифного пакета - среднее значение более чем в два раза превышает ежемесячный платёж по тарифу. \n",
    "* У абонентов \"Ультра\" в абсолютном большинстве средние значеня находится на уровне суммы ежемесячного платежа по тарифу.\n",
    "\n",
    "Таким образом можно было предположить, что в генеральной совокупности средняя выручка по тарифу \"Смарт\" могла бы превзойти показатель \"Ультра\" за счёт выручки за услуги сверх тарифного пакета. Но проверка гипотезы о равенстве среднего совокупностей тарифов показала, что вероятность этого составляет меньше 0.001%. Несмотря на большой объём дополнительных услуг абонентов тарифа \"Смарт\", вероятность достижения уровня средней выручки абонентов \"Ультра\" крайне низка."
   ]
  },
  {
   "cell_type": "markdown",
   "metadata": {},
   "source": [
    "В ходе анализа выборки абонентов в разрезе регионов были сделаны следующие выводы:\n",
    "\n",
    "* Абоненты из Москвы составляют 19% выборки.\n",
    "* Абоненты из других регионов составляют 81% выборки.\n",
    "* Основное распределение значений обоих регионов происходит между ежемесячными платежами по тарифам - `550` и `1950`. \n",
    "* Среднее значение по регионам находятся примерно на одном уровне, как и медиана.  \n",
    "\n",
    "Проверка гипотезы о равенстве среднего совокупностей выборок по регионам показала, что вероятность равенства составляет около 0.44%, что является выше стандартного уровня статистической значимости. Скорее всего это обусловлено высоким влиянием платежей по тарифам на формирование пиковых значений распределения."
   ]
  },
  {
   "cell_type": "markdown",
   "metadata": {},
   "source": [
    "<div style=\"border-radius: 3px; border: 2px solid black; padding: 0px;\">     \n",
    "<div class=\"alert alert-success\">\n",
    "<b>Комментарий ревьюера V.2 ✔️:</b> \n",
    "    \n",
    "👏👏👏    \n",
    "\n",
    "</div>\n",
    "</div>"
   ]
  },
  {
   "cell_type": "markdown",
   "metadata": {},
   "source": [
    "<a id='conclusion'></a>"
   ]
  },
  {
   "cell_type": "markdown",
   "metadata": {},
   "source": [
    "## Общий вывод"
   ]
  },
  {
   "cell_type": "markdown",
   "metadata": {},
   "source": [
    "---------\n",
    "\n",
    "**Рекомендации**\n",
    "\n",
    "Несмотря на большой объём использования услуг сверх тарифного пакета абонентами \"Смарт\", абоненты тарифа \"Ультра\" в среднем приносят больше выручки. Причём это единственный параметр с относительно небольшим распределением - с точки зрения использования услуг абоненты тарифа \"Ультра\" ведут себя очень непредсказумо, совершенно по разному распоряжаясь своим пакетом включенных услуг. Распределение выручки тарифа \"Смарт\" частично выходит за рамки среднего показателя \"Ультра\", другими словами - пользователи более дешёвых тарифов в итоге тратят больше денег на услуги связи. Это может стать хорошим углом для продвижения тарифа внутри клиентской сети.\n",
    "\n",
    "--------"
   ]
  },
  {
   "cell_type": "markdown",
   "metadata": {},
   "source": [
    "Целью исследования являлся анализ поведения клиентов на основе выборки данных об активности 500 абонентов за 2018 год и определение наиболее доходного тарифа.\n",
    "\n",
    "Данные были представлены в виде пяти таблиц, содержащих данные о клиентах: кто они, откуда, каким тарифом пользуются, сколько звонков и сообщений каждый отправил за 2018 год. При обзоре данных была совершена проверка на возможные ошибки, которые могли помещать исследованию. После была совершена предобработка данных с целью исправления ошибок и обработки пропущенных значений, были изменены типы данных и расчитаны дополнительные параметры. Затем на основе обработанных данных был проведён статистический анализ данных и проверка сформированных заказчиком гипотез.\n",
    "\n",
    "\n",
    "Каждая таблица была подробно изучена, лишние для исследования данные были удалены, произведены необходимые изменения типов данных. В ходе предобработки были сделаны следующие выводы:\n",
    "\n",
    "* Средний возраст абонентов - 46 лет\n",
    "* 7.6% клиентов прекратили пользоваться выбранным тарифом в 2018 году.\n",
    "* Из тех, кто больше не использует тариф, среднее время использование услуг составляет около 4 месяцев.\n",
    "\n",
    "* Абоненты, в течении года отказавшиеся от услуг оператора,в зависимости от тарифа ведут себя по разному:\n",
    " 1. Большинство пользователи тарифа 'Смарт' отказываются от него в первые три месяца использования, пик приходится на второй месяц.\n",
    " 2. Распределение отказов от тарифа среди пользователей 'Ультра' более равномерно, пик приходится на четвёртый месяц.\n",
    "\n",
    "\n",
    "\n",
    "* Средняя длительность звонков всех абонентов составляет около 9 минут \n",
    "* За период использования тарифа в среднем каждый абонент разговаривает ~2,800 минут.\n",
    "\n",
    "* В среднем каждый абонент отправляет ~290 сообщений за весь период использования тарифа\n",
    "\n",
    "* Средний трафик сессии состявляет 0.36 гигабайт.\n",
    "* Абоненты в период использования тарифа тратят в среднем ~109 гигабайт.\n",
    "\n",
    "После данные были объединены в единую таблицу `data` и сгруппированы по идентификатору пользователя и месяцам, появившиеся в ходе объединения пропуски были обработаны. Затем были расчитаны дополнительные параметры с объёмом перерасхода тарифного пакета, выручкой по перерасходу и общей выручкой. Таким образом в нашем распоряжении есть данные, показывающие всю информацию в разрезе месяцев для каждого пользователя - именно эта таблица стала основой для дальнейшего исследования.\n",
    "\n",
    "Дальнейший анализ в основном проводился в разрезе тарифов. Доля абонентов в выборке:\n",
    "\n",
    "* Абонентами тарифа \"Смарт\" являются 70.0% выборки.\n",
    "* Абонентами тарифа \"Ультра\" являются 30.0% выборки.\n",
    "\n",
    "**При сравнении среднемесячных данных о продолжительности звонков, количестве сообщений и объёма трафика в разрезе тарифов были сделаны следующие выводы:**\n",
    "\n",
    "* несмотря на меньшую долю в выборке, абоненты тарифа \"Ультра\" намного активнее пользуются услугами оператора.\n",
    "* пик объёма использованных услуг для обоих тарифов приходится на декабрь, минимальные значения - на январь-февраль\n",
    "* в январе объём услуг \"Ультра\" сильно превышает \"Смарт\" (для части данных - в два раза), в феврале происходит резкий спад, где объёмы услуг для обоих тарифов уравниваются.\n",
    "* минимальная продолжительность разговора - 200 минут для абонентов \"Смарт\" и 300 минут для \"Ультра\".\n",
    "* минимальное количество отправленных сообщений для обоих тарифов - около 20 сообщений.\n",
    "* минимальный размер интернет трафика для \"Смарт\" - 7.5 гб (январь), для \"Ультра\" - примерно 11 гб (февраль).\n",
    "\n",
    "Динамика распределения данных по месяцам для звонков и интернет-трафика: \n",
    " * Большая разница в пользу \"Ультра\" в январе, провал в феврале, где оба показателя на одном уровне, затем относительно равномерное распределение по оставшимся месяцам, с разницей на уровне 20-30% в сторону \"Ультра\". Пиковым значением для обоих групп является декабрь.\n",
    " \n",
    "Динамика по количеству сообщений:\n",
    "\n",
    " * В январе количество сообщений от пользователей \"Ультра\" больше почти в два раза, тогда как в феврале объём сообщений сопоставим, что также является низшей точкой для обеих групп. Дальше количество сообщений в тарифе \"Смарт\" находится примерно на одном уровне до конца года, а вот объём сообщений тарифа \"Ультра\" с каждым месяцем вырастает, постепенно увеличивая разрыв с тарифом \"Смарт\". Пиком для обоих групп здесь также можно обозначить декабрь (хотя у тарифа \"Смарт\" идентичный показатель также находится в июне).\n",
    " \n",
    "**При сравнении распределения средних данных по абонентам двух тарифов были сделаны следующие выводы:**\n",
    "\n",
    "Продолжительность звонков и интернет-сессии:\n",
    "\n",
    " * Оба тарифа демонстируют нормальное распределение данных о звонках и интернет-сессиях, но при этом они сильно отличаются по ширине. Это обусловлено высоким уровнем стандартного отклонения и дисперсии у тарифа \"Ультра\", при том что средние значения тарифов не имеют настолько значительной разницы. \n",
    " * Тариф \"Смарт\" имеет выбросы по обе стороны границ нормальных значений, а значения тарифа \"Ультра\" целиком находятся в пределах нормального распределения. Это всё говорит о том, что поведение абонентов \"Ультра\" намного сложнее предсказать.\n",
    "\n",
    "Количество сообщений:\n",
    "\n",
    " * Оба распределения демонстрируют сильную отрицательную скошенность, визуально напоминают распределение Пуассона. \n",
    " * Средние показатели практически равны стандартному отклонению, что говорит о сильной неравномерности распределения данных. \n",
    " * Оба тарифа также имеются выбросы за пределами верхней границы нормальных значений, в значительно большем объёме для тарифа \"Смарт\".\n",
    " \n",
    "**Анализ распределения выручки между абонентами тарифов показал следующее**:\n",
    "    \n",
    "* Абоненты тарифа \"Смарт\" часто пользуются услугами сверх тарифного пакета - среднее значение более чем в два раза превышает ежемесячный платёж по тарифу. \n",
    "* У абонентов \"Ультра\" в абсолютном большинстве средние значеня находится на уровне суммы ежемесячного платежа по тарифу.\n",
    "\n",
    "Таким образом можно было предположить, что в генеральной совокупности средняя выручка по тарифу \"Смарт\" могла бы превзойти показатель \"Ультра\" за счёт выручки за услуги сверх тарифного пакета. Но проверка гипотезы о равенстве среднего совокупностей тарифов показала, что вероятность этого составляет меньше 0.001%. Несмотря на большой объём дополнительных услуг абонентов тарифа \"Смарт\", вероятность достижения уровня средней выручки абонентов \"Ультра\" крайне низка.\n",
    "\n",
    "В ходе анализа выборки абонентов в разрезе регионов были сделаны следующие выводы:\n",
    "\n",
    "* Абоненты из Москвы составляют 19% выборки.\n",
    "* Абоненты из других регионов составляют 81% выборки.\n",
    "* Основное распределение значений обоих регионов происходит между ежемесячными платежами по тарифам - `550` и `1950`. \n",
    "* Среднее значение по регионам находятся примерно на одном уровне, как и медиана.  \n",
    "\n",
    "Проверка гипотезы о равенстве среднего совокупностей выборок по регионам показала, что вероятность равенства составляет около 0.44%, что является выше стандартного уровня статистической значимости. Скорее всего это обусловлено высоким влиянием платежей по тарифам на формирование пиковых значений распределения."
   ]
  },
  {
   "cell_type": "markdown",
   "metadata": {},
   "source": [
    "<div style=\"border-radius: 3px; border: 2px solid black; padding: 0px;\">      \n",
    "<div class=\"alert alert-warning\">\n",
    "<s>Комментарий ревьюера⚠️:</b> \n",
    "    \n",
    "Рекомендации советую поместить в начало вывода, чтобы заказчик сразу видел ответ на главный вопрос исследования (рекомендация из рабочей практики: некоторые любят, не вдаваясь в подробности, сразу смотреть на результат)\n",
    "    \n",
    "</div>\n",
    "</div>"
   ]
  },
  {
   "cell_type": "markdown",
   "metadata": {},
   "source": [
    "<div class=\"alert alert-block alert-info\">\n",
    "<b>Комментарий студента 🎓: </b>\n",
    "    Спасибо, перенёс наверх. Обидно, конечно, что исследование не всегда будут читать целиком, но что поделать. 🙈"
   ]
  },
  {
   "cell_type": "markdown",
   "metadata": {},
   "source": [
    "<div style=\"border-radius: 3px; border: 2px solid black; padding: 0px;\">     \n",
    "<div class=\"alert alert-success\">\n",
    "<b>Комментарий ревьюера V.2 ✔️:</b> \n",
    "    \n",
    "Это касается заказчиков, а вот тимлид и некоторые коллеги точно будут читать полностью (ревьюеры по сути выполняют роль тимлидов в практикуме), поэтому работу важно отрабатывать по полной, объясняя все свои решения 😏    \n",
    "\n",
    "</div>\n",
    "</div>"
   ]
  },
  {
   "cell_type": "markdown",
   "metadata": {},
   "source": [
    "<div style=\"border-radius: 15px; border: 3px solid black; padding: 15px;\">\n",
    "    \n",
    "   \n",
    "<b> Комментарий ревьюера для отличников 👑:</b> \n",
    "    \n",
    "Очень сильная работа! Видно, что вложено много труда, осознанность присутствует в каждой фразе и в каждом действии! Очень редко встречаются подобные проекты, которые хочется снова перечитать и ставить в пример остальным студентам! Надеюсь, что ты продолжишь использовать такой подход и после перенесёшь в работу, где, я уверен, у тебя всё получится! ⭐⭐⭐⭐⭐ \n",
    "    \n",
    "**P.s.** Такой комментарий я пишу крайне редко, если работа действительно произвела на меня впечатление         \n",
    "    \n",
    "</div> "
   ]
  },
  {
   "cell_type": "markdown",
   "metadata": {},
   "source": [
    "<a id='result-1'></a>"
   ]
  },
  {
   "cell_type": "markdown",
   "metadata": {},
   "source": [
    "<div style=\"border-radius: 15px; border: 3px solid black; padding: 15px;\">\n",
    "<b>Итоговый Комментарий ревьюера</b>\n",
    "    \n",
    "В проекте мне очень понравились следующие моменты:\n",
    "\n",
    "<div style=\"border-radius: 3px; border: 2px solid black; padding: 0px;\">     \n",
    "<div class=\"alert alert-success\">\n",
    "    \n",
    "✔️ Видно, что работа выполнена со знанием дела и имеет чёткую структуру;\n",
    "    \n",
    "✔️ Отлично выполнен раздел анализа данных: визуализация и выводы на высшем уровне;\n",
    "    \n",
    "✔️ Отличная работа с функциями и сводными таблицами;    \n",
    "    \n",
    "✔️ Выводы имеют чёткость, объёмность и содержательность;\n",
    "    \n",
    "    \n",
    "</div>    \n",
    "</div> \n",
    "    \n",
    "Моменты, которые нужно исправить:  \n",
    "<div style=\"border-radius: 3px; border: 2px solid black; padding: 0px;\">    \n",
    "<div class=\"alert alert-danger\">\n",
    "    \n",
    "❌ Больше 3-х жёлтых комментариев;\n",
    "    \n",
    "❌ После исправлений необходимо обновить некоторые выводы;\n",
    " \n",
    "    \n",
    "</div>    \n",
    "</div> \n",
    "<hr>   \n",
    "Верю, что ты со всем справишься! Если появятся вопросы, буду рад на них ответить. С нетерпением жду проект на повторную проверку!\n",
    "</div> "
   ]
  },
  {
   "cell_type": "markdown",
   "metadata": {},
   "source": [
    "<a id='benefit'></a>"
   ]
  },
  {
   "cell_type": "markdown",
   "metadata": {},
   "source": [
    "<div style=\"border-radius: 15px; border: 3px solid black; padding: 15px;\">\n",
    "<b>Итог. Комментарий ревьюера V.2: </b>\n",
    "       \n",
    "Проект принят, поздравляю, было очень приятно с тобой поработать! Надеюсь, что смог помочь тебе сделать ещё один шаг на пути обучения, в котором желаю тебе удачи и больших успехов! **P.s.** Для меня важно получать обратную связь, чтобы постоянно развиваться и улучшать свой подход в работе, поэтому буду рад, если ты напишешь пару слов с пожеланиями/предложениями/замечаниями в отзыве о ревью (сделать это можно внизу страницы проекта в тренажёре)\n",
    "    \n",
    "</div> "
   ]
  },
  {
   "cell_type": "markdown",
   "metadata": {},
   "source": [
    "<div style=\"border-radius: 3px; border: 2px solid black; padding: 0px;\">     \n",
    "<div class=\"alert alert-success\">\n",
    "<b>Комментарий ревьюера V.2 ✔️:</b> \n",
    "   \n",
    "И небольшой подарок от меня в виде полезных ссылок, которые могут пригодиться в будущих исследованиях 😉 (от начального до продвинутого уровня (есть и на английском)):\n",
    "    \n",
    "* https://extremepresentation.typepad.com/.a/6a00d8341bfd2e53ef0111683a7591970c-pi - Схема для выбора визуализации в зависимости от задач;\n",
    "* https://habr.com/ru/post/521894/ - Формат таблиц в pandas с помощью style. В том числе цветовое выделение;\n",
    "* https://habr.com/ru/post/468295 - 50 оттенков matplotlib. С кодом и примерами;\n",
    "* https://www.litres.ru/aleksandr-bogachev/grafiki-kotorye-ubezhdaut-vseh/ - Книга о том, как строить графики, от подготовки данных до конкретных подписей;\n",
    "* https://datavizproject.com/ - Сайт, подробно представлюящий практически все типы визуализаций;\n",
    "* https://pandas.pydata.org/pandas-docs/stable/user_guide/style.html - Более сложные примеры по использованию style;\n",
    "* https://habr.com/ru/post/502958 - Шпаргалка по plotly. Набор опций с подробным описанием и примерами. С чего начать погружение в мир интерактивности и чем продолжить.\n",
    "    \n",
    "\n",
    "</div>\n",
    "</div>"
   ]
  },
  {
   "cell_type": "code",
   "execution_count": null,
   "metadata": {},
   "outputs": [],
   "source": []
  }
 ],
 "metadata": {
  "ExecuteTimeLog": [
   {
    "duration": 1451,
    "start_time": "2022-05-22T22:06:36.999Z"
   },
   {
    "duration": 220,
    "start_time": "2022-05-22T22:09:20.048Z"
   },
   {
    "duration": 448,
    "start_time": "2022-05-22T22:10:07.691Z"
   },
   {
    "duration": 280,
    "start_time": "2022-05-22T22:10:17.349Z"
   },
   {
    "duration": 266,
    "start_time": "2022-05-22T22:10:27.627Z"
   },
   {
    "duration": 450,
    "start_time": "2022-05-22T22:11:32.692Z"
   },
   {
    "duration": 391,
    "start_time": "2022-05-22T22:12:20.516Z"
   },
   {
    "duration": 360,
    "start_time": "2022-05-22T22:27:52.895Z"
   },
   {
    "duration": 2,
    "start_time": "2022-05-22T22:29:16.501Z"
   },
   {
    "duration": 3,
    "start_time": "2022-05-22T22:30:10.287Z"
   },
   {
    "duration": 2,
    "start_time": "2022-05-22T22:30:30.445Z"
   },
   {
    "duration": 2,
    "start_time": "2022-05-22T22:30:47.069Z"
   },
   {
    "duration": 31,
    "start_time": "2022-05-22T22:32:06.278Z"
   },
   {
    "duration": 18,
    "start_time": "2022-05-22T22:32:58.840Z"
   },
   {
    "duration": 20,
    "start_time": "2022-05-22T22:33:23.837Z"
   },
   {
    "duration": 13,
    "start_time": "2022-05-22T22:33:38.582Z"
   },
   {
    "duration": 29,
    "start_time": "2022-05-22T22:34:14.941Z"
   },
   {
    "duration": 18,
    "start_time": "2022-05-22T22:35:05.319Z"
   },
   {
    "duration": 16,
    "start_time": "2022-05-22T22:35:11.905Z"
   },
   {
    "duration": 17,
    "start_time": "2022-05-22T22:35:30.185Z"
   },
   {
    "duration": 182,
    "start_time": "2022-05-22T22:36:05.830Z"
   },
   {
    "duration": 15,
    "start_time": "2022-05-22T22:36:21.712Z"
   },
   {
    "duration": 28,
    "start_time": "2022-05-22T22:36:51.973Z"
   },
   {
    "duration": 1518,
    "start_time": "2022-05-22T22:37:08.313Z"
   },
   {
    "duration": 22,
    "start_time": "2022-05-22T22:37:09.834Z"
   },
   {
    "duration": 31,
    "start_time": "2022-05-22T22:37:09.858Z"
   },
   {
    "duration": 40,
    "start_time": "2022-05-22T22:37:09.891Z"
   },
   {
    "duration": 43,
    "start_time": "2022-05-22T22:37:09.933Z"
   },
   {
    "duration": 15,
    "start_time": "2022-05-22T22:37:09.978Z"
   },
   {
    "duration": 30,
    "start_time": "2022-05-22T22:37:27.223Z"
   },
   {
    "duration": 24,
    "start_time": "2022-05-22T22:38:19.112Z"
   },
   {
    "duration": 52,
    "start_time": "2022-05-23T17:06:20.799Z"
   },
   {
    "duration": 3353,
    "start_time": "2022-05-23T17:06:37.345Z"
   },
   {
    "duration": 25,
    "start_time": "2022-05-23T17:06:40.701Z"
   },
   {
    "duration": 39,
    "start_time": "2022-05-23T17:06:40.727Z"
   },
   {
    "duration": 32,
    "start_time": "2022-05-23T17:06:40.767Z"
   },
   {
    "duration": 69,
    "start_time": "2022-05-23T17:06:40.801Z"
   },
   {
    "duration": 25,
    "start_time": "2022-05-23T17:06:40.871Z"
   },
   {
    "duration": 4,
    "start_time": "2022-05-23T17:50:12.342Z"
   },
   {
    "duration": 3,
    "start_time": "2022-05-23T18:01:37.158Z"
   },
   {
    "duration": 11,
    "start_time": "2022-05-23T18:06:55.124Z"
   },
   {
    "duration": 13,
    "start_time": "2022-05-23T18:09:22.369Z"
   },
   {
    "duration": 21,
    "start_time": "2022-05-23T18:09:34.951Z"
   },
   {
    "duration": 9,
    "start_time": "2022-05-23T18:10:20.605Z"
   },
   {
    "duration": 15,
    "start_time": "2022-05-23T18:11:18.288Z"
   },
   {
    "duration": 12,
    "start_time": "2022-05-23T18:11:59.410Z"
   },
   {
    "duration": 12,
    "start_time": "2022-05-23T18:13:59.169Z"
   },
   {
    "duration": 12,
    "start_time": "2022-05-23T18:16:05.210Z"
   },
   {
    "duration": 10,
    "start_time": "2022-05-23T18:17:34.501Z"
   },
   {
    "duration": 4,
    "start_time": "2022-05-23T18:43:53.881Z"
   },
   {
    "duration": 4,
    "start_time": "2022-05-23T18:43:58.799Z"
   },
   {
    "duration": 114,
    "start_time": "2022-05-23T19:07:34.085Z"
   },
   {
    "duration": 12,
    "start_time": "2022-05-23T19:07:47.774Z"
   },
   {
    "duration": 4,
    "start_time": "2022-05-23T19:09:25.512Z"
   },
   {
    "duration": 14,
    "start_time": "2022-05-23T19:09:32.720Z"
   },
   {
    "duration": 433,
    "start_time": "2022-05-23T19:12:06.000Z"
   },
   {
    "duration": 19,
    "start_time": "2022-05-23T19:12:06.434Z"
   },
   {
    "duration": 42,
    "start_time": "2022-05-23T19:12:06.455Z"
   },
   {
    "duration": 25,
    "start_time": "2022-05-23T19:12:06.499Z"
   },
   {
    "duration": 55,
    "start_time": "2022-05-23T19:12:06.526Z"
   },
   {
    "duration": 19,
    "start_time": "2022-05-23T19:12:06.583Z"
   },
   {
    "duration": 21,
    "start_time": "2022-05-23T19:12:06.604Z"
   },
   {
    "duration": 14,
    "start_time": "2022-05-23T19:13:27.456Z"
   },
   {
    "duration": 461,
    "start_time": "2022-05-23T19:30:57.808Z"
   },
   {
    "duration": 2,
    "start_time": "2022-05-23T19:31:06.351Z"
   },
   {
    "duration": 14,
    "start_time": "2022-05-23T19:31:11.753Z"
   },
   {
    "duration": 435,
    "start_time": "2022-05-23T19:31:24.315Z"
   },
   {
    "duration": 545,
    "start_time": "2022-05-23T19:32:03.364Z"
   },
   {
    "duration": 457,
    "start_time": "2022-05-23T19:33:20.969Z"
   },
   {
    "duration": 565,
    "start_time": "2022-05-23T19:33:36.186Z"
   },
   {
    "duration": 405,
    "start_time": "2022-05-23T19:33:45.572Z"
   },
   {
    "duration": 16,
    "start_time": "2022-05-23T19:33:45.979Z"
   },
   {
    "duration": 42,
    "start_time": "2022-05-23T19:33:45.996Z"
   },
   {
    "duration": 23,
    "start_time": "2022-05-23T19:33:46.039Z"
   },
   {
    "duration": 38,
    "start_time": "2022-05-23T19:33:46.063Z"
   },
   {
    "duration": 13,
    "start_time": "2022-05-23T19:33:46.102Z"
   },
   {
    "duration": 26,
    "start_time": "2022-05-23T19:33:46.116Z"
   },
   {
    "duration": 6,
    "start_time": "2022-05-23T19:33:48.218Z"
   },
   {
    "duration": 4,
    "start_time": "2022-05-23T19:34:09.025Z"
   },
   {
    "duration": 15,
    "start_time": "2022-05-23T19:34:11.957Z"
   },
   {
    "duration": 5492,
    "start_time": "2022-05-23T19:35:09.966Z"
   },
   {
    "duration": 383,
    "start_time": "2022-05-23T19:35:17.670Z"
   },
   {
    "duration": 16,
    "start_time": "2022-05-23T19:35:18.055Z"
   },
   {
    "duration": 34,
    "start_time": "2022-05-23T19:35:18.073Z"
   },
   {
    "duration": 21,
    "start_time": "2022-05-23T19:35:18.108Z"
   },
   {
    "duration": 61,
    "start_time": "2022-05-23T19:35:18.130Z"
   },
   {
    "duration": 22,
    "start_time": "2022-05-23T19:35:18.193Z"
   },
   {
    "duration": 16,
    "start_time": "2022-05-23T19:35:18.216Z"
   },
   {
    "duration": 5881,
    "start_time": "2022-05-23T19:35:19.601Z"
   },
   {
    "duration": 0,
    "start_time": "2022-05-23T19:35:25.483Z"
   },
   {
    "duration": 1188,
    "start_time": "2022-05-23T19:36:05.349Z"
   },
   {
    "duration": 367,
    "start_time": "2022-05-23T19:36:10.690Z"
   },
   {
    "duration": 16,
    "start_time": "2022-05-23T19:36:11.059Z"
   },
   {
    "duration": 33,
    "start_time": "2022-05-23T19:36:11.077Z"
   },
   {
    "duration": 22,
    "start_time": "2022-05-23T19:36:11.112Z"
   },
   {
    "duration": 26,
    "start_time": "2022-05-23T19:36:11.159Z"
   },
   {
    "duration": 13,
    "start_time": "2022-05-23T19:36:11.186Z"
   },
   {
    "duration": 11,
    "start_time": "2022-05-23T19:36:11.200Z"
   },
   {
    "duration": 1386,
    "start_time": "2022-05-23T19:36:13.591Z"
   },
   {
    "duration": 11,
    "start_time": "2022-05-23T19:37:10.585Z"
   },
   {
    "duration": 9,
    "start_time": "2022-05-23T19:37:23.993Z"
   },
   {
    "duration": 24,
    "start_time": "2022-05-23T19:37:50.980Z"
   },
   {
    "duration": 13,
    "start_time": "2022-05-23T19:38:11.321Z"
   },
   {
    "duration": 14,
    "start_time": "2022-05-23T19:38:18.394Z"
   },
   {
    "duration": 378,
    "start_time": "2022-05-23T19:38:35.202Z"
   },
   {
    "duration": 15,
    "start_time": "2022-05-23T19:38:35.582Z"
   },
   {
    "duration": 37,
    "start_time": "2022-05-23T19:38:35.599Z"
   },
   {
    "duration": 30,
    "start_time": "2022-05-23T19:38:35.638Z"
   },
   {
    "duration": 33,
    "start_time": "2022-05-23T19:38:35.669Z"
   },
   {
    "duration": 16,
    "start_time": "2022-05-23T19:38:35.704Z"
   },
   {
    "duration": 26,
    "start_time": "2022-05-23T19:38:35.721Z"
   },
   {
    "duration": 11,
    "start_time": "2022-05-23T19:38:47.373Z"
   },
   {
    "duration": 11,
    "start_time": "2022-05-23T19:39:32.472Z"
   },
   {
    "duration": 4,
    "start_time": "2022-05-23T19:39:42.166Z"
   },
   {
    "duration": 13,
    "start_time": "2022-05-23T19:39:45.766Z"
   },
   {
    "duration": 6,
    "start_time": "2022-05-23T19:40:09.192Z"
   },
   {
    "duration": 16,
    "start_time": "2022-05-23T19:40:10.502Z"
   },
   {
    "duration": 7,
    "start_time": "2022-05-23T19:40:46.501Z"
   },
   {
    "duration": 14,
    "start_time": "2022-05-23T19:40:47.574Z"
   },
   {
    "duration": 323,
    "start_time": "2022-05-23T19:44:09.663Z"
   },
   {
    "duration": 370,
    "start_time": "2022-05-23T19:44:58.781Z"
   },
   {
    "duration": 363,
    "start_time": "2022-05-23T19:45:12.834Z"
   },
   {
    "duration": 17,
    "start_time": "2022-05-23T19:45:13.198Z"
   },
   {
    "duration": 33,
    "start_time": "2022-05-23T19:45:13.217Z"
   },
   {
    "duration": 22,
    "start_time": "2022-05-23T19:45:13.252Z"
   },
   {
    "duration": 30,
    "start_time": "2022-05-23T19:45:13.275Z"
   },
   {
    "duration": 13,
    "start_time": "2022-05-23T19:45:13.306Z"
   },
   {
    "duration": 18,
    "start_time": "2022-05-23T19:45:13.321Z"
   },
   {
    "duration": 7,
    "start_time": "2022-05-23T19:45:15.199Z"
   },
   {
    "duration": 16,
    "start_time": "2022-05-23T19:45:17.362Z"
   },
   {
    "duration": 7,
    "start_time": "2022-05-23T19:46:10.313Z"
   },
   {
    "duration": 19,
    "start_time": "2022-05-23T19:46:11.697Z"
   },
   {
    "duration": 13,
    "start_time": "2022-05-23T19:46:29.193Z"
   },
   {
    "duration": 456,
    "start_time": "2022-05-23T19:46:56.232Z"
   },
   {
    "duration": 11,
    "start_time": "2022-05-23T19:47:14.692Z"
   },
   {
    "duration": 375,
    "start_time": "2022-05-23T19:47:57.214Z"
   },
   {
    "duration": 17,
    "start_time": "2022-05-23T19:47:57.591Z"
   },
   {
    "duration": 31,
    "start_time": "2022-05-23T19:47:57.609Z"
   },
   {
    "duration": 25,
    "start_time": "2022-05-23T19:47:57.642Z"
   },
   {
    "duration": 24,
    "start_time": "2022-05-23T19:47:57.668Z"
   },
   {
    "duration": 12,
    "start_time": "2022-05-23T19:47:57.694Z"
   },
   {
    "duration": 11,
    "start_time": "2022-05-23T19:47:57.707Z"
   },
   {
    "duration": 6,
    "start_time": "2022-05-23T19:47:59.454Z"
   },
   {
    "duration": 17,
    "start_time": "2022-05-23T19:48:01.607Z"
   },
   {
    "duration": 10,
    "start_time": "2022-05-23T19:48:18.673Z"
   },
   {
    "duration": 16,
    "start_time": "2022-05-23T19:48:20.425Z"
   },
   {
    "duration": 6,
    "start_time": "2022-05-23T19:48:33.293Z"
   },
   {
    "duration": 12,
    "start_time": "2022-05-23T19:48:35.064Z"
   },
   {
    "duration": 10,
    "start_time": "2022-05-23T19:48:44.292Z"
   },
   {
    "duration": 15,
    "start_time": "2022-05-23T19:53:42.160Z"
   },
   {
    "duration": 15,
    "start_time": "2022-05-23T19:53:50.421Z"
   },
   {
    "duration": 14,
    "start_time": "2022-05-23T19:54:02.233Z"
   },
   {
    "duration": 2549,
    "start_time": "2022-05-23T21:43:34.043Z"
   },
   {
    "duration": 21,
    "start_time": "2022-05-23T21:43:36.595Z"
   },
   {
    "duration": 29,
    "start_time": "2022-05-23T21:43:36.617Z"
   },
   {
    "duration": 22,
    "start_time": "2022-05-23T21:43:36.648Z"
   },
   {
    "duration": 26,
    "start_time": "2022-05-23T21:43:36.672Z"
   },
   {
    "duration": 34,
    "start_time": "2022-05-23T21:43:36.700Z"
   },
   {
    "duration": 11,
    "start_time": "2022-05-23T21:43:36.735Z"
   },
   {
    "duration": 124,
    "start_time": "2022-05-23T21:43:36.747Z"
   },
   {
    "duration": 0,
    "start_time": "2022-05-23T21:43:36.873Z"
   },
   {
    "duration": 0,
    "start_time": "2022-05-23T21:43:36.874Z"
   },
   {
    "duration": 0,
    "start_time": "2022-05-23T21:43:36.875Z"
   },
   {
    "duration": 18,
    "start_time": "2022-05-23T21:43:45.099Z"
   },
   {
    "duration": 14,
    "start_time": "2022-05-23T21:44:13.851Z"
   },
   {
    "duration": 11,
    "start_time": "2022-05-23T21:44:33.064Z"
   },
   {
    "duration": 23,
    "start_time": "2022-05-23T21:45:05.536Z"
   },
   {
    "duration": 11,
    "start_time": "2022-05-23T21:45:21.543Z"
   },
   {
    "duration": 19,
    "start_time": "2022-05-23T21:45:31.917Z"
   },
   {
    "duration": 16,
    "start_time": "2022-05-23T21:45:41.075Z"
   },
   {
    "duration": 11,
    "start_time": "2022-05-23T21:45:49.412Z"
   },
   {
    "duration": 24,
    "start_time": "2022-05-23T21:45:58.620Z"
   },
   {
    "duration": 25,
    "start_time": "2022-05-23T21:46:20.567Z"
   },
   {
    "duration": 21,
    "start_time": "2022-05-23T21:48:27.891Z"
   },
   {
    "duration": 15,
    "start_time": "2022-05-23T21:49:34.127Z"
   },
   {
    "duration": 16,
    "start_time": "2022-05-23T21:49:41.227Z"
   },
   {
    "duration": 15,
    "start_time": "2022-05-23T21:49:46.190Z"
   },
   {
    "duration": 15,
    "start_time": "2022-05-23T21:49:53.069Z"
   },
   {
    "duration": 18,
    "start_time": "2022-05-23T21:51:23.154Z"
   },
   {
    "duration": 16,
    "start_time": "2022-05-23T21:52:07.717Z"
   },
   {
    "duration": 14,
    "start_time": "2022-05-23T21:52:17.811Z"
   },
   {
    "duration": 9,
    "start_time": "2022-05-23T21:52:35.032Z"
   },
   {
    "duration": 10,
    "start_time": "2022-05-23T21:52:46.941Z"
   },
   {
    "duration": 9,
    "start_time": "2022-05-23T21:52:49.876Z"
   },
   {
    "duration": 10,
    "start_time": "2022-05-23T21:52:53.583Z"
   },
   {
    "duration": 15,
    "start_time": "2022-05-23T21:53:01.594Z"
   },
   {
    "duration": 20,
    "start_time": "2022-05-23T21:53:14.835Z"
   },
   {
    "duration": 13,
    "start_time": "2022-05-23T21:53:20.060Z"
   },
   {
    "duration": 17,
    "start_time": "2022-05-23T21:53:27.798Z"
   },
   {
    "duration": 8,
    "start_time": "2022-05-23T21:55:08.925Z"
   },
   {
    "duration": 15,
    "start_time": "2022-05-23T21:55:12.303Z"
   },
   {
    "duration": 8,
    "start_time": "2022-05-23T21:55:34.146Z"
   },
   {
    "duration": 10,
    "start_time": "2022-05-23T21:55:35.136Z"
   },
   {
    "duration": 13,
    "start_time": "2022-05-23T21:55:56.978Z"
   },
   {
    "duration": 16,
    "start_time": "2022-05-23T21:56:03.283Z"
   },
   {
    "duration": 7,
    "start_time": "2022-05-23T21:56:11.947Z"
   },
   {
    "duration": 11,
    "start_time": "2022-05-23T21:56:15.746Z"
   },
   {
    "duration": 22,
    "start_time": "2022-05-23T21:57:14.899Z"
   },
   {
    "duration": 20,
    "start_time": "2022-05-23T21:57:37.946Z"
   },
   {
    "duration": 18,
    "start_time": "2022-05-23T21:57:47.867Z"
   },
   {
    "duration": 27,
    "start_time": "2022-05-23T21:57:57.343Z"
   },
   {
    "duration": 404,
    "start_time": "2022-05-23T21:58:06.930Z"
   },
   {
    "duration": 17,
    "start_time": "2022-05-23T21:58:07.336Z"
   },
   {
    "duration": 45,
    "start_time": "2022-05-23T21:58:07.355Z"
   },
   {
    "duration": 25,
    "start_time": "2022-05-23T21:58:07.402Z"
   },
   {
    "duration": 31,
    "start_time": "2022-05-23T21:58:07.429Z"
   },
   {
    "duration": 14,
    "start_time": "2022-05-23T21:58:07.462Z"
   },
   {
    "duration": 12,
    "start_time": "2022-05-23T21:58:07.478Z"
   },
   {
    "duration": 23,
    "start_time": "2022-05-23T21:58:08.991Z"
   },
   {
    "duration": 9,
    "start_time": "2022-05-23T21:58:25.048Z"
   },
   {
    "duration": 14,
    "start_time": "2022-05-23T21:58:26.482Z"
   },
   {
    "duration": 20,
    "start_time": "2022-05-23T21:58:31.808Z"
   },
   {
    "duration": 8,
    "start_time": "2022-05-23T21:58:48.214Z"
   },
   {
    "duration": 10,
    "start_time": "2022-05-23T21:58:49.554Z"
   },
   {
    "duration": 19,
    "start_time": "2022-05-23T22:00:17.069Z"
   },
   {
    "duration": 327,
    "start_time": "2022-05-23T22:01:29.664Z"
   },
   {
    "duration": 19,
    "start_time": "2022-05-23T22:01:41.618Z"
   },
   {
    "duration": 79,
    "start_time": "2022-05-23T22:01:52.875Z"
   },
   {
    "duration": 19,
    "start_time": "2022-05-23T22:01:53.985Z"
   },
   {
    "duration": 8,
    "start_time": "2022-05-23T22:01:58.388Z"
   },
   {
    "duration": 17,
    "start_time": "2022-05-23T22:01:58.797Z"
   },
   {
    "duration": 8,
    "start_time": "2022-05-23T22:02:11.573Z"
   },
   {
    "duration": 18,
    "start_time": "2022-05-23T22:02:12.815Z"
   },
   {
    "duration": 21,
    "start_time": "2022-05-23T22:11:48.553Z"
   },
   {
    "duration": 404,
    "start_time": "2022-05-23T22:11:58.923Z"
   },
   {
    "duration": 17,
    "start_time": "2022-05-23T22:11:59.329Z"
   },
   {
    "duration": 41,
    "start_time": "2022-05-23T22:11:59.347Z"
   },
   {
    "duration": 42,
    "start_time": "2022-05-23T22:11:59.390Z"
   },
   {
    "duration": 28,
    "start_time": "2022-05-23T22:11:59.434Z"
   },
   {
    "duration": 14,
    "start_time": "2022-05-23T22:11:59.464Z"
   },
   {
    "duration": 12,
    "start_time": "2022-05-23T22:11:59.480Z"
   },
   {
    "duration": 47,
    "start_time": "2022-05-23T22:11:59.494Z"
   },
   {
    "duration": 27,
    "start_time": "2022-05-23T22:12:01.017Z"
   },
   {
    "duration": 29,
    "start_time": "2022-05-23T22:12:24.964Z"
   },
   {
    "duration": 22,
    "start_time": "2022-05-23T22:12:33.805Z"
   },
   {
    "duration": 17,
    "start_time": "2022-05-23T22:12:56.712Z"
   },
   {
    "duration": 9,
    "start_time": "2022-05-23T22:13:28.684Z"
   },
   {
    "duration": 24,
    "start_time": "2022-05-23T22:13:30.073Z"
   },
   {
    "duration": 106,
    "start_time": "2022-05-23T22:13:50.017Z"
   },
   {
    "duration": 120,
    "start_time": "2022-05-23T22:14:02.595Z"
   },
   {
    "duration": 12,
    "start_time": "2022-05-23T22:14:20.239Z"
   },
   {
    "duration": 11,
    "start_time": "2022-05-23T22:14:35.996Z"
   },
   {
    "duration": 14,
    "start_time": "2022-05-23T22:14:48.797Z"
   },
   {
    "duration": 12,
    "start_time": "2022-05-23T22:15:06.564Z"
   },
   {
    "duration": 11,
    "start_time": "2022-05-23T22:15:17.880Z"
   },
   {
    "duration": 10,
    "start_time": "2022-05-23T22:17:28.153Z"
   },
   {
    "duration": 11,
    "start_time": "2022-05-23T22:17:29.863Z"
   },
   {
    "duration": 9,
    "start_time": "2022-05-23T22:18:11.546Z"
   },
   {
    "duration": 387,
    "start_time": "2022-05-23T22:21:36.435Z"
   },
   {
    "duration": 13,
    "start_time": "2022-05-23T22:21:37.190Z"
   },
   {
    "duration": 400,
    "start_time": "2022-05-23T22:22:03.893Z"
   },
   {
    "duration": 17,
    "start_time": "2022-05-23T22:22:04.295Z"
   },
   {
    "duration": 65,
    "start_time": "2022-05-23T22:22:04.313Z"
   },
   {
    "duration": 27,
    "start_time": "2022-05-23T22:22:04.380Z"
   },
   {
    "duration": 30,
    "start_time": "2022-05-23T22:22:04.409Z"
   },
   {
    "duration": 16,
    "start_time": "2022-05-23T22:22:04.440Z"
   },
   {
    "duration": 12,
    "start_time": "2022-05-23T22:22:04.458Z"
   },
   {
    "duration": 11,
    "start_time": "2022-05-23T22:22:05.975Z"
   },
   {
    "duration": 10,
    "start_time": "2022-05-23T22:22:08.445Z"
   },
   {
    "duration": 456,
    "start_time": "2022-05-23T22:24:37.651Z"
   },
   {
    "duration": 396,
    "start_time": "2022-05-23T22:24:45.791Z"
   },
   {
    "duration": 22,
    "start_time": "2022-05-23T22:24:46.190Z"
   },
   {
    "duration": 52,
    "start_time": "2022-05-23T22:24:46.214Z"
   },
   {
    "duration": 32,
    "start_time": "2022-05-23T22:24:46.269Z"
   },
   {
    "duration": 49,
    "start_time": "2022-05-23T22:24:46.303Z"
   },
   {
    "duration": 17,
    "start_time": "2022-05-23T22:24:46.354Z"
   },
   {
    "duration": 26,
    "start_time": "2022-05-23T22:24:46.374Z"
   },
   {
    "duration": 58,
    "start_time": "2022-05-23T22:24:46.402Z"
   },
   {
    "duration": 425,
    "start_time": "2022-05-23T22:29:30.755Z"
   },
   {
    "duration": 372,
    "start_time": "2022-05-23T22:29:39.466Z"
   },
   {
    "duration": 18,
    "start_time": "2022-05-23T22:29:39.840Z"
   },
   {
    "duration": 30,
    "start_time": "2022-05-23T22:29:39.860Z"
   },
   {
    "duration": 36,
    "start_time": "2022-05-23T22:29:39.892Z"
   },
   {
    "duration": 26,
    "start_time": "2022-05-23T22:29:39.929Z"
   },
   {
    "duration": 14,
    "start_time": "2022-05-23T22:29:39.956Z"
   },
   {
    "duration": 11,
    "start_time": "2022-05-23T22:29:39.971Z"
   },
   {
    "duration": 53,
    "start_time": "2022-05-23T22:29:39.984Z"
   },
   {
    "duration": 13,
    "start_time": "2022-05-23T22:30:37.862Z"
   },
   {
    "duration": 7,
    "start_time": "2022-05-23T22:31:11.802Z"
   },
   {
    "duration": 459,
    "start_time": "2022-05-23T22:32:21.813Z"
   },
   {
    "duration": 376,
    "start_time": "2022-05-23T22:32:26.378Z"
   },
   {
    "duration": 16,
    "start_time": "2022-05-23T22:32:26.756Z"
   },
   {
    "duration": 45,
    "start_time": "2022-05-23T22:32:26.773Z"
   },
   {
    "duration": 24,
    "start_time": "2022-05-23T22:32:26.820Z"
   },
   {
    "duration": 29,
    "start_time": "2022-05-23T22:32:26.846Z"
   },
   {
    "duration": 15,
    "start_time": "2022-05-23T22:32:26.877Z"
   },
   {
    "duration": 36,
    "start_time": "2022-05-23T22:32:26.893Z"
   },
   {
    "duration": 34,
    "start_time": "2022-05-23T22:32:26.931Z"
   },
   {
    "duration": 368,
    "start_time": "2022-05-23T22:32:28.205Z"
   },
   {
    "duration": 9,
    "start_time": "2022-05-23T22:32:29.214Z"
   },
   {
    "duration": 358,
    "start_time": "2022-05-23T22:32:41.231Z"
   },
   {
    "duration": 17,
    "start_time": "2022-05-23T22:32:41.590Z"
   },
   {
    "duration": 31,
    "start_time": "2022-05-23T22:32:41.609Z"
   },
   {
    "duration": 22,
    "start_time": "2022-05-23T22:32:41.642Z"
   },
   {
    "duration": 25,
    "start_time": "2022-05-23T22:32:41.666Z"
   },
   {
    "duration": 35,
    "start_time": "2022-05-23T22:32:41.692Z"
   },
   {
    "duration": 11,
    "start_time": "2022-05-23T22:32:41.728Z"
   },
   {
    "duration": 37,
    "start_time": "2022-05-23T22:32:41.741Z"
   },
   {
    "duration": 7,
    "start_time": "2022-05-23T22:32:41.780Z"
   },
   {
    "duration": 346,
    "start_time": "2022-05-23T22:35:24.226Z"
   },
   {
    "duration": 395,
    "start_time": "2022-05-23T22:35:31.156Z"
   },
   {
    "duration": 17,
    "start_time": "2022-05-23T22:35:31.554Z"
   },
   {
    "duration": 42,
    "start_time": "2022-05-23T22:35:31.572Z"
   },
   {
    "duration": 25,
    "start_time": "2022-05-23T22:35:31.617Z"
   },
   {
    "duration": 45,
    "start_time": "2022-05-23T22:35:31.644Z"
   },
   {
    "duration": 14,
    "start_time": "2022-05-23T22:35:31.690Z"
   },
   {
    "duration": 23,
    "start_time": "2022-05-23T22:35:31.706Z"
   },
   {
    "duration": 37,
    "start_time": "2022-05-23T22:35:31.731Z"
   },
   {
    "duration": 407,
    "start_time": "2022-05-23T22:35:33.504Z"
   },
   {
    "duration": 373,
    "start_time": "2022-05-23T22:35:41.598Z"
   },
   {
    "duration": 16,
    "start_time": "2022-05-23T22:35:41.973Z"
   },
   {
    "duration": 37,
    "start_time": "2022-05-23T22:35:41.991Z"
   },
   {
    "duration": 23,
    "start_time": "2022-05-23T22:35:42.030Z"
   },
   {
    "duration": 26,
    "start_time": "2022-05-23T22:35:42.055Z"
   },
   {
    "duration": 13,
    "start_time": "2022-05-23T22:35:42.083Z"
   },
   {
    "duration": 38,
    "start_time": "2022-05-23T22:35:42.097Z"
   },
   {
    "duration": 16,
    "start_time": "2022-05-23T22:35:42.137Z"
   },
   {
    "duration": 348,
    "start_time": "2022-05-23T22:35:49.483Z"
   },
   {
    "duration": 375,
    "start_time": "2022-05-23T22:35:54.893Z"
   },
   {
    "duration": 19,
    "start_time": "2022-05-23T22:35:55.270Z"
   },
   {
    "duration": 32,
    "start_time": "2022-05-23T22:35:55.290Z"
   },
   {
    "duration": 23,
    "start_time": "2022-05-23T22:35:55.327Z"
   },
   {
    "duration": 27,
    "start_time": "2022-05-23T22:35:55.352Z"
   },
   {
    "duration": 14,
    "start_time": "2022-05-23T22:35:55.380Z"
   },
   {
    "duration": 38,
    "start_time": "2022-05-23T22:35:55.396Z"
   },
   {
    "duration": 19,
    "start_time": "2022-05-23T22:35:55.436Z"
   },
   {
    "duration": 479,
    "start_time": "2022-05-23T22:36:03.265Z"
   },
   {
    "duration": 382,
    "start_time": "2022-05-23T22:36:08.968Z"
   },
   {
    "duration": 17,
    "start_time": "2022-05-23T22:36:09.352Z"
   },
   {
    "duration": 35,
    "start_time": "2022-05-23T22:36:09.370Z"
   },
   {
    "duration": 33,
    "start_time": "2022-05-23T22:36:09.408Z"
   },
   {
    "duration": 27,
    "start_time": "2022-05-23T22:36:09.443Z"
   },
   {
    "duration": 14,
    "start_time": "2022-05-23T22:36:09.472Z"
   },
   {
    "duration": 13,
    "start_time": "2022-05-23T22:36:09.488Z"
   },
   {
    "duration": 30,
    "start_time": "2022-05-23T22:36:09.527Z"
   },
   {
    "duration": 9,
    "start_time": "2022-05-23T22:41:15.967Z"
   },
   {
    "duration": 586,
    "start_time": "2022-05-23T22:49:01.134Z"
   },
   {
    "duration": 397,
    "start_time": "2022-05-23T22:49:08.443Z"
   },
   {
    "duration": 17,
    "start_time": "2022-05-23T22:49:08.842Z"
   },
   {
    "duration": 35,
    "start_time": "2022-05-23T22:49:08.860Z"
   },
   {
    "duration": 39,
    "start_time": "2022-05-23T22:49:08.896Z"
   },
   {
    "duration": 27,
    "start_time": "2022-05-23T22:49:08.942Z"
   },
   {
    "duration": 14,
    "start_time": "2022-05-23T22:49:08.971Z"
   },
   {
    "duration": 12,
    "start_time": "2022-05-23T22:49:08.986Z"
   },
   {
    "duration": 51,
    "start_time": "2022-05-23T22:49:09.000Z"
   },
   {
    "duration": 11,
    "start_time": "2022-05-23T22:50:57.607Z"
   },
   {
    "duration": 11,
    "start_time": "2022-05-23T22:51:05.495Z"
   },
   {
    "duration": 11,
    "start_time": "2022-05-23T22:51:19.661Z"
   },
   {
    "duration": 388,
    "start_time": "2022-05-23T22:51:37.556Z"
   },
   {
    "duration": 15,
    "start_time": "2022-05-23T22:51:37.946Z"
   },
   {
    "duration": 32,
    "start_time": "2022-05-23T22:51:37.963Z"
   },
   {
    "duration": 25,
    "start_time": "2022-05-23T22:51:37.996Z"
   },
   {
    "duration": 27,
    "start_time": "2022-05-23T22:51:38.038Z"
   },
   {
    "duration": 13,
    "start_time": "2022-05-23T22:51:38.067Z"
   },
   {
    "duration": 10,
    "start_time": "2022-05-23T22:51:45.542Z"
   },
   {
    "duration": 29,
    "start_time": "2022-05-23T22:52:13.700Z"
   },
   {
    "duration": 21,
    "start_time": "2022-05-23T22:52:44.167Z"
   },
   {
    "duration": 10,
    "start_time": "2022-05-23T22:53:09.286Z"
   },
   {
    "duration": 10,
    "start_time": "2022-05-23T22:53:40.654Z"
   },
   {
    "duration": 30,
    "start_time": "2022-05-23T22:54:19.740Z"
   },
   {
    "duration": 10,
    "start_time": "2022-05-23T22:56:32.427Z"
   },
   {
    "duration": 24,
    "start_time": "2022-05-23T22:56:36.778Z"
   },
   {
    "duration": 34,
    "start_time": "2022-05-23T22:57:02.119Z"
   },
   {
    "duration": 29,
    "start_time": "2022-05-23T22:57:17.406Z"
   },
   {
    "duration": 9,
    "start_time": "2022-05-23T22:58:30.337Z"
   },
   {
    "duration": 9,
    "start_time": "2022-05-23T22:58:44.975Z"
   },
   {
    "duration": 11,
    "start_time": "2022-05-23T22:58:53.817Z"
   },
   {
    "duration": 8,
    "start_time": "2022-05-23T23:00:36.672Z"
   },
   {
    "duration": 6,
    "start_time": "2022-05-23T23:00:45.320Z"
   },
   {
    "duration": 4,
    "start_time": "2022-05-23T23:01:28.123Z"
   },
   {
    "duration": 4,
    "start_time": "2022-05-23T23:01:33.911Z"
   },
   {
    "duration": 33,
    "start_time": "2022-05-23T23:02:40.246Z"
   },
   {
    "duration": 17,
    "start_time": "2022-05-23T23:06:49.234Z"
   },
   {
    "duration": 25,
    "start_time": "2022-05-23T23:06:59.129Z"
   },
   {
    "duration": 13,
    "start_time": "2022-05-23T23:08:23.094Z"
   },
   {
    "duration": 14,
    "start_time": "2022-05-23T23:08:31.585Z"
   },
   {
    "duration": 14,
    "start_time": "2022-05-23T23:08:35.098Z"
   },
   {
    "duration": 35,
    "start_time": "2022-05-23T23:08:41.201Z"
   },
   {
    "duration": 9,
    "start_time": "2022-05-23T23:08:49.013Z"
   },
   {
    "duration": 9,
    "start_time": "2022-05-23T23:11:59.859Z"
   },
   {
    "duration": 41,
    "start_time": "2022-05-23T23:18:31.958Z"
   },
   {
    "duration": 20,
    "start_time": "2022-05-23T23:18:48.720Z"
   },
   {
    "duration": 9,
    "start_time": "2022-05-23T23:19:06.761Z"
   },
   {
    "duration": 33,
    "start_time": "2022-05-23T23:23:25.585Z"
   },
   {
    "duration": 50,
    "start_time": "2022-05-23T23:24:00.498Z"
   },
   {
    "duration": 70,
    "start_time": "2022-05-23T23:24:26.306Z"
   },
   {
    "duration": 37,
    "start_time": "2022-05-23T23:24:47.281Z"
   },
   {
    "duration": 12,
    "start_time": "2022-05-23T23:30:22.084Z"
   },
   {
    "duration": 12,
    "start_time": "2022-05-23T23:30:46.055Z"
   },
   {
    "duration": 34,
    "start_time": "2022-05-23T23:31:13.030Z"
   },
   {
    "duration": 14,
    "start_time": "2022-05-23T23:31:17.091Z"
   },
   {
    "duration": 6,
    "start_time": "2022-05-23T23:31:32.484Z"
   },
   {
    "duration": 11,
    "start_time": "2022-05-23T23:31:36.055Z"
   },
   {
    "duration": 13,
    "start_time": "2022-05-23T23:33:03.234Z"
   },
   {
    "duration": 435,
    "start_time": "2022-05-23T23:33:12.019Z"
   },
   {
    "duration": 23,
    "start_time": "2022-05-23T23:33:12.457Z"
   },
   {
    "duration": 40,
    "start_time": "2022-05-23T23:33:12.482Z"
   },
   {
    "duration": 24,
    "start_time": "2022-05-23T23:33:12.527Z"
   },
   {
    "duration": 28,
    "start_time": "2022-05-23T23:33:12.553Z"
   },
   {
    "duration": 15,
    "start_time": "2022-05-23T23:33:12.583Z"
   },
   {
    "duration": 36,
    "start_time": "2022-05-23T23:33:12.600Z"
   },
   {
    "duration": 26,
    "start_time": "2022-05-23T23:33:12.637Z"
   },
   {
    "duration": 33,
    "start_time": "2022-05-23T23:33:12.665Z"
   },
   {
    "duration": 39,
    "start_time": "2022-05-23T23:33:12.700Z"
   },
   {
    "duration": 12,
    "start_time": "2022-05-23T23:33:27.888Z"
   },
   {
    "duration": 405,
    "start_time": "2022-05-23T23:33:32.591Z"
   },
   {
    "duration": 17,
    "start_time": "2022-05-23T23:33:32.998Z"
   },
   {
    "duration": 54,
    "start_time": "2022-05-23T23:33:33.017Z"
   },
   {
    "duration": 25,
    "start_time": "2022-05-23T23:33:33.073Z"
   },
   {
    "duration": 34,
    "start_time": "2022-05-23T23:33:33.099Z"
   },
   {
    "duration": 14,
    "start_time": "2022-05-23T23:33:33.134Z"
   },
   {
    "duration": 16,
    "start_time": "2022-05-23T23:33:33.150Z"
   },
   {
    "duration": 37,
    "start_time": "2022-05-23T23:33:33.167Z"
   },
   {
    "duration": 54,
    "start_time": "2022-05-23T23:33:33.205Z"
   },
   {
    "duration": 31,
    "start_time": "2022-05-23T23:33:33.262Z"
   },
   {
    "duration": 13,
    "start_time": "2022-05-23T23:33:34.960Z"
   },
   {
    "duration": 396,
    "start_time": "2022-05-23T23:33:41.906Z"
   },
   {
    "duration": 20,
    "start_time": "2022-05-23T23:33:42.304Z"
   },
   {
    "duration": 43,
    "start_time": "2022-05-23T23:33:42.326Z"
   },
   {
    "duration": 25,
    "start_time": "2022-05-23T23:33:42.371Z"
   },
   {
    "duration": 38,
    "start_time": "2022-05-23T23:33:42.397Z"
   },
   {
    "duration": 14,
    "start_time": "2022-05-23T23:33:42.437Z"
   },
   {
    "duration": 22,
    "start_time": "2022-05-23T23:33:42.452Z"
   },
   {
    "duration": 36,
    "start_time": "2022-05-23T23:33:42.475Z"
   },
   {
    "duration": 45,
    "start_time": "2022-05-23T23:33:42.513Z"
   },
   {
    "duration": 30,
    "start_time": "2022-05-23T23:33:42.560Z"
   },
   {
    "duration": 13,
    "start_time": "2022-05-23T23:33:46.123Z"
   },
   {
    "duration": 395,
    "start_time": "2022-05-23T23:33:49.555Z"
   },
   {
    "duration": 17,
    "start_time": "2022-05-23T23:33:49.952Z"
   },
   {
    "duration": 43,
    "start_time": "2022-05-23T23:33:49.971Z"
   },
   {
    "duration": 23,
    "start_time": "2022-05-23T23:33:50.016Z"
   },
   {
    "duration": 28,
    "start_time": "2022-05-23T23:33:50.041Z"
   },
   {
    "duration": 14,
    "start_time": "2022-05-23T23:33:50.071Z"
   },
   {
    "duration": 24,
    "start_time": "2022-05-23T23:33:50.086Z"
   },
   {
    "duration": 39,
    "start_time": "2022-05-23T23:33:50.111Z"
   },
   {
    "duration": 38,
    "start_time": "2022-05-23T23:33:50.152Z"
   },
   {
    "duration": 45,
    "start_time": "2022-05-23T23:33:50.191Z"
   },
   {
    "duration": 10,
    "start_time": "2022-05-23T23:33:53.971Z"
   },
   {
    "duration": 13,
    "start_time": "2022-05-23T23:34:28.838Z"
   },
   {
    "duration": 13,
    "start_time": "2022-05-23T23:35:11.211Z"
   },
   {
    "duration": 424,
    "start_time": "2022-05-23T23:35:16.781Z"
   },
   {
    "duration": 20,
    "start_time": "2022-05-23T23:35:17.207Z"
   },
   {
    "duration": 62,
    "start_time": "2022-05-23T23:35:17.228Z"
   },
   {
    "duration": 29,
    "start_time": "2022-05-23T23:35:17.291Z"
   },
   {
    "duration": 32,
    "start_time": "2022-05-23T23:35:17.322Z"
   },
   {
    "duration": 18,
    "start_time": "2022-05-23T23:35:17.356Z"
   },
   {
    "duration": 16,
    "start_time": "2022-05-23T23:35:17.376Z"
   },
   {
    "duration": 53,
    "start_time": "2022-05-23T23:35:17.393Z"
   },
   {
    "duration": 45,
    "start_time": "2022-05-23T23:35:17.447Z"
   },
   {
    "duration": 51,
    "start_time": "2022-05-23T23:35:17.494Z"
   },
   {
    "duration": 13,
    "start_time": "2022-05-23T23:35:33.745Z"
   },
   {
    "duration": 383,
    "start_time": "2022-05-23T23:35:41.528Z"
   },
   {
    "duration": 18,
    "start_time": "2022-05-23T23:35:41.913Z"
   },
   {
    "duration": 38,
    "start_time": "2022-05-23T23:35:41.932Z"
   },
   {
    "duration": 25,
    "start_time": "2022-05-23T23:35:41.972Z"
   },
   {
    "duration": 49,
    "start_time": "2022-05-23T23:35:41.999Z"
   },
   {
    "duration": 15,
    "start_time": "2022-05-23T23:35:42.050Z"
   },
   {
    "duration": 27,
    "start_time": "2022-05-23T23:35:42.067Z"
   },
   {
    "duration": 40,
    "start_time": "2022-05-23T23:35:42.096Z"
   },
   {
    "duration": 35,
    "start_time": "2022-05-23T23:35:42.137Z"
   },
   {
    "duration": 35,
    "start_time": "2022-05-23T23:35:42.174Z"
   },
   {
    "duration": 9,
    "start_time": "2022-05-23T23:35:45.973Z"
   },
   {
    "duration": 9,
    "start_time": "2022-05-23T23:35:54.504Z"
   },
   {
    "duration": 6,
    "start_time": "2022-05-23T23:36:46.738Z"
   },
   {
    "duration": 6,
    "start_time": "2022-05-23T23:37:03.157Z"
   },
   {
    "duration": 4,
    "start_time": "2022-05-23T23:37:38.156Z"
   },
   {
    "duration": 10,
    "start_time": "2022-05-23T23:37:40.164Z"
   },
   {
    "duration": 16,
    "start_time": "2022-05-23T23:39:44.779Z"
   },
   {
    "duration": 5,
    "start_time": "2022-05-23T23:40:06.776Z"
   },
   {
    "duration": 11,
    "start_time": "2022-05-23T23:40:08.321Z"
   },
   {
    "duration": 10,
    "start_time": "2022-05-23T23:40:21.768Z"
   },
   {
    "duration": 362,
    "start_time": "2022-05-23T23:43:52.359Z"
   },
   {
    "duration": 16,
    "start_time": "2022-05-23T23:43:52.723Z"
   },
   {
    "duration": 40,
    "start_time": "2022-05-23T23:43:52.741Z"
   },
   {
    "duration": 22,
    "start_time": "2022-05-23T23:43:52.783Z"
   },
   {
    "duration": 33,
    "start_time": "2022-05-23T23:43:52.807Z"
   },
   {
    "duration": 13,
    "start_time": "2022-05-23T23:43:52.842Z"
   },
   {
    "duration": 32,
    "start_time": "2022-05-23T23:43:52.856Z"
   },
   {
    "duration": 30,
    "start_time": "2022-05-23T23:43:52.890Z"
   },
   {
    "duration": 45,
    "start_time": "2022-05-23T23:43:52.921Z"
   },
   {
    "duration": 33,
    "start_time": "2022-05-23T23:43:52.968Z"
   },
   {
    "duration": 6,
    "start_time": "2022-05-23T23:43:53.003Z"
   },
   {
    "duration": 30,
    "start_time": "2022-05-23T23:43:53.010Z"
   },
   {
    "duration": 27,
    "start_time": "2022-05-24T00:31:39.802Z"
   },
   {
    "duration": 17,
    "start_time": "2022-05-24T00:47:15.779Z"
   },
   {
    "duration": 386,
    "start_time": "2022-05-24T00:47:22.105Z"
   },
   {
    "duration": 18,
    "start_time": "2022-05-24T00:47:22.493Z"
   },
   {
    "duration": 36,
    "start_time": "2022-05-24T00:47:22.513Z"
   },
   {
    "duration": 25,
    "start_time": "2022-05-24T00:47:22.551Z"
   },
   {
    "duration": 50,
    "start_time": "2022-05-24T00:47:22.578Z"
   },
   {
    "duration": 16,
    "start_time": "2022-05-24T00:47:22.630Z"
   },
   {
    "duration": 17,
    "start_time": "2022-05-24T00:47:22.648Z"
   },
   {
    "duration": 29,
    "start_time": "2022-05-24T00:47:22.667Z"
   },
   {
    "duration": 58,
    "start_time": "2022-05-24T00:47:22.699Z"
   },
   {
    "duration": 45,
    "start_time": "2022-05-24T00:47:22.760Z"
   },
   {
    "duration": 17,
    "start_time": "2022-05-24T00:47:27.957Z"
   },
   {
    "duration": 26,
    "start_time": "2022-05-24T00:47:28.859Z"
   },
   {
    "duration": 1479,
    "start_time": "2022-05-24T00:47:42.526Z"
   },
   {
    "duration": 22,
    "start_time": "2022-05-24T00:47:44.007Z"
   },
   {
    "duration": 34,
    "start_time": "2022-05-24T00:47:44.030Z"
   },
   {
    "duration": 24,
    "start_time": "2022-05-24T00:47:44.066Z"
   },
   {
    "duration": 50,
    "start_time": "2022-05-24T00:47:44.091Z"
   },
   {
    "duration": 13,
    "start_time": "2022-05-24T00:47:44.142Z"
   },
   {
    "duration": 11,
    "start_time": "2022-05-24T00:47:44.157Z"
   },
   {
    "duration": 28,
    "start_time": "2022-05-24T00:47:44.169Z"
   },
   {
    "duration": 56,
    "start_time": "2022-05-24T00:47:44.199Z"
   },
   {
    "duration": 40,
    "start_time": "2022-05-24T00:47:44.257Z"
   },
   {
    "duration": 45,
    "start_time": "2022-05-24T00:47:44.298Z"
   },
   {
    "duration": 17,
    "start_time": "2022-05-24T00:49:20.669Z"
   },
   {
    "duration": 30,
    "start_time": "2022-05-24T00:52:23.352Z"
   },
   {
    "duration": 36,
    "start_time": "2022-05-24T00:53:17.205Z"
   },
   {
    "duration": 32,
    "start_time": "2022-05-24T00:53:25.650Z"
   },
   {
    "duration": 16,
    "start_time": "2022-05-24T00:53:32.273Z"
   },
   {
    "duration": 16,
    "start_time": "2022-05-24T00:53:47.098Z"
   },
   {
    "duration": 14,
    "start_time": "2022-05-24T00:53:56.282Z"
   },
   {
    "duration": 15,
    "start_time": "2022-05-24T00:54:10.734Z"
   },
   {
    "duration": 28,
    "start_time": "2022-05-24T00:54:17.576Z"
   },
   {
    "duration": 96,
    "start_time": "2022-05-24T00:55:22.946Z"
   },
   {
    "duration": 10,
    "start_time": "2022-05-24T00:55:28.720Z"
   },
   {
    "duration": 40,
    "start_time": "2022-05-24T00:55:43.972Z"
   },
   {
    "duration": 15,
    "start_time": "2022-05-24T00:56:02.780Z"
   },
   {
    "duration": 418,
    "start_time": "2022-05-24T00:58:20.768Z"
   },
   {
    "duration": 374,
    "start_time": "2022-05-24T00:58:36.399Z"
   },
   {
    "duration": 16,
    "start_time": "2022-05-24T00:58:36.775Z"
   },
   {
    "duration": 35,
    "start_time": "2022-05-24T00:58:36.792Z"
   },
   {
    "duration": 21,
    "start_time": "2022-05-24T00:58:36.829Z"
   },
   {
    "duration": 27,
    "start_time": "2022-05-24T00:58:36.852Z"
   },
   {
    "duration": 13,
    "start_time": "2022-05-24T00:58:36.881Z"
   },
   {
    "duration": 36,
    "start_time": "2022-05-24T00:58:36.896Z"
   },
   {
    "duration": 27,
    "start_time": "2022-05-24T00:58:36.934Z"
   },
   {
    "duration": 15,
    "start_time": "2022-05-24T00:58:36.963Z"
   },
   {
    "duration": 382,
    "start_time": "2022-05-24T00:59:07.515Z"
   },
   {
    "duration": 17,
    "start_time": "2022-05-24T00:59:07.899Z"
   },
   {
    "duration": 35,
    "start_time": "2022-05-24T00:59:07.918Z"
   },
   {
    "duration": 23,
    "start_time": "2022-05-24T00:59:07.955Z"
   },
   {
    "duration": 27,
    "start_time": "2022-05-24T00:59:07.979Z"
   },
   {
    "duration": 13,
    "start_time": "2022-05-24T00:59:08.027Z"
   },
   {
    "duration": 22,
    "start_time": "2022-05-24T00:59:08.042Z"
   },
   {
    "duration": 33,
    "start_time": "2022-05-24T00:59:08.066Z"
   },
   {
    "duration": 1123,
    "start_time": "2022-05-24T00:59:54.375Z"
   },
   {
    "duration": 134,
    "start_time": "2022-05-24T01:00:03.881Z"
   },
   {
    "duration": 118,
    "start_time": "2022-05-24T01:00:15.748Z"
   },
   {
    "duration": 152,
    "start_time": "2022-05-24T01:00:22.522Z"
   },
   {
    "duration": 162,
    "start_time": "2022-05-24T01:00:34.960Z"
   },
   {
    "duration": 421,
    "start_time": "2022-05-24T01:00:48.257Z"
   },
   {
    "duration": 375,
    "start_time": "2022-05-24T01:01:05.134Z"
   },
   {
    "duration": 237,
    "start_time": "2022-05-24T01:01:16.175Z"
   },
   {
    "duration": 202,
    "start_time": "2022-05-24T01:01:24.179Z"
   },
   {
    "duration": 260,
    "start_time": "2022-05-24T01:01:34.707Z"
   },
   {
    "duration": 308,
    "start_time": "2022-05-24T01:01:51.128Z"
   },
   {
    "duration": 449,
    "start_time": "2022-05-24T01:02:05.386Z"
   },
   {
    "duration": 517,
    "start_time": "2022-05-24T01:02:25.578Z"
   },
   {
    "duration": 236,
    "start_time": "2022-05-24T01:02:34.002Z"
   },
   {
    "duration": 229,
    "start_time": "2022-05-24T01:02:48.599Z"
   },
   {
    "duration": 231,
    "start_time": "2022-05-24T01:02:59.131Z"
   },
   {
    "duration": 265,
    "start_time": "2022-05-24T01:03:05.665Z"
   },
   {
    "duration": 180,
    "start_time": "2022-05-24T01:03:32.625Z"
   },
   {
    "duration": 170,
    "start_time": "2022-05-24T01:03:51.776Z"
   },
   {
    "duration": 176,
    "start_time": "2022-05-24T01:04:17.219Z"
   },
   {
    "duration": 167,
    "start_time": "2022-05-24T01:04:43.260Z"
   },
   {
    "duration": 310,
    "start_time": "2022-05-24T01:04:54.518Z"
   },
   {
    "duration": 177,
    "start_time": "2022-05-24T01:05:15.468Z"
   },
   {
    "duration": 32,
    "start_time": "2022-05-24T01:18:20.606Z"
   },
   {
    "duration": 147,
    "start_time": "2022-05-24T01:18:29.898Z"
   },
   {
    "duration": 166,
    "start_time": "2022-05-24T01:18:51.966Z"
   },
   {
    "duration": 179,
    "start_time": "2022-05-24T01:19:17.815Z"
   },
   {
    "duration": 173,
    "start_time": "2022-05-24T01:19:42.307Z"
   },
   {
    "duration": 192,
    "start_time": "2022-05-24T01:19:58.924Z"
   },
   {
    "duration": 193,
    "start_time": "2022-05-24T01:20:03.570Z"
   },
   {
    "duration": 174,
    "start_time": "2022-05-24T01:21:05.593Z"
   },
   {
    "duration": 173,
    "start_time": "2022-05-24T01:24:15.502Z"
   },
   {
    "duration": 508,
    "start_time": "2022-05-24T01:24:47.087Z"
   },
   {
    "duration": 520,
    "start_time": "2022-05-24T01:25:03.471Z"
   },
   {
    "duration": 644,
    "start_time": "2022-05-24T01:25:48.488Z"
   },
   {
    "duration": 499,
    "start_time": "2022-05-24T01:25:51.767Z"
   },
   {
    "duration": 494,
    "start_time": "2022-05-24T01:27:35.418Z"
   },
   {
    "duration": 507,
    "start_time": "2022-05-24T01:27:52.620Z"
   },
   {
    "duration": 519,
    "start_time": "2022-05-24T01:28:05.036Z"
   },
   {
    "duration": 544,
    "start_time": "2022-05-24T01:28:13.060Z"
   },
   {
    "duration": 723,
    "start_time": "2022-05-24T01:28:23.269Z"
   },
   {
    "duration": 526,
    "start_time": "2022-05-24T01:29:21.018Z"
   },
   {
    "duration": 500,
    "start_time": "2022-05-24T01:29:29.453Z"
   },
   {
    "duration": 598,
    "start_time": "2022-05-24T01:29:52.801Z"
   },
   {
    "duration": 595,
    "start_time": "2022-05-24T01:30:09.401Z"
   },
   {
    "duration": 713,
    "start_time": "2022-05-24T01:31:10.540Z"
   },
   {
    "duration": 730,
    "start_time": "2022-05-24T01:31:32.787Z"
   },
   {
    "duration": 485,
    "start_time": "2022-05-24T01:31:41.757Z"
   },
   {
    "duration": 490,
    "start_time": "2022-05-24T01:31:49.589Z"
   },
   {
    "duration": 673,
    "start_time": "2022-05-24T01:32:04.006Z"
   },
   {
    "duration": 645,
    "start_time": "2022-05-24T01:33:28.638Z"
   },
   {
    "duration": 678,
    "start_time": "2022-05-24T01:33:45.074Z"
   },
   {
    "duration": 660,
    "start_time": "2022-05-24T01:33:50.089Z"
   },
   {
    "duration": 814,
    "start_time": "2022-05-24T01:34:22.516Z"
   },
   {
    "duration": 664,
    "start_time": "2022-05-24T01:34:56.350Z"
   },
   {
    "duration": 698,
    "start_time": "2022-05-24T01:35:11.419Z"
   },
   {
    "duration": 681,
    "start_time": "2022-05-24T01:37:16.613Z"
   },
   {
    "duration": 672,
    "start_time": "2022-05-24T01:38:22.973Z"
   },
   {
    "duration": 298,
    "start_time": "2022-05-24T01:39:41.531Z"
   },
   {
    "duration": 644,
    "start_time": "2022-05-24T01:41:52.494Z"
   },
   {
    "duration": 499,
    "start_time": "2022-05-24T01:42:52.373Z"
   },
   {
    "duration": 722,
    "start_time": "2022-05-24T01:44:16.228Z"
   },
   {
    "duration": 6,
    "start_time": "2022-05-24T01:45:33.115Z"
   },
   {
    "duration": 682,
    "start_time": "2022-05-24T01:45:36.911Z"
   },
   {
    "duration": 137,
    "start_time": "2022-05-24T01:46:30.753Z"
   },
   {
    "duration": 842,
    "start_time": "2022-05-24T01:47:03.195Z"
   },
   {
    "duration": 4,
    "start_time": "2022-05-24T01:49:08.062Z"
   },
   {
    "duration": 34,
    "start_time": "2022-05-24T01:49:20.614Z"
   },
   {
    "duration": 4,
    "start_time": "2022-05-24T01:49:56.547Z"
   },
   {
    "duration": 6,
    "start_time": "2022-05-24T01:50:03.541Z"
   },
   {
    "duration": 203,
    "start_time": "2022-05-24T01:52:18.494Z"
   },
   {
    "duration": 9,
    "start_time": "2022-05-24T01:55:58.009Z"
   },
   {
    "duration": 10,
    "start_time": "2022-05-24T01:57:16.981Z"
   },
   {
    "duration": 6,
    "start_time": "2022-05-24T01:57:46.349Z"
   },
   {
    "duration": 197,
    "start_time": "2022-05-24T01:58:20.972Z"
   },
   {
    "duration": 213,
    "start_time": "2022-05-24T01:59:28.605Z"
   },
   {
    "duration": 200,
    "start_time": "2022-05-24T02:05:25.988Z"
   },
   {
    "duration": 196,
    "start_time": "2022-05-24T02:05:39.592Z"
   },
   {
    "duration": 193,
    "start_time": "2022-05-24T02:05:51.456Z"
   },
   {
    "duration": 195,
    "start_time": "2022-05-24T02:07:44.118Z"
   },
   {
    "duration": 231,
    "start_time": "2022-05-24T02:10:41.017Z"
   },
   {
    "duration": 39,
    "start_time": "2022-05-24T02:16:22.675Z"
   },
   {
    "duration": 46,
    "start_time": "2022-05-24T02:17:29.395Z"
   },
   {
    "duration": 1645,
    "start_time": "2022-05-24T02:20:14.546Z"
   },
   {
    "duration": 824,
    "start_time": "2022-05-24T02:20:39.749Z"
   },
   {
    "duration": 865,
    "start_time": "2022-05-24T02:21:09.732Z"
   },
   {
    "duration": 23,
    "start_time": "2022-05-24T02:21:46.624Z"
   },
   {
    "duration": 51,
    "start_time": "2022-05-24T02:21:54.231Z"
   },
   {
    "duration": 77,
    "start_time": "2022-05-24T02:22:02.829Z"
   },
   {
    "duration": 62,
    "start_time": "2022-05-24T02:22:12.993Z"
   },
   {
    "duration": 63,
    "start_time": "2022-05-24T02:22:20.211Z"
   },
   {
    "duration": 51,
    "start_time": "2022-05-24T02:23:04.776Z"
   },
   {
    "duration": 26,
    "start_time": "2022-05-24T02:23:08.408Z"
   },
   {
    "duration": 29,
    "start_time": "2022-05-24T02:26:27.984Z"
   },
   {
    "duration": 36,
    "start_time": "2022-05-24T02:27:42.850Z"
   },
   {
    "duration": 426,
    "start_time": "2022-05-24T02:27:57.261Z"
   },
   {
    "duration": 19,
    "start_time": "2022-05-24T02:27:57.688Z"
   },
   {
    "duration": 38,
    "start_time": "2022-05-24T02:27:57.709Z"
   },
   {
    "duration": 30,
    "start_time": "2022-05-24T02:27:57.749Z"
   },
   {
    "duration": 57,
    "start_time": "2022-05-24T02:27:57.781Z"
   },
   {
    "duration": 15,
    "start_time": "2022-05-24T02:27:57.840Z"
   },
   {
    "duration": 18,
    "start_time": "2022-05-24T02:27:57.857Z"
   },
   {
    "duration": 59,
    "start_time": "2022-05-24T02:27:57.877Z"
   },
   {
    "duration": 226,
    "start_time": "2022-05-24T02:27:57.938Z"
   },
   {
    "duration": 33,
    "start_time": "2022-05-24T02:27:58.166Z"
   },
   {
    "duration": 60,
    "start_time": "2022-05-24T02:27:58.201Z"
   },
   {
    "duration": 19,
    "start_time": "2022-05-24T02:27:58.263Z"
   },
   {
    "duration": 21,
    "start_time": "2022-05-24T02:28:10.707Z"
   },
   {
    "duration": 23,
    "start_time": "2022-05-24T02:28:12.035Z"
   },
   {
    "duration": 438,
    "start_time": "2022-05-24T02:29:19.310Z"
   },
   {
    "duration": 11,
    "start_time": "2022-05-24T02:29:57.579Z"
   },
   {
    "duration": 52,
    "start_time": "2022-05-24T02:30:06.016Z"
   },
   {
    "duration": 11,
    "start_time": "2022-05-24T02:30:17.434Z"
   },
   {
    "duration": 15,
    "start_time": "2022-05-24T02:30:23.236Z"
   },
   {
    "duration": 14,
    "start_time": "2022-05-24T02:30:41.227Z"
   },
   {
    "duration": 13,
    "start_time": "2022-05-24T02:30:47.913Z"
   },
   {
    "duration": 61,
    "start_time": "2022-05-24T02:32:58.388Z"
   },
   {
    "duration": 34,
    "start_time": "2022-05-24T02:33:21.260Z"
   },
   {
    "duration": 29,
    "start_time": "2022-05-24T02:33:22.015Z"
   },
   {
    "duration": 538,
    "start_time": "2022-05-24T02:33:33.375Z"
   },
   {
    "duration": 29,
    "start_time": "2022-05-24T02:33:49.239Z"
   },
   {
    "duration": 18,
    "start_time": "2022-05-24T02:34:19.818Z"
   },
   {
    "duration": 20,
    "start_time": "2022-05-24T02:35:10.719Z"
   },
   {
    "duration": 21,
    "start_time": "2022-05-24T02:35:11.491Z"
   },
   {
    "duration": 20,
    "start_time": "2022-05-24T02:35:19.463Z"
   },
   {
    "duration": 409,
    "start_time": "2022-05-24T02:35:23.738Z"
   },
   {
    "duration": 18,
    "start_time": "2022-05-24T02:35:24.148Z"
   },
   {
    "duration": 41,
    "start_time": "2022-05-24T02:35:24.167Z"
   },
   {
    "duration": 25,
    "start_time": "2022-05-24T02:35:24.210Z"
   },
   {
    "duration": 29,
    "start_time": "2022-05-24T02:35:24.236Z"
   },
   {
    "duration": 15,
    "start_time": "2022-05-24T02:35:24.267Z"
   },
   {
    "duration": 18,
    "start_time": "2022-05-24T02:35:24.284Z"
   },
   {
    "duration": 39,
    "start_time": "2022-05-24T02:35:24.328Z"
   },
   {
    "duration": 250,
    "start_time": "2022-05-24T02:35:24.369Z"
   },
   {
    "duration": 37,
    "start_time": "2022-05-24T02:35:24.621Z"
   },
   {
    "duration": 39,
    "start_time": "2022-05-24T02:35:24.660Z"
   },
   {
    "duration": 41,
    "start_time": "2022-05-24T02:35:24.701Z"
   },
   {
    "duration": 18,
    "start_time": "2022-05-24T02:35:24.744Z"
   },
   {
    "duration": 19,
    "start_time": "2022-05-24T02:35:24.764Z"
   },
   {
    "duration": 62,
    "start_time": "2022-05-24T02:35:24.785Z"
   },
   {
    "duration": 27,
    "start_time": "2022-05-24T02:35:24.849Z"
   },
   {
    "duration": 34,
    "start_time": "2022-05-24T02:35:26.508Z"
   },
   {
    "duration": 24,
    "start_time": "2022-05-24T02:35:44.376Z"
   },
   {
    "duration": 19,
    "start_time": "2022-05-24T02:35:44.916Z"
   },
   {
    "duration": 25,
    "start_time": "2022-05-24T02:36:01.278Z"
   },
   {
    "duration": 20,
    "start_time": "2022-05-24T02:37:46.841Z"
   },
   {
    "duration": 28,
    "start_time": "2022-05-24T02:38:48.393Z"
   },
   {
    "duration": 24,
    "start_time": "2022-05-24T02:43:10.517Z"
   },
   {
    "duration": 46,
    "start_time": "2022-05-24T02:44:34.815Z"
   },
   {
    "duration": 28,
    "start_time": "2022-05-24T02:44:47.411Z"
   },
   {
    "duration": 16,
    "start_time": "2022-05-24T02:45:09.666Z"
   },
   {
    "duration": 1654,
    "start_time": "2022-05-24T02:45:17.510Z"
   },
   {
    "duration": 24,
    "start_time": "2022-05-24T02:45:19.166Z"
   },
   {
    "duration": 49,
    "start_time": "2022-05-24T02:45:19.192Z"
   },
   {
    "duration": 41,
    "start_time": "2022-05-24T02:45:19.243Z"
   },
   {
    "duration": 57,
    "start_time": "2022-05-24T02:45:19.286Z"
   },
   {
    "duration": 16,
    "start_time": "2022-05-24T02:45:19.344Z"
   },
   {
    "duration": 26,
    "start_time": "2022-05-24T02:45:19.363Z"
   },
   {
    "duration": 67,
    "start_time": "2022-05-24T02:45:19.391Z"
   },
   {
    "duration": 345,
    "start_time": "2022-05-24T02:45:19.460Z"
   },
   {
    "duration": 54,
    "start_time": "2022-05-24T02:45:19.807Z"
   },
   {
    "duration": 44,
    "start_time": "2022-05-24T02:45:19.863Z"
   },
   {
    "duration": 40,
    "start_time": "2022-05-24T02:45:19.909Z"
   },
   {
    "duration": 20,
    "start_time": "2022-05-24T02:45:19.951Z"
   },
   {
    "duration": 20,
    "start_time": "2022-05-24T02:45:19.972Z"
   },
   {
    "duration": 67,
    "start_time": "2022-05-24T02:45:19.993Z"
   },
   {
    "duration": 34,
    "start_time": "2022-05-24T02:45:20.062Z"
   },
   {
    "duration": 48,
    "start_time": "2022-05-24T02:45:20.097Z"
   },
   {
    "duration": 62,
    "start_time": "2022-05-24T02:45:20.149Z"
   },
   {
    "duration": 134,
    "start_time": "2022-05-24T02:45:20.214Z"
   },
   {
    "duration": 25,
    "start_time": "2022-05-24T02:48:01.684Z"
   },
   {
    "duration": 459,
    "start_time": "2022-05-24T02:48:09.509Z"
   },
   {
    "duration": 18,
    "start_time": "2022-05-24T02:48:09.971Z"
   },
   {
    "duration": 41,
    "start_time": "2022-05-24T02:48:09.991Z"
   },
   {
    "duration": 28,
    "start_time": "2022-05-24T02:48:10.036Z"
   },
   {
    "duration": 30,
    "start_time": "2022-05-24T02:48:10.066Z"
   },
   {
    "duration": 25,
    "start_time": "2022-05-24T02:48:10.126Z"
   },
   {
    "duration": 25,
    "start_time": "2022-05-24T02:48:10.152Z"
   },
   {
    "duration": 57,
    "start_time": "2022-05-24T02:48:10.180Z"
   },
   {
    "duration": 240,
    "start_time": "2022-05-24T02:48:10.239Z"
   },
   {
    "duration": 54,
    "start_time": "2022-05-24T02:48:10.482Z"
   },
   {
    "duration": 42,
    "start_time": "2022-05-24T02:48:10.538Z"
   },
   {
    "duration": 20,
    "start_time": "2022-05-24T02:48:10.582Z"
   },
   {
    "duration": 40,
    "start_time": "2022-05-24T02:48:10.604Z"
   },
   {
    "duration": 21,
    "start_time": "2022-05-24T02:48:10.646Z"
   },
   {
    "duration": 28,
    "start_time": "2022-05-24T02:48:10.669Z"
   },
   {
    "duration": 52,
    "start_time": "2022-05-24T02:48:10.699Z"
   },
   {
    "duration": 35,
    "start_time": "2022-05-24T02:48:10.754Z"
   },
   {
    "duration": 72,
    "start_time": "2022-05-24T02:48:10.791Z"
   },
   {
    "duration": 17,
    "start_time": "2022-05-24T02:48:11.793Z"
   },
   {
    "duration": 17,
    "start_time": "2022-05-24T02:49:17.460Z"
   },
   {
    "duration": 1925,
    "start_time": "2022-05-24T02:49:30.816Z"
   },
   {
    "duration": 35,
    "start_time": "2022-05-24T02:49:32.743Z"
   },
   {
    "duration": 80,
    "start_time": "2022-05-24T02:49:32.780Z"
   },
   {
    "duration": 37,
    "start_time": "2022-05-24T02:49:32.862Z"
   },
   {
    "duration": 54,
    "start_time": "2022-05-24T02:49:32.901Z"
   },
   {
    "duration": 22,
    "start_time": "2022-05-24T02:49:32.957Z"
   },
   {
    "duration": 30,
    "start_time": "2022-05-24T02:49:32.981Z"
   },
   {
    "duration": 83,
    "start_time": "2022-05-24T02:49:33.013Z"
   },
   {
    "duration": 396,
    "start_time": "2022-05-24T02:49:33.099Z"
   },
   {
    "duration": 75,
    "start_time": "2022-05-24T02:49:33.498Z"
   },
   {
    "duration": 106,
    "start_time": "2022-05-24T02:49:33.583Z"
   },
   {
    "duration": 45,
    "start_time": "2022-05-24T02:49:33.691Z"
   },
   {
    "duration": 82,
    "start_time": "2022-05-24T02:49:33.738Z"
   },
   {
    "duration": 97,
    "start_time": "2022-05-24T02:49:33.822Z"
   },
   {
    "duration": 48,
    "start_time": "2022-05-24T02:49:33.921Z"
   },
   {
    "duration": 71,
    "start_time": "2022-05-24T02:49:33.971Z"
   },
   {
    "duration": 96,
    "start_time": "2022-05-24T02:49:34.044Z"
   },
   {
    "duration": 65,
    "start_time": "2022-05-24T02:49:34.142Z"
   },
   {
    "duration": 11,
    "start_time": "2022-05-24T02:50:32.489Z"
   },
   {
    "duration": 546,
    "start_time": "2022-05-24T02:51:33.658Z"
   },
   {
    "duration": 23,
    "start_time": "2022-05-24T02:51:34.206Z"
   },
   {
    "duration": 82,
    "start_time": "2022-05-24T02:51:34.231Z"
   },
   {
    "duration": 42,
    "start_time": "2022-05-24T02:51:34.315Z"
   },
   {
    "duration": 44,
    "start_time": "2022-05-24T02:51:34.360Z"
   },
   {
    "duration": 20,
    "start_time": "2022-05-24T02:51:34.406Z"
   },
   {
    "duration": 49,
    "start_time": "2022-05-24T02:51:34.428Z"
   },
   {
    "duration": 41,
    "start_time": "2022-05-24T02:51:34.479Z"
   },
   {
    "duration": 296,
    "start_time": "2022-05-24T02:51:34.523Z"
   },
   {
    "duration": 57,
    "start_time": "2022-05-24T02:51:34.821Z"
   },
   {
    "duration": 66,
    "start_time": "2022-05-24T02:51:34.880Z"
   },
   {
    "duration": 39,
    "start_time": "2022-05-24T02:51:34.949Z"
   },
   {
    "duration": 38,
    "start_time": "2022-05-24T02:51:34.990Z"
   },
   {
    "duration": 70,
    "start_time": "2022-05-24T02:51:35.031Z"
   },
   {
    "duration": 58,
    "start_time": "2022-05-24T02:51:35.103Z"
   },
   {
    "duration": 41,
    "start_time": "2022-05-24T02:51:35.167Z"
   },
   {
    "duration": 46,
    "start_time": "2022-05-24T02:51:35.210Z"
   },
   {
    "duration": 101,
    "start_time": "2022-05-24T02:51:35.261Z"
   },
   {
    "duration": 27,
    "start_time": "2022-05-24T02:51:35.365Z"
   },
   {
    "duration": 447,
    "start_time": "2022-05-24T02:55:05.318Z"
   },
   {
    "duration": 20,
    "start_time": "2022-05-24T02:55:05.767Z"
   },
   {
    "duration": 43,
    "start_time": "2022-05-24T02:55:05.789Z"
   },
   {
    "duration": 29,
    "start_time": "2022-05-24T02:55:05.837Z"
   },
   {
    "duration": 30,
    "start_time": "2022-05-24T02:55:05.868Z"
   },
   {
    "duration": 48,
    "start_time": "2022-05-24T02:55:05.900Z"
   },
   {
    "duration": 14,
    "start_time": "2022-05-24T02:55:05.950Z"
   },
   {
    "duration": 34,
    "start_time": "2022-05-24T02:55:05.966Z"
   },
   {
    "duration": 320,
    "start_time": "2022-05-24T02:55:06.002Z"
   },
   {
    "duration": 53,
    "start_time": "2022-05-24T02:55:06.326Z"
   },
   {
    "duration": 83,
    "start_time": "2022-05-24T02:55:06.381Z"
   },
   {
    "duration": 31,
    "start_time": "2022-05-24T02:55:06.466Z"
   },
   {
    "duration": 40,
    "start_time": "2022-05-24T02:55:06.499Z"
   },
   {
    "duration": 40,
    "start_time": "2022-05-24T02:55:06.541Z"
   },
   {
    "duration": 45,
    "start_time": "2022-05-24T02:55:06.583Z"
   },
   {
    "duration": 28,
    "start_time": "2022-05-24T02:55:06.630Z"
   },
   {
    "duration": 31,
    "start_time": "2022-05-24T02:55:06.659Z"
   },
   {
    "duration": 67,
    "start_time": "2022-05-24T02:55:06.692Z"
   },
   {
    "duration": 13,
    "start_time": "2022-05-24T02:55:06.760Z"
   },
   {
    "duration": 1964,
    "start_time": "2022-05-24T02:56:11.727Z"
   },
   {
    "duration": 31,
    "start_time": "2022-05-24T02:56:24.045Z"
   },
   {
    "duration": 33,
    "start_time": "2022-05-24T02:57:04.860Z"
   },
   {
    "duration": 23,
    "start_time": "2022-05-24T02:58:05.188Z"
   },
   {
    "duration": 29,
    "start_time": "2022-05-24T02:58:08.256Z"
   },
   {
    "duration": 13,
    "start_time": "2022-05-24T02:58:13.799Z"
   },
   {
    "duration": 29,
    "start_time": "2022-05-24T02:58:24.400Z"
   },
   {
    "duration": 516,
    "start_time": "2022-05-24T02:59:22.508Z"
   },
   {
    "duration": 29,
    "start_time": "2022-05-24T02:59:23.026Z"
   },
   {
    "duration": 49,
    "start_time": "2022-05-24T02:59:23.056Z"
   },
   {
    "duration": 65,
    "start_time": "2022-05-24T02:59:23.108Z"
   },
   {
    "duration": 119,
    "start_time": "2022-05-24T02:59:23.175Z"
   },
   {
    "duration": 16,
    "start_time": "2022-05-24T02:59:23.296Z"
   },
   {
    "duration": 30,
    "start_time": "2022-05-24T02:59:23.314Z"
   },
   {
    "duration": 70,
    "start_time": "2022-05-24T02:59:23.346Z"
   },
   {
    "duration": 296,
    "start_time": "2022-05-24T02:59:23.419Z"
   },
   {
    "duration": 59,
    "start_time": "2022-05-24T02:59:23.719Z"
   },
   {
    "duration": 69,
    "start_time": "2022-05-24T02:59:23.780Z"
   },
   {
    "duration": 33,
    "start_time": "2022-05-24T02:59:23.851Z"
   },
   {
    "duration": 25,
    "start_time": "2022-05-24T02:59:23.886Z"
   },
   {
    "duration": 57,
    "start_time": "2022-05-24T02:59:23.913Z"
   },
   {
    "duration": 30,
    "start_time": "2022-05-24T02:59:23.973Z"
   },
   {
    "duration": 54,
    "start_time": "2022-05-24T02:59:24.005Z"
   },
   {
    "duration": 40,
    "start_time": "2022-05-24T02:59:24.062Z"
   },
   {
    "duration": 88,
    "start_time": "2022-05-24T02:59:24.104Z"
   },
   {
    "duration": 23,
    "start_time": "2022-05-24T03:00:38.765Z"
   },
   {
    "duration": 33,
    "start_time": "2022-05-24T03:01:17.576Z"
   },
   {
    "duration": 137,
    "start_time": "2022-05-24T03:01:29.609Z"
   },
   {
    "duration": 15,
    "start_time": "2022-05-24T03:01:29.859Z"
   },
   {
    "duration": 444,
    "start_time": "2022-05-24T03:01:40.198Z"
   },
   {
    "duration": 19,
    "start_time": "2022-05-24T03:01:40.645Z"
   },
   {
    "duration": 48,
    "start_time": "2022-05-24T03:01:40.666Z"
   },
   {
    "duration": 40,
    "start_time": "2022-05-24T03:01:40.716Z"
   },
   {
    "duration": 51,
    "start_time": "2022-05-24T03:01:40.759Z"
   },
   {
    "duration": 37,
    "start_time": "2022-05-24T03:01:40.812Z"
   },
   {
    "duration": 28,
    "start_time": "2022-05-24T03:01:40.851Z"
   },
   {
    "duration": 68,
    "start_time": "2022-05-24T03:01:40.881Z"
   },
   {
    "duration": 293,
    "start_time": "2022-05-24T03:01:40.951Z"
   },
   {
    "duration": 50,
    "start_time": "2022-05-24T03:01:41.247Z"
   },
   {
    "duration": 71,
    "start_time": "2022-05-24T03:01:41.300Z"
   },
   {
    "duration": 20,
    "start_time": "2022-05-24T03:01:41.373Z"
   },
   {
    "duration": 38,
    "start_time": "2022-05-24T03:01:41.395Z"
   },
   {
    "duration": 42,
    "start_time": "2022-05-24T03:01:41.435Z"
   },
   {
    "duration": 43,
    "start_time": "2022-05-24T03:01:41.478Z"
   },
   {
    "duration": 26,
    "start_time": "2022-05-24T03:01:41.523Z"
   },
   {
    "duration": 42,
    "start_time": "2022-05-24T03:01:41.551Z"
   },
   {
    "duration": 84,
    "start_time": "2022-05-24T03:01:41.595Z"
   },
   {
    "duration": 21,
    "start_time": "2022-05-24T03:01:41.681Z"
   },
   {
    "duration": 10,
    "start_time": "2022-05-24T03:08:21.642Z"
   },
   {
    "duration": 10,
    "start_time": "2022-05-24T03:08:45.360Z"
   },
   {
    "duration": 16,
    "start_time": "2022-05-24T03:09:13.071Z"
   },
   {
    "duration": 5,
    "start_time": "2022-05-24T03:12:13.581Z"
   },
   {
    "duration": 748,
    "start_time": "2022-05-24T03:12:20.495Z"
   },
   {
    "duration": 422,
    "start_time": "2022-05-24T03:12:29.764Z"
   },
   {
    "duration": 18,
    "start_time": "2022-05-24T03:12:30.188Z"
   },
   {
    "duration": 60,
    "start_time": "2022-05-24T03:12:30.207Z"
   },
   {
    "duration": 33,
    "start_time": "2022-05-24T03:12:30.269Z"
   },
   {
    "duration": 53,
    "start_time": "2022-05-24T03:12:30.304Z"
   },
   {
    "duration": 27,
    "start_time": "2022-05-24T03:12:30.359Z"
   },
   {
    "duration": 31,
    "start_time": "2022-05-24T03:12:30.388Z"
   },
   {
    "duration": 60,
    "start_time": "2022-05-24T03:12:30.421Z"
   },
   {
    "duration": 261,
    "start_time": "2022-05-24T03:12:30.482Z"
   },
   {
    "duration": 36,
    "start_time": "2022-05-24T03:12:30.746Z"
   },
   {
    "duration": 65,
    "start_time": "2022-05-24T03:12:30.784Z"
   },
   {
    "duration": 20,
    "start_time": "2022-05-24T03:12:30.852Z"
   },
   {
    "duration": 40,
    "start_time": "2022-05-24T03:12:30.874Z"
   },
   {
    "duration": 89,
    "start_time": "2022-05-24T03:12:30.915Z"
   },
   {
    "duration": 65,
    "start_time": "2022-05-24T03:12:31.006Z"
   },
   {
    "duration": 27,
    "start_time": "2022-05-24T03:12:31.073Z"
   },
   {
    "duration": 42,
    "start_time": "2022-05-24T03:12:31.102Z"
   },
   {
    "duration": 93,
    "start_time": "2022-05-24T03:12:31.146Z"
   },
   {
    "duration": 22,
    "start_time": "2022-05-24T03:12:31.241Z"
   },
   {
    "duration": 58,
    "start_time": "2022-05-24T03:12:31.265Z"
   },
   {
    "duration": 12,
    "start_time": "2022-05-24T03:12:32.956Z"
   },
   {
    "duration": 4,
    "start_time": "2022-05-24T03:24:21.867Z"
   },
   {
    "duration": 53,
    "start_time": "2022-05-24T03:40:54.668Z"
   },
   {
    "duration": 6,
    "start_time": "2022-05-24T03:40:59.393Z"
   },
   {
    "duration": 1961,
    "start_time": "2022-05-24T03:41:10.784Z"
   },
   {
    "duration": 21,
    "start_time": "2022-05-24T03:41:12.747Z"
   },
   {
    "duration": 34,
    "start_time": "2022-05-24T03:41:12.770Z"
   },
   {
    "duration": 39,
    "start_time": "2022-05-24T03:41:12.806Z"
   },
   {
    "duration": 29,
    "start_time": "2022-05-24T03:41:12.847Z"
   },
   {
    "duration": 15,
    "start_time": "2022-05-24T03:41:12.878Z"
   },
   {
    "duration": 16,
    "start_time": "2022-05-24T03:41:12.928Z"
   },
   {
    "duration": 38,
    "start_time": "2022-05-24T03:41:12.947Z"
   },
   {
    "duration": 353,
    "start_time": "2022-05-24T03:41:12.987Z"
   },
   {
    "duration": 41,
    "start_time": "2022-05-24T03:41:13.343Z"
   },
   {
    "duration": 63,
    "start_time": "2022-05-24T03:41:13.387Z"
   },
   {
    "duration": 21,
    "start_time": "2022-05-24T03:41:13.453Z"
   },
   {
    "duration": 21,
    "start_time": "2022-05-24T03:41:13.475Z"
   },
   {
    "duration": 48,
    "start_time": "2022-05-24T03:41:13.499Z"
   },
   {
    "duration": 32,
    "start_time": "2022-05-24T03:41:13.550Z"
   },
   {
    "duration": 51,
    "start_time": "2022-05-24T03:41:13.584Z"
   },
   {
    "duration": 32,
    "start_time": "2022-05-24T03:41:13.637Z"
   },
   {
    "duration": 87,
    "start_time": "2022-05-24T03:41:13.671Z"
   },
   {
    "duration": 16,
    "start_time": "2022-05-24T03:41:13.760Z"
   },
   {
    "duration": 14,
    "start_time": "2022-05-24T03:41:13.777Z"
   },
   {
    "duration": 16,
    "start_time": "2022-05-24T03:41:13.826Z"
   },
   {
    "duration": 96,
    "start_time": "2022-05-24T03:41:13.844Z"
   },
   {
    "duration": 10,
    "start_time": "2022-05-24T03:41:47.710Z"
   },
   {
    "duration": 12,
    "start_time": "2022-05-24T03:41:52.650Z"
   },
   {
    "duration": 12,
    "start_time": "2022-05-24T03:42:08.568Z"
   },
   {
    "duration": 11,
    "start_time": "2022-05-24T03:42:18.566Z"
   },
   {
    "duration": 15,
    "start_time": "2022-05-24T03:43:32.125Z"
   },
   {
    "duration": 34,
    "start_time": "2022-05-24T03:43:38.299Z"
   },
   {
    "duration": 13,
    "start_time": "2022-05-24T03:43:52.410Z"
   },
   {
    "duration": 435,
    "start_time": "2022-05-24T03:44:10.223Z"
   },
   {
    "duration": 18,
    "start_time": "2022-05-24T03:44:10.660Z"
   },
   {
    "duration": 35,
    "start_time": "2022-05-24T03:44:10.680Z"
   },
   {
    "duration": 34,
    "start_time": "2022-05-24T03:44:10.716Z"
   },
   {
    "duration": 29,
    "start_time": "2022-05-24T03:44:10.752Z"
   },
   {
    "duration": 52,
    "start_time": "2022-05-24T03:44:10.783Z"
   },
   {
    "duration": 22,
    "start_time": "2022-05-24T03:44:10.837Z"
   },
   {
    "duration": 43,
    "start_time": "2022-05-24T03:44:10.860Z"
   },
   {
    "duration": 242,
    "start_time": "2022-05-24T03:44:10.905Z"
   },
   {
    "duration": 44,
    "start_time": "2022-05-24T03:44:11.149Z"
   },
   {
    "duration": 65,
    "start_time": "2022-05-24T03:44:11.196Z"
   },
   {
    "duration": 23,
    "start_time": "2022-05-24T03:44:11.262Z"
   },
   {
    "duration": 41,
    "start_time": "2022-05-24T03:44:11.287Z"
   },
   {
    "duration": 27,
    "start_time": "2022-05-24T03:44:11.331Z"
   },
   {
    "duration": 39,
    "start_time": "2022-05-24T03:44:11.360Z"
   },
   {
    "duration": 48,
    "start_time": "2022-05-24T03:44:11.401Z"
   },
   {
    "duration": 32,
    "start_time": "2022-05-24T03:44:11.451Z"
   },
   {
    "duration": 84,
    "start_time": "2022-05-24T03:44:11.485Z"
   },
   {
    "duration": 16,
    "start_time": "2022-05-24T03:44:11.571Z"
   },
   {
    "duration": 40,
    "start_time": "2022-05-24T03:44:11.590Z"
   },
   {
    "duration": 23,
    "start_time": "2022-05-24T03:44:11.632Z"
   },
   {
    "duration": 16,
    "start_time": "2022-05-24T03:44:11.657Z"
   },
   {
    "duration": 15,
    "start_time": "2022-05-24T03:44:17.415Z"
   },
   {
    "duration": 13,
    "start_time": "2022-05-24T03:44:47.537Z"
   },
   {
    "duration": 31,
    "start_time": "2022-05-24T03:44:56.834Z"
   },
   {
    "duration": 33,
    "start_time": "2022-05-24T03:45:29.072Z"
   },
   {
    "duration": 29,
    "start_time": "2022-05-24T03:46:57.604Z"
   },
   {
    "duration": 61,
    "start_time": "2022-05-24T03:47:03.716Z"
   },
   {
    "duration": 65,
    "start_time": "2022-05-24T03:47:13.738Z"
   },
   {
    "duration": 56,
    "start_time": "2022-05-24T03:48:20.747Z"
   },
   {
    "duration": 2185,
    "start_time": "2022-05-24T03:48:28.158Z"
   },
   {
    "duration": 23,
    "start_time": "2022-05-24T03:48:30.345Z"
   },
   {
    "duration": 33,
    "start_time": "2022-05-24T03:48:30.370Z"
   },
   {
    "duration": 36,
    "start_time": "2022-05-24T03:48:30.405Z"
   },
   {
    "duration": 36,
    "start_time": "2022-05-24T03:48:30.443Z"
   },
   {
    "duration": 47,
    "start_time": "2022-05-24T03:48:30.481Z"
   },
   {
    "duration": 11,
    "start_time": "2022-05-24T03:48:30.530Z"
   },
   {
    "duration": 48,
    "start_time": "2022-05-24T03:48:30.543Z"
   },
   {
    "duration": 328,
    "start_time": "2022-05-24T03:48:30.593Z"
   },
   {
    "duration": 55,
    "start_time": "2022-05-24T03:48:30.922Z"
   },
   {
    "duration": 50,
    "start_time": "2022-05-24T03:48:30.978Z"
   },
   {
    "duration": 21,
    "start_time": "2022-05-24T03:48:31.030Z"
   },
   {
    "duration": 45,
    "start_time": "2022-05-24T03:48:31.053Z"
   },
   {
    "duration": 26,
    "start_time": "2022-05-24T03:48:31.101Z"
   },
   {
    "duration": 31,
    "start_time": "2022-05-24T03:48:31.131Z"
   },
   {
    "duration": 23,
    "start_time": "2022-05-24T03:48:31.164Z"
   },
   {
    "duration": 52,
    "start_time": "2022-05-24T03:48:31.188Z"
   },
   {
    "duration": 62,
    "start_time": "2022-05-24T03:48:31.242Z"
   },
   {
    "duration": 17,
    "start_time": "2022-05-24T03:48:31.328Z"
   },
   {
    "duration": 36,
    "start_time": "2022-05-24T03:48:31.347Z"
   },
   {
    "duration": 70,
    "start_time": "2022-05-24T03:48:31.385Z"
   },
   {
    "duration": 89,
    "start_time": "2022-05-24T03:48:32.559Z"
   },
   {
    "duration": 25,
    "start_time": "2022-05-24T03:49:10.328Z"
   },
   {
    "duration": 64,
    "start_time": "2022-05-24T03:50:02.922Z"
   },
   {
    "duration": 2059,
    "start_time": "2022-05-24T03:50:12.461Z"
   },
   {
    "duration": 20,
    "start_time": "2022-05-24T03:50:14.522Z"
   },
   {
    "duration": 37,
    "start_time": "2022-05-24T03:50:14.543Z"
   },
   {
    "duration": 53,
    "start_time": "2022-05-24T03:50:14.583Z"
   },
   {
    "duration": 31,
    "start_time": "2022-05-24T03:50:14.638Z"
   },
   {
    "duration": 16,
    "start_time": "2022-05-24T03:50:14.671Z"
   },
   {
    "duration": 45,
    "start_time": "2022-05-24T03:50:14.689Z"
   },
   {
    "duration": 34,
    "start_time": "2022-05-24T03:50:14.736Z"
   },
   {
    "duration": 365,
    "start_time": "2022-05-24T03:50:14.771Z"
   },
   {
    "duration": 54,
    "start_time": "2022-05-24T03:50:15.139Z"
   },
   {
    "duration": 44,
    "start_time": "2022-05-24T03:50:15.195Z"
   },
   {
    "duration": 20,
    "start_time": "2022-05-24T03:50:15.241Z"
   },
   {
    "duration": 22,
    "start_time": "2022-05-24T03:50:15.262Z"
   },
   {
    "duration": 44,
    "start_time": "2022-05-24T03:50:15.286Z"
   },
   {
    "duration": 29,
    "start_time": "2022-05-24T03:50:15.332Z"
   },
   {
    "duration": 20,
    "start_time": "2022-05-24T03:50:15.363Z"
   },
   {
    "duration": 67,
    "start_time": "2022-05-24T03:50:15.384Z"
   },
   {
    "duration": 54,
    "start_time": "2022-05-24T03:50:15.453Z"
   },
   {
    "duration": 17,
    "start_time": "2022-05-24T03:50:15.528Z"
   },
   {
    "duration": 14,
    "start_time": "2022-05-24T03:50:15.547Z"
   },
   {
    "duration": 14,
    "start_time": "2022-05-24T03:50:15.563Z"
   },
   {
    "duration": 169,
    "start_time": "2022-05-24T03:50:15.579Z"
   },
   {
    "duration": 0,
    "start_time": "2022-05-24T03:50:15.749Z"
   },
   {
    "duration": 0,
    "start_time": "2022-05-24T03:50:15.750Z"
   },
   {
    "duration": 0,
    "start_time": "2022-05-24T03:50:15.752Z"
   },
   {
    "duration": 0,
    "start_time": "2022-05-24T03:50:15.753Z"
   },
   {
    "duration": 30,
    "start_time": "2022-05-24T03:50:23.479Z"
   },
   {
    "duration": 53,
    "start_time": "2022-05-24T03:53:05.721Z"
   },
   {
    "duration": 7,
    "start_time": "2022-05-24T03:53:10.724Z"
   },
   {
    "duration": 7,
    "start_time": "2022-05-24T03:53:53.963Z"
   },
   {
    "duration": 2240,
    "start_time": "2022-05-24T03:54:00.530Z"
   },
   {
    "duration": 23,
    "start_time": "2022-05-24T03:54:02.772Z"
   },
   {
    "duration": 58,
    "start_time": "2022-05-24T03:54:02.797Z"
   },
   {
    "duration": 25,
    "start_time": "2022-05-24T03:54:02.857Z"
   },
   {
    "duration": 46,
    "start_time": "2022-05-24T03:54:02.884Z"
   },
   {
    "duration": 18,
    "start_time": "2022-05-24T03:54:02.932Z"
   },
   {
    "duration": 14,
    "start_time": "2022-05-24T03:54:02.952Z"
   },
   {
    "duration": 64,
    "start_time": "2022-05-24T03:54:02.967Z"
   },
   {
    "duration": 320,
    "start_time": "2022-05-24T03:54:03.032Z"
   },
   {
    "duration": 62,
    "start_time": "2022-05-24T03:54:03.355Z"
   },
   {
    "duration": 45,
    "start_time": "2022-05-24T03:54:03.418Z"
   },
   {
    "duration": 20,
    "start_time": "2022-05-24T03:54:03.464Z"
   },
   {
    "duration": 20,
    "start_time": "2022-05-24T03:54:03.486Z"
   },
   {
    "duration": 38,
    "start_time": "2022-05-24T03:54:03.508Z"
   },
   {
    "duration": 35,
    "start_time": "2022-05-24T03:54:03.548Z"
   },
   {
    "duration": 58,
    "start_time": "2022-05-24T03:54:03.585Z"
   },
   {
    "duration": 31,
    "start_time": "2022-05-24T03:54:03.645Z"
   },
   {
    "duration": 83,
    "start_time": "2022-05-24T03:54:03.678Z"
   },
   {
    "duration": 18,
    "start_time": "2022-05-24T03:54:03.763Z"
   },
   {
    "duration": 18,
    "start_time": "2022-05-24T03:54:03.783Z"
   },
   {
    "duration": 12,
    "start_time": "2022-05-24T03:54:03.829Z"
   },
   {
    "duration": 1470,
    "start_time": "2022-05-24T03:54:09.245Z"
   },
   {
    "duration": 21,
    "start_time": "2022-05-24T03:54:10.717Z"
   },
   {
    "duration": 35,
    "start_time": "2022-05-24T03:54:10.739Z"
   },
   {
    "duration": 23,
    "start_time": "2022-05-24T03:54:10.776Z"
   },
   {
    "duration": 51,
    "start_time": "2022-05-24T03:54:10.801Z"
   },
   {
    "duration": 14,
    "start_time": "2022-05-24T03:54:10.854Z"
   },
   {
    "duration": 18,
    "start_time": "2022-05-24T03:54:10.869Z"
   },
   {
    "duration": 59,
    "start_time": "2022-05-24T03:54:10.889Z"
   },
   {
    "duration": 339,
    "start_time": "2022-05-24T03:54:10.950Z"
   },
   {
    "duration": 65,
    "start_time": "2022-05-24T03:54:11.292Z"
   },
   {
    "duration": 46,
    "start_time": "2022-05-24T03:54:11.359Z"
   },
   {
    "duration": 20,
    "start_time": "2022-05-24T03:54:11.407Z"
   },
   {
    "duration": 19,
    "start_time": "2022-05-24T03:54:11.428Z"
   },
   {
    "duration": 16,
    "start_time": "2022-05-24T03:54:11.449Z"
   },
   {
    "duration": 28,
    "start_time": "2022-05-24T03:54:11.467Z"
   },
   {
    "duration": 41,
    "start_time": "2022-05-24T03:54:11.497Z"
   },
   {
    "duration": 27,
    "start_time": "2022-05-24T03:54:11.540Z"
   },
   {
    "duration": 88,
    "start_time": "2022-05-24T03:54:11.569Z"
   },
   {
    "duration": 18,
    "start_time": "2022-05-24T03:54:11.658Z"
   },
   {
    "duration": 13,
    "start_time": "2022-05-24T03:54:11.678Z"
   },
   {
    "duration": 45,
    "start_time": "2022-05-24T03:54:11.693Z"
   },
   {
    "duration": 127,
    "start_time": "2022-05-24T03:54:11.741Z"
   },
   {
    "duration": 25,
    "start_time": "2022-05-24T03:55:31.203Z"
   },
   {
    "duration": 24,
    "start_time": "2022-05-24T04:05:17.800Z"
   },
   {
    "duration": 17,
    "start_time": "2022-05-24T04:05:25.031Z"
   },
   {
    "duration": 22,
    "start_time": "2022-05-24T04:05:35.704Z"
   },
   {
    "duration": 23,
    "start_time": "2022-05-24T04:05:40.118Z"
   },
   {
    "duration": 60,
    "start_time": "2022-05-24T04:06:13.307Z"
   },
   {
    "duration": 2108,
    "start_time": "2022-05-24T04:06:32.552Z"
   },
   {
    "duration": 22,
    "start_time": "2022-05-24T04:06:34.663Z"
   },
   {
    "duration": 32,
    "start_time": "2022-05-24T04:06:34.687Z"
   },
   {
    "duration": 24,
    "start_time": "2022-05-24T04:06:34.721Z"
   },
   {
    "duration": 30,
    "start_time": "2022-05-24T04:06:34.747Z"
   },
   {
    "duration": 49,
    "start_time": "2022-05-24T04:06:34.779Z"
   },
   {
    "duration": 26,
    "start_time": "2022-05-24T04:06:34.830Z"
   },
   {
    "duration": 39,
    "start_time": "2022-05-24T04:06:34.857Z"
   },
   {
    "duration": 312,
    "start_time": "2022-05-24T04:06:34.898Z"
   },
   {
    "duration": 79,
    "start_time": "2022-05-24T04:06:35.212Z"
   },
   {
    "duration": 57,
    "start_time": "2022-05-24T04:06:35.292Z"
   },
   {
    "duration": 21,
    "start_time": "2022-05-24T04:06:35.351Z"
   },
   {
    "duration": 21,
    "start_time": "2022-05-24T04:06:35.373Z"
   },
   {
    "duration": 39,
    "start_time": "2022-05-24T04:06:35.397Z"
   },
   {
    "duration": 30,
    "start_time": "2022-05-24T04:06:35.437Z"
   },
   {
    "duration": 19,
    "start_time": "2022-05-24T04:06:35.469Z"
   },
   {
    "duration": 61,
    "start_time": "2022-05-24T04:06:35.489Z"
   },
   {
    "duration": 78,
    "start_time": "2022-05-24T04:06:35.551Z"
   },
   {
    "duration": 17,
    "start_time": "2022-05-24T04:06:35.630Z"
   },
   {
    "duration": 14,
    "start_time": "2022-05-24T04:06:35.649Z"
   },
   {
    "duration": 30,
    "start_time": "2022-05-24T04:06:35.664Z"
   },
   {
    "duration": 2600,
    "start_time": "2022-05-24T04:06:35.695Z"
   },
   {
    "duration": 3,
    "start_time": "2022-05-24T04:06:38.297Z"
   },
   {
    "duration": 30,
    "start_time": "2022-05-24T04:06:38.301Z"
   },
   {
    "duration": 16,
    "start_time": "2022-05-24T04:06:38.333Z"
   },
   {
    "duration": 10,
    "start_time": "2022-05-24T04:09:44.443Z"
   },
   {
    "duration": 67,
    "start_time": "2022-05-24T04:10:06.175Z"
   },
   {
    "duration": 26,
    "start_time": "2022-05-24T04:10:13.060Z"
   },
   {
    "duration": 11,
    "start_time": "2022-05-24T04:19:13.697Z"
   },
   {
    "duration": 413,
    "start_time": "2022-05-24T04:19:23.224Z"
   },
   {
    "duration": 18,
    "start_time": "2022-05-24T04:19:23.639Z"
   },
   {
    "duration": 33,
    "start_time": "2022-05-24T04:19:23.659Z"
   },
   {
    "duration": 49,
    "start_time": "2022-05-24T04:19:23.694Z"
   },
   {
    "duration": 32,
    "start_time": "2022-05-24T04:19:23.745Z"
   },
   {
    "duration": 49,
    "start_time": "2022-05-24T04:19:23.779Z"
   },
   {
    "duration": 12,
    "start_time": "2022-05-24T04:19:23.830Z"
   },
   {
    "duration": 38,
    "start_time": "2022-05-24T04:19:23.844Z"
   },
   {
    "duration": 265,
    "start_time": "2022-05-24T04:19:23.884Z"
   },
   {
    "duration": 35,
    "start_time": "2022-05-24T04:19:24.151Z"
   },
   {
    "duration": 62,
    "start_time": "2022-05-24T04:19:24.188Z"
   },
   {
    "duration": 12,
    "start_time": "2022-05-24T04:19:24.252Z"
   },
   {
    "duration": 394,
    "start_time": "2022-05-24T04:19:41.671Z"
   },
   {
    "duration": 18,
    "start_time": "2022-05-24T04:19:42.067Z"
   },
   {
    "duration": 41,
    "start_time": "2022-05-24T04:19:42.087Z"
   },
   {
    "duration": 25,
    "start_time": "2022-05-24T04:19:42.130Z"
   },
   {
    "duration": 31,
    "start_time": "2022-05-24T04:19:42.157Z"
   },
   {
    "duration": 43,
    "start_time": "2022-05-24T04:19:42.190Z"
   },
   {
    "duration": 14,
    "start_time": "2022-05-24T04:19:42.235Z"
   },
   {
    "duration": 37,
    "start_time": "2022-05-24T04:19:42.251Z"
   },
   {
    "duration": 258,
    "start_time": "2022-05-24T04:19:42.289Z"
   },
   {
    "duration": 36,
    "start_time": "2022-05-24T04:19:42.550Z"
   },
   {
    "duration": 63,
    "start_time": "2022-05-24T04:19:45.640Z"
   },
   {
    "duration": 13,
    "start_time": "2022-05-24T04:19:46.133Z"
   },
   {
    "duration": 109,
    "start_time": "2022-05-24T04:23:07.338Z"
   },
   {
    "duration": 10,
    "start_time": "2022-05-24T04:23:07.655Z"
   },
   {
    "duration": 21,
    "start_time": "2022-05-24T04:23:13.948Z"
   },
   {
    "duration": 403,
    "start_time": "2022-05-24T04:23:20.395Z"
   },
   {
    "duration": 18,
    "start_time": "2022-05-24T04:23:20.800Z"
   },
   {
    "duration": 39,
    "start_time": "2022-05-24T04:23:20.820Z"
   },
   {
    "duration": 25,
    "start_time": "2022-05-24T04:23:20.861Z"
   },
   {
    "duration": 51,
    "start_time": "2022-05-24T04:23:20.888Z"
   },
   {
    "duration": 14,
    "start_time": "2022-05-24T04:23:20.941Z"
   },
   {
    "duration": 15,
    "start_time": "2022-05-24T04:23:20.957Z"
   },
   {
    "duration": 56,
    "start_time": "2022-05-24T04:23:20.974Z"
   },
   {
    "duration": 235,
    "start_time": "2022-05-24T04:23:21.032Z"
   },
   {
    "duration": 42,
    "start_time": "2022-05-24T04:23:21.270Z"
   },
   {
    "duration": 56,
    "start_time": "2022-05-24T04:23:21.327Z"
   },
   {
    "duration": 12,
    "start_time": "2022-05-24T04:23:21.385Z"
   },
   {
    "duration": 12,
    "start_time": "2022-05-24T04:23:23.090Z"
   },
   {
    "duration": 22,
    "start_time": "2022-05-24T04:23:23.573Z"
   },
   {
    "duration": 31,
    "start_time": "2022-05-24T04:23:40.117Z"
   },
   {
    "duration": 18,
    "start_time": "2022-05-24T04:24:04.506Z"
   },
   {
    "duration": 18,
    "start_time": "2022-05-24T04:25:00.740Z"
   },
   {
    "duration": 428,
    "start_time": "2022-05-24T04:25:06.324Z"
   },
   {
    "duration": 19,
    "start_time": "2022-05-24T04:25:06.754Z"
   },
   {
    "duration": 53,
    "start_time": "2022-05-24T04:25:06.774Z"
   },
   {
    "duration": 24,
    "start_time": "2022-05-24T04:25:06.829Z"
   },
   {
    "duration": 41,
    "start_time": "2022-05-24T04:25:06.855Z"
   },
   {
    "duration": 30,
    "start_time": "2022-05-24T04:25:06.898Z"
   },
   {
    "duration": 15,
    "start_time": "2022-05-24T04:25:06.930Z"
   },
   {
    "duration": 51,
    "start_time": "2022-05-24T04:25:06.947Z"
   },
   {
    "duration": 236,
    "start_time": "2022-05-24T04:25:07.000Z"
   },
   {
    "duration": 45,
    "start_time": "2022-05-24T04:25:07.239Z"
   },
   {
    "duration": 55,
    "start_time": "2022-05-24T04:25:10.703Z"
   },
   {
    "duration": 13,
    "start_time": "2022-05-24T04:25:12.668Z"
   },
   {
    "duration": 11,
    "start_time": "2022-05-24T04:25:59.252Z"
   },
   {
    "duration": 20,
    "start_time": "2022-05-24T04:26:03.134Z"
   },
   {
    "duration": 21,
    "start_time": "2022-05-24T04:26:03.891Z"
   },
   {
    "duration": 390,
    "start_time": "2022-05-24T04:26:10.465Z"
   },
   {
    "duration": 19,
    "start_time": "2022-05-24T04:26:10.857Z"
   },
   {
    "duration": 38,
    "start_time": "2022-05-24T04:26:10.878Z"
   },
   {
    "duration": 24,
    "start_time": "2022-05-24T04:26:10.926Z"
   },
   {
    "duration": 29,
    "start_time": "2022-05-24T04:26:10.952Z"
   },
   {
    "duration": 14,
    "start_time": "2022-05-24T04:26:10.982Z"
   },
   {
    "duration": 10,
    "start_time": "2022-05-24T04:26:11.027Z"
   },
   {
    "duration": 37,
    "start_time": "2022-05-24T04:26:11.038Z"
   },
   {
    "duration": 255,
    "start_time": "2022-05-24T04:26:11.077Z"
   },
   {
    "duration": 36,
    "start_time": "2022-05-24T04:26:11.334Z"
   },
   {
    "duration": 72,
    "start_time": "2022-05-24T04:26:11.372Z"
   },
   {
    "duration": 11,
    "start_time": "2022-05-24T04:26:11.446Z"
   },
   {
    "duration": 28,
    "start_time": "2022-05-24T04:26:11.459Z"
   },
   {
    "duration": 40,
    "start_time": "2022-05-24T04:26:11.488Z"
   },
   {
    "duration": 12,
    "start_time": "2022-05-24T04:26:34.031Z"
   },
   {
    "duration": 417,
    "start_time": "2022-05-24T04:27:00.991Z"
   },
   {
    "duration": 18,
    "start_time": "2022-05-24T04:27:01.410Z"
   },
   {
    "duration": 58,
    "start_time": "2022-05-24T04:27:01.429Z"
   },
   {
    "duration": 25,
    "start_time": "2022-05-24T04:27:01.489Z"
   },
   {
    "duration": 36,
    "start_time": "2022-05-24T04:27:01.516Z"
   },
   {
    "duration": 16,
    "start_time": "2022-05-24T04:27:01.554Z"
   },
   {
    "duration": 17,
    "start_time": "2022-05-24T04:27:01.572Z"
   },
   {
    "duration": 63,
    "start_time": "2022-05-24T04:27:01.591Z"
   },
   {
    "duration": 276,
    "start_time": "2022-05-24T04:27:01.656Z"
   },
   {
    "duration": 46,
    "start_time": "2022-05-24T04:27:01.935Z"
   },
   {
    "duration": 81,
    "start_time": "2022-05-24T04:27:01.983Z"
   },
   {
    "duration": 11,
    "start_time": "2022-05-24T04:27:02.066Z"
   },
   {
    "duration": 19,
    "start_time": "2022-05-24T04:27:02.078Z"
   },
   {
    "duration": 36,
    "start_time": "2022-05-24T04:27:02.099Z"
   },
   {
    "duration": 12,
    "start_time": "2022-05-24T04:27:03.828Z"
   },
   {
    "duration": 22,
    "start_time": "2022-05-24T04:27:26.212Z"
   },
   {
    "duration": 19,
    "start_time": "2022-05-24T04:27:54.792Z"
   },
   {
    "duration": 41,
    "start_time": "2022-05-24T04:28:33.272Z"
   },
   {
    "duration": 22,
    "start_time": "2022-05-24T04:28:38.238Z"
   },
   {
    "duration": 37,
    "start_time": "2022-05-24T04:30:05.903Z"
   },
   {
    "duration": 79,
    "start_time": "2022-05-24T04:30:39.784Z"
   },
   {
    "duration": 20,
    "start_time": "2022-05-24T04:30:52.667Z"
   },
   {
    "duration": 12,
    "start_time": "2022-05-24T04:31:04.304Z"
   },
   {
    "duration": 14,
    "start_time": "2022-05-24T04:31:35.788Z"
   },
   {
    "duration": 364,
    "start_time": "2022-05-24T04:31:52.214Z"
   },
   {
    "duration": 18,
    "start_time": "2022-05-24T04:31:52.580Z"
   },
   {
    "duration": 40,
    "start_time": "2022-05-24T04:31:52.599Z"
   },
   {
    "duration": 25,
    "start_time": "2022-05-24T04:31:52.641Z"
   },
   {
    "duration": 28,
    "start_time": "2022-05-24T04:31:52.668Z"
   },
   {
    "duration": 16,
    "start_time": "2022-05-24T04:31:52.726Z"
   },
   {
    "duration": 17,
    "start_time": "2022-05-24T04:31:52.743Z"
   },
   {
    "duration": 33,
    "start_time": "2022-05-24T04:31:52.762Z"
   },
   {
    "duration": 238,
    "start_time": "2022-05-24T04:31:52.797Z"
   },
   {
    "duration": 35,
    "start_time": "2022-05-24T04:31:53.038Z"
   },
   {
    "duration": 71,
    "start_time": "2022-05-24T04:31:53.075Z"
   },
   {
    "duration": 11,
    "start_time": "2022-05-24T04:31:53.147Z"
   },
   {
    "duration": 23,
    "start_time": "2022-05-24T04:31:53.159Z"
   },
   {
    "duration": 14,
    "start_time": "2022-05-24T04:31:53.183Z"
   },
   {
    "duration": 44,
    "start_time": "2022-05-24T04:31:53.198Z"
   },
   {
    "duration": 41,
    "start_time": "2022-05-24T04:31:53.244Z"
   },
   {
    "duration": 43,
    "start_time": "2022-05-24T04:31:53.287Z"
   },
   {
    "duration": 30,
    "start_time": "2022-05-24T04:31:53.332Z"
   },
   {
    "duration": 97,
    "start_time": "2022-05-24T04:31:53.363Z"
   },
   {
    "duration": 10,
    "start_time": "2022-05-24T04:31:53.461Z"
   },
   {
    "duration": 15,
    "start_time": "2022-05-24T04:31:53.472Z"
   },
   {
    "duration": 39,
    "start_time": "2022-05-24T04:31:53.489Z"
   },
   {
    "duration": 15,
    "start_time": "2022-05-24T04:32:00.905Z"
   },
   {
    "duration": 17,
    "start_time": "2022-05-24T04:34:05.260Z"
   },
   {
    "duration": 32,
    "start_time": "2022-05-24T04:34:33.541Z"
   },
   {
    "duration": 2618,
    "start_time": "2022-05-24T04:34:59.210Z"
   },
   {
    "duration": 28,
    "start_time": "2022-05-24T04:35:01.830Z"
   },
   {
    "duration": 33,
    "start_time": "2022-05-24T04:35:01.860Z"
   },
   {
    "duration": 47,
    "start_time": "2022-05-24T04:35:01.895Z"
   },
   {
    "duration": 45,
    "start_time": "2022-05-24T04:35:01.945Z"
   },
   {
    "duration": 47,
    "start_time": "2022-05-24T04:35:01.992Z"
   },
   {
    "duration": 30,
    "start_time": "2022-05-24T04:35:02.040Z"
   },
   {
    "duration": 67,
    "start_time": "2022-05-24T04:35:02.072Z"
   },
   {
    "duration": 361,
    "start_time": "2022-05-24T04:35:02.141Z"
   },
   {
    "duration": 36,
    "start_time": "2022-05-24T04:35:02.503Z"
   },
   {
    "duration": 111,
    "start_time": "2022-05-24T04:35:02.541Z"
   },
   {
    "duration": 12,
    "start_time": "2022-05-24T04:35:02.654Z"
   },
   {
    "duration": 22,
    "start_time": "2022-05-24T04:35:02.668Z"
   },
   {
    "duration": 11,
    "start_time": "2022-05-24T04:35:02.692Z"
   },
   {
    "duration": 37,
    "start_time": "2022-05-24T04:35:02.705Z"
   },
   {
    "duration": 40,
    "start_time": "2022-05-24T04:35:02.744Z"
   },
   {
    "duration": 42,
    "start_time": "2022-05-24T04:35:02.786Z"
   },
   {
    "duration": 29,
    "start_time": "2022-05-24T04:35:02.830Z"
   },
   {
    "duration": 93,
    "start_time": "2022-05-24T04:35:02.861Z"
   },
   {
    "duration": 9,
    "start_time": "2022-05-24T04:35:02.956Z"
   },
   {
    "duration": 61,
    "start_time": "2022-05-24T04:35:02.966Z"
   },
   {
    "duration": 16,
    "start_time": "2022-05-24T04:35:03.029Z"
   },
   {
    "duration": 27,
    "start_time": "2022-05-24T04:35:32.212Z"
   },
   {
    "duration": 21,
    "start_time": "2022-05-24T04:35:43.678Z"
   },
   {
    "duration": 23,
    "start_time": "2022-05-24T04:36:26.604Z"
   },
   {
    "duration": 22,
    "start_time": "2022-05-24T04:36:54.668Z"
   },
   {
    "duration": 21,
    "start_time": "2022-05-24T04:37:59.120Z"
   },
   {
    "duration": 33,
    "start_time": "2022-05-24T04:38:02.469Z"
   },
   {
    "duration": 140,
    "start_time": "2022-05-24T04:38:24.774Z"
   },
   {
    "duration": 31,
    "start_time": "2022-05-24T04:38:36.884Z"
   },
   {
    "duration": 37,
    "start_time": "2022-05-24T04:39:31.403Z"
   },
   {
    "duration": 34,
    "start_time": "2022-05-24T04:40:00.914Z"
   },
   {
    "duration": 438,
    "start_time": "2022-05-24T04:44:08.072Z"
   },
   {
    "duration": 19,
    "start_time": "2022-05-24T04:44:08.644Z"
   },
   {
    "duration": 15,
    "start_time": "2022-05-24T04:45:19.858Z"
   },
   {
    "duration": 407,
    "start_time": "2022-05-24T04:45:33.710Z"
   },
   {
    "duration": 18,
    "start_time": "2022-05-24T04:45:34.118Z"
   },
   {
    "duration": 37,
    "start_time": "2022-05-24T04:45:34.138Z"
   },
   {
    "duration": 24,
    "start_time": "2022-05-24T04:45:34.177Z"
   },
   {
    "duration": 29,
    "start_time": "2022-05-24T04:45:34.227Z"
   },
   {
    "duration": 14,
    "start_time": "2022-05-24T04:45:34.258Z"
   },
   {
    "duration": 22,
    "start_time": "2022-05-24T04:45:34.273Z"
   },
   {
    "duration": 58,
    "start_time": "2022-05-24T04:45:34.297Z"
   },
   {
    "duration": 234,
    "start_time": "2022-05-24T04:45:34.357Z"
   },
   {
    "duration": 44,
    "start_time": "2022-05-24T04:45:34.593Z"
   },
   {
    "duration": 53,
    "start_time": "2022-05-24T04:45:34.638Z"
   },
   {
    "duration": 11,
    "start_time": "2022-05-24T04:45:34.693Z"
   },
   {
    "duration": 38,
    "start_time": "2022-05-24T04:45:34.706Z"
   },
   {
    "duration": 25,
    "start_time": "2022-05-24T04:45:34.746Z"
   },
   {
    "duration": 30,
    "start_time": "2022-05-24T04:45:34.773Z"
   },
   {
    "duration": 59,
    "start_time": "2022-05-24T04:45:34.805Z"
   },
   {
    "duration": 36,
    "start_time": "2022-05-24T04:45:34.866Z"
   },
   {
    "duration": 46,
    "start_time": "2022-05-24T04:45:34.904Z"
   },
   {
    "duration": 106,
    "start_time": "2022-05-24T04:45:34.952Z"
   },
   {
    "duration": 11,
    "start_time": "2022-05-24T04:45:35.060Z"
   },
   {
    "duration": 15,
    "start_time": "2022-05-24T04:45:35.073Z"
   },
   {
    "duration": 42,
    "start_time": "2022-05-24T04:45:35.090Z"
   },
   {
    "duration": 43,
    "start_time": "2022-05-24T04:45:39.078Z"
   },
   {
    "duration": 42,
    "start_time": "2022-05-24T04:47:08.089Z"
   },
   {
    "duration": 50,
    "start_time": "2022-05-24T04:47:26.190Z"
   },
   {
    "duration": 36,
    "start_time": "2022-05-24T04:47:34.165Z"
   },
   {
    "duration": 43,
    "start_time": "2022-05-24T04:48:04.399Z"
   },
   {
    "duration": 114,
    "start_time": "2022-05-24T04:48:11.373Z"
   },
   {
    "duration": 106,
    "start_time": "2022-05-24T04:48:27.745Z"
   },
   {
    "duration": 42,
    "start_time": "2022-05-24T04:49:37.316Z"
   },
   {
    "duration": 46,
    "start_time": "2022-05-24T04:49:52.352Z"
   },
   {
    "duration": 59,
    "start_time": "2022-05-24T04:50:14.001Z"
   },
   {
    "duration": 47,
    "start_time": "2022-05-24T04:50:49.646Z"
   },
   {
    "duration": 24,
    "start_time": "2022-05-24T04:50:54.538Z"
   },
   {
    "duration": 26,
    "start_time": "2022-05-24T04:54:10.218Z"
   },
   {
    "duration": 34,
    "start_time": "2022-05-24T04:54:27.675Z"
   },
   {
    "duration": 34,
    "start_time": "2022-05-24T04:56:20.895Z"
   },
   {
    "duration": 35,
    "start_time": "2022-05-24T04:58:27.387Z"
   },
   {
    "duration": 341,
    "start_time": "2022-05-24T04:58:39.955Z"
   },
   {
    "duration": 25,
    "start_time": "2022-05-24T04:58:47.066Z"
   },
   {
    "duration": 24,
    "start_time": "2022-05-24T04:59:11.205Z"
   },
   {
    "duration": 22,
    "start_time": "2022-05-24T04:59:18.639Z"
   },
   {
    "duration": 21,
    "start_time": "2022-05-24T04:59:23.118Z"
   },
   {
    "duration": 38,
    "start_time": "2022-05-24T05:00:40.081Z"
   },
   {
    "duration": 23,
    "start_time": "2022-05-24T05:00:51.519Z"
   },
   {
    "duration": 25,
    "start_time": "2022-05-24T05:00:58.911Z"
   },
   {
    "duration": 30,
    "start_time": "2022-05-24T05:01:53.840Z"
   },
   {
    "duration": 39,
    "start_time": "2022-05-24T05:02:00.708Z"
   },
   {
    "duration": 14,
    "start_time": "2022-05-24T05:04:20.686Z"
   },
   {
    "duration": 20,
    "start_time": "2022-05-24T05:04:28.624Z"
   },
   {
    "duration": 15,
    "start_time": "2022-05-24T05:05:59.317Z"
   },
   {
    "duration": 30,
    "start_time": "2022-05-24T05:06:47.416Z"
   },
   {
    "duration": 27,
    "start_time": "2022-05-24T05:06:53.692Z"
   },
   {
    "duration": 22,
    "start_time": "2022-05-24T05:06:59.935Z"
   },
   {
    "duration": 21,
    "start_time": "2022-05-24T05:07:28.843Z"
   },
   {
    "duration": 20,
    "start_time": "2022-05-24T05:07:36.463Z"
   },
   {
    "duration": 27,
    "start_time": "2022-05-24T05:08:32.648Z"
   },
   {
    "duration": 26,
    "start_time": "2022-05-24T05:08:59.022Z"
   },
   {
    "duration": 28,
    "start_time": "2022-05-24T05:09:41.424Z"
   },
   {
    "duration": 25,
    "start_time": "2022-05-24T05:10:00.879Z"
   },
   {
    "duration": 18,
    "start_time": "2022-05-24T05:10:36.726Z"
   },
   {
    "duration": 397,
    "start_time": "2022-05-24T05:14:47.270Z"
   },
   {
    "duration": 375,
    "start_time": "2022-05-24T05:14:56.593Z"
   },
   {
    "duration": 18,
    "start_time": "2022-05-24T05:14:56.970Z"
   },
   {
    "duration": 42,
    "start_time": "2022-05-24T05:14:56.990Z"
   },
   {
    "duration": 27,
    "start_time": "2022-05-24T05:14:57.034Z"
   },
   {
    "duration": 29,
    "start_time": "2022-05-24T05:14:57.063Z"
   },
   {
    "duration": 47,
    "start_time": "2022-05-24T05:14:57.094Z"
   },
   {
    "duration": 16,
    "start_time": "2022-05-24T05:14:57.143Z"
   },
   {
    "duration": 68,
    "start_time": "2022-05-24T05:14:57.161Z"
   },
   {
    "duration": 287,
    "start_time": "2022-05-24T05:14:57.231Z"
   },
   {
    "duration": 35,
    "start_time": "2022-05-24T05:14:57.521Z"
   },
   {
    "duration": 86,
    "start_time": "2022-05-24T05:14:57.558Z"
   },
   {
    "duration": 11,
    "start_time": "2022-05-24T05:14:57.646Z"
   },
   {
    "duration": 21,
    "start_time": "2022-05-24T05:14:57.659Z"
   },
   {
    "duration": 10,
    "start_time": "2022-05-24T05:14:57.681Z"
   },
   {
    "duration": 43,
    "start_time": "2022-05-24T05:14:57.693Z"
   },
   {
    "duration": 49,
    "start_time": "2022-05-24T05:14:57.738Z"
   },
   {
    "duration": 50,
    "start_time": "2022-05-24T05:14:57.788Z"
   },
   {
    "duration": 32,
    "start_time": "2022-05-24T05:14:57.840Z"
   },
   {
    "duration": 104,
    "start_time": "2022-05-24T05:14:57.874Z"
   },
   {
    "duration": 10,
    "start_time": "2022-05-24T05:14:57.980Z"
   },
   {
    "duration": 19,
    "start_time": "2022-05-24T05:14:57.992Z"
   },
   {
    "duration": 11,
    "start_time": "2022-05-24T05:15:01.624Z"
   },
   {
    "duration": 8,
    "start_time": "2022-05-24T05:15:17.014Z"
   },
   {
    "duration": 21,
    "start_time": "2022-05-24T05:15:21.503Z"
   },
   {
    "duration": 60,
    "start_time": "2022-05-24T05:16:09.230Z"
   },
   {
    "duration": 45,
    "start_time": "2022-05-24T05:16:18.727Z"
   },
   {
    "duration": 7,
    "start_time": "2022-05-24T05:22:21.691Z"
   },
   {
    "duration": 14,
    "start_time": "2022-05-24T05:22:30.257Z"
   },
   {
    "duration": 15,
    "start_time": "2022-05-24T05:23:09.696Z"
   },
   {
    "duration": 17,
    "start_time": "2022-05-24T05:23:44.664Z"
   },
   {
    "duration": 30,
    "start_time": "2022-05-24T05:25:05.985Z"
   },
   {
    "duration": 33,
    "start_time": "2022-05-24T05:25:19.557Z"
   },
   {
    "duration": 27,
    "start_time": "2022-05-24T05:27:37.734Z"
   },
   {
    "duration": 30,
    "start_time": "2022-05-24T05:27:53.604Z"
   },
   {
    "duration": 27,
    "start_time": "2022-05-24T05:28:14.569Z"
   },
   {
    "duration": 29,
    "start_time": "2022-05-24T05:30:39.120Z"
   },
   {
    "duration": 41,
    "start_time": "2022-05-24T05:30:46.755Z"
   },
   {
    "duration": 29,
    "start_time": "2022-05-24T05:30:53.407Z"
   },
   {
    "duration": 27,
    "start_time": "2022-05-24T05:30:59.971Z"
   },
   {
    "duration": 20,
    "start_time": "2022-05-24T05:31:13.167Z"
   },
   {
    "duration": 27,
    "start_time": "2022-05-24T05:31:25.780Z"
   },
   {
    "duration": 23,
    "start_time": "2022-05-24T05:32:16.069Z"
   },
   {
    "duration": 21,
    "start_time": "2022-05-24T05:32:24.421Z"
   },
   {
    "duration": 22,
    "start_time": "2022-05-24T05:32:39.069Z"
   },
   {
    "duration": 12,
    "start_time": "2022-05-24T05:32:45.099Z"
   },
   {
    "duration": 16,
    "start_time": "2022-05-24T05:32:48.719Z"
   },
   {
    "duration": 31,
    "start_time": "2022-05-24T05:33:54.819Z"
   },
   {
    "duration": 14,
    "start_time": "2022-05-24T05:34:45.658Z"
   },
   {
    "duration": 28,
    "start_time": "2022-05-24T05:34:57.767Z"
   },
   {
    "duration": 10,
    "start_time": "2022-05-24T05:35:22.215Z"
   },
   {
    "duration": 30,
    "start_time": "2022-05-24T05:35:28.951Z"
   },
   {
    "duration": 8,
    "start_time": "2022-05-24T05:35:43.873Z"
   },
   {
    "duration": 19,
    "start_time": "2022-05-24T05:35:52.975Z"
   },
   {
    "duration": 18,
    "start_time": "2022-05-24T05:36:04.632Z"
   },
   {
    "duration": 25,
    "start_time": "2022-05-24T05:36:10.948Z"
   },
   {
    "duration": 22,
    "start_time": "2022-05-24T05:36:32.774Z"
   },
   {
    "duration": 19,
    "start_time": "2022-05-24T05:36:47.561Z"
   },
   {
    "duration": 42,
    "start_time": "2022-05-24T05:36:56.310Z"
   },
   {
    "duration": 23,
    "start_time": "2022-05-24T05:37:06.007Z"
   },
   {
    "duration": 23,
    "start_time": "2022-05-24T05:37:17.374Z"
   },
   {
    "duration": 24,
    "start_time": "2022-05-24T05:38:16.769Z"
   },
   {
    "duration": 28,
    "start_time": "2022-05-24T05:38:36.344Z"
   },
   {
    "duration": 21,
    "start_time": "2022-05-24T05:39:32.415Z"
   },
   {
    "duration": 24,
    "start_time": "2022-05-24T05:39:44.328Z"
   },
   {
    "duration": 30,
    "start_time": "2022-05-24T05:40:13.326Z"
   },
   {
    "duration": 37,
    "start_time": "2022-05-24T05:40:42.849Z"
   },
   {
    "duration": 22,
    "start_time": "2022-05-24T05:41:07.487Z"
   },
   {
    "duration": 26,
    "start_time": "2022-05-24T05:41:13.696Z"
   },
   {
    "duration": 22,
    "start_time": "2022-05-24T05:41:21.098Z"
   },
   {
    "duration": 22,
    "start_time": "2022-05-24T05:41:35.319Z"
   },
   {
    "duration": 26,
    "start_time": "2022-05-24T05:42:12.261Z"
   },
   {
    "duration": 25,
    "start_time": "2022-05-24T05:42:17.037Z"
   },
   {
    "duration": 24,
    "start_time": "2022-05-24T05:42:17.515Z"
   },
   {
    "duration": 32,
    "start_time": "2022-05-24T05:42:17.732Z"
   },
   {
    "duration": 32,
    "start_time": "2022-05-24T05:42:17.909Z"
   },
   {
    "duration": 38,
    "start_time": "2022-05-24T05:42:23.779Z"
   },
   {
    "duration": 31,
    "start_time": "2022-05-24T05:42:45.741Z"
   },
   {
    "duration": 39,
    "start_time": "2022-05-24T05:49:35.080Z"
   },
   {
    "duration": 27,
    "start_time": "2022-05-24T05:49:44.130Z"
   },
   {
    "duration": 81,
    "start_time": "2022-05-24T05:50:38.272Z"
   },
   {
    "duration": 69,
    "start_time": "2022-05-24T05:51:41.190Z"
   },
   {
    "duration": 80,
    "start_time": "2022-05-24T05:51:53.906Z"
   },
   {
    "duration": 5,
    "start_time": "2022-05-24T05:51:55.193Z"
   },
   {
    "duration": 460,
    "start_time": "2022-05-24T05:55:40.796Z"
   },
   {
    "duration": 372,
    "start_time": "2022-05-24T05:55:47.525Z"
   },
   {
    "duration": 16,
    "start_time": "2022-05-24T05:55:47.899Z"
   },
   {
    "duration": 36,
    "start_time": "2022-05-24T05:55:47.916Z"
   },
   {
    "duration": 22,
    "start_time": "2022-05-24T05:55:47.954Z"
   },
   {
    "duration": 25,
    "start_time": "2022-05-24T05:55:47.978Z"
   },
   {
    "duration": 35,
    "start_time": "2022-05-24T05:55:48.005Z"
   },
   {
    "duration": 9,
    "start_time": "2022-05-24T05:55:48.041Z"
   },
   {
    "duration": 32,
    "start_time": "2022-05-24T05:55:48.052Z"
   },
   {
    "duration": 373,
    "start_time": "2022-05-24T05:56:05.596Z"
   },
   {
    "duration": 17,
    "start_time": "2022-05-24T05:56:05.971Z"
   },
   {
    "duration": 34,
    "start_time": "2022-05-24T05:56:05.989Z"
   },
   {
    "duration": 25,
    "start_time": "2022-05-24T05:56:06.027Z"
   },
   {
    "duration": 27,
    "start_time": "2022-05-24T05:56:06.054Z"
   },
   {
    "duration": 46,
    "start_time": "2022-05-24T05:56:06.083Z"
   },
   {
    "duration": 13,
    "start_time": "2022-05-24T05:56:06.131Z"
   },
   {
    "duration": 33,
    "start_time": "2022-05-24T05:56:06.146Z"
   },
   {
    "duration": 299,
    "start_time": "2022-05-24T05:56:06.181Z"
   },
   {
    "duration": 32,
    "start_time": "2022-05-24T05:56:06.481Z"
   },
   {
    "duration": 61,
    "start_time": "2022-05-24T05:56:06.515Z"
   },
   {
    "duration": 11,
    "start_time": "2022-05-24T05:56:06.578Z"
   },
   {
    "duration": 45,
    "start_time": "2022-05-24T05:56:06.591Z"
   },
   {
    "duration": 11,
    "start_time": "2022-05-24T05:56:06.639Z"
   },
   {
    "duration": 16,
    "start_time": "2022-05-24T05:56:06.652Z"
   },
   {
    "duration": 68,
    "start_time": "2022-05-24T05:56:06.670Z"
   },
   {
    "duration": 33,
    "start_time": "2022-05-24T05:56:06.739Z"
   },
   {
    "duration": 54,
    "start_time": "2022-05-24T05:56:06.774Z"
   },
   {
    "duration": 97,
    "start_time": "2022-05-24T05:56:06.830Z"
   },
   {
    "duration": 11,
    "start_time": "2022-05-24T05:56:06.929Z"
   },
   {
    "duration": 17,
    "start_time": "2022-05-24T05:56:06.942Z"
   },
   {
    "duration": 12,
    "start_time": "2022-05-24T05:56:06.961Z"
   },
   {
    "duration": 112,
    "start_time": "2022-05-24T05:56:06.975Z"
   },
   {
    "duration": 4,
    "start_time": "2022-05-24T05:56:07.088Z"
   },
   {
    "duration": 14,
    "start_time": "2022-05-24T05:56:07.094Z"
   },
   {
    "duration": 70,
    "start_time": "2022-05-24T05:56:55.867Z"
   },
   {
    "duration": 12,
    "start_time": "2022-05-24T05:57:14.300Z"
   },
   {
    "duration": 5,
    "start_time": "2022-05-24T05:57:15.972Z"
   },
   {
    "duration": 391,
    "start_time": "2022-05-24T05:59:17.511Z"
   },
   {
    "duration": 18,
    "start_time": "2022-05-24T05:59:17.904Z"
   },
   {
    "duration": 36,
    "start_time": "2022-05-24T05:59:17.924Z"
   },
   {
    "duration": 26,
    "start_time": "2022-05-24T05:59:17.963Z"
   },
   {
    "duration": 56,
    "start_time": "2022-05-24T05:59:17.991Z"
   },
   {
    "duration": 14,
    "start_time": "2022-05-24T05:59:18.049Z"
   },
   {
    "duration": 12,
    "start_time": "2022-05-24T05:59:18.064Z"
   },
   {
    "duration": 65,
    "start_time": "2022-05-24T05:59:18.078Z"
   },
   {
    "duration": 226,
    "start_time": "2022-05-24T05:59:18.144Z"
   },
   {
    "duration": 34,
    "start_time": "2022-05-24T05:59:18.374Z"
   },
   {
    "duration": 67,
    "start_time": "2022-05-24T05:59:18.410Z"
   },
   {
    "duration": 12,
    "start_time": "2022-05-24T05:59:18.478Z"
   },
   {
    "duration": 44,
    "start_time": "2022-05-24T05:59:18.492Z"
   },
   {
    "duration": 11,
    "start_time": "2022-05-24T05:59:18.538Z"
   },
   {
    "duration": 22,
    "start_time": "2022-05-24T05:59:18.551Z"
   },
   {
    "duration": 70,
    "start_time": "2022-05-24T05:59:18.575Z"
   },
   {
    "duration": 31,
    "start_time": "2022-05-24T05:59:18.647Z"
   },
   {
    "duration": 49,
    "start_time": "2022-05-24T05:59:18.680Z"
   },
   {
    "duration": 78,
    "start_time": "2022-05-24T05:59:18.731Z"
   },
   {
    "duration": 10,
    "start_time": "2022-05-24T05:59:18.828Z"
   },
   {
    "duration": 15,
    "start_time": "2022-05-24T05:59:18.839Z"
   },
   {
    "duration": 107,
    "start_time": "2022-05-24T05:59:31.262Z"
   },
   {
    "duration": 386,
    "start_time": "2022-05-24T05:59:55.129Z"
   },
   {
    "duration": 378,
    "start_time": "2022-05-24T06:00:04.053Z"
   },
   {
    "duration": 16,
    "start_time": "2022-05-24T06:00:04.433Z"
   },
   {
    "duration": 46,
    "start_time": "2022-05-24T06:00:04.451Z"
   },
   {
    "duration": 39,
    "start_time": "2022-05-24T06:00:04.501Z"
   },
   {
    "duration": 27,
    "start_time": "2022-05-24T06:00:04.542Z"
   },
   {
    "duration": 16,
    "start_time": "2022-05-24T06:00:04.571Z"
   },
   {
    "duration": 44,
    "start_time": "2022-05-24T06:00:04.589Z"
   },
   {
    "duration": 31,
    "start_time": "2022-05-24T06:00:04.635Z"
   },
   {
    "duration": 250,
    "start_time": "2022-05-24T06:00:04.668Z"
   },
   {
    "duration": 32,
    "start_time": "2022-05-24T06:00:04.926Z"
   },
   {
    "duration": 71,
    "start_time": "2022-05-24T06:00:04.960Z"
   },
   {
    "duration": 12,
    "start_time": "2022-05-24T06:00:05.032Z"
   },
   {
    "duration": 20,
    "start_time": "2022-05-24T06:00:05.045Z"
   },
   {
    "duration": 11,
    "start_time": "2022-05-24T06:00:05.067Z"
   },
   {
    "duration": 47,
    "start_time": "2022-05-24T06:00:05.080Z"
   },
   {
    "duration": 42,
    "start_time": "2022-05-24T06:00:05.129Z"
   },
   {
    "duration": 33,
    "start_time": "2022-05-24T06:00:05.173Z"
   },
   {
    "duration": 31,
    "start_time": "2022-05-24T06:00:05.227Z"
   },
   {
    "duration": 116,
    "start_time": "2022-05-24T06:00:05.259Z"
   },
   {
    "duration": 12,
    "start_time": "2022-05-24T06:00:05.376Z"
   },
   {
    "duration": 14,
    "start_time": "2022-05-24T06:00:05.390Z"
   },
   {
    "duration": 6,
    "start_time": "2022-05-24T06:00:06.980Z"
   },
   {
    "duration": 419,
    "start_time": "2022-05-24T06:03:57.896Z"
   },
   {
    "duration": 36,
    "start_time": "2022-05-24T06:06:18.060Z"
   },
   {
    "duration": 46,
    "start_time": "2022-05-24T06:06:47.398Z"
   },
   {
    "duration": 37,
    "start_time": "2022-05-24T06:06:56.605Z"
   },
   {
    "duration": 29,
    "start_time": "2022-05-24T06:07:07.947Z"
   },
   {
    "duration": 693,
    "start_time": "2022-05-24T06:07:30.081Z"
   },
   {
    "duration": 453,
    "start_time": "2022-05-24T06:07:50.802Z"
   },
   {
    "duration": 18,
    "start_time": "2022-05-24T06:07:51.257Z"
   },
   {
    "duration": 41,
    "start_time": "2022-05-24T06:07:51.277Z"
   },
   {
    "duration": 40,
    "start_time": "2022-05-24T06:07:51.320Z"
   },
   {
    "duration": 34,
    "start_time": "2022-05-24T06:07:51.361Z"
   },
   {
    "duration": 50,
    "start_time": "2022-05-24T06:07:51.396Z"
   },
   {
    "duration": 15,
    "start_time": "2022-05-24T06:07:51.449Z"
   },
   {
    "duration": 65,
    "start_time": "2022-05-24T06:07:51.466Z"
   },
   {
    "duration": 270,
    "start_time": "2022-05-24T06:07:51.532Z"
   },
   {
    "duration": 42,
    "start_time": "2022-05-24T06:07:51.805Z"
   },
   {
    "duration": 93,
    "start_time": "2022-05-24T06:07:51.849Z"
   },
   {
    "duration": 16,
    "start_time": "2022-05-24T06:07:51.944Z"
   },
   {
    "duration": 19,
    "start_time": "2022-05-24T06:07:51.962Z"
   },
   {
    "duration": 45,
    "start_time": "2022-05-24T06:07:51.983Z"
   },
   {
    "duration": 30,
    "start_time": "2022-05-24T06:07:52.031Z"
   },
   {
    "duration": 74,
    "start_time": "2022-05-24T06:07:52.063Z"
   },
   {
    "duration": 38,
    "start_time": "2022-05-24T06:07:52.139Z"
   },
   {
    "duration": 57,
    "start_time": "2022-05-24T06:07:52.179Z"
   },
   {
    "duration": 231,
    "start_time": "2022-05-24T06:07:52.238Z"
   },
   {
    "duration": 11,
    "start_time": "2022-05-24T06:07:52.472Z"
   },
   {
    "duration": 43,
    "start_time": "2022-05-24T06:07:52.484Z"
   },
   {
    "duration": 8,
    "start_time": "2022-05-24T06:07:56.190Z"
   },
   {
    "duration": 440,
    "start_time": "2022-05-24T06:08:11.946Z"
   },
   {
    "duration": 18,
    "start_time": "2022-05-24T06:08:12.388Z"
   },
   {
    "duration": 56,
    "start_time": "2022-05-24T06:08:12.408Z"
   },
   {
    "duration": 25,
    "start_time": "2022-05-24T06:08:12.466Z"
   },
   {
    "duration": 68,
    "start_time": "2022-05-24T06:08:12.493Z"
   },
   {
    "duration": 14,
    "start_time": "2022-05-24T06:08:12.562Z"
   },
   {
    "duration": 17,
    "start_time": "2022-05-24T06:08:12.578Z"
   },
   {
    "duration": 75,
    "start_time": "2022-05-24T06:08:12.597Z"
   },
   {
    "duration": 266,
    "start_time": "2022-05-24T06:08:12.675Z"
   },
   {
    "duration": 34,
    "start_time": "2022-05-24T06:08:12.943Z"
   },
   {
    "duration": 86,
    "start_time": "2022-05-24T06:08:12.979Z"
   },
   {
    "duration": 11,
    "start_time": "2022-05-24T06:08:13.067Z"
   },
   {
    "duration": 20,
    "start_time": "2022-05-24T06:08:13.080Z"
   },
   {
    "duration": 17,
    "start_time": "2022-05-24T06:08:13.126Z"
   },
   {
    "duration": 35,
    "start_time": "2022-05-24T06:08:13.145Z"
   },
   {
    "duration": 68,
    "start_time": "2022-05-24T06:08:13.182Z"
   },
   {
    "duration": 40,
    "start_time": "2022-05-24T06:08:13.253Z"
   },
   {
    "duration": 62,
    "start_time": "2022-05-24T06:08:13.295Z"
   },
   {
    "duration": 108,
    "start_time": "2022-05-24T06:08:13.359Z"
   },
   {
    "duration": 11,
    "start_time": "2022-05-24T06:08:13.469Z"
   },
   {
    "duration": 14,
    "start_time": "2022-05-24T06:08:13.482Z"
   },
   {
    "duration": 16,
    "start_time": "2022-05-24T06:08:18.674Z"
   },
   {
    "duration": 1634,
    "start_time": "2022-05-24T06:08:32.846Z"
   },
   {
    "duration": 24,
    "start_time": "2022-05-24T06:08:34.482Z"
   },
   {
    "duration": 42,
    "start_time": "2022-05-24T06:08:34.508Z"
   },
   {
    "duration": 24,
    "start_time": "2022-05-24T06:08:34.552Z"
   },
   {
    "duration": 55,
    "start_time": "2022-05-24T06:08:34.579Z"
   },
   {
    "duration": 19,
    "start_time": "2022-05-24T06:08:34.636Z"
   },
   {
    "duration": 13,
    "start_time": "2022-05-24T06:08:34.657Z"
   },
   {
    "duration": 65,
    "start_time": "2022-05-24T06:08:34.672Z"
   },
   {
    "duration": 267,
    "start_time": "2022-05-24T06:08:34.739Z"
   },
   {
    "duration": 56,
    "start_time": "2022-05-24T06:08:35.008Z"
   },
   {
    "duration": 86,
    "start_time": "2022-05-24T06:08:35.065Z"
   },
   {
    "duration": 20,
    "start_time": "2022-05-24T06:08:35.153Z"
   },
   {
    "duration": 19,
    "start_time": "2022-05-24T06:08:35.174Z"
   },
   {
    "duration": 41,
    "start_time": "2022-05-24T06:08:35.196Z"
   },
   {
    "duration": 21,
    "start_time": "2022-05-24T06:08:35.239Z"
   },
   {
    "duration": 139,
    "start_time": "2022-05-24T06:08:35.262Z"
   },
   {
    "duration": 51,
    "start_time": "2022-05-24T06:08:35.403Z"
   },
   {
    "duration": 27,
    "start_time": "2022-05-24T06:08:35.456Z"
   },
   {
    "duration": 108,
    "start_time": "2022-05-24T06:08:35.484Z"
   },
   {
    "duration": 9,
    "start_time": "2022-05-24T06:08:35.594Z"
   },
   {
    "duration": 43,
    "start_time": "2022-05-24T06:08:35.604Z"
   },
   {
    "duration": 14,
    "start_time": "2022-05-24T06:08:35.649Z"
   },
   {
    "duration": 108,
    "start_time": "2022-05-24T06:08:35.664Z"
   },
   {
    "duration": 11,
    "start_time": "2022-05-24T06:08:35.774Z"
   },
   {
    "duration": 6,
    "start_time": "2022-05-24T06:08:35.787Z"
   },
   {
    "duration": 36,
    "start_time": "2022-05-24T06:08:35.795Z"
   },
   {
    "duration": 139,
    "start_time": "2022-05-24T06:10:18.483Z"
   },
   {
    "duration": 61,
    "start_time": "2022-05-24T06:12:16.402Z"
   },
   {
    "duration": 1364,
    "start_time": "2022-05-24T06:12:44.779Z"
   },
   {
    "duration": 360,
    "start_time": "2022-05-24T06:13:20.698Z"
   },
   {
    "duration": 1366,
    "start_time": "2022-05-24T06:13:32.498Z"
   },
   {
    "duration": 49,
    "start_time": "2022-05-24T06:14:04.179Z"
   },
   {
    "duration": 54,
    "start_time": "2022-05-24T06:14:31.313Z"
   },
   {
    "duration": 41,
    "start_time": "2022-05-24T06:14:44.354Z"
   },
   {
    "duration": 40,
    "start_time": "2022-05-24T06:14:52.458Z"
   },
   {
    "duration": 43,
    "start_time": "2022-05-24T06:15:25.203Z"
   },
   {
    "duration": 14,
    "start_time": "2022-05-24T06:15:46.139Z"
   },
   {
    "duration": 81,
    "start_time": "2022-05-24T06:17:30.516Z"
   },
   {
    "duration": 98,
    "start_time": "2022-05-24T06:17:51.676Z"
   },
   {
    "duration": 88,
    "start_time": "2022-05-24T06:17:59.116Z"
   },
   {
    "duration": 89,
    "start_time": "2022-05-24T06:18:24.609Z"
   },
   {
    "duration": 81,
    "start_time": "2022-05-24T06:18:34.939Z"
   },
   {
    "duration": 95,
    "start_time": "2022-05-24T06:18:44.081Z"
   },
   {
    "duration": 99,
    "start_time": "2022-05-24T06:18:50.986Z"
   },
   {
    "duration": 89,
    "start_time": "2022-05-24T06:18:58.398Z"
   },
   {
    "duration": 81,
    "start_time": "2022-05-24T06:19:04.940Z"
   },
   {
    "duration": 87,
    "start_time": "2022-05-24T06:19:11.064Z"
   },
   {
    "duration": 85,
    "start_time": "2022-05-24T06:19:18.950Z"
   },
   {
    "duration": 91,
    "start_time": "2022-05-24T06:19:34.375Z"
   },
   {
    "duration": 97,
    "start_time": "2022-05-24T06:19:41.241Z"
   },
   {
    "duration": 87,
    "start_time": "2022-05-24T06:19:47.459Z"
   },
   {
    "duration": 85,
    "start_time": "2022-05-24T06:20:07.341Z"
   },
   {
    "duration": 94,
    "start_time": "2022-05-24T06:20:13.276Z"
   },
   {
    "duration": 89,
    "start_time": "2022-05-24T06:20:18.186Z"
   },
   {
    "duration": 97,
    "start_time": "2022-05-24T06:20:28.717Z"
   },
   {
    "duration": 85,
    "start_time": "2022-05-24T06:21:16.572Z"
   },
   {
    "duration": 35,
    "start_time": "2022-05-24T06:21:44.475Z"
   },
   {
    "duration": 92,
    "start_time": "2022-05-24T06:21:52.223Z"
   },
   {
    "duration": 93,
    "start_time": "2022-05-24T06:21:59.584Z"
   },
   {
    "duration": 86,
    "start_time": "2022-05-24T06:26:02.378Z"
   },
   {
    "duration": 19,
    "start_time": "2022-05-24T06:26:20.276Z"
   },
   {
    "duration": 17,
    "start_time": "2022-05-24T06:26:31.191Z"
   },
   {
    "duration": 90,
    "start_time": "2022-05-24T06:27:19.641Z"
   },
   {
    "duration": 6,
    "start_time": "2022-05-24T06:27:22.284Z"
   },
   {
    "duration": 8,
    "start_time": "2022-05-24T06:27:33.300Z"
   },
   {
    "duration": 21,
    "start_time": "2022-05-24T06:32:50.154Z"
   },
   {
    "duration": 9,
    "start_time": "2022-05-24T06:33:00.007Z"
   },
   {
    "duration": 14,
    "start_time": "2022-05-24T06:35:38.482Z"
   },
   {
    "duration": 87,
    "start_time": "2022-05-24T06:36:17.302Z"
   },
   {
    "duration": 459,
    "start_time": "2022-05-24T06:36:41.458Z"
   },
   {
    "duration": 380,
    "start_time": "2022-05-24T06:36:59.043Z"
   },
   {
    "duration": 16,
    "start_time": "2022-05-24T06:36:59.425Z"
   },
   {
    "duration": 53,
    "start_time": "2022-05-24T06:36:59.442Z"
   },
   {
    "duration": 31,
    "start_time": "2022-05-24T06:36:59.497Z"
   },
   {
    "duration": 26,
    "start_time": "2022-05-24T06:36:59.529Z"
   },
   {
    "duration": 25,
    "start_time": "2022-05-24T06:36:59.557Z"
   },
   {
    "duration": 30,
    "start_time": "2022-05-24T06:36:59.583Z"
   },
   {
    "duration": 53,
    "start_time": "2022-05-24T06:36:59.615Z"
   },
   {
    "duration": 230,
    "start_time": "2022-05-24T06:36:59.670Z"
   },
   {
    "duration": 37,
    "start_time": "2022-05-24T06:36:59.902Z"
   },
   {
    "duration": 53,
    "start_time": "2022-05-24T06:36:59.941Z"
   },
   {
    "duration": 32,
    "start_time": "2022-05-24T06:36:59.996Z"
   },
   {
    "duration": 19,
    "start_time": "2022-05-24T06:37:00.030Z"
   },
   {
    "duration": 26,
    "start_time": "2022-05-24T06:37:00.051Z"
   },
   {
    "duration": 35,
    "start_time": "2022-05-24T06:37:00.079Z"
   },
   {
    "duration": 52,
    "start_time": "2022-05-24T06:37:00.116Z"
   },
   {
    "duration": 31,
    "start_time": "2022-05-24T06:37:00.170Z"
   },
   {
    "duration": 42,
    "start_time": "2022-05-24T06:37:00.202Z"
   },
   {
    "duration": 93,
    "start_time": "2022-05-24T06:37:00.246Z"
   },
   {
    "duration": 9,
    "start_time": "2022-05-24T06:37:00.341Z"
   },
   {
    "duration": 30,
    "start_time": "2022-05-24T06:37:00.351Z"
   },
   {
    "duration": 34,
    "start_time": "2022-05-24T06:37:00.383Z"
   },
   {
    "duration": 122,
    "start_time": "2022-05-24T06:37:00.419Z"
   },
   {
    "duration": 84,
    "start_time": "2022-05-24T06:37:02.010Z"
   },
   {
    "duration": 337,
    "start_time": "2022-05-24T06:37:02.593Z"
   },
   {
    "duration": 8,
    "start_time": "2022-05-24T06:37:20.781Z"
   },
   {
    "duration": 93,
    "start_time": "2022-05-24T06:37:41.244Z"
   },
   {
    "duration": 380,
    "start_time": "2022-05-24T06:38:41.041Z"
   },
   {
    "duration": 11,
    "start_time": "2022-05-24T06:39:09.868Z"
   },
   {
    "duration": 81,
    "start_time": "2022-05-24T06:40:08.158Z"
   },
   {
    "duration": 16,
    "start_time": "2022-05-24T06:40:19.598Z"
   },
   {
    "duration": 2,
    "start_time": "2022-05-24T06:41:22.563Z"
   },
   {
    "duration": 8,
    "start_time": "2022-05-24T06:43:14.789Z"
   },
   {
    "duration": 27,
    "start_time": "2022-05-24T06:44:09.847Z"
   },
   {
    "duration": 25,
    "start_time": "2022-05-24T06:44:26.223Z"
   },
   {
    "duration": 44,
    "start_time": "2022-05-24T06:44:51.303Z"
   },
   {
    "duration": 6,
    "start_time": "2022-05-24T06:45:13.788Z"
   },
   {
    "duration": 5,
    "start_time": "2022-05-24T06:45:23.215Z"
   },
   {
    "duration": 6,
    "start_time": "2022-05-24T06:45:29.623Z"
   },
   {
    "duration": 5,
    "start_time": "2022-05-24T06:45:39.073Z"
   },
   {
    "duration": 6,
    "start_time": "2022-05-24T06:45:43.339Z"
   },
   {
    "duration": 6,
    "start_time": "2022-05-24T06:45:45.891Z"
   },
   {
    "duration": 6,
    "start_time": "2022-05-24T06:45:51.542Z"
   },
   {
    "duration": 5,
    "start_time": "2022-05-24T06:46:00.450Z"
   },
   {
    "duration": 5,
    "start_time": "2022-05-24T06:46:10.284Z"
   },
   {
    "duration": 7,
    "start_time": "2022-05-24T06:46:32.029Z"
   },
   {
    "duration": 14,
    "start_time": "2022-05-24T06:47:01.697Z"
   },
   {
    "duration": 5,
    "start_time": "2022-05-24T06:50:43.364Z"
   },
   {
    "duration": 12,
    "start_time": "2022-05-24T06:50:49.746Z"
   },
   {
    "duration": 9,
    "start_time": "2022-05-24T06:51:12.569Z"
   },
   {
    "duration": 4,
    "start_time": "2022-05-24T06:51:36.908Z"
   },
   {
    "duration": 23,
    "start_time": "2022-05-24T06:52:14.786Z"
   },
   {
    "duration": 19,
    "start_time": "2022-05-24T06:52:59.025Z"
   },
   {
    "duration": 4,
    "start_time": "2022-05-24T06:55:41.797Z"
   },
   {
    "duration": 21,
    "start_time": "2022-05-24T06:56:51.491Z"
   },
   {
    "duration": 18,
    "start_time": "2022-05-24T06:56:53.844Z"
   },
   {
    "duration": 8,
    "start_time": "2022-05-24T07:01:57.203Z"
   },
   {
    "duration": 10,
    "start_time": "2022-05-24T07:02:14.776Z"
   },
   {
    "duration": 24,
    "start_time": "2022-05-24T07:04:05.797Z"
   },
   {
    "duration": 12,
    "start_time": "2022-05-24T07:04:29.706Z"
   },
   {
    "duration": 433,
    "start_time": "2022-05-24T07:04:39.174Z"
   },
   {
    "duration": 17,
    "start_time": "2022-05-24T07:04:39.609Z"
   },
   {
    "duration": 64,
    "start_time": "2022-05-24T07:04:39.628Z"
   },
   {
    "duration": 24,
    "start_time": "2022-05-24T07:04:39.694Z"
   },
   {
    "duration": 42,
    "start_time": "2022-05-24T07:04:39.720Z"
   },
   {
    "duration": 15,
    "start_time": "2022-05-24T07:04:39.764Z"
   },
   {
    "duration": 12,
    "start_time": "2022-05-24T07:04:39.780Z"
   },
   {
    "duration": 62,
    "start_time": "2022-05-24T07:04:39.794Z"
   },
   {
    "duration": 340,
    "start_time": "2022-05-24T07:04:39.858Z"
   },
   {
    "duration": 52,
    "start_time": "2022-05-24T07:04:40.201Z"
   },
   {
    "duration": 54,
    "start_time": "2022-05-24T07:04:40.254Z"
   },
   {
    "duration": 18,
    "start_time": "2022-05-24T07:04:40.327Z"
   },
   {
    "duration": 21,
    "start_time": "2022-05-24T07:04:40.348Z"
   },
   {
    "duration": 11,
    "start_time": "2022-05-24T07:04:40.371Z"
   },
   {
    "duration": 52,
    "start_time": "2022-05-24T07:04:40.384Z"
   },
   {
    "duration": 49,
    "start_time": "2022-05-24T07:04:40.438Z"
   },
   {
    "duration": 68,
    "start_time": "2022-05-24T07:04:40.489Z"
   },
   {
    "duration": 34,
    "start_time": "2022-05-24T07:04:40.559Z"
   },
   {
    "duration": 115,
    "start_time": "2022-05-24T07:04:40.595Z"
   },
   {
    "duration": 27,
    "start_time": "2022-05-24T07:04:40.712Z"
   },
   {
    "duration": 16,
    "start_time": "2022-05-24T07:04:40.741Z"
   },
   {
    "duration": 16,
    "start_time": "2022-05-24T07:04:40.759Z"
   },
   {
    "duration": 123,
    "start_time": "2022-05-24T07:04:40.777Z"
   },
   {
    "duration": 34,
    "start_time": "2022-05-24T07:04:40.902Z"
   },
   {
    "duration": 23,
    "start_time": "2022-05-24T07:04:40.940Z"
   },
   {
    "duration": 15,
    "start_time": "2022-05-24T07:04:40.964Z"
   },
   {
    "duration": 13,
    "start_time": "2022-05-24T07:04:40.981Z"
   },
   {
    "duration": 18,
    "start_time": "2022-05-24T07:04:42.792Z"
   },
   {
    "duration": 1528,
    "start_time": "2022-05-24T07:06:09.511Z"
   },
   {
    "duration": 24,
    "start_time": "2022-05-24T07:06:11.041Z"
   },
   {
    "duration": 32,
    "start_time": "2022-05-24T07:06:11.066Z"
   },
   {
    "duration": 41,
    "start_time": "2022-05-24T07:06:11.100Z"
   },
   {
    "duration": 29,
    "start_time": "2022-05-24T07:06:11.143Z"
   },
   {
    "duration": 14,
    "start_time": "2022-05-24T07:06:11.174Z"
   },
   {
    "duration": 46,
    "start_time": "2022-05-24T07:06:11.190Z"
   },
   {
    "duration": 40,
    "start_time": "2022-05-24T07:06:11.238Z"
   },
   {
    "duration": 276,
    "start_time": "2022-05-24T07:06:11.280Z"
   },
   {
    "duration": 34,
    "start_time": "2022-05-24T07:06:11.559Z"
   },
   {
    "duration": 91,
    "start_time": "2022-05-24T07:06:11.595Z"
   },
   {
    "duration": 17,
    "start_time": "2022-05-24T07:06:11.688Z"
   },
   {
    "duration": 119,
    "start_time": "2022-05-24T07:06:11.708Z"
   },
   {
    "duration": 15,
    "start_time": "2022-05-24T07:06:11.829Z"
   },
   {
    "duration": 20,
    "start_time": "2022-05-24T07:06:11.846Z"
   },
   {
    "duration": 78,
    "start_time": "2022-05-24T07:06:11.868Z"
   },
   {
    "duration": 31,
    "start_time": "2022-05-24T07:06:11.948Z"
   },
   {
    "duration": 51,
    "start_time": "2022-05-24T07:06:11.981Z"
   },
   {
    "duration": 97,
    "start_time": "2022-05-24T07:06:12.034Z"
   },
   {
    "duration": 10,
    "start_time": "2022-05-24T07:06:12.133Z"
   },
   {
    "duration": 14,
    "start_time": "2022-05-24T07:06:12.146Z"
   },
   {
    "duration": 17,
    "start_time": "2022-05-24T07:06:12.162Z"
   },
   {
    "duration": 129,
    "start_time": "2022-05-24T07:06:12.181Z"
   },
   {
    "duration": 27,
    "start_time": "2022-05-24T07:06:12.311Z"
   },
   {
    "duration": 18,
    "start_time": "2022-05-24T07:06:12.340Z"
   },
   {
    "duration": 13,
    "start_time": "2022-05-24T07:06:12.360Z"
   },
   {
    "duration": 12,
    "start_time": "2022-05-24T07:06:12.374Z"
   },
   {
    "duration": 51,
    "start_time": "2022-05-24T07:06:12.389Z"
   },
   {
    "duration": 60,
    "start_time": "2022-05-24T16:31:27.156Z"
   },
   {
    "duration": 2530,
    "start_time": "2022-05-24T16:31:32.943Z"
   },
   {
    "duration": 25,
    "start_time": "2022-05-24T16:31:35.476Z"
   },
   {
    "duration": 42,
    "start_time": "2022-05-24T16:31:35.503Z"
   },
   {
    "duration": 26,
    "start_time": "2022-05-24T16:31:35.547Z"
   },
   {
    "duration": 60,
    "start_time": "2022-05-24T16:31:35.575Z"
   },
   {
    "duration": 23,
    "start_time": "2022-05-24T16:31:35.637Z"
   },
   {
    "duration": 10,
    "start_time": "2022-05-24T16:31:35.662Z"
   },
   {
    "duration": 65,
    "start_time": "2022-05-24T16:31:35.674Z"
   },
   {
    "duration": 277,
    "start_time": "2022-05-24T16:31:35.740Z"
   },
   {
    "duration": 36,
    "start_time": "2022-05-24T16:31:36.021Z"
   },
   {
    "duration": 90,
    "start_time": "2022-05-24T16:31:36.059Z"
   },
   {
    "duration": 86,
    "start_time": "2022-05-24T16:31:44.281Z"
   },
   {
    "duration": 416,
    "start_time": "2022-05-24T16:31:58.677Z"
   },
   {
    "duration": 22,
    "start_time": "2022-05-24T16:31:59.095Z"
   },
   {
    "duration": 37,
    "start_time": "2022-05-24T16:31:59.118Z"
   },
   {
    "duration": 25,
    "start_time": "2022-05-24T16:31:59.157Z"
   },
   {
    "duration": 133,
    "start_time": "2022-05-24T16:31:59.184Z"
   },
   {
    "duration": 15,
    "start_time": "2022-05-24T16:31:59.318Z"
   },
   {
    "duration": 11,
    "start_time": "2022-05-24T16:31:59.335Z"
   },
   {
    "duration": 38,
    "start_time": "2022-05-24T16:31:59.347Z"
   },
   {
    "duration": 254,
    "start_time": "2022-05-24T16:31:59.387Z"
   },
   {
    "duration": 33,
    "start_time": "2022-05-24T16:31:59.643Z"
   },
   {
    "duration": 67,
    "start_time": "2022-05-24T16:31:59.678Z"
   },
   {
    "duration": 12,
    "start_time": "2022-05-24T16:32:13.553Z"
   },
   {
    "duration": 38,
    "start_time": "2022-05-24T16:33:01.174Z"
   },
   {
    "duration": 34,
    "start_time": "2022-05-24T16:41:32.544Z"
   },
   {
    "duration": 52,
    "start_time": "2022-05-24T16:41:54.163Z"
   },
   {
    "duration": 63,
    "start_time": "2022-05-24T16:42:08.853Z"
   },
   {
    "duration": 69,
    "start_time": "2022-05-24T16:42:40.919Z"
   },
   {
    "duration": 63,
    "start_time": "2022-05-24T16:42:51.924Z"
   },
   {
    "duration": 70,
    "start_time": "2022-05-24T16:42:58.744Z"
   },
   {
    "duration": 51,
    "start_time": "2022-05-24T16:43:42.501Z"
   },
   {
    "duration": 46,
    "start_time": "2022-05-24T16:44:10.824Z"
   },
   {
    "duration": 59,
    "start_time": "2022-05-24T16:46:37.159Z"
   },
   {
    "duration": 43,
    "start_time": "2022-05-24T16:47:11.774Z"
   },
   {
    "duration": 46,
    "start_time": "2022-05-24T16:47:32.472Z"
   },
   {
    "duration": 54,
    "start_time": "2022-05-24T16:47:56.677Z"
   },
   {
    "duration": 41,
    "start_time": "2022-05-24T16:48:46.550Z"
   },
   {
    "duration": 37,
    "start_time": "2022-05-24T16:49:23.417Z"
   },
   {
    "duration": 54,
    "start_time": "2022-05-24T16:49:50.626Z"
   },
   {
    "duration": 1638,
    "start_time": "2022-05-24T16:50:01.316Z"
   },
   {
    "duration": 22,
    "start_time": "2022-05-24T16:50:02.956Z"
   },
   {
    "duration": 39,
    "start_time": "2022-05-24T16:50:02.979Z"
   },
   {
    "duration": 25,
    "start_time": "2022-05-24T16:50:03.019Z"
   },
   {
    "duration": 27,
    "start_time": "2022-05-24T16:50:03.046Z"
   },
   {
    "duration": 43,
    "start_time": "2022-05-24T16:50:03.074Z"
   },
   {
    "duration": 10,
    "start_time": "2022-05-24T16:50:03.118Z"
   },
   {
    "duration": 33,
    "start_time": "2022-05-24T16:50:03.129Z"
   },
   {
    "duration": 250,
    "start_time": "2022-05-24T16:50:03.163Z"
   },
   {
    "duration": 35,
    "start_time": "2022-05-24T16:50:03.415Z"
   },
   {
    "duration": 81,
    "start_time": "2022-05-24T16:50:03.452Z"
   },
   {
    "duration": 11,
    "start_time": "2022-05-24T16:50:03.535Z"
   },
   {
    "duration": 25,
    "start_time": "2022-05-24T16:50:03.548Z"
   },
   {
    "duration": 37,
    "start_time": "2022-05-24T16:50:03.575Z"
   },
   {
    "duration": 20,
    "start_time": "2022-05-24T16:50:03.616Z"
   },
   {
    "duration": 124,
    "start_time": "2022-05-24T16:50:03.638Z"
   },
   {
    "duration": 53,
    "start_time": "2022-05-24T16:50:03.764Z"
   },
   {
    "duration": 31,
    "start_time": "2022-05-24T16:50:03.819Z"
   },
   {
    "duration": 105,
    "start_time": "2022-05-24T16:50:03.852Z"
   },
   {
    "duration": 9,
    "start_time": "2022-05-24T16:50:03.959Z"
   },
   {
    "duration": 15,
    "start_time": "2022-05-24T16:50:03.970Z"
   },
   {
    "duration": 19,
    "start_time": "2022-05-24T16:50:04.005Z"
   },
   {
    "duration": 127,
    "start_time": "2022-05-24T16:50:04.025Z"
   },
   {
    "duration": 15,
    "start_time": "2022-05-24T16:50:04.154Z"
   },
   {
    "duration": 45,
    "start_time": "2022-05-24T16:50:04.170Z"
   },
   {
    "duration": 16,
    "start_time": "2022-05-24T16:50:04.217Z"
   },
   {
    "duration": 10,
    "start_time": "2022-05-24T16:50:04.234Z"
   },
   {
    "duration": 20,
    "start_time": "2022-05-24T16:50:04.245Z"
   },
   {
    "duration": 13,
    "start_time": "2022-05-24T16:51:35.671Z"
   },
   {
    "duration": 10,
    "start_time": "2022-05-24T16:51:45.232Z"
   },
   {
    "duration": 6,
    "start_time": "2022-05-24T16:53:58.887Z"
   },
   {
    "duration": 13,
    "start_time": "2022-05-24T16:54:07.255Z"
   },
   {
    "duration": 121,
    "start_time": "2022-05-24T16:56:22.134Z"
   },
   {
    "duration": 402,
    "start_time": "2022-05-24T16:56:27.045Z"
   },
   {
    "duration": 17,
    "start_time": "2022-05-24T16:56:27.448Z"
   },
   {
    "duration": 32,
    "start_time": "2022-05-24T16:56:27.466Z"
   },
   {
    "duration": 24,
    "start_time": "2022-05-24T16:56:27.499Z"
   },
   {
    "duration": 27,
    "start_time": "2022-05-24T16:56:27.524Z"
   },
   {
    "duration": 14,
    "start_time": "2022-05-24T16:56:27.552Z"
   },
   {
    "duration": 34,
    "start_time": "2022-05-24T16:56:27.568Z"
   },
   {
    "duration": 31,
    "start_time": "2022-05-24T16:56:27.603Z"
   },
   {
    "duration": 247,
    "start_time": "2022-05-24T16:56:27.636Z"
   },
   {
    "duration": 43,
    "start_time": "2022-05-24T16:56:27.886Z"
   },
   {
    "duration": 55,
    "start_time": "2022-05-24T16:56:27.931Z"
   },
   {
    "duration": 25,
    "start_time": "2022-05-24T16:56:27.988Z"
   },
   {
    "duration": 26,
    "start_time": "2022-05-24T16:56:28.015Z"
   },
   {
    "duration": 13,
    "start_time": "2022-05-24T16:56:28.042Z"
   },
   {
    "duration": 48,
    "start_time": "2022-05-24T16:56:28.056Z"
   },
   {
    "duration": 46,
    "start_time": "2022-05-24T16:56:28.106Z"
   },
   {
    "duration": 49,
    "start_time": "2022-05-24T16:56:28.154Z"
   },
   {
    "duration": 29,
    "start_time": "2022-05-24T16:56:28.204Z"
   },
   {
    "duration": 99,
    "start_time": "2022-05-24T16:56:28.235Z"
   },
   {
    "duration": 9,
    "start_time": "2022-05-24T16:56:28.336Z"
   },
   {
    "duration": 16,
    "start_time": "2022-05-24T16:56:28.346Z"
   },
   {
    "duration": 42,
    "start_time": "2022-05-24T16:56:28.364Z"
   },
   {
    "duration": 141,
    "start_time": "2022-05-24T16:56:28.408Z"
   },
   {
    "duration": 23,
    "start_time": "2022-05-24T16:56:28.551Z"
   },
   {
    "duration": 44,
    "start_time": "2022-05-24T16:56:28.576Z"
   },
   {
    "duration": 18,
    "start_time": "2022-05-24T16:56:28.622Z"
   },
   {
    "duration": 10,
    "start_time": "2022-05-24T16:56:28.641Z"
   },
   {
    "duration": 12,
    "start_time": "2022-05-24T16:56:28.654Z"
   },
   {
    "duration": 31,
    "start_time": "2022-05-24T16:56:33.180Z"
   },
   {
    "duration": 407,
    "start_time": "2022-05-24T16:57:26.185Z"
   },
   {
    "duration": 23,
    "start_time": "2022-05-24T16:57:26.594Z"
   },
   {
    "duration": 60,
    "start_time": "2022-05-24T16:57:26.619Z"
   },
   {
    "duration": 47,
    "start_time": "2022-05-24T16:57:26.681Z"
   },
   {
    "duration": 46,
    "start_time": "2022-05-24T16:57:26.730Z"
   },
   {
    "duration": 39,
    "start_time": "2022-05-24T16:57:26.778Z"
   },
   {
    "duration": 9,
    "start_time": "2022-05-24T16:57:26.819Z"
   },
   {
    "duration": 37,
    "start_time": "2022-05-24T16:57:26.830Z"
   },
   {
    "duration": 268,
    "start_time": "2022-05-24T16:57:26.869Z"
   },
   {
    "duration": 33,
    "start_time": "2022-05-24T16:57:27.139Z"
   },
   {
    "duration": 68,
    "start_time": "2022-05-24T16:57:27.173Z"
   },
   {
    "duration": 11,
    "start_time": "2022-05-24T16:57:27.243Z"
   },
   {
    "duration": 25,
    "start_time": "2022-05-24T16:57:27.255Z"
   },
   {
    "duration": 32,
    "start_time": "2022-05-24T16:57:27.281Z"
   },
   {
    "duration": 17,
    "start_time": "2022-05-24T16:57:27.315Z"
   },
   {
    "duration": 68,
    "start_time": "2022-05-24T16:57:27.334Z"
   },
   {
    "duration": 37,
    "start_time": "2022-05-24T16:57:27.403Z"
   },
   {
    "duration": 30,
    "start_time": "2022-05-24T16:57:27.441Z"
   },
   {
    "duration": 120,
    "start_time": "2022-05-24T16:57:27.473Z"
   },
   {
    "duration": 16,
    "start_time": "2022-05-24T16:57:27.595Z"
   },
   {
    "duration": 25,
    "start_time": "2022-05-24T16:57:27.612Z"
   },
   {
    "duration": 17,
    "start_time": "2022-05-24T16:57:27.639Z"
   },
   {
    "duration": 115,
    "start_time": "2022-05-24T16:57:27.658Z"
   },
   {
    "duration": 29,
    "start_time": "2022-05-24T16:57:27.775Z"
   },
   {
    "duration": 39,
    "start_time": "2022-05-24T16:57:27.806Z"
   },
   {
    "duration": 23,
    "start_time": "2022-05-24T16:57:27.847Z"
   },
   {
    "duration": 9,
    "start_time": "2022-05-24T16:57:27.872Z"
   },
   {
    "duration": 11,
    "start_time": "2022-05-24T16:57:27.903Z"
   },
   {
    "duration": 29,
    "start_time": "2022-05-24T16:57:31.597Z"
   },
   {
    "duration": 4,
    "start_time": "2022-05-24T17:12:53.589Z"
   },
   {
    "duration": 426,
    "start_time": "2022-05-24T17:13:35.237Z"
   },
   {
    "duration": 19,
    "start_time": "2022-05-24T17:13:35.665Z"
   },
   {
    "duration": 42,
    "start_time": "2022-05-24T17:13:35.685Z"
   },
   {
    "duration": 26,
    "start_time": "2022-05-24T17:13:35.728Z"
   },
   {
    "duration": 28,
    "start_time": "2022-05-24T17:13:35.756Z"
   },
   {
    "duration": 19,
    "start_time": "2022-05-24T17:13:35.802Z"
   },
   {
    "duration": 12,
    "start_time": "2022-05-24T17:13:35.822Z"
   },
   {
    "duration": 29,
    "start_time": "2022-05-24T17:13:35.836Z"
   },
   {
    "duration": 267,
    "start_time": "2022-05-24T17:13:35.867Z"
   },
   {
    "duration": 3,
    "start_time": "2022-05-24T17:13:36.136Z"
   },
   {
    "duration": 37,
    "start_time": "2022-05-24T17:13:36.141Z"
   },
   {
    "duration": 73,
    "start_time": "2022-05-24T17:13:36.180Z"
   },
   {
    "duration": 14,
    "start_time": "2022-05-24T17:13:36.255Z"
   },
   {
    "duration": 50,
    "start_time": "2022-05-24T17:13:36.272Z"
   },
   {
    "duration": 11,
    "start_time": "2022-05-24T17:13:36.324Z"
   },
   {
    "duration": 19,
    "start_time": "2022-05-24T17:13:36.337Z"
   },
   {
    "duration": 69,
    "start_time": "2022-05-24T17:13:36.357Z"
   },
   {
    "duration": 31,
    "start_time": "2022-05-24T17:13:36.428Z"
   },
   {
    "duration": 56,
    "start_time": "2022-05-24T17:13:36.461Z"
   },
   {
    "duration": 92,
    "start_time": "2022-05-24T17:13:36.519Z"
   },
   {
    "duration": 10,
    "start_time": "2022-05-24T17:13:36.615Z"
   },
   {
    "duration": 16,
    "start_time": "2022-05-24T17:13:36.627Z"
   },
   {
    "duration": 13,
    "start_time": "2022-05-24T17:13:36.644Z"
   },
   {
    "duration": 121,
    "start_time": "2022-05-24T17:13:36.659Z"
   },
   {
    "duration": 100,
    "start_time": "2022-05-24T17:13:46.747Z"
   },
   {
    "duration": 397,
    "start_time": "2022-05-24T17:13:59.465Z"
   },
   {
    "duration": 17,
    "start_time": "2022-05-24T17:13:59.864Z"
   },
   {
    "duration": 39,
    "start_time": "2022-05-24T17:13:59.882Z"
   },
   {
    "duration": 24,
    "start_time": "2022-05-24T17:13:59.923Z"
   },
   {
    "duration": 29,
    "start_time": "2022-05-24T17:13:59.949Z"
   },
   {
    "duration": 21,
    "start_time": "2022-05-24T17:14:00.011Z"
   },
   {
    "duration": 11,
    "start_time": "2022-05-24T17:14:00.034Z"
   },
   {
    "duration": 37,
    "start_time": "2022-05-24T17:14:00.047Z"
   },
   {
    "duration": 247,
    "start_time": "2022-05-24T17:14:00.085Z"
   },
   {
    "duration": 4,
    "start_time": "2022-05-24T17:14:00.333Z"
   },
   {
    "duration": 35,
    "start_time": "2022-05-24T17:14:00.338Z"
   },
   {
    "duration": 77,
    "start_time": "2022-05-24T17:14:00.375Z"
   },
   {
    "duration": 12,
    "start_time": "2022-05-24T17:14:00.454Z"
   },
   {
    "duration": 49,
    "start_time": "2022-05-24T17:14:00.468Z"
   },
   {
    "duration": 14,
    "start_time": "2022-05-24T17:14:00.519Z"
   },
   {
    "duration": 18,
    "start_time": "2022-05-24T17:14:00.535Z"
   },
   {
    "duration": 63,
    "start_time": "2022-05-24T17:14:00.554Z"
   },
   {
    "duration": 35,
    "start_time": "2022-05-24T17:14:00.618Z"
   },
   {
    "duration": 29,
    "start_time": "2022-05-24T17:14:00.654Z"
   },
   {
    "duration": 87,
    "start_time": "2022-05-24T17:14:00.703Z"
   },
   {
    "duration": 26,
    "start_time": "2022-05-24T17:14:00.792Z"
   },
   {
    "duration": 16,
    "start_time": "2022-05-24T17:14:00.820Z"
   },
   {
    "duration": 13,
    "start_time": "2022-05-24T17:14:00.837Z"
   },
   {
    "duration": 121,
    "start_time": "2022-05-24T17:14:00.851Z"
   },
   {
    "duration": 14,
    "start_time": "2022-05-24T17:14:00.973Z"
   },
   {
    "duration": 25,
    "start_time": "2022-05-24T17:14:01.004Z"
   },
   {
    "duration": 21,
    "start_time": "2022-05-24T17:14:01.031Z"
   },
   {
    "duration": 19,
    "start_time": "2022-05-24T17:14:01.054Z"
   },
   {
    "duration": 14,
    "start_time": "2022-05-24T17:14:01.074Z"
   },
   {
    "duration": 48,
    "start_time": "2022-05-24T17:14:01.090Z"
   },
   {
    "duration": 629,
    "start_time": "2022-05-24T18:38:43.663Z"
   },
   {
    "duration": 22,
    "start_time": "2022-05-24T18:39:10.530Z"
   },
   {
    "duration": 789,
    "start_time": "2022-05-24T18:40:40.447Z"
   },
   {
    "duration": 16,
    "start_time": "2022-05-24T18:40:54.066Z"
   },
   {
    "duration": 55,
    "start_time": "2022-05-24T18:41:09.745Z"
   },
   {
    "duration": 23,
    "start_time": "2022-05-24T18:41:50.322Z"
   },
   {
    "duration": 6,
    "start_time": "2022-05-24T18:42:02.825Z"
   },
   {
    "duration": 44,
    "start_time": "2022-05-24T18:42:24.315Z"
   },
   {
    "duration": 23,
    "start_time": "2022-05-24T18:42:54.435Z"
   },
   {
    "duration": 11,
    "start_time": "2022-05-24T18:43:22.248Z"
   },
   {
    "duration": 8,
    "start_time": "2022-05-24T18:43:29.348Z"
   },
   {
    "duration": 33,
    "start_time": "2022-05-24T18:44:03.885Z"
   },
   {
    "duration": 9,
    "start_time": "2022-05-24T18:44:15.821Z"
   },
   {
    "duration": 28,
    "start_time": "2022-05-24T18:44:16.465Z"
   },
   {
    "duration": 8,
    "start_time": "2022-05-24T18:45:52.585Z"
   },
   {
    "duration": 5,
    "start_time": "2022-05-24T18:46:00.360Z"
   },
   {
    "duration": 6,
    "start_time": "2022-05-24T18:46:01.963Z"
   },
   {
    "duration": 25,
    "start_time": "2022-05-24T18:46:02.218Z"
   },
   {
    "duration": 23,
    "start_time": "2022-05-24T18:46:10.436Z"
   },
   {
    "duration": 17,
    "start_time": "2022-05-24T18:47:12.329Z"
   },
   {
    "duration": 13,
    "start_time": "2022-05-24T18:47:25.651Z"
   },
   {
    "duration": 15,
    "start_time": "2022-05-24T18:47:47.192Z"
   },
   {
    "duration": 23,
    "start_time": "2022-05-24T18:47:55.186Z"
   },
   {
    "duration": 7,
    "start_time": "2022-05-24T18:48:41.079Z"
   },
   {
    "duration": 30,
    "start_time": "2022-05-24T18:48:43.290Z"
   },
   {
    "duration": 7,
    "start_time": "2022-05-24T18:50:46.367Z"
   },
   {
    "duration": 27,
    "start_time": "2022-05-24T18:50:48.032Z"
   },
   {
    "duration": 26,
    "start_time": "2022-05-24T18:53:06.319Z"
   },
   {
    "duration": 13,
    "start_time": "2022-05-24T18:54:54.800Z"
   },
   {
    "duration": 3,
    "start_time": "2022-05-24T18:54:56.979Z"
   },
   {
    "duration": 19,
    "start_time": "2022-05-24T18:54:58.631Z"
   },
   {
    "duration": 519,
    "start_time": "2022-05-24T18:59:31.613Z"
   },
   {
    "duration": 5,
    "start_time": "2022-05-24T18:59:46.526Z"
   },
   {
    "duration": 20,
    "start_time": "2022-05-24T18:59:50.372Z"
   },
   {
    "duration": 4,
    "start_time": "2022-05-24T19:00:54.734Z"
   },
   {
    "duration": 12,
    "start_time": "2022-05-24T19:01:01.120Z"
   },
   {
    "duration": 8,
    "start_time": "2022-05-24T19:01:31.355Z"
   },
   {
    "duration": 9,
    "start_time": "2022-05-24T19:01:44.931Z"
   },
   {
    "duration": 24,
    "start_time": "2022-05-24T19:06:37.616Z"
   },
   {
    "duration": 41,
    "start_time": "2022-05-24T19:08:11.923Z"
   },
   {
    "duration": 36,
    "start_time": "2022-05-24T19:08:25.062Z"
   },
   {
    "duration": 10,
    "start_time": "2022-05-24T19:09:02.730Z"
   },
   {
    "duration": 7,
    "start_time": "2022-05-24T19:09:15.807Z"
   },
   {
    "duration": 26,
    "start_time": "2022-05-24T19:09:18.358Z"
   },
   {
    "duration": 8,
    "start_time": "2022-05-24T19:09:30.817Z"
   },
   {
    "duration": 30,
    "start_time": "2022-05-24T19:09:32.424Z"
   },
   {
    "duration": 446,
    "start_time": "2022-05-24T19:09:49.708Z"
   },
   {
    "duration": 19,
    "start_time": "2022-05-24T19:09:50.157Z"
   },
   {
    "duration": 39,
    "start_time": "2022-05-24T19:09:50.178Z"
   },
   {
    "duration": 26,
    "start_time": "2022-05-24T19:09:50.220Z"
   },
   {
    "duration": 57,
    "start_time": "2022-05-24T19:09:50.249Z"
   },
   {
    "duration": 19,
    "start_time": "2022-05-24T19:09:50.311Z"
   },
   {
    "duration": 10,
    "start_time": "2022-05-24T19:09:50.331Z"
   },
   {
    "duration": 32,
    "start_time": "2022-05-24T19:09:50.343Z"
   },
   {
    "duration": 268,
    "start_time": "2022-05-24T19:09:50.376Z"
   },
   {
    "duration": 4,
    "start_time": "2022-05-24T19:09:50.645Z"
   },
   {
    "duration": 69,
    "start_time": "2022-05-24T19:09:50.651Z"
   },
   {
    "duration": 67,
    "start_time": "2022-05-24T19:09:50.722Z"
   },
   {
    "duration": 25,
    "start_time": "2022-05-24T19:09:50.791Z"
   },
   {
    "duration": 29,
    "start_time": "2022-05-24T19:09:50.820Z"
   },
   {
    "duration": 13,
    "start_time": "2022-05-24T19:09:50.851Z"
   },
   {
    "duration": 45,
    "start_time": "2022-05-24T19:09:50.866Z"
   },
   {
    "duration": 49,
    "start_time": "2022-05-24T19:09:50.918Z"
   },
   {
    "duration": 47,
    "start_time": "2022-05-24T19:09:50.968Z"
   },
   {
    "duration": 31,
    "start_time": "2022-05-24T19:09:51.017Z"
   },
   {
    "duration": 112,
    "start_time": "2022-05-24T19:09:51.050Z"
   },
   {
    "duration": 10,
    "start_time": "2022-05-24T19:09:51.164Z"
   },
   {
    "duration": 38,
    "start_time": "2022-05-24T19:09:51.176Z"
   },
   {
    "duration": 30,
    "start_time": "2022-05-24T19:09:51.218Z"
   },
   {
    "duration": 133,
    "start_time": "2022-05-24T19:09:51.250Z"
   },
   {
    "duration": 29,
    "start_time": "2022-05-24T19:09:51.384Z"
   },
   {
    "duration": 30,
    "start_time": "2022-05-24T19:09:51.415Z"
   },
   {
    "duration": 34,
    "start_time": "2022-05-24T19:09:51.447Z"
   },
   {
    "duration": 7,
    "start_time": "2022-05-24T19:09:51.483Z"
   },
   {
    "duration": 13,
    "start_time": "2022-05-24T19:09:51.492Z"
   },
   {
    "duration": 41,
    "start_time": "2022-05-24T19:09:51.507Z"
   },
   {
    "duration": 9,
    "start_time": "2022-05-24T19:09:51.550Z"
   },
   {
    "duration": 39,
    "start_time": "2022-05-24T19:09:51.561Z"
   },
   {
    "duration": 88,
    "start_time": "2022-05-24T19:09:51.602Z"
   },
   {
    "duration": 20,
    "start_time": "2022-05-24T19:09:53.648Z"
   },
   {
    "duration": 1496,
    "start_time": "2022-05-24T20:13:05.145Z"
   },
   {
    "duration": 21,
    "start_time": "2022-05-24T20:13:06.643Z"
   },
   {
    "duration": 31,
    "start_time": "2022-05-24T20:13:06.666Z"
   },
   {
    "duration": 22,
    "start_time": "2022-05-24T20:13:06.701Z"
   },
   {
    "duration": 27,
    "start_time": "2022-05-24T20:13:06.725Z"
   },
   {
    "duration": 14,
    "start_time": "2022-05-24T20:13:06.754Z"
   },
   {
    "duration": 38,
    "start_time": "2022-05-24T20:13:06.770Z"
   },
   {
    "duration": 31,
    "start_time": "2022-05-24T20:13:06.810Z"
   },
   {
    "duration": 244,
    "start_time": "2022-05-24T20:13:06.843Z"
   },
   {
    "duration": 3,
    "start_time": "2022-05-24T20:13:07.090Z"
   },
   {
    "duration": 45,
    "start_time": "2022-05-24T20:13:07.095Z"
   },
   {
    "duration": 83,
    "start_time": "2022-05-24T20:13:07.141Z"
   },
   {
    "duration": 13,
    "start_time": "2022-05-24T20:13:07.226Z"
   },
   {
    "duration": 111,
    "start_time": "2022-05-24T20:13:07.241Z"
   },
   {
    "duration": 13,
    "start_time": "2022-05-24T20:13:07.354Z"
   },
   {
    "duration": 33,
    "start_time": "2022-05-24T20:13:07.369Z"
   },
   {
    "duration": 44,
    "start_time": "2022-05-24T20:13:07.404Z"
   },
   {
    "duration": 52,
    "start_time": "2022-05-24T20:13:07.450Z"
   },
   {
    "duration": 27,
    "start_time": "2022-05-24T20:13:07.504Z"
   },
   {
    "duration": 99,
    "start_time": "2022-05-24T20:13:07.533Z"
   },
   {
    "duration": 9,
    "start_time": "2022-05-24T20:13:07.634Z"
   },
   {
    "duration": 14,
    "start_time": "2022-05-24T20:13:07.644Z"
   },
   {
    "duration": 13,
    "start_time": "2022-05-24T20:13:07.659Z"
   },
   {
    "duration": 135,
    "start_time": "2022-05-24T20:13:07.673Z"
   },
   {
    "duration": 13,
    "start_time": "2022-05-24T20:13:07.810Z"
   },
   {
    "duration": 16,
    "start_time": "2022-05-24T20:13:07.825Z"
   },
   {
    "duration": 13,
    "start_time": "2022-05-24T20:13:07.842Z"
   },
   {
    "duration": 7,
    "start_time": "2022-05-24T20:13:07.858Z"
   },
   {
    "duration": 42,
    "start_time": "2022-05-24T20:13:07.866Z"
   },
   {
    "duration": 7,
    "start_time": "2022-05-24T20:13:07.909Z"
   },
   {
    "duration": 12,
    "start_time": "2022-05-24T20:13:07.917Z"
   },
   {
    "duration": 31,
    "start_time": "2022-05-24T20:13:07.931Z"
   },
   {
    "duration": 11,
    "start_time": "2022-05-24T20:19:09.580Z"
   },
   {
    "duration": 107,
    "start_time": "2022-05-24T20:19:10.295Z"
   },
   {
    "duration": 423,
    "start_time": "2022-05-24T20:19:22.492Z"
   },
   {
    "duration": 19,
    "start_time": "2022-05-24T20:19:22.917Z"
   },
   {
    "duration": 35,
    "start_time": "2022-05-24T20:19:22.938Z"
   },
   {
    "duration": 42,
    "start_time": "2022-05-24T20:19:22.975Z"
   },
   {
    "duration": 41,
    "start_time": "2022-05-24T20:19:23.020Z"
   },
   {
    "duration": 42,
    "start_time": "2022-05-24T20:19:23.063Z"
   },
   {
    "duration": 20,
    "start_time": "2022-05-24T20:19:23.108Z"
   },
   {
    "duration": 42,
    "start_time": "2022-05-24T20:19:23.130Z"
   },
   {
    "duration": 272,
    "start_time": "2022-05-24T20:19:23.174Z"
   },
   {
    "duration": 4,
    "start_time": "2022-05-24T20:19:23.448Z"
   },
   {
    "duration": 53,
    "start_time": "2022-05-24T20:19:23.453Z"
   },
   {
    "duration": 67,
    "start_time": "2022-05-24T20:19:23.509Z"
   },
   {
    "duration": 30,
    "start_time": "2022-05-24T20:19:23.578Z"
   },
   {
    "duration": 28,
    "start_time": "2022-05-24T20:19:23.611Z"
   },
   {
    "duration": 13,
    "start_time": "2022-05-24T20:19:23.641Z"
   },
   {
    "duration": 50,
    "start_time": "2022-05-24T20:19:23.656Z"
   },
   {
    "duration": 48,
    "start_time": "2022-05-24T20:19:23.708Z"
   },
   {
    "duration": 59,
    "start_time": "2022-05-24T20:19:23.758Z"
   },
   {
    "duration": 32,
    "start_time": "2022-05-24T20:19:23.819Z"
   },
   {
    "duration": 115,
    "start_time": "2022-05-24T20:19:23.853Z"
   },
   {
    "duration": 11,
    "start_time": "2022-05-24T20:19:23.970Z"
   },
   {
    "duration": 34,
    "start_time": "2022-05-24T20:19:23.983Z"
   },
   {
    "duration": 22,
    "start_time": "2022-05-24T20:19:24.019Z"
   },
   {
    "duration": 136,
    "start_time": "2022-05-24T20:19:24.044Z"
   },
   {
    "duration": 26,
    "start_time": "2022-05-24T20:19:24.181Z"
   },
   {
    "duration": 19,
    "start_time": "2022-05-24T20:19:24.209Z"
   },
   {
    "duration": 15,
    "start_time": "2022-05-24T20:19:24.231Z"
   },
   {
    "duration": 15,
    "start_time": "2022-05-24T20:19:24.248Z"
   },
   {
    "duration": 38,
    "start_time": "2022-05-24T20:19:24.264Z"
   },
   {
    "duration": 7,
    "start_time": "2022-05-24T20:19:24.305Z"
   },
   {
    "duration": 12,
    "start_time": "2022-05-24T20:19:24.314Z"
   },
   {
    "duration": 29,
    "start_time": "2022-05-24T20:19:24.328Z"
   },
   {
    "duration": 2,
    "start_time": "2022-05-24T20:33:46.262Z"
   },
   {
    "duration": 6,
    "start_time": "2022-05-24T20:36:20.789Z"
   },
   {
    "duration": 20,
    "start_time": "2022-05-24T20:36:24.557Z"
   },
   {
    "duration": 20,
    "start_time": "2022-05-24T20:36:36.366Z"
   },
   {
    "duration": 21,
    "start_time": "2022-05-24T20:40:00.265Z"
   },
   {
    "duration": 4,
    "start_time": "2022-05-24T20:40:08.114Z"
   },
   {
    "duration": 4,
    "start_time": "2022-05-24T20:40:50.849Z"
   },
   {
    "duration": 5,
    "start_time": "2022-05-24T20:41:02.029Z"
   },
   {
    "duration": 14,
    "start_time": "2022-05-24T20:42:10.515Z"
   },
   {
    "duration": 12,
    "start_time": "2022-05-24T20:43:52.685Z"
   },
   {
    "duration": 11,
    "start_time": "2022-05-24T20:44:06.294Z"
   },
   {
    "duration": 134,
    "start_time": "2022-05-24T20:44:18.418Z"
   },
   {
    "duration": 611,
    "start_time": "2022-05-24T20:44:41.356Z"
   },
   {
    "duration": 513,
    "start_time": "2022-05-24T20:45:16.385Z"
   },
   {
    "duration": 117,
    "start_time": "2022-05-24T20:45:25.176Z"
   },
   {
    "duration": 10,
    "start_time": "2022-05-24T20:45:43.718Z"
   },
   {
    "duration": 68,
    "start_time": "2022-05-24T20:45:51.996Z"
   },
   {
    "duration": 71,
    "start_time": "2022-05-24T20:47:24.564Z"
   },
   {
    "duration": 63,
    "start_time": "2022-05-24T20:47:30.892Z"
   },
   {
    "duration": 68,
    "start_time": "2022-05-24T20:47:42.626Z"
   },
   {
    "duration": 67,
    "start_time": "2022-05-24T20:47:52.150Z"
   },
   {
    "duration": 66,
    "start_time": "2022-05-24T20:47:57.608Z"
   },
   {
    "duration": 64,
    "start_time": "2022-05-24T20:48:58.715Z"
   },
   {
    "duration": 73,
    "start_time": "2022-05-24T21:43:35.661Z"
   },
   {
    "duration": 75,
    "start_time": "2022-05-24T21:43:40.017Z"
   },
   {
    "duration": 73,
    "start_time": "2022-05-24T21:44:17.070Z"
   },
   {
    "duration": 51,
    "start_time": "2022-05-24T21:44:46.573Z"
   },
   {
    "duration": 19,
    "start_time": "2022-05-24T21:45:43.050Z"
   },
   {
    "duration": 38,
    "start_time": "2022-05-24T21:54:44.536Z"
   },
   {
    "duration": 48,
    "start_time": "2022-05-24T21:55:36.969Z"
   },
   {
    "duration": 124,
    "start_time": "2022-05-24T21:56:12.862Z"
   },
   {
    "duration": 16,
    "start_time": "2022-05-24T21:56:28.705Z"
   },
   {
    "duration": 302,
    "start_time": "2022-05-24T21:57:07.764Z"
   },
   {
    "duration": 513,
    "start_time": "2022-05-24T21:57:32.104Z"
   },
   {
    "duration": 17,
    "start_time": "2022-05-24T21:59:12.680Z"
   },
   {
    "duration": 447,
    "start_time": "2022-05-24T21:59:30.729Z"
   },
   {
    "duration": 21,
    "start_time": "2022-05-25T00:02:55.181Z"
   },
   {
    "duration": 39,
    "start_time": "2022-05-25T00:08:38.791Z"
   },
   {
    "duration": 31,
    "start_time": "2022-05-25T00:08:58.454Z"
   },
   {
    "duration": 26,
    "start_time": "2022-05-25T00:09:05.243Z"
   },
   {
    "duration": 15,
    "start_time": "2022-05-25T00:09:17.402Z"
   },
   {
    "duration": 14,
    "start_time": "2022-05-25T00:09:21.274Z"
   },
   {
    "duration": 10,
    "start_time": "2022-05-25T00:09:33.166Z"
   },
   {
    "duration": 31,
    "start_time": "2022-05-25T00:09:52.985Z"
   },
   {
    "duration": 16,
    "start_time": "2022-05-25T00:09:54.703Z"
   },
   {
    "duration": 265,
    "start_time": "2022-05-25T00:10:17.617Z"
   },
   {
    "duration": 4,
    "start_time": "2022-05-25T00:10:18.474Z"
   },
   {
    "duration": 718,
    "start_time": "2022-05-25T00:10:47.661Z"
   },
   {
    "duration": 4,
    "start_time": "2022-05-25T00:10:48.393Z"
   },
   {
    "duration": 1335,
    "start_time": "2022-05-25T00:11:03.902Z"
   },
   {
    "duration": 1341,
    "start_time": "2022-05-25T00:11:39.181Z"
   },
   {
    "duration": 479,
    "start_time": "2022-05-25T00:12:45.443Z"
   },
   {
    "duration": 480,
    "start_time": "2022-05-25T00:13:38.758Z"
   },
   {
    "duration": 1534,
    "start_time": "2022-05-25T00:14:09.224Z"
   },
   {
    "duration": 22,
    "start_time": "2022-05-25T00:14:10.760Z"
   },
   {
    "duration": 35,
    "start_time": "2022-05-25T00:14:10.783Z"
   },
   {
    "duration": 25,
    "start_time": "2022-05-25T00:14:10.820Z"
   },
   {
    "duration": 30,
    "start_time": "2022-05-25T00:14:10.846Z"
   },
   {
    "duration": 39,
    "start_time": "2022-05-25T00:14:10.877Z"
   },
   {
    "duration": 13,
    "start_time": "2022-05-25T00:14:10.918Z"
   },
   {
    "duration": 33,
    "start_time": "2022-05-25T00:14:10.932Z"
   },
   {
    "duration": 299,
    "start_time": "2022-05-25T00:14:10.966Z"
   },
   {
    "duration": 3,
    "start_time": "2022-05-25T00:14:11.268Z"
   },
   {
    "duration": 49,
    "start_time": "2022-05-25T00:14:11.273Z"
   },
   {
    "duration": 66,
    "start_time": "2022-05-25T00:14:11.324Z"
   },
   {
    "duration": 20,
    "start_time": "2022-05-25T00:14:11.392Z"
   },
   {
    "duration": 114,
    "start_time": "2022-05-25T00:14:11.413Z"
   },
   {
    "duration": 12,
    "start_time": "2022-05-25T00:14:11.528Z"
   },
   {
    "duration": 17,
    "start_time": "2022-05-25T00:14:11.542Z"
   },
   {
    "duration": 72,
    "start_time": "2022-05-25T00:14:11.561Z"
   },
   {
    "duration": 36,
    "start_time": "2022-05-25T00:14:11.635Z"
   },
   {
    "duration": 45,
    "start_time": "2022-05-25T00:14:11.673Z"
   },
   {
    "duration": 104,
    "start_time": "2022-05-25T00:14:11.720Z"
   },
   {
    "duration": 10,
    "start_time": "2022-05-25T00:14:11.826Z"
   },
   {
    "duration": 16,
    "start_time": "2022-05-25T00:14:11.837Z"
   },
   {
    "duration": 16,
    "start_time": "2022-05-25T00:14:11.854Z"
   },
   {
    "duration": 150,
    "start_time": "2022-05-25T00:14:11.871Z"
   },
   {
    "duration": 15,
    "start_time": "2022-05-25T00:14:12.023Z"
   },
   {
    "duration": 19,
    "start_time": "2022-05-25T00:14:12.040Z"
   },
   {
    "duration": 43,
    "start_time": "2022-05-25T00:14:12.060Z"
   },
   {
    "duration": 8,
    "start_time": "2022-05-25T00:14:12.107Z"
   },
   {
    "duration": 13,
    "start_time": "2022-05-25T00:14:12.117Z"
   },
   {
    "duration": 6,
    "start_time": "2022-05-25T00:14:12.131Z"
   },
   {
    "duration": 12,
    "start_time": "2022-05-25T00:14:12.139Z"
   },
   {
    "duration": 57,
    "start_time": "2022-05-25T00:14:12.153Z"
   },
   {
    "duration": 75,
    "start_time": "2022-05-25T00:14:12.212Z"
   },
   {
    "duration": 170,
    "start_time": "2022-05-25T00:14:12.302Z"
   },
   {
    "duration": 0,
    "start_time": "2022-05-25T00:14:12.474Z"
   },
   {
    "duration": 35,
    "start_time": "2022-05-25T00:14:27.613Z"
   },
   {
    "duration": 754,
    "start_time": "2022-05-25T00:16:47.895Z"
   },
   {
    "duration": 36,
    "start_time": "2022-05-25T00:17:29.576Z"
   },
   {
    "duration": 34,
    "start_time": "2022-05-25T00:24:02.117Z"
   },
   {
    "duration": 17,
    "start_time": "2022-05-25T00:24:28.252Z"
   },
   {
    "duration": 35,
    "start_time": "2022-05-25T00:24:39.228Z"
   },
   {
    "duration": 43,
    "start_time": "2022-05-25T00:25:10.213Z"
   },
   {
    "duration": 18,
    "start_time": "2022-05-25T00:25:23.750Z"
   },
   {
    "duration": 18,
    "start_time": "2022-05-25T00:25:37.172Z"
   },
   {
    "duration": 478,
    "start_time": "2022-05-25T00:27:14.622Z"
   },
   {
    "duration": 659,
    "start_time": "2022-05-25T00:27:30.976Z"
   },
   {
    "duration": 29,
    "start_time": "2022-05-25T00:28:17.235Z"
   },
   {
    "duration": 539,
    "start_time": "2022-05-25T00:28:23.118Z"
   },
   {
    "duration": 17,
    "start_time": "2022-05-25T00:28:51.260Z"
   },
   {
    "duration": 18,
    "start_time": "2022-05-25T00:30:29.851Z"
   },
   {
    "duration": 19,
    "start_time": "2022-05-25T00:30:39.765Z"
   },
   {
    "duration": 11,
    "start_time": "2022-05-25T00:30:49.810Z"
   },
   {
    "duration": 10,
    "start_time": "2022-05-25T00:31:34.357Z"
   },
   {
    "duration": 16,
    "start_time": "2022-05-25T00:31:40.946Z"
   },
   {
    "duration": 20,
    "start_time": "2022-05-25T00:32:12.169Z"
   },
   {
    "duration": 1018,
    "start_time": "2022-05-25T00:32:21.682Z"
   },
   {
    "duration": 19,
    "start_time": "2022-05-25T00:32:37.256Z"
   },
   {
    "duration": 873,
    "start_time": "2022-05-25T00:32:52.593Z"
   },
   {
    "duration": 17,
    "start_time": "2022-05-25T00:33:01.505Z"
   },
   {
    "duration": 358,
    "start_time": "2022-05-25T00:33:24.677Z"
   },
   {
    "duration": 21,
    "start_time": "2022-05-25T00:33:31.997Z"
   },
   {
    "duration": 369,
    "start_time": "2022-05-25T00:35:00.310Z"
   },
   {
    "duration": 158,
    "start_time": "2022-05-25T00:35:44.799Z"
   },
   {
    "duration": 144,
    "start_time": "2022-05-25T00:36:02.543Z"
   },
   {
    "duration": 25,
    "start_time": "2022-05-25T00:36:23.612Z"
   },
   {
    "duration": 735,
    "start_time": "2022-05-25T00:37:23.264Z"
   },
   {
    "duration": 21,
    "start_time": "2022-05-25T00:37:34.352Z"
   },
   {
    "duration": 315,
    "start_time": "2022-05-25T00:37:41.372Z"
   },
   {
    "duration": 15,
    "start_time": "2022-05-25T00:38:08.950Z"
   },
   {
    "duration": 146,
    "start_time": "2022-05-25T00:38:17.613Z"
   },
   {
    "duration": 203,
    "start_time": "2022-05-25T00:38:32.807Z"
   },
   {
    "duration": 149,
    "start_time": "2022-05-25T00:38:48.048Z"
   },
   {
    "duration": 139,
    "start_time": "2022-05-25T00:40:37.204Z"
   },
   {
    "duration": 149,
    "start_time": "2022-05-25T00:41:05.877Z"
   },
   {
    "duration": 156,
    "start_time": "2022-05-25T00:41:19.667Z"
   },
   {
    "duration": 196,
    "start_time": "2022-05-25T00:42:10.123Z"
   },
   {
    "duration": 11,
    "start_time": "2022-05-25T00:44:49.898Z"
   },
   {
    "duration": 11,
    "start_time": "2022-05-25T00:45:24.447Z"
   },
   {
    "duration": 14,
    "start_time": "2022-05-25T00:45:50.285Z"
   },
   {
    "duration": 12,
    "start_time": "2022-05-25T00:46:30.917Z"
   },
   {
    "duration": 16,
    "start_time": "2022-05-25T00:46:54.946Z"
   },
   {
    "duration": 21,
    "start_time": "2022-05-25T00:47:03.708Z"
   },
   {
    "duration": 267,
    "start_time": "2022-05-25T00:47:17.352Z"
   },
   {
    "duration": 165,
    "start_time": "2022-05-25T00:49:33.954Z"
   },
   {
    "duration": 521,
    "start_time": "2022-05-25T00:54:56.927Z"
   },
   {
    "duration": 547,
    "start_time": "2022-05-25T00:55:06.095Z"
   },
   {
    "duration": 14,
    "start_time": "2022-05-25T00:55:24.159Z"
   },
   {
    "duration": 15,
    "start_time": "2022-05-25T00:55:47.897Z"
   },
   {
    "duration": 21,
    "start_time": "2022-05-25T01:00:43.679Z"
   },
   {
    "duration": 21,
    "start_time": "2022-05-25T01:00:53.719Z"
   },
   {
    "duration": 250,
    "start_time": "2022-05-25T01:01:59.513Z"
   },
   {
    "duration": 246,
    "start_time": "2022-05-25T01:03:08.922Z"
   },
   {
    "duration": 358,
    "start_time": "2022-05-25T01:05:41.096Z"
   },
   {
    "duration": 220,
    "start_time": "2022-05-25T01:06:08.123Z"
   },
   {
    "duration": 249,
    "start_time": "2022-05-25T01:06:21.273Z"
   },
   {
    "duration": 45,
    "start_time": "2022-05-25T01:08:05.414Z"
   },
   {
    "duration": 231,
    "start_time": "2022-05-25T01:08:45.362Z"
   },
   {
    "duration": 224,
    "start_time": "2022-05-25T01:09:05.887Z"
   },
   {
    "duration": 246,
    "start_time": "2022-05-25T01:09:09.903Z"
   },
   {
    "duration": 232,
    "start_time": "2022-05-25T01:09:22.097Z"
   },
   {
    "duration": 241,
    "start_time": "2022-05-25T01:09:28.763Z"
   },
   {
    "duration": 9,
    "start_time": "2022-05-25T01:09:49.957Z"
   },
   {
    "duration": 8,
    "start_time": "2022-05-25T01:09:53.433Z"
   },
   {
    "duration": 241,
    "start_time": "2022-05-25T01:10:55.663Z"
   },
   {
    "duration": 227,
    "start_time": "2022-05-25T01:11:07.105Z"
   },
   {
    "duration": 227,
    "start_time": "2022-05-25T01:11:11.613Z"
   },
   {
    "duration": 381,
    "start_time": "2022-05-25T01:13:01.210Z"
   },
   {
    "duration": 219,
    "start_time": "2022-05-25T01:13:07.500Z"
   },
   {
    "duration": 235,
    "start_time": "2022-05-25T01:13:15.836Z"
   },
   {
    "duration": 217,
    "start_time": "2022-05-25T01:13:27.359Z"
   },
   {
    "duration": 241,
    "start_time": "2022-05-25T01:13:40.717Z"
   },
   {
    "duration": 238,
    "start_time": "2022-05-25T01:13:49.225Z"
   },
   {
    "duration": 208,
    "start_time": "2022-05-25T01:13:57.862Z"
   },
   {
    "duration": 221,
    "start_time": "2022-05-25T01:14:04.363Z"
   },
   {
    "duration": 218,
    "start_time": "2022-05-25T01:14:12.758Z"
   },
   {
    "duration": 223,
    "start_time": "2022-05-25T01:14:21.491Z"
   },
   {
    "duration": 239,
    "start_time": "2022-05-25T01:14:27.991Z"
   },
   {
    "duration": 360,
    "start_time": "2022-05-25T01:14:33.158Z"
   },
   {
    "duration": 238,
    "start_time": "2022-05-25T01:14:43.962Z"
   },
   {
    "duration": 221,
    "start_time": "2022-05-25T01:14:49.021Z"
   },
   {
    "duration": 224,
    "start_time": "2022-05-25T01:14:52.558Z"
   },
   {
    "duration": 239,
    "start_time": "2022-05-25T01:15:00.799Z"
   },
   {
    "duration": 232,
    "start_time": "2022-05-25T01:15:32.928Z"
   },
   {
    "duration": 230,
    "start_time": "2022-05-25T01:15:45.299Z"
   },
   {
    "duration": 238,
    "start_time": "2022-05-25T01:15:56.912Z"
   },
   {
    "duration": 228,
    "start_time": "2022-05-25T01:16:04.032Z"
   },
   {
    "duration": 217,
    "start_time": "2022-05-25T01:16:21.267Z"
   },
   {
    "duration": 220,
    "start_time": "2022-05-25T01:16:27.479Z"
   },
   {
    "duration": 387,
    "start_time": "2022-05-25T01:16:38.329Z"
   },
   {
    "duration": 225,
    "start_time": "2022-05-25T01:16:43.595Z"
   },
   {
    "duration": 220,
    "start_time": "2022-05-25T01:16:54.520Z"
   },
   {
    "duration": 241,
    "start_time": "2022-05-25T01:17:07.222Z"
   },
   {
    "duration": 14,
    "start_time": "2022-05-25T01:17:49.959Z"
   },
   {
    "duration": 232,
    "start_time": "2022-05-25T01:19:50.608Z"
   },
   {
    "duration": 648,
    "start_time": "2022-05-25T01:20:15.288Z"
   },
   {
    "duration": 1234,
    "start_time": "2022-05-25T01:20:38.187Z"
   },
   {
    "duration": 765,
    "start_time": "2022-05-25T01:21:14.790Z"
   },
   {
    "duration": 667,
    "start_time": "2022-05-25T01:22:35.240Z"
   },
   {
    "duration": 228,
    "start_time": "2022-05-25T01:25:21.820Z"
   },
   {
    "duration": 8,
    "start_time": "2022-05-25T01:28:15.206Z"
   },
   {
    "duration": 9,
    "start_time": "2022-05-25T01:29:05.185Z"
   },
   {
    "duration": 11,
    "start_time": "2022-05-25T01:29:24.088Z"
   },
   {
    "duration": 3,
    "start_time": "2022-05-25T01:30:08.745Z"
   },
   {
    "duration": 4,
    "start_time": "2022-05-25T01:30:21.162Z"
   },
   {
    "duration": 10,
    "start_time": "2022-05-25T01:30:27.415Z"
   },
   {
    "duration": 12,
    "start_time": "2022-05-25T01:30:33.141Z"
   },
   {
    "duration": 10,
    "start_time": "2022-05-25T01:30:37.086Z"
   },
   {
    "duration": 271,
    "start_time": "2022-05-25T01:30:47.546Z"
   },
   {
    "duration": 12,
    "start_time": "2022-05-25T01:31:02.100Z"
   },
   {
    "duration": 227,
    "start_time": "2022-05-25T01:31:11.658Z"
   },
   {
    "duration": 152,
    "start_time": "2022-05-25T01:37:11.512Z"
   },
   {
    "duration": 4,
    "start_time": "2022-05-25T01:39:26.733Z"
   },
   {
    "duration": 6,
    "start_time": "2022-05-25T01:39:34.473Z"
   },
   {
    "duration": 6,
    "start_time": "2022-05-25T01:39:55.148Z"
   },
   {
    "duration": 39,
    "start_time": "2022-05-25T01:40:57.315Z"
   },
   {
    "duration": 116,
    "start_time": "2022-05-25T01:41:11.736Z"
   },
   {
    "duration": 243,
    "start_time": "2022-05-25T01:41:30.462Z"
   },
   {
    "duration": 117,
    "start_time": "2022-05-25T01:41:39.360Z"
   },
   {
    "duration": 124,
    "start_time": "2022-05-25T01:42:20.743Z"
   },
   {
    "duration": 356,
    "start_time": "2022-05-25T01:43:52.824Z"
   },
   {
    "duration": 242,
    "start_time": "2022-05-25T01:44:02.174Z"
   },
   {
    "duration": 362,
    "start_time": "2022-05-25T01:44:13.858Z"
   },
   {
    "duration": 244,
    "start_time": "2022-05-25T01:45:23.614Z"
   },
   {
    "duration": 366,
    "start_time": "2022-05-25T01:45:35.968Z"
   },
   {
    "duration": 375,
    "start_time": "2022-05-25T01:47:21.887Z"
   },
   {
    "duration": 349,
    "start_time": "2022-05-25T01:49:14.149Z"
   },
   {
    "duration": 500,
    "start_time": "2022-05-25T01:51:39.218Z"
   },
   {
    "duration": 326,
    "start_time": "2022-05-25T01:53:26.748Z"
   },
   {
    "duration": 1554,
    "start_time": "2022-05-25T02:35:46.307Z"
   },
   {
    "duration": 21,
    "start_time": "2022-05-25T02:35:47.863Z"
   },
   {
    "duration": 33,
    "start_time": "2022-05-25T02:35:47.886Z"
   },
   {
    "duration": 24,
    "start_time": "2022-05-25T02:35:47.921Z"
   },
   {
    "duration": 27,
    "start_time": "2022-05-25T02:35:47.947Z"
   },
   {
    "duration": 40,
    "start_time": "2022-05-25T02:35:47.976Z"
   },
   {
    "duration": 9,
    "start_time": "2022-05-25T02:35:48.018Z"
   },
   {
    "duration": 34,
    "start_time": "2022-05-25T02:35:48.029Z"
   },
   {
    "duration": 267,
    "start_time": "2022-05-25T02:35:48.065Z"
   },
   {
    "duration": 3,
    "start_time": "2022-05-25T02:35:48.334Z"
   },
   {
    "duration": 39,
    "start_time": "2022-05-25T02:35:48.339Z"
   },
   {
    "duration": 84,
    "start_time": "2022-05-25T02:35:48.380Z"
   },
   {
    "duration": 18,
    "start_time": "2022-05-25T02:35:48.466Z"
   },
   {
    "duration": 119,
    "start_time": "2022-05-25T02:35:48.485Z"
   },
   {
    "duration": 13,
    "start_time": "2022-05-25T02:35:48.606Z"
   },
   {
    "duration": 20,
    "start_time": "2022-05-25T02:35:48.621Z"
   },
   {
    "duration": 74,
    "start_time": "2022-05-25T02:35:48.643Z"
   },
   {
    "duration": 33,
    "start_time": "2022-05-25T02:35:48.720Z"
   },
   {
    "duration": 54,
    "start_time": "2022-05-25T02:35:48.755Z"
   },
   {
    "duration": 91,
    "start_time": "2022-05-25T02:35:48.811Z"
   },
   {
    "duration": 11,
    "start_time": "2022-05-25T02:35:48.904Z"
   },
   {
    "duration": 14,
    "start_time": "2022-05-25T02:35:48.916Z"
   },
   {
    "duration": 13,
    "start_time": "2022-05-25T02:35:48.932Z"
   },
   {
    "duration": 129,
    "start_time": "2022-05-25T02:35:48.947Z"
   },
   {
    "duration": 30,
    "start_time": "2022-05-25T02:35:49.078Z"
   },
   {
    "duration": 17,
    "start_time": "2022-05-25T02:35:49.110Z"
   },
   {
    "duration": 13,
    "start_time": "2022-05-25T02:35:49.129Z"
   },
   {
    "duration": 7,
    "start_time": "2022-05-25T02:35:49.147Z"
   },
   {
    "duration": 47,
    "start_time": "2022-05-25T02:35:49.155Z"
   },
   {
    "duration": 7,
    "start_time": "2022-05-25T02:35:49.204Z"
   },
   {
    "duration": 14,
    "start_time": "2022-05-25T02:35:49.213Z"
   },
   {
    "duration": 34,
    "start_time": "2022-05-25T02:35:49.228Z"
   },
   {
    "duration": 98,
    "start_time": "2022-05-25T02:35:49.264Z"
   },
   {
    "duration": 381,
    "start_time": "2022-05-25T02:35:49.365Z"
   },
   {
    "duration": 351,
    "start_time": "2022-05-25T02:35:49.747Z"
   },
   {
    "duration": 412,
    "start_time": "2022-05-25T02:35:50.103Z"
   },
   {
    "duration": 9,
    "start_time": "2022-05-25T02:35:50.517Z"
   },
   {
    "duration": 222,
    "start_time": "2022-05-25T02:35:50.528Z"
   },
   {
    "duration": 185,
    "start_time": "2022-05-25T02:37:02.599Z"
   },
   {
    "duration": 176,
    "start_time": "2022-05-25T02:37:16.833Z"
   },
   {
    "duration": 486,
    "start_time": "2022-05-25T02:43:03.686Z"
   },
   {
    "duration": 365,
    "start_time": "2022-05-25T02:48:52.516Z"
   },
   {
    "duration": 48,
    "start_time": "2022-05-25T03:37:09.720Z"
   },
   {
    "duration": 924,
    "start_time": "2022-05-25T03:38:12.020Z"
   },
   {
    "duration": 1014,
    "start_time": "2022-05-25T03:38:53.169Z"
   },
   {
    "duration": 16,
    "start_time": "2022-05-25T03:39:10.201Z"
   },
   {
    "duration": 203,
    "start_time": "2022-05-25T03:39:43.090Z"
   },
   {
    "duration": 188,
    "start_time": "2022-05-25T03:40:32.759Z"
   },
   {
    "duration": 199,
    "start_time": "2022-05-25T03:40:39.731Z"
   },
   {
    "duration": 416,
    "start_time": "2022-05-25T03:45:16.188Z"
   },
   {
    "duration": 51,
    "start_time": "2022-05-25T03:45:43.106Z"
   },
   {
    "duration": 28,
    "start_time": "2022-05-25T03:45:52.937Z"
   },
   {
    "duration": 374,
    "start_time": "2022-05-25T03:46:20.699Z"
   },
   {
    "duration": 4,
    "start_time": "2022-05-25T03:52:58.144Z"
   },
   {
    "duration": 218,
    "start_time": "2022-05-25T03:53:28.319Z"
   },
   {
    "duration": 304,
    "start_time": "2022-05-25T03:53:37.025Z"
   },
   {
    "duration": 194,
    "start_time": "2022-05-25T03:54:02.861Z"
   },
   {
    "duration": 211,
    "start_time": "2022-05-25T03:54:22.662Z"
   },
   {
    "duration": 203,
    "start_time": "2022-05-25T03:54:34.255Z"
   },
   {
    "duration": 208,
    "start_time": "2022-05-25T03:55:40.258Z"
   },
   {
    "duration": 332,
    "start_time": "2022-05-25T03:58:37.476Z"
   },
   {
    "duration": 450,
    "start_time": "2022-05-25T03:58:45.808Z"
   },
   {
    "duration": 455,
    "start_time": "2022-05-25T03:58:55.302Z"
   },
   {
    "duration": 996,
    "start_time": "2022-05-25T03:59:01.650Z"
   },
   {
    "duration": 427,
    "start_time": "2022-05-25T03:59:10.293Z"
   },
   {
    "duration": 255,
    "start_time": "2022-05-25T03:59:21.347Z"
   },
   {
    "duration": 225,
    "start_time": "2022-05-25T03:59:26.665Z"
   },
   {
    "duration": 208,
    "start_time": "2022-05-25T03:59:36.399Z"
   },
   {
    "duration": 601,
    "start_time": "2022-05-25T04:01:36.634Z"
   },
   {
    "duration": 644,
    "start_time": "2022-05-25T04:02:30.349Z"
   },
   {
    "duration": 1526,
    "start_time": "2022-05-25T04:03:22.179Z"
   },
   {
    "duration": 1852,
    "start_time": "2022-05-25T04:08:48.768Z"
   },
   {
    "duration": 1545,
    "start_time": "2022-05-25T04:10:44.381Z"
   },
   {
    "duration": 64,
    "start_time": "2022-05-25T04:12:42.722Z"
   },
   {
    "duration": 11043,
    "start_time": "2022-05-25T04:15:41.322Z"
   },
   {
    "duration": 1682,
    "start_time": "2022-05-25T04:29:47.005Z"
   },
   {
    "duration": 49,
    "start_time": "2022-05-25T04:30:59.011Z"
   },
   {
    "duration": 28,
    "start_time": "2022-05-25T04:40:09.716Z"
   },
   {
    "duration": 1622,
    "start_time": "2022-05-25T04:44:46.136Z"
   },
   {
    "duration": 782,
    "start_time": "2022-05-25T04:45:01.559Z"
   },
   {
    "duration": 48,
    "start_time": "2022-05-25T04:45:20.433Z"
   },
   {
    "duration": 52,
    "start_time": "2022-05-25T04:45:40.656Z"
   },
   {
    "duration": 53,
    "start_time": "2022-05-25T04:45:43.033Z"
   },
   {
    "duration": 806,
    "start_time": "2022-05-25T04:45:43.528Z"
   },
   {
    "duration": 237,
    "start_time": "2022-05-25T04:46:23.544Z"
   },
   {
    "duration": 290,
    "start_time": "2022-05-25T04:46:39.669Z"
   },
   {
    "duration": 286,
    "start_time": "2022-05-25T04:47:06.887Z"
   },
   {
    "duration": 28,
    "start_time": "2022-05-25T04:48:22.867Z"
   },
   {
    "duration": 29,
    "start_time": "2022-05-25T04:49:09.280Z"
   },
   {
    "duration": 32,
    "start_time": "2022-05-25T04:49:24.303Z"
   },
   {
    "duration": 26,
    "start_time": "2022-05-25T04:50:02.709Z"
   },
   {
    "duration": 294,
    "start_time": "2022-05-25T04:50:17.279Z"
   },
   {
    "duration": 230,
    "start_time": "2022-05-25T04:50:46.592Z"
   },
   {
    "duration": 713,
    "start_time": "2022-05-25T04:51:51.922Z"
   },
   {
    "duration": 633,
    "start_time": "2022-05-25T04:52:02.154Z"
   },
   {
    "duration": 712,
    "start_time": "2022-05-25T04:52:18.286Z"
   },
   {
    "duration": 205,
    "start_time": "2022-05-25T04:54:44.328Z"
   },
   {
    "duration": 27,
    "start_time": "2022-05-25T04:55:26.402Z"
   },
   {
    "duration": 198,
    "start_time": "2022-05-25T04:55:30.649Z"
   },
   {
    "duration": 112,
    "start_time": "2022-05-25T04:56:29.295Z"
   },
   {
    "duration": 159,
    "start_time": "2022-05-25T04:56:37.060Z"
   },
   {
    "duration": 172,
    "start_time": "2022-05-25T04:56:49.348Z"
   },
   {
    "duration": 185,
    "start_time": "2022-05-25T04:57:08.757Z"
   },
   {
    "duration": 22,
    "start_time": "2022-05-25T04:58:09.596Z"
   },
   {
    "duration": 26,
    "start_time": "2022-05-25T04:58:26.452Z"
   },
   {
    "duration": 16,
    "start_time": "2022-05-25T04:58:59.719Z"
   },
   {
    "duration": 23,
    "start_time": "2022-05-25T04:59:04.801Z"
   },
   {
    "duration": 196,
    "start_time": "2022-05-25T04:59:10.388Z"
   },
   {
    "duration": 44,
    "start_time": "2022-05-25T05:02:08.774Z"
   },
   {
    "duration": 4657,
    "start_time": "2022-05-25T05:02:09.355Z"
   },
   {
    "duration": 2218,
    "start_time": "2022-05-25T18:23:54.685Z"
   },
   {
    "duration": 25,
    "start_time": "2022-05-25T18:23:56.905Z"
   },
   {
    "duration": 33,
    "start_time": "2022-05-25T18:23:56.932Z"
   },
   {
    "duration": 36,
    "start_time": "2022-05-25T18:23:56.968Z"
   },
   {
    "duration": 46,
    "start_time": "2022-05-25T18:23:57.006Z"
   },
   {
    "duration": 20,
    "start_time": "2022-05-25T18:23:57.054Z"
   },
   {
    "duration": 20,
    "start_time": "2022-05-25T18:23:57.076Z"
   },
   {
    "duration": 53,
    "start_time": "2022-05-25T18:23:57.097Z"
   },
   {
    "duration": 346,
    "start_time": "2022-05-25T18:23:57.152Z"
   },
   {
    "duration": 6,
    "start_time": "2022-05-25T18:23:57.499Z"
   },
   {
    "duration": 42,
    "start_time": "2022-05-25T18:23:57.507Z"
   },
   {
    "duration": 59,
    "start_time": "2022-05-25T18:23:57.551Z"
   },
   {
    "duration": 25,
    "start_time": "2022-05-25T18:23:57.611Z"
   },
   {
    "duration": 25,
    "start_time": "2022-05-25T18:23:57.639Z"
   },
   {
    "duration": 12,
    "start_time": "2022-05-25T18:23:57.666Z"
   },
   {
    "duration": 17,
    "start_time": "2022-05-25T18:23:57.679Z"
   },
   {
    "duration": 42,
    "start_time": "2022-05-25T18:23:57.727Z"
   },
   {
    "duration": 31,
    "start_time": "2022-05-25T18:23:57.771Z"
   },
   {
    "duration": 48,
    "start_time": "2022-05-25T18:23:57.804Z"
   },
   {
    "duration": 89,
    "start_time": "2022-05-25T18:23:57.853Z"
   },
   {
    "duration": 9,
    "start_time": "2022-05-25T18:23:57.944Z"
   },
   {
    "duration": 13,
    "start_time": "2022-05-25T18:23:57.955Z"
   },
   {
    "duration": 13,
    "start_time": "2022-05-25T18:23:57.970Z"
   },
   {
    "duration": 131,
    "start_time": "2022-05-25T18:23:57.985Z"
   },
   {
    "duration": 20,
    "start_time": "2022-05-25T18:23:58.118Z"
   },
   {
    "duration": 16,
    "start_time": "2022-05-25T18:23:58.140Z"
   },
   {
    "duration": 13,
    "start_time": "2022-05-25T18:23:58.158Z"
   },
   {
    "duration": 7,
    "start_time": "2022-05-25T18:23:58.173Z"
   },
   {
    "duration": 10,
    "start_time": "2022-05-25T18:23:58.182Z"
   },
   {
    "duration": 36,
    "start_time": "2022-05-25T18:23:58.194Z"
   },
   {
    "duration": 14,
    "start_time": "2022-05-25T18:23:58.232Z"
   },
   {
    "duration": 26,
    "start_time": "2022-05-25T18:23:58.247Z"
   },
   {
    "duration": 97,
    "start_time": "2022-05-25T18:23:58.274Z"
   },
   {
    "duration": 350,
    "start_time": "2022-05-25T18:23:58.372Z"
   },
   {
    "duration": 326,
    "start_time": "2022-05-25T18:23:58.726Z"
   },
   {
    "duration": 361,
    "start_time": "2022-05-25T18:23:59.054Z"
   },
   {
    "duration": 49,
    "start_time": "2022-05-25T18:23:59.417Z"
   },
   {
    "duration": 4265,
    "start_time": "2022-05-25T18:23:59.467Z"
   },
   {
    "duration": 24,
    "start_time": "2022-05-25T18:24:03.733Z"
   },
   {
    "duration": 71,
    "start_time": "2022-05-25T18:24:03.758Z"
   },
   {
    "duration": 239,
    "start_time": "2022-05-25T18:24:03.832Z"
   },
   {
    "duration": 3985,
    "start_time": "2022-05-25T18:25:39.525Z"
   },
   {
    "duration": 4359,
    "start_time": "2022-05-25T18:26:00.278Z"
   },
   {
    "duration": 42,
    "start_time": "2022-05-25T18:26:17.375Z"
   },
   {
    "duration": 28,
    "start_time": "2022-05-25T18:26:28.863Z"
   },
   {
    "duration": 20,
    "start_time": "2022-05-25T18:26:41.022Z"
   },
   {
    "duration": 570,
    "start_time": "2022-05-25T18:26:51.750Z"
   },
   {
    "duration": 23,
    "start_time": "2022-05-25T18:27:24.528Z"
   },
   {
    "duration": 453,
    "start_time": "2022-05-25T18:27:44.271Z"
   },
   {
    "duration": 8,
    "start_time": "2022-05-25T18:27:55.328Z"
   },
   {
    "duration": 487,
    "start_time": "2022-05-25T18:27:58.383Z"
   },
   {
    "duration": 4286,
    "start_time": "2022-05-25T18:28:09.527Z"
   },
   {
    "duration": 20,
    "start_time": "2022-05-25T18:28:22.559Z"
   },
   {
    "duration": 4109,
    "start_time": "2022-05-25T18:28:28.537Z"
   },
   {
    "duration": 4507,
    "start_time": "2022-05-25T18:28:44.329Z"
   },
   {
    "duration": 4314,
    "start_time": "2022-05-25T18:29:15.367Z"
   },
   {
    "duration": 505,
    "start_time": "2022-05-25T18:56:05.851Z"
   },
   {
    "duration": 471,
    "start_time": "2022-05-25T18:57:23.633Z"
   },
   {
    "duration": 1124,
    "start_time": "2022-05-25T18:57:37.891Z"
   },
   {
    "duration": 489,
    "start_time": "2022-05-25T18:58:28.162Z"
   },
   {
    "duration": 605,
    "start_time": "2022-05-25T19:33:00.199Z"
   },
   {
    "duration": 646,
    "start_time": "2022-05-25T19:33:36.840Z"
   },
   {
    "duration": 212,
    "start_time": "2022-05-25T19:34:21.734Z"
   },
   {
    "duration": 103,
    "start_time": "2022-05-25T19:34:37.556Z"
   },
   {
    "duration": 103,
    "start_time": "2022-05-25T19:34:52.319Z"
   },
   {
    "duration": 106,
    "start_time": "2022-05-25T19:34:59.431Z"
   },
   {
    "duration": 15,
    "start_time": "2022-05-25T19:35:13.030Z"
   },
   {
    "duration": 9,
    "start_time": "2022-05-25T19:35:51.966Z"
   },
   {
    "duration": 10,
    "start_time": "2022-05-25T19:36:00.748Z"
   },
   {
    "duration": 126,
    "start_time": "2022-05-25T19:36:17.022Z"
   },
   {
    "duration": 118,
    "start_time": "2022-05-25T19:36:25.317Z"
   },
   {
    "duration": 102,
    "start_time": "2022-05-25T19:36:32.966Z"
   },
   {
    "duration": 661,
    "start_time": "2022-05-25T19:38:33.166Z"
   },
   {
    "duration": 560,
    "start_time": "2022-05-25T19:39:03.830Z"
   },
   {
    "duration": 739,
    "start_time": "2022-05-25T19:39:13.221Z"
   },
   {
    "duration": 660,
    "start_time": "2022-05-25T19:40:36.086Z"
   },
   {
    "duration": 572,
    "start_time": "2022-05-25T19:41:05.605Z"
   },
   {
    "duration": 697,
    "start_time": "2022-05-25T19:41:15.286Z"
   },
   {
    "duration": 738,
    "start_time": "2022-05-25T19:41:26.840Z"
   },
   {
    "duration": 240,
    "start_time": "2022-05-25T19:43:01.908Z"
   },
   {
    "duration": 341,
    "start_time": "2022-05-25T19:43:30.756Z"
   },
   {
    "duration": 397,
    "start_time": "2022-05-25T19:43:52.365Z"
   },
   {
    "duration": 1186,
    "start_time": "2022-05-25T19:44:54.918Z"
   },
   {
    "duration": 722,
    "start_time": "2022-05-25T19:45:22.006Z"
   },
   {
    "duration": 886,
    "start_time": "2022-05-25T19:45:28.098Z"
   },
   {
    "duration": 20,
    "start_time": "2022-05-25T19:45:28.986Z"
   },
   {
    "duration": 35,
    "start_time": "2022-05-25T19:45:29.008Z"
   },
   {
    "duration": 31,
    "start_time": "2022-05-25T19:45:29.046Z"
   },
   {
    "duration": 60,
    "start_time": "2022-05-25T19:45:29.079Z"
   },
   {
    "duration": 18,
    "start_time": "2022-05-25T19:45:29.141Z"
   },
   {
    "duration": 12,
    "start_time": "2022-05-25T19:45:29.161Z"
   },
   {
    "duration": 53,
    "start_time": "2022-05-25T19:45:29.175Z"
   },
   {
    "duration": 254,
    "start_time": "2022-05-25T19:45:29.230Z"
   },
   {
    "duration": 4,
    "start_time": "2022-05-25T19:45:29.488Z"
   },
   {
    "duration": 47,
    "start_time": "2022-05-25T19:45:29.494Z"
   },
   {
    "duration": 86,
    "start_time": "2022-05-25T19:45:29.543Z"
   },
   {
    "duration": 16,
    "start_time": "2022-05-25T19:45:29.631Z"
   },
   {
    "duration": 44,
    "start_time": "2022-05-25T19:45:29.649Z"
   },
   {
    "duration": 39,
    "start_time": "2022-05-25T19:45:29.695Z"
   },
   {
    "duration": 20,
    "start_time": "2022-05-25T19:45:29.735Z"
   },
   {
    "duration": 44,
    "start_time": "2022-05-25T19:45:29.756Z"
   },
   {
    "duration": 55,
    "start_time": "2022-05-25T19:45:29.802Z"
   },
   {
    "duration": 31,
    "start_time": "2022-05-25T19:45:29.859Z"
   },
   {
    "duration": 100,
    "start_time": "2022-05-25T19:45:29.892Z"
   },
   {
    "duration": 13,
    "start_time": "2022-05-25T19:45:29.994Z"
   },
   {
    "duration": 15,
    "start_time": "2022-05-25T19:45:30.027Z"
   },
   {
    "duration": 27,
    "start_time": "2022-05-25T19:45:30.044Z"
   },
   {
    "duration": 130,
    "start_time": "2022-05-25T19:45:30.073Z"
   },
   {
    "duration": 25,
    "start_time": "2022-05-25T19:45:30.205Z"
   },
   {
    "duration": 33,
    "start_time": "2022-05-25T19:45:30.232Z"
   },
   {
    "duration": 48,
    "start_time": "2022-05-25T19:45:30.267Z"
   },
   {
    "duration": 16,
    "start_time": "2022-05-25T19:45:30.319Z"
   },
   {
    "duration": 29,
    "start_time": "2022-05-25T19:45:30.337Z"
   },
   {
    "duration": 6,
    "start_time": "2022-05-25T19:45:30.368Z"
   },
   {
    "duration": 28,
    "start_time": "2022-05-25T19:45:30.376Z"
   },
   {
    "duration": 62,
    "start_time": "2022-05-25T19:45:30.405Z"
   },
   {
    "duration": 69,
    "start_time": "2022-05-25T19:45:30.468Z"
   },
   {
    "duration": 367,
    "start_time": "2022-05-25T19:45:30.539Z"
   },
   {
    "duration": 357,
    "start_time": "2022-05-25T19:45:30.908Z"
   },
   {
    "duration": 372,
    "start_time": "2022-05-25T19:45:31.267Z"
   },
   {
    "duration": 58,
    "start_time": "2022-05-25T19:45:31.641Z"
   },
   {
    "duration": 66,
    "start_time": "2022-05-25T19:45:33.844Z"
   },
   {
    "duration": 48,
    "start_time": "2022-05-25T19:45:34.589Z"
   },
   {
    "duration": 785,
    "start_time": "2022-05-25T19:45:35.172Z"
   },
   {
    "duration": 1704,
    "start_time": "2022-05-25T19:46:09.138Z"
   },
   {
    "duration": 23,
    "start_time": "2022-05-25T19:46:10.844Z"
   },
   {
    "duration": 36,
    "start_time": "2022-05-25T19:46:10.870Z"
   },
   {
    "duration": 39,
    "start_time": "2022-05-25T19:46:10.908Z"
   },
   {
    "duration": 30,
    "start_time": "2022-05-25T19:46:10.950Z"
   },
   {
    "duration": 45,
    "start_time": "2022-05-25T19:46:10.982Z"
   },
   {
    "duration": 13,
    "start_time": "2022-05-25T19:46:11.029Z"
   },
   {
    "duration": 41,
    "start_time": "2022-05-25T19:46:11.044Z"
   },
   {
    "duration": 274,
    "start_time": "2022-05-25T19:46:11.087Z"
   },
   {
    "duration": 4,
    "start_time": "2022-05-25T19:46:11.363Z"
   },
   {
    "duration": 41,
    "start_time": "2022-05-25T19:46:11.370Z"
   },
   {
    "duration": 63,
    "start_time": "2022-05-25T19:46:11.426Z"
   },
   {
    "duration": 16,
    "start_time": "2022-05-25T19:46:11.491Z"
   },
   {
    "duration": 116,
    "start_time": "2022-05-25T19:46:11.527Z"
   },
   {
    "duration": 13,
    "start_time": "2022-05-25T19:46:11.645Z"
   },
   {
    "duration": 17,
    "start_time": "2022-05-25T19:46:11.660Z"
   },
   {
    "duration": 69,
    "start_time": "2022-05-25T19:46:11.679Z"
   },
   {
    "duration": 34,
    "start_time": "2022-05-25T19:46:11.750Z"
   },
   {
    "duration": 60,
    "start_time": "2022-05-25T19:46:11.786Z"
   },
   {
    "duration": 113,
    "start_time": "2022-05-25T19:46:11.848Z"
   },
   {
    "duration": 10,
    "start_time": "2022-05-25T19:46:11.963Z"
   },
   {
    "duration": 14,
    "start_time": "2022-05-25T19:46:11.975Z"
   },
   {
    "duration": 45,
    "start_time": "2022-05-25T19:46:11.991Z"
   },
   {
    "duration": 106,
    "start_time": "2022-05-25T19:46:12.038Z"
   },
   {
    "duration": 18,
    "start_time": "2022-05-25T19:46:12.146Z"
   },
   {
    "duration": 21,
    "start_time": "2022-05-25T19:46:12.166Z"
   },
   {
    "duration": 43,
    "start_time": "2022-05-25T19:46:12.189Z"
   },
   {
    "duration": 12,
    "start_time": "2022-05-25T19:46:12.234Z"
   },
   {
    "duration": 11,
    "start_time": "2022-05-25T19:46:12.248Z"
   },
   {
    "duration": 6,
    "start_time": "2022-05-25T19:46:12.260Z"
   },
   {
    "duration": 15,
    "start_time": "2022-05-25T19:46:12.268Z"
   },
   {
    "duration": 61,
    "start_time": "2022-05-25T19:46:12.285Z"
   },
   {
    "duration": 65,
    "start_time": "2022-05-25T19:46:12.348Z"
   },
   {
    "duration": 392,
    "start_time": "2022-05-25T19:46:12.428Z"
   },
   {
    "duration": 353,
    "start_time": "2022-05-25T19:46:12.822Z"
   },
   {
    "duration": 464,
    "start_time": "2022-05-25T19:46:13.177Z"
   },
   {
    "duration": 66,
    "start_time": "2022-05-25T19:46:13.647Z"
   },
   {
    "duration": 985,
    "start_time": "2022-05-25T19:46:13.715Z"
   },
   {
    "duration": 878,
    "start_time": "2022-05-25T19:46:14.702Z"
   },
   {
    "duration": 824,
    "start_time": "2022-05-25T19:46:15.582Z"
   },
   {
    "duration": 906,
    "start_time": "2022-05-25T19:46:16.412Z"
   },
   {
    "duration": 659,
    "start_time": "2022-05-25T19:46:17.321Z"
   },
   {
    "duration": 767,
    "start_time": "2022-05-25T19:46:17.982Z"
   },
   {
    "duration": 807,
    "start_time": "2022-05-25T19:46:18.751Z"
   },
   {
    "duration": 884,
    "start_time": "2022-05-25T19:46:19.560Z"
   },
   {
    "duration": 763,
    "start_time": "2022-05-25T19:46:20.446Z"
   },
   {
    "duration": 35,
    "start_time": "2022-05-25T19:46:21.210Z"
   },
   {
    "duration": 47,
    "start_time": "2022-05-25T19:46:21.247Z"
   },
   {
    "duration": 217,
    "start_time": "2022-05-25T19:46:21.296Z"
   },
   {
    "duration": 913,
    "start_time": "2022-05-25T19:48:01.996Z"
   },
   {
    "duration": 524,
    "start_time": "2022-05-25T19:48:27.641Z"
   },
   {
    "duration": 545,
    "start_time": "2022-05-25T19:48:53.066Z"
   },
   {
    "duration": 678,
    "start_time": "2022-05-25T19:49:03.114Z"
   },
   {
    "duration": 694,
    "start_time": "2022-05-25T19:49:12.489Z"
   },
   {
    "duration": 673,
    "start_time": "2022-05-25T19:54:17.330Z"
   },
   {
    "duration": 539,
    "start_time": "2022-05-25T19:55:55.763Z"
   },
   {
    "duration": 55,
    "start_time": "2022-05-25T19:56:59.995Z"
   },
   {
    "duration": 483,
    "start_time": "2022-05-25T19:57:04.602Z"
   },
   {
    "duration": 627,
    "start_time": "2022-05-25T19:57:21.069Z"
   },
   {
    "duration": 106,
    "start_time": "2022-05-25T19:57:34.123Z"
   },
   {
    "duration": 115,
    "start_time": "2022-05-25T20:01:06.219Z"
   },
   {
    "duration": 88,
    "start_time": "2022-05-25T20:01:11.915Z"
   },
   {
    "duration": 106,
    "start_time": "2022-05-25T20:01:18.700Z"
   },
   {
    "duration": 163,
    "start_time": "2022-05-25T20:01:24.458Z"
   },
   {
    "duration": 5,
    "start_time": "2022-05-25T20:02:01.811Z"
   },
   {
    "duration": 124,
    "start_time": "2022-05-25T20:02:09.627Z"
   },
   {
    "duration": 207,
    "start_time": "2022-05-25T20:02:23.580Z"
   },
   {
    "duration": 185,
    "start_time": "2022-05-25T20:03:19.850Z"
   },
   {
    "duration": 275,
    "start_time": "2022-05-25T20:03:37.754Z"
   },
   {
    "duration": 188,
    "start_time": "2022-05-25T20:03:54.382Z"
   },
   {
    "duration": 13,
    "start_time": "2022-05-25T20:04:16.164Z"
   },
   {
    "duration": 489,
    "start_time": "2022-05-25T20:04:26.775Z"
   },
   {
    "duration": 532,
    "start_time": "2022-05-25T20:04:48.384Z"
   },
   {
    "duration": 645,
    "start_time": "2022-05-25T20:05:00.684Z"
   },
   {
    "duration": 626,
    "start_time": "2022-05-25T20:44:17.268Z"
   },
   {
    "duration": 714,
    "start_time": "2022-05-25T20:44:51.157Z"
   },
   {
    "duration": 616,
    "start_time": "2022-05-25T20:45:11.852Z"
   },
   {
    "duration": 610,
    "start_time": "2022-05-25T20:45:52.102Z"
   },
   {
    "duration": 694,
    "start_time": "2022-05-25T20:46:05.109Z"
   },
   {
    "duration": 585,
    "start_time": "2022-05-25T20:46:19.822Z"
   },
   {
    "duration": 10,
    "start_time": "2022-05-25T20:47:14.903Z"
   },
   {
    "duration": 1698,
    "start_time": "2022-05-25T20:47:42.048Z"
   },
   {
    "duration": 23,
    "start_time": "2022-05-25T20:47:43.749Z"
   },
   {
    "duration": 34,
    "start_time": "2022-05-25T20:47:43.774Z"
   },
   {
    "duration": 38,
    "start_time": "2022-05-25T20:47:43.810Z"
   },
   {
    "duration": 34,
    "start_time": "2022-05-25T20:47:43.850Z"
   },
   {
    "duration": 44,
    "start_time": "2022-05-25T20:47:43.887Z"
   },
   {
    "duration": 18,
    "start_time": "2022-05-25T20:47:43.933Z"
   },
   {
    "duration": 45,
    "start_time": "2022-05-25T20:47:43.953Z"
   },
   {
    "duration": 309,
    "start_time": "2022-05-25T20:47:44.000Z"
   },
   {
    "duration": 4,
    "start_time": "2022-05-25T20:47:44.312Z"
   },
   {
    "duration": 48,
    "start_time": "2022-05-25T20:47:44.318Z"
   },
   {
    "duration": 98,
    "start_time": "2022-05-25T20:47:44.368Z"
   },
   {
    "duration": 17,
    "start_time": "2022-05-25T20:47:44.468Z"
   },
   {
    "duration": 141,
    "start_time": "2022-05-25T20:47:44.487Z"
   },
   {
    "duration": 14,
    "start_time": "2022-05-25T20:47:44.630Z"
   },
   {
    "duration": 18,
    "start_time": "2022-05-25T20:47:44.647Z"
   },
   {
    "duration": 88,
    "start_time": "2022-05-25T20:47:44.668Z"
   },
   {
    "duration": 46,
    "start_time": "2022-05-25T20:47:44.758Z"
   },
   {
    "duration": 56,
    "start_time": "2022-05-25T20:47:44.806Z"
   },
   {
    "duration": 121,
    "start_time": "2022-05-25T20:47:44.863Z"
   },
   {
    "duration": 13,
    "start_time": "2022-05-25T20:47:44.985Z"
   },
   {
    "duration": 31,
    "start_time": "2022-05-25T20:47:45.000Z"
   },
   {
    "duration": 22,
    "start_time": "2022-05-25T20:47:45.033Z"
   },
   {
    "duration": 146,
    "start_time": "2022-05-25T20:47:45.059Z"
   },
   {
    "duration": 33,
    "start_time": "2022-05-25T20:47:45.209Z"
   },
   {
    "duration": 22,
    "start_time": "2022-05-25T20:47:45.252Z"
   },
   {
    "duration": 18,
    "start_time": "2022-05-25T20:47:45.276Z"
   },
   {
    "duration": 30,
    "start_time": "2022-05-25T20:47:45.299Z"
   },
   {
    "duration": 12,
    "start_time": "2022-05-25T20:47:45.331Z"
   },
   {
    "duration": 11,
    "start_time": "2022-05-25T20:47:45.345Z"
   },
   {
    "duration": 17,
    "start_time": "2022-05-25T20:47:45.357Z"
   },
   {
    "duration": 32,
    "start_time": "2022-05-25T20:47:45.376Z"
   },
   {
    "duration": 80,
    "start_time": "2022-05-25T20:47:45.428Z"
   },
   {
    "duration": 401,
    "start_time": "2022-05-25T20:47:45.509Z"
   },
   {
    "duration": 396,
    "start_time": "2022-05-25T20:47:45.911Z"
   },
   {
    "duration": 474,
    "start_time": "2022-05-25T20:47:46.310Z"
   },
   {
    "duration": 63,
    "start_time": "2022-05-25T20:47:46.786Z"
   },
   {
    "duration": 671,
    "start_time": "2022-05-25T20:47:46.851Z"
   },
   {
    "duration": 1084,
    "start_time": "2022-05-25T20:47:47.527Z"
   },
   {
    "duration": 590,
    "start_time": "2022-05-25T20:47:48.613Z"
   },
   {
    "duration": 767,
    "start_time": "2022-05-25T20:47:49.205Z"
   },
   {
    "duration": 677,
    "start_time": "2022-05-25T20:47:49.974Z"
   },
   {
    "duration": 697,
    "start_time": "2022-05-25T20:47:50.653Z"
   },
   {
    "duration": 813,
    "start_time": "2022-05-25T20:47:51.352Z"
   },
   {
    "duration": 687,
    "start_time": "2022-05-25T20:47:52.167Z"
   },
   {
    "duration": 605,
    "start_time": "2022-05-25T20:47:52.857Z"
   },
   {
    "duration": 34,
    "start_time": "2022-05-25T20:47:53.464Z"
   },
   {
    "duration": 64,
    "start_time": "2022-05-25T20:47:53.500Z"
   },
   {
    "duration": 240,
    "start_time": "2022-05-25T20:47:53.567Z"
   },
   {
    "duration": 741,
    "start_time": "2022-05-25T20:49:22.196Z"
   },
   {
    "duration": 603,
    "start_time": "2022-05-25T20:49:27.228Z"
   },
   {
    "duration": 691,
    "start_time": "2022-05-25T20:49:36.477Z"
   },
   {
    "duration": 662,
    "start_time": "2022-05-25T20:49:49.798Z"
   },
   {
    "duration": 558,
    "start_time": "2022-05-25T20:51:39.509Z"
   },
   {
    "duration": 629,
    "start_time": "2022-05-25T20:51:54.556Z"
   },
   {
    "duration": 17,
    "start_time": "2022-05-25T20:52:38.318Z"
   },
   {
    "duration": 9,
    "start_time": "2022-05-25T20:52:54.485Z"
   },
   {
    "duration": 9,
    "start_time": "2022-05-25T20:53:03.877Z"
   },
   {
    "duration": 83,
    "start_time": "2022-05-25T20:53:14.292Z"
   },
   {
    "duration": 263,
    "start_time": "2022-05-25T20:53:43.918Z"
   },
   {
    "duration": 21,
    "start_time": "2022-05-25T21:00:51.863Z"
   },
   {
    "duration": 416,
    "start_time": "2022-05-25T21:00:55.749Z"
   },
   {
    "duration": 17,
    "start_time": "2022-05-25T21:00:56.167Z"
   },
   {
    "duration": 75,
    "start_time": "2022-05-25T21:00:56.187Z"
   },
   {
    "duration": 31,
    "start_time": "2022-05-25T21:00:56.265Z"
   },
   {
    "duration": 44,
    "start_time": "2022-05-25T21:00:56.298Z"
   },
   {
    "duration": 16,
    "start_time": "2022-05-25T21:00:56.345Z"
   },
   {
    "duration": 17,
    "start_time": "2022-05-25T21:00:56.364Z"
   },
   {
    "duration": 61,
    "start_time": "2022-05-25T21:00:56.383Z"
   },
   {
    "duration": 228,
    "start_time": "2022-05-25T21:00:56.447Z"
   },
   {
    "duration": 4,
    "start_time": "2022-05-25T21:00:56.677Z"
   },
   {
    "duration": 59,
    "start_time": "2022-05-25T21:00:56.683Z"
   },
   {
    "duration": 90,
    "start_time": "2022-05-25T21:00:56.744Z"
   },
   {
    "duration": 13,
    "start_time": "2022-05-25T21:00:56.835Z"
   },
   {
    "duration": 28,
    "start_time": "2022-05-25T21:00:56.850Z"
   },
   {
    "duration": 12,
    "start_time": "2022-05-25T21:00:56.879Z"
   },
   {
    "duration": 39,
    "start_time": "2022-05-25T21:00:56.893Z"
   },
   {
    "duration": 42,
    "start_time": "2022-05-25T21:00:56.933Z"
   },
   {
    "duration": 33,
    "start_time": "2022-05-25T21:00:56.977Z"
   },
   {
    "duration": 27,
    "start_time": "2022-05-25T21:00:57.027Z"
   },
   {
    "duration": 100,
    "start_time": "2022-05-25T21:00:57.055Z"
   },
   {
    "duration": 10,
    "start_time": "2022-05-25T21:00:57.156Z"
   },
   {
    "duration": 15,
    "start_time": "2022-05-25T21:00:57.167Z"
   },
   {
    "duration": 16,
    "start_time": "2022-05-25T21:00:57.183Z"
   },
   {
    "duration": 105,
    "start_time": "2022-05-25T21:00:57.200Z"
   },
   {
    "duration": 26,
    "start_time": "2022-05-25T21:00:57.307Z"
   },
   {
    "duration": 25,
    "start_time": "2022-05-25T21:00:57.335Z"
   },
   {
    "duration": 14,
    "start_time": "2022-05-25T21:00:57.361Z"
   },
   {
    "duration": 8,
    "start_time": "2022-05-25T21:00:57.378Z"
   },
   {
    "duration": 48,
    "start_time": "2022-05-25T21:00:57.388Z"
   },
   {
    "duration": 6,
    "start_time": "2022-05-25T21:00:57.438Z"
   },
   {
    "duration": 19,
    "start_time": "2022-05-25T21:00:57.446Z"
   },
   {
    "duration": 37,
    "start_time": "2022-05-25T21:00:57.467Z"
   },
   {
    "duration": 85,
    "start_time": "2022-05-25T21:00:57.506Z"
   },
   {
    "duration": 356,
    "start_time": "2022-05-25T21:00:57.593Z"
   },
   {
    "duration": 339,
    "start_time": "2022-05-25T21:00:57.951Z"
   },
   {
    "duration": 345,
    "start_time": "2022-05-25T21:00:58.292Z"
   },
   {
    "duration": 8,
    "start_time": "2022-05-25T21:01:15.446Z"
   },
   {
    "duration": 107,
    "start_time": "2022-05-25T21:02:41.743Z"
   },
   {
    "duration": 658,
    "start_time": "2022-05-25T21:02:49.459Z"
   },
   {
    "duration": 21,
    "start_time": "2022-05-25T21:05:30.393Z"
   },
   {
    "duration": 21,
    "start_time": "2022-05-25T21:05:31.401Z"
   },
   {
    "duration": 616,
    "start_time": "2022-05-25T21:05:32.055Z"
   },
   {
    "duration": 618,
    "start_time": "2022-05-25T21:06:32.140Z"
   },
   {
    "duration": 792,
    "start_time": "2022-05-25T21:06:47.515Z"
   },
   {
    "duration": 591,
    "start_time": "2022-05-25T21:06:57.755Z"
   },
   {
    "duration": 606,
    "start_time": "2022-05-25T21:07:03.097Z"
   },
   {
    "duration": 781,
    "start_time": "2022-05-25T21:07:10.540Z"
   },
   {
    "duration": 349,
    "start_time": "2022-05-25T21:07:24.888Z"
   },
   {
    "duration": 385,
    "start_time": "2022-05-25T21:07:34.644Z"
   },
   {
    "duration": 570,
    "start_time": "2022-05-25T21:07:39.496Z"
   },
   {
    "duration": 28,
    "start_time": "2022-05-25T21:08:40.698Z"
   },
   {
    "duration": 161,
    "start_time": "2022-05-25T21:09:05.447Z"
   },
   {
    "duration": 26,
    "start_time": "2022-05-25T21:09:16.505Z"
   },
   {
    "duration": 21,
    "start_time": "2022-05-25T21:09:40.593Z"
   },
   {
    "duration": 54,
    "start_time": "2022-05-25T21:10:18.610Z"
   },
   {
    "duration": 422,
    "start_time": "2022-05-25T21:16:09.808Z"
   },
   {
    "duration": 446,
    "start_time": "2022-05-25T21:18:26.553Z"
   },
   {
    "duration": 452,
    "start_time": "2022-05-25T21:20:31.088Z"
   },
   {
    "duration": 1632,
    "start_time": "2022-05-25T21:21:33.135Z"
   },
   {
    "duration": 32,
    "start_time": "2022-05-25T21:21:34.769Z"
   },
   {
    "duration": 47,
    "start_time": "2022-05-25T21:21:34.803Z"
   },
   {
    "duration": 29,
    "start_time": "2022-05-25T21:21:34.853Z"
   },
   {
    "duration": 52,
    "start_time": "2022-05-25T21:21:34.884Z"
   },
   {
    "duration": 16,
    "start_time": "2022-05-25T21:21:34.937Z"
   },
   {
    "duration": 9,
    "start_time": "2022-05-25T21:21:34.955Z"
   },
   {
    "duration": 76,
    "start_time": "2022-05-25T21:21:34.966Z"
   },
   {
    "duration": 250,
    "start_time": "2022-05-25T21:21:35.044Z"
   },
   {
    "duration": 4,
    "start_time": "2022-05-25T21:21:35.298Z"
   },
   {
    "duration": 53,
    "start_time": "2022-05-25T21:21:35.304Z"
   },
   {
    "duration": 82,
    "start_time": "2022-05-25T21:21:35.359Z"
   },
   {
    "duration": 15,
    "start_time": "2022-05-25T21:21:35.443Z"
   },
   {
    "duration": 107,
    "start_time": "2022-05-25T21:21:35.459Z"
   },
   {
    "duration": 12,
    "start_time": "2022-05-25T21:21:35.568Z"
   },
   {
    "duration": 18,
    "start_time": "2022-05-25T21:21:35.581Z"
   },
   {
    "duration": 77,
    "start_time": "2022-05-25T21:21:35.601Z"
   },
   {
    "duration": 65,
    "start_time": "2022-05-25T21:21:35.679Z"
   },
   {
    "duration": 29,
    "start_time": "2022-05-25T21:21:35.746Z"
   },
   {
    "duration": 108,
    "start_time": "2022-05-25T21:21:35.777Z"
   },
   {
    "duration": 10,
    "start_time": "2022-05-25T21:21:35.886Z"
   },
   {
    "duration": 44,
    "start_time": "2022-05-25T21:21:35.898Z"
   },
   {
    "duration": 15,
    "start_time": "2022-05-25T21:21:35.944Z"
   },
   {
    "duration": 116,
    "start_time": "2022-05-25T21:21:35.961Z"
   },
   {
    "duration": 15,
    "start_time": "2022-05-25T21:21:36.079Z"
   },
   {
    "duration": 46,
    "start_time": "2022-05-25T21:21:36.096Z"
   },
   {
    "duration": 18,
    "start_time": "2022-05-25T21:21:36.144Z"
   },
   {
    "duration": 8,
    "start_time": "2022-05-25T21:21:36.165Z"
   },
   {
    "duration": 14,
    "start_time": "2022-05-25T21:21:36.175Z"
   },
   {
    "duration": 23,
    "start_time": "2022-05-25T21:21:36.192Z"
   },
   {
    "duration": 31,
    "start_time": "2022-05-25T21:21:36.218Z"
   },
   {
    "duration": 51,
    "start_time": "2022-05-25T21:21:36.251Z"
   },
   {
    "duration": 94,
    "start_time": "2022-05-25T21:21:36.304Z"
   },
   {
    "duration": 412,
    "start_time": "2022-05-25T21:21:36.400Z"
   },
   {
    "duration": 378,
    "start_time": "2022-05-25T21:21:36.814Z"
   },
   {
    "duration": 389,
    "start_time": "2022-05-25T21:21:37.194Z"
   },
   {
    "duration": 20,
    "start_time": "2022-05-25T21:21:37.585Z"
   },
   {
    "duration": 75,
    "start_time": "2022-05-25T21:21:37.606Z"
   },
   {
    "duration": 458,
    "start_time": "2022-05-25T21:21:37.683Z"
   },
   {
    "duration": 572,
    "start_time": "2022-05-25T21:21:38.143Z"
   },
   {
    "duration": 467,
    "start_time": "2022-05-25T21:21:38.717Z"
   },
   {
    "duration": 506,
    "start_time": "2022-05-25T21:28:17.616Z"
   },
   {
    "duration": 66,
    "start_time": "2022-05-25T21:34:55.752Z"
   },
   {
    "duration": 422,
    "start_time": "2022-05-25T21:34:58.159Z"
   },
   {
    "duration": 596,
    "start_time": "2022-05-25T21:35:26.649Z"
   },
   {
    "duration": 747,
    "start_time": "2022-05-25T21:35:37.642Z"
   },
   {
    "duration": 572,
    "start_time": "2022-05-25T21:36:29.072Z"
   },
   {
    "duration": 523,
    "start_time": "2022-05-25T21:36:48.547Z"
   },
   {
    "duration": 25,
    "start_time": "2022-05-25T21:37:25.288Z"
   },
   {
    "duration": 16,
    "start_time": "2022-05-25T21:37:31.224Z"
   },
   {
    "duration": 122,
    "start_time": "2022-05-25T21:37:41.881Z"
   },
   {
    "duration": 193,
    "start_time": "2022-05-25T21:38:03.529Z"
   },
   {
    "duration": 167,
    "start_time": "2022-05-25T21:38:15.856Z"
   },
   {
    "duration": 149,
    "start_time": "2022-05-25T21:38:25.255Z"
   },
   {
    "duration": 124,
    "start_time": "2022-05-25T21:39:50.753Z"
   },
   {
    "duration": 275,
    "start_time": "2022-05-25T21:40:42.577Z"
   },
   {
    "duration": 319,
    "start_time": "2022-05-25T21:41:28.874Z"
   },
   {
    "duration": 632,
    "start_time": "2022-05-25T21:41:40.707Z"
   },
   {
    "duration": 467,
    "start_time": "2022-05-25T21:42:11.193Z"
   },
   {
    "duration": 377,
    "start_time": "2022-05-25T21:42:41.170Z"
   },
   {
    "duration": 342,
    "start_time": "2022-05-25T21:48:38.621Z"
   },
   {
    "duration": 574,
    "start_time": "2022-05-25T21:49:01.299Z"
   },
   {
    "duration": 271,
    "start_time": "2022-05-25T21:49:20.685Z"
   },
   {
    "duration": 267,
    "start_time": "2022-05-25T21:49:31.564Z"
   },
   {
    "duration": 256,
    "start_time": "2022-05-25T21:49:38.347Z"
   },
   {
    "duration": 265,
    "start_time": "2022-05-25T21:49:41.678Z"
   },
   {
    "duration": 273,
    "start_time": "2022-05-25T21:49:53.899Z"
   },
   {
    "duration": 79,
    "start_time": "2022-05-25T21:50:15.741Z"
   },
   {
    "duration": 451,
    "start_time": "2022-05-25T21:50:21.483Z"
   },
   {
    "duration": 329,
    "start_time": "2022-05-25T21:50:28.379Z"
   },
   {
    "duration": 289,
    "start_time": "2022-05-25T21:50:57.869Z"
   },
   {
    "duration": 341,
    "start_time": "2022-05-25T21:53:51.540Z"
   },
   {
    "duration": 358,
    "start_time": "2022-05-25T21:54:04.213Z"
   },
   {
    "duration": 441,
    "start_time": "2022-05-25T21:54:10.180Z"
   },
   {
    "duration": 312,
    "start_time": "2022-05-25T21:54:18.204Z"
   },
   {
    "duration": 301,
    "start_time": "2022-05-25T21:54:40.044Z"
   },
   {
    "duration": 23,
    "start_time": "2022-05-25T21:56:17.326Z"
   },
   {
    "duration": 311,
    "start_time": "2022-05-25T21:56:33.702Z"
   },
   {
    "duration": 166,
    "start_time": "2022-05-25T21:56:41.757Z"
   },
   {
    "duration": 343,
    "start_time": "2022-05-25T21:56:56.054Z"
   },
   {
    "duration": 472,
    "start_time": "2022-05-25T21:57:01.700Z"
   },
   {
    "duration": 319,
    "start_time": "2022-05-25T21:57:11.975Z"
   },
   {
    "duration": 325,
    "start_time": "2022-05-25T21:57:16.993Z"
   },
   {
    "duration": 1542,
    "start_time": "2022-05-25T21:57:57.069Z"
   },
   {
    "duration": 38,
    "start_time": "2022-05-25T21:57:58.613Z"
   },
   {
    "duration": 41,
    "start_time": "2022-05-25T21:57:58.652Z"
   },
   {
    "duration": 25,
    "start_time": "2022-05-25T21:57:58.696Z"
   },
   {
    "duration": 38,
    "start_time": "2022-05-25T21:57:58.728Z"
   },
   {
    "duration": 16,
    "start_time": "2022-05-25T21:57:58.767Z"
   },
   {
    "duration": 11,
    "start_time": "2022-05-25T21:57:58.784Z"
   },
   {
    "duration": 68,
    "start_time": "2022-05-25T21:57:58.797Z"
   },
   {
    "duration": 276,
    "start_time": "2022-05-25T21:57:58.867Z"
   },
   {
    "duration": 4,
    "start_time": "2022-05-25T21:57:59.145Z"
   },
   {
    "duration": 40,
    "start_time": "2022-05-25T21:57:59.150Z"
   },
   {
    "duration": 71,
    "start_time": "2022-05-25T21:57:59.192Z"
   },
   {
    "duration": 17,
    "start_time": "2022-05-25T21:57:59.264Z"
   },
   {
    "duration": 113,
    "start_time": "2022-05-25T21:57:59.283Z"
   },
   {
    "duration": 10,
    "start_time": "2022-05-25T21:57:59.398Z"
   },
   {
    "duration": 37,
    "start_time": "2022-05-25T21:57:59.409Z"
   },
   {
    "duration": 42,
    "start_time": "2022-05-25T21:57:59.448Z"
   },
   {
    "duration": 52,
    "start_time": "2022-05-25T21:57:59.492Z"
   },
   {
    "duration": 34,
    "start_time": "2022-05-25T21:57:59.545Z"
   },
   {
    "duration": 101,
    "start_time": "2022-05-25T21:57:59.581Z"
   },
   {
    "duration": 9,
    "start_time": "2022-05-25T21:57:59.683Z"
   },
   {
    "duration": 48,
    "start_time": "2022-05-25T21:57:59.694Z"
   },
   {
    "duration": 18,
    "start_time": "2022-05-25T21:57:59.744Z"
   },
   {
    "duration": 108,
    "start_time": "2022-05-25T21:57:59.763Z"
   },
   {
    "duration": 16,
    "start_time": "2022-05-25T21:57:59.873Z"
   },
   {
    "duration": 20,
    "start_time": "2022-05-25T21:57:59.891Z"
   },
   {
    "duration": 21,
    "start_time": "2022-05-25T21:57:59.931Z"
   },
   {
    "duration": 7,
    "start_time": "2022-05-25T21:57:59.955Z"
   },
   {
    "duration": 20,
    "start_time": "2022-05-25T21:57:59.964Z"
   },
   {
    "duration": 12,
    "start_time": "2022-05-25T21:57:59.987Z"
   },
   {
    "duration": 41,
    "start_time": "2022-05-25T21:58:00.001Z"
   },
   {
    "duration": 49,
    "start_time": "2022-05-25T21:58:00.044Z"
   },
   {
    "duration": 67,
    "start_time": "2022-05-25T21:58:00.095Z"
   },
   {
    "duration": 377,
    "start_time": "2022-05-25T21:58:00.164Z"
   },
   {
    "duration": 341,
    "start_time": "2022-05-25T21:58:00.543Z"
   },
   {
    "duration": 383,
    "start_time": "2022-05-25T21:58:00.886Z"
   },
   {
    "duration": 81,
    "start_time": "2022-05-25T21:58:01.271Z"
   },
   {
    "duration": 511,
    "start_time": "2022-05-25T21:58:01.354Z"
   },
   {
    "duration": 432,
    "start_time": "2022-05-25T21:58:01.866Z"
   },
   {
    "duration": 298,
    "start_time": "2022-05-25T21:58:02.300Z"
   },
   {
    "duration": 314,
    "start_time": "2022-05-25T21:58:02.600Z"
   },
   {
    "duration": 317,
    "start_time": "2022-05-25T21:58:16.440Z"
   },
   {
    "duration": 303,
    "start_time": "2022-05-25T21:58:23.143Z"
   },
   {
    "duration": 313,
    "start_time": "2022-05-25T22:00:27.790Z"
   },
   {
    "duration": 424,
    "start_time": "2022-05-25T22:00:34.775Z"
   },
   {
    "duration": 376,
    "start_time": "2022-05-25T22:00:53.696Z"
   },
   {
    "duration": 542,
    "start_time": "2022-05-25T22:02:10.968Z"
   },
   {
    "duration": 67,
    "start_time": "2022-05-25T22:02:51.679Z"
   },
   {
    "duration": 493,
    "start_time": "2022-05-25T22:02:57.054Z"
   },
   {
    "duration": 224,
    "start_time": "2022-05-25T22:04:21.192Z"
   },
   {
    "duration": 576,
    "start_time": "2022-05-25T22:04:27.975Z"
   },
   {
    "duration": 5517,
    "start_time": "2022-05-25T22:04:44.247Z"
   },
   {
    "duration": 1597,
    "start_time": "2022-05-25T22:05:03.767Z"
   },
   {
    "duration": 22,
    "start_time": "2022-05-25T22:05:05.366Z"
   },
   {
    "duration": 47,
    "start_time": "2022-05-25T22:05:05.390Z"
   },
   {
    "duration": 27,
    "start_time": "2022-05-25T22:05:05.439Z"
   },
   {
    "duration": 30,
    "start_time": "2022-05-25T22:05:05.467Z"
   },
   {
    "duration": 41,
    "start_time": "2022-05-25T22:05:05.499Z"
   },
   {
    "duration": 16,
    "start_time": "2022-05-25T22:05:05.542Z"
   },
   {
    "duration": 37,
    "start_time": "2022-05-25T22:05:05.560Z"
   },
   {
    "duration": 269,
    "start_time": "2022-05-25T22:05:05.598Z"
   },
   {
    "duration": 4,
    "start_time": "2022-05-25T22:05:05.870Z"
   },
   {
    "duration": 40,
    "start_time": "2022-05-25T22:05:05.875Z"
   },
   {
    "duration": 72,
    "start_time": "2022-05-25T22:05:05.927Z"
   },
   {
    "duration": 29,
    "start_time": "2022-05-25T22:05:06.001Z"
   },
   {
    "duration": 122,
    "start_time": "2022-05-25T22:05:06.035Z"
   },
   {
    "duration": 11,
    "start_time": "2022-05-25T22:05:06.159Z"
   },
   {
    "duration": 21,
    "start_time": "2022-05-25T22:05:06.172Z"
   },
   {
    "duration": 74,
    "start_time": "2022-05-25T22:05:06.196Z"
   },
   {
    "duration": 44,
    "start_time": "2022-05-25T22:05:06.272Z"
   },
   {
    "duration": 41,
    "start_time": "2022-05-25T22:05:06.330Z"
   },
   {
    "duration": 143,
    "start_time": "2022-05-25T22:05:06.373Z"
   },
   {
    "duration": 22,
    "start_time": "2022-05-25T22:05:06.518Z"
   },
   {
    "duration": 40,
    "start_time": "2022-05-25T22:05:06.542Z"
   },
   {
    "duration": 14,
    "start_time": "2022-05-25T22:05:06.584Z"
   },
   {
    "duration": 120,
    "start_time": "2022-05-25T22:05:06.600Z"
   },
   {
    "duration": 17,
    "start_time": "2022-05-25T22:05:06.727Z"
   },
   {
    "duration": 26,
    "start_time": "2022-05-25T22:05:06.745Z"
   },
   {
    "duration": 14,
    "start_time": "2022-05-25T22:05:06.772Z"
   },
   {
    "duration": 10,
    "start_time": "2022-05-25T22:05:06.790Z"
   },
   {
    "duration": 41,
    "start_time": "2022-05-25T22:05:06.801Z"
   },
   {
    "duration": 6,
    "start_time": "2022-05-25T22:05:06.844Z"
   },
   {
    "duration": 35,
    "start_time": "2022-05-25T22:05:06.852Z"
   },
   {
    "duration": 30,
    "start_time": "2022-05-25T22:05:06.889Z"
   },
   {
    "duration": 72,
    "start_time": "2022-05-25T22:05:06.921Z"
   },
   {
    "duration": 412,
    "start_time": "2022-05-25T22:05:06.995Z"
   },
   {
    "duration": 382,
    "start_time": "2022-05-25T22:05:07.409Z"
   },
   {
    "duration": 451,
    "start_time": "2022-05-25T22:05:07.793Z"
   },
   {
    "duration": 69,
    "start_time": "2022-05-25T22:05:08.245Z"
   },
   {
    "duration": 525,
    "start_time": "2022-05-25T22:05:08.316Z"
   },
   {
    "duration": 634,
    "start_time": "2022-05-25T22:05:08.842Z"
   },
   {
    "duration": 568,
    "start_time": "2022-05-25T22:05:09.479Z"
   },
   {
    "duration": 497,
    "start_time": "2022-05-25T22:05:41.276Z"
   },
   {
    "duration": 521,
    "start_time": "2022-05-25T22:05:53.972Z"
   },
   {
    "duration": 559,
    "start_time": "2022-05-25T22:06:29.427Z"
   },
   {
    "duration": 521,
    "start_time": "2022-05-25T22:06:37.210Z"
   },
   {
    "duration": 590,
    "start_time": "2022-05-25T22:06:45.996Z"
   },
   {
    "duration": 588,
    "start_time": "2022-05-25T22:06:50.778Z"
   },
   {
    "duration": 564,
    "start_time": "2022-05-25T22:07:06.325Z"
   },
   {
    "duration": 604,
    "start_time": "2022-05-25T22:07:16.068Z"
   },
   {
    "duration": 508,
    "start_time": "2022-05-25T22:07:38.484Z"
   },
   {
    "duration": 648,
    "start_time": "2022-05-25T22:07:54.300Z"
   },
   {
    "duration": 512,
    "start_time": "2022-05-25T22:08:02.884Z"
   },
   {
    "duration": 548,
    "start_time": "2022-05-25T22:08:11.291Z"
   },
   {
    "duration": 503,
    "start_time": "2022-05-25T22:08:18.588Z"
   },
   {
    "duration": 580,
    "start_time": "2022-05-25T22:08:51.659Z"
   },
   {
    "duration": 475,
    "start_time": "2022-05-25T22:08:55.163Z"
   },
   {
    "duration": 491,
    "start_time": "2022-05-25T22:08:59.020Z"
   },
   {
    "duration": 613,
    "start_time": "2022-05-25T22:09:06.851Z"
   },
   {
    "duration": 487,
    "start_time": "2022-05-25T22:09:10.011Z"
   },
   {
    "duration": 476,
    "start_time": "2022-05-25T22:09:21.644Z"
   },
   {
    "duration": 468,
    "start_time": "2022-05-25T22:09:28.580Z"
   },
   {
    "duration": 568,
    "start_time": "2022-05-25T22:09:33.574Z"
   },
   {
    "duration": 518,
    "start_time": "2022-05-25T22:09:41.659Z"
   },
   {
    "duration": 473,
    "start_time": "2022-05-25T22:09:59.404Z"
   },
   {
    "duration": 611,
    "start_time": "2022-05-25T22:10:06.164Z"
   },
   {
    "duration": 584,
    "start_time": "2022-05-25T22:10:24.421Z"
   },
   {
    "duration": 426,
    "start_time": "2022-05-25T22:10:30.924Z"
   },
   {
    "duration": 377,
    "start_time": "2022-05-25T22:10:39.038Z"
   },
   {
    "duration": 469,
    "start_time": "2022-05-25T22:11:01.574Z"
   },
   {
    "duration": 439,
    "start_time": "2022-05-25T22:11:12.325Z"
   },
   {
    "duration": 568,
    "start_time": "2022-05-25T22:11:26.012Z"
   },
   {
    "duration": 433,
    "start_time": "2022-05-25T22:11:33.436Z"
   },
   {
    "duration": 411,
    "start_time": "2022-05-25T22:11:37.230Z"
   },
   {
    "duration": 5137,
    "start_time": "2022-05-25T22:11:48.979Z"
   },
   {
    "duration": 461,
    "start_time": "2022-05-25T22:12:27.201Z"
   },
   {
    "duration": 19,
    "start_time": "2022-05-25T22:12:27.664Z"
   },
   {
    "duration": 46,
    "start_time": "2022-05-25T22:12:27.685Z"
   },
   {
    "duration": 26,
    "start_time": "2022-05-25T22:12:27.734Z"
   },
   {
    "duration": 51,
    "start_time": "2022-05-25T22:12:27.762Z"
   },
   {
    "duration": 14,
    "start_time": "2022-05-25T22:12:27.815Z"
   },
   {
    "duration": 32,
    "start_time": "2022-05-25T22:12:27.831Z"
   },
   {
    "duration": 48,
    "start_time": "2022-05-25T22:12:27.865Z"
   },
   {
    "duration": 263,
    "start_time": "2022-05-25T22:12:27.915Z"
   },
   {
    "duration": 3,
    "start_time": "2022-05-25T22:12:28.181Z"
   },
   {
    "duration": 53,
    "start_time": "2022-05-25T22:12:28.186Z"
   },
   {
    "duration": 52,
    "start_time": "2022-05-25T22:12:28.241Z"
   },
   {
    "duration": 12,
    "start_time": "2022-05-25T22:12:28.295Z"
   },
   {
    "duration": 52,
    "start_time": "2022-05-25T22:12:28.308Z"
   },
   {
    "duration": 11,
    "start_time": "2022-05-25T22:12:28.361Z"
   },
   {
    "duration": 20,
    "start_time": "2022-05-25T22:12:28.373Z"
   },
   {
    "duration": 61,
    "start_time": "2022-05-25T22:12:28.394Z"
   },
   {
    "duration": 31,
    "start_time": "2022-05-25T22:12:28.457Z"
   },
   {
    "duration": 55,
    "start_time": "2022-05-25T22:12:28.489Z"
   },
   {
    "duration": 85,
    "start_time": "2022-05-25T22:12:28.546Z"
   },
   {
    "duration": 12,
    "start_time": "2022-05-25T22:12:28.638Z"
   },
   {
    "duration": 28,
    "start_time": "2022-05-25T22:12:28.651Z"
   },
   {
    "duration": 24,
    "start_time": "2022-05-25T22:12:28.681Z"
   },
   {
    "duration": 144,
    "start_time": "2022-05-25T22:12:28.706Z"
   },
   {
    "duration": 14,
    "start_time": "2022-05-25T22:12:28.852Z"
   },
   {
    "duration": 20,
    "start_time": "2022-05-25T22:12:28.868Z"
   },
   {
    "duration": 32,
    "start_time": "2022-05-25T22:12:28.889Z"
   },
   {
    "duration": 14,
    "start_time": "2022-05-25T22:12:28.926Z"
   },
   {
    "duration": 13,
    "start_time": "2022-05-25T22:12:28.941Z"
   },
   {
    "duration": 9,
    "start_time": "2022-05-25T22:12:28.956Z"
   },
   {
    "duration": 12,
    "start_time": "2022-05-25T22:12:28.967Z"
   },
   {
    "duration": 30,
    "start_time": "2022-05-25T22:12:28.980Z"
   },
   {
    "duration": 64,
    "start_time": "2022-05-25T22:12:29.037Z"
   },
   {
    "duration": 403,
    "start_time": "2022-05-25T22:12:29.103Z"
   },
   {
    "duration": 529,
    "start_time": "2022-05-25T22:12:29.508Z"
   },
   {
    "duration": 409,
    "start_time": "2022-05-25T22:12:30.040Z"
   },
   {
    "duration": 62,
    "start_time": "2022-05-25T22:12:30.450Z"
   },
   {
    "duration": 410,
    "start_time": "2022-05-25T22:12:30.514Z"
   },
   {
    "duration": 426,
    "start_time": "2022-05-25T22:12:30.925Z"
   },
   {
    "duration": 405,
    "start_time": "2022-05-25T22:12:31.353Z"
   },
   {
    "duration": 537,
    "start_time": "2022-05-25T22:13:23.739Z"
   },
   {
    "duration": 434,
    "start_time": "2022-05-25T22:13:29.948Z"
   },
   {
    "duration": 425,
    "start_time": "2022-05-25T22:13:37.443Z"
   },
   {
    "duration": 423,
    "start_time": "2022-05-25T22:13:53.684Z"
   },
   {
    "duration": 470,
    "start_time": "2022-05-25T22:13:58.380Z"
   },
   {
    "duration": 407,
    "start_time": "2022-05-25T22:14:09.501Z"
   },
   {
    "duration": 479,
    "start_time": "2022-05-25T22:14:14.140Z"
   },
   {
    "duration": 389,
    "start_time": "2022-05-25T22:14:18.548Z"
   },
   {
    "duration": 392,
    "start_time": "2022-05-25T22:14:23.412Z"
   },
   {
    "duration": 374,
    "start_time": "2022-05-25T22:14:36.525Z"
   },
   {
    "duration": 387,
    "start_time": "2022-05-25T22:14:43.580Z"
   },
   {
    "duration": 514,
    "start_time": "2022-05-25T22:14:49.750Z"
   },
   {
    "duration": 364,
    "start_time": "2022-05-25T22:14:59.516Z"
   },
   {
    "duration": 429,
    "start_time": "2022-05-25T22:15:14.061Z"
   },
   {
    "duration": 415,
    "start_time": "2022-05-25T22:15:18.868Z"
   },
   {
    "duration": 398,
    "start_time": "2022-05-25T22:15:26.669Z"
   },
   {
    "duration": 388,
    "start_time": "2022-05-25T22:15:32.982Z"
   },
   {
    "duration": 500,
    "start_time": "2022-05-25T22:15:39.446Z"
   },
   {
    "duration": 404,
    "start_time": "2022-05-25T22:15:52.276Z"
   },
   {
    "duration": 397,
    "start_time": "2022-05-25T22:15:59.740Z"
   },
   {
    "duration": 398,
    "start_time": "2022-05-25T22:16:10.421Z"
   },
   {
    "duration": 435,
    "start_time": "2022-05-25T22:16:18.221Z"
   },
   {
    "duration": 499,
    "start_time": "2022-05-25T22:16:28.391Z"
   },
   {
    "duration": 433,
    "start_time": "2022-05-25T22:16:34.580Z"
   },
   {
    "duration": 432,
    "start_time": "2022-05-25T22:16:47.511Z"
   },
   {
    "duration": 429,
    "start_time": "2022-05-25T22:16:53.262Z"
   },
   {
    "duration": 410,
    "start_time": "2022-05-25T22:16:54.012Z"
   },
   {
    "duration": 416,
    "start_time": "2022-05-25T22:17:05.758Z"
   },
   {
    "duration": 546,
    "start_time": "2022-05-25T22:17:13.365Z"
   },
   {
    "duration": 417,
    "start_time": "2022-05-25T22:17:21.045Z"
   },
   {
    "duration": 391,
    "start_time": "2022-05-25T22:17:33.413Z"
   },
   {
    "duration": 389,
    "start_time": "2022-05-25T22:17:37.062Z"
   },
   {
    "duration": 396,
    "start_time": "2022-05-25T22:17:43.718Z"
   },
   {
    "duration": 524,
    "start_time": "2022-05-25T22:17:53.687Z"
   },
   {
    "duration": 423,
    "start_time": "2022-05-25T22:17:59.870Z"
   },
   {
    "duration": 422,
    "start_time": "2022-05-25T22:18:08.365Z"
   },
   {
    "duration": 425,
    "start_time": "2022-05-25T22:19:03.519Z"
   },
   {
    "duration": 424,
    "start_time": "2022-05-25T22:19:09.621Z"
   },
   {
    "duration": 406,
    "start_time": "2022-05-25T22:19:19.781Z"
   },
   {
    "duration": 534,
    "start_time": "2022-05-25T22:19:26.303Z"
   },
   {
    "duration": 394,
    "start_time": "2022-05-25T22:19:32.893Z"
   },
   {
    "duration": 437,
    "start_time": "2022-05-25T22:19:36.926Z"
   },
   {
    "duration": 1572,
    "start_time": "2022-05-25T23:32:42.986Z"
   },
   {
    "duration": 22,
    "start_time": "2022-05-25T23:32:44.560Z"
   },
   {
    "duration": 32,
    "start_time": "2022-05-25T23:32:44.584Z"
   },
   {
    "duration": 29,
    "start_time": "2022-05-25T23:32:44.618Z"
   },
   {
    "duration": 31,
    "start_time": "2022-05-25T23:32:44.649Z"
   },
   {
    "duration": 18,
    "start_time": "2022-05-25T23:32:44.682Z"
   },
   {
    "duration": 35,
    "start_time": "2022-05-25T23:32:44.701Z"
   },
   {
    "duration": 34,
    "start_time": "2022-05-25T23:32:44.738Z"
   },
   {
    "duration": 284,
    "start_time": "2022-05-25T23:32:44.774Z"
   },
   {
    "duration": 4,
    "start_time": "2022-05-25T23:32:45.061Z"
   },
   {
    "duration": 43,
    "start_time": "2022-05-25T23:32:45.067Z"
   },
   {
    "duration": 78,
    "start_time": "2022-05-25T23:32:45.112Z"
   },
   {
    "duration": 13,
    "start_time": "2022-05-25T23:32:45.192Z"
   },
   {
    "duration": 127,
    "start_time": "2022-05-25T23:32:45.207Z"
   },
   {
    "duration": 13,
    "start_time": "2022-05-25T23:32:45.336Z"
   },
   {
    "duration": 22,
    "start_time": "2022-05-25T23:32:45.351Z"
   },
   {
    "duration": 57,
    "start_time": "2022-05-25T23:32:45.375Z"
   },
   {
    "duration": 31,
    "start_time": "2022-05-25T23:32:45.434Z"
   },
   {
    "duration": 27,
    "start_time": "2022-05-25T23:32:45.467Z"
   },
   {
    "duration": 109,
    "start_time": "2022-05-25T23:32:45.497Z"
   },
   {
    "duration": 21,
    "start_time": "2022-05-25T23:32:45.608Z"
   },
   {
    "duration": 15,
    "start_time": "2022-05-25T23:32:45.630Z"
   },
   {
    "duration": 14,
    "start_time": "2022-05-25T23:32:45.647Z"
   },
   {
    "duration": 143,
    "start_time": "2022-05-25T23:32:45.663Z"
   },
   {
    "duration": 24,
    "start_time": "2022-05-25T23:32:45.807Z"
   },
   {
    "duration": 17,
    "start_time": "2022-05-25T23:32:45.833Z"
   },
   {
    "duration": 14,
    "start_time": "2022-05-25T23:32:45.851Z"
   },
   {
    "duration": 10,
    "start_time": "2022-05-25T23:32:45.868Z"
   },
   {
    "duration": 12,
    "start_time": "2022-05-25T23:32:45.880Z"
   },
   {
    "duration": 34,
    "start_time": "2022-05-25T23:32:45.894Z"
   },
   {
    "duration": 12,
    "start_time": "2022-05-25T23:32:45.930Z"
   },
   {
    "duration": 32,
    "start_time": "2022-05-25T23:32:45.943Z"
   },
   {
    "duration": 81,
    "start_time": "2022-05-25T23:32:45.977Z"
   },
   {
    "duration": 523,
    "start_time": "2022-05-25T23:32:46.059Z"
   },
   {
    "duration": 396,
    "start_time": "2022-05-25T23:32:46.583Z"
   },
   {
    "duration": 414,
    "start_time": "2022-05-25T23:32:46.980Z"
   },
   {
    "duration": 82,
    "start_time": "2022-05-25T23:32:47.395Z"
   },
   {
    "duration": 439,
    "start_time": "2022-05-25T23:32:47.479Z"
   },
   {
    "duration": 407,
    "start_time": "2022-05-25T23:32:47.927Z"
   },
   {
    "duration": 549,
    "start_time": "2022-05-25T23:32:48.337Z"
   },
   {
    "duration": 107,
    "start_time": "2022-05-25T23:46:43.909Z"
   },
   {
    "duration": 448,
    "start_time": "2022-05-25T23:46:52.960Z"
   },
   {
    "duration": 20,
    "start_time": "2022-05-25T23:46:53.410Z"
   },
   {
    "duration": 46,
    "start_time": "2022-05-25T23:46:53.432Z"
   },
   {
    "duration": 24,
    "start_time": "2022-05-25T23:46:53.481Z"
   },
   {
    "duration": 43,
    "start_time": "2022-05-25T23:46:53.506Z"
   },
   {
    "duration": 24,
    "start_time": "2022-05-25T23:46:53.550Z"
   },
   {
    "duration": 9,
    "start_time": "2022-05-25T23:46:53.576Z"
   },
   {
    "duration": 50,
    "start_time": "2022-05-25T23:46:53.586Z"
   },
   {
    "duration": 257,
    "start_time": "2022-05-25T23:46:53.638Z"
   },
   {
    "duration": 6,
    "start_time": "2022-05-25T23:46:53.899Z"
   },
   {
    "duration": 70,
    "start_time": "2022-05-25T23:46:53.907Z"
   },
   {
    "duration": 64,
    "start_time": "2022-05-25T23:46:53.978Z"
   },
   {
    "duration": 13,
    "start_time": "2022-05-25T23:46:54.043Z"
   },
   {
    "duration": 26,
    "start_time": "2022-05-25T23:46:54.058Z"
   },
   {
    "duration": 12,
    "start_time": "2022-05-25T23:46:54.085Z"
   },
   {
    "duration": 51,
    "start_time": "2022-05-25T23:46:54.099Z"
   },
   {
    "duration": 46,
    "start_time": "2022-05-25T23:46:54.152Z"
   },
   {
    "duration": 56,
    "start_time": "2022-05-25T23:46:54.199Z"
   },
   {
    "duration": 28,
    "start_time": "2022-05-25T23:46:54.257Z"
   },
   {
    "duration": 98,
    "start_time": "2022-05-25T23:46:54.287Z"
   },
   {
    "duration": 10,
    "start_time": "2022-05-25T23:46:54.387Z"
   },
   {
    "duration": 36,
    "start_time": "2022-05-25T23:46:54.399Z"
   },
   {
    "duration": 18,
    "start_time": "2022-05-25T23:46:54.437Z"
   },
   {
    "duration": 103,
    "start_time": "2022-05-25T23:46:54.457Z"
   },
   {
    "duration": 14,
    "start_time": "2022-05-25T23:46:54.561Z"
   },
   {
    "duration": 18,
    "start_time": "2022-05-25T23:46:54.577Z"
   },
   {
    "duration": 39,
    "start_time": "2022-05-25T23:46:54.597Z"
   },
   {
    "duration": 10,
    "start_time": "2022-05-25T23:46:54.643Z"
   },
   {
    "duration": 15,
    "start_time": "2022-05-25T23:46:54.654Z"
   },
   {
    "duration": 7,
    "start_time": "2022-05-25T23:47:00.162Z"
   },
   {
    "duration": 15,
    "start_time": "2022-05-25T23:47:07.922Z"
   },
   {
    "duration": 29,
    "start_time": "2022-05-25T23:47:09.355Z"
   },
   {
    "duration": 456,
    "start_time": "2022-05-25T23:47:31.755Z"
   },
   {
    "duration": 26,
    "start_time": "2022-05-25T23:47:32.213Z"
   },
   {
    "duration": 50,
    "start_time": "2022-05-25T23:47:32.240Z"
   },
   {
    "duration": 25,
    "start_time": "2022-05-25T23:47:32.292Z"
   },
   {
    "duration": 38,
    "start_time": "2022-05-25T23:47:32.319Z"
   },
   {
    "duration": 18,
    "start_time": "2022-05-25T23:47:32.359Z"
   },
   {
    "duration": 18,
    "start_time": "2022-05-25T23:47:32.379Z"
   },
   {
    "duration": 56,
    "start_time": "2022-05-25T23:47:32.399Z"
   },
   {
    "duration": 263,
    "start_time": "2022-05-25T23:47:32.457Z"
   },
   {
    "duration": 11,
    "start_time": "2022-05-25T23:47:32.728Z"
   },
   {
    "duration": 45,
    "start_time": "2022-05-25T23:47:32.740Z"
   },
   {
    "duration": 64,
    "start_time": "2022-05-25T23:47:32.786Z"
   },
   {
    "duration": 12,
    "start_time": "2022-05-25T23:47:32.852Z"
   },
   {
    "duration": 38,
    "start_time": "2022-05-25T23:47:32.866Z"
   },
   {
    "duration": 35,
    "start_time": "2022-05-25T23:47:32.906Z"
   },
   {
    "duration": 18,
    "start_time": "2022-05-25T23:47:32.943Z"
   },
   {
    "duration": 45,
    "start_time": "2022-05-25T23:47:32.963Z"
   },
   {
    "duration": 48,
    "start_time": "2022-05-25T23:47:33.010Z"
   },
   {
    "duration": 28,
    "start_time": "2022-05-25T23:47:33.059Z"
   },
   {
    "duration": 105,
    "start_time": "2022-05-25T23:47:33.089Z"
   },
   {
    "duration": 9,
    "start_time": "2022-05-25T23:47:33.196Z"
   },
   {
    "duration": 22,
    "start_time": "2022-05-25T23:47:33.206Z"
   },
   {
    "duration": 26,
    "start_time": "2022-05-25T23:47:33.231Z"
   },
   {
    "duration": 103,
    "start_time": "2022-05-25T23:47:33.259Z"
   },
   {
    "duration": 13,
    "start_time": "2022-05-25T23:47:33.364Z"
   },
   {
    "duration": 19,
    "start_time": "2022-05-25T23:47:33.378Z"
   },
   {
    "duration": 44,
    "start_time": "2022-05-25T23:47:33.399Z"
   },
   {
    "duration": 6,
    "start_time": "2022-05-25T23:47:33.446Z"
   },
   {
    "duration": 14,
    "start_time": "2022-05-25T23:47:33.453Z"
   },
   {
    "duration": 7,
    "start_time": "2022-05-25T23:47:33.468Z"
   },
   {
    "duration": 12,
    "start_time": "2022-05-25T23:47:33.477Z"
   },
   {
    "duration": 55,
    "start_time": "2022-05-25T23:47:33.490Z"
   },
   {
    "duration": 70,
    "start_time": "2022-05-25T23:47:33.547Z"
   },
   {
    "duration": 426,
    "start_time": "2022-05-25T23:47:33.628Z"
   },
   {
    "duration": 397,
    "start_time": "2022-05-25T23:47:34.056Z"
   },
   {
    "duration": 507,
    "start_time": "2022-05-25T23:47:34.455Z"
   },
   {
    "duration": 72,
    "start_time": "2022-05-25T23:47:34.964Z"
   },
   {
    "duration": 423,
    "start_time": "2022-05-25T23:47:35.044Z"
   },
   {
    "duration": 422,
    "start_time": "2022-05-25T23:47:35.468Z"
   },
   {
    "duration": 473,
    "start_time": "2022-05-25T23:47:35.892Z"
   },
   {
    "duration": 2,
    "start_time": "2022-05-25T23:57:37.668Z"
   },
   {
    "duration": 3,
    "start_time": "2022-05-25T23:57:43.607Z"
   },
   {
    "duration": 8,
    "start_time": "2022-05-25T23:58:34.812Z"
   },
   {
    "duration": 19,
    "start_time": "2022-05-25T23:58:40.713Z"
   },
   {
    "duration": 10,
    "start_time": "2022-05-26T00:06:20.720Z"
   },
   {
    "duration": 9,
    "start_time": "2022-05-26T00:07:17.993Z"
   },
   {
    "duration": 11,
    "start_time": "2022-05-26T00:07:27.643Z"
   },
   {
    "duration": 11,
    "start_time": "2022-05-26T00:07:55.486Z"
   },
   {
    "duration": 10,
    "start_time": "2022-05-26T00:08:48.256Z"
   },
   {
    "duration": 11,
    "start_time": "2022-05-26T00:09:06.055Z"
   },
   {
    "duration": 12,
    "start_time": "2022-05-26T00:09:27.551Z"
   },
   {
    "duration": 380,
    "start_time": "2022-05-26T00:11:03.608Z"
   },
   {
    "duration": 419,
    "start_time": "2022-05-26T00:13:36.739Z"
   },
   {
    "duration": 18,
    "start_time": "2022-05-26T00:13:37.160Z"
   },
   {
    "duration": 34,
    "start_time": "2022-05-26T00:13:37.179Z"
   },
   {
    "duration": 40,
    "start_time": "2022-05-26T00:13:37.215Z"
   },
   {
    "duration": 34,
    "start_time": "2022-05-26T00:13:37.257Z"
   },
   {
    "duration": 13,
    "start_time": "2022-05-26T00:13:37.293Z"
   },
   {
    "duration": 27,
    "start_time": "2022-05-26T00:13:37.307Z"
   },
   {
    "duration": 34,
    "start_time": "2022-05-26T00:13:37.336Z"
   },
   {
    "duration": 240,
    "start_time": "2022-05-26T00:13:37.371Z"
   },
   {
    "duration": 3,
    "start_time": "2022-05-26T00:13:37.614Z"
   },
   {
    "duration": 45,
    "start_time": "2022-05-26T00:13:37.618Z"
   },
   {
    "duration": 52,
    "start_time": "2022-05-26T00:13:37.664Z"
   },
   {
    "duration": 13,
    "start_time": "2022-05-26T00:13:37.737Z"
   },
   {
    "duration": 25,
    "start_time": "2022-05-26T00:13:37.751Z"
   },
   {
    "duration": 10,
    "start_time": "2022-05-26T00:13:37.778Z"
   },
   {
    "duration": 16,
    "start_time": "2022-05-26T00:13:37.790Z"
   },
   {
    "duration": 66,
    "start_time": "2022-05-26T00:13:37.807Z"
   },
   {
    "duration": 31,
    "start_time": "2022-05-26T00:13:37.875Z"
   },
   {
    "duration": 38,
    "start_time": "2022-05-26T00:13:37.907Z"
   },
   {
    "duration": 94,
    "start_time": "2022-05-26T00:13:37.947Z"
   },
   {
    "duration": 10,
    "start_time": "2022-05-26T00:13:38.043Z"
   },
   {
    "duration": 14,
    "start_time": "2022-05-26T00:13:38.055Z"
   },
   {
    "duration": 12,
    "start_time": "2022-05-26T00:13:38.071Z"
   },
   {
    "duration": 123,
    "start_time": "2022-05-26T00:13:38.086Z"
   },
   {
    "duration": 32,
    "start_time": "2022-05-26T00:13:38.211Z"
   },
   {
    "duration": 15,
    "start_time": "2022-05-26T00:13:38.246Z"
   },
   {
    "duration": 12,
    "start_time": "2022-05-26T00:13:38.262Z"
   },
   {
    "duration": 9,
    "start_time": "2022-05-26T00:13:38.277Z"
   },
   {
    "duration": 13,
    "start_time": "2022-05-26T00:13:38.288Z"
   },
   {
    "duration": 6,
    "start_time": "2022-05-26T00:13:38.302Z"
   },
   {
    "duration": 29,
    "start_time": "2022-05-26T00:13:38.309Z"
   },
   {
    "duration": 32,
    "start_time": "2022-05-26T00:13:38.340Z"
   },
   {
    "duration": 70,
    "start_time": "2022-05-26T00:13:38.374Z"
   },
   {
    "duration": 475,
    "start_time": "2022-05-26T00:13:38.446Z"
   },
   {
    "duration": 381,
    "start_time": "2022-05-26T00:13:38.922Z"
   },
   {
    "duration": 391,
    "start_time": "2022-05-26T00:13:39.305Z"
   },
   {
    "duration": 72,
    "start_time": "2022-05-26T00:13:39.697Z"
   },
   {
    "duration": 387,
    "start_time": "2022-05-26T00:13:39.771Z"
   },
   {
    "duration": 408,
    "start_time": "2022-05-26T00:13:40.159Z"
   },
   {
    "duration": 497,
    "start_time": "2022-05-26T00:13:40.569Z"
   },
   {
    "duration": 16,
    "start_time": "2022-05-26T00:13:41.068Z"
   },
   {
    "duration": 17,
    "start_time": "2022-05-26T00:15:46.584Z"
   },
   {
    "duration": 8,
    "start_time": "2022-05-26T00:15:55.593Z"
   },
   {
    "duration": 8,
    "start_time": "2022-05-26T00:16:13.778Z"
   },
   {
    "duration": 47,
    "start_time": "2022-05-26T00:19:39.528Z"
   },
   {
    "duration": 474,
    "start_time": "2022-05-26T00:21:02.699Z"
   },
   {
    "duration": 395,
    "start_time": "2022-05-26T00:21:20.682Z"
   },
   {
    "duration": 418,
    "start_time": "2022-05-26T00:23:16.978Z"
   },
   {
    "duration": 771,
    "start_time": "2022-05-26T00:26:32.842Z"
   },
   {
    "duration": 861,
    "start_time": "2022-05-26T00:28:47.546Z"
   },
   {
    "duration": 420,
    "start_time": "2022-05-26T00:29:56.804Z"
   },
   {
    "duration": 408,
    "start_time": "2022-05-26T00:29:59.626Z"
   },
   {
    "duration": 8,
    "start_time": "2022-05-26T00:53:44.292Z"
   },
   {
    "duration": 400,
    "start_time": "2022-05-26T00:55:02.443Z"
   },
   {
    "duration": 12,
    "start_time": "2022-05-26T00:56:03.532Z"
   },
   {
    "duration": 389,
    "start_time": "2022-05-26T00:57:20.267Z"
   },
   {
    "duration": 489,
    "start_time": "2022-05-26T00:58:50.565Z"
   },
   {
    "duration": 400,
    "start_time": "2022-05-26T00:59:16.460Z"
   },
   {
    "duration": 7,
    "start_time": "2022-05-26T01:52:02.146Z"
   },
   {
    "duration": 7,
    "start_time": "2022-05-26T01:53:09.603Z"
   },
   {
    "duration": 7,
    "start_time": "2022-05-26T01:53:39.539Z"
   },
   {
    "duration": 8,
    "start_time": "2022-05-26T01:55:25.400Z"
   },
   {
    "duration": 16,
    "start_time": "2022-05-26T01:55:34.425Z"
   },
   {
    "duration": 402,
    "start_time": "2022-05-26T01:57:44.968Z"
   },
   {
    "duration": 12,
    "start_time": "2022-05-26T01:58:12.139Z"
   },
   {
    "duration": 400,
    "start_time": "2022-05-26T02:00:59.498Z"
   },
   {
    "duration": 419,
    "start_time": "2022-05-26T02:01:37.288Z"
   },
   {
    "duration": 411,
    "start_time": "2022-05-26T02:01:48.569Z"
   },
   {
    "duration": 19,
    "start_time": "2022-05-26T02:02:40.618Z"
   },
   {
    "duration": 13,
    "start_time": "2022-05-26T02:03:21.334Z"
   },
   {
    "duration": 11,
    "start_time": "2022-05-26T02:03:30.744Z"
   },
   {
    "duration": 6,
    "start_time": "2022-05-26T02:03:40.912Z"
   },
   {
    "duration": 503,
    "start_time": "2022-05-26T02:03:45.193Z"
   },
   {
    "duration": 355,
    "start_time": "2022-05-26T02:04:02.648Z"
   },
   {
    "duration": 385,
    "start_time": "2022-05-26T02:07:27.079Z"
   },
   {
    "duration": 436,
    "start_time": "2022-05-26T02:07:47.154Z"
   },
   {
    "duration": 428,
    "start_time": "2022-05-26T02:08:14.776Z"
   },
   {
    "duration": 16,
    "start_time": "2022-05-26T02:08:15.205Z"
   },
   {
    "duration": 55,
    "start_time": "2022-05-26T02:08:15.223Z"
   },
   {
    "duration": 24,
    "start_time": "2022-05-26T02:08:15.281Z"
   },
   {
    "duration": 35,
    "start_time": "2022-05-26T02:08:15.307Z"
   },
   {
    "duration": 14,
    "start_time": "2022-05-26T02:08:15.343Z"
   },
   {
    "duration": 11,
    "start_time": "2022-05-26T02:08:15.359Z"
   },
   {
    "duration": 34,
    "start_time": "2022-05-26T02:08:15.372Z"
   },
   {
    "duration": 288,
    "start_time": "2022-05-26T02:08:15.408Z"
   },
   {
    "duration": 3,
    "start_time": "2022-05-26T02:08:15.699Z"
   },
   {
    "duration": 45,
    "start_time": "2022-05-26T02:08:15.704Z"
   },
   {
    "duration": 53,
    "start_time": "2022-05-26T02:08:15.751Z"
   },
   {
    "duration": 12,
    "start_time": "2022-05-26T02:08:15.806Z"
   },
   {
    "duration": 35,
    "start_time": "2022-05-26T02:08:15.832Z"
   },
   {
    "duration": 11,
    "start_time": "2022-05-26T02:08:15.869Z"
   },
   {
    "duration": 16,
    "start_time": "2022-05-26T02:08:15.881Z"
   },
   {
    "duration": 71,
    "start_time": "2022-05-26T02:08:15.899Z"
   },
   {
    "duration": 30,
    "start_time": "2022-05-26T02:08:15.972Z"
   },
   {
    "duration": 36,
    "start_time": "2022-05-26T02:08:16.003Z"
   },
   {
    "duration": 98,
    "start_time": "2022-05-26T02:08:16.041Z"
   },
   {
    "duration": 9,
    "start_time": "2022-05-26T02:08:16.142Z"
   },
   {
    "duration": 13,
    "start_time": "2022-05-26T02:08:16.153Z"
   },
   {
    "duration": 17,
    "start_time": "2022-05-26T02:08:16.167Z"
   },
   {
    "duration": 152,
    "start_time": "2022-05-26T02:08:16.185Z"
   },
   {
    "duration": 16,
    "start_time": "2022-05-26T02:08:16.339Z"
   },
   {
    "duration": 16,
    "start_time": "2022-05-26T02:08:16.357Z"
   },
   {
    "duration": 12,
    "start_time": "2022-05-26T02:08:16.375Z"
   },
   {
    "duration": 6,
    "start_time": "2022-05-26T02:08:16.390Z"
   },
   {
    "duration": 40,
    "start_time": "2022-05-26T02:08:16.398Z"
   },
   {
    "duration": 7,
    "start_time": "2022-05-26T02:08:16.439Z"
   },
   {
    "duration": 11,
    "start_time": "2022-05-26T02:08:16.448Z"
   },
   {
    "duration": 26,
    "start_time": "2022-05-26T02:08:16.460Z"
   },
   {
    "duration": 80,
    "start_time": "2022-05-26T02:08:16.488Z"
   },
   {
    "duration": 536,
    "start_time": "2022-05-26T02:08:16.570Z"
   },
   {
    "duration": 404,
    "start_time": "2022-05-26T02:08:17.107Z"
   },
   {
    "duration": 383,
    "start_time": "2022-05-26T02:08:17.513Z"
   },
   {
    "duration": 73,
    "start_time": "2022-05-26T02:08:17.898Z"
   },
   {
    "duration": 396,
    "start_time": "2022-05-26T02:08:17.973Z"
   },
   {
    "duration": 404,
    "start_time": "2022-05-26T02:08:18.371Z"
   },
   {
    "duration": 410,
    "start_time": "2022-05-26T02:08:18.777Z"
   },
   {
    "duration": 518,
    "start_time": "2022-05-26T02:08:19.188Z"
   },
   {
    "duration": 402,
    "start_time": "2022-05-26T02:08:22.247Z"
   },
   {
    "duration": 358,
    "start_time": "2022-05-26T02:08:38.441Z"
   },
   {
    "duration": 373,
    "start_time": "2022-05-26T02:08:44.104Z"
   },
   {
    "duration": 364,
    "start_time": "2022-05-26T02:08:50.379Z"
   },
   {
    "duration": 468,
    "start_time": "2022-05-26T02:08:54.723Z"
   },
   {
    "duration": 380,
    "start_time": "2022-05-26T02:09:10.496Z"
   },
   {
    "duration": 365,
    "start_time": "2022-05-26T02:09:18.776Z"
   },
   {
    "duration": 372,
    "start_time": "2022-05-26T02:09:24.364Z"
   },
   {
    "duration": 16,
    "start_time": "2022-05-26T02:09:24.738Z"
   },
   {
    "duration": 35,
    "start_time": "2022-05-26T02:09:24.756Z"
   },
   {
    "duration": 23,
    "start_time": "2022-05-26T02:09:24.794Z"
   },
   {
    "duration": 38,
    "start_time": "2022-05-26T02:09:24.827Z"
   },
   {
    "duration": 14,
    "start_time": "2022-05-26T02:09:24.867Z"
   },
   {
    "duration": 16,
    "start_time": "2022-05-26T02:09:24.882Z"
   },
   {
    "duration": 50,
    "start_time": "2022-05-26T02:09:24.900Z"
   },
   {
    "duration": 236,
    "start_time": "2022-05-26T02:09:24.951Z"
   },
   {
    "duration": 3,
    "start_time": "2022-05-26T02:09:25.189Z"
   },
   {
    "duration": 39,
    "start_time": "2022-05-26T02:09:25.194Z"
   },
   {
    "duration": 51,
    "start_time": "2022-05-26T02:09:25.234Z"
   },
   {
    "duration": 15,
    "start_time": "2022-05-26T02:09:25.287Z"
   },
   {
    "duration": 43,
    "start_time": "2022-05-26T02:09:25.303Z"
   },
   {
    "duration": 10,
    "start_time": "2022-05-26T02:09:25.347Z"
   },
   {
    "duration": 16,
    "start_time": "2022-05-26T02:09:25.359Z"
   },
   {
    "duration": 63,
    "start_time": "2022-05-26T02:09:25.377Z"
   },
   {
    "duration": 31,
    "start_time": "2022-05-26T02:09:25.442Z"
   },
   {
    "duration": 27,
    "start_time": "2022-05-26T02:09:25.474Z"
   },
   {
    "duration": 80,
    "start_time": "2022-05-26T02:09:25.527Z"
   },
   {
    "duration": 19,
    "start_time": "2022-05-26T02:09:25.609Z"
   },
   {
    "duration": 13,
    "start_time": "2022-05-26T02:09:25.629Z"
   },
   {
    "duration": 31,
    "start_time": "2022-05-26T02:09:25.644Z"
   },
   {
    "duration": 92,
    "start_time": "2022-05-26T02:09:25.677Z"
   },
   {
    "duration": 13,
    "start_time": "2022-05-26T02:09:25.771Z"
   },
   {
    "duration": 20,
    "start_time": "2022-05-26T02:09:25.785Z"
   },
   {
    "duration": 29,
    "start_time": "2022-05-26T02:09:25.807Z"
   },
   {
    "duration": 8,
    "start_time": "2022-05-26T02:09:25.839Z"
   },
   {
    "duration": 9,
    "start_time": "2022-05-26T02:09:25.848Z"
   },
   {
    "duration": 5,
    "start_time": "2022-05-26T02:09:25.859Z"
   },
   {
    "duration": 11,
    "start_time": "2022-05-26T02:09:25.865Z"
   },
   {
    "duration": 51,
    "start_time": "2022-05-26T02:09:25.877Z"
   },
   {
    "duration": 59,
    "start_time": "2022-05-26T02:09:25.930Z"
   },
   {
    "duration": 427,
    "start_time": "2022-05-26T02:09:25.991Z"
   },
   {
    "duration": 351,
    "start_time": "2022-05-26T02:09:26.420Z"
   },
   {
    "duration": 450,
    "start_time": "2022-05-26T02:09:26.773Z"
   },
   {
    "duration": 67,
    "start_time": "2022-05-26T02:09:27.224Z"
   },
   {
    "duration": 369,
    "start_time": "2022-05-26T02:09:27.292Z"
   },
   {
    "duration": 394,
    "start_time": "2022-05-26T02:09:27.662Z"
   },
   {
    "duration": 395,
    "start_time": "2022-05-26T02:09:28.057Z"
   },
   {
    "duration": 393,
    "start_time": "2022-05-26T02:09:28.453Z"
   },
   {
    "duration": 467,
    "start_time": "2022-05-26T02:09:31.367Z"
   },
   {
    "duration": 390,
    "start_time": "2022-05-26T02:11:45.143Z"
   },
   {
    "duration": 400,
    "start_time": "2022-05-26T02:12:22.034Z"
   },
   {
    "duration": 9,
    "start_time": "2022-05-26T02:23:12.938Z"
   },
   {
    "duration": 8,
    "start_time": "2022-05-26T02:23:24.017Z"
   },
   {
    "duration": 11,
    "start_time": "2022-05-26T02:23:32.282Z"
   },
   {
    "duration": 4,
    "start_time": "2022-05-26T02:23:36.441Z"
   },
   {
    "duration": 5,
    "start_time": "2022-05-26T02:24:39.688Z"
   },
   {
    "duration": 5,
    "start_time": "2022-05-26T02:25:10.999Z"
   },
   {
    "duration": 5,
    "start_time": "2022-05-26T02:29:20.617Z"
   },
   {
    "duration": 4,
    "start_time": "2022-05-26T02:29:31.871Z"
   },
   {
    "duration": 5,
    "start_time": "2022-05-26T02:29:38.753Z"
   },
   {
    "duration": 5,
    "start_time": "2022-05-26T02:30:48.818Z"
   },
   {
    "duration": 5,
    "start_time": "2022-05-26T02:30:55.442Z"
   },
   {
    "duration": 6,
    "start_time": "2022-05-26T02:31:05.250Z"
   },
   {
    "duration": 4,
    "start_time": "2022-05-26T02:36:08.313Z"
   },
   {
    "duration": 6,
    "start_time": "2022-05-26T02:36:29.176Z"
   },
   {
    "duration": 5,
    "start_time": "2022-05-26T02:48:07.378Z"
   },
   {
    "duration": 6,
    "start_time": "2022-05-26T02:48:24.139Z"
   },
   {
    "duration": 393,
    "start_time": "2022-05-26T02:53:45.144Z"
   },
   {
    "duration": 380,
    "start_time": "2022-05-26T02:56:32.825Z"
   },
   {
    "duration": 399,
    "start_time": "2022-05-26T02:57:10.861Z"
   },
   {
    "duration": 503,
    "start_time": "2022-05-26T02:57:30.542Z"
   },
   {
    "duration": 12,
    "start_time": "2022-05-26T02:58:55.295Z"
   },
   {
    "duration": 9,
    "start_time": "2022-05-26T02:59:01.941Z"
   },
   {
    "duration": 6,
    "start_time": "2022-05-26T02:59:06.788Z"
   },
   {
    "duration": 8,
    "start_time": "2022-05-26T02:59:11.725Z"
   },
   {
    "duration": 10,
    "start_time": "2022-05-26T02:59:15.220Z"
   },
   {
    "duration": 9,
    "start_time": "2022-05-26T02:59:42.632Z"
   },
   {
    "duration": 8,
    "start_time": "2022-05-26T03:00:02.678Z"
   },
   {
    "duration": 11,
    "start_time": "2022-05-26T03:00:07.653Z"
   },
   {
    "duration": 11,
    "start_time": "2022-05-26T03:00:30.551Z"
   },
   {
    "duration": 17,
    "start_time": "2022-05-26T03:00:39.119Z"
   },
   {
    "duration": 9,
    "start_time": "2022-05-26T03:02:20.024Z"
   },
   {
    "duration": 18,
    "start_time": "2022-05-26T03:03:15.061Z"
   },
   {
    "duration": 21,
    "start_time": "2022-05-26T03:03:28.860Z"
   },
   {
    "duration": 20,
    "start_time": "2022-05-26T03:03:39.529Z"
   },
   {
    "duration": 361,
    "start_time": "2022-05-26T03:05:21.434Z"
   },
   {
    "duration": 365,
    "start_time": "2022-05-26T03:05:31.355Z"
   },
   {
    "duration": 5,
    "start_time": "2022-05-26T03:14:49.903Z"
   },
   {
    "duration": 22,
    "start_time": "2022-05-26T03:14:56.417Z"
   },
   {
    "duration": 8,
    "start_time": "2022-05-26T03:15:33.031Z"
   },
   {
    "duration": 5,
    "start_time": "2022-05-26T03:15:41.023Z"
   },
   {
    "duration": 10,
    "start_time": "2022-05-26T03:15:51.120Z"
   },
   {
    "duration": 372,
    "start_time": "2022-05-26T03:15:55.462Z"
   },
   {
    "duration": 16,
    "start_time": "2022-05-26T03:15:55.836Z"
   },
   {
    "duration": 34,
    "start_time": "2022-05-26T03:15:55.853Z"
   },
   {
    "duration": 23,
    "start_time": "2022-05-26T03:15:55.889Z"
   },
   {
    "duration": 35,
    "start_time": "2022-05-26T03:15:55.914Z"
   },
   {
    "duration": 13,
    "start_time": "2022-05-26T03:15:55.950Z"
   },
   {
    "duration": 10,
    "start_time": "2022-05-26T03:15:55.964Z"
   },
   {
    "duration": 30,
    "start_time": "2022-05-26T03:15:55.975Z"
   },
   {
    "duration": 267,
    "start_time": "2022-05-26T03:15:56.027Z"
   },
   {
    "duration": 4,
    "start_time": "2022-05-26T03:15:56.298Z"
   },
   {
    "duration": 43,
    "start_time": "2022-05-26T03:15:56.303Z"
   },
   {
    "duration": 52,
    "start_time": "2022-05-26T03:15:56.348Z"
   },
   {
    "duration": 29,
    "start_time": "2022-05-26T03:15:56.402Z"
   },
   {
    "duration": 26,
    "start_time": "2022-05-26T03:15:56.432Z"
   },
   {
    "duration": 10,
    "start_time": "2022-05-26T03:15:56.460Z"
   },
   {
    "duration": 23,
    "start_time": "2022-05-26T03:15:56.472Z"
   },
   {
    "duration": 63,
    "start_time": "2022-05-26T03:15:56.497Z"
   },
   {
    "duration": 32,
    "start_time": "2022-05-26T03:15:56.561Z"
   },
   {
    "duration": 40,
    "start_time": "2022-05-26T03:15:56.595Z"
   },
   {
    "duration": 95,
    "start_time": "2022-05-26T03:15:56.637Z"
   },
   {
    "duration": 10,
    "start_time": "2022-05-26T03:15:56.733Z"
   },
   {
    "duration": 13,
    "start_time": "2022-05-26T03:15:56.744Z"
   },
   {
    "duration": 13,
    "start_time": "2022-05-26T03:15:56.758Z"
   },
   {
    "duration": 118,
    "start_time": "2022-05-26T03:15:56.772Z"
   },
   {
    "duration": 13,
    "start_time": "2022-05-26T03:15:56.892Z"
   },
   {
    "duration": 33,
    "start_time": "2022-05-26T03:15:56.907Z"
   },
   {
    "duration": 13,
    "start_time": "2022-05-26T03:15:56.941Z"
   },
   {
    "duration": 6,
    "start_time": "2022-05-26T03:15:56.956Z"
   },
   {
    "duration": 11,
    "start_time": "2022-05-26T03:15:56.963Z"
   },
   {
    "duration": 6,
    "start_time": "2022-05-26T03:15:56.975Z"
   },
   {
    "duration": 5,
    "start_time": "2022-05-26T03:15:56.982Z"
   },
   {
    "duration": 42,
    "start_time": "2022-05-26T03:15:56.989Z"
   },
   {
    "duration": 28,
    "start_time": "2022-05-26T03:15:57.033Z"
   },
   {
    "duration": 1516,
    "start_time": "2022-05-26T03:16:15.603Z"
   },
   {
    "duration": 21,
    "start_time": "2022-05-26T03:16:17.121Z"
   },
   {
    "duration": 31,
    "start_time": "2022-05-26T03:16:17.144Z"
   },
   {
    "duration": 24,
    "start_time": "2022-05-26T03:16:17.177Z"
   },
   {
    "duration": 52,
    "start_time": "2022-05-26T03:16:17.202Z"
   },
   {
    "duration": 17,
    "start_time": "2022-05-26T03:16:17.255Z"
   },
   {
    "duration": 14,
    "start_time": "2022-05-26T03:16:17.274Z"
   },
   {
    "duration": 52,
    "start_time": "2022-05-26T03:16:17.290Z"
   },
   {
    "duration": 268,
    "start_time": "2022-05-26T03:16:17.343Z"
   },
   {
    "duration": 4,
    "start_time": "2022-05-26T03:16:17.613Z"
   },
   {
    "duration": 45,
    "start_time": "2022-05-26T03:16:17.618Z"
   },
   {
    "duration": 65,
    "start_time": "2022-05-26T03:16:17.665Z"
   },
   {
    "duration": 15,
    "start_time": "2022-05-26T03:16:17.732Z"
   },
   {
    "duration": 101,
    "start_time": "2022-05-26T03:16:17.748Z"
   },
   {
    "duration": 11,
    "start_time": "2022-05-26T03:16:17.850Z"
   },
   {
    "duration": 17,
    "start_time": "2022-05-26T03:16:17.862Z"
   },
   {
    "duration": 64,
    "start_time": "2022-05-26T03:16:17.880Z"
   },
   {
    "duration": 31,
    "start_time": "2022-05-26T03:16:17.946Z"
   },
   {
    "duration": 27,
    "start_time": "2022-05-26T03:16:17.979Z"
   },
   {
    "duration": 76,
    "start_time": "2022-05-26T03:16:18.028Z"
   },
   {
    "duration": 22,
    "start_time": "2022-05-26T03:16:18.106Z"
   },
   {
    "duration": 12,
    "start_time": "2022-05-26T03:16:18.130Z"
   },
   {
    "duration": 14,
    "start_time": "2022-05-26T03:16:18.144Z"
   },
   {
    "duration": 108,
    "start_time": "2022-05-26T03:16:18.160Z"
   },
   {
    "duration": 13,
    "start_time": "2022-05-26T03:16:18.269Z"
   },
   {
    "duration": 19,
    "start_time": "2022-05-26T03:16:18.284Z"
   },
   {
    "duration": 33,
    "start_time": "2022-05-26T03:16:18.304Z"
   },
   {
    "duration": 7,
    "start_time": "2022-05-26T03:16:18.340Z"
   },
   {
    "duration": 13,
    "start_time": "2022-05-26T03:16:18.349Z"
   },
   {
    "duration": 5,
    "start_time": "2022-05-26T03:16:18.363Z"
   },
   {
    "duration": 15,
    "start_time": "2022-05-26T03:16:18.370Z"
   },
   {
    "duration": 14,
    "start_time": "2022-05-26T03:16:18.386Z"
   },
   {
    "duration": 41,
    "start_time": "2022-05-26T03:16:18.402Z"
   },
   {
    "duration": 66,
    "start_time": "2022-05-26T03:16:18.445Z"
   },
   {
    "duration": 406,
    "start_time": "2022-05-26T03:16:18.513Z"
   },
   {
    "duration": 369,
    "start_time": "2022-05-26T03:16:18.920Z"
   },
   {
    "duration": 370,
    "start_time": "2022-05-26T03:16:19.291Z"
   },
   {
    "duration": 68,
    "start_time": "2022-05-26T03:16:19.663Z"
   },
   {
    "duration": 382,
    "start_time": "2022-05-26T03:16:19.733Z"
   },
   {
    "duration": 392,
    "start_time": "2022-05-26T03:16:20.116Z"
   },
   {
    "duration": 466,
    "start_time": "2022-05-26T03:16:20.510Z"
   },
   {
    "duration": 418,
    "start_time": "2022-05-26T03:16:20.978Z"
   },
   {
    "duration": 5,
    "start_time": "2022-05-26T03:16:21.397Z"
   },
   {
    "duration": 403,
    "start_time": "2022-05-26T03:16:21.404Z"
   },
   {
    "duration": 30,
    "start_time": "2022-05-26T03:16:21.808Z"
   },
   {
    "duration": 20,
    "start_time": "2022-05-26T03:19:53.324Z"
   },
   {
    "duration": 406,
    "start_time": "2022-05-26T03:21:08.245Z"
   },
   {
    "duration": 436,
    "start_time": "2022-05-26T03:21:16.021Z"
   },
   {
    "duration": 5,
    "start_time": "2022-05-26T03:29:37.903Z"
   },
   {
    "duration": 5,
    "start_time": "2022-05-26T03:30:02.582Z"
   },
   {
    "duration": 5,
    "start_time": "2022-05-26T03:30:06.591Z"
   },
   {
    "duration": 4,
    "start_time": "2022-05-26T04:01:10.909Z"
   },
   {
    "duration": 67,
    "start_time": "2022-05-26T04:05:16.781Z"
   },
   {
    "duration": 157,
    "start_time": "2022-05-26T04:09:15.683Z"
   },
   {
    "duration": 71,
    "start_time": "2022-05-26T04:09:31.964Z"
   },
   {
    "duration": 1535,
    "start_time": "2022-05-26T04:40:34.340Z"
   },
   {
    "duration": 24,
    "start_time": "2022-05-26T04:40:35.877Z"
   },
   {
    "duration": 42,
    "start_time": "2022-05-26T04:40:35.902Z"
   },
   {
    "duration": 25,
    "start_time": "2022-05-26T04:40:35.946Z"
   },
   {
    "duration": 28,
    "start_time": "2022-05-26T04:40:35.973Z"
   },
   {
    "duration": 45,
    "start_time": "2022-05-26T04:40:36.003Z"
   },
   {
    "duration": 11,
    "start_time": "2022-05-26T04:40:36.050Z"
   },
   {
    "duration": 38,
    "start_time": "2022-05-26T04:40:36.063Z"
   },
   {
    "duration": 351,
    "start_time": "2022-05-26T04:40:36.102Z"
   },
   {
    "duration": 5,
    "start_time": "2022-05-26T04:40:36.456Z"
   },
   {
    "duration": 51,
    "start_time": "2022-05-26T04:40:36.463Z"
   },
   {
    "duration": 66,
    "start_time": "2022-05-26T04:40:36.516Z"
   },
   {
    "duration": 13,
    "start_time": "2022-05-26T04:40:36.584Z"
   },
   {
    "duration": 114,
    "start_time": "2022-05-26T04:40:36.598Z"
   },
   {
    "duration": 27,
    "start_time": "2022-05-26T04:40:36.714Z"
   },
   {
    "duration": 17,
    "start_time": "2022-05-26T04:40:36.743Z"
   },
   {
    "duration": 46,
    "start_time": "2022-05-26T04:40:36.762Z"
   },
   {
    "duration": 58,
    "start_time": "2022-05-26T04:40:36.810Z"
   },
   {
    "duration": 29,
    "start_time": "2022-05-26T04:40:36.870Z"
   },
   {
    "duration": 102,
    "start_time": "2022-05-26T04:40:36.900Z"
   },
   {
    "duration": 12,
    "start_time": "2022-05-26T04:40:37.003Z"
   },
   {
    "duration": 15,
    "start_time": "2022-05-26T04:40:37.027Z"
   },
   {
    "duration": 19,
    "start_time": "2022-05-26T04:40:37.044Z"
   },
   {
    "duration": 128,
    "start_time": "2022-05-26T04:40:37.064Z"
   },
   {
    "duration": 14,
    "start_time": "2022-05-26T04:40:37.194Z"
   },
   {
    "duration": 36,
    "start_time": "2022-05-26T04:40:37.209Z"
   },
   {
    "duration": 13,
    "start_time": "2022-05-26T04:40:37.247Z"
   },
   {
    "duration": 20,
    "start_time": "2022-05-26T04:40:37.264Z"
   },
   {
    "duration": 12,
    "start_time": "2022-05-26T04:40:37.286Z"
   },
   {
    "duration": 14,
    "start_time": "2022-05-26T04:40:37.300Z"
   },
   {
    "duration": 23,
    "start_time": "2022-05-26T04:40:37.315Z"
   },
   {
    "duration": 12,
    "start_time": "2022-05-26T04:40:37.339Z"
   },
   {
    "duration": 38,
    "start_time": "2022-05-26T04:40:37.353Z"
   },
   {
    "duration": 70,
    "start_time": "2022-05-26T04:40:37.393Z"
   },
   {
    "duration": 412,
    "start_time": "2022-05-26T04:40:37.464Z"
   },
   {
    "duration": 398,
    "start_time": "2022-05-26T04:40:37.877Z"
   },
   {
    "duration": 402,
    "start_time": "2022-05-26T04:40:38.277Z"
   },
   {
    "duration": 77,
    "start_time": "2022-05-26T04:40:38.681Z"
   },
   {
    "duration": 402,
    "start_time": "2022-05-26T04:40:38.760Z"
   },
   {
    "duration": 421,
    "start_time": "2022-05-26T04:40:39.163Z"
   },
   {
    "duration": 509,
    "start_time": "2022-05-26T04:40:39.585Z"
   },
   {
    "duration": 489,
    "start_time": "2022-05-26T04:40:40.096Z"
   },
   {
    "duration": 6,
    "start_time": "2022-05-26T04:40:40.587Z"
   },
   {
    "duration": 93,
    "start_time": "2022-05-26T04:40:40.595Z"
   },
   {
    "duration": 426,
    "start_time": "2022-05-26T04:40:40.690Z"
   },
   {
    "duration": 9,
    "start_time": "2022-05-26T04:40:41.128Z"
   },
   {
    "duration": 65,
    "start_time": "2022-05-26T04:41:17.909Z"
   },
   {
    "duration": 58,
    "start_time": "2022-05-26T04:41:54.002Z"
   },
   {
    "duration": 1439,
    "start_time": "2022-05-26T04:42:07.479Z"
   },
   {
    "duration": 23,
    "start_time": "2022-05-26T04:42:08.920Z"
   },
   {
    "duration": 32,
    "start_time": "2022-05-26T04:42:08.945Z"
   },
   {
    "duration": 48,
    "start_time": "2022-05-26T04:42:08.979Z"
   },
   {
    "duration": 28,
    "start_time": "2022-05-26T04:42:09.030Z"
   },
   {
    "duration": 15,
    "start_time": "2022-05-26T04:42:09.060Z"
   },
   {
    "duration": 9,
    "start_time": "2022-05-26T04:42:09.077Z"
   },
   {
    "duration": 66,
    "start_time": "2022-05-26T04:42:09.088Z"
   },
   {
    "duration": 267,
    "start_time": "2022-05-26T04:42:09.156Z"
   },
   {
    "duration": 5,
    "start_time": "2022-05-26T04:42:09.425Z"
   },
   {
    "duration": 37,
    "start_time": "2022-05-26T04:42:09.431Z"
   },
   {
    "duration": 80,
    "start_time": "2022-05-26T04:42:09.469Z"
   },
   {
    "duration": 12,
    "start_time": "2022-05-26T04:42:09.551Z"
   },
   {
    "duration": 106,
    "start_time": "2022-05-26T04:42:09.566Z"
   },
   {
    "duration": 11,
    "start_time": "2022-05-26T04:42:09.674Z"
   },
   {
    "duration": 17,
    "start_time": "2022-05-26T04:42:09.687Z"
   },
   {
    "duration": 56,
    "start_time": "2022-05-26T04:42:09.706Z"
   },
   {
    "duration": 32,
    "start_time": "2022-05-26T04:42:09.764Z"
   },
   {
    "duration": 50,
    "start_time": "2022-05-26T04:42:09.798Z"
   },
   {
    "duration": 91,
    "start_time": "2022-05-26T04:42:09.850Z"
   },
   {
    "duration": 10,
    "start_time": "2022-05-26T04:42:09.943Z"
   },
   {
    "duration": 13,
    "start_time": "2022-05-26T04:42:09.954Z"
   },
   {
    "duration": 14,
    "start_time": "2022-05-26T04:42:09.968Z"
   },
   {
    "duration": 129,
    "start_time": "2022-05-26T04:42:09.983Z"
   },
   {
    "duration": 23,
    "start_time": "2022-05-26T04:42:10.113Z"
   },
   {
    "duration": 15,
    "start_time": "2022-05-26T04:42:10.137Z"
   },
   {
    "duration": 12,
    "start_time": "2022-05-26T04:42:10.154Z"
   },
   {
    "duration": 15,
    "start_time": "2022-05-26T04:42:10.168Z"
   },
   {
    "duration": 11,
    "start_time": "2022-05-26T04:42:10.185Z"
   },
   {
    "duration": 5,
    "start_time": "2022-05-26T04:42:10.198Z"
   },
   {
    "duration": 24,
    "start_time": "2022-05-26T04:42:10.205Z"
   },
   {
    "duration": 17,
    "start_time": "2022-05-26T04:42:10.230Z"
   },
   {
    "duration": 46,
    "start_time": "2022-05-26T04:42:10.248Z"
   },
   {
    "duration": 61,
    "start_time": "2022-05-26T04:42:10.296Z"
   },
   {
    "duration": 388,
    "start_time": "2022-05-26T04:42:10.359Z"
   },
   {
    "duration": 384,
    "start_time": "2022-05-26T04:42:10.749Z"
   },
   {
    "duration": 394,
    "start_time": "2022-05-26T04:42:11.134Z"
   },
   {
    "duration": 66,
    "start_time": "2022-05-26T04:42:11.530Z"
   },
   {
    "duration": 397,
    "start_time": "2022-05-26T04:42:11.597Z"
   },
   {
    "duration": 419,
    "start_time": "2022-05-26T04:42:11.996Z"
   },
   {
    "duration": 483,
    "start_time": "2022-05-26T04:42:12.419Z"
   },
   {
    "duration": 424,
    "start_time": "2022-05-26T04:42:12.904Z"
   },
   {
    "duration": 6,
    "start_time": "2022-05-26T04:42:13.329Z"
   },
   {
    "duration": 91,
    "start_time": "2022-05-26T04:42:13.336Z"
   },
   {
    "duration": 461,
    "start_time": "2022-05-26T04:42:13.429Z"
   },
   {
    "duration": 5,
    "start_time": "2022-05-26T04:42:13.892Z"
   },
   {
    "duration": 1544,
    "start_time": "2022-05-26T06:11:57.382Z"
   },
   {
    "duration": 22,
    "start_time": "2022-05-26T06:11:58.928Z"
   },
   {
    "duration": 39,
    "start_time": "2022-05-26T06:11:58.951Z"
   },
   {
    "duration": 25,
    "start_time": "2022-05-26T06:11:58.992Z"
   },
   {
    "duration": 53,
    "start_time": "2022-05-26T06:11:59.018Z"
   },
   {
    "duration": 14,
    "start_time": "2022-05-26T06:11:59.073Z"
   },
   {
    "duration": 19,
    "start_time": "2022-05-26T06:11:59.089Z"
   },
   {
    "duration": 58,
    "start_time": "2022-05-26T06:11:59.110Z"
   },
   {
    "duration": 296,
    "start_time": "2022-05-26T06:11:59.170Z"
   },
   {
    "duration": 3,
    "start_time": "2022-05-26T06:11:59.470Z"
   },
   {
    "duration": 34,
    "start_time": "2022-05-26T06:11:59.475Z"
   },
   {
    "duration": 77,
    "start_time": "2022-05-26T06:11:59.511Z"
   },
   {
    "duration": 14,
    "start_time": "2022-05-26T06:11:59.590Z"
   },
   {
    "duration": 106,
    "start_time": "2022-05-26T06:11:59.606Z"
   },
   {
    "duration": 11,
    "start_time": "2022-05-26T06:11:59.714Z"
   },
   {
    "duration": 37,
    "start_time": "2022-05-26T06:11:59.727Z"
   },
   {
    "duration": 49,
    "start_time": "2022-05-26T06:11:59.766Z"
   },
   {
    "duration": 45,
    "start_time": "2022-05-26T06:11:59.817Z"
   },
   {
    "duration": 29,
    "start_time": "2022-05-26T06:11:59.864Z"
   },
   {
    "duration": 104,
    "start_time": "2022-05-26T06:11:59.895Z"
   },
   {
    "duration": 9,
    "start_time": "2022-05-26T06:12:00.001Z"
   },
   {
    "duration": 17,
    "start_time": "2022-05-26T06:12:00.012Z"
   },
   {
    "duration": 73,
    "start_time": "2022-05-26T06:12:00.031Z"
   },
   {
    "duration": 115,
    "start_time": "2022-05-26T06:12:00.106Z"
   },
   {
    "duration": 14,
    "start_time": "2022-05-26T06:12:00.223Z"
   },
   {
    "duration": 31,
    "start_time": "2022-05-26T06:12:00.239Z"
   },
   {
    "duration": 16,
    "start_time": "2022-05-26T06:12:00.272Z"
   },
   {
    "duration": 21,
    "start_time": "2022-05-26T06:12:00.292Z"
   },
   {
    "duration": 27,
    "start_time": "2022-05-26T06:12:00.316Z"
   },
   {
    "duration": 26,
    "start_time": "2022-05-26T06:12:00.344Z"
   },
   {
    "duration": 21,
    "start_time": "2022-05-26T06:12:00.372Z"
   },
   {
    "duration": 15,
    "start_time": "2022-05-26T06:12:00.395Z"
   },
   {
    "duration": 56,
    "start_time": "2022-05-26T06:12:00.411Z"
   },
   {
    "duration": 74,
    "start_time": "2022-05-26T06:12:00.468Z"
   },
   {
    "duration": 474,
    "start_time": "2022-05-26T06:12:00.544Z"
   },
   {
    "duration": 455,
    "start_time": "2022-05-26T06:12:01.020Z"
   },
   {
    "duration": 440,
    "start_time": "2022-05-26T06:12:01.477Z"
   },
   {
    "duration": 107,
    "start_time": "2022-05-26T06:12:01.919Z"
   },
   {
    "duration": 481,
    "start_time": "2022-05-26T06:12:02.028Z"
   },
   {
    "duration": 522,
    "start_time": "2022-05-26T06:12:02.511Z"
   },
   {
    "duration": 573,
    "start_time": "2022-05-26T06:12:03.035Z"
   },
   {
    "duration": 499,
    "start_time": "2022-05-26T06:12:03.609Z"
   },
   {
    "duration": 7,
    "start_time": "2022-05-26T06:12:04.110Z"
   },
   {
    "duration": 108,
    "start_time": "2022-05-26T06:12:04.120Z"
   },
   {
    "duration": 533,
    "start_time": "2022-05-26T06:12:04.230Z"
   },
   {
    "duration": 6,
    "start_time": "2022-05-26T06:12:04.767Z"
   },
   {
    "duration": 823,
    "start_time": "2022-05-26T06:24:24.865Z"
   },
   {
    "duration": 1519,
    "start_time": "2022-05-26T06:24:43.917Z"
   },
   {
    "duration": 28,
    "start_time": "2022-05-26T06:24:45.438Z"
   },
   {
    "duration": 52,
    "start_time": "2022-05-26T06:24:45.467Z"
   },
   {
    "duration": 23,
    "start_time": "2022-05-26T06:24:45.521Z"
   },
   {
    "duration": 38,
    "start_time": "2022-05-26T06:24:45.546Z"
   },
   {
    "duration": 14,
    "start_time": "2022-05-26T06:24:45.585Z"
   },
   {
    "duration": 10,
    "start_time": "2022-05-26T06:24:45.600Z"
   },
   {
    "duration": 65,
    "start_time": "2022-05-26T06:24:45.612Z"
   },
   {
    "duration": 289,
    "start_time": "2022-05-26T06:24:45.679Z"
   },
   {
    "duration": 4,
    "start_time": "2022-05-26T06:24:45.970Z"
   },
   {
    "duration": 36,
    "start_time": "2022-05-26T06:24:45.975Z"
   },
   {
    "duration": 68,
    "start_time": "2022-05-26T06:24:46.013Z"
   },
   {
    "duration": 15,
    "start_time": "2022-05-26T06:24:46.083Z"
   },
   {
    "duration": 123,
    "start_time": "2022-05-26T06:24:46.100Z"
   },
   {
    "duration": 12,
    "start_time": "2022-05-26T06:24:46.224Z"
   },
   {
    "duration": 34,
    "start_time": "2022-05-26T06:24:46.238Z"
   },
   {
    "duration": 43,
    "start_time": "2022-05-26T06:24:46.274Z"
   },
   {
    "duration": 57,
    "start_time": "2022-05-26T06:24:46.319Z"
   },
   {
    "duration": 26,
    "start_time": "2022-05-26T06:24:46.377Z"
   },
   {
    "duration": 106,
    "start_time": "2022-05-26T06:24:46.405Z"
   },
   {
    "duration": 10,
    "start_time": "2022-05-26T06:24:46.512Z"
   },
   {
    "duration": 41,
    "start_time": "2022-05-26T06:24:46.523Z"
   },
   {
    "duration": 18,
    "start_time": "2022-05-26T06:24:46.566Z"
   },
   {
    "duration": 103,
    "start_time": "2022-05-26T06:24:46.586Z"
   },
   {
    "duration": 5,
    "start_time": "2022-05-26T06:24:46.691Z"
   },
   {
    "duration": 29,
    "start_time": "2022-05-26T06:24:46.697Z"
   },
   {
    "duration": 30,
    "start_time": "2022-05-26T06:24:46.727Z"
   },
   {
    "duration": 14,
    "start_time": "2022-05-26T06:24:46.767Z"
   },
   {
    "duration": 17,
    "start_time": "2022-05-26T06:24:46.782Z"
   },
   {
    "duration": 15,
    "start_time": "2022-05-26T06:24:46.801Z"
   },
   {
    "duration": 6,
    "start_time": "2022-05-26T06:24:46.818Z"
   },
   {
    "duration": 8,
    "start_time": "2022-05-26T06:24:46.825Z"
   },
   {
    "duration": 23,
    "start_time": "2022-05-26T06:24:46.834Z"
   },
   {
    "duration": 43,
    "start_time": "2022-05-26T06:24:46.859Z"
   },
   {
    "duration": 70,
    "start_time": "2022-05-26T06:24:46.904Z"
   },
   {
    "duration": 461,
    "start_time": "2022-05-26T06:24:46.976Z"
   },
   {
    "duration": 440,
    "start_time": "2022-05-26T06:24:47.439Z"
   },
   {
    "duration": 453,
    "start_time": "2022-05-26T06:24:47.881Z"
   },
   {
    "duration": 83,
    "start_time": "2022-05-26T06:24:48.337Z"
   },
   {
    "duration": 475,
    "start_time": "2022-05-26T06:24:48.422Z"
   },
   {
    "duration": 471,
    "start_time": "2022-05-26T06:24:48.898Z"
   },
   {
    "duration": 534,
    "start_time": "2022-05-26T06:24:49.371Z"
   },
   {
    "duration": 481,
    "start_time": "2022-05-26T06:24:49.906Z"
   },
   {
    "duration": 6,
    "start_time": "2022-05-26T06:24:50.389Z"
   },
   {
    "duration": 99,
    "start_time": "2022-05-26T06:24:50.397Z"
   },
   {
    "duration": 469,
    "start_time": "2022-05-26T06:24:50.498Z"
   },
   {
    "duration": 5,
    "start_time": "2022-05-26T06:24:50.969Z"
   },
   {
    "duration": 22,
    "start_time": "2022-05-26T06:25:27.674Z"
   },
   {
    "duration": 87,
    "start_time": "2022-05-26T06:29:32.566Z"
   },
   {
    "duration": 2202,
    "start_time": "2022-05-26T06:45:40.298Z"
   },
   {
    "duration": 30,
    "start_time": "2022-05-26T06:45:42.503Z"
   },
   {
    "duration": 61,
    "start_time": "2022-05-26T06:45:42.534Z"
   },
   {
    "duration": 35,
    "start_time": "2022-05-26T06:45:42.597Z"
   },
   {
    "duration": 38,
    "start_time": "2022-05-26T06:45:42.635Z"
   },
   {
    "duration": 36,
    "start_time": "2022-05-26T06:45:42.675Z"
   },
   {
    "duration": 17,
    "start_time": "2022-05-26T06:45:42.713Z"
   },
   {
    "duration": 54,
    "start_time": "2022-05-26T06:45:42.732Z"
   },
   {
    "duration": 318,
    "start_time": "2022-05-26T06:45:42.788Z"
   },
   {
    "duration": 3,
    "start_time": "2022-05-26T06:45:43.108Z"
   },
   {
    "duration": 57,
    "start_time": "2022-05-26T06:45:43.113Z"
   },
   {
    "duration": 69,
    "start_time": "2022-05-26T06:45:43.172Z"
   },
   {
    "duration": 24,
    "start_time": "2022-05-26T06:45:43.243Z"
   },
   {
    "duration": 113,
    "start_time": "2022-05-26T06:45:43.270Z"
   },
   {
    "duration": 16,
    "start_time": "2022-05-26T06:45:43.385Z"
   },
   {
    "duration": 22,
    "start_time": "2022-05-26T06:45:43.403Z"
   },
   {
    "duration": 89,
    "start_time": "2022-05-26T06:45:43.426Z"
   },
   {
    "duration": 59,
    "start_time": "2022-05-26T06:45:43.517Z"
   },
   {
    "duration": 35,
    "start_time": "2022-05-26T06:45:43.578Z"
   },
   {
    "duration": 107,
    "start_time": "2022-05-26T06:45:43.615Z"
   },
   {
    "duration": 10,
    "start_time": "2022-05-26T06:45:43.724Z"
   },
   {
    "duration": 35,
    "start_time": "2022-05-26T06:45:43.736Z"
   },
   {
    "duration": 36,
    "start_time": "2022-05-26T06:45:43.772Z"
   },
   {
    "duration": 115,
    "start_time": "2022-05-26T06:45:43.810Z"
   },
   {
    "duration": 15,
    "start_time": "2022-05-26T06:45:43.926Z"
   },
   {
    "duration": 32,
    "start_time": "2022-05-26T06:45:43.942Z"
   },
   {
    "duration": 30,
    "start_time": "2022-05-26T06:45:43.975Z"
   },
   {
    "duration": 8,
    "start_time": "2022-05-26T06:45:44.007Z"
   },
   {
    "duration": 10,
    "start_time": "2022-05-26T06:45:44.016Z"
   },
   {
    "duration": 6,
    "start_time": "2022-05-26T06:45:44.028Z"
   },
   {
    "duration": 20,
    "start_time": "2022-05-26T06:45:44.035Z"
   },
   {
    "duration": 37,
    "start_time": "2022-05-26T06:45:44.057Z"
   },
   {
    "duration": 38,
    "start_time": "2022-05-26T06:45:44.096Z"
   },
   {
    "duration": 86,
    "start_time": "2022-05-26T06:45:44.135Z"
   },
   {
    "duration": 505,
    "start_time": "2022-05-26T06:45:44.223Z"
   },
   {
    "duration": 482,
    "start_time": "2022-05-26T06:45:44.730Z"
   },
   {
    "duration": 586,
    "start_time": "2022-05-26T06:45:45.214Z"
   },
   {
    "duration": 101,
    "start_time": "2022-05-26T06:45:45.802Z"
   },
   {
    "duration": 487,
    "start_time": "2022-05-26T06:45:45.905Z"
   },
   {
    "duration": 511,
    "start_time": "2022-05-26T06:45:46.394Z"
   },
   {
    "duration": 623,
    "start_time": "2022-05-26T06:45:46.910Z"
   },
   {
    "duration": 528,
    "start_time": "2022-05-26T06:45:47.535Z"
   },
   {
    "duration": 12,
    "start_time": "2022-05-26T06:45:48.065Z"
   },
   {
    "duration": 101,
    "start_time": "2022-05-26T06:45:48.081Z"
   },
   {
    "duration": 500,
    "start_time": "2022-05-26T06:45:48.186Z"
   },
   {
    "duration": 5,
    "start_time": "2022-05-26T06:45:48.688Z"
   },
   {
    "duration": 90,
    "start_time": "2022-05-26T08:05:35.730Z"
   },
   {
    "duration": 36,
    "start_time": "2022-05-26T08:11:51.377Z"
   },
   {
    "duration": 45,
    "start_time": "2022-05-26T08:15:17.978Z"
   },
   {
    "duration": 4385,
    "start_time": "2022-05-26T08:31:05.751Z"
   },
   {
    "duration": 409,
    "start_time": "2022-05-26T08:31:10.635Z"
   },
   {
    "duration": 148,
    "start_time": "2022-05-26T08:31:52.992Z"
   },
   {
    "duration": 164,
    "start_time": "2022-05-26T08:32:03.748Z"
   },
   {
    "duration": 164,
    "start_time": "2022-05-26T08:43:15.287Z"
   },
   {
    "duration": 108,
    "start_time": "2022-05-26T08:44:20.763Z"
   },
   {
    "duration": 401,
    "start_time": "2022-05-26T08:44:27.390Z"
   },
   {
    "duration": 24,
    "start_time": "2022-05-26T08:44:27.794Z"
   },
   {
    "duration": 65,
    "start_time": "2022-05-26T08:44:27.820Z"
   },
   {
    "duration": 29,
    "start_time": "2022-05-26T08:44:27.887Z"
   },
   {
    "duration": 54,
    "start_time": "2022-05-26T08:44:27.918Z"
   },
   {
    "duration": 160,
    "start_time": "2022-05-26T08:44:27.974Z"
   },
   {
    "duration": 14,
    "start_time": "2022-05-26T08:44:28.135Z"
   },
   {
    "duration": 17,
    "start_time": "2022-05-26T08:44:28.150Z"
   },
   {
    "duration": 31,
    "start_time": "2022-05-26T08:44:28.168Z"
   },
   {
    "duration": 730,
    "start_time": "2022-05-26T08:44:30.994Z"
   },
   {
    "duration": 247,
    "start_time": "2022-05-26T08:45:34.062Z"
   },
   {
    "duration": 272,
    "start_time": "2022-05-26T08:45:52.792Z"
   },
   {
    "duration": 253,
    "start_time": "2022-05-26T08:46:24.638Z"
   },
   {
    "duration": 290,
    "start_time": "2022-05-26T08:47:31.635Z"
   },
   {
    "duration": 231,
    "start_time": "2022-05-26T08:47:39.422Z"
   },
   {
    "duration": 260,
    "start_time": "2022-05-26T08:47:47.918Z"
   },
   {
    "duration": 291,
    "start_time": "2022-05-26T08:47:53.381Z"
   },
   {
    "duration": 225,
    "start_time": "2022-05-26T08:47:57.401Z"
   },
   {
    "duration": 244,
    "start_time": "2022-05-26T08:48:09.391Z"
   },
   {
    "duration": 283,
    "start_time": "2022-05-26T08:48:13.014Z"
   },
   {
    "duration": 440,
    "start_time": "2022-05-26T08:48:17.795Z"
   },
   {
    "duration": 255,
    "start_time": "2022-05-26T08:48:35.307Z"
   },
   {
    "duration": 235,
    "start_time": "2022-05-26T08:48:48.093Z"
   },
   {
    "duration": 11,
    "start_time": "2022-05-26T08:52:01.899Z"
   },
   {
    "duration": 511,
    "start_time": "2022-05-26T08:52:07.780Z"
   },
   {
    "duration": 17,
    "start_time": "2022-05-26T08:52:08.293Z"
   },
   {
    "duration": 49,
    "start_time": "2022-05-26T08:52:08.312Z"
   },
   {
    "duration": 35,
    "start_time": "2022-05-26T08:52:08.364Z"
   },
   {
    "duration": 28,
    "start_time": "2022-05-26T08:52:08.400Z"
   },
   {
    "duration": 168,
    "start_time": "2022-05-26T08:52:08.429Z"
   },
   {
    "duration": 14,
    "start_time": "2022-05-26T08:52:08.598Z"
   },
   {
    "duration": 39,
    "start_time": "2022-05-26T08:52:08.614Z"
   },
   {
    "duration": 50,
    "start_time": "2022-05-26T08:52:08.654Z"
   },
   {
    "duration": 284,
    "start_time": "2022-05-26T08:52:08.708Z"
   },
   {
    "duration": 4,
    "start_time": "2022-05-26T08:52:08.994Z"
   },
   {
    "duration": 419,
    "start_time": "2022-05-26T08:52:09.000Z"
   },
   {
    "duration": 53,
    "start_time": "2022-05-26T08:52:09.421Z"
   },
   {
    "duration": 13,
    "start_time": "2022-05-26T08:52:09.476Z"
   },
   {
    "duration": 50,
    "start_time": "2022-05-26T08:52:09.490Z"
   },
   {
    "duration": 11,
    "start_time": "2022-05-26T08:52:09.541Z"
   },
   {
    "duration": 30,
    "start_time": "2022-05-26T08:52:09.553Z"
   },
   {
    "duration": 51,
    "start_time": "2022-05-26T08:52:09.585Z"
   },
   {
    "duration": 31,
    "start_time": "2022-05-26T08:52:09.637Z"
   },
   {
    "duration": 56,
    "start_time": "2022-05-26T08:52:09.669Z"
   },
   {
    "duration": 17,
    "start_time": "2022-05-26T08:52:09.727Z"
   },
   {
    "duration": 0,
    "start_time": "2022-05-26T08:52:09.745Z"
   },
   {
    "duration": 0,
    "start_time": "2022-05-26T08:52:09.746Z"
   },
   {
    "duration": 0,
    "start_time": "2022-05-26T08:52:09.747Z"
   },
   {
    "duration": 0,
    "start_time": "2022-05-26T08:52:09.748Z"
   },
   {
    "duration": 0,
    "start_time": "2022-05-26T08:52:09.749Z"
   },
   {
    "duration": 0,
    "start_time": "2022-05-26T08:52:09.749Z"
   },
   {
    "duration": 0,
    "start_time": "2022-05-26T08:52:09.750Z"
   },
   {
    "duration": 0,
    "start_time": "2022-05-26T08:52:09.751Z"
   },
   {
    "duration": 0,
    "start_time": "2022-05-26T08:52:09.752Z"
   },
   {
    "duration": 0,
    "start_time": "2022-05-26T08:52:09.753Z"
   },
   {
    "duration": 0,
    "start_time": "2022-05-26T08:52:09.754Z"
   },
   {
    "duration": 0,
    "start_time": "2022-05-26T08:52:09.755Z"
   },
   {
    "duration": 0,
    "start_time": "2022-05-26T08:52:09.759Z"
   },
   {
    "duration": 11,
    "start_time": "2022-05-26T08:52:18.679Z"
   },
   {
    "duration": 396,
    "start_time": "2022-05-26T08:52:24.842Z"
   },
   {
    "duration": 16,
    "start_time": "2022-05-26T08:52:25.240Z"
   },
   {
    "duration": 32,
    "start_time": "2022-05-26T08:52:25.258Z"
   },
   {
    "duration": 33,
    "start_time": "2022-05-26T08:52:25.292Z"
   },
   {
    "duration": 42,
    "start_time": "2022-05-26T08:52:25.326Z"
   },
   {
    "duration": 150,
    "start_time": "2022-05-26T08:52:25.369Z"
   },
   {
    "duration": 13,
    "start_time": "2022-05-26T08:52:25.521Z"
   },
   {
    "duration": 26,
    "start_time": "2022-05-26T08:52:25.535Z"
   },
   {
    "duration": 29,
    "start_time": "2022-05-26T08:52:25.562Z"
   },
   {
    "duration": 260,
    "start_time": "2022-05-26T08:52:25.594Z"
   },
   {
    "duration": 5,
    "start_time": "2022-05-26T08:52:25.855Z"
   },
   {
    "duration": 44,
    "start_time": "2022-05-26T08:52:25.862Z"
   },
   {
    "duration": 61,
    "start_time": "2022-05-26T08:52:25.908Z"
   },
   {
    "duration": 13,
    "start_time": "2022-05-26T08:52:25.971Z"
   },
   {
    "duration": 25,
    "start_time": "2022-05-26T08:52:25.986Z"
   },
   {
    "duration": 12,
    "start_time": "2022-05-26T08:52:26.013Z"
   },
   {
    "duration": 57,
    "start_time": "2022-05-26T08:52:26.027Z"
   },
   {
    "duration": 61,
    "start_time": "2022-05-26T08:52:26.086Z"
   },
   {
    "duration": 35,
    "start_time": "2022-05-26T08:52:26.159Z"
   },
   {
    "duration": 27,
    "start_time": "2022-05-26T08:52:26.196Z"
   },
   {
    "duration": 45,
    "start_time": "2022-05-26T08:52:26.224Z"
   },
   {
    "duration": 0,
    "start_time": "2022-05-26T08:52:26.272Z"
   },
   {
    "duration": 0,
    "start_time": "2022-05-26T08:52:26.273Z"
   },
   {
    "duration": 0,
    "start_time": "2022-05-26T08:52:26.275Z"
   },
   {
    "duration": 0,
    "start_time": "2022-05-26T08:52:26.277Z"
   },
   {
    "duration": 0,
    "start_time": "2022-05-26T08:52:26.278Z"
   },
   {
    "duration": 0,
    "start_time": "2022-05-26T08:52:26.279Z"
   },
   {
    "duration": 0,
    "start_time": "2022-05-26T08:52:26.280Z"
   },
   {
    "duration": 0,
    "start_time": "2022-05-26T08:52:26.282Z"
   },
   {
    "duration": 0,
    "start_time": "2022-05-26T08:52:26.283Z"
   },
   {
    "duration": 0,
    "start_time": "2022-05-26T08:52:26.285Z"
   },
   {
    "duration": 0,
    "start_time": "2022-05-26T08:52:26.286Z"
   },
   {
    "duration": 0,
    "start_time": "2022-05-26T08:52:26.287Z"
   },
   {
    "duration": 0,
    "start_time": "2022-05-26T08:52:26.288Z"
   },
   {
    "duration": 11,
    "start_time": "2022-05-26T08:52:32.222Z"
   },
   {
    "duration": 74,
    "start_time": "2022-05-26T08:53:16.776Z"
   },
   {
    "duration": 10,
    "start_time": "2022-05-26T08:54:19.983Z"
   },
   {
    "duration": 383,
    "start_time": "2022-05-26T08:54:23.835Z"
   },
   {
    "duration": 17,
    "start_time": "2022-05-26T08:54:24.220Z"
   },
   {
    "duration": 34,
    "start_time": "2022-05-26T08:54:24.239Z"
   },
   {
    "duration": 22,
    "start_time": "2022-05-26T08:54:24.275Z"
   },
   {
    "duration": 30,
    "start_time": "2022-05-26T08:54:24.298Z"
   },
   {
    "duration": 162,
    "start_time": "2022-05-26T08:54:24.330Z"
   },
   {
    "duration": 13,
    "start_time": "2022-05-26T08:54:24.494Z"
   },
   {
    "duration": 12,
    "start_time": "2022-05-26T08:54:24.509Z"
   },
   {
    "duration": 74,
    "start_time": "2022-05-26T08:54:24.523Z"
   },
   {
    "duration": 333,
    "start_time": "2022-05-26T08:54:24.601Z"
   },
   {
    "duration": 4,
    "start_time": "2022-05-26T08:54:24.935Z"
   },
   {
    "duration": 67,
    "start_time": "2022-05-26T08:54:24.941Z"
   },
   {
    "duration": 59,
    "start_time": "2022-05-26T08:54:25.010Z"
   },
   {
    "duration": 13,
    "start_time": "2022-05-26T08:54:25.070Z"
   },
   {
    "duration": 26,
    "start_time": "2022-05-26T08:54:25.085Z"
   },
   {
    "duration": 11,
    "start_time": "2022-05-26T08:54:25.112Z"
   },
   {
    "duration": 46,
    "start_time": "2022-05-26T08:54:25.124Z"
   },
   {
    "duration": 42,
    "start_time": "2022-05-26T08:54:25.171Z"
   },
   {
    "duration": 51,
    "start_time": "2022-05-26T08:54:25.215Z"
   },
   {
    "duration": 26,
    "start_time": "2022-05-26T08:54:25.267Z"
   },
   {
    "duration": 94,
    "start_time": "2022-05-26T08:54:25.295Z"
   },
   {
    "duration": 9,
    "start_time": "2022-05-26T08:54:25.391Z"
   },
   {
    "duration": 13,
    "start_time": "2022-05-26T08:54:25.402Z"
   },
   {
    "duration": 43,
    "start_time": "2022-05-26T08:54:25.417Z"
   },
   {
    "duration": 98,
    "start_time": "2022-05-26T08:54:25.462Z"
   },
   {
    "duration": 14,
    "start_time": "2022-05-26T08:54:25.562Z"
   },
   {
    "duration": 15,
    "start_time": "2022-05-26T08:54:25.577Z"
   },
   {
    "duration": 13,
    "start_time": "2022-05-26T08:54:25.595Z"
   },
   {
    "duration": 13,
    "start_time": "2022-05-26T08:54:25.609Z"
   },
   {
    "duration": 38,
    "start_time": "2022-05-26T08:54:25.624Z"
   },
   {
    "duration": 6,
    "start_time": "2022-05-26T08:54:25.664Z"
   },
   {
    "duration": 7,
    "start_time": "2022-05-26T08:54:25.671Z"
   },
   {
    "duration": 11,
    "start_time": "2022-05-26T08:54:25.680Z"
   },
   {
    "duration": 35,
    "start_time": "2022-05-26T08:54:25.692Z"
   },
   {
    "duration": 80,
    "start_time": "2022-05-26T08:54:25.729Z"
   },
   {
    "duration": 81,
    "start_time": "2022-05-26T08:57:45.695Z"
   },
   {
    "duration": 71,
    "start_time": "2022-05-26T08:58:18.069Z"
   },
   {
    "duration": 67,
    "start_time": "2022-05-26T08:58:28.026Z"
   },
   {
    "duration": 78,
    "start_time": "2022-05-26T08:58:42.779Z"
   },
   {
    "duration": 295,
    "start_time": "2022-05-26T09:02:46.731Z"
   },
   {
    "duration": 260,
    "start_time": "2022-05-26T09:03:01.591Z"
   },
   {
    "duration": 435,
    "start_time": "2022-05-26T09:03:11.947Z"
   },
   {
    "duration": 36,
    "start_time": "2022-05-26T09:04:40.710Z"
   },
   {
    "duration": 432,
    "start_time": "2022-05-26T09:04:49.727Z"
   },
   {
    "duration": 377,
    "start_time": "2022-05-26T09:04:59.930Z"
   },
   {
    "duration": 527,
    "start_time": "2022-05-26T09:05:06.353Z"
   },
   {
    "duration": 454,
    "start_time": "2022-05-26T09:05:16.101Z"
   },
   {
    "duration": 39,
    "start_time": "2022-05-26T09:05:33.998Z"
   },
   {
    "duration": 375,
    "start_time": "2022-05-26T09:05:40.495Z"
   },
   {
    "duration": 389,
    "start_time": "2022-05-26T09:06:48.447Z"
   },
   {
    "duration": 443,
    "start_time": "2022-05-26T09:07:04.545Z"
   },
   {
    "duration": 35,
    "start_time": "2022-05-26T09:09:06.326Z"
   },
   {
    "duration": 49,
    "start_time": "2022-05-26T09:09:26.463Z"
   },
   {
    "duration": 40,
    "start_time": "2022-05-26T09:14:04.288Z"
   },
   {
    "duration": 46,
    "start_time": "2022-05-26T09:14:49.928Z"
   },
   {
    "duration": 35,
    "start_time": "2022-05-26T09:15:00.314Z"
   },
   {
    "duration": 391,
    "start_time": "2022-05-26T09:15:12.596Z"
   },
   {
    "duration": 17,
    "start_time": "2022-05-26T09:15:12.989Z"
   },
   {
    "duration": 34,
    "start_time": "2022-05-26T09:15:13.008Z"
   },
   {
    "duration": 28,
    "start_time": "2022-05-26T09:15:13.043Z"
   },
   {
    "duration": 27,
    "start_time": "2022-05-26T09:15:13.072Z"
   },
   {
    "duration": 165,
    "start_time": "2022-05-26T09:15:13.100Z"
   },
   {
    "duration": 13,
    "start_time": "2022-05-26T09:15:13.267Z"
   },
   {
    "duration": 12,
    "start_time": "2022-05-26T09:15:13.282Z"
   },
   {
    "duration": 32,
    "start_time": "2022-05-26T09:15:13.295Z"
   },
   {
    "duration": 258,
    "start_time": "2022-05-26T09:15:13.329Z"
   },
   {
    "duration": 4,
    "start_time": "2022-05-26T09:15:13.588Z"
   },
   {
    "duration": 34,
    "start_time": "2022-05-26T09:15:13.593Z"
   },
   {
    "duration": 73,
    "start_time": "2022-05-26T09:15:13.629Z"
   },
   {
    "duration": 15,
    "start_time": "2022-05-26T09:15:13.704Z"
   },
   {
    "duration": 40,
    "start_time": "2022-05-26T09:15:13.720Z"
   },
   {
    "duration": 10,
    "start_time": "2022-05-26T09:15:13.762Z"
   },
   {
    "duration": 17,
    "start_time": "2022-05-26T09:15:13.774Z"
   },
   {
    "duration": 43,
    "start_time": "2022-05-26T09:15:13.792Z"
   },
   {
    "duration": 31,
    "start_time": "2022-05-26T09:15:13.860Z"
   },
   {
    "duration": 26,
    "start_time": "2022-05-26T09:15:13.893Z"
   },
   {
    "duration": 98,
    "start_time": "2022-05-26T09:15:13.921Z"
   },
   {
    "duration": 9,
    "start_time": "2022-05-26T09:15:14.021Z"
   },
   {
    "duration": 29,
    "start_time": "2022-05-26T09:15:14.031Z"
   },
   {
    "duration": 11,
    "start_time": "2022-05-26T09:15:14.062Z"
   },
   {
    "duration": 100,
    "start_time": "2022-05-26T09:15:14.075Z"
   },
   {
    "duration": 14,
    "start_time": "2022-05-26T09:15:14.176Z"
   },
   {
    "duration": 17,
    "start_time": "2022-05-26T09:15:14.192Z"
   },
   {
    "duration": 27,
    "start_time": "2022-05-26T09:15:14.213Z"
   },
   {
    "duration": 28,
    "start_time": "2022-05-26T09:15:14.242Z"
   },
   {
    "duration": 14,
    "start_time": "2022-05-26T09:15:14.272Z"
   },
   {
    "duration": 5,
    "start_time": "2022-05-26T09:15:14.288Z"
   },
   {
    "duration": 11,
    "start_time": "2022-05-26T09:15:14.295Z"
   },
   {
    "duration": 20,
    "start_time": "2022-05-26T09:15:14.307Z"
   },
   {
    "duration": 33,
    "start_time": "2022-05-26T09:15:14.328Z"
   },
   {
    "duration": 69,
    "start_time": "2022-05-26T09:15:14.363Z"
   },
   {
    "duration": 41,
    "start_time": "2022-05-26T09:15:27.097Z"
   },
   {
    "duration": 28,
    "start_time": "2022-05-26T09:16:01.294Z"
   },
   {
    "duration": 37,
    "start_time": "2022-05-26T09:16:16.694Z"
   },
   {
    "duration": 30,
    "start_time": "2022-05-26T09:16:24.100Z"
   },
   {
    "duration": 231,
    "start_time": "2022-05-26T09:17:37.053Z"
   },
   {
    "duration": 283,
    "start_time": "2022-05-26T09:18:14.670Z"
   },
   {
    "duration": 187,
    "start_time": "2022-05-26T09:18:39.485Z"
   },
   {
    "duration": 30,
    "start_time": "2022-05-26T09:19:12.930Z"
   },
   {
    "duration": 219,
    "start_time": "2022-05-26T09:19:25.772Z"
   },
   {
    "duration": 207,
    "start_time": "2022-05-26T09:20:25.617Z"
   },
   {
    "duration": 59,
    "start_time": "2022-05-26T09:22:45.248Z"
   },
   {
    "duration": 220,
    "start_time": "2022-05-26T09:23:01.990Z"
   },
   {
    "duration": 230,
    "start_time": "2022-05-26T09:30:01.609Z"
   },
   {
    "duration": 192,
    "start_time": "2022-05-26T09:30:24.042Z"
   },
   {
    "duration": 50,
    "start_time": "2022-05-26T09:31:31.090Z"
   },
   {
    "duration": 41,
    "start_time": "2022-05-26T09:31:46.185Z"
   },
   {
    "duration": 38,
    "start_time": "2022-05-26T09:31:50.471Z"
   },
   {
    "duration": 132,
    "start_time": "2022-05-26T09:31:53.752Z"
   },
   {
    "duration": 172,
    "start_time": "2022-05-26T09:32:12.955Z"
   },
   {
    "duration": 169,
    "start_time": "2022-05-26T09:32:39.353Z"
   },
   {
    "duration": 139,
    "start_time": "2022-05-26T09:35:36.306Z"
   },
   {
    "duration": 280,
    "start_time": "2022-05-26T09:36:13.535Z"
   },
   {
    "duration": 48,
    "start_time": "2022-05-26T09:37:11.008Z"
   },
   {
    "duration": 197,
    "start_time": "2022-05-26T09:37:20.943Z"
   },
   {
    "duration": 363,
    "start_time": "2022-05-26T09:37:31.705Z"
   },
   {
    "duration": 300,
    "start_time": "2022-05-26T09:38:08.123Z"
   },
   {
    "duration": 292,
    "start_time": "2022-05-26T09:38:20.657Z"
   },
   {
    "duration": 147,
    "start_time": "2022-05-26T09:39:12.524Z"
   },
   {
    "duration": 147,
    "start_time": "2022-05-26T09:39:36.903Z"
   },
   {
    "duration": 141,
    "start_time": "2022-05-26T09:39:42.583Z"
   },
   {
    "duration": 286,
    "start_time": "2022-05-26T09:40:11.680Z"
   },
   {
    "duration": 550,
    "start_time": "2022-05-26T09:40:20.335Z"
   },
   {
    "duration": 541,
    "start_time": "2022-05-26T09:40:57.504Z"
   },
   {
    "duration": 42,
    "start_time": "2022-05-26T09:41:11.338Z"
   },
   {
    "duration": 512,
    "start_time": "2022-05-26T09:41:17.456Z"
   },
   {
    "duration": 460,
    "start_time": "2022-05-26T09:41:36.358Z"
   },
   {
    "duration": 518,
    "start_time": "2022-05-26T09:43:11.079Z"
   },
   {
    "duration": 489,
    "start_time": "2022-05-26T09:43:37.611Z"
   },
   {
    "duration": 509,
    "start_time": "2022-05-26T09:43:57.789Z"
   },
   {
    "duration": 438,
    "start_time": "2022-05-26T09:44:12.300Z"
   },
   {
    "duration": 550,
    "start_time": "2022-05-26T09:44:48.447Z"
   },
   {
    "duration": 447,
    "start_time": "2022-05-26T09:45:10.921Z"
   },
   {
    "duration": 442,
    "start_time": "2022-05-26T09:47:58.506Z"
   },
   {
    "duration": 488,
    "start_time": "2022-05-26T09:49:09.526Z"
   },
   {
    "duration": 671,
    "start_time": "2022-05-26T09:49:17.491Z"
   },
   {
    "duration": 485,
    "start_time": "2022-05-26T09:49:23.195Z"
   },
   {
    "duration": 465,
    "start_time": "2022-05-26T09:49:29.055Z"
   },
   {
    "duration": 488,
    "start_time": "2022-05-26T09:49:53.985Z"
   },
   {
    "duration": 442,
    "start_time": "2022-05-26T09:50:14.901Z"
   },
   {
    "duration": 534,
    "start_time": "2022-05-26T09:50:49.835Z"
   },
   {
    "duration": 394,
    "start_time": "2022-05-26T09:51:18.672Z"
   },
   {
    "duration": 649,
    "start_time": "2022-05-26T09:51:33.652Z"
   },
   {
    "duration": 698,
    "start_time": "2022-05-26T09:51:49.110Z"
   },
   {
    "duration": 559,
    "start_time": "2022-05-26T09:52:09.964Z"
   },
   {
    "duration": 531,
    "start_time": "2022-05-26T09:52:28.740Z"
   },
   {
    "duration": 569,
    "start_time": "2022-05-26T09:52:37.829Z"
   },
   {
    "duration": 614,
    "start_time": "2022-05-26T09:52:45.875Z"
   },
   {
    "duration": 604,
    "start_time": "2022-05-26T09:53:12.212Z"
   },
   {
    "duration": 541,
    "start_time": "2022-05-26T09:53:22.772Z"
   },
   {
    "duration": 519,
    "start_time": "2022-05-26T09:54:50.274Z"
   },
   {
    "duration": 329,
    "start_time": "2022-05-26T09:56:16.471Z"
   },
   {
    "duration": 452,
    "start_time": "2022-05-26T09:56:23.783Z"
   },
   {
    "duration": 355,
    "start_time": "2022-05-26T09:57:33.701Z"
   },
   {
    "duration": 466,
    "start_time": "2022-05-26T09:58:50.626Z"
   },
   {
    "duration": 459,
    "start_time": "2022-05-26T09:58:56.843Z"
   },
   {
    "duration": 542,
    "start_time": "2022-05-26T09:59:10.972Z"
   },
   {
    "duration": 472,
    "start_time": "2022-05-26T09:59:39.278Z"
   },
   {
    "duration": 490,
    "start_time": "2022-05-26T10:00:43.669Z"
   },
   {
    "duration": 462,
    "start_time": "2022-05-26T10:00:55.924Z"
   },
   {
    "duration": 577,
    "start_time": "2022-05-26T10:00:58.622Z"
   },
   {
    "duration": 571,
    "start_time": "2022-05-26T10:01:07.428Z"
   },
   {
    "duration": 347,
    "start_time": "2022-05-26T10:04:22.686Z"
   },
   {
    "duration": 363,
    "start_time": "2022-05-26T10:04:37.255Z"
   },
   {
    "duration": 32,
    "start_time": "2022-05-26T10:04:42.811Z"
   },
   {
    "duration": 556,
    "start_time": "2022-05-26T10:04:49.654Z"
   },
   {
    "duration": 636,
    "start_time": "2022-05-26T10:04:56.954Z"
   },
   {
    "duration": 532,
    "start_time": "2022-05-26T10:05:14.030Z"
   },
   {
    "duration": 17,
    "start_time": "2022-05-26T10:07:39.112Z"
   },
   {
    "duration": 570,
    "start_time": "2022-05-26T10:07:41.791Z"
   },
   {
    "duration": 133,
    "start_time": "2022-05-26T10:16:50.326Z"
   },
   {
    "duration": 138,
    "start_time": "2022-05-26T10:17:02.039Z"
   },
   {
    "duration": 138,
    "start_time": "2022-05-26T10:17:20.539Z"
   },
   {
    "duration": 11,
    "start_time": "2022-05-26T10:22:07.831Z"
   },
   {
    "duration": 154,
    "start_time": "2022-05-26T10:22:14.721Z"
   },
   {
    "duration": 8,
    "start_time": "2022-05-26T10:23:04.208Z"
   },
   {
    "duration": 20,
    "start_time": "2022-05-26T10:26:04.738Z"
   },
   {
    "duration": 400,
    "start_time": "2022-05-26T10:26:13.405Z"
   },
   {
    "duration": 655,
    "start_time": "2022-05-26T10:26:54.810Z"
   },
   {
    "duration": 418,
    "start_time": "2022-05-26T10:27:09.074Z"
   },
   {
    "duration": 397,
    "start_time": "2022-05-26T10:27:39.264Z"
   },
   {
    "duration": 394,
    "start_time": "2022-05-26T10:27:43.910Z"
   },
   {
    "duration": 396,
    "start_time": "2022-05-26T10:27:48.092Z"
   },
   {
    "duration": 472,
    "start_time": "2022-05-26T10:27:59.140Z"
   },
   {
    "duration": 2131,
    "start_time": "2022-05-26T10:28:06.913Z"
   },
   {
    "duration": 21,
    "start_time": "2022-05-26T10:28:09.046Z"
   },
   {
    "duration": 30,
    "start_time": "2022-05-26T10:28:09.069Z"
   },
   {
    "duration": 28,
    "start_time": "2022-05-26T10:28:09.101Z"
   },
   {
    "duration": 45,
    "start_time": "2022-05-26T10:28:09.130Z"
   },
   {
    "duration": 168,
    "start_time": "2022-05-26T10:28:09.176Z"
   },
   {
    "duration": 24,
    "start_time": "2022-05-26T10:28:09.345Z"
   },
   {
    "duration": 14,
    "start_time": "2022-05-26T10:28:09.371Z"
   },
   {
    "duration": 37,
    "start_time": "2022-05-26T10:28:09.386Z"
   },
   {
    "duration": 335,
    "start_time": "2022-05-26T10:28:09.426Z"
   },
   {
    "duration": 4,
    "start_time": "2022-05-26T10:28:09.762Z"
   },
   {
    "duration": 38,
    "start_time": "2022-05-26T10:28:09.768Z"
   },
   {
    "duration": 81,
    "start_time": "2022-05-26T10:28:09.807Z"
   },
   {
    "duration": 13,
    "start_time": "2022-05-26T10:28:09.890Z"
   },
   {
    "duration": 27,
    "start_time": "2022-05-26T10:28:09.905Z"
   },
   {
    "duration": 28,
    "start_time": "2022-05-26T10:28:09.933Z"
   },
   {
    "duration": 17,
    "start_time": "2022-05-26T10:28:09.962Z"
   },
   {
    "duration": 42,
    "start_time": "2022-05-26T10:28:09.980Z"
   },
   {
    "duration": 53,
    "start_time": "2022-05-26T10:28:10.023Z"
   },
   {
    "duration": 27,
    "start_time": "2022-05-26T10:28:10.078Z"
   },
   {
    "duration": 91,
    "start_time": "2022-05-26T10:28:10.106Z"
   },
   {
    "duration": 9,
    "start_time": "2022-05-26T10:28:10.199Z"
   },
   {
    "duration": 13,
    "start_time": "2022-05-26T10:28:10.209Z"
   },
   {
    "duration": 35,
    "start_time": "2022-05-26T10:28:10.224Z"
   },
   {
    "duration": 99,
    "start_time": "2022-05-26T10:28:10.261Z"
   },
   {
    "duration": 13,
    "start_time": "2022-05-26T10:28:10.361Z"
   },
   {
    "duration": 16,
    "start_time": "2022-05-26T10:28:10.376Z"
   },
   {
    "duration": 13,
    "start_time": "2022-05-26T10:28:10.395Z"
   },
   {
    "duration": 5,
    "start_time": "2022-05-26T10:28:10.410Z"
   },
   {
    "duration": 46,
    "start_time": "2022-05-26T10:28:10.417Z"
   },
   {
    "duration": 6,
    "start_time": "2022-05-26T10:28:10.464Z"
   },
   {
    "duration": 6,
    "start_time": "2022-05-26T10:28:10.472Z"
   },
   {
    "duration": 12,
    "start_time": "2022-05-26T10:28:10.480Z"
   },
   {
    "duration": 29,
    "start_time": "2022-05-26T10:28:10.493Z"
   },
   {
    "duration": 89,
    "start_time": "2022-05-26T10:28:10.524Z"
   },
   {
    "duration": 411,
    "start_time": "2022-05-26T10:28:10.615Z"
   },
   {
    "duration": 382,
    "start_time": "2022-05-26T10:28:11.028Z"
   },
   {
    "duration": 410,
    "start_time": "2022-05-26T10:28:11.412Z"
   },
   {
    "duration": 79,
    "start_time": "2022-05-26T10:28:11.824Z"
   },
   {
    "duration": 403,
    "start_time": "2022-05-26T10:28:11.905Z"
   },
   {
    "duration": 523,
    "start_time": "2022-05-26T10:28:12.309Z"
   },
   {
    "duration": 408,
    "start_time": "2022-05-26T10:28:12.834Z"
   },
   {
    "duration": 416,
    "start_time": "2022-05-26T10:28:13.244Z"
   },
   {
    "duration": 5,
    "start_time": "2022-05-26T10:28:13.661Z"
   },
   {
    "duration": 102,
    "start_time": "2022-05-26T10:28:13.668Z"
   },
   {
    "duration": 430,
    "start_time": "2022-05-26T10:28:13.772Z"
   },
   {
    "duration": 5,
    "start_time": "2022-05-26T10:28:14.203Z"
   },
   {
    "duration": 1517,
    "start_time": "2022-05-26T10:55:17.697Z"
   },
   {
    "duration": 21,
    "start_time": "2022-05-26T10:55:19.217Z"
   },
   {
    "duration": 30,
    "start_time": "2022-05-26T10:55:19.239Z"
   },
   {
    "duration": 22,
    "start_time": "2022-05-26T10:55:19.271Z"
   },
   {
    "duration": 26,
    "start_time": "2022-05-26T10:55:19.294Z"
   },
   {
    "duration": 167,
    "start_time": "2022-05-26T10:55:19.321Z"
   },
   {
    "duration": 18,
    "start_time": "2022-05-26T10:55:19.490Z"
   },
   {
    "duration": 13,
    "start_time": "2022-05-26T10:55:19.509Z"
   },
   {
    "duration": 62,
    "start_time": "2022-05-26T10:55:19.524Z"
   },
   {
    "duration": 346,
    "start_time": "2022-05-26T10:55:19.588Z"
   },
   {
    "duration": 4,
    "start_time": "2022-05-26T10:55:19.935Z"
   },
   {
    "duration": 49,
    "start_time": "2022-05-26T10:55:19.940Z"
   },
   {
    "duration": 55,
    "start_time": "2022-05-26T10:55:19.991Z"
   },
   {
    "duration": 14,
    "start_time": "2022-05-26T10:55:20.060Z"
   },
   {
    "duration": 26,
    "start_time": "2022-05-26T10:55:20.075Z"
   },
   {
    "duration": 10,
    "start_time": "2022-05-26T10:55:20.103Z"
   },
   {
    "duration": 15,
    "start_time": "2022-05-26T10:55:20.115Z"
   },
   {
    "duration": 73,
    "start_time": "2022-05-26T10:55:20.132Z"
   },
   {
    "duration": 52,
    "start_time": "2022-05-26T10:55:20.207Z"
   },
   {
    "duration": 28,
    "start_time": "2022-05-26T10:55:20.261Z"
   },
   {
    "duration": 91,
    "start_time": "2022-05-26T10:55:20.291Z"
   },
   {
    "duration": 9,
    "start_time": "2022-05-26T10:55:20.384Z"
   },
   {
    "duration": 13,
    "start_time": "2022-05-26T10:55:20.395Z"
   },
   {
    "duration": 17,
    "start_time": "2022-05-26T10:55:20.410Z"
   },
   {
    "duration": 135,
    "start_time": "2022-05-26T10:55:20.460Z"
   },
   {
    "duration": 13,
    "start_time": "2022-05-26T10:55:20.597Z"
   },
   {
    "duration": 23,
    "start_time": "2022-05-26T10:55:20.611Z"
   },
   {
    "duration": 33,
    "start_time": "2022-05-26T10:55:20.637Z"
   },
   {
    "duration": 9,
    "start_time": "2022-05-26T10:55:20.671Z"
   },
   {
    "duration": 14,
    "start_time": "2022-05-26T10:55:20.681Z"
   },
   {
    "duration": 5,
    "start_time": "2022-05-26T10:55:20.697Z"
   },
   {
    "duration": 4,
    "start_time": "2022-05-26T10:55:20.704Z"
   },
   {
    "duration": 13,
    "start_time": "2022-05-26T10:55:20.709Z"
   },
   {
    "duration": 50,
    "start_time": "2022-05-26T10:55:20.723Z"
   },
   {
    "duration": 69,
    "start_time": "2022-05-26T10:55:20.775Z"
   },
   {
    "duration": 410,
    "start_time": "2022-05-26T10:55:20.859Z"
   },
   {
    "duration": 402,
    "start_time": "2022-05-26T10:55:21.271Z"
   },
   {
    "duration": 448,
    "start_time": "2022-05-26T10:55:21.675Z"
   },
   {
    "duration": 92,
    "start_time": "2022-05-26T10:55:22.125Z"
   },
   {
    "duration": 422,
    "start_time": "2022-05-26T10:55:22.218Z"
   },
   {
    "duration": 525,
    "start_time": "2022-05-26T10:55:22.642Z"
   },
   {
    "duration": 447,
    "start_time": "2022-05-26T10:55:23.169Z"
   },
   {
    "duration": 456,
    "start_time": "2022-05-26T10:55:23.618Z"
   },
   {
    "duration": 6,
    "start_time": "2022-05-26T10:55:24.076Z"
   },
   {
    "duration": 83,
    "start_time": "2022-05-26T10:55:24.084Z"
   },
   {
    "duration": 444,
    "start_time": "2022-05-26T10:55:24.170Z"
   },
   {
    "duration": 6,
    "start_time": "2022-05-26T10:55:24.616Z"
   },
   {
    "duration": 1438,
    "start_time": "2022-05-26T11:00:23.766Z"
   },
   {
    "duration": 22,
    "start_time": "2022-05-26T11:00:25.206Z"
   },
   {
    "duration": 39,
    "start_time": "2022-05-26T11:00:25.229Z"
   },
   {
    "duration": 21,
    "start_time": "2022-05-26T11:00:25.269Z"
   },
   {
    "duration": 33,
    "start_time": "2022-05-26T11:00:25.292Z"
   },
   {
    "duration": 157,
    "start_time": "2022-05-26T11:00:25.326Z"
   },
   {
    "duration": 13,
    "start_time": "2022-05-26T11:00:25.484Z"
   },
   {
    "duration": 27,
    "start_time": "2022-05-26T11:00:25.499Z"
   },
   {
    "duration": 35,
    "start_time": "2022-05-26T11:00:25.528Z"
   },
   {
    "duration": 330,
    "start_time": "2022-05-26T11:00:25.566Z"
   },
   {
    "duration": 5,
    "start_time": "2022-05-26T11:00:25.899Z"
   },
   {
    "duration": 51,
    "start_time": "2022-05-26T11:00:25.905Z"
   },
   {
    "duration": 61,
    "start_time": "2022-05-26T11:00:25.958Z"
   },
   {
    "duration": 13,
    "start_time": "2022-05-26T11:00:26.021Z"
   },
   {
    "duration": 39,
    "start_time": "2022-05-26T11:00:26.035Z"
   },
   {
    "duration": 29,
    "start_time": "2022-05-26T11:00:26.076Z"
   },
   {
    "duration": 40,
    "start_time": "2022-05-26T11:00:26.106Z"
   },
   {
    "duration": 45,
    "start_time": "2022-05-26T11:00:26.147Z"
   },
   {
    "duration": 32,
    "start_time": "2022-05-26T11:00:26.194Z"
   },
   {
    "duration": 43,
    "start_time": "2022-05-26T11:00:26.228Z"
   },
   {
    "duration": 71,
    "start_time": "2022-05-26T11:00:26.273Z"
   },
   {
    "duration": 9,
    "start_time": "2022-05-26T11:00:26.358Z"
   },
   {
    "duration": 21,
    "start_time": "2022-05-26T11:00:26.368Z"
   },
   {
    "duration": 11,
    "start_time": "2022-05-26T11:00:26.391Z"
   },
   {
    "duration": 119,
    "start_time": "2022-05-26T11:00:26.403Z"
   },
   {
    "duration": 13,
    "start_time": "2022-05-26T11:00:26.523Z"
   },
   {
    "duration": 29,
    "start_time": "2022-05-26T11:00:26.537Z"
   },
   {
    "duration": 25,
    "start_time": "2022-05-26T11:00:26.569Z"
   },
   {
    "duration": 24,
    "start_time": "2022-05-26T11:00:26.596Z"
   },
   {
    "duration": 30,
    "start_time": "2022-05-26T11:00:26.622Z"
   },
   {
    "duration": 28,
    "start_time": "2022-05-26T11:00:26.654Z"
   },
   {
    "duration": 29,
    "start_time": "2022-05-26T11:00:26.684Z"
   },
   {
    "duration": 34,
    "start_time": "2022-05-26T11:00:26.714Z"
   },
   {
    "duration": 48,
    "start_time": "2022-05-26T11:00:26.750Z"
   },
   {
    "duration": 64,
    "start_time": "2022-05-26T11:00:26.800Z"
   },
   {
    "duration": 372,
    "start_time": "2022-05-26T11:00:26.866Z"
   },
   {
    "duration": 356,
    "start_time": "2022-05-26T11:00:27.240Z"
   },
   {
    "duration": 416,
    "start_time": "2022-05-26T11:00:27.598Z"
   },
   {
    "duration": 66,
    "start_time": "2022-05-26T11:00:28.015Z"
   },
   {
    "duration": 362,
    "start_time": "2022-05-26T11:00:28.083Z"
   },
   {
    "duration": 466,
    "start_time": "2022-05-26T11:00:28.446Z"
   },
   {
    "duration": 381,
    "start_time": "2022-05-26T11:00:28.914Z"
   },
   {
    "duration": 386,
    "start_time": "2022-05-26T11:00:29.296Z"
   },
   {
    "duration": 4,
    "start_time": "2022-05-26T11:00:29.684Z"
   },
   {
    "duration": 81,
    "start_time": "2022-05-26T11:00:29.689Z"
   },
   {
    "duration": 405,
    "start_time": "2022-05-26T11:00:29.772Z"
   },
   {
    "duration": 5,
    "start_time": "2022-05-26T11:00:30.178Z"
   },
   {
    "duration": 2606,
    "start_time": "2022-05-26T11:53:20.543Z"
   },
   {
    "duration": 20,
    "start_time": "2022-05-26T11:53:23.151Z"
   },
   {
    "duration": 31,
    "start_time": "2022-05-26T11:53:23.173Z"
   },
   {
    "duration": 22,
    "start_time": "2022-05-26T11:53:23.207Z"
   },
   {
    "duration": 51,
    "start_time": "2022-05-26T11:53:23.231Z"
   },
   {
    "duration": 193,
    "start_time": "2022-05-26T11:53:23.284Z"
   },
   {
    "duration": 14,
    "start_time": "2022-05-26T11:53:23.479Z"
   },
   {
    "duration": 9,
    "start_time": "2022-05-26T11:53:23.495Z"
   },
   {
    "duration": 56,
    "start_time": "2022-05-26T11:53:23.506Z"
   },
   {
    "duration": 329,
    "start_time": "2022-05-26T11:53:23.565Z"
   },
   {
    "duration": 3,
    "start_time": "2022-05-26T11:53:23.895Z"
   },
   {
    "duration": 35,
    "start_time": "2022-05-26T11:53:23.900Z"
   },
   {
    "duration": 70,
    "start_time": "2022-05-26T11:53:23.936Z"
   },
   {
    "duration": 14,
    "start_time": "2022-05-26T11:53:24.008Z"
   },
   {
    "duration": 62,
    "start_time": "2022-05-26T11:53:24.025Z"
   },
   {
    "duration": 11,
    "start_time": "2022-05-26T11:53:24.089Z"
   },
   {
    "duration": 16,
    "start_time": "2022-05-26T11:53:24.101Z"
   },
   {
    "duration": 69,
    "start_time": "2022-05-26T11:53:24.118Z"
   },
   {
    "duration": 31,
    "start_time": "2022-05-26T11:53:24.189Z"
   },
   {
    "duration": 42,
    "start_time": "2022-05-26T11:53:24.222Z"
   },
   {
    "duration": 76,
    "start_time": "2022-05-26T11:53:24.266Z"
   },
   {
    "duration": 8,
    "start_time": "2022-05-26T11:53:24.359Z"
   },
   {
    "duration": 13,
    "start_time": "2022-05-26T11:53:24.368Z"
   },
   {
    "duration": 14,
    "start_time": "2022-05-26T11:53:24.382Z"
   },
   {
    "duration": 114,
    "start_time": "2022-05-26T11:53:24.398Z"
   },
   {
    "duration": 14,
    "start_time": "2022-05-26T11:53:24.513Z"
   },
   {
    "duration": 36,
    "start_time": "2022-05-26T11:53:24.529Z"
   },
   {
    "duration": 17,
    "start_time": "2022-05-26T11:53:24.568Z"
   },
   {
    "duration": 9,
    "start_time": "2022-05-26T11:53:24.586Z"
   },
   {
    "duration": 11,
    "start_time": "2022-05-26T11:53:24.597Z"
   },
   {
    "duration": 10,
    "start_time": "2022-05-26T11:53:24.610Z"
   },
   {
    "duration": 7,
    "start_time": "2022-05-26T11:53:24.621Z"
   },
   {
    "duration": 32,
    "start_time": "2022-05-26T11:53:24.630Z"
   },
   {
    "duration": 27,
    "start_time": "2022-05-26T11:53:24.663Z"
   },
   {
    "duration": 85,
    "start_time": "2022-05-26T11:53:24.691Z"
   },
   {
    "duration": 399,
    "start_time": "2022-05-26T11:53:24.777Z"
   },
   {
    "duration": 400,
    "start_time": "2022-05-26T11:53:25.178Z"
   },
   {
    "duration": 387,
    "start_time": "2022-05-26T11:53:25.580Z"
   },
   {
    "duration": 65,
    "start_time": "2022-05-26T11:53:25.969Z"
   },
   {
    "duration": 398,
    "start_time": "2022-05-26T11:53:26.035Z"
   },
   {
    "duration": 507,
    "start_time": "2022-05-26T11:53:26.435Z"
   },
   {
    "duration": 412,
    "start_time": "2022-05-26T11:53:26.943Z"
   },
   {
    "duration": 430,
    "start_time": "2022-05-26T11:53:27.356Z"
   },
   {
    "duration": 6,
    "start_time": "2022-05-26T11:53:27.788Z"
   },
   {
    "duration": 110,
    "start_time": "2022-05-26T11:53:27.796Z"
   },
   {
    "duration": 460,
    "start_time": "2022-05-26T11:53:27.908Z"
   },
   {
    "duration": 6,
    "start_time": "2022-05-26T11:53:28.369Z"
   },
   {
    "duration": 1522,
    "start_time": "2022-05-26T12:07:47.364Z"
   },
   {
    "duration": 23,
    "start_time": "2022-05-26T12:07:48.888Z"
   },
   {
    "duration": 31,
    "start_time": "2022-05-26T12:07:48.912Z"
   },
   {
    "duration": 31,
    "start_time": "2022-05-26T12:07:48.945Z"
   },
   {
    "duration": 27,
    "start_time": "2022-05-26T12:07:48.977Z"
   },
   {
    "duration": 187,
    "start_time": "2022-05-26T12:07:49.005Z"
   },
   {
    "duration": 15,
    "start_time": "2022-05-26T12:07:49.195Z"
   },
   {
    "duration": 19,
    "start_time": "2022-05-26T12:07:49.212Z"
   },
   {
    "duration": 69,
    "start_time": "2022-05-26T12:07:49.233Z"
   },
   {
    "duration": 419,
    "start_time": "2022-05-26T12:07:49.307Z"
   },
   {
    "duration": 4,
    "start_time": "2022-05-26T12:07:49.727Z"
   },
   {
    "duration": 48,
    "start_time": "2022-05-26T12:07:49.732Z"
   },
   {
    "duration": 58,
    "start_time": "2022-05-26T12:07:49.782Z"
   },
   {
    "duration": 22,
    "start_time": "2022-05-26T12:07:49.842Z"
   },
   {
    "duration": 33,
    "start_time": "2022-05-26T12:07:49.866Z"
   },
   {
    "duration": 20,
    "start_time": "2022-05-26T12:07:49.901Z"
   },
   {
    "duration": 63,
    "start_time": "2022-05-26T12:07:49.924Z"
   },
   {
    "duration": 75,
    "start_time": "2022-05-26T12:07:49.989Z"
   },
   {
    "duration": 58,
    "start_time": "2022-05-26T12:07:50.066Z"
   },
   {
    "duration": 65,
    "start_time": "2022-05-26T12:07:50.127Z"
   },
   {
    "duration": 129,
    "start_time": "2022-05-26T12:07:50.195Z"
   },
   {
    "duration": 10,
    "start_time": "2022-05-26T12:07:50.325Z"
   },
   {
    "duration": 30,
    "start_time": "2022-05-26T12:07:50.336Z"
   },
   {
    "duration": 23,
    "start_time": "2022-05-26T12:07:50.368Z"
   },
   {
    "duration": 120,
    "start_time": "2022-05-26T12:07:50.393Z"
   },
   {
    "duration": 16,
    "start_time": "2022-05-26T12:07:50.515Z"
   },
   {
    "duration": 34,
    "start_time": "2022-05-26T12:07:50.533Z"
   },
   {
    "duration": 21,
    "start_time": "2022-05-26T12:07:50.571Z"
   },
   {
    "duration": 16,
    "start_time": "2022-05-26T12:07:50.595Z"
   },
   {
    "duration": 12,
    "start_time": "2022-05-26T12:07:50.614Z"
   },
   {
    "duration": 31,
    "start_time": "2022-05-26T12:07:50.629Z"
   },
   {
    "duration": 8,
    "start_time": "2022-05-26T12:07:50.662Z"
   },
   {
    "duration": 40,
    "start_time": "2022-05-26T12:07:50.672Z"
   },
   {
    "duration": 71,
    "start_time": "2022-05-26T12:07:50.714Z"
   },
   {
    "duration": 116,
    "start_time": "2022-05-26T12:07:50.788Z"
   },
   {
    "duration": 432,
    "start_time": "2022-05-26T12:07:50.906Z"
   },
   {
    "duration": 522,
    "start_time": "2022-05-26T12:07:51.341Z"
   },
   {
    "duration": 524,
    "start_time": "2022-05-26T12:07:51.865Z"
   },
   {
    "duration": 92,
    "start_time": "2022-05-26T12:07:52.392Z"
   },
   {
    "duration": 433,
    "start_time": "2022-05-26T12:07:52.486Z"
   },
   {
    "duration": 523,
    "start_time": "2022-05-26T12:07:52.921Z"
   },
   {
    "duration": 535,
    "start_time": "2022-05-26T12:07:53.445Z"
   },
   {
    "duration": 511,
    "start_time": "2022-05-26T12:07:53.982Z"
   },
   {
    "duration": 6,
    "start_time": "2022-05-26T12:07:54.495Z"
   },
   {
    "duration": 108,
    "start_time": "2022-05-26T12:07:54.503Z"
   },
   {
    "duration": 494,
    "start_time": "2022-05-26T12:07:54.613Z"
   },
   {
    "duration": 5,
    "start_time": "2022-05-26T12:07:55.110Z"
   },
   {
    "duration": 1567,
    "start_time": "2022-05-26T12:08:39.945Z"
   },
   {
    "duration": 23,
    "start_time": "2022-05-26T12:08:41.514Z"
   },
   {
    "duration": 36,
    "start_time": "2022-05-26T12:08:41.538Z"
   },
   {
    "duration": 40,
    "start_time": "2022-05-26T12:08:41.578Z"
   },
   {
    "duration": 66,
    "start_time": "2022-05-26T12:08:41.620Z"
   },
   {
    "duration": 182,
    "start_time": "2022-05-26T12:08:41.688Z"
   },
   {
    "duration": 13,
    "start_time": "2022-05-26T12:08:41.872Z"
   },
   {
    "duration": 11,
    "start_time": "2022-05-26T12:08:41.887Z"
   },
   {
    "duration": 35,
    "start_time": "2022-05-26T12:08:41.900Z"
   },
   {
    "duration": 351,
    "start_time": "2022-05-26T12:08:41.961Z"
   },
   {
    "duration": 3,
    "start_time": "2022-05-26T12:08:42.314Z"
   },
   {
    "duration": 43,
    "start_time": "2022-05-26T12:08:42.319Z"
   },
   {
    "duration": 58,
    "start_time": "2022-05-26T12:08:42.364Z"
   },
   {
    "duration": 15,
    "start_time": "2022-05-26T12:08:42.423Z"
   },
   {
    "duration": 44,
    "start_time": "2022-05-26T12:08:42.440Z"
   },
   {
    "duration": 14,
    "start_time": "2022-05-26T12:08:42.486Z"
   },
   {
    "duration": 19,
    "start_time": "2022-05-26T12:08:42.501Z"
   },
   {
    "duration": 75,
    "start_time": "2022-05-26T12:08:42.522Z"
   },
   {
    "duration": 33,
    "start_time": "2022-05-26T12:08:42.599Z"
   },
   {
    "duration": 58,
    "start_time": "2022-05-26T12:08:42.634Z"
   },
   {
    "duration": 121,
    "start_time": "2022-05-26T12:08:42.694Z"
   },
   {
    "duration": 11,
    "start_time": "2022-05-26T12:08:42.817Z"
   },
   {
    "duration": 32,
    "start_time": "2022-05-26T12:08:42.829Z"
   },
   {
    "duration": 28,
    "start_time": "2022-05-26T12:08:42.862Z"
   },
   {
    "duration": 122,
    "start_time": "2022-05-26T12:08:42.892Z"
   },
   {
    "duration": 17,
    "start_time": "2022-05-26T12:08:43.016Z"
   },
   {
    "duration": 34,
    "start_time": "2022-05-26T12:08:43.034Z"
   },
   {
    "duration": 13,
    "start_time": "2022-05-26T12:08:43.071Z"
   },
   {
    "duration": 9,
    "start_time": "2022-05-26T12:08:43.086Z"
   },
   {
    "duration": 13,
    "start_time": "2022-05-26T12:08:43.097Z"
   },
   {
    "duration": 7,
    "start_time": "2022-05-26T12:08:43.112Z"
   },
   {
    "duration": 42,
    "start_time": "2022-05-26T12:08:43.121Z"
   },
   {
    "duration": 17,
    "start_time": "2022-05-26T12:08:43.166Z"
   },
   {
    "duration": 44,
    "start_time": "2022-05-26T12:08:43.184Z"
   },
   {
    "duration": 117,
    "start_time": "2022-05-26T12:08:43.230Z"
   },
   {
    "duration": 503,
    "start_time": "2022-05-26T12:08:43.362Z"
   },
   {
    "duration": 418,
    "start_time": "2022-05-26T12:08:43.867Z"
   },
   {
    "duration": 436,
    "start_time": "2022-05-26T12:08:44.287Z"
   },
   {
    "duration": 81,
    "start_time": "2022-05-26T12:08:44.725Z"
   },
   {
    "duration": 441,
    "start_time": "2022-05-26T12:08:44.807Z"
   },
   {
    "duration": 529,
    "start_time": "2022-05-26T12:08:45.249Z"
   },
   {
    "duration": 495,
    "start_time": "2022-05-26T12:08:45.780Z"
   },
   {
    "duration": 458,
    "start_time": "2022-05-26T12:08:46.277Z"
   },
   {
    "duration": 6,
    "start_time": "2022-05-26T12:08:46.736Z"
   },
   {
    "duration": 91,
    "start_time": "2022-05-26T12:08:46.743Z"
   },
   {
    "duration": 535,
    "start_time": "2022-05-26T12:08:46.836Z"
   },
   {
    "duration": 6,
    "start_time": "2022-05-26T12:08:47.373Z"
   },
   {
    "duration": 1518,
    "start_time": "2022-05-26T12:09:42.629Z"
   },
   {
    "duration": 22,
    "start_time": "2022-05-26T12:09:44.149Z"
   },
   {
    "duration": 32,
    "start_time": "2022-05-26T12:09:44.172Z"
   },
   {
    "duration": 26,
    "start_time": "2022-05-26T12:09:44.206Z"
   },
   {
    "duration": 64,
    "start_time": "2022-05-26T12:09:44.234Z"
   },
   {
    "duration": 183,
    "start_time": "2022-05-26T12:09:44.299Z"
   },
   {
    "duration": 16,
    "start_time": "2022-05-26T12:09:44.484Z"
   },
   {
    "duration": 11,
    "start_time": "2022-05-26T12:09:44.502Z"
   },
   {
    "duration": 53,
    "start_time": "2022-05-26T12:09:44.514Z"
   },
   {
    "duration": 372,
    "start_time": "2022-05-26T12:09:44.569Z"
   },
   {
    "duration": 5,
    "start_time": "2022-05-26T12:09:44.943Z"
   },
   {
    "duration": 35,
    "start_time": "2022-05-26T12:09:44.959Z"
   },
   {
    "duration": 78,
    "start_time": "2022-05-26T12:09:44.996Z"
   },
   {
    "duration": 15,
    "start_time": "2022-05-26T12:09:45.076Z"
   },
   {
    "duration": 29,
    "start_time": "2022-05-26T12:09:45.093Z"
   },
   {
    "duration": 12,
    "start_time": "2022-05-26T12:09:45.123Z"
   },
   {
    "duration": 42,
    "start_time": "2022-05-26T12:09:45.137Z"
   },
   {
    "duration": 45,
    "start_time": "2022-05-26T12:09:45.181Z"
   },
   {
    "duration": 44,
    "start_time": "2022-05-26T12:09:45.228Z"
   },
   {
    "duration": 28,
    "start_time": "2022-05-26T12:09:45.274Z"
   },
   {
    "duration": 95,
    "start_time": "2022-05-26T12:09:45.304Z"
   },
   {
    "duration": 9,
    "start_time": "2022-05-26T12:09:45.401Z"
   },
   {
    "duration": 31,
    "start_time": "2022-05-26T12:09:45.411Z"
   },
   {
    "duration": 36,
    "start_time": "2022-05-26T12:09:45.443Z"
   },
   {
    "duration": 129,
    "start_time": "2022-05-26T12:09:45.481Z"
   },
   {
    "duration": 16,
    "start_time": "2022-05-26T12:09:45.611Z"
   },
   {
    "duration": 38,
    "start_time": "2022-05-26T12:09:45.628Z"
   },
   {
    "duration": 14,
    "start_time": "2022-05-26T12:09:45.670Z"
   },
   {
    "duration": 31,
    "start_time": "2022-05-26T12:09:45.686Z"
   },
   {
    "duration": 19,
    "start_time": "2022-05-26T12:09:45.719Z"
   },
   {
    "duration": 27,
    "start_time": "2022-05-26T12:09:45.739Z"
   },
   {
    "duration": 12,
    "start_time": "2022-05-26T12:09:45.767Z"
   },
   {
    "duration": 12,
    "start_time": "2022-05-26T12:09:45.781Z"
   },
   {
    "duration": 28,
    "start_time": "2022-05-26T12:09:45.795Z"
   },
   {
    "duration": 87,
    "start_time": "2022-05-26T12:09:45.824Z"
   },
   {
    "duration": 407,
    "start_time": "2022-05-26T12:09:45.913Z"
   },
   {
    "duration": 381,
    "start_time": "2022-05-26T12:09:46.322Z"
   },
   {
    "duration": 374,
    "start_time": "2022-05-26T12:09:46.705Z"
   },
   {
    "duration": 64,
    "start_time": "2022-05-26T12:09:47.081Z"
   },
   {
    "duration": 407,
    "start_time": "2022-05-26T12:09:47.146Z"
   },
   {
    "duration": 592,
    "start_time": "2022-05-26T12:09:47.560Z"
   },
   {
    "duration": 415,
    "start_time": "2022-05-26T12:09:48.153Z"
   },
   {
    "duration": 418,
    "start_time": "2022-05-26T12:09:48.569Z"
   },
   {
    "duration": 6,
    "start_time": "2022-05-26T12:09:48.989Z"
   },
   {
    "duration": 83,
    "start_time": "2022-05-26T12:09:48.996Z"
   },
   {
    "duration": 431,
    "start_time": "2022-05-26T12:09:49.081Z"
   },
   {
    "duration": 5,
    "start_time": "2022-05-26T12:09:49.514Z"
   },
   {
    "duration": 68,
    "start_time": "2022-05-26T20:33:37.370Z"
   },
   {
    "duration": 2758,
    "start_time": "2022-05-26T20:33:42.064Z"
   },
   {
    "duration": 32,
    "start_time": "2022-05-26T20:33:44.831Z"
   },
   {
    "duration": 33,
    "start_time": "2022-05-26T20:33:44.865Z"
   },
   {
    "duration": 41,
    "start_time": "2022-05-26T20:33:44.900Z"
   },
   {
    "duration": 30,
    "start_time": "2022-05-26T20:33:44.943Z"
   },
   {
    "duration": 201,
    "start_time": "2022-05-26T20:33:44.975Z"
   },
   {
    "duration": 14,
    "start_time": "2022-05-26T20:33:45.177Z"
   },
   {
    "duration": 11,
    "start_time": "2022-05-26T20:33:45.193Z"
   },
   {
    "duration": 46,
    "start_time": "2022-05-26T20:33:45.222Z"
   },
   {
    "duration": 373,
    "start_time": "2022-05-26T20:33:45.271Z"
   },
   {
    "duration": 5,
    "start_time": "2022-05-26T20:33:45.646Z"
   },
   {
    "duration": 46,
    "start_time": "2022-05-26T20:33:45.653Z"
   },
   {
    "duration": 83,
    "start_time": "2022-05-26T20:33:45.701Z"
   },
   {
    "duration": 14,
    "start_time": "2022-05-26T20:33:45.785Z"
   },
   {
    "duration": 55,
    "start_time": "2022-05-26T20:33:45.801Z"
   },
   {
    "duration": 13,
    "start_time": "2022-05-26T20:33:45.858Z"
   },
   {
    "duration": 18,
    "start_time": "2022-05-26T20:33:45.873Z"
   },
   {
    "duration": 77,
    "start_time": "2022-05-26T20:33:45.892Z"
   },
   {
    "duration": 37,
    "start_time": "2022-05-26T20:33:45.970Z"
   },
   {
    "duration": 38,
    "start_time": "2022-05-26T20:33:46.023Z"
   },
   {
    "duration": 104,
    "start_time": "2022-05-26T20:33:46.062Z"
   },
   {
    "duration": 10,
    "start_time": "2022-05-26T20:33:46.167Z"
   },
   {
    "duration": 15,
    "start_time": "2022-05-26T20:33:46.179Z"
   },
   {
    "duration": 46,
    "start_time": "2022-05-26T20:33:46.196Z"
   },
   {
    "duration": 125,
    "start_time": "2022-05-26T20:33:46.244Z"
   },
   {
    "duration": 14,
    "start_time": "2022-05-26T20:33:46.371Z"
   },
   {
    "duration": 49,
    "start_time": "2022-05-26T20:33:46.387Z"
   },
   {
    "duration": 15,
    "start_time": "2022-05-26T20:33:46.441Z"
   },
   {
    "duration": 13,
    "start_time": "2022-05-26T20:33:46.458Z"
   },
   {
    "duration": 11,
    "start_time": "2022-05-26T20:33:46.473Z"
   },
   {
    "duration": 7,
    "start_time": "2022-05-26T20:33:46.486Z"
   },
   {
    "duration": 33,
    "start_time": "2022-05-26T20:33:46.495Z"
   },
   {
    "duration": 23,
    "start_time": "2022-05-26T20:33:46.533Z"
   },
   {
    "duration": 40,
    "start_time": "2022-05-26T20:33:46.557Z"
   },
   {
    "duration": 85,
    "start_time": "2022-05-26T20:33:46.599Z"
   },
   {
    "duration": 472,
    "start_time": "2022-05-26T20:33:46.687Z"
   },
   {
    "duration": 446,
    "start_time": "2022-05-26T20:33:47.161Z"
   },
   {
    "duration": 461,
    "start_time": "2022-05-26T20:33:47.609Z"
   },
   {
    "duration": 88,
    "start_time": "2022-05-26T20:33:48.072Z"
   },
   {
    "duration": 447,
    "start_time": "2022-05-26T20:33:48.162Z"
   },
   {
    "duration": 595,
    "start_time": "2022-05-26T20:33:48.612Z"
   },
   {
    "duration": 483,
    "start_time": "2022-05-26T20:33:49.209Z"
   },
   {
    "duration": 495,
    "start_time": "2022-05-26T20:33:49.694Z"
   },
   {
    "duration": 7,
    "start_time": "2022-05-26T20:33:50.191Z"
   },
   {
    "duration": 96,
    "start_time": "2022-05-26T20:33:53.744Z"
   },
   {
    "duration": 102,
    "start_time": "2022-05-26T20:34:03.379Z"
   },
   {
    "duration": 81,
    "start_time": "2022-05-26T20:34:18.031Z"
   },
   {
    "duration": 82,
    "start_time": "2022-05-26T20:34:51.437Z"
   }
  ],
  "kernelspec": {
   "display_name": "Python 3 (ipykernel)",
   "language": "python",
   "name": "python3"
  },
  "language_info": {
   "codemirror_mode": {
    "name": "ipython",
    "version": 3
   },
   "file_extension": ".py",
   "mimetype": "text/x-python",
   "name": "python",
   "nbconvert_exporter": "python",
   "pygments_lexer": "ipython3",
   "version": "3.9.5"
  },
  "toc": {
   "base_numbering": 1,
   "nav_menu": {},
   "number_sections": true,
   "sideBar": true,
   "skip_h1_title": true,
   "title_cell": "Table of Contents",
   "title_sidebar": "Contents",
   "toc_cell": false,
   "toc_position": {
    "height": "calc(100% - 180px)",
    "left": "10px",
    "top": "150px",
    "width": "356.797px"
   },
   "toc_section_display": true,
   "toc_window_display": false
  }
 },
 "nbformat": 4,
 "nbformat_minor": 2
}
