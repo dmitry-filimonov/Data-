{
 "cells": [
  {
   "cell_type": "markdown",
   "metadata": {},
   "source": [
    "# Увеличение выручки интернет-магазина (приоритизация гипотез/анализ результатов A/B теста)"
   ]
  },
  {
   "cell_type": "markdown",
   "metadata": {},
   "source": [
    "**Цели проекта**:\n",
    "1. [**Приоритизация гипотез по увеличению выручки**](#1)\n",
    "\n",
    "Отделом маркетинга был сформирован список предложений по увеличению выручки магазина, которые необходимо проанализировать с целью выбора оптимального способа приоритезации.\n",
    "\n",
    "2. [**Анализ результатов проведённого A/B тестирования**](#2)\n",
    "\n",
    "Одна из гипотез была проверена при помощи A/B теста - необходимо проанализировать промежуточные результаты и определить, привело ли новвоведение к статистически значимому изменению основных метрик (конверсия и средний чек). На основании вывода необходимо принять решение о приостановки теста или его продолжении. "
   ]
  },
  {
   "cell_type": "markdown",
   "metadata": {},
   "source": [
    "<a id='1'></a>"
   ]
  },
  {
   "cell_type": "markdown",
   "metadata": {},
   "source": [
    "## Приоритезация гипотез\n",
    "\n",
    "Список гипотез представлен в файле `/datasets/hypothesis.csv`. Описание данных:\n",
    "\n",
    " * `Hypothesis` — краткое описание гипотезы\n",
    " * `Reach` — охват пользователей по 10-балльной шкале\n",
    " * `Impact` — влияние на пользователей по 10-балльной шкале\n",
    " * `Confidence` — уверенность в гипотезе по 10-балльной шкале\n",
    " * `Efforts` — затраты ресурсов на проверку гипотезы по 10-балльной шкале\n",
    " \n",
    "Посмотрим на таблицу:"
   ]
  },
  {
   "cell_type": "code",
   "execution_count": 1,
   "metadata": {},
   "outputs": [],
   "source": [
    "# импортируем библиотеки для работы с данными\n",
    "\n",
    "import os\n",
    "import pandas as pd\n",
    "import numpy as np\n",
    "import datetime as dt\n",
    "from scipy import stats as st\n",
    "import seaborn as sns\n",
    "import matplotlib.pyplot as plt\n",
    "\n",
    "pd.options.display.float_format = '{:,.2f}'.format\n",
    "pd.set_option('display.max_colwidth', None)\n",
    "sns.set_style('dark')\n",
    "plt.rcParams.update({'axes.labelsize': 10,'axes.titlesize': 15})\n",
    "os.chdir('C:\\\\Users\\\\dmitr\\\\GitHub\\\\Practicum-Data-Analysis\\\\datasets\\\\')"
   ]
  },
  {
   "cell_type": "code",
   "execution_count": 2,
   "metadata": {},
   "outputs": [
    {
     "data": {
      "text/html": [
       "<div>\n",
       "<style scoped>\n",
       "    .dataframe tbody tr th:only-of-type {\n",
       "        vertical-align: middle;\n",
       "    }\n",
       "\n",
       "    .dataframe tbody tr th {\n",
       "        vertical-align: top;\n",
       "    }\n",
       "\n",
       "    .dataframe thead th {\n",
       "        text-align: right;\n",
       "    }\n",
       "</style>\n",
       "<table border=\"1\" class=\"dataframe\">\n",
       "  <thead>\n",
       "    <tr style=\"text-align: right;\">\n",
       "      <th></th>\n",
       "      <th>Hypothesis</th>\n",
       "      <th>Reach</th>\n",
       "      <th>Impact</th>\n",
       "      <th>Confidence</th>\n",
       "      <th>Efforts</th>\n",
       "    </tr>\n",
       "  </thead>\n",
       "  <tbody>\n",
       "    <tr>\n",
       "      <th>0</th>\n",
       "      <td>Добавить два новых канала привлечения трафика, что позволит привлекать на 30% больше пользователей</td>\n",
       "      <td>3</td>\n",
       "      <td>10</td>\n",
       "      <td>8</td>\n",
       "      <td>6</td>\n",
       "    </tr>\n",
       "    <tr>\n",
       "      <th>1</th>\n",
       "      <td>Запустить собственную службу доставки, что сократит срок доставки заказов</td>\n",
       "      <td>2</td>\n",
       "      <td>5</td>\n",
       "      <td>4</td>\n",
       "      <td>10</td>\n",
       "    </tr>\n",
       "    <tr>\n",
       "      <th>2</th>\n",
       "      <td>Добавить блоки рекомендаций товаров на сайт интернет магазина, чтобы повысить конверсию и средний чек заказа</td>\n",
       "      <td>8</td>\n",
       "      <td>3</td>\n",
       "      <td>7</td>\n",
       "      <td>3</td>\n",
       "    </tr>\n",
       "    <tr>\n",
       "      <th>3</th>\n",
       "      <td>Изменить структура категорий, что увеличит конверсию, т.к. пользователи быстрее найдут нужный товар</td>\n",
       "      <td>8</td>\n",
       "      <td>3</td>\n",
       "      <td>3</td>\n",
       "      <td>8</td>\n",
       "    </tr>\n",
       "    <tr>\n",
       "      <th>4</th>\n",
       "      <td>Изменить цвет фона главной страницы, чтобы увеличить вовлеченность пользователей</td>\n",
       "      <td>3</td>\n",
       "      <td>1</td>\n",
       "      <td>1</td>\n",
       "      <td>1</td>\n",
       "    </tr>\n",
       "    <tr>\n",
       "      <th>5</th>\n",
       "      <td>Добавить страницу отзывов клиентов о магазине, что позволит увеличить количество заказов</td>\n",
       "      <td>3</td>\n",
       "      <td>2</td>\n",
       "      <td>2</td>\n",
       "      <td>3</td>\n",
       "    </tr>\n",
       "    <tr>\n",
       "      <th>6</th>\n",
       "      <td>Показать на главной странице баннеры с актуальными акциями и распродажами, чтобы увеличить конверсию</td>\n",
       "      <td>5</td>\n",
       "      <td>3</td>\n",
       "      <td>8</td>\n",
       "      <td>3</td>\n",
       "    </tr>\n",
       "    <tr>\n",
       "      <th>7</th>\n",
       "      <td>Добавить форму подписки на все основные страницы, чтобы собрать базу клиентов для email-рассылок</td>\n",
       "      <td>10</td>\n",
       "      <td>7</td>\n",
       "      <td>8</td>\n",
       "      <td>5</td>\n",
       "    </tr>\n",
       "    <tr>\n",
       "      <th>8</th>\n",
       "      <td>Запустить акцию, дающую скидку на товар в день рождения</td>\n",
       "      <td>1</td>\n",
       "      <td>9</td>\n",
       "      <td>9</td>\n",
       "      <td>5</td>\n",
       "    </tr>\n",
       "  </tbody>\n",
       "</table>\n",
       "</div>"
      ],
      "text/plain": [
       "                                                                                                     Hypothesis  \\\n",
       "0            Добавить два новых канала привлечения трафика, что позволит привлекать на 30% больше пользователей   \n",
       "1                                     Запустить собственную службу доставки, что сократит срок доставки заказов   \n",
       "2  Добавить блоки рекомендаций товаров на сайт интернет магазина, чтобы повысить конверсию и средний чек заказа   \n",
       "3           Изменить структура категорий, что увеличит конверсию, т.к. пользователи быстрее найдут нужный товар   \n",
       "4                              Изменить цвет фона главной страницы, чтобы увеличить вовлеченность пользователей   \n",
       "5                      Добавить страницу отзывов клиентов о магазине, что позволит увеличить количество заказов   \n",
       "6          Показать на главной странице баннеры с актуальными акциями и распродажами, чтобы увеличить конверсию   \n",
       "7              Добавить форму подписки на все основные страницы, чтобы собрать базу клиентов для email-рассылок   \n",
       "8                                                       Запустить акцию, дающую скидку на товар в день рождения   \n",
       "\n",
       "   Reach  Impact  Confidence  Efforts  \n",
       "0      3      10           8        6  \n",
       "1      2       5           4       10  \n",
       "2      8       3           7        3  \n",
       "3      8       3           3        8  \n",
       "4      3       1           1        1  \n",
       "5      3       2           2        3  \n",
       "6      5       3           8        3  \n",
       "7     10       7           8        5  \n",
       "8      1       9           9        5  "
      ]
     },
     "execution_count": 2,
     "metadata": {},
     "output_type": "execute_result"
    }
   ],
   "source": [
    "# загружаем данные\n",
    "\n",
    "data = pd.read_csv('hypothesis.csv')\n",
    "data"
   ]
  },
  {
   "cell_type": "markdown",
   "metadata": {},
   "source": [
    "Так как для каждой гипотезы указаны параметры `Reach`, `Impact`, `Confidence` и `Effort`, для приоритезации гипотез можно использовать фреймворки <a href=\"https://productfolio.com/ice-scoring/\">**ICE**</a> и <a href=\"https://productfolio.com/rice-scoring/\">**RICE**</a>. Применим оба способа и сравним результаты:"
   ]
  },
  {
   "cell_type": "code",
   "execution_count": 3,
   "metadata": {},
   "outputs": [
    {
     "data": {
      "text/html": [
       "<div>\n",
       "<style scoped>\n",
       "    .dataframe tbody tr th:only-of-type {\n",
       "        vertical-align: middle;\n",
       "    }\n",
       "\n",
       "    .dataframe tbody tr th {\n",
       "        vertical-align: top;\n",
       "    }\n",
       "\n",
       "    .dataframe thead th {\n",
       "        text-align: right;\n",
       "    }\n",
       "</style>\n",
       "<table border=\"1\" class=\"dataframe\">\n",
       "  <thead>\n",
       "    <tr style=\"text-align: right;\">\n",
       "      <th></th>\n",
       "      <th>hypothesis</th>\n",
       "      <th>ICE</th>\n",
       "    </tr>\n",
       "  </thead>\n",
       "  <tbody>\n",
       "    <tr>\n",
       "      <th>8</th>\n",
       "      <td>Запустить акцию, дающую скидку на товар в день рождения</td>\n",
       "      <td>16.20</td>\n",
       "    </tr>\n",
       "    <tr>\n",
       "      <th>0</th>\n",
       "      <td>Добавить два новых канала привлечения трафика, что позволит привлекать на 30% больше пользователей</td>\n",
       "      <td>13.33</td>\n",
       "    </tr>\n",
       "    <tr>\n",
       "      <th>7</th>\n",
       "      <td>Добавить форму подписки на все основные страницы, чтобы собрать базу клиентов для email-рассылок</td>\n",
       "      <td>11.20</td>\n",
       "    </tr>\n",
       "    <tr>\n",
       "      <th>6</th>\n",
       "      <td>Показать на главной странице баннеры с актуальными акциями и распродажами, чтобы увеличить конверсию</td>\n",
       "      <td>8.00</td>\n",
       "    </tr>\n",
       "    <tr>\n",
       "      <th>2</th>\n",
       "      <td>Добавить блоки рекомендаций товаров на сайт интернет магазина, чтобы повысить конверсию и средний чек заказа</td>\n",
       "      <td>7.00</td>\n",
       "    </tr>\n",
       "    <tr>\n",
       "      <th>1</th>\n",
       "      <td>Запустить собственную службу доставки, что сократит срок доставки заказов</td>\n",
       "      <td>2.00</td>\n",
       "    </tr>\n",
       "    <tr>\n",
       "      <th>5</th>\n",
       "      <td>Добавить страницу отзывов клиентов о магазине, что позволит увеличить количество заказов</td>\n",
       "      <td>1.33</td>\n",
       "    </tr>\n",
       "    <tr>\n",
       "      <th>3</th>\n",
       "      <td>Изменить структура категорий, что увеличит конверсию, т.к. пользователи быстрее найдут нужный товар</td>\n",
       "      <td>1.12</td>\n",
       "    </tr>\n",
       "    <tr>\n",
       "      <th>4</th>\n",
       "      <td>Изменить цвет фона главной страницы, чтобы увеличить вовлеченность пользователей</td>\n",
       "      <td>1.00</td>\n",
       "    </tr>\n",
       "  </tbody>\n",
       "</table>\n",
       "</div>"
      ],
      "text/plain": [
       "                                                                                                     hypothesis  \\\n",
       "8                                                       Запустить акцию, дающую скидку на товар в день рождения   \n",
       "0            Добавить два новых канала привлечения трафика, что позволит привлекать на 30% больше пользователей   \n",
       "7              Добавить форму подписки на все основные страницы, чтобы собрать базу клиентов для email-рассылок   \n",
       "6          Показать на главной странице баннеры с актуальными акциями и распродажами, чтобы увеличить конверсию   \n",
       "2  Добавить блоки рекомендаций товаров на сайт интернет магазина, чтобы повысить конверсию и средний чек заказа   \n",
       "1                                     Запустить собственную службу доставки, что сократит срок доставки заказов   \n",
       "5                      Добавить страницу отзывов клиентов о магазине, что позволит увеличить количество заказов   \n",
       "3           Изменить структура категорий, что увеличит конверсию, т.к. пользователи быстрее найдут нужный товар   \n",
       "4                              Изменить цвет фона главной страницы, чтобы увеличить вовлеченность пользователей   \n",
       "\n",
       "    ICE  \n",
       "8 16.20  \n",
       "0 13.33  \n",
       "7 11.20  \n",
       "6  8.00  \n",
       "2  7.00  \n",
       "1  2.00  \n",
       "5  1.33  \n",
       "3  1.12  \n",
       "4  1.00  "
      ]
     },
     "execution_count": 3,
     "metadata": {},
     "output_type": "execute_result"
    }
   ],
   "source": [
    "# приведём названия колонок к нижнему регистру\n",
    "\n",
    "data.columns = data.columns.str.lower()\n",
    "\n",
    "# расчитаем показатель ICE и отсортируем таблицу по приоритету\n",
    "\n",
    "data['ICE'] = data['impact'] * data['confidence'] / data['efforts']\n",
    "\n",
    "data[['hypothesis', 'ICE']].sort_values('ICE', ascending=False)"
   ]
  },
  {
   "cell_type": "markdown",
   "metadata": {},
   "source": [
    "Самый высокий результат у гипотезы с индексом `8` (акция в день рождения) самый же низкий - у индекса `4` (фон главной страницы). Этот способ не учитывает потенциальный охват пользователей, потому будет интересно сравнить его с результатом по методу **RICE**:"
   ]
  },
  {
   "cell_type": "code",
   "execution_count": 4,
   "metadata": {},
   "outputs": [
    {
     "data": {
      "text/html": [
       "<div>\n",
       "<style scoped>\n",
       "    .dataframe tbody tr th:only-of-type {\n",
       "        vertical-align: middle;\n",
       "    }\n",
       "\n",
       "    .dataframe tbody tr th {\n",
       "        vertical-align: top;\n",
       "    }\n",
       "\n",
       "    .dataframe thead th {\n",
       "        text-align: right;\n",
       "    }\n",
       "</style>\n",
       "<table border=\"1\" class=\"dataframe\">\n",
       "  <thead>\n",
       "    <tr style=\"text-align: right;\">\n",
       "      <th></th>\n",
       "      <th>hypothesis</th>\n",
       "      <th>RICE</th>\n",
       "    </tr>\n",
       "  </thead>\n",
       "  <tbody>\n",
       "    <tr>\n",
       "      <th>7</th>\n",
       "      <td>Добавить форму подписки на все основные страницы, чтобы собрать базу клиентов для email-рассылок</td>\n",
       "      <td>112.00</td>\n",
       "    </tr>\n",
       "    <tr>\n",
       "      <th>2</th>\n",
       "      <td>Добавить блоки рекомендаций товаров на сайт интернет магазина, чтобы повысить конверсию и средний чек заказа</td>\n",
       "      <td>56.00</td>\n",
       "    </tr>\n",
       "    <tr>\n",
       "      <th>0</th>\n",
       "      <td>Добавить два новых канала привлечения трафика, что позволит привлекать на 30% больше пользователей</td>\n",
       "      <td>40.00</td>\n",
       "    </tr>\n",
       "    <tr>\n",
       "      <th>6</th>\n",
       "      <td>Показать на главной странице баннеры с актуальными акциями и распродажами, чтобы увеличить конверсию</td>\n",
       "      <td>40.00</td>\n",
       "    </tr>\n",
       "    <tr>\n",
       "      <th>8</th>\n",
       "      <td>Запустить акцию, дающую скидку на товар в день рождения</td>\n",
       "      <td>16.20</td>\n",
       "    </tr>\n",
       "    <tr>\n",
       "      <th>3</th>\n",
       "      <td>Изменить структура категорий, что увеличит конверсию, т.к. пользователи быстрее найдут нужный товар</td>\n",
       "      <td>9.00</td>\n",
       "    </tr>\n",
       "    <tr>\n",
       "      <th>1</th>\n",
       "      <td>Запустить собственную службу доставки, что сократит срок доставки заказов</td>\n",
       "      <td>4.00</td>\n",
       "    </tr>\n",
       "    <tr>\n",
       "      <th>5</th>\n",
       "      <td>Добавить страницу отзывов клиентов о магазине, что позволит увеличить количество заказов</td>\n",
       "      <td>4.00</td>\n",
       "    </tr>\n",
       "    <tr>\n",
       "      <th>4</th>\n",
       "      <td>Изменить цвет фона главной страницы, чтобы увеличить вовлеченность пользователей</td>\n",
       "      <td>3.00</td>\n",
       "    </tr>\n",
       "  </tbody>\n",
       "</table>\n",
       "</div>"
      ],
      "text/plain": [
       "                                                                                                     hypothesis  \\\n",
       "7              Добавить форму подписки на все основные страницы, чтобы собрать базу клиентов для email-рассылок   \n",
       "2  Добавить блоки рекомендаций товаров на сайт интернет магазина, чтобы повысить конверсию и средний чек заказа   \n",
       "0            Добавить два новых канала привлечения трафика, что позволит привлекать на 30% больше пользователей   \n",
       "6          Показать на главной странице баннеры с актуальными акциями и распродажами, чтобы увеличить конверсию   \n",
       "8                                                       Запустить акцию, дающую скидку на товар в день рождения   \n",
       "3           Изменить структура категорий, что увеличит конверсию, т.к. пользователи быстрее найдут нужный товар   \n",
       "1                                     Запустить собственную службу доставки, что сократит срок доставки заказов   \n",
       "5                      Добавить страницу отзывов клиентов о магазине, что позволит увеличить количество заказов   \n",
       "4                              Изменить цвет фона главной страницы, чтобы увеличить вовлеченность пользователей   \n",
       "\n",
       "    RICE  \n",
       "7 112.00  \n",
       "2  56.00  \n",
       "0  40.00  \n",
       "6  40.00  \n",
       "8  16.20  \n",
       "3   9.00  \n",
       "1   4.00  \n",
       "5   4.00  \n",
       "4   3.00  "
      ]
     },
     "execution_count": 4,
     "metadata": {},
     "output_type": "execute_result"
    }
   ],
   "source": [
    "# теперь расчитаем показатель RICE и отсортируем таблицу по приоритету\n",
    "\n",
    "data['RICE'] = data['reach'] * data['impact'] * data['confidence'] / data['efforts']\n",
    "\n",
    "data[['hypothesis', 'RICE']].sort_values('RICE', ascending=False)"
   ]
  },
  {
   "cell_type": "markdown",
   "metadata": {},
   "source": [
    "Результаты приоритезации двух методов отличаются - гипотеза с индексом `7`(форма подписки), занимающая третье место по методу **ICE**, вырывается в лидеры по методу **RICE**, причём со значительным отрывом. Гипотезы `0` и `6` также присутствуют в топе-4 результатов по обоим методам, а гипотеза `4` в любом случае занимает последнее место. Разница в результатах явно обусловлена учётом оценки потенциального охвата пользователей при использовании метода **RICE**. "
   ]
  },
  {
   "cell_type": "markdown",
   "metadata": {},
   "source": [
    "<a id='2'></a>"
   ]
  },
  {
   "cell_type": "markdown",
   "metadata": {},
   "source": [
    "## Анализ результатов A/B теста"
   ]
  },
  {
   "cell_type": "markdown",
   "metadata": {},
   "source": [
    "Результаты проведённого A/B-теста зафиксированы в файлах `/datasets/orders.csv` и `/datasets/visitors.csv`. Описание данных:\n",
    "\n",
    "Файл `/datasets/orders.csv`:\n",
    "\n",
    " * `transactionId` — идентификатор заказа;\n",
    " * `visitorId` — идентификатор пользователя, совершившего заказ;\n",
    " * `date` — дата, когда был совершён заказ;\n",
    " * `revenue` — выручка заказа;\n",
    " * `group` — группа A/B-теста, в которую попал заказ.\n",
    " \n",
    "Файл `/datasets/visitors.csv`:\n",
    " * `date` — дата;\n",
    " * `group` — группа A/B-теста;\n",
    " * `visitors` — количество пользователей в указанную дату в указанной группе A/B-теста"
   ]
  },
  {
   "cell_type": "markdown",
   "metadata": {},
   "source": [
    "### Обзор данных"
   ]
  },
  {
   "cell_type": "code",
   "execution_count": 5,
   "metadata": {},
   "outputs": [
    {
     "name": "stdout",
     "output_type": "stream",
     "text": [
      "<class 'pandas.core.frame.DataFrame'>\n",
      "RangeIndex: 1197 entries, 0 to 1196\n",
      "Data columns (total 5 columns):\n",
      " #   Column          Non-Null Count  Dtype         \n",
      "---  ------          --------------  -----         \n",
      " 0   transaction_id  1197 non-null   int64         \n",
      " 1   visitor_id      1197 non-null   int64         \n",
      " 2   date            1197 non-null   datetime64[ns]\n",
      " 3   revenue         1197 non-null   int64         \n",
      " 4   group           1197 non-null   object        \n",
      "dtypes: datetime64[ns](1), int64(3), object(1)\n",
      "memory usage: 46.9+ KB\n"
     ]
    },
    {
     "data": {
      "text/html": [
       "<div>\n",
       "<style scoped>\n",
       "    .dataframe tbody tr th:only-of-type {\n",
       "        vertical-align: middle;\n",
       "    }\n",
       "\n",
       "    .dataframe tbody tr th {\n",
       "        vertical-align: top;\n",
       "    }\n",
       "\n",
       "    .dataframe thead th {\n",
       "        text-align: right;\n",
       "    }\n",
       "</style>\n",
       "<table border=\"1\" class=\"dataframe\">\n",
       "  <thead>\n",
       "    <tr style=\"text-align: right;\">\n",
       "      <th></th>\n",
       "      <th>transaction_id</th>\n",
       "      <th>visitor_id</th>\n",
       "      <th>date</th>\n",
       "      <th>revenue</th>\n",
       "      <th>group</th>\n",
       "    </tr>\n",
       "  </thead>\n",
       "  <tbody>\n",
       "    <tr>\n",
       "      <th>409</th>\n",
       "      <td>822092266</td>\n",
       "      <td>4186744110</td>\n",
       "      <td>2019-08-03</td>\n",
       "      <td>570</td>\n",
       "      <td>B</td>\n",
       "    </tr>\n",
       "    <tr>\n",
       "      <th>0</th>\n",
       "      <td>3667963787</td>\n",
       "      <td>3312258926</td>\n",
       "      <td>2019-08-15</td>\n",
       "      <td>1650</td>\n",
       "      <td>B</td>\n",
       "    </tr>\n",
       "    <tr>\n",
       "      <th>975</th>\n",
       "      <td>3492564891</td>\n",
       "      <td>228221722</td>\n",
       "      <td>2019-08-22</td>\n",
       "      <td>12336</td>\n",
       "      <td>B</td>\n",
       "    </tr>\n",
       "    <tr>\n",
       "      <th>774</th>\n",
       "      <td>2049400530</td>\n",
       "      <td>2429822128</td>\n",
       "      <td>2019-08-05</td>\n",
       "      <td>2550</td>\n",
       "      <td>A</td>\n",
       "    </tr>\n",
       "    <tr>\n",
       "      <th>698</th>\n",
       "      <td>429858801</td>\n",
       "      <td>3984495233</td>\n",
       "      <td>2019-08-05</td>\n",
       "      <td>14495</td>\n",
       "      <td>A</td>\n",
       "    </tr>\n",
       "  </tbody>\n",
       "</table>\n",
       "</div>"
      ],
      "text/plain": [
       "     transaction_id  visitor_id       date  revenue group\n",
       "409       822092266  4186744110 2019-08-03      570     B\n",
       "0        3667963787  3312258926 2019-08-15     1650     B\n",
       "975      3492564891   228221722 2019-08-22    12336     B\n",
       "774      2049400530  2429822128 2019-08-05     2550     A\n",
       "698       429858801  3984495233 2019-08-05    14495     A"
      ]
     },
     "execution_count": 5,
     "metadata": {},
     "output_type": "execute_result"
    }
   ],
   "source": [
    "# загружаем данные о заказах, переименуем колонки\n",
    "\n",
    "orders = (\n",
    "    pd.read_csv('orders.csv', parse_dates=['date'])\n",
    "    .rename(columns={'transactionId':'transaction_id',\n",
    "                     'visitorId':'visitor_id'})\n",
    ")\n",
    "\n",
    "# выводим общую информацию о таблице и 5 случайных строк\n",
    "\n",
    "orders.info()\n",
    "orders.sample(5)"
   ]
  },
  {
   "cell_type": "markdown",
   "metadata": {},
   "source": [
    "Данные представлены пятью столбцами, 1 197 строк, явные пропуски отсутствуют. Посмотрим подробнее на данные о выручке: "
   ]
  },
  {
   "cell_type": "code",
   "execution_count": 6,
   "metadata": {},
   "outputs": [
    {
     "data": {
      "text/plain": [
       "count       1,197.00\n",
       "mean        8,348.01\n",
       "std        39,191.13\n",
       "min            50.00\n",
       "25%         1,220.00\n",
       "50%         2,978.00\n",
       "75%         8,290.00\n",
       "max     1,294,500.00\n",
       "Name: revenue, dtype: float64"
      ]
     },
     "execution_count": 6,
     "metadata": {},
     "output_type": "execute_result"
    }
   ],
   "source": [
    "# посмотрим описательную статистику столбца с выручкой\n",
    "\n",
    "orders['revenue'].describe()"
   ]
  },
  {
   "cell_type": "markdown",
   "metadata": {},
   "source": [
    "Данные явно содержат выбросы - среднее практически в три раза превышает медианое значение, высокий уровень стандартного отклонения, огромная разница между третьим и четвёртым квартилем - при дальнейшем анализе необходимо будет это учесть. Теперь проверим данные на дубликаты:"
   ]
  },
  {
   "cell_type": "code",
   "execution_count": 7,
   "metadata": {},
   "outputs": [
    {
     "name": "stdout",
     "output_type": "stream",
     "text": [
      " Задублированных строк - 0\n",
      " Уникальных пользователей, попавших в обе группы - 58\n"
     ]
    }
   ],
   "source": [
    "# проверим на явные дубликаты\n",
    "\n",
    "print(f' Задублированных строк - {orders.duplicated().sum()}')\n",
    "\n",
    "# проверим, что нет пользователей, попавших в обе группы\n",
    "\n",
    "inter = np.intersect1d(\n",
    "    orders.query('group == \"A\"')['visitor_id'].unique(),\n",
    "    orders.query('group == \"B\"')['visitor_id'].unique()\n",
    ")\n",
    "print(f' Уникальных пользователей, попавших в обе группы - {inter.size}')"
   ]
  },
  {
   "cell_type": "markdown",
   "metadata": {},
   "source": [
    "На каком-то из этапов проведения теста скорее всего произошла ошибка, которая привела к тому, что некоторые пользователи попали в обе группы. В виду незначительной доли, эти данные можно удалить без ущерба для исследования:"
   ]
  },
  {
   "cell_type": "code",
   "execution_count": 8,
   "metadata": {},
   "outputs": [],
   "source": [
    "# убираем ошибочные данные\n",
    "\n",
    "orders = orders[~orders['visitor_id'].isin(inter)]"
   ]
  },
  {
   "cell_type": "markdown",
   "metadata": {},
   "source": [
    "Перейдём к данным и визитах:"
   ]
  },
  {
   "cell_type": "code",
   "execution_count": 9,
   "metadata": {},
   "outputs": [
    {
     "name": "stdout",
     "output_type": "stream",
     "text": [
      "<class 'pandas.core.frame.DataFrame'>\n",
      "RangeIndex: 62 entries, 0 to 61\n",
      "Data columns (total 3 columns):\n",
      " #   Column    Non-Null Count  Dtype         \n",
      "---  ------    --------------  -----         \n",
      " 0   date      62 non-null     datetime64[ns]\n",
      " 1   group     62 non-null     object        \n",
      " 2   visitors  62 non-null     int64         \n",
      "dtypes: datetime64[ns](1), int64(1), object(1)\n",
      "memory usage: 1.6+ KB\n"
     ]
    },
    {
     "data": {
      "text/html": [
       "<div>\n",
       "<style scoped>\n",
       "    .dataframe tbody tr th:only-of-type {\n",
       "        vertical-align: middle;\n",
       "    }\n",
       "\n",
       "    .dataframe tbody tr th {\n",
       "        vertical-align: top;\n",
       "    }\n",
       "\n",
       "    .dataframe thead th {\n",
       "        text-align: right;\n",
       "    }\n",
       "</style>\n",
       "<table border=\"1\" class=\"dataframe\">\n",
       "  <thead>\n",
       "    <tr style=\"text-align: right;\">\n",
       "      <th></th>\n",
       "      <th>date</th>\n",
       "      <th>group</th>\n",
       "      <th>visitors</th>\n",
       "    </tr>\n",
       "  </thead>\n",
       "  <tbody>\n",
       "    <tr>\n",
       "      <th>46</th>\n",
       "      <td>2019-08-16</td>\n",
       "      <td>B</td>\n",
       "      <td>413</td>\n",
       "    </tr>\n",
       "    <tr>\n",
       "      <th>54</th>\n",
       "      <td>2019-08-24</td>\n",
       "      <td>B</td>\n",
       "      <td>378</td>\n",
       "    </tr>\n",
       "    <tr>\n",
       "      <th>3</th>\n",
       "      <td>2019-08-04</td>\n",
       "      <td>A</td>\n",
       "      <td>717</td>\n",
       "    </tr>\n",
       "    <tr>\n",
       "      <th>31</th>\n",
       "      <td>2019-08-01</td>\n",
       "      <td>B</td>\n",
       "      <td>713</td>\n",
       "    </tr>\n",
       "    <tr>\n",
       "      <th>2</th>\n",
       "      <td>2019-08-03</td>\n",
       "      <td>A</td>\n",
       "      <td>507</td>\n",
       "    </tr>\n",
       "  </tbody>\n",
       "</table>\n",
       "</div>"
      ],
      "text/plain": [
       "         date group  visitors\n",
       "46 2019-08-16     B       413\n",
       "54 2019-08-24     B       378\n",
       "3  2019-08-04     A       717\n",
       "31 2019-08-01     B       713\n",
       "2  2019-08-03     A       507"
      ]
     },
     "execution_count": 9,
     "metadata": {},
     "output_type": "execute_result"
    }
   ],
   "source": [
    "# загружаем данные о визитах\n",
    "\n",
    "visitors = pd.read_csv('visitors.csv', \n",
    "                       parse_dates=['date'])\n",
    "\n",
    "# выводим общую информацию о таблице и 5 случайных строк\n",
    "\n",
    "visitors.info()\n",
    "visitors.sample(5)"
   ]
  },
  {
   "cell_type": "markdown",
   "metadata": {},
   "source": [
    "Данные выглядят хорошо, можно приступать к анализу."
   ]
  },
  {
   "cell_type": "markdown",
   "metadata": {},
   "source": [
    "### Кумулятивные метрики\n",
    "\n",
    "Первым этапом анализа результатов теста станет расчёт кумулятивных показателей выручки, среднего чека и конверсии, а также их визуализация:"
   ]
  },
  {
   "cell_type": "code",
   "execution_count": 10,
   "metadata": {},
   "outputs": [
    {
     "data": {
      "text/html": [
       "<div>\n",
       "<style scoped>\n",
       "    .dataframe tbody tr th:only-of-type {\n",
       "        vertical-align: middle;\n",
       "    }\n",
       "\n",
       "    .dataframe tbody tr th {\n",
       "        vertical-align: top;\n",
       "    }\n",
       "\n",
       "    .dataframe thead th {\n",
       "        text-align: right;\n",
       "    }\n",
       "</style>\n",
       "<table border=\"1\" class=\"dataframe\">\n",
       "  <thead>\n",
       "    <tr style=\"text-align: right;\">\n",
       "      <th></th>\n",
       "      <th>date</th>\n",
       "      <th>group</th>\n",
       "      <th>orders</th>\n",
       "      <th>buyers</th>\n",
       "      <th>revenue</th>\n",
       "      <th>visitors</th>\n",
       "    </tr>\n",
       "  </thead>\n",
       "  <tbody>\n",
       "    <tr>\n",
       "      <th>25</th>\n",
       "      <td>2019-08-13</td>\n",
       "      <td>B</td>\n",
       "      <td>249</td>\n",
       "      <td>244</td>\n",
       "      <td>1542928</td>\n",
       "      <td>8310</td>\n",
       "    </tr>\n",
       "    <tr>\n",
       "      <th>31</th>\n",
       "      <td>2019-08-16</td>\n",
       "      <td>B</td>\n",
       "      <td>307</td>\n",
       "      <td>302</td>\n",
       "      <td>2074677</td>\n",
       "      <td>10013</td>\n",
       "    </tr>\n",
       "    <tr>\n",
       "      <th>29</th>\n",
       "      <td>2019-08-15</td>\n",
       "      <td>B</td>\n",
       "      <td>289</td>\n",
       "      <td>284</td>\n",
       "      <td>1960427</td>\n",
       "      <td>9600</td>\n",
       "    </tr>\n",
       "    <tr>\n",
       "      <th>54</th>\n",
       "      <td>2019-08-28</td>\n",
       "      <td>A</td>\n",
       "      <td>434</td>\n",
       "      <td>413</td>\n",
       "      <td>3036933</td>\n",
       "      <td>16970</td>\n",
       "    </tr>\n",
       "    <tr>\n",
       "      <th>28</th>\n",
       "      <td>2019-08-15</td>\n",
       "      <td>A</td>\n",
       "      <td>241</td>\n",
       "      <td>228</td>\n",
       "      <td>1682569</td>\n",
       "      <td>9686</td>\n",
       "    </tr>\n",
       "  </tbody>\n",
       "</table>\n",
       "</div>"
      ],
      "text/plain": [
       "         date group  orders  buyers  revenue  visitors\n",
       "25 2019-08-13     B     249     244  1542928      8310\n",
       "31 2019-08-16     B     307     302  2074677     10013\n",
       "29 2019-08-15     B     289     284  1960427      9600\n",
       "54 2019-08-28     A     434     413  3036933     16970\n",
       "28 2019-08-15     A     241     228  1682569      9686"
      ]
     },
     "execution_count": 10,
     "metadata": {},
     "output_type": "execute_result"
    }
   ],
   "source": [
    "# создаем массив уникальных пар значений дат и групп теста\n",
    "\n",
    "dates_groups = orders[['date','group']].drop_duplicates()\n",
    "\n",
    "# получаем агрегированные кумулятивные по дням данные о заказах \n",
    "\n",
    "orders_agg = (\n",
    "    dates_groups\n",
    "    .apply(lambda x: orders[np.logical_and(orders['date'] <= x['date'], \n",
    "                                           orders['group'] == x['group'])]\n",
    "           .agg({'date' : 'max', \n",
    "                 'group' : 'max', \n",
    "                 'transaction_id' : 'nunique', \n",
    "                 'visitor_id' : 'nunique', \n",
    "                 'revenue' : 'sum'}), axis=1)\n",
    "    .sort_values(by=['date','group'])\n",
    ")\n",
    "\n",
    "# получаем агрегированные кумулятивные по дням данные о посетителях интернет-магазин\n",
    "\n",
    "visitors_agg = (\n",
    "    dates_groups\n",
    "    .apply(lambda x: visitors[np.logical_and(visitors['date'] <= x['date'], \n",
    "                                             visitors['group'] == x['group'])]\n",
    "           .agg({'date' : 'max', \n",
    "                 'group' : 'max', \n",
    "                 'visitors' : 'sum'}), axis=1)\n",
    "    .sort_values(by=['date','group'])\n",
    ")\n",
    "\n",
    "# объединяем кумулятивные данные в одной таблице\n",
    "\n",
    "cum_data = orders_agg.merge(visitors_agg, \n",
    "                            left_on=['date', 'group'], \n",
    "                            right_on=['date', 'group'])\n",
    "\n",
    "cum_data.columns = ['date', 'group', \n",
    "                    'orders', 'buyers', \n",
    "                    'revenue', 'visitors']\n",
    "\n",
    "# выводим 5 случайных строк финальной таблицы\n",
    "\n",
    "cum_data.sample(5)"
   ]
  },
  {
   "cell_type": "markdown",
   "metadata": {},
   "source": [
    "Теперь все необходимые кумулятивные данные расчитаны и находятся в одной таблице. Визуализируем показатели выручки:"
   ]
  },
  {
   "cell_type": "code",
   "execution_count": 11,
   "metadata": {},
   "outputs": [
    {
     "data": {
      "image/png": "[encoded data removed]",
      "text/plain": [
       "<Figure size 1080x432 with 1 Axes>"
      ]
     },
     "metadata": {
      "needs_background": "light"
     },
     "output_type": "display_data"
    }
   ],
   "source": [
    "# создадим переменные для выручки каждой группы\n",
    "\n",
    "revenue_a = cum_data[cum_data['group']=='A'][['date','revenue', 'orders']]\n",
    "revenue_b = cum_data[cum_data['group']=='B'][['date','revenue', 'orders']]\n",
    "\n",
    "# cтроим график\n",
    "\n",
    "plt.figure(figsize=(15, 6))\n",
    "\n",
    "plt.plot(revenue_a['date'], revenue_a['revenue'], label='A')\n",
    "plt.plot(revenue_b['date'], revenue_b['revenue'], label='B')\n",
    "\n",
    "plt.legend()\n",
    "plt.title('cumulative revenue plot')\n",
    "plt.ylabel('revenue')\n",
    "plt.xlabel('date')\n",
    "plt.xticks(rotation=30) \n",
    "plt.grid()\n",
    "\n",
    "plt.show()"
   ]
  },
  {
   "cell_type": "markdown",
   "metadata": {},
   "source": [
    "* Группа А показывает стабильный рост выручки на протяжении проведения теста. Группа B опережает её, причём наблюдается резкий скачок примерно на середине теста - возможно это связано с попаданием в группу данных с выбросами.\n",
    "\n",
    "Построим теперь график различия кумулятивного среднего чека:"
   ]
  },
  {
   "cell_type": "code",
   "execution_count": 12,
   "metadata": {},
   "outputs": [
    {
     "data": {
      "image/png": "[encoded data removed]",
      "text/plain": [
       "<Figure size 1080x432 with 1 Axes>"
      ]
     },
     "metadata": {
      "needs_background": "light"
     },
     "output_type": "display_data"
    }
   ],
   "source": [
    "# cтроим график различия среднего чека\n",
    "\n",
    "plt.figure(figsize=(15, 6))\n",
    "\n",
    "plt.plot(revenue_a['date'], \n",
    "         revenue_a['revenue']/revenue_a['orders'], \n",
    "         label='A')\n",
    "\n",
    "plt.plot(revenue_b['date'], \n",
    "         revenue_b['revenue']/revenue_b['orders'], \n",
    "         label='B')\n",
    "\n",
    "plt.legend()\n",
    "plt.title('cumulative mean order')\n",
    "plt.ylabel('revenue')\n",
    "plt.xlabel('date')\n",
    "plt.xticks(rotation=30) \n",
    "plt.grid()\n",
    "\n",
    "plt.show()"
   ]
  },
  {
   "cell_type": "markdown",
   "metadata": {},
   "source": [
    "* На середине теста средний чек группы А стабилизируется на уровне 7,000, у группы B примерно в это же время происходит скачок - ещё один повод подозревать наличие выбросов в данных этой группы. \n",
    "\n",
    "Посмотрим на относительное изменение среднего чека:"
   ]
  },
  {
   "cell_type": "code",
   "execution_count": 13,
   "metadata": {},
   "outputs": [
    {
     "data": {
      "image/png": "[encoded data removed]",
      "text/plain": [
       "<Figure size 1080x432 with 1 Axes>"
      ]
     },
     "metadata": {
      "needs_background": "light"
     },
     "output_type": "display_data"
    }
   ],
   "source": [
    "# собираем данные в одной таблице\n",
    "\n",
    "revenue_ab = revenue_a.merge(revenue_b, left_on='date', \n",
    "                             right_on='date', how='left', \n",
    "                             suffixes=['_a', '_b'])\n",
    "\n",
    "# cтроим отношение среднего чека группы B к группе A\n",
    "\n",
    "plt.figure(figsize=(15, 6))\n",
    "\n",
    "plt.plot(revenue_ab['date'], \n",
    "         (revenue_ab['revenue_b']/revenue_ab['orders_b'])\n",
    "         /(revenue_ab['revenue_a']/revenue_ab['orders_a'])-1)\n",
    "\n",
    "\n",
    "plt.title('mean order difference (B/A)')\n",
    "plt.ylabel('difference')\n",
    "plt.xlabel('date')\n",
    "plt.xticks(rotation=30) \n",
    "plt.axhline(y=0, color='black', linestyle='--')\n",
    "plt.grid()\n",
    "\n",
    "plt.show()"
   ]
  },
  {
   "cell_type": "markdown",
   "metadata": {},
   "source": [
    "- Относительное изменение среднего чека имеет значительный и резкий характер - это ещё раз указывает на наличие аномальных данных в выборке группы B.\n",
    "\n",
    "Последняя кумулятивная метрика - конверсия:"
   ]
  },
  {
   "cell_type": "code",
   "execution_count": 14,
   "metadata": {},
   "outputs": [
    {
     "data": {
      "image/png": "[encoded data removed]",
      "text/plain": [
       "<Figure size 1080x432 with 1 Axes>"
      ]
     },
     "metadata": {
      "needs_background": "light"
     },
     "output_type": "display_data"
    }
   ],
   "source": [
    "# посчитаем конверсию\n",
    "\n",
    "cum_data['conversion'] = cum_data['orders']/cum_data['visitors']\n",
    "cum_data_a = cum_data[cum_data['group']=='A']\n",
    "cum_data_b = cum_data[cum_data['group']=='B']\n",
    "\n",
    "# строим графики\n",
    "\n",
    "plt.figure(figsize=(15, 6))\n",
    "\n",
    "plt.plot(cum_data_a['date'], cum_data_a['conversion'], label='A')\n",
    "plt.plot(cum_data_b['date'], cum_data_b['conversion'], label='B')\n",
    "\n",
    "plt.legend()\n",
    "plt.title('cumulative conversion plot')\n",
    "plt.ylabel('conversion')\n",
    "plt.xlabel('date')\n",
    "plt.xticks(rotation=30) \n",
    "plt.grid()\n",
    "\n",
    "plt.show()"
   ]
  },
  {
   "cell_type": "markdown",
   "metadata": {},
   "source": [
    "* Конверсия группы A совершает резкое падение в самом начале, после чего колеблется на уровне 0.25 на протяжении всего теста. Примерно тогда же группа B совершает скачок, после чего обе группы имееют схожую динамику колебания до конца теста, за тем исключением что группа B находится на более высоком уровне (~0.29).\n",
    "\n",
    "Визуализируем относительное изменение этой метрики:"
   ]
  },
  {
   "cell_type": "code",
   "execution_count": 15,
   "metadata": {},
   "outputs": [
    {
     "data": {
      "image/png": "[encoded data removed]",
      "text/plain": [
       "<Figure size 1080x432 with 1 Axes>"
      ]
     },
     "metadata": {
      "needs_background": "light"
     },
     "output_type": "display_data"
    }
   ],
   "source": [
    "cum_conversion = (\n",
    "    cum_data_a[['date','conversion']]\n",
    "    .merge(cum_data_b[['date','conversion']], \n",
    "           left_on='date', right_on='date', \n",
    "           how='left', suffixes=['_a', '_b'])\n",
    ")\n",
    "\n",
    "plt.figure(figsize=(15, 6))\n",
    "\n",
    "plt.plot(cum_conversion['date'], \n",
    "         cum_conversion['conversion_b']/cum_conversion['conversion_a']-1\n",
    "        )\n",
    "\n",
    "plt.axhline(y=0, color='black', linestyle='--')\n",
    "plt.axhline(y=0.2, color='grey', linestyle='--')\n",
    "\n",
    "plt.title('conversion difference(B/A)')\n",
    "plt.ylabel('difference')\n",
    "plt.xlabel('date')\n",
    "plt.xticks(rotation=30) \n",
    "plt.grid()\n",
    "\n",
    "plt.show()\n"
   ]
  },
  {
   "cell_type": "markdown",
   "metadata": {},
   "source": [
    "* Группа B лидирует по уровню прироста конверсии на протяжении почти всего периода проведения теста, неоднократно достигая уровня 20%."
   ]
  },
  {
   "cell_type": "markdown",
   "metadata": {},
   "source": [
    "### Поиск аномальных значений\n",
    "Большинство графиков из предыдущего шага наталкивают на мысль о том, что в данные одной из групп могли попасть выбросы или аномальные значения - необходимо проверить данные на их наличие и в случае обнаружения - пересчитать результаты.\n",
    "\n",
    "Для начала посмотрим на количество заказов по пользователям:"
   ]
  },
  {
   "cell_type": "code",
   "execution_count": 16,
   "metadata": {},
   "outputs": [
    {
     "data": {
      "image/png": "[encoded data removed]",
      "text/plain": [
       "<Figure size 1080x432 with 1 Axes>"
      ]
     },
     "metadata": {
      "needs_background": "light"
     },
     "output_type": "display_data"
    }
   ],
   "source": [
    "# сгруппируем данные для подсчёта количества заказов на каждого пользователя\n",
    "\n",
    "orders_grouped = (\n",
    "    orders.groupby('visitor_id', as_index=False)\n",
    "    .agg({'transaction_id': 'nunique'})\n",
    ")\n",
    "orders_grouped.columns = ['visitor_id', 'orders']\n",
    "\n",
    "# визуализируем результат\n",
    "\n",
    "x_values = pd.Series(range(0, len(orders_grouped)))\n",
    "\n",
    "plt.figure(figsize=(15, 6))\n",
    "\n",
    "plt.scatter(x_values, orders_grouped['orders'])\n",
    "\n",
    "plt.title('orders per visitor')\n",
    "plt.ylabel('orders count')\n",
    "plt.xlabel('visitors')\n",
    "plt.grid()\n",
    "\n",
    "plt.show()"
   ]
  },
  {
   "cell_type": "markdown",
   "metadata": {},
   "source": [
    "- График показывает, что абсолютное большинство пользователей делает не больше двух заказов. \n",
    "\n",
    "Расчитаем 95-ый и 99-ый процентили:"
   ]
  },
  {
   "cell_type": "code",
   "execution_count": 17,
   "metadata": {},
   "outputs": [
    {
     "name": "stdout",
     "output_type": "stream",
     "text": [
      "[1. 2.]\n"
     ]
    }
   ],
   "source": [
    "print(np.percentile(orders_grouped['orders'], [95, 99]))"
   ]
  },
  {
   "cell_type": "markdown",
   "metadata": {},
   "source": [
    "Выходит, что не больше 5% пользователей делает более одного заказа! Соответственно все остальные данные можно считать аномальными. Проделаем такую же проверку для размера выручки:"
   ]
  },
  {
   "cell_type": "code",
   "execution_count": 18,
   "metadata": {},
   "outputs": [
    {
     "data": {
      "image/png": "[encoded data removed]",
      "text/plain": [
       "<Figure size 1080x432 with 1 Axes>"
      ]
     },
     "metadata": {
      "needs_background": "light"
     },
     "output_type": "display_data"
    },
    {
     "name": "stdout",
     "output_type": "stream",
     "text": [
      "[26785. 53904.]\n"
     ]
    }
   ],
   "source": [
    "# строим график по выручке за заказ\n",
    "\n",
    "x_values = pd.Series(range(0, len(orders['revenue'])))\n",
    "\n",
    "plt.figure(figsize=(15, 6))\n",
    "\n",
    "plt.scatter(x_values, orders['revenue']) \n",
    "\n",
    "plt.title('revenue per order')\n",
    "plt.ylabel('revenue')\n",
    "plt.xlabel('orders')\n",
    "plt.grid()\n",
    "\n",
    "plt.show()\n",
    "\n",
    "# рассчитаем перцентили\n",
    "\n",
    "print(np.percentile(orders['revenue'], [95, 99]))"
   ]
  },
  {
   "cell_type": "markdown",
   "metadata": {},
   "source": [
    "* На графике видны два явных выброса - первый на уровне 1.3 миллиона, другой нахходится на уровне 0.2 миллиона. При этом 99-ый перцентель по выручке составляет всего 53,904 - для корректного сравнения результатов теста необходимо будет обязательно учесть факт наличия этих выбросов, 99-ый перцентель подходит в качестве порога для среза."
   ]
  },
  {
   "cell_type": "markdown",
   "metadata": {},
   "source": [
    "### Сравнение результатов теста (сырые данные)\n",
    "Пришло время к непосредственному анализу результатов теста - сначала попробуем сравнить данные, которые были получены изначально. Для этого перегруппируем данные о результатах теста в новую таблицу:"
   ]
  },
  {
   "cell_type": "code",
   "execution_count": 19,
   "metadata": {},
   "outputs": [
    {
     "data": {
      "text/html": [
       "<div>\n",
       "<style scoped>\n",
       "    .dataframe tbody tr th:only-of-type {\n",
       "        vertical-align: middle;\n",
       "    }\n",
       "\n",
       "    .dataframe tbody tr th {\n",
       "        vertical-align: top;\n",
       "    }\n",
       "\n",
       "    .dataframe thead th {\n",
       "        text-align: right;\n",
       "    }\n",
       "</style>\n",
       "<table border=\"1\" class=\"dataframe\">\n",
       "  <thead>\n",
       "    <tr style=\"text-align: right;\">\n",
       "      <th></th>\n",
       "      <th>date</th>\n",
       "      <th>orders_a</th>\n",
       "      <th>revenue_a</th>\n",
       "      <th>orders_b</th>\n",
       "      <th>revenue_b</th>\n",
       "      <th>visitors_a</th>\n",
       "      <th>visitors_b</th>\n",
       "    </tr>\n",
       "  </thead>\n",
       "  <tbody>\n",
       "    <tr>\n",
       "      <th>8</th>\n",
       "      <td>2019-08-09</td>\n",
       "      <td>11</td>\n",
       "      <td>134237</td>\n",
       "      <td>19</td>\n",
       "      <td>103166</td>\n",
       "      <td>617</td>\n",
       "      <td>610</td>\n",
       "    </tr>\n",
       "    <tr>\n",
       "      <th>25</th>\n",
       "      <td>2019-08-26</td>\n",
       "      <td>16</td>\n",
       "      <td>157214</td>\n",
       "      <td>22</td>\n",
       "      <td>173439</td>\n",
       "      <td>722</td>\n",
       "      <td>676</td>\n",
       "    </tr>\n",
       "    <tr>\n",
       "      <th>4</th>\n",
       "      <td>2019-08-05</td>\n",
       "      <td>22</td>\n",
       "      <td>86383</td>\n",
       "      <td>21</td>\n",
       "      <td>89908</td>\n",
       "      <td>756</td>\n",
       "      <td>707</td>\n",
       "    </tr>\n",
       "    <tr>\n",
       "      <th>18</th>\n",
       "      <td>2019-08-19</td>\n",
       "      <td>21</td>\n",
       "      <td>168193</td>\n",
       "      <td>21</td>\n",
       "      <td>1429920</td>\n",
       "      <td>502</td>\n",
       "      <td>487</td>\n",
       "    </tr>\n",
       "    <tr>\n",
       "      <th>20</th>\n",
       "      <td>2019-08-21</td>\n",
       "      <td>20</td>\n",
       "      <td>170169</td>\n",
       "      <td>12</td>\n",
       "      <td>140347</td>\n",
       "      <td>646</td>\n",
       "      <td>656</td>\n",
       "    </tr>\n",
       "  </tbody>\n",
       "</table>\n",
       "</div>"
      ],
      "text/plain": [
       "         date  orders_a  revenue_a  orders_b  revenue_b  visitors_a  \\\n",
       "8  2019-08-09        11     134237        19     103166         617   \n",
       "25 2019-08-26        16     157214        22     173439         722   \n",
       "4  2019-08-05        22      86383        21      89908         756   \n",
       "18 2019-08-19        21     168193        21    1429920         502   \n",
       "20 2019-08-21        20     170169        12     140347         646   \n",
       "\n",
       "    visitors_b  \n",
       "8          610  \n",
       "25         676  \n",
       "4          707  \n",
       "18         487  \n",
       "20         656  "
      ]
     },
     "execution_count": 19,
     "metadata": {},
     "output_type": "execute_result"
    }
   ],
   "source": [
    "# собираем данные о посещениях группы А\n",
    "\n",
    "visitors_a = visitors[visitors['group'] == 'A'][['date', 'visitors']]\n",
    "visitors_a.columns = ['date', 'visitors_a']\n",
    "\n",
    "# собираем данные о посещениях группы B\n",
    "\n",
    "visitors_b = visitors[visitors['group'] == 'B'][['date', 'visitors']]\n",
    "visitors_b.columns = ['date', 'visitors_b']\n",
    "\n",
    "# собираем данные о количестве заказов группы A\n",
    "\n",
    "orders_a = (\n",
    "    orders[orders['group'] == 'A'][['date', 'transaction_id', 'visitor_id', 'revenue']]\n",
    "    .groupby('date', as_index=False)\n",
    "    .agg({'transaction_id': pd.Series.nunique, 'revenue': 'sum'})\n",
    ")\n",
    "orders_a.columns = ['date', 'orders_a', 'revenue_a']\n",
    "\n",
    "# собираем данные о количестве заказов группы B\n",
    "\n",
    "orders_b = (\n",
    "    orders[orders['group'] == 'B'][['date', 'transaction_id', 'visitor_id', 'revenue']]\n",
    "    .groupby('date', as_index=False)\n",
    "    .agg({'transaction_id': pd.Series.nunique, 'revenue': 'sum'})\n",
    ")\n",
    "orders_b.columns = ['date', 'orders_b', 'revenue_b']\n",
    "\n",
    "# объединяем всё в общую таблицу\n",
    "\n",
    "data = (\n",
    "    orders_a.merge(\n",
    "        orders_b, left_on='date', right_on='date', how='left'\n",
    "    )\n",
    "    .merge(visitors_a, left_on='date', right_on='date', how='left')\n",
    "    .merge(visitors_b, left_on='date', right_on='date', how='left')\n",
    ")\n",
    "\n",
    "data.sample(5)"
   ]
  },
  {
   "cell_type": "markdown",
   "metadata": {},
   "source": [
    "Теперь у нас есть таблица `data`, где на каждую дату отображены основные показатели.\n",
    "\n",
    "Первый шаг - сравнение показателей конверсии:"
   ]
  },
  {
   "cell_type": "code",
   "execution_count": 20,
   "metadata": {},
   "outputs": [],
   "source": [
    "# сгруппируем данные по пользователям\n",
    "\n",
    "orders_a = (\n",
    "    orders[orders['group'] == 'A']\n",
    "    .groupby('visitor_id', as_index=False)\n",
    "    .agg({'transaction_id': pd.Series.nunique})\n",
    ")\n",
    "orders_a.columns = ['visitor_id', 'orders']\n",
    "\n",
    "orders_b = (\n",
    "    orders[orders['group'] == 'B']\n",
    "    .groupby('visitor_id', as_index=False)\n",
    "    .agg({'transaction_id': pd.Series.nunique})\n",
    ")\n",
    "orders_b.columns = ['visitor_id', 'orders']\n",
    "\n",
    "# формируем выборки по каждой группе\n",
    "\n",
    "sample_a = pd.concat(\n",
    "    [\n",
    "        orders_a['orders'],\n",
    "        pd.Series(\n",
    "            0,\n",
    "            index=np.arange(\n",
    "                data['visitors_a'].sum() - len(orders_a['orders'])\n",
    "            ),\n",
    "            name='orders',\n",
    "        ),\n",
    "    ],\n",
    "    axis=0,\n",
    ")\n",
    "\n",
    "sample_b = pd.concat(\n",
    "    [\n",
    "        orders_b['orders'],\n",
    "        pd.Series(\n",
    "            0,\n",
    "            index=np.arange(\n",
    "                data['visitors_b'].sum() - len(orders_b['orders'])\n",
    "            ),\n",
    "            name='orders',\n",
    "        ),\n",
    "    ],\n",
    "    axis=0,\n",
    ")"
   ]
  },
  {
   "cell_type": "markdown",
   "metadata": {},
   "source": [
    "Проверим гипотезу о равенстве средних значений конверсии. Так как данные потенциально содержат выбросы, используем непараметрический тест Манна-Уитни.\n",
    "\n",
    "**H0** - Средние значения не имеют статистически значимых отличий\n",
    "\n",
    "**H1** - Значения имеют статистически значимые отличия"
   ]
  },
  {
   "cell_type": "code",
   "execution_count": 21,
   "metadata": {},
   "outputs": [
    {
     "name": "stdout",
     "output_type": "stream",
     "text": [
      "p-value:  0.011\n",
      "Отвергаем нулевую гипотезу: разница статистически значима\n",
      "\n",
      "Относительное различие средних значений выборок: 15.98%\n"
     ]
    }
   ],
   "source": [
    "alpha = 0.05 \n",
    "\n",
    "results = st.mannwhitneyu(sample_a, sample_b)\n",
    "difference = \"{0:.2f}\".format((sample_b.mean() / sample_a.mean() - 1)*100)\n",
    "\n",
    "print('p-value: ', \"{0:.3f}\".format(results.pvalue))\n",
    "\n",
    "if results.pvalue < alpha:\n",
    "    print('Отвергаем нулевую гипотезу: разница статистически значима')\n",
    "else:\n",
    "    print(\n",
    "        'Не получилось отвергнуть нулевую гипотезу, вывод о различии сделать нельзя'\n",
    "    ) \n",
    "    \n",
    "print()    \n",
    "print(f'Относительное различие средних значений выборок: {difference}%')    "
   ]
  },
  {
   "cell_type": "markdown",
   "metadata": {},
   "source": [
    "P-value не достигает уровня статистической значимости, что не удивительно - прирост конверсии в выборках составляет более 16% в пользу группы В.\n",
    "\n",
    "Проверим такую же гипотезу относительно среднего чека:"
   ]
  },
  {
   "cell_type": "code",
   "execution_count": 22,
   "metadata": {},
   "outputs": [
    {
     "name": "stdout",
     "output_type": "stream",
     "text": [
      "p-value:  0.829\n",
      "Не получилось отвергнуть нулевую гипотезу, вывод о различии сделать нельзя\n",
      "\n",
      "Относительное различие средних значений выборок: 28.66%\n"
     ]
    }
   ],
   "source": [
    "alpha = 0.05 \n",
    "\n",
    "results = st.mannwhitneyu(orders[orders['group']=='A']['revenue'],\n",
    "                          orders[orders['group']=='B']['revenue'])\n",
    "difference = (\n",
    "    '{0:.2f}'.format((orders[orders['group']=='B']['revenue'].mean()/\n",
    "                               orders[orders['group']=='A']['revenue'].mean()-1)*100)\n",
    ")\n",
    "\n",
    "print('p-value: ', \"{0:.3f}\".format(results.pvalue))\n",
    "\n",
    "if results.pvalue < alpha:\n",
    "    print('Отвергаем нулевую гипотезу: разница статистически значима')\n",
    "else:\n",
    "    print(\n",
    "        'Не получилось отвергнуть нулевую гипотезу, вывод о различии сделать нельзя'\n",
    "    ) \n",
    "    \n",
    "print()    \n",
    "print(f'Относительное различие средних значений выборок: {difference}%')    "
   ]
  },
  {
   "cell_type": "markdown",
   "metadata": {},
   "source": [
    "Здесь же ситуация обратная - несмотря на значительное относительное различие значений выборок, высокий p-value говорит о том, что нельзя сделать вывод о статистически значимом различии значений в генеральной совокупности. Скорее всего это также обусловлено наличием выбросов в данных."
   ]
  },
  {
   "cell_type": "markdown",
   "metadata": {},
   "source": [
    "### Сравнение результатов теста (очищенные данные)\n",
    "Во время работы с данными были обнаружены явные выбросы, которые могут иметь значительное влияние на результаты теста - попробуем повторить действия предыдущего этапа на срезе данных. Порог среза для конверсии - 95-ый перцентель, для среднего чека - 99-ый:"
   ]
  },
  {
   "cell_type": "code",
   "execution_count": 23,
   "metadata": {},
   "outputs": [],
   "source": [
    "# зададим порог аномальных значений\n",
    "\n",
    "orders_95 = int(np.percentile(orders_grouped['orders'], [95]))\n",
    "revenue_99 = int(np.percentile(orders['revenue'], [99]))\n",
    "\n",
    "# сгруппируем аномальных пользователей\n",
    "\n",
    "orders_x = pd.concat(\n",
    "    [\n",
    "        orders_a[orders_a['orders'] > orders_95]['visitor_id'],\n",
    "        orders_b[orders_b['orders'] > orders_95]['visitor_id'],\n",
    "    ],\n",
    "    axis=0,\n",
    ")\n",
    "revenue_x = orders[orders['revenue'] > revenue_99]['visitor_id']\n",
    "\n",
    "abnormal_visitors = (\n",
    "    pd.concat([orders_x, revenue_x], axis=0)\n",
    "    .drop_duplicates()\n",
    "    .sort_values()\n",
    ")"
   ]
  },
  {
   "cell_type": "code",
   "execution_count": 24,
   "metadata": {},
   "outputs": [],
   "source": [
    "# формируем отфильтрованные выборки\n",
    "\n",
    "sample_a_filtered = pd.concat(\n",
    "    [\n",
    "        orders_a[\n",
    "            np.logical_not(orders_a['visitor_id'].isin(abnormal_visitors))\n",
    "        ]['orders'],\n",
    "        pd.Series(\n",
    "            0,\n",
    "            index=np.arange(\n",
    "                data['visitors_a'].sum() - len(orders_a['orders'])\n",
    "            ),\n",
    "            name='orders',\n",
    "        ),\n",
    "    ],\n",
    "    axis=0,\n",
    ")\n",
    "\n",
    "sample_b_filtered = pd.concat(\n",
    "    [\n",
    "        orders_b[\n",
    "            np.logical_not(orders_b['visitor_id'].isin(abnormal_visitors))\n",
    "        ]['orders'],\n",
    "        pd.Series(\n",
    "            0,\n",
    "            index=np.arange(\n",
    "                data['visitors_b'].sum() - len(orders_b['orders'])\n",
    "            ),\n",
    "            name='orders',\n",
    "        ),\n",
    "    ],\n",
    "    axis=0,\n",
    ")"
   ]
  },
  {
   "cell_type": "code",
   "execution_count": 25,
   "metadata": {},
   "outputs": [
    {
     "name": "stdout",
     "output_type": "stream",
     "text": [
      "p-value:  0.008\n",
      "Отвергаем нулевую гипотезу: разница статистически значима\n",
      "\n",
      "Относительное различие средних значений выборок: 18.76%\n"
     ]
    }
   ],
   "source": [
    "# повторяем проверку гипотезы о равенстве конверсии\n",
    "\n",
    "alpha = 0.05 \n",
    "\n",
    "results = st.mannwhitneyu(sample_a_filtered, sample_b_filtered)\n",
    "difference = \"{0:.2f}\".format((sample_b_filtered.mean() / sample_a_filtered.mean() - 1)*100)\n",
    "\n",
    "print('p-value: ', \"{0:.3f}\".format(results.pvalue))\n",
    "\n",
    "if results.pvalue < alpha:\n",
    "    print('Отвергаем нулевую гипотезу: разница статистически значима')\n",
    "else:\n",
    "    print(\n",
    "        'Не получилось отвергнуть нулевую гипотезу, вывод о различии сделать нельзя'\n",
    "    ) \n",
    "    \n",
    "print()    \n",
    "print(f'Относительное различие средних значений выборок: {difference}%')    "
   ]
  },
  {
   "cell_type": "markdown",
   "metadata": {},
   "source": [
    "Результат в целом остался таким же - p-value так и не достигает статистической значимости, а прирост конверсии в группе B теперь ещё больше. Посмотрим на различие средних чеков:"
   ]
  },
  {
   "cell_type": "code",
   "execution_count": 26,
   "metadata": {},
   "outputs": [
    {
     "name": "stdout",
     "output_type": "stream",
     "text": [
      "p-value:  0.969\n",
      "Не получилось отвергнуть нулевую гипотезу, вывод о различии сделать нельзя\n",
      "\n",
      "Относительное различие средних значений выборок: 0.002\n"
     ]
    }
   ],
   "source": [
    "# повторяем проверку гипотезы о равенстве средних чеков\n",
    "\n",
    "alpha = 0.05 \n",
    "\n",
    "results = (\n",
    "    st.mannwhitneyu(\n",
    "            orders[\n",
    "                np.logical_and(\n",
    "                    orders['group'] == 'A',\n",
    "                    np.logical_not(orders['visitor_id'].isin(abnormal_visitors)),\n",
    "                )\n",
    "            ]['revenue'],\n",
    "            orders[\n",
    "                np.logical_and(\n",
    "                    orders['group'] == 'B',\n",
    "                    np.logical_not(orders['visitor_id'].isin(abnormal_visitors)),\n",
    "                )\n",
    "            ]['revenue'],\n",
    "        )\n",
    "    )\n",
    "\n",
    "\n",
    "difference = (\n",
    "    \"{0:.3f}\".format(\n",
    "        orders[\n",
    "            np.logical_and(\n",
    "                orders['group'] == 'B',\n",
    "                np.logical_not(orders['visitor_id'].isin(abnormal_visitors)),\n",
    "            )\n",
    "        ]['revenue'].mean()\n",
    "        / orders[\n",
    "            np.logical_and(\n",
    "                orders['group'] == 'A',\n",
    "                np.logical_not(orders['visitor_id'].isin(abnormal_visitors)),\n",
    "            )\n",
    "        ]['revenue'].mean()\n",
    "        - 1\n",
    "    )\n",
    ")\n",
    "\n",
    "print('p-value: ', \"{0:.3f}\".format(results.pvalue))\n",
    "\n",
    "if results.pvalue < alpha:\n",
    "    print('Отвергаем нулевую гипотезу: разница статистически значима')\n",
    "else:\n",
    "    print(\n",
    "        'Не получилось отвергнуть нулевую гипотезу, вывод о различии сделать нельзя'\n",
    "    ) \n",
    "    \n",
    "print()    \n",
    "print(f'Относительное различие средних значений выборок: {difference}')    "
   ]
  },
  {
   "cell_type": "markdown",
   "metadata": {},
   "source": [
    "Проверка на срезе данных без выбросов теперь показывает соразмерный уровень относительной разницы значений, p-value вырос ещё сильнее, давая меньше поводов для предпологаемых различиях в данных."
   ]
  },
  {
   "cell_type": "markdown",
   "metadata": {},
   "source": [
    "____\n",
    "**Выводы**\n",
    "\n",
    "- Конверсия групп имеет статистически значимую разницу, вне зависимости от наличия выбросов в данных. Графики кумулятивных метрик и относительная разница средних значений выборок указывают на существенный успех группы B.\n",
    "\n",
    "- Средние чеки групп не имееют статистически значимой разницы, вне зависимости от наличия выбросов в данных.\n",
    "\n",
    "**Этих выводов достаточно для завершения теста и фиксирования победы группы B.**"
   ]
  }
 ],
 "metadata": {
  "ExecuteTimeLog": [
   {
    "duration": 2073,
    "start_time": "2022-07-22T18:42:34.655Z"
   },
   {
    "duration": 146,
    "start_time": "2022-07-22T18:43:19.256Z"
   },
   {
    "duration": 93,
    "start_time": "2022-07-22T18:43:26.921Z"
   },
   {
    "duration": 18,
    "start_time": "2022-07-22T18:43:30.330Z"
   },
   {
    "duration": 12,
    "start_time": "2022-07-22T18:48:59.076Z"
   },
   {
    "duration": 204,
    "start_time": "2022-07-22T18:49:00.559Z"
   },
   {
    "duration": 14,
    "start_time": "2022-07-22T18:49:01.290Z"
   },
   {
    "duration": 7,
    "start_time": "2022-07-22T19:38:32.747Z"
   },
   {
    "duration": 34,
    "start_time": "2022-07-22T21:30:05.308Z"
   },
   {
    "duration": 4,
    "start_time": "2022-07-22T21:30:55.103Z"
   },
   {
    "duration": 38,
    "start_time": "2022-07-22T21:30:56.213Z"
   },
   {
    "duration": 6,
    "start_time": "2022-07-22T21:51:33.070Z"
   },
   {
    "duration": 9,
    "start_time": "2022-07-22T21:51:48.420Z"
   },
   {
    "duration": 9,
    "start_time": "2022-07-22T21:51:53.450Z"
   },
   {
    "duration": 3,
    "start_time": "2022-07-22T21:52:22.115Z"
   },
   {
    "duration": 10,
    "start_time": "2022-07-22T21:53:51.663Z"
   },
   {
    "duration": 33,
    "start_time": "2022-07-22T21:54:18.257Z"
   },
   {
    "duration": 8,
    "start_time": "2022-07-22T21:54:21.010Z"
   },
   {
    "duration": 11,
    "start_time": "2022-07-22T21:54:32.594Z"
   },
   {
    "duration": 14,
    "start_time": "2022-07-22T21:55:03.881Z"
   },
   {
    "duration": 5,
    "start_time": "2022-07-22T21:55:14.994Z"
   },
   {
    "duration": 32,
    "start_time": "2022-07-22T21:55:15.780Z"
   },
   {
    "duration": 11,
    "start_time": "2022-07-22T21:55:17.625Z"
   },
   {
    "duration": 57,
    "start_time": "2022-07-22T21:55:39.405Z"
   },
   {
    "duration": 53,
    "start_time": "2022-07-22T21:55:45.449Z"
   },
   {
    "duration": 3,
    "start_time": "2022-07-22T21:56:02.296Z"
   },
   {
    "duration": 11,
    "start_time": "2022-07-22T21:56:05.440Z"
   },
   {
    "duration": 9,
    "start_time": "2022-07-22T21:59:28.636Z"
   },
   {
    "duration": 10,
    "start_time": "2022-07-22T21:59:35.583Z"
   },
   {
    "duration": 11,
    "start_time": "2022-07-22T22:00:59.885Z"
   },
   {
    "duration": 11,
    "start_time": "2022-07-22T22:08:37.793Z"
   },
   {
    "duration": 13,
    "start_time": "2022-07-22T22:10:16.440Z"
   },
   {
    "duration": 4,
    "start_time": "2022-07-22T22:20:58.328Z"
   },
   {
    "duration": 35,
    "start_time": "2022-07-22T22:20:58.913Z"
   },
   {
    "duration": 1075,
    "start_time": "2022-07-22T22:21:05.224Z"
   },
   {
    "duration": 38,
    "start_time": "2022-07-22T22:21:06.300Z"
   },
   {
    "duration": 11,
    "start_time": "2022-07-22T22:21:06.339Z"
   },
   {
    "duration": 11,
    "start_time": "2022-07-22T22:21:06.351Z"
   },
   {
    "duration": 56,
    "start_time": "2022-07-22T22:21:06.365Z"
   },
   {
    "duration": 92,
    "start_time": "2022-07-22T22:21:06.423Z"
   },
   {
    "duration": 0,
    "start_time": "2022-07-22T22:21:06.516Z"
   },
   {
    "duration": 1495,
    "start_time": "2022-07-23T09:28:59.449Z"
   },
   {
    "duration": 68,
    "start_time": "2022-07-23T09:29:00.946Z"
   },
   {
    "duration": 15,
    "start_time": "2022-07-23T09:29:01.017Z"
   },
   {
    "duration": 42,
    "start_time": "2022-07-23T09:29:01.035Z"
   },
   {
    "duration": 154,
    "start_time": "2022-07-23T09:29:01.079Z"
   },
   {
    "duration": 14,
    "start_time": "2022-07-23T09:29:01.236Z"
   },
   {
    "duration": 36,
    "start_time": "2022-07-23T09:29:54.550Z"
   },
   {
    "duration": 54,
    "start_time": "2022-07-23T09:46:13.702Z"
   },
   {
    "duration": 175,
    "start_time": "2022-07-23T09:46:19.169Z"
   },
   {
    "duration": 55,
    "start_time": "2022-07-23T09:46:23.087Z"
   },
   {
    "duration": 59,
    "start_time": "2022-07-23T09:46:25.949Z"
   },
   {
    "duration": 15,
    "start_time": "2022-07-23T09:46:44.055Z"
   },
   {
    "duration": 64,
    "start_time": "2022-07-23T09:47:11.304Z"
   },
   {
    "duration": 29,
    "start_time": "2022-07-23T09:47:23.495Z"
   },
   {
    "duration": 97,
    "start_time": "2022-07-23T09:47:50.814Z"
   },
   {
    "duration": 22,
    "start_time": "2022-07-23T09:48:01.013Z"
   },
   {
    "duration": 21,
    "start_time": "2022-07-23T09:48:11.750Z"
   },
   {
    "duration": 18,
    "start_time": "2022-07-23T09:48:20.157Z"
   },
   {
    "duration": 20,
    "start_time": "2022-07-23T09:48:25.584Z"
   },
   {
    "duration": 14,
    "start_time": "2022-07-23T09:50:50.441Z"
   },
   {
    "duration": 10,
    "start_time": "2022-07-23T09:51:46.661Z"
   },
   {
    "duration": 24,
    "start_time": "2022-07-23T09:51:49.517Z"
   },
   {
    "duration": 50,
    "start_time": "2022-07-23T10:26:41.239Z"
   },
   {
    "duration": 71,
    "start_time": "2022-07-23T10:26:44.765Z"
   },
   {
    "duration": 51,
    "start_time": "2022-07-23T10:27:37.277Z"
   },
   {
    "duration": 15,
    "start_time": "2022-07-23T10:27:47.844Z"
   },
   {
    "duration": 7,
    "start_time": "2022-07-23T10:27:53.538Z"
   },
   {
    "duration": 47,
    "start_time": "2022-07-23T10:27:57.075Z"
   },
   {
    "duration": 33,
    "start_time": "2022-07-23T10:28:26.820Z"
   },
   {
    "duration": 10,
    "start_time": "2022-07-23T10:28:40.050Z"
   },
   {
    "duration": 242,
    "start_time": "2022-07-23T10:28:48.419Z"
   },
   {
    "duration": 50,
    "start_time": "2022-07-23T10:29:26.659Z"
   },
   {
    "duration": 11,
    "start_time": "2022-07-23T10:29:34.333Z"
   },
   {
    "duration": 66,
    "start_time": "2022-07-23T10:31:41.122Z"
   },
   {
    "duration": 13,
    "start_time": "2022-07-23T10:32:05.435Z"
   },
   {
    "duration": 14,
    "start_time": "2022-07-23T10:32:33.609Z"
   },
   {
    "duration": 4,
    "start_time": "2022-07-23T10:32:42.662Z"
   },
   {
    "duration": 59,
    "start_time": "2022-07-23T10:32:48.717Z"
   },
   {
    "duration": 4,
    "start_time": "2022-07-23T10:32:49.617Z"
   },
   {
    "duration": 13,
    "start_time": "2022-07-23T10:33:01.875Z"
   },
   {
    "duration": 61,
    "start_time": "2022-07-23T10:33:05.216Z"
   },
   {
    "duration": 17,
    "start_time": "2022-07-23T10:33:06.580Z"
   },
   {
    "duration": 59,
    "start_time": "2022-07-23T10:33:20.021Z"
   },
   {
    "duration": 12,
    "start_time": "2022-07-23T10:33:23.889Z"
   },
   {
    "duration": 51,
    "start_time": "2022-07-23T10:33:54.279Z"
   },
   {
    "duration": 55,
    "start_time": "2022-07-23T10:34:24.697Z"
   },
   {
    "duration": 13,
    "start_time": "2022-07-23T10:34:25.202Z"
   },
   {
    "duration": 50,
    "start_time": "2022-07-23T10:35:12.025Z"
   },
   {
    "duration": 17,
    "start_time": "2022-07-23T10:35:12.397Z"
   },
   {
    "duration": 55,
    "start_time": "2022-07-23T10:36:17.003Z"
   },
   {
    "duration": 47,
    "start_time": "2022-07-23T10:37:10.265Z"
   },
   {
    "duration": 16,
    "start_time": "2022-07-23T10:37:10.893Z"
   },
   {
    "duration": 65,
    "start_time": "2022-07-23T10:37:29.188Z"
   },
   {
    "duration": 70,
    "start_time": "2022-07-23T10:38:08.861Z"
   },
   {
    "duration": 87,
    "start_time": "2022-07-23T10:38:13.926Z"
   },
   {
    "duration": 9,
    "start_time": "2022-07-23T10:38:29.683Z"
   },
   {
    "duration": 11,
    "start_time": "2022-07-23T10:39:07.207Z"
   },
   {
    "duration": 61,
    "start_time": "2022-07-23T10:41:31.036Z"
   },
   {
    "duration": 14,
    "start_time": "2022-07-23T10:47:29.777Z"
   },
   {
    "duration": 9,
    "start_time": "2022-07-23T10:47:32.470Z"
   },
   {
    "duration": 7,
    "start_time": "2022-07-23T10:47:40.187Z"
   },
   {
    "duration": 8,
    "start_time": "2022-07-23T10:47:44.750Z"
   },
   {
    "duration": 4,
    "start_time": "2022-07-23T10:50:26.735Z"
   },
   {
    "duration": 15,
    "start_time": "2022-07-23T10:50:37.760Z"
   },
   {
    "duration": 63,
    "start_time": "2022-07-23T10:50:52.275Z"
   },
   {
    "duration": 9,
    "start_time": "2022-07-23T10:50:55.143Z"
   },
   {
    "duration": 44,
    "start_time": "2022-07-23T10:50:57.614Z"
   },
   {
    "duration": 7,
    "start_time": "2022-07-23T10:51:09.361Z"
   },
   {
    "duration": 21,
    "start_time": "2022-07-23T10:51:18.016Z"
   },
   {
    "duration": 8,
    "start_time": "2022-07-23T10:51:23.767Z"
   },
   {
    "duration": 8,
    "start_time": "2022-07-23T10:51:43.380Z"
   },
   {
    "duration": 6,
    "start_time": "2022-07-23T10:51:44.070Z"
   },
   {
    "duration": 17,
    "start_time": "2022-07-23T10:52:08.457Z"
   },
   {
    "duration": 59,
    "start_time": "2022-07-23T10:52:21.673Z"
   },
   {
    "duration": 65,
    "start_time": "2022-07-23T10:52:27.438Z"
   },
   {
    "duration": 8,
    "start_time": "2022-07-23T10:52:56.036Z"
   },
   {
    "duration": 38,
    "start_time": "2022-07-23T10:53:15.452Z"
   },
   {
    "duration": 1461,
    "start_time": "2022-07-23T21:57:05.801Z"
   },
   {
    "duration": 94,
    "start_time": "2022-07-23T21:57:07.264Z"
   },
   {
    "duration": 11,
    "start_time": "2022-07-23T21:57:07.360Z"
   },
   {
    "duration": 12,
    "start_time": "2022-07-23T21:57:07.373Z"
   },
   {
    "duration": 89,
    "start_time": "2022-07-23T21:57:07.386Z"
   },
   {
    "duration": 8,
    "start_time": "2022-07-23T21:57:07.476Z"
   },
   {
    "duration": 9,
    "start_time": "2022-07-23T21:57:07.485Z"
   },
   {
    "duration": 71,
    "start_time": "2022-07-23T21:57:07.495Z"
   },
   {
    "duration": 116,
    "start_time": "2022-07-23T22:14:01.363Z"
   },
   {
    "duration": 26,
    "start_time": "2022-07-23T22:14:33.031Z"
   },
   {
    "duration": 0,
    "start_time": "2022-07-23T22:17:25.487Z"
   },
   {
    "duration": 0,
    "start_time": "2022-07-23T22:17:25.488Z"
   },
   {
    "duration": 0,
    "start_time": "2022-07-23T22:17:25.489Z"
   },
   {
    "duration": 0,
    "start_time": "2022-07-23T22:17:25.489Z"
   },
   {
    "duration": 0,
    "start_time": "2022-07-23T22:17:25.490Z"
   },
   {
    "duration": 0,
    "start_time": "2022-07-23T22:17:25.491Z"
   },
   {
    "duration": 0,
    "start_time": "2022-07-23T22:17:25.492Z"
   },
   {
    "duration": 0,
    "start_time": "2022-07-23T22:17:25.493Z"
   },
   {
    "duration": 0,
    "start_time": "2022-07-23T22:17:25.494Z"
   },
   {
    "duration": 4,
    "start_time": "2022-07-23T22:17:27.722Z"
   },
   {
    "duration": 13,
    "start_time": "2022-07-23T22:17:27.728Z"
   },
   {
    "duration": 10,
    "start_time": "2022-07-23T22:17:27.743Z"
   },
   {
    "duration": 17,
    "start_time": "2022-07-23T22:17:27.755Z"
   },
   {
    "duration": 79,
    "start_time": "2022-07-23T22:17:27.773Z"
   },
   {
    "duration": 16,
    "start_time": "2022-07-23T22:17:27.853Z"
   },
   {
    "duration": 37,
    "start_time": "2022-07-23T22:17:27.870Z"
   },
   {
    "duration": 84,
    "start_time": "2022-07-23T22:17:27.909Z"
   },
   {
    "duration": 310,
    "start_time": "2022-07-23T22:17:27.995Z"
   },
   {
    "duration": 272,
    "start_time": "2022-07-23T22:17:41.666Z"
   },
   {
    "duration": 323,
    "start_time": "2022-07-23T22:17:59.956Z"
   },
   {
    "duration": 7,
    "start_time": "2022-07-23T22:21:12.718Z"
   },
   {
    "duration": 8,
    "start_time": "2022-07-23T22:23:32.908Z"
   },
   {
    "duration": 10,
    "start_time": "2022-07-23T22:23:40.529Z"
   },
   {
    "duration": 3,
    "start_time": "2022-07-23T22:24:12.788Z"
   },
   {
    "duration": 13,
    "start_time": "2022-07-23T22:24:15.935Z"
   },
   {
    "duration": 6,
    "start_time": "2022-07-23T22:26:46.165Z"
   },
   {
    "duration": 9,
    "start_time": "2022-07-23T22:27:50.819Z"
   },
   {
    "duration": 10,
    "start_time": "2022-07-23T22:28:25.976Z"
   },
   {
    "duration": 69,
    "start_time": "2022-07-23T22:28:47.144Z"
   },
   {
    "duration": 16,
    "start_time": "2022-07-23T22:29:19.594Z"
   },
   {
    "duration": 13,
    "start_time": "2022-07-23T22:29:25.204Z"
   },
   {
    "duration": 12,
    "start_time": "2022-07-23T22:30:28.104Z"
   },
   {
    "duration": 18,
    "start_time": "2022-07-23T22:30:54.853Z"
   },
   {
    "duration": 11,
    "start_time": "2022-07-23T22:31:00.406Z"
   },
   {
    "duration": 11,
    "start_time": "2022-07-23T22:32:12.531Z"
   },
   {
    "duration": 2,
    "start_time": "2022-07-23T22:34:54.348Z"
   },
   {
    "duration": 6161,
    "start_time": "2022-07-23T22:35:16.638Z"
   },
   {
    "duration": 5,
    "start_time": "2022-07-23T22:35:31.525Z"
   },
   {
    "duration": 13,
    "start_time": "2022-07-23T22:35:37.080Z"
   },
   {
    "duration": 278,
    "start_time": "2022-07-23T22:44:17.036Z"
   },
   {
    "duration": 277,
    "start_time": "2022-07-23T22:44:31.599Z"
   },
   {
    "duration": 286,
    "start_time": "2022-07-23T22:44:39.881Z"
   },
   {
    "duration": 92,
    "start_time": "2022-07-23T22:49:05.588Z"
   },
   {
    "duration": 84,
    "start_time": "2022-07-23T22:49:14.434Z"
   },
   {
    "duration": 287,
    "start_time": "2022-07-23T22:49:26.235Z"
   },
   {
    "duration": 298,
    "start_time": "2022-07-23T22:50:10.072Z"
   },
   {
    "duration": 269,
    "start_time": "2022-07-23T22:51:06.031Z"
   },
   {
    "duration": 352,
    "start_time": "2022-07-23T22:55:04.492Z"
   },
   {
    "duration": 261,
    "start_time": "2022-07-23T22:55:18.238Z"
   },
   {
    "duration": 260,
    "start_time": "2022-07-23T22:55:21.706Z"
   },
   {
    "duration": 15,
    "start_time": "2022-07-23T22:57:20.805Z"
   },
   {
    "duration": 249,
    "start_time": "2022-07-23T22:57:33.157Z"
   },
   {
    "duration": 262,
    "start_time": "2022-07-23T23:00:23.672Z"
   },
   {
    "duration": 342,
    "start_time": "2022-07-23T23:00:32.396Z"
   },
   {
    "duration": 294,
    "start_time": "2022-07-23T23:00:42.896Z"
   },
   {
    "duration": 279,
    "start_time": "2022-07-23T23:01:09.795Z"
   },
   {
    "duration": 270,
    "start_time": "2022-07-23T23:01:14.750Z"
   },
   {
    "duration": 244,
    "start_time": "2022-07-23T23:01:22.777Z"
   },
   {
    "duration": 253,
    "start_time": "2022-07-23T23:01:27.559Z"
   },
   {
    "duration": 288,
    "start_time": "2022-07-23T23:01:36.785Z"
   },
   {
    "duration": 284,
    "start_time": "2022-07-23T23:01:48.592Z"
   },
   {
    "duration": 250,
    "start_time": "2022-07-23T23:01:57.835Z"
   },
   {
    "duration": 272,
    "start_time": "2022-07-23T23:02:30.407Z"
   },
   {
    "duration": 291,
    "start_time": "2022-07-23T23:03:24.919Z"
   },
   {
    "duration": 15,
    "start_time": "2022-07-23T23:03:51.117Z"
   },
   {
    "duration": 19,
    "start_time": "2022-07-23T23:04:11.628Z"
   },
   {
    "duration": 361,
    "start_time": "2022-07-23T23:11:10.421Z"
   },
   {
    "duration": 314,
    "start_time": "2022-07-23T23:18:17.906Z"
   },
   {
    "duration": 278,
    "start_time": "2022-07-23T23:18:26.669Z"
   },
   {
    "duration": 303,
    "start_time": "2022-07-23T23:18:45.180Z"
   },
   {
    "duration": 315,
    "start_time": "2022-07-23T23:19:06.543Z"
   },
   {
    "duration": 1246,
    "start_time": "2022-07-24T11:28:08.692Z"
   },
   {
    "duration": 79,
    "start_time": "2022-07-24T11:28:09.940Z"
   },
   {
    "duration": 12,
    "start_time": "2022-07-24T11:28:10.023Z"
   },
   {
    "duration": 12,
    "start_time": "2022-07-24T11:28:10.036Z"
   },
   {
    "duration": 103,
    "start_time": "2022-07-24T11:28:10.049Z"
   },
   {
    "duration": 7,
    "start_time": "2022-07-24T11:28:10.154Z"
   },
   {
    "duration": 12,
    "start_time": "2022-07-24T11:28:10.163Z"
   },
   {
    "duration": 5,
    "start_time": "2022-07-24T11:28:10.176Z"
   },
   {
    "duration": 69,
    "start_time": "2022-07-24T11:28:10.183Z"
   },
   {
    "duration": 286,
    "start_time": "2022-07-24T11:28:10.254Z"
   },
   {
    "duration": 354,
    "start_time": "2022-07-24T11:28:10.542Z"
   },
   {
    "duration": 265,
    "start_time": "2022-07-24T11:28:10.897Z"
   },
   {
    "duration": 361,
    "start_time": "2022-07-24T11:37:04.275Z"
   },
   {
    "duration": 376,
    "start_time": "2022-07-24T11:37:32.629Z"
   },
   {
    "duration": 309,
    "start_time": "2022-07-24T11:37:41.004Z"
   },
   {
    "duration": 347,
    "start_time": "2022-07-24T11:39:00.072Z"
   },
   {
    "duration": 388,
    "start_time": "2022-07-24T11:40:39.451Z"
   },
   {
    "duration": 1238,
    "start_time": "2022-07-24T13:47:30.209Z"
   },
   {
    "duration": 37,
    "start_time": "2022-07-24T13:47:31.450Z"
   },
   {
    "duration": 14,
    "start_time": "2022-07-24T13:47:31.489Z"
   },
   {
    "duration": 24,
    "start_time": "2022-07-24T13:47:31.506Z"
   },
   {
    "duration": 72,
    "start_time": "2022-07-24T13:47:31.532Z"
   },
   {
    "duration": 8,
    "start_time": "2022-07-24T13:47:31.605Z"
   },
   {
    "duration": 26,
    "start_time": "2022-07-24T13:47:31.615Z"
   },
   {
    "duration": 19,
    "start_time": "2022-07-24T13:47:31.642Z"
   },
   {
    "duration": 48,
    "start_time": "2022-07-24T13:47:31.662Z"
   },
   {
    "duration": 296,
    "start_time": "2022-07-24T13:47:31.713Z"
   },
   {
    "duration": 405,
    "start_time": "2022-07-24T13:47:32.011Z"
   },
   {
    "duration": 362,
    "start_time": "2022-07-24T13:47:32.418Z"
   },
   {
    "duration": 346,
    "start_time": "2022-07-24T13:47:32.782Z"
   },
   {
    "duration": 104,
    "start_time": "2022-07-24T13:47:33.130Z"
   },
   {
    "duration": 254,
    "start_time": "2022-07-24T13:48:26.706Z"
   },
   {
    "duration": 1114,
    "start_time": "2022-07-24T13:49:59.052Z"
   },
   {
    "duration": 35,
    "start_time": "2022-07-24T13:50:00.168Z"
   },
   {
    "duration": 12,
    "start_time": "2022-07-24T13:50:00.205Z"
   },
   {
    "duration": 23,
    "start_time": "2022-07-24T13:50:00.219Z"
   },
   {
    "duration": 61,
    "start_time": "2022-07-24T13:50:00.244Z"
   },
   {
    "duration": 8,
    "start_time": "2022-07-24T13:50:00.307Z"
   },
   {
    "duration": 18,
    "start_time": "2022-07-24T13:50:00.317Z"
   },
   {
    "duration": 6,
    "start_time": "2022-07-24T13:50:00.338Z"
   },
   {
    "duration": 49,
    "start_time": "2022-07-24T13:50:00.346Z"
   },
   {
    "duration": 304,
    "start_time": "2022-07-24T13:50:00.397Z"
   },
   {
    "duration": 385,
    "start_time": "2022-07-24T13:50:00.703Z"
   },
   {
    "duration": 298,
    "start_time": "2022-07-24T13:50:01.090Z"
   },
   {
    "duration": 363,
    "start_time": "2022-07-24T13:50:01.390Z"
   },
   {
    "duration": 251,
    "start_time": "2022-07-24T13:50:01.763Z"
   },
   {
    "duration": 293,
    "start_time": "2022-07-24T13:50:07.557Z"
   },
   {
    "duration": 460,
    "start_time": "2022-07-24T13:52:57.741Z"
   },
   {
    "duration": 295,
    "start_time": "2022-07-24T13:53:06.696Z"
   },
   {
    "duration": 259,
    "start_time": "2022-07-24T13:55:24.950Z"
   },
   {
    "duration": 335,
    "start_time": "2022-07-24T13:55:39.412Z"
   },
   {
    "duration": 107,
    "start_time": "2022-07-24T14:05:57.582Z"
   },
   {
    "duration": 15,
    "start_time": "2022-07-24T14:06:54.808Z"
   },
   {
    "duration": 480,
    "start_time": "2022-07-24T14:07:02.347Z"
   },
   {
    "duration": 379,
    "start_time": "2022-07-24T14:07:12.598Z"
   },
   {
    "duration": 415,
    "start_time": "2022-07-24T14:09:14.448Z"
   },
   {
    "duration": 402,
    "start_time": "2022-07-24T14:10:11.080Z"
   },
   {
    "duration": 340,
    "start_time": "2022-07-24T14:10:20.109Z"
   },
   {
    "duration": 381,
    "start_time": "2022-07-24T14:10:36.657Z"
   },
   {
    "duration": 18,
    "start_time": "2022-07-24T15:34:03.139Z"
   },
   {
    "duration": 15,
    "start_time": "2022-07-24T15:34:12.682Z"
   },
   {
    "duration": 14,
    "start_time": "2022-07-24T15:34:20.383Z"
   },
   {
    "duration": 14,
    "start_time": "2022-07-24T15:34:38.594Z"
   },
   {
    "duration": 14,
    "start_time": "2022-07-24T15:34:46.286Z"
   },
   {
    "duration": 22,
    "start_time": "2022-07-24T15:35:02.654Z"
   },
   {
    "duration": 195,
    "start_time": "2022-07-24T15:35:25.036Z"
   },
   {
    "duration": 220,
    "start_time": "2022-07-24T15:35:39.868Z"
   },
   {
    "duration": 17,
    "start_time": "2022-07-24T15:35:53.639Z"
   },
   {
    "duration": 159,
    "start_time": "2022-07-24T15:36:01.895Z"
   },
   {
    "duration": 156,
    "start_time": "2022-07-24T15:36:51.954Z"
   },
   {
    "duration": 164,
    "start_time": "2022-07-24T15:36:58.856Z"
   },
   {
    "duration": 19,
    "start_time": "2022-07-24T15:37:49.157Z"
   },
   {
    "duration": 234,
    "start_time": "2022-07-24T15:38:04.568Z"
   },
   {
    "duration": 170,
    "start_time": "2022-07-24T15:43:49.489Z"
   },
   {
    "duration": 168,
    "start_time": "2022-07-24T15:44:06.081Z"
   },
   {
    "duration": 168,
    "start_time": "2022-07-24T15:44:11.054Z"
   },
   {
    "duration": 177,
    "start_time": "2022-07-24T15:44:15.856Z"
   },
   {
    "duration": 175,
    "start_time": "2022-07-24T15:44:33.325Z"
   },
   {
    "duration": 5,
    "start_time": "2022-07-24T16:06:08.753Z"
   },
   {
    "duration": 4,
    "start_time": "2022-07-24T16:14:35.454Z"
   },
   {
    "duration": 5,
    "start_time": "2022-07-24T16:14:38.528Z"
   },
   {
    "duration": 8,
    "start_time": "2022-07-24T16:14:41.772Z"
   },
   {
    "duration": 4,
    "start_time": "2022-07-24T16:14:48.630Z"
   },
   {
    "duration": 7,
    "start_time": "2022-07-24T16:14:59.066Z"
   },
   {
    "duration": 4,
    "start_time": "2022-07-24T16:15:09.580Z"
   },
   {
    "duration": 5,
    "start_time": "2022-07-24T16:15:21.186Z"
   },
   {
    "duration": 5,
    "start_time": "2022-07-24T16:17:05.820Z"
   },
   {
    "duration": 7,
    "start_time": "2022-07-24T16:19:59.731Z"
   },
   {
    "duration": 13,
    "start_time": "2022-07-24T16:20:12.855Z"
   },
   {
    "duration": 12,
    "start_time": "2022-07-24T16:20:40.361Z"
   },
   {
    "duration": 173,
    "start_time": "2022-07-24T16:20:44.845Z"
   },
   {
    "duration": 799,
    "start_time": "2022-07-24T16:21:33.687Z"
   },
   {
    "duration": 146,
    "start_time": "2022-07-24T16:22:20.705Z"
   },
   {
    "duration": 151,
    "start_time": "2022-07-24T16:24:46.988Z"
   },
   {
    "duration": 165,
    "start_time": "2022-07-24T16:25:07.336Z"
   },
   {
    "duration": 198,
    "start_time": "2022-07-24T16:26:17.280Z"
   },
   {
    "duration": 110,
    "start_time": "2022-07-24T16:55:57.809Z"
   },
   {
    "duration": 1197,
    "start_time": "2022-07-24T20:52:07.033Z"
   },
   {
    "duration": 36,
    "start_time": "2022-07-24T20:52:08.232Z"
   },
   {
    "duration": 12,
    "start_time": "2022-07-24T20:52:08.269Z"
   },
   {
    "duration": 10,
    "start_time": "2022-07-24T20:52:08.283Z"
   },
   {
    "duration": 61,
    "start_time": "2022-07-24T20:52:08.295Z"
   },
   {
    "duration": 8,
    "start_time": "2022-07-24T20:52:08.358Z"
   },
   {
    "duration": 17,
    "start_time": "2022-07-24T20:52:08.368Z"
   },
   {
    "duration": 3,
    "start_time": "2022-07-24T20:52:08.387Z"
   },
   {
    "duration": 33,
    "start_time": "2022-07-24T20:52:08.392Z"
   },
   {
    "duration": 285,
    "start_time": "2022-07-24T20:52:08.436Z"
   },
   {
    "duration": 394,
    "start_time": "2022-07-24T20:52:08.723Z"
   },
   {
    "duration": 279,
    "start_time": "2022-07-24T20:52:09.118Z"
   },
   {
    "duration": 334,
    "start_time": "2022-07-24T20:52:09.399Z"
   },
   {
    "duration": 299,
    "start_time": "2022-07-24T20:52:09.736Z"
   },
   {
    "duration": 412,
    "start_time": "2022-07-24T20:52:10.036Z"
   },
   {
    "duration": 189,
    "start_time": "2022-07-24T20:52:10.450Z"
   },
   {
    "duration": 6,
    "start_time": "2022-07-24T20:52:10.641Z"
   },
   {
    "duration": 189,
    "start_time": "2022-07-24T20:52:10.649Z"
   },
   {
    "duration": 213,
    "start_time": "2022-07-24T20:52:10.840Z"
   },
   {
    "duration": 106,
    "start_time": "2022-07-24T20:55:44.859Z"
   },
   {
    "duration": 61,
    "start_time": "2022-07-24T20:56:12.597Z"
   },
   {
    "duration": 112,
    "start_time": "2022-07-24T20:56:21.234Z"
   },
   {
    "duration": 139,
    "start_time": "2022-07-24T20:58:32.447Z"
   },
   {
    "duration": 184,
    "start_time": "2022-07-24T20:59:26.868Z"
   },
   {
    "duration": 163,
    "start_time": "2022-07-24T21:08:37.926Z"
   },
   {
    "duration": 237,
    "start_time": "2022-07-24T21:09:57.732Z"
   },
   {
    "duration": 214,
    "start_time": "2022-07-24T21:11:20.973Z"
   },
   {
    "duration": 226,
    "start_time": "2022-07-24T21:11:36.791Z"
   },
   {
    "duration": 238,
    "start_time": "2022-07-24T21:12:03.053Z"
   },
   {
    "duration": 249,
    "start_time": "2022-07-24T21:13:14.343Z"
   },
   {
    "duration": 18,
    "start_time": "2022-07-24T21:16:42.398Z"
   },
   {
    "duration": 17,
    "start_time": "2022-07-24T21:22:04.349Z"
   },
   {
    "duration": 152,
    "start_time": "2022-07-24T21:22:14.767Z"
   },
   {
    "duration": 996,
    "start_time": "2022-07-24T21:24:09.536Z"
   },
   {
    "duration": 133,
    "start_time": "2022-07-24T21:24:27.833Z"
   },
   {
    "duration": 154,
    "start_time": "2022-07-24T21:24:53.677Z"
   },
   {
    "duration": 339,
    "start_time": "2022-07-24T21:25:10.033Z"
   },
   {
    "duration": 341,
    "start_time": "2022-07-24T21:25:38.549Z"
   },
   {
    "duration": 295,
    "start_time": "2022-07-24T21:25:46.205Z"
   },
   {
    "duration": 323,
    "start_time": "2022-07-24T21:28:39.758Z"
   },
   {
    "duration": 1194,
    "start_time": "2022-07-24T21:28:53.761Z"
   },
   {
    "duration": 37,
    "start_time": "2022-07-24T21:28:54.957Z"
   },
   {
    "duration": 13,
    "start_time": "2022-07-24T21:28:54.995Z"
   },
   {
    "duration": 11,
    "start_time": "2022-07-24T21:28:55.009Z"
   },
   {
    "duration": 72,
    "start_time": "2022-07-24T21:28:55.022Z"
   },
   {
    "duration": 8,
    "start_time": "2022-07-24T21:28:55.096Z"
   },
   {
    "duration": 12,
    "start_time": "2022-07-24T21:28:55.106Z"
   },
   {
    "duration": 4,
    "start_time": "2022-07-24T21:28:55.120Z"
   },
   {
    "duration": 31,
    "start_time": "2022-07-24T21:28:55.125Z"
   },
   {
    "duration": 292,
    "start_time": "2022-07-24T21:28:55.166Z"
   },
   {
    "duration": 337,
    "start_time": "2022-07-24T21:28:55.459Z"
   },
   {
    "duration": 275,
    "start_time": "2022-07-24T21:28:55.797Z"
   },
   {
    "duration": 355,
    "start_time": "2022-07-24T21:28:56.073Z"
   },
   {
    "duration": 275,
    "start_time": "2022-07-24T21:28:56.430Z"
   },
   {
    "duration": 327,
    "start_time": "2022-07-24T21:28:56.706Z"
   },
   {
    "duration": 181,
    "start_time": "2022-07-24T21:28:57.036Z"
   },
   {
    "duration": 5,
    "start_time": "2022-07-24T21:28:57.219Z"
   },
   {
    "duration": 186,
    "start_time": "2022-07-24T21:28:57.226Z"
   },
   {
    "duration": 229,
    "start_time": "2022-07-24T21:28:57.414Z"
   },
   {
    "duration": 319,
    "start_time": "2022-07-24T21:28:57.645Z"
   },
   {
    "duration": 6,
    "start_time": "2022-07-24T21:29:24.888Z"
   },
   {
    "duration": 322,
    "start_time": "2022-07-24T21:29:27.372Z"
   },
   {
    "duration": 303,
    "start_time": "2022-07-24T21:29:33.772Z"
   },
   {
    "duration": 307,
    "start_time": "2022-07-24T21:29:38.024Z"
   },
   {
    "duration": 329,
    "start_time": "2022-07-24T21:29:57.357Z"
   },
   {
    "duration": 164,
    "start_time": "2022-07-24T21:30:21.810Z"
   },
   {
    "duration": 128,
    "start_time": "2022-07-24T21:30:32.701Z"
   },
   {
    "duration": 119,
    "start_time": "2022-07-24T21:30:43.112Z"
   },
   {
    "duration": 10,
    "start_time": "2022-07-24T21:31:26.941Z"
   },
   {
    "duration": 233,
    "start_time": "2022-07-24T21:33:39.660Z"
   },
   {
    "duration": 310,
    "start_time": "2022-07-24T21:33:46.238Z"
   },
   {
    "duration": 318,
    "start_time": "2022-07-24T21:33:52.075Z"
   },
   {
    "duration": 6,
    "start_time": "2022-07-24T21:35:28.439Z"
   },
   {
    "duration": 6,
    "start_time": "2022-07-24T21:35:44.543Z"
   },
   {
    "duration": 5,
    "start_time": "2022-07-24T21:35:59.239Z"
   },
   {
    "duration": 321,
    "start_time": "2022-07-24T21:38:28.488Z"
   },
   {
    "duration": 195,
    "start_time": "2022-07-24T21:42:56.360Z"
   },
   {
    "duration": 202,
    "start_time": "2022-07-24T21:44:44.054Z"
   },
   {
    "duration": 50,
    "start_time": "2022-07-24T21:48:44.739Z"
   },
   {
    "duration": 85,
    "start_time": "2022-07-24T21:48:50.714Z"
   },
   {
    "duration": 201,
    "start_time": "2022-07-24T21:48:53.125Z"
   },
   {
    "duration": 184,
    "start_time": "2022-07-24T21:49:18.986Z"
   },
   {
    "duration": 179,
    "start_time": "2022-07-24T21:50:07.555Z"
   },
   {
    "duration": 193,
    "start_time": "2022-07-24T21:50:10.203Z"
   },
   {
    "duration": 178,
    "start_time": "2022-07-24T21:50:51.792Z"
   },
   {
    "duration": 178,
    "start_time": "2022-07-24T21:51:17.823Z"
   },
   {
    "duration": 178,
    "start_time": "2022-07-24T21:51:24.442Z"
   },
   {
    "duration": 182,
    "start_time": "2022-07-24T21:51:39.670Z"
   },
   {
    "duration": 156,
    "start_time": "2022-07-24T21:52:01.022Z"
   },
   {
    "duration": 193,
    "start_time": "2022-07-24T21:57:43.884Z"
   },
   {
    "duration": 193,
    "start_time": "2022-07-24T22:00:19.388Z"
   },
   {
    "duration": 185,
    "start_time": "2022-07-24T22:00:29.510Z"
   },
   {
    "duration": 186,
    "start_time": "2022-07-24T22:00:46.145Z"
   },
   {
    "duration": 12,
    "start_time": "2022-07-24T22:04:13.932Z"
   },
   {
    "duration": 4,
    "start_time": "2022-07-24T22:05:11.244Z"
   },
   {
    "duration": 4,
    "start_time": "2022-07-24T22:05:14.953Z"
   },
   {
    "duration": 19,
    "start_time": "2022-07-24T22:05:35.782Z"
   },
   {
    "duration": 13,
    "start_time": "2022-07-24T22:05:51.050Z"
   },
   {
    "duration": 57,
    "start_time": "2022-07-24T22:06:48.028Z"
   },
   {
    "duration": 51,
    "start_time": "2022-07-24T22:06:57.288Z"
   },
   {
    "duration": 185,
    "start_time": "2022-07-24T22:08:29.503Z"
   },
   {
    "duration": 180,
    "start_time": "2022-07-24T22:08:41.472Z"
   },
   {
    "duration": 181,
    "start_time": "2022-07-24T22:09:07.985Z"
   },
   {
    "duration": 70,
    "start_time": "2022-07-24T22:10:34.025Z"
   },
   {
    "duration": 14,
    "start_time": "2022-07-24T22:10:39.961Z"
   },
   {
    "duration": 12,
    "start_time": "2022-07-24T22:11:09.604Z"
   },
   {
    "duration": 15,
    "start_time": "2022-07-24T22:11:22.613Z"
   },
   {
    "duration": 190,
    "start_time": "2022-07-24T22:11:35.955Z"
   },
   {
    "duration": 13,
    "start_time": "2022-07-24T22:11:40.047Z"
   },
   {
    "duration": 5,
    "start_time": "2022-07-24T22:27:52.115Z"
   },
   {
    "duration": 5,
    "start_time": "2022-07-24T22:28:19.939Z"
   },
   {
    "duration": 54,
    "start_time": "2022-07-24T22:29:17.507Z"
   },
   {
    "duration": 66,
    "start_time": "2022-07-24T22:29:40.976Z"
   },
   {
    "duration": 66,
    "start_time": "2022-07-24T22:30:25.320Z"
   },
   {
    "duration": 68,
    "start_time": "2022-07-24T22:30:38.796Z"
   },
   {
    "duration": 45,
    "start_time": "2022-07-24T22:30:42.942Z"
   },
   {
    "duration": 46,
    "start_time": "2022-07-24T22:30:49.899Z"
   },
   {
    "duration": 105,
    "start_time": "2022-07-24T22:30:53.128Z"
   },
   {
    "duration": 64,
    "start_time": "2022-07-24T22:31:03.603Z"
   },
   {
    "duration": 3,
    "start_time": "2022-07-24T22:31:15.606Z"
   },
   {
    "duration": 5,
    "start_time": "2022-07-24T22:31:23.273Z"
   },
   {
    "duration": 12,
    "start_time": "2022-07-24T22:31:27.287Z"
   },
   {
    "duration": 14,
    "start_time": "2022-07-24T22:31:30.829Z"
   },
   {
    "duration": 15,
    "start_time": "2022-07-24T22:33:52.116Z"
   },
   {
    "duration": 4,
    "start_time": "2022-07-24T22:34:01.341Z"
   },
   {
    "duration": 14,
    "start_time": "2022-07-24T22:36:29.448Z"
   },
   {
    "duration": 9,
    "start_time": "2022-07-24T22:38:41.655Z"
   },
   {
    "duration": 11,
    "start_time": "2022-07-24T22:38:51.465Z"
   },
   {
    "duration": 11,
    "start_time": "2022-07-24T22:39:00.859Z"
   },
   {
    "duration": 9,
    "start_time": "2022-07-24T22:39:05.572Z"
   },
   {
    "duration": 14,
    "start_time": "2022-07-24T22:41:20.536Z"
   },
   {
    "duration": 11,
    "start_time": "2022-07-24T22:41:33.522Z"
   },
   {
    "duration": 16,
    "start_time": "2022-07-24T22:41:40.843Z"
   },
   {
    "duration": 14,
    "start_time": "2022-07-24T22:41:45.336Z"
   },
   {
    "duration": 17,
    "start_time": "2022-07-24T22:41:49.958Z"
   },
   {
    "duration": 13,
    "start_time": "2022-07-24T22:41:55.937Z"
   },
   {
    "duration": 13,
    "start_time": "2022-07-24T22:42:00.175Z"
   },
   {
    "duration": 9,
    "start_time": "2022-07-24T22:42:18.012Z"
   },
   {
    "duration": 174,
    "start_time": "2022-07-24T22:43:17.018Z"
   },
   {
    "duration": 172,
    "start_time": "2022-07-24T22:43:34.301Z"
   },
   {
    "duration": 173,
    "start_time": "2022-07-24T22:43:54.124Z"
   },
   {
    "duration": 11,
    "start_time": "2022-07-24T22:52:22.908Z"
   },
   {
    "duration": 14,
    "start_time": "2022-07-24T22:52:29.487Z"
   },
   {
    "duration": 13,
    "start_time": "2022-07-24T22:52:32.416Z"
   },
   {
    "duration": 15,
    "start_time": "2022-07-24T22:54:20.735Z"
   },
   {
    "duration": 13,
    "start_time": "2022-07-24T22:55:25.536Z"
   },
   {
    "duration": 15,
    "start_time": "2022-07-24T22:55:32.012Z"
   },
   {
    "duration": 13,
    "start_time": "2022-07-24T22:55:38.202Z"
   },
   {
    "duration": 13,
    "start_time": "2022-07-24T22:55:45.853Z"
   },
   {
    "duration": 14,
    "start_time": "2022-07-24T22:55:50.625Z"
   },
   {
    "duration": 14,
    "start_time": "2022-07-24T22:55:55.091Z"
   },
   {
    "duration": 14,
    "start_time": "2022-07-24T22:56:24.175Z"
   },
   {
    "duration": 1127,
    "start_time": "2022-07-24T22:56:31.151Z"
   },
   {
    "duration": 37,
    "start_time": "2022-07-24T22:56:32.280Z"
   },
   {
    "duration": 10,
    "start_time": "2022-07-24T22:56:32.319Z"
   },
   {
    "duration": 10,
    "start_time": "2022-07-24T22:56:32.331Z"
   },
   {
    "duration": 53,
    "start_time": "2022-07-24T22:56:32.342Z"
   },
   {
    "duration": 9,
    "start_time": "2022-07-24T22:56:32.397Z"
   },
   {
    "duration": 18,
    "start_time": "2022-07-24T22:56:32.408Z"
   },
   {
    "duration": 4,
    "start_time": "2022-07-24T22:56:32.428Z"
   },
   {
    "duration": 32,
    "start_time": "2022-07-24T22:56:32.433Z"
   },
   {
    "duration": 316,
    "start_time": "2022-07-24T22:56:32.469Z"
   },
   {
    "duration": 341,
    "start_time": "2022-07-24T22:56:32.787Z"
   },
   {
    "duration": 257,
    "start_time": "2022-07-24T22:56:33.130Z"
   },
   {
    "duration": 335,
    "start_time": "2022-07-24T22:56:33.388Z"
   },
   {
    "duration": 267,
    "start_time": "2022-07-24T22:56:33.725Z"
   },
   {
    "duration": 331,
    "start_time": "2022-07-24T22:56:33.994Z"
   },
   {
    "duration": 159,
    "start_time": "2022-07-24T22:56:34.327Z"
   },
   {
    "duration": 5,
    "start_time": "2022-07-24T22:56:34.488Z"
   },
   {
    "duration": 159,
    "start_time": "2022-07-24T22:56:34.494Z"
   },
   {
    "duration": 221,
    "start_time": "2022-07-24T22:56:34.655Z"
   },
   {
    "duration": 130,
    "start_time": "2022-07-24T22:56:34.878Z"
   },
   {
    "duration": 181,
    "start_time": "2022-07-24T22:56:35.010Z"
   },
   {
    "duration": 11,
    "start_time": "2022-07-24T22:56:35.193Z"
   },
   {
    "duration": 9,
    "start_time": "2022-07-24T22:56:35.205Z"
   },
   {
    "duration": 15,
    "start_time": "2022-07-24T22:56:35.216Z"
   },
   {
    "duration": 205,
    "start_time": "2022-07-24T22:56:35.232Z"
   },
   {
    "duration": 13,
    "start_time": "2022-07-24T22:56:35.439Z"
   },
   {
    "duration": 6,
    "start_time": "2022-07-24T23:01:47.130Z"
   },
   {
    "duration": 5,
    "start_time": "2022-07-24T23:01:50.764Z"
   },
   {
    "duration": 4,
    "start_time": "2022-07-24T23:01:53.715Z"
   },
   {
    "duration": 5,
    "start_time": "2022-07-24T23:01:58.978Z"
   },
   {
    "duration": 4,
    "start_time": "2022-07-24T23:02:01.466Z"
   },
   {
    "duration": 4,
    "start_time": "2022-07-24T23:02:07.875Z"
   },
   {
    "duration": 1074,
    "start_time": "2022-07-24T23:14:53.402Z"
   },
   {
    "duration": 35,
    "start_time": "2022-07-24T23:14:54.478Z"
   },
   {
    "duration": 11,
    "start_time": "2022-07-24T23:14:54.515Z"
   },
   {
    "duration": 9,
    "start_time": "2022-07-24T23:14:54.528Z"
   },
   {
    "duration": 55,
    "start_time": "2022-07-24T23:14:54.539Z"
   },
   {
    "duration": 7,
    "start_time": "2022-07-24T23:14:54.596Z"
   },
   {
    "duration": 11,
    "start_time": "2022-07-24T23:14:54.605Z"
   },
   {
    "duration": 3,
    "start_time": "2022-07-24T23:14:54.617Z"
   },
   {
    "duration": 29,
    "start_time": "2022-07-24T23:14:54.621Z"
   },
   {
    "duration": 271,
    "start_time": "2022-07-24T23:14:54.653Z"
   },
   {
    "duration": 329,
    "start_time": "2022-07-24T23:14:54.926Z"
   },
   {
    "duration": 253,
    "start_time": "2022-07-24T23:14:55.257Z"
   },
   {
    "duration": 354,
    "start_time": "2022-07-24T23:14:55.512Z"
   },
   {
    "duration": 271,
    "start_time": "2022-07-24T23:14:55.867Z"
   },
   {
    "duration": 392,
    "start_time": "2022-07-24T23:14:56.140Z"
   },
   {
    "duration": 148,
    "start_time": "2022-07-24T23:14:56.533Z"
   },
   {
    "duration": 3,
    "start_time": "2022-07-24T23:14:56.683Z"
   },
   {
    "duration": 169,
    "start_time": "2022-07-24T23:14:56.688Z"
   },
   {
    "duration": 218,
    "start_time": "2022-07-24T23:14:56.863Z"
   },
   {
    "duration": 143,
    "start_time": "2022-07-24T23:14:57.082Z"
   },
   {
    "duration": 202,
    "start_time": "2022-07-24T23:14:57.227Z"
   },
   {
    "duration": 11,
    "start_time": "2022-07-24T23:14:57.431Z"
   },
   {
    "duration": 20,
    "start_time": "2022-07-24T23:14:57.444Z"
   },
   {
    "duration": 15,
    "start_time": "2022-07-24T23:14:57.465Z"
   },
   {
    "duration": 190,
    "start_time": "2022-07-24T23:14:57.481Z"
   },
   {
    "duration": 14,
    "start_time": "2022-07-24T23:14:57.672Z"
   },
   {
    "duration": 5,
    "start_time": "2022-07-24T23:15:34.919Z"
   },
   {
    "duration": 226,
    "start_time": "2022-07-24T23:16:01.446Z"
   },
   {
    "duration": 201,
    "start_time": "2022-07-24T23:16:35.693Z"
   },
   {
    "duration": 4,
    "start_time": "2022-07-24T23:17:40.840Z"
   },
   {
    "duration": 90,
    "start_time": "2022-07-24T23:17:59.762Z"
   },
   {
    "duration": 14,
    "start_time": "2022-07-24T23:18:05.944Z"
   },
   {
    "duration": 17,
    "start_time": "2022-07-24T23:18:23.153Z"
   },
   {
    "duration": 13,
    "start_time": "2022-07-24T23:18:36.379Z"
   },
   {
    "duration": 12,
    "start_time": "2022-07-24T23:19:06.938Z"
   },
   {
    "duration": 5,
    "start_time": "2022-07-24T23:19:15.169Z"
   },
   {
    "duration": 35,
    "start_time": "2022-07-24T23:19:15.177Z"
   },
   {
    "duration": 10,
    "start_time": "2022-07-24T23:19:15.214Z"
   },
   {
    "duration": 12,
    "start_time": "2022-07-24T23:19:15.225Z"
   },
   {
    "duration": 56,
    "start_time": "2022-07-24T23:19:15.239Z"
   },
   {
    "duration": 8,
    "start_time": "2022-07-24T23:19:15.296Z"
   },
   {
    "duration": 95,
    "start_time": "2022-07-24T23:19:15.306Z"
   },
   {
    "duration": 4,
    "start_time": "2022-07-24T23:19:15.403Z"
   },
   {
    "duration": 33,
    "start_time": "2022-07-24T23:19:15.409Z"
   },
   {
    "duration": 266,
    "start_time": "2022-07-24T23:19:15.444Z"
   },
   {
    "duration": 258,
    "start_time": "2022-07-24T23:19:15.712Z"
   },
   {
    "duration": 268,
    "start_time": "2022-07-24T23:19:15.972Z"
   },
   {
    "duration": 363,
    "start_time": "2022-07-24T23:19:16.242Z"
   },
   {
    "duration": 259,
    "start_time": "2022-07-24T23:19:16.607Z"
   },
   {
    "duration": 341,
    "start_time": "2022-07-24T23:19:16.867Z"
   },
   {
    "duration": 159,
    "start_time": "2022-07-24T23:19:17.209Z"
   },
   {
    "duration": 4,
    "start_time": "2022-07-24T23:19:17.370Z"
   },
   {
    "duration": 162,
    "start_time": "2022-07-24T23:19:17.376Z"
   },
   {
    "duration": 225,
    "start_time": "2022-07-24T23:19:17.539Z"
   },
   {
    "duration": 124,
    "start_time": "2022-07-24T23:19:17.766Z"
   },
   {
    "duration": 185,
    "start_time": "2022-07-24T23:19:17.891Z"
   },
   {
    "duration": 12,
    "start_time": "2022-07-24T23:19:20.484Z"
   },
   {
    "duration": 177,
    "start_time": "2022-07-24T23:19:44.410Z"
   },
   {
    "duration": 19,
    "start_time": "2022-07-24T23:20:01.524Z"
   },
   {
    "duration": 20,
    "start_time": "2022-07-24T23:20:15.228Z"
   },
   {
    "duration": 18,
    "start_time": "2022-07-24T23:20:36.110Z"
   },
   {
    "duration": 19,
    "start_time": "2022-07-24T23:20:47.709Z"
   },
   {
    "duration": 16,
    "start_time": "2022-07-24T23:21:02.703Z"
   },
   {
    "duration": 17,
    "start_time": "2022-07-24T23:21:50.640Z"
   },
   {
    "duration": 14,
    "start_time": "2022-07-24T23:23:06.093Z"
   },
   {
    "duration": 5,
    "start_time": "2022-07-24T23:46:24.915Z"
   },
   {
    "duration": 5,
    "start_time": "2022-07-24T23:46:32.419Z"
   },
   {
    "duration": 5,
    "start_time": "2022-07-24T23:46:35.931Z"
   },
   {
    "duration": 6,
    "start_time": "2022-07-24T23:46:42.555Z"
   },
   {
    "duration": 6,
    "start_time": "2022-07-24T23:46:50.803Z"
   },
   {
    "duration": 6,
    "start_time": "2022-07-24T23:47:00.194Z"
   },
   {
    "duration": 6,
    "start_time": "2022-07-24T23:47:06.237Z"
   },
   {
    "duration": 10,
    "start_time": "2022-07-24T23:47:26.466Z"
   },
   {
    "duration": 9,
    "start_time": "2022-07-24T23:47:34.048Z"
   },
   {
    "duration": 11,
    "start_time": "2022-07-24T23:47:37.046Z"
   },
   {
    "duration": 6,
    "start_time": "2022-07-24T23:48:01.746Z"
   },
   {
    "duration": 6,
    "start_time": "2022-07-24T23:48:08.029Z"
   },
   {
    "duration": 5,
    "start_time": "2022-07-24T23:48:43.138Z"
   },
   {
    "duration": 12,
    "start_time": "2022-07-24T23:48:52.428Z"
   },
   {
    "duration": 6,
    "start_time": "2022-07-24T23:49:09.523Z"
   },
   {
    "duration": 10,
    "start_time": "2022-07-24T23:50:49.354Z"
   },
   {
    "duration": 7,
    "start_time": "2022-07-24T23:50:54.279Z"
   },
   {
    "duration": 8,
    "start_time": "2022-07-24T23:51:08.822Z"
   },
   {
    "duration": 212,
    "start_time": "2022-07-24T23:51:59.645Z"
   },
   {
    "duration": 4,
    "start_time": "2022-07-24T23:52:44.982Z"
   },
   {
    "duration": 43,
    "start_time": "2022-07-24T23:52:44.987Z"
   },
   {
    "duration": 11,
    "start_time": "2022-07-24T23:52:45.032Z"
   },
   {
    "duration": 10,
    "start_time": "2022-07-24T23:52:45.045Z"
   },
   {
    "duration": 78,
    "start_time": "2022-07-24T23:52:45.057Z"
   },
   {
    "duration": 8,
    "start_time": "2022-07-24T23:52:45.137Z"
   },
   {
    "duration": 13,
    "start_time": "2022-07-24T23:52:45.147Z"
   },
   {
    "duration": 4,
    "start_time": "2022-07-24T23:52:45.162Z"
   },
   {
    "duration": 33,
    "start_time": "2022-07-24T23:52:45.167Z"
   },
   {
    "duration": 271,
    "start_time": "2022-07-24T23:52:45.203Z"
   },
   {
    "duration": 254,
    "start_time": "2022-07-24T23:52:45.476Z"
   },
   {
    "duration": 260,
    "start_time": "2022-07-24T23:52:45.732Z"
   },
   {
    "duration": 342,
    "start_time": "2022-07-24T23:52:45.994Z"
   },
   {
    "duration": 340,
    "start_time": "2022-07-24T23:52:46.337Z"
   },
   {
    "duration": 333,
    "start_time": "2022-07-24T23:52:46.679Z"
   },
   {
    "duration": 164,
    "start_time": "2022-07-24T23:52:47.013Z"
   },
   {
    "duration": 4,
    "start_time": "2022-07-24T23:52:47.179Z"
   },
   {
    "duration": 158,
    "start_time": "2022-07-24T23:52:47.184Z"
   },
   {
    "duration": 208,
    "start_time": "2022-07-24T23:52:54.746Z"
   },
   {
    "duration": 1191,
    "start_time": "2022-07-24T23:54:18.530Z"
   },
   {
    "duration": 35,
    "start_time": "2022-07-24T23:54:19.723Z"
   },
   {
    "duration": 12,
    "start_time": "2022-07-24T23:54:19.759Z"
   },
   {
    "duration": 10,
    "start_time": "2022-07-24T23:54:19.772Z"
   },
   {
    "duration": 55,
    "start_time": "2022-07-24T23:54:19.784Z"
   },
   {
    "duration": 7,
    "start_time": "2022-07-24T23:54:19.841Z"
   },
   {
    "duration": 11,
    "start_time": "2022-07-24T23:54:19.850Z"
   },
   {
    "duration": 3,
    "start_time": "2022-07-24T23:54:19.863Z"
   },
   {
    "duration": 34,
    "start_time": "2022-07-24T23:54:19.868Z"
   },
   {
    "duration": 275,
    "start_time": "2022-07-24T23:54:19.905Z"
   },
   {
    "duration": 355,
    "start_time": "2022-07-24T23:54:20.182Z"
   },
   {
    "duration": 278,
    "start_time": "2022-07-24T23:54:20.539Z"
   },
   {
    "duration": 373,
    "start_time": "2022-07-24T23:54:20.818Z"
   },
   {
    "duration": 273,
    "start_time": "2022-07-24T23:54:21.193Z"
   },
   {
    "duration": 353,
    "start_time": "2022-07-24T23:54:21.467Z"
   },
   {
    "duration": 164,
    "start_time": "2022-07-24T23:54:21.822Z"
   },
   {
    "duration": 4,
    "start_time": "2022-07-24T23:54:21.988Z"
   },
   {
    "duration": 167,
    "start_time": "2022-07-24T23:54:21.993Z"
   },
   {
    "duration": 229,
    "start_time": "2022-07-24T23:54:22.163Z"
   },
   {
    "duration": 175,
    "start_time": "2022-07-24T23:54:22.393Z"
   },
   {
    "duration": 195,
    "start_time": "2022-07-24T23:54:22.571Z"
   },
   {
    "duration": 8,
    "start_time": "2022-07-24T23:54:22.768Z"
   },
   {
    "duration": 12,
    "start_time": "2022-07-24T23:54:22.778Z"
   },
   {
    "duration": 8,
    "start_time": "2022-07-24T23:54:22.792Z"
   },
   {
    "duration": 16,
    "start_time": "2022-07-24T23:54:22.802Z"
   },
   {
    "duration": 202,
    "start_time": "2022-07-24T23:54:22.819Z"
   },
   {
    "duration": 13,
    "start_time": "2022-07-24T23:54:23.023Z"
   },
   {
    "duration": 11,
    "start_time": "2022-07-24T23:56:31.057Z"
   },
   {
    "duration": 8,
    "start_time": "2022-07-24T23:56:39.460Z"
   },
   {
    "duration": 9,
    "start_time": "2022-07-24T23:56:44.183Z"
   },
   {
    "duration": 4,
    "start_time": "2022-07-24T23:57:05.071Z"
   },
   {
    "duration": 47,
    "start_time": "2022-07-24T23:57:05.078Z"
   },
   {
    "duration": 10,
    "start_time": "2022-07-24T23:57:05.127Z"
   },
   {
    "duration": 12,
    "start_time": "2022-07-24T23:57:05.139Z"
   },
   {
    "duration": 57,
    "start_time": "2022-07-24T23:57:05.153Z"
   },
   {
    "duration": 7,
    "start_time": "2022-07-24T23:57:05.212Z"
   },
   {
    "duration": 17,
    "start_time": "2022-07-24T23:57:05.221Z"
   },
   {
    "duration": 5,
    "start_time": "2022-07-24T23:57:05.239Z"
   },
   {
    "duration": 34,
    "start_time": "2022-07-24T23:57:05.245Z"
   },
   {
    "duration": 272,
    "start_time": "2022-07-24T23:57:05.280Z"
   },
   {
    "duration": 328,
    "start_time": "2022-07-24T23:57:05.555Z"
   },
   {
    "duration": 257,
    "start_time": "2022-07-24T23:57:05.884Z"
   },
   {
    "duration": 361,
    "start_time": "2022-07-24T23:57:06.142Z"
   },
   {
    "duration": 255,
    "start_time": "2022-07-24T23:57:06.505Z"
   },
   {
    "duration": 351,
    "start_time": "2022-07-24T23:57:06.762Z"
   },
   {
    "duration": 163,
    "start_time": "2022-07-24T23:57:07.115Z"
   },
   {
    "duration": 4,
    "start_time": "2022-07-24T23:57:07.279Z"
   },
   {
    "duration": 162,
    "start_time": "2022-07-24T23:57:07.284Z"
   },
   {
    "duration": 227,
    "start_time": "2022-07-24T23:57:07.448Z"
   },
   {
    "duration": 8,
    "start_time": "2022-07-24T23:57:10.287Z"
   },
   {
    "duration": 219,
    "start_time": "2022-07-24T23:58:01.020Z"
   },
   {
    "duration": 8,
    "start_time": "2022-07-24T23:58:12.316Z"
   },
   {
    "duration": 124,
    "start_time": "2022-07-24T23:58:13.974Z"
   },
   {
    "duration": 24,
    "start_time": "2022-07-24T23:58:15.726Z"
   },
   {
    "duration": 8,
    "start_time": "2022-07-24T23:58:16.167Z"
   },
   {
    "duration": 8,
    "start_time": "2022-07-24T23:58:21.470Z"
   },
   {
    "duration": 1144,
    "start_time": "2022-07-24T23:58:58.537Z"
   },
   {
    "duration": 35,
    "start_time": "2022-07-24T23:58:59.683Z"
   },
   {
    "duration": 11,
    "start_time": "2022-07-24T23:58:59.719Z"
   },
   {
    "duration": 11,
    "start_time": "2022-07-24T23:58:59.731Z"
   },
   {
    "duration": 53,
    "start_time": "2022-07-24T23:58:59.743Z"
   },
   {
    "duration": 7,
    "start_time": "2022-07-24T23:58:59.798Z"
   },
   {
    "duration": 12,
    "start_time": "2022-07-24T23:58:59.807Z"
   },
   {
    "duration": 4,
    "start_time": "2022-07-24T23:58:59.820Z"
   },
   {
    "duration": 30,
    "start_time": "2022-07-24T23:58:59.825Z"
   },
   {
    "duration": 277,
    "start_time": "2022-07-24T23:58:59.857Z"
   },
   {
    "duration": 362,
    "start_time": "2022-07-24T23:59:00.136Z"
   },
   {
    "duration": 279,
    "start_time": "2022-07-24T23:59:00.500Z"
   },
   {
    "duration": 359,
    "start_time": "2022-07-24T23:59:00.780Z"
   },
   {
    "duration": 277,
    "start_time": "2022-07-24T23:59:01.141Z"
   },
   {
    "duration": 357,
    "start_time": "2022-07-24T23:59:01.420Z"
   },
   {
    "duration": 176,
    "start_time": "2022-07-24T23:59:01.779Z"
   },
   {
    "duration": 9,
    "start_time": "2022-07-24T23:59:01.957Z"
   },
   {
    "duration": 189,
    "start_time": "2022-07-24T23:59:01.967Z"
   },
   {
    "duration": 231,
    "start_time": "2022-07-24T23:59:02.157Z"
   },
   {
    "duration": 7,
    "start_time": "2022-07-24T23:59:02.389Z"
   },
   {
    "duration": 133,
    "start_time": "2022-07-24T23:59:02.398Z"
   },
   {
    "duration": 37,
    "start_time": "2022-07-24T23:59:02.533Z"
   },
   {
    "duration": 14,
    "start_time": "2022-07-24T23:59:02.572Z"
   },
   {
    "duration": 13,
    "start_time": "2022-07-24T23:59:02.588Z"
   },
   {
    "duration": 9,
    "start_time": "2022-07-24T23:59:02.603Z"
   },
   {
    "duration": 25,
    "start_time": "2022-07-24T23:59:02.614Z"
   },
   {
    "duration": 36,
    "start_time": "2022-07-24T23:59:02.641Z"
   },
   {
    "duration": 24,
    "start_time": "2022-07-25T00:00:38.228Z"
   },
   {
    "duration": 23,
    "start_time": "2022-07-25T00:00:49.711Z"
   },
   {
    "duration": 24,
    "start_time": "2022-07-25T00:00:56.833Z"
   },
   {
    "duration": 24,
    "start_time": "2022-07-25T00:01:18.614Z"
   },
   {
    "duration": 23,
    "start_time": "2022-07-25T00:01:26.301Z"
   },
   {
    "duration": 12,
    "start_time": "2022-07-25T00:02:24.097Z"
   },
   {
    "duration": 11,
    "start_time": "2022-07-25T00:02:29.409Z"
   },
   {
    "duration": 23,
    "start_time": "2022-07-25T00:03:17.383Z"
   },
   {
    "duration": 23,
    "start_time": "2022-07-25T00:03:21.976Z"
   },
   {
    "duration": 3,
    "start_time": "2022-07-25T00:14:13.878Z"
   },
   {
    "duration": 8,
    "start_time": "2022-07-25T00:19:38.519Z"
   },
   {
    "duration": 8,
    "start_time": "2022-07-25T00:19:39.229Z"
   },
   {
    "duration": 24,
    "start_time": "2022-07-25T00:19:41.511Z"
   },
   {
    "duration": 1319,
    "start_time": "2022-07-25T08:00:34.684Z"
   },
   {
    "duration": 72,
    "start_time": "2022-07-25T08:00:36.005Z"
   },
   {
    "duration": 11,
    "start_time": "2022-07-25T08:00:36.079Z"
   },
   {
    "duration": 16,
    "start_time": "2022-07-25T08:00:36.093Z"
   },
   {
    "duration": 115,
    "start_time": "2022-07-25T08:00:36.111Z"
   },
   {
    "duration": 9,
    "start_time": "2022-07-25T08:00:36.227Z"
   },
   {
    "duration": 20,
    "start_time": "2022-07-25T08:00:36.237Z"
   },
   {
    "duration": 4,
    "start_time": "2022-07-25T08:00:36.259Z"
   },
   {
    "duration": 73,
    "start_time": "2022-07-25T08:00:36.265Z"
   },
   {
    "duration": 275,
    "start_time": "2022-07-25T08:00:36.340Z"
   },
   {
    "duration": 371,
    "start_time": "2022-07-25T08:00:36.617Z"
   },
   {
    "duration": 301,
    "start_time": "2022-07-25T08:00:36.990Z"
   },
   {
    "duration": 478,
    "start_time": "2022-07-25T08:00:37.293Z"
   },
   {
    "duration": 311,
    "start_time": "2022-07-25T08:00:37.772Z"
   },
   {
    "duration": 354,
    "start_time": "2022-07-25T08:00:38.085Z"
   },
   {
    "duration": 174,
    "start_time": "2022-07-25T08:00:38.440Z"
   },
   {
    "duration": 4,
    "start_time": "2022-07-25T08:00:38.616Z"
   },
   {
    "duration": 180,
    "start_time": "2022-07-25T08:00:38.621Z"
   },
   {
    "duration": 271,
    "start_time": "2022-07-25T08:00:38.803Z"
   },
   {
    "duration": 158,
    "start_time": "2022-07-25T08:00:39.076Z"
   },
   {
    "duration": 37,
    "start_time": "2022-07-25T08:00:39.236Z"
   },
   {
    "duration": 12,
    "start_time": "2022-07-25T08:00:39.274Z"
   },
   {
    "duration": 25,
    "start_time": "2022-07-25T08:00:39.287Z"
   },
   {
    "duration": 9,
    "start_time": "2022-07-25T08:00:39.314Z"
   },
   {
    "duration": 27,
    "start_time": "2022-07-25T08:00:39.325Z"
   },
   {
    "duration": 19,
    "start_time": "2022-07-25T08:00:39.354Z"
   },
   {
    "duration": 1156,
    "start_time": "2022-07-25T08:01:35.026Z"
   },
   {
    "duration": 37,
    "start_time": "2022-07-25T08:01:36.186Z"
   },
   {
    "duration": 11,
    "start_time": "2022-07-25T08:01:36.224Z"
   },
   {
    "duration": 10,
    "start_time": "2022-07-25T08:01:36.236Z"
   },
   {
    "duration": 69,
    "start_time": "2022-07-25T08:01:36.247Z"
   },
   {
    "duration": 7,
    "start_time": "2022-07-25T08:01:36.318Z"
   },
   {
    "duration": 12,
    "start_time": "2022-07-25T08:01:36.327Z"
   },
   {
    "duration": 5,
    "start_time": "2022-07-25T08:01:36.340Z"
   },
   {
    "duration": 35,
    "start_time": "2022-07-25T08:01:36.347Z"
   },
   {
    "duration": 283,
    "start_time": "2022-07-25T08:01:36.385Z"
   },
   {
    "duration": 358,
    "start_time": "2022-07-25T08:01:36.670Z"
   },
   {
    "duration": 266,
    "start_time": "2022-07-25T08:01:37.030Z"
   },
   {
    "duration": 353,
    "start_time": "2022-07-25T08:01:37.298Z"
   },
   {
    "duration": 275,
    "start_time": "2022-07-25T08:01:37.653Z"
   },
   {
    "duration": 383,
    "start_time": "2022-07-25T08:01:37.930Z"
   },
   {
    "duration": 175,
    "start_time": "2022-07-25T08:01:38.315Z"
   },
   {
    "duration": 5,
    "start_time": "2022-07-25T08:01:38.492Z"
   },
   {
    "duration": 187,
    "start_time": "2022-07-25T08:01:38.499Z"
   },
   {
    "duration": 243,
    "start_time": "2022-07-25T08:01:38.688Z"
   },
   {
    "duration": 134,
    "start_time": "2022-07-25T08:01:38.933Z"
   },
   {
    "duration": 24,
    "start_time": "2022-07-25T08:01:39.069Z"
   },
   {
    "duration": 12,
    "start_time": "2022-07-25T08:01:39.094Z"
   },
   {
    "duration": 13,
    "start_time": "2022-07-25T08:01:39.108Z"
   },
   {
    "duration": 11,
    "start_time": "2022-07-25T08:01:39.123Z"
   },
   {
    "duration": 48,
    "start_time": "2022-07-25T08:01:39.136Z"
   },
   {
    "duration": 14,
    "start_time": "2022-07-25T08:01:39.186Z"
   },
   {
    "duration": 41,
    "start_time": "2022-07-25T08:42:29.562Z"
   },
   {
    "duration": 1153,
    "start_time": "2022-07-25T08:42:37.832Z"
   },
   {
    "duration": 37,
    "start_time": "2022-07-25T08:42:38.988Z"
   },
   {
    "duration": 11,
    "start_time": "2022-07-25T08:42:39.027Z"
   },
   {
    "duration": 10,
    "start_time": "2022-07-25T08:42:39.040Z"
   },
   {
    "duration": 62,
    "start_time": "2022-07-25T08:42:39.052Z"
   },
   {
    "duration": 7,
    "start_time": "2022-07-25T08:42:39.115Z"
   },
   {
    "duration": 14,
    "start_time": "2022-07-25T08:42:39.124Z"
   },
   {
    "duration": 3,
    "start_time": "2022-07-25T08:42:39.140Z"
   },
   {
    "duration": 30,
    "start_time": "2022-07-25T08:42:39.145Z"
   },
   {
    "duration": 282,
    "start_time": "2022-07-25T08:42:39.178Z"
   },
   {
    "duration": 335,
    "start_time": "2022-07-25T08:42:39.464Z"
   },
   {
    "duration": 270,
    "start_time": "2022-07-25T08:42:39.800Z"
   },
   {
    "duration": 351,
    "start_time": "2022-07-25T08:42:40.071Z"
   },
   {
    "duration": 274,
    "start_time": "2022-07-25T08:42:40.424Z"
   },
   {
    "duration": 334,
    "start_time": "2022-07-25T08:42:40.700Z"
   },
   {
    "duration": 163,
    "start_time": "2022-07-25T08:42:41.035Z"
   },
   {
    "duration": 5,
    "start_time": "2022-07-25T08:42:41.199Z"
   },
   {
    "duration": 184,
    "start_time": "2022-07-25T08:42:41.205Z"
   },
   {
    "duration": 42,
    "start_time": "2022-07-25T08:42:41.391Z"
   },
   {
    "duration": 131,
    "start_time": "2022-07-25T08:42:41.435Z"
   },
   {
    "duration": 24,
    "start_time": "2022-07-25T08:42:41.568Z"
   },
   {
    "duration": 11,
    "start_time": "2022-07-25T08:42:41.593Z"
   },
   {
    "duration": 12,
    "start_time": "2022-07-25T08:42:41.606Z"
   },
   {
    "duration": 8,
    "start_time": "2022-07-25T08:42:41.619Z"
   },
   {
    "duration": 45,
    "start_time": "2022-07-25T08:42:41.629Z"
   },
   {
    "duration": 13,
    "start_time": "2022-07-25T08:42:41.676Z"
   },
   {
    "duration": 42,
    "start_time": "2022-07-25T08:45:11.539Z"
   },
   {
    "duration": 1173,
    "start_time": "2022-07-25T08:45:18.657Z"
   },
   {
    "duration": 36,
    "start_time": "2022-07-25T08:45:19.832Z"
   },
   {
    "duration": 12,
    "start_time": "2022-07-25T08:45:19.870Z"
   },
   {
    "duration": 15,
    "start_time": "2022-07-25T08:45:19.883Z"
   },
   {
    "duration": 67,
    "start_time": "2022-07-25T08:45:19.900Z"
   },
   {
    "duration": 7,
    "start_time": "2022-07-25T08:45:19.968Z"
   },
   {
    "duration": 28,
    "start_time": "2022-07-25T08:45:19.976Z"
   },
   {
    "duration": 12,
    "start_time": "2022-07-25T08:45:20.006Z"
   },
   {
    "duration": 37,
    "start_time": "2022-07-25T08:45:20.019Z"
   },
   {
    "duration": 268,
    "start_time": "2022-07-25T08:45:20.057Z"
   },
   {
    "duration": 340,
    "start_time": "2022-07-25T08:45:20.326Z"
   },
   {
    "duration": 276,
    "start_time": "2022-07-25T08:45:20.668Z"
   },
   {
    "duration": 385,
    "start_time": "2022-07-25T08:45:20.945Z"
   },
   {
    "duration": 279,
    "start_time": "2022-07-25T08:45:21.333Z"
   },
   {
    "duration": 356,
    "start_time": "2022-07-25T08:45:21.614Z"
   },
   {
    "duration": 169,
    "start_time": "2022-07-25T08:45:21.972Z"
   },
   {
    "duration": 4,
    "start_time": "2022-07-25T08:45:22.143Z"
   },
   {
    "duration": 178,
    "start_time": "2022-07-25T08:45:22.149Z"
   },
   {
    "duration": 51,
    "start_time": "2022-07-25T08:45:22.329Z"
   },
   {
    "duration": 150,
    "start_time": "2022-07-25T08:45:22.382Z"
   },
   {
    "duration": 36,
    "start_time": "2022-07-25T08:45:22.534Z"
   },
   {
    "duration": 13,
    "start_time": "2022-07-25T08:45:22.573Z"
   },
   {
    "duration": 29,
    "start_time": "2022-07-25T08:45:22.588Z"
   },
   {
    "duration": 21,
    "start_time": "2022-07-25T08:45:22.620Z"
   },
   {
    "duration": 66,
    "start_time": "2022-07-25T08:45:22.643Z"
   },
   {
    "duration": 18,
    "start_time": "2022-07-25T08:45:22.711Z"
   },
   {
    "duration": 41,
    "start_time": "2022-07-25T08:47:05.743Z"
   },
   {
    "duration": 1053,
    "start_time": "2022-07-25T08:47:43.613Z"
   },
   {
    "duration": 39,
    "start_time": "2022-07-25T08:47:44.668Z"
   },
   {
    "duration": 13,
    "start_time": "2022-07-25T08:47:44.708Z"
   },
   {
    "duration": 10,
    "start_time": "2022-07-25T08:47:44.723Z"
   },
   {
    "duration": 56,
    "start_time": "2022-07-25T08:47:44.734Z"
   },
   {
    "duration": 7,
    "start_time": "2022-07-25T08:47:44.792Z"
   },
   {
    "duration": 12,
    "start_time": "2022-07-25T08:47:44.801Z"
   },
   {
    "duration": 3,
    "start_time": "2022-07-25T08:47:44.814Z"
   },
   {
    "duration": 31,
    "start_time": "2022-07-25T08:47:44.818Z"
   },
   {
    "duration": 273,
    "start_time": "2022-07-25T08:47:44.852Z"
   },
   {
    "duration": 336,
    "start_time": "2022-07-25T08:47:45.127Z"
   },
   {
    "duration": 246,
    "start_time": "2022-07-25T08:47:45.464Z"
   },
   {
    "duration": 322,
    "start_time": "2022-07-25T08:47:45.711Z"
   },
   {
    "duration": 266,
    "start_time": "2022-07-25T08:47:46.035Z"
   },
   {
    "duration": 336,
    "start_time": "2022-07-25T08:47:46.303Z"
   },
   {
    "duration": 168,
    "start_time": "2022-07-25T08:47:46.641Z"
   },
   {
    "duration": 4,
    "start_time": "2022-07-25T08:47:46.812Z"
   },
   {
    "duration": 164,
    "start_time": "2022-07-25T08:47:46.817Z"
   },
   {
    "duration": 39,
    "start_time": "2022-07-25T08:47:46.983Z"
   },
   {
    "duration": 151,
    "start_time": "2022-07-25T08:47:47.023Z"
   },
   {
    "duration": 24,
    "start_time": "2022-07-25T08:47:47.175Z"
   },
   {
    "duration": 10,
    "start_time": "2022-07-25T08:47:47.200Z"
   },
   {
    "duration": 10,
    "start_time": "2022-07-25T08:47:47.212Z"
   },
   {
    "duration": 8,
    "start_time": "2022-07-25T08:47:47.223Z"
   },
   {
    "duration": 58,
    "start_time": "2022-07-25T08:47:47.233Z"
   },
   {
    "duration": 16,
    "start_time": "2022-07-25T08:47:47.293Z"
   },
   {
    "duration": 1398,
    "start_time": "2022-07-25T10:29:57.277Z"
   },
   {
    "duration": 80,
    "start_time": "2022-07-25T10:29:58.677Z"
   },
   {
    "duration": 13,
    "start_time": "2022-07-25T10:29:58.758Z"
   },
   {
    "duration": 10,
    "start_time": "2022-07-25T10:29:58.773Z"
   },
   {
    "duration": 104,
    "start_time": "2022-07-25T10:29:58.785Z"
   },
   {
    "duration": 8,
    "start_time": "2022-07-25T10:29:58.891Z"
   },
   {
    "duration": 13,
    "start_time": "2022-07-25T10:29:58.901Z"
   },
   {
    "duration": 19,
    "start_time": "2022-07-25T10:29:58.916Z"
   },
   {
    "duration": 89,
    "start_time": "2022-07-25T10:29:58.937Z"
   },
   {
    "duration": 321,
    "start_time": "2022-07-25T10:29:59.028Z"
   },
   {
    "duration": 385,
    "start_time": "2022-07-25T10:29:59.351Z"
   },
   {
    "duration": 302,
    "start_time": "2022-07-25T10:29:59.737Z"
   },
   {
    "duration": 372,
    "start_time": "2022-07-25T10:30:00.041Z"
   },
   {
    "duration": 317,
    "start_time": "2022-07-25T10:30:00.417Z"
   },
   {
    "duration": 367,
    "start_time": "2022-07-25T10:30:00.736Z"
   },
   {
    "duration": 188,
    "start_time": "2022-07-25T10:30:01.104Z"
   },
   {
    "duration": 4,
    "start_time": "2022-07-25T10:30:01.294Z"
   },
   {
    "duration": 197,
    "start_time": "2022-07-25T10:30:01.310Z"
   },
   {
    "duration": 52,
    "start_time": "2022-07-25T10:30:01.509Z"
   },
   {
    "duration": 157,
    "start_time": "2022-07-25T10:30:01.563Z"
   },
   {
    "duration": 28,
    "start_time": "2022-07-25T10:30:01.722Z"
   },
   {
    "duration": 12,
    "start_time": "2022-07-25T10:30:01.752Z"
   },
   {
    "duration": 61,
    "start_time": "2022-07-25T10:30:01.766Z"
   },
   {
    "duration": 57,
    "start_time": "2022-07-25T10:30:01.829Z"
   },
   {
    "duration": 92,
    "start_time": "2022-07-25T10:30:01.888Z"
   },
   {
    "duration": 48,
    "start_time": "2022-07-25T10:30:01.982Z"
   },
   {
    "duration": 1538,
    "start_time": "2022-08-05T16:47:01.397Z"
   }
  ],
  "kernelspec": {
   "display_name": "Python 3 (ipykernel)",
   "language": "python",
   "name": "python3"
  },
  "language_info": {
   "codemirror_mode": {
    "name": "ipython",
    "version": 3
   },
   "file_extension": ".py",
   "mimetype": "text/x-python",
   "name": "python",
   "nbconvert_exporter": "python",
   "pygments_lexer": "ipython3",
   "version": "3.9.7"
  },
  "toc": {
   "base_numbering": 1,
   "nav_menu": {},
   "number_sections": true,
   "sideBar": true,
   "skip_h1_title": true,
   "title_cell": "Table of Contents",
   "title_sidebar": "Contents",
   "toc_cell": false,
   "toc_position": {},
   "toc_section_display": true,
   "toc_window_display": false
  }
 },
 "nbformat": 4,
 "nbformat_minor": 2
}
